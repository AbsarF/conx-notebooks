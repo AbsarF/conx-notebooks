{
 "cells": [
  {
   "cell_type": "markdown",
   "metadata": {},
   "source": [
    "# XOR Multiple Inputs/Targets\n",
    "\n",
    "This notebook explores networks with multiple input and output banks."
   ]
  },
  {
   "cell_type": "code",
   "execution_count": 39,
   "metadata": {},
   "outputs": [],
   "source": [
    "import conx as cx"
   ]
  },
  {
   "cell_type": "code",
   "execution_count": 2,
   "metadata": {},
   "outputs": [],
   "source": [
    "net = cx.Network(\"XOR Network\", 2, 3, 1, activation=\"sigmoid\")"
   ]
  },
  {
   "cell_type": "code",
   "execution_count": 3,
   "metadata": {},
   "outputs": [],
   "source": [
    "net.compile(loss='mean_squared_error', optimizer='sgd', lr=0.3, momentum=0.9)"
   ]
  },
  {
   "cell_type": "code",
   "execution_count": 4,
   "metadata": {},
   "outputs": [],
   "source": [
    "XOR = [\n",
    "    ([0, 0], [0], \"0\"),\n",
    "    ([0, 1], [1], \"1\"),\n",
    "    ([1, 0], [1], \"1\"),\n",
    "    ([1, 1], [0], \"0\")\n",
    "]"
   ]
  },
  {
   "cell_type": "code",
   "execution_count": 5,
   "metadata": {},
   "outputs": [
    {
     "name": "stdout",
     "output_type": "stream",
     "text": [
      "_________________________________________________________________\n",
      "XOR Network Dataset:\n",
      "Patterns    Shape                 Range                         \n",
      "=================================================================\n",
      "inputs      (2,)                  (0.0, 1.0)                    \n",
      "targets     (1,)                  (0.0, 1.0)                    \n",
      "=================================================================\n",
      "Total patterns: 4\n",
      "   Training patterns: 4\n",
      "   Testing patterns: 0\n",
      "_________________________________________________________________\n"
     ]
    }
   ],
   "source": [
    "net.dataset.load(XOR)\n",
    "net.dataset.summary()"
   ]
  },
  {
   "cell_type": "code",
   "execution_count": 6,
   "metadata": {
    "scrolled": false
   },
   "outputs": [
    {
     "data": {
      "application/vnd.jupyter.widget-view+json": {
       "model_id": "9b2217d6e955429cb4be68a777f2137c",
       "version_major": 2,
       "version_minor": 0
      },
      "text/html": [
       "<p>Failed to display Jupyter Widget of type <code>Dashboard</code>.</p>\n",
       "<p>\n",
       "  If you're reading this message in the Jupyter Notebook or JupyterLab Notebook, it may mean\n",
       "  that the widgets JavaScript is still loading. If this message persists, it\n",
       "  likely means that the widgets JavaScript library is either not installed or\n",
       "  not enabled. See the <a href=\"https://ipywidgets.readthedocs.io/en/stable/user_install.html\">Jupyter\n",
       "  Widgets Documentation</a> for setup instructions.\n",
       "</p>\n",
       "<p>\n",
       "  If you're reading this message in another frontend (for example, a static\n",
       "  rendering on GitHub or <a href=\"https://nbviewer.jupyter.org/\">NBViewer</a>),\n",
       "  it may mean that your frontend doesn't currently support widgets.\n",
       "</p>\n"
      ],
      "text/plain": [
       "Dashboard(children=(Accordion(children=(HBox(children=(VBox(children=(Select(description='Dataset:', index=1, options=('Test', 'Train'), rows=1, value='Train'), FloatSlider(value=0.5, continuous_update=False, description='Zoom', layout=Layout(width='65%'), max=1.0, style=SliderStyle(description_width='initial')), IntText(value=150, description='Horizontal space between banks:', style=DescriptionStyle(description_width='initial')), IntText(value=30, description='Vertical space between layers:', style=DescriptionStyle(description_width='initial')), HBox(children=(Checkbox(value=False, description='Show Targets', style=DescriptionStyle(description_width='initial')), Checkbox(value=False, description='Errors', style=DescriptionStyle(description_width='initial')))), Select(description='Features:', options=('',), rows=1, value=''), IntText(value=3, description='Feature columns:', style=DescriptionStyle(description_width='initial')), FloatText(value=1.0, description='Feature scale:', style=DescriptionStyle(description_width='initial'))), layout=Layout(width='100%')), VBox(children=(Select(description='Layer:', index=2, options=('input', 'hidden', 'output'), rows=1, value='output'), Checkbox(value=True, description='Visible'), Select(description='Colormap:', options=('', 'Accent', 'Accent_r', 'Blues', 'Blues_r', 'BrBG', 'BrBG_r', 'BuGn', 'BuGn_r', 'BuPu', 'BuPu_r', 'CMRmap', 'CMRmap_r', 'Dark2', 'Dark2_r', 'GnBu', 'GnBu_r', 'Greens', 'Greens_r', 'Greys', 'Greys_r', 'OrRd', 'OrRd_r', 'Oranges', 'Oranges_r', 'PRGn', 'PRGn_r', 'Paired', 'Paired_r', 'Pastel1', 'Pastel1_r', 'Pastel2', 'Pastel2_r', 'PiYG', 'PiYG_r', 'PuBu', 'PuBuGn', 'PuBuGn_r', 'PuBu_r', 'PuOr', 'PuOr_r', 'PuRd', 'PuRd_r', 'Purples', 'Purples_r', 'RdBu', 'RdBu_r', 'RdGy', 'RdGy_r', 'RdPu', 'RdPu_r', 'RdYlBu', 'RdYlBu_r', 'RdYlGn', 'RdYlGn_r', 'Reds', 'Reds_r', 'Set1', 'Set1_r', 'Set2', 'Set2_r', 'Set3', 'Set3_r', 'Spectral', 'Spectral_r', 'Vega10', 'Vega10_r', 'Vega20', 'Vega20_r', 'Vega20b', 'Vega20b_r', 'Vega20c', 'Vega20c_r', 'Wistia', 'Wistia_r', 'YlGn', 'YlGnBu', 'YlGnBu_r', 'YlGn_r', 'YlOrBr', 'YlOrBr_r', 'YlOrRd', 'YlOrRd_r', 'afmhot', 'afmhot_r', 'autumn', 'autumn_r', 'binary', 'binary_r', 'bone', 'bone_r', 'brg', 'brg_r', 'bwr', 'bwr_r', 'cool', 'cool_r', 'coolwarm', 'coolwarm_r', 'copper', 'copper_r', 'cubehelix', 'cubehelix_r', 'flag', 'flag_r', 'gist_earth', 'gist_earth_r', 'gist_gray', 'gist_gray_r', 'gist_heat', 'gist_heat_r', 'gist_ncar', 'gist_ncar_r', 'gist_rainbow', 'gist_rainbow_r', 'gist_stern', 'gist_stern_r', 'gist_yarg', 'gist_yarg_r', 'gnuplot', 'gnuplot2', 'gnuplot2_r', 'gnuplot_r', 'gray', 'gray_r', 'hot', 'hot_r', 'hsv', 'hsv_r', 'inferno', 'inferno_r', 'jet', 'jet_r', 'magma', 'magma_r', 'nipy_spectral', 'nipy_spectral_r', 'ocean', 'ocean_r', 'pink', 'pink_r', 'plasma', 'plasma_r', 'prism', 'prism_r', 'rainbow', 'rainbow_r', 'seismic', 'seismic_r', 'spectral', 'spectral_r', 'spring', 'spring_r', 'summer', 'summer_r', 'tab10', 'tab10_r', 'tab20', 'tab20_r', 'tab20b', 'tab20b_r', 'tab20c', 'tab20c_r', 'terrain', 'terrain_r', 'viridis', 'viridis_r', 'winter', 'winter_r'), rows=1, value=''), HTML(value='<img src=\"data:image/gif;base64,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\"/>'), FloatText(value=0.0, description='Leftmost color maps to:', style=DescriptionStyle(description_width='initial')), FloatText(value=1.0, description='Rightmost color maps to:', style=DescriptionStyle(description_width='initial')), IntText(value=0, description='Feature to show:', style=DescriptionStyle(description_width='initial')), HBox(children=(Checkbox(value=False, description='Rotate network', layout=Layout(width='52%'), style=DescriptionStyle(description_width='initial')), Button(icon='save', layout=Layout(width='10%'), style=ButtonStyle())))), layout=Layout(width='100%')))),), selected_index=None, _titles={'0': 'XOR Network'}), VBox(children=(HBox(children=(IntSlider(value=0, continuous_update=False, description='Dataset index', layout=Layout(width='100%'), max=3), Label(value='of 4', layout=Layout(width='100px'))), layout=Layout(height='40px')), HBox(children=(Button(icon='fast-backward', layout=Layout(width='100%'), style=ButtonStyle()), Button(icon='backward', layout=Layout(width='100%'), style=ButtonStyle()), IntText(value=0, layout=Layout(width='100%')), Button(icon='forward', layout=Layout(width='100%'), style=ButtonStyle()), Button(icon='fast-forward', layout=Layout(width='100%'), style=ButtonStyle()), Button(description='Play', icon='play', layout=Layout(width='100%'), style=ButtonStyle()), Button(icon='refresh', layout=Layout(width='25%'), style=ButtonStyle())), layout=Layout(height='50px', width='100%'))), layout=Layout(width='100%')), HTML(value='<p style=\"text-align:center\"></p>', layout=Layout(justify_content='center', overflow_x='auto', overflow_y='auto', width='95%')), Output()))"
      ]
     },
     "metadata": {},
     "output_type": "display_data"
    },
    {
     "data": {
      "application/javascript": [
       "\n",
       "require(['base/js/namespace'], function(Jupyter) {\n",
       "    Jupyter.notebook.kernel.comm_manager.register_target('conx_svg_control', function(comm, msg) {\n",
       "        comm.on_msg(function(msg) {\n",
       "            var data = msg[\"content\"][\"data\"];\n",
       "            var images = document.getElementsByClassName(data[\"class\"]);\n",
       "            for (var i = 0; i < images.length; i++) {\n",
       "                if (data[\"href\"]) {\n",
       "                    images[i].setAttributeNS(null, \"href\", data[\"href\"]);\n",
       "                }\n",
       "                if (data[\"src\"]) {\n",
       "                    images[i].setAttributeNS(null, \"src\", data[\"src\"]);\n",
       "                }\n",
       "            }\n",
       "        });\n",
       "    });\n",
       "});\n"
      ],
      "text/plain": [
       "<IPython.core.display.Javascript object>"
      ]
     },
     "metadata": {},
     "output_type": "display_data"
    }
   ],
   "source": [
    "dash = net.dashboard()\n",
    "dash"
   ]
  },
  {
   "cell_type": "code",
   "execution_count": 7,
   "metadata": {},
   "outputs": [
    {
     "data": {
      "text/plain": [
       "[0.3950902223587036]"
      ]
     },
     "execution_count": 7,
     "metadata": {},
     "output_type": "execute_result"
    }
   ],
   "source": [
    "net.propagate([0, 1])"
   ]
  },
  {
   "cell_type": "code",
   "execution_count": 8,
   "metadata": {},
   "outputs": [
    {
     "data": {
      "image/svg+xml": [
       "<svg height=\"288pt\" version=\"1.1\" viewBox=\"0 0 720 288\" width=\"720pt\" xmlns=\"http://www.w3.org/2000/svg\" xmlns:xlink=\"http://www.w3.org/1999/xlink\">\n",
       " <defs>\n",
       "  <style type=\"text/css\">\n",
       "*{stroke-linecap:butt;stroke-linejoin:round;}\n",
       "  </style>\n",
       " </defs>\n",
       " <g id=\"figure_1\">\n",
       "  <g id=\"patch_1\">\n",
       "   <path d=\"M 0 288  L 720 288  L 720 0  L 0 0  z \" style=\"fill:#ffffff;\"/>\n",
       "  </g>\n",
       "  <g id=\"axes_1\">\n",
       "   <g id=\"patch_2\">\n",
       "    <path d=\"M 90 252  L 343.636364 252  L 343.636364 34.56  L 90 34.56  z \" style=\"fill:#ffffff;\"/>\n",
       "   </g>\n",
       "   <g id=\"matplotlib.axis_1\">\n",
       "    <g id=\"xtick_1\">\n",
       "     <g id=\"line2d_1\">\n",
       "      <defs>\n",
       "       <path d=\"M 0 0  L 0 3.5  \" id=\"m4dabb5e23e\" style=\"stroke:#000000;stroke-width:0.8;\"/>\n",
       "      </defs>\n",
       "      <g>\n",
       "       <use style=\"stroke:#000000;stroke-width:0.8;\" x=\"101.528926\" xlink:href=\"#m4dabb5e23e\" y=\"252\"/>\n",
       "      </g>\n",
       "     </g>\n",
       "     <g id=\"text_1\">\n",
       "      <!-- 0 -->\n",
       "      <defs>\n",
       "       <path d=\"M 31.78125 66.40625  Q 24.171875 66.40625 20.328125 58.90625  Q 16.5 51.421875 16.5 36.375  Q 16.5 21.390625 20.328125 13.890625  Q 24.171875 6.390625 31.78125 6.390625  Q 39.453125 6.390625 43.28125 13.890625  Q 47.125 21.390625 47.125 36.375  Q 47.125 51.421875 43.28125 58.90625  Q 39.453125 66.40625 31.78125 66.40625  z M 31.78125 74.21875  Q 44.046875 74.21875 50.515625 64.515625  Q 56.984375 54.828125 56.984375 36.375  Q 56.984375 17.96875 50.515625 8.265625  Q 44.046875 -1.421875 31.78125 -1.421875  Q 19.53125 -1.421875 13.0625 8.265625  Q 6.59375 17.96875 6.59375 36.375  Q 6.59375 54.828125 13.0625 64.515625  Q 19.53125 74.21875 31.78125 74.21875  z \" id=\"DejaVuSans-30\"/>\n",
       "      </defs>\n",
       "      <g transform=\"translate(98.347676 266.598437)scale(0.1 -0.1)\">\n",
       "       <use xlink:href=\"#DejaVuSans-30\"/>\n",
       "      </g>\n",
       "     </g>\n",
       "    </g>\n",
       "    <g id=\"xtick_2\">\n",
       "     <g id=\"line2d_2\">\n",
       "      <g>\n",
       "       <use style=\"stroke:#000000;stroke-width:0.8;\" x=\"137.333042\" xlink:href=\"#m4dabb5e23e\" y=\"252\"/>\n",
       "      </g>\n",
       "     </g>\n",
       "     <g id=\"text_2\">\n",
       "      <!-- 100 -->\n",
       "      <defs>\n",
       "       <path d=\"M 12.40625 8.296875  L 28.515625 8.296875  L 28.515625 63.921875  L 10.984375 60.40625  L 10.984375 69.390625  L 28.421875 72.90625  L 38.28125 72.90625  L 38.28125 8.296875  L 54.390625 8.296875  L 54.390625 0  L 12.40625 0  z \" id=\"DejaVuSans-31\"/>\n",
       "      </defs>\n",
       "      <g transform=\"translate(127.789292 266.598437)scale(0.1 -0.1)\">\n",
       "       <use xlink:href=\"#DejaVuSans-31\"/>\n",
       "       <use x=\"63.623047\" xlink:href=\"#DejaVuSans-30\"/>\n",
       "       <use x=\"127.246094\" xlink:href=\"#DejaVuSans-30\"/>\n",
       "      </g>\n",
       "     </g>\n",
       "    </g>\n",
       "    <g id=\"xtick_3\">\n",
       "     <g id=\"line2d_3\">\n",
       "      <g>\n",
       "       <use style=\"stroke:#000000;stroke-width:0.8;\" x=\"173.137159\" xlink:href=\"#m4dabb5e23e\" y=\"252\"/>\n",
       "      </g>\n",
       "     </g>\n",
       "     <g id=\"text_3\">\n",
       "      <!-- 200 -->\n",
       "      <defs>\n",
       "       <path d=\"M 19.1875 8.296875  L 53.609375 8.296875  L 53.609375 0  L 7.328125 0  L 7.328125 8.296875  Q 12.9375 14.109375 22.625 23.890625  Q 32.328125 33.6875 34.8125 36.53125  Q 39.546875 41.84375 41.421875 45.53125  Q 43.3125 49.21875 43.3125 52.78125  Q 43.3125 58.59375 39.234375 62.25  Q 35.15625 65.921875 28.609375 65.921875  Q 23.96875 65.921875 18.8125 64.3125  Q 13.671875 62.703125 7.8125 59.421875  L 7.8125 69.390625  Q 13.765625 71.78125 18.9375 73  Q 24.125 74.21875 28.421875 74.21875  Q 39.75 74.21875 46.484375 68.546875  Q 53.21875 62.890625 53.21875 53.421875  Q 53.21875 48.921875 51.53125 44.890625  Q 49.859375 40.875 45.40625 35.40625  Q 44.1875 33.984375 37.640625 27.21875  Q 31.109375 20.453125 19.1875 8.296875  z \" id=\"DejaVuSans-32\"/>\n",
       "      </defs>\n",
       "      <g transform=\"translate(163.593409 266.598437)scale(0.1 -0.1)\">\n",
       "       <use xlink:href=\"#DejaVuSans-32\"/>\n",
       "       <use x=\"63.623047\" xlink:href=\"#DejaVuSans-30\"/>\n",
       "       <use x=\"127.246094\" xlink:href=\"#DejaVuSans-30\"/>\n",
       "      </g>\n",
       "     </g>\n",
       "    </g>\n",
       "    <g id=\"xtick_4\">\n",
       "     <g id=\"line2d_4\">\n",
       "      <g>\n",
       "       <use style=\"stroke:#000000;stroke-width:0.8;\" x=\"208.941276\" xlink:href=\"#m4dabb5e23e\" y=\"252\"/>\n",
       "      </g>\n",
       "     </g>\n",
       "     <g id=\"text_4\">\n",
       "      <!-- 300 -->\n",
       "      <defs>\n",
       "       <path d=\"M 40.578125 39.3125  Q 47.65625 37.796875 51.625 33  Q 55.609375 28.21875 55.609375 21.1875  Q 55.609375 10.40625 48.1875 4.484375  Q 40.765625 -1.421875 27.09375 -1.421875  Q 22.515625 -1.421875 17.65625 -0.515625  Q 12.796875 0.390625 7.625 2.203125  L 7.625 11.71875  Q 11.71875 9.328125 16.59375 8.109375  Q 21.484375 6.890625 26.8125 6.890625  Q 36.078125 6.890625 40.9375 10.546875  Q 45.796875 14.203125 45.796875 21.1875  Q 45.796875 27.640625 41.28125 31.265625  Q 36.765625 34.90625 28.71875 34.90625  L 20.21875 34.90625  L 20.21875 43.015625  L 29.109375 43.015625  Q 36.375 43.015625 40.234375 45.921875  Q 44.09375 48.828125 44.09375 54.296875  Q 44.09375 59.90625 40.109375 62.90625  Q 36.140625 65.921875 28.71875 65.921875  Q 24.65625 65.921875 20.015625 65.03125  Q 15.375 64.15625 9.8125 62.3125  L 9.8125 71.09375  Q 15.4375 72.65625 20.34375 73.4375  Q 25.25 74.21875 29.59375 74.21875  Q 40.828125 74.21875 47.359375 69.109375  Q 53.90625 64.015625 53.90625 55.328125  Q 53.90625 49.265625 50.4375 45.09375  Q 46.96875 40.921875 40.578125 39.3125  z \" id=\"DejaVuSans-33\"/>\n",
       "      </defs>\n",
       "      <g transform=\"translate(199.397526 266.598437)scale(0.1 -0.1)\">\n",
       "       <use xlink:href=\"#DejaVuSans-33\"/>\n",
       "       <use x=\"63.623047\" xlink:href=\"#DejaVuSans-30\"/>\n",
       "       <use x=\"127.246094\" xlink:href=\"#DejaVuSans-30\"/>\n",
       "      </g>\n",
       "     </g>\n",
       "    </g>\n",
       "    <g id=\"xtick_5\">\n",
       "     <g id=\"line2d_5\">\n",
       "      <g>\n",
       "       <use style=\"stroke:#000000;stroke-width:0.8;\" x=\"244.745393\" xlink:href=\"#m4dabb5e23e\" y=\"252\"/>\n",
       "      </g>\n",
       "     </g>\n",
       "     <g id=\"text_5\">\n",
       "      <!-- 400 -->\n",
       "      <defs>\n",
       "       <path d=\"M 37.796875 64.3125  L 12.890625 25.390625  L 37.796875 25.390625  z M 35.203125 72.90625  L 47.609375 72.90625  L 47.609375 25.390625  L 58.015625 25.390625  L 58.015625 17.1875  L 47.609375 17.1875  L 47.609375 0  L 37.796875 0  L 37.796875 17.1875  L 4.890625 17.1875  L 4.890625 26.703125  z \" id=\"DejaVuSans-34\"/>\n",
       "      </defs>\n",
       "      <g transform=\"translate(235.201643 266.598437)scale(0.1 -0.1)\">\n",
       "       <use xlink:href=\"#DejaVuSans-34\"/>\n",
       "       <use x=\"63.623047\" xlink:href=\"#DejaVuSans-30\"/>\n",
       "       <use x=\"127.246094\" xlink:href=\"#DejaVuSans-30\"/>\n",
       "      </g>\n",
       "     </g>\n",
       "    </g>\n",
       "    <g id=\"xtick_6\">\n",
       "     <g id=\"line2d_6\">\n",
       "      <g>\n",
       "       <use style=\"stroke:#000000;stroke-width:0.8;\" x=\"280.54951\" xlink:href=\"#m4dabb5e23e\" y=\"252\"/>\n",
       "      </g>\n",
       "     </g>\n",
       "     <g id=\"text_6\">\n",
       "      <!-- 500 -->\n",
       "      <defs>\n",
       "       <path d=\"M 10.796875 72.90625  L 49.515625 72.90625  L 49.515625 64.59375  L 19.828125 64.59375  L 19.828125 46.734375  Q 21.96875 47.46875 24.109375 47.828125  Q 26.265625 48.1875 28.421875 48.1875  Q 40.625 48.1875 47.75 41.5  Q 54.890625 34.8125 54.890625 23.390625  Q 54.890625 11.625 47.5625 5.09375  Q 40.234375 -1.421875 26.90625 -1.421875  Q 22.3125 -1.421875 17.546875 -0.640625  Q 12.796875 0.140625 7.71875 1.703125  L 7.71875 11.625  Q 12.109375 9.234375 16.796875 8.0625  Q 21.484375 6.890625 26.703125 6.890625  Q 35.15625 6.890625 40.078125 11.328125  Q 45.015625 15.765625 45.015625 23.390625  Q 45.015625 31 40.078125 35.4375  Q 35.15625 39.890625 26.703125 39.890625  Q 22.75 39.890625 18.8125 39.015625  Q 14.890625 38.140625 10.796875 36.28125  z \" id=\"DejaVuSans-35\"/>\n",
       "      </defs>\n",
       "      <g transform=\"translate(271.00576 266.598437)scale(0.1 -0.1)\">\n",
       "       <use xlink:href=\"#DejaVuSans-35\"/>\n",
       "       <use x=\"63.623047\" xlink:href=\"#DejaVuSans-30\"/>\n",
       "       <use x=\"127.246094\" xlink:href=\"#DejaVuSans-30\"/>\n",
       "      </g>\n",
       "     </g>\n",
       "    </g>\n",
       "    <g id=\"xtick_7\">\n",
       "     <g id=\"line2d_7\">\n",
       "      <g>\n",
       "       <use style=\"stroke:#000000;stroke-width:0.8;\" x=\"316.353627\" xlink:href=\"#m4dabb5e23e\" y=\"252\"/>\n",
       "      </g>\n",
       "     </g>\n",
       "     <g id=\"text_7\">\n",
       "      <!-- 600 -->\n",
       "      <defs>\n",
       "       <path d=\"M 33.015625 40.375  Q 26.375 40.375 22.484375 35.828125  Q 18.609375 31.296875 18.609375 23.390625  Q 18.609375 15.53125 22.484375 10.953125  Q 26.375 6.390625 33.015625 6.390625  Q 39.65625 6.390625 43.53125 10.953125  Q 47.40625 15.53125 47.40625 23.390625  Q 47.40625 31.296875 43.53125 35.828125  Q 39.65625 40.375 33.015625 40.375  z M 52.59375 71.296875  L 52.59375 62.3125  Q 48.875 64.0625 45.09375 64.984375  Q 41.3125 65.921875 37.59375 65.921875  Q 27.828125 65.921875 22.671875 59.328125  Q 17.53125 52.734375 16.796875 39.40625  Q 19.671875 43.65625 24.015625 45.921875  Q 28.375 48.1875 33.59375 48.1875  Q 44.578125 48.1875 50.953125 41.515625  Q 57.328125 34.859375 57.328125 23.390625  Q 57.328125 12.15625 50.6875 5.359375  Q 44.046875 -1.421875 33.015625 -1.421875  Q 20.359375 -1.421875 13.671875 8.265625  Q 6.984375 17.96875 6.984375 36.375  Q 6.984375 53.65625 15.1875 63.9375  Q 23.390625 74.21875 37.203125 74.21875  Q 40.921875 74.21875 44.703125 73.484375  Q 48.484375 72.75 52.59375 71.296875  z \" id=\"DejaVuSans-36\"/>\n",
       "      </defs>\n",
       "      <g transform=\"translate(306.809877 266.598437)scale(0.1 -0.1)\">\n",
       "       <use xlink:href=\"#DejaVuSans-36\"/>\n",
       "       <use x=\"63.623047\" xlink:href=\"#DejaVuSans-30\"/>\n",
       "       <use x=\"127.246094\" xlink:href=\"#DejaVuSans-30\"/>\n",
       "      </g>\n",
       "     </g>\n",
       "    </g>\n",
       "    <g id=\"text_8\">\n",
       "     <!-- Epoch -->\n",
       "     <defs>\n",
       "      <path d=\"M 9.8125 72.90625  L 55.90625 72.90625  L 55.90625 64.59375  L 19.671875 64.59375  L 19.671875 43.015625  L 54.390625 43.015625  L 54.390625 34.71875  L 19.671875 34.71875  L 19.671875 8.296875  L 56.78125 8.296875  L 56.78125 0  L 9.8125 0  z \" id=\"DejaVuSans-45\"/>\n",
       "      <path d=\"M 18.109375 8.203125  L 18.109375 -20.796875  L 9.078125 -20.796875  L 9.078125 54.6875  L 18.109375 54.6875  L 18.109375 46.390625  Q 20.953125 51.265625 25.265625 53.625  Q 29.59375 56 35.59375 56  Q 45.5625 56 51.78125 48.09375  Q 58.015625 40.1875 58.015625 27.296875  Q 58.015625 14.40625 51.78125 6.484375  Q 45.5625 -1.421875 35.59375 -1.421875  Q 29.59375 -1.421875 25.265625 0.953125  Q 20.953125 3.328125 18.109375 8.203125  z M 48.6875 27.296875  Q 48.6875 37.203125 44.609375 42.84375  Q 40.53125 48.484375 33.40625 48.484375  Q 26.265625 48.484375 22.1875 42.84375  Q 18.109375 37.203125 18.109375 27.296875  Q 18.109375 17.390625 22.1875 11.75  Q 26.265625 6.109375 33.40625 6.109375  Q 40.53125 6.109375 44.609375 11.75  Q 48.6875 17.390625 48.6875 27.296875  z \" id=\"DejaVuSans-70\"/>\n",
       "      <path d=\"M 30.609375 48.390625  Q 23.390625 48.390625 19.1875 42.75  Q 14.984375 37.109375 14.984375 27.296875  Q 14.984375 17.484375 19.15625 11.84375  Q 23.34375 6.203125 30.609375 6.203125  Q 37.796875 6.203125 41.984375 11.859375  Q 46.1875 17.53125 46.1875 27.296875  Q 46.1875 37.015625 41.984375 42.703125  Q 37.796875 48.390625 30.609375 48.390625  z M 30.609375 56  Q 42.328125 56 49.015625 48.375  Q 55.71875 40.765625 55.71875 27.296875  Q 55.71875 13.875 49.015625 6.21875  Q 42.328125 -1.421875 30.609375 -1.421875  Q 18.84375 -1.421875 12.171875 6.21875  Q 5.515625 13.875 5.515625 27.296875  Q 5.515625 40.765625 12.171875 48.375  Q 18.84375 56 30.609375 56  z \" id=\"DejaVuSans-6f\"/>\n",
       "      <path d=\"M 48.78125 52.59375  L 48.78125 44.1875  Q 44.96875 46.296875 41.140625 47.34375  Q 37.3125 48.390625 33.40625 48.390625  Q 24.65625 48.390625 19.8125 42.84375  Q 14.984375 37.3125 14.984375 27.296875  Q 14.984375 17.28125 19.8125 11.734375  Q 24.65625 6.203125 33.40625 6.203125  Q 37.3125 6.203125 41.140625 7.25  Q 44.96875 8.296875 48.78125 10.40625  L 48.78125 2.09375  Q 45.015625 0.34375 40.984375 -0.53125  Q 36.96875 -1.421875 32.421875 -1.421875  Q 20.0625 -1.421875 12.78125 6.34375  Q 5.515625 14.109375 5.515625 27.296875  Q 5.515625 40.671875 12.859375 48.328125  Q 20.21875 56 33.015625 56  Q 37.15625 56 41.109375 55.140625  Q 45.0625 54.296875 48.78125 52.59375  z \" id=\"DejaVuSans-63\"/>\n",
       "      <path d=\"M 54.890625 33.015625  L 54.890625 0  L 45.90625 0  L 45.90625 32.71875  Q 45.90625 40.484375 42.875 44.328125  Q 39.84375 48.1875 33.796875 48.1875  Q 26.515625 48.1875 22.3125 43.546875  Q 18.109375 38.921875 18.109375 30.90625  L 18.109375 0  L 9.078125 0  L 9.078125 75.984375  L 18.109375 75.984375  L 18.109375 46.1875  Q 21.34375 51.125 25.703125 53.5625  Q 30.078125 56 35.796875 56  Q 45.21875 56 50.046875 50.171875  Q 54.890625 44.34375 54.890625 33.015625  z \" id=\"DejaVuSans-68\"/>\n",
       "     </defs>\n",
       "     <g transform=\"translate(201.507244 280.276563)scale(0.1 -0.1)\">\n",
       "      <use xlink:href=\"#DejaVuSans-45\"/>\n",
       "      <use x=\"63.183594\" xlink:href=\"#DejaVuSans-70\"/>\n",
       "      <use x=\"126.660156\" xlink:href=\"#DejaVuSans-6f\"/>\n",
       "      <use x=\"187.841797\" xlink:href=\"#DejaVuSans-63\"/>\n",
       "      <use x=\"242.822266\" xlink:href=\"#DejaVuSans-68\"/>\n",
       "     </g>\n",
       "    </g>\n",
       "   </g>\n",
       "   <g id=\"matplotlib.axis_2\">\n",
       "    <g id=\"ytick_1\">\n",
       "     <g id=\"line2d_8\">\n",
       "      <defs>\n",
       "       <path d=\"M 0 0  L -3.5 0  \" id=\"m246a860052\" style=\"stroke:#000000;stroke-width:0.8;\"/>\n",
       "      </defs>\n",
       "      <g>\n",
       "       <use style=\"stroke:#000000;stroke-width:0.8;\" x=\"90\" xlink:href=\"#m246a860052\" y=\"252\"/>\n",
       "      </g>\n",
       "     </g>\n",
       "     <g id=\"text_9\">\n",
       "      <!-- 0.00 -->\n",
       "      <defs>\n",
       "       <path d=\"M 10.6875 12.40625  L 21 12.40625  L 21 0  L 10.6875 0  z \" id=\"DejaVuSans-2e\"/>\n",
       "      </defs>\n",
       "      <g transform=\"translate(60.734375 255.799219)scale(0.1 -0.1)\">\n",
       "       <use xlink:href=\"#DejaVuSans-30\"/>\n",
       "       <use x=\"63.623047\" xlink:href=\"#DejaVuSans-2e\"/>\n",
       "       <use x=\"95.410156\" xlink:href=\"#DejaVuSans-30\"/>\n",
       "       <use x=\"159.033203\" xlink:href=\"#DejaVuSans-30\"/>\n",
       "      </g>\n",
       "     </g>\n",
       "    </g>\n",
       "    <g id=\"ytick_2\">\n",
       "     <g id=\"line2d_9\">\n",
       "      <g>\n",
       "       <use style=\"stroke:#000000;stroke-width:0.8;\" x=\"90\" xlink:href=\"#m246a860052\" y=\"211.777904\"/>\n",
       "      </g>\n",
       "     </g>\n",
       "     <g id=\"text_10\">\n",
       "      <!-- 0.05 -->\n",
       "      <g transform=\"translate(60.734375 215.577123)scale(0.1 -0.1)\">\n",
       "       <use xlink:href=\"#DejaVuSans-30\"/>\n",
       "       <use x=\"63.623047\" xlink:href=\"#DejaVuSans-2e\"/>\n",
       "       <use x=\"95.410156\" xlink:href=\"#DejaVuSans-30\"/>\n",
       "       <use x=\"159.033203\" xlink:href=\"#DejaVuSans-35\"/>\n",
       "      </g>\n",
       "     </g>\n",
       "    </g>\n",
       "    <g id=\"ytick_3\">\n",
       "     <g id=\"line2d_10\">\n",
       "      <g>\n",
       "       <use style=\"stroke:#000000;stroke-width:0.8;\" x=\"90\" xlink:href=\"#m246a860052\" y=\"171.555809\"/>\n",
       "      </g>\n",
       "     </g>\n",
       "     <g id=\"text_11\">\n",
       "      <!-- 0.10 -->\n",
       "      <g transform=\"translate(60.734375 175.355028)scale(0.1 -0.1)\">\n",
       "       <use xlink:href=\"#DejaVuSans-30\"/>\n",
       "       <use x=\"63.623047\" xlink:href=\"#DejaVuSans-2e\"/>\n",
       "       <use x=\"95.410156\" xlink:href=\"#DejaVuSans-31\"/>\n",
       "       <use x=\"159.033203\" xlink:href=\"#DejaVuSans-30\"/>\n",
       "      </g>\n",
       "     </g>\n",
       "    </g>\n",
       "    <g id=\"ytick_4\">\n",
       "     <g id=\"line2d_11\">\n",
       "      <g>\n",
       "       <use style=\"stroke:#000000;stroke-width:0.8;\" x=\"90\" xlink:href=\"#m246a860052\" y=\"131.333713\"/>\n",
       "      </g>\n",
       "     </g>\n",
       "     <g id=\"text_12\">\n",
       "      <!-- 0.15 -->\n",
       "      <g transform=\"translate(60.734375 135.132932)scale(0.1 -0.1)\">\n",
       "       <use xlink:href=\"#DejaVuSans-30\"/>\n",
       "       <use x=\"63.623047\" xlink:href=\"#DejaVuSans-2e\"/>\n",
       "       <use x=\"95.410156\" xlink:href=\"#DejaVuSans-31\"/>\n",
       "       <use x=\"159.033203\" xlink:href=\"#DejaVuSans-35\"/>\n",
       "      </g>\n",
       "     </g>\n",
       "    </g>\n",
       "    <g id=\"ytick_5\">\n",
       "     <g id=\"line2d_12\">\n",
       "      <g>\n",
       "       <use style=\"stroke:#000000;stroke-width:0.8;\" x=\"90\" xlink:href=\"#m246a860052\" y=\"91.111618\"/>\n",
       "      </g>\n",
       "     </g>\n",
       "     <g id=\"text_13\">\n",
       "      <!-- 0.20 -->\n",
       "      <g transform=\"translate(60.734375 94.910837)scale(0.1 -0.1)\">\n",
       "       <use xlink:href=\"#DejaVuSans-30\"/>\n",
       "       <use x=\"63.623047\" xlink:href=\"#DejaVuSans-2e\"/>\n",
       "       <use x=\"95.410156\" xlink:href=\"#DejaVuSans-32\"/>\n",
       "       <use x=\"159.033203\" xlink:href=\"#DejaVuSans-30\"/>\n",
       "      </g>\n",
       "     </g>\n",
       "    </g>\n",
       "    <g id=\"ytick_6\">\n",
       "     <g id=\"line2d_13\">\n",
       "      <g>\n",
       "       <use style=\"stroke:#000000;stroke-width:0.8;\" x=\"90\" xlink:href=\"#m246a860052\" y=\"50.889522\"/>\n",
       "      </g>\n",
       "     </g>\n",
       "     <g id=\"text_14\">\n",
       "      <!-- 0.25 -->\n",
       "      <g transform=\"translate(60.734375 54.688741)scale(0.1 -0.1)\">\n",
       "       <use xlink:href=\"#DejaVuSans-30\"/>\n",
       "       <use x=\"63.623047\" xlink:href=\"#DejaVuSans-2e\"/>\n",
       "       <use x=\"95.410156\" xlink:href=\"#DejaVuSans-32\"/>\n",
       "       <use x=\"159.033203\" xlink:href=\"#DejaVuSans-35\"/>\n",
       "      </g>\n",
       "     </g>\n",
       "    </g>\n",
       "   </g>\n",
       "   <g id=\"line2d_14\">\n",
       "    <path clip-path=\"url(#p457d7de83f)\" d=\"M 101.528926 44.659266  L 101.886967 44.659266  L 102.245008 45.297604  L 103.677173 49.614644  L 104.035214 50.05836  L 104.393255 50.109497  L 104.751296 49.868532  L 105.82542 48.85025  L 106.183461 48.780221  L 106.541502 48.901051  L 107.257584 49.521816  L 107.973667 50.164829  L 108.689749 50.42682  L 109.405831 50.328477  L 110.479955 50.130426  L 111.196037 50.225916  L 112.986243 50.645968  L 123.727478 50.89397  L 169.914789 51.60127  L 177.791694 52.013926  L 183.520353 52.516354  L 188.174888 53.145139  L 191.7553 53.840667  L 194.977671 54.696523  L 197.842 55.707841  L 200.348288 56.84549  L 202.496535 58.053792  L 204.644782 59.519025  L 206.793029 61.281623  L 208.941276 63.380136  L 211.089523 65.847864  L 213.23777 68.709813  L 215.386017 71.979191  L 217.534264 75.653998  L 220.040552 80.423289  L 222.904882 86.411538  L 227.201376 96.043272  L 232.571993 108.044751  L 236.152405 115.519175  L 241.881064 126.832018  L 245.103434 133.459876  L 247.251681 138.317104  L 249.399928 143.739262  L 251.190134 148.813385  L 252.98034 154.465425  L 255.128587 162.015458  L 257.992916 173.09879  L 263.005493 192.743669  L 265.15374 200.203822  L 266.943945 205.72398  L 268.734151 210.58592  L 270.524357 214.823303  L 272.314563 218.498056  L 274.104769 221.681299  L 275.894975 224.442349  L 277.68518 226.843692  L 279.833427 229.326242  L 281.981674 231.446713  L 284.129921 233.268695  L 286.63621 235.085055  L 289.142498 236.629573  L 292.006827 238.12649  L 295.229198 239.537603  L 298.809609 240.839563  L 302.748062 242.021352  L 307.044556 243.081165  L 312.057133 244.088527  L 317.785791 245.014572  L 324.588573 245.886809  L 332.107438 246.644576  L 332.107438 246.644576  \" style=\"fill:none;stroke:#1f77b4;stroke-linecap:square;stroke-width:1.5;\"/>\n",
       "   </g>\n",
       "   <g id=\"patch_3\">\n",
       "    <path d=\"M 90 252  L 90 34.56  \" style=\"fill:none;stroke:#000000;stroke-linecap:square;stroke-linejoin:miter;stroke-width:0.8;\"/>\n",
       "   </g>\n",
       "   <g id=\"patch_4\">\n",
       "    <path d=\"M 343.636364 252  L 343.636364 34.56  \" style=\"fill:none;stroke:#000000;stroke-linecap:square;stroke-linejoin:miter;stroke-width:0.8;\"/>\n",
       "   </g>\n",
       "   <g id=\"patch_5\">\n",
       "    <path d=\"M 90 252  L 343.636364 252  \" style=\"fill:none;stroke:#000000;stroke-linecap:square;stroke-linejoin:miter;stroke-width:0.8;\"/>\n",
       "   </g>\n",
       "   <g id=\"patch_6\">\n",
       "    <path d=\"M 90 34.56  L 343.636364 34.56  \" style=\"fill:none;stroke:#000000;stroke-linecap:square;stroke-linejoin:miter;stroke-width:0.8;\"/>\n",
       "   </g>\n",
       "   <g id=\"text_15\">\n",
       "    <!-- XOR Network: Error -->\n",
       "    <defs>\n",
       "     <path d=\"M 6.296875 72.90625  L 16.890625 72.90625  L 35.015625 45.796875  L 53.21875 72.90625  L 63.8125 72.90625  L 40.375 37.890625  L 65.375 0  L 54.78125 0  L 34.28125 31  L 13.625 0  L 2.984375 0  L 29 38.921875  z \" id=\"DejaVuSans-58\"/>\n",
       "     <path d=\"M 39.40625 66.21875  Q 28.65625 66.21875 22.328125 58.203125  Q 16.015625 50.203125 16.015625 36.375  Q 16.015625 22.609375 22.328125 14.59375  Q 28.65625 6.59375 39.40625 6.59375  Q 50.140625 6.59375 56.421875 14.59375  Q 62.703125 22.609375 62.703125 36.375  Q 62.703125 50.203125 56.421875 58.203125  Q 50.140625 66.21875 39.40625 66.21875  z M 39.40625 74.21875  Q 54.734375 74.21875 63.90625 63.9375  Q 73.09375 53.65625 73.09375 36.375  Q 73.09375 19.140625 63.90625 8.859375  Q 54.734375 -1.421875 39.40625 -1.421875  Q 24.03125 -1.421875 14.8125 8.828125  Q 5.609375 19.09375 5.609375 36.375  Q 5.609375 53.65625 14.8125 63.9375  Q 24.03125 74.21875 39.40625 74.21875  z \" id=\"DejaVuSans-4f\"/>\n",
       "     <path d=\"M 44.390625 34.1875  Q 47.5625 33.109375 50.5625 29.59375  Q 53.5625 26.078125 56.59375 19.921875  L 66.609375 0  L 56 0  L 46.6875 18.703125  Q 43.0625 26.03125 39.671875 28.421875  Q 36.28125 30.8125 30.421875 30.8125  L 19.671875 30.8125  L 19.671875 0  L 9.8125 0  L 9.8125 72.90625  L 32.078125 72.90625  Q 44.578125 72.90625 50.734375 67.671875  Q 56.890625 62.453125 56.890625 51.90625  Q 56.890625 45.015625 53.6875 40.46875  Q 50.484375 35.9375 44.390625 34.1875  z M 19.671875 64.796875  L 19.671875 38.921875  L 32.078125 38.921875  Q 39.203125 38.921875 42.84375 42.21875  Q 46.484375 45.515625 46.484375 51.90625  Q 46.484375 58.296875 42.84375 61.546875  Q 39.203125 64.796875 32.078125 64.796875  z \" id=\"DejaVuSans-52\"/>\n",
       "     <path id=\"DejaVuSans-20\"/>\n",
       "     <path d=\"M 9.8125 72.90625  L 23.09375 72.90625  L 55.421875 11.921875  L 55.421875 72.90625  L 64.984375 72.90625  L 64.984375 0  L 51.703125 0  L 19.390625 60.984375  L 19.390625 0  L 9.8125 0  z \" id=\"DejaVuSans-4e\"/>\n",
       "     <path d=\"M 56.203125 29.59375  L 56.203125 25.203125  L 14.890625 25.203125  Q 15.484375 15.921875 20.484375 11.0625  Q 25.484375 6.203125 34.421875 6.203125  Q 39.59375 6.203125 44.453125 7.46875  Q 49.3125 8.734375 54.109375 11.28125  L 54.109375 2.78125  Q 49.265625 0.734375 44.1875 -0.34375  Q 39.109375 -1.421875 33.890625 -1.421875  Q 20.796875 -1.421875 13.15625 6.1875  Q 5.515625 13.8125 5.515625 26.8125  Q 5.515625 40.234375 12.765625 48.109375  Q 20.015625 56 32.328125 56  Q 43.359375 56 49.78125 48.890625  Q 56.203125 41.796875 56.203125 29.59375  z M 47.21875 32.234375  Q 47.125 39.59375 43.09375 43.984375  Q 39.0625 48.390625 32.421875 48.390625  Q 24.90625 48.390625 20.390625 44.140625  Q 15.875 39.890625 15.1875 32.171875  z \" id=\"DejaVuSans-65\"/>\n",
       "     <path d=\"M 18.3125 70.21875  L 18.3125 54.6875  L 36.8125 54.6875  L 36.8125 47.703125  L 18.3125 47.703125  L 18.3125 18.015625  Q 18.3125 11.328125 20.140625 9.421875  Q 21.96875 7.515625 27.59375 7.515625  L 36.8125 7.515625  L 36.8125 0  L 27.59375 0  Q 17.1875 0 13.234375 3.875  Q 9.28125 7.765625 9.28125 18.015625  L 9.28125 47.703125  L 2.6875 47.703125  L 2.6875 54.6875  L 9.28125 54.6875  L 9.28125 70.21875  z \" id=\"DejaVuSans-74\"/>\n",
       "     <path d=\"M 4.203125 54.6875  L 13.1875 54.6875  L 24.421875 12.015625  L 35.59375 54.6875  L 46.1875 54.6875  L 57.421875 12.015625  L 68.609375 54.6875  L 77.59375 54.6875  L 63.28125 0  L 52.6875 0  L 40.921875 44.828125  L 29.109375 0  L 18.5 0  z \" id=\"DejaVuSans-77\"/>\n",
       "     <path d=\"M 41.109375 46.296875  Q 39.59375 47.171875 37.8125 47.578125  Q 36.03125 48 33.890625 48  Q 26.265625 48 22.1875 43.046875  Q 18.109375 38.09375 18.109375 28.8125  L 18.109375 0  L 9.078125 0  L 9.078125 54.6875  L 18.109375 54.6875  L 18.109375 46.1875  Q 20.953125 51.171875 25.484375 53.578125  Q 30.03125 56 36.53125 56  Q 37.453125 56 38.578125 55.875  Q 39.703125 55.765625 41.0625 55.515625  z \" id=\"DejaVuSans-72\"/>\n",
       "     <path d=\"M 9.078125 75.984375  L 18.109375 75.984375  L 18.109375 31.109375  L 44.921875 54.6875  L 56.390625 54.6875  L 27.390625 29.109375  L 57.625 0  L 45.90625 0  L 18.109375 26.703125  L 18.109375 0  L 9.078125 0  z \" id=\"DejaVuSans-6b\"/>\n",
       "     <path d=\"M 11.71875 12.40625  L 22.015625 12.40625  L 22.015625 0  L 11.71875 0  z M 11.71875 51.703125  L 22.015625 51.703125  L 22.015625 39.3125  L 11.71875 39.3125  z \" id=\"DejaVuSans-3a\"/>\n",
       "    </defs>\n",
       "    <g transform=\"translate(158.075369 28.56)scale(0.12 -0.12)\">\n",
       "     <use xlink:href=\"#DejaVuSans-58\"/>\n",
       "     <use x=\"68.412109\" xlink:href=\"#DejaVuSans-4f\"/>\n",
       "     <use x=\"147.123047\" xlink:href=\"#DejaVuSans-52\"/>\n",
       "     <use x=\"216.605469\" xlink:href=\"#DejaVuSans-20\"/>\n",
       "     <use x=\"248.392578\" xlink:href=\"#DejaVuSans-4e\"/>\n",
       "     <use x=\"323.197266\" xlink:href=\"#DejaVuSans-65\"/>\n",
       "     <use x=\"384.720703\" xlink:href=\"#DejaVuSans-74\"/>\n",
       "     <use x=\"423.929688\" xlink:href=\"#DejaVuSans-77\"/>\n",
       "     <use x=\"505.716797\" xlink:href=\"#DejaVuSans-6f\"/>\n",
       "     <use x=\"566.898438\" xlink:href=\"#DejaVuSans-72\"/>\n",
       "     <use x=\"608.011719\" xlink:href=\"#DejaVuSans-6b\"/>\n",
       "     <use x=\"665.921875\" xlink:href=\"#DejaVuSans-3a\"/>\n",
       "     <use x=\"699.613281\" xlink:href=\"#DejaVuSans-20\"/>\n",
       "     <use x=\"731.400391\" xlink:href=\"#DejaVuSans-45\"/>\n",
       "     <use x=\"794.583984\" xlink:href=\"#DejaVuSans-72\"/>\n",
       "     <use x=\"835.681641\" xlink:href=\"#DejaVuSans-72\"/>\n",
       "     <use x=\"876.763672\" xlink:href=\"#DejaVuSans-6f\"/>\n",
       "     <use x=\"937.945312\" xlink:href=\"#DejaVuSans-72\"/>\n",
       "    </g>\n",
       "   </g>\n",
       "   <g id=\"legend_1\">\n",
       "    <g id=\"patch_7\">\n",
       "     <path d=\"M 245.270739 57.238125  L 336.636364 57.238125  Q 338.636364 57.238125 338.636364 55.238125  L 338.636364 41.56  Q 338.636364 39.56 336.636364 39.56  L 245.270739 39.56  Q 243.270739 39.56 243.270739 41.56  L 243.270739 55.238125  Q 243.270739 57.238125 245.270739 57.238125  z \" style=\"fill:#ffffff;opacity:0.8;stroke:#cccccc;stroke-linejoin:miter;\"/>\n",
       "    </g>\n",
       "    <g id=\"line2d_15\">\n",
       "     <path d=\"M 247.270739 47.658437  L 267.270739 47.658437  \" style=\"fill:none;stroke:#1f77b4;stroke-linecap:square;stroke-width:1.5;\"/>\n",
       "    </g>\n",
       "    <g id=\"line2d_16\"/>\n",
       "    <g id=\"text_16\">\n",
       "     <!-- Training set -->\n",
       "     <defs>\n",
       "      <path d=\"M -0.296875 72.90625  L 61.375 72.90625  L 61.375 64.59375  L 35.5 64.59375  L 35.5 0  L 25.59375 0  L 25.59375 64.59375  L -0.296875 64.59375  z \" id=\"DejaVuSans-54\"/>\n",
       "      <path d=\"M 34.28125 27.484375  Q 23.390625 27.484375 19.1875 25  Q 14.984375 22.515625 14.984375 16.5  Q 14.984375 11.71875 18.140625 8.90625  Q 21.296875 6.109375 26.703125 6.109375  Q 34.1875 6.109375 38.703125 11.40625  Q 43.21875 16.703125 43.21875 25.484375  L 43.21875 27.484375  z M 52.203125 31.203125  L 52.203125 0  L 43.21875 0  L 43.21875 8.296875  Q 40.140625 3.328125 35.546875 0.953125  Q 30.953125 -1.421875 24.3125 -1.421875  Q 15.921875 -1.421875 10.953125 3.296875  Q 6 8.015625 6 15.921875  Q 6 25.140625 12.171875 29.828125  Q 18.359375 34.515625 30.609375 34.515625  L 43.21875 34.515625  L 43.21875 35.40625  Q 43.21875 41.609375 39.140625 45  Q 35.0625 48.390625 27.6875 48.390625  Q 23 48.390625 18.546875 47.265625  Q 14.109375 46.140625 10.015625 43.890625  L 10.015625 52.203125  Q 14.9375 54.109375 19.578125 55.046875  Q 24.21875 56 28.609375 56  Q 40.484375 56 46.34375 49.84375  Q 52.203125 43.703125 52.203125 31.203125  z \" id=\"DejaVuSans-61\"/>\n",
       "      <path d=\"M 9.421875 54.6875  L 18.40625 54.6875  L 18.40625 0  L 9.421875 0  z M 9.421875 75.984375  L 18.40625 75.984375  L 18.40625 64.59375  L 9.421875 64.59375  z \" id=\"DejaVuSans-69\"/>\n",
       "      <path d=\"M 54.890625 33.015625  L 54.890625 0  L 45.90625 0  L 45.90625 32.71875  Q 45.90625 40.484375 42.875 44.328125  Q 39.84375 48.1875 33.796875 48.1875  Q 26.515625 48.1875 22.3125 43.546875  Q 18.109375 38.921875 18.109375 30.90625  L 18.109375 0  L 9.078125 0  L 9.078125 54.6875  L 18.109375 54.6875  L 18.109375 46.1875  Q 21.34375 51.125 25.703125 53.5625  Q 30.078125 56 35.796875 56  Q 45.21875 56 50.046875 50.171875  Q 54.890625 44.34375 54.890625 33.015625  z \" id=\"DejaVuSans-6e\"/>\n",
       "      <path d=\"M 45.40625 27.984375  Q 45.40625 37.75 41.375 43.109375  Q 37.359375 48.484375 30.078125 48.484375  Q 22.859375 48.484375 18.828125 43.109375  Q 14.796875 37.75 14.796875 27.984375  Q 14.796875 18.265625 18.828125 12.890625  Q 22.859375 7.515625 30.078125 7.515625  Q 37.359375 7.515625 41.375 12.890625  Q 45.40625 18.265625 45.40625 27.984375  z M 54.390625 6.78125  Q 54.390625 -7.171875 48.1875 -13.984375  Q 42 -20.796875 29.203125 -20.796875  Q 24.46875 -20.796875 20.265625 -20.09375  Q 16.0625 -19.390625 12.109375 -17.921875  L 12.109375 -9.1875  Q 16.0625 -11.328125 19.921875 -12.34375  Q 23.78125 -13.375 27.78125 -13.375  Q 36.625 -13.375 41.015625 -8.765625  Q 45.40625 -4.15625 45.40625 5.171875  L 45.40625 9.625  Q 42.625 4.78125 38.28125 2.390625  Q 33.9375 0 27.875 0  Q 17.828125 0 11.671875 7.65625  Q 5.515625 15.328125 5.515625 27.984375  Q 5.515625 40.671875 11.671875 48.328125  Q 17.828125 56 27.875 56  Q 33.9375 56 38.28125 53.609375  Q 42.625 51.21875 45.40625 46.390625  L 45.40625 54.6875  L 54.390625 54.6875  z \" id=\"DejaVuSans-67\"/>\n",
       "      <path d=\"M 44.28125 53.078125  L 44.28125 44.578125  Q 40.484375 46.53125 36.375 47.5  Q 32.28125 48.484375 27.875 48.484375  Q 21.1875 48.484375 17.84375 46.4375  Q 14.5 44.390625 14.5 40.28125  Q 14.5 37.15625 16.890625 35.375  Q 19.28125 33.59375 26.515625 31.984375  L 29.59375 31.296875  Q 39.15625 29.25 43.1875 25.515625  Q 47.21875 21.78125 47.21875 15.09375  Q 47.21875 7.46875 41.1875 3.015625  Q 35.15625 -1.421875 24.609375 -1.421875  Q 20.21875 -1.421875 15.453125 -0.5625  Q 10.6875 0.296875 5.421875 2  L 5.421875 11.28125  Q 10.40625 8.6875 15.234375 7.390625  Q 20.0625 6.109375 24.8125 6.109375  Q 31.15625 6.109375 34.5625 8.28125  Q 37.984375 10.453125 37.984375 14.40625  Q 37.984375 18.0625 35.515625 20.015625  Q 33.0625 21.96875 24.703125 23.78125  L 21.578125 24.515625  Q 13.234375 26.265625 9.515625 29.90625  Q 5.8125 33.546875 5.8125 39.890625  Q 5.8125 47.609375 11.28125 51.796875  Q 16.75 56 26.8125 56  Q 31.78125 56 36.171875 55.265625  Q 40.578125 54.546875 44.28125 53.078125  z \" id=\"DejaVuSans-73\"/>\n",
       "     </defs>\n",
       "     <g transform=\"translate(275.270739 51.158437)scale(0.1 -0.1)\">\n",
       "      <use xlink:href=\"#DejaVuSans-54\"/>\n",
       "      <use x=\"60.865234\" xlink:href=\"#DejaVuSans-72\"/>\n",
       "      <use x=\"101.978516\" xlink:href=\"#DejaVuSans-61\"/>\n",
       "      <use x=\"163.257812\" xlink:href=\"#DejaVuSans-69\"/>\n",
       "      <use x=\"191.041016\" xlink:href=\"#DejaVuSans-6e\"/>\n",
       "      <use x=\"254.419922\" xlink:href=\"#DejaVuSans-69\"/>\n",
       "      <use x=\"282.203125\" xlink:href=\"#DejaVuSans-6e\"/>\n",
       "      <use x=\"345.582031\" xlink:href=\"#DejaVuSans-67\"/>\n",
       "      <use x=\"409.058594\" xlink:href=\"#DejaVuSans-20\"/>\n",
       "      <use x=\"440.845703\" xlink:href=\"#DejaVuSans-73\"/>\n",
       "      <use x=\"492.945312\" xlink:href=\"#DejaVuSans-65\"/>\n",
       "      <use x=\"554.46875\" xlink:href=\"#DejaVuSans-74\"/>\n",
       "     </g>\n",
       "    </g>\n",
       "   </g>\n",
       "  </g>\n",
       "  <g id=\"axes_2\">\n",
       "   <g id=\"patch_8\">\n",
       "    <path d=\"M 394.363636 252  L 648 252  L 648 34.56  L 394.363636 34.56  z \" style=\"fill:#ffffff;\"/>\n",
       "   </g>\n",
       "   <g id=\"matplotlib.axis_3\">\n",
       "    <g id=\"xtick_8\">\n",
       "     <g id=\"line2d_17\">\n",
       "      <g>\n",
       "       <use style=\"stroke:#000000;stroke-width:0.8;\" x=\"405.892562\" xlink:href=\"#m4dabb5e23e\" y=\"252\"/>\n",
       "      </g>\n",
       "     </g>\n",
       "     <g id=\"text_17\">\n",
       "      <!-- 0 -->\n",
       "      <g transform=\"translate(402.711312 266.598437)scale(0.1 -0.1)\">\n",
       "       <use xlink:href=\"#DejaVuSans-30\"/>\n",
       "      </g>\n",
       "     </g>\n",
       "    </g>\n",
       "    <g id=\"xtick_9\">\n",
       "     <g id=\"line2d_18\">\n",
       "      <g>\n",
       "       <use style=\"stroke:#000000;stroke-width:0.8;\" x=\"441.696679\" xlink:href=\"#m4dabb5e23e\" y=\"252\"/>\n",
       "      </g>\n",
       "     </g>\n",
       "     <g id=\"text_18\">\n",
       "      <!-- 100 -->\n",
       "      <g transform=\"translate(432.152929 266.598437)scale(0.1 -0.1)\">\n",
       "       <use xlink:href=\"#DejaVuSans-31\"/>\n",
       "       <use x=\"63.623047\" xlink:href=\"#DejaVuSans-30\"/>\n",
       "       <use x=\"127.246094\" xlink:href=\"#DejaVuSans-30\"/>\n",
       "      </g>\n",
       "     </g>\n",
       "    </g>\n",
       "    <g id=\"xtick_10\">\n",
       "     <g id=\"line2d_19\">\n",
       "      <g>\n",
       "       <use style=\"stroke:#000000;stroke-width:0.8;\" x=\"477.500796\" xlink:href=\"#m4dabb5e23e\" y=\"252\"/>\n",
       "      </g>\n",
       "     </g>\n",
       "     <g id=\"text_19\">\n",
       "      <!-- 200 -->\n",
       "      <g transform=\"translate(467.957046 266.598437)scale(0.1 -0.1)\">\n",
       "       <use xlink:href=\"#DejaVuSans-32\"/>\n",
       "       <use x=\"63.623047\" xlink:href=\"#DejaVuSans-30\"/>\n",
       "       <use x=\"127.246094\" xlink:href=\"#DejaVuSans-30\"/>\n",
       "      </g>\n",
       "     </g>\n",
       "    </g>\n",
       "    <g id=\"xtick_11\">\n",
       "     <g id=\"line2d_20\">\n",
       "      <g>\n",
       "       <use style=\"stroke:#000000;stroke-width:0.8;\" x=\"513.304912\" xlink:href=\"#m4dabb5e23e\" y=\"252\"/>\n",
       "      </g>\n",
       "     </g>\n",
       "     <g id=\"text_20\">\n",
       "      <!-- 300 -->\n",
       "      <g transform=\"translate(503.761162 266.598437)scale(0.1 -0.1)\">\n",
       "       <use xlink:href=\"#DejaVuSans-33\"/>\n",
       "       <use x=\"63.623047\" xlink:href=\"#DejaVuSans-30\"/>\n",
       "       <use x=\"127.246094\" xlink:href=\"#DejaVuSans-30\"/>\n",
       "      </g>\n",
       "     </g>\n",
       "    </g>\n",
       "    <g id=\"xtick_12\">\n",
       "     <g id=\"line2d_21\">\n",
       "      <g>\n",
       "       <use style=\"stroke:#000000;stroke-width:0.8;\" x=\"549.109029\" xlink:href=\"#m4dabb5e23e\" y=\"252\"/>\n",
       "      </g>\n",
       "     </g>\n",
       "     <g id=\"text_21\">\n",
       "      <!-- 400 -->\n",
       "      <g transform=\"translate(539.565279 266.598437)scale(0.1 -0.1)\">\n",
       "       <use xlink:href=\"#DejaVuSans-34\"/>\n",
       "       <use x=\"63.623047\" xlink:href=\"#DejaVuSans-30\"/>\n",
       "       <use x=\"127.246094\" xlink:href=\"#DejaVuSans-30\"/>\n",
       "      </g>\n",
       "     </g>\n",
       "    </g>\n",
       "    <g id=\"xtick_13\">\n",
       "     <g id=\"line2d_22\">\n",
       "      <g>\n",
       "       <use style=\"stroke:#000000;stroke-width:0.8;\" x=\"584.913146\" xlink:href=\"#m4dabb5e23e\" y=\"252\"/>\n",
       "      </g>\n",
       "     </g>\n",
       "     <g id=\"text_22\">\n",
       "      <!-- 500 -->\n",
       "      <g transform=\"translate(575.369396 266.598437)scale(0.1 -0.1)\">\n",
       "       <use xlink:href=\"#DejaVuSans-35\"/>\n",
       "       <use x=\"63.623047\" xlink:href=\"#DejaVuSans-30\"/>\n",
       "       <use x=\"127.246094\" xlink:href=\"#DejaVuSans-30\"/>\n",
       "      </g>\n",
       "     </g>\n",
       "    </g>\n",
       "    <g id=\"xtick_14\">\n",
       "     <g id=\"line2d_23\">\n",
       "      <g>\n",
       "       <use style=\"stroke:#000000;stroke-width:0.8;\" x=\"620.717263\" xlink:href=\"#m4dabb5e23e\" y=\"252\"/>\n",
       "      </g>\n",
       "     </g>\n",
       "     <g id=\"text_23\">\n",
       "      <!-- 600 -->\n",
       "      <g transform=\"translate(611.173513 266.598437)scale(0.1 -0.1)\">\n",
       "       <use xlink:href=\"#DejaVuSans-36\"/>\n",
       "       <use x=\"63.623047\" xlink:href=\"#DejaVuSans-30\"/>\n",
       "       <use x=\"127.246094\" xlink:href=\"#DejaVuSans-30\"/>\n",
       "      </g>\n",
       "     </g>\n",
       "    </g>\n",
       "    <g id=\"text_24\">\n",
       "     <!-- Epoch -->\n",
       "     <g transform=\"translate(505.870881 280.276563)scale(0.1 -0.1)\">\n",
       "      <use xlink:href=\"#DejaVuSans-45\"/>\n",
       "      <use x=\"63.183594\" xlink:href=\"#DejaVuSans-70\"/>\n",
       "      <use x=\"126.660156\" xlink:href=\"#DejaVuSans-6f\"/>\n",
       "      <use x=\"187.841797\" xlink:href=\"#DejaVuSans-63\"/>\n",
       "      <use x=\"242.822266\" xlink:href=\"#DejaVuSans-68\"/>\n",
       "     </g>\n",
       "    </g>\n",
       "   </g>\n",
       "   <g id=\"matplotlib.axis_4\">\n",
       "    <g id=\"ytick_7\">\n",
       "     <g id=\"line2d_24\">\n",
       "      <g>\n",
       "       <use style=\"stroke:#000000;stroke-width:0.8;\" x=\"394.363636\" xlink:href=\"#m246a860052\" y=\"233.88\"/>\n",
       "      </g>\n",
       "     </g>\n",
       "     <g id=\"text_25\">\n",
       "      <!-- 0.0 -->\n",
       "      <g transform=\"translate(371.460511 237.679219)scale(0.1 -0.1)\">\n",
       "       <use xlink:href=\"#DejaVuSans-30\"/>\n",
       "       <use x=\"63.623047\" xlink:href=\"#DejaVuSans-2e\"/>\n",
       "       <use x=\"95.410156\" xlink:href=\"#DejaVuSans-30\"/>\n",
       "      </g>\n",
       "     </g>\n",
       "    </g>\n",
       "    <g id=\"ytick_8\">\n",
       "     <g id=\"line2d_25\">\n",
       "      <g>\n",
       "       <use style=\"stroke:#000000;stroke-width:0.8;\" x=\"394.363636\" xlink:href=\"#m246a860052\" y=\"197.64\"/>\n",
       "      </g>\n",
       "     </g>\n",
       "     <g id=\"text_26\">\n",
       "      <!-- 0.2 -->\n",
       "      <g transform=\"translate(371.460511 201.439219)scale(0.1 -0.1)\">\n",
       "       <use xlink:href=\"#DejaVuSans-30\"/>\n",
       "       <use x=\"63.623047\" xlink:href=\"#DejaVuSans-2e\"/>\n",
       "       <use x=\"95.410156\" xlink:href=\"#DejaVuSans-32\"/>\n",
       "      </g>\n",
       "     </g>\n",
       "    </g>\n",
       "    <g id=\"ytick_9\">\n",
       "     <g id=\"line2d_26\">\n",
       "      <g>\n",
       "       <use style=\"stroke:#000000;stroke-width:0.8;\" x=\"394.363636\" xlink:href=\"#m246a860052\" y=\"161.4\"/>\n",
       "      </g>\n",
       "     </g>\n",
       "     <g id=\"text_27\">\n",
       "      <!-- 0.4 -->\n",
       "      <g transform=\"translate(371.460511 165.199219)scale(0.1 -0.1)\">\n",
       "       <use xlink:href=\"#DejaVuSans-30\"/>\n",
       "       <use x=\"63.623047\" xlink:href=\"#DejaVuSans-2e\"/>\n",
       "       <use x=\"95.410156\" xlink:href=\"#DejaVuSans-34\"/>\n",
       "      </g>\n",
       "     </g>\n",
       "    </g>\n",
       "    <g id=\"ytick_10\">\n",
       "     <g id=\"line2d_27\">\n",
       "      <g>\n",
       "       <use style=\"stroke:#000000;stroke-width:0.8;\" x=\"394.363636\" xlink:href=\"#m246a860052\" y=\"125.16\"/>\n",
       "      </g>\n",
       "     </g>\n",
       "     <g id=\"text_28\">\n",
       "      <!-- 0.6 -->\n",
       "      <g transform=\"translate(371.460511 128.959219)scale(0.1 -0.1)\">\n",
       "       <use xlink:href=\"#DejaVuSans-30\"/>\n",
       "       <use x=\"63.623047\" xlink:href=\"#DejaVuSans-2e\"/>\n",
       "       <use x=\"95.410156\" xlink:href=\"#DejaVuSans-36\"/>\n",
       "      </g>\n",
       "     </g>\n",
       "    </g>\n",
       "    <g id=\"ytick_11\">\n",
       "     <g id=\"line2d_28\">\n",
       "      <g>\n",
       "       <use style=\"stroke:#000000;stroke-width:0.8;\" x=\"394.363636\" xlink:href=\"#m246a860052\" y=\"88.92\"/>\n",
       "      </g>\n",
       "     </g>\n",
       "     <g id=\"text_29\">\n",
       "      <!-- 0.8 -->\n",
       "      <defs>\n",
       "       <path d=\"M 31.78125 34.625  Q 24.75 34.625 20.71875 30.859375  Q 16.703125 27.09375 16.703125 20.515625  Q 16.703125 13.921875 20.71875 10.15625  Q 24.75 6.390625 31.78125 6.390625  Q 38.8125 6.390625 42.859375 10.171875  Q 46.921875 13.96875 46.921875 20.515625  Q 46.921875 27.09375 42.890625 30.859375  Q 38.875 34.625 31.78125 34.625  z M 21.921875 38.8125  Q 15.578125 40.375 12.03125 44.71875  Q 8.5 49.078125 8.5 55.328125  Q 8.5 64.0625 14.71875 69.140625  Q 20.953125 74.21875 31.78125 74.21875  Q 42.671875 74.21875 48.875 69.140625  Q 55.078125 64.0625 55.078125 55.328125  Q 55.078125 49.078125 51.53125 44.71875  Q 48 40.375 41.703125 38.8125  Q 48.828125 37.15625 52.796875 32.3125  Q 56.78125 27.484375 56.78125 20.515625  Q 56.78125 9.90625 50.3125 4.234375  Q 43.84375 -1.421875 31.78125 -1.421875  Q 19.734375 -1.421875 13.25 4.234375  Q 6.78125 9.90625 6.78125 20.515625  Q 6.78125 27.484375 10.78125 32.3125  Q 14.796875 37.15625 21.921875 38.8125  z M 18.3125 54.390625  Q 18.3125 48.734375 21.84375 45.5625  Q 25.390625 42.390625 31.78125 42.390625  Q 38.140625 42.390625 41.71875 45.5625  Q 45.3125 48.734375 45.3125 54.390625  Q 45.3125 60.0625 41.71875 63.234375  Q 38.140625 66.40625 31.78125 66.40625  Q 25.390625 66.40625 21.84375 63.234375  Q 18.3125 60.0625 18.3125 54.390625  z \" id=\"DejaVuSans-38\"/>\n",
       "      </defs>\n",
       "      <g transform=\"translate(371.460511 92.719219)scale(0.1 -0.1)\">\n",
       "       <use xlink:href=\"#DejaVuSans-30\"/>\n",
       "       <use x=\"63.623047\" xlink:href=\"#DejaVuSans-2e\"/>\n",
       "       <use x=\"95.410156\" xlink:href=\"#DejaVuSans-38\"/>\n",
       "      </g>\n",
       "     </g>\n",
       "    </g>\n",
       "    <g id=\"ytick_12\">\n",
       "     <g id=\"line2d_29\">\n",
       "      <g>\n",
       "       <use style=\"stroke:#000000;stroke-width:0.8;\" x=\"394.363636\" xlink:href=\"#m246a860052\" y=\"52.68\"/>\n",
       "      </g>\n",
       "     </g>\n",
       "     <g id=\"text_30\">\n",
       "      <!-- 1.0 -->\n",
       "      <g transform=\"translate(371.460511 56.479219)scale(0.1 -0.1)\">\n",
       "       <use xlink:href=\"#DejaVuSans-31\"/>\n",
       "       <use x=\"63.623047\" xlink:href=\"#DejaVuSans-2e\"/>\n",
       "       <use x=\"95.410156\" xlink:href=\"#DejaVuSans-30\"/>\n",
       "      </g>\n",
       "     </g>\n",
       "    </g>\n",
       "   </g>\n",
       "   <g id=\"line2d_30\">\n",
       "    <path clip-path=\"url(#p0a00ba9908)\" d=\"M 405.892562 233.88  L 589.567681 233.88  L 589.925722 188.58  L 617.494892 188.58  L 617.852934 143.28  L 618.927057 143.28  L 619.285098 97.98  L 636.113033 97.98  L 636.471074 52.68  L 636.471074 52.68  \" style=\"fill:none;stroke:#1f77b4;stroke-linecap:square;stroke-width:1.5;\"/>\n",
       "   </g>\n",
       "   <g id=\"patch_9\">\n",
       "    <path d=\"M 394.363636 252  L 394.363636 34.56  \" style=\"fill:none;stroke:#000000;stroke-linecap:square;stroke-linejoin:miter;stroke-width:0.8;\"/>\n",
       "   </g>\n",
       "   <g id=\"patch_10\">\n",
       "    <path d=\"M 648 252  L 648 34.56  \" style=\"fill:none;stroke:#000000;stroke-linecap:square;stroke-linejoin:miter;stroke-width:0.8;\"/>\n",
       "   </g>\n",
       "   <g id=\"patch_11\">\n",
       "    <path d=\"M 394.363636 252  L 648 252  \" style=\"fill:none;stroke:#000000;stroke-linecap:square;stroke-linejoin:miter;stroke-width:0.8;\"/>\n",
       "   </g>\n",
       "   <g id=\"patch_12\">\n",
       "    <path d=\"M 394.363636 34.56  L 648 34.56  \" style=\"fill:none;stroke:#000000;stroke-linecap:square;stroke-linejoin:miter;stroke-width:0.8;\"/>\n",
       "   </g>\n",
       "   <g id=\"text_31\">\n",
       "    <!-- XOR Network: Accuracy -->\n",
       "    <defs>\n",
       "     <path d=\"M 34.1875 63.1875  L 20.796875 26.90625  L 47.609375 26.90625  z M 28.609375 72.90625  L 39.796875 72.90625  L 67.578125 0  L 57.328125 0  L 50.6875 18.703125  L 17.828125 18.703125  L 11.1875 0  L 0.78125 0  z \" id=\"DejaVuSans-41\"/>\n",
       "     <path d=\"M 8.5 21.578125  L 8.5 54.6875  L 17.484375 54.6875  L 17.484375 21.921875  Q 17.484375 14.15625 20.5 10.265625  Q 23.53125 6.390625 29.59375 6.390625  Q 36.859375 6.390625 41.078125 11.03125  Q 45.3125 15.671875 45.3125 23.6875  L 45.3125 54.6875  L 54.296875 54.6875  L 54.296875 0  L 45.3125 0  L 45.3125 8.40625  Q 42.046875 3.421875 37.71875 1  Q 33.40625 -1.421875 27.6875 -1.421875  Q 18.265625 -1.421875 13.375 4.4375  Q 8.5 10.296875 8.5 21.578125  z M 31.109375 56  z \" id=\"DejaVuSans-75\"/>\n",
       "     <path d=\"M 32.171875 -5.078125  Q 28.375 -14.84375 24.75 -17.8125  Q 21.140625 -20.796875 15.09375 -20.796875  L 7.90625 -20.796875  L 7.90625 -13.28125  L 13.1875 -13.28125  Q 16.890625 -13.28125 18.9375 -11.515625  Q 21 -9.765625 23.484375 -3.21875  L 25.09375 0.875  L 2.984375 54.6875  L 12.5 54.6875  L 29.59375 11.921875  L 46.6875 54.6875  L 56.203125 54.6875  z \" id=\"DejaVuSans-79\"/>\n",
       "    </defs>\n",
       "    <g transform=\"translate(449.800568 28.56)scale(0.12 -0.12)\">\n",
       "     <use xlink:href=\"#DejaVuSans-58\"/>\n",
       "     <use x=\"68.412109\" xlink:href=\"#DejaVuSans-4f\"/>\n",
       "     <use x=\"147.123047\" xlink:href=\"#DejaVuSans-52\"/>\n",
       "     <use x=\"216.605469\" xlink:href=\"#DejaVuSans-20\"/>\n",
       "     <use x=\"248.392578\" xlink:href=\"#DejaVuSans-4e\"/>\n",
       "     <use x=\"323.197266\" xlink:href=\"#DejaVuSans-65\"/>\n",
       "     <use x=\"384.720703\" xlink:href=\"#DejaVuSans-74\"/>\n",
       "     <use x=\"423.929688\" xlink:href=\"#DejaVuSans-77\"/>\n",
       "     <use x=\"505.716797\" xlink:href=\"#DejaVuSans-6f\"/>\n",
       "     <use x=\"566.898438\" xlink:href=\"#DejaVuSans-72\"/>\n",
       "     <use x=\"608.011719\" xlink:href=\"#DejaVuSans-6b\"/>\n",
       "     <use x=\"665.921875\" xlink:href=\"#DejaVuSans-3a\"/>\n",
       "     <use x=\"699.613281\" xlink:href=\"#DejaVuSans-20\"/>\n",
       "     <use x=\"731.400391\" xlink:href=\"#DejaVuSans-41\"/>\n",
       "     <use x=\"799.792969\" xlink:href=\"#DejaVuSans-63\"/>\n",
       "     <use x=\"854.773438\" xlink:href=\"#DejaVuSans-63\"/>\n",
       "     <use x=\"909.753906\" xlink:href=\"#DejaVuSans-75\"/>\n",
       "     <use x=\"973.132812\" xlink:href=\"#DejaVuSans-72\"/>\n",
       "     <use x=\"1014.246094\" xlink:href=\"#DejaVuSans-61\"/>\n",
       "     <use x=\"1075.525391\" xlink:href=\"#DejaVuSans-63\"/>\n",
       "     <use x=\"1130.505859\" xlink:href=\"#DejaVuSans-79\"/>\n",
       "    </g>\n",
       "   </g>\n",
       "   <g id=\"legend_2\">\n",
       "    <g id=\"patch_13\">\n",
       "     <path d=\"M 401.363636 57.238125  L 492.729261 57.238125  Q 494.729261 57.238125 494.729261 55.238125  L 494.729261 41.56  Q 494.729261 39.56 492.729261 39.56  L 401.363636 39.56  Q 399.363636 39.56 399.363636 41.56  L 399.363636 55.238125  Q 399.363636 57.238125 401.363636 57.238125  z \" style=\"fill:#ffffff;opacity:0.8;stroke:#cccccc;stroke-linejoin:miter;\"/>\n",
       "    </g>\n",
       "    <g id=\"line2d_31\">\n",
       "     <path d=\"M 403.363636 47.658437  L 423.363636 47.658437  \" style=\"fill:none;stroke:#1f77b4;stroke-linecap:square;stroke-width:1.5;\"/>\n",
       "    </g>\n",
       "    <g id=\"line2d_32\"/>\n",
       "    <g id=\"text_32\">\n",
       "     <!-- Training set -->\n",
       "     <g transform=\"translate(431.363636 51.158437)scale(0.1 -0.1)\">\n",
       "      <use xlink:href=\"#DejaVuSans-54\"/>\n",
       "      <use x=\"60.865234\" xlink:href=\"#DejaVuSans-72\"/>\n",
       "      <use x=\"101.978516\" xlink:href=\"#DejaVuSans-61\"/>\n",
       "      <use x=\"163.257812\" xlink:href=\"#DejaVuSans-69\"/>\n",
       "      <use x=\"191.041016\" xlink:href=\"#DejaVuSans-6e\"/>\n",
       "      <use x=\"254.419922\" xlink:href=\"#DejaVuSans-69\"/>\n",
       "      <use x=\"282.203125\" xlink:href=\"#DejaVuSans-6e\"/>\n",
       "      <use x=\"345.582031\" xlink:href=\"#DejaVuSans-67\"/>\n",
       "      <use x=\"409.058594\" xlink:href=\"#DejaVuSans-20\"/>\n",
       "      <use x=\"440.845703\" xlink:href=\"#DejaVuSans-73\"/>\n",
       "      <use x=\"492.945312\" xlink:href=\"#DejaVuSans-65\"/>\n",
       "      <use x=\"554.46875\" xlink:href=\"#DejaVuSans-74\"/>\n",
       "     </g>\n",
       "    </g>\n",
       "   </g>\n",
       "  </g>\n",
       " </g>\n",
       " <defs>\n",
       "  <clipPath id=\"p457d7de83f\">\n",
       "   <rect height=\"217.44\" width=\"253.636364\" x=\"90\" y=\"34.56\"/>\n",
       "  </clipPath>\n",
       "  <clipPath id=\"p0a00ba9908\">\n",
       "   <rect height=\"217.44\" width=\"253.636364\" x=\"394.363636\" y=\"34.56\"/>\n",
       "  </clipPath>\n",
       " </defs>\n",
       "</svg>"
      ],
      "text/plain": [
       "<IPython.core.display.SVG object>"
      ]
     },
     "metadata": {},
     "output_type": "display_data"
    },
    {
     "name": "stdout",
     "output_type": "stream",
     "text": [
      "========================================================\n",
      "       |  Training |  Training \n",
      "Epochs |     Error |  Accuracy \n",
      "------ | --------- | --------- \n",
      "#  644 |   0.00666 |   1.00000 \n"
     ]
    }
   ],
   "source": [
    "net.train(epochs=1000, accuracy=1, report_rate=25, record=True)"
   ]
  },
  {
   "cell_type": "code",
   "execution_count": 9,
   "metadata": {
    "scrolled": false
   },
   "outputs": [
    {
     "data": {
      "application/vnd.jupyter.widget-view+json": {
       "model_id": "5b348a128ef04534922515708ffe9add",
       "version_major": 2,
       "version_minor": 0
      },
      "text/html": [
       "<p>Failed to display Jupyter Widget of type <code>SequenceViewer</code>.</p>\n",
       "<p>\n",
       "  If you're reading this message in the Jupyter Notebook or JupyterLab Notebook, it may mean\n",
       "  that the widgets JavaScript is still loading. If this message persists, it\n",
       "  likely means that the widgets JavaScript library is either not installed or\n",
       "  not enabled. See the <a href=\"https://ipywidgets.readthedocs.io/en/stable/user_install.html\">Jupyter\n",
       "  Widgets Documentation</a> for setup instructions.\n",
       "</p>\n",
       "<p>\n",
       "  If you're reading this message in another frontend (for example, a static\n",
       "  rendering on GitHub or <a href=\"https://nbviewer.jupyter.org/\">NBViewer</a>),\n",
       "  it may mean that your frontend doesn't currently support widgets.\n",
       "</p>\n"
      ],
      "text/plain": [
       "SequenceViewer(children=(VBox(children=(HBox(children=(IntSlider(value=0, continuous_update=False, description='XOR Network Playback:', layout=Layout(width='100%'), max=644, style=SliderStyle(description_width='initial')), Label(value='of 645', layout=Layout(width='100px'))), layout=Layout(height='40px')), HBox(children=(Button(icon='fast-backward', layout=Layout(width='100%'), style=ButtonStyle()), Button(icon='backward', layout=Layout(width='100%'), style=ButtonStyle()), IntText(value=0, layout=Layout(width='100%')), Button(icon='forward', layout=Layout(width='100%'), style=ButtonStyle()), Button(icon='fast-forward', layout=Layout(width='100%'), style=ButtonStyle()), Button(description='Play', icon='play', layout=Layout(width='100%'), style=ButtonStyle())), layout=Layout(height='50px', width='100%'))), layout=Layout(width='100%')), Output()))"
      ]
     },
     "metadata": {},
     "output_type": "display_data"
    },
    {
     "data": {
      "image/png": "[encoded data removed]",
      "text/plain": [
       "<PIL.PngImagePlugin.PngImageFile image mode=RGBA size=432x288 at 0x116A3DDD8>"
      ]
     },
     "metadata": {},
     "output_type": "display_data"
    },
    {
     "data": {
      "image/png": "[encoded data removed]",
      "text/plain": [
       "<PIL.PngImagePlugin.PngImageFile image mode=RGBA size=432x288 at 0x116F38F98>"
      ]
     },
     "metadata": {},
     "output_type": "display_data"
    }
   ],
   "source": [
    "zeros = net.dataset.inputs.select(lambda i,ds: ds.labels[i] == \"0\")\n",
    "ones = net.dataset.inputs.select(lambda i,ds: ds.labels[i] == \"1\")\n",
    "\n",
    "net.playback(lambda net,epoch: (\n",
    "    net.plot_activation_map(scatter=[[\"0\", zeros], [\"1\", ones]],\n",
    "                            symbols={\"0\": \"ko\", \"1\": \"k+\"},\n",
    "                            title=\"Epoch %s\" % epoch,\n",
    "                            format=\"image\"),\n",
    "    net.plot('all', end=epoch+1, format=\"image\")))"
   ]
  },
  {
   "cell_type": "markdown",
   "metadata": {},
   "source": [
    "We need to remember to reset the network's weights to the last epoch of training, so that subsequent interactions with the network reflect its learned knowledge."
   ]
  },
  {
   "cell_type": "code",
   "execution_count": 10,
   "metadata": {},
   "outputs": [],
   "source": [
    "net.set_weights_from_history(-1)"
   ]
  },
  {
   "cell_type": "code",
   "execution_count": 11,
   "metadata": {},
   "outputs": [],
   "source": [
    "states = [net.propagate_to(\"hidden\", pattern) for pattern in net.dataset.inputs]\n",
    "pca = cx.PCA(states)"
   ]
  },
  {
   "cell_type": "code",
   "execution_count": 12,
   "metadata": {},
   "outputs": [
    {
     "data": {
      "application/vnd.jupyter.widget-view+json": {
       "model_id": "cb8a22d6319e446d848fe6690d86f9dd",
       "version_major": 2,
       "version_minor": 0
      },
      "text/html": [
       "<p>Failed to display Jupyter Widget of type <code>SequenceViewer</code>.</p>\n",
       "<p>\n",
       "  If you're reading this message in the Jupyter Notebook or JupyterLab Notebook, it may mean\n",
       "  that the widgets JavaScript is still loading. If this message persists, it\n",
       "  likely means that the widgets JavaScript library is either not installed or\n",
       "  not enabled. See the <a href=\"https://ipywidgets.readthedocs.io/en/stable/user_install.html\">Jupyter\n",
       "  Widgets Documentation</a> for setup instructions.\n",
       "</p>\n",
       "<p>\n",
       "  If you're reading this message in another frontend (for example, a static\n",
       "  rendering on GitHub or <a href=\"https://nbviewer.jupyter.org/\">NBViewer</a>),\n",
       "  it may mean that your frontend doesn't currently support widgets.\n",
       "</p>\n"
      ],
      "text/plain": [
       "SequenceViewer(children=(VBox(children=(HBox(children=(IntSlider(value=0, continuous_update=False, description='XOR Network Playback:', layout=Layout(width='100%'), max=644, style=SliderStyle(description_width='initial')), Label(value='of 645', layout=Layout(width='100px'))), layout=Layout(height='40px')), HBox(children=(Button(icon='fast-backward', layout=Layout(width='100%'), style=ButtonStyle()), Button(icon='backward', layout=Layout(width='100%'), style=ButtonStyle()), IntText(value=0, layout=Layout(width='100%')), Button(icon='forward', layout=Layout(width='100%'), style=ButtonStyle()), Button(icon='fast-forward', layout=Layout(width='100%'), style=ButtonStyle()), Button(description='Play', icon='play', layout=Layout(width='100%'), style=ButtonStyle())), layout=Layout(height='50px', width='100%'))), layout=Layout(width='100%')), Output()))"
      ]
     },
     "metadata": {},
     "output_type": "display_data"
    },
    {
     "data": {
      "image/svg+xml": [
       "<svg height=\"432pt\" version=\"1.1\" viewBox=\"0 0 432 432\" width=\"432pt\" xmlns=\"http://www.w3.org/2000/svg\" xmlns:xlink=\"http://www.w3.org/1999/xlink\">\n",
       " <defs>\n",
       "  <style type=\"text/css\">\n",
       "*{stroke-linecap:butt;stroke-linejoin:round;}\n",
       "  </style>\n",
       " </defs>\n",
       " <g id=\"figure_1\">\n",
       "  <g id=\"patch_1\">\n",
       "   <path d=\"M 0 432  L 432 432  L 432 0  L 0 0  z \" style=\"fill:#ffffff;\"/>\n",
       "  </g>\n",
       "  <g id=\"axes_1\">\n",
       "   <g id=\"patch_2\">\n",
       "    <path d=\"M 54 378  L 388.8 378  L 388.8 51.84  L 54 51.84  z \" style=\"fill:#ffffff;\"/>\n",
       "   </g>\n",
       "   <g id=\"matplotlib.axis_1\">\n",
       "    <g id=\"xtick_1\">\n",
       "     <g id=\"line2d_1\">\n",
       "      <defs>\n",
       "       <path d=\"M 0 0  L 0 3.5  \" id=\"m62df46ecd1\" style=\"stroke:#000000;stroke-width:0.8;\"/>\n",
       "      </defs>\n",
       "      <g>\n",
       "       <use style=\"stroke:#000000;stroke-width:0.8;\" x=\"68.78099\" xlink:href=\"#m62df46ecd1\" y=\"378\"/>\n",
       "      </g>\n",
       "     </g>\n",
       "     <g id=\"text_1\">\n",
       "      <!-- −0.4 -->\n",
       "      <defs>\n",
       "       <path d=\"M 10.59375 35.5  L 73.1875 35.5  L 73.1875 27.203125  L 10.59375 27.203125  z \" id=\"DejaVuSans-2212\"/>\n",
       "       <path d=\"M 31.78125 66.40625  Q 24.171875 66.40625 20.328125 58.90625  Q 16.5 51.421875 16.5 36.375  Q 16.5 21.390625 20.328125 13.890625  Q 24.171875 6.390625 31.78125 6.390625  Q 39.453125 6.390625 43.28125 13.890625  Q 47.125 21.390625 47.125 36.375  Q 47.125 51.421875 43.28125 58.90625  Q 39.453125 66.40625 31.78125 66.40625  z M 31.78125 74.21875  Q 44.046875 74.21875 50.515625 64.515625  Q 56.984375 54.828125 56.984375 36.375  Q 56.984375 17.96875 50.515625 8.265625  Q 44.046875 -1.421875 31.78125 -1.421875  Q 19.53125 -1.421875 13.0625 8.265625  Q 6.59375 17.96875 6.59375 36.375  Q 6.59375 54.828125 13.0625 64.515625  Q 19.53125 74.21875 31.78125 74.21875  z \" id=\"DejaVuSans-30\"/>\n",
       "       <path d=\"M 10.6875 12.40625  L 21 12.40625  L 21 0  L 10.6875 0  z \" id=\"DejaVuSans-2e\"/>\n",
       "       <path d=\"M 37.796875 64.3125  L 12.890625 25.390625  L 37.796875 25.390625  z M 35.203125 72.90625  L 47.609375 72.90625  L 47.609375 25.390625  L 58.015625 25.390625  L 58.015625 17.1875  L 47.609375 17.1875  L 47.609375 0  L 37.796875 0  L 37.796875 17.1875  L 4.890625 17.1875  L 4.890625 26.703125  z \" id=\"DejaVuSans-34\"/>\n",
       "      </defs>\n",
       "      <g transform=\"translate(56.639584 392.598437)scale(0.1 -0.1)\">\n",
       "       <use xlink:href=\"#DejaVuSans-2212\"/>\n",
       "       <use x=\"83.789062\" xlink:href=\"#DejaVuSans-30\"/>\n",
       "       <use x=\"147.412109\" xlink:href=\"#DejaVuSans-2e\"/>\n",
       "       <use x=\"179.199219\" xlink:href=\"#DejaVuSans-34\"/>\n",
       "      </g>\n",
       "     </g>\n",
       "    </g>\n",
       "    <g id=\"xtick_2\">\n",
       "     <g id=\"line2d_2\">\n",
       "      <g>\n",
       "       <use style=\"stroke:#000000;stroke-width:0.8;\" x=\"125.619644\" xlink:href=\"#m62df46ecd1\" y=\"378\"/>\n",
       "      </g>\n",
       "     </g>\n",
       "     <g id=\"text_2\">\n",
       "      <!-- −0.2 -->\n",
       "      <defs>\n",
       "       <path d=\"M 19.1875 8.296875  L 53.609375 8.296875  L 53.609375 0  L 7.328125 0  L 7.328125 8.296875  Q 12.9375 14.109375 22.625 23.890625  Q 32.328125 33.6875 34.8125 36.53125  Q 39.546875 41.84375 41.421875 45.53125  Q 43.3125 49.21875 43.3125 52.78125  Q 43.3125 58.59375 39.234375 62.25  Q 35.15625 65.921875 28.609375 65.921875  Q 23.96875 65.921875 18.8125 64.3125  Q 13.671875 62.703125 7.8125 59.421875  L 7.8125 69.390625  Q 13.765625 71.78125 18.9375 73  Q 24.125 74.21875 28.421875 74.21875  Q 39.75 74.21875 46.484375 68.546875  Q 53.21875 62.890625 53.21875 53.421875  Q 53.21875 48.921875 51.53125 44.890625  Q 49.859375 40.875 45.40625 35.40625  Q 44.1875 33.984375 37.640625 27.21875  Q 31.109375 20.453125 19.1875 8.296875  z \" id=\"DejaVuSans-32\"/>\n",
       "      </defs>\n",
       "      <g transform=\"translate(113.478238 392.598437)scale(0.1 -0.1)\">\n",
       "       <use xlink:href=\"#DejaVuSans-2212\"/>\n",
       "       <use x=\"83.789062\" xlink:href=\"#DejaVuSans-30\"/>\n",
       "       <use x=\"147.412109\" xlink:href=\"#DejaVuSans-2e\"/>\n",
       "       <use x=\"179.199219\" xlink:href=\"#DejaVuSans-32\"/>\n",
       "      </g>\n",
       "     </g>\n",
       "    </g>\n",
       "    <g id=\"xtick_3\">\n",
       "     <g id=\"line2d_3\">\n",
       "      <g>\n",
       "       <use style=\"stroke:#000000;stroke-width:0.8;\" x=\"182.458299\" xlink:href=\"#m62df46ecd1\" y=\"378\"/>\n",
       "      </g>\n",
       "     </g>\n",
       "     <g id=\"text_3\">\n",
       "      <!-- 0.0 -->\n",
       "      <g transform=\"translate(174.506736 392.598437)scale(0.1 -0.1)\">\n",
       "       <use xlink:href=\"#DejaVuSans-30\"/>\n",
       "       <use x=\"63.623047\" xlink:href=\"#DejaVuSans-2e\"/>\n",
       "       <use x=\"95.410156\" xlink:href=\"#DejaVuSans-30\"/>\n",
       "      </g>\n",
       "     </g>\n",
       "    </g>\n",
       "    <g id=\"xtick_4\">\n",
       "     <g id=\"line2d_4\">\n",
       "      <g>\n",
       "       <use style=\"stroke:#000000;stroke-width:0.8;\" x=\"239.296953\" xlink:href=\"#m62df46ecd1\" y=\"378\"/>\n",
       "      </g>\n",
       "     </g>\n",
       "     <g id=\"text_4\">\n",
       "      <!-- 0.2 -->\n",
       "      <g transform=\"translate(231.34539 392.598437)scale(0.1 -0.1)\">\n",
       "       <use xlink:href=\"#DejaVuSans-30\"/>\n",
       "       <use x=\"63.623047\" xlink:href=\"#DejaVuSans-2e\"/>\n",
       "       <use x=\"95.410156\" xlink:href=\"#DejaVuSans-32\"/>\n",
       "      </g>\n",
       "     </g>\n",
       "    </g>\n",
       "    <g id=\"xtick_5\">\n",
       "     <g id=\"line2d_5\">\n",
       "      <g>\n",
       "       <use style=\"stroke:#000000;stroke-width:0.8;\" x=\"296.135607\" xlink:href=\"#m62df46ecd1\" y=\"378\"/>\n",
       "      </g>\n",
       "     </g>\n",
       "     <g id=\"text_5\">\n",
       "      <!-- 0.4 -->\n",
       "      <g transform=\"translate(288.184045 392.598437)scale(0.1 -0.1)\">\n",
       "       <use xlink:href=\"#DejaVuSans-30\"/>\n",
       "       <use x=\"63.623047\" xlink:href=\"#DejaVuSans-2e\"/>\n",
       "       <use x=\"95.410156\" xlink:href=\"#DejaVuSans-34\"/>\n",
       "      </g>\n",
       "     </g>\n",
       "    </g>\n",
       "    <g id=\"xtick_6\">\n",
       "     <g id=\"line2d_6\">\n",
       "      <g>\n",
       "       <use style=\"stroke:#000000;stroke-width:0.8;\" x=\"352.974261\" xlink:href=\"#m62df46ecd1\" y=\"378\"/>\n",
       "      </g>\n",
       "     </g>\n",
       "     <g id=\"text_6\">\n",
       "      <!-- 0.6 -->\n",
       "      <defs>\n",
       "       <path d=\"M 33.015625 40.375  Q 26.375 40.375 22.484375 35.828125  Q 18.609375 31.296875 18.609375 23.390625  Q 18.609375 15.53125 22.484375 10.953125  Q 26.375 6.390625 33.015625 6.390625  Q 39.65625 6.390625 43.53125 10.953125  Q 47.40625 15.53125 47.40625 23.390625  Q 47.40625 31.296875 43.53125 35.828125  Q 39.65625 40.375 33.015625 40.375  z M 52.59375 71.296875  L 52.59375 62.3125  Q 48.875 64.0625 45.09375 64.984375  Q 41.3125 65.921875 37.59375 65.921875  Q 27.828125 65.921875 22.671875 59.328125  Q 17.53125 52.734375 16.796875 39.40625  Q 19.671875 43.65625 24.015625 45.921875  Q 28.375 48.1875 33.59375 48.1875  Q 44.578125 48.1875 50.953125 41.515625  Q 57.328125 34.859375 57.328125 23.390625  Q 57.328125 12.15625 50.6875 5.359375  Q 44.046875 -1.421875 33.015625 -1.421875  Q 20.359375 -1.421875 13.671875 8.265625  Q 6.984375 17.96875 6.984375 36.375  Q 6.984375 53.65625 15.1875 63.9375  Q 23.390625 74.21875 37.203125 74.21875  Q 40.921875 74.21875 44.703125 73.484375  Q 48.484375 72.75 52.59375 71.296875  z \" id=\"DejaVuSans-36\"/>\n",
       "      </defs>\n",
       "      <g transform=\"translate(345.022699 392.598437)scale(0.1 -0.1)\">\n",
       "       <use xlink:href=\"#DejaVuSans-30\"/>\n",
       "       <use x=\"63.623047\" xlink:href=\"#DejaVuSans-2e\"/>\n",
       "       <use x=\"95.410156\" xlink:href=\"#DejaVuSans-36\"/>\n",
       "      </g>\n",
       "     </g>\n",
       "    </g>\n",
       "   </g>\n",
       "   <g id=\"matplotlib.axis_2\">\n",
       "    <g id=\"ytick_1\">\n",
       "     <g id=\"line2d_7\">\n",
       "      <defs>\n",
       "       <path d=\"M 0 0  L -3.5 0  \" id=\"m83b2054d64\" style=\"stroke:#000000;stroke-width:0.8;\"/>\n",
       "      </defs>\n",
       "      <g>\n",
       "       <use style=\"stroke:#000000;stroke-width:0.8;\" x=\"54\" xlink:href=\"#m83b2054d64\" y=\"377.523021\"/>\n",
       "      </g>\n",
       "     </g>\n",
       "     <g id=\"text_7\">\n",
       "      <!-- −0.3 -->\n",
       "      <defs>\n",
       "       <path d=\"M 40.578125 39.3125  Q 47.65625 37.796875 51.625 33  Q 55.609375 28.21875 55.609375 21.1875  Q 55.609375 10.40625 48.1875 4.484375  Q 40.765625 -1.421875 27.09375 -1.421875  Q 22.515625 -1.421875 17.65625 -0.515625  Q 12.796875 0.390625 7.625 2.203125  L 7.625 11.71875  Q 11.71875 9.328125 16.59375 8.109375  Q 21.484375 6.890625 26.8125 6.890625  Q 36.078125 6.890625 40.9375 10.546875  Q 45.796875 14.203125 45.796875 21.1875  Q 45.796875 27.640625 41.28125 31.265625  Q 36.765625 34.90625 28.71875 34.90625  L 20.21875 34.90625  L 20.21875 43.015625  L 29.109375 43.015625  Q 36.375 43.015625 40.234375 45.921875  Q 44.09375 48.828125 44.09375 54.296875  Q 44.09375 59.90625 40.109375 62.90625  Q 36.140625 65.921875 28.71875 65.921875  Q 24.65625 65.921875 20.015625 65.03125  Q 15.375 64.15625 9.8125 62.3125  L 9.8125 71.09375  Q 15.4375 72.65625 20.34375 73.4375  Q 25.25 74.21875 29.59375 74.21875  Q 40.828125 74.21875 47.359375 69.109375  Q 53.90625 64.015625 53.90625 55.328125  Q 53.90625 49.265625 50.4375 45.09375  Q 46.96875 40.921875 40.578125 39.3125  z \" id=\"DejaVuSans-33\"/>\n",
       "      </defs>\n",
       "      <g transform=\"translate(22.717187 381.32224)scale(0.1 -0.1)\">\n",
       "       <use xlink:href=\"#DejaVuSans-2212\"/>\n",
       "       <use x=\"83.789062\" xlink:href=\"#DejaVuSans-30\"/>\n",
       "       <use x=\"147.412109\" xlink:href=\"#DejaVuSans-2e\"/>\n",
       "       <use x=\"179.199219\" xlink:href=\"#DejaVuSans-33\"/>\n",
       "      </g>\n",
       "     </g>\n",
       "    </g>\n",
       "    <g id=\"ytick_2\">\n",
       "     <g id=\"line2d_8\">\n",
       "      <g>\n",
       "       <use style=\"stroke:#000000;stroke-width:0.8;\" x=\"54\" xlink:href=\"#m83b2054d64\" y=\"335.201037\"/>\n",
       "      </g>\n",
       "     </g>\n",
       "     <g id=\"text_8\">\n",
       "      <!-- −0.2 -->\n",
       "      <g transform=\"translate(22.717187 339.000256)scale(0.1 -0.1)\">\n",
       "       <use xlink:href=\"#DejaVuSans-2212\"/>\n",
       "       <use x=\"83.789062\" xlink:href=\"#DejaVuSans-30\"/>\n",
       "       <use x=\"147.412109\" xlink:href=\"#DejaVuSans-2e\"/>\n",
       "       <use x=\"179.199219\" xlink:href=\"#DejaVuSans-32\"/>\n",
       "      </g>\n",
       "     </g>\n",
       "    </g>\n",
       "    <g id=\"ytick_3\">\n",
       "     <g id=\"line2d_9\">\n",
       "      <g>\n",
       "       <use style=\"stroke:#000000;stroke-width:0.8;\" x=\"54\" xlink:href=\"#m83b2054d64\" y=\"292.879053\"/>\n",
       "      </g>\n",
       "     </g>\n",
       "     <g id=\"text_9\">\n",
       "      <!-- −0.1 -->\n",
       "      <defs>\n",
       "       <path d=\"M 12.40625 8.296875  L 28.515625 8.296875  L 28.515625 63.921875  L 10.984375 60.40625  L 10.984375 69.390625  L 28.421875 72.90625  L 38.28125 72.90625  L 38.28125 8.296875  L 54.390625 8.296875  L 54.390625 0  L 12.40625 0  z \" id=\"DejaVuSans-31\"/>\n",
       "      </defs>\n",
       "      <g transform=\"translate(22.717187 296.678272)scale(0.1 -0.1)\">\n",
       "       <use xlink:href=\"#DejaVuSans-2212\"/>\n",
       "       <use x=\"83.789062\" xlink:href=\"#DejaVuSans-30\"/>\n",
       "       <use x=\"147.412109\" xlink:href=\"#DejaVuSans-2e\"/>\n",
       "       <use x=\"179.199219\" xlink:href=\"#DejaVuSans-31\"/>\n",
       "      </g>\n",
       "     </g>\n",
       "    </g>\n",
       "    <g id=\"ytick_4\">\n",
       "     <g id=\"line2d_10\">\n",
       "      <g>\n",
       "       <use style=\"stroke:#000000;stroke-width:0.8;\" x=\"54\" xlink:href=\"#m83b2054d64\" y=\"250.557069\"/>\n",
       "      </g>\n",
       "     </g>\n",
       "     <g id=\"text_10\">\n",
       "      <!-- 0.0 -->\n",
       "      <g transform=\"translate(31.096875 254.356287)scale(0.1 -0.1)\">\n",
       "       <use xlink:href=\"#DejaVuSans-30\"/>\n",
       "       <use x=\"63.623047\" xlink:href=\"#DejaVuSans-2e\"/>\n",
       "       <use x=\"95.410156\" xlink:href=\"#DejaVuSans-30\"/>\n",
       "      </g>\n",
       "     </g>\n",
       "    </g>\n",
       "    <g id=\"ytick_5\">\n",
       "     <g id=\"line2d_11\">\n",
       "      <g>\n",
       "       <use style=\"stroke:#000000;stroke-width:0.8;\" x=\"54\" xlink:href=\"#m83b2054d64\" y=\"208.235084\"/>\n",
       "      </g>\n",
       "     </g>\n",
       "     <g id=\"text_11\">\n",
       "      <!-- 0.1 -->\n",
       "      <g transform=\"translate(31.096875 212.034303)scale(0.1 -0.1)\">\n",
       "       <use xlink:href=\"#DejaVuSans-30\"/>\n",
       "       <use x=\"63.623047\" xlink:href=\"#DejaVuSans-2e\"/>\n",
       "       <use x=\"95.410156\" xlink:href=\"#DejaVuSans-31\"/>\n",
       "      </g>\n",
       "     </g>\n",
       "    </g>\n",
       "    <g id=\"ytick_6\">\n",
       "     <g id=\"line2d_12\">\n",
       "      <g>\n",
       "       <use style=\"stroke:#000000;stroke-width:0.8;\" x=\"54\" xlink:href=\"#m83b2054d64\" y=\"165.9131\"/>\n",
       "      </g>\n",
       "     </g>\n",
       "     <g id=\"text_12\">\n",
       "      <!-- 0.2 -->\n",
       "      <g transform=\"translate(31.096875 169.712319)scale(0.1 -0.1)\">\n",
       "       <use xlink:href=\"#DejaVuSans-30\"/>\n",
       "       <use x=\"63.623047\" xlink:href=\"#DejaVuSans-2e\"/>\n",
       "       <use x=\"95.410156\" xlink:href=\"#DejaVuSans-32\"/>\n",
       "      </g>\n",
       "     </g>\n",
       "    </g>\n",
       "    <g id=\"ytick_7\">\n",
       "     <g id=\"line2d_13\">\n",
       "      <g>\n",
       "       <use style=\"stroke:#000000;stroke-width:0.8;\" x=\"54\" xlink:href=\"#m83b2054d64\" y=\"123.591116\"/>\n",
       "      </g>\n",
       "     </g>\n",
       "     <g id=\"text_13\">\n",
       "      <!-- 0.3 -->\n",
       "      <g transform=\"translate(31.096875 127.390334)scale(0.1 -0.1)\">\n",
       "       <use xlink:href=\"#DejaVuSans-30\"/>\n",
       "       <use x=\"63.623047\" xlink:href=\"#DejaVuSans-2e\"/>\n",
       "       <use x=\"95.410156\" xlink:href=\"#DejaVuSans-33\"/>\n",
       "      </g>\n",
       "     </g>\n",
       "    </g>\n",
       "    <g id=\"ytick_8\">\n",
       "     <g id=\"line2d_14\">\n",
       "      <g>\n",
       "       <use style=\"stroke:#000000;stroke-width:0.8;\" x=\"54\" xlink:href=\"#m83b2054d64\" y=\"81.269131\"/>\n",
       "      </g>\n",
       "     </g>\n",
       "     <g id=\"text_14\">\n",
       "      <!-- 0.4 -->\n",
       "      <g transform=\"translate(31.096875 85.06835)scale(0.1 -0.1)\">\n",
       "       <use xlink:href=\"#DejaVuSans-30\"/>\n",
       "       <use x=\"63.623047\" xlink:href=\"#DejaVuSans-2e\"/>\n",
       "       <use x=\"95.410156\" xlink:href=\"#DejaVuSans-34\"/>\n",
       "      </g>\n",
       "     </g>\n",
       "    </g>\n",
       "   </g>\n",
       "   <g id=\"line2d_15\">\n",
       "    <defs>\n",
       "     <path d=\"M -3 3  L 3 -3  M -3 -3  L 3 3  \" id=\"m89a909db31\" style=\"stroke:#0000ff;\"/>\n",
       "    </defs>\n",
       "    <g clip-path=\"url(#p841de0453e)\">\n",
       "     <use style=\"fill:#0000ff;stroke:#0000ff;\" x=\"175.216431\" xlink:href=\"#m89a909db31\" y=\"101.990103\"/>\n",
       "     <use style=\"fill:#0000ff;stroke:#0000ff;\" x=\"174.796079\" xlink:href=\"#m89a909db31\" y=\"257.187273\"/>\n",
       "    </g>\n",
       "   </g>\n",
       "   <g id=\"line2d_16\">\n",
       "    <defs>\n",
       "     <path d=\"M -3 3  L 3 -3  M -3 -3  L 3 3  \" id=\"m0a977d4845\" style=\"stroke:#ff0000;\"/>\n",
       "    </defs>\n",
       "    <g clip-path=\"url(#p841de0453e)\">\n",
       "     <use style=\"fill:#ff0000;stroke:#ff0000;\" x=\"151.328974\" xlink:href=\"#m0a977d4845\" y=\"237.440681\"/>\n",
       "     <use style=\"fill:#ff0000;stroke:#ff0000;\" x=\"203.457643\" xlink:href=\"#m0a977d4845\" y=\"133.171735\"/>\n",
       "    </g>\n",
       "   </g>\n",
       "   <g id=\"patch_3\">\n",
       "    <path d=\"M 54 378  L 54 51.84  \" style=\"fill:none;stroke:#000000;stroke-linecap:square;stroke-linejoin:miter;stroke-width:0.8;\"/>\n",
       "   </g>\n",
       "   <g id=\"patch_4\">\n",
       "    <path d=\"M 388.8 378  L 388.8 51.84  \" style=\"fill:none;stroke:#000000;stroke-linecap:square;stroke-linejoin:miter;stroke-width:0.8;\"/>\n",
       "   </g>\n",
       "   <g id=\"patch_5\">\n",
       "    <path d=\"M 54 378  L 388.8 378  \" style=\"fill:none;stroke:#000000;stroke-linecap:square;stroke-linejoin:miter;stroke-width:0.8;\"/>\n",
       "   </g>\n",
       "   <g id=\"patch_6\">\n",
       "    <path d=\"M 54 51.84  L 388.8 51.84  \" style=\"fill:none;stroke:#000000;stroke-linecap:square;stroke-linejoin:miter;stroke-width:0.8;\"/>\n",
       "   </g>\n",
       "   <g id=\"legend_1\">\n",
       "    <g id=\"patch_7\">\n",
       "     <path d=\"M 301.365625 89.19625  L 381.8 89.19625  Q 383.8 89.19625 383.8 87.19625  L 383.8 58.84  Q 383.8 56.84 381.8 56.84  L 301.365625 56.84  Q 299.365625 56.84 299.365625 58.84  L 299.365625 87.19625  Q 299.365625 89.19625 301.365625 89.19625  z \" style=\"fill:#ffffff;opacity:0.8;stroke:#cccccc;stroke-linejoin:miter;\"/>\n",
       "    </g>\n",
       "    <g id=\"line2d_17\"/>\n",
       "    <g id=\"line2d_18\">\n",
       "     <g>\n",
       "      <use style=\"fill:#0000ff;stroke:#0000ff;\" x=\"313.365625\" xlink:href=\"#m89a909db31\" y=\"64.938437\"/>\n",
       "     </g>\n",
       "    </g>\n",
       "    <g id=\"text_15\">\n",
       "     <!-- 0 (wrong) -->\n",
       "     <defs>\n",
       "      <path id=\"DejaVuSans-20\"/>\n",
       "      <path d=\"M 31 75.875  Q 24.46875 64.65625 21.28125 53.65625  Q 18.109375 42.671875 18.109375 31.390625  Q 18.109375 20.125 21.3125 9.0625  Q 24.515625 -2 31 -13.1875  L 23.1875 -13.1875  Q 15.875 -1.703125 12.234375 9.375  Q 8.59375 20.453125 8.59375 31.390625  Q 8.59375 42.28125 12.203125 53.3125  Q 15.828125 64.359375 23.1875 75.875  z \" id=\"DejaVuSans-28\"/>\n",
       "      <path d=\"M 4.203125 54.6875  L 13.1875 54.6875  L 24.421875 12.015625  L 35.59375 54.6875  L 46.1875 54.6875  L 57.421875 12.015625  L 68.609375 54.6875  L 77.59375 54.6875  L 63.28125 0  L 52.6875 0  L 40.921875 44.828125  L 29.109375 0  L 18.5 0  z \" id=\"DejaVuSans-77\"/>\n",
       "      <path d=\"M 41.109375 46.296875  Q 39.59375 47.171875 37.8125 47.578125  Q 36.03125 48 33.890625 48  Q 26.265625 48 22.1875 43.046875  Q 18.109375 38.09375 18.109375 28.8125  L 18.109375 0  L 9.078125 0  L 9.078125 54.6875  L 18.109375 54.6875  L 18.109375 46.1875  Q 20.953125 51.171875 25.484375 53.578125  Q 30.03125 56 36.53125 56  Q 37.453125 56 38.578125 55.875  Q 39.703125 55.765625 41.0625 55.515625  z \" id=\"DejaVuSans-72\"/>\n",
       "      <path d=\"M 30.609375 48.390625  Q 23.390625 48.390625 19.1875 42.75  Q 14.984375 37.109375 14.984375 27.296875  Q 14.984375 17.484375 19.15625 11.84375  Q 23.34375 6.203125 30.609375 6.203125  Q 37.796875 6.203125 41.984375 11.859375  Q 46.1875 17.53125 46.1875 27.296875  Q 46.1875 37.015625 41.984375 42.703125  Q 37.796875 48.390625 30.609375 48.390625  z M 30.609375 56  Q 42.328125 56 49.015625 48.375  Q 55.71875 40.765625 55.71875 27.296875  Q 55.71875 13.875 49.015625 6.21875  Q 42.328125 -1.421875 30.609375 -1.421875  Q 18.84375 -1.421875 12.171875 6.21875  Q 5.515625 13.875 5.515625 27.296875  Q 5.515625 40.765625 12.171875 48.375  Q 18.84375 56 30.609375 56  z \" id=\"DejaVuSans-6f\"/>\n",
       "      <path d=\"M 54.890625 33.015625  L 54.890625 0  L 45.90625 0  L 45.90625 32.71875  Q 45.90625 40.484375 42.875 44.328125  Q 39.84375 48.1875 33.796875 48.1875  Q 26.515625 48.1875 22.3125 43.546875  Q 18.109375 38.921875 18.109375 30.90625  L 18.109375 0  L 9.078125 0  L 9.078125 54.6875  L 18.109375 54.6875  L 18.109375 46.1875  Q 21.34375 51.125 25.703125 53.5625  Q 30.078125 56 35.796875 56  Q 45.21875 56 50.046875 50.171875  Q 54.890625 44.34375 54.890625 33.015625  z \" id=\"DejaVuSans-6e\"/>\n",
       "      <path d=\"M 45.40625 27.984375  Q 45.40625 37.75 41.375 43.109375  Q 37.359375 48.484375 30.078125 48.484375  Q 22.859375 48.484375 18.828125 43.109375  Q 14.796875 37.75 14.796875 27.984375  Q 14.796875 18.265625 18.828125 12.890625  Q 22.859375 7.515625 30.078125 7.515625  Q 37.359375 7.515625 41.375 12.890625  Q 45.40625 18.265625 45.40625 27.984375  z M 54.390625 6.78125  Q 54.390625 -7.171875 48.1875 -13.984375  Q 42 -20.796875 29.203125 -20.796875  Q 24.46875 -20.796875 20.265625 -20.09375  Q 16.0625 -19.390625 12.109375 -17.921875  L 12.109375 -9.1875  Q 16.0625 -11.328125 19.921875 -12.34375  Q 23.78125 -13.375 27.78125 -13.375  Q 36.625 -13.375 41.015625 -8.765625  Q 45.40625 -4.15625 45.40625 5.171875  L 45.40625 9.625  Q 42.625 4.78125 38.28125 2.390625  Q 33.9375 0 27.875 0  Q 17.828125 0 11.671875 7.65625  Q 5.515625 15.328125 5.515625 27.984375  Q 5.515625 40.671875 11.671875 48.328125  Q 17.828125 56 27.875 56  Q 33.9375 56 38.28125 53.609375  Q 42.625 51.21875 45.40625 46.390625  L 45.40625 54.6875  L 54.390625 54.6875  z \" id=\"DejaVuSans-67\"/>\n",
       "      <path d=\"M 8.015625 75.875  L 15.828125 75.875  Q 23.140625 64.359375 26.78125 53.3125  Q 30.421875 42.28125 30.421875 31.390625  Q 30.421875 20.453125 26.78125 9.375  Q 23.140625 -1.703125 15.828125 -13.1875  L 8.015625 -13.1875  Q 14.5 -2 17.703125 9.0625  Q 20.90625 20.125 20.90625 31.390625  Q 20.90625 42.671875 17.703125 53.65625  Q 14.5 64.65625 8.015625 75.875  z \" id=\"DejaVuSans-29\"/>\n",
       "     </defs>\n",
       "     <g transform=\"translate(331.365625 68.438437)scale(0.1 -0.1)\">\n",
       "      <use xlink:href=\"#DejaVuSans-30\"/>\n",
       "      <use x=\"63.623047\" xlink:href=\"#DejaVuSans-20\"/>\n",
       "      <use x=\"95.410156\" xlink:href=\"#DejaVuSans-28\"/>\n",
       "      <use x=\"134.423828\" xlink:href=\"#DejaVuSans-77\"/>\n",
       "      <use x=\"216.210938\" xlink:href=\"#DejaVuSans-72\"/>\n",
       "      <use x=\"257.292969\" xlink:href=\"#DejaVuSans-6f\"/>\n",
       "      <use x=\"318.474609\" xlink:href=\"#DejaVuSans-6e\"/>\n",
       "      <use x=\"381.853516\" xlink:href=\"#DejaVuSans-67\"/>\n",
       "      <use x=\"445.330078\" xlink:href=\"#DejaVuSans-29\"/>\n",
       "     </g>\n",
       "    </g>\n",
       "    <g id=\"line2d_19\"/>\n",
       "    <g id=\"line2d_20\">\n",
       "     <g>\n",
       "      <use style=\"fill:#ff0000;stroke:#ff0000;\" x=\"313.365625\" xlink:href=\"#m0a977d4845\" y=\"79.616562\"/>\n",
       "     </g>\n",
       "    </g>\n",
       "    <g id=\"text_16\">\n",
       "     <!-- 1 (wrong) -->\n",
       "     <g transform=\"translate(331.365625 83.116562)scale(0.1 -0.1)\">\n",
       "      <use xlink:href=\"#DejaVuSans-31\"/>\n",
       "      <use x=\"63.623047\" xlink:href=\"#DejaVuSans-20\"/>\n",
       "      <use x=\"95.410156\" xlink:href=\"#DejaVuSans-28\"/>\n",
       "      <use x=\"134.423828\" xlink:href=\"#DejaVuSans-77\"/>\n",
       "      <use x=\"216.210938\" xlink:href=\"#DejaVuSans-72\"/>\n",
       "      <use x=\"257.292969\" xlink:href=\"#DejaVuSans-6f\"/>\n",
       "      <use x=\"318.474609\" xlink:href=\"#DejaVuSans-6e\"/>\n",
       "      <use x=\"381.853516\" xlink:href=\"#DejaVuSans-67\"/>\n",
       "      <use x=\"445.330078\" xlink:href=\"#DejaVuSans-29\"/>\n",
       "     </g>\n",
       "    </g>\n",
       "   </g>\n",
       "  </g>\n",
       " </g>\n",
       " <defs>\n",
       "  <clipPath id=\"p841de0453e\">\n",
       "   <rect height=\"326.16\" width=\"334.8\" x=\"54\" y=\"51.84\"/>\n",
       "  </clipPath>\n",
       " </defs>\n",
       "</svg>"
      ],
      "text/plain": [
       "<IPython.core.display.SVG object>"
      ]
     },
     "metadata": {},
     "output_type": "display_data"
    }
   ],
   "source": [
    "symbols = {\n",
    "    \"0 (correct)\": \"bo\",\n",
    "    \"0 (wrong)\": \"bx\",\n",
    "    \"1 (correct)\": \"ro\",\n",
    "    \"1 (wrong)\": \"rx\",\n",
    "}\n",
    "net.playback(lambda net,epoch: cx.scatter(**pca.transform_network_bank(net, \"hidden\"),\n",
    "                                          symbols=symbols,\n",
    "                                          format='svg'))"
   ]
  },
  {
   "cell_type": "code",
   "execution_count": 13,
   "metadata": {},
   "outputs": [],
   "source": [
    "net.set_weights_from_history(-1)"
   ]
  },
  {
   "cell_type": "code",
   "execution_count": 14,
   "metadata": {},
   "outputs": [
    {
     "data": {
      "text/plain": [
       "[0.0, 1.0]"
      ]
     },
     "execution_count": 14,
     "metadata": {},
     "output_type": "execute_result"
    }
   ],
   "source": [
    "net.propagate_to(\"input\", [0, 1])"
   ]
  },
  {
   "cell_type": "code",
   "execution_count": 15,
   "metadata": {},
   "outputs": [
    {
     "data": {
      "text/plain": [
       "[0.23022033274173737]"
      ]
     },
     "execution_count": 15,
     "metadata": {},
     "output_type": "execute_result"
    }
   ],
   "source": [
    "net.propagate([0.5, 0.5])"
   ]
  },
  {
   "cell_type": "code",
   "execution_count": 16,
   "metadata": {},
   "outputs": [
    {
     "data": {
      "text/plain": [
       "[0.08819267153739929, 0.03618663176894188, 0.010262570343911648]"
      ]
     },
     "execution_count": 16,
     "metadata": {},
     "output_type": "execute_result"
    }
   ],
   "source": [
    "net.propagate_to(\"hidden\", [1, 0])"
   ]
  },
  {
   "cell_type": "code",
   "execution_count": 17,
   "metadata": {},
   "outputs": [
    {
     "data": {
      "text/plain": [
       "[0.09953280538320541]"
      ]
     },
     "execution_count": 17,
     "metadata": {},
     "output_type": "execute_result"
    }
   ],
   "source": [
    "net.propagate_to(\"output\", [1, 1])"
   ]
  },
  {
   "cell_type": "code",
   "execution_count": 18,
   "metadata": {},
   "outputs": [
    {
     "data": {
      "text/plain": [
       "[0.25, 0.25]"
      ]
     },
     "execution_count": 18,
     "metadata": {},
     "output_type": "execute_result"
    }
   ],
   "source": [
    "net.propagate_to(\"input\", [0.25, 0.25])"
   ]
  },
  {
   "cell_type": "code",
   "execution_count": 19,
   "metadata": {},
   "outputs": [
    {
     "data": {
      "text/plain": [
       "[0.099532805]"
      ]
     },
     "execution_count": 19,
     "metadata": {},
     "output_type": "execute_result"
    }
   ],
   "source": [
    "net.propagate_from(\"input\", [1.0, 1.0])"
   ]
  },
  {
   "cell_type": "code",
   "execution_count": 20,
   "metadata": {},
   "outputs": [
    {
     "data": {
      "text/plain": [
       "[0.00016305932]"
      ]
     },
     "execution_count": 20,
     "metadata": {},
     "output_type": "execute_result"
    }
   ],
   "source": [
    "net.propagate_from(\"hidden\", [1.0, 0.0, -1.0])"
   ]
  },
  {
   "cell_type": "code",
   "execution_count": 21,
   "metadata": {},
   "outputs": [],
   "source": [
    "net2 = cx.Network(\"XOR2 Network\")\n",
    "\n",
    "net2.add(cx.Layer(\"input1\", 1),\n",
    "         cx.Layer(\"input2\", 1),\n",
    "         cx.Layer(\"hidden1\", 10, activation=\"sigmoid\"),\n",
    "         cx.Layer(\"hidden2\", 10, activation=\"sigmoid\"),\n",
    "         cx.Layer(\"shared-hidden\", 5, activation=\"sigmoid\"),\n",
    "         cx.Layer(\"output1\", 1, activation=\"sigmoid\"),\n",
    "         cx.Layer(\"output2\", 1, activation=\"sigmoid\"))\n",
    "\n",
    "net2.connect(\"input1\", \"hidden1\")\n",
    "net2.connect(\"input2\", \"hidden2\")\n",
    "net2.connect(\"hidden1\", \"shared-hidden\")\n",
    "net2.connect(\"hidden2\", \"shared-hidden\")\n",
    "net2.connect(\"shared-hidden\", \"output1\")\n",
    "net2.connect(\"shared-hidden\", \"output2\")"
   ]
  },
  {
   "cell_type": "code",
   "execution_count": 22,
   "metadata": {},
   "outputs": [
    {
     "data": {
      "application/javascript": [
       "\n",
       "require(['base/js/namespace'], function(Jupyter) {\n",
       "    Jupyter.notebook.kernel.comm_manager.register_target('conx_svg_control', function(comm, msg) {\n",
       "        comm.on_msg(function(msg) {\n",
       "            var data = msg[\"content\"][\"data\"];\n",
       "            var images = document.getElementsByClassName(data[\"class\"]);\n",
       "            for (var i = 0; i < images.length; i++) {\n",
       "                if (data[\"href\"]) {\n",
       "                    images[i].setAttributeNS(null, \"href\", data[\"href\"]);\n",
       "                }\n",
       "                if (data[\"src\"]) {\n",
       "                    images[i].setAttributeNS(null, \"src\", data[\"src\"]);\n",
       "                }\n",
       "            }\n",
       "        });\n",
       "    });\n",
       "});\n"
      ],
      "text/plain": [
       "<IPython.core.display.Javascript object>"
      ]
     },
     "metadata": {},
     "output_type": "display_data"
    },
    {
     "data": {
      "text/html": [
       "<svg id='XOR2 Network' xmlns='http://www.w3.org/2000/svg' image-rendering=\"pixelated\" width=\"400.0px\" height=\"194.28571428571428px\">\n",
       " <g >\n",
       "  <svg viewBox=\"0 0 700 340\" width=\"400.0px\" height=\"194.28571428571428px\">\n",
       "    <defs>\n",
       "        <marker id=\"arrow\" markerWidth=\"10\" markerHeight=\"10\" refX=\"9\" refY=\"3\" orient=\"auto\" markerUnits=\"strokeWidth\">\n",
       "          <path d=\"M0,0 L0,6 L9,3 z\" fill=\"black\" />\n",
       "        </marker>\n",
       "    </defs><rect x=\"207.33333333333334\" y=\"24\" width=\"52\" height=\"52\" style=\"fill:none;stroke:black;stroke-width:2\"/><image id=\"picture-static-XOR2 Network-398946_output1_1\" class=\"picture-static-XOR2 Network-398946_output1\" x=\"208.33333333333334\" y=\"25\" height=\"50\" width=\"50\" preserveAspectRatio=\"none\" href=\"data:image/gif;base64,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\"><title>Layer: output1 (output)\n",
       " output range: (0, 1)\n",
       " shape = (1,)\n",
       " Keras class = Dense\n",
       " activation = sigmoid</title></image><text x=\"263.33333333333337\" y=\"52.0\" font-family=\"monospace\" font-size=\"12\" text-anchor=\"start\" fill=\"black\" alignment-baseline=\"central\" >output1</text><rect x=\"440.6666666666667\" y=\"24\" width=\"52\" height=\"52\" style=\"fill:none;stroke:black;stroke-width:2\"/><image id=\"picture-static-XOR2 Network-398946_output2_2\" class=\"picture-static-XOR2 Network-398946_output2\" x=\"441.6666666666667\" y=\"25\" height=\"50\" width=\"50\" preserveAspectRatio=\"none\" href=\"data:image/gif;base64,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\"><title>Layer: output2 (output)\n",
       " output range: (0, 1)\n",
       " shape = (1,)\n",
       " Keras class = Dense\n",
       " activation = sigmoid</title></image><text x=\"496.6666666666667\" y=\"52.0\" font-family=\"monospace\" font-size=\"12\" text-anchor=\"start\" fill=\"black\" alignment-baseline=\"central\" >output2</text><line x1=\"350.0\" y1=\"104\" x2=\"233.33333333333334\" y2=\"77\" stroke=\"black\" stroke-width=\"2\" marker-end=\"url(#arrow)\"><title>Weights from shared-hidden to output1</title></line><line x1=\"350.0\" y1=\"104\" x2=\"466.6666666666667\" y2=\"77\" stroke=\"black\" stroke-width=\"2\" marker-end=\"url(#arrow)\"><title>Weights from shared-hidden to output2</title></line><rect x=\"249.0\" y=\"104\" width=\"202\" height=\"52\" style=\"fill:none;stroke:black;stroke-width:2\"/><image id=\"picture-static-XOR2 Network-398946_shared-hidden_3\" class=\"picture-static-XOR2 Network-398946_shared-hidden\" x=\"250.0\" y=\"105\" height=\"50\" width=\"200\" preserveAspectRatio=\"none\" href=\"data:image/gif;base64,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\"><title>Layer: shared-hidden (hidden)\n",
       " output range: (0, 1)\n",
       " shape = (5,)\n",
       " Keras class = Dense\n",
       " activation = sigmoid</title></image><text x=\"455.0\" y=\"132.0\" font-family=\"monospace\" font-size=\"12\" text-anchor=\"start\" fill=\"black\" alignment-baseline=\"central\" >shared-hidden</text><line x1=\"233.33333333333334\" y1=\"184\" x2=\"350.0\" y2=\"157\" stroke=\"black\" stroke-width=\"2\" marker-end=\"url(#arrow)\"><title>Weights from hidden1 to shared-hidden</title></line><rect x=\"132.33333333333334\" y=\"184\" width=\"202\" height=\"52\" style=\"fill:none;stroke:black;stroke-width:2\"/><image id=\"picture-static-XOR2 Network-398946_hidden1_4\" class=\"picture-static-XOR2 Network-398946_hidden1\" x=\"133.33333333333334\" y=\"185\" height=\"50\" width=\"200\" preserveAspectRatio=\"none\" href=\"data:image/gif;base64,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\"><title>Layer: hidden1 (hidden)\n",
       " output range: (0, 1)\n",
       " shape = (10,)\n",
       " Keras class = Dense\n",
       " activation = sigmoid</title></image><text x=\"338.33333333333337\" y=\"212.0\" font-family=\"monospace\" font-size=\"12\" text-anchor=\"start\" fill=\"black\" alignment-baseline=\"central\" >hidden1</text><line x1=\"466.6666666666667\" y1=\"184\" x2=\"350.0\" y2=\"157\" stroke=\"black\" stroke-width=\"2\" marker-end=\"url(#arrow)\"><title>Weights from hidden2 to shared-hidden</title></line><rect x=\"365.6666666666667\" y=\"184\" width=\"202\" height=\"52\" style=\"fill:none;stroke:black;stroke-width:2\"/><image id=\"picture-static-XOR2 Network-398946_hidden2_5\" class=\"picture-static-XOR2 Network-398946_hidden2\" x=\"366.6666666666667\" y=\"185\" height=\"50\" width=\"200\" preserveAspectRatio=\"none\" href=\"data:image/gif;base64,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\"><title>Layer: hidden2 (hidden)\n",
       " output range: (0, 1)\n",
       " shape = (10,)\n",
       " Keras class = Dense\n",
       " activation = sigmoid</title></image><text x=\"571.6666666666667\" y=\"212.0\" font-family=\"monospace\" font-size=\"12\" text-anchor=\"start\" fill=\"black\" alignment-baseline=\"central\" >hidden2</text><line x1=\"233.33333333333334\" y1=\"264\" x2=\"233.33333333333334\" y2=\"237\" stroke=\"black\" stroke-width=\"2\" marker-end=\"url(#arrow)\"><title>Weights from input1 to hidden1</title></line><rect x=\"207.33333333333334\" y=\"264\" width=\"52\" height=\"52\" style=\"fill:none;stroke:black;stroke-width:2\"/><image id=\"picture-static-XOR2 Network-398946_input1_6\" class=\"picture-static-XOR2 Network-398946_input1\" x=\"208.33333333333334\" y=\"265\" height=\"50\" width=\"50\" preserveAspectRatio=\"none\" href=\"data:image/gif;base64,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\"><title>Layer: input1 (input)\n",
       " output range: (-Infinity, +Infinity)\n",
       " shape = (1,)\n",
       " Keras class = Input</title></image><text x=\"263.33333333333337\" y=\"292.0\" font-family=\"monospace\" font-size=\"12\" text-anchor=\"start\" fill=\"black\" alignment-baseline=\"central\" >input1</text><line x1=\"466.6666666666667\" y1=\"264\" x2=\"466.6666666666667\" y2=\"237\" stroke=\"black\" stroke-width=\"2\" marker-end=\"url(#arrow)\"><title>Weights from input2 to hidden2</title></line><rect x=\"440.6666666666667\" y=\"264\" width=\"52\" height=\"52\" style=\"fill:none;stroke:black;stroke-width:2\"/><image id=\"picture-static-XOR2 Network-398946_input2_7\" class=\"picture-static-XOR2 Network-398946_input2\" x=\"441.6666666666667\" y=\"265\" height=\"50\" width=\"50\" preserveAspectRatio=\"none\" href=\"data:image/gif;base64,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\"><title>Layer: input2 (input)\n",
       " output range: (-Infinity, +Infinity)\n",
       " shape = (1,)\n",
       " Keras class = Input</title></image><text x=\"496.6666666666667\" y=\"292.0\" font-family=\"monospace\" font-size=\"12\" text-anchor=\"start\" fill=\"black\" alignment-baseline=\"central\" >input2</text><text x=\"350.0\" y=\"12.5\" font-family=\"monospace\" font-size=\"15\" text-anchor=\"middle\" fill=\"black\" alignment-baseline=\"central\" >XOR2 Network</text></svg></g></svg>"
      ],
      "text/plain": [
       "<IPython.core.display.HTML object>"
      ]
     },
     "execution_count": 22,
     "metadata": {},
     "output_type": "execute_result"
    }
   ],
   "source": [
    "net2.picture()"
   ]
  },
  {
   "cell_type": "code",
   "execution_count": 23,
   "metadata": {},
   "outputs": [
    {
     "data": {
      "text/plain": [
       "[<Layer name='input1', shape=(1,), act='None'>]"
      ]
     },
     "execution_count": 23,
     "metadata": {},
     "output_type": "execute_result"
    }
   ],
   "source": [
    "net2.layers[2].incoming_connections"
   ]
  },
  {
   "cell_type": "code",
   "execution_count": 24,
   "metadata": {},
   "outputs": [],
   "source": [
    "net2.compile(loss='mean_squared_error', optimizer='SGD', lr=0.3, momentum=0.9)"
   ]
  },
  {
   "cell_type": "code",
   "execution_count": 25,
   "metadata": {},
   "outputs": [
    {
     "data": {
      "application/vnd.jupyter.widget-view+json": {
       "model_id": "0c41f7b8547f40559583669bc824b696",
       "version_major": 2,
       "version_minor": 0
      },
      "text/html": [
       "<p>Failed to display Jupyter Widget of type <code>Dashboard</code>.</p>\n",
       "<p>\n",
       "  If you're reading this message in the Jupyter Notebook or JupyterLab Notebook, it may mean\n",
       "  that the widgets JavaScript is still loading. If this message persists, it\n",
       "  likely means that the widgets JavaScript library is either not installed or\n",
       "  not enabled. See the <a href=\"https://ipywidgets.readthedocs.io/en/stable/user_install.html\">Jupyter\n",
       "  Widgets Documentation</a> for setup instructions.\n",
       "</p>\n",
       "<p>\n",
       "  If you're reading this message in another frontend (for example, a static\n",
       "  rendering on GitHub or <a href=\"https://nbviewer.jupyter.org/\">NBViewer</a>),\n",
       "  it may mean that your frontend doesn't currently support widgets.\n",
       "</p>\n"
      ],
      "text/plain": [
       "Dashboard(children=(Accordion(children=(HBox(children=(VBox(children=(Select(description='Dataset:', index=1, options=('Test', 'Train'), rows=1, value='Train'), FloatSlider(value=0.5, continuous_update=False, description='Zoom', layout=Layout(width='65%'), max=1.0, style=SliderStyle(description_width='initial')), IntText(value=200, description='Horizontal space between banks:', style=DescriptionStyle(description_width='initial')), IntText(value=30, description='Vertical space between layers:', style=DescriptionStyle(description_width='initial')), HBox(children=(Checkbox(value=False, description='Show Targets', style=DescriptionStyle(description_width='initial')), Checkbox(value=False, description='Errors', style=DescriptionStyle(description_width='initial')))), Select(description='Features:', options=('',), rows=1, value=''), IntText(value=3, description='Feature columns:', style=DescriptionStyle(description_width='initial')), FloatText(value=1.0, description='Feature scale:', style=DescriptionStyle(description_width='initial'))), layout=Layout(width='100%')), VBox(children=(Select(description='Layer:', index=6, options=('input1', 'input2', 'hidden1', 'hidden2', 'shared-hidden', 'output1', 'output2'), rows=1, value='output2'), Checkbox(value=True, description='Visible'), Select(description='Colormap:', options=('', 'Accent', 'Accent_r', 'Blues', 'Blues_r', 'BrBG', 'BrBG_r', 'BuGn', 'BuGn_r', 'BuPu', 'BuPu_r', 'CMRmap', 'CMRmap_r', 'Dark2', 'Dark2_r', 'GnBu', 'GnBu_r', 'Greens', 'Greens_r', 'Greys', 'Greys_r', 'OrRd', 'OrRd_r', 'Oranges', 'Oranges_r', 'PRGn', 'PRGn_r', 'Paired', 'Paired_r', 'Pastel1', 'Pastel1_r', 'Pastel2', 'Pastel2_r', 'PiYG', 'PiYG_r', 'PuBu', 'PuBuGn', 'PuBuGn_r', 'PuBu_r', 'PuOr', 'PuOr_r', 'PuRd', 'PuRd_r', 'Purples', 'Purples_r', 'RdBu', 'RdBu_r', 'RdGy', 'RdGy_r', 'RdPu', 'RdPu_r', 'RdYlBu', 'RdYlBu_r', 'RdYlGn', 'RdYlGn_r', 'Reds', 'Reds_r', 'Set1', 'Set1_r', 'Set2', 'Set2_r', 'Set3', 'Set3_r', 'Spectral', 'Spectral_r', 'Vega10', 'Vega10_r', 'Vega20', 'Vega20_r', 'Vega20b', 'Vega20b_r', 'Vega20c', 'Vega20c_r', 'Wistia', 'Wistia_r', 'YlGn', 'YlGnBu', 'YlGnBu_r', 'YlGn_r', 'YlOrBr', 'YlOrBr_r', 'YlOrRd', 'YlOrRd_r', 'afmhot', 'afmhot_r', 'autumn', 'autumn_r', 'binary', 'binary_r', 'bone', 'bone_r', 'brg', 'brg_r', 'bwr', 'bwr_r', 'cool', 'cool_r', 'coolwarm', 'coolwarm_r', 'copper', 'copper_r', 'cubehelix', 'cubehelix_r', 'flag', 'flag_r', 'gist_earth', 'gist_earth_r', 'gist_gray', 'gist_gray_r', 'gist_heat', 'gist_heat_r', 'gist_ncar', 'gist_ncar_r', 'gist_rainbow', 'gist_rainbow_r', 'gist_stern', 'gist_stern_r', 'gist_yarg', 'gist_yarg_r', 'gnuplot', 'gnuplot2', 'gnuplot2_r', 'gnuplot_r', 'gray', 'gray_r', 'hot', 'hot_r', 'hsv', 'hsv_r', 'inferno', 'inferno_r', 'jet', 'jet_r', 'magma', 'magma_r', 'nipy_spectral', 'nipy_spectral_r', 'ocean', 'ocean_r', 'pink', 'pink_r', 'plasma', 'plasma_r', 'prism', 'prism_r', 'rainbow', 'rainbow_r', 'seismic', 'seismic_r', 'spectral', 'spectral_r', 'spring', 'spring_r', 'summer', 'summer_r', 'tab10', 'tab10_r', 'tab20', 'tab20_r', 'tab20b', 'tab20b_r', 'tab20c', 'tab20c_r', 'terrain', 'terrain_r', 'viridis', 'viridis_r', 'winter', 'winter_r'), rows=1, value=''), HTML(value='<img src=\"data:image/gif;base64,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\"/>'), FloatText(value=0.0, description='Leftmost color maps to:', style=DescriptionStyle(description_width='initial')), FloatText(value=1.0, description='Rightmost color maps to:', style=DescriptionStyle(description_width='initial')), IntText(value=0, description='Feature to show:', style=DescriptionStyle(description_width='initial')), HBox(children=(Checkbox(value=False, description='Rotate network', layout=Layout(width='52%'), style=DescriptionStyle(description_width='initial')), Button(icon='save', layout=Layout(width='10%'), style=ButtonStyle())))), layout=Layout(width='100%')))),), selected_index=None, _titles={'0': 'XOR2 Network'}), VBox(children=(HBox(children=(IntSlider(value=0, continuous_update=False, description='Dataset index', layout=Layout(width='100%'), max=0), Label(value='of 0', layout=Layout(width='100px'))), layout=Layout(height='40px')), HBox(children=(Button(icon='fast-backward', layout=Layout(width='100%'), style=ButtonStyle()), Button(icon='backward', layout=Layout(width='100%'), style=ButtonStyle()), IntText(value=0, layout=Layout(width='100%')), Button(icon='forward', layout=Layout(width='100%'), style=ButtonStyle()), Button(icon='fast-forward', layout=Layout(width='100%'), style=ButtonStyle()), Button(description='Play', icon='play', layout=Layout(width='100%'), style=ButtonStyle()), Button(icon='refresh', layout=Layout(width='25%'), style=ButtonStyle())), layout=Layout(height='50px', width='100%'))), layout=Layout(width='100%')), HTML(value='<p style=\"text-align:center\"></p>', layout=Layout(justify_content='center', overflow_x='auto', overflow_y='auto', width='95%')), Output()))"
      ]
     },
     "metadata": {},
     "output_type": "display_data"
    }
   ],
   "source": [
    "net2.config[\"hspace\"] = 200\n",
    "dash = net2.dashboard()\n",
    "dash"
   ]
  },
  {
   "cell_type": "code",
   "execution_count": 26,
   "metadata": {},
   "outputs": [
    {
     "data": {
      "text/plain": [
       "[0.41164860129356384,\n",
       " 0.6558945775032043,\n",
       " 0.5304865837097168,\n",
       " 0.6376801133155823,\n",
       " 0.6549503207206726,\n",
       " 0.6577186584472656,\n",
       " 0.3398575186729431,\n",
       " 0.3786383271217346,\n",
       " 0.375860333442688,\n",
       " 0.6729684472084045]"
      ]
     },
     "execution_count": 26,
     "metadata": {},
     "output_type": "execute_result"
    }
   ],
   "source": [
    "net2.propagate_to(\"hidden1\", [[1], [1]])"
   ]
  },
  {
   "cell_type": "code",
   "execution_count": 27,
   "metadata": {},
   "outputs": [
    {
     "data": {
      "text/plain": [
       "[[0.5289972424507141], [0.5216334462165833]]"
      ]
     },
     "execution_count": 27,
     "metadata": {},
     "output_type": "execute_result"
    }
   ],
   "source": [
    "net2.propagate([[1], [1]])"
   ]
  },
  {
   "cell_type": "code",
   "execution_count": 28,
   "metadata": {},
   "outputs": [],
   "source": [
    "XOR2 = [\n",
    "    ([[0],[0]], [[0],[0]]),\n",
    "    ([[0],[1]], [[1],[1]]),\n",
    "    ([[1],[0]], [[1],[1]]),\n",
    "    ([[1],[1]], [[0],[0]])\n",
    "]"
   ]
  },
  {
   "cell_type": "code",
   "execution_count": 29,
   "metadata": {},
   "outputs": [],
   "source": [
    "net2.dataset.load(XOR2)"
   ]
  },
  {
   "cell_type": "code",
   "execution_count": 30,
   "metadata": {},
   "outputs": [
    {
     "data": {
      "text/plain": [
       "[[[0.10360556840896606,\n",
       "   0.007417023181915283,\n",
       "   0.7205445170402527,\n",
       "   -0.46124929189682007,\n",
       "   -0.3977455794811249,\n",
       "   -0.3434865474700928,\n",
       "   -0.5686421394348145,\n",
       "   0.5728721022605896,\n",
       "   0.5689478516578674,\n",
       "   -0.7266545295715332]],\n",
       " [0.0, 0.0, 0.0, 0.0, 0.0, 0.0, 0.0, 0.0, 0.0, 0.0]]"
      ]
     },
     "execution_count": 30,
     "metadata": {},
     "output_type": "execute_result"
    }
   ],
   "source": [
    "net2.get_weights(\"hidden2\")"
   ]
  },
  {
   "cell_type": "code",
   "execution_count": 31,
   "metadata": {},
   "outputs": [
    {
     "data": {
      "text/plain": [
       "[[0.5289972424507141], [0.5216334462165833]]"
      ]
     },
     "execution_count": 31,
     "metadata": {},
     "output_type": "execute_result"
    }
   ],
   "source": [
    "net2.propagate([[1], [1]])"
   ]
  },
  {
   "cell_type": "code",
   "execution_count": 32,
   "metadata": {},
   "outputs": [
    {
     "data": {
      "image/svg+xml": [
       "<svg height=\"288pt\" version=\"1.1\" viewBox=\"0 0 432 288\" width=\"432pt\" xmlns=\"http://www.w3.org/2000/svg\" xmlns:xlink=\"http://www.w3.org/1999/xlink\">\n",
       " <defs>\n",
       "  <style type=\"text/css\">\n",
       "*{stroke-linecap:butt;stroke-linejoin:round;}\n",
       "  </style>\n",
       " </defs>\n",
       " <g id=\"figure_1\">\n",
       "  <g id=\"patch_1\">\n",
       "   <path d=\"M 0 288  L 432 288  L 432 0  L 0 0  z \" style=\"fill:#ffffff;\"/>\n",
       "  </g>\n",
       "  <g id=\"axes_1\">\n",
       "   <g id=\"patch_2\">\n",
       "    <path d=\"M 54 252  L 388.8 252  L 388.8 34.56  L 54 34.56  z \" style=\"fill:#ffffff;\"/>\n",
       "   </g>\n",
       "   <g id=\"matplotlib.axis_1\">\n",
       "    <g id=\"xtick_1\">\n",
       "     <g id=\"line2d_1\">\n",
       "      <defs>\n",
       "       <path d=\"M 0 0  L 0 3.5  \" id=\"m572a70d999\" style=\"stroke:#000000;stroke-width:0.8;\"/>\n",
       "      </defs>\n",
       "      <g>\n",
       "       <use style=\"stroke:#000000;stroke-width:0.8;\" x=\"69.218182\" xlink:href=\"#m572a70d999\" y=\"252\"/>\n",
       "      </g>\n",
       "     </g>\n",
       "     <g id=\"text_1\">\n",
       "      <!-- 0 -->\n",
       "      <defs>\n",
       "       <path d=\"M 31.78125 66.40625  Q 24.171875 66.40625 20.328125 58.90625  Q 16.5 51.421875 16.5 36.375  Q 16.5 21.390625 20.328125 13.890625  Q 24.171875 6.390625 31.78125 6.390625  Q 39.453125 6.390625 43.28125 13.890625  Q 47.125 21.390625 47.125 36.375  Q 47.125 51.421875 43.28125 58.90625  Q 39.453125 66.40625 31.78125 66.40625  z M 31.78125 74.21875  Q 44.046875 74.21875 50.515625 64.515625  Q 56.984375 54.828125 56.984375 36.375  Q 56.984375 17.96875 50.515625 8.265625  Q 44.046875 -1.421875 31.78125 -1.421875  Q 19.53125 -1.421875 13.0625 8.265625  Q 6.59375 17.96875 6.59375 36.375  Q 6.59375 54.828125 13.0625 64.515625  Q 19.53125 74.21875 31.78125 74.21875  z \" id=\"DejaVuSans-30\"/>\n",
       "      </defs>\n",
       "      <g transform=\"translate(66.036932 266.598437)scale(0.1 -0.1)\">\n",
       "       <use xlink:href=\"#DejaVuSans-30\"/>\n",
       "      </g>\n",
       "     </g>\n",
       "    </g>\n",
       "    <g id=\"xtick_2\">\n",
       "     <g id=\"line2d_2\">\n",
       "      <g>\n",
       "       <use style=\"stroke:#000000;stroke-width:0.8;\" x=\"107.263636\" xlink:href=\"#m572a70d999\" y=\"252\"/>\n",
       "      </g>\n",
       "     </g>\n",
       "     <g id=\"text_2\">\n",
       "      <!-- 250 -->\n",
       "      <defs>\n",
       "       <path d=\"M 19.1875 8.296875  L 53.609375 8.296875  L 53.609375 0  L 7.328125 0  L 7.328125 8.296875  Q 12.9375 14.109375 22.625 23.890625  Q 32.328125 33.6875 34.8125 36.53125  Q 39.546875 41.84375 41.421875 45.53125  Q 43.3125 49.21875 43.3125 52.78125  Q 43.3125 58.59375 39.234375 62.25  Q 35.15625 65.921875 28.609375 65.921875  Q 23.96875 65.921875 18.8125 64.3125  Q 13.671875 62.703125 7.8125 59.421875  L 7.8125 69.390625  Q 13.765625 71.78125 18.9375 73  Q 24.125 74.21875 28.421875 74.21875  Q 39.75 74.21875 46.484375 68.546875  Q 53.21875 62.890625 53.21875 53.421875  Q 53.21875 48.921875 51.53125 44.890625  Q 49.859375 40.875 45.40625 35.40625  Q 44.1875 33.984375 37.640625 27.21875  Q 31.109375 20.453125 19.1875 8.296875  z \" id=\"DejaVuSans-32\"/>\n",
       "       <path d=\"M 10.796875 72.90625  L 49.515625 72.90625  L 49.515625 64.59375  L 19.828125 64.59375  L 19.828125 46.734375  Q 21.96875 47.46875 24.109375 47.828125  Q 26.265625 48.1875 28.421875 48.1875  Q 40.625 48.1875 47.75 41.5  Q 54.890625 34.8125 54.890625 23.390625  Q 54.890625 11.625 47.5625 5.09375  Q 40.234375 -1.421875 26.90625 -1.421875  Q 22.3125 -1.421875 17.546875 -0.640625  Q 12.796875 0.140625 7.71875 1.703125  L 7.71875 11.625  Q 12.109375 9.234375 16.796875 8.0625  Q 21.484375 6.890625 26.703125 6.890625  Q 35.15625 6.890625 40.078125 11.328125  Q 45.015625 15.765625 45.015625 23.390625  Q 45.015625 31 40.078125 35.4375  Q 35.15625 39.890625 26.703125 39.890625  Q 22.75 39.890625 18.8125 39.015625  Q 14.890625 38.140625 10.796875 36.28125  z \" id=\"DejaVuSans-35\"/>\n",
       "      </defs>\n",
       "      <g transform=\"translate(97.719886 266.598437)scale(0.1 -0.1)\">\n",
       "       <use xlink:href=\"#DejaVuSans-32\"/>\n",
       "       <use x=\"63.623047\" xlink:href=\"#DejaVuSans-35\"/>\n",
       "       <use x=\"127.246094\" xlink:href=\"#DejaVuSans-30\"/>\n",
       "      </g>\n",
       "     </g>\n",
       "    </g>\n",
       "    <g id=\"xtick_3\">\n",
       "     <g id=\"line2d_3\">\n",
       "      <g>\n",
       "       <use style=\"stroke:#000000;stroke-width:0.8;\" x=\"145.309091\" xlink:href=\"#m572a70d999\" y=\"252\"/>\n",
       "      </g>\n",
       "     </g>\n",
       "     <g id=\"text_3\">\n",
       "      <!-- 500 -->\n",
       "      <g transform=\"translate(135.765341 266.598437)scale(0.1 -0.1)\">\n",
       "       <use xlink:href=\"#DejaVuSans-35\"/>\n",
       "       <use x=\"63.623047\" xlink:href=\"#DejaVuSans-30\"/>\n",
       "       <use x=\"127.246094\" xlink:href=\"#DejaVuSans-30\"/>\n",
       "      </g>\n",
       "     </g>\n",
       "    </g>\n",
       "    <g id=\"xtick_4\">\n",
       "     <g id=\"line2d_4\">\n",
       "      <g>\n",
       "       <use style=\"stroke:#000000;stroke-width:0.8;\" x=\"183.354545\" xlink:href=\"#m572a70d999\" y=\"252\"/>\n",
       "      </g>\n",
       "     </g>\n",
       "     <g id=\"text_4\">\n",
       "      <!-- 750 -->\n",
       "      <defs>\n",
       "       <path d=\"M 8.203125 72.90625  L 55.078125 72.90625  L 55.078125 68.703125  L 28.609375 0  L 18.3125 0  L 43.21875 64.59375  L 8.203125 64.59375  z \" id=\"DejaVuSans-37\"/>\n",
       "      </defs>\n",
       "      <g transform=\"translate(173.810795 266.598437)scale(0.1 -0.1)\">\n",
       "       <use xlink:href=\"#DejaVuSans-37\"/>\n",
       "       <use x=\"63.623047\" xlink:href=\"#DejaVuSans-35\"/>\n",
       "       <use x=\"127.246094\" xlink:href=\"#DejaVuSans-30\"/>\n",
       "      </g>\n",
       "     </g>\n",
       "    </g>\n",
       "    <g id=\"xtick_5\">\n",
       "     <g id=\"line2d_5\">\n",
       "      <g>\n",
       "       <use style=\"stroke:#000000;stroke-width:0.8;\" x=\"221.4\" xlink:href=\"#m572a70d999\" y=\"252\"/>\n",
       "      </g>\n",
       "     </g>\n",
       "     <g id=\"text_5\">\n",
       "      <!-- 1000 -->\n",
       "      <defs>\n",
       "       <path d=\"M 12.40625 8.296875  L 28.515625 8.296875  L 28.515625 63.921875  L 10.984375 60.40625  L 10.984375 69.390625  L 28.421875 72.90625  L 38.28125 72.90625  L 38.28125 8.296875  L 54.390625 8.296875  L 54.390625 0  L 12.40625 0  z \" id=\"DejaVuSans-31\"/>\n",
       "      </defs>\n",
       "      <g transform=\"translate(208.675 266.598437)scale(0.1 -0.1)\">\n",
       "       <use xlink:href=\"#DejaVuSans-31\"/>\n",
       "       <use x=\"63.623047\" xlink:href=\"#DejaVuSans-30\"/>\n",
       "       <use x=\"127.246094\" xlink:href=\"#DejaVuSans-30\"/>\n",
       "       <use x=\"190.869141\" xlink:href=\"#DejaVuSans-30\"/>\n",
       "      </g>\n",
       "     </g>\n",
       "    </g>\n",
       "    <g id=\"xtick_6\">\n",
       "     <g id=\"line2d_6\">\n",
       "      <g>\n",
       "       <use style=\"stroke:#000000;stroke-width:0.8;\" x=\"259.445455\" xlink:href=\"#m572a70d999\" y=\"252\"/>\n",
       "      </g>\n",
       "     </g>\n",
       "     <g id=\"text_6\">\n",
       "      <!-- 1250 -->\n",
       "      <g transform=\"translate(246.720455 266.598437)scale(0.1 -0.1)\">\n",
       "       <use xlink:href=\"#DejaVuSans-31\"/>\n",
       "       <use x=\"63.623047\" xlink:href=\"#DejaVuSans-32\"/>\n",
       "       <use x=\"127.246094\" xlink:href=\"#DejaVuSans-35\"/>\n",
       "       <use x=\"190.869141\" xlink:href=\"#DejaVuSans-30\"/>\n",
       "      </g>\n",
       "     </g>\n",
       "    </g>\n",
       "    <g id=\"xtick_7\">\n",
       "     <g id=\"line2d_7\">\n",
       "      <g>\n",
       "       <use style=\"stroke:#000000;stroke-width:0.8;\" x=\"297.490909\" xlink:href=\"#m572a70d999\" y=\"252\"/>\n",
       "      </g>\n",
       "     </g>\n",
       "     <g id=\"text_7\">\n",
       "      <!-- 1500 -->\n",
       "      <g transform=\"translate(284.765909 266.598437)scale(0.1 -0.1)\">\n",
       "       <use xlink:href=\"#DejaVuSans-31\"/>\n",
       "       <use x=\"63.623047\" xlink:href=\"#DejaVuSans-35\"/>\n",
       "       <use x=\"127.246094\" xlink:href=\"#DejaVuSans-30\"/>\n",
       "       <use x=\"190.869141\" xlink:href=\"#DejaVuSans-30\"/>\n",
       "      </g>\n",
       "     </g>\n",
       "    </g>\n",
       "    <g id=\"xtick_8\">\n",
       "     <g id=\"line2d_8\">\n",
       "      <g>\n",
       "       <use style=\"stroke:#000000;stroke-width:0.8;\" x=\"335.536364\" xlink:href=\"#m572a70d999\" y=\"252\"/>\n",
       "      </g>\n",
       "     </g>\n",
       "     <g id=\"text_8\">\n",
       "      <!-- 1750 -->\n",
       "      <g transform=\"translate(322.811364 266.598437)scale(0.1 -0.1)\">\n",
       "       <use xlink:href=\"#DejaVuSans-31\"/>\n",
       "       <use x=\"63.623047\" xlink:href=\"#DejaVuSans-37\"/>\n",
       "       <use x=\"127.246094\" xlink:href=\"#DejaVuSans-35\"/>\n",
       "       <use x=\"190.869141\" xlink:href=\"#DejaVuSans-30\"/>\n",
       "      </g>\n",
       "     </g>\n",
       "    </g>\n",
       "    <g id=\"xtick_9\">\n",
       "     <g id=\"line2d_9\">\n",
       "      <g>\n",
       "       <use style=\"stroke:#000000;stroke-width:0.8;\" x=\"373.581818\" xlink:href=\"#m572a70d999\" y=\"252\"/>\n",
       "      </g>\n",
       "     </g>\n",
       "     <g id=\"text_9\">\n",
       "      <!-- 2000 -->\n",
       "      <g transform=\"translate(360.856818 266.598437)scale(0.1 -0.1)\">\n",
       "       <use xlink:href=\"#DejaVuSans-32\"/>\n",
       "       <use x=\"63.623047\" xlink:href=\"#DejaVuSans-30\"/>\n",
       "       <use x=\"127.246094\" xlink:href=\"#DejaVuSans-30\"/>\n",
       "       <use x=\"190.869141\" xlink:href=\"#DejaVuSans-30\"/>\n",
       "      </g>\n",
       "     </g>\n",
       "    </g>\n",
       "    <g id=\"text_10\">\n",
       "     <!-- Epoch -->\n",
       "     <defs>\n",
       "      <path d=\"M 9.8125 72.90625  L 55.90625 72.90625  L 55.90625 64.59375  L 19.671875 64.59375  L 19.671875 43.015625  L 54.390625 43.015625  L 54.390625 34.71875  L 19.671875 34.71875  L 19.671875 8.296875  L 56.78125 8.296875  L 56.78125 0  L 9.8125 0  z \" id=\"DejaVuSans-45\"/>\n",
       "      <path d=\"M 18.109375 8.203125  L 18.109375 -20.796875  L 9.078125 -20.796875  L 9.078125 54.6875  L 18.109375 54.6875  L 18.109375 46.390625  Q 20.953125 51.265625 25.265625 53.625  Q 29.59375 56 35.59375 56  Q 45.5625 56 51.78125 48.09375  Q 58.015625 40.1875 58.015625 27.296875  Q 58.015625 14.40625 51.78125 6.484375  Q 45.5625 -1.421875 35.59375 -1.421875  Q 29.59375 -1.421875 25.265625 0.953125  Q 20.953125 3.328125 18.109375 8.203125  z M 48.6875 27.296875  Q 48.6875 37.203125 44.609375 42.84375  Q 40.53125 48.484375 33.40625 48.484375  Q 26.265625 48.484375 22.1875 42.84375  Q 18.109375 37.203125 18.109375 27.296875  Q 18.109375 17.390625 22.1875 11.75  Q 26.265625 6.109375 33.40625 6.109375  Q 40.53125 6.109375 44.609375 11.75  Q 48.6875 17.390625 48.6875 27.296875  z \" id=\"DejaVuSans-70\"/>\n",
       "      <path d=\"M 30.609375 48.390625  Q 23.390625 48.390625 19.1875 42.75  Q 14.984375 37.109375 14.984375 27.296875  Q 14.984375 17.484375 19.15625 11.84375  Q 23.34375 6.203125 30.609375 6.203125  Q 37.796875 6.203125 41.984375 11.859375  Q 46.1875 17.53125 46.1875 27.296875  Q 46.1875 37.015625 41.984375 42.703125  Q 37.796875 48.390625 30.609375 48.390625  z M 30.609375 56  Q 42.328125 56 49.015625 48.375  Q 55.71875 40.765625 55.71875 27.296875  Q 55.71875 13.875 49.015625 6.21875  Q 42.328125 -1.421875 30.609375 -1.421875  Q 18.84375 -1.421875 12.171875 6.21875  Q 5.515625 13.875 5.515625 27.296875  Q 5.515625 40.765625 12.171875 48.375  Q 18.84375 56 30.609375 56  z \" id=\"DejaVuSans-6f\"/>\n",
       "      <path d=\"M 48.78125 52.59375  L 48.78125 44.1875  Q 44.96875 46.296875 41.140625 47.34375  Q 37.3125 48.390625 33.40625 48.390625  Q 24.65625 48.390625 19.8125 42.84375  Q 14.984375 37.3125 14.984375 27.296875  Q 14.984375 17.28125 19.8125 11.734375  Q 24.65625 6.203125 33.40625 6.203125  Q 37.3125 6.203125 41.140625 7.25  Q 44.96875 8.296875 48.78125 10.40625  L 48.78125 2.09375  Q 45.015625 0.34375 40.984375 -0.53125  Q 36.96875 -1.421875 32.421875 -1.421875  Q 20.0625 -1.421875 12.78125 6.34375  Q 5.515625 14.109375 5.515625 27.296875  Q 5.515625 40.671875 12.859375 48.328125  Q 20.21875 56 33.015625 56  Q 37.15625 56 41.109375 55.140625  Q 45.0625 54.296875 48.78125 52.59375  z \" id=\"DejaVuSans-63\"/>\n",
       "      <path d=\"M 54.890625 33.015625  L 54.890625 0  L 45.90625 0  L 45.90625 32.71875  Q 45.90625 40.484375 42.875 44.328125  Q 39.84375 48.1875 33.796875 48.1875  Q 26.515625 48.1875 22.3125 43.546875  Q 18.109375 38.921875 18.109375 30.90625  L 18.109375 0  L 9.078125 0  L 9.078125 75.984375  L 18.109375 75.984375  L 18.109375 46.1875  Q 21.34375 51.125 25.703125 53.5625  Q 30.078125 56 35.796875 56  Q 45.21875 56 50.046875 50.171875  Q 54.890625 44.34375 54.890625 33.015625  z \" id=\"DejaVuSans-68\"/>\n",
       "     </defs>\n",
       "     <g transform=\"translate(206.089063 280.276563)scale(0.1 -0.1)\">\n",
       "      <use xlink:href=\"#DejaVuSans-45\"/>\n",
       "      <use x=\"63.183594\" xlink:href=\"#DejaVuSans-70\"/>\n",
       "      <use x=\"126.660156\" xlink:href=\"#DejaVuSans-6f\"/>\n",
       "      <use x=\"187.841797\" xlink:href=\"#DejaVuSans-63\"/>\n",
       "      <use x=\"242.822266\" xlink:href=\"#DejaVuSans-68\"/>\n",
       "     </g>\n",
       "    </g>\n",
       "   </g>\n",
       "   <g id=\"matplotlib.axis_2\">\n",
       "    <g id=\"ytick_1\">\n",
       "     <g id=\"line2d_10\">\n",
       "      <defs>\n",
       "       <path d=\"M 0 0  L -3.5 0  \" id=\"mca9ce4cfcf\" style=\"stroke:#000000;stroke-width:0.8;\"/>\n",
       "      </defs>\n",
       "      <g>\n",
       "       <use style=\"stroke:#000000;stroke-width:0.8;\" x=\"54\" xlink:href=\"#mca9ce4cfcf\" y=\"252\"/>\n",
       "      </g>\n",
       "     </g>\n",
       "     <g id=\"text_11\">\n",
       "      <!-- 0.0 -->\n",
       "      <defs>\n",
       "       <path d=\"M 10.6875 12.40625  L 21 12.40625  L 21 0  L 10.6875 0  z \" id=\"DejaVuSans-2e\"/>\n",
       "      </defs>\n",
       "      <g transform=\"translate(31.096875 255.799219)scale(0.1 -0.1)\">\n",
       "       <use xlink:href=\"#DejaVuSans-30\"/>\n",
       "       <use x=\"63.623047\" xlink:href=\"#DejaVuSans-2e\"/>\n",
       "       <use x=\"95.410156\" xlink:href=\"#DejaVuSans-30\"/>\n",
       "      </g>\n",
       "     </g>\n",
       "    </g>\n",
       "    <g id=\"ytick_2\">\n",
       "     <g id=\"line2d_11\">\n",
       "      <g>\n",
       "       <use style=\"stroke:#000000;stroke-width:0.8;\" x=\"54\" xlink:href=\"#mca9ce4cfcf\" y=\"211.083266\"/>\n",
       "      </g>\n",
       "     </g>\n",
       "     <g id=\"text_12\">\n",
       "      <!-- 0.1 -->\n",
       "      <g transform=\"translate(31.096875 214.882485)scale(0.1 -0.1)\">\n",
       "       <use xlink:href=\"#DejaVuSans-30\"/>\n",
       "       <use x=\"63.623047\" xlink:href=\"#DejaVuSans-2e\"/>\n",
       "       <use x=\"95.410156\" xlink:href=\"#DejaVuSans-31\"/>\n",
       "      </g>\n",
       "     </g>\n",
       "    </g>\n",
       "    <g id=\"ytick_3\">\n",
       "     <g id=\"line2d_12\">\n",
       "      <g>\n",
       "       <use style=\"stroke:#000000;stroke-width:0.8;\" x=\"54\" xlink:href=\"#mca9ce4cfcf\" y=\"170.166532\"/>\n",
       "      </g>\n",
       "     </g>\n",
       "     <g id=\"text_13\">\n",
       "      <!-- 0.2 -->\n",
       "      <g transform=\"translate(31.096875 173.96575)scale(0.1 -0.1)\">\n",
       "       <use xlink:href=\"#DejaVuSans-30\"/>\n",
       "       <use x=\"63.623047\" xlink:href=\"#DejaVuSans-2e\"/>\n",
       "       <use x=\"95.410156\" xlink:href=\"#DejaVuSans-32\"/>\n",
       "      </g>\n",
       "     </g>\n",
       "    </g>\n",
       "    <g id=\"ytick_4\">\n",
       "     <g id=\"line2d_13\">\n",
       "      <g>\n",
       "       <use style=\"stroke:#000000;stroke-width:0.8;\" x=\"54\" xlink:href=\"#mca9ce4cfcf\" y=\"129.249798\"/>\n",
       "      </g>\n",
       "     </g>\n",
       "     <g id=\"text_14\">\n",
       "      <!-- 0.3 -->\n",
       "      <defs>\n",
       "       <path d=\"M 40.578125 39.3125  Q 47.65625 37.796875 51.625 33  Q 55.609375 28.21875 55.609375 21.1875  Q 55.609375 10.40625 48.1875 4.484375  Q 40.765625 -1.421875 27.09375 -1.421875  Q 22.515625 -1.421875 17.65625 -0.515625  Q 12.796875 0.390625 7.625 2.203125  L 7.625 11.71875  Q 11.71875 9.328125 16.59375 8.109375  Q 21.484375 6.890625 26.8125 6.890625  Q 36.078125 6.890625 40.9375 10.546875  Q 45.796875 14.203125 45.796875 21.1875  Q 45.796875 27.640625 41.28125 31.265625  Q 36.765625 34.90625 28.71875 34.90625  L 20.21875 34.90625  L 20.21875 43.015625  L 29.109375 43.015625  Q 36.375 43.015625 40.234375 45.921875  Q 44.09375 48.828125 44.09375 54.296875  Q 44.09375 59.90625 40.109375 62.90625  Q 36.140625 65.921875 28.71875 65.921875  Q 24.65625 65.921875 20.015625 65.03125  Q 15.375 64.15625 9.8125 62.3125  L 9.8125 71.09375  Q 15.4375 72.65625 20.34375 73.4375  Q 25.25 74.21875 29.59375 74.21875  Q 40.828125 74.21875 47.359375 69.109375  Q 53.90625 64.015625 53.90625 55.328125  Q 53.90625 49.265625 50.4375 45.09375  Q 46.96875 40.921875 40.578125 39.3125  z \" id=\"DejaVuSans-33\"/>\n",
       "      </defs>\n",
       "      <g transform=\"translate(31.096875 133.049016)scale(0.1 -0.1)\">\n",
       "       <use xlink:href=\"#DejaVuSans-30\"/>\n",
       "       <use x=\"63.623047\" xlink:href=\"#DejaVuSans-2e\"/>\n",
       "       <use x=\"95.410156\" xlink:href=\"#DejaVuSans-33\"/>\n",
       "      </g>\n",
       "     </g>\n",
       "    </g>\n",
       "    <g id=\"ytick_5\">\n",
       "     <g id=\"line2d_14\">\n",
       "      <g>\n",
       "       <use style=\"stroke:#000000;stroke-width:0.8;\" x=\"54\" xlink:href=\"#mca9ce4cfcf\" y=\"88.333063\"/>\n",
       "      </g>\n",
       "     </g>\n",
       "     <g id=\"text_15\">\n",
       "      <!-- 0.4 -->\n",
       "      <defs>\n",
       "       <path d=\"M 37.796875 64.3125  L 12.890625 25.390625  L 37.796875 25.390625  z M 35.203125 72.90625  L 47.609375 72.90625  L 47.609375 25.390625  L 58.015625 25.390625  L 58.015625 17.1875  L 47.609375 17.1875  L 47.609375 0  L 37.796875 0  L 37.796875 17.1875  L 4.890625 17.1875  L 4.890625 26.703125  z \" id=\"DejaVuSans-34\"/>\n",
       "      </defs>\n",
       "      <g transform=\"translate(31.096875 92.132282)scale(0.1 -0.1)\">\n",
       "       <use xlink:href=\"#DejaVuSans-30\"/>\n",
       "       <use x=\"63.623047\" xlink:href=\"#DejaVuSans-2e\"/>\n",
       "       <use x=\"95.410156\" xlink:href=\"#DejaVuSans-34\"/>\n",
       "      </g>\n",
       "     </g>\n",
       "    </g>\n",
       "    <g id=\"ytick_6\">\n",
       "     <g id=\"line2d_15\">\n",
       "      <g>\n",
       "       <use style=\"stroke:#000000;stroke-width:0.8;\" x=\"54\" xlink:href=\"#mca9ce4cfcf\" y=\"47.416329\"/>\n",
       "      </g>\n",
       "     </g>\n",
       "     <g id=\"text_16\">\n",
       "      <!-- 0.5 -->\n",
       "      <g transform=\"translate(31.096875 51.215548)scale(0.1 -0.1)\">\n",
       "       <use xlink:href=\"#DejaVuSans-30\"/>\n",
       "       <use x=\"63.623047\" xlink:href=\"#DejaVuSans-2e\"/>\n",
       "       <use x=\"95.410156\" xlink:href=\"#DejaVuSans-35\"/>\n",
       "      </g>\n",
       "     </g>\n",
       "    </g>\n",
       "   </g>\n",
       "   <g id=\"line2d_16\">\n",
       "    <path clip-path=\"url(#pfe996619ff)\" d=\"M 69.218182 44.897118  L 69.370364 44.897118  L 69.674727 45.849187  L 70.131273 47.302338  L 70.283455 47.359017  L 70.587818 46.995729  L 70.892182 46.628295  L 71.044364 46.604492  L 71.348727 46.863008  L 71.805273 47.332336  L 72.109636 47.341921  L 72.718364 47.140986  L 73.327091 47.31702  L 73.783636 47.369309  L 74.848909 47.338726  L 75.914182 47.364041  L 80.023091 47.387844  L 117.307636 47.444364  L 157.788 47.622922  L 170.114727 47.877975  L 176.658545 48.221289  L 180.767455 48.650425  L 183.658909 49.172578  L 185.789455 49.77776  L 187.463455 50.475911  L 188.833091 51.275127  L 190.050545 52.241147  L 191.115818 53.367727  L 192.028909 54.620479  L 192.942 56.227618  L 193.855091 58.299328  L 194.768182 60.970832  L 195.681273 64.393726  L 196.594364 68.710695  L 197.659636 74.986444  L 198.877091 83.694131  L 200.551091 97.51999  L 202.225091 113.029883  L 203.290364 124.788641  L 204.203455 137.219759  L 205.116545 152.61207  L 206.638364 183.154219  L 207.855818 205.55505  L 208.768909 218.0194  L 209.529818 225.526806  L 210.290727 230.951737  L 211.051636 234.845158  L 211.812545 237.66364  L 212.573455 239.742453  L 213.486545 241.580355  L 214.399636 242.940809  L 215.464909 244.132943  L 216.682364 245.154326  L 218.052 246.021262  L 219.726 246.819578  L 221.856545 247.571938  L 224.443636 248.238153  L 227.791636 248.855189  L 232.052727 249.402791  L 237.683455 249.893053  L 245.444727 250.33231  L 256.401818 250.715428  L 272.685273 251.04587  L 298.404 251.324607  L 342.232364 251.551673  L 373.581818 251.639479  L 373.581818 251.639479  \" style=\"fill:none;stroke:#1f77b4;stroke-linecap:square;stroke-width:1.5;\"/>\n",
       "   </g>\n",
       "   <g id=\"patch_3\">\n",
       "    <path d=\"M 54 252  L 54 34.56  \" style=\"fill:none;stroke:#000000;stroke-linecap:square;stroke-linejoin:miter;stroke-width:0.8;\"/>\n",
       "   </g>\n",
       "   <g id=\"patch_4\">\n",
       "    <path d=\"M 388.8 252  L 388.8 34.56  \" style=\"fill:none;stroke:#000000;stroke-linecap:square;stroke-linejoin:miter;stroke-width:0.8;\"/>\n",
       "   </g>\n",
       "   <g id=\"patch_5\">\n",
       "    <path d=\"M 54 252  L 388.8 252  \" style=\"fill:none;stroke:#000000;stroke-linecap:square;stroke-linejoin:miter;stroke-width:0.8;\"/>\n",
       "   </g>\n",
       "   <g id=\"patch_6\">\n",
       "    <path d=\"M 54 34.56  L 388.8 34.56  \" style=\"fill:none;stroke:#000000;stroke-linecap:square;stroke-linejoin:miter;stroke-width:0.8;\"/>\n",
       "   </g>\n",
       "   <g id=\"text_17\">\n",
       "    <!-- XOR2 Network: Error -->\n",
       "    <defs>\n",
       "     <path d=\"M 6.296875 72.90625  L 16.890625 72.90625  L 35.015625 45.796875  L 53.21875 72.90625  L 63.8125 72.90625  L 40.375 37.890625  L 65.375 0  L 54.78125 0  L 34.28125 31  L 13.625 0  L 2.984375 0  L 29 38.921875  z \" id=\"DejaVuSans-58\"/>\n",
       "     <path d=\"M 39.40625 66.21875  Q 28.65625 66.21875 22.328125 58.203125  Q 16.015625 50.203125 16.015625 36.375  Q 16.015625 22.609375 22.328125 14.59375  Q 28.65625 6.59375 39.40625 6.59375  Q 50.140625 6.59375 56.421875 14.59375  Q 62.703125 22.609375 62.703125 36.375  Q 62.703125 50.203125 56.421875 58.203125  Q 50.140625 66.21875 39.40625 66.21875  z M 39.40625 74.21875  Q 54.734375 74.21875 63.90625 63.9375  Q 73.09375 53.65625 73.09375 36.375  Q 73.09375 19.140625 63.90625 8.859375  Q 54.734375 -1.421875 39.40625 -1.421875  Q 24.03125 -1.421875 14.8125 8.828125  Q 5.609375 19.09375 5.609375 36.375  Q 5.609375 53.65625 14.8125 63.9375  Q 24.03125 74.21875 39.40625 74.21875  z \" id=\"DejaVuSans-4f\"/>\n",
       "     <path d=\"M 44.390625 34.1875  Q 47.5625 33.109375 50.5625 29.59375  Q 53.5625 26.078125 56.59375 19.921875  L 66.609375 0  L 56 0  L 46.6875 18.703125  Q 43.0625 26.03125 39.671875 28.421875  Q 36.28125 30.8125 30.421875 30.8125  L 19.671875 30.8125  L 19.671875 0  L 9.8125 0  L 9.8125 72.90625  L 32.078125 72.90625  Q 44.578125 72.90625 50.734375 67.671875  Q 56.890625 62.453125 56.890625 51.90625  Q 56.890625 45.015625 53.6875 40.46875  Q 50.484375 35.9375 44.390625 34.1875  z M 19.671875 64.796875  L 19.671875 38.921875  L 32.078125 38.921875  Q 39.203125 38.921875 42.84375 42.21875  Q 46.484375 45.515625 46.484375 51.90625  Q 46.484375 58.296875 42.84375 61.546875  Q 39.203125 64.796875 32.078125 64.796875  z \" id=\"DejaVuSans-52\"/>\n",
       "     <path id=\"DejaVuSans-20\"/>\n",
       "     <path d=\"M 9.8125 72.90625  L 23.09375 72.90625  L 55.421875 11.921875  L 55.421875 72.90625  L 64.984375 72.90625  L 64.984375 0  L 51.703125 0  L 19.390625 60.984375  L 19.390625 0  L 9.8125 0  z \" id=\"DejaVuSans-4e\"/>\n",
       "     <path d=\"M 56.203125 29.59375  L 56.203125 25.203125  L 14.890625 25.203125  Q 15.484375 15.921875 20.484375 11.0625  Q 25.484375 6.203125 34.421875 6.203125  Q 39.59375 6.203125 44.453125 7.46875  Q 49.3125 8.734375 54.109375 11.28125  L 54.109375 2.78125  Q 49.265625 0.734375 44.1875 -0.34375  Q 39.109375 -1.421875 33.890625 -1.421875  Q 20.796875 -1.421875 13.15625 6.1875  Q 5.515625 13.8125 5.515625 26.8125  Q 5.515625 40.234375 12.765625 48.109375  Q 20.015625 56 32.328125 56  Q 43.359375 56 49.78125 48.890625  Q 56.203125 41.796875 56.203125 29.59375  z M 47.21875 32.234375  Q 47.125 39.59375 43.09375 43.984375  Q 39.0625 48.390625 32.421875 48.390625  Q 24.90625 48.390625 20.390625 44.140625  Q 15.875 39.890625 15.1875 32.171875  z \" id=\"DejaVuSans-65\"/>\n",
       "     <path d=\"M 18.3125 70.21875  L 18.3125 54.6875  L 36.8125 54.6875  L 36.8125 47.703125  L 18.3125 47.703125  L 18.3125 18.015625  Q 18.3125 11.328125 20.140625 9.421875  Q 21.96875 7.515625 27.59375 7.515625  L 36.8125 7.515625  L 36.8125 0  L 27.59375 0  Q 17.1875 0 13.234375 3.875  Q 9.28125 7.765625 9.28125 18.015625  L 9.28125 47.703125  L 2.6875 47.703125  L 2.6875 54.6875  L 9.28125 54.6875  L 9.28125 70.21875  z \" id=\"DejaVuSans-74\"/>\n",
       "     <path d=\"M 4.203125 54.6875  L 13.1875 54.6875  L 24.421875 12.015625  L 35.59375 54.6875  L 46.1875 54.6875  L 57.421875 12.015625  L 68.609375 54.6875  L 77.59375 54.6875  L 63.28125 0  L 52.6875 0  L 40.921875 44.828125  L 29.109375 0  L 18.5 0  z \" id=\"DejaVuSans-77\"/>\n",
       "     <path d=\"M 41.109375 46.296875  Q 39.59375 47.171875 37.8125 47.578125  Q 36.03125 48 33.890625 48  Q 26.265625 48 22.1875 43.046875  Q 18.109375 38.09375 18.109375 28.8125  L 18.109375 0  L 9.078125 0  L 9.078125 54.6875  L 18.109375 54.6875  L 18.109375 46.1875  Q 20.953125 51.171875 25.484375 53.578125  Q 30.03125 56 36.53125 56  Q 37.453125 56 38.578125 55.875  Q 39.703125 55.765625 41.0625 55.515625  z \" id=\"DejaVuSans-72\"/>\n",
       "     <path d=\"M 9.078125 75.984375  L 18.109375 75.984375  L 18.109375 31.109375  L 44.921875 54.6875  L 56.390625 54.6875  L 27.390625 29.109375  L 57.625 0  L 45.90625 0  L 18.109375 26.703125  L 18.109375 0  L 9.078125 0  z \" id=\"DejaVuSans-6b\"/>\n",
       "     <path d=\"M 11.71875 12.40625  L 22.015625 12.40625  L 22.015625 0  L 11.71875 0  z M 11.71875 51.703125  L 22.015625 51.703125  L 22.015625 39.3125  L 11.71875 39.3125  z \" id=\"DejaVuSans-3a\"/>\n",
       "    </defs>\n",
       "    <g transform=\"translate(158.839688 28.56)scale(0.12 -0.12)\">\n",
       "     <use xlink:href=\"#DejaVuSans-58\"/>\n",
       "     <use x=\"68.412109\" xlink:href=\"#DejaVuSans-4f\"/>\n",
       "     <use x=\"147.123047\" xlink:href=\"#DejaVuSans-52\"/>\n",
       "     <use x=\"216.605469\" xlink:href=\"#DejaVuSans-32\"/>\n",
       "     <use x=\"280.228516\" xlink:href=\"#DejaVuSans-20\"/>\n",
       "     <use x=\"312.015625\" xlink:href=\"#DejaVuSans-4e\"/>\n",
       "     <use x=\"386.820312\" xlink:href=\"#DejaVuSans-65\"/>\n",
       "     <use x=\"448.34375\" xlink:href=\"#DejaVuSans-74\"/>\n",
       "     <use x=\"487.552734\" xlink:href=\"#DejaVuSans-77\"/>\n",
       "     <use x=\"569.339844\" xlink:href=\"#DejaVuSans-6f\"/>\n",
       "     <use x=\"630.521484\" xlink:href=\"#DejaVuSans-72\"/>\n",
       "     <use x=\"671.634766\" xlink:href=\"#DejaVuSans-6b\"/>\n",
       "     <use x=\"729.544922\" xlink:href=\"#DejaVuSans-3a\"/>\n",
       "     <use x=\"763.236328\" xlink:href=\"#DejaVuSans-20\"/>\n",
       "     <use x=\"795.023438\" xlink:href=\"#DejaVuSans-45\"/>\n",
       "     <use x=\"858.207031\" xlink:href=\"#DejaVuSans-72\"/>\n",
       "     <use x=\"899.304688\" xlink:href=\"#DejaVuSans-72\"/>\n",
       "     <use x=\"940.386719\" xlink:href=\"#DejaVuSans-6f\"/>\n",
       "     <use x=\"1001.568359\" xlink:href=\"#DejaVuSans-72\"/>\n",
       "    </g>\n",
       "   </g>\n",
       "   <g id=\"legend_1\">\n",
       "    <g id=\"patch_7\">\n",
       "     <path d=\"M 290.434375 57.238125  L 381.8 57.238125  Q 383.8 57.238125 383.8 55.238125  L 383.8 41.56  Q 383.8 39.56 381.8 39.56  L 290.434375 39.56  Q 288.434375 39.56 288.434375 41.56  L 288.434375 55.238125  Q 288.434375 57.238125 290.434375 57.238125  z \" style=\"fill:#ffffff;opacity:0.8;stroke:#cccccc;stroke-linejoin:miter;\"/>\n",
       "    </g>\n",
       "    <g id=\"line2d_17\">\n",
       "     <path d=\"M 292.434375 47.658437  L 312.434375 47.658437  \" style=\"fill:none;stroke:#1f77b4;stroke-linecap:square;stroke-width:1.5;\"/>\n",
       "    </g>\n",
       "    <g id=\"line2d_18\"/>\n",
       "    <g id=\"text_18\">\n",
       "     <!-- Training set -->\n",
       "     <defs>\n",
       "      <path d=\"M -0.296875 72.90625  L 61.375 72.90625  L 61.375 64.59375  L 35.5 64.59375  L 35.5 0  L 25.59375 0  L 25.59375 64.59375  L -0.296875 64.59375  z \" id=\"DejaVuSans-54\"/>\n",
       "      <path d=\"M 34.28125 27.484375  Q 23.390625 27.484375 19.1875 25  Q 14.984375 22.515625 14.984375 16.5  Q 14.984375 11.71875 18.140625 8.90625  Q 21.296875 6.109375 26.703125 6.109375  Q 34.1875 6.109375 38.703125 11.40625  Q 43.21875 16.703125 43.21875 25.484375  L 43.21875 27.484375  z M 52.203125 31.203125  L 52.203125 0  L 43.21875 0  L 43.21875 8.296875  Q 40.140625 3.328125 35.546875 0.953125  Q 30.953125 -1.421875 24.3125 -1.421875  Q 15.921875 -1.421875 10.953125 3.296875  Q 6 8.015625 6 15.921875  Q 6 25.140625 12.171875 29.828125  Q 18.359375 34.515625 30.609375 34.515625  L 43.21875 34.515625  L 43.21875 35.40625  Q 43.21875 41.609375 39.140625 45  Q 35.0625 48.390625 27.6875 48.390625  Q 23 48.390625 18.546875 47.265625  Q 14.109375 46.140625 10.015625 43.890625  L 10.015625 52.203125  Q 14.9375 54.109375 19.578125 55.046875  Q 24.21875 56 28.609375 56  Q 40.484375 56 46.34375 49.84375  Q 52.203125 43.703125 52.203125 31.203125  z \" id=\"DejaVuSans-61\"/>\n",
       "      <path d=\"M 9.421875 54.6875  L 18.40625 54.6875  L 18.40625 0  L 9.421875 0  z M 9.421875 75.984375  L 18.40625 75.984375  L 18.40625 64.59375  L 9.421875 64.59375  z \" id=\"DejaVuSans-69\"/>\n",
       "      <path d=\"M 54.890625 33.015625  L 54.890625 0  L 45.90625 0  L 45.90625 32.71875  Q 45.90625 40.484375 42.875 44.328125  Q 39.84375 48.1875 33.796875 48.1875  Q 26.515625 48.1875 22.3125 43.546875  Q 18.109375 38.921875 18.109375 30.90625  L 18.109375 0  L 9.078125 0  L 9.078125 54.6875  L 18.109375 54.6875  L 18.109375 46.1875  Q 21.34375 51.125 25.703125 53.5625  Q 30.078125 56 35.796875 56  Q 45.21875 56 50.046875 50.171875  Q 54.890625 44.34375 54.890625 33.015625  z \" id=\"DejaVuSans-6e\"/>\n",
       "      <path d=\"M 45.40625 27.984375  Q 45.40625 37.75 41.375 43.109375  Q 37.359375 48.484375 30.078125 48.484375  Q 22.859375 48.484375 18.828125 43.109375  Q 14.796875 37.75 14.796875 27.984375  Q 14.796875 18.265625 18.828125 12.890625  Q 22.859375 7.515625 30.078125 7.515625  Q 37.359375 7.515625 41.375 12.890625  Q 45.40625 18.265625 45.40625 27.984375  z M 54.390625 6.78125  Q 54.390625 -7.171875 48.1875 -13.984375  Q 42 -20.796875 29.203125 -20.796875  Q 24.46875 -20.796875 20.265625 -20.09375  Q 16.0625 -19.390625 12.109375 -17.921875  L 12.109375 -9.1875  Q 16.0625 -11.328125 19.921875 -12.34375  Q 23.78125 -13.375 27.78125 -13.375  Q 36.625 -13.375 41.015625 -8.765625  Q 45.40625 -4.15625 45.40625 5.171875  L 45.40625 9.625  Q 42.625 4.78125 38.28125 2.390625  Q 33.9375 0 27.875 0  Q 17.828125 0 11.671875 7.65625  Q 5.515625 15.328125 5.515625 27.984375  Q 5.515625 40.671875 11.671875 48.328125  Q 17.828125 56 27.875 56  Q 33.9375 56 38.28125 53.609375  Q 42.625 51.21875 45.40625 46.390625  L 45.40625 54.6875  L 54.390625 54.6875  z \" id=\"DejaVuSans-67\"/>\n",
       "      <path d=\"M 44.28125 53.078125  L 44.28125 44.578125  Q 40.484375 46.53125 36.375 47.5  Q 32.28125 48.484375 27.875 48.484375  Q 21.1875 48.484375 17.84375 46.4375  Q 14.5 44.390625 14.5 40.28125  Q 14.5 37.15625 16.890625 35.375  Q 19.28125 33.59375 26.515625 31.984375  L 29.59375 31.296875  Q 39.15625 29.25 43.1875 25.515625  Q 47.21875 21.78125 47.21875 15.09375  Q 47.21875 7.46875 41.1875 3.015625  Q 35.15625 -1.421875 24.609375 -1.421875  Q 20.21875 -1.421875 15.453125 -0.5625  Q 10.6875 0.296875 5.421875 2  L 5.421875 11.28125  Q 10.40625 8.6875 15.234375 7.390625  Q 20.0625 6.109375 24.8125 6.109375  Q 31.15625 6.109375 34.5625 8.28125  Q 37.984375 10.453125 37.984375 14.40625  Q 37.984375 18.0625 35.515625 20.015625  Q 33.0625 21.96875 24.703125 23.78125  L 21.578125 24.515625  Q 13.234375 26.265625 9.515625 29.90625  Q 5.8125 33.546875 5.8125 39.890625  Q 5.8125 47.609375 11.28125 51.796875  Q 16.75 56 26.8125 56  Q 31.78125 56 36.171875 55.265625  Q 40.578125 54.546875 44.28125 53.078125  z \" id=\"DejaVuSans-73\"/>\n",
       "     </defs>\n",
       "     <g transform=\"translate(320.434375 51.158437)scale(0.1 -0.1)\">\n",
       "      <use xlink:href=\"#DejaVuSans-54\"/>\n",
       "      <use x=\"60.865234\" xlink:href=\"#DejaVuSans-72\"/>\n",
       "      <use x=\"101.978516\" xlink:href=\"#DejaVuSans-61\"/>\n",
       "      <use x=\"163.257812\" xlink:href=\"#DejaVuSans-69\"/>\n",
       "      <use x=\"191.041016\" xlink:href=\"#DejaVuSans-6e\"/>\n",
       "      <use x=\"254.419922\" xlink:href=\"#DejaVuSans-69\"/>\n",
       "      <use x=\"282.203125\" xlink:href=\"#DejaVuSans-6e\"/>\n",
       "      <use x=\"345.582031\" xlink:href=\"#DejaVuSans-67\"/>\n",
       "      <use x=\"409.058594\" xlink:href=\"#DejaVuSans-20\"/>\n",
       "      <use x=\"440.845703\" xlink:href=\"#DejaVuSans-73\"/>\n",
       "      <use x=\"492.945312\" xlink:href=\"#DejaVuSans-65\"/>\n",
       "      <use x=\"554.46875\" xlink:href=\"#DejaVuSans-74\"/>\n",
       "     </g>\n",
       "    </g>\n",
       "   </g>\n",
       "  </g>\n",
       " </g>\n",
       " <defs>\n",
       "  <clipPath id=\"pfe996619ff\">\n",
       "   <rect height=\"217.44\" width=\"334.8\" x=\"54\" y=\"34.56\"/>\n",
       "  </clipPath>\n",
       " </defs>\n",
       "</svg>"
      ],
      "text/plain": [
       "<IPython.core.display.SVG object>"
      ]
     },
     "metadata": {},
     "output_type": "display_data"
    }
   ],
   "source": [
    "import time\n",
    "net2.reset()\n",
    "for i in range(20):\n",
    "    (epoch_count, results) = net2.train(epochs=100, verbose=0, report_rate=25)\n",
    "    for index in range(4):\n",
    "        net2.propagate(XOR2[index][0])\n",
    "        time.sleep(0.1)"
   ]
  },
  {
   "cell_type": "code",
   "execution_count": 33,
   "metadata": {},
   "outputs": [
    {
     "data": {
      "image/svg+xml": [
       "<svg height=\"288pt\" version=\"1.1\" viewBox=\"0 0 432 288\" width=\"432pt\" xmlns=\"http://www.w3.org/2000/svg\" xmlns:xlink=\"http://www.w3.org/1999/xlink\">\n",
       " <defs>\n",
       "  <style type=\"text/css\">\n",
       "*{stroke-linecap:butt;stroke-linejoin:round;}\n",
       "  </style>\n",
       " </defs>\n",
       " <g id=\"figure_1\">\n",
       "  <g id=\"patch_1\">\n",
       "   <path d=\"M 0 288  L 432 288  L 432 0  L 0 0  z \" style=\"fill:#ffffff;\"/>\n",
       "  </g>\n",
       "  <g id=\"axes_1\">\n",
       "   <g id=\"patch_2\">\n",
       "    <path d=\"M 54 252  L 388.8 252  L 388.8 34.56  L 54 34.56  z \" style=\"fill:#ffffff;\"/>\n",
       "   </g>\n",
       "   <g id=\"matplotlib.axis_1\">\n",
       "    <g id=\"xtick_1\">\n",
       "     <g id=\"line2d_1\">\n",
       "      <defs>\n",
       "       <path d=\"M 0 0  L 0 3.5  \" id=\"m8c9da76cd1\" style=\"stroke:#000000;stroke-width:0.8;\"/>\n",
       "      </defs>\n",
       "      <g>\n",
       "       <use style=\"stroke:#000000;stroke-width:0.8;\" x=\"69.218182\" xlink:href=\"#m8c9da76cd1\" y=\"252\"/>\n",
       "      </g>\n",
       "     </g>\n",
       "     <g id=\"text_1\">\n",
       "      <!-- 0 -->\n",
       "      <defs>\n",
       "       <path d=\"M 31.78125 66.40625  Q 24.171875 66.40625 20.328125 58.90625  Q 16.5 51.421875 16.5 36.375  Q 16.5 21.390625 20.328125 13.890625  Q 24.171875 6.390625 31.78125 6.390625  Q 39.453125 6.390625 43.28125 13.890625  Q 47.125 21.390625 47.125 36.375  Q 47.125 51.421875 43.28125 58.90625  Q 39.453125 66.40625 31.78125 66.40625  z M 31.78125 74.21875  Q 44.046875 74.21875 50.515625 64.515625  Q 56.984375 54.828125 56.984375 36.375  Q 56.984375 17.96875 50.515625 8.265625  Q 44.046875 -1.421875 31.78125 -1.421875  Q 19.53125 -1.421875 13.0625 8.265625  Q 6.59375 17.96875 6.59375 36.375  Q 6.59375 54.828125 13.0625 64.515625  Q 19.53125 74.21875 31.78125 74.21875  z \" id=\"DejaVuSans-30\"/>\n",
       "      </defs>\n",
       "      <g transform=\"translate(66.036932 266.598437)scale(0.1 -0.1)\">\n",
       "       <use xlink:href=\"#DejaVuSans-30\"/>\n",
       "      </g>\n",
       "     </g>\n",
       "    </g>\n",
       "    <g id=\"xtick_2\">\n",
       "     <g id=\"line2d_2\">\n",
       "      <g>\n",
       "       <use style=\"stroke:#000000;stroke-width:0.8;\" x=\"135.745753\" xlink:href=\"#m8c9da76cd1\" y=\"252\"/>\n",
       "      </g>\n",
       "     </g>\n",
       "     <g id=\"text_2\">\n",
       "      <!-- 200 -->\n",
       "      <defs>\n",
       "       <path d=\"M 19.1875 8.296875  L 53.609375 8.296875  L 53.609375 0  L 7.328125 0  L 7.328125 8.296875  Q 12.9375 14.109375 22.625 23.890625  Q 32.328125 33.6875 34.8125 36.53125  Q 39.546875 41.84375 41.421875 45.53125  Q 43.3125 49.21875 43.3125 52.78125  Q 43.3125 58.59375 39.234375 62.25  Q 35.15625 65.921875 28.609375 65.921875  Q 23.96875 65.921875 18.8125 64.3125  Q 13.671875 62.703125 7.8125 59.421875  L 7.8125 69.390625  Q 13.765625 71.78125 18.9375 73  Q 24.125 74.21875 28.421875 74.21875  Q 39.75 74.21875 46.484375 68.546875  Q 53.21875 62.890625 53.21875 53.421875  Q 53.21875 48.921875 51.53125 44.890625  Q 49.859375 40.875 45.40625 35.40625  Q 44.1875 33.984375 37.640625 27.21875  Q 31.109375 20.453125 19.1875 8.296875  z \" id=\"DejaVuSans-32\"/>\n",
       "      </defs>\n",
       "      <g transform=\"translate(126.202003 266.598437)scale(0.1 -0.1)\">\n",
       "       <use xlink:href=\"#DejaVuSans-32\"/>\n",
       "       <use x=\"63.623047\" xlink:href=\"#DejaVuSans-30\"/>\n",
       "       <use x=\"127.246094\" xlink:href=\"#DejaVuSans-30\"/>\n",
       "      </g>\n",
       "     </g>\n",
       "    </g>\n",
       "    <g id=\"xtick_3\">\n",
       "     <g id=\"line2d_3\">\n",
       "      <g>\n",
       "       <use style=\"stroke:#000000;stroke-width:0.8;\" x=\"202.273323\" xlink:href=\"#m8c9da76cd1\" y=\"252\"/>\n",
       "      </g>\n",
       "     </g>\n",
       "     <g id=\"text_3\">\n",
       "      <!-- 400 -->\n",
       "      <defs>\n",
       "       <path d=\"M 37.796875 64.3125  L 12.890625 25.390625  L 37.796875 25.390625  z M 35.203125 72.90625  L 47.609375 72.90625  L 47.609375 25.390625  L 58.015625 25.390625  L 58.015625 17.1875  L 47.609375 17.1875  L 47.609375 0  L 37.796875 0  L 37.796875 17.1875  L 4.890625 17.1875  L 4.890625 26.703125  z \" id=\"DejaVuSans-34\"/>\n",
       "      </defs>\n",
       "      <g transform=\"translate(192.729573 266.598437)scale(0.1 -0.1)\">\n",
       "       <use xlink:href=\"#DejaVuSans-34\"/>\n",
       "       <use x=\"63.623047\" xlink:href=\"#DejaVuSans-30\"/>\n",
       "       <use x=\"127.246094\" xlink:href=\"#DejaVuSans-30\"/>\n",
       "      </g>\n",
       "     </g>\n",
       "    </g>\n",
       "    <g id=\"xtick_4\">\n",
       "     <g id=\"line2d_4\">\n",
       "      <g>\n",
       "       <use style=\"stroke:#000000;stroke-width:0.8;\" x=\"268.800894\" xlink:href=\"#m8c9da76cd1\" y=\"252\"/>\n",
       "      </g>\n",
       "     </g>\n",
       "     <g id=\"text_4\">\n",
       "      <!-- 600 -->\n",
       "      <defs>\n",
       "       <path d=\"M 33.015625 40.375  Q 26.375 40.375 22.484375 35.828125  Q 18.609375 31.296875 18.609375 23.390625  Q 18.609375 15.53125 22.484375 10.953125  Q 26.375 6.390625 33.015625 6.390625  Q 39.65625 6.390625 43.53125 10.953125  Q 47.40625 15.53125 47.40625 23.390625  Q 47.40625 31.296875 43.53125 35.828125  Q 39.65625 40.375 33.015625 40.375  z M 52.59375 71.296875  L 52.59375 62.3125  Q 48.875 64.0625 45.09375 64.984375  Q 41.3125 65.921875 37.59375 65.921875  Q 27.828125 65.921875 22.671875 59.328125  Q 17.53125 52.734375 16.796875 39.40625  Q 19.671875 43.65625 24.015625 45.921875  Q 28.375 48.1875 33.59375 48.1875  Q 44.578125 48.1875 50.953125 41.515625  Q 57.328125 34.859375 57.328125 23.390625  Q 57.328125 12.15625 50.6875 5.359375  Q 44.046875 -1.421875 33.015625 -1.421875  Q 20.359375 -1.421875 13.671875 8.265625  Q 6.984375 17.96875 6.984375 36.375  Q 6.984375 53.65625 15.1875 63.9375  Q 23.390625 74.21875 37.203125 74.21875  Q 40.921875 74.21875 44.703125 73.484375  Q 48.484375 72.75 52.59375 71.296875  z \" id=\"DejaVuSans-36\"/>\n",
       "      </defs>\n",
       "      <g transform=\"translate(259.257144 266.598437)scale(0.1 -0.1)\">\n",
       "       <use xlink:href=\"#DejaVuSans-36\"/>\n",
       "       <use x=\"63.623047\" xlink:href=\"#DejaVuSans-30\"/>\n",
       "       <use x=\"127.246094\" xlink:href=\"#DejaVuSans-30\"/>\n",
       "      </g>\n",
       "     </g>\n",
       "    </g>\n",
       "    <g id=\"xtick_5\">\n",
       "     <g id=\"line2d_5\">\n",
       "      <g>\n",
       "       <use style=\"stroke:#000000;stroke-width:0.8;\" x=\"335.328465\" xlink:href=\"#m8c9da76cd1\" y=\"252\"/>\n",
       "      </g>\n",
       "     </g>\n",
       "     <g id=\"text_5\">\n",
       "      <!-- 800 -->\n",
       "      <defs>\n",
       "       <path d=\"M 31.78125 34.625  Q 24.75 34.625 20.71875 30.859375  Q 16.703125 27.09375 16.703125 20.515625  Q 16.703125 13.921875 20.71875 10.15625  Q 24.75 6.390625 31.78125 6.390625  Q 38.8125 6.390625 42.859375 10.171875  Q 46.921875 13.96875 46.921875 20.515625  Q 46.921875 27.09375 42.890625 30.859375  Q 38.875 34.625 31.78125 34.625  z M 21.921875 38.8125  Q 15.578125 40.375 12.03125 44.71875  Q 8.5 49.078125 8.5 55.328125  Q 8.5 64.0625 14.71875 69.140625  Q 20.953125 74.21875 31.78125 74.21875  Q 42.671875 74.21875 48.875 69.140625  Q 55.078125 64.0625 55.078125 55.328125  Q 55.078125 49.078125 51.53125 44.71875  Q 48 40.375 41.703125 38.8125  Q 48.828125 37.15625 52.796875 32.3125  Q 56.78125 27.484375 56.78125 20.515625  Q 56.78125 9.90625 50.3125 4.234375  Q 43.84375 -1.421875 31.78125 -1.421875  Q 19.734375 -1.421875 13.25 4.234375  Q 6.78125 9.90625 6.78125 20.515625  Q 6.78125 27.484375 10.78125 32.3125  Q 14.796875 37.15625 21.921875 38.8125  z M 18.3125 54.390625  Q 18.3125 48.734375 21.84375 45.5625  Q 25.390625 42.390625 31.78125 42.390625  Q 38.140625 42.390625 41.71875 45.5625  Q 45.3125 48.734375 45.3125 54.390625  Q 45.3125 60.0625 41.71875 63.234375  Q 38.140625 66.40625 31.78125 66.40625  Q 25.390625 66.40625 21.84375 63.234375  Q 18.3125 60.0625 18.3125 54.390625  z \" id=\"DejaVuSans-38\"/>\n",
       "      </defs>\n",
       "      <g transform=\"translate(325.784715 266.598437)scale(0.1 -0.1)\">\n",
       "       <use xlink:href=\"#DejaVuSans-38\"/>\n",
       "       <use x=\"63.623047\" xlink:href=\"#DejaVuSans-30\"/>\n",
       "       <use x=\"127.246094\" xlink:href=\"#DejaVuSans-30\"/>\n",
       "      </g>\n",
       "     </g>\n",
       "    </g>\n",
       "    <g id=\"text_6\">\n",
       "     <!-- Epoch -->\n",
       "     <defs>\n",
       "      <path d=\"M 9.8125 72.90625  L 55.90625 72.90625  L 55.90625 64.59375  L 19.671875 64.59375  L 19.671875 43.015625  L 54.390625 43.015625  L 54.390625 34.71875  L 19.671875 34.71875  L 19.671875 8.296875  L 56.78125 8.296875  L 56.78125 0  L 9.8125 0  z \" id=\"DejaVuSans-45\"/>\n",
       "      <path d=\"M 18.109375 8.203125  L 18.109375 -20.796875  L 9.078125 -20.796875  L 9.078125 54.6875  L 18.109375 54.6875  L 18.109375 46.390625  Q 20.953125 51.265625 25.265625 53.625  Q 29.59375 56 35.59375 56  Q 45.5625 56 51.78125 48.09375  Q 58.015625 40.1875 58.015625 27.296875  Q 58.015625 14.40625 51.78125 6.484375  Q 45.5625 -1.421875 35.59375 -1.421875  Q 29.59375 -1.421875 25.265625 0.953125  Q 20.953125 3.328125 18.109375 8.203125  z M 48.6875 27.296875  Q 48.6875 37.203125 44.609375 42.84375  Q 40.53125 48.484375 33.40625 48.484375  Q 26.265625 48.484375 22.1875 42.84375  Q 18.109375 37.203125 18.109375 27.296875  Q 18.109375 17.390625 22.1875 11.75  Q 26.265625 6.109375 33.40625 6.109375  Q 40.53125 6.109375 44.609375 11.75  Q 48.6875 17.390625 48.6875 27.296875  z \" id=\"DejaVuSans-70\"/>\n",
       "      <path d=\"M 30.609375 48.390625  Q 23.390625 48.390625 19.1875 42.75  Q 14.984375 37.109375 14.984375 27.296875  Q 14.984375 17.484375 19.15625 11.84375  Q 23.34375 6.203125 30.609375 6.203125  Q 37.796875 6.203125 41.984375 11.859375  Q 46.1875 17.53125 46.1875 27.296875  Q 46.1875 37.015625 41.984375 42.703125  Q 37.796875 48.390625 30.609375 48.390625  z M 30.609375 56  Q 42.328125 56 49.015625 48.375  Q 55.71875 40.765625 55.71875 27.296875  Q 55.71875 13.875 49.015625 6.21875  Q 42.328125 -1.421875 30.609375 -1.421875  Q 18.84375 -1.421875 12.171875 6.21875  Q 5.515625 13.875 5.515625 27.296875  Q 5.515625 40.765625 12.171875 48.375  Q 18.84375 56 30.609375 56  z \" id=\"DejaVuSans-6f\"/>\n",
       "      <path d=\"M 48.78125 52.59375  L 48.78125 44.1875  Q 44.96875 46.296875 41.140625 47.34375  Q 37.3125 48.390625 33.40625 48.390625  Q 24.65625 48.390625 19.8125 42.84375  Q 14.984375 37.3125 14.984375 27.296875  Q 14.984375 17.28125 19.8125 11.734375  Q 24.65625 6.203125 33.40625 6.203125  Q 37.3125 6.203125 41.140625 7.25  Q 44.96875 8.296875 48.78125 10.40625  L 48.78125 2.09375  Q 45.015625 0.34375 40.984375 -0.53125  Q 36.96875 -1.421875 32.421875 -1.421875  Q 20.0625 -1.421875 12.78125 6.34375  Q 5.515625 14.109375 5.515625 27.296875  Q 5.515625 40.671875 12.859375 48.328125  Q 20.21875 56 33.015625 56  Q 37.15625 56 41.109375 55.140625  Q 45.0625 54.296875 48.78125 52.59375  z \" id=\"DejaVuSans-63\"/>\n",
       "      <path d=\"M 54.890625 33.015625  L 54.890625 0  L 45.90625 0  L 45.90625 32.71875  Q 45.90625 40.484375 42.875 44.328125  Q 39.84375 48.1875 33.796875 48.1875  Q 26.515625 48.1875 22.3125 43.546875  Q 18.109375 38.921875 18.109375 30.90625  L 18.109375 0  L 9.078125 0  L 9.078125 75.984375  L 18.109375 75.984375  L 18.109375 46.1875  Q 21.34375 51.125 25.703125 53.5625  Q 30.078125 56 35.796875 56  Q 45.21875 56 50.046875 50.171875  Q 54.890625 44.34375 54.890625 33.015625  z \" id=\"DejaVuSans-68\"/>\n",
       "     </defs>\n",
       "     <g transform=\"translate(206.089063 280.276563)scale(0.1 -0.1)\">\n",
       "      <use xlink:href=\"#DejaVuSans-45\"/>\n",
       "      <use x=\"63.183594\" xlink:href=\"#DejaVuSans-70\"/>\n",
       "      <use x=\"126.660156\" xlink:href=\"#DejaVuSans-6f\"/>\n",
       "      <use x=\"187.841797\" xlink:href=\"#DejaVuSans-63\"/>\n",
       "      <use x=\"242.822266\" xlink:href=\"#DejaVuSans-68\"/>\n",
       "     </g>\n",
       "    </g>\n",
       "   </g>\n",
       "   <g id=\"matplotlib.axis_2\">\n",
       "    <g id=\"ytick_1\">\n",
       "     <g id=\"line2d_6\">\n",
       "      <defs>\n",
       "       <path d=\"M 0 0  L -3.5 0  \" id=\"m3e559f0281\" style=\"stroke:#000000;stroke-width:0.8;\"/>\n",
       "      </defs>\n",
       "      <g>\n",
       "       <use style=\"stroke:#000000;stroke-width:0.8;\" x=\"54\" xlink:href=\"#m3e559f0281\" y=\"252\"/>\n",
       "      </g>\n",
       "     </g>\n",
       "     <g id=\"text_7\">\n",
       "      <!-- 0.0 -->\n",
       "      <defs>\n",
       "       <path d=\"M 10.6875 12.40625  L 21 12.40625  L 21 0  L 10.6875 0  z \" id=\"DejaVuSans-2e\"/>\n",
       "      </defs>\n",
       "      <g transform=\"translate(31.096875 255.799219)scale(0.1 -0.1)\">\n",
       "       <use xlink:href=\"#DejaVuSans-30\"/>\n",
       "       <use x=\"63.623047\" xlink:href=\"#DejaVuSans-2e\"/>\n",
       "       <use x=\"95.410156\" xlink:href=\"#DejaVuSans-30\"/>\n",
       "      </g>\n",
       "     </g>\n",
       "    </g>\n",
       "    <g id=\"ytick_2\">\n",
       "     <g id=\"line2d_7\">\n",
       "      <g>\n",
       "       <use style=\"stroke:#000000;stroke-width:0.8;\" x=\"54\" xlink:href=\"#m3e559f0281\" y=\"216.648053\"/>\n",
       "      </g>\n",
       "     </g>\n",
       "     <g id=\"text_8\">\n",
       "      <!-- 0.1 -->\n",
       "      <defs>\n",
       "       <path d=\"M 12.40625 8.296875  L 28.515625 8.296875  L 28.515625 63.921875  L 10.984375 60.40625  L 10.984375 69.390625  L 28.421875 72.90625  L 38.28125 72.90625  L 38.28125 8.296875  L 54.390625 8.296875  L 54.390625 0  L 12.40625 0  z \" id=\"DejaVuSans-31\"/>\n",
       "      </defs>\n",
       "      <g transform=\"translate(31.096875 220.447272)scale(0.1 -0.1)\">\n",
       "       <use xlink:href=\"#DejaVuSans-30\"/>\n",
       "       <use x=\"63.623047\" xlink:href=\"#DejaVuSans-2e\"/>\n",
       "       <use x=\"95.410156\" xlink:href=\"#DejaVuSans-31\"/>\n",
       "      </g>\n",
       "     </g>\n",
       "    </g>\n",
       "    <g id=\"ytick_3\">\n",
       "     <g id=\"line2d_8\">\n",
       "      <g>\n",
       "       <use style=\"stroke:#000000;stroke-width:0.8;\" x=\"54\" xlink:href=\"#m3e559f0281\" y=\"181.296107\"/>\n",
       "      </g>\n",
       "     </g>\n",
       "     <g id=\"text_9\">\n",
       "      <!-- 0.2 -->\n",
       "      <g transform=\"translate(31.096875 185.095325)scale(0.1 -0.1)\">\n",
       "       <use xlink:href=\"#DejaVuSans-30\"/>\n",
       "       <use x=\"63.623047\" xlink:href=\"#DejaVuSans-2e\"/>\n",
       "       <use x=\"95.410156\" xlink:href=\"#DejaVuSans-32\"/>\n",
       "      </g>\n",
       "     </g>\n",
       "    </g>\n",
       "    <g id=\"ytick_4\">\n",
       "     <g id=\"line2d_9\">\n",
       "      <g>\n",
       "       <use style=\"stroke:#000000;stroke-width:0.8;\" x=\"54\" xlink:href=\"#m3e559f0281\" y=\"145.94416\"/>\n",
       "      </g>\n",
       "     </g>\n",
       "     <g id=\"text_10\">\n",
       "      <!-- 0.3 -->\n",
       "      <defs>\n",
       "       <path d=\"M 40.578125 39.3125  Q 47.65625 37.796875 51.625 33  Q 55.609375 28.21875 55.609375 21.1875  Q 55.609375 10.40625 48.1875 4.484375  Q 40.765625 -1.421875 27.09375 -1.421875  Q 22.515625 -1.421875 17.65625 -0.515625  Q 12.796875 0.390625 7.625 2.203125  L 7.625 11.71875  Q 11.71875 9.328125 16.59375 8.109375  Q 21.484375 6.890625 26.8125 6.890625  Q 36.078125 6.890625 40.9375 10.546875  Q 45.796875 14.203125 45.796875 21.1875  Q 45.796875 27.640625 41.28125 31.265625  Q 36.765625 34.90625 28.71875 34.90625  L 20.21875 34.90625  L 20.21875 43.015625  L 29.109375 43.015625  Q 36.375 43.015625 40.234375 45.921875  Q 44.09375 48.828125 44.09375 54.296875  Q 44.09375 59.90625 40.109375 62.90625  Q 36.140625 65.921875 28.71875 65.921875  Q 24.65625 65.921875 20.015625 65.03125  Q 15.375 64.15625 9.8125 62.3125  L 9.8125 71.09375  Q 15.4375 72.65625 20.34375 73.4375  Q 25.25 74.21875 29.59375 74.21875  Q 40.828125 74.21875 47.359375 69.109375  Q 53.90625 64.015625 53.90625 55.328125  Q 53.90625 49.265625 50.4375 45.09375  Q 46.96875 40.921875 40.578125 39.3125  z \" id=\"DejaVuSans-33\"/>\n",
       "      </defs>\n",
       "      <g transform=\"translate(31.096875 149.743379)scale(0.1 -0.1)\">\n",
       "       <use xlink:href=\"#DejaVuSans-30\"/>\n",
       "       <use x=\"63.623047\" xlink:href=\"#DejaVuSans-2e\"/>\n",
       "       <use x=\"95.410156\" xlink:href=\"#DejaVuSans-33\"/>\n",
       "      </g>\n",
       "     </g>\n",
       "    </g>\n",
       "    <g id=\"ytick_5\">\n",
       "     <g id=\"line2d_10\">\n",
       "      <g>\n",
       "       <use style=\"stroke:#000000;stroke-width:0.8;\" x=\"54\" xlink:href=\"#m3e559f0281\" y=\"110.592213\"/>\n",
       "      </g>\n",
       "     </g>\n",
       "     <g id=\"text_11\">\n",
       "      <!-- 0.4 -->\n",
       "      <g transform=\"translate(31.096875 114.391432)scale(0.1 -0.1)\">\n",
       "       <use xlink:href=\"#DejaVuSans-30\"/>\n",
       "       <use x=\"63.623047\" xlink:href=\"#DejaVuSans-2e\"/>\n",
       "       <use x=\"95.410156\" xlink:href=\"#DejaVuSans-34\"/>\n",
       "      </g>\n",
       "     </g>\n",
       "    </g>\n",
       "    <g id=\"ytick_6\">\n",
       "     <g id=\"line2d_11\">\n",
       "      <g>\n",
       "       <use style=\"stroke:#000000;stroke-width:0.8;\" x=\"54\" xlink:href=\"#m3e559f0281\" y=\"75.240267\"/>\n",
       "      </g>\n",
       "     </g>\n",
       "     <g id=\"text_12\">\n",
       "      <!-- 0.5 -->\n",
       "      <defs>\n",
       "       <path d=\"M 10.796875 72.90625  L 49.515625 72.90625  L 49.515625 64.59375  L 19.828125 64.59375  L 19.828125 46.734375  Q 21.96875 47.46875 24.109375 47.828125  Q 26.265625 48.1875 28.421875 48.1875  Q 40.625 48.1875 47.75 41.5  Q 54.890625 34.8125 54.890625 23.390625  Q 54.890625 11.625 47.5625 5.09375  Q 40.234375 -1.421875 26.90625 -1.421875  Q 22.3125 -1.421875 17.546875 -0.640625  Q 12.796875 0.140625 7.71875 1.703125  L 7.71875 11.625  Q 12.109375 9.234375 16.796875 8.0625  Q 21.484375 6.890625 26.703125 6.890625  Q 35.15625 6.890625 40.078125 11.328125  Q 45.015625 15.765625 45.015625 23.390625  Q 45.015625 31 40.078125 35.4375  Q 35.15625 39.890625 26.703125 39.890625  Q 22.75 39.890625 18.8125 39.015625  Q 14.890625 38.140625 10.796875 36.28125  z \" id=\"DejaVuSans-35\"/>\n",
       "      </defs>\n",
       "      <g transform=\"translate(31.096875 79.039485)scale(0.1 -0.1)\">\n",
       "       <use xlink:href=\"#DejaVuSans-30\"/>\n",
       "       <use x=\"63.623047\" xlink:href=\"#DejaVuSans-2e\"/>\n",
       "       <use x=\"95.410156\" xlink:href=\"#DejaVuSans-35\"/>\n",
       "      </g>\n",
       "     </g>\n",
       "    </g>\n",
       "    <g id=\"ytick_7\">\n",
       "     <g id=\"line2d_12\">\n",
       "      <g>\n",
       "       <use style=\"stroke:#000000;stroke-width:0.8;\" x=\"54\" xlink:href=\"#m3e559f0281\" y=\"39.88832\"/>\n",
       "      </g>\n",
       "     </g>\n",
       "     <g id=\"text_13\">\n",
       "      <!-- 0.6 -->\n",
       "      <g transform=\"translate(31.096875 43.687539)scale(0.1 -0.1)\">\n",
       "       <use xlink:href=\"#DejaVuSans-30\"/>\n",
       "       <use x=\"63.623047\" xlink:href=\"#DejaVuSans-2e\"/>\n",
       "       <use x=\"95.410156\" xlink:href=\"#DejaVuSans-36\"/>\n",
       "      </g>\n",
       "     </g>\n",
       "    </g>\n",
       "   </g>\n",
       "   <g id=\"line2d_13\">\n",
       "    <path clip-path=\"url(#peb04a42ec4)\" d=\"M 69.218182 44.649521  L 69.55082 44.649521  L 69.883458 48.598934  L 71.214009 74.239164  L 71.546647 74.485953  L 72.211923 69.068896  L 72.54456 66.673393  L 72.877198 65.679076  L 73.209836 66.14684  L 73.542474 67.734507  L 74.540387 73.722578  L 74.873025 74.591921  L 75.205663 74.657537  L 75.538301 74.155932  L 76.203577 72.873358  L 76.536215 72.628403  L 76.868852 72.756391  L 77.534128 73.729721  L 78.199404 74.680905  L 78.532042 74.904873  L 78.86468 74.950409  L 80.527869 74.552285  L 81.525782 74.863531  L 82.523696 75.108676  L 83.854247 75.067587  L 85.517437 75.128841  L 87.513264 75.194816  L 95.163934 75.233798  L 247.512072 75.48873  L 269.133532 75.760478  L 280.775857 76.107018  L 288.426528 76.537802  L 294.081371 77.073753  L 298.073025 77.653574  L 301.399404 78.345433  L 304.060507 79.104878  L 306.388972 79.984588  L 308.384799 80.957096  L 310.380626 82.198244  L 312.043815 83.49718  L 313.707004 85.099365  L 315.370194 87.073208  L 316.700745 88.969086  L 318.031297 91.185661  L 319.694486 94.450706  L 321.357675 98.287334  L 323.020864 102.669248  L 325.349329 109.546301  L 328.675708 120.244504  L 331.669449 130.483141  L 333.665276 138.060512  L 335.328465 145.319673  L 336.659016 152.034961  L 337.989568 159.738929  L 339.652757 170.809048  L 342.31386 190.643601  L 344.309687 204.869447  L 345.640238 212.946727  L 346.97079 219.588607  L 348.301341 224.847191  L 349.299255 228.010648  L 350.629806 231.395736  L 351.960358 234.045825  L 353.290909 236.149683  L 354.621461 237.84571  L 355.952012 239.232829  L 357.615201 240.638583  L 359.27839 241.769735  L 361.274218 242.860065  L 363.602683 243.865314  L 366.263785 244.766625  L 369.590164 245.639764  L 373.581818 246.43995  L 373.581818 246.43995  \" style=\"fill:none;stroke:#1f77b4;stroke-linecap:square;stroke-width:1.5;\"/>\n",
       "   </g>\n",
       "   <g id=\"patch_3\">\n",
       "    <path d=\"M 54 252  L 54 34.56  \" style=\"fill:none;stroke:#000000;stroke-linecap:square;stroke-linejoin:miter;stroke-width:0.8;\"/>\n",
       "   </g>\n",
       "   <g id=\"patch_4\">\n",
       "    <path d=\"M 388.8 252  L 388.8 34.56  \" style=\"fill:none;stroke:#000000;stroke-linecap:square;stroke-linejoin:miter;stroke-width:0.8;\"/>\n",
       "   </g>\n",
       "   <g id=\"patch_5\">\n",
       "    <path d=\"M 54 252  L 388.8 252  \" style=\"fill:none;stroke:#000000;stroke-linecap:square;stroke-linejoin:miter;stroke-width:0.8;\"/>\n",
       "   </g>\n",
       "   <g id=\"patch_6\">\n",
       "    <path d=\"M 54 34.56  L 388.8 34.56  \" style=\"fill:none;stroke:#000000;stroke-linecap:square;stroke-linejoin:miter;stroke-width:0.8;\"/>\n",
       "   </g>\n",
       "   <g id=\"text_14\">\n",
       "    <!-- XOR2 Network: Error -->\n",
       "    <defs>\n",
       "     <path d=\"M 6.296875 72.90625  L 16.890625 72.90625  L 35.015625 45.796875  L 53.21875 72.90625  L 63.8125 72.90625  L 40.375 37.890625  L 65.375 0  L 54.78125 0  L 34.28125 31  L 13.625 0  L 2.984375 0  L 29 38.921875  z \" id=\"DejaVuSans-58\"/>\n",
       "     <path d=\"M 39.40625 66.21875  Q 28.65625 66.21875 22.328125 58.203125  Q 16.015625 50.203125 16.015625 36.375  Q 16.015625 22.609375 22.328125 14.59375  Q 28.65625 6.59375 39.40625 6.59375  Q 50.140625 6.59375 56.421875 14.59375  Q 62.703125 22.609375 62.703125 36.375  Q 62.703125 50.203125 56.421875 58.203125  Q 50.140625 66.21875 39.40625 66.21875  z M 39.40625 74.21875  Q 54.734375 74.21875 63.90625 63.9375  Q 73.09375 53.65625 73.09375 36.375  Q 73.09375 19.140625 63.90625 8.859375  Q 54.734375 -1.421875 39.40625 -1.421875  Q 24.03125 -1.421875 14.8125 8.828125  Q 5.609375 19.09375 5.609375 36.375  Q 5.609375 53.65625 14.8125 63.9375  Q 24.03125 74.21875 39.40625 74.21875  z \" id=\"DejaVuSans-4f\"/>\n",
       "     <path d=\"M 44.390625 34.1875  Q 47.5625 33.109375 50.5625 29.59375  Q 53.5625 26.078125 56.59375 19.921875  L 66.609375 0  L 56 0  L 46.6875 18.703125  Q 43.0625 26.03125 39.671875 28.421875  Q 36.28125 30.8125 30.421875 30.8125  L 19.671875 30.8125  L 19.671875 0  L 9.8125 0  L 9.8125 72.90625  L 32.078125 72.90625  Q 44.578125 72.90625 50.734375 67.671875  Q 56.890625 62.453125 56.890625 51.90625  Q 56.890625 45.015625 53.6875 40.46875  Q 50.484375 35.9375 44.390625 34.1875  z M 19.671875 64.796875  L 19.671875 38.921875  L 32.078125 38.921875  Q 39.203125 38.921875 42.84375 42.21875  Q 46.484375 45.515625 46.484375 51.90625  Q 46.484375 58.296875 42.84375 61.546875  Q 39.203125 64.796875 32.078125 64.796875  z \" id=\"DejaVuSans-52\"/>\n",
       "     <path id=\"DejaVuSans-20\"/>\n",
       "     <path d=\"M 9.8125 72.90625  L 23.09375 72.90625  L 55.421875 11.921875  L 55.421875 72.90625  L 64.984375 72.90625  L 64.984375 0  L 51.703125 0  L 19.390625 60.984375  L 19.390625 0  L 9.8125 0  z \" id=\"DejaVuSans-4e\"/>\n",
       "     <path d=\"M 56.203125 29.59375  L 56.203125 25.203125  L 14.890625 25.203125  Q 15.484375 15.921875 20.484375 11.0625  Q 25.484375 6.203125 34.421875 6.203125  Q 39.59375 6.203125 44.453125 7.46875  Q 49.3125 8.734375 54.109375 11.28125  L 54.109375 2.78125  Q 49.265625 0.734375 44.1875 -0.34375  Q 39.109375 -1.421875 33.890625 -1.421875  Q 20.796875 -1.421875 13.15625 6.1875  Q 5.515625 13.8125 5.515625 26.8125  Q 5.515625 40.234375 12.765625 48.109375  Q 20.015625 56 32.328125 56  Q 43.359375 56 49.78125 48.890625  Q 56.203125 41.796875 56.203125 29.59375  z M 47.21875 32.234375  Q 47.125 39.59375 43.09375 43.984375  Q 39.0625 48.390625 32.421875 48.390625  Q 24.90625 48.390625 20.390625 44.140625  Q 15.875 39.890625 15.1875 32.171875  z \" id=\"DejaVuSans-65\"/>\n",
       "     <path d=\"M 18.3125 70.21875  L 18.3125 54.6875  L 36.8125 54.6875  L 36.8125 47.703125  L 18.3125 47.703125  L 18.3125 18.015625  Q 18.3125 11.328125 20.140625 9.421875  Q 21.96875 7.515625 27.59375 7.515625  L 36.8125 7.515625  L 36.8125 0  L 27.59375 0  Q 17.1875 0 13.234375 3.875  Q 9.28125 7.765625 9.28125 18.015625  L 9.28125 47.703125  L 2.6875 47.703125  L 2.6875 54.6875  L 9.28125 54.6875  L 9.28125 70.21875  z \" id=\"DejaVuSans-74\"/>\n",
       "     <path d=\"M 4.203125 54.6875  L 13.1875 54.6875  L 24.421875 12.015625  L 35.59375 54.6875  L 46.1875 54.6875  L 57.421875 12.015625  L 68.609375 54.6875  L 77.59375 54.6875  L 63.28125 0  L 52.6875 0  L 40.921875 44.828125  L 29.109375 0  L 18.5 0  z \" id=\"DejaVuSans-77\"/>\n",
       "     <path d=\"M 41.109375 46.296875  Q 39.59375 47.171875 37.8125 47.578125  Q 36.03125 48 33.890625 48  Q 26.265625 48 22.1875 43.046875  Q 18.109375 38.09375 18.109375 28.8125  L 18.109375 0  L 9.078125 0  L 9.078125 54.6875  L 18.109375 54.6875  L 18.109375 46.1875  Q 20.953125 51.171875 25.484375 53.578125  Q 30.03125 56 36.53125 56  Q 37.453125 56 38.578125 55.875  Q 39.703125 55.765625 41.0625 55.515625  z \" id=\"DejaVuSans-72\"/>\n",
       "     <path d=\"M 9.078125 75.984375  L 18.109375 75.984375  L 18.109375 31.109375  L 44.921875 54.6875  L 56.390625 54.6875  L 27.390625 29.109375  L 57.625 0  L 45.90625 0  L 18.109375 26.703125  L 18.109375 0  L 9.078125 0  z \" id=\"DejaVuSans-6b\"/>\n",
       "     <path d=\"M 11.71875 12.40625  L 22.015625 12.40625  L 22.015625 0  L 11.71875 0  z M 11.71875 51.703125  L 22.015625 51.703125  L 22.015625 39.3125  L 11.71875 39.3125  z \" id=\"DejaVuSans-3a\"/>\n",
       "    </defs>\n",
       "    <g transform=\"translate(158.839688 28.56)scale(0.12 -0.12)\">\n",
       "     <use xlink:href=\"#DejaVuSans-58\"/>\n",
       "     <use x=\"68.412109\" xlink:href=\"#DejaVuSans-4f\"/>\n",
       "     <use x=\"147.123047\" xlink:href=\"#DejaVuSans-52\"/>\n",
       "     <use x=\"216.605469\" xlink:href=\"#DejaVuSans-32\"/>\n",
       "     <use x=\"280.228516\" xlink:href=\"#DejaVuSans-20\"/>\n",
       "     <use x=\"312.015625\" xlink:href=\"#DejaVuSans-4e\"/>\n",
       "     <use x=\"386.820312\" xlink:href=\"#DejaVuSans-65\"/>\n",
       "     <use x=\"448.34375\" xlink:href=\"#DejaVuSans-74\"/>\n",
       "     <use x=\"487.552734\" xlink:href=\"#DejaVuSans-77\"/>\n",
       "     <use x=\"569.339844\" xlink:href=\"#DejaVuSans-6f\"/>\n",
       "     <use x=\"630.521484\" xlink:href=\"#DejaVuSans-72\"/>\n",
       "     <use x=\"671.634766\" xlink:href=\"#DejaVuSans-6b\"/>\n",
       "     <use x=\"729.544922\" xlink:href=\"#DejaVuSans-3a\"/>\n",
       "     <use x=\"763.236328\" xlink:href=\"#DejaVuSans-20\"/>\n",
       "     <use x=\"795.023438\" xlink:href=\"#DejaVuSans-45\"/>\n",
       "     <use x=\"858.207031\" xlink:href=\"#DejaVuSans-72\"/>\n",
       "     <use x=\"899.304688\" xlink:href=\"#DejaVuSans-72\"/>\n",
       "     <use x=\"940.386719\" xlink:href=\"#DejaVuSans-6f\"/>\n",
       "     <use x=\"1001.568359\" xlink:href=\"#DejaVuSans-72\"/>\n",
       "    </g>\n",
       "   </g>\n",
       "   <g id=\"legend_1\">\n",
       "    <g id=\"patch_7\">\n",
       "     <path d=\"M 290.434375 57.238125  L 381.8 57.238125  Q 383.8 57.238125 383.8 55.238125  L 383.8 41.56  Q 383.8 39.56 381.8 39.56  L 290.434375 39.56  Q 288.434375 39.56 288.434375 41.56  L 288.434375 55.238125  Q 288.434375 57.238125 290.434375 57.238125  z \" style=\"fill:#ffffff;opacity:0.8;stroke:#cccccc;stroke-linejoin:miter;\"/>\n",
       "    </g>\n",
       "    <g id=\"line2d_14\">\n",
       "     <path d=\"M 292.434375 47.658437  L 312.434375 47.658437  \" style=\"fill:none;stroke:#1f77b4;stroke-linecap:square;stroke-width:1.5;\"/>\n",
       "    </g>\n",
       "    <g id=\"line2d_15\"/>\n",
       "    <g id=\"text_15\">\n",
       "     <!-- Training set -->\n",
       "     <defs>\n",
       "      <path d=\"M -0.296875 72.90625  L 61.375 72.90625  L 61.375 64.59375  L 35.5 64.59375  L 35.5 0  L 25.59375 0  L 25.59375 64.59375  L -0.296875 64.59375  z \" id=\"DejaVuSans-54\"/>\n",
       "      <path d=\"M 34.28125 27.484375  Q 23.390625 27.484375 19.1875 25  Q 14.984375 22.515625 14.984375 16.5  Q 14.984375 11.71875 18.140625 8.90625  Q 21.296875 6.109375 26.703125 6.109375  Q 34.1875 6.109375 38.703125 11.40625  Q 43.21875 16.703125 43.21875 25.484375  L 43.21875 27.484375  z M 52.203125 31.203125  L 52.203125 0  L 43.21875 0  L 43.21875 8.296875  Q 40.140625 3.328125 35.546875 0.953125  Q 30.953125 -1.421875 24.3125 -1.421875  Q 15.921875 -1.421875 10.953125 3.296875  Q 6 8.015625 6 15.921875  Q 6 25.140625 12.171875 29.828125  Q 18.359375 34.515625 30.609375 34.515625  L 43.21875 34.515625  L 43.21875 35.40625  Q 43.21875 41.609375 39.140625 45  Q 35.0625 48.390625 27.6875 48.390625  Q 23 48.390625 18.546875 47.265625  Q 14.109375 46.140625 10.015625 43.890625  L 10.015625 52.203125  Q 14.9375 54.109375 19.578125 55.046875  Q 24.21875 56 28.609375 56  Q 40.484375 56 46.34375 49.84375  Q 52.203125 43.703125 52.203125 31.203125  z \" id=\"DejaVuSans-61\"/>\n",
       "      <path d=\"M 9.421875 54.6875  L 18.40625 54.6875  L 18.40625 0  L 9.421875 0  z M 9.421875 75.984375  L 18.40625 75.984375  L 18.40625 64.59375  L 9.421875 64.59375  z \" id=\"DejaVuSans-69\"/>\n",
       "      <path d=\"M 54.890625 33.015625  L 54.890625 0  L 45.90625 0  L 45.90625 32.71875  Q 45.90625 40.484375 42.875 44.328125  Q 39.84375 48.1875 33.796875 48.1875  Q 26.515625 48.1875 22.3125 43.546875  Q 18.109375 38.921875 18.109375 30.90625  L 18.109375 0  L 9.078125 0  L 9.078125 54.6875  L 18.109375 54.6875  L 18.109375 46.1875  Q 21.34375 51.125 25.703125 53.5625  Q 30.078125 56 35.796875 56  Q 45.21875 56 50.046875 50.171875  Q 54.890625 44.34375 54.890625 33.015625  z \" id=\"DejaVuSans-6e\"/>\n",
       "      <path d=\"M 45.40625 27.984375  Q 45.40625 37.75 41.375 43.109375  Q 37.359375 48.484375 30.078125 48.484375  Q 22.859375 48.484375 18.828125 43.109375  Q 14.796875 37.75 14.796875 27.984375  Q 14.796875 18.265625 18.828125 12.890625  Q 22.859375 7.515625 30.078125 7.515625  Q 37.359375 7.515625 41.375 12.890625  Q 45.40625 18.265625 45.40625 27.984375  z M 54.390625 6.78125  Q 54.390625 -7.171875 48.1875 -13.984375  Q 42 -20.796875 29.203125 -20.796875  Q 24.46875 -20.796875 20.265625 -20.09375  Q 16.0625 -19.390625 12.109375 -17.921875  L 12.109375 -9.1875  Q 16.0625 -11.328125 19.921875 -12.34375  Q 23.78125 -13.375 27.78125 -13.375  Q 36.625 -13.375 41.015625 -8.765625  Q 45.40625 -4.15625 45.40625 5.171875  L 45.40625 9.625  Q 42.625 4.78125 38.28125 2.390625  Q 33.9375 0 27.875 0  Q 17.828125 0 11.671875 7.65625  Q 5.515625 15.328125 5.515625 27.984375  Q 5.515625 40.671875 11.671875 48.328125  Q 17.828125 56 27.875 56  Q 33.9375 56 38.28125 53.609375  Q 42.625 51.21875 45.40625 46.390625  L 45.40625 54.6875  L 54.390625 54.6875  z \" id=\"DejaVuSans-67\"/>\n",
       "      <path d=\"M 44.28125 53.078125  L 44.28125 44.578125  Q 40.484375 46.53125 36.375 47.5  Q 32.28125 48.484375 27.875 48.484375  Q 21.1875 48.484375 17.84375 46.4375  Q 14.5 44.390625 14.5 40.28125  Q 14.5 37.15625 16.890625 35.375  Q 19.28125 33.59375 26.515625 31.984375  L 29.59375 31.296875  Q 39.15625 29.25 43.1875 25.515625  Q 47.21875 21.78125 47.21875 15.09375  Q 47.21875 7.46875 41.1875 3.015625  Q 35.15625 -1.421875 24.609375 -1.421875  Q 20.21875 -1.421875 15.453125 -0.5625  Q 10.6875 0.296875 5.421875 2  L 5.421875 11.28125  Q 10.40625 8.6875 15.234375 7.390625  Q 20.0625 6.109375 24.8125 6.109375  Q 31.15625 6.109375 34.5625 8.28125  Q 37.984375 10.453125 37.984375 14.40625  Q 37.984375 18.0625 35.515625 20.015625  Q 33.0625 21.96875 24.703125 23.78125  L 21.578125 24.515625  Q 13.234375 26.265625 9.515625 29.90625  Q 5.8125 33.546875 5.8125 39.890625  Q 5.8125 47.609375 11.28125 51.796875  Q 16.75 56 26.8125 56  Q 31.78125 56 36.171875 55.265625  Q 40.578125 54.546875 44.28125 53.078125  z \" id=\"DejaVuSans-73\"/>\n",
       "     </defs>\n",
       "     <g transform=\"translate(320.434375 51.158437)scale(0.1 -0.1)\">\n",
       "      <use xlink:href=\"#DejaVuSans-54\"/>\n",
       "      <use x=\"60.865234\" xlink:href=\"#DejaVuSans-72\"/>\n",
       "      <use x=\"101.978516\" xlink:href=\"#DejaVuSans-61\"/>\n",
       "      <use x=\"163.257812\" xlink:href=\"#DejaVuSans-69\"/>\n",
       "      <use x=\"191.041016\" xlink:href=\"#DejaVuSans-6e\"/>\n",
       "      <use x=\"254.419922\" xlink:href=\"#DejaVuSans-69\"/>\n",
       "      <use x=\"282.203125\" xlink:href=\"#DejaVuSans-6e\"/>\n",
       "      <use x=\"345.582031\" xlink:href=\"#DejaVuSans-67\"/>\n",
       "      <use x=\"409.058594\" xlink:href=\"#DejaVuSans-20\"/>\n",
       "      <use x=\"440.845703\" xlink:href=\"#DejaVuSans-73\"/>\n",
       "      <use x=\"492.945312\" xlink:href=\"#DejaVuSans-65\"/>\n",
       "      <use x=\"554.46875\" xlink:href=\"#DejaVuSans-74\"/>\n",
       "     </g>\n",
       "    </g>\n",
       "   </g>\n",
       "  </g>\n",
       " </g>\n",
       " <defs>\n",
       "  <clipPath id=\"peb04a42ec4\">\n",
       "   <rect height=\"217.44\" width=\"334.8\" x=\"54\" y=\"34.56\"/>\n",
       "  </clipPath>\n",
       " </defs>\n",
       "</svg>"
      ],
      "text/plain": [
       "<IPython.core.display.SVG object>"
      ]
     },
     "metadata": {},
     "output_type": "display_data"
    },
    {
     "name": "stdout",
     "output_type": "stream",
     "text": [
      "========================================================\n",
      "       |  Training |   output1 |   output2 \n",
      "Epochs |     Error |       acc |       acc \n",
      "------ | --------- | --------- | --------- \n",
      "#  915 |   0.01573 |   1.00000 |   1.00000 \n"
     ]
    }
   ],
   "source": [
    "net2.reset()\n",
    "net2.train(epochs=2000, accuracy=1.0, report_rate=25)"
   ]
  },
  {
   "cell_type": "code",
   "execution_count": 34,
   "metadata": {},
   "outputs": [
    {
     "data": {
      "text/plain": [
       "[[0.831886], [0.80715334]]"
      ]
     },
     "execution_count": 34,
     "metadata": {},
     "output_type": "execute_result"
    }
   ],
   "source": [
    "net2.propagate_from(\"shared-hidden\", [0.0] * 5)"
   ]
  },
  {
   "cell_type": "code",
   "execution_count": 35,
   "metadata": {},
   "outputs": [
    {
     "data": {
      "text/plain": [
       "[0.12185605615377426,\n",
       " 0.1576666235923767,\n",
       " 0.7544072270393372,\n",
       " 0.48832881450653076,\n",
       " 0.15166418254375458,\n",
       " 0.6500229835510254,\n",
       " 0.9043633937835693,\n",
       " 0.1985720694065094,\n",
       " 0.7953702211380005,\n",
       " 0.3377590775489807]"
      ]
     },
     "execution_count": 35,
     "metadata": {},
     "output_type": "execute_result"
    }
   ],
   "source": [
    "net2.propagate_to(\"hidden1\", [[1], [1]])"
   ]
  },
  {
   "cell_type": "code",
   "execution_count": 36,
   "metadata": {},
   "outputs": [],
   "source": [
    "net2.dataset.slice(2)"
   ]
  },
  {
   "cell_type": "code",
   "execution_count": 37,
   "metadata": {},
   "outputs": [
    {
     "name": "stdout",
     "output_type": "stream",
     "text": [
      "No training required: accuracy already to desired value\n",
      "Training dataset status:\n",
      "       |  Training |   output1 |   output2 \n",
      "Epochs |     Error |       acc |       acc \n",
      "------ | --------- | --------- | --------- \n",
      "#  915 |   0.01573 |   1.00000 |   1.00000 \n"
     ]
    }
   ],
   "source": [
    "net2.train(epochs=2000, accuracy=1.0, report_rate=25)"
   ]
  },
  {
   "cell_type": "code",
   "execution_count": 38,
   "metadata": {},
   "outputs": [
    {
     "data": {
      "image/png": "[encoded data removed]",
      "text/plain": [
       "<matplotlib.figure.Figure at 0x11a9d6630>"
      ]
     },
     "metadata": {},
     "output_type": "display_data"
    }
   ],
   "source": [
    "net2.plot('all')"
   ]
  },
  {
   "cell_type": "code",
   "execution_count": null,
   "metadata": {},
   "outputs": [],
   "source": []
  }
 ],
 "metadata": {
  "kernelspec": {
   "display_name": "Python 3",
   "language": "python",
   "name": "python3"
  },
  "language_info": {
   "codemirror_mode": {
    "name": "ipython",
    "version": 3
   },
   "file_extension": ".py",
   "mimetype": "text/x-python",
   "name": "python",
   "nbconvert_exporter": "python",
   "pygments_lexer": "ipython3",
   "version": "3.5.3"
  },
  "widgets": {
   "application/vnd.jupyter.widget-state+json": {
    "state": {
     "0064fb0719684730ac2481ffb5e6bc30": {
      "model_module": "@jupyter-widgets/base",
      "model_module_version": "1.0.0",
      "model_name": "LayoutModel",
      "state": {}
     },
     "02ed9f61b94847dba3b456379a4ab15c": {
      "model_module": "@jupyter-widgets/controls",
      "model_module_version": "1.1.0",
      "model_name": "FloatTextModel",
      "state": {
       "description": "Feature scale:",
       "layout": "IPY_MODEL_2ebcc4f6f9e2414fb72c903c6b562ab2",
       "step": null,
       "style": "IPY_MODEL_368070b1f2864c40802c8c7b22b2dc75",
       "value": 1
      }
     },
     "02f38f764368458283e0cdddad5720ff": {
      "model_module": "@jupyter-widgets/base",
      "model_module_version": "1.0.0",
      "model_name": "LayoutModel",
      "state": {
       "width": "100%"
      }
     },
     "040cc15bcfaf4694b29e43516a8cb739": {
      "model_module": "@jupyter-widgets/base",
      "model_module_version": "1.0.0",
      "model_name": "LayoutModel",
      "state": {
       "width": "65%"
      }
     },
     "0477f3f09e894bce9bacc4e3557c113d": {
      "model_module": "@jupyter-widgets/base",
      "model_module_version": "1.0.0",
      "model_name": "LayoutModel",
      "state": {
       "justify_content": "center",
       "overflow_x": "auto",
       "overflow_y": "auto",
       "width": "95%"
      }
     },
     "04ac7b33f3f34eca8340cbd964906393": {
      "model_module": "@jupyter-widgets/base",
      "model_module_version": "1.0.0",
      "model_name": "LayoutModel",
      "state": {}
     },
     "05e4aa4d08354540b6cc718aa8d04464": {
      "model_module": "@jupyter-widgets/controls",
      "model_module_version": "1.1.0",
      "model_name": "DescriptionStyleModel",
      "state": {
       "description_width": ""
      }
     },
     "0862971ccc8c46189f23c2987c49459c": {
      "model_module": "@jupyter-widgets/controls",
      "model_module_version": "1.1.0",
      "model_name": "DescriptionStyleModel",
      "state": {
       "description_width": "initial"
      }
     },
     "0a299a080b96484c9d2efbb23d29af44": {
      "model_module": "@jupyter-widgets/base",
      "model_module_version": "1.0.0",
      "model_name": "LayoutModel",
      "state": {
       "width": "100px"
      }
     },
     "0a355259821740e6bfa40f9f835e9868": {
      "model_module": "@jupyter-widgets/base",
      "model_module_version": "1.0.0",
      "model_name": "LayoutModel",
      "state": {}
     },
     "0b4a313cdee546a5a7c68dcead7a5251": {
      "model_module": "@jupyter-widgets/controls",
      "model_module_version": "1.1.0",
      "model_name": "LabelModel",
      "state": {
       "layout": "IPY_MODEL_8480191bcf6d44a4a0536be4687908ab",
       "style": "IPY_MODEL_8b506e63d431471c9f03217874b62d41",
       "value": "of 4"
      }
     },
     "0b7797bdda6f40a78cda33ba6598aaaa": {
      "model_module": "@jupyter-widgets/base",
      "model_module_version": "1.0.0",
      "model_name": "LayoutModel",
      "state": {
       "width": "10%"
      }
     },
     "0c41f7b8547f40559583669bc824b696": {
      "model_module": "@jupyter-widgets/controls",
      "model_module_version": "1.1.0",
      "model_name": "VBoxModel",
      "state": {
       "children": [
        "IPY_MODEL_82470d1f68b9468aa657e38dfb8294d9",
        "IPY_MODEL_ed831f226c22446d95690b5aa9cb8ae2",
        "IPY_MODEL_d700faac094a4d038ba2620905749c73",
        "IPY_MODEL_5cc26ac81a694901b749cbb6095f6a1e"
       ],
       "layout": "IPY_MODEL_eb777d7bfed34277b0558bbb16908590"
      }
     },
     "0eba8281a198465489d575ccec2c8e43": {
      "model_module": "@jupyter-widgets/base",
      "model_module_version": "1.0.0",
      "model_name": "LayoutModel",
      "state": {
       "width": "100%"
      }
     },
     "11cc242834224ca8b08be16cd6bf3eda": {
      "model_module": "@jupyter-widgets/base",
      "model_module_version": "1.0.0",
      "model_name": "LayoutModel",
      "state": {
       "height": "40px"
      }
     },
     "13421036718c4fa0abda5c09171ab3ca": {
      "model_module": "@jupyter-widgets/controls",
      "model_module_version": "1.1.0",
      "model_name": "DescriptionStyleModel",
      "state": {
       "description_width": "initial"
      }
     },
     "135afa6caafd43ef816b2ad243066066": {
      "model_module": "@jupyter-widgets/controls",
      "model_module_version": "1.1.0",
      "model_name": "DescriptionStyleModel",
      "state": {
       "description_width": "initial"
      }
     },
     "1361db4b4c634af3be6f1857df2e03a5": {
      "model_module": "@jupyter-widgets/base",
      "model_module_version": "1.0.0",
      "model_name": "LayoutModel",
      "state": {
       "height": "50px",
       "width": "100%"
      }
     },
     "1380b0eb8d7f41a28767909ae3e816ba": {
      "model_module": "@jupyter-widgets/base",
      "model_module_version": "1.0.0",
      "model_name": "LayoutModel",
      "state": {
       "width": "25%"
      }
     },
     "140dbbfa644e4fd49c4cbaa06dce514b": {
      "model_module": "@jupyter-widgets/controls",
      "model_module_version": "1.1.0",
      "model_name": "VBoxModel",
      "state": {
       "children": [
        "IPY_MODEL_b307124f836d448c9c1a3df475246f53",
        "IPY_MODEL_cb175a2ea955453dad21642ffe7436bb",
        "IPY_MODEL_ecab502c4d0e4801a6af8e0d06b971f0",
        "IPY_MODEL_6c33f7b956484eb5a104556c201d213c",
        "IPY_MODEL_c64c35edab2c40b0bc97493eb2535fe5",
        "IPY_MODEL_a17db45d12634b239f4483dc76d5a845",
        "IPY_MODEL_58324b76986a443fa50b7841cb13ad19",
        "IPY_MODEL_02ed9f61b94847dba3b456379a4ab15c"
       ],
       "layout": "IPY_MODEL_e93cf9de9fcf405fb74e37ccdb0deb8c"
      }
     },
     "161af00567c74db0aafe92482ff85291": {
      "model_module": "@jupyter-widgets/controls",
      "model_module_version": "1.1.0",
      "model_name": "DescriptionStyleModel",
      "state": {
       "description_width": "initial"
      }
     },
     "1683b27184bb40f2ad4fc2a87c4e2302": {
      "model_module": "@jupyter-widgets/controls",
      "model_module_version": "1.1.0",
      "model_name": "ButtonModel",
      "state": {
       "icon": "fast-forward",
       "layout": "IPY_MODEL_f163951d1c1f4d66b347d7d063d7bebd",
       "style": "IPY_MODEL_4ddea3cea86d42f4a2bed9dce6fa67f6"
      }
     },
     "1765e5f41f8f4a18b96e209d7f022b79": {
      "model_module": "@jupyter-widgets/controls",
      "model_module_version": "1.1.0",
      "model_name": "VBoxModel",
      "state": {
       "children": [
        "IPY_MODEL_e5ed68e41280437c8682e051d7c50427",
        "IPY_MODEL_fe740d0dc4ba4d1cb4841bb8f9701739"
       ],
       "layout": "IPY_MODEL_3fc5025e5de640e49df6e4dafd0d3bd2"
      }
     },
     "18ea84a63b8b47268e4200510b6498be": {
      "model_module": "@jupyter-widgets/base",
      "model_module_version": "1.0.0",
      "model_name": "LayoutModel",
      "state": {
       "width": "100%"
      }
     },
     "195c227ab4f94658aef52918caa4c749": {
      "model_module": "@jupyter-widgets/output",
      "model_module_version": "1.0.0",
      "model_name": "OutputModel",
      "state": {
       "layout": "IPY_MODEL_0064fb0719684730ac2481ffb5e6bc30"
      }
     },
     "19de238b01e143a3992eccf0b5b0d808": {
      "model_module": "@jupyter-widgets/controls",
      "model_module_version": "1.1.0",
      "model_name": "DescriptionStyleModel",
      "state": {
       "description_width": ""
      }
     },
     "1abda5ca5f0f4aba9c1a79e162736136": {
      "model_module": "@jupyter-widgets/controls",
      "model_module_version": "1.1.0",
      "model_name": "DescriptionStyleModel",
      "state": {
       "description_width": "initial"
      }
     },
     "1b493153a3094363b78df8ccbdb76192": {
      "model_module": "@jupyter-widgets/controls",
      "model_module_version": "1.1.0",
      "model_name": "DescriptionStyleModel",
      "state": {
       "description_width": ""
      }
     },
     "1bf82fdb89874e8ea5cc8ec3f9468805": {
      "model_module": "@jupyter-widgets/controls",
      "model_module_version": "1.1.0",
      "model_name": "ButtonStyleModel",
      "state": {}
     },
     "1cbe21af2d5447989e676f2c9295fcfc": {
      "model_module": "@jupyter-widgets/base",
      "model_module_version": "1.0.0",
      "model_name": "LayoutModel",
      "state": {}
     },
     "1f2153cd229544459570892d4d1a120b": {
      "model_module": "@jupyter-widgets/base",
      "model_module_version": "1.0.0",
      "model_name": "LayoutModel",
      "state": {
       "width": "100%"
      }
     },
     "1f9c4d8148754a0ebe7a2dce6fd8638d": {
      "model_module": "@jupyter-widgets/base",
      "model_module_version": "1.0.0",
      "model_name": "LayoutModel",
      "state": {
       "width": "100%"
      }
     },
     "20d30e5f6565423999c2fa03ee9b1cfa": {
      "model_module": "@jupyter-widgets/controls",
      "model_module_version": "1.1.0",
      "model_name": "DescriptionStyleModel",
      "state": {
       "description_width": ""
      }
     },
     "23cc7a90db7944539243cd91a977f93a": {
      "model_module": "@jupyter-widgets/controls",
      "model_module_version": "1.1.0",
      "model_name": "FloatTextModel",
      "state": {
       "description": "Rightmost color maps to:",
       "layout": "IPY_MODEL_d1179adc6a6a430796c851227f063a8b",
       "step": null,
       "style": "IPY_MODEL_ac1d38878eeb4b66a1786c8078dca9cb",
       "value": 1
      }
     },
     "2641c45d470f4fe0bb814fadafca00a7": {
      "model_module": "@jupyter-widgets/base",
      "model_module_version": "1.0.0",
      "model_name": "LayoutModel",
      "state": {}
     },
     "26fc6d811dbc4e279c4eb471e0b4e23b": {
      "model_module": "@jupyter-widgets/controls",
      "model_module_version": "1.1.0",
      "model_name": "ButtonModel",
      "state": {
       "icon": "forward",
       "layout": "IPY_MODEL_d2ebd102767945e095714fb2c8e10afd",
       "style": "IPY_MODEL_924e22fc5cb2455daa6b31377b92d3e7"
      }
     },
     "280c2e268a92434593b32fe7f4c22c7b": {
      "model_module": "@jupyter-widgets/controls",
      "model_module_version": "1.1.0",
      "model_name": "LabelModel",
      "state": {
       "layout": "IPY_MODEL_5ff55eef39cb44dba5cafde48f0d905a",
       "style": "IPY_MODEL_c783b744ff804f978c5a5457498d741b",
       "value": "of 645"
      }
     },
     "2b9560c0db534d9dacbbc184329ca3ea": {
      "model_module": "@jupyter-widgets/controls",
      "model_module_version": "1.1.0",
      "model_name": "ButtonStyleModel",
      "state": {}
     },
     "2b97f85c995f4246a1d7b0606d42d3ea": {
      "model_module": "@jupyter-widgets/controls",
      "model_module_version": "1.1.0",
      "model_name": "DescriptionStyleModel",
      "state": {
       "description_width": "initial"
      }
     },
     "2be9519110d841798f0efb1a84e39044": {
      "model_module": "@jupyter-widgets/controls",
      "model_module_version": "1.1.0",
      "model_name": "IntTextModel",
      "state": {
       "layout": "IPY_MODEL_55b947e56f204155abaf4fa0a3b190f5",
       "step": 1,
       "style": "IPY_MODEL_370189233c254493bcea4bcef8e9019c"
      }
     },
     "2c9d041e732e4154a42f64a502b720b3": {
      "model_module": "@jupyter-widgets/controls",
      "model_module_version": "1.1.0",
      "model_name": "CheckboxModel",
      "state": {
       "description": "Errors",
       "disabled": false,
       "layout": "IPY_MODEL_f45d940b8e784a0487021e2cde7bfd68",
       "style": "IPY_MODEL_5fd251e4197149d486c89d361250283e",
       "value": false
      }
     },
     "2d19ae9658c14e00a5a404563a665c2b": {
      "model_module": "@jupyter-widgets/controls",
      "model_module_version": "1.1.0",
      "model_name": "SelectModel",
      "state": {
       "_options_labels": [
        "input1",
        "input2",
        "hidden1",
        "hidden2",
        "shared-hidden",
        "output1",
        "output2"
       ],
       "description": "Layer:",
       "index": 6,
       "layout": "IPY_MODEL_96c77ea9822c44489b832f1ba85874a3",
       "rows": 1,
       "style": "IPY_MODEL_8faebf1b8e4f47c6845552e6854a9c7e"
      }
     },
     "2d1f91a98dc148c199bcf19788140205": {
      "model_module": "@jupyter-widgets/controls",
      "model_module_version": "1.1.0",
      "model_name": "IntTextModel",
      "state": {
       "description": "Vertical space between layers:",
       "layout": "IPY_MODEL_f45d940b8e784a0487021e2cde7bfd68",
       "step": 1,
       "style": "IPY_MODEL_4a9927d95afc4a7b99ffeb689527c923",
       "value": 30
      }
     },
     "2ebcc4f6f9e2414fb72c903c6b562ab2": {
      "model_module": "@jupyter-widgets/base",
      "model_module_version": "1.0.0",
      "model_name": "LayoutModel",
      "state": {}
     },
     "2f24177cf9f94603a424b5a41e3157ad": {
      "model_module": "@jupyter-widgets/base",
      "model_module_version": "1.0.0",
      "model_name": "LayoutModel",
      "state": {}
     },
     "2f5b8fb77127444b9fd9486c3efd4ec5": {
      "model_module": "@jupyter-widgets/controls",
      "model_module_version": "1.1.0",
      "model_name": "SliderStyleModel",
      "state": {
       "description_width": ""
      }
     },
     "2f9fd0edabf34711a47f9cf9f8f86005": {
      "model_module": "@jupyter-widgets/base",
      "model_module_version": "1.0.0",
      "model_name": "LayoutModel",
      "state": {
       "width": "100%"
      }
     },
     "304097b1eb324e8cb0ac1ba7762b028b": {
      "model_module": "@jupyter-widgets/base",
      "model_module_version": "1.0.0",
      "model_name": "LayoutModel",
      "state": {
       "width": "100%"
      }
     },
     "30c15d1dc39a457eb38eaa1c4e5416b5": {
      "model_module": "@jupyter-widgets/base",
      "model_module_version": "1.0.0",
      "model_name": "LayoutModel",
      "state": {}
     },
     "3184e34681bf4327a29bd20a521ba04d": {
      "model_module": "@jupyter-widgets/controls",
      "model_module_version": "1.1.0",
      "model_name": "DescriptionStyleModel",
      "state": {
       "description_width": ""
      }
     },
     "32f06482ec904efa85d93993ae2dce9e": {
      "model_module": "@jupyter-widgets/base",
      "model_module_version": "1.0.0",
      "model_name": "LayoutModel",
      "state": {
       "width": "100%"
      }
     },
     "33ad41433e894d549a722cedad9a2a25": {
      "model_module": "@jupyter-widgets/controls",
      "model_module_version": "1.1.0",
      "model_name": "CheckboxModel",
      "state": {
       "description": "Errors",
       "disabled": false,
       "layout": "IPY_MODEL_83332b59c2d748d998593c5f1289a508",
       "style": "IPY_MODEL_f7aa5553a9ac408186d79e62336b269e",
       "value": false
      }
     },
     "341b9f631a6b423abeb0004d3e90c3aa": {
      "model_module": "@jupyter-widgets/controls",
      "model_module_version": "1.1.0",
      "model_name": "ButtonStyleModel",
      "state": {}
     },
     "3490d1972152467ab6a291e10b338590": {
      "model_module": "@jupyter-widgets/controls",
      "model_module_version": "1.1.0",
      "model_name": "HTMLModel",
      "state": {
       "layout": "IPY_MODEL_2641c45d470f4fe0bb814fadafca00a7",
       "style": "IPY_MODEL_d1a304ebc06f4a748eb88a92c279160a",
       "value": "<img src=\"data:image/gif;base64,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\"/>"
      }
     },
     "34cc448349ac44e3b9a7f270c882432d": {
      "model_module": "@jupyter-widgets/base",
      "model_module_version": "1.0.0",
      "model_name": "LayoutModel",
      "state": {}
     },
     "368070b1f2864c40802c8c7b22b2dc75": {
      "model_module": "@jupyter-widgets/controls",
      "model_module_version": "1.1.0",
      "model_name": "DescriptionStyleModel",
      "state": {
       "description_width": "initial"
      }
     },
     "3693a46964024ccbafade14bf0a44d78": {
      "model_module": "@jupyter-widgets/controls",
      "model_module_version": "1.1.0",
      "model_name": "ButtonStyleModel",
      "state": {}
     },
     "370189233c254493bcea4bcef8e9019c": {
      "model_module": "@jupyter-widgets/controls",
      "model_module_version": "1.1.0",
      "model_name": "DescriptionStyleModel",
      "state": {
       "description_width": ""
      }
     },
     "37270029d2094bf2bfa735283639513c": {
      "model_module": "@jupyter-widgets/base",
      "model_module_version": "1.0.0",
      "model_name": "LayoutModel",
      "state": {}
     },
     "37c1763487e142a2aa8bf7ae5975ad6a": {
      "model_module": "@jupyter-widgets/base",
      "model_module_version": "1.0.0",
      "model_name": "LayoutModel",
      "state": {
       "width": "100%"
      }
     },
     "383b3c34d34c47cda9c90777e1cd4de9": {
      "model_module": "@jupyter-widgets/controls",
      "model_module_version": "1.1.0",
      "model_name": "ButtonModel",
      "state": {
       "icon": "fast-backward",
       "layout": "IPY_MODEL_68bb8985960b4cf88947c4da5b710086",
       "style": "IPY_MODEL_a1398866dcdb479987175076538821ce"
      }
     },
     "39c23d9bae9a43678d57ce0c5d0bb81c": {
      "model_module": "@jupyter-widgets/base",
      "model_module_version": "1.0.0",
      "model_name": "LayoutModel",
      "state": {
       "height": "40px"
      }
     },
     "39e1a8eebbfb45ea9792f85f34ac3b11": {
      "model_module": "@jupyter-widgets/base",
      "model_module_version": "1.0.0",
      "model_name": "LayoutModel",
      "state": {}
     },
     "3e378d6398a54e55b473561d3f9c7892": {
      "model_module": "@jupyter-widgets/controls",
      "model_module_version": "1.1.0",
      "model_name": "SelectModel",
      "state": {
       "_options_labels": [
        ""
       ],
       "description": "Features:",
       "index": 0,
       "layout": "IPY_MODEL_34cc448349ac44e3b9a7f270c882432d",
       "rows": 1,
       "style": "IPY_MODEL_9c37fc752b5b4f348c6c66fb3a9035d1"
      }
     },
     "3fc5025e5de640e49df6e4dafd0d3bd2": {
      "model_module": "@jupyter-widgets/base",
      "model_module_version": "1.0.0",
      "model_name": "LayoutModel",
      "state": {
       "width": "100%"
      }
     },
     "4104f2120c6e4e079b55d5450f50949b": {
      "model_module": "@jupyter-widgets/base",
      "model_module_version": "1.0.0",
      "model_name": "LayoutModel",
      "state": {}
     },
     "419f6daa9c154c3e872de6114a952790": {
      "model_module": "@jupyter-widgets/controls",
      "model_module_version": "1.1.0",
      "model_name": "SliderStyleModel",
      "state": {
       "description_width": "initial"
      }
     },
     "4234bd9f4697492da8bdd749849ee821": {
      "model_module": "@jupyter-widgets/controls",
      "model_module_version": "1.1.0",
      "model_name": "DescriptionStyleModel",
      "state": {
       "description_width": "initial"
      }
     },
     "443fff09a77148b8af2c4dfc52d5e777": {
      "model_module": "@jupyter-widgets/controls",
      "model_module_version": "1.1.0",
      "model_name": "CheckboxModel",
      "state": {
       "description": "Show Targets",
       "disabled": false,
       "layout": "IPY_MODEL_83332b59c2d748d998593c5f1289a508",
       "style": "IPY_MODEL_2b97f85c995f4246a1d7b0606d42d3ea",
       "value": false
      }
     },
     "4551eea602ef4445b1db3110789a4f5f": {
      "model_module": "@jupyter-widgets/controls",
      "model_module_version": "1.1.0",
      "model_name": "IntSliderModel",
      "state": {
       "continuous_update": false,
       "description": "Dataset index",
       "layout": "IPY_MODEL_e7ef7cf9b07a42ca80d3880fbedf57cd",
       "max": 3,
       "style": "IPY_MODEL_2f5b8fb77127444b9fd9486c3efd4ec5"
      }
     },
     "455cad51201744a8bac2570cffb05a45": {
      "model_module": "@jupyter-widgets/base",
      "model_module_version": "1.0.0",
      "model_name": "LayoutModel",
      "state": {
       "width": "100%"
      }
     },
     "45822b4143cb4eb5a022afa75da77825": {
      "model_module": "@jupyter-widgets/controls",
      "model_module_version": "1.1.0",
      "model_name": "SliderStyleModel",
      "state": {
       "description_width": "initial"
      }
     },
     "471f5bc5b7194a3c9fe320f6160ca6f8": {
      "model_module": "@jupyter-widgets/controls",
      "model_module_version": "1.1.0",
      "model_name": "IntTextModel",
      "state": {
       "description": "Feature to show:",
       "layout": "IPY_MODEL_e7cbc905ecd347d394947400edba4c60",
       "step": 1,
       "style": "IPY_MODEL_fea1ccf8ae9c4c28a9175edbd9c978ca"
      }
     },
     "47389bd02ab1465e9acb437129220164": {
      "model_module": "@jupyter-widgets/controls",
      "model_module_version": "1.1.0",
      "model_name": "ButtonStyleModel",
      "state": {}
     },
     "47e8bc87b5774fce973227394d2c52db": {
      "model_module": "@jupyter-widgets/base",
      "model_module_version": "1.0.0",
      "model_name": "LayoutModel",
      "state": {
       "width": "100%"
      }
     },
     "4a0be50098134e648212c99aeda83664": {
      "model_module": "@jupyter-widgets/base",
      "model_module_version": "1.0.0",
      "model_name": "LayoutModel",
      "state": {}
     },
     "4a9927d95afc4a7b99ffeb689527c923": {
      "model_module": "@jupyter-widgets/controls",
      "model_module_version": "1.1.0",
      "model_name": "DescriptionStyleModel",
      "state": {
       "description_width": "initial"
      }
     },
     "4bdc6e4bd7b1468fb788d62a586e4ba3": {
      "model_module": "@jupyter-widgets/base",
      "model_module_version": "1.0.0",
      "model_name": "LayoutModel",
      "state": {}
     },
     "4d1f7e44a8314aacbeffb4638420dc9c": {
      "model_module": "@jupyter-widgets/controls",
      "model_module_version": "1.1.0",
      "model_name": "LabelModel",
      "state": {
       "layout": "IPY_MODEL_0a299a080b96484c9d2efbb23d29af44",
       "style": "IPY_MODEL_20d30e5f6565423999c2fa03ee9b1cfa",
       "value": "of 0"
      }
     },
     "4d3b24970aac44a6ab9199eafff1ed1f": {
      "model_module": "@jupyter-widgets/base",
      "model_module_version": "1.0.0",
      "model_name": "LayoutModel",
      "state": {}
     },
     "4ddea3cea86d42f4a2bed9dce6fa67f6": {
      "model_module": "@jupyter-widgets/controls",
      "model_module_version": "1.1.0",
      "model_name": "ButtonStyleModel",
      "state": {}
     },
     "4f7115002fb0475cae7546577a9c9f90": {
      "model_module": "@jupyter-widgets/controls",
      "model_module_version": "1.1.0",
      "model_name": "SelectModel",
      "state": {
       "_options_labels": [
        "Test",
        "Train"
       ],
       "description": "Dataset:",
       "index": 1,
       "layout": "IPY_MODEL_e653b0bb2a3c4088a5d5f688910f216c",
       "rows": 1,
       "style": "IPY_MODEL_e1ec885bbeb04e7b864ea416cee860ce"
      }
     },
     "52930afed97845f5a37ffe0f7d70fd22": {
      "model_module": "@jupyter-widgets/base",
      "model_module_version": "1.0.0",
      "model_name": "LayoutModel",
      "state": {
       "width": "100%"
      }
     },
     "52bcf6d6369b4a4fac5158f0b5d4a45f": {
      "model_module": "@jupyter-widgets/controls",
      "model_module_version": "1.1.0",
      "model_name": "CheckboxModel",
      "state": {
       "description": "Rotate",
       "disabled": false,
       "layout": "IPY_MODEL_83332b59c2d748d998593c5f1289a508",
       "style": "IPY_MODEL_5418dc650e6f4cb5ae24596119edf9fe",
       "value": true
      }
     },
     "52c6c5fe2f904c59a3be1ea4db621f81": {
      "model_module": "@jupyter-widgets/controls",
      "model_module_version": "1.1.0",
      "model_name": "IntSliderModel",
      "state": {
       "continuous_update": false,
       "description": "XOR Network Playback:",
       "layout": "IPY_MODEL_940f418deefe4ff5a3c12f8a53fcb9fa",
       "max": 644,
       "style": "IPY_MODEL_ea8511e816474d58a59a0879517bd136"
      }
     },
     "535001a564ed4daa9ecad4234266e024": {
      "model_module": "@jupyter-widgets/output",
      "model_module_version": "1.0.0",
      "model_name": "OutputModel",
      "state": {
       "layout": "IPY_MODEL_4104f2120c6e4e079b55d5450f50949b"
      }
     },
     "536bb58e2c6b43f2872417e13f3a6326": {
      "model_module": "@jupyter-widgets/base",
      "model_module_version": "1.0.0",
      "model_name": "LayoutModel",
      "state": {}
     },
     "5418dc650e6f4cb5ae24596119edf9fe": {
      "model_module": "@jupyter-widgets/controls",
      "model_module_version": "1.1.0",
      "model_name": "DescriptionStyleModel",
      "state": {
       "description_width": ""
      }
     },
     "54943d09171b481185d83c186cc91a0b": {
      "model_module": "@jupyter-widgets/controls",
      "model_module_version": "1.1.0",
      "model_name": "DescriptionStyleModel",
      "state": {
       "description_width": "initial"
      }
     },
     "55b947e56f204155abaf4fa0a3b190f5": {
      "model_module": "@jupyter-widgets/base",
      "model_module_version": "1.0.0",
      "model_name": "LayoutModel",
      "state": {
       "width": "100%"
      }
     },
     "567c13fa1c1343fdb2c7be20da1101d5": {
      "model_module": "@jupyter-widgets/base",
      "model_module_version": "1.0.0",
      "model_name": "LayoutModel",
      "state": {
       "height": "40px"
      }
     },
     "58324b76986a443fa50b7841cb13ad19": {
      "model_module": "@jupyter-widgets/controls",
      "model_module_version": "1.1.0",
      "model_name": "IntTextModel",
      "state": {
       "description": "Feature columns:",
       "layout": "IPY_MODEL_b079491e87fb41d393a0392de584c6fd",
       "step": 1,
       "style": "IPY_MODEL_54943d09171b481185d83c186cc91a0b",
       "value": 3
      }
     },
     "5a9554a15e4a420785332d404ccedb1a": {
      "model_module": "@jupyter-widgets/controls",
      "model_module_version": "1.1.0",
      "model_name": "ButtonModel",
      "state": {
       "icon": "fast-backward",
       "layout": "IPY_MODEL_52930afed97845f5a37ffe0f7d70fd22",
       "style": "IPY_MODEL_cdc93518fbaa4435a21a4d60880af40c"
      }
     },
     "5b25ac7364044b99a65de9c7a0a60d20": {
      "model_module": "@jupyter-widgets/base",
      "model_module_version": "1.0.0",
      "model_name": "LayoutModel",
      "state": {
       "width": "100px"
      }
     },
     "5b348a128ef04534922515708ffe9add": {
      "model_module": "@jupyter-widgets/controls",
      "model_module_version": "1.1.0",
      "model_name": "VBoxModel",
      "state": {
       "children": [
        "IPY_MODEL_1765e5f41f8f4a18b96e209d7f022b79",
        "IPY_MODEL_535001a564ed4daa9ecad4234266e024"
       ],
       "layout": "IPY_MODEL_727d3d74127e4f6aa185c96a5d7d8fdd"
      }
     },
     "5b35737bf9f34d67ad28f17172f591bf": {
      "model_module": "@jupyter-widgets/base",
      "model_module_version": "1.0.0",
      "model_name": "LayoutModel",
      "state": {}
     },
     "5c056a440fc548f2b6c3c494f5eff4c7": {
      "model_module": "@jupyter-widgets/controls",
      "model_module_version": "1.1.0",
      "model_name": "ButtonStyleModel",
      "state": {}
     },
     "5cc26ac81a694901b749cbb6095f6a1e": {
      "model_module": "@jupyter-widgets/output",
      "model_module_version": "1.0.0",
      "model_name": "OutputModel",
      "state": {
       "layout": "IPY_MODEL_4bdc6e4bd7b1468fb788d62a586e4ba3"
      }
     },
     "5cf885fa53594c5cb80ed88c4de2131e": {
      "model_module": "@jupyter-widgets/controls",
      "model_module_version": "1.1.0",
      "model_name": "HBoxModel",
      "state": {
       "children": [
        "IPY_MODEL_c61c5680fb76434db09ec9992f3fb9a0",
        "IPY_MODEL_4d1f7e44a8314aacbeffb4638420dc9c"
       ],
       "layout": "IPY_MODEL_7fdd9fd2a0bd42bab90cf83e279c1442"
      }
     },
     "5d6ccf91e78e4ee384c8df74bac1e7d0": {
      "model_module": "@jupyter-widgets/controls",
      "model_module_version": "1.1.0",
      "model_name": "ButtonModel",
      "state": {
       "description": "Play",
       "icon": "play",
       "layout": "IPY_MODEL_1f9c4d8148754a0ebe7a2dce6fd8638d",
       "style": "IPY_MODEL_980a5f9ddf054a84accb11748f5cfba8"
      }
     },
     "5dbe373d65bb45809ebd2bfa8c90ef3c": {
      "model_module": "@jupyter-widgets/base",
      "model_module_version": "1.0.0",
      "model_name": "LayoutModel",
      "state": {
       "width": "100%"
      }
     },
     "5dc2998cab3c4123b23a0ceb401e752d": {
      "model_module": "@jupyter-widgets/controls",
      "model_module_version": "1.1.0",
      "model_name": "ButtonStyleModel",
      "state": {}
     },
     "5dc6d9ac9f5847408bc51eb6790e97b9": {
      "model_module": "@jupyter-widgets/controls",
      "model_module_version": "1.1.0",
      "model_name": "FloatTextModel",
      "state": {
       "description": "Leftmost color maps to:",
       "layout": "IPY_MODEL_37270029d2094bf2bfa735283639513c",
       "step": null,
       "style": "IPY_MODEL_b98ed743e1aa41d0a8e49735b40bd113"
      }
     },
     "5e56a79ca29d4b95be2650c64c97a0aa": {
      "model_module": "@jupyter-widgets/base",
      "model_module_version": "1.0.0",
      "model_name": "LayoutModel",
      "state": {
       "width": "25%"
      }
     },
     "5f4416f34c5a42308336d43060a506e4": {
      "model_module": "@jupyter-widgets/base",
      "model_module_version": "1.0.0",
      "model_name": "LayoutModel",
      "state": {
       "height": "50px",
       "width": "100%"
      }
     },
     "5fa97711988f4b15a52c2ac9096bde12": {
      "model_module": "@jupyter-widgets/base",
      "model_module_version": "1.0.0",
      "model_name": "LayoutModel",
      "state": {
       "width": "100%"
      }
     },
     "5fd251e4197149d486c89d361250283e": {
      "model_module": "@jupyter-widgets/controls",
      "model_module_version": "1.1.0",
      "model_name": "DescriptionStyleModel",
      "state": {
       "description_width": "initial"
      }
     },
     "5ff55eef39cb44dba5cafde48f0d905a": {
      "model_module": "@jupyter-widgets/base",
      "model_module_version": "1.0.0",
      "model_name": "LayoutModel",
      "state": {
       "width": "100px"
      }
     },
     "600128f35b634d2c8cbc26fddc727380": {
      "model_module": "@jupyter-widgets/base",
      "model_module_version": "1.0.0",
      "model_name": "LayoutModel",
      "state": {
       "width": "100%"
      }
     },
     "60682a06d5cd4eed8d56f7a8d971ebee": {
      "model_module": "@jupyter-widgets/controls",
      "model_module_version": "1.1.0",
      "model_name": "IntTextModel",
      "state": {
       "layout": "IPY_MODEL_6e25cf0049ab4368b521160baa5e7f02",
       "step": 1,
       "style": "IPY_MODEL_05e4aa4d08354540b6cc718aa8d04464"
      }
     },
     "6155be944a1f4cd9a2f101cd7616f990": {
      "model_module": "@jupyter-widgets/controls",
      "model_module_version": "1.1.0",
      "model_name": "ButtonStyleModel",
      "state": {}
     },
     "64a6dbf3e9ed47fa8bfdb20baa7cb353": {
      "model_module": "@jupyter-widgets/base",
      "model_module_version": "1.0.0",
      "model_name": "LayoutModel",
      "state": {
       "width": "100%"
      }
     },
     "64c9655070924df2a287dfcc01c2c647": {
      "model_module": "@jupyter-widgets/controls",
      "model_module_version": "1.1.0",
      "model_name": "DescriptionStyleModel",
      "state": {
       "description_width": ""
      }
     },
     "651c4a43364f4f45bdf6490ecaf0bd32": {
      "model_module": "@jupyter-widgets/controls",
      "model_module_version": "1.1.0",
      "model_name": "ButtonModel",
      "state": {
       "icon": "backward",
       "layout": "IPY_MODEL_18ea84a63b8b47268e4200510b6498be",
       "style": "IPY_MODEL_5dc2998cab3c4123b23a0ceb401e752d"
      }
     },
     "68bb8985960b4cf88947c4da5b710086": {
      "model_module": "@jupyter-widgets/base",
      "model_module_version": "1.0.0",
      "model_name": "LayoutModel",
      "state": {
       "width": "100%"
      }
     },
     "69173569731f4d8882b66c50f16aaab1": {
      "model_module": "@jupyter-widgets/controls",
      "model_module_version": "1.1.0",
      "model_name": "ButtonStyleModel",
      "state": {}
     },
     "69e07adcb90347d092dfca52b1d30ab7": {
      "model_module": "@jupyter-widgets/controls",
      "model_module_version": "1.1.0",
      "model_name": "DescriptionStyleModel",
      "state": {
       "description_width": ""
      }
     },
     "6a3537ac9fc04b9e842b9f657ca9919a": {
      "model_module": "@jupyter-widgets/controls",
      "model_module_version": "1.1.0",
      "model_name": "ButtonModel",
      "state": {
       "icon": "fast-forward",
       "layout": "IPY_MODEL_736fe9dfb3d64685bb0594da1675c58f",
       "style": "IPY_MODEL_932059d3f1ab44f58987c7ade72ae799"
      }
     },
     "6b18bf47e62c44e4b0913ae58408dcce": {
      "model_module": "@jupyter-widgets/controls",
      "model_module_version": "1.1.0",
      "model_name": "ButtonStyleModel",
      "state": {}
     },
     "6c0278ce7fa141c0bbd362c334252e20": {
      "model_module": "@jupyter-widgets/controls",
      "model_module_version": "1.1.0",
      "model_name": "DescriptionStyleModel",
      "state": {
       "description_width": "initial"
      }
     },
     "6c33f7b956484eb5a104556c201d213c": {
      "model_module": "@jupyter-widgets/controls",
      "model_module_version": "1.1.0",
      "model_name": "IntTextModel",
      "state": {
       "description": "Vertical space between layers:",
       "layout": "IPY_MODEL_83332b59c2d748d998593c5f1289a508",
       "step": 1,
       "style": "IPY_MODEL_0862971ccc8c46189f23c2987c49459c",
       "value": 30
      }
     },
     "6e25cf0049ab4368b521160baa5e7f02": {
      "model_module": "@jupyter-widgets/base",
      "model_module_version": "1.0.0",
      "model_name": "LayoutModel",
      "state": {
       "width": "100%"
      }
     },
     "70a33ead220b4cabbfc8ee5739afbbbe": {
      "model_module": "@jupyter-widgets/controls",
      "model_module_version": "1.1.0",
      "model_name": "ButtonStyleModel",
      "state": {}
     },
     "725e97426c164737b60bf34b95b3b4da": {
      "model_module": "@jupyter-widgets/controls",
      "model_module_version": "1.1.0",
      "model_name": "ButtonModel",
      "state": {
       "icon": "fast-forward",
       "layout": "IPY_MODEL_32f06482ec904efa85d93993ae2dce9e",
       "style": "IPY_MODEL_6155be944a1f4cd9a2f101cd7616f990"
      }
     },
     "727d3d74127e4f6aa185c96a5d7d8fdd": {
      "model_module": "@jupyter-widgets/base",
      "model_module_version": "1.0.0",
      "model_name": "LayoutModel",
      "state": {}
     },
     "736fe9dfb3d64685bb0594da1675c58f": {
      "model_module": "@jupyter-widgets/base",
      "model_module_version": "1.0.0",
      "model_name": "LayoutModel",
      "state": {
       "width": "100%"
      }
     },
     "74123786dc3144faaaffa22ef1f4eadb": {
      "model_module": "@jupyter-widgets/controls",
      "model_module_version": "1.1.0",
      "model_name": "ButtonStyleModel",
      "state": {}
     },
     "74704d9e009c407593b5b12252d9fe98": {
      "model_module": "@jupyter-widgets/controls",
      "model_module_version": "1.1.0",
      "model_name": "SelectModel",
      "state": {
       "_options_labels": [
        "input",
        "hidden",
        "output"
       ],
       "description": "Layer:",
       "index": 2,
       "layout": "IPY_MODEL_30c15d1dc39a457eb38eaa1c4e5416b5",
       "rows": 1,
       "style": "IPY_MODEL_be82602bc03945a0aaf50561071e8b75"
      }
     },
     "75c77daecb4c4984b67549dd607eda7a": {
      "model_module": "@jupyter-widgets/controls",
      "model_module_version": "1.1.0",
      "model_name": "ButtonModel",
      "state": {
       "icon": "forward",
       "layout": "IPY_MODEL_1f2153cd229544459570892d4d1a120b",
       "style": "IPY_MODEL_69173569731f4d8882b66c50f16aaab1"
      }
     },
     "789af087cb564176ae1fd1376e354915": {
      "model_module": "@jupyter-widgets/controls",
      "model_module_version": "1.1.0",
      "model_name": "LabelModel",
      "state": {
       "layout": "IPY_MODEL_5b25ac7364044b99a65de9c7a0a60d20",
       "style": "IPY_MODEL_69e07adcb90347d092dfca52b1d30ab7",
       "value": "of 645"
      }
     },
     "7952f8bb9dac48e9a43ea057c24507da": {
      "model_module": "@jupyter-widgets/controls",
      "model_module_version": "1.1.0",
      "model_name": "ButtonStyleModel",
      "state": {}
     },
     "7b39018ee27f4a6f9ca76269372539c2": {
      "model_module": "@jupyter-widgets/controls",
      "model_module_version": "1.1.0",
      "model_name": "HTMLModel",
      "state": {
       "layout": "IPY_MODEL_a6ff3e59303d4ac68cd84bbdd4864817",
       "style": "IPY_MODEL_64c9655070924df2a287dfcc01c2c647",
       "value": "<img src=\"data:image/gif;base64,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\"/>"
      }
     },
     "7fdd9fd2a0bd42bab90cf83e279c1442": {
      "model_module": "@jupyter-widgets/base",
      "model_module_version": "1.0.0",
      "model_name": "LayoutModel",
      "state": {
       "height": "40px"
      }
     },
     "804a6fdff90b4c238d86d50dac3b2f91": {
      "model_module": "@jupyter-widgets/base",
      "model_module_version": "1.0.0",
      "model_name": "LayoutModel",
      "state": {}
     },
     "818fa8b5ff4f4558ad57a4dd68a5e5ef": {
      "model_module": "@jupyter-widgets/controls",
      "model_module_version": "1.1.0",
      "model_name": "IntTextModel",
      "state": {
       "description": "Feature columns:",
       "layout": "IPY_MODEL_9bc637ac9a374b22a86924c8ccab1539",
       "step": 1,
       "style": "IPY_MODEL_eb4020949ac04581864b473b36ec415b",
       "value": 3
      }
     },
     "82470d1f68b9468aa657e38dfb8294d9": {
      "model_module": "@jupyter-widgets/controls",
      "model_module_version": "1.1.0",
      "model_name": "AccordionModel",
      "state": {
       "_titles": {
        "0": "XOR2 Network"
       },
       "children": [
        "IPY_MODEL_e27dbd57d03b409d98d5b9e32569c467"
       ],
       "layout": "IPY_MODEL_04ac7b33f3f34eca8340cbd964906393",
       "selected_index": null
      }
     },
     "83332b59c2d748d998593c5f1289a508": {
      "model_module": "@jupyter-widgets/base",
      "model_module_version": "1.0.0",
      "model_name": "LayoutModel",
      "state": {}
     },
     "83bddfd3805247e6892748b27caca135": {
      "model_module": "@jupyter-widgets/base",
      "model_module_version": "1.0.0",
      "model_name": "LayoutModel",
      "state": {
       "width": "52%"
      }
     },
     "8480191bcf6d44a4a0536be4687908ab": {
      "model_module": "@jupyter-widgets/base",
      "model_module_version": "1.0.0",
      "model_name": "LayoutModel",
      "state": {
       "width": "100px"
      }
     },
     "87117085bb29472493627359c27f3544": {
      "model_module": "@jupyter-widgets/controls",
      "model_module_version": "1.1.0",
      "model_name": "ButtonModel",
      "state": {
       "icon": "fast-backward",
       "layout": "IPY_MODEL_64a6dbf3e9ed47fa8bfdb20baa7cb353",
       "style": "IPY_MODEL_fa487fe1b6cd4ea5815534bd755d9a97"
      }
     },
     "87a0269844bd472299be4795fa226f18": {
      "model_module": "@jupyter-widgets/controls",
      "model_module_version": "1.1.0",
      "model_name": "ButtonModel",
      "state": {
       "icon": "save",
       "layout": "IPY_MODEL_0b7797bdda6f40a78cda33ba6598aaaa",
       "style": "IPY_MODEL_b57534550bfa45e4b2f5b731a856a4a1"
      }
     },
     "87a6e9b76cb547f2866122d3383fab5d": {
      "model_module": "@jupyter-widgets/controls",
      "model_module_version": "1.1.0",
      "model_name": "CheckboxModel",
      "state": {
       "description": "Visible",
       "disabled": false,
       "layout": "IPY_MODEL_83332b59c2d748d998593c5f1289a508",
       "style": "IPY_MODEL_c7421383c1264ca8a20d4b10ab8ad0c4",
       "value": true
      }
     },
     "88e3e924a5f54d9cbb752e5835eb6e2d": {
      "model_module": "@jupyter-widgets/controls",
      "model_module_version": "1.1.0",
      "model_name": "CheckboxModel",
      "state": {
       "description": "Rotate network",
       "disabled": false,
       "layout": "IPY_MODEL_ae7b96ad13684bee81a0e54f162b3b4c",
       "style": "IPY_MODEL_135afa6caafd43ef816b2ad243066066",
       "value": false
      }
     },
     "8ae1d4b15cfc406993385c1e59a0f160": {
      "model_module": "@jupyter-widgets/base",
      "model_module_version": "1.0.0",
      "model_name": "LayoutModel",
      "state": {}
     },
     "8b506e63d431471c9f03217874b62d41": {
      "model_module": "@jupyter-widgets/controls",
      "model_module_version": "1.1.0",
      "model_name": "DescriptionStyleModel",
      "state": {
       "description_width": ""
      }
     },
     "8dd5de7c71f942129605e21582766646": {
      "model_module": "@jupyter-widgets/controls",
      "model_module_version": "1.1.0",
      "model_name": "ButtonModel",
      "state": {
       "icon": "backward",
       "layout": "IPY_MODEL_d45c7eb380fb4f0a90a355f123b0b462",
       "style": "IPY_MODEL_5c056a440fc548f2b6c3c494f5eff4c7"
      }
     },
     "8e0f20058226483d9c90a077442da35b": {
      "model_module": "@jupyter-widgets/controls",
      "model_module_version": "1.1.0",
      "model_name": "HBoxModel",
      "state": {
       "children": [
        "IPY_MODEL_cfc171f5a7284645876384a13e735e74",
        "IPY_MODEL_2c9d041e732e4154a42f64a502b720b3"
       ],
       "layout": "IPY_MODEL_c76407249ff749e699b4fb10f09219d0"
      }
     },
     "8faebf1b8e4f47c6845552e6854a9c7e": {
      "model_module": "@jupyter-widgets/controls",
      "model_module_version": "1.1.0",
      "model_name": "DescriptionStyleModel",
      "state": {
       "description_width": ""
      }
     },
     "8fff270eb1974c40895a8c93bb61d91b": {
      "model_module": "@jupyter-widgets/controls",
      "model_module_version": "1.1.0",
      "model_name": "HBoxModel",
      "state": {
       "children": [
        "IPY_MODEL_5a9554a15e4a420785332d404ccedb1a",
        "IPY_MODEL_b1b1072e024346898dc5a3e21bc9d5be",
        "IPY_MODEL_deda0f2449e243ef89db408d77d6b9ad",
        "IPY_MODEL_f56ef080fad847fd8add4fe352598e36",
        "IPY_MODEL_725e97426c164737b60bf34b95b3b4da",
        "IPY_MODEL_b151dec80dca4f91bfbe0fdbc3318533",
        "IPY_MODEL_d098e41bb7be408dbfd1e23873bc4687"
       ],
       "layout": "IPY_MODEL_acdfd62732014847928afd1092444053"
      }
     },
     "9063710ade1f4bb78623eae415979d88": {
      "model_module": "@jupyter-widgets/controls",
      "model_module_version": "1.1.0",
      "model_name": "HBoxModel",
      "state": {
       "children": [
        "IPY_MODEL_140dbbfa644e4fd49c4cbaa06dce514b",
        "IPY_MODEL_e37b2b0a0f594f6795b9e8e140342fb1"
       ],
       "layout": "IPY_MODEL_5b35737bf9f34d67ad28f17172f591bf"
      }
     },
     "90860fe7fe224999a2b8d6a944469c4c": {
      "model_module": "@jupyter-widgets/controls",
      "model_module_version": "1.1.0",
      "model_name": "IntSliderModel",
      "state": {
       "continuous_update": false,
       "description": "XOR Network Playback:",
       "layout": "IPY_MODEL_95466d4613554a519c0b287fe34af877",
       "max": 644,
       "style": "IPY_MODEL_419f6daa9c154c3e872de6114a952790"
      }
     },
     "924e22fc5cb2455daa6b31377b92d3e7": {
      "model_module": "@jupyter-widgets/controls",
      "model_module_version": "1.1.0",
      "model_name": "ButtonStyleModel",
      "state": {}
     },
     "932059d3f1ab44f58987c7ade72ae799": {
      "model_module": "@jupyter-widgets/controls",
      "model_module_version": "1.1.0",
      "model_name": "ButtonStyleModel",
      "state": {}
     },
     "940f418deefe4ff5a3c12f8a53fcb9fa": {
      "model_module": "@jupyter-widgets/base",
      "model_module_version": "1.0.0",
      "model_name": "LayoutModel",
      "state": {
       "width": "100%"
      }
     },
     "95466d4613554a519c0b287fe34af877": {
      "model_module": "@jupyter-widgets/base",
      "model_module_version": "1.0.0",
      "model_name": "LayoutModel",
      "state": {
       "width": "100%"
      }
     },
     "95c23cefd6b744ed96be58cc47554b28": {
      "model_module": "@jupyter-widgets/controls",
      "model_module_version": "1.1.0",
      "model_name": "AccordionModel",
      "state": {
       "_titles": {
        "0": "XOR Network"
       },
       "children": [
        "IPY_MODEL_9063710ade1f4bb78623eae415979d88"
       ],
       "layout": "IPY_MODEL_804a6fdff90b4c238d86d50dac3b2f91",
       "selected_index": null
      }
     },
     "96c77ea9822c44489b832f1ba85874a3": {
      "model_module": "@jupyter-widgets/base",
      "model_module_version": "1.0.0",
      "model_name": "LayoutModel",
      "state": {}
     },
     "980a5f9ddf054a84accb11748f5cfba8": {
      "model_module": "@jupyter-widgets/controls",
      "model_module_version": "1.1.0",
      "model_name": "ButtonStyleModel",
      "state": {}
     },
     "98e26ad428d64cc9b907fd9272d983c2": {
      "model_module": "@jupyter-widgets/controls",
      "model_module_version": "1.1.0",
      "model_name": "ButtonModel",
      "state": {
       "description": "Play",
       "icon": "play",
       "layout": "IPY_MODEL_a9a44dbfdf4d4adea0129477834c8e48",
       "style": "IPY_MODEL_2b9560c0db534d9dacbbc184329ca3ea"
      }
     },
     "9b2217d6e955429cb4be68a777f2137c": {
      "model_module": "@jupyter-widgets/controls",
      "model_module_version": "1.1.0",
      "model_name": "VBoxModel",
      "state": {
       "children": [
        "IPY_MODEL_95c23cefd6b744ed96be58cc47554b28",
        "IPY_MODEL_cc634de1393147cea4f2ea4c804247c7",
        "IPY_MODEL_9eae39c3f6f54044b0909a6567308e47",
        "IPY_MODEL_bef62d9e75ca4466bcbd1e3dc862e38a"
       ],
       "layout": "IPY_MODEL_ef99470d73134769852cce925fdddc9b"
      }
     },
     "9bc637ac9a374b22a86924c8ccab1539": {
      "model_module": "@jupyter-widgets/base",
      "model_module_version": "1.0.0",
      "model_name": "LayoutModel",
      "state": {}
     },
     "9c37fc752b5b4f348c6c66fb3a9035d1": {
      "model_module": "@jupyter-widgets/controls",
      "model_module_version": "1.1.0",
      "model_name": "DescriptionStyleModel",
      "state": {
       "description_width": ""
      }
     },
     "9d8cf564c9844958813aa234a0661f7a": {
      "model_module": "@jupyter-widgets/base",
      "model_module_version": "1.0.0",
      "model_name": "LayoutModel",
      "state": {
       "width": "100%"
      }
     },
     "9eae39c3f6f54044b0909a6567308e47": {
      "model_module": "@jupyter-widgets/controls",
      "model_module_version": "1.1.0",
      "model_name": "HTMLModel",
      "state": {
       "layout": "IPY_MODEL_b020a798144d4536aee1bd3c4212c7ea",
       "style": "IPY_MODEL_19de238b01e143a3992eccf0b5b0d808",
       "value": "<p style=\"text-align:center\"><svg id='XOR Network' xmlns='http://www.w3.org/2000/svg' image-rendering=\"pixelated\" width=\"400.0px\" height=\"346.66666666666663px\">\n <g >\n  <svg viewBox=\"0 0 300 260\" width=\"400.0px\" height=\"346.66666666666663px\">\n    <defs>\n        <marker id=\"arrow\" markerWidth=\"10\" markerHeight=\"10\" refX=\"9\" refY=\"3\" orient=\"auto\" markerUnits=\"strokeWidth\">\n          <path d=\"M0,0 L0,6 L9,3 z\" fill=\"black\" />\n        </marker>\n    </defs><rect x=\"124.0\" y=\"24\" width=\"52\" height=\"52\" style=\"fill:none;stroke:black;stroke-width:2\"/><image id=\"picture-dashboard-XOR Network-74079_output_1\" class=\"picture-dashboard-XOR Network-74079_output\" x=\"125.0\" y=\"25\" height=\"50\" width=\"50\" preserveAspectRatio=\"none\" href=\"data:image/gif;base64,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\"><title>Layer: output (output)\n output range: (0, 1)\n shape = (1,)\n Keras class = Dense\n activation = sigmoid</title></image><text x=\"180.0\" y=\"52.0\" font-family=\"monospace\" font-size=\"12\" text-anchor=\"start\" fill=\"black\" alignment-baseline=\"central\" >output</text><line x1=\"150.0\" y1=\"104\" x2=\"150.0\" y2=\"77\" stroke=\"black\" stroke-width=\"2\" marker-end=\"url(#arrow)\"><title>Weights from hidden to output\n output/kernel has shape (3, 1)\n output/bias has shape (1,)</title></line><rect x=\"74.0\" y=\"104\" width=\"152\" height=\"52\" style=\"fill:none;stroke:black;stroke-width:2\"/><image id=\"picture-dashboard-XOR Network-74079_hidden_2\" class=\"picture-dashboard-XOR Network-74079_hidden\" x=\"75.0\" y=\"105\" height=\"50\" width=\"150\" preserveAspectRatio=\"none\" href=\"data:image/gif;base64,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\"><title>Layer: hidden (hidden)\n output range: (0, 1)\n shape = (3,)\n Keras class = Dense\n activation = sigmoid</title></image><text x=\"230.0\" y=\"132.0\" font-family=\"monospace\" font-size=\"12\" text-anchor=\"start\" fill=\"black\" alignment-baseline=\"central\" >hidden</text><line x1=\"150.0\" y1=\"184\" x2=\"150.0\" y2=\"157\" stroke=\"black\" stroke-width=\"2\" marker-end=\"url(#arrow)\"><title>Weights from input to hidden\n hidden/kernel has shape (2, 3)\n hidden/bias has shape (3,)</title></line><rect x=\"99.0\" y=\"184\" width=\"102\" height=\"52\" style=\"fill:none;stroke:black;stroke-width:2\"/><image id=\"picture-dashboard-XOR Network-74079_input_3\" class=\"picture-dashboard-XOR Network-74079_input\" x=\"100.0\" y=\"185\" height=\"50\" width=\"100\" preserveAspectRatio=\"none\" href=\"data:image/gif;base64,R0lGODdhfAA+AIcAAAAAAAAAAAAAAAAAAAAAAAAAAAAAAAAAAAAAAAAAAAAAAAAAAAAAAAAAAAAAAAAAAAAAAAAAAAAAAAAAAAAAAAAAAAAAAAAAAAAAAAAAAAAAAAAAAAAAAAAAAAAAAAAAAAAAAAAAAAAAAAAAAAAAAAAAAAAAAAAAAAAAAAAAAAAAAAAAAAAAAAAAAAAAAAAAAAAAAAAAAAAAAAAAAAAAAAAAAAAAAAAAAAAAAAAAAAAAAAAAAAAAAAAAAAAAAAAAAAAAAAAAAAAAAAAAAAAAAAAAAAAAAAAAAAAAAAAAAAAAAAAAAAAAAAAAAAAAAAAAAAAAAAAAAAAAAAAAAAAAAAAAAAAAAAAAAAAAAAAAAAAAAAAAAAAAAAAAAAAAAAAAAAAAAAAAAAAAAAAAAAAAAAAAAAAAAAAAAAAAAAAAAAAAAAAAAAAAAAAAAAAAAAAAAAAAAAAAAAAAAAAAAAAAAAAAAAAAAAAAAAAAAAAAAAAAAAAAAAAAAAAAAAAAAAAAAAAAAAAAAAAAAAAAAAAAAAAAAAAAAAAAAAAAAAAAAAAAAAAAAAAAAAAAAAAAAAAAAAAAAAAAAAAAAAAAAAAAAAAAAAAAAAAAAAAAAAAAAAAAAAAAAAAAAAAAAAAAAAAAAAAAAAAAAAAAAAAAAAAAAAAAAAAAAAAAAAAAAAAAAAAAAAAAAAAAAAAAAAAAAAAAAAAAAAAAAAAAAAAAAAAAAAAAAAAAAAAAAAAAAAAAAAAAAAAAAAAAAAAAAAAAAAAAAAAAAAAAAAAAAAAAAAAAAAAAAAAAAAAAAAAAAAAAAAAAAAAAAAAAAAAAAAAAAAAAAAAAAAAAAAAAAAAAAAAAAAAAAAAAAAAAAAAAAAAAAAAAAAAAAAAAAAAAAAAAAAAAAAAAAAAAAAAAAAAAAAAAAAAAAAAAAAAAAAAAAAAAAAAAAAAAAAAAAAAAAAAAAAAAAAAAAAAAAAAAAAAAAAAAAAAAAAAAAAAAAAAAAAAAAAAAAAAAAAAAAAAAAAAAAAAAACwAAAAAfAA+AEAIjgABCBxIsKDBgwgTKlzIsKHDhxAjSpxIsaLFixgzatzIsaPHjyBDihxJsqTJkyhTqlzJsqXLlzBjypxJs6bNmzhz6tzJs6fPn0CDCh1KtKjRo0iTKl3KtKnTp1CjSp1KtarVq1izat3KtavXr2DDih1LtqzZs2jTql3Ltq3bt3Djyp1Lt67du3jz6t3rMyAAOw==\"><title>Layer: input (input)\n output range: (0.0, 1.0)\n shape = (2,)\n Keras class = Input</title></image><text x=\"205.0\" y=\"212.0\" font-family=\"monospace\" font-size=\"12\" text-anchor=\"start\" fill=\"black\" alignment-baseline=\"central\" >input</text><text x=\"150.0\" y=\"12.5\" font-family=\"monospace\" font-size=\"15\" text-anchor=\"middle\" fill=\"black\" alignment-baseline=\"central\" >XOR Network</text></svg></g></svg></p>"
      }
     },
     "a057b056d2f243c498ad06dc19de55b2": {
      "model_module": "@jupyter-widgets/controls",
      "model_module_version": "1.1.0",
      "model_name": "DescriptionStyleModel",
      "state": {
       "description_width": "initial"
      }
     },
     "a1398866dcdb479987175076538821ce": {
      "model_module": "@jupyter-widgets/controls",
      "model_module_version": "1.1.0",
      "model_name": "ButtonStyleModel",
      "state": {}
     },
     "a17db45d12634b239f4483dc76d5a845": {
      "model_module": "@jupyter-widgets/controls",
      "model_module_version": "1.1.0",
      "model_name": "SelectModel",
      "state": {
       "_options_labels": [
        ""
       ],
       "description": "Features:",
       "index": 0,
       "layout": "IPY_MODEL_2f24177cf9f94603a424b5a41e3157ad",
       "rows": 1,
       "style": "IPY_MODEL_cce3a821e79548f6bc5dcf033adc52f5"
      }
     },
     "a6ff3e59303d4ac68cd84bbdd4864817": {
      "model_module": "@jupyter-widgets/base",
      "model_module_version": "1.0.0",
      "model_name": "LayoutModel",
      "state": {}
     },
     "a8de96e5d8bd4f0cbfa7a00ea1d05fec": {
      "model_module": "@jupyter-widgets/controls",
      "model_module_version": "1.1.0",
      "model_name": "DescriptionStyleModel",
      "state": {
       "description_width": ""
      }
     },
     "a9583be9368b446f8c9681fc36043337": {
      "model_module": "@jupyter-widgets/controls",
      "model_module_version": "1.1.0",
      "model_name": "DescriptionStyleModel",
      "state": {
       "description_width": ""
      }
     },
     "a9a44dbfdf4d4adea0129477834c8e48": {
      "model_module": "@jupyter-widgets/base",
      "model_module_version": "1.0.0",
      "model_name": "LayoutModel",
      "state": {
       "width": "100%"
      }
     },
     "ac1d38878eeb4b66a1786c8078dca9cb": {
      "model_module": "@jupyter-widgets/controls",
      "model_module_version": "1.1.0",
      "model_name": "DescriptionStyleModel",
      "state": {
       "description_width": "initial"
      }
     },
     "ac25701bbe204c55a9902f1f0c93270a": {
      "model_module": "@jupyter-widgets/controls",
      "model_module_version": "1.1.0",
      "model_name": "ButtonModel",
      "state": {
       "icon": "save",
       "layout": "IPY_MODEL_b6427ddebfa34d64b39426ac91b8721e",
       "style": "IPY_MODEL_341b9f631a6b423abeb0004d3e90c3aa"
      }
     },
     "acdfd62732014847928afd1092444053": {
      "model_module": "@jupyter-widgets/base",
      "model_module_version": "1.0.0",
      "model_name": "LayoutModel",
      "state": {
       "height": "50px",
       "width": "100%"
      }
     },
     "ada87ac9fe53417d87876bb7eeaf4207": {
      "model_module": "@jupyter-widgets/controls",
      "model_module_version": "1.1.0",
      "model_name": "HBoxModel",
      "state": {
       "children": [
        "IPY_MODEL_87117085bb29472493627359c27f3544",
        "IPY_MODEL_651c4a43364f4f45bdf6490ecaf0bd32",
        "IPY_MODEL_e86ebd0a088d46e286b56d66eca8abd3",
        "IPY_MODEL_26fc6d811dbc4e279c4eb471e0b4e23b",
        "IPY_MODEL_f363da3bbc874da7981dec3f324641cd",
        "IPY_MODEL_98e26ad428d64cc9b907fd9272d983c2"
       ],
       "layout": "IPY_MODEL_1361db4b4c634af3be6f1857df2e03a5"
      }
     },
     "ae6c0250a7a84577b48056cdbad9654b": {
      "model_module": "@jupyter-widgets/controls",
      "model_module_version": "1.1.0",
      "model_name": "IntTextModel",
      "state": {
       "description": "Horizontal space between banks:",
       "layout": "IPY_MODEL_f45d940b8e784a0487021e2cde7bfd68",
       "step": 1,
       "style": "IPY_MODEL_b5bcff00f36f47a38d327892f1b4aa25",
       "value": 200
      }
     },
     "ae7b96ad13684bee81a0e54f162b3b4c": {
      "model_module": "@jupyter-widgets/base",
      "model_module_version": "1.0.0",
      "model_name": "LayoutModel",
      "state": {
       "width": "52%"
      }
     },
     "af6a1cc4f6c74454829f142eaba04981": {
      "model_module": "@jupyter-widgets/controls",
      "model_module_version": "1.1.0",
      "model_name": "ButtonModel",
      "state": {
       "icon": "refresh",
       "layout": "IPY_MODEL_1380b0eb8d7f41a28767909ae3e816ba",
       "style": "IPY_MODEL_fc02b6deaeee478586b89de026f28038"
      }
     },
     "b020a798144d4536aee1bd3c4212c7ea": {
      "model_module": "@jupyter-widgets/base",
      "model_module_version": "1.0.0",
      "model_name": "LayoutModel",
      "state": {
       "justify_content": "center",
       "overflow_x": "auto",
       "overflow_y": "auto",
       "width": "95%"
      }
     },
     "b079491e87fb41d393a0392de584c6fd": {
      "model_module": "@jupyter-widgets/base",
      "model_module_version": "1.0.0",
      "model_name": "LayoutModel",
      "state": {}
     },
     "b151dec80dca4f91bfbe0fdbc3318533": {
      "model_module": "@jupyter-widgets/controls",
      "model_module_version": "1.1.0",
      "model_name": "ButtonModel",
      "state": {
       "description": "Play",
       "icon": "play",
       "layout": "IPY_MODEL_5dbe373d65bb45809ebd2bfa8c90ef3c",
       "style": "IPY_MODEL_47389bd02ab1465e9acb437129220164"
      }
     },
     "b1699fbcf5484390b56d781bb0dd651e": {
      "model_module": "@jupyter-widgets/controls",
      "model_module_version": "1.1.0",
      "model_name": "ButtonStyleModel",
      "state": {}
     },
     "b17ddf671162426682d70bcac33b540d": {
      "model_module": "@jupyter-widgets/base",
      "model_module_version": "1.0.0",
      "model_name": "LayoutModel",
      "state": {
       "height": "50px",
       "width": "100%"
      }
     },
     "b1b1072e024346898dc5a3e21bc9d5be": {
      "model_module": "@jupyter-widgets/controls",
      "model_module_version": "1.1.0",
      "model_name": "ButtonModel",
      "state": {
       "icon": "backward",
       "layout": "IPY_MODEL_2f9fd0edabf34711a47f9cf9f8f86005",
       "style": "IPY_MODEL_74123786dc3144faaaffa22ef1f4eadb"
      }
     },
     "b297a00282b74ac0b6e1e62233666824": {
      "model_module": "@jupyter-widgets/base",
      "model_module_version": "1.0.0",
      "model_name": "LayoutModel",
      "state": {
       "width": "65%"
      }
     },
     "b307124f836d448c9c1a3df475246f53": {
      "model_module": "@jupyter-widgets/controls",
      "model_module_version": "1.1.0",
      "model_name": "SelectModel",
      "state": {
       "_options_labels": [
        "Test",
        "Train"
       ],
       "description": "Dataset:",
       "index": 1,
       "layout": "IPY_MODEL_bf05d913741a4da896097ef13be753a1",
       "rows": 1,
       "style": "IPY_MODEL_1b493153a3094363b78df8ccbdb76192"
      }
     },
     "b33fd8bf37544b7dad545118d275bab0": {
      "model_module": "@jupyter-widgets/controls",
      "model_module_version": "1.1.0",
      "model_name": "SelectModel",
      "state": {
       "_options_labels": [
        "",
        "Accent",
        "Accent_r",
        "Blues",
        "Blues_r",
        "BrBG",
        "BrBG_r",
        "BuGn",
        "BuGn_r",
        "BuPu",
        "BuPu_r",
        "CMRmap",
        "CMRmap_r",
        "Dark2",
        "Dark2_r",
        "GnBu",
        "GnBu_r",
        "Greens",
        "Greens_r",
        "Greys",
        "Greys_r",
        "OrRd",
        "OrRd_r",
        "Oranges",
        "Oranges_r",
        "PRGn",
        "PRGn_r",
        "Paired",
        "Paired_r",
        "Pastel1",
        "Pastel1_r",
        "Pastel2",
        "Pastel2_r",
        "PiYG",
        "PiYG_r",
        "PuBu",
        "PuBuGn",
        "PuBuGn_r",
        "PuBu_r",
        "PuOr",
        "PuOr_r",
        "PuRd",
        "PuRd_r",
        "Purples",
        "Purples_r",
        "RdBu",
        "RdBu_r",
        "RdGy",
        "RdGy_r",
        "RdPu",
        "RdPu_r",
        "RdYlBu",
        "RdYlBu_r",
        "RdYlGn",
        "RdYlGn_r",
        "Reds",
        "Reds_r",
        "Set1",
        "Set1_r",
        "Set2",
        "Set2_r",
        "Set3",
        "Set3_r",
        "Spectral",
        "Spectral_r",
        "Vega10",
        "Vega10_r",
        "Vega20",
        "Vega20_r",
        "Vega20b",
        "Vega20b_r",
        "Vega20c",
        "Vega20c_r",
        "Wistia",
        "Wistia_r",
        "YlGn",
        "YlGnBu",
        "YlGnBu_r",
        "YlGn_r",
        "YlOrBr",
        "YlOrBr_r",
        "YlOrRd",
        "YlOrRd_r",
        "afmhot",
        "afmhot_r",
        "autumn",
        "autumn_r",
        "binary",
        "binary_r",
        "bone",
        "bone_r",
        "brg",
        "brg_r",
        "bwr",
        "bwr_r",
        "cool",
        "cool_r",
        "coolwarm",
        "coolwarm_r",
        "copper",
        "copper_r",
        "cubehelix",
        "cubehelix_r",
        "flag",
        "flag_r",
        "gist_earth",
        "gist_earth_r",
        "gist_gray",
        "gist_gray_r",
        "gist_heat",
        "gist_heat_r",
        "gist_ncar",
        "gist_ncar_r",
        "gist_rainbow",
        "gist_rainbow_r",
        "gist_stern",
        "gist_stern_r",
        "gist_yarg",
        "gist_yarg_r",
        "gnuplot",
        "gnuplot2",
        "gnuplot2_r",
        "gnuplot_r",
        "gray",
        "gray_r",
        "hot",
        "hot_r",
        "hsv",
        "hsv_r",
        "inferno",
        "inferno_r",
        "jet",
        "jet_r",
        "magma",
        "magma_r",
        "nipy_spectral",
        "nipy_spectral_r",
        "ocean",
        "ocean_r",
        "pink",
        "pink_r",
        "plasma",
        "plasma_r",
        "prism",
        "prism_r",
        "rainbow",
        "rainbow_r",
        "seismic",
        "seismic_r",
        "spectral",
        "spectral_r",
        "spring",
        "spring_r",
        "summer",
        "summer_r",
        "tab10",
        "tab10_r",
        "tab20",
        "tab20_r",
        "tab20b",
        "tab20b_r",
        "tab20c",
        "tab20c_r",
        "terrain",
        "terrain_r",
        "viridis",
        "viridis_r",
        "winter",
        "winter_r"
       ],
       "description": "Colormap:",
       "index": 0,
       "layout": "IPY_MODEL_f45d940b8e784a0487021e2cde7bfd68",
       "rows": 1,
       "style": "IPY_MODEL_e81fa139a2e04fda85957fa0d60bdd2a"
      }
     },
     "b553648536f14c94b83314806c4efd7a": {
      "model_module": "@jupyter-widgets/base",
      "model_module_version": "1.0.0",
      "model_name": "LayoutModel",
      "state": {}
     },
     "b57534550bfa45e4b2f5b731a856a4a1": {
      "model_module": "@jupyter-widgets/controls",
      "model_module_version": "1.1.0",
      "model_name": "ButtonStyleModel",
      "state": {}
     },
     "b5bcff00f36f47a38d327892f1b4aa25": {
      "model_module": "@jupyter-widgets/controls",
      "model_module_version": "1.1.0",
      "model_name": "DescriptionStyleModel",
      "state": {
       "description_width": "initial"
      }
     },
     "b6427ddebfa34d64b39426ac91b8721e": {
      "model_module": "@jupyter-widgets/base",
      "model_module_version": "1.0.0",
      "model_name": "LayoutModel",
      "state": {
       "width": "10%"
      }
     },
     "b6dcbb34934440cdaf0d7dd1d9ccca27": {
      "model_module": "@jupyter-widgets/controls",
      "model_module_version": "1.1.0",
      "model_name": "ButtonStyleModel",
      "state": {}
     },
     "b78a7e22b6d14f9298cd6a29ea22f667": {
      "model_module": "@jupyter-widgets/controls",
      "model_module_version": "1.1.0",
      "model_name": "VBoxModel",
      "state": {
       "children": [
        "IPY_MODEL_2d19ae9658c14e00a5a404563a665c2b",
        "IPY_MODEL_c4810fc8fc074e62af4bbfedb76d7335",
        "IPY_MODEL_b33fd8bf37544b7dad545118d275bab0",
        "IPY_MODEL_7b39018ee27f4a6f9ca76269372539c2",
        "IPY_MODEL_ed7d8dffff184f2480fcb3e3bae059b2",
        "IPY_MODEL_23cc7a90db7944539243cd91a977f93a",
        "IPY_MODEL_471f5bc5b7194a3c9fe320f6160ca6f8",
        "IPY_MODEL_ba90b76cfcd84f728f66ed49dc7b9954"
       ],
       "layout": "IPY_MODEL_600128f35b634d2c8cbc26fddc727380"
      }
     },
     "b958a6cf0e3f4bd29091be9439693795": {
      "model_module": "@jupyter-widgets/controls",
      "model_module_version": "1.1.0",
      "model_name": "IntTextModel",
      "state": {
       "description": "Feature to show:",
       "layout": "IPY_MODEL_e134b39f6e4a40489e0bd59211a35cf7",
       "step": 1,
       "style": "IPY_MODEL_161af00567c74db0aafe92482ff85291"
      }
     },
     "b98ed743e1aa41d0a8e49735b40bd113": {
      "model_module": "@jupyter-widgets/controls",
      "model_module_version": "1.1.0",
      "model_name": "DescriptionStyleModel",
      "state": {
       "description_width": "initial"
      }
     },
     "ba90b76cfcd84f728f66ed49dc7b9954": {
      "model_module": "@jupyter-widgets/controls",
      "model_module_version": "1.1.0",
      "model_name": "HBoxModel",
      "state": {
       "children": [
        "IPY_MODEL_bd9ddd3f0a3449fb9270d3fe1126bfe3",
        "IPY_MODEL_ac25701bbe204c55a9902f1f0c93270a"
       ],
       "layout": "IPY_MODEL_4a0be50098134e648212c99aeda83664"
      }
     },
     "baafbb89800e4c8684cf6298ab0a9cbe": {
      "model_module": "@jupyter-widgets/controls",
      "model_module_version": "1.1.0",
      "model_name": "DescriptionStyleModel",
      "state": {
       "description_width": ""
      }
     },
     "bc585b3497ad4b2db62be8f407d83b2d": {
      "model_module": "@jupyter-widgets/controls",
      "model_module_version": "1.1.0",
      "model_name": "ButtonModel",
      "state": {
       "icon": "forward",
       "layout": "IPY_MODEL_5fa97711988f4b15a52c2ac9096bde12",
       "style": "IPY_MODEL_7952f8bb9dac48e9a43ea057c24507da"
      }
     },
     "bd081ff54d904f88859e6f62857d5be5": {
      "model_module": "@jupyter-widgets/controls",
      "model_module_version": "1.1.0",
      "model_name": "HBoxModel",
      "state": {
       "children": [
        "IPY_MODEL_4551eea602ef4445b1db3110789a4f5f",
        "IPY_MODEL_0b4a313cdee546a5a7c68dcead7a5251"
       ],
       "layout": "IPY_MODEL_11cc242834224ca8b08be16cd6bf3eda"
      }
     },
     "bd9ddd3f0a3449fb9270d3fe1126bfe3": {
      "model_module": "@jupyter-widgets/controls",
      "model_module_version": "1.1.0",
      "model_name": "CheckboxModel",
      "state": {
       "description": "Rotate network",
       "disabled": false,
       "layout": "IPY_MODEL_83bddfd3805247e6892748b27caca135",
       "style": "IPY_MODEL_a057b056d2f243c498ad06dc19de55b2",
       "value": false
      }
     },
     "be82602bc03945a0aaf50561071e8b75": {
      "model_module": "@jupyter-widgets/controls",
      "model_module_version": "1.1.0",
      "model_name": "DescriptionStyleModel",
      "state": {
       "description_width": ""
      }
     },
     "bef62d9e75ca4466bcbd1e3dc862e38a": {
      "model_module": "@jupyter-widgets/output",
      "model_module_version": "1.0.0",
      "model_name": "OutputModel",
      "state": {
       "layout": "IPY_MODEL_f27820625b1142f184e509d262abbdf6"
      }
     },
     "bf05d913741a4da896097ef13be753a1": {
      "model_module": "@jupyter-widgets/base",
      "model_module_version": "1.0.0",
      "model_name": "LayoutModel",
      "state": {}
     },
     "bffc1b9c4c2d46f48def15d93a5f36b1": {
      "model_module": "@jupyter-widgets/base",
      "model_module_version": "1.0.0",
      "model_name": "LayoutModel",
      "state": {
       "width": "100%"
      }
     },
     "c287f9f63d1a4629b39aeba3ac987dd0": {
      "model_module": "@jupyter-widgets/base",
      "model_module_version": "1.0.0",
      "model_name": "LayoutModel",
      "state": {
       "width": "100%"
      }
     },
     "c4810fc8fc074e62af4bbfedb76d7335": {
      "model_module": "@jupyter-widgets/controls",
      "model_module_version": "1.1.0",
      "model_name": "CheckboxModel",
      "state": {
       "description": "Visible",
       "disabled": false,
       "layout": "IPY_MODEL_f45d940b8e784a0487021e2cde7bfd68",
       "style": "IPY_MODEL_a9583be9368b446f8c9681fc36043337",
       "value": true
      }
     },
     "c61c5680fb76434db09ec9992f3fb9a0": {
      "model_module": "@jupyter-widgets/controls",
      "model_module_version": "1.1.0",
      "model_name": "IntSliderModel",
      "state": {
       "continuous_update": false,
       "description": "Dataset index",
       "layout": "IPY_MODEL_37c1763487e142a2aa8bf7ae5975ad6a",
       "max": 0,
       "style": "IPY_MODEL_f65caee835704ddcace47290b3256e16"
      }
     },
     "c64c35edab2c40b0bc97493eb2535fe5": {
      "model_module": "@jupyter-widgets/controls",
      "model_module_version": "1.1.0",
      "model_name": "HBoxModel",
      "state": {
       "children": [
        "IPY_MODEL_443fff09a77148b8af2c4dfc52d5e777",
        "IPY_MODEL_33ad41433e894d549a722cedad9a2a25"
       ],
       "layout": "IPY_MODEL_4d3b24970aac44a6ab9199eafff1ed1f"
      }
     },
     "c7421383c1264ca8a20d4b10ab8ad0c4": {
      "model_module": "@jupyter-widgets/controls",
      "model_module_version": "1.1.0",
      "model_name": "DescriptionStyleModel",
      "state": {
       "description_width": ""
      }
     },
     "c76407249ff749e699b4fb10f09219d0": {
      "model_module": "@jupyter-widgets/base",
      "model_module_version": "1.0.0",
      "model_name": "LayoutModel",
      "state": {}
     },
     "c783b744ff804f978c5a5457498d741b": {
      "model_module": "@jupyter-widgets/controls",
      "model_module_version": "1.1.0",
      "model_name": "DescriptionStyleModel",
      "state": {
       "description_width": ""
      }
     },
     "cb175a2ea955453dad21642ffe7436bb": {
      "model_module": "@jupyter-widgets/controls",
      "model_module_version": "1.1.0",
      "model_name": "FloatSliderModel",
      "state": {
       "continuous_update": false,
       "description": "Zoom",
       "layout": "IPY_MODEL_040cc15bcfaf4694b29e43516a8cb739",
       "max": 1,
       "step": 0.1,
       "style": "IPY_MODEL_45822b4143cb4eb5a022afa75da77825",
       "value": 0.5
      }
     },
     "cb8a22d6319e446d848fe6690d86f9dd": {
      "model_module": "@jupyter-widgets/controls",
      "model_module_version": "1.1.0",
      "model_name": "VBoxModel",
      "state": {
       "children": [
        "IPY_MODEL_d078eefce2df452dbfed8eb185ba5550",
        "IPY_MODEL_195c227ab4f94658aef52918caa4c749"
       ],
       "layout": "IPY_MODEL_b553648536f14c94b83314806c4efd7a"
      }
     },
     "cc1d7574e5ed4fd2a84d92ee3cc4df0b": {
      "model_module": "@jupyter-widgets/controls",
      "model_module_version": "1.1.0",
      "model_name": "HBoxModel",
      "state": {
       "children": [
        "IPY_MODEL_88e3e924a5f54d9cbb752e5835eb6e2d",
        "IPY_MODEL_87a0269844bd472299be4795fa226f18"
       ],
       "layout": "IPY_MODEL_8ae1d4b15cfc406993385c1e59a0f160"
      }
     },
     "cc634de1393147cea4f2ea4c804247c7": {
      "model_module": "@jupyter-widgets/controls",
      "model_module_version": "1.1.0",
      "model_name": "VBoxModel",
      "state": {
       "children": [
        "IPY_MODEL_bd081ff54d904f88859e6f62857d5be5",
        "IPY_MODEL_8fff270eb1974c40895a8c93bb61d91b"
       ],
       "layout": "IPY_MODEL_d91178dc097b41a8b9980fc5a507b2d0"
      }
     },
     "cce3a821e79548f6bc5dcf033adc52f5": {
      "model_module": "@jupyter-widgets/controls",
      "model_module_version": "1.1.0",
      "model_name": "DescriptionStyleModel",
      "state": {
       "description_width": ""
      }
     },
     "cdc93518fbaa4435a21a4d60880af40c": {
      "model_module": "@jupyter-widgets/controls",
      "model_module_version": "1.1.0",
      "model_name": "ButtonStyleModel",
      "state": {}
     },
     "cfc171f5a7284645876384a13e735e74": {
      "model_module": "@jupyter-widgets/controls",
      "model_module_version": "1.1.0",
      "model_name": "CheckboxModel",
      "state": {
       "description": "Show Targets",
       "disabled": false,
       "layout": "IPY_MODEL_f45d940b8e784a0487021e2cde7bfd68",
       "style": "IPY_MODEL_ea142f04eba44fea8773b5bb9fe58d1d",
       "value": false
      }
     },
     "d078eefce2df452dbfed8eb185ba5550": {
      "model_module": "@jupyter-widgets/controls",
      "model_module_version": "1.1.0",
      "model_name": "VBoxModel",
      "state": {
       "children": [
        "IPY_MODEL_f4f9ae25bda54bc2a9f2a3f9c9be8ed0",
        "IPY_MODEL_ada87ac9fe53417d87876bb7eeaf4207"
       ],
       "layout": "IPY_MODEL_304097b1eb324e8cb0ac1ba7762b028b"
      }
     },
     "d098e41bb7be408dbfd1e23873bc4687": {
      "model_module": "@jupyter-widgets/controls",
      "model_module_version": "1.1.0",
      "model_name": "ButtonModel",
      "state": {
       "icon": "refresh",
       "layout": "IPY_MODEL_5e56a79ca29d4b95be2650c64c97a0aa",
       "style": "IPY_MODEL_70a33ead220b4cabbfc8ee5739afbbbe"
      }
     },
     "d1179adc6a6a430796c851227f063a8b": {
      "model_module": "@jupyter-widgets/base",
      "model_module_version": "1.0.0",
      "model_name": "LayoutModel",
      "state": {}
     },
     "d1293a58589a4ad6a2070a259f60d442": {
      "model_module": "@jupyter-widgets/controls",
      "model_module_version": "1.1.0",
      "model_name": "DescriptionStyleModel",
      "state": {
       "description_width": ""
      }
     },
     "d1a304ebc06f4a748eb88a92c279160a": {
      "model_module": "@jupyter-widgets/controls",
      "model_module_version": "1.1.0",
      "model_name": "DescriptionStyleModel",
      "state": {
       "description_width": ""
      }
     },
     "d1d75961af34425ab53d1feea6aed890": {
      "model_module": "@jupyter-widgets/controls",
      "model_module_version": "1.1.0",
      "model_name": "HBoxModel",
      "state": {
       "children": [
        "IPY_MODEL_d792553aa9d5458784fb770ab338b0c0",
        "IPY_MODEL_da0a7b53c5cc4459a202deef80ea830b",
        "IPY_MODEL_2be9519110d841798f0efb1a84e39044",
        "IPY_MODEL_75c77daecb4c4984b67549dd607eda7a",
        "IPY_MODEL_6a3537ac9fc04b9e842b9f657ca9919a",
        "IPY_MODEL_5d6ccf91e78e4ee384c8df74bac1e7d0",
        "IPY_MODEL_af6a1cc4f6c74454829f142eaba04981"
       ],
       "layout": "IPY_MODEL_b17ddf671162426682d70bcac33b540d"
      }
     },
     "d2ebd102767945e095714fb2c8e10afd": {
      "model_module": "@jupyter-widgets/base",
      "model_module_version": "1.0.0",
      "model_name": "LayoutModel",
      "state": {
       "width": "100%"
      }
     },
     "d45c7eb380fb4f0a90a355f123b0b462": {
      "model_module": "@jupyter-widgets/base",
      "model_module_version": "1.0.0",
      "model_name": "LayoutModel",
      "state": {
       "width": "100%"
      }
     },
     "d5af1cdbeb5049c3a2907188f09275fb": {
      "model_module": "@jupyter-widgets/controls",
      "model_module_version": "1.1.0",
      "model_name": "CheckboxModel",
      "state": {
       "description": "Rotate",
       "disabled": false,
       "layout": "IPY_MODEL_f45d940b8e784a0487021e2cde7bfd68",
       "style": "IPY_MODEL_3184e34681bf4327a29bd20a521ba04d",
       "value": true
      }
     },
     "d700faac094a4d038ba2620905749c73": {
      "model_module": "@jupyter-widgets/controls",
      "model_module_version": "1.1.0",
      "model_name": "HTMLModel",
      "state": {
       "layout": "IPY_MODEL_0477f3f09e894bce9bacc4e3557c113d",
       "style": "IPY_MODEL_baafbb89800e4c8684cf6298ab0a9cbe",
       "value": "<p style=\"text-align:center\"><svg id='XOR2 Network' xmlns='http://www.w3.org/2000/svg' image-rendering=\"pixelated\" width=\"400.0px\" height=\"170.0px\">\n <g >\n  <svg viewBox=\"0 0 800 340\" width=\"400.0px\" height=\"170.0px\">\n    <defs>\n        <marker id=\"arrow\" markerWidth=\"10\" markerHeight=\"10\" refX=\"9\" refY=\"3\" orient=\"auto\" markerUnits=\"strokeWidth\">\n          <path d=\"M0,0 L0,6 L9,3 z\" fill=\"black\" />\n        </marker>\n    </defs><rect x=\"240.66666666666669\" y=\"24\" width=\"52\" height=\"52\" style=\"fill:none;stroke:black;stroke-width:2\"/><image id=\"picture-dashboard-XOR2 Network-304042_output1_8\" class=\"picture-dashboard-XOR2 Network-304042_output1\" x=\"241.66666666666669\" y=\"25\" height=\"50\" width=\"50\" preserveAspectRatio=\"none\" href=\"data:image/gif;base64,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\"><title>Layer: output1 (output)\n output range: (0, 1)\n shape = (1,)\n Keras class = Dense\n activation = sigmoid</title></image><text x=\"296.6666666666667\" y=\"52.0\" font-family=\"monospace\" font-size=\"12\" text-anchor=\"start\" fill=\"black\" alignment-baseline=\"central\" >output1</text><rect x=\"507.33333333333337\" y=\"24\" width=\"52\" height=\"52\" style=\"fill:none;stroke:black;stroke-width:2\"/><image id=\"picture-dashboard-XOR2 Network-304042_output2_9\" class=\"picture-dashboard-XOR2 Network-304042_output2\" x=\"508.33333333333337\" y=\"25\" height=\"50\" width=\"50\" preserveAspectRatio=\"none\" href=\"data:image/gif;base64,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\"><title>Layer: output2 (output)\n output range: (0, 1)\n shape = (1,)\n Keras class = Dense\n activation = sigmoid</title></image><text x=\"563.3333333333334\" y=\"52.0\" font-family=\"monospace\" font-size=\"12\" text-anchor=\"start\" fill=\"black\" alignment-baseline=\"central\" >output2</text><line x1=\"400.0\" y1=\"104\" x2=\"266.6666666666667\" y2=\"77\" stroke=\"black\" stroke-width=\"2\" marker-end=\"url(#arrow)\"><title>Weights from shared-hidden to output1\n output1/kernel has shape (5, 1)\n output1/bias has shape (1,)</title></line><line x1=\"400.0\" y1=\"104\" x2=\"533.3333333333334\" y2=\"77\" stroke=\"black\" stroke-width=\"2\" marker-end=\"url(#arrow)\"><title>Weights from shared-hidden to output2\n output2/kernel has shape (5, 1)\n output2/bias has shape (1,)</title></line><rect x=\"299.0\" y=\"104\" width=\"202\" height=\"52\" style=\"fill:none;stroke:black;stroke-width:2\"/><image id=\"picture-dashboard-XOR2 Network-304042_shared-hidden_10\" class=\"picture-dashboard-XOR2 Network-304042_shared-hidden\" x=\"300.0\" y=\"105\" height=\"50\" width=\"200\" preserveAspectRatio=\"none\" href=\"data:image/gif;base64,R0lGODdh+gAyAIcAAAAA/UFB//8VFbm5/wAAAAAAAAAAAAAAAAAAAAAAAAAAAAAAAAAAAAAAAAAAAAAAAAAAAAAAAAAAAAAAAAAAAAAAAAAAAAAAAAAAAAAAAAAAAAAAAAAAAAAAAAAAAAAAAAAAAAAAAAAAAAAAAAAAAAAAAAAAAAAAAAAAAAAAAAAAAAAAAAAAAAAAAAAAAAAAAAAAAAAAAAAAAAAAAAAAAAAAAAAAAAAAAAAAAAAAAAAAAAAAAAAAAAAAAAAAAAAAAAAAAAAAAAAAAAAAAAAAAAAAAAAAAAAAAAAAAAAAAAAAAAAAAAAAAAAAAAAAAAAAAAAAAAAAAAAAAAAAAAAAAAAAAAAAAAAAAAAAAAAAAAAAAAAAAAAAAAAAAAAAAAAAAAAAAAAAAAAAAAAAAAAAAAAAAAAAAAAAAAAAAAAAAAAAAAAAAAAAAAAAAAAAAAAAAAAAAAAAAAAAAAAAAAAAAAAAAAAAAAAAAAAAAAAAAAAAAAAAAAAAAAAAAAAAAAAAAAAAAAAAAAAAAAAAAAAAAAAAAAAAAAAAAAAAAAAAAAAAAAAAAAAAAAAAAAAAAAAAAAAAAAAAAAAAAAAAAAAAAAAAAAAAAAAAAAAAAAAAAAAAAAAAAAAAAAAAAAAAAAAAAAAAAAAAAAAAAAAAAAAAAAAAAAAAAAAAAAAAAAAAAAAAAAAAAAAAAAAAAAAAAAAAAAAAAAAAAAAAAAAAAAAAAAAAAAAAAAAAAAAAAAAAAAAAAAAAAAAAAAAAAAAAAAAAAAAAAAAAAAAAAAAAAAAAAAAAAAAAAAAAAAAAAAAAAAAAAAAAAAAAAAAAAAAAAAAAAAAAAAAAAAAAAAAAAAAAAAAAAAAAAAAAAAAAAAAAAAAAAAAAAAAAAAAAAAAAAAAAAAAAAAAAAAAAAAAAAAAAAAAAAAAAAAAAAAAAAAAAAAAAAAAAAAAAAAAAAAAAAAAAAAAAAAAAAAAAAAAAAAAAAAAAAAAAAAAAAAAAAAAAAAAAAAAAAAAAAAAAAAAAAAAAACwAAAAA+gAyAEAI/wAJCBxIsKDBgwgTKlzIsKHDhxAjSpxIsSJFARgzatzIsaPHjxkJEAhAsqTJkyhTqlxZkgABADBjypxJs6bNmzEJEADAs6fPn0CDCh3akwCBAUiTKl3KtKnTp0kJEBBAtarVq1izat1alQCBAGDDih1LtqzZs2EJEADAtq3bt3Djyp3blgABAHjz6t3Lt6/fv3kJEBhAuLDhw4gTK15cmAABAZAjS55MubLly5EJEAjAubPnz6BDix7dmQABAKhTq17NurXr16kJEABAu7bt27hz695dmwCBAcCDCx9OvLjx48EJEBDAvLnz59CjS5/enACBANiza9/Ovbv379kJEP8AQL68+fPo06tfX54AAQDw48ufT7++/fvxCRAYwL+/f4ADBA4kWNDgQYQCCRAQ0NDhQ4gRJU6k6JAAgQAZNW7k2NHjR5AaCRAAUNLkSZQpVa5kaZIAAQAxZc6kWdPmTZwyCRAY0NPnT6BBhQ4l6pMAAQFJlS5l2tTpU6hKCRAIUNXqVaxZtW7lapUAAQBhxY4lW9bsWbRiCRAA0NbtW7hx5c6l65YAgQF59e7l29fvX8B6CRAQUNjwYcSJFS9mbJgAgQCRJU+mXNnyZcySCRAA0NnzZ9ChRY8m7ZkAAQCpVa9m3dr1a9iqCRAYUNv2bdy5de/mbZsAAQHBhQ8nXtz/+HHkwgkQCNDc+XPo0aVPp+6cAAEA2bVv597d+3fw2gkQAFDe/Hn06dWvZ2+eAIEB8eXPp1/f/n388gkQENDfP0ABAgcSLGjwIEKDBAgEaOjwIcSIEidSdEiAAICMGjdy7OjxI0iNBAgAKGnyJMqUKleyNEmAwICYMmfSrGnzJk6ZBAgI6OnzJ9CgQocS9UmAQICkSpcyber0KVSlBAgAqGr1KtasWrdytUqAAICwYseSLWv2LFqxBAgMaOv2Ldy4cufSdUuAgIC8evfy7ev3L2C9BAgEKGz4MOLEihczNkyAAIDIkidTrmz5MmbJBAgA6Oz5M+jQokeT9kyAwIDU/6pXs27t+jVs1QQICKht+zbu3Lp387ZNgECA4MKHEy9u/Dhy4QQIAGju/Dn06NKnU3dOgACA7Nq3c+/u/Tt47QQIDChv/jz69OrXszdPgICA+PLn069v/z5++QQIBOjvH2AAgQMJFjR4EKFBAgQANHT4EGJEiRMpOiRAAEBGjRs5dvT4EaRGAgQGlDR5EmVKlStZmiRAQEBMmTNp1rR5E6dMAgQC9PT5E2hQoUOJ+iRAAEBSpUuZNnX6FKpSAgQAVLV6FWtWrVu5WiVAYEBYsWPJljV7Fq1YAgQEtHX7Fm5cuXPpuiVAIEBevXv59vX7F7BeAgQAFDZ8GHFixYsZG/8mQABAZMmTKVe2fBmzZAIEBnT2/Bl0aNGjSXsmQEBAatWrWbd2/Rq2agIEAtS2fRt3bt27edsmQABAcOHDiRc3fhy5cAIEADR3/hx6dOnTqTsnQGBAdu3buXf3/h28dgIEBJQ3fx59evXr2ZsnQCBAfPnz6de3fx+/fAIEAPT3DxCAwIEECxo8iNAgAQIAGjp8CDGixIkUHRIgMCCjxo0cO3r8CFIjAQICSpo8iTKlypUsTRIgECCmzJk0a9q8iVMmAQIAevr8CTSo0KFEfRIgACCp0qVMmzp9ClUpAQIDqlq9ijWr1q1crRIgICCs2LFky5o9i1YsAQIB2rp9Czf/rty5dN0SIAAgr969fPv6/QtYLwECAAobPow4seLFjA0TIDAgsuTJlCtbvoxZMgECAjp7/gw6tOjRpD0TIBAgterVrFu7fg1bNQECAGrbvo07t+7dvG0TIAAguPDhxIsbP45cOAECA5o7fw49uvTp1J0TICAgu/bt3Lt7/w5eOwECAcqbP48+vfr17M0TIAAgvvz59Ovbv49fPgECAPr7BwhA4ECCBQ0eRGiQAIEBDR0+hBhR4kSKDgkQEJBR40aOHT1+BKmRAIEAJU2eRJlS5UqWJgkQABBT5kyaNW3exCmTAAEAPX3+BBpU6FCiPgkQGJBU6VKmTZ0+haqUAAEB/1WtXsWaVetWrlYJEAgQVuxYsmXNnkUrlgABAG3dvoUbV+5cum4JEACQV+9evn39/gWslwCBAYUNH0acWPFixoYJEBAQWfJkypUtX8YsmQCBAJ09fwYdWvRo0p4JEACQWvVq1q1dv4atmgABALVt38adW/du3rYJEBgQXPhw4sWNH0cunAABAc2dP4ceXfp06s4JEAiQXft27t29fwevnQABAOXNn0efXv169uYJEAAQX/58+vXt38cvnwCBAf39AxwgcCDBggYPIjRIgICAhg4fQowocSJFhwQIBMiocSPHjh4/gtRIgACAkiZPokypciVLkwQIAIgpcybNmjZv4v+USYDAgJ4+fwINKnQoUZ8ECAhIqnQp06ZOn0JVSoBAgKpWr2LNqnUrV6sECAAIK3Ys2bJmz6IVS4AAgLZu38KNK3cuXbcECAzIq3cv375+/wLWS4CAgMKGDyNOrHgxY8MECASILHky5cqWL2OWTIAAgM6eP4MOLXo0ac8ECABIrXo169auX8NWTYDAgNq2b+POrXs3b9sECAgILnw48eLGjyMXToBAgObOn0OPLn06decECADIrn079+7ev4PXToAAgPLmz6NPr349e/MECAyIL38+/fr27+OXT4CAgP7+AQoQOJBgQYMHERokQCBAQ4cPIUaUOJGiQwIEAGTUuJH/Y0ePH0FqJEAAQEmTJ1GmVLmSpUkCBAbElDmTZk2bN3HKJEBAQE+fP4EGFTqUqE8CBAIkVbqUaVOnT6EqJUAAQFWrV7Fm1bqVq1UCBACEFTuWbFmzZ9GKJUBgQFu3b+HGlTuXrlsCBATk1buXb1+/fwHrJUAgQGHDhxEnVryYsWECBABEljyZcmXLlzFLJkAAQGfPn0GHFj2atGcCBAakVr2adWvXr2GrJkBAQG3bt3Hn1r2bt20CBAIEFz6ceHHjx5ELJ0AAQHPnz6FHlz6dunMCBABk176de3fv38FrJ0BgQHnz59GnV7+evXkCBATElz+ffn379/HLJ0AgQH///wADCBxIsKDBgwgNEiAAoKHDhxAjSpxI0SEBAgAyatzIsaPHjyA1EiAwoKTJkyhTqlzJ0iQBAgJiypxJs6bNmzhlEiAQoKfPn0CDCh1K1CcBAgCSKl3KtKnTp1CVEiAAoKrVq1izat3K1SoBAgPCih1LtqzZs2jFEiAgoK3bt3Djyp1L1y0BAgHy6t3Lt6/fv4D1EiAAoLDhw4gTK17M2DABAgAiS55MubLly5glEyAwoLPnz6BDix5N2jMBAgJSq17NurXr17BVEyAQoLbt27hz697N2zYBAgCCCx9OvLjx48iFEyAAoLnz59CjS59O3TkBAgOya9/Ovbv37+C1E/8gIKC8+fPo06tfz948AQIB4sufT7++/fv45RMgAKC/f4AABA4kWNDgQYQGCRAA0NDhQ4gRJU6k6JAAgQEZNW7k2NHjR5AaCRAQUNLkSZQpVa5kaZIAgQAxZc6kWdPmTZwyCRAA0NPnT6BBhQ4l6pMAAQBJlS5l2tTpU6hKCRAYUNXqVaxZtW7lapUAAQFhxY4lW9bsWbRiCRAI0NbtW7hx5c6l65YAAQB59e7l29fvX8B6CRAAUNjwYcSJFS9mbJgAgQGRJU+mXNnyZcySCRAQ0NnzZ9ChRY8m7ZkAgQCpVa9m3dr1a9iqCRAAUNv2bdy5de/mbZsAAQDBhQ8nXtz/+HHkwgkQGNDc+XPo0aVPp+6cAAEB2bVv597d+3fw2gkQCFDe/Hn06dWvZ2+eAAEA8eXPp1/f/n388gkQANDfP0AAAgcSLGjwIEKDBAgMaOjwIcSIEidSdEiAgICMGjdy7OjxI0iNBAgEKGnyJMqUKleyNEmAAICYMmfSrGnzJk6ZBAgA6OnzJ9CgQocS9UmAwICkSpcyber0KVSlBAgIqGr1KtasWrdytUqAQICwYseSLWv2LFqxBAgAaOv2Ldy4cufSdUuAAIC8evfy7ev3L2C9BAgMKGz4MOLEihczNkyAgIDIkidTrmz5MmbJBAgE6Oz5M+jQokeT9kyAAIDU/6pXs27t+jVs1QQIAKht+zbu3Lp387ZNgMCA4MKHEy9u/Dhy4QQICGju/Dn06NKnU3dOgECA7Nq3c+/u/Tt47QQIAChv/jz69OrXszdPgACA+PLn069v/z5++QQIDOjvH+AAgQMJFjR4EKFBAgQENHT4EGJEiRMpOiRAIEBGjRs5dvT4EaRGAgQAlDR5EmVKlStZmiRAAEBMmTNp1rR5E6dMAgQG9PT5E2hQoUOJ+iRAQEBSpUuZNnX6FKpSAgQCVLV6FWtWrVu5WiVAAEBYsWPJljV7Fq1YAgQAtHX7Fm5cuXPpuiVAYEBevXv59vX7F7BeAoMJFzZ8GHFixYsZNw12/BhyZMmTKVe2XDkgADs=\"><title>Layer: shared-hidden (hidden)\n output range: (0, 1)\n shape = (5,)\n Keras class = Dense\n activation = sigmoid</title></image><text x=\"505.0\" y=\"132.0\" font-family=\"monospace\" font-size=\"12\" text-anchor=\"start\" fill=\"black\" alignment-baseline=\"central\" >shared-hidden</text><line x1=\"266.6666666666667\" y1=\"184\" x2=\"400.0\" y2=\"157\" stroke=\"black\" stroke-width=\"2\" marker-end=\"url(#arrow)\"><title>Weights from hidden1 to shared-hidden\n shared-hidden/kernel has shape (20, 5)\n shared-hidden/bias has shape (5,)</title></line><rect x=\"165.66666666666669\" y=\"184\" width=\"202\" height=\"52\" style=\"fill:none;stroke:black;stroke-width:2\"/><image id=\"picture-dashboard-XOR2 Network-304042_hidden1_11\" class=\"picture-dashboard-XOR2 Network-304042_hidden1\" x=\"166.66666666666669\" y=\"185\" height=\"50\" width=\"200\" preserveAspectRatio=\"none\" href=\"data:image/gif;base64,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\"><title>Layer: hidden1 (hidden)\n output range: (0, 1)\n shape = (10,)\n Keras class = Dense\n activation = sigmoid</title></image><text x=\"371.6666666666667\" y=\"212.0\" font-family=\"monospace\" font-size=\"12\" text-anchor=\"start\" fill=\"black\" alignment-baseline=\"central\" >hidden1</text><line x1=\"533.3333333333334\" y1=\"184\" x2=\"400.0\" y2=\"157\" stroke=\"black\" stroke-width=\"2\" marker-end=\"url(#arrow)\"><title>Weights from hidden2 to shared-hidden\n shared-hidden/kernel has shape (20, 5)\n shared-hidden/bias has shape (5,)</title></line><rect x=\"432.33333333333337\" y=\"184\" width=\"202\" height=\"52\" style=\"fill:none;stroke:black;stroke-width:2\"/><image id=\"picture-dashboard-XOR2 Network-304042_hidden2_12\" class=\"picture-dashboard-XOR2 Network-304042_hidden2\" x=\"433.33333333333337\" y=\"185\" height=\"50\" width=\"200\" preserveAspectRatio=\"none\" href=\"data:image/gif;base64,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\"><title>Layer: hidden2 (hidden)\n output range: (0, 1)\n shape = (10,)\n Keras class = Dense\n activation = sigmoid</title></image><text x=\"638.3333333333334\" y=\"212.0\" font-family=\"monospace\" font-size=\"12\" text-anchor=\"start\" fill=\"black\" alignment-baseline=\"central\" >hidden2</text><line x1=\"266.6666666666667\" y1=\"264\" x2=\"266.6666666666667\" y2=\"237\" stroke=\"black\" stroke-width=\"2\" marker-end=\"url(#arrow)\"><title>Weights from input1 to hidden1\n hidden1/kernel has shape (1, 10)\n hidden1/bias has shape (10,)</title></line><rect x=\"240.66666666666669\" y=\"264\" width=\"52\" height=\"52\" style=\"fill:none;stroke:black;stroke-width:2\"/><image id=\"picture-dashboard-XOR2 Network-304042_input1_13\" class=\"picture-dashboard-XOR2 Network-304042_input1\" x=\"241.66666666666669\" y=\"265\" height=\"50\" width=\"50\" preserveAspectRatio=\"none\" href=\"data:image/gif;base64,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\"><title>Layer: input1 (input)\n output range: (-Infinity, +Infinity)\n shape = (1,)\n Keras class = Input</title></image><text x=\"296.6666666666667\" y=\"292.0\" font-family=\"monospace\" font-size=\"12\" text-anchor=\"start\" fill=\"black\" alignment-baseline=\"central\" >input1</text><line x1=\"533.3333333333334\" y1=\"264\" x2=\"533.3333333333334\" y2=\"237\" stroke=\"black\" stroke-width=\"2\" marker-end=\"url(#arrow)\"><title>Weights from input2 to hidden2\n hidden2/kernel has shape (1, 10)\n hidden2/bias has shape (10,)</title></line><rect x=\"507.33333333333337\" y=\"264\" width=\"52\" height=\"52\" style=\"fill:none;stroke:black;stroke-width:2\"/><image id=\"picture-dashboard-XOR2 Network-304042_input2_14\" class=\"picture-dashboard-XOR2 Network-304042_input2\" x=\"508.33333333333337\" y=\"265\" height=\"50\" width=\"50\" preserveAspectRatio=\"none\" href=\"data:image/gif;base64,R0lGODdhPgA+AIcAAH9/fwAAAAAAAAAAAAAAAAAAAAAAAAAAAAAAAAAAAAAAAAAAAAAAAAAAAAAAAAAAAAAAAAAAAAAAAAAAAAAAAAAAAAAAAAAAAAAAAAAAAAAAAAAAAAAAAAAAAAAAAAAAAAAAAAAAAAAAAAAAAAAAAAAAAAAAAAAAAAAAAAAAAAAAAAAAAAAAAAAAAAAAAAAAAAAAAAAAAAAAAAAAAAAAAAAAAAAAAAAAAAAAAAAAAAAAAAAAAAAAAAAAAAAAAAAAAAAAAAAAAAAAAAAAAAAAAAAAAAAAAAAAAAAAAAAAAAAAAAAAAAAAAAAAAAAAAAAAAAAAAAAAAAAAAAAAAAAAAAAAAAAAAAAAAAAAAAAAAAAAAAAAAAAAAAAAAAAAAAAAAAAAAAAAAAAAAAAAAAAAAAAAAAAAAAAAAAAAAAAAAAAAAAAAAAAAAAAAAAAAAAAAAAAAAAAAAAAAAAAAAAAAAAAAAAAAAAAAAAAAAAAAAAAAAAAAAAAAAAAAAAAAAAAAAAAAAAAAAAAAAAAAAAAAAAAAAAAAAAAAAAAAAAAAAAAAAAAAAAAAAAAAAAAAAAAAAAAAAAAAAAAAAAAAAAAAAAAAAAAAAAAAAAAAAAAAAAAAAAAAAAAAAAAAAAAAAAAAAAAAAAAAAAAAAAAAAAAAAAAAAAAAAAAAAAAAAAAAAAAAAAAAAAAAAAAAAAAAAAAAAAAAAAAAAAAAAAAAAAAAAAAAAAAAAAAAAAAAAAAAAAAAAAAAAAAAAAAAAAAAAAAAAAAAAAAAAAAAAAAAAAAAAAAAAAAAAAAAAAAAAAAAAAAAAAAAAAAAAAAAAAAAAAAAAAAAAAAAAAAAAAAAAAAAAAAAAAAAAAAAAAAAAAAAAAAAAAAAAAAAAAAAAAAAAAAAAAAAAAAAAAAAAAAAAAAAAAAAAAAAAAAAAAAAAAAAAAAAAAAAAAAAAAAAAAAAAAAAAAAAAAAAAAAAAAAAAAAAAAAAAAAAAAAAAAAAAAAAAAAAAAAAAAAAAAAAAAAAAAAAACwAAAAAPgA+AEAI/wADCBxIsKDBgwgTKkQIoKHDhxAjSpxIsSLEAAEAaNzIsaPHjyBDiuwYIACAkyhTqlzJsqXLlyoDBABAs6bNmzhz6tzJ82aAAACCCh1KtKjRo0iTEg0QAIDTp1CjSp1KtarVqAECANjKtavXr2DDih3rNUAAAGjTql3Ltq3bt3DXBggAoK7du3jz6t3Lty/eAAEACB5MuLDhw4gTKy4cIACAx5AjS55MubLly5IDBADAubPnz6BDix5N+nOAAABSq17NurXr17Bjsw4QAIDt27hz697Nu7fv3AECABhOvLjx48iTK19uPEAAANCjS59Ovbr169inBwgAoLv37+DDi/8fT748+AABAKhfz769+/fw48tvHyAAgPv48+vfz7+/f4AABA4kWDBAAAAJFS5k2NDhQ4gRGQYIAMDiRYwZNW7k2NFjxgABAIwkWdLkSZQpVa40GSAAAJgxZc6kWdPmTZwzAwQA0NPnT6BBhQ4lWhRogAAAlC5l2tTpU6hRpTYNEADAVaxZtW7l2tXrV60BAgAgW9bsWbRp1a5lezZAAABx5c6lW9fuXbx56QYIAMDvX8CBBQ8mXNhw4AABACxm3NjxY8iRJU92HCAAAMyZNW/m3NnzZ9CbAwQAUNr0adSpVa9m3Rp1gAAAZM+mXdv2bdy5ddcOEADAb+DBhQ8nXtz/+HHhAQIAYN7c+XPo0aVPp/48QAAA2bVv597d+3fw4bkHCADA/Hn06dWvZ9/effoAAQDMp1/f/n38+fXvtx8gAEAAAgcSLGjwIMKECgsGCADgIcSIEidSrGjxosQAAQBw7OjxI8iQIkeS/BggAICUKleybOnyJcyYLAMEAGDzJs6cOnfy7OkzZ4AAAIYSLWr0KNKkSpcaDRAAANSoUqdSrWr1KtapAQIA6Or1K9iwYseSLQs2QAAAateybev2Ldy4ctsGCADgLt68evfy7ev3r94AAQAQLmz4MOLEihczPhwgAIDIkidTrmz5MubMlAMEAOD5M+jQokeTLm06dIAAlQBWs27t+jXs2LJnuw4QAADu3Lp38+7t+zfw3QECAChu/Djy5MqXM2+OPEAAANKnU69u/Tr27NqrBwgA4Dv48OLHky9v/rz4AAEAsG/v/j38+PLn038fIACA/Pr38+/vHyAAgQMJFjR4kGCAAAAYNnT4EGJEiRMpPgwQAEBGjRs5dvT4EWRIjgFIljR5EmVKlStZqgwIADs=\"><title>Layer: input2 (input)\n output range: (-Infinity, +Infinity)\n shape = (1,)\n Keras class = Input</title></image><text x=\"563.3333333333334\" y=\"292.0\" font-family=\"monospace\" font-size=\"12\" text-anchor=\"start\" fill=\"black\" alignment-baseline=\"central\" >input2</text><text x=\"400.0\" y=\"12.5\" font-family=\"monospace\" font-size=\"15\" text-anchor=\"middle\" fill=\"black\" alignment-baseline=\"central\" >XOR2 Network</text></svg></g></svg></p>"
      }
     },
     "d792553aa9d5458784fb770ab338b0c0": {
      "model_module": "@jupyter-widgets/controls",
      "model_module_version": "1.1.0",
      "model_name": "ButtonModel",
      "state": {
       "icon": "fast-backward",
       "layout": "IPY_MODEL_bffc1b9c4c2d46f48def15d93a5f36b1",
       "style": "IPY_MODEL_b1699fbcf5484390b56d781bb0dd651e"
      }
     },
     "d91178dc097b41a8b9980fc5a507b2d0": {
      "model_module": "@jupyter-widgets/base",
      "model_module_version": "1.0.0",
      "model_name": "LayoutModel",
      "state": {
       "width": "100%"
      }
     },
     "da0a7b53c5cc4459a202deef80ea830b": {
      "model_module": "@jupyter-widgets/controls",
      "model_module_version": "1.1.0",
      "model_name": "ButtonModel",
      "state": {
       "icon": "backward",
       "layout": "IPY_MODEL_47e8bc87b5774fce973227394d2c52db",
       "style": "IPY_MODEL_b6dcbb34934440cdaf0d7dd1d9ccca27"
      }
     },
     "da77497d4a164ff8a26945bb78a39d69": {
      "model_module": "@jupyter-widgets/controls",
      "model_module_version": "1.1.0",
      "model_name": "FloatTextModel",
      "state": {
       "description": "Feature scale:",
       "layout": "IPY_MODEL_536bb58e2c6b43f2872417e13f3a6326",
       "step": null,
       "style": "IPY_MODEL_13421036718c4fa0abda5c09171ab3ca",
       "value": 1
      }
     },
     "deda0f2449e243ef89db408d77d6b9ad": {
      "model_module": "@jupyter-widgets/controls",
      "model_module_version": "1.1.0",
      "model_name": "IntTextModel",
      "state": {
       "layout": "IPY_MODEL_fa2498e43289408992cac2931b3d7181",
       "step": 1,
       "style": "IPY_MODEL_d1293a58589a4ad6a2070a259f60d442"
      }
     },
     "e134b39f6e4a40489e0bd59211a35cf7": {
      "model_module": "@jupyter-widgets/base",
      "model_module_version": "1.0.0",
      "model_name": "LayoutModel",
      "state": {}
     },
     "e164da9e0d4f4c4fa17ec60d28a28c9c": {
      "model_module": "@jupyter-widgets/controls",
      "model_module_version": "1.1.0",
      "model_name": "VBoxModel",
      "state": {
       "children": [
        "IPY_MODEL_4f7115002fb0475cae7546577a9c9f90",
        "IPY_MODEL_ec57f74ed1df4085a7f904c0d5cec0fa",
        "IPY_MODEL_ae6c0250a7a84577b48056cdbad9654b",
        "IPY_MODEL_2d1f91a98dc148c199bcf19788140205",
        "IPY_MODEL_8e0f20058226483d9c90a077442da35b",
        "IPY_MODEL_3e378d6398a54e55b473561d3f9c7892",
        "IPY_MODEL_818fa8b5ff4f4558ad57a4dd68a5e5ef",
        "IPY_MODEL_da77497d4a164ff8a26945bb78a39d69"
       ],
       "layout": "IPY_MODEL_0eba8281a198465489d575ccec2c8e43"
      }
     },
     "e1ec885bbeb04e7b864ea416cee860ce": {
      "model_module": "@jupyter-widgets/controls",
      "model_module_version": "1.1.0",
      "model_name": "DescriptionStyleModel",
      "state": {
       "description_width": ""
      }
     },
     "e272229707f940a193273452edbfc300": {
      "model_module": "@jupyter-widgets/base",
      "model_module_version": "1.0.0",
      "model_name": "LayoutModel",
      "state": {
       "width": "100%"
      }
     },
     "e27dbd57d03b409d98d5b9e32569c467": {
      "model_module": "@jupyter-widgets/controls",
      "model_module_version": "1.1.0",
      "model_name": "HBoxModel",
      "state": {
       "children": [
        "IPY_MODEL_e164da9e0d4f4c4fa17ec60d28a28c9c",
        "IPY_MODEL_b78a7e22b6d14f9298cd6a29ea22f667"
       ],
       "layout": "IPY_MODEL_1cbe21af2d5447989e676f2c9295fcfc"
      }
     },
     "e37b2b0a0f594f6795b9e8e140342fb1": {
      "model_module": "@jupyter-widgets/controls",
      "model_module_version": "1.1.0",
      "model_name": "VBoxModel",
      "state": {
       "children": [
        "IPY_MODEL_74704d9e009c407593b5b12252d9fe98",
        "IPY_MODEL_87a6e9b76cb547f2866122d3383fab5d",
        "IPY_MODEL_e820301443454245980044b65d5b3735",
        "IPY_MODEL_3490d1972152467ab6a291e10b338590",
        "IPY_MODEL_5dc6d9ac9f5847408bc51eb6790e97b9",
        "IPY_MODEL_efb59a47de3244009cac1f5f814b7041",
        "IPY_MODEL_b958a6cf0e3f4bd29091be9439693795",
        "IPY_MODEL_cc1d7574e5ed4fd2a84d92ee3cc4df0b"
       ],
       "layout": "IPY_MODEL_02f38f764368458283e0cdddad5720ff"
      }
     },
     "e5ed68e41280437c8682e051d7c50427": {
      "model_module": "@jupyter-widgets/controls",
      "model_module_version": "1.1.0",
      "model_name": "HBoxModel",
      "state": {
       "children": [
        "IPY_MODEL_90860fe7fe224999a2b8d6a944469c4c",
        "IPY_MODEL_280c2e268a92434593b32fe7f4c22c7b"
       ],
       "layout": "IPY_MODEL_567c13fa1c1343fdb2c7be20da1101d5"
      }
     },
     "e653b0bb2a3c4088a5d5f688910f216c": {
      "model_module": "@jupyter-widgets/base",
      "model_module_version": "1.0.0",
      "model_name": "LayoutModel",
      "state": {}
     },
     "e7cbc905ecd347d394947400edba4c60": {
      "model_module": "@jupyter-widgets/base",
      "model_module_version": "1.0.0",
      "model_name": "LayoutModel",
      "state": {}
     },
     "e7ef7cf9b07a42ca80d3880fbedf57cd": {
      "model_module": "@jupyter-widgets/base",
      "model_module_version": "1.0.0",
      "model_name": "LayoutModel",
      "state": {
       "width": "100%"
      }
     },
     "e81fa139a2e04fda85957fa0d60bdd2a": {
      "model_module": "@jupyter-widgets/controls",
      "model_module_version": "1.1.0",
      "model_name": "DescriptionStyleModel",
      "state": {
       "description_width": ""
      }
     },
     "e820301443454245980044b65d5b3735": {
      "model_module": "@jupyter-widgets/controls",
      "model_module_version": "1.1.0",
      "model_name": "SelectModel",
      "state": {
       "_options_labels": [
        "",
        "Accent",
        "Accent_r",
        "Blues",
        "Blues_r",
        "BrBG",
        "BrBG_r",
        "BuGn",
        "BuGn_r",
        "BuPu",
        "BuPu_r",
        "CMRmap",
        "CMRmap_r",
        "Dark2",
        "Dark2_r",
        "GnBu",
        "GnBu_r",
        "Greens",
        "Greens_r",
        "Greys",
        "Greys_r",
        "OrRd",
        "OrRd_r",
        "Oranges",
        "Oranges_r",
        "PRGn",
        "PRGn_r",
        "Paired",
        "Paired_r",
        "Pastel1",
        "Pastel1_r",
        "Pastel2",
        "Pastel2_r",
        "PiYG",
        "PiYG_r",
        "PuBu",
        "PuBuGn",
        "PuBuGn_r",
        "PuBu_r",
        "PuOr",
        "PuOr_r",
        "PuRd",
        "PuRd_r",
        "Purples",
        "Purples_r",
        "RdBu",
        "RdBu_r",
        "RdGy",
        "RdGy_r",
        "RdPu",
        "RdPu_r",
        "RdYlBu",
        "RdYlBu_r",
        "RdYlGn",
        "RdYlGn_r",
        "Reds",
        "Reds_r",
        "Set1",
        "Set1_r",
        "Set2",
        "Set2_r",
        "Set3",
        "Set3_r",
        "Spectral",
        "Spectral_r",
        "Vega10",
        "Vega10_r",
        "Vega20",
        "Vega20_r",
        "Vega20b",
        "Vega20b_r",
        "Vega20c",
        "Vega20c_r",
        "Wistia",
        "Wistia_r",
        "YlGn",
        "YlGnBu",
        "YlGnBu_r",
        "YlGn_r",
        "YlOrBr",
        "YlOrBr_r",
        "YlOrRd",
        "YlOrRd_r",
        "afmhot",
        "afmhot_r",
        "autumn",
        "autumn_r",
        "binary",
        "binary_r",
        "bone",
        "bone_r",
        "brg",
        "brg_r",
        "bwr",
        "bwr_r",
        "cool",
        "cool_r",
        "coolwarm",
        "coolwarm_r",
        "copper",
        "copper_r",
        "cubehelix",
        "cubehelix_r",
        "flag",
        "flag_r",
        "gist_earth",
        "gist_earth_r",
        "gist_gray",
        "gist_gray_r",
        "gist_heat",
        "gist_heat_r",
        "gist_ncar",
        "gist_ncar_r",
        "gist_rainbow",
        "gist_rainbow_r",
        "gist_stern",
        "gist_stern_r",
        "gist_yarg",
        "gist_yarg_r",
        "gnuplot",
        "gnuplot2",
        "gnuplot2_r",
        "gnuplot_r",
        "gray",
        "gray_r",
        "hot",
        "hot_r",
        "hsv",
        "hsv_r",
        "inferno",
        "inferno_r",
        "jet",
        "jet_r",
        "magma",
        "magma_r",
        "nipy_spectral",
        "nipy_spectral_r",
        "ocean",
        "ocean_r",
        "pink",
        "pink_r",
        "plasma",
        "plasma_r",
        "prism",
        "prism_r",
        "rainbow",
        "rainbow_r",
        "seismic",
        "seismic_r",
        "spectral",
        "spectral_r",
        "spring",
        "spring_r",
        "summer",
        "summer_r",
        "tab10",
        "tab10_r",
        "tab20",
        "tab20_r",
        "tab20b",
        "tab20b_r",
        "tab20c",
        "tab20c_r",
        "terrain",
        "terrain_r",
        "viridis",
        "viridis_r",
        "winter",
        "winter_r"
       ],
       "description": "Colormap:",
       "index": 0,
       "layout": "IPY_MODEL_83332b59c2d748d998593c5f1289a508",
       "rows": 1,
       "style": "IPY_MODEL_f85a2fc2eb704723986ba1d687caf4ea"
      }
     },
     "e86ebd0a088d46e286b56d66eca8abd3": {
      "model_module": "@jupyter-widgets/controls",
      "model_module_version": "1.1.0",
      "model_name": "IntTextModel",
      "state": {
       "layout": "IPY_MODEL_9d8cf564c9844958813aa234a0661f7a",
       "step": 1,
       "style": "IPY_MODEL_a8de96e5d8bd4f0cbfa7a00ea1d05fec"
      }
     },
     "e93cf9de9fcf405fb74e37ccdb0deb8c": {
      "model_module": "@jupyter-widgets/base",
      "model_module_version": "1.0.0",
      "model_name": "LayoutModel",
      "state": {
       "width": "100%"
      }
     },
     "ea142f04eba44fea8773b5bb9fe58d1d": {
      "model_module": "@jupyter-widgets/controls",
      "model_module_version": "1.1.0",
      "model_name": "DescriptionStyleModel",
      "state": {
       "description_width": "initial"
      }
     },
     "ea8511e816474d58a59a0879517bd136": {
      "model_module": "@jupyter-widgets/controls",
      "model_module_version": "1.1.0",
      "model_name": "SliderStyleModel",
      "state": {
       "description_width": "initial"
      }
     },
     "eb1e08e3a1b549148a5aee527aae8678": {
      "model_module": "@jupyter-widgets/controls",
      "model_module_version": "1.1.0",
      "model_name": "SliderStyleModel",
      "state": {
       "description_width": "initial"
      }
     },
     "eb4020949ac04581864b473b36ec415b": {
      "model_module": "@jupyter-widgets/controls",
      "model_module_version": "1.1.0",
      "model_name": "DescriptionStyleModel",
      "state": {
       "description_width": "initial"
      }
     },
     "eb777d7bfed34277b0558bbb16908590": {
      "model_module": "@jupyter-widgets/base",
      "model_module_version": "1.0.0",
      "model_name": "LayoutModel",
      "state": {}
     },
     "ec57f74ed1df4085a7f904c0d5cec0fa": {
      "model_module": "@jupyter-widgets/controls",
      "model_module_version": "1.1.0",
      "model_name": "FloatSliderModel",
      "state": {
       "continuous_update": false,
       "description": "Zoom",
       "layout": "IPY_MODEL_b297a00282b74ac0b6e1e62233666824",
       "max": 1,
       "step": 0.1,
       "style": "IPY_MODEL_eb1e08e3a1b549148a5aee527aae8678",
       "value": 0.5
      }
     },
     "ecab502c4d0e4801a6af8e0d06b971f0": {
      "model_module": "@jupyter-widgets/controls",
      "model_module_version": "1.1.0",
      "model_name": "IntTextModel",
      "state": {
       "description": "Horizontal space between banks:",
       "layout": "IPY_MODEL_83332b59c2d748d998593c5f1289a508",
       "step": 1,
       "style": "IPY_MODEL_6c0278ce7fa141c0bbd362c334252e20",
       "value": 150
      }
     },
     "ed7d8dffff184f2480fcb3e3bae059b2": {
      "model_module": "@jupyter-widgets/controls",
      "model_module_version": "1.1.0",
      "model_name": "FloatTextModel",
      "state": {
       "description": "Leftmost color maps to:",
       "layout": "IPY_MODEL_39e1a8eebbfb45ea9792f85f34ac3b11",
       "step": null,
       "style": "IPY_MODEL_1abda5ca5f0f4aba9c1a79e162736136"
      }
     },
     "ed831f226c22446d95690b5aa9cb8ae2": {
      "model_module": "@jupyter-widgets/controls",
      "model_module_version": "1.1.0",
      "model_name": "VBoxModel",
      "state": {
       "children": [
        "IPY_MODEL_5cf885fa53594c5cb80ed88c4de2131e",
        "IPY_MODEL_d1d75961af34425ab53d1feea6aed890"
       ],
       "layout": "IPY_MODEL_c287f9f63d1a4629b39aeba3ac987dd0"
      }
     },
     "ef99470d73134769852cce925fdddc9b": {
      "model_module": "@jupyter-widgets/base",
      "model_module_version": "1.0.0",
      "model_name": "LayoutModel",
      "state": {}
     },
     "efb59a47de3244009cac1f5f814b7041": {
      "model_module": "@jupyter-widgets/controls",
      "model_module_version": "1.1.0",
      "model_name": "FloatTextModel",
      "state": {
       "description": "Rightmost color maps to:",
       "layout": "IPY_MODEL_0a355259821740e6bfa40f9f835e9868",
       "step": null,
       "style": "IPY_MODEL_4234bd9f4697492da8bdd749849ee821",
       "value": 1
      }
     },
     "f163951d1c1f4d66b347d7d063d7bebd": {
      "model_module": "@jupyter-widgets/base",
      "model_module_version": "1.0.0",
      "model_name": "LayoutModel",
      "state": {
       "width": "100%"
      }
     },
     "f27820625b1142f184e509d262abbdf6": {
      "model_module": "@jupyter-widgets/base",
      "model_module_version": "1.0.0",
      "model_name": "LayoutModel",
      "state": {}
     },
     "f363da3bbc874da7981dec3f324641cd": {
      "model_module": "@jupyter-widgets/controls",
      "model_module_version": "1.1.0",
      "model_name": "ButtonModel",
      "state": {
       "icon": "fast-forward",
       "layout": "IPY_MODEL_455cad51201744a8bac2570cffb05a45",
       "style": "IPY_MODEL_1bf82fdb89874e8ea5cc8ec3f9468805"
      }
     },
     "f45d940b8e784a0487021e2cde7bfd68": {
      "model_module": "@jupyter-widgets/base",
      "model_module_version": "1.0.0",
      "model_name": "LayoutModel",
      "state": {}
     },
     "f4f9ae25bda54bc2a9f2a3f9c9be8ed0": {
      "model_module": "@jupyter-widgets/controls",
      "model_module_version": "1.1.0",
      "model_name": "HBoxModel",
      "state": {
       "children": [
        "IPY_MODEL_52c6c5fe2f904c59a3be1ea4db621f81",
        "IPY_MODEL_789af087cb564176ae1fd1376e354915"
       ],
       "layout": "IPY_MODEL_39c23d9bae9a43678d57ce0c5d0bb81c"
      }
     },
     "f56ef080fad847fd8add4fe352598e36": {
      "model_module": "@jupyter-widgets/controls",
      "model_module_version": "1.1.0",
      "model_name": "ButtonModel",
      "state": {
       "icon": "forward",
       "layout": "IPY_MODEL_e272229707f940a193273452edbfc300",
       "style": "IPY_MODEL_3693a46964024ccbafade14bf0a44d78"
      }
     },
     "f65caee835704ddcace47290b3256e16": {
      "model_module": "@jupyter-widgets/controls",
      "model_module_version": "1.1.0",
      "model_name": "SliderStyleModel",
      "state": {
       "description_width": ""
      }
     },
     "f7aa5553a9ac408186d79e62336b269e": {
      "model_module": "@jupyter-widgets/controls",
      "model_module_version": "1.1.0",
      "model_name": "DescriptionStyleModel",
      "state": {
       "description_width": "initial"
      }
     },
     "f85a2fc2eb704723986ba1d687caf4ea": {
      "model_module": "@jupyter-widgets/controls",
      "model_module_version": "1.1.0",
      "model_name": "DescriptionStyleModel",
      "state": {
       "description_width": ""
      }
     },
     "fa2498e43289408992cac2931b3d7181": {
      "model_module": "@jupyter-widgets/base",
      "model_module_version": "1.0.0",
      "model_name": "LayoutModel",
      "state": {
       "width": "100%"
      }
     },
     "fa487fe1b6cd4ea5815534bd755d9a97": {
      "model_module": "@jupyter-widgets/controls",
      "model_module_version": "1.1.0",
      "model_name": "ButtonStyleModel",
      "state": {}
     },
     "fc02b6deaeee478586b89de026f28038": {
      "model_module": "@jupyter-widgets/controls",
      "model_module_version": "1.1.0",
      "model_name": "ButtonStyleModel",
      "state": {}
     },
     "fe34caaccf134e71a5bbb256a7b82c86": {
      "model_module": "@jupyter-widgets/controls",
      "model_module_version": "1.1.0",
      "model_name": "ButtonModel",
      "state": {
       "description": "Play",
       "icon": "play",
       "layout": "IPY_MODEL_ff18afa0396a4b48a773fe5f3271145d",
       "style": "IPY_MODEL_6b18bf47e62c44e4b0913ae58408dcce"
      }
     },
     "fe740d0dc4ba4d1cb4841bb8f9701739": {
      "model_module": "@jupyter-widgets/controls",
      "model_module_version": "1.1.0",
      "model_name": "HBoxModel",
      "state": {
       "children": [
        "IPY_MODEL_383b3c34d34c47cda9c90777e1cd4de9",
        "IPY_MODEL_8dd5de7c71f942129605e21582766646",
        "IPY_MODEL_60682a06d5cd4eed8d56f7a8d971ebee",
        "IPY_MODEL_bc585b3497ad4b2db62be8f407d83b2d",
        "IPY_MODEL_1683b27184bb40f2ad4fc2a87c4e2302",
        "IPY_MODEL_fe34caaccf134e71a5bbb256a7b82c86"
       ],
       "layout": "IPY_MODEL_5f4416f34c5a42308336d43060a506e4"
      }
     },
     "fea1ccf8ae9c4c28a9175edbd9c978ca": {
      "model_module": "@jupyter-widgets/controls",
      "model_module_version": "1.1.0",
      "model_name": "DescriptionStyleModel",
      "state": {
       "description_width": "initial"
      }
     },
     "ff18afa0396a4b48a773fe5f3271145d": {
      "model_module": "@jupyter-widgets/base",
      "model_module_version": "1.0.0",
      "model_name": "LayoutModel",
      "state": {
       "width": "100%"
      }
     }
    },
    "version_major": 2,
    "version_minor": 0
   }
  }
 },
 "nbformat": 4,
 "nbformat_minor": 2
}
