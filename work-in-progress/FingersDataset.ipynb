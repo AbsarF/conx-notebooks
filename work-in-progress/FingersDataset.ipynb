{
 "cells": [
  {
   "cell_type": "markdown",
   "metadata": {},
   "source": [
    "# Fingers Dataset\n",
    "\n",
    "This notebook demonstrates the use of the \"fingers\" dataset."
   ]
  },
  {
   "cell_type": "code",
   "execution_count": 1,
   "metadata": {},
   "outputs": [
    {
     "name": "stderr",
     "output_type": "stream",
     "text": [
      "Using TensorFlow backend.\n",
      "Conx, version 3.6.1\n"
     ]
    }
   ],
   "source": [
    "import conx as cx\n",
    "import random"
   ]
  },
  {
   "cell_type": "code",
   "execution_count": 2,
   "metadata": {},
   "outputs": [
    {
     "data": {
      "text/plain": [
       "['cifar10',\n",
       " 'cifar100',\n",
       " 'cmu_faces_full_size',\n",
       " 'cmu_faces_half_size',\n",
       " 'cmu_faces_quarter_size',\n",
       " 'figure_ground_a',\n",
       " 'fingers',\n",
       " 'gridfonts',\n",
       " 'mnist']"
      ]
     },
     "execution_count": 2,
     "metadata": {},
     "output_type": "execute_result"
    }
   ],
   "source": [
    "cx.Dataset.datasets()"
   ]
  },
  {
   "cell_type": "code",
   "execution_count": 3,
   "metadata": {},
   "outputs": [],
   "source": [
    "fingers = cx.Dataset.get(\"fingers\")"
   ]
  },
  {
   "cell_type": "code",
   "execution_count": 4,
   "metadata": {},
   "outputs": [
    {
     "data": {
      "text/markdown": [
       "**Dataset**: Fingers\n",
       "\n",
       "\n",
       "This dataset contains 12,000 RGB images of human hands showing different\n",
       "numbers of fingers, from zero to five.  The same fingers are always used\n",
       "to represent each number category (e.g., all images of \"two\" have raised\n",
       "index and middle fingers).  Each image is a 30 x 40 x 3 array of\n",
       "floating-point numbers in the range 0 to 1.  The target data consists of\n",
       "one-hot binary vectors of size 6 corresponding to the classification\n",
       "categories \"zero\" through \"five\".  There are 2000 images for each category.\n",
       "\n",
       "Created by Shreeda Segan and Albert Yu at Sarah Lawrence College.\n",
       "\n",
       "**Information**:\n",
       "   * name    : Fingers\n",
       "   * length  : 12000\n",
       "\n",
       "**Input Summary**:\n",
       "   * shape  : (30, 40, 3)\n",
       "   * range  : (0.0, 0.8666667)\n",
       "\n",
       "**Target Summary**:\n",
       "   * shape  : (6,)\n",
       "   * range  : (0, 1)\n",
       "\n"
      ],
      "text/plain": [
       "**Dataset**: Fingers\n",
       "\n",
       "\n",
       "This dataset contains 12,000 RGB images of human hands showing different\n",
       "numbers of fingers, from zero to five.  The same fingers are always used\n",
       "to represent each number category (e.g., all images of \"two\" have raised\n",
       "index and middle fingers).  Each image is a 30 x 40 x 3 array of\n",
       "floating-point numbers in the range 0 to 1.  The target data consists of\n",
       "one-hot binary vectors of size 6 corresponding to the classification\n",
       "categories \"zero\" through \"five\".  There are 2000 images for each category.\n",
       "\n",
       "Created by Shreeda Segan and Albert Yu at Sarah Lawrence College.\n",
       "\n",
       "**Information**:\n",
       "   * name    : Fingers\n",
       "   * length  : 12000\n",
       "\n",
       "**Input Summary**:\n",
       "   * shape  : (30, 40, 3)\n",
       "   * range  : (0.0, 0.8666667)\n",
       "\n",
       "**Target Summary**:\n",
       "   * shape  : (6,)\n",
       "   * range  : (0, 1)\n"
      ]
     },
     "metadata": {},
     "output_type": "display_data"
    }
   ],
   "source": [
    "fingers.info()"
   ]
  },
  {
   "cell_type": "code",
   "execution_count": 5,
   "metadata": {},
   "outputs": [],
   "source": [
    "net = cx.Network(\"Finger Math\")\n",
    "net.add(\n",
    "    cx.ImageLayer(\"input1\", (30, 40), 3),\n",
    "    cx.ImageLayer(\"input2\", (30, 40), 3),\n",
    "    cx.FlattenLayer(\"flatten1\"),\n",
    "    cx.FlattenLayer(\"flatten2\"),\n",
    "    cx.Layer(\"hidden\", 100, activation=\"relu\"),\n",
    "    cx.Layer(\"output\", 11, activation=\"softmax\"),\n",
    ")\n",
    "net.connect(\"input1\", \"flatten1\")\n",
    "net.connect(\"input2\", \"flatten2\")\n",
    "net.connect(\"flatten1\", \"hidden\")\n",
    "net.connect(\"flatten2\", \"hidden\")\n",
    "net.connect(\"hidden\", \"output\")\n",
    "net.compile(error=\"categorical_crossentropy\", optimizer=\"sgd\")"
   ]
  },
  {
   "cell_type": "code",
   "execution_count": 6,
   "metadata": {},
   "outputs": [
    {
     "data": {
      "application/javascript": [
       "\n",
       "require(['base/js/namespace'], function(Jupyter) {\n",
       "    Jupyter.notebook.kernel.comm_manager.register_target('conx_svg_control', function(comm, msg) {\n",
       "        comm.on_msg(function(msg) {\n",
       "            var data = msg[\"content\"][\"data\"];\n",
       "            var images = document.getElementsByClassName(data[\"class\"]);\n",
       "            for (var i = 0; i < images.length; i++) {\n",
       "                if (data[\"href\"]) {\n",
       "                    images[i].setAttributeNS(null, \"href\", data[\"href\"]);\n",
       "                }\n",
       "                if (data[\"src\"]) {\n",
       "                    images[i].setAttributeNS(null, \"src\", data[\"src\"]);\n",
       "                }\n",
       "            }\n",
       "        });\n",
       "    });\n",
       "});\n"
      ],
      "text/plain": [
       "<IPython.core.display.Javascript object>"
      ]
     },
     "metadata": {},
     "output_type": "display_data"
    },
    {
     "data": {
      "text/html": [
       "<svg id='Finger Math' xmlns='http://www.w3.org/2000/svg' image-rendering=\"pixelated\" width=\"400.0px\" height=\"176.0px\">\n",
       " <g >\n",
       "  <svg viewBox=\"0 0 1000 440\" width=\"400.0px\" height=\"176.0px\">\n",
       "    <defs>\n",
       "        <marker id=\"arrow\" markerWidth=\"10\" markerHeight=\"10\" refX=\"9\" refY=\"3\" orient=\"auto\" markerUnits=\"strokeWidth\">\n",
       "          <path d=\"M0,0 L0,6 L9,3 z\" fill=\"black\" />\n",
       "        </marker>\n",
       "    </defs><rect x=\"399.0\" y=\"24\" width=\"202\" height=\"52\" style=\"fill:none;stroke:black;stroke-width:2\"/><image id=\"picture-static-Finger Math-577469_output_1\" class=\"picture-static-Finger Math-577469_output\" x=\"400.0\" y=\"25\" height=\"50\" width=\"200\" preserveAspectRatio=\"none\" href=\"data:image/gif;base64,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\"><title>Layer: output (output)\n",
       " output range: (0, 1)\n",
       " shape = (11,)\n",
       " Keras class = Dense\n",
       " activation = softmax</title></image><text x=\"605.0\" y=\"52.0\" font-family=\"monospace\" font-size=\"12\" text-anchor=\"start\" fill=\"black\" alignment-baseline=\"central\" >output</text><line x1=\"500.0\" y1=\"104\" x2=\"500.0\" y2=\"77\" stroke=\"black\" stroke-width=\"2\" marker-end=\"url(#arrow)\"><title>Weights from hidden to output\n",
       " output/kernel:0 has shape (100, 11)\n",
       " output/bias:0 has shape (11,)</title></line><rect x=\"399.0\" y=\"104\" width=\"202\" height=\"52\" style=\"fill:none;stroke:black;stroke-width:2\"/><image id=\"picture-static-Finger Math-577469_hidden_2\" class=\"picture-static-Finger Math-577469_hidden\" x=\"400.0\" y=\"105\" height=\"50\" width=\"200\" preserveAspectRatio=\"none\" href=\"data:image/gif;base64,R0lGODdhZAABAIcAAH8AAAAAAAAAAAAAAAAAAAAAAAAAAAAAAAAAAAAAAAAAAAAAAAAAAAAAAAAAAAAAAAAAAAAAAAAAAAAAAAAAAAAAAAAAAAAAAAAAAAAAAAAAAAAAAAAAAAAAAAAAAAAAAAAAAAAAAAAAAAAAAAAAAAAAAAAAAAAAAAAAAAAAAAAAAAAAAAAAAAAAAAAAAAAAAAAAAAAAAAAAAAAAAAAAAAAAAAAAAAAAAAAAAAAAAAAAAAAAAAAAAAAAAAAAAAAAAAAAAAAAAAAAAAAAAAAAAAAAAAAAAAAAAAAAAAAAAAAAAAAAAAAAAAAAAAAAAAAAAAAAAAAAAAAAAAAAAAAAAAAAAAAAAAAAAAAAAAAAAAAAAAAAAAAAAAAAAAAAAAAAAAAAAAAAAAAAAAAAAAAAAAAAAAAAAAAAAAAAAAAAAAAAAAAAAAAAAAAAAAAAAAAAAAAAAAAAAAAAAAAAAAAAAAAAAAAAAAAAAAAAAAAAAAAAAAAAAAAAAAAAAAAAAAAAAAAAAAAAAAAAAAAAAAAAAAAAAAAAAAAAAAAAAAAAAAAAAAAAAAAAAAAAAAAAAAAAAAAAAAAAAAAAAAAAAAAAAAAAAAAAAAAAAAAAAAAAAAAAAAAAAAAAAAAAAAAAAAAAAAAAAAAAAAAAAAAAAAAAAAAAAAAAAAAAAAAAAAAAAAAAAAAAAAAAAAAAAAAAAAAAAAAAAAAAAAAAAAAAAAAAAAAAAAAAAAAAAAAAAAAAAAAAAAAAAAAAAAAAAAAAAAAAAAAAAAAAAAAAAAAAAAAAAAAAAAAAAAAAAAAAAAAAAAAAAAAAAAAAAAAAAAAAAAAAAAAAAAAAAAAAAAAAAAAAAAAAAAAAAAAAAAAAAAAAAAAAAAAAAAAAAAAAAAAAAAAAAAAAAAAAAAAAAAAAAAAAAAAAAAAAAAAAAAAAAAAAAAAAAAAAAAAAAAAAAAAAAAAAAAAAAAAAAAAAAAAAAAAAAAAAAAAAAAAAAAAAAAAAAAAAAAAAAAAAAAAAAAAAAAAAACwAAAAAZAABAAAIEgABCBxIsKDBgwgTKlzIsGHCgAA7\"><title>Layer: hidden (hidden)\n",
       " output range: (0, +Infinity)\n",
       " shape = (100,)\n",
       " Keras class = Dense\n",
       " activation = relu</title></image><text x=\"605.0\" y=\"132.0\" font-family=\"monospace\" font-size=\"12\" text-anchor=\"start\" fill=\"black\" alignment-baseline=\"central\" >hidden</text><line x1=\"333.3333333333333\" y1=\"184\" x2=\"500.0\" y2=\"157\" stroke=\"black\" stroke-width=\"2\" marker-end=\"url(#arrow)\"><title>Weights from flatten1 to hidden\n",
       " hidden/kernel:0 has shape (7200, 100)\n",
       " hidden/bias:0 has shape (100,)</title></line><rect x=\"232.33333333333331\" y=\"184\" width=\"202\" height=\"52\" style=\"fill:none;stroke:black;stroke-width:2\"/><image id=\"picture-static-Finger Math-577469_flatten1_3\" class=\"picture-static-Finger Math-577469_flatten1\" x=\"233.33333333333331\" y=\"185\" height=\"50\" width=\"200\" preserveAspectRatio=\"none\" href=\"data:image/gif;base64,R0lGODdhEA4BAIcAAH9/fwAAAAAAAAAAAAAAAAAAAAAAAAAAAAAAAAAAAAAAAAAAAAAAAAAAAAAAAAAAAAAAAAAAAAAAAAAAAAAAAAAAAAAAAAAAAAAAAAAAAAAAAAAAAAAAAAAAAAAAAAAAAAAAAAAAAAAAAAAAAAAAAAAAAAAAAAAAAAAAAAAAAAAAAAAAAAAAAAAAAAAAAAAAAAAAAAAAAAAAAAAAAAAAAAAAAAAAAAAAAAAAAAAAAAAAAAAAAAAAAAAAAAAAAAAAAAAAAAAAAAAAAAAAAAAAAAAAAAAAAAAAAAAAAAAAAAAAAAAAAAAAAAAAAAAAAAAAAAAAAAAAAAAAAAAAAAAAAAAAAAAAAAAAAAAAAAAAAAAAAAAAAAAAAAAAAAAAAAAAAAAAAAAAAAAAAAAAAAAAAAAAAAAAAAAAAAAAAAAAAAAAAAAAAAAAAAAAAAAAAAAAAAAAAAAAAAAAAAAAAAAAAAAAAAAAAAAAAAAAAAAAAAAAAAAAAAAAAAAAAAAAAAAAAAAAAAAAAAAAAAAAAAAAAAAAAAAAAAAAAAAAAAAAAAAAAAAAAAAAAAAAAAAAAAAAAAAAAAAAAAAAAAAAAAAAAAAAAAAAAAAAAAAAAAAAAAAAAAAAAAAAAAAAAAAAAAAAAAAAAAAAAAAAAAAAAAAAAAAAAAAAAAAAAAAAAAAAAAAAAAAAAAAAAAAAAAAAAAAAAAAAAAAAAAAAAAAAAAAAAAAAAAAAAAAAAAAAAAAAAAAAAAAAAAAAAAAAAAAAAAAAAAAAAAAAAAAAAAAAAAAAAAAAAAAAAAAAAAAAAAAAAAAAAAAAAAAAAAAAAAAAAAAAAAAAAAAAAAAAAAAAAAAAAAAAAAAAAAAAAAAAAAAAAAAAAAAAAAAAAAAAAAAAAAAAAAAAAAAAAAAAAAAAAAAAAAAAAAAAAAAAAAAAAAAAAAAAAAAAAAAAAAAAAAAAAAAAAAAAAAAAAAAAAAAAAAAAAAAAAAAAAAAAAAAAAAAAAAAAAAAAAAAAAAAAAAAAAAAAACwAAAAAEA4BAAAIYgABCBxIsKDBgwgTKlzIsKHDhxAjSpxIsaLFixgzatzIsaPHjyBDihxJsqTJkyhTqlzJsqXLlzBjypxJs6bNmzhz6tzJs6fPn0CDCh1KtKjRo0iTKl3KtKnTp1CjSp1K1WNAADs=\"><title>Layer: flatten1 (hidden)\n",
       " output range: (-Infinity, +Infinity)\n",
       " Keras class = Flatten</title></image><text x=\"438.3333333333333\" y=\"212.0\" font-family=\"monospace\" font-size=\"12\" text-anchor=\"start\" fill=\"black\" alignment-baseline=\"central\" >flatten1</text><line x1=\"666.6666666666666\" y1=\"184\" x2=\"500.0\" y2=\"157\" stroke=\"black\" stroke-width=\"2\" marker-end=\"url(#arrow)\"><title>Weights from flatten2 to hidden\n",
       " hidden/kernel:0 has shape (7200, 100)\n",
       " hidden/bias:0 has shape (100,)</title></line><rect x=\"565.6666666666666\" y=\"184\" width=\"202\" height=\"52\" style=\"fill:none;stroke:black;stroke-width:2\"/><image id=\"picture-static-Finger Math-577469_flatten2_4\" class=\"picture-static-Finger Math-577469_flatten2\" x=\"566.6666666666666\" y=\"185\" height=\"50\" width=\"200\" preserveAspectRatio=\"none\" href=\"data:image/gif;base64,R0lGODdhEA4BAIcAAH9/fwAAAAAAAAAAAAAAAAAAAAAAAAAAAAAAAAAAAAAAAAAAAAAAAAAAAAAAAAAAAAAAAAAAAAAAAAAAAAAAAAAAAAAAAAAAAAAAAAAAAAAAAAAAAAAAAAAAAAAAAAAAAAAAAAAAAAAAAAAAAAAAAAAAAAAAAAAAAAAAAAAAAAAAAAAAAAAAAAAAAAAAAAAAAAAAAAAAAAAAAAAAAAAAAAAAAAAAAAAAAAAAAAAAAAAAAAAAAAAAAAAAAAAAAAAAAAAAAAAAAAAAAAAAAAAAAAAAAAAAAAAAAAAAAAAAAAAAAAAAAAAAAAAAAAAAAAAAAAAAAAAAAAAAAAAAAAAAAAAAAAAAAAAAAAAAAAAAAAAAAAAAAAAAAAAAAAAAAAAAAAAAAAAAAAAAAAAAAAAAAAAAAAAAAAAAAAAAAAAAAAAAAAAAAAAAAAAAAAAAAAAAAAAAAAAAAAAAAAAAAAAAAAAAAAAAAAAAAAAAAAAAAAAAAAAAAAAAAAAAAAAAAAAAAAAAAAAAAAAAAAAAAAAAAAAAAAAAAAAAAAAAAAAAAAAAAAAAAAAAAAAAAAAAAAAAAAAAAAAAAAAAAAAAAAAAAAAAAAAAAAAAAAAAAAAAAAAAAAAAAAAAAAAAAAAAAAAAAAAAAAAAAAAAAAAAAAAAAAAAAAAAAAAAAAAAAAAAAAAAAAAAAAAAAAAAAAAAAAAAAAAAAAAAAAAAAAAAAAAAAAAAAAAAAAAAAAAAAAAAAAAAAAAAAAAAAAAAAAAAAAAAAAAAAAAAAAAAAAAAAAAAAAAAAAAAAAAAAAAAAAAAAAAAAAAAAAAAAAAAAAAAAAAAAAAAAAAAAAAAAAAAAAAAAAAAAAAAAAAAAAAAAAAAAAAAAAAAAAAAAAAAAAAAAAAAAAAAAAAAAAAAAAAAAAAAAAAAAAAAAAAAAAAAAAAAAAAAAAAAAAAAAAAAAAAAAAAAAAAAAAAAAAAAAAAAAAAAAAAAAAAAAAAAAAAAAAAAAAAAAAAAAAAAAAAAAAAAAAAAACwAAAAAEA4BAAAIYgABCBxIsKDBgwgTKlzIsKHDhxAjSpxIsaLFixgzatzIsaPHjyBDihxJsqTJkyhTqlzJsqXLlzBjypxJs6bNmzhz6tzJs6fPn0CDCh1KtKjRo0iTKl3KtKnTp1CjSp1K1WNAADs=\"><title>Layer: flatten2 (hidden)\n",
       " output range: (-Infinity, +Infinity)\n",
       " Keras class = Flatten</title></image><text x=\"771.6666666666666\" y=\"212.0\" font-family=\"monospace\" font-size=\"12\" text-anchor=\"start\" fill=\"black\" alignment-baseline=\"central\" >flatten2</text><line x1=\"333.3333333333333\" y1=\"264\" x2=\"333.3333333333333\" y2=\"237\" stroke=\"black\" stroke-width=\"2\" marker-end=\"url(#arrow)\"><title>Weights from input1 to flatten1</title></line><rect x=\"232.33333333333331\" y=\"264\" width=\"202\" height=\"152\" style=\"fill:none;stroke:black;stroke-width:2\"/><image id=\"picture-static-Finger Math-577469_input1_5\" class=\"picture-static-Finger Math-577469_input1\" x=\"233.33333333333331\" y=\"265\" height=\"150\" width=\"200\" preserveAspectRatio=\"none\" href=\"data:image/gif;base64,R0lGODdhKAAeAIcAAAAAAAAAAAAAAAAAAAAAAAAAAAAAAAAAAAAAAAAAAAAAAAAAAAAAAAAAAAAAAAAAAAAAAAAAAAAAAAAAAAAAAAAAAAAAAAAAAAAAAAAAAAAAAAAAAAAAAAAAAAAAAAAAAAAAAAAAAAAAAAAAAAAAAAAAAAAAAAAAAAAAAAAAAAAAAAAAAAAAAAAAAAAAAAAAAAAAAAAAAAAAAAAAAAAAAAAAAAAAAAAAAAAAAAAAAAAAAAAAAAAAAAAAAAAAAAAAAAAAAAAAAAAAAAAAAAAAAAAAAAAAAAAAAAAAAAAAAAAAAAAAAAAAAAAAAAAAAAAAAAAAAAAAAAAAAAAAAAAAAAAAAAAAAAAAAAAAAAAAAAAAAAAAAAAAAAAAAAAAAAAAAAAAAAAAAAAAAAAAAAAAAAAAAAAAAAAAAAAAAAAAAAAAAAAAAAAAAAAAAAAAAAAAAAAAAAAAAAAAAAAAAAAAAAAAAAAAAAAAAAAAAAAAAAAAAAAAAAAAAAAAAAAAAAAAAAAAAAAAAAAAAAAAAAAAAAAAAAAAAAAAAAAAAAAAAAAAAAAAAAAAAAAAAAAAAAAAAAAAAAAAAAAAAAAAAAAAAAAAAAAAAAAAAAAAAAAAAAAAAAAAAAAAAAAAAAAAAAAAAAAAAAAAAAAAAAAAAAAAAAAAAAAAAAAAAAAAAAAAAAAAAAAAAAAAAAAAAAAAAAAAAAAAAAAAAAAAAAAAAAAAAAAAAAAAAAAAAAAAAAAAAAAAAAAAAAAAAAAAAAAAAAAAAAAAAAAAAAAAAAAAAAAAAAAAAAAAAAAAAAAAAAAAAAAAAAAAAAAAAAAAAAAAAAAAAAAAAAAAAAAAAAAAAAAAAAAAAAAAAAAAAAAAAAAAAAAAAAAAAAAAAAAAAAAAAAAAAAAAAAAAAAAAAAAAAAAAAAAAAAAAAAAAAAAAAAAAAAAAAAAAAAAAAAAAAAAAAAAAAAAAAAAAAAAAAAAAAAAAAAAAAAAAAAAAAAAAAAAAAAAAAAAAAAAAAAAAAAAAAAAAACwAAAAAKAAeAEAIOgABCBxIsKDBgwgTKlzIsKHDhxAjSpxIsaLFixgzatzIsaPHjyBDihxJsqTJkyhTqlzJsqXLlzAxBgQAOw==\"><title>Layer: input1 (input)\n",
       " output range: (-Infinity, +Infinity)\n",
       " shape = (30, 40, 3)\n",
       " Keras class = Input</title></image><text x=\"438.3333333333333\" y=\"342.0\" font-family=\"monospace\" font-size=\"12\" text-anchor=\"start\" fill=\"black\" alignment-baseline=\"central\" >input1</text><line x1=\"666.6666666666666\" y1=\"264\" x2=\"666.6666666666666\" y2=\"237\" stroke=\"black\" stroke-width=\"2\" marker-end=\"url(#arrow)\"><title>Weights from input2 to flatten2</title></line><rect x=\"565.6666666666666\" y=\"264\" width=\"202\" height=\"152\" style=\"fill:none;stroke:black;stroke-width:2\"/><image id=\"picture-static-Finger Math-577469_input2_6\" class=\"picture-static-Finger Math-577469_input2\" x=\"566.6666666666666\" y=\"265\" height=\"150\" width=\"200\" preserveAspectRatio=\"none\" href=\"data:image/gif;base64,R0lGODdhKAAeAIcAAAAAAAAAAAAAAAAAAAAAAAAAAAAAAAAAAAAAAAAAAAAAAAAAAAAAAAAAAAAAAAAAAAAAAAAAAAAAAAAAAAAAAAAAAAAAAAAAAAAAAAAAAAAAAAAAAAAAAAAAAAAAAAAAAAAAAAAAAAAAAAAAAAAAAAAAAAAAAAAAAAAAAAAAAAAAAAAAAAAAAAAAAAAAAAAAAAAAAAAAAAAAAAAAAAAAAAAAAAAAAAAAAAAAAAAAAAAAAAAAAAAAAAAAAAAAAAAAAAAAAAAAAAAAAAAAAAAAAAAAAAAAAAAAAAAAAAAAAAAAAAAAAAAAAAAAAAAAAAAAAAAAAAAAAAAAAAAAAAAAAAAAAAAAAAAAAAAAAAAAAAAAAAAAAAAAAAAAAAAAAAAAAAAAAAAAAAAAAAAAAAAAAAAAAAAAAAAAAAAAAAAAAAAAAAAAAAAAAAAAAAAAAAAAAAAAAAAAAAAAAAAAAAAAAAAAAAAAAAAAAAAAAAAAAAAAAAAAAAAAAAAAAAAAAAAAAAAAAAAAAAAAAAAAAAAAAAAAAAAAAAAAAAAAAAAAAAAAAAAAAAAAAAAAAAAAAAAAAAAAAAAAAAAAAAAAAAAAAAAAAAAAAAAAAAAAAAAAAAAAAAAAAAAAAAAAAAAAAAAAAAAAAAAAAAAAAAAAAAAAAAAAAAAAAAAAAAAAAAAAAAAAAAAAAAAAAAAAAAAAAAAAAAAAAAAAAAAAAAAAAAAAAAAAAAAAAAAAAAAAAAAAAAAAAAAAAAAAAAAAAAAAAAAAAAAAAAAAAAAAAAAAAAAAAAAAAAAAAAAAAAAAAAAAAAAAAAAAAAAAAAAAAAAAAAAAAAAAAAAAAAAAAAAAAAAAAAAAAAAAAAAAAAAAAAAAAAAAAAAAAAAAAAAAAAAAAAAAAAAAAAAAAAAAAAAAAAAAAAAAAAAAAAAAAAAAAAAAAAAAAAAAAAAAAAAAAAAAAAAAAAAAAAAAAAAAAAAAAAAAAAAAAAAAAAAAAAAAAAAAAAAAAAAAAAAAAAAAAAAAAAAAACwAAAAAKAAeAEAIOgABCBxIsKDBgwgTKlzIsKHDhxAjSpxIsaLFixgzatzIsaPHjyBDihxJsqTJkyhTqlzJsqXLlzAxBgQAOw==\"><title>Layer: input2 (input)\n",
       " output range: (-Infinity, +Infinity)\n",
       " shape = (30, 40, 3)\n",
       " Keras class = Input</title></image><text x=\"771.6666666666666\" y=\"342.0\" font-family=\"monospace\" font-size=\"12\" text-anchor=\"start\" fill=\"black\" alignment-baseline=\"central\" >input2</text><text x=\"500.0\" y=\"12.5\" font-family=\"monospace\" font-size=\"15\" text-anchor=\"middle\" fill=\"black\" alignment-baseline=\"central\" >Finger Math</text></svg></g></svg>"
      ],
      "text/plain": [
       "<IPython.core.display.HTML object>"
      ]
     },
     "execution_count": 6,
     "metadata": {},
     "output_type": "execute_result"
    }
   ],
   "source": [
    "net.config[\"hspace\"] = 300\n",
    "net.picture()"
   ]
  },
  {
   "cell_type": "code",
   "execution_count": 7,
   "metadata": {},
   "outputs": [],
   "source": [
    "def get_dataset():\n",
    "    for i in range(len(fingers)):\n",
    "        r1 = random.randint(0, len(fingers) - 1)\n",
    "        v1 = int(fingers.labels[r1])\n",
    "        r2 = random.randint(0, len(fingers) - 1)\n",
    "        v2 = int(fingers.labels[r2])\n",
    "        target = v1 + v2\n",
    "        yield [[fingers.inputs[r1], fingers.inputs[r2]], cx.onehot(target, 11)]"
   ]
  },
  {
   "cell_type": "code",
   "execution_count": 8,
   "metadata": {},
   "outputs": [],
   "source": [
    "net.dataset.load(get_dataset(), 1000)"
   ]
  },
  {
   "cell_type": "code",
   "execution_count": 9,
   "metadata": {},
   "outputs": [
    {
     "data": {
      "application/vnd.jupyter.widget-view+json": {
       "model_id": "84845627d6cd4415974bdad6cbd4f888",
       "version_major": 2,
       "version_minor": 0
      },
      "text/html": [
       "<p>Failed to display Jupyter Widget of type <code>Dashboard</code>.</p>\n",
       "<p>\n",
       "  If you're reading this message in the Jupyter Notebook or JupyterLab Notebook, it may mean\n",
       "  that the widgets JavaScript is still loading. If this message persists, it\n",
       "  likely means that the widgets JavaScript library is either not installed or\n",
       "  not enabled. See the <a href=\"https://ipywidgets.readthedocs.io/en/stable/user_install.html\">Jupyter\n",
       "  Widgets Documentation</a> for setup instructions.\n",
       "</p>\n",
       "<p>\n",
       "  If you're reading this message in another frontend (for example, a static\n",
       "  rendering on GitHub or <a href=\"https://nbviewer.jupyter.org/\">NBViewer</a>),\n",
       "  it may mean that your frontend doesn't currently support widgets.\n",
       "</p>\n"
      ],
      "text/plain": [
       "Dashboard(children=(Accordion(children=(HBox(children=(VBox(children=(Select(description='Dataset:', index=1, options=('Test', 'Train'), rows=1, value='Train'), FloatSlider(value=0.8, continuous_update=False, description='Zoom', layout=Layout(width='65%'), max=1.0, style=SliderStyle(description_width='initial')), IntText(value=300, description='Horizontal space between banks:', style=DescriptionStyle(description_width='initial')), IntText(value=30, description='Vertical space between layers:', style=DescriptionStyle(description_width='initial')), HBox(children=(Checkbox(value=True, description='Show Targets', style=DescriptionStyle(description_width='initial')), Checkbox(value=False, description='Errors', style=DescriptionStyle(description_width='initial')))), Select(description='Features:', options=('', 'input1', 'input2'), rows=1, value=''), IntText(value=3, description='Feature columns:', style=DescriptionStyle(description_width='initial')), FloatText(value=1.0, description='Feature scale:', style=DescriptionStyle(description_width='initial'))), layout=Layout(width='100%')), VBox(children=(Select(description='Layer:', index=5, options=('input1', 'input2', 'flatten1', 'flatten2', 'hidden', 'output'), rows=1, value='output'), Checkbox(value=True, description='Visible'), Select(description='Colormap:', options=('', 'Accent', 'Accent_r', 'Blues', 'Blues_r', 'BrBG', 'BrBG_r', 'BuGn', 'BuGn_r', 'BuPu', 'BuPu_r', 'CMRmap', 'CMRmap_r', 'Dark2', 'Dark2_r', 'GnBu', 'GnBu_r', 'Greens', 'Greens_r', 'Greys', 'Greys_r', 'OrRd', 'OrRd_r', 'Oranges', 'Oranges_r', 'PRGn', 'PRGn_r', 'Paired', 'Paired_r', 'Pastel1', 'Pastel1_r', 'Pastel2', 'Pastel2_r', 'PiYG', 'PiYG_r', 'PuBu', 'PuBuGn', 'PuBuGn_r', 'PuBu_r', 'PuOr', 'PuOr_r', 'PuRd', 'PuRd_r', 'Purples', 'Purples_r', 'RdBu', 'RdBu_r', 'RdGy', 'RdGy_r', 'RdPu', 'RdPu_r', 'RdYlBu', 'RdYlBu_r', 'RdYlGn', 'RdYlGn_r', 'Reds', 'Reds_r', 'Set1', 'Set1_r', 'Set2', 'Set2_r', 'Set3', 'Set3_r', 'Spectral', 'Spectral_r', 'Vega10', 'Vega10_r', 'Vega20', 'Vega20_r', 'Vega20b', 'Vega20b_r', 'Vega20c', 'Vega20c_r', 'Wistia', 'Wistia_r', 'YlGn', 'YlGnBu', 'YlGnBu_r', 'YlGn_r', 'YlOrBr', 'YlOrBr_r', 'YlOrRd', 'YlOrRd_r', 'afmhot', 'afmhot_r', 'autumn', 'autumn_r', 'binary', 'binary_r', 'bone', 'bone_r', 'brg', 'brg_r', 'bwr', 'bwr_r', 'cool', 'cool_r', 'coolwarm', 'coolwarm_r', 'copper', 'copper_r', 'cubehelix', 'cubehelix_r', 'flag', 'flag_r', 'gist_earth', 'gist_earth_r', 'gist_gray', 'gist_gray_r', 'gist_heat', 'gist_heat_r', 'gist_ncar', 'gist_ncar_r', 'gist_rainbow', 'gist_rainbow_r', 'gist_stern', 'gist_stern_r', 'gist_yarg', 'gist_yarg_r', 'gnuplot', 'gnuplot2', 'gnuplot2_r', 'gnuplot_r', 'gray', 'gray_r', 'hot', 'hot_r', 'hsv', 'hsv_r', 'inferno', 'inferno_r', 'jet', 'jet_r', 'magma', 'magma_r', 'nipy_spectral', 'nipy_spectral_r', 'ocean', 'ocean_r', 'pink', 'pink_r', 'plasma', 'plasma_r', 'prism', 'prism_r', 'rainbow', 'rainbow_r', 'seismic', 'seismic_r', 'spectral', 'spectral_r', 'spring', 'spring_r', 'summer', 'summer_r', 'tab10', 'tab10_r', 'tab20', 'tab20_r', 'tab20b', 'tab20b_r', 'tab20c', 'tab20c_r', 'terrain', 'terrain_r', 'viridis', 'viridis_r', 'winter', 'winter_r'), rows=1, value=''), HTML(value='<img src=\"data:image/gif;base64,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\"/>'), FloatText(value=0.0, description='Leftmost color maps to:', style=DescriptionStyle(description_width='initial')), FloatText(value=1.0, description='Rightmost color maps to:', style=DescriptionStyle(description_width='initial')), IntText(value=0, description='Feature to show:', style=DescriptionStyle(description_width='initial')), HBox(children=(Checkbox(value=False, description='Rotate network', layout=Layout(width='52%'), style=DescriptionStyle(description_width='initial')), Button(icon='save', layout=Layout(width='10%'), style=ButtonStyle())))), layout=Layout(width='100%')))),), selected_index=None, _titles={'0': 'Finger Math'}), VBox(children=(HBox(children=(IntSlider(value=0, continuous_update=False, description='Dataset index', layout=Layout(width='100%'), max=999), Label(value='of 1000', layout=Layout(width='100px'))), layout=Layout(height='40px')), HBox(children=(Button(icon='fast-backward', layout=Layout(width='100%'), style=ButtonStyle()), Button(icon='backward', layout=Layout(width='100%'), style=ButtonStyle()), IntText(value=0, layout=Layout(width='100%')), Button(icon='forward', layout=Layout(width='100%'), style=ButtonStyle()), Button(icon='fast-forward', layout=Layout(width='100%'), style=ButtonStyle()), Button(description='Play', icon='play', layout=Layout(width='100%'), style=ButtonStyle()), Button(icon='refresh', layout=Layout(width='25%'), style=ButtonStyle())), layout=Layout(height='50px', width='100%'))), layout=Layout(width='100%')), HTML(value='<p style=\"text-align:center\"></p>', layout=Layout(justify_content='center', overflow_x='auto', overflow_y='auto', width='95%')), Output()))"
      ]
     },
     "metadata": {},
     "output_type": "display_data"
    }
   ],
   "source": [
    "net.dashboard()"
   ]
  },
  {
   "cell_type": "code",
   "execution_count": 10,
   "metadata": {},
   "outputs": [
    {
     "data": {
      "image/svg+xml": [
       "<svg height=\"288pt\" version=\"1.1\" viewBox=\"0 0 720 288\" width=\"720pt\" xmlns=\"http://www.w3.org/2000/svg\" xmlns:xlink=\"http://www.w3.org/1999/xlink\">\n",
       " <defs>\n",
       "  <style type=\"text/css\">\n",
       "*{stroke-linecap:butt;stroke-linejoin:round;}\n",
       "  </style>\n",
       " </defs>\n",
       " <g id=\"figure_1\">\n",
       "  <g id=\"patch_1\">\n",
       "   <path d=\"M 0 288  L 720 288  L 720 0  L 0 0  z \" style=\"fill:#ffffff;\"/>\n",
       "  </g>\n",
       "  <g id=\"axes_1\">\n",
       "   <g id=\"patch_2\">\n",
       "    <path d=\"M 90 252  L 343.636364 252  L 343.636364 34.56  L 90 34.56  z \" style=\"fill:#ffffff;\"/>\n",
       "   </g>\n",
       "   <g id=\"matplotlib.axis_1\">\n",
       "    <g id=\"xtick_1\">\n",
       "     <g id=\"line2d_1\">\n",
       "      <defs>\n",
       "       <path d=\"M 0 0  L 0 3.5  \" id=\"mdbac48e30f\" style=\"stroke:#000000;stroke-width:0.8;\"/>\n",
       "      </defs>\n",
       "      <g>\n",
       "       <use style=\"stroke:#000000;stroke-width:0.8;\" x=\"101.528926\" xlink:href=\"#mdbac48e30f\" y=\"252\"/>\n",
       "      </g>\n",
       "     </g>\n",
       "     <g id=\"text_1\">\n",
       "      <!-- 0 -->\n",
       "      <defs>\n",
       "       <path d=\"M 31.78125 66.40625  Q 24.171875 66.40625 20.328125 58.90625  Q 16.5 51.421875 16.5 36.375  Q 16.5 21.390625 20.328125 13.890625  Q 24.171875 6.390625 31.78125 6.390625  Q 39.453125 6.390625 43.28125 13.890625  Q 47.125 21.390625 47.125 36.375  Q 47.125 51.421875 43.28125 58.90625  Q 39.453125 66.40625 31.78125 66.40625  z M 31.78125 74.21875  Q 44.046875 74.21875 50.515625 64.515625  Q 56.984375 54.828125 56.984375 36.375  Q 56.984375 17.96875 50.515625 8.265625  Q 44.046875 -1.421875 31.78125 -1.421875  Q 19.53125 -1.421875 13.0625 8.265625  Q 6.59375 17.96875 6.59375 36.375  Q 6.59375 54.828125 13.0625 64.515625  Q 19.53125 74.21875 31.78125 74.21875  z \" id=\"DejaVuSans-30\"/>\n",
       "      </defs>\n",
       "      <g transform=\"translate(98.347676 266.598437)scale(0.1 -0.1)\">\n",
       "       <use xlink:href=\"#DejaVuSans-30\"/>\n",
       "      </g>\n",
       "     </g>\n",
       "    </g>\n",
       "    <g id=\"xtick_2\">\n",
       "     <g id=\"line2d_2\">\n",
       "      <g>\n",
       "       <use style=\"stroke:#000000;stroke-width:0.8;\" x=\"159.173554\" xlink:href=\"#mdbac48e30f\" y=\"252\"/>\n",
       "      </g>\n",
       "     </g>\n",
       "     <g id=\"text_2\">\n",
       "      <!-- 5 -->\n",
       "      <defs>\n",
       "       <path d=\"M 10.796875 72.90625  L 49.515625 72.90625  L 49.515625 64.59375  L 19.828125 64.59375  L 19.828125 46.734375  Q 21.96875 47.46875 24.109375 47.828125  Q 26.265625 48.1875 28.421875 48.1875  Q 40.625 48.1875 47.75 41.5  Q 54.890625 34.8125 54.890625 23.390625  Q 54.890625 11.625 47.5625 5.09375  Q 40.234375 -1.421875 26.90625 -1.421875  Q 22.3125 -1.421875 17.546875 -0.640625  Q 12.796875 0.140625 7.71875 1.703125  L 7.71875 11.625  Q 12.109375 9.234375 16.796875 8.0625  Q 21.484375 6.890625 26.703125 6.890625  Q 35.15625 6.890625 40.078125 11.328125  Q 45.015625 15.765625 45.015625 23.390625  Q 45.015625 31 40.078125 35.4375  Q 35.15625 39.890625 26.703125 39.890625  Q 22.75 39.890625 18.8125 39.015625  Q 14.890625 38.140625 10.796875 36.28125  z \" id=\"DejaVuSans-35\"/>\n",
       "      </defs>\n",
       "      <g transform=\"translate(155.992304 266.598437)scale(0.1 -0.1)\">\n",
       "       <use xlink:href=\"#DejaVuSans-35\"/>\n",
       "      </g>\n",
       "     </g>\n",
       "    </g>\n",
       "    <g id=\"xtick_3\">\n",
       "     <g id=\"line2d_3\">\n",
       "      <g>\n",
       "       <use style=\"stroke:#000000;stroke-width:0.8;\" x=\"216.818182\" xlink:href=\"#mdbac48e30f\" y=\"252\"/>\n",
       "      </g>\n",
       "     </g>\n",
       "     <g id=\"text_3\">\n",
       "      <!-- 10 -->\n",
       "      <defs>\n",
       "       <path d=\"M 12.40625 8.296875  L 28.515625 8.296875  L 28.515625 63.921875  L 10.984375 60.40625  L 10.984375 69.390625  L 28.421875 72.90625  L 38.28125 72.90625  L 38.28125 8.296875  L 54.390625 8.296875  L 54.390625 0  L 12.40625 0  z \" id=\"DejaVuSans-31\"/>\n",
       "      </defs>\n",
       "      <g transform=\"translate(210.455682 266.598437)scale(0.1 -0.1)\">\n",
       "       <use xlink:href=\"#DejaVuSans-31\"/>\n",
       "       <use x=\"63.623047\" xlink:href=\"#DejaVuSans-30\"/>\n",
       "      </g>\n",
       "     </g>\n",
       "    </g>\n",
       "    <g id=\"xtick_4\">\n",
       "     <g id=\"line2d_4\">\n",
       "      <g>\n",
       "       <use style=\"stroke:#000000;stroke-width:0.8;\" x=\"274.46281\" xlink:href=\"#mdbac48e30f\" y=\"252\"/>\n",
       "      </g>\n",
       "     </g>\n",
       "     <g id=\"text_4\">\n",
       "      <!-- 15 -->\n",
       "      <g transform=\"translate(268.10031 266.598437)scale(0.1 -0.1)\">\n",
       "       <use xlink:href=\"#DejaVuSans-31\"/>\n",
       "       <use x=\"63.623047\" xlink:href=\"#DejaVuSans-35\"/>\n",
       "      </g>\n",
       "     </g>\n",
       "    </g>\n",
       "    <g id=\"xtick_5\">\n",
       "     <g id=\"line2d_5\">\n",
       "      <g>\n",
       "       <use style=\"stroke:#000000;stroke-width:0.8;\" x=\"332.107438\" xlink:href=\"#mdbac48e30f\" y=\"252\"/>\n",
       "      </g>\n",
       "     </g>\n",
       "     <g id=\"text_5\">\n",
       "      <!-- 20 -->\n",
       "      <defs>\n",
       "       <path d=\"M 19.1875 8.296875  L 53.609375 8.296875  L 53.609375 0  L 7.328125 0  L 7.328125 8.296875  Q 12.9375 14.109375 22.625 23.890625  Q 32.328125 33.6875 34.8125 36.53125  Q 39.546875 41.84375 41.421875 45.53125  Q 43.3125 49.21875 43.3125 52.78125  Q 43.3125 58.59375 39.234375 62.25  Q 35.15625 65.921875 28.609375 65.921875  Q 23.96875 65.921875 18.8125 64.3125  Q 13.671875 62.703125 7.8125 59.421875  L 7.8125 69.390625  Q 13.765625 71.78125 18.9375 73  Q 24.125 74.21875 28.421875 74.21875  Q 39.75 74.21875 46.484375 68.546875  Q 53.21875 62.890625 53.21875 53.421875  Q 53.21875 48.921875 51.53125 44.890625  Q 49.859375 40.875 45.40625 35.40625  Q 44.1875 33.984375 37.640625 27.21875  Q 31.109375 20.453125 19.1875 8.296875  z \" id=\"DejaVuSans-32\"/>\n",
       "      </defs>\n",
       "      <g transform=\"translate(325.744938 266.598437)scale(0.1 -0.1)\">\n",
       "       <use xlink:href=\"#DejaVuSans-32\"/>\n",
       "       <use x=\"63.623047\" xlink:href=\"#DejaVuSans-30\"/>\n",
       "      </g>\n",
       "     </g>\n",
       "    </g>\n",
       "    <g id=\"text_6\">\n",
       "     <!-- Epoch -->\n",
       "     <defs>\n",
       "      <path d=\"M 9.8125 72.90625  L 55.90625 72.90625  L 55.90625 64.59375  L 19.671875 64.59375  L 19.671875 43.015625  L 54.390625 43.015625  L 54.390625 34.71875  L 19.671875 34.71875  L 19.671875 8.296875  L 56.78125 8.296875  L 56.78125 0  L 9.8125 0  z \" id=\"DejaVuSans-45\"/>\n",
       "      <path d=\"M 18.109375 8.203125  L 18.109375 -20.796875  L 9.078125 -20.796875  L 9.078125 54.6875  L 18.109375 54.6875  L 18.109375 46.390625  Q 20.953125 51.265625 25.265625 53.625  Q 29.59375 56 35.59375 56  Q 45.5625 56 51.78125 48.09375  Q 58.015625 40.1875 58.015625 27.296875  Q 58.015625 14.40625 51.78125 6.484375  Q 45.5625 -1.421875 35.59375 -1.421875  Q 29.59375 -1.421875 25.265625 0.953125  Q 20.953125 3.328125 18.109375 8.203125  z M 48.6875 27.296875  Q 48.6875 37.203125 44.609375 42.84375  Q 40.53125 48.484375 33.40625 48.484375  Q 26.265625 48.484375 22.1875 42.84375  Q 18.109375 37.203125 18.109375 27.296875  Q 18.109375 17.390625 22.1875 11.75  Q 26.265625 6.109375 33.40625 6.109375  Q 40.53125 6.109375 44.609375 11.75  Q 48.6875 17.390625 48.6875 27.296875  z \" id=\"DejaVuSans-70\"/>\n",
       "      <path d=\"M 30.609375 48.390625  Q 23.390625 48.390625 19.1875 42.75  Q 14.984375 37.109375 14.984375 27.296875  Q 14.984375 17.484375 19.15625 11.84375  Q 23.34375 6.203125 30.609375 6.203125  Q 37.796875 6.203125 41.984375 11.859375  Q 46.1875 17.53125 46.1875 27.296875  Q 46.1875 37.015625 41.984375 42.703125  Q 37.796875 48.390625 30.609375 48.390625  z M 30.609375 56  Q 42.328125 56 49.015625 48.375  Q 55.71875 40.765625 55.71875 27.296875  Q 55.71875 13.875 49.015625 6.21875  Q 42.328125 -1.421875 30.609375 -1.421875  Q 18.84375 -1.421875 12.171875 6.21875  Q 5.515625 13.875 5.515625 27.296875  Q 5.515625 40.765625 12.171875 48.375  Q 18.84375 56 30.609375 56  z \" id=\"DejaVuSans-6f\"/>\n",
       "      <path d=\"M 48.78125 52.59375  L 48.78125 44.1875  Q 44.96875 46.296875 41.140625 47.34375  Q 37.3125 48.390625 33.40625 48.390625  Q 24.65625 48.390625 19.8125 42.84375  Q 14.984375 37.3125 14.984375 27.296875  Q 14.984375 17.28125 19.8125 11.734375  Q 24.65625 6.203125 33.40625 6.203125  Q 37.3125 6.203125 41.140625 7.25  Q 44.96875 8.296875 48.78125 10.40625  L 48.78125 2.09375  Q 45.015625 0.34375 40.984375 -0.53125  Q 36.96875 -1.421875 32.421875 -1.421875  Q 20.0625 -1.421875 12.78125 6.34375  Q 5.515625 14.109375 5.515625 27.296875  Q 5.515625 40.671875 12.859375 48.328125  Q 20.21875 56 33.015625 56  Q 37.15625 56 41.109375 55.140625  Q 45.0625 54.296875 48.78125 52.59375  z \" id=\"DejaVuSans-63\"/>\n",
       "      <path d=\"M 54.890625 33.015625  L 54.890625 0  L 45.90625 0  L 45.90625 32.71875  Q 45.90625 40.484375 42.875 44.328125  Q 39.84375 48.1875 33.796875 48.1875  Q 26.515625 48.1875 22.3125 43.546875  Q 18.109375 38.921875 18.109375 30.90625  L 18.109375 0  L 9.078125 0  L 9.078125 75.984375  L 18.109375 75.984375  L 18.109375 46.1875  Q 21.34375 51.125 25.703125 53.5625  Q 30.078125 56 35.796875 56  Q 45.21875 56 50.046875 50.171875  Q 54.890625 44.34375 54.890625 33.015625  z \" id=\"DejaVuSans-68\"/>\n",
       "     </defs>\n",
       "     <g transform=\"translate(201.507244 280.276563)scale(0.1 -0.1)\">\n",
       "      <use xlink:href=\"#DejaVuSans-45\"/>\n",
       "      <use x=\"63.183594\" xlink:href=\"#DejaVuSans-70\"/>\n",
       "      <use x=\"126.660156\" xlink:href=\"#DejaVuSans-6f\"/>\n",
       "      <use x=\"187.841797\" xlink:href=\"#DejaVuSans-63\"/>\n",
       "      <use x=\"242.822266\" xlink:href=\"#DejaVuSans-68\"/>\n",
       "     </g>\n",
       "    </g>\n",
       "   </g>\n",
       "   <g id=\"matplotlib.axis_2\">\n",
       "    <g id=\"ytick_1\">\n",
       "     <g id=\"line2d_6\">\n",
       "      <defs>\n",
       "       <path d=\"M 0 0  L -3.5 0  \" id=\"m4db12f1587\" style=\"stroke:#000000;stroke-width:0.8;\"/>\n",
       "      </defs>\n",
       "      <g>\n",
       "       <use style=\"stroke:#000000;stroke-width:0.8;\" x=\"90\" xlink:href=\"#m4db12f1587\" y=\"252\"/>\n",
       "      </g>\n",
       "     </g>\n",
       "     <g id=\"text_7\">\n",
       "      <!-- 0.0 -->\n",
       "      <defs>\n",
       "       <path d=\"M 10.6875 12.40625  L 21 12.40625  L 21 0  L 10.6875 0  z \" id=\"DejaVuSans-2e\"/>\n",
       "      </defs>\n",
       "      <g transform=\"translate(67.096875 255.799219)scale(0.1 -0.1)\">\n",
       "       <use xlink:href=\"#DejaVuSans-30\"/>\n",
       "       <use x=\"63.623047\" xlink:href=\"#DejaVuSans-2e\"/>\n",
       "       <use x=\"95.410156\" xlink:href=\"#DejaVuSans-30\"/>\n",
       "      </g>\n",
       "     </g>\n",
       "    </g>\n",
       "    <g id=\"ytick_2\">\n",
       "     <g id=\"line2d_7\">\n",
       "      <g>\n",
       "       <use style=\"stroke:#000000;stroke-width:0.8;\" x=\"90\" xlink:href=\"#m4db12f1587\" y=\"209.562996\"/>\n",
       "      </g>\n",
       "     </g>\n",
       "     <g id=\"text_8\">\n",
       "      <!-- 0.5 -->\n",
       "      <g transform=\"translate(67.096875 213.362215)scale(0.1 -0.1)\">\n",
       "       <use xlink:href=\"#DejaVuSans-30\"/>\n",
       "       <use x=\"63.623047\" xlink:href=\"#DejaVuSans-2e\"/>\n",
       "       <use x=\"95.410156\" xlink:href=\"#DejaVuSans-35\"/>\n",
       "      </g>\n",
       "     </g>\n",
       "    </g>\n",
       "    <g id=\"ytick_3\">\n",
       "     <g id=\"line2d_8\">\n",
       "      <g>\n",
       "       <use style=\"stroke:#000000;stroke-width:0.8;\" x=\"90\" xlink:href=\"#m4db12f1587\" y=\"167.125992\"/>\n",
       "      </g>\n",
       "     </g>\n",
       "     <g id=\"text_9\">\n",
       "      <!-- 1.0 -->\n",
       "      <g transform=\"translate(67.096875 170.925211)scale(0.1 -0.1)\">\n",
       "       <use xlink:href=\"#DejaVuSans-31\"/>\n",
       "       <use x=\"63.623047\" xlink:href=\"#DejaVuSans-2e\"/>\n",
       "       <use x=\"95.410156\" xlink:href=\"#DejaVuSans-30\"/>\n",
       "      </g>\n",
       "     </g>\n",
       "    </g>\n",
       "    <g id=\"ytick_4\">\n",
       "     <g id=\"line2d_9\">\n",
       "      <g>\n",
       "       <use style=\"stroke:#000000;stroke-width:0.8;\" x=\"90\" xlink:href=\"#m4db12f1587\" y=\"124.688989\"/>\n",
       "      </g>\n",
       "     </g>\n",
       "     <g id=\"text_10\">\n",
       "      <!-- 1.5 -->\n",
       "      <g transform=\"translate(67.096875 128.488207)scale(0.1 -0.1)\">\n",
       "       <use xlink:href=\"#DejaVuSans-31\"/>\n",
       "       <use x=\"63.623047\" xlink:href=\"#DejaVuSans-2e\"/>\n",
       "       <use x=\"95.410156\" xlink:href=\"#DejaVuSans-35\"/>\n",
       "      </g>\n",
       "     </g>\n",
       "    </g>\n",
       "    <g id=\"ytick_5\">\n",
       "     <g id=\"line2d_10\">\n",
       "      <g>\n",
       "       <use style=\"stroke:#000000;stroke-width:0.8;\" x=\"90\" xlink:href=\"#m4db12f1587\" y=\"82.251985\"/>\n",
       "      </g>\n",
       "     </g>\n",
       "     <g id=\"text_11\">\n",
       "      <!-- 2.0 -->\n",
       "      <g transform=\"translate(67.096875 86.051203)scale(0.1 -0.1)\">\n",
       "       <use xlink:href=\"#DejaVuSans-32\"/>\n",
       "       <use x=\"63.623047\" xlink:href=\"#DejaVuSans-2e\"/>\n",
       "       <use x=\"95.410156\" xlink:href=\"#DejaVuSans-30\"/>\n",
       "      </g>\n",
       "     </g>\n",
       "    </g>\n",
       "    <g id=\"ytick_6\">\n",
       "     <g id=\"line2d_11\">\n",
       "      <g>\n",
       "       <use style=\"stroke:#000000;stroke-width:0.8;\" x=\"90\" xlink:href=\"#m4db12f1587\" y=\"39.814981\"/>\n",
       "      </g>\n",
       "     </g>\n",
       "     <g id=\"text_12\">\n",
       "      <!-- 2.5 -->\n",
       "      <g transform=\"translate(67.096875 43.6142)scale(0.1 -0.1)\">\n",
       "       <use xlink:href=\"#DejaVuSans-32\"/>\n",
       "       <use x=\"63.623047\" xlink:href=\"#DejaVuSans-2e\"/>\n",
       "       <use x=\"95.410156\" xlink:href=\"#DejaVuSans-35\"/>\n",
       "      </g>\n",
       "     </g>\n",
       "    </g>\n",
       "   </g>\n",
       "   <g id=\"line2d_12\">\n",
       "    <path clip-path=\"url(#p194185ef3d)\" d=\"M 101.528926 40.251152  L 113.057851 35.838935  L 124.586777 53.832553  L 136.115702 56.304879  L 147.644628 55.613338  L 159.173554 57.961193  L 170.702479 58.65463  L 182.231405 57.345651  L 193.760331 58.601757  L 205.289256 58.350631  L 216.818182 58.324407  L 228.347107 57.411685  L 239.876033 60.105615  L 251.404959 58.110749  L 262.933884 60.676182  L 274.46281 60.157931  L 285.991736 59.834272  L 297.520661 61.417635  L 309.049587 60.547828  L 320.578512 60.482673  L 332.107438 60.068476  \" style=\"fill:none;stroke:#1f77b4;stroke-linecap:square;stroke-width:1.5;\"/>\n",
       "   </g>\n",
       "   <g id=\"patch_3\">\n",
       "    <path d=\"M 90 252  L 90 34.56  \" style=\"fill:none;stroke:#000000;stroke-linecap:square;stroke-linejoin:miter;stroke-width:0.8;\"/>\n",
       "   </g>\n",
       "   <g id=\"patch_4\">\n",
       "    <path d=\"M 343.636364 252  L 343.636364 34.56  \" style=\"fill:none;stroke:#000000;stroke-linecap:square;stroke-linejoin:miter;stroke-width:0.8;\"/>\n",
       "   </g>\n",
       "   <g id=\"patch_5\">\n",
       "    <path d=\"M 90 252  L 343.636364 252  \" style=\"fill:none;stroke:#000000;stroke-linecap:square;stroke-linejoin:miter;stroke-width:0.8;\"/>\n",
       "   </g>\n",
       "   <g id=\"patch_6\">\n",
       "    <path d=\"M 90 34.56  L 343.636364 34.56  \" style=\"fill:none;stroke:#000000;stroke-linecap:square;stroke-linejoin:miter;stroke-width:0.8;\"/>\n",
       "   </g>\n",
       "   <g id=\"text_13\">\n",
       "    <!-- Finger Math: Error -->\n",
       "    <defs>\n",
       "     <path d=\"M 9.8125 72.90625  L 51.703125 72.90625  L 51.703125 64.59375  L 19.671875 64.59375  L 19.671875 43.109375  L 48.578125 43.109375  L 48.578125 34.8125  L 19.671875 34.8125  L 19.671875 0  L 9.8125 0  z \" id=\"DejaVuSans-46\"/>\n",
       "     <path d=\"M 9.421875 54.6875  L 18.40625 54.6875  L 18.40625 0  L 9.421875 0  z M 9.421875 75.984375  L 18.40625 75.984375  L 18.40625 64.59375  L 9.421875 64.59375  z \" id=\"DejaVuSans-69\"/>\n",
       "     <path d=\"M 54.890625 33.015625  L 54.890625 0  L 45.90625 0  L 45.90625 32.71875  Q 45.90625 40.484375 42.875 44.328125  Q 39.84375 48.1875 33.796875 48.1875  Q 26.515625 48.1875 22.3125 43.546875  Q 18.109375 38.921875 18.109375 30.90625  L 18.109375 0  L 9.078125 0  L 9.078125 54.6875  L 18.109375 54.6875  L 18.109375 46.1875  Q 21.34375 51.125 25.703125 53.5625  Q 30.078125 56 35.796875 56  Q 45.21875 56 50.046875 50.171875  Q 54.890625 44.34375 54.890625 33.015625  z \" id=\"DejaVuSans-6e\"/>\n",
       "     <path d=\"M 45.40625 27.984375  Q 45.40625 37.75 41.375 43.109375  Q 37.359375 48.484375 30.078125 48.484375  Q 22.859375 48.484375 18.828125 43.109375  Q 14.796875 37.75 14.796875 27.984375  Q 14.796875 18.265625 18.828125 12.890625  Q 22.859375 7.515625 30.078125 7.515625  Q 37.359375 7.515625 41.375 12.890625  Q 45.40625 18.265625 45.40625 27.984375  z M 54.390625 6.78125  Q 54.390625 -7.171875 48.1875 -13.984375  Q 42 -20.796875 29.203125 -20.796875  Q 24.46875 -20.796875 20.265625 -20.09375  Q 16.0625 -19.390625 12.109375 -17.921875  L 12.109375 -9.1875  Q 16.0625 -11.328125 19.921875 -12.34375  Q 23.78125 -13.375 27.78125 -13.375  Q 36.625 -13.375 41.015625 -8.765625  Q 45.40625 -4.15625 45.40625 5.171875  L 45.40625 9.625  Q 42.625 4.78125 38.28125 2.390625  Q 33.9375 0 27.875 0  Q 17.828125 0 11.671875 7.65625  Q 5.515625 15.328125 5.515625 27.984375  Q 5.515625 40.671875 11.671875 48.328125  Q 17.828125 56 27.875 56  Q 33.9375 56 38.28125 53.609375  Q 42.625 51.21875 45.40625 46.390625  L 45.40625 54.6875  L 54.390625 54.6875  z \" id=\"DejaVuSans-67\"/>\n",
       "     <path d=\"M 56.203125 29.59375  L 56.203125 25.203125  L 14.890625 25.203125  Q 15.484375 15.921875 20.484375 11.0625  Q 25.484375 6.203125 34.421875 6.203125  Q 39.59375 6.203125 44.453125 7.46875  Q 49.3125 8.734375 54.109375 11.28125  L 54.109375 2.78125  Q 49.265625 0.734375 44.1875 -0.34375  Q 39.109375 -1.421875 33.890625 -1.421875  Q 20.796875 -1.421875 13.15625 6.1875  Q 5.515625 13.8125 5.515625 26.8125  Q 5.515625 40.234375 12.765625 48.109375  Q 20.015625 56 32.328125 56  Q 43.359375 56 49.78125 48.890625  Q 56.203125 41.796875 56.203125 29.59375  z M 47.21875 32.234375  Q 47.125 39.59375 43.09375 43.984375  Q 39.0625 48.390625 32.421875 48.390625  Q 24.90625 48.390625 20.390625 44.140625  Q 15.875 39.890625 15.1875 32.171875  z \" id=\"DejaVuSans-65\"/>\n",
       "     <path d=\"M 41.109375 46.296875  Q 39.59375 47.171875 37.8125 47.578125  Q 36.03125 48 33.890625 48  Q 26.265625 48 22.1875 43.046875  Q 18.109375 38.09375 18.109375 28.8125  L 18.109375 0  L 9.078125 0  L 9.078125 54.6875  L 18.109375 54.6875  L 18.109375 46.1875  Q 20.953125 51.171875 25.484375 53.578125  Q 30.03125 56 36.53125 56  Q 37.453125 56 38.578125 55.875  Q 39.703125 55.765625 41.0625 55.515625  z \" id=\"DejaVuSans-72\"/>\n",
       "     <path id=\"DejaVuSans-20\"/>\n",
       "     <path d=\"M 9.8125 72.90625  L 24.515625 72.90625  L 43.109375 23.296875  L 61.8125 72.90625  L 76.515625 72.90625  L 76.515625 0  L 66.890625 0  L 66.890625 64.015625  L 48.09375 14.015625  L 38.1875 14.015625  L 19.390625 64.015625  L 19.390625 0  L 9.8125 0  z \" id=\"DejaVuSans-4d\"/>\n",
       "     <path d=\"M 34.28125 27.484375  Q 23.390625 27.484375 19.1875 25  Q 14.984375 22.515625 14.984375 16.5  Q 14.984375 11.71875 18.140625 8.90625  Q 21.296875 6.109375 26.703125 6.109375  Q 34.1875 6.109375 38.703125 11.40625  Q 43.21875 16.703125 43.21875 25.484375  L 43.21875 27.484375  z M 52.203125 31.203125  L 52.203125 0  L 43.21875 0  L 43.21875 8.296875  Q 40.140625 3.328125 35.546875 0.953125  Q 30.953125 -1.421875 24.3125 -1.421875  Q 15.921875 -1.421875 10.953125 3.296875  Q 6 8.015625 6 15.921875  Q 6 25.140625 12.171875 29.828125  Q 18.359375 34.515625 30.609375 34.515625  L 43.21875 34.515625  L 43.21875 35.40625  Q 43.21875 41.609375 39.140625 45  Q 35.0625 48.390625 27.6875 48.390625  Q 23 48.390625 18.546875 47.265625  Q 14.109375 46.140625 10.015625 43.890625  L 10.015625 52.203125  Q 14.9375 54.109375 19.578125 55.046875  Q 24.21875 56 28.609375 56  Q 40.484375 56 46.34375 49.84375  Q 52.203125 43.703125 52.203125 31.203125  z \" id=\"DejaVuSans-61\"/>\n",
       "     <path d=\"M 18.3125 70.21875  L 18.3125 54.6875  L 36.8125 54.6875  L 36.8125 47.703125  L 18.3125 47.703125  L 18.3125 18.015625  Q 18.3125 11.328125 20.140625 9.421875  Q 21.96875 7.515625 27.59375 7.515625  L 36.8125 7.515625  L 36.8125 0  L 27.59375 0  Q 17.1875 0 13.234375 3.875  Q 9.28125 7.765625 9.28125 18.015625  L 9.28125 47.703125  L 2.6875 47.703125  L 2.6875 54.6875  L 9.28125 54.6875  L 9.28125 70.21875  z \" id=\"DejaVuSans-74\"/>\n",
       "     <path d=\"M 11.71875 12.40625  L 22.015625 12.40625  L 22.015625 0  L 11.71875 0  z M 11.71875 51.703125  L 22.015625 51.703125  L 22.015625 39.3125  L 11.71875 39.3125  z \" id=\"DejaVuSans-3a\"/>\n",
       "    </defs>\n",
       "    <g transform=\"translate(162.234119 28.56)scale(0.12 -0.12)\">\n",
       "     <use xlink:href=\"#DejaVuSans-46\"/>\n",
       "     <use x=\"57.410156\" xlink:href=\"#DejaVuSans-69\"/>\n",
       "     <use x=\"85.193359\" xlink:href=\"#DejaVuSans-6e\"/>\n",
       "     <use x=\"148.572266\" xlink:href=\"#DejaVuSans-67\"/>\n",
       "     <use x=\"212.048828\" xlink:href=\"#DejaVuSans-65\"/>\n",
       "     <use x=\"273.572266\" xlink:href=\"#DejaVuSans-72\"/>\n",
       "     <use x=\"314.685547\" xlink:href=\"#DejaVuSans-20\"/>\n",
       "     <use x=\"346.472656\" xlink:href=\"#DejaVuSans-4d\"/>\n",
       "     <use x=\"432.751953\" xlink:href=\"#DejaVuSans-61\"/>\n",
       "     <use x=\"494.03125\" xlink:href=\"#DejaVuSans-74\"/>\n",
       "     <use x=\"533.240234\" xlink:href=\"#DejaVuSans-68\"/>\n",
       "     <use x=\"596.619141\" xlink:href=\"#DejaVuSans-3a\"/>\n",
       "     <use x=\"630.310547\" xlink:href=\"#DejaVuSans-20\"/>\n",
       "     <use x=\"662.097656\" xlink:href=\"#DejaVuSans-45\"/>\n",
       "     <use x=\"725.28125\" xlink:href=\"#DejaVuSans-72\"/>\n",
       "     <use x=\"766.378906\" xlink:href=\"#DejaVuSans-72\"/>\n",
       "     <use x=\"807.460938\" xlink:href=\"#DejaVuSans-6f\"/>\n",
       "     <use x=\"868.642578\" xlink:href=\"#DejaVuSans-72\"/>\n",
       "    </g>\n",
       "   </g>\n",
       "   <g id=\"legend_1\">\n",
       "    <g id=\"patch_7\">\n",
       "     <path d=\"M 245.270739 57.238125  L 336.636364 57.238125  Q 338.636364 57.238125 338.636364 55.238125  L 338.636364 41.56  Q 338.636364 39.56 336.636364 39.56  L 245.270739 39.56  Q 243.270739 39.56 243.270739 41.56  L 243.270739 55.238125  Q 243.270739 57.238125 245.270739 57.238125  z \" style=\"fill:#ffffff;opacity:0.8;stroke:#cccccc;stroke-linejoin:miter;\"/>\n",
       "    </g>\n",
       "    <g id=\"line2d_13\">\n",
       "     <path d=\"M 247.270739 47.658437  L 267.270739 47.658437  \" style=\"fill:none;stroke:#1f77b4;stroke-linecap:square;stroke-width:1.5;\"/>\n",
       "    </g>\n",
       "    <g id=\"line2d_14\"/>\n",
       "    <g id=\"text_14\">\n",
       "     <!-- Training set -->\n",
       "     <defs>\n",
       "      <path d=\"M -0.296875 72.90625  L 61.375 72.90625  L 61.375 64.59375  L 35.5 64.59375  L 35.5 0  L 25.59375 0  L 25.59375 64.59375  L -0.296875 64.59375  z \" id=\"DejaVuSans-54\"/>\n",
       "      <path d=\"M 44.28125 53.078125  L 44.28125 44.578125  Q 40.484375 46.53125 36.375 47.5  Q 32.28125 48.484375 27.875 48.484375  Q 21.1875 48.484375 17.84375 46.4375  Q 14.5 44.390625 14.5 40.28125  Q 14.5 37.15625 16.890625 35.375  Q 19.28125 33.59375 26.515625 31.984375  L 29.59375 31.296875  Q 39.15625 29.25 43.1875 25.515625  Q 47.21875 21.78125 47.21875 15.09375  Q 47.21875 7.46875 41.1875 3.015625  Q 35.15625 -1.421875 24.609375 -1.421875  Q 20.21875 -1.421875 15.453125 -0.5625  Q 10.6875 0.296875 5.421875 2  L 5.421875 11.28125  Q 10.40625 8.6875 15.234375 7.390625  Q 20.0625 6.109375 24.8125 6.109375  Q 31.15625 6.109375 34.5625 8.28125  Q 37.984375 10.453125 37.984375 14.40625  Q 37.984375 18.0625 35.515625 20.015625  Q 33.0625 21.96875 24.703125 23.78125  L 21.578125 24.515625  Q 13.234375 26.265625 9.515625 29.90625  Q 5.8125 33.546875 5.8125 39.890625  Q 5.8125 47.609375 11.28125 51.796875  Q 16.75 56 26.8125 56  Q 31.78125 56 36.171875 55.265625  Q 40.578125 54.546875 44.28125 53.078125  z \" id=\"DejaVuSans-73\"/>\n",
       "     </defs>\n",
       "     <g transform=\"translate(275.270739 51.158437)scale(0.1 -0.1)\">\n",
       "      <use xlink:href=\"#DejaVuSans-54\"/>\n",
       "      <use x=\"60.865234\" xlink:href=\"#DejaVuSans-72\"/>\n",
       "      <use x=\"101.978516\" xlink:href=\"#DejaVuSans-61\"/>\n",
       "      <use x=\"163.257812\" xlink:href=\"#DejaVuSans-69\"/>\n",
       "      <use x=\"191.041016\" xlink:href=\"#DejaVuSans-6e\"/>\n",
       "      <use x=\"254.419922\" xlink:href=\"#DejaVuSans-69\"/>\n",
       "      <use x=\"282.203125\" xlink:href=\"#DejaVuSans-6e\"/>\n",
       "      <use x=\"345.582031\" xlink:href=\"#DejaVuSans-67\"/>\n",
       "      <use x=\"409.058594\" xlink:href=\"#DejaVuSans-20\"/>\n",
       "      <use x=\"440.845703\" xlink:href=\"#DejaVuSans-73\"/>\n",
       "      <use x=\"492.945312\" xlink:href=\"#DejaVuSans-65\"/>\n",
       "      <use x=\"554.46875\" xlink:href=\"#DejaVuSans-74\"/>\n",
       "     </g>\n",
       "    </g>\n",
       "   </g>\n",
       "  </g>\n",
       "  <g id=\"axes_2\">\n",
       "   <g id=\"patch_8\">\n",
       "    <path d=\"M 394.363636 252  L 648 252  L 648 34.56  L 394.363636 34.56  z \" style=\"fill:#ffffff;\"/>\n",
       "   </g>\n",
       "   <g id=\"matplotlib.axis_3\">\n",
       "    <g id=\"xtick_6\">\n",
       "     <g id=\"line2d_15\">\n",
       "      <g>\n",
       "       <use style=\"stroke:#000000;stroke-width:0.8;\" x=\"405.892562\" xlink:href=\"#mdbac48e30f\" y=\"252\"/>\n",
       "      </g>\n",
       "     </g>\n",
       "     <g id=\"text_15\">\n",
       "      <!-- 0 -->\n",
       "      <g transform=\"translate(402.711312 266.598437)scale(0.1 -0.1)\">\n",
       "       <use xlink:href=\"#DejaVuSans-30\"/>\n",
       "      </g>\n",
       "     </g>\n",
       "    </g>\n",
       "    <g id=\"xtick_7\">\n",
       "     <g id=\"line2d_16\">\n",
       "      <g>\n",
       "       <use style=\"stroke:#000000;stroke-width:0.8;\" x=\"463.53719\" xlink:href=\"#mdbac48e30f\" y=\"252\"/>\n",
       "      </g>\n",
       "     </g>\n",
       "     <g id=\"text_16\">\n",
       "      <!-- 5 -->\n",
       "      <g transform=\"translate(460.35594 266.598437)scale(0.1 -0.1)\">\n",
       "       <use xlink:href=\"#DejaVuSans-35\"/>\n",
       "      </g>\n",
       "     </g>\n",
       "    </g>\n",
       "    <g id=\"xtick_8\">\n",
       "     <g id=\"line2d_17\">\n",
       "      <g>\n",
       "       <use style=\"stroke:#000000;stroke-width:0.8;\" x=\"521.181818\" xlink:href=\"#mdbac48e30f\" y=\"252\"/>\n",
       "      </g>\n",
       "     </g>\n",
       "     <g id=\"text_17\">\n",
       "      <!-- 10 -->\n",
       "      <g transform=\"translate(514.819318 266.598437)scale(0.1 -0.1)\">\n",
       "       <use xlink:href=\"#DejaVuSans-31\"/>\n",
       "       <use x=\"63.623047\" xlink:href=\"#DejaVuSans-30\"/>\n",
       "      </g>\n",
       "     </g>\n",
       "    </g>\n",
       "    <g id=\"xtick_9\">\n",
       "     <g id=\"line2d_18\">\n",
       "      <g>\n",
       "       <use style=\"stroke:#000000;stroke-width:0.8;\" x=\"578.826446\" xlink:href=\"#mdbac48e30f\" y=\"252\"/>\n",
       "      </g>\n",
       "     </g>\n",
       "     <g id=\"text_18\">\n",
       "      <!-- 15 -->\n",
       "      <g transform=\"translate(572.463946 266.598437)scale(0.1 -0.1)\">\n",
       "       <use xlink:href=\"#DejaVuSans-31\"/>\n",
       "       <use x=\"63.623047\" xlink:href=\"#DejaVuSans-35\"/>\n",
       "      </g>\n",
       "     </g>\n",
       "    </g>\n",
       "    <g id=\"xtick_10\">\n",
       "     <g id=\"line2d_19\">\n",
       "      <g>\n",
       "       <use style=\"stroke:#000000;stroke-width:0.8;\" x=\"636.471074\" xlink:href=\"#mdbac48e30f\" y=\"252\"/>\n",
       "      </g>\n",
       "     </g>\n",
       "     <g id=\"text_19\">\n",
       "      <!-- 20 -->\n",
       "      <g transform=\"translate(630.108574 266.598437)scale(0.1 -0.1)\">\n",
       "       <use xlink:href=\"#DejaVuSans-32\"/>\n",
       "       <use x=\"63.623047\" xlink:href=\"#DejaVuSans-30\"/>\n",
       "      </g>\n",
       "     </g>\n",
       "    </g>\n",
       "    <g id=\"text_20\">\n",
       "     <!-- Epoch -->\n",
       "     <g transform=\"translate(505.870881 280.276563)scale(0.1 -0.1)\">\n",
       "      <use xlink:href=\"#DejaVuSans-45\"/>\n",
       "      <use x=\"63.183594\" xlink:href=\"#DejaVuSans-70\"/>\n",
       "      <use x=\"126.660156\" xlink:href=\"#DejaVuSans-6f\"/>\n",
       "      <use x=\"187.841797\" xlink:href=\"#DejaVuSans-63\"/>\n",
       "      <use x=\"242.822266\" xlink:href=\"#DejaVuSans-68\"/>\n",
       "     </g>\n",
       "    </g>\n",
       "   </g>\n",
       "   <g id=\"matplotlib.axis_4\">\n",
       "    <g id=\"ytick_7\">\n",
       "     <g id=\"line2d_20\">\n",
       "      <g>\n",
       "       <use style=\"stroke:#000000;stroke-width:0.8;\" x=\"394.363636\" xlink:href=\"#m4db12f1587\" y=\"233.88\"/>\n",
       "      </g>\n",
       "     </g>\n",
       "     <g id=\"text_21\">\n",
       "      <!-- 0.0 -->\n",
       "      <g transform=\"translate(371.460511 237.679219)scale(0.1 -0.1)\">\n",
       "       <use xlink:href=\"#DejaVuSans-30\"/>\n",
       "       <use x=\"63.623047\" xlink:href=\"#DejaVuSans-2e\"/>\n",
       "       <use x=\"95.410156\" xlink:href=\"#DejaVuSans-30\"/>\n",
       "      </g>\n",
       "     </g>\n",
       "    </g>\n",
       "    <g id=\"ytick_8\">\n",
       "     <g id=\"line2d_21\">\n",
       "      <g>\n",
       "       <use style=\"stroke:#000000;stroke-width:0.8;\" x=\"394.363636\" xlink:href=\"#m4db12f1587\" y=\"197.64\"/>\n",
       "      </g>\n",
       "     </g>\n",
       "     <g id=\"text_22\">\n",
       "      <!-- 0.2 -->\n",
       "      <g transform=\"translate(371.460511 201.439219)scale(0.1 -0.1)\">\n",
       "       <use xlink:href=\"#DejaVuSans-30\"/>\n",
       "       <use x=\"63.623047\" xlink:href=\"#DejaVuSans-2e\"/>\n",
       "       <use x=\"95.410156\" xlink:href=\"#DejaVuSans-32\"/>\n",
       "      </g>\n",
       "     </g>\n",
       "    </g>\n",
       "    <g id=\"ytick_9\">\n",
       "     <g id=\"line2d_22\">\n",
       "      <g>\n",
       "       <use style=\"stroke:#000000;stroke-width:0.8;\" x=\"394.363636\" xlink:href=\"#m4db12f1587\" y=\"161.4\"/>\n",
       "      </g>\n",
       "     </g>\n",
       "     <g id=\"text_23\">\n",
       "      <!-- 0.4 -->\n",
       "      <defs>\n",
       "       <path d=\"M 37.796875 64.3125  L 12.890625 25.390625  L 37.796875 25.390625  z M 35.203125 72.90625  L 47.609375 72.90625  L 47.609375 25.390625  L 58.015625 25.390625  L 58.015625 17.1875  L 47.609375 17.1875  L 47.609375 0  L 37.796875 0  L 37.796875 17.1875  L 4.890625 17.1875  L 4.890625 26.703125  z \" id=\"DejaVuSans-34\"/>\n",
       "      </defs>\n",
       "      <g transform=\"translate(371.460511 165.199219)scale(0.1 -0.1)\">\n",
       "       <use xlink:href=\"#DejaVuSans-30\"/>\n",
       "       <use x=\"63.623047\" xlink:href=\"#DejaVuSans-2e\"/>\n",
       "       <use x=\"95.410156\" xlink:href=\"#DejaVuSans-34\"/>\n",
       "      </g>\n",
       "     </g>\n",
       "    </g>\n",
       "    <g id=\"ytick_10\">\n",
       "     <g id=\"line2d_23\">\n",
       "      <g>\n",
       "       <use style=\"stroke:#000000;stroke-width:0.8;\" x=\"394.363636\" xlink:href=\"#m4db12f1587\" y=\"125.16\"/>\n",
       "      </g>\n",
       "     </g>\n",
       "     <g id=\"text_24\">\n",
       "      <!-- 0.6 -->\n",
       "      <defs>\n",
       "       <path d=\"M 33.015625 40.375  Q 26.375 40.375 22.484375 35.828125  Q 18.609375 31.296875 18.609375 23.390625  Q 18.609375 15.53125 22.484375 10.953125  Q 26.375 6.390625 33.015625 6.390625  Q 39.65625 6.390625 43.53125 10.953125  Q 47.40625 15.53125 47.40625 23.390625  Q 47.40625 31.296875 43.53125 35.828125  Q 39.65625 40.375 33.015625 40.375  z M 52.59375 71.296875  L 52.59375 62.3125  Q 48.875 64.0625 45.09375 64.984375  Q 41.3125 65.921875 37.59375 65.921875  Q 27.828125 65.921875 22.671875 59.328125  Q 17.53125 52.734375 16.796875 39.40625  Q 19.671875 43.65625 24.015625 45.921875  Q 28.375 48.1875 33.59375 48.1875  Q 44.578125 48.1875 50.953125 41.515625  Q 57.328125 34.859375 57.328125 23.390625  Q 57.328125 12.15625 50.6875 5.359375  Q 44.046875 -1.421875 33.015625 -1.421875  Q 20.359375 -1.421875 13.671875 8.265625  Q 6.984375 17.96875 6.984375 36.375  Q 6.984375 53.65625 15.1875 63.9375  Q 23.390625 74.21875 37.203125 74.21875  Q 40.921875 74.21875 44.703125 73.484375  Q 48.484375 72.75 52.59375 71.296875  z \" id=\"DejaVuSans-36\"/>\n",
       "      </defs>\n",
       "      <g transform=\"translate(371.460511 128.959219)scale(0.1 -0.1)\">\n",
       "       <use xlink:href=\"#DejaVuSans-30\"/>\n",
       "       <use x=\"63.623047\" xlink:href=\"#DejaVuSans-2e\"/>\n",
       "       <use x=\"95.410156\" xlink:href=\"#DejaVuSans-36\"/>\n",
       "      </g>\n",
       "     </g>\n",
       "    </g>\n",
       "    <g id=\"ytick_11\">\n",
       "     <g id=\"line2d_24\">\n",
       "      <g>\n",
       "       <use style=\"stroke:#000000;stroke-width:0.8;\" x=\"394.363636\" xlink:href=\"#m4db12f1587\" y=\"88.92\"/>\n",
       "      </g>\n",
       "     </g>\n",
       "     <g id=\"text_25\">\n",
       "      <!-- 0.8 -->\n",
       "      <defs>\n",
       "       <path d=\"M 31.78125 34.625  Q 24.75 34.625 20.71875 30.859375  Q 16.703125 27.09375 16.703125 20.515625  Q 16.703125 13.921875 20.71875 10.15625  Q 24.75 6.390625 31.78125 6.390625  Q 38.8125 6.390625 42.859375 10.171875  Q 46.921875 13.96875 46.921875 20.515625  Q 46.921875 27.09375 42.890625 30.859375  Q 38.875 34.625 31.78125 34.625  z M 21.921875 38.8125  Q 15.578125 40.375 12.03125 44.71875  Q 8.5 49.078125 8.5 55.328125  Q 8.5 64.0625 14.71875 69.140625  Q 20.953125 74.21875 31.78125 74.21875  Q 42.671875 74.21875 48.875 69.140625  Q 55.078125 64.0625 55.078125 55.328125  Q 55.078125 49.078125 51.53125 44.71875  Q 48 40.375 41.703125 38.8125  Q 48.828125 37.15625 52.796875 32.3125  Q 56.78125 27.484375 56.78125 20.515625  Q 56.78125 9.90625 50.3125 4.234375  Q 43.84375 -1.421875 31.78125 -1.421875  Q 19.734375 -1.421875 13.25 4.234375  Q 6.78125 9.90625 6.78125 20.515625  Q 6.78125 27.484375 10.78125 32.3125  Q 14.796875 37.15625 21.921875 38.8125  z M 18.3125 54.390625  Q 18.3125 48.734375 21.84375 45.5625  Q 25.390625 42.390625 31.78125 42.390625  Q 38.140625 42.390625 41.71875 45.5625  Q 45.3125 48.734375 45.3125 54.390625  Q 45.3125 60.0625 41.71875 63.234375  Q 38.140625 66.40625 31.78125 66.40625  Q 25.390625 66.40625 21.84375 63.234375  Q 18.3125 60.0625 18.3125 54.390625  z \" id=\"DejaVuSans-38\"/>\n",
       "      </defs>\n",
       "      <g transform=\"translate(371.460511 92.719219)scale(0.1 -0.1)\">\n",
       "       <use xlink:href=\"#DejaVuSans-30\"/>\n",
       "       <use x=\"63.623047\" xlink:href=\"#DejaVuSans-2e\"/>\n",
       "       <use x=\"95.410156\" xlink:href=\"#DejaVuSans-38\"/>\n",
       "      </g>\n",
       "     </g>\n",
       "    </g>\n",
       "    <g id=\"ytick_12\">\n",
       "     <g id=\"line2d_25\">\n",
       "      <g>\n",
       "       <use style=\"stroke:#000000;stroke-width:0.8;\" x=\"394.363636\" xlink:href=\"#m4db12f1587\" y=\"52.68\"/>\n",
       "      </g>\n",
       "     </g>\n",
       "     <g id=\"text_26\">\n",
       "      <!-- 1.0 -->\n",
       "      <g transform=\"translate(371.460511 56.479219)scale(0.1 -0.1)\">\n",
       "       <use xlink:href=\"#DejaVuSans-31\"/>\n",
       "       <use x=\"63.623047\" xlink:href=\"#DejaVuSans-2e\"/>\n",
       "       <use x=\"95.410156\" xlink:href=\"#DejaVuSans-30\"/>\n",
       "      </g>\n",
       "     </g>\n",
       "    </g>\n",
       "   </g>\n",
       "   <g id=\"line2d_26\">\n",
       "    <path clip-path=\"url(#p8b2a44705f)\" d=\"M 405.892562 217.572  L 417.421488 213.2232  L 428.950413 210.1428  L 440.479339 204.3444  L 452.008264 208.1496  L 463.53719 206.1564  L 475.066116 204.7068  L 486.595041 204.5256  L 498.123967 206.1564  L 509.652893 203.4384  L 521.181818 208.3308  L 532.710744 207.2436  L 544.239669 207.0624  L 555.768595 205.4316  L 567.297521 205.9752  L 578.826446 204.5256  L 590.355372 204.888  L 601.884298 201.6264  L 613.413223 200.1768  L 624.942149 204.7068  L 636.471074 204.3444  \" style=\"fill:none;stroke:#1f77b4;stroke-linecap:square;stroke-width:1.5;\"/>\n",
       "   </g>\n",
       "   <g id=\"patch_9\">\n",
       "    <path d=\"M 394.363636 252  L 394.363636 34.56  \" style=\"fill:none;stroke:#000000;stroke-linecap:square;stroke-linejoin:miter;stroke-width:0.8;\"/>\n",
       "   </g>\n",
       "   <g id=\"patch_10\">\n",
       "    <path d=\"M 648 252  L 648 34.56  \" style=\"fill:none;stroke:#000000;stroke-linecap:square;stroke-linejoin:miter;stroke-width:0.8;\"/>\n",
       "   </g>\n",
       "   <g id=\"patch_11\">\n",
       "    <path d=\"M 394.363636 252  L 648 252  \" style=\"fill:none;stroke:#000000;stroke-linecap:square;stroke-linejoin:miter;stroke-width:0.8;\"/>\n",
       "   </g>\n",
       "   <g id=\"patch_12\">\n",
       "    <path d=\"M 394.363636 34.56  L 648 34.56  \" style=\"fill:none;stroke:#000000;stroke-linecap:square;stroke-linejoin:miter;stroke-width:0.8;\"/>\n",
       "   </g>\n",
       "   <g id=\"text_27\">\n",
       "    <!-- Finger Math: Accuracy -->\n",
       "    <defs>\n",
       "     <path d=\"M 34.1875 63.1875  L 20.796875 26.90625  L 47.609375 26.90625  z M 28.609375 72.90625  L 39.796875 72.90625  L 67.578125 0  L 57.328125 0  L 50.6875 18.703125  L 17.828125 18.703125  L 11.1875 0  L 0.78125 0  z \" id=\"DejaVuSans-41\"/>\n",
       "     <path d=\"M 8.5 21.578125  L 8.5 54.6875  L 17.484375 54.6875  L 17.484375 21.921875  Q 17.484375 14.15625 20.5 10.265625  Q 23.53125 6.390625 29.59375 6.390625  Q 36.859375 6.390625 41.078125 11.03125  Q 45.3125 15.671875 45.3125 23.6875  L 45.3125 54.6875  L 54.296875 54.6875  L 54.296875 0  L 45.3125 0  L 45.3125 8.40625  Q 42.046875 3.421875 37.71875 1  Q 33.40625 -1.421875 27.6875 -1.421875  Q 18.265625 -1.421875 13.375 4.4375  Q 8.5 10.296875 8.5 21.578125  z M 31.109375 56  z \" id=\"DejaVuSans-75\"/>\n",
       "     <path d=\"M 32.171875 -5.078125  Q 28.375 -14.84375 24.75 -17.8125  Q 21.140625 -20.796875 15.09375 -20.796875  L 7.90625 -20.796875  L 7.90625 -13.28125  L 13.1875 -13.28125  Q 16.890625 -13.28125 18.9375 -11.515625  Q 21 -9.765625 23.484375 -3.21875  L 25.09375 0.875  L 2.984375 54.6875  L 12.5 54.6875  L 29.59375 11.921875  L 46.6875 54.6875  L 56.203125 54.6875  z \" id=\"DejaVuSans-79\"/>\n",
       "    </defs>\n",
       "    <g transform=\"translate(453.959318 28.56)scale(0.12 -0.12)\">\n",
       "     <use xlink:href=\"#DejaVuSans-46\"/>\n",
       "     <use x=\"57.410156\" xlink:href=\"#DejaVuSans-69\"/>\n",
       "     <use x=\"85.193359\" xlink:href=\"#DejaVuSans-6e\"/>\n",
       "     <use x=\"148.572266\" xlink:href=\"#DejaVuSans-67\"/>\n",
       "     <use x=\"212.048828\" xlink:href=\"#DejaVuSans-65\"/>\n",
       "     <use x=\"273.572266\" xlink:href=\"#DejaVuSans-72\"/>\n",
       "     <use x=\"314.685547\" xlink:href=\"#DejaVuSans-20\"/>\n",
       "     <use x=\"346.472656\" xlink:href=\"#DejaVuSans-4d\"/>\n",
       "     <use x=\"432.751953\" xlink:href=\"#DejaVuSans-61\"/>\n",
       "     <use x=\"494.03125\" xlink:href=\"#DejaVuSans-74\"/>\n",
       "     <use x=\"533.240234\" xlink:href=\"#DejaVuSans-68\"/>\n",
       "     <use x=\"596.619141\" xlink:href=\"#DejaVuSans-3a\"/>\n",
       "     <use x=\"630.310547\" xlink:href=\"#DejaVuSans-20\"/>\n",
       "     <use x=\"662.097656\" xlink:href=\"#DejaVuSans-41\"/>\n",
       "     <use x=\"730.490234\" xlink:href=\"#DejaVuSans-63\"/>\n",
       "     <use x=\"785.470703\" xlink:href=\"#DejaVuSans-63\"/>\n",
       "     <use x=\"840.451172\" xlink:href=\"#DejaVuSans-75\"/>\n",
       "     <use x=\"903.830078\" xlink:href=\"#DejaVuSans-72\"/>\n",
       "     <use x=\"944.943359\" xlink:href=\"#DejaVuSans-61\"/>\n",
       "     <use x=\"1006.222656\" xlink:href=\"#DejaVuSans-63\"/>\n",
       "     <use x=\"1061.203125\" xlink:href=\"#DejaVuSans-79\"/>\n",
       "    </g>\n",
       "   </g>\n",
       "   <g id=\"legend_2\">\n",
       "    <g id=\"patch_13\">\n",
       "     <path d=\"M 549.634375 57.238125  L 641 57.238125  Q 643 57.238125 643 55.238125  L 643 41.56  Q 643 39.56 641 39.56  L 549.634375 39.56  Q 547.634375 39.56 547.634375 41.56  L 547.634375 55.238125  Q 547.634375 57.238125 549.634375 57.238125  z \" style=\"fill:#ffffff;opacity:0.8;stroke:#cccccc;stroke-linejoin:miter;\"/>\n",
       "    </g>\n",
       "    <g id=\"line2d_27\">\n",
       "     <path d=\"M 551.634375 47.658437  L 571.634375 47.658437  \" style=\"fill:none;stroke:#1f77b4;stroke-linecap:square;stroke-width:1.5;\"/>\n",
       "    </g>\n",
       "    <g id=\"line2d_28\"/>\n",
       "    <g id=\"text_28\">\n",
       "     <!-- Training set -->\n",
       "     <g transform=\"translate(579.634375 51.158437)scale(0.1 -0.1)\">\n",
       "      <use xlink:href=\"#DejaVuSans-54\"/>\n",
       "      <use x=\"60.865234\" xlink:href=\"#DejaVuSans-72\"/>\n",
       "      <use x=\"101.978516\" xlink:href=\"#DejaVuSans-61\"/>\n",
       "      <use x=\"163.257812\" xlink:href=\"#DejaVuSans-69\"/>\n",
       "      <use x=\"191.041016\" xlink:href=\"#DejaVuSans-6e\"/>\n",
       "      <use x=\"254.419922\" xlink:href=\"#DejaVuSans-69\"/>\n",
       "      <use x=\"282.203125\" xlink:href=\"#DejaVuSans-6e\"/>\n",
       "      <use x=\"345.582031\" xlink:href=\"#DejaVuSans-67\"/>\n",
       "      <use x=\"409.058594\" xlink:href=\"#DejaVuSans-20\"/>\n",
       "      <use x=\"440.845703\" xlink:href=\"#DejaVuSans-73\"/>\n",
       "      <use x=\"492.945312\" xlink:href=\"#DejaVuSans-65\"/>\n",
       "      <use x=\"554.46875\" xlink:href=\"#DejaVuSans-74\"/>\n",
       "     </g>\n",
       "    </g>\n",
       "   </g>\n",
       "  </g>\n",
       " </g>\n",
       " <defs>\n",
       "  <clipPath id=\"p194185ef3d\">\n",
       "   <rect height=\"217.44\" width=\"253.636364\" x=\"90\" y=\"34.56\"/>\n",
       "  </clipPath>\n",
       "  <clipPath id=\"p8b2a44705f\">\n",
       "   <rect height=\"217.44\" width=\"253.636364\" x=\"394.363636\" y=\"34.56\"/>\n",
       "  </clipPath>\n",
       " </defs>\n",
       "</svg>"
      ],
      "text/plain": [
       "<IPython.core.display.SVG object>"
      ]
     },
     "metadata": {},
     "output_type": "display_data"
    },
    {
     "name": "stdout",
     "output_type": "stream",
     "text": [
      "========================================================\n",
      "       |  Training |  Training \n",
      "Epochs |     Error |  Accuracy \n",
      "------ | --------- | --------- \n",
      "#   20 |   2.26137 |   0.16300 \n"
     ]
    }
   ],
   "source": [
    "net.train(20, accuracy=1.0, batch_size=256, tolerance=0.5)"
   ]
  },
  {
   "cell_type": "code",
   "execution_count": null,
   "metadata": {},
   "outputs": [],
   "source": []
  }
 ],
 "metadata": {
  "kernelspec": {
   "display_name": "Python 3",
   "language": "python",
   "name": "python3"
  },
  "language_info": {
   "codemirror_mode": {
    "name": "ipython",
    "version": 3
   },
   "file_extension": ".py",
   "mimetype": "text/x-python",
   "name": "python",
   "nbconvert_exporter": "python",
   "pygments_lexer": "ipython3",
   "version": "3.6.3"
  },
  "widgets": {
   "application/vnd.jupyter.widget-state+json": {
    "state": {
     "01811f497cdd4a2f9e5a12a86f585204": {
      "model_module": "@jupyter-widgets/controls",
      "model_module_version": "1.1.0",
      "model_name": "ButtonStyleModel",
      "state": {}
     },
     "018947b9800945409404a735db0c544e": {
      "model_module": "@jupyter-widgets/controls",
      "model_module_version": "1.1.0",
      "model_name": "SliderStyleModel",
      "state": {
       "description_width": ""
      }
     },
     "01dd25f040384399906349b4af6763bd": {
      "model_module": "@jupyter-widgets/controls",
      "model_module_version": "1.1.0",
      "model_name": "ButtonStyleModel",
      "state": {}
     },
     "020ed78b4cc040ea8e834f6fa9b2dfe7": {
      "model_module": "@jupyter-widgets/controls",
      "model_module_version": "1.1.0",
      "model_name": "DescriptionStyleModel",
      "state": {
       "description_width": ""
      }
     },
     "02196ca3ce2a486f8326a0a3a292d1af": {
      "model_module": "@jupyter-widgets/base",
      "model_module_version": "1.0.0",
      "model_name": "LayoutModel",
      "state": {
       "width": "100%"
      }
     },
     "021ad1abe4a846d59f0cee87cad93889": {
      "model_module": "@jupyter-widgets/controls",
      "model_module_version": "1.1.0",
      "model_name": "SelectModel",
      "state": {
       "_options_labels": [
        "",
        "input1",
        "input2"
       ],
       "description": "Features:",
       "index": 0,
       "layout": "IPY_MODEL_d38187b5e3324b039d080aff62c27053",
       "rows": 1,
       "style": "IPY_MODEL_fe2bdc875dd24044bc760270b88cc4b6"
      }
     },
     "021e0ce6f4a9449c8c31aee44db06395": {
      "model_module": "@jupyter-widgets/controls",
      "model_module_version": "1.1.0",
      "model_name": "HBoxModel",
      "state": {
       "children": [
        "IPY_MODEL_91498b59710d4f218da8fad8da270ac5",
        "IPY_MODEL_9969fb9b8d474543b496cccf445dd965"
       ],
       "layout": "IPY_MODEL_fec64504b8304592bdb312ee52537088"
      }
     },
     "028d7a5dcf9f4ec694bd73b6d71bbbaf": {
      "model_module": "@jupyter-widgets/controls",
      "model_module_version": "1.1.0",
      "model_name": "CheckboxModel",
      "state": {
       "description": "Show Targets",
       "disabled": false,
       "layout": "IPY_MODEL_a6b32a40bfae4a20b096805f585b71be",
       "style": "IPY_MODEL_706a710e8821472395e68d2c1d4b3b3b",
       "value": false
      }
     },
     "03345057d2fc4de895e7c068dda89e71": {
      "model_module": "@jupyter-widgets/controls",
      "model_module_version": "1.1.0",
      "model_name": "SliderStyleModel",
      "state": {
       "description_width": "initial"
      }
     },
     "039bdc2a492e42d39fb67e563b386a7b": {
      "model_module": "@jupyter-widgets/controls",
      "model_module_version": "1.1.0",
      "model_name": "DescriptionStyleModel",
      "state": {
       "description_width": ""
      }
     },
     "03b3cab01b324a1eab957d29dff4ff1a": {
      "model_module": "@jupyter-widgets/controls",
      "model_module_version": "1.1.0",
      "model_name": "HBoxModel",
      "state": {
       "children": [
        "IPY_MODEL_cbf9deb1442c4253a1ee42555c308b74",
        "IPY_MODEL_96528bc46ae345018262234be1a134cd",
        "IPY_MODEL_80bf37461ce748d194a45d7db34a0b96",
        "IPY_MODEL_17415f70d7244c859afde81425c26f7a",
        "IPY_MODEL_bdc79fe579cb4de09370ee2db69c9312",
        "IPY_MODEL_542fcd8a95cf4a3c9ec3bba6949a161a",
        "IPY_MODEL_0af5745723344236b06d19e6cb6fbd49"
       ],
       "layout": "IPY_MODEL_5e7927d1ee2846f99ecd66fa3a2efbe4"
      }
     },
     "0409088ab5c544af87dc8e33588920bb": {
      "model_module": "@jupyter-widgets/controls",
      "model_module_version": "1.1.0",
      "model_name": "DescriptionStyleModel",
      "state": {
       "description_width": ""
      }
     },
     "0455ba048d7547619855503416e58f13": {
      "model_module": "@jupyter-widgets/controls",
      "model_module_version": "1.1.0",
      "model_name": "VBoxModel",
      "state": {
       "children": [
        "IPY_MODEL_f9e9b45adf7243b68352a17d29099143",
        "IPY_MODEL_92b8699a331b444c9fa0e2a31f2726e2",
        "IPY_MODEL_1d0c7a6dd1ed48bf802d35b8825cea34",
        "IPY_MODEL_c47715c89dfa4ebaa6451dda15867c12",
        "IPY_MODEL_50274b4d0e404c6d9563e8ee12e8576e",
        "IPY_MODEL_bb6eedd1e39f471a824910111a6e35fb",
        "IPY_MODEL_573ac05c8cb145b5914ef3c5dcca18b3",
        "IPY_MODEL_f8e07a8242af4c039dc2c2046210cb94"
       ],
       "layout": "IPY_MODEL_ccba2f4a9964498ab48a5a96d041de01"
      }
     },
     "048dc2c132ca4dcb9972fbc0efb3e8d6": {
      "model_module": "@jupyter-widgets/controls",
      "model_module_version": "1.1.0",
      "model_name": "ButtonStyleModel",
      "state": {}
     },
     "05c280a3f3d14ca4afb777a04d831591": {
      "model_module": "@jupyter-widgets/controls",
      "model_module_version": "1.1.0",
      "model_name": "IntTextModel",
      "state": {
       "description": "Feature to show:",
       "layout": "IPY_MODEL_c1d1a90ef2f647c691a2d0972706a034",
       "step": 1,
       "style": "IPY_MODEL_636241102dc54c8fae0bd4daa720f45a"
      }
     },
     "05d676d78b134164b848a7eaca6368ca": {
      "model_module": "@jupyter-widgets/base",
      "model_module_version": "1.0.0",
      "model_name": "LayoutModel",
      "state": {
       "width": "100px"
      }
     },
     "0609f938be944c3ca15999132f42bd98": {
      "model_module": "@jupyter-widgets/controls",
      "model_module_version": "1.1.0",
      "model_name": "FloatTextModel",
      "state": {
       "description": "Rightmost color maps to:",
       "layout": "IPY_MODEL_78dafa0d3c724c69900db87a8e56f35e",
       "step": null,
       "style": "IPY_MODEL_49cca7aeb2c64bf1b2207b52b929651e",
       "value": 1
      }
     },
     "06739e5324344a889d517d465047252b": {
      "model_module": "@jupyter-widgets/base",
      "model_module_version": "1.0.0",
      "model_name": "LayoutModel",
      "state": {
       "width": "100%"
      }
     },
     "068869731f0e43bb97d45f5808b1d174": {
      "model_module": "@jupyter-widgets/controls",
      "model_module_version": "1.1.0",
      "model_name": "VBoxModel",
      "state": {
       "children": [
        "IPY_MODEL_c3d8ca15bb5b4be7bd85b0b5304b1f63",
        "IPY_MODEL_8d967a0413414a568104fa433e3308a5",
        "IPY_MODEL_5756db0bc54a4e7e838c87798b93278d",
        "IPY_MODEL_74cef6c1b93944c0a41a992f88894d4f",
        "IPY_MODEL_f2c860521d2a408cacca219c3456984f",
        "IPY_MODEL_3ca9903b3cba4f389def13f1c1aca6a7",
        "IPY_MODEL_fa3f1e2bc9bf451bb053583be6bf0ef6",
        "IPY_MODEL_59d5cf4e32b24d93b48410c4235d77a6"
       ],
       "layout": "IPY_MODEL_d1fbcc4362ef4477899bc4696cf517fa"
      }
     },
     "06a8961414c94aad96f32acd688d8932": {
      "model_module": "@jupyter-widgets/base",
      "model_module_version": "1.0.0",
      "model_name": "LayoutModel",
      "state": {
       "width": "100%"
      }
     },
     "077842744bf64c2790d387e230833068": {
      "model_module": "@jupyter-widgets/controls",
      "model_module_version": "1.1.0",
      "model_name": "HTMLModel",
      "state": {
       "layout": "IPY_MODEL_8cc8b2adb2c3497f9135d05339b25307",
       "style": "IPY_MODEL_82be8c03e7e14aef959e689bb9392716",
       "value": "<img src=\"data:image/gif;base64,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\"/>"
      }
     },
     "07806d395ee143e0bf4b30568664fdf6": {
      "model_module": "@jupyter-widgets/controls",
      "model_module_version": "1.1.0",
      "model_name": "CheckboxModel",
      "state": {
       "description": "Visible",
       "disabled": false,
       "layout": "IPY_MODEL_442c0668cff04fba8401e7916a5f4228",
       "style": "IPY_MODEL_c8e6fdbd2d584f609239240aa2b03050",
       "value": true
      }
     },
     "07ca03fb502444a09420eb0100ac5a62": {
      "model_module": "@jupyter-widgets/base",
      "model_module_version": "1.0.0",
      "model_name": "LayoutModel",
      "state": {}
     },
     "084e9a435edd41f39999df7e7f298caa": {
      "model_module": "@jupyter-widgets/controls",
      "model_module_version": "1.1.0",
      "model_name": "ButtonModel",
      "state": {
       "icon": "forward",
       "layout": "IPY_MODEL_632a72ebab324d63a7702aca2a27f05e",
       "style": "IPY_MODEL_4f634465c71545c49d88e8c3d14cb498"
      }
     },
     "0868d97c21974e519f397c0cd18dfa2e": {
      "model_module": "@jupyter-widgets/base",
      "model_module_version": "1.0.0",
      "model_name": "LayoutModel",
      "state": {
       "height": "40px"
      }
     },
     "08c03a741a094f21a43dd23ead4bb8d2": {
      "model_module": "@jupyter-widgets/controls",
      "model_module_version": "1.1.0",
      "model_name": "VBoxModel",
      "state": {
       "children": [
        "IPY_MODEL_cfee307234094034896cf5da5fa50e55",
        "IPY_MODEL_f353fef96b124115bbc2cdd066085389"
       ],
       "layout": "IPY_MODEL_61ba629a01f749e3af66daa48c93028f"
      }
     },
     "08cae0e3378a4f3db8ffd5c7ae9b348e": {
      "model_module": "@jupyter-widgets/controls",
      "model_module_version": "1.1.0",
      "model_name": "FloatTextModel",
      "state": {
       "description": "Leftmost color maps to:",
       "layout": "IPY_MODEL_a8296823c32d47189fc3a44b96ce52bb",
       "step": null,
       "style": "IPY_MODEL_c6b88b40d15841128716eaec06f29ab3"
      }
     },
     "08d1985e067d479b8d4d6d061c6674c4": {
      "model_module": "@jupyter-widgets/controls",
      "model_module_version": "1.1.0",
      "model_name": "ButtonModel",
      "state": {
       "icon": "save",
       "layout": "IPY_MODEL_f5144c5eb3f9477b807a3556a9d9124b",
       "style": "IPY_MODEL_272e0da822cd45f89f86a4c1f0019070"
      }
     },
     "08e15d1d5ac24eada4a51358fd55f849": {
      "model_module": "@jupyter-widgets/base",
      "model_module_version": "1.0.0",
      "model_name": "LayoutModel",
      "state": {
       "width": "100%"
      }
     },
     "09336c9c40cc4dcb9c8fdf2270cdf036": {
      "model_module": "@jupyter-widgets/controls",
      "model_module_version": "1.1.0",
      "model_name": "DescriptionStyleModel",
      "state": {
       "description_width": ""
      }
     },
     "0936be0dd48c4e12b112dd10fa950fa4": {
      "model_module": "@jupyter-widgets/controls",
      "model_module_version": "1.1.0",
      "model_name": "SliderStyleModel",
      "state": {
       "description_width": "initial"
      }
     },
     "09e09363e63141449bdd5b255d1111d0": {
      "model_module": "@jupyter-widgets/base",
      "model_module_version": "1.0.0",
      "model_name": "LayoutModel",
      "state": {}
     },
     "0a09cf9e33c44bdba5f59fdc01e58df6": {
      "model_module": "@jupyter-widgets/controls",
      "model_module_version": "1.1.0",
      "model_name": "SelectModel",
      "state": {
       "_options_labels": [
        "Test",
        "Train"
       ],
       "description": "Dataset:",
       "index": 1,
       "layout": "IPY_MODEL_eb1726dc45f54973b4d70c437fc35cef",
       "rows": 1,
       "style": "IPY_MODEL_ed99ed0d8dc34cd48681c4cf90e93558"
      }
     },
     "0a8705e9084d4ceb93559ae849a6eeb3": {
      "model_module": "@jupyter-widgets/controls",
      "model_module_version": "1.1.0",
      "model_name": "ButtonModel",
      "state": {
       "icon": "forward",
       "layout": "IPY_MODEL_0e24d358aa274505875d35cd654c8996",
       "style": "IPY_MODEL_880e4bd439ca4470ace4e0da2b52b16d"
      }
     },
     "0ab97613d6974e0e8fa1810562575a1b": {
      "model_module": "@jupyter-widgets/controls",
      "model_module_version": "1.1.0",
      "model_name": "IntTextModel",
      "state": {
       "description": "Vertical space between layers:",
       "layout": "IPY_MODEL_a6b32a40bfae4a20b096805f585b71be",
       "step": 1,
       "style": "IPY_MODEL_5d24506c112d4649a66765b43d691bc3",
       "value": 30
      }
     },
     "0af5745723344236b06d19e6cb6fbd49": {
      "model_module": "@jupyter-widgets/controls",
      "model_module_version": "1.1.0",
      "model_name": "ButtonModel",
      "state": {
       "icon": "refresh",
       "layout": "IPY_MODEL_9fe1a931511849a6978a993925ebafa2",
       "style": "IPY_MODEL_67e14ba163374548917daa4f5bc4f0ea"
      }
     },
     "0b492e54bcac44df90ad7c42c35443e0": {
      "model_module": "@jupyter-widgets/controls",
      "model_module_version": "1.1.0",
      "model_name": "ButtonStyleModel",
      "state": {}
     },
     "0c08357bfaae475793eb7f384fe4e8f3": {
      "model_module": "@jupyter-widgets/controls",
      "model_module_version": "1.1.0",
      "model_name": "FloatTextModel",
      "state": {
       "description": "Leftmost color maps to:",
       "layout": "IPY_MODEL_1734d0e4cd244aa19bd862716ea8e697",
       "step": null,
       "style": "IPY_MODEL_720ea125442b48fc8bc2f37c34061517"
      }
     },
     "0c46cc31c106476a950e8d26582760cf": {
      "model_module": "@jupyter-widgets/controls",
      "model_module_version": "1.1.0",
      "model_name": "VBoxModel",
      "state": {
       "children": [
        "IPY_MODEL_a94dbde553ee4dea9d3763660ce7ad3d",
        "IPY_MODEL_bba0f0a4c7e7459aafbe112c890c780f",
        "IPY_MODEL_1d44ec13ec2748b8a88d07d2a7b03492",
        "IPY_MODEL_92190f61376e438e961f42baf4351f39",
        "IPY_MODEL_f256d7dd5bc54e24b7d8fe2879e72604",
        "IPY_MODEL_021ad1abe4a846d59f0cee87cad93889",
        "IPY_MODEL_aad84d80f4304328844ae6e1bbe8a119",
        "IPY_MODEL_65144ecd9bfb4f62baeeb3d6c75b61c2"
       ],
       "layout": "IPY_MODEL_b6fc249d2d1b4105959cf90a9a0fe253"
      }
     },
     "0c49dda8af5c4558a83765a714777f82": {
      "model_module": "@jupyter-widgets/controls",
      "model_module_version": "1.1.0",
      "model_name": "SelectModel",
      "state": {
       "_options_labels": [
        "Test",
        "Train"
       ],
       "description": "Dataset:",
       "index": 1,
       "layout": "IPY_MODEL_c473f8eb53904e4f93111a7802064c1a",
       "rows": 1,
       "style": "IPY_MODEL_36bfea2732f24941b02a0d188241c677"
      }
     },
     "0c4edb237c3f40be9dc3e19688fc5173": {
      "model_module": "@jupyter-widgets/controls",
      "model_module_version": "1.1.0",
      "model_name": "VBoxModel",
      "state": {
       "children": [
        "IPY_MODEL_51063677d22e451faf0d6f446a452977",
        "IPY_MODEL_fa2364aa10e44a7e9fefa223ee8e0c1a",
        "IPY_MODEL_faa479c84f5e4d20b5f4da47e5daa970",
        "IPY_MODEL_64e47b1c718a4bc9bcce08f7a85f4baa",
        "IPY_MODEL_bfcfdab882b440a8be3c9802361b5bfd",
        "IPY_MODEL_0609f938be944c3ca15999132f42bd98",
        "IPY_MODEL_51ede6d015dc41999e574edb15e08852",
        "IPY_MODEL_6363e6daea8140fc804d27fa8b6d060d"
       ],
       "layout": "IPY_MODEL_af44a3b14134450591797be4669277e3"
      }
     },
     "0c57ef2302714c5ca1edd1db5a3ca39c": {
      "model_module": "@jupyter-widgets/controls",
      "model_module_version": "1.1.0",
      "model_name": "HTMLModel",
      "state": {
       "layout": "IPY_MODEL_a4f3b61e07fe4219b8fdb98cea9178d7",
       "style": "IPY_MODEL_8282c6a90d5246d6a344787db5bda62b",
       "value": "<p style=\"text-align:center\"><svg id='Finger Math' xmlns='http://www.w3.org/2000/svg' image-rendering=\"pixelated\" width=\"640.0000000000001px\" height=\"320.00000000000006px\">\n <g >\n  <svg viewBox=\"0 0 1000 500\" width=\"640.0000000000001px\" height=\"320.00000000000006px\">\n    <defs>\n        <marker id=\"arrow\" markerWidth=\"10\" markerHeight=\"10\" refX=\"9\" refY=\"3\" orient=\"auto\" markerUnits=\"strokeWidth\">\n          <path d=\"M0,0 L0,6 L9,3 z\" fill=\"black\" />\n        </marker>\n    </defs><rect x=\"399.0\" y=\"24\" width=\"202\" height=\"52\" style=\"fill:none;stroke:black;stroke-width:2\"/><image id=\"picture-dashboard-Finger Math-577590_output_targets_7\" class=\"picture-dashboard-Finger Math-577590_output_targets\" x=\"400.0\" y=\"25\" height=\"50\" width=\"200\" preserveAspectRatio=\"none\" href=\"data:image/gif;base64,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\"><title>Layer: output (output)\n output range: (0, 1)\n shape = (11,)\n Keras class = Dense\n activation = softmax</title></image><text x=\"605.0\" y=\"52.0\" font-family=\"monospace\" font-size=\"12\" text-anchor=\"start\" fill=\"black\" alignment-baseline=\"central\" >targets</text><line x1=\"250.0\" y1=\"80\" x2=\"750.0\" y2=\"80\" stroke=\"green\" stroke-width=\"2\"><title></title></line><rect x=\"399.0\" y=\"84\" width=\"202\" height=\"52\" style=\"fill:none;stroke:black;stroke-width:2\"/><image id=\"picture-dashboard-Finger Math-577590_output_7\" class=\"picture-dashboard-Finger Math-577590_output\" x=\"400.0\" y=\"85\" height=\"50\" width=\"200\" preserveAspectRatio=\"none\" href=\"data:image/gif;base64,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\"><title>Layer: output (output)\n output range: (0, 1)\n shape = (11,)\n Keras class = Dense\n activation = softmax</title></image><text x=\"605.0\" y=\"112.0\" font-family=\"monospace\" font-size=\"12\" text-anchor=\"start\" fill=\"black\" alignment-baseline=\"central\" >output</text><line x1=\"500.0\" y1=\"164\" x2=\"500.0\" y2=\"137\" stroke=\"black\" stroke-width=\"2\" marker-end=\"url(#arrow)\"><title>Weights from hidden to output\n output/kernel:0 has shape (100, 11)\n output/bias:0 has shape (11,)</title></line><rect x=\"399.0\" y=\"164\" width=\"202\" height=\"52\" style=\"fill:none;stroke:black;stroke-width:2\"/><image id=\"picture-dashboard-Finger Math-577590_hidden_8\" class=\"picture-dashboard-Finger Math-577590_hidden\" x=\"400.0\" y=\"165\" height=\"50\" width=\"200\" preserveAspectRatio=\"none\" href=\"data:image/gif;base64,R0lGODdhZAABAIcAAH8AAPEAAK0AAJAAAMoAAP82NgAATP8oKP9KSv/V1f79/gAA6Xl5/4SE//91df+Njf+dnf+hof+5uf/FxQAAAAAAAAAAAAAAAAAAAAAAAAAAAAAAAAAAAAAAAAAAAAAAAAAAAAAAAAAAAAAAAAAAAAAAAAAAAAAAAAAAAAAAAAAAAAAAAAAAAAAAAAAAAAAAAAAAAAAAAAAAAAAAAAAAAAAAAAAAAAAAAAAAAAAAAAAAAAAAAAAAAAAAAAAAAAAAAAAAAAAAAAAAAAAAAAAAAAAAAAAAAAAAAAAAAAAAAAAAAAAAAAAAAAAAAAAAAAAAAAAAAAAAAAAAAAAAAAAAAAAAAAAAAAAAAAAAAAAAAAAAAAAAAAAAAAAAAAAAAAAAAAAAAAAAAAAAAAAAAAAAAAAAAAAAAAAAAAAAAAAAAAAAAAAAAAAAAAAAAAAAAAAAAAAAAAAAAAAAAAAAAAAAAAAAAAAAAAAAAAAAAAAAAAAAAAAAAAAAAAAAAAAAAAAAAAAAAAAAAAAAAAAAAAAAAAAAAAAAAAAAAAAAAAAAAAAAAAAAAAAAAAAAAAAAAAAAAAAAAAAAAAAAAAAAAAAAAAAAAAAAAAAAAAAAAAAAAAAAAAAAAAAAAAAAAAAAAAAAAAAAAAAAAAAAAAAAAAAAAAAAAAAAAAAAAAAAAAAAAAAAAAAAAAAAAAAAAAAAAAAAAAAAAAAAAAAAAAAAAAAAAAAAAAAAAAAAAAAAAAAAAAAAAAAAAAAAAAAAAAAAAAAAAAAAAAAAAAAAAAAAAAAAAAAAAAAAAAAAAAAAAAAAAAAAAAAAAAAAAAAAAAAAAAAAAAAAAAAAAAAAAAAAAAAAAAAAAAAAAAAAAAAAAAAAAAAAAAAAAAAAAAAAAAAAAAAAAAAAAAAAAAAAAAAAAAAAAAAAAAAAAAAAAAAAAAAAAAAAAAAAAAAAAAAAAAAAAAAAAAAAAAAAAAAAAAAAAAAAAAAAAAAAAAAAAAAAAAAAAAAAAAAAAAAAAAAAAAAAAAAAACwAAAAAZAABAAAIawAJHABAAAABAAACABAAIAEABQEAPAgAoCKEAAASCAAAgACAjxIABAAQoACABQAETBAAoGVLAgBiDhhwYACAAgAANEDgwACAnwAGDABANAADBQEARAAwIIAAAAYEABhQQAAAAAgABAAAQEBAADs=\"><title>Layer: hidden (hidden)\n output range: (0, +Infinity)\n shape = (100,)\n Keras class = Dense\n activation = relu</title></image><text x=\"605.0\" y=\"192.0\" font-family=\"monospace\" font-size=\"12\" text-anchor=\"start\" fill=\"black\" alignment-baseline=\"central\" >hidden</text><line x1=\"333.3333333333333\" y1=\"244\" x2=\"500.0\" y2=\"217\" stroke=\"black\" stroke-width=\"2\" marker-end=\"url(#arrow)\"><title>Weights from flatten1 to hidden\n hidden/kernel:0 has shape (7200, 100)\n hidden/bias:0 has shape (100,)</title></line><rect x=\"232.33333333333331\" y=\"244\" width=\"202\" height=\"52\" style=\"fill:none;stroke:black;stroke-width:2\"/><image id=\"picture-dashboard-Finger Math-577590_flatten1_9\" class=\"picture-dashboard-Finger Math-577590_flatten1\" x=\"233.33333333333331\" y=\"245\" height=\"50\" width=\"200\" preserveAspectRatio=\"none\" href=\"data:image/gif;base64,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\"><title>Layer: flatten1 (hidden)\n output range: (0.0, 0.84313726)\n Keras class = Flatten</title></image><text x=\"438.3333333333333\" y=\"272.0\" font-family=\"monospace\" font-size=\"12\" text-anchor=\"start\" fill=\"black\" alignment-baseline=\"central\" >flatten1</text><line x1=\"666.6666666666666\" y1=\"244\" x2=\"500.0\" y2=\"217\" stroke=\"black\" stroke-width=\"2\" marker-end=\"url(#arrow)\"><title>Weights from flatten2 to hidden\n hidden/kernel:0 has shape (7200, 100)\n hidden/bias:0 has shape (100,)</title></line><rect x=\"565.6666666666666\" y=\"244\" width=\"202\" height=\"52\" style=\"fill:none;stroke:black;stroke-width:2\"/><image id=\"picture-dashboard-Finger Math-577590_flatten2_10\" class=\"picture-dashboard-Finger Math-577590_flatten2\" x=\"566.6666666666666\" y=\"245\" height=\"50\" width=\"200\" preserveAspectRatio=\"none\" href=\"data:image/gif;base64,R0lGODdhEA4BAIcAALe3t6ioqJiYmIeHh3h4eMLCwmhoaFhYWEdHRzY2NiYmJhgYGAoKCtXV1erq6gAAAAAAAAAAAAAAAAAAAAAAAAAAAAAAAAAAAAAAAAAAAAAAAAAAAAAAAAAAAAAAAAAAAAAAAAAAAAAAAAAAAAAAAAAAAAAAAAAAAAAAAAAAAAAAAAAAAAAAAAAAAAAAAAAAAAAAAAAAAAAAAAAAAAAAAAAAAAAAAAAAAAAAAAAAAAAAAAAAAAAAAAAAAAAAAAAAAAAAAAAAAAAAAAAAAAAAAAAAAAAAAAAAAAAAAAAAAAAAAAAAAAAAAAAAAAAAAAAAAAAAAAAAAAAAAAAAAAAAAAAAAAAAAAAAAAAAAAAAAAAAAAAAAAAAAAAAAAAAAAAAAAAAAAAAAAAAAAAAAAAAAAAAAAAAAAAAAAAAAAAAAAAAAAAAAAAAAAAAAAAAAAAAAAAAAAAAAAAAAAAAAAAAAAAAAAAAAAAAAAAAAAAAAAAAAAAAAAAAAAAAAAAAAAAAAAAAAAAAAAAAAAAAAAAAAAAAAAAAAAAAAAAAAAAAAAAAAAAAAAAAAAAAAAAAAAAAAAAAAAAAAAAAAAAAAAAAAAAAAAAAAAAAAAAAAAAAAAAAAAAAAAAAAAAAAAAAAAAAAAAAAAAAAAAAAAAAAAAAAAAAAAAAAAAAAAAAAAAAAAAAAAAAAAAAAAAAAAAAAAAAAAAAAAAAAAAAAAAAAAAAAAAAAAAAAAAAAAAAAAAAAAAAAAAAAAAAAAAAAAAAAAAAAAAAAAAAAAAAAAAAAAAAAAAAAAAAAAAAAAAAAAAAAAAAAAAAAAAAAAAAAAAAAAAAAAAAAAAAAAAAAAAAAAAAAAAAAAAAAAAAAAAAAAAAAAAAAAAAAAAAAAAAAAAAAAAAAAAAAAAAAAAAAAAAAAAAAAAAAAAAAAAAAAAAAAAAAAAAAAAAAAAAAAAAAAAAAAAAAAAAAAAAAAAAAAAAAAAAAAAAAAAAAAAAAAAAAAAAAAAAAAAAAAAAAAAAAAAAAAAAACwAAAAAEA4BAAAI/wALCBgAQMAAAAIGBBAwIICAAQIEDBAgYIAAAQMEaAwgQEAAAQICiBwJIEAAAAECAAgQAECAAAACBAAAIACAmzhzBggAIEAAAAECAAgQAEAAAQGSKg0gQEAAAVCjSh0gQMAAAQMGCBgwQMAAAgEGDAgwYAAAAQMACBgQQMCAAAIEBBAwIICAAQEEDAggQEAAAQICCBAQoLBhAAECAAgQAECAAAAABAAAIAAAAAEKAAgAoHPnAABChw4AAEAAAAACAAgQAECAAAACBAAQQECAAAICBBAQQIDv3wIGCBAwQICAAQIGDBAwYICAAQMCDBgAYACBAAIGBBAwIICAAQEEDP8IIEBAAAECAggQECCAgAABBAAIEABAgAAAAgQAECAAAIABAgAAEAAAgAAAAAQoAABAAQAACgAAUABAgAIAAgAAEAAAgAAAAAQAACAAgAABAAQIACDAS5gBBAQQUNOmgAECBAwQMGCAgAEDBAwYIGDAAAADCAQYMCDAgAEBBAgIIEBAAAECAggQEECAgAABBAQgCyCAAAABAgAIEAAAgAAAAAQAACBAAQABAAAIUABAgAIABAsuACBAAQABAAAIAABAAAAAAgAAEAAAgAAAAgQAEMDzZ9ACAgggXVrAAAECBggYMEDAAAICBhAIMGBAgAEDAgwYEECAgAACBAQQICD/gAABAZQvBxAgAIAAAQAACAAAQAAAAAIAABCgAIAAAAAEKAAgAAAAAQAACAAAQAAAAAIAABAAAIAAAAAEAAAgAEAAAAIAABAAAIAAAAAEABAgAIAAEgMICBBAQAABGjdyHCBgAAEBAwgEGDAgwIABAgQMECBgQAABAgIIEBDgJoAAAgAECAAgQAAAAAIAABAAAIAAAAAEAAAgQAEAAQAACAAAQAAAAAIA6No1AICwYQMAABAAAIAAAAAEAAAgAAAAAQAACAAAQAAAAAIACBAAQIDAAQQECCDgMGLEAwQMICBgAIEAAwYEGDBAAOYAAgQEECAggIAAogUACBAAQIAA/wAABAAAIAAAAAEAAAgAAEAAAAACAAAQAACAAACGDw8AAEAAAAACFAAQAACAAAAABAAAIAAAAAEAAAgAAEAAAAACAAAQAACAAAAABAAQ4D38AAICCKhvX8AAAQMGCBhAAGCAAQMCDBgQQICAAAIEBBAgIEAAAQACCAAQIACAAAEAAAhQAEAAAAACFAAQAACAAAAABAAAIAAAAAEAAAhQAECAAgUAAAggAAACBQAEEABw9GgAAAACAAAQAEDUqAEAAAgAAEAAAAACAAgQAEAAAQACCAgQQEAAAWsFDBAwYICAAQQCDBgQQICAAAIEBBAgIIAAAQACBAAQIACAAAEANP9uHAAAgAAFAAAoACAAAM2aAwAAEAAAgAAASAMQMKAAgQMAAggYoICBAAMIABQAcDsAAAABCgQQ0EAAAQAAAgAAEAAAgAAAAAQAECAAgAACAgQQEEBAdu0DuA8gMICAgQADBAQYICCAAAEBBAgI8B5AgAAAAgQAACAAAAABAAAIALAAgIEAAhQAgBBAAAAMGQYAACAAgAIAAhAwMEABgwACBgxIoEDAgQQASpYMAKAAAAAEDARAsAAAAAEAAAQAACAAAAABAAQIACCAgAABBAQQgFTAAAEDmg4gMICAAQEDBAQQICCAAAEBBAT4GgBAgAAAAgQAACAAgLVsCwAIUAD/gNy5AAIAABAAAIAAAPoCKAAggIABBBQwCCCAwIADCQYgWAAAQAAAAAIAABAgwIEEAxAoAAAgAAAAAQAACAAgQAAAAQIACCAgQAABAQQMECBggIABvAcQGEDAgIABAgIIEBBAgIAAAgQEeA4gQAAAAQIAuI4dewEAAQoA+A4+/PcCAAAMMABAAAEAAQIQSMBAwAADAw4gIJCAQYAAAwAUAAgAQAABAhAsEGAgAQAAAQAACAAAQAAAAAIACBAAQAABAQIICCBApIABAgacHEBgAAEDAQYICCBAQAABAgIICJAzAIAAAQAACAAAQIACAAAUAACgAAAABQAAKABA6lSp/wUKABBwIIGAAwkAfB2QYMGAAwkGGEBAIAGDAAIGACgAAMAAAgMSMBBA4ECBAgD8BgAAIACAAAEABAgAIICAAAEEBBAQWcAAAQMsDyAwgICBAAIEBBAgIICAAKVNBwAQIAAAAAEAvC4AAEABAAAKAABQAACAAgB8//ZdoAAAAQQOEEiwAACAAAMQKCCAQIEAAwgEIFgQQAABAAUAACBwQACCBQIGECgAQD2AAAAABAAQIACAAAEABBAQQICAAAL8AxQgcMAAAQMIDCBAIIAAAQEECAggIABFAQACBAAQIAAAAAEAgCwAAEABAAAKAABQAACAAgBeviwAAECBAgACCP8gQCABgwACBggwgGAAggUDDCAYkIBBAAEEAAAIUMBAAgEHFAQIIAAAgAAAAAQAACAAgAABAAQIACCAgAACBAQQIHfAAAEDCAwYQGAAAQIBBAgIIEBAAAEBDgcAECAAgAABAEAuAABAAQAACgAAUAAAgAIFABQoAKBAAQCmARQoAABAAAEEEjAQQOCAAAIHBiRgIMBAggAGFAAQQKBAgAEADigQYAABgObNAwAAEABAgAAAAgQAECAAgAACAggQEEAAeQEDBAxIP4DAAAIEAggQEECAgAACAuAPACBAAAABAAIQOBBAAQAACgAAUKAAgAIFABQoAIAigAIAMGYEEED/wIEEAg4kEEDAAAADCgoQQNCAAIIGAw44EHCgAIEEAgYYAAAgAIAAAQAECAAgQAAAAQQACCAgQAABAQQICCCA6oABAgZkHUBgAAECAQQICCBAQAABAdAGABAgAIAAAQDElVsAAIACBQAUKACgQAEABQoAEDx4cAAAhwUYOBDggIICBBAUMJAAwAEFAAwkKGAgQQEDCQAYSCBgAAEAAAIACBAAQIAAAAIEABBAAIAAAgAIEBBAgIAAAoAPGCBgQHECBAYQMBBAgIAAAgQEECAgQHUAAQIACBAAQHfvBQAAKFAAQIECAAoUAFAAQHv3AAIAABAAAIAAAQgcKGAgQQED/wATBDigIIABBQEMKAhwQAEAAwgCGEgAYICBABgBBBAAIIAAAAEEAAggIIAAAQEECAggQEAAAQMEDBggYIBNAgQGECAQQICAAAIEBBAQoKjRAAACBAAAIACApwUAACgAAEABAFizas0aAACAAAAABAhAwECAAwoCHFAQwECCAAYQADCQAAABBAAIJABwIAEAAwoCDDAQIICAAAIEBBAgIIAAAQEECAggQEAAAZgHDBAwYICAAQQGEBhtwEAAAQICCBAQQECA17ADAAgQAACAAAByFwAAoAAAAAUAACgAoLjx4wEAAAgAAECAAAQMBDigAICBBAAMIABAAEEBAggKEP9AAIDAgQAHEgxIsEDAgQUABhgIQD+AAAEBBAgIIEBAAIACBAQQUHDAAAEDFBIgMICAAQIGDAQQICCAAAEBBAgIEEBAAJAAAgQAACAAAAABAKwsAABAAQAACgCgWRNAAAAAAgAAEAAAgAABBhAAcCBBAQIIABBAUIAAggIEEgAwkCDAAQQEEiwwoGCBAAQKAhhIEEDAgAACBAQQICCAAAEBBMwdMEDAgAECBuwlQGAAAQMEDBgIIEBAAAECAggQEECAgAABBAAIEAAAgAAAAAQA0LkAAAAFAAQoAMD0aQABAAAIAABAAAAAAgQQMCDAgQQFDCAoQABBAQIIChBIEMD/gAICCRgMSLAgwIEEAQ4kGIBggYABBAIIEBBAgIAAAgQEGDBAwIABAgYMEECAwAAC8Q0YIGDgQIABAgIIEBBAAEABAQQICBBAQICEAAIEAAAgAICIEgsAAFAAAIACAAIAABAAAIAAAAIEABDgZAABAg4kAHBAQQECCAoQQADAQIIABxIIOKAgwIEEAQ4kGJBgAYEDCAIIEBBAwIAAAgYEGCBAwIABAgYMEDDgKwECAwiQNWCAgIEDAQQICCBAQAABAgIICGD3bgAAAQIA6Ov3L+DAfwMEABBAAIAAAQQYOBAAwQIABhIAMJAAgIEEAg4oEHBAgYADCgYgUGAgwQIB/wMGBBDgesAAAQMGCBgwQMCAAQIG8CZAYAABAgMIGCBgwACBAwcCCBAQQICAAAIEBBAgIICAANq3BwAQIAAAAAEAkC9v/jz5AAACBAAQIACAAPIHDBCAYEEABAoCHFAgACACBQMQKBiAQAGBBAoOKGBA4AACAQMGCBgwQMCAAQIGDBAwYIAAAgQGECAwgACBAQRYGjBAwMABAwcOABAgIIAAAQEECAggQEAAAQICFDVqFACAAACYNnX61GmAAAACVLUaQICAAwgEJFggAIGCAQgWEEiwwECCBQcSLDCAIMGAAQQEECAwYAABAQMIDCBAYAABAgMIEBhAgMAAAgQGGP8wQMCAAQIHDhg4gACAAAEABAgIIEBAAAECAggQEAB16tQAAgBw/fp1AACzadcOEABAAN27AwgQMGAAAQQLBiBYMADBAgIIFhxQwOBAggUCBhAQQICAgAEEBhAgMIAAgQEECAwgQGAAAQIDCBggYMAAAQMGCBg4YODAAQMHDhQQAFAAAAECAggQEECAgAACBAQQICCAxIkTAQQIACCjxo0aAwAAECAAgAAkS5oMMOAAAgIIFhBAoIAAggUGEiw4kGDBAAIGBgwgMIAAgQEECAwgYGAAAQIDCBggYMAAAQMGCBgwQMCA1gMHDBw4YAABggICBBQQIABAAAEABAgIIEBhQAABAgLYvYsXLwAAAQD4/RsAQIAAAAIYPowYsQACBwggWEAAwQICCBYQQLDgQAIGAwwcEDCAwAACBAYQIDCAAIEBBAwMMGCAgAEDBAwYIGDgAAEDBwwcOGAAAYIDCBAEBAA7\"><title>Layer: flatten2 (hidden)\n output range: (0.0, 0.83137256)\n Keras class = Flatten</title></image><text x=\"771.6666666666666\" y=\"272.0\" font-family=\"monospace\" font-size=\"12\" text-anchor=\"start\" fill=\"black\" alignment-baseline=\"central\" >flatten2</text><line x1=\"333.3333333333333\" y1=\"324\" x2=\"333.3333333333333\" y2=\"297\" stroke=\"black\" stroke-width=\"2\" marker-end=\"url(#arrow)\"><title>Weights from input1 to flatten1</title></line><rect x=\"232.33333333333331\" y=\"324\" width=\"202\" height=\"152\" style=\"fill:none;stroke:black;stroke-width:2\"/><image id=\"picture-dashboard-Finger Math-577590_input1_11\" class=\"picture-dashboard-Finger Math-577590_input1\" x=\"233.33333333333331\" y=\"325\" height=\"150\" width=\"200\" preserveAspectRatio=\"none\" href=\"data:image/gif;base64,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\"><title>Layer: input1 (input)\n output range: (0.0, 0.84313726)\n shape = (30, 40, 3)\n Keras class = Input</title></image><text x=\"438.3333333333333\" y=\"402.0\" font-family=\"monospace\" font-size=\"12\" text-anchor=\"start\" fill=\"black\" alignment-baseline=\"central\" >input1</text><line x1=\"666.6666666666666\" y1=\"324\" x2=\"666.6666666666666\" y2=\"297\" stroke=\"black\" stroke-width=\"2\" marker-end=\"url(#arrow)\"><title>Weights from input2 to flatten2</title></line><rect x=\"565.6666666666666\" y=\"324\" width=\"202\" height=\"152\" style=\"fill:none;stroke:black;stroke-width:2\"/><image id=\"picture-dashboard-Finger Math-577590_input2_12\" class=\"picture-dashboard-Finger Math-577590_input2\" x=\"566.6666666666666\" y=\"325\" height=\"150\" width=\"200\" preserveAspectRatio=\"none\" href=\"data:image/gif;base64,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\"><title>Layer: input2 (input)\n output range: (0.0, 0.83137256)\n shape = (30, 40, 3)\n Keras class = Input</title></image><text x=\"771.6666666666666\" y=\"402.0\" font-family=\"monospace\" font-size=\"12\" text-anchor=\"start\" fill=\"black\" alignment-baseline=\"central\" >input2</text><text x=\"500.0\" y=\"12.5\" font-family=\"monospace\" font-size=\"15\" text-anchor=\"middle\" fill=\"black\" alignment-baseline=\"central\" >Finger Math</text></svg></g></svg></p>"
      }
     },
     "0c8c2641526c402ca0acb9fe67371f31": {
      "model_module": "@jupyter-widgets/base",
      "model_module_version": "1.0.0",
      "model_name": "LayoutModel",
      "state": {}
     },
     "0cbc41dbefcb42b9a2830e92b52c8fc4": {
      "model_module": "@jupyter-widgets/base",
      "model_module_version": "1.0.0",
      "model_name": "LayoutModel",
      "state": {
       "width": "100%"
      }
     },
     "0cd19150c8f9464680a2834addc09c19": {
      "model_module": "@jupyter-widgets/controls",
      "model_module_version": "1.1.0",
      "model_name": "SliderStyleModel",
      "state": {
       "description_width": "initial"
      }
     },
     "0d05a0a1956d4958a9455dc5f7282cb3": {
      "model_module": "@jupyter-widgets/controls",
      "model_module_version": "1.1.0",
      "model_name": "DescriptionStyleModel",
      "state": {
       "description_width": "initial"
      }
     },
     "0da0ffc13d6e4366bd30600d26e60cd8": {
      "model_module": "@jupyter-widgets/controls",
      "model_module_version": "1.1.0",
      "model_name": "ButtonModel",
      "state": {
       "icon": "refresh",
       "layout": "IPY_MODEL_88e4d96d951846bfa30828855f7d73a2",
       "style": "IPY_MODEL_c78003529d5e405980f3bfb6e0fa9a61"
      }
     },
     "0da262d85992422daca003c3fd3701ca": {
      "model_module": "@jupyter-widgets/controls",
      "model_module_version": "1.1.0",
      "model_name": "DescriptionStyleModel",
      "state": {
       "description_width": ""
      }
     },
     "0e0bb7d9a0f34b16ac26a859c07baf04": {
      "model_module": "@jupyter-widgets/base",
      "model_module_version": "1.0.0",
      "model_name": "LayoutModel",
      "state": {}
     },
     "0e24d358aa274505875d35cd654c8996": {
      "model_module": "@jupyter-widgets/base",
      "model_module_version": "1.0.0",
      "model_name": "LayoutModel",
      "state": {
       "width": "100%"
      }
     },
     "0e62bc66693c431f88c1d30004dfb55b": {
      "model_module": "@jupyter-widgets/controls",
      "model_module_version": "1.1.0",
      "model_name": "IntTextModel",
      "state": {
       "description": "Feature to show:",
       "layout": "IPY_MODEL_2875d01b24aa4e52a27ea3fab0ef6f71",
       "step": 1,
       "style": "IPY_MODEL_aeaece2c3af7474e9beb487c13c63af2"
      }
     },
     "0e95a2f66cab4663ae83981cfe70fefe": {
      "model_module": "@jupyter-widgets/controls",
      "model_module_version": "1.1.0",
      "model_name": "IntTextModel",
      "state": {
       "description": "Horizontal space between banks:",
       "layout": "IPY_MODEL_5bd06861033745e58d4c269096f14023",
       "step": 1,
       "style": "IPY_MODEL_4d6fff4cb776472a90dbee278744ba8d",
       "value": 150
      }
     },
     "0eb76044134c4212a6b685ccc919a2ea": {
      "model_module": "@jupyter-widgets/controls",
      "model_module_version": "1.1.0",
      "model_name": "DescriptionStyleModel",
      "state": {
       "description_width": "initial"
      }
     },
     "0ebd1cd4b483496281bc5330b1e0ed53": {
      "model_module": "@jupyter-widgets/base",
      "model_module_version": "1.0.0",
      "model_name": "LayoutModel",
      "state": {
       "width": "100%"
      }
     },
     "0f7c9766594848b1b7e100654abf96b2": {
      "model_module": "@jupyter-widgets/controls",
      "model_module_version": "1.1.0",
      "model_name": "ButtonModel",
      "state": {
       "icon": "fast-backward",
       "layout": "IPY_MODEL_6e0c52f52ce54d5699e7e4e1e261ded2",
       "style": "IPY_MODEL_521a5d8b7e6f410fb8e5494f2a76e264"
      }
     },
     "0f8eb3be89874b8d94aeb5f1997429d6": {
      "model_module": "@jupyter-widgets/controls",
      "model_module_version": "1.1.0",
      "model_name": "DescriptionStyleModel",
      "state": {
       "description_width": ""
      }
     },
     "0f90d036adcd4bd2ade2bd5d49c1b006": {
      "model_module": "@jupyter-widgets/controls",
      "model_module_version": "1.1.0",
      "model_name": "VBoxModel",
      "state": {
       "children": [
        "IPY_MODEL_acc0599069c54a8da6e0252317d96f1a",
        "IPY_MODEL_f37c5e4246f1448ba3e2c09f7336c8a7",
        "IPY_MODEL_1522833bf8b94befb4f5ab9910199aee",
        "IPY_MODEL_cc47bd178c6946fe99f9b197fb2205f3",
        "IPY_MODEL_1b447df4d09c41e2b0213f60a4a9b21e",
        "IPY_MODEL_18b8f96347d047e98eb337154c1fa11d",
        "IPY_MODEL_e34f161c941846dcbca0cdc6c9728d34",
        "IPY_MODEL_7e0c2fd55a1d41499e0f38361274e8b5"
       ],
       "layout": "IPY_MODEL_4fac43195e7f4b37b5da9a9c7ed02a87"
      }
     },
     "0fcdec3937594d039365a6307c1a576c": {
      "model_module": "@jupyter-widgets/controls",
      "model_module_version": "1.1.0",
      "model_name": "IntProgressModel",
      "state": {
       "bar_style": "success",
       "layout": "IPY_MODEL_fd0aab7d14af48968d5bccfb89fdb785",
       "max": 20,
       "style": "IPY_MODEL_4994e9f4d2954a6492fb5bde1ba37254",
       "value": 20
      }
     },
     "1085c845252f48058255b407595e9154": {
      "model_module": "@jupyter-widgets/controls",
      "model_module_version": "1.1.0",
      "model_name": "DescriptionStyleModel",
      "state": {
       "description_width": ""
      }
     },
     "10c1f6229ea4473b8aa70e5408d8ee62": {
      "model_module": "@jupyter-widgets/base",
      "model_module_version": "1.0.0",
      "model_name": "LayoutModel",
      "state": {
       "justify_content": "center",
       "overflow_x": "auto",
       "overflow_y": "auto",
       "width": "95%"
      }
     },
     "113dfb776bb747b0b4c231fc13ee7e9b": {
      "model_module": "@jupyter-widgets/base",
      "model_module_version": "1.0.0",
      "model_name": "LayoutModel",
      "state": {
       "width": "100px"
      }
     },
     "11947017da2e46b2bc65fc0d0c804d75": {
      "model_module": "@jupyter-widgets/base",
      "model_module_version": "1.0.0",
      "model_name": "LayoutModel",
      "state": {
       "width": "100%"
      }
     },
     "1199a65cc8fa4820a3395d889aa37ecf": {
      "model_module": "@jupyter-widgets/controls",
      "model_module_version": "1.1.0",
      "model_name": "HTMLModel",
      "state": {
       "layout": "IPY_MODEL_126c39838ac649788236853868189bcd",
       "style": "IPY_MODEL_ecfd1c9dbbec4f7dacd06008800ca2f5",
       "value": "<p style=\"text-align:center\"><svg id='Finger Math' xmlns='http://www.w3.org/2000/svg' image-rendering=\"pixelated\" width=\"640.0000000000001px\" height=\"320.00000000000006px\">\n <g >\n  <svg viewBox=\"0 0 1000 500\" width=\"640.0000000000001px\" height=\"320.00000000000006px\">\n    <defs>\n        <marker id=\"arrow\" markerWidth=\"10\" markerHeight=\"10\" refX=\"9\" refY=\"3\" orient=\"auto\" markerUnits=\"strokeWidth\">\n          <path d=\"M0,0 L0,6 L9,3 z\" fill=\"black\" />\n        </marker>\n    </defs><rect x=\"399.0\" y=\"24\" width=\"202\" height=\"52\" style=\"fill:none;stroke:black;stroke-width:2\"/><image id=\"picture-dashboard-Finger Math-66200_output_targets_7\" class=\"picture-dashboard-Finger Math-66200_output_targets\" x=\"400.0\" y=\"25\" height=\"50\" width=\"200\" preserveAspectRatio=\"none\" href=\"data:image/gif;base64,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\"><title>Layer: output (output)\n output range: (0, 1)\n shape = (11,)\n Keras class = Dense\n activation = softmax</title></image><text x=\"605.0\" y=\"52.0\" font-family=\"monospace\" font-size=\"12\" text-anchor=\"start\" fill=\"black\" alignment-baseline=\"central\" >targets</text><line x1=\"250.0\" y1=\"80\" x2=\"750.0\" y2=\"80\" stroke=\"green\" stroke-width=\"2\"><title></title></line><rect x=\"399.0\" y=\"84\" width=\"202\" height=\"52\" style=\"fill:none;stroke:black;stroke-width:2\"/><image id=\"picture-dashboard-Finger Math-66200_output_7\" class=\"picture-dashboard-Finger Math-66200_output\" x=\"400.0\" y=\"85\" height=\"50\" width=\"200\" preserveAspectRatio=\"none\" href=\"data:image/gif;base64,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\"><title>Layer: output (output)\n output range: (0, 1)\n shape = (11,)\n Keras class = Dense\n activation = softmax</title></image><text x=\"605.0\" y=\"112.0\" font-family=\"monospace\" font-size=\"12\" text-anchor=\"start\" fill=\"black\" alignment-baseline=\"central\" >output</text><line x1=\"500.0\" y1=\"164\" x2=\"500.0\" y2=\"137\" stroke=\"black\" stroke-width=\"2\" marker-end=\"url(#arrow)\"><title>Weights from hidden to output\n output/kernel:0 has shape (100, 11)\n output/bias:0 has shape (11,)</title></line><rect x=\"399.0\" y=\"164\" width=\"202\" height=\"52\" style=\"fill:none;stroke:black;stroke-width:2\"/><image id=\"picture-dashboard-Finger Math-66200_hidden_8\" class=\"picture-dashboard-Finger Math-66200_hidden\" x=\"400.0\" y=\"165\" height=\"50\" width=\"200\" preserveAspectRatio=\"none\" href=\"data:image/gif;base64,R0lGODdhZAABAIcAAH8AAPAAAM4AALUAAJMAAP9paQAAqP8XF/9GRv99ff+hoQAATDU1/11d/2Fh/42N/7S0/8XF//8tLf+Zmf+5uf/Z2eHh//X1/wAAAAAAAAAAAAAAAAAAAAAAAAAAAAAAAAAAAAAAAAAAAAAAAAAAAAAAAAAAAAAAAAAAAAAAAAAAAAAAAAAAAAAAAAAAAAAAAAAAAAAAAAAAAAAAAAAAAAAAAAAAAAAAAAAAAAAAAAAAAAAAAAAAAAAAAAAAAAAAAAAAAAAAAAAAAAAAAAAAAAAAAAAAAAAAAAAAAAAAAAAAAAAAAAAAAAAAAAAAAAAAAAAAAAAAAAAAAAAAAAAAAAAAAAAAAAAAAAAAAAAAAAAAAAAAAAAAAAAAAAAAAAAAAAAAAAAAAAAAAAAAAAAAAAAAAAAAAAAAAAAAAAAAAAAAAAAAAAAAAAAAAAAAAAAAAAAAAAAAAAAAAAAAAAAAAAAAAAAAAAAAAAAAAAAAAAAAAAAAAAAAAAAAAAAAAAAAAAAAAAAAAAAAAAAAAAAAAAAAAAAAAAAAAAAAAAAAAAAAAAAAAAAAAAAAAAAAAAAAAAAAAAAAAAAAAAAAAAAAAAAAAAAAAAAAAAAAAAAAAAAAAAAAAAAAAAAAAAAAAAAAAAAAAAAAAAAAAAAAAAAAAAAAAAAAAAAAAAAAAAAAAAAAAAAAAAAAAAAAAAAAAAAAAAAAAAAAAAAAAAAAAAAAAAAAAAAAAAAAAAAAAAAAAAAAAAAAAAAAAAAAAAAAAAAAAAAAAAAAAAAAAAAAAAAAAAAAAAAAAAAAAAAAAAAAAAAAAAAAAAAAAAAAAAAAAAAAAAAAAAAAAAAAAAAAAAAAAAAAAAAAAAAAAAAAAAAAAAAAAAAAAAAAAAAAAAAAAAAAAAAAAAAAAAAAAAAAAAAAAAAAAAAAAAAAAAAAAAAAAAAAAAAAAAAAAAAAAAAAAAAAAAAAAAAAAAAAAAAAAAAAAAAAAAAAAAAAAAAAAAAAAAAAAAAAAAAAAAAAAAAAAAAAACwAAAAAZAABAAAIagABCChQAQEACgACBADAkGEBCwAiSgBAkWIAABgJABgAYAAAABAARAhgAIAABRMEAAgQYAACAQ4EABiQAECABgMOABAw4ACAnxcIEACwAICBBAICCFAgAECBAAAABCAAoCqABwAABGAwICAAOw==\"><title>Layer: hidden (hidden)\n output range: (0, +Infinity)\n shape = (100,)\n Keras class = Dense\n activation = relu</title></image><text x=\"605.0\" y=\"192.0\" font-family=\"monospace\" font-size=\"12\" text-anchor=\"start\" fill=\"black\" alignment-baseline=\"central\" >hidden</text><line x1=\"333.3333333333333\" y1=\"244\" x2=\"500.0\" y2=\"217\" stroke=\"black\" stroke-width=\"2\" marker-end=\"url(#arrow)\"><title>Weights from flatten1 to hidden\n hidden/kernel:0 has shape (7200, 100)\n hidden/bias:0 has shape (100,)</title></line><rect x=\"232.33333333333331\" y=\"244\" width=\"202\" height=\"52\" style=\"fill:none;stroke:black;stroke-width:2\"/><image id=\"picture-dashboard-Finger Math-66200_flatten1_9\" class=\"picture-dashboard-Finger Math-66200_flatten1\" x=\"233.33333333333331\" y=\"245\" height=\"50\" width=\"200\" preserveAspectRatio=\"none\" href=\"data:image/gif;base64,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\"><title>Layer: flatten1 (hidden)\n output range: (0.0, 0.827451)\n Keras class = Flatten</title></image><text x=\"438.3333333333333\" y=\"272.0\" font-family=\"monospace\" font-size=\"12\" text-anchor=\"start\" fill=\"black\" alignment-baseline=\"central\" >flatten1</text><line x1=\"666.6666666666666\" y1=\"244\" x2=\"500.0\" y2=\"217\" stroke=\"black\" stroke-width=\"2\" marker-end=\"url(#arrow)\"><title>Weights from flatten2 to hidden\n hidden/kernel:0 has shape (7200, 100)\n hidden/bias:0 has shape (100,)</title></line><rect x=\"565.6666666666666\" y=\"244\" width=\"202\" height=\"52\" style=\"fill:none;stroke:black;stroke-width:2\"/><image id=\"picture-dashboard-Finger Math-66200_flatten2_10\" class=\"picture-dashboard-Finger Math-66200_flatten2\" x=\"566.6666666666666\" y=\"245\" height=\"50\" width=\"200\" preserveAspectRatio=\"none\" href=\"data:image/gif;base64,R0lGODdhEA4BAIcAANfX18jIyLi4uObm5qioqJeXl4iIiHh4eFZWVmdnZ0hISDg4OCcnJ/Dw8BsbGw0NDQAAAAAAAAAAAAAAAAAAAAAAAAAAAAAAAAAAAAAAAAAAAAAAAAAAAAAAAAAAAAAAAAAAAAAAAAAAAAAAAAAAAAAAAAAAAAAAAAAAAAAAAAAAAAAAAAAAAAAAAAAAAAAAAAAAAAAAAAAAAAAAAAAAAAAAAAAAAAAAAAAAAAAAAAAAAAAAAAAAAAAAAAAAAAAAAAAAAAAAAAAAAAAAAAAAAAAAAAAAAAAAAAAAAAAAAAAAAAAAAAAAAAAAAAAAAAAAAAAAAAAAAAAAAAAAAAAAAAAAAAAAAAAAAAAAAAAAAAAAAAAAAAAAAAAAAAAAAAAAAAAAAAAAAAAAAAAAAAAAAAAAAAAAAAAAAAAAAAAAAAAAAAAAAAAAAAAAAAAAAAAAAAAAAAAAAAAAAAAAAAAAAAAAAAAAAAAAAAAAAAAAAAAAAAAAAAAAAAAAAAAAAAAAAAAAAAAAAAAAAAAAAAAAAAAAAAAAAAAAAAAAAAAAAAAAAAAAAAAAAAAAAAAAAAAAAAAAAAAAAAAAAAAAAAAAAAAAAAAAAAAAAAAAAAAAAAAAAAAAAAAAAAAAAAAAAAAAAAAAAAAAAAAAAAAAAAAAAAAAAAAAAAAAAAAAAAAAAAAAAAAAAAAAAAAAAAAAAAAAAAAAAAAAAAAAAAAAAAAAAAAAAAAAAAAAAAAAAAAAAAAAAAAAAAAAAAAAAAAAAAAAAAAAAAAAAAAAAAAAAAAAAAAAAAAAAAAAAAAAAAAAAAAAAAAAAAAAAAAAAAAAAAAAAAAAAAAAAAAAAAAAAAAAAAAAAAAAAAAAAAAAAAAAAAAAAAAAAAAAAAAAAAAAAAAAAAAAAAAAAAAAAAAAAAAAAAAAAAAAAAAAAAAAAAAAAAAAAAAAAAAAAAAAAAAAAAAAAAAAAAAAAAAAAAAAAAAAAAAAAAAAAAAAAAAAAAAAAAAAAAAAAAAAAAAAAAAAAAAAACwAAAAAEA4BAAAI/wAHABAwAEAAAAEEAAhAIAAAAgECCAgAQEAAAAICABAAAIAAAAMCABgQAMCAAAAGBBgwAMCAAQAGNAAwoAGAAQ0ADGgAYEADAAMaABjQAMCABgAGNAAwoAGAAQMADBgAYMAAAAAGBAAwIACAAQEAAAgAAEAAAAACAAAQAACAAAMABBgAIACAAAQGABAAAIAAAAEEBAAgIAAAAQEACAgAQAAAAAIAABAAAEAAAAMCABgQAMAAAAMGABgwAMCABgAGNAAwoAGAAQ0ADGgAYECDAQMaDBjQYMCABgMGNAAwoAGAAQ0ADGgAYMAAAAMGABgwAACAAQEADAgAYEAAAAACAP8AEAAAgAADAAQYACBAAAEEAAQQACCAAAABBAQAICAAAIACAgAQEACAAAAAAgAAEADAgAAABgQAMCAAgAEAAAwAMGAAgAEDAAwYAGBAAwADGgAY0ADAgAYDBjQYMKDBgAENBgxoAGBAAwADGgAYMADAgAEABgwAMGAAAAADAgAYEADAgAAAAAQAACAAAAABAAAIAABAgAACCAAIICBAAAEBAggIAEBAAAACAAAQAACAAAAAAgAYEADAgAAABgQAMCAAgAEAAAwAAGAAAAADAAAYAADAAAADGgAY0GAAgAEABjQAMKABgAENBgxoAGBAAwADBgAY0ADAgAEAAAwAAGD/AAAAAwIAGBAAwIAAAAAEAAAgAAAAAQAACAAAQIAAAggECCAgQAABAQIICBBAQAAAAgAACAAAQAAAAAIAGBAAAMABAQAMCABgAAAAAwAAGAAAwAAAAAYAADAAAIABAAAMAABgAAAAAwAAaAAAQAMAABoAANAAAIAGAAA0AACgAQAAAwAAGAAAwAAAAAYAADAAAIABAQAMCAAAQAAAAAIAABAAAIAAAQQQCBBAQIAAAgIEEBAAgIAAAAQAABAAAIAAAAAEADAgAIABAQAMCABgQAAAAwIAGAAAwAAAAAYAADAAAIABAAAMAABgAAAAAwAAGAAAQAMAABoAADAAAIAB/wAANAAAoAEAAAMAABgAAMAAAAAGAAAwAACAAQAADABgPAAAAAEAAAgAAEAAAQIIBAggIEAAAQECCAgAQEAAAAIAAAgAAEAAAAMCABgQAMCAAAAGBAAwIACAAQAADAAAAOAAAAAGAAAwAACAAQAADAAAYAAAAAMAABgAAMAAAAAGAAAwAACAAQAANAAAYAAAAAMAABgAAMAAAAAGAAAwAACAAQAADADwE2gAAAACAAAQQIAAAgECCAgQQECAAAICABAQAEAAAAACAAAQAMCAAAAGBAAwAACAAQEADAgAQICBAQAMABgQAMAAAAAGAAAwAECAAQACDAAAYACAAAMABP8YAADAAAAABgAAMAAAgAEAAAwAAGAAAAADAAAYAADAAAAABgAAMAAAgAEAaAcAACAAAAABAAAIIEAAgQABBAQIICBAAAEBAAgIAEBAAAABAAAIAABAAAADAgwAIADAAAEABgQQcECBgAQMBggwEGBAgAADAAQYECDAgAABBgAIAHBAgAADAgQYACDAAAAABgQAMCAAgAEAAAwAAGAAAAADAAAYEADAAAAABgAAMAAAgAEAWroMAABAAAAAAggQQCBAAAEBAggIEEBAAAACAgAIAABAAAAAAgAYECAqgQAHFgwggAAAAAICAggwoICBgAQMAAg4EGAAgAADAgQYECD/wIAAAQYECDAgQIABAQIMAACAQAIAAg4EGAAAwAAAAAYEADAAAIABAQAMAABgQAAAAwIA+Pw5AAAAAQAACAAAQAABrAMEEBAggIAAAQQEACAgAIAAAAAEAAAgAIABAQAAEFAgwYICChwEMKAAAAACBQocOKDAgQADCwAAKBBgAIAAAwIEGBAgwIAAAQYECDAggHwCAg4sCEAAQYABAQIMAAgAwAAAAAYEADAgAIABAQAMCABgQAAAAwIAABAAAIAAAAAEAAAggAABBAIEEBAggIAAAQQEACAgAIAAAQAEAAAgAAAAAQAMABAggIADChgYQMAggIEFAQAQOIBggQEE/w4EGFAQAICAAAMCBBgQIMCAAAEABAgwAIAAAQUKIGAgwICCAAEKBBgAIMCAAAAGBAAwIACAAQEADAgAYEAAAAACAAAQAACAAAAABAAAIIAAAQQCBCAQIICAAAEEBAAQIAAAAQEABIBNIIABBQEIHAAwAAABAgYSLHBQIAGDAAQQFChwAMGCBwYQOAggIEGAAQEEAAgQAECAAAACBBgQQICAAgYQODCAgAEBAgcCDAAQYEAAAAMCABgQAMCAAAAGAAwAYEAAAAACAAAQAACAAAAABAAAIICAigECCAgQQECAAAICABAQAIAAAAACBBBAoAACBgQQMCBgIEEAAAEOJP9QcECBAwMIHBQogCABggUGEDAQYEBBgAAGBAAIIABAAAEAAggAEEBAAAEGEjAwkIABgQIIAgwIEGBAgAADAgAYEADAgAAABgQAACAAAAABAAAIAABAAAAAAgAIEECAAAIBBBAIEEBAgAACAgQQEACAgAAABAQAEIAAAQMFEDAogIABAQMICBAogGCBgwQKHBQ4sKCAAQQJFDgwkIABgQMLAgQoIABAAAEABAgAEEAAAAEFEiwokIABAQMKAgAQEABAgAAAAgQAECAAgAAAAAQAACAAAAABAAAIAABAAAABAAYAECCAAAEEAgggECCAgAABBAQIICBAAAEBAggIEED/QAAAAQoYSHBAgQMCCRgIKJDgQAIFCRY4IHBggQADChIoYJBggQMBBhQAEJAgQIACAgAEEAAgQAAAAQocUGAAgYMCBxYIEFAgwIAAAQAECAAgAAAAAQIACAAAQAAAAAIAABAAAIAAAALkzStAAAEBAggIEBwgAIEAAQQECCAgQAABAQIICBBAQAAAAQwcQGAAgQMCBxYQMKAggQIGBxQ4MJCAwQEEDAocWACAQIIABRAEIIBAgAADAgIIEBBAQIEECwwgYFDgwAICBRIEGBAgAIAAAQAECAAgQAAAAQAACAAAQAAAAAIACLCe/XoBAggIEEBAgAACAgIQEBBAQIAA/wAFBAggQEAAAQICCAgAQICAAAQMJFhwQIGDAgcYCCigIIECBwcUOCBgYIEAAwoIHFAgwIACAgYUBCCAIEABBAIMIBBgQIEAAwgEFEBAoACCAAACBAAQIACAAAEABAgAIEAAAAEAAAgQAECAr2DDChBAQIAAAgIEEBAggIAAAQQECCAgIACBAAIIBBBQQEAAAgIACCAgoEACBQwMIGAgwICCAgcWFEiwIAABBAQOKCiQYAGBAwsKHFhAwIACAgcUEDigQIABBQEIJAAgIIGAAggCABAQAECAAAACBAAQIACAAAEABAgAIIDz59CdCxBAgIAAAgQECCAgQAABAQIICP8QQECAAAICDCQQkIBBAAMIBBA4ICCAAAIEDBxAwMAAAoAMDCRgQMCAAgEGEBAwoKBAggUEDCgocGCBgQQLCiRYUCDBAgIHFhAwgEBAAQQCCiAIEEBAAAABAgAIEABAgAAAAgQAEMDnT6A+BQQIIEAAAaRJlSIVUICAgAIEBBCgWqBAAgUEEDAQcGCBAAIJBAAQUICAgQQKHBxAwIDAAQUEDCggcGBBgQMLCBhAQMCAggIHFhg4sKBAggUFDiggYACBAAMICBhQICBAgQAAAgQAICAAAAEBAAgIULq0gAABBAQIICCAAAEBBMwmUJtAAQIEChAgUIAAgQIECBQgQKD/AAEBBJQXMJBgQQEEDAQYWEDAgAIBAgxsT2AAAYMABRAIKICAgAEFBAwgEGBAgYACCAgYUFDgwAIDCRYUOLCAAEADCggYQEDAgAIBAgwEABAgAAABAQAICBBAQIAAAgIEEBAggIAAAgQEECAggICUBFYSKECAQAECBAoUIFCgAIECBAgUIECgAAEBBQgQKHAggQIDCBwUSMAggAEFAgogMJBggQADCAIUQCDAgIIABBAEIIAgAAEEAgogKHBggYEEDAwkWFDggIICBxQUOKCAQIEDAQAEKCwgQAABAQIICBBAQIAAAgIEEBBAgIAAAgQEEOCZAGgCBQgQKGDaQIEC/wYKFDBQgICBAgQKFCBggACBAgQIFDBwAMEBBAwIHFAQoIACAgcWCDCgIEABBQIMKAhAAEEAAggCEEgQgAACAQYUGEiwwECCBQYSLDCQYIGBBAsKHFggQECBAPr1CwgQAKCAAAEEBAggIIAAAQEECAggQEAAARMJFCBQwECBAgYKFDBQoICBAgUMFChgoEABAwUKGChAwEABAgUICChgoMCBAwkWGEDAwECCBQQOKAhgAEGAAgoCFEAQgACCAAQSACCAIEABBAQMKCiQYIGBBAwMJGBgIMGCAgcWEDCwQACBAwECEAgQQEAAAQICCBAQQICAAAIIEw4gADGBAgQKGP8oUMBAgQIGChQwUKCAgQIFDBQoYKBAAQMFChgoQMBAAQIFCBAoUIBAAQMGEhxAsMAAAgYFDiwQYECBAAMIBBRAIMAAggAFEAQogCCAAQQEDigwkICBgQQMDCRgUCABAwIHGAgwwCBAAQUCCBgQ8B5+AAEEBNQXQIBAAAEEBBAoAJBAAQMFChgoYMBAgQIGChQwUKCAgQIFDBQoYKBAAQMFChgoQMBAAQIFChAoQIBAgQIEDBg4gOAAAgYGEiwocEBBgQMKCBxQQOCAAgEHFAgwoIDAgQUGEDA4gMDBAQQODiBwUCABAwEGFgQwsCBAgQUCCiQQQICAgLUCCBAQQID/QAACBAQQKECggIECBgwUMHDAgIEDBgwcMGDggAEDBwwYOFCggIECBQwUKGCgQAEDBToXIFCAAIECBAQQKFDAwIEECA4gYGAAwYICCRYUSKCgQIIFBRIoKJBggQEEDA4gYHAAgYMDCBwcQOCgQAIGBA4sEGBgQQADCwQYUCCAQAEBBAgIIEAgAAECAggUIFDAAIECBgoYuG/ggAEDBwwYAHjAgIEDBgwcMJDQQAEDBQoYKFDAQIECBgoQKECAQAECHQV8BFmggIEDCRQcQLDgAAIGBhAsMIBgwQEEDA4ocHBAgYMEChwcQODgAAIGBxAwMICAAYEECwQcWBDAgIIAigYWCChwQAABAgEIEBBAoICAAgYIFDBQoICBAgYOGDBwwICBAwYMHDBg4IABvn37FihgoMBgwgUIFCCQWIAAAgIcCwgQQMDkApUNHMCcAEECBQsQLHCAYIGDBAocJFDAIIECBwcQMDiAgMEBBA4MIGBQIAEDAQkWCDiwIMCBBQIMIAhAoECAAgUCAgA7\"><title>Layer: flatten2 (hidden)\n output range: (0.0, 0.81960785)\n Keras class = Flatten</title></image><text x=\"771.6666666666666\" y=\"272.0\" font-family=\"monospace\" font-size=\"12\" text-anchor=\"start\" fill=\"black\" alignment-baseline=\"central\" >flatten2</text><line x1=\"333.3333333333333\" y1=\"324\" x2=\"333.3333333333333\" y2=\"297\" stroke=\"black\" stroke-width=\"2\" marker-end=\"url(#arrow)\"><title>Weights from input1 to flatten1</title></line><rect x=\"232.33333333333331\" y=\"324\" width=\"202\" height=\"152\" style=\"fill:none;stroke:black;stroke-width:2\"/><image id=\"picture-dashboard-Finger Math-66200_input1_11\" class=\"picture-dashboard-Finger Math-66200_input1\" x=\"233.33333333333331\" y=\"325\" height=\"150\" width=\"200\" preserveAspectRatio=\"none\" href=\"data:image/gif;base64,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\"><title>Layer: input1 (input)\n output range: (0.0, 0.827451)\n shape = (30, 40, 3)\n Keras class = Input</title></image><text x=\"438.3333333333333\" y=\"402.0\" font-family=\"monospace\" font-size=\"12\" text-anchor=\"start\" fill=\"black\" alignment-baseline=\"central\" >input1</text><line x1=\"666.6666666666666\" y1=\"324\" x2=\"666.6666666666666\" y2=\"297\" stroke=\"black\" stroke-width=\"2\" marker-end=\"url(#arrow)\"><title>Weights from input2 to flatten2</title></line><rect x=\"565.6666666666666\" y=\"324\" width=\"202\" height=\"152\" style=\"fill:none;stroke:black;stroke-width:2\"/><image id=\"picture-dashboard-Finger Math-66200_input2_12\" class=\"picture-dashboard-Finger Math-66200_input2\" x=\"566.6666666666666\" y=\"325\" height=\"150\" width=\"200\" preserveAspectRatio=\"none\" href=\"data:image/gif;base64,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\"><title>Layer: input2 (input)\n output range: (0.0, 0.81960785)\n shape = (30, 40, 3)\n Keras class = Input</title></image><text x=\"771.6666666666666\" y=\"402.0\" font-family=\"monospace\" font-size=\"12\" text-anchor=\"start\" fill=\"black\" alignment-baseline=\"central\" >input2</text><text x=\"500.0\" y=\"12.5\" font-family=\"monospace\" font-size=\"15\" text-anchor=\"middle\" fill=\"black\" alignment-baseline=\"central\" >Finger Math</text></svg></g></svg></p>"
      }
     },
     "11ca9bad585d46d8a9ab3445e9fbf39b": {
      "model_module": "@jupyter-widgets/controls",
      "model_module_version": "1.1.0",
      "model_name": "DescriptionStyleModel",
      "state": {
       "description_width": ""
      }
     },
     "1203efdc62b545fab04d4dc21515c39d": {
      "model_module": "@jupyter-widgets/controls",
      "model_module_version": "1.1.0",
      "model_name": "IntTextModel",
      "state": {
       "description": "Feature columns:",
       "layout": "IPY_MODEL_8854d64ddc664b25afb73aabe6f32bd0",
       "step": 1,
       "style": "IPY_MODEL_f35e96e6f89f4095af7714905e035ba6",
       "value": 3
      }
     },
     "126c39838ac649788236853868189bcd": {
      "model_module": "@jupyter-widgets/base",
      "model_module_version": "1.0.0",
      "model_name": "LayoutModel",
      "state": {
       "justify_content": "center",
       "overflow_x": "auto",
       "overflow_y": "auto",
       "width": "95%"
      }
     },
     "1273ae24c59841cebd5f4cadb840bf15": {
      "model_module": "@jupyter-widgets/controls",
      "model_module_version": "1.1.0",
      "model_name": "ButtonModel",
      "state": {
       "icon": "refresh",
       "layout": "IPY_MODEL_e04341279ac94182b503348ce00ae39b",
       "style": "IPY_MODEL_1509a27041c444408dbb50280a2b70cc"
      }
     },
     "12a6fedb5ebc4071b37840c15b99f7be": {
      "model_module": "@jupyter-widgets/controls",
      "model_module_version": "1.1.0",
      "model_name": "DescriptionStyleModel",
      "state": {
       "description_width": "initial"
      }
     },
     "12f49db389a2413692067c9a6f148240": {
      "model_module": "@jupyter-widgets/controls",
      "model_module_version": "1.1.0",
      "model_name": "HTMLModel",
      "state": {
       "layout": "IPY_MODEL_ebbe271fde1746d5b3836c3e2dae5f6c",
       "style": "IPY_MODEL_4fe0128d6d144495889dda07e16fb76b",
       "value": "<p style=\"text-align:center\"><svg id='Hiding' xmlns='http://www.w3.org/2000/svg' image-rendering=\"pixelated\" width=\"400.0px\" height=\"160.0px\">\n <g >\n  <svg viewBox=\"0 0 1050 420\" width=\"400.0px\" height=\"160.0px\">\n    <defs>\n        <marker id=\"arrow\" markerWidth=\"10\" markerHeight=\"10\" refX=\"9\" refY=\"3\" orient=\"auto\" markerUnits=\"strokeWidth\">\n          <path d=\"M0,0 L0,6 L9,3 z\" fill=\"black\" />\n        </marker>\n    </defs><rect x=\"249.0\" y=\"24\" width=\"202\" height=\"52\" style=\"fill:none;stroke:black;stroke-width:2\"/><image id=\"picture-dashboard-Hiding-86731_output1_40\" class=\"picture-dashboard-Hiding-86731_output1\" x=\"250.0\" y=\"25\" height=\"50\" width=\"200\" preserveAspectRatio=\"none\" href=\"data:image/gif;base64,R0lGODdhMgABAIcAAP/9/QAAAAAAAAAAAAAAAAAAAAAAAAAAAAAAAAAAAAAAAAAAAAAAAAAAAAAAAAAAAAAAAAAAAAAAAAAAAAAAAAAAAAAAAAAAAAAAAAAAAAAAAAAAAAAAAAAAAAAAAAAAAAAAAAAAAAAAAAAAAAAAAAAAAAAAAAAAAAAAAAAAAAAAAAAAAAAAAAAAAAAAAAAAAAAAAAAAAAAAAAAAAAAAAAAAAAAAAAAAAAAAAAAAAAAAAAAAAAAAAAAAAAAAAAAAAAAAAAAAAAAAAAAAAAAAAAAAAAAAAAAAAAAAAAAAAAAAAAAAAAAAAAAAAAAAAAAAAAAAAAAAAAAAAAAAAAAAAAAAAAAAAAAAAAAAAAAAAAAAAAAAAAAAAAAAAAAAAAAAAAAAAAAAAAAAAAAAAAAAAAAAAAAAAAAAAAAAAAAAAAAAAAAAAAAAAAAAAAAAAAAAAAAAAAAAAAAAAAAAAAAAAAAAAAAAAAAAAAAAAAAAAAAAAAAAAAAAAAAAAAAAAAAAAAAAAAAAAAAAAAAAAAAAAAAAAAAAAAAAAAAAAAAAAAAAAAAAAAAAAAAAAAAAAAAAAAAAAAAAAAAAAAAAAAAAAAAAAAAAAAAAAAAAAAAAAAAAAAAAAAAAAAAAAAAAAAAAAAAAAAAAAAAAAAAAAAAAAAAAAAAAAAAAAAAAAAAAAAAAAAAAAAAAAAAAAAAAAAAAAAAAAAAAAAAAAAAAAAAAAAAAAAAAAAAAAAAAAAAAAAAAAAAAAAAAAAAAAAAAAAAAAAAAAAAAAAAAAAAAAAAAAAAAAAAAAAAAAAAAAAAAAAAAAAAAAAAAAAAAAAAAAAAAAAAAAAAAAAAAAAAAAAAAAAAAAAAAAAAAAAAAAAAAAAAAAAAAAAAAAAAAAAAAAAAAAAAAAAAAAAAAAAAAAAAAAAAAAAAAAAAAAAAAAAAAAAAAAAAAAAAAAAAAAAAAAAAAAAAAAAAAAAAAAAAAAAAAAAAAAAAAAAAAAAAAAAAAAAAAAAAAAAAAAAAAAAAAAAAAACwAAAAAMgABAAAIDgABCBxIsKDBgwgTFgwIADs=\"><title>Layer: output1 (output)\n output range: (-Infinity, +Infinity)\n shape = (50,)\n Keras class = Dense</title></image><text x=\"455.0\" y=\"52.0\" font-family=\"monospace\" font-size=\"12\" text-anchor=\"start\" fill=\"black\" alignment-baseline=\"central\" >output1</text><rect x=\"599.0\" y=\"24\" width=\"202\" height=\"52\" style=\"fill:none;stroke:black;stroke-width:2\"/><image id=\"picture-dashboard-Hiding-86731_output2_41\" class=\"picture-dashboard-Hiding-86731_output2\" x=\"600.0\" y=\"25\" height=\"50\" width=\"200\" preserveAspectRatio=\"none\" href=\"data:image/gif;base64,R0lGODdhMgABAIcAAP/9/QAAAAAAAAAAAAAAAAAAAAAAAAAAAAAAAAAAAAAAAAAAAAAAAAAAAAAAAAAAAAAAAAAAAAAAAAAAAAAAAAAAAAAAAAAAAAAAAAAAAAAAAAAAAAAAAAAAAAAAAAAAAAAAAAAAAAAAAAAAAAAAAAAAAAAAAAAAAAAAAAAAAAAAAAAAAAAAAAAAAAAAAAAAAAAAAAAAAAAAAAAAAAAAAAAAAAAAAAAAAAAAAAAAAAAAAAAAAAAAAAAAAAAAAAAAAAAAAAAAAAAAAAAAAAAAAAAAAAAAAAAAAAAAAAAAAAAAAAAAAAAAAAAAAAAAAAAAAAAAAAAAAAAAAAAAAAAAAAAAAAAAAAAAAAAAAAAAAAAAAAAAAAAAAAAAAAAAAAAAAAAAAAAAAAAAAAAAAAAAAAAAAAAAAAAAAAAAAAAAAAAAAAAAAAAAAAAAAAAAAAAAAAAAAAAAAAAAAAAAAAAAAAAAAAAAAAAAAAAAAAAAAAAAAAAAAAAAAAAAAAAAAAAAAAAAAAAAAAAAAAAAAAAAAAAAAAAAAAAAAAAAAAAAAAAAAAAAAAAAAAAAAAAAAAAAAAAAAAAAAAAAAAAAAAAAAAAAAAAAAAAAAAAAAAAAAAAAAAAAAAAAAAAAAAAAAAAAAAAAAAAAAAAAAAAAAAAAAAAAAAAAAAAAAAAAAAAAAAAAAAAAAAAAAAAAAAAAAAAAAAAAAAAAAAAAAAAAAAAAAAAAAAAAAAAAAAAAAAAAAAAAAAAAAAAAAAAAAAAAAAAAAAAAAAAAAAAAAAAAAAAAAAAAAAAAAAAAAAAAAAAAAAAAAAAAAAAAAAAAAAAAAAAAAAAAAAAAAAAAAAAAAAAAAAAAAAAAAAAAAAAAAAAAAAAAAAAAAAAAAAAAAAAAAAAAAAAAAAAAAAAAAAAAAAAAAAAAAAAAAAAAAAAAAAAAAAAAAAAAAAAAAAAAAAAAAAAAAAAAAAAAAAAAAAAAAAAAAAAAAAAAAAAAAAAAAAAAAAAAAAAAAAAAAAAAAAAAAAAAACwAAAAAMgABAAAIDgABCBxIsKDBgwgTFgwIADs=\"><title>Layer: output2 (output)\n output range: (-Infinity, +Infinity)\n shape = (50,)\n Keras class = Dense</title></image><text x=\"805.0\" y=\"52.0\" font-family=\"monospace\" font-size=\"12\" text-anchor=\"start\" fill=\"black\" alignment-baseline=\"central\" >output2</text><line x1=\"525.0\" y1=\"104\" x2=\"350.0\" y2=\"77\" stroke=\"black\" stroke-width=\"2\" marker-end=\"url(#arrow)\"><title>Weights from merge to output1\n output1/kernel:0 has shape (50, 50)\n output1/bias:0 has shape (50,)</title></line><line x1=\"525.0\" y1=\"104\" x2=\"700.0\" y2=\"77\" stroke=\"black\" stroke-width=\"2\" marker-end=\"url(#arrow)\"><title>Weights from merge to output2\n output2/kernel:0 has shape (50, 50)\n output2/bias:0 has shape (50,)</title></line><rect x=\"424.0\" y=\"104\" width=\"202\" height=\"52\" style=\"fill:none;stroke:black;stroke-width:2\"/><image id=\"picture-dashboard-Hiding-86731_merge_42\" class=\"picture-dashboard-Hiding-86731_merge\" x=\"425.0\" y=\"105\" height=\"50\" width=\"200\" preserveAspectRatio=\"none\" href=\"data:image/gif;base64,R0lGODdhMgABAIcAAP/9/QAAAAAAAAAAAAAAAAAAAAAAAAAAAAAAAAAAAAAAAAAAAAAAAAAAAAAAAAAAAAAAAAAAAAAAAAAAAAAAAAAAAAAAAAAAAAAAAAAAAAAAAAAAAAAAAAAAAAAAAAAAAAAAAAAAAAAAAAAAAAAAAAAAAAAAAAAAAAAAAAAAAAAAAAAAAAAAAAAAAAAAAAAAAAAAAAAAAAAAAAAAAAAAAAAAAAAAAAAAAAAAAAAAAAAAAAAAAAAAAAAAAAAAAAAAAAAAAAAAAAAAAAAAAAAAAAAAAAAAAAAAAAAAAAAAAAAAAAAAAAAAAAAAAAAAAAAAAAAAAAAAAAAAAAAAAAAAAAAAAAAAAAAAAAAAAAAAAAAAAAAAAAAAAAAAAAAAAAAAAAAAAAAAAAAAAAAAAAAAAAAAAAAAAAAAAAAAAAAAAAAAAAAAAAAAAAAAAAAAAAAAAAAAAAAAAAAAAAAAAAAAAAAAAAAAAAAAAAAAAAAAAAAAAAAAAAAAAAAAAAAAAAAAAAAAAAAAAAAAAAAAAAAAAAAAAAAAAAAAAAAAAAAAAAAAAAAAAAAAAAAAAAAAAAAAAAAAAAAAAAAAAAAAAAAAAAAAAAAAAAAAAAAAAAAAAAAAAAAAAAAAAAAAAAAAAAAAAAAAAAAAAAAAAAAAAAAAAAAAAAAAAAAAAAAAAAAAAAAAAAAAAAAAAAAAAAAAAAAAAAAAAAAAAAAAAAAAAAAAAAAAAAAAAAAAAAAAAAAAAAAAAAAAAAAAAAAAAAAAAAAAAAAAAAAAAAAAAAAAAAAAAAAAAAAAAAAAAAAAAAAAAAAAAAAAAAAAAAAAAAAAAAAAAAAAAAAAAAAAAAAAAAAAAAAAAAAAAAAAAAAAAAAAAAAAAAAAAAAAAAAAAAAAAAAAAAAAAAAAAAAAAAAAAAAAAAAAAAAAAAAAAAAAAAAAAAAAAAAAAAAAAAAAAAAAAAAAAAAAAAAAAAAAAAAAAAAAAAAAAAAAAAAAAAAAAAAAAAAAAAAAAAAAAAAAAAAAAAAAACwAAAAAMgABAAAIDgABCBxIsKDBgwgTFgwIADs=\"><title>Layer: merge (hidden)\n output range: (-Infinity, +Infinity)\n shape = (50,)\n Keras class = Dense</title></image><text x=\"630.0\" y=\"132.0\" font-family=\"monospace\" font-size=\"12\" text-anchor=\"start\" fill=\"black\" alignment-baseline=\"central\" >merge</text><line x1=\"262.5\" y1=\"184\" x2=\"525.0\" y2=\"157\" stroke=\"black\" stroke-width=\"2\" marker-end=\"url(#arrow)\"><title>Weights from hidden1-2 to merge\n merge/kernel:0 has shape (150, 50)\n merge/bias:0 has shape (50,)</title></line><rect x=\"161.5\" y=\"184\" width=\"202\" height=\"52\" style=\"fill:none;stroke:black;stroke-width:2\"/><image id=\"picture-dashboard-Hiding-86731_hidden1-2_43\" class=\"picture-dashboard-Hiding-86731_hidden1-2\" x=\"162.5\" y=\"185\" height=\"50\" width=\"200\" preserveAspectRatio=\"none\" href=\"data:image/gif;base64,R0lGODdhMgABAIcAAP/9/QAAAAAAAAAAAAAAAAAAAAAAAAAAAAAAAAAAAAAAAAAAAAAAAAAAAAAAAAAAAAAAAAAAAAAAAAAAAAAAAAAAAAAAAAAAAAAAAAAAAAAAAAAAAAAAAAAAAAAAAAAAAAAAAAAAAAAAAAAAAAAAAAAAAAAAAAAAAAAAAAAAAAAAAAAAAAAAAAAAAAAAAAAAAAAAAAAAAAAAAAAAAAAAAAAAAAAAAAAAAAAAAAAAAAAAAAAAAAAAAAAAAAAAAAAAAAAAAAAAAAAAAAAAAAAAAAAAAAAAAAAAAAAAAAAAAAAAAAAAAAAAAAAAAAAAAAAAAAAAAAAAAAAAAAAAAAAAAAAAAAAAAAAAAAAAAAAAAAAAAAAAAAAAAAAAAAAAAAAAAAAAAAAAAAAAAAAAAAAAAAAAAAAAAAAAAAAAAAAAAAAAAAAAAAAAAAAAAAAAAAAAAAAAAAAAAAAAAAAAAAAAAAAAAAAAAAAAAAAAAAAAAAAAAAAAAAAAAAAAAAAAAAAAAAAAAAAAAAAAAAAAAAAAAAAAAAAAAAAAAAAAAAAAAAAAAAAAAAAAAAAAAAAAAAAAAAAAAAAAAAAAAAAAAAAAAAAAAAAAAAAAAAAAAAAAAAAAAAAAAAAAAAAAAAAAAAAAAAAAAAAAAAAAAAAAAAAAAAAAAAAAAAAAAAAAAAAAAAAAAAAAAAAAAAAAAAAAAAAAAAAAAAAAAAAAAAAAAAAAAAAAAAAAAAAAAAAAAAAAAAAAAAAAAAAAAAAAAAAAAAAAAAAAAAAAAAAAAAAAAAAAAAAAAAAAAAAAAAAAAAAAAAAAAAAAAAAAAAAAAAAAAAAAAAAAAAAAAAAAAAAAAAAAAAAAAAAAAAAAAAAAAAAAAAAAAAAAAAAAAAAAAAAAAAAAAAAAAAAAAAAAAAAAAAAAAAAAAAAAAAAAAAAAAAAAAAAAAAAAAAAAAAAAAAAAAAAAAAAAAAAAAAAAAAAAAAAAAAAAAAAAAAAAAAAAAAAAAAAAAAAAAAAAAAAAAAAAAAAAACwAAAAAMgABAAAIDgABCBxIsKDBgwgTFgwIADs=\"><title>Layer: hidden1-2 (hidden)\n output range: (-Infinity, +Infinity)\n shape = (50,)\n Keras class = Dense</title></image><text x=\"367.5\" y=\"212.0\" font-family=\"monospace\" font-size=\"12\" text-anchor=\"start\" fill=\"black\" alignment-baseline=\"central\" >hidden1-2</text><line x1=\"525.0\" y1=\"184\" x2=\"525.0\" y2=\"157\" stroke=\"black\" stroke-width=\"2\" marker-end=\"url(#arrow)\"><title>Weights from hidden2-2 to merge\n merge/kernel:0 has shape (150, 50)\n merge/bias:0 has shape (50,)</title></line><rect x=\"424.0\" y=\"184\" width=\"202\" height=\"52\" style=\"fill:none;stroke:black;stroke-width:2\"/><image id=\"picture-dashboard-Hiding-86731_hidden2-2_44\" class=\"picture-dashboard-Hiding-86731_hidden2-2\" x=\"425.0\" y=\"185\" height=\"50\" width=\"200\" preserveAspectRatio=\"none\" href=\"data:image/gif;base64,R0lGODdhMgABAIcAAP/9/QAAAAAAAAAAAAAAAAAAAAAAAAAAAAAAAAAAAAAAAAAAAAAAAAAAAAAAAAAAAAAAAAAAAAAAAAAAAAAAAAAAAAAAAAAAAAAAAAAAAAAAAAAAAAAAAAAAAAAAAAAAAAAAAAAAAAAAAAAAAAAAAAAAAAAAAAAAAAAAAAAAAAAAAAAAAAAAAAAAAAAAAAAAAAAAAAAAAAAAAAAAAAAAAAAAAAAAAAAAAAAAAAAAAAAAAAAAAAAAAAAAAAAAAAAAAAAAAAAAAAAAAAAAAAAAAAAAAAAAAAAAAAAAAAAAAAAAAAAAAAAAAAAAAAAAAAAAAAAAAAAAAAAAAAAAAAAAAAAAAAAAAAAAAAAAAAAAAAAAAAAAAAAAAAAAAAAAAAAAAAAAAAAAAAAAAAAAAAAAAAAAAAAAAAAAAAAAAAAAAAAAAAAAAAAAAAAAAAAAAAAAAAAAAAAAAAAAAAAAAAAAAAAAAAAAAAAAAAAAAAAAAAAAAAAAAAAAAAAAAAAAAAAAAAAAAAAAAAAAAAAAAAAAAAAAAAAAAAAAAAAAAAAAAAAAAAAAAAAAAAAAAAAAAAAAAAAAAAAAAAAAAAAAAAAAAAAAAAAAAAAAAAAAAAAAAAAAAAAAAAAAAAAAAAAAAAAAAAAAAAAAAAAAAAAAAAAAAAAAAAAAAAAAAAAAAAAAAAAAAAAAAAAAAAAAAAAAAAAAAAAAAAAAAAAAAAAAAAAAAAAAAAAAAAAAAAAAAAAAAAAAAAAAAAAAAAAAAAAAAAAAAAAAAAAAAAAAAAAAAAAAAAAAAAAAAAAAAAAAAAAAAAAAAAAAAAAAAAAAAAAAAAAAAAAAAAAAAAAAAAAAAAAAAAAAAAAAAAAAAAAAAAAAAAAAAAAAAAAAAAAAAAAAAAAAAAAAAAAAAAAAAAAAAAAAAAAAAAAAAAAAAAAAAAAAAAAAAAAAAAAAAAAAAAAAAAAAAAAAAAAAAAAAAAAAAAAAAAAAAAAAAAAAAAAAAAAAAAAAAAAAAAAAAAAAAAAAAAAAACwAAAAAMgABAAAIDgABCBxIsKDBgwgTFgwIADs=\"><title>Layer: hidden2-2 (hidden)\n output range: (-Infinity, +Infinity)\n shape = (50,)\n Keras class = Dense</title></image><text x=\"630.0\" y=\"212.0\" font-family=\"monospace\" font-size=\"12\" text-anchor=\"start\" fill=\"black\" alignment-baseline=\"central\" >hidden2-2</text><line x1=\"787.5\" y1=\"185\" x2=\"525.0\" y2=\"155\" stroke=\"black\" stroke-width=\"2\" marker-end=\"url(#arrow)\"><title>Weights from input3 to merge\n merge/kernel:0 has shape (150, 50)\n merge/bias:0 has shape (50,)</title></line><text x=\"182.5\" y=\"280\" font-family=\"monospace\" font-size=\"12\" text-anchor=\"start\" fill=\"green\" alignment-baseline=\"central\" >[layer(s) not visible]</text><line x1=\"525.0\" y1=\"264\" x2=\"525.0\" y2=\"237\" stroke=\"black\" stroke-width=\"2\" marker-end=\"url(#arrow)\"><title>Weights from hidden2 to hidden2-2\n hidden2-2/kernel:0 has shape (50, 50)\n hidden2-2/bias:0 has shape (50,)</title></line><rect x=\"424.0\" y=\"264\" width=\"202\" height=\"52\" style=\"fill:none;stroke:black;stroke-width:2\"/><image id=\"picture-dashboard-Hiding-86731_hidden2_45\" class=\"picture-dashboard-Hiding-86731_hidden2\" x=\"425.0\" y=\"265\" height=\"50\" width=\"200\" preserveAspectRatio=\"none\" href=\"data:image/gif;base64,R0lGODdhMgABAIcAAP/9/QAAAAAAAAAAAAAAAAAAAAAAAAAAAAAAAAAAAAAAAAAAAAAAAAAAAAAAAAAAAAAAAAAAAAAAAAAAAAAAAAAAAAAAAAAAAAAAAAAAAAAAAAAAAAAAAAAAAAAAAAAAAAAAAAAAAAAAAAAAAAAAAAAAAAAAAAAAAAAAAAAAAAAAAAAAAAAAAAAAAAAAAAAAAAAAAAAAAAAAAAAAAAAAAAAAAAAAAAAAAAAAAAAAAAAAAAAAAAAAAAAAAAAAAAAAAAAAAAAAAAAAAAAAAAAAAAAAAAAAAAAAAAAAAAAAAAAAAAAAAAAAAAAAAAAAAAAAAAAAAAAAAAAAAAAAAAAAAAAAAAAAAAAAAAAAAAAAAAAAAAAAAAAAAAAAAAAAAAAAAAAAAAAAAAAAAAAAAAAAAAAAAAAAAAAAAAAAAAAAAAAAAAAAAAAAAAAAAAAAAAAAAAAAAAAAAAAAAAAAAAAAAAAAAAAAAAAAAAAAAAAAAAAAAAAAAAAAAAAAAAAAAAAAAAAAAAAAAAAAAAAAAAAAAAAAAAAAAAAAAAAAAAAAAAAAAAAAAAAAAAAAAAAAAAAAAAAAAAAAAAAAAAAAAAAAAAAAAAAAAAAAAAAAAAAAAAAAAAAAAAAAAAAAAAAAAAAAAAAAAAAAAAAAAAAAAAAAAAAAAAAAAAAAAAAAAAAAAAAAAAAAAAAAAAAAAAAAAAAAAAAAAAAAAAAAAAAAAAAAAAAAAAAAAAAAAAAAAAAAAAAAAAAAAAAAAAAAAAAAAAAAAAAAAAAAAAAAAAAAAAAAAAAAAAAAAAAAAAAAAAAAAAAAAAAAAAAAAAAAAAAAAAAAAAAAAAAAAAAAAAAAAAAAAAAAAAAAAAAAAAAAAAAAAAAAAAAAAAAAAAAAAAAAAAAAAAAAAAAAAAAAAAAAAAAAAAAAAAAAAAAAAAAAAAAAAAAAAAAAAAAAAAAAAAAAAAAAAAAAAAAAAAAAAAAAAAAAAAAAAAAAAAAAAAAAAAAAAAAAAAAAAAAAAAAAAAAAAAAAACwAAAAAMgABAAAIDgABCBxIsKDBgwgTFgwIADs=\"><title>Layer: hidden2 (hidden)\n output range: (-Infinity, +Infinity)\n shape = (50,)\n Keras class = Dense</title></image><text x=\"630.0\" y=\"292.0\" font-family=\"monospace\" font-size=\"12\" text-anchor=\"start\" fill=\"black\" alignment-baseline=\"central\" >hidden2</text><line x1=\"787.5\" y1=\"265\" x2=\"787.5\" y2=\"185\" stroke=\"black\" stroke-width=\"2\"><title>Weights from input3 to merge\n merge/kernel:0 has shape (150, 50)\n merge/bias:0 has shape (50,)</title></line><rect x=\"161.5\" y=\"344\" width=\"202\" height=\"52\" style=\"fill:none;stroke:black;stroke-width:2\"/><image id=\"picture-dashboard-Hiding-86731_input1_46\" class=\"picture-dashboard-Hiding-86731_input1\" x=\"162.5\" y=\"345\" height=\"50\" width=\"200\" preserveAspectRatio=\"none\" href=\"data:image/gif;base64,R0lGODdhMgABAIcAAH9/fwAAAAAAAAAAAAAAAAAAAAAAAAAAAAAAAAAAAAAAAAAAAAAAAAAAAAAAAAAAAAAAAAAAAAAAAAAAAAAAAAAAAAAAAAAAAAAAAAAAAAAAAAAAAAAAAAAAAAAAAAAAAAAAAAAAAAAAAAAAAAAAAAAAAAAAAAAAAAAAAAAAAAAAAAAAAAAAAAAAAAAAAAAAAAAAAAAAAAAAAAAAAAAAAAAAAAAAAAAAAAAAAAAAAAAAAAAAAAAAAAAAAAAAAAAAAAAAAAAAAAAAAAAAAAAAAAAAAAAAAAAAAAAAAAAAAAAAAAAAAAAAAAAAAAAAAAAAAAAAAAAAAAAAAAAAAAAAAAAAAAAAAAAAAAAAAAAAAAAAAAAAAAAAAAAAAAAAAAAAAAAAAAAAAAAAAAAAAAAAAAAAAAAAAAAAAAAAAAAAAAAAAAAAAAAAAAAAAAAAAAAAAAAAAAAAAAAAAAAAAAAAAAAAAAAAAAAAAAAAAAAAAAAAAAAAAAAAAAAAAAAAAAAAAAAAAAAAAAAAAAAAAAAAAAAAAAAAAAAAAAAAAAAAAAAAAAAAAAAAAAAAAAAAAAAAAAAAAAAAAAAAAAAAAAAAAAAAAAAAAAAAAAAAAAAAAAAAAAAAAAAAAAAAAAAAAAAAAAAAAAAAAAAAAAAAAAAAAAAAAAAAAAAAAAAAAAAAAAAAAAAAAAAAAAAAAAAAAAAAAAAAAAAAAAAAAAAAAAAAAAAAAAAAAAAAAAAAAAAAAAAAAAAAAAAAAAAAAAAAAAAAAAAAAAAAAAAAAAAAAAAAAAAAAAAAAAAAAAAAAAAAAAAAAAAAAAAAAAAAAAAAAAAAAAAAAAAAAAAAAAAAAAAAAAAAAAAAAAAAAAAAAAAAAAAAAAAAAAAAAAAAAAAAAAAAAAAAAAAAAAAAAAAAAAAAAAAAAAAAAAAAAAAAAAAAAAAAAAAAAAAAAAAAAAAAAAAAAAAAAAAAAAAAAAAAAAAAAAAAAAAAAAAAAAAAAAAAAAAAAAAAAAAAAAAAAAAAAAAAACwAAAAAMgABAAAIDgABCBxIsKDBgwgTFgwIADs=\"><title>Layer: input1 (input)\n output range: (-Infinity, +Infinity)\n shape = (50,)\n Keras class = Input</title></image><text x=\"367.5\" y=\"372.0\" font-family=\"monospace\" font-size=\"12\" text-anchor=\"start\" fill=\"black\" alignment-baseline=\"central\" >input1</text><line x1=\"525.0\" y1=\"344\" x2=\"525.0\" y2=\"317\" stroke=\"black\" stroke-width=\"2\" marker-end=\"url(#arrow)\"><title>Weights from input2 to hidden2\n hidden2/kernel:0 has shape (50, 50)\n hidden2/bias:0 has shape (50,)</title></line><rect x=\"424.0\" y=\"344\" width=\"202\" height=\"52\" style=\"fill:none;stroke:black;stroke-width:2\"/><image id=\"picture-dashboard-Hiding-86731_input2_47\" class=\"picture-dashboard-Hiding-86731_input2\" x=\"425.0\" y=\"345\" height=\"50\" width=\"200\" preserveAspectRatio=\"none\" href=\"data:image/gif;base64,R0lGODdhMgABAIcAAH9/fwAAAAAAAAAAAAAAAAAAAAAAAAAAAAAAAAAAAAAAAAAAAAAAAAAAAAAAAAAAAAAAAAAAAAAAAAAAAAAAAAAAAAAAAAAAAAAAAAAAAAAAAAAAAAAAAAAAAAAAAAAAAAAAAAAAAAAAAAAAAAAAAAAAAAAAAAAAAAAAAAAAAAAAAAAAAAAAAAAAAAAAAAAAAAAAAAAAAAAAAAAAAAAAAAAAAAAAAAAAAAAAAAAAAAAAAAAAAAAAAAAAAAAAAAAAAAAAAAAAAAAAAAAAAAAAAAAAAAAAAAAAAAAAAAAAAAAAAAAAAAAAAAAAAAAAAAAAAAAAAAAAAAAAAAAAAAAAAAAAAAAAAAAAAAAAAAAAAAAAAAAAAAAAAAAAAAAAAAAAAAAAAAAAAAAAAAAAAAAAAAAAAAAAAAAAAAAAAAAAAAAAAAAAAAAAAAAAAAAAAAAAAAAAAAAAAAAAAAAAAAAAAAAAAAAAAAAAAAAAAAAAAAAAAAAAAAAAAAAAAAAAAAAAAAAAAAAAAAAAAAAAAAAAAAAAAAAAAAAAAAAAAAAAAAAAAAAAAAAAAAAAAAAAAAAAAAAAAAAAAAAAAAAAAAAAAAAAAAAAAAAAAAAAAAAAAAAAAAAAAAAAAAAAAAAAAAAAAAAAAAAAAAAAAAAAAAAAAAAAAAAAAAAAAAAAAAAAAAAAAAAAAAAAAAAAAAAAAAAAAAAAAAAAAAAAAAAAAAAAAAAAAAAAAAAAAAAAAAAAAAAAAAAAAAAAAAAAAAAAAAAAAAAAAAAAAAAAAAAAAAAAAAAAAAAAAAAAAAAAAAAAAAAAAAAAAAAAAAAAAAAAAAAAAAAAAAAAAAAAAAAAAAAAAAAAAAAAAAAAAAAAAAAAAAAAAAAAAAAAAAAAAAAAAAAAAAAAAAAAAAAAAAAAAAAAAAAAAAAAAAAAAAAAAAAAAAAAAAAAAAAAAAAAAAAAAAAAAAAAAAAAAAAAAAAAAAAAAAAAAAAAAAAAAAAAAAAAAAAAAAAAAAAAAAAAAAAAAAAAACwAAAAAMgABAAAIDgABCBxIsKDBgwgTFgwIADs=\"><title>Layer: input2 (input)\n output range: (-Infinity, +Infinity)\n shape = (50,)\n Keras class = Input</title></image><text x=\"630.0\" y=\"372.0\" font-family=\"monospace\" font-size=\"12\" text-anchor=\"start\" fill=\"black\" alignment-baseline=\"central\" >input2</text><line x1=\"787.5\" y1=\"344\" x2=\"787.5\" y2=\"265\" stroke=\"black\" stroke-width=\"2\"><title>Weights from input3 to merge\n merge/kernel:0 has shape (150, 50)\n merge/bias:0 has shape (50,)</title></line><rect x=\"686.5\" y=\"344\" width=\"202\" height=\"52\" style=\"fill:none;stroke:black;stroke-width:2\"/><image id=\"picture-dashboard-Hiding-86731_input3_48\" class=\"picture-dashboard-Hiding-86731_input3\" x=\"687.5\" y=\"345\" height=\"50\" width=\"200\" preserveAspectRatio=\"none\" href=\"data:image/gif;base64,R0lGODdhMgABAIcAAH9/fwAAAAAAAAAAAAAAAAAAAAAAAAAAAAAAAAAAAAAAAAAAAAAAAAAAAAAAAAAAAAAAAAAAAAAAAAAAAAAAAAAAAAAAAAAAAAAAAAAAAAAAAAAAAAAAAAAAAAAAAAAAAAAAAAAAAAAAAAAAAAAAAAAAAAAAAAAAAAAAAAAAAAAAAAAAAAAAAAAAAAAAAAAAAAAAAAAAAAAAAAAAAAAAAAAAAAAAAAAAAAAAAAAAAAAAAAAAAAAAAAAAAAAAAAAAAAAAAAAAAAAAAAAAAAAAAAAAAAAAAAAAAAAAAAAAAAAAAAAAAAAAAAAAAAAAAAAAAAAAAAAAAAAAAAAAAAAAAAAAAAAAAAAAAAAAAAAAAAAAAAAAAAAAAAAAAAAAAAAAAAAAAAAAAAAAAAAAAAAAAAAAAAAAAAAAAAAAAAAAAAAAAAAAAAAAAAAAAAAAAAAAAAAAAAAAAAAAAAAAAAAAAAAAAAAAAAAAAAAAAAAAAAAAAAAAAAAAAAAAAAAAAAAAAAAAAAAAAAAAAAAAAAAAAAAAAAAAAAAAAAAAAAAAAAAAAAAAAAAAAAAAAAAAAAAAAAAAAAAAAAAAAAAAAAAAAAAAAAAAAAAAAAAAAAAAAAAAAAAAAAAAAAAAAAAAAAAAAAAAAAAAAAAAAAAAAAAAAAAAAAAAAAAAAAAAAAAAAAAAAAAAAAAAAAAAAAAAAAAAAAAAAAAAAAAAAAAAAAAAAAAAAAAAAAAAAAAAAAAAAAAAAAAAAAAAAAAAAAAAAAAAAAAAAAAAAAAAAAAAAAAAAAAAAAAAAAAAAAAAAAAAAAAAAAAAAAAAAAAAAAAAAAAAAAAAAAAAAAAAAAAAAAAAAAAAAAAAAAAAAAAAAAAAAAAAAAAAAAAAAAAAAAAAAAAAAAAAAAAAAAAAAAAAAAAAAAAAAAAAAAAAAAAAAAAAAAAAAAAAAAAAAAAAAAAAAAAAAAAAAAAAAAAAAAAAAAAAAAAAAAAAAAAAAAAAAAAAAAAAAAAAAAAAAAAAAAAAAAAAACwAAAAAMgABAAAIDgABCBxIsKDBgwgTFgwIADs=\"><title>Layer: input3 (input)\n output range: (-Infinity, +Infinity)\n shape = (50,)\n Keras class = Input</title></image><text x=\"892.5\" y=\"372.0\" font-family=\"monospace\" font-size=\"12\" text-anchor=\"start\" fill=\"black\" alignment-baseline=\"central\" >input3</text><text x=\"525.0\" y=\"12.5\" font-family=\"monospace\" font-size=\"15\" text-anchor=\"middle\" fill=\"black\" alignment-baseline=\"central\" >Hiding</text></svg></g></svg></p>"
      }
     },
     "1320cc4c383a403f8c6bc970a69f10d7": {
      "model_module": "@jupyter-widgets/controls",
      "model_module_version": "1.1.0",
      "model_name": "SelectModel",
      "state": {
       "_options_labels": [
        ""
       ],
       "description": "Features:",
       "index": 0,
       "layout": "IPY_MODEL_e9391991f80448d88e90c20a7319ce43",
       "rows": 1,
       "style": "IPY_MODEL_8153595d1a2f428a8808a74ba9db83b4"
      }
     },
     "134d4dee43e34abd894dc9f59e31b475": {
      "model_module": "@jupyter-widgets/controls",
      "model_module_version": "1.1.0",
      "model_name": "ButtonModel",
      "state": {
       "icon": "save",
       "layout": "IPY_MODEL_94a57a2eaa854f31b9fc72427ca9eeee",
       "style": "IPY_MODEL_757068062dc847a5b677bc2b32f435a8"
      }
     },
     "1368a8c094bb4e2fa0e8e4d1cb071cb7": {
      "model_module": "@jupyter-widgets/controls",
      "model_module_version": "1.1.0",
      "model_name": "ButtonStyleModel",
      "state": {}
     },
     "13947294769c488c89951821912f1a7e": {
      "model_module": "@jupyter-widgets/output",
      "model_module_version": "1.0.0",
      "model_name": "OutputModel",
      "state": {
       "layout": "IPY_MODEL_7b866704117e4291885d29929649c798"
      }
     },
     "13d45aece10c45288060183699bd8d44": {
      "model_module": "@jupyter-widgets/controls",
      "model_module_version": "1.1.0",
      "model_name": "CheckboxModel",
      "state": {
       "description": "Show Targets",
       "disabled": false,
       "layout": "IPY_MODEL_5bd06861033745e58d4c269096f14023",
       "style": "IPY_MODEL_c2f1e98d5c5b49a6a84fb1e8cbaeb5d3",
       "value": false
      }
     },
     "13efb8a717874b4ea1a97edfa59acb30": {
      "model_module": "@jupyter-widgets/base",
      "model_module_version": "1.0.0",
      "model_name": "LayoutModel",
      "state": {}
     },
     "1406b72f525f4cd796aecd6e1c676061": {
      "model_module": "@jupyter-widgets/base",
      "model_module_version": "1.0.0",
      "model_name": "LayoutModel",
      "state": {}
     },
     "143571b8afff45528b343d995292c649": {
      "model_module": "@jupyter-widgets/base",
      "model_module_version": "1.0.0",
      "model_name": "LayoutModel",
      "state": {
       "width": "65%"
      }
     },
     "143a9c96a3ba449dbe3a6bf2e28d7c4b": {
      "model_module": "@jupyter-widgets/controls",
      "model_module_version": "1.1.0",
      "model_name": "ButtonModel",
      "state": {
       "icon": "save",
       "layout": "IPY_MODEL_4a800c4edf894c2a9db20176853ca918",
       "style": "IPY_MODEL_e1040deaad994a28859dc9635d9fc753"
      }
     },
     "14461f5dcbab48219fd0b4ef14499169": {
      "model_module": "@jupyter-widgets/controls",
      "model_module_version": "1.1.0",
      "model_name": "IntTextModel",
      "state": {
       "description": "Feature to show:",
       "layout": "IPY_MODEL_ef3011ff2fd749619ee44b6a1f3dbdf8",
       "step": 1,
       "style": "IPY_MODEL_9a311f70201041069fe7a05ff5ed1835"
      }
     },
     "14dcb5925f554b048178de72b60b9e3d": {
      "model_module": "@jupyter-widgets/controls",
      "model_module_version": "1.1.0",
      "model_name": "IntTextModel",
      "state": {
       "description": "Feature columns:",
       "layout": "IPY_MODEL_f305172c0db848698ae6453ed2734677",
       "step": 1,
       "style": "IPY_MODEL_618c3800c74f425587ff26c7e6ae1b4e",
       "value": 3
      }
     },
     "1509a27041c444408dbb50280a2b70cc": {
      "model_module": "@jupyter-widgets/controls",
      "model_module_version": "1.1.0",
      "model_name": "ButtonStyleModel",
      "state": {}
     },
     "151b6a3e57664ee8b47cae8d672dcbe5": {
      "model_module": "@jupyter-widgets/base",
      "model_module_version": "1.0.0",
      "model_name": "LayoutModel",
      "state": {
       "width": "52%"
      }
     },
     "1522833bf8b94befb4f5ab9910199aee": {
      "model_module": "@jupyter-widgets/controls",
      "model_module_version": "1.1.0",
      "model_name": "IntTextModel",
      "state": {
       "description": "Horizontal space between banks:",
       "layout": "IPY_MODEL_3c71e01bc0fc4895a6869de7e0f8bf6f",
       "step": 1,
       "style": "IPY_MODEL_f017cf4229bb48a9ac88388497201d1d",
       "value": 300
      }
     },
     "1557843a60e2451c9998787c413b35c5": {
      "model_module": "@jupyter-widgets/controls",
      "model_module_version": "1.1.0",
      "model_name": "VBoxModel",
      "state": {
       "children": [
        "IPY_MODEL_0a09cf9e33c44bdba5f59fdc01e58df6",
        "IPY_MODEL_8ae572cba9714deba7eb70daf273d27f",
        "IPY_MODEL_31e05e62ca9b47f3b274982b8d2deae6",
        "IPY_MODEL_18dd77180b61490697d0d368a9c56ff8",
        "IPY_MODEL_9a60a0cd9d3b4c24a4ecff6da29f2755",
        "IPY_MODEL_631dee517d674989b4ca4af6b699ca69",
        "IPY_MODEL_438cdc28a71a46e19d45bc4ebcc4f1ef",
        "IPY_MODEL_fb3a3016e50c4b589d54cde8395916d9"
       ],
       "layout": "IPY_MODEL_3ab3cd901f844796b394ff50e2263822"
      }
     },
     "16b1f5d2130a4302bfdd466d208d8386": {
      "model_module": "@jupyter-widgets/controls",
      "model_module_version": "1.1.0",
      "model_name": "SelectModel",
      "state": {
       "_options_labels": [
        "",
        "Accent",
        "Accent_r",
        "Blues",
        "Blues_r",
        "BrBG",
        "BrBG_r",
        "BuGn",
        "BuGn_r",
        "BuPu",
        "BuPu_r",
        "CMRmap",
        "CMRmap_r",
        "Dark2",
        "Dark2_r",
        "GnBu",
        "GnBu_r",
        "Greens",
        "Greens_r",
        "Greys",
        "Greys_r",
        "OrRd",
        "OrRd_r",
        "Oranges",
        "Oranges_r",
        "PRGn",
        "PRGn_r",
        "Paired",
        "Paired_r",
        "Pastel1",
        "Pastel1_r",
        "Pastel2",
        "Pastel2_r",
        "PiYG",
        "PiYG_r",
        "PuBu",
        "PuBuGn",
        "PuBuGn_r",
        "PuBu_r",
        "PuOr",
        "PuOr_r",
        "PuRd",
        "PuRd_r",
        "Purples",
        "Purples_r",
        "RdBu",
        "RdBu_r",
        "RdGy",
        "RdGy_r",
        "RdPu",
        "RdPu_r",
        "RdYlBu",
        "RdYlBu_r",
        "RdYlGn",
        "RdYlGn_r",
        "Reds",
        "Reds_r",
        "Set1",
        "Set1_r",
        "Set2",
        "Set2_r",
        "Set3",
        "Set3_r",
        "Spectral",
        "Spectral_r",
        "Vega10",
        "Vega10_r",
        "Vega20",
        "Vega20_r",
        "Vega20b",
        "Vega20b_r",
        "Vega20c",
        "Vega20c_r",
        "Wistia",
        "Wistia_r",
        "YlGn",
        "YlGnBu",
        "YlGnBu_r",
        "YlGn_r",
        "YlOrBr",
        "YlOrBr_r",
        "YlOrRd",
        "YlOrRd_r",
        "afmhot",
        "afmhot_r",
        "autumn",
        "autumn_r",
        "binary",
        "binary_r",
        "bone",
        "bone_r",
        "brg",
        "brg_r",
        "bwr",
        "bwr_r",
        "cool",
        "cool_r",
        "coolwarm",
        "coolwarm_r",
        "copper",
        "copper_r",
        "cubehelix",
        "cubehelix_r",
        "flag",
        "flag_r",
        "gist_earth",
        "gist_earth_r",
        "gist_gray",
        "gist_gray_r",
        "gist_heat",
        "gist_heat_r",
        "gist_ncar",
        "gist_ncar_r",
        "gist_rainbow",
        "gist_rainbow_r",
        "gist_stern",
        "gist_stern_r",
        "gist_yarg",
        "gist_yarg_r",
        "gnuplot",
        "gnuplot2",
        "gnuplot2_r",
        "gnuplot_r",
        "gray",
        "gray_r",
        "hot",
        "hot_r",
        "hsv",
        "hsv_r",
        "inferno",
        "inferno_r",
        "jet",
        "jet_r",
        "magma",
        "magma_r",
        "nipy_spectral",
        "nipy_spectral_r",
        "ocean",
        "ocean_r",
        "pink",
        "pink_r",
        "plasma",
        "plasma_r",
        "prism",
        "prism_r",
        "rainbow",
        "rainbow_r",
        "seismic",
        "seismic_r",
        "spectral",
        "spectral_r",
        "spring",
        "spring_r",
        "summer",
        "summer_r",
        "tab10",
        "tab10_r",
        "tab20",
        "tab20_r",
        "tab20b",
        "tab20b_r",
        "tab20c",
        "tab20c_r",
        "terrain",
        "terrain_r",
        "viridis",
        "viridis_r",
        "winter",
        "winter_r"
       ],
       "description": "Colormap:",
       "index": 0,
       "layout": "IPY_MODEL_2112f1e1aec4448694aa55eea10a2503",
       "rows": 1,
       "style": "IPY_MODEL_0409088ab5c544af87dc8e33588920bb"
      }
     },
     "16d77744d3c943c2bd410e93dc4461ad": {
      "model_module": "@jupyter-widgets/controls",
      "model_module_version": "1.1.0",
      "model_name": "DescriptionStyleModel",
      "state": {
       "description_width": "initial"
      }
     },
     "16eda26ed280401e877b9e1ae644cb32": {
      "model_module": "@jupyter-widgets/controls",
      "model_module_version": "1.1.0",
      "model_name": "ButtonStyleModel",
      "state": {}
     },
     "1702bd789187411cb66f53b71f581cb7": {
      "model_module": "@jupyter-widgets/base",
      "model_module_version": "1.0.0",
      "model_name": "LayoutModel",
      "state": {}
     },
     "172232f93cab410f9289c349a1aee89d": {
      "model_module": "@jupyter-widgets/controls",
      "model_module_version": "1.1.0",
      "model_name": "LabelModel",
      "state": {
       "layout": "IPY_MODEL_9f8bc0e8778f4199875dae4e6c68c658",
       "style": "IPY_MODEL_0da262d85992422daca003c3fd3701ca",
       "value": "of 0"
      }
     },
     "1734d0e4cd244aa19bd862716ea8e697": {
      "model_module": "@jupyter-widgets/base",
      "model_module_version": "1.0.0",
      "model_name": "LayoutModel",
      "state": {}
     },
     "17415f70d7244c859afde81425c26f7a": {
      "model_module": "@jupyter-widgets/controls",
      "model_module_version": "1.1.0",
      "model_name": "ButtonModel",
      "state": {
       "icon": "forward",
       "layout": "IPY_MODEL_30a3fbeda8664a0284b2bad1b2bedf53",
       "style": "IPY_MODEL_b9eba4c9402246dfaee1f8be31d5ad83"
      }
     },
     "176a295a6857478c8ee72d42d4f6bd87": {
      "model_module": "@jupyter-widgets/controls",
      "model_module_version": "1.1.0",
      "model_name": "DescriptionStyleModel",
      "state": {
       "description_width": "initial"
      }
     },
     "1783e3c3c71b43d795370e43b2237761": {
      "model_module": "@jupyter-widgets/controls",
      "model_module_version": "1.1.0",
      "model_name": "DescriptionStyleModel",
      "state": {
       "description_width": ""
      }
     },
     "184adafc99904d89a5771167ce7fb5dc": {
      "model_module": "@jupyter-widgets/controls",
      "model_module_version": "1.1.0",
      "model_name": "HTMLModel",
      "state": {
       "layout": "IPY_MODEL_e77d09072b204e0b958e46d74cd9c52a",
       "style": "IPY_MODEL_a5851e8c47e141388ca6222b809e26a1",
       "value": "<img src=\"data:image/gif;base64,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\"/>"
      }
     },
     "18b8f96347d047e98eb337154c1fa11d": {
      "model_module": "@jupyter-widgets/controls",
      "model_module_version": "1.1.0",
      "model_name": "SelectModel",
      "state": {
       "_options_labels": [
        "",
        "input1",
        "input2"
       ],
       "description": "Features:",
       "index": 0,
       "layout": "IPY_MODEL_5eb42b7fa5214fc38ab019db611178c1",
       "rows": 1,
       "style": "IPY_MODEL_e6a42a43813849e2b102545c7ab89f3c"
      }
     },
     "18d8fb20745141159403c1476cebfdad": {
      "model_module": "@jupyter-widgets/controls",
      "model_module_version": "1.1.0",
      "model_name": "ButtonStyleModel",
      "state": {}
     },
     "18dd77180b61490697d0d368a9c56ff8": {
      "model_module": "@jupyter-widgets/controls",
      "model_module_version": "1.1.0",
      "model_name": "IntTextModel",
      "state": {
       "description": "Vertical space between layers:",
       "layout": "IPY_MODEL_37858b4a69cd492ea6129225211dcfe6",
       "step": 1,
       "style": "IPY_MODEL_576e0e33dbb940fb9a3a932ae995b549",
       "value": 30
      }
     },
     "18e65d093b4e411aac3ddfbf528ee7c2": {
      "model_module": "@jupyter-widgets/base",
      "model_module_version": "1.0.0",
      "model_name": "LayoutModel",
      "state": {}
     },
     "19178d10618e4af4bcc227d799aa7abc": {
      "model_module": "@jupyter-widgets/controls",
      "model_module_version": "1.1.0",
      "model_name": "IntTextModel",
      "state": {
       "layout": "IPY_MODEL_0ebd1cd4b483496281bc5330b1e0ed53",
       "step": 1,
       "style": "IPY_MODEL_58e58efe7b9d43a396aeff78e3dc11e4"
      }
     },
     "191fc4df570a465b8bd5083c376027f2": {
      "model_module": "@jupyter-widgets/controls",
      "model_module_version": "1.1.0",
      "model_name": "HBoxModel",
      "state": {
       "children": [
        "IPY_MODEL_c017a3f2d67649aab203f428c5cf5a25",
        "IPY_MODEL_ec9e34c461834893b2be988abaa94e3a",
        "IPY_MODEL_7454b7f531964cd5aa4bca5782300234",
        "IPY_MODEL_1d685a6a5f8644f28f5f9d4709f5668f",
        "IPY_MODEL_62aa36c7b7124711b616215c53961a94",
        "IPY_MODEL_6ae51752be114735be8e5cd0e44db96e",
        "IPY_MODEL_0da0ffc13d6e4366bd30600d26e60cd8"
       ],
       "layout": "IPY_MODEL_555814483fa440bcb458d58b55a0a917"
      }
     },
     "19326a098fc641eebd701305f8b27624": {
      "model_module": "@jupyter-widgets/controls",
      "model_module_version": "1.1.0",
      "model_name": "ButtonStyleModel",
      "state": {}
     },
     "196e165713ab471ca01c1d15e55f5487": {
      "model_module": "@jupyter-widgets/controls",
      "model_module_version": "1.1.0",
      "model_name": "SelectModel",
      "state": {
       "_options_labels": [
        ""
       ],
       "description": "Features:",
       "index": 0,
       "layout": "IPY_MODEL_a5b4083fa9814f0e9db1afd88965fc2b",
       "rows": 1,
       "style": "IPY_MODEL_4bf341abef7845068930eb9853ce8203"
      }
     },
     "19930927f9bf49cf875930ba3f17601d": {
      "model_module": "@jupyter-widgets/base",
      "model_module_version": "1.0.0",
      "model_name": "LayoutModel",
      "state": {
       "width": "100%"
      }
     },
     "19db5c8ce4154809b0780dd043179430": {
      "model_module": "@jupyter-widgets/controls",
      "model_module_version": "1.1.0",
      "model_name": "ButtonModel",
      "state": {
       "icon": "refresh",
       "layout": "IPY_MODEL_2cbc42a041ff4eb59e087e160a9f799f",
       "style": "IPY_MODEL_01dd25f040384399906349b4af6763bd"
      }
     },
     "19fc0eb2b05042de9eb5c3f4228e33b7": {
      "model_module": "@jupyter-widgets/controls",
      "model_module_version": "1.1.0",
      "model_name": "HBoxModel",
      "state": {
       "children": [
        "IPY_MODEL_0455ba048d7547619855503416e58f13",
        "IPY_MODEL_cfce4ef73cef48f2b487b229006d6b26"
       ],
       "layout": "IPY_MODEL_92a6038522c74d1887e9b6f4b6038cbe"
      }
     },
     "1a2dbd2927c348009da1ab1ed025160c": {
      "model_module": "@jupyter-widgets/controls",
      "model_module_version": "1.1.0",
      "model_name": "CheckboxModel",
      "state": {
       "description": "Show Targets",
       "disabled": false,
       "layout": "IPY_MODEL_37858b4a69cd492ea6129225211dcfe6",
       "style": "IPY_MODEL_12a6fedb5ebc4071b37840c15b99f7be",
       "value": true
      }
     },
     "1a614e2408044f07b1d36fd35845127b": {
      "model_module": "@jupyter-widgets/controls",
      "model_module_version": "1.1.0",
      "model_name": "DescriptionStyleModel",
      "state": {
       "description_width": "initial"
      }
     },
     "1a71386939fb4050ac87f80507066d7b": {
      "model_module": "@jupyter-widgets/controls",
      "model_module_version": "1.1.0",
      "model_name": "VBoxModel",
      "state": {
       "children": [
        "IPY_MODEL_7043cd6b264641d2aab54174ca6fb69c",
        "IPY_MODEL_daa70f4d275b4a9c8ad9266d2e0a178d",
        "IPY_MODEL_bf3001fe5baf4fb1b55fab1e9e3e1724",
        "IPY_MODEL_21e28832668c4cfabab8df91d645a1aa"
       ],
       "layout": "IPY_MODEL_0e0bb7d9a0f34b16ac26a859c07baf04"
      }
     },
     "1a976330b1d547049089f0d2cff6bc52": {
      "model_module": "@jupyter-widgets/controls",
      "model_module_version": "1.1.0",
      "model_name": "CheckboxModel",
      "state": {
       "description": "Visible",
       "disabled": false,
       "layout": "IPY_MODEL_3c71e01bc0fc4895a6869de7e0f8bf6f",
       "style": "IPY_MODEL_9ed1e0fd150941f3aabdbda53b89ca4f",
       "value": true
      }
     },
     "1ac70f88b39148daa94dd5d5bbc950de": {
      "model_module": "@jupyter-widgets/controls",
      "model_module_version": "1.1.0",
      "model_name": "ButtonStyleModel",
      "state": {}
     },
     "1af26109d4cf4f509ffd4e8ebe9f5d5c": {
      "model_module": "@jupyter-widgets/base",
      "model_module_version": "1.0.0",
      "model_name": "LayoutModel",
      "state": {
       "width": "100%"
      }
     },
     "1b447df4d09c41e2b0213f60a4a9b21e": {
      "model_module": "@jupyter-widgets/controls",
      "model_module_version": "1.1.0",
      "model_name": "HBoxModel",
      "state": {
       "children": [
        "IPY_MODEL_8aa6eb84c0ff4002ae2e567bb7cfb990",
        "IPY_MODEL_e1ca3a8f6bc94f9c822efe02213a2a38"
       ],
       "layout": "IPY_MODEL_c5eec40d6288454ea419223af9aa26d6"
      }
     },
     "1b703fa87a4a44dabb0d0eb33920c657": {
      "model_module": "@jupyter-widgets/controls",
      "model_module_version": "1.1.0",
      "model_name": "VBoxModel",
      "state": {
       "children": [
        "IPY_MODEL_4b7023220a324be8846f97fa2b05e121",
        "IPY_MODEL_3ba01609c55340cfb6bb04450513f223",
        "IPY_MODEL_aebb934ac2a44d16aa0695218303b047",
        "IPY_MODEL_184adafc99904d89a5771167ce7fb5dc",
        "IPY_MODEL_7e260737cf99487c9d22c31fb820edd4",
        "IPY_MODEL_d1c4c8e05274462e83fd65d54bca75d1",
        "IPY_MODEL_4f88cee1e1114560b2338c85351c0b72",
        "IPY_MODEL_a42d8129f45f40569513734262c20925"
       ],
       "layout": "IPY_MODEL_a87cdff4a04b43d7974aed395cad8ea5"
      }
     },
     "1b7944154106443a9c83ec76f5a88df9": {
      "model_module": "@jupyter-widgets/base",
      "model_module_version": "1.0.0",
      "model_name": "LayoutModel",
      "state": {
       "width": "100%"
      }
     },
     "1b9695877db840569c23b430a965b506": {
      "model_module": "@jupyter-widgets/controls",
      "model_module_version": "1.1.0",
      "model_name": "FloatTextModel",
      "state": {
       "description": "Leftmost color maps to:",
       "layout": "IPY_MODEL_72db883fc54547fabb549eaccfa4e527",
       "step": null,
       "style": "IPY_MODEL_b8b32abf5c524e878518ae8833b7886c",
       "value": -2
      }
     },
     "1bc7ccbede2a41ea864768d7f4ea8a16": {
      "model_module": "@jupyter-widgets/controls",
      "model_module_version": "1.1.0",
      "model_name": "IntTextModel",
      "state": {
       "description": "Feature to show:",
       "layout": "IPY_MODEL_26bd27fde6934185b9a5816afa34f85e",
       "step": 1,
       "style": "IPY_MODEL_705e2944d0e04afbaba170a44685c175"
      }
     },
     "1be85ac6e2fd480cbce0bb461798d512": {
      "model_module": "@jupyter-widgets/controls",
      "model_module_version": "1.1.0",
      "model_name": "DescriptionStyleModel",
      "state": {
       "description_width": "initial"
      }
     },
     "1c3cfc820fc248668a27b8a6ffa75bac": {
      "model_module": "@jupyter-widgets/base",
      "model_module_version": "1.0.0",
      "model_name": "LayoutModel",
      "state": {}
     },
     "1c493f36f4594c0ea6cf53632966c37d": {
      "model_module": "@jupyter-widgets/controls",
      "model_module_version": "1.1.0",
      "model_name": "ButtonModel",
      "state": {
       "description": "Play",
       "icon": "play",
       "layout": "IPY_MODEL_06a8961414c94aad96f32acd688d8932",
       "style": "IPY_MODEL_a6dcdcb2b0dd457aa922f3b91b0d9e4d"
      }
     },
     "1c95b7821b99440aae6eb3a3a3c017f6": {
      "model_module": "@jupyter-widgets/controls",
      "model_module_version": "1.1.0",
      "model_name": "SelectModel",
      "state": {
       "_options_labels": [
        "input1",
        "input2",
        "flatten1",
        "flatten2",
        "hidden",
        "output"
       ],
       "description": "Layer:",
       "index": 5,
       "layout": "IPY_MODEL_43e1aeb53d5a4b1692a7c5cb3732830c",
       "rows": 1,
       "style": "IPY_MODEL_df8617210a094570b8bcd1fe8b0605df"
      }
     },
     "1d001ce98a434b9e9e4ef49605907fa2": {
      "model_module": "@jupyter-widgets/controls",
      "model_module_version": "1.1.0",
      "model_name": "ButtonModel",
      "state": {
       "icon": "refresh",
       "layout": "IPY_MODEL_8867ab43a9704384bfa9c8c257e17e19",
       "style": "IPY_MODEL_2467cbd6a80e4dcbbc904ca6f71bb7ab"
      }
     },
     "1d0c7a6dd1ed48bf802d35b8825cea34": {
      "model_module": "@jupyter-widgets/controls",
      "model_module_version": "1.1.0",
      "model_name": "IntTextModel",
      "state": {
       "description": "Horizontal space between banks:",
       "layout": "IPY_MODEL_8955ba102b5d4c6ea881b572f2dc91ce",
       "step": 1,
       "style": "IPY_MODEL_55efa452846841fe87906da1d6a5700d",
       "value": 300
      }
     },
     "1d44ec13ec2748b8a88d07d2a7b03492": {
      "model_module": "@jupyter-widgets/controls",
      "model_module_version": "1.1.0",
      "model_name": "IntTextModel",
      "state": {
       "description": "Horizontal space between banks:",
       "layout": "IPY_MODEL_2112f1e1aec4448694aa55eea10a2503",
       "step": 1,
       "style": "IPY_MODEL_b19b66c3788f4b52b30a6308a76fb1be",
       "value": 300
      }
     },
     "1d4c5eef1cdb458da9ff302441f209d4": {
      "model_module": "@jupyter-widgets/controls",
      "model_module_version": "1.1.0",
      "model_name": "HBoxModel",
      "state": {
       "children": [
        "IPY_MODEL_e4780d3ab62c4910b1dfcce1e08e244a",
        "IPY_MODEL_c6573782b1b54b19999783206f97a4a7"
       ],
       "layout": "IPY_MODEL_743a7c63e4dd4e84816b8a8dc55eef08"
      }
     },
     "1d64dd1167aa4b549dad81858dc809fb": {
      "model_module": "@jupyter-widgets/controls",
      "model_module_version": "1.1.0",
      "model_name": "ButtonModel",
      "state": {
       "icon": "fast-forward",
       "layout": "IPY_MODEL_ed33b90a31d441758160f47d1c145374",
       "style": "IPY_MODEL_16eda26ed280401e877b9e1ae644cb32"
      }
     },
     "1d685a6a5f8644f28f5f9d4709f5668f": {
      "model_module": "@jupyter-widgets/controls",
      "model_module_version": "1.1.0",
      "model_name": "ButtonModel",
      "state": {
       "icon": "forward",
       "layout": "IPY_MODEL_d040fc3b61c44361b4fefe93f0b218e4",
       "style": "IPY_MODEL_7d7ef2543bef4ef6a43090afa841548e"
      }
     },
     "1dccebca2058475bb15ca372effd2edf": {
      "model_module": "@jupyter-widgets/base",
      "model_module_version": "1.0.0",
      "model_name": "LayoutModel",
      "state": {}
     },
     "1e5f15291fad428bb36663032ac7a594": {
      "model_module": "@jupyter-widgets/base",
      "model_module_version": "1.0.0",
      "model_name": "LayoutModel",
      "state": {}
     },
     "1ed169dbf3e34b729f7c62a4c4311061": {
      "model_module": "@jupyter-widgets/controls",
      "model_module_version": "1.1.0",
      "model_name": "CheckboxModel",
      "state": {
       "description": "Rotate network",
       "disabled": false,
       "layout": "IPY_MODEL_c58e9eb59e774f18b42be4ae4a158c03",
       "style": "IPY_MODEL_db6b5aebe47842dfaef0083a825783cb",
       "value": false
      }
     },
     "1f3cb37e047b4a1f865825bdaf2ddd5f": {
      "model_module": "@jupyter-widgets/controls",
      "model_module_version": "1.1.0",
      "model_name": "ButtonModel",
      "state": {
       "icon": "backward",
       "layout": "IPY_MODEL_02196ca3ce2a486f8326a0a3a292d1af",
       "style": "IPY_MODEL_4adf65e5ffa24ec78af26f0d76a8e7a4"
      }
     },
     "1f5ce85f90c2471eba8ecc46522c82ed": {
      "model_module": "@jupyter-widgets/controls",
      "model_module_version": "1.1.0",
      "model_name": "IntTextModel",
      "state": {
       "description": "Vertical space between layers:",
       "layout": "IPY_MODEL_5bd06861033745e58d4c269096f14023",
       "step": 1,
       "style": "IPY_MODEL_c4b7dd653d7746a7a7951e3e9bb232df",
       "value": 30
      }
     },
     "2029aaf0bfc841f7a5878109d7b724ad": {
      "model_module": "@jupyter-widgets/controls",
      "model_module_version": "1.1.0",
      "model_name": "HBoxModel",
      "state": {
       "children": [
        "IPY_MODEL_3c38d66724bf47eaa138776a867676de",
        "IPY_MODEL_5a8c6b3d573b4e4fb12ea657f98aa680"
       ],
       "layout": "IPY_MODEL_22d9b0dc92fa4a0c8d9b7754f1f86490"
      }
     },
     "2051a16ef6bc410ebe767242dec50372": {
      "model_module": "@jupyter-widgets/controls",
      "model_module_version": "1.1.0",
      "model_name": "SliderStyleModel",
      "state": {
       "description_width": ""
      }
     },
     "20adf6be4599422f8a4592a651fb09de": {
      "model_module": "@jupyter-widgets/controls",
      "model_module_version": "1.1.0",
      "model_name": "ButtonModel",
      "state": {
       "icon": "forward",
       "layout": "IPY_MODEL_b44b00456d314957a96e8f4b8f4009bd",
       "style": "IPY_MODEL_8a4d269d0bcd45b49ba85ce4f903ca37"
      }
     },
     "20edf6afa98e470381dc006665bda4d2": {
      "model_module": "@jupyter-widgets/base",
      "model_module_version": "1.0.0",
      "model_name": "LayoutModel",
      "state": {
       "width": "65%"
      }
     },
     "2112f1e1aec4448694aa55eea10a2503": {
      "model_module": "@jupyter-widgets/base",
      "model_module_version": "1.0.0",
      "model_name": "LayoutModel",
      "state": {}
     },
     "21154008d02649f6ba23ce30c1ef0cff": {
      "model_module": "@jupyter-widgets/controls",
      "model_module_version": "1.1.0",
      "model_name": "SliderStyleModel",
      "state": {
       "description_width": "initial"
      }
     },
     "21e28832668c4cfabab8df91d645a1aa": {
      "model_module": "@jupyter-widgets/output",
      "model_module_version": "1.0.0",
      "model_name": "OutputModel",
      "state": {
       "layout": "IPY_MODEL_2dd47bae1435407ab1e6c9f48c4bd36b"
      }
     },
     "225ba8e9b3484a48863141004c7150e1": {
      "model_module": "@jupyter-widgets/controls",
      "model_module_version": "1.1.0",
      "model_name": "VBoxModel",
      "state": {
       "children": [
        "IPY_MODEL_f0e70c959bbd4f07818d473da4ceef68",
        "IPY_MODEL_d6a495158daa40b281270bcf3ccaccc1",
        "IPY_MODEL_cce4b376c4c24fdb8babc9759fa1ce6d",
        "IPY_MODEL_f8fc465aa46343e99a2cb19a09c5bb03"
       ],
       "layout": "IPY_MODEL_737aff8871dd42c999fcc4c625d7198f"
      }
     },
     "22d9b0dc92fa4a0c8d9b7754f1f86490": {
      "model_module": "@jupyter-widgets/base",
      "model_module_version": "1.0.0",
      "model_name": "LayoutModel",
      "state": {}
     },
     "23b82b752d534db4907ee34e080c8996": {
      "model_module": "@jupyter-widgets/base",
      "model_module_version": "1.0.0",
      "model_name": "LayoutModel",
      "state": {
       "height": "40px"
      }
     },
     "23e6e7dce6e24a67817264c87647356a": {
      "model_module": "@jupyter-widgets/controls",
      "model_module_version": "1.1.0",
      "model_name": "ButtonModel",
      "state": {
       "icon": "refresh",
       "layout": "IPY_MODEL_9deed0c13f20472fa067a468798f1174",
       "style": "IPY_MODEL_e450ee5126d04030b8476521f71ae85a"
      }
     },
     "23f05f0d30384f598e80ba32c1d10a74": {
      "model_module": "@jupyter-widgets/controls",
      "model_module_version": "1.1.0",
      "model_name": "CheckboxModel",
      "state": {
       "description": "Errors",
       "disabled": false,
       "layout": "IPY_MODEL_37858b4a69cd492ea6129225211dcfe6",
       "style": "IPY_MODEL_7cc3ad31d7df483d9c7f48b385bd4369",
       "value": false
      }
     },
     "24020aaf11214205a24c04348e64751b": {
      "model_module": "@jupyter-widgets/base",
      "model_module_version": "1.0.0",
      "model_name": "LayoutModel",
      "state": {}
     },
     "2467cbd6a80e4dcbbc904ca6f71bb7ab": {
      "model_module": "@jupyter-widgets/controls",
      "model_module_version": "1.1.0",
      "model_name": "ButtonStyleModel",
      "state": {}
     },
     "247136323ade4d979f12b40a08ae0051": {
      "model_module": "@jupyter-widgets/controls",
      "model_module_version": "1.1.0",
      "model_name": "HBoxModel",
      "state": {
       "children": [
        "IPY_MODEL_bf0332dc96ed403e8e24c7eb1f58e225",
        "IPY_MODEL_e09cac6a22ee49d5a85530003c2800e6"
       ],
       "layout": "IPY_MODEL_0868d97c21974e519f397c0cd18dfa2e"
      }
     },
     "24d5ad3e93c04553a6da15f18cd248a4": {
      "model_module": "@jupyter-widgets/base",
      "model_module_version": "1.0.0",
      "model_name": "LayoutModel",
      "state": {}
     },
     "24fa969d07724283a38decaea20f2ee4": {
      "model_module": "@jupyter-widgets/controls",
      "model_module_version": "1.1.0",
      "model_name": "DescriptionStyleModel",
      "state": {
       "description_width": ""
      }
     },
     "253c8532cf844d3881c4afe2c78b79e8": {
      "model_module": "@jupyter-widgets/base",
      "model_module_version": "1.0.0",
      "model_name": "LayoutModel",
      "state": {
       "width": "100%"
      }
     },
     "257e878235984f6291251d65eb053b61": {
      "model_module": "@jupyter-widgets/controls",
      "model_module_version": "1.1.0",
      "model_name": "CheckboxModel",
      "state": {
       "description": "Rotate",
       "disabled": false,
       "layout": "IPY_MODEL_5bd06861033745e58d4c269096f14023",
       "style": "IPY_MODEL_09336c9c40cc4dcb9c8fdf2270cdf036",
       "value": true
      }
     },
     "258d500cc7ab4c3a807bdd7ba1487a8d": {
      "model_module": "@jupyter-widgets/controls",
      "model_module_version": "1.1.0",
      "model_name": "DescriptionStyleModel",
      "state": {
       "description_width": ""
      }
     },
     "2597fd07beb24e2d81d577979a513e10": {
      "model_module": "@jupyter-widgets/controls",
      "model_module_version": "1.1.0",
      "model_name": "DescriptionStyleModel",
      "state": {
       "description_width": "initial"
      }
     },
     "2698e82bbc5d40639849ed692863adec": {
      "model_module": "@jupyter-widgets/controls",
      "model_module_version": "1.1.0",
      "model_name": "HBoxModel",
      "state": {
       "children": [
        "IPY_MODEL_3be5737fe10c40f6b1c69eb06ca60dce",
        "IPY_MODEL_d38022ea4a024379b12aa3ed49008667"
       ],
       "layout": "IPY_MODEL_de8caed399f6425e8e013b49d087b82c"
      }
     },
     "26a9178002d54abdae790eae18df8035": {
      "model_module": "@jupyter-widgets/base",
      "model_module_version": "1.0.0",
      "model_name": "LayoutModel",
      "state": {}
     },
     "26a9b3a55d424b84888bf1b3dc129c1f": {
      "model_module": "@jupyter-widgets/controls",
      "model_module_version": "1.1.0",
      "model_name": "IntTextModel",
      "state": {
       "description": "Feature to show:",
       "layout": "IPY_MODEL_f957d7ed1709465caaf9999a63b106d5",
       "step": 1,
       "style": "IPY_MODEL_2f4f9687464f458095f71d6ae30b9c08"
      }
     },
     "26bd27fde6934185b9a5816afa34f85e": {
      "model_module": "@jupyter-widgets/base",
      "model_module_version": "1.0.0",
      "model_name": "LayoutModel",
      "state": {}
     },
     "26d4d69e15c04b55a6694962657d086f": {
      "model_module": "@jupyter-widgets/controls",
      "model_module_version": "1.1.0",
      "model_name": "ButtonStyleModel",
      "state": {}
     },
     "272e0da822cd45f89f86a4c1f0019070": {
      "model_module": "@jupyter-widgets/controls",
      "model_module_version": "1.1.0",
      "model_name": "ButtonStyleModel",
      "state": {}
     },
     "2750b4c89a1b4712854690366afcd1a2": {
      "model_module": "@jupyter-widgets/base",
      "model_module_version": "1.0.0",
      "model_name": "LayoutModel",
      "state": {
       "justify_content": "center",
       "overflow_x": "auto",
       "overflow_y": "auto",
       "width": "95%"
      }
     },
     "27863870d55f4daf9f40d6ab214c32a5": {
      "model_module": "@jupyter-widgets/base",
      "model_module_version": "1.0.0",
      "model_name": "LayoutModel",
      "state": {
       "width": "100%"
      }
     },
     "27960add374f45ab82cdeaed87928131": {
      "model_module": "@jupyter-widgets/base",
      "model_module_version": "1.0.0",
      "model_name": "LayoutModel",
      "state": {}
     },
     "2875d01b24aa4e52a27ea3fab0ef6f71": {
      "model_module": "@jupyter-widgets/base",
      "model_module_version": "1.0.0",
      "model_name": "LayoutModel",
      "state": {}
     },
     "28bbd5308766424c9b22d658759a79e8": {
      "model_module": "@jupyter-widgets/controls",
      "model_module_version": "1.1.0",
      "model_name": "DescriptionStyleModel",
      "state": {
       "description_width": "initial"
      }
     },
     "28c31f29aeeb446183c77c8eff7a1a38": {
      "model_module": "@jupyter-widgets/controls",
      "model_module_version": "1.1.0",
      "model_name": "CheckboxModel",
      "state": {
       "description": "Show Targets",
       "disabled": false,
       "layout": "IPY_MODEL_442c0668cff04fba8401e7916a5f4228",
       "style": "IPY_MODEL_da5223b44d0a480f97a81f93b1e65747",
       "value": false
      }
     },
     "28ca1d80e093494da3ae0d99b71bb6a0": {
      "model_module": "@jupyter-widgets/controls",
      "model_module_version": "1.1.0",
      "model_name": "ButtonStyleModel",
      "state": {}
     },
     "28e641fb0b9e48a79a7d2c4ac42b3734": {
      "model_module": "@jupyter-widgets/base",
      "model_module_version": "1.0.0",
      "model_name": "LayoutModel",
      "state": {
       "width": "100%"
      }
     },
     "2a7248e7fb8243fa88b4b7bc6e3ea2bb": {
      "model_module": "@jupyter-widgets/base",
      "model_module_version": "1.0.0",
      "model_name": "LayoutModel",
      "state": {}
     },
     "2ac18db21e0c4f69ab34ea82b7b371f8": {
      "model_module": "@jupyter-widgets/controls",
      "model_module_version": "1.1.0",
      "model_name": "DescriptionStyleModel",
      "state": {
       "description_width": "initial"
      }
     },
     "2aed8f2d9ad144a591eb0061ac6f1d86": {
      "model_module": "@jupyter-widgets/controls",
      "model_module_version": "1.1.0",
      "model_name": "DescriptionStyleModel",
      "state": {
       "description_width": "initial"
      }
     },
     "2b1cf148d98a423aa4b436c609dbccab": {
      "model_module": "@jupyter-widgets/controls",
      "model_module_version": "1.1.0",
      "model_name": "DescriptionStyleModel",
      "state": {
       "description_width": ""
      }
     },
     "2b674fb5deb34caaaa4073bea299be2b": {
      "model_module": "@jupyter-widgets/controls",
      "model_module_version": "1.1.0",
      "model_name": "HTMLModel",
      "state": {
       "layout": "IPY_MODEL_b4da56e003614a2aa18c4a819c146b9c",
       "style": "IPY_MODEL_c3c0cc94e8854046a7217c2219be580d",
       "value": "<img src=\"data:image/gif;base64,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\"/>"
      }
     },
     "2bafe6d7ba5c480b82b4cf075d8e1cc8": {
      "model_module": "@jupyter-widgets/controls",
      "model_module_version": "1.1.0",
      "model_name": "SelectModel",
      "state": {
       "_options_labels": [
        "input1",
        "input2",
        "input3",
        "hidden1",
        "hidden2",
        "hidden1-2",
        "hidden2-2",
        "merge",
        "output1",
        "output2"
       ],
       "description": "Layer:",
       "index": 9,
       "layout": "IPY_MODEL_1e5f15291fad428bb36663032ac7a594",
       "rows": 1,
       "style": "IPY_MODEL_5fa6a0f4c3864fd9a1628f81d72a0ab5"
      }
     },
     "2bc0754b53e745d7a42807c02c8204dd": {
      "model_module": "@jupyter-widgets/controls",
      "model_module_version": "1.1.0",
      "model_name": "ButtonStyleModel",
      "state": {}
     },
     "2c11bd112afc4dcb8ca1bb886d6ff115": {
      "model_module": "@jupyter-widgets/controls",
      "model_module_version": "1.1.0",
      "model_name": "IntTextModel",
      "state": {
       "description": "Horizontal space between banks:",
       "layout": "IPY_MODEL_442c0668cff04fba8401e7916a5f4228",
       "step": 1,
       "style": "IPY_MODEL_0d05a0a1956d4958a9455dc5f7282cb3",
       "value": 300
      }
     },
     "2c412270a0eb4e4aba5f8fe5c7d673d9": {
      "model_module": "@jupyter-widgets/controls",
      "model_module_version": "1.1.0",
      "model_name": "HBoxModel",
      "state": {
       "children": [
        "IPY_MODEL_742cfafe95fb45448cbcd6418238f2ba",
        "IPY_MODEL_a8b8a2496dae4a16a6a101744d224be4",
        "IPY_MODEL_3d44145d2fa84f84992c37a224bf2431",
        "IPY_MODEL_084e9a435edd41f39999df7e7f298caa",
        "IPY_MODEL_effc777a77934d3ea92ac26053eb2e5c",
        "IPY_MODEL_9d010c96ebc94bd3ae12388080d828c3",
        "IPY_MODEL_fecf8dd518144b748c8703d3d8898a41"
       ],
       "layout": "IPY_MODEL_f88d4480a8f04bdf9222264e874b5910"
      }
     },
     "2c8141f9082b475fae6ca557db27c959": {
      "model_module": "@jupyter-widgets/base",
      "model_module_version": "1.0.0",
      "model_name": "LayoutModel",
      "state": {
       "width": "100%"
      }
     },
     "2c8c7c3cf95041f8aa2d760757eea9e4": {
      "model_module": "@jupyter-widgets/base",
      "model_module_version": "1.0.0",
      "model_name": "LayoutModel",
      "state": {
       "width": "10%"
      }
     },
     "2cbc42a041ff4eb59e087e160a9f799f": {
      "model_module": "@jupyter-widgets/base",
      "model_module_version": "1.0.0",
      "model_name": "LayoutModel",
      "state": {
       "width": "25%"
      }
     },
     "2d855455c1544583860005ac0d99afb6": {
      "model_module": "@jupyter-widgets/base",
      "model_module_version": "1.0.0",
      "model_name": "LayoutModel",
      "state": {
       "width": "100%"
      }
     },
     "2dab8495e95547a7abe83f7cda3dcea3": {
      "model_module": "@jupyter-widgets/controls",
      "model_module_version": "1.1.0",
      "model_name": "ButtonStyleModel",
      "state": {}
     },
     "2dad3ff7556b4673907a1d4b3540058e": {
      "model_module": "@jupyter-widgets/controls",
      "model_module_version": "1.1.0",
      "model_name": "DescriptionStyleModel",
      "state": {
       "description_width": ""
      }
     },
     "2dd47bae1435407ab1e6c9f48c4bd36b": {
      "model_module": "@jupyter-widgets/base",
      "model_module_version": "1.0.0",
      "model_name": "LayoutModel",
      "state": {}
     },
     "2dddf842e86c403eb99c2c54a9236c96": {
      "model_module": "@jupyter-widgets/controls",
      "model_module_version": "1.1.0",
      "model_name": "VBoxModel",
      "state": {
       "children": [
        "IPY_MODEL_c3abe336ea864daf8de93ae91a2cb1d6",
        "IPY_MODEL_e912cb2c73d04fb59b2d354f5c783741",
        "IPY_MODEL_2c11bd112afc4dcb8ca1bb886d6ff115",
        "IPY_MODEL_a1678372737b4023a5aa89ba99036c1c",
        "IPY_MODEL_85a2b4bed967400da82dd8d4e45cc380",
        "IPY_MODEL_66308a4e44834bb3a020593e8eafe6e3",
        "IPY_MODEL_d5a1d4aa64104aac876f34ad8ac7c8e6",
        "IPY_MODEL_9e90f8a775164b8394f4e33ad1d78e93"
       ],
       "layout": "IPY_MODEL_2d855455c1544583860005ac0d99afb6"
      }
     },
     "2de462e1d0ef48abbb21b3317bc4a584": {
      "model_module": "@jupyter-widgets/base",
      "model_module_version": "1.0.0",
      "model_name": "LayoutModel",
      "state": {
       "width": "65%"
      }
     },
     "2ded42a7c5374e4cb0f7a8e934759768": {
      "model_module": "@jupyter-widgets/controls",
      "model_module_version": "1.1.0",
      "model_name": "HBoxModel",
      "state": {
       "children": [
        "IPY_MODEL_42dbe40dcf01407cb66f9913015de4db",
        "IPY_MODEL_51e29544ba2f4e2dab4ca48ccab210f6"
       ],
       "layout": "IPY_MODEL_abcd80c7d6b448888e38fc93d406b86b"
      }
     },
     "2e30a8257a314264b845244850f77408": {
      "model_module": "@jupyter-widgets/controls",
      "model_module_version": "1.1.0",
      "model_name": "DescriptionStyleModel",
      "state": {
       "description_width": "initial"
      }
     },
     "2e5d3af03d274a9eba90f51c7b5cad52": {
      "model_module": "@jupyter-widgets/output",
      "model_module_version": "1.0.0",
      "model_name": "OutputModel",
      "state": {
       "layout": "IPY_MODEL_1c3cfc820fc248668a27b8a6ffa75bac"
      }
     },
     "2ed50be439564c06883b0a2ca330a864": {
      "model_module": "@jupyter-widgets/controls",
      "model_module_version": "1.1.0",
      "model_name": "AccordionModel",
      "state": {
       "_titles": {
        "0": "Hiding"
       },
       "children": [
        "IPY_MODEL_2029aaf0bfc841f7a5878109d7b724ad"
       ],
       "layout": "IPY_MODEL_890668dfd5b245e59914a220698ff5ba"
      }
     },
     "2f4354a9a37f41f59643afd482169116": {
      "model_module": "@jupyter-widgets/controls",
      "model_module_version": "1.1.0",
      "model_name": "FloatTextModel",
      "state": {
       "description": "Rightmost color maps to:",
       "layout": "IPY_MODEL_782f4166a85e499185c6774dc705b419",
       "step": null,
       "style": "IPY_MODEL_53a51ad5584c4d45b203c97ca6e58ec7",
       "value": 1
      }
     },
     "2f4f9687464f458095f71d6ae30b9c08": {
      "model_module": "@jupyter-widgets/controls",
      "model_module_version": "1.1.0",
      "model_name": "DescriptionStyleModel",
      "state": {
       "description_width": "initial"
      }
     },
     "2f524406429e4650827b91c0a3a90701": {
      "model_module": "@jupyter-widgets/base",
      "model_module_version": "1.0.0",
      "model_name": "LayoutModel",
      "state": {}
     },
     "2f6d58ad39b4404c90f104bb0d1db2cc": {
      "model_module": "@jupyter-widgets/controls",
      "model_module_version": "1.1.0",
      "model_name": "SliderStyleModel",
      "state": {
       "description_width": ""
      }
     },
     "30a3fbeda8664a0284b2bad1b2bedf53": {
      "model_module": "@jupyter-widgets/base",
      "model_module_version": "1.0.0",
      "model_name": "LayoutModel",
      "state": {
       "width": "100%"
      }
     },
     "3116ff9eee9740acafe6d90da8a5200b": {
      "model_module": "@jupyter-widgets/base",
      "model_module_version": "1.0.0",
      "model_name": "LayoutModel",
      "state": {
       "width": "100px"
      }
     },
     "31e05e62ca9b47f3b274982b8d2deae6": {
      "model_module": "@jupyter-widgets/controls",
      "model_module_version": "1.1.0",
      "model_name": "IntTextModel",
      "state": {
       "description": "Horizontal space between banks:",
       "layout": "IPY_MODEL_37858b4a69cd492ea6129225211dcfe6",
       "step": 1,
       "style": "IPY_MODEL_3675b3cc3da74f62a951f3f3d9cc02bb",
       "value": 300
      }
     },
     "3251ca8296364bb8820af3c8bbf3d19e": {
      "model_module": "@jupyter-widgets/controls",
      "model_module_version": "1.1.0",
      "model_name": "ButtonStyleModel",
      "state": {}
     },
     "3253f4e3c5c3419d891183472de14f63": {
      "model_module": "@jupyter-widgets/controls",
      "model_module_version": "1.1.0",
      "model_name": "DescriptionStyleModel",
      "state": {
       "description_width": "initial"
      }
     },
     "328cb1272ce742709a2e0fbf95d193f9": {
      "model_module": "@jupyter-widgets/controls",
      "model_module_version": "1.1.0",
      "model_name": "ButtonStyleModel",
      "state": {}
     },
     "329cdc5df8004eaab571bde21da91fa2": {
      "model_module": "@jupyter-widgets/base",
      "model_module_version": "1.0.0",
      "model_name": "LayoutModel",
      "state": {
       "width": "52%"
      }
     },
     "33589b6389884641a3aafdc6d3158420": {
      "model_module": "@jupyter-widgets/controls",
      "model_module_version": "1.1.0",
      "model_name": "DescriptionStyleModel",
      "state": {
       "description_width": ""
      }
     },
     "336d36fc084a4c93b8bd274953b8a750": {
      "model_module": "@jupyter-widgets/base",
      "model_module_version": "1.0.0",
      "model_name": "LayoutModel",
      "state": {
       "width": "100%"
      }
     },
     "33fe9b7c5b984a57a3131fb8b473ed5b": {
      "model_module": "@jupyter-widgets/controls",
      "model_module_version": "1.1.0",
      "model_name": "DescriptionStyleModel",
      "state": {
       "description_width": ""
      }
     },
     "342905d9e266440eb447b945499bea1b": {
      "model_module": "@jupyter-widgets/controls",
      "model_module_version": "1.1.0",
      "model_name": "HTMLModel",
      "state": {
       "layout": "IPY_MODEL_61f816a760834593b8e89865c75d1484",
       "style": "IPY_MODEL_c40b132e89c94fdda934f3bc8a5e5817",
       "value": "<p style=\"text-align:center\"><svg id='Finger Math' xmlns='http://www.w3.org/2000/svg' image-rendering=\"pixelated\" width=\"400.0px\" height=\"196.0px\">\n <g >\n  <svg viewBox=\"0 0 1000 490\" width=\"400.0px\" height=\"196.0px\">\n    <defs>\n        <marker id=\"arrow\" markerWidth=\"10\" markerHeight=\"10\" refX=\"9\" refY=\"3\" orient=\"auto\" markerUnits=\"strokeWidth\">\n          <path d=\"M0,0 L0,6 L9,3 z\" fill=\"black\" />\n        </marker>\n    </defs><rect x=\"399.0\" y=\"24\" width=\"202\" height=\"52\" style=\"fill:none;stroke:black;stroke-width:2\"/><image id=\"picture-dashboard-Finger Math-884212_output_7\" class=\"picture-dashboard-Finger Math-884212_output\" x=\"400.0\" y=\"25\" height=\"50\" width=\"200\" preserveAspectRatio=\"none\" href=\"data:image/gif;base64,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\"><title>Layer: output (output)\n output range: (0, 1)\n shape = (11,)\n Keras class = Dense\n activation = sigmoid</title></image><text x=\"605.0\" y=\"52.0\" font-family=\"monospace\" font-size=\"12\" text-anchor=\"start\" fill=\"black\" alignment-baseline=\"central\" >output</text><line x1=\"500.0\" y1=\"104\" x2=\"500.0\" y2=\"77\" stroke=\"black\" stroke-width=\"2\" marker-end=\"url(#arrow)\"><title>Weights from hidden to output\n output/kernel:0 has shape (100, 11)\n output/bias:0 has shape (11,)</title></line><rect x=\"399.0\" y=\"104\" width=\"202\" height=\"52\" style=\"fill:none;stroke:black;stroke-width:2\"/><image id=\"picture-dashboard-Finger Math-884212_hidden_8\" class=\"picture-dashboard-Finger Math-884212_hidden\" x=\"400.0\" y=\"105\" height=\"50\" width=\"200\" preserveAspectRatio=\"none\" href=\"data:image/gif;base64,R0lGODdhZAABAIcAAH8AAI8AAK4AAPMBAdUAAP9hYfbq8wAAtAAA8SAg/01N/11d/2Vl/8XF//8dHf8lJf89Pf9FRf/19QAAAAAAAAAAAAAAAAAAAAAAAAAAAAAAAAAAAAAAAAAAAAAAAAAAAAAAAAAAAAAAAAAAAAAAAAAAAAAAAAAAAAAAAAAAAAAAAAAAAAAAAAAAAAAAAAAAAAAAAAAAAAAAAAAAAAAAAAAAAAAAAAAAAAAAAAAAAAAAAAAAAAAAAAAAAAAAAAAAAAAAAAAAAAAAAAAAAAAAAAAAAAAAAAAAAAAAAAAAAAAAAAAAAAAAAAAAAAAAAAAAAAAAAAAAAAAAAAAAAAAAAAAAAAAAAAAAAAAAAAAAAAAAAAAAAAAAAAAAAAAAAAAAAAAAAAAAAAAAAAAAAAAAAAAAAAAAAAAAAAAAAAAAAAAAAAAAAAAAAAAAAAAAAAAAAAAAAAAAAAAAAAAAAAAAAAAAAAAAAAAAAAAAAAAAAAAAAAAAAAAAAAAAAAAAAAAAAAAAAAAAAAAAAAAAAAAAAAAAAAAAAAAAAAAAAAAAAAAAAAAAAAAAAAAAAAAAAAAAAAAAAAAAAAAAAAAAAAAAAAAAAAAAAAAAAAAAAAAAAAAAAAAAAAAAAAAAAAAAAAAAAAAAAAAAAAAAAAAAAAAAAAAAAAAAAAAAAAAAAAAAAAAAAAAAAAAAAAAAAAAAAAAAAAAAAAAAAAAAAAAAAAAAAAAAAAAAAAAAAAAAAAAAAAAAAAAAAAAAAAAAAAAAAAAAAAAAAAAAAAAAAAAAAAAAAAAAAAAAAAAAAAAAAAAAAAAAAAAAAAAAAAAAAAAAAAAAAAAAAAAAAAAAAAAAAAAAAAAAAAAAAAAAAAAAAAAAAAAAAAAAAAAAAAAAAAAAAAAAAAAAAAAAAAAAAAAAAAAAAAAAAAAAAAAAAAAAAAAAAAAAAAAAAAAAAAAAAAAAAAAAAAAAAAAAAAAAAAAAAAAAAAAAAAAAAAAAAAAAAAAAAAAAAAAAAAAAAAAAAAAAAAAAACwAAAAAZAABAAAIagABABAwQACAgwsISAAgAIABAAACFABAcQABAAAEDADAEUAAAAoQACgQQAAAAA4AEADAEkAAAAMAyEwQYMADAQAAMAAw4AAAABAABABgAACAAgMEBADQgECAAAQASJUqAICAAACyRgAAICAAOw==\"><title>Layer: hidden (hidden)\n output range: (0, +Infinity)\n shape = (100,)\n Keras class = Dense\n activation = relu</title></image><text x=\"605.0\" y=\"132.0\" font-family=\"monospace\" font-size=\"12\" text-anchor=\"start\" fill=\"black\" alignment-baseline=\"central\" >hidden</text><line x1=\"333.3333333333333\" y1=\"184\" x2=\"500.0\" y2=\"157\" stroke=\"black\" stroke-width=\"2\" marker-end=\"url(#arrow)\"><title>Weights from flatten1 to hidden\n hidden/kernel:0 has shape (7200, 100)\n hidden/bias:0 has shape (100,)</title></line><rect x=\"232.33333333333331\" y=\"184\" width=\"202\" height=\"52\" style=\"fill:none;stroke:black;stroke-width:2\"/><image id=\"picture-dashboard-Finger Math-884212_flatten1_9\" class=\"picture-dashboard-Finger Math-884212_flatten1\" x=\"233.33333333333331\" y=\"185\" height=\"50\" width=\"200\" preserveAspectRatio=\"none\" href=\"data:image/gif;base64,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\"><title>Layer: flatten1 (hidden)\n output range: (0.0, 0.8666667)\n Keras class = Flatten</title></image><text x=\"438.3333333333333\" y=\"212.0\" font-family=\"monospace\" font-size=\"12\" text-anchor=\"start\" fill=\"black\" alignment-baseline=\"central\" >flatten1</text><line x1=\"666.6666666666666\" y1=\"184\" x2=\"500.0\" y2=\"157\" stroke=\"black\" stroke-width=\"2\" marker-end=\"url(#arrow)\"><title>Weights from flatten2 to hidden\n hidden/kernel:0 has shape (7200, 100)\n hidden/bias:0 has shape (100,)</title></line><rect x=\"565.6666666666666\" y=\"184\" width=\"202\" height=\"52\" style=\"fill:none;stroke:black;stroke-width:2\"/><image id=\"picture-dashboard-Finger Math-884212_flatten2_10\" class=\"picture-dashboard-Finger Math-884212_flatten2\" x=\"566.6666666666666\" y=\"185\" height=\"50\" width=\"200\" preserveAspectRatio=\"none\" href=\"data:image/gif;base64,R0lGODdhEA4BAIcAAKenp5eXl7S0tIeHh3d3d2dnZ1lZWUdHRxcXFzc3NygoKAoKCsTExAAAAAAAAAAAAAAAAAAAAAAAAAAAAAAAAAAAAAAAAAAAAAAAAAAAAAAAAAAAAAAAAAAAAAAAAAAAAAAAAAAAAAAAAAAAAAAAAAAAAAAAAAAAAAAAAAAAAAAAAAAAAAAAAAAAAAAAAAAAAAAAAAAAAAAAAAAAAAAAAAAAAAAAAAAAAAAAAAAAAAAAAAAAAAAAAAAAAAAAAAAAAAAAAAAAAAAAAAAAAAAAAAAAAAAAAAAAAAAAAAAAAAAAAAAAAAAAAAAAAAAAAAAAAAAAAAAAAAAAAAAAAAAAAAAAAAAAAAAAAAAAAAAAAAAAAAAAAAAAAAAAAAAAAAAAAAAAAAAAAAAAAAAAAAAAAAAAAAAAAAAAAAAAAAAAAAAAAAAAAAAAAAAAAAAAAAAAAAAAAAAAAAAAAAAAAAAAAAAAAAAAAAAAAAAAAAAAAAAAAAAAAAAAAAAAAAAAAAAAAAAAAAAAAAAAAAAAAAAAAAAAAAAAAAAAAAAAAAAAAAAAAAAAAAAAAAAAAAAAAAAAAAAAAAAAAAAAAAAAAAAAAAAAAAAAAAAAAAAAAAAAAAAAAAAAAAAAAAAAAAAAAAAAAAAAAAAAAAAAAAAAAAAAAAAAAAAAAAAAAAAAAAAAAAAAAAAAAAAAAAAAAAAAAAAAAAAAAAAAAAAAAAAAAAAAAAAAAAAAAAAAAAAAAAAAAAAAAAAAAAAAAAAAAAAAAAAAAAAAAAAAAAAAAAAAAAAAAAAAAAAAAAAAAAAAAAAAAAAAAAAAAAAAAAAAAAAAAAAAAAAAAAAAAAAAAAAAAAAAAAAAAAAAAAAAAAAAAAAAAAAAAAAAAAAAAAAAAAAAAAAAAAAAAAAAAAAAAAAAAAAAAAAAAAAAAAAAAAAAAAAAAAAAAAAAAAAAAAAAAAAAAAAAAAAAAAAAAAAAAAAAAAAAAAAAAAAAAAAAAAAAAAAAAAAAAAAAAAAAAAAAAAAAAAAAACwAAAAAEA4BAAAI/wAFDCAgYMAAAAMGABgwIMCAAQEGDAgwYECAAQMCDBgQIMAAAAECAAgQAECAAAACBAAAIAAAAAEEAAggAAAAAQACCAAAQAAAAAIAABAAAIAAAEiTKg0AIEAAAAGiSg0wIMCAAQEGDAgwgECAAQMCDCAQYACBAAMIBBhAAMAAAgIGEAAwgACAAQMCDBgQYACBAAMGBBgwIECAAQECDAjAGECAAAACBAAAIAAAAAEAaBYAAIAAAAAEAAAgAAAAAQACCAAAQAAAAAIAABAAAIAAAAAEAAgAAEAAAAACAAgQAECA48gDDAgQYECAAQMCDBgQYMCAAAMIBBhAIMAAAgEGEP8QMIAAgAEEAgwgEGDAgAADBgQYMCBAgAEB8gMIEABAAIABAAQIAMDgQQEAAAgAEEAAAAACAAAQAACAAAAABAAAIAAAAAEAAAgAAEAAAAACAAAQAACAAAABAAAIAABAAAABAgAI0NNngAEBBgwIMGBAgAFJBxAYMIDAgAEEBgwgAGDAAAADBgQYQCDAgAEBBgwIMGBAgAADAAQIACBAAAABAgAAEADA3bsBAOwVACCAAAABBAAAIAAAAAEAAggAAEAAAAACAAAQACCAAAAABAAAIAAAAAEAAgAAEAAAgAAAAAQAECAAgACxZQcYEGDAgAADBgQYQGDAAAIDBhAYQID/AIABAwIMIBBgwIAAAwYEGBDAegAAAQIACBAAQIAAAAAEAAAgAAD0AgAAEAAggAAAAAQAACAAAAABAAAIAABAAEAAAAQAACAAAAABAAAIAABAAIAAAgAEEAAggAAAGjcCCAAAQAAAAAIACDAgQIABAQIMCDBgQIABMgcQGECAwAACBQAMGBBgwIAAAwYEGDAgwIABAAIEABAgAIAAAQAACAAAQAABAAIIAABAAAAAAgAAEAAAgAAAAAQAACAAAAABAAIIAABAAAAAAgAAEAAAgAAAAAQACCAAQAABAAIIABAAAIAAAAAEAAAgAAAAAQAACAAgAOgAAwIMGBBgAOrU/wMIDCBAIMAAAgEGDAgwYECAAQMC8AYQIACAAAEAAAgA4PjxAAIAABAAAIAAAAAEAAAgAAAAAQAACAAAQAAAAAIAABAAAIAAAQAEAAAgAAB8AAEEAAAgAEAAAQACCAAQAKAAAAEEAAgAACHCAAAABAAQAGLEAAMCDBgQYEDGAQQGECAQYMCAAAMGBBgwIEBKAAEGAAgQAECAAAAABAAAIIAAAAAEAAAgAAAAAQAACBAAQIAAAAIEABAAAIAAAAAEAAAgQAAAAQACCChwQACAAAIAABAAAIAAAAEEAAAgAAAAAQACCAAQQACAAAAABAAAIAAAAAEABDB8eMCAAAMYD/8gMIAAgQADBgQYMCDAgAEBOAMIEABAgAAASJcWAACAAAAABAAAIAAAAAECAAgQAECAAAACBAAQAACAAAEABAgAIEAAAAABBgA4gADAAAIABACwHgCAgQQABhAQIACAAAABAJQXACAAAAABAAAIACBAAAAB6AcYEGBAfgIEBhAoAJBAgQIBBgwIMGBAgAEDAjgEECAAgAABAFi8KAAAAAEAAAgAAECAAAACBAAQIACAAAEABAgAIEAAAAEAAggYQECAgAAAAAQIcEABAAIHAAgAgDTAAAULAhAwIEAAgKkBAAAIAABAAAAAAgAIEABAgLEBBgQYgHYAgQEE2hIoQKD/gIEAAwYEGDAgwIABAAIEABAgAIAAAAoDEAAAgAAAAAQAACBAAAABAgAIEABAgAAAAgQAECAAgAABAAAEGDBAwYIAAwoIEAAggIEEAQwoACAAAIAAAwgkWDCAgAEBAgAYDwAAQAAAAAIACBAAQIABAQIMCDBgQIABBAYMIDCAQAECBAoQKGAgwIAAAQYMCDAgAIAAAQAECAAgv34BAAAIAAgAgAAAAAQIACBAAAABAgAIEABAgAAAAgQAECAAgAABAAgcUEDggAIBAgAMKHBgwAEEAAAMABBgAAEFCwIQMABAp84AAAAEAAAgAIAAAQAEGBAgwIAAAwYEGBB1AIEB/wQKEChQgEABAwEGDAgwYEAAsgACBAAQIAAAtm0FAAAgAAAAAQIACBAAQIAAAAIEABAgAIAAAQAECAAgQAAAAY0DDCBQQMGCAAMKBCBgIMCBBQACEAAwgAABBQsGFDAAQLXqAAAABAAQIACAAAMABAgAIMCAAAMGBBgQnACBAQSMFyhAoICBAAMGBBgwAECAAAACBAAQIAAA7gIAABAAAIAAAAAECAAgQP169QAECAAgQL58AAIEABAAQL/+AgkUACRwQEGAAQUGJFgQYEABAAQMDEiwYACBAgAABAAAIAAAAAEABAgAIMAAAAEGBAgwIMCAAQEGwCRAYACBmgUKEP8oYCDAgAABBgQIGgBAgAAAAgQAoFQAAAACAAAQIACAAAEABGDFCkCAAAACBAAQIACAAAEAzqI9KwBAAAIGCChYMKDAgQAHFAAgYABAgQMEEiAIMIAAAAABAAQIACBAAAABAgAIEABAgMoBBgQYMCDAgM4ECAwgILpAAQIFDAQYMCAAawABAgAIEAAA7doCAAAQAACAAAEABAAPLlw4AAECAAgQAECAAADOnz8PQCABggAGFAgokEBAgQQCDCQIYEBBgAEEAAQIACBAAAABAgAIEABAgAAAAgwIEGBAgAEDAAYYMHAAgQEEEBYoQKCAgQADBgSQCCBAAAABAgDQuFH/AAAAAkCGBAlAgAAAAgQAELByJQABAgAIEABAgAAAN28GGABgQIEABhIEMIAgwAEEAQ4gAGBAQQADCQIMIAAgQAAAAQYACDAAQIAAAAIMABBgQIAAAwIMGBBgQFsCBAYQKECgQAECBQwEGBCAbwAAAQIACBAAAIAAABALAABAAAAAAgQAECAAgAABAAQIACBAAAABAgAIEAAAgAAAp1EDCEDAAAADCQAYSACggAIABRQAKKCAwYAEAQokCDCAAIAAAwAECAAgQAAAAQYACBAAQIAAAAIMCDBgQIAB3wkQGECAfIECBAoYCDAgQPsAAAIEABAgAAD79wUAACBAAAAB/wAFABBAsKBBAQAECAAgQAAAAQIASAwAoGKAAQQGHFBAIAGCAQcQCCiQgMGAAwwIJAhQQMGAAQQABBgAIMAAAAECAAgQAECAAQECDAgwYECAAUiTEiAwoEABAgUMFDBgIMCAAQEGBAAQIACAAAEAiB0rAAAAAQAACBAAQIAAAALiyp07F4AAAQDyBgAAIIDfAQUUIDiwYIEBBAsGHEAAoIACAQQSDDCAYAABAgEGDAgwYECAAQMCDBgQYMCAAAMGBBgwIMCA1wQIDCBAu0ABAgUMFDBgIMCAAAEGBAAQIACAAAEABAgAoLkAAAAEAAAgQAAAAQIACNjOvbsAAAIEAP8QIACA+QAAAARYP4BAAgUFFCAgkAABgQQIBhxAMOAAAoAFEiAYQIBAgAEDAgwYEGDAgAADBgQYMCDAgAEBBgwIMMAjAQIDCIwsUNKAgQIGDAQYMCDAgAAAAgQAECAAgAAAdAYA0FMAAAACBAAQULQoAAFJkwIQIACAAAEABACgCiAAAAABtA4YcEDBgAMICBxAQOAAggIJEBhQsMBAAgQDCBAIMGBAgAEDAgwYEGDAgAADBgQYMCDAAMQECAwg0LhAAQIFDBQwYKCAgQMBBgwIMGAAgAABAAQIACBAAAAAAgBgLQAAAAEAAAgQAECAAAACBAAQIACAAAEABAgAIAD/wHEAAQAACNC8uYEEAw4gIHAAQYEECAokQGBAwQIDChAMIFAgwAACAQYMCDBgQIABAwIMGBBgwIAABAgMIEBgAEACBQgUKECggIECBgwUOHAAwIABAQYMCBBgQICMAAIEABAgAICQIgUAACBAAAABKlUCECAAgAABAAQIACAAAM6cAAIACOCTgIEBCRAQSICgQAIEBhIgOKBggYEECgYMIBBgAIEAAwgEGEAgwAACAQYQCECAwAACBAYQIDCgQAECBeYaMFDAwIECBw4AGBAAwIAAAQYEKBwAQIAAAAIEAOD4sQAAAAQAACBAAAABAgAIEABAgAAAAgQAEADgNGoA/wEABGg94PUBBQQSICiQAIGBBAgOKFhQ4ICCAQMIDCBAIMAAAgEIEBhAgMAAAgQGECAwgACBAQS2FyhAoAB4AwYKGDBQ4MABAAMGABgwAMCAAPIDAAgQAECAAAAABAAAAGAAAAMFAAAgAGFChQoBCADwECLEAAEABAgwoEABAgkQEDiAgMABBAYULCiQAMEAAgUGECAwgACBAQQIDCBAYAABAgMIEBhAgMCAAgUIFChAwICBAgYMFDBwwMCBAwAGDAAwYACAAQEADAjwNQCAAAEABABwFm1aAQAEtHX7VgAAAQIA1LULIACAAAEABPA7YACBAwoIHEBA4ACCAgkQGP9IsIBAAQMDCBAYQIDAAAIEBhAgMIAAgQEECAwoQIBAgQIECrQ2YKCAAQMFDhwwcOAAgAEBAAwIAGBAAAABiBcnDiBAAAAAAgBw/vy5AAACqAMQIACAAAAABAAAIABAePEBAgAIcH5AegMKCBxAQOAAAgIHEBRIsICAgQMDCBAYAJAAgQEECgwoQGAAgQIDCBQgUKAAgQIFCBgwUMCAgQIGDhQ4cMDAgQMCAgQAECAAgAABAAR4+RJAgAAAAgAAECAAgJ08eQoAAEAAAAFEiQIAIAAAAAEAmjoNEABAgKkDqhpQMMCAAgIHEBA4gKBAAgQFDiQYQKDAgAIFBhQoQKCOQIEBBQoQKFCAQIECBAoYKGDAQAEDBgocOGDgwAEDBw4ICDBAQIAAAAIMABAgAIAAnDt7BgA6tOjRAAQAACAAgOrVrAMACBAAQIDZA2obUDDAgAICBxAQOICAQAIEBQ4oIFCgAIECBggUKECgQAECBQoQKFCAQIECBAwYKGDAQAEDBwocOFDgwAEDBw4EBAA7\"><title>Layer: flatten2 (hidden)\n output range: (0.0, 0.8666667)\n Keras class = Flatten</title></image><text x=\"771.6666666666666\" y=\"212.0\" font-family=\"monospace\" font-size=\"12\" text-anchor=\"start\" fill=\"black\" alignment-baseline=\"central\" >flatten2</text><line x1=\"333.3333333333333\" y1=\"264\" x2=\"333.3333333333333\" y2=\"237\" stroke=\"black\" stroke-width=\"2\" marker-end=\"url(#arrow)\"><title>Weights from input1 to flatten1</title></line><rect x=\"232.33333333333331\" y=\"264\" width=\"202\" height=\"202\" style=\"fill:none;stroke:black;stroke-width:2\"/><image id=\"picture-dashboard-Finger Math-884212_input1_11\" class=\"picture-dashboard-Finger Math-884212_input1\" x=\"233.33333333333331\" y=\"265\" height=\"200\" width=\"200\" preserveAspectRatio=\"none\" href=\"data:image/gif;base64,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\"><title>Layer: input1 (input)\n output range: (0.0, 0.8666667)\n shape = (30, 40, 3)\n Keras class = Input</title></image><text x=\"438.3333333333333\" y=\"367.0\" font-family=\"monospace\" font-size=\"12\" text-anchor=\"start\" fill=\"black\" alignment-baseline=\"central\" >input1</text><line x1=\"666.6666666666666\" y1=\"264\" x2=\"666.6666666666666\" y2=\"237\" stroke=\"black\" stroke-width=\"2\" marker-end=\"url(#arrow)\"><title>Weights from input2 to flatten2</title></line><rect x=\"565.6666666666666\" y=\"264\" width=\"202\" height=\"202\" style=\"fill:none;stroke:black;stroke-width:2\"/><image id=\"picture-dashboard-Finger Math-884212_input2_12\" class=\"picture-dashboard-Finger Math-884212_input2\" x=\"566.6666666666666\" y=\"265\" height=\"200\" width=\"200\" preserveAspectRatio=\"none\" href=\"data:image/gif;base64,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\"><title>Layer: input2 (input)\n output range: (0.0, 0.8666667)\n shape = (30, 40, 3)\n Keras class = Input</title></image><text x=\"771.6666666666666\" y=\"367.0\" font-family=\"monospace\" font-size=\"12\" text-anchor=\"start\" fill=\"black\" alignment-baseline=\"central\" >input2</text><text x=\"500.0\" y=\"12.5\" font-family=\"monospace\" font-size=\"15\" text-anchor=\"middle\" fill=\"black\" alignment-baseline=\"central\" >Finger Math</text></svg></g></svg></p>"
      }
     },
     "346640ed4af247c0bdf0e9dc8d511218": {
      "model_module": "@jupyter-widgets/controls",
      "model_module_version": "1.1.0",
      "model_name": "VBoxModel",
      "state": {
       "children": [
        "IPY_MODEL_a615bbf1b36e4c3088a1957596218db6",
        "IPY_MODEL_35cc9718e224451aaa351624d8030be7",
        "IPY_MODEL_0e95a2f66cab4663ae83981cfe70fefe",
        "IPY_MODEL_1f5ce85f90c2471eba8ecc46522c82ed",
        "IPY_MODEL_75b0e83e31c143cb8c69a17cc4b2b34e",
        "IPY_MODEL_813fad18fe424dbe90979348a78ee19f",
        "IPY_MODEL_95875de67c78441d89abbd1438c81429",
        "IPY_MODEL_57974cc2d6604e0cae21a3f57d9fb86d"
       ],
       "layout": "IPY_MODEL_6b49826835eb4dfea7511d8ca89278d5"
      }
     },
     "34a171c6dcc144259f625ddb189740a7": {
      "model_module": "@jupyter-widgets/controls",
      "model_module_version": "1.1.0",
      "model_name": "ButtonModel",
      "state": {
       "icon": "fast-forward",
       "layout": "IPY_MODEL_55ad8fb3d8cd4328b786884d0c0f5345",
       "style": "IPY_MODEL_a33b890a12bc42c0a1d25d20fe09f4be"
      }
     },
     "34a3062114a4420a952a1e196832a454": {
      "model_module": "@jupyter-widgets/base",
      "model_module_version": "1.0.0",
      "model_name": "LayoutModel",
      "state": {
       "width": "10%"
      }
     },
     "34b8e946c8884dddbc4f4a31e29b3429": {
      "model_module": "@jupyter-widgets/base",
      "model_module_version": "1.0.0",
      "model_name": "LayoutModel",
      "state": {}
     },
     "34d9734bffcb4b7290b493d5bda2dca1": {
      "model_module": "@jupyter-widgets/controls",
      "model_module_version": "1.1.0",
      "model_name": "HTMLModel",
      "state": {
       "layout": "IPY_MODEL_c91378cf7978493bb82bbe52a33fb47d",
       "style": "IPY_MODEL_599784ae7976450ab425becfb3195cd7",
       "value": "<img src=\"data:image/gif;base64,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\"/>"
      }
     },
     "3505692e7f7c43acbb5d3caca1cbc17c": {
      "model_module": "@jupyter-widgets/base",
      "model_module_version": "1.0.0",
      "model_name": "LayoutModel",
      "state": {}
     },
     "350c78f03cb44b5a994a8b28e079d53d": {
      "model_module": "@jupyter-widgets/controls",
      "model_module_version": "1.1.0",
      "model_name": "ButtonModel",
      "state": {
       "icon": "backward",
       "layout": "IPY_MODEL_2c8141f9082b475fae6ca557db27c959",
       "style": "IPY_MODEL_87683b0608294030990768606571e9aa"
      }
     },
     "350fb2e041084c5ba35a714ce2081c3b": {
      "model_module": "@jupyter-widgets/controls",
      "model_module_version": "1.1.0",
      "model_name": "HBoxModel",
      "state": {
       "children": [
        "IPY_MODEL_068869731f0e43bb97d45f5808b1d174",
        "IPY_MODEL_fd5850c17d6a45b08a18e236f9b407fb"
       ],
       "layout": "IPY_MODEL_1702bd789187411cb66f53b71f581cb7"
      }
     },
     "3583ea33d4ef4bbd9851d00317c305a5": {
      "model_module": "@jupyter-widgets/base",
      "model_module_version": "1.0.0",
      "model_name": "LayoutModel",
      "state": {
       "width": "100%"
      }
     },
     "35c97151e13d4dc5af403123fe14d1d6": {
      "model_module": "@jupyter-widgets/controls",
      "model_module_version": "1.1.0",
      "model_name": "ButtonStyleModel",
      "state": {}
     },
     "35cc9718e224451aaa351624d8030be7": {
      "model_module": "@jupyter-widgets/controls",
      "model_module_version": "1.1.0",
      "model_name": "FloatSliderModel",
      "state": {
       "continuous_update": false,
       "description": "Zoom",
       "layout": "IPY_MODEL_e99be6b0413c463684be58b12d676f4f",
       "max": 1,
       "step": 0.1,
       "style": "IPY_MODEL_9a57653d8d524593849bbe18ebb30b48",
       "value": 0.5
      }
     },
     "35d407c17e814d239344041d452458da": {
      "model_module": "@jupyter-widgets/base",
      "model_module_version": "1.0.0",
      "model_name": "LayoutModel",
      "state": {
       "height": "40px"
      }
     },
     "35fad293ac81478291023f62eb9cb76b": {
      "model_module": "@jupyter-widgets/controls",
      "model_module_version": "1.1.0",
      "model_name": "DescriptionStyleModel",
      "state": {
       "description_width": ""
      }
     },
     "365edbeab9b0405a91a7825f8c2f47f6": {
      "model_module": "@jupyter-widgets/base",
      "model_module_version": "1.0.0",
      "model_name": "LayoutModel",
      "state": {
       "width": "100px"
      }
     },
     "3675b3cc3da74f62a951f3f3d9cc02bb": {
      "model_module": "@jupyter-widgets/controls",
      "model_module_version": "1.1.0",
      "model_name": "DescriptionStyleModel",
      "state": {
       "description_width": "initial"
      }
     },
     "36846e6318f446358475094b369cd47a": {
      "model_module": "@jupyter-widgets/controls",
      "model_module_version": "1.1.0",
      "model_name": "ButtonStyleModel",
      "state": {}
     },
     "36bfea2732f24941b02a0d188241c677": {
      "model_module": "@jupyter-widgets/controls",
      "model_module_version": "1.1.0",
      "model_name": "DescriptionStyleModel",
      "state": {
       "description_width": ""
      }
     },
     "36c23414be3c48eea0ea6d371382c7c5": {
      "model_module": "@jupyter-widgets/base",
      "model_module_version": "1.0.0",
      "model_name": "LayoutModel",
      "state": {}
     },
     "3748c54b24f44529867edd8cef65c111": {
      "model_module": "@jupyter-widgets/base",
      "model_module_version": "1.0.0",
      "model_name": "LayoutModel",
      "state": {}
     },
     "377228fb8232474bbb13ddc08d72ff06": {
      "model_module": "@jupyter-widgets/base",
      "model_module_version": "1.0.0",
      "model_name": "LayoutModel",
      "state": {}
     },
     "378552685fc2404b98b76e834d8ffe22": {
      "model_module": "@jupyter-widgets/base",
      "model_module_version": "1.0.0",
      "model_name": "LayoutModel",
      "state": {
       "height": "50px",
       "width": "100%"
      }
     },
     "37858b4a69cd492ea6129225211dcfe6": {
      "model_module": "@jupyter-widgets/base",
      "model_module_version": "1.0.0",
      "model_name": "LayoutModel",
      "state": {}
     },
     "38b6e2c1827544e7a7ec2d597d3c28c5": {
      "model_module": "@jupyter-widgets/controls",
      "model_module_version": "1.1.0",
      "model_name": "SelectModel",
      "state": {
       "_options_labels": [
        "",
        "Accent",
        "Accent_r",
        "Blues",
        "Blues_r",
        "BrBG",
        "BrBG_r",
        "BuGn",
        "BuGn_r",
        "BuPu",
        "BuPu_r",
        "CMRmap",
        "CMRmap_r",
        "Dark2",
        "Dark2_r",
        "GnBu",
        "GnBu_r",
        "Greens",
        "Greens_r",
        "Greys",
        "Greys_r",
        "OrRd",
        "OrRd_r",
        "Oranges",
        "Oranges_r",
        "PRGn",
        "PRGn_r",
        "Paired",
        "Paired_r",
        "Pastel1",
        "Pastel1_r",
        "Pastel2",
        "Pastel2_r",
        "PiYG",
        "PiYG_r",
        "PuBu",
        "PuBuGn",
        "PuBuGn_r",
        "PuBu_r",
        "PuOr",
        "PuOr_r",
        "PuRd",
        "PuRd_r",
        "Purples",
        "Purples_r",
        "RdBu",
        "RdBu_r",
        "RdGy",
        "RdGy_r",
        "RdPu",
        "RdPu_r",
        "RdYlBu",
        "RdYlBu_r",
        "RdYlGn",
        "RdYlGn_r",
        "Reds",
        "Reds_r",
        "Set1",
        "Set1_r",
        "Set2",
        "Set2_r",
        "Set3",
        "Set3_r",
        "Spectral",
        "Spectral_r",
        "Vega10",
        "Vega10_r",
        "Vega20",
        "Vega20_r",
        "Vega20b",
        "Vega20b_r",
        "Vega20c",
        "Vega20c_r",
        "Wistia",
        "Wistia_r",
        "YlGn",
        "YlGnBu",
        "YlGnBu_r",
        "YlGn_r",
        "YlOrBr",
        "YlOrBr_r",
        "YlOrRd",
        "YlOrRd_r",
        "afmhot",
        "afmhot_r",
        "autumn",
        "autumn_r",
        "binary",
        "binary_r",
        "bone",
        "bone_r",
        "brg",
        "brg_r",
        "bwr",
        "bwr_r",
        "cool",
        "cool_r",
        "coolwarm",
        "coolwarm_r",
        "copper",
        "copper_r",
        "cubehelix",
        "cubehelix_r",
        "flag",
        "flag_r",
        "gist_earth",
        "gist_earth_r",
        "gist_gray",
        "gist_gray_r",
        "gist_heat",
        "gist_heat_r",
        "gist_ncar",
        "gist_ncar_r",
        "gist_rainbow",
        "gist_rainbow_r",
        "gist_stern",
        "gist_stern_r",
        "gist_yarg",
        "gist_yarg_r",
        "gnuplot",
        "gnuplot2",
        "gnuplot2_r",
        "gnuplot_r",
        "gray",
        "gray_r",
        "hot",
        "hot_r",
        "hsv",
        "hsv_r",
        "inferno",
        "inferno_r",
        "jet",
        "jet_r",
        "magma",
        "magma_r",
        "nipy_spectral",
        "nipy_spectral_r",
        "ocean",
        "ocean_r",
        "pink",
        "pink_r",
        "plasma",
        "plasma_r",
        "prism",
        "prism_r",
        "rainbow",
        "rainbow_r",
        "seismic",
        "seismic_r",
        "spectral",
        "spectral_r",
        "spring",
        "spring_r",
        "summer",
        "summer_r",
        "tab10",
        "tab10_r",
        "tab20",
        "tab20_r",
        "tab20b",
        "tab20b_r",
        "tab20c",
        "tab20c_r",
        "terrain",
        "terrain_r",
        "viridis",
        "viridis_r",
        "winter",
        "winter_r"
       ],
       "description": "Colormap:",
       "index": 0,
       "layout": "IPY_MODEL_442c0668cff04fba8401e7916a5f4228",
       "rows": 1,
       "style": "IPY_MODEL_62e1aa502e574e9a82bc7a36dec49986"
      }
     },
     "38d96fe86922490381f53c8969cecbed": {
      "model_module": "@jupyter-widgets/controls",
      "model_module_version": "1.1.0",
      "model_name": "HTMLModel",
      "state": {
       "layout": "IPY_MODEL_ac79fe244cd240159b893641c0231259",
       "style": "IPY_MODEL_6a5428d224484c908c35e263aecd914d",
       "value": "<img src=\"data:image/gif;base64,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\"/>"
      }
     },
     "3916d47aa4554a1984715662c8c38fb8": {
      "model_module": "@jupyter-widgets/base",
      "model_module_version": "1.0.0",
      "model_name": "LayoutModel",
      "state": {
       "width": "52%"
      }
     },
     "39375dc82c574ecab4580857f356cfcd": {
      "model_module": "@jupyter-widgets/base",
      "model_module_version": "1.0.0",
      "model_name": "LayoutModel",
      "state": {
       "width": "100%"
      }
     },
     "39f3f7c26b914fa48a60ee44615837be": {
      "model_module": "@jupyter-widgets/controls",
      "model_module_version": "1.1.0",
      "model_name": "IntTextModel",
      "state": {
       "description": "Horizontal space between banks:",
       "layout": "IPY_MODEL_a6b32a40bfae4a20b096805f585b71be",
       "step": 1,
       "style": "IPY_MODEL_4f2ceaeb9fc84f6b9114e69af4762443",
       "value": 150
      }
     },
     "3a0efa20eb084f4f93f9c618c5d1c3c1": {
      "model_module": "@jupyter-widgets/base",
      "model_module_version": "1.0.0",
      "model_name": "LayoutModel",
      "state": {}
     },
     "3a1b806d9efb4c018f58c18873e6046b": {
      "model_module": "@jupyter-widgets/controls",
      "model_module_version": "1.1.0",
      "model_name": "DescriptionStyleModel",
      "state": {
       "description_width": "initial"
      }
     },
     "3a813f2e046e4c68a55492bca050d6f4": {
      "model_module": "@jupyter-widgets/controls",
      "model_module_version": "1.1.0",
      "model_name": "VBoxModel",
      "state": {
       "children": [
        "IPY_MODEL_2ed50be439564c06883b0a2ca330a864",
        "IPY_MODEL_73b5d02d5e974d5aad76b20cdbab2e3e",
        "IPY_MODEL_5ee26abc224a4045a4f99b614250814e",
        "IPY_MODEL_d380a0929e6d4a6ea1e42aa92c72541c"
       ],
       "layout": "IPY_MODEL_efc99e3b81694fd0ab5f3c4ba4d2e176"
      }
     },
     "3a8d5f61d35c496d85469f77010f733a": {
      "model_module": "@jupyter-widgets/controls",
      "model_module_version": "1.1.0",
      "model_name": "SelectModel",
      "state": {
       "_options_labels": [
        "",
        "Accent",
        "Accent_r",
        "Blues",
        "Blues_r",
        "BrBG",
        "BrBG_r",
        "BuGn",
        "BuGn_r",
        "BuPu",
        "BuPu_r",
        "CMRmap",
        "CMRmap_r",
        "Dark2",
        "Dark2_r",
        "GnBu",
        "GnBu_r",
        "Greens",
        "Greens_r",
        "Greys",
        "Greys_r",
        "OrRd",
        "OrRd_r",
        "Oranges",
        "Oranges_r",
        "PRGn",
        "PRGn_r",
        "Paired",
        "Paired_r",
        "Pastel1",
        "Pastel1_r",
        "Pastel2",
        "Pastel2_r",
        "PiYG",
        "PiYG_r",
        "PuBu",
        "PuBuGn",
        "PuBuGn_r",
        "PuBu_r",
        "PuOr",
        "PuOr_r",
        "PuRd",
        "PuRd_r",
        "Purples",
        "Purples_r",
        "RdBu",
        "RdBu_r",
        "RdGy",
        "RdGy_r",
        "RdPu",
        "RdPu_r",
        "RdYlBu",
        "RdYlBu_r",
        "RdYlGn",
        "RdYlGn_r",
        "Reds",
        "Reds_r",
        "Set1",
        "Set1_r",
        "Set2",
        "Set2_r",
        "Set3",
        "Set3_r",
        "Spectral",
        "Spectral_r",
        "Vega10",
        "Vega10_r",
        "Vega20",
        "Vega20_r",
        "Vega20b",
        "Vega20b_r",
        "Vega20c",
        "Vega20c_r",
        "Wistia",
        "Wistia_r",
        "YlGn",
        "YlGnBu",
        "YlGnBu_r",
        "YlGn_r",
        "YlOrBr",
        "YlOrBr_r",
        "YlOrRd",
        "YlOrRd_r",
        "afmhot",
        "afmhot_r",
        "autumn",
        "autumn_r",
        "binary",
        "binary_r",
        "bone",
        "bone_r",
        "brg",
        "brg_r",
        "bwr",
        "bwr_r",
        "cool",
        "cool_r",
        "coolwarm",
        "coolwarm_r",
        "copper",
        "copper_r",
        "cubehelix",
        "cubehelix_r",
        "flag",
        "flag_r",
        "gist_earth",
        "gist_earth_r",
        "gist_gray",
        "gist_gray_r",
        "gist_heat",
        "gist_heat_r",
        "gist_ncar",
        "gist_ncar_r",
        "gist_rainbow",
        "gist_rainbow_r",
        "gist_stern",
        "gist_stern_r",
        "gist_yarg",
        "gist_yarg_r",
        "gnuplot",
        "gnuplot2",
        "gnuplot2_r",
        "gnuplot_r",
        "gray",
        "gray_r",
        "hot",
        "hot_r",
        "hsv",
        "hsv_r",
        "inferno",
        "inferno_r",
        "jet",
        "jet_r",
        "magma",
        "magma_r",
        "nipy_spectral",
        "nipy_spectral_r",
        "ocean",
        "ocean_r",
        "pink",
        "pink_r",
        "plasma",
        "plasma_r",
        "prism",
        "prism_r",
        "rainbow",
        "rainbow_r",
        "seismic",
        "seismic_r",
        "spectral",
        "spectral_r",
        "spring",
        "spring_r",
        "summer",
        "summer_r",
        "tab10",
        "tab10_r",
        "tab20",
        "tab20_r",
        "tab20b",
        "tab20b_r",
        "tab20c",
        "tab20c_r",
        "terrain",
        "terrain_r",
        "viridis",
        "viridis_r",
        "winter",
        "winter_r"
       ],
       "description": "Colormap:",
       "index": 0,
       "layout": "IPY_MODEL_8955ba102b5d4c6ea881b572f2dc91ce",
       "rows": 1,
       "style": "IPY_MODEL_8a1edc1dfddc4a888ea5c3b63a61f19a"
      }
     },
     "3aa87701a2074e88a168a1558e8fc215": {
      "model_module": "@jupyter-widgets/base",
      "model_module_version": "1.0.0",
      "model_name": "LayoutModel",
      "state": {
       "width": "100%"
      }
     },
     "3ab3cd901f844796b394ff50e2263822": {
      "model_module": "@jupyter-widgets/base",
      "model_module_version": "1.0.0",
      "model_name": "LayoutModel",
      "state": {
       "width": "100%"
      }
     },
     "3ac27c5f903a4d869c2c0ff8c3d6a9b3": {
      "model_module": "@jupyter-widgets/base",
      "model_module_version": "1.0.0",
      "model_name": "LayoutModel",
      "state": {
       "width": "52%"
      }
     },
     "3b7c7cd7f6e24b22a27ec9ae59284bac": {
      "model_module": "@jupyter-widgets/base",
      "model_module_version": "1.0.0",
      "model_name": "LayoutModel",
      "state": {}
     },
     "3b96e43d5e4f4a928a029476b12f4202": {
      "model_module": "@jupyter-widgets/base",
      "model_module_version": "1.0.0",
      "model_name": "LayoutModel",
      "state": {}
     },
     "3b9da59fec534e4b8cb4f3083a6f597a": {
      "model_module": "@jupyter-widgets/controls",
      "model_module_version": "1.1.0",
      "model_name": "HBoxModel",
      "state": {
       "children": [
        "IPY_MODEL_be6df65074304fd69abe4557aa4b2aeb",
        "IPY_MODEL_3bb91bfc0a924f7ea40d7bd0278efad0"
       ],
       "layout": "IPY_MODEL_35d407c17e814d239344041d452458da"
      }
     },
     "3ba01609c55340cfb6bb04450513f223": {
      "model_module": "@jupyter-widgets/controls",
      "model_module_version": "1.1.0",
      "model_name": "CheckboxModel",
      "state": {
       "description": "Visible",
       "disabled": false,
       "layout": "IPY_MODEL_eecf988714ef45b6b02b96cebcb84acb",
       "style": "IPY_MODEL_dfb1af1183ba43bc9550c839555e2405",
       "value": true
      }
     },
     "3bb4298bc8654e23a945c7aa6bf60b78": {
      "model_module": "@jupyter-widgets/controls",
      "model_module_version": "1.1.0",
      "model_name": "IntTextModel",
      "state": {
       "description": "Vertical space between layers:",
       "layout": "IPY_MODEL_90de29ae74eb41418e354aa7a12374bf",
       "step": 1,
       "style": "IPY_MODEL_6da2c91e30e441cdbbdb0b2e7622c198",
       "value": 30
      }
     },
     "3bb91bfc0a924f7ea40d7bd0278efad0": {
      "model_module": "@jupyter-widgets/controls",
      "model_module_version": "1.1.0",
      "model_name": "LabelModel",
      "state": {
       "layout": "IPY_MODEL_55a756705ba3434bb0e565e967834c24",
       "style": "IPY_MODEL_e49317faadf547ff98c9a5b4a9ac5338",
       "value": "of 12000"
      }
     },
     "3be5737fe10c40f6b1c69eb06ca60dce": {
      "model_module": "@jupyter-widgets/controls",
      "model_module_version": "1.1.0",
      "model_name": "IntSliderModel",
      "state": {
       "continuous_update": false,
       "description": "Dataset index",
       "layout": "IPY_MODEL_5974c5f564dd424e869f4f6167832f5a",
       "max": 0,
       "style": "IPY_MODEL_2f6d58ad39b4404c90f104bb0d1db2cc"
      }
     },
     "3c38d66724bf47eaa138776a867676de": {
      "model_module": "@jupyter-widgets/controls",
      "model_module_version": "1.1.0",
      "model_name": "VBoxModel",
      "state": {
       "children": [
        "IPY_MODEL_5ebf3cc00a084c599a673daa24324bcd",
        "IPY_MODEL_4ec4d5fad6d24a11af60fc27ead34e14",
        "IPY_MODEL_cde024a7c7254631a9ee775acd37cc1d",
        "IPY_MODEL_3bb4298bc8654e23a945c7aa6bf60b78",
        "IPY_MODEL_8d053940566b4d1891b77628c34e99f7",
        "IPY_MODEL_1320cc4c383a403f8c6bc970a69f10d7",
        "IPY_MODEL_1203efdc62b545fab04d4dc21515c39d",
        "IPY_MODEL_60b87e7b886e4b2da9683f613b0d09af"
       ],
       "layout": "IPY_MODEL_28e641fb0b9e48a79a7d2c4ac42b3734"
      }
     },
     "3c71e01bc0fc4895a6869de7e0f8bf6f": {
      "model_module": "@jupyter-widgets/base",
      "model_module_version": "1.0.0",
      "model_name": "LayoutModel",
      "state": {}
     },
     "3ca9903b3cba4f389def13f1c1aca6a7": {
      "model_module": "@jupyter-widgets/controls",
      "model_module_version": "1.1.0",
      "model_name": "SelectModel",
      "state": {
       "_options_labels": [
        "",
        "input1",
        "input2"
       ],
       "description": "Features:",
       "index": 0,
       "layout": "IPY_MODEL_4dcae9b5bae44cf7af95ec24f35e12d3",
       "rows": 1,
       "style": "IPY_MODEL_1783e3c3c71b43d795370e43b2237761"
      }
     },
     "3cec05c135c643d08ee037a527d0deee": {
      "model_module": "@jupyter-widgets/base",
      "model_module_version": "1.0.0",
      "model_name": "LayoutModel",
      "state": {
       "width": "65%"
      }
     },
     "3cf5b43a36df4f588357de11ce8cbbd4": {
      "model_module": "@jupyter-widgets/base",
      "model_module_version": "1.0.0",
      "model_name": "LayoutModel",
      "state": {}
     },
     "3d44145d2fa84f84992c37a224bf2431": {
      "model_module": "@jupyter-widgets/controls",
      "model_module_version": "1.1.0",
      "model_name": "IntTextModel",
      "state": {
       "layout": "IPY_MODEL_cbdee75ea9614c56844552308b72cf79",
       "step": 1,
       "style": "IPY_MODEL_33fe9b7c5b984a57a3131fb8b473ed5b",
       "value": 4
      }
     },
     "3d47dbb32f624f5793cb961889005652": {
      "model_module": "@jupyter-widgets/controls",
      "model_module_version": "1.1.0",
      "model_name": "HBoxModel",
      "state": {
       "children": [
        "IPY_MODEL_5deccefff7aa48328e08ade8b4a48381",
        "IPY_MODEL_172232f93cab410f9289c349a1aee89d"
       ],
       "layout": "IPY_MODEL_23b82b752d534db4907ee34e080c8996"
      }
     },
     "3d93107ff8434c1ba2859508d718e5aa": {
      "model_module": "@jupyter-widgets/base",
      "model_module_version": "1.0.0",
      "model_name": "LayoutModel",
      "state": {}
     },
     "3e2d852288e54ae4b0832072b995cdf5": {
      "model_module": "@jupyter-widgets/controls",
      "model_module_version": "1.1.0",
      "model_name": "DescriptionStyleModel",
      "state": {
       "description_width": ""
      }
     },
     "3e71cfceecef455e811220defedd8cab": {
      "model_module": "@jupyter-widgets/controls",
      "model_module_version": "1.1.0",
      "model_name": "DescriptionStyleModel",
      "state": {
       "description_width": ""
      }
     },
     "3e7f8eb89127486294bb1aaa2c077455": {
      "model_module": "@jupyter-widgets/controls",
      "model_module_version": "1.1.0",
      "model_name": "DescriptionStyleModel",
      "state": {
       "description_width": "initial"
      }
     },
     "3ef8ac2f2cad48d8b9289ab323f5e59e": {
      "model_module": "@jupyter-widgets/controls",
      "model_module_version": "1.1.0",
      "model_name": "CheckboxModel",
      "state": {
       "description": "Errors",
       "disabled": false,
       "layout": "IPY_MODEL_8955ba102b5d4c6ea881b572f2dc91ce",
       "style": "IPY_MODEL_4ad2c53501d345b596e5856725517595",
       "value": false
      }
     },
     "3f1c5000ce7d43e4abf622bbeedc4ba5": {
      "model_module": "@jupyter-widgets/controls",
      "model_module_version": "1.1.0",
      "model_name": "DescriptionStyleModel",
      "state": {
       "description_width": "initial"
      }
     },
     "3f639d28f88447dfb3086529fd211d44": {
      "model_module": "@jupyter-widgets/controls",
      "model_module_version": "1.1.0",
      "model_name": "DescriptionStyleModel",
      "state": {
       "description_width": ""
      }
     },
     "3fed35ebf8be483dbf8a6531b245d381": {
      "model_module": "@jupyter-widgets/base",
      "model_module_version": "1.0.0",
      "model_name": "LayoutModel",
      "state": {}
     },
     "400085a98bd54a0da3b6bb1890742083": {
      "model_module": "@jupyter-widgets/base",
      "model_module_version": "1.0.0",
      "model_name": "LayoutModel",
      "state": {
       "width": "100%"
      }
     },
     "4000f31695a34b2786598cf1d36210ba": {
      "model_module": "@jupyter-widgets/controls",
      "model_module_version": "1.1.0",
      "model_name": "SelectModel",
      "state": {
       "_options_labels": [
        "input1",
        "input2",
        "flatten1",
        "flatten2",
        "hidden",
        "output"
       ],
       "description": "Layer:",
       "index": 5,
       "layout": "IPY_MODEL_d39267e0e0de4b6e932be25f1cdf3cd7",
       "rows": 1,
       "style": "IPY_MODEL_ea487ad4fb2f4c60981c7dc0743009e1"
      }
     },
     "4041dfe35c174f1082b91a202fd2727d": {
      "model_module": "@jupyter-widgets/controls",
      "model_module_version": "1.1.0",
      "model_name": "HBoxModel",
      "state": {
       "children": [
        "IPY_MODEL_b1d5ecdff88a404b98a3f97d97a0cf5d",
        "IPY_MODEL_1f3cb37e047b4a1f865825bdaf2ddd5f",
        "IPY_MODEL_51fd9f4707c446c4bcaad29257af7774",
        "IPY_MODEL_0a8705e9084d4ceb93559ae849a6eeb3",
        "IPY_MODEL_34a171c6dcc144259f625ddb189740a7",
        "IPY_MODEL_e461076df7934339a2e6eb0e266da3f6",
        "IPY_MODEL_1273ae24c59841cebd5f4cadb840bf15"
       ],
       "layout": "IPY_MODEL_448a066061624caea3609ba4479646b9"
      }
     },
     "407c8ea24e6f43e8a97eaaecf1da19a0": {
      "model_module": "@jupyter-widgets/controls",
      "model_module_version": "1.1.0",
      "model_name": "ButtonModel",
      "state": {
       "icon": "fast-backward",
       "layout": "IPY_MODEL_4a811abc7be64443a1c96f9d92071798",
       "style": "IPY_MODEL_26d4d69e15c04b55a6694962657d086f"
      }
     },
     "40bd05f191e449e8a728423396b445f4": {
      "model_module": "@jupyter-widgets/controls",
      "model_module_version": "1.1.0",
      "model_name": "DescriptionStyleModel",
      "state": {
       "description_width": "initial"
      }
     },
     "40ff50360cb7433f936d82bc501f9ee2": {
      "model_module": "@jupyter-widgets/base",
      "model_module_version": "1.0.0",
      "model_name": "LayoutModel",
      "state": {
       "width": "10%"
      }
     },
     "413a3e8cb1794aa79c332cd96eb5e7b4": {
      "model_module": "@jupyter-widgets/controls",
      "model_module_version": "1.1.0",
      "model_name": "HBoxModel",
      "state": {
       "children": [
        "IPY_MODEL_fcf732f63f124d14a62d7ac9ae8fdcc8",
        "IPY_MODEL_e792c06d3a0645448d2618c20688ac34",
        "IPY_MODEL_84dcd02d84c941ef8bf326abc0be787a",
        "IPY_MODEL_dd13554f7e824849a189f9603996bcfd",
        "IPY_MODEL_8f077579fb414a9c883fb02ebb77dcf2",
        "IPY_MODEL_1c493f36f4594c0ea6cf53632966c37d",
        "IPY_MODEL_1d001ce98a434b9e9e4ef49605907fa2"
       ],
       "layout": "IPY_MODEL_727d19de9fa44544a13a6f20266f2823"
      }
     },
     "418538c2c88947d3b8ce70aeafd36f36": {
      "model_module": "@jupyter-widgets/controls",
      "model_module_version": "1.1.0",
      "model_name": "ButtonStyleModel",
      "state": {}
     },
     "419346c9fa98473d9e8451cfec66b92d": {
      "model_module": "@jupyter-widgets/base",
      "model_module_version": "1.0.0",
      "model_name": "LayoutModel",
      "state": {}
     },
     "420abfe277f24e8ba77c88bc242b81f2": {
      "model_module": "@jupyter-widgets/base",
      "model_module_version": "1.0.0",
      "model_name": "LayoutModel",
      "state": {
       "width": "100%"
      }
     },
     "42208eb40a744df69378d67681f31d76": {
      "model_module": "@jupyter-widgets/controls",
      "model_module_version": "1.1.0",
      "model_name": "ButtonStyleModel",
      "state": {}
     },
     "428edc9c0bdf4582a53311906b8a656f": {
      "model_module": "@jupyter-widgets/base",
      "model_module_version": "1.0.0",
      "model_name": "LayoutModel",
      "state": {
       "width": "100%"
      }
     },
     "42bbc7657bab4585a8da38aea5e656cb": {
      "model_module": "@jupyter-widgets/base",
      "model_module_version": "1.0.0",
      "model_name": "LayoutModel",
      "state": {}
     },
     "42dbe40dcf01407cb66f9913015de4db": {
      "model_module": "@jupyter-widgets/controls",
      "model_module_version": "1.1.0",
      "model_name": "CheckboxModel",
      "state": {
       "description": "Rotate network",
       "disabled": false,
       "layout": "IPY_MODEL_329cdc5df8004eaab571bde21da91fa2",
       "style": "IPY_MODEL_2ac18db21e0c4f69ab34ea82b7b371f8",
       "value": false
      }
     },
     "438cdc28a71a46e19d45bc4ebcc4f1ef": {
      "model_module": "@jupyter-widgets/controls",
      "model_module_version": "1.1.0",
      "model_name": "IntTextModel",
      "state": {
       "description": "Feature columns:",
       "layout": "IPY_MODEL_d941b99bce91447aad0123dc0feb8d47",
       "step": 1,
       "style": "IPY_MODEL_47703a78b5f74b27a7b62933a89dbc12",
       "value": 3
      }
     },
     "439e89ac21c742d4a04e27cb66ffa984": {
      "model_module": "@jupyter-widgets/base",
      "model_module_version": "1.0.0",
      "model_name": "LayoutModel",
      "state": {}
     },
     "43baaa19b99c4649be237d7848066f54": {
      "model_module": "@jupyter-widgets/controls",
      "model_module_version": "1.1.0",
      "model_name": "DescriptionStyleModel",
      "state": {
       "description_width": ""
      }
     },
     "43e1aeb53d5a4b1692a7c5cb3732830c": {
      "model_module": "@jupyter-widgets/base",
      "model_module_version": "1.0.0",
      "model_name": "LayoutModel",
      "state": {}
     },
     "440c1db122e34b22a3264b5cea3785b1": {
      "model_module": "@jupyter-widgets/controls",
      "model_module_version": "1.1.0",
      "model_name": "DescriptionStyleModel",
      "state": {
       "description_width": ""
      }
     },
     "440c61f6a50a4fc294e28ffc4d561052": {
      "model_module": "@jupyter-widgets/base",
      "model_module_version": "1.0.0",
      "model_name": "LayoutModel",
      "state": {
       "width": "100%"
      }
     },
     "442c0668cff04fba8401e7916a5f4228": {
      "model_module": "@jupyter-widgets/base",
      "model_module_version": "1.0.0",
      "model_name": "LayoutModel",
      "state": {}
     },
     "448a066061624caea3609ba4479646b9": {
      "model_module": "@jupyter-widgets/base",
      "model_module_version": "1.0.0",
      "model_name": "LayoutModel",
      "state": {
       "height": "50px",
       "width": "100%"
      }
     },
     "44d58fe016154c8aa7233f1d363f946f": {
      "model_module": "@jupyter-widgets/base",
      "model_module_version": "1.0.0",
      "model_name": "LayoutModel",
      "state": {}
     },
     "451eba09c2a64375b1be80d4ea501187": {
      "model_module": "@jupyter-widgets/controls",
      "model_module_version": "1.1.0",
      "model_name": "CheckboxModel",
      "state": {
       "description": "Rotate",
       "disabled": false,
       "layout": "IPY_MODEL_442c0668cff04fba8401e7916a5f4228",
       "style": "IPY_MODEL_bcc1d8d6a09842fcbcf8dda6e484f01e",
       "value": true
      }
     },
     "45297401575447b3a6213863be899191": {
      "model_module": "@jupyter-widgets/controls",
      "model_module_version": "1.1.0",
      "model_name": "SliderStyleModel",
      "state": {
       "description_width": ""
      }
     },
     "4574da63134845b5b6ed9db34467b6d4": {
      "model_module": "@jupyter-widgets/base",
      "model_module_version": "1.0.0",
      "model_name": "LayoutModel",
      "state": {
       "width": "52%"
      }
     },
     "4622654bc93d4d22aeb67f5ad9b17235": {
      "model_module": "@jupyter-widgets/controls",
      "model_module_version": "1.1.0",
      "model_name": "DescriptionStyleModel",
      "state": {
       "description_width": ""
      }
     },
     "465bb77e56bc4f14960356ff9ff00971": {
      "model_module": "@jupyter-widgets/base",
      "model_module_version": "1.0.0",
      "model_name": "LayoutModel",
      "state": {}
     },
     "46ef6036d1734a49a95e9b13ab1c7a01": {
      "model_module": "@jupyter-widgets/controls",
      "model_module_version": "1.1.0",
      "model_name": "ButtonModel",
      "state": {
       "icon": "refresh",
       "layout": "IPY_MODEL_dfcb55e4aa61483682f348d7a0d6c0ff",
       "style": "IPY_MODEL_fd5228b45c32434b87881393d960c2cd"
      }
     },
     "4702b26e98904715a87896a382d35bde": {
      "model_module": "@jupyter-widgets/controls",
      "model_module_version": "1.1.0",
      "model_name": "SelectModel",
      "state": {
       "_options_labels": [
        "",
        "Accent",
        "Accent_r",
        "Blues",
        "Blues_r",
        "BrBG",
        "BrBG_r",
        "BuGn",
        "BuGn_r",
        "BuPu",
        "BuPu_r",
        "CMRmap",
        "CMRmap_r",
        "Dark2",
        "Dark2_r",
        "GnBu",
        "GnBu_r",
        "Greens",
        "Greens_r",
        "Greys",
        "Greys_r",
        "OrRd",
        "OrRd_r",
        "Oranges",
        "Oranges_r",
        "PRGn",
        "PRGn_r",
        "Paired",
        "Paired_r",
        "Pastel1",
        "Pastel1_r",
        "Pastel2",
        "Pastel2_r",
        "PiYG",
        "PiYG_r",
        "PuBu",
        "PuBuGn",
        "PuBuGn_r",
        "PuBu_r",
        "PuOr",
        "PuOr_r",
        "PuRd",
        "PuRd_r",
        "Purples",
        "Purples_r",
        "RdBu",
        "RdBu_r",
        "RdGy",
        "RdGy_r",
        "RdPu",
        "RdPu_r",
        "RdYlBu",
        "RdYlBu_r",
        "RdYlGn",
        "RdYlGn_r",
        "Reds",
        "Reds_r",
        "Set1",
        "Set1_r",
        "Set2",
        "Set2_r",
        "Set3",
        "Set3_r",
        "Spectral",
        "Spectral_r",
        "Vega10",
        "Vega10_r",
        "Vega20",
        "Vega20_r",
        "Vega20b",
        "Vega20b_r",
        "Vega20c",
        "Vega20c_r",
        "Wistia",
        "Wistia_r",
        "YlGn",
        "YlGnBu",
        "YlGnBu_r",
        "YlGn_r",
        "YlOrBr",
        "YlOrBr_r",
        "YlOrRd",
        "YlOrRd_r",
        "afmhot",
        "afmhot_r",
        "autumn",
        "autumn_r",
        "binary",
        "binary_r",
        "bone",
        "bone_r",
        "brg",
        "brg_r",
        "bwr",
        "bwr_r",
        "cool",
        "cool_r",
        "coolwarm",
        "coolwarm_r",
        "copper",
        "copper_r",
        "cubehelix",
        "cubehelix_r",
        "flag",
        "flag_r",
        "gist_earth",
        "gist_earth_r",
        "gist_gray",
        "gist_gray_r",
        "gist_heat",
        "gist_heat_r",
        "gist_ncar",
        "gist_ncar_r",
        "gist_rainbow",
        "gist_rainbow_r",
        "gist_stern",
        "gist_stern_r",
        "gist_yarg",
        "gist_yarg_r",
        "gnuplot",
        "gnuplot2",
        "gnuplot2_r",
        "gnuplot_r",
        "gray",
        "gray_r",
        "hot",
        "hot_r",
        "hsv",
        "hsv_r",
        "inferno",
        "inferno_r",
        "jet",
        "jet_r",
        "magma",
        "magma_r",
        "nipy_spectral",
        "nipy_spectral_r",
        "ocean",
        "ocean_r",
        "pink",
        "pink_r",
        "plasma",
        "plasma_r",
        "prism",
        "prism_r",
        "rainbow",
        "rainbow_r",
        "seismic",
        "seismic_r",
        "spectral",
        "spectral_r",
        "spring",
        "spring_r",
        "summer",
        "summer_r",
        "tab10",
        "tab10_r",
        "tab20",
        "tab20_r",
        "tab20b",
        "tab20b_r",
        "tab20c",
        "tab20c_r",
        "terrain",
        "terrain_r",
        "viridis",
        "viridis_r",
        "winter",
        "winter_r"
       ],
       "description": "Colormap:",
       "index": 0,
       "layout": "IPY_MODEL_7e14b30f05d74e0a8267466e6bfb2f45",
       "rows": 1,
       "style": "IPY_MODEL_c827acf9e21d428198820e20b9dc2195"
      }
     },
     "47703a78b5f74b27a7b62933a89dbc12": {
      "model_module": "@jupyter-widgets/controls",
      "model_module_version": "1.1.0",
      "model_name": "DescriptionStyleModel",
      "state": {
       "description_width": "initial"
      }
     },
     "47a1e766040f44dca8bae511174c73e3": {
      "model_module": "@jupyter-widgets/controls",
      "model_module_version": "1.1.0",
      "model_name": "ButtonStyleModel",
      "state": {}
     },
     "48945249f37e4cf6a3a0ffed271f2f5c": {
      "model_module": "@jupyter-widgets/controls",
      "model_module_version": "1.1.0",
      "model_name": "IntTextModel",
      "state": {
       "description": "Horizontal space between banks:",
       "layout": "IPY_MODEL_eecf988714ef45b6b02b96cebcb84acb",
       "step": 1,
       "style": "IPY_MODEL_b5c04d02be4f42c780f27ff512a5baca",
       "value": 150
      }
     },
     "48a54afc04294b6388c02ae40313da92": {
      "model_module": "@jupyter-widgets/controls",
      "model_module_version": "1.1.0",
      "model_name": "SelectModel",
      "state": {
       "_options_labels": [
        "Test",
        "Train"
       ],
       "description": "Dataset:",
       "index": 1,
       "layout": "IPY_MODEL_f42b2ffb8ed048b5837afc8d6531a3bb",
       "rows": 1,
       "style": "IPY_MODEL_ab306556558043abbead411100fd4b77"
      }
     },
     "4967be7744074f20ae688daae4eacd73": {
      "model_module": "@jupyter-widgets/base",
      "model_module_version": "1.0.0",
      "model_name": "LayoutModel",
      "state": {
       "height": "40px"
      }
     },
     "4994e9f4d2954a6492fb5bde1ba37254": {
      "model_module": "@jupyter-widgets/controls",
      "model_module_version": "1.1.0",
      "model_name": "ProgressStyleModel",
      "state": {
       "description_width": ""
      }
     },
     "4996145559c24232bda40550868e00ab": {
      "model_module": "@jupyter-widgets/controls",
      "model_module_version": "1.1.0",
      "model_name": "HBoxModel",
      "state": {
       "children": [
        "IPY_MODEL_967151e38f5447e88956958afbb026f1",
        "IPY_MODEL_60e996636c1e44f498557d566bafd510"
       ],
       "layout": "IPY_MODEL_7ba90371d2b04c758afd2a9d08034f3b"
      }
     },
     "49cca7aeb2c64bf1b2207b52b929651e": {
      "model_module": "@jupyter-widgets/controls",
      "model_module_version": "1.1.0",
      "model_name": "DescriptionStyleModel",
      "state": {
       "description_width": "initial"
      }
     },
     "4a29a4ff0ed54b9c8b85a8ee97e7cdce": {
      "model_module": "@jupyter-widgets/base",
      "model_module_version": "1.0.0",
      "model_name": "LayoutModel",
      "state": {}
     },
     "4a45f114ac184198b7a3c3166a6b472d": {
      "model_module": "@jupyter-widgets/base",
      "model_module_version": "1.0.0",
      "model_name": "LayoutModel",
      "state": {}
     },
     "4a800c4edf894c2a9db20176853ca918": {
      "model_module": "@jupyter-widgets/base",
      "model_module_version": "1.0.0",
      "model_name": "LayoutModel",
      "state": {
       "width": "10%"
      }
     },
     "4a811abc7be64443a1c96f9d92071798": {
      "model_module": "@jupyter-widgets/base",
      "model_module_version": "1.0.0",
      "model_name": "LayoutModel",
      "state": {
       "width": "100%"
      }
     },
     "4ad2c53501d345b596e5856725517595": {
      "model_module": "@jupyter-widgets/controls",
      "model_module_version": "1.1.0",
      "model_name": "DescriptionStyleModel",
      "state": {
       "description_width": "initial"
      }
     },
     "4adf65e5ffa24ec78af26f0d76a8e7a4": {
      "model_module": "@jupyter-widgets/controls",
      "model_module_version": "1.1.0",
      "model_name": "ButtonStyleModel",
      "state": {}
     },
     "4b0da1cf75ce4a7cb620f88a345a4477": {
      "model_module": "@jupyter-widgets/controls",
      "model_module_version": "1.1.0",
      "model_name": "IntTextModel",
      "state": {
       "layout": "IPY_MODEL_649492f2c3a04985b051e1ca3c9a20d6",
       "step": 1,
       "style": "IPY_MODEL_d486742c46f84ff9a865c34d7e7308f4"
      }
     },
     "4b458d0426bd4963af2cc11d59017ce9": {
      "model_module": "@jupyter-widgets/controls",
      "model_module_version": "1.1.0",
      "model_name": "DescriptionStyleModel",
      "state": {
       "description_width": "initial"
      }
     },
     "4b7023220a324be8846f97fa2b05e121": {
      "model_module": "@jupyter-widgets/controls",
      "model_module_version": "1.1.0",
      "model_name": "SelectModel",
      "state": {
       "_options_labels": [
        "input1",
        "input2",
        "input3",
        "hidden1",
        "hidden2",
        "hidden1-2",
        "hidden2-2",
        "merge",
        "output1",
        "output2"
       ],
       "description": "Layer:",
       "index": 9,
       "layout": "IPY_MODEL_09e09363e63141449bdd5b255d1111d0",
       "rows": 1,
       "style": "IPY_MODEL_9b473c14071b4b41b9346cccb15d0a88"
      }
     },
     "4bf341abef7845068930eb9853ce8203": {
      "model_module": "@jupyter-widgets/controls",
      "model_module_version": "1.1.0",
      "model_name": "DescriptionStyleModel",
      "state": {
       "description_width": ""
      }
     },
     "4c138b7aaef84f0d9b061d7ba9dd7176": {
      "model_module": "@jupyter-widgets/controls",
      "model_module_version": "1.1.0",
      "model_name": "DescriptionStyleModel",
      "state": {
       "description_width": ""
      }
     },
     "4c53dd1dc3704a34944de010011b6e14": {
      "model_module": "@jupyter-widgets/base",
      "model_module_version": "1.0.0",
      "model_name": "LayoutModel",
      "state": {}
     },
     "4cd8ebc4800c48d0b5c357f647c9d664": {
      "model_module": "@jupyter-widgets/base",
      "model_module_version": "1.0.0",
      "model_name": "LayoutModel",
      "state": {}
     },
     "4d6fff4cb776472a90dbee278744ba8d": {
      "model_module": "@jupyter-widgets/controls",
      "model_module_version": "1.1.0",
      "model_name": "DescriptionStyleModel",
      "state": {
       "description_width": "initial"
      }
     },
     "4d968d962f24499c825db93ef24225d6": {
      "model_module": "@jupyter-widgets/controls",
      "model_module_version": "1.1.0",
      "model_name": "ButtonStyleModel",
      "state": {}
     },
     "4dcae9b5bae44cf7af95ec24f35e12d3": {
      "model_module": "@jupyter-widgets/base",
      "model_module_version": "1.0.0",
      "model_name": "LayoutModel",
      "state": {}
     },
     "4e473aba14d846428766002d495e46b2": {
      "model_module": "@jupyter-widgets/base",
      "model_module_version": "1.0.0",
      "model_name": "LayoutModel",
      "state": {}
     },
     "4e6ca74d3f304f1988b3e0f0effd0ad2": {
      "model_module": "@jupyter-widgets/base",
      "model_module_version": "1.0.0",
      "model_name": "LayoutModel",
      "state": {
       "width": "100%"
      }
     },
     "4e74c1c82ca34201a5208070f144300d": {
      "model_module": "@jupyter-widgets/controls",
      "model_module_version": "1.1.0",
      "model_name": "ButtonStyleModel",
      "state": {}
     },
     "4ec4d5fad6d24a11af60fc27ead34e14": {
      "model_module": "@jupyter-widgets/controls",
      "model_module_version": "1.1.0",
      "model_name": "FloatSliderModel",
      "state": {
       "continuous_update": false,
       "description": "Zoom",
       "layout": "IPY_MODEL_e52ef0c48ac443bb961c165b0755d1d8",
       "max": 1,
       "step": 0.1,
       "style": "IPY_MODEL_0936be0dd48c4e12b112dd10fa950fa4",
       "value": 0.5
      }
     },
     "4f2ceaeb9fc84f6b9114e69af4762443": {
      "model_module": "@jupyter-widgets/controls",
      "model_module_version": "1.1.0",
      "model_name": "DescriptionStyleModel",
      "state": {
       "description_width": "initial"
      }
     },
     "4f5f89a71ec241808a061f94f8d42892": {
      "model_module": "@jupyter-widgets/controls",
      "model_module_version": "1.1.0",
      "model_name": "HBoxModel",
      "state": {
       "children": [
        "IPY_MODEL_63a2b254550640ffa20b76ce9fa41879",
        "IPY_MODEL_1b703fa87a4a44dabb0d0eb33920c657"
       ],
       "layout": "IPY_MODEL_ebf6bfcfa19945759ccd2a04b45d1a5d"
      }
     },
     "4f634465c71545c49d88e8c3d14cb498": {
      "model_module": "@jupyter-widgets/controls",
      "model_module_version": "1.1.0",
      "model_name": "ButtonStyleModel",
      "state": {}
     },
     "4f88cee1e1114560b2338c85351c0b72": {
      "model_module": "@jupyter-widgets/controls",
      "model_module_version": "1.1.0",
      "model_name": "IntTextModel",
      "state": {
       "description": "Feature to show:",
       "layout": "IPY_MODEL_24020aaf11214205a24c04348e64751b",
       "step": 1,
       "style": "IPY_MODEL_5820692352324db284f4b702341ffe16"
      }
     },
     "4fac43195e7f4b37b5da9a9c7ed02a87": {
      "model_module": "@jupyter-widgets/base",
      "model_module_version": "1.0.0",
      "model_name": "LayoutModel",
      "state": {
       "width": "100%"
      }
     },
     "4fe0128d6d144495889dda07e16fb76b": {
      "model_module": "@jupyter-widgets/controls",
      "model_module_version": "1.1.0",
      "model_name": "DescriptionStyleModel",
      "state": {
       "description_width": ""
      }
     },
     "5008806ad671444ab9edec8fa10e823e": {
      "model_module": "@jupyter-widgets/base",
      "model_module_version": "1.0.0",
      "model_name": "LayoutModel",
      "state": {}
     },
     "50274b4d0e404c6d9563e8ee12e8576e": {
      "model_module": "@jupyter-widgets/controls",
      "model_module_version": "1.1.0",
      "model_name": "HBoxModel",
      "state": {
       "children": [
        "IPY_MODEL_8d7b944ec9e04f96a68a7f916a0fe737",
        "IPY_MODEL_3ef8ac2f2cad48d8b9289ab323f5e59e"
       ],
       "layout": "IPY_MODEL_67e50c55caa341d38294f2c40858c0f2"
      }
     },
     "50a71146c7dd49078e0974d394e6a5af": {
      "model_module": "@jupyter-widgets/controls",
      "model_module_version": "1.1.0",
      "model_name": "HBoxModel",
      "state": {
       "children": [
        "IPY_MODEL_cd6824e7ce1a44868c567ce8e5c600fc",
        "IPY_MODEL_e60253742345418ea527f136229b3e6b"
       ],
       "layout": "IPY_MODEL_88b216c0e5a64b00abac83443e4fa6ff"
      }
     },
     "50c56f28bbce48d7997e5f7b708889f4": {
      "model_module": "@jupyter-widgets/controls",
      "model_module_version": "1.1.0",
      "model_name": "ButtonStyleModel",
      "state": {}
     },
     "51063677d22e451faf0d6f446a452977": {
      "model_module": "@jupyter-widgets/controls",
      "model_module_version": "1.1.0",
      "model_name": "SelectModel",
      "state": {
       "_options_labels": [
        "input1",
        "input2",
        "flatten1",
        "flatten2",
        "hidden",
        "output"
       ],
       "description": "Layer:",
       "index": 5,
       "layout": "IPY_MODEL_9479843c32cd45e28641327d942543fa",
       "rows": 1,
       "style": "IPY_MODEL_d711445cc962493cad04eebddc562d54"
      }
     },
     "51c5dedd26da4fab84f79eac3aecd53e": {
      "model_module": "@jupyter-widgets/controls",
      "model_module_version": "1.1.0",
      "model_name": "ButtonStyleModel",
      "state": {}
     },
     "51e29544ba2f4e2dab4ca48ccab210f6": {
      "model_module": "@jupyter-widgets/controls",
      "model_module_version": "1.1.0",
      "model_name": "ButtonModel",
      "state": {
       "icon": "save",
       "layout": "IPY_MODEL_2c8c7c3cf95041f8aa2d760757eea9e4",
       "style": "IPY_MODEL_50c56f28bbce48d7997e5f7b708889f4"
      }
     },
     "51ede6d015dc41999e574edb15e08852": {
      "model_module": "@jupyter-widgets/controls",
      "model_module_version": "1.1.0",
      "model_name": "IntTextModel",
      "state": {
       "description": "Feature to show:",
       "layout": "IPY_MODEL_3fed35ebf8be483dbf8a6531b245d381",
       "step": 1,
       "style": "IPY_MODEL_8e4b3b979a2048eb8de6de72e03f9138"
      }
     },
     "51fd9f4707c446c4bcaad29257af7774": {
      "model_module": "@jupyter-widgets/controls",
      "model_module_version": "1.1.0",
      "model_name": "IntTextModel",
      "state": {
       "layout": "IPY_MODEL_428edc9c0bdf4582a53311906b8a656f",
       "step": 1,
       "style": "IPY_MODEL_35fad293ac81478291023f62eb9cb76b"
      }
     },
     "52139fcc6de746e2b84262d273f73780": {
      "model_module": "@jupyter-widgets/controls",
      "model_module_version": "1.1.0",
      "model_name": "ButtonStyleModel",
      "state": {}
     },
     "521a5d8b7e6f410fb8e5494f2a76e264": {
      "model_module": "@jupyter-widgets/controls",
      "model_module_version": "1.1.0",
      "model_name": "ButtonStyleModel",
      "state": {}
     },
     "52bc9829d46c4f6ca79aa1c96953366a": {
      "model_module": "@jupyter-widgets/base",
      "model_module_version": "1.0.0",
      "model_name": "LayoutModel",
      "state": {
       "width": "100%"
      }
     },
     "52e4ce85144b4c4ca6221de0e3162264": {
      "model_module": "@jupyter-widgets/controls",
      "model_module_version": "1.1.0",
      "model_name": "CheckboxModel",
      "state": {
       "description": "Errors",
       "disabled": false,
       "layout": "IPY_MODEL_a6b32a40bfae4a20b096805f585b71be",
       "style": "IPY_MODEL_83268fc50a2347a88e316b678f90cc88",
       "value": false
      }
     },
     "52f4501a93dd41608c95a0cea6889b36": {
      "model_module": "@jupyter-widgets/base",
      "model_module_version": "1.0.0",
      "model_name": "LayoutModel",
      "state": {
       "width": "100%"
      }
     },
     "5306fe10c24b4564ad5d9555e0038dcd": {
      "model_module": "@jupyter-widgets/base",
      "model_module_version": "1.0.0",
      "model_name": "LayoutModel",
      "state": {}
     },
     "5318873c7e2b48099d9c559e4afe7250": {
      "model_module": "@jupyter-widgets/controls",
      "model_module_version": "1.1.0",
      "model_name": "HTMLModel",
      "state": {
       "layout": "IPY_MODEL_e48f18390def43ceaee745581b462cfb",
       "style": "IPY_MODEL_536149e875614f49925dd9f8b8f764af",
       "value": "<img src=\"data:image/gif;base64,R0lGODdhLAEZAIcAAPIBAY8AAK8AANAAAAIC8wAAbwAAsAAAkAAA0Pr2+vPn8wAAVkdH/7a2///X1yYm/2Zm/3h4/5aW/9fX//8VFf8mJv84OP9WVv9nZ/+Ghv+YmP+2thYW/zU1/1hY/4aG/6Wl/8jI//9GRv92dv+mpv/FxX8AAAAAAAAAAAAAAAAAAAAAAAAAAAAAAAAAAAAAAAAAAAAAAAAAAAAAAAAAAAAAAAAAAAAAAAAAAAAAAAAAAAAAAAAAAAAAAAAAAAAAAAAAAAAAAAAAAAAAAAAAAAAAAAAAAAAAAAAAAAAAAAAAAAAAAAAAAAAAAAAAAAAAAAAAAAAAAAAAAAAAAAAAAAAAAAAAAAAAAAAAAAAAAAAAAAAAAAAAAAAAAAAAAAAAAAAAAAAAAAAAAAAAAAAAAAAAAAAAAAAAAAAAAAAAAAAAAAAAAAAAAAAAAAAAAAAAAAAAAAAAAAAAAAAAAAAAAAAAAAAAAAAAAAAAAAAAAAAAAAAAAAAAAAAAAAAAAAAAAAAAAAAAAAAAAAAAAAAAAAAAAAAAAAAAAAAAAAAAAAAAAAAAAAAAAAAAAAAAAAAAAAAAAAAAAAAAAAAAAAAAAAAAAAAAAAAAAAAAAAAAAAAAAAAAAAAAAAAAAAAAAAAAAAAAAAAAAAAAAAAAAAAAAAAAAAAAAAAAAAAAAAAAAAAAAAAAAAAAAAAAAAAAAAAAAAAAAAAAAAAAAAAAAAAAAAAAAAAAAAAAAAAAAAAAAAAAAAAAAAAAAAAAAAAAAAAAAAAAAAAAAAAAAAAAAAAAAAAAAAAAAAAAAAAAAAAAAAAAAAAAAAAAAAAAAAAAAAAAAAAAAAAAAAAAAAAAAAAAAAAAAAAAAAAAAAAAAAAAAAAAAAAAAAAAAAAAAAAAAAAAAAAAAAAAAAAAAAAAAAAAAAAAAAAAAAAAAAAAAAAAAAAAAAAAAAAAAAAAAAAAAAAAAAAAAAAAAAAAAAAAAAAAAAAAAAAAAAAAAAAAAAAAAAAAAAAAAAAAAAAAAAAAAAAAACwAAAAALAEZAEAI/wBNBBhIsKDBggISKlzIcOGAhxAjSowIoKLFixgzAqDAkWOFjx8tiBQpoqSICyhRYli5coTLERlixtRAkyaJmyQ26NRZomcJB0CDKhiqIIHRo0gVKFUwoWnTEFBDNJhKFYRVEBKyZv3A9UOEr18hiBXroawHBmjTdljb4YFbtxziciBAt67du3UR6N3Ld6+Bv4ADBz5AuLDhwgUSK168eIHjxwtMBJhMubLlygIya97MefOAz6BDiw4NoLTp06hTA6DAmnWF168tyJYtoraIC7hxY9i9e4TvERmCB9dAnDiJ4yQ2KFdeonkJB9CjK5iuIIH169gVaFcwoXv3EOBDNP8YTx6EeRAS0qf/wP5DhPfvIciX76G+Bwb483fY3+GBf4APHnAgyIHAQYQJFSJE0NDhQ4cGJE6kSPHARYwZMRbg2NGjxwUhRS4wEcDkSZQpUQpg2dLlS5cDZM6kWZMmAJw5de7kCYDCz58VhAq1ULSoCKQiLixdisGp0xFRR2SgSlXD1asktJLY0LVrCbAlHIwlq8CsggRp1a5V0FbBBLhwQ8wN0cDuXRB5QUjgy/fD3w8RBAuGULiwB8QeGCxm3MFxhweRI3OgzIHAZcyZNWNG0NnzZ88GRI8mTfrAadSpURdg3dq16wWxZS8wEcD2bdy5cQvg3dv3b98DhA8nXpz/OADkyZUvZw6AwvPnFaRLt1C9ugjsIi5s347Bu/cR4UdkIE9ew/nzJNST2NC+fQn4JRzMp6/AvoIE+fXvV9BfAcAJAgWGKBiiAcKEIBaCkODQ4YeIHyJQpAjh4kUPGj0w6OixA8gOD0aO5GCSA4GUKleyVIngJcyYMA3QrGnT5oGcOnfqLODzJ1CgC4YSXWAiANKkSpcqFeD0KdSoUAdQrWr1qlUAWrdy7eoVAIWwYSuQJWvh7FkRakVcaNsWA1y4I+aOyGDXroa8eUnwJbHh798Sgks4KGxYAWIFCRYzbqzgsYIJkiWHqByiAebMIDaDkODZ84fQHyKQJg3h9GkP/6o9MGjtugPsDg9mz+ZgmwOB3Lp389aN4Dfw4MANEC9u3PiB5MqXKy/g/Dl06AumU19gIgD27Nq3axfg/Tv48OAHkC9v/rx5AOrXs2/vHgCF+PEr0Kdv4f59EfpFXOjfHyAGgQJHFByRASFCDQsXknBIYkPEiCUolnBwEaMCjQoSdPT4UUFIBRNIkgxxMkQDlStBtAQhASbMDzM/RLBpE0LOnB54emDwE2gHoR0eFC3KASkHAkuZNnXKFEFUqVOlGrB6FSvWA1u5duVaAGxYsWIXlDW7wEQAtWvZtmUrAG5cuXPlDrB7F29evAD49vX7FzAACoMHVzBs2ELixCIYi/+48PgxBsmSR1QekQEzZg2bN5PwTGJD6NAlSJdwcBq1AtUKErR2/VpBbAUTaNMOcTtEA927QfQGIQE48A/DP0QwbhxC8uQemHtg8Bx6B+kdHlSvzgE7BwLbuXf3zh1BePHjxRswfx49+gPr2bdnXwB+fPnyF9S3v8BEAP37+ffnD1CAwIEECxIcgDChwoUKATh8CDGiRAAUKlasgBGjhY0bRXgUcSFkSAwkSY44OSKDSpUaWrYkAZPEhpkzS9gs4SCnTgU8FST4CTSogqEKJhg1GiJpiAZMm4J4CkKCVKkfqn6IgBUrhK1bPXj1wCCs2A5kOzw4e5aDWg4E2rp9C9f/LYK5dOvSNYA3r169B/r6/eu3gODBhAkvOIx4gYkAjBs7fuxYgOTJlCtTHoA5s+bNmgF4/gw6tGgAFEqXroAatYXVq0W4FnEhdmwMtGmPuD0ig27dGnr3JgGcxIbhw0sYL+EguXIFzBUkeA49uoLpCiZYtx4ie4gG3LuD+A5CgnjxH8p/iIAePYT16z2498AgvvwO9Ds8uH+fg34OBPr7B0hA4ECCAhEcRJgQoQGGDR06PBBR4kSJBSxexIhxwUaOC0wEABlS5EiRAkyeRJkS5QCWLV2+dAlA5kyaNW0CoJAzZwWePC38/ClCqIgLRYtiQIp0xNIRGZw61RA1Kgmq/yQ2XL1aQmsJB129KgCrIMFYsmUVnFUwQa3aEG1DNIAbF8RcEBLs2v2Q90MEvnwh/P3rQbAHBoUNd0Dc4cHixRwccyAQWfJkypIRXMacGbMBzp09ez4QWvRo0QVMn0aNesFq1gtMBIAdW/Zs2QJs38adG/cA3r19//YNQPhw4sWNA6CQPHkF5swtPH8uQrqIC9WrY8COfcT2ERm8e9cQPjwJ8iQ2nD9fQn0JB+3dK4CvIMF8+vUV3FcwQb/+EP1DAGwgcCCIgiAkIET4YeGHCA4dQogY0QNFDwwuYuygscODjh05gORAYCTJkiZJIkipcqVKAy5fwoR5YCbNmjQL4P/MqVPngp4+F5gIIHQo0aJEBSBNqnSp0gFOn0KNChUA1apWr2IFQGHr1gpevVoIG1YEWREXzp7FoFbtiLYjMsCFq2HuXBJ2SWzIm7cE3xIO/gJWIFhBgsKGDytIrGACY8YhHodoIHkyiMogJGDG/GHzhwiePUMIHdoDaQ8MTqPuoLrDg9atOcDmQGA27dq2aSPIrXu3bgO+fwMHfmA48eLECyBPrlz5gubOF5gIIH069erUBWDPrn279gHev4MPDx4A+fLmz6MHQGH9+gru3VuIH18EfREX7t/HoF//iP4jAGYQKFBDwYIkEJLYsHBhCYclHESUqICiggQXMWZUsFH/wQSPHkOEDNGAZEkQJ0FIUKnyQ8sPEWDChDBzpgebHhjk1NmBZ4cHP39yEMqBQFGjR5EaRbCUaVOmBqBGlSr1QFWrV60W0LqVK9cFX8EuMBGAbFmzZ80KULuWbVu2A+DGlTtXLgC7d/Hm1QuAQt++FQADtjB4sAjDIi4kToyBMeMRj0dkkCxZQ+XKJDCT2LB5cwnPJRyEFq2AtIIEp1GnVrBawQTXrkPEDtGAdm0Qt0FI0K37Q+8PEYADhzB8uAfjHhgkV96BeYcHz59zkM6BQHXr17FbR7Cde3fuBsCHFy/+QHnz580XUL+ePfsF7+EvMBGAfn379+0L0L+ff3/+/wAHCBxIsCBBAAgTKlzIEACFhw8rSJRooWJFERhFXNi4EYNHjyNCjshAkqSGkydJqCSxoWXLEjBLOJhJU4FNBQly6typoKeCCUCBhhgaooHRoyCSgpDAlOmHpx8iSJUKoWpVD1g9MNjKtYPXDg/ChuVAlgOBs2jTqkWLoK3bt24NyJ1Ll+6Bu3jz4i3At69fvwsCC15gIoDhw4gTIxbAuLHjx44HSJ5MuTJlAJgza97MGQCFz58riBZtoXRpEahFXFi9GoNr1yNij8hAm7aG27dJ6CaxoXfvEsBLOBhOXIFxBQmSK1+uoLmCCdChh5geooH16yCyg5DAnfuH7x8iiP8XD6F8eQ/oPTBYz76D+w4P4sfnQJ8Dgfv48+vHj6C/f4AIBA5EYMDgQYQIDyxk2JBhAYgRJUpcUNHiAhMBNG7k2JGjAJAhRY4UOcDkSZQpUQJg2dLlS5gAKMycWcGmTQs5c4rgKeLCz58YhAodUXREBqRINSxdSsIpiQ1Ro5agWsLBVawKtCpI0NXrVwVhFUwgSzbE2RAN1K4F0RaEBLhwP8z9EMGuXQh583rg64HBX8AdBHd4ULgwB8QcCCxm3NgxYwSRJU+WbMDyZcyYD2zm3JlzAdChRYteUNr0AhMBVK9m3Zq1ANixZc+WPcD2bdy5cQPg3dv3b+AAKAwfXsH/uHELyZOLYC7iwvPnGKRLH1F9RAbs2DVs307CO4kN4cOXIF/CwXn0CtQrSNDe/XsF8RVMoE8/xP0QDfTvB9EfBEAJAgV+KPghAkKEEBYu9ODQA4OIEjtQ7PDg4kUOGjkQ6OjxI0iPCEaSLEnSAMqUKlUeaOnypcsCMmfSpLngJs4FJgLw7Onzp08BQocSLUp0ANKkSpcqBeD0KdSoUgFQqFq1AlasFrZuFeFVxIWwYTGQJTvi7IgMatVqaNuWBFwSG+bOLWG3hIO8ehXwVZDgL+DACgYrmGDYcIjEIRowbgziMQgJkiV/qPwhAmbMEDZv9uDZA4PQojuQ7vDg9GkO/6o5EGjt+jVs1whm065N2wDu3Lp1H+jt+7fvAsKHEye+4DjyBSYCMG/u/LlzAdKnU69OfQD27Nq3awfg/Tv48OIBUChfvgJ69BbWrxfhXsSF+PEx0Kc/4v6IDPr1a+jfHyAJgSQ2FCxYAmEJBwsZKnCoIEFEiRMVVFQwASPGEBtDNPD4EURIEBJIkvxw8kMElSohtGzpAaYHBjNpdrDZ4UHOnBx4ciDwE2hQoUARFDV61KgBpUuZMj3wFGpUqAWoVrVqdUFWrQtMBPD6FWxYsALIljV71uwAtWvZtmULAG5cuXPpAqBw924FvXot9O0rArCIC4MHYzBseETiERkYM//W8PgxCckkNlSuXAJzCQebOSvwrCBBaNGjFZRWMAE16hCrQzRw/RpEbBASaNP+cPtDBN26IfTu7QG4BwbDiXcw3uFB8uQcmHMg8Bx6dOnQEVS3ft26Ae3buXM/8B18ePAFyJc3b35BevULTARw/x5+fPgC6Ne3f9/+AP37+ffnDxCAwIEECxoEQCFhwgoMGVp4+FCERBEXKlbEgBHjiI0jMnj0qCFkSBIkSWw4ebKEyhIOWrpUAFNBgpk0ayq4qWCCTp0heoZoADQoiKEgJBg1+iHphwhMmUJ4+tSDVA8MqlrtgLXDg61bOXjlQCCs2LFkxSI4izYtWgNs27p1eyD/rty5cgvYvYsX74K9fBeYCAA4sODBggUYPow4MeIBjBs7fuwYgOTJlCtbBkAhc+YKnDlb+PxZhGgRF0qXxoAa9YjVIzK4dq0hdmwStElsuH27hO4SDnr7VgBcQYLhxIsrOK5ggnLlIZqHaAA9OojpICRYt/4h+4cI3LlD+P7dg3gPDMqb74C+w4P16zm450Agvvz59OUjuI8/P34D/Pv7B2hAoIEDBQ0eNFhA4UKGDBc8hLjARACKFS1etChA40aOHTkOABlS5EiRAEyeRJlSJQAKLVtWgAnTwsyZImyKuJAzJwaePEf8HJFBqFANRYuSQEpiw9KlJZyWcBBVqgKq+woSXMWaVcFWBRO8eg0RNkQDsmVBnAUhQa3aD20/RIALF8LcuR7semCQV28Hvh0e/P3LQTAHAoUNH0ZsGMFixo0ZG4AcWbLkA5UtX7ZcQPNmzpwXfAa9wEQA0qVNnzYtQPVq1q1ZD4AdW/Zs2QBs38adWzcACr17VwAO3MLw4SKMi7iQPDkG5sxHPB+RQbp0DdWrk8BOYsP27SW8l3AQXrwC8goSnEefXsF6BRPcuw8RP0QD+vVB3AchQb/+D/0/AIwgUCCEggU9IPTAYCHDDg47PIgYkQNFDgQuYsyoESOCjh4/ejQgciRJkgdOokyJsgDLli5dLogpc0FAADs=\"/>"
      }
     },
     "53450dc7d450499f8ff5b0c0133d22bb": {
      "model_module": "@jupyter-widgets/controls",
      "model_module_version": "1.1.0",
      "model_name": "FloatTextModel",
      "state": {
       "description": "Leftmost color maps to:",
       "layout": "IPY_MODEL_34b8e946c8884dddbc4f4a31e29b3429",
       "step": null,
       "style": "IPY_MODEL_d7cab8b9aa13488e819a830b8dcc5481"
      }
     },
     "536149e875614f49925dd9f8b8f764af": {
      "model_module": "@jupyter-widgets/controls",
      "model_module_version": "1.1.0",
      "model_name": "DescriptionStyleModel",
      "state": {
       "description_width": ""
      }
     },
     "53694f49b1b84528b9aecfa61e24c56d": {
      "model_module": "@jupyter-widgets/controls",
      "model_module_version": "1.1.0",
      "model_name": "CheckboxModel",
      "state": {
       "description": "Rotate network",
       "disabled": false,
       "layout": "IPY_MODEL_f99e61afe129439190a0097dc7ff54db",
       "style": "IPY_MODEL_c3463765d8c44085bf459b3400b1818b",
       "value": false
      }
     },
     "53a51ad5584c4d45b203c97ca6e58ec7": {
      "model_module": "@jupyter-widgets/controls",
      "model_module_version": "1.1.0",
      "model_name": "DescriptionStyleModel",
      "state": {
       "description_width": "initial"
      }
     },
     "542fcd8a95cf4a3c9ec3bba6949a161a": {
      "model_module": "@jupyter-widgets/controls",
      "model_module_version": "1.1.0",
      "model_name": "ButtonModel",
      "state": {
       "description": "Play",
       "icon": "play",
       "layout": "IPY_MODEL_ec4b3e91411342bab8c56c6512f79350",
       "style": "IPY_MODEL_9448ca6f8d024314b1555f0eed7b2fc2"
      }
     },
     "54628e0d13844a0fafc1af423e7ba29a": {
      "model_module": "@jupyter-widgets/base",
      "model_module_version": "1.0.0",
      "model_name": "LayoutModel",
      "state": {
       "width": "100%"
      }
     },
     "546952738c954397bd0d4c943c7c5104": {
      "model_module": "@jupyter-widgets/base",
      "model_module_version": "1.0.0",
      "model_name": "LayoutModel",
      "state": {}
     },
     "547c4903079f40c5b952db9374cfa875": {
      "model_module": "@jupyter-widgets/controls",
      "model_module_version": "1.1.0",
      "model_name": "DescriptionStyleModel",
      "state": {
       "description_width": "initial"
      }
     },
     "54ae9574c0a14e5ea76ca48cccaafa46": {
      "model_module": "@jupyter-widgets/controls",
      "model_module_version": "1.1.0",
      "model_name": "IntTextModel",
      "state": {
       "description": "Vertical space between layers:",
       "layout": "IPY_MODEL_eecf988714ef45b6b02b96cebcb84acb",
       "step": 1,
       "style": "IPY_MODEL_c99511c70def4d9f98038bf1b429689e",
       "value": 30
      }
     },
     "555814483fa440bcb458d58b55a0a917": {
      "model_module": "@jupyter-widgets/base",
      "model_module_version": "1.0.0",
      "model_name": "LayoutModel",
      "state": {
       "height": "50px",
       "width": "100%"
      }
     },
     "55a756705ba3434bb0e565e967834c24": {
      "model_module": "@jupyter-widgets/base",
      "model_module_version": "1.0.0",
      "model_name": "LayoutModel",
      "state": {
       "width": "100px"
      }
     },
     "55ad8fb3d8cd4328b786884d0c0f5345": {
      "model_module": "@jupyter-widgets/base",
      "model_module_version": "1.0.0",
      "model_name": "LayoutModel",
      "state": {
       "width": "100%"
      }
     },
     "55e08122471e4639bb9cff00654eeeae": {
      "model_module": "@jupyter-widgets/controls",
      "model_module_version": "1.1.0",
      "model_name": "SliderStyleModel",
      "state": {
       "description_width": ""
      }
     },
     "55efa452846841fe87906da1d6a5700d": {
      "model_module": "@jupyter-widgets/controls",
      "model_module_version": "1.1.0",
      "model_name": "DescriptionStyleModel",
      "state": {
       "description_width": "initial"
      }
     },
     "5626d16a441745eba40dbbf85f1cff13": {
      "model_module": "@jupyter-widgets/controls",
      "model_module_version": "1.1.0",
      "model_name": "ButtonStyleModel",
      "state": {}
     },
     "5634b46af51b40d5af1a07bc675006f7": {
      "model_module": "@jupyter-widgets/controls",
      "model_module_version": "1.1.0",
      "model_name": "DescriptionStyleModel",
      "state": {
       "description_width": ""
      }
     },
     "565dd0f61d2a44dda04a3ae67fce9fea": {
      "model_module": "@jupyter-widgets/controls",
      "model_module_version": "1.1.0",
      "model_name": "AccordionModel",
      "state": {
       "_titles": {
        "0": "Finger Math"
       },
       "children": [
        "IPY_MODEL_19fc0eb2b05042de9eb5c3f4228e33b7"
       ],
       "layout": "IPY_MODEL_5bd680eb49374ffbb8994eaf630f62d0",
       "selected_index": null
      }
     },
     "56923184d70641e39cb74fb78bbd51c5": {
      "model_module": "@jupyter-widgets/controls",
      "model_module_version": "1.1.0",
      "model_name": "DescriptionStyleModel",
      "state": {
       "description_width": ""
      }
     },
     "56b729faa07940a3bdaba03b0fc58b11": {
      "model_module": "@jupyter-widgets/base",
      "model_module_version": "1.0.0",
      "model_name": "LayoutModel",
      "state": {}
     },
     "56b972f3994248b6aa4809b93775b5b8": {
      "model_module": "@jupyter-widgets/base",
      "model_module_version": "1.0.0",
      "model_name": "LayoutModel",
      "state": {}
     },
     "572829b6cc4345a9a1488a744b25400c": {
      "model_module": "@jupyter-widgets/controls",
      "model_module_version": "1.1.0",
      "model_name": "ButtonModel",
      "state": {
       "icon": "save",
       "layout": "IPY_MODEL_40ff50360cb7433f936d82bc501f9ee2",
       "style": "IPY_MODEL_048dc2c132ca4dcb9972fbc0efb3e8d6"
      }
     },
     "573ac05c8cb145b5914ef3c5dcca18b3": {
      "model_module": "@jupyter-widgets/controls",
      "model_module_version": "1.1.0",
      "model_name": "IntTextModel",
      "state": {
       "description": "Feature columns:",
       "layout": "IPY_MODEL_dec466b259244dba838d7d2bc2db2005",
       "step": 1,
       "style": "IPY_MODEL_d5356ceda9db436481a06f7b1cc03785",
       "value": 3
      }
     },
     "5756db0bc54a4e7e838c87798b93278d": {
      "model_module": "@jupyter-widgets/controls",
      "model_module_version": "1.1.0",
      "model_name": "IntTextModel",
      "state": {
       "description": "Horizontal space between banks:",
       "layout": "IPY_MODEL_7e14b30f05d74e0a8267466e6bfb2f45",
       "step": 1,
       "style": "IPY_MODEL_667a6a63773449e39c591c0bf661fae9",
       "value": 300
      }
     },
     "576e0e33dbb940fb9a3a932ae995b549": {
      "model_module": "@jupyter-widgets/controls",
      "model_module_version": "1.1.0",
      "model_name": "DescriptionStyleModel",
      "state": {
       "description_width": "initial"
      }
     },
     "5793861a4af74f87bf84feb4b34bbf05": {
      "model_module": "@jupyter-widgets/controls",
      "model_module_version": "1.1.0",
      "model_name": "HTMLModel",
      "state": {
       "layout": "IPY_MODEL_64bf41c9040b4e68b4a2f418b74d1c96",
       "style": "IPY_MODEL_70c78d86c7f04b3db6914f50197d22a9",
       "value": "<img src=\"data:image/gif;base64,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\"/>"
      }
     },
     "57974cc2d6604e0cae21a3f57d9fb86d": {
      "model_module": "@jupyter-widgets/controls",
      "model_module_version": "1.1.0",
      "model_name": "FloatTextModel",
      "state": {
       "description": "Feature scale:",
       "layout": "IPY_MODEL_9e63fa36ef5749bab2e2ba441e92b517",
       "step": null,
       "style": "IPY_MODEL_6fbe4f812e494d73a1e1692f472bb300",
       "value": 1
      }
     },
     "57bab7aa3be24db99c47eea2c432fc86": {
      "model_module": "@jupyter-widgets/base",
      "model_module_version": "1.0.0",
      "model_name": "LayoutModel",
      "state": {
       "width": "100%"
      }
     },
     "5820692352324db284f4b702341ffe16": {
      "model_module": "@jupyter-widgets/controls",
      "model_module_version": "1.1.0",
      "model_name": "DescriptionStyleModel",
      "state": {
       "description_width": "initial"
      }
     },
     "5841d4b9d9954cb2812becedea12f2a9": {
      "model_module": "@jupyter-widgets/controls",
      "model_module_version": "1.1.0",
      "model_name": "ButtonStyleModel",
      "state": {}
     },
     "5893196c9cb94d969c9fd9b8da469d81": {
      "model_module": "@jupyter-widgets/controls",
      "model_module_version": "1.1.0",
      "model_name": "CheckboxModel",
      "state": {
       "description": "Rotate",
       "disabled": false,
       "layout": "IPY_MODEL_eecf988714ef45b6b02b96cebcb84acb",
       "style": "IPY_MODEL_b7f10b7f0ffc467dbd0c89d10c5534ff",
       "value": true
      }
     },
     "58c7b5aa7ab640eb815d11a49a47b7f3": {
      "model_module": "@jupyter-widgets/controls",
      "model_module_version": "1.1.0",
      "model_name": "HTMLModel",
      "state": {
       "layout": "IPY_MODEL_a74fb8a92b4d40769c4cdb0b8f5eaab2",
       "style": "IPY_MODEL_a3de9eb9fc4249d5a6666a19c62ef851",
       "value": "<img src=\"data:image/gif;base64,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\"/>"
      }
     },
     "58cde8430ba94fc48417189e64006b1c": {
      "model_module": "@jupyter-widgets/controls",
      "model_module_version": "1.1.0",
      "model_name": "VBoxModel",
      "state": {
       "children": [
        "IPY_MODEL_ade1a98ab53244c5bd5a01f907961f47",
        "IPY_MODEL_611b891917f046a59f673eded9d51c10",
        "IPY_MODEL_5c469a88757046caa7b1d2e71106499e",
        "IPY_MODEL_58c7b5aa7ab640eb815d11a49a47b7f3",
        "IPY_MODEL_8f9cac418fb541a8a95a4eab14f55835",
        "IPY_MODEL_8daeb0444e84454494ea3df92ae88502",
        "IPY_MODEL_14461f5dcbab48219fd0b4ef14499169",
        "IPY_MODEL_7baacc8c751544ba9bb5725cd673c7b7"
       ],
       "layout": "IPY_MODEL_d1d2871ecc0545fe8c938c0cbd0b6946"
      }
     },
     "58e58efe7b9d43a396aeff78e3dc11e4": {
      "model_module": "@jupyter-widgets/controls",
      "model_module_version": "1.1.0",
      "model_name": "DescriptionStyleModel",
      "state": {
       "description_width": ""
      }
     },
     "5974c5f564dd424e869f4f6167832f5a": {
      "model_module": "@jupyter-widgets/base",
      "model_module_version": "1.0.0",
      "model_name": "LayoutModel",
      "state": {
       "width": "100%"
      }
     },
     "599784ae7976450ab425becfb3195cd7": {
      "model_module": "@jupyter-widgets/controls",
      "model_module_version": "1.1.0",
      "model_name": "DescriptionStyleModel",
      "state": {
       "description_width": ""
      }
     },
     "59d5cf4e32b24d93b48410c4235d77a6": {
      "model_module": "@jupyter-widgets/controls",
      "model_module_version": "1.1.0",
      "model_name": "FloatTextModel",
      "state": {
       "description": "Feature scale:",
       "layout": "IPY_MODEL_d399be12792a461b8ecd4b207a32e3c3",
       "step": null,
       "style": "IPY_MODEL_8ba2f423c72f41bca9907152ec5ce919",
       "value": 1
      }
     },
     "5a07695c603246f1b5e0c4eef4586116": {
      "model_module": "@jupyter-widgets/base",
      "model_module_version": "1.0.0",
      "model_name": "LayoutModel",
      "state": {
       "width": "10%"
      }
     },
     "5a07f16808114627a689d51ebe9f16c0": {
      "model_module": "@jupyter-widgets/controls",
      "model_module_version": "1.1.0",
      "model_name": "HTMLModel",
      "state": {
       "layout": "IPY_MODEL_7a6796475e794e3e9f37e65c313d8638",
       "style": "IPY_MODEL_83bbf3789d664b09a055cfe1e0e33500",
       "value": "<p style=\"text-align:center\"><svg id='Finger Math' xmlns='http://www.w3.org/2000/svg' image-rendering=\"pixelated\" width=\"640.0000000000001px\" height=\"352.00000000000006px\">\n <g >\n  <svg viewBox=\"0 0 1000 550\" width=\"640.0000000000001px\" height=\"352.00000000000006px\">\n    <defs>\n        <marker id=\"arrow\" markerWidth=\"10\" markerHeight=\"10\" refX=\"9\" refY=\"3\" orient=\"auto\" markerUnits=\"strokeWidth\">\n          <path d=\"M0,0 L0,6 L9,3 z\" fill=\"black\" />\n        </marker>\n    </defs><rect x=\"399.0\" y=\"24\" width=\"202\" height=\"52\" style=\"fill:none;stroke:black;stroke-width:2\"/><image id=\"picture-dashboard-Finger Math-256231_output_targets_25\" class=\"picture-dashboard-Finger Math-256231_output_targets\" x=\"400.0\" y=\"25\" height=\"50\" width=\"200\" preserveAspectRatio=\"none\" href=\"data:image/gif;base64,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\"><title>Layer: output (output)\n output range: (0, 1)\n shape = (11,)\n Keras class = Dense\n activation = softmax</title></image><text x=\"605.0\" y=\"52.0\" font-family=\"monospace\" font-size=\"12\" text-anchor=\"start\" fill=\"black\" alignment-baseline=\"central\" >targets</text><line x1=\"250.0\" y1=\"80\" x2=\"750.0\" y2=\"80\" stroke=\"green\" stroke-width=\"2\"><title></title></line><rect x=\"399.0\" y=\"84\" width=\"202\" height=\"52\" style=\"fill:none;stroke:black;stroke-width:2\"/><image id=\"picture-dashboard-Finger Math-256231_output_25\" class=\"picture-dashboard-Finger Math-256231_output\" x=\"400.0\" y=\"85\" height=\"50\" width=\"200\" preserveAspectRatio=\"none\" href=\"data:image/gif;base64,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\"><title>Layer: output (output)\n output range: (0, 1)\n shape = (11,)\n Keras class = Dense\n activation = softmax</title></image><text x=\"605.0\" y=\"112.0\" font-family=\"monospace\" font-size=\"12\" text-anchor=\"start\" fill=\"black\" alignment-baseline=\"central\" >output</text><line x1=\"500.0\" y1=\"164\" x2=\"500.0\" y2=\"137\" stroke=\"black\" stroke-width=\"2\" marker-end=\"url(#arrow)\"><title>Weights from hidden to output\n output_1/kernel:0 has shape (100, 11)\n output_1/bias:0 has shape (11,)</title></line><rect x=\"399.0\" y=\"164\" width=\"202\" height=\"52\" style=\"fill:none;stroke:black;stroke-width:2\"/><image id=\"picture-dashboard-Finger Math-256231_hidden_26\" class=\"picture-dashboard-Finger Math-256231_hidden\" x=\"400.0\" y=\"165\" height=\"50\" width=\"200\" preserveAspectRatio=\"none\" href=\"data:image/gif;base64,R0lGODdhZAABAIcAAH8AACkp/wAATIkAAIGB/5ub/7YAAKam/8fH/wAAhDg4/0VF/1VV/8MAAP9ISP9hYf+Vlf+5uQAAAAAAAAAAAAAAAAAAAAAAAAAAAAAAAAAAAAAAAAAAAAAAAAAAAAAAAAAAAAAAAAAAAAAAAAAAAAAAAAAAAAAAAAAAAAAAAAAAAAAAAAAAAAAAAAAAAAAAAAAAAAAAAAAAAAAAAAAAAAAAAAAAAAAAAAAAAAAAAAAAAAAAAAAAAAAAAAAAAAAAAAAAAAAAAAAAAAAAAAAAAAAAAAAAAAAAAAAAAAAAAAAAAAAAAAAAAAAAAAAAAAAAAAAAAAAAAAAAAAAAAAAAAAAAAAAAAAAAAAAAAAAAAAAAAAAAAAAAAAAAAAAAAAAAAAAAAAAAAAAAAAAAAAAAAAAAAAAAAAAAAAAAAAAAAAAAAAAAAAAAAAAAAAAAAAAAAAAAAAAAAAAAAAAAAAAAAAAAAAAAAAAAAAAAAAAAAAAAAAAAAAAAAAAAAAAAAAAAAAAAAAAAAAAAAAAAAAAAAAAAAAAAAAAAAAAAAAAAAAAAAAAAAAAAAAAAAAAAAAAAAAAAAAAAAAAAAAAAAAAAAAAAAAAAAAAAAAAAAAAAAAAAAAAAAAAAAAAAAAAAAAAAAAAAAAAAAAAAAAAAAAAAAAAAAAAAAAAAAAAAAAAAAAAAAAAAAAAAAAAAAAAAAAAAAAAAAAAAAAAAAAAAAAAAAAAAAAAAAAAAAAAAAAAAAAAAAAAAAAAAAAAAAAAAAAAAAAAAAAAAAAAAAAAAAAAAAAAAAAAAAAAAAAAAAAAAAAAAAAAAAAAAAAAAAAAAAAAAAAAAAAAAAAAAAAAAAAAAAAAAAAAAAAAAAAAAAAAAAAAAAAAAAAAAAAAAAAAAAAAAAAAAAAAAAAAAAAAAAAAAAAAAAAAAAAAAAAAAAAAAAAAAAAAAAAAAAAAAAAAAAAAAAAAAAAAAAAAAAAAAAAAAAAAAAAAAAAAAAAAAAAAAAAAAAAAAAAAAAAAAAAAAAAAAACwAAAAAZAABAAAIXAABACAAoKCCAA0AADAAoCGABQAABAAAgACAixchANgIYAAAAAUAiEQAAMABAAcCABgAoKVLAA4EAIgAIACAAgBy5mQAoKcAAA8ACB2aAIDRowAEAFjKFIABBAEBADs=\"><title>Layer: hidden (hidden)\n output range: (0, +Infinity)\n shape = (100,)\n Keras class = Dense\n activation = relu</title></image><text x=\"605.0\" y=\"192.0\" font-family=\"monospace\" font-size=\"12\" text-anchor=\"start\" fill=\"black\" alignment-baseline=\"central\" >hidden</text><line x1=\"333.3333333333333\" y1=\"244\" x2=\"500.0\" y2=\"217\" stroke=\"black\" stroke-width=\"2\" marker-end=\"url(#arrow)\"><title>Weights from flatten1 to hidden\n hidden_1/kernel:0 has shape (7200, 100)\n hidden_1/bias:0 has shape (100,)</title></line><rect x=\"232.33333333333331\" y=\"244\" width=\"202\" height=\"52\" style=\"fill:none;stroke:black;stroke-width:2\"/><image id=\"picture-dashboard-Finger Math-256231_flatten1_27\" class=\"picture-dashboard-Finger Math-256231_flatten1\" x=\"233.33333333333331\" y=\"245\" height=\"50\" width=\"200\" preserveAspectRatio=\"none\" href=\"data:image/gif;base64,R0lGODdhEA4BAIcAALe3t8bGxqioqNbW1piYmIiIiDc3N0dHRycnJ1hYWGdnZxgYGHd3dwwMDOHh4QAAAAAAAAAAAAAAAAAAAAAAAAAAAAAAAAAAAAAAAAAAAAAAAAAAAAAAAAAAAAAAAAAAAAAAAAAAAAAAAAAAAAAAAAAAAAAAAAAAAAAAAAAAAAAAAAAAAAAAAAAAAAAAAAAAAAAAAAAAAAAAAAAAAAAAAAAAAAAAAAAAAAAAAAAAAAAAAAAAAAAAAAAAAAAAAAAAAAAAAAAAAAAAAAAAAAAAAAAAAAAAAAAAAAAAAAAAAAAAAAAAAAAAAAAAAAAAAAAAAAAAAAAAAAAAAAAAAAAAAAAAAAAAAAAAAAAAAAAAAAAAAAAAAAAAAAAAAAAAAAAAAAAAAAAAAAAAAAAAAAAAAAAAAAAAAAAAAAAAAAAAAAAAAAAAAAAAAAAAAAAAAAAAAAAAAAAAAAAAAAAAAAAAAAAAAAAAAAAAAAAAAAAAAAAAAAAAAAAAAAAAAAAAAAAAAAAAAAAAAAAAAAAAAAAAAAAAAAAAAAAAAAAAAAAAAAAAAAAAAAAAAAAAAAAAAAAAAAAAAAAAAAAAAAAAAAAAAAAAAAAAAAAAAAAAAAAAAAAAAAAAAAAAAAAAAAAAAAAAAAAAAAAAAAAAAAAAAAAAAAAAAAAAAAAAAAAAAAAAAAAAAAAAAAAAAAAAAAAAAAAAAAAAAAAAAAAAAAAAAAAAAAAAAAAAAAAAAAAAAAAAAAAAAAAAAAAAAAAAAAAAAAAAAAAAAAAAAAAAAAAAAAAAAAAAAAAAAAAAAAAAAAAAAAAAAAAAAAAAAAAAAAAAAAAAAAAAAAAAAAAAAAAAAAAAAAAAAAAAAAAAAAAAAAAAAAAAAAAAAAAAAAAAAAAAAAAAAAAAAAAAAAAAAAAAAAAAAAAAAAAAAAAAAAAAAAAAAAAAAAAAAAAAAAAAAAAAAAAAAAAAAAAAAAAAAAAAAAAAAAAAAAAAAAAAAAAAAAAAAAAAAAAAAAAAAAAAAAAAAAAAACwAAAAAEA4BAAAI/wAHBAAQIICAAAAEAAAgAAAAAQAACAAQQACAAAAABAAQIACAAAEABBgAIMAAAAEGBAgwIMCAAQEGDAgwYECAAQMCDBgQYMCAAAMGBBgwIMCAAQEGDAgwYECAAAMCBBgQIMCAAAEGBAgwAECAAAACBAAQIACAAAEABAgAIIDbAQEADAgAIIAAAgMAAAgQQEAAAAIAABAAIIAAAAEEAAgAAEAAAAECAAgQAECAAQACDAgQYECAAAMCBBgQYMCAAAMGBBgwIMAABwMGOBgwwMGAAQ4G6N69O8CAAQEGDAgQYECAAAMCBBgQIMCAAAEGAAgwAECAAAACBAAQIACAAAEABP8YPyAAAAACBAQAACAAAAABAMgPIABAAAAAAgAAEABAAIABAAQIACDAAAABBgQIMCBAgAEBAgwIEGBAgAADAgQYECDAgAEBBgQIMMDkSZMBBqxkOSBAgAEBAgwIEGBAgAADAgQYECDAgAABBgQIMABAAKRJkQIIEABAAKhQAQAQICAAAAEAAAgAAEAAgAACAAQQACAAAAABAAQIACDAAAABBgQIMCBAgAEBAgwIEGBAgAADAgQYECDAgAABBgwIMGBAgAEDAgwIEGBAgAADBgQYMCDAgAABBgQIMCBAgAEBAgwIEGBAgAADAgQYECDAgAABBgAIEABAAODBgQMIEAD/AAABAgAAEAAAgAAA0aUDCAAAQAAAAQIACBAAQIABAAIMCBBgQIAAAwIEGBAgwIAAAQYECDAgQIABAQIMCBBgAMABAQYECDAgQIABAQIMCBBgQIAAAwIEGBAgwIABAQYECDAgQIABAQIMCBBgQIAAAwIEGBDgJcyYMgEAEEAAAAABAAAIAABAAIAAAgAEAAAgAIAAAQAEaBpgQIAAAwIEGBAgwIAAAQYECDAgQIABAQIMCBBgQIAAAwIEGBAgwIAAAQYECDBgQIABAwIMCBBgQIAAAwIEGBAgwIAAAQYECDAgQIABAQIMCBBgQIAAAwJw7uyZM4AAAQAIKA0AgAAA/wAEAAAgAEAAAAACCAgQAECAAAACDAgQYECAAAMCBBgQIMCAAAEGBAgwIECAAQECDAgQYECAAAMCBBgQIMCAAAAGBAgAoMCAAQICDAgQYECAAAMCBBgQIMCAAAEGBAgwAGCAAAMCBBgQIMCAAAEGBHD4EKJDAAEAABAggAAAAAIAABAAACSAAAAABAAQIACAAAEABBgAIMCAAAEGBAgwIECAAQECDAgAYEAAAAMCABgQAMCAAAAGBAAwIACAAQEABAAgQIGBAQQUBBgQAMCAAAEGBAgwIECAAQECDAgQYECAAAMCBBgQIMCAAAEGBPD79y+AAIMHAxBwGAAAAQAACP8A8BhAAAAAAgAAEABAgAAAAnQOMCBAgAEBAgwIAGBAAAADAAQIQGBAAAEABgQAMCAAgAEBAAwIAGBAAAADABBQcECAAgQBABQAMCAAgAEBAAwIEGBAgAADAgQYECDAgAABBgQIMCBAgAEB2AMI8B5+/AAABNQHAEAAAAACAPQHADAAAAABAAAIACBAAAABBgAIMCBAgAEBAAwAAGBAAAAABAhQgCBAgQMDAhAAMCAAgAEBAAwAAGAAAAADAhAooKDAgQUACCQAMAAAgAEBAAwIAGBAAAADAgQYECDAgAABBgQIMCBAgAEBunr9CiAAgLEABJgFAEAAAAACALgFEAD/AIAAAAAEAAAgAIAAAwIEGBAgwIAAAAYAADAgAIAAAAooMMDAAAIACgwEEMAAwIAAAAIAABAAAIABAQgIKMDgwAIBDAwACEAAwIAAAAYAADAgAIABAQAMCBBgAIAAAwIEGBAgufLlygEEABAAAAABAggAACAAAAABALoDCAAAQAAAAAIAABAAAIAA7AcEADAgAIABAAAMCCCAAAMADA4wAHgAgQIDCwQoMBAAAAMAAwAACAAAwIAAAgAIUHAAAYMDCAQIYABgQAAAAwAAGAAAwAAAAAYEADAgAIABAAIMABBA506eAQAACABAKAABRQEAEABA6VIAAQAACAAAQIAA/wACAAAQAACAAAAADAAAIAAAAAMCCCDAgEACBAIYHEhgYAGDAwgEKDAAQAADAQEACAgAQEAAAAoSIFBwYIEAAgkADAAAIAAAAAMCABgAAMCAAAAGAAAwAECAAAACBAAQQPXq1QACAIANQMBsAAAEAAAgAMBuAAEAAAgAAEAAAAACAAAQAACAAAAABAAAIEAAAAEAAAgAoICCAwQSICCgwEACAwsUHFhQIAECAQIKCAgAQEAAAAUYHCiQAIGAAgYAAAwgAMAAAAACAAAQIACAAAAADAAAIAAAAAEABMiocWNGAAEAgAQgYCQAAQIAABAAYCVLAAEAAAgAAEAAAAACAP8AEAAAgAAAAAQAACAAAAADAggQQECBgQUEEhgooMDAAQQLEhhYQIDBAQEACAgYEKAAgwQMDiwgoMCAAAEMAAwAACAAAAABAAAIAABAAAAAAgAAEAAAgAABAAQAACAAAAABAECODEAA5coAAAgAAEAAAAACAAQAACAAAAABAAAIAABAAAAAAgAAEAAAgAAABAQAAGBAgAIMEjA4sIAAAwMKDiBIYGBBAQUGBBQ4ICCAgAIEGCgwsKBAAgQCCCQQEAAAgAAAAAQAACAAAAABAAAIAABAAAAAAgAAEAAAgAAAAAIQOHCgAIMHAQAQAACAAAAPIQIIAABAAAAAAgAAEAD/AIAAAAAEACAgAAAAAQAACABAAAABDBIgUHBgQQEFBhQcQKDgwAIGBxYUUHCAQIEEBBQYEFDgAAACCQAEEAAgAAAAAQAACAAAQAAAAAIAABAAAIAAAAAEAAAgQAAAAAIAkDtXQF27dgEAEAAAgAAAAAQACAAAQAAAAAIAABAAAIAAAAAEACAggAABAQAICAAAQIAABAgwSGBgAYMECAQwOJDAwIIEBhYUUICAgAIDBBQYIKDAAIACBwAIYAAgAAAAAQAACAAAQAAAAAIAABAAAIAAAAAEALCde3fuAggIEC8egAAAAAQAACBAAAABAAAIABAAAIAAAAAEAAAgAAAB/wADABAQQICAAAAEBAAgIAAAAQEAMFBwQMEBBAUUGFBwAAGDBAYEMDjAIAGCAgkQMDiAoIACBAAIJAAAQACAAAAABBAAIAAAAAEAAAgAAEAAAEiTKl0KQAABAgKiShUAQIAAAAIEABAgAIAAAQAEAAggAEAAAAACABAAQIAAAAIEBAAgIAAAAQEACAgAQAAAAQoSGFBgYAGDBAgIKDBAQIEBBgcWMEiAIIGBBQwSIBggIEEAAQoABAAAIEAAAAEAAAgAAEAAALBjy5YtAAAAAbgJEBDAu7fv3wIACBAAQIAAAAIEABAgAIAAAQAECAAgQAAAAQICABAQAICAAAAEBP8AQEAAgQQGFhRIgKCAAgQMEiBQYGCBggMLEhhYQECBAYABCBwIQOAAAAIKBAhgAACAAAABAEykKADARYwZBQgAIMAjAQICRI4kWZIkAAECAAgQAECAAAACBAAQIACAAAEABAgAIEBAAAACAgAQEAAAAQEEGCRAIIABAgAFDCg4sECBgQUMEiBgcGBBgQQICCgwQICBAQEMDBBQgEAAgwMAAAgAULeuAAAABAAAIACAAAAABAgAIMAwAQICFC9mLICAAAEEBEymLACAAAEABBAQQICAAAICAAgQAECAAAACBAQAICAAAAABADBQcCCBgQUFFCAQwMCAAAYGBDBIoOD/AIIEBhYkMLBAwYEFDA4gKJAAQQEFCBgkWECAAAMA4cMLAABAAAABAgAIYN++PQECAgQQECCAAAEBBAgIIEBAAEACBAQQECCAgAABBAQIIEBAAAECAggQEECAAAABAgAIEABAgIAAAAQEAMBAwYEEBxYoOLCggAIEAwgwAMCAQQIDCA4gaHAAQYMDCBYcQLAggYEFCQwsSGCgQQEGCQBQpSoAgAABAAQIACDgK1iwBAgIEEBAgAACatUKIEBAAAECAggQEECAgAACBAQQICCAAAEBBAgIICBAAAEBAAQIACBAAIDIAQAwUJAggYEFCQwgYHAAAQEFBwokOKDAAIID/wgWHECw4ACCBQcMLDiAYMEBBA0MIGhQgIECAMIBCBAAQIAAAAKWMycgQAABAQIKEBAggAD27Nq1CyBAQAABAgIIkC9A4DwBAQQICCBAQAABAfIFABAgAAD+AAAIECigAOABBAoOIFBwAIGCAwsSGFiQwACCBAYWJDCwIIGBBQkMIDhgYMEBAwsOIGhQgIECAAAEtCQgAGZMAQQECCBAQAABAQIKFBBAgIAAAkOJFh0qgAABAQSYNi1QgEABAgQKELBKQAABAVsFABAgAIAAAQAEAAgAoEABBgoOIGCQwICCAwgSGFiQwMCCBAYWJDCwIMEBBAkMIEhgAEECAwgOGP9YUICBAgAABFQmIEAAAQEECAggIEAAAQIACBAQUKCAAAIEBBBw/Rp2bNcFCBQoQKBAAQIFChDw/VsAAQICCAgwLgCAAAEABABw/ryAggQKDiBgkMCAAgMIEhhYkMDAggQGECg4gCCBAQQJDCA4YADBAQMLGCQ4IAB/fgEECAggAJCAAAIEBBAgAIAAAQEFCgAgQEAAgYkUCRQggDEjxgIFCBT4CPIjgQIESpokIICAgJUsAbh8+VKATAYKDjA4gEDBAQMKDCxIYGBBAgMLFBxAkMAAggMGEBxAsOCAgQUKDiAooCCBAAIEBBAgIIAAAQEECAggQAAAAQICChQAQEBkgAACBAQQuEugAIG9fAv4/Qs48F8ChAsLOIwYMYDFjBkLeMwgwQEGBwwoOIBAgQEECQwsSGBgQQIDCA4gWHAAwYIDBhYoMLCgwAEEBBQcEFCggAACBAQUIACgAAEABAQAKEAgIAA7\"><title>Layer: flatten1 (hidden)\n output range: (0.0, 0.8666667)\n Keras class = Flatten</title></image><text x=\"438.3333333333333\" y=\"272.0\" font-family=\"monospace\" font-size=\"12\" text-anchor=\"start\" fill=\"black\" alignment-baseline=\"central\" >flatten1</text><line x1=\"666.6666666666666\" y1=\"244\" x2=\"500.0\" y2=\"217\" stroke=\"black\" stroke-width=\"2\" marker-end=\"url(#arrow)\"><title>Weights from flatten2 to hidden\n hidden_1/kernel:0 has shape (7200, 100)\n hidden_1/bias:0 has shape (100,)</title></line><rect x=\"565.6666666666666\" y=\"244\" width=\"202\" height=\"52\" style=\"fill:none;stroke:black;stroke-width:2\"/><image id=\"picture-dashboard-Finger Math-256231_flatten2_28\" class=\"picture-dashboard-Finger Math-256231_flatten2\" x=\"566.6666666666666\" y=\"245\" height=\"50\" width=\"200\" preserveAspectRatio=\"none\" href=\"data:image/gif;base64,R0lGODdhEA4BAIcAAKenp5iYmLS0tIiIiHl5eVhYWEdHRycnJ2ZmZjY2NhkZGQsLC8TExAAAAAAAAAAAAAAAAAAAAAAAAAAAAAAAAAAAAAAAAAAAAAAAAAAAAAAAAAAAAAAAAAAAAAAAAAAAAAAAAAAAAAAAAAAAAAAAAAAAAAAAAAAAAAAAAAAAAAAAAAAAAAAAAAAAAAAAAAAAAAAAAAAAAAAAAAAAAAAAAAAAAAAAAAAAAAAAAAAAAAAAAAAAAAAAAAAAAAAAAAAAAAAAAAAAAAAAAAAAAAAAAAAAAAAAAAAAAAAAAAAAAAAAAAAAAAAAAAAAAAAAAAAAAAAAAAAAAAAAAAAAAAAAAAAAAAAAAAAAAAAAAAAAAAAAAAAAAAAAAAAAAAAAAAAAAAAAAAAAAAAAAAAAAAAAAAAAAAAAAAAAAAAAAAAAAAAAAAAAAAAAAAAAAAAAAAAAAAAAAAAAAAAAAAAAAAAAAAAAAAAAAAAAAAAAAAAAAAAAAAAAAAAAAAAAAAAAAAAAAAAAAAAAAAAAAAAAAAAAAAAAAAAAAAAAAAAAAAAAAAAAAAAAAAAAAAAAAAAAAAAAAAAAAAAAAAAAAAAAAAAAAAAAAAAAAAAAAAAAAAAAAAAAAAAAAAAAAAAAAAAAAAAAAAAAAAAAAAAAAAAAAAAAAAAAAAAAAAAAAAAAAAAAAAAAAAAAAAAAAAAAAAAAAAAAAAAAAAAAAAAAAAAAAAAAAAAAAAAAAAAAAAAAAAAAAAAAAAAAAAAAAAAAAAAAAAAAAAAAAAAAAAAAAAAAAAAAAAAAAAAAAAAAAAAAAAAAAAAAAAAAAAAAAAAAAAAAAAAAAAAAAAAAAAAAAAAAAAAAAAAAAAAAAAAAAAAAAAAAAAAAAAAAAAAAAAAAAAAAAAAAAAAAAAAAAAAAAAAAAAAAAAAAAAAAAAAAAAAAAAAAAAAAAAAAAAAAAAAAAAAAAAAAAAAAAAAAAAAAAAAAAAAAAAAAAAAAAAAAAAAAAAAAAAAAAAAAAAAAAAAAAAAAAAAAACwAAAAAEA4BAAAI/wAFDCAgYAABAAMGABgwIMCAAQEGDAgwYECAAQMCBBgQIMAAAAECAAgQAECAAAACBAAAIAAAAAEEAAAgAAAAAQAACAAAQAAAAAIACAUQAIDRo0YDAAgQAECAAAACSJ0aYECAAAMCDBgQYMCAAAMIBBgwIMCAAQEGDAAwgACAAQMEDBgAYMAAAAMIABgwIMCAAQEGDAgwYECAAAMCKF4MIEAAAAECAAAQAIDlywIAABAAAIAAAAAEAAAgAAAAAQAACAAAQACA17ABBAAAIAAAAAEAAAgAIEAAAAECAAhAvHiAAQECDAgwYECAAQMCDBgQYMCAAAMGABhAAMCAAQAGDP8AMGBAgAEDAgwYEGDAgAABBgSYDyBAAAABAgAAEAAAAIABAAwkKAAAAAEAAAgAAEAAAAACAAAQAACAAAAABAAAIIAAAgEBBgAgSTIAAAABBAAIAABAAAABAgAIEABAAJwBBgQIMCDAgAEBBgwIMGBAgAEDAgwYEGAAAQADBgAYMCDAgAEBBgwIMGBAgAEDAowFECAAgAABAAQIAABAAABx4wYQACCAAAAABAAAIAAAAAEAAAgAAEAAAAACAgQQEMBxggMBChgQAMCyZQEBBghAUAAAgAAAAAQAECAAgAABAARg3TrAgAABBgQYMCDAgAEBBhAIMIAAgAEDAAwYEGD/wIAAAwYECDAgwHPoAAIEAAAgAAAAAQBs5y4AAAABAAAIAABAAAAAAgAAEAAAgAAAAAQIAAAAgYEABRIMKGBgAEADBwAACADgIAACCAYkUAAAQAAAAAIAABAAAIAAAAIEABAgAIAAIkcGGBBgwIAAAwYEGDAAwIABAQYMCDBgQIABAwLwBBAgAIAAAQAQLVpUAAAAAgAAEAAAgAAAAAQAACAAAAABAAAIAABAAAAAAsYGQFCAgIEDAxAUIJBAAYAAAQQIABAAgQECCRQAABBAAIDAAAIAABAAAIAAAAAEABDgMWTIAwYEGDAgwIABAQYMCDBgQIABAwIMCGA6AIAA/wEABAgAAEAAAAACCAAAQAAAAAIAABAAAIAAAAAECAAgQAAAAQAACBAAQACAAAIADAAwgAABAwoGICiA4MCCAAMICBAAYECBBAQMHBAAIIAAAAAEAKgPIAAAAAEAAAgAAGCAAAACFDQYYECAAQMCDBgQYMCAAAMGBBgQAGMAAAECAAgQAECAAABIlhQAAIAAAAAEAAAgQAAAAQIACBAAQIAAAAIAABAgAACAAQQCGEgAIMAAAgkUEChggECCBQEIFBAAIECAAgcGFEggAAAAAQACCAAQQACAAAAABAAAIAAAAAEABLB7N8CAAAMGBBhAIMCAAQEGDAgwYECAAAMABP8IACBAAACTKVMWAACAAAAABAAAIEAAAAECAAgQAECAAAACAAAQIAAAgAADBiRQEGAAAQIGDgwokIBAAgUBEBgAEGBAAAMKAiAwAABAAAEAAggAEEAAgAACAAQA8P17AAAAAgAIcB59gAEBBgwIMGBAgAEDAgwYEAA/gAABAAQIABCAQAEAAAgAAEAAAAACAAAQIACAgIkTAQgQAECAAAACBAAQACBkyAEGDgwgUGBAgQQEDBwgkEDBAAQJBAQgAKDAgQAEEAD4+TMAAAABBAAIIAAAAAEAmjp1GiAAgABUAwwIMGBAgAEDAgwIADYAgAABAAQAgDYtAAEAAAgAAED/AAAAAgQAECAAgAABAAQIACBAAAABAgAIAIAYQAAAjAcUSDCgQIIBBQwMMKBAAAIDDBAYYEDAgAAECQIQQAAAQAAAAAIIABBAAAAAAgAAEAAAgAAAAQAACAAgQAAAAQIACDAgwIABAQYMCDBgQIDpAAIEABAgAIDt3AUAACAAAAABAAAIEABAgAAAAtq7bw9AgAAA9OvbDzAAwQADCgAgAGhAAAIDAAocAFDggAAEBwQgSBBgAAIAAAIAABAAAIAAAgAAEAAAgAAAAAQAQAkgAAAAAQAECAAgQAAAAwYEGDAgwIAAPQMACBAAQAAARY0CEAAAgAAAAAQIACBAAAAB/1WrAhAgAIAAAQAECAAgAMBYAAEAAAgQYMCAAAUOMECQAECBAwEKHAhgQEGAAgcAFDgggIABAQEIAAAQQACAAAIAABAAAIAAAAAEAAAgAMBmAAEABAgAIEAAAAMGBBgQIMCAAK0DAAgQAEAAALUBCAAAQAAAAAIAABAQXPhwAQAECAAgQAAAAQIAPIcOPcD0AQEKJABQ4ECAAgkAIEgAAIEBAgkUFFCwYICBAwAQHAAwAIEAAAAEAAAgAAAAAQAAABQAAIAAAAYBBAAQIACAAAEADAgQYECAigEABAgAIACAjh4BCAAAQAAAAAIEABCgcqVKAAJevgQgQAAAAQIA4P/MmTMAzwADEBgIUOAAAAQGAhQ4MCCBggIHFgxIoABAgQQDDCgIQKCAAAEABAAAIAAAAAEAAAgAAEAAgLZuAwQAECAAgAB2BwQAECAAgAABAAQIAGAwYQEAAAgAIGAxAAGOH0MWAEAAZcoABAgAAEAAgM6eAwQAEGAAgQIACiQQgMAAgAIHBhhQQCCBggEGFAQwcICAAQUBBgwQAACAAAAABAAAIAAAAAEAAAgAAEAAgOrWAwQAEGD7gADeAwAIEABAgAAAzqMXAACAAAAC3gMQIF8+AAH27+PHDwCAAAD+AQIQGCAAgAADBhAYYOAAgAIJBCBIAKDAAQIGFAwwcID/gAEFCBIoABBggAAAAAQAACAAAAABAAAIAABAAACbNwMAABAgAIAAPwcEEBoAQIAAAAIEALCUqQAAAAQAEDAVgACrV7FmzQpAgAAAX8ECCAAgQNkAAwoYCGBAQQADBwIYODDAgAICBhQgSKAAgYEDAAIEEAAggAAAAAQAACAAAAABAAAIAABAAADLAQAACBAAQADPAwKEDgAgQAAAAQCkVg1AAAAAAgAAEDCbdm3btgEI0K0bAAABAIAHDzA8wIABBAYYODAggYIBBhQQMKAAQQIFBQ4sGICgAIAAAQAECCAAQAABAAAIAABAAAAAAgAAEACAfoAAAAIEABCA/4AA/wADCAQQIACAAAEAKFwoAAAAAQAACBAAQIAAAAIyaswIQIBHjwAEiBQJoKRJkwFSqhwwAEGBAQkUDDCggIABBQQMKECQQMEABAYABAgAIEAAAAACCAAAQAAAAAIAABAAoGqAAAACBAAQIACAAQECDAhANgCAAAEABAgAoK1btwIAABAgAICAu3jz6t17F4AAAQACCw4AAECAwwMCDFhcwAABAwoIGDhAwICCAQUODChwAMAAAgACBAAQIIAAAAAEAAAgAAAAAQEAAAgQAECAAAACBAAwYECAAQECDAhAPACAAAEABADAvDkAAQAACBAAQIAAAAIEABDAvbv379wBCP8QAEAAgPPoAQRYv37AgAADCBAocICAgQMEDBwYUOBAAIAFDgRAYABAgAACAgQQACCAAAABBAQIACBAAAABAgAIEADAgAEBBgwIMCBAgAEBVAYAECAAgAABAAAIAMCmAAAABAAAIEAAAAFBhQ4lWjQoAAECACxlujTA0wADAgygisDAgAIHBhQ4MKDAgQAFDgRAcADAAAICAgQQECCAgAABAAQAACAAAAABAgAIMADAgAEBBgwAMGBAgAEDAiwGECAAgAABAAQIAMDyZQEAAAgQAEDAZ9ChRY8WDUCAAAACAKwGEABAANgDZBNAMKDAgQEFDgwocGBAgQMBECQIgMD/AIAAAQAECAAgQAAAAQIACDAAQIABAAYMCDBgQIABAwAMGBBgQAD06QMACBAAQIAAAOTPny8AAAABAgAI4N/fP0ABAgcSLDgQAMKEARYGGBBgAIEBBRIMKHBgQIEEAwocCFDgQIACBwIQQAAgQAAAAQIACBAAQIABAAYMCDBgQIABAwIMGABgQAAAAwYEKGoUQIAAAAIEAOD0KVQAAqZSrWr1KtaqAAAIAOAVQAAAAcYOKIugwIACBwYUODCgwIEABRIEKHAgQIEEAQYQABAgAIABAwAMGABgwIAAAwYEGEAgAAECAAYEADBgAIAAmjdrBhAgAIAAAEaTLi0AgIDU/6pXs27tejWA2LID0B5gmwDuAgcGFDgwoMCBAAUOBCiQIECBAwMQJAgwYACAAQMCDBgQYMCAAAMGBBhAIAABAgIGDAAQYACAAAEABGjvvj2AAAEA0K9vn74AAAL28+/vH6AAgQMJEgRwEGEAhQEGBBgwgAACAwQMKBhQ4MCAAgcCIEgQoECCAQUUDEBgIMCAAQEGEAgwgECAAQMCDCAQgAABAQEGCAgwAECAAQACBAAQAGlSpACYNnX6VAAAAVOpVrV61SoAAQC4AggQAEAAsQPIEkBAwMABAgUODCiQIECBBAEQJAhQIMEAAwoGICgQgACBAAQIBCBAIAABAgAIEGgQEGCAgAADAAQIACBAAAABBgTw7BkAgAAAAAQAcBp16tMCAAAQIACAANmzadeuDQB37gABAATwPQA4AeEFEhAwoICAgQMDCiQIUCDBgAIJBhQ4QMCAggEICgQgQCAAAQIBCCAAQIBAQAA7\"><title>Layer: flatten2 (hidden)\n output range: (0.0, 0.8666667)\n Keras class = Flatten</title></image><text x=\"771.6666666666666\" y=\"272.0\" font-family=\"monospace\" font-size=\"12\" text-anchor=\"start\" fill=\"black\" alignment-baseline=\"central\" >flatten2</text><line x1=\"333.3333333333333\" y1=\"324\" x2=\"333.3333333333333\" y2=\"297\" stroke=\"black\" stroke-width=\"2\" marker-end=\"url(#arrow)\"><title>Weights from input1 to flatten1</title></line><rect x=\"232.33333333333331\" y=\"324\" width=\"202\" height=\"202\" style=\"fill:none;stroke:black;stroke-width:2\"/><image id=\"picture-dashboard-Finger Math-256231_input1_29\" class=\"picture-dashboard-Finger Math-256231_input1\" x=\"233.33333333333331\" y=\"325\" height=\"200\" width=\"200\" preserveAspectRatio=\"none\" href=\"data:image/gif;base64,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\"><title>Layer: input1 (input)\n output range: (0.0, 0.8666667)\n shape = (30, 40, 3)\n Keras class = Input</title></image><text x=\"438.3333333333333\" y=\"427.0\" font-family=\"monospace\" font-size=\"12\" text-anchor=\"start\" fill=\"black\" alignment-baseline=\"central\" >input1</text><line x1=\"666.6666666666666\" y1=\"324\" x2=\"666.6666666666666\" y2=\"297\" stroke=\"black\" stroke-width=\"2\" marker-end=\"url(#arrow)\"><title>Weights from input2 to flatten2</title></line><rect x=\"565.6666666666666\" y=\"324\" width=\"202\" height=\"202\" style=\"fill:none;stroke:black;stroke-width:2\"/><image id=\"picture-dashboard-Finger Math-256231_input2_30\" class=\"picture-dashboard-Finger Math-256231_input2\" x=\"566.6666666666666\" y=\"325\" height=\"200\" width=\"200\" preserveAspectRatio=\"none\" href=\"data:image/gif;base64,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\"><title>Layer: input2 (input)\n output range: (0.0, 0.8666667)\n shape = (30, 40, 3)\n Keras class = Input</title></image><text x=\"771.6666666666666\" y=\"427.0\" font-family=\"monospace\" font-size=\"12\" text-anchor=\"start\" fill=\"black\" alignment-baseline=\"central\" >input2</text><text x=\"500.0\" y=\"12.5\" font-family=\"monospace\" font-size=\"15\" text-anchor=\"middle\" fill=\"black\" alignment-baseline=\"central\" >Finger Math</text></svg></g></svg></p>"
      }
     },
     "5a8c6b3d573b4e4fb12ea657f98aa680": {
      "model_module": "@jupyter-widgets/controls",
      "model_module_version": "1.1.0",
      "model_name": "VBoxModel",
      "state": {
       "children": [
        "IPY_MODEL_9a09f03e5d244a92bfbc5a06ec19e858",
        "IPY_MODEL_6821cc4efb404774befae588c93b0ba1",
        "IPY_MODEL_a623345f9331452594ea32ef2996a76c",
        "IPY_MODEL_38d96fe86922490381f53c8969cecbed",
        "IPY_MODEL_1b9695877db840569c23b430a965b506",
        "IPY_MODEL_ff5dd9bb64c24c34873cdb9fab807ac9",
        "IPY_MODEL_998c5d1c0a4441179fb1f5efead44aeb",
        "IPY_MODEL_6a205843ae864fa7947ff0b0c04c6cb8"
       ],
       "layout": "IPY_MODEL_81fcae0ed99041f7b2ec56b4155767ce"
      }
     },
     "5bc5e4abedbd4eaa80e38d07de602dd2": {
      "model_module": "@jupyter-widgets/base",
      "model_module_version": "1.0.0",
      "model_name": "LayoutModel",
      "state": {
       "width": "52%"
      }
     },
     "5bd06861033745e58d4c269096f14023": {
      "model_module": "@jupyter-widgets/base",
      "model_module_version": "1.0.0",
      "model_name": "LayoutModel",
      "state": {}
     },
     "5bd680eb49374ffbb8994eaf630f62d0": {
      "model_module": "@jupyter-widgets/base",
      "model_module_version": "1.0.0",
      "model_name": "LayoutModel",
      "state": {}
     },
     "5bfd06379c6a46f9ad8751078b237da4": {
      "model_module": "@jupyter-widgets/controls",
      "model_module_version": "1.1.0",
      "model_name": "VBoxModel",
      "state": {
       "children": [
        "IPY_MODEL_adc0b92b977e4c849fd9e45b603c170a",
        "IPY_MODEL_07806d395ee143e0bf4b30568664fdf6",
        "IPY_MODEL_38b6e2c1827544e7a7ec2d597d3c28c5",
        "IPY_MODEL_077842744bf64c2790d387e230833068",
        "IPY_MODEL_0c08357bfaae475793eb7f384fe4e8f3",
        "IPY_MODEL_679673409eb94d6e94b81806e9fa9bbb",
        "IPY_MODEL_8efc1fb338264d4dbc342b1e4aa498de",
        "IPY_MODEL_1d4c5eef1cdb458da9ff302441f209d4"
       ],
       "layout": "IPY_MODEL_cd5c60bc0e2c4ae090d6462457057fa1"
      }
     },
     "5c469a88757046caa7b1d2e71106499e": {
      "model_module": "@jupyter-widgets/controls",
      "model_module_version": "1.1.0",
      "model_name": "SelectModel",
      "state": {
       "_options_labels": [
        "",
        "Accent",
        "Accent_r",
        "Blues",
        "Blues_r",
        "BrBG",
        "BrBG_r",
        "BuGn",
        "BuGn_r",
        "BuPu",
        "BuPu_r",
        "CMRmap",
        "CMRmap_r",
        "Dark2",
        "Dark2_r",
        "GnBu",
        "GnBu_r",
        "Greens",
        "Greens_r",
        "Greys",
        "Greys_r",
        "OrRd",
        "OrRd_r",
        "Oranges",
        "Oranges_r",
        "PRGn",
        "PRGn_r",
        "Paired",
        "Paired_r",
        "Pastel1",
        "Pastel1_r",
        "Pastel2",
        "Pastel2_r",
        "PiYG",
        "PiYG_r",
        "PuBu",
        "PuBuGn",
        "PuBuGn_r",
        "PuBu_r",
        "PuOr",
        "PuOr_r",
        "PuRd",
        "PuRd_r",
        "Purples",
        "Purples_r",
        "RdBu",
        "RdBu_r",
        "RdGy",
        "RdGy_r",
        "RdPu",
        "RdPu_r",
        "RdYlBu",
        "RdYlBu_r",
        "RdYlGn",
        "RdYlGn_r",
        "Reds",
        "Reds_r",
        "Set1",
        "Set1_r",
        "Set2",
        "Set2_r",
        "Set3",
        "Set3_r",
        "Spectral",
        "Spectral_r",
        "Vega10",
        "Vega10_r",
        "Vega20",
        "Vega20_r",
        "Vega20b",
        "Vega20b_r",
        "Vega20c",
        "Vega20c_r",
        "Wistia",
        "Wistia_r",
        "YlGn",
        "YlGnBu",
        "YlGnBu_r",
        "YlGn_r",
        "YlOrBr",
        "YlOrBr_r",
        "YlOrRd",
        "YlOrRd_r",
        "afmhot",
        "afmhot_r",
        "autumn",
        "autumn_r",
        "binary",
        "binary_r",
        "bone",
        "bone_r",
        "brg",
        "brg_r",
        "bwr",
        "bwr_r",
        "cool",
        "cool_r",
        "coolwarm",
        "coolwarm_r",
        "copper",
        "copper_r",
        "cubehelix",
        "cubehelix_r",
        "flag",
        "flag_r",
        "gist_earth",
        "gist_earth_r",
        "gist_gray",
        "gist_gray_r",
        "gist_heat",
        "gist_heat_r",
        "gist_ncar",
        "gist_ncar_r",
        "gist_rainbow",
        "gist_rainbow_r",
        "gist_stern",
        "gist_stern_r",
        "gist_yarg",
        "gist_yarg_r",
        "gnuplot",
        "gnuplot2",
        "gnuplot2_r",
        "gnuplot_r",
        "gray",
        "gray_r",
        "hot",
        "hot_r",
        "hsv",
        "hsv_r",
        "inferno",
        "inferno_r",
        "jet",
        "jet_r",
        "magma",
        "magma_r",
        "nipy_spectral",
        "nipy_spectral_r",
        "ocean",
        "ocean_r",
        "pink",
        "pink_r",
        "plasma",
        "plasma_r",
        "prism",
        "prism_r",
        "rainbow",
        "rainbow_r",
        "seismic",
        "seismic_r",
        "spectral",
        "spectral_r",
        "spring",
        "spring_r",
        "summer",
        "summer_r",
        "tab10",
        "tab10_r",
        "tab20",
        "tab20_r",
        "tab20b",
        "tab20b_r",
        "tab20c",
        "tab20c_r",
        "terrain",
        "terrain_r",
        "viridis",
        "viridis_r",
        "winter",
        "winter_r"
       ],
       "description": "Colormap:",
       "index": 0,
       "layout": "IPY_MODEL_a6b32a40bfae4a20b096805f585b71be",
       "rows": 1,
       "style": "IPY_MODEL_3e71cfceecef455e811220defedd8cab"
      }
     },
     "5c6e8d933803417f90cb3df1d100e342": {
      "model_module": "@jupyter-widgets/base",
      "model_module_version": "1.0.0",
      "model_name": "LayoutModel",
      "state": {}
     },
     "5cf46e767133465fb3e2d5a570e7bfdf": {
      "model_module": "@jupyter-widgets/base",
      "model_module_version": "1.0.0",
      "model_name": "LayoutModel",
      "state": {
       "width": "100%"
      }
     },
     "5d24506c112d4649a66765b43d691bc3": {
      "model_module": "@jupyter-widgets/controls",
      "model_module_version": "1.1.0",
      "model_name": "DescriptionStyleModel",
      "state": {
       "description_width": "initial"
      }
     },
     "5d313941645e4d6a8e6e047c54949e2e": {
      "model_module": "@jupyter-widgets/controls",
      "model_module_version": "1.1.0",
      "model_name": "ButtonModel",
      "state": {
       "icon": "fast-forward",
       "layout": "IPY_MODEL_de8f718c93d94426bfdc66113882db19",
       "style": "IPY_MODEL_9063aeeb14404a3ba10bf679b13eeddb"
      }
     },
     "5d75ae1e30b64c778a527d1a351c4511": {
      "model_module": "@jupyter-widgets/controls",
      "model_module_version": "1.1.0",
      "model_name": "DescriptionStyleModel",
      "state": {
       "description_width": "initial"
      }
     },
     "5db98d69719e4f6d92dfa9a9f12cfb42": {
      "model_module": "@jupyter-widgets/controls",
      "model_module_version": "1.1.0",
      "model_name": "DescriptionStyleModel",
      "state": {
       "description_width": "initial"
      }
     },
     "5de52421159c406d98ae4116959a0705": {
      "model_module": "@jupyter-widgets/base",
      "model_module_version": "1.0.0",
      "model_name": "LayoutModel",
      "state": {}
     },
     "5deccefff7aa48328e08ade8b4a48381": {
      "model_module": "@jupyter-widgets/controls",
      "model_module_version": "1.1.0",
      "model_name": "IntSliderModel",
      "state": {
       "continuous_update": false,
       "description": "Dataset index",
       "layout": "IPY_MODEL_57bab7aa3be24db99c47eea2c432fc86",
       "max": 0,
       "style": "IPY_MODEL_55e08122471e4639bb9cff00654eeeae"
      }
     },
     "5e098f284e2149d4b3963d3d29c6a76f": {
      "model_module": "@jupyter-widgets/controls",
      "model_module_version": "1.1.0",
      "model_name": "DescriptionStyleModel",
      "state": {
       "description_width": "initial"
      }
     },
     "5e7927d1ee2846f99ecd66fa3a2efbe4": {
      "model_module": "@jupyter-widgets/base",
      "model_module_version": "1.0.0",
      "model_name": "LayoutModel",
      "state": {
       "height": "50px",
       "width": "100%"
      }
     },
     "5eb42b7fa5214fc38ab019db611178c1": {
      "model_module": "@jupyter-widgets/base",
      "model_module_version": "1.0.0",
      "model_name": "LayoutModel",
      "state": {}
     },
     "5ebf3cc00a084c599a673daa24324bcd": {
      "model_module": "@jupyter-widgets/controls",
      "model_module_version": "1.1.0",
      "model_name": "SelectModel",
      "state": {
       "_options_labels": [
        "Test",
        "Train"
       ],
       "description": "Dataset:",
       "index": 1,
       "layout": "IPY_MODEL_d5e41a142b464fc4b61fc7790f0466ce",
       "rows": 1,
       "style": "IPY_MODEL_24fa969d07724283a38decaea20f2ee4"
      }
     },
     "5ee26abc224a4045a4f99b614250814e": {
      "model_module": "@jupyter-widgets/controls",
      "model_module_version": "1.1.0",
      "model_name": "HTMLModel",
      "state": {
       "layout": "IPY_MODEL_e026e00f7dec43ea94997aabc641dfcb",
       "style": "IPY_MODEL_258d500cc7ab4c3a807bdd7ba1487a8d",
       "value": "<p style=\"text-align:center\"><svg id='Hiding' xmlns='http://www.w3.org/2000/svg' image-rendering=\"pixelated\" width=\"297.1428571428571px\" height=\"800.0px\">\n <g  transform=\"rotate(90) translate(0 -297.1428571428571)\" >\n  <svg viewBox=\"0 0 1050 390\" width=\"800.0px\" height=\"297.1428571428571px\">\n    <defs>\n        <marker id=\"arrow\" markerWidth=\"10\" markerHeight=\"10\" refX=\"9\" refY=\"3\" orient=\"auto\" markerUnits=\"strokeWidth\">\n          <path d=\"M0,0 L0,6 L9,3 z\" fill=\"black\" />\n        </marker>\n    </defs><rect x=\"249.0\" y=\"24\" width=\"202\" height=\"52\" style=\"fill:none;stroke:black;stroke-width:2\"/><image id=\"picture-dashboard-Hiding-581194_output1-rotated_17\" class=\"picture-dashboard-Hiding-581194_output1-rotated\" x=\"250.0\" y=\"25\" height=\"50\" width=\"200\" preserveAspectRatio=\"none\" href=\"data:image/gif;base64,R0lGODdhMgABAIcAAP/9/QAAAAAAAAAAAAAAAAAAAAAAAAAAAAAAAAAAAAAAAAAAAAAAAAAAAAAAAAAAAAAAAAAAAAAAAAAAAAAAAAAAAAAAAAAAAAAAAAAAAAAAAAAAAAAAAAAAAAAAAAAAAAAAAAAAAAAAAAAAAAAAAAAAAAAAAAAAAAAAAAAAAAAAAAAAAAAAAAAAAAAAAAAAAAAAAAAAAAAAAAAAAAAAAAAAAAAAAAAAAAAAAAAAAAAAAAAAAAAAAAAAAAAAAAAAAAAAAAAAAAAAAAAAAAAAAAAAAAAAAAAAAAAAAAAAAAAAAAAAAAAAAAAAAAAAAAAAAAAAAAAAAAAAAAAAAAAAAAAAAAAAAAAAAAAAAAAAAAAAAAAAAAAAAAAAAAAAAAAAAAAAAAAAAAAAAAAAAAAAAAAAAAAAAAAAAAAAAAAAAAAAAAAAAAAAAAAAAAAAAAAAAAAAAAAAAAAAAAAAAAAAAAAAAAAAAAAAAAAAAAAAAAAAAAAAAAAAAAAAAAAAAAAAAAAAAAAAAAAAAAAAAAAAAAAAAAAAAAAAAAAAAAAAAAAAAAAAAAAAAAAAAAAAAAAAAAAAAAAAAAAAAAAAAAAAAAAAAAAAAAAAAAAAAAAAAAAAAAAAAAAAAAAAAAAAAAAAAAAAAAAAAAAAAAAAAAAAAAAAAAAAAAAAAAAAAAAAAAAAAAAAAAAAAAAAAAAAAAAAAAAAAAAAAAAAAAAAAAAAAAAAAAAAAAAAAAAAAAAAAAAAAAAAAAAAAAAAAAAAAAAAAAAAAAAAAAAAAAAAAAAAAAAAAAAAAAAAAAAAAAAAAAAAAAAAAAAAAAAAAAAAAAAAAAAAAAAAAAAAAAAAAAAAAAAAAAAAAAAAAAAAAAAAAAAAAAAAAAAAAAAAAAAAAAAAAAAAAAAAAAAAAAAAAAAAAAAAAAAAAAAAAAAAAAAAAAAAAAAAAAAAAAAAAAAAAAAAAAAAAAAAAAAAAAAAAAAAAAAAAAAAAAAAAAAAAAAAAAAAAAAAAAAAAAAAAAAAAAAAACwAAAAAMgABAAAIDgABCBxIsKDBgwgTFgwIADs=\"><title>Layer: output1 (output)\n output range: (-Infinity, +Infinity)\n shape = (50,)\n Keras class = Dense</title></image><text x=\"463.0\" y=\"52.0\" font-family=\"monospace\" font-size=\"12\" text-anchor=\"middle\" fill=\"black\" alignment-baseline=\"central\"  transform=\"rotate(-90 463.0 52.0) translate(2)\" >output1</text><rect x=\"599.0\" y=\"24\" width=\"202\" height=\"52\" style=\"fill:none;stroke:black;stroke-width:2\"/><image id=\"picture-dashboard-Hiding-581194_output2-rotated_18\" class=\"picture-dashboard-Hiding-581194_output2-rotated\" x=\"600.0\" y=\"25\" height=\"50\" width=\"200\" preserveAspectRatio=\"none\" href=\"data:image/gif;base64,R0lGODdhMgABAIcAAP/9/QAAAAAAAAAAAAAAAAAAAAAAAAAAAAAAAAAAAAAAAAAAAAAAAAAAAAAAAAAAAAAAAAAAAAAAAAAAAAAAAAAAAAAAAAAAAAAAAAAAAAAAAAAAAAAAAAAAAAAAAAAAAAAAAAAAAAAAAAAAAAAAAAAAAAAAAAAAAAAAAAAAAAAAAAAAAAAAAAAAAAAAAAAAAAAAAAAAAAAAAAAAAAAAAAAAAAAAAAAAAAAAAAAAAAAAAAAAAAAAAAAAAAAAAAAAAAAAAAAAAAAAAAAAAAAAAAAAAAAAAAAAAAAAAAAAAAAAAAAAAAAAAAAAAAAAAAAAAAAAAAAAAAAAAAAAAAAAAAAAAAAAAAAAAAAAAAAAAAAAAAAAAAAAAAAAAAAAAAAAAAAAAAAAAAAAAAAAAAAAAAAAAAAAAAAAAAAAAAAAAAAAAAAAAAAAAAAAAAAAAAAAAAAAAAAAAAAAAAAAAAAAAAAAAAAAAAAAAAAAAAAAAAAAAAAAAAAAAAAAAAAAAAAAAAAAAAAAAAAAAAAAAAAAAAAAAAAAAAAAAAAAAAAAAAAAAAAAAAAAAAAAAAAAAAAAAAAAAAAAAAAAAAAAAAAAAAAAAAAAAAAAAAAAAAAAAAAAAAAAAAAAAAAAAAAAAAAAAAAAAAAAAAAAAAAAAAAAAAAAAAAAAAAAAAAAAAAAAAAAAAAAAAAAAAAAAAAAAAAAAAAAAAAAAAAAAAAAAAAAAAAAAAAAAAAAAAAAAAAAAAAAAAAAAAAAAAAAAAAAAAAAAAAAAAAAAAAAAAAAAAAAAAAAAAAAAAAAAAAAAAAAAAAAAAAAAAAAAAAAAAAAAAAAAAAAAAAAAAAAAAAAAAAAAAAAAAAAAAAAAAAAAAAAAAAAAAAAAAAAAAAAAAAAAAAAAAAAAAAAAAAAAAAAAAAAAAAAAAAAAAAAAAAAAAAAAAAAAAAAAAAAAAAAAAAAAAAAAAAAAAAAAAAAAAAAAAAAAAAAAAAAAAAAAAAAAAAAAAAAAAAAAAAAAAAAAAAAAAAAACwAAAAAMgABAAAIDgABCBxIsKDBgwgTFgwIADs=\"><title>Layer: output2 (output)\n output range: (-Infinity, +Infinity)\n shape = (50,)\n Keras class = Dense</title></image><text x=\"813.0\" y=\"52.0\" font-family=\"monospace\" font-size=\"12\" text-anchor=\"middle\" fill=\"black\" alignment-baseline=\"central\"  transform=\"rotate(-90 813.0 52.0) translate(2)\" >output2</text><line x1=\"525.0\" y1=\"104\" x2=\"350.0\" y2=\"77\" stroke=\"black\" stroke-width=\"2\" marker-end=\"url(#arrow)\"><title>Weights from merge to output1\n output1/kernel:0 has shape (50, 50)\n output1/bias:0 has shape (50,)</title></line><line x1=\"525.0\" y1=\"104\" x2=\"700.0\" y2=\"77\" stroke=\"black\" stroke-width=\"2\" marker-end=\"url(#arrow)\"><title>Weights from merge to output2\n output2/kernel:0 has shape (50, 50)\n output2/bias:0 has shape (50,)</title></line><rect x=\"424.0\" y=\"104\" width=\"202\" height=\"52\" style=\"fill:none;stroke:black;stroke-width:2\"/><image id=\"picture-dashboard-Hiding-581194_merge-rotated_19\" class=\"picture-dashboard-Hiding-581194_merge-rotated\" x=\"425.0\" y=\"105\" height=\"50\" width=\"200\" preserveAspectRatio=\"none\" href=\"data:image/gif;base64,R0lGODdhMgABAIcAAP/9/QAAAAAAAAAAAAAAAAAAAAAAAAAAAAAAAAAAAAAAAAAAAAAAAAAAAAAAAAAAAAAAAAAAAAAAAAAAAAAAAAAAAAAAAAAAAAAAAAAAAAAAAAAAAAAAAAAAAAAAAAAAAAAAAAAAAAAAAAAAAAAAAAAAAAAAAAAAAAAAAAAAAAAAAAAAAAAAAAAAAAAAAAAAAAAAAAAAAAAAAAAAAAAAAAAAAAAAAAAAAAAAAAAAAAAAAAAAAAAAAAAAAAAAAAAAAAAAAAAAAAAAAAAAAAAAAAAAAAAAAAAAAAAAAAAAAAAAAAAAAAAAAAAAAAAAAAAAAAAAAAAAAAAAAAAAAAAAAAAAAAAAAAAAAAAAAAAAAAAAAAAAAAAAAAAAAAAAAAAAAAAAAAAAAAAAAAAAAAAAAAAAAAAAAAAAAAAAAAAAAAAAAAAAAAAAAAAAAAAAAAAAAAAAAAAAAAAAAAAAAAAAAAAAAAAAAAAAAAAAAAAAAAAAAAAAAAAAAAAAAAAAAAAAAAAAAAAAAAAAAAAAAAAAAAAAAAAAAAAAAAAAAAAAAAAAAAAAAAAAAAAAAAAAAAAAAAAAAAAAAAAAAAAAAAAAAAAAAAAAAAAAAAAAAAAAAAAAAAAAAAAAAAAAAAAAAAAAAAAAAAAAAAAAAAAAAAAAAAAAAAAAAAAAAAAAAAAAAAAAAAAAAAAAAAAAAAAAAAAAAAAAAAAAAAAAAAAAAAAAAAAAAAAAAAAAAAAAAAAAAAAAAAAAAAAAAAAAAAAAAAAAAAAAAAAAAAAAAAAAAAAAAAAAAAAAAAAAAAAAAAAAAAAAAAAAAAAAAAAAAAAAAAAAAAAAAAAAAAAAAAAAAAAAAAAAAAAAAAAAAAAAAAAAAAAAAAAAAAAAAAAAAAAAAAAAAAAAAAAAAAAAAAAAAAAAAAAAAAAAAAAAAAAAAAAAAAAAAAAAAAAAAAAAAAAAAAAAAAAAAAAAAAAAAAAAAAAAAAAAAAAAAAAAAAAAAAAAAAAAAAAAAAAAAAAAAAAAAAAAACwAAAAAMgABAAAIDgABCBxIsKDBgwgTFgwIADs=\"><title>Layer: merge (hidden)\n output range: (-Infinity, +Infinity)\n shape = (50,)\n Keras class = Dense</title></image><text x=\"638.0\" y=\"132.0\" font-family=\"monospace\" font-size=\"12\" text-anchor=\"middle\" fill=\"black\" alignment-baseline=\"central\"  transform=\"rotate(-90 638.0 132.0) translate(2)\" >merge</text><line x1=\"262.5\" y1=\"184\" x2=\"525.0\" y2=\"157\" stroke=\"black\" stroke-width=\"2\" marker-end=\"url(#arrow)\"><title>Weights from hidden1-2 to merge\n merge/kernel:0 has shape (150, 50)\n merge/bias:0 has shape (50,)</title></line><rect x=\"161.5\" y=\"184\" width=\"202\" height=\"52\" style=\"fill:none;stroke:black;stroke-width:2\"/><image id=\"picture-dashboard-Hiding-581194_hidden1-2-rotated_20\" class=\"picture-dashboard-Hiding-581194_hidden1-2-rotated\" x=\"162.5\" y=\"185\" height=\"50\" width=\"200\" preserveAspectRatio=\"none\" href=\"data:image/gif;base64,R0lGODdhMgABAIcAAP/9/QAAAAAAAAAAAAAAAAAAAAAAAAAAAAAAAAAAAAAAAAAAAAAAAAAAAAAAAAAAAAAAAAAAAAAAAAAAAAAAAAAAAAAAAAAAAAAAAAAAAAAAAAAAAAAAAAAAAAAAAAAAAAAAAAAAAAAAAAAAAAAAAAAAAAAAAAAAAAAAAAAAAAAAAAAAAAAAAAAAAAAAAAAAAAAAAAAAAAAAAAAAAAAAAAAAAAAAAAAAAAAAAAAAAAAAAAAAAAAAAAAAAAAAAAAAAAAAAAAAAAAAAAAAAAAAAAAAAAAAAAAAAAAAAAAAAAAAAAAAAAAAAAAAAAAAAAAAAAAAAAAAAAAAAAAAAAAAAAAAAAAAAAAAAAAAAAAAAAAAAAAAAAAAAAAAAAAAAAAAAAAAAAAAAAAAAAAAAAAAAAAAAAAAAAAAAAAAAAAAAAAAAAAAAAAAAAAAAAAAAAAAAAAAAAAAAAAAAAAAAAAAAAAAAAAAAAAAAAAAAAAAAAAAAAAAAAAAAAAAAAAAAAAAAAAAAAAAAAAAAAAAAAAAAAAAAAAAAAAAAAAAAAAAAAAAAAAAAAAAAAAAAAAAAAAAAAAAAAAAAAAAAAAAAAAAAAAAAAAAAAAAAAAAAAAAAAAAAAAAAAAAAAAAAAAAAAAAAAAAAAAAAAAAAAAAAAAAAAAAAAAAAAAAAAAAAAAAAAAAAAAAAAAAAAAAAAAAAAAAAAAAAAAAAAAAAAAAAAAAAAAAAAAAAAAAAAAAAAAAAAAAAAAAAAAAAAAAAAAAAAAAAAAAAAAAAAAAAAAAAAAAAAAAAAAAAAAAAAAAAAAAAAAAAAAAAAAAAAAAAAAAAAAAAAAAAAAAAAAAAAAAAAAAAAAAAAAAAAAAAAAAAAAAAAAAAAAAAAAAAAAAAAAAAAAAAAAAAAAAAAAAAAAAAAAAAAAAAAAAAAAAAAAAAAAAAAAAAAAAAAAAAAAAAAAAAAAAAAAAAAAAAAAAAAAAAAAAAAAAAAAAAAAAAAAAAAAAAAAAAAAAAAAAAAAAAAAAAAAAACwAAAAAMgABAAAIDgABCBxIsKDBgwgTFgwIADs=\"><title>Layer: hidden1-2 (hidden)\n output range: (-Infinity, +Infinity)\n shape = (50,)\n Keras class = Dense</title></image><text x=\"375.5\" y=\"212.0\" font-family=\"monospace\" font-size=\"12\" text-anchor=\"middle\" fill=\"black\" alignment-baseline=\"central\"  transform=\"rotate(-90 375.5 212.0) translate(2)\" >hidden1-2</text><text x=\"445.0\" y=\"200\" font-family=\"monospace\" font-size=\"12\" text-anchor=\"start\" fill=\"green\" alignment-baseline=\"central\" >[layer(s) not visible]</text><line x1=\"787.5\" y1=\"185\" x2=\"525.0\" y2=\"155\" stroke=\"black\" stroke-width=\"2\" marker-end=\"url(#arrow)\"><title>Weights from input3 to merge\n merge/kernel:0 has shape (150, 50)\n merge/bias:0 has shape (50,)</title></line><text x=\"182.5\" y=\"250\" font-family=\"monospace\" font-size=\"12\" text-anchor=\"start\" fill=\"green\" alignment-baseline=\"central\" >[layer(s) not visible]</text><rect x=\"424.0\" y=\"234\" width=\"202\" height=\"52\" style=\"fill:none;stroke:black;stroke-width:2\"/><image id=\"picture-dashboard-Hiding-581194_hidden2-rotated_21\" class=\"picture-dashboard-Hiding-581194_hidden2-rotated\" x=\"425.0\" y=\"235\" height=\"50\" width=\"200\" preserveAspectRatio=\"none\" href=\"data:image/gif;base64,R0lGODdhMgABAIcAAP/9/QAAAAAAAAAAAAAAAAAAAAAAAAAAAAAAAAAAAAAAAAAAAAAAAAAAAAAAAAAAAAAAAAAAAAAAAAAAAAAAAAAAAAAAAAAAAAAAAAAAAAAAAAAAAAAAAAAAAAAAAAAAAAAAAAAAAAAAAAAAAAAAAAAAAAAAAAAAAAAAAAAAAAAAAAAAAAAAAAAAAAAAAAAAAAAAAAAAAAAAAAAAAAAAAAAAAAAAAAAAAAAAAAAAAAAAAAAAAAAAAAAAAAAAAAAAAAAAAAAAAAAAAAAAAAAAAAAAAAAAAAAAAAAAAAAAAAAAAAAAAAAAAAAAAAAAAAAAAAAAAAAAAAAAAAAAAAAAAAAAAAAAAAAAAAAAAAAAAAAAAAAAAAAAAAAAAAAAAAAAAAAAAAAAAAAAAAAAAAAAAAAAAAAAAAAAAAAAAAAAAAAAAAAAAAAAAAAAAAAAAAAAAAAAAAAAAAAAAAAAAAAAAAAAAAAAAAAAAAAAAAAAAAAAAAAAAAAAAAAAAAAAAAAAAAAAAAAAAAAAAAAAAAAAAAAAAAAAAAAAAAAAAAAAAAAAAAAAAAAAAAAAAAAAAAAAAAAAAAAAAAAAAAAAAAAAAAAAAAAAAAAAAAAAAAAAAAAAAAAAAAAAAAAAAAAAAAAAAAAAAAAAAAAAAAAAAAAAAAAAAAAAAAAAAAAAAAAAAAAAAAAAAAAAAAAAAAAAAAAAAAAAAAAAAAAAAAAAAAAAAAAAAAAAAAAAAAAAAAAAAAAAAAAAAAAAAAAAAAAAAAAAAAAAAAAAAAAAAAAAAAAAAAAAAAAAAAAAAAAAAAAAAAAAAAAAAAAAAAAAAAAAAAAAAAAAAAAAAAAAAAAAAAAAAAAAAAAAAAAAAAAAAAAAAAAAAAAAAAAAAAAAAAAAAAAAAAAAAAAAAAAAAAAAAAAAAAAAAAAAAAAAAAAAAAAAAAAAAAAAAAAAAAAAAAAAAAAAAAAAAAAAAAAAAAAAAAAAAAAAAAAAAAAAAAAAAAAAAAAAAAAAAAAAAAAAAAAAAAAAACwAAAAAMgABAAAIDgABCBxIsKDBgwgTFgwIADs=\"><title>Layer: hidden2 (hidden)\n output range: (-Infinity, +Infinity)\n shape = (50,)\n Keras class = Dense</title></image><text x=\"638.0\" y=\"262.0\" font-family=\"monospace\" font-size=\"12\" text-anchor=\"middle\" fill=\"black\" alignment-baseline=\"central\"  transform=\"rotate(-90 638.0 262.0) translate(2)\" >hidden2</text><line x1=\"787.5\" y1=\"235\" x2=\"787.5\" y2=\"185\" stroke=\"black\" stroke-width=\"2\"><title>Weights from input3 to merge\n merge/kernel:0 has shape (150, 50)\n merge/bias:0 has shape (50,)</title></line><rect x=\"161.5\" y=\"314\" width=\"202\" height=\"52\" style=\"fill:none;stroke:black;stroke-width:2\"/><image id=\"picture-dashboard-Hiding-581194_input1-rotated_22\" class=\"picture-dashboard-Hiding-581194_input1-rotated\" x=\"162.5\" y=\"315\" height=\"50\" width=\"200\" preserveAspectRatio=\"none\" href=\"data:image/gif;base64,R0lGODdhMgABAIcAAH9/fwAAAAAAAAAAAAAAAAAAAAAAAAAAAAAAAAAAAAAAAAAAAAAAAAAAAAAAAAAAAAAAAAAAAAAAAAAAAAAAAAAAAAAAAAAAAAAAAAAAAAAAAAAAAAAAAAAAAAAAAAAAAAAAAAAAAAAAAAAAAAAAAAAAAAAAAAAAAAAAAAAAAAAAAAAAAAAAAAAAAAAAAAAAAAAAAAAAAAAAAAAAAAAAAAAAAAAAAAAAAAAAAAAAAAAAAAAAAAAAAAAAAAAAAAAAAAAAAAAAAAAAAAAAAAAAAAAAAAAAAAAAAAAAAAAAAAAAAAAAAAAAAAAAAAAAAAAAAAAAAAAAAAAAAAAAAAAAAAAAAAAAAAAAAAAAAAAAAAAAAAAAAAAAAAAAAAAAAAAAAAAAAAAAAAAAAAAAAAAAAAAAAAAAAAAAAAAAAAAAAAAAAAAAAAAAAAAAAAAAAAAAAAAAAAAAAAAAAAAAAAAAAAAAAAAAAAAAAAAAAAAAAAAAAAAAAAAAAAAAAAAAAAAAAAAAAAAAAAAAAAAAAAAAAAAAAAAAAAAAAAAAAAAAAAAAAAAAAAAAAAAAAAAAAAAAAAAAAAAAAAAAAAAAAAAAAAAAAAAAAAAAAAAAAAAAAAAAAAAAAAAAAAAAAAAAAAAAAAAAAAAAAAAAAAAAAAAAAAAAAAAAAAAAAAAAAAAAAAAAAAAAAAAAAAAAAAAAAAAAAAAAAAAAAAAAAAAAAAAAAAAAAAAAAAAAAAAAAAAAAAAAAAAAAAAAAAAAAAAAAAAAAAAAAAAAAAAAAAAAAAAAAAAAAAAAAAAAAAAAAAAAAAAAAAAAAAAAAAAAAAAAAAAAAAAAAAAAAAAAAAAAAAAAAAAAAAAAAAAAAAAAAAAAAAAAAAAAAAAAAAAAAAAAAAAAAAAAAAAAAAAAAAAAAAAAAAAAAAAAAAAAAAAAAAAAAAAAAAAAAAAAAAAAAAAAAAAAAAAAAAAAAAAAAAAAAAAAAAAAAAAAAAAAAAAAAAAAAAAAAAAAAAAAAAAAAAAAAAAAACwAAAAAMgABAAAIDgABCBxIsKDBgwgTFgwIADs=\"><title>Layer: input1 (input)\n output range: (-Infinity, +Infinity)\n shape = (50,)\n Keras class = Input</title></image><text x=\"375.5\" y=\"342.0\" font-family=\"monospace\" font-size=\"12\" text-anchor=\"middle\" fill=\"black\" alignment-baseline=\"central\"  transform=\"rotate(-90 375.5 342.0) translate(2)\" >input1</text><line x1=\"525.0\" y1=\"314\" x2=\"525.0\" y2=\"287\" stroke=\"black\" stroke-width=\"2\" marker-end=\"url(#arrow)\"><title>Weights from input2 to hidden2\n hidden2/kernel:0 has shape (50, 50)\n hidden2/bias:0 has shape (50,)</title></line><rect x=\"424.0\" y=\"314\" width=\"202\" height=\"52\" style=\"fill:none;stroke:black;stroke-width:2\"/><image id=\"picture-dashboard-Hiding-581194_input2-rotated_23\" class=\"picture-dashboard-Hiding-581194_input2-rotated\" x=\"425.0\" y=\"315\" height=\"50\" width=\"200\" preserveAspectRatio=\"none\" href=\"data:image/gif;base64,R0lGODdhMgABAIcAAH9/fwAAAAAAAAAAAAAAAAAAAAAAAAAAAAAAAAAAAAAAAAAAAAAAAAAAAAAAAAAAAAAAAAAAAAAAAAAAAAAAAAAAAAAAAAAAAAAAAAAAAAAAAAAAAAAAAAAAAAAAAAAAAAAAAAAAAAAAAAAAAAAAAAAAAAAAAAAAAAAAAAAAAAAAAAAAAAAAAAAAAAAAAAAAAAAAAAAAAAAAAAAAAAAAAAAAAAAAAAAAAAAAAAAAAAAAAAAAAAAAAAAAAAAAAAAAAAAAAAAAAAAAAAAAAAAAAAAAAAAAAAAAAAAAAAAAAAAAAAAAAAAAAAAAAAAAAAAAAAAAAAAAAAAAAAAAAAAAAAAAAAAAAAAAAAAAAAAAAAAAAAAAAAAAAAAAAAAAAAAAAAAAAAAAAAAAAAAAAAAAAAAAAAAAAAAAAAAAAAAAAAAAAAAAAAAAAAAAAAAAAAAAAAAAAAAAAAAAAAAAAAAAAAAAAAAAAAAAAAAAAAAAAAAAAAAAAAAAAAAAAAAAAAAAAAAAAAAAAAAAAAAAAAAAAAAAAAAAAAAAAAAAAAAAAAAAAAAAAAAAAAAAAAAAAAAAAAAAAAAAAAAAAAAAAAAAAAAAAAAAAAAAAAAAAAAAAAAAAAAAAAAAAAAAAAAAAAAAAAAAAAAAAAAAAAAAAAAAAAAAAAAAAAAAAAAAAAAAAAAAAAAAAAAAAAAAAAAAAAAAAAAAAAAAAAAAAAAAAAAAAAAAAAAAAAAAAAAAAAAAAAAAAAAAAAAAAAAAAAAAAAAAAAAAAAAAAAAAAAAAAAAAAAAAAAAAAAAAAAAAAAAAAAAAAAAAAAAAAAAAAAAAAAAAAAAAAAAAAAAAAAAAAAAAAAAAAAAAAAAAAAAAAAAAAAAAAAAAAAAAAAAAAAAAAAAAAAAAAAAAAAAAAAAAAAAAAAAAAAAAAAAAAAAAAAAAAAAAAAAAAAAAAAAAAAAAAAAAAAAAAAAAAAAAAAAAAAAAAAAAAAAAAAAAAAAAAAAAAAAAAAAAAAAAAAAAAAAAAAAAACwAAAAAMgABAAAIDgABCBxIsKDBgwgTFgwIADs=\"><title>Layer: input2 (input)\n output range: (-Infinity, +Infinity)\n shape = (50,)\n Keras class = Input</title></image><text x=\"638.0\" y=\"342.0\" font-family=\"monospace\" font-size=\"12\" text-anchor=\"middle\" fill=\"black\" alignment-baseline=\"central\"  transform=\"rotate(-90 638.0 342.0) translate(2)\" >input2</text><line x1=\"787.5\" y1=\"314\" x2=\"787.5\" y2=\"235\" stroke=\"black\" stroke-width=\"2\"><title>Weights from input3 to merge\n merge/kernel:0 has shape (150, 50)\n merge/bias:0 has shape (50,)</title></line><rect x=\"686.5\" y=\"314\" width=\"202\" height=\"52\" style=\"fill:none;stroke:black;stroke-width:2\"/><image id=\"picture-dashboard-Hiding-581194_input3-rotated_24\" class=\"picture-dashboard-Hiding-581194_input3-rotated\" x=\"687.5\" y=\"315\" height=\"50\" width=\"200\" preserveAspectRatio=\"none\" href=\"data:image/gif;base64,R0lGODdhMgABAIcAAH9/fwAAAAAAAAAAAAAAAAAAAAAAAAAAAAAAAAAAAAAAAAAAAAAAAAAAAAAAAAAAAAAAAAAAAAAAAAAAAAAAAAAAAAAAAAAAAAAAAAAAAAAAAAAAAAAAAAAAAAAAAAAAAAAAAAAAAAAAAAAAAAAAAAAAAAAAAAAAAAAAAAAAAAAAAAAAAAAAAAAAAAAAAAAAAAAAAAAAAAAAAAAAAAAAAAAAAAAAAAAAAAAAAAAAAAAAAAAAAAAAAAAAAAAAAAAAAAAAAAAAAAAAAAAAAAAAAAAAAAAAAAAAAAAAAAAAAAAAAAAAAAAAAAAAAAAAAAAAAAAAAAAAAAAAAAAAAAAAAAAAAAAAAAAAAAAAAAAAAAAAAAAAAAAAAAAAAAAAAAAAAAAAAAAAAAAAAAAAAAAAAAAAAAAAAAAAAAAAAAAAAAAAAAAAAAAAAAAAAAAAAAAAAAAAAAAAAAAAAAAAAAAAAAAAAAAAAAAAAAAAAAAAAAAAAAAAAAAAAAAAAAAAAAAAAAAAAAAAAAAAAAAAAAAAAAAAAAAAAAAAAAAAAAAAAAAAAAAAAAAAAAAAAAAAAAAAAAAAAAAAAAAAAAAAAAAAAAAAAAAAAAAAAAAAAAAAAAAAAAAAAAAAAAAAAAAAAAAAAAAAAAAAAAAAAAAAAAAAAAAAAAAAAAAAAAAAAAAAAAAAAAAAAAAAAAAAAAAAAAAAAAAAAAAAAAAAAAAAAAAAAAAAAAAAAAAAAAAAAAAAAAAAAAAAAAAAAAAAAAAAAAAAAAAAAAAAAAAAAAAAAAAAAAAAAAAAAAAAAAAAAAAAAAAAAAAAAAAAAAAAAAAAAAAAAAAAAAAAAAAAAAAAAAAAAAAAAAAAAAAAAAAAAAAAAAAAAAAAAAAAAAAAAAAAAAAAAAAAAAAAAAAAAAAAAAAAAAAAAAAAAAAAAAAAAAAAAAAAAAAAAAAAAAAAAAAAAAAAAAAAAAAAAAAAAAAAAAAAAAAAAAAAAAAAAAAAAAAAAAAAAAAAAAAAAAAAAAAAAAAAACwAAAAAMgABAAAIDgABCBxIsKDBgwgTFgwIADs=\"><title>Layer: input3 (input)\n output range: (-Infinity, +Infinity)\n shape = (50,)\n Keras class = Input</title></image><text x=\"900.5\" y=\"342.0\" font-family=\"monospace\" font-size=\"12\" text-anchor=\"middle\" fill=\"black\" alignment-baseline=\"central\"  transform=\"rotate(-90 900.5 342.0) translate(2)\" >input3</text><text x=\"18\" y=\"195.0\" font-family=\"monospace\" font-size=\"15\" text-anchor=\"middle\" fill=\"black\" alignment-baseline=\"central\"  transform=\"rotate(-90 18 195.0) translate(2)\" >Hiding</text></svg></g></svg></p>"
      }
     },
     "5f2473288bc34f9586e5bb00368af35d": {
      "model_module": "@jupyter-widgets/controls",
      "model_module_version": "1.1.0",
      "model_name": "HBoxModel",
      "state": {
       "children": [
        "IPY_MODEL_2dddf842e86c403eb99c2c54a9236c96",
        "IPY_MODEL_5bfd06379c6a46f9ad8751078b237da4"
       ],
       "layout": "IPY_MODEL_d1ea686fd51b446bb0f62de38ce0a604"
      }
     },
     "5f53a6c5d4a24b4eae67d1ac64a029d3": {
      "model_module": "@jupyter-widgets/controls",
      "model_module_version": "1.1.0",
      "model_name": "IntTextModel",
      "state": {
       "layout": "IPY_MODEL_706355cc84c1464aa0ce62f5fc4b4c25",
       "step": 1,
       "style": "IPY_MODEL_039bdc2a492e42d39fb67e563b386a7b"
      }
     },
     "5fa6a0f4c3864fd9a1628f81d72a0ab5": {
      "model_module": "@jupyter-widgets/controls",
      "model_module_version": "1.1.0",
      "model_name": "DescriptionStyleModel",
      "state": {
       "description_width": ""
      }
     },
     "5fe514a9f2194b39a5681b0cb4f63dbf": {
      "model_module": "@jupyter-widgets/base",
      "model_module_version": "1.0.0",
      "model_name": "LayoutModel",
      "state": {
       "width": "100%"
      }
     },
     "60187c43d8d04a92b4b1e35d1d701374": {
      "model_module": "@jupyter-widgets/base",
      "model_module_version": "1.0.0",
      "model_name": "LayoutModel",
      "state": {
       "width": "10%"
      }
     },
     "6062a70847dd4aeaa06824f573c8b6e8": {
      "model_module": "@jupyter-widgets/base",
      "model_module_version": "1.0.0",
      "model_name": "LayoutModel",
      "state": {}
     },
     "60b87e7b886e4b2da9683f613b0d09af": {
      "model_module": "@jupyter-widgets/controls",
      "model_module_version": "1.1.0",
      "model_name": "FloatTextModel",
      "state": {
       "description": "Feature scale:",
       "layout": "IPY_MODEL_ae1d495aec714d269ee6945494417052",
       "step": null,
       "style": "IPY_MODEL_5db98d69719e4f6d92dfa9a9f12cfb42",
       "value": 1
      }
     },
     "60e996636c1e44f498557d566bafd510": {
      "model_module": "@jupyter-widgets/controls",
      "model_module_version": "1.1.0",
      "model_name": "CheckboxModel",
      "state": {
       "description": "Errors",
       "disabled": false,
       "layout": "IPY_MODEL_eecf988714ef45b6b02b96cebcb84acb",
       "style": "IPY_MODEL_da1863d43f3a4d579d3a2e33a0fc3360",
       "value": false
      }
     },
     "611b891917f046a59f673eded9d51c10": {
      "model_module": "@jupyter-widgets/controls",
      "model_module_version": "1.1.0",
      "model_name": "CheckboxModel",
      "state": {
       "description": "Visible",
       "disabled": false,
       "layout": "IPY_MODEL_a6b32a40bfae4a20b096805f585b71be",
       "style": "IPY_MODEL_f2f6c6e88c16468cbef79c9d6b6d2fb5",
       "value": true
      }
     },
     "61248e6924174304803ffb3c53d063cf": {
      "model_module": "@jupyter-widgets/controls",
      "model_module_version": "1.1.0",
      "model_name": "VBoxModel",
      "state": {
       "children": [
        "IPY_MODEL_ee3967f8a93b4757aac2d41a2862b2df",
        "IPY_MODEL_926523940e4544d787e0c9b598e58cdc",
        "IPY_MODEL_ef5a840b3e5a4cfb94ec90764651289f",
        "IPY_MODEL_94b6513ce9984124a153f340046df530"
       ],
       "layout": "IPY_MODEL_0c8c2641526c402ca0acb9fe67371f31"
      }
     },
     "618c3800c74f425587ff26c7e6ae1b4e": {
      "model_module": "@jupyter-widgets/controls",
      "model_module_version": "1.1.0",
      "model_name": "DescriptionStyleModel",
      "state": {
       "description_width": "initial"
      }
     },
     "61ba629a01f749e3af66daa48c93028f": {
      "model_module": "@jupyter-widgets/base",
      "model_module_version": "1.0.0",
      "model_name": "LayoutModel",
      "state": {
       "width": "100%"
      }
     },
     "61f816a760834593b8e89865c75d1484": {
      "model_module": "@jupyter-widgets/base",
      "model_module_version": "1.0.0",
      "model_name": "LayoutModel",
      "state": {
       "justify_content": "center",
       "overflow_x": "auto",
       "overflow_y": "auto",
       "width": "95%"
      }
     },
     "62aa2a68faf24ca18a3a44ab59c0f48e": {
      "model_module": "@jupyter-widgets/base",
      "model_module_version": "1.0.0",
      "model_name": "LayoutModel",
      "state": {
       "width": "100%"
      }
     },
     "62aa36c7b7124711b616215c53961a94": {
      "model_module": "@jupyter-widgets/controls",
      "model_module_version": "1.1.0",
      "model_name": "ButtonModel",
      "state": {
       "icon": "fast-forward",
       "layout": "IPY_MODEL_5cf46e767133465fb3e2d5a570e7bfdf",
       "style": "IPY_MODEL_1ac70f88b39148daa94dd5d5bbc950de"
      }
     },
     "62c9861104be4fd087e478106dc4211e": {
      "model_module": "@jupyter-widgets/controls",
      "model_module_version": "1.1.0",
      "model_name": "DescriptionStyleModel",
      "state": {
       "description_width": "initial"
      }
     },
     "62d509cd92164079bd0b618f1e5b756c": {
      "model_module": "@jupyter-widgets/controls",
      "model_module_version": "1.1.0",
      "model_name": "CheckboxModel",
      "state": {
       "description": "Rotate network",
       "disabled": false,
       "layout": "IPY_MODEL_4574da63134845b5b6ed9db34467b6d4",
       "style": "IPY_MODEL_4b458d0426bd4963af2cc11d59017ce9",
       "value": true
      }
     },
     "62e1aa502e574e9a82bc7a36dec49986": {
      "model_module": "@jupyter-widgets/controls",
      "model_module_version": "1.1.0",
      "model_name": "DescriptionStyleModel",
      "state": {
       "description_width": ""
      }
     },
     "631461798fd64eba8a4609331f7cb3db": {
      "model_module": "@jupyter-widgets/base",
      "model_module_version": "1.0.0",
      "model_name": "LayoutModel",
      "state": {
       "width": "100%"
      }
     },
     "631dee517d674989b4ca4af6b699ca69": {
      "model_module": "@jupyter-widgets/controls",
      "model_module_version": "1.1.0",
      "model_name": "SelectModel",
      "state": {
       "_options_labels": [
        "",
        "input1",
        "input2"
       ],
       "description": "Features:",
       "index": 0,
       "layout": "IPY_MODEL_919943d842a54fecb5fd5664fbf670eb",
       "rows": 1,
       "style": "IPY_MODEL_4622654bc93d4d22aeb67f5ad9b17235"
      }
     },
     "632a72ebab324d63a7702aca2a27f05e": {
      "model_module": "@jupyter-widgets/base",
      "model_module_version": "1.0.0",
      "model_name": "LayoutModel",
      "state": {
       "width": "100%"
      }
     },
     "635a7e6f893e42259dd4ed72e4507924": {
      "model_module": "@jupyter-widgets/controls",
      "model_module_version": "1.1.0",
      "model_name": "HBoxModel",
      "state": {
       "children": [
        "IPY_MODEL_c98458af96df4a7aad55804da5425684",
        "IPY_MODEL_8533ff4fe3074db78fd48b0b5f474862"
       ],
       "layout": "IPY_MODEL_4967be7744074f20ae688daae4eacd73"
      }
     },
     "636241102dc54c8fae0bd4daa720f45a": {
      "model_module": "@jupyter-widgets/controls",
      "model_module_version": "1.1.0",
      "model_name": "DescriptionStyleModel",
      "state": {
       "description_width": "initial"
      }
     },
     "6363e6daea8140fc804d27fa8b6d060d": {
      "model_module": "@jupyter-widgets/controls",
      "model_module_version": "1.1.0",
      "model_name": "HBoxModel",
      "state": {
       "children": [
        "IPY_MODEL_99ce6103aac741b69b9992881bbe7705",
        "IPY_MODEL_996943a423414ec58fb7361bd9349b49"
       ],
       "layout": "IPY_MODEL_419346c9fa98473d9e8451cfec66b92d"
      }
     },
     "636451987f8947478560fc1573347e1a": {
      "model_module": "@jupyter-widgets/base",
      "model_module_version": "1.0.0",
      "model_name": "LayoutModel",
      "state": {}
     },
     "63a2b254550640ffa20b76ce9fa41879": {
      "model_module": "@jupyter-widgets/controls",
      "model_module_version": "1.1.0",
      "model_name": "VBoxModel",
      "state": {
       "children": [
        "IPY_MODEL_48a54afc04294b6388c02ae40313da92",
        "IPY_MODEL_f0a7f9aa81a74b4d958463d87667d95b",
        "IPY_MODEL_48945249f37e4cf6a3a0ffed271f2f5c",
        "IPY_MODEL_54ae9574c0a14e5ea76ca48cccaafa46",
        "IPY_MODEL_4996145559c24232bda40550868e00ab",
        "IPY_MODEL_8555bd04d0754dd6b5de9af8fb477466",
        "IPY_MODEL_14dcb5925f554b048178de72b60b9e3d",
        "IPY_MODEL_8c91cf82ef2e441cb75ece5bbf0ae3a1"
       ],
       "layout": "IPY_MODEL_5fe514a9f2194b39a5681b0cb4f63dbf"
      }
     },
     "63d8e21f88f74b0a97d044375df27771": {
      "model_module": "@jupyter-widgets/base",
      "model_module_version": "1.0.0",
      "model_name": "LayoutModel",
      "state": {
       "width": "100%"
      }
     },
     "646b8d9017044fd88dc41e0b856087ca": {
      "model_module": "@jupyter-widgets/base",
      "model_module_version": "1.0.0",
      "model_name": "LayoutModel",
      "state": {}
     },
     "649492f2c3a04985b051e1ca3c9a20d6": {
      "model_module": "@jupyter-widgets/base",
      "model_module_version": "1.0.0",
      "model_name": "LayoutModel",
      "state": {
       "width": "100%"
      }
     },
     "64b51edf647340a5a2f21cbdae4382ca": {
      "model_module": "@jupyter-widgets/controls",
      "model_module_version": "1.1.0",
      "model_name": "ButtonModel",
      "state": {
       "icon": "save",
       "layout": "IPY_MODEL_5a07695c603246f1b5e0c4eef4586116",
       "style": "IPY_MODEL_c7422579a6ba46deba2bb78d96c64bd1"
      }
     },
     "64bf41c9040b4e68b4a2f418b74d1c96": {
      "model_module": "@jupyter-widgets/base",
      "model_module_version": "1.0.0",
      "model_name": "LayoutModel",
      "state": {}
     },
     "64e47b1c718a4bc9bcce08f7a85f4baa": {
      "model_module": "@jupyter-widgets/controls",
      "model_module_version": "1.1.0",
      "model_name": "HTMLModel",
      "state": {
       "layout": "IPY_MODEL_44d58fe016154c8aa7233f1d363f946f",
       "style": "IPY_MODEL_fbca977cd8ec4c119cd6b0c4285e8a07",
       "value": "<img src=\"data:image/gif;base64,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\"/>"
      }
     },
     "65144ecd9bfb4f62baeeb3d6c75b61c2": {
      "model_module": "@jupyter-widgets/controls",
      "model_module_version": "1.1.0",
      "model_name": "FloatTextModel",
      "state": {
       "description": "Feature scale:",
       "layout": "IPY_MODEL_a420489d4a714a44bd95dacdf19ed868",
       "step": null,
       "style": "IPY_MODEL_2aed8f2d9ad144a591eb0061ac6f1d86",
       "value": 1
      }
     },
     "65a4e49c14d24013a7a7710940b958b4": {
      "model_module": "@jupyter-widgets/base",
      "model_module_version": "1.0.0",
      "model_name": "LayoutModel",
      "state": {}
     },
     "65b5d6a0b1aa4b7f91bf02e295a07ca5": {
      "model_module": "@jupyter-widgets/controls",
      "model_module_version": "1.1.0",
      "model_name": "ButtonStyleModel",
      "state": {}
     },
     "66308a4e44834bb3a020593e8eafe6e3": {
      "model_module": "@jupyter-widgets/controls",
      "model_module_version": "1.1.0",
      "model_name": "SelectModel",
      "state": {
       "_options_labels": [
        "",
        "input1",
        "input2"
       ],
       "description": "Features:",
       "index": 0,
       "layout": "IPY_MODEL_72436d44aee44473bcc38e3f482fdbdf",
       "rows": 1,
       "style": "IPY_MODEL_daf3d6ca723946729746b445144719d8"
      }
     },
     "667a6a63773449e39c591c0bf661fae9": {
      "model_module": "@jupyter-widgets/controls",
      "model_module_version": "1.1.0",
      "model_name": "DescriptionStyleModel",
      "state": {
       "description_width": "initial"
      }
     },
     "66f1e945262c423a8cc48cfeceff6025": {
      "model_module": "@jupyter-widgets/controls",
      "model_module_version": "1.1.0",
      "model_name": "VBoxModel",
      "state": {
       "children": [
        "IPY_MODEL_0c49dda8af5c4558a83765a714777f82",
        "IPY_MODEL_847c898034794135968d4f8b209b5644",
        "IPY_MODEL_39f3f7c26b914fa48a60ee44615837be",
        "IPY_MODEL_0ab97613d6974e0e8fa1810562575a1b",
        "IPY_MODEL_6b97c0af2ed7436f9d3b1dd2b3b55d3b",
        "IPY_MODEL_196e165713ab471ca01c1d15e55f5487",
        "IPY_MODEL_78ecea8cf5974e339f2bde98eb2a2205",
        "IPY_MODEL_6f2912b73fc9487ebef794e641abb00c"
       ],
       "layout": "IPY_MODEL_440c61f6a50a4fc294e28ffc4d561052"
      }
     },
     "66ff8d6a70544db590b437f30464b813": {
      "model_module": "@jupyter-widgets/controls",
      "model_module_version": "1.1.0",
      "model_name": "ButtonModel",
      "state": {
       "icon": "backward",
       "layout": "IPY_MODEL_b1e9e5f034ba4d4e98d8c5eb734088db",
       "style": "IPY_MODEL_a2efe0ca5300486092b8cdc6dd838f80"
      }
     },
     "6757b61b594d499b8b4a42c6a4b4115e": {
      "model_module": "@jupyter-widgets/controls",
      "model_module_version": "1.1.0",
      "model_name": "DescriptionStyleModel",
      "state": {
       "description_width": "initial"
      }
     },
     "679673409eb94d6e94b81806e9fa9bbb": {
      "model_module": "@jupyter-widgets/controls",
      "model_module_version": "1.1.0",
      "model_name": "FloatTextModel",
      "state": {
       "description": "Rightmost color maps to:",
       "layout": "IPY_MODEL_834563aad1a44c258bbeb42527591f3c",
       "step": null,
       "style": "IPY_MODEL_2597fd07beb24e2d81d577979a513e10",
       "value": 1
      }
     },
     "67e14ba163374548917daa4f5bc4f0ea": {
      "model_module": "@jupyter-widgets/controls",
      "model_module_version": "1.1.0",
      "model_name": "ButtonStyleModel",
      "state": {}
     },
     "67e3f83104b74aa182b1dc1ec94ae77b": {
      "model_module": "@jupyter-widgets/controls",
      "model_module_version": "1.1.0",
      "model_name": "CheckboxModel",
      "state": {
       "description": "Errors",
       "disabled": false,
       "layout": "IPY_MODEL_7e14b30f05d74e0a8267466e6bfb2f45",
       "style": "IPY_MODEL_e29ece6c7a174086af0a41ddada2cd2e",
       "value": false
      }
     },
     "67e50c55caa341d38294f2c40858c0f2": {
      "model_module": "@jupyter-widgets/base",
      "model_module_version": "1.0.0",
      "model_name": "LayoutModel",
      "state": {}
     },
     "6821cc4efb404774befae588c93b0ba1": {
      "model_module": "@jupyter-widgets/controls",
      "model_module_version": "1.1.0",
      "model_name": "CheckboxModel",
      "state": {
       "description": "Visible",
       "disabled": false,
       "layout": "IPY_MODEL_90de29ae74eb41418e354aa7a12374bf",
       "style": "IPY_MODEL_95a418794d2240388c4a9625eff13ed5",
       "value": true
      }
     },
     "6830450ed6514e6ba5b76d983fe9df9f": {
      "model_module": "@jupyter-widgets/controls",
      "model_module_version": "1.1.0",
      "model_name": "ButtonModel",
      "state": {
       "icon": "fast-backward",
       "layout": "IPY_MODEL_62aa2a68faf24ca18a3a44ab59c0f48e",
       "style": "IPY_MODEL_89ff102b44f248a990ad512be73a7c52"
      }
     },
     "688483f63611489b9cbec47edfb26f0a": {
      "model_module": "@jupyter-widgets/base",
      "model_module_version": "1.0.0",
      "model_name": "LayoutModel",
      "state": {
       "height": "50px",
       "width": "100%"
      }
     },
     "6890bbf4bb774af9bc2b657d814d4cfc": {
      "model_module": "@jupyter-widgets/controls",
      "model_module_version": "1.1.0",
      "model_name": "DescriptionStyleModel",
      "state": {
       "description_width": ""
      }
     },
     "6931db515ea942bab16a6355e5303f88": {
      "model_module": "@jupyter-widgets/base",
      "model_module_version": "1.0.0",
      "model_name": "LayoutModel",
      "state": {
       "width": "100%"
      }
     },
     "697efc9633824fff844a9be573e18c39": {
      "model_module": "@jupyter-widgets/controls",
      "model_module_version": "1.1.0",
      "model_name": "DescriptionStyleModel",
      "state": {
       "description_width": ""
      }
     },
     "69d0d8789b3d49af942ea94c6c1acb80": {
      "model_module": "@jupyter-widgets/base",
      "model_module_version": "1.0.0",
      "model_name": "LayoutModel",
      "state": {}
     },
     "6a205843ae864fa7947ff0b0c04c6cb8": {
      "model_module": "@jupyter-widgets/controls",
      "model_module_version": "1.1.0",
      "model_name": "HBoxModel",
      "state": {
       "children": [
        "IPY_MODEL_ceccb72810b547ab86676dff9aeda2d7",
        "IPY_MODEL_08d1985e067d479b8d4d6d061c6674c4"
       ],
       "layout": "IPY_MODEL_3505692e7f7c43acbb5d3caca1cbc17c"
      }
     },
     "6a26d128bc7649d780f1e4aa1a3cc9b0": {
      "model_module": "@jupyter-widgets/base",
      "model_module_version": "1.0.0",
      "model_name": "LayoutModel",
      "state": {
       "height": "50px",
       "width": "100%"
      }
     },
     "6a29d6cef81645c685933a2184c6d66a": {
      "model_module": "@jupyter-widgets/base",
      "model_module_version": "1.0.0",
      "model_name": "LayoutModel",
      "state": {
       "width": "25%"
      }
     },
     "6a5428d224484c908c35e263aecd914d": {
      "model_module": "@jupyter-widgets/controls",
      "model_module_version": "1.1.0",
      "model_name": "DescriptionStyleModel",
      "state": {
       "description_width": ""
      }
     },
     "6a69ca14f9024f4797a450d2f0d49f51": {
      "model_module": "@jupyter-widgets/controls",
      "model_module_version": "1.1.0",
      "model_name": "DescriptionStyleModel",
      "state": {
       "description_width": ""
      }
     },
     "6a70c17a630d41eeb0a020e120a6962a": {
      "model_module": "@jupyter-widgets/controls",
      "model_module_version": "1.1.0",
      "model_name": "CheckboxModel",
      "state": {
       "description": "Rotate network",
       "disabled": false,
       "layout": "IPY_MODEL_3ac27c5f903a4d869c2c0ff8c3d6a9b3",
       "style": "IPY_MODEL_894c8e755190443ca5db8429fea13369",
       "value": false
      }
     },
     "6ad02cdd39c941a7a72d716912d0a2bc": {
      "model_module": "@jupyter-widgets/controls",
      "model_module_version": "1.1.0",
      "model_name": "FloatTextModel",
      "state": {
       "description": "Rightmost color maps to:",
       "layout": "IPY_MODEL_2f524406429e4650827b91c0a3a90701",
       "step": null,
       "style": "IPY_MODEL_176a295a6857478c8ee72d42d4f6bd87",
       "value": 2
      }
     },
     "6ae51752be114735be8e5cd0e44db96e": {
      "model_module": "@jupyter-widgets/controls",
      "model_module_version": "1.1.0",
      "model_name": "ButtonModel",
      "state": {
       "description": "Play",
       "icon": "play",
       "layout": "IPY_MODEL_9e39fcb6767047d680b495aeadfa79e5",
       "style": "IPY_MODEL_01811f497cdd4a2f9e5a12a86f585204"
      }
     },
     "6aff4bab65ba4580a78fd6b4623b263c": {
      "model_module": "@jupyter-widgets/controls",
      "model_module_version": "1.1.0",
      "model_name": "HTMLModel",
      "state": {
       "layout": "IPY_MODEL_fd71941b82584158a221f31be4370737",
       "style": "IPY_MODEL_6dd110a3d6a84603b87d3b4ca46b2b40",
       "value": "<img src=\"data:image/gif;base64,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\"/>"
      }
     },
     "6b245147dfc149c9947dddd69fefda2d": {
      "model_module": "@jupyter-widgets/base",
      "model_module_version": "1.0.0",
      "model_name": "LayoutModel",
      "state": {}
     },
     "6b49826835eb4dfea7511d8ca89278d5": {
      "model_module": "@jupyter-widgets/base",
      "model_module_version": "1.0.0",
      "model_name": "LayoutModel",
      "state": {
       "width": "100%"
      }
     },
     "6b97c0af2ed7436f9d3b1dd2b3b55d3b": {
      "model_module": "@jupyter-widgets/controls",
      "model_module_version": "1.1.0",
      "model_name": "HBoxModel",
      "state": {
       "children": [
        "IPY_MODEL_028d7a5dcf9f4ec694bd73b6d71bbbaf",
        "IPY_MODEL_52e4ce85144b4c4ca6221de0e3162264"
       ],
       "layout": "IPY_MODEL_f817c7851a674b208e42727a76eaf878"
      }
     },
     "6c13feb3e9834214a91d221df4bd0b4d": {
      "model_module": "@jupyter-widgets/base",
      "model_module_version": "1.0.0",
      "model_name": "LayoutModel",
      "state": {}
     },
     "6da2c91e30e441cdbbdb0b2e7622c198": {
      "model_module": "@jupyter-widgets/controls",
      "model_module_version": "1.1.0",
      "model_name": "DescriptionStyleModel",
      "state": {
       "description_width": "initial"
      }
     },
     "6dc8779ab1ad41348d4bf9b370a077d1": {
      "model_module": "@jupyter-widgets/controls",
      "model_module_version": "1.1.0",
      "model_name": "ButtonStyleModel",
      "state": {}
     },
     "6dd110a3d6a84603b87d3b4ca46b2b40": {
      "model_module": "@jupyter-widgets/controls",
      "model_module_version": "1.1.0",
      "model_name": "DescriptionStyleModel",
      "state": {
       "description_width": ""
      }
     },
     "6ddc9c69ce174736a5cae032e9a721d4": {
      "model_module": "@jupyter-widgets/controls",
      "model_module_version": "1.1.0",
      "model_name": "ButtonModel",
      "state": {
       "icon": "forward",
       "layout": "IPY_MODEL_adcf4449ba8c47e3a254a17316182f20",
       "style": "IPY_MODEL_b6d340e52ae146b8a99dd50cf2da6e5a"
      }
     },
     "6e08a654c3744669979e89e998ca4000": {
      "model_module": "@jupyter-widgets/controls",
      "model_module_version": "1.1.0",
      "model_name": "AccordionModel",
      "state": {
       "_titles": {
        "0": "Finger Math"
       },
       "children": [
        "IPY_MODEL_acb567b3e45a4942be2c05a3364d6556"
       ],
       "layout": "IPY_MODEL_18e65d093b4e411aac3ddfbf528ee7c2",
       "selected_index": null
      }
     },
     "6e0c52f52ce54d5699e7e4e1e261ded2": {
      "model_module": "@jupyter-widgets/base",
      "model_module_version": "1.0.0",
      "model_name": "LayoutModel",
      "state": {
       "width": "100%"
      }
     },
     "6e9b768259a64b56a7c950c00d083b09": {
      "model_module": "@jupyter-widgets/controls",
      "model_module_version": "1.1.0",
      "model_name": "DescriptionStyleModel",
      "state": {
       "description_width": ""
      }
     },
     "6f20e04d4fa941e99faa31e47c960a6b": {
      "model_module": "@jupyter-widgets/base",
      "model_module_version": "1.0.0",
      "model_name": "LayoutModel",
      "state": {}
     },
     "6f2912b73fc9487ebef794e641abb00c": {
      "model_module": "@jupyter-widgets/controls",
      "model_module_version": "1.1.0",
      "model_name": "FloatTextModel",
      "state": {
       "description": "Feature scale:",
       "layout": "IPY_MODEL_d68d8b4b7ad04050b3552d6aa2eb70a1",
       "step": null,
       "style": "IPY_MODEL_7898e4103dfb49ac838cf484a9689cb4",
       "value": 1
      }
     },
     "6fbe4f812e494d73a1e1692f472bb300": {
      "model_module": "@jupyter-widgets/controls",
      "model_module_version": "1.1.0",
      "model_name": "DescriptionStyleModel",
      "state": {
       "description_width": "initial"
      }
     },
     "6fe4c98eacb64d4792ab5c3d05b4b5e1": {
      "model_module": "@jupyter-widgets/controls",
      "model_module_version": "1.1.0",
      "model_name": "VBoxModel",
      "state": {
       "children": [
        "IPY_MODEL_dacec3d284304fa691ea38a60e9819a3",
        "IPY_MODEL_08c03a741a094f21a43dd23ead4bb8d2",
        "IPY_MODEL_5a07f16808114627a689d51ebe9f16c0",
        "IPY_MODEL_dd178d3009d5492b91c4c97a147be7af"
       ],
       "layout": "IPY_MODEL_646b8d9017044fd88dc41e0b856087ca"
      }
     },
     "7043cd6b264641d2aab54174ca6fb69c": {
      "model_module": "@jupyter-widgets/controls",
      "model_module_version": "1.1.0",
      "model_name": "AccordionModel",
      "state": {
       "_titles": {
        "0": "Finger Math"
       },
       "children": [
        "IPY_MODEL_9f176a3ac5af4a2ab2d5c72ebd6a3b46"
       ],
       "layout": "IPY_MODEL_636451987f8947478560fc1573347e1a",
       "selected_index": null
      }
     },
     "704c602cb84840ff8c39b32832e08b07": {
      "model_module": "@jupyter-widgets/base",
      "model_module_version": "1.0.0",
      "model_name": "LayoutModel",
      "state": {
       "width": "100%"
      }
     },
     "705e2944d0e04afbaba170a44685c175": {
      "model_module": "@jupyter-widgets/controls",
      "model_module_version": "1.1.0",
      "model_name": "DescriptionStyleModel",
      "state": {
       "description_width": "initial"
      }
     },
     "706355cc84c1464aa0ce62f5fc4b4c25": {
      "model_module": "@jupyter-widgets/base",
      "model_module_version": "1.0.0",
      "model_name": "LayoutModel",
      "state": {
       "width": "100%"
      }
     },
     "706a710e8821472395e68d2c1d4b3b3b": {
      "model_module": "@jupyter-widgets/controls",
      "model_module_version": "1.1.0",
      "model_name": "DescriptionStyleModel",
      "state": {
       "description_width": "initial"
      }
     },
     "70c78d86c7f04b3db6914f50197d22a9": {
      "model_module": "@jupyter-widgets/controls",
      "model_module_version": "1.1.0",
      "model_name": "DescriptionStyleModel",
      "state": {
       "description_width": ""
      }
     },
     "715a072d1d034f339cdc95e2a6458e03": {
      "model_module": "@jupyter-widgets/controls",
      "model_module_version": "1.1.0",
      "model_name": "DescriptionStyleModel",
      "state": {
       "description_width": "initial"
      }
     },
     "71947f48a56e4312afbd8f8783804ed1": {
      "model_module": "@jupyter-widgets/controls",
      "model_module_version": "1.1.0",
      "model_name": "ButtonStyleModel",
      "state": {}
     },
     "71d3f1361837467783e5eaf7b697f17e": {
      "model_module": "@jupyter-widgets/controls",
      "model_module_version": "1.1.0",
      "model_name": "SelectModel",
      "state": {
       "_options_labels": [
        "",
        "Accent",
        "Accent_r",
        "Blues",
        "Blues_r",
        "BrBG",
        "BrBG_r",
        "BuGn",
        "BuGn_r",
        "BuPu",
        "BuPu_r",
        "CMRmap",
        "CMRmap_r",
        "Dark2",
        "Dark2_r",
        "GnBu",
        "GnBu_r",
        "Greens",
        "Greens_r",
        "Greys",
        "Greys_r",
        "OrRd",
        "OrRd_r",
        "Oranges",
        "Oranges_r",
        "PRGn",
        "PRGn_r",
        "Paired",
        "Paired_r",
        "Pastel1",
        "Pastel1_r",
        "Pastel2",
        "Pastel2_r",
        "PiYG",
        "PiYG_r",
        "PuBu",
        "PuBuGn",
        "PuBuGn_r",
        "PuBu_r",
        "PuOr",
        "PuOr_r",
        "PuRd",
        "PuRd_r",
        "Purples",
        "Purples_r",
        "RdBu",
        "RdBu_r",
        "RdGy",
        "RdGy_r",
        "RdPu",
        "RdPu_r",
        "RdYlBu",
        "RdYlBu_r",
        "RdYlGn",
        "RdYlGn_r",
        "Reds",
        "Reds_r",
        "Set1",
        "Set1_r",
        "Set2",
        "Set2_r",
        "Set3",
        "Set3_r",
        "Spectral",
        "Spectral_r",
        "Vega10",
        "Vega10_r",
        "Vega20",
        "Vega20_r",
        "Vega20b",
        "Vega20b_r",
        "Vega20c",
        "Vega20c_r",
        "Wistia",
        "Wistia_r",
        "YlGn",
        "YlGnBu",
        "YlGnBu_r",
        "YlGn_r",
        "YlOrBr",
        "YlOrBr_r",
        "YlOrRd",
        "YlOrRd_r",
        "afmhot",
        "afmhot_r",
        "autumn",
        "autumn_r",
        "binary",
        "binary_r",
        "bone",
        "bone_r",
        "brg",
        "brg_r",
        "bwr",
        "bwr_r",
        "cool",
        "cool_r",
        "coolwarm",
        "coolwarm_r",
        "copper",
        "copper_r",
        "cubehelix",
        "cubehelix_r",
        "flag",
        "flag_r",
        "gist_earth",
        "gist_earth_r",
        "gist_gray",
        "gist_gray_r",
        "gist_heat",
        "gist_heat_r",
        "gist_ncar",
        "gist_ncar_r",
        "gist_rainbow",
        "gist_rainbow_r",
        "gist_stern",
        "gist_stern_r",
        "gist_yarg",
        "gist_yarg_r",
        "gnuplot",
        "gnuplot2",
        "gnuplot2_r",
        "gnuplot_r",
        "gray",
        "gray_r",
        "hot",
        "hot_r",
        "hsv",
        "hsv_r",
        "inferno",
        "inferno_r",
        "jet",
        "jet_r",
        "magma",
        "magma_r",
        "nipy_spectral",
        "nipy_spectral_r",
        "ocean",
        "ocean_r",
        "pink",
        "pink_r",
        "plasma",
        "plasma_r",
        "prism",
        "prism_r",
        "rainbow",
        "rainbow_r",
        "seismic",
        "seismic_r",
        "spectral",
        "spectral_r",
        "spring",
        "spring_r",
        "summer",
        "summer_r",
        "tab10",
        "tab10_r",
        "tab20",
        "tab20_r",
        "tab20b",
        "tab20b_r",
        "tab20c",
        "tab20c_r",
        "terrain",
        "terrain_r",
        "viridis",
        "viridis_r",
        "winter",
        "winter_r"
       ],
       "description": "Colormap:",
       "index": 0,
       "layout": "IPY_MODEL_3c71e01bc0fc4895a6869de7e0f8bf6f",
       "rows": 1,
       "style": "IPY_MODEL_7408ff9062324c51a82a2cf005760113"
      }
     },
     "720ea125442b48fc8bc2f37c34061517": {
      "model_module": "@jupyter-widgets/controls",
      "model_module_version": "1.1.0",
      "model_name": "DescriptionStyleModel",
      "state": {
       "description_width": "initial"
      }
     },
     "723e1d1afb88488c9aa0ecfad891f30a": {
      "model_module": "@jupyter-widgets/controls",
      "model_module_version": "1.1.0",
      "model_name": "HTMLModel",
      "state": {
       "layout": "IPY_MODEL_10c1f6229ea4473b8aa70e5408d8ee62",
       "style": "IPY_MODEL_fc29d585850b4fa68afda6d06249f5b6",
       "value": "<p style=\"text-align:center\"><svg id='Finger Math' xmlns='http://www.w3.org/2000/svg' image-rendering=\"pixelated\" width=\"640.0000000000001px\" height=\"352.00000000000006px\">\n <g >\n  <svg viewBox=\"0 0 1000 550\" width=\"640.0000000000001px\" height=\"352.00000000000006px\">\n    <defs>\n        <marker id=\"arrow\" markerWidth=\"10\" markerHeight=\"10\" refX=\"9\" refY=\"3\" orient=\"auto\" markerUnits=\"strokeWidth\">\n          <path d=\"M0,0 L0,6 L9,3 z\" fill=\"black\" />\n        </marker>\n    </defs><rect x=\"399.0\" y=\"24\" width=\"202\" height=\"52\" style=\"fill:none;stroke:black;stroke-width:2\"/><image id=\"picture-dashboard-Finger Math-830055_output_targets_7\" class=\"picture-dashboard-Finger Math-830055_output_targets\" x=\"400.0\" y=\"25\" height=\"50\" width=\"200\" preserveAspectRatio=\"none\" href=\"data:image/gif;base64,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\"><title>Layer: output (output)\n output range: (0, 1)\n shape = (11,)\n Keras class = Dense\n activation = softmax</title></image><text x=\"605.0\" y=\"52.0\" font-family=\"monospace\" font-size=\"12\" text-anchor=\"start\" fill=\"black\" alignment-baseline=\"central\" >targets</text><line x1=\"250.0\" y1=\"80\" x2=\"750.0\" y2=\"80\" stroke=\"green\" stroke-width=\"2\"><title></title></line><rect x=\"399.0\" y=\"84\" width=\"202\" height=\"52\" style=\"fill:none;stroke:black;stroke-width:2\"/><image id=\"picture-dashboard-Finger Math-830055_output_7\" class=\"picture-dashboard-Finger Math-830055_output\" x=\"400.0\" y=\"85\" height=\"50\" width=\"200\" preserveAspectRatio=\"none\" href=\"data:image/gif;base64,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\"><title>Layer: output (output)\n output range: (0, 1)\n shape = (11,)\n Keras class = Dense\n activation = softmax</title></image><text x=\"605.0\" y=\"112.0\" font-family=\"monospace\" font-size=\"12\" text-anchor=\"start\" fill=\"black\" alignment-baseline=\"central\" >output</text><line x1=\"500.0\" y1=\"164\" x2=\"500.0\" y2=\"137\" stroke=\"black\" stroke-width=\"2\" marker-end=\"url(#arrow)\"><title>Weights from hidden to output\n output/kernel:0 has shape (100, 11)\n output/bias:0 has shape (11,)</title></line><rect x=\"399.0\" y=\"164\" width=\"202\" height=\"52\" style=\"fill:none;stroke:black;stroke-width:2\"/><image id=\"picture-dashboard-Finger Math-830055_hidden_8\" class=\"picture-dashboard-Finger Math-830055_hidden\" x=\"400.0\" y=\"165\" height=\"50\" width=\"200\" preserveAspectRatio=\"none\" href=\"data:image/gif;base64,R0lGODdhZAABAIcAAH8AAO0AALIAAMwAAP85Ofb2/y0t/48AAImJ/6ur/8XF/wAA0hgY/52d//8ZGf8oKP9BQQAAAAAAAAAAAAAAAAAAAAAAAAAAAAAAAAAAAAAAAAAAAAAAAAAAAAAAAAAAAAAAAAAAAAAAAAAAAAAAAAAAAAAAAAAAAAAAAAAAAAAAAAAAAAAAAAAAAAAAAAAAAAAAAAAAAAAAAAAAAAAAAAAAAAAAAAAAAAAAAAAAAAAAAAAAAAAAAAAAAAAAAAAAAAAAAAAAAAAAAAAAAAAAAAAAAAAAAAAAAAAAAAAAAAAAAAAAAAAAAAAAAAAAAAAAAAAAAAAAAAAAAAAAAAAAAAAAAAAAAAAAAAAAAAAAAAAAAAAAAAAAAAAAAAAAAAAAAAAAAAAAAAAAAAAAAAAAAAAAAAAAAAAAAAAAAAAAAAAAAAAAAAAAAAAAAAAAAAAAAAAAAAAAAAAAAAAAAAAAAAAAAAAAAAAAAAAAAAAAAAAAAAAAAAAAAAAAAAAAAAAAAAAAAAAAAAAAAAAAAAAAAAAAAAAAAAAAAAAAAAAAAAAAAAAAAAAAAAAAAAAAAAAAAAAAAAAAAAAAAAAAAAAAAAAAAAAAAAAAAAAAAAAAAAAAAAAAAAAAAAAAAAAAAAAAAAAAAAAAAAAAAAAAAAAAAAAAAAAAAAAAAAAAAAAAAAAAAAAAAAAAAAAAAAAAAAAAAAAAAAAAAAAAAAAAAAAAAAAAAAAAAAAAAAAAAAAAAAAAAAAAAAAAAAAAAAAAAAAAAAAAAAAAAAAAAAAAAAAAAAAAAAAAAAAAAAAAAAAAAAAAAAAAAAAAAAAAAAAAAAAAAAAAAAAAAAAAAAAAAAAAAAAAAAAAAAAAAAAAAAAAAAAAAAAAAAAAAAAAAAAAAAAAAAAAAAAAAAAAAAAAAAAAAAAAAAAAAAAAAAAAAAAAAAAAAAAAAAAAAAAAAAAAAAAAAAAAAAAAAAAAAAAAAAAAAAAAAAAAAAAAAAAAAAAAAAAAAAAAAAAAAAAAAAAAAAAAACwAAAAAZAABAAAIYgADKABAsCAAAgAKAACAAACAAQAYCABAEYABABgBGADAUQCAjwAGCAAAAAEAAAQWAFiZAEAAADAVAHggoACAAgACHAAQAACAAACCAhhAIAGEAAAEAFjqAIBTpwcASG0AoGpAADs=\"><title>Layer: hidden (hidden)\n output range: (0, +Infinity)\n shape = (100,)\n Keras class = Dense\n activation = relu</title></image><text x=\"605.0\" y=\"192.0\" font-family=\"monospace\" font-size=\"12\" text-anchor=\"start\" fill=\"black\" alignment-baseline=\"central\" >hidden</text><line x1=\"333.3333333333333\" y1=\"244\" x2=\"500.0\" y2=\"217\" stroke=\"black\" stroke-width=\"2\" marker-end=\"url(#arrow)\"><title>Weights from flatten1 to hidden\n hidden/kernel:0 has shape (7200, 100)\n hidden/bias:0 has shape (100,)</title></line><rect x=\"232.33333333333331\" y=\"244\" width=\"202\" height=\"52\" style=\"fill:none;stroke:black;stroke-width:2\"/><image id=\"picture-dashboard-Finger Math-830055_flatten1_9\" class=\"picture-dashboard-Finger Math-830055_flatten1\" x=\"233.33333333333331\" y=\"245\" height=\"50\" width=\"200\" preserveAspectRatio=\"none\" href=\"data:image/gif;base64,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\"><title>Layer: flatten1 (hidden)\n output range: (0.0, 0.8666667)\n Keras class = Flatten</title></image><text x=\"438.3333333333333\" y=\"272.0\" font-family=\"monospace\" font-size=\"12\" text-anchor=\"start\" fill=\"black\" alignment-baseline=\"central\" >flatten1</text><line x1=\"666.6666666666666\" y1=\"244\" x2=\"500.0\" y2=\"217\" stroke=\"black\" stroke-width=\"2\" marker-end=\"url(#arrow)\"><title>Weights from flatten2 to hidden\n hidden/kernel:0 has shape (7200, 100)\n hidden/bias:0 has shape (100,)</title></line><rect x=\"565.6666666666666\" y=\"244\" width=\"202\" height=\"52\" style=\"fill:none;stroke:black;stroke-width:2\"/><image id=\"picture-dashboard-Finger Math-830055_flatten2_10\" class=\"picture-dashboard-Finger Math-830055_flatten2\" x=\"566.6666666666666\" y=\"245\" height=\"50\" width=\"200\" preserveAspectRatio=\"none\" href=\"data:image/gif;base64,R0lGODdhEA4BAIcAAKenp5iYmLOzs4iIiHl5eTc3NxYWFicnJ0dHR1dXV2hoaAoKCsDAwAAAAAAAAAAAAAAAAAAAAAAAAAAAAAAAAAAAAAAAAAAAAAAAAAAAAAAAAAAAAAAAAAAAAAAAAAAAAAAAAAAAAAAAAAAAAAAAAAAAAAAAAAAAAAAAAAAAAAAAAAAAAAAAAAAAAAAAAAAAAAAAAAAAAAAAAAAAAAAAAAAAAAAAAAAAAAAAAAAAAAAAAAAAAAAAAAAAAAAAAAAAAAAAAAAAAAAAAAAAAAAAAAAAAAAAAAAAAAAAAAAAAAAAAAAAAAAAAAAAAAAAAAAAAAAAAAAAAAAAAAAAAAAAAAAAAAAAAAAAAAAAAAAAAAAAAAAAAAAAAAAAAAAAAAAAAAAAAAAAAAAAAAAAAAAAAAAAAAAAAAAAAAAAAAAAAAAAAAAAAAAAAAAAAAAAAAAAAAAAAAAAAAAAAAAAAAAAAAAAAAAAAAAAAAAAAAAAAAAAAAAAAAAAAAAAAAAAAAAAAAAAAAAAAAAAAAAAAAAAAAAAAAAAAAAAAAAAAAAAAAAAAAAAAAAAAAAAAAAAAAAAAAAAAAAAAAAAAAAAAAAAAAAAAAAAAAAAAAAAAAAAAAAAAAAAAAAAAAAAAAAAAAAAAAAAAAAAAAAAAAAAAAAAAAAAAAAAAAAAAAAAAAAAAAAAAAAAAAAAAAAAAAAAAAAAAAAAAAAAAAAAAAAAAAAAAAAAAAAAAAAAAAAAAAAAAAAAAAAAAAAAAAAAAAAAAAAAAAAAAAAAAAAAAAAAAAAAAAAAAAAAAAAAAAAAAAAAAAAAAAAAAAAAAAAAAAAAAAAAAAAAAAAAAAAAAAAAAAAAAAAAAAAAAAAAAAAAAAAAAAAAAAAAAAAAAAAAAAAAAAAAAAAAAAAAAAAAAAAAAAAAAAAAAAAAAAAAAAAAAAAAAAAAAAAAAAAAAAAAAAAAAAAAAAAAAAAAAAAAAAAAAAAAAAAAAAAAAAAAAAAAAAAAAAAAAAAAAAAAAAAAAAAAAAAAACwAAAAAEA4BAAAI/wAFDCAgYMAAAAMIABgwIMCAAQEGEAgwYECAAQMCDBgQIMCAACABBAgAIEAAAAECAAAQAACAAABiCgAAQAAAAAIAABAAAIAAAEABBBAAIACAo0iPBgAQIACAAAEABJhKNcCAAAMGBBgwIMCAAQEGDAgwgECAAQQCDCAAYAABAQMIABgwAMAAAgAGEAgwYECAAQMCDBgQYMCAAAEGBFgMIEAAAAECAAAQAACAAAAyCwAAQAAAAAIAABAAAIAAAAAEAAAgAAAAAQAACABAu7btAAAABAAQIACAAAEABBhOPMCAAAEGBBgwIMCAAQEGEAgwgECAAQQCDCAAYAABAAMGBP8YMCDAgAEBBgwIMGBAgAADAsgHECAAgAABAAQIAKB/f4ABAAwkKAAAAAEAAAgAAEAAAAACAAAQAACAAAAABAAAIAAAAAEAAAgAUBJAAAAAAgBg2RJAgAAAAsykGWBAgAEDAgwYEGDAgAADCAQYQCDAAAIABgwAMGBAgAEDAgwYEGDAgAADBgQIMABAgAAAAgQAECAAAAABAAAIAABAAABxBQAAIAAAAAEAAAgAAEAAAAACAAAQAACAAAAABAAAIAAAAAEAAAgAAEAAgAAAAAQA0Nlz5wAAAgQAEMD06QADAgwYEGDAgAADCAQYMCDAAAIABhAIMGBAgAEDAgwYEGD/wIAAAQYECDAAQIAAAAIEAAAgAAAAAQAACCAAQAABAAAIAABAAAAAAgAAEAAAgAAAAAQAACAAAAABAAAIAABAAEAAAAQAACAAAAABAAAIAABAAICIAAIAABAAAIAAAAAEABAgAIAAIgMMCDBgQIABAwIMIBBgAIEAAwgEGDAgwIABAQYMCDAgANAAAAIEABAgAAAAAQAwFQAAgAAAAQQAACAAAAABAAAIAABAAAAAAgAAEAAAgAABAAQIACAAAAABAAAIAABAAAAAAgAAEAAAgAAAAAQACAAAQAAAihUHAAAgAIAAAQAEqGw5wIAAAwYEGDAgwAACAQYQCDBgQIAB/wMCDBgQ4DWAAAEABAgAAEAAALp3CwAAQAAAAAIAABAAAIAAAAAEAAAgAAAAAQAACAAAQIAAAAIEABAA4Pt3AQAACBAAQIAAAAIABBAAAIAAAAAEAAggAEAAAPr1BwAAAGAAAAECAAhwMMCAAAEGBBgwIMAAAgEGEAgwYECAAQMCDBgAIEAAAAECAAgQAEDKlAEEAAggAEAAAQAACAAAQAAAAAIAABAAAIAAAAAEAAggQAAAAQIACBAAQAAAAAIAVBUAQACAAAICDBAgAIAAAQAECAAgAAAAAQAACADwFi6AAAAABAAQIACAAHv5DhgQYACBAAMIBBgwIMCAAQEGBP8AECAAgAABAAQIAACzAAAABAAAIAAAAAEAAAgAAEAAAAACAAAQIAAAgAAEABQwIGAAAQECAAgA8Bs4cAEAAChAACBBAQACAAgAAEAAgAACBAAQAACAAAABBAAIAABAAAAAAgAAEABAAPUBBgQYMCDAgAEBBgwIMGBAgAEDAvQHADBAAAABABg8CEAAAAACAAAQAACAAAEABAgAIAAAAAEAAAgQAEAAgAADChwAgOAAAAABAAgAADMmAAECAARAcGAAggMCBAAQIACAAAEABAgAIAAAAAEAAggAAEAAgKlUqQa4inXAgAADBgQYECDAgAABBgQ4GwBAgAAAAgB4C0D/AAAAAgAAEAAAgAABAAQIACBAAAABAgAIEABAgAAAAhoDGECAwIEFAAgkECAAgObNAAQACDAAwYEBCQoIEABAgAAAAgQAECAAgAABAAQAACAAAAABAHoDCAAAQAAAAQIACIA8wIAAAwYEGDAgwIABAQYEABAgAIAAAQAECAAgvAAAAAQAACAAAAABAgAIEABAgAAAAgQAECAAgAABAAQAAAhAgAAAAxIUIFBgAYAABAAIABAxYoAAAwoYGJCggAABAAQIACBAAAABAgAIEABAgAAAAgQAEAAAgAAANQEEABAgAIAAAQAEGABgwIAAAwYEGBBAaQAAAQIACBAAwFSq/wIAABAAAIAAAQAEfP0KQIAAAAIEABAgAIAAAQAECAAgQAAAAAEGKDiwYECCAgD8AhAAAEAAAgMKLBiQAIEAxowBCBAAQIAAAAIEABAgAIAAAQAEAAAgAAAAAQBMnw4QAECAAAAGDAgwYECAAQFsBwAQIACAAAEA/AYuAAAAAQAACBAAQMDy5QAECAAgQAAAAQIACBAAQIAAAAIEABAgAMCABAgGFFgAYAABAAIEABigYECBBQMIJBCQPz8AAQIAABQgAIAAAQAECAAgQAAAAQAACAAAQACAihYDBAAQIACAAQMCDAgQYMAAAAECAAgQAEAAAC4BCAAAQAAAAAIEAP8QIACAAAEABAAFCkCAAAACjh4FIEAAAAECAAiICgBAAAUFDAxIcECAAAABFCAgcGBBgAEEBAgAIAAAAAECAAgQAECAAAACBAAQIACAAAAABAAAIAAAYQABAAQIACBAAAABBgQYMCDAgAAAAgQAECAAgAAAPgMQAACAAAAABAgAIEAAAAGuXQMQIACAAAEABAgAIEAAAAECAAAHICCAAgEBCAxQgCAAggMCFBQAkODAAAQGAgwgIEAAAAEAAggQAECAAAACAAAQIACAAAEABMAXAACAAAAABADIHyAAgAABAAIIMHBAgAADAgAIEABAgAAAAgQAMFEAAAACAAAQsJH/40YAAgQAECAAgAABAAQIACBAAAAAAgAACBBgAAIDABIcCJDgQAAEBwIUMBAAgYEBCAwEGKBAgAAAAgAAECAAgAABAAQIACAAAAABAgAIEABAAAAAAgAAEACALYAAAAIEABCA7oAAAQYEABAgAIAAAAAHADBYAAAAAgAAECAAgADHjx0DECAAgAABAAQIALAZgAAAnwUAGJAAQYAEBwYgOECggIEBBQwEQHAgQIIDAQYoALBbAAAAAgQAECAAgAABAAQIACBAAAAGAgAIAABAAAAAAgBkBxAAQIAAAAKEHxCAfAAAAQIACBAAQHv3AgAAEAAAgAABAATkzw9AQH///wAFCAAgQACAgwgPBhgAQAECAQoQAFBwAECCAwESHBBAoIAABQUCEEAAoKQAAAAEAAAgAAAAAQIACAAAQAAAAAIAABAAAIAAAAAEABgKIACAAAEADAgQYECAAAMCSA0AIEAAAAECANjKVQAAAAIEABAgAIAAAQAECAAgQAAAAQIACBAAoK5dAAEIKBhQwACBAgYIFDAwoIABAAkOCFBQQACBAgEUHAAQIIAAAAEEAAAgAAAAAQAACAAAQAAAAAIAABAAAIAAALBjBwAAIEAAAAMCBBgQIMCAAMADAAgQAECAAACSKxcAAIAAAQAECAAgQAAAAQIACBAAQIAAAAIEAP8QAKC8+QDoExRIcGBBgQULEBhYQKCAgQAJDgBQcCBAAoAHAAQYIABAAAEAAAgAAEAAAAACAAAQAACAAAAABAAAIAAAAAEARAYIACBAAAADBgQYMCDAgAAxZQYAECAAAJw5BQAAIEAAAAECAAgQAECAAAACBAAQIACAAABRpQIIAMDqAAUJFBxYgMDAAgQGFigoYIBAAQMEChhQUMBAgAEEBAAIIABAAAEAAAgAAEAAAAACAAAQAACAAAAABABgHAAAgAABAASgPGBAgAEDAgwYEMDzZwABAgAgXVoAAAACBAAQ0Lo1AAECAAgQAECAAAACAOzmDSAAAAABAhBQQKD/gAEFBwwoOLCAQAEDBAoYUFDAQIIDCwIQUAAAQAAAAAIIABBAAAAAAgAAEAAAgAAAAAQAACAgAAAAAQAACBAAAMAAAgcMADBgQIABAwIEGBDgIYAAAQAECADgogAAAAQAACBAAAABAgAIEABAgAAAAgQAaOnSZQAAAWYGGDAAwQECBRYoKGCAQAEDCgoYSHDAQIIDCwIMUAAgQAAAAQIICBBAAIAAAgAAEAAAgAAAYscGAAAgQAAAAdYOCBBgwAAAAwYEGDAgwIABAfbyBRAgAAAAAQAQLiwAAAABAgAIaNwYgAAAkidTDgAgQAAAATYTIDCggIEBBQwoKGAgQQED/wkOLEhQwECAAQMABAgAIEAAAAECAAgQQECAAAICBAAQAACAAAAABAgAIEAAAAECABgQIMCAAQAGDAAwIAD48OIBBAgA4Dx69AIAABAAAIAAAAAEAAAgAAD+/PoDAAgQACCAAAMHDlCQgEABAwQKGFBQwECCAgYSHFgwgIACAAECAAgQAECAAAACBAAQIACAAAEABAgAIAAAAAECAAgQAMCAAQEGDAgwYACAAQEADBgAYEAApUuZAggQAEBUqVOjCgAAQAAAAAIACBAAAGxYsQEABAgAIEDatAQQFCCAwAABBAcIIDCQoMCCAQoQAAgQAMCAAAACBAAQIACAAAEABP8IACBAAAABAgAIEADAgAAABgQAMGAAgAEDBAwYACDAAAABBgQYEAB27AAAAgQAECAAAN27eesWAECAAAACBAAAIABAcuUBAgAIEABAgAAAAgQYoAABAQQGCCAwQACBAQUFFhBIgCDAgAEBBgwIMCAAgAEBAAQIACBAAAADAgAYADBAgAEDAgwIEGDAAAADBgAYMEBAgAAAAgQAEGAAgAAcO3oMACAAgJEkS5IUAECAAAAABAAAIACAzJkzAwQAECAAgAABBihAMCDBAQIJDgxAcIAAAgMEEBwIMGBAgAEDAgwYEGDAgAADBgQYECDAgAABBgwIMGBAgAEDAgwYEGB0wAAAAwYICDBAQIAAAAIEABAgsODBgwEEAIA4sWLEAgAAECAAgOTJlCUHAAAgQAAAAQIMUJBgAAIDAxIcIIDgAAEEBgggMDCAAIEAAwgEGEAgwIABAQYMCDBgQIABAQIMCBBgwIAAAwYEGDAgwIABAAgQCAgAOw==\"><title>Layer: flatten2 (hidden)\n output range: (0.0, 0.8666667)\n Keras class = Flatten</title></image><text x=\"771.6666666666666\" y=\"272.0\" font-family=\"monospace\" font-size=\"12\" text-anchor=\"start\" fill=\"black\" alignment-baseline=\"central\" >flatten2</text><line x1=\"333.3333333333333\" y1=\"324\" x2=\"333.3333333333333\" y2=\"297\" stroke=\"black\" stroke-width=\"2\" marker-end=\"url(#arrow)\"><title>Weights from input1 to flatten1</title></line><rect x=\"232.33333333333331\" y=\"324\" width=\"202\" height=\"202\" style=\"fill:none;stroke:black;stroke-width:2\"/><image id=\"picture-dashboard-Finger Math-830055_input1_11\" class=\"picture-dashboard-Finger Math-830055_input1\" x=\"233.33333333333331\" y=\"325\" height=\"200\" width=\"200\" preserveAspectRatio=\"none\" href=\"data:image/gif;base64,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\"><title>Layer: input1 (input)\n output range: (0.0, 0.8666667)\n shape = (30, 40, 3)\n Keras class = Input</title></image><text x=\"438.3333333333333\" y=\"427.0\" font-family=\"monospace\" font-size=\"12\" text-anchor=\"start\" fill=\"black\" alignment-baseline=\"central\" >input1</text><line x1=\"666.6666666666666\" y1=\"324\" x2=\"666.6666666666666\" y2=\"297\" stroke=\"black\" stroke-width=\"2\" marker-end=\"url(#arrow)\"><title>Weights from input2 to flatten2</title></line><rect x=\"565.6666666666666\" y=\"324\" width=\"202\" height=\"202\" style=\"fill:none;stroke:black;stroke-width:2\"/><image id=\"picture-dashboard-Finger Math-830055_input2_12\" class=\"picture-dashboard-Finger Math-830055_input2\" x=\"566.6666666666666\" y=\"325\" height=\"200\" width=\"200\" preserveAspectRatio=\"none\" href=\"data:image/gif;base64,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\"><title>Layer: input2 (input)\n output range: (0.0, 0.8666667)\n shape = (30, 40, 3)\n Keras class = Input</title></image><text x=\"771.6666666666666\" y=\"427.0\" font-family=\"monospace\" font-size=\"12\" text-anchor=\"start\" fill=\"black\" alignment-baseline=\"central\" >input2</text><text x=\"500.0\" y=\"12.5\" font-family=\"monospace\" font-size=\"15\" text-anchor=\"middle\" fill=\"black\" alignment-baseline=\"central\" >Finger Math</text></svg></g></svg></p>"
      }
     },
     "72436d44aee44473bcc38e3f482fdbdf": {
      "model_module": "@jupyter-widgets/base",
      "model_module_version": "1.0.0",
      "model_name": "LayoutModel",
      "state": {}
     },
     "727d19de9fa44544a13a6f20266f2823": {
      "model_module": "@jupyter-widgets/base",
      "model_module_version": "1.0.0",
      "model_name": "LayoutModel",
      "state": {
       "height": "50px",
       "width": "100%"
      }
     },
     "72db883fc54547fabb549eaccfa4e527": {
      "model_module": "@jupyter-widgets/base",
      "model_module_version": "1.0.0",
      "model_name": "LayoutModel",
      "state": {}
     },
     "73125c7c1e8b4a398300ab8bfbbf2c2f": {
      "model_module": "@jupyter-widgets/controls",
      "model_module_version": "1.1.0",
      "model_name": "DescriptionStyleModel",
      "state": {
       "description_width": ""
      }
     },
     "734225c7852c4b32a6aace15c712430c": {
      "model_module": "@jupyter-widgets/controls",
      "model_module_version": "1.1.0",
      "model_name": "ButtonStyleModel",
      "state": {}
     },
     "737aff8871dd42c999fcc4c625d7198f": {
      "model_module": "@jupyter-widgets/base",
      "model_module_version": "1.0.0",
      "model_name": "LayoutModel",
      "state": {}
     },
     "73b5d02d5e974d5aad76b20cdbab2e3e": {
      "model_module": "@jupyter-widgets/controls",
      "model_module_version": "1.1.0",
      "model_name": "VBoxModel",
      "state": {
       "children": [
        "IPY_MODEL_247136323ade4d979f12b40a08ae0051",
        "IPY_MODEL_191fc4df570a465b8bd5083c376027f2"
       ],
       "layout": "IPY_MODEL_d1dbb6679c9c4cdc8c9377d2977aaa23"
      }
     },
     "73b9d87364dc498580506bbd2a4df260": {
      "model_module": "@jupyter-widgets/controls",
      "model_module_version": "1.1.0",
      "model_name": "VBoxModel",
      "state": {
       "children": [
        "IPY_MODEL_8b9928beb1284e0dbdb0552820878211",
        "IPY_MODEL_03b3cab01b324a1eab957d29dff4ff1a"
       ],
       "layout": "IPY_MODEL_336d36fc084a4c93b8bd274953b8a750"
      }
     },
     "7408ff9062324c51a82a2cf005760113": {
      "model_module": "@jupyter-widgets/controls",
      "model_module_version": "1.1.0",
      "model_name": "DescriptionStyleModel",
      "state": {
       "description_width": ""
      }
     },
     "742cfafe95fb45448cbcd6418238f2ba": {
      "model_module": "@jupyter-widgets/controls",
      "model_module_version": "1.1.0",
      "model_name": "ButtonModel",
      "state": {
       "icon": "fast-backward",
       "layout": "IPY_MODEL_6931db515ea942bab16a6355e5303f88",
       "style": "IPY_MODEL_9bf474eb0b4d43a5beb72e317f22d1e4"
      }
     },
     "743a7c63e4dd4e84816b8a8dc55eef08": {
      "model_module": "@jupyter-widgets/base",
      "model_module_version": "1.0.0",
      "model_name": "LayoutModel",
      "state": {}
     },
     "7454b7f531964cd5aa4bca5782300234": {
      "model_module": "@jupyter-widgets/controls",
      "model_module_version": "1.1.0",
      "model_name": "IntTextModel",
      "state": {
       "layout": "IPY_MODEL_c4ce7ff35d34436381124de90f733338",
       "step": 1,
       "style": "IPY_MODEL_9eefa724fc74468cb49b949ecf0bebea"
      }
     },
     "74cef6c1b93944c0a41a992f88894d4f": {
      "model_module": "@jupyter-widgets/controls",
      "model_module_version": "1.1.0",
      "model_name": "IntTextModel",
      "state": {
       "description": "Vertical space between layers:",
       "layout": "IPY_MODEL_7e14b30f05d74e0a8267466e6bfb2f45",
       "step": 1,
       "style": "IPY_MODEL_ebf8be9471ed439a91312b756d7e6f7f",
       "value": 30
      }
     },
     "755cbe55db3f44c1a53e074e27641772": {
      "model_module": "@jupyter-widgets/base",
      "model_module_version": "1.0.0",
      "model_name": "LayoutModel",
      "state": {
       "justify_content": "center",
       "overflow_x": "auto",
       "overflow_y": "auto",
       "width": "95%"
      }
     },
     "757068062dc847a5b677bc2b32f435a8": {
      "model_module": "@jupyter-widgets/controls",
      "model_module_version": "1.1.0",
      "model_name": "ButtonStyleModel",
      "state": {}
     },
     "75b0e83e31c143cb8c69a17cc4b2b34e": {
      "model_module": "@jupyter-widgets/controls",
      "model_module_version": "1.1.0",
      "model_name": "HBoxModel",
      "state": {
       "children": [
        "IPY_MODEL_13d45aece10c45288060183699bd8d44",
        "IPY_MODEL_a4a0ce88c7d44475b92deb541ff239eb"
       ],
       "layout": "IPY_MODEL_56b972f3994248b6aa4809b93775b5b8"
      }
     },
     "761fe06f026b4d2eab5c3cc61a6bf045": {
      "model_module": "@jupyter-widgets/controls",
      "model_module_version": "1.1.0",
      "model_name": "HBoxModel",
      "state": {
       "children": [
        "IPY_MODEL_92e9a0a5e65d498797aab8339aa51472",
        "IPY_MODEL_a9cd53069b124c05874f6923106ece1b",
        "IPY_MODEL_4b0da1cf75ce4a7cb620f88a345a4477",
        "IPY_MODEL_91632d1de9714c4ea89e0502e922c11d",
        "IPY_MODEL_be09edd779bd417d9a14cdfc1b069c2f",
        "IPY_MODEL_8527de343d474b6db44f8ca87316a060",
        "IPY_MODEL_773e0fb81ae74295b03e7e4e08cf44eb"
       ],
       "layout": "IPY_MODEL_378552685fc2404b98b76e834d8ffe22"
      }
     },
     "767fd2349d0b43c2868f51b71696f3ad": {
      "model_module": "@jupyter-widgets/controls",
      "model_module_version": "1.1.0",
      "model_name": "VBoxModel",
      "state": {
       "children": [
        "IPY_MODEL_635a7e6f893e42259dd4ed72e4507924",
        "IPY_MODEL_b53e634a597a4df6864f128054c5a79f"
       ],
       "layout": "IPY_MODEL_9ffa120d700c4fd181a6b13247f579b9"
      }
     },
     "76bb3e57fa08493a9be4551c742b9f0b": {
      "model_module": "@jupyter-widgets/controls",
      "model_module_version": "1.1.0",
      "model_name": "DescriptionStyleModel",
      "state": {
       "description_width": ""
      }
     },
     "76f5539b8e8f419b9df80fdf2f0a6d4e": {
      "model_module": "@jupyter-widgets/base",
      "model_module_version": "1.0.0",
      "model_name": "LayoutModel",
      "state": {}
     },
     "773e0fb81ae74295b03e7e4e08cf44eb": {
      "model_module": "@jupyter-widgets/controls",
      "model_module_version": "1.1.0",
      "model_name": "ButtonModel",
      "state": {
       "icon": "refresh",
       "layout": "IPY_MODEL_7f60333d476e461ea8230011f5cd9d2d",
       "style": "IPY_MODEL_0b492e54bcac44df90ad7c42c35443e0"
      }
     },
     "782f4166a85e499185c6774dc705b419": {
      "model_module": "@jupyter-widgets/base",
      "model_module_version": "1.0.0",
      "model_name": "LayoutModel",
      "state": {}
     },
     "783ffa567940489abccda3ecf5a7f97e": {
      "model_module": "@jupyter-widgets/controls",
      "model_module_version": "1.1.0",
      "model_name": "CheckboxModel",
      "state": {
       "description": "Rotate",
       "disabled": false,
       "layout": "IPY_MODEL_2112f1e1aec4448694aa55eea10a2503",
       "style": "IPY_MODEL_33589b6389884641a3aafdc6d3158420",
       "value": true
      }
     },
     "78466cb9aebc4fd68860d85160ab7549": {
      "model_module": "@jupyter-widgets/base",
      "model_module_version": "1.0.0",
      "model_name": "LayoutModel",
      "state": {
       "width": "100%"
      }
     },
     "7898e4103dfb49ac838cf484a9689cb4": {
      "model_module": "@jupyter-widgets/controls",
      "model_module_version": "1.1.0",
      "model_name": "DescriptionStyleModel",
      "state": {
       "description_width": "initial"
      }
     },
     "78dafa0d3c724c69900db87a8e56f35e": {
      "model_module": "@jupyter-widgets/base",
      "model_module_version": "1.0.0",
      "model_name": "LayoutModel",
      "state": {}
     },
     "78ecea8cf5974e339f2bde98eb2a2205": {
      "model_module": "@jupyter-widgets/controls",
      "model_module_version": "1.1.0",
      "model_name": "IntTextModel",
      "state": {
       "description": "Feature columns:",
       "layout": "IPY_MODEL_bc1b1214fd0846b982bb059120220973",
       "step": 1,
       "style": "IPY_MODEL_16d77744d3c943c2bd410e93dc4461ad",
       "value": 3
      }
     },
     "791f821ebe574968a081ae4592b5f9e4": {
      "model_module": "@jupyter-widgets/base",
      "model_module_version": "1.0.0",
      "model_name": "LayoutModel",
      "state": {
       "width": "10%"
      }
     },
     "7a6796475e794e3e9f37e65c313d8638": {
      "model_module": "@jupyter-widgets/base",
      "model_module_version": "1.0.0",
      "model_name": "LayoutModel",
      "state": {
       "justify_content": "center",
       "overflow_x": "auto",
       "overflow_y": "auto",
       "width": "95%"
      }
     },
     "7b866704117e4291885d29929649c798": {
      "model_module": "@jupyter-widgets/base",
      "model_module_version": "1.0.0",
      "model_name": "LayoutModel",
      "state": {}
     },
     "7b8cfc687cad4651995a80f9c319f807": {
      "model_module": "@jupyter-widgets/base",
      "model_module_version": "1.0.0",
      "model_name": "LayoutModel",
      "state": {
       "width": "100%"
      }
     },
     "7ba90371d2b04c758afd2a9d08034f3b": {
      "model_module": "@jupyter-widgets/base",
      "model_module_version": "1.0.0",
      "model_name": "LayoutModel",
      "state": {}
     },
     "7baacc8c751544ba9bb5725cd673c7b7": {
      "model_module": "@jupyter-widgets/controls",
      "model_module_version": "1.1.0",
      "model_name": "HBoxModel",
      "state": {
       "children": [
        "IPY_MODEL_62d509cd92164079bd0b618f1e5b756c",
        "IPY_MODEL_143a9c96a3ba449dbe3a6bf2e28d7c4b"
       ],
       "layout": "IPY_MODEL_e49017737b194d71a147b01e654b60a1"
      }
     },
     "7c17b778c4ee4989b62e30ecaa160596": {
      "model_module": "@jupyter-widgets/controls",
      "model_module_version": "1.1.0",
      "model_name": "DescriptionStyleModel",
      "state": {
       "description_width": ""
      }
     },
     "7cc3ad31d7df483d9c7f48b385bd4369": {
      "model_module": "@jupyter-widgets/controls",
      "model_module_version": "1.1.0",
      "model_name": "DescriptionStyleModel",
      "state": {
       "description_width": "initial"
      }
     },
     "7d7ef2543bef4ef6a43090afa841548e": {
      "model_module": "@jupyter-widgets/controls",
      "model_module_version": "1.1.0",
      "model_name": "ButtonStyleModel",
      "state": {}
     },
     "7d8a1b9c38854d23b54263952224df02": {
      "model_module": "@jupyter-widgets/controls",
      "model_module_version": "1.1.0",
      "model_name": "SliderStyleModel",
      "state": {
       "description_width": "initial"
      }
     },
     "7d9bc6e429ba4b4296f3cf6ab04e9c26": {
      "model_module": "@jupyter-widgets/base",
      "model_module_version": "1.0.0",
      "model_name": "LayoutModel",
      "state": {}
     },
     "7e0c2fd55a1d41499e0f38361274e8b5": {
      "model_module": "@jupyter-widgets/controls",
      "model_module_version": "1.1.0",
      "model_name": "FloatTextModel",
      "state": {
       "description": "Feature scale:",
       "layout": "IPY_MODEL_c0f631aac59d465e87e3985cc3e93c52",
       "step": null,
       "style": "IPY_MODEL_ae2ad68022964a08b904653e59716db0",
       "value": 1
      }
     },
     "7e14b30f05d74e0a8267466e6bfb2f45": {
      "model_module": "@jupyter-widgets/base",
      "model_module_version": "1.0.0",
      "model_name": "LayoutModel",
      "state": {}
     },
     "7e260737cf99487c9d22c31fb820edd4": {
      "model_module": "@jupyter-widgets/controls",
      "model_module_version": "1.1.0",
      "model_name": "FloatTextModel",
      "state": {
       "description": "Leftmost color maps to:",
       "layout": "IPY_MODEL_3748c54b24f44529867edd8cef65c111",
       "step": null,
       "style": "IPY_MODEL_28bbd5308766424c9b22d658759a79e8",
       "value": -2
      }
     },
     "7e4fa40acc784358b4615a86a9d3df77": {
      "model_module": "@jupyter-widgets/base",
      "model_module_version": "1.0.0",
      "model_name": "LayoutModel",
      "state": {}
     },
     "7ec7bb000b5f42ae94d5a73cf6914491": {
      "model_module": "@jupyter-widgets/controls",
      "model_module_version": "1.1.0",
      "model_name": "DescriptionStyleModel",
      "state": {
       "description_width": ""
      }
     },
     "7ed1ca8bd6324e84be1701bb2522ca81": {
      "model_module": "@jupyter-widgets/controls",
      "model_module_version": "1.1.0",
      "model_name": "IntSliderModel",
      "state": {
       "continuous_update": false,
       "description": "Dataset index",
       "layout": "IPY_MODEL_54628e0d13844a0fafc1af423e7ba29a",
       "max": 11999,
       "style": "IPY_MODEL_a5fe0872161945d5b67bf20c3dc5a2ee",
       "value": 8
      }
     },
     "7f60333d476e461ea8230011f5cd9d2d": {
      "model_module": "@jupyter-widgets/base",
      "model_module_version": "1.0.0",
      "model_name": "LayoutModel",
      "state": {
       "width": "25%"
      }
     },
     "7fc36d3dd4f247f69cd3bb053b6ff18e": {
      "model_module": "@jupyter-widgets/base",
      "model_module_version": "1.0.0",
      "model_name": "LayoutModel",
      "state": {
       "width": "100%"
      }
     },
     "800757c032df4c1192977474936f4abc": {
      "model_module": "@jupyter-widgets/base",
      "model_module_version": "1.0.0",
      "model_name": "LayoutModel",
      "state": {}
     },
     "80944d440e514293b64be3bffeb428ba": {
      "model_module": "@jupyter-widgets/base",
      "model_module_version": "1.0.0",
      "model_name": "LayoutModel",
      "state": {}
     },
     "80bf37461ce748d194a45d7db34a0b96": {
      "model_module": "@jupyter-widgets/controls",
      "model_module_version": "1.1.0",
      "model_name": "IntTextModel",
      "state": {
       "layout": "IPY_MODEL_e03bb7bf2b51455bb0772cad5779c6e2",
       "step": 1,
       "style": "IPY_MODEL_c19075e17dcd4c9d930a74d3e9e38c89",
       "value": 8
      }
     },
     "813c7728a60e4eef91ddd5bfbac03679": {
      "model_module": "@jupyter-widgets/controls",
      "model_module_version": "1.1.0",
      "model_name": "HBoxModel",
      "state": {
       "children": [
        "IPY_MODEL_53694f49b1b84528b9aecfa61e24c56d",
        "IPY_MODEL_64b51edf647340a5a2f21cbdae4382ca"
       ],
       "layout": "IPY_MODEL_d6800be732e44ce49e88a6cc4dfbf767"
      }
     },
     "813fad18fe424dbe90979348a78ee19f": {
      "model_module": "@jupyter-widgets/controls",
      "model_module_version": "1.1.0",
      "model_name": "SelectModel",
      "state": {
       "_options_labels": [
        ""
       ],
       "description": "Features:",
       "index": 0,
       "layout": "IPY_MODEL_13efb8a717874b4ea1a97edfa59acb30",
       "rows": 1,
       "style": "IPY_MODEL_c3a38ef96d374c4db4c948019a93bee3"
      }
     },
     "8153595d1a2f428a8808a74ba9db83b4": {
      "model_module": "@jupyter-widgets/controls",
      "model_module_version": "1.1.0",
      "model_name": "DescriptionStyleModel",
      "state": {
       "description_width": ""
      }
     },
     "81fcae0ed99041f7b2ec56b4155767ce": {
      "model_module": "@jupyter-widgets/base",
      "model_module_version": "1.0.0",
      "model_name": "LayoutModel",
      "state": {
       "width": "100%"
      }
     },
     "8229c0dbfef64533b8cef8dd0bc83da9": {
      "model_module": "@jupyter-widgets/base",
      "model_module_version": "1.0.0",
      "model_name": "LayoutModel",
      "state": {
       "width": "100%"
      }
     },
     "823f233d9f9d4fbdbe11699514737867": {
      "model_module": "@jupyter-widgets/base",
      "model_module_version": "1.0.0",
      "model_name": "LayoutModel",
      "state": {}
     },
     "8282c6a90d5246d6a344787db5bda62b": {
      "model_module": "@jupyter-widgets/controls",
      "model_module_version": "1.1.0",
      "model_name": "DescriptionStyleModel",
      "state": {
       "description_width": ""
      }
     },
     "82be8c03e7e14aef959e689bb9392716": {
      "model_module": "@jupyter-widgets/controls",
      "model_module_version": "1.1.0",
      "model_name": "DescriptionStyleModel",
      "state": {
       "description_width": ""
      }
     },
     "83268fc50a2347a88e316b678f90cc88": {
      "model_module": "@jupyter-widgets/controls",
      "model_module_version": "1.1.0",
      "model_name": "DescriptionStyleModel",
      "state": {
       "description_width": "initial"
      }
     },
     "834563aad1a44c258bbeb42527591f3c": {
      "model_module": "@jupyter-widgets/base",
      "model_module_version": "1.0.0",
      "model_name": "LayoutModel",
      "state": {}
     },
     "83bbf3789d664b09a055cfe1e0e33500": {
      "model_module": "@jupyter-widgets/controls",
      "model_module_version": "1.1.0",
      "model_name": "DescriptionStyleModel",
      "state": {
       "description_width": ""
      }
     },
     "847c898034794135968d4f8b209b5644": {
      "model_module": "@jupyter-widgets/controls",
      "model_module_version": "1.1.0",
      "model_name": "FloatSliderModel",
      "state": {
       "continuous_update": false,
       "description": "Zoom",
       "layout": "IPY_MODEL_f771ecd8ee1a48939298d59391f37538",
       "max": 1,
       "step": 0.1,
       "style": "IPY_MODEL_7d8a1b9c38854d23b54263952224df02",
       "value": 0.3
      }
     },
     "84845627d6cd4415974bdad6cbd4f888": {
      "model_module": "@jupyter-widgets/controls",
      "model_module_version": "1.1.0",
      "model_name": "VBoxModel",
      "state": {
       "children": [
        "IPY_MODEL_565dd0f61d2a44dda04a3ae67fce9fea",
        "IPY_MODEL_767fd2349d0b43c2868f51b71696f3ad",
        "IPY_MODEL_1199a65cc8fa4820a3395d889aa37ecf",
        "IPY_MODEL_13947294769c488c89951821912f1a7e"
       ],
       "layout": "IPY_MODEL_6f20e04d4fa941e99faa31e47c960a6b"
      }
     },
     "84dcd02d84c941ef8bf326abc0be787a": {
      "model_module": "@jupyter-widgets/controls",
      "model_module_version": "1.1.0",
      "model_name": "IntTextModel",
      "state": {
       "layout": "IPY_MODEL_400085a98bd54a0da3b6bb1890742083",
       "step": 1,
       "style": "IPY_MODEL_b2caabd219e1434f8d72d3f05df482b9"
      }
     },
     "8500c042426044aaaf3a590685d4a89e": {
      "model_module": "@jupyter-widgets/base",
      "model_module_version": "1.0.0",
      "model_name": "LayoutModel",
      "state": {
       "width": "100%"
      }
     },
     "8527de343d474b6db44f8ca87316a060": {
      "model_module": "@jupyter-widgets/controls",
      "model_module_version": "1.1.0",
      "model_name": "ButtonModel",
      "state": {
       "description": "Play",
       "icon": "play",
       "layout": "IPY_MODEL_f11cc6c115054f62b0ce26e281563221",
       "style": "IPY_MODEL_328cb1272ce742709a2e0fbf95d193f9"
      }
     },
     "852bbecf019e467f8eaa5e6be4097e3b": {
      "model_module": "@jupyter-widgets/base",
      "model_module_version": "1.0.0",
      "model_name": "LayoutModel",
      "state": {
       "justify_content": "center",
       "overflow_x": "auto",
       "overflow_y": "auto",
       "width": "95%"
      }
     },
     "8533ff4fe3074db78fd48b0b5f474862": {
      "model_module": "@jupyter-widgets/controls",
      "model_module_version": "1.1.0",
      "model_name": "LabelModel",
      "state": {
       "layout": "IPY_MODEL_113dfb776bb747b0b4c231fc13ee7e9b",
       "style": "IPY_MODEL_915d860efacc4cf8a1321be2dfe0f7f5",
       "value": "of 1000"
      }
     },
     "8555bd04d0754dd6b5de9af8fb477466": {
      "model_module": "@jupyter-widgets/controls",
      "model_module_version": "1.1.0",
      "model_name": "SelectModel",
      "state": {
       "_options_labels": [
        ""
       ],
       "description": "Features:",
       "index": 0,
       "layout": "IPY_MODEL_95a942ee057843dd8eb1d73f534040d6",
       "rows": 1,
       "style": "IPY_MODEL_adc5c1b5fda2435794012f6c6477f2a6"
      }
     },
     "85a2b4bed967400da82dd8d4e45cc380": {
      "model_module": "@jupyter-widgets/controls",
      "model_module_version": "1.1.0",
      "model_name": "HBoxModel",
      "state": {
       "children": [
        "IPY_MODEL_28c31f29aeeb446183c77c8eff7a1a38",
        "IPY_MODEL_f05d5a24b1d64ce3b6478d2b40f70fd8"
       ],
       "layout": "IPY_MODEL_920f1b5390eb4dacba06307e20e4303a"
      }
     },
     "86bdb5c2cfa6475f9cc5215ee55424c2": {
      "model_module": "@jupyter-widgets/controls",
      "model_module_version": "1.1.0",
      "model_name": "CheckboxModel",
      "state": {
       "description": "Visible",
       "disabled": false,
       "layout": "IPY_MODEL_8955ba102b5d4c6ea881b572f2dc91ce",
       "style": "IPY_MODEL_d1d79939ece74778a09ebf657df27c2e",
       "value": true
      }
     },
     "86fef491dd0a4a669750e5062c90e405": {
      "model_module": "@jupyter-widgets/controls",
      "model_module_version": "1.1.0",
      "model_name": "DescriptionStyleModel",
      "state": {
       "description_width": ""
      }
     },
     "872d4e6b49b54b5081fa8e56f1a099b5": {
      "model_module": "@jupyter-widgets/controls",
      "model_module_version": "1.1.0",
      "model_name": "HBoxModel",
      "state": {
       "children": [
        "IPY_MODEL_0fcdec3937594d039365a6307c1a576c",
        "IPY_MODEL_ddaa6f5b2c8943e982fb4e1ff88cd0ea"
       ],
       "layout": "IPY_MODEL_4e473aba14d846428766002d495e46b2"
      }
     },
     "87683b0608294030990768606571e9aa": {
      "model_module": "@jupyter-widgets/controls",
      "model_module_version": "1.1.0",
      "model_name": "ButtonStyleModel",
      "state": {}
     },
     "87c10bf9111e4f52afb54b45b6bdcb3e": {
      "model_module": "@jupyter-widgets/controls",
      "model_module_version": "1.1.0",
      "model_name": "DescriptionStyleModel",
      "state": {
       "description_width": ""
      }
     },
     "880e4bd439ca4470ace4e0da2b52b16d": {
      "model_module": "@jupyter-widgets/controls",
      "model_module_version": "1.1.0",
      "model_name": "ButtonStyleModel",
      "state": {}
     },
     "8839cf871f474c629ae3b6610fb91c02": {
      "model_module": "@jupyter-widgets/base",
      "model_module_version": "1.0.0",
      "model_name": "LayoutModel",
      "state": {
       "width": "52%"
      }
     },
     "8854d64ddc664b25afb73aabe6f32bd0": {
      "model_module": "@jupyter-widgets/base",
      "model_module_version": "1.0.0",
      "model_name": "LayoutModel",
      "state": {}
     },
     "8867ab43a9704384bfa9c8c257e17e19": {
      "model_module": "@jupyter-widgets/base",
      "model_module_version": "1.0.0",
      "model_name": "LayoutModel",
      "state": {
       "width": "25%"
      }
     },
     "88b216c0e5a64b00abac83443e4fa6ff": {
      "model_module": "@jupyter-widgets/base",
      "model_module_version": "1.0.0",
      "model_name": "LayoutModel",
      "state": {}
     },
     "88e4d96d951846bfa30828855f7d73a2": {
      "model_module": "@jupyter-widgets/base",
      "model_module_version": "1.0.0",
      "model_name": "LayoutModel",
      "state": {
       "width": "25%"
      }
     },
     "890668dfd5b245e59914a220698ff5ba": {
      "model_module": "@jupyter-widgets/base",
      "model_module_version": "1.0.0",
      "model_name": "LayoutModel",
      "state": {}
     },
     "8925eb9f62e14c6790d51b0439f0a777": {
      "model_module": "@jupyter-widgets/controls",
      "model_module_version": "1.1.0",
      "model_name": "ButtonStyleModel",
      "state": {}
     },
     "892befa39e9840c1ae64369b2bb3129a": {
      "model_module": "@jupyter-widgets/controls",
      "model_module_version": "1.1.0",
      "model_name": "DescriptionStyleModel",
      "state": {
       "description_width": ""
      }
     },
     "894c8e755190443ca5db8429fea13369": {
      "model_module": "@jupyter-widgets/controls",
      "model_module_version": "1.1.0",
      "model_name": "DescriptionStyleModel",
      "state": {
       "description_width": "initial"
      }
     },
     "89518d4dbd7e41efa5a41ae804a1e9c8": {
      "model_module": "@jupyter-widgets/base",
      "model_module_version": "1.0.0",
      "model_name": "LayoutModel",
      "state": {}
     },
     "8955ba102b5d4c6ea881b572f2dc91ce": {
      "model_module": "@jupyter-widgets/base",
      "model_module_version": "1.0.0",
      "model_name": "LayoutModel",
      "state": {}
     },
     "89d7b13a01a2474e814a49c869139c1a": {
      "model_module": "@jupyter-widgets/base",
      "model_module_version": "1.0.0",
      "model_name": "LayoutModel",
      "state": {
       "width": "100%"
      }
     },
     "89ff102b44f248a990ad512be73a7c52": {
      "model_module": "@jupyter-widgets/controls",
      "model_module_version": "1.1.0",
      "model_name": "ButtonStyleModel",
      "state": {}
     },
     "8a1edc1dfddc4a888ea5c3b63a61f19a": {
      "model_module": "@jupyter-widgets/controls",
      "model_module_version": "1.1.0",
      "model_name": "DescriptionStyleModel",
      "state": {
       "description_width": ""
      }
     },
     "8a4d269d0bcd45b49ba85ce4f903ca37": {
      "model_module": "@jupyter-widgets/controls",
      "model_module_version": "1.1.0",
      "model_name": "ButtonStyleModel",
      "state": {}
     },
     "8a85c3bf995948388662341618973ed2": {
      "model_module": "@jupyter-widgets/controls",
      "model_module_version": "1.1.0",
      "model_name": "FloatTextModel",
      "state": {
       "description": "Rightmost color maps to:",
       "layout": "IPY_MODEL_a428bff1e77741a2b56e7245235e9682",
       "step": null,
       "style": "IPY_MODEL_a92b08627a044255b3a7e71adb46d6ff",
       "value": 1
      }
     },
     "8aa6eb84c0ff4002ae2e567bb7cfb990": {
      "model_module": "@jupyter-widgets/controls",
      "model_module_version": "1.1.0",
      "model_name": "CheckboxModel",
      "state": {
       "description": "Show Targets",
       "disabled": false,
       "layout": "IPY_MODEL_3c71e01bc0fc4895a6869de7e0f8bf6f",
       "style": "IPY_MODEL_9a1700aedaed4e2a888c757aa0ac5778",
       "value": true
      }
     },
     "8ae572cba9714deba7eb70daf273d27f": {
      "model_module": "@jupyter-widgets/controls",
      "model_module_version": "1.1.0",
      "model_name": "FloatSliderModel",
      "state": {
       "continuous_update": false,
       "description": "Zoom",
       "layout": "IPY_MODEL_9b23ae47472a4af499354f2c7e32575d",
       "max": 1,
       "step": 0.1,
       "style": "IPY_MODEL_0cd19150c8f9464680a2834addc09c19",
       "value": 0.8
      }
     },
     "8b9928beb1284e0dbdb0552820878211": {
      "model_module": "@jupyter-widgets/controls",
      "model_module_version": "1.1.0",
      "model_name": "HBoxModel",
      "state": {
       "children": [
        "IPY_MODEL_7ed1ca8bd6324e84be1701bb2522ca81",
        "IPY_MODEL_c1a0d7f182ad4022b2cfb494e26bdf7c"
       ],
       "layout": "IPY_MODEL_fb82ac6bbc7c4c268325e3620e08be06"
      }
     },
     "8ba2f423c72f41bca9907152ec5ce919": {
      "model_module": "@jupyter-widgets/controls",
      "model_module_version": "1.1.0",
      "model_name": "DescriptionStyleModel",
      "state": {
       "description_width": "initial"
      }
     },
     "8c0098af65f64e2e8a31f91c6126ce5f": {
      "model_module": "@jupyter-widgets/controls",
      "model_module_version": "1.1.0",
      "model_name": "IntSliderModel",
      "state": {
       "continuous_update": false,
       "description": "Dataset index",
       "layout": "IPY_MODEL_27863870d55f4daf9f40d6ab214c32a5",
       "max": 0,
       "style": "IPY_MODEL_a502918d75ff4688a54df87e0353e29b"
      }
     },
     "8c91cf82ef2e441cb75ece5bbf0ae3a1": {
      "model_module": "@jupyter-widgets/controls",
      "model_module_version": "1.1.0",
      "model_name": "FloatTextModel",
      "state": {
       "description": "Feature scale:",
       "layout": "IPY_MODEL_80944d440e514293b64be3bffeb428ba",
       "step": null,
       "style": "IPY_MODEL_0eb76044134c4212a6b685ccc919a2ea",
       "value": 1
      }
     },
     "8cc8b2adb2c3497f9135d05339b25307": {
      "model_module": "@jupyter-widgets/base",
      "model_module_version": "1.0.0",
      "model_name": "LayoutModel",
      "state": {}
     },
     "8cef3b40afb34a8c94a90962aad12c5e": {
      "model_module": "@jupyter-widgets/base",
      "model_module_version": "1.0.0",
      "model_name": "LayoutModel",
      "state": {
       "width": "100%"
      }
     },
     "8d053940566b4d1891b77628c34e99f7": {
      "model_module": "@jupyter-widgets/controls",
      "model_module_version": "1.1.0",
      "model_name": "HBoxModel",
      "state": {
       "children": [
        "IPY_MODEL_bf3fd5d07c6a47b18f324bb8d839ed0b",
        "IPY_MODEL_dbb51454ba814c029d1c6381a4a5c082"
       ],
       "layout": "IPY_MODEL_9d535bb012fe41fb9dfd5486510adfec"
      }
     },
     "8d06796f6ec2465581079e07f7767976": {
      "model_module": "@jupyter-widgets/controls",
      "model_module_version": "1.1.0",
      "model_name": "CheckboxModel",
      "state": {
       "description": "Rotate",
       "disabled": false,
       "layout": "IPY_MODEL_a6b32a40bfae4a20b096805f585b71be",
       "style": "IPY_MODEL_6e9b768259a64b56a7c950c00d083b09",
       "value": true
      }
     },
     "8d4f3ec27a7a41c6a8ed124d8014de8a": {
      "model_module": "@jupyter-widgets/controls",
      "model_module_version": "1.1.0",
      "model_name": "HBoxModel",
      "state": {
       "children": [
        "IPY_MODEL_6a70c17a630d41eeb0a020e120a6962a",
        "IPY_MODEL_d4858ff8b18e43678039e46e5089556b"
       ],
       "layout": "IPY_MODEL_4a45f114ac184198b7a3c3166a6b472d"
      }
     },
     "8d54f4fd9c434a1d86b487a9a9efa96e": {
      "model_module": "@jupyter-widgets/controls",
      "model_module_version": "1.1.0",
      "model_name": "HBoxModel",
      "state": {
       "children": [
        "IPY_MODEL_6830450ed6514e6ba5b76d983fe9df9f",
        "IPY_MODEL_ec0944da0e424c08a7b4792193f63e74",
        "IPY_MODEL_e2e3e2d03bd648ac89783fba6b8be90e",
        "IPY_MODEL_20adf6be4599422f8a4592a651fb09de",
        "IPY_MODEL_5d313941645e4d6a8e6e047c54949e2e",
        "IPY_MODEL_db9c6712166d405a8d41d78d58289971",
        "IPY_MODEL_23e6e7dce6e24a67817264c87647356a"
       ],
       "layout": "IPY_MODEL_fe30302a6ac84a2894b48370dd9d497d"
      }
     },
     "8d7b944ec9e04f96a68a7f916a0fe737": {
      "model_module": "@jupyter-widgets/controls",
      "model_module_version": "1.1.0",
      "model_name": "CheckboxModel",
      "state": {
       "description": "Show Targets",
       "disabled": false,
       "layout": "IPY_MODEL_8955ba102b5d4c6ea881b572f2dc91ce",
       "style": "IPY_MODEL_1a614e2408044f07b1d36fd35845127b",
       "value": true
      }
     },
     "8d967a0413414a568104fa433e3308a5": {
      "model_module": "@jupyter-widgets/controls",
      "model_module_version": "1.1.0",
      "model_name": "FloatSliderModel",
      "state": {
       "continuous_update": false,
       "description": "Zoom",
       "layout": "IPY_MODEL_a9a46242f3914e17aa73100c06fa4895",
       "max": 1,
       "step": 0.1,
       "style": "IPY_MODEL_b5ac7a95f8ca47c5b507fb8c311b17fc",
       "value": 0.8
      }
     },
     "8da7f09796e4488786580f14a301df2c": {
      "model_module": "@jupyter-widgets/controls",
      "model_module_version": "1.1.0",
      "model_name": "DescriptionStyleModel",
      "state": {
       "description_width": ""
      }
     },
     "8daeb0444e84454494ea3df92ae88502": {
      "model_module": "@jupyter-widgets/controls",
      "model_module_version": "1.1.0",
      "model_name": "FloatTextModel",
      "state": {
       "description": "Rightmost color maps to:",
       "layout": "IPY_MODEL_1406b72f525f4cd796aecd6e1c676061",
       "step": null,
       "style": "IPY_MODEL_f52b0d19af2d4cfca8779cc89a54e251",
       "value": 2
      }
     },
     "8dbd8b3a4c8841b4a1870bca5b0d216e": {
      "model_module": "@jupyter-widgets/base",
      "model_module_version": "1.0.0",
      "model_name": "LayoutModel",
      "state": {}
     },
     "8e2ad3ee20f448dab3d41f7e63881821": {
      "model_module": "@jupyter-widgets/controls",
      "model_module_version": "1.1.0",
      "model_name": "DescriptionStyleModel",
      "state": {
       "description_width": "initial"
      }
     },
     "8e41cb98f4cb458799c2ccc1c1dc8e99": {
      "model_module": "@jupyter-widgets/controls",
      "model_module_version": "1.1.0",
      "model_name": "HBoxModel",
      "state": {
       "children": [
        "IPY_MODEL_c89bdbeda2144845bc1551a7dba297a8",
        "IPY_MODEL_bc74c13077374cb6a011638757793653"
       ],
       "layout": "IPY_MODEL_b404f5133ff1437e91a5eea3c1228bab"
      }
     },
     "8e4b3b979a2048eb8de6de72e03f9138": {
      "model_module": "@jupyter-widgets/controls",
      "model_module_version": "1.1.0",
      "model_name": "DescriptionStyleModel",
      "state": {
       "description_width": "initial"
      }
     },
     "8ed0e41bbdf44ab690db32ce15f665f4": {
      "model_module": "@jupyter-widgets/controls",
      "model_module_version": "1.1.0",
      "model_name": "DescriptionStyleModel",
      "state": {
       "description_width": "initial"
      }
     },
     "8efc1fb338264d4dbc342b1e4aa498de": {
      "model_module": "@jupyter-widgets/controls",
      "model_module_version": "1.1.0",
      "model_name": "IntTextModel",
      "state": {
       "description": "Feature to show:",
       "layout": "IPY_MODEL_8dbd8b3a4c8841b4a1870bca5b0d216e",
       "step": 1,
       "style": "IPY_MODEL_a8ce4703c79246d9a4938b61335d912b"
      }
     },
     "8f077579fb414a9c883fb02ebb77dcf2": {
      "model_module": "@jupyter-widgets/controls",
      "model_module_version": "1.1.0",
      "model_name": "ButtonModel",
      "state": {
       "icon": "fast-forward",
       "layout": "IPY_MODEL_b6ef397bf4104eb08308d95623ef021c",
       "style": "IPY_MODEL_e18fb3bc39c14cf29841264255bca4c1"
      }
     },
     "8f9cac418fb541a8a95a4eab14f55835": {
      "model_module": "@jupyter-widgets/controls",
      "model_module_version": "1.1.0",
      "model_name": "FloatTextModel",
      "state": {
       "description": "Leftmost color maps to:",
       "layout": "IPY_MODEL_7d9bc6e429ba4b4296f3cf6ab04e9c26",
       "step": null,
       "style": "IPY_MODEL_918d76d242494671bc7aadb567d764e8",
       "value": -2
      }
     },
     "905f886c704c4130bb724e961c9ed0f6": {
      "model_module": "@jupyter-widgets/controls",
      "model_module_version": "1.1.0",
      "model_name": "AccordionModel",
      "state": {
       "_titles": {
        "0": "Hiding"
       },
       "children": [
        "IPY_MODEL_4f5f89a71ec241808a061f94f8d42892"
       ],
       "layout": "IPY_MODEL_3cf5b43a36df4f588357de11ce8cbbd4",
       "selected_index": null
      }
     },
     "9063aeeb14404a3ba10bf679b13eeddb": {
      "model_module": "@jupyter-widgets/controls",
      "model_module_version": "1.1.0",
      "model_name": "ButtonStyleModel",
      "state": {}
     },
     "907a2e7a990343eabee8ede4abe453b4": {
      "model_module": "@jupyter-widgets/controls",
      "model_module_version": "1.1.0",
      "model_name": "DescriptionStyleModel",
      "state": {
       "description_width": "initial"
      }
     },
     "90de29ae74eb41418e354aa7a12374bf": {
      "model_module": "@jupyter-widgets/base",
      "model_module_version": "1.0.0",
      "model_name": "LayoutModel",
      "state": {}
     },
     "91498b59710d4f218da8fad8da270ac5": {
      "model_module": "@jupyter-widgets/controls",
      "model_module_version": "1.1.0",
      "model_name": "IntSliderModel",
      "state": {
       "continuous_update": false,
       "description": "Dataset index",
       "layout": "IPY_MODEL_8cef3b40afb34a8c94a90962aad12c5e",
       "max": 999,
       "style": "IPY_MODEL_ab863902c9fb4a20a2b472e35e9d3350"
      }
     },
     "914e6d05d1d34e4b86bde5bca71cdf77": {
      "model_module": "@jupyter-widgets/controls",
      "model_module_version": "1.1.0",
      "model_name": "HBoxModel",
      "state": {
       "children": [
        "IPY_MODEL_66f1e945262c423a8cc48cfeceff6025",
        "IPY_MODEL_58cde8430ba94fc48417189e64006b1c"
       ],
       "layout": "IPY_MODEL_823f233d9f9d4fbdbe11699514737867"
      }
     },
     "915d860efacc4cf8a1321be2dfe0f7f5": {
      "model_module": "@jupyter-widgets/controls",
      "model_module_version": "1.1.0",
      "model_name": "DescriptionStyleModel",
      "state": {
       "description_width": ""
      }
     },
     "91632d1de9714c4ea89e0502e922c11d": {
      "model_module": "@jupyter-widgets/controls",
      "model_module_version": "1.1.0",
      "model_name": "ButtonModel",
      "state": {
       "icon": "forward",
       "layout": "IPY_MODEL_3aa87701a2074e88a168a1558e8fc215",
       "style": "IPY_MODEL_71947f48a56e4312afbd8f8783804ed1"
      }
     },
     "918d76d242494671bc7aadb567d764e8": {
      "model_module": "@jupyter-widgets/controls",
      "model_module_version": "1.1.0",
      "model_name": "DescriptionStyleModel",
      "state": {
       "description_width": "initial"
      }
     },
     "919943d842a54fecb5fd5664fbf670eb": {
      "model_module": "@jupyter-widgets/base",
      "model_module_version": "1.0.0",
      "model_name": "LayoutModel",
      "state": {}
     },
     "91cd9dca9d45472cb3cbddf67fb94954": {
      "model_module": "@jupyter-widgets/controls",
      "model_module_version": "1.1.0",
      "model_name": "SliderStyleModel",
      "state": {
       "description_width": "initial"
      }
     },
     "920f1b5390eb4dacba06307e20e4303a": {
      "model_module": "@jupyter-widgets/base",
      "model_module_version": "1.0.0",
      "model_name": "LayoutModel",
      "state": {}
     },
     "92190f61376e438e961f42baf4351f39": {
      "model_module": "@jupyter-widgets/controls",
      "model_module_version": "1.1.0",
      "model_name": "IntTextModel",
      "state": {
       "description": "Vertical space between layers:",
       "layout": "IPY_MODEL_2112f1e1aec4448694aa55eea10a2503",
       "step": 1,
       "style": "IPY_MODEL_3a1b806d9efb4c018f58c18873e6046b",
       "value": 30
      }
     },
     "921a574367744a93b98fd7b774b56951": {
      "model_module": "@jupyter-widgets/base",
      "model_module_version": "1.0.0",
      "model_name": "LayoutModel",
      "state": {
       "width": "100%"
      }
     },
     "926523940e4544d787e0c9b598e58cdc": {
      "model_module": "@jupyter-widgets/controls",
      "model_module_version": "1.1.0",
      "model_name": "VBoxModel",
      "state": {
       "children": [
        "IPY_MODEL_2698e82bbc5d40639849ed692863adec",
        "IPY_MODEL_761fe06f026b4d2eab5c3cc61a6bf045"
       ],
       "layout": "IPY_MODEL_f5ca1fb0c0ee4d44a2f19fdf32d6ce8e"
      }
     },
     "92a6038522c74d1887e9b6f4b6038cbe": {
      "model_module": "@jupyter-widgets/base",
      "model_module_version": "1.0.0",
      "model_name": "LayoutModel",
      "state": {}
     },
     "92b8699a331b444c9fa0e2a31f2726e2": {
      "model_module": "@jupyter-widgets/controls",
      "model_module_version": "1.1.0",
      "model_name": "FloatSliderModel",
      "state": {
       "continuous_update": false,
       "description": "Zoom",
       "layout": "IPY_MODEL_143571b8afff45528b343d995292c649",
       "max": 1,
       "step": 0.1,
       "style": "IPY_MODEL_91cd9dca9d45472cb3cbddf67fb94954",
       "value": 0.8
      }
     },
     "92e9a0a5e65d498797aab8339aa51472": {
      "model_module": "@jupyter-widgets/controls",
      "model_module_version": "1.1.0",
      "model_name": "ButtonModel",
      "state": {
       "icon": "fast-backward",
       "layout": "IPY_MODEL_f0b79c259deb42eab9fa344edb54861f",
       "style": "IPY_MODEL_d80ea9a0920244d2abc86f32091637ff"
      }
     },
     "93661e5b388d410cb16340e71c789553": {
      "model_module": "@jupyter-widgets/base",
      "model_module_version": "1.0.0",
      "model_name": "LayoutModel",
      "state": {}
     },
     "9421d0d8ae194f50a3dac85fbbf0c428": {
      "model_module": "@jupyter-widgets/controls",
      "model_module_version": "1.1.0",
      "model_name": "DescriptionStyleModel",
      "state": {
       "description_width": ""
      }
     },
     "9448ca6f8d024314b1555f0eed7b2fc2": {
      "model_module": "@jupyter-widgets/controls",
      "model_module_version": "1.1.0",
      "model_name": "ButtonStyleModel",
      "state": {}
     },
     "9479843c32cd45e28641327d942543fa": {
      "model_module": "@jupyter-widgets/base",
      "model_module_version": "1.0.0",
      "model_name": "LayoutModel",
      "state": {}
     },
     "94a57a2eaa854f31b9fc72427ca9eeee": {
      "model_module": "@jupyter-widgets/base",
      "model_module_version": "1.0.0",
      "model_name": "LayoutModel",
      "state": {
       "width": "10%"
      }
     },
     "94b6513ce9984124a153f340046df530": {
      "model_module": "@jupyter-widgets/output",
      "model_module_version": "1.0.0",
      "model_name": "OutputModel",
      "state": {
       "layout": "IPY_MODEL_f37fe28587814bbf9f7f424273912f5f"
      }
     },
     "9580a2d4d9ff44039a7ec3ed1cba6632": {
      "model_module": "@jupyter-widgets/controls",
      "model_module_version": "1.1.0",
      "model_name": "CheckboxModel",
      "state": {
       "description": "Rotate",
       "disabled": false,
       "layout": "IPY_MODEL_8955ba102b5d4c6ea881b572f2dc91ce",
       "style": "IPY_MODEL_2dad3ff7556b4673907a1d4b3540058e",
       "value": true
      }
     },
     "95875de67c78441d89abbd1438c81429": {
      "model_module": "@jupyter-widgets/controls",
      "model_module_version": "1.1.0",
      "model_name": "IntTextModel",
      "state": {
       "description": "Feature columns:",
       "layout": "IPY_MODEL_439e89ac21c742d4a04e27cb66ffa984",
       "step": 1,
       "style": "IPY_MODEL_3253f4e3c5c3419d891183472de14f63",
       "value": 3
      }
     },
     "95a418794d2240388c4a9625eff13ed5": {
      "model_module": "@jupyter-widgets/controls",
      "model_module_version": "1.1.0",
      "model_name": "DescriptionStyleModel",
      "state": {
       "description_width": ""
      }
     },
     "95a942ee057843dd8eb1d73f534040d6": {
      "model_module": "@jupyter-widgets/base",
      "model_module_version": "1.0.0",
      "model_name": "LayoutModel",
      "state": {}
     },
     "960fe2dc80514f7693534b3d5bc8bb3d": {
      "model_module": "@jupyter-widgets/base",
      "model_module_version": "1.0.0",
      "model_name": "LayoutModel",
      "state": {}
     },
     "96528bc46ae345018262234be1a134cd": {
      "model_module": "@jupyter-widgets/controls",
      "model_module_version": "1.1.0",
      "model_name": "ButtonModel",
      "state": {
       "icon": "backward",
       "layout": "IPY_MODEL_11947017da2e46b2bc65fc0d0c804d75",
       "style": "IPY_MODEL_a81eade6ca5a4bcea2d6c1872589d2cd"
      }
     },
     "967151e38f5447e88956958afbb026f1": {
      "model_module": "@jupyter-widgets/controls",
      "model_module_version": "1.1.0",
      "model_name": "CheckboxModel",
      "state": {
       "description": "Show Targets",
       "disabled": false,
       "layout": "IPY_MODEL_eecf988714ef45b6b02b96cebcb84acb",
       "style": "IPY_MODEL_b0fcd025920f46e29c85c3b1d591409a",
       "value": false
      }
     },
     "98ee5beba6df466d9ccab7741169ccd2": {
      "model_module": "@jupyter-widgets/output",
      "model_module_version": "1.0.0",
      "model_name": "OutputModel",
      "state": {
       "layout": "IPY_MODEL_c2b40c6352b44bc0a5121c8e3b9c7ae3"
      }
     },
     "996943a423414ec58fb7361bd9349b49": {
      "model_module": "@jupyter-widgets/controls",
      "model_module_version": "1.1.0",
      "model_name": "ButtonModel",
      "state": {
       "icon": "save",
       "layout": "IPY_MODEL_60187c43d8d04a92b4b1e35d1d701374",
       "style": "IPY_MODEL_28ca1d80e093494da3ae0d99b71bb6a0"
      }
     },
     "9969fb9b8d474543b496cccf445dd965": {
      "model_module": "@jupyter-widgets/controls",
      "model_module_version": "1.1.0",
      "model_name": "LabelModel",
      "state": {
       "layout": "IPY_MODEL_c66cd7bc8aab4b91b3dfbbfedc58468c",
       "style": "IPY_MODEL_7ec7bb000b5f42ae94d5a73cf6914491",
       "value": "of 1000"
      }
     },
     "998c5d1c0a4441179fb1f5efead44aeb": {
      "model_module": "@jupyter-widgets/controls",
      "model_module_version": "1.1.0",
      "model_name": "IntTextModel",
      "state": {
       "description": "Feature to show:",
       "layout": "IPY_MODEL_b4a90a4bf7474962bb5464497e224184",
       "step": 1,
       "style": "IPY_MODEL_c83b7002c05f4d3dbc623991ab46d4da"
      }
     },
     "99ce6103aac741b69b9992881bbe7705": {
      "model_module": "@jupyter-widgets/controls",
      "model_module_version": "1.1.0",
      "model_name": "CheckboxModel",
      "state": {
       "description": "Rotate network",
       "disabled": false,
       "layout": "IPY_MODEL_5bc5e4abedbd4eaa80e38d07de602dd2",
       "style": "IPY_MODEL_6757b61b594d499b8b4a42c6a4b4115e",
       "value": false
      }
     },
     "9a09f03e5d244a92bfbc5a06ec19e858": {
      "model_module": "@jupyter-widgets/controls",
      "model_module_version": "1.1.0",
      "model_name": "SelectModel",
      "state": {
       "_options_labels": [
        "input1",
        "input2",
        "input3",
        "hidden1",
        "hidden2",
        "hidden1-2",
        "hidden2-2",
        "merge",
        "output1",
        "output2"
       ],
       "description": "Layer:",
       "index": 9,
       "layout": "IPY_MODEL_1dccebca2058475bb15ca372effd2edf",
       "rows": 1,
       "style": "IPY_MODEL_1085c845252f48058255b407595e9154"
      }
     },
     "9a1700aedaed4e2a888c757aa0ac5778": {
      "model_module": "@jupyter-widgets/controls",
      "model_module_version": "1.1.0",
      "model_name": "DescriptionStyleModel",
      "state": {
       "description_width": "initial"
      }
     },
     "9a2c3dadea76436a8512bdee848f82ea": {
      "model_module": "@jupyter-widgets/controls",
      "model_module_version": "1.1.0",
      "model_name": "DescriptionStyleModel",
      "state": {
       "description_width": ""
      }
     },
     "9a311f70201041069fe7a05ff5ed1835": {
      "model_module": "@jupyter-widgets/controls",
      "model_module_version": "1.1.0",
      "model_name": "DescriptionStyleModel",
      "state": {
       "description_width": "initial"
      }
     },
     "9a57653d8d524593849bbe18ebb30b48": {
      "model_module": "@jupyter-widgets/controls",
      "model_module_version": "1.1.0",
      "model_name": "SliderStyleModel",
      "state": {
       "description_width": "initial"
      }
     },
     "9a60a0cd9d3b4c24a4ecff6da29f2755": {
      "model_module": "@jupyter-widgets/controls",
      "model_module_version": "1.1.0",
      "model_name": "HBoxModel",
      "state": {
       "children": [
        "IPY_MODEL_1a2dbd2927c348009da1ab1ed025160c",
        "IPY_MODEL_23f05f0d30384f598e80ba32c1d10a74"
       ],
       "layout": "IPY_MODEL_e1d08bfd8dc64d99a93b66cfe89cda4b"
      }
     },
     "9a62959fbdd74faba978c5b5126b2f14": {
      "model_module": "@jupyter-widgets/output",
      "model_module_version": "1.0.0",
      "model_name": "OutputModel",
      "state": {
       "layout": "IPY_MODEL_5de52421159c406d98ae4116959a0705"
      }
     },
     "9b23ae47472a4af499354f2c7e32575d": {
      "model_module": "@jupyter-widgets/base",
      "model_module_version": "1.0.0",
      "model_name": "LayoutModel",
      "state": {
       "width": "65%"
      }
     },
     "9b473c14071b4b41b9346cccb15d0a88": {
      "model_module": "@jupyter-widgets/controls",
      "model_module_version": "1.1.0",
      "model_name": "DescriptionStyleModel",
      "state": {
       "description_width": ""
      }
     },
     "9b5a762365f94652847eb21a7f6ab250": {
      "model_module": "@jupyter-widgets/base",
      "model_module_version": "1.0.0",
      "model_name": "LayoutModel",
      "state": {
       "width": "100px"
      }
     },
     "9bf474eb0b4d43a5beb72e317f22d1e4": {
      "model_module": "@jupyter-widgets/controls",
      "model_module_version": "1.1.0",
      "model_name": "ButtonStyleModel",
      "state": {}
     },
     "9cea3457219f40249e3b5c299924eec7": {
      "model_module": "@jupyter-widgets/controls",
      "model_module_version": "1.1.0",
      "model_name": "FloatTextModel",
      "state": {
       "description": "Leftmost color maps to:",
       "layout": "IPY_MODEL_69d0d8789b3d49af942ea94c6c1acb80",
       "step": null,
       "style": "IPY_MODEL_b520119f19674f82964eb31078adb499",
       "value": -2
      }
     },
     "9ceebac8dc1d45b98ef2905f69fec65a": {
      "model_module": "@jupyter-widgets/controls",
      "model_module_version": "1.1.0",
      "model_name": "DescriptionStyleModel",
      "state": {
       "description_width": "initial"
      }
     },
     "9d010c96ebc94bd3ae12388080d828c3": {
      "model_module": "@jupyter-widgets/controls",
      "model_module_version": "1.1.0",
      "model_name": "ButtonModel",
      "state": {
       "description": "Play",
       "icon": "play",
       "layout": "IPY_MODEL_52f4501a93dd41608c95a0cea6889b36",
       "style": "IPY_MODEL_5626d16a441745eba40dbbf85f1cff13"
      }
     },
     "9d535bb012fe41fb9dfd5486510adfec": {
      "model_module": "@jupyter-widgets/base",
      "model_module_version": "1.0.0",
      "model_name": "LayoutModel",
      "state": {}
     },
     "9d6183f9543d470981e48c51792bd9c7": {
      "model_module": "@jupyter-widgets/controls",
      "model_module_version": "1.1.0",
      "model_name": "ButtonStyleModel",
      "state": {}
     },
     "9d83854129124afc99d0a7504acc8dc8": {
      "model_module": "@jupyter-widgets/controls",
      "model_module_version": "1.1.0",
      "model_name": "DescriptionStyleModel",
      "state": {
       "description_width": "initial"
      }
     },
     "9deed0c13f20472fa067a468798f1174": {
      "model_module": "@jupyter-widgets/base",
      "model_module_version": "1.0.0",
      "model_name": "LayoutModel",
      "state": {
       "width": "25%"
      }
     },
     "9e39fcb6767047d680b495aeadfa79e5": {
      "model_module": "@jupyter-widgets/base",
      "model_module_version": "1.0.0",
      "model_name": "LayoutModel",
      "state": {
       "width": "100%"
      }
     },
     "9e63fa36ef5749bab2e2ba441e92b517": {
      "model_module": "@jupyter-widgets/base",
      "model_module_version": "1.0.0",
      "model_name": "LayoutModel",
      "state": {}
     },
     "9e706055e95e4286848ee1a073487c63": {
      "model_module": "@jupyter-widgets/controls",
      "model_module_version": "1.1.0",
      "model_name": "VBoxModel",
      "state": {
       "children": [
        "IPY_MODEL_1c95b7821b99440aae6eb3a3a3c017f6",
        "IPY_MODEL_1a976330b1d547049089f0d2cff6bc52",
        "IPY_MODEL_71d3f1361837467783e5eaf7b697f17e",
        "IPY_MODEL_5793861a4af74f87bf84feb4b34bbf05",
        "IPY_MODEL_d7c3eadd9ebd42ae940e670f1023f154",
        "IPY_MODEL_b204a6b387734977aa8409722bc10caa",
        "IPY_MODEL_05c280a3f3d14ca4afb777a04d831591",
        "IPY_MODEL_8d4f3ec27a7a41c6a8ed124d8014de8a"
       ],
       "layout": "IPY_MODEL_c2fe9b502f3f4b68af5ac30809366b38"
      }
     },
     "9e90f8a775164b8394f4e33ad1d78e93": {
      "model_module": "@jupyter-widgets/controls",
      "model_module_version": "1.1.0",
      "model_name": "FloatTextModel",
      "state": {
       "description": "Feature scale:",
       "layout": "IPY_MODEL_5008806ad671444ab9edec8fa10e823e",
       "step": null,
       "style": "IPY_MODEL_8ed0e41bbdf44ab690db32ce15f665f4",
       "value": 1
      }
     },
     "9ed1e0fd150941f3aabdbda53b89ca4f": {
      "model_module": "@jupyter-widgets/controls",
      "model_module_version": "1.1.0",
      "model_name": "DescriptionStyleModel",
      "state": {
       "description_width": ""
      }
     },
     "9eefa724fc74468cb49b949ecf0bebea": {
      "model_module": "@jupyter-widgets/controls",
      "model_module_version": "1.1.0",
      "model_name": "DescriptionStyleModel",
      "state": {
       "description_width": ""
      }
     },
     "9f176a3ac5af4a2ab2d5c72ebd6a3b46": {
      "model_module": "@jupyter-widgets/controls",
      "model_module_version": "1.1.0",
      "model_name": "HBoxModel",
      "state": {
       "children": [
        "IPY_MODEL_0c46cc31c106476a950e8d26582760cf",
        "IPY_MODEL_f3bd443acfee4d0da28f056b86de455c"
       ],
       "layout": "IPY_MODEL_465bb77e56bc4f14960356ff9ff00971"
      }
     },
     "9f8bc0e8778f4199875dae4e6c68c658": {
      "model_module": "@jupyter-widgets/base",
      "model_module_version": "1.0.0",
      "model_name": "LayoutModel",
      "state": {
       "width": "100px"
      }
     },
     "9fe1a931511849a6978a993925ebafa2": {
      "model_module": "@jupyter-widgets/base",
      "model_module_version": "1.0.0",
      "model_name": "LayoutModel",
      "state": {
       "width": "25%"
      }
     },
     "9ffa120d700c4fd181a6b13247f579b9": {
      "model_module": "@jupyter-widgets/base",
      "model_module_version": "1.0.0",
      "model_name": "LayoutModel",
      "state": {
       "width": "100%"
      }
     },
     "a075f35179054d5a93984eb380621538": {
      "model_module": "@jupyter-widgets/controls",
      "model_module_version": "1.1.0",
      "model_name": "CheckboxModel",
      "state": {
       "description": "Rotate",
       "disabled": false,
       "layout": "IPY_MODEL_37858b4a69cd492ea6129225211dcfe6",
       "style": "IPY_MODEL_8da7f09796e4488786580f14a301df2c",
       "value": true
      }
     },
     "a08b57e2fd6a4189b19f4d1680475588": {
      "model_module": "@jupyter-widgets/controls",
      "model_module_version": "1.1.0",
      "model_name": "ButtonStyleModel",
      "state": {}
     },
     "a0ed41b281164d04ba13723fc2e4c6be": {
      "model_module": "@jupyter-widgets/base",
      "model_module_version": "1.0.0",
      "model_name": "LayoutModel",
      "state": {}
     },
     "a1678372737b4023a5aa89ba99036c1c": {
      "model_module": "@jupyter-widgets/controls",
      "model_module_version": "1.1.0",
      "model_name": "IntTextModel",
      "state": {
       "description": "Vertical space between layers:",
       "layout": "IPY_MODEL_442c0668cff04fba8401e7916a5f4228",
       "step": 1,
       "style": "IPY_MODEL_eb3045508ad249a1a5ce686dd7176709",
       "value": 30
      }
     },
     "a2efe0ca5300486092b8cdc6dd838f80": {
      "model_module": "@jupyter-widgets/controls",
      "model_module_version": "1.1.0",
      "model_name": "ButtonStyleModel",
      "state": {}
     },
     "a33b890a12bc42c0a1d25d20fe09f4be": {
      "model_module": "@jupyter-widgets/controls",
      "model_module_version": "1.1.0",
      "model_name": "ButtonStyleModel",
      "state": {}
     },
     "a3763c328ffb4e7288bffc7acba588d8": {
      "model_module": "@jupyter-widgets/controls",
      "model_module_version": "1.1.0",
      "model_name": "ButtonModel",
      "state": {
       "icon": "forward",
       "layout": "IPY_MODEL_78466cb9aebc4fd68860d85160ab7549",
       "style": "IPY_MODEL_1368a8c094bb4e2fa0e8e4d1cb071cb7"
      }
     },
     "a3de9eb9fc4249d5a6666a19c62ef851": {
      "model_module": "@jupyter-widgets/controls",
      "model_module_version": "1.1.0",
      "model_name": "DescriptionStyleModel",
      "state": {
       "description_width": ""
      }
     },
     "a420489d4a714a44bd95dacdf19ed868": {
      "model_module": "@jupyter-widgets/base",
      "model_module_version": "1.0.0",
      "model_name": "LayoutModel",
      "state": {}
     },
     "a428bff1e77741a2b56e7245235e9682": {
      "model_module": "@jupyter-widgets/base",
      "model_module_version": "1.0.0",
      "model_name": "LayoutModel",
      "state": {}
     },
     "a42d8129f45f40569513734262c20925": {
      "model_module": "@jupyter-widgets/controls",
      "model_module_version": "1.1.0",
      "model_name": "HBoxModel",
      "state": {
       "children": [
        "IPY_MODEL_1ed169dbf3e34b729f7c62a4c4311061",
        "IPY_MODEL_134d4dee43e34abd894dc9f59e31b475"
       ],
       "layout": "IPY_MODEL_f1b39464342346999612ffd0e41bb464"
      }
     },
     "a4a0ce88c7d44475b92deb541ff239eb": {
      "model_module": "@jupyter-widgets/controls",
      "model_module_version": "1.1.0",
      "model_name": "CheckboxModel",
      "state": {
       "description": "Errors",
       "disabled": false,
       "layout": "IPY_MODEL_5bd06861033745e58d4c269096f14023",
       "style": "IPY_MODEL_c4bcd72074e24e0e812698bdf33357ed",
       "value": false
      }
     },
     "a4f3b61e07fe4219b8fdb98cea9178d7": {
      "model_module": "@jupyter-widgets/base",
      "model_module_version": "1.0.0",
      "model_name": "LayoutModel",
      "state": {
       "justify_content": "center",
       "overflow_x": "auto",
       "overflow_y": "auto",
       "width": "95%"
      }
     },
     "a502918d75ff4688a54df87e0353e29b": {
      "model_module": "@jupyter-widgets/controls",
      "model_module_version": "1.1.0",
      "model_name": "SliderStyleModel",
      "state": {
       "description_width": ""
      }
     },
     "a51fee9672f64a58aa6e1269325a323b": {
      "model_module": "@jupyter-widgets/controls",
      "model_module_version": "1.1.0",
      "model_name": "ButtonStyleModel",
      "state": {}
     },
     "a5851e8c47e141388ca6222b809e26a1": {
      "model_module": "@jupyter-widgets/controls",
      "model_module_version": "1.1.0",
      "model_name": "DescriptionStyleModel",
      "state": {
       "description_width": ""
      }
     },
     "a5b4083fa9814f0e9db1afd88965fc2b": {
      "model_module": "@jupyter-widgets/base",
      "model_module_version": "1.0.0",
      "model_name": "LayoutModel",
      "state": {}
     },
     "a5fe0872161945d5b67bf20c3dc5a2ee": {
      "model_module": "@jupyter-widgets/controls",
      "model_module_version": "1.1.0",
      "model_name": "SliderStyleModel",
      "state": {
       "description_width": ""
      }
     },
     "a615bbf1b36e4c3088a1957596218db6": {
      "model_module": "@jupyter-widgets/controls",
      "model_module_version": "1.1.0",
      "model_name": "SelectModel",
      "state": {
       "_options_labels": [
        "Test",
        "Train"
       ],
       "description": "Dataset:",
       "index": 1,
       "layout": "IPY_MODEL_da455c70be7a4a44b3d056e4caf3ec6d",
       "rows": 1,
       "style": "IPY_MODEL_c270e19bc74945b3b810d1e74eedf2c2"
      }
     },
     "a6198eac106447ca8154bf2e82581daa": {
      "model_module": "@jupyter-widgets/controls",
      "model_module_version": "1.1.0",
      "model_name": "AccordionModel",
      "state": {
       "_titles": {
        "0": "Finger Math"
       },
       "children": [
        "IPY_MODEL_350fb2e041084c5ba35a714ce2081c3b"
       ],
       "layout": "IPY_MODEL_377228fb8232474bbb13ddc08d72ff06",
       "selected_index": null
      }
     },
     "a623345f9331452594ea32ef2996a76c": {
      "model_module": "@jupyter-widgets/controls",
      "model_module_version": "1.1.0",
      "model_name": "SelectModel",
      "state": {
       "_options_labels": [
        "",
        "Accent",
        "Accent_r",
        "Blues",
        "Blues_r",
        "BrBG",
        "BrBG_r",
        "BuGn",
        "BuGn_r",
        "BuPu",
        "BuPu_r",
        "CMRmap",
        "CMRmap_r",
        "Dark2",
        "Dark2_r",
        "GnBu",
        "GnBu_r",
        "Greens",
        "Greens_r",
        "Greys",
        "Greys_r",
        "OrRd",
        "OrRd_r",
        "Oranges",
        "Oranges_r",
        "PRGn",
        "PRGn_r",
        "Paired",
        "Paired_r",
        "Pastel1",
        "Pastel1_r",
        "Pastel2",
        "Pastel2_r",
        "PiYG",
        "PiYG_r",
        "PuBu",
        "PuBuGn",
        "PuBuGn_r",
        "PuBu_r",
        "PuOr",
        "PuOr_r",
        "PuRd",
        "PuRd_r",
        "Purples",
        "Purples_r",
        "RdBu",
        "RdBu_r",
        "RdGy",
        "RdGy_r",
        "RdPu",
        "RdPu_r",
        "RdYlBu",
        "RdYlBu_r",
        "RdYlGn",
        "RdYlGn_r",
        "Reds",
        "Reds_r",
        "Set1",
        "Set1_r",
        "Set2",
        "Set2_r",
        "Set3",
        "Set3_r",
        "Spectral",
        "Spectral_r",
        "Vega10",
        "Vega10_r",
        "Vega20",
        "Vega20_r",
        "Vega20b",
        "Vega20b_r",
        "Vega20c",
        "Vega20c_r",
        "Wistia",
        "Wistia_r",
        "YlGn",
        "YlGnBu",
        "YlGnBu_r",
        "YlGn_r",
        "YlOrBr",
        "YlOrBr_r",
        "YlOrRd",
        "YlOrRd_r",
        "afmhot",
        "afmhot_r",
        "autumn",
        "autumn_r",
        "binary",
        "binary_r",
        "bone",
        "bone_r",
        "brg",
        "brg_r",
        "bwr",
        "bwr_r",
        "cool",
        "cool_r",
        "coolwarm",
        "coolwarm_r",
        "copper",
        "copper_r",
        "cubehelix",
        "cubehelix_r",
        "flag",
        "flag_r",
        "gist_earth",
        "gist_earth_r",
        "gist_gray",
        "gist_gray_r",
        "gist_heat",
        "gist_heat_r",
        "gist_ncar",
        "gist_ncar_r",
        "gist_rainbow",
        "gist_rainbow_r",
        "gist_stern",
        "gist_stern_r",
        "gist_yarg",
        "gist_yarg_r",
        "gnuplot",
        "gnuplot2",
        "gnuplot2_r",
        "gnuplot_r",
        "gray",
        "gray_r",
        "hot",
        "hot_r",
        "hsv",
        "hsv_r",
        "inferno",
        "inferno_r",
        "jet",
        "jet_r",
        "magma",
        "magma_r",
        "nipy_spectral",
        "nipy_spectral_r",
        "ocean",
        "ocean_r",
        "pink",
        "pink_r",
        "plasma",
        "plasma_r",
        "prism",
        "prism_r",
        "rainbow",
        "rainbow_r",
        "seismic",
        "seismic_r",
        "spectral",
        "spectral_r",
        "spring",
        "spring_r",
        "summer",
        "summer_r",
        "tab10",
        "tab10_r",
        "tab20",
        "tab20_r",
        "tab20b",
        "tab20b_r",
        "tab20c",
        "tab20c_r",
        "terrain",
        "terrain_r",
        "viridis",
        "viridis_r",
        "winter",
        "winter_r"
       ],
       "description": "Colormap:",
       "index": 0,
       "layout": "IPY_MODEL_90de29ae74eb41418e354aa7a12374bf",
       "rows": 1,
       "style": "IPY_MODEL_3e2d852288e54ae4b0832072b995cdf5"
      }
     },
     "a62c12650d784005819534b3d9cf7ae9": {
      "model_module": "@jupyter-widgets/controls",
      "model_module_version": "1.1.0",
      "model_name": "DescriptionStyleModel",
      "state": {
       "description_width": "initial"
      }
     },
     "a6930b5931c540078e0e747af2c0d9ad": {
      "model_module": "@jupyter-widgets/controls",
      "model_module_version": "1.1.0",
      "model_name": "CheckboxModel",
      "state": {
       "description": "Visible",
       "disabled": false,
       "layout": "IPY_MODEL_5bd06861033745e58d4c269096f14023",
       "style": "IPY_MODEL_020ed78b4cc040ea8e834f6fa9b2dfe7",
       "value": true
      }
     },
     "a6b32a40bfae4a20b096805f585b71be": {
      "model_module": "@jupyter-widgets/base",
      "model_module_version": "1.0.0",
      "model_name": "LayoutModel",
      "state": {}
     },
     "a6dcdcb2b0dd457aa922f3b91b0d9e4d": {
      "model_module": "@jupyter-widgets/controls",
      "model_module_version": "1.1.0",
      "model_name": "ButtonStyleModel",
      "state": {}
     },
     "a74fb8a92b4d40769c4cdb0b8f5eaab2": {
      "model_module": "@jupyter-widgets/base",
      "model_module_version": "1.0.0",
      "model_name": "LayoutModel",
      "state": {}
     },
     "a7cc9fd68d6849f0883553888cf04b43": {
      "model_module": "@jupyter-widgets/controls",
      "model_module_version": "1.1.0",
      "model_name": "DescriptionStyleModel",
      "state": {
       "description_width": "initial"
      }
     },
     "a81eade6ca5a4bcea2d6c1872589d2cd": {
      "model_module": "@jupyter-widgets/controls",
      "model_module_version": "1.1.0",
      "model_name": "ButtonStyleModel",
      "state": {}
     },
     "a8296823c32d47189fc3a44b96ce52bb": {
      "model_module": "@jupyter-widgets/base",
      "model_module_version": "1.0.0",
      "model_name": "LayoutModel",
      "state": {}
     },
     "a87cdff4a04b43d7974aed395cad8ea5": {
      "model_module": "@jupyter-widgets/base",
      "model_module_version": "1.0.0",
      "model_name": "LayoutModel",
      "state": {
       "width": "100%"
      }
     },
     "a8828d3f559b42ba9dabe48fc175d662": {
      "model_module": "@jupyter-widgets/controls",
      "model_module_version": "1.1.0",
      "model_name": "ButtonModel",
      "state": {
       "description": "Play",
       "icon": "play",
       "layout": "IPY_MODEL_c317a6f93a054b91955405c7da14e2b0",
       "style": "IPY_MODEL_c1ee272af3424a90a162ae3c75a2dc71"
      }
     },
     "a8b8a2496dae4a16a6a101744d224be4": {
      "model_module": "@jupyter-widgets/controls",
      "model_module_version": "1.1.0",
      "model_name": "ButtonModel",
      "state": {
       "icon": "backward",
       "layout": "IPY_MODEL_ad4ab8d2a0e64cb6ac2287a60a2d607c",
       "style": "IPY_MODEL_47a1e766040f44dca8bae511174c73e3"
      }
     },
     "a8ce4703c79246d9a4938b61335d912b": {
      "model_module": "@jupyter-widgets/controls",
      "model_module_version": "1.1.0",
      "model_name": "DescriptionStyleModel",
      "state": {
       "description_width": "initial"
      }
     },
     "a8d527be38274608a08844c5a4f2f40d": {
      "model_module": "@jupyter-widgets/base",
      "model_module_version": "1.0.0",
      "model_name": "LayoutModel",
      "state": {
       "width": "25%"
      }
     },
     "a92b08627a044255b3a7e71adb46d6ff": {
      "model_module": "@jupyter-widgets/controls",
      "model_module_version": "1.1.0",
      "model_name": "DescriptionStyleModel",
      "state": {
       "description_width": "initial"
      }
     },
     "a94dbde553ee4dea9d3763660ce7ad3d": {
      "model_module": "@jupyter-widgets/controls",
      "model_module_version": "1.1.0",
      "model_name": "SelectModel",
      "state": {
       "_options_labels": [
        "Test",
        "Train"
       ],
       "description": "Dataset:",
       "index": 1,
       "layout": "IPY_MODEL_6c13feb3e9834214a91d221df4bd0b4d",
       "rows": 1,
       "style": "IPY_MODEL_7c17b778c4ee4989b62e30ecaa160596"
      }
     },
     "a96dac90ee3c4e7a9463169f672ec25e": {
      "model_module": "@jupyter-widgets/controls",
      "model_module_version": "1.1.0",
      "model_name": "HBoxModel",
      "state": {
       "children": [
        "IPY_MODEL_0f90d036adcd4bd2ade2bd5d49c1b006",
        "IPY_MODEL_9e706055e95e4286848ee1a073487c63"
       ],
       "layout": "IPY_MODEL_960fe2dc80514f7693534b3d5bc8bb3d"
      }
     },
     "a9a46242f3914e17aa73100c06fa4895": {
      "model_module": "@jupyter-widgets/base",
      "model_module_version": "1.0.0",
      "model_name": "LayoutModel",
      "state": {
       "width": "65%"
      }
     },
     "a9c98a992e654e1b80c949fc75dd4bc6": {
      "model_module": "@jupyter-widgets/controls",
      "model_module_version": "1.1.0",
      "model_name": "SliderStyleModel",
      "state": {
       "description_width": ""
      }
     },
     "a9cd53069b124c05874f6923106ece1b": {
      "model_module": "@jupyter-widgets/controls",
      "model_module_version": "1.1.0",
      "model_name": "ButtonModel",
      "state": {
       "icon": "backward",
       "layout": "IPY_MODEL_921a574367744a93b98fd7b774b56951",
       "style": "IPY_MODEL_18d8fb20745141159403c1476cebfdad"
      }
     },
     "a9e40943efb544f986e48e49baff75cd": {
      "model_module": "@jupyter-widgets/controls",
      "model_module_version": "1.1.0",
      "model_name": "DescriptionStyleModel",
      "state": {
       "description_width": "initial"
      }
     },
     "aa39779dbd5a4b8ab0dfc5972f50e8b6": {
      "model_module": "@jupyter-widgets/base",
      "model_module_version": "1.0.0",
      "model_name": "LayoutModel",
      "state": {}
     },
     "aad84d80f4304328844ae6e1bbe8a119": {
      "model_module": "@jupyter-widgets/controls",
      "model_module_version": "1.1.0",
      "model_name": "IntTextModel",
      "state": {
       "description": "Feature columns:",
       "layout": "IPY_MODEL_ca850b29369f4a3fa6cb6ee47d8891ce",
       "step": 1,
       "style": "IPY_MODEL_a9e40943efb544f986e48e49baff75cd",
       "value": 3
      }
     },
     "aae15413f40f49f8b1b64cadfca7f7f8": {
      "model_module": "@jupyter-widgets/base",
      "model_module_version": "1.0.0",
      "model_name": "LayoutModel",
      "state": {
       "height": "50px",
       "width": "100%"
      }
     },
     "ab2225e0c89d405c95e96445d9f3d031": {
      "model_module": "@jupyter-widgets/base",
      "model_module_version": "1.0.0",
      "model_name": "LayoutModel",
      "state": {
       "height": "40px"
      }
     },
     "ab306556558043abbead411100fd4b77": {
      "model_module": "@jupyter-widgets/controls",
      "model_module_version": "1.1.0",
      "model_name": "DescriptionStyleModel",
      "state": {
       "description_width": ""
      }
     },
     "ab639d601c504d8d88c87650db8ba6ba": {
      "model_module": "@jupyter-widgets/controls",
      "model_module_version": "1.1.0",
      "model_name": "CheckboxModel",
      "state": {
       "description": "Visible",
       "disabled": false,
       "layout": "IPY_MODEL_2112f1e1aec4448694aa55eea10a2503",
       "style": "IPY_MODEL_440c1db122e34b22a3264b5cea3785b1",
       "value": true
      }
     },
     "ab863902c9fb4a20a2b472e35e9d3350": {
      "model_module": "@jupyter-widgets/controls",
      "model_module_version": "1.1.0",
      "model_name": "SliderStyleModel",
      "state": {
       "description_width": ""
      }
     },
     "abcd80c7d6b448888e38fc93d406b86b": {
      "model_module": "@jupyter-widgets/base",
      "model_module_version": "1.0.0",
      "model_name": "LayoutModel",
      "state": {}
     },
     "ac323063b5a54d5f989ed85cfd740f04": {
      "model_module": "@jupyter-widgets/controls",
      "model_module_version": "1.1.0",
      "model_name": "SelectModel",
      "state": {
       "_options_labels": [
        "input1",
        "input2",
        "flatten1",
        "flatten2",
        "hidden",
        "output"
       ],
       "description": "Layer:",
       "index": 5,
       "layout": "IPY_MODEL_24d5ad3e93c04553a6da15f18cd248a4",
       "rows": 1,
       "style": "IPY_MODEL_b5185a0b331d4d4cb51ec9228d39af30"
      }
     },
     "ac79fe244cd240159b893641c0231259": {
      "model_module": "@jupyter-widgets/base",
      "model_module_version": "1.0.0",
      "model_name": "LayoutModel",
      "state": {}
     },
     "ac81529f95114bcf90b6ee82dafedbb0": {
      "model_module": "@jupyter-widgets/controls",
      "model_module_version": "1.1.0",
      "model_name": "ButtonModel",
      "state": {
       "icon": "forward",
       "layout": "IPY_MODEL_1b7944154106443a9c83ec76f5a88df9",
       "style": "IPY_MODEL_a08b57e2fd6a4189b19f4d1680475588"
      }
     },
     "acb567b3e45a4942be2c05a3364d6556": {
      "model_module": "@jupyter-widgets/controls",
      "model_module_version": "1.1.0",
      "model_name": "HBoxModel",
      "state": {
       "children": [
        "IPY_MODEL_1557843a60e2451c9998787c413b35c5",
        "IPY_MODEL_0c4edb237c3f40be9dc3e19688fc5173"
       ],
       "layout": "IPY_MODEL_f2ad96ef80e547c8800bf8621d58c646"
      }
     },
     "acc0599069c54a8da6e0252317d96f1a": {
      "model_module": "@jupyter-widgets/controls",
      "model_module_version": "1.1.0",
      "model_name": "SelectModel",
      "state": {
       "_options_labels": [
        "Test",
        "Train"
       ],
       "description": "Dataset:",
       "index": 1,
       "layout": "IPY_MODEL_6b245147dfc149c9947dddd69fefda2d",
       "rows": 1,
       "style": "IPY_MODEL_fcc74471c5894bcbb36b46d7408df451"
      }
     },
     "ad0e510e52f8476bb4d017673322842e": {
      "model_module": "@jupyter-widgets/controls",
      "model_module_version": "1.1.0",
      "model_name": "CheckboxModel",
      "state": {
       "description": "Show Targets",
       "disabled": false,
       "layout": "IPY_MODEL_2112f1e1aec4448694aa55eea10a2503",
       "style": "IPY_MODEL_e96914aa2d1f49d7bb216b3ca0101469",
       "value": false
      }
     },
     "ad4ab8d2a0e64cb6ac2287a60a2d607c": {
      "model_module": "@jupyter-widgets/base",
      "model_module_version": "1.0.0",
      "model_name": "LayoutModel",
      "state": {
       "width": "100%"
      }
     },
     "adc0b92b977e4c849fd9e45b603c170a": {
      "model_module": "@jupyter-widgets/controls",
      "model_module_version": "1.1.0",
      "model_name": "SelectModel",
      "state": {
       "_options_labels": [
        "input1",
        "input2",
        "flatten1",
        "flatten2",
        "hidden",
        "output"
       ],
       "description": "Layer:",
       "index": 5,
       "layout": "IPY_MODEL_5c6e8d933803417f90cb3df1d100e342",
       "rows": 1,
       "style": "IPY_MODEL_0f8eb3be89874b8d94aeb5f1997429d6"
      }
     },
     "adc5c1b5fda2435794012f6c6477f2a6": {
      "model_module": "@jupyter-widgets/controls",
      "model_module_version": "1.1.0",
      "model_name": "DescriptionStyleModel",
      "state": {
       "description_width": ""
      }
     },
     "adcf4449ba8c47e3a254a17316182f20": {
      "model_module": "@jupyter-widgets/base",
      "model_module_version": "1.0.0",
      "model_name": "LayoutModel",
      "state": {
       "width": "100%"
      }
     },
     "ade1a98ab53244c5bd5a01f907961f47": {
      "model_module": "@jupyter-widgets/controls",
      "model_module_version": "1.1.0",
      "model_name": "SelectModel",
      "state": {
       "_options_labels": [
        "input1",
        "input2",
        "input3",
        "hidden1",
        "hidden2",
        "hidden1-2",
        "hidden2-2",
        "merge",
        "output1",
        "output2"
       ],
       "description": "Layer:",
       "index": 9,
       "layout": "IPY_MODEL_2a7248e7fb8243fa88b4b7bc6e3ea2bb",
       "rows": 1,
       "style": "IPY_MODEL_c0f8036a28de475d94a4950863a7a615"
      }
     },
     "ae1d495aec714d269ee6945494417052": {
      "model_module": "@jupyter-widgets/base",
      "model_module_version": "1.0.0",
      "model_name": "LayoutModel",
      "state": {}
     },
     "ae2ad68022964a08b904653e59716db0": {
      "model_module": "@jupyter-widgets/controls",
      "model_module_version": "1.1.0",
      "model_name": "DescriptionStyleModel",
      "state": {
       "description_width": "initial"
      }
     },
     "ae38df8de8124e9daf97a284fcf604c3": {
      "model_module": "@jupyter-widgets/controls",
      "model_module_version": "1.1.0",
      "model_name": "HBoxModel",
      "state": {
       "children": [
        "IPY_MODEL_8c0098af65f64e2e8a31f91c6126ce5f",
        "IPY_MODEL_f0c491e4dc9e4629bd9530cbb1f75dd5"
       ],
       "layout": "IPY_MODEL_ab2225e0c89d405c95e96445d9f3d031"
      }
     },
     "ae56240780dd49aa8fe73c0bee6dde46": {
      "model_module": "@jupyter-widgets/base",
      "model_module_version": "1.0.0",
      "model_name": "LayoutModel",
      "state": {
       "width": "100%"
      }
     },
     "aeaece2c3af7474e9beb487c13c63af2": {
      "model_module": "@jupyter-widgets/controls",
      "model_module_version": "1.1.0",
      "model_name": "DescriptionStyleModel",
      "state": {
       "description_width": "initial"
      }
     },
     "aeb937e516f94f328d8a32000289f277": {
      "model_module": "@jupyter-widgets/controls",
      "model_module_version": "1.1.0",
      "model_name": "VBoxModel",
      "state": {
       "children": [
        "IPY_MODEL_ce01c15c76b04cd0bcac7eed4cddcf70",
        "IPY_MODEL_73b9d87364dc498580506bbd2a4df260",
        "IPY_MODEL_342905d9e266440eb447b945499bea1b",
        "IPY_MODEL_9a62959fbdd74faba978c5b5126b2f14"
       ],
       "layout": "IPY_MODEL_89518d4dbd7e41efa5a41ae804a1e9c8"
      }
     },
     "aebb934ac2a44d16aa0695218303b047": {
      "model_module": "@jupyter-widgets/controls",
      "model_module_version": "1.1.0",
      "model_name": "SelectModel",
      "state": {
       "_options_labels": [
        "",
        "Accent",
        "Accent_r",
        "Blues",
        "Blues_r",
        "BrBG",
        "BrBG_r",
        "BuGn",
        "BuGn_r",
        "BuPu",
        "BuPu_r",
        "CMRmap",
        "CMRmap_r",
        "Dark2",
        "Dark2_r",
        "GnBu",
        "GnBu_r",
        "Greens",
        "Greens_r",
        "Greys",
        "Greys_r",
        "OrRd",
        "OrRd_r",
        "Oranges",
        "Oranges_r",
        "PRGn",
        "PRGn_r",
        "Paired",
        "Paired_r",
        "Pastel1",
        "Pastel1_r",
        "Pastel2",
        "Pastel2_r",
        "PiYG",
        "PiYG_r",
        "PuBu",
        "PuBuGn",
        "PuBuGn_r",
        "PuBu_r",
        "PuOr",
        "PuOr_r",
        "PuRd",
        "PuRd_r",
        "Purples",
        "Purples_r",
        "RdBu",
        "RdBu_r",
        "RdGy",
        "RdGy_r",
        "RdPu",
        "RdPu_r",
        "RdYlBu",
        "RdYlBu_r",
        "RdYlGn",
        "RdYlGn_r",
        "Reds",
        "Reds_r",
        "Set1",
        "Set1_r",
        "Set2",
        "Set2_r",
        "Set3",
        "Set3_r",
        "Spectral",
        "Spectral_r",
        "Vega10",
        "Vega10_r",
        "Vega20",
        "Vega20_r",
        "Vega20b",
        "Vega20b_r",
        "Vega20c",
        "Vega20c_r",
        "Wistia",
        "Wistia_r",
        "YlGn",
        "YlGnBu",
        "YlGnBu_r",
        "YlGn_r",
        "YlOrBr",
        "YlOrBr_r",
        "YlOrRd",
        "YlOrRd_r",
        "afmhot",
        "afmhot_r",
        "autumn",
        "autumn_r",
        "binary",
        "binary_r",
        "bone",
        "bone_r",
        "brg",
        "brg_r",
        "bwr",
        "bwr_r",
        "cool",
        "cool_r",
        "coolwarm",
        "coolwarm_r",
        "copper",
        "copper_r",
        "cubehelix",
        "cubehelix_r",
        "flag",
        "flag_r",
        "gist_earth",
        "gist_earth_r",
        "gist_gray",
        "gist_gray_r",
        "gist_heat",
        "gist_heat_r",
        "gist_ncar",
        "gist_ncar_r",
        "gist_rainbow",
        "gist_rainbow_r",
        "gist_stern",
        "gist_stern_r",
        "gist_yarg",
        "gist_yarg_r",
        "gnuplot",
        "gnuplot2",
        "gnuplot2_r",
        "gnuplot_r",
        "gray",
        "gray_r",
        "hot",
        "hot_r",
        "hsv",
        "hsv_r",
        "inferno",
        "inferno_r",
        "jet",
        "jet_r",
        "magma",
        "magma_r",
        "nipy_spectral",
        "nipy_spectral_r",
        "ocean",
        "ocean_r",
        "pink",
        "pink_r",
        "plasma",
        "plasma_r",
        "prism",
        "prism_r",
        "rainbow",
        "rainbow_r",
        "seismic",
        "seismic_r",
        "spectral",
        "spectral_r",
        "spring",
        "spring_r",
        "summer",
        "summer_r",
        "tab10",
        "tab10_r",
        "tab20",
        "tab20_r",
        "tab20b",
        "tab20b_r",
        "tab20c",
        "tab20c_r",
        "terrain",
        "terrain_r",
        "viridis",
        "viridis_r",
        "winter",
        "winter_r"
       ],
       "description": "Colormap:",
       "index": 0,
       "layout": "IPY_MODEL_eecf988714ef45b6b02b96cebcb84acb",
       "rows": 1,
       "style": "IPY_MODEL_e7e5389f76f04af49e3a9247673eeb28"
      }
     },
     "aece255333484e8d8f1c1152ccfb7ab1": {
      "model_module": "@jupyter-widgets/controls",
      "model_module_version": "1.1.0",
      "model_name": "DescriptionStyleModel",
      "state": {
       "description_width": "initial"
      }
     },
     "af44a3b14134450591797be4669277e3": {
      "model_module": "@jupyter-widgets/base",
      "model_module_version": "1.0.0",
      "model_name": "LayoutModel",
      "state": {
       "width": "100%"
      }
     },
     "b02da52ad5134029a038a19339c7c7d0": {
      "model_module": "@jupyter-widgets/base",
      "model_module_version": "1.0.0",
      "model_name": "LayoutModel",
      "state": {}
     },
     "b04c53a162e24ad19183cc96c0bdc940": {
      "model_module": "@jupyter-widgets/base",
      "model_module_version": "1.0.0",
      "model_name": "LayoutModel",
      "state": {}
     },
     "b07cc8d0492145f7820ac893146e8429": {
      "model_module": "@jupyter-widgets/base",
      "model_module_version": "1.0.0",
      "model_name": "LayoutModel",
      "state": {
       "width": "100%"
      }
     },
     "b0f214f863d94284a1e23b9c98bbd6d8": {
      "model_module": "@jupyter-widgets/controls",
      "model_module_version": "1.1.0",
      "model_name": "CheckboxModel",
      "state": {
       "description": "Rotate network",
       "disabled": false,
       "layout": "IPY_MODEL_151b6a3e57664ee8b47cae8d672dcbe5",
       "style": "IPY_MODEL_715a072d1d034f339cdc95e2a6458e03",
       "value": true
      }
     },
     "b0fcd025920f46e29c85c3b1d591409a": {
      "model_module": "@jupyter-widgets/controls",
      "model_module_version": "1.1.0",
      "model_name": "DescriptionStyleModel",
      "state": {
       "description_width": "initial"
      }
     },
     "b19b66c3788f4b52b30a6308a76fb1be": {
      "model_module": "@jupyter-widgets/controls",
      "model_module_version": "1.1.0",
      "model_name": "DescriptionStyleModel",
      "state": {
       "description_width": "initial"
      }
     },
     "b1d5ecdff88a404b98a3f97d97a0cf5d": {
      "model_module": "@jupyter-widgets/controls",
      "model_module_version": "1.1.0",
      "model_name": "ButtonModel",
      "state": {
       "icon": "fast-backward",
       "layout": "IPY_MODEL_4e6ca74d3f304f1988b3e0f0effd0ad2",
       "style": "IPY_MODEL_b3fc6af0450347fa820ecc698844baca"
      }
     },
     "b1e9e5f034ba4d4e98d8c5eb734088db": {
      "model_module": "@jupyter-widgets/base",
      "model_module_version": "1.0.0",
      "model_name": "LayoutModel",
      "state": {
       "width": "100%"
      }
     },
     "b204a6b387734977aa8409722bc10caa": {
      "model_module": "@jupyter-widgets/controls",
      "model_module_version": "1.1.0",
      "model_name": "FloatTextModel",
      "state": {
       "description": "Rightmost color maps to:",
       "layout": "IPY_MODEL_3a0efa20eb084f4f93f9c618c5d1c3c1",
       "step": null,
       "style": "IPY_MODEL_3f1c5000ce7d43e4abf622bbeedc4ba5",
       "value": 1
      }
     },
     "b257e3330b8e46d886fdd94557329342": {
      "model_module": "@jupyter-widgets/base",
      "model_module_version": "1.0.0",
      "model_name": "LayoutModel",
      "state": {
       "width": "100px"
      }
     },
     "b25a2759124b4b6c85c4f14f3644994c": {
      "model_module": "@jupyter-widgets/base",
      "model_module_version": "1.0.0",
      "model_name": "LayoutModel",
      "state": {
       "width": "100%"
      }
     },
     "b2caabd219e1434f8d72d3f05df482b9": {
      "model_module": "@jupyter-widgets/controls",
      "model_module_version": "1.1.0",
      "model_name": "DescriptionStyleModel",
      "state": {
       "description_width": ""
      }
     },
     "b383fb624e2a418a9c1b4c0b9bc5d31a": {
      "model_module": "@jupyter-widgets/controls",
      "model_module_version": "1.1.0",
      "model_name": "IntSliderModel",
      "state": {
       "continuous_update": false,
       "description": "Dataset index",
       "layout": "IPY_MODEL_06739e5324344a889d517d465047252b",
       "max": 11999,
       "style": "IPY_MODEL_45297401575447b3a6213863be899191",
       "value": 39
      }
     },
     "b3fc6af0450347fa820ecc698844baca": {
      "model_module": "@jupyter-widgets/controls",
      "model_module_version": "1.1.0",
      "model_name": "ButtonStyleModel",
      "state": {}
     },
     "b404f5133ff1437e91a5eea3c1228bab": {
      "model_module": "@jupyter-widgets/base",
      "model_module_version": "1.0.0",
      "model_name": "LayoutModel",
      "state": {
       "height": "40px"
      }
     },
     "b43a4cbf3c5f484b9b509f5f1803681e": {
      "model_module": "@jupyter-widgets/controls",
      "model_module_version": "1.1.0",
      "model_name": "VBoxModel",
      "state": {
       "children": [
        "IPY_MODEL_a6198eac106447ca8154bf2e82581daa",
        "IPY_MODEL_fd169d4d229946648aa1f5f6de624dfc",
        "IPY_MODEL_723e1d1afb88488c9aa0ecfad891f30a",
        "IPY_MODEL_98ee5beba6df466d9ccab7741169ccd2"
       ],
       "layout": "IPY_MODEL_27960add374f45ab82cdeaed87928131"
      }
     },
     "b44b00456d314957a96e8f4b8f4009bd": {
      "model_module": "@jupyter-widgets/base",
      "model_module_version": "1.0.0",
      "model_name": "LayoutModel",
      "state": {
       "width": "100%"
      }
     },
     "b4a90a4bf7474962bb5464497e224184": {
      "model_module": "@jupyter-widgets/base",
      "model_module_version": "1.0.0",
      "model_name": "LayoutModel",
      "state": {}
     },
     "b4da56e003614a2aa18c4a819c146b9c": {
      "model_module": "@jupyter-widgets/base",
      "model_module_version": "1.0.0",
      "model_name": "LayoutModel",
      "state": {}
     },
     "b5185a0b331d4d4cb51ec9228d39af30": {
      "model_module": "@jupyter-widgets/controls",
      "model_module_version": "1.1.0",
      "model_name": "DescriptionStyleModel",
      "state": {
       "description_width": ""
      }
     },
     "b520119f19674f82964eb31078adb499": {
      "model_module": "@jupyter-widgets/controls",
      "model_module_version": "1.1.0",
      "model_name": "DescriptionStyleModel",
      "state": {
       "description_width": "initial"
      }
     },
     "b53e634a597a4df6864f128054c5a79f": {
      "model_module": "@jupyter-widgets/controls",
      "model_module_version": "1.1.0",
      "model_name": "HBoxModel",
      "state": {
       "children": [
        "IPY_MODEL_0f7c9766594848b1b7e100654abf96b2",
        "IPY_MODEL_350c78f03cb44b5a994a8b28e079d53d",
        "IPY_MODEL_19178d10618e4af4bcc227d799aa7abc",
        "IPY_MODEL_6ddc9c69ce174736a5cae032e9a721d4",
        "IPY_MODEL_cdabd03a53824e8cadbe07bcd4c2abfd",
        "IPY_MODEL_c424104c8ef248f5a8241d5621b84c83",
        "IPY_MODEL_19db5c8ce4154809b0780dd043179430"
       ],
       "layout": "IPY_MODEL_6a26d128bc7649d780f1e4aa1a3cc9b0"
      }
     },
     "b5ac7a95f8ca47c5b507fb8c311b17fc": {
      "model_module": "@jupyter-widgets/controls",
      "model_module_version": "1.1.0",
      "model_name": "SliderStyleModel",
      "state": {
       "description_width": "initial"
      }
     },
     "b5c04d02be4f42c780f27ff512a5baca": {
      "model_module": "@jupyter-widgets/controls",
      "model_module_version": "1.1.0",
      "model_name": "DescriptionStyleModel",
      "state": {
       "description_width": "initial"
      }
     },
     "b5d7a88942b74351b34a79fa66c2ed26": {
      "model_module": "@jupyter-widgets/controls",
      "model_module_version": "1.1.0",
      "model_name": "DescriptionStyleModel",
      "state": {
       "description_width": "initial"
      }
     },
     "b6a91be06da84126bca42beff5708914": {
      "model_module": "@jupyter-widgets/controls",
      "model_module_version": "1.1.0",
      "model_name": "CheckboxModel",
      "state": {
       "description": "Rotate",
       "disabled": false,
       "layout": "IPY_MODEL_3c71e01bc0fc4895a6869de7e0f8bf6f",
       "style": "IPY_MODEL_86fef491dd0a4a669750e5062c90e405",
       "value": true
      }
     },
     "b6d340e52ae146b8a99dd50cf2da6e5a": {
      "model_module": "@jupyter-widgets/controls",
      "model_module_version": "1.1.0",
      "model_name": "ButtonStyleModel",
      "state": {}
     },
     "b6ef397bf4104eb08308d95623ef021c": {
      "model_module": "@jupyter-widgets/base",
      "model_module_version": "1.0.0",
      "model_name": "LayoutModel",
      "state": {
       "width": "100%"
      }
     },
     "b6fc249d2d1b4105959cf90a9a0fe253": {
      "model_module": "@jupyter-widgets/base",
      "model_module_version": "1.0.0",
      "model_name": "LayoutModel",
      "state": {
       "width": "100%"
      }
     },
     "b78dc3aaeb424caabf084212dfea56eb": {
      "model_module": "@jupyter-widgets/controls",
      "model_module_version": "1.1.0",
      "model_name": "VBoxModel",
      "state": {
       "children": [
        "IPY_MODEL_021e0ce6f4a9449c8c31aee44db06395",
        "IPY_MODEL_8d54f4fd9c434a1d86b487a9a9efa96e"
       ],
       "layout": "IPY_MODEL_52bc9829d46c4f6ca79aa1c96953366a"
      }
     },
     "b7f10b7f0ffc467dbd0c89d10c5534ff": {
      "model_module": "@jupyter-widgets/controls",
      "model_module_version": "1.1.0",
      "model_name": "DescriptionStyleModel",
      "state": {
       "description_width": ""
      }
     },
     "b8b32abf5c524e878518ae8833b7886c": {
      "model_module": "@jupyter-widgets/controls",
      "model_module_version": "1.1.0",
      "model_name": "DescriptionStyleModel",
      "state": {
       "description_width": "initial"
      }
     },
     "b9eba4c9402246dfaee1f8be31d5ad83": {
      "model_module": "@jupyter-widgets/controls",
      "model_module_version": "1.1.0",
      "model_name": "ButtonStyleModel",
      "state": {}
     },
     "ba263c3531a84d24aafe6a338a15734c": {
      "model_module": "@jupyter-widgets/controls",
      "model_module_version": "1.1.0",
      "model_name": "DescriptionStyleModel",
      "state": {
       "description_width": "initial"
      }
     },
     "bb4d78ed514a4e34bf4f442c2845f295": {
      "model_module": "@jupyter-widgets/base",
      "model_module_version": "1.0.0",
      "model_name": "LayoutModel",
      "state": {}
     },
     "bb6eedd1e39f471a824910111a6e35fb": {
      "model_module": "@jupyter-widgets/controls",
      "model_module_version": "1.1.0",
      "model_name": "SelectModel",
      "state": {
       "_options_labels": [
        "",
        "input1",
        "input2"
       ],
       "description": "Features:",
       "index": 0,
       "layout": "IPY_MODEL_65a4e49c14d24013a7a7710940b958b4",
       "rows": 1,
       "style": "IPY_MODEL_3f639d28f88447dfb3086529fd211d44"
      }
     },
     "bba0f0a4c7e7459aafbe112c890c780f": {
      "model_module": "@jupyter-widgets/controls",
      "model_module_version": "1.1.0",
      "model_name": "FloatSliderModel",
      "state": {
       "continuous_update": false,
       "description": "Zoom",
       "layout": "IPY_MODEL_2de462e1d0ef48abbb21b3317bc4a584",
       "max": 1,
       "step": 0.1,
       "style": "IPY_MODEL_d039d0e34b3b47ffb4c5b3e47681e1bd",
       "value": 0.8
      }
     },
     "bc1b1214fd0846b982bb059120220973": {
      "model_module": "@jupyter-widgets/base",
      "model_module_version": "1.0.0",
      "model_name": "LayoutModel",
      "state": {}
     },
     "bc30bfa145744103bedaf8b1bd304c45": {
      "model_module": "@jupyter-widgets/controls",
      "model_module_version": "1.1.0",
      "model_name": "SelectModel",
      "state": {
       "_options_labels": [
        "",
        "Accent",
        "Accent_r",
        "Blues",
        "Blues_r",
        "BrBG",
        "BrBG_r",
        "BuGn",
        "BuGn_r",
        "BuPu",
        "BuPu_r",
        "CMRmap",
        "CMRmap_r",
        "Dark2",
        "Dark2_r",
        "GnBu",
        "GnBu_r",
        "Greens",
        "Greens_r",
        "Greys",
        "Greys_r",
        "OrRd",
        "OrRd_r",
        "Oranges",
        "Oranges_r",
        "PRGn",
        "PRGn_r",
        "Paired",
        "Paired_r",
        "Pastel1",
        "Pastel1_r",
        "Pastel2",
        "Pastel2_r",
        "PiYG",
        "PiYG_r",
        "PuBu",
        "PuBuGn",
        "PuBuGn_r",
        "PuBu_r",
        "PuOr",
        "PuOr_r",
        "PuRd",
        "PuRd_r",
        "Purples",
        "Purples_r",
        "RdBu",
        "RdBu_r",
        "RdGy",
        "RdGy_r",
        "RdPu",
        "RdPu_r",
        "RdYlBu",
        "RdYlBu_r",
        "RdYlGn",
        "RdYlGn_r",
        "Reds",
        "Reds_r",
        "Set1",
        "Set1_r",
        "Set2",
        "Set2_r",
        "Set3",
        "Set3_r",
        "Spectral",
        "Spectral_r",
        "Vega10",
        "Vega10_r",
        "Vega20",
        "Vega20_r",
        "Vega20b",
        "Vega20b_r",
        "Vega20c",
        "Vega20c_r",
        "Wistia",
        "Wistia_r",
        "YlGn",
        "YlGnBu",
        "YlGnBu_r",
        "YlGn_r",
        "YlOrBr",
        "YlOrBr_r",
        "YlOrRd",
        "YlOrRd_r",
        "afmhot",
        "afmhot_r",
        "autumn",
        "autumn_r",
        "binary",
        "binary_r",
        "bone",
        "bone_r",
        "brg",
        "brg_r",
        "bwr",
        "bwr_r",
        "cool",
        "cool_r",
        "coolwarm",
        "coolwarm_r",
        "copper",
        "copper_r",
        "cubehelix",
        "cubehelix_r",
        "flag",
        "flag_r",
        "gist_earth",
        "gist_earth_r",
        "gist_gray",
        "gist_gray_r",
        "gist_heat",
        "gist_heat_r",
        "gist_ncar",
        "gist_ncar_r",
        "gist_rainbow",
        "gist_rainbow_r",
        "gist_stern",
        "gist_stern_r",
        "gist_yarg",
        "gist_yarg_r",
        "gnuplot",
        "gnuplot2",
        "gnuplot2_r",
        "gnuplot_r",
        "gray",
        "gray_r",
        "hot",
        "hot_r",
        "hsv",
        "hsv_r",
        "inferno",
        "inferno_r",
        "jet",
        "jet_r",
        "magma",
        "magma_r",
        "nipy_spectral",
        "nipy_spectral_r",
        "ocean",
        "ocean_r",
        "pink",
        "pink_r",
        "plasma",
        "plasma_r",
        "prism",
        "prism_r",
        "rainbow",
        "rainbow_r",
        "seismic",
        "seismic_r",
        "spectral",
        "spectral_r",
        "spring",
        "spring_r",
        "summer",
        "summer_r",
        "tab10",
        "tab10_r",
        "tab20",
        "tab20_r",
        "tab20b",
        "tab20b_r",
        "tab20c",
        "tab20c_r",
        "terrain",
        "terrain_r",
        "viridis",
        "viridis_r",
        "winter",
        "winter_r"
       ],
       "description": "Colormap:",
       "index": 0,
       "layout": "IPY_MODEL_5bd06861033745e58d4c269096f14023",
       "rows": 1,
       "style": "IPY_MODEL_11ca9bad585d46d8a9ab3445e9fbf39b"
      }
     },
     "bc74c13077374cb6a011638757793653": {
      "model_module": "@jupyter-widgets/controls",
      "model_module_version": "1.1.0",
      "model_name": "LabelModel",
      "state": {
       "layout": "IPY_MODEL_365edbeab9b0405a91a7825f8c2f47f6",
       "style": "IPY_MODEL_56923184d70641e39cb74fb78bbd51c5",
       "value": "of 12000"
      }
     },
     "bcc1d8d6a09842fcbcf8dda6e484f01e": {
      "model_module": "@jupyter-widgets/controls",
      "model_module_version": "1.1.0",
      "model_name": "DescriptionStyleModel",
      "state": {
       "description_width": ""
      }
     },
     "bcc48c7911b74725a2f6224466ac1b46": {
      "model_module": "@jupyter-widgets/controls",
      "model_module_version": "1.1.0",
      "model_name": "DescriptionStyleModel",
      "state": {
       "description_width": ""
      }
     },
     "bdc79fe579cb4de09370ee2db69c9312": {
      "model_module": "@jupyter-widgets/controls",
      "model_module_version": "1.1.0",
      "model_name": "ButtonModel",
      "state": {
       "icon": "fast-forward",
       "layout": "IPY_MODEL_d1a366369d964f21966bb6556ae41b55",
       "style": "IPY_MODEL_2dab8495e95547a7abe83f7cda3dcea3"
      }
     },
     "be09edd779bd417d9a14cdfc1b069c2f": {
      "model_module": "@jupyter-widgets/controls",
      "model_module_version": "1.1.0",
      "model_name": "ButtonModel",
      "state": {
       "icon": "fast-forward",
       "layout": "IPY_MODEL_0cbc41dbefcb42b9a2830e92b52c8fc4",
       "style": "IPY_MODEL_65b5d6a0b1aa4b7f91bf02e295a07ca5"
      }
     },
     "be6df65074304fd69abe4557aa4b2aeb": {
      "model_module": "@jupyter-widgets/controls",
      "model_module_version": "1.1.0",
      "model_name": "IntSliderModel",
      "state": {
       "continuous_update": false,
       "description": "Dataset index",
       "layout": "IPY_MODEL_b07cc8d0492145f7820ac893146e8429",
       "max": 11999,
       "style": "IPY_MODEL_fc234eb57968427c9ed2f42698221eba"
      }
     },
     "bf0332dc96ed403e8e24c7eb1f58e225": {
      "model_module": "@jupyter-widgets/controls",
      "model_module_version": "1.1.0",
      "model_name": "IntSliderModel",
      "state": {
       "continuous_update": false,
       "description": "Dataset index",
       "layout": "IPY_MODEL_f442cb16251242c9af4777dfcfdea382",
       "max": 0,
       "style": "IPY_MODEL_a9c98a992e654e1b80c949fc75dd4bc6"
      }
     },
     "bf3001fe5baf4fb1b55fab1e9e3e1724": {
      "model_module": "@jupyter-widgets/controls",
      "model_module_version": "1.1.0",
      "model_name": "HTMLModel",
      "state": {
       "layout": "IPY_MODEL_755cbe55db3f44c1a53e074e27641772",
       "style": "IPY_MODEL_c43b210219b948ad9c972653a6069308",
       "value": "<p style=\"text-align:center\"><svg id='Finger Math' xmlns='http://www.w3.org/2000/svg' image-rendering=\"pixelated\" width=\"640.0000000000001px\" height=\"313.6000000000001px\">\n <g >\n  <svg viewBox=\"0 0 1000 490\" width=\"640.0000000000001px\" height=\"313.6000000000001px\">\n    <defs>\n        <marker id=\"arrow\" markerWidth=\"10\" markerHeight=\"10\" refX=\"9\" refY=\"3\" orient=\"auto\" markerUnits=\"strokeWidth\">\n          <path d=\"M0,0 L0,6 L9,3 z\" fill=\"black\" />\n        </marker>\n    </defs><rect x=\"399.0\" y=\"24\" width=\"202\" height=\"52\" style=\"fill:none;stroke:black;stroke-width:2\"/><image id=\"picture-dashboard-Finger Math-525894_output_13\" class=\"picture-dashboard-Finger Math-525894_output\" x=\"400.0\" y=\"25\" height=\"50\" width=\"200\" preserveAspectRatio=\"none\" href=\"data:image/gif;base64,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\"><title>Layer: output (output)\n output range: (0, 1)\n shape = (11,)\n Keras class = Dense\n activation = sigmoid</title></image><text x=\"605.0\" y=\"52.0\" font-family=\"monospace\" font-size=\"12\" text-anchor=\"start\" fill=\"black\" alignment-baseline=\"central\" >output</text><line x1=\"500.0\" y1=\"104\" x2=\"500.0\" y2=\"77\" stroke=\"black\" stroke-width=\"2\" marker-end=\"url(#arrow)\"><title>Weights from hidden to output\n output/kernel:0 has shape (100, 11)\n output/bias:0 has shape (11,)</title></line><rect x=\"399.0\" y=\"104\" width=\"202\" height=\"52\" style=\"fill:none;stroke:black;stroke-width:2\"/><image id=\"picture-dashboard-Finger Math-525894_hidden_14\" class=\"picture-dashboard-Finger Math-525894_hidden\" x=\"400.0\" y=\"105\" height=\"50\" width=\"200\" preserveAspectRatio=\"none\" href=\"data:image/gif;base64,R0lGODdhZAABAIcAAH8AAI0AAOgAAK4AAMwAAP9HR2lp/4iI//8bG//V1f79/gAATAAAsTU1/52d/83N/93d//9ZWf9tbf91df+BgeHh/wAAAAAAAAAAAAAAAAAAAAAAAAAAAAAAAAAAAAAAAAAAAAAAAAAAAAAAAAAAAAAAAAAAAAAAAAAAAAAAAAAAAAAAAAAAAAAAAAAAAAAAAAAAAAAAAAAAAAAAAAAAAAAAAAAAAAAAAAAAAAAAAAAAAAAAAAAAAAAAAAAAAAAAAAAAAAAAAAAAAAAAAAAAAAAAAAAAAAAAAAAAAAAAAAAAAAAAAAAAAAAAAAAAAAAAAAAAAAAAAAAAAAAAAAAAAAAAAAAAAAAAAAAAAAAAAAAAAAAAAAAAAAAAAAAAAAAAAAAAAAAAAAAAAAAAAAAAAAAAAAAAAAAAAAAAAAAAAAAAAAAAAAAAAAAAAAAAAAAAAAAAAAAAAAAAAAAAAAAAAAAAAAAAAAAAAAAAAAAAAAAAAAAAAAAAAAAAAAAAAAAAAAAAAAAAAAAAAAAAAAAAAAAAAAAAAAAAAAAAAAAAAAAAAAAAAAAAAAAAAAAAAAAAAAAAAAAAAAAAAAAAAAAAAAAAAAAAAAAAAAAAAAAAAAAAAAAAAAAAAAAAAAAAAAAAAAAAAAAAAAAAAAAAAAAAAAAAAAAAAAAAAAAAAAAAAAAAAAAAAAAAAAAAAAAAAAAAAAAAAAAAAAAAAAAAAAAAAAAAAAAAAAAAAAAAAAAAAAAAAAAAAAAAAAAAAAAAAAAAAAAAAAAAAAAAAAAAAAAAAAAAAAAAAAAAAAAAAAAAAAAAAAAAAAAAAAAAAAAAAAAAAAAAAAAAAAAAAAAAAAAAAAAAAAAAAAAAAAAAAAAAAAAAAAAAAAAAAAAAAAAAAAAAAAAAAAAAAAAAAAAAAAAAAAAAAAAAAAAAAAAAAAAAAAAAAAAAAAAAAAAAAAAAAAAAAAAAAAAAAAAAAAAAAAAAAAAAAAAAAAAAAAAAAAAAAAAAAAAAAAAAAAAAAAAAAAAAACwAAAAAZAABAAAIaQAFABgAYMCAAgASApAAAACDCAQSAJhoAIBFAAoAAAgAAECAAAIAGBgAoAAAAAQQAAgAIEAFAAQSAAiA4AGAmxQABADAc0IDAAAKAFAAAYDRAAAOABBAAMABAFABLBAgAAAAAQCyZnUQEAA7\"><title>Layer: hidden (hidden)\n output range: (0, +Infinity)\n shape = (100,)\n Keras class = Dense\n activation = relu</title></image><text x=\"605.0\" y=\"132.0\" font-family=\"monospace\" font-size=\"12\" text-anchor=\"start\" fill=\"black\" alignment-baseline=\"central\" >hidden</text><line x1=\"333.3333333333333\" y1=\"184\" x2=\"500.0\" y2=\"157\" stroke=\"black\" stroke-width=\"2\" marker-end=\"url(#arrow)\"><title>Weights from flatten1 to hidden\n hidden/kernel:0 has shape (7200, 100)\n hidden/bias:0 has shape (100,)</title></line><rect x=\"232.33333333333331\" y=\"184\" width=\"202\" height=\"52\" style=\"fill:none;stroke:black;stroke-width:2\"/><image id=\"picture-dashboard-Finger Math-525894_flatten1_15\" class=\"picture-dashboard-Finger Math-525894_flatten1\" x=\"233.33333333333331\" y=\"185\" height=\"50\" width=\"200\" preserveAspectRatio=\"none\" href=\"data:image/gif;base64,R0lGODdhEA4BAIcAALe3t8fHx6ioqNXV1ZiYmHZ2doeHh2dnZ1dXVyUlJUdHRxkZGTc3NwwMDAAAAAAAAAAAAAAAAAAAAAAAAAAAAAAAAAAAAAAAAAAAAAAAAAAAAAAAAAAAAAAAAAAAAAAAAAAAAAAAAAAAAAAAAAAAAAAAAAAAAAAAAAAAAAAAAAAAAAAAAAAAAAAAAAAAAAAAAAAAAAAAAAAAAAAAAAAAAAAAAAAAAAAAAAAAAAAAAAAAAAAAAAAAAAAAAAAAAAAAAAAAAAAAAAAAAAAAAAAAAAAAAAAAAAAAAAAAAAAAAAAAAAAAAAAAAAAAAAAAAAAAAAAAAAAAAAAAAAAAAAAAAAAAAAAAAAAAAAAAAAAAAAAAAAAAAAAAAAAAAAAAAAAAAAAAAAAAAAAAAAAAAAAAAAAAAAAAAAAAAAAAAAAAAAAAAAAAAAAAAAAAAAAAAAAAAAAAAAAAAAAAAAAAAAAAAAAAAAAAAAAAAAAAAAAAAAAAAAAAAAAAAAAAAAAAAAAAAAAAAAAAAAAAAAAAAAAAAAAAAAAAAAAAAAAAAAAAAAAAAAAAAAAAAAAAAAAAAAAAAAAAAAAAAAAAAAAAAAAAAAAAAAAAAAAAAAAAAAAAAAAAAAAAAAAAAAAAAAAAAAAAAAAAAAAAAAAAAAAAAAAAAAAAAAAAAAAAAAAAAAAAAAAAAAAAAAAAAAAAAAAAAAAAAAAAAAAAAAAAAAAAAAAAAAAAAAAAAAAAAAAAAAAAAAAAAAAAAAAAAAAAAAAAAAAAAAAAAAAAAAAAAAAAAAAAAAAAAAAAAAAAAAAAAAAAAAAAAAAAAAAAAAAAAAAAAAAAAAAAAAAAAAAAAAAAAAAAAAAAAAAAAAAAAAAAAAAAAAAAAAAAAAAAAAAAAAAAAAAAAAAAAAAAAAAAAAAAAAAAAAAAAAAAAAAAAAAAAAAAAAAAAAAAAAAAAAAAAAAAAAAAAAAAAAAAAAAAAAAAAAAAAAAAAAAAAAAAAAAAAAAAAAAAAAAAAAAAAAAAAAAAAAAAACwAAAAAEA4BAAAI/wAHABAwAICAAAAIBABAAAAAAgAACAAAQECAAAIABBAQIICAAAEABAgAIMAAAAEGAAgwIMCAAQEGDAgwYECAAQMCDBgQYMCAAAMGBBgwIMCAAQEGDAgwYECAAQMCBBgQIMAAAAEGAAgQAECAAAACBAAQIACAAAEEBAgAIEAAAAMCABgQQEAAAQQGABAQAICAAAAEBABAAAAAAQAACAAQQECAAAICBAAQIICAAAEABAgAIMAAAAEGBBgwIMCAAQEGDAgwYECAAQMCDBgQYIBt2wEGDAgwYECAAQMCDBgQYMCAAAMGBBgwIECAAQACDAAQIACAAAEABAgAIEAAAAECAP8IEADAgAAABgQAAEAAgQAABAQAICAAAAEAAAgAAEAAAIABBAAIICBAAAABAgAIEABAgAAAAgwAEGBAgAADAgQYECDAgAADBgQYULJkgAEDAgwYEGDAgAADBgQYMCDAgAEBBgwIMGBAgAEDAgQYECDAgAABBgQIMABAgAAAAgQAECAAgAABAAQIACBAAAABAgAAIIBAAAAEAAAQAACAAAAABAAAIABAAAEBAgAIEABAgAAAAgQAEGAAgAADAAQYECDAgAABBgQIMCBAgAEBAgwIEGBAgAADAgQYECDAgAADBgQYMCDAgAEBBgwIEGBAgAADAgQYECDAgAABBgQIMAD/QADkyAEECAAgQAAAAQIACBAAQAAA2QUQAACAAAAAAgAAEAAAgAAAAAQACAAgQAAAAQIACBAAQIABAAIMABBgAEAAAQYECDAgQIABAQIMCBBgQIAAAwIEGBAgwIAAAQYECDAgQIABAQIMCBBgQIAAAwIEGBAgwIAAAQYECDAgQIABAQIMABBgAIAAAQAECAAgQAAAAQIACBAAQAAAUgUQAABAAAAAAgAAEAAAgAAAAQAECAAgQAAAAQIACBAAQIABAAIMABBgAIAAAwAEGBAgwIAAAQYECDAgQIABAQIMCBBgQIAAAwIEGBAgwIAAAQYECDAgQIABAQIMCBBgQIAA/wMCBBgQIMCAAAEGAAgwAECAAAACBAAQ4PdvAAECAAgA4LgAAgAEEAAAQAAAAAIAABAAAICAAAEABAgAIEAAAAECAAgwAECAAQACDAgQYACAAAMCBBgQIMCAAAEGBAgwAGCAAAMCBBgQIMCAAAEGBAgwIECAAQECDAgQYECAAAMCBBgQIMCAAAEGBAgwIECAAQECDAgQYACAAAEABAgAIEAAAAECAAgAAIAAAQQACCAAAIAAAAAEAAAgAEAAAQECAAgQAECAAAACDAAQYACAAAMABBgAIMCAAAEGAAgwIECAAQEADAgAYEAAAAMCABgQAMCAAAAGBAgwIECAAQECDP8IEGBAgAADAgQYECDAgAABBgQIMCBAgAEBAgwIEGAAgAABAAQIACBAAAABAgAIAAC3AAIABBAAAEAAAAACAAAQACAAgAABAAQIACBAAAABAgAIMABAgAEAAgwAEGAAgAADAAQYAADAgAAABgAAMAAAgAEBAAwIAGBAAAADAgAYADAAgAEBAgwIEGAAgAADAgQYECDAgAABBgQIMCBAgAEAAgwIADIkgAABAAQ4eRJAAAAsBRAAIEAAAAACAAAQAACAAAABBAAIACBAAAABAgAIEABAgAAAAgwAECAAgAADAgAQYCAAAQQBAgAAEAAAgAAAAAQAACAAAAABAAAYEAD/wIAAAAYEADAAAIABAAAMABBgQIAAAwAEGAAgwIAAAQYECDAAQIDJkwEECAAgQAAAAQAACAAAgAABBAAIEAAAgAAAAAQAACAAQAAAAAIACBAAQIAAAAIEABAgAAAAAQAACAAgwAAAzAkQQJAggAEEAAIAABAAAIAAAAAEAAAgAAAAAQAACAAAwAAAAAYAADAAAIABAAAMCABgAIAAAwAEADgAQIABAQwCCBAAQIAAAAIEABAgAIAAAAAEAABAgAACAAQQAABAAAAAAgAAEABAJYAAAAAEABAgAAAAAQAACAAAQAAAAAIAABBAAIABAQwUQGBAwQIAAgoACAAAQAAA/wACAAAQAACAAAAABAAAIAAAAAEAABgAAMAAAAAGAAAwAECAAQACDAAQYACAAAEABAgAIEAAAAECAAgQAEAAAAACAAAgQAABAAIEAAAgAAAAAQAACAAQGkAAAAACAAAQAACAAAAABAAAIAAAAQAEAAAgAEAAAAIAECigIAGBAwkAACAgIAAAAQEAAAgAAEAAAAACAAAQAACAAAAABAAAIAAAAAEAABgAIMAAAAEGAAgQAECAAAACBAAQIACAAAEAAAwQAEAAAAACAAAgYCEAAQIAABAAAIAAABYvAggAAEAAAAACAAAQAACAAAAABABAQAABAQAICAAgAEAAAAUOKP84wKCBAAIIAAQAICAAAAEBAAgIAEBAAAAAAgAAEAAAgAAAAAQAACAAAAABAAAIAABAAAABAgAIEABAgAAAAgQAECAAgAABAAQAoFevAAEEAAggAACAAAAABAAAIAAAYwABAAAIAABAAAAAAgAAEACAAAACCAggQEAAAQECCAgAIICAAAMFECQQUIABAAEGBAQAIACAAAEBBAgIAEBAAAAAAgAAEAAAgAAAAAQAACAAAAABAAAIAABAAAABAgAIEABAgAAAAAQAEAAAgAAA3r8XIICAAAEEAAgQAACAAAAAAAoAAEAAAIMAAgAAEAAAgAAAAAQAIAAAAQICCGQ0QID/gAECAgwYKKDAwIEEBhAkEGBAAQEBBgwcYEDAgAIBAgwICABAQAABAAIAABAAAIAAAAAEAAAgAAAAAQAACAAAQAAAAAIACBAAAIAAAAIAEDtWrAABBAQIIABAAAEAAAQAACAAAAABAPACCCAAQAAAAAIIAABAgAAABAgIMECAgAEDBAwUKHDggIIGBg4kEGCAwQABCAIQKEDggAIDCBIQOJBAgIACAAIAABAAAIAAAAAEAAAgAAAAAQAACAAAQAAAAAIACBAAAIAAAKBHlw5dQHUCAgQQELAdAAABAAAIAABAAADz5gUACAAAQAAA7wXEJ0BAAAH7BgwUQGDgAIMD/wAVLCiAYEEBBAkMIEhA4ACDAgoSIGCw4ICCBAYQJBAgwACAAAAABAAAIIAAAAEAAAgAAEAAAAACAAAQAACAAABy6tzJU4AAAgQECCAgoCgAAAIAABAAAIAAAAAEAAAgAAAAAQACCBAAQIAAAAQICCBggICBAwoSGECwgEABBgcULFCQoAGDBA0QMFigIEEDBQwWFECQoACCBAYKKAAQAICAAAIABBAAIIAAAAEAAAgAAEAAAAACAAAQAIDp0wIAqFYtAICA1wQICBBAQIAAAgJyCwAgQAAAAQAACAAAQAAAAAIAABAgAICA5wSiGzBQQEEBBAkOKFhwQMGCAggWKP9gsAABgwUCChw4oCBBAQQMBBhAQKAAAwMFFAAIAKC/AIAAAAgAEAAAgAAAAAQAACAAAAABAEykWHGiAAACBAAQ0JEAAQECCAgQQECAAAICVAoAIAAAAAEAAAgAAECAAAACBAAgIEAAAQMGDhxQsMAAggUFECxAwCDBAQUJDihIcEABAwMIGBRAkMDAAQYECiAwcICBAQMIBAAQAACAAAAABAAAIADAXQABAOwVAACAAACBAwsAAEAAAAECAAgQAEDAYwIEBAggIEAAAQECCAgQQEDAZwEABAgAIEAAAAECABAgIIDAawMGChw4oGABAgYLEDBYUABBggIIGCBgsKD/AAIGChI0OKBgAYEDDAwUUGDgQAICBg4IACBAAAABAAAIAABAAAAAAgAAEAAAgAAAAAQAACAAAAABAAAIACBAAEAAAgQAEGCQAAEBBAgIEEBAgAACAgQQECCAgICMAgAIEABAAEgCIg0YIGDgZIEDChIgYLBAQYIFDBI0UMBgAQIFCxAwWICAwYICCBIYOMDAwAEGBRAkMGDgAAAAAgQAEAAAgAAAAAQAACAAAAABAAAIAABAAAAAAgAAEABAgAAAAgQAECAAgIC8BAgIIEBAgAACAgQQECCAgAABBAQIICAAgIDIBCYbqFzAgIECmg9wVnBAwQIEDBYgYLAAAYMF/wcULCiAYEEBBAkKIEhQAAGDAwgSHFCwwEABBAAACBAAgAAAAAIAABAAAIAAAAAEAAAgAAAAAQAACAAgQAAAAQIACBAAgIAAAALWEzAggAABAQQICBBAQIAAAgIEEBAgACABAQIIEBBAwAABAwsLNDxQoMCBAgUOHEDAoACCBAUQJCiAIIEBBAkIHGBg4ECCAggSFECQoACCBAUQLDBwIIEAAQYEABAgAAABAAAEAAAgAAAAAQAECAAgQAAAAQIACBAAQIAAAAIEACBAAAABAgIMGBBAwIAAAgQECCAgQAABAQIICBBAQIAAAnsN9C1QwMCBAgUOFChwoECBAwUKHP84gIBBAQQJDBxgQOAAAwIHGBA4wKAAggQFECQogCBBAQQJDBxYQKAAAwECDAgAIACAAAIABAgAIEAAAAEEAAggAEAAAQACCAAQQEAAAQICCBAAQICAAAMGBBAgIIAAAQEECAggQECAAAICBBAQIICAAQIG6Bewf6BAgQMFChwoALDAgQIFDhQ4cKAAAgYGECQwgICBgQMMDCBIUEBBggMKFhxQsKCAggUGECwgcGCBgAIJBBAoICBmTAICBBAQIICAAAEEBAggIIAAAQAECAggQEAAAQIACBAQYMAAAAIEBBAgIIAAAQEECAgQQECAAAJkDZgtYMBAgbUHChQ4UKD/wIECBRAUKHCgQIEDBQocKHBAQQEECQooSHBAQYIDChIcULDggIIFBxQsKIBgAYEDCQQUSCCgQAIBBA4IEEBAgAACAgQQEECAgAACBAQQICCAAAEBBAgIIEAAAAECAgwYAECAAAACBAQQICCAAAEBBAgIIICdgIHtBQwYKAA+/IECBw4UKHCgQIEDBQocKFDggAEDBQwYKFAAgQIEDBYgAKhgwQEFCQ4oWHBAwYICChYUQLCAwIEEAgokEFAggQADBwQQICCAAAEBBAgIIEBAAAECAggQEECAgAACBAAQMADAgAEAAggAIEAAAAEDAggQEEDAgAACBggYKGDAQAEDagUKGCiQtcCBAgcOFDhwoMCBAwUOHChQ4ICBAgUIvBVAgMABBAoQMFhwQEGCAwoWHFCwoICCBQUULDCAYAEBBAkEHEgg4EACAQYKCCBgQAABAwIMGBBgwIAAAwYEGDAAwIABAAQIADBgICAAOw==\"><title>Layer: flatten1 (hidden)\n output range: (0.0, 0.8666667)\n Keras class = Flatten</title></image><text x=\"438.3333333333333\" y=\"212.0\" font-family=\"monospace\" font-size=\"12\" text-anchor=\"start\" fill=\"black\" alignment-baseline=\"central\" >flatten1</text><line x1=\"666.6666666666666\" y1=\"184\" x2=\"500.0\" y2=\"157\" stroke=\"black\" stroke-width=\"2\" marker-end=\"url(#arrow)\"><title>Weights from flatten2 to hidden\n hidden/kernel:0 has shape (7200, 100)\n hidden/bias:0 has shape (100,)</title></line><rect x=\"565.6666666666666\" y=\"184\" width=\"202\" height=\"52\" style=\"fill:none;stroke:black;stroke-width:2\"/><image id=\"picture-dashboard-Finger Math-525894_flatten2_16\" class=\"picture-dashboard-Finger Math-525894_flatten2\" x=\"566.6666666666666\" y=\"185\" height=\"50\" width=\"200\" preserveAspectRatio=\"none\" href=\"data:image/gif;base64,R0lGODdhEA4BAIcAAJeXl6WlpYeHh3h4eGhoaFdXVxUVFTY2NklJSQoKCicnJ7OzswAAAAAAAAAAAAAAAAAAAAAAAAAAAAAAAAAAAAAAAAAAAAAAAAAAAAAAAAAAAAAAAAAAAAAAAAAAAAAAAAAAAAAAAAAAAAAAAAAAAAAAAAAAAAAAAAAAAAAAAAAAAAAAAAAAAAAAAAAAAAAAAAAAAAAAAAAAAAAAAAAAAAAAAAAAAAAAAAAAAAAAAAAAAAAAAAAAAAAAAAAAAAAAAAAAAAAAAAAAAAAAAAAAAAAAAAAAAAAAAAAAAAAAAAAAAAAAAAAAAAAAAAAAAAAAAAAAAAAAAAAAAAAAAAAAAAAAAAAAAAAAAAAAAAAAAAAAAAAAAAAAAAAAAAAAAAAAAAAAAAAAAAAAAAAAAAAAAAAAAAAAAAAAAAAAAAAAAAAAAAAAAAAAAAAAAAAAAAAAAAAAAAAAAAAAAAAAAAAAAAAAAAAAAAAAAAAAAAAAAAAAAAAAAAAAAAAAAAAAAAAAAAAAAAAAAAAAAAAAAAAAAAAAAAAAAAAAAAAAAAAAAAAAAAAAAAAAAAAAAAAAAAAAAAAAAAAAAAAAAAAAAAAAAAAAAAAAAAAAAAAAAAAAAAAAAAAAAAAAAAAAAAAAAAAAAAAAAAAAAAAAAAAAAAAAAAAAAAAAAAAAAAAAAAAAAAAAAAAAAAAAAAAAAAAAAAAAAAAAAAAAAAAAAAAAAAAAAAAAAAAAAAAAAAAAAAAAAAAAAAAAAAAAAAAAAAAAAAAAAAAAAAAAAAAAAAAAAAAAAAAAAAAAAAAAAAAAAAAAAAAAAAAAAAAAAAAAAAAAAAAAAAAAAAAAAAAAAAAAAAAAAAAAAAAAAAAAAAAAAAAAAAAAAAAAAAAAAAAAAAAAAAAAAAAAAAAAAAAAAAAAAAAAAAAAAAAAAAAAAAAAAAAAAAAAAAAAAAAAAAAAAAAAAAAAAAAAAAAAAAAAAAAAAAAAAAAAAAAAAAAAAAAAAAAAAAAAAAAAAAAAAAAAAAAAAAAAACwAAAAAEA4BAAAI/wAXDBgQYMAAAAMGABgwQMCAAQIGDBAwYICAAQMECBgAQMAAAAIEABAgAIAAAQAACAAAQEAAAAACAAAQAACAAAAABAAAIAAAAAEAAAgAAEAAAAACAAAQAIBTAAIAABAAQIAAAAIEABDAtauAAQIGDBAwYICAAQMEDBggYMAAAQMIABgwIMCAAQEGDAAgYACAAQMEDBggYMAAAQIGCBAwQIBjAAIEABAgAAAAAQAACAgAQEAAAAACAAAQAACAAAAABAAAIEAAAAEAAAgAAEAAAAACAAAQAACAAAAABABAvDgAAQAECAAgQAAAAdCjCxggQMAAAQMGCBgwQMCAAQIGEP8AMIBAgAEEAAwYAGDAAAEDBggYMECAgAECBAwAIEAAAIACBAAQIAAAAAEAAAgIAABAAAAAAgAAEAAAgAAAAAQIACBAAAABAgAIEABAgAAAAgQAEAAAgAABAAQAACAAAAABAAgAAEAAAAACAAAQAECAAAAClAoYIEDAAAEDBggYMEDAgAECBgwQMIAAgAEDAAwgAGDAAAEDBggQMECAgAEC5AIQIACAAAEAAAgAAEAAAMABAAAIAABAAAAAAgAAECAAgAABAAQIACBAAAABAgAIEABAgAAAAgQAECAAgAAAAAQAACAAAAABAAAIAMA2AAEAAAgAIEAAAAHBBQwQIGD/gIABAwQMGCBgAAEBAwgAGDAAwIABAAYMEDBggAABAwAIEABAgAAAAgQAYM9eAAAAAgIAABAAAIAAAAAEAAAgAMAAAAIEABAgAIAAAQAECAAgQAAAAQIACBAAQIAAAAIEABAgAIAAAQAECAAgAAAAAQCwbAlAAAAAAgAIEABAAE4BAwQIGCBgwAABAwgIGEAAwIABAgYMEDBggIABAwQIGABAgAAAAgQAACAAAAABAQAACAAAQAAAAAIAABAAAIAAAQAECAAgQAAAAQIACBAAQIAAAAIEABAgAIAAAQAECAAgQAAAAQIACBAAQIAAAAIEABAAAIAAAAQAKG26tAAA/wJWsxYwQICAAQIGEBAwgICAAQMEDBggYMAAAQIGCCgOQIAAAAIEAGjuPAAAAAEAAAgQAECAAAACBAAQIACAAAEABAgAIEAAAAECAAgQAECAAAACBAAQIACAAAEABAgAAGCAAAACBAAQIACAAAEABAgAIAAAAAEAAAgAACMAAQAACAAgAKSAAQIEDBAwYICAAQQEDBggYMAAAQMGCLAJQIAAAAIEAPD5MwAAAAEAAAgAAECAAAACBAAQIACAAAEABAgAIEAAAAECAAgQAECAAAACBAAQIACAAAEABAgAIEAAAAECAAgQAECAAAACBAAQIACAAAEABAAAIAAAxYsXC/9w/FjAAAEDBggYMEDAgAECBgwQMGAAAAECAAgQAECAAAAABAQAACAAAAABAAAIEABAgAAAAgQAECAAgAABAAQIACBAAAABAgAIEABAgAAAAgQAECAAgAABAAQIACBAAAABAgAIEABAgAAAAgQAECAAgAABAAQAACAAAAABAPQHAFAAAAECAAg4KGCAgAEDBAwgIGDAAAEDBggQMACAAAEABAgAAEBAAAAAAgAAEAAAgAABAAQIACBAAAABAgAIEABAgAAAAgQAECAAgAABAAQIACBAAAABAgAIEABAgAAAAgQAECAAgAABAAQIACBAAAABAgAIEABAgAAAAgQAECD/AIAAAOratSsgr4ABAgYMEDBggIABAwQMEIBYAAABAgAIEAAAgIAAAAAEAAAgQAAAAQIACBAAQIDRowEECAAgAAAACwgUCABgQIAAAAIEABAgAIAAAQAECAAgQAAAAQIACBAAQIAAAAIEABAgAIAAAQAECAAgQAAAAQIACAAAQAAA5MsDEABAgPr1AgYIGDBAwIABAgYMEIAfgAABAAQIAAhAYAAAAAIAABAgAIAAAQAEgBgRIoAAAQAECAAAAIIDARAoCBAAQIAAAAIEABAgAIAAAQAECAAgQAAAAQIACBAAQIAAAAIEABAgAIAAAQAECAAgQAAAAQIACAAAQAAA/1WtCsCadcAAAQMICBggQKwAAAIEABAgAMBatgEAAAgAAECAAAAC3L0LIMDevQACBAAQQDAAAQMEHEgQYECBAAEABAgAIEAAAAECAAgQAECAAAACBAAQIACAAAEABAgAIEAAAAECAAgQAEAAAAACAAAQAMBuAAIACBAAQMDwAQMEDCAwgAABAQMEPBcAQIAAAAIEAMAeAACAAAAABAgAIEAAAAHMn0cfAECAAAACBAAQIAAAAQUOAEBgIAAAAQECAAQQIACAAAEAAAgAIEAAAAECAAgQAECAAAACBAAQIACAAAEABAgAIAAAAAEAoEwpQAAAAS4FDBAwYOYAAgMIEP8QMEAAzwEABAgAIAAAUQABAAAIAABAgAAAAkCNKnUqVAABAgAIoBXAAAIADiQIMKBAgLJlAQQIACBAAAABAgAIEABAgAAAAgQAECAAgAABAAQIACAAAAABAAAIAGAxYwECAAiILHkAgQEECAwgQEDAAAEABAgAIEAAAAECAKAOAABAAAAAAsCOLXs2bdgAAgQAECAAAAEFDgAoYAAAAAEBAgAIEABAgAAAAgQAECAAgAABAAQIACBAAAABAgAIEABAAAAAAgAAEAAAewACAAgQAEAAfQEDBAzIT4DAAAIEAAoYIACAAAEABAgAIABAQwABAAAIAABAgAAAAmTUuJH/Y0YAAQIACBAAQAAAAAIQQBCggIIAAwoACAAAQAAAAAIACBAAQIAAAAIEABAgAIAAAQAECAAgAAAAAQAACAAAQAAAVwEIACCAa9cBAwQMIDCAAIEBBAgIGCCArQAAAgQAEACALoAAAAAEAAAgQN++AAIEFjyYcGAAAQIAAEAAgQAEBgIQOLCAwIEAAggACLA5AIAAAQAECAAgQAAAAQIACBAAQADXAQAACAAAQAAAAAIA0A1AAAABAgAIGCBgwAABAwgMIEBgAIECAAYIACBAAAABAgAIEACAewAAAAIAABCAfHnz588DCBAAQIAAAAYgOCAAgYIABA4EIKAAQAED/wABDCgQAICAAAEABAAAIEAAAAECAAgQAECAAAACAAAQAACAAAAABAAgAIAAAQAEqBQwQMCAAQIGEBhAgMAAAgQADBggoCcAAQIACABAFEAAAAACAAAQIACAAFChAghAlSqAAFixAggQAAAAAQQAFFAQoAACAAgODFBggIACAwMOGABQQEEAAQQCAAAQAACAAAEABAgAIAAAAAEAAAgAAEAAAAIACBAAQIAAAAIyDxggYIBnAgQGECAwgEABAQMGABAgAIAAAQAEAJhNG0AAAAACBAAQoLfvBQGCCx8eHACAAQgMEFCQoICBBAcSJDCQIIGCBAkIKDAw4EACAQUUBP8AACAAAAABAAAIEABAAAAAAgAAEAAAgAAA8gsQAECAAIAABAwcMEDAAAIDCBAYQMBhgQICBgwQUBGAAAEABAgA0NFjAAAAAgQAECAAgAABACwI0NJlAAABAgAAMKCAAAQGCihIUECBAQQGEgxNgMBAggEHDBBQkKDAAQUAAAgIAEBAAAACAgAQEACAgAAABAQAUFaAAAACBAAQ0HbAAAEDBgggQGAAAQIDCBQgUKAAgAEDBAwGIEAAAAECAAgQAMDx4wABAAQIACBAAAABNGsGECAAgAABAAwocGDAgQQDDhhAoCCBggQJDiRIQECBgQEHDBA4YKDAAQMABAwAAED/QAAAAgIAEBAAgIAAAAQAACAAgAABAARsHzBAwIABAgaMJ0BgAIECAwoUIFCgAIABAwAIGABAgAAAAgQAECAAAEAAAgUGAAAgQAAAARYuBBAgAIAAAQAECABAwAACBQwkKKDAAAIDCRAYSEBAgQECCgwMOGCgwIEEBQ4YECBgAAABAgAIEABAgAAAAgQAECAAgAABAAQwFTBAwIABAgYMEECAwAACBAYQKECgQAECBRAAGDAAgAABAAQIACBAAAABAgAAEADgbgAAAAIAABAgAIAAggUDCBAAQAAAAAIAADAAwQECChIQUGBgwAEDAg4YIHDAAIEDBgooSFDggAEB/wMGABAwAIAAAQAECAAgQAAAAQIACBAAQMAAAQMGCBgwQACBAQMIEBhAgMCAAgUIFChAoAACAAMGABAgAIAAAQAECAAgQAAAAQIAsG/fPgAAAAECAAgAAEAAAPr37xcwAOCAAwYEHDAg4ICBAQcMDDhggIACAwgUJECgwICAAQQEDBgAQMAAAAIEABAgAIAAAQAGCBAwQICAAQMEDBgggMCAAQQIDCBQYECBAgQKFCCAAAEAAQMACBAAQIAAAAIEABAgAIAAAFu5dvX6FSxXAQQIDDhgQMCBBAMOGBhwwACBAwYIHDBA4ECCAQQQCBAwQMCAAQIEDBAwQICAAQMEDP8YIGDAAAEDBggYcJkAgQEECAwgUGBAgQIEChQgUABBAAECAAgQAECAAAACaNMGIAAAAAEAePf2/Rv4bwECAAgwPoDAgAMKBigwMECBAQIHDAxAYGAAAgMDChwQMGCAgAEDBAwYIGDAAAEDBggYMEDAgAECBhAYQIDAAAIEBhAgAHBAgQIEChQgUAABAQQIAggQEECAAAACBAAQIACAAAEABAgAIACAyJEkS5o0KQCAAAEABLh0SeCAAgIKEhA4YGAAAgMDEBgYgMCAgAEEBAwYIGDAAAEDBggYMEDAgAECBlglQGAAAQIDCBAYQKDAgAIFCBQoQKAAAgIFECwQICBtgAABAQQIACBAAAABAgAIEABAgAAAhAsbPozYsAAAAAQ4dgxAgIABBAoQOJBgAAIDBBAoEFBAwQAEBgYUQCBgwAABAwgIGEBAwIABAgbYJkBgAAECAwgQGECgwAACBQYUKECgAAICBQoMKIAgIAA7\"><title>Layer: flatten2 (hidden)\n output range: (0.0, 0.8666667)\n Keras class = Flatten</title></image><text x=\"771.6666666666666\" y=\"212.0\" font-family=\"monospace\" font-size=\"12\" text-anchor=\"start\" fill=\"black\" alignment-baseline=\"central\" >flatten2</text><line x1=\"333.3333333333333\" y1=\"264\" x2=\"333.3333333333333\" y2=\"237\" stroke=\"black\" stroke-width=\"2\" marker-end=\"url(#arrow)\"><title>Weights from input1 to flatten1</title></line><rect x=\"232.33333333333331\" y=\"264\" width=\"202\" height=\"202\" style=\"fill:none;stroke:black;stroke-width:2\"/><image id=\"picture-dashboard-Finger Math-525894_input1_17\" class=\"picture-dashboard-Finger Math-525894_input1\" x=\"233.33333333333331\" y=\"265\" height=\"200\" width=\"200\" preserveAspectRatio=\"none\" href=\"data:image/gif;base64,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\"><title>Layer: input1 (input)\n output range: (0.0, 0.8666667)\n shape = (30, 40, 3)\n Keras class = Input</title></image><text x=\"438.3333333333333\" y=\"367.0\" font-family=\"monospace\" font-size=\"12\" text-anchor=\"start\" fill=\"black\" alignment-baseline=\"central\" >input1</text><line x1=\"666.6666666666666\" y1=\"264\" x2=\"666.6666666666666\" y2=\"237\" stroke=\"black\" stroke-width=\"2\" marker-end=\"url(#arrow)\"><title>Weights from input2 to flatten2</title></line><rect x=\"565.6666666666666\" y=\"264\" width=\"202\" height=\"202\" style=\"fill:none;stroke:black;stroke-width:2\"/><image id=\"picture-dashboard-Finger Math-525894_input2_18\" class=\"picture-dashboard-Finger Math-525894_input2\" x=\"566.6666666666666\" y=\"265\" height=\"200\" width=\"200\" preserveAspectRatio=\"none\" href=\"data:image/gif;base64,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\"><title>Layer: input2 (input)\n output range: (0.0, 0.8666667)\n shape = (30, 40, 3)\n Keras class = Input</title></image><text x=\"771.6666666666666\" y=\"367.0\" font-family=\"monospace\" font-size=\"12\" text-anchor=\"start\" fill=\"black\" alignment-baseline=\"central\" >input2</text><text x=\"500.0\" y=\"12.5\" font-family=\"monospace\" font-size=\"15\" text-anchor=\"middle\" fill=\"black\" alignment-baseline=\"central\" >Finger Math</text></svg></g></svg></p>"
      }
     },
     "bf3fd5d07c6a47b18f324bb8d839ed0b": {
      "model_module": "@jupyter-widgets/controls",
      "model_module_version": "1.1.0",
      "model_name": "CheckboxModel",
      "state": {
       "description": "Show Targets",
       "disabled": false,
       "layout": "IPY_MODEL_90de29ae74eb41418e354aa7a12374bf",
       "style": "IPY_MODEL_62c9861104be4fd087e478106dc4211e",
       "value": false
      }
     },
     "bfcfdab882b440a8be3c9802361b5bfd": {
      "model_module": "@jupyter-widgets/controls",
      "model_module_version": "1.1.0",
      "model_name": "FloatTextModel",
      "state": {
       "description": "Leftmost color maps to:",
       "layout": "IPY_MODEL_3d93107ff8434c1ba2859508d718e5aa",
       "step": null,
       "style": "IPY_MODEL_a7cc9fd68d6849f0883553888cf04b43"
      }
     },
     "bfd9684a8b3647989911fc33a2678645": {
      "model_module": "@jupyter-widgets/controls",
      "model_module_version": "1.1.0",
      "model_name": "ButtonStyleModel",
      "state": {}
     },
     "bfe4c107d7c14c5a827423deff11ca3a": {
      "model_module": "@jupyter-widgets/controls",
      "model_module_version": "1.1.0",
      "model_name": "IntTextModel",
      "state": {
       "description": "Feature to show:",
       "layout": "IPY_MODEL_800757c032df4c1192977474936f4abc",
       "step": 1,
       "style": "IPY_MODEL_b5d7a88942b74351b34a79fa66c2ed26"
      }
     },
     "c017a3f2d67649aab203f428c5cf5a25": {
      "model_module": "@jupyter-widgets/controls",
      "model_module_version": "1.1.0",
      "model_name": "ButtonModel",
      "state": {
       "icon": "fast-backward",
       "layout": "IPY_MODEL_c3fd8474c6d141918e6377c92c7b2a57",
       "style": "IPY_MODEL_36846e6318f446358475094b369cd47a"
      }
     },
     "c0d51a8dada945bfba4f36bf21f3a545": {
      "model_module": "@jupyter-widgets/base",
      "model_module_version": "1.0.0",
      "model_name": "LayoutModel",
      "state": {
       "width": "100%"
      }
     },
     "c0f631aac59d465e87e3985cc3e93c52": {
      "model_module": "@jupyter-widgets/base",
      "model_module_version": "1.0.0",
      "model_name": "LayoutModel",
      "state": {}
     },
     "c0f8036a28de475d94a4950863a7a615": {
      "model_module": "@jupyter-widgets/controls",
      "model_module_version": "1.1.0",
      "model_name": "DescriptionStyleModel",
      "state": {
       "description_width": ""
      }
     },
     "c19075e17dcd4c9d930a74d3e9e38c89": {
      "model_module": "@jupyter-widgets/controls",
      "model_module_version": "1.1.0",
      "model_name": "DescriptionStyleModel",
      "state": {
       "description_width": ""
      }
     },
     "c1a0d7f182ad4022b2cfb494e26bdf7c": {
      "model_module": "@jupyter-widgets/controls",
      "model_module_version": "1.1.0",
      "model_name": "LabelModel",
      "state": {
       "layout": "IPY_MODEL_b257e3330b8e46d886fdd94557329342",
       "style": "IPY_MODEL_fe4150b95ac043529e298154842b6330",
       "value": "of 12000"
      }
     },
     "c1d1a90ef2f647c691a2d0972706a034": {
      "model_module": "@jupyter-widgets/base",
      "model_module_version": "1.0.0",
      "model_name": "LayoutModel",
      "state": {}
     },
     "c1ee272af3424a90a162ae3c75a2dc71": {
      "model_module": "@jupyter-widgets/controls",
      "model_module_version": "1.1.0",
      "model_name": "ButtonStyleModel",
      "state": {}
     },
     "c247e14988f64038af82f66557581ae7": {
      "model_module": "@jupyter-widgets/controls",
      "model_module_version": "1.1.0",
      "model_name": "DescriptionStyleModel",
      "state": {
       "description_width": "initial"
      }
     },
     "c270e19bc74945b3b810d1e74eedf2c2": {
      "model_module": "@jupyter-widgets/controls",
      "model_module_version": "1.1.0",
      "model_name": "DescriptionStyleModel",
      "state": {
       "description_width": ""
      }
     },
     "c2b40c6352b44bc0a5121c8e3b9c7ae3": {
      "model_module": "@jupyter-widgets/base",
      "model_module_version": "1.0.0",
      "model_name": "LayoutModel",
      "state": {}
     },
     "c2f1e98d5c5b49a6a84fb1e8cbaeb5d3": {
      "model_module": "@jupyter-widgets/controls",
      "model_module_version": "1.1.0",
      "model_name": "DescriptionStyleModel",
      "state": {
       "description_width": "initial"
      }
     },
     "c2fe9b502f3f4b68af5ac30809366b38": {
      "model_module": "@jupyter-widgets/base",
      "model_module_version": "1.0.0",
      "model_name": "LayoutModel",
      "state": {
       "width": "100%"
      }
     },
     "c317a6f93a054b91955405c7da14e2b0": {
      "model_module": "@jupyter-widgets/base",
      "model_module_version": "1.0.0",
      "model_name": "LayoutModel",
      "state": {
       "width": "100%"
      }
     },
     "c3463765d8c44085bf459b3400b1818b": {
      "model_module": "@jupyter-widgets/controls",
      "model_module_version": "1.1.0",
      "model_name": "DescriptionStyleModel",
      "state": {
       "description_width": "initial"
      }
     },
     "c3a379894b1b403e9aea432ffa38f633": {
      "model_module": "@jupyter-widgets/base",
      "model_module_version": "1.0.0",
      "model_name": "LayoutModel",
      "state": {
       "width": "100px"
      }
     },
     "c3a38ef96d374c4db4c948019a93bee3": {
      "model_module": "@jupyter-widgets/controls",
      "model_module_version": "1.1.0",
      "model_name": "DescriptionStyleModel",
      "state": {
       "description_width": ""
      }
     },
     "c3abe336ea864daf8de93ae91a2cb1d6": {
      "model_module": "@jupyter-widgets/controls",
      "model_module_version": "1.1.0",
      "model_name": "SelectModel",
      "state": {
       "_options_labels": [
        "Test",
        "Train"
       ],
       "description": "Dataset:",
       "index": 1,
       "layout": "IPY_MODEL_d01f9216d5b64d169c623b533580e6f1",
       "rows": 1,
       "style": "IPY_MODEL_697efc9633824fff844a9be573e18c39"
      }
     },
     "c3c0cc94e8854046a7217c2219be580d": {
      "model_module": "@jupyter-widgets/controls",
      "model_module_version": "1.1.0",
      "model_name": "DescriptionStyleModel",
      "state": {
       "description_width": ""
      }
     },
     "c3d8ca15bb5b4be7bd85b0b5304b1f63": {
      "model_module": "@jupyter-widgets/controls",
      "model_module_version": "1.1.0",
      "model_name": "SelectModel",
      "state": {
       "_options_labels": [
        "Test",
        "Train"
       ],
       "description": "Dataset:",
       "index": 1,
       "layout": "IPY_MODEL_42bbc7657bab4585a8da38aea5e656cb",
       "rows": 1,
       "style": "IPY_MODEL_9421d0d8ae194f50a3dac85fbbf0c428"
      }
     },
     "c3fd8474c6d141918e6377c92c7b2a57": {
      "model_module": "@jupyter-widgets/base",
      "model_module_version": "1.0.0",
      "model_name": "LayoutModel",
      "state": {
       "width": "100%"
      }
     },
     "c40b132e89c94fdda934f3bc8a5e5817": {
      "model_module": "@jupyter-widgets/controls",
      "model_module_version": "1.1.0",
      "model_name": "DescriptionStyleModel",
      "state": {
       "description_width": ""
      }
     },
     "c424104c8ef248f5a8241d5621b84c83": {
      "model_module": "@jupyter-widgets/controls",
      "model_module_version": "1.1.0",
      "model_name": "ButtonModel",
      "state": {
       "description": "Play",
       "icon": "play",
       "layout": "IPY_MODEL_1af26109d4cf4f509ffd4e8ebe9f5d5c",
       "style": "IPY_MODEL_35c97151e13d4dc5af403123fe14d1d6"
      }
     },
     "c43b210219b948ad9c972653a6069308": {
      "model_module": "@jupyter-widgets/controls",
      "model_module_version": "1.1.0",
      "model_name": "DescriptionStyleModel",
      "state": {
       "description_width": ""
      }
     },
     "c44d2bc3b2ee4f8bb169263c4194ee6c": {
      "model_module": "@jupyter-widgets/controls",
      "model_module_version": "1.1.0",
      "model_name": "LabelModel",
      "state": {
       "layout": "IPY_MODEL_3116ff9eee9740acafe6d90da8a5200b",
       "style": "IPY_MODEL_bcc48c7911b74725a2f6224466ac1b46",
       "value": "of 12000"
      }
     },
     "c473f8eb53904e4f93111a7802064c1a": {
      "model_module": "@jupyter-widgets/base",
      "model_module_version": "1.0.0",
      "model_name": "LayoutModel",
      "state": {}
     },
     "c47715c89dfa4ebaa6451dda15867c12": {
      "model_module": "@jupyter-widgets/controls",
      "model_module_version": "1.1.0",
      "model_name": "IntTextModel",
      "state": {
       "description": "Vertical space between layers:",
       "layout": "IPY_MODEL_8955ba102b5d4c6ea881b572f2dc91ce",
       "step": 1,
       "style": "IPY_MODEL_c57b183192f94658a1ec183b2c46a9e3",
       "value": 30
      }
     },
     "c4b7dd653d7746a7a7951e3e9bb232df": {
      "model_module": "@jupyter-widgets/controls",
      "model_module_version": "1.1.0",
      "model_name": "DescriptionStyleModel",
      "state": {
       "description_width": "initial"
      }
     },
     "c4bcd72074e24e0e812698bdf33357ed": {
      "model_module": "@jupyter-widgets/controls",
      "model_module_version": "1.1.0",
      "model_name": "DescriptionStyleModel",
      "state": {
       "description_width": "initial"
      }
     },
     "c4ce7ff35d34436381124de90f733338": {
      "model_module": "@jupyter-widgets/base",
      "model_module_version": "1.0.0",
      "model_name": "LayoutModel",
      "state": {
       "width": "100%"
      }
     },
     "c57b183192f94658a1ec183b2c46a9e3": {
      "model_module": "@jupyter-widgets/controls",
      "model_module_version": "1.1.0",
      "model_name": "DescriptionStyleModel",
      "state": {
       "description_width": "initial"
      }
     },
     "c58e9eb59e774f18b42be4ae4a158c03": {
      "model_module": "@jupyter-widgets/base",
      "model_module_version": "1.0.0",
      "model_name": "LayoutModel",
      "state": {
       "width": "52%"
      }
     },
     "c5eec40d6288454ea419223af9aa26d6": {
      "model_module": "@jupyter-widgets/base",
      "model_module_version": "1.0.0",
      "model_name": "LayoutModel",
      "state": {}
     },
     "c6573782b1b54b19999783206f97a4a7": {
      "model_module": "@jupyter-widgets/controls",
      "model_module_version": "1.1.0",
      "model_name": "ButtonModel",
      "state": {
       "icon": "save",
       "layout": "IPY_MODEL_34a3062114a4420a952a1e196832a454",
       "style": "IPY_MODEL_51c5dedd26da4fab84f79eac3aecd53e"
      }
     },
     "c66cd7bc8aab4b91b3dfbbfedc58468c": {
      "model_module": "@jupyter-widgets/base",
      "model_module_version": "1.0.0",
      "model_name": "LayoutModel",
      "state": {
       "width": "100px"
      }
     },
     "c6b88b40d15841128716eaec06f29ab3": {
      "model_module": "@jupyter-widgets/controls",
      "model_module_version": "1.1.0",
      "model_name": "DescriptionStyleModel",
      "state": {
       "description_width": "initial"
      }
     },
     "c7422579a6ba46deba2bb78d96c64bd1": {
      "model_module": "@jupyter-widgets/controls",
      "model_module_version": "1.1.0",
      "model_name": "ButtonStyleModel",
      "state": {}
     },
     "c778e288d4734228952cf382b87439f0": {
      "model_module": "@jupyter-widgets/controls",
      "model_module_version": "1.1.0",
      "model_name": "ButtonStyleModel",
      "state": {}
     },
     "c78003529d5e405980f3bfb6e0fa9a61": {
      "model_module": "@jupyter-widgets/controls",
      "model_module_version": "1.1.0",
      "model_name": "ButtonStyleModel",
      "state": {}
     },
     "c827acf9e21d428198820e20b9dc2195": {
      "model_module": "@jupyter-widgets/controls",
      "model_module_version": "1.1.0",
      "model_name": "DescriptionStyleModel",
      "state": {
       "description_width": ""
      }
     },
     "c83b7002c05f4d3dbc623991ab46d4da": {
      "model_module": "@jupyter-widgets/controls",
      "model_module_version": "1.1.0",
      "model_name": "DescriptionStyleModel",
      "state": {
       "description_width": "initial"
      }
     },
     "c89bdbeda2144845bc1551a7dba297a8": {
      "model_module": "@jupyter-widgets/controls",
      "model_module_version": "1.1.0",
      "model_name": "IntSliderModel",
      "state": {
       "continuous_update": false,
       "description": "Dataset index",
       "layout": "IPY_MODEL_ce25dd3f954d4075b520a4941cf5db2c",
       "max": 11999,
       "style": "IPY_MODEL_018947b9800945409404a735db0c544e",
       "value": 4
      }
     },
     "c8e6fdbd2d584f609239240aa2b03050": {
      "model_module": "@jupyter-widgets/controls",
      "model_module_version": "1.1.0",
      "model_name": "DescriptionStyleModel",
      "state": {
       "description_width": ""
      }
     },
     "c9067b1835b54081aa0bb85c2f1b158b": {
      "model_module": "@jupyter-widgets/controls",
      "model_module_version": "1.1.0",
      "model_name": "DescriptionStyleModel",
      "state": {
       "description_width": ""
      }
     },
     "c91378cf7978493bb82bbe52a33fb47d": {
      "model_module": "@jupyter-widgets/base",
      "model_module_version": "1.0.0",
      "model_name": "LayoutModel",
      "state": {}
     },
     "c98458af96df4a7aad55804da5425684": {
      "model_module": "@jupyter-widgets/controls",
      "model_module_version": "1.1.0",
      "model_name": "IntSliderModel",
      "state": {
       "continuous_update": false,
       "description": "Dataset index",
       "layout": "IPY_MODEL_7b8cfc687cad4651995a80f9c319f807",
       "max": 999,
       "style": "IPY_MODEL_2051a16ef6bc410ebe767242dec50372"
      }
     },
     "c99511c70def4d9f98038bf1b429689e": {
      "model_module": "@jupyter-widgets/controls",
      "model_module_version": "1.1.0",
      "model_name": "DescriptionStyleModel",
      "state": {
       "description_width": "initial"
      }
     },
     "c9b41efe30d04dae90bf323b4c27e8ae": {
      "model_module": "@jupyter-widgets/base",
      "model_module_version": "1.0.0",
      "model_name": "LayoutModel",
      "state": {}
     },
     "ca6b57fad1e34e3aa6e2448e28dfe82a": {
      "model_module": "@jupyter-widgets/base",
      "model_module_version": "1.0.0",
      "model_name": "LayoutModel",
      "state": {}
     },
     "ca850b29369f4a3fa6cb6ee47d8891ce": {
      "model_module": "@jupyter-widgets/base",
      "model_module_version": "1.0.0",
      "model_name": "LayoutModel",
      "state": {}
     },
     "caeaea7abb554362883e8b06ba7ef3dd": {
      "model_module": "@jupyter-widgets/controls",
      "model_module_version": "1.1.0",
      "model_name": "CheckboxModel",
      "state": {
       "description": "Errors",
       "disabled": false,
       "layout": "IPY_MODEL_2112f1e1aec4448694aa55eea10a2503",
       "style": "IPY_MODEL_8e2ad3ee20f448dab3d41f7e63881821",
       "value": false
      }
     },
     "cbdee75ea9614c56844552308b72cf79": {
      "model_module": "@jupyter-widgets/base",
      "model_module_version": "1.0.0",
      "model_name": "LayoutModel",
      "state": {
       "width": "100%"
      }
     },
     "cbf9deb1442c4253a1ee42555c308b74": {
      "model_module": "@jupyter-widgets/controls",
      "model_module_version": "1.1.0",
      "model_name": "ButtonModel",
      "state": {
       "icon": "fast-backward",
       "layout": "IPY_MODEL_8500c042426044aaaf3a590685d4a89e",
       "style": "IPY_MODEL_8925eb9f62e14c6790d51b0439f0a777"
      }
     },
     "cc424ae0f35f4baf88e75b4be7011c88": {
      "model_module": "@jupyter-widgets/controls",
      "model_module_version": "1.1.0",
      "model_name": "FloatTextModel",
      "state": {
       "description": "Rightmost color maps to:",
       "layout": "IPY_MODEL_cf8df8f3eb9a41f682998b85aa30346a",
       "step": null,
       "style": "IPY_MODEL_5e098f284e2149d4b3963d3d29c6a76f",
       "value": 1
      }
     },
     "cc47bd178c6946fe99f9b197fb2205f3": {
      "model_module": "@jupyter-widgets/controls",
      "model_module_version": "1.1.0",
      "model_name": "IntTextModel",
      "state": {
       "description": "Vertical space between layers:",
       "layout": "IPY_MODEL_3c71e01bc0fc4895a6869de7e0f8bf6f",
       "step": 1,
       "style": "IPY_MODEL_fa8d7a564ec742a2a793b0b030c84f7d",
       "value": 30
      }
     },
     "ccba2f4a9964498ab48a5a96d041de01": {
      "model_module": "@jupyter-widgets/base",
      "model_module_version": "1.0.0",
      "model_name": "LayoutModel",
      "state": {
       "width": "100%"
      }
     },
     "ccdb5a95e7e0425aa22b6af3e87ad493": {
      "model_module": "@jupyter-widgets/base",
      "model_module_version": "1.0.0",
      "model_name": "LayoutModel",
      "state": {
       "width": "100%"
      }
     },
     "cce4b376c4c24fdb8babc9759fa1ce6d": {
      "model_module": "@jupyter-widgets/controls",
      "model_module_version": "1.1.0",
      "model_name": "HTMLModel",
      "state": {
       "layout": "IPY_MODEL_2750b4c89a1b4712854690366afcd1a2",
       "style": "IPY_MODEL_87c10bf9111e4f52afb54b45b6bdcb3e",
       "value": "<p style=\"text-align:center\"><svg id='Hiding' xmlns='http://www.w3.org/2000/svg' image-rendering=\"pixelated\" width=\"297.1428571428571px\" height=\"800.0px\">\n <g  transform=\"rotate(90) translate(0 -297.1428571428571)\" >\n  <svg viewBox=\"0 0 1050 390\" width=\"800.0px\" height=\"297.1428571428571px\">\n    <defs>\n        <marker id=\"arrow\" markerWidth=\"10\" markerHeight=\"10\" refX=\"9\" refY=\"3\" orient=\"auto\" markerUnits=\"strokeWidth\">\n          <path d=\"M0,0 L0,6 L9,3 z\" fill=\"black\" />\n        </marker>\n    </defs><rect x=\"249.0\" y=\"24\" width=\"202\" height=\"52\" style=\"fill:none;stroke:black;stroke-width:2\"/><image id=\"picture-dashboard-Hiding-470650_output1-rotated_25\" class=\"picture-dashboard-Hiding-470650_output1-rotated\" x=\"250.0\" y=\"25\" height=\"50\" width=\"200\" preserveAspectRatio=\"none\" href=\"data:image/gif;base64,R0lGODdhMgABAIcAAP/9/QAAAAAAAAAAAAAAAAAAAAAAAAAAAAAAAAAAAAAAAAAAAAAAAAAAAAAAAAAAAAAAAAAAAAAAAAAAAAAAAAAAAAAAAAAAAAAAAAAAAAAAAAAAAAAAAAAAAAAAAAAAAAAAAAAAAAAAAAAAAAAAAAAAAAAAAAAAAAAAAAAAAAAAAAAAAAAAAAAAAAAAAAAAAAAAAAAAAAAAAAAAAAAAAAAAAAAAAAAAAAAAAAAAAAAAAAAAAAAAAAAAAAAAAAAAAAAAAAAAAAAAAAAAAAAAAAAAAAAAAAAAAAAAAAAAAAAAAAAAAAAAAAAAAAAAAAAAAAAAAAAAAAAAAAAAAAAAAAAAAAAAAAAAAAAAAAAAAAAAAAAAAAAAAAAAAAAAAAAAAAAAAAAAAAAAAAAAAAAAAAAAAAAAAAAAAAAAAAAAAAAAAAAAAAAAAAAAAAAAAAAAAAAAAAAAAAAAAAAAAAAAAAAAAAAAAAAAAAAAAAAAAAAAAAAAAAAAAAAAAAAAAAAAAAAAAAAAAAAAAAAAAAAAAAAAAAAAAAAAAAAAAAAAAAAAAAAAAAAAAAAAAAAAAAAAAAAAAAAAAAAAAAAAAAAAAAAAAAAAAAAAAAAAAAAAAAAAAAAAAAAAAAAAAAAAAAAAAAAAAAAAAAAAAAAAAAAAAAAAAAAAAAAAAAAAAAAAAAAAAAAAAAAAAAAAAAAAAAAAAAAAAAAAAAAAAAAAAAAAAAAAAAAAAAAAAAAAAAAAAAAAAAAAAAAAAAAAAAAAAAAAAAAAAAAAAAAAAAAAAAAAAAAAAAAAAAAAAAAAAAAAAAAAAAAAAAAAAAAAAAAAAAAAAAAAAAAAAAAAAAAAAAAAAAAAAAAAAAAAAAAAAAAAAAAAAAAAAAAAAAAAAAAAAAAAAAAAAAAAAAAAAAAAAAAAAAAAAAAAAAAAAAAAAAAAAAAAAAAAAAAAAAAAAAAAAAAAAAAAAAAAAAAAAAAAAAAAAAAAAAAAAAAAAAAAAAAAAAAAAAAAAAAAAAAAAAAAAAAAACwAAAAAMgABAAAIDgABCBxIsKDBgwgTFgwIADs=\"><title>Layer: output1 (output)\n output range: (-Infinity, +Infinity)\n shape = (50,)\n Keras class = Dense</title></image><text x=\"463.0\" y=\"52.0\" font-family=\"monospace\" font-size=\"12\" text-anchor=\"middle\" fill=\"black\" alignment-baseline=\"central\"  transform=\"rotate(-90 463.0 52.0) translate(2)\" >output1</text><rect x=\"599.0\" y=\"24\" width=\"202\" height=\"52\" style=\"fill:none;stroke:black;stroke-width:2\"/><image id=\"picture-dashboard-Hiding-470650_output2-rotated_26\" class=\"picture-dashboard-Hiding-470650_output2-rotated\" x=\"600.0\" y=\"25\" height=\"50\" width=\"200\" preserveAspectRatio=\"none\" href=\"data:image/gif;base64,R0lGODdhMgABAIcAAP/9/QAAAAAAAAAAAAAAAAAAAAAAAAAAAAAAAAAAAAAAAAAAAAAAAAAAAAAAAAAAAAAAAAAAAAAAAAAAAAAAAAAAAAAAAAAAAAAAAAAAAAAAAAAAAAAAAAAAAAAAAAAAAAAAAAAAAAAAAAAAAAAAAAAAAAAAAAAAAAAAAAAAAAAAAAAAAAAAAAAAAAAAAAAAAAAAAAAAAAAAAAAAAAAAAAAAAAAAAAAAAAAAAAAAAAAAAAAAAAAAAAAAAAAAAAAAAAAAAAAAAAAAAAAAAAAAAAAAAAAAAAAAAAAAAAAAAAAAAAAAAAAAAAAAAAAAAAAAAAAAAAAAAAAAAAAAAAAAAAAAAAAAAAAAAAAAAAAAAAAAAAAAAAAAAAAAAAAAAAAAAAAAAAAAAAAAAAAAAAAAAAAAAAAAAAAAAAAAAAAAAAAAAAAAAAAAAAAAAAAAAAAAAAAAAAAAAAAAAAAAAAAAAAAAAAAAAAAAAAAAAAAAAAAAAAAAAAAAAAAAAAAAAAAAAAAAAAAAAAAAAAAAAAAAAAAAAAAAAAAAAAAAAAAAAAAAAAAAAAAAAAAAAAAAAAAAAAAAAAAAAAAAAAAAAAAAAAAAAAAAAAAAAAAAAAAAAAAAAAAAAAAAAAAAAAAAAAAAAAAAAAAAAAAAAAAAAAAAAAAAAAAAAAAAAAAAAAAAAAAAAAAAAAAAAAAAAAAAAAAAAAAAAAAAAAAAAAAAAAAAAAAAAAAAAAAAAAAAAAAAAAAAAAAAAAAAAAAAAAAAAAAAAAAAAAAAAAAAAAAAAAAAAAAAAAAAAAAAAAAAAAAAAAAAAAAAAAAAAAAAAAAAAAAAAAAAAAAAAAAAAAAAAAAAAAAAAAAAAAAAAAAAAAAAAAAAAAAAAAAAAAAAAAAAAAAAAAAAAAAAAAAAAAAAAAAAAAAAAAAAAAAAAAAAAAAAAAAAAAAAAAAAAAAAAAAAAAAAAAAAAAAAAAAAAAAAAAAAAAAAAAAAAAAAAAAAAAAAAAAAAAAAAAAAAAAAAAAAAAAAACwAAAAAMgABAAAIDgABCBxIsKDBgwgTFgwIADs=\"><title>Layer: output2 (output)\n output range: (-Infinity, +Infinity)\n shape = (50,)\n Keras class = Dense</title></image><text x=\"813.0\" y=\"52.0\" font-family=\"monospace\" font-size=\"12\" text-anchor=\"middle\" fill=\"black\" alignment-baseline=\"central\"  transform=\"rotate(-90 813.0 52.0) translate(2)\" >output2</text><line x1=\"525.0\" y1=\"104\" x2=\"350.0\" y2=\"77\" stroke=\"black\" stroke-width=\"2\" marker-end=\"url(#arrow)\"><title>Weights from merge to output1\n output1/kernel:0 has shape (50, 50)\n output1/bias:0 has shape (50,)</title></line><line x1=\"525.0\" y1=\"104\" x2=\"700.0\" y2=\"77\" stroke=\"black\" stroke-width=\"2\" marker-end=\"url(#arrow)\"><title>Weights from merge to output2\n output2/kernel:0 has shape (50, 50)\n output2/bias:0 has shape (50,)</title></line><rect x=\"424.0\" y=\"104\" width=\"202\" height=\"52\" style=\"fill:none;stroke:black;stroke-width:2\"/><image id=\"picture-dashboard-Hiding-470650_merge-rotated_27\" class=\"picture-dashboard-Hiding-470650_merge-rotated\" x=\"425.0\" y=\"105\" height=\"50\" width=\"200\" preserveAspectRatio=\"none\" href=\"data:image/gif;base64,R0lGODdhMgABAIcAAP/9/QAAAAAAAAAAAAAAAAAAAAAAAAAAAAAAAAAAAAAAAAAAAAAAAAAAAAAAAAAAAAAAAAAAAAAAAAAAAAAAAAAAAAAAAAAAAAAAAAAAAAAAAAAAAAAAAAAAAAAAAAAAAAAAAAAAAAAAAAAAAAAAAAAAAAAAAAAAAAAAAAAAAAAAAAAAAAAAAAAAAAAAAAAAAAAAAAAAAAAAAAAAAAAAAAAAAAAAAAAAAAAAAAAAAAAAAAAAAAAAAAAAAAAAAAAAAAAAAAAAAAAAAAAAAAAAAAAAAAAAAAAAAAAAAAAAAAAAAAAAAAAAAAAAAAAAAAAAAAAAAAAAAAAAAAAAAAAAAAAAAAAAAAAAAAAAAAAAAAAAAAAAAAAAAAAAAAAAAAAAAAAAAAAAAAAAAAAAAAAAAAAAAAAAAAAAAAAAAAAAAAAAAAAAAAAAAAAAAAAAAAAAAAAAAAAAAAAAAAAAAAAAAAAAAAAAAAAAAAAAAAAAAAAAAAAAAAAAAAAAAAAAAAAAAAAAAAAAAAAAAAAAAAAAAAAAAAAAAAAAAAAAAAAAAAAAAAAAAAAAAAAAAAAAAAAAAAAAAAAAAAAAAAAAAAAAAAAAAAAAAAAAAAAAAAAAAAAAAAAAAAAAAAAAAAAAAAAAAAAAAAAAAAAAAAAAAAAAAAAAAAAAAAAAAAAAAAAAAAAAAAAAAAAAAAAAAAAAAAAAAAAAAAAAAAAAAAAAAAAAAAAAAAAAAAAAAAAAAAAAAAAAAAAAAAAAAAAAAAAAAAAAAAAAAAAAAAAAAAAAAAAAAAAAAAAAAAAAAAAAAAAAAAAAAAAAAAAAAAAAAAAAAAAAAAAAAAAAAAAAAAAAAAAAAAAAAAAAAAAAAAAAAAAAAAAAAAAAAAAAAAAAAAAAAAAAAAAAAAAAAAAAAAAAAAAAAAAAAAAAAAAAAAAAAAAAAAAAAAAAAAAAAAAAAAAAAAAAAAAAAAAAAAAAAAAAAAAAAAAAAAAAAAAAAAAAAAAAAAAAAAAAAAAAAAAAAAAAAAAAACwAAAAAMgABAAAIDgABCBxIsKDBgwgTFgwIADs=\"><title>Layer: merge (hidden)\n output range: (-Infinity, +Infinity)\n shape = (50,)\n Keras class = Dense</title></image><text x=\"638.0\" y=\"132.0\" font-family=\"monospace\" font-size=\"12\" text-anchor=\"middle\" fill=\"black\" alignment-baseline=\"central\"  transform=\"rotate(-90 638.0 132.0) translate(2)\" >merge</text><line x1=\"262.5\" y1=\"184\" x2=\"525.0\" y2=\"157\" stroke=\"black\" stroke-width=\"2\" marker-end=\"url(#arrow)\"><title>Weights from hidden1-2 to merge\n merge/kernel:0 has shape (150, 50)\n merge/bias:0 has shape (50,)</title></line><rect x=\"161.5\" y=\"184\" width=\"202\" height=\"52\" style=\"fill:none;stroke:black;stroke-width:2\"/><image id=\"picture-dashboard-Hiding-470650_hidden1-2-rotated_28\" class=\"picture-dashboard-Hiding-470650_hidden1-2-rotated\" x=\"162.5\" y=\"185\" height=\"50\" width=\"200\" preserveAspectRatio=\"none\" href=\"data:image/gif;base64,R0lGODdhMgABAIcAAP/9/QAAAAAAAAAAAAAAAAAAAAAAAAAAAAAAAAAAAAAAAAAAAAAAAAAAAAAAAAAAAAAAAAAAAAAAAAAAAAAAAAAAAAAAAAAAAAAAAAAAAAAAAAAAAAAAAAAAAAAAAAAAAAAAAAAAAAAAAAAAAAAAAAAAAAAAAAAAAAAAAAAAAAAAAAAAAAAAAAAAAAAAAAAAAAAAAAAAAAAAAAAAAAAAAAAAAAAAAAAAAAAAAAAAAAAAAAAAAAAAAAAAAAAAAAAAAAAAAAAAAAAAAAAAAAAAAAAAAAAAAAAAAAAAAAAAAAAAAAAAAAAAAAAAAAAAAAAAAAAAAAAAAAAAAAAAAAAAAAAAAAAAAAAAAAAAAAAAAAAAAAAAAAAAAAAAAAAAAAAAAAAAAAAAAAAAAAAAAAAAAAAAAAAAAAAAAAAAAAAAAAAAAAAAAAAAAAAAAAAAAAAAAAAAAAAAAAAAAAAAAAAAAAAAAAAAAAAAAAAAAAAAAAAAAAAAAAAAAAAAAAAAAAAAAAAAAAAAAAAAAAAAAAAAAAAAAAAAAAAAAAAAAAAAAAAAAAAAAAAAAAAAAAAAAAAAAAAAAAAAAAAAAAAAAAAAAAAAAAAAAAAAAAAAAAAAAAAAAAAAAAAAAAAAAAAAAAAAAAAAAAAAAAAAAAAAAAAAAAAAAAAAAAAAAAAAAAAAAAAAAAAAAAAAAAAAAAAAAAAAAAAAAAAAAAAAAAAAAAAAAAAAAAAAAAAAAAAAAAAAAAAAAAAAAAAAAAAAAAAAAAAAAAAAAAAAAAAAAAAAAAAAAAAAAAAAAAAAAAAAAAAAAAAAAAAAAAAAAAAAAAAAAAAAAAAAAAAAAAAAAAAAAAAAAAAAAAAAAAAAAAAAAAAAAAAAAAAAAAAAAAAAAAAAAAAAAAAAAAAAAAAAAAAAAAAAAAAAAAAAAAAAAAAAAAAAAAAAAAAAAAAAAAAAAAAAAAAAAAAAAAAAAAAAAAAAAAAAAAAAAAAAAAAAAAAAAAAAAAAAAAAAAAAAAAAAAAAAAAAAACwAAAAAMgABAAAIDgABCBxIsKDBgwgTFgwIADs=\"><title>Layer: hidden1-2 (hidden)\n output range: (-Infinity, +Infinity)\n shape = (50,)\n Keras class = Dense</title></image><text x=\"375.5\" y=\"212.0\" font-family=\"monospace\" font-size=\"12\" text-anchor=\"middle\" fill=\"black\" alignment-baseline=\"central\"  transform=\"rotate(-90 375.5 212.0) translate(2)\" >hidden1-2</text><text x=\"483.0\" y=\"200\" font-family=\"monospace\" font-size=\"12\" text-anchor=\"middle\" fill=\"green\" alignment-baseline=\"central\"  transform=\"rotate(-90 483.0 200) translate(2)\" >[hidden layers]</text><line x1=\"787.5\" y1=\"185\" x2=\"525.0\" y2=\"155\" stroke=\"black\" stroke-width=\"2\" marker-end=\"url(#arrow)\"><title>Weights from input3 to merge\n merge/kernel:0 has shape (150, 50)\n merge/bias:0 has shape (50,)</title></line><text x=\"220.5\" y=\"250\" font-family=\"monospace\" font-size=\"12\" text-anchor=\"middle\" fill=\"green\" alignment-baseline=\"central\"  transform=\"rotate(-90 220.5 250) translate(2)\" >[hidden layers]</text><rect x=\"424.0\" y=\"234\" width=\"202\" height=\"52\" style=\"fill:none;stroke:black;stroke-width:2\"/><image id=\"picture-dashboard-Hiding-470650_hidden2-rotated_29\" class=\"picture-dashboard-Hiding-470650_hidden2-rotated\" x=\"425.0\" y=\"235\" height=\"50\" width=\"200\" preserveAspectRatio=\"none\" href=\"data:image/gif;base64,R0lGODdhMgABAIcAAP/9/QAAAAAAAAAAAAAAAAAAAAAAAAAAAAAAAAAAAAAAAAAAAAAAAAAAAAAAAAAAAAAAAAAAAAAAAAAAAAAAAAAAAAAAAAAAAAAAAAAAAAAAAAAAAAAAAAAAAAAAAAAAAAAAAAAAAAAAAAAAAAAAAAAAAAAAAAAAAAAAAAAAAAAAAAAAAAAAAAAAAAAAAAAAAAAAAAAAAAAAAAAAAAAAAAAAAAAAAAAAAAAAAAAAAAAAAAAAAAAAAAAAAAAAAAAAAAAAAAAAAAAAAAAAAAAAAAAAAAAAAAAAAAAAAAAAAAAAAAAAAAAAAAAAAAAAAAAAAAAAAAAAAAAAAAAAAAAAAAAAAAAAAAAAAAAAAAAAAAAAAAAAAAAAAAAAAAAAAAAAAAAAAAAAAAAAAAAAAAAAAAAAAAAAAAAAAAAAAAAAAAAAAAAAAAAAAAAAAAAAAAAAAAAAAAAAAAAAAAAAAAAAAAAAAAAAAAAAAAAAAAAAAAAAAAAAAAAAAAAAAAAAAAAAAAAAAAAAAAAAAAAAAAAAAAAAAAAAAAAAAAAAAAAAAAAAAAAAAAAAAAAAAAAAAAAAAAAAAAAAAAAAAAAAAAAAAAAAAAAAAAAAAAAAAAAAAAAAAAAAAAAAAAAAAAAAAAAAAAAAAAAAAAAAAAAAAAAAAAAAAAAAAAAAAAAAAAAAAAAAAAAAAAAAAAAAAAAAAAAAAAAAAAAAAAAAAAAAAAAAAAAAAAAAAAAAAAAAAAAAAAAAAAAAAAAAAAAAAAAAAAAAAAAAAAAAAAAAAAAAAAAAAAAAAAAAAAAAAAAAAAAAAAAAAAAAAAAAAAAAAAAAAAAAAAAAAAAAAAAAAAAAAAAAAAAAAAAAAAAAAAAAAAAAAAAAAAAAAAAAAAAAAAAAAAAAAAAAAAAAAAAAAAAAAAAAAAAAAAAAAAAAAAAAAAAAAAAAAAAAAAAAAAAAAAAAAAAAAAAAAAAAAAAAAAAAAAAAAAAAAAAAAAAAAAAAAAAAAAAAAAAAAAAAAAAAAAAAAAAAACwAAAAAMgABAAAIDgABCBxIsKDBgwgTFgwIADs=\"><title>Layer: hidden2 (hidden)\n output range: (-Infinity, +Infinity)\n shape = (50,)\n Keras class = Dense</title></image><text x=\"638.0\" y=\"262.0\" font-family=\"monospace\" font-size=\"12\" text-anchor=\"middle\" fill=\"black\" alignment-baseline=\"central\"  transform=\"rotate(-90 638.0 262.0) translate(2)\" >hidden2</text><line x1=\"787.5\" y1=\"235\" x2=\"787.5\" y2=\"185\" stroke=\"black\" stroke-width=\"2\"><title>Weights from input3 to merge\n merge/kernel:0 has shape (150, 50)\n merge/bias:0 has shape (50,)</title></line><rect x=\"161.5\" y=\"314\" width=\"202\" height=\"52\" style=\"fill:none;stroke:black;stroke-width:2\"/><image id=\"picture-dashboard-Hiding-470650_input1-rotated_30\" class=\"picture-dashboard-Hiding-470650_input1-rotated\" x=\"162.5\" y=\"315\" height=\"50\" width=\"200\" preserveAspectRatio=\"none\" href=\"data:image/gif;base64,R0lGODdhMgABAIcAAH9/fwAAAAAAAAAAAAAAAAAAAAAAAAAAAAAAAAAAAAAAAAAAAAAAAAAAAAAAAAAAAAAAAAAAAAAAAAAAAAAAAAAAAAAAAAAAAAAAAAAAAAAAAAAAAAAAAAAAAAAAAAAAAAAAAAAAAAAAAAAAAAAAAAAAAAAAAAAAAAAAAAAAAAAAAAAAAAAAAAAAAAAAAAAAAAAAAAAAAAAAAAAAAAAAAAAAAAAAAAAAAAAAAAAAAAAAAAAAAAAAAAAAAAAAAAAAAAAAAAAAAAAAAAAAAAAAAAAAAAAAAAAAAAAAAAAAAAAAAAAAAAAAAAAAAAAAAAAAAAAAAAAAAAAAAAAAAAAAAAAAAAAAAAAAAAAAAAAAAAAAAAAAAAAAAAAAAAAAAAAAAAAAAAAAAAAAAAAAAAAAAAAAAAAAAAAAAAAAAAAAAAAAAAAAAAAAAAAAAAAAAAAAAAAAAAAAAAAAAAAAAAAAAAAAAAAAAAAAAAAAAAAAAAAAAAAAAAAAAAAAAAAAAAAAAAAAAAAAAAAAAAAAAAAAAAAAAAAAAAAAAAAAAAAAAAAAAAAAAAAAAAAAAAAAAAAAAAAAAAAAAAAAAAAAAAAAAAAAAAAAAAAAAAAAAAAAAAAAAAAAAAAAAAAAAAAAAAAAAAAAAAAAAAAAAAAAAAAAAAAAAAAAAAAAAAAAAAAAAAAAAAAAAAAAAAAAAAAAAAAAAAAAAAAAAAAAAAAAAAAAAAAAAAAAAAAAAAAAAAAAAAAAAAAAAAAAAAAAAAAAAAAAAAAAAAAAAAAAAAAAAAAAAAAAAAAAAAAAAAAAAAAAAAAAAAAAAAAAAAAAAAAAAAAAAAAAAAAAAAAAAAAAAAAAAAAAAAAAAAAAAAAAAAAAAAAAAAAAAAAAAAAAAAAAAAAAAAAAAAAAAAAAAAAAAAAAAAAAAAAAAAAAAAAAAAAAAAAAAAAAAAAAAAAAAAAAAAAAAAAAAAAAAAAAAAAAAAAAAAAAAAAAAAAAAAAAAAAAAAAAAAAAAAAAAAAAAAAAAAAAACwAAAAAMgABAAAIDgABCBxIsKDBgwgTFgwIADs=\"><title>Layer: input1 (input)\n output range: (-Infinity, +Infinity)\n shape = (50,)\n Keras class = Input</title></image><text x=\"375.5\" y=\"342.0\" font-family=\"monospace\" font-size=\"12\" text-anchor=\"middle\" fill=\"black\" alignment-baseline=\"central\"  transform=\"rotate(-90 375.5 342.0) translate(2)\" >input1</text><line x1=\"525.0\" y1=\"314\" x2=\"525.0\" y2=\"287\" stroke=\"black\" stroke-width=\"2\" marker-end=\"url(#arrow)\"><title>Weights from input2 to hidden2\n hidden2/kernel:0 has shape (50, 50)\n hidden2/bias:0 has shape (50,)</title></line><rect x=\"424.0\" y=\"314\" width=\"202\" height=\"52\" style=\"fill:none;stroke:black;stroke-width:2\"/><image id=\"picture-dashboard-Hiding-470650_input2-rotated_31\" class=\"picture-dashboard-Hiding-470650_input2-rotated\" x=\"425.0\" y=\"315\" height=\"50\" width=\"200\" preserveAspectRatio=\"none\" href=\"data:image/gif;base64,R0lGODdhMgABAIcAAH9/fwAAAAAAAAAAAAAAAAAAAAAAAAAAAAAAAAAAAAAAAAAAAAAAAAAAAAAAAAAAAAAAAAAAAAAAAAAAAAAAAAAAAAAAAAAAAAAAAAAAAAAAAAAAAAAAAAAAAAAAAAAAAAAAAAAAAAAAAAAAAAAAAAAAAAAAAAAAAAAAAAAAAAAAAAAAAAAAAAAAAAAAAAAAAAAAAAAAAAAAAAAAAAAAAAAAAAAAAAAAAAAAAAAAAAAAAAAAAAAAAAAAAAAAAAAAAAAAAAAAAAAAAAAAAAAAAAAAAAAAAAAAAAAAAAAAAAAAAAAAAAAAAAAAAAAAAAAAAAAAAAAAAAAAAAAAAAAAAAAAAAAAAAAAAAAAAAAAAAAAAAAAAAAAAAAAAAAAAAAAAAAAAAAAAAAAAAAAAAAAAAAAAAAAAAAAAAAAAAAAAAAAAAAAAAAAAAAAAAAAAAAAAAAAAAAAAAAAAAAAAAAAAAAAAAAAAAAAAAAAAAAAAAAAAAAAAAAAAAAAAAAAAAAAAAAAAAAAAAAAAAAAAAAAAAAAAAAAAAAAAAAAAAAAAAAAAAAAAAAAAAAAAAAAAAAAAAAAAAAAAAAAAAAAAAAAAAAAAAAAAAAAAAAAAAAAAAAAAAAAAAAAAAAAAAAAAAAAAAAAAAAAAAAAAAAAAAAAAAAAAAAAAAAAAAAAAAAAAAAAAAAAAAAAAAAAAAAAAAAAAAAAAAAAAAAAAAAAAAAAAAAAAAAAAAAAAAAAAAAAAAAAAAAAAAAAAAAAAAAAAAAAAAAAAAAAAAAAAAAAAAAAAAAAAAAAAAAAAAAAAAAAAAAAAAAAAAAAAAAAAAAAAAAAAAAAAAAAAAAAAAAAAAAAAAAAAAAAAAAAAAAAAAAAAAAAAAAAAAAAAAAAAAAAAAAAAAAAAAAAAAAAAAAAAAAAAAAAAAAAAAAAAAAAAAAAAAAAAAAAAAAAAAAAAAAAAAAAAAAAAAAAAAAAAAAAAAAAAAAAAAAAAAAAAAAAAAAAAAAAAAAAAAAAAAAAAAAAAAAAACwAAAAAMgABAAAIDgABCBxIsKDBgwgTFgwIADs=\"><title>Layer: input2 (input)\n output range: (-Infinity, +Infinity)\n shape = (50,)\n Keras class = Input</title></image><text x=\"638.0\" y=\"342.0\" font-family=\"monospace\" font-size=\"12\" text-anchor=\"middle\" fill=\"black\" alignment-baseline=\"central\"  transform=\"rotate(-90 638.0 342.0) translate(2)\" >input2</text><line x1=\"787.5\" y1=\"314\" x2=\"787.5\" y2=\"235\" stroke=\"black\" stroke-width=\"2\"><title>Weights from input3 to merge\n merge/kernel:0 has shape (150, 50)\n merge/bias:0 has shape (50,)</title></line><rect x=\"686.5\" y=\"314\" width=\"202\" height=\"52\" style=\"fill:none;stroke:black;stroke-width:2\"/><image id=\"picture-dashboard-Hiding-470650_input3-rotated_32\" class=\"picture-dashboard-Hiding-470650_input3-rotated\" x=\"687.5\" y=\"315\" height=\"50\" width=\"200\" preserveAspectRatio=\"none\" href=\"data:image/gif;base64,R0lGODdhMgABAIcAAH9/fwAAAAAAAAAAAAAAAAAAAAAAAAAAAAAAAAAAAAAAAAAAAAAAAAAAAAAAAAAAAAAAAAAAAAAAAAAAAAAAAAAAAAAAAAAAAAAAAAAAAAAAAAAAAAAAAAAAAAAAAAAAAAAAAAAAAAAAAAAAAAAAAAAAAAAAAAAAAAAAAAAAAAAAAAAAAAAAAAAAAAAAAAAAAAAAAAAAAAAAAAAAAAAAAAAAAAAAAAAAAAAAAAAAAAAAAAAAAAAAAAAAAAAAAAAAAAAAAAAAAAAAAAAAAAAAAAAAAAAAAAAAAAAAAAAAAAAAAAAAAAAAAAAAAAAAAAAAAAAAAAAAAAAAAAAAAAAAAAAAAAAAAAAAAAAAAAAAAAAAAAAAAAAAAAAAAAAAAAAAAAAAAAAAAAAAAAAAAAAAAAAAAAAAAAAAAAAAAAAAAAAAAAAAAAAAAAAAAAAAAAAAAAAAAAAAAAAAAAAAAAAAAAAAAAAAAAAAAAAAAAAAAAAAAAAAAAAAAAAAAAAAAAAAAAAAAAAAAAAAAAAAAAAAAAAAAAAAAAAAAAAAAAAAAAAAAAAAAAAAAAAAAAAAAAAAAAAAAAAAAAAAAAAAAAAAAAAAAAAAAAAAAAAAAAAAAAAAAAAAAAAAAAAAAAAAAAAAAAAAAAAAAAAAAAAAAAAAAAAAAAAAAAAAAAAAAAAAAAAAAAAAAAAAAAAAAAAAAAAAAAAAAAAAAAAAAAAAAAAAAAAAAAAAAAAAAAAAAAAAAAAAAAAAAAAAAAAAAAAAAAAAAAAAAAAAAAAAAAAAAAAAAAAAAAAAAAAAAAAAAAAAAAAAAAAAAAAAAAAAAAAAAAAAAAAAAAAAAAAAAAAAAAAAAAAAAAAAAAAAAAAAAAAAAAAAAAAAAAAAAAAAAAAAAAAAAAAAAAAAAAAAAAAAAAAAAAAAAAAAAAAAAAAAAAAAAAAAAAAAAAAAAAAAAAAAAAAAAAAAAAAAAAAAAAAAAAAAAAAAAAAAAAAAAAAAAAAAAAAAAAAAAAAAAAAAAAAAAAAAACwAAAAAMgABAAAIDgABCBxIsKDBgwgTFgwIADs=\"><title>Layer: input3 (input)\n output range: (-Infinity, +Infinity)\n shape = (50,)\n Keras class = Input</title></image><text x=\"900.5\" y=\"342.0\" font-family=\"monospace\" font-size=\"12\" text-anchor=\"middle\" fill=\"black\" alignment-baseline=\"central\"  transform=\"rotate(-90 900.5 342.0) translate(2)\" >input3</text><text x=\"18\" y=\"195.0\" font-family=\"monospace\" font-size=\"15\" text-anchor=\"middle\" fill=\"black\" alignment-baseline=\"central\"  transform=\"rotate(-90 18 195.0) translate(2)\" >Hiding</text></svg></g></svg></p>"
      }
     },
     "cd5c60bc0e2c4ae090d6462457057fa1": {
      "model_module": "@jupyter-widgets/base",
      "model_module_version": "1.0.0",
      "model_name": "LayoutModel",
      "state": {
       "width": "100%"
      }
     },
     "cd6824e7ce1a44868c567ce8e5c600fc": {
      "model_module": "@jupyter-widgets/controls",
      "model_module_version": "1.1.0",
      "model_name": "CheckboxModel",
      "state": {
       "description": "Rotate network",
       "disabled": false,
       "layout": "IPY_MODEL_8839cf871f474c629ae3b6610fb91c02",
       "style": "IPY_MODEL_e7dd99d44eca4ba39fe38feb29d87298",
       "value": false
      }
     },
     "cd6baf593330439dbe2ff3573e1f8264": {
      "model_module": "@jupyter-widgets/base",
      "model_module_version": "1.0.0",
      "model_name": "LayoutModel",
      "state": {
       "width": "52%"
      }
     },
     "cdabd03a53824e8cadbe07bcd4c2abfd": {
      "model_module": "@jupyter-widgets/controls",
      "model_module_version": "1.1.0",
      "model_name": "ButtonModel",
      "state": {
       "icon": "fast-forward",
       "layout": "IPY_MODEL_420abfe277f24e8ba77c88bc242b81f2",
       "style": "IPY_MODEL_734225c7852c4b32a6aace15c712430c"
      }
     },
     "cde024a7c7254631a9ee775acd37cc1d": {
      "model_module": "@jupyter-widgets/controls",
      "model_module_version": "1.1.0",
      "model_name": "IntTextModel",
      "state": {
       "description": "Horizontal space between banks:",
       "layout": "IPY_MODEL_90de29ae74eb41418e354aa7a12374bf",
       "step": 1,
       "style": "IPY_MODEL_ba263c3531a84d24aafe6a338a15734c",
       "value": 150
      }
     },
     "ce01c15c76b04cd0bcac7eed4cddcf70": {
      "model_module": "@jupyter-widgets/controls",
      "model_module_version": "1.1.0",
      "model_name": "AccordionModel",
      "state": {
       "_titles": {
        "0": "Finger Math"
       },
       "children": [
        "IPY_MODEL_5f2473288bc34f9586e5bb00368af35d"
       ],
       "layout": "IPY_MODEL_4c53dd1dc3704a34944de010011b6e14",
       "selected_index": null
      }
     },
     "ce25dd3f954d4075b520a4941cf5db2c": {
      "model_module": "@jupyter-widgets/base",
      "model_module_version": "1.0.0",
      "model_name": "LayoutModel",
      "state": {
       "width": "100%"
      }
     },
     "ceccb72810b547ab86676dff9aeda2d7": {
      "model_module": "@jupyter-widgets/controls",
      "model_module_version": "1.1.0",
      "model_name": "CheckboxModel",
      "state": {
       "description": "Rotate network",
       "disabled": false,
       "layout": "IPY_MODEL_3916d47aa4554a1984715662c8c38fb8",
       "style": "IPY_MODEL_2e30a8257a314264b845244850f77408",
       "value": true
      }
     },
     "cf8df8f3eb9a41f682998b85aa30346a": {
      "model_module": "@jupyter-widgets/base",
      "model_module_version": "1.0.0",
      "model_name": "LayoutModel",
      "state": {}
     },
     "cfce4ef73cef48f2b487b229006d6b26": {
      "model_module": "@jupyter-widgets/controls",
      "model_module_version": "1.1.0",
      "model_name": "VBoxModel",
      "state": {
       "children": [
        "IPY_MODEL_d05d5c3c262840309fb2e39cdde7783b",
        "IPY_MODEL_86bdb5c2cfa6475f9cc5215ee55424c2",
        "IPY_MODEL_3a8d5f61d35c496d85469f77010f733a",
        "IPY_MODEL_34d9734bffcb4b7290b493d5bda2dca1",
        "IPY_MODEL_08cae0e3378a4f3db8ffd5c7ae9b348e",
        "IPY_MODEL_8a85c3bf995948388662341618973ed2",
        "IPY_MODEL_0e62bc66693c431f88c1d30004dfb55b",
        "IPY_MODEL_813c7728a60e4eef91ddd5bfbac03679"
       ],
       "layout": "IPY_MODEL_d0037a6169c247db8f9d1cd36fe41b3c"
      }
     },
     "cfee307234094034896cf5da5fa50e55": {
      "model_module": "@jupyter-widgets/controls",
      "model_module_version": "1.1.0",
      "model_name": "HBoxModel",
      "state": {
       "children": [
        "IPY_MODEL_b383fb624e2a418a9c1b4c0b9bc5d31a",
        "IPY_MODEL_c44d2bc3b2ee4f8bb169263c4194ee6c"
       ],
       "layout": "IPY_MODEL_f3886c65ce4d4a89a6a99a47948b8fc5"
      }
     },
     "d0037a6169c247db8f9d1cd36fe41b3c": {
      "model_module": "@jupyter-widgets/base",
      "model_module_version": "1.0.0",
      "model_name": "LayoutModel",
      "state": {
       "width": "100%"
      }
     },
     "d01f9216d5b64d169c623b533580e6f1": {
      "model_module": "@jupyter-widgets/base",
      "model_module_version": "1.0.0",
      "model_name": "LayoutModel",
      "state": {}
     },
     "d039d0e34b3b47ffb4c5b3e47681e1bd": {
      "model_module": "@jupyter-widgets/controls",
      "model_module_version": "1.1.0",
      "model_name": "SliderStyleModel",
      "state": {
       "description_width": "initial"
      }
     },
     "d040fc3b61c44361b4fefe93f0b218e4": {
      "model_module": "@jupyter-widgets/base",
      "model_module_version": "1.0.0",
      "model_name": "LayoutModel",
      "state": {
       "width": "100%"
      }
     },
     "d05d5c3c262840309fb2e39cdde7783b": {
      "model_module": "@jupyter-widgets/controls",
      "model_module_version": "1.1.0",
      "model_name": "SelectModel",
      "state": {
       "_options_labels": [
        "input1",
        "input2",
        "flatten1",
        "flatten2",
        "hidden",
        "output"
       ],
       "description": "Layer:",
       "index": 5,
       "layout": "IPY_MODEL_93661e5b388d410cb16340e71c789553",
       "rows": 1,
       "style": "IPY_MODEL_6a69ca14f9024f4797a450d2f0d49f51"
      }
     },
     "d0788cf3dbd948918fbfa1c4bfdfc5c1": {
      "model_module": "@jupyter-widgets/base",
      "model_module_version": "1.0.0",
      "model_name": "LayoutModel",
      "state": {
       "width": "10%"
      }
     },
     "d0b1e469722c4a9fa504408715785802": {
      "model_module": "@jupyter-widgets/controls",
      "model_module_version": "1.1.0",
      "model_name": "DescriptionStyleModel",
      "state": {
       "description_width": ""
      }
     },
     "d0d2e8fef3ea452e8bc3e47d4028bfd4": {
      "model_module": "@jupyter-widgets/controls",
      "model_module_version": "1.1.0",
      "model_name": "ButtonModel",
      "state": {
       "icon": "backward",
       "layout": "IPY_MODEL_df9732de5b0447ef9d59032a90fdba9d",
       "style": "IPY_MODEL_6dc8779ab1ad41348d4bf9b370a077d1"
      }
     },
     "d1a366369d964f21966bb6556ae41b55": {
      "model_module": "@jupyter-widgets/base",
      "model_module_version": "1.0.0",
      "model_name": "LayoutModel",
      "state": {
       "width": "100%"
      }
     },
     "d1c4c8e05274462e83fd65d54bca75d1": {
      "model_module": "@jupyter-widgets/controls",
      "model_module_version": "1.1.0",
      "model_name": "FloatTextModel",
      "state": {
       "description": "Rightmost color maps to:",
       "layout": "IPY_MODEL_4cd8ebc4800c48d0b5c357f647c9d664",
       "step": null,
       "style": "IPY_MODEL_5d75ae1e30b64c778a527d1a351c4511",
       "value": 2
      }
     },
     "d1d2871ecc0545fe8c938c0cbd0b6946": {
      "model_module": "@jupyter-widgets/base",
      "model_module_version": "1.0.0",
      "model_name": "LayoutModel",
      "state": {
       "width": "100%"
      }
     },
     "d1d79939ece74778a09ebf657df27c2e": {
      "model_module": "@jupyter-widgets/controls",
      "model_module_version": "1.1.0",
      "model_name": "DescriptionStyleModel",
      "state": {
       "description_width": ""
      }
     },
     "d1dbb6679c9c4cdc8c9377d2977aaa23": {
      "model_module": "@jupyter-widgets/base",
      "model_module_version": "1.0.0",
      "model_name": "LayoutModel",
      "state": {
       "width": "100%"
      }
     },
     "d1ea686fd51b446bb0f62de38ce0a604": {
      "model_module": "@jupyter-widgets/base",
      "model_module_version": "1.0.0",
      "model_name": "LayoutModel",
      "state": {}
     },
     "d1fbcc4362ef4477899bc4696cf517fa": {
      "model_module": "@jupyter-widgets/base",
      "model_module_version": "1.0.0",
      "model_name": "LayoutModel",
      "state": {
       "width": "100%"
      }
     },
     "d20367b3a6714942ae27060bf89f7a2e": {
      "model_module": "@jupyter-widgets/controls",
      "model_module_version": "1.1.0",
      "model_name": "SliderStyleModel",
      "state": {
       "description_width": "initial"
      }
     },
     "d3238f74e7794313a8b21713c2869f52": {
      "model_module": "@jupyter-widgets/base",
      "model_module_version": "1.0.0",
      "model_name": "LayoutModel",
      "state": {}
     },
     "d38022ea4a024379b12aa3ed49008667": {
      "model_module": "@jupyter-widgets/controls",
      "model_module_version": "1.1.0",
      "model_name": "LabelModel",
      "state": {
       "layout": "IPY_MODEL_9b5a762365f94652847eb21a7f6ab250",
       "style": "IPY_MODEL_d0b1e469722c4a9fa504408715785802",
       "value": "of 0"
      }
     },
     "d380a0929e6d4a6ea1e42aa92c72541c": {
      "model_module": "@jupyter-widgets/output",
      "model_module_version": "1.0.0",
      "model_name": "OutputModel",
      "state": {
       "layout": "IPY_MODEL_bb4d78ed514a4e34bf4f442c2845f295"
      }
     },
     "d38187b5e3324b039d080aff62c27053": {
      "model_module": "@jupyter-widgets/base",
      "model_module_version": "1.0.0",
      "model_name": "LayoutModel",
      "state": {}
     },
     "d39267e0e0de4b6e932be25f1cdf3cd7": {
      "model_module": "@jupyter-widgets/base",
      "model_module_version": "1.0.0",
      "model_name": "LayoutModel",
      "state": {}
     },
     "d399be12792a461b8ecd4b207a32e3c3": {
      "model_module": "@jupyter-widgets/base",
      "model_module_version": "1.0.0",
      "model_name": "LayoutModel",
      "state": {}
     },
     "d4858ff8b18e43678039e46e5089556b": {
      "model_module": "@jupyter-widgets/controls",
      "model_module_version": "1.1.0",
      "model_name": "ButtonModel",
      "state": {
       "icon": "save",
       "layout": "IPY_MODEL_d0788cf3dbd948918fbfa1c4bfdfc5c1",
       "style": "IPY_MODEL_42208eb40a744df69378d67681f31d76"
      }
     },
     "d486742c46f84ff9a865c34d7e7308f4": {
      "model_module": "@jupyter-widgets/controls",
      "model_module_version": "1.1.0",
      "model_name": "DescriptionStyleModel",
      "state": {
       "description_width": ""
      }
     },
     "d5356ceda9db436481a06f7b1cc03785": {
      "model_module": "@jupyter-widgets/controls",
      "model_module_version": "1.1.0",
      "model_name": "DescriptionStyleModel",
      "state": {
       "description_width": "initial"
      }
     },
     "d5a1d4aa64104aac876f34ad8ac7c8e6": {
      "model_module": "@jupyter-widgets/controls",
      "model_module_version": "1.1.0",
      "model_name": "IntTextModel",
      "state": {
       "description": "Feature columns:",
       "layout": "IPY_MODEL_5306fe10c24b4564ad5d9555e0038dcd",
       "step": 1,
       "style": "IPY_MODEL_aece255333484e8d8f1c1152ccfb7ab1",
       "value": 3
      }
     },
     "d5e41a142b464fc4b61fc7790f0466ce": {
      "model_module": "@jupyter-widgets/base",
      "model_module_version": "1.0.0",
      "model_name": "LayoutModel",
      "state": {}
     },
     "d6800be732e44ce49e88a6cc4dfbf767": {
      "model_module": "@jupyter-widgets/base",
      "model_module_version": "1.0.0",
      "model_name": "LayoutModel",
      "state": {}
     },
     "d68d8b4b7ad04050b3552d6aa2eb70a1": {
      "model_module": "@jupyter-widgets/base",
      "model_module_version": "1.0.0",
      "model_name": "LayoutModel",
      "state": {}
     },
     "d6a495158daa40b281270bcf3ccaccc1": {
      "model_module": "@jupyter-widgets/controls",
      "model_module_version": "1.1.0",
      "model_name": "VBoxModel",
      "state": {
       "children": [
        "IPY_MODEL_ae38df8de8124e9daf97a284fcf604c3",
        "IPY_MODEL_413a3e8cb1794aa79c332cd96eb5e7b4"
       ],
       "layout": "IPY_MODEL_3583ea33d4ef4bbd9851d00317c305a5"
      }
     },
     "d711445cc962493cad04eebddc562d54": {
      "model_module": "@jupyter-widgets/controls",
      "model_module_version": "1.1.0",
      "model_name": "DescriptionStyleModel",
      "state": {
       "description_width": ""
      }
     },
     "d72d99f77a4347309bf63f2a2a31a57d": {
      "model_module": "@jupyter-widgets/controls",
      "model_module_version": "1.1.0",
      "model_name": "ButtonModel",
      "state": {
       "icon": "fast-backward",
       "layout": "IPY_MODEL_8229c0dbfef64533b8cef8dd0bc83da9",
       "style": "IPY_MODEL_418538c2c88947d3b8ce70aeafd36f36"
      }
     },
     "d79e06bccd614e6da60c27bb3ee28c8a": {
      "model_module": "@jupyter-widgets/base",
      "model_module_version": "1.0.0",
      "model_name": "LayoutModel",
      "state": {
       "width": "100%"
      }
     },
     "d7c3eadd9ebd42ae940e670f1023f154": {
      "model_module": "@jupyter-widgets/controls",
      "model_module_version": "1.1.0",
      "model_name": "FloatTextModel",
      "state": {
       "description": "Leftmost color maps to:",
       "layout": "IPY_MODEL_7e4fa40acc784358b4615a86a9d3df77",
       "step": null,
       "style": "IPY_MODEL_40bd05f191e449e8a728423396b445f4"
      }
     },
     "d7cab8b9aa13488e819a830b8dcc5481": {
      "model_module": "@jupyter-widgets/controls",
      "model_module_version": "1.1.0",
      "model_name": "DescriptionStyleModel",
      "state": {
       "description_width": "initial"
      }
     },
     "d80ea9a0920244d2abc86f32091637ff": {
      "model_module": "@jupyter-widgets/controls",
      "model_module_version": "1.1.0",
      "model_name": "ButtonStyleModel",
      "state": {}
     },
     "d8609462fb504c87910a437e25117a6e": {
      "model_module": "@jupyter-widgets/controls",
      "model_module_version": "1.1.0",
      "model_name": "CheckboxModel",
      "state": {
       "description": "Show Targets",
       "disabled": false,
       "layout": "IPY_MODEL_7e14b30f05d74e0a8267466e6bfb2f45",
       "style": "IPY_MODEL_1be85ac6e2fd480cbce0bb461798d512",
       "value": true
      }
     },
     "d941b99bce91447aad0123dc0feb8d47": {
      "model_module": "@jupyter-widgets/base",
      "model_module_version": "1.0.0",
      "model_name": "LayoutModel",
      "state": {}
     },
     "da1863d43f3a4d579d3a2e33a0fc3360": {
      "model_module": "@jupyter-widgets/controls",
      "model_module_version": "1.1.0",
      "model_name": "DescriptionStyleModel",
      "state": {
       "description_width": "initial"
      }
     },
     "da1ff6510eff42ca9f6d7ca742eae8a9": {
      "model_module": "@jupyter-widgets/controls",
      "model_module_version": "1.1.0",
      "model_name": "ButtonModel",
      "state": {
       "icon": "refresh",
       "layout": "IPY_MODEL_a8d527be38274608a08844c5a4f2f40d",
       "style": "IPY_MODEL_5841d4b9d9954cb2812becedea12f2a9"
      }
     },
     "da455c70be7a4a44b3d056e4caf3ec6d": {
      "model_module": "@jupyter-widgets/base",
      "model_module_version": "1.0.0",
      "model_name": "LayoutModel",
      "state": {}
     },
     "da5223b44d0a480f97a81f93b1e65747": {
      "model_module": "@jupyter-widgets/controls",
      "model_module_version": "1.1.0",
      "model_name": "DescriptionStyleModel",
      "state": {
       "description_width": "initial"
      }
     },
     "daa70f4d275b4a9c8ad9266d2e0a178d": {
      "model_module": "@jupyter-widgets/controls",
      "model_module_version": "1.1.0",
      "model_name": "VBoxModel",
      "state": {
       "children": [
        "IPY_MODEL_8e41cb98f4cb458799c2ccc1c1dc8e99",
        "IPY_MODEL_2c412270a0eb4e4aba5f8fe5c7d673d9"
       ],
       "layout": "IPY_MODEL_19930927f9bf49cf875930ba3f17601d"
      }
     },
     "dacec3d284304fa691ea38a60e9819a3": {
      "model_module": "@jupyter-widgets/controls",
      "model_module_version": "1.1.0",
      "model_name": "AccordionModel",
      "state": {
       "_titles": {
        "0": "Finger Math"
       },
       "children": [
        "IPY_MODEL_a96dac90ee3c4e7a9463169f672ec25e"
       ],
       "layout": "IPY_MODEL_ca6b57fad1e34e3aa6e2448e28dfe82a",
       "selected_index": null
      }
     },
     "daf3d6ca723946729746b445144719d8": {
      "model_module": "@jupyter-widgets/controls",
      "model_module_version": "1.1.0",
      "model_name": "DescriptionStyleModel",
      "state": {
       "description_width": ""
      }
     },
     "db6b5aebe47842dfaef0083a825783cb": {
      "model_module": "@jupyter-widgets/controls",
      "model_module_version": "1.1.0",
      "model_name": "DescriptionStyleModel",
      "state": {
       "description_width": "initial"
      }
     },
     "db9c6712166d405a8d41d78d58289971": {
      "model_module": "@jupyter-widgets/controls",
      "model_module_version": "1.1.0",
      "model_name": "ButtonModel",
      "state": {
       "description": "Play",
       "icon": "play",
       "layout": "IPY_MODEL_e5c0a8a3414640ff8d79e1d5020ff7f7",
       "style": "IPY_MODEL_bfd9684a8b3647989911fc33a2678645"
      }
     },
     "dbb51454ba814c029d1c6381a4a5c082": {
      "model_module": "@jupyter-widgets/controls",
      "model_module_version": "1.1.0",
      "model_name": "CheckboxModel",
      "state": {
       "description": "Errors",
       "disabled": false,
       "layout": "IPY_MODEL_90de29ae74eb41418e354aa7a12374bf",
       "style": "IPY_MODEL_547c4903079f40c5b952db9374cfa875",
       "value": false
      }
     },
     "dd13554f7e824849a189f9603996bcfd": {
      "model_module": "@jupyter-widgets/controls",
      "model_module_version": "1.1.0",
      "model_name": "ButtonModel",
      "state": {
       "icon": "forward",
       "layout": "IPY_MODEL_253c8532cf844d3881c4afe2c78b79e8",
       "style": "IPY_MODEL_fae57b46f30d47e3ba6dad118a03afa3"
      }
     },
     "dd178d3009d5492b91c4c97a147be7af": {
      "model_module": "@jupyter-widgets/output",
      "model_module_version": "1.0.0",
      "model_name": "OutputModel",
      "state": {
       "layout": "IPY_MODEL_b04c53a162e24ad19183cc96c0bdc940"
      }
     },
     "ddaa6f5b2c8943e982fb4e1ff88cd0ea": {
      "model_module": "@jupyter-widgets/controls",
      "model_module_version": "1.1.0",
      "model_name": "HTMLModel",
      "state": {
       "layout": "IPY_MODEL_aa39779dbd5a4b8ab0dfc5972f50e8b6",
       "style": "IPY_MODEL_2b1cf148d98a423aa4b436c609dbccab",
       "value": "100% 20/20 [00:32&lt;00:00,  3.18s/it]"
      }
     },
     "dddc9db32c0744de9177ed93f81886bf": {
      "model_module": "@jupyter-widgets/controls",
      "model_module_version": "1.1.0",
      "model_name": "IntTextModel",
      "state": {
       "layout": "IPY_MODEL_c0d51a8dada945bfba4f36bf21f3a545",
       "step": 1,
       "style": "IPY_MODEL_73125c7c1e8b4a398300ab8bfbbf2c2f",
       "value": 39
      }
     },
     "de8caed399f6425e8e013b49d087b82c": {
      "model_module": "@jupyter-widgets/base",
      "model_module_version": "1.0.0",
      "model_name": "LayoutModel",
      "state": {
       "height": "40px"
      }
     },
     "de8f718c93d94426bfdc66113882db19": {
      "model_module": "@jupyter-widgets/base",
      "model_module_version": "1.0.0",
      "model_name": "LayoutModel",
      "state": {
       "width": "100%"
      }
     },
     "deac8df296da47fd85ec669941ec6ca3": {
      "model_module": "@jupyter-widgets/controls",
      "model_module_version": "1.1.0",
      "model_name": "VBoxModel",
      "state": {
       "children": [
        "IPY_MODEL_905f886c704c4130bb724e961c9ed0f6",
        "IPY_MODEL_f261b0a3867247529cab81f5dd76ae66",
        "IPY_MODEL_12f49db389a2413692067c9a6f148240",
        "IPY_MODEL_2e5d3af03d274a9eba90f51c7b5cad52"
       ],
       "layout": "IPY_MODEL_e6a19b958f82473096fbd98f6a8aecbc"
      }
     },
     "dec466b259244dba838d7d2bc2db2005": {
      "model_module": "@jupyter-widgets/base",
      "model_module_version": "1.0.0",
      "model_name": "LayoutModel",
      "state": {}
     },
     "df820fed702b4f6893fcf78319765160": {
      "model_module": "@jupyter-widgets/base",
      "model_module_version": "1.0.0",
      "model_name": "LayoutModel",
      "state": {}
     },
     "df8617210a094570b8bcd1fe8b0605df": {
      "model_module": "@jupyter-widgets/controls",
      "model_module_version": "1.1.0",
      "model_name": "DescriptionStyleModel",
      "state": {
       "description_width": ""
      }
     },
     "df9732de5b0447ef9d59032a90fdba9d": {
      "model_module": "@jupyter-widgets/base",
      "model_module_version": "1.0.0",
      "model_name": "LayoutModel",
      "state": {
       "width": "100%"
      }
     },
     "dfb1af1183ba43bc9550c839555e2405": {
      "model_module": "@jupyter-widgets/controls",
      "model_module_version": "1.1.0",
      "model_name": "DescriptionStyleModel",
      "state": {
       "description_width": ""
      }
     },
     "dfcb55e4aa61483682f348d7a0d6c0ff": {
      "model_module": "@jupyter-widgets/base",
      "model_module_version": "1.0.0",
      "model_name": "LayoutModel",
      "state": {
       "width": "25%"
      }
     },
     "e026e00f7dec43ea94997aabc641dfcb": {
      "model_module": "@jupyter-widgets/base",
      "model_module_version": "1.0.0",
      "model_name": "LayoutModel",
      "state": {
       "justify_content": "center",
       "overflow_x": "auto",
       "overflow_y": "auto",
       "width": "95%"
      }
     },
     "e03bb7bf2b51455bb0772cad5779c6e2": {
      "model_module": "@jupyter-widgets/base",
      "model_module_version": "1.0.0",
      "model_name": "LayoutModel",
      "state": {
       "width": "100%"
      }
     },
     "e04341279ac94182b503348ce00ae39b": {
      "model_module": "@jupyter-widgets/base",
      "model_module_version": "1.0.0",
      "model_name": "LayoutModel",
      "state": {
       "width": "25%"
      }
     },
     "e082d889b00a4a22abb5c885387853d5": {
      "model_module": "@jupyter-widgets/controls",
      "model_module_version": "1.1.0",
      "model_name": "CheckboxModel",
      "state": {
       "description": "Visible",
       "disabled": false,
       "layout": "IPY_MODEL_7e14b30f05d74e0a8267466e6bfb2f45",
       "style": "IPY_MODEL_e1882753f73c472c912f413f80d7c167",
       "value": true
      }
     },
     "e09cac6a22ee49d5a85530003c2800e6": {
      "model_module": "@jupyter-widgets/controls",
      "model_module_version": "1.1.0",
      "model_name": "LabelModel",
      "state": {
       "layout": "IPY_MODEL_c3a379894b1b403e9aea432ffa38f633",
       "style": "IPY_MODEL_c9067b1835b54081aa0bb85c2f1b158b",
       "value": "of 0"
      }
     },
     "e0cc27ea1a384dd4a0b876b238aa72bd": {
      "model_module": "@jupyter-widgets/controls",
      "model_module_version": "1.1.0",
      "model_name": "FloatTextModel",
      "state": {
       "description": "Leftmost color maps to:",
       "layout": "IPY_MODEL_d3238f74e7794313a8b21713c2869f52",
       "step": null,
       "style": "IPY_MODEL_9ceebac8dc1d45b98ef2905f69fec65a"
      }
     },
     "e1040deaad994a28859dc9635d9fc753": {
      "model_module": "@jupyter-widgets/controls",
      "model_module_version": "1.1.0",
      "model_name": "ButtonStyleModel",
      "state": {}
     },
     "e1882753f73c472c912f413f80d7c167": {
      "model_module": "@jupyter-widgets/controls",
      "model_module_version": "1.1.0",
      "model_name": "DescriptionStyleModel",
      "state": {
       "description_width": ""
      }
     },
     "e18fb3bc39c14cf29841264255bca4c1": {
      "model_module": "@jupyter-widgets/controls",
      "model_module_version": "1.1.0",
      "model_name": "ButtonStyleModel",
      "state": {}
     },
     "e1982ba6fe914240a390e8eee26334d2": {
      "model_module": "@jupyter-widgets/controls",
      "model_module_version": "1.1.0",
      "model_name": "CheckboxModel",
      "state": {
       "description": "Rotate",
       "disabled": false,
       "layout": "IPY_MODEL_90de29ae74eb41418e354aa7a12374bf",
       "style": "IPY_MODEL_5634b46af51b40d5af1a07bc675006f7",
       "value": true
      }
     },
     "e1ca3a8f6bc94f9c822efe02213a2a38": {
      "model_module": "@jupyter-widgets/controls",
      "model_module_version": "1.1.0",
      "model_name": "CheckboxModel",
      "state": {
       "description": "Errors",
       "disabled": false,
       "layout": "IPY_MODEL_3c71e01bc0fc4895a6869de7e0f8bf6f",
       "style": "IPY_MODEL_9d83854129124afc99d0a7504acc8dc8",
       "value": false
      }
     },
     "e1d08bfd8dc64d99a93b66cfe89cda4b": {
      "model_module": "@jupyter-widgets/base",
      "model_module_version": "1.0.0",
      "model_name": "LayoutModel",
      "state": {}
     },
     "e25676394bcb40cda175e22e89fd7a7d": {
      "model_module": "@jupyter-widgets/controls",
      "model_module_version": "1.1.0",
      "model_name": "HBoxModel",
      "state": {
       "children": [
        "IPY_MODEL_407c8ea24e6f43e8a97eaaecf1da19a0",
        "IPY_MODEL_d0d2e8fef3ea452e8bc3e47d4028bfd4",
        "IPY_MODEL_5f53a6c5d4a24b4eae67d1ac64a029d3",
        "IPY_MODEL_ac81529f95114bcf90b6ee82dafedbb0",
        "IPY_MODEL_f3b66a88b6cf4565aeb95605620e8a85",
        "IPY_MODEL_ff976c061891430b90e032cf4fdfcb6c",
        "IPY_MODEL_da1ff6510eff42ca9f6d7ca742eae8a9"
       ],
       "layout": "IPY_MODEL_688483f63611489b9cbec47edfb26f0a"
      }
     },
     "e29ece6c7a174086af0a41ddada2cd2e": {
      "model_module": "@jupyter-widgets/controls",
      "model_module_version": "1.1.0",
      "model_name": "DescriptionStyleModel",
      "state": {
       "description_width": "initial"
      }
     },
     "e2e3e2d03bd648ac89783fba6b8be90e": {
      "model_module": "@jupyter-widgets/controls",
      "model_module_version": "1.1.0",
      "model_name": "IntTextModel",
      "state": {
       "layout": "IPY_MODEL_39375dc82c574ecab4580857f356cfcd",
       "step": 1,
       "style": "IPY_MODEL_6890bbf4bb774af9bc2b657d814d4cfc"
      }
     },
     "e34f161c941846dcbca0cdc6c9728d34": {
      "model_module": "@jupyter-widgets/controls",
      "model_module_version": "1.1.0",
      "model_name": "IntTextModel",
      "state": {
       "description": "Feature columns:",
       "layout": "IPY_MODEL_3b96e43d5e4f4a928a029476b12f4202",
       "step": 1,
       "style": "IPY_MODEL_f9817db7e1a64cb7a2c80d4c146210c5",
       "value": 3
      }
     },
     "e3ed595abdb54ef180737977d593d10a": {
      "model_module": "@jupyter-widgets/controls",
      "model_module_version": "1.1.0",
      "model_name": "CheckboxModel",
      "state": {
       "description": "Rotate",
       "disabled": false,
       "layout": "IPY_MODEL_7e14b30f05d74e0a8267466e6bfb2f45",
       "style": "IPY_MODEL_76bb3e57fa08493a9be4551c742b9f0b",
       "value": true
      }
     },
     "e450ee5126d04030b8476521f71ae85a": {
      "model_module": "@jupyter-widgets/controls",
      "model_module_version": "1.1.0",
      "model_name": "ButtonStyleModel",
      "state": {}
     },
     "e461076df7934339a2e6eb0e266da3f6": {
      "model_module": "@jupyter-widgets/controls",
      "model_module_version": "1.1.0",
      "model_name": "ButtonModel",
      "state": {
       "description": "Play",
       "icon": "play",
       "layout": "IPY_MODEL_ae56240780dd49aa8fe73c0bee6dde46",
       "style": "IPY_MODEL_a51fee9672f64a58aa6e1269325a323b"
      }
     },
     "e4780d3ab62c4910b1dfcce1e08e244a": {
      "model_module": "@jupyter-widgets/controls",
      "model_module_version": "1.1.0",
      "model_name": "CheckboxModel",
      "state": {
       "description": "Rotate network",
       "disabled": false,
       "layout": "IPY_MODEL_cd6baf593330439dbe2ff3573e1f8264",
       "style": "IPY_MODEL_907a2e7a990343eabee8ede4abe453b4",
       "value": false
      }
     },
     "e48f18390def43ceaee745581b462cfb": {
      "model_module": "@jupyter-widgets/base",
      "model_module_version": "1.0.0",
      "model_name": "LayoutModel",
      "state": {}
     },
     "e49017737b194d71a147b01e654b60a1": {
      "model_module": "@jupyter-widgets/base",
      "model_module_version": "1.0.0",
      "model_name": "LayoutModel",
      "state": {}
     },
     "e49317faadf547ff98c9a5b4a9ac5338": {
      "model_module": "@jupyter-widgets/controls",
      "model_module_version": "1.1.0",
      "model_name": "DescriptionStyleModel",
      "state": {
       "description_width": ""
      }
     },
     "e52ef0c48ac443bb961c165b0755d1d8": {
      "model_module": "@jupyter-widgets/base",
      "model_module_version": "1.0.0",
      "model_name": "LayoutModel",
      "state": {
       "width": "65%"
      }
     },
     "e5c0a8a3414640ff8d79e1d5020ff7f7": {
      "model_module": "@jupyter-widgets/base",
      "model_module_version": "1.0.0",
      "model_name": "LayoutModel",
      "state": {
       "width": "100%"
      }
     },
     "e60253742345418ea527f136229b3e6b": {
      "model_module": "@jupyter-widgets/controls",
      "model_module_version": "1.1.0",
      "model_name": "ButtonModel",
      "state": {
       "icon": "save",
       "layout": "IPY_MODEL_791f821ebe574968a081ae4592b5f9e4",
       "style": "IPY_MODEL_2bc0754b53e745d7a42807c02c8204dd"
      }
     },
     "e6a19b958f82473096fbd98f6a8aecbc": {
      "model_module": "@jupyter-widgets/base",
      "model_module_version": "1.0.0",
      "model_name": "LayoutModel",
      "state": {}
     },
     "e6a42a43813849e2b102545c7ab89f3c": {
      "model_module": "@jupyter-widgets/controls",
      "model_module_version": "1.1.0",
      "model_name": "DescriptionStyleModel",
      "state": {
       "description_width": ""
      }
     },
     "e70390d9cf6c480bbf76d000c378cc6f": {
      "model_module": "@jupyter-widgets/controls",
      "model_module_version": "1.1.0",
      "model_name": "VBoxModel",
      "state": {
       "children": [
        "IPY_MODEL_2bafe6d7ba5c480b82b4cf075d8e1cc8",
        "IPY_MODEL_a6930b5931c540078e0e747af2c0d9ad",
        "IPY_MODEL_bc30bfa145744103bedaf8b1bd304c45",
        "IPY_MODEL_2b674fb5deb34caaaa4073bea299be2b",
        "IPY_MODEL_9cea3457219f40249e3b5c299924eec7",
        "IPY_MODEL_6ad02cdd39c941a7a72d716912d0a2bc",
        "IPY_MODEL_1bc7ccbede2a41ea864768d7f4ea8a16",
        "IPY_MODEL_ec33dc34c48a4997ad2b9bfd0ce6f6c9"
       ],
       "layout": "IPY_MODEL_f0834844ee3842c688b2487eb0f1e366"
      }
     },
     "e77d09072b204e0b958e46d74cd9c52a": {
      "model_module": "@jupyter-widgets/base",
      "model_module_version": "1.0.0",
      "model_name": "LayoutModel",
      "state": {}
     },
     "e792c06d3a0645448d2618c20688ac34": {
      "model_module": "@jupyter-widgets/controls",
      "model_module_version": "1.1.0",
      "model_name": "ButtonModel",
      "state": {
       "icon": "backward",
       "layout": "IPY_MODEL_704c602cb84840ff8c39b32832e08b07",
       "style": "IPY_MODEL_c778e288d4734228952cf382b87439f0"
      }
     },
     "e7dd99d44eca4ba39fe38feb29d87298": {
      "model_module": "@jupyter-widgets/controls",
      "model_module_version": "1.1.0",
      "model_name": "DescriptionStyleModel",
      "state": {
       "description_width": "initial"
      }
     },
     "e7e5389f76f04af49e3a9247673eeb28": {
      "model_module": "@jupyter-widgets/controls",
      "model_module_version": "1.1.0",
      "model_name": "DescriptionStyleModel",
      "state": {
       "description_width": ""
      }
     },
     "e912cb2c73d04fb59b2d354f5c783741": {
      "model_module": "@jupyter-widgets/controls",
      "model_module_version": "1.1.0",
      "model_name": "FloatSliderModel",
      "state": {
       "continuous_update": false,
       "description": "Zoom",
       "layout": "IPY_MODEL_20edf6afa98e470381dc006665bda4d2",
       "max": 1,
       "step": 0.1,
       "style": "IPY_MODEL_03345057d2fc4de895e7c068dda89e71",
       "value": 0.5
      }
     },
     "e9391991f80448d88e90c20a7319ce43": {
      "model_module": "@jupyter-widgets/base",
      "model_module_version": "1.0.0",
      "model_name": "LayoutModel",
      "state": {}
     },
     "e96914aa2d1f49d7bb216b3ca0101469": {
      "model_module": "@jupyter-widgets/controls",
      "model_module_version": "1.1.0",
      "model_name": "DescriptionStyleModel",
      "state": {
       "description_width": "initial"
      }
     },
     "e99be6b0413c463684be58b12d676f4f": {
      "model_module": "@jupyter-widgets/base",
      "model_module_version": "1.0.0",
      "model_name": "LayoutModel",
      "state": {
       "width": "65%"
      }
     },
     "ea487ad4fb2f4c60981c7dc0743009e1": {
      "model_module": "@jupyter-widgets/controls",
      "model_module_version": "1.1.0",
      "model_name": "DescriptionStyleModel",
      "state": {
       "description_width": ""
      }
     },
     "eaa83758c20b4819a3b70edecfb14624": {
      "model_module": "@jupyter-widgets/base",
      "model_module_version": "1.0.0",
      "model_name": "LayoutModel",
      "state": {}
     },
     "eac502c54caf4c7683020e55d67134e3": {
      "model_module": "@jupyter-widgets/controls",
      "model_module_version": "1.1.0",
      "model_name": "DescriptionStyleModel",
      "state": {
       "description_width": ""
      }
     },
     "eb1726dc45f54973b4d70c437fc35cef": {
      "model_module": "@jupyter-widgets/base",
      "model_module_version": "1.0.0",
      "model_name": "LayoutModel",
      "state": {}
     },
     "eb3045508ad249a1a5ce686dd7176709": {
      "model_module": "@jupyter-widgets/controls",
      "model_module_version": "1.1.0",
      "model_name": "DescriptionStyleModel",
      "state": {
       "description_width": "initial"
      }
     },
     "ebbe271fde1746d5b3836c3e2dae5f6c": {
      "model_module": "@jupyter-widgets/base",
      "model_module_version": "1.0.0",
      "model_name": "LayoutModel",
      "state": {
       "justify_content": "center",
       "overflow_x": "auto",
       "overflow_y": "auto",
       "width": "95%"
      }
     },
     "ebf6bfcfa19945759ccd2a04b45d1a5d": {
      "model_module": "@jupyter-widgets/base",
      "model_module_version": "1.0.0",
      "model_name": "LayoutModel",
      "state": {}
     },
     "ebf8be9471ed439a91312b756d7e6f7f": {
      "model_module": "@jupyter-widgets/controls",
      "model_module_version": "1.1.0",
      "model_name": "DescriptionStyleModel",
      "state": {
       "description_width": "initial"
      }
     },
     "ec0944da0e424c08a7b4792193f63e74": {
      "model_module": "@jupyter-widgets/controls",
      "model_module_version": "1.1.0",
      "model_name": "ButtonModel",
      "state": {
       "icon": "backward",
       "layout": "IPY_MODEL_89d7b13a01a2474e814a49c869139c1a",
       "style": "IPY_MODEL_52139fcc6de746e2b84262d273f73780"
      }
     },
     "ec33dc34c48a4997ad2b9bfd0ce6f6c9": {
      "model_module": "@jupyter-widgets/controls",
      "model_module_version": "1.1.0",
      "model_name": "HBoxModel",
      "state": {
       "children": [
        "IPY_MODEL_b0f214f863d94284a1e23b9c98bbd6d8",
        "IPY_MODEL_572829b6cc4345a9a1488a744b25400c"
       ],
       "layout": "IPY_MODEL_c9b41efe30d04dae90bf323b4c27e8ae"
      }
     },
     "ec4b3e91411342bab8c56c6512f79350": {
      "model_module": "@jupyter-widgets/base",
      "model_module_version": "1.0.0",
      "model_name": "LayoutModel",
      "state": {
       "width": "100%"
      }
     },
     "ec9e34c461834893b2be988abaa94e3a": {
      "model_module": "@jupyter-widgets/controls",
      "model_module_version": "1.1.0",
      "model_name": "ButtonModel",
      "state": {
       "icon": "backward",
       "layout": "IPY_MODEL_ccdb5a95e7e0425aa22b6af3e87ad493",
       "style": "IPY_MODEL_3251ca8296364bb8820af3c8bbf3d19e"
      }
     },
     "ecfd1c9dbbec4f7dacd06008800ca2f5": {
      "model_module": "@jupyter-widgets/controls",
      "model_module_version": "1.1.0",
      "model_name": "DescriptionStyleModel",
      "state": {
       "description_width": ""
      }
     },
     "ed33b90a31d441758160f47d1c145374": {
      "model_module": "@jupyter-widgets/base",
      "model_module_version": "1.0.0",
      "model_name": "LayoutModel",
      "state": {
       "width": "100%"
      }
     },
     "ed99ed0d8dc34cd48681c4cf90e93558": {
      "model_module": "@jupyter-widgets/controls",
      "model_module_version": "1.1.0",
      "model_name": "DescriptionStyleModel",
      "state": {
       "description_width": ""
      }
     },
     "ee08d7d430384d98b422c3318a5c53e0": {
      "model_module": "@jupyter-widgets/controls",
      "model_module_version": "1.1.0",
      "model_name": "DescriptionStyleModel",
      "state": {
       "description_width": "initial"
      }
     },
     "ee3967f8a93b4757aac2d41a2862b2df": {
      "model_module": "@jupyter-widgets/controls",
      "model_module_version": "1.1.0",
      "model_name": "AccordionModel",
      "state": {
       "_titles": {
        "0": "Hiding"
       },
       "children": [
        "IPY_MODEL_914e6d05d1d34e4b86bde5bca71cdf77"
       ],
       "layout": "IPY_MODEL_3b7c7cd7f6e24b22a27ec9ae59284bac",
       "selected_index": null
      }
     },
     "eecf988714ef45b6b02b96cebcb84acb": {
      "model_module": "@jupyter-widgets/base",
      "model_module_version": "1.0.0",
      "model_name": "LayoutModel",
      "state": {}
     },
     "ef3011ff2fd749619ee44b6a1f3dbdf8": {
      "model_module": "@jupyter-widgets/base",
      "model_module_version": "1.0.0",
      "model_name": "LayoutModel",
      "state": {}
     },
     "ef5a840b3e5a4cfb94ec90764651289f": {
      "model_module": "@jupyter-widgets/controls",
      "model_module_version": "1.1.0",
      "model_name": "HTMLModel",
      "state": {
       "layout": "IPY_MODEL_852bbecf019e467f8eaa5e6be4097e3b",
       "style": "IPY_MODEL_4c138b7aaef84f0d9b061d7ba9dd7176",
       "value": "<p style=\"text-align:center\"><svg id='Hiding' xmlns='http://www.w3.org/2000/svg' image-rendering=\"pixelated\" width=\"239.99999999999997px\" height=\"646.1538461538461px\">\n <g  transform=\"rotate(90) translate(0 -239.99999999999997)\" >\n  <svg viewBox=\"0 0 1050 390\" width=\"646.1538461538461px\" height=\"239.99999999999997px\">\n    <defs>\n        <marker id=\"arrow\" markerWidth=\"10\" markerHeight=\"10\" refX=\"9\" refY=\"3\" orient=\"auto\" markerUnits=\"strokeWidth\">\n          <path d=\"M0,0 L0,6 L9,3 z\" fill=\"black\" />\n        </marker>\n    </defs><rect x=\"249.0\" y=\"24\" width=\"202\" height=\"52\" style=\"fill:none;stroke:black;stroke-width:2\"/><image id=\"picture-dashboard-Hiding-80520_output1-rotated_33\" class=\"picture-dashboard-Hiding-80520_output1-rotated\" x=\"250.0\" y=\"25\" height=\"50\" width=\"200\" preserveAspectRatio=\"none\" href=\"data:image/gif;base64,R0lGODdhMgABAIcAAP/9/QAAAAAAAAAAAAAAAAAAAAAAAAAAAAAAAAAAAAAAAAAAAAAAAAAAAAAAAAAAAAAAAAAAAAAAAAAAAAAAAAAAAAAAAAAAAAAAAAAAAAAAAAAAAAAAAAAAAAAAAAAAAAAAAAAAAAAAAAAAAAAAAAAAAAAAAAAAAAAAAAAAAAAAAAAAAAAAAAAAAAAAAAAAAAAAAAAAAAAAAAAAAAAAAAAAAAAAAAAAAAAAAAAAAAAAAAAAAAAAAAAAAAAAAAAAAAAAAAAAAAAAAAAAAAAAAAAAAAAAAAAAAAAAAAAAAAAAAAAAAAAAAAAAAAAAAAAAAAAAAAAAAAAAAAAAAAAAAAAAAAAAAAAAAAAAAAAAAAAAAAAAAAAAAAAAAAAAAAAAAAAAAAAAAAAAAAAAAAAAAAAAAAAAAAAAAAAAAAAAAAAAAAAAAAAAAAAAAAAAAAAAAAAAAAAAAAAAAAAAAAAAAAAAAAAAAAAAAAAAAAAAAAAAAAAAAAAAAAAAAAAAAAAAAAAAAAAAAAAAAAAAAAAAAAAAAAAAAAAAAAAAAAAAAAAAAAAAAAAAAAAAAAAAAAAAAAAAAAAAAAAAAAAAAAAAAAAAAAAAAAAAAAAAAAAAAAAAAAAAAAAAAAAAAAAAAAAAAAAAAAAAAAAAAAAAAAAAAAAAAAAAAAAAAAAAAAAAAAAAAAAAAAAAAAAAAAAAAAAAAAAAAAAAAAAAAAAAAAAAAAAAAAAAAAAAAAAAAAAAAAAAAAAAAAAAAAAAAAAAAAAAAAAAAAAAAAAAAAAAAAAAAAAAAAAAAAAAAAAAAAAAAAAAAAAAAAAAAAAAAAAAAAAAAAAAAAAAAAAAAAAAAAAAAAAAAAAAAAAAAAAAAAAAAAAAAAAAAAAAAAAAAAAAAAAAAAAAAAAAAAAAAAAAAAAAAAAAAAAAAAAAAAAAAAAAAAAAAAAAAAAAAAAAAAAAAAAAAAAAAAAAAAAAAAAAAAAAAAAAAAAAAAAAAAAAAAAAAAAAAAAAAAAAAAAAAAAAAAAAACwAAAAAMgABAAAIDgABCBxIsKDBgwgTFgwIADs=\"><title>Layer: output1 (output)\n output range: (-Infinity, +Infinity)\n shape = (50,)\n Keras class = Dense</title></image><text x=\"463.0\" y=\"52.0\" font-family=\"monospace\" font-size=\"12\" text-anchor=\"middle\" fill=\"black\" alignment-baseline=\"central\"  transform=\"rotate(-90 463.0 52.0) translate(2)\" >output1</text><rect x=\"599.0\" y=\"24\" width=\"202\" height=\"52\" style=\"fill:none;stroke:black;stroke-width:2\"/><image id=\"picture-dashboard-Hiding-80520_output2-rotated_34\" class=\"picture-dashboard-Hiding-80520_output2-rotated\" x=\"600.0\" y=\"25\" height=\"50\" width=\"200\" preserveAspectRatio=\"none\" href=\"data:image/gif;base64,R0lGODdhMgABAIcAAP/9/QAAAAAAAAAAAAAAAAAAAAAAAAAAAAAAAAAAAAAAAAAAAAAAAAAAAAAAAAAAAAAAAAAAAAAAAAAAAAAAAAAAAAAAAAAAAAAAAAAAAAAAAAAAAAAAAAAAAAAAAAAAAAAAAAAAAAAAAAAAAAAAAAAAAAAAAAAAAAAAAAAAAAAAAAAAAAAAAAAAAAAAAAAAAAAAAAAAAAAAAAAAAAAAAAAAAAAAAAAAAAAAAAAAAAAAAAAAAAAAAAAAAAAAAAAAAAAAAAAAAAAAAAAAAAAAAAAAAAAAAAAAAAAAAAAAAAAAAAAAAAAAAAAAAAAAAAAAAAAAAAAAAAAAAAAAAAAAAAAAAAAAAAAAAAAAAAAAAAAAAAAAAAAAAAAAAAAAAAAAAAAAAAAAAAAAAAAAAAAAAAAAAAAAAAAAAAAAAAAAAAAAAAAAAAAAAAAAAAAAAAAAAAAAAAAAAAAAAAAAAAAAAAAAAAAAAAAAAAAAAAAAAAAAAAAAAAAAAAAAAAAAAAAAAAAAAAAAAAAAAAAAAAAAAAAAAAAAAAAAAAAAAAAAAAAAAAAAAAAAAAAAAAAAAAAAAAAAAAAAAAAAAAAAAAAAAAAAAAAAAAAAAAAAAAAAAAAAAAAAAAAAAAAAAAAAAAAAAAAAAAAAAAAAAAAAAAAAAAAAAAAAAAAAAAAAAAAAAAAAAAAAAAAAAAAAAAAAAAAAAAAAAAAAAAAAAAAAAAAAAAAAAAAAAAAAAAAAAAAAAAAAAAAAAAAAAAAAAAAAAAAAAAAAAAAAAAAAAAAAAAAAAAAAAAAAAAAAAAAAAAAAAAAAAAAAAAAAAAAAAAAAAAAAAAAAAAAAAAAAAAAAAAAAAAAAAAAAAAAAAAAAAAAAAAAAAAAAAAAAAAAAAAAAAAAAAAAAAAAAAAAAAAAAAAAAAAAAAAAAAAAAAAAAAAAAAAAAAAAAAAAAAAAAAAAAAAAAAAAAAAAAAAAAAAAAAAAAAAAAAAAAAAAAAAAAAAAAAAAAAAAAAAAAAAAAAAAAAAAAACwAAAAAMgABAAAIDgABCBxIsKDBgwgTFgwIADs=\"><title>Layer: output2 (output)\n output range: (-Infinity, +Infinity)\n shape = (50,)\n Keras class = Dense</title></image><text x=\"813.0\" y=\"52.0\" font-family=\"monospace\" font-size=\"12\" text-anchor=\"middle\" fill=\"black\" alignment-baseline=\"central\"  transform=\"rotate(-90 813.0 52.0) translate(2)\" >output2</text><line x1=\"525.0\" y1=\"104\" x2=\"350.0\" y2=\"77\" stroke=\"black\" stroke-width=\"2\" marker-end=\"url(#arrow)\"><title>Weights from merge to output1\n output1/kernel:0 has shape (50, 50)\n output1/bias:0 has shape (50,)</title></line><line x1=\"525.0\" y1=\"104\" x2=\"700.0\" y2=\"77\" stroke=\"black\" stroke-width=\"2\" marker-end=\"url(#arrow)\"><title>Weights from merge to output2\n output2/kernel:0 has shape (50, 50)\n output2/bias:0 has shape (50,)</title></line><rect x=\"424.0\" y=\"104\" width=\"202\" height=\"52\" style=\"fill:none;stroke:black;stroke-width:2\"/><image id=\"picture-dashboard-Hiding-80520_merge-rotated_35\" class=\"picture-dashboard-Hiding-80520_merge-rotated\" x=\"425.0\" y=\"105\" height=\"50\" width=\"200\" preserveAspectRatio=\"none\" href=\"data:image/gif;base64,R0lGODdhMgABAIcAAP/9/QAAAAAAAAAAAAAAAAAAAAAAAAAAAAAAAAAAAAAAAAAAAAAAAAAAAAAAAAAAAAAAAAAAAAAAAAAAAAAAAAAAAAAAAAAAAAAAAAAAAAAAAAAAAAAAAAAAAAAAAAAAAAAAAAAAAAAAAAAAAAAAAAAAAAAAAAAAAAAAAAAAAAAAAAAAAAAAAAAAAAAAAAAAAAAAAAAAAAAAAAAAAAAAAAAAAAAAAAAAAAAAAAAAAAAAAAAAAAAAAAAAAAAAAAAAAAAAAAAAAAAAAAAAAAAAAAAAAAAAAAAAAAAAAAAAAAAAAAAAAAAAAAAAAAAAAAAAAAAAAAAAAAAAAAAAAAAAAAAAAAAAAAAAAAAAAAAAAAAAAAAAAAAAAAAAAAAAAAAAAAAAAAAAAAAAAAAAAAAAAAAAAAAAAAAAAAAAAAAAAAAAAAAAAAAAAAAAAAAAAAAAAAAAAAAAAAAAAAAAAAAAAAAAAAAAAAAAAAAAAAAAAAAAAAAAAAAAAAAAAAAAAAAAAAAAAAAAAAAAAAAAAAAAAAAAAAAAAAAAAAAAAAAAAAAAAAAAAAAAAAAAAAAAAAAAAAAAAAAAAAAAAAAAAAAAAAAAAAAAAAAAAAAAAAAAAAAAAAAAAAAAAAAAAAAAAAAAAAAAAAAAAAAAAAAAAAAAAAAAAAAAAAAAAAAAAAAAAAAAAAAAAAAAAAAAAAAAAAAAAAAAAAAAAAAAAAAAAAAAAAAAAAAAAAAAAAAAAAAAAAAAAAAAAAAAAAAAAAAAAAAAAAAAAAAAAAAAAAAAAAAAAAAAAAAAAAAAAAAAAAAAAAAAAAAAAAAAAAAAAAAAAAAAAAAAAAAAAAAAAAAAAAAAAAAAAAAAAAAAAAAAAAAAAAAAAAAAAAAAAAAAAAAAAAAAAAAAAAAAAAAAAAAAAAAAAAAAAAAAAAAAAAAAAAAAAAAAAAAAAAAAAAAAAAAAAAAAAAAAAAAAAAAAAAAAAAAAAAAAAAAAAAAAAAAAAAAAAAAAAAAAAAAAAAAAAAAAAAAAACwAAAAAMgABAAAIDgABCBxIsKDBgwgTFgwIADs=\"><title>Layer: merge (hidden)\n output range: (-Infinity, +Infinity)\n shape = (50,)\n Keras class = Dense</title></image><text x=\"638.0\" y=\"132.0\" font-family=\"monospace\" font-size=\"12\" text-anchor=\"middle\" fill=\"black\" alignment-baseline=\"central\"  transform=\"rotate(-90 638.0 132.0) translate(2)\" >merge</text><line x1=\"262.5\" y1=\"184\" x2=\"525.0\" y2=\"157\" stroke=\"black\" stroke-width=\"2\" marker-end=\"url(#arrow)\"><title>Weights from hidden1-2 to merge\n merge/kernel:0 has shape (150, 50)\n merge/bias:0 has shape (50,)</title></line><rect x=\"161.5\" y=\"184\" width=\"202\" height=\"52\" style=\"fill:none;stroke:black;stroke-width:2\"/><image id=\"picture-dashboard-Hiding-80520_hidden1-2-rotated_36\" class=\"picture-dashboard-Hiding-80520_hidden1-2-rotated\" x=\"162.5\" y=\"185\" height=\"50\" width=\"200\" preserveAspectRatio=\"none\" href=\"data:image/gif;base64,R0lGODdhMgABAIcAAP/9/QAAAAAAAAAAAAAAAAAAAAAAAAAAAAAAAAAAAAAAAAAAAAAAAAAAAAAAAAAAAAAAAAAAAAAAAAAAAAAAAAAAAAAAAAAAAAAAAAAAAAAAAAAAAAAAAAAAAAAAAAAAAAAAAAAAAAAAAAAAAAAAAAAAAAAAAAAAAAAAAAAAAAAAAAAAAAAAAAAAAAAAAAAAAAAAAAAAAAAAAAAAAAAAAAAAAAAAAAAAAAAAAAAAAAAAAAAAAAAAAAAAAAAAAAAAAAAAAAAAAAAAAAAAAAAAAAAAAAAAAAAAAAAAAAAAAAAAAAAAAAAAAAAAAAAAAAAAAAAAAAAAAAAAAAAAAAAAAAAAAAAAAAAAAAAAAAAAAAAAAAAAAAAAAAAAAAAAAAAAAAAAAAAAAAAAAAAAAAAAAAAAAAAAAAAAAAAAAAAAAAAAAAAAAAAAAAAAAAAAAAAAAAAAAAAAAAAAAAAAAAAAAAAAAAAAAAAAAAAAAAAAAAAAAAAAAAAAAAAAAAAAAAAAAAAAAAAAAAAAAAAAAAAAAAAAAAAAAAAAAAAAAAAAAAAAAAAAAAAAAAAAAAAAAAAAAAAAAAAAAAAAAAAAAAAAAAAAAAAAAAAAAAAAAAAAAAAAAAAAAAAAAAAAAAAAAAAAAAAAAAAAAAAAAAAAAAAAAAAAAAAAAAAAAAAAAAAAAAAAAAAAAAAAAAAAAAAAAAAAAAAAAAAAAAAAAAAAAAAAAAAAAAAAAAAAAAAAAAAAAAAAAAAAAAAAAAAAAAAAAAAAAAAAAAAAAAAAAAAAAAAAAAAAAAAAAAAAAAAAAAAAAAAAAAAAAAAAAAAAAAAAAAAAAAAAAAAAAAAAAAAAAAAAAAAAAAAAAAAAAAAAAAAAAAAAAAAAAAAAAAAAAAAAAAAAAAAAAAAAAAAAAAAAAAAAAAAAAAAAAAAAAAAAAAAAAAAAAAAAAAAAAAAAAAAAAAAAAAAAAAAAAAAAAAAAAAAAAAAAAAAAAAAAAAAAAAAAAAAAAAAAAAAAAAAAAAAAAAAAACwAAAAAMgABAAAIDgABCBxIsKDBgwgTFgwIADs=\"><title>Layer: hidden1-2 (hidden)\n output range: (-Infinity, +Infinity)\n shape = (50,)\n Keras class = Dense</title></image><text x=\"375.5\" y=\"212.0\" font-family=\"monospace\" font-size=\"12\" text-anchor=\"middle\" fill=\"black\" alignment-baseline=\"central\"  transform=\"rotate(-90 375.5 212.0) translate(2)\" >hidden1-2</text><text x=\"475.0\" y=\"200\" font-family=\"monospace\" font-size=\"12\" text-anchor=\"start\" fill=\"green\" alignment-baseline=\"central\" >[hidden layers]</text><line x1=\"787.5\" y1=\"185\" x2=\"525.0\" y2=\"155\" stroke=\"black\" stroke-width=\"2\" marker-end=\"url(#arrow)\"><title>Weights from input3 to merge\n merge/kernel:0 has shape (150, 50)\n merge/bias:0 has shape (50,)</title></line><text x=\"212.5\" y=\"250\" font-family=\"monospace\" font-size=\"12\" text-anchor=\"start\" fill=\"green\" alignment-baseline=\"central\" >[hidden layers]</text><rect x=\"424.0\" y=\"234\" width=\"202\" height=\"52\" style=\"fill:none;stroke:black;stroke-width:2\"/><image id=\"picture-dashboard-Hiding-80520_hidden2-rotated_37\" class=\"picture-dashboard-Hiding-80520_hidden2-rotated\" x=\"425.0\" y=\"235\" height=\"50\" width=\"200\" preserveAspectRatio=\"none\" href=\"data:image/gif;base64,R0lGODdhMgABAIcAAP/9/QAAAAAAAAAAAAAAAAAAAAAAAAAAAAAAAAAAAAAAAAAAAAAAAAAAAAAAAAAAAAAAAAAAAAAAAAAAAAAAAAAAAAAAAAAAAAAAAAAAAAAAAAAAAAAAAAAAAAAAAAAAAAAAAAAAAAAAAAAAAAAAAAAAAAAAAAAAAAAAAAAAAAAAAAAAAAAAAAAAAAAAAAAAAAAAAAAAAAAAAAAAAAAAAAAAAAAAAAAAAAAAAAAAAAAAAAAAAAAAAAAAAAAAAAAAAAAAAAAAAAAAAAAAAAAAAAAAAAAAAAAAAAAAAAAAAAAAAAAAAAAAAAAAAAAAAAAAAAAAAAAAAAAAAAAAAAAAAAAAAAAAAAAAAAAAAAAAAAAAAAAAAAAAAAAAAAAAAAAAAAAAAAAAAAAAAAAAAAAAAAAAAAAAAAAAAAAAAAAAAAAAAAAAAAAAAAAAAAAAAAAAAAAAAAAAAAAAAAAAAAAAAAAAAAAAAAAAAAAAAAAAAAAAAAAAAAAAAAAAAAAAAAAAAAAAAAAAAAAAAAAAAAAAAAAAAAAAAAAAAAAAAAAAAAAAAAAAAAAAAAAAAAAAAAAAAAAAAAAAAAAAAAAAAAAAAAAAAAAAAAAAAAAAAAAAAAAAAAAAAAAAAAAAAAAAAAAAAAAAAAAAAAAAAAAAAAAAAAAAAAAAAAAAAAAAAAAAAAAAAAAAAAAAAAAAAAAAAAAAAAAAAAAAAAAAAAAAAAAAAAAAAAAAAAAAAAAAAAAAAAAAAAAAAAAAAAAAAAAAAAAAAAAAAAAAAAAAAAAAAAAAAAAAAAAAAAAAAAAAAAAAAAAAAAAAAAAAAAAAAAAAAAAAAAAAAAAAAAAAAAAAAAAAAAAAAAAAAAAAAAAAAAAAAAAAAAAAAAAAAAAAAAAAAAAAAAAAAAAAAAAAAAAAAAAAAAAAAAAAAAAAAAAAAAAAAAAAAAAAAAAAAAAAAAAAAAAAAAAAAAAAAAAAAAAAAAAAAAAAAAAAAAAAAAAAAAAAAAAAAAAAAAAAAAAAAAAAAAAAACwAAAAAMgABAAAIDgABCBxIsKDBgwgTFgwIADs=\"><title>Layer: hidden2 (hidden)\n output range: (-Infinity, +Infinity)\n shape = (50,)\n Keras class = Dense</title></image><text x=\"638.0\" y=\"262.0\" font-family=\"monospace\" font-size=\"12\" text-anchor=\"middle\" fill=\"black\" alignment-baseline=\"central\"  transform=\"rotate(-90 638.0 262.0) translate(2)\" >hidden2</text><line x1=\"787.5\" y1=\"235\" x2=\"787.5\" y2=\"185\" stroke=\"black\" stroke-width=\"2\"><title>Weights from input3 to merge\n merge/kernel:0 has shape (150, 50)\n merge/bias:0 has shape (50,)</title></line><rect x=\"161.5\" y=\"314\" width=\"202\" height=\"52\" style=\"fill:none;stroke:black;stroke-width:2\"/><image id=\"picture-dashboard-Hiding-80520_input1-rotated_38\" class=\"picture-dashboard-Hiding-80520_input1-rotated\" x=\"162.5\" y=\"315\" height=\"50\" width=\"200\" preserveAspectRatio=\"none\" href=\"data:image/gif;base64,R0lGODdhMgABAIcAAH9/fwAAAAAAAAAAAAAAAAAAAAAAAAAAAAAAAAAAAAAAAAAAAAAAAAAAAAAAAAAAAAAAAAAAAAAAAAAAAAAAAAAAAAAAAAAAAAAAAAAAAAAAAAAAAAAAAAAAAAAAAAAAAAAAAAAAAAAAAAAAAAAAAAAAAAAAAAAAAAAAAAAAAAAAAAAAAAAAAAAAAAAAAAAAAAAAAAAAAAAAAAAAAAAAAAAAAAAAAAAAAAAAAAAAAAAAAAAAAAAAAAAAAAAAAAAAAAAAAAAAAAAAAAAAAAAAAAAAAAAAAAAAAAAAAAAAAAAAAAAAAAAAAAAAAAAAAAAAAAAAAAAAAAAAAAAAAAAAAAAAAAAAAAAAAAAAAAAAAAAAAAAAAAAAAAAAAAAAAAAAAAAAAAAAAAAAAAAAAAAAAAAAAAAAAAAAAAAAAAAAAAAAAAAAAAAAAAAAAAAAAAAAAAAAAAAAAAAAAAAAAAAAAAAAAAAAAAAAAAAAAAAAAAAAAAAAAAAAAAAAAAAAAAAAAAAAAAAAAAAAAAAAAAAAAAAAAAAAAAAAAAAAAAAAAAAAAAAAAAAAAAAAAAAAAAAAAAAAAAAAAAAAAAAAAAAAAAAAAAAAAAAAAAAAAAAAAAAAAAAAAAAAAAAAAAAAAAAAAAAAAAAAAAAAAAAAAAAAAAAAAAAAAAAAAAAAAAAAAAAAAAAAAAAAAAAAAAAAAAAAAAAAAAAAAAAAAAAAAAAAAAAAAAAAAAAAAAAAAAAAAAAAAAAAAAAAAAAAAAAAAAAAAAAAAAAAAAAAAAAAAAAAAAAAAAAAAAAAAAAAAAAAAAAAAAAAAAAAAAAAAAAAAAAAAAAAAAAAAAAAAAAAAAAAAAAAAAAAAAAAAAAAAAAAAAAAAAAAAAAAAAAAAAAAAAAAAAAAAAAAAAAAAAAAAAAAAAAAAAAAAAAAAAAAAAAAAAAAAAAAAAAAAAAAAAAAAAAAAAAAAAAAAAAAAAAAAAAAAAAAAAAAAAAAAAAAAAAAAAAAAAAAAAAAAAAAAAAAAAAAACwAAAAAMgABAAAIDgABCBxIsKDBgwgTFgwIADs=\"><title>Layer: input1 (input)\n output range: (-Infinity, +Infinity)\n shape = (50,)\n Keras class = Input</title></image><text x=\"375.5\" y=\"342.0\" font-family=\"monospace\" font-size=\"12\" text-anchor=\"middle\" fill=\"black\" alignment-baseline=\"central\"  transform=\"rotate(-90 375.5 342.0) translate(2)\" >input1</text><line x1=\"525.0\" y1=\"314\" x2=\"525.0\" y2=\"287\" stroke=\"black\" stroke-width=\"2\" marker-end=\"url(#arrow)\"><title>Weights from input2 to hidden2\n hidden2/kernel:0 has shape (50, 50)\n hidden2/bias:0 has shape (50,)</title></line><rect x=\"424.0\" y=\"314\" width=\"202\" height=\"52\" style=\"fill:none;stroke:black;stroke-width:2\"/><image id=\"picture-dashboard-Hiding-80520_input2-rotated_39\" class=\"picture-dashboard-Hiding-80520_input2-rotated\" x=\"425.0\" y=\"315\" height=\"50\" width=\"200\" preserveAspectRatio=\"none\" href=\"data:image/gif;base64,R0lGODdhMgABAIcAAH9/fwAAAAAAAAAAAAAAAAAAAAAAAAAAAAAAAAAAAAAAAAAAAAAAAAAAAAAAAAAAAAAAAAAAAAAAAAAAAAAAAAAAAAAAAAAAAAAAAAAAAAAAAAAAAAAAAAAAAAAAAAAAAAAAAAAAAAAAAAAAAAAAAAAAAAAAAAAAAAAAAAAAAAAAAAAAAAAAAAAAAAAAAAAAAAAAAAAAAAAAAAAAAAAAAAAAAAAAAAAAAAAAAAAAAAAAAAAAAAAAAAAAAAAAAAAAAAAAAAAAAAAAAAAAAAAAAAAAAAAAAAAAAAAAAAAAAAAAAAAAAAAAAAAAAAAAAAAAAAAAAAAAAAAAAAAAAAAAAAAAAAAAAAAAAAAAAAAAAAAAAAAAAAAAAAAAAAAAAAAAAAAAAAAAAAAAAAAAAAAAAAAAAAAAAAAAAAAAAAAAAAAAAAAAAAAAAAAAAAAAAAAAAAAAAAAAAAAAAAAAAAAAAAAAAAAAAAAAAAAAAAAAAAAAAAAAAAAAAAAAAAAAAAAAAAAAAAAAAAAAAAAAAAAAAAAAAAAAAAAAAAAAAAAAAAAAAAAAAAAAAAAAAAAAAAAAAAAAAAAAAAAAAAAAAAAAAAAAAAAAAAAAAAAAAAAAAAAAAAAAAAAAAAAAAAAAAAAAAAAAAAAAAAAAAAAAAAAAAAAAAAAAAAAAAAAAAAAAAAAAAAAAAAAAAAAAAAAAAAAAAAAAAAAAAAAAAAAAAAAAAAAAAAAAAAAAAAAAAAAAAAAAAAAAAAAAAAAAAAAAAAAAAAAAAAAAAAAAAAAAAAAAAAAAAAAAAAAAAAAAAAAAAAAAAAAAAAAAAAAAAAAAAAAAAAAAAAAAAAAAAAAAAAAAAAAAAAAAAAAAAAAAAAAAAAAAAAAAAAAAAAAAAAAAAAAAAAAAAAAAAAAAAAAAAAAAAAAAAAAAAAAAAAAAAAAAAAAAAAAAAAAAAAAAAAAAAAAAAAAAAAAAAAAAAAAAAAAAAAAAAAAAAAAAAAAAAAAAAAAAAAAAAAAAAAAAAAAAAAAAACwAAAAAMgABAAAIDgABCBxIsKDBgwgTFgwIADs=\"><title>Layer: input2 (input)\n output range: (-Infinity, +Infinity)\n shape = (50,)\n Keras class = Input</title></image><text x=\"638.0\" y=\"342.0\" font-family=\"monospace\" font-size=\"12\" text-anchor=\"middle\" fill=\"black\" alignment-baseline=\"central\"  transform=\"rotate(-90 638.0 342.0) translate(2)\" >input2</text><line x1=\"787.5\" y1=\"314\" x2=\"787.5\" y2=\"235\" stroke=\"black\" stroke-width=\"2\"><title>Weights from input3 to merge\n merge/kernel:0 has shape (150, 50)\n merge/bias:0 has shape (50,)</title></line><rect x=\"686.5\" y=\"314\" width=\"202\" height=\"52\" style=\"fill:none;stroke:black;stroke-width:2\"/><image id=\"picture-dashboard-Hiding-80520_input3-rotated_40\" class=\"picture-dashboard-Hiding-80520_input3-rotated\" x=\"687.5\" y=\"315\" height=\"50\" width=\"200\" preserveAspectRatio=\"none\" href=\"data:image/gif;base64,R0lGODdhMgABAIcAAH9/fwAAAAAAAAAAAAAAAAAAAAAAAAAAAAAAAAAAAAAAAAAAAAAAAAAAAAAAAAAAAAAAAAAAAAAAAAAAAAAAAAAAAAAAAAAAAAAAAAAAAAAAAAAAAAAAAAAAAAAAAAAAAAAAAAAAAAAAAAAAAAAAAAAAAAAAAAAAAAAAAAAAAAAAAAAAAAAAAAAAAAAAAAAAAAAAAAAAAAAAAAAAAAAAAAAAAAAAAAAAAAAAAAAAAAAAAAAAAAAAAAAAAAAAAAAAAAAAAAAAAAAAAAAAAAAAAAAAAAAAAAAAAAAAAAAAAAAAAAAAAAAAAAAAAAAAAAAAAAAAAAAAAAAAAAAAAAAAAAAAAAAAAAAAAAAAAAAAAAAAAAAAAAAAAAAAAAAAAAAAAAAAAAAAAAAAAAAAAAAAAAAAAAAAAAAAAAAAAAAAAAAAAAAAAAAAAAAAAAAAAAAAAAAAAAAAAAAAAAAAAAAAAAAAAAAAAAAAAAAAAAAAAAAAAAAAAAAAAAAAAAAAAAAAAAAAAAAAAAAAAAAAAAAAAAAAAAAAAAAAAAAAAAAAAAAAAAAAAAAAAAAAAAAAAAAAAAAAAAAAAAAAAAAAAAAAAAAAAAAAAAAAAAAAAAAAAAAAAAAAAAAAAAAAAAAAAAAAAAAAAAAAAAAAAAAAAAAAAAAAAAAAAAAAAAAAAAAAAAAAAAAAAAAAAAAAAAAAAAAAAAAAAAAAAAAAAAAAAAAAAAAAAAAAAAAAAAAAAAAAAAAAAAAAAAAAAAAAAAAAAAAAAAAAAAAAAAAAAAAAAAAAAAAAAAAAAAAAAAAAAAAAAAAAAAAAAAAAAAAAAAAAAAAAAAAAAAAAAAAAAAAAAAAAAAAAAAAAAAAAAAAAAAAAAAAAAAAAAAAAAAAAAAAAAAAAAAAAAAAAAAAAAAAAAAAAAAAAAAAAAAAAAAAAAAAAAAAAAAAAAAAAAAAAAAAAAAAAAAAAAAAAAAAAAAAAAAAAAAAAAAAAAAAAAAAAAAAAAAAAAAAAAAAAAAAAAAAAAAAAACwAAAAAMgABAAAIDgABCBxIsKDBgwgTFgwIADs=\"><title>Layer: input3 (input)\n output range: (-Infinity, +Infinity)\n shape = (50,)\n Keras class = Input</title></image><text x=\"900.5\" y=\"342.0\" font-family=\"monospace\" font-size=\"12\" text-anchor=\"middle\" fill=\"black\" alignment-baseline=\"central\"  transform=\"rotate(-90 900.5 342.0) translate(2)\" >input3</text><text x=\"18\" y=\"195.0\" font-family=\"monospace\" font-size=\"15\" text-anchor=\"middle\" fill=\"black\" alignment-baseline=\"central\"  transform=\"rotate(-90 18 195.0) translate(2)\" >Hiding</text></svg></g></svg></p>"
      }
     },
     "efc99e3b81694fd0ab5f3c4ba4d2e176": {
      "model_module": "@jupyter-widgets/base",
      "model_module_version": "1.0.0",
      "model_name": "LayoutModel",
      "state": {}
     },
     "effc777a77934d3ea92ac26053eb2e5c": {
      "model_module": "@jupyter-widgets/controls",
      "model_module_version": "1.1.0",
      "model_name": "ButtonModel",
      "state": {
       "icon": "fast-forward",
       "layout": "IPY_MODEL_7fc36d3dd4f247f69cd3bb053b6ff18e",
       "style": "IPY_MODEL_f130a1f1b9ef429b9afdb7b0848e6e7e"
      }
     },
     "effd6a9a1240493c96da24c361840b50": {
      "model_module": "@jupyter-widgets/base",
      "model_module_version": "1.0.0",
      "model_name": "LayoutModel",
      "state": {
       "width": "100%"
      }
     },
     "f006dacafe9144b7a8240a95a8107703": {
      "model_module": "@jupyter-widgets/base",
      "model_module_version": "1.0.0",
      "model_name": "LayoutModel",
      "state": {
       "width": "100%"
      }
     },
     "f017cf4229bb48a9ac88388497201d1d": {
      "model_module": "@jupyter-widgets/controls",
      "model_module_version": "1.1.0",
      "model_name": "DescriptionStyleModel",
      "state": {
       "description_width": "initial"
      }
     },
     "f05d5a24b1d64ce3b6478d2b40f70fd8": {
      "model_module": "@jupyter-widgets/controls",
      "model_module_version": "1.1.0",
      "model_name": "CheckboxModel",
      "state": {
       "description": "Errors",
       "disabled": false,
       "layout": "IPY_MODEL_442c0668cff04fba8401e7916a5f4228",
       "style": "IPY_MODEL_3e7f8eb89127486294bb1aaa2c077455",
       "value": false
      }
     },
     "f0834844ee3842c688b2487eb0f1e366": {
      "model_module": "@jupyter-widgets/base",
      "model_module_version": "1.0.0",
      "model_name": "LayoutModel",
      "state": {
       "width": "100%"
      }
     },
     "f0a7f9aa81a74b4d958463d87667d95b": {
      "model_module": "@jupyter-widgets/controls",
      "model_module_version": "1.1.0",
      "model_name": "FloatSliderModel",
      "state": {
       "continuous_update": false,
       "description": "Zoom",
       "layout": "IPY_MODEL_3cec05c135c643d08ee037a527d0deee",
       "max": 1,
       "step": 0.1,
       "style": "IPY_MODEL_d20367b3a6714942ae27060bf89f7a2e",
       "value": 0.5
      }
     },
     "f0b79c259deb42eab9fa344edb54861f": {
      "model_module": "@jupyter-widgets/base",
      "model_module_version": "1.0.0",
      "model_name": "LayoutModel",
      "state": {
       "width": "100%"
      }
     },
     "f0c491e4dc9e4629bd9530cbb1f75dd5": {
      "model_module": "@jupyter-widgets/controls",
      "model_module_version": "1.1.0",
      "model_name": "LabelModel",
      "state": {
       "layout": "IPY_MODEL_05d676d78b134164b848a7eaca6368ca",
       "style": "IPY_MODEL_eac502c54caf4c7683020e55d67134e3",
       "value": "of 0"
      }
     },
     "f0e70c959bbd4f07818d473da4ceef68": {
      "model_module": "@jupyter-widgets/controls",
      "model_module_version": "1.1.0",
      "model_name": "AccordionModel",
      "state": {
       "_titles": {
        "0": "Hiding"
       },
       "children": [
        "IPY_MODEL_f88bbf34d0214c059ccd0fdb68b3ed48"
       ],
       "layout": "IPY_MODEL_26a9178002d54abdae790eae18df8035",
       "selected_index": null
      }
     },
     "f11cc6c115054f62b0ce26e281563221": {
      "model_module": "@jupyter-widgets/base",
      "model_module_version": "1.0.0",
      "model_name": "LayoutModel",
      "state": {
       "width": "100%"
      }
     },
     "f130a1f1b9ef429b9afdb7b0848e6e7e": {
      "model_module": "@jupyter-widgets/controls",
      "model_module_version": "1.1.0",
      "model_name": "ButtonStyleModel",
      "state": {}
     },
     "f1b39464342346999612ffd0e41bb464": {
      "model_module": "@jupyter-widgets/base",
      "model_module_version": "1.0.0",
      "model_name": "LayoutModel",
      "state": {}
     },
     "f256d7dd5bc54e24b7d8fe2879e72604": {
      "model_module": "@jupyter-widgets/controls",
      "model_module_version": "1.1.0",
      "model_name": "HBoxModel",
      "state": {
       "children": [
        "IPY_MODEL_ad0e510e52f8476bb4d017673322842e",
        "IPY_MODEL_caeaea7abb554362883e8b06ba7ef3dd"
       ],
       "layout": "IPY_MODEL_07ca03fb502444a09420eb0100ac5a62"
      }
     },
     "f261b0a3867247529cab81f5dd76ae66": {
      "model_module": "@jupyter-widgets/controls",
      "model_module_version": "1.1.0",
      "model_name": "VBoxModel",
      "state": {
       "children": [
        "IPY_MODEL_3d47dbb32f624f5793cb961889005652",
        "IPY_MODEL_4041dfe35c174f1082b91a202fd2727d"
       ],
       "layout": "IPY_MODEL_f006dacafe9144b7a8240a95a8107703"
      }
     },
     "f2ad96ef80e547c8800bf8621d58c646": {
      "model_module": "@jupyter-widgets/base",
      "model_module_version": "1.0.0",
      "model_name": "LayoutModel",
      "state": {}
     },
     "f2c860521d2a408cacca219c3456984f": {
      "model_module": "@jupyter-widgets/controls",
      "model_module_version": "1.1.0",
      "model_name": "HBoxModel",
      "state": {
       "children": [
        "IPY_MODEL_d8609462fb504c87910a437e25117a6e",
        "IPY_MODEL_67e3f83104b74aa182b1dc1ec94ae77b"
       ],
       "layout": "IPY_MODEL_36c23414be3c48eea0ea6d371382c7c5"
      }
     },
     "f2f6c6e88c16468cbef79c9d6b6d2fb5": {
      "model_module": "@jupyter-widgets/controls",
      "model_module_version": "1.1.0",
      "model_name": "DescriptionStyleModel",
      "state": {
       "description_width": ""
      }
     },
     "f305172c0db848698ae6453ed2734677": {
      "model_module": "@jupyter-widgets/base",
      "model_module_version": "1.0.0",
      "model_name": "LayoutModel",
      "state": {}
     },
     "f353fef96b124115bbc2cdd066085389": {
      "model_module": "@jupyter-widgets/controls",
      "model_module_version": "1.1.0",
      "model_name": "HBoxModel",
      "state": {
       "children": [
        "IPY_MODEL_d72d99f77a4347309bf63f2a2a31a57d",
        "IPY_MODEL_66ff8d6a70544db590b437f30464b813",
        "IPY_MODEL_dddc9db32c0744de9177ed93f81886bf",
        "IPY_MODEL_a3763c328ffb4e7288bffc7acba588d8",
        "IPY_MODEL_1d64dd1167aa4b549dad81858dc809fb",
        "IPY_MODEL_a8828d3f559b42ba9dabe48fc175d662",
        "IPY_MODEL_46ef6036d1734a49a95e9b13ab1c7a01"
       ],
       "layout": "IPY_MODEL_aae15413f40f49f8b1b64cadfca7f7f8"
      }
     },
     "f35e96e6f89f4095af7714905e035ba6": {
      "model_module": "@jupyter-widgets/controls",
      "model_module_version": "1.1.0",
      "model_name": "DescriptionStyleModel",
      "state": {
       "description_width": "initial"
      }
     },
     "f37c5e4246f1448ba3e2c09f7336c8a7": {
      "model_module": "@jupyter-widgets/controls",
      "model_module_version": "1.1.0",
      "model_name": "FloatSliderModel",
      "state": {
       "continuous_update": false,
       "description": "Zoom",
       "layout": "IPY_MODEL_f74e23a1d4e14779b3da01f36dedaa06",
       "max": 1,
       "step": 0.1,
       "style": "IPY_MODEL_21154008d02649f6ba23ce30c1ef0cff",
       "value": 0.8
      }
     },
     "f37fe28587814bbf9f7f424273912f5f": {
      "model_module": "@jupyter-widgets/base",
      "model_module_version": "1.0.0",
      "model_name": "LayoutModel",
      "state": {}
     },
     "f3886c65ce4d4a89a6a99a47948b8fc5": {
      "model_module": "@jupyter-widgets/base",
      "model_module_version": "1.0.0",
      "model_name": "LayoutModel",
      "state": {
       "height": "40px"
      }
     },
     "f3b66a88b6cf4565aeb95605620e8a85": {
      "model_module": "@jupyter-widgets/controls",
      "model_module_version": "1.1.0",
      "model_name": "ButtonModel",
      "state": {
       "icon": "fast-forward",
       "layout": "IPY_MODEL_b25a2759124b4b6c85c4f14f3644994c",
       "style": "IPY_MODEL_9d6183f9543d470981e48c51792bd9c7"
      }
     },
     "f3bd443acfee4d0da28f056b86de455c": {
      "model_module": "@jupyter-widgets/controls",
      "model_module_version": "1.1.0",
      "model_name": "VBoxModel",
      "state": {
       "children": [
        "IPY_MODEL_4000f31695a34b2786598cf1d36210ba",
        "IPY_MODEL_ab639d601c504d8d88c87650db8ba6ba",
        "IPY_MODEL_16b1f5d2130a4302bfdd466d208d8386",
        "IPY_MODEL_5318873c7e2b48099d9c559e4afe7250",
        "IPY_MODEL_53450dc7d450499f8ff5b0c0133d22bb",
        "IPY_MODEL_2f4354a9a37f41f59643afd482169116",
        "IPY_MODEL_bfe4c107d7c14c5a827423deff11ca3a",
        "IPY_MODEL_2ded42a7c5374e4cb0f7a8e934759768"
       ],
       "layout": "IPY_MODEL_63d8e21f88f74b0a97d044375df27771"
      }
     },
     "f42b2ffb8ed048b5837afc8d6531a3bb": {
      "model_module": "@jupyter-widgets/base",
      "model_module_version": "1.0.0",
      "model_name": "LayoutModel",
      "state": {}
     },
     "f442cb16251242c9af4777dfcfdea382": {
      "model_module": "@jupyter-widgets/base",
      "model_module_version": "1.0.0",
      "model_name": "LayoutModel",
      "state": {
       "width": "100%"
      }
     },
     "f5144c5eb3f9477b807a3556a9d9124b": {
      "model_module": "@jupyter-widgets/base",
      "model_module_version": "1.0.0",
      "model_name": "LayoutModel",
      "state": {
       "width": "10%"
      }
     },
     "f52b0d19af2d4cfca8779cc89a54e251": {
      "model_module": "@jupyter-widgets/controls",
      "model_module_version": "1.1.0",
      "model_name": "DescriptionStyleModel",
      "state": {
       "description_width": "initial"
      }
     },
     "f5ca1fb0c0ee4d44a2f19fdf32d6ce8e": {
      "model_module": "@jupyter-widgets/base",
      "model_module_version": "1.0.0",
      "model_name": "LayoutModel",
      "state": {
       "width": "100%"
      }
     },
     "f74e23a1d4e14779b3da01f36dedaa06": {
      "model_module": "@jupyter-widgets/base",
      "model_module_version": "1.0.0",
      "model_name": "LayoutModel",
      "state": {
       "width": "65%"
      }
     },
     "f771ecd8ee1a48939298d59391f37538": {
      "model_module": "@jupyter-widgets/base",
      "model_module_version": "1.0.0",
      "model_name": "LayoutModel",
      "state": {
       "width": "65%"
      }
     },
     "f79a63363e504c47bb3e5c83529b8a4b": {
      "model_module": "@jupyter-widgets/controls",
      "model_module_version": "1.1.0",
      "model_name": "DescriptionStyleModel",
      "state": {
       "description_width": "initial"
      }
     },
     "f817c7851a674b208e42727a76eaf878": {
      "model_module": "@jupyter-widgets/base",
      "model_module_version": "1.0.0",
      "model_name": "LayoutModel",
      "state": {}
     },
     "f88bbf34d0214c059ccd0fdb68b3ed48": {
      "model_module": "@jupyter-widgets/controls",
      "model_module_version": "1.1.0",
      "model_name": "HBoxModel",
      "state": {
       "children": [
        "IPY_MODEL_346640ed4af247c0bdf0e9dc8d511218",
        "IPY_MODEL_e70390d9cf6c480bbf76d000c378cc6f"
       ],
       "layout": "IPY_MODEL_eaa83758c20b4819a3b70edecfb14624"
      }
     },
     "f88d4480a8f04bdf9222264e874b5910": {
      "model_module": "@jupyter-widgets/base",
      "model_module_version": "1.0.0",
      "model_name": "LayoutModel",
      "state": {
       "height": "50px",
       "width": "100%"
      }
     },
     "f8e07a8242af4c039dc2c2046210cb94": {
      "model_module": "@jupyter-widgets/controls",
      "model_module_version": "1.1.0",
      "model_name": "FloatTextModel",
      "state": {
       "description": "Feature scale:",
       "layout": "IPY_MODEL_df820fed702b4f6893fcf78319765160",
       "step": null,
       "style": "IPY_MODEL_c247e14988f64038af82f66557581ae7",
       "value": 1
      }
     },
     "f8fc465aa46343e99a2cb19a09c5bb03": {
      "model_module": "@jupyter-widgets/output",
      "model_module_version": "1.0.0",
      "model_name": "OutputModel",
      "state": {
       "layout": "IPY_MODEL_4a29a4ff0ed54b9c8b85a8ee97e7cdce"
      }
     },
     "f957d7ed1709465caaf9999a63b106d5": {
      "model_module": "@jupyter-widgets/base",
      "model_module_version": "1.0.0",
      "model_name": "LayoutModel",
      "state": {}
     },
     "f9817db7e1a64cb7a2c80d4c146210c5": {
      "model_module": "@jupyter-widgets/controls",
      "model_module_version": "1.1.0",
      "model_name": "DescriptionStyleModel",
      "state": {
       "description_width": "initial"
      }
     },
     "f99e61afe129439190a0097dc7ff54db": {
      "model_module": "@jupyter-widgets/base",
      "model_module_version": "1.0.0",
      "model_name": "LayoutModel",
      "state": {
       "width": "52%"
      }
     },
     "f9e9b45adf7243b68352a17d29099143": {
      "model_module": "@jupyter-widgets/controls",
      "model_module_version": "1.1.0",
      "model_name": "SelectModel",
      "state": {
       "_options_labels": [
        "Test",
        "Train"
       ],
       "description": "Dataset:",
       "index": 1,
       "layout": "IPY_MODEL_56b729faa07940a3bdaba03b0fc58b11",
       "rows": 1,
       "style": "IPY_MODEL_43baaa19b99c4649be237d7848066f54"
      }
     },
     "fa2364aa10e44a7e9fefa223ee8e0c1a": {
      "model_module": "@jupyter-widgets/controls",
      "model_module_version": "1.1.0",
      "model_name": "CheckboxModel",
      "state": {
       "description": "Visible",
       "disabled": false,
       "layout": "IPY_MODEL_37858b4a69cd492ea6129225211dcfe6",
       "style": "IPY_MODEL_9a2c3dadea76436a8512bdee848f82ea",
       "value": true
      }
     },
     "fa3f1e2bc9bf451bb053583be6bf0ef6": {
      "model_module": "@jupyter-widgets/controls",
      "model_module_version": "1.1.0",
      "model_name": "IntTextModel",
      "state": {
       "description": "Feature columns:",
       "layout": "IPY_MODEL_546952738c954397bd0d4c943c7c5104",
       "step": 1,
       "style": "IPY_MODEL_f79a63363e504c47bb3e5c83529b8a4b",
       "value": 3
      }
     },
     "fa8d7a564ec742a2a793b0b030c84f7d": {
      "model_module": "@jupyter-widgets/controls",
      "model_module_version": "1.1.0",
      "model_name": "DescriptionStyleModel",
      "state": {
       "description_width": "initial"
      }
     },
     "faa479c84f5e4d20b5f4da47e5daa970": {
      "model_module": "@jupyter-widgets/controls",
      "model_module_version": "1.1.0",
      "model_name": "SelectModel",
      "state": {
       "_options_labels": [
        "",
        "Accent",
        "Accent_r",
        "Blues",
        "Blues_r",
        "BrBG",
        "BrBG_r",
        "BuGn",
        "BuGn_r",
        "BuPu",
        "BuPu_r",
        "CMRmap",
        "CMRmap_r",
        "Dark2",
        "Dark2_r",
        "GnBu",
        "GnBu_r",
        "Greens",
        "Greens_r",
        "Greys",
        "Greys_r",
        "OrRd",
        "OrRd_r",
        "Oranges",
        "Oranges_r",
        "PRGn",
        "PRGn_r",
        "Paired",
        "Paired_r",
        "Pastel1",
        "Pastel1_r",
        "Pastel2",
        "Pastel2_r",
        "PiYG",
        "PiYG_r",
        "PuBu",
        "PuBuGn",
        "PuBuGn_r",
        "PuBu_r",
        "PuOr",
        "PuOr_r",
        "PuRd",
        "PuRd_r",
        "Purples",
        "Purples_r",
        "RdBu",
        "RdBu_r",
        "RdGy",
        "RdGy_r",
        "RdPu",
        "RdPu_r",
        "RdYlBu",
        "RdYlBu_r",
        "RdYlGn",
        "RdYlGn_r",
        "Reds",
        "Reds_r",
        "Set1",
        "Set1_r",
        "Set2",
        "Set2_r",
        "Set3",
        "Set3_r",
        "Spectral",
        "Spectral_r",
        "Vega10",
        "Vega10_r",
        "Vega20",
        "Vega20_r",
        "Vega20b",
        "Vega20b_r",
        "Vega20c",
        "Vega20c_r",
        "Wistia",
        "Wistia_r",
        "YlGn",
        "YlGnBu",
        "YlGnBu_r",
        "YlGn_r",
        "YlOrBr",
        "YlOrBr_r",
        "YlOrRd",
        "YlOrRd_r",
        "afmhot",
        "afmhot_r",
        "autumn",
        "autumn_r",
        "binary",
        "binary_r",
        "bone",
        "bone_r",
        "brg",
        "brg_r",
        "bwr",
        "bwr_r",
        "cool",
        "cool_r",
        "coolwarm",
        "coolwarm_r",
        "copper",
        "copper_r",
        "cubehelix",
        "cubehelix_r",
        "flag",
        "flag_r",
        "gist_earth",
        "gist_earth_r",
        "gist_gray",
        "gist_gray_r",
        "gist_heat",
        "gist_heat_r",
        "gist_ncar",
        "gist_ncar_r",
        "gist_rainbow",
        "gist_rainbow_r",
        "gist_stern",
        "gist_stern_r",
        "gist_yarg",
        "gist_yarg_r",
        "gnuplot",
        "gnuplot2",
        "gnuplot2_r",
        "gnuplot_r",
        "gray",
        "gray_r",
        "hot",
        "hot_r",
        "hsv",
        "hsv_r",
        "inferno",
        "inferno_r",
        "jet",
        "jet_r",
        "magma",
        "magma_r",
        "nipy_spectral",
        "nipy_spectral_r",
        "ocean",
        "ocean_r",
        "pink",
        "pink_r",
        "plasma",
        "plasma_r",
        "prism",
        "prism_r",
        "rainbow",
        "rainbow_r",
        "seismic",
        "seismic_r",
        "spectral",
        "spectral_r",
        "spring",
        "spring_r",
        "summer",
        "summer_r",
        "tab10",
        "tab10_r",
        "tab20",
        "tab20_r",
        "tab20b",
        "tab20b_r",
        "tab20c",
        "tab20c_r",
        "terrain",
        "terrain_r",
        "viridis",
        "viridis_r",
        "winter",
        "winter_r"
       ],
       "description": "Colormap:",
       "index": 0,
       "layout": "IPY_MODEL_37858b4a69cd492ea6129225211dcfe6",
       "rows": 1,
       "style": "IPY_MODEL_892befa39e9840c1ae64369b2bb3129a"
      }
     },
     "fae57b46f30d47e3ba6dad118a03afa3": {
      "model_module": "@jupyter-widgets/controls",
      "model_module_version": "1.1.0",
      "model_name": "ButtonStyleModel",
      "state": {}
     },
     "fb3a3016e50c4b589d54cde8395916d9": {
      "model_module": "@jupyter-widgets/controls",
      "model_module_version": "1.1.0",
      "model_name": "FloatTextModel",
      "state": {
       "description": "Feature scale:",
       "layout": "IPY_MODEL_76f5539b8e8f419b9df80fdf2f0a6d4e",
       "step": null,
       "style": "IPY_MODEL_a62c12650d784005819534b3d9cf7ae9",
       "value": 1
      }
     },
     "fb82ac6bbc7c4c268325e3620e08be06": {
      "model_module": "@jupyter-widgets/base",
      "model_module_version": "1.0.0",
      "model_name": "LayoutModel",
      "state": {
       "height": "40px"
      }
     },
     "fbca977cd8ec4c119cd6b0c4285e8a07": {
      "model_module": "@jupyter-widgets/controls",
      "model_module_version": "1.1.0",
      "model_name": "DescriptionStyleModel",
      "state": {
       "description_width": ""
      }
     },
     "fc234eb57968427c9ed2f42698221eba": {
      "model_module": "@jupyter-widgets/controls",
      "model_module_version": "1.1.0",
      "model_name": "SliderStyleModel",
      "state": {
       "description_width": ""
      }
     },
     "fc29d585850b4fa68afda6d06249f5b6": {
      "model_module": "@jupyter-widgets/controls",
      "model_module_version": "1.1.0",
      "model_name": "DescriptionStyleModel",
      "state": {
       "description_width": ""
      }
     },
     "fcc74471c5894bcbb36b46d7408df451": {
      "model_module": "@jupyter-widgets/controls",
      "model_module_version": "1.1.0",
      "model_name": "DescriptionStyleModel",
      "state": {
       "description_width": ""
      }
     },
     "fce40be341bd4bd98179d36f653638b8": {
      "model_module": "@jupyter-widgets/controls",
      "model_module_version": "1.1.0",
      "model_name": "VBoxModel",
      "state": {
       "children": [
        "IPY_MODEL_6e08a654c3744669979e89e998ca4000",
        "IPY_MODEL_b78dc3aaeb424caabf084212dfea56eb",
        "IPY_MODEL_0c57ef2302714c5ca1edd1db5a3ca39c",
        "IPY_MODEL_ff8b19e353ce4805bb228800a88eb37d"
       ],
       "layout": "IPY_MODEL_6062a70847dd4aeaa06824f573c8b6e8"
      }
     },
     "fcf732f63f124d14a62d7ac9ae8fdcc8": {
      "model_module": "@jupyter-widgets/controls",
      "model_module_version": "1.1.0",
      "model_name": "ButtonModel",
      "state": {
       "icon": "fast-backward",
       "layout": "IPY_MODEL_631461798fd64eba8a4609331f7cb3db",
       "style": "IPY_MODEL_4d968d962f24499c825db93ef24225d6"
      }
     },
     "fd0aab7d14af48968d5bccfb89fdb785": {
      "model_module": "@jupyter-widgets/base",
      "model_module_version": "1.0.0",
      "model_name": "LayoutModel",
      "state": {}
     },
     "fd169d4d229946648aa1f5f6de624dfc": {
      "model_module": "@jupyter-widgets/controls",
      "model_module_version": "1.1.0",
      "model_name": "VBoxModel",
      "state": {
       "children": [
        "IPY_MODEL_3b9da59fec534e4b8cb4f3083a6f597a",
        "IPY_MODEL_e25676394bcb40cda175e22e89fd7a7d"
       ],
       "layout": "IPY_MODEL_effd6a9a1240493c96da24c361840b50"
      }
     },
     "fd5228b45c32434b87881393d960c2cd": {
      "model_module": "@jupyter-widgets/controls",
      "model_module_version": "1.1.0",
      "model_name": "ButtonStyleModel",
      "state": {}
     },
     "fd5850c17d6a45b08a18e236f9b407fb": {
      "model_module": "@jupyter-widgets/controls",
      "model_module_version": "1.1.0",
      "model_name": "VBoxModel",
      "state": {
       "children": [
        "IPY_MODEL_ac323063b5a54d5f989ed85cfd740f04",
        "IPY_MODEL_e082d889b00a4a22abb5c885387853d5",
        "IPY_MODEL_4702b26e98904715a87896a382d35bde",
        "IPY_MODEL_6aff4bab65ba4580a78fd6b4623b263c",
        "IPY_MODEL_e0cc27ea1a384dd4a0b876b238aa72bd",
        "IPY_MODEL_cc424ae0f35f4baf88e75b4be7011c88",
        "IPY_MODEL_26a9b3a55d424b84888bf1b3dc129c1f",
        "IPY_MODEL_50a71146c7dd49078e0974d394e6a5af"
       ],
       "layout": "IPY_MODEL_08e15d1d5ac24eada4a51358fd55f849"
      }
     },
     "fd71941b82584158a221f31be4370737": {
      "model_module": "@jupyter-widgets/base",
      "model_module_version": "1.0.0",
      "model_name": "LayoutModel",
      "state": {}
     },
     "fe2bdc875dd24044bc760270b88cc4b6": {
      "model_module": "@jupyter-widgets/controls",
      "model_module_version": "1.1.0",
      "model_name": "DescriptionStyleModel",
      "state": {
       "description_width": ""
      }
     },
     "fe30302a6ac84a2894b48370dd9d497d": {
      "model_module": "@jupyter-widgets/base",
      "model_module_version": "1.0.0",
      "model_name": "LayoutModel",
      "state": {
       "height": "50px",
       "width": "100%"
      }
     },
     "fe4150b95ac043529e298154842b6330": {
      "model_module": "@jupyter-widgets/controls",
      "model_module_version": "1.1.0",
      "model_name": "DescriptionStyleModel",
      "state": {
       "description_width": ""
      }
     },
     "fec64504b8304592bdb312ee52537088": {
      "model_module": "@jupyter-widgets/base",
      "model_module_version": "1.0.0",
      "model_name": "LayoutModel",
      "state": {
       "height": "40px"
      }
     },
     "fecf8dd518144b748c8703d3d8898a41": {
      "model_module": "@jupyter-widgets/controls",
      "model_module_version": "1.1.0",
      "model_name": "ButtonModel",
      "state": {
       "icon": "refresh",
       "layout": "IPY_MODEL_6a29d6cef81645c685933a2184c6d66a",
       "style": "IPY_MODEL_4e74c1c82ca34201a5208070f144300d"
      }
     },
     "ff5dd9bb64c24c34873cdb9fab807ac9": {
      "model_module": "@jupyter-widgets/controls",
      "model_module_version": "1.1.0",
      "model_name": "FloatTextModel",
      "state": {
       "description": "Rightmost color maps to:",
       "layout": "IPY_MODEL_a0ed41b281164d04ba13723fc2e4c6be",
       "step": null,
       "style": "IPY_MODEL_ee08d7d430384d98b422c3318a5c53e0",
       "value": 2
      }
     },
     "ff8b19e353ce4805bb228800a88eb37d": {
      "model_module": "@jupyter-widgets/output",
      "model_module_version": "1.0.0",
      "model_name": "OutputModel",
      "state": {
       "layout": "IPY_MODEL_b02da52ad5134029a038a19339c7c7d0"
      }
     },
     "ff976c061891430b90e032cf4fdfcb6c": {
      "model_module": "@jupyter-widgets/controls",
      "model_module_version": "1.1.0",
      "model_name": "ButtonModel",
      "state": {
       "description": "Play",
       "icon": "play",
       "layout": "IPY_MODEL_d79e06bccd614e6da60c27bb3ee28c8a",
       "style": "IPY_MODEL_19326a098fc641eebd701305f8b27624"
      }
     }
    },
    "version_major": 2,
    "version_minor": 0
   }
  }
 },
 "nbformat": 4,
 "nbformat_minor": 2
}
