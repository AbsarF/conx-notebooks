{
 "cells": [
  {
   "cell_type": "markdown",
   "metadata": {},
   "source": [
    "# Classifiers\n",
    "\n",
    "This notebook explores a simple classification task.\n",
    "\n",
    "Consider the following classification problem inspired by the analysis of this provocative video about how machine learning could change education (relevant to this problem at about the 32 minute mark):\n",
    "\n",
    "https://www.youtube.com/watch?v=XSKfHDMXIgg\n",
    "\n",
    "Briefly, the task is that you are given the (x,y) coordinates of the following colored points, and asked to match them to their respective color, or classification. For example, (0.1, 0.3) should be labeled \"Blue\"."
   ]
  },
  {
   "cell_type": "markdown",
   "metadata": {},
   "source": [
    "<img src=\"classifier-problem.png\" width=\"50%\">"
   ]
  },
  {
   "cell_type": "code",
   "execution_count": 291,
   "metadata": {},
   "outputs": [],
   "source": [
    "import conx as cx"
   ]
  },
  {
   "cell_type": "markdown",
   "metadata": {},
   "source": [
    "First, we need the data. I displayed the picture and positioned my mouse over each point and recorded the (x,y) for each group.\n",
    "\n",
    "Note: I changed \"yellow\" to \"purple\" in an attempt to make it stand out a bit more."
   ]
  },
  {
   "cell_type": "code",
   "execution_count": 292,
   "metadata": {},
   "outputs": [],
   "source": [
    "blue   = [( 90, 404), (143, 396), (231, 377), \n",
    "          (310, 342), (367, 276), (402, 188), \n",
    "          (391,  70)]\n",
    "red    = [( 94, 196), (126,  78), (233, 269), \n",
    "          (232, 126), (307,  75), (633, 271)]\n",
    "green  = [(230, 522), (330, 419), (476, 464), \n",
    "          (607, 165), (684, 509), (627,  45), \n",
    "          (720, 175)]\n",
    "purple = [(542, 296), (504, 167), (500, 60), \n",
    "          (620, 400), (720, 437)]\n",
    "\n",
    "size = (800, 600)"
   ]
  },
  {
   "cell_type": "markdown",
   "metadata": {},
   "source": [
    "However, the mouse-over (x,y) was in the wrong coordinate system (origin was at the upper left-hand corner, and we prefer values closer to zero). So we can write a quick function to scale the values:"
   ]
  },
  {
   "cell_type": "code",
   "execution_count": 293,
   "metadata": {},
   "outputs": [],
   "source": [
    "def scale(data, size):\n",
    "    return [(x/size[0],1 - y/size[1]) for (x,y) in data]"
   ]
  },
  {
   "cell_type": "code",
   "execution_count": 294,
   "metadata": {},
   "outputs": [
    {
     "data": {
      "text/plain": [
       "[(0.1125, 0.32666666666666666),\n",
       " (0.17875, 0.33999999999999997),\n",
       " (0.28875, 0.3716666666666667),\n",
       " (0.3875, 0.43000000000000005),\n",
       " (0.45875, 0.54),\n",
       " (0.5025, 0.6866666666666666),\n",
       " (0.48875, 0.8833333333333333)]"
      ]
     },
     "execution_count": 294,
     "metadata": {},
     "output_type": "execute_result"
    }
   ],
   "source": [
    "scale(blue, size)"
   ]
  },
  {
   "cell_type": "markdown",
   "metadata": {},
   "source": [
    "To check to see if this matches the image from the video, let's plot them. First we create a dictionary to map labels to color/shapes for the plot:"
   ]
  },
  {
   "cell_type": "code",
   "execution_count": 295,
   "metadata": {},
   "outputs": [],
   "source": [
    "## \"r\" is red, \"g\" is green, \"b\" is blue, \n",
    "## \"m\" is magenta/purple, and \"o\" means plot a dot\n",
    "symbols = {\"Red\": \"ro\", \"Green\": \"go\", \"Blue\": \"bo\", \"Purple\": \"mo\"}"
   ]
  },
  {
   "cell_type": "code",
   "execution_count": 325,
   "metadata": {},
   "outputs": [
    {
     "data": {
      "image/svg+xml": [
       "<svg height=\"432pt\" version=\"1.1\" viewBox=\"0 0 432 432\" width=\"432pt\" xmlns=\"http://www.w3.org/2000/svg\" xmlns:xlink=\"http://www.w3.org/1999/xlink\">\n",
       " <defs>\n",
       "  <style type=\"text/css\">\n",
       "*{stroke-linecap:butt;stroke-linejoin:round;}\n",
       "  </style>\n",
       " </defs>\n",
       " <g id=\"figure_1\">\n",
       "  <g id=\"patch_1\">\n",
       "   <path d=\"M 0 432  L 432 432  L 432 0  L 0 0  z \" style=\"fill:#ffffff;\"/>\n",
       "  </g>\n",
       "  <g id=\"axes_1\">\n",
       "   <g id=\"patch_2\">\n",
       "    <path d=\"M 54 378  L 388.8 378  L 388.8 51.84  L 54 51.84  z \" style=\"fill:#ffffff;\"/>\n",
       "   </g>\n",
       "   <g id=\"matplotlib.axis_1\">\n",
       "    <g id=\"xtick_1\">\n",
       "     <g id=\"line2d_1\">\n",
       "      <defs>\n",
       "       <path d=\"M 0 0  L 0 3.5  \" id=\"md37ffd344c\" style=\"stroke:#000000;stroke-width:0.8;\"/>\n",
       "      </defs>\n",
       "      <g>\n",
       "       <use style=\"stroke:#000000;stroke-width:0.8;\" x=\"54\" xlink:href=\"#md37ffd344c\" y=\"378\"/>\n",
       "      </g>\n",
       "     </g>\n",
       "     <g id=\"text_1\">\n",
       "      <!-- 0.0 -->\n",
       "      <defs>\n",
       "       <path d=\"M 31.78125 66.40625  Q 24.171875 66.40625 20.328125 58.90625  Q 16.5 51.421875 16.5 36.375  Q 16.5 21.390625 20.328125 13.890625  Q 24.171875 6.390625 31.78125 6.390625  Q 39.453125 6.390625 43.28125 13.890625  Q 47.125 21.390625 47.125 36.375  Q 47.125 51.421875 43.28125 58.90625  Q 39.453125 66.40625 31.78125 66.40625  z M 31.78125 74.21875  Q 44.046875 74.21875 50.515625 64.515625  Q 56.984375 54.828125 56.984375 36.375  Q 56.984375 17.96875 50.515625 8.265625  Q 44.046875 -1.421875 31.78125 -1.421875  Q 19.53125 -1.421875 13.0625 8.265625  Q 6.59375 17.96875 6.59375 36.375  Q 6.59375 54.828125 13.0625 64.515625  Q 19.53125 74.21875 31.78125 74.21875  z \" id=\"DejaVuSans-30\"/>\n",
       "       <path d=\"M 10.6875 12.40625  L 21 12.40625  L 21 0  L 10.6875 0  z \" id=\"DejaVuSans-2e\"/>\n",
       "      </defs>\n",
       "      <g transform=\"translate(46.048437 392.598437)scale(0.1 -0.1)\">\n",
       "       <use xlink:href=\"#DejaVuSans-30\"/>\n",
       "       <use x=\"63.623047\" xlink:href=\"#DejaVuSans-2e\"/>\n",
       "       <use x=\"95.410156\" xlink:href=\"#DejaVuSans-30\"/>\n",
       "      </g>\n",
       "     </g>\n",
       "    </g>\n",
       "    <g id=\"xtick_2\">\n",
       "     <g id=\"line2d_2\">\n",
       "      <g>\n",
       "       <use style=\"stroke:#000000;stroke-width:0.8;\" x=\"120.96\" xlink:href=\"#md37ffd344c\" y=\"378\"/>\n",
       "      </g>\n",
       "     </g>\n",
       "     <g id=\"text_2\">\n",
       "      <!-- 0.2 -->\n",
       "      <defs>\n",
       "       <path d=\"M 19.1875 8.296875  L 53.609375 8.296875  L 53.609375 0  L 7.328125 0  L 7.328125 8.296875  Q 12.9375 14.109375 22.625 23.890625  Q 32.328125 33.6875 34.8125 36.53125  Q 39.546875 41.84375 41.421875 45.53125  Q 43.3125 49.21875 43.3125 52.78125  Q 43.3125 58.59375 39.234375 62.25  Q 35.15625 65.921875 28.609375 65.921875  Q 23.96875 65.921875 18.8125 64.3125  Q 13.671875 62.703125 7.8125 59.421875  L 7.8125 69.390625  Q 13.765625 71.78125 18.9375 73  Q 24.125 74.21875 28.421875 74.21875  Q 39.75 74.21875 46.484375 68.546875  Q 53.21875 62.890625 53.21875 53.421875  Q 53.21875 48.921875 51.53125 44.890625  Q 49.859375 40.875 45.40625 35.40625  Q 44.1875 33.984375 37.640625 27.21875  Q 31.109375 20.453125 19.1875 8.296875  z \" id=\"DejaVuSans-32\"/>\n",
       "      </defs>\n",
       "      <g transform=\"translate(113.008438 392.598437)scale(0.1 -0.1)\">\n",
       "       <use xlink:href=\"#DejaVuSans-30\"/>\n",
       "       <use x=\"63.623047\" xlink:href=\"#DejaVuSans-2e\"/>\n",
       "       <use x=\"95.410156\" xlink:href=\"#DejaVuSans-32\"/>\n",
       "      </g>\n",
       "     </g>\n",
       "    </g>\n",
       "    <g id=\"xtick_3\">\n",
       "     <g id=\"line2d_3\">\n",
       "      <g>\n",
       "       <use style=\"stroke:#000000;stroke-width:0.8;\" x=\"187.92\" xlink:href=\"#md37ffd344c\" y=\"378\"/>\n",
       "      </g>\n",
       "     </g>\n",
       "     <g id=\"text_3\">\n",
       "      <!-- 0.4 -->\n",
       "      <defs>\n",
       "       <path d=\"M 37.796875 64.3125  L 12.890625 25.390625  L 37.796875 25.390625  z M 35.203125 72.90625  L 47.609375 72.90625  L 47.609375 25.390625  L 58.015625 25.390625  L 58.015625 17.1875  L 47.609375 17.1875  L 47.609375 0  L 37.796875 0  L 37.796875 17.1875  L 4.890625 17.1875  L 4.890625 26.703125  z \" id=\"DejaVuSans-34\"/>\n",
       "      </defs>\n",
       "      <g transform=\"translate(179.968438 392.598437)scale(0.1 -0.1)\">\n",
       "       <use xlink:href=\"#DejaVuSans-30\"/>\n",
       "       <use x=\"63.623047\" xlink:href=\"#DejaVuSans-2e\"/>\n",
       "       <use x=\"95.410156\" xlink:href=\"#DejaVuSans-34\"/>\n",
       "      </g>\n",
       "     </g>\n",
       "    </g>\n",
       "    <g id=\"xtick_4\">\n",
       "     <g id=\"line2d_4\">\n",
       "      <g>\n",
       "       <use style=\"stroke:#000000;stroke-width:0.8;\" x=\"254.88\" xlink:href=\"#md37ffd344c\" y=\"378\"/>\n",
       "      </g>\n",
       "     </g>\n",
       "     <g id=\"text_4\">\n",
       "      <!-- 0.6 -->\n",
       "      <defs>\n",
       "       <path d=\"M 33.015625 40.375  Q 26.375 40.375 22.484375 35.828125  Q 18.609375 31.296875 18.609375 23.390625  Q 18.609375 15.53125 22.484375 10.953125  Q 26.375 6.390625 33.015625 6.390625  Q 39.65625 6.390625 43.53125 10.953125  Q 47.40625 15.53125 47.40625 23.390625  Q 47.40625 31.296875 43.53125 35.828125  Q 39.65625 40.375 33.015625 40.375  z M 52.59375 71.296875  L 52.59375 62.3125  Q 48.875 64.0625 45.09375 64.984375  Q 41.3125 65.921875 37.59375 65.921875  Q 27.828125 65.921875 22.671875 59.328125  Q 17.53125 52.734375 16.796875 39.40625  Q 19.671875 43.65625 24.015625 45.921875  Q 28.375 48.1875 33.59375 48.1875  Q 44.578125 48.1875 50.953125 41.515625  Q 57.328125 34.859375 57.328125 23.390625  Q 57.328125 12.15625 50.6875 5.359375  Q 44.046875 -1.421875 33.015625 -1.421875  Q 20.359375 -1.421875 13.671875 8.265625  Q 6.984375 17.96875 6.984375 36.375  Q 6.984375 53.65625 15.1875 63.9375  Q 23.390625 74.21875 37.203125 74.21875  Q 40.921875 74.21875 44.703125 73.484375  Q 48.484375 72.75 52.59375 71.296875  z \" id=\"DejaVuSans-36\"/>\n",
       "      </defs>\n",
       "      <g transform=\"translate(246.928438 392.598437)scale(0.1 -0.1)\">\n",
       "       <use xlink:href=\"#DejaVuSans-30\"/>\n",
       "       <use x=\"63.623047\" xlink:href=\"#DejaVuSans-2e\"/>\n",
       "       <use x=\"95.410156\" xlink:href=\"#DejaVuSans-36\"/>\n",
       "      </g>\n",
       "     </g>\n",
       "    </g>\n",
       "    <g id=\"xtick_5\">\n",
       "     <g id=\"line2d_5\">\n",
       "      <g>\n",
       "       <use style=\"stroke:#000000;stroke-width:0.8;\" x=\"321.84\" xlink:href=\"#md37ffd344c\" y=\"378\"/>\n",
       "      </g>\n",
       "     </g>\n",
       "     <g id=\"text_5\">\n",
       "      <!-- 0.8 -->\n",
       "      <defs>\n",
       "       <path d=\"M 31.78125 34.625  Q 24.75 34.625 20.71875 30.859375  Q 16.703125 27.09375 16.703125 20.515625  Q 16.703125 13.921875 20.71875 10.15625  Q 24.75 6.390625 31.78125 6.390625  Q 38.8125 6.390625 42.859375 10.171875  Q 46.921875 13.96875 46.921875 20.515625  Q 46.921875 27.09375 42.890625 30.859375  Q 38.875 34.625 31.78125 34.625  z M 21.921875 38.8125  Q 15.578125 40.375 12.03125 44.71875  Q 8.5 49.078125 8.5 55.328125  Q 8.5 64.0625 14.71875 69.140625  Q 20.953125 74.21875 31.78125 74.21875  Q 42.671875 74.21875 48.875 69.140625  Q 55.078125 64.0625 55.078125 55.328125  Q 55.078125 49.078125 51.53125 44.71875  Q 48 40.375 41.703125 38.8125  Q 48.828125 37.15625 52.796875 32.3125  Q 56.78125 27.484375 56.78125 20.515625  Q 56.78125 9.90625 50.3125 4.234375  Q 43.84375 -1.421875 31.78125 -1.421875  Q 19.734375 -1.421875 13.25 4.234375  Q 6.78125 9.90625 6.78125 20.515625  Q 6.78125 27.484375 10.78125 32.3125  Q 14.796875 37.15625 21.921875 38.8125  z M 18.3125 54.390625  Q 18.3125 48.734375 21.84375 45.5625  Q 25.390625 42.390625 31.78125 42.390625  Q 38.140625 42.390625 41.71875 45.5625  Q 45.3125 48.734375 45.3125 54.390625  Q 45.3125 60.0625 41.71875 63.234375  Q 38.140625 66.40625 31.78125 66.40625  Q 25.390625 66.40625 21.84375 63.234375  Q 18.3125 60.0625 18.3125 54.390625  z \" id=\"DejaVuSans-38\"/>\n",
       "      </defs>\n",
       "      <g transform=\"translate(313.888438 392.598437)scale(0.1 -0.1)\">\n",
       "       <use xlink:href=\"#DejaVuSans-30\"/>\n",
       "       <use x=\"63.623047\" xlink:href=\"#DejaVuSans-2e\"/>\n",
       "       <use x=\"95.410156\" xlink:href=\"#DejaVuSans-38\"/>\n",
       "      </g>\n",
       "     </g>\n",
       "    </g>\n",
       "    <g id=\"xtick_6\">\n",
       "     <g id=\"line2d_6\">\n",
       "      <g>\n",
       "       <use style=\"stroke:#000000;stroke-width:0.8;\" x=\"388.8\" xlink:href=\"#md37ffd344c\" y=\"378\"/>\n",
       "      </g>\n",
       "     </g>\n",
       "     <g id=\"text_6\">\n",
       "      <!-- 1.0 -->\n",
       "      <defs>\n",
       "       <path d=\"M 12.40625 8.296875  L 28.515625 8.296875  L 28.515625 63.921875  L 10.984375 60.40625  L 10.984375 69.390625  L 28.421875 72.90625  L 38.28125 72.90625  L 38.28125 8.296875  L 54.390625 8.296875  L 54.390625 0  L 12.40625 0  z \" id=\"DejaVuSans-31\"/>\n",
       "      </defs>\n",
       "      <g transform=\"translate(380.848437 392.598437)scale(0.1 -0.1)\">\n",
       "       <use xlink:href=\"#DejaVuSans-31\"/>\n",
       "       <use x=\"63.623047\" xlink:href=\"#DejaVuSans-2e\"/>\n",
       "       <use x=\"95.410156\" xlink:href=\"#DejaVuSans-30\"/>\n",
       "      </g>\n",
       "     </g>\n",
       "    </g>\n",
       "   </g>\n",
       "   <g id=\"matplotlib.axis_2\">\n",
       "    <g id=\"ytick_1\">\n",
       "     <g id=\"line2d_7\">\n",
       "      <defs>\n",
       "       <path d=\"M 0 0  L -3.5 0  \" id=\"md3f5ece53b\" style=\"stroke:#000000;stroke-width:0.8;\"/>\n",
       "      </defs>\n",
       "      <g>\n",
       "       <use style=\"stroke:#000000;stroke-width:0.8;\" x=\"54\" xlink:href=\"#md3f5ece53b\" y=\"378\"/>\n",
       "      </g>\n",
       "     </g>\n",
       "     <g id=\"text_7\">\n",
       "      <!-- 0.0 -->\n",
       "      <g transform=\"translate(31.096875 381.799219)scale(0.1 -0.1)\">\n",
       "       <use xlink:href=\"#DejaVuSans-30\"/>\n",
       "       <use x=\"63.623047\" xlink:href=\"#DejaVuSans-2e\"/>\n",
       "       <use x=\"95.410156\" xlink:href=\"#DejaVuSans-30\"/>\n",
       "      </g>\n",
       "     </g>\n",
       "    </g>\n",
       "    <g id=\"ytick_2\">\n",
       "     <g id=\"line2d_8\">\n",
       "      <g>\n",
       "       <use style=\"stroke:#000000;stroke-width:0.8;\" x=\"54\" xlink:href=\"#md3f5ece53b\" y=\"312.768\"/>\n",
       "      </g>\n",
       "     </g>\n",
       "     <g id=\"text_8\">\n",
       "      <!-- 0.2 -->\n",
       "      <g transform=\"translate(31.096875 316.567219)scale(0.1 -0.1)\">\n",
       "       <use xlink:href=\"#DejaVuSans-30\"/>\n",
       "       <use x=\"63.623047\" xlink:href=\"#DejaVuSans-2e\"/>\n",
       "       <use x=\"95.410156\" xlink:href=\"#DejaVuSans-32\"/>\n",
       "      </g>\n",
       "     </g>\n",
       "    </g>\n",
       "    <g id=\"ytick_3\">\n",
       "     <g id=\"line2d_9\">\n",
       "      <g>\n",
       "       <use style=\"stroke:#000000;stroke-width:0.8;\" x=\"54\" xlink:href=\"#md3f5ece53b\" y=\"247.536\"/>\n",
       "      </g>\n",
       "     </g>\n",
       "     <g id=\"text_9\">\n",
       "      <!-- 0.4 -->\n",
       "      <g transform=\"translate(31.096875 251.335219)scale(0.1 -0.1)\">\n",
       "       <use xlink:href=\"#DejaVuSans-30\"/>\n",
       "       <use x=\"63.623047\" xlink:href=\"#DejaVuSans-2e\"/>\n",
       "       <use x=\"95.410156\" xlink:href=\"#DejaVuSans-34\"/>\n",
       "      </g>\n",
       "     </g>\n",
       "    </g>\n",
       "    <g id=\"ytick_4\">\n",
       "     <g id=\"line2d_10\">\n",
       "      <g>\n",
       "       <use style=\"stroke:#000000;stroke-width:0.8;\" x=\"54\" xlink:href=\"#md3f5ece53b\" y=\"182.304\"/>\n",
       "      </g>\n",
       "     </g>\n",
       "     <g id=\"text_10\">\n",
       "      <!-- 0.6 -->\n",
       "      <g transform=\"translate(31.096875 186.103219)scale(0.1 -0.1)\">\n",
       "       <use xlink:href=\"#DejaVuSans-30\"/>\n",
       "       <use x=\"63.623047\" xlink:href=\"#DejaVuSans-2e\"/>\n",
       "       <use x=\"95.410156\" xlink:href=\"#DejaVuSans-36\"/>\n",
       "      </g>\n",
       "     </g>\n",
       "    </g>\n",
       "    <g id=\"ytick_5\">\n",
       "     <g id=\"line2d_11\">\n",
       "      <g>\n",
       "       <use style=\"stroke:#000000;stroke-width:0.8;\" x=\"54\" xlink:href=\"#md3f5ece53b\" y=\"117.072\"/>\n",
       "      </g>\n",
       "     </g>\n",
       "     <g id=\"text_11\">\n",
       "      <!-- 0.8 -->\n",
       "      <g transform=\"translate(31.096875 120.871219)scale(0.1 -0.1)\">\n",
       "       <use xlink:href=\"#DejaVuSans-30\"/>\n",
       "       <use x=\"63.623047\" xlink:href=\"#DejaVuSans-2e\"/>\n",
       "       <use x=\"95.410156\" xlink:href=\"#DejaVuSans-38\"/>\n",
       "      </g>\n",
       "     </g>\n",
       "    </g>\n",
       "    <g id=\"ytick_6\">\n",
       "     <g id=\"line2d_12\">\n",
       "      <g>\n",
       "       <use style=\"stroke:#000000;stroke-width:0.8;\" x=\"54\" xlink:href=\"#md3f5ece53b\" y=\"51.84\"/>\n",
       "      </g>\n",
       "     </g>\n",
       "     <g id=\"text_12\">\n",
       "      <!-- 1.0 -->\n",
       "      <g transform=\"translate(31.096875 55.639219)scale(0.1 -0.1)\">\n",
       "       <use xlink:href=\"#DejaVuSans-31\"/>\n",
       "       <use x=\"63.623047\" xlink:href=\"#DejaVuSans-2e\"/>\n",
       "       <use x=\"95.410156\" xlink:href=\"#DejaVuSans-30\"/>\n",
       "      </g>\n",
       "     </g>\n",
       "    </g>\n",
       "   </g>\n",
       "   <g id=\"line2d_13\">\n",
       "    <defs>\n",
       "     <path d=\"M 0 3  C 0.795609 3 1.55874 2.683901 2.12132 2.12132  C 2.683901 1.55874 3 0.795609 3 0  C 3 -0.795609 2.683901 -1.55874 2.12132 -2.12132  C 1.55874 -2.683901 0.795609 -3 0 -3  C -0.795609 -3 -1.55874 -2.683901 -2.12132 -2.12132  C -2.683901 -1.55874 -3 -0.795609 -3 0  C -3 0.795609 -2.683901 1.55874 -2.12132 2.12132  C -1.55874 2.683901 -0.795609 3 0 3  z \" id=\"m455f05cb7c\" style=\"stroke:#ff0000;\"/>\n",
       "    </defs>\n",
       "    <g clip-path=\"url(#pafb2ca2b69)\">\n",
       "     <use style=\"fill:#ff0000;stroke:#ff0000;\" x=\"93.339\" xlink:href=\"#m455f05cb7c\" y=\"158.3856\"/>\n",
       "     <use style=\"fill:#ff0000;stroke:#ff0000;\" x=\"106.731\" xlink:href=\"#m455f05cb7c\" y=\"94.2408\"/>\n",
       "     <use style=\"fill:#ff0000;stroke:#ff0000;\" x=\"151.5105\" xlink:href=\"#m455f05cb7c\" y=\"198.0684\"/>\n",
       "     <use style=\"fill:#ff0000;stroke:#ff0000;\" x=\"151.092\" xlink:href=\"#m455f05cb7c\" y=\"120.3336\"/>\n",
       "     <use style=\"fill:#ff0000;stroke:#ff0000;\" x=\"182.4795\" xlink:href=\"#m455f05cb7c\" y=\"92.61\"/>\n",
       "     <use style=\"fill:#ff0000;stroke:#ff0000;\" x=\"318.9105\" xlink:href=\"#m455f05cb7c\" y=\"199.1556\"/>\n",
       "    </g>\n",
       "   </g>\n",
       "   <g id=\"line2d_14\">\n",
       "    <defs>\n",
       "     <path d=\"M 0 3  C 0.795609 3 1.55874 2.683901 2.12132 2.12132  C 2.683901 1.55874 3 0.795609 3 0  C 3 -0.795609 2.683901 -1.55874 2.12132 -2.12132  C 1.55874 -2.683901 0.795609 -3 0 -3  C -0.795609 -3 -1.55874 -2.683901 -2.12132 -2.12132  C -2.683901 -1.55874 -3 -0.795609 -3 0  C -3 0.795609 -2.683901 1.55874 -2.12132 2.12132  C -1.55874 2.683901 -0.795609 3 0 3  z \" id=\"mcfae5c4eac\" style=\"stroke:#008000;\"/>\n",
       "    </defs>\n",
       "    <g clip-path=\"url(#pafb2ca2b69)\">\n",
       "     <use style=\"fill:#008000;stroke:#008000;\" x=\"150.255\" xlink:href=\"#mcfae5c4eac\" y=\"335.5992\"/>\n",
       "     <use style=\"fill:#008000;stroke:#008000;\" x=\"192.105\" xlink:href=\"#mcfae5c4eac\" y=\"279.6084\"/>\n",
       "     <use style=\"fill:#008000;stroke:#008000;\" x=\"253.206\" xlink:href=\"#mcfae5c4eac\" y=\"304.0704\"/>\n",
       "     <use style=\"fill:#008000;stroke:#008000;\" x=\"308.0295\" xlink:href=\"#mcfae5c4eac\" y=\"141.534\"/>\n",
       "     <use style=\"fill:#008000;stroke:#008000;\" x=\"340.254\" xlink:href=\"#mcfae5c4eac\" y=\"328.5324\"/>\n",
       "     <use style=\"fill:#008000;stroke:#008000;\" x=\"316.3995\" xlink:href=\"#mcfae5c4eac\" y=\"76.302\"/>\n",
       "     <use style=\"fill:#008000;stroke:#008000;\" x=\"355.32\" xlink:href=\"#mcfae5c4eac\" y=\"146.97\"/>\n",
       "    </g>\n",
       "   </g>\n",
       "   <g id=\"line2d_15\">\n",
       "    <defs>\n",
       "     <path d=\"M 0 3  C 0.795609 3 1.55874 2.683901 2.12132 2.12132  C 2.683901 1.55874 3 0.795609 3 0  C 3 -0.795609 2.683901 -1.55874 2.12132 -2.12132  C 1.55874 -2.683901 0.795609 -3 0 -3  C -0.795609 -3 -1.55874 -2.683901 -2.12132 -2.12132  C -2.683901 -1.55874 -3 -0.795609 -3 0  C -3 0.795609 -2.683901 1.55874 -2.12132 2.12132  C -1.55874 2.683901 -0.795609 3 0 3  z \" id=\"mede5845b7e\" style=\"stroke:#bf00bf;\"/>\n",
       "    </defs>\n",
       "    <g clip-path=\"url(#pafb2ca2b69)\">\n",
       "     <use style=\"fill:#bf00bf;stroke:#bf00bf;\" x=\"280.827\" xlink:href=\"#mede5845b7e\" y=\"212.7456\"/>\n",
       "     <use style=\"fill:#bf00bf;stroke:#bf00bf;\" x=\"264.924\" xlink:href=\"#mede5845b7e\" y=\"142.6212\"/>\n",
       "     <use style=\"fill:#bf00bf;stroke:#bf00bf;\" x=\"263.25\" xlink:href=\"#mede5845b7e\" y=\"84.456\"/>\n",
       "     <use style=\"fill:#bf00bf;stroke:#bf00bf;\" x=\"313.47\" xlink:href=\"#mede5845b7e\" y=\"269.28\"/>\n",
       "     <use style=\"fill:#bf00bf;stroke:#bf00bf;\" x=\"355.32\" xlink:href=\"#mede5845b7e\" y=\"289.3932\"/>\n",
       "    </g>\n",
       "   </g>\n",
       "   <g id=\"line2d_16\">\n",
       "    <defs>\n",
       "     <path d=\"M 0 3  C 0.795609 3 1.55874 2.683901 2.12132 2.12132  C 2.683901 1.55874 3 0.795609 3 0  C 3 -0.795609 2.683901 -1.55874 2.12132 -2.12132  C 1.55874 -2.683901 0.795609 -3 0 -3  C -0.795609 -3 -1.55874 -2.683901 -2.12132 -2.12132  C -2.683901 -1.55874 -3 -0.795609 -3 0  C -3 0.795609 -2.683901 1.55874 -2.12132 2.12132  C -1.55874 2.683901 -0.795609 3 0 3  z \" id=\"me9a323225b\" style=\"stroke:#0000ff;\"/>\n",
       "    </defs>\n",
       "    <g clip-path=\"url(#pafb2ca2b69)\">\n",
       "     <use style=\"fill:#0000ff;stroke:#0000ff;\" x=\"91.665\" xlink:href=\"#me9a323225b\" y=\"271.4544\"/>\n",
       "     <use style=\"fill:#0000ff;stroke:#0000ff;\" x=\"113.8455\" xlink:href=\"#me9a323225b\" y=\"267.1056\"/>\n",
       "     <use style=\"fill:#0000ff;stroke:#0000ff;\" x=\"150.6735\" xlink:href=\"#me9a323225b\" y=\"256.7772\"/>\n",
       "     <use style=\"fill:#0000ff;stroke:#0000ff;\" x=\"183.735\" xlink:href=\"#me9a323225b\" y=\"237.7512\"/>\n",
       "     <use style=\"fill:#0000ff;stroke:#0000ff;\" x=\"207.5895\" xlink:href=\"#me9a323225b\" y=\"201.8736\"/>\n",
       "     <use style=\"fill:#0000ff;stroke:#0000ff;\" x=\"222.237\" xlink:href=\"#me9a323225b\" y=\"154.0368\"/>\n",
       "     <use style=\"fill:#0000ff;stroke:#0000ff;\" x=\"217.6335\" xlink:href=\"#me9a323225b\" y=\"89.892\"/>\n",
       "    </g>\n",
       "   </g>\n",
       "   <g id=\"patch_3\">\n",
       "    <path d=\"M 54 378  L 54 51.84  \" style=\"fill:none;stroke:#000000;stroke-linecap:square;stroke-linejoin:miter;stroke-width:0.8;\"/>\n",
       "   </g>\n",
       "   <g id=\"patch_4\">\n",
       "    <path d=\"M 388.8 378  L 388.8 51.84  \" style=\"fill:none;stroke:#000000;stroke-linecap:square;stroke-linejoin:miter;stroke-width:0.8;\"/>\n",
       "   </g>\n",
       "   <g id=\"patch_5\">\n",
       "    <path d=\"M 54 378  L 388.8 378  \" style=\"fill:none;stroke:#000000;stroke-linecap:square;stroke-linejoin:miter;stroke-width:0.8;\"/>\n",
       "   </g>\n",
       "   <g id=\"patch_6\">\n",
       "    <path d=\"M 54 51.84  L 388.8 51.84  \" style=\"fill:none;stroke:#000000;stroke-linecap:square;stroke-linejoin:miter;stroke-width:0.8;\"/>\n",
       "   </g>\n",
       "   <g id=\"legend_1\">\n",
       "    <g id=\"patch_7\">\n",
       "     <path d=\"M 61 373  L 124.75625 373  Q 126.75625 373 126.75625 371  L 126.75625 313.2875  Q 126.75625 311.2875 124.75625 311.2875  L 61 311.2875  Q 59 311.2875 59 313.2875  L 59 371  Q 59 373 61 373  z \" style=\"fill:#ffffff;opacity:0.8;stroke:#cccccc;stroke-linejoin:miter;\"/>\n",
       "    </g>\n",
       "    <g id=\"line2d_17\"/>\n",
       "    <g id=\"line2d_18\">\n",
       "     <g>\n",
       "      <use style=\"fill:#ff0000;stroke:#ff0000;\" x=\"73\" xlink:href=\"#m455f05cb7c\" y=\"319.385938\"/>\n",
       "     </g>\n",
       "    </g>\n",
       "    <g id=\"text_13\">\n",
       "     <!-- Red -->\n",
       "     <defs>\n",
       "      <path d=\"M 44.390625 34.1875  Q 47.5625 33.109375 50.5625 29.59375  Q 53.5625 26.078125 56.59375 19.921875  L 66.609375 0  L 56 0  L 46.6875 18.703125  Q 43.0625 26.03125 39.671875 28.421875  Q 36.28125 30.8125 30.421875 30.8125  L 19.671875 30.8125  L 19.671875 0  L 9.8125 0  L 9.8125 72.90625  L 32.078125 72.90625  Q 44.578125 72.90625 50.734375 67.671875  Q 56.890625 62.453125 56.890625 51.90625  Q 56.890625 45.015625 53.6875 40.46875  Q 50.484375 35.9375 44.390625 34.1875  z M 19.671875 64.796875  L 19.671875 38.921875  L 32.078125 38.921875  Q 39.203125 38.921875 42.84375 42.21875  Q 46.484375 45.515625 46.484375 51.90625  Q 46.484375 58.296875 42.84375 61.546875  Q 39.203125 64.796875 32.078125 64.796875  z \" id=\"DejaVuSans-52\"/>\n",
       "      <path d=\"M 56.203125 29.59375  L 56.203125 25.203125  L 14.890625 25.203125  Q 15.484375 15.921875 20.484375 11.0625  Q 25.484375 6.203125 34.421875 6.203125  Q 39.59375 6.203125 44.453125 7.46875  Q 49.3125 8.734375 54.109375 11.28125  L 54.109375 2.78125  Q 49.265625 0.734375 44.1875 -0.34375  Q 39.109375 -1.421875 33.890625 -1.421875  Q 20.796875 -1.421875 13.15625 6.1875  Q 5.515625 13.8125 5.515625 26.8125  Q 5.515625 40.234375 12.765625 48.109375  Q 20.015625 56 32.328125 56  Q 43.359375 56 49.78125 48.890625  Q 56.203125 41.796875 56.203125 29.59375  z M 47.21875 32.234375  Q 47.125 39.59375 43.09375 43.984375  Q 39.0625 48.390625 32.421875 48.390625  Q 24.90625 48.390625 20.390625 44.140625  Q 15.875 39.890625 15.1875 32.171875  z \" id=\"DejaVuSans-65\"/>\n",
       "      <path d=\"M 45.40625 46.390625  L 45.40625 75.984375  L 54.390625 75.984375  L 54.390625 0  L 45.40625 0  L 45.40625 8.203125  Q 42.578125 3.328125 38.25 0.953125  Q 33.9375 -1.421875 27.875 -1.421875  Q 17.96875 -1.421875 11.734375 6.484375  Q 5.515625 14.40625 5.515625 27.296875  Q 5.515625 40.1875 11.734375 48.09375  Q 17.96875 56 27.875 56  Q 33.9375 56 38.25 53.625  Q 42.578125 51.265625 45.40625 46.390625  z M 14.796875 27.296875  Q 14.796875 17.390625 18.875 11.75  Q 22.953125 6.109375 30.078125 6.109375  Q 37.203125 6.109375 41.296875 11.75  Q 45.40625 17.390625 45.40625 27.296875  Q 45.40625 37.203125 41.296875 42.84375  Q 37.203125 48.484375 30.078125 48.484375  Q 22.953125 48.484375 18.875 42.84375  Q 14.796875 37.203125 14.796875 27.296875  z \" id=\"DejaVuSans-64\"/>\n",
       "     </defs>\n",
       "     <g transform=\"translate(91 322.885938)scale(0.1 -0.1)\">\n",
       "      <use xlink:href=\"#DejaVuSans-52\"/>\n",
       "      <use x=\"69.419922\" xlink:href=\"#DejaVuSans-65\"/>\n",
       "      <use x=\"130.943359\" xlink:href=\"#DejaVuSans-64\"/>\n",
       "     </g>\n",
       "    </g>\n",
       "    <g id=\"line2d_19\"/>\n",
       "    <g id=\"line2d_20\">\n",
       "     <g>\n",
       "      <use style=\"fill:#008000;stroke:#008000;\" x=\"73\" xlink:href=\"#mcfae5c4eac\" y=\"334.064062\"/>\n",
       "     </g>\n",
       "    </g>\n",
       "    <g id=\"text_14\">\n",
       "     <!-- Green -->\n",
       "     <defs>\n",
       "      <path d=\"M 59.515625 10.40625  L 59.515625 29.984375  L 43.40625 29.984375  L 43.40625 38.09375  L 69.28125 38.09375  L 69.28125 6.78125  Q 63.578125 2.734375 56.6875 0.65625  Q 49.8125 -1.421875 42 -1.421875  Q 24.90625 -1.421875 15.25 8.5625  Q 5.609375 18.5625 5.609375 36.375  Q 5.609375 54.25 15.25 64.234375  Q 24.90625 74.21875 42 74.21875  Q 49.125 74.21875 55.546875 72.453125  Q 61.96875 70.703125 67.390625 67.28125  L 67.390625 56.78125  Q 61.921875 61.421875 55.765625 63.765625  Q 49.609375 66.109375 42.828125 66.109375  Q 29.4375 66.109375 22.71875 58.640625  Q 16.015625 51.171875 16.015625 36.375  Q 16.015625 21.625 22.71875 14.15625  Q 29.4375 6.6875 42.828125 6.6875  Q 48.046875 6.6875 52.140625 7.59375  Q 56.25 8.5 59.515625 10.40625  z \" id=\"DejaVuSans-47\"/>\n",
       "      <path d=\"M 41.109375 46.296875  Q 39.59375 47.171875 37.8125 47.578125  Q 36.03125 48 33.890625 48  Q 26.265625 48 22.1875 43.046875  Q 18.109375 38.09375 18.109375 28.8125  L 18.109375 0  L 9.078125 0  L 9.078125 54.6875  L 18.109375 54.6875  L 18.109375 46.1875  Q 20.953125 51.171875 25.484375 53.578125  Q 30.03125 56 36.53125 56  Q 37.453125 56 38.578125 55.875  Q 39.703125 55.765625 41.0625 55.515625  z \" id=\"DejaVuSans-72\"/>\n",
       "      <path d=\"M 54.890625 33.015625  L 54.890625 0  L 45.90625 0  L 45.90625 32.71875  Q 45.90625 40.484375 42.875 44.328125  Q 39.84375 48.1875 33.796875 48.1875  Q 26.515625 48.1875 22.3125 43.546875  Q 18.109375 38.921875 18.109375 30.90625  L 18.109375 0  L 9.078125 0  L 9.078125 54.6875  L 18.109375 54.6875  L 18.109375 46.1875  Q 21.34375 51.125 25.703125 53.5625  Q 30.078125 56 35.796875 56  Q 45.21875 56 50.046875 50.171875  Q 54.890625 44.34375 54.890625 33.015625  z \" id=\"DejaVuSans-6e\"/>\n",
       "     </defs>\n",
       "     <g transform=\"translate(91 337.564062)scale(0.1 -0.1)\">\n",
       "      <use xlink:href=\"#DejaVuSans-47\"/>\n",
       "      <use x=\"77.490234\" xlink:href=\"#DejaVuSans-72\"/>\n",
       "      <use x=\"118.572266\" xlink:href=\"#DejaVuSans-65\"/>\n",
       "      <use x=\"180.095703\" xlink:href=\"#DejaVuSans-65\"/>\n",
       "      <use x=\"241.619141\" xlink:href=\"#DejaVuSans-6e\"/>\n",
       "     </g>\n",
       "    </g>\n",
       "    <g id=\"line2d_21\"/>\n",
       "    <g id=\"line2d_22\">\n",
       "     <g>\n",
       "      <use style=\"fill:#bf00bf;stroke:#bf00bf;\" x=\"73\" xlink:href=\"#mede5845b7e\" y=\"348.742188\"/>\n",
       "     </g>\n",
       "    </g>\n",
       "    <g id=\"text_15\">\n",
       "     <!-- Purple -->\n",
       "     <defs>\n",
       "      <path d=\"M 19.671875 64.796875  L 19.671875 37.40625  L 32.078125 37.40625  Q 38.96875 37.40625 42.71875 40.96875  Q 46.484375 44.53125 46.484375 51.125  Q 46.484375 57.671875 42.71875 61.234375  Q 38.96875 64.796875 32.078125 64.796875  z M 9.8125 72.90625  L 32.078125 72.90625  Q 44.34375 72.90625 50.609375 67.359375  Q 56.890625 61.8125 56.890625 51.125  Q 56.890625 40.328125 50.609375 34.8125  Q 44.34375 29.296875 32.078125 29.296875  L 19.671875 29.296875  L 19.671875 0  L 9.8125 0  z \" id=\"DejaVuSans-50\"/>\n",
       "      <path d=\"M 8.5 21.578125  L 8.5 54.6875  L 17.484375 54.6875  L 17.484375 21.921875  Q 17.484375 14.15625 20.5 10.265625  Q 23.53125 6.390625 29.59375 6.390625  Q 36.859375 6.390625 41.078125 11.03125  Q 45.3125 15.671875 45.3125 23.6875  L 45.3125 54.6875  L 54.296875 54.6875  L 54.296875 0  L 45.3125 0  L 45.3125 8.40625  Q 42.046875 3.421875 37.71875 1  Q 33.40625 -1.421875 27.6875 -1.421875  Q 18.265625 -1.421875 13.375 4.4375  Q 8.5 10.296875 8.5 21.578125  z M 31.109375 56  z \" id=\"DejaVuSans-75\"/>\n",
       "      <path d=\"M 18.109375 8.203125  L 18.109375 -20.796875  L 9.078125 -20.796875  L 9.078125 54.6875  L 18.109375 54.6875  L 18.109375 46.390625  Q 20.953125 51.265625 25.265625 53.625  Q 29.59375 56 35.59375 56  Q 45.5625 56 51.78125 48.09375  Q 58.015625 40.1875 58.015625 27.296875  Q 58.015625 14.40625 51.78125 6.484375  Q 45.5625 -1.421875 35.59375 -1.421875  Q 29.59375 -1.421875 25.265625 0.953125  Q 20.953125 3.328125 18.109375 8.203125  z M 48.6875 27.296875  Q 48.6875 37.203125 44.609375 42.84375  Q 40.53125 48.484375 33.40625 48.484375  Q 26.265625 48.484375 22.1875 42.84375  Q 18.109375 37.203125 18.109375 27.296875  Q 18.109375 17.390625 22.1875 11.75  Q 26.265625 6.109375 33.40625 6.109375  Q 40.53125 6.109375 44.609375 11.75  Q 48.6875 17.390625 48.6875 27.296875  z \" id=\"DejaVuSans-70\"/>\n",
       "      <path d=\"M 9.421875 75.984375  L 18.40625 75.984375  L 18.40625 0  L 9.421875 0  z \" id=\"DejaVuSans-6c\"/>\n",
       "     </defs>\n",
       "     <g transform=\"translate(91 352.242188)scale(0.1 -0.1)\">\n",
       "      <use xlink:href=\"#DejaVuSans-50\"/>\n",
       "      <use x=\"60.287109\" xlink:href=\"#DejaVuSans-75\"/>\n",
       "      <use x=\"123.666016\" xlink:href=\"#DejaVuSans-72\"/>\n",
       "      <use x=\"164.779297\" xlink:href=\"#DejaVuSans-70\"/>\n",
       "      <use x=\"228.255859\" xlink:href=\"#DejaVuSans-6c\"/>\n",
       "      <use x=\"256.039062\" xlink:href=\"#DejaVuSans-65\"/>\n",
       "     </g>\n",
       "    </g>\n",
       "    <g id=\"line2d_23\"/>\n",
       "    <g id=\"line2d_24\">\n",
       "     <g>\n",
       "      <use style=\"fill:#0000ff;stroke:#0000ff;\" x=\"73\" xlink:href=\"#me9a323225b\" y=\"363.420313\"/>\n",
       "     </g>\n",
       "    </g>\n",
       "    <g id=\"text_16\">\n",
       "     <!-- Blue -->\n",
       "     <defs>\n",
       "      <path d=\"M 19.671875 34.8125  L 19.671875 8.109375  L 35.5 8.109375  Q 43.453125 8.109375 47.28125 11.40625  Q 51.125 14.703125 51.125 21.484375  Q 51.125 28.328125 47.28125 31.5625  Q 43.453125 34.8125 35.5 34.8125  z M 19.671875 64.796875  L 19.671875 42.828125  L 34.28125 42.828125  Q 41.5 42.828125 45.03125 45.53125  Q 48.578125 48.25 48.578125 53.8125  Q 48.578125 59.328125 45.03125 62.0625  Q 41.5 64.796875 34.28125 64.796875  z M 9.8125 72.90625  L 35.015625 72.90625  Q 46.296875 72.90625 52.390625 68.21875  Q 58.5 63.53125 58.5 54.890625  Q 58.5 48.1875 55.375 44.234375  Q 52.25 40.28125 46.1875 39.3125  Q 53.46875 37.75 57.5 32.78125  Q 61.53125 27.828125 61.53125 20.40625  Q 61.53125 10.640625 54.890625 5.3125  Q 48.25 0 35.984375 0  L 9.8125 0  z \" id=\"DejaVuSans-42\"/>\n",
       "     </defs>\n",
       "     <g transform=\"translate(91 366.920313)scale(0.1 -0.1)\">\n",
       "      <use xlink:href=\"#DejaVuSans-42\"/>\n",
       "      <use x=\"68.603516\" xlink:href=\"#DejaVuSans-6c\"/>\n",
       "      <use x=\"96.386719\" xlink:href=\"#DejaVuSans-75\"/>\n",
       "      <use x=\"159.765625\" xlink:href=\"#DejaVuSans-65\"/>\n",
       "     </g>\n",
       "    </g>\n",
       "   </g>\n",
       "  </g>\n",
       " </g>\n",
       " <defs>\n",
       "  <clipPath id=\"pafb2ca2b69\">\n",
       "   <rect height=\"326.16\" width=\"334.8\" x=\"54\" y=\"51.84\"/>\n",
       "  </clipPath>\n",
       " </defs>\n",
       "</svg>"
      ],
      "text/plain": [
       "<IPython.core.display.SVG object>"
      ]
     },
     "execution_count": 325,
     "metadata": {},
     "output_type": "execute_result"
    }
   ],
   "source": [
    "cx.scatter([[\"Red\", scale(red, size)], \n",
    "            [\"Green\", scale(green, size)],\n",
    "            [\"Purple\", scale(purple, size)],\n",
    "            [\"Blue\", scale(blue, size)]], \n",
    "            symbols=symbols, \n",
    "            xmin=0, xmax=1,\n",
    "            ymin=0, ymax=1)"
   ]
  },
  {
   "cell_type": "markdown",
   "metadata": {},
   "source": [
    "Now we construct a network to learn the task. \n",
    "\n",
    "There are many way to design a network to do classification. In this example, we use a four-unit output layer (one for each classification) and the \"softmax\" activation function. We want to use the \"categorical_crossentropy\" error function to match the \"softmax\" activations. \n",
    "\n",
    "Note: it took about a dozen variations before we found a network that could learn this task. Things to try changing:\n",
    "\n",
    "* optimizer\n",
    "* learning rate and momentum for \"sgd\" optimizer\n",
    "* hidden layer size\n",
    "* hidden layer activation function\n",
    "\n",
    "Also, when training, variations to try:\n",
    "\n",
    "* batch_size\n",
    "\n",
    "Eventually, we find a combination that can learn. There are probably many different combinations that will work. Understanding how the different combinations of meta-parameters effect learning takes some time, experience, and understanding."
   ]
  },
  {
   "cell_type": "code",
   "execution_count": 305,
   "metadata": {},
   "outputs": [],
   "source": [
    "net = cx.Network(\"RGB Classifier\")\n",
    "net.add(cx.Layer(\"input\", 2),\n",
    "        cx.Layer(\"hidden\", 10, activation=\"relu\"),\n",
    "        cx.Layer(\"output\", 4, activation=\"softmax\"))\n",
    "net.connect()\n",
    "net.compile(error=\"categorical_crossentropy\", \n",
    "            optimizer=\"sgd\", lr=0.1, momentum=0.3)"
   ]
  },
  {
   "cell_type": "code",
   "execution_count": 306,
   "metadata": {},
   "outputs": [
    {
     "data": {
      "application/javascript": [
       "\n",
       "require(['base/js/namespace'], function(Jupyter) {\n",
       "    Jupyter.notebook.kernel.comm_manager.register_target('conx_svg_control', function(comm, msg) {\n",
       "        comm.on_msg(function(msg) {\n",
       "            var data = msg[\"content\"][\"data\"];\n",
       "            var images = document.getElementsByClassName(data[\"class\"]);\n",
       "            for (var i = 0; i < images.length; i++) {\n",
       "                if (data[\"href\"]) {\n",
       "                    images[i].setAttributeNS(null, \"href\", data[\"href\"]);\n",
       "                }\n",
       "                if (data[\"src\"]) {\n",
       "                    images[i].setAttributeNS(null, \"src\", data[\"src\"]);\n",
       "                }\n",
       "            }\n",
       "        });\n",
       "    });\n",
       "});\n"
      ],
      "text/plain": [
       "<IPython.core.display.Javascript object>"
      ]
     },
     "metadata": {},
     "output_type": "display_data"
    },
    {
     "data": {
      "text/html": [
       "<svg id='RGB Classifier' xmlns='http://www.w3.org/2000/svg' image-rendering=\"pixelated\" width=\"400.0px\" height=\"297.1428571428571px\">\n",
       " <g >\n",
       "  <svg viewBox=\"0 0 350 260\" width=\"400.0px\" height=\"297.1428571428571px\">\n",
       "    <defs>\n",
       "        <marker id=\"arrow\" markerWidth=\"10\" markerHeight=\"10\" refX=\"9\" refY=\"3\" orient=\"auto\" markerUnits=\"strokeWidth\">\n",
       "          <path d=\"M0,0 L0,6 L9,3 z\" fill=\"black\" />\n",
       "        </marker>\n",
       "    </defs><rect x=\"74.0\" y=\"24\" width=\"202\" height=\"52\" style=\"fill:none;stroke:black;stroke-width:2\"/><image id=\"picture-static-RGB Classifier-852143_output_1\" class=\"picture-static-RGB Classifier-852143_output\" x=\"75.0\" y=\"25\" height=\"50\" width=\"200\" preserveAspectRatio=\"none\" href=\"data:image/gif;base64,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\"><title>Layer: output (output)\n",
       " output range: (0, 1)\n",
       " shape = (4,)\n",
       " Keras class = Dense\n",
       " activation = softmax</title></image><text x=\"280.0\" y=\"52.0\" font-family=\"monospace\" font-size=\"12\" text-anchor=\"start\" fill=\"black\" alignment-baseline=\"central\" >output</text><line x1=\"175.0\" y1=\"104\" x2=\"175.0\" y2=\"77\" stroke=\"black\" stroke-width=\"2\" marker-end=\"url(#arrow)\"><title>Weights from hidden to output\n",
       " output_36/kernel:0 has shape (10, 4)\n",
       " output_36/bias:0 has shape (4,)</title></line><rect x=\"74.0\" y=\"104\" width=\"202\" height=\"52\" style=\"fill:none;stroke:black;stroke-width:2\"/><image id=\"picture-static-RGB Classifier-852143_hidden_2\" class=\"picture-static-RGB Classifier-852143_hidden\" x=\"75.0\" y=\"105\" height=\"50\" width=\"200\" preserveAspectRatio=\"none\" href=\"data:image/gif;base64,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\"><title>Layer: hidden (hidden)\n",
       " output range: (0, +Infinity)\n",
       " shape = (10,)\n",
       " Keras class = Dense\n",
       " activation = relu</title></image><text x=\"280.0\" y=\"132.0\" font-family=\"monospace\" font-size=\"12\" text-anchor=\"start\" fill=\"black\" alignment-baseline=\"central\" >hidden</text><line x1=\"175.0\" y1=\"184\" x2=\"175.0\" y2=\"157\" stroke=\"black\" stroke-width=\"2\" marker-end=\"url(#arrow)\"><title>Weights from input to hidden\n",
       " hidden_36/kernel:0 has shape (2, 10)\n",
       " hidden_36/bias:0 has shape (10,)</title></line><rect x=\"124.0\" y=\"184\" width=\"102\" height=\"52\" style=\"fill:none;stroke:black;stroke-width:2\"/><image id=\"picture-static-RGB Classifier-852143_input_3\" class=\"picture-static-RGB Classifier-852143_input\" x=\"125.0\" y=\"185\" height=\"50\" width=\"100\" preserveAspectRatio=\"none\" href=\"data:image/gif;base64,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\"><title>Layer: input (input)\n",
       " output range: (-Infinity, +Infinity)\n",
       " shape = (2,)\n",
       " Keras class = Input</title></image><text x=\"230.0\" y=\"212.0\" font-family=\"monospace\" font-size=\"12\" text-anchor=\"start\" fill=\"black\" alignment-baseline=\"central\" >input</text><text x=\"175.0\" y=\"12.5\" font-family=\"monospace\" font-size=\"15\" text-anchor=\"middle\" fill=\"black\" alignment-baseline=\"central\" >RGB Classifier</text></svg></g></svg>"
      ],
      "text/plain": [
       "<IPython.core.display.HTML object>"
      ]
     },
     "execution_count": 306,
     "metadata": {},
     "output_type": "execute_result"
    }
   ],
   "source": [
    "net.picture()"
   ]
  },
  {
   "cell_type": "markdown",
   "metadata": {},
   "source": [
    "Now we construct the data for the dataset. We use the cx.onehot() function to assign each label a unique output target."
   ]
  },
  {
   "cell_type": "code",
   "execution_count": 307,
   "metadata": {},
   "outputs": [],
   "source": [
    "ds = ([(inputs, cx.onehot(0, 4), \"Red\") for inputs in scale(red, size)] +\n",
    "      [(inputs, cx.onehot(1, 4), \"Green\") for inputs in scale(green, size)] +\n",
    "      [(inputs, cx.onehot(3, 4), \"Purple\") for inputs in scale(purple, size)] +\n",
    "      [(inputs, cx.onehot(2, 4), \"Blue\") for inputs in scale(blue, size)])"
   ]
  },
  {
   "cell_type": "code",
   "execution_count": 308,
   "metadata": {},
   "outputs": [
    {
     "data": {
      "text/plain": [
       "[((0.1175, 0.6733333333333333), [1, 0, 0, 0], 'Red'),\n",
       " ((0.1575, 0.87), [1, 0, 0, 0], 'Red'),\n",
       " ((0.29125, 0.5516666666666667), [1, 0, 0, 0], 'Red'),\n",
       " ((0.29, 0.79), [1, 0, 0, 0], 'Red'),\n",
       " ((0.38375, 0.875), [1, 0, 0, 0], 'Red'),\n",
       " ((0.79125, 0.5483333333333333), [1, 0, 0, 0], 'Red'),\n",
       " ((0.2875, 0.13), [0, 1, 0, 0], 'Green'),\n",
       " ((0.4125, 0.30166666666666664), [0, 1, 0, 0], 'Green'),\n",
       " ((0.595, 0.22666666666666668), [0, 1, 0, 0], 'Green'),\n",
       " ((0.75875, 0.725), [0, 1, 0, 0], 'Green'),\n",
       " ((0.855, 0.15166666666666662), [0, 1, 0, 0], 'Green'),\n",
       " ((0.78375, 0.925), [0, 1, 0, 0], 'Green'),\n",
       " ((0.9, 0.7083333333333333), [0, 1, 0, 0], 'Green'),\n",
       " ((0.6775, 0.5066666666666666), [0, 0, 0, 1], 'Purple'),\n",
       " ((0.63, 0.7216666666666667), [0, 0, 0, 1], 'Purple'),\n",
       " ((0.625, 0.9), [0, 0, 0, 1], 'Purple'),\n",
       " ((0.775, 0.33333333333333337), [0, 0, 0, 1], 'Purple'),\n",
       " ((0.9, 0.2716666666666666), [0, 0, 0, 1], 'Purple'),\n",
       " ((0.1125, 0.32666666666666666), [0, 0, 1, 0], 'Blue'),\n",
       " ((0.17875, 0.33999999999999997), [0, 0, 1, 0], 'Blue'),\n",
       " ((0.28875, 0.3716666666666667), [0, 0, 1, 0], 'Blue'),\n",
       " ((0.3875, 0.43000000000000005), [0, 0, 1, 0], 'Blue'),\n",
       " ((0.45875, 0.54), [0, 0, 1, 0], 'Blue'),\n",
       " ((0.5025, 0.6866666666666666), [0, 0, 1, 0], 'Blue'),\n",
       " ((0.48875, 0.8833333333333333), [0, 0, 1, 0], 'Blue')]"
      ]
     },
     "execution_count": 308,
     "metadata": {},
     "output_type": "execute_result"
    }
   ],
   "source": [
    "ds"
   ]
  },
  {
   "cell_type": "code",
   "execution_count": 309,
   "metadata": {},
   "outputs": [],
   "source": [
    "net.dataset.load(ds)"
   ]
  },
  {
   "cell_type": "code",
   "execution_count": 310,
   "metadata": {},
   "outputs": [
    {
     "data": {
      "text/plain": [
       "([0.11749999970197678, 0.6733333468437195], [1.0, 0.0, 0.0, 0.0], 'Red')"
      ]
     },
     "execution_count": 310,
     "metadata": {},
     "output_type": "execute_result"
    }
   ],
   "source": [
    "net.dataset.inputs[0], net.dataset.targets[0], net.dataset.labels[0]"
   ]
  },
  {
   "cell_type": "markdown",
   "metadata": {},
   "source": [
    "We use a testing trick: we assign the entire set to be used as validation, and set the use_validation_to_stop criteria to be True. We do this because the accuracy of each pattern is normally computed after each batch, rather than at the end of the epoch (for efficiency). Using use_validation_to_stop=True will use the true accuracy to make sure that we get them all 100% correct."
   ]
  },
  {
   "cell_type": "code",
   "execution_count": 311,
   "metadata": {},
   "outputs": [],
   "source": [
    "net.dataset.split(\"all\")"
   ]
  },
  {
   "cell_type": "code",
   "execution_count": 346,
   "metadata": {},
   "outputs": [
    {
     "data": {
      "image/svg+xml": [
       "<svg height=\"288pt\" version=\"1.1\" viewBox=\"0 0 720 288\" width=\"720pt\" xmlns=\"http://www.w3.org/2000/svg\" xmlns:xlink=\"http://www.w3.org/1999/xlink\">\n",
       " <defs>\n",
       "  <style type=\"text/css\">\n",
       "*{stroke-linecap:butt;stroke-linejoin:round;}\n",
       "  </style>\n",
       " </defs>\n",
       " <g id=\"figure_1\">\n",
       "  <g id=\"patch_1\">\n",
       "   <path d=\"M 0 288  L 720 288  L 720 0  L 0 0  z \" style=\"fill:#ffffff;\"/>\n",
       "  </g>\n",
       "  <g id=\"axes_1\">\n",
       "   <g id=\"patch_2\">\n",
       "    <path d=\"M 90 252  L 343.636364 252  L 343.636364 34.56  L 90 34.56  z \" style=\"fill:#ffffff;\"/>\n",
       "   </g>\n",
       "   <g id=\"matplotlib.axis_1\">\n",
       "    <g id=\"xtick_1\">\n",
       "     <g id=\"line2d_1\">\n",
       "      <defs>\n",
       "       <path d=\"M 0 0  L 0 3.5  \" id=\"m1d57d677bd\" style=\"stroke:#000000;stroke-width:0.8;\"/>\n",
       "      </defs>\n",
       "      <g>\n",
       "       <use style=\"stroke:#000000;stroke-width:0.8;\" x=\"101.528926\" xlink:href=\"#m1d57d677bd\" y=\"252\"/>\n",
       "      </g>\n",
       "     </g>\n",
       "     <g id=\"text_1\">\n",
       "      <!-- 0 -->\n",
       "      <defs>\n",
       "       <path d=\"M 31.78125 66.40625  Q 24.171875 66.40625 20.328125 58.90625  Q 16.5 51.421875 16.5 36.375  Q 16.5 21.390625 20.328125 13.890625  Q 24.171875 6.390625 31.78125 6.390625  Q 39.453125 6.390625 43.28125 13.890625  Q 47.125 21.390625 47.125 36.375  Q 47.125 51.421875 43.28125 58.90625  Q 39.453125 66.40625 31.78125 66.40625  z M 31.78125 74.21875  Q 44.046875 74.21875 50.515625 64.515625  Q 56.984375 54.828125 56.984375 36.375  Q 56.984375 17.96875 50.515625 8.265625  Q 44.046875 -1.421875 31.78125 -1.421875  Q 19.53125 -1.421875 13.0625 8.265625  Q 6.59375 17.96875 6.59375 36.375  Q 6.59375 54.828125 13.0625 64.515625  Q 19.53125 74.21875 31.78125 74.21875  z \" id=\"DejaVuSans-30\"/>\n",
       "      </defs>\n",
       "      <g transform=\"translate(98.347676 266.598437)scale(0.1 -0.1)\">\n",
       "       <use xlink:href=\"#DejaVuSans-30\"/>\n",
       "      </g>\n",
       "     </g>\n",
       "    </g>\n",
       "    <g id=\"xtick_2\">\n",
       "     <g id=\"line2d_2\">\n",
       "      <g>\n",
       "       <use style=\"stroke:#000000;stroke-width:0.8;\" x=\"135.397685\" xlink:href=\"#m1d57d677bd\" y=\"252\"/>\n",
       "      </g>\n",
       "     </g>\n",
       "     <g id=\"text_2\">\n",
       "      <!-- 500 -->\n",
       "      <defs>\n",
       "       <path d=\"M 10.796875 72.90625  L 49.515625 72.90625  L 49.515625 64.59375  L 19.828125 64.59375  L 19.828125 46.734375  Q 21.96875 47.46875 24.109375 47.828125  Q 26.265625 48.1875 28.421875 48.1875  Q 40.625 48.1875 47.75 41.5  Q 54.890625 34.8125 54.890625 23.390625  Q 54.890625 11.625 47.5625 5.09375  Q 40.234375 -1.421875 26.90625 -1.421875  Q 22.3125 -1.421875 17.546875 -0.640625  Q 12.796875 0.140625 7.71875 1.703125  L 7.71875 11.625  Q 12.109375 9.234375 16.796875 8.0625  Q 21.484375 6.890625 26.703125 6.890625  Q 35.15625 6.890625 40.078125 11.328125  Q 45.015625 15.765625 45.015625 23.390625  Q 45.015625 31 40.078125 35.4375  Q 35.15625 39.890625 26.703125 39.890625  Q 22.75 39.890625 18.8125 39.015625  Q 14.890625 38.140625 10.796875 36.28125  z \" id=\"DejaVuSans-35\"/>\n",
       "      </defs>\n",
       "      <g transform=\"translate(125.853935 266.598437)scale(0.1 -0.1)\">\n",
       "       <use xlink:href=\"#DejaVuSans-35\"/>\n",
       "       <use x=\"63.623047\" xlink:href=\"#DejaVuSans-30\"/>\n",
       "       <use x=\"127.246094\" xlink:href=\"#DejaVuSans-30\"/>\n",
       "      </g>\n",
       "     </g>\n",
       "    </g>\n",
       "    <g id=\"xtick_3\">\n",
       "     <g id=\"line2d_3\">\n",
       "      <g>\n",
       "       <use style=\"stroke:#000000;stroke-width:0.8;\" x=\"169.266444\" xlink:href=\"#m1d57d677bd\" y=\"252\"/>\n",
       "      </g>\n",
       "     </g>\n",
       "     <g id=\"text_3\">\n",
       "      <!-- 1000 -->\n",
       "      <defs>\n",
       "       <path d=\"M 12.40625 8.296875  L 28.515625 8.296875  L 28.515625 63.921875  L 10.984375 60.40625  L 10.984375 69.390625  L 28.421875 72.90625  L 38.28125 72.90625  L 38.28125 8.296875  L 54.390625 8.296875  L 54.390625 0  L 12.40625 0  z \" id=\"DejaVuSans-31\"/>\n",
       "      </defs>\n",
       "      <g transform=\"translate(156.541444 266.598437)scale(0.1 -0.1)\">\n",
       "       <use xlink:href=\"#DejaVuSans-31\"/>\n",
       "       <use x=\"63.623047\" xlink:href=\"#DejaVuSans-30\"/>\n",
       "       <use x=\"127.246094\" xlink:href=\"#DejaVuSans-30\"/>\n",
       "       <use x=\"190.869141\" xlink:href=\"#DejaVuSans-30\"/>\n",
       "      </g>\n",
       "     </g>\n",
       "    </g>\n",
       "    <g id=\"xtick_4\">\n",
       "     <g id=\"line2d_4\">\n",
       "      <g>\n",
       "       <use style=\"stroke:#000000;stroke-width:0.8;\" x=\"203.135203\" xlink:href=\"#m1d57d677bd\" y=\"252\"/>\n",
       "      </g>\n",
       "     </g>\n",
       "     <g id=\"text_4\">\n",
       "      <!-- 1500 -->\n",
       "      <g transform=\"translate(190.410203 266.598437)scale(0.1 -0.1)\">\n",
       "       <use xlink:href=\"#DejaVuSans-31\"/>\n",
       "       <use x=\"63.623047\" xlink:href=\"#DejaVuSans-35\"/>\n",
       "       <use x=\"127.246094\" xlink:href=\"#DejaVuSans-30\"/>\n",
       "       <use x=\"190.869141\" xlink:href=\"#DejaVuSans-30\"/>\n",
       "      </g>\n",
       "     </g>\n",
       "    </g>\n",
       "    <g id=\"xtick_5\">\n",
       "     <g id=\"line2d_5\">\n",
       "      <g>\n",
       "       <use style=\"stroke:#000000;stroke-width:0.8;\" x=\"237.003962\" xlink:href=\"#m1d57d677bd\" y=\"252\"/>\n",
       "      </g>\n",
       "     </g>\n",
       "     <g id=\"text_5\">\n",
       "      <!-- 2000 -->\n",
       "      <defs>\n",
       "       <path d=\"M 19.1875 8.296875  L 53.609375 8.296875  L 53.609375 0  L 7.328125 0  L 7.328125 8.296875  Q 12.9375 14.109375 22.625 23.890625  Q 32.328125 33.6875 34.8125 36.53125  Q 39.546875 41.84375 41.421875 45.53125  Q 43.3125 49.21875 43.3125 52.78125  Q 43.3125 58.59375 39.234375 62.25  Q 35.15625 65.921875 28.609375 65.921875  Q 23.96875 65.921875 18.8125 64.3125  Q 13.671875 62.703125 7.8125 59.421875  L 7.8125 69.390625  Q 13.765625 71.78125 18.9375 73  Q 24.125 74.21875 28.421875 74.21875  Q 39.75 74.21875 46.484375 68.546875  Q 53.21875 62.890625 53.21875 53.421875  Q 53.21875 48.921875 51.53125 44.890625  Q 49.859375 40.875 45.40625 35.40625  Q 44.1875 33.984375 37.640625 27.21875  Q 31.109375 20.453125 19.1875 8.296875  z \" id=\"DejaVuSans-32\"/>\n",
       "      </defs>\n",
       "      <g transform=\"translate(224.278962 266.598437)scale(0.1 -0.1)\">\n",
       "       <use xlink:href=\"#DejaVuSans-32\"/>\n",
       "       <use x=\"63.623047\" xlink:href=\"#DejaVuSans-30\"/>\n",
       "       <use x=\"127.246094\" xlink:href=\"#DejaVuSans-30\"/>\n",
       "       <use x=\"190.869141\" xlink:href=\"#DejaVuSans-30\"/>\n",
       "      </g>\n",
       "     </g>\n",
       "    </g>\n",
       "    <g id=\"xtick_6\">\n",
       "     <g id=\"line2d_6\">\n",
       "      <g>\n",
       "       <use style=\"stroke:#000000;stroke-width:0.8;\" x=\"270.872721\" xlink:href=\"#m1d57d677bd\" y=\"252\"/>\n",
       "      </g>\n",
       "     </g>\n",
       "     <g id=\"text_6\">\n",
       "      <!-- 2500 -->\n",
       "      <g transform=\"translate(258.147721 266.598437)scale(0.1 -0.1)\">\n",
       "       <use xlink:href=\"#DejaVuSans-32\"/>\n",
       "       <use x=\"63.623047\" xlink:href=\"#DejaVuSans-35\"/>\n",
       "       <use x=\"127.246094\" xlink:href=\"#DejaVuSans-30\"/>\n",
       "       <use x=\"190.869141\" xlink:href=\"#DejaVuSans-30\"/>\n",
       "      </g>\n",
       "     </g>\n",
       "    </g>\n",
       "    <g id=\"xtick_7\">\n",
       "     <g id=\"line2d_7\">\n",
       "      <g>\n",
       "       <use style=\"stroke:#000000;stroke-width:0.8;\" x=\"304.741481\" xlink:href=\"#m1d57d677bd\" y=\"252\"/>\n",
       "      </g>\n",
       "     </g>\n",
       "     <g id=\"text_7\">\n",
       "      <!-- 3000 -->\n",
       "      <defs>\n",
       "       <path d=\"M 40.578125 39.3125  Q 47.65625 37.796875 51.625 33  Q 55.609375 28.21875 55.609375 21.1875  Q 55.609375 10.40625 48.1875 4.484375  Q 40.765625 -1.421875 27.09375 -1.421875  Q 22.515625 -1.421875 17.65625 -0.515625  Q 12.796875 0.390625 7.625 2.203125  L 7.625 11.71875  Q 11.71875 9.328125 16.59375 8.109375  Q 21.484375 6.890625 26.8125 6.890625  Q 36.078125 6.890625 40.9375 10.546875  Q 45.796875 14.203125 45.796875 21.1875  Q 45.796875 27.640625 41.28125 31.265625  Q 36.765625 34.90625 28.71875 34.90625  L 20.21875 34.90625  L 20.21875 43.015625  L 29.109375 43.015625  Q 36.375 43.015625 40.234375 45.921875  Q 44.09375 48.828125 44.09375 54.296875  Q 44.09375 59.90625 40.109375 62.90625  Q 36.140625 65.921875 28.71875 65.921875  Q 24.65625 65.921875 20.015625 65.03125  Q 15.375 64.15625 9.8125 62.3125  L 9.8125 71.09375  Q 15.4375 72.65625 20.34375 73.4375  Q 25.25 74.21875 29.59375 74.21875  Q 40.828125 74.21875 47.359375 69.109375  Q 53.90625 64.015625 53.90625 55.328125  Q 53.90625 49.265625 50.4375 45.09375  Q 46.96875 40.921875 40.578125 39.3125  z \" id=\"DejaVuSans-33\"/>\n",
       "      </defs>\n",
       "      <g transform=\"translate(292.016481 266.598437)scale(0.1 -0.1)\">\n",
       "       <use xlink:href=\"#DejaVuSans-33\"/>\n",
       "       <use x=\"63.623047\" xlink:href=\"#DejaVuSans-30\"/>\n",
       "       <use x=\"127.246094\" xlink:href=\"#DejaVuSans-30\"/>\n",
       "       <use x=\"190.869141\" xlink:href=\"#DejaVuSans-30\"/>\n",
       "      </g>\n",
       "     </g>\n",
       "    </g>\n",
       "    <g id=\"xtick_8\">\n",
       "     <g id=\"line2d_8\">\n",
       "      <g>\n",
       "       <use style=\"stroke:#000000;stroke-width:0.8;\" x=\"338.61024\" xlink:href=\"#m1d57d677bd\" y=\"252\"/>\n",
       "      </g>\n",
       "     </g>\n",
       "     <g id=\"text_8\">\n",
       "      <!-- 3500 -->\n",
       "      <g transform=\"translate(325.88524 266.598437)scale(0.1 -0.1)\">\n",
       "       <use xlink:href=\"#DejaVuSans-33\"/>\n",
       "       <use x=\"63.623047\" xlink:href=\"#DejaVuSans-35\"/>\n",
       "       <use x=\"127.246094\" xlink:href=\"#DejaVuSans-30\"/>\n",
       "       <use x=\"190.869141\" xlink:href=\"#DejaVuSans-30\"/>\n",
       "      </g>\n",
       "     </g>\n",
       "    </g>\n",
       "    <g id=\"text_9\">\n",
       "     <!-- Epoch -->\n",
       "     <defs>\n",
       "      <path d=\"M 9.8125 72.90625  L 55.90625 72.90625  L 55.90625 64.59375  L 19.671875 64.59375  L 19.671875 43.015625  L 54.390625 43.015625  L 54.390625 34.71875  L 19.671875 34.71875  L 19.671875 8.296875  L 56.78125 8.296875  L 56.78125 0  L 9.8125 0  z \" id=\"DejaVuSans-45\"/>\n",
       "      <path d=\"M 18.109375 8.203125  L 18.109375 -20.796875  L 9.078125 -20.796875  L 9.078125 54.6875  L 18.109375 54.6875  L 18.109375 46.390625  Q 20.953125 51.265625 25.265625 53.625  Q 29.59375 56 35.59375 56  Q 45.5625 56 51.78125 48.09375  Q 58.015625 40.1875 58.015625 27.296875  Q 58.015625 14.40625 51.78125 6.484375  Q 45.5625 -1.421875 35.59375 -1.421875  Q 29.59375 -1.421875 25.265625 0.953125  Q 20.953125 3.328125 18.109375 8.203125  z M 48.6875 27.296875  Q 48.6875 37.203125 44.609375 42.84375  Q 40.53125 48.484375 33.40625 48.484375  Q 26.265625 48.484375 22.1875 42.84375  Q 18.109375 37.203125 18.109375 27.296875  Q 18.109375 17.390625 22.1875 11.75  Q 26.265625 6.109375 33.40625 6.109375  Q 40.53125 6.109375 44.609375 11.75  Q 48.6875 17.390625 48.6875 27.296875  z \" id=\"DejaVuSans-70\"/>\n",
       "      <path d=\"M 30.609375 48.390625  Q 23.390625 48.390625 19.1875 42.75  Q 14.984375 37.109375 14.984375 27.296875  Q 14.984375 17.484375 19.15625 11.84375  Q 23.34375 6.203125 30.609375 6.203125  Q 37.796875 6.203125 41.984375 11.859375  Q 46.1875 17.53125 46.1875 27.296875  Q 46.1875 37.015625 41.984375 42.703125  Q 37.796875 48.390625 30.609375 48.390625  z M 30.609375 56  Q 42.328125 56 49.015625 48.375  Q 55.71875 40.765625 55.71875 27.296875  Q 55.71875 13.875 49.015625 6.21875  Q 42.328125 -1.421875 30.609375 -1.421875  Q 18.84375 -1.421875 12.171875 6.21875  Q 5.515625 13.875 5.515625 27.296875  Q 5.515625 40.765625 12.171875 48.375  Q 18.84375 56 30.609375 56  z \" id=\"DejaVuSans-6f\"/>\n",
       "      <path d=\"M 48.78125 52.59375  L 48.78125 44.1875  Q 44.96875 46.296875 41.140625 47.34375  Q 37.3125 48.390625 33.40625 48.390625  Q 24.65625 48.390625 19.8125 42.84375  Q 14.984375 37.3125 14.984375 27.296875  Q 14.984375 17.28125 19.8125 11.734375  Q 24.65625 6.203125 33.40625 6.203125  Q 37.3125 6.203125 41.140625 7.25  Q 44.96875 8.296875 48.78125 10.40625  L 48.78125 2.09375  Q 45.015625 0.34375 40.984375 -0.53125  Q 36.96875 -1.421875 32.421875 -1.421875  Q 20.0625 -1.421875 12.78125 6.34375  Q 5.515625 14.109375 5.515625 27.296875  Q 5.515625 40.671875 12.859375 48.328125  Q 20.21875 56 33.015625 56  Q 37.15625 56 41.109375 55.140625  Q 45.0625 54.296875 48.78125 52.59375  z \" id=\"DejaVuSans-63\"/>\n",
       "      <path d=\"M 54.890625 33.015625  L 54.890625 0  L 45.90625 0  L 45.90625 32.71875  Q 45.90625 40.484375 42.875 44.328125  Q 39.84375 48.1875 33.796875 48.1875  Q 26.515625 48.1875 22.3125 43.546875  Q 18.109375 38.921875 18.109375 30.90625  L 18.109375 0  L 9.078125 0  L 9.078125 75.984375  L 18.109375 75.984375  L 18.109375 46.1875  Q 21.34375 51.125 25.703125 53.5625  Q 30.078125 56 35.796875 56  Q 45.21875 56 50.046875 50.171875  Q 54.890625 44.34375 54.890625 33.015625  z \" id=\"DejaVuSans-68\"/>\n",
       "     </defs>\n",
       "     <g transform=\"translate(201.507244 280.276563)scale(0.1 -0.1)\">\n",
       "      <use xlink:href=\"#DejaVuSans-45\"/>\n",
       "      <use x=\"63.183594\" xlink:href=\"#DejaVuSans-70\"/>\n",
       "      <use x=\"126.660156\" xlink:href=\"#DejaVuSans-6f\"/>\n",
       "      <use x=\"187.841797\" xlink:href=\"#DejaVuSans-63\"/>\n",
       "      <use x=\"242.822266\" xlink:href=\"#DejaVuSans-68\"/>\n",
       "     </g>\n",
       "    </g>\n",
       "   </g>\n",
       "   <g id=\"matplotlib.axis_2\">\n",
       "    <g id=\"ytick_1\">\n",
       "     <g id=\"line2d_9\">\n",
       "      <defs>\n",
       "       <path d=\"M 0 0  L -3.5 0  \" id=\"m19fa87b5e3\" style=\"stroke:#000000;stroke-width:0.8;\"/>\n",
       "      </defs>\n",
       "      <g>\n",
       "       <use style=\"stroke:#000000;stroke-width:0.8;\" x=\"90\" xlink:href=\"#m19fa87b5e3\" y=\"252\"/>\n",
       "      </g>\n",
       "     </g>\n",
       "     <g id=\"text_10\">\n",
       "      <!-- 0.0 -->\n",
       "      <defs>\n",
       "       <path d=\"M 10.6875 12.40625  L 21 12.40625  L 21 0  L 10.6875 0  z \" id=\"DejaVuSans-2e\"/>\n",
       "      </defs>\n",
       "      <g transform=\"translate(67.096875 255.799219)scale(0.1 -0.1)\">\n",
       "       <use xlink:href=\"#DejaVuSans-30\"/>\n",
       "       <use x=\"63.623047\" xlink:href=\"#DejaVuSans-2e\"/>\n",
       "       <use x=\"95.410156\" xlink:href=\"#DejaVuSans-30\"/>\n",
       "      </g>\n",
       "     </g>\n",
       "    </g>\n",
       "    <g id=\"ytick_2\">\n",
       "     <g id=\"line2d_10\">\n",
       "      <g>\n",
       "       <use style=\"stroke:#000000;stroke-width:0.8;\" x=\"90\" xlink:href=\"#m19fa87b5e3\" y=\"220.280748\"/>\n",
       "      </g>\n",
       "     </g>\n",
       "     <g id=\"text_11\">\n",
       "      <!-- 0.2 -->\n",
       "      <g transform=\"translate(67.096875 224.079967)scale(0.1 -0.1)\">\n",
       "       <use xlink:href=\"#DejaVuSans-30\"/>\n",
       "       <use x=\"63.623047\" xlink:href=\"#DejaVuSans-2e\"/>\n",
       "       <use x=\"95.410156\" xlink:href=\"#DejaVuSans-32\"/>\n",
       "      </g>\n",
       "     </g>\n",
       "    </g>\n",
       "    <g id=\"ytick_3\">\n",
       "     <g id=\"line2d_11\">\n",
       "      <g>\n",
       "       <use style=\"stroke:#000000;stroke-width:0.8;\" x=\"90\" xlink:href=\"#m19fa87b5e3\" y=\"188.561497\"/>\n",
       "      </g>\n",
       "     </g>\n",
       "     <g id=\"text_12\">\n",
       "      <!-- 0.4 -->\n",
       "      <defs>\n",
       "       <path d=\"M 37.796875 64.3125  L 12.890625 25.390625  L 37.796875 25.390625  z M 35.203125 72.90625  L 47.609375 72.90625  L 47.609375 25.390625  L 58.015625 25.390625  L 58.015625 17.1875  L 47.609375 17.1875  L 47.609375 0  L 37.796875 0  L 37.796875 17.1875  L 4.890625 17.1875  L 4.890625 26.703125  z \" id=\"DejaVuSans-34\"/>\n",
       "      </defs>\n",
       "      <g transform=\"translate(67.096875 192.360715)scale(0.1 -0.1)\">\n",
       "       <use xlink:href=\"#DejaVuSans-30\"/>\n",
       "       <use x=\"63.623047\" xlink:href=\"#DejaVuSans-2e\"/>\n",
       "       <use x=\"95.410156\" xlink:href=\"#DejaVuSans-34\"/>\n",
       "      </g>\n",
       "     </g>\n",
       "    </g>\n",
       "    <g id=\"ytick_4\">\n",
       "     <g id=\"line2d_12\">\n",
       "      <g>\n",
       "       <use style=\"stroke:#000000;stroke-width:0.8;\" x=\"90\" xlink:href=\"#m19fa87b5e3\" y=\"156.842245\"/>\n",
       "      </g>\n",
       "     </g>\n",
       "     <g id=\"text_13\">\n",
       "      <!-- 0.6 -->\n",
       "      <defs>\n",
       "       <path d=\"M 33.015625 40.375  Q 26.375 40.375 22.484375 35.828125  Q 18.609375 31.296875 18.609375 23.390625  Q 18.609375 15.53125 22.484375 10.953125  Q 26.375 6.390625 33.015625 6.390625  Q 39.65625 6.390625 43.53125 10.953125  Q 47.40625 15.53125 47.40625 23.390625  Q 47.40625 31.296875 43.53125 35.828125  Q 39.65625 40.375 33.015625 40.375  z M 52.59375 71.296875  L 52.59375 62.3125  Q 48.875 64.0625 45.09375 64.984375  Q 41.3125 65.921875 37.59375 65.921875  Q 27.828125 65.921875 22.671875 59.328125  Q 17.53125 52.734375 16.796875 39.40625  Q 19.671875 43.65625 24.015625 45.921875  Q 28.375 48.1875 33.59375 48.1875  Q 44.578125 48.1875 50.953125 41.515625  Q 57.328125 34.859375 57.328125 23.390625  Q 57.328125 12.15625 50.6875 5.359375  Q 44.046875 -1.421875 33.015625 -1.421875  Q 20.359375 -1.421875 13.671875 8.265625  Q 6.984375 17.96875 6.984375 36.375  Q 6.984375 53.65625 15.1875 63.9375  Q 23.390625 74.21875 37.203125 74.21875  Q 40.921875 74.21875 44.703125 73.484375  Q 48.484375 72.75 52.59375 71.296875  z \" id=\"DejaVuSans-36\"/>\n",
       "      </defs>\n",
       "      <g transform=\"translate(67.096875 160.641464)scale(0.1 -0.1)\">\n",
       "       <use xlink:href=\"#DejaVuSans-30\"/>\n",
       "       <use x=\"63.623047\" xlink:href=\"#DejaVuSans-2e\"/>\n",
       "       <use x=\"95.410156\" xlink:href=\"#DejaVuSans-36\"/>\n",
       "      </g>\n",
       "     </g>\n",
       "    </g>\n",
       "    <g id=\"ytick_5\">\n",
       "     <g id=\"line2d_13\">\n",
       "      <g>\n",
       "       <use style=\"stroke:#000000;stroke-width:0.8;\" x=\"90\" xlink:href=\"#m19fa87b5e3\" y=\"125.122993\"/>\n",
       "      </g>\n",
       "     </g>\n",
       "     <g id=\"text_14\">\n",
       "      <!-- 0.8 -->\n",
       "      <defs>\n",
       "       <path d=\"M 31.78125 34.625  Q 24.75 34.625 20.71875 30.859375  Q 16.703125 27.09375 16.703125 20.515625  Q 16.703125 13.921875 20.71875 10.15625  Q 24.75 6.390625 31.78125 6.390625  Q 38.8125 6.390625 42.859375 10.171875  Q 46.921875 13.96875 46.921875 20.515625  Q 46.921875 27.09375 42.890625 30.859375  Q 38.875 34.625 31.78125 34.625  z M 21.921875 38.8125  Q 15.578125 40.375 12.03125 44.71875  Q 8.5 49.078125 8.5 55.328125  Q 8.5 64.0625 14.71875 69.140625  Q 20.953125 74.21875 31.78125 74.21875  Q 42.671875 74.21875 48.875 69.140625  Q 55.078125 64.0625 55.078125 55.328125  Q 55.078125 49.078125 51.53125 44.71875  Q 48 40.375 41.703125 38.8125  Q 48.828125 37.15625 52.796875 32.3125  Q 56.78125 27.484375 56.78125 20.515625  Q 56.78125 9.90625 50.3125 4.234375  Q 43.84375 -1.421875 31.78125 -1.421875  Q 19.734375 -1.421875 13.25 4.234375  Q 6.78125 9.90625 6.78125 20.515625  Q 6.78125 27.484375 10.78125 32.3125  Q 14.796875 37.15625 21.921875 38.8125  z M 18.3125 54.390625  Q 18.3125 48.734375 21.84375 45.5625  Q 25.390625 42.390625 31.78125 42.390625  Q 38.140625 42.390625 41.71875 45.5625  Q 45.3125 48.734375 45.3125 54.390625  Q 45.3125 60.0625 41.71875 63.234375  Q 38.140625 66.40625 31.78125 66.40625  Q 25.390625 66.40625 21.84375 63.234375  Q 18.3125 60.0625 18.3125 54.390625  z \" id=\"DejaVuSans-38\"/>\n",
       "      </defs>\n",
       "      <g transform=\"translate(67.096875 128.922212)scale(0.1 -0.1)\">\n",
       "       <use xlink:href=\"#DejaVuSans-30\"/>\n",
       "       <use x=\"63.623047\" xlink:href=\"#DejaVuSans-2e\"/>\n",
       "       <use x=\"95.410156\" xlink:href=\"#DejaVuSans-38\"/>\n",
       "      </g>\n",
       "     </g>\n",
       "    </g>\n",
       "    <g id=\"ytick_6\">\n",
       "     <g id=\"line2d_14\">\n",
       "      <g>\n",
       "       <use style=\"stroke:#000000;stroke-width:0.8;\" x=\"90\" xlink:href=\"#m19fa87b5e3\" y=\"93.403741\"/>\n",
       "      </g>\n",
       "     </g>\n",
       "     <g id=\"text_15\">\n",
       "      <!-- 1.0 -->\n",
       "      <g transform=\"translate(67.096875 97.20296)scale(0.1 -0.1)\">\n",
       "       <use xlink:href=\"#DejaVuSans-31\"/>\n",
       "       <use x=\"63.623047\" xlink:href=\"#DejaVuSans-2e\"/>\n",
       "       <use x=\"95.410156\" xlink:href=\"#DejaVuSans-30\"/>\n",
       "      </g>\n",
       "     </g>\n",
       "    </g>\n",
       "    <g id=\"ytick_7\">\n",
       "     <g id=\"line2d_15\">\n",
       "      <g>\n",
       "       <use style=\"stroke:#000000;stroke-width:0.8;\" x=\"90\" xlink:href=\"#m19fa87b5e3\" y=\"61.68449\"/>\n",
       "      </g>\n",
       "     </g>\n",
       "     <g id=\"text_16\">\n",
       "      <!-- 1.2 -->\n",
       "      <g transform=\"translate(67.096875 65.483708)scale(0.1 -0.1)\">\n",
       "       <use xlink:href=\"#DejaVuSans-31\"/>\n",
       "       <use x=\"63.623047\" xlink:href=\"#DejaVuSans-2e\"/>\n",
       "       <use x=\"95.410156\" xlink:href=\"#DejaVuSans-32\"/>\n",
       "      </g>\n",
       "     </g>\n",
       "    </g>\n",
       "   </g>\n",
       "   <g id=\"line2d_16\">\n",
       "    <path clip-path=\"url(#pc59b9bed66)\" d=\"M 101.528926 43.790494  L 101.596663 43.878831  L 102.070826 50.531324  L 102.138563 50.541533  L 102.409513 53.552109  L 102.680463 56.792016  L 103.222364 62.407521  L 103.290101 62.666536  L 103.696526 67.223021  L 104.373901 73.210787  L 104.441639 73.402478  L 105.051277 78.28989  L 105.728652 83.648127  L 105.796389 83.168242  L 105.999602 84.840653  L 106.067339 85.295122  L 106.135077 84.723687  L 106.202814 86.624159  L 106.270552 86.143354  L 106.473764 87.62417  L 106.812452 89.354282  L 106.88019 89.224409  L 107.083402 90.860201  L 107.15114 89.89284  L 107.354352 91.610883  L 107.42209 91.384585  L 107.625302 93.209112  L 107.69304 93.0833  L 107.760777 93.300963  L 107.828515 92.761118  L 107.896252 94.12667  L 107.96399 93.846721  L 108.031727 94.147186  L 108.099465 93.942939  L 108.23494 95.513257  L 108.302677 94.926263  L 108.438152 96.208859  L 108.50589 96.13456  L 108.709103 96.893551  L 108.77684 96.421513  L 108.980053 97.670915  L 109.04779 98.032733  L 109.115528 97.43731  L 109.183265 98.263203  L 109.251003 97.421519  L 109.454215 99.417482  L 109.657428 99.790112  L 109.725165 98.230723  L 109.86064 100.093229  L 109.928378 100.06729  L 110.13159 100.683943  L 110.334803 100.899363  L 110.402541 101.563202  L 110.470278 101.530178  L 110.538016 101.288446  L 110.741228 102.403269  L 110.808966 102.330926  L 110.876703 101.814967  L 110.944441 102.678186  L 111.012178 102.533943  L 111.215391 103.653611  L 111.350866 102.937186  L 111.418603 103.441288  L 111.486341 103.28618  L 111.554078 102.399589  L 111.621816 103.833458  L 111.689553 103.622306  L 111.757291 102.227917  L 111.825028 104.445558  L 111.892766 104.346214  L 111.960503 105.027989  L 112.028241 104.699274  L 112.095978 104.613282  L 112.163716 105.470751  L 112.231454 105.116411  L 112.299191 105.702666  L 112.366929 105.593058  L 112.434666 105.208109  L 112.502404 106.214544  L 112.570141 105.745164  L 112.637879 106.146394  L 112.705616 106.009367  L 112.976566 106.477562  L 113.112041 106.081325  L 113.179779 106.890468  L 113.247516 105.810888  L 113.315254 106.014037  L 113.518466 107.698195  L 113.586204 107.530793  L 113.653941 107.646062  L 113.721679 107.593676  L 113.789416 106.905432  L 113.857154 107.733978  L 113.924891 106.884315  L 114.060367 108.083673  L 114.128104 107.447129  L 114.195842 108.19659  L 114.263579 107.819169  L 114.331317 107.541505  L 114.399054 108.896649  L 114.466792 108.101484  L 114.670004 109.229818  L 114.873217 108.465432  L 114.940954 109.603855  L 115.144167 107.686549  L 115.279642 110.107588  L 115.415117 107.865444  L 115.482854 110.085717  L 115.550592 109.285675  L 115.618329 110.474461  L 115.686067 109.061526  L 115.753804 109.965463  L 115.821542 109.588745  L 116.024755 110.924168  L 116.16023 110.889882  L 116.227967 110.225313  L 116.295705 110.746843  L 116.363442 109.989949  L 116.43118 110.376899  L 116.634392 111.854788  L 116.70213 110.895047  L 116.769867 111.617202  L 116.837605 110.946191  L 116.905342 112.210755  L 116.97308 111.461478  L 117.040817 111.895763  L 117.108555 110.799381  L 117.24403 112.659575  L 117.311767 112.691417  L 117.379505 111.784265  L 117.582717 112.917619  L 117.650455 112.180115  L 117.718193 113.091425  L 117.78593 111.953599  L 117.853668 112.75299  L 117.921405 111.948397  L 118.05688 113.530827  L 118.124618 112.995488  L 118.192355 112.695537  L 118.260093 113.484359  L 118.32783 112.445921  L 118.395568 112.914952  L 118.463305 112.686027  L 118.59878 114.047535  L 118.666518 113.31345  L 118.734255 114.210036  L 118.801993 113.399961  L 118.86973 114.189748  L 118.937468 112.3451  L 119.072943 114.439583  L 119.276155 114.848686  L 119.41163 114.477863  L 119.479368 115.035715  L 119.547105 114.600261  L 119.614843 115.569351  L 119.750318 114.204071  L 119.953531 115.160943  L 120.021268 113.955325  L 120.089006 116.050514  L 120.156743 115.708083  L 120.224481 115.497081  L 120.292218 116.06001  L 120.427693 114.653905  L 120.495431 115.228531  L 120.563168 116.041433  L 120.630906 114.502821  L 120.766381 116.73097  L 120.834118 116.00982  L 120.901856 116.017219  L 120.969593 116.125555  L 121.172806 115.868497  L 121.240543 114.934826  L 121.308281 116.482017  L 121.376018 114.627033  L 121.579231 117.623106  L 121.646969 115.556653  L 121.782444 117.161698  L 121.850181 116.780791  L 121.917919 116.862734  L 121.985656 117.494825  L 122.053394 117.078716  L 122.188869 117.508583  L 122.256606 116.514054  L 122.324344 117.547317  L 122.392081 115.972944  L 122.459819 118.043382  L 122.527556 116.889209  L 122.663031 117.748017  L 122.866244 116.261982  L 122.933981 117.949261  L 123.001719 117.870268  L 123.137194 115.575506  L 123.204931 118.443212  L 123.272669 117.387228  L 123.340407 116.836204  L 123.408144 118.749988  L 123.475882 118.474604  L 123.543619 118.609035  L 123.611357 117.903952  L 123.679094 119.08788  L 123.746832 119.043251  L 123.882307 119.743132  L 124.017782 116.282498  L 124.085519 119.228826  L 124.153257 118.337457  L 124.220994 118.32108  L 124.424207 119.950579  L 124.491944 118.479666  L 124.559682 120.127832  L 124.627419 119.176662  L 124.695157 120.058732  L 124.762894 119.883316  L 124.830632 119.753749  L 124.898369 120.153801  L 124.966107 119.018162  L 125.033844 120.195327  L 125.101582 119.692826  L 125.16932 120.08069  L 125.237057 119.681517  L 125.304795 120.751456  L 125.372532 120.553338  L 125.44027 120.871445  L 125.643482 119.71179  L 125.71122 121.092817  L 125.778957 118.117378  L 125.846695 120.99758  L 125.914432 119.829386  L 126.049907 120.357036  L 126.117645 120.990072  L 126.185382 120.276259  L 126.25312 121.571608  L 126.320857 120.941702  L 126.388595 121.237751  L 126.591807 119.73759  L 126.79502 121.901305  L 126.862757 121.506815  L 126.930495 121.829549  L 126.998233 120.326463  L 127.06597 121.192354  L 127.133708 120.498674  L 127.269183 121.857832  L 127.33692 120.681879  L 127.472395 122.523402  L 127.60787 119.814476  L 127.675608 120.533544  L 127.743345 122.848302  L 127.811083 122.178985  L 127.87882 122.577184  L 127.946558 120.88727  L 128.014295 122.546406  L 128.082033 121.773731  L 128.217508 122.56626  L 128.285245 122.581118  L 128.352983 121.486394  L 128.42072 122.950892  L 128.488458 122.832244  L 128.556195 123.182679  L 128.623933 122.088653  L 128.69167 123.711395  L 128.759408 121.929519  L 128.827146 123.632526  L 128.894883 123.486389  L 128.962621 124.025696  L 129.030358 121.794984  L 129.098096 122.072929  L 129.165833 123.858755  L 129.233571 123.437051  L 129.301308 124.216315  L 129.369046 122.445061  L 129.436783 122.736021  L 129.504521 124.132513  L 129.572258 123.428535  L 129.639996 124.472966  L 129.707733 122.231628  L 129.775471 122.767969  L 130.046421 124.578225  L 130.114158 124.446087  L 130.181896 123.972399  L 130.385108 125.123452  L 130.452846 121.535356  L 130.520583 124.206887  L 130.588321 123.557589  L 130.656059 123.519233  L 130.859271 125.425205  L 130.994746 124.377298  L 131.197959 125.902277  L 131.265696 125.274902  L 131.333434 125.494162  L 131.401171 125.971333  L 131.468909 124.481064  L 131.536646 124.678743  L 131.604384 124.124755  L 131.739859 125.385409  L 131.807596 125.435804  L 131.875334 125.719965  L 131.943071 122.420634  L 132.146284 126.170264  L 132.214021 124.57725  L 132.281759 125.420217  L 132.417234 125.376895  L 132.552709 126.435982  L 132.688184 124.451113  L 132.755922 124.784652  L 132.823659 124.70392  L 132.891397 124.937993  L 132.959134 126.527953  L 133.026872 125.627332  L 133.094609 126.243955  L 133.230084 124.434638  L 133.297822 126.966837  L 133.365559 125.865237  L 133.433297 124.479024  L 133.568772 126.967965  L 133.636509 127.746167  L 133.704247 127.382081  L 133.771984 124.524173  L 133.839722 126.491606  L 133.907459 126.212007  L 133.975197 125.439357  L 134.042934 127.825873  L 134.110672 127.125188  L 134.246147 128.342627  L 134.381622 127.85954  L 134.517097 128.459942  L 134.584835 126.873812  L 134.652572 127.526518  L 134.72031 128.110403  L 134.788047 126.912812  L 134.855785 127.597442  L 134.923522 128.177475  L 134.99126 128.056846  L 135.058997 128.104555  L 135.126735 127.546451  L 135.194472 125.856993  L 135.26221 128.648377  L 135.329947 128.040856  L 135.397685 127.698103  L 135.465422 126.512575  L 135.53316 128.713292  L 135.600897 126.261457  L 135.668635 126.84015  L 135.736372 127.462324  L 135.80411 127.157932  L 135.871847 126.408789  L 135.939585 124.380948  L 136.007322 128.918662  L 136.07506 128.526331  L 136.142797 129.479491  L 136.210535 128.962577  L 136.278273 128.487855  L 136.34601 128.920956  L 136.413748 128.845404  L 136.549223 127.384702  L 136.61696 128.889871  L 136.684698 128.518783  L 136.820173 129.631462  L 136.88791 128.45454  L 136.955648 128.984314  L 137.023385 129.200394  L 137.091123 130.132522  L 137.294335 128.233365  L 137.362073 122.270096  L 137.497548 130.050015  L 137.768498 129.770448  L 137.903973 128.332145  L 137.97171 128.523136  L 138.039448 129.589806  L 138.107186 129.405656  L 138.174923 129.24947  L 138.242661 131.061424  L 138.310398 129.907986  L 138.378136 130.785359  L 138.445873 129.61501  L 138.513611 130.923546  L 138.581348 130.114935  L 138.649086 130.362759  L 138.784561 128.755102  L 138.852298 129.069854  L 138.987773 130.771554  L 139.055511 129.635723  L 139.123248 131.61603  L 139.190986 128.139575  L 139.258723 128.939108  L 139.326461 131.566718  L 139.394198 130.104716  L 139.461936 130.312806  L 139.665148 132.110862  L 139.732886 130.077769  L 139.800623 130.549869  L 139.868361 130.474551  L 140.003836 131.425742  L 140.071574 131.115664  L 140.274786 126.464502  L 140.410261 131.693645  L 140.477999 130.010596  L 140.681211 129.148763  L 140.816686 131.790323  L 140.952161 130.658374  L 141.019899 132.343986  L 141.087636 131.717894  L 141.155374 130.012271  L 141.223111 131.057268  L 141.358586 132.951698  L 141.494061 131.230035  L 141.561799 131.555019  L 141.697274 129.543791  L 141.968224 132.921984  L 142.035962 132.507599  L 142.103699 133.119894  L 142.239174 131.034629  L 142.306912 131.291807  L 142.374649 132.021801  L 142.442387 126.841778  L 142.510124 130.152471  L 142.577862 131.571956  L 142.645599 128.131654  L 142.713337 133.06577  L 142.781074 132.54782  L 142.916549 132.123964  L 143.052024 133.676502  L 143.119762 133.741981  L 143.187499 131.873021  L 143.255237 132.685319  L 143.322974 134.557882  L 143.390712 134.145133  L 143.458449 129.115477  L 143.593925 133.482397  L 143.661662 133.066815  L 143.7294 133.175283  L 143.797137 133.344481  L 143.864875 132.853933  L 143.932612 130.990775  L 144.00035 133.937444  L 144.068087 131.90652  L 144.203562 134.859288  L 144.2713 133.668276  L 144.406775 134.793919  L 144.474512 130.979775  L 144.54225 132.600521  L 144.677725 135.013793  L 144.8132 131.724411  L 144.880937 134.679714  L 144.948675 132.945891  L 145.016412 135.201071  L 145.219625 131.90991  L 145.287362 133.544631  L 145.3551 133.123092  L 145.422837 133.924022  L 145.490575 131.294812  L 145.558313 134.91345  L 145.62605 132.409125  L 145.693788 135.479669  L 145.761525 135.082703  L 145.829263 135.653452  L 145.897 135.568865  L 146.032475 132.605832  L 146.100213 135.093116  L 146.16795 132.831729  L 146.235688 133.562274  L 146.303425 134.730499  L 146.371163 134.406729  L 146.506638 135.551667  L 146.574375 135.133105  L 146.70985 133.321547  L 146.913063 136.361049  L 146.9808 136.525414  L 147.048538 135.396594  L 147.116275 136.873276  L 147.184013 135.959076  L 147.25175 132.689703  L 147.319488 136.323264  L 147.387226 132.995825  L 147.522701 136.398748  L 147.590438 135.006734  L 147.658176 135.913954  L 147.725913 132.821182  L 147.861388 136.107488  L 147.929126 135.875579  L 147.996863 137.01801  L 148.064601 136.783964  L 148.132338 137.215197  L 148.267813 132.32529  L 148.335551 134.262345  L 148.403288 136.944065  L 148.471026 136.617807  L 148.538763 134.261966  L 148.606501 134.833004  L 148.741976 136.878545  L 148.809713 136.127921  L 148.877451 135.083271  L 148.945188 135.402038  L 149.148401 136.231363  L 149.283876 133.67009  L 149.419351 137.400986  L 149.487089 135.812321  L 149.554826 136.399957  L 149.622564 135.206301  L 149.690301 138.31465  L 149.758039 134.03919  L 149.825776 137.366219  L 149.893514 137.248611  L 149.961251 138.292403  L 150.028989 138.029365  L 150.096726 138.5062  L 150.299939 133.437161  L 150.367676 136.950873  L 150.435414 136.137692  L 150.570889 138.295476  L 150.638626 136.634019  L 150.706364 137.874102  L 150.774101 137.320001  L 150.841839 134.832348  L 150.909576 135.76189  L 150.977314 136.44591  L 151.045052 135.657934  L 151.112789 139.140028  L 151.316002 133.934055  L 151.451477 139.635342  L 151.586952 138.88633  L 151.722427 136.410986  L 151.790164 139.326281  L 151.993377 133.456148  L 152.061114 138.876014  L 152.128852 138.713325  L 152.196589 139.364554  L 152.264327 136.929575  L 152.467539 139.707233  L 152.603014 138.351891  L 152.670752 139.779751  L 152.738489 137.119129  L 152.806227 137.921934  L 152.873965 137.23153  L 152.941702 140.038145  L 153.144915 134.575388  L 153.28039 140.357246  L 153.348127 136.245096  L 153.415865 140.47013  L 153.55134 135.908694  L 153.619077 135.806623  L 153.82229 133.87106  L 153.957765 139.641668  L 154.025502 139.581046  L 154.09324 138.472361  L 154.160977 139.242815  L 154.296452 137.659858  L 154.36419 138.596343  L 154.431927 137.315085  L 154.499665 139.940638  L 154.567402 139.033943  L 154.63514 140.226739  L 154.702878 139.615224  L 154.770615 138.97642  L 154.973828 140.535107  L 155.109303 137.484205  L 155.244778 140.537731  L 155.312515 139.689831  L 155.380253 137.467875  L 155.44799 141.546432  L 155.515728 138.479782  L 155.583465 140.217477  L 155.651203 140.220244  L 155.71894 139.465699  L 155.854415 141.398554  L 155.922153 137.043113  L 155.98989 137.49741  L 156.057628 139.976138  L 156.125365 136.5576  L 156.26084 140.403787  L 156.328578 140.260927  L 156.396315 135.520139  L 156.464053 140.381233  L 156.531791 138.281546  L 156.599528 141.477047  L 156.667266 140.246978  L 156.735003 140.825319  L 156.802741 134.393101  L 156.870478 137.88635  L 156.938216 135.362642  L 157.005953 136.779167  L 157.141428 141.615529  L 157.209166 138.355926  L 157.276903 141.426787  L 157.344641 135.929214  L 157.480116 139.886505  L 157.547853 140.349622  L 157.615591 138.617208  L 157.751066 141.882968  L 157.818803 136.52367  L 157.886541 140.887113  L 157.954278 140.658567  L 158.022016 140.439266  L 158.089753 139.099043  L 158.157491 139.464381  L 158.225228 140.798597  L 158.292966 140.259798  L 158.360703 136.753119  L 158.428441 137.559004  L 158.496179 142.07516  L 158.563916 139.200075  L 158.699391 136.823818  L 158.767129 142.403108  L 158.834866 141.754657  L 158.902604 141.020991  L 159.038079 142.437347  L 159.105816 137.924414  L 159.309029 143.134305  L 159.376766 136.624937  L 159.444504 139.683044  L 159.512241 138.639504  L 159.579979 138.9816  L 159.647716 142.328196  L 159.715454 141.198613  L 159.783191 139.666427  L 159.850929 140.511606  L 159.918666 141.425114  L 159.986404 139.014445  L 160.121879 142.910289  L 160.189616 141.571621  L 160.257354 141.969699  L 160.325092 143.24606  L 160.392829 143.115924  L 160.460567 141.03593  L 160.528304 141.541449  L 160.596042 141.104403  L 160.663779 132.646421  L 160.731517 135.55405  L 160.799254 143.080338  L 160.866992 141.204779  L 160.934729 138.705628  L 161.137942 142.480148  L 161.205679 141.60923  L 161.273417 142.25632  L 161.341154 141.411463  L 161.408892 138.74605  L 161.476629 142.36237  L 161.544367 140.088725  L 161.612104 141.462791  L 161.679842 138.285241  L 161.747579 142.662694  L 161.815317 139.948312  L 161.883054 140.738496  L 161.950792 143.365619  L 162.018529 140.500129  L 162.086267 142.932083  L 162.154005 140.197574  L 162.221742 142.916061  L 162.28948 139.805912  L 162.357217 140.233949  L 162.424955 139.940398  L 162.56043 143.898504  L 162.695905 141.49828  L 162.763642 143.756825  L 162.83138 142.73797  L 162.966855 144.19163  L 163.034592 142.772738  L 163.10233 144.231452  L 163.237805 140.827259  L 163.305542 143.357739  L 163.37328 142.205123  L 163.441017 141.276807  L 163.576492 144.510632  L 163.64423 144.31839  L 163.711967 144.668004  L 163.779705 140.124977  L 163.91518 143.346701  L 163.982918 143.52576  L 164.050655 143.359869  L 164.118393 139.810686  L 164.321605 144.464136  L 164.524818 140.503952  L 164.592555 141.591989  L 164.660293 145.026544  L 164.72803 141.582525  L 164.795768 144.73599  L 164.863505 143.963318  L 164.931243 144.392341  L 164.99898 142.298463  L 165.066718 142.511606  L 165.26993 144.875345  L 165.337668 144.422424  L 165.405405 144.996558  L 165.608618 143.501927  L 165.744093 144.812219  L 165.879568 143.856209  L 165.947306 145.885189  L 166.082781 142.938187  L 166.150518 144.632526  L 166.285993 140.44681  L 166.353731 145.754  L 166.421468 142.984053  L 166.489206 144.131829  L 166.556943 141.391671  L 166.624681 144.694548  L 166.692418 142.770612  L 166.827893 145.59982  L 166.895631 141.89981  L 166.963368 144.418034  L 167.031106 142.415309  L 167.098843 144.535832  L 167.166581 143.224493  L 167.234318 144.872733  L 167.302056 144.808508  L 167.369793 141.320687  L 167.505268 146.089243  L 167.640744 142.742297  L 167.708481 144.64783  L 167.776219 142.895407  L 167.843956 145.578873  L 167.911694 142.038284  L 167.979431 145.689717  L 168.047169 144.731778  L 168.114906 144.15401  L 168.182644 142.22271  L 168.385856 146.757703  L 168.521331 143.002861  L 168.589069 145.71602  L 168.656806 144.70019  L 168.724544 141.62749  L 168.860019 146.245378  L 168.927756 144.150232  L 168.995494 144.492241  L 169.063231 145.297269  L 169.198706 141.454226  L 169.266444 146.163592  L 169.334181 143.391894  L 169.469657 144.267937  L 169.537394 146.965117  L 169.605132 139.693282  L 169.672869 140.874202  L 169.808344 145.931056  L 169.943819 139.982831  L 170.011557 146.57237  L 170.079294 145.326861  L 170.282507 146.499336  L 170.350244 146.076709  L 170.417982 147.056627  L 170.485719 146.755809  L 170.553457 145.898914  L 170.621194 143.05834  L 170.688932 146.054326  L 170.756669 140.373228  L 170.824407 143.502947  L 170.892144 144.860038  L 171.095357 142.129784  L 171.29857 147.905618  L 171.366307 145.814452  L 171.434045 146.458972  L 171.501782 146.501201  L 171.56952 146.880056  L 171.637257 144.116773  L 171.772732 147.080365  L 171.84047 146.35092  L 171.908207 142.651839  L 172.043682 147.104639  L 172.11142 147.486802  L 172.179157 146.845793  L 172.246895 147.573361  L 172.517845 143.413585  L 172.585582 146.810205  L 172.721057 140.445735  L 172.788795 146.764536  L 172.856532 146.749641  L 172.92427 145.469158  L 173.059745 148.669428  L 173.19522 145.830184  L 173.262958 147.447691  L 173.330695 145.204908  L 173.398433 146.490844  L 173.46617 147.124932  L 173.533908 146.543485  L 173.601645 141.637098  L 173.804858 148.781563  L 173.940333 145.316362  L 174.00807 148.409926  L 174.075808 146.387921  L 174.143545 148.821166  L 174.211283 148.025206  L 174.27902 148.464033  L 174.346758 146.480242  L 174.414495 147.612089  L 174.617708 149.043306  L 174.685445 146.51033  L 174.753183 147.904972  L 174.82092 148.567872  L 174.888658 148.247845  L 174.956395 147.251884  L 175.024133 148.563439  L 175.091871 148.547659  L 175.159608 145.601466  L 175.295083 149.870526  L 175.498296 141.286919  L 175.566033 145.884879  L 175.633771 144.445204  L 175.701508 145.684543  L 175.769246 149.049444  L 175.836983 147.343602  L 175.904721 149.929132  L 175.972458 148.709992  L 176.107933 147.079289  L 176.243408 148.751871  L 176.446621 145.226162  L 176.514358 144.95651  L 176.582096 140.698025  L 176.649833 148.187114  L 176.717571 146.568953  L 176.785308 149.909616  L 176.920784 146.961637  L 176.988521 148.465717  L 177.056259 148.290371  L 177.191734 145.729487  L 177.327209 148.364935  L 177.394946 148.449868  L 177.462684 149.83788  L 177.598159 144.672481  L 177.665896 149.841497  L 177.733634 148.692389  L 177.801371 143.859952  L 177.869109 148.488874  L 177.936846 148.125907  L 178.072321 150.82245  L 178.140059 150.705538  L 178.275534 147.954631  L 178.343271 146.231577  L 178.478746 149.974602  L 178.681959 146.625978  L 178.749697 149.82325  L 178.817434 147.778704  L 178.952909 149.910793  L 179.020647 148.045507  L 179.088384 150.96461  L 179.156122 149.146127  L 179.223859 150.272154  L 179.291597 147.300937  L 179.359334 148.401603  L 179.494809 144.67479  L 179.562547 148.458299  L 179.630284 147.932214  L 179.698022 147.683083  L 179.765759 146.434277  L 179.833497 150.584918  L 179.901234 148.925387  L 179.968972 149.456391  L 180.172184 142.858238  L 180.239922 143.555136  L 180.307659 150.888694  L 180.375397 150.52558  L 180.443134 148.863498  L 180.510872 149.869566  L 180.646347 148.673048  L 180.781822 150.610384  L 180.917297 147.825252  L 180.985035 149.723106  L 181.052772 148.857279  L 181.12051 149.174359  L 181.188247 148.489402  L 181.39146 150.411359  L 181.526935 148.46627  L 181.730147 151.31733  L 181.797885 150.431707  L 181.865622 151.369203  L 181.93336 148.887432  L 182.001097 150.73685  L 182.068835 149.330792  L 182.20431 151.677597  L 182.339785 150.399466  L 182.407523 150.362809  L 182.47526 147.030905  L 182.678473 151.206416  L 182.74621 151.765661  L 182.813948 150.807631  L 182.881685 146.761447  L 182.949423 147.559394  L 183.01716 147.407486  L 183.084898 147.488241  L 183.152635 151.437747  L 183.220373 146.519972  L 183.28811 148.929918  L 183.355848 150.947453  L 183.423585 149.398067  L 183.55906 151.94793  L 183.626798 151.187255  L 183.694535 148.149848  L 183.83001 151.577132  L 183.965485 151.210899  L 184.10096 145.765846  L 184.168698 151.210098  L 184.236436 148.537902  L 184.304173 148.075213  L 184.371911 151.474758  L 184.439648 144.867658  L 184.507386 151.461746  L 184.575123 147.89768  L 184.642861 150.722626  L 184.710598 149.361076  L 184.778336 145.757726  L 184.981548 152.005028  L 185.184761 148.877377  L 185.252498 151.986705  L 185.320236 150.703962  L 185.387973 150.169903  L 185.455711 147.393809  L 185.591186 151.90977  L 185.658923 151.156927  L 185.726661 150.469959  L 185.794398 151.313947  L 185.862136 151.213482  L 185.929873 149.507453  L 185.997611 151.985941  L 186.133086 144.008531  L 186.200824 148.737396  L 186.268561 148.570928  L 186.336299 152.364402  L 186.471774 147.940381  L 186.539511 151.288707  L 186.607249 150.937104  L 186.674986 151.809105  L 186.742724 151.350476  L 186.810461 151.503109  L 186.878199 147.776943  L 186.945936 148.634364  L 187.013674 150.719355  L 187.149149 144.495093  L 187.216886 151.447982  L 187.284624 151.194904  L 187.352361 149.413235  L 187.420099 151.080105  L 187.487836 145.452734  L 187.623311 150.623537  L 187.691049 150.22893  L 187.826524 147.02632  L 188.029737 152.31881  L 188.300687 149.361761  L 188.368424 151.175957  L 188.436162 149.415383  L 188.503899 149.736202  L 188.571637 150.421151  L 188.639374 153.366372  L 188.774849 149.948814  L 188.842587 140.42154  L 188.910324 150.421452  L 188.978062 145.071616  L 189.045799 152.643  L 189.113537 149.790142  L 189.181274 151.388319  L 189.249012 144.995813  L 189.316749 147.01521  L 189.384487 153.530753  L 189.452224 152.214229  L 189.519962 152.057211  L 189.587699 149.197095  L 189.790912 153.112131  L 189.85865 153.000969  L 189.994125 150.532261  L 190.061862 146.291843  L 190.197337 152.929748  L 190.265075 152.718527  L 190.40055 151.004406  L 190.468287 153.319098  L 190.536025 146.053388  L 190.603762 150.21369  L 190.6715 149.686061  L 190.739237 152.824182  L 190.806975 149.853666  L 190.874712 150.560708  L 191.010187 153.067341  L 191.281137 149.726419  L 191.348875 150.424126  L 191.416612 153.524338  L 191.552087 148.617515  L 191.619825 153.467139  L 191.687563 152.594157  L 191.823038 151.785783  L 191.890775 152.894562  L 191.958513 151.286372  L 192.02625 151.345284  L 192.161725 154.076735  L 192.364938 148.875059  L 192.432675 153.261919  L 192.500413 151.604226  L 192.703625 150.100707  L 192.771363 150.041388  L 192.906838 153.02472  L 192.974575 152.081599  L 193.042313 148.037043  L 193.11005 154.061377  L 193.177788 150.560121  L 193.245525 152.362908  L 193.381 148.366834  L 193.448738 152.308132  L 193.516476 148.432857  L 193.584213 152.880896  L 193.651951 151.030652  L 193.719688 153.363428  L 193.787426 149.861739  L 193.855163 151.857225  L 193.922901 152.82586  L 193.990638 152.72651  L 194.126113 150.838876  L 194.193851 154.338622  L 194.261588 153.373599  L 194.397063 154.871388  L 194.464801 154.718114  L 194.532538 154.122223  L 194.600276 151.782148  L 194.668013 154.115004  L 194.735751 152.731197  L 194.803488 151.661441  L 194.871226 152.652272  L 194.938963 151.384564  L 195.006701 151.566063  L 195.074438 151.731343  L 195.142176 149.12076  L 195.209913 153.196575  L 195.277651 152.158155  L 195.345389 152.970276  L 195.413126 152.178296  L 195.480864 152.645311  L 195.616339 144.992426  L 195.751814 154.375522  L 196.022764 150.665284  L 196.090501 151.694067  L 196.158239 151.102587  L 196.225976 149.827277  L 196.293714 144.368954  L 196.496926 154.217427  L 196.564664 154.892615  L 196.767876 150.882693  L 196.835614 153.184484  L 196.971089 149.383748  L 197.038826 151.669057  L 197.106564 150.337797  L 197.174302 147.240337  L 197.242039 154.086678  L 197.309777 153.186039  L 197.377514 153.69633  L 197.445252 153.49014  L 197.512989 146.51724  L 197.580727 149.752753  L 197.716202 154.814417  L 197.783939 154.711381  L 197.919414 149.384361  L 197.987152 151.62125  L 198.054889 150.493865  L 198.122627 151.239514  L 198.325839 148.658336  L 198.529052 153.874122  L 198.664527 154.929712  L 198.935477 152.05783  L 199.003214 149.453405  L 199.070952 149.808914  L 199.206427 154.293089  L 199.274165 149.508253  L 199.341902 150.8003  L 199.477377 154.620445  L 199.545115 151.337616  L 199.612852 153.069253  L 199.68059 153.372103  L 199.748327 154.946299  L 199.816065 153.01579  L 199.883802 155.193112  L 200.019277 151.097557  L 200.154752 153.892898  L 200.22249 150.482524  L 200.290227 150.85007  L 200.357965 151.184177  L 200.561177 155.838064  L 200.899865 148.159635  L 200.967603 153.617247  L 201.03534 153.438942  L 201.103078 152.66749  L 201.170815 154.614255  L 201.238553 151.90042  L 201.30629 153.1488  L 201.441765 154.475935  L 201.509503 152.901506  L 201.57724 153.45755  L 201.644978 153.432356  L 201.712715 152.457385  L 201.780453 149.619796  L 201.84819 149.888333  L 201.983665 153.405928  L 202.051403 152.944498  L 202.11914 153.64399  L 202.186878 152.312892  L 202.254615 154.718096  L 202.322353 153.840003  L 202.457828 155.75277  L 202.728778 152.27476  L 202.796516 153.442312  L 202.864253 153.310389  L 202.931991 153.782462  L 202.999728 156.002646  L 203.067466 155.394226  L 203.135203 155.93124  L 203.202941 152.608367  L 203.270678 154.838944  L 203.338416 154.261813  L 203.541628 152.284671  L 203.609366 150.518984  L 203.677103 155.609874  L 203.744841 152.801705  L 203.812578 153.324318  L 203.880316 149.631845  L 203.948053 151.486006  L 204.015791 151.580692  L 204.083528 156.754772  L 204.151266 155.492765  L 204.219003 156.434173  L 204.354478 152.49433  L 204.422216 150.717124  L 204.489953 154.945778  L 204.557691 154.481317  L 204.625429 156.390778  L 204.693166 155.476239  L 204.760904 150.534777  L 204.828641 150.538075  L 204.896379 151.285919  L 204.964116 147.911098  L 205.099591 156.461351  L 205.167329 156.024508  L 205.235066 151.523586  L 205.302804 152.456824  L 205.370541 150.754975  L 205.438279 143.269156  L 205.506016 154.045061  L 205.573754 151.812818  L 205.641491 151.447904  L 205.709229 152.139067  L 205.776966 151.324712  L 205.912441 155.448967  L 206.047916 151.720744  L 206.115654 156.313265  L 206.183391 154.313404  L 206.251129 153.335961  L 206.318866 153.510859  L 206.386604 153.952021  L 206.454342 155.14369  L 206.522079 154.8916  L 206.589817 152.229503  L 206.657554 156.517202  L 206.725292 153.929135  L 206.793029 153.925219  L 206.928504 155.687304  L 206.996242 154.421065  L 207.063979 155.700397  L 207.131717 152.482277  L 207.199454 153.139396  L 207.267192 155.746271  L 207.334929 155.015654  L 207.402667 152.618796  L 207.470404 155.628293  L 207.538142 154.92138  L 207.673617 147.976725  L 207.741354 154.497632  L 207.809092 154.396592  L 207.876829 155.308224  L 207.944567 154.979537  L 208.012304 152.505491  L 208.080042 153.562735  L 208.147779 153.36799  L 208.215517 149.61487  L 208.283255 154.16805  L 208.350992 153.347987  L 208.486467 151.389636  L 208.554205 152.156684  L 208.621942 148.238773  L 208.757417 155.646782  L 208.825155 151.220049  L 208.892892 155.677701  L 208.96063 153.826143  L 209.096105 156.492629  L 209.23158 150.66196  L 209.367055 156.208745  L 209.50253 153.786885  L 209.570267 154.048612  L 209.638005 154.156569  L 209.705742 154.771503  L 209.841217 152.498252  L 209.976692 155.907767  L 210.04443 154.416674  L 210.179905 155.890734  L 210.247643 155.674296  L 210.31538 153.247264  L 210.450855 155.795947  L 210.58633 143.589897  L 210.654068 154.253312  L 210.721805 150.637504  L 210.925018 157.68264  L 211.060493 154.433143  L 211.195968 156.30891  L 211.263705 153.051075  L 211.331443 155.627895  L 211.39918 148.604119  L 211.466918 150.542602  L 211.534655 157.801983  L 211.602393 152.515596  L 211.67013 152.562003  L 211.737868 156.430872  L 211.805605 155.001953  L 211.873343 153.896938  L 211.94108 155.666427  L 212.008818 154.9005  L 212.076556 154.958048  L 212.144293 156.362356  L 212.212031 151.326753  L 212.279768 153.534308  L 212.347506 155.966781  L 212.415243 155.677058  L 212.482981 148.186389  L 212.550718 152.475551  L 212.618456 155.768354  L 212.686193 151.974631  L 212.753931 152.344511  L 212.821668 156.419582  L 212.889406 155.891137  L 212.957143 155.989421  L 213.024881 154.656511  L 213.160356 156.829085  L 213.295831 156.024958  L 213.363568 156.330727  L 213.431306 152.523733  L 213.499043 153.736643  L 213.566781 153.925287  L 213.634518 155.772747  L 213.769993 148.577135  L 213.905469 155.932608  L 213.973206 153.908927  L 214.040944 156.548983  L 214.108681 155.775369  L 214.176419 152.234966  L 214.244156 155.314181  L 214.311894 154.543253  L 214.379631 155.192986  L 214.515106 157.756414  L 214.718319 156.026119  L 214.786056 157.572325  L 214.921531 154.377987  L 214.989269 154.389787  L 215.057006 157.522698  L 215.124744 156.583785  L 215.192481 156.198762  L 215.327956 148.926444  L 215.395694 151.890745  L 215.463431 156.266161  L 215.531169 153.270925  L 215.598906 157.388479  L 215.666644 157.206922  L 215.734382 155.775318  L 215.802119 150.482773  L 215.869857 150.614196  L 216.005332 155.073422  L 216.073069 151.498571  L 216.208544 156.158683  L 216.276282 154.66339  L 216.344019 155.51287  L 216.411757 154.713721  L 216.479494 158.010915  L 216.682707 149.60893  L 216.885919 155.788456  L 216.953657 157.068606  L 217.021394 153.884482  L 217.089132 155.569538  L 217.224607 157.198519  L 217.360082 150.387862  L 217.427819 156.55533  L 217.495557 152.193692  L 217.563295 157.445499  L 217.631032 157.379379  L 217.69877 155.24351  L 217.766507 156.440462  L 217.834245 156.024193  L 217.901982 158.138604  L 217.96972 157.891259  L 218.037457 152.969986  L 218.105195 154.565269  L 218.172932 156.219785  L 218.24067 155.511477  L 218.308407 155.133502  L 218.376145 153.411999  L 218.443882 153.782933  L 218.51162 153.582127  L 218.579357 157.590598  L 218.647095 155.169805  L 218.850307 157.918732  L 218.918045 154.712647  L 218.985782 157.012703  L 219.05352 152.657122  L 219.121257 156.126651  L 219.188995 149.779086  L 219.256732 151.701467  L 219.32447 152.15448  L 219.392208 144.688737  L 219.527683 156.279932  L 219.59542 157.818406  L 219.798633 153.935079  L 219.934108 156.981587  L 220.069583 154.045085  L 220.13732 156.738955  L 220.205058 155.095237  L 220.272795 153.13152  L 220.340533 157.498861  L 220.40827 151.108154  L 220.476008 154.301324  L 220.543745 154.271236  L 220.814695 158.822394  L 220.882433 156.97517  L 220.95017 158.76119  L 221.017908 157.04935  L 221.085645 157.106732  L 221.288858 158.703028  L 221.356596 158.130583  L 221.424333 155.233764  L 221.492071 157.19425  L 221.559808 156.460186  L 221.627546 154.820627  L 221.695283 157.767823  L 221.830758 153.840313  L 221.966233 158.908852  L 222.033971 157.971554  L 222.101708 157.849313  L 222.169446 158.027659  L 222.237183 158.606777  L 222.304921 154.349996  L 222.372658 155.950061  L 222.440396 154.70278  L 222.643608 158.558773  L 222.711346 155.809119  L 222.779083 156.229632  L 222.846821 157.462332  L 222.914558 156.695339  L 222.982296 155.569894  L 223.050034 157.988428  L 223.117771 154.818323  L 223.185509 158.667079  L 223.253246 156.801015  L 223.320984 158.249614  L 223.388721 153.93636  L 223.456459 154.130931  L 223.591934 158.23837  L 223.727409 144.008251  L 223.862884 158.013306  L 223.930621 157.035457  L 223.998359 156.820688  L 224.066096 158.294999  L 224.133834 155.020686  L 224.201571 156.960045  L 224.269309 155.856416  L 224.337046 151.687378  L 224.540259 158.963982  L 224.675734 156.807392  L 224.743471 157.36242  L 224.811209 157.086367  L 224.878946 154.507417  L 224.946684 157.748135  L 225.014422 156.881783  L 225.082159 152.322672  L 225.149897 156.206098  L 225.217634 155.465696  L 225.285372 153.721857  L 225.420847 157.125157  L 225.556322 151.409719  L 225.759534 158.709835  L 225.895009 155.251852  L 225.962747 157.40809  L 226.030484 157.106785  L 226.098222 155.56628  L 226.165959 156.27555  L 226.301434 158.544039  L 226.369172 156.060173  L 226.436909 159.144313  L 226.504647 150.465151  L 226.572384 155.893166  L 226.640122 154.657481  L 226.707859 155.151969  L 226.843335 158.714281  L 226.911072 155.748435  L 227.046547 158.908013  L 227.182022 157.14854  L 227.317497 159.320691  L 227.52071 155.754992  L 227.588447 157.430551  L 227.656185 156.212871  L 227.723922 158.797544  L 227.859397 149.84807  L 228.06261 156.910738  L 228.130347 155.190634  L 228.198085 155.607284  L 228.265822 159.930063  L 228.33356 159.631544  L 228.401297 159.549981  L 228.60451 155.680906  L 228.672248 157.902658  L 228.739985 157.749625  L 228.807723 156.532221  L 228.87546 159.524747  L 228.943198 151.791971  L 229.010935 152.401856  L 229.078673 156.864621  L 229.14641 155.856709  L 229.214148 158.394632  L 229.281885 158.354413  L 229.41736 156.471875  L 229.485098 159.245388  L 229.552835 158.595519  L 229.620573 159.638073  L 229.823785 157.814855  L 229.891523 158.361234  L 229.95926 160.503965  L 230.026998 160.231264  L 230.23021 153.610345  L 230.297948 158.022254  L 230.365685 156.945231  L 230.433423 151.853767  L 230.568898 157.81761  L 230.636636 155.235604  L 230.704373 158.370135  L 230.772111 153.989771  L 230.839848 157.626907  L 230.907586 155.546066  L 230.975323 158.041436  L 231.043061 156.927695  L 231.110798 152.397242  L 231.178536 156.122373  L 231.246273 153.920797  L 231.314011 149.777877  L 231.381748 158.073446  L 231.449486 156.921613  L 231.517223 155.159856  L 231.584961 158.203394  L 231.652698 158.178978  L 231.720436 157.884785  L 231.788173 153.745696  L 231.855911 154.280569  L 231.991386 159.319444  L 232.059123 159.105201  L 232.126861 159.397055  L 232.262336 158.399068  L 232.533286 149.517972  L 232.601024 156.585298  L 232.668761 154.534703  L 232.736499 159.096835  L 232.804236 156.951801  L 232.871974 156.385431  L 233.075186 160.648245  L 233.278399 156.883107  L 233.413874 158.945481  L 233.481611 157.018242  L 233.549349 157.135321  L 233.684824 159.323393  L 233.752561 158.967443  L 233.820299 158.91617  L 233.955774 156.972573  L 234.023511 156.683983  L 234.091249 157.731382  L 234.158987 155.409025  L 234.226724 159.195416  L 234.294462 156.04852  L 234.362199 157.278732  L 234.429937 160.281287  L 234.497674 159.252196  L 234.565412 159.444919  L 234.633149 156.4663  L 234.700887 160.628049  L 234.768624 158.679892  L 234.836362 158.64721  L 234.904099 157.258468  L 235.039574 158.601375  L 235.107312 158.28559  L 235.175049 155.444516  L 235.242787 158.337852  L 235.378262 152.754047  L 235.445999 155.404654  L 235.581474 159.542589  L 235.649212 158.216776  L 235.716949 153.737773  L 235.784687 160.075652  L 235.9879 152.667173  L 236.055637 157.973426  L 236.123375 156.271203  L 236.25885 159.21472  L 236.394325 154.727058  L 236.5298 160.526628  L 236.597537 157.217027  L 236.665275 158.016479  L 236.733012 158.344106  L 236.936225 154.176377  L 237.139437 159.258814  L 237.207175 157.193372  L 237.274912 158.463351  L 237.34265 157.287314  L 237.410387 159.242472  L 237.478125 158.539947  L 237.545862 154.549426  L 237.6136 155.894198  L 237.681337 160.737665  L 237.749075 160.509549  L 237.88455 155.469878  L 238.087763 160.121831  L 238.223238 156.150993  L 238.290975 157.061935  L 238.42645 160.783958  L 238.494188 160.368838  L 238.629663 152.045409  L 238.6974 157.818375  L 238.765138 156.116493  L 238.832875 158.010269  L 238.900613 153.852964  L 238.96835 158.715381  L 239.036088 155.913928  L 239.103825 149.251569  L 239.2393 158.381525  L 239.307038 153.248021  L 239.442513 160.07366  L 239.577988 155.796531  L 239.781201 157.856812  L 239.984413 153.935544  L 240.052151 154.586907  L 240.119888 159.165833  L 240.187626 155.268265  L 240.255363 157.362767  L 240.323101 157.771596  L 240.390838 157.154458  L 240.458576 154.830455  L 240.526313 155.002587  L 240.729526 161.454542  L 240.797263 159.515005  L 240.865001 159.519724  L 240.932738 157.661964  L 241.000476 160.624442  L 241.068213 154.730295  L 241.135951 155.586792  L 241.339163 161.467046  L 241.406901 160.185355  L 241.474638 157.682264  L 241.542376 158.903903  L 241.610114 159.083205  L 241.745589 160.829361  L 241.813326 155.531568  L 241.881064 158.287781  L 241.948801 153.843359  L 242.084276 158.233761  L 242.219751 160.619297  L 242.287489 156.169638  L 242.355226 160.216932  L 242.422964 156.418031  L 242.490701 160.750605  L 242.558439 159.252657  L 242.693914 161.559495  L 242.761651 160.68039  L 242.829389 159.366245  L 242.897126 159.598363  L 242.964864 159.830967  L 243.032601 161.303602  L 243.100339 160.630588  L 243.168076 161.110353  L 243.235814 158.812408  L 243.303551 160.341581  L 243.371289 157.335523  L 243.439027 159.645016  L 243.506764 156.291781  L 243.574502 157.489035  L 243.642239 159.813572  L 243.709977 159.19971  L 243.777714 158.767354  L 243.845452 159.349802  L 243.913189 155.778441  L 243.980927 160.878897  L 244.048664 159.848063  L 244.116402 159.893974  L 244.184139 157.016058  L 244.251877 157.344721  L 244.319614 156.85439  L 244.387352 157.838815  L 244.455089 156.738231  L 244.522827 151.747971  L 244.658302 157.3885  L 244.726039 154.840622  L 244.793777 159.684928  L 244.861514 159.37417  L 244.996989 156.984734  L 245.064727 158.395906  L 245.200202 148.929066  L 245.26794 151.939877  L 245.335677 160.771335  L 245.403415 157.303441  L 245.471152 157.072962  L 245.53889 159.315549  L 245.606627 153.856406  L 245.742102 159.409527  L 245.80984 159.00884  L 245.877577 159.952401  L 246.013052 154.842569  L 246.08079 159.288794  L 246.148527 156.585765  L 246.216265 159.154566  L 246.284002 158.710518  L 246.487215 154.787398  L 246.62269 161.371491  L 246.690427 161.384076  L 246.89364 159.162209  L 246.961377 161.268386  L 247.029115 159.93844  L 247.096853 158.743721  L 247.16459 159.66779  L 247.232328 158.276667  L 247.300065 159.117834  L 247.367803 158.300742  L 247.43554 159.126931  L 247.571015 154.322854  L 247.638753 158.633229  L 247.70649 158.190902  L 247.841965 159.479897  L 247.909703 157.713986  L 247.97744 160.012903  L 248.112915 157.378872  L 248.24839 160.614722  L 248.383865 156.176146  L 248.451603 161.0461  L 248.587078 154.75643  L 248.722553 160.963119  L 248.79029 159.758398  L 248.925766 161.182002  L 249.128978 157.6998  L 249.264453 160.011744  L 249.332191 160.074965  L 249.467666 160.996432  L 249.603141 157.829998  L 249.670878 159.68854  L 249.738616 159.185742  L 249.806353 158.615282  L 249.874091 159.065638  L 250.009566 161.222169  L 250.212778 154.91943  L 250.348253 161.152399  L 250.415991 157.101823  L 250.551466 160.355783  L 250.686941 161.646275  L 250.822416 160.424236  L 250.957891 155.462272  L 251.093366 162.487842  L 251.228841 160.374604  L 251.296579 159.936541  L 251.364316 160.439188  L 251.432054 162.426295  L 251.567529 157.387388  L 251.703004 162.106261  L 251.838479 161.612706  L 251.906216 157.693234  L 251.973954 158.128215  L 252.109429 162.014099  L 252.177166 160.045734  L 252.380379 162.259326  L 252.448116 159.19828  L 252.515854 159.83507  L 252.583591 158.966813  L 252.786804 160.972164  L 252.854542 158.102062  L 252.922279 159.557819  L 252.990017 159.309282  L 253.057754 162.06507  L 253.125492 161.720215  L 253.193229 161.867121  L 253.328704 161.191193  L 253.396442 161.952849  L 253.464179 158.524789  L 253.531917 158.733603  L 253.599654 159.509089  L 253.667392 154.612109  L 253.735129 162.009609  L 253.802867 161.588022  L 253.870604 160.437526  L 254.141554 165.262407  L 254.277029 160.914532  L 254.344767 164.170973  L 254.412504 159.593044  L 254.615717 165.314002  L 254.683455 163.630453  L 254.81893 166.147837  L 254.886667 165.540672  L 254.954405 165.809297  L 255.022142 162.510905  L 255.08988 164.69131  L 255.157617 161.585199  L 255.293092 166.407593  L 255.36083 164.65351  L 255.428567 166.27673  L 255.564042 160.712465  L 255.63178 156.755267  L 255.767255 165.784352  L 255.970467 167.563925  L 256.038205 162.026511  L 256.105942 166.447247  L 256.17368 165.863319  L 256.241417 163.669627  L 256.309155 165.525514  L 256.376893 164.628133  L 256.44463 165.427444  L 256.512368 162.462771  L 256.647843 167.063959  L 256.71558 165.40041  L 256.851055 167.552277  L 256.918793 165.30716  L 256.98653 166.25158  L 257.122005 168.842157  L 257.189743 161.202359  L 257.25748 162.770394  L 257.392955 168.655109  L 257.663905 164.664608  L 257.731643 164.654732  L 257.867118 167.103033  L 257.934855 164.497175  L 258.002593 167.072272  L 258.07033 166.503498  L 258.138068 167.91728  L 258.205806 161.850269  L 258.273543 165.368062  L 258.341281 164.376907  L 258.409018 166.566811  L 258.476756 164.297755  L 258.544493 165.57337  L 258.612231 165.546326  L 258.679968 166.174222  L 258.883181 169.388061  L 258.950918 170.201476  L 259.086393 164.35576  L 259.154131 170.669445  L 259.221868 168.383104  L 259.289606 163.528489  L 259.357343 168.680276  L 259.425081 162.622905  L 259.492818 166.002283  L 259.628293 161.827564  L 259.763768 167.260543  L 259.831506 162.373698  L 259.966981 168.74577  L 260.034719 166.493573  L 260.102456 168.736824  L 260.170194 167.636908  L 260.237931 169.067438  L 260.305669 167.750922  L 260.373406 169.673577  L 260.441144 166.729301  L 260.508881 167.975786  L 260.576619 170.322141  L 260.644356 168.085361  L 260.712094 169.895369  L 260.779831 169.723252  L 260.847569 169.920243  L 260.915306 170.847055  L 260.983044 169.149781  L 261.118519 170.800931  L 261.186256 169.400167  L 261.253994 169.665833  L 261.321731 169.809718  L 261.389469 168.629874  L 261.457206 170.427262  L 261.524944 168.840904  L 261.592681 163.829611  L 261.660419 171.303636  L 261.728156 167.646702  L 261.931369 172.595085  L 262.066844 172.911974  L 262.202319 168.179473  L 262.270057 169.656319  L 262.337794 171.05137  L 262.405532 168.099721  L 262.541007 173.320017  L 262.676482 171.750688  L 262.744219 172.666349  L 262.811957 172.515067  L 262.947432 173.509932  L 263.082907 170.375586  L 263.150644 171.750471  L 263.218382 171.801557  L 263.286119 164.307497  L 263.421594 170.783199  L 263.489332 168.699199  L 263.557069 169.93117  L 263.624807 172.709826  L 263.692545 170.930924  L 263.760282 172.09461  L 263.82802 172.056723  L 263.895757 171.681149  L 263.963495 174.736209  L 264.09897 169.266102  L 264.234445 173.28736  L 264.36992 170.709348  L 264.437657 172.927129  L 264.505395 170.099689  L 264.708607 175.640449  L 264.91182 171.322472  L 264.979557 172.905718  L 265.047295 171.036438  L 265.115032 171.881677  L 265.18277 175.329778  L 265.318245 170.468845  L 265.385982 174.372211  L 265.45372 170.105795  L 265.589195 174.977075  L 265.656933 174.513132  L 265.72467 174.713331  L 265.792408 175.546637  L 265.860145 174.799107  L 265.927883 176.087909  L 265.99562 176.023004  L 266.131095 171.970513  L 266.198833 175.760879  L 266.26657 174.24132  L 266.334308 174.500253  L 266.605258 167.156981  L 266.80847 177.048537  L 266.876208 171.172873  L 266.943945 174.231048  L 267.011683 177.197748  L 267.07942 176.91195  L 267.147158 177.072011  L 267.35037 171.63208  L 267.485846 176.782064  L 267.689058 172.208086  L 267.960008 176.887944  L 268.027746 175.015985  L 268.095483 176.483616  L 268.230958 174.970372  L 268.298696 174.736055  L 268.501908 177.887277  L 268.569646 174.566862  L 268.637383 175.990327  L 268.705121 178.087423  L 268.772858 177.843966  L 268.840596 176.975856  L 269.043808 178.954815  L 269.179283 176.255389  L 269.247021 176.756564  L 269.382496 179.077898  L 269.517971 176.454444  L 269.653446 178.07444  L 269.924396 175.388953  L 270.059871 179.648033  L 270.263084 176.339818  L 270.330821 174.702949  L 270.398559 177.858223  L 270.466296 176.412005  L 270.534034 178.106626  L 270.737246 172.169752  L 270.804984 179.542092  L 270.872721 177.419487  L 270.940459 177.002935  L 271.075934 180.723629  L 271.143672 179.534618  L 271.279147 180.559864  L 271.346884 179.931195  L 271.414622 180.389005  L 271.685572 176.705267  L 271.753309 180.431237  L 271.821047 177.496419  L 272.024259 181.123607  L 272.227472 176.509678  L 272.430684 181.54205  L 272.498422 180.849288  L 272.701634 183.165973  L 272.769372 182.364162  L 272.837109 182.511484  L 272.904847 183.356382  L 272.972585 180.685242  L 273.040322 182.709201  L 273.10806 176.890219  L 273.175797 178.394587  L 273.243535 178.378061  L 273.446747 182.604069  L 273.514485 179.36538  L 273.582222 180.654644  L 273.64996 179.602327  L 273.717697 180.055796  L 273.785435 181.69339  L 273.853172 178.295301  L 273.92091 182.081184  L 273.988647 181.681612  L 274.056385 180.510043  L 274.124122 183.385895  L 274.19186 183.206071  L 274.259597 184.230833  L 274.327335 183.737781  L 274.395072 182.723645  L 274.46281 183.716416  L 274.530547 178.150009  L 274.598285 180.688366  L 274.801498 184.278551  L 274.869235 183.696655  L 274.936973 181.978177  L 275.00471 184.016631  L 275.072448 183.94904  L 275.27566 185.254897  L 275.411135 179.227745  L 275.478873 184.61562  L 275.54661 179.086832  L 275.614348 180.252694  L 275.682085 179.561923  L 275.749823 175.717088  L 275.885298 183.339919  L 275.953035 180.511205  L 276.08851 185.036345  L 276.156248 183.768147  L 276.223985 185.36566  L 276.291723 184.176351  L 276.35946 185.595791  L 276.494935 183.231009  L 276.630411 187.395792  L 276.765886 186.407942  L 276.833623 185.558448  L 276.901361 186.477756  L 276.969098 183.872461  L 277.036836 185.152817  L 277.104573 184.577189  L 277.172311 185.219562  L 277.240048 187.299416  L 277.307786 185.689516  L 277.375523 187.242694  L 277.443261 185.909669  L 277.510998 187.84665  L 277.578736 186.229561  L 277.646473 187.718517  L 277.714211 186.484666  L 277.781948 187.198397  L 277.917423 185.224071  L 277.985161 182.29347  L 278.052898 182.352162  L 278.120636 186.465326  L 278.188373 183.838021  L 278.323848 187.558428  L 278.391586 184.950183  L 278.459323 187.77795  L 278.527061 186.951564  L 278.594799 183.314363  L 278.662536 185.416735  L 278.798011 188.251744  L 279.136699 185.43585  L 279.204436 185.975623  L 279.272174 189.649424  L 279.339911 188.685452  L 279.407649 186.766918  L 279.610861 189.795206  L 279.678599 188.551131  L 279.746336 184.079955  L 279.814074 184.858514  L 279.881811 188.578474  L 279.949549 187.819584  L 280.085024 190.522449  L 280.220499 188.403508  L 280.288236 190.53876  L 280.355974 188.563833  L 280.423712 189.327116  L 280.559187 190.572042  L 280.694662 188.091325  L 280.762399 188.333529  L 280.830137 187.688016  L 280.897874 190.675658  L 280.965612 189.215334  L 281.033349 190.836262  L 281.168824 185.587832  L 281.236562 187.475987  L 281.372037 191.066099  L 281.439774 189.764076  L 281.507512 188.919782  L 281.642987 192.364587  L 281.710724 191.227368  L 281.778462 192.004323  L 281.846199 191.949952  L 281.981674 188.450978  L 282.117149 192.339334  L 282.184887 190.310246  L 282.252625 190.987259  L 282.3881 192.130646  L 282.455837 191.083413  L 282.523575 188.027474  L 282.591312 192.107188  L 282.65905 190.424983  L 282.794525 191.984974  L 282.862262 191.22877  L 282.93 191.64364  L 283.065475 192.769186  L 283.133212 192.655961  L 283.20095 191.367285  L 283.404162 193.595399  L 283.4719 191.217839  L 283.539637 191.948987  L 283.607375 192.693774  L 283.675112 189.204236  L 283.74285 192.838808  L 283.810587 192.780404  L 283.878325 192.833375  L 283.946062 191.395848  L 284.0138 191.43013  L 284.149275 193.105089  L 284.217013 191.366262  L 284.352488 193.97864  L 284.420225 193.754741  L 284.623438 190.105504  L 284.82665 194.764503  L 284.894388 193.993915  L 284.962125 194.666784  L 285.0976 193.189205  L 285.165338 194.505454  L 285.233075 193.77328  L 285.300813 194.129874  L 285.36855 196.13332  L 285.436288 193.900297  L 285.504025 194.040686  L 285.571763 194.138168  L 285.6395 193.945084  L 285.707238 194.076381  L 285.842713 194.476444  L 285.978188 195.815737  L 286.249138 192.8788  L 286.316876 195.212062  L 286.384613 194.91213  L 286.452351 194.850224  L 286.520088 195.330408  L 286.587826 197.1592  L 286.655563 196.317833  L 286.791038 196.848041  L 287.061988 194.384405  L 287.197463 196.575588  L 287.400676 191.55321  L 287.468413 195.85795  L 287.536151 193.857527  L 287.603888 195.041092  L 287.671626 193.803646  L 287.739364 197.19649  L 287.807101 196.312123  L 287.874839 195.6553  L 287.942576 198.122974  L 288.078051 194.594564  L 288.145789 197.584088  L 288.213526 196.376134  L 288.349001 195.54434  L 288.552214 199.072219  L 288.687689 199.164915  L 288.890901 195.460468  L 288.958639 198.21761  L 289.026376 197.771791  L 289.094114 196.437774  L 289.161851 197.206917  L 289.229589 197.610015  L 289.365064 196.758759  L 289.432801 197.64525  L 289.500539 200.008706  L 289.568277 198.994692  L 289.636014 199.065013  L 289.703752 199.439539  L 289.839227 197.105414  L 289.906964 198.955308  L 289.974702 198.014245  L 290.177914 199.568193  L 290.245652 198.511444  L 290.381127 199.767629  L 290.448864 198.07468  L 290.516602 199.598541  L 290.584339 197.957307  L 290.719814 200.485335  L 290.787552 199.090575  L 290.855289 200.208653  L 290.923027 199.506571  L 290.990764 199.693869  L 291.058502 197.088499  L 291.193977 200.609041  L 291.261714 199.588719  L 291.329452 201.133762  L 291.397189 201.05736  L 291.464927 201.049213  L 291.66814 199.712419  L 291.735877 201.387462  L 291.803615 199.987802  L 291.871352 201.231869  L 291.93909 200.223674  L 292.006827 201.216037  L 292.074565 200.207233  L 292.142302 202.079906  L 292.21004 201.917968  L 292.345515 200.517883  L 292.48099 202.412065  L 292.684202 200.720645  L 292.887415 202.75124  L 292.955152 202.651646  L 293.02289 202.803308  L 293.226102 200.579216  L 293.29384 203.119882  L 293.361578 202.305762  L 293.429315 203.18777  L 293.497053 202.675813  L 293.56479 202.808008  L 293.768003 204.136803  L 293.903478 202.662301  L 293.971215 203.577387  L 294.10669 200.669646  L 294.174428 202.609229  L 294.242165 201.682421  L 294.309903 201.962657  L 294.37764 203.762707  L 294.445378 203.684649  L 294.513115 201.723792  L 294.580853 204.166073  L 294.64859 204.089852  L 294.716328 202.685652  L 294.784065 203.804564  L 294.91954 201.410754  L 295.122753 205.351817  L 295.258228 204.551929  L 295.325966 204.879237  L 295.393703 204.357547  L 295.461441 204.599351  L 295.529178 204.941029  L 295.596916 201.258771  L 295.732391 205.282687  L 295.800128 204.503601  L 295.867866 204.15987  L 295.935603 201.174481  L 296.003341 203.546837  L 296.071078 202.482046  L 296.274291 205.65836  L 296.342028 204.913445  L 296.409766 204.21956  L 296.477503 204.522514  L 296.612978 206.163926  L 296.816191 203.636921  L 296.883928 203.759228  L 297.087141 206.625165  L 297.154879 206.911227  L 297.290354 204.861059  L 297.358091 204.991342  L 297.425829 207.410668  L 297.493566 206.717499  L 297.561304 206.906367  L 297.629041 203.686676  L 297.696779 204.377493  L 297.832254 206.840602  L 297.967729 206.97618  L 298.035466 207.847033  L 298.103204 206.129779  L 298.170941 207.505834  L 298.238679 207.218775  L 298.441891 207.605815  L 298.645104 205.919324  L 298.983792 208.144819  L 299.119267 207.521144  L 299.187004 208.100503  L 299.254742 208.035884  L 299.322479 206.183492  L 299.390217 207.203739  L 299.457954 206.558616  L 299.661167 208.324824  L 299.728904 207.019051  L 299.796642 207.223999  L 299.864379 208.361392  L 299.932117 207.57751  L 300.067592 208.237332  L 300.135329 208.157576  L 300.203067 208.958251  L 300.270804 206.029402  L 300.338542 206.503287  L 300.406279 207.560006  L 300.474017 206.655333  L 300.541754 206.850507  L 300.609492 209.116424  L 300.67723 208.932029  L 300.744967 209.52475  L 300.94818 208.62265  L 301.083655 210.057675  L 301.21913 208.631196  L 301.286867 209.045715  L 301.422342 209.652627  L 301.49008 209.453157  L 301.557817 208.096068  L 301.625555 208.372357  L 301.693292 210.505021  L 301.76103 210.123833  L 301.828767 209.367314  L 301.896505 210.008777  L 301.964242 209.707898  L 302.03198 209.778256  L 302.099717 208.512298  L 302.167455 210.196713  L 302.235192 209.666613  L 302.30293 209.734885  L 302.370667 210.926442  L 302.438405 210.57787  L 302.506143 210.06197  L 302.57388 210.195041  L 302.641618 210.601559  L 302.709355 209.718639  L 302.777093 209.899112  L 302.84483 211.357979  L 302.912568 211.156567  L 303.11578 211.688816  L 303.318993 210.571503  L 303.38673 210.647476  L 303.454468 210.558243  L 303.522205 209.647463  L 303.725418 212.179692  L 303.793155 211.692603  L 303.860893 211.807809  L 303.92863 211.653597  L 304.064105 212.500825  L 304.19958 210.530382  L 304.267318 212.491352  L 304.335056 211.984767  L 304.402793 212.038929  L 304.538268 212.592401  L 304.606006 211.952096  L 304.673743 212.536535  L 304.741481 212.252524  L 304.809218 211.088353  L 305.012431 213.287809  L 305.080168 213.183639  L 305.147906 212.206492  L 305.215643 212.374006  L 305.283381 212.315992  L 305.418856 213.862608  L 305.486593 213.714343  L 305.689806 211.627954  L 305.825281 213.366673  L 306.096231 212.59768  L 306.163968 212.223454  L 306.299444 213.023348  L 306.367181 210.707437  L 306.434919 211.115741  L 306.638131 214.479617  L 306.773606 211.311613  L 306.909081 213.732737  L 307.044556 213.701645  L 307.180031 214.972621  L 307.247769 213.735075  L 307.315506 214.797343  L 307.450981 213.214012  L 307.518719 214.687244  L 307.586456 214.267281  L 307.654194 213.959636  L 307.721931 214.76583  L 307.789669 214.35692  L 308.060619 211.21569  L 308.128357 214.492574  L 308.196094 214.196551  L 308.263832 215.209696  L 308.467044 213.230673  L 308.602519 215.871367  L 308.670257 214.966428  L 308.737994 215.667775  L 308.805732 215.20168  L 308.941207 216.068372  L 309.076682 215.006487  L 309.279894 216.008178  L 309.347632 215.637644  L 309.415369 216.262351  L 309.483107 216.167914  L 309.550844 215.172037  L 309.686319 216.767599  L 309.754057 215.50014  L 309.821794 216.215707  L 309.889532 216.807842  L 309.95727 216.393779  L 310.025007 216.454783  L 310.092745 216.966585  L 310.295957 215.972647  L 310.363695 216.344655  L 310.431432 216.024798  L 310.49917 216.379511  L 310.634645 213.342171  L 310.702382 215.97082  L 310.77012 215.638615  L 310.837857 216.784812  L 310.905595 215.666776  L 311.04107 217.326662  L 311.108807 216.725702  L 311.31202 217.416329  L 311.379757 217.093557  L 311.447495 217.724148  L 311.515232 217.680279  L 311.58297 217.260159  L 311.650707 217.589446  L 311.85392 216.998147  L 312.12487 217.979246  L 312.192608 217.599362  L 312.260345 218.029677  L 312.328083 217.922092  L 312.39582 218.103191  L 312.463558 217.151031  L 312.531295 217.506909  L 312.599033 218.109654  L 312.66677 217.520567  L 312.734508 217.757475  L 312.869983 217.432336  L 312.93772 218.626353  L 313.073195 216.697836  L 313.140933 217.023856  L 313.276408 218.809607  L 313.344145 218.383265  L 313.411883 217.97556  L 313.47962 218.38436  L 313.615096 216.656254  L 313.682833 217.038746  L 313.750571 219.015204  L 313.818308 217.731652  L 313.886046 217.85412  L 313.953783 219.183048  L 314.021521 219.079536  L 314.089258 219.578839  L 314.156996 219.08318  L 314.224733 219.217129  L 314.292471 217.247952  L 314.360208 217.41194  L 314.495683 219.441216  L 314.563421 219.387953  L 314.631158 219.152177  L 314.698896 219.736319  L 314.766633 218.806212  L 314.834371 219.388609  L 314.902108 219.738744  L 314.969846 219.636482  L 315.037583 219.498775  L 315.173058 220.364512  L 315.240796 218.43327  L 315.308533 218.933106  L 315.376271 218.986448  L 315.444009 219.843411  L 315.511746 218.41417  L 315.714959 220.355236  L 315.782696 219.43048  L 315.850434 219.984387  L 315.918171 220.184839  L 315.985909 219.746908  L 316.053646 220.500533  L 316.121384 220.082494  L 316.256859 220.809111  L 316.324596 219.751956  L 316.392334 220.213701  L 316.527809 220.570847  L 316.798759 218.372343  L 316.866496 220.444993  L 316.934234 219.680649  L 317.001971 220.444596  L 317.069709 220.280247  L 317.137446 220.25229  L 317.340659 220.686845  L 317.408397 220.677934  L 317.476134 220.786449  L 317.543872 220.305783  L 317.747084 221.593551  L 317.814822 221.334265  L 317.882559 221.654348  L 317.950297 220.767985  L 318.018034 221.718439  L 318.085772 220.576176  L 318.153509 220.717524  L 318.288984 221.770366  L 318.356722 221.823405  L 318.424459 221.45659  L 318.492197 221.745173  L 318.695409 220.095556  L 318.763147 221.249077  L 318.830884 221.214393  L 318.966359 221.630147  L 319.034097 219.91142  L 319.101834 220.683658  L 319.169572 220.22705  L 319.23731 220.726685  L 319.305047 222.427325  L 319.372785 222.071256  L 319.50826 220.190187  L 319.575997 220.707345  L 319.643735 221.970032  L 319.711472 221.524446  L 319.914685 222.724556  L 319.982422 222.40975  L 320.05016 220.872974  L 320.117897 221.218113  L 320.32111 222.70603  L 320.388847 222.6864  L 320.59206 221.910808  L 320.727535 223.178743  L 320.795272 223.283465  L 320.930747 222.380438  L 320.998485 223.114722  L 321.201698 221.042339  L 321.337173 223.042843  L 321.40491 223.109855  L 321.472648 222.17769  L 321.540385 222.498823  L 321.608123 223.370603  L 321.67586 223.145143  L 321.811335 223.74403  L 321.94681 223.025117  L 322.014548 223.879533  L 322.082285 223.603673  L 322.21776 223.78271  L 322.353235 223.642748  L 322.48871 223.225067  L 322.624185 223.545905  L 322.75966 223.248145  L 322.895136 224.335869  L 323.030611 223.796352  L 323.098348 224.462112  L 323.301561 223.437119  L 323.437036 223.141681  L 323.572511 224.436681  L 323.640248 223.860971  L 323.707986 223.965256  L 323.775723 224.122298  L 323.911198 223.577214  L 324.046673 224.333061  L 324.182148 222.630951  L 324.317623 224.545185  L 324.385361 224.500464  L 324.453098 224.086302  L 324.724049 225.024701  L 324.791786 224.858209  L 324.859524 225.016101  L 324.927261 224.949275  L 324.994999 224.630421  L 325.062736 225.130971  L 325.130474 224.928203  L 325.198211 224.818775  L 325.265949 225.035954  L 325.333686 224.677559  L 325.401424 224.868116  L 325.469161 224.825433  L 325.536899 225.454958  L 325.604636 224.562787  L 325.740111 225.582247  L 325.875586 225.472027  L 326.011061 224.828489  L 326.146536 225.485886  L 326.214274 225.703047  L 326.282011 224.776724  L 326.417486 225.443096  L 326.485224 225.636065  L 326.620699 225.135176  L 326.688437 224.482336  L 326.823912 225.974449  L 326.891649 224.955205  L 326.959387 225.480681  L 327.027124 225.625224  L 327.094862 224.701361  L 327.162599 225.130208  L 327.230337 226.181345  L 327.298074 226.056657  L 327.501287 226.108855  L 327.569024 225.496647  L 327.636762 225.521364  L 327.704499 225.557541  L 327.772237 225.820067  L 327.839974 226.546287  L 327.907712 225.718809  L 327.975449 226.087982  L 328.110924 226.126658  L 328.178662 225.749235  L 328.246399 226.402435  L 328.314137 226.289589  L 328.381875 226.01896  L 328.449612 226.348499  L 328.51735 226.123218  L 328.720562 226.791694  L 328.856037 226.516037  L 328.923775 226.982051  L 328.991512 226.049608  L 329.05925 226.540548  L 329.126987 226.393848  L 329.194725 226.702083  L 329.262462 225.861477  L 329.3302 226.225786  L 329.397937 225.79296  L 329.668887 227.115176  L 329.736625 226.01526  L 329.804362 226.518817  L 329.939837 226.445078  L 330.075312 227.135485  L 330.210788 226.189728  L 330.346263 227.282428  L 330.414 227.035841  L 330.549475 227.371986  L 330.617213 227.106383  L 330.68495 227.704789  L 330.820425 225.965777  L 330.9559 227.289561  L 331.023638 226.882293  L 331.091375 227.092248  L 331.159113 227.462478  L 331.22685 227.34942  L 331.294588 227.451782  L 331.362325 226.31061  L 331.430063 227.069425  L 331.565538 226.303915  L 331.633275 227.988538  L 331.701013 227.453607  L 331.76875 226.707858  L 331.971963 228.111316  L 332.0397 227.972122  L 332.107438 228.086844  \" style=\"fill:none;stroke:#1f77b4;stroke-linecap:square;stroke-width:1.5;\"/>\n",
       "   </g>\n",
       "   <g id=\"line2d_17\">\n",
       "    <path clip-path=\"url(#pc59b9bed66)\" d=\"M 101.528926 43.790494  L 102.003088 50.506616  L 104.170689 72.37729  L 105.864127 84.81576  L 107.15114 91.622914  L 107.896252 94.632103  L 108.438152 96.555761  L 109.725165 100.25528  L 109.792903 100.36651  L 109.996115 100.990588  L 110.538016 102.365194  L 111.283128 103.969586  L 111.350866 104.020647  L 111.486341 104.442087  L 111.554078 104.277842  L 111.621816 104.386709  L 111.757291 104.756157  L 111.825028 104.765217  L 112.028241 105.332528  L 112.434666 106.287533  L 112.570141 106.506727  L 112.841091 107.022004  L 112.908829 106.906221  L 113.179779 107.42393  L 114.399054 109.036952  L 114.602267 109.659864  L 114.873217 109.965446  L 114.940954 109.896364  L 115.482854 110.742301  L 115.618329 111.046396  L 115.821542 110.985105  L 116.16023 111.697468  L 116.295705 111.27265  L 116.566655 112.216618  L 116.769867 112.516593  L 116.905342 112.327604  L 117.108555 112.859939  L 117.24403 113.003722  L 117.379505 113.203315  L 117.447242 113.07607  L 117.718193 113.437317  L 117.853668 113.233452  L 117.989143 113.905278  L 118.192355 114.042012  L 118.260093 113.948389  L 118.32783 113.660682  L 118.395568 113.721566  L 118.531043 114.540542  L 118.59878 114.421702  L 118.734255 114.625616  L 118.86973 114.430328  L 119.072943 115.059034  L 120.292218 116.439173  L 120.359956 116.574236  L 120.427693 116.357753  L 120.495431 116.424226  L 120.698643 116.833312  L 120.901856 117.102709  L 120.969593 117.13098  L 121.105068 116.679182  L 121.511494 117.731949  L 121.714706 117.579429  L 121.782444 117.851706  L 121.850181 117.753838  L 121.985656 117.960802  L 122.053394 118.251689  L 122.121131 118.196959  L 122.188869 118.069802  L 122.256606 118.232248  L 122.324344 117.991779  L 122.459819 118.194123  L 122.527556 118.169226  L 122.798506 118.674877  L 122.866244 118.536048  L 123.001719 119.04372  L 123.069456 118.816282  L 123.137194 119.185294  L 123.272669 118.316172  L 123.475882 119.193867  L 123.814569 119.898806  L 123.882307 119.911929  L 124.085519 119.288262  L 124.153257 119.466016  L 124.356469 120.314979  L 124.424207 120.324078  L 124.491944 120.470448  L 124.559682 120.302848  L 124.695157 120.45141  L 124.762894 120.430959  L 124.898369 120.727932  L 125.101582 120.791562  L 125.16932 120.658956  L 125.372532 121.202428  L 125.508007 121.236677  L 125.575745 121.113971  L 125.643482 121.445749  L 125.778957 121.195566  L 125.846695 121.157286  L 126.388595 122.131929  L 126.456332 122.232675  L 126.52407 121.895988  L 126.659545 122.332735  L 126.79502 122.259344  L 126.998233 122.608665  L 127.06597 122.531076  L 127.269183 122.996552  L 127.404658 122.707175  L 127.472395 123.063988  L 127.60787 122.750098  L 127.675608 123.188451  L 127.743345 122.993975  L 127.811083 122.962155  L 127.946558 123.393913  L 128.014295 122.971601  L 128.082033 123.028631  L 128.217508 123.457519  L 128.285245 123.130399  L 128.42072 123.797164  L 128.488458 123.608554  L 128.623933 123.963333  L 128.827146 124.048137  L 128.962621 124.304681  L 129.030358 123.964235  L 129.301308 124.521437  L 129.369046 124.461008  L 129.572258 124.895661  L 129.707733 124.786075  L 129.843208 123.859945  L 130.249633 125.423152  L 130.385108 125.350924  L 130.452846 124.564987  L 130.520583 124.821092  L 130.588321 125.514297  L 130.656059 125.136454  L 130.723796 125.151403  L 130.859271 125.93229  L 130.927009 125.867881  L 130.994746 125.486294  L 131.265696 126.295935  L 131.401171 126.192372  L 131.468909 126.297906  L 131.536646 126.071211  L 131.604384 126.120112  L 131.875334 126.684482  L 132.010809 125.736891  L 132.214021 127.041521  L 132.417234 126.61364  L 132.484971 126.692228  L 132.552709 127.084211  L 132.620447 126.946166  L 132.823659 126.277775  L 132.891397 126.579713  L 132.959134 127.410275  L 133.026872 127.134226  L 133.094609 126.049865  L 133.162347 126.588624  L 133.230084 127.448692  L 133.297822 126.602149  L 133.501034 127.940996  L 133.636509 127.892422  L 133.704247 127.849252  L 133.839722 127.341316  L 133.975197 128.378136  L 134.042934 127.652503  L 134.246147 128.647386  L 134.313884 128.482662  L 134.517097 128.840863  L 134.652572 128.603241  L 134.72031 128.915991  L 134.788047 128.486764  L 134.855785 128.881834  L 134.923522 128.777868  L 134.99126 128.809873  L 135.194472 129.152186  L 135.26221 128.842307  L 135.465422 129.332621  L 135.600897 128.494642  L 135.668635 129.622769  L 135.80411 128.525688  L 136.210535 130.051552  L 136.34601 130.109941  L 136.481485 128.98997  L 136.61696 130.291422  L 136.684698 130.247025  L 136.88791 129.838863  L 136.955648 130.545609  L 137.023385 130.524308  L 137.15886 130.237754  L 137.226598 130.64982  L 137.294335 130.123072  L 137.362073 130.861675  L 137.42981 130.70573  L 137.497548 130.742535  L 137.565285 130.950078  L 137.633023 130.365666  L 137.768498 131.239825  L 137.903973 129.714835  L 137.97171 130.397702  L 138.107186 131.236441  L 138.174923 131.122914  L 138.378136 131.494522  L 138.513611 131.540577  L 138.649086 131.209459  L 138.716823 131.503478  L 138.852298 130.451791  L 138.987773 131.991823  L 139.123248 131.603083  L 139.190986 131.115145  L 139.258723 131.983688  L 139.326461 131.855274  L 139.461936 132.341469  L 139.529673 132.271411  L 139.597411 132.507015  L 139.665148 132.484606  L 139.800623 131.19209  L 139.868361 132.309596  L 139.936099 132.102139  L 140.003836 131.822028  L 140.071574 132.584598  L 140.139311 132.116379  L 140.342524 133.033109  L 140.410261 131.294549  L 140.477999 132.013523  L 140.681211 133.15023  L 140.816686 132.43758  L 140.952161 133.167356  L 141.019899 132.259528  L 141.223111 133.512591  L 141.358586 133.354411  L 141.426324 133.827234  L 141.494061 132.347004  L 141.629536 133.548577  L 141.765012 132.098285  L 141.968224 133.840746  L 142.035962 133.654704  L 142.103699 133.860691  L 142.171437 133.813059  L 142.239174 133.833293  L 142.306912 134.004448  L 142.374649 133.135704  L 142.442387 134.027124  L 142.510124 133.763384  L 142.577862 132.613793  L 142.645599 133.916936  L 142.713337 133.596886  L 142.916549 134.751788  L 142.984287 133.976993  L 143.187499 134.949363  L 143.458449 133.972645  L 143.593925 135.056862  L 143.7294 134.827495  L 143.797137 134.835954  L 143.864875 134.246026  L 143.932612 135.168037  L 144.00035 134.711271  L 144.203562 135.530307  L 144.2713 135.488133  L 144.339037 135.276809  L 144.406775 135.609922  L 144.474512 135.045213  L 144.54225 135.292503  L 144.609987 135.59102  L 144.677725 135.510158  L 144.745462 134.677422  L 144.8132 135.704428  L 144.880937 134.169806  L 144.948675 135.969494  L 145.016412 135.504058  L 145.151887 136.015869  L 145.219625 135.330393  L 145.287362 136.168248  L 145.3551 135.69661  L 145.422837 135.199439  L 145.490575 136.107173  L 145.558313 136.029421  L 145.693788 135.692653  L 145.897 136.448966  L 145.964738 135.76255  L 146.032475 136.326276  L 146.100213 134.322912  L 146.16795 136.369226  L 146.235688 135.089064  L 146.371163 136.862586  L 146.4389 135.717136  L 146.574375 136.867757  L 146.642113 137.091867  L 146.70985 136.004528  L 146.777588 136.399079  L 146.9808 137.304351  L 147.116275 137.162231  L 147.25175 137.14062  L 147.319488 136.620234  L 147.387226 137.119129  L 147.454963 136.742738  L 147.522701 137.013616  L 147.590438 136.634091  L 147.658176 137.45572  L 147.725913 137.001284  L 147.793651 136.982479  L 147.861388 137.727982  L 147.929126 137.475364  L 147.996863 137.379946  L 148.064601 137.915202  L 148.132338 137.450949  L 148.200076 137.461979  L 148.267813 137.744652  L 148.335551 137.650966  L 148.403288 137.499601  L 148.471026 137.987753  L 148.538763 137.277961  L 148.606501 138.231692  L 148.809713 136.733163  L 148.877451 136.741212  L 148.945188 138.240623  L 149.012926 136.429176  L 149.148401 137.980457  L 149.216139 137.625855  L 149.283876 135.455071  L 149.419351 138.44167  L 149.487089 138.522166  L 149.554826 136.652562  L 149.622564 138.391921  L 149.690301 138.375027  L 149.825776 137.988679  L 149.961251 139.032895  L 150.164464 138.550091  L 150.299939 137.135789  L 150.435414 138.849064  L 150.503151 139.139737  L 150.570889 138.148006  L 150.638626 138.767278  L 150.706364 139.129364  L 150.774101 138.441015  L 150.841839 138.878273  L 150.909576 139.112271  L 150.977314 138.582903  L 151.112789 139.444501  L 151.180527 138.497177  L 151.248264 139.360461  L 151.316002 138.83953  L 151.383739 139.59783  L 151.451477 139.562219  L 151.586952 139.79395  L 151.654689 138.721476  L 151.722427 139.742402  L 151.790164 139.188421  L 151.857902 138.817487  L 151.925639 139.623796  L 151.993377 139.378375  L 152.196589 139.878695  L 152.264327 138.647421  L 152.332064 139.10262  L 152.467539 140.236309  L 152.535277 139.993944  L 152.603014 140.152672  L 152.670752 140.187096  L 152.738489 139.872179  L 152.806227 138.859017  L 152.873965 140.306926  L 152.941702 140.014491  L 153.00944 139.728894  L 153.077177 140.599766  L 153.144915 140.081284  L 153.28039 140.474491  L 153.348127 140.648329  L 153.483602 139.868021  L 153.619077 137.982736  L 153.686815 138.278865  L 153.754552 140.457147  L 153.82229 140.43852  L 153.890027 140.770344  L 153.957765 140.457091  L 154.025502 141.095663  L 154.09324 140.994041  L 154.160977 140.792851  L 154.228715 141.087528  L 154.36419 140.697338  L 154.431927 141.244507  L 154.499665 140.057547  L 154.567402 141.043053  L 154.63514 141.01482  L 154.770615 141.358157  L 154.838353 141.350244  L 154.90609 141.137648  L 154.973828 141.33678  L 155.109303 139.422302  L 155.244778 141.592523  L 155.312515 141.111139  L 155.380253 141.692726  L 155.515728 140.993208  L 155.583465 140.956028  L 155.651203 141.889087  L 155.71894 140.794954  L 155.854415 141.721373  L 155.922153 140.324643  L 155.98989 141.882309  L 156.057628 141.680176  L 156.125365 141.068483  L 156.26084 141.925014  L 156.328578 140.610124  L 156.396315 141.822323  L 156.464053 139.305674  L 156.531791 142.304888  L 156.599528 140.986569  L 156.735003 142.186108  L 156.802741 139.252014  L 156.870478 141.821408  L 156.938216 141.514692  L 157.005953 142.24255  L 157.073691 141.758257  L 157.141428 142.5089  L 157.344641 140.01003  L 157.547853 142.582163  L 157.683328 142.295015  L 157.751066 142.715992  L 157.818803 141.38942  L 157.886541 141.993473  L 158.022016 142.618385  L 158.089753 141.367066  L 158.157491 142.9286  L 158.225228 141.168819  L 158.292966 142.84148  L 158.360703 140.285967  L 158.428441 142.790024  L 158.496179 141.936255  L 158.699391 143.06704  L 158.767129 142.642354  L 158.834866 143.083025  L 158.902604 142.632929  L 158.970341 142.818745  L 159.038079 142.662859  L 159.105816 141.649713  L 159.241291 143.236774  L 159.309029 143.102763  L 159.376766 141.734095  L 159.512241 143.227955  L 159.647716 143.478467  L 159.715454 143.316902  L 159.850929 142.399428  L 159.918666 143.837566  L 159.986404 142.795922  L 160.054141 143.176742  L 160.121879 143.72026  L 160.189616 142.693315  L 160.325092 143.942645  L 160.392829 143.916005  L 160.528304 142.961919  L 160.596042 143.82522  L 160.663779 139.753284  L 160.799254 143.83924  L 160.866992 143.556937  L 160.934729 143.902811  L 161.002467 141.520984  L 161.137942 143.844922  L 161.273417 143.561299  L 161.341154 143.088337  L 161.408892 143.262414  L 161.476629 143.255366  L 161.544367 143.518494  L 161.612104 142.344934  L 161.679842 144.077098  L 161.747579 141.559522  L 161.815317 142.730888  L 161.883054 144.222409  L 161.950792 143.998424  L 162.086267 142.449664  L 162.221742 144.535304  L 162.357217 141.254179  L 162.424955 144.880665  L 162.492692 144.536038  L 162.56043 144.448868  L 162.695905 144.755531  L 162.763642 144.324519  L 162.83138 144.953433  L 162.899117 144.702582  L 162.966855 144.597964  L 163.034592 145.04866  L 163.10233 144.266061  L 163.170067 144.954003  L 163.237805 144.685108  L 163.305542 144.001553  L 163.37328 144.937266  L 163.441017 144.420906  L 163.64423 145.166357  L 163.711967 144.918027  L 163.779705 143.886925  L 163.91518 145.403793  L 163.982918 144.914172  L 164.050655 145.373622  L 164.18613 143.167819  L 164.321605 145.087697  L 164.389343 144.315555  L 164.45708 144.556018  L 164.524818 144.723439  L 164.592555 145.454322  L 164.660293 144.971613  L 164.72803 145.311032  L 164.795768 144.968504  L 164.931243 145.680656  L 164.99898 144.629743  L 165.134455 145.764322  L 165.202193 145.189299  L 165.26993 145.837957  L 165.337668 145.728074  L 165.473143 145.977611  L 165.608618 145.639968  L 165.676355 145.815503  L 165.811831 145.517924  L 165.947306 146.203017  L 166.150518 145.712628  L 166.218256 144.63209  L 166.285993 146.078656  L 166.353731 145.501853  L 166.421468 145.445796  L 166.489206 145.765781  L 166.556943 145.413361  L 166.624681 144.049429  L 166.827893 146.469827  L 167.031106 144.930686  L 167.166581 146.5169  L 167.234318 145.859653  L 167.302056 145.964056  L 167.369793 145.715976  L 167.437531 146.886141  L 167.505268 145.287032  L 167.573006 146.656907  L 167.640744 145.944482  L 167.708481 146.424334  L 167.776219 146.074041  L 167.843956 146.377272  L 167.979431 145.906133  L 168.114906 147.076512  L 168.250381 146.953282  L 168.318119 147.062262  L 168.453594 146.723232  L 168.589069 147.088349  L 168.656806 147.144353  L 168.724544 145.965771  L 168.792281 147.18148  L 168.860019 146.938325  L 168.927756 146.26403  L 168.995494 147.142558  L 169.130969 144.262076  L 169.266444 147.219033  L 169.334181 145.536209  L 169.401919 145.822524  L 169.469657 147.522649  L 169.605132 144.470659  L 169.672869 144.748753  L 169.740607 147.318967  L 169.808344 146.607867  L 169.876082 144.895134  L 169.943819 147.277089  L 170.011557 145.887243  L 170.079294 147.558465  L 170.147032 147.45128  L 170.214769 147.296505  L 170.417982 147.968266  L 170.485719 147.969787  L 170.688932 147.037557  L 170.824407 145.037184  L 170.892144 148.071063  L 170.959882 147.234176  L 171.027619 144.634974  L 171.230832 147.997382  L 171.29857 148.26948  L 171.434045 147.322882  L 171.56952 147.873861  L 171.704995 147.516041  L 171.84047 148.268831  L 171.908207 147.059096  L 171.975945 147.608864  L 172.043682 148.498681  L 172.11142 147.36728  L 172.179157 148.79231  L 172.246895 148.20314  L 172.38237 147.132317  L 172.450107 147.642404  L 172.517845 147.609953  L 172.585582 147.416279  L 172.65332 148.514121  L 172.721057 148.245081  L 172.856532 148.390714  L 172.92427 148.413907  L 173.059745 149.317707  L 173.262958 148.271488  L 173.330695 149.111256  L 173.398433 149.049834  L 173.601645 146.137638  L 173.73712 149.292088  L 173.804858 149.153685  L 173.872595 149.109909  L 173.940333 149.331168  L 174.00807 149.127686  L 174.075808 149.587992  L 174.143545 149.35032  L 174.211283 149.545848  L 174.346758 148.651935  L 174.54997 149.667641  L 174.617708 149.596393  L 174.685445 149.342331  L 174.753183 149.493447  L 174.82092 149.690457  L 174.956395 148.722179  L 175.091871 150.061699  L 175.159608 149.490995  L 175.227346 149.691188  L 175.295083 150.071736  L 175.430558 147.902874  L 175.498296 149.532464  L 175.566033 149.068136  L 175.633771 149.836502  L 175.701508 149.751993  L 175.769246 149.085478  L 175.836983 150.244966  L 175.904721 150.098992  L 176.040196 150.40425  L 176.107933 148.793792  L 176.175671 150.369162  L 176.243408 150.222534  L 176.311146 149.16969  L 176.378883 150.058173  L 176.514358 147.219601  L 176.582096 150.244631  L 176.649833 146.505783  L 176.785308 150.409121  L 176.853046 150.422488  L 176.920784 149.278112  L 176.988521 149.583551  L 177.056259 150.506205  L 177.123996 150.012753  L 177.191734 148.978685  L 177.327209 150.622932  L 177.394946 150.134415  L 177.462684 150.599091  L 177.530421 149.198784  L 177.665896 150.881367  L 177.733634 150.743037  L 177.869109 148.752714  L 178.004584 150.97992  L 178.072321 150.84326  L 178.207796 150.984322  L 178.275534 150.150274  L 178.343271 151.074965  L 178.411009 150.878157  L 178.478746 150.914333  L 178.546484 150.535807  L 178.614221 149.104966  L 178.749697 150.761528  L 178.817434 150.129949  L 178.885172 150.438333  L 179.020647 151.141909  L 179.088384 151.144053  L 179.156122 150.892538  L 179.223859 150.937956  L 179.291597 151.112175  L 179.494809 148.324851  L 179.630284 151.470471  L 179.698022 149.796966  L 179.765759 151.268786  L 179.833497 150.716398  L 179.901234 151.397321  L 179.968972 151.135943  L 180.104447 147.98278  L 180.239922 151.464029  L 180.307659 150.598112  L 180.375397 151.539835  L 180.443134 150.370095  L 180.510872 150.902359  L 180.646347 151.389455  L 180.781822 151.430721  L 180.84956 150.449626  L 180.917297 151.573744  L 180.985035 149.396805  L 181.052772 151.393361  L 181.12051 150.936531  L 181.255985 151.713545  L 181.323722 151.388374  L 181.39146 150.060468  L 181.459197 151.482253  L 181.526935 150.55876  L 181.66241 151.604341  L 181.865622 152.096421  L 181.93336 151.773725  L 182.001097 151.916658  L 182.136572 152.123406  L 182.20431 152.286819  L 182.339785 151.519488  L 182.407523 152.287596  L 182.47526 151.839715  L 182.542998 151.865124  L 182.610735 152.331705  L 182.678473 152.236786  L 182.74621 152.006198  L 182.813948 152.178049  L 182.949423 148.666607  L 183.084898 152.495958  L 183.152635 152.19803  L 183.220373 150.279661  L 183.28811 151.902244  L 183.355848 151.295453  L 183.423585 150.998225  L 183.55906 152.497761  L 183.626798 152.338087  L 183.694535 151.481704  L 183.83001 152.628599  L 183.897748 152.624721  L 184.033223 151.023347  L 184.10096 152.489003  L 184.168698 152.417394  L 184.236436 152.36215  L 184.304173 152.547046  L 184.507386 149.504924  L 184.642861 152.653418  L 184.710598 150.990719  L 184.778336 151.856634  L 184.846073 151.138374  L 184.913811 152.833319  L 184.981548 151.678516  L 185.049286 152.685283  L 185.117023 151.961839  L 185.184761 152.935599  L 185.252498 152.609349  L 185.387973 151.854032  L 185.455711 151.955824  L 185.523448 153.035115  L 185.591186 152.20947  L 185.794398 153.102034  L 185.862136 153.195452  L 186.065348 152.107805  L 186.133086 152.333289  L 186.200824 149.300096  L 186.336299 152.993776  L 186.404036 151.586648  L 186.607249 153.316363  L 186.674986 152.721997  L 186.742724 152.93915  L 186.810461 153.092488  L 186.878199 149.627439  L 187.013674 153.026673  L 187.081411 152.593349  L 187.284624 153.322083  L 187.487836 151.312696  L 187.555574 151.654447  L 187.623311 153.212707  L 187.691049 150.520729  L 187.894261 153.373251  L 187.961999 153.162407  L 188.029737 153.621346  L 188.097474 153.097923  L 188.165212 153.532362  L 188.232949 151.061816  L 188.300687 152.953224  L 188.368424 152.764525  L 188.503899 153.674  L 188.571637 153.586524  L 188.707112 152.798057  L 188.774849 153.767013  L 188.910324 148.351996  L 188.978062 153.542932  L 189.045799 152.836121  L 189.113537 152.784139  L 189.181274 151.842367  L 189.249012 149.037986  L 189.316749 153.706259  L 189.384487 153.133902  L 189.452224 153.974188  L 189.587699 153.072641  L 189.790912 154.119711  L 189.85865 154.066057  L 189.926387 154.148645  L 189.994125 151.885565  L 190.061862 153.988076  L 190.1296 153.76423  L 190.197337 153.764586  L 190.265075 154.229814  L 190.332812 153.952029  L 190.40055 154.37865  L 190.468287 154.314928  L 190.536025 152.374599  L 190.603762 153.25855  L 190.739237 154.012384  L 190.806975 152.438559  L 190.94245 154.396412  L 191.145662 153.535175  L 191.2134 151.050964  L 191.348875 154.180159  L 191.416612 154.082213  L 191.48435 153.150034  L 191.552087 154.289515  L 191.619825 152.647167  L 191.687563 154.586691  L 191.7553 153.768653  L 191.890775 154.497616  L 191.958513 153.362425  L 192.02625 153.771693  L 192.161725 154.576693  L 192.229463 154.502595  L 192.2972 154.142902  L 192.364938 154.482933  L 192.432675 152.001745  L 192.500413 154.128541  L 192.56815 153.83638  L 192.635888 154.000651  L 192.703625 151.568184  L 192.8391 154.825264  L 192.906838 154.728462  L 192.974575 152.89153  L 193.042313 154.295333  L 193.11005 153.445261  L 193.245525 154.413168  L 193.313263 152.332066  L 193.381 154.204492  L 193.448738 151.475835  L 193.584213 154.660579  L 193.651951 153.705171  L 193.719688 154.527788  L 193.787426 154.170428  L 193.855163 153.785501  L 193.922901 154.057672  L 194.058376 152.613847  L 194.193851 154.831251  L 194.329326 155.184817  L 194.397063 155.076609  L 194.464801 154.825089  L 194.532538 155.154062  L 194.600276 154.938091  L 194.668013 153.842697  L 194.735751 154.362463  L 194.803488 154.024313  L 194.871226 154.072535  L 194.938963 154.328463  L 195.006701 152.993582  L 195.074438 154.399021  L 195.142176 154.006323  L 195.277651 154.533463  L 195.413126 154.43411  L 195.480864 155.325118  L 195.548601 151.569273  L 195.684076 154.967216  L 195.819551 155.465305  L 195.955026 153.650467  L 196.090501 155.189782  L 196.158239 152.665909  L 196.225976 154.085184  L 196.293714 151.90845  L 196.429189 155.436097  L 196.496926 155.197667  L 196.564664 155.536608  L 196.632401 155.444567  L 196.700139 153.824907  L 196.767876 153.940902  L 196.835614 155.030141  L 196.903351 154.54473  L 196.971089 152.959807  L 197.038826 155.411077  L 197.106564 154.388173  L 197.174302 155.316876  L 197.242039 152.956308  L 197.309777 155.602791  L 197.377514 154.525825  L 197.445252 155.427638  L 197.512989 151.39897  L 197.580727 151.961416  L 197.716202 155.684633  L 197.783939 154.327651  L 197.851677 155.755962  L 197.919414 154.369916  L 197.987152 154.8027  L 198.054889 154.536606  L 198.122627 155.229275  L 198.190364 154.703657  L 198.258102 152.042317  L 198.325839 152.088934  L 198.393577 154.806013  L 198.461314 154.700212  L 198.664527 156.042266  L 198.732264 155.781553  L 198.800002 155.977913  L 198.935477 154.230326  L 199.070952 155.942581  L 199.274165 153.449707  L 199.341902 156.072  L 199.40964 155.969289  L 199.477377 155.893374  L 199.545115 154.257112  L 199.612852 154.744648  L 199.68059 155.846122  L 199.748327 155.057542  L 199.816065 155.182168  L 199.883802 155.57982  L 199.95154 155.1702  L 200.019277 153.145412  L 200.154752 155.745669  L 200.22249 155.289813  L 200.290227 152.265041  L 200.425702 156.210047  L 200.561177 155.57642  L 200.628915 156.156825  L 200.76439 153.266921  L 200.832127 156.096559  L 200.899865 153.857939  L 200.967603 154.947591  L 201.103078 155.903623  L 201.238553 153.724714  L 201.30629 155.934548  L 201.374028 155.236084  L 201.441765 155.878612  L 201.509503 154.930573  L 201.57724 155.724679  L 201.644978 155.435874  L 201.712715 154.618035  L 201.780453 154.972381  L 201.84819 156.122147  L 201.915928 153.802272  L 201.983665 154.72091  L 202.051403 156.510579  L 202.11914 155.075066  L 202.186878 155.459034  L 202.39009 156.438531  L 202.525565 155.846481  L 202.593303 156.197531  L 202.66104 156.647707  L 202.728778 154.610625  L 202.796516 156.366841  L 202.864253 156.342588  L 202.931991 156.588802  L 202.999728 156.514346  L 203.067466 156.636241  L 203.135203 156.33508  L 203.202941 156.781729  L 203.270678 156.709688  L 203.338416 156.37362  L 203.406153 155.061359  L 203.473891 156.12782  L 203.541628 155.280398  L 203.677103 156.375172  L 203.812578 154.95153  L 203.880316 156.316032  L 203.948053 154.775414  L 204.015791 156.797333  L 204.083528 156.180686  L 204.151266 156.909662  L 204.219003 156.505577  L 204.286741 156.901386  L 204.354478 153.556244  L 204.422216 156.989077  L 204.489953 155.170015  L 204.557691 156.749142  L 204.625429 156.625162  L 204.693166 156.907325  L 204.760904 154.428129  L 204.896379 156.365753  L 204.964116 155.330406  L 205.031854 156.97372  L 205.099591 156.393438  L 205.167329 156.808647  L 205.302804 153.739061  L 205.370541 156.063698  L 205.438279 155.314408  L 205.506016 152.655646  L 205.573754 156.178134  L 205.641491 154.478175  L 205.709229 154.044117  L 205.912441 157.125001  L 205.980179 154.66687  L 206.115654 157.114978  L 206.183391 157.177691  L 206.251129 155.975846  L 206.318866 157.181536  L 206.386604 156.133721  L 206.522079 157.264688  L 206.589817 157.159868  L 206.657554 155.915655  L 206.725292 156.399481  L 206.793029 155.891855  L 206.928504 157.43467  L 207.063979 156.825806  L 207.199454 157.190959  L 207.402667 156.403507  L 207.470404 157.159751  L 207.538142 156.567974  L 207.605879 156.993449  L 207.673617 155.108327  L 207.741354 155.443195  L 207.809092 157.310645  L 207.876829 155.867142  L 207.944567 157.51146  L 208.012304 154.822975  L 208.080042 155.27363  L 208.283255 157.443643  L 208.486467 156.53889  L 208.621942 152.058227  L 208.68968 157.756746  L 208.757417 155.063776  L 208.825155 157.19014  L 208.892892 155.547621  L 208.96063 156.444264  L 209.096105 157.5995  L 209.163842 153.344849  L 209.23158 156.064403  L 209.434792 157.124125  L 209.50253 156.019988  L 209.570267 156.94083  L 209.638005 154.937829  L 209.705742 157.465839  L 209.77348 157.097946  L 209.841217 156.547912  L 209.908955 157.705251  L 209.976692 156.888646  L 210.112168 157.87399  L 210.179905 156.380949  L 210.247643 156.731434  L 210.31538 157.230568  L 210.383118 157.127161  L 210.450855 156.144871  L 210.518593 156.376246  L 210.58633 156.343909  L 210.654068 155.817756  L 210.721805 156.053395  L 210.85728 157.897256  L 210.925018 157.621239  L 210.992755 156.434138  L 211.060493 157.941676  L 211.12823 157.364968  L 211.263705 156.17198  L 211.331443 157.319263  L 211.39918 154.294638  L 211.466918 157.742919  L 211.534655 157.383812  L 211.602393 156.675012  L 211.805605 158.089194  L 212.008818 157.023825  L 212.076556 158.260304  L 212.212031 154.43961  L 212.347506 157.918117  L 212.415243 158.187451  L 212.482981 154.758593  L 212.550718 157.61456  L 212.618456 156.078298  L 212.686193 156.100101  L 212.753931 157.448183  L 212.821668 156.347555  L 212.889406 158.036496  L 212.957143 156.794457  L 213.024881 157.262046  L 213.092618 157.771345  L 213.160356 157.42446  L 213.228093 157.614447  L 213.295831 157.982791  L 213.363568 157.834159  L 213.431306 155.855985  L 213.499043 156.860579  L 213.566781 157.926407  L 213.634518 157.431984  L 213.702256 154.216008  L 213.769993 155.203406  L 213.837731 158.003826  L 213.905469 157.854365  L 213.973206 157.673152  L 214.040944 155.869084  L 214.108681 156.923875  L 214.176419 156.787993  L 214.244156 156.255534  L 214.379631 158.573742  L 214.515106 158.510989  L 214.582844 157.71174  L 214.650581 158.556184  L 214.718319 158.232108  L 214.786056 158.539472  L 214.853794 157.122731  L 214.921531 157.783452  L 214.989269 158.441145  L 215.057006 158.224487  L 215.124744 158.286306  L 215.192481 156.55797  L 215.260219 157.775172  L 215.327956 152.31252  L 215.531169 158.400236  L 215.666644 158.535401  L 215.802119 156.896013  L 215.869857 158.388213  L 215.937594 155.94878  L 216.005332 157.228681  L 216.073069 157.161047  L 216.140807 158.155112  L 216.208544 157.849746  L 216.276282 157.064491  L 216.411757 158.639562  L 216.614969 157.27144  L 216.682707 158.554459  L 216.750444 157.221311  L 216.953657 158.586566  L 217.021394 155.947801  L 217.089132 157.375531  L 217.224607 158.106268  L 217.427819 156.305531  L 217.563295 158.734216  L 217.766507 157.105155  L 217.901982 158.97651  L 217.96972 158.680365  L 218.037457 157.625334  L 218.105195 157.96415  L 218.172932 158.085491  L 218.24067 158.897811  L 218.308407 157.841241  L 218.376145 158.291026  L 218.443882 157.900707  L 218.647095 159.185213  L 218.714832 158.221701  L 218.78257 159.150028  L 218.918045 157.698228  L 218.985782 158.78767  L 219.05352 157.722256  L 219.121257 158.993659  L 219.188995 157.313065  L 219.256732 158.7392  L 219.32447 158.160121  L 219.392208 155.41079  L 219.459945 155.797603  L 219.59542 159.023249  L 219.663158 159.242291  L 219.730895 157.55556  L 219.86637 159.209829  L 219.934108 157.75671  L 220.001845 158.259729  L 220.13732 158.857518  L 220.205058 157.598869  L 220.272795 158.357062  L 220.340533 158.198465  L 220.40827 155.97883  L 220.476008 158.32702  L 220.543745 156.464649  L 220.746958 159.268372  L 220.882433 159.249701  L 220.95017 159.058769  L 221.017908 159.613668  L 221.153383 159.147763  L 221.221121 159.559807  L 221.288858 159.532665  L 221.356596 159.070634  L 221.424333 157.669815  L 221.492071 159.095851  L 221.559808 158.708236  L 221.695283 159.310816  L 221.763021 157.230809  L 221.898496 159.521912  L 221.966233 158.942546  L 222.101708 159.603197  L 222.169446 159.439336  L 222.237183 159.547775  L 222.440396 157.0383  L 222.575871 159.45464  L 222.643608 159.69852  L 222.779083 158.376308  L 222.846821 159.095377  L 222.914558 156.379797  L 223.050034 159.657342  L 223.185509 158.745653  L 223.253246 159.793011  L 223.320984 158.827694  L 223.388721 154.91244  L 223.524196 159.544698  L 223.591934 159.527592  L 223.727409 153.5509  L 223.930621 159.739774  L 223.998359 159.72416  L 224.133834 158.269436  L 224.269309 159.107862  L 224.337046 158.710998  L 224.404784 159.896276  L 224.472521 159.64447  L 224.540259 159.729011  L 224.607996 159.468925  L 224.675734 158.658231  L 224.743471 158.699879  L 224.811209 159.27178  L 224.878946 157.911266  L 224.946684 159.33753  L 225.014422 158.816711  L 225.082159 157.096907  L 225.217634 159.423974  L 225.285372 156.834373  L 225.353109 158.336357  L 225.420847 158.582237  L 225.488584 159.454235  L 225.556322 157.41543  L 225.624059 158.108808  L 225.827272 159.755396  L 225.962747 158.781407  L 226.030484 159.923353  L 226.098222 159.312564  L 226.165959 159.211898  L 226.233697 159.970755  L 226.301434 159.813099  L 226.369172 160.119183  L 226.436909 159.53177  L 226.572384 156.159344  L 226.707859 159.79308  L 226.775597 160.144504  L 226.843335 158.322937  L 226.911072 160.230649  L 226.97881 159.750994  L 227.046547 159.760743  L 227.114285 159.29137  L 227.24976 160.2466  L 227.317497 160.071018  L 227.452972 159.978457  L 227.588447 158.214681  L 227.723922 159.875474  L 227.927135 157.477227  L 227.994872 159.822257  L 228.06261 159.627918  L 228.130347 158.108917  L 228.265822 160.410543  L 228.33356 160.428797  L 228.60451 159.268339  L 228.672248 160.400127  L 228.739985 158.118451  L 228.807723 160.433956  L 228.87546 159.512123  L 228.943198 156.395935  L 229.010935 156.862601  L 229.078673 160.522757  L 229.14641 160.087633  L 229.214148 160.585419  L 229.281885 160.399245  L 229.349623 159.768364  L 229.485098 160.256251  L 229.552835 159.917081  L 229.756048 160.358059  L 229.823785 160.1504  L 229.891523 160.69056  L 229.95926 160.590339  L 230.026998 160.797153  L 230.162473 159.302984  L 230.23021 160.177631  L 230.297948 158.818152  L 230.365685 159.478901  L 230.433423 159.036652  L 230.501161 159.260646  L 230.568898 160.372402  L 230.636636 160.200174  L 230.704373 159.979733  L 230.772111 158.723591  L 230.839848 160.398828  L 230.907586 159.600694  L 230.975323 159.646883  L 231.043061 158.96339  L 231.110798 160.597918  L 231.178536 157.252973  L 231.246273 158.73256  L 231.449486 160.892594  L 231.517223 158.924182  L 231.584961 159.635412  L 231.652698 160.412325  L 231.788173 155.83896  L 231.991386 160.497111  L 232.059123 160.544526  L 232.126861 160.870915  L 232.194598 160.597795  L 232.533286 157.472429  L 232.601024 160.73104  L 232.668761 160.403182  L 232.736499 160.352541  L 232.804236 159.9458  L 232.871974 160.12482  L 233.007449 161.226669  L 233.075186 161.175265  L 233.142924 160.875119  L 233.210661 159.699463  L 233.278399 159.79253  L 233.346136 159.723756  L 233.413874 160.751896  L 233.481611 159.817023  L 233.549349 160.129934  L 233.617086 160.695397  L 233.684824 160.07637  L 233.752561 160.983535  L 233.888036 158.764101  L 233.955774 160.43271  L 234.023511 159.564979  L 234.158987 161.110556  L 234.226724 159.410622  L 234.294462 161.243518  L 234.362199 161.068029  L 234.429937 160.825026  L 234.565412 161.23938  L 234.768624 160.068277  L 234.836362 161.455298  L 234.904099 159.422576  L 234.971837 160.11066  L 235.039574 161.041932  L 235.107312 159.945265  L 235.175049 161.207828  L 235.242787 158.84567  L 235.310524 160.249319  L 235.445999 159.137521  L 235.513737 160.951209  L 235.581474 160.853964  L 235.649212 159.889595  L 235.716949 160.366269  L 235.784687 160.928873  L 235.852424 157.210545  L 235.920162 161.224084  L 235.9879 159.884544  L 236.055637 161.020782  L 236.123375 159.31842  L 236.25885 161.220029  L 236.326587 159.049596  L 236.462062 161.293197  L 236.597537 160.360537  L 236.665275 160.451551  L 236.733012 160.117163  L 236.80075 158.263779  L 236.868487 160.441794  L 236.936225 159.20292  L 237.003962 158.780936  L 237.139437 161.683192  L 237.274912 159.553466  L 237.410387 160.796056  L 237.478125 158.81451  L 237.6136 161.522408  L 237.681337 161.366585  L 237.749075 161.632287  L 237.952288 159.093769  L 238.087763 161.617667  L 238.1555 161.216155  L 238.223238 160.045276  L 238.358713 161.36825  L 238.42645 161.282416  L 238.494188 161.839823  L 238.561925 157.024771  L 238.629663 161.411339  L 238.6974 156.230881  L 238.765138 161.4425  L 238.832875 160.318232  L 238.900613 160.157646  L 238.96835 158.561238  L 239.036088 160.618356  L 239.103825 159.082783  L 239.2393 161.196871  L 239.307038 158.619894  L 239.442513 161.109697  L 239.51025 158.796026  L 239.645725 161.05948  L 239.713463 157.918778  L 239.781201 161.243848  L 239.848938 160.791631  L 239.916676 157.675482  L 239.984413 158.811001  L 240.052151 161.239715  L 240.119888 160.277453  L 240.187626 158.319535  L 240.255363 161.777131  L 240.390838 157.430339  L 240.526313 161.092679  L 240.594051 158.996873  L 240.729526 161.804318  L 240.932738 161.779081  L 241.000476 161.99664  L 241.068213 159.470953  L 241.135951 161.842492  L 241.203688 161.525546  L 241.406901 162.135376  L 241.474638 160.420314  L 241.542376 161.121259  L 241.610114 160.739907  L 241.677851 162.166806  L 241.745589 161.463215  L 241.948801 159.564289  L 242.152014 162.034878  L 242.219751 160.005544  L 242.287489 161.194274  L 242.355226 161.299879  L 242.422964 161.232556  L 242.490701 161.820245  L 242.558439 160.779355  L 242.693914 162.233261  L 242.897126 160.411921  L 243.100339 162.337233  L 243.235814 161.466017  L 243.303551 162.271195  L 243.371289 161.42364  L 243.439027 162.17618  L 243.506764 157.616157  L 243.574502 160.366438  L 243.642239 162.163674  L 243.709977 161.496567  L 243.777714 160.481161  L 243.845452 160.889149  L 243.980927 161.687046  L 244.048664 160.839684  L 244.116402 162.017214  L 244.184139 159.400168  L 244.251877 160.973128  L 244.387352 161.663537  L 244.455089 158.405536  L 244.522827 158.865148  L 244.658302 162.241759  L 244.726039 160.278296  L 244.793777 162.056715  L 244.861514 161.918804  L 244.929252 161.937069  L 244.996989 160.091994  L 245.064727 161.540649  L 245.132464 156.318422  L 245.200202 158.205098  L 245.335677 161.870944  L 245.403415 161.780318  L 245.471152 160.278548  L 245.53889 162.566499  L 245.606627 161.297495  L 245.742102 162.169195  L 245.80984 160.305928  L 245.877577 161.879659  L 245.945315 160.244618  L 246.013052 161.98541  L 246.08079 158.986111  L 246.148527 162.243879  L 246.216265 162.030275  L 246.35174 160.127905  L 246.419477 160.141614  L 246.487215 160.389663  L 246.62269 162.222789  L 246.690427 162.483055  L 246.758165 161.603621  L 246.825902 161.644914  L 247.029115 162.663627  L 247.232328 160.584768  L 247.300065 162.237772  L 247.367803 161.781108  L 247.503278 162.587524  L 247.571015 160.657987  L 247.638753 161.413993  L 247.774228 162.173569  L 247.841965 160.849081  L 247.909703 162.232897  L 247.97744 160.204571  L 248.180653 162.385457  L 248.316128 161.146653  L 248.451603 162.496582  L 248.587078 160.765686  L 248.79029 162.551758  L 248.858028 161.884778  L 248.925766 162.474835  L 248.993503 161.505165  L 249.061241 162.876573  L 249.196716 161.29176  L 249.399928 163.148355  L 249.467666 160.435229  L 249.535403 162.413624  L 249.603141 161.511692  L 249.670878 159.8629  L 249.874091 162.597644  L 249.941828 162.805622  L 250.212778 159.117947  L 250.415991 162.676178  L 250.483728 161.657671  L 250.619203 163.022056  L 250.754679 161.914995  L 251.025629 163.179131  L 251.093366 162.160115  L 251.161104 162.855933  L 251.228841 162.640174  L 251.296579 162.496438  L 251.432054 162.799562  L 251.499791 160.8743  L 251.635266 163.193892  L 251.770741 162.248103  L 251.838479 163.097159  L 251.906216 162.249263  L 251.973954 162.735568  L 252.041691 163.345888  L 252.109429 163.306948  L 252.177166 162.63955  L 252.244904 163.049531  L 252.380379 162.935241  L 252.448116 161.846006  L 252.515854 163.085266  L 252.583591 161.48315  L 252.719067 163.151837  L 252.786804 162.724121  L 252.854542 161.212635  L 252.922279 161.312318  L 253.125492 163.485697  L 253.260967 162.555426  L 253.328704 163.62087  L 253.396442 163.520027  L 253.464179 160.671115  L 253.531917 162.182863  L 253.599654 164.650066  L 253.667392 162.46333  L 253.802867 164.492552  L 253.870604 162.781953  L 254.073817 166.476452  L 254.141554 166.822275  L 254.277029 165.641942  L 254.344767 166.782132  L 254.412504 164.743082  L 254.480242 165.609557  L 254.751192 166.937919  L 254.81893 166.64348  L 254.886667 167.233932  L 255.08988 165.371845  L 255.225355 167.664  L 255.36083 167.000094  L 255.428567 167.198333  L 255.496305 166.925773  L 255.564042 163.508009  L 255.767255 167.644398  L 255.834992 168.267201  L 255.90273 168.144974  L 255.970467 167.769185  L 256.038205 166.72668  L 256.241417 168.271761  L 256.309155 167.560766  L 256.376893 168.268553  L 256.44463 165.757479  L 256.512368 168.449494  L 256.580105 168.374898  L 256.71558 168.168305  L 256.851055 168.726382  L 256.918793 166.964996  L 256.98653 167.946698  L 257.054268 169.220076  L 257.122005 168.505974  L 257.189743 165.480612  L 257.325218 169.273477  L 257.392955 169.166958  L 257.460693 169.595327  L 257.596168 168.920602  L 257.663905 168.988076  L 257.731643 168.864362  L 257.79938 169.119683  L 257.867118 167.984113  L 257.934855 169.285061  L 258.002593 168.290949  L 258.07033 169.451615  L 258.205806 166.641865  L 258.273543 169.768298  L 258.341281 169.307572  L 258.409018 167.213766  L 258.476756 168.129263  L 258.544493 168.923062  L 258.612231 168.29989  L 258.747706 170.366743  L 258.883181 170.447804  L 258.950918 170.768839  L 259.018656 169.621373  L 259.086393 170.806418  L 259.154131 170.18575  L 259.221868 170.222597  L 259.425081 168.82925  L 259.492818 170.969363  L 259.628293 164.933518  L 259.763768 170.086903  L 259.831506 170.730984  L 259.899243 170.055005  L 260.237931 171.748265  L 260.373406 171.199986  L 260.441144 169.532725  L 260.576619 171.302304  L 260.644356 170.712293  L 260.779831 172.276775  L 260.847569 171.781862  L 260.915306 172.298462  L 260.983044 172.070832  L 261.050781 171.801977  L 261.118519 172.52038  L 261.186256 172.465669  L 261.321731 170.248185  L 261.457206 173.103774  L 261.524944 170.450086  L 261.592681 172.164483  L 261.660419 169.433318  L 261.728156 172.787022  L 261.795894 171.473043  L 261.931369 173.445935  L 262.066844 173.558468  L 262.202319 171.714638  L 262.337794 173.622486  L 262.405532 172.100868  L 262.541007 173.8658  L 262.608744 173.371925  L 262.676482 173.584036  L 262.744219 173.438727  L 262.879694 174.311344  L 263.150644 173.235371  L 263.218382 174.701922  L 263.286119 172.078439  L 263.353857 174.169433  L 263.421594 172.609832  L 263.489332 173.307982  L 263.557069 174.770078  L 263.624807 174.76385  L 263.760282 172.790542  L 263.895757 175.055618  L 263.963495 174.828083  L 264.09897 172.503426  L 264.234445 175.029637  L 264.302182 173.457446  L 264.36992 174.300961  L 264.437657 175.243355  L 264.573132 174.152669  L 264.64087 175.76768  L 264.708607 175.713477  L 264.776345 175.857735  L 264.844082 174.857583  L 264.979557 175.754327  L 265.047295 172.37709  L 265.115032 176.39102  L 265.18277 176.002978  L 265.318245 175.145244  L 265.385982 175.289317  L 265.45372 174.612949  L 265.589195 176.646832  L 265.656933 176.204508  L 265.72467 176.345745  L 265.792408 176.272674  L 265.927883 176.977709  L 265.99562 176.823994  L 266.063358 175.804884  L 266.131095 176.43465  L 266.198833 176.931132  L 266.26657 176.805066  L 266.334308 176.149284  L 266.402045 177.173658  L 266.469783 174.515079  L 266.53752 174.795925  L 266.605258 174.159752  L 266.740733 177.48399  L 266.80847 177.351213  L 266.876208 175.285269  L 267.07942 178.188965  L 267.147158 177.823711  L 267.214895 178.131696  L 267.282633 173.532253  L 267.35037 175.334241  L 267.418108 177.952909  L 267.485846 177.281965  L 267.553583 177.528343  L 267.621321 178.398828  L 267.689058 176.963648  L 267.824533 178.674933  L 267.960008 177.249458  L 268.095483 179.045256  L 268.230958 176.440375  L 268.366433 178.702111  L 268.434171 179.004602  L 268.501908 178.962024  L 268.569646 178.348195  L 268.637383 179.490901  L 268.705121 178.805132  L 268.840596 179.236275  L 268.908333 178.933467  L 269.043808 179.510391  L 269.179283 177.816536  L 269.314759 179.910583  L 269.517971 178.481166  L 269.585709 180.20869  L 269.653446 179.608407  L 269.721184 179.798427  L 269.788921 179.61626  L 269.856659 178.156679  L 269.992134 180.841194  L 270.059871 180.361906  L 270.127609 180.945728  L 270.263084 178.590044  L 270.466296 180.976026  L 270.534034 180.935953  L 270.601771 180.534674  L 270.669509 178.695704  L 270.872721 181.172444  L 270.940459 181.332228  L 271.008196 181.198998  L 271.075934 181.664365  L 271.143672 181.44095  L 271.414622 182.276694  L 271.550097 181.022479  L 271.617834 182.156195  L 271.753309 180.480895  L 272.024259 182.763514  L 272.091997 179.590284  L 272.159734 181.69501  L 272.227472 181.191183  L 272.362947 182.836177  L 272.430684 182.045133  L 272.633897 183.6089  L 272.701634 183.66519  L 272.837109 183.579842  L 272.904847 183.689543  L 273.10806 182.059462  L 273.175797 183.253  L 273.243535 182.231125  L 273.311272 182.511129  L 273.37901 183.239853  L 273.446747 182.626913  L 273.582222 183.505234  L 273.64996 183.617341  L 273.717697 184.288194  L 273.853172 182.9552  L 273.92091 183.11656  L 274.056385 184.54218  L 274.124122 183.973487  L 274.259597 185.178801  L 274.327335 185.044669  L 274.46281 184.669276  L 274.530547 182.881192  L 274.598285 185.43232  L 274.666022 182.985506  L 274.73376 185.605332  L 274.801498 184.429292  L 274.869235 185.314859  L 274.936973 184.89777  L 275.00471 184.649448  L 275.27566 186.18352  L 275.343398 184.694924  L 275.411135 185.699503  L 275.54661 183.847327  L 275.614348 185.398174  L 275.682085 182.368311  L 275.81756 186.071852  L 275.885298 182.992193  L 276.020773 186.930541  L 276.08851 186.023142  L 276.156248 186.126191  L 276.223985 186.957787  L 276.291723 186.664293  L 276.35946 186.420154  L 276.427198 186.709256  L 276.494935 185.642851  L 276.562673 187.610769  L 276.630411 187.002864  L 276.765886 187.654946  L 276.833623 186.819117  L 276.901361 187.670782  L 276.969098 187.29669  L 277.172311 188.050546  L 277.240048 187.886366  L 277.307786 187.422797  L 277.443261 188.256723  L 277.578736 188.348169  L 277.646473 188.102634  L 277.849686 188.895366  L 277.985161 185.137214  L 278.052898 187.625755  L 278.120636 187.248511  L 278.188373 186.98153  L 278.256111 188.761893  L 278.323848 187.854378  L 278.459323 189.193797  L 278.527061 188.663261  L 278.594799 185.596483  L 278.662536 188.960412  L 278.730274 188.816829  L 278.865749 189.608174  L 279.001224 189.440111  L 279.068961 188.641302  L 279.204436 189.915921  L 279.272174 189.349002  L 279.339911 190.354665  L 279.407649 189.136194  L 279.543124 190.651654  L 279.610861 190.162009  L 279.678599 190.385932  L 279.746336 187.163839  L 279.814074 190.686202  L 279.881811 190.101141  L 280.085024 191.111981  L 280.152761 190.401706  L 280.220499 191.234296  L 280.288236 190.935354  L 280.355974 190.284789  L 280.423712 191.37495  L 280.491449 190.825938  L 280.559187 191.598234  L 280.626924 190.357303  L 280.694662 190.75619  L 280.830137 191.559673  L 280.897874 190.377324  L 280.965612 192.01689  L 281.033349 191.810761  L 281.168824 188.67674  L 281.304299 192.184764  L 281.507512 191.256007  L 281.575249 192.612201  L 281.642987 192.260152  L 281.846199 192.93107  L 281.913937 191.461576  L 281.981674 192.181952  L 282.117149 193.306664  L 282.252625 192.068419  L 282.455837 193.323313  L 282.591312 192.486037  L 282.65905 192.642769  L 282.726787 193.806425  L 282.794525 192.522998  L 282.862262 192.566789  L 283.065475 193.934252  L 283.20095 194.030985  L 283.268687 193.041026  L 283.336425 194.160391  L 283.404162 193.944258  L 283.4719 193.324777  L 283.607375 194.678047  L 283.675112 193.601049  L 283.74285 193.75806  L 283.878325 194.718306  L 283.946062 192.464211  L 284.0138 194.415872  L 284.081538 194.402039  L 284.149275 194.889229  L 284.28475 194.326311  L 284.420225 195.558172  L 284.623438 193.153498  L 284.82665 195.701244  L 284.962125 195.763628  L 285.029863 195.051138  L 285.0976 195.797783  L 285.165338 194.636473  L 285.300813 196.386187  L 285.36855 196.220828  L 285.436288 195.178426  L 285.504025 196.280635  L 285.571763 195.508345  L 285.6395 196.325038  L 285.707238 196.117849  L 285.774975 194.865982  L 285.978188 197.059649  L 286.113663 195.761735  L 286.249138 196.914211  L 286.316876 195.235093  L 286.520088 197.523753  L 286.587826 197.071506  L 286.791038 197.749932  L 286.858776 197.66034  L 286.926513 197.319122  L 286.994251 197.817315  L 287.061988 197.57031  L 287.197463 198.050087  L 287.265201 197.041199  L 287.332938 197.483056  L 287.400676 198.009458  L 287.468413 196.700646  L 287.536151 197.243324  L 287.603888 197.131804  L 287.739364 198.459657  L 287.807101 197.179032  L 287.942576 198.533214  L 288.010314 198.268056  L 288.078051 198.965209  L 288.145789 198.562008  L 288.213526 196.750732  L 288.281264 198.600294  L 288.349001 198.593726  L 288.619951 199.582951  L 288.687689 199.71889  L 288.755426 198.487701  L 288.823164 198.55482  L 288.890901 199.694065  L 288.958639 199.431933  L 289.026376 198.941918  L 289.094114 199.286909  L 289.161851 198.164873  L 289.297326 199.696787  L 289.365064 199.673526  L 289.432801 200.389967  L 289.500539 199.825757  L 289.568277 200.363683  L 289.636014 199.773059  L 289.703752 200.51796  L 289.771489 199.40074  L 289.839227 200.09653  L 289.906964 200.032619  L 289.974702 199.751146  L 290.042439 200.777732  L 290.110177 200.701553  L 290.177914 200.76564  L 290.245652 200.634545  L 290.313389 200.807566  L 290.381127 200.542787  L 290.448864 200.941965  L 290.584339 199.955849  L 290.719814 201.21065  L 290.787552 200.910741  L 290.855289 201.742242  L 290.923027 200.272594  L 290.990764 200.813596  L 291.058502 200.568006  L 291.261714 202.083267  L 291.397189 202.239045  L 291.464927 201.715285  L 291.532665 202.079788  L 291.600402 201.384474  L 291.66814 202.131808  L 291.735877 201.455968  L 291.871352 202.428704  L 291.93909 202.458196  L 292.006827 202.085035  L 292.21004 202.867394  L 292.345515 202.225133  L 292.413252 203.076994  L 292.48099 203.045982  L 292.548727 203.376279  L 292.616465 202.499554  L 292.684202 203.193023  L 292.75194 203.108416  L 292.955152 203.579152  L 293.090627 203.114986  L 293.158365 202.92037  L 293.361578 203.815837  L 293.429315 203.972727  L 293.497053 203.364239  L 293.700265 204.451876  L 293.768003 204.440194  L 293.83574 203.587663  L 293.903478 203.909898  L 293.971215 204.481259  L 294.038953 203.941843  L 294.10669 204.370963  L 294.174428 202.817492  L 294.37764 205.005817  L 294.445378 204.148461  L 294.513115 204.571094  L 294.580853 204.988497  L 294.716328 204.042945  L 294.784065 205.226381  L 294.851803 203.283399  L 294.987278 205.514573  L 295.055015 205.416472  L 295.190491 205.69006  L 295.258228 205.427946  L 295.325966 205.71297  L 295.393703 205.405735  L 295.461441 205.876624  L 295.596916 204.527698  L 295.732391 205.80397  L 295.867866 205.398117  L 296.003341 204.467788  L 296.138816 205.689024  L 296.206553 205.677778  L 296.274291 206.662304  L 296.342028 205.935287  L 296.409766 206.038423  L 296.680716 206.845855  L 296.748453 205.533017  L 296.816191 206.149269  L 296.883928 205.959817  L 296.951666 206.089855  L 297.087141 207.498826  L 297.154879 206.84698  L 297.222616 207.341078  L 297.290354 206.235352  L 297.358091 207.637455  L 297.425829 207.296107  L 297.493566 207.637525  L 297.561304 207.582983  L 297.629041 206.393537  L 297.764516 207.989148  L 297.832254 207.884923  L 297.899991 207.520563  L 297.967729 208.183664  L 298.035466 208.151392  L 298.103204 207.570549  L 298.170941 207.911545  L 298.238679 208.04163  L 298.306416 207.983341  L 298.374154 207.883745  L 298.441891 208.323513  L 298.509629 207.866225  L 298.577366 208.462277  L 298.645104 208.249088  L 298.712841 207.772775  L 298.983792 208.984441  L 299.051529 209.012361  L 299.119267 208.309493  L 299.187004 209.033424  L 299.254742 208.990305  L 299.390217 207.681922  L 299.457954 208.932262  L 299.525692 208.64244  L 299.593429 209.300009  L 299.661167 209.28498  L 299.728904 208.031703  L 299.864379 209.51021  L 299.932117 209.579173  L 299.999854 208.927041  L 300.067592 209.213793  L 300.203067 209.563826  L 300.270804 208.407492  L 300.406279 210.041536  L 300.474017 209.695186  L 300.541754 209.860393  L 300.744967 210.259872  L 300.812705 210.141066  L 300.880442 210.351792  L 300.94818 209.660083  L 301.015917 210.638023  L 301.083655 210.077431  L 301.21913 210.766362  L 301.422342 210.246746  L 301.49008 211.069417  L 301.557817 209.541995  L 301.693292 210.984288  L 301.896505 210.593631  L 301.964242 211.221205  L 302.03198 210.560757  L 302.167455 211.174797  L 302.506143 211.580977  L 302.57388 211.481981  L 302.641618 211.3491  L 302.709355 211.426071  L 302.912568 212.215762  L 302.980305 212.07092  L 303.048043 212.286127  L 303.11578 212.152912  L 303.251255 212.313026  L 303.318993 211.182593  L 303.454468 212.190734  L 303.522205 212.046651  L 303.65768 212.566522  L 303.725418 212.458642  L 303.793155 212.639526  L 303.860893 212.496915  L 303.996368 212.958649  L 304.064105 212.858868  L 304.131843 212.167405  L 304.19958 213.007173  L 304.267318 212.847415  L 304.335056 213.20528  L 304.402793 212.496811  L 304.538268 213.313832  L 304.606006 213.207054  L 304.673743 213.41614  L 304.741481 213.122503  L 304.876956 213.52161  L 304.944693 213.514919  L 305.080168 213.785683  L 305.147906 213.209741  L 305.215643 213.820094  L 305.283381 213.706234  L 305.486593 214.184193  L 305.622068 213.282282  L 305.689806 213.514621  L 305.757543 214.251621  L 305.825281 213.605702  L 305.893018 214.528948  L 305.960756 214.158025  L 306.028493 214.251088  L 306.096231 214.136873  L 306.163968 213.367066  L 306.299444 214.483141  L 306.367181 212.879765  L 306.502656 214.798208  L 306.570394 214.74526  L 306.638131 214.912478  L 306.773606 213.695144  L 306.909081 214.9865  L 307.044556 215.005525  L 307.180031 215.168389  L 307.247769 215.122674  L 307.315506 215.317323  L 307.383244 214.989849  L 307.586456 215.519475  L 307.654194 215.38053  L 307.721931 215.735847  L 307.789669 215.620415  L 307.857406 215.071978  L 307.925144 215.468806  L 307.992881 215.048183  L 308.196094 215.896308  L 308.263832 215.559191  L 308.331569 215.818966  L 308.467044 215.07503  L 308.534782 216.388792  L 308.602519 215.512427  L 308.670257 216.477486  L 308.737994 215.511457  L 308.805732 216.278281  L 308.873469 216.244988  L 309.212157 216.743654  L 309.279894 216.425103  L 309.347632 216.945539  L 309.415369 216.919506  L 309.618582 216.991849  L 309.686319 217.069724  L 309.754057 216.800571  L 310.025007 217.395541  L 310.22822 217.58841  L 310.295957 217.050745  L 310.363695 217.370858  L 310.49917 216.665592  L 310.566907 215.53438  L 310.702382 217.190699  L 310.77012 217.198248  L 310.973332 217.970729  L 311.04107 217.737895  L 311.108807 217.811391  L 311.244282 217.986829  L 311.31202 217.747125  L 311.515232 218.333702  L 311.58297 218.275624  L 311.650707 218.034558  L 311.786183 218.220353  L 311.85392 218.064441  L 312.192608 218.6418  L 312.328083 218.835736  L 312.531295 218.256437  L 312.599033 218.9718  L 312.66677 218.812066  L 312.734508 218.796796  L 312.802245 218.481498  L 312.869983 219.188885  L 313.073195 217.946752  L 313.20867 219.40988  L 313.276408 219.353811  L 313.411883 219.120235  L 313.47962 219.484014  L 313.547358 219.271297  L 313.615096 218.775524  L 313.682833 219.547456  L 313.750571 218.573183  L 313.818308 219.744664  L 313.886046 219.529513  L 313.953783 219.590368  L 314.021521 219.880386  L 314.089258 219.84755  L 314.156996 219.461954  L 314.224733 219.870479  L 314.292471 219.235084  L 314.360208 219.718876  L 314.427946 219.313001  L 314.495683 220.055263  L 314.563421 219.726337  L 314.698896 220.154452  L 314.766633 219.986708  L 315.037583 220.434655  L 315.173058 220.426056  L 315.240796 220.02946  L 315.308533 220.107421  L 315.376271 220.537858  L 315.444009 220.383956  L 315.511746 220.377063  L 315.579484 220.729107  L 315.647221 220.517652  L 315.782696 220.707755  L 315.850434 220.91472  L 315.918171 220.767939  L 316.256859 221.20855  L 316.392334 220.636616  L 316.527809 221.261824  L 316.595546 221.224006  L 316.731021 219.884896  L 316.866496 221.332953  L 316.934234 221.180622  L 317.001971 220.953066  L 317.069709 221.484047  L 317.137446 221.250969  L 317.205184 221.149007  L 317.408397 221.747527  L 317.476134 221.677903  L 317.543872 221.112206  L 317.747084 221.938197  L 317.950297 221.977959  L 318.018034 221.947948  L 318.085772 221.415283  L 318.153509 222.188047  L 318.221247 222.055326  L 318.492197 222.46532  L 318.695409 221.856049  L 318.898622 222.573365  L 319.034097 221.642065  L 319.101834 222.633815  L 319.169572 222.25852  L 319.305047 222.614402  L 319.372785 222.648719  L 319.440522 222.06247  L 319.575997 222.853838  L 319.643735 222.79616  L 319.711472 222.960663  L 319.77921 222.87935  L 319.914685 223.099193  L 320.05016 222.765719  L 320.117897 223.21695  L 320.185635 223.019077  L 320.388847 223.371202  L 320.456585 223.300212  L 320.524322 222.901371  L 320.727535 223.456851  L 320.795272 223.474357  L 320.86301 223.36948  L 320.998485 223.667359  L 321.066223 223.124763  L 321.13396 223.78236  L 321.201698 223.139101  L 321.269435 223.365704  L 321.337173 223.612768  L 321.472648 223.083159  L 321.608123 223.890536  L 321.67586 223.739703  L 321.94681 224.129154  L 322.082285 224.122549  L 322.21776 224.082061  L 322.420973 224.311149  L 322.556448 224.132644  L 322.624185 224.423219  L 322.691923 224.361022  L 323.030611 224.59357  L 323.166086 224.59667  L 323.233823 224.70824  L 323.369298 223.833007  L 323.437036 224.832976  L 323.504773 224.771247  L 323.640248 224.809277  L 323.775723 224.865863  L 323.843461 224.633962  L 324.046673 225.093161  L 324.114411 224.598062  L 324.182148 224.886686  L 324.249886 224.902256  L 324.317623 225.181779  L 324.385361 225.153656  L 324.520836 224.879381  L 324.656311 225.310703  L 324.724049 225.202837  L 324.791786 225.275492  L 324.859524 225.493455  L 324.927261 225.402745  L 325.198211 225.590327  L 325.265949 225.425307  L 325.401424 225.650529  L 325.469161 225.572219  L 325.536899 225.702622  L 325.604636 225.539729  L 325.807849 225.850624  L 325.875586 225.937351  L 325.943324 225.728734  L 326.011061 225.842829  L 326.078799 225.903604  L 326.146536 225.735547  L 326.214274 225.964804  L 326.282011 225.786365  L 326.349749 225.841538  L 326.417486 226.228143  L 326.552962 225.864004  L 326.756174 226.25243  L 326.959387 226.074544  L 327.027124 226.249176  L 327.094862 225.975153  L 327.162599 226.461945  L 327.230337 226.305657  L 327.433549 226.523189  L 327.569024 226.238067  L 327.636762 226.312863  L 327.704499 226.322803  L 327.839974 226.722165  L 327.975449 226.57861  L 328.043187 226.844856  L 328.110924 226.575214  L 328.314137 227.005476  L 328.51735 226.801742  L 328.652825 227.109585  L 328.720562 226.810092  L 328.7883 226.932033  L 328.923775 227.120186  L 328.991512 227.098027  L 329.05925 226.898376  L 329.126987 227.191338  L 329.194725 227.165164  L 329.3302 226.887153  L 329.60115 227.391798  L 329.668887 227.377055  L 329.736625 227.062863  L 329.804362 227.234507  L 330.14305 227.711173  L 330.210788 227.498307  L 330.278525 227.589736  L 330.346263 227.568722  L 330.617213 227.868562  L 330.68495 227.895818  L 330.752688 227.278861  L 330.820425 227.921196  L 330.888163 227.761064  L 331.023638 228.021658  L 331.091375 227.635971  L 331.159113 227.718966  L 331.22685 228.154148  L 331.430063 227.521197  L 331.565538 228.294329  L 331.633275 227.977866  L 331.701013 228.08201  L 331.76875 228.063802  L 331.971963 228.400365  L 332.107438 228.333088  L 332.107438 228.333088  \" style=\"fill:none;stroke:#ff7f0e;stroke-linecap:square;stroke-width:1.5;\"/>\n",
       "   </g>\n",
       "   <g id=\"patch_3\">\n",
       "    <path d=\"M 90 252  L 90 34.56  \" style=\"fill:none;stroke:#000000;stroke-linecap:square;stroke-linejoin:miter;stroke-width:0.8;\"/>\n",
       "   </g>\n",
       "   <g id=\"patch_4\">\n",
       "    <path d=\"M 343.636364 252  L 343.636364 34.56  \" style=\"fill:none;stroke:#000000;stroke-linecap:square;stroke-linejoin:miter;stroke-width:0.8;\"/>\n",
       "   </g>\n",
       "   <g id=\"patch_5\">\n",
       "    <path d=\"M 90 252  L 343.636364 252  \" style=\"fill:none;stroke:#000000;stroke-linecap:square;stroke-linejoin:miter;stroke-width:0.8;\"/>\n",
       "   </g>\n",
       "   <g id=\"patch_6\">\n",
       "    <path d=\"M 90 34.56  L 343.636364 34.56  \" style=\"fill:none;stroke:#000000;stroke-linecap:square;stroke-linejoin:miter;stroke-width:0.8;\"/>\n",
       "   </g>\n",
       "   <g id=\"text_17\">\n",
       "    <!-- RGB Classifier: Error -->\n",
       "    <defs>\n",
       "     <path d=\"M 44.390625 34.1875  Q 47.5625 33.109375 50.5625 29.59375  Q 53.5625 26.078125 56.59375 19.921875  L 66.609375 0  L 56 0  L 46.6875 18.703125  Q 43.0625 26.03125 39.671875 28.421875  Q 36.28125 30.8125 30.421875 30.8125  L 19.671875 30.8125  L 19.671875 0  L 9.8125 0  L 9.8125 72.90625  L 32.078125 72.90625  Q 44.578125 72.90625 50.734375 67.671875  Q 56.890625 62.453125 56.890625 51.90625  Q 56.890625 45.015625 53.6875 40.46875  Q 50.484375 35.9375 44.390625 34.1875  z M 19.671875 64.796875  L 19.671875 38.921875  L 32.078125 38.921875  Q 39.203125 38.921875 42.84375 42.21875  Q 46.484375 45.515625 46.484375 51.90625  Q 46.484375 58.296875 42.84375 61.546875  Q 39.203125 64.796875 32.078125 64.796875  z \" id=\"DejaVuSans-52\"/>\n",
       "     <path d=\"M 59.515625 10.40625  L 59.515625 29.984375  L 43.40625 29.984375  L 43.40625 38.09375  L 69.28125 38.09375  L 69.28125 6.78125  Q 63.578125 2.734375 56.6875 0.65625  Q 49.8125 -1.421875 42 -1.421875  Q 24.90625 -1.421875 15.25 8.5625  Q 5.609375 18.5625 5.609375 36.375  Q 5.609375 54.25 15.25 64.234375  Q 24.90625 74.21875 42 74.21875  Q 49.125 74.21875 55.546875 72.453125  Q 61.96875 70.703125 67.390625 67.28125  L 67.390625 56.78125  Q 61.921875 61.421875 55.765625 63.765625  Q 49.609375 66.109375 42.828125 66.109375  Q 29.4375 66.109375 22.71875 58.640625  Q 16.015625 51.171875 16.015625 36.375  Q 16.015625 21.625 22.71875 14.15625  Q 29.4375 6.6875 42.828125 6.6875  Q 48.046875 6.6875 52.140625 7.59375  Q 56.25 8.5 59.515625 10.40625  z \" id=\"DejaVuSans-47\"/>\n",
       "     <path d=\"M 19.671875 34.8125  L 19.671875 8.109375  L 35.5 8.109375  Q 43.453125 8.109375 47.28125 11.40625  Q 51.125 14.703125 51.125 21.484375  Q 51.125 28.328125 47.28125 31.5625  Q 43.453125 34.8125 35.5 34.8125  z M 19.671875 64.796875  L 19.671875 42.828125  L 34.28125 42.828125  Q 41.5 42.828125 45.03125 45.53125  Q 48.578125 48.25 48.578125 53.8125  Q 48.578125 59.328125 45.03125 62.0625  Q 41.5 64.796875 34.28125 64.796875  z M 9.8125 72.90625  L 35.015625 72.90625  Q 46.296875 72.90625 52.390625 68.21875  Q 58.5 63.53125 58.5 54.890625  Q 58.5 48.1875 55.375 44.234375  Q 52.25 40.28125 46.1875 39.3125  Q 53.46875 37.75 57.5 32.78125  Q 61.53125 27.828125 61.53125 20.40625  Q 61.53125 10.640625 54.890625 5.3125  Q 48.25 0 35.984375 0  L 9.8125 0  z \" id=\"DejaVuSans-42\"/>\n",
       "     <path id=\"DejaVuSans-20\"/>\n",
       "     <path d=\"M 64.40625 67.28125  L 64.40625 56.890625  Q 59.421875 61.53125 53.78125 63.8125  Q 48.140625 66.109375 41.796875 66.109375  Q 29.296875 66.109375 22.65625 58.46875  Q 16.015625 50.828125 16.015625 36.375  Q 16.015625 21.96875 22.65625 14.328125  Q 29.296875 6.6875 41.796875 6.6875  Q 48.140625 6.6875 53.78125 8.984375  Q 59.421875 11.28125 64.40625 15.921875  L 64.40625 5.609375  Q 59.234375 2.09375 53.4375 0.328125  Q 47.65625 -1.421875 41.21875 -1.421875  Q 24.65625 -1.421875 15.125 8.703125  Q 5.609375 18.84375 5.609375 36.375  Q 5.609375 53.953125 15.125 64.078125  Q 24.65625 74.21875 41.21875 74.21875  Q 47.75 74.21875 53.53125 72.484375  Q 59.328125 70.75 64.40625 67.28125  z \" id=\"DejaVuSans-43\"/>\n",
       "     <path d=\"M 9.421875 75.984375  L 18.40625 75.984375  L 18.40625 0  L 9.421875 0  z \" id=\"DejaVuSans-6c\"/>\n",
       "     <path d=\"M 34.28125 27.484375  Q 23.390625 27.484375 19.1875 25  Q 14.984375 22.515625 14.984375 16.5  Q 14.984375 11.71875 18.140625 8.90625  Q 21.296875 6.109375 26.703125 6.109375  Q 34.1875 6.109375 38.703125 11.40625  Q 43.21875 16.703125 43.21875 25.484375  L 43.21875 27.484375  z M 52.203125 31.203125  L 52.203125 0  L 43.21875 0  L 43.21875 8.296875  Q 40.140625 3.328125 35.546875 0.953125  Q 30.953125 -1.421875 24.3125 -1.421875  Q 15.921875 -1.421875 10.953125 3.296875  Q 6 8.015625 6 15.921875  Q 6 25.140625 12.171875 29.828125  Q 18.359375 34.515625 30.609375 34.515625  L 43.21875 34.515625  L 43.21875 35.40625  Q 43.21875 41.609375 39.140625 45  Q 35.0625 48.390625 27.6875 48.390625  Q 23 48.390625 18.546875 47.265625  Q 14.109375 46.140625 10.015625 43.890625  L 10.015625 52.203125  Q 14.9375 54.109375 19.578125 55.046875  Q 24.21875 56 28.609375 56  Q 40.484375 56 46.34375 49.84375  Q 52.203125 43.703125 52.203125 31.203125  z \" id=\"DejaVuSans-61\"/>\n",
       "     <path d=\"M 44.28125 53.078125  L 44.28125 44.578125  Q 40.484375 46.53125 36.375 47.5  Q 32.28125 48.484375 27.875 48.484375  Q 21.1875 48.484375 17.84375 46.4375  Q 14.5 44.390625 14.5 40.28125  Q 14.5 37.15625 16.890625 35.375  Q 19.28125 33.59375 26.515625 31.984375  L 29.59375 31.296875  Q 39.15625 29.25 43.1875 25.515625  Q 47.21875 21.78125 47.21875 15.09375  Q 47.21875 7.46875 41.1875 3.015625  Q 35.15625 -1.421875 24.609375 -1.421875  Q 20.21875 -1.421875 15.453125 -0.5625  Q 10.6875 0.296875 5.421875 2  L 5.421875 11.28125  Q 10.40625 8.6875 15.234375 7.390625  Q 20.0625 6.109375 24.8125 6.109375  Q 31.15625 6.109375 34.5625 8.28125  Q 37.984375 10.453125 37.984375 14.40625  Q 37.984375 18.0625 35.515625 20.015625  Q 33.0625 21.96875 24.703125 23.78125  L 21.578125 24.515625  Q 13.234375 26.265625 9.515625 29.90625  Q 5.8125 33.546875 5.8125 39.890625  Q 5.8125 47.609375 11.28125 51.796875  Q 16.75 56 26.8125 56  Q 31.78125 56 36.171875 55.265625  Q 40.578125 54.546875 44.28125 53.078125  z \" id=\"DejaVuSans-73\"/>\n",
       "     <path d=\"M 9.421875 54.6875  L 18.40625 54.6875  L 18.40625 0  L 9.421875 0  z M 9.421875 75.984375  L 18.40625 75.984375  L 18.40625 64.59375  L 9.421875 64.59375  z \" id=\"DejaVuSans-69\"/>\n",
       "     <path d=\"M 37.109375 75.984375  L 37.109375 68.5  L 28.515625 68.5  Q 23.6875 68.5 21.796875 66.546875  Q 19.921875 64.59375 19.921875 59.515625  L 19.921875 54.6875  L 34.71875 54.6875  L 34.71875 47.703125  L 19.921875 47.703125  L 19.921875 0  L 10.890625 0  L 10.890625 47.703125  L 2.296875 47.703125  L 2.296875 54.6875  L 10.890625 54.6875  L 10.890625 58.5  Q 10.890625 67.625 15.140625 71.796875  Q 19.390625 75.984375 28.609375 75.984375  z \" id=\"DejaVuSans-66\"/>\n",
       "     <path d=\"M 56.203125 29.59375  L 56.203125 25.203125  L 14.890625 25.203125  Q 15.484375 15.921875 20.484375 11.0625  Q 25.484375 6.203125 34.421875 6.203125  Q 39.59375 6.203125 44.453125 7.46875  Q 49.3125 8.734375 54.109375 11.28125  L 54.109375 2.78125  Q 49.265625 0.734375 44.1875 -0.34375  Q 39.109375 -1.421875 33.890625 -1.421875  Q 20.796875 -1.421875 13.15625 6.1875  Q 5.515625 13.8125 5.515625 26.8125  Q 5.515625 40.234375 12.765625 48.109375  Q 20.015625 56 32.328125 56  Q 43.359375 56 49.78125 48.890625  Q 56.203125 41.796875 56.203125 29.59375  z M 47.21875 32.234375  Q 47.125 39.59375 43.09375 43.984375  Q 39.0625 48.390625 32.421875 48.390625  Q 24.90625 48.390625 20.390625 44.140625  Q 15.875 39.890625 15.1875 32.171875  z \" id=\"DejaVuSans-65\"/>\n",
       "     <path d=\"M 41.109375 46.296875  Q 39.59375 47.171875 37.8125 47.578125  Q 36.03125 48 33.890625 48  Q 26.265625 48 22.1875 43.046875  Q 18.109375 38.09375 18.109375 28.8125  L 18.109375 0  L 9.078125 0  L 9.078125 54.6875  L 18.109375 54.6875  L 18.109375 46.1875  Q 20.953125 51.171875 25.484375 53.578125  Q 30.03125 56 36.53125 56  Q 37.453125 56 38.578125 55.875  Q 39.703125 55.765625 41.0625 55.515625  z \" id=\"DejaVuSans-72\"/>\n",
       "     <path d=\"M 11.71875 12.40625  L 22.015625 12.40625  L 22.015625 0  L 11.71875 0  z M 11.71875 51.703125  L 22.015625 51.703125  L 22.015625 39.3125  L 11.71875 39.3125  z \" id=\"DejaVuSans-3a\"/>\n",
       "    </defs>\n",
       "    <g transform=\"translate(155.800994 28.56)scale(0.12 -0.12)\">\n",
       "     <use xlink:href=\"#DejaVuSans-52\"/>\n",
       "     <use x=\"69.482422\" xlink:href=\"#DejaVuSans-47\"/>\n",
       "     <use x=\"146.972656\" xlink:href=\"#DejaVuSans-42\"/>\n",
       "     <use x=\"215.576172\" xlink:href=\"#DejaVuSans-20\"/>\n",
       "     <use x=\"247.363281\" xlink:href=\"#DejaVuSans-43\"/>\n",
       "     <use x=\"317.1875\" xlink:href=\"#DejaVuSans-6c\"/>\n",
       "     <use x=\"344.970703\" xlink:href=\"#DejaVuSans-61\"/>\n",
       "     <use x=\"406.25\" xlink:href=\"#DejaVuSans-73\"/>\n",
       "     <use x=\"458.349609\" xlink:href=\"#DejaVuSans-73\"/>\n",
       "     <use x=\"510.449219\" xlink:href=\"#DejaVuSans-69\"/>\n",
       "     <use x=\"538.232422\" xlink:href=\"#DejaVuSans-66\"/>\n",
       "     <use x=\"573.4375\" xlink:href=\"#DejaVuSans-69\"/>\n",
       "     <use x=\"601.220703\" xlink:href=\"#DejaVuSans-65\"/>\n",
       "     <use x=\"662.744141\" xlink:href=\"#DejaVuSans-72\"/>\n",
       "     <use x=\"703.841797\" xlink:href=\"#DejaVuSans-3a\"/>\n",
       "     <use x=\"737.533203\" xlink:href=\"#DejaVuSans-20\"/>\n",
       "     <use x=\"769.320312\" xlink:href=\"#DejaVuSans-45\"/>\n",
       "     <use x=\"832.503906\" xlink:href=\"#DejaVuSans-72\"/>\n",
       "     <use x=\"873.601562\" xlink:href=\"#DejaVuSans-72\"/>\n",
       "     <use x=\"914.683594\" xlink:href=\"#DejaVuSans-6f\"/>\n",
       "     <use x=\"975.865234\" xlink:href=\"#DejaVuSans-72\"/>\n",
       "    </g>\n",
       "   </g>\n",
       "   <g id=\"legend_1\">\n",
       "    <g id=\"patch_7\">\n",
       "     <path d=\"M 236.030114 71.91625  L 336.636364 71.91625  Q 338.636364 71.91625 338.636364 69.91625  L 338.636364 41.56  Q 338.636364 39.56 336.636364 39.56  L 236.030114 39.56  Q 234.030114 39.56 234.030114 41.56  L 234.030114 69.91625  Q 234.030114 71.91625 236.030114 71.91625  z \" style=\"fill:#ffffff;opacity:0.8;stroke:#cccccc;stroke-linejoin:miter;\"/>\n",
       "    </g>\n",
       "    <g id=\"line2d_18\">\n",
       "     <path d=\"M 238.030114 47.658437  L 258.030114 47.658437  \" style=\"fill:none;stroke:#1f77b4;stroke-linecap:square;stroke-width:1.5;\"/>\n",
       "    </g>\n",
       "    <g id=\"line2d_19\"/>\n",
       "    <g id=\"text_18\">\n",
       "     <!-- Training set -->\n",
       "     <defs>\n",
       "      <path d=\"M -0.296875 72.90625  L 61.375 72.90625  L 61.375 64.59375  L 35.5 64.59375  L 35.5 0  L 25.59375 0  L 25.59375 64.59375  L -0.296875 64.59375  z \" id=\"DejaVuSans-54\"/>\n",
       "      <path d=\"M 54.890625 33.015625  L 54.890625 0  L 45.90625 0  L 45.90625 32.71875  Q 45.90625 40.484375 42.875 44.328125  Q 39.84375 48.1875 33.796875 48.1875  Q 26.515625 48.1875 22.3125 43.546875  Q 18.109375 38.921875 18.109375 30.90625  L 18.109375 0  L 9.078125 0  L 9.078125 54.6875  L 18.109375 54.6875  L 18.109375 46.1875  Q 21.34375 51.125 25.703125 53.5625  Q 30.078125 56 35.796875 56  Q 45.21875 56 50.046875 50.171875  Q 54.890625 44.34375 54.890625 33.015625  z \" id=\"DejaVuSans-6e\"/>\n",
       "      <path d=\"M 45.40625 27.984375  Q 45.40625 37.75 41.375 43.109375  Q 37.359375 48.484375 30.078125 48.484375  Q 22.859375 48.484375 18.828125 43.109375  Q 14.796875 37.75 14.796875 27.984375  Q 14.796875 18.265625 18.828125 12.890625  Q 22.859375 7.515625 30.078125 7.515625  Q 37.359375 7.515625 41.375 12.890625  Q 45.40625 18.265625 45.40625 27.984375  z M 54.390625 6.78125  Q 54.390625 -7.171875 48.1875 -13.984375  Q 42 -20.796875 29.203125 -20.796875  Q 24.46875 -20.796875 20.265625 -20.09375  Q 16.0625 -19.390625 12.109375 -17.921875  L 12.109375 -9.1875  Q 16.0625 -11.328125 19.921875 -12.34375  Q 23.78125 -13.375 27.78125 -13.375  Q 36.625 -13.375 41.015625 -8.765625  Q 45.40625 -4.15625 45.40625 5.171875  L 45.40625 9.625  Q 42.625 4.78125 38.28125 2.390625  Q 33.9375 0 27.875 0  Q 17.828125 0 11.671875 7.65625  Q 5.515625 15.328125 5.515625 27.984375  Q 5.515625 40.671875 11.671875 48.328125  Q 17.828125 56 27.875 56  Q 33.9375 56 38.28125 53.609375  Q 42.625 51.21875 45.40625 46.390625  L 45.40625 54.6875  L 54.390625 54.6875  z \" id=\"DejaVuSans-67\"/>\n",
       "      <path d=\"M 18.3125 70.21875  L 18.3125 54.6875  L 36.8125 54.6875  L 36.8125 47.703125  L 18.3125 47.703125  L 18.3125 18.015625  Q 18.3125 11.328125 20.140625 9.421875  Q 21.96875 7.515625 27.59375 7.515625  L 36.8125 7.515625  L 36.8125 0  L 27.59375 0  Q 17.1875 0 13.234375 3.875  Q 9.28125 7.765625 9.28125 18.015625  L 9.28125 47.703125  L 2.6875 47.703125  L 2.6875 54.6875  L 9.28125 54.6875  L 9.28125 70.21875  z \" id=\"DejaVuSans-74\"/>\n",
       "     </defs>\n",
       "     <g transform=\"translate(266.030114 51.158437)scale(0.1 -0.1)\">\n",
       "      <use xlink:href=\"#DejaVuSans-54\"/>\n",
       "      <use x=\"60.865234\" xlink:href=\"#DejaVuSans-72\"/>\n",
       "      <use x=\"101.978516\" xlink:href=\"#DejaVuSans-61\"/>\n",
       "      <use x=\"163.257812\" xlink:href=\"#DejaVuSans-69\"/>\n",
       "      <use x=\"191.041016\" xlink:href=\"#DejaVuSans-6e\"/>\n",
       "      <use x=\"254.419922\" xlink:href=\"#DejaVuSans-69\"/>\n",
       "      <use x=\"282.203125\" xlink:href=\"#DejaVuSans-6e\"/>\n",
       "      <use x=\"345.582031\" xlink:href=\"#DejaVuSans-67\"/>\n",
       "      <use x=\"409.058594\" xlink:href=\"#DejaVuSans-20\"/>\n",
       "      <use x=\"440.845703\" xlink:href=\"#DejaVuSans-73\"/>\n",
       "      <use x=\"492.945312\" xlink:href=\"#DejaVuSans-65\"/>\n",
       "      <use x=\"554.46875\" xlink:href=\"#DejaVuSans-74\"/>\n",
       "     </g>\n",
       "    </g>\n",
       "    <g id=\"line2d_20\">\n",
       "     <path d=\"M 238.030114 62.336562  L 258.030114 62.336562  \" style=\"fill:none;stroke:#ff7f0e;stroke-linecap:square;stroke-width:1.5;\"/>\n",
       "    </g>\n",
       "    <g id=\"line2d_21\"/>\n",
       "    <g id=\"text_19\">\n",
       "     <!-- Validation set -->\n",
       "     <defs>\n",
       "      <path d=\"M 28.609375 0  L 0.78125 72.90625  L 11.078125 72.90625  L 34.1875 11.53125  L 57.328125 72.90625  L 67.578125 72.90625  L 39.796875 0  z \" id=\"DejaVuSans-56\"/>\n",
       "      <path d=\"M 45.40625 46.390625  L 45.40625 75.984375  L 54.390625 75.984375  L 54.390625 0  L 45.40625 0  L 45.40625 8.203125  Q 42.578125 3.328125 38.25 0.953125  Q 33.9375 -1.421875 27.875 -1.421875  Q 17.96875 -1.421875 11.734375 6.484375  Q 5.515625 14.40625 5.515625 27.296875  Q 5.515625 40.1875 11.734375 48.09375  Q 17.96875 56 27.875 56  Q 33.9375 56 38.25 53.625  Q 42.578125 51.265625 45.40625 46.390625  z M 14.796875 27.296875  Q 14.796875 17.390625 18.875 11.75  Q 22.953125 6.109375 30.078125 6.109375  Q 37.203125 6.109375 41.296875 11.75  Q 45.40625 17.390625 45.40625 27.296875  Q 45.40625 37.203125 41.296875 42.84375  Q 37.203125 48.484375 30.078125 48.484375  Q 22.953125 48.484375 18.875 42.84375  Q 14.796875 37.203125 14.796875 27.296875  z \" id=\"DejaVuSans-64\"/>\n",
       "     </defs>\n",
       "     <g transform=\"translate(266.030114 65.836562)scale(0.1 -0.1)\">\n",
       "      <use xlink:href=\"#DejaVuSans-56\"/>\n",
       "      <use x=\"68.298828\" xlink:href=\"#DejaVuSans-61\"/>\n",
       "      <use x=\"129.578125\" xlink:href=\"#DejaVuSans-6c\"/>\n",
       "      <use x=\"157.361328\" xlink:href=\"#DejaVuSans-69\"/>\n",
       "      <use x=\"185.144531\" xlink:href=\"#DejaVuSans-64\"/>\n",
       "      <use x=\"248.621094\" xlink:href=\"#DejaVuSans-61\"/>\n",
       "      <use x=\"309.900391\" xlink:href=\"#DejaVuSans-74\"/>\n",
       "      <use x=\"349.109375\" xlink:href=\"#DejaVuSans-69\"/>\n",
       "      <use x=\"376.892578\" xlink:href=\"#DejaVuSans-6f\"/>\n",
       "      <use x=\"438.074219\" xlink:href=\"#DejaVuSans-6e\"/>\n",
       "      <use x=\"501.453125\" xlink:href=\"#DejaVuSans-20\"/>\n",
       "      <use x=\"533.240234\" xlink:href=\"#DejaVuSans-73\"/>\n",
       "      <use x=\"585.339844\" xlink:href=\"#DejaVuSans-65\"/>\n",
       "      <use x=\"646.863281\" xlink:href=\"#DejaVuSans-74\"/>\n",
       "     </g>\n",
       "    </g>\n",
       "   </g>\n",
       "  </g>\n",
       "  <g id=\"axes_2\">\n",
       "   <g id=\"patch_8\">\n",
       "    <path d=\"M 394.363636 252  L 648 252  L 648 34.56  L 394.363636 34.56  z \" style=\"fill:#ffffff;\"/>\n",
       "   </g>\n",
       "   <g id=\"matplotlib.axis_3\">\n",
       "    <g id=\"xtick_9\">\n",
       "     <g id=\"line2d_22\">\n",
       "      <g>\n",
       "       <use style=\"stroke:#000000;stroke-width:0.8;\" x=\"405.892562\" xlink:href=\"#m1d57d677bd\" y=\"252\"/>\n",
       "      </g>\n",
       "     </g>\n",
       "     <g id=\"text_20\">\n",
       "      <!-- 0 -->\n",
       "      <g transform=\"translate(402.711312 266.598437)scale(0.1 -0.1)\">\n",
       "       <use xlink:href=\"#DejaVuSans-30\"/>\n",
       "      </g>\n",
       "     </g>\n",
       "    </g>\n",
       "    <g id=\"xtick_10\">\n",
       "     <g id=\"line2d_23\">\n",
       "      <g>\n",
       "       <use style=\"stroke:#000000;stroke-width:0.8;\" x=\"439.761321\" xlink:href=\"#m1d57d677bd\" y=\"252\"/>\n",
       "      </g>\n",
       "     </g>\n",
       "     <g id=\"text_21\">\n",
       "      <!-- 500 -->\n",
       "      <g transform=\"translate(430.217571 266.598437)scale(0.1 -0.1)\">\n",
       "       <use xlink:href=\"#DejaVuSans-35\"/>\n",
       "       <use x=\"63.623047\" xlink:href=\"#DejaVuSans-30\"/>\n",
       "       <use x=\"127.246094\" xlink:href=\"#DejaVuSans-30\"/>\n",
       "      </g>\n",
       "     </g>\n",
       "    </g>\n",
       "    <g id=\"xtick_11\">\n",
       "     <g id=\"line2d_24\">\n",
       "      <g>\n",
       "       <use style=\"stroke:#000000;stroke-width:0.8;\" x=\"473.63008\" xlink:href=\"#m1d57d677bd\" y=\"252\"/>\n",
       "      </g>\n",
       "     </g>\n",
       "     <g id=\"text_22\">\n",
       "      <!-- 1000 -->\n",
       "      <g transform=\"translate(460.90508 266.598437)scale(0.1 -0.1)\">\n",
       "       <use xlink:href=\"#DejaVuSans-31\"/>\n",
       "       <use x=\"63.623047\" xlink:href=\"#DejaVuSans-30\"/>\n",
       "       <use x=\"127.246094\" xlink:href=\"#DejaVuSans-30\"/>\n",
       "       <use x=\"190.869141\" xlink:href=\"#DejaVuSans-30\"/>\n",
       "      </g>\n",
       "     </g>\n",
       "    </g>\n",
       "    <g id=\"xtick_12\">\n",
       "     <g id=\"line2d_25\">\n",
       "      <g>\n",
       "       <use style=\"stroke:#000000;stroke-width:0.8;\" x=\"507.498839\" xlink:href=\"#m1d57d677bd\" y=\"252\"/>\n",
       "      </g>\n",
       "     </g>\n",
       "     <g id=\"text_23\">\n",
       "      <!-- 1500 -->\n",
       "      <g transform=\"translate(494.773839 266.598437)scale(0.1 -0.1)\">\n",
       "       <use xlink:href=\"#DejaVuSans-31\"/>\n",
       "       <use x=\"63.623047\" xlink:href=\"#DejaVuSans-35\"/>\n",
       "       <use x=\"127.246094\" xlink:href=\"#DejaVuSans-30\"/>\n",
       "       <use x=\"190.869141\" xlink:href=\"#DejaVuSans-30\"/>\n",
       "      </g>\n",
       "     </g>\n",
       "    </g>\n",
       "    <g id=\"xtick_13\">\n",
       "     <g id=\"line2d_26\">\n",
       "      <g>\n",
       "       <use style=\"stroke:#000000;stroke-width:0.8;\" x=\"541.367599\" xlink:href=\"#m1d57d677bd\" y=\"252\"/>\n",
       "      </g>\n",
       "     </g>\n",
       "     <g id=\"text_24\">\n",
       "      <!-- 2000 -->\n",
       "      <g transform=\"translate(528.642599 266.598437)scale(0.1 -0.1)\">\n",
       "       <use xlink:href=\"#DejaVuSans-32\"/>\n",
       "       <use x=\"63.623047\" xlink:href=\"#DejaVuSans-30\"/>\n",
       "       <use x=\"127.246094\" xlink:href=\"#DejaVuSans-30\"/>\n",
       "       <use x=\"190.869141\" xlink:href=\"#DejaVuSans-30\"/>\n",
       "      </g>\n",
       "     </g>\n",
       "    </g>\n",
       "    <g id=\"xtick_14\">\n",
       "     <g id=\"line2d_27\">\n",
       "      <g>\n",
       "       <use style=\"stroke:#000000;stroke-width:0.8;\" x=\"575.236358\" xlink:href=\"#m1d57d677bd\" y=\"252\"/>\n",
       "      </g>\n",
       "     </g>\n",
       "     <g id=\"text_25\">\n",
       "      <!-- 2500 -->\n",
       "      <g transform=\"translate(562.511358 266.598437)scale(0.1 -0.1)\">\n",
       "       <use xlink:href=\"#DejaVuSans-32\"/>\n",
       "       <use x=\"63.623047\" xlink:href=\"#DejaVuSans-35\"/>\n",
       "       <use x=\"127.246094\" xlink:href=\"#DejaVuSans-30\"/>\n",
       "       <use x=\"190.869141\" xlink:href=\"#DejaVuSans-30\"/>\n",
       "      </g>\n",
       "     </g>\n",
       "    </g>\n",
       "    <g id=\"xtick_15\">\n",
       "     <g id=\"line2d_28\">\n",
       "      <g>\n",
       "       <use style=\"stroke:#000000;stroke-width:0.8;\" x=\"609.105117\" xlink:href=\"#m1d57d677bd\" y=\"252\"/>\n",
       "      </g>\n",
       "     </g>\n",
       "     <g id=\"text_26\">\n",
       "      <!-- 3000 -->\n",
       "      <g transform=\"translate(596.380117 266.598437)scale(0.1 -0.1)\">\n",
       "       <use xlink:href=\"#DejaVuSans-33\"/>\n",
       "       <use x=\"63.623047\" xlink:href=\"#DejaVuSans-30\"/>\n",
       "       <use x=\"127.246094\" xlink:href=\"#DejaVuSans-30\"/>\n",
       "       <use x=\"190.869141\" xlink:href=\"#DejaVuSans-30\"/>\n",
       "      </g>\n",
       "     </g>\n",
       "    </g>\n",
       "    <g id=\"xtick_16\">\n",
       "     <g id=\"line2d_29\">\n",
       "      <g>\n",
       "       <use style=\"stroke:#000000;stroke-width:0.8;\" x=\"642.973876\" xlink:href=\"#m1d57d677bd\" y=\"252\"/>\n",
       "      </g>\n",
       "     </g>\n",
       "     <g id=\"text_27\">\n",
       "      <!-- 3500 -->\n",
       "      <g transform=\"translate(630.248876 266.598437)scale(0.1 -0.1)\">\n",
       "       <use xlink:href=\"#DejaVuSans-33\"/>\n",
       "       <use x=\"63.623047\" xlink:href=\"#DejaVuSans-35\"/>\n",
       "       <use x=\"127.246094\" xlink:href=\"#DejaVuSans-30\"/>\n",
       "       <use x=\"190.869141\" xlink:href=\"#DejaVuSans-30\"/>\n",
       "      </g>\n",
       "     </g>\n",
       "    </g>\n",
       "    <g id=\"text_28\">\n",
       "     <!-- Epoch -->\n",
       "     <g transform=\"translate(505.870881 280.276563)scale(0.1 -0.1)\">\n",
       "      <use xlink:href=\"#DejaVuSans-45\"/>\n",
       "      <use x=\"63.183594\" xlink:href=\"#DejaVuSans-70\"/>\n",
       "      <use x=\"126.660156\" xlink:href=\"#DejaVuSans-6f\"/>\n",
       "      <use x=\"187.841797\" xlink:href=\"#DejaVuSans-63\"/>\n",
       "      <use x=\"242.822266\" xlink:href=\"#DejaVuSans-68\"/>\n",
       "     </g>\n",
       "    </g>\n",
       "   </g>\n",
       "   <g id=\"matplotlib.axis_4\">\n",
       "    <g id=\"ytick_8\">\n",
       "     <g id=\"line2d_30\">\n",
       "      <g>\n",
       "       <use style=\"stroke:#000000;stroke-width:0.8;\" x=\"394.363636\" xlink:href=\"#m19fa87b5e3\" y=\"233.88\"/>\n",
       "      </g>\n",
       "     </g>\n",
       "     <g id=\"text_29\">\n",
       "      <!-- 0.0 -->\n",
       "      <g transform=\"translate(371.460511 237.679219)scale(0.1 -0.1)\">\n",
       "       <use xlink:href=\"#DejaVuSans-30\"/>\n",
       "       <use x=\"63.623047\" xlink:href=\"#DejaVuSans-2e\"/>\n",
       "       <use x=\"95.410156\" xlink:href=\"#DejaVuSans-30\"/>\n",
       "      </g>\n",
       "     </g>\n",
       "    </g>\n",
       "    <g id=\"ytick_9\">\n",
       "     <g id=\"line2d_31\">\n",
       "      <g>\n",
       "       <use style=\"stroke:#000000;stroke-width:0.8;\" x=\"394.363636\" xlink:href=\"#m19fa87b5e3\" y=\"197.64\"/>\n",
       "      </g>\n",
       "     </g>\n",
       "     <g id=\"text_30\">\n",
       "      <!-- 0.2 -->\n",
       "      <g transform=\"translate(371.460511 201.439219)scale(0.1 -0.1)\">\n",
       "       <use xlink:href=\"#DejaVuSans-30\"/>\n",
       "       <use x=\"63.623047\" xlink:href=\"#DejaVuSans-2e\"/>\n",
       "       <use x=\"95.410156\" xlink:href=\"#DejaVuSans-32\"/>\n",
       "      </g>\n",
       "     </g>\n",
       "    </g>\n",
       "    <g id=\"ytick_10\">\n",
       "     <g id=\"line2d_32\">\n",
       "      <g>\n",
       "       <use style=\"stroke:#000000;stroke-width:0.8;\" x=\"394.363636\" xlink:href=\"#m19fa87b5e3\" y=\"161.4\"/>\n",
       "      </g>\n",
       "     </g>\n",
       "     <g id=\"text_31\">\n",
       "      <!-- 0.4 -->\n",
       "      <g transform=\"translate(371.460511 165.199219)scale(0.1 -0.1)\">\n",
       "       <use xlink:href=\"#DejaVuSans-30\"/>\n",
       "       <use x=\"63.623047\" xlink:href=\"#DejaVuSans-2e\"/>\n",
       "       <use x=\"95.410156\" xlink:href=\"#DejaVuSans-34\"/>\n",
       "      </g>\n",
       "     </g>\n",
       "    </g>\n",
       "    <g id=\"ytick_11\">\n",
       "     <g id=\"line2d_33\">\n",
       "      <g>\n",
       "       <use style=\"stroke:#000000;stroke-width:0.8;\" x=\"394.363636\" xlink:href=\"#m19fa87b5e3\" y=\"125.16\"/>\n",
       "      </g>\n",
       "     </g>\n",
       "     <g id=\"text_32\">\n",
       "      <!-- 0.6 -->\n",
       "      <g transform=\"translate(371.460511 128.959219)scale(0.1 -0.1)\">\n",
       "       <use xlink:href=\"#DejaVuSans-30\"/>\n",
       "       <use x=\"63.623047\" xlink:href=\"#DejaVuSans-2e\"/>\n",
       "       <use x=\"95.410156\" xlink:href=\"#DejaVuSans-36\"/>\n",
       "      </g>\n",
       "     </g>\n",
       "    </g>\n",
       "    <g id=\"ytick_12\">\n",
       "     <g id=\"line2d_34\">\n",
       "      <g>\n",
       "       <use style=\"stroke:#000000;stroke-width:0.8;\" x=\"394.363636\" xlink:href=\"#m19fa87b5e3\" y=\"88.92\"/>\n",
       "      </g>\n",
       "     </g>\n",
       "     <g id=\"text_33\">\n",
       "      <!-- 0.8 -->\n",
       "      <g transform=\"translate(371.460511 92.719219)scale(0.1 -0.1)\">\n",
       "       <use xlink:href=\"#DejaVuSans-30\"/>\n",
       "       <use x=\"63.623047\" xlink:href=\"#DejaVuSans-2e\"/>\n",
       "       <use x=\"95.410156\" xlink:href=\"#DejaVuSans-38\"/>\n",
       "      </g>\n",
       "     </g>\n",
       "    </g>\n",
       "    <g id=\"ytick_13\">\n",
       "     <g id=\"line2d_35\">\n",
       "      <g>\n",
       "       <use style=\"stroke:#000000;stroke-width:0.8;\" x=\"394.363636\" xlink:href=\"#m19fa87b5e3\" y=\"52.68\"/>\n",
       "      </g>\n",
       "     </g>\n",
       "     <g id=\"text_34\">\n",
       "      <!-- 1.0 -->\n",
       "      <g transform=\"translate(371.460511 56.479219)scale(0.1 -0.1)\">\n",
       "       <use xlink:href=\"#DejaVuSans-31\"/>\n",
       "       <use x=\"63.623047\" xlink:href=\"#DejaVuSans-2e\"/>\n",
       "       <use x=\"95.410156\" xlink:href=\"#DejaVuSans-30\"/>\n",
       "      </g>\n",
       "     </g>\n",
       "    </g>\n",
       "   </g>\n",
       "   <g id=\"line2d_36\">\n",
       "    <path clip-path=\"url(#p55f510841b)\" d=\"M 405.892562 154.152  L 406.095775 154.152  L 406.23125 146.903999  L 406.366725 154.152  L 406.434462 154.151998  L 406.5022 161.4  L 406.705412 139.656  L 406.77315 146.903999  L 406.976362 132.408  L 407.111837 139.655999  L 407.31505 139.655999  L 407.586 117.911999  L 407.653737 132.408  L 407.789212 117.912  L 407.924688 117.912  L 407.992425 110.664  L 408.1279 117.911999  L 408.195638 117.911998  L 408.331113 110.663999  L 408.39885 139.655998  L 408.466588 117.911999  L 408.534325 125.159998  L 408.602063 125.159999  L 408.6698 117.911999  L 408.805275 125.159999  L 409.076225 125.159999  L 409.279438 110.663999  L 409.347175 132.408  L 409.414913 125.159999  L 409.550388 110.663998  L 409.618125 125.159999  L 409.753601 110.663998  L 409.821338 125.16  L 409.889076 117.911999  L 409.956813 125.16  L 410.092288 110.663999  L 410.430976 110.664  L 410.566451 117.911999  L 410.634188 117.912  L 410.769663 125.159999  L 410.905138 125.159999  L 411.040613 117.912  L 411.514776 117.911999  L 411.582514 125.16  L 411.717989 110.663999  L 411.921201 110.663999  L 412.056676 117.911998  L 412.598576 117.911998  L 412.666314 125.159999  L 412.801789 117.911999  L 412.937264 117.911999  L 413.005001 125.159999  L 413.140476 117.911999  L 413.275951 125.159998  L 413.614639 125.159999  L 413.750114 117.912  L 414.088802 117.911998  L 414.224277 125.16  L 414.495227 125.159998  L 414.630702 117.911999  L 414.766177 125.159998  L 414.969389 125.159998  L 415.104864 117.912  L 415.375815 117.911999  L 415.443552 125.159999  L 415.51129 117.911999  L 415.579027 125.159998  L 415.646765 117.911999  L 415.78224 125.159999  L 416.32414 125.159998  L 416.459615 117.911999  L 416.59509 125.159999  L 416.86604 125.159998  L 417.001515 117.911999  L 417.204728 117.911998  L 417.272465 125.159999  L 417.340203 117.911999  L 417.40794 125.159999  L 417.543415 117.911998  L 417.67889 117.911999  L 417.746628 125.159998  L 417.882103 117.911998  L 417.94984 117.911998  L 418.085315 125.159999  L 418.153053 125.16  L 418.22079 117.911999  L 418.288528 125.159999  L 418.424003 117.911999  L 418.49174 117.912  L 418.559478 125.16  L 418.627215 117.911999  L 418.694953 125.159999  L 418.830428 117.912  L 418.898166 117.911999  L 418.965903 125.159999  L 419.101378 117.911999  L 419.169116 117.912  L 419.236853 125.16  L 419.304591 117.911998  L 419.372328 132.407998  L 419.440066 117.911999  L 419.507803 125.159999  L 419.643278 117.911999  L 420.117441 117.912  L 420.252916 125.159999  L 420.320653 125.159999  L 420.456128 117.911998  L 420.998029 117.911999  L 421.065766 125.16  L 421.201241 117.911999  L 421.336716 125.159999  L 421.472191 117.911998  L 421.539929 117.911999  L 421.607666 132.407998  L 421.675404 125.159999  L 421.810879 117.911999  L 421.946354 132.407999  L 422.081829 117.911999  L 422.149566 132.407998  L 422.217304 125.159999  L 422.352779 125.159999  L 422.488254 117.911999  L 422.826942 117.911999  L 422.894679 125.159999  L 423.030154 117.911999  L 423.504317 117.911999  L 423.572054 125.159999  L 423.707529 117.911999  L 423.843004 117.911999  L 423.910742 125.159999  L 424.046217 117.911999  L 424.249429 117.911999  L 424.317167 125.159999  L 424.384904 117.912  L 424.52038 139.655999  L 424.655855 117.911999  L 424.723592 132.407999  L 424.859067 117.912  L 424.926805 125.16  L 424.994542 117.911999  L 425.06228 132.407998  L 425.130017 125.159999  L 425.265492 117.911999  L 425.739655 117.911999  L 425.87513 132.407999  L 426.010605 117.911999  L 426.552505 117.911999  L 426.620243 125.16  L 426.755718 117.911999  L 426.891193 117.911999  L 427.026668 125.159999  L 427.162143 117.911998  L 427.297618 125.159999  L 427.433093 117.911999  L 427.636305 117.911999  L 427.704043 125.16  L 427.839518 117.911999  L 427.907255 117.912  L 428.04273 125.159999  L 428.110468 125.159999  L 428.245943 117.911999  L 428.381418 117.911999  L 428.516893 139.656  L 428.584631 132.407998  L 428.652368 139.656  L 428.787843 132.407998  L 428.855581 132.408  L 428.991056 117.911999  L 429.194268 117.911998  L 429.329743 132.408  L 429.532956 132.407999  L 429.600693 139.656  L 429.803906 117.911998  L 430.007119 132.407999  L 430.142594 132.408  L 430.278069 139.656  L 430.345806 139.655998  L 430.616756 117.911998  L 430.684494 117.911998  L 430.752231 125.159999  L 430.819969 117.912  L 431.023181 139.656  L 431.158656 117.911999  L 431.294131 117.911998  L 431.361869 132.408  L 431.429606 125.159999  L 431.497344 117.911998  L 431.565081 125.16  L 431.632819 117.911999  L 431.836032 132.407999  L 431.903769 125.16  L 431.971507 132.407998  L 432.174719 117.911999  L 432.377932 139.655998  L 432.513407 132.407998  L 432.716619 132.407999  L 432.784357 117.911999  L 432.852094 125.159998  L 432.987569 139.655998  L 433.190782 117.911999  L 433.258519 125.159999  L 433.461732 110.663999  L 433.664944 132.407999  L 433.80042 132.407999  L 433.935895 117.911998  L 434.139107 139.655999  L 434.34232 125.159998  L 434.477795 132.407999  L 434.545532 132.407998  L 434.681007 125.16  L 434.816482 139.656  L 435.019695 125.159998  L 435.15517 132.407999  L 435.69707 132.407999  L 435.832545 117.912  L 435.900283 132.407998  L 435.96802 110.663999  L 436.035758 117.911998  L 436.171233 117.911998  L 436.23897 110.663999  L 436.374445 132.407998  L 436.442183 117.911998  L 436.50992 125.159999  L 436.577658 132.407998  L 436.645395 125.159999  L 436.78087 132.408  L 437.119558 132.407999  L 437.187295 117.911998  L 437.255033 125.159999  L 437.390508 125.159999  L 437.458246 132.408  L 437.661458 110.663998  L 437.796933 132.407998  L 437.864671 110.663998  L 437.932408 117.911999  L 438.203358 117.911998  L 438.338833 125.159999  L 438.406571 125.159999  L 438.474308 132.407999  L 438.677521 117.911999  L 438.745258 125.159999  L 438.812996 117.911999  L 438.880733 125.159998  L 438.948471 117.911999  L 439.083946 125.159999  L 439.219421 117.911999  L 439.422634 132.407998  L 439.625846 132.407999  L 439.829059 117.911999  L 440.100009 117.911999  L 440.167746 132.407999  L 440.303221 117.911998  L 440.438696 125.159998  L 440.574171 117.911998  L 440.709646 117.911998  L 440.845121 132.407998  L 440.980596 125.159998  L 441.048334 125.159999  L 441.183809 110.663999  L 441.387022 125.159998  L 441.522497 125.159999  L 441.590234 117.911999  L 441.725709 125.16  L 442.064397 125.159999  L 442.132134 132.407998  L 442.335347 117.911999  L 442.470822 125.159999  L 442.538559 117.911998  L 442.674034 132.407999  L 442.809509 125.159998  L 443.012722 125.159999  L 443.08046 139.655998  L 443.148197 132.408  L 443.215935 132.407998  L 443.419147 117.911998  L 443.486885 125.159998  L 443.554622 117.911999  L 443.62236 132.407999  L 443.825572 110.664  L 443.961047 125.159999  L 444.16426 125.16  L 444.231997 110.663998  L 444.299735 125.159998  L 444.367472 117.911999  L 444.43521 117.911999  L 444.502947 132.408  L 444.570685 125.159998  L 444.638422 125.159999  L 444.70616 132.407999  L 444.841635 125.16  L 444.909373 125.16  L 444.97711 132.408  L 445.044848 125.159998  L 445.112585 132.408  L 445.180323 125.159999  L 445.24806 132.407998  L 445.383535 125.159998  L 445.51901 125.16  L 445.586748 139.655998  L 445.722223 125.159998  L 445.78996 125.159999  L 445.857698 132.407999  L 446.06091 117.911999  L 446.196385 125.159998  L 446.264123 125.159999  L 446.33186 132.407999  L 446.467335 125.159999  L 446.535073 125.159999  L 446.602811 117.911999  L 446.806023 132.407998  L 446.873761 125.159998  L 447.009236 132.408  L 447.076973 125.159998  L 447.144711 132.408  L 447.280186 125.159999  L 447.347923 125.159998  L 447.415661 117.911998  L 447.483398 125.159999  L 447.551136 117.912  L 447.618873 125.159998  L 447.754348 117.911999  L 447.822086 125.159999  L 447.957561 117.912  L 448.025298 117.912  L 448.160773 110.663999  L 448.228511 125.159999  L 448.296248 117.911998  L 448.363986 110.663999  L 448.431723 125.159999  L 448.499461 117.911999  L 448.567199 125.159999  L 448.634936 117.911998  L 448.702674 125.16  L 448.770411 117.911998  L 448.838149 125.159998  L 448.905886 117.911999  L 448.973624 132.407998  L 449.109099 117.912  L 449.244574 125.159999  L 449.312311 110.664  L 449.380049 117.912  L 449.447786 125.159999  L 449.515524 117.911998  L 449.583261 125.159999  L 449.650999 117.911999  L 449.786474 132.407999  L 449.921949 110.663999  L 450.057424 125.159998  L 450.192899 117.912  L 450.328374 125.159998  L 450.463849 117.911998  L 450.531587 125.159999  L 450.599324 117.911998  L 450.734799 125.159998  L 450.870274 110.663999  L 450.938012 125.159999  L 451.005749 117.912  L 451.073487 117.911999  L 451.141224 125.16  L 451.276699 117.911999  L 451.344437 117.911999  L 451.479912 125.159999  L 451.750862 125.159999  L 452.021812 103.415999  L 452.157287 117.911999  L 452.292762 117.912  L 452.3605 125.159999  L 452.428237 117.911999  L 452.495975 125.159999  L 452.63145 117.911999  L 452.699187 117.911998  L 452.766925 132.408  L 452.834662 125.159999  L 452.970137 117.912  L 453.037875 117.911999  L 453.105612 125.159998  L 453.308825 103.415999  L 453.512037 125.159998  L 453.579775 117.911998  L 453.647512 125.159998  L 453.71525 117.911999  L 453.850725 125.159999  L 454.053938 110.663999  L 454.121675 125.159999  L 454.189413 117.911999  L 454.25715 117.911999  L 454.392625 125.159999  L 454.460363 125.159999  L 454.5281 117.912  L 454.663575 125.159998  L 454.731313 117.911999  L 454.79905 125.159999  L 454.934525 117.912  L 455.002263 117.911999  L 455.07 125.159998  L 455.205475 117.911998  L 455.34095 132.407998  L 455.408688 110.663998  L 455.476425 117.911999  L 455.544163 117.911999  L 455.6119 110.663999  L 455.679638 117.911999  L 455.747375 110.663999  L 455.882851 117.911999  L 455.950588 117.911999  L 456.018326 125.159999  L 456.086063 110.664  L 456.153801 117.911999  L 456.221538 125.159999  L 456.357013 110.663999  L 456.424751 110.664  L 456.560226 125.159999  L 456.695701 117.911999  L 457.305338 117.911999  L 457.373076 110.663998  L 457.508551 117.911999  L 457.576288 110.663998  L 457.711764 132.408  L 457.847239 110.664  L 457.914976 125.159998  L 458.118189 103.415999  L 458.253664 117.911998  L 458.524614 117.911999  L 458.592351 125.159999  L 458.727826 117.911999  L 458.998776 117.911999  L 459.066514 110.663999  L 459.201989 117.911999  L 459.405201 117.911999  L 459.472939 110.663998  L 459.608414 125.159999  L 459.676152 110.663998  L 459.743889 125.159999  L 459.811627 117.911999  L 459.947102 117.911999  L 460.014839 110.663998  L 460.082577 125.16  L 460.218052 110.663999  L 460.353527 117.911999  L 460.421264 110.663999  L 460.489002 117.911999  L 460.556739 103.416  L 460.692214 117.912  L 460.759952 110.663999  L 460.827689 117.911998  L 461.030902 103.415999  L 461.166377 125.159998  L 461.234114 103.415999  L 461.301852 110.663999  L 461.437327 110.663998  L 461.572802 117.912  L 461.64054 110.663999  L 461.708277 125.159999  L 461.776015 103.415999  L 461.843752 110.663998  L 461.979227 110.663998  L 462.114702 117.912  L 462.18244 110.663998  L 462.250177 117.912  L 462.317915 110.663999  L 462.45339 117.911998  L 462.588865 117.911999  L 462.656602 103.415998  L 462.792077 117.911999  L 462.859815 117.911999  L 462.927552 125.159998  L 462.99529 103.415998  L 463.130765 117.911998  L 463.198502 110.663998  L 463.333978 125.159999  L 463.53719 103.415999  L 463.672665 110.663999  L 463.740403 110.664  L 463.875878 117.911999  L 463.943615 117.911998  L 464.011353 125.159999  L 464.07909 117.912  L 464.146828 125.159999  L 464.282303 110.663999  L 464.35004 117.911999  L 464.485515 110.663999  L 464.553253 110.663999  L 464.62099 117.911999  L 464.688728 110.663999  L 464.89194 125.16  L 465.027415 117.911999  L 465.095153 117.911999  L 465.162891 103.415999  L 465.230628 110.663999  L 465.366103 117.912  L 465.433841 110.663998  L 465.637053 125.159998  L 465.704791 110.663999  L 465.840266 125.159998  L 465.908003 110.663998  L 465.975741 125.16  L 466.043478 110.664  L 466.111216 117.911999  L 466.246691 110.663999  L 466.382166 117.911999  L 466.449903 103.415999  L 466.517641 117.912  L 466.585378 110.664  L 466.720853 125.159999  L 466.924066 110.663999  L 466.991804 117.911999  L 467.059541 103.415999  L 467.195016 117.911998  L 467.262754 117.911999  L 467.330491 110.663999  L 467.398229 125.16  L 467.465966 117.911999  L 467.533704 117.911999  L 467.669179 110.663999  L 467.804654 110.663999  L 467.872391 103.416  L 468.007866 117.911999  L 468.075604 117.911999  L 468.211079 110.663998  L 468.278816 117.911998  L 468.346554 103.415999  L 468.414291 117.912  L 468.482029 110.663999  L 468.549766 110.663998  L 468.752979 125.159999  L 468.888454 110.663998  L 468.956192 125.159998  L 469.091667 103.415999  L 469.159404 125.159999  L 469.227142 117.911998  L 469.362617 117.912  L 469.498092 110.663998  L 469.633567 117.911998  L 469.701304 117.911999  L 469.769042 103.415999  L 469.836779 110.664  L 469.904517 110.663999  L 469.972254 117.911998  L 470.039992 103.415998  L 470.107729 110.663999  L 470.175467 125.16  L 470.243204 117.911999  L 470.310942 117.911999  L 470.378679 125.159999  L 470.514154 103.415998  L 470.581892 125.159998  L 470.64963 110.663999  L 470.785105 125.159998  L 470.852842 117.911999  L 470.92058 125.159999  L 470.988317 103.416  L 471.056055 110.663999  L 471.123792 110.664  L 471.19153 103.415998  L 471.259267 117.911999  L 471.327005 110.663999  L 471.46248 110.663998  L 471.530217 117.912  L 471.597955 103.416  L 471.665692 125.159999  L 471.73343 110.663999  L 471.801167 117.912  L 471.936642 110.663999  L 472.00438 117.911999  L 472.072117 103.415999  L 472.139855 117.911999  L 472.207592 110.663999  L 472.27533 110.663998  L 472.410805 117.911999  L 472.478543 110.663999  L 472.54628 117.912  L 472.614018 110.663998  L 472.681755 117.911998  L 472.81723 110.663999  L 472.884968 110.663999  L 473.020443 117.911999  L 473.08818 110.664  L 473.223655 117.911999  L 473.291393 117.911998  L 473.35913 110.664  L 473.426868 125.16  L 473.562343 103.415998  L 473.697818 117.911998  L 473.833293 110.663999  L 473.968768 117.912  L 474.036505 117.912  L 474.104243 103.415998  L 474.239718 125.159998  L 474.307455 103.415998  L 474.442931 117.911998  L 474.510668 110.663999  L 474.646143 117.911998  L 474.781618 117.911998  L 474.849356 110.664  L 474.917093 117.911998  L 474.984831 110.664  L 475.120306 117.911999  L 475.188043 110.663999  L 475.255781 117.911999  L 475.323518 110.663999  L 475.391256 117.911998  L 475.526731 110.663999  L 475.662206 117.911998  L 475.865418 117.911999  L 476.000893 110.663998  L 476.068631 117.911999  L 476.204106 110.663999  L 476.407319 110.664  L 476.475056 117.911999  L 476.610531 103.415999  L 476.746006 117.911999  L 476.813744 117.911999  L 476.881481 125.159999  L 477.016956 110.663999  L 477.084694 125.159998  L 477.220169 103.415999  L 477.287906 125.159998  L 477.355644 117.911999  L 477.491119 110.663999  L 477.558856 117.911999  L 477.694331 103.415999  L 477.829806 110.663998  L 477.897544 103.415999  L 477.965281 125.159998  L 478.033019 103.415998  L 478.100757 110.663999  L 478.168494 103.416  L 478.303969 117.911999  L 478.439444 103.415999  L 478.507182 117.911999  L 478.574919 110.663999  L 478.642657 103.415999  L 478.710394 110.663999  L 478.778132 103.415999  L 478.913607 125.159999  L 479.049082 110.663999  L 479.116819 110.664  L 479.184557 103.415999  L 479.252294 117.911999  L 479.320032 110.664  L 479.455507 117.911998  L 479.590982 110.663999  L 479.658719 110.663999  L 479.726457 117.911999  L 479.794194 103.415999  L 479.861932 110.664  L 479.92967 117.911999  L 480.065145 103.415999  L 480.20062 125.159999  L 480.336095 110.663999  L 480.47157 117.911998  L 480.539307 103.415999  L 480.607045 117.911998  L 480.674782 103.416  L 480.74252 110.663999  L 480.810257 117.911999  L 480.945732 103.415998  L 481.01347 117.911998  L 481.081207 103.415999  L 481.148945 110.663999  L 481.216682 103.415998  L 481.28442 117.911999  L 481.352157 110.663998  L 481.419895 117.912  L 481.487632 110.664  L 481.55537 117.911999  L 481.623107 103.415999  L 481.690845 110.663998  L 481.758583 110.663998  L 481.894058 125.16  L 482.09727 103.415999  L 482.300483 117.911999  L 482.435958 103.415999  L 482.503695 125.159998  L 482.63917 110.663998  L 482.706908 117.911998  L 482.842383 103.415999  L 482.977858 110.663999  L 483.113333 103.415999  L 483.18107 110.663998  L 483.316545 103.416  L 483.384283 117.911998  L 483.519758 103.415998  L 483.587496 125.159998  L 483.722971 110.663999  L 483.926183 110.663999  L 483.993921 125.159998  L 484.129396 110.663999  L 484.197133 110.663998  L 484.332608 103.415998  L 484.468083 125.159998  L 484.671296 110.663998  L 484.739033 117.911999  L 484.942246 103.415999  L 485.145458 103.415999  L 485.280933 125.159998  L 485.348671 117.911998  L 485.416409 103.415999  L 485.484146 117.911998  L 485.551884 110.663998  L 485.619621 110.663999  L 485.687359 117.911999  L 485.755096 103.415999  L 485.822834 110.663999  L 486.026046 110.663998  L 486.161521 103.415999  L 486.296996 117.911999  L 486.432471 110.663999  L 486.974371 110.663999  L 487.042109 117.911999  L 487.109846 110.664  L 487.177584 117.911998  L 487.380797 103.415999  L 487.448534 117.911998  L 487.516272 110.663998  L 487.584009 117.912  L 487.719484 110.663999  L 487.787222 117.911999  L 487.922697 103.416  L 487.990434 103.415998  L 488.125909 117.911999  L 488.193647 103.415999  L 488.261384 110.663999  L 488.329122 110.663999  L 488.464597 103.415999  L 488.532334 103.415999  L 488.600072 110.663999  L 488.667809 103.415998  L 488.803284 117.912  L 488.871022 103.416  L 488.938759 110.663999  L 489.006497 103.415999  L 489.074234 110.663999  L 489.20971 103.415998  L 489.345185 110.663999  L 489.48066 110.663998  L 489.616135 103.415998  L 489.75161 117.911998  L 489.887085 117.911998  L 489.954822 110.664  L 490.02256 117.911999  L 490.158035 103.415998  L 490.29351 110.663999  L 490.361247 110.663998  L 490.428985 117.911999  L 490.496722 103.415998  L 490.56446 117.911998  L 490.699935 103.415999  L 490.767672 110.663998  L 490.903147 103.415998  L 490.970885 103.415999  L 491.10636 110.663998  L 491.241835 110.663999  L 491.37731 103.415999  L 491.445048 117.911998  L 491.512785 110.663999  L 491.580523 103.415999  L 491.783735 117.911999  L 491.91921 103.415999  L 492.054685 125.159999  L 492.122423 103.415999  L 492.19016 117.912  L 492.257898 110.663998  L 492.393373 103.415999  L 492.46111 103.415999  L 492.596585 110.663999  L 492.73206 103.416  L 492.867536 117.911999  L 493.003011 110.663999  L 493.138486 110.664  L 493.206223 132.407999  L 493.341698 103.415998  L 493.477173 117.911998  L 493.544911 103.415998  L 493.612648 117.911999  L 493.748123 103.415998  L 493.883598 117.911999  L 493.951336 110.664  L 494.154548 125.159999  L 494.222286 125.159998  L 494.290023 110.664  L 494.357761 117.911999  L 494.425498 110.663999  L 494.560973 117.911999  L 494.696449 110.663999  L 494.967399 110.663999  L 495.102874 125.159999  L 495.170611 125.159998  L 495.238349 103.415999  L 495.306086 110.663999  L 495.373824 103.415999  L 495.441561 110.663998  L 495.577036 103.415999  L 495.780249 103.415999  L 495.847986 110.663999  L 495.915724 103.415999  L 496.118936 125.159999  L 496.254411 103.416  L 496.322149 110.663999  L 496.389886 96.167999  L 496.593099 117.911999  L 496.660837 103.415999  L 496.728574 110.663999  L 496.796312 110.664  L 496.931787 103.416  L 496.999524 110.663999  L 497.134999 103.415999  L 497.202737 103.416  L 497.338212 117.911999  L 497.473687 110.663999  L 497.676899 125.159999  L 497.812374 110.664  L 497.880112 117.911998  L 497.947849 103.415999  L 498.015587 110.663998  L 498.083324 110.664  L 498.218799 117.912  L 498.354275 96.167999  L 498.48975 110.663999  L 498.557487 103.416  L 498.692962 110.663999  L 498.828437 110.663998  L 498.963912 117.911999  L 499.099387 110.663998  L 499.167125 110.663999  L 499.234862 96.167999  L 499.3026 103.416  L 499.505812 117.911999  L 499.709025 96.168  L 499.776762 110.663999  L 499.8445 103.415999  L 499.979975 110.663998  L 500.11545 103.416  L 500.250925 110.663999  L 500.454138 110.664  L 500.521875 117.911999  L 500.589613 96.167999  L 500.65735 117.911999  L 500.792825 103.415998  L 501.266988 103.415998  L 501.334725 125.159998  L 501.537938 103.416  L 501.74115 117.911999  L 501.944363 96.167999  L 502.0121 103.415999  L 502.079838 125.16  L 502.147576 117.911999  L 502.215313 110.663999  L 502.283051 125.159998  L 502.350788 110.663999  L 502.418526 117.911999  L 502.554001 110.663998  L 502.689476 110.663999  L 502.757213 96.167999  L 502.824951 117.911999  L 502.892688 103.415999  L 502.960426 110.663999  L 503.028163 117.911999  L 503.163638 110.663998  L 503.231376 117.911999  L 503.366851 110.663999  L 503.570063 110.663998  L 503.637801 117.911999  L 503.705538 96.167999  L 503.773276 117.912  L 503.841013 110.663998  L 503.908751 103.415998  L 504.044226 110.663999  L 504.179701 110.663999  L 504.315176 103.415999  L 504.382914 110.663999  L 504.518389 103.415999  L 504.653864 110.664  L 504.721601 103.415999  L 504.857076 117.911998  L 504.992551 96.167999  L 505.128026 110.663999  L 505.195764 96.167999  L 505.263501 125.16  L 505.331239 103.416  L 505.398976 110.663999  L 505.466714 103.415998  L 505.669926 117.911999  L 505.737664 117.911998  L 505.805402 96.167999  L 505.873139 103.415999  L 506.008614 103.415998  L 506.144089 117.911999  L 506.347302 103.415999  L 506.415039 103.415999  L 506.550514 110.663999  L 506.889202 110.663999  L 506.956939 103.415999  L 507.092414 110.663999  L 507.160152 103.415998  L 507.227889 110.663999  L 507.363364 96.167999  L 507.431102 117.911999  L 507.566577 103.415998  L 507.634315 103.416  L 507.76979 117.911999  L 507.905265 103.415999  L 508.108477 117.912  L 508.243952 96.167998  L 508.31169 117.911998  L 508.379427 110.663999  L 508.447165 110.664  L 508.514902 103.415998  L 508.58264 117.911998  L 508.650377 110.663999  L 508.718115 110.663999  L 508.785852 103.415998  L 508.85359 117.912  L 508.921327 110.663999  L 508.989065 96.167999  L 509.056802 103.415999  L 509.12454 117.912  L 509.192277 103.415998  L 509.260015 110.663998  L 509.39549 110.663999  L 509.463228 103.416  L 509.598703 110.663999  L 509.66644 96.167999  L 509.801915 110.664  L 509.869653 110.663999  L 509.93739 103.415999  L 510.005128 110.663999  L 510.072865 103.416  L 510.140603 110.663999  L 510.276078 103.415999  L 510.343815 125.16  L 510.47929 103.415999  L 510.547028 103.415998  L 510.614765 110.663999  L 510.682503 103.415998  L 510.75024 110.663999  L 510.817978 103.415999  L 510.953453 110.664  L 511.088928 96.168  L 511.224403 110.663998  L 511.359878 110.663999  L 511.427616 103.416  L 511.495353 110.663999  L 511.563091 103.415998  L 511.698566 110.663999  L 511.969516 110.663999  L 512.037253 117.911998  L 512.172728 96.167999  L 512.375941 110.663999  L 512.511416 103.415998  L 512.579153 110.663999  L 512.646891 96.167999  L 512.714628 103.415998  L 512.782366 117.911998  L 512.850103 96.167998  L 512.917841 117.911998  L 512.985578 110.663999  L 513.256529 110.663999  L 513.324266 96.167999  L 513.527479 117.911998  L 513.730691 96.167999  L 513.798429 110.663998  L 513.866166 103.415999  L 514.001641 96.167999  L 514.069379 96.167999  L 514.137116 117.911999  L 514.204854 110.663999  L 514.272591 110.663999  L 514.340329 117.911999  L 514.475804 103.415999  L 514.611279 110.663999  L 514.882229 110.663998  L 514.949966 117.911999  L 515.017704 96.167999  L 515.085442 117.912  L 515.153179 96.167999  L 515.220917 117.911999  L 515.288654 110.663999  L 515.424129 96.167999  L 515.627342 110.663999  L 515.695079 110.663999  L 515.762817 125.159999  L 515.830554 103.415999  L 515.898292 110.664  L 515.966029 117.911999  L 516.101504 110.663999  L 516.169242 117.911999  L 516.304717 110.663999  L 516.372454 125.159999  L 516.440192 103.415998  L 516.507929 110.663999  L 516.575667 110.663999  L 516.643404 96.167999  L 516.711142 103.415999  L 516.846617 110.663998  L 516.982092 96.167999  L 517.04983 117.911999  L 517.117567 110.663998  L 517.185305 96.168  L 517.253042 103.415998  L 517.32078 103.415998  L 517.456255 110.663999  L 517.59173 103.415999  L 517.659467 110.663999  L 517.727205 103.415999  L 517.794942 117.911999  L 517.86268 110.663999  L 517.930417 110.663999  L 517.998155 96.167999  L 518.13363 117.912  L 518.269105 110.664  L 518.336842 110.663999  L 518.472317 88.92  L 518.540055 103.415999  L 518.607792 96.167999  L 518.67553 96.167999  L 518.878743 110.664  L 518.94648 110.663998  L 519.081955 103.415999  L 519.149693 103.415999  L 519.285168 110.663999  L 519.352905 96.167999  L 519.420643 110.663998  L 519.48838 88.919999  L 519.691593 117.912  L 519.894805 103.415998  L 520.03028 110.663999  L 520.098018 110.664  L 520.233493 125.16  L 520.368968 96.167999  L 520.572181 117.911998  L 520.775393 96.167998  L 520.978606 117.912  L 521.046343 96.167998  L 521.114081 117.911999  L 521.317293 96.167999  L 521.385031 96.168  L 521.452768 88.92  L 521.588243 103.416  L 521.655981 103.415998  L 521.723718 110.663998  L 521.859193 96.167998  L 521.926931 110.663999  L 521.994668 103.415998  L 522.401094 103.415998  L 522.468831 117.911998  L 522.536569 96.167999  L 522.672044 110.663998  L 522.807519 96.167999  L 522.875256 110.663998  L 522.942994 96.168  L 523.010731 103.415999  L 523.078469 110.663999  L 523.146206 96.167999  L 523.213944 103.415999  L 523.417156 117.911998  L 523.484894 110.663999  L 523.620369 117.912  L 523.688106 103.415999  L 523.755844 125.159999  L 523.891319 96.167999  L 524.026794 110.663998  L 524.094531 110.664  L 524.162269 96.167998  L 524.230007 103.415999  L 524.297744 110.664  L 524.365482 96.168  L 524.433219 110.663999  L 524.500957 88.92  L 524.568694 96.167998  L 524.636432 110.664  L 524.704169 88.919999  L 524.771907 110.663999  L 524.839644 103.415999  L 524.975119 103.416  L 525.042857 110.663998  L 525.178332 96.167999  L 525.246069 110.663999  L 525.313807 96.168  L 525.381544 103.415998  L 525.449282 103.415999  L 525.584757 117.911998  L 525.720232 103.415999  L 525.855707 110.663999  L 525.923444 96.167999  L 526.05892 110.663999  L 526.126657 103.416  L 526.194395 110.663999  L 526.32987 103.415998  L 526.465345 110.663999  L 526.736295 110.663998  L 526.87177 103.415998  L 526.939507 103.415998  L 527.007245 96.167999  L 527.14272 117.912  L 527.278195 96.168  L 527.41367 103.415999  L 527.481407 103.415999  L 527.616882 110.663998  L 527.752357 103.415999  L 527.820095 103.415999  L 527.95557 96.167999  L 528.158783 117.911998  L 528.361995 103.415999  L 528.429733 110.664  L 528.49747 103.415998  L 528.632945 117.911998  L 528.700683 103.416  L 528.76842 117.911999  L 528.903895 103.415999  L 528.971633 110.663998  L 529.174845 96.167998  L 529.378058 110.663999  L 529.445795 110.663999  L 529.513533 96.167999  L 529.58127 103.415998  L 529.649008 96.167999  L 529.784483 110.663999  L 529.852221 110.663999  L 529.919958 117.912  L 530.055433 103.415998  L 530.190908 110.663999  L 530.326383 88.919999  L 530.461858 103.415998  L 530.597333 96.167999  L 530.732808 110.663999  L 530.800546 103.416  L 530.868283 125.159998  L 531.003758 96.167999  L 531.071496 117.911999  L 531.139233 110.663999  L 531.206971 103.416  L 531.342446 110.663999  L 531.410183 103.416  L 531.477921 117.912  L 531.545658 110.663999  L 531.613396 96.167999  L 531.681134 110.663998  L 531.748871 103.415999  L 531.816609 110.663999  L 531.952084 96.167999  L 532.019821 110.663998  L 532.087559 96.167999  L 532.155296 110.663998  L 532.223034 103.415999  L 532.290771 103.415999  L 532.358509 96.167999  L 532.561721 110.663999  L 532.629459 110.663999  L 532.832671 96.167999  L 532.900409 103.415999  L 532.968146 96.167998  L 533.103621 110.663998  L 533.239096 88.919999  L 533.306834 117.911998  L 533.374571 110.663998  L 533.510047 103.416  L 533.645522 110.663998  L 533.848734 96.167999  L 533.984209 103.415999  L 534.051947 103.415998  L 534.119684 110.663999  L 534.255159 103.415999  L 534.322897 103.415999  L 534.390634 110.663999  L 534.526109 103.415998  L 534.593847 103.415999  L 534.661584 117.911998  L 534.729322 110.663999  L 534.797059 96.168  L 534.864797 103.415999  L 534.932534 103.415999  L 535.000272 110.663999  L 535.068009 103.415999  L 535.135747 110.663998  L 535.271222 96.167999  L 535.33896 110.663998  L 535.406697 96.167999  L 535.474435 103.415999  L 535.542172 103.415998  L 535.677647 110.663998  L 535.745385 88.92  L 535.88086 110.663999  L 535.948597 96.168  L 536.016335 103.415999  L 536.084072 96.167999  L 536.15181 110.663998  L 536.219547 96.168  L 536.287285 103.415999  L 536.42276 96.167999  L 536.490497 103.415999  L 536.558235 96.167999  L 536.69371 110.664  L 536.761447 96.167999  L 536.96466 117.912  L 537.167873 88.919999  L 537.303348 103.415999  L 537.371085 103.416  L 537.50656 110.663998  L 537.574298 96.168  L 537.642035 103.415999  L 537.709773 110.663998  L 537.845248 96.167999  L 537.980723 110.663999  L 538.04846 110.663999  L 538.116198 103.415999  L 538.183935 110.663999  L 538.387148 88.919999  L 538.454885 103.415999  L 538.522623 96.167999  L 538.658098 103.415999  L 538.793573 103.415999  L 538.86131 96.167999  L 538.996786 110.663998  L 539.064523 96.167999  L 539.132261 103.415999  L 539.267736 110.663999  L 539.470948 96.167999  L 539.538686 96.168  L 539.606423 110.663999  L 539.674161 103.416  L 539.741898 96.167999  L 539.809636 110.664  L 539.877373 96.168  L 539.945111 103.415999  L 540.012848 96.168  L 540.216061 110.664  L 540.283798 103.415999  L 540.351536 110.664  L 540.487011 96.167998  L 540.622486 110.663999  L 540.690223 96.167999  L 540.757961 103.415998  L 540.825698 110.663999  L 540.961174 96.167999  L 541.096649 110.664  L 541.232124 103.415999  L 541.299861 117.911998  L 541.435336 103.415999  L 541.570811 117.911999  L 541.841761 96.168  L 541.977236 103.415999  L 542.112711 103.415999  L 542.248186 117.911998  L 542.451399 96.167999  L 542.586874 110.663998  L 542.654611 96.168  L 542.722349 103.415999  L 542.857824 103.415999  L 542.925562 117.911999  L 543.061037 103.415998  L 543.128774 110.663999  L 543.196512 103.415999  L 543.264249 110.664  L 543.331987 103.415999  L 543.399724 117.911998  L 543.467462 110.663998  L 543.602937 96.167999  L 543.670674 117.911999  L 543.873887 88.919999  L 543.941624 117.911998  L 544.009362 103.415998  L 544.077099 96.167999  L 544.212574 110.664  L 544.280312 110.663999  L 544.348049 103.415998  L 544.415787 110.663999  L 544.483524 88.919999  L 544.551262 96.167998  L 544.686737 103.415999  L 544.822212 96.167999  L 545.025425 117.911998  L 545.093162 96.167999  L 545.1609 110.663999  L 545.228637 103.416  L 545.364112 103.415999  L 545.43185 96.167999  L 545.499587 117.911999  L 545.567325 96.167999  L 545.635062 103.415999  L 545.7028 88.92  L 545.838275 103.416  L 545.97375 88.919999  L 546.109225 110.663998  L 546.2447 96.167998  L 546.380175 103.415999  L 546.447913 96.167999  L 546.651125 117.911998  L 546.854338 103.416  L 546.989813 103.416  L 547.05755 88.92  L 547.125288 96.168  L 547.193025 110.664  L 547.396238 88.919999  L 547.463975 88.919999  L 547.531713 110.664  L 547.59945 103.415999  L 547.667188 110.663999  L 547.802663 96.167999  L 547.8704 117.911998  L 548.005875 88.92  L 548.276826 110.664  L 548.412301 110.663999  L 548.547776 103.415998  L 548.750988 103.415999  L 548.886463 117.911999  L 548.954201 110.664  L 549.021938 88.919999  L 549.089676 110.663999  L 549.157413 81.672  L 549.225151 96.167999  L 549.360626 110.663999  L 549.428363 88.919999  L 549.563838 110.664  L 549.631576 110.663999  L 549.699313 96.167999  L 549.767051 103.415998  L 549.834788 96.167998  L 549.902526 103.415999  L 549.970263 96.167998  L 550.038001 103.415999  L 550.105739 88.919999  L 550.173476 110.663999  L 550.241214 88.919999  L 550.308951 110.663999  L 550.376689 96.167998  L 550.512164 117.911999  L 550.715376 96.167999  L 550.850851 117.911998  L 551.054064 96.168  L 551.189539 110.664  L 551.257276 88.919998  L 551.325014 110.663999  L 551.392751 96.167999  L 551.460489 103.415999  L 551.595964 103.415999  L 551.731439 96.167998  L 551.934652 110.663999  L 552.070127 96.168  L 552.137864 96.167999  L 552.205602 88.919999  L 552.341077 117.911999  L 552.476552 96.167999  L 552.679764 117.911999  L 552.882977 88.919999  L 552.950714 110.664  L 553.018452 103.415999  L 553.086189 96.167999  L 553.153927 110.663998  L 553.221664 103.415999  L 553.289402 96.167999  L 553.492614 110.664  L 553.695827 96.167998  L 553.763564 96.167999  L 553.831302 110.664  L 553.89904 103.415999  L 553.966777 96.167999  L 554.034515 110.663999  L 554.102252 88.92  L 554.16999 103.415999  L 554.237727 96.167999  L 554.305465 88.919999  L 554.373202 110.663999  L 554.44094 103.415998  L 554.508677 103.415999  L 554.644152 110.664  L 554.779627 88.919999  L 554.98284 103.415999  L 555.118315 96.167999  L 555.186052 96.167999  L 555.25379 103.415999  L 555.321527 96.167998  L 555.457002 103.415999  L 555.660215 103.415999  L 555.727953 96.167998  L 555.79569 110.663999  L 555.931165 96.167998  L 555.998903 110.663999  L 556.06664 103.415999  L 556.202115 103.415999  L 556.269853 96.167999  L 556.405328 103.415999  L 556.473065 96.167998  L 556.540803 103.415999  L 556.60854 88.919999  L 556.676278 96.168  L 556.811753 110.663999  L 556.87949 103.415998  L 556.947228 110.663998  L 557.082703 88.919999  L 557.15044 110.663998  L 557.218178 103.415999  L 557.285915 110.663999  L 557.42139 96.167998  L 557.489128 96.167999  L 557.556866 88.92  L 557.760078 103.415999  L 557.895553 96.167999  L 558.031028 103.415998  L 558.234241 103.415999  L 558.369716 96.168  L 558.437453 103.415999  L 558.572928 88.919999  L 558.640666 110.664  L 558.843878 88.919999  L 558.911616 88.92  L 559.047091 81.671999  L 559.182566 96.168  L 559.250303 88.919999  L 559.385779 96.167999  L 559.453516 88.92  L 559.521254 96.167999  L 559.656729 88.919999  L 559.792204 103.415999  L 559.859941 96.167999  L 559.995416 103.415999  L 560.063154 103.415999  L 560.198629 88.919999  L 560.266366 96.167999  L 560.334104 81.672  L 560.401841 88.919999  L 560.469579 88.92  L 560.537316 103.415998  L 560.605054 81.672  L 560.672791 103.415999  L 560.740529 96.168  L 560.808266 96.167999  L 560.876004 88.919999  L 560.943741 96.167999  L 561.079216 88.919999  L 561.146954 88.919999  L 561.214692 81.672  L 561.282429 96.167999  L 561.350167 88.919999  L 561.417904 88.919999  L 561.485642 81.671999  L 561.553379 103.415999  L 561.621117 96.167999  L 561.688854 96.167999  L 561.756592 81.671999  L 561.824329 96.167999  L 561.892067 81.671998  L 562.027542 96.167999  L 562.230754 96.167999  L 562.298492 103.415999  L 562.366229 81.671999  L 562.433967 88.919999  L 562.637179 103.416  L 562.704917 81.671999  L 562.772654 88.919999  L 562.975867 103.415999  L 563.111342 81.671999  L 563.17908 88.919999  L 563.246817 96.167999  L 563.314555 88.919999  L 563.45003 96.167999  L 563.585505 88.92  L 563.72098 96.167999  L 563.924192 96.167999  L 563.99193 103.415998  L 564.127405 96.167999  L 564.195142 96.167998  L 564.26288 103.416  L 564.466092 88.92  L 564.53383 88.919999  L 564.601567 103.415998  L 564.737042 88.919998  L 564.872518 96.167998  L 564.940255 81.672  L 565.007993 88.92  L 565.07573 96.167999  L 565.211205 88.919999  L 565.278943 96.167998  L 565.34668 88.92  L 565.482155 96.167999  L 565.549893 88.919999  L 565.61763 96.168  L 565.685368 88.92  L 565.753105 103.415999  L 565.820843 81.672  L 565.956318 96.167999  L 566.024055 88.92  L 566.15953 103.415999  L 566.362743 88.92  L 566.43048 88.92  L 566.565955 103.415999  L 566.70143 88.919999  L 566.836906 96.167999  L 566.904643 96.167998  L 566.972381 88.919999  L 567.040118 96.167999  L 567.107856 81.672  L 567.175593 88.919999  L 567.311068 81.671999  L 567.446543 103.415998  L 567.514281 88.92  L 567.582018 96.167999  L 567.649756 103.416  L 567.785231 96.167999  L 567.852968 96.167999  L 567.920706 103.415999  L 567.988443 88.919999  L 568.056181 103.415999  L 568.191656 81.672  L 568.259393 88.919999  L 568.327131 81.671999  L 568.462606 103.415998  L 568.530343 96.167999  L 568.598081 96.168  L 568.665819 88.92  L 568.733556 103.415998  L 568.801294 96.167999  L 568.936769 81.671999  L 569.139981 96.167999  L 569.207719 81.671999  L 569.275456 96.167998  L 569.343194 81.672  L 569.410931 88.919998  L 569.546406 81.671999  L 569.614144 96.168  L 569.681881 88.919999  L 569.749619 88.919999  L 569.817356 110.663999  L 569.952831 81.671999  L 570.020569 88.919999  L 570.156044 81.672  L 570.223781 96.168  L 570.359256 81.671999  L 570.494732 103.415999  L 570.697944 81.671999  L 570.833419 88.919999  L 571.036632 88.919999  L 571.104369 96.167999  L 571.172107 81.671999  L 571.239844 88.919999  L 571.375319 96.168  L 571.578532 81.671999  L 571.714007 103.415999  L 571.849482 81.672  L 571.984957 103.415999  L 572.052694 88.919999  L 572.120432 96.167999  L 572.188169 96.167999  L 572.323645 88.919999  L 572.391382 96.167999  L 572.45912 81.672  L 572.526857 88.919999  L 572.594595 88.92  L 572.662332 96.167998  L 572.865545 81.672  L 572.933282 88.919999  L 573.068757 81.671999  L 573.204232 96.167999  L 573.407445 81.671999  L 573.475182 96.168  L 573.54292 88.919999  L 573.610657 96.167999  L 573.678395 81.672  L 573.746132 88.92  L 573.81387 103.415999  L 574.017082 81.672  L 574.08482 81.672  L 574.152558 88.919999  L 574.220295 81.671999  L 574.288033 96.167998  L 574.35577 88.92  L 574.423508 81.672  L 574.491245 88.919999  L 574.558983 81.672  L 574.62672 88.919998  L 574.694458 81.672  L 574.829933 88.919999  L 574.89767 88.919999  L 574.965408 81.671999  L 575.100883 96.167999  L 575.304095 81.671999  L 575.371833 88.919999  L 575.43957 81.672  L 575.507308 88.919999  L 575.642783 81.671999  L 575.71052 88.919999  L 575.845995 81.671999  L 575.913733 88.919999  L 575.981471 74.424  L 576.049208 81.671999  L 576.116946 96.167999  L 576.184683 88.919999  L 576.252421 96.168  L 576.387896 81.671999  L 576.455633 88.92  L 576.523371 81.672  L 576.658846 88.919999  L 576.862058 88.919999  L 576.997533 81.672  L 577.133008 81.672  L 577.268483 88.92  L 577.403958 81.672  L 577.539433 88.919999  L 577.607171 81.671999  L 577.674908 88.919999  L 577.810384 81.672  L 577.878121 88.92  L 577.945859 81.671999  L 578.081334 88.92  L 578.216809 81.671999  L 578.555496 81.672  L 578.623234 88.92  L 578.690971 81.672  L 578.758709 88.919999  L 578.894184 81.671999  L 578.961921 81.671999  L 579.029659 88.919999  L 579.165134 81.671999  L 579.639297 81.671999  L 579.707034 88.919999  L 579.842509 74.424  L 579.910247 88.919999  L 579.977984 81.671999  L 580.113459 88.919998  L 580.181197 88.92  L 580.316672 81.672  L 580.519884 81.671999  L 580.587622 74.424  L 580.790834 88.919999  L 580.926309 88.919999  L 581.061784 81.672  L 581.129522 81.672  L 581.197259 88.92  L 581.264997 81.671999  L 581.400472 88.919999  L 581.468209 88.919999  L 581.603685 81.672  L 581.671422 88.919999  L 581.806897 81.671999  L 582.01011 81.672  L 582.077847 74.423999  L 582.145585 88.919999  L 582.213322 81.672  L 582.28106 81.671999  L 582.348797 96.167999  L 582.416535 88.919998  L 582.55201 88.92  L 582.687485 74.424  L 582.755222 88.919999  L 582.82296 81.672  L 583.09391 81.671999  L 583.229385 88.919999  L 583.36486 81.671999  L 583.432598 81.671999  L 583.500335 74.424  L 583.63581 88.92  L 583.839023 74.424  L 583.90676 88.919999  L 583.974498 81.672  L 584.042235 81.672  L 584.109973 88.919999  L 584.245448 81.672  L 584.313185 81.672  L 584.380923 88.919999  L 584.584135 74.424  L 584.71961 88.919999  L 584.922823 74.424  L 584.99056 74.424  L 585.126035 81.672  L 585.193773 81.671999  L 585.261511 74.424  L 585.329248 81.671999  L 585.396986 74.424  L 585.464723 88.919998  L 585.532461 81.671999  L 585.600198 67.176  L 585.735673 81.671999  L 585.871148 81.671999  L 586.006623 74.424  L 586.142098 81.671999  L 586.277573 81.671998  L 586.345311 88.919999  L 586.480786 74.423999  L 586.616261 74.424  L 586.751736 81.671999  L 586.819473 81.671999  L 586.887211 74.423999  L 587.022686 81.671999  L 587.293636 81.672  L 587.361374 88.919999  L 587.496849 74.424  L 587.632324 81.671999  L 587.767799 74.424  L 587.903274 88.919999  L 588.106486 74.424  L 588.241961 81.672  L 588.309699 67.176  L 588.445174 81.671999  L 588.580649 74.423999  L 589.122549 74.423999  L 589.258024 81.671999  L 589.393499 74.423999  L 589.461237 81.671999  L 589.528974 74.423999  L 589.596712 81.672  L 589.732187 74.424  L 589.799924 81.672  L 589.935399 74.423999  L 590.070874 74.424  L 590.138612 67.176  L 590.206349 74.424  L 590.274087 67.176  L 590.409562 81.671999  L 590.477299 74.423999  L 590.612774 81.671999  L 590.74825 67.176  L 590.883725 81.672  L 591.086937 67.175999  L 591.222412 67.176  L 591.29015 74.423999  L 591.357887 67.176  L 591.493362 81.672  L 591.5611 74.424  L 591.628837 81.671999  L 591.696575 67.176  L 591.764312 81.671998  L 591.83205 74.424  L 591.899787 81.671999  L 591.967525 74.423999  L 592.035262 81.672  L 592.103 67.175999  L 592.170737 74.424  L 592.306212 74.424  L 592.37395 67.176  L 592.441687 81.671999  L 592.509425 74.424  L 592.577163 67.176  L 592.712638 81.672  L 592.780375 74.424  L 592.848113 81.671999  L 592.983588 67.176  L 593.119063 81.671999  L 593.1868 67.176  L 593.322275 81.671999  L 593.390013 67.176  L 593.45775 74.424  L 593.525488 67.176  L 593.593225 74.423999  L 593.660963 67.176  L 593.7287 74.423999  L 593.864175 67.176  L 594.406075 67.176  L 594.473813 74.423999  L 594.609288 59.928  L 594.677026 74.424  L 594.744763 67.176  L 594.812501 74.423999  L 594.947976 67.176  L 595.015713 74.424  L 595.151188 67.176  L 595.218926 67.176  L 595.286663 59.928  L 595.422138 74.423999  L 595.489876 74.424  L 595.693088 59.928  L 595.760826 67.175999  L 595.896301 59.928  L 595.964038 59.928  L 596.031776 74.423999  L 596.099513 59.928  L 596.167251 67.176  L 596.370464 67.176  L 596.438201 74.424  L 596.573676 59.928  L 596.709151 74.424  L 596.844626 67.176  L 596.912364 67.175999  L 596.980101 59.928  L 597.115576 67.175999  L 597.183314 59.928  L 597.318789 67.176  L 597.386526 67.176  L 597.454264 59.928  L 597.589739 74.423999  L 597.725214 59.928  L 597.792951 59.928  L 597.928426 67.176  L 597.996164 67.176  L 598.131639 59.928  L 598.267114 67.176  L 598.334852 67.176  L 598.402589 59.928  L 598.470327 74.423999  L 598.538064 67.176  L 598.605802 67.176  L 598.741277 59.928  L 598.809014 59.928  L 598.876752 74.423999  L 598.944489 67.176  L 599.079964 59.928  L 599.215439 59.928  L 599.283177 74.424  L 599.418652 59.928  L 599.554127 59.928  L 599.621864 67.176  L 599.689602 59.928  L 599.825077 67.176  L 599.892814 59.928  L 600.02829 67.176  L 600.096027 59.928  L 600.231502 67.175999  L 600.434715 67.176  L 600.502452 74.424  L 600.637927 59.928  L 601.11209 59.928  L 601.247565 74.423999  L 601.38304 59.928  L 601.92494 59.928  L 602.060415 67.176  L 602.19589 59.928  L 602.399103 59.928  L 602.46684 67.176  L 602.602315 59.928  L 604.702178 59.928  L 604.769916 67.176  L 604.837653 59.928  L 604.905391 74.423999  L 605.040866 59.928  L 610.730817 59.928  L 610.798555 67.175999  L 610.93403 59.928  L 612.28878 59.928  L 612.356518 67.176  L 612.491993 59.928  L 636.471074 59.928  L 636.471074 59.928  \" style=\"fill:none;stroke:#1f77b4;stroke-linecap:square;stroke-width:1.5;\"/>\n",
       "   </g>\n",
       "   <g id=\"line2d_37\">\n",
       "    <path clip-path=\"url(#p55f510841b)\" d=\"M 405.892562 154.152  L 405.9603 154.152  L 406.095775 146.904  L 406.23125 154.152  L 406.569937 154.152  L 406.705412 139.656  L 406.77315 139.656  L 406.908625 132.408  L 407.0441 139.656  L 407.179575 139.656  L 407.450525 117.911999  L 407.85695 117.911999  L 407.992425 110.663999  L 408.1279 117.911998  L 408.195638 117.911998  L 408.263375 110.663999  L 408.331113 125.16  L 408.39885 117.911998  L 408.466588 110.663999  L 408.602063 125.159999  L 409.076225 125.159999  L 409.2117 110.663999  L 409.347175 132.408  L 409.48265 110.663999  L 409.550388 125.16  L 409.685863 110.663999  L 409.821338 117.911999  L 409.889076 117.911999  L 410.024551 110.663999  L 410.430976 110.663999  L 410.634188 125.159999  L 410.837401 125.159999  L 410.972876 117.911999  L 411.514776 117.911999  L 411.650251 110.663999  L 411.785726 110.663999  L 411.921201 117.911999  L 413.072739 117.911999  L 413.208214 125.159999  L 413.546902 125.159999  L 413.682377 117.911999  L 414.021064 117.911999  L 414.156539 125.159999  L 414.427489 125.159999  L 414.562964 117.911999  L 414.698439 125.159999  L 414.901652 125.159999  L 415.037127 117.911999  L 415.579027 117.911999  L 415.714502 125.159999  L 416.256402 125.159999  L 416.391877 117.911999  L 416.459615 117.911999  L 416.59509 125.159999  L 416.798302 125.159999  L 416.933777 117.911999  L 417.13699 117.911999  L 417.204728 125.159999  L 417.272465 117.911999  L 417.340203 125.159999  L 417.475678 117.911999  L 417.882103 117.911999  L 418.017578 125.159999  L 418.085315 125.159999  L 418.22079 117.911999  L 418.830428 117.911999  L 418.898166 125.159999  L 419.033641 117.911999  L 420.049703 117.911999  L 420.185178 125.159999  L 420.252916 125.159999  L 420.388391 117.911999  L 421.133504 117.911999  L 421.268979 125.159999  L 421.404454 117.911999  L 421.472191 117.911999  L 421.607666 125.159999  L 421.743141 117.911999  L 421.878616 132.407999  L 422.014091 117.911999  L 422.149566 125.159999  L 422.285041 125.159999  L 422.420516 117.911999  L 424.384904 117.911999  L 424.52038 125.159999  L 424.588117 117.911999  L 424.655855 125.159999  L 424.79133 117.911999  L 424.859067 125.159999  L 424.926805 117.911999  L 425.06228 125.159999  L 425.197755 117.911999  L 425.739655 117.911999  L 425.807392 125.159999  L 425.942867 117.911999  L 426.823455 117.911999  L 426.95893 125.159999  L 427.094405 117.911999  L 427.162143 117.911999  L 427.22988 125.159999  L 427.365355 117.911999  L 427.568568 117.911999  L 427.636305 125.159999  L 427.77178 117.911999  L 427.839518 117.911999  L 427.974993 125.159999  L 428.04273 125.159999  L 428.178206 117.911999  L 428.313681 117.911999  L 428.449156 139.655999  L 428.584631 132.407999  L 428.787843 132.407999  L 428.923318 117.911999  L 429.126531 117.911999  L 429.262006 132.407999  L 429.465218 132.407999  L 429.532956 139.655999  L 429.736168 117.911999  L 429.939381 132.407999  L 430.074856 132.407999  L 430.210331 139.655999  L 430.278069 139.655999  L 430.549019 117.911999  L 430.752231 117.911999  L 430.887706 132.407999  L 430.955444 132.407999  L 431.090919 117.911999  L 431.226394 117.911999  L 431.294131 132.407999  L 431.361869 125.159999  L 431.429606 117.911999  L 431.497344 125.159999  L 431.565081 117.911999  L 431.768294 132.407999  L 431.903769 132.407999  L 432.106982 117.911999  L 432.242457 132.407999  L 432.377932 132.407999  L 432.445669 125.159999  L 432.581144 132.407999  L 432.648882 132.407999  L 432.784357 125.159999  L 432.919832 132.407999  L 432.987569 132.407999  L 433.190782 117.911999  L 433.326257 117.911999  L 433.393994 110.663999  L 433.529469 125.159999  L 433.597207 125.159999  L 433.732682 132.407999  L 433.868157 117.911999  L 434.07137 139.655999  L 434.274582 125.159999  L 434.410057 132.407999  L 434.477795 132.407999  L 434.545532 125.159999  L 434.748745 139.655999  L 434.88422 132.407999  L 435.561595 132.407999  L 435.764808 117.911999  L 435.832545 117.911999  L 435.900283 110.663999  L 436.035758 117.911999  L 436.103495 117.911999  L 436.171233 110.663999  L 436.306708 125.159999  L 436.374445 117.911999  L 436.577658 132.407999  L 437.05182 132.407999  L 437.187295 125.159999  L 437.390508 125.159999  L 437.593721 110.663999  L 437.729196 125.159999  L 437.864671 117.911999  L 438.203358 117.911999  L 438.406571 132.407999  L 438.542046 125.159999  L 438.677521 125.159999  L 438.745258 117.911999  L 438.812996 125.159999  L 438.948471 117.911999  L 439.016208 125.159999  L 439.151683 117.911999  L 439.354896 132.407999  L 439.490371 132.407999  L 439.693584 117.911999  L 440.032271 117.911999  L 440.167746 125.159999  L 440.235484 117.911999  L 440.303221 125.159999  L 440.506434 110.663999  L 440.709646 132.407999  L 440.845121 125.159999  L 440.980596 125.159999  L 441.116072 110.663999  L 441.319284 125.159999  L 442.199872 125.159999  L 442.267609 117.911999  L 442.403084 125.159999  L 442.470822 117.911999  L 442.538559 132.407999  L 442.606297 125.159999  L 442.809509 125.159999  L 442.877247 117.911999  L 443.012722 132.407999  L 443.148197 125.159999  L 443.215935 125.159999  L 443.35141 117.911999  L 443.486885 125.159999  L 443.62236 125.159999  L 443.757835 110.663999  L 443.961047 125.159999  L 444.096522 125.159999  L 444.16426 110.663999  L 444.299735 125.159999  L 444.70616 125.159999  L 444.773898 117.911999  L 444.909373 125.159999  L 444.97711 125.159999  L 445.044848 132.407999  L 445.180323 125.159999  L 445.451273 125.159999  L 445.51901 132.407999  L 445.654485 125.159999  L 445.857698 125.159999  L 445.993173 117.911999  L 446.06091 117.911999  L 446.196385 125.159999  L 446.467335 125.159999  L 446.535073 117.911999  L 446.738286 132.407999  L 446.873761 125.159999  L 446.941498 125.16  L 447.009236 132.407999  L 447.212448 117.911999  L 447.280186 125.159999  L 447.347923 117.911999  L 447.415661 125.159999  L 447.483398 117.911999  L 447.551136 125.159999  L 447.686611 117.911999  L 447.754348 125.159999  L 447.822086 110.663999  L 447.889823 117.911999  L 448.025298 110.663999  L 448.093036 110.663999  L 448.160773 117.911999  L 448.296248 110.663999  L 448.431723 117.911999  L 448.567199 117.911999  L 448.634936 125.159999  L 448.702674 117.911999  L 448.770411 125.159999  L 448.838149 117.911999  L 448.905886 132.407999  L 449.041361 117.911999  L 449.109099 117.911999  L 449.176836 125.159999  L 449.244574 110.663999  L 449.312311 125.159999  L 449.380049 117.911999  L 449.447786 125.159999  L 449.515524 117.911999  L 449.650999 125.159999  L 449.786474 125.159999  L 449.921949 117.911999  L 449.989686 125.159999  L 450.125161 117.911999  L 450.260636 125.159999  L 450.396112 117.911999  L 450.531587 117.911999  L 450.667062 125.159999  L 450.802537 110.663999  L 450.938012 117.911999  L 451.005749 117.911999  L 451.073487 125.159999  L 451.208962 117.911999  L 451.276699 117.911999  L 451.412174 125.159999  L 451.547649 117.911999  L 451.615387 125.159999  L 451.818599 110.663999  L 451.954074 110.663999  L 452.089549 117.911999  L 452.225025 117.911999  L 452.292762 125.159999  L 452.3605 117.911999  L 452.428237 125.159999  L 452.563712 117.911999  L 452.63145 117.911999  L 452.699187 125.159999  L 452.834662 117.911999  L 452.9024 125.159999  L 452.970137 117.911999  L 453.037875 125.159999  L 453.241087 103.415999  L 453.4443 125.159999  L 453.512037 117.911999  L 453.579775 125.159999  L 453.647512 117.911999  L 453.71525 125.159999  L 453.918462 110.663999  L 453.9862 110.663999  L 454.121675 117.911999  L 454.25715 117.911999  L 454.324888 125.159999  L 454.460363 117.911999  L 454.5281 117.911999  L 454.663575 110.664  L 454.731313 125.159999  L 454.79905 117.911999  L 454.934525 117.911999  L 455.002263 125.159999  L 455.137738 110.664  L 455.273213 117.911999  L 455.34095 110.663999  L 455.476425 117.911999  L 455.544163 110.664  L 455.679638 117.911999  L 455.950588 117.911999  L 456.018326 110.663999  L 456.153801 117.911999  L 456.289276 110.663999  L 456.357013 110.663999  L 456.492488 117.911999  L 457.305338 117.911999  L 457.373076 110.663999  L 457.440813 117.911999  L 457.508551 110.663999  L 457.644026 117.911999  L 457.711764 117.911999  L 457.914976 103.415999  L 458.050451 103.415999  L 458.185926 117.911999  L 459.066514 117.911999  L 459.134251 110.663999  L 459.269726 117.911999  L 459.337464 117.911999  L 459.405201 103.415999  L 459.472939 110.663999  L 459.540677 117.911999  L 459.608414 110.663999  L 459.743889 117.911999  L 459.879364 117.911999  L 459.947102 110.663999  L 460.014839 117.911999  L 460.150314 110.663999  L 460.285789 117.911999  L 460.421264 117.911999  L 460.489002 103.416  L 460.624477 117.911999  L 460.692214 110.664  L 460.759952 117.911999  L 460.963164 103.416  L 461.098639 117.911999  L 461.166377 103.415999  L 461.234114 110.663999  L 461.369589 110.663999  L 461.505065 117.911999  L 461.572802 110.663999  L 461.64054 117.911999  L 461.708277 103.415999  L 461.776015 110.663999  L 461.91149 110.663999  L 462.046965 117.911999  L 462.114702 110.663999  L 462.18244 117.911999  L 462.250177 110.663999  L 462.385652 117.911999  L 462.521127 117.911999  L 462.588865 103.415999  L 462.72434 117.911999  L 462.792077 117.911999  L 462.927552 103.416  L 463.063027 117.911999  L 463.130765 110.663999  L 463.26624 117.911999  L 463.469453 103.415999  L 463.604928 110.663999  L 463.672665 110.663999  L 463.80814 117.911999  L 464.07909 117.911999  L 464.214565 110.663999  L 464.756465 110.663999  L 464.824203 125.159999  L 464.89194 117.911999  L 464.959678 117.911999  L 465.095153 110.663999  L 465.230628 117.911999  L 465.433841 117.911999  L 465.501578 125.159999  L 465.704791 103.416  L 465.908003 117.911999  L 466.043478 103.416  L 466.246691 117.911999  L 466.314428 117.911999  L 466.449903 103.416  L 466.653116 125.159999  L 466.856328 110.663999  L 466.924066 117.911999  L 466.991804 103.416  L 467.127279 117.911999  L 467.262754 110.663999  L 467.330491 125.159999  L 467.398229 110.663999  L 467.465966 117.911999  L 467.601441 103.416  L 467.736916 110.663999  L 467.804654 103.415999  L 468.007866 117.911999  L 468.075604 117.911999  L 468.211079 103.416  L 468.346554 117.911999  L 468.482029 110.663999  L 468.617504 125.159999  L 468.820717 103.416  L 468.888454 125.159999  L 469.023929 103.415999  L 469.091667 117.911999  L 469.159404 110.663999  L 469.294879 117.911999  L 469.430354 110.663999  L 469.565829 117.911999  L 469.633567 117.911999  L 469.701304 103.416  L 469.769042 110.663999  L 469.836779 110.663999  L 469.904517 117.911999  L 469.972254 103.415999  L 470.039992 110.663999  L 470.107729 125.159999  L 470.175467 117.911999  L 470.378679 117.911999  L 470.446417 110.664  L 470.64963 125.159999  L 470.852842 125.159999  L 470.988317 103.416  L 471.123792 103.416  L 471.19153 117.911999  L 471.327005 103.416  L 471.394742 110.663999  L 471.530217 103.416  L 471.597955 125.159999  L 471.665692 117.912  L 471.73343 117.911999  L 471.868905 110.663999  L 471.936642 110.663999  L 472.00438 103.416  L 472.139855 110.663999  L 472.207592 110.663999  L 472.343067 117.911999  L 472.410805 103.416  L 472.478543 110.663999  L 472.54628 110.663999  L 472.681755 103.416  L 472.81723 103.416  L 472.952705 117.911999  L 473.020443 110.663999  L 473.155918 117.911999  L 473.223655 117.911999  L 473.291393 110.663999  L 473.35913 117.911999  L 473.494605 103.415999  L 473.63008 117.911999  L 473.765555 110.663999  L 473.968768 110.663999  L 474.036505 103.415999  L 474.104243 117.911999  L 474.17198 110.663999  L 474.239718 103.415999  L 474.307455 117.911999  L 474.375193 110.663999  L 474.442931 117.911999  L 474.510668 110.663999  L 474.646143 117.911999  L 474.713881 117.911999  L 474.781618 110.663999  L 474.849356 117.911999  L 474.917093 110.663999  L 474.984831 125.159999  L 475.052568 117.911999  L 475.120306 103.415999  L 475.188043 110.663999  L 475.255781 110.663999  L 475.323518 117.911999  L 475.458993 110.663999  L 475.594468 117.911999  L 475.662206 110.663999  L 475.729943 117.911999  L 475.865418 110.663999  L 475.933156 110.663999  L 476.000893 117.911999  L 476.204106 103.416  L 476.339581 110.663999  L 476.407319 110.664  L 476.542794 103.416  L 476.678269 117.911999  L 476.746006 117.911999  L 476.881481 110.663999  L 476.949219 110.663999  L 477.016956 117.911999  L 477.152431 103.416  L 477.220169 125.159999  L 477.287906 117.911999  L 477.423381 110.663999  L 477.491119 110.663999  L 477.626594 103.416  L 477.762069 110.663999  L 477.829806 103.416  L 477.897544 110.664  L 478.033019 103.416  L 478.100757 103.416  L 478.168494 117.911999  L 478.236232 110.663999  L 478.303969 110.663999  L 478.371707 103.416  L 478.507182 110.663999  L 478.574919 103.416  L 478.642657 110.663999  L 478.710394 103.415999  L 478.845869 117.911999  L 479.049082 103.416  L 479.184557 117.912  L 479.252294 110.664  L 479.387769 117.911999  L 479.523244 110.663999  L 479.590982 110.663999  L 479.726457 103.416  L 479.794194 103.416  L 479.861932 125.159999  L 479.997407 103.416  L 480.132882 125.159999  L 480.268357 110.663999  L 480.403832 110.663999  L 480.539307 103.416  L 480.877995 103.415999  L 481.01347 110.663999  L 481.081207 110.663999  L 481.148945 103.416  L 481.216682 117.912  L 481.28442 110.663999  L 481.352157 117.911999  L 481.55537 103.415999  L 481.623107 103.415999  L 481.82632 117.911999  L 481.961795 110.664  L 482.165008 110.663999  L 482.232745 117.911999  L 482.36822 103.416  L 482.435958 125.159999  L 482.571433 110.663999  L 482.63917 125.159999  L 482.774645 103.416  L 483.045595 103.416  L 483.113333 110.664  L 483.248808 103.416  L 483.45202 103.416  L 483.519758 117.911999  L 483.587496 103.415999  L 483.655233 110.663999  L 483.790708 110.663999  L 483.858446 103.415999  L 483.926183 117.911999  L 483.993921 110.663999  L 484.061658 110.663999  L 484.197133 103.416  L 484.264871 103.416  L 484.400346 117.911999  L 484.468083 117.911999  L 484.603558 110.664  L 484.671296 117.911999  L 484.874508 103.416  L 484.942246 110.663999  L 485.077721 103.416  L 485.280933 117.911999  L 485.348671 103.415999  L 485.416409 110.663999  L 485.484146 103.416  L 485.551884 117.912  L 485.619621 110.664  L 485.687359 103.416  L 485.755096 110.663999  L 485.822834 103.415999  L 485.890571 110.663999  L 486.026046 103.416  L 486.093784 103.416  L 486.161521 117.911999  L 486.229259 110.663999  L 486.296996 110.663999  L 486.364734 117.911999  L 486.500209 110.663999  L 486.567946 110.663999  L 486.703421 103.416  L 486.771159 103.416  L 486.838896 110.664  L 486.906634 103.416  L 487.109846 117.911999  L 487.313059 103.415999  L 487.380797 117.911999  L 487.448534 103.416  L 487.516272 110.663999  L 487.651747 110.663999  L 487.787222 103.416  L 487.922697 103.416  L 488.058172 117.911999  L 488.193647 110.663999  L 488.261384 110.663999  L 488.396859 103.415999  L 488.600072 103.416  L 488.667809 110.663999  L 488.803284 103.415999  L 489.141972 103.415999  L 489.20971 117.911999  L 489.277447 110.664  L 489.412922 103.416  L 489.548397 103.416  L 489.616135 117.912  L 489.683872 110.664  L 489.819347 117.912  L 490.02256 103.416  L 490.090297 103.416  L 490.225772 110.663999  L 490.29351 103.415999  L 490.361247 110.663999  L 490.428985 103.415999  L 490.496722 110.663999  L 490.632197 103.415999  L 490.699935 110.663999  L 490.83541 103.416  L 490.970885 110.663999  L 491.174098 110.663999  L 491.309573 103.416  L 491.37731 117.911999  L 491.445048 110.664  L 491.580523 103.415999  L 491.715998 110.663999  L 491.851473 103.415999  L 491.91921 110.663999  L 492.054685 103.415999  L 492.122423 103.416  L 492.19016 110.664  L 492.257898 96.168  L 492.325635 103.415999  L 492.393373 103.416  L 492.46111 110.663999  L 492.596585 103.416  L 492.73206 103.416  L 492.867536 110.663999  L 493.003011 110.664  L 493.070748 103.416  L 493.138486 117.911999  L 493.206223 96.168  L 493.273961 103.415999  L 493.409436 117.911999  L 493.612648 96.168  L 493.815861 117.911999  L 493.951336 110.663999  L 494.086811 125.159999  L 494.222286 103.416  L 494.290023 110.664  L 494.425498 110.663999  L 494.493236 117.911999  L 494.628711 110.664  L 494.899661 110.663999  L 495.102874 125.159999  L 495.238349 103.416  L 495.441561 103.416  L 495.577036 110.663999  L 495.712511 96.168  L 495.915724 117.911999  L 495.983461 110.663999  L 496.051199 117.911999  L 496.186674 103.416  L 496.254411 110.664  L 496.322149 96.168  L 496.389886 103.415999  L 496.457624 103.415999  L 496.525362 110.663999  L 496.660837 103.415999  L 496.931787 103.416  L 496.999524 96.168  L 497.134999 103.416  L 497.202737 103.416  L 497.338212 110.664  L 497.473687 110.663999  L 497.609162 125.159999  L 497.744637 103.416  L 497.812374 110.663999  L 497.880112 103.416  L 498.015587 110.663999  L 498.151062 110.663999  L 498.286537 96.168  L 498.354275 96.168  L 498.557487 110.664  L 498.625225 110.663999  L 498.692962 117.911999  L 498.7607 110.664  L 498.896175 117.911999  L 499.167125 96.168  L 499.438075 117.912  L 499.57355 96.168  L 499.709025 96.168  L 499.912237 110.663999  L 500.047712 103.416  L 500.11545 103.415999  L 500.250925 110.664  L 500.318663 103.416  L 500.3864 110.663999  L 500.521875 96.168  L 500.589613 103.416  L 500.725088 96.168  L 500.860563 96.168  L 500.9283 103.415999  L 500.996038 96.168  L 501.131513 110.664  L 501.19925 103.416  L 501.266988 117.911999  L 501.334725 110.663999  L 501.402463 110.663999  L 501.4702 103.416  L 501.605675 110.663999  L 501.673413 110.664  L 501.876625 96.168  L 502.079838 117.911999  L 502.147576 110.664  L 502.215313 117.911999  L 502.350788 110.664  L 502.621738 110.664  L 502.689476 96.168  L 502.757213 103.416  L 502.892688 103.416  L 503.028163 110.664  L 503.095901 103.416  L 503.231376 110.663999  L 503.299113 103.416  L 503.434588 110.664  L 503.570063 110.664  L 503.637801 103.416  L 503.773276 110.664  L 503.908751 103.416  L 504.044226 110.664  L 504.179701 96.168  L 504.315176 103.416  L 504.450651 103.416  L 504.586126 110.663999  L 504.721601 110.664  L 504.924814 96.168  L 505.060289 110.663999  L 505.128026 96.168  L 505.195764 103.416  L 505.263501 103.416  L 505.331239 110.664  L 505.398976 103.416  L 505.602189 117.911999  L 505.805402 96.168  L 505.940877 96.168  L 506.076352 117.911999  L 506.347302 96.168  L 506.550514 110.664  L 506.685989 110.664  L 506.889202 96.168  L 507.024677 103.416  L 507.092414 96.168  L 507.227889 103.416  L 507.295627 96.168  L 507.363364 110.663999  L 507.431102 103.416  L 507.498839 96.168  L 507.702052 110.664  L 507.76979 110.664  L 507.837527 103.416  L 507.973002 110.663999  L 508.108477 96.168  L 508.176215 96.168  L 508.31169 110.663999  L 508.379427 110.664  L 508.447165 103.416  L 508.58264 110.663999  L 508.718115 103.416  L 508.85359 110.663999  L 508.921327 96.168  L 508.989065 103.416  L 509.056802 110.663999  L 509.260015 96.168  L 509.327752 110.664  L 509.39549 103.416  L 509.530965 110.663999  L 509.598703 96.168  L 509.66644 110.664  L 509.734178 103.416  L 509.801915 110.664  L 509.93739 96.168  L 510.072865 96.168  L 510.140603 103.415999  L 510.20834 96.168  L 510.276078 103.416  L 510.411553 96.168  L 510.47929 96.168  L 510.547028 103.416  L 510.614765 96.168  L 510.817978 110.664  L 510.885715 110.664  L 511.02119 96.168  L 511.224403 110.664  L 511.359878 103.416  L 511.427616 110.664  L 511.495353 103.416  L 511.630828 110.663999  L 511.969516 110.663999  L 512.104991 96.168  L 512.240466 103.416  L 512.308203 103.416  L 512.375941 96.168  L 512.511416 110.663999  L 512.579153 88.92  L 512.646891 96.168  L 512.714628 110.663999  L 512.782366 88.92  L 512.850103 110.663999  L 512.917841 103.416  L 512.985578 110.663999  L 513.053316 103.416  L 513.188791 110.664  L 513.256529 96.168  L 513.324266 103.416  L 513.392004 117.911999  L 513.459741 110.664  L 513.595216 96.168  L 513.866166 96.167999  L 513.933904 88.92  L 514.204854 110.663999  L 514.340329 110.664  L 514.475804 103.416  L 514.611279 110.664  L 514.679016 110.663999  L 514.746754 103.416  L 514.882229 110.663999  L 515.017704 96.168  L 515.085442 96.168  L 515.220917 110.664  L 515.356392 96.168  L 515.491867 103.416  L 515.559604 103.416  L 515.695079 110.664  L 515.762817 103.416  L 515.830554 110.664  L 515.898292 103.416  L 516.033767 110.664  L 516.101504 110.664  L 516.169242 103.416  L 516.304717 110.663999  L 516.440192 103.416  L 516.507929 110.664  L 516.643404 96.168  L 516.778879 110.663999  L 516.914355 96.168  L 517.04983 110.663999  L 517.117567 96.168  L 517.185305 103.415999  L 517.253042 103.415999  L 517.32078 110.663999  L 517.456255 103.416  L 517.727205 103.416  L 517.86268 110.664  L 517.930417 96.168  L 518.065892 110.663999  L 518.13363 110.663999  L 518.336842 96.168  L 518.607792 96.167999  L 518.811005 110.663999  L 518.94648 103.416  L 519.149693 103.416  L 519.21743 110.664  L 519.420643 88.92  L 519.691593 110.663999  L 519.827068 103.416  L 519.962543 110.663999  L 520.233493 110.664  L 520.30123 96.168  L 520.368968 110.664  L 520.436705 103.415999  L 520.504443 110.663999  L 520.572181 88.92  L 520.639918 96.168  L 520.707656 88.92  L 520.910868 110.663999  L 520.978606 96.168  L 521.046343 103.415999  L 521.181818 96.168  L 521.249556 96.168  L 521.385031 88.92  L 521.520506 103.416  L 521.723718 103.415999  L 521.791456 88.92  L 521.859193 110.663999  L 521.926931 96.168  L 521.994668 103.416  L 522.333356 103.416  L 522.401094 110.663999  L 522.468831 88.92  L 522.536569 96.168  L 522.739781 96.168  L 522.807519 103.415999  L 522.875256 96.168  L 523.010731 110.664  L 523.078469 96.168  L 523.146206 103.416  L 523.281681 110.663999  L 523.484894 110.663999  L 523.620369 88.92  L 523.688106 96.167999  L 523.823581 103.415999  L 524.026794 103.416  L 524.094531 96.168  L 524.230007 110.663999  L 524.433219 88.92  L 524.500957 88.92  L 524.568694 103.415999  L 524.636432 88.92  L 524.771907 103.415999  L 524.839644 96.168  L 524.975119 110.663999  L 525.110594 96.168  L 525.178332 110.663999  L 525.313807 96.168  L 525.517019 110.663999  L 525.652494 103.416  L 525.720232 103.416  L 525.787969 110.664  L 525.855707 96.168  L 525.923444 110.663999  L 525.991182 103.416  L 526.126657 103.415999  L 526.194395 96.168  L 526.397607 110.664  L 526.668557 110.663999  L 526.804032 96.167999  L 526.87177 103.416  L 526.939507 96.168  L 527.074982 110.663999  L 527.210457 96.168  L 527.278195 96.168  L 527.481407 110.663999  L 527.549145 110.663999  L 527.68462 103.416  L 527.752357 103.416  L 527.820095 88.92  L 528.023308 110.663999  L 528.158783 110.664  L 528.294258 103.416  L 528.361995 110.663999  L 528.429733 103.415999  L 528.565208 110.663999  L 528.632945 103.416  L 528.700683 110.663999  L 528.836158 103.416  L 528.903895 103.415999  L 529.03937 96.168  L 529.107108 96.168  L 529.242583 110.663999  L 529.513533 88.92  L 529.716745 110.663999  L 529.852221 96.168  L 529.919958 96.168  L 530.123171 110.663999  L 530.258646 96.168  L 530.394121 103.416  L 530.461858 96.168  L 530.665071 110.663999  L 530.800546 110.664  L 530.936021 96.168  L 531.071496 110.663999  L 531.206971 103.416  L 531.342446 103.416  L 531.410183 110.664  L 531.545658 96.168  L 531.748871 110.663999  L 531.884346 96.167999  L 531.952084 110.663999  L 532.155296 88.92  L 532.223034 103.416  L 532.290771 96.168  L 532.426246 96.168  L 532.493984 110.664  L 532.561721 103.416  L 532.697196 103.416  L 532.764934 88.92  L 532.832671 96.168  L 532.900409 96.168  L 533.035884 110.663999  L 533.171359 96.168  L 533.374571 110.663999  L 533.442309 103.416  L 533.577784 110.663999  L 533.645522 96.168  L 533.713259 103.416  L 533.780997 96.168  L 533.916472 103.416  L 533.984209 103.416  L 534.051947 110.663999  L 534.187422 103.415999  L 534.458372 103.416  L 534.526109 96.168  L 534.593847 110.663999  L 534.661584 103.416  L 534.932534 103.416  L 535.000272 96.168  L 535.135747 103.416  L 535.203484 96.168  L 535.271222 110.663999  L 535.33896 96.168  L 535.406697 103.416  L 535.474435 96.168  L 535.542172 103.415999  L 535.677647 88.92  L 535.813122 103.416  L 535.88086 96.168  L 536.016335 103.416  L 536.15181 96.168  L 536.219547 96.168  L 536.287285 88.92  L 536.42276 96.167999  L 536.69371 96.168  L 536.896922 117.911999  L 537.100135 88.92  L 537.23561 103.416  L 537.438823 103.416  L 537.574298 96.168  L 537.642035 110.664  L 537.77751 88.92  L 537.980723 110.664  L 538.04846 103.415999  L 538.116198 110.664  L 538.31941 88.92  L 538.387148 103.415999  L 538.454885 96.168  L 538.59036 103.416  L 538.725835 103.416  L 538.793573 96.168  L 538.929048 103.416  L 539.064523 96.168  L 539.199998 103.416  L 539.267736 103.416  L 539.403211 88.92  L 539.538686 110.663999  L 539.674161 88.92  L 539.809636 96.168  L 539.945111 96.168  L 540.148323 110.663999  L 540.283798 103.416  L 540.487011 103.415999  L 540.554748 110.663999  L 540.622486 96.168  L 540.690223 103.415999  L 540.757961 110.663999  L 540.893436 88.92  L 541.028911 103.416  L 541.096649 96.168  L 541.232124 110.663999  L 541.367599 103.416  L 541.435336 103.416  L 541.503074 110.663999  L 541.638549 96.168  L 541.706286 103.416  L 541.841761 96.168  L 541.977236 103.416  L 542.248186 103.416  L 542.383661 96.168  L 542.519136 103.416  L 542.586874 96.168  L 542.790087 110.663999  L 542.925562 103.416  L 542.993299 103.416  L 543.061037 110.663999  L 543.128774 96.168  L 543.196512 110.664  L 543.264249 96.168  L 543.331987 103.416  L 543.399724 103.416  L 543.467462 96.168  L 543.602937 103.416  L 543.806149 81.672  L 543.873887 110.663999  L 543.941624 96.167999  L 544.009362 96.167999  L 544.077099 110.663999  L 544.144837 103.415999  L 544.212574 96.168  L 544.348049 103.415999  L 544.415787 88.92  L 544.483524 96.168  L 544.551262 103.416  L 544.754475 88.92  L 544.957687 117.911999  L 545.025425 96.168  L 545.093162 110.664  L 545.1609 103.416  L 545.296375 103.416  L 545.364112 88.92  L 545.43185 117.911999  L 545.567325 88.92  L 545.635062 88.92  L 545.770537 103.416  L 545.906012 88.92  L 546.041487 103.416  L 546.109225 103.416  L 546.176962 96.168  L 546.2447 103.416  L 546.380175 96.168  L 546.583388 110.663999  L 546.718863 96.168  L 546.854338 103.416  L 546.922075 103.416  L 546.989813 88.92  L 547.05755 96.168  L 547.125288 103.415999  L 547.260763 88.92  L 547.396238 88.92  L 547.531713 103.416  L 547.667188 103.416  L 547.734925 96.168  L 547.802663 103.416  L 547.938138 96.168  L 548.005875 96.168  L 548.073613 110.663999  L 548.14135 103.415999  L 548.276826 110.663999  L 548.344563 110.663999  L 548.480038 103.416  L 548.547776 103.416  L 548.615513 96.168  L 548.818726 117.911999  L 549.089676 81.672  L 549.157413 88.92  L 549.292888 103.416  L 549.360626 88.92  L 549.428363 96.168  L 549.563838 117.911999  L 549.699313 96.168  L 549.767051 88.92  L 549.902526 103.416  L 549.970263 103.415999  L 550.038001 88.92  L 550.105739 103.416  L 550.173476 88.92  L 550.241214 96.168  L 550.444426 117.911999  L 550.647639 96.167999  L 550.783114 117.911999  L 550.986326 96.168  L 551.121801 110.663999  L 551.189539 88.92  L 551.257276 110.663999  L 551.325014 96.168  L 551.392751 103.416  L 551.528226 96.168  L 551.595964 96.168  L 551.663701 88.92  L 551.731439 103.416  L 551.799176 96.168  L 551.866914 103.416  L 552.002389 96.168  L 552.070127 96.168  L 552.137864 88.92  L 552.273339 103.416  L 552.408814 88.92  L 552.612027 110.663999  L 552.815239 88.92  L 552.950714 103.416  L 553.086189 96.168  L 553.153927 103.416  L 553.289402 96.168  L 553.357139 110.664  L 553.424877 103.416  L 553.492614 103.416  L 553.628089 88.92  L 553.831302 103.416  L 553.89904 88.92  L 553.966777 103.416  L 554.034515 88.92  L 554.102252 96.168  L 554.16999 96.168  L 554.237727 88.92  L 554.305465 103.416  L 554.373202 96.168  L 554.44094 103.416  L 554.508677 96.168  L 554.576415 103.415999  L 554.71189 88.92  L 554.847365 103.416  L 554.98284 96.168  L 555.186052 96.168  L 555.25379 88.92  L 555.389265 96.168  L 555.660215 96.168  L 555.727953 103.415999  L 555.79569 88.92  L 555.863428 96.168  L 555.998903 103.416  L 556.134378 103.416  L 556.202115 96.168  L 556.33759 103.416  L 556.405328 96.168  L 556.473065 103.416  L 556.540803 88.92  L 556.60854 96.168  L 556.744015 110.663999  L 556.811753 103.416  L 556.87949 110.664  L 557.014965 88.92  L 557.082703 110.663999  L 557.15044 103.416  L 557.218178 110.664  L 557.353653 96.168  L 557.42139 96.168  L 557.556866 88.92  L 557.692341 103.416  L 557.760078 88.92  L 557.827816 96.168  L 557.895553 103.416  L 557.963291 88.92  L 558.098766 103.416  L 558.234241 96.168  L 558.437453 96.168  L 558.572928 88.92  L 558.640666 88.92  L 558.708403 96.168  L 558.911616 81.672  L 558.979353 81.672  L 559.114828 88.92  L 559.182566 88.92  L 559.318041 96.168  L 559.385779 81.672  L 559.453516 96.168  L 559.521254 81.672  L 559.588991 88.92  L 559.656729 88.92  L 559.724466 96.168  L 559.859941 88.92  L 559.995416 103.416  L 560.266366 81.672  L 560.334104 81.672  L 560.469579 88.92  L 560.537316 81.672  L 560.672791 88.92  L 560.876004 88.92  L 560.943741 81.672  L 561.079216 88.92  L 561.214692 81.672  L 561.350167 88.92  L 561.417904 81.672  L 561.553379 96.168  L 561.621117 96.168  L 561.688854 81.672  L 561.756592 88.92  L 561.892067 81.672  L 561.959804 96.168  L 562.027542 88.919999  L 562.163017 96.168  L 562.230754 96.167999  L 562.298492 81.672  L 562.366229 88.92  L 562.569442 103.416  L 562.637179 81.672  L 562.704917 88.919999  L 562.908129 103.416  L 563.043605 74.424  L 563.17908 96.168  L 563.314555 88.92  L 563.585505 88.92  L 563.72098 96.168  L 563.856455 88.92  L 563.99193 96.167999  L 564.26288 96.168  L 564.466092 81.672  L 564.53383 96.167999  L 564.669305 81.672  L 564.80478 96.168  L 564.872518 81.672  L 564.940255 88.92  L 565.007993 96.168  L 565.143468 88.92  L 565.34668 88.919999  L 565.414418 96.167999  L 565.482155 81.672  L 565.549893 88.92  L 565.685368 88.92  L 565.753105 81.672  L 565.88858 96.168  L 565.956318 88.92  L 566.024055 103.415999  L 566.091793 96.168  L 566.15953 96.168  L 566.295005 88.92  L 566.362743 88.92  L 566.498218 96.168  L 566.565955 96.168  L 566.70143 88.92  L 566.769168 96.168  L 566.904643 88.92  L 566.972381 88.92  L 567.107856 81.672  L 567.243331 81.672  L 567.311068 88.92  L 567.378806 81.672  L 567.446543 88.92  L 567.514281 81.672  L 567.649756 96.168  L 567.717493 88.92  L 567.852968 96.167999  L 568.056181 81.672  L 568.327131 81.672  L 568.394868 96.167999  L 568.462606 88.92  L 568.530343 96.168  L 568.598081 88.92  L 568.665819 96.168  L 568.869031 81.672  L 568.936769 81.672  L 569.072244 96.168  L 569.139981 81.672  L 569.207719 88.92  L 569.343194 81.672  L 569.478669 81.672  L 569.614144 88.92  L 569.817356 88.92  L 569.952831 81.672  L 570.088306 81.672  L 570.156044 88.92  L 570.291519 81.672  L 570.426994 103.415999  L 570.630207 81.672  L 570.765682 88.92  L 570.833419 88.92  L 570.968894 81.672  L 571.036632 96.168  L 571.172107 81.672  L 571.307582 96.168  L 571.510794 81.672  L 571.646269 96.167999  L 571.781744 81.672  L 571.849482 81.672  L 571.917219 103.416  L 571.984957 81.672  L 572.120432 96.168  L 572.188169 81.672  L 572.255907 88.92  L 572.323645 96.168  L 572.45912 81.672  L 572.594595 88.92  L 572.662332 88.92  L 572.797807 81.672  L 572.865545 88.92  L 573.00102 81.672  L 573.136495 88.92  L 573.204232 88.92  L 573.339707 81.672  L 573.54292 96.168  L 573.610657 81.672  L 573.746132 96.168  L 573.949345 81.672  L 574.220295 81.672  L 574.288033 88.92  L 574.423508 81.672  L 574.62672 81.672  L 574.694458 88.92  L 574.829933 81.672  L 574.89767 81.672  L 574.965408 74.424  L 575.16862 88.92  L 575.304095 81.672  L 575.845995 81.672  L 575.913733 74.424  L 576.184683 96.168  L 576.320158 81.672  L 576.455633 81.672  L 576.523371 88.92  L 576.658846 81.672  L 576.794321 88.92  L 576.929796 81.672  L 577.065271 81.672  L 577.200746 88.92  L 577.336221 81.672  L 577.403958 88.92  L 577.539433 74.424  L 577.674908 81.672  L 578.149071 81.672  L 578.216809 74.424  L 578.352284 81.672  L 578.487759 81.672  L 578.555496 88.92  L 578.690971 81.672  L 578.894184 81.672  L 578.961921 88.92  L 579.097396 81.672  L 579.165134 88.92  L 579.300609 81.672  L 579.707034 81.672  L 579.774772 74.424  L 579.910247 81.672  L 580.045722 81.672  L 580.113459 88.92  L 580.181197 74.424  L 580.248934 88.92  L 580.316672 81.672  L 580.452147 81.672  L 580.519884 74.424  L 580.723097 88.92  L 580.790834 81.672  L 580.858572 88.92  L 580.994047 81.672  L 581.061784 81.672  L 581.129522 88.92  L 581.197259 81.672  L 581.264997 88.92  L 581.332734 81.672  L 581.400472 88.92  L 581.535947 81.672  L 581.942372 81.672  L 582.01011 74.424  L 582.145585 81.672  L 582.213322 81.672  L 582.348797 88.92  L 582.484272 88.92  L 582.619747 74.424  L 582.687485 88.92  L 582.755222 81.672  L 582.82296 81.672  L 582.890697 74.424  L 583.09391 88.92  L 583.161647 88.92  L 583.297122 74.424  L 583.36486 81.672  L 583.432598 74.424  L 583.568073 88.92  L 583.771285 74.424  L 583.839023 88.92  L 583.90676 81.672  L 583.974498 81.672  L 584.042235 74.424  L 584.109973 81.672  L 584.17771 74.424  L 584.313185 88.92  L 584.516398 74.424  L 584.651873 88.92  L 584.855085 74.424  L 584.922823 74.424  L 585.058298 81.672  L 585.126035 81.672  L 585.261511 74.424  L 585.329248 74.424  L 585.396986 81.672  L 585.532461 67.176  L 585.735673 81.672  L 585.803411 67.176  L 585.871148 74.424  L 585.938886 74.424  L 586.074361 81.672  L 586.142098 81.672  L 586.209836 74.424  L 586.277573 81.672  L 586.413048 74.424  L 586.548523 74.424  L 586.683998 81.672  L 586.819473 74.424  L 586.954948 74.424  L 587.022686 67.176  L 587.158161 81.672  L 587.225899 81.672  L 587.293636 88.92  L 587.496849 74.424  L 587.700061 74.424  L 587.835536 81.672  L 587.903274 81.672  L 588.038749 74.424  L 588.174224 81.672  L 588.241961 67.176  L 588.309699 81.672  L 588.377436 74.424  L 588.919337 74.424  L 589.054812 67.176  L 589.190287 81.672  L 589.325762 67.176  L 589.393499 74.424  L 589.461237 67.176  L 589.528974 81.672  L 589.596712 74.424  L 589.799924 74.424  L 589.867662 67.176  L 589.935399 74.424  L 590.070874 67.176  L 590.138612 74.424  L 590.206349 67.176  L 590.274087 74.424  L 590.341824 67.176  L 590.477299 74.424  L 590.612774 74.424  L 590.680512 67.176  L 590.815987 81.672  L 591.0192 67.176  L 591.357887 67.176  L 591.493362 74.424  L 591.5611 74.424  L 591.628837 67.176  L 591.764312 74.424  L 591.899787 67.176  L 591.967525 81.672  L 592.035262 67.176  L 592.103 74.424  L 592.238475 74.424  L 592.306212 67.176  L 592.37395 81.672  L 592.441687 74.424  L 592.509425 67.176  L 592.6449 81.672  L 592.848113 67.176  L 593.322275 67.176  L 593.390013 74.424  L 593.45775 67.176  L 593.525488 74.424  L 593.660963 67.176  L 594.473813 67.176  L 594.541551 59.928  L 594.677026 67.176  L 595.218926 67.176  L 595.286663 74.424  L 595.354401 67.176  L 595.422138 74.424  L 595.625351 59.928  L 595.896301 59.928  L 595.964038 67.176  L 596.031776 59.928  L 596.167251 67.176  L 596.370464 67.176  L 596.505939 59.928  L 596.641414 67.176  L 596.844626 67.176  L 596.980101 59.928  L 597.115576 59.928  L 597.251051 67.176  L 597.522001 67.176  L 597.657476 59.928  L 597.725214 59.928  L 597.860689 67.176  L 597.928426 67.176  L 598.063901 59.928  L 598.199377 67.176  L 598.267114 67.176  L 598.334852 59.928  L 598.402589 67.176  L 598.470327 59.928  L 598.538064 67.176  L 598.673539 59.928  L 598.741277 59.928  L 598.876752 67.176  L 599.012227 59.928  L 599.147702 59.928  L 599.215439 67.176  L 599.350914 59.928  L 599.486389 59.928  L 599.621864 67.176  L 599.689602 67.176  L 599.825077 59.928  L 600.02829 59.928  L 600.096027 67.176  L 600.231502 59.928  L 600.366977 67.176  L 600.434715 67.176  L 600.57019 59.928  L 601.044352 59.928  L 601.179827 67.176  L 601.315302 59.928  L 636.403337 59.928  L 636.471074 52.68  L 636.471074 52.68  \" style=\"fill:none;stroke:#ff7f0e;stroke-linecap:square;stroke-width:1.5;\"/>\n",
       "   </g>\n",
       "   <g id=\"patch_9\">\n",
       "    <path d=\"M 394.363636 252  L 394.363636 34.56  \" style=\"fill:none;stroke:#000000;stroke-linecap:square;stroke-linejoin:miter;stroke-width:0.8;\"/>\n",
       "   </g>\n",
       "   <g id=\"patch_10\">\n",
       "    <path d=\"M 648 252  L 648 34.56  \" style=\"fill:none;stroke:#000000;stroke-linecap:square;stroke-linejoin:miter;stroke-width:0.8;\"/>\n",
       "   </g>\n",
       "   <g id=\"patch_11\">\n",
       "    <path d=\"M 394.363636 252  L 648 252  \" style=\"fill:none;stroke:#000000;stroke-linecap:square;stroke-linejoin:miter;stroke-width:0.8;\"/>\n",
       "   </g>\n",
       "   <g id=\"patch_12\">\n",
       "    <path d=\"M 394.363636 34.56  L 648 34.56  \" style=\"fill:none;stroke:#000000;stroke-linecap:square;stroke-linejoin:miter;stroke-width:0.8;\"/>\n",
       "   </g>\n",
       "   <g id=\"text_35\">\n",
       "    <!-- RGB Classifier: Accuracy -->\n",
       "    <defs>\n",
       "     <path d=\"M 34.1875 63.1875  L 20.796875 26.90625  L 47.609375 26.90625  z M 28.609375 72.90625  L 39.796875 72.90625  L 67.578125 0  L 57.328125 0  L 50.6875 18.703125  L 17.828125 18.703125  L 11.1875 0  L 0.78125 0  z \" id=\"DejaVuSans-41\"/>\n",
       "     <path d=\"M 8.5 21.578125  L 8.5 54.6875  L 17.484375 54.6875  L 17.484375 21.921875  Q 17.484375 14.15625 20.5 10.265625  Q 23.53125 6.390625 29.59375 6.390625  Q 36.859375 6.390625 41.078125 11.03125  Q 45.3125 15.671875 45.3125 23.6875  L 45.3125 54.6875  L 54.296875 54.6875  L 54.296875 0  L 45.3125 0  L 45.3125 8.40625  Q 42.046875 3.421875 37.71875 1  Q 33.40625 -1.421875 27.6875 -1.421875  Q 18.265625 -1.421875 13.375 4.4375  Q 8.5 10.296875 8.5 21.578125  z M 31.109375 56  z \" id=\"DejaVuSans-75\"/>\n",
       "     <path d=\"M 32.171875 -5.078125  Q 28.375 -14.84375 24.75 -17.8125  Q 21.140625 -20.796875 15.09375 -20.796875  L 7.90625 -20.796875  L 7.90625 -13.28125  L 13.1875 -13.28125  Q 16.890625 -13.28125 18.9375 -11.515625  Q 21 -9.765625 23.484375 -3.21875  L 25.09375 0.875  L 2.984375 54.6875  L 12.5 54.6875  L 29.59375 11.921875  L 46.6875 54.6875  L 56.203125 54.6875  z \" id=\"DejaVuSans-79\"/>\n",
       "    </defs>\n",
       "    <g transform=\"translate(447.526193 28.56)scale(0.12 -0.12)\">\n",
       "     <use xlink:href=\"#DejaVuSans-52\"/>\n",
       "     <use x=\"69.482422\" xlink:href=\"#DejaVuSans-47\"/>\n",
       "     <use x=\"146.972656\" xlink:href=\"#DejaVuSans-42\"/>\n",
       "     <use x=\"215.576172\" xlink:href=\"#DejaVuSans-20\"/>\n",
       "     <use x=\"247.363281\" xlink:href=\"#DejaVuSans-43\"/>\n",
       "     <use x=\"317.1875\" xlink:href=\"#DejaVuSans-6c\"/>\n",
       "     <use x=\"344.970703\" xlink:href=\"#DejaVuSans-61\"/>\n",
       "     <use x=\"406.25\" xlink:href=\"#DejaVuSans-73\"/>\n",
       "     <use x=\"458.349609\" xlink:href=\"#DejaVuSans-73\"/>\n",
       "     <use x=\"510.449219\" xlink:href=\"#DejaVuSans-69\"/>\n",
       "     <use x=\"538.232422\" xlink:href=\"#DejaVuSans-66\"/>\n",
       "     <use x=\"573.4375\" xlink:href=\"#DejaVuSans-69\"/>\n",
       "     <use x=\"601.220703\" xlink:href=\"#DejaVuSans-65\"/>\n",
       "     <use x=\"662.744141\" xlink:href=\"#DejaVuSans-72\"/>\n",
       "     <use x=\"703.841797\" xlink:href=\"#DejaVuSans-3a\"/>\n",
       "     <use x=\"737.533203\" xlink:href=\"#DejaVuSans-20\"/>\n",
       "     <use x=\"769.320312\" xlink:href=\"#DejaVuSans-41\"/>\n",
       "     <use x=\"837.712891\" xlink:href=\"#DejaVuSans-63\"/>\n",
       "     <use x=\"892.693359\" xlink:href=\"#DejaVuSans-63\"/>\n",
       "     <use x=\"947.673828\" xlink:href=\"#DejaVuSans-75\"/>\n",
       "     <use x=\"1011.052734\" xlink:href=\"#DejaVuSans-72\"/>\n",
       "     <use x=\"1052.166016\" xlink:href=\"#DejaVuSans-61\"/>\n",
       "     <use x=\"1113.445312\" xlink:href=\"#DejaVuSans-63\"/>\n",
       "     <use x=\"1168.425781\" xlink:href=\"#DejaVuSans-79\"/>\n",
       "    </g>\n",
       "   </g>\n",
       "   <g id=\"legend_2\">\n",
       "    <g id=\"patch_13\">\n",
       "     <path d=\"M 401.363636 71.91625  L 501.969886 71.91625  Q 503.969886 71.91625 503.969886 69.91625  L 503.969886 41.56  Q 503.969886 39.56 501.969886 39.56  L 401.363636 39.56  Q 399.363636 39.56 399.363636 41.56  L 399.363636 69.91625  Q 399.363636 71.91625 401.363636 71.91625  z \" style=\"fill:#ffffff;opacity:0.8;stroke:#cccccc;stroke-linejoin:miter;\"/>\n",
       "    </g>\n",
       "    <g id=\"line2d_38\">\n",
       "     <path d=\"M 403.363636 47.658437  L 423.363636 47.658437  \" style=\"fill:none;stroke:#1f77b4;stroke-linecap:square;stroke-width:1.5;\"/>\n",
       "    </g>\n",
       "    <g id=\"line2d_39\"/>\n",
       "    <g id=\"text_36\">\n",
       "     <!-- Training set -->\n",
       "     <g transform=\"translate(431.363636 51.158437)scale(0.1 -0.1)\">\n",
       "      <use xlink:href=\"#DejaVuSans-54\"/>\n",
       "      <use x=\"60.865234\" xlink:href=\"#DejaVuSans-72\"/>\n",
       "      <use x=\"101.978516\" xlink:href=\"#DejaVuSans-61\"/>\n",
       "      <use x=\"163.257812\" xlink:href=\"#DejaVuSans-69\"/>\n",
       "      <use x=\"191.041016\" xlink:href=\"#DejaVuSans-6e\"/>\n",
       "      <use x=\"254.419922\" xlink:href=\"#DejaVuSans-69\"/>\n",
       "      <use x=\"282.203125\" xlink:href=\"#DejaVuSans-6e\"/>\n",
       "      <use x=\"345.582031\" xlink:href=\"#DejaVuSans-67\"/>\n",
       "      <use x=\"409.058594\" xlink:href=\"#DejaVuSans-20\"/>\n",
       "      <use x=\"440.845703\" xlink:href=\"#DejaVuSans-73\"/>\n",
       "      <use x=\"492.945312\" xlink:href=\"#DejaVuSans-65\"/>\n",
       "      <use x=\"554.46875\" xlink:href=\"#DejaVuSans-74\"/>\n",
       "     </g>\n",
       "    </g>\n",
       "    <g id=\"line2d_40\">\n",
       "     <path d=\"M 403.363636 62.336562  L 423.363636 62.336562  \" style=\"fill:none;stroke:#ff7f0e;stroke-linecap:square;stroke-width:1.5;\"/>\n",
       "    </g>\n",
       "    <g id=\"line2d_41\"/>\n",
       "    <g id=\"text_37\">\n",
       "     <!-- Validation set -->\n",
       "     <g transform=\"translate(431.363636 65.836562)scale(0.1 -0.1)\">\n",
       "      <use xlink:href=\"#DejaVuSans-56\"/>\n",
       "      <use x=\"68.298828\" xlink:href=\"#DejaVuSans-61\"/>\n",
       "      <use x=\"129.578125\" xlink:href=\"#DejaVuSans-6c\"/>\n",
       "      <use x=\"157.361328\" xlink:href=\"#DejaVuSans-69\"/>\n",
       "      <use x=\"185.144531\" xlink:href=\"#DejaVuSans-64\"/>\n",
       "      <use x=\"248.621094\" xlink:href=\"#DejaVuSans-61\"/>\n",
       "      <use x=\"309.900391\" xlink:href=\"#DejaVuSans-74\"/>\n",
       "      <use x=\"349.109375\" xlink:href=\"#DejaVuSans-69\"/>\n",
       "      <use x=\"376.892578\" xlink:href=\"#DejaVuSans-6f\"/>\n",
       "      <use x=\"438.074219\" xlink:href=\"#DejaVuSans-6e\"/>\n",
       "      <use x=\"501.453125\" xlink:href=\"#DejaVuSans-20\"/>\n",
       "      <use x=\"533.240234\" xlink:href=\"#DejaVuSans-73\"/>\n",
       "      <use x=\"585.339844\" xlink:href=\"#DejaVuSans-65\"/>\n",
       "      <use x=\"646.863281\" xlink:href=\"#DejaVuSans-74\"/>\n",
       "     </g>\n",
       "    </g>\n",
       "   </g>\n",
       "  </g>\n",
       " </g>\n",
       " <defs>\n",
       "  <clipPath id=\"pc59b9bed66\">\n",
       "   <rect height=\"217.44\" width=\"253.636364\" x=\"90\" y=\"34.56\"/>\n",
       "  </clipPath>\n",
       "  <clipPath id=\"p55f510841b\">\n",
       "   <rect height=\"217.44\" width=\"253.636364\" x=\"394.363636\" y=\"34.56\"/>\n",
       "  </clipPath>\n",
       " </defs>\n",
       "</svg>"
      ],
      "text/plain": [
       "<IPython.core.display.SVG object>"
      ]
     },
     "metadata": {},
     "output_type": "display_data"
    },
    {
     "name": "stdout",
     "output_type": "stream",
     "text": [
      "========================================================\n",
      "       |  Training |  Training |  Validate |  Validate \n",
      "Epochs |     Error |  Accuracy |     Error |  Accuracy \n",
      "------ | --------- | --------- | --------- | --------- \n",
      "# 3404 |   0.15078 |   0.96000 |   0.14923 |   1.00000 \n",
      "Saving network... Saved!\n"
     ]
    }
   ],
   "source": [
    "net.reset()\n",
    "net.train(15000, accuracy=1.0, batch_size=16, \n",
    "          report_rate=200, use_validation_to_stop=True,\n",
    "          save=True, record=50)"
   ]
  },
  {
   "cell_type": "code",
   "execution_count": 347,
   "metadata": {},
   "outputs": [
    {
     "name": "stdout",
     "output_type": "stream",
     "text": [
      "========================================================\n",
      "Testing validation dataset with tolerance 0.5...\n",
      "# | inputs | targets | outputs | result\n",
      "---------------------------------------\n",
      "0 | [[0.12,0.67]] | [[1.00,0.00,0.00,0.00]] | [1.00,0.00,0.00,0.00] | correct\n",
      "1 | [[0.16,0.87]] | [[1.00,0.00,0.00,0.00]] | [1.00,0.00,0.00,0.00] | correct\n",
      "2 | [[0.29,0.55]] | [[1.00,0.00,0.00,0.00]] | [0.88,0.00,0.12,0.00] | correct\n",
      "3 | [[0.29,0.79]] | [[1.00,0.00,0.00,0.00]] | [1.00,0.00,0.00,0.00] | correct\n",
      "4 | [[0.38,0.88]] | [[1.00,0.00,0.00,0.00]] | [0.93,0.00,0.07,0.00] | correct\n",
      "5 | [[0.79,0.55]] | [[1.00,0.00,0.00,0.00]] | [0.43,0.14,0.00,0.43] | X\n",
      "6 | [[0.29,0.13]] | [[0.00,1.00,0.00,0.00]] | [0.00,1.00,0.00,0.00] | correct\n",
      "7 | [[0.41,0.30]] | [[0.00,1.00,0.00,0.00]] | [0.00,0.88,0.11,0.01] | correct\n",
      "8 | [[0.60,0.23]] | [[0.00,1.00,0.00,0.00]] | [0.00,0.97,0.00,0.03] | correct\n",
      "9 | [[0.76,0.73]] | [[0.00,1.00,0.00,0.00]] | [0.02,0.96,0.00,0.03] | correct\n",
      "10 | [[0.86,0.15]] | [[0.00,1.00,0.00,0.00]] | [0.00,0.96,0.00,0.04] | correct\n",
      "11 | [[0.78,0.93]] | [[0.00,1.00,0.00,0.00]] | [0.03,0.91,0.00,0.07] | correct\n",
      "12 | [[0.90,0.71]] | [[0.00,1.00,0.00,0.00]] | [0.18,0.73,0.00,0.09] | correct\n",
      "13 | [[0.68,0.51]] | [[0.00,0.00,0.00,1.00]] | [0.25,0.15,0.00,0.60] | correct\n",
      "14 | [[0.63,0.72]] | [[0.00,0.00,0.00,1.00]] | [0.11,0.14,0.02,0.73] | correct\n",
      "15 | [[0.62,0.90]] | [[0.00,0.00,0.00,1.00]] | [0.05,0.00,0.16,0.78] | correct\n",
      "16 | [[0.77,0.33]] | [[0.00,0.00,0.00,1.00]] | [0.07,0.07,0.00,0.86] | correct\n",
      "17 | [[0.90,0.27]] | [[0.00,0.00,0.00,1.00]] | [0.08,0.13,0.00,0.79] | correct\n",
      "18 | [[0.11,0.33]] | [[0.00,0.00,1.00,0.00]] | [0.05,0.00,0.95,0.00] | correct\n",
      "19 | [[0.18,0.34]] | [[0.00,0.00,1.00,0.00]] | [0.01,0.00,0.99,0.00] | correct\n",
      "20 | [[0.29,0.37]] | [[0.00,0.00,1.00,0.00]] | [0.00,0.00,0.99,0.01] | correct\n",
      "21 | [[0.39,0.43]] | [[0.00,0.00,1.00,0.00]] | [0.00,0.00,0.96,0.04] | correct\n",
      "22 | [[0.46,0.54]] | [[0.00,0.00,1.00,0.00]] | [0.01,0.00,0.83,0.16] | correct\n",
      "23 | [[0.50,0.69]] | [[0.00,0.00,1.00,0.00]] | [0.01,0.00,0.89,0.10] | correct\n",
      "24 | [[0.49,0.88]] | [[0.00,0.00,1.00,0.00]] | [0.13,0.00,0.84,0.03] | correct\n",
      "Total count: 25\n",
      "      correct: 24\n",
      "      incorrect: 1\n",
      "Total percentage correct: 0.96\n"
     ]
    }
   ],
   "source": [
    "net.test(show=True, tolerance=0.5)"
   ]
  },
  {
   "cell_type": "code",
   "execution_count": 348,
   "metadata": {},
   "outputs": [
    {
     "data": {
      "application/vnd.jupyter.widget-view+json": {
       "model_id": "e68a8686264a495eb2780ac6c852cc26",
       "version_major": 2,
       "version_minor": 0
      },
      "text/html": [
       "<p>Failed to display Jupyter Widget of type <code>Dashboard</code>.</p>\n",
       "<p>\n",
       "  If you're reading this message in the Jupyter Notebook or JupyterLab Notebook, it may mean\n",
       "  that the widgets JavaScript is still loading. If this message persists, it\n",
       "  likely means that the widgets JavaScript library is either not installed or\n",
       "  not enabled. See the <a href=\"https://ipywidgets.readthedocs.io/en/stable/user_install.html\">Jupyter\n",
       "  Widgets Documentation</a> for setup instructions.\n",
       "</p>\n",
       "<p>\n",
       "  If you're reading this message in another frontend (for example, a static\n",
       "  rendering on GitHub or <a href=\"https://nbviewer.jupyter.org/\">NBViewer</a>),\n",
       "  it may mean that your frontend doesn't currently support widgets.\n",
       "</p>\n"
      ],
      "text/plain": [
       "Dashboard(children=(Accordion(children=(HBox(children=(VBox(children=(Select(description='Dataset:', index=1, options=('Test', 'Train'), rows=1, value='Train'), FloatSlider(value=0.5, continuous_update=False, description='Zoom', layout=Layout(width='65%'), max=1.0, style=SliderStyle(description_width='initial')), IntText(value=150, description='Horizontal space between banks:', style=DescriptionStyle(description_width='initial')), IntText(value=30, description='Vertical space between layers:', style=DescriptionStyle(description_width='initial')), HBox(children=(Checkbox(value=False, description='Show Targets', style=DescriptionStyle(description_width='initial')), Checkbox(value=False, description='Errors', style=DescriptionStyle(description_width='initial')))), Select(description='Features:', options=('',), rows=1, value=''), IntText(value=3, description='Feature columns:', style=DescriptionStyle(description_width='initial')), FloatText(value=1.0, description='Feature scale:', style=DescriptionStyle(description_width='initial'))), layout=Layout(width='100%')), VBox(children=(Select(description='Layer:', index=2, options=('input', 'hidden', 'output'), rows=1, value='output'), Checkbox(value=True, description='Visible'), Select(description='Colormap:', options=('', 'Accent', 'Accent_r', 'Blues', 'Blues_r', 'BrBG', 'BrBG_r', 'BuGn', 'BuGn_r', 'BuPu', 'BuPu_r', 'CMRmap', 'CMRmap_r', 'Dark2', 'Dark2_r', 'GnBu', 'GnBu_r', 'Greens', 'Greens_r', 'Greys', 'Greys_r', 'OrRd', 'OrRd_r', 'Oranges', 'Oranges_r', 'PRGn', 'PRGn_r', 'Paired', 'Paired_r', 'Pastel1', 'Pastel1_r', 'Pastel2', 'Pastel2_r', 'PiYG', 'PiYG_r', 'PuBu', 'PuBuGn', 'PuBuGn_r', 'PuBu_r', 'PuOr', 'PuOr_r', 'PuRd', 'PuRd_r', 'Purples', 'Purples_r', 'RdBu', 'RdBu_r', 'RdGy', 'RdGy_r', 'RdPu', 'RdPu_r', 'RdYlBu', 'RdYlBu_r', 'RdYlGn', 'RdYlGn_r', 'Reds', 'Reds_r', 'Set1', 'Set1_r', 'Set2', 'Set2_r', 'Set3', 'Set3_r', 'Spectral', 'Spectral_r', 'Vega10', 'Vega10_r', 'Vega20', 'Vega20_r', 'Vega20b', 'Vega20b_r', 'Vega20c', 'Vega20c_r', 'Wistia', 'Wistia_r', 'YlGn', 'YlGnBu', 'YlGnBu_r', 'YlGn_r', 'YlOrBr', 'YlOrBr_r', 'YlOrRd', 'YlOrRd_r', 'afmhot', 'afmhot_r', 'autumn', 'autumn_r', 'binary', 'binary_r', 'bone', 'bone_r', 'brg', 'brg_r', 'bwr', 'bwr_r', 'cool', 'cool_r', 'coolwarm', 'coolwarm_r', 'copper', 'copper_r', 'cubehelix', 'cubehelix_r', 'flag', 'flag_r', 'gist_earth', 'gist_earth_r', 'gist_gray', 'gist_gray_r', 'gist_heat', 'gist_heat_r', 'gist_ncar', 'gist_ncar_r', 'gist_rainbow', 'gist_rainbow_r', 'gist_stern', 'gist_stern_r', 'gist_yarg', 'gist_yarg_r', 'gnuplot', 'gnuplot2', 'gnuplot2_r', 'gnuplot_r', 'gray', 'gray_r', 'hot', 'hot_r', 'hsv', 'hsv_r', 'inferno', 'inferno_r', 'jet', 'jet_r', 'magma', 'magma_r', 'nipy_spectral', 'nipy_spectral_r', 'ocean', 'ocean_r', 'pink', 'pink_r', 'plasma', 'plasma_r', 'prism', 'prism_r', 'rainbow', 'rainbow_r', 'seismic', 'seismic_r', 'spectral', 'spectral_r', 'spring', 'spring_r', 'summer', 'summer_r', 'tab10', 'tab10_r', 'tab20', 'tab20_r', 'tab20b', 'tab20b_r', 'tab20c', 'tab20c_r', 'terrain', 'terrain_r', 'viridis', 'viridis_r', 'winter', 'winter_r'), rows=1, value=''), HTML(value='<img src=\"data:image/gif;base64,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\"/>'), FloatText(value=0.0, description='Leftmost color maps to:', style=DescriptionStyle(description_width='initial')), FloatText(value=1.0, description='Rightmost color maps to:', style=DescriptionStyle(description_width='initial')), IntText(value=0, description='Feature to show:', style=DescriptionStyle(description_width='initial')), HBox(children=(Checkbox(value=False, description='Rotate network', layout=Layout(width='52%'), style=DescriptionStyle(description_width='initial')), Button(icon='save', layout=Layout(width='10%'), style=ButtonStyle())))), layout=Layout(width='100%')))),), selected_index=None, _titles={'0': 'RGB Classifier'}), VBox(children=(HBox(children=(IntSlider(value=0, continuous_update=False, description='Dataset index', layout=Layout(width='100%'), max=24), Label(value='of 25', layout=Layout(width='100px'))), layout=Layout(height='40px')), HBox(children=(Button(icon='fast-backward', layout=Layout(width='100%'), style=ButtonStyle()), Button(icon='backward', layout=Layout(width='100%'), style=ButtonStyle()), IntText(value=0, layout=Layout(width='100%')), Button(icon='forward', layout=Layout(width='100%'), style=ButtonStyle()), Button(icon='fast-forward', layout=Layout(width='100%'), style=ButtonStyle()), Button(description='Play', icon='play', layout=Layout(width='100%'), style=ButtonStyle()), Button(icon='refresh', layout=Layout(width='25%'), style=ButtonStyle())), layout=Layout(height='50px', width='100%'))), layout=Layout(width='100%')), HTML(value='<p style=\"text-align:center\"></p>', layout=Layout(justify_content='center', overflow_x='auto', overflow_y='auto', width='95%')), Output()))"
      ]
     },
     "metadata": {},
     "output_type": "display_data"
    }
   ],
   "source": [
    "net.dashboard()"
   ]
  },
  {
   "cell_type": "code",
   "execution_count": 349,
   "metadata": {},
   "outputs": [
    {
     "data": {
      "image/png": "[encoded data removed]",
      "text/plain": [
       "<matplotlib.figure.Figure at 0x7f39f3fde4e0>"
      ]
     },
     "metadata": {},
     "output_type": "display_data"
    }
   ],
   "source": [
    "cx.view([net.plot_activation_map(to_unit=i, format=\"image\") for i in range(4)], scale=3)"
   ]
  },
  {
   "cell_type": "code",
   "execution_count": 350,
   "metadata": {},
   "outputs": [],
   "source": [
    "def function(x, y):\n",
    "    output = net.propagate([x, y])\n",
    "    if cx.argmax(output) == 0: ## red\n",
    "        return 0.5\n",
    "    elif cx.argmax(output) == 1: ## green\n",
    "        return 1.0\n",
    "    elif cx.argmax(output) == 2: ## blue\n",
    "        return 0.0\n",
    "    else:\n",
    "        return 0.2\n",
    "heatmap_image = cx.heatmap(function, colormap=\"brg\", format=\"image\")"
   ]
  },
  {
   "cell_type": "code",
   "execution_count": 351,
   "metadata": {},
   "outputs": [],
   "source": [
    "scatter_image = cx.scatter([[\"Red\", scale(red, size)], \n",
    "            [\"Green\", scale(green, size)],\n",
    "            [\"Purple\", scale(purple, size)],\n",
    "            [\"Blue\", scale(blue, size)]], \n",
    "            symbols=symbols, \n",
    "            xmin=0, xmax=1,\n",
    "            ymin=0, ymax=1, format=\"image\")"
   ]
  },
  {
   "cell_type": "code",
   "execution_count": 352,
   "metadata": {},
   "outputs": [
    {
     "data": {
      "text/plain": [
       "(432, 432)"
      ]
     },
     "execution_count": 352,
     "metadata": {},
     "output_type": "execute_result"
    }
   ],
   "source": [
    "scatter_image.size"
   ]
  },
  {
   "cell_type": "code",
   "execution_count": 353,
   "metadata": {},
   "outputs": [
    {
     "data": {
      "image/png": "[encoded data removed]",
      "text/plain": [
       "<PIL.PngImagePlugin.PngImageFile image mode=RGBA size=576x288 at 0x7F39F3DBDFD0>"
      ]
     },
     "metadata": {},
     "output_type": "display_data"
    },
    {
     "data": {
      "image/png": "[encoded data removed]",
      "text/plain": [
       "<PIL.PngImagePlugin.PngImageFile image mode=RGBA size=432x432 at 0x7F39F3D7E5F8>"
      ]
     },
     "metadata": {},
     "output_type": "display_data"
    }
   ],
   "source": [
    "display(heatmap_image)\n",
    "display(scatter_image)"
   ]
  },
  {
   "cell_type": "code",
   "execution_count": 354,
   "metadata": {},
   "outputs": [
    {
     "data": {
      "application/vnd.jupyter.widget-view+json": {
       "model_id": "2b21f8b363c4472496a0fc93cd4d40ff",
       "version_major": 2,
       "version_minor": 0
      },
      "text/html": [
       "<p>Failed to display Jupyter Widget of type <code>SequenceViewer</code>.</p>\n",
       "<p>\n",
       "  If you're reading this message in the Jupyter Notebook or JupyterLab Notebook, it may mean\n",
       "  that the widgets JavaScript is still loading. If this message persists, it\n",
       "  likely means that the widgets JavaScript library is either not installed or\n",
       "  not enabled. See the <a href=\"https://ipywidgets.readthedocs.io/en/stable/user_install.html\">Jupyter\n",
       "  Widgets Documentation</a> for setup instructions.\n",
       "</p>\n",
       "<p>\n",
       "  If you're reading this message in another frontend (for example, a static\n",
       "  rendering on GitHub or <a href=\"https://nbviewer.jupyter.org/\">NBViewer</a>),\n",
       "  it may mean that your frontend doesn't currently support widgets.\n",
       "</p>\n"
      ],
      "text/plain": [
       "SequenceViewer(children=(VBox(children=(HBox(children=(IntSlider(value=0, continuous_update=False, description='RGB Classifier Playback:', layout=Layout(width='100%'), max=69, style=SliderStyle(description_width='initial')), Label(value='of 70', layout=Layout(width='100px'))), layout=Layout(height='40px')), HBox(children=(Button(icon='fast-backward', layout=Layout(width='100%'), style=ButtonStyle()), Button(icon='backward', layout=Layout(width='100%'), style=ButtonStyle()), IntText(value=0, layout=Layout(width='100%')), Button(icon='forward', layout=Layout(width='100%'), style=ButtonStyle()), Button(icon='fast-forward', layout=Layout(width='100%'), style=ButtonStyle()), Button(description='Play', icon='play', layout=Layout(width='100%'), style=ButtonStyle())), layout=Layout(height='50px', width='100%'))), layout=Layout(width='100%')), Output()))"
      ]
     },
     "metadata": {},
     "output_type": "display_data"
    },
    {
     "data": {
      "image/png": "[encoded data removed]",
      "text/plain": [
       "<PIL.PngImagePlugin.PngImageFile image mode=RGBA size=576x288 at 0x7F39F332E978>"
      ]
     },
     "metadata": {},
     "output_type": "display_data"
    }
   ],
   "source": [
    "net.playback(lambda net, epoch: cx.heatmap(function, colormap=\"brg\", title=\"Epoch %s\" % epoch, format=\"image\"))"
   ]
  },
  {
   "cell_type": "code",
   "execution_count": 355,
   "metadata": {},
   "outputs": [
    {
     "data": {
      "text/html": [
       "<video src='RGB_Classifier-movie.mp4' controls></video>"
      ],
      "text/plain": [
       "<IPython.core.display.HTML object>"
      ]
     },
     "execution_count": 355,
     "metadata": {},
     "output_type": "execute_result"
    }
   ],
   "source": [
    "net.movie(lambda net, epoch: cx.heatmap(function, colormap=\"brg\", title=\"Epoch %s\" % epoch, format=\"image\"))"
   ]
  },
  {
   "cell_type": "code",
   "execution_count": null,
   "metadata": {},
   "outputs": [],
   "source": []
  }
 ],
 "metadata": {
  "kernelspec": {
   "display_name": "Python 3",
   "language": "python",
   "name": "python3"
  },
  "language_info": {
   "codemirror_mode": {
    "name": "ipython",
    "version": 3
   },
   "file_extension": ".py",
   "mimetype": "text/x-python",
   "name": "python",
   "nbconvert_exporter": "python",
   "pygments_lexer": "ipython3",
   "version": "3.6.3"
  },
  "widgets": {
   "application/vnd.jupyter.widget-state+json": {
    "state": {
     "0061691c2e724705b456a94b559e0f11": {
      "model_module": "@jupyter-widgets/controls",
      "model_module_version": "1.1.0",
      "model_name": "ButtonModel",
      "state": {
       "icon": "fast-backward",
       "layout": "IPY_MODEL_b17561ad48f84b498d69e533fe25e87c",
       "style": "IPY_MODEL_799be4a107394deab10bec6c962852d0"
      }
     },
     "00dcb263d33b4daa9570313dc6bc41cd": {
      "model_module": "@jupyter-widgets/base",
      "model_module_version": "1.0.0",
      "model_name": "LayoutModel",
      "state": {
       "height": "40px"
      }
     },
     "0183e320fc844bfd9723e4e0fa9d7262": {
      "model_module": "@jupyter-widgets/controls",
      "model_module_version": "1.1.0",
      "model_name": "ButtonStyleModel",
      "state": {}
     },
     "0209d011d692436a8423b9aa6a8e001a": {
      "model_module": "@jupyter-widgets/controls",
      "model_module_version": "1.1.0",
      "model_name": "VBoxModel",
      "state": {
       "children": [
        "IPY_MODEL_e1080e059a484ae1873e53aac2ed8799",
        "IPY_MODEL_5d0e217fbd494dd185242a9c45ba78e2"
       ],
       "layout": "IPY_MODEL_a87755a2792d4a0cb4a5c423732ce9f7"
      }
     },
     "020ab118e2d04078bf15b7196d3fbc30": {
      "model_module": "@jupyter-widgets/controls",
      "model_module_version": "1.1.0",
      "model_name": "DescriptionStyleModel",
      "state": {
       "description_width": "initial"
      }
     },
     "0294d56f49714b1982bbd83bb6e42253": {
      "model_module": "@jupyter-widgets/controls",
      "model_module_version": "1.1.0",
      "model_name": "FloatSliderModel",
      "state": {
       "continuous_update": false,
       "description": "Zoom",
       "layout": "IPY_MODEL_872d1fe4cac6425f859b00cb82dc36df",
       "max": 1,
       "step": 0.1,
       "style": "IPY_MODEL_2e62838abc0b4265ac17c6b69dd8f183",
       "value": 0.5
      }
     },
     "03396886a9c6473a83e7b26b92c5ebfe": {
      "model_module": "@jupyter-widgets/controls",
      "model_module_version": "1.1.0",
      "model_name": "IntTextModel",
      "state": {
       "description": "Feature columns:",
       "layout": "IPY_MODEL_0ba230c72dd146d8901db5c8bcce44ab",
       "step": 1,
       "style": "IPY_MODEL_e0c28d66b3484fbb93c69d0987246fca",
       "value": 3
      }
     },
     "0400230e34ec451ba512f7f21dc54819": {
      "model_module": "@jupyter-widgets/controls",
      "model_module_version": "1.1.0",
      "model_name": "ButtonStyleModel",
      "state": {}
     },
     "0416d4166a4a400d89df36e2aa3f00f2": {
      "model_module": "@jupyter-widgets/base",
      "model_module_version": "1.0.0",
      "model_name": "LayoutModel",
      "state": {}
     },
     "0435355fd907477db95b40098b258a54": {
      "model_module": "@jupyter-widgets/base",
      "model_module_version": "1.0.0",
      "model_name": "LayoutModel",
      "state": {
       "width": "100%"
      }
     },
     "048debc228064acd8828e4dc1254ec2a": {
      "model_module": "@jupyter-widgets/base",
      "model_module_version": "1.0.0",
      "model_name": "LayoutModel",
      "state": {
       "width": "100%"
      }
     },
     "0551999d8fa445c7b77d55e49007c8f3": {
      "model_module": "@jupyter-widgets/base",
      "model_module_version": "1.0.0",
      "model_name": "LayoutModel",
      "state": {
       "width": "100%"
      }
     },
     "06f9e7b77bcb47138e76e38e4941e579": {
      "model_module": "@jupyter-widgets/base",
      "model_module_version": "1.0.0",
      "model_name": "LayoutModel",
      "state": {
       "height": "40px"
      }
     },
     "0807cf962775486bb50e12feee231bd0": {
      "model_module": "@jupyter-widgets/base",
      "model_module_version": "1.0.0",
      "model_name": "LayoutModel",
      "state": {
       "width": "100px"
      }
     },
     "0823f9f6cde849e1a54ce041263aa4df": {
      "model_module": "@jupyter-widgets/base",
      "model_module_version": "1.0.0",
      "model_name": "LayoutModel",
      "state": {}
     },
     "083a82335c8445bd87138edae45ef481": {
      "model_module": "@jupyter-widgets/controls",
      "model_module_version": "1.1.0",
      "model_name": "SelectModel",
      "state": {
       "_options_labels": [
        "input",
        "hidden",
        "output"
       ],
       "description": "Layer:",
       "index": 2,
       "layout": "IPY_MODEL_83dd7364f8224268946d2f6523de901f",
       "rows": 1,
       "style": "IPY_MODEL_4518c50f23574e9da69d1148cf998ccb"
      }
     },
     "09ea653b3f91453a926124b8a0047e42": {
      "model_module": "@jupyter-widgets/controls",
      "model_module_version": "1.1.0",
      "model_name": "IntSliderModel",
      "state": {
       "continuous_update": false,
       "description": "RGB Classifier Playback:",
       "layout": "IPY_MODEL_2afb529d13344621b303ea7fc7091fc3",
       "max": 12,
       "style": "IPY_MODEL_0ba2e5df131a4d97ae9fdada2df9b509",
       "value": 1
      }
     },
     "0b407486ef0943baa780a042e52000e1": {
      "model_module": "@jupyter-widgets/base",
      "model_module_version": "1.0.0",
      "model_name": "LayoutModel",
      "state": {
       "width": "100%"
      }
     },
     "0b51645d8fc6448898ae406998115c10": {
      "model_module": "@jupyter-widgets/controls",
      "model_module_version": "1.1.0",
      "model_name": "SliderStyleModel",
      "state": {
       "description_width": "initial"
      }
     },
     "0ba230c72dd146d8901db5c8bcce44ab": {
      "model_module": "@jupyter-widgets/base",
      "model_module_version": "1.0.0",
      "model_name": "LayoutModel",
      "state": {}
     },
     "0ba2e5df131a4d97ae9fdada2df9b509": {
      "model_module": "@jupyter-widgets/controls",
      "model_module_version": "1.1.0",
      "model_name": "SliderStyleModel",
      "state": {
       "description_width": "initial"
      }
     },
     "0f59a2cbbc0d419f8cdf896a2eea55ca": {
      "model_module": "@jupyter-widgets/controls",
      "model_module_version": "1.1.0",
      "model_name": "SliderStyleModel",
      "state": {
       "description_width": "initial"
      }
     },
     "0fe8d85c0c32451aa3c8609005b45173": {
      "model_module": "@jupyter-widgets/controls",
      "model_module_version": "1.1.0",
      "model_name": "CheckboxModel",
      "state": {
       "description": "Visible",
       "disabled": false,
       "layout": "IPY_MODEL_338759ed2c4a43ebb7562b64ebd2e362",
       "style": "IPY_MODEL_786067cafba647f583e5d2bd5bfafc2e",
       "value": true
      }
     },
     "1014becaddf0483ab018aa659b0941e3": {
      "model_module": "@jupyter-widgets/output",
      "model_module_version": "1.0.0",
      "model_name": "OutputModel",
      "state": {
       "layout": "IPY_MODEL_679f8da3a5bd44af9ada0af0e6236b06"
      }
     },
     "11126d082ed447509268440d967a8a21": {
      "model_module": "@jupyter-widgets/controls",
      "model_module_version": "1.1.0",
      "model_name": "ButtonStyleModel",
      "state": {}
     },
     "13e01dd4d2f049cca9496415906520d9": {
      "model_module": "@jupyter-widgets/controls",
      "model_module_version": "1.1.0",
      "model_name": "IntTextModel",
      "state": {
       "description": "Vertical space between layers:",
       "layout": "IPY_MODEL_338759ed2c4a43ebb7562b64ebd2e362",
       "step": 1,
       "style": "IPY_MODEL_2a914ea71bf74a2e8e993a6c39faf907",
       "value": 30
      }
     },
     "14012e0bd5d9486aafe8df4443202ed3": {
      "model_module": "@jupyter-widgets/controls",
      "model_module_version": "1.1.0",
      "model_name": "HBoxModel",
      "state": {
       "children": [
        "IPY_MODEL_8c1b9674d201486baf00fec715714d98",
        "IPY_MODEL_f42bc5331d3a4afc8a86d3b41868d1e7",
        "IPY_MODEL_b1eb1f0ac97646cda40006f387c26cc0",
        "IPY_MODEL_9c334d331ce04b57b691d1a79d126c29",
        "IPY_MODEL_bd412fd224124864a3a69b9bd1f073a9",
        "IPY_MODEL_fd800d0944c44c16a602f7d00bc9de8e"
       ],
       "layout": "IPY_MODEL_e2252650e5054da58e699aba66691042"
      }
     },
     "14f3045c50c640098257bb590f12f563": {
      "model_module": "@jupyter-widgets/controls",
      "model_module_version": "1.1.0",
      "model_name": "CheckboxModel",
      "state": {
       "description": "Rotate network",
       "disabled": false,
       "layout": "IPY_MODEL_abf0a993ba184046b674e5d82932941a",
       "style": "IPY_MODEL_7c53b668aa204cb880515d9ddcaad584",
       "value": false
      }
     },
     "15900a2e21e6400abdd865fcc542c434": {
      "model_module": "@jupyter-widgets/controls",
      "model_module_version": "1.1.0",
      "model_name": "ButtonModel",
      "state": {
       "description": "Play",
       "icon": "play",
       "layout": "IPY_MODEL_b5b7a9fe3bdf43dfa422290665f1e198",
       "style": "IPY_MODEL_3039429e8545446cbf73c83be8a879ef"
      }
     },
     "1a6c05c4e36c4cf3ad91390acae9818c": {
      "model_module": "@jupyter-widgets/base",
      "model_module_version": "1.0.0",
      "model_name": "LayoutModel",
      "state": {
       "width": "100%"
      }
     },
     "1ade871b2bf745228293b8ea63f9e837": {
      "model_module": "@jupyter-widgets/output",
      "model_module_version": "1.0.0",
      "model_name": "OutputModel",
      "state": {
       "layout": "IPY_MODEL_b668c4dbd62940b3b95351c4107573ff"
      }
     },
     "1cb8bc43937a4a85965e82fe141f2d55": {
      "model_module": "@jupyter-widgets/controls",
      "model_module_version": "1.1.0",
      "model_name": "ButtonStyleModel",
      "state": {}
     },
     "1d16b9e1e9c641259c2eb98887a4bbd5": {
      "model_module": "@jupyter-widgets/base",
      "model_module_version": "1.0.0",
      "model_name": "LayoutModel",
      "state": {}
     },
     "1dcc4d7643af49a0a02464fc20344310": {
      "model_module": "@jupyter-widgets/base",
      "model_module_version": "1.0.0",
      "model_name": "LayoutModel",
      "state": {
       "width": "100%"
      }
     },
     "1def53e8d1ca456f82cf8aebfd3f32d9": {
      "model_module": "@jupyter-widgets/controls",
      "model_module_version": "1.1.0",
      "model_name": "ButtonModel",
      "state": {
       "icon": "backward",
       "layout": "IPY_MODEL_308b5a35324e48c39fc144168c80064b",
       "style": "IPY_MODEL_329891828ba24c02b8de4a914cb6a06f"
      }
     },
     "1df63fe622204736ae9f9ee875ca7779": {
      "model_module": "@jupyter-widgets/controls",
      "model_module_version": "1.1.0",
      "model_name": "DescriptionStyleModel",
      "state": {
       "description_width": ""
      }
     },
     "1e75e438e85142fbacfb667fee1905c9": {
      "model_module": "@jupyter-widgets/controls",
      "model_module_version": "1.1.0",
      "model_name": "SliderStyleModel",
      "state": {
       "description_width": ""
      }
     },
     "1ea72e69a5064d8bb1207ea429f8a5a0": {
      "model_module": "@jupyter-widgets/controls",
      "model_module_version": "1.1.0",
      "model_name": "ButtonStyleModel",
      "state": {}
     },
     "1ebf41e76aa44e4f9983c7de048e0e05": {
      "model_module": "@jupyter-widgets/controls",
      "model_module_version": "1.1.0",
      "model_name": "IntTextModel",
      "state": {
       "layout": "IPY_MODEL_fcb79463da3c4147a292087c073b30d5",
       "step": 1,
       "style": "IPY_MODEL_fe0b6bedcf16406d9d1ac2d7cd7c5316",
       "value": 2
      }
     },
     "1f08bde16c674b6484e9076707aee5d6": {
      "model_module": "@jupyter-widgets/controls",
      "model_module_version": "1.1.0",
      "model_name": "ButtonModel",
      "state": {
       "icon": "backward",
       "layout": "IPY_MODEL_0435355fd907477db95b40098b258a54",
       "style": "IPY_MODEL_8218552406f647d79c10625bf09feecf"
      }
     },
     "1f4169ce24434a0abdb410a8aa62d234": {
      "model_module": "@jupyter-widgets/controls",
      "model_module_version": "1.1.0",
      "model_name": "DescriptionStyleModel",
      "state": {
       "description_width": ""
      }
     },
     "1f6449e5c4c946db8365cbd28cb6b784": {
      "model_module": "@jupyter-widgets/controls",
      "model_module_version": "1.1.0",
      "model_name": "LabelModel",
      "state": {
       "layout": "IPY_MODEL_3ffe24fcb19d4d5fa37a3af61b187ff4",
       "style": "IPY_MODEL_1df63fe622204736ae9f9ee875ca7779",
       "value": "of 13"
      }
     },
     "1fa8ed5ad92144e0a118a665a59fae0e": {
      "model_module": "@jupyter-widgets/controls",
      "model_module_version": "1.1.0",
      "model_name": "FloatTextModel",
      "state": {
       "description": "Feature scale:",
       "layout": "IPY_MODEL_ae38e78212a947be91e659b0498c8729",
       "step": null,
       "style": "IPY_MODEL_9ca3b272061941868465f6f35266acb9",
       "value": 1
      }
     },
     "21b27c02633b4d66ab369399f07314c6": {
      "model_module": "@jupyter-widgets/base",
      "model_module_version": "1.0.0",
      "model_name": "LayoutModel",
      "state": {
       "width": "100px"
      }
     },
     "21d6acde709348bd9f11d47810b9f3af": {
      "model_module": "@jupyter-widgets/base",
      "model_module_version": "1.0.0",
      "model_name": "LayoutModel",
      "state": {
       "height": "50px",
       "width": "100%"
      }
     },
     "25b7adccdca34d6a803a6f65ce7c3be0": {
      "model_module": "@jupyter-widgets/base",
      "model_module_version": "1.0.0",
      "model_name": "LayoutModel",
      "state": {
       "width": "100%"
      }
     },
     "261f9536b2734bd4bb849b2083118bfe": {
      "model_module": "@jupyter-widgets/controls",
      "model_module_version": "1.1.0",
      "model_name": "ButtonModel",
      "state": {
       "icon": "forward",
       "layout": "IPY_MODEL_caa4c4f41a5e44cc9cf6de563e5df95e",
       "style": "IPY_MODEL_8183e10c81b94a3ebd12fd08ca911779"
      }
     },
     "2a914ea71bf74a2e8e993a6c39faf907": {
      "model_module": "@jupyter-widgets/controls",
      "model_module_version": "1.1.0",
      "model_name": "DescriptionStyleModel",
      "state": {
       "description_width": "initial"
      }
     },
     "2adabf4fbef741219ddad70272316983": {
      "model_module": "@jupyter-widgets/controls",
      "model_module_version": "1.1.0",
      "model_name": "VBoxModel",
      "state": {
       "children": [
        "IPY_MODEL_0209d011d692436a8423b9aa6a8e001a",
        "IPY_MODEL_9930077ef3d6470b8185e69a071ab909"
       ],
       "layout": "IPY_MODEL_1d16b9e1e9c641259c2eb98887a4bbd5"
      }
     },
     "2ae4f117958f4fe7b2e874b2897b4a3d": {
      "model_module": "@jupyter-widgets/controls",
      "model_module_version": "1.1.0",
      "model_name": "DescriptionStyleModel",
      "state": {
       "description_width": "initial"
      }
     },
     "2afb529d13344621b303ea7fc7091fc3": {
      "model_module": "@jupyter-widgets/base",
      "model_module_version": "1.0.0",
      "model_name": "LayoutModel",
      "state": {
       "width": "100%"
      }
     },
     "2b21f8b363c4472496a0fc93cd4d40ff": {
      "model_module": "@jupyter-widgets/controls",
      "model_module_version": "1.1.0",
      "model_name": "VBoxModel",
      "state": {
       "children": [
        "IPY_MODEL_5d5c9f9fb47343b08c6daac75a5e4ca0",
        "IPY_MODEL_6e1b6e793aad4b0dab7932cb2084886c"
       ],
       "layout": "IPY_MODEL_df87d587431a42b48e00be58b9f034d7"
      }
     },
     "2bb009a31dd445229c919aa0e43a6f85": {
      "model_module": "@jupyter-widgets/controls",
      "model_module_version": "1.1.0",
      "model_name": "ButtonStyleModel",
      "state": {}
     },
     "2bd4695832ea4c669a92871852e79c13": {
      "model_module": "@jupyter-widgets/controls",
      "model_module_version": "1.1.0",
      "model_name": "ButtonStyleModel",
      "state": {}
     },
     "2c4fd8bf79e14b958bd99fb3d53d9871": {
      "model_module": "@jupyter-widgets/controls",
      "model_module_version": "1.1.0",
      "model_name": "ButtonModel",
      "state": {
       "icon": "backward",
       "layout": "IPY_MODEL_a3d7bdec3dab437fa2124117a2c3115a",
       "style": "IPY_MODEL_1cb8bc43937a4a85965e82fe141f2d55"
      }
     },
     "2c8ff9e486f44f65a2209da19336ebdd": {
      "model_module": "@jupyter-widgets/controls",
      "model_module_version": "1.1.0",
      "model_name": "ButtonStyleModel",
      "state": {}
     },
     "2db9c3ea88cf4576afe87d7eb5208ac3": {
      "model_module": "@jupyter-widgets/controls",
      "model_module_version": "1.1.0",
      "model_name": "FloatTextModel",
      "state": {
       "description": "Rightmost color maps to:",
       "layout": "IPY_MODEL_abfa1a1e371248fdaf540203db1ed182",
       "step": null,
       "style": "IPY_MODEL_83353a4706524fd6938cd9ef3a9d3b6d",
       "value": 1
      }
     },
     "2e2e93b002b549b3b6443e1b9e15f774": {
      "model_module": "@jupyter-widgets/base",
      "model_module_version": "1.0.0",
      "model_name": "LayoutModel",
      "state": {}
     },
     "2e62838abc0b4265ac17c6b69dd8f183": {
      "model_module": "@jupyter-widgets/controls",
      "model_module_version": "1.1.0",
      "model_name": "SliderStyleModel",
      "state": {
       "description_width": "initial"
      }
     },
     "2e9af047abc4430abaae3bb0e07ddca9": {
      "model_module": "@jupyter-widgets/base",
      "model_module_version": "1.0.0",
      "model_name": "LayoutModel",
      "state": {
       "height": "50px",
       "width": "100%"
      }
     },
     "3039429e8545446cbf73c83be8a879ef": {
      "model_module": "@jupyter-widgets/controls",
      "model_module_version": "1.1.0",
      "model_name": "ButtonStyleModel",
      "state": {}
     },
     "308b5a35324e48c39fc144168c80064b": {
      "model_module": "@jupyter-widgets/base",
      "model_module_version": "1.0.0",
      "model_name": "LayoutModel",
      "state": {
       "width": "100%"
      }
     },
     "31875d805a06460cab9c1676b2eae680": {
      "model_module": "@jupyter-widgets/base",
      "model_module_version": "1.0.0",
      "model_name": "LayoutModel",
      "state": {}
     },
     "3218573abdfd4ea3a18140acb29d221b": {
      "model_module": "@jupyter-widgets/controls",
      "model_module_version": "1.1.0",
      "model_name": "ButtonStyleModel",
      "state": {}
     },
     "329891828ba24c02b8de4a914cb6a06f": {
      "model_module": "@jupyter-widgets/controls",
      "model_module_version": "1.1.0",
      "model_name": "ButtonStyleModel",
      "state": {}
     },
     "32b117344ff24104bc44862800451d15": {
      "model_module": "@jupyter-widgets/base",
      "model_module_version": "1.0.0",
      "model_name": "LayoutModel",
      "state": {
       "width": "100px"
      }
     },
     "336a6d545a2a4565a22ba06c53d11eb5": {
      "model_module": "@jupyter-widgets/controls",
      "model_module_version": "1.1.0",
      "model_name": "DescriptionStyleModel",
      "state": {
       "description_width": ""
      }
     },
     "338759ed2c4a43ebb7562b64ebd2e362": {
      "model_module": "@jupyter-widgets/base",
      "model_module_version": "1.0.0",
      "model_name": "LayoutModel",
      "state": {}
     },
     "343d3d4dd5b04ebe9213ae30402f8094": {
      "model_module": "@jupyter-widgets/controls",
      "model_module_version": "1.1.0",
      "model_name": "LabelModel",
      "state": {
       "layout": "IPY_MODEL_0807cf962775486bb50e12feee231bd0",
       "style": "IPY_MODEL_1f4169ce24434a0abdb410a8aa62d234",
       "value": "of 25"
      }
     },
     "34bc4a23130f48bb866ab54a0469f842": {
      "model_module": "@jupyter-widgets/controls",
      "model_module_version": "1.1.0",
      "model_name": "ButtonStyleModel",
      "state": {}
     },
     "367628c71c644910aa75099f0a63494c": {
      "model_module": "@jupyter-widgets/controls",
      "model_module_version": "1.1.0",
      "model_name": "ButtonStyleModel",
      "state": {}
     },
     "38261026441c459eab92501606099ade": {
      "model_module": "@jupyter-widgets/controls",
      "model_module_version": "1.1.0",
      "model_name": "HTMLModel",
      "state": {
       "layout": "IPY_MODEL_f452190b752e4aa092d7d9d3b1c784f3",
       "style": "IPY_MODEL_336a6d545a2a4565a22ba06c53d11eb5",
       "value": "<p style=\"text-align:center\"><svg id='RGB Classifier' xmlns='http://www.w3.org/2000/svg' image-rendering=\"pixelated\" width=\"400.0px\" height=\"365.71428571428567px\">\n <g >\n  <svg viewBox=\"0 0 350 320\" width=\"400.0px\" height=\"365.71428571428567px\">\n    <defs>\n        <marker id=\"arrow\" markerWidth=\"10\" markerHeight=\"10\" refX=\"9\" refY=\"3\" orient=\"auto\" markerUnits=\"strokeWidth\">\n          <path d=\"M0,0 L0,6 L9,3 z\" fill=\"black\" />\n        </marker>\n    </defs><rect x=\"74.0\" y=\"24\" width=\"202\" height=\"52\" style=\"fill:none;stroke:black;stroke-width:2\"/><image id=\"picture-dashboard-RGB Classifier-748276_output_targets_7\" class=\"picture-dashboard-RGB Classifier-748276_output_targets\" x=\"75.0\" y=\"25\" height=\"50\" width=\"200\" preserveAspectRatio=\"none\" href=\"data:image/gif;base64,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\"><title>Layer: output (output)\n output range: (0, 1)\n shape = (4,)\n Keras class = Dense\n activation = softmax</title></image><text x=\"280.0\" y=\"52.0\" font-family=\"monospace\" font-size=\"12\" text-anchor=\"start\" fill=\"black\" alignment-baseline=\"central\" >targets</text><rect x=\"74.0\" y=\"84\" width=\"202\" height=\"52\" style=\"fill:none;stroke:black;stroke-width:2\"/><image id=\"picture-dashboard-RGB Classifier-748276_output_7\" class=\"picture-dashboard-RGB Classifier-748276_output\" x=\"75.0\" y=\"85\" height=\"50\" width=\"200\" preserveAspectRatio=\"none\" href=\"data:image/gif;base64,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\"><title>Layer: output (output)\n output range: (0, 1)\n shape = (4,)\n Keras class = Dense\n activation = softmax</title></image><text x=\"280.0\" y=\"112.0\" font-family=\"monospace\" font-size=\"12\" text-anchor=\"start\" fill=\"black\" alignment-baseline=\"central\" >output</text><line x1=\"175.0\" y1=\"164\" x2=\"175.0\" y2=\"137\" stroke=\"black\" stroke-width=\"2\" marker-end=\"url(#arrow)\"><title>Weights from hidden to output\n output_39/kernel:0 has shape (10, 4)\n output_39/bias:0 has shape (4,)</title></line><rect x=\"74.0\" y=\"164\" width=\"202\" height=\"52\" style=\"fill:none;stroke:black;stroke-width:2\"/><image id=\"picture-dashboard-RGB Classifier-748276_hidden_8\" class=\"picture-dashboard-RGB Classifier-748276_hidden\" x=\"75.0\" y=\"165\" height=\"50\" width=\"200\" preserveAspectRatio=\"none\" href=\"data:image/gif;base64,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\"><title>Layer: hidden (hidden)\n output range: (0, +Infinity)\n shape = (10,)\n Keras class = Dense\n activation = relu</title></image><text x=\"280.0\" y=\"192.0\" font-family=\"monospace\" font-size=\"12\" text-anchor=\"start\" fill=\"black\" alignment-baseline=\"central\" >hidden</text><line x1=\"175.0\" y1=\"244\" x2=\"175.0\" y2=\"217\" stroke=\"black\" stroke-width=\"2\" marker-end=\"url(#arrow)\"><title>Weights from input to hidden\n hidden_39/kernel:0 has shape (2, 10)\n hidden_39/bias:0 has shape (10,)</title></line><rect x=\"124.0\" y=\"244\" width=\"102\" height=\"52\" style=\"fill:none;stroke:black;stroke-width:2\"/><image id=\"picture-dashboard-RGB Classifier-748276_input_9\" class=\"picture-dashboard-RGB Classifier-748276_input\" x=\"125.0\" y=\"245\" height=\"50\" width=\"100\" preserveAspectRatio=\"none\" href=\"data:image/gif;base64,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\"><title>Layer: input (input)\n output range: (0.1125, 0.925)\n shape = (2,)\n Keras class = Input</title></image><text x=\"230.0\" y=\"272.0\" font-family=\"monospace\" font-size=\"12\" text-anchor=\"start\" fill=\"black\" alignment-baseline=\"central\" >input</text><text x=\"175.0\" y=\"12.5\" font-family=\"monospace\" font-size=\"15\" text-anchor=\"middle\" fill=\"black\" alignment-baseline=\"central\" >RGB Classifier</text></svg></g></svg></p>"
      }
     },
     "38697f34b174412a806fb9b560cffcea": {
      "model_module": "@jupyter-widgets/base",
      "model_module_version": "1.0.0",
      "model_name": "LayoutModel",
      "state": {
       "height": "50px",
       "width": "100%"
      }
     },
     "3a0def58abf346f18ebeb9609069fec9": {
      "model_module": "@jupyter-widgets/base",
      "model_module_version": "1.0.0",
      "model_name": "LayoutModel",
      "state": {
       "width": "100%"
      }
     },
     "3a58e893ee99441c8f65ea5f6d8f8e4e": {
      "model_module": "@jupyter-widgets/base",
      "model_module_version": "1.0.0",
      "model_name": "LayoutModel",
      "state": {
       "width": "100%"
      }
     },
     "3a8c261ac5ed48a8a240d5927accd1a6": {
      "model_module": "@jupyter-widgets/base",
      "model_module_version": "1.0.0",
      "model_name": "LayoutModel",
      "state": {}
     },
     "3c1793c49fbe495fb8b7322b0ca4037b": {
      "model_module": "@jupyter-widgets/base",
      "model_module_version": "1.0.0",
      "model_name": "LayoutModel",
      "state": {}
     },
     "3e2dd654934b46668a2e6f841db8d55b": {
      "model_module": "@jupyter-widgets/controls",
      "model_module_version": "1.1.0",
      "model_name": "VBoxModel",
      "state": {
       "children": [
        "IPY_MODEL_e86d57f92a834f1db393748c170bba1b",
        "IPY_MODEL_97ae86dd927148afa5a0f843bd2123c3"
       ],
       "layout": "IPY_MODEL_ab50109523854673bfe888ae7d8835a1"
      }
     },
     "3ffe24fcb19d4d5fa37a3af61b187ff4": {
      "model_module": "@jupyter-widgets/base",
      "model_module_version": "1.0.0",
      "model_name": "LayoutModel",
      "state": {
       "width": "100px"
      }
     },
     "406e0cd6670540aba94d20b9cb2bb885": {
      "model_module": "@jupyter-widgets/controls",
      "model_module_version": "1.1.0",
      "model_name": "VBoxModel",
      "state": {
       "children": [
        "IPY_MODEL_7f35162c40c545658f27fcc68238557f",
        "IPY_MODEL_ffe83ca9380442c1912741fe3e7d17e7"
       ],
       "layout": "IPY_MODEL_31875d805a06460cab9c1676b2eae680"
      }
     },
     "41157d1be48742c39bb997dd1a300417": {
      "model_module": "@jupyter-widgets/controls",
      "model_module_version": "1.1.0",
      "model_name": "FloatTextModel",
      "state": {
       "description": "Leftmost color maps to:",
       "layout": "IPY_MODEL_0416d4166a4a400d89df36e2aa3f00f2",
       "step": null,
       "style": "IPY_MODEL_020ab118e2d04078bf15b7196d3fbc30"
      }
     },
     "4234b049da994f8794306246bebb358b": {
      "model_module": "@jupyter-widgets/base",
      "model_module_version": "1.0.0",
      "model_name": "LayoutModel",
      "state": {
       "width": "100%"
      }
     },
     "42d94144a864470b8da044907b02d44c": {
      "model_module": "@jupyter-widgets/controls",
      "model_module_version": "1.1.0",
      "model_name": "ButtonModel",
      "state": {
       "icon": "fast-forward",
       "layout": "IPY_MODEL_b35708ae5c7f4b48a4241f9ee4f2bc44",
       "style": "IPY_MODEL_944e035665334cdfb2fb79a7ed6e4a88"
      }
     },
     "439ba44352284fcca002424a72a44939": {
      "model_module": "@jupyter-widgets/controls",
      "model_module_version": "1.1.0",
      "model_name": "ButtonModel",
      "state": {
       "icon": "backward",
       "layout": "IPY_MODEL_0551999d8fa445c7b77d55e49007c8f3",
       "style": "IPY_MODEL_a5d1501d1707446f83a655c53ad52302"
      }
     },
     "44a74fd14ad544f6b426123250244778": {
      "model_module": "@jupyter-widgets/base",
      "model_module_version": "1.0.0",
      "model_name": "LayoutModel",
      "state": {
       "height": "50px",
       "width": "100%"
      }
     },
     "4518c50f23574e9da69d1148cf998ccb": {
      "model_module": "@jupyter-widgets/controls",
      "model_module_version": "1.1.0",
      "model_name": "DescriptionStyleModel",
      "state": {
       "description_width": ""
      }
     },
     "47110a55b8fe410b8d47cf395a0592d7": {
      "model_module": "@jupyter-widgets/controls",
      "model_module_version": "1.1.0",
      "model_name": "IntSliderModel",
      "state": {
       "continuous_update": false,
       "description": "RGB Classifier Playback:",
       "layout": "IPY_MODEL_d63ba9847dae45c1b7e71183d3c5adf0",
       "max": 12,
       "style": "IPY_MODEL_b8a1847e2bc24a6eb4e4d66f172c766d"
      }
     },
     "47855484059d49f8b38cdf8ab699501b": {
      "model_module": "@jupyter-widgets/controls",
      "model_module_version": "1.1.0",
      "model_name": "ButtonModel",
      "state": {
       "icon": "fast-backward",
       "layout": "IPY_MODEL_b89ca596b3984d07a21409da4b72def9",
       "style": "IPY_MODEL_4ea72e7cf69a4d63842ca3965d1ee342"
      }
     },
     "47e738076e684f87914b7f01610ca200": {
      "model_module": "@jupyter-widgets/base",
      "model_module_version": "1.0.0",
      "model_name": "LayoutModel",
      "state": {
       "height": "40px"
      }
     },
     "48594cbd65c84993b8a6778ff1f6d3a8": {
      "model_module": "@jupyter-widgets/controls",
      "model_module_version": "1.1.0",
      "model_name": "ButtonModel",
      "state": {
       "description": "Play",
       "icon": "play",
       "layout": "IPY_MODEL_abaa3a98a62747ffb3e6a3170d9ef905",
       "style": "IPY_MODEL_2bd4695832ea4c669a92871852e79c13"
      }
     },
     "491b44b37979436894aa9a9816f45ad1": {
      "model_module": "@jupyter-widgets/controls",
      "model_module_version": "1.1.0",
      "model_name": "ButtonModel",
      "state": {
       "icon": "fast-forward",
       "layout": "IPY_MODEL_f2e309e06af6434688f8ef0275f988f4",
       "style": "IPY_MODEL_d8597980c5e24f798ada095f6da25e24"
      }
     },
     "4b1521845ec847ee93d8f3629b0ddff7": {
      "model_module": "@jupyter-widgets/controls",
      "model_module_version": "1.1.0",
      "model_name": "HTMLModel",
      "state": {
       "layout": "IPY_MODEL_e91f04f1cbd94f6388b9f70ef469233d",
       "style": "IPY_MODEL_eb1e831d3e0f4b16ab597765988986f8",
       "value": "<img src=\"data:image/gif;base64,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\"/>"
      }
     },
     "4d236238ecf0427ba0a2b2bd4eaa6a01": {
      "model_module": "@jupyter-widgets/base",
      "model_module_version": "1.0.0",
      "model_name": "LayoutModel",
      "state": {
       "width": "100%"
      }
     },
     "4d434c1747834f37ab68dc3709bcf8e1": {
      "model_module": "@jupyter-widgets/controls",
      "model_module_version": "1.1.0",
      "model_name": "LabelModel",
      "state": {
       "layout": "IPY_MODEL_21b27c02633b4d66ab369399f07314c6",
       "style": "IPY_MODEL_a47e37fdbb20421ba88aae6c282b4262",
       "value": "of 13"
      }
     },
     "4dea1cdab3194b95b16b1b03ffd59cca": {
      "model_module": "@jupyter-widgets/controls",
      "model_module_version": "1.1.0",
      "model_name": "ButtonStyleModel",
      "state": {}
     },
     "4ea72e7cf69a4d63842ca3965d1ee342": {
      "model_module": "@jupyter-widgets/controls",
      "model_module_version": "1.1.0",
      "model_name": "ButtonStyleModel",
      "state": {}
     },
     "4f7726d99d4f4c9e86a111737ba001d9": {
      "model_module": "@jupyter-widgets/base",
      "model_module_version": "1.0.0",
      "model_name": "LayoutModel",
      "state": {
       "width": "100px"
      }
     },
     "516960ef275e4910a574214e58b55d8e": {
      "model_module": "@jupyter-widgets/controls",
      "model_module_version": "1.1.0",
      "model_name": "ButtonModel",
      "state": {
       "icon": "save",
       "layout": "IPY_MODEL_9b090c0044aa4eee8148cc253c45d200",
       "style": "IPY_MODEL_71897e54f10645d894f69d6d20c05795"
      }
     },
     "51c279255efb47928418c77afc0a1824": {
      "model_module": "@jupyter-widgets/base",
      "model_module_version": "1.0.0",
      "model_name": "LayoutModel",
      "state": {}
     },
     "533b321216e548e7bf441b02da2155eb": {
      "model_module": "@jupyter-widgets/controls",
      "model_module_version": "1.1.0",
      "model_name": "IntSliderModel",
      "state": {
       "continuous_update": false,
       "description": "Dataset index",
       "layout": "IPY_MODEL_048debc228064acd8828e4dc1254ec2a",
       "max": 24,
       "style": "IPY_MODEL_1e75e438e85142fbacfb667fee1905c9"
      }
     },
     "539d20f0daaa418bbc363f4ce1ac6993": {
      "model_module": "@jupyter-widgets/controls",
      "model_module_version": "1.1.0",
      "model_name": "IntTextModel",
      "state": {
       "layout": "IPY_MODEL_b3fdb3b586d64eca88265b2f70591208",
       "step": 1,
       "style": "IPY_MODEL_54663b00c35b4e5c9ecde258559fcf69",
       "value": 1
      }
     },
     "53d3d56bd20a4bcfbe0c2c6a37073565": {
      "model_module": "@jupyter-widgets/controls",
      "model_module_version": "1.1.0",
      "model_name": "ButtonStyleModel",
      "state": {}
     },
     "54663b00c35b4e5c9ecde258559fcf69": {
      "model_module": "@jupyter-widgets/controls",
      "model_module_version": "1.1.0",
      "model_name": "DescriptionStyleModel",
      "state": {
       "description_width": ""
      }
     },
     "55e4f816794849bab9d534817329f0e6": {
      "model_module": "@jupyter-widgets/controls",
      "model_module_version": "1.1.0",
      "model_name": "ButtonModel",
      "state": {
       "icon": "fast-forward",
       "layout": "IPY_MODEL_0b407486ef0943baa780a042e52000e1",
       "style": "IPY_MODEL_90e64b8866a64ff0a87edc4a43a428b1"
      }
     },
     "569602ded1ca4cfeb0ab03f90f587677": {
      "model_module": "@jupyter-widgets/base",
      "model_module_version": "1.0.0",
      "model_name": "LayoutModel",
      "state": {}
     },
     "5774353d5e7944cca9c707f690b6ed3d": {
      "model_module": "@jupyter-widgets/base",
      "model_module_version": "1.0.0",
      "model_name": "LayoutModel",
      "state": {}
     },
     "589150d910c64bb3a7fbe3274f3a248b": {
      "model_module": "@jupyter-widgets/controls",
      "model_module_version": "1.1.0",
      "model_name": "HBoxModel",
      "state": {
       "children": [
        "IPY_MODEL_0061691c2e724705b456a94b559e0f11",
        "IPY_MODEL_1f08bde16c674b6484e9076707aee5d6",
        "IPY_MODEL_539d20f0daaa418bbc363f4ce1ac6993",
        "IPY_MODEL_f0e25374cd76406aa7f585a7dc7ef72a",
        "IPY_MODEL_491b44b37979436894aa9a9816f45ad1",
        "IPY_MODEL_feac7be55ad14557a4eb2f648a65cbbd"
       ],
       "layout": "IPY_MODEL_21d6acde709348bd9f11d47810b9f3af"
      }
     },
     "5a41f0d609444d82b914b0c3afb5855f": {
      "model_module": "@jupyter-widgets/base",
      "model_module_version": "1.0.0",
      "model_name": "LayoutModel",
      "state": {
       "width": "100%"
      }
     },
     "5b3dd95d9cb94e918bdbd0bb06fca3ed": {
      "model_module": "@jupyter-widgets/controls",
      "model_module_version": "1.1.0",
      "model_name": "CheckboxModel",
      "state": {
       "description": "Rotate",
       "disabled": false,
       "layout": "IPY_MODEL_338759ed2c4a43ebb7562b64ebd2e362",
       "style": "IPY_MODEL_e336d1399fe7443dbc71608ccb0cf31b",
       "value": true
      }
     },
     "5d0e217fbd494dd185242a9c45ba78e2": {
      "model_module": "@jupyter-widgets/controls",
      "model_module_version": "1.1.0",
      "model_name": "HBoxModel",
      "state": {
       "children": [
        "IPY_MODEL_bf0a5945610e438391054b435c1006f7",
        "IPY_MODEL_439ba44352284fcca002424a72a44939",
        "IPY_MODEL_db2816f7f2b948de8c9152bfd281731b",
        "IPY_MODEL_7ce7c4f00c0b484882b522fd115dbb95",
        "IPY_MODEL_a9eab24b7aac4fe491814978830c08ba",
        "IPY_MODEL_15900a2e21e6400abdd865fcc542c434"
       ],
       "layout": "IPY_MODEL_2e9af047abc4430abaae3bb0e07ddca9"
      }
     },
     "5d5c9f9fb47343b08c6daac75a5e4ca0": {
      "model_module": "@jupyter-widgets/controls",
      "model_module_version": "1.1.0",
      "model_name": "VBoxModel",
      "state": {
       "children": [
        "IPY_MODEL_f0f5b6662d6d483abcad2cc3a11b78d9",
        "IPY_MODEL_668e7dd16f2046d88a5e894ce520c142"
       ],
       "layout": "IPY_MODEL_c0ccfb08cc77448db85a1a5365ec3775"
      }
     },
     "5e06c70418024caba9366e530a2293ba": {
      "model_module": "@jupyter-widgets/base",
      "model_module_version": "1.0.0",
      "model_name": "LayoutModel",
      "state": {
       "width": "100%"
      }
     },
     "5e3ab9cf45d54714bbf52526fdb5522b": {
      "model_module": "@jupyter-widgets/controls",
      "model_module_version": "1.1.0",
      "model_name": "VBoxModel",
      "state": {
       "children": [
        "IPY_MODEL_f6433f38fab346458a53886ced56f774",
        "IPY_MODEL_1014becaddf0483ab018aa659b0941e3"
       ],
       "layout": "IPY_MODEL_0823f9f6cde849e1a54ce041263aa4df"
      }
     },
     "61f15ce793db4204954da59150b6f1cc": {
      "model_module": "@jupyter-widgets/base",
      "model_module_version": "1.0.0",
      "model_name": "LayoutModel",
      "state": {
       "width": "100%"
      }
     },
     "62468b2f85334c47ac2810af9c717c5b": {
      "model_module": "@jupyter-widgets/base",
      "model_module_version": "1.0.0",
      "model_name": "LayoutModel",
      "state": {
       "height": "50px",
       "width": "100%"
      }
     },
     "63cab3a834f641f2bc411493d797ab62": {
      "model_module": "@jupyter-widgets/base",
      "model_module_version": "1.0.0",
      "model_name": "LayoutModel",
      "state": {
       "width": "100%"
      }
     },
     "63d563f8c1924c7380d333e5275c1123": {
      "model_module": "@jupyter-widgets/base",
      "model_module_version": "1.0.0",
      "model_name": "LayoutModel",
      "state": {
       "height": "40px"
      }
     },
     "64ebfad8b4b84640af81b0df1fd00e9a": {
      "model_module": "@jupyter-widgets/controls",
      "model_module_version": "1.1.0",
      "model_name": "DescriptionStyleModel",
      "state": {
       "description_width": ""
      }
     },
     "668e7dd16f2046d88a5e894ce520c142": {
      "model_module": "@jupyter-widgets/controls",
      "model_module_version": "1.1.0",
      "model_name": "HBoxModel",
      "state": {
       "children": [
        "IPY_MODEL_9f12e7d6dea647f6a5ecad51b1240926",
        "IPY_MODEL_6fd62d260ca64d45af9235a5121a58ba",
        "IPY_MODEL_1ebf41e76aa44e4f9983c7de048e0e05",
        "IPY_MODEL_e1e02de2b7114aefb54c19042639b420",
        "IPY_MODEL_42d94144a864470b8da044907b02d44c",
        "IPY_MODEL_981ea8f0c9694b7592b860ed2fe89319"
       ],
       "layout": "IPY_MODEL_ec0c4be094ac4b3a90f321f94328606f"
      }
     },
     "679f8da3a5bd44af9ada0af0e6236b06": {
      "model_module": "@jupyter-widgets/base",
      "model_module_version": "1.0.0",
      "model_name": "LayoutModel",
      "state": {}
     },
     "67be52f0e2a34b2991ca5b843200904c": {
      "model_module": "@jupyter-widgets/controls",
      "model_module_version": "1.1.0",
      "model_name": "SliderStyleModel",
      "state": {
       "description_width": "initial"
      }
     },
     "6a56e5fd34f340e4b30af56d35aaaea2": {
      "model_module": "@jupyter-widgets/controls",
      "model_module_version": "1.1.0",
      "model_name": "ButtonStyleModel",
      "state": {}
     },
     "6e1b6e793aad4b0dab7932cb2084886c": {
      "model_module": "@jupyter-widgets/output",
      "model_module_version": "1.0.0",
      "model_name": "OutputModel",
      "state": {
       "layout": "IPY_MODEL_e52815eee738427c940093fc3c9ac95c"
      }
     },
     "6ed00aca4613462e9ecbf35cf2cd2a48": {
      "model_module": "@jupyter-widgets/controls",
      "model_module_version": "1.1.0",
      "model_name": "LabelModel",
      "state": {
       "layout": "IPY_MODEL_a93d9fc6c2e045c4a7c505c2c0ec2bb4",
       "style": "IPY_MODEL_aedc98abe0c744f2b736e4ead73099f6",
       "value": "of 204"
      }
     },
     "6fd62d260ca64d45af9235a5121a58ba": {
      "model_module": "@jupyter-widgets/controls",
      "model_module_version": "1.1.0",
      "model_name": "ButtonModel",
      "state": {
       "icon": "backward",
       "layout": "IPY_MODEL_61f15ce793db4204954da59150b6f1cc",
       "style": "IPY_MODEL_2c8ff9e486f44f65a2209da19336ebdd"
      }
     },
     "71897e54f10645d894f69d6d20c05795": {
      "model_module": "@jupyter-widgets/controls",
      "model_module_version": "1.1.0",
      "model_name": "ButtonStyleModel",
      "state": {}
     },
     "748ea402b75b459c8fa196ae1f5d4f4c": {
      "model_module": "@jupyter-widgets/controls",
      "model_module_version": "1.1.0",
      "model_name": "IntSliderModel",
      "state": {
       "continuous_update": false,
       "description": "RGB Classifier Playback:",
       "layout": "IPY_MODEL_d8a1840f84f14800b6a926d1eaf8d861",
       "max": 12,
       "style": "IPY_MODEL_0f59a2cbbc0d419f8cdf896a2eea55ca"
      }
     },
     "76cc7e7488b74168b55288f4f8345c15": {
      "model_module": "@jupyter-widgets/base",
      "model_module_version": "1.0.0",
      "model_name": "LayoutModel",
      "state": {
       "width": "100%"
      }
     },
     "7755d5bb229f41a2a03ae6268a0f6746": {
      "model_module": "@jupyter-widgets/controls",
      "model_module_version": "1.1.0",
      "model_name": "ButtonStyleModel",
      "state": {}
     },
     "776b38f6dabc412891ca266976cebad2": {
      "model_module": "@jupyter-widgets/base",
      "model_module_version": "1.0.0",
      "model_name": "LayoutModel",
      "state": {
       "width": "25%"
      }
     },
     "7775ae4971564875a9822b83b2061256": {
      "model_module": "@jupyter-widgets/controls",
      "model_module_version": "1.1.0",
      "model_name": "HBoxModel",
      "state": {
       "children": [
        "IPY_MODEL_748ea402b75b459c8fa196ae1f5d4f4c",
        "IPY_MODEL_4d434c1747834f37ab68dc3709bcf8e1"
       ],
       "layout": "IPY_MODEL_f0302c8331934f80b664e3a0ddbe17ae"
      }
     },
     "786067cafba647f583e5d2bd5bfafc2e": {
      "model_module": "@jupyter-widgets/controls",
      "model_module_version": "1.1.0",
      "model_name": "DescriptionStyleModel",
      "state": {
       "description_width": ""
      }
     },
     "797ef0dabd974dddb6b45762451af191": {
      "model_module": "@jupyter-widgets/base",
      "model_module_version": "1.0.0",
      "model_name": "LayoutModel",
      "state": {
       "width": "100%"
      }
     },
     "799be4a107394deab10bec6c962852d0": {
      "model_module": "@jupyter-widgets/controls",
      "model_module_version": "1.1.0",
      "model_name": "ButtonStyleModel",
      "state": {}
     },
     "79f3f3fb841a4c92bcd33b4ca9eb045d": {
      "model_module": "@jupyter-widgets/controls",
      "model_module_version": "1.1.0",
      "model_name": "HBoxModel",
      "state": {
       "children": [
        "IPY_MODEL_dfd2d6374af54538a9db639900204eca",
        "IPY_MODEL_dd41041c545b4e3c87b4ed6b750578c0",
        "IPY_MODEL_f15c505c0f4b4181802eb5e13ddf172e",
        "IPY_MODEL_261f9536b2734bd4bb849b2083118bfe",
        "IPY_MODEL_a1d09564d11942fa9ccc1d60ec229e52",
        "IPY_MODEL_a52ecd486488419e9c5749cc0ce5cfca",
        "IPY_MODEL_b8fdee80bfa44e1ca49b4f535f542806"
       ],
       "layout": "IPY_MODEL_44a74fd14ad544f6b426123250244778"
      }
     },
     "7c53b668aa204cb880515d9ddcaad584": {
      "model_module": "@jupyter-widgets/controls",
      "model_module_version": "1.1.0",
      "model_name": "DescriptionStyleModel",
      "state": {
       "description_width": "initial"
      }
     },
     "7ce7c4f00c0b484882b522fd115dbb95": {
      "model_module": "@jupyter-widgets/controls",
      "model_module_version": "1.1.0",
      "model_name": "ButtonModel",
      "state": {
       "icon": "forward",
       "layout": "IPY_MODEL_a243483369c741ef8b014a8aedfeb71a",
       "style": "IPY_MODEL_0400230e34ec451ba512f7f21dc54819"
      }
     },
     "7f35162c40c545658f27fcc68238557f": {
      "model_module": "@jupyter-widgets/controls",
      "model_module_version": "1.1.0",
      "model_name": "VBoxModel",
      "state": {
       "children": [
        "IPY_MODEL_cafbc33178094d438fa59954fb38f9a3",
        "IPY_MODEL_14012e0bd5d9486aafe8df4443202ed3"
       ],
       "layout": "IPY_MODEL_5e06c70418024caba9366e530a2293ba"
      }
     },
     "807c028f8c9f496e81092feb0e6e2b4b": {
      "model_module": "@jupyter-widgets/controls",
      "model_module_version": "1.1.0",
      "model_name": "DescriptionStyleModel",
      "state": {
       "description_width": ""
      }
     },
     "80d92680582c495698b477829491b7dd": {
      "model_module": "@jupyter-widgets/controls",
      "model_module_version": "1.1.0",
      "model_name": "VBoxModel",
      "state": {
       "children": [
        "IPY_MODEL_8455143175a244f8a2210d6e6ed178f7",
        "IPY_MODEL_79f3f3fb841a4c92bcd33b4ca9eb045d"
       ],
       "layout": "IPY_MODEL_c67d8ee24ad74fc18d0e0080b3da778a"
      }
     },
     "8183e10c81b94a3ebd12fd08ca911779": {
      "model_module": "@jupyter-widgets/controls",
      "model_module_version": "1.1.0",
      "model_name": "ButtonStyleModel",
      "state": {}
     },
     "8218552406f647d79c10625bf09feecf": {
      "model_module": "@jupyter-widgets/controls",
      "model_module_version": "1.1.0",
      "model_name": "ButtonStyleModel",
      "state": {}
     },
     "8299585bb4a44c5095a5e4dd76bb294f": {
      "model_module": "@jupyter-widgets/controls",
      "model_module_version": "1.1.0",
      "model_name": "ButtonStyleModel",
      "state": {}
     },
     "83353a4706524fd6938cd9ef3a9d3b6d": {
      "model_module": "@jupyter-widgets/controls",
      "model_module_version": "1.1.0",
      "model_name": "DescriptionStyleModel",
      "state": {
       "description_width": "initial"
      }
     },
     "83dd7364f8224268946d2f6523de901f": {
      "model_module": "@jupyter-widgets/base",
      "model_module_version": "1.0.0",
      "model_name": "LayoutModel",
      "state": {}
     },
     "8455143175a244f8a2210d6e6ed178f7": {
      "model_module": "@jupyter-widgets/controls",
      "model_module_version": "1.1.0",
      "model_name": "HBoxModel",
      "state": {
       "children": [
        "IPY_MODEL_533b321216e548e7bf441b02da2155eb",
        "IPY_MODEL_343d3d4dd5b04ebe9213ae30402f8094"
       ],
       "layout": "IPY_MODEL_06f9e7b77bcb47138e76e38e4941e579"
      }
     },
     "84ebcfc708b84d7dbc2e132de18e639c": {
      "model_module": "@jupyter-widgets/base",
      "model_module_version": "1.0.0",
      "model_name": "LayoutModel",
      "state": {
       "width": "100%"
      }
     },
     "852dc43c24bb4620ac7526d4a24417ae": {
      "model_module": "@jupyter-widgets/controls",
      "model_module_version": "1.1.0",
      "model_name": "ButtonStyleModel",
      "state": {}
     },
     "8559c2d709c94e559eed2a0dc5345267": {
      "model_module": "@jupyter-widgets/base",
      "model_module_version": "1.0.0",
      "model_name": "LayoutModel",
      "state": {}
     },
     "872d1fe4cac6425f859b00cb82dc36df": {
      "model_module": "@jupyter-widgets/base",
      "model_module_version": "1.0.0",
      "model_name": "LayoutModel",
      "state": {
       "width": "65%"
      }
     },
     "873ef3f5d3c24cd7835666ef806aa9c5": {
      "model_module": "@jupyter-widgets/controls",
      "model_module_version": "1.1.0",
      "model_name": "CheckboxModel",
      "state": {
       "description": "Show Targets",
       "disabled": false,
       "layout": "IPY_MODEL_338759ed2c4a43ebb7562b64ebd2e362",
       "style": "IPY_MODEL_eae9fc8634bc47ce9f3b8151286edf40",
       "value": true
      }
     },
     "8882e6c313b247a096d7bccb997cfa96": {
      "model_module": "@jupyter-widgets/base",
      "model_module_version": "1.0.0",
      "model_name": "LayoutModel",
      "state": {
       "width": "100%"
      }
     },
     "88e0938ece004c7a855f24a7559ff067": {
      "model_module": "@jupyter-widgets/controls",
      "model_module_version": "1.1.0",
      "model_name": "ButtonModel",
      "state": {
       "icon": "forward",
       "layout": "IPY_MODEL_ad2525bdba47409fb05d3d4ae5b23605",
       "style": "IPY_MODEL_367628c71c644910aa75099f0a63494c"
      }
     },
     "893cda812df34e90837cfbf941e7695f": {
      "model_module": "@jupyter-widgets/controls",
      "model_module_version": "1.1.0",
      "model_name": "IntTextModel",
      "state": {
       "description": "Horizontal space between banks:",
       "layout": "IPY_MODEL_338759ed2c4a43ebb7562b64ebd2e362",
       "step": 1,
       "style": "IPY_MODEL_d7faacd50a3b4beea5d10db6e8889e27",
       "value": 150
      }
     },
     "8b67bd4bc3654d5f916ce1ff3bbc6ce0": {
      "model_module": "@jupyter-widgets/controls",
      "model_module_version": "1.1.0",
      "model_name": "SelectModel",
      "state": {
       "_options_labels": [
        ""
       ],
       "description": "Features:",
       "index": 0,
       "layout": "IPY_MODEL_3a8c261ac5ed48a8a240d5927accd1a6",
       "rows": 1,
       "style": "IPY_MODEL_8dbde0b4b3564587acb9ff00cc04f866"
      }
     },
     "8c1b9674d201486baf00fec715714d98": {
      "model_module": "@jupyter-widgets/controls",
      "model_module_version": "1.1.0",
      "model_name": "ButtonModel",
      "state": {
       "icon": "fast-backward",
       "layout": "IPY_MODEL_cb2f44c49c714b38b14db4e66e296085",
       "style": "IPY_MODEL_0183e320fc844bfd9723e4e0fa9d7262"
      }
     },
     "8c4fe4d936d1461c9172255303b7c6e3": {
      "model_module": "@jupyter-widgets/controls",
      "model_module_version": "1.1.0",
      "model_name": "HBoxModel",
      "state": {
       "children": [
        "IPY_MODEL_9c27738302fc4889992ebbbf17552deb",
        "IPY_MODEL_eb701497ebe04cd89ff13e6710c6cfbc"
       ],
       "layout": "IPY_MODEL_00dcb263d33b4daa9570313dc6bc41cd"
      }
     },
     "8dbde0b4b3564587acb9ff00cc04f866": {
      "model_module": "@jupyter-widgets/controls",
      "model_module_version": "1.1.0",
      "model_name": "DescriptionStyleModel",
      "state": {
       "description_width": ""
      }
     },
     "8dc809b2ac43429387871c8b5d41a9ba": {
      "model_module": "@jupyter-widgets/controls",
      "model_module_version": "1.1.0",
      "model_name": "IntTextModel",
      "state": {
       "layout": "IPY_MODEL_c89662bd88e34517be494db7083e25af",
       "step": 1,
       "style": "IPY_MODEL_c1b3907dc8ba464a96a7688d9466b837"
      }
     },
     "90e64b8866a64ff0a87edc4a43a428b1": {
      "model_module": "@jupyter-widgets/controls",
      "model_module_version": "1.1.0",
      "model_name": "ButtonStyleModel",
      "state": {}
     },
     "9413fb0044e64ffaa27172f162afa421": {
      "model_module": "@jupyter-widgets/base",
      "model_module_version": "1.0.0",
      "model_name": "LayoutModel",
      "state": {}
     },
     "944e035665334cdfb2fb79a7ed6e4a88": {
      "model_module": "@jupyter-widgets/controls",
      "model_module_version": "1.1.0",
      "model_name": "ButtonStyleModel",
      "state": {}
     },
     "952182d6c5ee48f0bfd75a37f91ccca1": {
      "model_module": "@jupyter-widgets/controls",
      "model_module_version": "1.1.0",
      "model_name": "LabelModel",
      "state": {
       "layout": "IPY_MODEL_d8fa602f592c4089a1a877d3eedda418",
       "style": "IPY_MODEL_807c028f8c9f496e81092feb0e6e2b4b",
       "value": "of 70"
      }
     },
     "95d6ed037ea24ca38e07bfa0f962f7f6": {
      "model_module": "@jupyter-widgets/base",
      "model_module_version": "1.0.0",
      "model_name": "LayoutModel",
      "state": {
       "width": "100%"
      }
     },
     "97ae86dd927148afa5a0f843bd2123c3": {
      "model_module": "@jupyter-widgets/output",
      "model_module_version": "1.0.0",
      "model_name": "OutputModel",
      "state": {
       "layout": "IPY_MODEL_3c1793c49fbe495fb8b7322b0ca4037b"
      }
     },
     "981ea8f0c9694b7592b860ed2fe89319": {
      "model_module": "@jupyter-widgets/controls",
      "model_module_version": "1.1.0",
      "model_name": "ButtonModel",
      "state": {
       "description": "Play",
       "icon": "play",
       "layout": "IPY_MODEL_cb84a241e33c434697c08680db6813f4",
       "style": "IPY_MODEL_11126d082ed447509268440d967a8a21"
      }
     },
     "9904a272a77742b18d1b4d0aa2b9f6e2": {
      "model_module": "@jupyter-widgets/controls",
      "model_module_version": "1.1.0",
      "model_name": "VBoxModel",
      "state": {
       "children": [
        "IPY_MODEL_a6e343c8d2c3430d84673543a3a7b450",
        "IPY_MODEL_0294d56f49714b1982bbd83bb6e42253",
        "IPY_MODEL_893cda812df34e90837cfbf941e7695f",
        "IPY_MODEL_13e01dd4d2f049cca9496415906520d9",
        "IPY_MODEL_a55d2735346840ba821363213fdaf3e6",
        "IPY_MODEL_8b67bd4bc3654d5f916ce1ff3bbc6ce0",
        "IPY_MODEL_03396886a9c6473a83e7b26b92c5ebfe",
        "IPY_MODEL_1fa8ed5ad92144e0a118a665a59fae0e"
       ],
       "layout": "IPY_MODEL_b74b87fcc946424f80e1d987ddde85d6"
      }
     },
     "9930077ef3d6470b8185e69a071ab909": {
      "model_module": "@jupyter-widgets/output",
      "model_module_version": "1.0.0",
      "model_name": "OutputModel",
      "state": {
       "layout": "IPY_MODEL_a041786fbd5b4dc6a01d6433b5116db8"
      }
     },
     "998b63b6dacf4294bb6a2789eea16b48": {
      "model_module": "@jupyter-widgets/controls",
      "model_module_version": "1.1.0",
      "model_name": "HBoxModel",
      "state": {
       "children": [
        "IPY_MODEL_14f3045c50c640098257bb590f12f563",
        "IPY_MODEL_516960ef275e4910a574214e58b55d8e"
       ],
       "layout": "IPY_MODEL_a4c81ea9e2d741b7a3ea46e7b15d8820"
      }
     },
     "9b090c0044aa4eee8148cc253c45d200": {
      "model_module": "@jupyter-widgets/base",
      "model_module_version": "1.0.0",
      "model_name": "LayoutModel",
      "state": {
       "width": "10%"
      }
     },
     "9c27738302fc4889992ebbbf17552deb": {
      "model_module": "@jupyter-widgets/controls",
      "model_module_version": "1.1.0",
      "model_name": "IntSliderModel",
      "state": {
       "continuous_update": false,
       "description": "RGB Classifier Playback:",
       "layout": "IPY_MODEL_8882e6c313b247a096d7bccb997cfa96",
       "max": 121,
       "style": "IPY_MODEL_67be52f0e2a34b2991ca5b843200904c"
      }
     },
     "9c334d331ce04b57b691d1a79d126c29": {
      "model_module": "@jupyter-widgets/controls",
      "model_module_version": "1.1.0",
      "model_name": "ButtonModel",
      "state": {
       "icon": "forward",
       "layout": "IPY_MODEL_95d6ed037ea24ca38e07bfa0f962f7f6",
       "style": "IPY_MODEL_fd11eb8cdeca4a6eb9a9334a730c00d9"
      }
     },
     "9ca3b272061941868465f6f35266acb9": {
      "model_module": "@jupyter-widgets/controls",
      "model_module_version": "1.1.0",
      "model_name": "DescriptionStyleModel",
      "state": {
       "description_width": "initial"
      }
     },
     "9da972585f20420684f1b837ca090757": {
      "model_module": "@jupyter-widgets/controls",
      "model_module_version": "1.1.0",
      "model_name": "DescriptionStyleModel",
      "state": {
       "description_width": "initial"
      }
     },
     "9eb14b7e9dcb4e0a81ace5e2520c4b22": {
      "model_module": "@jupyter-widgets/base",
      "model_module_version": "1.0.0",
      "model_name": "LayoutModel",
      "state": {}
     },
     "9f12e7d6dea647f6a5ecad51b1240926": {
      "model_module": "@jupyter-widgets/controls",
      "model_module_version": "1.1.0",
      "model_name": "ButtonModel",
      "state": {
       "icon": "fast-backward",
       "layout": "IPY_MODEL_c0da3ff16d834ef0995a473cb3ab539e",
       "style": "IPY_MODEL_b067a082db6e4e8db632c7bd8002d406"
      }
     },
     "9fbd716b9776414c914ef619a49df7fe": {
      "model_module": "@jupyter-widgets/controls",
      "model_module_version": "1.1.0",
      "model_name": "HBoxModel",
      "state": {
       "children": [
        "IPY_MODEL_09ea653b3f91453a926124b8a0047e42",
        "IPY_MODEL_ec9635bc9ec848b69dbb42068d6bc703"
       ],
       "layout": "IPY_MODEL_f2ca0ef6d7f14c6f863d547b3716972f"
      }
     },
     "a041786fbd5b4dc6a01d6433b5116db8": {
      "model_module": "@jupyter-widgets/base",
      "model_module_version": "1.0.0",
      "model_name": "LayoutModel",
      "state": {}
     },
     "a1d09564d11942fa9ccc1d60ec229e52": {
      "model_module": "@jupyter-widgets/controls",
      "model_module_version": "1.1.0",
      "model_name": "ButtonModel",
      "state": {
       "icon": "fast-forward",
       "layout": "IPY_MODEL_b436b842319048639b3d54801a47a3ab",
       "style": "IPY_MODEL_c63558957e69420d95e43497a21ee47b"
      }
     },
     "a243483369c741ef8b014a8aedfeb71a": {
      "model_module": "@jupyter-widgets/base",
      "model_module_version": "1.0.0",
      "model_name": "LayoutModel",
      "state": {
       "width": "100%"
      }
     },
     "a313a3f96e5e43f59fced4bf46d2005e": {
      "model_module": "@jupyter-widgets/base",
      "model_module_version": "1.0.0",
      "model_name": "LayoutModel",
      "state": {
       "width": "100%"
      }
     },
     "a32dc4bc55744953a03bb724ac06a2ac": {
      "model_module": "@jupyter-widgets/controls",
      "model_module_version": "1.1.0",
      "model_name": "DescriptionStyleModel",
      "state": {
       "description_width": ""
      }
     },
     "a3d7bdec3dab437fa2124117a2c3115a": {
      "model_module": "@jupyter-widgets/base",
      "model_module_version": "1.0.0",
      "model_name": "LayoutModel",
      "state": {
       "width": "100%"
      }
     },
     "a47e37fdbb20421ba88aae6c282b4262": {
      "model_module": "@jupyter-widgets/controls",
      "model_module_version": "1.1.0",
      "model_name": "DescriptionStyleModel",
      "state": {
       "description_width": ""
      }
     },
     "a4c81ea9e2d741b7a3ea46e7b15d8820": {
      "model_module": "@jupyter-widgets/base",
      "model_module_version": "1.0.0",
      "model_name": "LayoutModel",
      "state": {}
     },
     "a52ecd486488419e9c5749cc0ce5cfca": {
      "model_module": "@jupyter-widgets/controls",
      "model_module_version": "1.1.0",
      "model_name": "ButtonModel",
      "state": {
       "description": "Play",
       "icon": "play",
       "layout": "IPY_MODEL_76cc7e7488b74168b55288f4f8345c15",
       "style": "IPY_MODEL_2bb009a31dd445229c919aa0e43a6f85"
      }
     },
     "a55d2735346840ba821363213fdaf3e6": {
      "model_module": "@jupyter-widgets/controls",
      "model_module_version": "1.1.0",
      "model_name": "HBoxModel",
      "state": {
       "children": [
        "IPY_MODEL_873ef3f5d3c24cd7835666ef806aa9c5",
        "IPY_MODEL_a577e3543b504f89baeaedfa6f7484ee"
       ],
       "layout": "IPY_MODEL_5774353d5e7944cca9c707f690b6ed3d"
      }
     },
     "a577e3543b504f89baeaedfa6f7484ee": {
      "model_module": "@jupyter-widgets/controls",
      "model_module_version": "1.1.0",
      "model_name": "CheckboxModel",
      "state": {
       "description": "Errors",
       "disabled": false,
       "layout": "IPY_MODEL_338759ed2c4a43ebb7562b64ebd2e362",
       "style": "IPY_MODEL_2ae4f117958f4fe7b2e874b2897b4a3d",
       "value": false
      }
     },
     "a5d1501d1707446f83a655c53ad52302": {
      "model_module": "@jupyter-widgets/controls",
      "model_module_version": "1.1.0",
      "model_name": "ButtonStyleModel",
      "state": {}
     },
     "a692ccff1771446f969f340e646d9e47": {
      "model_module": "@jupyter-widgets/base",
      "model_module_version": "1.0.0",
      "model_name": "LayoutModel",
      "state": {
       "width": "100%"
      }
     },
     "a6e343c8d2c3430d84673543a3a7b450": {
      "model_module": "@jupyter-widgets/controls",
      "model_module_version": "1.1.0",
      "model_name": "SelectModel",
      "state": {
       "_options_labels": [
        "Test",
        "Train"
       ],
       "description": "Dataset:",
       "index": 1,
       "layout": "IPY_MODEL_51c279255efb47928418c77afc0a1824",
       "rows": 1,
       "style": "IPY_MODEL_64ebfad8b4b84640af81b0df1fd00e9a"
      }
     },
     "a86d6f485f104537bfe942b5eef1ae5c": {
      "model_module": "@jupyter-widgets/controls",
      "model_module_version": "1.1.0",
      "model_name": "DescriptionStyleModel",
      "state": {
       "description_width": ""
      }
     },
     "a87755a2792d4a0cb4a5c423732ce9f7": {
      "model_module": "@jupyter-widgets/base",
      "model_module_version": "1.0.0",
      "model_name": "LayoutModel",
      "state": {
       "width": "100%"
      }
     },
     "a93d9fc6c2e045c4a7c505c2c0ec2bb4": {
      "model_module": "@jupyter-widgets/base",
      "model_module_version": "1.0.0",
      "model_name": "LayoutModel",
      "state": {
       "width": "100px"
      }
     },
     "a9eab24b7aac4fe491814978830c08ba": {
      "model_module": "@jupyter-widgets/controls",
      "model_module_version": "1.1.0",
      "model_name": "ButtonModel",
      "state": {
       "icon": "fast-forward",
       "layout": "IPY_MODEL_d388cbb96c694b53829f34cbfac18705",
       "style": "IPY_MODEL_8299585bb4a44c5095a5e4dd76bb294f"
      }
     },
     "aa679ea9d5f14a438625588d20bbe836": {
      "model_module": "@jupyter-widgets/controls",
      "model_module_version": "1.1.0",
      "model_name": "VBoxModel",
      "state": {
       "children": [
        "IPY_MODEL_e641d3fdd1bb48df841d49b485ded7f0",
        "IPY_MODEL_ced6d15979a44c3fb11960b7cd308521"
       ],
       "layout": "IPY_MODEL_9eb14b7e9dcb4e0a81ace5e2520c4b22"
      }
     },
     "aae3942d17804f3aae79e8093fb687c7": {
      "model_module": "@jupyter-widgets/controls",
      "model_module_version": "1.1.0",
      "model_name": "SliderStyleModel",
      "state": {
       "description_width": "initial"
      }
     },
     "ab0ed8a6ae7244e9a6fe0fd7cd86c5be": {
      "model_module": "@jupyter-widgets/base",
      "model_module_version": "1.0.0",
      "model_name": "LayoutModel",
      "state": {}
     },
     "ab50109523854673bfe888ae7d8835a1": {
      "model_module": "@jupyter-widgets/base",
      "model_module_version": "1.0.0",
      "model_name": "LayoutModel",
      "state": {}
     },
     "ab8569ef895e4802bdf3d74ed35561be": {
      "model_module": "@jupyter-widgets/controls",
      "model_module_version": "1.1.0",
      "model_name": "DescriptionStyleModel",
      "state": {
       "description_width": ""
      }
     },
     "abaa3a98a62747ffb3e6a3170d9ef905": {
      "model_module": "@jupyter-widgets/base",
      "model_module_version": "1.0.0",
      "model_name": "LayoutModel",
      "state": {
       "width": "100%"
      }
     },
     "abf0a993ba184046b674e5d82932941a": {
      "model_module": "@jupyter-widgets/base",
      "model_module_version": "1.0.0",
      "model_name": "LayoutModel",
      "state": {
       "width": "52%"
      }
     },
     "abfa1a1e371248fdaf540203db1ed182": {
      "model_module": "@jupyter-widgets/base",
      "model_module_version": "1.0.0",
      "model_name": "LayoutModel",
      "state": {}
     },
     "ac872a6bc74845cb83192671d20c484d": {
      "model_module": "@jupyter-widgets/base",
      "model_module_version": "1.0.0",
      "model_name": "LayoutModel",
      "state": {
       "width": "100%"
      }
     },
     "ad2525bdba47409fb05d3d4ae5b23605": {
      "model_module": "@jupyter-widgets/base",
      "model_module_version": "1.0.0",
      "model_name": "LayoutModel",
      "state": {
       "width": "100%"
      }
     },
     "ad779e2145c44f9a9f17bd089513cfc4": {
      "model_module": "@jupyter-widgets/base",
      "model_module_version": "1.0.0",
      "model_name": "LayoutModel",
      "state": {
       "width": "100%"
      }
     },
     "ae38e78212a947be91e659b0498c8729": {
      "model_module": "@jupyter-widgets/base",
      "model_module_version": "1.0.0",
      "model_name": "LayoutModel",
      "state": {}
     },
     "aedc98abe0c744f2b736e4ead73099f6": {
      "model_module": "@jupyter-widgets/controls",
      "model_module_version": "1.1.0",
      "model_name": "DescriptionStyleModel",
      "state": {
       "description_width": ""
      }
     },
     "af49013ee8984190be1eb623d5933faf": {
      "model_module": "@jupyter-widgets/controls",
      "model_module_version": "1.1.0",
      "model_name": "ButtonModel",
      "state": {
       "icon": "forward",
       "layout": "IPY_MODEL_f6fc5d7a36354643a0f9f955b02a1c4c",
       "style": "IPY_MODEL_b9724ee3036148de87fefe4832cc6d0a"
      }
     },
     "b067a082db6e4e8db632c7bd8002d406": {
      "model_module": "@jupyter-widgets/controls",
      "model_module_version": "1.1.0",
      "model_name": "ButtonStyleModel",
      "state": {}
     },
     "b17561ad48f84b498d69e533fe25e87c": {
      "model_module": "@jupyter-widgets/base",
      "model_module_version": "1.0.0",
      "model_name": "LayoutModel",
      "state": {
       "width": "100%"
      }
     },
     "b1eb1f0ac97646cda40006f387c26cc0": {
      "model_module": "@jupyter-widgets/controls",
      "model_module_version": "1.1.0",
      "model_name": "IntTextModel",
      "state": {
       "layout": "IPY_MODEL_3a0def58abf346f18ebeb9609069fec9",
       "step": 1,
       "style": "IPY_MODEL_d3c0848e76024c2ab46f531ef16d34a7",
       "value": 203
      }
     },
     "b35708ae5c7f4b48a4241f9ee4f2bc44": {
      "model_module": "@jupyter-widgets/base",
      "model_module_version": "1.0.0",
      "model_name": "LayoutModel",
      "state": {
       "width": "100%"
      }
     },
     "b3fdb3b586d64eca88265b2f70591208": {
      "model_module": "@jupyter-widgets/base",
      "model_module_version": "1.0.0",
      "model_name": "LayoutModel",
      "state": {
       "width": "100%"
      }
     },
     "b436b842319048639b3d54801a47a3ab": {
      "model_module": "@jupyter-widgets/base",
      "model_module_version": "1.0.0",
      "model_name": "LayoutModel",
      "state": {
       "width": "100%"
      }
     },
     "b4f63fc6ee7846f0993c8bcecf446405": {
      "model_module": "@jupyter-widgets/controls",
      "model_module_version": "1.1.0",
      "model_name": "IntSliderModel",
      "state": {
       "continuous_update": false,
       "description": "RGB Classifier Playback:",
       "layout": "IPY_MODEL_e59b208105d346a0b54ec5a154b11d72",
       "max": 69,
       "style": "IPY_MODEL_aae3942d17804f3aae79e8093fb687c7",
       "value": 2
      }
     },
     "b5b7a9fe3bdf43dfa422290665f1e198": {
      "model_module": "@jupyter-widgets/base",
      "model_module_version": "1.0.0",
      "model_name": "LayoutModel",
      "state": {
       "width": "100%"
      }
     },
     "b668c4dbd62940b3b95351c4107573ff": {
      "model_module": "@jupyter-widgets/base",
      "model_module_version": "1.0.0",
      "model_name": "LayoutModel",
      "state": {}
     },
     "b71030f5afc64dc2aeb026da55508a46": {
      "model_module": "@jupyter-widgets/base",
      "model_module_version": "1.0.0",
      "model_name": "LayoutModel",
      "state": {
       "width": "100%"
      }
     },
     "b74b87fcc946424f80e1d987ddde85d6": {
      "model_module": "@jupyter-widgets/base",
      "model_module_version": "1.0.0",
      "model_name": "LayoutModel",
      "state": {
       "width": "100%"
      }
     },
     "b790e88d4c2b4b2a91b4fb93c2c389f6": {
      "model_module": "@jupyter-widgets/controls",
      "model_module_version": "1.1.0",
      "model_name": "DescriptionStyleModel",
      "state": {
       "description_width": ""
      }
     },
     "b859db329ae8466ebed5d6d8ec50a5d3": {
      "model_module": "@jupyter-widgets/controls",
      "model_module_version": "1.1.0",
      "model_name": "ButtonStyleModel",
      "state": {}
     },
     "b89ca596b3984d07a21409da4b72def9": {
      "model_module": "@jupyter-widgets/base",
      "model_module_version": "1.0.0",
      "model_name": "LayoutModel",
      "state": {
       "width": "100%"
      }
     },
     "b8a1847e2bc24a6eb4e4d66f172c766d": {
      "model_module": "@jupyter-widgets/controls",
      "model_module_version": "1.1.0",
      "model_name": "SliderStyleModel",
      "state": {
       "description_width": "initial"
      }
     },
     "b8fdee80bfa44e1ca49b4f535f542806": {
      "model_module": "@jupyter-widgets/controls",
      "model_module_version": "1.1.0",
      "model_name": "ButtonModel",
      "state": {
       "icon": "refresh",
       "layout": "IPY_MODEL_776b38f6dabc412891ca266976cebad2",
       "style": "IPY_MODEL_dcf2e1e678024c7e93fda69ce3e771c8"
      }
     },
     "b9724ee3036148de87fefe4832cc6d0a": {
      "model_module": "@jupyter-widgets/controls",
      "model_module_version": "1.1.0",
      "model_name": "ButtonStyleModel",
      "state": {}
     },
     "bd412fd224124864a3a69b9bd1f073a9": {
      "model_module": "@jupyter-widgets/controls",
      "model_module_version": "1.1.0",
      "model_name": "ButtonModel",
      "state": {
       "icon": "fast-forward",
       "layout": "IPY_MODEL_ad779e2145c44f9a9f17bd089513cfc4",
       "style": "IPY_MODEL_7755d5bb229f41a2a03ae6268a0f6746"
      }
     },
     "bf0a5945610e438391054b435c1006f7": {
      "model_module": "@jupyter-widgets/controls",
      "model_module_version": "1.1.0",
      "model_name": "ButtonModel",
      "state": {
       "icon": "fast-backward",
       "layout": "IPY_MODEL_b71030f5afc64dc2aeb026da55508a46",
       "style": "IPY_MODEL_1ea72e69a5064d8bb1207ea429f8a5a0"
      }
     },
     "c061be503e9e49c3b0a32ff7e6f70f92": {
      "model_module": "@jupyter-widgets/controls",
      "model_module_version": "1.1.0",
      "model_name": "IntTextModel",
      "state": {
       "layout": "IPY_MODEL_5a41f0d609444d82b914b0c3afb5855f",
       "step": 1,
       "style": "IPY_MODEL_a86d6f485f104537bfe942b5eef1ae5c"
      }
     },
     "c0ccfb08cc77448db85a1a5365ec3775": {
      "model_module": "@jupyter-widgets/base",
      "model_module_version": "1.0.0",
      "model_name": "LayoutModel",
      "state": {
       "width": "100%"
      }
     },
     "c0da3ff16d834ef0995a473cb3ab539e": {
      "model_module": "@jupyter-widgets/base",
      "model_module_version": "1.0.0",
      "model_name": "LayoutModel",
      "state": {
       "width": "100%"
      }
     },
     "c1b3907dc8ba464a96a7688d9466b837": {
      "model_module": "@jupyter-widgets/controls",
      "model_module_version": "1.1.0",
      "model_name": "DescriptionStyleModel",
      "state": {
       "description_width": ""
      }
     },
     "c587781ee9f24748b01348d2ced197e9": {
      "model_module": "@jupyter-widgets/controls",
      "model_module_version": "1.1.0",
      "model_name": "HBoxModel",
      "state": {
       "children": [
        "IPY_MODEL_9904a272a77742b18d1b4d0aa2b9f6e2",
        "IPY_MODEL_eeb8a8578a4040d0a8690c59790a3de1"
       ],
       "layout": "IPY_MODEL_ab0ed8a6ae7244e9a6fe0fd7cd86c5be"
      }
     },
     "c63558957e69420d95e43497a21ee47b": {
      "model_module": "@jupyter-widgets/controls",
      "model_module_version": "1.1.0",
      "model_name": "ButtonStyleModel",
      "state": {}
     },
     "c67d8ee24ad74fc18d0e0080b3da778a": {
      "model_module": "@jupyter-widgets/base",
      "model_module_version": "1.0.0",
      "model_name": "LayoutModel",
      "state": {
       "width": "100%"
      }
     },
     "c89662bd88e34517be494db7083e25af": {
      "model_module": "@jupyter-widgets/base",
      "model_module_version": "1.0.0",
      "model_name": "LayoutModel",
      "state": {
       "width": "100%"
      }
     },
     "c8b3d262f4f047f3b855d8122552bcc8": {
      "model_module": "@jupyter-widgets/controls",
      "model_module_version": "1.1.0",
      "model_name": "HBoxModel",
      "state": {
       "children": [
        "IPY_MODEL_f519cc6632714644b6e938b363bbde49",
        "IPY_MODEL_2c4fd8bf79e14b958bd99fb3d53d9871",
        "IPY_MODEL_8dc809b2ac43429387871c8b5d41a9ba",
        "IPY_MODEL_88e0938ece004c7a855f24a7559ff067",
        "IPY_MODEL_ff04a790cca44733a88babcabfa23a1d",
        "IPY_MODEL_e6f5c70afc3d408c8bc92694230e24ef"
       ],
       "layout": "IPY_MODEL_38697f34b174412a806fb9b560cffcea"
      }
     },
     "c99be3e63adb4ec4a12c9cfa5ede176d": {
      "model_module": "@jupyter-widgets/controls",
      "model_module_version": "1.1.0",
      "model_name": "DescriptionStyleModel",
      "state": {
       "description_width": ""
      }
     },
     "caa4c4f41a5e44cc9cf6de563e5df95e": {
      "model_module": "@jupyter-widgets/base",
      "model_module_version": "1.0.0",
      "model_name": "LayoutModel",
      "state": {
       "width": "100%"
      }
     },
     "cafbc33178094d438fa59954fb38f9a3": {
      "model_module": "@jupyter-widgets/controls",
      "model_module_version": "1.1.0",
      "model_name": "HBoxModel",
      "state": {
       "children": [
        "IPY_MODEL_f3014607814d43f69945011a60cfdc16",
        "IPY_MODEL_6ed00aca4613462e9ecbf35cf2cd2a48"
       ],
       "layout": "IPY_MODEL_47e738076e684f87914b7f01610ca200"
      }
     },
     "cb2f44c49c714b38b14db4e66e296085": {
      "model_module": "@jupyter-widgets/base",
      "model_module_version": "1.0.0",
      "model_name": "LayoutModel",
      "state": {
       "width": "100%"
      }
     },
     "cb84a241e33c434697c08680db6813f4": {
      "model_module": "@jupyter-widgets/base",
      "model_module_version": "1.0.0",
      "model_name": "LayoutModel",
      "state": {
       "width": "100%"
      }
     },
     "cbfd71d8c6374650aef5252f5a6f152b": {
      "model_module": "@jupyter-widgets/base",
      "model_module_version": "1.0.0",
      "model_name": "LayoutModel",
      "state": {
       "width": "100%"
      }
     },
     "ced6d15979a44c3fb11960b7cd308521": {
      "model_module": "@jupyter-widgets/output",
      "model_module_version": "1.0.0",
      "model_name": "OutputModel",
      "state": {
       "layout": "IPY_MODEL_9413fb0044e64ffaa27172f162afa421"
      }
     },
     "cf21d870e1c14302852e99f391da1224": {
      "model_module": "@jupyter-widgets/controls",
      "model_module_version": "1.1.0",
      "model_name": "ButtonStyleModel",
      "state": {}
     },
     "cf7ccd1bc25a4ea9ad567687590135a9": {
      "model_module": "@jupyter-widgets/controls",
      "model_module_version": "1.1.0",
      "model_name": "AccordionModel",
      "state": {
       "_titles": {
        "0": "RGB Classifier"
       },
       "children": [
        "IPY_MODEL_c587781ee9f24748b01348d2ced197e9"
       ],
       "layout": "IPY_MODEL_569602ded1ca4cfeb0ab03f90f587677",
       "selected_index": null
      }
     },
     "d388cbb96c694b53829f34cbfac18705": {
      "model_module": "@jupyter-widgets/base",
      "model_module_version": "1.0.0",
      "model_name": "LayoutModel",
      "state": {
       "width": "100%"
      }
     },
     "d3c0848e76024c2ab46f531ef16d34a7": {
      "model_module": "@jupyter-widgets/controls",
      "model_module_version": "1.1.0",
      "model_name": "DescriptionStyleModel",
      "state": {
       "description_width": ""
      }
     },
     "d50bc8c015d44bffac9513bec897fe03": {
      "model_module": "@jupyter-widgets/controls",
      "model_module_version": "1.1.0",
      "model_name": "HBoxModel",
      "state": {
       "children": [
        "IPY_MODEL_47855484059d49f8b38cdf8ab699501b",
        "IPY_MODEL_1def53e8d1ca456f82cf8aebfd3f32d9",
        "IPY_MODEL_c061be503e9e49c3b0a32ff7e6f70f92",
        "IPY_MODEL_af49013ee8984190be1eb623d5933faf",
        "IPY_MODEL_55e4f816794849bab9d534817329f0e6",
        "IPY_MODEL_48594cbd65c84993b8a6778ff1f6d3a8"
       ],
       "layout": "IPY_MODEL_62468b2f85334c47ac2810af9c717c5b"
      }
     },
     "d580cbb6d83a459f9477304009651712": {
      "model_module": "@jupyter-widgets/base",
      "model_module_version": "1.0.0",
      "model_name": "LayoutModel",
      "state": {
       "width": "100%"
      }
     },
     "d63ba9847dae45c1b7e71183d3c5adf0": {
      "model_module": "@jupyter-widgets/base",
      "model_module_version": "1.0.0",
      "model_name": "LayoutModel",
      "state": {
       "width": "100%"
      }
     },
     "d7faacd50a3b4beea5d10db6e8889e27": {
      "model_module": "@jupyter-widgets/controls",
      "model_module_version": "1.1.0",
      "model_name": "DescriptionStyleModel",
      "state": {
       "description_width": "initial"
      }
     },
     "d8597980c5e24f798ada095f6da25e24": {
      "model_module": "@jupyter-widgets/controls",
      "model_module_version": "1.1.0",
      "model_name": "ButtonStyleModel",
      "state": {}
     },
     "d8a1840f84f14800b6a926d1eaf8d861": {
      "model_module": "@jupyter-widgets/base",
      "model_module_version": "1.0.0",
      "model_name": "LayoutModel",
      "state": {
       "width": "100%"
      }
     },
     "d8fa602f592c4089a1a877d3eedda418": {
      "model_module": "@jupyter-widgets/base",
      "model_module_version": "1.0.0",
      "model_name": "LayoutModel",
      "state": {
       "width": "100px"
      }
     },
     "db2816f7f2b948de8c9152bfd281731b": {
      "model_module": "@jupyter-widgets/controls",
      "model_module_version": "1.1.0",
      "model_name": "IntTextModel",
      "state": {
       "layout": "IPY_MODEL_797ef0dabd974dddb6b45762451af191",
       "step": 1,
       "style": "IPY_MODEL_b790e88d4c2b4b2a91b4fb93c2c389f6"
      }
     },
     "dc1de121b6014c73a3af8475edb6302e": {
      "model_module": "@jupyter-widgets/base",
      "model_module_version": "1.0.0",
      "model_name": "LayoutModel",
      "state": {
       "width": "100%"
      }
     },
     "dcf2e1e678024c7e93fda69ce3e771c8": {
      "model_module": "@jupyter-widgets/controls",
      "model_module_version": "1.1.0",
      "model_name": "ButtonStyleModel",
      "state": {}
     },
     "dd41041c545b4e3c87b4ed6b750578c0": {
      "model_module": "@jupyter-widgets/controls",
      "model_module_version": "1.1.0",
      "model_name": "ButtonModel",
      "state": {
       "icon": "backward",
       "layout": "IPY_MODEL_a692ccff1771446f969f340e646d9e47",
       "style": "IPY_MODEL_df76a779887d4d55a0b7bf08fc03a019"
      }
     },
     "df76a779887d4d55a0b7bf08fc03a019": {
      "model_module": "@jupyter-widgets/controls",
      "model_module_version": "1.1.0",
      "model_name": "ButtonStyleModel",
      "state": {}
     },
     "df87d587431a42b48e00be58b9f034d7": {
      "model_module": "@jupyter-widgets/base",
      "model_module_version": "1.0.0",
      "model_name": "LayoutModel",
      "state": {}
     },
     "dfd2d6374af54538a9db639900204eca": {
      "model_module": "@jupyter-widgets/controls",
      "model_module_version": "1.1.0",
      "model_name": "ButtonModel",
      "state": {
       "icon": "fast-backward",
       "layout": "IPY_MODEL_e3dc0ed8c751465c817d7940c236d989",
       "style": "IPY_MODEL_852dc43c24bb4620ac7526d4a24417ae"
      }
     },
     "e03602eda1e549978134ce3195d229cf": {
      "model_module": "@jupyter-widgets/base",
      "model_module_version": "1.0.0",
      "model_name": "LayoutModel",
      "state": {
       "height": "40px"
      }
     },
     "e0c28d66b3484fbb93c69d0987246fca": {
      "model_module": "@jupyter-widgets/controls",
      "model_module_version": "1.1.0",
      "model_name": "DescriptionStyleModel",
      "state": {
       "description_width": "initial"
      }
     },
     "e1080e059a484ae1873e53aac2ed8799": {
      "model_module": "@jupyter-widgets/controls",
      "model_module_version": "1.1.0",
      "model_name": "HBoxModel",
      "state": {
       "children": [
        "IPY_MODEL_47110a55b8fe410b8d47cf395a0592d7",
        "IPY_MODEL_1f6449e5c4c946db8365cbd28cb6b784"
       ],
       "layout": "IPY_MODEL_63d563f8c1924c7380d333e5275c1123"
      }
     },
     "e1e02de2b7114aefb54c19042639b420": {
      "model_module": "@jupyter-widgets/controls",
      "model_module_version": "1.1.0",
      "model_name": "ButtonModel",
      "state": {
       "icon": "forward",
       "layout": "IPY_MODEL_a313a3f96e5e43f59fced4bf46d2005e",
       "style": "IPY_MODEL_e6a6f4dbc0464f7fb8a72fb478f2a2e1"
      }
     },
     "e2252650e5054da58e699aba66691042": {
      "model_module": "@jupyter-widgets/base",
      "model_module_version": "1.0.0",
      "model_name": "LayoutModel",
      "state": {
       "height": "50px",
       "width": "100%"
      }
     },
     "e336d1399fe7443dbc71608ccb0cf31b": {
      "model_module": "@jupyter-widgets/controls",
      "model_module_version": "1.1.0",
      "model_name": "DescriptionStyleModel",
      "state": {
       "description_width": ""
      }
     },
     "e3dc0ed8c751465c817d7940c236d989": {
      "model_module": "@jupyter-widgets/base",
      "model_module_version": "1.0.0",
      "model_name": "LayoutModel",
      "state": {
       "width": "100%"
      }
     },
     "e4cf3c60c062412dad63df3a35b81d6c": {
      "model_module": "@jupyter-widgets/base",
      "model_module_version": "1.0.0",
      "model_name": "LayoutModel",
      "state": {
       "width": "100%"
      }
     },
     "e52815eee738427c940093fc3c9ac95c": {
      "model_module": "@jupyter-widgets/base",
      "model_module_version": "1.0.0",
      "model_name": "LayoutModel",
      "state": {}
     },
     "e59b208105d346a0b54ec5a154b11d72": {
      "model_module": "@jupyter-widgets/base",
      "model_module_version": "1.0.0",
      "model_name": "LayoutModel",
      "state": {
       "width": "100%"
      }
     },
     "e641d3fdd1bb48df841d49b485ded7f0": {
      "model_module": "@jupyter-widgets/controls",
      "model_module_version": "1.1.0",
      "model_name": "VBoxModel",
      "state": {
       "children": [
        "IPY_MODEL_8c4fe4d936d1461c9172255303b7c6e3",
        "IPY_MODEL_d50bc8c015d44bffac9513bec897fe03"
       ],
       "layout": "IPY_MODEL_84ebcfc708b84d7dbc2e132de18e639c"
      }
     },
     "e68a8686264a495eb2780ac6c852cc26": {
      "model_module": "@jupyter-widgets/controls",
      "model_module_version": "1.1.0",
      "model_name": "VBoxModel",
      "state": {
       "children": [
        "IPY_MODEL_cf7ccd1bc25a4ea9ad567687590135a9",
        "IPY_MODEL_80d92680582c495698b477829491b7dd",
        "IPY_MODEL_38261026441c459eab92501606099ade",
        "IPY_MODEL_1ade871b2bf745228293b8ea63f9e837"
       ],
       "layout": "IPY_MODEL_ec2c17b072a94f6dbaf2b4c4becde7f3"
      }
     },
     "e6a6f4dbc0464f7fb8a72fb478f2a2e1": {
      "model_module": "@jupyter-widgets/controls",
      "model_module_version": "1.1.0",
      "model_name": "ButtonStyleModel",
      "state": {}
     },
     "e6f5c70afc3d408c8bc92694230e24ef": {
      "model_module": "@jupyter-widgets/controls",
      "model_module_version": "1.1.0",
      "model_name": "ButtonModel",
      "state": {
       "description": "Play",
       "icon": "play",
       "layout": "IPY_MODEL_dc1de121b6014c73a3af8475edb6302e",
       "style": "IPY_MODEL_cf21d870e1c14302852e99f391da1224"
      }
     },
     "e86d57f92a834f1db393748c170bba1b": {
      "model_module": "@jupyter-widgets/controls",
      "model_module_version": "1.1.0",
      "model_name": "VBoxModel",
      "state": {
       "children": [
        "IPY_MODEL_9fbd716b9776414c914ef619a49df7fe",
        "IPY_MODEL_589150d910c64bb3a7fbe3274f3a248b"
       ],
       "layout": "IPY_MODEL_25b7adccdca34d6a803a6f65ce7c3be0"
      }
     },
     "e91f04f1cbd94f6388b9f70ef469233d": {
      "model_module": "@jupyter-widgets/base",
      "model_module_version": "1.0.0",
      "model_name": "LayoutModel",
      "state": {}
     },
     "eae9fc8634bc47ce9f3b8151286edf40": {
      "model_module": "@jupyter-widgets/controls",
      "model_module_version": "1.1.0",
      "model_name": "DescriptionStyleModel",
      "state": {
       "description_width": "initial"
      }
     },
     "eb1e831d3e0f4b16ab597765988986f8": {
      "model_module": "@jupyter-widgets/controls",
      "model_module_version": "1.1.0",
      "model_name": "DescriptionStyleModel",
      "state": {
       "description_width": ""
      }
     },
     "eb701497ebe04cd89ff13e6710c6cfbc": {
      "model_module": "@jupyter-widgets/controls",
      "model_module_version": "1.1.0",
      "model_name": "LabelModel",
      "state": {
       "layout": "IPY_MODEL_32b117344ff24104bc44862800451d15",
       "style": "IPY_MODEL_f1d4647be4c94700b3bd4640b465a5d8",
       "value": "of 122"
      }
     },
     "ec0c4be094ac4b3a90f321f94328606f": {
      "model_module": "@jupyter-widgets/base",
      "model_module_version": "1.0.0",
      "model_name": "LayoutModel",
      "state": {
       "height": "50px",
       "width": "100%"
      }
     },
     "ec2c17b072a94f6dbaf2b4c4becde7f3": {
      "model_module": "@jupyter-widgets/base",
      "model_module_version": "1.0.0",
      "model_name": "LayoutModel",
      "state": {}
     },
     "ec9635bc9ec848b69dbb42068d6bc703": {
      "model_module": "@jupyter-widgets/controls",
      "model_module_version": "1.1.0",
      "model_name": "LabelModel",
      "state": {
       "layout": "IPY_MODEL_4f7726d99d4f4c9e86a111737ba001d9",
       "style": "IPY_MODEL_a32dc4bc55744953a03bb724ac06a2ac",
       "value": "of 13"
      }
     },
     "edf4c05a8f72422bb6a4bf7b9adeaed8": {
      "model_module": "@jupyter-widgets/controls",
      "model_module_version": "1.1.0",
      "model_name": "SelectModel",
      "state": {
       "_options_labels": [
        "",
        "Accent",
        "Accent_r",
        "Blues",
        "Blues_r",
        "BrBG",
        "BrBG_r",
        "BuGn",
        "BuGn_r",
        "BuPu",
        "BuPu_r",
        "CMRmap",
        "CMRmap_r",
        "Dark2",
        "Dark2_r",
        "GnBu",
        "GnBu_r",
        "Greens",
        "Greens_r",
        "Greys",
        "Greys_r",
        "OrRd",
        "OrRd_r",
        "Oranges",
        "Oranges_r",
        "PRGn",
        "PRGn_r",
        "Paired",
        "Paired_r",
        "Pastel1",
        "Pastel1_r",
        "Pastel2",
        "Pastel2_r",
        "PiYG",
        "PiYG_r",
        "PuBu",
        "PuBuGn",
        "PuBuGn_r",
        "PuBu_r",
        "PuOr",
        "PuOr_r",
        "PuRd",
        "PuRd_r",
        "Purples",
        "Purples_r",
        "RdBu",
        "RdBu_r",
        "RdGy",
        "RdGy_r",
        "RdPu",
        "RdPu_r",
        "RdYlBu",
        "RdYlBu_r",
        "RdYlGn",
        "RdYlGn_r",
        "Reds",
        "Reds_r",
        "Set1",
        "Set1_r",
        "Set2",
        "Set2_r",
        "Set3",
        "Set3_r",
        "Spectral",
        "Spectral_r",
        "Vega10",
        "Vega10_r",
        "Vega20",
        "Vega20_r",
        "Vega20b",
        "Vega20b_r",
        "Vega20c",
        "Vega20c_r",
        "Wistia",
        "Wistia_r",
        "YlGn",
        "YlGnBu",
        "YlGnBu_r",
        "YlGn_r",
        "YlOrBr",
        "YlOrBr_r",
        "YlOrRd",
        "YlOrRd_r",
        "afmhot",
        "afmhot_r",
        "autumn",
        "autumn_r",
        "binary",
        "binary_r",
        "bone",
        "bone_r",
        "brg",
        "brg_r",
        "bwr",
        "bwr_r",
        "cool",
        "cool_r",
        "coolwarm",
        "coolwarm_r",
        "copper",
        "copper_r",
        "cubehelix",
        "cubehelix_r",
        "flag",
        "flag_r",
        "gist_earth",
        "gist_earth_r",
        "gist_gray",
        "gist_gray_r",
        "gist_heat",
        "gist_heat_r",
        "gist_ncar",
        "gist_ncar_r",
        "gist_rainbow",
        "gist_rainbow_r",
        "gist_stern",
        "gist_stern_r",
        "gist_yarg",
        "gist_yarg_r",
        "gnuplot",
        "gnuplot2",
        "gnuplot2_r",
        "gnuplot_r",
        "gray",
        "gray_r",
        "hot",
        "hot_r",
        "hsv",
        "hsv_r",
        "inferno",
        "inferno_r",
        "jet",
        "jet_r",
        "magma",
        "magma_r",
        "nipy_spectral",
        "nipy_spectral_r",
        "ocean",
        "ocean_r",
        "pink",
        "pink_r",
        "plasma",
        "plasma_r",
        "prism",
        "prism_r",
        "rainbow",
        "rainbow_r",
        "seismic",
        "seismic_r",
        "spectral",
        "spectral_r",
        "spring",
        "spring_r",
        "summer",
        "summer_r",
        "tab10",
        "tab10_r",
        "tab20",
        "tab20_r",
        "tab20b",
        "tab20b_r",
        "tab20c",
        "tab20c_r",
        "terrain",
        "terrain_r",
        "viridis",
        "viridis_r",
        "winter",
        "winter_r"
       ],
       "description": "Colormap:",
       "index": 0,
       "layout": "IPY_MODEL_338759ed2c4a43ebb7562b64ebd2e362",
       "rows": 1,
       "style": "IPY_MODEL_c99be3e63adb4ec4a12c9cfa5ede176d"
      }
     },
     "eeb8a8578a4040d0a8690c59790a3de1": {
      "model_module": "@jupyter-widgets/controls",
      "model_module_version": "1.1.0",
      "model_name": "VBoxModel",
      "state": {
       "children": [
        "IPY_MODEL_083a82335c8445bd87138edae45ef481",
        "IPY_MODEL_0fe8d85c0c32451aa3c8609005b45173",
        "IPY_MODEL_edf4c05a8f72422bb6a4bf7b9adeaed8",
        "IPY_MODEL_4b1521845ec847ee93d8f3629b0ddff7",
        "IPY_MODEL_41157d1be48742c39bb997dd1a300417",
        "IPY_MODEL_2db9c3ea88cf4576afe87d7eb5208ac3",
        "IPY_MODEL_f5bc8d78274c446ba873f149396c4fd7",
        "IPY_MODEL_998b63b6dacf4294bb6a2789eea16b48"
       ],
       "layout": "IPY_MODEL_4d236238ecf0427ba0a2b2bd4eaa6a01"
      }
     },
     "f0302c8331934f80b664e3a0ddbe17ae": {
      "model_module": "@jupyter-widgets/base",
      "model_module_version": "1.0.0",
      "model_name": "LayoutModel",
      "state": {
       "height": "40px"
      }
     },
     "f0e25374cd76406aa7f585a7dc7ef72a": {
      "model_module": "@jupyter-widgets/controls",
      "model_module_version": "1.1.0",
      "model_name": "ButtonModel",
      "state": {
       "icon": "forward",
       "layout": "IPY_MODEL_3a58e893ee99441c8f65ea5f6d8f8e4e",
       "style": "IPY_MODEL_b859db329ae8466ebed5d6d8ec50a5d3"
      }
     },
     "f0f5b6662d6d483abcad2cc3a11b78d9": {
      "model_module": "@jupyter-widgets/controls",
      "model_module_version": "1.1.0",
      "model_name": "HBoxModel",
      "state": {
       "children": [
        "IPY_MODEL_b4f63fc6ee7846f0993c8bcecf446405",
        "IPY_MODEL_952182d6c5ee48f0bfd75a37f91ccca1"
       ],
       "layout": "IPY_MODEL_e03602eda1e549978134ce3195d229cf"
      }
     },
     "f15c505c0f4b4181802eb5e13ddf172e": {
      "model_module": "@jupyter-widgets/controls",
      "model_module_version": "1.1.0",
      "model_name": "IntTextModel",
      "state": {
       "layout": "IPY_MODEL_d580cbb6d83a459f9477304009651712",
       "step": 1,
       "style": "IPY_MODEL_ab8569ef895e4802bdf3d74ed35561be"
      }
     },
     "f1d4647be4c94700b3bd4640b465a5d8": {
      "model_module": "@jupyter-widgets/controls",
      "model_module_version": "1.1.0",
      "model_name": "DescriptionStyleModel",
      "state": {
       "description_width": ""
      }
     },
     "f2ca0ef6d7f14c6f863d547b3716972f": {
      "model_module": "@jupyter-widgets/base",
      "model_module_version": "1.0.0",
      "model_name": "LayoutModel",
      "state": {
       "height": "40px"
      }
     },
     "f2e309e06af6434688f8ef0275f988f4": {
      "model_module": "@jupyter-widgets/base",
      "model_module_version": "1.0.0",
      "model_name": "LayoutModel",
      "state": {
       "width": "100%"
      }
     },
     "f3014607814d43f69945011a60cfdc16": {
      "model_module": "@jupyter-widgets/controls",
      "model_module_version": "1.1.0",
      "model_name": "IntSliderModel",
      "state": {
       "continuous_update": false,
       "description": "RGB Classifier Playback:",
       "layout": "IPY_MODEL_e4cf3c60c062412dad63df3a35b81d6c",
       "max": 203,
       "style": "IPY_MODEL_0b51645d8fc6448898ae406998115c10",
       "value": 203
      }
     },
     "f42bc5331d3a4afc8a86d3b41868d1e7": {
      "model_module": "@jupyter-widgets/controls",
      "model_module_version": "1.1.0",
      "model_name": "ButtonModel",
      "state": {
       "icon": "backward",
       "layout": "IPY_MODEL_1dcc4d7643af49a0a02464fc20344310",
       "style": "IPY_MODEL_6a56e5fd34f340e4b30af56d35aaaea2"
      }
     },
     "f452190b752e4aa092d7d9d3b1c784f3": {
      "model_module": "@jupyter-widgets/base",
      "model_module_version": "1.0.0",
      "model_name": "LayoutModel",
      "state": {
       "justify_content": "center",
       "overflow_x": "auto",
       "overflow_y": "auto",
       "width": "95%"
      }
     },
     "f519cc6632714644b6e938b363bbde49": {
      "model_module": "@jupyter-widgets/controls",
      "model_module_version": "1.1.0",
      "model_name": "ButtonModel",
      "state": {
       "icon": "fast-backward",
       "layout": "IPY_MODEL_ac872a6bc74845cb83192671d20c484d",
       "style": "IPY_MODEL_3218573abdfd4ea3a18140acb29d221b"
      }
     },
     "f5bc8d78274c446ba873f149396c4fd7": {
      "model_module": "@jupyter-widgets/controls",
      "model_module_version": "1.1.0",
      "model_name": "IntTextModel",
      "state": {
       "description": "Feature to show:",
       "layout": "IPY_MODEL_8559c2d709c94e559eed2a0dc5345267",
       "step": 1,
       "style": "IPY_MODEL_9da972585f20420684f1b837ca090757"
      }
     },
     "f6433f38fab346458a53886ced56f774": {
      "model_module": "@jupyter-widgets/controls",
      "model_module_version": "1.1.0",
      "model_name": "VBoxModel",
      "state": {
       "children": [
        "IPY_MODEL_7775ae4971564875a9822b83b2061256",
        "IPY_MODEL_c8b3d262f4f047f3b855d8122552bcc8"
       ],
       "layout": "IPY_MODEL_1a6c05c4e36c4cf3ad91390acae9818c"
      }
     },
     "f6fc5d7a36354643a0f9f955b02a1c4c": {
      "model_module": "@jupyter-widgets/base",
      "model_module_version": "1.0.0",
      "model_name": "LayoutModel",
      "state": {
       "width": "100%"
      }
     },
     "fcb79463da3c4147a292087c073b30d5": {
      "model_module": "@jupyter-widgets/base",
      "model_module_version": "1.0.0",
      "model_name": "LayoutModel",
      "state": {
       "width": "100%"
      }
     },
     "fd11eb8cdeca4a6eb9a9334a730c00d9": {
      "model_module": "@jupyter-widgets/controls",
      "model_module_version": "1.1.0",
      "model_name": "ButtonStyleModel",
      "state": {}
     },
     "fd800d0944c44c16a602f7d00bc9de8e": {
      "model_module": "@jupyter-widgets/controls",
      "model_module_version": "1.1.0",
      "model_name": "ButtonModel",
      "state": {
       "description": "Play",
       "icon": "play",
       "layout": "IPY_MODEL_63cab3a834f641f2bc411493d797ab62",
       "style": "IPY_MODEL_53d3d56bd20a4bcfbe0c2c6a37073565"
      }
     },
     "fe0b6bedcf16406d9d1ac2d7cd7c5316": {
      "model_module": "@jupyter-widgets/controls",
      "model_module_version": "1.1.0",
      "model_name": "DescriptionStyleModel",
      "state": {
       "description_width": ""
      }
     },
     "feac7be55ad14557a4eb2f648a65cbbd": {
      "model_module": "@jupyter-widgets/controls",
      "model_module_version": "1.1.0",
      "model_name": "ButtonModel",
      "state": {
       "description": "Play",
       "icon": "play",
       "layout": "IPY_MODEL_cbfd71d8c6374650aef5252f5a6f152b",
       "style": "IPY_MODEL_4dea1cdab3194b95b16b1b03ffd59cca"
      }
     },
     "ff04a790cca44733a88babcabfa23a1d": {
      "model_module": "@jupyter-widgets/controls",
      "model_module_version": "1.1.0",
      "model_name": "ButtonModel",
      "state": {
       "icon": "fast-forward",
       "layout": "IPY_MODEL_4234b049da994f8794306246bebb358b",
       "style": "IPY_MODEL_34bc4a23130f48bb866ab54a0469f842"
      }
     },
     "ffe83ca9380442c1912741fe3e7d17e7": {
      "model_module": "@jupyter-widgets/output",
      "model_module_version": "1.0.0",
      "model_name": "OutputModel",
      "state": {
       "layout": "IPY_MODEL_2e2e93b002b549b3b6443e1b9e15f774"
      }
     }
    },
    "version_major": 2,
    "version_minor": 0
   }
  }
 },
 "nbformat": 4,
 "nbformat_minor": 2
}
