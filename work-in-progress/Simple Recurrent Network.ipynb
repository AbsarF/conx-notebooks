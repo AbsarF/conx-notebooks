{
 "cells": [
  {
   "cell_type": "markdown",
   "metadata": {},
   "source": [
    "# Simple Recurrent Network\n",
    "\n",
    "Proof of concept of an Elman-style recurrent network.\n",
    "\n",
    "In this notebook we will attempt to learn the polka. That is, we will learn to ouput the pattern 0, 0, 1 in time."
   ]
  },
  {
   "cell_type": "code",
   "execution_count": 1,
   "metadata": {},
   "outputs": [
    {
     "name": "stderr",
     "output_type": "stream",
     "text": [
      "Using TensorFlow backend.\n",
      "Conx, version 3.6.1\n"
     ]
    }
   ],
   "source": [
    "import conx as cx"
   ]
  },
  {
   "cell_type": "markdown",
   "metadata": {},
   "source": [
    "We contruct a Simple Recurrent Network manually. The context bank is an input containing a copy of the activations of the hidden layer from the previous step."
   ]
  },
  {
   "cell_type": "code",
   "execution_count": 2,
   "metadata": {},
   "outputs": [],
   "source": [
    "net = cx.Network(\"Polka in Time\")\n",
    "net.add(\n",
    "    cx.Layer(\"input\", 1),\n",
    "    cx.Layer(\"context\", 5),\n",
    "    cx.Layer(\"hidden\", 5, activation=\"sigmoid\"),\n",
    "    cx.Layer(\"output\", 1, activation=\"sigmoid\"),\n",
    ")\n",
    "net.connect(\"input\", \"hidden\")\n",
    "net.connect(\"context\", \"hidden\")\n",
    "net.connect(\"hidden\", \"output\")\n",
    "net.compile(error=\"mse\", optimizer=\"sgd\", lr=0.1, momentum=0.1)"
   ]
  },
  {
   "cell_type": "code",
   "execution_count": 3,
   "metadata": {},
   "outputs": [
    {
     "data": {
      "application/javascript": [
       "\n",
       "require(['base/js/namespace'], function(Jupyter) {\n",
       "    Jupyter.notebook.kernel.comm_manager.register_target('conx_svg_control', function(comm, msg) {\n",
       "        comm.on_msg(function(msg) {\n",
       "            var data = msg[\"content\"][\"data\"];\n",
       "            var images = document.getElementsByClassName(data[\"class\"]);\n",
       "            for (var i = 0; i < images.length; i++) {\n",
       "                if (data[\"href\"]) {\n",
       "                    images[i].setAttributeNS(null, \"href\", data[\"href\"]);\n",
       "                }\n",
       "                if (data[\"src\"]) {\n",
       "                    images[i].setAttributeNS(null, \"src\", data[\"src\"]);\n",
       "                }\n",
       "            }\n",
       "        });\n",
       "    });\n",
       "});\n"
      ],
      "text/plain": [
       "<IPython.core.display.Javascript object>"
      ]
     },
     "metadata": {},
     "output_type": "display_data"
    },
    {
     "data": {
      "text/html": [
       "<svg id='Polka in Time' xmlns='http://www.w3.org/2000/svg' image-rendering=\"pixelated\" width=\"400.0px\" height=\"189.0909090909091px\">\n",
       " <g >\n",
       "  <svg viewBox=\"0 0 550 260\" width=\"400.0px\" height=\"189.0909090909091px\">\n",
       "    <defs>\n",
       "        <marker id=\"arrow\" markerWidth=\"10\" markerHeight=\"10\" refX=\"9\" refY=\"3\" orient=\"auto\" markerUnits=\"strokeWidth\">\n",
       "          <path d=\"M0,0 L0,6 L9,3 z\" fill=\"black\" />\n",
       "        </marker>\n",
       "    </defs><rect x=\"249.0\" y=\"24\" width=\"52\" height=\"52\" style=\"fill:none;stroke:black;stroke-width:2\"/><image id=\"picture-static-Polka in Time-217545_output_1\" class=\"picture-static-Polka in Time-217545_output\" x=\"250.0\" y=\"25\" height=\"50\" width=\"50\" preserveAspectRatio=\"none\" href=\"data:image/gif;base64,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\"><title>Layer: output (output)\n",
       " output range: (0, 1)\n",
       " shape = (1,)\n",
       " Keras class = Dense\n",
       " activation = sigmoid</title></image><text x=\"305.0\" y=\"52.0\" font-family=\"monospace\" font-size=\"12\" text-anchor=\"start\" fill=\"black\" alignment-baseline=\"central\" >output</text><line x1=\"275.0\" y1=\"104\" x2=\"275.0\" y2=\"77\" stroke=\"black\" stroke-width=\"2\" marker-end=\"url(#arrow)\"><title>Weights from hidden to output\n",
       " output/kernel:0 has shape (5, 1)\n",
       " output/bias:0 has shape (1,)</title></line><rect x=\"174.0\" y=\"104\" width=\"202\" height=\"52\" style=\"fill:none;stroke:black;stroke-width:2\"/><image id=\"picture-static-Polka in Time-217545_hidden_2\" class=\"picture-static-Polka in Time-217545_hidden\" x=\"175.0\" y=\"105\" height=\"50\" width=\"200\" preserveAspectRatio=\"none\" href=\"data:image/gif;base64,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\"><title>Layer: hidden (hidden)\n",
       " output range: (0, 1)\n",
       " shape = (5,)\n",
       " Keras class = Dense\n",
       " activation = sigmoid</title></image><text x=\"380.0\" y=\"132.0\" font-family=\"monospace\" font-size=\"12\" text-anchor=\"start\" fill=\"black\" alignment-baseline=\"central\" >hidden</text><line x1=\"183.33333333333334\" y1=\"184\" x2=\"275.0\" y2=\"157\" stroke=\"black\" stroke-width=\"2\" marker-end=\"url(#arrow)\"><title>Weights from input to hidden\n",
       " hidden/kernel:0 has shape (6, 5)\n",
       " hidden/bias:0 has shape (5,)</title></line><rect x=\"157.33333333333334\" y=\"184\" width=\"52\" height=\"52\" style=\"fill:none;stroke:black;stroke-width:2\"/><image id=\"picture-static-Polka in Time-217545_input_3\" class=\"picture-static-Polka in Time-217545_input\" x=\"158.33333333333334\" y=\"185\" height=\"50\" width=\"50\" preserveAspectRatio=\"none\" href=\"data:image/gif;base64,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\"><title>Layer: input (input)\n",
       " output range: (-Infinity, +Infinity)\n",
       " shape = (1,)\n",
       " Keras class = Input</title></image><text x=\"213.33333333333334\" y=\"212.0\" font-family=\"monospace\" font-size=\"12\" text-anchor=\"start\" fill=\"black\" alignment-baseline=\"central\" >input</text><line x1=\"366.6666666666667\" y1=\"184\" x2=\"275.0\" y2=\"157\" stroke=\"black\" stroke-width=\"2\" marker-end=\"url(#arrow)\"><title>Weights from context to hidden\n",
       " hidden/kernel:0 has shape (6, 5)\n",
       " hidden/bias:0 has shape (5,)</title></line><rect x=\"265.6666666666667\" y=\"184\" width=\"202\" height=\"52\" style=\"fill:none;stroke:black;stroke-width:2\"/><image id=\"picture-static-Polka in Time-217545_context_4\" class=\"picture-static-Polka in Time-217545_context\" x=\"266.6666666666667\" y=\"185\" height=\"50\" width=\"200\" preserveAspectRatio=\"none\" href=\"data:image/gif;base64,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\"><title>Layer: context (input)\n",
       " output range: (-Infinity, +Infinity)\n",
       " shape = (5,)\n",
       " Keras class = Input</title></image><text x=\"471.6666666666667\" y=\"212.0\" font-family=\"monospace\" font-size=\"12\" text-anchor=\"start\" fill=\"black\" alignment-baseline=\"central\" >context</text><text x=\"275.0\" y=\"12.5\" font-family=\"monospace\" font-size=\"15\" text-anchor=\"middle\" fill=\"black\" alignment-baseline=\"central\" >Polka in Time</text></svg></g></svg>"
      ],
      "text/plain": [
       "<IPython.core.display.HTML object>"
      ]
     },
     "execution_count": 3,
     "metadata": {},
     "output_type": "execute_result"
    }
   ],
   "source": [
    "net.picture([[0], [0.5 for i in range(5)]])"
   ]
  },
  {
   "cell_type": "code",
   "execution_count": 4,
   "metadata": {},
   "outputs": [
    {
     "data": {
      "text/plain": [
       "[0.47303569316864014,\n",
       " 0.6354202628135681,\n",
       " 0.3951795995235443,\n",
       " 0.4589715301990509,\n",
       " 0.6186261177062988]"
      ]
     },
     "execution_count": 4,
     "metadata": {},
     "output_type": "execute_result"
    }
   ],
   "source": [
    "net.propagate_to(\"hidden\", (0, [0.5 for i in range(5)]))"
   ]
  },
  {
   "cell_type": "markdown",
   "metadata": {},
   "source": [
    "We construct a dataset without context activations. We will compute the context activations dynamically.\n",
    "\n",
    " Sequence | Input  | Target\n",
    "-- | -- | --\n",
    "$t_0$ | 0  | 0\n",
    "$t_1$ | 0  | 1\n",
    "$t_2$ | 1  | 0"
   ]
  },
  {
   "cell_type": "code",
   "execution_count": 5,
   "metadata": {},
   "outputs": [],
   "source": [
    "dataset = [\n",
    "    [[0], [0]],\n",
    "    [[0], [1]],\n",
    "    [[1], [0]],\n",
    "]"
   ]
  },
  {
   "cell_type": "markdown",
   "metadata": {},
   "source": [
    "We can propagate the entire dataset sequence by chaining the context from propagate to propagate:"
   ]
  },
  {
   "cell_type": "code",
   "execution_count": 6,
   "metadata": {},
   "outputs": [],
   "source": [
    "def propagate_sequence(context, dataset):\n",
    "    for inputs,targets in dataset:\n",
    "        context = net.propagate_to(\"hidden\", [inputs, context])\n",
    "    return context"
   ]
  },
  {
   "cell_type": "code",
   "execution_count": 7,
   "metadata": {},
   "outputs": [
    {
     "data": {
      "text/plain": [
       "[0.4873639643192291,\n",
       " 0.5034860968589783,\n",
       " 0.2285832315683365,\n",
       " 0.3123461604118347,\n",
       " 0.5846319794654846]"
      ]
     },
     "execution_count": 7,
     "metadata": {},
     "output_type": "execute_result"
    }
   ],
   "source": [
    "propagate_sequence([0.5 for i in range(5)], dataset)"
   ]
  },
  {
   "cell_type": "markdown",
   "metadata": {},
   "source": [
    "To train the network, we need to construct a new dataset for each batch:"
   ]
  },
  {
   "cell_type": "code",
   "execution_count": 8,
   "metadata": {},
   "outputs": [],
   "source": [
    "def build_batch_dataset(context, dataset):\n",
    "    batch_dataset = []\n",
    "    for inputs,targets in dataset:\n",
    "        batch_dataset.append([[inputs,context], targets])\n",
    "        context = net.propagate_to(\"hidden\", [inputs, context])\n",
    "    return batch_dataset"
   ]
  },
  {
   "cell_type": "code",
   "execution_count": 9,
   "metadata": {},
   "outputs": [
    {
     "data": {
      "text/plain": [
       "[[[[0], [0.5, 0.5, 0.5, 0.5, 0.5]], [0]],\n",
       " [[[0],\n",
       "   [0.47303569316864014,\n",
       "    0.6354202628135681,\n",
       "    0.3951795995235443,\n",
       "    0.4589715301990509,\n",
       "    0.6186261177062988]],\n",
       "  [1]],\n",
       " [[[1],\n",
       "   [0.455324649810791,\n",
       "    0.65383380651474,\n",
       "    0.381974995136261,\n",
       "    0.44073593616485596,\n",
       "    0.6247968673706055]],\n",
       "  [0]]]"
      ]
     },
     "execution_count": 9,
     "metadata": {},
     "output_type": "execute_result"
    }
   ],
   "source": [
    "build_batch_dataset([0.5 for i in range(5)], dataset)"
   ]
  },
  {
   "cell_type": "markdown",
   "metadata": {},
   "source": [
    "For these tests, we will replace the net.dataset for each batch:"
   ]
  },
  {
   "cell_type": "code",
   "execution_count": 10,
   "metadata": {},
   "outputs": [],
   "source": [
    "net.dataset.load(\n",
    "    build_batch_dataset(context=[0.5 for i in range(5)],\n",
    "                        dataset=dataset))"
   ]
  },
  {
   "cell_type": "markdown",
   "metadata": {},
   "source": [
    "A test to make sure everything matches up:"
   ]
  },
  {
   "cell_type": "code",
   "execution_count": 11,
   "metadata": {},
   "outputs": [
    {
     "data": {
      "image/svg+xml": [
       "<svg height=\"288pt\" version=\"1.1\" viewBox=\"0 0 720 288\" width=\"720pt\" xmlns=\"http://www.w3.org/2000/svg\" xmlns:xlink=\"http://www.w3.org/1999/xlink\">\n",
       " <defs>\n",
       "  <style type=\"text/css\">\n",
       "*{stroke-linecap:butt;stroke-linejoin:round;}\n",
       "  </style>\n",
       " </defs>\n",
       " <g id=\"figure_1\">\n",
       "  <g id=\"patch_1\">\n",
       "   <path d=\"M 0 288  L 720 288  L 720 0  L 0 0  z \" style=\"fill:#ffffff;\"/>\n",
       "  </g>\n",
       "  <g id=\"axes_1\">\n",
       "   <g id=\"patch_2\">\n",
       "    <path d=\"M 90 252  L 343.636364 252  L 343.636364 34.56  L 90 34.56  z \" style=\"fill:#ffffff;\"/>\n",
       "   </g>\n",
       "   <g id=\"matplotlib.axis_1\">\n",
       "    <g id=\"xtick_1\">\n",
       "     <g id=\"line2d_1\">\n",
       "      <defs>\n",
       "       <path d=\"M 0 0  L 0 3.5  \" id=\"m39358d50a9\" style=\"stroke:#000000;stroke-width:0.8;\"/>\n",
       "      </defs>\n",
       "      <g>\n",
       "       <use style=\"stroke:#000000;stroke-width:0.8;\" x=\"101.528926\" xlink:href=\"#m39358d50a9\" y=\"252\"/>\n",
       "      </g>\n",
       "     </g>\n",
       "     <g id=\"text_1\">\n",
       "      <!-- 0.0 -->\n",
       "      <defs>\n",
       "       <path d=\"M 31.78125 66.40625  Q 24.171875 66.40625 20.328125 58.90625  Q 16.5 51.421875 16.5 36.375  Q 16.5 21.390625 20.328125 13.890625  Q 24.171875 6.390625 31.78125 6.390625  Q 39.453125 6.390625 43.28125 13.890625  Q 47.125 21.390625 47.125 36.375  Q 47.125 51.421875 43.28125 58.90625  Q 39.453125 66.40625 31.78125 66.40625  z M 31.78125 74.21875  Q 44.046875 74.21875 50.515625 64.515625  Q 56.984375 54.828125 56.984375 36.375  Q 56.984375 17.96875 50.515625 8.265625  Q 44.046875 -1.421875 31.78125 -1.421875  Q 19.53125 -1.421875 13.0625 8.265625  Q 6.59375 17.96875 6.59375 36.375  Q 6.59375 54.828125 13.0625 64.515625  Q 19.53125 74.21875 31.78125 74.21875  z \" id=\"DejaVuSans-30\"/>\n",
       "       <path d=\"M 10.6875 12.40625  L 21 12.40625  L 21 0  L 10.6875 0  z \" id=\"DejaVuSans-2e\"/>\n",
       "      </defs>\n",
       "      <g transform=\"translate(93.577363 266.598437)scale(0.1 -0.1)\">\n",
       "       <use xlink:href=\"#DejaVuSans-30\"/>\n",
       "       <use x=\"63.623047\" xlink:href=\"#DejaVuSans-2e\"/>\n",
       "       <use x=\"95.410156\" xlink:href=\"#DejaVuSans-30\"/>\n",
       "      </g>\n",
       "     </g>\n",
       "    </g>\n",
       "    <g id=\"xtick_2\">\n",
       "     <g id=\"line2d_2\">\n",
       "      <g>\n",
       "       <use style=\"stroke:#000000;stroke-width:0.8;\" x=\"147.644628\" xlink:href=\"#m39358d50a9\" y=\"252\"/>\n",
       "      </g>\n",
       "     </g>\n",
       "     <g id=\"text_2\">\n",
       "      <!-- 0.2 -->\n",
       "      <defs>\n",
       "       <path d=\"M 19.1875 8.296875  L 53.609375 8.296875  L 53.609375 0  L 7.328125 0  L 7.328125 8.296875  Q 12.9375 14.109375 22.625 23.890625  Q 32.328125 33.6875 34.8125 36.53125  Q 39.546875 41.84375 41.421875 45.53125  Q 43.3125 49.21875 43.3125 52.78125  Q 43.3125 58.59375 39.234375 62.25  Q 35.15625 65.921875 28.609375 65.921875  Q 23.96875 65.921875 18.8125 64.3125  Q 13.671875 62.703125 7.8125 59.421875  L 7.8125 69.390625  Q 13.765625 71.78125 18.9375 73  Q 24.125 74.21875 28.421875 74.21875  Q 39.75 74.21875 46.484375 68.546875  Q 53.21875 62.890625 53.21875 53.421875  Q 53.21875 48.921875 51.53125 44.890625  Q 49.859375 40.875 45.40625 35.40625  Q 44.1875 33.984375 37.640625 27.21875  Q 31.109375 20.453125 19.1875 8.296875  z \" id=\"DejaVuSans-32\"/>\n",
       "      </defs>\n",
       "      <g transform=\"translate(139.693066 266.598437)scale(0.1 -0.1)\">\n",
       "       <use xlink:href=\"#DejaVuSans-30\"/>\n",
       "       <use x=\"63.623047\" xlink:href=\"#DejaVuSans-2e\"/>\n",
       "       <use x=\"95.410156\" xlink:href=\"#DejaVuSans-32\"/>\n",
       "      </g>\n",
       "     </g>\n",
       "    </g>\n",
       "    <g id=\"xtick_3\">\n",
       "     <g id=\"line2d_3\">\n",
       "      <g>\n",
       "       <use style=\"stroke:#000000;stroke-width:0.8;\" x=\"193.760331\" xlink:href=\"#m39358d50a9\" y=\"252\"/>\n",
       "      </g>\n",
       "     </g>\n",
       "     <g id=\"text_3\">\n",
       "      <!-- 0.4 -->\n",
       "      <defs>\n",
       "       <path d=\"M 37.796875 64.3125  L 12.890625 25.390625  L 37.796875 25.390625  z M 35.203125 72.90625  L 47.609375 72.90625  L 47.609375 25.390625  L 58.015625 25.390625  L 58.015625 17.1875  L 47.609375 17.1875  L 47.609375 0  L 37.796875 0  L 37.796875 17.1875  L 4.890625 17.1875  L 4.890625 26.703125  z \" id=\"DejaVuSans-34\"/>\n",
       "      </defs>\n",
       "      <g transform=\"translate(185.808768 266.598437)scale(0.1 -0.1)\">\n",
       "       <use xlink:href=\"#DejaVuSans-30\"/>\n",
       "       <use x=\"63.623047\" xlink:href=\"#DejaVuSans-2e\"/>\n",
       "       <use x=\"95.410156\" xlink:href=\"#DejaVuSans-34\"/>\n",
       "      </g>\n",
       "     </g>\n",
       "    </g>\n",
       "    <g id=\"xtick_4\">\n",
       "     <g id=\"line2d_4\">\n",
       "      <g>\n",
       "       <use style=\"stroke:#000000;stroke-width:0.8;\" x=\"239.876033\" xlink:href=\"#m39358d50a9\" y=\"252\"/>\n",
       "      </g>\n",
       "     </g>\n",
       "     <g id=\"text_4\">\n",
       "      <!-- 0.6 -->\n",
       "      <defs>\n",
       "       <path d=\"M 33.015625 40.375  Q 26.375 40.375 22.484375 35.828125  Q 18.609375 31.296875 18.609375 23.390625  Q 18.609375 15.53125 22.484375 10.953125  Q 26.375 6.390625 33.015625 6.390625  Q 39.65625 6.390625 43.53125 10.953125  Q 47.40625 15.53125 47.40625 23.390625  Q 47.40625 31.296875 43.53125 35.828125  Q 39.65625 40.375 33.015625 40.375  z M 52.59375 71.296875  L 52.59375 62.3125  Q 48.875 64.0625 45.09375 64.984375  Q 41.3125 65.921875 37.59375 65.921875  Q 27.828125 65.921875 22.671875 59.328125  Q 17.53125 52.734375 16.796875 39.40625  Q 19.671875 43.65625 24.015625 45.921875  Q 28.375 48.1875 33.59375 48.1875  Q 44.578125 48.1875 50.953125 41.515625  Q 57.328125 34.859375 57.328125 23.390625  Q 57.328125 12.15625 50.6875 5.359375  Q 44.046875 -1.421875 33.015625 -1.421875  Q 20.359375 -1.421875 13.671875 8.265625  Q 6.984375 17.96875 6.984375 36.375  Q 6.984375 53.65625 15.1875 63.9375  Q 23.390625 74.21875 37.203125 74.21875  Q 40.921875 74.21875 44.703125 73.484375  Q 48.484375 72.75 52.59375 71.296875  z \" id=\"DejaVuSans-36\"/>\n",
       "      </defs>\n",
       "      <g transform=\"translate(231.924471 266.598437)scale(0.1 -0.1)\">\n",
       "       <use xlink:href=\"#DejaVuSans-30\"/>\n",
       "       <use x=\"63.623047\" xlink:href=\"#DejaVuSans-2e\"/>\n",
       "       <use x=\"95.410156\" xlink:href=\"#DejaVuSans-36\"/>\n",
       "      </g>\n",
       "     </g>\n",
       "    </g>\n",
       "    <g id=\"xtick_5\">\n",
       "     <g id=\"line2d_5\">\n",
       "      <g>\n",
       "       <use style=\"stroke:#000000;stroke-width:0.8;\" x=\"285.991736\" xlink:href=\"#m39358d50a9\" y=\"252\"/>\n",
       "      </g>\n",
       "     </g>\n",
       "     <g id=\"text_5\">\n",
       "      <!-- 0.8 -->\n",
       "      <defs>\n",
       "       <path d=\"M 31.78125 34.625  Q 24.75 34.625 20.71875 30.859375  Q 16.703125 27.09375 16.703125 20.515625  Q 16.703125 13.921875 20.71875 10.15625  Q 24.75 6.390625 31.78125 6.390625  Q 38.8125 6.390625 42.859375 10.171875  Q 46.921875 13.96875 46.921875 20.515625  Q 46.921875 27.09375 42.890625 30.859375  Q 38.875 34.625 31.78125 34.625  z M 21.921875 38.8125  Q 15.578125 40.375 12.03125 44.71875  Q 8.5 49.078125 8.5 55.328125  Q 8.5 64.0625 14.71875 69.140625  Q 20.953125 74.21875 31.78125 74.21875  Q 42.671875 74.21875 48.875 69.140625  Q 55.078125 64.0625 55.078125 55.328125  Q 55.078125 49.078125 51.53125 44.71875  Q 48 40.375 41.703125 38.8125  Q 48.828125 37.15625 52.796875 32.3125  Q 56.78125 27.484375 56.78125 20.515625  Q 56.78125 9.90625 50.3125 4.234375  Q 43.84375 -1.421875 31.78125 -1.421875  Q 19.734375 -1.421875 13.25 4.234375  Q 6.78125 9.90625 6.78125 20.515625  Q 6.78125 27.484375 10.78125 32.3125  Q 14.796875 37.15625 21.921875 38.8125  z M 18.3125 54.390625  Q 18.3125 48.734375 21.84375 45.5625  Q 25.390625 42.390625 31.78125 42.390625  Q 38.140625 42.390625 41.71875 45.5625  Q 45.3125 48.734375 45.3125 54.390625  Q 45.3125 60.0625 41.71875 63.234375  Q 38.140625 66.40625 31.78125 66.40625  Q 25.390625 66.40625 21.84375 63.234375  Q 18.3125 60.0625 18.3125 54.390625  z \" id=\"DejaVuSans-38\"/>\n",
       "      </defs>\n",
       "      <g transform=\"translate(278.040173 266.598437)scale(0.1 -0.1)\">\n",
       "       <use xlink:href=\"#DejaVuSans-30\"/>\n",
       "       <use x=\"63.623047\" xlink:href=\"#DejaVuSans-2e\"/>\n",
       "       <use x=\"95.410156\" xlink:href=\"#DejaVuSans-38\"/>\n",
       "      </g>\n",
       "     </g>\n",
       "    </g>\n",
       "    <g id=\"xtick_6\">\n",
       "     <g id=\"line2d_6\">\n",
       "      <g>\n",
       "       <use style=\"stroke:#000000;stroke-width:0.8;\" x=\"332.107438\" xlink:href=\"#m39358d50a9\" y=\"252\"/>\n",
       "      </g>\n",
       "     </g>\n",
       "     <g id=\"text_6\">\n",
       "      <!-- 1.0 -->\n",
       "      <defs>\n",
       "       <path d=\"M 12.40625 8.296875  L 28.515625 8.296875  L 28.515625 63.921875  L 10.984375 60.40625  L 10.984375 69.390625  L 28.421875 72.90625  L 38.28125 72.90625  L 38.28125 8.296875  L 54.390625 8.296875  L 54.390625 0  L 12.40625 0  z \" id=\"DejaVuSans-31\"/>\n",
       "      </defs>\n",
       "      <g transform=\"translate(324.155876 266.598437)scale(0.1 -0.1)\">\n",
       "       <use xlink:href=\"#DejaVuSans-31\"/>\n",
       "       <use x=\"63.623047\" xlink:href=\"#DejaVuSans-2e\"/>\n",
       "       <use x=\"95.410156\" xlink:href=\"#DejaVuSans-30\"/>\n",
       "      </g>\n",
       "     </g>\n",
       "    </g>\n",
       "    <g id=\"text_7\">\n",
       "     <!-- Epoch -->\n",
       "     <defs>\n",
       "      <path d=\"M 9.8125 72.90625  L 55.90625 72.90625  L 55.90625 64.59375  L 19.671875 64.59375  L 19.671875 43.015625  L 54.390625 43.015625  L 54.390625 34.71875  L 19.671875 34.71875  L 19.671875 8.296875  L 56.78125 8.296875  L 56.78125 0  L 9.8125 0  z \" id=\"DejaVuSans-45\"/>\n",
       "      <path d=\"M 18.109375 8.203125  L 18.109375 -20.796875  L 9.078125 -20.796875  L 9.078125 54.6875  L 18.109375 54.6875  L 18.109375 46.390625  Q 20.953125 51.265625 25.265625 53.625  Q 29.59375 56 35.59375 56  Q 45.5625 56 51.78125 48.09375  Q 58.015625 40.1875 58.015625 27.296875  Q 58.015625 14.40625 51.78125 6.484375  Q 45.5625 -1.421875 35.59375 -1.421875  Q 29.59375 -1.421875 25.265625 0.953125  Q 20.953125 3.328125 18.109375 8.203125  z M 48.6875 27.296875  Q 48.6875 37.203125 44.609375 42.84375  Q 40.53125 48.484375 33.40625 48.484375  Q 26.265625 48.484375 22.1875 42.84375  Q 18.109375 37.203125 18.109375 27.296875  Q 18.109375 17.390625 22.1875 11.75  Q 26.265625 6.109375 33.40625 6.109375  Q 40.53125 6.109375 44.609375 11.75  Q 48.6875 17.390625 48.6875 27.296875  z \" id=\"DejaVuSans-70\"/>\n",
       "      <path d=\"M 30.609375 48.390625  Q 23.390625 48.390625 19.1875 42.75  Q 14.984375 37.109375 14.984375 27.296875  Q 14.984375 17.484375 19.15625 11.84375  Q 23.34375 6.203125 30.609375 6.203125  Q 37.796875 6.203125 41.984375 11.859375  Q 46.1875 17.53125 46.1875 27.296875  Q 46.1875 37.015625 41.984375 42.703125  Q 37.796875 48.390625 30.609375 48.390625  z M 30.609375 56  Q 42.328125 56 49.015625 48.375  Q 55.71875 40.765625 55.71875 27.296875  Q 55.71875 13.875 49.015625 6.21875  Q 42.328125 -1.421875 30.609375 -1.421875  Q 18.84375 -1.421875 12.171875 6.21875  Q 5.515625 13.875 5.515625 27.296875  Q 5.515625 40.765625 12.171875 48.375  Q 18.84375 56 30.609375 56  z \" id=\"DejaVuSans-6f\"/>\n",
       "      <path d=\"M 48.78125 52.59375  L 48.78125 44.1875  Q 44.96875 46.296875 41.140625 47.34375  Q 37.3125 48.390625 33.40625 48.390625  Q 24.65625 48.390625 19.8125 42.84375  Q 14.984375 37.3125 14.984375 27.296875  Q 14.984375 17.28125 19.8125 11.734375  Q 24.65625 6.203125 33.40625 6.203125  Q 37.3125 6.203125 41.140625 7.25  Q 44.96875 8.296875 48.78125 10.40625  L 48.78125 2.09375  Q 45.015625 0.34375 40.984375 -0.53125  Q 36.96875 -1.421875 32.421875 -1.421875  Q 20.0625 -1.421875 12.78125 6.34375  Q 5.515625 14.109375 5.515625 27.296875  Q 5.515625 40.671875 12.859375 48.328125  Q 20.21875 56 33.015625 56  Q 37.15625 56 41.109375 55.140625  Q 45.0625 54.296875 48.78125 52.59375  z \" id=\"DejaVuSans-63\"/>\n",
       "      <path d=\"M 54.890625 33.015625  L 54.890625 0  L 45.90625 0  L 45.90625 32.71875  Q 45.90625 40.484375 42.875 44.328125  Q 39.84375 48.1875 33.796875 48.1875  Q 26.515625 48.1875 22.3125 43.546875  Q 18.109375 38.921875 18.109375 30.90625  L 18.109375 0  L 9.078125 0  L 9.078125 75.984375  L 18.109375 75.984375  L 18.109375 46.1875  Q 21.34375 51.125 25.703125 53.5625  Q 30.078125 56 35.796875 56  Q 45.21875 56 50.046875 50.171875  Q 54.890625 44.34375 54.890625 33.015625  z \" id=\"DejaVuSans-68\"/>\n",
       "     </defs>\n",
       "     <g transform=\"translate(201.507244 280.276563)scale(0.1 -0.1)\">\n",
       "      <use xlink:href=\"#DejaVuSans-45\"/>\n",
       "      <use x=\"63.183594\" xlink:href=\"#DejaVuSans-70\"/>\n",
       "      <use x=\"126.660156\" xlink:href=\"#DejaVuSans-6f\"/>\n",
       "      <use x=\"187.841797\" xlink:href=\"#DejaVuSans-63\"/>\n",
       "      <use x=\"242.822266\" xlink:href=\"#DejaVuSans-68\"/>\n",
       "     </g>\n",
       "    </g>\n",
       "   </g>\n",
       "   <g id=\"matplotlib.axis_2\">\n",
       "    <g id=\"ytick_1\">\n",
       "     <g id=\"line2d_7\">\n",
       "      <defs>\n",
       "       <path d=\"M 0 0  L -3.5 0  \" id=\"me3c29f946f\" style=\"stroke:#000000;stroke-width:0.8;\"/>\n",
       "      </defs>\n",
       "      <g>\n",
       "       <use style=\"stroke:#000000;stroke-width:0.8;\" x=\"90\" xlink:href=\"#me3c29f946f\" y=\"252\"/>\n",
       "      </g>\n",
       "     </g>\n",
       "     <g id=\"text_8\">\n",
       "      <!-- 0.00 -->\n",
       "      <g transform=\"translate(60.734375 255.799219)scale(0.1 -0.1)\">\n",
       "       <use xlink:href=\"#DejaVuSans-30\"/>\n",
       "       <use x=\"63.623047\" xlink:href=\"#DejaVuSans-2e\"/>\n",
       "       <use x=\"95.410156\" xlink:href=\"#DejaVuSans-30\"/>\n",
       "       <use x=\"159.033203\" xlink:href=\"#DejaVuSans-30\"/>\n",
       "      </g>\n",
       "     </g>\n",
       "    </g>\n",
       "    <g id=\"ytick_2\">\n",
       "     <g id=\"line2d_8\">\n",
       "      <g>\n",
       "       <use style=\"stroke:#000000;stroke-width:0.8;\" x=\"90\" xlink:href=\"#me3c29f946f\" y=\"207.355466\"/>\n",
       "      </g>\n",
       "     </g>\n",
       "     <g id=\"text_9\">\n",
       "      <!-- 0.05 -->\n",
       "      <defs>\n",
       "       <path d=\"M 10.796875 72.90625  L 49.515625 72.90625  L 49.515625 64.59375  L 19.828125 64.59375  L 19.828125 46.734375  Q 21.96875 47.46875 24.109375 47.828125  Q 26.265625 48.1875 28.421875 48.1875  Q 40.625 48.1875 47.75 41.5  Q 54.890625 34.8125 54.890625 23.390625  Q 54.890625 11.625 47.5625 5.09375  Q 40.234375 -1.421875 26.90625 -1.421875  Q 22.3125 -1.421875 17.546875 -0.640625  Q 12.796875 0.140625 7.71875 1.703125  L 7.71875 11.625  Q 12.109375 9.234375 16.796875 8.0625  Q 21.484375 6.890625 26.703125 6.890625  Q 35.15625 6.890625 40.078125 11.328125  Q 45.015625 15.765625 45.015625 23.390625  Q 45.015625 31 40.078125 35.4375  Q 35.15625 39.890625 26.703125 39.890625  Q 22.75 39.890625 18.8125 39.015625  Q 14.890625 38.140625 10.796875 36.28125  z \" id=\"DejaVuSans-35\"/>\n",
       "      </defs>\n",
       "      <g transform=\"translate(60.734375 211.154685)scale(0.1 -0.1)\">\n",
       "       <use xlink:href=\"#DejaVuSans-30\"/>\n",
       "       <use x=\"63.623047\" xlink:href=\"#DejaVuSans-2e\"/>\n",
       "       <use x=\"95.410156\" xlink:href=\"#DejaVuSans-30\"/>\n",
       "       <use x=\"159.033203\" xlink:href=\"#DejaVuSans-35\"/>\n",
       "      </g>\n",
       "     </g>\n",
       "    </g>\n",
       "    <g id=\"ytick_3\">\n",
       "     <g id=\"line2d_9\">\n",
       "      <g>\n",
       "       <use style=\"stroke:#000000;stroke-width:0.8;\" x=\"90\" xlink:href=\"#me3c29f946f\" y=\"162.710932\"/>\n",
       "      </g>\n",
       "     </g>\n",
       "     <g id=\"text_10\">\n",
       "      <!-- 0.10 -->\n",
       "      <g transform=\"translate(60.734375 166.510151)scale(0.1 -0.1)\">\n",
       "       <use xlink:href=\"#DejaVuSans-30\"/>\n",
       "       <use x=\"63.623047\" xlink:href=\"#DejaVuSans-2e\"/>\n",
       "       <use x=\"95.410156\" xlink:href=\"#DejaVuSans-31\"/>\n",
       "       <use x=\"159.033203\" xlink:href=\"#DejaVuSans-30\"/>\n",
       "      </g>\n",
       "     </g>\n",
       "    </g>\n",
       "    <g id=\"ytick_4\">\n",
       "     <g id=\"line2d_10\">\n",
       "      <g>\n",
       "       <use style=\"stroke:#000000;stroke-width:0.8;\" x=\"90\" xlink:href=\"#me3c29f946f\" y=\"118.066398\"/>\n",
       "      </g>\n",
       "     </g>\n",
       "     <g id=\"text_11\">\n",
       "      <!-- 0.15 -->\n",
       "      <g transform=\"translate(60.734375 121.865616)scale(0.1 -0.1)\">\n",
       "       <use xlink:href=\"#DejaVuSans-30\"/>\n",
       "       <use x=\"63.623047\" xlink:href=\"#DejaVuSans-2e\"/>\n",
       "       <use x=\"95.410156\" xlink:href=\"#DejaVuSans-31\"/>\n",
       "       <use x=\"159.033203\" xlink:href=\"#DejaVuSans-35\"/>\n",
       "      </g>\n",
       "     </g>\n",
       "    </g>\n",
       "    <g id=\"ytick_5\">\n",
       "     <g id=\"line2d_11\">\n",
       "      <g>\n",
       "       <use style=\"stroke:#000000;stroke-width:0.8;\" x=\"90\" xlink:href=\"#me3c29f946f\" y=\"73.421864\"/>\n",
       "      </g>\n",
       "     </g>\n",
       "     <g id=\"text_12\">\n",
       "      <!-- 0.20 -->\n",
       "      <g transform=\"translate(60.734375 77.221082)scale(0.1 -0.1)\">\n",
       "       <use xlink:href=\"#DejaVuSans-30\"/>\n",
       "       <use x=\"63.623047\" xlink:href=\"#DejaVuSans-2e\"/>\n",
       "       <use x=\"95.410156\" xlink:href=\"#DejaVuSans-32\"/>\n",
       "       <use x=\"159.033203\" xlink:href=\"#DejaVuSans-30\"/>\n",
       "      </g>\n",
       "     </g>\n",
       "    </g>\n",
       "   </g>\n",
       "   <g id=\"line2d_12\">\n",
       "    <path clip-path=\"url(#p94cb2b1378)\" d=\"M 101.528926 45.895735  L 332.107438 45.895735  \" style=\"fill:none;stroke:#1f77b4;stroke-linecap:square;stroke-width:1.5;\"/>\n",
       "   </g>\n",
       "   <g id=\"patch_3\">\n",
       "    <path d=\"M 90 252  L 90 34.56  \" style=\"fill:none;stroke:#000000;stroke-linecap:square;stroke-linejoin:miter;stroke-width:0.8;\"/>\n",
       "   </g>\n",
       "   <g id=\"patch_4\">\n",
       "    <path d=\"M 343.636364 252  L 343.636364 34.56  \" style=\"fill:none;stroke:#000000;stroke-linecap:square;stroke-linejoin:miter;stroke-width:0.8;\"/>\n",
       "   </g>\n",
       "   <g id=\"patch_5\">\n",
       "    <path d=\"M 90 252  L 343.636364 252  \" style=\"fill:none;stroke:#000000;stroke-linecap:square;stroke-linejoin:miter;stroke-width:0.8;\"/>\n",
       "   </g>\n",
       "   <g id=\"patch_6\">\n",
       "    <path d=\"M 90 34.56  L 343.636364 34.56  \" style=\"fill:none;stroke:#000000;stroke-linecap:square;stroke-linejoin:miter;stroke-width:0.8;\"/>\n",
       "   </g>\n",
       "   <g id=\"text_13\">\n",
       "    <!-- Polka in Time: Error -->\n",
       "    <defs>\n",
       "     <path d=\"M 19.671875 64.796875  L 19.671875 37.40625  L 32.078125 37.40625  Q 38.96875 37.40625 42.71875 40.96875  Q 46.484375 44.53125 46.484375 51.125  Q 46.484375 57.671875 42.71875 61.234375  Q 38.96875 64.796875 32.078125 64.796875  z M 9.8125 72.90625  L 32.078125 72.90625  Q 44.34375 72.90625 50.609375 67.359375  Q 56.890625 61.8125 56.890625 51.125  Q 56.890625 40.328125 50.609375 34.8125  Q 44.34375 29.296875 32.078125 29.296875  L 19.671875 29.296875  L 19.671875 0  L 9.8125 0  z \" id=\"DejaVuSans-50\"/>\n",
       "     <path d=\"M 9.421875 75.984375  L 18.40625 75.984375  L 18.40625 0  L 9.421875 0  z \" id=\"DejaVuSans-6c\"/>\n",
       "     <path d=\"M 9.078125 75.984375  L 18.109375 75.984375  L 18.109375 31.109375  L 44.921875 54.6875  L 56.390625 54.6875  L 27.390625 29.109375  L 57.625 0  L 45.90625 0  L 18.109375 26.703125  L 18.109375 0  L 9.078125 0  z \" id=\"DejaVuSans-6b\"/>\n",
       "     <path d=\"M 34.28125 27.484375  Q 23.390625 27.484375 19.1875 25  Q 14.984375 22.515625 14.984375 16.5  Q 14.984375 11.71875 18.140625 8.90625  Q 21.296875 6.109375 26.703125 6.109375  Q 34.1875 6.109375 38.703125 11.40625  Q 43.21875 16.703125 43.21875 25.484375  L 43.21875 27.484375  z M 52.203125 31.203125  L 52.203125 0  L 43.21875 0  L 43.21875 8.296875  Q 40.140625 3.328125 35.546875 0.953125  Q 30.953125 -1.421875 24.3125 -1.421875  Q 15.921875 -1.421875 10.953125 3.296875  Q 6 8.015625 6 15.921875  Q 6 25.140625 12.171875 29.828125  Q 18.359375 34.515625 30.609375 34.515625  L 43.21875 34.515625  L 43.21875 35.40625  Q 43.21875 41.609375 39.140625 45  Q 35.0625 48.390625 27.6875 48.390625  Q 23 48.390625 18.546875 47.265625  Q 14.109375 46.140625 10.015625 43.890625  L 10.015625 52.203125  Q 14.9375 54.109375 19.578125 55.046875  Q 24.21875 56 28.609375 56  Q 40.484375 56 46.34375 49.84375  Q 52.203125 43.703125 52.203125 31.203125  z \" id=\"DejaVuSans-61\"/>\n",
       "     <path id=\"DejaVuSans-20\"/>\n",
       "     <path d=\"M 9.421875 54.6875  L 18.40625 54.6875  L 18.40625 0  L 9.421875 0  z M 9.421875 75.984375  L 18.40625 75.984375  L 18.40625 64.59375  L 9.421875 64.59375  z \" id=\"DejaVuSans-69\"/>\n",
       "     <path d=\"M 54.890625 33.015625  L 54.890625 0  L 45.90625 0  L 45.90625 32.71875  Q 45.90625 40.484375 42.875 44.328125  Q 39.84375 48.1875 33.796875 48.1875  Q 26.515625 48.1875 22.3125 43.546875  Q 18.109375 38.921875 18.109375 30.90625  L 18.109375 0  L 9.078125 0  L 9.078125 54.6875  L 18.109375 54.6875  L 18.109375 46.1875  Q 21.34375 51.125 25.703125 53.5625  Q 30.078125 56 35.796875 56  Q 45.21875 56 50.046875 50.171875  Q 54.890625 44.34375 54.890625 33.015625  z \" id=\"DejaVuSans-6e\"/>\n",
       "     <path d=\"M -0.296875 72.90625  L 61.375 72.90625  L 61.375 64.59375  L 35.5 64.59375  L 35.5 0  L 25.59375 0  L 25.59375 64.59375  L -0.296875 64.59375  z \" id=\"DejaVuSans-54\"/>\n",
       "     <path d=\"M 52 44.1875  Q 55.375 50.25 60.0625 53.125  Q 64.75 56 71.09375 56  Q 79.640625 56 84.28125 50.015625  Q 88.921875 44.046875 88.921875 33.015625  L 88.921875 0  L 79.890625 0  L 79.890625 32.71875  Q 79.890625 40.578125 77.09375 44.375  Q 74.3125 48.1875 68.609375 48.1875  Q 61.625 48.1875 57.5625 43.546875  Q 53.515625 38.921875 53.515625 30.90625  L 53.515625 0  L 44.484375 0  L 44.484375 32.71875  Q 44.484375 40.625 41.703125 44.40625  Q 38.921875 48.1875 33.109375 48.1875  Q 26.21875 48.1875 22.15625 43.53125  Q 18.109375 38.875 18.109375 30.90625  L 18.109375 0  L 9.078125 0  L 9.078125 54.6875  L 18.109375 54.6875  L 18.109375 46.1875  Q 21.1875 51.21875 25.484375 53.609375  Q 29.78125 56 35.6875 56  Q 41.65625 56 45.828125 52.96875  Q 50 49.953125 52 44.1875  z \" id=\"DejaVuSans-6d\"/>\n",
       "     <path d=\"M 56.203125 29.59375  L 56.203125 25.203125  L 14.890625 25.203125  Q 15.484375 15.921875 20.484375 11.0625  Q 25.484375 6.203125 34.421875 6.203125  Q 39.59375 6.203125 44.453125 7.46875  Q 49.3125 8.734375 54.109375 11.28125  L 54.109375 2.78125  Q 49.265625 0.734375 44.1875 -0.34375  Q 39.109375 -1.421875 33.890625 -1.421875  Q 20.796875 -1.421875 13.15625 6.1875  Q 5.515625 13.8125 5.515625 26.8125  Q 5.515625 40.234375 12.765625 48.109375  Q 20.015625 56 32.328125 56  Q 43.359375 56 49.78125 48.890625  Q 56.203125 41.796875 56.203125 29.59375  z M 47.21875 32.234375  Q 47.125 39.59375 43.09375 43.984375  Q 39.0625 48.390625 32.421875 48.390625  Q 24.90625 48.390625 20.390625 44.140625  Q 15.875 39.890625 15.1875 32.171875  z \" id=\"DejaVuSans-65\"/>\n",
       "     <path d=\"M 11.71875 12.40625  L 22.015625 12.40625  L 22.015625 0  L 11.71875 0  z M 11.71875 51.703125  L 22.015625 51.703125  L 22.015625 39.3125  L 11.71875 39.3125  z \" id=\"DejaVuSans-3a\"/>\n",
       "     <path d=\"M 41.109375 46.296875  Q 39.59375 47.171875 37.8125 47.578125  Q 36.03125 48 33.890625 48  Q 26.265625 48 22.1875 43.046875  Q 18.109375 38.09375 18.109375 28.8125  L 18.109375 0  L 9.078125 0  L 9.078125 54.6875  L 18.109375 54.6875  L 18.109375 46.1875  Q 20.953125 51.171875 25.484375 53.578125  Q 30.03125 56 36.53125 56  Q 37.453125 56 38.578125 55.875  Q 39.703125 55.765625 41.0625 55.515625  z \" id=\"DejaVuSans-72\"/>\n",
       "    </defs>\n",
       "    <g transform=\"translate(157.779119 28.56)scale(0.12 -0.12)\">\n",
       "     <use xlink:href=\"#DejaVuSans-50\"/>\n",
       "     <use x=\"60.255859\" xlink:href=\"#DejaVuSans-6f\"/>\n",
       "     <use x=\"121.4375\" xlink:href=\"#DejaVuSans-6c\"/>\n",
       "     <use x=\"149.220703\" xlink:href=\"#DejaVuSans-6b\"/>\n",
       "     <use x=\"207.115234\" xlink:href=\"#DejaVuSans-61\"/>\n",
       "     <use x=\"268.394531\" xlink:href=\"#DejaVuSans-20\"/>\n",
       "     <use x=\"300.181641\" xlink:href=\"#DejaVuSans-69\"/>\n",
       "     <use x=\"327.964844\" xlink:href=\"#DejaVuSans-6e\"/>\n",
       "     <use x=\"391.34375\" xlink:href=\"#DejaVuSans-20\"/>\n",
       "     <use x=\"423.130859\" xlink:href=\"#DejaVuSans-54\"/>\n",
       "     <use x=\"484.167969\" xlink:href=\"#DejaVuSans-69\"/>\n",
       "     <use x=\"511.951172\" xlink:href=\"#DejaVuSans-6d\"/>\n",
       "     <use x=\"609.363281\" xlink:href=\"#DejaVuSans-65\"/>\n",
       "     <use x=\"670.886719\" xlink:href=\"#DejaVuSans-3a\"/>\n",
       "     <use x=\"704.578125\" xlink:href=\"#DejaVuSans-20\"/>\n",
       "     <use x=\"736.365234\" xlink:href=\"#DejaVuSans-45\"/>\n",
       "     <use x=\"799.548828\" xlink:href=\"#DejaVuSans-72\"/>\n",
       "     <use x=\"840.646484\" xlink:href=\"#DejaVuSans-72\"/>\n",
       "     <use x=\"881.728516\" xlink:href=\"#DejaVuSans-6f\"/>\n",
       "     <use x=\"942.910156\" xlink:href=\"#DejaVuSans-72\"/>\n",
       "    </g>\n",
       "   </g>\n",
       "   <g id=\"legend_1\">\n",
       "    <g id=\"patch_7\">\n",
       "     <path d=\"M 97 247  L 188.365625 247  Q 190.365625 247 190.365625 245  L 190.365625 231.321875  Q 190.365625 229.321875 188.365625 229.321875  L 97 229.321875  Q 95 229.321875 95 231.321875  L 95 245  Q 95 247 97 247  z \" style=\"fill:#ffffff;opacity:0.8;stroke:#cccccc;stroke-linejoin:miter;\"/>\n",
       "    </g>\n",
       "    <g id=\"line2d_13\">\n",
       "     <path d=\"M 99 237.420312  L 119 237.420312  \" style=\"fill:none;stroke:#1f77b4;stroke-linecap:square;stroke-width:1.5;\"/>\n",
       "    </g>\n",
       "    <g id=\"line2d_14\"/>\n",
       "    <g id=\"text_14\">\n",
       "     <!-- Training set -->\n",
       "     <defs>\n",
       "      <path d=\"M 45.40625 27.984375  Q 45.40625 37.75 41.375 43.109375  Q 37.359375 48.484375 30.078125 48.484375  Q 22.859375 48.484375 18.828125 43.109375  Q 14.796875 37.75 14.796875 27.984375  Q 14.796875 18.265625 18.828125 12.890625  Q 22.859375 7.515625 30.078125 7.515625  Q 37.359375 7.515625 41.375 12.890625  Q 45.40625 18.265625 45.40625 27.984375  z M 54.390625 6.78125  Q 54.390625 -7.171875 48.1875 -13.984375  Q 42 -20.796875 29.203125 -20.796875  Q 24.46875 -20.796875 20.265625 -20.09375  Q 16.0625 -19.390625 12.109375 -17.921875  L 12.109375 -9.1875  Q 16.0625 -11.328125 19.921875 -12.34375  Q 23.78125 -13.375 27.78125 -13.375  Q 36.625 -13.375 41.015625 -8.765625  Q 45.40625 -4.15625 45.40625 5.171875  L 45.40625 9.625  Q 42.625 4.78125 38.28125 2.390625  Q 33.9375 0 27.875 0  Q 17.828125 0 11.671875 7.65625  Q 5.515625 15.328125 5.515625 27.984375  Q 5.515625 40.671875 11.671875 48.328125  Q 17.828125 56 27.875 56  Q 33.9375 56 38.28125 53.609375  Q 42.625 51.21875 45.40625 46.390625  L 45.40625 54.6875  L 54.390625 54.6875  z \" id=\"DejaVuSans-67\"/>\n",
       "      <path d=\"M 44.28125 53.078125  L 44.28125 44.578125  Q 40.484375 46.53125 36.375 47.5  Q 32.28125 48.484375 27.875 48.484375  Q 21.1875 48.484375 17.84375 46.4375  Q 14.5 44.390625 14.5 40.28125  Q 14.5 37.15625 16.890625 35.375  Q 19.28125 33.59375 26.515625 31.984375  L 29.59375 31.296875  Q 39.15625 29.25 43.1875 25.515625  Q 47.21875 21.78125 47.21875 15.09375  Q 47.21875 7.46875 41.1875 3.015625  Q 35.15625 -1.421875 24.609375 -1.421875  Q 20.21875 -1.421875 15.453125 -0.5625  Q 10.6875 0.296875 5.421875 2  L 5.421875 11.28125  Q 10.40625 8.6875 15.234375 7.390625  Q 20.0625 6.109375 24.8125 6.109375  Q 31.15625 6.109375 34.5625 8.28125  Q 37.984375 10.453125 37.984375 14.40625  Q 37.984375 18.0625 35.515625 20.015625  Q 33.0625 21.96875 24.703125 23.78125  L 21.578125 24.515625  Q 13.234375 26.265625 9.515625 29.90625  Q 5.8125 33.546875 5.8125 39.890625  Q 5.8125 47.609375 11.28125 51.796875  Q 16.75 56 26.8125 56  Q 31.78125 56 36.171875 55.265625  Q 40.578125 54.546875 44.28125 53.078125  z \" id=\"DejaVuSans-73\"/>\n",
       "      <path d=\"M 18.3125 70.21875  L 18.3125 54.6875  L 36.8125 54.6875  L 36.8125 47.703125  L 18.3125 47.703125  L 18.3125 18.015625  Q 18.3125 11.328125 20.140625 9.421875  Q 21.96875 7.515625 27.59375 7.515625  L 36.8125 7.515625  L 36.8125 0  L 27.59375 0  Q 17.1875 0 13.234375 3.875  Q 9.28125 7.765625 9.28125 18.015625  L 9.28125 47.703125  L 2.6875 47.703125  L 2.6875 54.6875  L 9.28125 54.6875  L 9.28125 70.21875  z \" id=\"DejaVuSans-74\"/>\n",
       "     </defs>\n",
       "     <g transform=\"translate(127 240.920312)scale(0.1 -0.1)\">\n",
       "      <use xlink:href=\"#DejaVuSans-54\"/>\n",
       "      <use x=\"60.865234\" xlink:href=\"#DejaVuSans-72\"/>\n",
       "      <use x=\"101.978516\" xlink:href=\"#DejaVuSans-61\"/>\n",
       "      <use x=\"163.257812\" xlink:href=\"#DejaVuSans-69\"/>\n",
       "      <use x=\"191.041016\" xlink:href=\"#DejaVuSans-6e\"/>\n",
       "      <use x=\"254.419922\" xlink:href=\"#DejaVuSans-69\"/>\n",
       "      <use x=\"282.203125\" xlink:href=\"#DejaVuSans-6e\"/>\n",
       "      <use x=\"345.582031\" xlink:href=\"#DejaVuSans-67\"/>\n",
       "      <use x=\"409.058594\" xlink:href=\"#DejaVuSans-20\"/>\n",
       "      <use x=\"440.845703\" xlink:href=\"#DejaVuSans-73\"/>\n",
       "      <use x=\"492.945312\" xlink:href=\"#DejaVuSans-65\"/>\n",
       "      <use x=\"554.46875\" xlink:href=\"#DejaVuSans-74\"/>\n",
       "     </g>\n",
       "    </g>\n",
       "   </g>\n",
       "  </g>\n",
       "  <g id=\"axes_2\">\n",
       "   <g id=\"patch_8\">\n",
       "    <path d=\"M 394.363636 252  L 648 252  L 648 34.56  L 394.363636 34.56  z \" style=\"fill:#ffffff;\"/>\n",
       "   </g>\n",
       "   <g id=\"matplotlib.axis_3\">\n",
       "    <g id=\"xtick_7\">\n",
       "     <g id=\"line2d_15\">\n",
       "      <g>\n",
       "       <use style=\"stroke:#000000;stroke-width:0.8;\" x=\"405.892562\" xlink:href=\"#m39358d50a9\" y=\"252\"/>\n",
       "      </g>\n",
       "     </g>\n",
       "     <g id=\"text_15\">\n",
       "      <!-- 0.0 -->\n",
       "      <g transform=\"translate(397.940999 266.598437)scale(0.1 -0.1)\">\n",
       "       <use xlink:href=\"#DejaVuSans-30\"/>\n",
       "       <use x=\"63.623047\" xlink:href=\"#DejaVuSans-2e\"/>\n",
       "       <use x=\"95.410156\" xlink:href=\"#DejaVuSans-30\"/>\n",
       "      </g>\n",
       "     </g>\n",
       "    </g>\n",
       "    <g id=\"xtick_8\">\n",
       "     <g id=\"line2d_16\">\n",
       "      <g>\n",
       "       <use style=\"stroke:#000000;stroke-width:0.8;\" x=\"452.008264\" xlink:href=\"#m39358d50a9\" y=\"252\"/>\n",
       "      </g>\n",
       "     </g>\n",
       "     <g id=\"text_16\">\n",
       "      <!-- 0.2 -->\n",
       "      <g transform=\"translate(444.056702 266.598437)scale(0.1 -0.1)\">\n",
       "       <use xlink:href=\"#DejaVuSans-30\"/>\n",
       "       <use x=\"63.623047\" xlink:href=\"#DejaVuSans-2e\"/>\n",
       "       <use x=\"95.410156\" xlink:href=\"#DejaVuSans-32\"/>\n",
       "      </g>\n",
       "     </g>\n",
       "    </g>\n",
       "    <g id=\"xtick_9\">\n",
       "     <g id=\"line2d_17\">\n",
       "      <g>\n",
       "       <use style=\"stroke:#000000;stroke-width:0.8;\" x=\"498.123967\" xlink:href=\"#m39358d50a9\" y=\"252\"/>\n",
       "      </g>\n",
       "     </g>\n",
       "     <g id=\"text_17\">\n",
       "      <!-- 0.4 -->\n",
       "      <g transform=\"translate(490.172404 266.598437)scale(0.1 -0.1)\">\n",
       "       <use xlink:href=\"#DejaVuSans-30\"/>\n",
       "       <use x=\"63.623047\" xlink:href=\"#DejaVuSans-2e\"/>\n",
       "       <use x=\"95.410156\" xlink:href=\"#DejaVuSans-34\"/>\n",
       "      </g>\n",
       "     </g>\n",
       "    </g>\n",
       "    <g id=\"xtick_10\">\n",
       "     <g id=\"line2d_18\">\n",
       "      <g>\n",
       "       <use style=\"stroke:#000000;stroke-width:0.8;\" x=\"544.239669\" xlink:href=\"#m39358d50a9\" y=\"252\"/>\n",
       "      </g>\n",
       "     </g>\n",
       "     <g id=\"text_18\">\n",
       "      <!-- 0.6 -->\n",
       "      <g transform=\"translate(536.288107 266.598437)scale(0.1 -0.1)\">\n",
       "       <use xlink:href=\"#DejaVuSans-30\"/>\n",
       "       <use x=\"63.623047\" xlink:href=\"#DejaVuSans-2e\"/>\n",
       "       <use x=\"95.410156\" xlink:href=\"#DejaVuSans-36\"/>\n",
       "      </g>\n",
       "     </g>\n",
       "    </g>\n",
       "    <g id=\"xtick_11\">\n",
       "     <g id=\"line2d_19\">\n",
       "      <g>\n",
       "       <use style=\"stroke:#000000;stroke-width:0.8;\" x=\"590.355372\" xlink:href=\"#m39358d50a9\" y=\"252\"/>\n",
       "      </g>\n",
       "     </g>\n",
       "     <g id=\"text_19\">\n",
       "      <!-- 0.8 -->\n",
       "      <g transform=\"translate(582.403809 266.598437)scale(0.1 -0.1)\">\n",
       "       <use xlink:href=\"#DejaVuSans-30\"/>\n",
       "       <use x=\"63.623047\" xlink:href=\"#DejaVuSans-2e\"/>\n",
       "       <use x=\"95.410156\" xlink:href=\"#DejaVuSans-38\"/>\n",
       "      </g>\n",
       "     </g>\n",
       "    </g>\n",
       "    <g id=\"xtick_12\">\n",
       "     <g id=\"line2d_20\">\n",
       "      <g>\n",
       "       <use style=\"stroke:#000000;stroke-width:0.8;\" x=\"636.471074\" xlink:href=\"#m39358d50a9\" y=\"252\"/>\n",
       "      </g>\n",
       "     </g>\n",
       "     <g id=\"text_20\">\n",
       "      <!-- 1.0 -->\n",
       "      <g transform=\"translate(628.519512 266.598437)scale(0.1 -0.1)\">\n",
       "       <use xlink:href=\"#DejaVuSans-31\"/>\n",
       "       <use x=\"63.623047\" xlink:href=\"#DejaVuSans-2e\"/>\n",
       "       <use x=\"95.410156\" xlink:href=\"#DejaVuSans-30\"/>\n",
       "      </g>\n",
       "     </g>\n",
       "    </g>\n",
       "    <g id=\"text_21\">\n",
       "     <!-- Epoch -->\n",
       "     <g transform=\"translate(505.870881 280.276563)scale(0.1 -0.1)\">\n",
       "      <use xlink:href=\"#DejaVuSans-45\"/>\n",
       "      <use x=\"63.183594\" xlink:href=\"#DejaVuSans-70\"/>\n",
       "      <use x=\"126.660156\" xlink:href=\"#DejaVuSans-6f\"/>\n",
       "      <use x=\"187.841797\" xlink:href=\"#DejaVuSans-63\"/>\n",
       "      <use x=\"242.822266\" xlink:href=\"#DejaVuSans-68\"/>\n",
       "     </g>\n",
       "    </g>\n",
       "   </g>\n",
       "   <g id=\"matplotlib.axis_4\">\n",
       "    <g id=\"ytick_6\">\n",
       "     <g id=\"line2d_21\">\n",
       "      <g>\n",
       "       <use style=\"stroke:#000000;stroke-width:0.8;\" x=\"394.363636\" xlink:href=\"#me3c29f946f\" y=\"233.88\"/>\n",
       "      </g>\n",
       "     </g>\n",
       "     <g id=\"text_22\">\n",
       "      <!-- 0.0 -->\n",
       "      <g transform=\"translate(371.460511 237.679219)scale(0.1 -0.1)\">\n",
       "       <use xlink:href=\"#DejaVuSans-30\"/>\n",
       "       <use x=\"63.623047\" xlink:href=\"#DejaVuSans-2e\"/>\n",
       "       <use x=\"95.410156\" xlink:href=\"#DejaVuSans-30\"/>\n",
       "      </g>\n",
       "     </g>\n",
       "    </g>\n",
       "    <g id=\"ytick_7\">\n",
       "     <g id=\"line2d_22\">\n",
       "      <g>\n",
       "       <use style=\"stroke:#000000;stroke-width:0.8;\" x=\"394.363636\" xlink:href=\"#me3c29f946f\" y=\"197.64\"/>\n",
       "      </g>\n",
       "     </g>\n",
       "     <g id=\"text_23\">\n",
       "      <!-- 0.2 -->\n",
       "      <g transform=\"translate(371.460511 201.439219)scale(0.1 -0.1)\">\n",
       "       <use xlink:href=\"#DejaVuSans-30\"/>\n",
       "       <use x=\"63.623047\" xlink:href=\"#DejaVuSans-2e\"/>\n",
       "       <use x=\"95.410156\" xlink:href=\"#DejaVuSans-32\"/>\n",
       "      </g>\n",
       "     </g>\n",
       "    </g>\n",
       "    <g id=\"ytick_8\">\n",
       "     <g id=\"line2d_23\">\n",
       "      <g>\n",
       "       <use style=\"stroke:#000000;stroke-width:0.8;\" x=\"394.363636\" xlink:href=\"#me3c29f946f\" y=\"161.4\"/>\n",
       "      </g>\n",
       "     </g>\n",
       "     <g id=\"text_24\">\n",
       "      <!-- 0.4 -->\n",
       "      <g transform=\"translate(371.460511 165.199219)scale(0.1 -0.1)\">\n",
       "       <use xlink:href=\"#DejaVuSans-30\"/>\n",
       "       <use x=\"63.623047\" xlink:href=\"#DejaVuSans-2e\"/>\n",
       "       <use x=\"95.410156\" xlink:href=\"#DejaVuSans-34\"/>\n",
       "      </g>\n",
       "     </g>\n",
       "    </g>\n",
       "    <g id=\"ytick_9\">\n",
       "     <g id=\"line2d_24\">\n",
       "      <g>\n",
       "       <use style=\"stroke:#000000;stroke-width:0.8;\" x=\"394.363636\" xlink:href=\"#me3c29f946f\" y=\"125.16\"/>\n",
       "      </g>\n",
       "     </g>\n",
       "     <g id=\"text_25\">\n",
       "      <!-- 0.6 -->\n",
       "      <g transform=\"translate(371.460511 128.959219)scale(0.1 -0.1)\">\n",
       "       <use xlink:href=\"#DejaVuSans-30\"/>\n",
       "       <use x=\"63.623047\" xlink:href=\"#DejaVuSans-2e\"/>\n",
       "       <use x=\"95.410156\" xlink:href=\"#DejaVuSans-36\"/>\n",
       "      </g>\n",
       "     </g>\n",
       "    </g>\n",
       "    <g id=\"ytick_10\">\n",
       "     <g id=\"line2d_25\">\n",
       "      <g>\n",
       "       <use style=\"stroke:#000000;stroke-width:0.8;\" x=\"394.363636\" xlink:href=\"#me3c29f946f\" y=\"88.92\"/>\n",
       "      </g>\n",
       "     </g>\n",
       "     <g id=\"text_26\">\n",
       "      <!-- 0.8 -->\n",
       "      <g transform=\"translate(371.460511 92.719219)scale(0.1 -0.1)\">\n",
       "       <use xlink:href=\"#DejaVuSans-30\"/>\n",
       "       <use x=\"63.623047\" xlink:href=\"#DejaVuSans-2e\"/>\n",
       "       <use x=\"95.410156\" xlink:href=\"#DejaVuSans-38\"/>\n",
       "      </g>\n",
       "     </g>\n",
       "    </g>\n",
       "    <g id=\"ytick_11\">\n",
       "     <g id=\"line2d_26\">\n",
       "      <g>\n",
       "       <use style=\"stroke:#000000;stroke-width:0.8;\" x=\"394.363636\" xlink:href=\"#me3c29f946f\" y=\"52.68\"/>\n",
       "      </g>\n",
       "     </g>\n",
       "     <g id=\"text_27\">\n",
       "      <!-- 1.0 -->\n",
       "      <g transform=\"translate(371.460511 56.479219)scale(0.1 -0.1)\">\n",
       "       <use xlink:href=\"#DejaVuSans-31\"/>\n",
       "       <use x=\"63.623047\" xlink:href=\"#DejaVuSans-2e\"/>\n",
       "       <use x=\"95.410156\" xlink:href=\"#DejaVuSans-30\"/>\n",
       "      </g>\n",
       "     </g>\n",
       "    </g>\n",
       "   </g>\n",
       "   <g id=\"line2d_27\">\n",
       "    <path clip-path=\"url(#pda6eb2bdba)\" d=\"M 405.892562 233.88  L 636.471074 233.88  \" style=\"fill:none;stroke:#1f77b4;stroke-linecap:square;stroke-width:1.5;\"/>\n",
       "   </g>\n",
       "   <g id=\"patch_9\">\n",
       "    <path d=\"M 394.363636 252  L 394.363636 34.56  \" style=\"fill:none;stroke:#000000;stroke-linecap:square;stroke-linejoin:miter;stroke-width:0.8;\"/>\n",
       "   </g>\n",
       "   <g id=\"patch_10\">\n",
       "    <path d=\"M 648 252  L 648 34.56  \" style=\"fill:none;stroke:#000000;stroke-linecap:square;stroke-linejoin:miter;stroke-width:0.8;\"/>\n",
       "   </g>\n",
       "   <g id=\"patch_11\">\n",
       "    <path d=\"M 394.363636 252  L 648 252  \" style=\"fill:none;stroke:#000000;stroke-linecap:square;stroke-linejoin:miter;stroke-width:0.8;\"/>\n",
       "   </g>\n",
       "   <g id=\"patch_12\">\n",
       "    <path d=\"M 394.363636 34.56  L 648 34.56  \" style=\"fill:none;stroke:#000000;stroke-linecap:square;stroke-linejoin:miter;stroke-width:0.8;\"/>\n",
       "   </g>\n",
       "   <g id=\"text_28\">\n",
       "    <!-- Polka in Time: Accuracy -->\n",
       "    <defs>\n",
       "     <path d=\"M 34.1875 63.1875  L 20.796875 26.90625  L 47.609375 26.90625  z M 28.609375 72.90625  L 39.796875 72.90625  L 67.578125 0  L 57.328125 0  L 50.6875 18.703125  L 17.828125 18.703125  L 11.1875 0  L 0.78125 0  z \" id=\"DejaVuSans-41\"/>\n",
       "     <path d=\"M 8.5 21.578125  L 8.5 54.6875  L 17.484375 54.6875  L 17.484375 21.921875  Q 17.484375 14.15625 20.5 10.265625  Q 23.53125 6.390625 29.59375 6.390625  Q 36.859375 6.390625 41.078125 11.03125  Q 45.3125 15.671875 45.3125 23.6875  L 45.3125 54.6875  L 54.296875 54.6875  L 54.296875 0  L 45.3125 0  L 45.3125 8.40625  Q 42.046875 3.421875 37.71875 1  Q 33.40625 -1.421875 27.6875 -1.421875  Q 18.265625 -1.421875 13.375 4.4375  Q 8.5 10.296875 8.5 21.578125  z M 31.109375 56  z \" id=\"DejaVuSans-75\"/>\n",
       "     <path d=\"M 32.171875 -5.078125  Q 28.375 -14.84375 24.75 -17.8125  Q 21.140625 -20.796875 15.09375 -20.796875  L 7.90625 -20.796875  L 7.90625 -13.28125  L 13.1875 -13.28125  Q 16.890625 -13.28125 18.9375 -11.515625  Q 21 -9.765625 23.484375 -3.21875  L 25.09375 0.875  L 2.984375 54.6875  L 12.5 54.6875  L 29.59375 11.921875  L 46.6875 54.6875  L 56.203125 54.6875  z \" id=\"DejaVuSans-79\"/>\n",
       "    </defs>\n",
       "    <g transform=\"translate(449.504318 28.56)scale(0.12 -0.12)\">\n",
       "     <use xlink:href=\"#DejaVuSans-50\"/>\n",
       "     <use x=\"60.255859\" xlink:href=\"#DejaVuSans-6f\"/>\n",
       "     <use x=\"121.4375\" xlink:href=\"#DejaVuSans-6c\"/>\n",
       "     <use x=\"149.220703\" xlink:href=\"#DejaVuSans-6b\"/>\n",
       "     <use x=\"207.115234\" xlink:href=\"#DejaVuSans-61\"/>\n",
       "     <use x=\"268.394531\" xlink:href=\"#DejaVuSans-20\"/>\n",
       "     <use x=\"300.181641\" xlink:href=\"#DejaVuSans-69\"/>\n",
       "     <use x=\"327.964844\" xlink:href=\"#DejaVuSans-6e\"/>\n",
       "     <use x=\"391.34375\" xlink:href=\"#DejaVuSans-20\"/>\n",
       "     <use x=\"423.130859\" xlink:href=\"#DejaVuSans-54\"/>\n",
       "     <use x=\"484.167969\" xlink:href=\"#DejaVuSans-69\"/>\n",
       "     <use x=\"511.951172\" xlink:href=\"#DejaVuSans-6d\"/>\n",
       "     <use x=\"609.363281\" xlink:href=\"#DejaVuSans-65\"/>\n",
       "     <use x=\"670.886719\" xlink:href=\"#DejaVuSans-3a\"/>\n",
       "     <use x=\"704.578125\" xlink:href=\"#DejaVuSans-20\"/>\n",
       "     <use x=\"736.365234\" xlink:href=\"#DejaVuSans-41\"/>\n",
       "     <use x=\"804.757812\" xlink:href=\"#DejaVuSans-63\"/>\n",
       "     <use x=\"859.738281\" xlink:href=\"#DejaVuSans-63\"/>\n",
       "     <use x=\"914.71875\" xlink:href=\"#DejaVuSans-75\"/>\n",
       "     <use x=\"978.097656\" xlink:href=\"#DejaVuSans-72\"/>\n",
       "     <use x=\"1019.210938\" xlink:href=\"#DejaVuSans-61\"/>\n",
       "     <use x=\"1080.490234\" xlink:href=\"#DejaVuSans-63\"/>\n",
       "     <use x=\"1135.470703\" xlink:href=\"#DejaVuSans-79\"/>\n",
       "    </g>\n",
       "   </g>\n",
       "   <g id=\"legend_2\">\n",
       "    <g id=\"patch_13\">\n",
       "     <path d=\"M 549.634375 57.238125  L 641 57.238125  Q 643 57.238125 643 55.238125  L 643 41.56  Q 643 39.56 641 39.56  L 549.634375 39.56  Q 547.634375 39.56 547.634375 41.56  L 547.634375 55.238125  Q 547.634375 57.238125 549.634375 57.238125  z \" style=\"fill:#ffffff;opacity:0.8;stroke:#cccccc;stroke-linejoin:miter;\"/>\n",
       "    </g>\n",
       "    <g id=\"line2d_28\">\n",
       "     <path d=\"M 551.634375 47.658437  L 571.634375 47.658437  \" style=\"fill:none;stroke:#1f77b4;stroke-linecap:square;stroke-width:1.5;\"/>\n",
       "    </g>\n",
       "    <g id=\"line2d_29\"/>\n",
       "    <g id=\"text_29\">\n",
       "     <!-- Training set -->\n",
       "     <g transform=\"translate(579.634375 51.158437)scale(0.1 -0.1)\">\n",
       "      <use xlink:href=\"#DejaVuSans-54\"/>\n",
       "      <use x=\"60.865234\" xlink:href=\"#DejaVuSans-72\"/>\n",
       "      <use x=\"101.978516\" xlink:href=\"#DejaVuSans-61\"/>\n",
       "      <use x=\"163.257812\" xlink:href=\"#DejaVuSans-69\"/>\n",
       "      <use x=\"191.041016\" xlink:href=\"#DejaVuSans-6e\"/>\n",
       "      <use x=\"254.419922\" xlink:href=\"#DejaVuSans-69\"/>\n",
       "      <use x=\"282.203125\" xlink:href=\"#DejaVuSans-6e\"/>\n",
       "      <use x=\"345.582031\" xlink:href=\"#DejaVuSans-67\"/>\n",
       "      <use x=\"409.058594\" xlink:href=\"#DejaVuSans-20\"/>\n",
       "      <use x=\"440.845703\" xlink:href=\"#DejaVuSans-73\"/>\n",
       "      <use x=\"492.945312\" xlink:href=\"#DejaVuSans-65\"/>\n",
       "      <use x=\"554.46875\" xlink:href=\"#DejaVuSans-74\"/>\n",
       "     </g>\n",
       "    </g>\n",
       "   </g>\n",
       "  </g>\n",
       " </g>\n",
       " <defs>\n",
       "  <clipPath id=\"p94cb2b1378\">\n",
       "   <rect height=\"217.44\" width=\"253.636364\" x=\"90\" y=\"34.56\"/>\n",
       "  </clipPath>\n",
       "  <clipPath id=\"pda6eb2bdba\">\n",
       "   <rect height=\"217.44\" width=\"253.636364\" x=\"394.363636\" y=\"34.56\"/>\n",
       "  </clipPath>\n",
       " </defs>\n",
       "</svg>"
      ],
      "text/plain": [
       "<IPython.core.display.SVG object>"
      ]
     },
     "metadata": {},
     "output_type": "display_data"
    },
    {
     "name": "stdout",
     "output_type": "stream",
     "text": [
      "========================================================\n",
      "       |  Training |  Training \n",
      "Epochs |     Error |  Accuracy \n",
      "------ | --------- | --------- \n",
      "#    1 |   0.23083 |   0.00000 \n"
     ]
    }
   ],
   "source": [
    "net.reset()\n",
    "net.train(1)"
   ]
  },
  {
   "cell_type": "markdown",
   "metadata": {},
   "source": [
    "Now we are ready to see if we can learn the polka. There would be no way to learn the sequence if it did not use its memory. Why? Because if you look at the dataset, 50% of the time a 0 input should produce a 0 output, and the other half of the time it should produce a 1 output."
   ]
  },
  {
   "cell_type": "code",
   "execution_count": 12,
   "metadata": {},
   "outputs": [],
   "source": [
    "from IPython.display import clear_output"
   ]
  },
  {
   "cell_type": "code",
   "execution_count": 13,
   "metadata": {},
   "outputs": [],
   "source": [
    "def train(net, epochs, dataset, clear_context=True, report_rate=1, *args, **kwargs):\n",
    "    context = initial_context = [0.5 for i in range(5)]\n",
    "    for epoch in range(epochs):\n",
    "        net.dataset.load(build_batch_dataset(context, dataset))\n",
    "        total_epochs, results = net.train(1, plot=False, verbose=0, *args, **kwargs)\n",
    "        if epoch % report_rate == 0:\n",
    "            clear_output(wait=True)\n",
    "            net.plot_results()\n",
    "        if clear_context:\n",
    "            context = initial_context\n",
    "        else:\n",
    "            context = propagate_sequence(context, dataset)\n",
    "        if \"accuracy\" in kwargs:\n",
    "            if results[\"acc\"] >= kwargs[\"accuracy\"]:\n",
    "                break\n",
    "    clear_output(wait=True)\n",
    "    net.plot_results()"
   ]
  },
  {
   "cell_type": "code",
   "execution_count": 18,
   "metadata": {},
   "outputs": [],
   "source": [
    "net.reset()"
   ]
  },
  {
   "cell_type": "code",
   "execution_count": 19,
   "metadata": {},
   "outputs": [
    {
     "data": {
      "image/png": "[encoded data removed]",
      "text/plain": [
       "<matplotlib.figure.Figure at 0x7f088d81d400>"
      ]
     },
     "metadata": {},
     "output_type": "display_data"
    }
   ],
   "source": [
    "train(net, 25000, dataset, accuracy=1.0, report_rate=100)"
   ]
  },
  {
   "cell_type": "code",
   "execution_count": 20,
   "metadata": {},
   "outputs": [
    {
     "data": {
      "application/vnd.jupyter.widget-view+json": {
       "model_id": "14ab676a7a224249b8cd8aa83551149d",
       "version_major": 2,
       "version_minor": 0
      },
      "text/html": [
       "<p>Failed to display Jupyter Widget of type <code>Dashboard</code>.</p>\n",
       "<p>\n",
       "  If you're reading this message in the Jupyter Notebook or JupyterLab Notebook, it may mean\n",
       "  that the widgets JavaScript is still loading. If this message persists, it\n",
       "  likely means that the widgets JavaScript library is either not installed or\n",
       "  not enabled. See the <a href=\"https://ipywidgets.readthedocs.io/en/stable/user_install.html\">Jupyter\n",
       "  Widgets Documentation</a> for setup instructions.\n",
       "</p>\n",
       "<p>\n",
       "  If you're reading this message in another frontend (for example, a static\n",
       "  rendering on GitHub or <a href=\"https://nbviewer.jupyter.org/\">NBViewer</a>),\n",
       "  it may mean that your frontend doesn't currently support widgets.\n",
       "</p>\n"
      ],
      "text/plain": [
       "Dashboard(children=(Accordion(children=(HBox(children=(VBox(children=(Select(description='Dataset:', index=1, options=('Test', 'Train'), rows=1, value='Train'), FloatSlider(value=0.5, continuous_update=False, description='Zoom', layout=Layout(width='65%'), max=1.0, style=SliderStyle(description_width='initial')), IntText(value=150, description='Horizontal space between banks:', style=DescriptionStyle(description_width='initial')), IntText(value=30, description='Vertical space between layers:', style=DescriptionStyle(description_width='initial')), HBox(children=(Checkbox(value=False, description='Show Targets', style=DescriptionStyle(description_width='initial')), Checkbox(value=False, description='Errors', style=DescriptionStyle(description_width='initial')))), Select(description='Features:', options=('',), rows=1, value=''), IntText(value=3, description='Feature columns:', style=DescriptionStyle(description_width='initial')), FloatText(value=1.0, description='Feature scale:', style=DescriptionStyle(description_width='initial'))), layout=Layout(width='100%')), VBox(children=(Select(description='Layer:', index=3, options=('input', 'context', 'hidden', 'output'), rows=1, value='output'), Checkbox(value=True, description='Visible'), Select(description='Colormap:', options=('', 'Accent', 'Accent_r', 'Blues', 'Blues_r', 'BrBG', 'BrBG_r', 'BuGn', 'BuGn_r', 'BuPu', 'BuPu_r', 'CMRmap', 'CMRmap_r', 'Dark2', 'Dark2_r', 'GnBu', 'GnBu_r', 'Greens', 'Greens_r', 'Greys', 'Greys_r', 'OrRd', 'OrRd_r', 'Oranges', 'Oranges_r', 'PRGn', 'PRGn_r', 'Paired', 'Paired_r', 'Pastel1', 'Pastel1_r', 'Pastel2', 'Pastel2_r', 'PiYG', 'PiYG_r', 'PuBu', 'PuBuGn', 'PuBuGn_r', 'PuBu_r', 'PuOr', 'PuOr_r', 'PuRd', 'PuRd_r', 'Purples', 'Purples_r', 'RdBu', 'RdBu_r', 'RdGy', 'RdGy_r', 'RdPu', 'RdPu_r', 'RdYlBu', 'RdYlBu_r', 'RdYlGn', 'RdYlGn_r', 'Reds', 'Reds_r', 'Set1', 'Set1_r', 'Set2', 'Set2_r', 'Set3', 'Set3_r', 'Spectral', 'Spectral_r', 'Vega10', 'Vega10_r', 'Vega20', 'Vega20_r', 'Vega20b', 'Vega20b_r', 'Vega20c', 'Vega20c_r', 'Wistia', 'Wistia_r', 'YlGn', 'YlGnBu', 'YlGnBu_r', 'YlGn_r', 'YlOrBr', 'YlOrBr_r', 'YlOrRd', 'YlOrRd_r', 'afmhot', 'afmhot_r', 'autumn', 'autumn_r', 'binary', 'binary_r', 'bone', 'bone_r', 'brg', 'brg_r', 'bwr', 'bwr_r', 'cool', 'cool_r', 'coolwarm', 'coolwarm_r', 'copper', 'copper_r', 'cubehelix', 'cubehelix_r', 'flag', 'flag_r', 'gist_earth', 'gist_earth_r', 'gist_gray', 'gist_gray_r', 'gist_heat', 'gist_heat_r', 'gist_ncar', 'gist_ncar_r', 'gist_rainbow', 'gist_rainbow_r', 'gist_stern', 'gist_stern_r', 'gist_yarg', 'gist_yarg_r', 'gnuplot', 'gnuplot2', 'gnuplot2_r', 'gnuplot_r', 'gray', 'gray_r', 'hot', 'hot_r', 'hsv', 'hsv_r', 'inferno', 'inferno_r', 'jet', 'jet_r', 'magma', 'magma_r', 'nipy_spectral', 'nipy_spectral_r', 'ocean', 'ocean_r', 'pink', 'pink_r', 'plasma', 'plasma_r', 'prism', 'prism_r', 'rainbow', 'rainbow_r', 'seismic', 'seismic_r', 'spectral', 'spectral_r', 'spring', 'spring_r', 'summer', 'summer_r', 'tab10', 'tab10_r', 'tab20', 'tab20_r', 'tab20b', 'tab20b_r', 'tab20c', 'tab20c_r', 'terrain', 'terrain_r', 'viridis', 'viridis_r', 'winter', 'winter_r'), rows=1, value=''), HTML(value='<img src=\"data:image/gif;base64,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\"/>'), FloatText(value=0.0, description='Leftmost color maps to:', style=DescriptionStyle(description_width='initial')), FloatText(value=1.0, description='Rightmost color maps to:', style=DescriptionStyle(description_width='initial')), IntText(value=0, description='Feature to show:', style=DescriptionStyle(description_width='initial')), HBox(children=(Checkbox(value=False, description='Rotate network', layout=Layout(width='52%'), style=DescriptionStyle(description_width='initial')), Button(icon='save', layout=Layout(width='10%'), style=ButtonStyle())))), layout=Layout(width='100%')))),), selected_index=None, _titles={'0': 'Polka in Time'}), VBox(children=(HBox(children=(IntSlider(value=0, continuous_update=False, description='Dataset index', layout=Layout(width='100%'), max=2), Label(value='of 3', layout=Layout(width='100px'))), layout=Layout(height='40px')), HBox(children=(Button(icon='fast-backward', layout=Layout(width='100%'), style=ButtonStyle()), Button(icon='backward', layout=Layout(width='100%'), style=ButtonStyle()), IntText(value=0, layout=Layout(width='100%')), Button(icon='forward', layout=Layout(width='100%'), style=ButtonStyle()), Button(icon='fast-forward', layout=Layout(width='100%'), style=ButtonStyle()), Button(description='Play', icon='play', layout=Layout(width='100%'), style=ButtonStyle()), Button(icon='refresh', layout=Layout(width='25%'), style=ButtonStyle())), layout=Layout(height='50px', width='100%'))), layout=Layout(width='100%')), HTML(value='<p style=\"text-align:center\"></p>', layout=Layout(justify_content='center', overflow_x='auto', overflow_y='auto', width='95%')), Output()))"
      ]
     },
     "metadata": {},
     "output_type": "display_data"
    }
   ],
   "source": [
    "net.dashboard()"
   ]
  },
  {
   "cell_type": "code",
   "execution_count": null,
   "metadata": {},
   "outputs": [],
   "source": []
  }
 ],
 "metadata": {
  "kernelspec": {
   "display_name": "Python 3",
   "language": "python",
   "name": "python3"
  },
  "language_info": {
   "codemirror_mode": {
    "name": "ipython",
    "version": 3
   },
   "file_extension": ".py",
   "mimetype": "text/x-python",
   "name": "python",
   "nbconvert_exporter": "python",
   "pygments_lexer": "ipython3",
   "version": "3.6.3"
  },
  "widgets": {
   "application/vnd.jupyter.widget-state+json": {
    "state": {
     "000ae400f6e84626b99cb71fcc90c68b": {
      "model_module": "@jupyter-widgets/base",
      "model_module_version": "1.0.0",
      "model_name": "LayoutModel",
      "state": {
       "width": "100%"
      }
     },
     "0045679e525d48298918980e785dc2d7": {
      "model_module": "@jupyter-widgets/controls",
      "model_module_version": "1.1.0",
      "model_name": "HTMLModel",
      "state": {
       "layout": "IPY_MODEL_9260b17403fc4b9bba2a8cb572512a5d",
       "style": "IPY_MODEL_bafcfb47a0904b41ad21b69347b5424e",
       "value": "<p style=\"text-align:center\"><svg id='XOR in Time' xmlns='http://www.w3.org/2000/svg' image-rendering=\"pixelated\" width=\"400.0px\" height=\"232.72727272727275px\">\n <g >\n  <svg viewBox=\"0 0 550 320\" width=\"400.0px\" height=\"232.72727272727275px\">\n    <defs>\n        <marker id=\"arrow\" markerWidth=\"10\" markerHeight=\"10\" refX=\"9\" refY=\"3\" orient=\"auto\" markerUnits=\"strokeWidth\">\n          <path d=\"M0,0 L0,6 L9,3 z\" fill=\"black\" />\n        </marker>\n    </defs><rect x=\"249.0\" y=\"24\" width=\"52\" height=\"52\" style=\"fill:none;stroke:black;stroke-width:2\"/><image id=\"picture-dashboard-XOR in Time-700869_output_targets_13\" class=\"picture-dashboard-XOR in Time-700869_output_targets\" x=\"250.0\" y=\"25\" height=\"50\" width=\"50\" preserveAspectRatio=\"none\" href=\"data:image/gif;base64,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\"><title>Layer: output (output)\n output range: (0, 1)\n shape = (1,)\n Keras class = Dense\n activation = sigmoid</title></image><text x=\"305.0\" y=\"52.0\" font-family=\"monospace\" font-size=\"12\" text-anchor=\"start\" fill=\"black\" alignment-baseline=\"central\" >targets</text><line x1=\"137.5\" y1=\"80\" x2=\"412.5\" y2=\"80\" stroke=\"green\" stroke-width=\"2\"><title></title></line><rect x=\"249.0\" y=\"84\" width=\"52\" height=\"52\" style=\"fill:none;stroke:black;stroke-width:2\"/><image id=\"picture-dashboard-XOR in Time-700869_output_13\" class=\"picture-dashboard-XOR in Time-700869_output\" x=\"250.0\" y=\"85\" height=\"50\" width=\"50\" preserveAspectRatio=\"none\" href=\"data:image/gif;base64,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\"><title>Layer: output (output)\n output range: (0, 1)\n shape = (1,)\n Keras class = Dense\n activation = sigmoid</title></image><text x=\"305.0\" y=\"112.0\" font-family=\"monospace\" font-size=\"12\" text-anchor=\"start\" fill=\"black\" alignment-baseline=\"central\" >output</text><line x1=\"275.0\" y1=\"164\" x2=\"275.0\" y2=\"137\" stroke=\"black\" stroke-width=\"2\" marker-end=\"url(#arrow)\"><title>Weights from hidden to output\n output_16/kernel:0 has shape (5, 1)\n output_16/bias:0 has shape (1,)</title></line><rect x=\"174.0\" y=\"164\" width=\"202\" height=\"52\" style=\"fill:none;stroke:black;stroke-width:2\"/><image id=\"picture-dashboard-XOR in Time-700869_hidden_14\" class=\"picture-dashboard-XOR in Time-700869_hidden\" x=\"175.0\" y=\"165\" height=\"50\" width=\"200\" preserveAspectRatio=\"none\" href=\"data:image/gif;base64,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\"><title>Layer: hidden (hidden)\n output range: (0, 1)\n shape = (5,)\n Keras class = Dense\n activation = sigmoid</title></image><text x=\"380.0\" y=\"192.0\" font-family=\"monospace\" font-size=\"12\" text-anchor=\"start\" fill=\"black\" alignment-baseline=\"central\" >hidden</text><line x1=\"183.33333333333334\" y1=\"244\" x2=\"275.0\" y2=\"217\" stroke=\"black\" stroke-width=\"2\" marker-end=\"url(#arrow)\"><title>Weights from input to hidden\n hidden_16/kernel:0 has shape (6, 5)\n hidden_16/bias:0 has shape (5,)</title></line><rect x=\"157.33333333333334\" y=\"244\" width=\"52\" height=\"52\" style=\"fill:none;stroke:black;stroke-width:2\"/><image id=\"picture-dashboard-XOR in Time-700869_input_15\" class=\"picture-dashboard-XOR in Time-700869_input\" x=\"158.33333333333334\" y=\"245\" height=\"50\" width=\"50\" preserveAspectRatio=\"none\" href=\"data:image/gif;base64,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\"><title>Layer: input (input)\n output range: (0.0, 1.0)\n shape = (1,)\n Keras class = Input</title></image><text x=\"213.33333333333334\" y=\"272.0\" font-family=\"monospace\" font-size=\"12\" text-anchor=\"start\" fill=\"black\" alignment-baseline=\"central\" >input</text><line x1=\"366.6666666666667\" y1=\"244\" x2=\"275.0\" y2=\"217\" stroke=\"black\" stroke-width=\"2\" marker-end=\"url(#arrow)\"><title>Weights from context to hidden\n hidden_16/kernel:0 has shape (6, 5)\n hidden_16/bias:0 has shape (5,)</title></line><rect x=\"265.6666666666667\" y=\"244\" width=\"202\" height=\"52\" style=\"fill:none;stroke:black;stroke-width:2\"/><image id=\"picture-dashboard-XOR in Time-700869_context_16\" class=\"picture-dashboard-XOR in Time-700869_context\" x=\"266.6666666666667\" y=\"245\" height=\"50\" width=\"200\" preserveAspectRatio=\"none\" href=\"data:image/gif;base64,R0lGODdh+gAyAIcAAP7+/gAAABYWFt3d3QAAAAAAAAAAAAAAAAAAAAAAAAAAAAAAAAAAAAAAAAAAAAAAAAAAAAAAAAAAAAAAAAAAAAAAAAAAAAAAAAAAAAAAAAAAAAAAAAAAAAAAAAAAAAAAAAAAAAAAAAAAAAAAAAAAAAAAAAAAAAAAAAAAAAAAAAAAAAAAAAAAAAAAAAAAAAAAAAAAAAAAAAAAAAAAAAAAAAAAAAAAAAAAAAAAAAAAAAAAAAAAAAAAAAAAAAAAAAAAAAAAAAAAAAAAAAAAAAAAAAAAAAAAAAAAAAAAAAAAAAAAAAAAAAAAAAAAAAAAAAAAAAAAAAAAAAAAAAAAAAAAAAAAAAAAAAAAAAAAAAAAAAAAAAAAAAAAAAAAAAAAAAAAAAAAAAAAAAAAAAAAAAAAAAAAAAAAAAAAAAAAAAAAAAAAAAAAAAAAAAAAAAAAAAAAAAAAAAAAAAAAAAAAAAAAAAAAAAAAAAAAAAAAAAAAAAAAAAAAAAAAAAAAAAAAAAAAAAAAAAAAAAAAAAAAAAAAAAAAAAAAAAAAAAAAAAAAAAAAAAAAAAAAAAAAAAAAAAAAAAAAAAAAAAAAAAAAAAAAAAAAAAAAAAAAAAAAAAAAAAAAAAAAAAAAAAAAAAAAAAAAAAAAAAAAAAAAAAAAAAAAAAAAAAAAAAAAAAAAAAAAAAAAAAAAAAAAAAAAAAAAAAAAAAAAAAAAAAAAAAAAAAAAAAAAAAAAAAAAAAAAAAAAAAAAAAAAAAAAAAAAAAAAAAAAAAAAAAAAAAAAAAAAAAAAAAAAAAAAAAAAAAAAAAAAAAAAAAAAAAAAAAAAAAAAAAAAAAAAAAAAAAAAAAAAAAAAAAAAAAAAAAAAAAAAAAAAAAAAAAAAAAAAAAAAAAAAAAAAAAAAAAAAAAAAAAAAAAAAAAAAAAAAAAAAAAAAAAAAAAAAAAAAAAAAAAAAAAAAAAAAAAAAAAAAAAAAAAAAAAAAAAAAAAAAAAAAAAAAAAAAAAAAAAAAAAAAAAAAAAAAAAAAACwAAAAA+gAyAEAI/wADCBxIsKDBgwgTKlzIsKHDhxAjSpxIsaLFixgDDNjIsaPHjyBDiuQYIACAkyhTqlzJsqVLlAECCJhJs6bNmzhz6qQZIACAn0CDCh1KtKhRoAGSKl3KtKnTp1CdDphKtarVq1izaqUaIACAr2DDih1LtqxZsAECCFjLtq3bt3DjymUbIACAu3jz6t3Lt69fvAECCx5MuLDhw4gND1jMuLHjx5AjS2YcIACAy5gza97MubNnzAECCBhNurTp06hTqyYdIACA17Bjy55Nu7Zt2AFy697Nu7fv38B9DxhOvLjx48iTKyceIACA59CjS59Ovbp16AECCNjOvbv37+DDi//nHiAAgPPo06tfz769e/QB4sufT7++/fv47Q/Yz7+/f4ADBA4kWNDgwYIBAgBg2NDhQ4gRJU5sGCCAAIwZNW7k2NHjx4wBAgAgWdLkSZQpVa4sGcDlS5gxZc6kWXPmAJw5de7k2dPnz5wBAgAgWtToUaRJlS4tGiCAAKhRpU6lWtXq1agBAgDg2tXrV7BhxY7tGsDsWbRp1a5l23btALhx5c6lW9fu3bgBAgDg29fvX8CBBQ/uGyCAAMSJFS9m3Njx48QBAgCgXNnyZcyZNW+uHMDzZ9ChRY8mXXr0ANSpVa9m3dr169QBAgCgXdv2bdy5de+uHSCAAODBhQ8nXtz/+PHgAQIAYN7c+XPo0aVPbx7A+nXs2bVv5959+wDw4cWPJ1/e/PnwAQIAYN/e/Xv48eXPbx8ggAD8+fXv59/fP0ABAgcSFBggAICEChcybOjwIUSFASZSrGjxIsaMGjEO6OjxI8iQIkeS9BggAICUKleybOnyJUyVAQIIqGnzJs6cOnfytBkgAICgQocSLWr0KFKhAZYyber0KdSoUqEOqGr1KtasWrdytRogAICwYseSLWv2LFqxAQIIaOv2Ldy4cufSdRsgAIC8evfy7ev3L2C9AQYTLmz4MOLEihEPaOz4MeTIkidTdhwgAIDMmjdz7uz5M2jNAQIIKG36NOrU/6pXszYdIACA2LJn065t+zZu2QF28+7t+zfw4MKBDyhu/Djy5MqXMzceIACA6NKnU69u/Tp26QECCOju/Tv48OLHk/ceIACA9OrXs2/v/j189QHm069v/z7+/PrxD+jvH+AAgQMJFjR4EKHBAAEANHT4EGJEiRMpOgwQQEBGjRs5dvT4EaTGAAEAlDR5EmVKlStZmgzwEmZMmTNp1rRJc0BOnTt59vT5E6jOAAEAFDV6FGlSpUuZGg0QQEBUqVOpVrV6FavUAAEAdPX6FWxYsWPJeg1wFm1atWvZtnXLdkBcuXPp1rV7F6/cAAEA9PX7F3BgwYMJ+w0QQEBixYsZN/92/Biy4gABAFS2fBlzZs2bOVsO8Bl0aNGjSZc2TXpAatWrWbd2/Rq26gABANS2fRt3bt27edsOEEBAcOHDiRc3fhy58AABADR3/hx6dOnTqTsPcB17du3buXf3zn1AePHjyZc3fx69+AABALR3/x5+fPnz6bsPEEBAfv37+ff3D1CAwIEECxYMEACAwoUMGzp8CDHiwgAUK1q8iDGjxo0ZB3j8CDKkyJEkS34MEACAypUsW7p8CTPmygABBNi8iTOnzp08e94MEACA0KFEixo9ijTp0ABMmzp9CjWq1KlRB1i9ijWr1q1cu14NEACA2LFky5o9izbt2AABBLh9Czf/rty5dOu+DRAAgN69fPv6/Qs48N4AhAsbPow4seLFiQc4fgw5suTJlCs/DhAAgObNnDt7/gw69OYAAQSYPo06terVrFufDhAAgOzZtGvbvo079+wAvHv7/g08uPDhwQcYP448ufLlzJsfDxAAgPTp1Ktbv449+/QAAQR4/w4+vPjx5Mt/DxAAgPr17Nu7fw8//voA9Ovbv48/v/79+Qf4BzhA4ECCBQ0eRJgwQAAADR0+hBhR4kSKDgMEEJBR40aOHT1+BKkxQAAAJU2eRJlS5UqWJgO8hBlT5kyaNW3SHJBT506ePX3+BKozQAAARY0eRZpU6VKmRgMEEBBV6lSq/1WtXsUqNUAAAF29fgUbVuxYsl4DnEWbVu1atm3dsh0QV+5cunXt3sUrN0AAAH39/gUcWPBgwn4DBBCQWPFixo0dP4asOEAAAJUtX8acWfNmzpYDfAYdWvRo0qVNkx6QWvVq1q1dv4atOkAAALVt38adW/du3rYDBBAQXPhw4sWNH0cuPEAAAM2dP4ceXfp06s4DXMeeXft27t29cx8QXvx48uXNn0cvPkAAAO3dv4cfX/58+u4DBBCQX/9+/v39AxQgcCDBggUDBACgcCHDhg4fQoy4MADFihYvYsyocWPGAR4/ggwpciTJkh8DBACgciXLli5fwoy5MkAAATZv4v/MqXMnz543AwQAIHQo0aJGjyJNOjQA06ZOn0KNKnVq1AFWr2LNqnUr165XAwQAIHYs2bJmz6JNOzZAAAFu38KNK3cu3bpvAwQAoHcv375+/wIOvDcA4cKGDyNOrHhx4gGOH0OOLHky5cqPAwQAoHkz586eP4MOvTlAAAGmT6NOrXo169anAwQAIHs27dq2b+POPTsA796+fwMPLnx48AHGjyNPrnw58+bHAwQAIH069erWr2PPPj1AAAHev4MPL348+fLfAwQAoH49+/bu38OPvz4A/fr27+PPr39//gH+AQ4QOJBgQYMHESYMEABAQ4cPIUaUOJGiwwABBGTUuJH/Y0ePH0FqDBAAQEmTJ1GmVLmSpckAL2HGlDmTZk2bNAfk1LmTZ0+fP4HqDBAAQFGjR5EmVbqUqdEAAQRElTqValWrV7FKDRAAQFevX8GGFTuWrNcAZ9GmVbuWbVu3bAfElTuXbl27d/HKDRAAQF+/fwEHFjyYsN8AAQQkVryYcWPHjyErDhAAQGXLlzFn1ryZs+UAn0GHFj2adGnTpAekVr2adWvXr2GrDhAAQG3bt3Hn1r2bt+0AAQQEFz6ceHHjx5ELDxAAQHPnz6FHlz6duvMA17Fn176de3fv3AeEFz+efHnz59GLDxAAQHv37+HHlz+fvvsAAQTk17+ff3///wAFCBxIsGDBAAEAKFzIsKHDhxAjLgxAsaLFixgzatyYcYDHjyBDihxJsuTHAAEAqFzJsqXLlzBjrgwQQIDNmzhz6tzJs+fNAAEACB1KtKjRo0iTDg3AtKnTp1CjSp0adYDVq1izat3KtevVAAEAiB1LtqzZs2jTjg0QQIDbt3Djyp1Lt+7bAAEA6N3Lt6/fv4AD7w1AuLDhw4gTK16ceIDjx5AjS55MufLjAAEAaN7MubPnz6BDbw4QQIDp06hTq17NuvXpAAEAyJ5Nu7bt27hzzw7Au7fv38CDCx8efIDx48iTK1/OvPnxAAEASJ9Ovbr169izTw8QQID37+DDi/8fT7789wABAKhfz769+/fw468PQL++/fv48+vfn3+Af4ADBA4kWNDgQYQJAwQA0NDhQ4gRJU6k6DBAAAEZNW7k2NHjR5AaAwQAUNLkSZQpVa5kaTLAS5gxZc6kWdMmzQE5de7k2dPnT6A6AwQAUNToUaRJlS5lajRAAAFRpU6lWtXqVaxSAwQA0NXrV7BhxY4l6zXAWbRp1a5l29Yt2wFx5c6lW9fuXbxyAwQA0NfvX8CBBQ8m7DdAAAGJFS9m3NjxY8iKAwQAUNnyZcyZNW/mbDnAZ9ChRY8mXdo06QGpVa9m3dr1a9iqAwQAUNv2bdy5de/mbTtAAAHBhQ8nXtz/+HHkwgMEANDc+XPo0aVPp+48wHXs2bVv597dO/cB4cWPJ1/e/Hn04gMEANDe/Xv48eXPp+8+QAAB+fXv59/fP0ABAgcSLFgwQAAAChcybOjwIcSICwNQrGjxIsaMGjdmHODxI8iQIkeSLPkxQAAAKleybOnyJcyYKwMEEGDzJs6cOnfy7HkzQAAAQocSLWr0KNKkQwMwber0KdSoUqdGHWD1KtasWrdy7Xo1QAAAYseSLWv2LNq0YwMEEOD2Ldy4cufSrfs2QAAAevfy7ev3L+DAewMQLmz4MOLEihcnHuD4MeTIkidTrvw4QAAAmjdz7uz5M+jQmwMEEGD6NOrULapXs259OkAAALJn065t+zbu3LMD8O7t+zfw4MKHEy9u/Djy5MqXM2/u/LnzgAA7\"><title>Layer: context (input)\n output range: (0.33288893, 0.63053846)\n shape = (5,)\n Keras class = Input</title></image><text x=\"471.6666666666667\" y=\"272.0\" font-family=\"monospace\" font-size=\"12\" text-anchor=\"start\" fill=\"black\" alignment-baseline=\"central\" >context</text><text x=\"275.0\" y=\"12.5\" font-family=\"monospace\" font-size=\"15\" text-anchor=\"middle\" fill=\"black\" alignment-baseline=\"central\" >XOR in Time</text></svg></g></svg></p>"
      }
     },
     "00c8c033af3f417395180c3528676fe3": {
      "model_module": "@jupyter-widgets/controls",
      "model_module_version": "1.1.0",
      "model_name": "ButtonStyleModel",
      "state": {}
     },
     "0139fdeb088a4675acd538031f26e9f0": {
      "model_module": "@jupyter-widgets/controls",
      "model_module_version": "1.1.0",
      "model_name": "VBoxModel",
      "state": {
       "children": [
        "IPY_MODEL_c761410faa2147eea780fc3aeb832dbc",
        "IPY_MODEL_2f89f2ab39b741258ae06ab4b9dd12e5",
        "IPY_MODEL_b3ad92d26a2a448a93342c964af8e6e9",
        "IPY_MODEL_edaa6c6838fb4cd6b07c8d0656a11fe6",
        "IPY_MODEL_cdfedb2973ab4adfb26d7de1007ef029",
        "IPY_MODEL_e1f66a8f441a46ff8aad00bdaf56aff9",
        "IPY_MODEL_fb19988e44774f0193f02b2845ec9656",
        "IPY_MODEL_77351e9ddf0843e2aac85f83d1ee1ed5"
       ],
       "layout": "IPY_MODEL_67d3276f63de4f29bf09893062863997"
      }
     },
     "01440bfe36704c7b8be1e9d73c7029d1": {
      "model_module": "@jupyter-widgets/base",
      "model_module_version": "1.0.0",
      "model_name": "LayoutModel",
      "state": {}
     },
     "02a11e8831a7447280fe001be320f4f6": {
      "model_module": "@jupyter-widgets/controls",
      "model_module_version": "1.1.0",
      "model_name": "DescriptionStyleModel",
      "state": {
       "description_width": ""
      }
     },
     "02de36d50d924ff885b90eb83a409506": {
      "model_module": "@jupyter-widgets/controls",
      "model_module_version": "1.1.0",
      "model_name": "HBoxModel",
      "state": {
       "children": [
        "IPY_MODEL_e65d59f61e9b4d69897b14132d88f14e",
        "IPY_MODEL_0c561480ed6543adbe8801f6c439f88f"
       ],
       "layout": "IPY_MODEL_237699262e1141678e80f00e459a70f8"
      }
     },
     "03b585364ad1441d9f04fedcc222b4f5": {
      "model_module": "@jupyter-widgets/controls",
      "model_module_version": "1.1.0",
      "model_name": "DescriptionStyleModel",
      "state": {
       "description_width": ""
      }
     },
     "03c6194470d9492c8aa6deae6aa0939d": {
      "model_module": "@jupyter-widgets/base",
      "model_module_version": "1.0.0",
      "model_name": "LayoutModel",
      "state": {
       "width": "25%"
      }
     },
     "04301c0ad13147dba39dc6ffd7581658": {
      "model_module": "@jupyter-widgets/controls",
      "model_module_version": "1.1.0",
      "model_name": "ButtonStyleModel",
      "state": {}
     },
     "045fa03eaa5a47279b68a89dde243ee8": {
      "model_module": "@jupyter-widgets/controls",
      "model_module_version": "1.1.0",
      "model_name": "SelectModel",
      "state": {
       "_options_labels": [
        "Test",
        "Train"
       ],
       "description": "Dataset:",
       "index": 1,
       "layout": "IPY_MODEL_94103f912b3847e5bb81f9cf312b4153",
       "rows": 1,
       "style": "IPY_MODEL_ad18b1ca57534ec7bc5da8854a6bc6fe"
      }
     },
     "0465f9e5073040cda559588c4ecb7949": {
      "model_module": "@jupyter-widgets/controls",
      "model_module_version": "1.1.0",
      "model_name": "ButtonStyleModel",
      "state": {}
     },
     "047eaca73dfb49afa659bfaaabe6a63b": {
      "model_module": "@jupyter-widgets/controls",
      "model_module_version": "1.1.0",
      "model_name": "HBoxModel",
      "state": {
       "children": [
        "IPY_MODEL_2137080effdd4c30a863641902b11419",
        "IPY_MODEL_4d223143f6e24c51823122ecf8d0ce23"
       ],
       "layout": "IPY_MODEL_94635dde40ef45fc80fb79d636c68b85"
      }
     },
     "05141b06359e4d35ac168e1f4ecee0b2": {
      "model_module": "@jupyter-widgets/base",
      "model_module_version": "1.0.0",
      "model_name": "LayoutModel",
      "state": {
       "width": "100%"
      }
     },
     "0548b9352bc347cba22aa06e2ddce04b": {
      "model_module": "@jupyter-widgets/controls",
      "model_module_version": "1.1.0",
      "model_name": "ButtonModel",
      "state": {
       "icon": "fast-forward",
       "layout": "IPY_MODEL_dc973cd44fb94205bc8565916b28fa2a",
       "style": "IPY_MODEL_2865094aef804b3e9633c77eb6734bb4"
      }
     },
     "056437652d334e22a7f1fee5858c9bb0": {
      "model_module": "@jupyter-widgets/controls",
      "model_module_version": "1.1.0",
      "model_name": "CheckboxModel",
      "state": {
       "description": "Rotate",
       "disabled": false,
       "layout": "IPY_MODEL_fc7b3648e0f04817bff1a149c87f3535",
       "style": "IPY_MODEL_f0b1c3206d954004952d24948e578019",
       "value": true
      }
     },
     "05acb36f840941f2ac5e0e753f13ef71": {
      "model_module": "@jupyter-widgets/controls",
      "model_module_version": "1.1.0",
      "model_name": "FloatSliderModel",
      "state": {
       "continuous_update": false,
       "description": "Zoom",
       "layout": "IPY_MODEL_c673decd20ae4bdea8e14552d02f3e9a",
       "max": 1,
       "step": 0.1,
       "style": "IPY_MODEL_ca018bc9aa164373b42f98c008e0341a",
       "value": 0.5
      }
     },
     "05c373a1cd594f3991de039560e34af1": {
      "model_module": "@jupyter-widgets/base",
      "model_module_version": "1.0.0",
      "model_name": "LayoutModel",
      "state": {
       "width": "10%"
      }
     },
     "05d66336cd844a8c8b6da0c6de34c23e": {
      "model_module": "@jupyter-widgets/controls",
      "model_module_version": "1.1.0",
      "model_name": "DescriptionStyleModel",
      "state": {
       "description_width": ""
      }
     },
     "0620b71dc76b489894e0b8b6dcfc1ac4": {
      "model_module": "@jupyter-widgets/controls",
      "model_module_version": "1.1.0",
      "model_name": "DescriptionStyleModel",
      "state": {
       "description_width": ""
      }
     },
     "06bacaf054fd4d4ea42ec4347af47a0b": {
      "model_module": "@jupyter-widgets/controls",
      "model_module_version": "1.1.0",
      "model_name": "DescriptionStyleModel",
      "state": {
       "description_width": ""
      }
     },
     "07a03e75f1f547c3bda8262c80a43a2a": {
      "model_module": "@jupyter-widgets/controls",
      "model_module_version": "1.1.0",
      "model_name": "IntSliderModel",
      "state": {
       "continuous_update": false,
       "description": "Dataset index",
       "layout": "IPY_MODEL_e25020096a834a0d9daacf8f1921b707",
       "max": 2,
       "style": "IPY_MODEL_f4cba67000484057b9b37b3caf8806df",
       "value": 2
      }
     },
     "07b75ca2db7d4b76a33264e24a28a522": {
      "model_module": "@jupyter-widgets/controls",
      "model_module_version": "1.1.0",
      "model_name": "DescriptionStyleModel",
      "state": {
       "description_width": ""
      }
     },
     "07f15707d2ee4db8a11e6e9c5eb05322": {
      "model_module": "@jupyter-widgets/base",
      "model_module_version": "1.0.0",
      "model_name": "LayoutModel",
      "state": {
       "width": "100px"
      }
     },
     "0885ae84953d4a94bd6b4d728cea9d4f": {
      "model_module": "@jupyter-widgets/base",
      "model_module_version": "1.0.0",
      "model_name": "LayoutModel",
      "state": {}
     },
     "092e38d5625e425fb08d288cb16e5294": {
      "model_module": "@jupyter-widgets/controls",
      "model_module_version": "1.1.0",
      "model_name": "DescriptionStyleModel",
      "state": {
       "description_width": ""
      }
     },
     "09af2f9e42e9426c9a47eb1b147d7fbf": {
      "model_module": "@jupyter-widgets/base",
      "model_module_version": "1.0.0",
      "model_name": "LayoutModel",
      "state": {}
     },
     "0a5429e3b58c4375919a0120f75fc467": {
      "model_module": "@jupyter-widgets/controls",
      "model_module_version": "1.1.0",
      "model_name": "VBoxModel",
      "state": {
       "children": [
        "IPY_MODEL_3ff37719e5bd4f2690651431fb3a4964",
        "IPY_MODEL_f287b21c446045b4913501c9f3e66130"
       ],
       "layout": "IPY_MODEL_6a8a4e77f0964765b274367853da7868"
      }
     },
     "0a6b9a57ef7d4fc79c882e2616fb0cda": {
      "model_module": "@jupyter-widgets/controls",
      "model_module_version": "1.1.0",
      "model_name": "IntTextModel",
      "state": {
       "description": "Feature to show:",
       "layout": "IPY_MODEL_6fadc69f919844d8b27d9a63b2947814",
       "step": 1,
       "style": "IPY_MODEL_fccf01bad4c248c58965c265a694a715"
      }
     },
     "0ac14d616bd5421ba7f137a0e1c09241": {
      "model_module": "@jupyter-widgets/base",
      "model_module_version": "1.0.0",
      "model_name": "LayoutModel",
      "state": {}
     },
     "0b2f8a6bd34c4aeca2a67d67c7e414f6": {
      "model_module": "@jupyter-widgets/controls",
      "model_module_version": "1.1.0",
      "model_name": "CheckboxModel",
      "state": {
       "description": "Errors",
       "disabled": false,
       "layout": "IPY_MODEL_2654fbe51a30422e849f5cb742292019",
       "style": "IPY_MODEL_d8664c669e1146a99b2737693b6c138b",
       "value": false
      }
     },
     "0b5dcde6f4444659bb3964a38b19cc5d": {
      "model_module": "@jupyter-widgets/controls",
      "model_module_version": "1.1.0",
      "model_name": "IntTextModel",
      "state": {
       "description": "Feature columns:",
       "layout": "IPY_MODEL_60f91c278b5546ef92ae6ae8142f0269",
       "step": 1,
       "style": "IPY_MODEL_a1304cb0bfc4475e84bc660ae01c636c",
       "value": 3
      }
     },
     "0c4ad3ee934b446395cc2155170c4c89": {
      "model_module": "@jupyter-widgets/controls",
      "model_module_version": "1.1.0",
      "model_name": "DescriptionStyleModel",
      "state": {
       "description_width": ""
      }
     },
     "0c561480ed6543adbe8801f6c439f88f": {
      "model_module": "@jupyter-widgets/controls",
      "model_module_version": "1.1.0",
      "model_name": "VBoxModel",
      "state": {
       "children": [
        "IPY_MODEL_167860cbfd9e43419f575b1b6f718ac5",
        "IPY_MODEL_2cd18f67fab74b9c8acbc176780ad8a1",
        "IPY_MODEL_b8f91a22de5540c6972e20215317beec",
        "IPY_MODEL_cfd1b986442e419ea30083e5dc542dd8",
        "IPY_MODEL_5e58c51b17af4fa98c16c04d2be8427b",
        "IPY_MODEL_d8503f274f734fc480caa9fc5ac78883",
        "IPY_MODEL_0a6b9a57ef7d4fc79c882e2616fb0cda",
        "IPY_MODEL_3f921e966b2e4e1fb898341f0b761b05"
       ],
       "layout": "IPY_MODEL_4aaf606dd8254acfa5865927b69f3096"
      }
     },
     "0cfc4fff56594c9d8085836256d8d92d": {
      "model_module": "@jupyter-widgets/controls",
      "model_module_version": "1.1.0",
      "model_name": "DescriptionStyleModel",
      "state": {
       "description_width": ""
      }
     },
     "0cff52972ac64bcdbe6e308ca781e3b6": {
      "model_module": "@jupyter-widgets/controls",
      "model_module_version": "1.1.0",
      "model_name": "DescriptionStyleModel",
      "state": {
       "description_width": "initial"
      }
     },
     "0d21997b3a08420abf2bd675ecc8ad80": {
      "model_module": "@jupyter-widgets/controls",
      "model_module_version": "1.1.0",
      "model_name": "DescriptionStyleModel",
      "state": {
       "description_width": "initial"
      }
     },
     "0d75dec66e4d4e3eb5c0d0001556657e": {
      "model_module": "@jupyter-widgets/controls",
      "model_module_version": "1.1.0",
      "model_name": "DescriptionStyleModel",
      "state": {
       "description_width": ""
      }
     },
     "0db379f9368a4bb49d1143326443c2d1": {
      "model_module": "@jupyter-widgets/controls",
      "model_module_version": "1.1.0",
      "model_name": "FloatTextModel",
      "state": {
       "description": "Leftmost color maps to:",
       "layout": "IPY_MODEL_522abc248799492ab7c37eb816f13c8a",
       "step": null,
       "style": "IPY_MODEL_4704b7b6c3114f8e87821f1eb6065359"
      }
     },
     "0dc47531faa54681b87e389b96bc2b3a": {
      "model_module": "@jupyter-widgets/base",
      "model_module_version": "1.0.0",
      "model_name": "LayoutModel",
      "state": {}
     },
     "0e8eee0fdf9c42c5b19c67b21142a5d5": {
      "model_module": "@jupyter-widgets/controls",
      "model_module_version": "1.1.0",
      "model_name": "ButtonStyleModel",
      "state": {}
     },
     "0ea437b0aec04daea2f5e72a3f83c9f0": {
      "model_module": "@jupyter-widgets/base",
      "model_module_version": "1.0.0",
      "model_name": "LayoutModel",
      "state": {
       "width": "100%"
      }
     },
     "0eb650b3aaa24ff9be96d20be762ec74": {
      "model_module": "@jupyter-widgets/base",
      "model_module_version": "1.0.0",
      "model_name": "LayoutModel",
      "state": {}
     },
     "0ed0a11c2be2427f9180803b53a55607": {
      "model_module": "@jupyter-widgets/controls",
      "model_module_version": "1.1.0",
      "model_name": "HTMLModel",
      "state": {
       "layout": "IPY_MODEL_7a664f093d1d46368067dc9679219eb3",
       "style": "IPY_MODEL_4585d4f9ce70489e8c5e8227cbd3e413",
       "value": "<img src=\"data:image/gif;base64,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\"/>"
      }
     },
     "0ef7b9cc87994c939e32edb51c765385": {
      "model_module": "@jupyter-widgets/controls",
      "model_module_version": "1.1.0",
      "model_name": "DescriptionStyleModel",
      "state": {
       "description_width": "initial"
      }
     },
     "0f1e826b21e64bc2b83c9915199d3162": {
      "model_module": "@jupyter-widgets/base",
      "model_module_version": "1.0.0",
      "model_name": "LayoutModel",
      "state": {
       "justify_content": "center",
       "overflow_x": "auto",
       "overflow_y": "auto",
       "width": "95%"
      }
     },
     "0f65de3814f2408f9392d1542bb96a73": {
      "model_module": "@jupyter-widgets/controls",
      "model_module_version": "1.1.0",
      "model_name": "IntTextModel",
      "state": {
       "description": "Feature to show:",
       "layout": "IPY_MODEL_1b6da7560b7a44608864448699d23b58",
       "step": 1,
       "style": "IPY_MODEL_8b63bb88bf884fb5b5b0e739cbb931e5"
      }
     },
     "0fbdd202eedd4625ac1da52b9f2112c8": {
      "model_module": "@jupyter-widgets/controls",
      "model_module_version": "1.1.0",
      "model_name": "ButtonModel",
      "state": {
       "icon": "backward",
       "layout": "IPY_MODEL_56d39f6b98074b7a9e18539b0d0089d1",
       "style": "IPY_MODEL_bfb7f9107fac4d1499b0a290a60b67ac"
      }
     },
     "0ffcb57a2bac45119c77fb8a59b0cd8f": {
      "model_module": "@jupyter-widgets/controls",
      "model_module_version": "1.1.0",
      "model_name": "ButtonModel",
      "state": {
       "description": "Play",
       "icon": "play",
       "layout": "IPY_MODEL_ac2f8873dacc4292844747f5a65207b7",
       "style": "IPY_MODEL_9faad90fc283445ab7c27b27fae7c289"
      }
     },
     "10879e892e94433dbe83279021bbaa5a": {
      "model_module": "@jupyter-widgets/controls",
      "model_module_version": "1.1.0",
      "model_name": "CheckboxModel",
      "state": {
       "description": "Rotate network",
       "disabled": false,
       "layout": "IPY_MODEL_50ef11a32c8a4b7cb03e6d2aba8b6678",
       "style": "IPY_MODEL_0ef7b9cc87994c939e32edb51c765385",
       "value": false
      }
     },
     "10bd7257e4de4aa59b6e6ad9ce263763": {
      "model_module": "@jupyter-widgets/controls",
      "model_module_version": "1.1.0",
      "model_name": "VBoxModel",
      "state": {
       "children": [
        "IPY_MODEL_52a9b8f749c74ead811ef6895b3ca085",
        "IPY_MODEL_c4ebf6c5828f45feab29325a97f5afd6"
       ],
       "layout": "IPY_MODEL_d9271dd27e4c4c57993659625f2a19ce"
      }
     },
     "10eef53084fe4edbaebd43abe2725054": {
      "model_module": "@jupyter-widgets/base",
      "model_module_version": "1.0.0",
      "model_name": "LayoutModel",
      "state": {}
     },
     "112102c6d5f744169caea205ee339750": {
      "model_module": "@jupyter-widgets/base",
      "model_module_version": "1.0.0",
      "model_name": "LayoutModel",
      "state": {}
     },
     "112718dbc2124b56a19d77f93be98fdc": {
      "model_module": "@jupyter-widgets/base",
      "model_module_version": "1.0.0",
      "model_name": "LayoutModel",
      "state": {
       "width": "100%"
      }
     },
     "11cbb326dd974229bd182d57564c9cca": {
      "model_module": "@jupyter-widgets/controls",
      "model_module_version": "1.1.0",
      "model_name": "ButtonStyleModel",
      "state": {}
     },
     "120e6a1c70584c969302abe7382b3a66": {
      "model_module": "@jupyter-widgets/base",
      "model_module_version": "1.0.0",
      "model_name": "LayoutModel",
      "state": {
       "width": "100%"
      }
     },
     "1225a72764f5494cb4fc9ac00fcc6416": {
      "model_module": "@jupyter-widgets/controls",
      "model_module_version": "1.1.0",
      "model_name": "FloatTextModel",
      "state": {
       "description": "Rightmost color maps to:",
       "layout": "IPY_MODEL_7e59f98a70314aec82f1878ddc42fb53",
       "step": null,
       "style": "IPY_MODEL_77624ff2970c4c63bb7887d4feb4152c",
       "value": 1
      }
     },
     "12379ee8920c49379c70ab27fbb72dfc": {
      "model_module": "@jupyter-widgets/base",
      "model_module_version": "1.0.0",
      "model_name": "LayoutModel",
      "state": {}
     },
     "126a0c9263594717ba3c331cafecbbb0": {
      "model_module": "@jupyter-widgets/controls",
      "model_module_version": "1.1.0",
      "model_name": "DescriptionStyleModel",
      "state": {
       "description_width": "initial"
      }
     },
     "127864491e644252b6525e0065b7dbb7": {
      "model_module": "@jupyter-widgets/base",
      "model_module_version": "1.0.0",
      "model_name": "LayoutModel",
      "state": {}
     },
     "1296f6b528cc46d08773fc2048f2529c": {
      "model_module": "@jupyter-widgets/base",
      "model_module_version": "1.0.0",
      "model_name": "LayoutModel",
      "state": {
       "width": "100%"
      }
     },
     "129b806245d74415b1a12e759f3d4771": {
      "model_module": "@jupyter-widgets/base",
      "model_module_version": "1.0.0",
      "model_name": "LayoutModel",
      "state": {}
     },
     "1324f9c1472f4d54a7d9003498306b5a": {
      "model_module": "@jupyter-widgets/controls",
      "model_module_version": "1.1.0",
      "model_name": "ButtonModel",
      "state": {
       "icon": "fast-backward",
       "layout": "IPY_MODEL_fcd583f56ce645f49e32ec75019ce0f7",
       "style": "IPY_MODEL_dcfc11894df842529d93285b4507d8e9"
      }
     },
     "1364ad599e0c4496a5582e40de7c228f": {
      "model_module": "@jupyter-widgets/base",
      "model_module_version": "1.0.0",
      "model_name": "LayoutModel",
      "state": {
       "width": "10%"
      }
     },
     "13e255e161d441429c284fe4aa7fde2a": {
      "model_module": "@jupyter-widgets/base",
      "model_module_version": "1.0.0",
      "model_name": "LayoutModel",
      "state": {}
     },
     "143488f4874f461fb695e34e105a5a05": {
      "model_module": "@jupyter-widgets/base",
      "model_module_version": "1.0.0",
      "model_name": "LayoutModel",
      "state": {}
     },
     "145f0808eb69432fbea72ef6b0a829ce": {
      "model_module": "@jupyter-widgets/base",
      "model_module_version": "1.0.0",
      "model_name": "LayoutModel",
      "state": {}
     },
     "14ab676a7a224249b8cd8aa83551149d": {
      "model_module": "@jupyter-widgets/controls",
      "model_module_version": "1.1.0",
      "model_name": "VBoxModel",
      "state": {
       "children": [
        "IPY_MODEL_b331767575dd43a48ace9c72aa2d29f6",
        "IPY_MODEL_dffbae6f08f043a998bc7ebf8a6ff294",
        "IPY_MODEL_28810ef2e4234453a5cecb647f72421e",
        "IPY_MODEL_57a18545a39c4eaf92363cf01f152ba7"
       ],
       "layout": "IPY_MODEL_12379ee8920c49379c70ab27fbb72dfc"
      }
     },
     "14abd11ef3bf4a5e82f64438b11bfa5c": {
      "model_module": "@jupyter-widgets/controls",
      "model_module_version": "1.1.0",
      "model_name": "DescriptionStyleModel",
      "state": {
       "description_width": "initial"
      }
     },
     "14d0f921deb446d8b4cef9a5937e30f4": {
      "model_module": "@jupyter-widgets/controls",
      "model_module_version": "1.1.0",
      "model_name": "VBoxModel",
      "state": {
       "children": [
        "IPY_MODEL_907697b0be414e538201113c780c3f2e",
        "IPY_MODEL_fdf284abe3b24a6c8f489182e8da548e",
        "IPY_MODEL_8a0fc57f786f49eab4d316b069faa0d2",
        "IPY_MODEL_2348af371d2b43f8a5af6236ba4ee1ab"
       ],
       "layout": "IPY_MODEL_a305c976ea124f7ebc0151068971d1f6"
      }
     },
     "15125e61e2bd47f297f6f19462d60d28": {
      "model_module": "@jupyter-widgets/base",
      "model_module_version": "1.0.0",
      "model_name": "LayoutModel",
      "state": {}
     },
     "15912eec2c4b4987bf56b258f3e21405": {
      "model_module": "@jupyter-widgets/controls",
      "model_module_version": "1.1.0",
      "model_name": "IntSliderModel",
      "state": {
       "continuous_update": false,
       "description": "Dataset index",
       "layout": "IPY_MODEL_544fad16864541999bed0eff60d814fe",
       "max": 2,
       "style": "IPY_MODEL_4c97768803444de0b7f08ab68ad51ec1",
       "value": 2
      }
     },
     "161f8309acfa41e5ad2138c8e10f89d8": {
      "model_module": "@jupyter-widgets/controls",
      "model_module_version": "1.1.0",
      "model_name": "DescriptionStyleModel",
      "state": {
       "description_width": ""
      }
     },
     "1648f5adfc1b4d5ab5627bb36fcc8d8a": {
      "model_module": "@jupyter-widgets/base",
      "model_module_version": "1.0.0",
      "model_name": "LayoutModel",
      "state": {
       "width": "100%"
      }
     },
     "167860cbfd9e43419f575b1b6f718ac5": {
      "model_module": "@jupyter-widgets/controls",
      "model_module_version": "1.1.0",
      "model_name": "SelectModel",
      "state": {
       "_options_labels": [
        "input",
        "context",
        "hidden",
        "output"
       ],
       "description": "Layer:",
       "index": 3,
       "layout": "IPY_MODEL_bddbf2780f304607ab26817810fcd727",
       "rows": 1,
       "style": "IPY_MODEL_590385d5488c4544a6833f05211d665c"
      }
     },
     "16dcb1c898be450783c565fd3799e060": {
      "model_module": "@jupyter-widgets/base",
      "model_module_version": "1.0.0",
      "model_name": "LayoutModel",
      "state": {
       "width": "65%"
      }
     },
     "17ff7b21eaec46b4be9978e76c613d12": {
      "model_module": "@jupyter-widgets/controls",
      "model_module_version": "1.1.0",
      "model_name": "ButtonModel",
      "state": {
       "icon": "fast-forward",
       "layout": "IPY_MODEL_8c10aabf31654a19a778c3e680867d28",
       "style": "IPY_MODEL_665c2ca5a0d54ea48c9266a7c77a1796"
      }
     },
     "18adb5d1555c4510ae4d145980fd2f5c": {
      "model_module": "@jupyter-widgets/controls",
      "model_module_version": "1.1.0",
      "model_name": "SelectModel",
      "state": {
       "_options_labels": [
        ""
       ],
       "description": "Features:",
       "index": 0,
       "layout": "IPY_MODEL_da876bce2294490a8477543edf470f3f",
       "rows": 1,
       "style": "IPY_MODEL_c26f9fb59d584637b20889de03f1d1d2"
      }
     },
     "19bfaeb27b974b08a3d920622b4ef609": {
      "model_module": "@jupyter-widgets/controls",
      "model_module_version": "1.1.0",
      "model_name": "ButtonStyleModel",
      "state": {}
     },
     "1a0654d27c554028ab8113b241fbaa7b": {
      "model_module": "@jupyter-widgets/controls",
      "model_module_version": "1.1.0",
      "model_name": "ButtonStyleModel",
      "state": {}
     },
     "1a148d0b5a49498fac944aed4f4e2312": {
      "model_module": "@jupyter-widgets/controls",
      "model_module_version": "1.1.0",
      "model_name": "DescriptionStyleModel",
      "state": {
       "description_width": ""
      }
     },
     "1a286ed280034ac6ac5f69f11199eb0d": {
      "model_module": "@jupyter-widgets/controls",
      "model_module_version": "1.1.0",
      "model_name": "DescriptionStyleModel",
      "state": {
       "description_width": ""
      }
     },
     "1a46eb7976244f8facb5b3943cf1bdc8": {
      "model_module": "@jupyter-widgets/controls",
      "model_module_version": "1.1.0",
      "model_name": "VBoxModel",
      "state": {
       "children": [
        "IPY_MODEL_988dd67736094ac7b757214b84852ba8",
        "IPY_MODEL_3b9d3c692790421da6ad73c3b5c4ebf3",
        "IPY_MODEL_c5ac14095c594f6ba1dc0ce37732bce3",
        "IPY_MODEL_e76c3e4860794b5f9668a40c6b2a60b1",
        "IPY_MODEL_f0060d0a19b1458f856c94ff00a737a2",
        "IPY_MODEL_36d8f83088eb4ae2b04923fa57e4c12f",
        "IPY_MODEL_83915be0e4b14a7bba0ce88d07890e0f",
        "IPY_MODEL_e677b4767583479c81e6d418106bb7e7"
       ],
       "layout": "IPY_MODEL_dd837a6822154c0782051ed82cb31b3a"
      }
     },
     "1a8a6691241d480a903fe0ae3edeeb85": {
      "model_module": "@jupyter-widgets/controls",
      "model_module_version": "1.1.0",
      "model_name": "ButtonModel",
      "state": {
       "icon": "forward",
       "layout": "IPY_MODEL_f830ff39a7114911916fb7422d4cfffc",
       "style": "IPY_MODEL_b7c77901ee574d4f887cd5ae167ad24f"
      }
     },
     "1a8e415c17a949a58c1f8d544ede76a4": {
      "model_module": "@jupyter-widgets/controls",
      "model_module_version": "1.1.0",
      "model_name": "FloatTextModel",
      "state": {
       "description": "Rightmost color maps to:",
       "layout": "IPY_MODEL_a8136ec00f0440d1a6fae097b65c6e25",
       "step": null,
       "style": "IPY_MODEL_9c6a1df810fc4da3a54ec0c81c2c779b",
       "value": 1
      }
     },
     "1aa0b51927da4966935e730c2657edda": {
      "model_module": "@jupyter-widgets/base",
      "model_module_version": "1.0.0",
      "model_name": "LayoutModel",
      "state": {
       "height": "40px"
      }
     },
     "1acd6b58175f4428b58a909625796ac5": {
      "model_module": "@jupyter-widgets/controls",
      "model_module_version": "1.1.0",
      "model_name": "SliderStyleModel",
      "state": {
       "description_width": "initial"
      }
     },
     "1ae9f4256ce74a3c80547c65143eb3bc": {
      "model_module": "@jupyter-widgets/controls",
      "model_module_version": "1.1.0",
      "model_name": "DescriptionStyleModel",
      "state": {
       "description_width": "initial"
      }
     },
     "1b1e80186bcc4ed7bd605d989ece23e2": {
      "model_module": "@jupyter-widgets/controls",
      "model_module_version": "1.1.0",
      "model_name": "DescriptionStyleModel",
      "state": {
       "description_width": "initial"
      }
     },
     "1b6da7560b7a44608864448699d23b58": {
      "model_module": "@jupyter-widgets/base",
      "model_module_version": "1.0.0",
      "model_name": "LayoutModel",
      "state": {}
     },
     "1c32b1d5049841b2a78068b09f495c2d": {
      "model_module": "@jupyter-widgets/base",
      "model_module_version": "1.0.0",
      "model_name": "LayoutModel",
      "state": {
       "width": "10%"
      }
     },
     "1c3345d83e6d4892b02dc71538d0c724": {
      "model_module": "@jupyter-widgets/base",
      "model_module_version": "1.0.0",
      "model_name": "LayoutModel",
      "state": {}
     },
     "1c3dbe62a7bc4246bce5a94f7984bdb7": {
      "model_module": "@jupyter-widgets/base",
      "model_module_version": "1.0.0",
      "model_name": "LayoutModel",
      "state": {}
     },
     "1c5181f6366a40d494d039e86ad2b682": {
      "model_module": "@jupyter-widgets/controls",
      "model_module_version": "1.1.0",
      "model_name": "HBoxModel",
      "state": {
       "children": [
        "IPY_MODEL_c210bee395f14bdf801b49821f9589ad",
        "IPY_MODEL_9c9b9d51346f4dacbd47636b87f773a0",
        "IPY_MODEL_d616cf1f0b764f3abc35637c857670fc",
        "IPY_MODEL_cecec0eecd114ae293689a9dbe106ce3",
        "IPY_MODEL_f9a05ad7d9cd4df3a7585fbec63a9ec0",
        "IPY_MODEL_b7b8b4d151154ac38024574a5cdc6b2e",
        "IPY_MODEL_9d0ba226140c4f3396ebdc0412248734"
       ],
       "layout": "IPY_MODEL_e0afbdbcd09b44a59032893355b85e3d"
      }
     },
     "1d0c965353194e77bf99bf5a2728c3fa": {
      "model_module": "@jupyter-widgets/controls",
      "model_module_version": "1.1.0",
      "model_name": "HBoxModel",
      "state": {
       "children": [
        "IPY_MODEL_391a62a6e2744c55a9824b766662db8d",
        "IPY_MODEL_bbfc783b45464bf2838404564a399248"
       ],
       "layout": "IPY_MODEL_f625ad725320422c96893b8babd5a8ea"
      }
     },
     "1d80d12eb8484ce9b48164819f8b0c72": {
      "model_module": "@jupyter-widgets/controls",
      "model_module_version": "1.1.0",
      "model_name": "DescriptionStyleModel",
      "state": {
       "description_width": "initial"
      }
     },
     "1de149defe9b457d868c0812893de548": {
      "model_module": "@jupyter-widgets/base",
      "model_module_version": "1.0.0",
      "model_name": "LayoutModel",
      "state": {
       "width": "100%"
      }
     },
     "1e0f9c5868a94e7b80e2b9f073c52908": {
      "model_module": "@jupyter-widgets/base",
      "model_module_version": "1.0.0",
      "model_name": "LayoutModel",
      "state": {
       "justify_content": "center",
       "overflow_x": "auto",
       "overflow_y": "auto",
       "width": "95%"
      }
     },
     "1e413eb4928f418f8ac6746e759ca4a9": {
      "model_module": "@jupyter-widgets/controls",
      "model_module_version": "1.1.0",
      "model_name": "DescriptionStyleModel",
      "state": {
       "description_width": "initial"
      }
     },
     "1e8768e2f2a649c8bd7e42794608d003": {
      "model_module": "@jupyter-widgets/controls",
      "model_module_version": "1.1.0",
      "model_name": "DescriptionStyleModel",
      "state": {
       "description_width": "initial"
      }
     },
     "1f432de6a22b48f681a31c32e69e7cbe": {
      "model_module": "@jupyter-widgets/controls",
      "model_module_version": "1.1.0",
      "model_name": "DescriptionStyleModel",
      "state": {
       "description_width": "initial"
      }
     },
     "2031f78825024ff9ab064684a9501a0a": {
      "model_module": "@jupyter-widgets/controls",
      "model_module_version": "1.1.0",
      "model_name": "VBoxModel",
      "state": {
       "children": [
        "IPY_MODEL_c138abcf91084b8fbdb9a3e7d70a8d5e",
        "IPY_MODEL_51855a99ff4c46418fc8f841823e6b8f",
        "IPY_MODEL_55409a9b0b1b420c9c674bb08bad3888",
        "IPY_MODEL_3952b27c1b314794931fb162e61e45a2"
       ],
       "layout": "IPY_MODEL_77a77c16f0bf4e4c82fd74e341c74168"
      }
     },
     "208176ecf42344af93b4a7aee0f3d509": {
      "model_module": "@jupyter-widgets/base",
      "model_module_version": "1.0.0",
      "model_name": "LayoutModel",
      "state": {}
     },
     "20de1b11e88c4d9c8a608e8621f07248": {
      "model_module": "@jupyter-widgets/base",
      "model_module_version": "1.0.0",
      "model_name": "LayoutModel",
      "state": {
       "width": "100px"
      }
     },
     "2137080effdd4c30a863641902b11419": {
      "model_module": "@jupyter-widgets/controls",
      "model_module_version": "1.1.0",
      "model_name": "VBoxModel",
      "state": {
       "children": [
        "IPY_MODEL_5ef8c90112484d29a4b91dbe71f7bb8d",
        "IPY_MODEL_3c6f7eade35843ccbf80f718a40aa0d1",
        "IPY_MODEL_3c1a2abfa9ac4a0d8dace0d42628fbac",
        "IPY_MODEL_cb1b08b97f3243ae9883c8a5b5501b37",
        "IPY_MODEL_77cd5aef85344e0890ebffe62df1a21a",
        "IPY_MODEL_9bc6e336bb584fb3be61c4425b7b50e1",
        "IPY_MODEL_cead32d607484cd8b0d547cf19ac46b4",
        "IPY_MODEL_60c8a74ac4f24f909620bf7822399754"
       ],
       "layout": "IPY_MODEL_e6d4ee82186a4ba89b7a81bf3eb77280"
      }
     },
     "2197ca48a23146eda2b417e143afb9fc": {
      "model_module": "@jupyter-widgets/base",
      "model_module_version": "1.0.0",
      "model_name": "LayoutModel",
      "state": {
       "width": "100%"
      }
     },
     "21a1c7d8ea8841eba1711f0e4678f26e": {
      "model_module": "@jupyter-widgets/controls",
      "model_module_version": "1.1.0",
      "model_name": "IntTextModel",
      "state": {
       "description": "Horizontal space between banks:",
       "layout": "IPY_MODEL_535cf873776249788f2cdf7731497364",
       "step": 1,
       "style": "IPY_MODEL_1f432de6a22b48f681a31c32e69e7cbe",
       "value": 150
      }
     },
     "225c5afa049c40e9ac8a51d2b2ebe5f0": {
      "model_module": "@jupyter-widgets/controls",
      "model_module_version": "1.1.0",
      "model_name": "ButtonModel",
      "state": {
       "icon": "backward",
       "layout": "IPY_MODEL_7c0cd29fb04d4ff691df5fcc4952ee1c",
       "style": "IPY_MODEL_e9f9f195dc8c44d3bafb40fc8548fdd9"
      }
     },
     "22d5f446c59e4fae990c4176c63f3214": {
      "model_module": "@jupyter-widgets/controls",
      "model_module_version": "1.1.0",
      "model_name": "IntSliderModel",
      "state": {
       "continuous_update": false,
       "description": "Dataset index",
       "layout": "IPY_MODEL_c6637f7bc53f4c3fa0e12c43fe6b1451",
       "max": 2,
       "style": "IPY_MODEL_a5bd5bce11024d07946cc5c3a400737e"
      }
     },
     "2348af371d2b43f8a5af6236ba4ee1ab": {
      "model_module": "@jupyter-widgets/output",
      "model_module_version": "1.0.0",
      "model_name": "OutputModel",
      "state": {
       "layout": "IPY_MODEL_d487b348f549452993db4645bb9de49d"
      }
     },
     "2357925efb7847c8a62b42cc1a142480": {
      "model_module": "@jupyter-widgets/base",
      "model_module_version": "1.0.0",
      "model_name": "LayoutModel",
      "state": {}
     },
     "237699262e1141678e80f00e459a70f8": {
      "model_module": "@jupyter-widgets/base",
      "model_module_version": "1.0.0",
      "model_name": "LayoutModel",
      "state": {}
     },
     "23a8f897f6ab44c097f2744bafb5fef3": {
      "model_module": "@jupyter-widgets/base",
      "model_module_version": "1.0.0",
      "model_name": "LayoutModel",
      "state": {}
     },
     "23a92135496f43a69472d536594dd741": {
      "model_module": "@jupyter-widgets/base",
      "model_module_version": "1.0.0",
      "model_name": "LayoutModel",
      "state": {
       "width": "25%"
      }
     },
     "23b4baf4c74f407abf563058b7251ac1": {
      "model_module": "@jupyter-widgets/controls",
      "model_module_version": "1.1.0",
      "model_name": "HTMLModel",
      "state": {
       "layout": "IPY_MODEL_ed674fa7653c404e9c43d5b741605b84",
       "style": "IPY_MODEL_a5cf9d340e084ecdac8d8b64faf6cda9",
       "value": "<img src=\"data:image/gif;base64,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\"/>"
      }
     },
     "23e91e3a3a244e6bb40c409d3f355b96": {
      "model_module": "@jupyter-widgets/base",
      "model_module_version": "1.0.0",
      "model_name": "LayoutModel",
      "state": {
       "width": "52%"
      }
     },
     "2414a3e2ab4e4097a1483673b06d4af2": {
      "model_module": "@jupyter-widgets/base",
      "model_module_version": "1.0.0",
      "model_name": "LayoutModel",
      "state": {}
     },
     "24191188c4fa4017a190f5d6366cd318": {
      "model_module": "@jupyter-widgets/controls",
      "model_module_version": "1.1.0",
      "model_name": "FloatTextModel",
      "state": {
       "description": "Feature scale:",
       "layout": "IPY_MODEL_70fcc06f14584305b33c0bd66ca8ca88",
       "step": null,
       "style": "IPY_MODEL_84ca7e5657da4c1baad05f4de8685ef9",
       "value": 1
      }
     },
     "24228ff1dd094bf9878c748cf391a5fa": {
      "model_module": "@jupyter-widgets/controls",
      "model_module_version": "1.1.0",
      "model_name": "CheckboxModel",
      "state": {
       "description": "Rotate network",
       "disabled": false,
       "layout": "IPY_MODEL_44a2a48cbc45490e85196a38ea8a2117",
       "style": "IPY_MODEL_6061f1222e5348f28e7eed7db158342c",
       "value": false
      }
     },
     "24d142e90a5c404b8036c20292acd560": {
      "model_module": "@jupyter-widgets/controls",
      "model_module_version": "1.1.0",
      "model_name": "ButtonModel",
      "state": {
       "description": "Play",
       "icon": "play",
       "layout": "IPY_MODEL_53250806ae9b4fcebbf356e0ed2ee824",
       "style": "IPY_MODEL_c2461881e6e94f9b959c26014fd365b0"
      }
     },
     "251161a5b54c4f64853cd10547e356dd": {
      "model_module": "@jupyter-widgets/controls",
      "model_module_version": "1.1.0",
      "model_name": "HTMLModel",
      "state": {
       "layout": "IPY_MODEL_0eb650b3aaa24ff9be96d20be762ec74",
       "style": "IPY_MODEL_f8090275a5464c218b7006f5620899c0",
       "value": "<img src=\"data:image/gif;base64,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\"/>"
      }
     },
     "25ba07e816e64b23aacf15db9de87740": {
      "model_module": "@jupyter-widgets/base",
      "model_module_version": "1.0.0",
      "model_name": "LayoutModel",
      "state": {}
     },
     "25c2b090c4d7464293d1272d1b8d87f7": {
      "model_module": "@jupyter-widgets/controls",
      "model_module_version": "1.1.0",
      "model_name": "CheckboxModel",
      "state": {
       "description": "Rotate",
       "disabled": false,
       "layout": "IPY_MODEL_d0efc5b93d1b427d991025764c7c76c5",
       "style": "IPY_MODEL_a0ba3e93a7704f659f193eac206a3449",
       "value": true
      }
     },
     "25d4c82eaac045dcac7329baca7339a4": {
      "model_module": "@jupyter-widgets/controls",
      "model_module_version": "1.1.0",
      "model_name": "CheckboxModel",
      "state": {
       "description": "Errors",
       "disabled": false,
       "layout": "IPY_MODEL_897822a9588b4ab585f13576dac3c861",
       "style": "IPY_MODEL_e249a43f037b4c499ab53c236fd91e2f",
       "value": false
      }
     },
     "263bd4c03c2749ca8289d470261c0ed6": {
      "model_module": "@jupyter-widgets/base",
      "model_module_version": "1.0.0",
      "model_name": "LayoutModel",
      "state": {}
     },
     "2654fbe51a30422e849f5cb742292019": {
      "model_module": "@jupyter-widgets/base",
      "model_module_version": "1.0.0",
      "model_name": "LayoutModel",
      "state": {}
     },
     "2672e34db1e2415aab8d580274af9a6c": {
      "model_module": "@jupyter-widgets/base",
      "model_module_version": "1.0.0",
      "model_name": "LayoutModel",
      "state": {}
     },
     "268c77a1ece54179970aba46e3b7af2c": {
      "model_module": "@jupyter-widgets/base",
      "model_module_version": "1.0.0",
      "model_name": "LayoutModel",
      "state": {}
     },
     "26ab81c47d594a9297e214c1a9e48dca": {
      "model_module": "@jupyter-widgets/base",
      "model_module_version": "1.0.0",
      "model_name": "LayoutModel",
      "state": {
       "width": "100px"
      }
     },
     "27b6baf7ff7a4dec95bb80dcdf5e0055": {
      "model_module": "@jupyter-widgets/base",
      "model_module_version": "1.0.0",
      "model_name": "LayoutModel",
      "state": {}
     },
     "27d842eb37374b71ae8f45e6f0c207d6": {
      "model_module": "@jupyter-widgets/base",
      "model_module_version": "1.0.0",
      "model_name": "LayoutModel",
      "state": {}
     },
     "2809aeab11b749dda2ec28daef7ecde3": {
      "model_module": "@jupyter-widgets/controls",
      "model_module_version": "1.1.0",
      "model_name": "DescriptionStyleModel",
      "state": {
       "description_width": ""
      }
     },
     "284fb6bf7457419e81b06517247d8642": {
      "model_module": "@jupyter-widgets/controls",
      "model_module_version": "1.1.0",
      "model_name": "VBoxModel",
      "state": {
       "children": [
        "IPY_MODEL_5ff5bf9e4de14448ba4f01be872c902d",
        "IPY_MODEL_4b50bdfe5ba34d61a10e03336ad76bbd",
        "IPY_MODEL_58b5a0ff6d3446a889b022ed0842f222",
        "IPY_MODEL_df4c833e3ef542d4afeb2c02bef42395",
        "IPY_MODEL_7f8b2eb84122460093d853ec0041be47",
        "IPY_MODEL_95ba85a6827c48f99122aca505b714ec",
        "IPY_MODEL_cbdf991d2cfc47a7b86af8ebf3703ec4",
        "IPY_MODEL_dcd1d3dde618425c8f2a30f8c9c4b828"
       ],
       "layout": "IPY_MODEL_503b7991f85c4609b7347e8eeb11a4d1"
      }
     },
     "2865094aef804b3e9633c77eb6734bb4": {
      "model_module": "@jupyter-widgets/controls",
      "model_module_version": "1.1.0",
      "model_name": "ButtonStyleModel",
      "state": {}
     },
     "28810ef2e4234453a5cecb647f72421e": {
      "model_module": "@jupyter-widgets/controls",
      "model_module_version": "1.1.0",
      "model_name": "HTMLModel",
      "state": {
       "layout": "IPY_MODEL_889895ec76bf4da084acb4172b0f28fc",
       "style": "IPY_MODEL_cbb3d665efd049fe9cc27d81a4296e87",
       "value": "<p style=\"text-align:center\"><svg id='Polka in Time' xmlns='http://www.w3.org/2000/svg' image-rendering=\"pixelated\" width=\"400.0px\" height=\"276.3636363636364px\">\n <g >\n  <svg viewBox=\"0 0 550 380\" width=\"400.0px\" height=\"276.3636363636364px\">\n    <defs>\n        <marker id=\"arrow\" markerWidth=\"10\" markerHeight=\"10\" refX=\"9\" refY=\"3\" orient=\"auto\" markerUnits=\"strokeWidth\">\n          <path d=\"M0,0 L0,6 L9,3 z\" fill=\"black\" />\n        </marker>\n    </defs><rect x=\"249.0\" y=\"24\" width=\"52\" height=\"52\" style=\"fill:none;stroke:black;stroke-width:2\"/><image id=\"picture-dashboard-Polka in Time-970372_output_targets_13\" class=\"picture-dashboard-Polka in Time-970372_output_targets\" x=\"250.0\" y=\"25\" height=\"50\" width=\"50\" preserveAspectRatio=\"none\" href=\"data:image/gif;base64,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\"><title>Layer: output (output)\n output range: (0, 1)\n shape = (1,)\n Keras class = Dense\n activation = sigmoid</title></image><text x=\"305.0\" y=\"52.0\" font-family=\"monospace\" font-size=\"12\" text-anchor=\"start\" fill=\"black\" alignment-baseline=\"central\" >targets</text><rect x=\"249.0\" y=\"84\" width=\"52\" height=\"52\" style=\"fill:none;stroke:black;stroke-width:2\"/><image id=\"picture-dashboard-Polka in Time-970372_output_errors_13\" class=\"picture-dashboard-Polka in Time-970372_output_errors\" x=\"250.0\" y=\"85\" height=\"50\" width=\"50\" preserveAspectRatio=\"none\" href=\"data:image/gif;base64,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\"><title>Layer: output (output)\n output range: (0, 1)\n shape = (1,)\n Keras class = Dense\n activation = sigmoid</title></image><text x=\"305.0\" y=\"112.0\" font-family=\"monospace\" font-size=\"12\" text-anchor=\"start\" fill=\"black\" alignment-baseline=\"central\" >errors</text><line x1=\"137.5\" y1=\"140\" x2=\"412.5\" y2=\"140\" stroke=\"green\" stroke-width=\"2\"><title></title></line><rect x=\"249.0\" y=\"144\" width=\"52\" height=\"52\" style=\"fill:none;stroke:black;stroke-width:2\"/><image id=\"picture-dashboard-Polka in Time-970372_output_13\" class=\"picture-dashboard-Polka in Time-970372_output\" x=\"250.0\" y=\"145\" height=\"50\" width=\"50\" preserveAspectRatio=\"none\" href=\"data:image/gif;base64,R0lGODdhPgA+AIcAALEAAAAAAAAAAAAAAAAAAAAAAAAAAAAAAAAAAAAAAAAAAAAAAAAAAAAAAAAAAAAAAAAAAAAAAAAAAAAAAAAAAAAAAAAAAAAAAAAAAAAAAAAAAAAAAAAAAAAAAAAAAAAAAAAAAAAAAAAAAAAAAAAAAAAAAAAAAAAAAAAAAAAAAAAAAAAAAAAAAAAAAAAAAAAAAAAAAAAAAAAAAAAAAAAAAAAAAAAAAAAAAAAAAAAAAAAAAAAAAAAAAAAAAAAAAAAAAAAAAAAAAAAAAAAAAAAAAAAAAAAAAAAAAAAAAAAAAAAAAAAAAAAAAAAAAAAAAAAAAAAAAAAAAAAAAAAAAAAAAAAAAAAAAAAAAAAAAAAAAAAAAAAAAAAAAAAAAAAAAAAAAAAAAAAAAAAAAAAAAAAAAAAAAAAAAAAAAAAAAAAAAAAAAAAAAAAAAAAAAAAAAAAAAAAAAAAAAAAAAAAAAAAAAAAAAAAAAAAAAAAAAAAAAAAAAAAAAAAAAAAAAAAAAAAAAAAAAAAAAAAAAAAAAAAAAAAAAAAAAAAAAAAAAAAAAAAAAAAAAAAAAAAAAAAAAAAAAAAAAAAAAAAAAAAAAAAAAAAAAAAAAAAAAAAAAAAAAAAAAAAAAAAAAAAAAAAAAAAAAAAAAAAAAAAAAAAAAAAAAAAAAAAAAAAAAAAAAAAAAAAAAAAAAAAAAAAAAAAAAAAAAAAAAAAAAAAAAAAAAAAAAAAAAAAAAAAAAAAAAAAAAAAAAAAAAAAAAAAAAAAAAAAAAAAAAAAAAAAAAAAAAAAAAAAAAAAAAAAAAAAAAAAAAAAAAAAAAAAAAAAAAAAAAAAAAAAAAAAAAAAAAAAAAAAAAAAAAAAAAAAAAAAAAAAAAAAAAAAAAAAAAAAAAAAAAAAAAAAAAAAAAAAAAAAAAAAAAAAAAAAAAAAAAAAAAAAAAAAAAAAAAAAAAAAAAAAAAAAAAAAAAAAAAAAAAAAAAAAAAAAAAAAAAAAAAAAAAAAAAAAAAAAAAAAAAAAAAAAAAAAAACwAAAAAPgA+AEAI/wADCBxIsKDBgwgTKkQIoKHDhxAjSpxIsSLEAAEAaNzIsaPHjyBDiuwYIACAkyhTqlzJsqXLlyoDBABAs6bNmzhz6tzJ82aAAACCCh1KtKjRo0iTEg0QAIDTp1CjSp1KtarVqAECANjKtavXr2DDih3rNUAAAGjTql3Ltq3bt3DXBggAoK7du3jz6t3Lty/eAAEACB5MuLDhw4gTKy4cIACAx5AjS55MubLly5IDBADAubPnz6BDix5N+nOAAABSq17NurXr17Bjsw4QAIDt27hz697Nu7fv3AECABhOvLjx48iTK19uPEAAANCjS59Ovbr169inBwgAoLv37+DDi/8fT748+AABAKhfz769+/fw48tvHyAAgPv48+vfz7+/f4AABA4kWDBAAAAJFS5k2NDhQ4gRGQYIAMDiRYwZNW7k2NFjxgABAIwkWdLkSZQpVa40GSAAAJgxZc6kWdPmTZwzAwQA0NPnT6BBhQ4lWhRogAAAlC5l2tTpU6hRpTYNEADAVaxZtW7l2tXrV60BAgAgW9bsWbRp1a5lezZAAABx5c6lW9fuXbx56QYIAMDvX8CBBQ8mXNhw4AABACxm3NjxY8iRJU92HCAAAMyZNW/m3NnzZ9CbAwQAUNr0adSpVa9m3Rp1gAAAZM+mXdv2bdy5ddcOEADAb+DBhQ8nXtz/+HHhAQIAYN7c+XPo0aVPp/48QAAA2bVv597d+3fw4bkHCADA/Hn06dWvZ9/effoAAQDMp1/f/n38+fXvtx8gAEAAAgcSLGjwIMKECgsGCADgIcSIEidSrGjxosQAAQBw7OjxI8iQIkeS/BggAICUKleybOnyJcyYLAMEAGDzJs6cOnfy7OkzZ4AAAIYSLWr0KNKkSpcaDRAAANSoUqdSrWr1KtapAQIA6Or1K9iwYseSLQs2QAAAateybev2Ldy4ctsGCADgLt68evfy7ev3r94AAQAQLmz4MOLEihczPhwgAIDIkidTrmz5MubMlAMEAOD5M+jQokeTLm06dIAAlQBWs27t+jXs2LJnuw4QAADu3Lp38+7t+zfw3QECAChu/Djy5MqXM2+OPEAAANKnU69u/Tr27NqrBwgA4Dv48OLHky9v/rz4AAEAsG/v/j38+PLn038fIACA/Pr38+/vHyAAgQMJFjR4kGCAAAAYNnT4EGJEiRMpPgwQAEBGjRs5dvT4EWRIjgFIljR5EmVKlStZqgwIADs=\"><title>Layer: output (output)\n output range: (0, 1)\n shape = (1,)\n Keras class = Dense\n activation = sigmoid</title></image><text x=\"305.0\" y=\"172.0\" font-family=\"monospace\" font-size=\"12\" text-anchor=\"start\" fill=\"black\" alignment-baseline=\"central\" >output</text><line x1=\"275.0\" y1=\"224\" x2=\"275.0\" y2=\"197\" stroke=\"black\" stroke-width=\"2\" marker-end=\"url(#arrow)\"><title>Weights from hidden to output\n output_4/kernel:0 has shape (5, 1)\n output_4/bias:0 has shape (1,)</title></line><rect x=\"174.0\" y=\"224\" width=\"202\" height=\"52\" style=\"fill:none;stroke:black;stroke-width:2\"/><image id=\"picture-dashboard-Polka in Time-970372_hidden_14\" class=\"picture-dashboard-Polka in Time-970372_hidden\" x=\"175.0\" y=\"225\" height=\"50\" width=\"200\" preserveAspectRatio=\"none\" href=\"data:image/gif;base64,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\"><title>Layer: hidden (hidden)\n output range: (0, 1)\n shape = (5,)\n Keras class = Dense\n activation = sigmoid</title></image><text x=\"380.0\" y=\"252.0\" font-family=\"monospace\" font-size=\"12\" text-anchor=\"start\" fill=\"black\" alignment-baseline=\"central\" >hidden</text><line x1=\"183.33333333333334\" y1=\"304\" x2=\"275.0\" y2=\"277\" stroke=\"black\" stroke-width=\"2\" marker-end=\"url(#arrow)\"><title>Weights from input to hidden\n hidden_4/kernel:0 has shape (6, 5)\n hidden_4/bias:0 has shape (5,)</title></line><rect x=\"157.33333333333334\" y=\"304\" width=\"52\" height=\"52\" style=\"fill:none;stroke:black;stroke-width:2\"/><image id=\"picture-dashboard-Polka in Time-970372_input_15\" class=\"picture-dashboard-Polka in Time-970372_input\" x=\"158.33333333333334\" y=\"305\" height=\"50\" width=\"50\" preserveAspectRatio=\"none\" href=\"data:image/gif;base64,R0lGODdhPgA+AIcAAAAAAAAAAAAAAAAAAAAAAAAAAAAAAAAAAAAAAAAAAAAAAAAAAAAAAAAAAAAAAAAAAAAAAAAAAAAAAAAAAAAAAAAAAAAAAAAAAAAAAAAAAAAAAAAAAAAAAAAAAAAAAAAAAAAAAAAAAAAAAAAAAAAAAAAAAAAAAAAAAAAAAAAAAAAAAAAAAAAAAAAAAAAAAAAAAAAAAAAAAAAAAAAAAAAAAAAAAAAAAAAAAAAAAAAAAAAAAAAAAAAAAAAAAAAAAAAAAAAAAAAAAAAAAAAAAAAAAAAAAAAAAAAAAAAAAAAAAAAAAAAAAAAAAAAAAAAAAAAAAAAAAAAAAAAAAAAAAAAAAAAAAAAAAAAAAAAAAAAAAAAAAAAAAAAAAAAAAAAAAAAAAAAAAAAAAAAAAAAAAAAAAAAAAAAAAAAAAAAAAAAAAAAAAAAAAAAAAAAAAAAAAAAAAAAAAAAAAAAAAAAAAAAAAAAAAAAAAAAAAAAAAAAAAAAAAAAAAAAAAAAAAAAAAAAAAAAAAAAAAAAAAAAAAAAAAAAAAAAAAAAAAAAAAAAAAAAAAAAAAAAAAAAAAAAAAAAAAAAAAAAAAAAAAAAAAAAAAAAAAAAAAAAAAAAAAAAAAAAAAAAAAAAAAAAAAAAAAAAAAAAAAAAAAAAAAAAAAAAAAAAAAAAAAAAAAAAAAAAAAAAAAAAAAAAAAAAAAAAAAAAAAAAAAAAAAAAAAAAAAAAAAAAAAAAAAAAAAAAAAAAAAAAAAAAAAAAAAAAAAAAAAAAAAAAAAAAAAAAAAAAAAAAAAAAAAAAAAAAAAAAAAAAAAAAAAAAAAAAAAAAAAAAAAAAAAAAAAAAAAAAAAAAAAAAAAAAAAAAAAAAAAAAAAAAAAAAAAAAAAAAAAAAAAAAAAAAAAAAAAAAAAAAAAAAAAAAAAAAAAAAAAAAAAAAAAAAAAAAAAAAAAAAAAAAAAAAAAAAAAAAAAAAAAAAAAAAAAAAAAAAAAAAAAAAAAAAAAAAAAAAAAAAAAAAAAAAAAAAAAAAAACwAAAAAPgA+AEAIZgABCBxIsKDBgwgTKlzIsKHDhxAjSpxIsaLFixgzatzIsaPHjyBDihxJsqTJkyhTqlzJsqXLlzBjypxJs6bNmzhz6tzJs6fPn0CDCh1KtKjRo0iTKl3KtKnTp1CjSp1KtarVqxADAgA7\"><title>Layer: input (input)\n output range: (0.0, 1.0)\n shape = (1,)\n Keras class = Input</title></image><text x=\"213.33333333333334\" y=\"332.0\" font-family=\"monospace\" font-size=\"12\" text-anchor=\"start\" fill=\"black\" alignment-baseline=\"central\" >input</text><line x1=\"366.6666666666667\" y1=\"304\" x2=\"275.0\" y2=\"277\" stroke=\"black\" stroke-width=\"2\" marker-end=\"url(#arrow)\"><title>Weights from context to hidden\n hidden_4/kernel:0 has shape (6, 5)\n hidden_4/bias:0 has shape (5,)</title></line><rect x=\"265.6666666666667\" y=\"304\" width=\"202\" height=\"52\" style=\"fill:none;stroke:black;stroke-width:2\"/><image id=\"picture-dashboard-Polka in Time-970372_context_16\" class=\"picture-dashboard-Polka in Time-970372_context\" x=\"266.6666666666667\" y=\"305\" height=\"50\" width=\"200\" preserveAspectRatio=\"none\" href=\"data:image/gif;base64,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\"><title>Layer: context (input)\n output range: (0.36074212, 0.63445926)\n shape = (5,)\n Keras class = Input</title></image><text x=\"471.6666666666667\" y=\"332.0\" font-family=\"monospace\" font-size=\"12\" text-anchor=\"start\" fill=\"black\" alignment-baseline=\"central\" >context</text><text x=\"275.0\" y=\"12.5\" font-family=\"monospace\" font-size=\"15\" text-anchor=\"middle\" fill=\"black\" alignment-baseline=\"central\" >Polka in Time</text></svg></g></svg></p>"
      }
     },
     "28efdfe165bc41d2bac38e6a2785985b": {
      "model_module": "@jupyter-widgets/controls",
      "model_module_version": "1.1.0",
      "model_name": "DescriptionStyleModel",
      "state": {
       "description_width": ""
      }
     },
     "28fccf3d30694acf87144ec4703b37ae": {
      "model_module": "@jupyter-widgets/controls",
      "model_module_version": "1.1.0",
      "model_name": "FloatTextModel",
      "state": {
       "description": "Rightmost color maps to:",
       "layout": "IPY_MODEL_a838ff3b79514e98836b713f8b5aaf22",
       "step": null,
       "style": "IPY_MODEL_1d80d12eb8484ce9b48164819f8b0c72",
       "value": 1
      }
     },
     "2944169ec87749e0ad212538dc68ef9b": {
      "model_module": "@jupyter-widgets/controls",
      "model_module_version": "1.1.0",
      "model_name": "ButtonModel",
      "state": {
       "icon": "backward",
       "layout": "IPY_MODEL_112718dbc2124b56a19d77f93be98fdc",
       "style": "IPY_MODEL_e9e5fae796b1428e93d07991c83ef851"
      }
     },
     "29969674231b42e590df1887f2fee802": {
      "model_module": "@jupyter-widgets/base",
      "model_module_version": "1.0.0",
      "model_name": "LayoutModel",
      "state": {
       "width": "10%"
      }
     },
     "2a0e2a2d50c048078a79d0efb85386b1": {
      "model_module": "@jupyter-widgets/controls",
      "model_module_version": "1.1.0",
      "model_name": "DescriptionStyleModel",
      "state": {
       "description_width": ""
      }
     },
     "2a83ae9036c448b59d1c662e4edf02e5": {
      "model_module": "@jupyter-widgets/base",
      "model_module_version": "1.0.0",
      "model_name": "LayoutModel",
      "state": {}
     },
     "2bbabc6867f7451fbf90b170c966c262": {
      "model_module": "@jupyter-widgets/base",
      "model_module_version": "1.0.0",
      "model_name": "LayoutModel",
      "state": {
       "justify_content": "center",
       "overflow_x": "auto",
       "overflow_y": "auto",
       "width": "95%"
      }
     },
     "2bf28e8e5a944fa0a125faf5ba79fc02": {
      "model_module": "@jupyter-widgets/base",
      "model_module_version": "1.0.0",
      "model_name": "LayoutModel",
      "state": {}
     },
     "2c3e44764839462c80fa4fc062857973": {
      "model_module": "@jupyter-widgets/controls",
      "model_module_version": "1.1.0",
      "model_name": "ButtonModel",
      "state": {
       "description": "Play",
       "icon": "play",
       "layout": "IPY_MODEL_acbfb42ba89e415cac2587fcb8673f79",
       "style": "IPY_MODEL_5f2d511e06974ef0becc692db264db0c"
      }
     },
     "2c80cf565adc4212aef0ba2018b0dff9": {
      "model_module": "@jupyter-widgets/base",
      "model_module_version": "1.0.0",
      "model_name": "LayoutModel",
      "state": {
       "width": "100%"
      }
     },
     "2c82d3dea446403886d4381f4b58eb20": {
      "model_module": "@jupyter-widgets/controls",
      "model_module_version": "1.1.0",
      "model_name": "CheckboxModel",
      "state": {
       "description": "Show Targets",
       "disabled": false,
       "layout": "IPY_MODEL_68f866ff7fb44987936aa22ab5c8f2e2",
       "style": "IPY_MODEL_8dda8c020fbf4bdf9409d5590803b5fd",
       "value": false
      }
     },
     "2cab03f1edee4463a9ea8eb1217a8c48": {
      "model_module": "@jupyter-widgets/controls",
      "model_module_version": "1.1.0",
      "model_name": "IntTextModel",
      "state": {
       "layout": "IPY_MODEL_58b2f7ffb7d846b798306342340ed1af",
       "step": 1,
       "style": "IPY_MODEL_03b585364ad1441d9f04fedcc222b4f5",
       "value": 2
      }
     },
     "2cb43ca239684715978a875600209d4b": {
      "model_module": "@jupyter-widgets/controls",
      "model_module_version": "1.1.0",
      "model_name": "DescriptionStyleModel",
      "state": {
       "description_width": "initial"
      }
     },
     "2cb6dd0779fe4f1e8acc4333886849b8": {
      "model_module": "@jupyter-widgets/controls",
      "model_module_version": "1.1.0",
      "model_name": "ButtonModel",
      "state": {
       "description": "Play",
       "icon": "play",
       "layout": "IPY_MODEL_474b29ab95be45ebb0fd59ae1fdee612",
       "style": "IPY_MODEL_19bfaeb27b974b08a3d920622b4ef609"
      }
     },
     "2cd18f67fab74b9c8acbc176780ad8a1": {
      "model_module": "@jupyter-widgets/controls",
      "model_module_version": "1.1.0",
      "model_name": "CheckboxModel",
      "state": {
       "description": "Visible",
       "disabled": false,
       "layout": "IPY_MODEL_535cf873776249788f2cdf7731497364",
       "style": "IPY_MODEL_05d66336cd844a8c8b6da0c6de34c23e",
       "value": true
      }
     },
     "2d7029b0c7fa409589d54251d9dfbee7": {
      "model_module": "@jupyter-widgets/controls",
      "model_module_version": "1.1.0",
      "model_name": "DescriptionStyleModel",
      "state": {
       "description_width": ""
      }
     },
     "2d8564458c4e4bf2a4f12759ea719156": {
      "model_module": "@jupyter-widgets/controls",
      "model_module_version": "1.1.0",
      "model_name": "CheckboxModel",
      "state": {
       "description": "Visible",
       "disabled": false,
       "layout": "IPY_MODEL_129b806245d74415b1a12e759f3d4771",
       "style": "IPY_MODEL_0d75dec66e4d4e3eb5c0d0001556657e",
       "value": true
      }
     },
     "2e61a621464249a89fc7571524b4390e": {
      "model_module": "@jupyter-widgets/controls",
      "model_module_version": "1.1.0",
      "model_name": "SliderStyleModel",
      "state": {
       "description_width": "initial"
      }
     },
     "2e7fb86d774b4cd683691201ef626e66": {
      "model_module": "@jupyter-widgets/base",
      "model_module_version": "1.0.0",
      "model_name": "LayoutModel",
      "state": {}
     },
     "2f1863d8a1e247fb8de3db6c3841ce29": {
      "model_module": "@jupyter-widgets/base",
      "model_module_version": "1.0.0",
      "model_name": "LayoutModel",
      "state": {
       "height": "40px"
      }
     },
     "2f89f2ab39b741258ae06ab4b9dd12e5": {
      "model_module": "@jupyter-widgets/controls",
      "model_module_version": "1.1.0",
      "model_name": "CheckboxModel",
      "state": {
       "description": "Visible",
       "disabled": false,
       "layout": "IPY_MODEL_2654fbe51a30422e849f5cb742292019",
       "style": "IPY_MODEL_514cca8cef2b4464bd1f2c2bbc6f6b42",
       "value": true
      }
     },
     "2fa334657a2d448c8d6b6369cd6a55c9": {
      "model_module": "@jupyter-widgets/base",
      "model_module_version": "1.0.0",
      "model_name": "LayoutModel",
      "state": {}
     },
     "2fc66359dc694dffadabde4306288c7a": {
      "model_module": "@jupyter-widgets/controls",
      "model_module_version": "1.1.0",
      "model_name": "SliderStyleModel",
      "state": {
       "description_width": "initial"
      }
     },
     "2fcd13ae04cf4436b698b53702565a0a": {
      "model_module": "@jupyter-widgets/base",
      "model_module_version": "1.0.0",
      "model_name": "LayoutModel",
      "state": {
       "justify_content": "center",
       "overflow_x": "auto",
       "overflow_y": "auto",
       "width": "95%"
      }
     },
     "2feeb88d6dd64d30ace35db975ae1352": {
      "model_module": "@jupyter-widgets/base",
      "model_module_version": "1.0.0",
      "model_name": "LayoutModel",
      "state": {
       "width": "100%"
      }
     },
     "30074147ce644a92a41c9d1b6c14dd33": {
      "model_module": "@jupyter-widgets/controls",
      "model_module_version": "1.1.0",
      "model_name": "CheckboxModel",
      "state": {
       "description": "Rotate network",
       "disabled": false,
       "layout": "IPY_MODEL_99eef3c2104241b9943761ec8a692971",
       "style": "IPY_MODEL_3d279c3a0e8a4f5681eac0ee2e639b72",
       "value": false
      }
     },
     "303fc967dd854a9f944ac069ede7ae4b": {
      "model_module": "@jupyter-widgets/controls",
      "model_module_version": "1.1.0",
      "model_name": "IntTextModel",
      "state": {
       "description": "Horizontal space between banks:",
       "layout": "IPY_MODEL_68f866ff7fb44987936aa22ab5c8f2e2",
       "step": 1,
       "style": "IPY_MODEL_df228beb4a634650b104f64af486280c",
       "value": 150
      }
     },
     "3068e064202b4b14ad8d09e3220c5d5a": {
      "model_module": "@jupyter-widgets/base",
      "model_module_version": "1.0.0",
      "model_name": "LayoutModel",
      "state": {
       "width": "100%"
      }
     },
     "3099a1a058034285bc3d7710ccc2055b": {
      "model_module": "@jupyter-widgets/controls",
      "model_module_version": "1.1.0",
      "model_name": "SelectModel",
      "state": {
       "_options_labels": [
        "Test",
        "Train"
       ],
       "description": "Dataset:",
       "index": 1,
       "layout": "IPY_MODEL_fd6c77bacf9d4bf492ce1526f61d2b99",
       "rows": 1,
       "style": "IPY_MODEL_87abe14a3672452f93e52a92ad582a57"
      }
     },
     "30f4903d211b4611a07e800b1fc47410": {
      "model_module": "@jupyter-widgets/controls",
      "model_module_version": "1.1.0",
      "model_name": "HBoxModel",
      "state": {
       "children": [
        "IPY_MODEL_284fb6bf7457419e81b06517247d8642",
        "IPY_MODEL_73f7fdeb70c14708ae90571089a27240"
       ],
       "layout": "IPY_MODEL_5659d1a51bb34793adc0c109c31dc0bd"
      }
     },
     "3146700cd7074e7fad1c79ba188fe026": {
      "model_module": "@jupyter-widgets/controls",
      "model_module_version": "1.1.0",
      "model_name": "DescriptionStyleModel",
      "state": {
       "description_width": "initial"
      }
     },
     "31551b09233d4a22aa5bab9b4a0d1435": {
      "model_module": "@jupyter-widgets/controls",
      "model_module_version": "1.1.0",
      "model_name": "DescriptionStyleModel",
      "state": {
       "description_width": ""
      }
     },
     "31632e7af88d4dc984b102384bf3e22f": {
      "model_module": "@jupyter-widgets/controls",
      "model_module_version": "1.1.0",
      "model_name": "SelectModel",
      "state": {
       "_options_labels": [
        ""
       ],
       "description": "Features:",
       "index": 0,
       "layout": "IPY_MODEL_7b910d95be834349af1a17e587d9bf27",
       "rows": 1,
       "style": "IPY_MODEL_edd57c0bba574978b408d92de5be3f7d"
      }
     },
     "31c955e323364adb922e9efbb7b70da4": {
      "model_module": "@jupyter-widgets/base",
      "model_module_version": "1.0.0",
      "model_name": "LayoutModel",
      "state": {}
     },
     "3249d9850c53434da8851c6ecbc6ffcd": {
      "model_module": "@jupyter-widgets/controls",
      "model_module_version": "1.1.0",
      "model_name": "CheckboxModel",
      "state": {
       "description": "Errors",
       "disabled": false,
       "layout": "IPY_MODEL_68f866ff7fb44987936aa22ab5c8f2e2",
       "style": "IPY_MODEL_9d1b54189cb04fdda6f0c817bd3cf952",
       "value": false
      }
     },
     "324d91df64af4b8aa61b8f4ffab45e6f": {
      "model_module": "@jupyter-widgets/controls",
      "model_module_version": "1.1.0",
      "model_name": "DescriptionStyleModel",
      "state": {
       "description_width": ""
      }
     },
     "32569a6dd2964f638f23aa3e621d7cc7": {
      "model_module": "@jupyter-widgets/controls",
      "model_module_version": "1.1.0",
      "model_name": "HBoxModel",
      "state": {
       "children": [
        "IPY_MODEL_e71d98619d694535accab71e5a0fc348",
        "IPY_MODEL_d089c308e9d54a4fb2504530cdc04ad2"
       ],
       "layout": "IPY_MODEL_2f1863d8a1e247fb8de3db6c3841ce29"
      }
     },
     "32feeed1380041bd92b8f1b7c12d0c6e": {
      "model_module": "@jupyter-widgets/controls",
      "model_module_version": "1.1.0",
      "model_name": "AccordionModel",
      "state": {
       "_titles": {
        "0": "XOR in Time"
       },
       "children": [
        "IPY_MODEL_047eaca73dfb49afa659bfaaabe6a63b"
       ],
       "layout": "IPY_MODEL_8734bf11dc7547b2b17fa3f9d0d7a180",
       "selected_index": null
      }
     },
     "33962f3d4a904adbafc938440bcf278f": {
      "model_module": "@jupyter-widgets/base",
      "model_module_version": "1.0.0",
      "model_name": "LayoutModel",
      "state": {}
     },
     "33c77f3c06d64c4baceb2d095f697d68": {
      "model_module": "@jupyter-widgets/controls",
      "model_module_version": "1.1.0",
      "model_name": "FloatTextModel",
      "state": {
       "description": "Leftmost color maps to:",
       "layout": "IPY_MODEL_dd532bf8ae3b4a578507a9c7b4186ae1",
       "step": null,
       "style": "IPY_MODEL_524ae37231504baea5e8502b7d423526"
      }
     },
     "34d45888f45e4790a2bf1a248c685f31": {
      "model_module": "@jupyter-widgets/base",
      "model_module_version": "1.0.0",
      "model_name": "LayoutModel",
      "state": {
       "width": "100%"
      }
     },
     "34fc8c96243c4a4b866a2863b98ff4a1": {
      "model_module": "@jupyter-widgets/base",
      "model_module_version": "1.0.0",
      "model_name": "LayoutModel",
      "state": {
       "width": "65%"
      }
     },
     "351742b4cf624c56a0f3a58efc3fbf1e": {
      "model_module": "@jupyter-widgets/controls",
      "model_module_version": "1.1.0",
      "model_name": "ButtonStyleModel",
      "state": {}
     },
     "35dd1bf0207d4bce936bb8692789be87": {
      "model_module": "@jupyter-widgets/base",
      "model_module_version": "1.0.0",
      "model_name": "LayoutModel",
      "state": {
       "height": "40px"
      }
     },
     "3611b471dd6342e194dfea78e1c20df9": {
      "model_module": "@jupyter-widgets/controls",
      "model_module_version": "1.1.0",
      "model_name": "ButtonStyleModel",
      "state": {}
     },
     "36d8f83088eb4ae2b04923fa57e4c12f": {
      "model_module": "@jupyter-widgets/controls",
      "model_module_version": "1.1.0",
      "model_name": "SelectModel",
      "state": {
       "_options_labels": [
        ""
       ],
       "description": "Features:",
       "index": 0,
       "layout": "IPY_MODEL_def51eb70c5f49468e1198a1efc498f5",
       "rows": 1,
       "style": "IPY_MODEL_65ff198cfcd1486fb9ee0532554df363"
      }
     },
     "3703586dd2144130a8dc4e88310c6ac3": {
      "model_module": "@jupyter-widgets/base",
      "model_module_version": "1.0.0",
      "model_name": "LayoutModel",
      "state": {
       "width": "100%"
      }
     },
     "3775d0a891d0442798e0839efd132dcb": {
      "model_module": "@jupyter-widgets/base",
      "model_module_version": "1.0.0",
      "model_name": "LayoutModel",
      "state": {}
     },
     "3862d39cac174638afe0132009cbf726": {
      "model_module": "@jupyter-widgets/base",
      "model_module_version": "1.0.0",
      "model_name": "LayoutModel",
      "state": {
       "width": "25%"
      }
     },
     "38a4028c7019445b8a434a8023a54f14": {
      "model_module": "@jupyter-widgets/controls",
      "model_module_version": "1.1.0",
      "model_name": "VBoxModel",
      "state": {
       "children": [
        "IPY_MODEL_32feeed1380041bd92b8f1b7c12d0c6e",
        "IPY_MODEL_0a5429e3b58c4375919a0120f75fc467",
        "IPY_MODEL_b4f9392dad7f4211be4017579b05c150",
        "IPY_MODEL_deb5e2f66e4245be9558f2a370f475b7"
       ],
       "layout": "IPY_MODEL_dfa60b56e18149dfa68827a3b517b2a6"
      }
     },
     "391a62a6e2744c55a9824b766662db8d": {
      "model_module": "@jupyter-widgets/controls",
      "model_module_version": "1.1.0",
      "model_name": "CheckboxModel",
      "state": {
       "description": "Show Targets",
       "disabled": false,
       "layout": "IPY_MODEL_535cf873776249788f2cdf7731497364",
       "style": "IPY_MODEL_79cb2169189f49bbbf82463983ee9a33",
       "value": true
      }
     },
     "3952b27c1b314794931fb162e61e45a2": {
      "model_module": "@jupyter-widgets/output",
      "model_module_version": "1.0.0",
      "model_name": "OutputModel",
      "state": {
       "layout": "IPY_MODEL_268c77a1ece54179970aba46e3b7af2c"
      }
     },
     "39ebc211e6754cc6850baa5a55700652": {
      "model_module": "@jupyter-widgets/controls",
      "model_module_version": "1.1.0",
      "model_name": "FloatTextModel",
      "state": {
       "description": "Feature scale:",
       "layout": "IPY_MODEL_0dc47531faa54681b87e389b96bc2b3a",
       "step": null,
       "style": "IPY_MODEL_a7e9ba7f3d6c4e268e4a433ebfc2ba17",
       "value": 1
      }
     },
     "39faa4ecd1b34245934496d3d07db7b7": {
      "model_module": "@jupyter-widgets/base",
      "model_module_version": "1.0.0",
      "model_name": "LayoutModel",
      "state": {}
     },
     "3a982e9bafda4bb5951e06930f74ce95": {
      "model_module": "@jupyter-widgets/controls",
      "model_module_version": "1.1.0",
      "model_name": "ButtonStyleModel",
      "state": {}
     },
     "3b3f464d2377459f9bcbf0892986a234": {
      "model_module": "@jupyter-widgets/controls",
      "model_module_version": "1.1.0",
      "model_name": "DescriptionStyleModel",
      "state": {
       "description_width": "initial"
      }
     },
     "3b41bfe253374bdb98770ce41c253f2a": {
      "model_module": "@jupyter-widgets/base",
      "model_module_version": "1.0.0",
      "model_name": "LayoutModel",
      "state": {}
     },
     "3b4e3b97e387401f949d164897a67a49": {
      "model_module": "@jupyter-widgets/controls",
      "model_module_version": "1.1.0",
      "model_name": "ButtonModel",
      "state": {
       "icon": "forward",
       "layout": "IPY_MODEL_05141b06359e4d35ac168e1f4ecee0b2",
       "style": "IPY_MODEL_c8e032a0eda54352b1b4574afecb2ee5"
      }
     },
     "3b7f272063f84f0d93cd11612e0ad228": {
      "model_module": "@jupyter-widgets/base",
      "model_module_version": "1.0.0",
      "model_name": "LayoutModel",
      "state": {}
     },
     "3b92be27bc6b4a0fb4557bb608ae3e78": {
      "model_module": "@jupyter-widgets/controls",
      "model_module_version": "1.1.0",
      "model_name": "DescriptionStyleModel",
      "state": {
       "description_width": ""
      }
     },
     "3b9d3c692790421da6ad73c3b5c4ebf3": {
      "model_module": "@jupyter-widgets/controls",
      "model_module_version": "1.1.0",
      "model_name": "FloatSliderModel",
      "state": {
       "continuous_update": false,
       "description": "Zoom",
       "layout": "IPY_MODEL_f178aa59097d462e89350f24067ed806",
       "max": 1,
       "step": 0.1,
       "style": "IPY_MODEL_3bd55434acdc4051bdb82ec7edbaaa77",
       "value": 0.5
      }
     },
     "3bd55434acdc4051bdb82ec7edbaaa77": {
      "model_module": "@jupyter-widgets/controls",
      "model_module_version": "1.1.0",
      "model_name": "SliderStyleModel",
      "state": {
       "description_width": "initial"
      }
     },
     "3c1a2abfa9ac4a0d8dace0d42628fbac": {
      "model_module": "@jupyter-widgets/controls",
      "model_module_version": "1.1.0",
      "model_name": "IntTextModel",
      "state": {
       "description": "Horizontal space between banks:",
       "layout": "IPY_MODEL_fc7b3648e0f04817bff1a149c87f3535",
       "step": 1,
       "style": "IPY_MODEL_126a0c9263594717ba3c331cafecbbb0",
       "value": 150
      }
     },
     "3c6f7eade35843ccbf80f718a40aa0d1": {
      "model_module": "@jupyter-widgets/controls",
      "model_module_version": "1.1.0",
      "model_name": "FloatSliderModel",
      "state": {
       "continuous_update": false,
       "description": "Zoom",
       "layout": "IPY_MODEL_497062ba8b4742218c48825908e7814b",
       "max": 1,
       "step": 0.1,
       "style": "IPY_MODEL_c91f9573be7b4e7ba09150155847b39d",
       "value": 0.5
      }
     },
     "3d279c3a0e8a4f5681eac0ee2e639b72": {
      "model_module": "@jupyter-widgets/controls",
      "model_module_version": "1.1.0",
      "model_name": "DescriptionStyleModel",
      "state": {
       "description_width": "initial"
      }
     },
     "3dfb6d50babb4076b40d9e323884a743": {
      "model_module": "@jupyter-widgets/controls",
      "model_module_version": "1.1.0",
      "model_name": "ButtonStyleModel",
      "state": {}
     },
     "3f5492a8739e4b769bebe0ef263cdaf9": {
      "model_module": "@jupyter-widgets/controls",
      "model_module_version": "1.1.0",
      "model_name": "DescriptionStyleModel",
      "state": {
       "description_width": "initial"
      }
     },
     "3f921e966b2e4e1fb898341f0b761b05": {
      "model_module": "@jupyter-widgets/controls",
      "model_module_version": "1.1.0",
      "model_name": "HBoxModel",
      "state": {
       "children": [
        "IPY_MODEL_10879e892e94433dbe83279021bbaa5a",
        "IPY_MODEL_9cdb43ab3536417ba56794192fc5813a"
       ],
       "layout": "IPY_MODEL_5b7acbc207314a3eb9effe39ab56011a"
      }
     },
     "3f92bd0583104c7aa305f99d365037be": {
      "model_module": "@jupyter-widgets/base",
      "model_module_version": "1.0.0",
      "model_name": "LayoutModel",
      "state": {
       "justify_content": "center",
       "overflow_x": "auto",
       "overflow_y": "auto",
       "width": "95%"
      }
     },
     "3fd4ed5e1cbf4bc89377dbee5d94eab9": {
      "model_module": "@jupyter-widgets/controls",
      "model_module_version": "1.1.0",
      "model_name": "HBoxModel",
      "state": {
       "children": [
        "IPY_MODEL_cc5ebbccbb554f5899b1744b7edab420",
        "IPY_MODEL_8d9bb086c3194df1afceff7b30f0d760"
       ],
       "layout": "IPY_MODEL_35dd1bf0207d4bce936bb8692789be87"
      }
     },
     "3ff37719e5bd4f2690651431fb3a4964": {
      "model_module": "@jupyter-widgets/controls",
      "model_module_version": "1.1.0",
      "model_name": "HBoxModel",
      "state": {
       "children": [
        "IPY_MODEL_7f8d5b716de0422d987af1edefbe3e10",
        "IPY_MODEL_d7f4105f38ff4ba39fdab7983ccb9dcd"
       ],
       "layout": "IPY_MODEL_a1698bff0e0c4265b4836caf100bd255"
      }
     },
     "40061b02e69a4fc792f2e78a1318aa6b": {
      "model_module": "@jupyter-widgets/controls",
      "model_module_version": "1.1.0",
      "model_name": "IntTextModel",
      "state": {
       "layout": "IPY_MODEL_de1c06c904874244b299b8b59de0801d",
       "step": 1,
       "style": "IPY_MODEL_796d57fc4e954b2dba12ab7ab8a02fe4"
      }
     },
     "40133b6875044a3d8acaf09a93595382": {
      "model_module": "@jupyter-widgets/controls",
      "model_module_version": "1.1.0",
      "model_name": "FloatSliderModel",
      "state": {
       "continuous_update": false,
       "description": "Zoom",
       "layout": "IPY_MODEL_16dcb1c898be450783c565fd3799e060",
       "max": 1,
       "step": 0.1,
       "style": "IPY_MODEL_2e61a621464249a89fc7571524b4390e",
       "value": 0.5
      }
     },
     "405d01e60ecd4f7bb31fa99bff5524d4": {
      "model_module": "@jupyter-widgets/base",
      "model_module_version": "1.0.0",
      "model_name": "LayoutModel",
      "state": {
       "width": "100%"
      }
     },
     "4063190f7557417eb4b9d259b101532c": {
      "model_module": "@jupyter-widgets/base",
      "model_module_version": "1.0.0",
      "model_name": "LayoutModel",
      "state": {
       "width": "100%"
      }
     },
     "4092ebbb7d104e469b36702587f49230": {
      "model_module": "@jupyter-widgets/base",
      "model_module_version": "1.0.0",
      "model_name": "LayoutModel",
      "state": {
       "width": "100%"
      }
     },
     "41bce39878c34139aa6a529debd824e5": {
      "model_module": "@jupyter-widgets/controls",
      "model_module_version": "1.1.0",
      "model_name": "HBoxModel",
      "state": {
       "children": [
        "IPY_MODEL_49b526e9fb86436abe5db7a998cc9527",
        "IPY_MODEL_0fbdd202eedd4625ac1da52b9f2112c8",
        "IPY_MODEL_576e3fa18ba7495ba58fa0334a690fb1",
        "IPY_MODEL_fd9680e32c254b588a328a52d912ab7c",
        "IPY_MODEL_e47af06347fa4acfa08207d5dbec4545",
        "IPY_MODEL_2c3e44764839462c80fa4fc062857973",
        "IPY_MODEL_4ec008fc5183433aa6ed1632b89aa8c1"
       ],
       "layout": "IPY_MODEL_729ab51b38664f91b7282f20ef9c296d"
      }
     },
     "4230db22df9e4d789ad4e157bc6f6301": {
      "model_module": "@jupyter-widgets/base",
      "model_module_version": "1.0.0",
      "model_name": "LayoutModel",
      "state": {}
     },
     "4346995dbdc84f67ad7ada44e00b9078": {
      "model_module": "@jupyter-widgets/controls",
      "model_module_version": "1.1.0",
      "model_name": "DescriptionStyleModel",
      "state": {
       "description_width": "initial"
      }
     },
     "4355b7a1d1584fda8d6b7bf79b233db2": {
      "model_module": "@jupyter-widgets/base",
      "model_module_version": "1.0.0",
      "model_name": "LayoutModel",
      "state": {
       "width": "100%"
      }
     },
     "438d0f96cdec4fe4b5bbd99fd9d4ed38": {
      "model_module": "@jupyter-widgets/base",
      "model_module_version": "1.0.0",
      "model_name": "LayoutModel",
      "state": {}
     },
     "43d3e6b6173d4a88988c2e95712d7e03": {
      "model_module": "@jupyter-widgets/controls",
      "model_module_version": "1.1.0",
      "model_name": "ButtonModel",
      "state": {
       "icon": "fast-forward",
       "layout": "IPY_MODEL_fa4fc4e5887d40ed9217b621ae358f2e",
       "style": "IPY_MODEL_d9d84a9e8387401ba45752901f5436cb"
      }
     },
     "44a2a48cbc45490e85196a38ea8a2117": {
      "model_module": "@jupyter-widgets/base",
      "model_module_version": "1.0.0",
      "model_name": "LayoutModel",
      "state": {
       "width": "52%"
      }
     },
     "44a8ac441a6045b2829393999bfa18f9": {
      "model_module": "@jupyter-widgets/controls",
      "model_module_version": "1.1.0",
      "model_name": "SelectModel",
      "state": {
       "_options_labels": [
        "",
        "Accent",
        "Accent_r",
        "Blues",
        "Blues_r",
        "BrBG",
        "BrBG_r",
        "BuGn",
        "BuGn_r",
        "BuPu",
        "BuPu_r",
        "CMRmap",
        "CMRmap_r",
        "Dark2",
        "Dark2_r",
        "GnBu",
        "GnBu_r",
        "Greens",
        "Greens_r",
        "Greys",
        "Greys_r",
        "OrRd",
        "OrRd_r",
        "Oranges",
        "Oranges_r",
        "PRGn",
        "PRGn_r",
        "Paired",
        "Paired_r",
        "Pastel1",
        "Pastel1_r",
        "Pastel2",
        "Pastel2_r",
        "PiYG",
        "PiYG_r",
        "PuBu",
        "PuBuGn",
        "PuBuGn_r",
        "PuBu_r",
        "PuOr",
        "PuOr_r",
        "PuRd",
        "PuRd_r",
        "Purples",
        "Purples_r",
        "RdBu",
        "RdBu_r",
        "RdGy",
        "RdGy_r",
        "RdPu",
        "RdPu_r",
        "RdYlBu",
        "RdYlBu_r",
        "RdYlGn",
        "RdYlGn_r",
        "Reds",
        "Reds_r",
        "Set1",
        "Set1_r",
        "Set2",
        "Set2_r",
        "Set3",
        "Set3_r",
        "Spectral",
        "Spectral_r",
        "Vega10",
        "Vega10_r",
        "Vega20",
        "Vega20_r",
        "Vega20b",
        "Vega20b_r",
        "Vega20c",
        "Vega20c_r",
        "Wistia",
        "Wistia_r",
        "YlGn",
        "YlGnBu",
        "YlGnBu_r",
        "YlGn_r",
        "YlOrBr",
        "YlOrBr_r",
        "YlOrRd",
        "YlOrRd_r",
        "afmhot",
        "afmhot_r",
        "autumn",
        "autumn_r",
        "binary",
        "binary_r",
        "bone",
        "bone_r",
        "brg",
        "brg_r",
        "bwr",
        "bwr_r",
        "cool",
        "cool_r",
        "coolwarm",
        "coolwarm_r",
        "copper",
        "copper_r",
        "cubehelix",
        "cubehelix_r",
        "flag",
        "flag_r",
        "gist_earth",
        "gist_earth_r",
        "gist_gray",
        "gist_gray_r",
        "gist_heat",
        "gist_heat_r",
        "gist_ncar",
        "gist_ncar_r",
        "gist_rainbow",
        "gist_rainbow_r",
        "gist_stern",
        "gist_stern_r",
        "gist_yarg",
        "gist_yarg_r",
        "gnuplot",
        "gnuplot2",
        "gnuplot2_r",
        "gnuplot_r",
        "gray",
        "gray_r",
        "hot",
        "hot_r",
        "hsv",
        "hsv_r",
        "inferno",
        "inferno_r",
        "jet",
        "jet_r",
        "magma",
        "magma_r",
        "nipy_spectral",
        "nipy_spectral_r",
        "ocean",
        "ocean_r",
        "pink",
        "pink_r",
        "plasma",
        "plasma_r",
        "prism",
        "prism_r",
        "rainbow",
        "rainbow_r",
        "seismic",
        "seismic_r",
        "spectral",
        "spectral_r",
        "spring",
        "spring_r",
        "summer",
        "summer_r",
        "tab10",
        "tab10_r",
        "tab20",
        "tab20_r",
        "tab20b",
        "tab20b_r",
        "tab20c",
        "tab20c_r",
        "terrain",
        "terrain_r",
        "viridis",
        "viridis_r",
        "winter",
        "winter_r"
       ],
       "description": "Colormap:",
       "index": 0,
       "layout": "IPY_MODEL_fc7b3648e0f04817bff1a149c87f3535",
       "rows": 1,
       "style": "IPY_MODEL_771b015a9bc04d668c44805b59c8c47c"
      }
     },
     "44b3dccdb696403cbd6c5f922cc2e84d": {
      "model_module": "@jupyter-widgets/controls",
      "model_module_version": "1.1.0",
      "model_name": "DescriptionStyleModel",
      "state": {
       "description_width": "initial"
      }
     },
     "44d38e7c60df428a87b357b0618400b4": {
      "model_module": "@jupyter-widgets/controls",
      "model_module_version": "1.1.0",
      "model_name": "HBoxModel",
      "state": {
       "children": [
        "IPY_MODEL_24228ff1dd094bf9878c748cf391a5fa",
        "IPY_MODEL_f77bf8fe807b49e1bdddcd924d91e743"
       ],
       "layout": "IPY_MODEL_1c3345d83e6d4892b02dc71538d0c724"
      }
     },
     "44fb74bbdcd342d6a5dd2a53bfe58fd4": {
      "model_module": "@jupyter-widgets/base",
      "model_module_version": "1.0.0",
      "model_name": "LayoutModel",
      "state": {}
     },
     "4585d4f9ce70489e8c5e8227cbd3e413": {
      "model_module": "@jupyter-widgets/controls",
      "model_module_version": "1.1.0",
      "model_name": "DescriptionStyleModel",
      "state": {
       "description_width": ""
      }
     },
     "45887442cd5e465188c25814971cce36": {
      "model_module": "@jupyter-widgets/controls",
      "model_module_version": "1.1.0",
      "model_name": "HTMLModel",
      "state": {
       "layout": "IPY_MODEL_b468d5283f564041aa3fd66a41dafa9c",
       "style": "IPY_MODEL_5743847f30bf4c7f910b4ca7b1b1d3ba",
       "value": "<img src=\"data:image/gif;base64,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\"/>"
      }
     },
     "462c1083e9674af0af5dbb3e4a80557c": {
      "model_module": "@jupyter-widgets/controls",
      "model_module_version": "1.1.0",
      "model_name": "SliderStyleModel",
      "state": {
       "description_width": "initial"
      }
     },
     "46d57bce63b442dbb5a6253c378cc393": {
      "model_module": "@jupyter-widgets/controls",
      "model_module_version": "1.1.0",
      "model_name": "AccordionModel",
      "state": {
       "_titles": {
        "0": "XOR in Time"
       },
       "children": [
        "IPY_MODEL_95895dc8291c48238b0a949afd3cc718"
       ],
       "layout": "IPY_MODEL_c3a42c11ed8c46e583c6cda0ab474774",
       "selected_index": null
      }
     },
     "4704b7b6c3114f8e87821f1eb6065359": {
      "model_module": "@jupyter-widgets/controls",
      "model_module_version": "1.1.0",
      "model_name": "DescriptionStyleModel",
      "state": {
       "description_width": "initial"
      }
     },
     "470ba3a8a98e417786a4e7eecae3d604": {
      "model_module": "@jupyter-widgets/controls",
      "model_module_version": "1.1.0",
      "model_name": "ButtonStyleModel",
      "state": {}
     },
     "474b29ab95be45ebb0fd59ae1fdee612": {
      "model_module": "@jupyter-widgets/base",
      "model_module_version": "1.0.0",
      "model_name": "LayoutModel",
      "state": {
       "width": "100%"
      }
     },
     "479afa99c83f44d9bf87f6467e32eff5": {
      "model_module": "@jupyter-widgets/controls",
      "model_module_version": "1.1.0",
      "model_name": "DescriptionStyleModel",
      "state": {
       "description_width": "initial"
      }
     },
     "48cbc4e7216f4ee6b6e62e97b07165d7": {
      "model_module": "@jupyter-widgets/controls",
      "model_module_version": "1.1.0",
      "model_name": "DescriptionStyleModel",
      "state": {
       "description_width": ""
      }
     },
     "48cd7018069243e1b11a423b8409a7c1": {
      "model_module": "@jupyter-widgets/controls",
      "model_module_version": "1.1.0",
      "model_name": "FloatTextModel",
      "state": {
       "description": "Leftmost color maps to:",
       "layout": "IPY_MODEL_e8f975c535284d78b86e850b7d8cfa09",
       "step": null,
       "style": "IPY_MODEL_ad94f3db2cf44ccca99a1cf3a4a34557"
      }
     },
     "492db0bfaf034bbb90fc128e031d0c18": {
      "model_module": "@jupyter-widgets/controls",
      "model_module_version": "1.1.0",
      "model_name": "DescriptionStyleModel",
      "state": {
       "description_width": "initial"
      }
     },
     "497062ba8b4742218c48825908e7814b": {
      "model_module": "@jupyter-widgets/base",
      "model_module_version": "1.0.0",
      "model_name": "LayoutModel",
      "state": {
       "width": "65%"
      }
     },
     "49b526e9fb86436abe5db7a998cc9527": {
      "model_module": "@jupyter-widgets/controls",
      "model_module_version": "1.1.0",
      "model_name": "ButtonModel",
      "state": {
       "icon": "fast-backward",
       "layout": "IPY_MODEL_2c80cf565adc4212aef0ba2018b0dff9",
       "style": "IPY_MODEL_00c8c033af3f417395180c3528676fe3"
      }
     },
     "49fe73eaa1844e1a90887c52ecf888bc": {
      "model_module": "@jupyter-widgets/controls",
      "model_module_version": "1.1.0",
      "model_name": "ButtonModel",
      "state": {
       "icon": "backward",
       "layout": "IPY_MODEL_67422b081a66464b8f2c54af8401cf63",
       "style": "IPY_MODEL_6b5e13e439644ffeb73e0a12dd54c273"
      }
     },
     "4a5a3a4108f346b3a0348e36a42133e9": {
      "model_module": "@jupyter-widgets/controls",
      "model_module_version": "1.1.0",
      "model_name": "FloatTextModel",
      "state": {
       "description": "Rightmost color maps to:",
       "layout": "IPY_MODEL_2672e34db1e2415aab8d580274af9a6c",
       "step": null,
       "style": "IPY_MODEL_d8fb4d44a4084e158bcfce3288d495b0",
       "value": 1
      }
     },
     "4aaf606dd8254acfa5865927b69f3096": {
      "model_module": "@jupyter-widgets/base",
      "model_module_version": "1.0.0",
      "model_name": "LayoutModel",
      "state": {
       "width": "100%"
      }
     },
     "4adb516f1a624112a7ad565977667792": {
      "model_module": "@jupyter-widgets/controls",
      "model_module_version": "1.1.0",
      "model_name": "FloatTextModel",
      "state": {
       "description": "Feature scale:",
       "layout": "IPY_MODEL_27d842eb37374b71ae8f45e6f0c207d6",
       "step": null,
       "style": "IPY_MODEL_7540124d67e74060b9ee6f77e23b2a43",
       "value": 1
      }
     },
     "4ae1fe145c204e2eb802d447e756ce4f": {
      "model_module": "@jupyter-widgets/base",
      "model_module_version": "1.0.0",
      "model_name": "LayoutModel",
      "state": {}
     },
     "4b50bdfe5ba34d61a10e03336ad76bbd": {
      "model_module": "@jupyter-widgets/controls",
      "model_module_version": "1.1.0",
      "model_name": "FloatSliderModel",
      "state": {
       "continuous_update": false,
       "description": "Zoom",
       "layout": "IPY_MODEL_34fc8c96243c4a4b866a2863b98ff4a1",
       "max": 1,
       "step": 0.1,
       "style": "IPY_MODEL_462c1083e9674af0af5dbb3e4a80557c",
       "value": 0.5
      }
     },
     "4c97768803444de0b7f08ab68ad51ec1": {
      "model_module": "@jupyter-widgets/controls",
      "model_module_version": "1.1.0",
      "model_name": "SliderStyleModel",
      "state": {
       "description_width": ""
      }
     },
     "4cc7befa1a8e47a1b3e0f7117691bce9": {
      "model_module": "@jupyter-widgets/controls",
      "model_module_version": "1.1.0",
      "model_name": "IntTextModel",
      "state": {
       "description": "Feature to show:",
       "layout": "IPY_MODEL_0ac14d616bd5421ba7f137a0e1c09241",
       "step": 1,
       "style": "IPY_MODEL_4d0cc49a18dc4f7992e16f901c8b14a4"
      }
     },
     "4ce4e5a3e9f1434ea001172d2a6293aa": {
      "model_module": "@jupyter-widgets/base",
      "model_module_version": "1.0.0",
      "model_name": "LayoutModel",
      "state": {}
     },
     "4d0cc49a18dc4f7992e16f901c8b14a4": {
      "model_module": "@jupyter-widgets/controls",
      "model_module_version": "1.1.0",
      "model_name": "DescriptionStyleModel",
      "state": {
       "description_width": "initial"
      }
     },
     "4d223143f6e24c51823122ecf8d0ce23": {
      "model_module": "@jupyter-widgets/controls",
      "model_module_version": "1.1.0",
      "model_name": "VBoxModel",
      "state": {
       "children": [
        "IPY_MODEL_8f257220721e42aca88f1f9e6eb3a18d",
        "IPY_MODEL_8a41c9ff1e0a4ce9a1d3d72138b7f980",
        "IPY_MODEL_44a8ac441a6045b2829393999bfa18f9",
        "IPY_MODEL_672a7b87bd294ecd9a78c66486713f2d",
        "IPY_MODEL_0db379f9368a4bb49d1143326443c2d1",
        "IPY_MODEL_1225a72764f5494cb4fc9ac00fcc6416",
        "IPY_MODEL_a937d6d84e854d959e5fcb6c2033dbf1",
        "IPY_MODEL_44d38e7c60df428a87b357b0618400b4"
       ],
       "layout": "IPY_MODEL_a00a2204eaf54654949b68a59fb0f8cf"
      }
     },
     "4d6ced1adcfb4febba3d9ec3c753d708": {
      "model_module": "@jupyter-widgets/controls",
      "model_module_version": "1.1.0",
      "model_name": "DescriptionStyleModel",
      "state": {
       "description_width": ""
      }
     },
     "4e6eb0d64d544bbf93db9c9ac521a6d0": {
      "model_module": "@jupyter-widgets/controls",
      "model_module_version": "1.1.0",
      "model_name": "ButtonStyleModel",
      "state": {}
     },
     "4e8abcce0ff94cd7a442da369dec61aa": {
      "model_module": "@jupyter-widgets/controls",
      "model_module_version": "1.1.0",
      "model_name": "ButtonModel",
      "state": {
       "icon": "refresh",
       "layout": "IPY_MODEL_59abc934cf834f1f9575c98295d5a3f2",
       "style": "IPY_MODEL_7a8f1a0d57c444c6b47f1fb9dfeee974"
      }
     },
     "4e912e490b854e03897392f66d481807": {
      "model_module": "@jupyter-widgets/base",
      "model_module_version": "1.0.0",
      "model_name": "LayoutModel",
      "state": {}
     },
     "4eb3f8f9b560408f921356a97317954c": {
      "model_module": "@jupyter-widgets/base",
      "model_module_version": "1.0.0",
      "model_name": "LayoutModel",
      "state": {
       "width": "100%"
      }
     },
     "4ec008fc5183433aa6ed1632b89aa8c1": {
      "model_module": "@jupyter-widgets/controls",
      "model_module_version": "1.1.0",
      "model_name": "ButtonModel",
      "state": {
       "icon": "refresh",
       "layout": "IPY_MODEL_e0f1228e52b141b8bb7327c8facc3166",
       "style": "IPY_MODEL_dbf70d4b6c33417a8fe2883c5c96fa69"
      }
     },
     "4f54619108c742d9b11f47f400f2b0d7": {
      "model_module": "@jupyter-widgets/controls",
      "model_module_version": "1.1.0",
      "model_name": "CheckboxModel",
      "state": {
       "description": "Visible",
       "disabled": false,
       "layout": "IPY_MODEL_68f866ff7fb44987936aa22ab5c8f2e2",
       "style": "IPY_MODEL_d16246cd53af4b13a977717d8a8ef465",
       "value": true
      }
     },
     "4fd3b0c282ac44d99dc069a02c016a6f": {
      "model_module": "@jupyter-widgets/controls",
      "model_module_version": "1.1.0",
      "model_name": "VBoxModel",
      "state": {
       "children": [
        "IPY_MODEL_46d57bce63b442dbb5a6253c378cc393",
        "IPY_MODEL_583f325e3440451984664d291d0961f9",
        "IPY_MODEL_0045679e525d48298918980e785dc2d7",
        "IPY_MODEL_b7aa8578a6244bb3ac659c054543b4a9"
       ],
       "layout": "IPY_MODEL_d07d3836c66044a49e21baa87c8d7378"
      }
     },
     "500fe9f9c968419f9d02ca5b900b6217": {
      "model_module": "@jupyter-widgets/base",
      "model_module_version": "1.0.0",
      "model_name": "LayoutModel",
      "state": {}
     },
     "503b7991f85c4609b7347e8eeb11a4d1": {
      "model_module": "@jupyter-widgets/base",
      "model_module_version": "1.0.0",
      "model_name": "LayoutModel",
      "state": {
       "width": "100%"
      }
     },
     "50ef11a32c8a4b7cb03e6d2aba8b6678": {
      "model_module": "@jupyter-widgets/base",
      "model_module_version": "1.0.0",
      "model_name": "LayoutModel",
      "state": {
       "width": "52%"
      }
     },
     "514cca8cef2b4464bd1f2c2bbc6f6b42": {
      "model_module": "@jupyter-widgets/controls",
      "model_module_version": "1.1.0",
      "model_name": "DescriptionStyleModel",
      "state": {
       "description_width": ""
      }
     },
     "51774fb793864330a66d639579f8e066": {
      "model_module": "@jupyter-widgets/base",
      "model_module_version": "1.0.0",
      "model_name": "LayoutModel",
      "state": {}
     },
     "51855a99ff4c46418fc8f841823e6b8f": {
      "model_module": "@jupyter-widgets/controls",
      "model_module_version": "1.1.0",
      "model_name": "VBoxModel",
      "state": {
       "children": [
        "IPY_MODEL_649fa522d2d746e090de9e35dc37520b",
        "IPY_MODEL_9640f71b905b422baf92bb0d4df3c73e"
       ],
       "layout": "IPY_MODEL_bef404057afb4051ab2515ca3720c400"
      }
     },
     "522abc248799492ab7c37eb816f13c8a": {
      "model_module": "@jupyter-widgets/base",
      "model_module_version": "1.0.0",
      "model_name": "LayoutModel",
      "state": {}
     },
     "524ae37231504baea5e8502b7d423526": {
      "model_module": "@jupyter-widgets/controls",
      "model_module_version": "1.1.0",
      "model_name": "DescriptionStyleModel",
      "state": {
       "description_width": "initial"
      }
     },
     "52a9b8f749c74ead811ef6895b3ca085": {
      "model_module": "@jupyter-widgets/controls",
      "model_module_version": "1.1.0",
      "model_name": "HBoxModel",
      "state": {
       "children": [
        "IPY_MODEL_22d5f446c59e4fae990c4176c63f3214",
        "IPY_MODEL_6425a6f7d13e4accb7e2b317c183a94c"
       ],
       "layout": "IPY_MODEL_fc64824680094c439b25107ff3949371"
      }
     },
     "53250806ae9b4fcebbf356e0ed2ee824": {
      "model_module": "@jupyter-widgets/base",
      "model_module_version": "1.0.0",
      "model_name": "LayoutModel",
      "state": {
       "width": "100%"
      }
     },
     "535cf873776249788f2cdf7731497364": {
      "model_module": "@jupyter-widgets/base",
      "model_module_version": "1.0.0",
      "model_name": "LayoutModel",
      "state": {}
     },
     "538858e46c4c4bdea5a22783b2f945fd": {
      "model_module": "@jupyter-widgets/base",
      "model_module_version": "1.0.0",
      "model_name": "LayoutModel",
      "state": {
       "width": "52%"
      }
     },
     "53bda916d6c94e8b8e43a129d025cbaf": {
      "model_module": "@jupyter-widgets/controls",
      "model_module_version": "1.1.0",
      "model_name": "HTMLModel",
      "state": {
       "layout": "IPY_MODEL_2fcd13ae04cf4436b698b53702565a0a",
       "style": "IPY_MODEL_4d6ced1adcfb4febba3d9ec3c753d708",
       "value": "<p style=\"text-align:center\"><svg id='XOR in Time' xmlns='http://www.w3.org/2000/svg' image-rendering=\"pixelated\" width=\"400.0px\" height=\"189.0909090909091px\">\n <g >\n  <svg viewBox=\"0 0 550 260\" width=\"400.0px\" height=\"189.0909090909091px\">\n    <defs>\n        <marker id=\"arrow\" markerWidth=\"10\" markerHeight=\"10\" refX=\"9\" refY=\"3\" orient=\"auto\" markerUnits=\"strokeWidth\">\n          <path d=\"M0,0 L0,6 L9,3 z\" fill=\"black\" />\n        </marker>\n    </defs><rect x=\"249.0\" y=\"24\" width=\"52\" height=\"52\" style=\"fill:none;stroke:black;stroke-width:2\"/><image id=\"picture-dashboard-XOR in Time-706945_output_5\" class=\"picture-dashboard-XOR in Time-706945_output\" x=\"250.0\" y=\"25\" height=\"50\" width=\"50\" preserveAspectRatio=\"none\" href=\"data:image/gif;base64,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\"><title>Layer: output (output)\n output range: (0, 1)\n shape = (1,)\n Keras class = Dense\n activation = sigmoid</title></image><text x=\"305.0\" y=\"52.0\" font-family=\"monospace\" font-size=\"12\" text-anchor=\"start\" fill=\"black\" alignment-baseline=\"central\" >output</text><line x1=\"275.0\" y1=\"104\" x2=\"275.0\" y2=\"77\" stroke=\"black\" stroke-width=\"2\" marker-end=\"url(#arrow)\"><title>Weights from hidden to output\n output_13/kernel:0 has shape (5, 1)\n output_13/bias:0 has shape (1,)</title></line><rect x=\"174.0\" y=\"104\" width=\"202\" height=\"52\" style=\"fill:none;stroke:black;stroke-width:2\"/><image id=\"picture-dashboard-XOR in Time-706945_hidden_6\" class=\"picture-dashboard-XOR in Time-706945_hidden\" x=\"175.0\" y=\"105\" height=\"50\" width=\"200\" preserveAspectRatio=\"none\" href=\"data:image/gif;base64,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\"><title>Layer: hidden (hidden)\n output range: (0, 1)\n shape = (5,)\n Keras class = Dense\n activation = sigmoid</title></image><text x=\"380.0\" y=\"132.0\" font-family=\"monospace\" font-size=\"12\" text-anchor=\"start\" fill=\"black\" alignment-baseline=\"central\" >hidden</text><line x1=\"183.33333333333334\" y1=\"184\" x2=\"275.0\" y2=\"157\" stroke=\"black\" stroke-width=\"2\" marker-end=\"url(#arrow)\"><title>Weights from input to hidden\n hidden_13/kernel:0 has shape (6, 5)\n hidden_13/bias:0 has shape (5,)</title></line><rect x=\"157.33333333333334\" y=\"184\" width=\"52\" height=\"52\" style=\"fill:none;stroke:black;stroke-width:2\"/><image id=\"picture-dashboard-XOR in Time-706945_input_7\" class=\"picture-dashboard-XOR in Time-706945_input\" x=\"158.33333333333334\" y=\"185\" height=\"50\" width=\"50\" preserveAspectRatio=\"none\" href=\"data:image/gif;base64,R0lGODdhPgA+AIcAAAAAAAAAAAAAAAAAAAAAAAAAAAAAAAAAAAAAAAAAAAAAAAAAAAAAAAAAAAAAAAAAAAAAAAAAAAAAAAAAAAAAAAAAAAAAAAAAAAAAAAAAAAAAAAAAAAAAAAAAAAAAAAAAAAAAAAAAAAAAAAAAAAAAAAAAAAAAAAAAAAAAAAAAAAAAAAAAAAAAAAAAAAAAAAAAAAAAAAAAAAAAAAAAAAAAAAAAAAAAAAAAAAAAAAAAAAAAAAAAAAAAAAAAAAAAAAAAAAAAAAAAAAAAAAAAAAAAAAAAAAAAAAAAAAAAAAAAAAAAAAAAAAAAAAAAAAAAAAAAAAAAAAAAAAAAAAAAAAAAAAAAAAAAAAAAAAAAAAAAAAAAAAAAAAAAAAAAAAAAAAAAAAAAAAAAAAAAAAAAAAAAAAAAAAAAAAAAAAAAAAAAAAAAAAAAAAAAAAAAAAAAAAAAAAAAAAAAAAAAAAAAAAAAAAAAAAAAAAAAAAAAAAAAAAAAAAAAAAAAAAAAAAAAAAAAAAAAAAAAAAAAAAAAAAAAAAAAAAAAAAAAAAAAAAAAAAAAAAAAAAAAAAAAAAAAAAAAAAAAAAAAAAAAAAAAAAAAAAAAAAAAAAAAAAAAAAAAAAAAAAAAAAAAAAAAAAAAAAAAAAAAAAAAAAAAAAAAAAAAAAAAAAAAAAAAAAAAAAAAAAAAAAAAAAAAAAAAAAAAAAAAAAAAAAAAAAAAAAAAAAAAAAAAAAAAAAAAAAAAAAAAAAAAAAAAAAAAAAAAAAAAAAAAAAAAAAAAAAAAAAAAAAAAAAAAAAAAAAAAAAAAAAAAAAAAAAAAAAAAAAAAAAAAAAAAAAAAAAAAAAAAAAAAAAAAAAAAAAAAAAAAAAAAAAAAAAAAAAAAAAAAAAAAAAAAAAAAAAAAAAAAAAAAAAAAAAAAAAAAAAAAAAAAAAAAAAAAAAAAAAAAAAAAAAAAAAAAAAAAAAAAAAAAAAAAAAAAAAAAAAAAAAAAAAAAAAAAAAAAAAAAAAAAAAAAAAAAAAAAAAAAACwAAAAAPgA+AEAIZgABCBxIsKDBgwgTKlzIsKHDhxAjSpxIsaLFixgzatzIsaPHjyBDihxJsqTJkyhTqlzJsqXLlzBjypxJs6bNmzhz6tzJs6fPn0CDCh1KtKjRo0iTKl3KtKnTp1CjSp1KtarVqxADAgA7\"><title>Layer: input (input)\n output range: (0.0, 1.0)\n shape = (1,)\n Keras class = Input</title></image><text x=\"213.33333333333334\" y=\"212.0\" font-family=\"monospace\" font-size=\"12\" text-anchor=\"start\" fill=\"black\" alignment-baseline=\"central\" >input</text><line x1=\"366.6666666666667\" y1=\"184\" x2=\"275.0\" y2=\"157\" stroke=\"black\" stroke-width=\"2\" marker-end=\"url(#arrow)\"><title>Weights from context to hidden\n hidden_13/kernel:0 has shape (6, 5)\n hidden_13/bias:0 has shape (5,)</title></line><rect x=\"265.6666666666667\" y=\"184\" width=\"202\" height=\"52\" style=\"fill:none;stroke:black;stroke-width:2\"/><image id=\"picture-dashboard-XOR in Time-706945_context_8\" class=\"picture-dashboard-XOR in Time-706945_context\" x=\"266.6666666666667\" y=\"185\" height=\"50\" width=\"200\" preserveAspectRatio=\"none\" href=\"data:image/gif;base64,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\"><title>Layer: context (input)\n output range: (0.04365796, 0.94616574)\n shape = (5,)\n Keras class = Input</title></image><text x=\"471.6666666666667\" y=\"212.0\" font-family=\"monospace\" font-size=\"12\" text-anchor=\"start\" fill=\"black\" alignment-baseline=\"central\" >context</text><text x=\"275.0\" y=\"12.5\" font-family=\"monospace\" font-size=\"15\" text-anchor=\"middle\" fill=\"black\" alignment-baseline=\"central\" >XOR in Time</text></svg></g></svg></p>"
      }
     },
     "53e8d9beeeb943bfa259964a2e5ea9a2": {
      "model_module": "@jupyter-widgets/controls",
      "model_module_version": "1.1.0",
      "model_name": "DescriptionStyleModel",
      "state": {
       "description_width": ""
      }
     },
     "5419b7056e8d4251bfeeffc71bc405bd": {
      "model_module": "@jupyter-widgets/controls",
      "model_module_version": "1.1.0",
      "model_name": "DescriptionStyleModel",
      "state": {
       "description_width": ""
      }
     },
     "544fad16864541999bed0eff60d814fe": {
      "model_module": "@jupyter-widgets/base",
      "model_module_version": "1.0.0",
      "model_name": "LayoutModel",
      "state": {
       "width": "100%"
      }
     },
     "54526249912d476c9058ef5f71e43505": {
      "model_module": "@jupyter-widgets/controls",
      "model_module_version": "1.1.0",
      "model_name": "SliderStyleModel",
      "state": {
       "description_width": ""
      }
     },
     "54653b6bec104118b2120e55c2fe4a4d": {
      "model_module": "@jupyter-widgets/base",
      "model_module_version": "1.0.0",
      "model_name": "LayoutModel",
      "state": {
       "width": "100%"
      }
     },
     "54cade1d145243fc9bea4e6e018b4469": {
      "model_module": "@jupyter-widgets/controls",
      "model_module_version": "1.1.0",
      "model_name": "VBoxModel",
      "state": {
       "children": [
        "IPY_MODEL_b04ec58616a94d128beaca9743a070dd",
        "IPY_MODEL_e94f1a467f284e5083f3baf7731c783a",
        "IPY_MODEL_dde7a32b7e414a6cade9fdafbfa4517b",
        "IPY_MODEL_6ad8c608f00844038fdd9de591bf8e3b"
       ],
       "layout": "IPY_MODEL_7063f59321cf45a7a39d6881a602b5c4"
      }
     },
     "55409a9b0b1b420c9c674bb08bad3888": {
      "model_module": "@jupyter-widgets/controls",
      "model_module_version": "1.1.0",
      "model_name": "HTMLModel",
      "state": {
       "layout": "IPY_MODEL_3f92bd0583104c7aa305f99d365037be",
       "style": "IPY_MODEL_2a0e2a2d50c048078a79d0efb85386b1",
       "value": "<p style=\"text-align:center\"><svg id='XOR in Time' xmlns='http://www.w3.org/2000/svg' image-rendering=\"pixelated\" width=\"400.0px\" height=\"232.72727272727275px\">\n <g >\n  <svg viewBox=\"0 0 550 320\" width=\"400.0px\" height=\"232.72727272727275px\">\n    <defs>\n        <marker id=\"arrow\" markerWidth=\"10\" markerHeight=\"10\" refX=\"9\" refY=\"3\" orient=\"auto\" markerUnits=\"strokeWidth\">\n          <path d=\"M0,0 L0,6 L9,3 z\" fill=\"black\" />\n        </marker>\n    </defs><rect x=\"249.0\" y=\"24\" width=\"52\" height=\"52\" style=\"fill:none;stroke:black;stroke-width:2\"/><image id=\"picture-dashboard-XOR in Time-33831_output_targets_5\" class=\"picture-dashboard-XOR in Time-33831_output_targets\" x=\"250.0\" y=\"25\" height=\"50\" width=\"50\" preserveAspectRatio=\"none\" href=\"data:image/gif;base64,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\"><title>Layer: output (output)\n output range: (0, 1)\n shape = (1,)\n Keras class = Dense\n activation = sigmoid</title></image><text x=\"305.0\" y=\"52.0\" font-family=\"monospace\" font-size=\"12\" text-anchor=\"start\" fill=\"black\" alignment-baseline=\"central\" >targets</text><line x1=\"137.5\" y1=\"80\" x2=\"412.5\" y2=\"80\" stroke=\"green\" stroke-width=\"2\"><title></title></line><rect x=\"249.0\" y=\"84\" width=\"52\" height=\"52\" style=\"fill:none;stroke:black;stroke-width:2\"/><image id=\"picture-dashboard-XOR in Time-33831_output_5\" class=\"picture-dashboard-XOR in Time-33831_output\" x=\"250.0\" y=\"85\" height=\"50\" width=\"50\" preserveAspectRatio=\"none\" href=\"data:image/gif;base64,R0lGODdhPgA+AIcAALEAAAAAAAAAAAAAAAAAAAAAAAAAAAAAAAAAAAAAAAAAAAAAAAAAAAAAAAAAAAAAAAAAAAAAAAAAAAAAAAAAAAAAAAAAAAAAAAAAAAAAAAAAAAAAAAAAAAAAAAAAAAAAAAAAAAAAAAAAAAAAAAAAAAAAAAAAAAAAAAAAAAAAAAAAAAAAAAAAAAAAAAAAAAAAAAAAAAAAAAAAAAAAAAAAAAAAAAAAAAAAAAAAAAAAAAAAAAAAAAAAAAAAAAAAAAAAAAAAAAAAAAAAAAAAAAAAAAAAAAAAAAAAAAAAAAAAAAAAAAAAAAAAAAAAAAAAAAAAAAAAAAAAAAAAAAAAAAAAAAAAAAAAAAAAAAAAAAAAAAAAAAAAAAAAAAAAAAAAAAAAAAAAAAAAAAAAAAAAAAAAAAAAAAAAAAAAAAAAAAAAAAAAAAAAAAAAAAAAAAAAAAAAAAAAAAAAAAAAAAAAAAAAAAAAAAAAAAAAAAAAAAAAAAAAAAAAAAAAAAAAAAAAAAAAAAAAAAAAAAAAAAAAAAAAAAAAAAAAAAAAAAAAAAAAAAAAAAAAAAAAAAAAAAAAAAAAAAAAAAAAAAAAAAAAAAAAAAAAAAAAAAAAAAAAAAAAAAAAAAAAAAAAAAAAAAAAAAAAAAAAAAAAAAAAAAAAAAAAAAAAAAAAAAAAAAAAAAAAAAAAAAAAAAAAAAAAAAAAAAAAAAAAAAAAAAAAAAAAAAAAAAAAAAAAAAAAAAAAAAAAAAAAAAAAAAAAAAAAAAAAAAAAAAAAAAAAAAAAAAAAAAAAAAAAAAAAAAAAAAAAAAAAAAAAAAAAAAAAAAAAAAAAAAAAAAAAAAAAAAAAAAAAAAAAAAAAAAAAAAAAAAAAAAAAAAAAAAAAAAAAAAAAAAAAAAAAAAAAAAAAAAAAAAAAAAAAAAAAAAAAAAAAAAAAAAAAAAAAAAAAAAAAAAAAAAAAAAAAAAAAAAAAAAAAAAAAAAAAAAAAAAAAAAAAAAAAAAAAAAAAAAAAAAAAAAAAAAAAAAAAACwAAAAAPgA+AEAI/wADCBxIsKDBgwgTKkQIoKHDhxAjSpxIsSLEAAEAaNzIsaPHjyBDiuwYIACAkyhTqlzJsqXLlyoDBABAs6bNmzhz6tzJ82aAAACCCh1KtKjRo0iTEg0QAIDTp1CjSp1KtarVqAECANjKtavXr2DDih3rNUAAAGjTql3Ltq3bt3DXBggAoK7du3jz6t3Lty/eAAEACB5MuLDhw4gTKy4cIACAx5AjS55MubLly5IDBADAubPnz6BDix5N+nOAAABSq17NurXr17Bjsw4QAIDt27hz697Nu7fv3AECABhOvLjx48iTK19uPEAAANCjS59Ovbr169inBwgAoLv37+DDi/8fT748+AABAKhfz769+/fw48tvHyAAgPv48+vfz7+/f4AABA4kWDBAAAAJFS5k2NDhQ4gRGQYIAMDiRYwZNW7k2NFjxgABAIwkWdLkSZQpVa40GSAAAJgxZc6kWdPmTZwzAwQA0NPnT6BBhQ4lWhRogAAAlC5l2tTpU6hRpTYNEADAVaxZtW7l2tXrV60BAgAgW9bsWbRp1a5lezZAAABx5c6lW9fuXbx56QYIAMDvX8CBBQ8mXNhw4AABACxm3NjxY8iRJU92HCAAAMyZNW/m3NnzZ9CbAwQAUNr0adSpVa9m3Rp1gAAAZM+mXdv2bdy5ddcOEADAb+DBhQ8nXtz/+HHhAQIAYN7c+XPo0aVPp/48QAAA2bVv597d+3fw4bkHCADA/Hn06dWvZ9/effoAAQDMp1/f/n38+fXvtx8gAEAAAgcSLGjwIMKECgsGCADgIcSIEidSrGjxosQAAQBw7OjxI8iQIkeS/BggAICUKleybOnyJcyYLAMEAGDzJs6cOnfy7OkzZ4AAAIYSLWr0KNKkSpcaDRAAANSoUqdSrWr1KtapAQIA6Or1K9iwYseSLQs2QAAAateybev2Ldy4ctsGCADgLt68evfy7ev3r94AAQAQLmz4MOLEihczPhwgAIDIkidTrmz5MubMlAMEAOD5M+jQokeTLm06dIAAlQBWs27t+jXs2LJnuw4QAADu3Lp38+7t+zfw3QECAChu/Djy5MqXM2+OPEAAANKnU69u/Tr27NqrBwgA4Dv48OLHky9v/rz4AAEAsG/v/j38+PLn038fIACA/Pr38+/vHyAAgQMJFjR4kGCAAAAYNnT4EGJEiRMpPgwQAEBGjRs5dvT4EWRIjgFIljR5EmVKlStZqgwIADs=\"><title>Layer: output (output)\n output range: (0, 1)\n shape = (1,)\n Keras class = Dense\n activation = sigmoid</title></image><text x=\"305.0\" y=\"112.0\" font-family=\"monospace\" font-size=\"12\" text-anchor=\"start\" fill=\"black\" alignment-baseline=\"central\" >output</text><line x1=\"275.0\" y1=\"164\" x2=\"275.0\" y2=\"137\" stroke=\"black\" stroke-width=\"2\" marker-end=\"url(#arrow)\"><title>Weights from hidden to output\n output_3/kernel:0 has shape (5, 1)\n output_3/bias:0 has shape (1,)</title></line><rect x=\"174.0\" y=\"164\" width=\"202\" height=\"52\" style=\"fill:none;stroke:black;stroke-width:2\"/><image id=\"picture-dashboard-XOR in Time-33831_hidden_6\" class=\"picture-dashboard-XOR in Time-33831_hidden\" x=\"175.0\" y=\"165\" height=\"50\" width=\"200\" preserveAspectRatio=\"none\" href=\"data:image/gif;base64,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\"><title>Layer: hidden (hidden)\n output range: (0, 1)\n shape = (5,)\n Keras class = Dense\n activation = sigmoid</title></image><text x=\"380.0\" y=\"192.0\" font-family=\"monospace\" font-size=\"12\" text-anchor=\"start\" fill=\"black\" alignment-baseline=\"central\" >hidden</text><line x1=\"183.33333333333334\" y1=\"244\" x2=\"275.0\" y2=\"217\" stroke=\"black\" stroke-width=\"2\" marker-end=\"url(#arrow)\"><title>Weights from input to hidden\n hidden_3/kernel:0 has shape (6, 5)\n hidden_3/bias:0 has shape (5,)</title></line><rect x=\"157.33333333333334\" y=\"244\" width=\"52\" height=\"52\" style=\"fill:none;stroke:black;stroke-width:2\"/><image id=\"picture-dashboard-XOR in Time-33831_input_7\" class=\"picture-dashboard-XOR in Time-33831_input\" x=\"158.33333333333334\" y=\"245\" height=\"50\" width=\"50\" preserveAspectRatio=\"none\" href=\"data:image/gif;base64,R0lGODdhPgA+AIcAAAAAAAAAAAAAAAAAAAAAAAAAAAAAAAAAAAAAAAAAAAAAAAAAAAAAAAAAAAAAAAAAAAAAAAAAAAAAAAAAAAAAAAAAAAAAAAAAAAAAAAAAAAAAAAAAAAAAAAAAAAAAAAAAAAAAAAAAAAAAAAAAAAAAAAAAAAAAAAAAAAAAAAAAAAAAAAAAAAAAAAAAAAAAAAAAAAAAAAAAAAAAAAAAAAAAAAAAAAAAAAAAAAAAAAAAAAAAAAAAAAAAAAAAAAAAAAAAAAAAAAAAAAAAAAAAAAAAAAAAAAAAAAAAAAAAAAAAAAAAAAAAAAAAAAAAAAAAAAAAAAAAAAAAAAAAAAAAAAAAAAAAAAAAAAAAAAAAAAAAAAAAAAAAAAAAAAAAAAAAAAAAAAAAAAAAAAAAAAAAAAAAAAAAAAAAAAAAAAAAAAAAAAAAAAAAAAAAAAAAAAAAAAAAAAAAAAAAAAAAAAAAAAAAAAAAAAAAAAAAAAAAAAAAAAAAAAAAAAAAAAAAAAAAAAAAAAAAAAAAAAAAAAAAAAAAAAAAAAAAAAAAAAAAAAAAAAAAAAAAAAAAAAAAAAAAAAAAAAAAAAAAAAAAAAAAAAAAAAAAAAAAAAAAAAAAAAAAAAAAAAAAAAAAAAAAAAAAAAAAAAAAAAAAAAAAAAAAAAAAAAAAAAAAAAAAAAAAAAAAAAAAAAAAAAAAAAAAAAAAAAAAAAAAAAAAAAAAAAAAAAAAAAAAAAAAAAAAAAAAAAAAAAAAAAAAAAAAAAAAAAAAAAAAAAAAAAAAAAAAAAAAAAAAAAAAAAAAAAAAAAAAAAAAAAAAAAAAAAAAAAAAAAAAAAAAAAAAAAAAAAAAAAAAAAAAAAAAAAAAAAAAAAAAAAAAAAAAAAAAAAAAAAAAAAAAAAAAAAAAAAAAAAAAAAAAAAAAAAAAAAAAAAAAAAAAAAAAAAAAAAAAAAAAAAAAAAAAAAAAAAAAAAAAAAAAAAAAAAAAAAAAAAAAAAAAAAAAAAAAAAAAAAAAAAAAAAAAAAAAAAAAACwAAAAAPgA+AEAIZgABCBxIsKDBgwgTKlzIsKHDhxAjSpxIsaLFixgzatzIsaPHjyBDihxJsqTJkyhTqlzJsqXLlzBjypxJs6bNmzhz6tzJs6fPn0CDCh1KtKjRo0iTKl3KtKnTp1CjSp1KtarVqxADAgA7\"><title>Layer: input (input)\n output range: (0.0, 1.0)\n shape = (1,)\n Keras class = Input</title></image><text x=\"213.33333333333334\" y=\"272.0\" font-family=\"monospace\" font-size=\"12\" text-anchor=\"start\" fill=\"black\" alignment-baseline=\"central\" >input</text><line x1=\"366.6666666666667\" y1=\"244\" x2=\"275.0\" y2=\"217\" stroke=\"black\" stroke-width=\"2\" marker-end=\"url(#arrow)\"><title>Weights from context to hidden\n hidden_3/kernel:0 has shape (6, 5)\n hidden_3/bias:0 has shape (5,)</title></line><rect x=\"265.6666666666667\" y=\"244\" width=\"202\" height=\"52\" style=\"fill:none;stroke:black;stroke-width:2\"/><image id=\"picture-dashboard-XOR in Time-33831_context_8\" class=\"picture-dashboard-XOR in Time-33831_context\" x=\"266.6666666666667\" y=\"245\" height=\"50\" width=\"200\" preserveAspectRatio=\"none\" href=\"data:image/gif;base64,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\"><title>Layer: context (input)\n output range: (0.39567637, 0.607943)\n shape = (5,)\n Keras class = Input</title></image><text x=\"471.6666666666667\" y=\"272.0\" font-family=\"monospace\" font-size=\"12\" text-anchor=\"start\" fill=\"black\" alignment-baseline=\"central\" >context</text><text x=\"275.0\" y=\"12.5\" font-family=\"monospace\" font-size=\"15\" text-anchor=\"middle\" fill=\"black\" alignment-baseline=\"central\" >XOR in Time</text></svg></g></svg></p>"
      }
     },
     "558c2ec68cfa401b8c3e6f2093cfc801": {
      "model_module": "@jupyter-widgets/controls",
      "model_module_version": "1.1.0",
      "model_name": "DescriptionStyleModel",
      "state": {
       "description_width": "initial"
      }
     },
     "5599986c242744a485fa82eebe43d9db": {
      "model_module": "@jupyter-widgets/controls",
      "model_module_version": "1.1.0",
      "model_name": "HBoxModel",
      "state": {
       "children": [
        "IPY_MODEL_2c82d3dea446403886d4381f4b58eb20",
        "IPY_MODEL_3249d9850c53434da8851c6ecbc6ffcd"
       ],
       "layout": "IPY_MODEL_127864491e644252b6525e0065b7dbb7"
      }
     },
     "5615cea308d74b6d9026678288357d7a": {
      "model_module": "@jupyter-widgets/controls",
      "model_module_version": "1.1.0",
      "model_name": "CheckboxModel",
      "state": {
       "description": "Show Targets",
       "disabled": false,
       "layout": "IPY_MODEL_4ce4e5a3e9f1434ea001172d2a6293aa",
       "style": "IPY_MODEL_d615f86a702f49b08bfe27b3ff6c96b4",
       "value": true
      }
     },
     "5659d1a51bb34793adc0c109c31dc0bd": {
      "model_module": "@jupyter-widgets/base",
      "model_module_version": "1.0.0",
      "model_name": "LayoutModel",
      "state": {}
     },
     "5676a29c506945c686ec0b90e85bf3ff": {
      "model_module": "@jupyter-widgets/controls",
      "model_module_version": "1.1.0",
      "model_name": "DescriptionStyleModel",
      "state": {
       "description_width": ""
      }
     },
     "568a6668fb1c4378a88830bcad8f542e": {
      "model_module": "@jupyter-widgets/controls",
      "model_module_version": "1.1.0",
      "model_name": "DescriptionStyleModel",
      "state": {
       "description_width": ""
      }
     },
     "56d39f6b98074b7a9e18539b0d0089d1": {
      "model_module": "@jupyter-widgets/base",
      "model_module_version": "1.0.0",
      "model_name": "LayoutModel",
      "state": {
       "width": "100%"
      }
     },
     "571a980356b04812afcb5f081c878ba7": {
      "model_module": "@jupyter-widgets/base",
      "model_module_version": "1.0.0",
      "model_name": "LayoutModel",
      "state": {}
     },
     "5743847f30bf4c7f910b4ca7b1b1d3ba": {
      "model_module": "@jupyter-widgets/controls",
      "model_module_version": "1.1.0",
      "model_name": "DescriptionStyleModel",
      "state": {
       "description_width": ""
      }
     },
     "576e3fa18ba7495ba58fa0334a690fb1": {
      "model_module": "@jupyter-widgets/controls",
      "model_module_version": "1.1.0",
      "model_name": "IntTextModel",
      "state": {
       "layout": "IPY_MODEL_1de149defe9b457d868c0812893de548",
       "step": 1,
       "style": "IPY_MODEL_0cfc4fff56594c9d8085836256d8d92d"
      }
     },
     "57a18545a39c4eaf92363cf01f152ba7": {
      "model_module": "@jupyter-widgets/output",
      "model_module_version": "1.0.0",
      "model_name": "OutputModel",
      "state": {
       "layout": "IPY_MODEL_15125e61e2bd47f297f6f19462d60d28"
      }
     },
     "583f325e3440451984664d291d0961f9": {
      "model_module": "@jupyter-widgets/controls",
      "model_module_version": "1.1.0",
      "model_name": "VBoxModel",
      "state": {
       "children": [
        "IPY_MODEL_95c23dc38311411298ff89b689741d7c",
        "IPY_MODEL_c4b05d3de1e44c7e9a1d84ba6601c266"
       ],
       "layout": "IPY_MODEL_34d45888f45e4790a2bf1a248c685f31"
      }
     },
     "5854b1e62f544a3f959115160211dd43": {
      "model_module": "@jupyter-widgets/controls",
      "model_module_version": "1.1.0",
      "model_name": "CheckboxModel",
      "state": {
       "description": "Show Targets",
       "disabled": false,
       "layout": "IPY_MODEL_2654fbe51a30422e849f5cb742292019",
       "style": "IPY_MODEL_fc2cea667cb94187b6723d3a26359afe",
       "value": true
      }
     },
     "5876fc03bd1c477cbd78f27e2d62778e": {
      "model_module": "@jupyter-widgets/base",
      "model_module_version": "1.0.0",
      "model_name": "LayoutModel",
      "state": {
       "width": "100%"
      }
     },
     "588df27cb7694126872211dc069477ba": {
      "model_module": "@jupyter-widgets/base",
      "model_module_version": "1.0.0",
      "model_name": "LayoutModel",
      "state": {
       "width": "100%"
      }
     },
     "58b2f7ffb7d846b798306342340ed1af": {
      "model_module": "@jupyter-widgets/base",
      "model_module_version": "1.0.0",
      "model_name": "LayoutModel",
      "state": {
       "width": "100%"
      }
     },
     "58b5a0ff6d3446a889b022ed0842f222": {
      "model_module": "@jupyter-widgets/controls",
      "model_module_version": "1.1.0",
      "model_name": "IntTextModel",
      "state": {
       "description": "Horizontal space between banks:",
       "layout": "IPY_MODEL_129b806245d74415b1a12e759f3d4771",
       "step": 1,
       "style": "IPY_MODEL_7f1bc6f5f0f44cc9b49cd30dd82dc517",
       "value": 150
      }
     },
     "58caaa62978343f9b664c93eefcc6cbd": {
      "model_module": "@jupyter-widgets/base",
      "model_module_version": "1.0.0",
      "model_name": "LayoutModel",
      "state": {
       "width": "100%"
      }
     },
     "590385d5488c4544a6833f05211d665c": {
      "model_module": "@jupyter-widgets/controls",
      "model_module_version": "1.1.0",
      "model_name": "DescriptionStyleModel",
      "state": {
       "description_width": ""
      }
     },
     "59881df13116414fb0972ff01c1fd67f": {
      "model_module": "@jupyter-widgets/controls",
      "model_module_version": "1.1.0",
      "model_name": "DescriptionStyleModel",
      "state": {
       "description_width": ""
      }
     },
     "59abc934cf834f1f9575c98295d5a3f2": {
      "model_module": "@jupyter-widgets/base",
      "model_module_version": "1.0.0",
      "model_name": "LayoutModel",
      "state": {
       "width": "25%"
      }
     },
     "5a8eba85b9c5496a96f397a020649103": {
      "model_module": "@jupyter-widgets/controls",
      "model_module_version": "1.1.0",
      "model_name": "FloatSliderModel",
      "state": {
       "continuous_update": false,
       "description": "Zoom",
       "layout": "IPY_MODEL_9674aa2a608b4bb492580b01a4cd953e",
       "max": 1,
       "step": 0.1,
       "style": "IPY_MODEL_2fc66359dc694dffadabde4306288c7a",
       "value": 0.5
      }
     },
     "5adc33dca04e4845b1831ff737bbb227": {
      "model_module": "@jupyter-widgets/controls",
      "model_module_version": "1.1.0",
      "model_name": "CheckboxModel",
      "state": {
       "description": "Errors",
       "disabled": false,
       "layout": "IPY_MODEL_d0efc5b93d1b427d991025764c7c76c5",
       "style": "IPY_MODEL_fa536e196bec4095aa0e0b136e28cc81",
       "value": false
      }
     },
     "5b6f5edce1ef488e96ad966f61b80e3e": {
      "model_module": "@jupyter-widgets/base",
      "model_module_version": "1.0.0",
      "model_name": "LayoutModel",
      "state": {}
     },
     "5b7acbc207314a3eb9effe39ab56011a": {
      "model_module": "@jupyter-widgets/base",
      "model_module_version": "1.0.0",
      "model_name": "LayoutModel",
      "state": {}
     },
     "5b8a17ee45f84c6eafe70191336e4d5f": {
      "model_module": "@jupyter-widgets/base",
      "model_module_version": "1.0.0",
      "model_name": "LayoutModel",
      "state": {}
     },
     "5bf2d36bc26c4bf1a8d06c7fe569aa0a": {
      "model_module": "@jupyter-widgets/controls",
      "model_module_version": "1.1.0",
      "model_name": "ButtonModel",
      "state": {
       "icon": "refresh",
       "layout": "IPY_MODEL_f592c001965d4ee989e50809eb8c9dbe",
       "style": "IPY_MODEL_e95bf80518ee4cc086d5a6102eb39116"
      }
     },
     "5d7030ebc3f6473d98a5b33e2b79fde3": {
      "model_module": "@jupyter-widgets/controls",
      "model_module_version": "1.1.0",
      "model_name": "HBoxModel",
      "state": {
       "children": [
        "IPY_MODEL_5615cea308d74b6d9026678288357d7a",
        "IPY_MODEL_d00510e5422d4f12a59147dd0e6dd742"
       ],
       "layout": "IPY_MODEL_5b6f5edce1ef488e96ad966f61b80e3e"
      }
     },
     "5db5d124104e480ca544b5be68072d65": {
      "model_module": "@jupyter-widgets/controls",
      "model_module_version": "1.1.0",
      "model_name": "DescriptionStyleModel",
      "state": {
       "description_width": "initial"
      }
     },
     "5e58c51b17af4fa98c16c04d2be8427b": {
      "model_module": "@jupyter-widgets/controls",
      "model_module_version": "1.1.0",
      "model_name": "FloatTextModel",
      "state": {
       "description": "Leftmost color maps to:",
       "layout": "IPY_MODEL_7f2f78fae47c4f0f8c353998c2f3e43e",
       "step": null,
       "style": "IPY_MODEL_69e6dce67cd74a0a9a38f4764072f9ac"
      }
     },
     "5e8f4100317c4ca18084113fa45f5ed1": {
      "model_module": "@jupyter-widgets/base",
      "model_module_version": "1.0.0",
      "model_name": "LayoutModel",
      "state": {
       "width": "100%"
      }
     },
     "5eea9bd392444a749bae46c2621b75b8": {
      "model_module": "@jupyter-widgets/controls",
      "model_module_version": "1.1.0",
      "model_name": "CheckboxModel",
      "state": {
       "description": "Rotate network",
       "disabled": false,
       "layout": "IPY_MODEL_7bdc7efb22ed497c85b93cf6be61a4f5",
       "style": "IPY_MODEL_6f90a3bf727f44fabb82113e21c81af9",
       "value": false
      }
     },
     "5ef8c90112484d29a4b91dbe71f7bb8d": {
      "model_module": "@jupyter-widgets/controls",
      "model_module_version": "1.1.0",
      "model_name": "SelectModel",
      "state": {
       "_options_labels": [
        "Test",
        "Train"
       ],
       "description": "Dataset:",
       "index": 1,
       "layout": "IPY_MODEL_879b2773ed7f4bdf856eff877c4f6b1c",
       "rows": 1,
       "style": "IPY_MODEL_2d7029b0c7fa409589d54251d9dfbee7"
      }
     },
     "5f2d511e06974ef0becc692db264db0c": {
      "model_module": "@jupyter-widgets/controls",
      "model_module_version": "1.1.0",
      "model_name": "ButtonStyleModel",
      "state": {}
     },
     "5ff5bf9e4de14448ba4f01be872c902d": {
      "model_module": "@jupyter-widgets/controls",
      "model_module_version": "1.1.0",
      "model_name": "SelectModel",
      "state": {
       "_options_labels": [
        "Test",
        "Train"
       ],
       "description": "Dataset:",
       "index": 1,
       "layout": "IPY_MODEL_eb0ae009efa04809935e0c979d98979c",
       "rows": 1,
       "style": "IPY_MODEL_8cf6e20964a14e35b7ab11afdd488596"
      }
     },
     "60488bdf2d2145d0a15f9d531d8fc7df": {
      "model_module": "@jupyter-widgets/controls",
      "model_module_version": "1.1.0",
      "model_name": "ButtonModel",
      "state": {
       "icon": "save",
       "layout": "IPY_MODEL_29969674231b42e590df1887f2fee802",
       "style": "IPY_MODEL_f8c93603baec4365a820435be79a8430"
      }
     },
     "6061f1222e5348f28e7eed7db158342c": {
      "model_module": "@jupyter-widgets/controls",
      "model_module_version": "1.1.0",
      "model_name": "DescriptionStyleModel",
      "state": {
       "description_width": "initial"
      }
     },
     "606c7a8a48614ce592ecc018fe2a4465": {
      "model_module": "@jupyter-widgets/base",
      "model_module_version": "1.0.0",
      "model_name": "LayoutModel",
      "state": {}
     },
     "60bd1a65b7da4d8cab934954c5661814": {
      "model_module": "@jupyter-widgets/controls",
      "model_module_version": "1.1.0",
      "model_name": "DescriptionStyleModel",
      "state": {
       "description_width": ""
      }
     },
     "60c8a74ac4f24f909620bf7822399754": {
      "model_module": "@jupyter-widgets/controls",
      "model_module_version": "1.1.0",
      "model_name": "FloatTextModel",
      "state": {
       "description": "Feature scale:",
       "layout": "IPY_MODEL_5b8a17ee45f84c6eafe70191336e4d5f",
       "step": null,
       "style": "IPY_MODEL_cb191297211447d1a566973e4d875d2c",
       "value": 1
      }
     },
     "60f91c278b5546ef92ae6ae8142f0269": {
      "model_module": "@jupyter-widgets/base",
      "model_module_version": "1.0.0",
      "model_name": "LayoutModel",
      "state": {}
     },
     "6186e7b29f42417dab0a354540aa8dda": {
      "model_module": "@jupyter-widgets/controls",
      "model_module_version": "1.1.0",
      "model_name": "DescriptionStyleModel",
      "state": {
       "description_width": "initial"
      }
     },
     "61a2609973b74b2091c71a9420cdb92e": {
      "model_module": "@jupyter-widgets/controls",
      "model_module_version": "1.1.0",
      "model_name": "IntTextModel",
      "state": {
       "description": "Vertical space between layers:",
       "layout": "IPY_MODEL_d0efc5b93d1b427d991025764c7c76c5",
       "step": 1,
       "style": "IPY_MODEL_8818dac06ce04b0cb79d2131ef46b0a8",
       "value": 30
      }
     },
     "61baf549687e4540b2629e273046bbdb": {
      "model_module": "@jupyter-widgets/controls",
      "model_module_version": "1.1.0",
      "model_name": "DescriptionStyleModel",
      "state": {
       "description_width": ""
      }
     },
     "620038d7ff4d4fefb88c80a7c69a7033": {
      "model_module": "@jupyter-widgets/controls",
      "model_module_version": "1.1.0",
      "model_name": "VBoxModel",
      "state": {
       "children": [
        "IPY_MODEL_eb3d9ee9a91542f590108fd74c770c64",
        "IPY_MODEL_76d453620001408a9ffa82a56b2ac3b7",
        "IPY_MODEL_dfb7a17ec6f34e309164ed6da37ab7f4",
        "IPY_MODEL_61a2609973b74b2091c71a9420cdb92e",
        "IPY_MODEL_7dac125531b947419f43f547e270964c",
        "IPY_MODEL_ef19442beedb4f63af38ed1fa8bc595a",
        "IPY_MODEL_9b2321c56bcd4981b66a1c9f4eab86bb",
        "IPY_MODEL_4adb516f1a624112a7ad565977667792"
       ],
       "layout": "IPY_MODEL_6ac72c8260b149a69e2090356c858824"
      }
     },
     "62926640b54c4e0caba19b94d7d9ab70": {
      "model_module": "@jupyter-widgets/controls",
      "model_module_version": "1.1.0",
      "model_name": "DescriptionStyleModel",
      "state": {
       "description_width": "initial"
      }
     },
     "62a8d7f393a743dbb2a3abfa348fed85": {
      "model_module": "@jupyter-widgets/base",
      "model_module_version": "1.0.0",
      "model_name": "LayoutModel",
      "state": {}
     },
     "634c55cf04bd497f9979fdb1bf4def7d": {
      "model_module": "@jupyter-widgets/controls",
      "model_module_version": "1.1.0",
      "model_name": "DescriptionStyleModel",
      "state": {
       "description_width": ""
      }
     },
     "6425a6f7d13e4accb7e2b317c183a94c": {
      "model_module": "@jupyter-widgets/controls",
      "model_module_version": "1.1.0",
      "model_name": "LabelModel",
      "state": {
       "layout": "IPY_MODEL_20de1b11e88c4d9c8a608e8621f07248",
       "style": "IPY_MODEL_48cbc4e7216f4ee6b6e62e97b07165d7",
       "value": "of 3"
      }
     },
     "64783172c72945afbf2f7ad483cdeca8": {
      "model_module": "@jupyter-widgets/controls",
      "model_module_version": "1.1.0",
      "model_name": "CheckboxModel",
      "state": {
       "description": "Errors",
       "disabled": false,
       "layout": "IPY_MODEL_fc7b3648e0f04817bff1a149c87f3535",
       "style": "IPY_MODEL_62926640b54c4e0caba19b94d7d9ab70",
       "value": false
      }
     },
     "649fa522d2d746e090de9e35dc37520b": {
      "model_module": "@jupyter-widgets/controls",
      "model_module_version": "1.1.0",
      "model_name": "HBoxModel",
      "state": {
       "children": [
        "IPY_MODEL_15912eec2c4b4987bf56b258f3e21405",
        "IPY_MODEL_bdfef4af973a47688bd42f95162b0724"
       ],
       "layout": "IPY_MODEL_1aa0b51927da4966935e730c2657edda"
      }
     },
     "6511ff45bd7e408ab007c11105a94ea2": {
      "model_module": "@jupyter-widgets/base",
      "model_module_version": "1.0.0",
      "model_name": "LayoutModel",
      "state": {}
     },
     "6544afb0a13e446bbac48b1307351a3b": {
      "model_module": "@jupyter-widgets/controls",
      "model_module_version": "1.1.0",
      "model_name": "IntTextModel",
      "state": {
       "description": "Horizontal space between banks:",
       "layout": "IPY_MODEL_897822a9588b4ab585f13576dac3c861",
       "step": 1,
       "style": "IPY_MODEL_4346995dbdc84f67ad7ada44e00b9078",
       "value": 150
      }
     },
     "6577a78772a149bdac3ef8155d8a52be": {
      "model_module": "@jupyter-widgets/controls",
      "model_module_version": "1.1.0",
      "model_name": "IntTextModel",
      "state": {
       "layout": "IPY_MODEL_d8825b1912a34e01957775a2f9efa176",
       "step": 1,
       "style": "IPY_MODEL_7d6467a66ccf47b7807b06ce86377963",
       "value": 2
      }
     },
     "65be3641a8b145dbab723604ac9556c4": {
      "model_module": "@jupyter-widgets/controls",
      "model_module_version": "1.1.0",
      "model_name": "SliderStyleModel",
      "state": {
       "description_width": ""
      }
     },
     "65c980ebbe114c4699297a1063ccb1d5": {
      "model_module": "@jupyter-widgets/base",
      "model_module_version": "1.0.0",
      "model_name": "LayoutModel",
      "state": {}
     },
     "65e8d862c1e742cc961afe5d1b65ee8c": {
      "model_module": "@jupyter-widgets/controls",
      "model_module_version": "1.1.0",
      "model_name": "HBoxModel",
      "state": {
       "children": [
        "IPY_MODEL_96470094b6d34b4cb2610cbf86e871a6",
        "IPY_MODEL_c4931b8b0dfc4f54905dfb2861e2f05f"
       ],
       "layout": "IPY_MODEL_7e5d0d34dd824bdbaa67e9367b3c5307"
      }
     },
     "65ff198cfcd1486fb9ee0532554df363": {
      "model_module": "@jupyter-widgets/controls",
      "model_module_version": "1.1.0",
      "model_name": "DescriptionStyleModel",
      "state": {
       "description_width": ""
      }
     },
     "665c2ca5a0d54ea48c9266a7c77a1796": {
      "model_module": "@jupyter-widgets/controls",
      "model_module_version": "1.1.0",
      "model_name": "ButtonStyleModel",
      "state": {}
     },
     "667780274ac544f6a472b4f0d72c14c4": {
      "model_module": "@jupyter-widgets/controls",
      "model_module_version": "1.1.0",
      "model_name": "CheckboxModel",
      "state": {
       "description": "Rotate",
       "disabled": false,
       "layout": "IPY_MODEL_4ce4e5a3e9f1434ea001172d2a6293aa",
       "style": "IPY_MODEL_8b9a0e64f6994518b1616d5e7341c209",
       "value": true
      }
     },
     "66c72302547c49e4a863f4dac5629ad9": {
      "model_module": "@jupyter-widgets/base",
      "model_module_version": "1.0.0",
      "model_name": "LayoutModel",
      "state": {}
     },
     "66d5d77eacb749c791bc76c9da14f167": {
      "model_module": "@jupyter-widgets/controls",
      "model_module_version": "1.1.0",
      "model_name": "ButtonModel",
      "state": {
       "icon": "fast-forward",
       "layout": "IPY_MODEL_d29096ce858d460db5954a58ec9551fc",
       "style": "IPY_MODEL_d3ebbe3a855f4092aa46f738c570a6d0"
      }
     },
     "671de4ab712d4bea86d60f845d76385b": {
      "model_module": "@jupyter-widgets/controls",
      "model_module_version": "1.1.0",
      "model_name": "SelectModel",
      "state": {
       "_options_labels": [
        "input",
        "context",
        "hidden",
        "output"
       ],
       "description": "Layer:",
       "index": 3,
       "layout": "IPY_MODEL_31c955e323364adb922e9efbb7b70da4",
       "rows": 1,
       "style": "IPY_MODEL_07b75ca2db7d4b76a33264e24a28a522"
      }
     },
     "672a7b87bd294ecd9a78c66486713f2d": {
      "model_module": "@jupyter-widgets/controls",
      "model_module_version": "1.1.0",
      "model_name": "HTMLModel",
      "state": {
       "layout": "IPY_MODEL_143488f4874f461fb695e34e105a5a05",
       "style": "IPY_MODEL_02a11e8831a7447280fe001be320f4f6",
       "value": "<img src=\"data:image/gif;base64,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\"/>"
      }
     },
     "67422b081a66464b8f2c54af8401cf63": {
      "model_module": "@jupyter-widgets/base",
      "model_module_version": "1.0.0",
      "model_name": "LayoutModel",
      "state": {
       "width": "100%"
      }
     },
     "678496dfe9764e7cad7e9f8d7c356ef2": {
      "model_module": "@jupyter-widgets/controls",
      "model_module_version": "1.1.0",
      "model_name": "IntTextModel",
      "state": {
       "description": "Feature columns:",
       "layout": "IPY_MODEL_62a8d7f393a743dbb2a3abfa348fed85",
       "step": 1,
       "style": "IPY_MODEL_3f5492a8739e4b769bebe0ef263cdaf9",
       "value": 3
      }
     },
     "67d3276f63de4f29bf09893062863997": {
      "model_module": "@jupyter-widgets/base",
      "model_module_version": "1.0.0",
      "model_name": "LayoutModel",
      "state": {
       "width": "100%"
      }
     },
     "68f866ff7fb44987936aa22ab5c8f2e2": {
      "model_module": "@jupyter-widgets/base",
      "model_module_version": "1.0.0",
      "model_name": "LayoutModel",
      "state": {}
     },
     "695296d5c0c64cd18586d7648aefebd0": {
      "model_module": "@jupyter-widgets/base",
      "model_module_version": "1.0.0",
      "model_name": "LayoutModel",
      "state": {}
     },
     "69734b0bf3dc46bc99e57f0cc2582c66": {
      "model_module": "@jupyter-widgets/base",
      "model_module_version": "1.0.0",
      "model_name": "LayoutModel",
      "state": {}
     },
     "69b265c4cadd4e9ea5537e452ea0b787": {
      "model_module": "@jupyter-widgets/base",
      "model_module_version": "1.0.0",
      "model_name": "LayoutModel",
      "state": {}
     },
     "69e6dce67cd74a0a9a38f4764072f9ac": {
      "model_module": "@jupyter-widgets/controls",
      "model_module_version": "1.1.0",
      "model_name": "DescriptionStyleModel",
      "state": {
       "description_width": "initial"
      }
     },
     "6a3bb6f69bec4aab82d4399f886444a4": {
      "model_module": "@jupyter-widgets/controls",
      "model_module_version": "1.1.0",
      "model_name": "ButtonModel",
      "state": {
       "icon": "refresh",
       "layout": "IPY_MODEL_03c6194470d9492c8aa6deae6aa0939d",
       "style": "IPY_MODEL_bed355dcc0f3403aa10d09fded4fe1be"
      }
     },
     "6a5bd5dd6f8f44f7a7fbc92da183097b": {
      "model_module": "@jupyter-widgets/controls",
      "model_module_version": "1.1.0",
      "model_name": "CheckboxModel",
      "state": {
       "description": "Rotate network",
       "disabled": false,
       "layout": "IPY_MODEL_9fb1bf48e0aa4e3a9840b73c99032c17",
       "style": "IPY_MODEL_934c75b2fa8849678ba56aecf4bce144",
       "value": false
      }
     },
     "6a8a4e77f0964765b274367853da7868": {
      "model_module": "@jupyter-widgets/base",
      "model_module_version": "1.0.0",
      "model_name": "LayoutModel",
      "state": {
       "width": "100%"
      }
     },
     "6ac4e66fc65248df9560fb6e4f2e78b8": {
      "model_module": "@jupyter-widgets/base",
      "model_module_version": "1.0.0",
      "model_name": "LayoutModel",
      "state": {
       "width": "100%"
      }
     },
     "6ac72c8260b149a69e2090356c858824": {
      "model_module": "@jupyter-widgets/base",
      "model_module_version": "1.0.0",
      "model_name": "LayoutModel",
      "state": {
       "width": "100%"
      }
     },
     "6ac7d23235e64ca79907e7e68c19aa99": {
      "model_module": "@jupyter-widgets/controls",
      "model_module_version": "1.1.0",
      "model_name": "CheckboxModel",
      "state": {
       "description": "Rotate network",
       "disabled": false,
       "layout": "IPY_MODEL_23e91e3a3a244e6bb40c409d3f355b96",
       "style": "IPY_MODEL_6186e7b29f42417dab0a354540aa8dda",
       "value": false
      }
     },
     "6ad8c608f00844038fdd9de591bf8e3b": {
      "model_module": "@jupyter-widgets/output",
      "model_module_version": "1.0.0",
      "model_name": "OutputModel",
      "state": {
       "layout": "IPY_MODEL_66c72302547c49e4a863f4dac5629ad9"
      }
     },
     "6b5e13e439644ffeb73e0a12dd54c273": {
      "model_module": "@jupyter-widgets/controls",
      "model_module_version": "1.1.0",
      "model_name": "ButtonStyleModel",
      "state": {}
     },
     "6b92a575908d498ca5b907c1604af07d": {
      "model_module": "@jupyter-widgets/base",
      "model_module_version": "1.0.0",
      "model_name": "LayoutModel",
      "state": {}
     },
     "6c1b27eb545b4fa8a7d6073efb8e2e23": {
      "model_module": "@jupyter-widgets/controls",
      "model_module_version": "1.1.0",
      "model_name": "HBoxModel",
      "state": {
       "children": [
        "IPY_MODEL_6a5bd5dd6f8f44f7a7fbc92da183097b",
        "IPY_MODEL_70b1283849d04ca090e91f9b1dbfbb0b"
       ],
       "layout": "IPY_MODEL_10eef53084fe4edbaebd43abe2725054"
      }
     },
     "6d0048cf9ab34ce7bc6e67c5cafd831c": {
      "model_module": "@jupyter-widgets/controls",
      "model_module_version": "1.1.0",
      "model_name": "IntTextModel",
      "state": {
       "description": "Vertical space between layers:",
       "layout": "IPY_MODEL_68f866ff7fb44987936aa22ab5c8f2e2",
       "step": 1,
       "style": "IPY_MODEL_2cb43ca239684715978a875600209d4b",
       "value": 30
      }
     },
     "6d2d34c920fb4f34abd97d5fc11cfb4d": {
      "model_module": "@jupyter-widgets/controls",
      "model_module_version": "1.1.0",
      "model_name": "DescriptionStyleModel",
      "state": {
       "description_width": "initial"
      }
     },
     "6d4696f37e714a4281398895b8ef42ed": {
      "model_module": "@jupyter-widgets/controls",
      "model_module_version": "1.1.0",
      "model_name": "SelectModel",
      "state": {
       "_options_labels": [
        "input",
        "context",
        "hidden",
        "output"
       ],
       "description": "Layer:",
       "index": 3,
       "layout": "IPY_MODEL_ae171b206b5c4133b1eb4ac268b3973e",
       "rows": 1,
       "style": "IPY_MODEL_80f21839c9534109baf1ac1198683591"
      }
     },
     "6d46af304b284dfc9c8dae8cf273971f": {
      "model_module": "@jupyter-widgets/controls",
      "model_module_version": "1.1.0",
      "model_name": "HBoxModel",
      "state": {
       "children": [
        "IPY_MODEL_845e3becef8c4fed8e2590d78abf1b41",
        "IPY_MODEL_a0195d9e1a784ba0afda89addb9f5002"
       ],
       "layout": "IPY_MODEL_eddbe8ff35204f2995cfe21d0096af51"
      }
     },
     "6d6e49cc6c4142a4ba38cf1810fefc17": {
      "model_module": "@jupyter-widgets/controls",
      "model_module_version": "1.1.0",
      "model_name": "LabelModel",
      "state": {
       "layout": "IPY_MODEL_9f0058d6ff634edfa50af682fb86dc68",
       "style": "IPY_MODEL_af267aadc0c4409c894878792463224d",
       "value": "of 3"
      }
     },
     "6da50ebbefc9487482e623805c86a85b": {
      "model_module": "@jupyter-widgets/base",
      "model_module_version": "1.0.0",
      "model_name": "LayoutModel",
      "state": {}
     },
     "6e07992115b246b2a7c66c00d370adfe": {
      "model_module": "@jupyter-widgets/controls",
      "model_module_version": "1.1.0",
      "model_name": "ButtonModel",
      "state": {
       "icon": "save",
       "layout": "IPY_MODEL_f624324667354087af79aa900ad57d87",
       "style": "IPY_MODEL_de4c8a69e89a434a98d3d734e6c648e2"
      }
     },
     "6e6f49d4a2b54323b8c0ec04fad7b7a8": {
      "model_module": "@jupyter-widgets/controls",
      "model_module_version": "1.1.0",
      "model_name": "DescriptionStyleModel",
      "state": {
       "description_width": ""
      }
     },
     "6edeab869d0f4c9da4c2bf1480f947a6": {
      "model_module": "@jupyter-widgets/base",
      "model_module_version": "1.0.0",
      "model_name": "LayoutModel",
      "state": {}
     },
     "6f29a7fd756b4a3fbcbd1b4e9998a142": {
      "model_module": "@jupyter-widgets/controls",
      "model_module_version": "1.1.0",
      "model_name": "FloatTextModel",
      "state": {
       "description": "Leftmost color maps to:",
       "layout": "IPY_MODEL_09af2f9e42e9426c9a47eb1b147d7fbf",
       "step": null,
       "style": "IPY_MODEL_b24dfb4434e8467da0cd939475763103",
       "value": -2
      }
     },
     "6f35c2ab98424f369920ae7267416557": {
      "model_module": "@jupyter-widgets/base",
      "model_module_version": "1.0.0",
      "model_name": "LayoutModel",
      "state": {
       "width": "52%"
      }
     },
     "6f8e2da4ebfe402880e8c85880cb4742": {
      "model_module": "@jupyter-widgets/controls",
      "model_module_version": "1.1.0",
      "model_name": "DescriptionStyleModel",
      "state": {
       "description_width": "initial"
      }
     },
     "6f90a3bf727f44fabb82113e21c81af9": {
      "model_module": "@jupyter-widgets/controls",
      "model_module_version": "1.1.0",
      "model_name": "DescriptionStyleModel",
      "state": {
       "description_width": "initial"
      }
     },
     "6f90eff978364b689d69515fb98e8ef0": {
      "model_module": "@jupyter-widgets/controls",
      "model_module_version": "1.1.0",
      "model_name": "DescriptionStyleModel",
      "state": {
       "description_width": ""
      }
     },
     "6fa243b604784379961ab767695e64e3": {
      "model_module": "@jupyter-widgets/controls",
      "model_module_version": "1.1.0",
      "model_name": "ButtonModel",
      "state": {
       "icon": "backward",
       "layout": "IPY_MODEL_1296f6b528cc46d08773fc2048f2529c",
       "style": "IPY_MODEL_e086c5ca082b47ed95e01e02fe9208c1"
      }
     },
     "6fadc69f919844d8b27d9a63b2947814": {
      "model_module": "@jupyter-widgets/base",
      "model_module_version": "1.0.0",
      "model_name": "LayoutModel",
      "state": {}
     },
     "7063f59321cf45a7a39d6881a602b5c4": {
      "model_module": "@jupyter-widgets/base",
      "model_module_version": "1.0.0",
      "model_name": "LayoutModel",
      "state": {}
     },
     "7069c765aaf44c229cc4e342f8d4425a": {
      "model_module": "@jupyter-widgets/base",
      "model_module_version": "1.0.0",
      "model_name": "LayoutModel",
      "state": {}
     },
     "70b1283849d04ca090e91f9b1dbfbb0b": {
      "model_module": "@jupyter-widgets/controls",
      "model_module_version": "1.1.0",
      "model_name": "ButtonModel",
      "state": {
       "icon": "save",
       "layout": "IPY_MODEL_1c32b1d5049841b2a78068b09f495c2d",
       "style": "IPY_MODEL_f69265f77dc6432fb2cd74872c6d7171"
      }
     },
     "70fcc06f14584305b33c0bd66ca8ca88": {
      "model_module": "@jupyter-widgets/base",
      "model_module_version": "1.0.0",
      "model_name": "LayoutModel",
      "state": {}
     },
     "72589fafd1b541609f2abf4e18b56fa0": {
      "model_module": "@jupyter-widgets/controls",
      "model_module_version": "1.1.0",
      "model_name": "IntTextModel",
      "state": {
       "layout": "IPY_MODEL_2feeb88d6dd64d30ace35db975ae1352",
       "step": 1,
       "style": "IPY_MODEL_bd24f0b3495745f78be49a5dfd17c415"
      }
     },
     "729ab51b38664f91b7282f20ef9c296d": {
      "model_module": "@jupyter-widgets/base",
      "model_module_version": "1.0.0",
      "model_name": "LayoutModel",
      "state": {
       "height": "50px",
       "width": "100%"
      }
     },
     "72a3d52198e3474894db0078fb6674a7": {
      "model_module": "@jupyter-widgets/controls",
      "model_module_version": "1.1.0",
      "model_name": "DescriptionStyleModel",
      "state": {
       "description_width": ""
      }
     },
     "72b4b5483efc4b4b8b98aa4a5f06ea35": {
      "model_module": "@jupyter-widgets/base",
      "model_module_version": "1.0.0",
      "model_name": "LayoutModel",
      "state": {}
     },
     "72fc993a472a4755aa95e63ee900f029": {
      "model_module": "@jupyter-widgets/base",
      "model_module_version": "1.0.0",
      "model_name": "LayoutModel",
      "state": {
       "width": "100%"
      }
     },
     "73f7fdeb70c14708ae90571089a27240": {
      "model_module": "@jupyter-widgets/controls",
      "model_module_version": "1.1.0",
      "model_name": "VBoxModel",
      "state": {
       "children": [
        "IPY_MODEL_671de4ab712d4bea86d60f845d76385b",
        "IPY_MODEL_2d8564458c4e4bf2a4f12759ea719156",
        "IPY_MODEL_bf43e93f135c4eaea8b763fc253583ee",
        "IPY_MODEL_45887442cd5e465188c25814971cce36",
        "IPY_MODEL_b544e64e97b3458da8819eb94ef10026",
        "IPY_MODEL_4a5a3a4108f346b3a0348e36a42133e9",
        "IPY_MODEL_0f65de3814f2408f9392d1542bb96a73",
        "IPY_MODEL_c509a72c75964f31be039958fb51ad33"
       ],
       "layout": "IPY_MODEL_eef82f8359104cc3a69edf97e83bc11a"
      }
     },
     "74a18bdc03f44cc893494f4e436bb523": {
      "model_module": "@jupyter-widgets/controls",
      "model_module_version": "1.1.0",
      "model_name": "DescriptionStyleModel",
      "state": {
       "description_width": "initial"
      }
     },
     "74d7acada895466db593ee5f461b7003": {
      "model_module": "@jupyter-widgets/base",
      "model_module_version": "1.0.0",
      "model_name": "LayoutModel",
      "state": {
       "width": "25%"
      }
     },
     "74e37edce2cb42b494b871d5046cfa8e": {
      "model_module": "@jupyter-widgets/base",
      "model_module_version": "1.0.0",
      "model_name": "LayoutModel",
      "state": {
       "height": "50px",
       "width": "100%"
      }
     },
     "7540124d67e74060b9ee6f77e23b2a43": {
      "model_module": "@jupyter-widgets/controls",
      "model_module_version": "1.1.0",
      "model_name": "DescriptionStyleModel",
      "state": {
       "description_width": "initial"
      }
     },
     "759e1cf4b4684a24b4d591c482b88aa6": {
      "model_module": "@jupyter-widgets/base",
      "model_module_version": "1.0.0",
      "model_name": "LayoutModel",
      "state": {}
     },
     "76d453620001408a9ffa82a56b2ac3b7": {
      "model_module": "@jupyter-widgets/controls",
      "model_module_version": "1.1.0",
      "model_name": "FloatSliderModel",
      "state": {
       "continuous_update": false,
       "description": "Zoom",
       "layout": "IPY_MODEL_b2dc5548922c415084a506bb2d13bded",
       "max": 1,
       "step": 0.1,
       "style": "IPY_MODEL_ca514c74bc6f4f788a5647a9abfc96d7",
       "value": 0.5
      }
     },
     "771b015a9bc04d668c44805b59c8c47c": {
      "model_module": "@jupyter-widgets/controls",
      "model_module_version": "1.1.0",
      "model_name": "DescriptionStyleModel",
      "state": {
       "description_width": ""
      }
     },
     "77351e9ddf0843e2aac85f83d1ee1ed5": {
      "model_module": "@jupyter-widgets/controls",
      "model_module_version": "1.1.0",
      "model_name": "HBoxModel",
      "state": {
       "children": [
        "IPY_MODEL_b341fb39bd644600b3980f30f81e0ac1",
        "IPY_MODEL_bfe8bb370078421eb1ddfb874fa33e06"
       ],
       "layout": "IPY_MODEL_44fb74bbdcd342d6a5dd2a53bfe58fd4"
      }
     },
     "77556d0c984b4d1ba37c3db5561242cd": {
      "model_module": "@jupyter-widgets/controls",
      "model_module_version": "1.1.0",
      "model_name": "HBoxModel",
      "state": {
       "children": [
        "IPY_MODEL_e71aaa6b94e04f88b7743451321fbb28",
        "IPY_MODEL_e1d5d62f6b8a4882b198244a7b1c0dea"
       ],
       "layout": "IPY_MODEL_112102c6d5f744169caea205ee339750"
      }
     },
     "77624ff2970c4c63bb7887d4feb4152c": {
      "model_module": "@jupyter-widgets/controls",
      "model_module_version": "1.1.0",
      "model_name": "DescriptionStyleModel",
      "state": {
       "description_width": "initial"
      }
     },
     "77a77c16f0bf4e4c82fd74e341c74168": {
      "model_module": "@jupyter-widgets/base",
      "model_module_version": "1.0.0",
      "model_name": "LayoutModel",
      "state": {}
     },
     "77b8b4b00a8a4845b232f072837a7970": {
      "model_module": "@jupyter-widgets/controls",
      "model_module_version": "1.1.0",
      "model_name": "DescriptionStyleModel",
      "state": {
       "description_width": ""
      }
     },
     "77cd5aef85344e0890ebffe62df1a21a": {
      "model_module": "@jupyter-widgets/controls",
      "model_module_version": "1.1.0",
      "model_name": "HBoxModel",
      "state": {
       "children": [
        "IPY_MODEL_db41152ae9084adcbc3d24047c6523a5",
        "IPY_MODEL_64783172c72945afbf2f7ad483cdeca8"
       ],
       "layout": "IPY_MODEL_c55abc9012a14deabe8f181517947230"
      }
     },
     "78190a3774df4f898479e309f7f175ca": {
      "model_module": "@jupyter-widgets/base",
      "model_module_version": "1.0.0",
      "model_name": "LayoutModel",
      "state": {}
     },
     "789bc2d2cf744f029deaaad9cd015700": {
      "model_module": "@jupyter-widgets/controls",
      "model_module_version": "1.1.0",
      "model_name": "ButtonStyleModel",
      "state": {}
     },
     "796d57fc4e954b2dba12ab7ab8a02fe4": {
      "model_module": "@jupyter-widgets/controls",
      "model_module_version": "1.1.0",
      "model_name": "DescriptionStyleModel",
      "state": {
       "description_width": ""
      }
     },
     "79cb2169189f49bbbf82463983ee9a33": {
      "model_module": "@jupyter-widgets/controls",
      "model_module_version": "1.1.0",
      "model_name": "DescriptionStyleModel",
      "state": {
       "description_width": "initial"
      }
     },
     "7a36e560c62e42f4a6c0810ebf4c732e": {
      "model_module": "@jupyter-widgets/controls",
      "model_module_version": "1.1.0",
      "model_name": "SelectModel",
      "state": {
       "_options_labels": [
        "input",
        "context",
        "hidden",
        "output"
       ],
       "description": "Layer:",
       "index": 3,
       "layout": "IPY_MODEL_e5debcca2e5344db90b33f625622b559",
       "rows": 1,
       "style": "IPY_MODEL_eddb04b9071c44f7870a6963d25be75f"
      }
     },
     "7a664f093d1d46368067dc9679219eb3": {
      "model_module": "@jupyter-widgets/base",
      "model_module_version": "1.0.0",
      "model_name": "LayoutModel",
      "state": {}
     },
     "7a8f1a0d57c444c6b47f1fb9dfeee974": {
      "model_module": "@jupyter-widgets/controls",
      "model_module_version": "1.1.0",
      "model_name": "ButtonStyleModel",
      "state": {}
     },
     "7abe7296398e4ec68236954677f24b56": {
      "model_module": "@jupyter-widgets/controls",
      "model_module_version": "1.1.0",
      "model_name": "DescriptionStyleModel",
      "state": {
       "description_width": "initial"
      }
     },
     "7adf4f6e2c0748538c441a26a8767e83": {
      "model_module": "@jupyter-widgets/controls",
      "model_module_version": "1.1.0",
      "model_name": "DescriptionStyleModel",
      "state": {
       "description_width": "initial"
      }
     },
     "7af74e61f8ca496ebbcdc7f489ea5037": {
      "model_module": "@jupyter-widgets/base",
      "model_module_version": "1.0.0",
      "model_name": "LayoutModel",
      "state": {
       "height": "50px",
       "width": "100%"
      }
     },
     "7b078a6e005e4a8984b2e183279f13c7": {
      "model_module": "@jupyter-widgets/base",
      "model_module_version": "1.0.0",
      "model_name": "LayoutModel",
      "state": {}
     },
     "7b2aa9e196ef4fbca25f07ff7fd51009": {
      "model_module": "@jupyter-widgets/output",
      "model_module_version": "1.0.0",
      "model_name": "OutputModel",
      "state": {
       "layout": "IPY_MODEL_500fe9f9c968419f9d02ca5b900b6217"
      }
     },
     "7b910d95be834349af1a17e587d9bf27": {
      "model_module": "@jupyter-widgets/base",
      "model_module_version": "1.0.0",
      "model_name": "LayoutModel",
      "state": {}
     },
     "7bdc7efb22ed497c85b93cf6be61a4f5": {
      "model_module": "@jupyter-widgets/base",
      "model_module_version": "1.0.0",
      "model_name": "LayoutModel",
      "state": {
       "width": "52%"
      }
     },
     "7c0cd29fb04d4ff691df5fcc4952ee1c": {
      "model_module": "@jupyter-widgets/base",
      "model_module_version": "1.0.0",
      "model_name": "LayoutModel",
      "state": {
       "width": "100%"
      }
     },
     "7c0d59788af6432bb52d44b8ae429d96": {
      "model_module": "@jupyter-widgets/controls",
      "model_module_version": "1.1.0",
      "model_name": "VBoxModel",
      "state": {
       "children": [
        "IPY_MODEL_f578492d776c424bbe14c0a57bbeb607",
        "IPY_MODEL_10bd7257e4de4aa59b6e6ad9ce263763",
        "IPY_MODEL_53bda916d6c94e8b8e43a129d025cbaf",
        "IPY_MODEL_7b2aa9e196ef4fbca25f07ff7fd51009"
       ],
       "layout": "IPY_MODEL_27b6baf7ff7a4dec95bb80dcdf5e0055"
      }
     },
     "7c5ea40c93474e86918ccb827460ceec": {
      "model_module": "@jupyter-widgets/base",
      "model_module_version": "1.0.0",
      "model_name": "LayoutModel",
      "state": {
       "width": "100%"
      }
     },
     "7cb06ed16f334e73bba224d16f601e2a": {
      "model_module": "@jupyter-widgets/controls",
      "model_module_version": "1.1.0",
      "model_name": "DescriptionStyleModel",
      "state": {
       "description_width": "initial"
      }
     },
     "7d6467a66ccf47b7807b06ce86377963": {
      "model_module": "@jupyter-widgets/controls",
      "model_module_version": "1.1.0",
      "model_name": "DescriptionStyleModel",
      "state": {
       "description_width": ""
      }
     },
     "7d7619056d624c7d8a5d7c6971ad3d7b": {
      "model_module": "@jupyter-widgets/controls",
      "model_module_version": "1.1.0",
      "model_name": "HBoxModel",
      "state": {
       "children": [
        "IPY_MODEL_f79e99a84e2e40d99de34a250b941673",
        "IPY_MODEL_60488bdf2d2145d0a15f9d531d8fc7df"
       ],
       "layout": "IPY_MODEL_69b265c4cadd4e9ea5537e452ea0b787"
      }
     },
     "7dac125531b947419f43f547e270964c": {
      "model_module": "@jupyter-widgets/controls",
      "model_module_version": "1.1.0",
      "model_name": "HBoxModel",
      "state": {
       "children": [
        "IPY_MODEL_be767964cd8d45ffa4ebe0f0373a3ecb",
        "IPY_MODEL_5adc33dca04e4845b1831ff737bbb227"
       ],
       "layout": "IPY_MODEL_25ba07e816e64b23aacf15db9de87740"
      }
     },
     "7e503d1c2a06443a8c6e8df92da63814": {
      "model_module": "@jupyter-widgets/controls",
      "model_module_version": "1.1.0",
      "model_name": "CheckboxModel",
      "state": {
       "description": "Rotate",
       "disabled": false,
       "layout": "IPY_MODEL_2654fbe51a30422e849f5cb742292019",
       "style": "IPY_MODEL_8d9320b25d7d4956aeacae0a2dfe39b6",
       "value": true
      }
     },
     "7e59f98a70314aec82f1878ddc42fb53": {
      "model_module": "@jupyter-widgets/base",
      "model_module_version": "1.0.0",
      "model_name": "LayoutModel",
      "state": {}
     },
     "7e5d0d34dd824bdbaa67e9367b3c5307": {
      "model_module": "@jupyter-widgets/base",
      "model_module_version": "1.0.0",
      "model_name": "LayoutModel",
      "state": {}
     },
     "7f1bc6f5f0f44cc9b49cd30dd82dc517": {
      "model_module": "@jupyter-widgets/controls",
      "model_module_version": "1.1.0",
      "model_name": "DescriptionStyleModel",
      "state": {
       "description_width": "initial"
      }
     },
     "7f2f78fae47c4f0f8c353998c2f3e43e": {
      "model_module": "@jupyter-widgets/base",
      "model_module_version": "1.0.0",
      "model_name": "LayoutModel",
      "state": {}
     },
     "7f8b2eb84122460093d853ec0041be47": {
      "model_module": "@jupyter-widgets/controls",
      "model_module_version": "1.1.0",
      "model_name": "HBoxModel",
      "state": {
       "children": [
        "IPY_MODEL_dd36ce2bfe824efebe65e468d867695c",
        "IPY_MODEL_ecfe2143fc784e428ccabbd3bd55fd1e"
       ],
       "layout": "IPY_MODEL_2357925efb7847c8a62b42cc1a142480"
      }
     },
     "7f8d5b716de0422d987af1edefbe3e10": {
      "model_module": "@jupyter-widgets/controls",
      "model_module_version": "1.1.0",
      "model_name": "IntSliderModel",
      "state": {
       "continuous_update": false,
       "description": "Dataset index",
       "layout": "IPY_MODEL_120e6a1c70584c969302abe7382b3a66",
       "max": 2,
       "style": "IPY_MODEL_d01f84cb720f443f9445bb905086c0d1",
       "value": 2
      }
     },
     "803b11e06a324454a73cda90e57af45d": {
      "model_module": "@jupyter-widgets/base",
      "model_module_version": "1.0.0",
      "model_name": "LayoutModel",
      "state": {
       "width": "100%"
      }
     },
     "80f21839c9534109baf1ac1198683591": {
      "model_module": "@jupyter-widgets/controls",
      "model_module_version": "1.1.0",
      "model_name": "DescriptionStyleModel",
      "state": {
       "description_width": ""
      }
     },
     "811ffb443bc1494382d50c3e64d34ac6": {
      "model_module": "@jupyter-widgets/base",
      "model_module_version": "1.0.0",
      "model_name": "LayoutModel",
      "state": {
       "width": "100%"
      }
     },
     "818ec9e911074771960a21d41b9897ef": {
      "model_module": "@jupyter-widgets/controls",
      "model_module_version": "1.1.0",
      "model_name": "DescriptionStyleModel",
      "state": {
       "description_width": "initial"
      }
     },
     "81f8b66d9a8443bea9c384051a0ddd96": {
      "model_module": "@jupyter-widgets/controls",
      "model_module_version": "1.1.0",
      "model_name": "ButtonStyleModel",
      "state": {}
     },
     "82a726043afd4d7182d390519bfa001e": {
      "model_module": "@jupyter-widgets/controls",
      "model_module_version": "1.1.0",
      "model_name": "DescriptionStyleModel",
      "state": {
       "description_width": ""
      }
     },
     "82c07304ebcb457cb09d5ccafe5f1ca2": {
      "model_module": "@jupyter-widgets/base",
      "model_module_version": "1.0.0",
      "model_name": "LayoutModel",
      "state": {
       "height": "40px"
      }
     },
     "83915be0e4b14a7bba0ce88d07890e0f": {
      "model_module": "@jupyter-widgets/controls",
      "model_module_version": "1.1.0",
      "model_name": "IntTextModel",
      "state": {
       "description": "Feature columns:",
       "layout": "IPY_MODEL_23a8f897f6ab44c097f2744bafb5fef3",
       "step": 1,
       "style": "IPY_MODEL_bd018e8a8674445b84253110d8fe5e39",
       "value": 3
      }
     },
     "84295287b34a42b680a74ecfe87dfca9": {
      "model_module": "@jupyter-widgets/controls",
      "model_module_version": "1.1.0",
      "model_name": "DescriptionStyleModel",
      "state": {
       "description_width": "initial"
      }
     },
     "845e3becef8c4fed8e2590d78abf1b41": {
      "model_module": "@jupyter-widgets/controls",
      "model_module_version": "1.1.0",
      "model_name": "IntSliderModel",
      "state": {
       "continuous_update": false,
       "description": "Dataset index",
       "layout": "IPY_MODEL_cf3042d4b58c434eb331af5522ca5bf7",
       "max": 2,
       "style": "IPY_MODEL_e158a455984b487293041ea57a98d61f"
      }
     },
     "84ca7e5657da4c1baad05f4de8685ef9": {
      "model_module": "@jupyter-widgets/controls",
      "model_module_version": "1.1.0",
      "model_name": "DescriptionStyleModel",
      "state": {
       "description_width": "initial"
      }
     },
     "8530c9b3c3af4cc9a97335987a9afe08": {
      "model_module": "@jupyter-widgets/controls",
      "model_module_version": "1.1.0",
      "model_name": "DescriptionStyleModel",
      "state": {
       "description_width": ""
      }
     },
     "86e28ea79f954e82960499764e1ab1a9": {
      "model_module": "@jupyter-widgets/base",
      "model_module_version": "1.0.0",
      "model_name": "LayoutModel",
      "state": {
       "width": "100%"
      }
     },
     "8734bf11dc7547b2b17fa3f9d0d7a180": {
      "model_module": "@jupyter-widgets/base",
      "model_module_version": "1.0.0",
      "model_name": "LayoutModel",
      "state": {}
     },
     "879b2773ed7f4bdf856eff877c4f6b1c": {
      "model_module": "@jupyter-widgets/base",
      "model_module_version": "1.0.0",
      "model_name": "LayoutModel",
      "state": {}
     },
     "87abe14a3672452f93e52a92ad582a57": {
      "model_module": "@jupyter-widgets/controls",
      "model_module_version": "1.1.0",
      "model_name": "DescriptionStyleModel",
      "state": {
       "description_width": ""
      }
     },
     "8818dac06ce04b0cb79d2131ef46b0a8": {
      "model_module": "@jupyter-widgets/controls",
      "model_module_version": "1.1.0",
      "model_name": "DescriptionStyleModel",
      "state": {
       "description_width": "initial"
      }
     },
     "889895ec76bf4da084acb4172b0f28fc": {
      "model_module": "@jupyter-widgets/base",
      "model_module_version": "1.0.0",
      "model_name": "LayoutModel",
      "state": {
       "justify_content": "center",
       "overflow_x": "auto",
       "overflow_y": "auto",
       "width": "95%"
      }
     },
     "89126d43db494c23ab5cdc1372372695": {
      "model_module": "@jupyter-widgets/base",
      "model_module_version": "1.0.0",
      "model_name": "LayoutModel",
      "state": {
       "width": "100%"
      }
     },
     "897822a9588b4ab585f13576dac3c861": {
      "model_module": "@jupyter-widgets/base",
      "model_module_version": "1.0.0",
      "model_name": "LayoutModel",
      "state": {}
     },
     "8a0fc57f786f49eab4d316b069faa0d2": {
      "model_module": "@jupyter-widgets/controls",
      "model_module_version": "1.1.0",
      "model_name": "HTMLModel",
      "state": {
       "layout": "IPY_MODEL_0f1e826b21e64bc2b83c9915199d3162",
       "style": "IPY_MODEL_1a286ed280034ac6ac5f69f11199eb0d",
       "value": "<p style=\"text-align:center\"><svg id='XOR in Time' xmlns='http://www.w3.org/2000/svg' image-rendering=\"pixelated\" width=\"400.0px\" height=\"232.72727272727275px\">\n <g >\n  <svg viewBox=\"0 0 550 320\" width=\"400.0px\" height=\"232.72727272727275px\">\n    <defs>\n        <marker id=\"arrow\" markerWidth=\"10\" markerHeight=\"10\" refX=\"9\" refY=\"3\" orient=\"auto\" markerUnits=\"strokeWidth\">\n          <path d=\"M0,0 L0,6 L9,3 z\" fill=\"black\" />\n        </marker>\n    </defs><rect x=\"249.0\" y=\"24\" width=\"52\" height=\"52\" style=\"fill:none;stroke:black;stroke-width:2\"/><image id=\"picture-dashboard-XOR in Time-522106_output_targets_17\" class=\"picture-dashboard-XOR in Time-522106_output_targets\" x=\"250.0\" y=\"25\" height=\"50\" width=\"50\" preserveAspectRatio=\"none\" href=\"data:image/gif;base64,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\"><title>Layer: output (output)\n output range: (0, 1)\n shape = (1,)\n Keras class = Dense\n activation = sigmoid</title></image><text x=\"305.0\" y=\"52.0\" font-family=\"monospace\" font-size=\"12\" text-anchor=\"start\" fill=\"black\" alignment-baseline=\"central\" >targets</text><line x1=\"137.5\" y1=\"80\" x2=\"412.5\" y2=\"80\" stroke=\"green\" stroke-width=\"2\"><title></title></line><rect x=\"249.0\" y=\"84\" width=\"52\" height=\"52\" style=\"fill:none;stroke:black;stroke-width:2\"/><image id=\"picture-dashboard-XOR in Time-522106_output_17\" class=\"picture-dashboard-XOR in Time-522106_output\" x=\"250.0\" y=\"85\" height=\"50\" width=\"50\" preserveAspectRatio=\"none\" href=\"data:image/gif;base64,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\"><title>Layer: output (output)\n output range: (0, 1)\n shape = (1,)\n Keras class = Dense\n activation = sigmoid</title></image><text x=\"305.0\" y=\"112.0\" font-family=\"monospace\" font-size=\"12\" text-anchor=\"start\" fill=\"black\" alignment-baseline=\"central\" >output</text><line x1=\"275.0\" y1=\"164\" x2=\"275.0\" y2=\"137\" stroke=\"black\" stroke-width=\"2\" marker-end=\"url(#arrow)\"><title>Weights from hidden to output\n output_9/kernel:0 has shape (5, 1)\n output_9/bias:0 has shape (1,)</title></line><rect x=\"174.0\" y=\"164\" width=\"202\" height=\"52\" style=\"fill:none;stroke:black;stroke-width:2\"/><image id=\"picture-dashboard-XOR in Time-522106_hidden_18\" class=\"picture-dashboard-XOR in Time-522106_hidden\" x=\"175.0\" y=\"165\" height=\"50\" width=\"200\" preserveAspectRatio=\"none\" href=\"data:image/gif;base64,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\"><title>Layer: hidden (hidden)\n output range: (0, 1)\n shape = (5,)\n Keras class = Dense\n activation = sigmoid</title></image><text x=\"380.0\" y=\"192.0\" font-family=\"monospace\" font-size=\"12\" text-anchor=\"start\" fill=\"black\" alignment-baseline=\"central\" >hidden</text><line x1=\"183.33333333333334\" y1=\"244\" x2=\"275.0\" y2=\"217\" stroke=\"black\" stroke-width=\"2\" marker-end=\"url(#arrow)\"><title>Weights from input to hidden\n hidden_9/kernel:0 has shape (6, 5)\n hidden_9/bias:0 has shape (5,)</title></line><rect x=\"157.33333333333334\" y=\"244\" width=\"52\" height=\"52\" style=\"fill:none;stroke:black;stroke-width:2\"/><image id=\"picture-dashboard-XOR in Time-522106_input_19\" class=\"picture-dashboard-XOR in Time-522106_input\" x=\"158.33333333333334\" y=\"245\" height=\"50\" width=\"50\" preserveAspectRatio=\"none\" href=\"data:image/gif;base64,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\"><title>Layer: input (input)\n output range: (0.0, 1.0)\n shape = (1,)\n Keras class = Input</title></image><text x=\"213.33333333333334\" y=\"272.0\" font-family=\"monospace\" font-size=\"12\" text-anchor=\"start\" fill=\"black\" alignment-baseline=\"central\" >input</text><line x1=\"366.6666666666667\" y1=\"244\" x2=\"275.0\" y2=\"217\" stroke=\"black\" stroke-width=\"2\" marker-end=\"url(#arrow)\"><title>Weights from context to hidden\n hidden_9/kernel:0 has shape (6, 5)\n hidden_9/bias:0 has shape (5,)</title></line><rect x=\"265.6666666666667\" y=\"244\" width=\"202\" height=\"52\" style=\"fill:none;stroke:black;stroke-width:2\"/><image id=\"picture-dashboard-XOR in Time-522106_context_20\" class=\"picture-dashboard-XOR in Time-522106_context\" x=\"266.6666666666667\" y=\"245\" height=\"50\" width=\"200\" preserveAspectRatio=\"none\" href=\"data:image/gif;base64,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\"><title>Layer: context (input)\n output range: (0.12909098, 0.83604074)\n shape = (5,)\n Keras class = Input</title></image><text x=\"471.6666666666667\" y=\"272.0\" font-family=\"monospace\" font-size=\"12\" text-anchor=\"start\" fill=\"black\" alignment-baseline=\"central\" >context</text><text x=\"275.0\" y=\"12.5\" font-family=\"monospace\" font-size=\"15\" text-anchor=\"middle\" fill=\"black\" alignment-baseline=\"central\" >XOR in Time</text></svg></g></svg></p>"
      }
     },
     "8a41c9ff1e0a4ce9a1d3d72138b7f980": {
      "model_module": "@jupyter-widgets/controls",
      "model_module_version": "1.1.0",
      "model_name": "CheckboxModel",
      "state": {
       "description": "Visible",
       "disabled": false,
       "layout": "IPY_MODEL_fc7b3648e0f04817bff1a149c87f3535",
       "style": "IPY_MODEL_61baf549687e4540b2629e273046bbdb",
       "value": true
      }
     },
     "8b63bb88bf884fb5b5b0e739cbb931e5": {
      "model_module": "@jupyter-widgets/controls",
      "model_module_version": "1.1.0",
      "model_name": "DescriptionStyleModel",
      "state": {
       "description_width": "initial"
      }
     },
     "8b9a0e64f6994518b1616d5e7341c209": {
      "model_module": "@jupyter-widgets/controls",
      "model_module_version": "1.1.0",
      "model_name": "DescriptionStyleModel",
      "state": {
       "description_width": ""
      }
     },
     "8bb3790951a54ee0944ec52d1e52991e": {
      "model_module": "@jupyter-widgets/controls",
      "model_module_version": "1.1.0",
      "model_name": "SelectModel",
      "state": {
       "_options_labels": [
        "input",
        "context",
        "hidden",
        "output"
       ],
       "description": "Layer:",
       "index": 3,
       "layout": "IPY_MODEL_13e255e161d441429c284fe4aa7fde2a",
       "rows": 1,
       "style": "IPY_MODEL_0c4ad3ee934b446395cc2155170c4c89"
      }
     },
     "8c10aabf31654a19a778c3e680867d28": {
      "model_module": "@jupyter-widgets/base",
      "model_module_version": "1.0.0",
      "model_name": "LayoutModel",
      "state": {
       "width": "100%"
      }
     },
     "8c338f04c6964e7185dbcd1d694bb496": {
      "model_module": "@jupyter-widgets/controls",
      "model_module_version": "1.1.0",
      "model_name": "ButtonModel",
      "state": {
       "icon": "forward",
       "layout": "IPY_MODEL_000ae400f6e84626b99cb71fcc90c68b",
       "style": "IPY_MODEL_3611b471dd6342e194dfea78e1c20df9"
      }
     },
     "8cc78f2aaef248a88c708634ee6f48fa": {
      "model_module": "@jupyter-widgets/controls",
      "model_module_version": "1.1.0",
      "model_name": "ButtonModel",
      "state": {
       "icon": "fast-backward",
       "layout": "IPY_MODEL_d7e61ab57c1248c8a12770d9a2c1ba8c",
       "style": "IPY_MODEL_afcebf62fa9346a3b7e2e9a730254bf2"
      }
     },
     "8cd35002f8d44c5c9cdb9bbd5c1acd57": {
      "model_module": "@jupyter-widgets/controls",
      "model_module_version": "1.1.0",
      "model_name": "DescriptionStyleModel",
      "state": {
       "description_width": "initial"
      }
     },
     "8cf6e20964a14e35b7ab11afdd488596": {
      "model_module": "@jupyter-widgets/controls",
      "model_module_version": "1.1.0",
      "model_name": "DescriptionStyleModel",
      "state": {
       "description_width": ""
      }
     },
     "8d218b9d682d47ac967b087a51def8a2": {
      "model_module": "@jupyter-widgets/base",
      "model_module_version": "1.0.0",
      "model_name": "LayoutModel",
      "state": {
       "width": "100%"
      }
     },
     "8d9320b25d7d4956aeacae0a2dfe39b6": {
      "model_module": "@jupyter-widgets/controls",
      "model_module_version": "1.1.0",
      "model_name": "DescriptionStyleModel",
      "state": {
       "description_width": ""
      }
     },
     "8d9bb086c3194df1afceff7b30f0d760": {
      "model_module": "@jupyter-widgets/controls",
      "model_module_version": "1.1.0",
      "model_name": "LabelModel",
      "state": {
       "layout": "IPY_MODEL_a7d3cd315296477084920f05623e02dd",
       "style": "IPY_MODEL_06bacaf054fd4d4ea42ec4347af47a0b",
       "value": "of 3"
      }
     },
     "8dd72322a0e84efdab6af85853996df7": {
      "model_module": "@jupyter-widgets/base",
      "model_module_version": "1.0.0",
      "model_name": "LayoutModel",
      "state": {
       "width": "100%"
      }
     },
     "8dda8c020fbf4bdf9409d5590803b5fd": {
      "model_module": "@jupyter-widgets/controls",
      "model_module_version": "1.1.0",
      "model_name": "DescriptionStyleModel",
      "state": {
       "description_width": "initial"
      }
     },
     "8e9008839fd343809c8d9447da13c042": {
      "model_module": "@jupyter-widgets/controls",
      "model_module_version": "1.1.0",
      "model_name": "DescriptionStyleModel",
      "state": {
       "description_width": ""
      }
     },
     "8ebc048c9a6b48489d9f6b9a34ec98b8": {
      "model_module": "@jupyter-widgets/base",
      "model_module_version": "1.0.0",
      "model_name": "LayoutModel",
      "state": {}
     },
     "8f1cdefbf9e348b290bf95c3c64ae361": {
      "model_module": "@jupyter-widgets/controls",
      "model_module_version": "1.1.0",
      "model_name": "CheckboxModel",
      "state": {
       "description": "Rotate",
       "disabled": false,
       "layout": "IPY_MODEL_535cf873776249788f2cdf7731497364",
       "style": "IPY_MODEL_568a6668fb1c4378a88830bcad8f542e",
       "value": true
      }
     },
     "8f257220721e42aca88f1f9e6eb3a18d": {
      "model_module": "@jupyter-widgets/controls",
      "model_module_version": "1.1.0",
      "model_name": "SelectModel",
      "state": {
       "_options_labels": [
        "input",
        "context",
        "hidden",
        "output"
       ],
       "description": "Layer:",
       "index": 3,
       "layout": "IPY_MODEL_72b4b5483efc4b4b8b98aa4a5f06ea35",
       "rows": 1,
       "style": "IPY_MODEL_e62b93fd1f53464d9888921b233556ab"
      }
     },
     "8fba74a0d58948b5a8dbd5da8c60a385": {
      "model_module": "@jupyter-widgets/base",
      "model_module_version": "1.0.0",
      "model_name": "LayoutModel",
      "state": {}
     },
     "907697b0be414e538201113c780c3f2e": {
      "model_module": "@jupyter-widgets/controls",
      "model_module_version": "1.1.0",
      "model_name": "AccordionModel",
      "state": {
       "_titles": {
        "0": "XOR in Time"
       },
       "children": [
        "IPY_MODEL_02de36d50d924ff885b90eb83a409506"
       ],
       "layout": "IPY_MODEL_af1f463cbbb9413eae14db7d87a02da1",
       "selected_index": null
      }
     },
     "9260b17403fc4b9bba2a8cb572512a5d": {
      "model_module": "@jupyter-widgets/base",
      "model_module_version": "1.0.0",
      "model_name": "LayoutModel",
      "state": {
       "justify_content": "center",
       "overflow_x": "auto",
       "overflow_y": "auto",
       "width": "95%"
      }
     },
     "92dd441523874ad6bf1a36cb77cf5e69": {
      "model_module": "@jupyter-widgets/controls",
      "model_module_version": "1.1.0",
      "model_name": "VBoxModel",
      "state": {
       "children": [
        "IPY_MODEL_3fd4ed5e1cbf4bc89377dbee5d94eab9",
        "IPY_MODEL_ecc37e3721344bbeab3435389bb9fb07"
       ],
       "layout": "IPY_MODEL_3068e064202b4b14ad8d09e3220c5d5a"
      }
     },
     "934c75b2fa8849678ba56aecf4bce144": {
      "model_module": "@jupyter-widgets/controls",
      "model_module_version": "1.1.0",
      "model_name": "DescriptionStyleModel",
      "state": {
       "description_width": "initial"
      }
     },
     "936b29da81864f21b1e5b5ee1f074f9f": {
      "model_module": "@jupyter-widgets/controls",
      "model_module_version": "1.1.0",
      "model_name": "ButtonModel",
      "state": {
       "icon": "refresh",
       "layout": "IPY_MODEL_e2d7322f055f474892ce524f2bc0683e",
       "style": "IPY_MODEL_cbee14f7cf484f9880cc8f61cd0726ee"
      }
     },
     "9385f24ceb1c437887d4cd84bed69852": {
      "model_module": "@jupyter-widgets/controls",
      "model_module_version": "1.1.0",
      "model_name": "IntTextModel",
      "state": {
       "description": "Vertical space between layers:",
       "layout": "IPY_MODEL_535cf873776249788f2cdf7731497364",
       "step": 1,
       "style": "IPY_MODEL_d2d0cf7be6024463a1dc5d3a15b15850",
       "value": 30
      }
     },
     "94103f912b3847e5bb81f9cf312b4153": {
      "model_module": "@jupyter-widgets/base",
      "model_module_version": "1.0.0",
      "model_name": "LayoutModel",
      "state": {}
     },
     "94635dde40ef45fc80fb79d636c68b85": {
      "model_module": "@jupyter-widgets/base",
      "model_module_version": "1.0.0",
      "model_name": "LayoutModel",
      "state": {}
     },
     "95895dc8291c48238b0a949afd3cc718": {
      "model_module": "@jupyter-widgets/controls",
      "model_module_version": "1.1.0",
      "model_name": "HBoxModel",
      "state": {
       "children": [
        "IPY_MODEL_1a46eb7976244f8facb5b3943cf1bdc8",
        "IPY_MODEL_0139fdeb088a4675acd538031f26e9f0"
       ],
       "layout": "IPY_MODEL_1c3dbe62a7bc4246bce5a94f7984bdb7"
      }
     },
     "95ba85a6827c48f99122aca505b714ec": {
      "model_module": "@jupyter-widgets/controls",
      "model_module_version": "1.1.0",
      "model_name": "SelectModel",
      "state": {
       "_options_labels": [
        ""
       ],
       "description": "Features:",
       "index": 0,
       "layout": "IPY_MODEL_3b41bfe253374bdb98770ce41c253f2a",
       "rows": 1,
       "style": "IPY_MODEL_72a3d52198e3474894db0078fb6674a7"
      }
     },
     "95c23dc38311411298ff89b689741d7c": {
      "model_module": "@jupyter-widgets/controls",
      "model_module_version": "1.1.0",
      "model_name": "HBoxModel",
      "state": {
       "children": [
        "IPY_MODEL_96c683a4c1684fa18f78a44917c6cf63",
        "IPY_MODEL_ae7ad55a53c04a178fea3f2bdb27c9fa"
       ],
       "layout": "IPY_MODEL_a2403e67f51c4e2fb222ad0660297ecf"
      }
     },
     "95c9792d591348b998e219cac2913404": {
      "model_module": "@jupyter-widgets/controls",
      "model_module_version": "1.1.0",
      "model_name": "ButtonModel",
      "state": {
       "description": "Play",
       "icon": "play",
       "layout": "IPY_MODEL_4063190f7557417eb4b9d259b101532c",
       "style": "IPY_MODEL_4e6eb0d64d544bbf93db9c9ac521a6d0"
      }
     },
     "9640f71b905b422baf92bb0d4df3c73e": {
      "model_module": "@jupyter-widgets/controls",
      "model_module_version": "1.1.0",
      "model_name": "HBoxModel",
      "state": {
       "children": [
        "IPY_MODEL_a05dec8b831945d8bf8ac10a3e60425b",
        "IPY_MODEL_225c5afa049c40e9ac8a51d2b2ebe5f0",
        "IPY_MODEL_6577a78772a149bdac3ef8155d8a52be",
        "IPY_MODEL_f9367e622b354fc085bd73f8679131e5",
        "IPY_MODEL_17ff7b21eaec46b4be9978e76c613d12",
        "IPY_MODEL_2cb6dd0779fe4f1e8acc4333886849b8",
        "IPY_MODEL_936b29da81864f21b1e5b5ee1f074f9f"
       ],
       "layout": "IPY_MODEL_7af74e61f8ca496ebbcdc7f489ea5037"
      }
     },
     "96470094b6d34b4cb2610cbf86e871a6": {
      "model_module": "@jupyter-widgets/controls",
      "model_module_version": "1.1.0",
      "model_name": "VBoxModel",
      "state": {
       "children": [
        "IPY_MODEL_bb35606c4ec5483a81cfc0151f63b4f9",
        "IPY_MODEL_40133b6875044a3d8acaf09a93595382",
        "IPY_MODEL_6544afb0a13e446bbac48b1307351a3b",
        "IPY_MODEL_abc2084f961d4e9590cc540285d66fa0",
        "IPY_MODEL_b4fdef521c214e3b813f2cc850546084",
        "IPY_MODEL_f6224fb3a9a94a0c9358cd84cfbb1f20",
        "IPY_MODEL_b67dd5e829264c5a8fbdc3f34d1a800d",
        "IPY_MODEL_b3bec636e767437ba5fbfebd30838b8f"
       ],
       "layout": "IPY_MODEL_d85451b9566f4767a554d6c9b84046e2"
      }
     },
     "966d7636b0e643ae8e67689aab38772c": {
      "model_module": "@jupyter-widgets/base",
      "model_module_version": "1.0.0",
      "model_name": "LayoutModel",
      "state": {}
     },
     "9674aa2a608b4bb492580b01a4cd953e": {
      "model_module": "@jupyter-widgets/base",
      "model_module_version": "1.0.0",
      "model_name": "LayoutModel",
      "state": {
       "width": "65%"
      }
     },
     "96c683a4c1684fa18f78a44917c6cf63": {
      "model_module": "@jupyter-widgets/controls",
      "model_module_version": "1.1.0",
      "model_name": "IntSliderModel",
      "state": {
       "continuous_update": false,
       "description": "Dataset index",
       "layout": "IPY_MODEL_811ffb443bc1494382d50c3e64d34ac6",
       "max": 2,
       "style": "IPY_MODEL_cc70412ddcb447e3b34421dfa89e5a1d"
      }
     },
     "979128cf2b0547e4bd2dfd76fa1311b0": {
      "model_module": "@jupyter-widgets/controls",
      "model_module_version": "1.1.0",
      "model_name": "SelectModel",
      "state": {
       "_options_labels": [
        "",
        "Accent",
        "Accent_r",
        "Blues",
        "Blues_r",
        "BrBG",
        "BrBG_r",
        "BuGn",
        "BuGn_r",
        "BuPu",
        "BuPu_r",
        "CMRmap",
        "CMRmap_r",
        "Dark2",
        "Dark2_r",
        "GnBu",
        "GnBu_r",
        "Greens",
        "Greens_r",
        "Greys",
        "Greys_r",
        "OrRd",
        "OrRd_r",
        "Oranges",
        "Oranges_r",
        "PRGn",
        "PRGn_r",
        "Paired",
        "Paired_r",
        "Pastel1",
        "Pastel1_r",
        "Pastel2",
        "Pastel2_r",
        "PiYG",
        "PiYG_r",
        "PuBu",
        "PuBuGn",
        "PuBuGn_r",
        "PuBu_r",
        "PuOr",
        "PuOr_r",
        "PuRd",
        "PuRd_r",
        "Purples",
        "Purples_r",
        "RdBu",
        "RdBu_r",
        "RdGy",
        "RdGy_r",
        "RdPu",
        "RdPu_r",
        "RdYlBu",
        "RdYlBu_r",
        "RdYlGn",
        "RdYlGn_r",
        "Reds",
        "Reds_r",
        "Set1",
        "Set1_r",
        "Set2",
        "Set2_r",
        "Set3",
        "Set3_r",
        "Spectral",
        "Spectral_r",
        "Vega10",
        "Vega10_r",
        "Vega20",
        "Vega20_r",
        "Vega20b",
        "Vega20b_r",
        "Vega20c",
        "Vega20c_r",
        "Wistia",
        "Wistia_r",
        "YlGn",
        "YlGnBu",
        "YlGnBu_r",
        "YlGn_r",
        "YlOrBr",
        "YlOrBr_r",
        "YlOrRd",
        "YlOrRd_r",
        "afmhot",
        "afmhot_r",
        "autumn",
        "autumn_r",
        "binary",
        "binary_r",
        "bone",
        "bone_r",
        "brg",
        "brg_r",
        "bwr",
        "bwr_r",
        "cool",
        "cool_r",
        "coolwarm",
        "coolwarm_r",
        "copper",
        "copper_r",
        "cubehelix",
        "cubehelix_r",
        "flag",
        "flag_r",
        "gist_earth",
        "gist_earth_r",
        "gist_gray",
        "gist_gray_r",
        "gist_heat",
        "gist_heat_r",
        "gist_ncar",
        "gist_ncar_r",
        "gist_rainbow",
        "gist_rainbow_r",
        "gist_stern",
        "gist_stern_r",
        "gist_yarg",
        "gist_yarg_r",
        "gnuplot",
        "gnuplot2",
        "gnuplot2_r",
        "gnuplot_r",
        "gray",
        "gray_r",
        "hot",
        "hot_r",
        "hsv",
        "hsv_r",
        "inferno",
        "inferno_r",
        "jet",
        "jet_r",
        "magma",
        "magma_r",
        "nipy_spectral",
        "nipy_spectral_r",
        "ocean",
        "ocean_r",
        "pink",
        "pink_r",
        "plasma",
        "plasma_r",
        "prism",
        "prism_r",
        "rainbow",
        "rainbow_r",
        "seismic",
        "seismic_r",
        "spectral",
        "spectral_r",
        "spring",
        "spring_r",
        "summer",
        "summer_r",
        "tab10",
        "tab10_r",
        "tab20",
        "tab20_r",
        "tab20b",
        "tab20b_r",
        "tab20c",
        "tab20c_r",
        "terrain",
        "terrain_r",
        "viridis",
        "viridis_r",
        "winter",
        "winter_r"
       ],
       "description": "Colormap:",
       "index": 0,
       "layout": "IPY_MODEL_d0efc5b93d1b427d991025764c7c76c5",
       "rows": 1,
       "style": "IPY_MODEL_9f01ef2b9c73414aa8264c61caf6c1a8"
      }
     },
     "97eaf291a3ef4544b7a006d8cfef9f37": {
      "model_module": "@jupyter-widgets/controls",
      "model_module_version": "1.1.0",
      "model_name": "ButtonModel",
      "state": {
       "icon": "save",
       "layout": "IPY_MODEL_05c373a1cd594f3991de039560e34af1",
       "style": "IPY_MODEL_bac8e6b808a34ec583717e12a78fc42f"
      }
     },
     "988dd67736094ac7b757214b84852ba8": {
      "model_module": "@jupyter-widgets/controls",
      "model_module_version": "1.1.0",
      "model_name": "SelectModel",
      "state": {
       "_options_labels": [
        "Test",
        "Train"
       ],
       "description": "Dataset:",
       "index": 1,
       "layout": "IPY_MODEL_8fba74a0d58948b5a8dbd5da8c60a385",
       "rows": 1,
       "style": "IPY_MODEL_60bd1a65b7da4d8cab934954c5661814"
      }
     },
     "98bd853343fb4ce99b7728cba76c42c3": {
      "model_module": "@jupyter-widgets/controls",
      "model_module_version": "1.1.0",
      "model_name": "VBoxModel",
      "state": {
       "children": [
        "IPY_MODEL_6d4696f37e714a4281398895b8ef42ed",
        "IPY_MODEL_9df9317194874a04b0d4ffe5163d855f",
        "IPY_MODEL_9c4a0a90da9b436a819bea60e6a35c9b",
        "IPY_MODEL_eb98ee4e828b4d79bca75b17764d9be1",
        "IPY_MODEL_b7e33ac2abd442c9b61ec1d8bfca0a68",
        "IPY_MODEL_9dab08396be54eba9f3c8e5b9fa89081",
        "IPY_MODEL_fd8a4f7748e746068a9b6f4dad4a3f65",
        "IPY_MODEL_7d7619056d624c7d8a5d7c6971ad3d7b"
       ],
       "layout": "IPY_MODEL_d9eb37dd54954e218f11eec8cbb9daaa"
      }
     },
     "99a96338f83a4fcf91650b836343efb6": {
      "model_module": "@jupyter-widgets/controls",
      "model_module_version": "1.1.0",
      "model_name": "ButtonStyleModel",
      "state": {}
     },
     "99eef3c2104241b9943761ec8a692971": {
      "model_module": "@jupyter-widgets/base",
      "model_module_version": "1.0.0",
      "model_name": "LayoutModel",
      "state": {
       "width": "52%"
      }
     },
     "9a2644a250c44c99a04e8ee25d482a74": {
      "model_module": "@jupyter-widgets/controls",
      "model_module_version": "1.1.0",
      "model_name": "HBoxModel",
      "state": {
       "children": [
        "IPY_MODEL_b62c11579a4a43218a6d123fa50f7afc",
        "IPY_MODEL_98bd853343fb4ce99b7728cba76c42c3"
       ],
       "layout": "IPY_MODEL_695296d5c0c64cd18586d7648aefebd0"
      }
     },
     "9b2321c56bcd4981b66a1c9f4eab86bb": {
      "model_module": "@jupyter-widgets/controls",
      "model_module_version": "1.1.0",
      "model_name": "IntTextModel",
      "state": {
       "description": "Feature columns:",
       "layout": "IPY_MODEL_d6d1ea051acc46e0acb8215b6660d1f5",
       "step": 1,
       "style": "IPY_MODEL_0d21997b3a08420abf2bd675ecc8ad80",
       "value": 3
      }
     },
     "9b37ceea3d644a34b829474e3f2120cc": {
      "model_module": "@jupyter-widgets/controls",
      "model_module_version": "1.1.0",
      "model_name": "ButtonStyleModel",
      "state": {}
     },
     "9b6687dd543b4b8aa1accf61caa223be": {
      "model_module": "@jupyter-widgets/controls",
      "model_module_version": "1.1.0",
      "model_name": "ButtonModel",
      "state": {
       "icon": "backward",
       "layout": "IPY_MODEL_da09df85b9ae4aed9f13c69bc9f19355",
       "style": "IPY_MODEL_ff2e47e0274b45a58aaaf1bc201342c5"
      }
     },
     "9b8ae814b2ff4354911478afdc0392d2": {
      "model_module": "@jupyter-widgets/controls",
      "model_module_version": "1.1.0",
      "model_name": "IntTextModel",
      "state": {
       "description": "Feature to show:",
       "layout": "IPY_MODEL_2e7fb86d774b4cd683691201ef626e66",
       "step": 1,
       "style": "IPY_MODEL_fac53ea7199d46b58328e7f99a0e7c51"
      }
     },
     "9ba5e79de345420bb79544feefa8fddb": {
      "model_module": "@jupyter-widgets/controls",
      "model_module_version": "1.1.0",
      "model_name": "ButtonModel",
      "state": {
       "icon": "backward",
       "layout": "IPY_MODEL_5e8f4100317c4ca18084113fa45f5ed1",
       "style": "IPY_MODEL_9b37ceea3d644a34b829474e3f2120cc"
      }
     },
     "9bc6e336bb584fb3be61c4425b7b50e1": {
      "model_module": "@jupyter-widgets/controls",
      "model_module_version": "1.1.0",
      "model_name": "SelectModel",
      "state": {
       "_options_labels": [
        ""
       ],
       "description": "Features:",
       "index": 0,
       "layout": "IPY_MODEL_b6a08833a8c14090ad490e39c5715e07",
       "rows": 1,
       "style": "IPY_MODEL_b8d663d1a3a548389ca1ee654a13abc0"
      }
     },
     "9bfed1c34b84492ea3e019e7d8712206": {
      "model_module": "@jupyter-widgets/controls",
      "model_module_version": "1.1.0",
      "model_name": "AccordionModel",
      "state": {
       "_titles": {
        "0": "XOR in Time"
       },
       "children": [
        "IPY_MODEL_77556d0c984b4d1ba37c3db5561242cd"
       ],
       "layout": "IPY_MODEL_bf882fa2b76445e7a9a0adf0cf2cfed3",
       "selected_index": null
      }
     },
     "9c4a0a90da9b436a819bea60e6a35c9b": {
      "model_module": "@jupyter-widgets/controls",
      "model_module_version": "1.1.0",
      "model_name": "SelectModel",
      "state": {
       "_options_labels": [
        "",
        "Accent",
        "Accent_r",
        "Blues",
        "Blues_r",
        "BrBG",
        "BrBG_r",
        "BuGn",
        "BuGn_r",
        "BuPu",
        "BuPu_r",
        "CMRmap",
        "CMRmap_r",
        "Dark2",
        "Dark2_r",
        "GnBu",
        "GnBu_r",
        "Greens",
        "Greens_r",
        "Greys",
        "Greys_r",
        "OrRd",
        "OrRd_r",
        "Oranges",
        "Oranges_r",
        "PRGn",
        "PRGn_r",
        "Paired",
        "Paired_r",
        "Pastel1",
        "Pastel1_r",
        "Pastel2",
        "Pastel2_r",
        "PiYG",
        "PiYG_r",
        "PuBu",
        "PuBuGn",
        "PuBuGn_r",
        "PuBu_r",
        "PuOr",
        "PuOr_r",
        "PuRd",
        "PuRd_r",
        "Purples",
        "Purples_r",
        "RdBu",
        "RdBu_r",
        "RdGy",
        "RdGy_r",
        "RdPu",
        "RdPu_r",
        "RdYlBu",
        "RdYlBu_r",
        "RdYlGn",
        "RdYlGn_r",
        "Reds",
        "Reds_r",
        "Set1",
        "Set1_r",
        "Set2",
        "Set2_r",
        "Set3",
        "Set3_r",
        "Spectral",
        "Spectral_r",
        "Vega10",
        "Vega10_r",
        "Vega20",
        "Vega20_r",
        "Vega20b",
        "Vega20b_r",
        "Vega20c",
        "Vega20c_r",
        "Wistia",
        "Wistia_r",
        "YlGn",
        "YlGnBu",
        "YlGnBu_r",
        "YlGn_r",
        "YlOrBr",
        "YlOrBr_r",
        "YlOrRd",
        "YlOrRd_r",
        "afmhot",
        "afmhot_r",
        "autumn",
        "autumn_r",
        "binary",
        "binary_r",
        "bone",
        "bone_r",
        "brg",
        "brg_r",
        "bwr",
        "bwr_r",
        "cool",
        "cool_r",
        "coolwarm",
        "coolwarm_r",
        "copper",
        "copper_r",
        "cubehelix",
        "cubehelix_r",
        "flag",
        "flag_r",
        "gist_earth",
        "gist_earth_r",
        "gist_gray",
        "gist_gray_r",
        "gist_heat",
        "gist_heat_r",
        "gist_ncar",
        "gist_ncar_r",
        "gist_rainbow",
        "gist_rainbow_r",
        "gist_stern",
        "gist_stern_r",
        "gist_yarg",
        "gist_yarg_r",
        "gnuplot",
        "gnuplot2",
        "gnuplot2_r",
        "gnuplot_r",
        "gray",
        "gray_r",
        "hot",
        "hot_r",
        "hsv",
        "hsv_r",
        "inferno",
        "inferno_r",
        "jet",
        "jet_r",
        "magma",
        "magma_r",
        "nipy_spectral",
        "nipy_spectral_r",
        "ocean",
        "ocean_r",
        "pink",
        "pink_r",
        "plasma",
        "plasma_r",
        "prism",
        "prism_r",
        "rainbow",
        "rainbow_r",
        "seismic",
        "seismic_r",
        "spectral",
        "spectral_r",
        "spring",
        "spring_r",
        "summer",
        "summer_r",
        "tab10",
        "tab10_r",
        "tab20",
        "tab20_r",
        "tab20b",
        "tab20b_r",
        "tab20c",
        "tab20c_r",
        "terrain",
        "terrain_r",
        "viridis",
        "viridis_r",
        "winter",
        "winter_r"
       ],
       "description": "Colormap:",
       "index": 0,
       "layout": "IPY_MODEL_4ce4e5a3e9f1434ea001172d2a6293aa",
       "rows": 1,
       "style": "IPY_MODEL_cbec2d841e644f25bc84bdc95696abf2"
      }
     },
     "9c6a1df810fc4da3a54ec0c81c2c779b": {
      "model_module": "@jupyter-widgets/controls",
      "model_module_version": "1.1.0",
      "model_name": "DescriptionStyleModel",
      "state": {
       "description_width": "initial"
      }
     },
     "9c9b9d51346f4dacbd47636b87f773a0": {
      "model_module": "@jupyter-widgets/controls",
      "model_module_version": "1.1.0",
      "model_name": "ButtonModel",
      "state": {
       "icon": "backward",
       "layout": "IPY_MODEL_89126d43db494c23ab5cdc1372372695",
       "style": "IPY_MODEL_e177c8d2ff954dfbbea5685636fc0d22"
      }
     },
     "9cdb43ab3536417ba56794192fc5813a": {
      "model_module": "@jupyter-widgets/controls",
      "model_module_version": "1.1.0",
      "model_name": "ButtonModel",
      "state": {
       "icon": "save",
       "layout": "IPY_MODEL_e14fa5de21da44008dbfb6e28b989fd7",
       "style": "IPY_MODEL_81f8b66d9a8443bea9c384051a0ddd96"
      }
     },
     "9d0ba226140c4f3396ebdc0412248734": {
      "model_module": "@jupyter-widgets/controls",
      "model_module_version": "1.1.0",
      "model_name": "ButtonModel",
      "state": {
       "icon": "refresh",
       "layout": "IPY_MODEL_3862d39cac174638afe0132009cbf726",
       "style": "IPY_MODEL_fdcb099ddb6644369bbb755655cb8724"
      }
     },
     "9d1b54189cb04fdda6f0c817bd3cf952": {
      "model_module": "@jupyter-widgets/controls",
      "model_module_version": "1.1.0",
      "model_name": "DescriptionStyleModel",
      "state": {
       "description_width": "initial"
      }
     },
     "9dab08396be54eba9f3c8e5b9fa89081": {
      "model_module": "@jupyter-widgets/controls",
      "model_module_version": "1.1.0",
      "model_name": "FloatTextModel",
      "state": {
       "description": "Rightmost color maps to:",
       "layout": "IPY_MODEL_b98048edbd2443a183255d944d1f05d9",
       "step": null,
       "style": "IPY_MODEL_ba71f3b688e747dab6f0823f2b7a11e1",
       "value": 1
      }
     },
     "9df9317194874a04b0d4ffe5163d855f": {
      "model_module": "@jupyter-widgets/controls",
      "model_module_version": "1.1.0",
      "model_name": "CheckboxModel",
      "state": {
       "description": "Visible",
       "disabled": false,
       "layout": "IPY_MODEL_4ce4e5a3e9f1434ea001172d2a6293aa",
       "style": "IPY_MODEL_0620b71dc76b489894e0b8b6dcfc1ac4",
       "value": true
      }
     },
     "9dfa29d4f73d478bad8190f6d113fa6b": {
      "model_module": "@jupyter-widgets/controls",
      "model_module_version": "1.1.0",
      "model_name": "FloatTextModel",
      "state": {
       "description": "Feature scale:",
       "layout": "IPY_MODEL_7069c765aaf44c229cc4e342f8d4425a",
       "step": null,
       "style": "IPY_MODEL_3146700cd7074e7fad1c79ba188fe026",
       "value": 1
      }
     },
     "9f0058d6ff634edfa50af682fb86dc68": {
      "model_module": "@jupyter-widgets/base",
      "model_module_version": "1.0.0",
      "model_name": "LayoutModel",
      "state": {
       "width": "100px"
      }
     },
     "9f01ef2b9c73414aa8264c61caf6c1a8": {
      "model_module": "@jupyter-widgets/controls",
      "model_module_version": "1.1.0",
      "model_name": "DescriptionStyleModel",
      "state": {
       "description_width": ""
      }
     },
     "9faad90fc283445ab7c27b27fae7c289": {
      "model_module": "@jupyter-widgets/controls",
      "model_module_version": "1.1.0",
      "model_name": "ButtonStyleModel",
      "state": {}
     },
     "9fb1bf48e0aa4e3a9840b73c99032c17": {
      "model_module": "@jupyter-widgets/base",
      "model_module_version": "1.0.0",
      "model_name": "LayoutModel",
      "state": {
       "width": "52%"
      }
     },
     "a00a2204eaf54654949b68a59fb0f8cf": {
      "model_module": "@jupyter-widgets/base",
      "model_module_version": "1.0.0",
      "model_name": "LayoutModel",
      "state": {
       "width": "100%"
      }
     },
     "a0195d9e1a784ba0afda89addb9f5002": {
      "model_module": "@jupyter-widgets/controls",
      "model_module_version": "1.1.0",
      "model_name": "LabelModel",
      "state": {
       "layout": "IPY_MODEL_26ab81c47d594a9297e214c1a9e48dca",
       "style": "IPY_MODEL_53e8d9beeeb943bfa259964a2e5ea9a2",
       "value": "of 3"
      }
     },
     "a041396094a746d4bbe1e8531ac5698d": {
      "model_module": "@jupyter-widgets/controls",
      "model_module_version": "1.1.0",
      "model_name": "ButtonModel",
      "state": {
       "icon": "refresh",
       "layout": "IPY_MODEL_74d7acada895466db593ee5f461b7003",
       "style": "IPY_MODEL_c90032810e5e4c89af3bdbf323532bdd"
      }
     },
     "a05dec8b831945d8bf8ac10a3e60425b": {
      "model_module": "@jupyter-widgets/controls",
      "model_module_version": "1.1.0",
      "model_name": "ButtonModel",
      "state": {
       "icon": "fast-backward",
       "layout": "IPY_MODEL_58caaa62978343f9b664c93eefcc6cbd",
       "style": "IPY_MODEL_470ba3a8a98e417786a4e7eecae3d604"
      }
     },
     "a0ba3e93a7704f659f193eac206a3449": {
      "model_module": "@jupyter-widgets/controls",
      "model_module_version": "1.1.0",
      "model_name": "DescriptionStyleModel",
      "state": {
       "description_width": ""
      }
     },
     "a1304cb0bfc4475e84bc660ae01c636c": {
      "model_module": "@jupyter-widgets/controls",
      "model_module_version": "1.1.0",
      "model_name": "DescriptionStyleModel",
      "state": {
       "description_width": "initial"
      }
     },
     "a1698bff0e0c4265b4836caf100bd255": {
      "model_module": "@jupyter-widgets/base",
      "model_module_version": "1.0.0",
      "model_name": "LayoutModel",
      "state": {
       "height": "40px"
      }
     },
     "a2403e67f51c4e2fb222ad0660297ecf": {
      "model_module": "@jupyter-widgets/base",
      "model_module_version": "1.0.0",
      "model_name": "LayoutModel",
      "state": {
       "height": "40px"
      }
     },
     "a267b9651ee64a73b3880b5afe173db6": {
      "model_module": "@jupyter-widgets/base",
      "model_module_version": "1.0.0",
      "model_name": "LayoutModel",
      "state": {
       "width": "100px"
      }
     },
     "a2daebcbc16548c28c1eb7b883af3dec": {
      "model_module": "@jupyter-widgets/controls",
      "model_module_version": "1.1.0",
      "model_name": "CheckboxModel",
      "state": {
       "description": "Visible",
       "disabled": false,
       "layout": "IPY_MODEL_897822a9588b4ab585f13576dac3c861",
       "style": "IPY_MODEL_b931c05eee6f4eac8b95b2bd5efce3db",
       "value": true
      }
     },
     "a305c976ea124f7ebc0151068971d1f6": {
      "model_module": "@jupyter-widgets/base",
      "model_module_version": "1.0.0",
      "model_name": "LayoutModel",
      "state": {}
     },
     "a4aba87fd7f14c4099648d82f9cead3c": {
      "model_module": "@jupyter-widgets/controls",
      "model_module_version": "1.1.0",
      "model_name": "SelectModel",
      "state": {
       "_options_labels": [
        "input",
        "context",
        "hidden",
        "output"
       ],
       "description": "Layer:",
       "index": 3,
       "layout": "IPY_MODEL_2bf28e8e5a944fa0a125faf5ba79fc02",
       "rows": 1,
       "style": "IPY_MODEL_634c55cf04bd497f9979fdb1bf4def7d"
      }
     },
     "a5bd5bce11024d07946cc5c3a400737e": {
      "model_module": "@jupyter-widgets/controls",
      "model_module_version": "1.1.0",
      "model_name": "SliderStyleModel",
      "state": {
       "description_width": ""
      }
     },
     "a5cf9d340e084ecdac8d8b64faf6cda9": {
      "model_module": "@jupyter-widgets/controls",
      "model_module_version": "1.1.0",
      "model_name": "DescriptionStyleModel",
      "state": {
       "description_width": ""
      }
     },
     "a6742b46d016410ca6738b37b1143d68": {
      "model_module": "@jupyter-widgets/base",
      "model_module_version": "1.0.0",
      "model_name": "LayoutModel",
      "state": {
       "width": "100%"
      }
     },
     "a7d3cd315296477084920f05623e02dd": {
      "model_module": "@jupyter-widgets/base",
      "model_module_version": "1.0.0",
      "model_name": "LayoutModel",
      "state": {
       "width": "100px"
      }
     },
     "a7e9ba7f3d6c4e268e4a433ebfc2ba17": {
      "model_module": "@jupyter-widgets/controls",
      "model_module_version": "1.1.0",
      "model_name": "DescriptionStyleModel",
      "state": {
       "description_width": "initial"
      }
     },
     "a8136ec00f0440d1a6fae097b65c6e25": {
      "model_module": "@jupyter-widgets/base",
      "model_module_version": "1.0.0",
      "model_name": "LayoutModel",
      "state": {}
     },
     "a838ff3b79514e98836b713f8b5aaf22": {
      "model_module": "@jupyter-widgets/base",
      "model_module_version": "1.0.0",
      "model_name": "LayoutModel",
      "state": {}
     },
     "a937d6d84e854d959e5fcb6c2033dbf1": {
      "model_module": "@jupyter-widgets/controls",
      "model_module_version": "1.1.0",
      "model_name": "IntTextModel",
      "state": {
       "description": "Feature to show:",
       "layout": "IPY_MODEL_01440bfe36704c7b8be1e9d73c7029d1",
       "step": 1,
       "style": "IPY_MODEL_eac81318d3e74e48823498d50c1614dd"
      }
     },
     "aa138fbe02274700bbb55bcd0c7ee109": {
      "model_module": "@jupyter-widgets/controls",
      "model_module_version": "1.1.0",
      "model_name": "VBoxModel",
      "state": {
       "children": [
        "IPY_MODEL_7a36e560c62e42f4a6c0810ebf4c732e",
        "IPY_MODEL_d8ecc3e763d04b65930dbb18c39618bd",
        "IPY_MODEL_979128cf2b0547e4bd2dfd76fa1311b0",
        "IPY_MODEL_23b4baf4c74f407abf563058b7251ac1",
        "IPY_MODEL_48cd7018069243e1b11a423b8409a7c1",
        "IPY_MODEL_28fccf3d30694acf87144ec4703b37ae",
        "IPY_MODEL_ee5f632630254d90a1d73d05159f1f84",
        "IPY_MODEL_e7a5e7d1c874467a99b5c3dbf705dc3c"
       ],
       "layout": "IPY_MODEL_b80eface91b240d49b6452b455ebd981"
      }
     },
     "aa646f1cc9884a538479e4e1bdced926": {
      "model_module": "@jupyter-widgets/controls",
      "model_module_version": "1.1.0",
      "model_name": "DescriptionStyleModel",
      "state": {
       "description_width": "initial"
      }
     },
     "aa984dc3bb2344e793d2d94b8f694b51": {
      "model_module": "@jupyter-widgets/controls",
      "model_module_version": "1.1.0",
      "model_name": "DescriptionStyleModel",
      "state": {
       "description_width": ""
      }
     },
     "aac783e211eb4cc5abfceb3d23510e02": {
      "model_module": "@jupyter-widgets/controls",
      "model_module_version": "1.1.0",
      "model_name": "DescriptionStyleModel",
      "state": {
       "description_width": "initial"
      }
     },
     "aadf578e7f6d496a85625310abef97cd": {
      "model_module": "@jupyter-widgets/controls",
      "model_module_version": "1.1.0",
      "model_name": "CheckboxModel",
      "state": {
       "description": "Rotate",
       "disabled": false,
       "layout": "IPY_MODEL_897822a9588b4ab585f13576dac3c861",
       "style": "IPY_MODEL_d3c7093bc4a84e34b137805e6c9838a3",
       "value": true
      }
     },
     "ab8c4728657e433a9b8d947b53c3aa1e": {
      "model_module": "@jupyter-widgets/controls",
      "model_module_version": "1.1.0",
      "model_name": "CheckboxModel",
      "state": {
       "description": "Show Targets",
       "disabled": false,
       "layout": "IPY_MODEL_897822a9588b4ab585f13576dac3c861",
       "style": "IPY_MODEL_aac783e211eb4cc5abfceb3d23510e02",
       "value": false
      }
     },
     "abc2084f961d4e9590cc540285d66fa0": {
      "model_module": "@jupyter-widgets/controls",
      "model_module_version": "1.1.0",
      "model_name": "IntTextModel",
      "state": {
       "description": "Vertical space between layers:",
       "layout": "IPY_MODEL_897822a9588b4ab585f13576dac3c861",
       "step": 1,
       "style": "IPY_MODEL_1b1e80186bcc4ed7bd605d989ece23e2",
       "value": 30
      }
     },
     "ac2f8873dacc4292844747f5a65207b7": {
      "model_module": "@jupyter-widgets/base",
      "model_module_version": "1.0.0",
      "model_name": "LayoutModel",
      "state": {
       "width": "100%"
      }
     },
     "acad1d4a0973443da8d43847be03df24": {
      "model_module": "@jupyter-widgets/base",
      "model_module_version": "1.0.0",
      "model_name": "LayoutModel",
      "state": {}
     },
     "acbfb42ba89e415cac2587fcb8673f79": {
      "model_module": "@jupyter-widgets/base",
      "model_module_version": "1.0.0",
      "model_name": "LayoutModel",
      "state": {
       "width": "100%"
      }
     },
     "ad18b1ca57534ec7bc5da8854a6bc6fe": {
      "model_module": "@jupyter-widgets/controls",
      "model_module_version": "1.1.0",
      "model_name": "DescriptionStyleModel",
      "state": {
       "description_width": ""
      }
     },
     "ad94f3db2cf44ccca99a1cf3a4a34557": {
      "model_module": "@jupyter-widgets/controls",
      "model_module_version": "1.1.0",
      "model_name": "DescriptionStyleModel",
      "state": {
       "description_width": "initial"
      }
     },
     "adf305cc43144fbb9a93c9dc84472c56": {
      "model_module": "@jupyter-widgets/controls",
      "model_module_version": "1.1.0",
      "model_name": "DescriptionStyleModel",
      "state": {
       "description_width": ""
      }
     },
     "ae0f8f36262c475188a71ce2e46c8269": {
      "model_module": "@jupyter-widgets/controls",
      "model_module_version": "1.1.0",
      "model_name": "ButtonModel",
      "state": {
       "icon": "fast-forward",
       "layout": "IPY_MODEL_4092ebbb7d104e469b36702587f49230",
       "style": "IPY_MODEL_1a0654d27c554028ab8113b241fbaa7b"
      }
     },
     "ae171b206b5c4133b1eb4ac268b3973e": {
      "model_module": "@jupyter-widgets/base",
      "model_module_version": "1.0.0",
      "model_name": "LayoutModel",
      "state": {}
     },
     "ae52a8f8f5b7453b92078d46f4d582a9": {
      "model_module": "@jupyter-widgets/controls",
      "model_module_version": "1.1.0",
      "model_name": "DescriptionStyleModel",
      "state": {
       "description_width": ""
      }
     },
     "ae7ad55a53c04a178fea3f2bdb27c9fa": {
      "model_module": "@jupyter-widgets/controls",
      "model_module_version": "1.1.0",
      "model_name": "LabelModel",
      "state": {
       "layout": "IPY_MODEL_d37c66eb6df647b0b1f5fb92c127de53",
       "style": "IPY_MODEL_8e9008839fd343809c8d9447da13c042",
       "value": "of 3"
      }
     },
     "ae956d1c4da6478cbd8aa234e8ba52c4": {
      "model_module": "@jupyter-widgets/controls",
      "model_module_version": "1.1.0",
      "model_name": "DescriptionStyleModel",
      "state": {
       "description_width": "initial"
      }
     },
     "af1f463cbbb9413eae14db7d87a02da1": {
      "model_module": "@jupyter-widgets/base",
      "model_module_version": "1.0.0",
      "model_name": "LayoutModel",
      "state": {}
     },
     "af267aadc0c4409c894878792463224d": {
      "model_module": "@jupyter-widgets/controls",
      "model_module_version": "1.1.0",
      "model_name": "DescriptionStyleModel",
      "state": {
       "description_width": ""
      }
     },
     "afcebf62fa9346a3b7e2e9a730254bf2": {
      "model_module": "@jupyter-widgets/controls",
      "model_module_version": "1.1.0",
      "model_name": "ButtonStyleModel",
      "state": {}
     },
     "b04ec58616a94d128beaca9743a070dd": {
      "model_module": "@jupyter-widgets/controls",
      "model_module_version": "1.1.0",
      "model_name": "AccordionModel",
      "state": {
       "_titles": {
        "0": "XOR in Time"
       },
       "children": [
        "IPY_MODEL_65e8d862c1e742cc961afe5d1b65ee8c"
       ],
       "layout": "IPY_MODEL_4e912e490b854e03897392f66d481807",
       "selected_index": null
      }
     },
     "b19df4003f264dbfb9b7af02aef46c1f": {
      "model_module": "@jupyter-widgets/controls",
      "model_module_version": "1.1.0",
      "model_name": "ButtonModel",
      "state": {
       "icon": "save",
       "layout": "IPY_MODEL_dad8d68252d144058d3d12a9d158b2c3",
       "style": "IPY_MODEL_789bc2d2cf744f029deaaad9cd015700"
      }
     },
     "b24dfb4434e8467da0cd939475763103": {
      "model_module": "@jupyter-widgets/controls",
      "model_module_version": "1.1.0",
      "model_name": "DescriptionStyleModel",
      "state": {
       "description_width": "initial"
      }
     },
     "b2dc5548922c415084a506bb2d13bded": {
      "model_module": "@jupyter-widgets/base",
      "model_module_version": "1.0.0",
      "model_name": "LayoutModel",
      "state": {
       "width": "65%"
      }
     },
     "b331767575dd43a48ace9c72aa2d29f6": {
      "model_module": "@jupyter-widgets/controls",
      "model_module_version": "1.1.0",
      "model_name": "AccordionModel",
      "state": {
       "_titles": {
        "0": "Polka in Time"
       },
       "children": [
        "IPY_MODEL_30f4903d211b4611a07e800b1fc47410"
       ],
       "layout": "IPY_MODEL_efc9adb624314b059a6308ce6fa1d05b",
       "selected_index": null
      }
     },
     "b341fb39bd644600b3980f30f81e0ac1": {
      "model_module": "@jupyter-widgets/controls",
      "model_module_version": "1.1.0",
      "model_name": "CheckboxModel",
      "state": {
       "description": "Rotate network",
       "disabled": false,
       "layout": "IPY_MODEL_6f35c2ab98424f369920ae7267416557",
       "style": "IPY_MODEL_1ae9f4256ce74a3c80547c65143eb3bc",
       "value": false
      }
     },
     "b3ad92d26a2a448a93342c964af8e6e9": {
      "model_module": "@jupyter-widgets/controls",
      "model_module_version": "1.1.0",
      "model_name": "SelectModel",
      "state": {
       "_options_labels": [
        "",
        "Accent",
        "Accent_r",
        "Blues",
        "Blues_r",
        "BrBG",
        "BrBG_r",
        "BuGn",
        "BuGn_r",
        "BuPu",
        "BuPu_r",
        "CMRmap",
        "CMRmap_r",
        "Dark2",
        "Dark2_r",
        "GnBu",
        "GnBu_r",
        "Greens",
        "Greens_r",
        "Greys",
        "Greys_r",
        "OrRd",
        "OrRd_r",
        "Oranges",
        "Oranges_r",
        "PRGn",
        "PRGn_r",
        "Paired",
        "Paired_r",
        "Pastel1",
        "Pastel1_r",
        "Pastel2",
        "Pastel2_r",
        "PiYG",
        "PiYG_r",
        "PuBu",
        "PuBuGn",
        "PuBuGn_r",
        "PuBu_r",
        "PuOr",
        "PuOr_r",
        "PuRd",
        "PuRd_r",
        "Purples",
        "Purples_r",
        "RdBu",
        "RdBu_r",
        "RdGy",
        "RdGy_r",
        "RdPu",
        "RdPu_r",
        "RdYlBu",
        "RdYlBu_r",
        "RdYlGn",
        "RdYlGn_r",
        "Reds",
        "Reds_r",
        "Set1",
        "Set1_r",
        "Set2",
        "Set2_r",
        "Set3",
        "Set3_r",
        "Spectral",
        "Spectral_r",
        "Vega10",
        "Vega10_r",
        "Vega20",
        "Vega20_r",
        "Vega20b",
        "Vega20b_r",
        "Vega20c",
        "Vega20c_r",
        "Wistia",
        "Wistia_r",
        "YlGn",
        "YlGnBu",
        "YlGnBu_r",
        "YlGn_r",
        "YlOrBr",
        "YlOrBr_r",
        "YlOrRd",
        "YlOrRd_r",
        "afmhot",
        "afmhot_r",
        "autumn",
        "autumn_r",
        "binary",
        "binary_r",
        "bone",
        "bone_r",
        "brg",
        "brg_r",
        "bwr",
        "bwr_r",
        "cool",
        "cool_r",
        "coolwarm",
        "coolwarm_r",
        "copper",
        "copper_r",
        "cubehelix",
        "cubehelix_r",
        "flag",
        "flag_r",
        "gist_earth",
        "gist_earth_r",
        "gist_gray",
        "gist_gray_r",
        "gist_heat",
        "gist_heat_r",
        "gist_ncar",
        "gist_ncar_r",
        "gist_rainbow",
        "gist_rainbow_r",
        "gist_stern",
        "gist_stern_r",
        "gist_yarg",
        "gist_yarg_r",
        "gnuplot",
        "gnuplot2",
        "gnuplot2_r",
        "gnuplot_r",
        "gray",
        "gray_r",
        "hot",
        "hot_r",
        "hsv",
        "hsv_r",
        "inferno",
        "inferno_r",
        "jet",
        "jet_r",
        "magma",
        "magma_r",
        "nipy_spectral",
        "nipy_spectral_r",
        "ocean",
        "ocean_r",
        "pink",
        "pink_r",
        "plasma",
        "plasma_r",
        "prism",
        "prism_r",
        "rainbow",
        "rainbow_r",
        "seismic",
        "seismic_r",
        "spectral",
        "spectral_r",
        "spring",
        "spring_r",
        "summer",
        "summer_r",
        "tab10",
        "tab10_r",
        "tab20",
        "tab20_r",
        "tab20b",
        "tab20b_r",
        "tab20c",
        "tab20c_r",
        "terrain",
        "terrain_r",
        "viridis",
        "viridis_r",
        "winter",
        "winter_r"
       ],
       "description": "Colormap:",
       "index": 0,
       "layout": "IPY_MODEL_2654fbe51a30422e849f5cb742292019",
       "rows": 1,
       "style": "IPY_MODEL_28efdfe165bc41d2bac38e6a2785985b"
      }
     },
     "b3bec636e767437ba5fbfebd30838b8f": {
      "model_module": "@jupyter-widgets/controls",
      "model_module_version": "1.1.0",
      "model_name": "FloatTextModel",
      "state": {
       "description": "Feature scale:",
       "layout": "IPY_MODEL_2fa334657a2d448c8d6b6369cd6a55c9",
       "step": null,
       "style": "IPY_MODEL_ae956d1c4da6478cbd8aa234e8ba52c4",
       "value": 1
      }
     },
     "b468d5283f564041aa3fd66a41dafa9c": {
      "model_module": "@jupyter-widgets/base",
      "model_module_version": "1.0.0",
      "model_name": "LayoutModel",
      "state": {}
     },
     "b4f9392dad7f4211be4017579b05c150": {
      "model_module": "@jupyter-widgets/controls",
      "model_module_version": "1.1.0",
      "model_name": "HTMLModel",
      "state": {
       "layout": "IPY_MODEL_2bbabc6867f7451fbf90b170c966c262",
       "style": "IPY_MODEL_1a148d0b5a49498fac944aed4f4e2312",
       "value": "<p style=\"text-align:center\"><svg id='XOR in Time' xmlns='http://www.w3.org/2000/svg' image-rendering=\"pixelated\" width=\"400.0px\" height=\"189.0909090909091px\">\n <g >\n  <svg viewBox=\"0 0 550 260\" width=\"400.0px\" height=\"189.0909090909091px\">\n    <defs>\n        <marker id=\"arrow\" markerWidth=\"10\" markerHeight=\"10\" refX=\"9\" refY=\"3\" orient=\"auto\" markerUnits=\"strokeWidth\">\n          <path d=\"M0,0 L0,6 L9,3 z\" fill=\"black\" />\n        </marker>\n    </defs><rect x=\"249.0\" y=\"24\" width=\"52\" height=\"52\" style=\"fill:none;stroke:black;stroke-width:2\"/><image id=\"picture-dashboard-XOR in Time-10739_output_5\" class=\"picture-dashboard-XOR in Time-10739_output\" x=\"250.0\" y=\"25\" height=\"50\" width=\"50\" preserveAspectRatio=\"none\" href=\"data:image/gif;base64,R0lGODdhPgA+AIcAAP/Z2QAAAAAAAAAAAAAAAAAAAAAAAAAAAAAAAAAAAAAAAAAAAAAAAAAAAAAAAAAAAAAAAAAAAAAAAAAAAAAAAAAAAAAAAAAAAAAAAAAAAAAAAAAAAAAAAAAAAAAAAAAAAAAAAAAAAAAAAAAAAAAAAAAAAAAAAAAAAAAAAAAAAAAAAAAAAAAAAAAAAAAAAAAAAAAAAAAAAAAAAAAAAAAAAAAAAAAAAAAAAAAAAAAAAAAAAAAAAAAAAAAAAAAAAAAAAAAAAAAAAAAAAAAAAAAAAAAAAAAAAAAAAAAAAAAAAAAAAAAAAAAAAAAAAAAAAAAAAAAAAAAAAAAAAAAAAAAAAAAAAAAAAAAAAAAAAAAAAAAAAAAAAAAAAAAAAAAAAAAAAAAAAAAAAAAAAAAAAAAAAAAAAAAAAAAAAAAAAAAAAAAAAAAAAAAAAAAAAAAAAAAAAAAAAAAAAAAAAAAAAAAAAAAAAAAAAAAAAAAAAAAAAAAAAAAAAAAAAAAAAAAAAAAAAAAAAAAAAAAAAAAAAAAAAAAAAAAAAAAAAAAAAAAAAAAAAAAAAAAAAAAAAAAAAAAAAAAAAAAAAAAAAAAAAAAAAAAAAAAAAAAAAAAAAAAAAAAAAAAAAAAAAAAAAAAAAAAAAAAAAAAAAAAAAAAAAAAAAAAAAAAAAAAAAAAAAAAAAAAAAAAAAAAAAAAAAAAAAAAAAAAAAAAAAAAAAAAAAAAAAAAAAAAAAAAAAAAAAAAAAAAAAAAAAAAAAAAAAAAAAAAAAAAAAAAAAAAAAAAAAAAAAAAAAAAAAAAAAAAAAAAAAAAAAAAAAAAAAAAAAAAAAAAAAAAAAAAAAAAAAAAAAAAAAAAAAAAAAAAAAAAAAAAAAAAAAAAAAAAAAAAAAAAAAAAAAAAAAAAAAAAAAAAAAAAAAAAAAAAAAAAAAAAAAAAAAAAAAAAAAAAAAAAAAAAAAAAAAAAAAAAAAAAAAAAAAAAAAAAAAAAAAAAAAAAAAAAAAAAAAAAAAAAAAAAAAAAAAAAAACwAAAAAPgA+AEAI/wADCBxIsKDBgwgTKkQIoKHDhxAjSpxIsSLEAAEAaNzIsaPHjyBDiuwYIACAkyhTqlzJsqXLlyoDBABAs6bNmzhz6tzJ82aAAACCCh1KtKjRo0iTEg0QAIDTp1CjSp1KtarVqAECANjKtavXr2DDih3rNUAAAGjTql3Ltq3bt3DXBggAoK7du3jz6t3Lty/eAAEACB5MuLDhw4gTKy4cIACAx5AjS55MubLly5IDBADAubPnz6BDix5N+nOAAABSq17NurXr17Bjsw4QAIDt27hz697Nu7fv3AECABhOvLjx48iTK19uPEAAANCjS59Ovbr169inBwgAoLv37+DDi/8fT748+AABAKhfz769+/fw48tvHyAAgPv48+vfz7+/f4AABA4kWDBAAAAJFS5k2NDhQ4gRGQYIAMDiRYwZNW7k2NFjxgABAIwkWdLkSZQpVa40GSAAAJgxZc6kWdPmTZwzAwQA0NPnT6BBhQ4lWhRogAAAlC5l2tTpU6hRpTYNEADAVaxZtW7l2tXrV60BAgAgW9bsWbRp1a5lezZAAABx5c6lW9fuXbx56QYIAMDvX8CBBQ8mXNhw4AABACxm3NjxY8iRJU92HCAAAMyZNW/m3NnzZ9CbAwQAUNr0adSpVa9m3Rp1gAAAZM+mXdv2bdy5ddcOEADAb+DBhQ8nXtz/+HHhAQIAYN7c+XPo0aVPp/48QAAA2bVv597d+3fw4bkHCADA/Hn06dWvZ9/effoAAQDMp1/f/n38+fXvtx8gAEAAAgcSLGjwIMKECgsGCADgIcSIEidSrGjxosQAAQBw7OjxI8iQIkeS/BggAICUKleybOnyJcyYLAMEAGDzJs6cOnfy7OkzZ4AAAIYSLWr0KNKkSpcaDRAAANSoUqdSrWr1KtapAQIA6Or1K9iwYseSLQs2QAAAateybev2Ldy4ctsGCADgLt68evfy7ev3r94AAQAQLmz4MOLEihczPhwgAIDIkidTrmz5MubMlAMEAOD5M+jQokeTLm06dIAAlQBWs27t+jXs2LJnuw4QAADu3Lp38+7t+zfw3QECAChu/Djy5MqXM2+OPEAAANKnU69u/Tr27NqrBwgA4Dv48OLHky9v/rz4AAEAsG/v/j38+PLn038fIACA/Pr38+/vHyAAgQMJFjR4kGCAAAAYNnT4EGJEiRMpPgwQAEBGjRs5dvT4EWRIjgFIljR5EmVKlStZqgwIADs=\"><title>Layer: output (output)\n output range: (0, 1)\n shape = (1,)\n Keras class = Dense\n activation = sigmoid</title></image><text x=\"305.0\" y=\"52.0\" font-family=\"monospace\" font-size=\"12\" text-anchor=\"start\" fill=\"black\" alignment-baseline=\"central\" >output</text><line x1=\"275.0\" y1=\"104\" x2=\"275.0\" y2=\"77\" stroke=\"black\" stroke-width=\"2\" marker-end=\"url(#arrow)\"><title>Weights from hidden to output\n output_6/kernel:0 has shape (5, 1)\n output_6/bias:0 has shape (1,)</title></line><rect x=\"174.0\" y=\"104\" width=\"202\" height=\"52\" style=\"fill:none;stroke:black;stroke-width:2\"/><image id=\"picture-dashboard-XOR in Time-10739_hidden_6\" class=\"picture-dashboard-XOR in Time-10739_hidden\" x=\"175.0\" y=\"105\" height=\"50\" width=\"200\" preserveAspectRatio=\"none\" href=\"data:image/gif;base64,R0lGODdh+gAyAIcAAEFB/3Fx/8HB//9tbf/t7QAAAAAAAAAAAAAAAAAAAAAAAAAAAAAAAAAAAAAAAAAAAAAAAAAAAAAAAAAAAAAAAAAAAAAAAAAAAAAAAAAAAAAAAAAAAAAAAAAAAAAAAAAAAAAAAAAAAAAAAAAAAAAAAAAAAAAAAAAAAAAAAAAAAAAAAAAAAAAAAAAAAAAAAAAAAAAAAAAAAAAAAAAAAAAAAAAAAAAAAAAAAAAAAAAAAAAAAAAAAAAAAAAAAAAAAAAAAAAAAAAAAAAAAAAAAAAAAAAAAAAAAAAAAAAAAAAAAAAAAAAAAAAAAAAAAAAAAAAAAAAAAAAAAAAAAAAAAAAAAAAAAAAAAAAAAAAAAAAAAAAAAAAAAAAAAAAAAAAAAAAAAAAAAAAAAAAAAAAAAAAAAAAAAAAAAAAAAAAAAAAAAAAAAAAAAAAAAAAAAAAAAAAAAAAAAAAAAAAAAAAAAAAAAAAAAAAAAAAAAAAAAAAAAAAAAAAAAAAAAAAAAAAAAAAAAAAAAAAAAAAAAAAAAAAAAAAAAAAAAAAAAAAAAAAAAAAAAAAAAAAAAAAAAAAAAAAAAAAAAAAAAAAAAAAAAAAAAAAAAAAAAAAAAAAAAAAAAAAAAAAAAAAAAAAAAAAAAAAAAAAAAAAAAAAAAAAAAAAAAAAAAAAAAAAAAAAAAAAAAAAAAAAAAAAAAAAAAAAAAAAAAAAAAAAAAAAAAAAAAAAAAAAAAAAAAAAAAAAAAAAAAAAAAAAAAAAAAAAAAAAAAAAAAAAAAAAAAAAAAAAAAAAAAAAAAAAAAAAAAAAAAAAAAAAAAAAAAAAAAAAAAAAAAAAAAAAAAAAAAAAAAAAAAAAAAAAAAAAAAAAAAAAAAAAAAAAAAAAAAAAAAAAAAAAAAAAAAAAAAAAAAAAAAAAAAAAAAAAAAAAAAAAAAAAAAAAAAAAAAAAAAAAAAAAAAAAAAAAAAAAAAAAAAAAAAAAAAAAAAAAAAAAAAAAAAAAAAAAAAAAAAAAAAAAAAAAAAAAAAAAAACwAAAAA+gAyAEAI/wALCBxIsKDBgwgTKlzIsKHDhxAjSpxIsSJFAhgzatzIsaPHjxkLFBhAsqTJkyhTqlxZskCBADBjypxJs6bNmzELFBDAs6fPn0CDCh3as0ABAEiTKl3KtKnTp0kLFCBAtarVq1izat1atUCBAWDDih1LtqzZs2ELFAjAtq3bt3Djyp3btkABAXjz6t3Lt6/fv3kLFABAuLDhw4gTK15cuEABApAjS55MubLly5ELFBjAubPnz6BDix7duUCBAKhTq17NurXr16kLFBBAu7bt27hz695du0ABAMCDCx9OvLjx48ELFCDAvLnz59CjS5/evECBAdiza9/Ovbv379kLFP8IQL68+fPo06tfX75AAQHw48ufT7++/fvxCxQAwL+/f4AABA4kWNDgQYQCCxQg0NDhQ4gRJU6k6LBAgQEZNW7k2NHjR5AaCxQIUNLkSZQpVa5kabJAAQExZc6kWdPmTZwyCxQA0NPnT6BBhQ4l6rNAAQJJlS5l2tTpU6hKCxQYUNXqVaxZtW7larVAgQBhxY4lW9bsWbRiCxQQ0NbtW7hx5c6l67ZAAQB59e7l29fvX8B6CxQgUNjwYcSJFS9mbLhAgQGRJU+mXNnyZcySCxQI0NnzZ9ChRY8m7blAAQGpVa9m3dr1a9iqCxQAUNv2bdy5de/mbbtAAQLBhQ8nXtz/+HHkwgsUGNDc+XPo0aVPp+68QIEA2bVv597d+3fw2gsUEFDe/Hn06dWvZ2++QAEA8eXPp1/f/n388gsUINDfP0ACAgcSLGjwIEKDBQoMaOjwIcSIEidSdFigQICMGjdy7OjxI0iNBQoIKGnyJMqUKleyNFmgAICYMmfSrGnzJk6ZBQoQ6OnzJ9CgQocS9VmgwICkSpcyber0KVSlBQoEqGr1KtasWrdytVqggICwYseSLWv2LFqxBQoAaOv2Ldy4cufSdVugAIG8evfy7ev3L2C9BQoMKGz4MOLEihczNlygQIDIkidTrmz5MmbJBQoI6Oz5M+jQokeT9lygAIDU/6pXs27t+jVs1QUKEKht+zbu3Lp387ZdoMCA4MKHEy9u/Dhy4QUKBGju/Dn06NKnU3deoICA7Nq3c+/u/Tt47QUKAChv/jz69OrXszdfoACB+PLn069v/z5++QUKDOjvH+AAgQMJFjR4EKHBAgUCNHT4EGJEiRMpOixQQEBGjRs5dvT4EaTGAgUAlDR5EmVKlStZmixQgEBMmTNp1rR5E6fMAgUG9PT5E2hQoUOJ+ixQIEBSpUuZNnX6FKrSAgUEVLV6FWtWrVu5Wi1QAEBYsWPJljV7Fq3YAgUItHX7Fm5cuXPpui1QYEBevXv59vX7F7DeAgUCFDZ8GHFixYsZG/8uUEBAZMmTKVe2fBmz5AIFAHT2/Bl0aNGjSXsuUIBAatWrWbd2/Rq26gIFBtS2fRt3bt27edsuUCBAcOHDiRc3fhy58AIFBDR3/hx6dOnTqTsvUABAdu3buXf3/h289gIFCJQ3fx59evXr2ZsvUGBAfPnz6de3fx+//AIFAvT3DzCAwIEECxo8iNBggQICGjp8CDGixIkUHRYoACCjxo0cO3r8CFJjgQIESpo8iTKlypUsTRYoMCCmzJk0a9q8iVNmgQIBevr8CTSo0KFEfRYoICCp0qVMmzp9ClVpgQIAqlq9ijWr1q1crRYoQCCs2LFky5o9i1ZsgQID2rp9Czf/rty5dN0WKBAgr969fPv6/QtYb4ECAgobPow4seLFjA0XKAAgsuTJlCtbvoxZcoECBDp7/gw6tOjRpD0XKDAgterVrFu7fg1bdYECAWrbvo07t+7dvG0XKCAguPDhxIsbP45ceIECAJo7fw49uvTp1J0XKEAgu/bt3Lt7/w5ee4ECA8qbP48+vfr17M0XKBAgvvz59Ovbv49ffoECAvr7ByhA4ECCBQ0eRGiwQAEADR0+hBhR4kSKDgsUIJBR40aOHT1+BKmxQIEBJU2eRJlS5UqWJgsUCBBT5kyaNW3exCmzQAEBPX3+BBpU6FCiPgsUAJBU6VKmTZ0+haq0QAEC/1WtXsWaVetWrlYLFBgQVuxYsmXNnkUrtkCBAG3dvoUbV+5cum4LFBCQV+9evn39/gWst0ABAIUNH0acWPFixoYLFCAQWfJkypUtX8YsuUCBAZ09fwYdWvRo0p4LFAiQWvVq1q1dv4atukABAbVt38adW/du3rYLFAAQXPhw4sWNH0cuvEABAs2dP4ceXfp06s4LFBiQXft27t29fwevvUCBAOXNn0efXv169uYLFBAQX/58+vXt38cvv0ABAP39AwQgcCDBggYPIjRYoACBhg4fQowocSJFhwUKDMiocSPHjh4/gtRYoECAkiZPokypciVLkwUKCIgpcybNmjZv4v+UWaAAgJ4+fwINKnQoUZ8FChBIqnQp06ZOn0JVWqDAgKpWr2LNqnUrV6sFCgQIK3Ys2bJmz6IVW6CAgLZu38KNK3cuXbcFCgDIq3cv375+/wLWW6AAgcKGDyNOrHgxY8MFCgyILHky5cqWL2OWXKBAgM6eP4MOLXo0ac8FCghIrXo169auX8NWXaAAgNq2b+POrXs3b9sFChAILnw48eLGjyMXXqDAgObOn0OPLn06decFCgTIrn079+7ev4PXXqCAgPLmz6NPr349e/MFCgCIL38+/fr27+OXX6AAgf7+ARIQOJBgQYMHERosUGBAQ4cPIUaUOJGiwwIFAmTUuJH/Y0ePH0FqLFBAQEmTJ1GmVLmSpckCBQDElDmTZk2bN3HKLFCAQE+fP4EGFTqUqM8CBQYkVbqUaVOnT6EqLVAgQFWrV7Fm1bqVq9UCBQSEFTuWbFmzZ9GKLVAAQFu3b+HGlTuXrtsCBQjk1buXb1+/fwHrLVBgQGHDhxEnVryYseECBQJEljyZcmXLlzFLLlBAQGfPn0GHFj2atOcCBQCkVr2adWvXr2GrLlCAQG3bt3Hn1r2bt+0CBQYEFz6ceHHjx5ELL1AgQHPnz6FHlz6duvMCBQRk176de3fv38FrL1AAQHnz59GnV7+evfkCBQjElz+ffn379/HLL1BgQH///wAHCBxIsKDBgwgNFigQoKHDhxAjSpxI0WGBAgIyatzIsaPHjyA1FigAoKTJkyhTqlzJ0mSBAgRiypxJs6bNmzhlFigwoKfPn0CDCh1K1GeBAgGSKl3KtKnTp1CVFiggoKrVq1izat3K1WqBAgDCih1LtqzZs2jFFihAoK3bt3Djyp1L122BAgPy6t3Lt6/fv4D1FigQoLDhw4gTK17M2HCBAgIiS55MubLly5glFygAoLPnz6BDix5N2nOBAgRSq17NurXr17BVFygwoLbt27hz697N23aBAgGCCx9OvLjx48iFFyggoLnz59CjS59O3XmBAgCya9/Ovbv37+C1F/8oQKC8+fPo06tfz958gQID4sufT7++/fv45RcoEKC/f4ABBA4kWNDgQYQGCxQQ0NDhQ4gRJU6k6LBAAQAZNW7k2NHjR5AaCxQgUNLkSZQpVa5kabJAgQExZc6kWdPmTZwyCxQI0NPnT6BBhQ4l6rNAAQFJlS5l2tTpU6hKCxQAUNXqVaxZtW7larVAAQJhxY4lW9bsWbRiCxQY0NbtW7hx5c6l67ZAgQB59e7l29fvX8B6CxQQUNjwYcSJFS9mbLhAAQCRJU+mXNnyZcySCxQg0NnzZ9ChRY8m7blAgQGpVa9m3dr1a9iqCxQIUNv2bdy5de/mbbtAAQHBhQ8nXtz/+HHkwgsUANDc+XPo0aVPp+68QAEC2bVv597d+3fw2gsUGFDe/Hn06dWvZ2++QIEA8eXPp1/f/n388gsUENDfP0ABAgcSLGjwIEKDBQoAaOjwIcSIEidSdFigAIGMGjdy7OjxI0iNBQoMKGnyJMqUKleyNFmgQICYMmfSrGnzJk6ZBQoI6OnzJ9CgQocS9VmgAICkSpcyber0KVSlBQoQqGr1KtasWrdytVqgwICwYseSLWv2LFqxBQoEaOv2Ldy4cufSdVuggIC8evfy7ev3L2C9BQoAKGz4MOLEihczNlygAIHIkidTrmz5MmbJBQoM6Oz5M+jQokeT9lygQIDU/6pXs27t+jVs1QUKCKht+zbu3Lp387ZdoACA4MKHEy9u/Dhy4QUKEGju/Dn06NKnU3deoMCA7Nq3c+/u/Tt47QUKBChv/jz69OrXszdfoICA+PLn069v/z5++QUKAOjvHyAAgQMJFjR4EKHBAgUINHT4EGJEiRMpOixQYEBGjRs5dvT4EaTGAgUClDR5EmVKlStZmixQQEBMmTNp1rR5E6fMAgUA9PT5E2hQoUOJ+ixQgEBSpUuZNnX6FKrSAgUGVLV6FWtWrVu5Wi1QIEBYsWPJljV7Fq3YAgUEtHX7Fm5cuXPpui1QAEBevXv59vX7F7DeAoMJFzZ8GHFixYsZNw12/BhyZMmTKVe2XDkgADs=\"><title>Layer: hidden (hidden)\n output range: (0, 1)\n shape = (5,)\n Keras class = Dense\n activation = sigmoid</title></image><text x=\"380.0\" y=\"132.0\" font-family=\"monospace\" font-size=\"12\" text-anchor=\"start\" fill=\"black\" alignment-baseline=\"central\" >hidden</text><line x1=\"183.33333333333334\" y1=\"184\" x2=\"275.0\" y2=\"157\" stroke=\"black\" stroke-width=\"2\" marker-end=\"url(#arrow)\"><title>Weights from input to hidden\n hidden_6/kernel:0 has shape (6, 5)\n hidden_6/bias:0 has shape (5,)</title></line><rect x=\"157.33333333333334\" y=\"184\" width=\"52\" height=\"52\" style=\"fill:none;stroke:black;stroke-width:2\"/><image id=\"picture-dashboard-XOR in Time-10739_input_7\" class=\"picture-dashboard-XOR in Time-10739_input\" x=\"158.33333333333334\" y=\"185\" height=\"50\" width=\"50\" preserveAspectRatio=\"none\" href=\"data:image/gif;base64,R0lGODdhPgA+AIcAAAAAAAAAAAAAAAAAAAAAAAAAAAAAAAAAAAAAAAAAAAAAAAAAAAAAAAAAAAAAAAAAAAAAAAAAAAAAAAAAAAAAAAAAAAAAAAAAAAAAAAAAAAAAAAAAAAAAAAAAAAAAAAAAAAAAAAAAAAAAAAAAAAAAAAAAAAAAAAAAAAAAAAAAAAAAAAAAAAAAAAAAAAAAAAAAAAAAAAAAAAAAAAAAAAAAAAAAAAAAAAAAAAAAAAAAAAAAAAAAAAAAAAAAAAAAAAAAAAAAAAAAAAAAAAAAAAAAAAAAAAAAAAAAAAAAAAAAAAAAAAAAAAAAAAAAAAAAAAAAAAAAAAAAAAAAAAAAAAAAAAAAAAAAAAAAAAAAAAAAAAAAAAAAAAAAAAAAAAAAAAAAAAAAAAAAAAAAAAAAAAAAAAAAAAAAAAAAAAAAAAAAAAAAAAAAAAAAAAAAAAAAAAAAAAAAAAAAAAAAAAAAAAAAAAAAAAAAAAAAAAAAAAAAAAAAAAAAAAAAAAAAAAAAAAAAAAAAAAAAAAAAAAAAAAAAAAAAAAAAAAAAAAAAAAAAAAAAAAAAAAAAAAAAAAAAAAAAAAAAAAAAAAAAAAAAAAAAAAAAAAAAAAAAAAAAAAAAAAAAAAAAAAAAAAAAAAAAAAAAAAAAAAAAAAAAAAAAAAAAAAAAAAAAAAAAAAAAAAAAAAAAAAAAAAAAAAAAAAAAAAAAAAAAAAAAAAAAAAAAAAAAAAAAAAAAAAAAAAAAAAAAAAAAAAAAAAAAAAAAAAAAAAAAAAAAAAAAAAAAAAAAAAAAAAAAAAAAAAAAAAAAAAAAAAAAAAAAAAAAAAAAAAAAAAAAAAAAAAAAAAAAAAAAAAAAAAAAAAAAAAAAAAAAAAAAAAAAAAAAAAAAAAAAAAAAAAAAAAAAAAAAAAAAAAAAAAAAAAAAAAAAAAAAAAAAAAAAAAAAAAAAAAAAAAAAAAAAAAAAAAAAAAAAAAAAAAAAAAAAAAAAAAAAAAAAAAAAAAAAAAAAAAAAAAAAAAAAAAAAAAAAACwAAAAAPgA+AEAIZgABCBxIsKDBgwgTKlzIsKHDhxAjSpxIsaLFixgzatzIsaPHjyBDihxJsqTJkyhTqlzJsqXLlzBjypxJs6bNmzhz6tzJs6fPn0CDCh1KtKjRo0iTKl3KtKnTp1CjSp1KtarVqxADAgA7\"><title>Layer: input (input)\n output range: (0.0, 1.0)\n shape = (1,)\n Keras class = Input</title></image><text x=\"213.33333333333334\" y=\"212.0\" font-family=\"monospace\" font-size=\"12\" text-anchor=\"start\" fill=\"black\" alignment-baseline=\"central\" >input</text><line x1=\"366.6666666666667\" y1=\"184\" x2=\"275.0\" y2=\"157\" stroke=\"black\" stroke-width=\"2\" marker-end=\"url(#arrow)\"><title>Weights from context to hidden\n hidden_6/kernel:0 has shape (6, 5)\n hidden_6/bias:0 has shape (5,)</title></line><rect x=\"265.6666666666667\" y=\"184\" width=\"202\" height=\"52\" style=\"fill:none;stroke:black;stroke-width:2\"/><image id=\"picture-dashboard-XOR in Time-10739_context_8\" class=\"picture-dashboard-XOR in Time-10739_context\" x=\"266.6666666666667\" y=\"185\" height=\"50\" width=\"200\" preserveAspectRatio=\"none\" href=\"data:image/gif;base64,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\"><title>Layer: context (input)\n output range: (0.3100944, 0.7363105)\n shape = (5,)\n Keras class = Input</title></image><text x=\"471.6666666666667\" y=\"212.0\" font-family=\"monospace\" font-size=\"12\" text-anchor=\"start\" fill=\"black\" alignment-baseline=\"central\" >context</text><text x=\"275.0\" y=\"12.5\" font-family=\"monospace\" font-size=\"15\" text-anchor=\"middle\" fill=\"black\" alignment-baseline=\"central\" >XOR in Time</text></svg></g></svg></p>"
      }
     },
     "b4fdef521c214e3b813f2cc850546084": {
      "model_module": "@jupyter-widgets/controls",
      "model_module_version": "1.1.0",
      "model_name": "HBoxModel",
      "state": {
       "children": [
        "IPY_MODEL_ab8c4728657e433a9b8d947b53c3aa1e",
        "IPY_MODEL_25d4c82eaac045dcac7329baca7339a4"
       ],
       "layout": "IPY_MODEL_571a980356b04812afcb5f081c878ba7"
      }
     },
     "b53238043b11405d81c51533564b2409": {
      "model_module": "@jupyter-widgets/controls",
      "model_module_version": "1.1.0",
      "model_name": "DescriptionStyleModel",
      "state": {
       "description_width": ""
      }
     },
     "b544e64e97b3458da8819eb94ef10026": {
      "model_module": "@jupyter-widgets/controls",
      "model_module_version": "1.1.0",
      "model_name": "FloatTextModel",
      "state": {
       "description": "Leftmost color maps to:",
       "layout": "IPY_MODEL_3775d0a891d0442798e0839efd132dcb",
       "step": null,
       "style": "IPY_MODEL_558c2ec68cfa401b8c3e6f2093cfc801"
      }
     },
     "b59c3d8e61a4462e9e1daa9207da9c9e": {
      "model_module": "@jupyter-widgets/controls",
      "model_module_version": "1.1.0",
      "model_name": "FloatSliderModel",
      "state": {
       "continuous_update": false,
       "description": "Zoom",
       "layout": "IPY_MODEL_d9b18b0eff854b1780dfdf0b1688c121",
       "max": 1,
       "step": 0.1,
       "style": "IPY_MODEL_1acd6b58175f4428b58a909625796ac5",
       "value": 0.5
      }
     },
     "b59f293a2b924d7686fe42d12cece9a5": {
      "model_module": "@jupyter-widgets/base",
      "model_module_version": "1.0.0",
      "model_name": "LayoutModel",
      "state": {
       "height": "50px",
       "width": "100%"
      }
     },
     "b5aa3d2a683e49b193adc3523a74c213": {
      "model_module": "@jupyter-widgets/base",
      "model_module_version": "1.0.0",
      "model_name": "LayoutModel",
      "state": {}
     },
     "b5d23f75463940a2acbf55940bfb524c": {
      "model_module": "@jupyter-widgets/base",
      "model_module_version": "1.0.0",
      "model_name": "LayoutModel",
      "state": {
       "width": "100%"
      }
     },
     "b62c11579a4a43218a6d123fa50f7afc": {
      "model_module": "@jupyter-widgets/controls",
      "model_module_version": "1.1.0",
      "model_name": "VBoxModel",
      "state": {
       "children": [
        "IPY_MODEL_045fa03eaa5a47279b68a89dde243ee8",
        "IPY_MODEL_5a8eba85b9c5496a96f397a020649103",
        "IPY_MODEL_c21b86016bea45efaf56b10ffa80020b",
        "IPY_MODEL_dc4e1c9d2b454097b0595c73e8a638d9",
        "IPY_MODEL_5d7030ebc3f6473d98a5b33e2b79fde3",
        "IPY_MODEL_e583f592edef4713a79256df6e2160c8",
        "IPY_MODEL_678496dfe9764e7cad7e9f8d7c356ef2",
        "IPY_MODEL_9dfa29d4f73d478bad8190f6d113fa6b"
       ],
       "layout": "IPY_MODEL_e026b2a293f849ddadaceaa367c1e6e5"
      }
     },
     "b67dd5e829264c5a8fbdc3f34d1a800d": {
      "model_module": "@jupyter-widgets/controls",
      "model_module_version": "1.1.0",
      "model_name": "IntTextModel",
      "state": {
       "description": "Feature columns:",
       "layout": "IPY_MODEL_2414a3e2ab4e4097a1483673b06d4af2",
       "step": 1,
       "style": "IPY_MODEL_7adf4f6e2c0748538c441a26a8767e83",
       "value": 3
      }
     },
     "b6a08833a8c14090ad490e39c5715e07": {
      "model_module": "@jupyter-widgets/base",
      "model_module_version": "1.0.0",
      "model_name": "LayoutModel",
      "state": {}
     },
     "b7aa8578a6244bb3ac659c054543b4a9": {
      "model_module": "@jupyter-widgets/output",
      "model_module_version": "1.0.0",
      "model_name": "OutputModel",
      "state": {
       "layout": "IPY_MODEL_759e1cf4b4684a24b4d591c482b88aa6"
      }
     },
     "b7b8b4d151154ac38024574a5cdc6b2e": {
      "model_module": "@jupyter-widgets/controls",
      "model_module_version": "1.1.0",
      "model_name": "ButtonModel",
      "state": {
       "description": "Play",
       "icon": "play",
       "layout": "IPY_MODEL_3703586dd2144130a8dc4e88310c6ac3",
       "style": "IPY_MODEL_ec25749276934fb38490dcf249978af2"
      }
     },
     "b7c77901ee574d4f887cd5ae167ad24f": {
      "model_module": "@jupyter-widgets/controls",
      "model_module_version": "1.1.0",
      "model_name": "ButtonStyleModel",
      "state": {}
     },
     "b7e33ac2abd442c9b61ec1d8bfca0a68": {
      "model_module": "@jupyter-widgets/controls",
      "model_module_version": "1.1.0",
      "model_name": "FloatTextModel",
      "state": {
       "description": "Leftmost color maps to:",
       "layout": "IPY_MODEL_6b92a575908d498ca5b907c1604af07d",
       "step": null,
       "style": "IPY_MODEL_b95e853bfef14c1cbed55438058db65f"
      }
     },
     "b80eface91b240d49b6452b455ebd981": {
      "model_module": "@jupyter-widgets/base",
      "model_module_version": "1.0.0",
      "model_name": "LayoutModel",
      "state": {
       "width": "100%"
      }
     },
     "b8102a276e0648418fc3a1a570483f18": {
      "model_module": "@jupyter-widgets/base",
      "model_module_version": "1.0.0",
      "model_name": "LayoutModel",
      "state": {
       "width": "10%"
      }
     },
     "b8d663d1a3a548389ca1ee654a13abc0": {
      "model_module": "@jupyter-widgets/controls",
      "model_module_version": "1.1.0",
      "model_name": "DescriptionStyleModel",
      "state": {
       "description_width": ""
      }
     },
     "b8f91a22de5540c6972e20215317beec": {
      "model_module": "@jupyter-widgets/controls",
      "model_module_version": "1.1.0",
      "model_name": "SelectModel",
      "state": {
       "_options_labels": [
        "",
        "Accent",
        "Accent_r",
        "Blues",
        "Blues_r",
        "BrBG",
        "BrBG_r",
        "BuGn",
        "BuGn_r",
        "BuPu",
        "BuPu_r",
        "CMRmap",
        "CMRmap_r",
        "Dark2",
        "Dark2_r",
        "GnBu",
        "GnBu_r",
        "Greens",
        "Greens_r",
        "Greys",
        "Greys_r",
        "OrRd",
        "OrRd_r",
        "Oranges",
        "Oranges_r",
        "PRGn",
        "PRGn_r",
        "Paired",
        "Paired_r",
        "Pastel1",
        "Pastel1_r",
        "Pastel2",
        "Pastel2_r",
        "PiYG",
        "PiYG_r",
        "PuBu",
        "PuBuGn",
        "PuBuGn_r",
        "PuBu_r",
        "PuOr",
        "PuOr_r",
        "PuRd",
        "PuRd_r",
        "Purples",
        "Purples_r",
        "RdBu",
        "RdBu_r",
        "RdGy",
        "RdGy_r",
        "RdPu",
        "RdPu_r",
        "RdYlBu",
        "RdYlBu_r",
        "RdYlGn",
        "RdYlGn_r",
        "Reds",
        "Reds_r",
        "Set1",
        "Set1_r",
        "Set2",
        "Set2_r",
        "Set3",
        "Set3_r",
        "Spectral",
        "Spectral_r",
        "Vega10",
        "Vega10_r",
        "Vega20",
        "Vega20_r",
        "Vega20b",
        "Vega20b_r",
        "Vega20c",
        "Vega20c_r",
        "Wistia",
        "Wistia_r",
        "YlGn",
        "YlGnBu",
        "YlGnBu_r",
        "YlGn_r",
        "YlOrBr",
        "YlOrBr_r",
        "YlOrRd",
        "YlOrRd_r",
        "afmhot",
        "afmhot_r",
        "autumn",
        "autumn_r",
        "binary",
        "binary_r",
        "bone",
        "bone_r",
        "brg",
        "brg_r",
        "bwr",
        "bwr_r",
        "cool",
        "cool_r",
        "coolwarm",
        "coolwarm_r",
        "copper",
        "copper_r",
        "cubehelix",
        "cubehelix_r",
        "flag",
        "flag_r",
        "gist_earth",
        "gist_earth_r",
        "gist_gray",
        "gist_gray_r",
        "gist_heat",
        "gist_heat_r",
        "gist_ncar",
        "gist_ncar_r",
        "gist_rainbow",
        "gist_rainbow_r",
        "gist_stern",
        "gist_stern_r",
        "gist_yarg",
        "gist_yarg_r",
        "gnuplot",
        "gnuplot2",
        "gnuplot2_r",
        "gnuplot_r",
        "gray",
        "gray_r",
        "hot",
        "hot_r",
        "hsv",
        "hsv_r",
        "inferno",
        "inferno_r",
        "jet",
        "jet_r",
        "magma",
        "magma_r",
        "nipy_spectral",
        "nipy_spectral_r",
        "ocean",
        "ocean_r",
        "pink",
        "pink_r",
        "plasma",
        "plasma_r",
        "prism",
        "prism_r",
        "rainbow",
        "rainbow_r",
        "seismic",
        "seismic_r",
        "spectral",
        "spectral_r",
        "spring",
        "spring_r",
        "summer",
        "summer_r",
        "tab10",
        "tab10_r",
        "tab20",
        "tab20_r",
        "tab20b",
        "tab20b_r",
        "tab20c",
        "tab20c_r",
        "terrain",
        "terrain_r",
        "viridis",
        "viridis_r",
        "winter",
        "winter_r"
       ],
       "description": "Colormap:",
       "index": 0,
       "layout": "IPY_MODEL_535cf873776249788f2cdf7731497364",
       "rows": 1,
       "style": "IPY_MODEL_2809aeab11b749dda2ec28daef7ecde3"
      }
     },
     "b931c05eee6f4eac8b95b2bd5efce3db": {
      "model_module": "@jupyter-widgets/controls",
      "model_module_version": "1.1.0",
      "model_name": "DescriptionStyleModel",
      "state": {
       "description_width": ""
      }
     },
     "b95e853bfef14c1cbed55438058db65f": {
      "model_module": "@jupyter-widgets/controls",
      "model_module_version": "1.1.0",
      "model_name": "DescriptionStyleModel",
      "state": {
       "description_width": "initial"
      }
     },
     "b98048edbd2443a183255d944d1f05d9": {
      "model_module": "@jupyter-widgets/base",
      "model_module_version": "1.0.0",
      "model_name": "LayoutModel",
      "state": {}
     },
     "ba02ce2fecbe4cc19466ac129f7b0f8e": {
      "model_module": "@jupyter-widgets/controls",
      "model_module_version": "1.1.0",
      "model_name": "CheckboxModel",
      "state": {
       "description": "Rotate",
       "disabled": false,
       "layout": "IPY_MODEL_68f866ff7fb44987936aa22ab5c8f2e2",
       "style": "IPY_MODEL_6f90eff978364b689d69515fb98e8ef0",
       "value": true
      }
     },
     "ba15638ea7a442ebaf7c6862828eae6b": {
      "model_module": "@jupyter-widgets/controls",
      "model_module_version": "1.1.0",
      "model_name": "ButtonStyleModel",
      "state": {}
     },
     "ba71f3b688e747dab6f0823f2b7a11e1": {
      "model_module": "@jupyter-widgets/controls",
      "model_module_version": "1.1.0",
      "model_name": "DescriptionStyleModel",
      "state": {
       "description_width": "initial"
      }
     },
     "bac8e6b808a34ec583717e12a78fc42f": {
      "model_module": "@jupyter-widgets/controls",
      "model_module_version": "1.1.0",
      "model_name": "ButtonStyleModel",
      "state": {}
     },
     "bafcfb47a0904b41ad21b69347b5424e": {
      "model_module": "@jupyter-widgets/controls",
      "model_module_version": "1.1.0",
      "model_name": "DescriptionStyleModel",
      "state": {
       "description_width": ""
      }
     },
     "bb35606c4ec5483a81cfc0151f63b4f9": {
      "model_module": "@jupyter-widgets/controls",
      "model_module_version": "1.1.0",
      "model_name": "SelectModel",
      "state": {
       "_options_labels": [
        "Test",
        "Train"
       ],
       "description": "Dataset:",
       "index": 1,
       "layout": "IPY_MODEL_6da50ebbefc9487482e623805c86a85b",
       "rows": 1,
       "style": "IPY_MODEL_ae52a8f8f5b7453b92078d46f4d582a9"
      }
     },
     "bbe374a455034207af8cbd1ee6d9b0ab": {
      "model_module": "@jupyter-widgets/controls",
      "model_module_version": "1.1.0",
      "model_name": "IntTextModel",
      "state": {
       "layout": "IPY_MODEL_c929b4f43eeb403197551875314732fd",
       "step": 1,
       "style": "IPY_MODEL_c70492fbf5434d99a813a4e76e2e864b",
       "value": 2
      }
     },
     "bbfc783b45464bf2838404564a399248": {
      "model_module": "@jupyter-widgets/controls",
      "model_module_version": "1.1.0",
      "model_name": "CheckboxModel",
      "state": {
       "description": "Errors",
       "disabled": false,
       "layout": "IPY_MODEL_535cf873776249788f2cdf7731497364",
       "style": "IPY_MODEL_5db5d124104e480ca544b5be68072d65",
       "value": false
      }
     },
     "bc41a7329d9e4cd9a6b73aae18394e1c": {
      "model_module": "@jupyter-widgets/controls",
      "model_module_version": "1.1.0",
      "model_name": "DescriptionStyleModel",
      "state": {
       "description_width": ""
      }
     },
     "bcafe62dd29a40c083f834be2e980c0b": {
      "model_module": "@jupyter-widgets/base",
      "model_module_version": "1.0.0",
      "model_name": "LayoutModel",
      "state": {}
     },
     "bcd08b8ae5b64585a7d7382019eb0d0a": {
      "model_module": "@jupyter-widgets/base",
      "model_module_version": "1.0.0",
      "model_name": "LayoutModel",
      "state": {
       "width": "100%"
      }
     },
     "bd018e8a8674445b84253110d8fe5e39": {
      "model_module": "@jupyter-widgets/controls",
      "model_module_version": "1.1.0",
      "model_name": "DescriptionStyleModel",
      "state": {
       "description_width": "initial"
      }
     },
     "bd24f0b3495745f78be49a5dfd17c415": {
      "model_module": "@jupyter-widgets/controls",
      "model_module_version": "1.1.0",
      "model_name": "DescriptionStyleModel",
      "state": {
       "description_width": ""
      }
     },
     "bd9f1f05825046fc9d6d2afa6d995ab4": {
      "model_module": "@jupyter-widgets/controls",
      "model_module_version": "1.1.0",
      "model_name": "DescriptionStyleModel",
      "state": {
       "description_width": ""
      }
     },
     "bddbf2780f304607ab26817810fcd727": {
      "model_module": "@jupyter-widgets/base",
      "model_module_version": "1.0.0",
      "model_name": "LayoutModel",
      "state": {}
     },
     "bdfef4af973a47688bd42f95162b0724": {
      "model_module": "@jupyter-widgets/controls",
      "model_module_version": "1.1.0",
      "model_name": "LabelModel",
      "state": {
       "layout": "IPY_MODEL_a267b9651ee64a73b3880b5afe173db6",
       "style": "IPY_MODEL_77b8b4b00a8a4845b232f072837a7970",
       "value": "of 3"
      }
     },
     "be767964cd8d45ffa4ebe0f0373a3ecb": {
      "model_module": "@jupyter-widgets/controls",
      "model_module_version": "1.1.0",
      "model_name": "CheckboxModel",
      "state": {
       "description": "Show Targets",
       "disabled": false,
       "layout": "IPY_MODEL_d0efc5b93d1b427d991025764c7c76c5",
       "style": "IPY_MODEL_14abd11ef3bf4a5e82f64438b11bfa5c",
       "value": false
      }
     },
     "bed355dcc0f3403aa10d09fded4fe1be": {
      "model_module": "@jupyter-widgets/controls",
      "model_module_version": "1.1.0",
      "model_name": "ButtonStyleModel",
      "state": {}
     },
     "bef404057afb4051ab2515ca3720c400": {
      "model_module": "@jupyter-widgets/base",
      "model_module_version": "1.0.0",
      "model_name": "LayoutModel",
      "state": {
       "width": "100%"
      }
     },
     "bf43e93f135c4eaea8b763fc253583ee": {
      "model_module": "@jupyter-widgets/controls",
      "model_module_version": "1.1.0",
      "model_name": "SelectModel",
      "state": {
       "_options_labels": [
        "",
        "Accent",
        "Accent_r",
        "Blues",
        "Blues_r",
        "BrBG",
        "BrBG_r",
        "BuGn",
        "BuGn_r",
        "BuPu",
        "BuPu_r",
        "CMRmap",
        "CMRmap_r",
        "Dark2",
        "Dark2_r",
        "GnBu",
        "GnBu_r",
        "Greens",
        "Greens_r",
        "Greys",
        "Greys_r",
        "OrRd",
        "OrRd_r",
        "Oranges",
        "Oranges_r",
        "PRGn",
        "PRGn_r",
        "Paired",
        "Paired_r",
        "Pastel1",
        "Pastel1_r",
        "Pastel2",
        "Pastel2_r",
        "PiYG",
        "PiYG_r",
        "PuBu",
        "PuBuGn",
        "PuBuGn_r",
        "PuBu_r",
        "PuOr",
        "PuOr_r",
        "PuRd",
        "PuRd_r",
        "Purples",
        "Purples_r",
        "RdBu",
        "RdBu_r",
        "RdGy",
        "RdGy_r",
        "RdPu",
        "RdPu_r",
        "RdYlBu",
        "RdYlBu_r",
        "RdYlGn",
        "RdYlGn_r",
        "Reds",
        "Reds_r",
        "Set1",
        "Set1_r",
        "Set2",
        "Set2_r",
        "Set3",
        "Set3_r",
        "Spectral",
        "Spectral_r",
        "Vega10",
        "Vega10_r",
        "Vega20",
        "Vega20_r",
        "Vega20b",
        "Vega20b_r",
        "Vega20c",
        "Vega20c_r",
        "Wistia",
        "Wistia_r",
        "YlGn",
        "YlGnBu",
        "YlGnBu_r",
        "YlGn_r",
        "YlOrBr",
        "YlOrBr_r",
        "YlOrRd",
        "YlOrRd_r",
        "afmhot",
        "afmhot_r",
        "autumn",
        "autumn_r",
        "binary",
        "binary_r",
        "bone",
        "bone_r",
        "brg",
        "brg_r",
        "bwr",
        "bwr_r",
        "cool",
        "cool_r",
        "coolwarm",
        "coolwarm_r",
        "copper",
        "copper_r",
        "cubehelix",
        "cubehelix_r",
        "flag",
        "flag_r",
        "gist_earth",
        "gist_earth_r",
        "gist_gray",
        "gist_gray_r",
        "gist_heat",
        "gist_heat_r",
        "gist_ncar",
        "gist_ncar_r",
        "gist_rainbow",
        "gist_rainbow_r",
        "gist_stern",
        "gist_stern_r",
        "gist_yarg",
        "gist_yarg_r",
        "gnuplot",
        "gnuplot2",
        "gnuplot2_r",
        "gnuplot_r",
        "gray",
        "gray_r",
        "hot",
        "hot_r",
        "hsv",
        "hsv_r",
        "inferno",
        "inferno_r",
        "jet",
        "jet_r",
        "magma",
        "magma_r",
        "nipy_spectral",
        "nipy_spectral_r",
        "ocean",
        "ocean_r",
        "pink",
        "pink_r",
        "plasma",
        "plasma_r",
        "prism",
        "prism_r",
        "rainbow",
        "rainbow_r",
        "seismic",
        "seismic_r",
        "spectral",
        "spectral_r",
        "spring",
        "spring_r",
        "summer",
        "summer_r",
        "tab10",
        "tab10_r",
        "tab20",
        "tab20_r",
        "tab20b",
        "tab20b_r",
        "tab20c",
        "tab20c_r",
        "terrain",
        "terrain_r",
        "viridis",
        "viridis_r",
        "winter",
        "winter_r"
       ],
       "description": "Colormap:",
       "index": 0,
       "layout": "IPY_MODEL_129b806245d74415b1a12e759f3d4771",
       "rows": 1,
       "style": "IPY_MODEL_8530c9b3c3af4cc9a97335987a9afe08"
      }
     },
     "bf882fa2b76445e7a9a0adf0cf2cfed3": {
      "model_module": "@jupyter-widgets/base",
      "model_module_version": "1.0.0",
      "model_name": "LayoutModel",
      "state": {}
     },
     "bfb7f9107fac4d1499b0a290a60b67ac": {
      "model_module": "@jupyter-widgets/controls",
      "model_module_version": "1.1.0",
      "model_name": "ButtonStyleModel",
      "state": {}
     },
     "bfd8a82c72ff4059bcbe2e9d5c6a6f0b": {
      "model_module": "@jupyter-widgets/controls",
      "model_module_version": "1.1.0",
      "model_name": "ButtonStyleModel",
      "state": {}
     },
     "bfe8bb370078421eb1ddfb874fa33e06": {
      "model_module": "@jupyter-widgets/controls",
      "model_module_version": "1.1.0",
      "model_name": "ButtonModel",
      "state": {
       "icon": "save",
       "layout": "IPY_MODEL_b8102a276e0648418fc3a1a570483f18",
       "style": "IPY_MODEL_da86e082ef1f4182b9a2df37cdc09660"
      }
     },
     "c0f022558b3b45a395f9d1120573ab03": {
      "model_module": "@jupyter-widgets/base",
      "model_module_version": "1.0.0",
      "model_name": "LayoutModel",
      "state": {}
     },
     "c138abcf91084b8fbdb9a3e7d70a8d5e": {
      "model_module": "@jupyter-widgets/controls",
      "model_module_version": "1.1.0",
      "model_name": "AccordionModel",
      "state": {
       "_titles": {
        "0": "XOR in Time"
       },
       "children": [
        "IPY_MODEL_9a2644a250c44c99a04e8ee25d482a74"
       ],
       "layout": "IPY_MODEL_7b078a6e005e4a8984b2e183279f13c7",
       "selected_index": null
      }
     },
     "c20cc958a31d481388b9f9c5791024b0": {
      "model_module": "@jupyter-widgets/controls",
      "model_module_version": "1.1.0",
      "model_name": "ButtonModel",
      "state": {
       "description": "Play",
       "icon": "play",
       "layout": "IPY_MODEL_e7a3e36303c647e985f9cf65b827b8b1",
       "style": "IPY_MODEL_3dfb6d50babb4076b40d9e323884a743"
      }
     },
     "c210bee395f14bdf801b49821f9589ad": {
      "model_module": "@jupyter-widgets/controls",
      "model_module_version": "1.1.0",
      "model_name": "ButtonModel",
      "state": {
       "icon": "fast-backward",
       "layout": "IPY_MODEL_6ac4e66fc65248df9560fb6e4f2e78b8",
       "style": "IPY_MODEL_d8df862164014fd3bfde4b1abdd5a22c"
      }
     },
     "c21b86016bea45efaf56b10ffa80020b": {
      "model_module": "@jupyter-widgets/controls",
      "model_module_version": "1.1.0",
      "model_name": "IntTextModel",
      "state": {
       "description": "Horizontal space between banks:",
       "layout": "IPY_MODEL_4ce4e5a3e9f1434ea001172d2a6293aa",
       "step": 1,
       "style": "IPY_MODEL_8cd35002f8d44c5c9cdb9bbd5c1acd57",
       "value": 150
      }
     },
     "c2461881e6e94f9b959c26014fd365b0": {
      "model_module": "@jupyter-widgets/controls",
      "model_module_version": "1.1.0",
      "model_name": "ButtonStyleModel",
      "state": {}
     },
     "c26f9fb59d584637b20889de03f1d1d2": {
      "model_module": "@jupyter-widgets/controls",
      "model_module_version": "1.1.0",
      "model_name": "DescriptionStyleModel",
      "state": {
       "description_width": ""
      }
     },
     "c2ac22b8a9e64b74b7bc622ec00c1464": {
      "model_module": "@jupyter-widgets/controls",
      "model_module_version": "1.1.0",
      "model_name": "DescriptionStyleModel",
      "state": {
       "description_width": "initial"
      }
     },
     "c3a42c11ed8c46e583c6cda0ab474774": {
      "model_module": "@jupyter-widgets/base",
      "model_module_version": "1.0.0",
      "model_name": "LayoutModel",
      "state": {}
     },
     "c449a6474a49405aa6dc140edfa85cb6": {
      "model_module": "@jupyter-widgets/controls",
      "model_module_version": "1.1.0",
      "model_name": "DescriptionStyleModel",
      "state": {
       "description_width": ""
      }
     },
     "c4931b8b0dfc4f54905dfb2861e2f05f": {
      "model_module": "@jupyter-widgets/controls",
      "model_module_version": "1.1.0",
      "model_name": "VBoxModel",
      "state": {
       "children": [
        "IPY_MODEL_a4aba87fd7f14c4099648d82f9cead3c",
        "IPY_MODEL_a2daebcbc16548c28c1eb7b883af3dec",
        "IPY_MODEL_ef9508a877384e9fb158faf928956e11",
        "IPY_MODEL_0ed0a11c2be2427f9180803b53a55607",
        "IPY_MODEL_33c77f3c06d64c4baceb2d095f697d68",
        "IPY_MODEL_1a8e415c17a949a58c1f8d544ede76a4",
        "IPY_MODEL_4cc7befa1a8e47a1b3e0f7117691bce9",
        "IPY_MODEL_df32bc693f964d2ca92cfc272e8ca586"
       ],
       "layout": "IPY_MODEL_f6a48c16256641f39af2505b7717976c"
      }
     },
     "c4b05d3de1e44c7e9a1d84ba6601c266": {
      "model_module": "@jupyter-widgets/controls",
      "model_module_version": "1.1.0",
      "model_name": "HBoxModel",
      "state": {
       "children": [
        "IPY_MODEL_fda0f0479070495f80ab629a615d4fdb",
        "IPY_MODEL_49fe73eaa1844e1a90887c52ecf888bc",
        "IPY_MODEL_40061b02e69a4fc792f2e78a1318aa6b",
        "IPY_MODEL_fa86debc53fb47ea8f456afe1f81e76e",
        "IPY_MODEL_ae0f8f36262c475188a71ce2e46c8269",
        "IPY_MODEL_24d142e90a5c404b8036c20292acd560",
        "IPY_MODEL_a041396094a746d4bbe1e8531ac5698d"
       ],
       "layout": "IPY_MODEL_b59f293a2b924d7686fe42d12cece9a5"
      }
     },
     "c4ebf6c5828f45feab29325a97f5afd6": {
      "model_module": "@jupyter-widgets/controls",
      "model_module_version": "1.1.0",
      "model_name": "HBoxModel",
      "state": {
       "children": [
        "IPY_MODEL_f059480bfcd94231ab028bb0fde4777d",
        "IPY_MODEL_6fa243b604784379961ab767695e64e3",
        "IPY_MODEL_dfa018d072ce45729f698b22e82c61ae",
        "IPY_MODEL_1a8a6691241d480a903fe0ae3edeeb85",
        "IPY_MODEL_0548b9352bc347cba22aa06e2ddce04b",
        "IPY_MODEL_0ffcb57a2bac45119c77fb8a59b0cd8f",
        "IPY_MODEL_4e8abcce0ff94cd7a442da369dec61aa"
       ],
       "layout": "IPY_MODEL_f17d39e3f5eb4d9e88cb8b09b4d50659"
      }
     },
     "c509a72c75964f31be039958fb51ad33": {
      "model_module": "@jupyter-widgets/controls",
      "model_module_version": "1.1.0",
      "model_name": "HBoxModel",
      "state": {
       "children": [
        "IPY_MODEL_6ac7d23235e64ca79907e7e68c19aa99",
        "IPY_MODEL_97eaf291a3ef4544b7a006d8cfef9f37"
       ],
       "layout": "IPY_MODEL_51774fb793864330a66d639579f8e066"
      }
     },
     "c55abc9012a14deabe8f181517947230": {
      "model_module": "@jupyter-widgets/base",
      "model_module_version": "1.0.0",
      "model_name": "LayoutModel",
      "state": {}
     },
     "c5a2a0f618884e489d23fa34aea37f35": {
      "model_module": "@jupyter-widgets/base",
      "model_module_version": "1.0.0",
      "model_name": "LayoutModel",
      "state": {
       "width": "100px"
      }
     },
     "c5ac14095c594f6ba1dc0ce37732bce3": {
      "model_module": "@jupyter-widgets/controls",
      "model_module_version": "1.1.0",
      "model_name": "IntTextModel",
      "state": {
       "description": "Horizontal space between banks:",
       "layout": "IPY_MODEL_2654fbe51a30422e849f5cb742292019",
       "step": 1,
       "style": "IPY_MODEL_818ec9e911074771960a21d41b9897ef",
       "value": 150
      }
     },
     "c660a02872c145a8adf29c226acee9f3": {
      "model_module": "@jupyter-widgets/controls",
      "model_module_version": "1.1.0",
      "model_name": "HBoxModel",
      "state": {
       "children": [
        "IPY_MODEL_620038d7ff4d4fefb88c80a7c69a7033",
        "IPY_MODEL_aa138fbe02274700bbb55bcd0c7ee109"
       ],
       "layout": "IPY_MODEL_65c980ebbe114c4699297a1063ccb1d5"
      }
     },
     "c6637f7bc53f4c3fa0e12c43fe6b1451": {
      "model_module": "@jupyter-widgets/base",
      "model_module_version": "1.0.0",
      "model_name": "LayoutModel",
      "state": {
       "width": "100%"
      }
     },
     "c673decd20ae4bdea8e14552d02f3e9a": {
      "model_module": "@jupyter-widgets/base",
      "model_module_version": "1.0.0",
      "model_name": "LayoutModel",
      "state": {
       "width": "65%"
      }
     },
     "c6c0edd68f3f44678522c66ca82391d6": {
      "model_module": "@jupyter-widgets/controls",
      "model_module_version": "1.1.0",
      "model_name": "DescriptionStyleModel",
      "state": {
       "description_width": "initial"
      }
     },
     "c6e50f6865d24cc0b3e7e517004bd8a7": {
      "model_module": "@jupyter-widgets/base",
      "model_module_version": "1.0.0",
      "model_name": "LayoutModel",
      "state": {
       "height": "50px",
       "width": "100%"
      }
     },
     "c70492fbf5434d99a813a4e76e2e864b": {
      "model_module": "@jupyter-widgets/controls",
      "model_module_version": "1.1.0",
      "model_name": "DescriptionStyleModel",
      "state": {
       "description_width": ""
      }
     },
     "c72f41751bb040fab041355e852986ac": {
      "model_module": "@jupyter-widgets/base",
      "model_module_version": "1.0.0",
      "model_name": "LayoutModel",
      "state": {}
     },
     "c761410faa2147eea780fc3aeb832dbc": {
      "model_module": "@jupyter-widgets/controls",
      "model_module_version": "1.1.0",
      "model_name": "SelectModel",
      "state": {
       "_options_labels": [
        "input",
        "context",
        "hidden",
        "output"
       ],
       "description": "Layer:",
       "index": 3,
       "layout": "IPY_MODEL_cccebac344554400948bbddfc228fb53",
       "rows": 1,
       "style": "IPY_MODEL_82a726043afd4d7182d390519bfa001e"
      }
     },
     "c7617260690c4c4aa0c16bee4c0cc176": {
      "model_module": "@jupyter-widgets/base",
      "model_module_version": "1.0.0",
      "model_name": "LayoutModel",
      "state": {}
     },
     "c803ac285f6c4f63ba8e43c6860775ad": {
      "model_module": "@jupyter-widgets/controls",
      "model_module_version": "1.1.0",
      "model_name": "DescriptionStyleModel",
      "state": {
       "description_width": "initial"
      }
     },
     "c8d8d3b62159441dbad65869c5e0ac64": {
      "model_module": "@jupyter-widgets/controls",
      "model_module_version": "1.1.0",
      "model_name": "ButtonModel",
      "state": {
       "description": "Play",
       "icon": "play",
       "layout": "IPY_MODEL_405d01e60ecd4f7bb31fa99bff5524d4",
       "style": "IPY_MODEL_d225472662b0437498a235cb7c00d368"
      }
     },
     "c8e032a0eda54352b1b4574afecb2ee5": {
      "model_module": "@jupyter-widgets/controls",
      "model_module_version": "1.1.0",
      "model_name": "ButtonStyleModel",
      "state": {}
     },
     "c90032810e5e4c89af3bdbf323532bdd": {
      "model_module": "@jupyter-widgets/controls",
      "model_module_version": "1.1.0",
      "model_name": "ButtonStyleModel",
      "state": {}
     },
     "c91f9573be7b4e7ba09150155847b39d": {
      "model_module": "@jupyter-widgets/controls",
      "model_module_version": "1.1.0",
      "model_name": "SliderStyleModel",
      "state": {
       "description_width": "initial"
      }
     },
     "c929b4f43eeb403197551875314732fd": {
      "model_module": "@jupyter-widgets/base",
      "model_module_version": "1.0.0",
      "model_name": "LayoutModel",
      "state": {
       "width": "100%"
      }
     },
     "ca018bc9aa164373b42f98c008e0341a": {
      "model_module": "@jupyter-widgets/controls",
      "model_module_version": "1.1.0",
      "model_name": "SliderStyleModel",
      "state": {
       "description_width": "initial"
      }
     },
     "ca514c74bc6f4f788a5647a9abfc96d7": {
      "model_module": "@jupyter-widgets/controls",
      "model_module_version": "1.1.0",
      "model_name": "SliderStyleModel",
      "state": {
       "description_width": "initial"
      }
     },
     "ca9b25a168744572aa4d227ed14a5321": {
      "model_module": "@jupyter-widgets/controls",
      "model_module_version": "1.1.0",
      "model_name": "ButtonStyleModel",
      "state": {}
     },
     "cb191297211447d1a566973e4d875d2c": {
      "model_module": "@jupyter-widgets/controls",
      "model_module_version": "1.1.0",
      "model_name": "DescriptionStyleModel",
      "state": {
       "description_width": "initial"
      }
     },
     "cb1b08b97f3243ae9883c8a5b5501b37": {
      "model_module": "@jupyter-widgets/controls",
      "model_module_version": "1.1.0",
      "model_name": "IntTextModel",
      "state": {
       "description": "Vertical space between layers:",
       "layout": "IPY_MODEL_fc7b3648e0f04817bff1a149c87f3535",
       "step": 1,
       "style": "IPY_MODEL_1e8768e2f2a649c8bd7e42794608d003",
       "value": 30
      }
     },
     "cbb3d665efd049fe9cc27d81a4296e87": {
      "model_module": "@jupyter-widgets/controls",
      "model_module_version": "1.1.0",
      "model_name": "DescriptionStyleModel",
      "state": {
       "description_width": ""
      }
     },
     "cbdf991d2cfc47a7b86af8ebf3703ec4": {
      "model_module": "@jupyter-widgets/controls",
      "model_module_version": "1.1.0",
      "model_name": "IntTextModel",
      "state": {
       "description": "Feature columns:",
       "layout": "IPY_MODEL_d42d918b77124236b93840c39427da58",
       "step": 1,
       "style": "IPY_MODEL_6f8e2da4ebfe402880e8c85880cb4742",
       "value": 3
      }
     },
     "cbec2d841e644f25bc84bdc95696abf2": {
      "model_module": "@jupyter-widgets/controls",
      "model_module_version": "1.1.0",
      "model_name": "DescriptionStyleModel",
      "state": {
       "description_width": ""
      }
     },
     "cbee14f7cf484f9880cc8f61cd0726ee": {
      "model_module": "@jupyter-widgets/controls",
      "model_module_version": "1.1.0",
      "model_name": "ButtonStyleModel",
      "state": {}
     },
     "cc5ebbccbb554f5899b1744b7edab420": {
      "model_module": "@jupyter-widgets/controls",
      "model_module_version": "1.1.0",
      "model_name": "IntSliderModel",
      "state": {
       "continuous_update": false,
       "description": "Dataset index",
       "layout": "IPY_MODEL_e5b44eafb9704f138397cc566b1ac816",
       "max": 2,
       "style": "IPY_MODEL_65be3641a8b145dbab723604ac9556c4"
      }
     },
     "cc70412ddcb447e3b34421dfa89e5a1d": {
      "model_module": "@jupyter-widgets/controls",
      "model_module_version": "1.1.0",
      "model_name": "SliderStyleModel",
      "state": {
       "description_width": ""
      }
     },
     "cccebac344554400948bbddfc228fb53": {
      "model_module": "@jupyter-widgets/base",
      "model_module_version": "1.0.0",
      "model_name": "LayoutModel",
      "state": {}
     },
     "cdc889dc0d374046b80fbf9656d6cb57": {
      "model_module": "@jupyter-widgets/controls",
      "model_module_version": "1.1.0",
      "model_name": "ButtonStyleModel",
      "state": {}
     },
     "cdfedb2973ab4adfb26d7de1007ef029": {
      "model_module": "@jupyter-widgets/controls",
      "model_module_version": "1.1.0",
      "model_name": "FloatTextModel",
      "state": {
       "description": "Leftmost color maps to:",
       "layout": "IPY_MODEL_6edeab869d0f4c9da4c2bf1480f947a6",
       "step": null,
       "style": "IPY_MODEL_492db0bfaf034bbb90fc128e031d0c18"
      }
     },
     "ce30e8ac9ce94b40b0b21d6d4d2ed0f5": {
      "model_module": "@jupyter-widgets/controls",
      "model_module_version": "1.1.0",
      "model_name": "IntTextModel",
      "state": {
       "description": "Feature columns:",
       "layout": "IPY_MODEL_33962f3d4a904adbafc938440bcf278f",
       "step": 1,
       "style": "IPY_MODEL_3b3f464d2377459f9bcbf0892986a234",
       "value": 3
      }
     },
     "cead32d607484cd8b0d547cf19ac46b4": {
      "model_module": "@jupyter-widgets/controls",
      "model_module_version": "1.1.0",
      "model_name": "IntTextModel",
      "state": {
       "description": "Feature columns:",
       "layout": "IPY_MODEL_bcafe62dd29a40c083f834be2e980c0b",
       "step": 1,
       "style": "IPY_MODEL_84295287b34a42b680a74ecfe87dfca9",
       "value": 3
      }
     },
     "cecec0eecd114ae293689a9dbe106ce3": {
      "model_module": "@jupyter-widgets/controls",
      "model_module_version": "1.1.0",
      "model_name": "ButtonModel",
      "state": {
       "icon": "forward",
       "layout": "IPY_MODEL_8dd72322a0e84efdab6af85853996df7",
       "style": "IPY_MODEL_0e8eee0fdf9c42c5b19c67b21142a5d5"
      }
     },
     "cf3042d4b58c434eb331af5522ca5bf7": {
      "model_module": "@jupyter-widgets/base",
      "model_module_version": "1.0.0",
      "model_name": "LayoutModel",
      "state": {
       "width": "100%"
      }
     },
     "cf6c8b944b41405388d9dd0fd33cf3be": {
      "model_module": "@jupyter-widgets/base",
      "model_module_version": "1.0.0",
      "model_name": "LayoutModel",
      "state": {
       "justify_content": "center",
       "overflow_x": "auto",
       "overflow_y": "auto",
       "width": "95%"
      }
     },
     "cf7c5026da3d4768bcc471aec9775386": {
      "model_module": "@jupyter-widgets/controls",
      "model_module_version": "1.1.0",
      "model_name": "DescriptionStyleModel",
      "state": {
       "description_width": "initial"
      }
     },
     "cfd1b986442e419ea30083e5dc542dd8": {
      "model_module": "@jupyter-widgets/controls",
      "model_module_version": "1.1.0",
      "model_name": "HTMLModel",
      "state": {
       "layout": "IPY_MODEL_4230db22df9e4d789ad4e157bc6f6301",
       "style": "IPY_MODEL_3b92be27bc6b4a0fb4557bb608ae3e78",
       "value": "<img src=\"data:image/gif;base64,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\"/>"
      }
     },
     "cffbe4a2d26a48b3b322bcf456bf3d0d": {
      "model_module": "@jupyter-widgets/output",
      "model_module_version": "1.0.0",
      "model_name": "OutputModel",
      "state": {
       "layout": "IPY_MODEL_c72f41751bb040fab041355e852986ac"
      }
     },
     "d00510e5422d4f12a59147dd0e6dd742": {
      "model_module": "@jupyter-widgets/controls",
      "model_module_version": "1.1.0",
      "model_name": "CheckboxModel",
      "state": {
       "description": "Errors",
       "disabled": false,
       "layout": "IPY_MODEL_4ce4e5a3e9f1434ea001172d2a6293aa",
       "style": "IPY_MODEL_cf7c5026da3d4768bcc471aec9775386",
       "value": false
      }
     },
     "d01f84cb720f443f9445bb905086c0d1": {
      "model_module": "@jupyter-widgets/controls",
      "model_module_version": "1.1.0",
      "model_name": "SliderStyleModel",
      "state": {
       "description_width": ""
      }
     },
     "d07d3836c66044a49e21baa87c8d7378": {
      "model_module": "@jupyter-widgets/base",
      "model_module_version": "1.0.0",
      "model_name": "LayoutModel",
      "state": {}
     },
     "d089c308e9d54a4fb2504530cdc04ad2": {
      "model_module": "@jupyter-widgets/controls",
      "model_module_version": "1.1.0",
      "model_name": "LabelModel",
      "state": {
       "layout": "IPY_MODEL_07f15707d2ee4db8a11e6e9c5eb05322",
       "style": "IPY_MODEL_f5e05c3226ec4bc8837653d015e5d289",
       "value": "of 3"
      }
     },
     "d0efc5b93d1b427d991025764c7c76c5": {
      "model_module": "@jupyter-widgets/base",
      "model_module_version": "1.0.0",
      "model_name": "LayoutModel",
      "state": {}
     },
     "d16246cd53af4b13a977717d8a8ef465": {
      "model_module": "@jupyter-widgets/controls",
      "model_module_version": "1.1.0",
      "model_name": "DescriptionStyleModel",
      "state": {
       "description_width": ""
      }
     },
     "d225472662b0437498a235cb7c00d368": {
      "model_module": "@jupyter-widgets/controls",
      "model_module_version": "1.1.0",
      "model_name": "ButtonStyleModel",
      "state": {}
     },
     "d29096ce858d460db5954a58ec9551fc": {
      "model_module": "@jupyter-widgets/base",
      "model_module_version": "1.0.0",
      "model_name": "LayoutModel",
      "state": {
       "width": "100%"
      }
     },
     "d2d0cf7be6024463a1dc5d3a15b15850": {
      "model_module": "@jupyter-widgets/controls",
      "model_module_version": "1.1.0",
      "model_name": "DescriptionStyleModel",
      "state": {
       "description_width": "initial"
      }
     },
     "d33a862fe04e45e6b584252764026818": {
      "model_module": "@jupyter-widgets/base",
      "model_module_version": "1.0.0",
      "model_name": "LayoutModel",
      "state": {}
     },
     "d348291e6d684f3a987d5e4fb8ae6aae": {
      "model_module": "@jupyter-widgets/controls",
      "model_module_version": "1.1.0",
      "model_name": "DescriptionStyleModel",
      "state": {
       "description_width": ""
      }
     },
     "d37c66eb6df647b0b1f5fb92c127de53": {
      "model_module": "@jupyter-widgets/base",
      "model_module_version": "1.0.0",
      "model_name": "LayoutModel",
      "state": {
       "width": "100px"
      }
     },
     "d3c7093bc4a84e34b137805e6c9838a3": {
      "model_module": "@jupyter-widgets/controls",
      "model_module_version": "1.1.0",
      "model_name": "DescriptionStyleModel",
      "state": {
       "description_width": ""
      }
     },
     "d3ebbe3a855f4092aa46f738c570a6d0": {
      "model_module": "@jupyter-widgets/controls",
      "model_module_version": "1.1.0",
      "model_name": "ButtonStyleModel",
      "state": {}
     },
     "d42d918b77124236b93840c39427da58": {
      "model_module": "@jupyter-widgets/base",
      "model_module_version": "1.0.0",
      "model_name": "LayoutModel",
      "state": {}
     },
     "d4419bead587437f895af68873c063ce": {
      "model_module": "@jupyter-widgets/controls",
      "model_module_version": "1.1.0",
      "model_name": "ButtonStyleModel",
      "state": {}
     },
     "d487b348f549452993db4645bb9de49d": {
      "model_module": "@jupyter-widgets/base",
      "model_module_version": "1.0.0",
      "model_name": "LayoutModel",
      "state": {}
     },
     "d615f86a702f49b08bfe27b3ff6c96b4": {
      "model_module": "@jupyter-widgets/controls",
      "model_module_version": "1.1.0",
      "model_name": "DescriptionStyleModel",
      "state": {
       "description_width": "initial"
      }
     },
     "d616cf1f0b764f3abc35637c857670fc": {
      "model_module": "@jupyter-widgets/controls",
      "model_module_version": "1.1.0",
      "model_name": "IntTextModel",
      "state": {
       "layout": "IPY_MODEL_4eb3f8f9b560408f921356a97317954c",
       "step": 1,
       "style": "IPY_MODEL_5419b7056e8d4251bfeeffc71bc405bd"
      }
     },
     "d6d1ea051acc46e0acb8215b6660d1f5": {
      "model_module": "@jupyter-widgets/base",
      "model_module_version": "1.0.0",
      "model_name": "LayoutModel",
      "state": {}
     },
     "d7038515aba64b7ba2ffc2601e5d47da": {
      "model_module": "@jupyter-widgets/controls",
      "model_module_version": "1.1.0",
      "model_name": "DescriptionStyleModel",
      "state": {
       "description_width": "initial"
      }
     },
     "d7e61ab57c1248c8a12770d9a2c1ba8c": {
      "model_module": "@jupyter-widgets/base",
      "model_module_version": "1.0.0",
      "model_name": "LayoutModel",
      "state": {
       "width": "100%"
      }
     },
     "d7f4105f38ff4ba39fdab7983ccb9dcd": {
      "model_module": "@jupyter-widgets/controls",
      "model_module_version": "1.1.0",
      "model_name": "LabelModel",
      "state": {
       "layout": "IPY_MODEL_c5a2a0f618884e489d23fa34aea37f35",
       "style": "IPY_MODEL_adf305cc43144fbb9a93c9dc84472c56",
       "value": "of 3"
      }
     },
     "d8503f274f734fc480caa9fc5ac78883": {
      "model_module": "@jupyter-widgets/controls",
      "model_module_version": "1.1.0",
      "model_name": "FloatTextModel",
      "state": {
       "description": "Rightmost color maps to:",
       "layout": "IPY_MODEL_606c7a8a48614ce592ecc018fe2a4465",
       "step": null,
       "style": "IPY_MODEL_c2ac22b8a9e64b74b7bc622ec00c1464",
       "value": 1
      }
     },
     "d85451b9566f4767a554d6c9b84046e2": {
      "model_module": "@jupyter-widgets/base",
      "model_module_version": "1.0.0",
      "model_name": "LayoutModel",
      "state": {
       "width": "100%"
      }
     },
     "d8664c669e1146a99b2737693b6c138b": {
      "model_module": "@jupyter-widgets/controls",
      "model_module_version": "1.1.0",
      "model_name": "DescriptionStyleModel",
      "state": {
       "description_width": "initial"
      }
     },
     "d8825b1912a34e01957775a2f9efa176": {
      "model_module": "@jupyter-widgets/base",
      "model_module_version": "1.0.0",
      "model_name": "LayoutModel",
      "state": {
       "width": "100%"
      }
     },
     "d8df862164014fd3bfde4b1abdd5a22c": {
      "model_module": "@jupyter-widgets/controls",
      "model_module_version": "1.1.0",
      "model_name": "ButtonStyleModel",
      "state": {}
     },
     "d8ecc3e763d04b65930dbb18c39618bd": {
      "model_module": "@jupyter-widgets/controls",
      "model_module_version": "1.1.0",
      "model_name": "CheckboxModel",
      "state": {
       "description": "Visible",
       "disabled": false,
       "layout": "IPY_MODEL_d0efc5b93d1b427d991025764c7c76c5",
       "style": "IPY_MODEL_6e6f49d4a2b54323b8c0ec04fad7b7a8",
       "value": true
      }
     },
     "d8fb4d44a4084e158bcfce3288d495b0": {
      "model_module": "@jupyter-widgets/controls",
      "model_module_version": "1.1.0",
      "model_name": "DescriptionStyleModel",
      "state": {
       "description_width": "initial"
      }
     },
     "d9271dd27e4c4c57993659625f2a19ce": {
      "model_module": "@jupyter-widgets/base",
      "model_module_version": "1.0.0",
      "model_name": "LayoutModel",
      "state": {
       "width": "100%"
      }
     },
     "d98c8b566aab4cf6b5e11cbfdf922ccb": {
      "model_module": "@jupyter-widgets/controls",
      "model_module_version": "1.1.0",
      "model_name": "SelectModel",
      "state": {
       "_options_labels": [
        "",
        "Accent",
        "Accent_r",
        "Blues",
        "Blues_r",
        "BrBG",
        "BrBG_r",
        "BuGn",
        "BuGn_r",
        "BuPu",
        "BuPu_r",
        "CMRmap",
        "CMRmap_r",
        "Dark2",
        "Dark2_r",
        "GnBu",
        "GnBu_r",
        "Greens",
        "Greens_r",
        "Greys",
        "Greys_r",
        "OrRd",
        "OrRd_r",
        "Oranges",
        "Oranges_r",
        "PRGn",
        "PRGn_r",
        "Paired",
        "Paired_r",
        "Pastel1",
        "Pastel1_r",
        "Pastel2",
        "Pastel2_r",
        "PiYG",
        "PiYG_r",
        "PuBu",
        "PuBuGn",
        "PuBuGn_r",
        "PuBu_r",
        "PuOr",
        "PuOr_r",
        "PuRd",
        "PuRd_r",
        "Purples",
        "Purples_r",
        "RdBu",
        "RdBu_r",
        "RdGy",
        "RdGy_r",
        "RdPu",
        "RdPu_r",
        "RdYlBu",
        "RdYlBu_r",
        "RdYlGn",
        "RdYlGn_r",
        "Reds",
        "Reds_r",
        "Set1",
        "Set1_r",
        "Set2",
        "Set2_r",
        "Set3",
        "Set3_r",
        "Spectral",
        "Spectral_r",
        "Vega10",
        "Vega10_r",
        "Vega20",
        "Vega20_r",
        "Vega20b",
        "Vega20b_r",
        "Vega20c",
        "Vega20c_r",
        "Wistia",
        "Wistia_r",
        "YlGn",
        "YlGnBu",
        "YlGnBu_r",
        "YlGn_r",
        "YlOrBr",
        "YlOrBr_r",
        "YlOrRd",
        "YlOrRd_r",
        "afmhot",
        "afmhot_r",
        "autumn",
        "autumn_r",
        "binary",
        "binary_r",
        "bone",
        "bone_r",
        "brg",
        "brg_r",
        "bwr",
        "bwr_r",
        "cool",
        "cool_r",
        "coolwarm",
        "coolwarm_r",
        "copper",
        "copper_r",
        "cubehelix",
        "cubehelix_r",
        "flag",
        "flag_r",
        "gist_earth",
        "gist_earth_r",
        "gist_gray",
        "gist_gray_r",
        "gist_heat",
        "gist_heat_r",
        "gist_ncar",
        "gist_ncar_r",
        "gist_rainbow",
        "gist_rainbow_r",
        "gist_stern",
        "gist_stern_r",
        "gist_yarg",
        "gist_yarg_r",
        "gnuplot",
        "gnuplot2",
        "gnuplot2_r",
        "gnuplot_r",
        "gray",
        "gray_r",
        "hot",
        "hot_r",
        "hsv",
        "hsv_r",
        "inferno",
        "inferno_r",
        "jet",
        "jet_r",
        "magma",
        "magma_r",
        "nipy_spectral",
        "nipy_spectral_r",
        "ocean",
        "ocean_r",
        "pink",
        "pink_r",
        "plasma",
        "plasma_r",
        "prism",
        "prism_r",
        "rainbow",
        "rainbow_r",
        "seismic",
        "seismic_r",
        "spectral",
        "spectral_r",
        "spring",
        "spring_r",
        "summer",
        "summer_r",
        "tab10",
        "tab10_r",
        "tab20",
        "tab20_r",
        "tab20b",
        "tab20b_r",
        "tab20c",
        "tab20c_r",
        "terrain",
        "terrain_r",
        "viridis",
        "viridis_r",
        "winter",
        "winter_r"
       ],
       "description": "Colormap:",
       "index": 0,
       "layout": "IPY_MODEL_68f866ff7fb44987936aa22ab5c8f2e2",
       "rows": 1,
       "style": "IPY_MODEL_ef955e1071544f5ea5d5181136d0d710"
      }
     },
     "d9b18b0eff854b1780dfdf0b1688c121": {
      "model_module": "@jupyter-widgets/base",
      "model_module_version": "1.0.0",
      "model_name": "LayoutModel",
      "state": {
       "width": "65%"
      }
     },
     "d9d84a9e8387401ba45752901f5436cb": {
      "model_module": "@jupyter-widgets/controls",
      "model_module_version": "1.1.0",
      "model_name": "ButtonStyleModel",
      "state": {}
     },
     "d9eb37dd54954e218f11eec8cbb9daaa": {
      "model_module": "@jupyter-widgets/base",
      "model_module_version": "1.0.0",
      "model_name": "LayoutModel",
      "state": {
       "width": "100%"
      }
     },
     "da09df85b9ae4aed9f13c69bc9f19355": {
      "model_module": "@jupyter-widgets/base",
      "model_module_version": "1.0.0",
      "model_name": "LayoutModel",
      "state": {
       "width": "100%"
      }
     },
     "da86e082ef1f4182b9a2df37cdc09660": {
      "model_module": "@jupyter-widgets/controls",
      "model_module_version": "1.1.0",
      "model_name": "ButtonStyleModel",
      "state": {}
     },
     "da876bce2294490a8477543edf470f3f": {
      "model_module": "@jupyter-widgets/base",
      "model_module_version": "1.0.0",
      "model_name": "LayoutModel",
      "state": {}
     },
     "dad8d68252d144058d3d12a9d158b2c3": {
      "model_module": "@jupyter-widgets/base",
      "model_module_version": "1.0.0",
      "model_name": "LayoutModel",
      "state": {
       "width": "10%"
      }
     },
     "db41152ae9084adcbc3d24047c6523a5": {
      "model_module": "@jupyter-widgets/controls",
      "model_module_version": "1.1.0",
      "model_name": "CheckboxModel",
      "state": {
       "description": "Show Targets",
       "disabled": false,
       "layout": "IPY_MODEL_fc7b3648e0f04817bff1a149c87f3535",
       "style": "IPY_MODEL_6d2d34c920fb4f34abd97d5fc11cfb4d",
       "value": false
      }
     },
     "dbf70d4b6c33417a8fe2883c5c96fa69": {
      "model_module": "@jupyter-widgets/controls",
      "model_module_version": "1.1.0",
      "model_name": "ButtonStyleModel",
      "state": {}
     },
     "dc4e1c9d2b454097b0595c73e8a638d9": {
      "model_module": "@jupyter-widgets/controls",
      "model_module_version": "1.1.0",
      "model_name": "IntTextModel",
      "state": {
       "description": "Vertical space between layers:",
       "layout": "IPY_MODEL_4ce4e5a3e9f1434ea001172d2a6293aa",
       "step": 1,
       "style": "IPY_MODEL_c803ac285f6c4f63ba8e43c6860775ad",
       "value": 30
      }
     },
     "dc973cd44fb94205bc8565916b28fa2a": {
      "model_module": "@jupyter-widgets/base",
      "model_module_version": "1.0.0",
      "model_name": "LayoutModel",
      "state": {
       "width": "100%"
      }
     },
     "dcd1d3dde618425c8f2a30f8c9c4b828": {
      "model_module": "@jupyter-widgets/controls",
      "model_module_version": "1.1.0",
      "model_name": "FloatTextModel",
      "state": {
       "description": "Feature scale:",
       "layout": "IPY_MODEL_8ebc048c9a6b48489d9f6b9a34ec98b8",
       "step": null,
       "style": "IPY_MODEL_7cb06ed16f334e73bba224d16f601e2a",
       "value": 1
      }
     },
     "dcfc11894df842529d93285b4507d8e9": {
      "model_module": "@jupyter-widgets/controls",
      "model_module_version": "1.1.0",
      "model_name": "ButtonStyleModel",
      "state": {}
     },
     "dd36ce2bfe824efebe65e468d867695c": {
      "model_module": "@jupyter-widgets/controls",
      "model_module_version": "1.1.0",
      "model_name": "CheckboxModel",
      "state": {
       "description": "Show Targets",
       "disabled": false,
       "layout": "IPY_MODEL_129b806245d74415b1a12e759f3d4771",
       "style": "IPY_MODEL_aa646f1cc9884a538479e4e1bdced926",
       "value": true
      }
     },
     "dd532bf8ae3b4a578507a9c7b4186ae1": {
      "model_module": "@jupyter-widgets/base",
      "model_module_version": "1.0.0",
      "model_name": "LayoutModel",
      "state": {}
     },
     "dd837a6822154c0782051ed82cb31b3a": {
      "model_module": "@jupyter-widgets/base",
      "model_module_version": "1.0.0",
      "model_name": "LayoutModel",
      "state": {
       "width": "100%"
      }
     },
     "dde7a32b7e414a6cade9fdafbfa4517b": {
      "model_module": "@jupyter-widgets/controls",
      "model_module_version": "1.1.0",
      "model_name": "HTMLModel",
      "state": {
       "layout": "IPY_MODEL_1e0f9c5868a94e7b80e2b9f073c52908",
       "style": "IPY_MODEL_31551b09233d4a22aa5bab9b4a0d1435",
       "value": "<p style=\"text-align:center\"><svg id='XOR in Time' xmlns='http://www.w3.org/2000/svg' image-rendering=\"pixelated\" width=\"400.0px\" height=\"189.0909090909091px\">\n <g >\n  <svg viewBox=\"0 0 550 260\" width=\"400.0px\" height=\"189.0909090909091px\">\n    <defs>\n        <marker id=\"arrow\" markerWidth=\"10\" markerHeight=\"10\" refX=\"9\" refY=\"3\" orient=\"auto\" markerUnits=\"strokeWidth\">\n          <path d=\"M0,0 L0,6 L9,3 z\" fill=\"black\" />\n        </marker>\n    </defs><rect x=\"249.0\" y=\"24\" width=\"52\" height=\"52\" style=\"fill:none;stroke:black;stroke-width:2\"/><image id=\"picture-dashboard-XOR in Time-538320_output_9\" class=\"picture-dashboard-XOR in Time-538320_output\" x=\"250.0\" y=\"25\" height=\"50\" width=\"50\" preserveAspectRatio=\"none\" href=\"data:image/gif;base64,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\"><title>Layer: output (output)\n output range: (0, 1)\n shape = (1,)\n Keras class = Dense\n activation = sigmoid</title></image><text x=\"305.0\" y=\"52.0\" font-family=\"monospace\" font-size=\"12\" text-anchor=\"start\" fill=\"black\" alignment-baseline=\"central\" >output</text><line x1=\"275.0\" y1=\"104\" x2=\"275.0\" y2=\"77\" stroke=\"black\" stroke-width=\"2\" marker-end=\"url(#arrow)\"><title>Weights from hidden to output\n output_9/kernel:0 has shape (5, 1)\n output_9/bias:0 has shape (1,)</title></line><rect x=\"174.0\" y=\"104\" width=\"202\" height=\"52\" style=\"fill:none;stroke:black;stroke-width:2\"/><image id=\"picture-dashboard-XOR in Time-538320_hidden_10\" class=\"picture-dashboard-XOR in Time-538320_hidden\" x=\"175.0\" y=\"105\" height=\"50\" width=\"200\" preserveAspectRatio=\"none\" href=\"data:image/gif;base64,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\"><title>Layer: hidden (hidden)\n output range: (0, 1)\n shape = (5,)\n Keras class = Dense\n activation = sigmoid</title></image><text x=\"380.0\" y=\"132.0\" font-family=\"monospace\" font-size=\"12\" text-anchor=\"start\" fill=\"black\" alignment-baseline=\"central\" >hidden</text><line x1=\"183.33333333333334\" y1=\"184\" x2=\"275.0\" y2=\"157\" stroke=\"black\" stroke-width=\"2\" marker-end=\"url(#arrow)\"><title>Weights from input to hidden\n hidden_9/kernel:0 has shape (6, 5)\n hidden_9/bias:0 has shape (5,)</title></line><rect x=\"157.33333333333334\" y=\"184\" width=\"52\" height=\"52\" style=\"fill:none;stroke:black;stroke-width:2\"/><image id=\"picture-dashboard-XOR in Time-538320_input_11\" class=\"picture-dashboard-XOR in Time-538320_input\" x=\"158.33333333333334\" y=\"185\" height=\"50\" width=\"50\" preserveAspectRatio=\"none\" href=\"data:image/gif;base64,R0lGODdhPgA+AIcAAAAAAAAAAAAAAAAAAAAAAAAAAAAAAAAAAAAAAAAAAAAAAAAAAAAAAAAAAAAAAAAAAAAAAAAAAAAAAAAAAAAAAAAAAAAAAAAAAAAAAAAAAAAAAAAAAAAAAAAAAAAAAAAAAAAAAAAAAAAAAAAAAAAAAAAAAAAAAAAAAAAAAAAAAAAAAAAAAAAAAAAAAAAAAAAAAAAAAAAAAAAAAAAAAAAAAAAAAAAAAAAAAAAAAAAAAAAAAAAAAAAAAAAAAAAAAAAAAAAAAAAAAAAAAAAAAAAAAAAAAAAAAAAAAAAAAAAAAAAAAAAAAAAAAAAAAAAAAAAAAAAAAAAAAAAAAAAAAAAAAAAAAAAAAAAAAAAAAAAAAAAAAAAAAAAAAAAAAAAAAAAAAAAAAAAAAAAAAAAAAAAAAAAAAAAAAAAAAAAAAAAAAAAAAAAAAAAAAAAAAAAAAAAAAAAAAAAAAAAAAAAAAAAAAAAAAAAAAAAAAAAAAAAAAAAAAAAAAAAAAAAAAAAAAAAAAAAAAAAAAAAAAAAAAAAAAAAAAAAAAAAAAAAAAAAAAAAAAAAAAAAAAAAAAAAAAAAAAAAAAAAAAAAAAAAAAAAAAAAAAAAAAAAAAAAAAAAAAAAAAAAAAAAAAAAAAAAAAAAAAAAAAAAAAAAAAAAAAAAAAAAAAAAAAAAAAAAAAAAAAAAAAAAAAAAAAAAAAAAAAAAAAAAAAAAAAAAAAAAAAAAAAAAAAAAAAAAAAAAAAAAAAAAAAAAAAAAAAAAAAAAAAAAAAAAAAAAAAAAAAAAAAAAAAAAAAAAAAAAAAAAAAAAAAAAAAAAAAAAAAAAAAAAAAAAAAAAAAAAAAAAAAAAAAAAAAAAAAAAAAAAAAAAAAAAAAAAAAAAAAAAAAAAAAAAAAAAAAAAAAAAAAAAAAAAAAAAAAAAAAAAAAAAAAAAAAAAAAAAAAAAAAAAAAAAAAAAAAAAAAAAAAAAAAAAAAAAAAAAAAAAAAAAAAAAAAAAAAAAAAAAAAAAAAAAAAAAAAAAAAAAAACwAAAAAPgA+AEAIZgABCBxIsKDBgwgTKlzIsKHDhxAjSpxIsaLFixgzatzIsaPHjyBDihxJsqTJkyhTqlzJsqXLlzBjypxJs6bNmzhz6tzJs6fPn0CDCh1KtKjRo0iTKl3KtKnTp1CjSp1KtarVqxADAgA7\"><title>Layer: input (input)\n output range: (0.0, 1.0)\n shape = (1,)\n Keras class = Input</title></image><text x=\"213.33333333333334\" y=\"212.0\" font-family=\"monospace\" font-size=\"12\" text-anchor=\"start\" fill=\"black\" alignment-baseline=\"central\" >input</text><line x1=\"366.6666666666667\" y1=\"184\" x2=\"275.0\" y2=\"157\" stroke=\"black\" stroke-width=\"2\" marker-end=\"url(#arrow)\"><title>Weights from context to hidden\n hidden_9/kernel:0 has shape (6, 5)\n hidden_9/bias:0 has shape (5,)</title></line><rect x=\"265.6666666666667\" y=\"184\" width=\"202\" height=\"52\" style=\"fill:none;stroke:black;stroke-width:2\"/><image id=\"picture-dashboard-XOR in Time-538320_context_12\" class=\"picture-dashboard-XOR in Time-538320_context\" x=\"266.6666666666667\" y=\"185\" height=\"50\" width=\"200\" preserveAspectRatio=\"none\" href=\"data:image/gif;base64,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\"><title>Layer: context (input)\n output range: (0.16468029, 0.78544104)\n shape = (5,)\n Keras class = Input</title></image><text x=\"471.6666666666667\" y=\"212.0\" font-family=\"monospace\" font-size=\"12\" text-anchor=\"start\" fill=\"black\" alignment-baseline=\"central\" >context</text><text x=\"275.0\" y=\"12.5\" font-family=\"monospace\" font-size=\"15\" text-anchor=\"middle\" fill=\"black\" alignment-baseline=\"central\" >XOR in Time</text></svg></g></svg></p>"
      }
     },
     "de1c06c904874244b299b8b59de0801d": {
      "model_module": "@jupyter-widgets/base",
      "model_module_version": "1.0.0",
      "model_name": "LayoutModel",
      "state": {
       "width": "100%"
      }
     },
     "de4c8a69e89a434a98d3d734e6c648e2": {
      "model_module": "@jupyter-widgets/controls",
      "model_module_version": "1.1.0",
      "model_name": "ButtonStyleModel",
      "state": {}
     },
     "deb5e2f66e4245be9558f2a370f475b7": {
      "model_module": "@jupyter-widgets/output",
      "model_module_version": "1.0.0",
      "model_name": "OutputModel",
      "state": {
       "layout": "IPY_MODEL_b5aa3d2a683e49b193adc3523a74c213"
      }
     },
     "def51eb70c5f49468e1198a1efc498f5": {
      "model_module": "@jupyter-widgets/base",
      "model_module_version": "1.0.0",
      "model_name": "LayoutModel",
      "state": {}
     },
     "df228beb4a634650b104f64af486280c": {
      "model_module": "@jupyter-widgets/controls",
      "model_module_version": "1.1.0",
      "model_name": "DescriptionStyleModel",
      "state": {
       "description_width": "initial"
      }
     },
     "df32bc693f964d2ca92cfc272e8ca586": {
      "model_module": "@jupyter-widgets/controls",
      "model_module_version": "1.1.0",
      "model_name": "HBoxModel",
      "state": {
       "children": [
        "IPY_MODEL_5eea9bd392444a749bae46c2621b75b8",
        "IPY_MODEL_b19df4003f264dbfb9b7af02aef46c1f"
       ],
       "layout": "IPY_MODEL_c0f022558b3b45a395f9d1120573ab03"
      }
     },
     "df4c833e3ef542d4afeb2c02bef42395": {
      "model_module": "@jupyter-widgets/controls",
      "model_module_version": "1.1.0",
      "model_name": "IntTextModel",
      "state": {
       "description": "Vertical space between layers:",
       "layout": "IPY_MODEL_129b806245d74415b1a12e759f3d4771",
       "step": 1,
       "style": "IPY_MODEL_74a18bdc03f44cc893494f4e436bb523",
       "value": 30
      }
     },
     "df77c7abf91d4fbeafb8ed1da181aeda": {
      "model_module": "@jupyter-widgets/controls",
      "model_module_version": "1.1.0",
      "model_name": "FloatTextModel",
      "state": {
       "description": "Rightmost color maps to:",
       "layout": "IPY_MODEL_39faa4ecd1b34245934496d3d07db7b7",
       "step": null,
       "style": "IPY_MODEL_c6c0edd68f3f44678522c66ca82391d6",
       "value": 2
      }
     },
     "dfa018d072ce45729f698b22e82c61ae": {
      "model_module": "@jupyter-widgets/controls",
      "model_module_version": "1.1.0",
      "model_name": "IntTextModel",
      "state": {
       "layout": "IPY_MODEL_7c5ea40c93474e86918ccb827460ceec",
       "step": 1,
       "style": "IPY_MODEL_aa984dc3bb2344e793d2d94b8f694b51"
      }
     },
     "dfa60b56e18149dfa68827a3b517b2a6": {
      "model_module": "@jupyter-widgets/base",
      "model_module_version": "1.0.0",
      "model_name": "LayoutModel",
      "state": {}
     },
     "dfa7b8b2773d447b8761ca606a5a8c02": {
      "model_module": "@jupyter-widgets/base",
      "model_module_version": "1.0.0",
      "model_name": "LayoutModel",
      "state": {}
     },
     "dfb7a17ec6f34e309164ed6da37ab7f4": {
      "model_module": "@jupyter-widgets/controls",
      "model_module_version": "1.1.0",
      "model_name": "IntTextModel",
      "state": {
       "description": "Horizontal space between banks:",
       "layout": "IPY_MODEL_d0efc5b93d1b427d991025764c7c76c5",
       "step": 1,
       "style": "IPY_MODEL_7abe7296398e4ec68236954677f24b56",
       "value": 150
      }
     },
     "dffbae6f08f043a998bc7ebf8a6ff294": {
      "model_module": "@jupyter-widgets/controls",
      "model_module_version": "1.1.0",
      "model_name": "VBoxModel",
      "state": {
       "children": [
        "IPY_MODEL_e03fb65dab684651bb8c1f678eb12336",
        "IPY_MODEL_f7dfd37cfc7b4470b13683b2036eb8f2"
       ],
       "layout": "IPY_MODEL_0ea437b0aec04daea2f5e72a3f83c9f0"
      }
     },
     "e026b2a293f849ddadaceaa367c1e6e5": {
      "model_module": "@jupyter-widgets/base",
      "model_module_version": "1.0.0",
      "model_name": "LayoutModel",
      "state": {
       "width": "100%"
      }
     },
     "e03e7c9287464db288df97fe3897d2cb": {
      "model_module": "@jupyter-widgets/controls",
      "model_module_version": "1.1.0",
      "model_name": "SelectModel",
      "state": {
       "_options_labels": [
        "Test",
        "Train"
       ],
       "description": "Dataset:",
       "index": 1,
       "layout": "IPY_MODEL_69734b0bf3dc46bc99e57f0cc2582c66",
       "rows": 1,
       "style": "IPY_MODEL_bd9f1f05825046fc9d6d2afa6d995ab4"
      }
     },
     "e03fb65dab684651bb8c1f678eb12336": {
      "model_module": "@jupyter-widgets/controls",
      "model_module_version": "1.1.0",
      "model_name": "HBoxModel",
      "state": {
       "children": [
        "IPY_MODEL_07a03e75f1f547c3bda8262c80a43a2a",
        "IPY_MODEL_6d6e49cc6c4142a4ba38cf1810fefc17"
       ],
       "layout": "IPY_MODEL_82c07304ebcb457cb09d5ccafe5f1ca2"
      }
     },
     "e086c5ca082b47ed95e01e02fe9208c1": {
      "model_module": "@jupyter-widgets/controls",
      "model_module_version": "1.1.0",
      "model_name": "ButtonStyleModel",
      "state": {}
     },
     "e0afbdbcd09b44a59032893355b85e3d": {
      "model_module": "@jupyter-widgets/base",
      "model_module_version": "1.0.0",
      "model_name": "LayoutModel",
      "state": {
       "height": "50px",
       "width": "100%"
      }
     },
     "e0f1228e52b141b8bb7327c8facc3166": {
      "model_module": "@jupyter-widgets/base",
      "model_module_version": "1.0.0",
      "model_name": "LayoutModel",
      "state": {
       "width": "25%"
      }
     },
     "e14fa5de21da44008dbfb6e28b989fd7": {
      "model_module": "@jupyter-widgets/base",
      "model_module_version": "1.0.0",
      "model_name": "LayoutModel",
      "state": {
       "width": "10%"
      }
     },
     "e158a455984b487293041ea57a98d61f": {
      "model_module": "@jupyter-widgets/controls",
      "model_module_version": "1.1.0",
      "model_name": "SliderStyleModel",
      "state": {
       "description_width": ""
      }
     },
     "e177c8d2ff954dfbbea5685636fc0d22": {
      "model_module": "@jupyter-widgets/controls",
      "model_module_version": "1.1.0",
      "model_name": "ButtonStyleModel",
      "state": {}
     },
     "e1d5d62f6b8a4882b198244a7b1c0dea": {
      "model_module": "@jupyter-widgets/controls",
      "model_module_version": "1.1.0",
      "model_name": "VBoxModel",
      "state": {
       "children": [
        "IPY_MODEL_8bb3790951a54ee0944ec52d1e52991e",
        "IPY_MODEL_4f54619108c742d9b11f47f400f2b0d7",
        "IPY_MODEL_d98c8b566aab4cf6b5e11cbfdf922ccb",
        "IPY_MODEL_251161a5b54c4f64853cd10547e356dd",
        "IPY_MODEL_6f29a7fd756b4a3fbcbd1b4e9998a142",
        "IPY_MODEL_df77c7abf91d4fbeafb8ed1da181aeda",
        "IPY_MODEL_9b8ae814b2ff4354911478afdc0392d2",
        "IPY_MODEL_6c1b27eb545b4fa8a7d6073efb8e2e23"
       ],
       "layout": "IPY_MODEL_ed5d1785b62c487eb024ff82eab95cb7"
      }
     },
     "e1f66a8f441a46ff8aad00bdaf56aff9": {
      "model_module": "@jupyter-widgets/controls",
      "model_module_version": "1.1.0",
      "model_name": "FloatTextModel",
      "state": {
       "description": "Rightmost color maps to:",
       "layout": "IPY_MODEL_263bd4c03c2749ca8289d470261c0ed6",
       "step": null,
       "style": "IPY_MODEL_f3f1d569e188464d8a3954f1afbd5b29",
       "value": 1
      }
     },
     "e249a43f037b4c499ab53c236fd91e2f": {
      "model_module": "@jupyter-widgets/controls",
      "model_module_version": "1.1.0",
      "model_name": "DescriptionStyleModel",
      "state": {
       "description_width": "initial"
      }
     },
     "e25020096a834a0d9daacf8f1921b707": {
      "model_module": "@jupyter-widgets/base",
      "model_module_version": "1.0.0",
      "model_name": "LayoutModel",
      "state": {
       "width": "100%"
      }
     },
     "e2d7322f055f474892ce524f2bc0683e": {
      "model_module": "@jupyter-widgets/base",
      "model_module_version": "1.0.0",
      "model_name": "LayoutModel",
      "state": {
       "width": "25%"
      }
     },
     "e47af06347fa4acfa08207d5dbec4545": {
      "model_module": "@jupyter-widgets/controls",
      "model_module_version": "1.1.0",
      "model_name": "ButtonModel",
      "state": {
       "icon": "fast-forward",
       "layout": "IPY_MODEL_54653b6bec104118b2120e55c2fe4a4d",
       "style": "IPY_MODEL_bfd8a82c72ff4059bcbe2e9d5c6a6f0b"
      }
     },
     "e583f592edef4713a79256df6e2160c8": {
      "model_module": "@jupyter-widgets/controls",
      "model_module_version": "1.1.0",
      "model_name": "SelectModel",
      "state": {
       "_options_labels": [
        ""
       ],
       "description": "Features:",
       "index": 0,
       "layout": "IPY_MODEL_6511ff45bd7e408ab007c11105a94ea2",
       "rows": 1,
       "style": "IPY_MODEL_161f8309acfa41e5ad2138c8e10f89d8"
      }
     },
     "e5933aeb14304e9ab5cfd1698c43d6a5": {
      "model_module": "@jupyter-widgets/controls",
      "model_module_version": "1.1.0",
      "model_name": "HTMLModel",
      "state": {
       "layout": "IPY_MODEL_cf6c8b944b41405388d9dd0fd33cf3be",
       "style": "IPY_MODEL_324d91df64af4b8aa61b8f4ffab45e6f",
       "value": "<p style=\"text-align:center\"><svg id='XOR in Time' xmlns='http://www.w3.org/2000/svg' image-rendering=\"pixelated\" width=\"400.0px\" height=\"189.0909090909091px\">\n <g >\n  <svg viewBox=\"0 0 550 260\" width=\"400.0px\" height=\"189.0909090909091px\">\n    <defs>\n        <marker id=\"arrow\" markerWidth=\"10\" markerHeight=\"10\" refX=\"9\" refY=\"3\" orient=\"auto\" markerUnits=\"strokeWidth\">\n          <path d=\"M0,0 L0,6 L9,3 z\" fill=\"black\" />\n        </marker>\n    </defs><rect x=\"249.0\" y=\"24\" width=\"52\" height=\"52\" style=\"fill:none;stroke:black;stroke-width:2\"/><image id=\"picture-dashboard-XOR in Time-804914_output_13\" class=\"picture-dashboard-XOR in Time-804914_output\" x=\"250.0\" y=\"25\" height=\"50\" width=\"50\" preserveAspectRatio=\"none\" href=\"data:image/gif;base64,R0lGODdhPgA+AIcAAH8AAAAAAAAAAAAAAAAAAAAAAAAAAAAAAAAAAAAAAAAAAAAAAAAAAAAAAAAAAAAAAAAAAAAAAAAAAAAAAAAAAAAAAAAAAAAAAAAAAAAAAAAAAAAAAAAAAAAAAAAAAAAAAAAAAAAAAAAAAAAAAAAAAAAAAAAAAAAAAAAAAAAAAAAAAAAAAAAAAAAAAAAAAAAAAAAAAAAAAAAAAAAAAAAAAAAAAAAAAAAAAAAAAAAAAAAAAAAAAAAAAAAAAAAAAAAAAAAAAAAAAAAAAAAAAAAAAAAAAAAAAAAAAAAAAAAAAAAAAAAAAAAAAAAAAAAAAAAAAAAAAAAAAAAAAAAAAAAAAAAAAAAAAAAAAAAAAAAAAAAAAAAAAAAAAAAAAAAAAAAAAAAAAAAAAAAAAAAAAAAAAAAAAAAAAAAAAAAAAAAAAAAAAAAAAAAAAAAAAAAAAAAAAAAAAAAAAAAAAAAAAAAAAAAAAAAAAAAAAAAAAAAAAAAAAAAAAAAAAAAAAAAAAAAAAAAAAAAAAAAAAAAAAAAAAAAAAAAAAAAAAAAAAAAAAAAAAAAAAAAAAAAAAAAAAAAAAAAAAAAAAAAAAAAAAAAAAAAAAAAAAAAAAAAAAAAAAAAAAAAAAAAAAAAAAAAAAAAAAAAAAAAAAAAAAAAAAAAAAAAAAAAAAAAAAAAAAAAAAAAAAAAAAAAAAAAAAAAAAAAAAAAAAAAAAAAAAAAAAAAAAAAAAAAAAAAAAAAAAAAAAAAAAAAAAAAAAAAAAAAAAAAAAAAAAAAAAAAAAAAAAAAAAAAAAAAAAAAAAAAAAAAAAAAAAAAAAAAAAAAAAAAAAAAAAAAAAAAAAAAAAAAAAAAAAAAAAAAAAAAAAAAAAAAAAAAAAAAAAAAAAAAAAAAAAAAAAAAAAAAAAAAAAAAAAAAAAAAAAAAAAAAAAAAAAAAAAAAAAAAAAAAAAAAAAAAAAAAAAAAAAAAAAAAAAAAAAAAAAAAAAAAAAAAAAAAAAAAAAAAAAAAAAAAAAAAAAAAAAAAAACwAAAAAPgA+AEAI/wADCBxIsKDBgwgTKkQIoKHDhxAjSpxIsSLEAAEAaNzIsaPHjyBDiuwYIACAkyhTqlzJsqXLlyoDBABAs6bNmzhz6tzJ82aAAACCCh1KtKjRo0iTEg0QAIDTp1CjSp1KtarVqAECANjKtavXr2DDih3rNUAAAGjTql3Ltq3bt3DXBggAoK7du3jz6t3Lty/eAAEACB5MuLDhw4gTKy4cIACAx5AjS55MubLly5IDBADAubPnz6BDix5N+nOAAABSq17NurXr17Bjsw4QAIDt27hz697Nu7fv3AECABhOvLjx48iTK19uPEAAANCjS59Ovbr169inBwgAoLv37+DDi/8fT748+AABAKhfz769+/fw48tvHyAAgPv48+vfz7+/f4AABA4kWDBAAAAJFS5k2NDhQ4gRGQYIAMDiRYwZNW7k2NFjxgABAIwkWdLkSZQpVa40GSAAAJgxZc6kWdPmTZwzAwQA0NPnT6BBhQ4lWhRogAAAlC5l2tTpU6hRpTYNEADAVaxZtW7l2tXrV60BAgAgW9bsWbRp1a5lezZAAABx5c6lW9fuXbx56QYIAMDvX8CBBQ8mXNhw4AABACxm3NjxY8iRJU92HCAAAMyZNW/m3NnzZ9CbAwQAUNr0adSpVa9m3Rp1gAAAZM+mXdv2bdy5ddcOEADAb+DBhQ8nXtz/+HHhAQIAYN7c+XPo0aVPp/48QAAA2bVv597d+3fw4bkHCADA/Hn06dWvZ9/effoAAQDMp1/f/n38+fXvtx8gAEAAAgcSLGjwIMKECgsGCADgIcSIEidSrGjxosQAAQBw7OjxI8iQIkeS/BggAICUKleybOnyJcyYLAMEAGDzJs6cOnfy7OkzZ4AAAIYSLWr0KNKkSpcaDRAAANSoUqdSrWr1KtapAQIA6Or1K9iwYseSLQs2QAAAateybev2Ldy4ctsGCADgLt68evfy7ev3r94AAQAQLmz4MOLEihczPhwgAIDIkidTrmz5MubMlAMEAOD5M+jQokeTLm06dIAAlQBWs27t+jXs2LJnuw4QAADu3Lp38+7t+zfw3QECAChu/Djy5MqXM2+OPEAAANKnU69u/Tr27NqrBwgA4Dv48OLHky9v/rz4AAEAsG/v/j38+PLn038fIACA/Pr38+/vHyAAgQMJFjR4kGCAAAAYNnT4EGJEiRMpPgwQAEBGjRs5dvT4EWRIjgFIljR5EmVKlStZqgwIADs=\"><title>Layer: output (output)\n output range: (-Infinity, +Infinity)\n shape = (1,)\n Keras class = Dense</title></image><text x=\"305.0\" y=\"52.0\" font-family=\"monospace\" font-size=\"12\" text-anchor=\"start\" fill=\"black\" alignment-baseline=\"central\" >output</text><line x1=\"275.0\" y1=\"104\" x2=\"275.0\" y2=\"77\" stroke=\"black\" stroke-width=\"2\" marker-end=\"url(#arrow)\"><title>Weights from hidden to output\n output_3/kernel:0 has shape (5, 1)\n output_3/bias:0 has shape (1,)</title></line><rect x=\"174.0\" y=\"104\" width=\"202\" height=\"52\" style=\"fill:none;stroke:black;stroke-width:2\"/><image id=\"picture-dashboard-XOR in Time-804914_hidden_14\" class=\"picture-dashboard-XOR in Time-804914_hidden\" x=\"175.0\" y=\"105\" height=\"50\" width=\"200\" preserveAspectRatio=\"none\" href=\"data:image/gif;base64,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\"><title>Layer: hidden (hidden)\n output range: (-Infinity, +Infinity)\n shape = (5,)\n Keras class = Dense</title></image><text x=\"380.0\" y=\"132.0\" font-family=\"monospace\" font-size=\"12\" text-anchor=\"start\" fill=\"black\" alignment-baseline=\"central\" >hidden</text><line x1=\"183.33333333333334\" y1=\"184\" x2=\"275.0\" y2=\"157\" stroke=\"black\" stroke-width=\"2\" marker-end=\"url(#arrow)\"><title>Weights from input to hidden\n hidden_3/kernel:0 has shape (6, 5)\n hidden_3/bias:0 has shape (5,)</title></line><rect x=\"157.33333333333334\" y=\"184\" width=\"52\" height=\"52\" style=\"fill:none;stroke:black;stroke-width:2\"/><image id=\"picture-dashboard-XOR in Time-804914_input_15\" class=\"picture-dashboard-XOR in Time-804914_input\" x=\"158.33333333333334\" y=\"185\" height=\"50\" width=\"50\" preserveAspectRatio=\"none\" href=\"data:image/gif;base64,R0lGODdhPgA+AIcAAAAAAAAAAAAAAAAAAAAAAAAAAAAAAAAAAAAAAAAAAAAAAAAAAAAAAAAAAAAAAAAAAAAAAAAAAAAAAAAAAAAAAAAAAAAAAAAAAAAAAAAAAAAAAAAAAAAAAAAAAAAAAAAAAAAAAAAAAAAAAAAAAAAAAAAAAAAAAAAAAAAAAAAAAAAAAAAAAAAAAAAAAAAAAAAAAAAAAAAAAAAAAAAAAAAAAAAAAAAAAAAAAAAAAAAAAAAAAAAAAAAAAAAAAAAAAAAAAAAAAAAAAAAAAAAAAAAAAAAAAAAAAAAAAAAAAAAAAAAAAAAAAAAAAAAAAAAAAAAAAAAAAAAAAAAAAAAAAAAAAAAAAAAAAAAAAAAAAAAAAAAAAAAAAAAAAAAAAAAAAAAAAAAAAAAAAAAAAAAAAAAAAAAAAAAAAAAAAAAAAAAAAAAAAAAAAAAAAAAAAAAAAAAAAAAAAAAAAAAAAAAAAAAAAAAAAAAAAAAAAAAAAAAAAAAAAAAAAAAAAAAAAAAAAAAAAAAAAAAAAAAAAAAAAAAAAAAAAAAAAAAAAAAAAAAAAAAAAAAAAAAAAAAAAAAAAAAAAAAAAAAAAAAAAAAAAAAAAAAAAAAAAAAAAAAAAAAAAAAAAAAAAAAAAAAAAAAAAAAAAAAAAAAAAAAAAAAAAAAAAAAAAAAAAAAAAAAAAAAAAAAAAAAAAAAAAAAAAAAAAAAAAAAAAAAAAAAAAAAAAAAAAAAAAAAAAAAAAAAAAAAAAAAAAAAAAAAAAAAAAAAAAAAAAAAAAAAAAAAAAAAAAAAAAAAAAAAAAAAAAAAAAAAAAAAAAAAAAAAAAAAAAAAAAAAAAAAAAAAAAAAAAAAAAAAAAAAAAAAAAAAAAAAAAAAAAAAAAAAAAAAAAAAAAAAAAAAAAAAAAAAAAAAAAAAAAAAAAAAAAAAAAAAAAAAAAAAAAAAAAAAAAAAAAAAAAAAAAAAAAAAAAAAAAAAAAAAAAAAAAAAAAAAAAAAAAAAAAAAAAAAAAAAAAAAAAAAAAAAAAAAAACwAAAAAPgA+AEAIZgABCBxIsKDBgwgTKlzIsKHDhxAjSpxIsaLFixgzatzIsaPHjyBDihxJsqTJkyhTqlzJsqXLlzBjypxJs6bNmzhz6tzJs6fPn0CDCh1KtKjRo0iTKl3KtKnTp1CjSp1KtarVqxADAgA7\"><title>Layer: input (input)\n output range: (0.0, 1.0)\n shape = (1,)\n Keras class = Input</title></image><text x=\"213.33333333333334\" y=\"212.0\" font-family=\"monospace\" font-size=\"12\" text-anchor=\"start\" fill=\"black\" alignment-baseline=\"central\" >input</text><line x1=\"366.6666666666667\" y1=\"184\" x2=\"275.0\" y2=\"157\" stroke=\"black\" stroke-width=\"2\" marker-end=\"url(#arrow)\"><title>Weights from context to hidden\n hidden_3/kernel:0 has shape (6, 5)\n hidden_3/bias:0 has shape (5,)</title></line><rect x=\"265.6666666666667\" y=\"184\" width=\"202\" height=\"52\" style=\"fill:none;stroke:black;stroke-width:2\"/><image id=\"picture-dashboard-XOR in Time-804914_context_16\" class=\"picture-dashboard-XOR in Time-804914_context\" x=\"266.6666666666667\" y=\"185\" height=\"50\" width=\"200\" preserveAspectRatio=\"none\" href=\"data:image/gif;base64,R0lGODdh+gAyAIcAAAAAAAAAAAAAAAAAAAAAAAAAAAAAAAAAAAAAAAAAAAAAAAAAAAAAAAAAAAAAAAAAAAAAAAAAAAAAAAAAAAAAAAAAAAAAAAAAAAAAAAAAAAAAAAAAAAAAAAAAAAAAAAAAAAAAAAAAAAAAAAAAAAAAAAAAAAAAAAAAAAAAAAAAAAAAAAAAAAAAAAAAAAAAAAAAAAAAAAAAAAAAAAAAAAAAAAAAAAAAAAAAAAAAAAAAAAAAAAAAAAAAAAAAAAAAAAAAAAAAAAAAAAAAAAAAAAAAAAAAAAAAAAAAAAAAAAAAAAAAAAAAAAAAAAAAAAAAAAAAAAAAAAAAAAAAAAAAAAAAAAAAAAAAAAAAAAAAAAAAAAAAAAAAAAAAAAAAAAAAAAAAAAAAAAAAAAAAAAAAAAAAAAAAAAAAAAAAAAAAAAAAAAAAAAAAAAAAAAAAAAAAAAAAAAAAAAAAAAAAAAAAAAAAAAAAAAAAAAAAAAAAAAAAAAAAAAAAAAAAAAAAAAAAAAAAAAAAAAAAAAAAAAAAAAAAAAAAAAAAAAAAAAAAAAAAAAAAAAAAAAAAAAAAAAAAAAAAAAAAAAAAAAAAAAAAAAAAAAAAAAAAAAAAAAAAAAAAAAAAAAAAAAAAAAAAAAAAAAAAAAAAAAAAAAAAAAAAAAAAAAAAAAAAAAAAAAAAAAAAAAAAAAAAAAAAAAAAAAAAAAAAAAAAAAAAAAAAAAAAAAAAAAAAAAAAAAAAAAAAAAAAAAAAAAAAAAAAAAAAAAAAAAAAAAAAAAAAAAAAAAAAAAAAAAAAAAAAAAAAAAAAAAAAAAAAAAAAAAAAAAAAAAAAAAAAAAAAAAAAAAAAAAAAAAAAAAAAAAAAAAAAAAAAAAAAAAAAAAAAAAAAAAAAAAAAAAAAAAAAAAAAAAAAAAAAAAAAAAAAAAAAAAAAAAAAAAAAAAAAAAAAAAAAAAAAAAAAAAAAAAAAAAAAAAAAAAAAAAAAAAAAAAAAAAAAAAAAAAAAAAAAAAAAAAAAAAAAAAAAAAAAACwAAAAA+gAyAEAItAABCBxIsKDBgwgTKlzIsKHDhxAjSpxIsaLFixgzatzIsaPHjyBDihxJsqTJkyhTqlzJsqXLlzBjypxJs6bNmzhz6tzJs6fPn0CDCh1KtKjRo0iTKl3KtKnTp1CjSp1KtarVq1izat3KtavXr2DDih1LtqzZs2jTql3Ltq3bt3Djyp1Lt67du3jz6t3Lt6/fv4ADCx5MuLDhw4gTK17MuLHjx5AjS55MubLly5gza97MuXPYgAA7\"><title>Layer: context (input)\n output range: (nan, nan)\n shape = (5,)\n Keras class = Input</title></image><text x=\"471.6666666666667\" y=\"212.0\" font-family=\"monospace\" font-size=\"12\" text-anchor=\"start\" fill=\"black\" alignment-baseline=\"central\" >context</text><text x=\"275.0\" y=\"12.5\" font-family=\"monospace\" font-size=\"15\" text-anchor=\"middle\" fill=\"black\" alignment-baseline=\"central\" >XOR in Time</text></svg></g></svg></p>"
      }
     },
     "e5b44eafb9704f138397cc566b1ac816": {
      "model_module": "@jupyter-widgets/base",
      "model_module_version": "1.0.0",
      "model_name": "LayoutModel",
      "state": {
       "width": "100%"
      }
     },
     "e5debcca2e5344db90b33f625622b559": {
      "model_module": "@jupyter-widgets/base",
      "model_module_version": "1.0.0",
      "model_name": "LayoutModel",
      "state": {}
     },
     "e62b93fd1f53464d9888921b233556ab": {
      "model_module": "@jupyter-widgets/controls",
      "model_module_version": "1.1.0",
      "model_name": "DescriptionStyleModel",
      "state": {
       "description_width": ""
      }
     },
     "e65d59f61e9b4d69897b14132d88f14e": {
      "model_module": "@jupyter-widgets/controls",
      "model_module_version": "1.1.0",
      "model_name": "VBoxModel",
      "state": {
       "children": [
        "IPY_MODEL_3099a1a058034285bc3d7710ccc2055b",
        "IPY_MODEL_b59c3d8e61a4462e9e1daa9207da9c9e",
        "IPY_MODEL_21a1c7d8ea8841eba1711f0e4678f26e",
        "IPY_MODEL_9385f24ceb1c437887d4cd84bed69852",
        "IPY_MODEL_1d0c965353194e77bf99bf5a2728c3fa",
        "IPY_MODEL_31632e7af88d4dc984b102384bf3e22f",
        "IPY_MODEL_0b5dcde6f4444659bb3964a38b19cc5d",
        "IPY_MODEL_39ebc211e6754cc6850baa5a55700652"
       ],
       "layout": "IPY_MODEL_588df27cb7694126872211dc069477ba"
      }
     },
     "e677b4767583479c81e6d418106bb7e7": {
      "model_module": "@jupyter-widgets/controls",
      "model_module_version": "1.1.0",
      "model_name": "FloatTextModel",
      "state": {
       "description": "Feature scale:",
       "layout": "IPY_MODEL_dfa7b8b2773d447b8761ca606a5a8c02",
       "step": null,
       "style": "IPY_MODEL_0cff52972ac64bcdbe6e308ca781e3b6",
       "value": 1
      }
     },
     "e6d4ee82186a4ba89b7a81bf3eb77280": {
      "model_module": "@jupyter-widgets/base",
      "model_module_version": "1.0.0",
      "model_name": "LayoutModel",
      "state": {
       "width": "100%"
      }
     },
     "e71aaa6b94e04f88b7743451321fbb28": {
      "model_module": "@jupyter-widgets/controls",
      "model_module_version": "1.1.0",
      "model_name": "VBoxModel",
      "state": {
       "children": [
        "IPY_MODEL_e03e7c9287464db288df97fe3897d2cb",
        "IPY_MODEL_05acb36f840941f2ac5e0e753f13ef71",
        "IPY_MODEL_303fc967dd854a9f944ac069ede7ae4b",
        "IPY_MODEL_6d0048cf9ab34ce7bc6e67c5cafd831c",
        "IPY_MODEL_5599986c242744a485fa82eebe43d9db",
        "IPY_MODEL_18adb5d1555c4510ae4d145980fd2f5c",
        "IPY_MODEL_ce30e8ac9ce94b40b0b21d6d4d2ed0f5",
        "IPY_MODEL_24191188c4fa4017a190f5d6366cd318"
       ],
       "layout": "IPY_MODEL_2197ca48a23146eda2b417e143afb9fc"
      }
     },
     "e71d98619d694535accab71e5a0fc348": {
      "model_module": "@jupyter-widgets/controls",
      "model_module_version": "1.1.0",
      "model_name": "IntSliderModel",
      "state": {
       "continuous_update": false,
       "description": "Dataset index",
       "layout": "IPY_MODEL_86e28ea79f954e82960499764e1ab1a9",
       "max": 2,
       "style": "IPY_MODEL_54526249912d476c9058ef5f71e43505"
      }
     },
     "e76c3e4860794b5f9668a40c6b2a60b1": {
      "model_module": "@jupyter-widgets/controls",
      "model_module_version": "1.1.0",
      "model_name": "IntTextModel",
      "state": {
       "description": "Vertical space between layers:",
       "layout": "IPY_MODEL_2654fbe51a30422e849f5cb742292019",
       "step": 1,
       "style": "IPY_MODEL_e7d839540dc34c77acefb39930015c22",
       "value": 30
      }
     },
     "e7a3e36303c647e985f9cf65b827b8b1": {
      "model_module": "@jupyter-widgets/base",
      "model_module_version": "1.0.0",
      "model_name": "LayoutModel",
      "state": {
       "width": "100%"
      }
     },
     "e7a5e7d1c874467a99b5c3dbf705dc3c": {
      "model_module": "@jupyter-widgets/controls",
      "model_module_version": "1.1.0",
      "model_name": "HBoxModel",
      "state": {
       "children": [
        "IPY_MODEL_30074147ce644a92a41c9d1b6c14dd33",
        "IPY_MODEL_6e07992115b246b2a7c66c00d370adfe"
       ],
       "layout": "IPY_MODEL_145f0808eb69432fbea72ef6b0a829ce"
      }
     },
     "e7d839540dc34c77acefb39930015c22": {
      "model_module": "@jupyter-widgets/controls",
      "model_module_version": "1.1.0",
      "model_name": "DescriptionStyleModel",
      "state": {
       "description_width": "initial"
      }
     },
     "e8f975c535284d78b86e850b7d8cfa09": {
      "model_module": "@jupyter-widgets/base",
      "model_module_version": "1.0.0",
      "model_name": "LayoutModel",
      "state": {}
     },
     "e94f1a467f284e5083f3baf7731c783a": {
      "model_module": "@jupyter-widgets/controls",
      "model_module_version": "1.1.0",
      "model_name": "VBoxModel",
      "state": {
       "children": [
        "IPY_MODEL_6d46af304b284dfc9c8dae8cf273971f",
        "IPY_MODEL_1c5181f6366a40d494d039e86ad2b682"
       ],
       "layout": "IPY_MODEL_a6742b46d016410ca6738b37b1143d68"
      }
     },
     "e95bf80518ee4cc086d5a6102eb39116": {
      "model_module": "@jupyter-widgets/controls",
      "model_module_version": "1.1.0",
      "model_name": "ButtonStyleModel",
      "state": {}
     },
     "e9e5fae796b1428e93d07991c83ef851": {
      "model_module": "@jupyter-widgets/controls",
      "model_module_version": "1.1.0",
      "model_name": "ButtonStyleModel",
      "state": {}
     },
     "e9f9f195dc8c44d3bafb40fc8548fdd9": {
      "model_module": "@jupyter-widgets/controls",
      "model_module_version": "1.1.0",
      "model_name": "ButtonStyleModel",
      "state": {}
     },
     "eac81318d3e74e48823498d50c1614dd": {
      "model_module": "@jupyter-widgets/controls",
      "model_module_version": "1.1.0",
      "model_name": "DescriptionStyleModel",
      "state": {
       "description_width": "initial"
      }
     },
     "eb0ae009efa04809935e0c979d98979c": {
      "model_module": "@jupyter-widgets/base",
      "model_module_version": "1.0.0",
      "model_name": "LayoutModel",
      "state": {}
     },
     "eb3d9ee9a91542f590108fd74c770c64": {
      "model_module": "@jupyter-widgets/controls",
      "model_module_version": "1.1.0",
      "model_name": "SelectModel",
      "state": {
       "_options_labels": [
        "Test",
        "Train"
       ],
       "description": "Dataset:",
       "index": 1,
       "layout": "IPY_MODEL_966d7636b0e643ae8e67689aab38772c",
       "rows": 1,
       "style": "IPY_MODEL_092e38d5625e425fb08d288cb16e5294"
      }
     },
     "eb98ee4e828b4d79bca75b17764d9be1": {
      "model_module": "@jupyter-widgets/controls",
      "model_module_version": "1.1.0",
      "model_name": "HTMLModel",
      "state": {
       "layout": "IPY_MODEL_3b7f272063f84f0d93cd11612e0ad228",
       "style": "IPY_MODEL_c449a6474a49405aa6dc140edfa85cb6",
       "value": "<img src=\"data:image/gif;base64,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\"/>"
      }
     },
     "ec206e23db414c6ba9a4fd376cbfd7a1": {
      "model_module": "@jupyter-widgets/controls",
      "model_module_version": "1.1.0",
      "model_name": "DescriptionStyleModel",
      "state": {
       "description_width": "initial"
      }
     },
     "ec25749276934fb38490dcf249978af2": {
      "model_module": "@jupyter-widgets/controls",
      "model_module_version": "1.1.0",
      "model_name": "ButtonStyleModel",
      "state": {}
     },
     "ecc20c0014974548976a940fb29d144d": {
      "model_module": "@jupyter-widgets/base",
      "model_module_version": "1.0.0",
      "model_name": "LayoutModel",
      "state": {
       "width": "100%"
      }
     },
     "ecc37e3721344bbeab3435389bb9fb07": {
      "model_module": "@jupyter-widgets/controls",
      "model_module_version": "1.1.0",
      "model_name": "HBoxModel",
      "state": {
       "children": [
        "IPY_MODEL_8cc78f2aaef248a88c708634ee6f48fa",
        "IPY_MODEL_9ba5e79de345420bb79544feefa8fddb",
        "IPY_MODEL_72589fafd1b541609f2abf4e18b56fa0",
        "IPY_MODEL_f4d7c80461e74b77a926d162484caef9",
        "IPY_MODEL_fccce95d4cf64742af5573d504d6b944",
        "IPY_MODEL_95c9792d591348b998e219cac2913404",
        "IPY_MODEL_6a3bb6f69bec4aab82d4399f886444a4"
       ],
       "layout": "IPY_MODEL_74e37edce2cb42b494b871d5046cfa8e"
      }
     },
     "ecfe2143fc784e428ccabbd3bd55fd1e": {
      "model_module": "@jupyter-widgets/controls",
      "model_module_version": "1.1.0",
      "model_name": "CheckboxModel",
      "state": {
       "description": "Errors",
       "disabled": false,
       "layout": "IPY_MODEL_129b806245d74415b1a12e759f3d4771",
       "style": "IPY_MODEL_479afa99c83f44d9bf87f6467e32eff5",
       "value": true
      }
     },
     "ed5d1785b62c487eb024ff82eab95cb7": {
      "model_module": "@jupyter-widgets/base",
      "model_module_version": "1.0.0",
      "model_name": "LayoutModel",
      "state": {
       "width": "100%"
      }
     },
     "ed674fa7653c404e9c43d5b741605b84": {
      "model_module": "@jupyter-widgets/base",
      "model_module_version": "1.0.0",
      "model_name": "LayoutModel",
      "state": {}
     },
     "edaa6c6838fb4cd6b07c8d0656a11fe6": {
      "model_module": "@jupyter-widgets/controls",
      "model_module_version": "1.1.0",
      "model_name": "HTMLModel",
      "state": {
       "layout": "IPY_MODEL_acad1d4a0973443da8d43847be03df24",
       "style": "IPY_MODEL_bc41a7329d9e4cd9a6b73aae18394e1c",
       "value": "<img src=\"data:image/gif;base64,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\"/>"
      }
     },
     "edd57c0bba574978b408d92de5be3f7d": {
      "model_module": "@jupyter-widgets/controls",
      "model_module_version": "1.1.0",
      "model_name": "DescriptionStyleModel",
      "state": {
       "description_width": ""
      }
     },
     "eddb04b9071c44f7870a6963d25be75f": {
      "model_module": "@jupyter-widgets/controls",
      "model_module_version": "1.1.0",
      "model_name": "DescriptionStyleModel",
      "state": {
       "description_width": ""
      }
     },
     "eddbe8ff35204f2995cfe21d0096af51": {
      "model_module": "@jupyter-widgets/base",
      "model_module_version": "1.0.0",
      "model_name": "LayoutModel",
      "state": {
       "height": "40px"
      }
     },
     "ee5f632630254d90a1d73d05159f1f84": {
      "model_module": "@jupyter-widgets/controls",
      "model_module_version": "1.1.0",
      "model_name": "IntTextModel",
      "state": {
       "description": "Feature to show:",
       "layout": "IPY_MODEL_d33a862fe04e45e6b584252764026818",
       "step": 1,
       "style": "IPY_MODEL_1e413eb4928f418f8ac6746e759ca4a9"
      }
     },
     "eef82f8359104cc3a69edf97e83bc11a": {
      "model_module": "@jupyter-widgets/base",
      "model_module_version": "1.0.0",
      "model_name": "LayoutModel",
      "state": {
       "width": "100%"
      }
     },
     "ef19442beedb4f63af38ed1fa8bc595a": {
      "model_module": "@jupyter-widgets/controls",
      "model_module_version": "1.1.0",
      "model_name": "SelectModel",
      "state": {
       "_options_labels": [
        ""
       ],
       "description": "Features:",
       "index": 0,
       "layout": "IPY_MODEL_208176ecf42344af93b4a7aee0f3d509",
       "rows": 1,
       "style": "IPY_MODEL_d348291e6d684f3a987d5e4fb8ae6aae"
      }
     },
     "ef9508a877384e9fb158faf928956e11": {
      "model_module": "@jupyter-widgets/controls",
      "model_module_version": "1.1.0",
      "model_name": "SelectModel",
      "state": {
       "_options_labels": [
        "",
        "Accent",
        "Accent_r",
        "Blues",
        "Blues_r",
        "BrBG",
        "BrBG_r",
        "BuGn",
        "BuGn_r",
        "BuPu",
        "BuPu_r",
        "CMRmap",
        "CMRmap_r",
        "Dark2",
        "Dark2_r",
        "GnBu",
        "GnBu_r",
        "Greens",
        "Greens_r",
        "Greys",
        "Greys_r",
        "OrRd",
        "OrRd_r",
        "Oranges",
        "Oranges_r",
        "PRGn",
        "PRGn_r",
        "Paired",
        "Paired_r",
        "Pastel1",
        "Pastel1_r",
        "Pastel2",
        "Pastel2_r",
        "PiYG",
        "PiYG_r",
        "PuBu",
        "PuBuGn",
        "PuBuGn_r",
        "PuBu_r",
        "PuOr",
        "PuOr_r",
        "PuRd",
        "PuRd_r",
        "Purples",
        "Purples_r",
        "RdBu",
        "RdBu_r",
        "RdGy",
        "RdGy_r",
        "RdPu",
        "RdPu_r",
        "RdYlBu",
        "RdYlBu_r",
        "RdYlGn",
        "RdYlGn_r",
        "Reds",
        "Reds_r",
        "Set1",
        "Set1_r",
        "Set2",
        "Set2_r",
        "Set3",
        "Set3_r",
        "Spectral",
        "Spectral_r",
        "Vega10",
        "Vega10_r",
        "Vega20",
        "Vega20_r",
        "Vega20b",
        "Vega20b_r",
        "Vega20c",
        "Vega20c_r",
        "Wistia",
        "Wistia_r",
        "YlGn",
        "YlGnBu",
        "YlGnBu_r",
        "YlGn_r",
        "YlOrBr",
        "YlOrBr_r",
        "YlOrRd",
        "YlOrRd_r",
        "afmhot",
        "afmhot_r",
        "autumn",
        "autumn_r",
        "binary",
        "binary_r",
        "bone",
        "bone_r",
        "brg",
        "brg_r",
        "bwr",
        "bwr_r",
        "cool",
        "cool_r",
        "coolwarm",
        "coolwarm_r",
        "copper",
        "copper_r",
        "cubehelix",
        "cubehelix_r",
        "flag",
        "flag_r",
        "gist_earth",
        "gist_earth_r",
        "gist_gray",
        "gist_gray_r",
        "gist_heat",
        "gist_heat_r",
        "gist_ncar",
        "gist_ncar_r",
        "gist_rainbow",
        "gist_rainbow_r",
        "gist_stern",
        "gist_stern_r",
        "gist_yarg",
        "gist_yarg_r",
        "gnuplot",
        "gnuplot2",
        "gnuplot2_r",
        "gnuplot_r",
        "gray",
        "gray_r",
        "hot",
        "hot_r",
        "hsv",
        "hsv_r",
        "inferno",
        "inferno_r",
        "jet",
        "jet_r",
        "magma",
        "magma_r",
        "nipy_spectral",
        "nipy_spectral_r",
        "ocean",
        "ocean_r",
        "pink",
        "pink_r",
        "plasma",
        "plasma_r",
        "prism",
        "prism_r",
        "rainbow",
        "rainbow_r",
        "seismic",
        "seismic_r",
        "spectral",
        "spectral_r",
        "spring",
        "spring_r",
        "summer",
        "summer_r",
        "tab10",
        "tab10_r",
        "tab20",
        "tab20_r",
        "tab20b",
        "tab20b_r",
        "tab20c",
        "tab20c_r",
        "terrain",
        "terrain_r",
        "viridis",
        "viridis_r",
        "winter",
        "winter_r"
       ],
       "description": "Colormap:",
       "index": 0,
       "layout": "IPY_MODEL_897822a9588b4ab585f13576dac3c861",
       "rows": 1,
       "style": "IPY_MODEL_59881df13116414fb0972ff01c1fd67f"
      }
     },
     "ef955e1071544f5ea5d5181136d0d710": {
      "model_module": "@jupyter-widgets/controls",
      "model_module_version": "1.1.0",
      "model_name": "DescriptionStyleModel",
      "state": {
       "description_width": ""
      }
     },
     "efc9adb624314b059a6308ce6fa1d05b": {
      "model_module": "@jupyter-widgets/base",
      "model_module_version": "1.0.0",
      "model_name": "LayoutModel",
      "state": {}
     },
     "f0060d0a19b1458f856c94ff00a737a2": {
      "model_module": "@jupyter-widgets/controls",
      "model_module_version": "1.1.0",
      "model_name": "HBoxModel",
      "state": {
       "children": [
        "IPY_MODEL_5854b1e62f544a3f959115160211dd43",
        "IPY_MODEL_0b2f8a6bd34c4aeca2a67d67c7e414f6"
       ],
       "layout": "IPY_MODEL_0885ae84953d4a94bd6b4d728cea9d4f"
      }
     },
     "f059480bfcd94231ab028bb0fde4777d": {
      "model_module": "@jupyter-widgets/controls",
      "model_module_version": "1.1.0",
      "model_name": "ButtonModel",
      "state": {
       "icon": "fast-backward",
       "layout": "IPY_MODEL_1648f5adfc1b4d5ab5627bb36fcc8d8a",
       "style": "IPY_MODEL_cdc889dc0d374046b80fbf9656d6cb57"
      }
     },
     "f0a8ffb6edbd4454afcfb7cd0d672763": {
      "model_module": "@jupyter-widgets/controls",
      "model_module_version": "1.1.0",
      "model_name": "ButtonStyleModel",
      "state": {}
     },
     "f0b1c3206d954004952d24948e578019": {
      "model_module": "@jupyter-widgets/controls",
      "model_module_version": "1.1.0",
      "model_name": "DescriptionStyleModel",
      "state": {
       "description_width": ""
      }
     },
     "f0f7db1f7d844930b1799935acb8e293": {
      "model_module": "@jupyter-widgets/base",
      "model_module_version": "1.0.0",
      "model_name": "LayoutModel",
      "state": {
       "height": "50px",
       "width": "100%"
      }
     },
     "f178aa59097d462e89350f24067ed806": {
      "model_module": "@jupyter-widgets/base",
      "model_module_version": "1.0.0",
      "model_name": "LayoutModel",
      "state": {
       "width": "65%"
      }
     },
     "f17d39e3f5eb4d9e88cb8b09b4d50659": {
      "model_module": "@jupyter-widgets/base",
      "model_module_version": "1.0.0",
      "model_name": "LayoutModel",
      "state": {
       "height": "50px",
       "width": "100%"
      }
     },
     "f1f1672160e742ccb8c071794542b055": {
      "model_module": "@jupyter-widgets/controls",
      "model_module_version": "1.1.0",
      "model_name": "ButtonModel",
      "state": {
       "icon": "refresh",
       "layout": "IPY_MODEL_23a92135496f43a69472d536594dd741",
       "style": "IPY_MODEL_ba15638ea7a442ebaf7c6862828eae6b"
      }
     },
     "f287b21c446045b4913501c9f3e66130": {
      "model_module": "@jupyter-widgets/controls",
      "model_module_version": "1.1.0",
      "model_name": "HBoxModel",
      "state": {
       "children": [
        "IPY_MODEL_1324f9c1472f4d54a7d9003498306b5a",
        "IPY_MODEL_2944169ec87749e0ad212538dc68ef9b",
        "IPY_MODEL_bbe374a455034207af8cbd1ee6d9b0ab",
        "IPY_MODEL_8c338f04c6964e7185dbcd1d694bb496",
        "IPY_MODEL_43d3e6b6173d4a88988c2e95712d7e03",
        "IPY_MODEL_c8d8d3b62159441dbad65869c5e0ac64",
        "IPY_MODEL_f1f1672160e742ccb8c071794542b055"
       ],
       "layout": "IPY_MODEL_c6e50f6865d24cc0b3e7e517004bd8a7"
      }
     },
     "f3f1d569e188464d8a3954f1afbd5b29": {
      "model_module": "@jupyter-widgets/controls",
      "model_module_version": "1.1.0",
      "model_name": "DescriptionStyleModel",
      "state": {
       "description_width": "initial"
      }
     },
     "f486faf719e74ddab3606eb6b422c171": {
      "model_module": "@jupyter-widgets/controls",
      "model_module_version": "1.1.0",
      "model_name": "CheckboxModel",
      "state": {
       "description": "Rotate",
       "disabled": false,
       "layout": "IPY_MODEL_129b806245d74415b1a12e759f3d4771",
       "style": "IPY_MODEL_5676a29c506945c686ec0b90e85bf3ff",
       "value": true
      }
     },
     "f4cba67000484057b9b37b3caf8806df": {
      "model_module": "@jupyter-widgets/controls",
      "model_module_version": "1.1.0",
      "model_name": "SliderStyleModel",
      "state": {
       "description_width": ""
      }
     },
     "f4d7c80461e74b77a926d162484caef9": {
      "model_module": "@jupyter-widgets/controls",
      "model_module_version": "1.1.0",
      "model_name": "ButtonModel",
      "state": {
       "icon": "forward",
       "layout": "IPY_MODEL_5876fc03bd1c477cbd78f27e2d62778e",
       "style": "IPY_MODEL_0465f9e5073040cda559588c4ecb7949"
      }
     },
     "f578492d776c424bbe14c0a57bbeb607": {
      "model_module": "@jupyter-widgets/controls",
      "model_module_version": "1.1.0",
      "model_name": "AccordionModel",
      "state": {
       "_titles": {
        "0": "XOR in Time"
       },
       "children": [
        "IPY_MODEL_c660a02872c145a8adf29c226acee9f3"
       ],
       "layout": "IPY_MODEL_c7617260690c4c4aa0c16bee4c0cc176",
       "selected_index": null
      }
     },
     "f592c001965d4ee989e50809eb8c9dbe": {
      "model_module": "@jupyter-widgets/base",
      "model_module_version": "1.0.0",
      "model_name": "LayoutModel",
      "state": {
       "width": "25%"
      }
     },
     "f5e05c3226ec4bc8837653d015e5d289": {
      "model_module": "@jupyter-widgets/controls",
      "model_module_version": "1.1.0",
      "model_name": "DescriptionStyleModel",
      "state": {
       "description_width": ""
      }
     },
     "f6224fb3a9a94a0c9358cd84cfbb1f20": {
      "model_module": "@jupyter-widgets/controls",
      "model_module_version": "1.1.0",
      "model_name": "SelectModel",
      "state": {
       "_options_labels": [
        ""
       ],
       "description": "Features:",
       "index": 0,
       "layout": "IPY_MODEL_2a83ae9036c448b59d1c662e4edf02e5",
       "rows": 1,
       "style": "IPY_MODEL_b53238043b11405d81c51533564b2409"
      }
     },
     "f624324667354087af79aa900ad57d87": {
      "model_module": "@jupyter-widgets/base",
      "model_module_version": "1.0.0",
      "model_name": "LayoutModel",
      "state": {
       "width": "10%"
      }
     },
     "f625ad725320422c96893b8babd5a8ea": {
      "model_module": "@jupyter-widgets/base",
      "model_module_version": "1.0.0",
      "model_name": "LayoutModel",
      "state": {}
     },
     "f69265f77dc6432fb2cd74872c6d7171": {
      "model_module": "@jupyter-widgets/controls",
      "model_module_version": "1.1.0",
      "model_name": "ButtonStyleModel",
      "state": {}
     },
     "f6a48c16256641f39af2505b7717976c": {
      "model_module": "@jupyter-widgets/base",
      "model_module_version": "1.0.0",
      "model_name": "LayoutModel",
      "state": {
       "width": "100%"
      }
     },
     "f772fc34ae06407a944b859c5b51c383": {
      "model_module": "@jupyter-widgets/controls",
      "model_module_version": "1.1.0",
      "model_name": "VBoxModel",
      "state": {
       "children": [
        "IPY_MODEL_9bfed1c34b84492ea3e019e7d8712206",
        "IPY_MODEL_92dd441523874ad6bf1a36cb77cf5e69",
        "IPY_MODEL_e5933aeb14304e9ab5cfd1698c43d6a5",
        "IPY_MODEL_cffbe4a2d26a48b3b322bcf456bf3d0d"
       ],
       "layout": "IPY_MODEL_4ae1fe145c204e2eb802d447e756ce4f"
      }
     },
     "f77bf8fe807b49e1bdddcd924d91e743": {
      "model_module": "@jupyter-widgets/controls",
      "model_module_version": "1.1.0",
      "model_name": "ButtonModel",
      "state": {
       "icon": "save",
       "layout": "IPY_MODEL_1364ad599e0c4496a5582e40de7c228f",
       "style": "IPY_MODEL_f0a8ffb6edbd4454afcfb7cd0d672763"
      }
     },
     "f79e99a84e2e40d99de34a250b941673": {
      "model_module": "@jupyter-widgets/controls",
      "model_module_version": "1.1.0",
      "model_name": "CheckboxModel",
      "state": {
       "description": "Rotate network",
       "disabled": false,
       "layout": "IPY_MODEL_538858e46c4c4bdea5a22783b2f945fd",
       "style": "IPY_MODEL_44b3dccdb696403cbd6c5f922cc2e84d",
       "value": false
      }
     },
     "f7dfd37cfc7b4470b13683b2036eb8f2": {
      "model_module": "@jupyter-widgets/controls",
      "model_module_version": "1.1.0",
      "model_name": "HBoxModel",
      "state": {
       "children": [
        "IPY_MODEL_f849973d2d134b999f29f24295cf82e0",
        "IPY_MODEL_9b6687dd543b4b8aa1accf61caa223be",
        "IPY_MODEL_2cab03f1edee4463a9ea8eb1217a8c48",
        "IPY_MODEL_3b4e3b97e387401f949d164897a67a49",
        "IPY_MODEL_66d5d77eacb749c791bc76c9da14f167",
        "IPY_MODEL_c20cc958a31d481388b9f9c5791024b0",
        "IPY_MODEL_5bf2d36bc26c4bf1a8d06c7fe569aa0a"
       ],
       "layout": "IPY_MODEL_f0f7db1f7d844930b1799935acb8e293"
      }
     },
     "f8090275a5464c218b7006f5620899c0": {
      "model_module": "@jupyter-widgets/controls",
      "model_module_version": "1.1.0",
      "model_name": "DescriptionStyleModel",
      "state": {
       "description_width": ""
      }
     },
     "f830ff39a7114911916fb7422d4cfffc": {
      "model_module": "@jupyter-widgets/base",
      "model_module_version": "1.0.0",
      "model_name": "LayoutModel",
      "state": {
       "width": "100%"
      }
     },
     "f849973d2d134b999f29f24295cf82e0": {
      "model_module": "@jupyter-widgets/controls",
      "model_module_version": "1.1.0",
      "model_name": "ButtonModel",
      "state": {
       "icon": "fast-backward",
       "layout": "IPY_MODEL_fefc2b041b3346ec958691121f31091b",
       "style": "IPY_MODEL_d4419bead587437f895af68873c063ce"
      }
     },
     "f8c93603baec4365a820435be79a8430": {
      "model_module": "@jupyter-widgets/controls",
      "model_module_version": "1.1.0",
      "model_name": "ButtonStyleModel",
      "state": {}
     },
     "f9367e622b354fc085bd73f8679131e5": {
      "model_module": "@jupyter-widgets/controls",
      "model_module_version": "1.1.0",
      "model_name": "ButtonModel",
      "state": {
       "icon": "forward",
       "layout": "IPY_MODEL_8d218b9d682d47ac967b087a51def8a2",
       "style": "IPY_MODEL_04301c0ad13147dba39dc6ffd7581658"
      }
     },
     "f9a05ad7d9cd4df3a7585fbec63a9ec0": {
      "model_module": "@jupyter-widgets/controls",
      "model_module_version": "1.1.0",
      "model_name": "ButtonModel",
      "state": {
       "icon": "fast-forward",
       "layout": "IPY_MODEL_bcd08b8ae5b64585a7d7382019eb0d0a",
       "style": "IPY_MODEL_ca9b25a168744572aa4d227ed14a5321"
      }
     },
     "fa4fc4e5887d40ed9217b621ae358f2e": {
      "model_module": "@jupyter-widgets/base",
      "model_module_version": "1.0.0",
      "model_name": "LayoutModel",
      "state": {
       "width": "100%"
      }
     },
     "fa536e196bec4095aa0e0b136e28cc81": {
      "model_module": "@jupyter-widgets/controls",
      "model_module_version": "1.1.0",
      "model_name": "DescriptionStyleModel",
      "state": {
       "description_width": "initial"
      }
     },
     "fa86debc53fb47ea8f456afe1f81e76e": {
      "model_module": "@jupyter-widgets/controls",
      "model_module_version": "1.1.0",
      "model_name": "ButtonModel",
      "state": {
       "icon": "forward",
       "layout": "IPY_MODEL_72fc993a472a4755aa95e63ee900f029",
       "style": "IPY_MODEL_11cbb326dd974229bd182d57564c9cca"
      }
     },
     "fac53ea7199d46b58328e7f99a0e7c51": {
      "model_module": "@jupyter-widgets/controls",
      "model_module_version": "1.1.0",
      "model_name": "DescriptionStyleModel",
      "state": {
       "description_width": "initial"
      }
     },
     "fb19988e44774f0193f02b2845ec9656": {
      "model_module": "@jupyter-widgets/controls",
      "model_module_version": "1.1.0",
      "model_name": "IntTextModel",
      "state": {
       "description": "Feature to show:",
       "layout": "IPY_MODEL_78190a3774df4f898479e309f7f175ca",
       "step": 1,
       "style": "IPY_MODEL_ec206e23db414c6ba9a4fd376cbfd7a1"
      }
     },
     "fc2cea667cb94187b6723d3a26359afe": {
      "model_module": "@jupyter-widgets/controls",
      "model_module_version": "1.1.0",
      "model_name": "DescriptionStyleModel",
      "state": {
       "description_width": "initial"
      }
     },
     "fc64824680094c439b25107ff3949371": {
      "model_module": "@jupyter-widgets/base",
      "model_module_version": "1.0.0",
      "model_name": "LayoutModel",
      "state": {
       "height": "40px"
      }
     },
     "fc7b3648e0f04817bff1a149c87f3535": {
      "model_module": "@jupyter-widgets/base",
      "model_module_version": "1.0.0",
      "model_name": "LayoutModel",
      "state": {}
     },
     "fccce95d4cf64742af5573d504d6b944": {
      "model_module": "@jupyter-widgets/controls",
      "model_module_version": "1.1.0",
      "model_name": "ButtonModel",
      "state": {
       "icon": "fast-forward",
       "layout": "IPY_MODEL_4355b7a1d1584fda8d6b7bf79b233db2",
       "style": "IPY_MODEL_351742b4cf624c56a0f3a58efc3fbf1e"
      }
     },
     "fccf01bad4c248c58965c265a694a715": {
      "model_module": "@jupyter-widgets/controls",
      "model_module_version": "1.1.0",
      "model_name": "DescriptionStyleModel",
      "state": {
       "description_width": "initial"
      }
     },
     "fcd583f56ce645f49e32ec75019ce0f7": {
      "model_module": "@jupyter-widgets/base",
      "model_module_version": "1.0.0",
      "model_name": "LayoutModel",
      "state": {
       "width": "100%"
      }
     },
     "fd6c77bacf9d4bf492ce1526f61d2b99": {
      "model_module": "@jupyter-widgets/base",
      "model_module_version": "1.0.0",
      "model_name": "LayoutModel",
      "state": {}
     },
     "fd8a4f7748e746068a9b6f4dad4a3f65": {
      "model_module": "@jupyter-widgets/controls",
      "model_module_version": "1.1.0",
      "model_name": "IntTextModel",
      "state": {
       "description": "Feature to show:",
       "layout": "IPY_MODEL_438d0f96cdec4fe4b5bbd99fd9d4ed38",
       "step": 1,
       "style": "IPY_MODEL_d7038515aba64b7ba2ffc2601e5d47da"
      }
     },
     "fd9680e32c254b588a328a52d912ab7c": {
      "model_module": "@jupyter-widgets/controls",
      "model_module_version": "1.1.0",
      "model_name": "ButtonModel",
      "state": {
       "icon": "forward",
       "layout": "IPY_MODEL_ecc20c0014974548976a940fb29d144d",
       "style": "IPY_MODEL_3a982e9bafda4bb5951e06930f74ce95"
      }
     },
     "fda0f0479070495f80ab629a615d4fdb": {
      "model_module": "@jupyter-widgets/controls",
      "model_module_version": "1.1.0",
      "model_name": "ButtonModel",
      "state": {
       "icon": "fast-backward",
       "layout": "IPY_MODEL_b5d23f75463940a2acbf55940bfb524c",
       "style": "IPY_MODEL_99a96338f83a4fcf91650b836343efb6"
      }
     },
     "fdcb099ddb6644369bbb755655cb8724": {
      "model_module": "@jupyter-widgets/controls",
      "model_module_version": "1.1.0",
      "model_name": "ButtonStyleModel",
      "state": {}
     },
     "fdf284abe3b24a6c8f489182e8da548e": {
      "model_module": "@jupyter-widgets/controls",
      "model_module_version": "1.1.0",
      "model_name": "VBoxModel",
      "state": {
       "children": [
        "IPY_MODEL_32569a6dd2964f638f23aa3e621d7cc7",
        "IPY_MODEL_41bce39878c34139aa6a529debd824e5"
       ],
       "layout": "IPY_MODEL_803b11e06a324454a73cda90e57af45d"
      }
     },
     "fefc2b041b3346ec958691121f31091b": {
      "model_module": "@jupyter-widgets/base",
      "model_module_version": "1.0.0",
      "model_name": "LayoutModel",
      "state": {
       "width": "100%"
      }
     },
     "ff2e47e0274b45a58aaaf1bc201342c5": {
      "model_module": "@jupyter-widgets/controls",
      "model_module_version": "1.1.0",
      "model_name": "ButtonStyleModel",
      "state": {}
     }
    },
    "version_major": 2,
    "version_minor": 0
   }
  }
 },
 "nbformat": 4,
 "nbformat_minor": 2
}
