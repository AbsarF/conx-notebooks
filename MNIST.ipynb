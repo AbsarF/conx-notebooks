{
 "cells": [
  {
   "cell_type": "markdown",
   "metadata": {},
   "source": [
    "# The MNIST Dataset\n",
    "\n",
    "In this notebook, we will create a neural network to recognize handwritten digits from the famous MNIST dataset.\n",
    "\n",
    "We will experiment with two different networks for this task. The first one will be a *multi-layer perceptron* (MLP), which is a standard type of feedforward neural network with fully-connected layers of weights, and the second will be a *convolutional neural network* (CNN), which takes advantage of the inherently two-dimensional spatial geometry of the input images.\n",
    "\n",
    "Let's begin by reading in the MNIST dataset and printing a short description of its contents."
   ]
  },
  {
   "cell_type": "code",
   "execution_count": 1,
   "metadata": {},
   "outputs": [
    {
     "name": "stderr",
     "output_type": "stream",
     "text": [
      "Using Theano backend.\n",
      "Conx, version 3.6.1\n"
     ]
    }
   ],
   "source": [
    "import conx as cx"
   ]
  },
  {
   "cell_type": "code",
   "execution_count": 2,
   "metadata": {},
   "outputs": [
    {
     "data": {
      "text/markdown": [
       "**Dataset**: MNIST\n",
       "\n",
       "\n",
       "Original source: http://yann.lecun.com/exdb/mnist/\n",
       "\n",
       "The MNIST dataset contains 70,000 images of handwritten digits (zero\n",
       "to nine) that have been size-normalized and centered in a square grid\n",
       "of pixels.  Each image is a 28 × 28 × 1 array of floating-point numbers\n",
       "representing grayscale intensities ranging from 0 (black) to 1\n",
       "(white).  The target data consists of one-hot binary vectors of size\n",
       "10, corresponding to the digit classification categories zero through\n",
       "nine.  Some example MNIST images are shown below:\n",
       "\n",
       "![MNIST Images](https://github.com/Calysto/conx/raw/master/data/mnist_images.png)\n",
       "\n",
       "**Information**:\n",
       "   * name    : MNIST\n",
       "   * length  : 70000\n",
       "\n",
       "**Input Summary**:\n",
       "   * shape  : (28, 28, 1)\n",
       "   * range  : (0.0, 1.0)\n",
       "\n",
       "**Target Summary**:\n",
       "   * shape  : (10,)\n",
       "   * range  : (0.0, 1.0)\n",
       "\n"
      ],
      "text/plain": [
       "**Dataset**: MNIST\n",
       "\n",
       "\n",
       "Original source: http://yann.lecun.com/exdb/mnist/\n",
       "\n",
       "The MNIST dataset contains 70,000 images of handwritten digits (zero\n",
       "to nine) that have been size-normalized and centered in a square grid\n",
       "of pixels.  Each image is a 28 × 28 × 1 array of floating-point numbers\n",
       "representing grayscale intensities ranging from 0 (black) to 1\n",
       "(white).  The target data consists of one-hot binary vectors of size\n",
       "10, corresponding to the digit classification categories zero through\n",
       "nine.  Some example MNIST images are shown below:\n",
       "\n",
       "![MNIST Images](https://github.com/Calysto/conx/raw/master/data/mnist_images.png)\n",
       "\n",
       "**Information**:\n",
       "   * name    : MNIST\n",
       "   * length  : 70000\n",
       "\n",
       "**Input Summary**:\n",
       "   * shape  : (28, 28, 1)\n",
       "   * range  : (0.0, 1.0)\n",
       "\n",
       "**Target Summary**:\n",
       "   * shape  : (10,)\n",
       "   * range  : (0.0, 1.0)\n"
      ]
     },
     "metadata": {},
     "output_type": "display_data"
    }
   ],
   "source": [
    "mnist = cx.Dataset.get('mnist')\n",
    "mnist.info()"
   ]
  },
  {
   "cell_type": "markdown",
   "metadata": {},
   "source": [
    "We can also print a shorter, less detailed summary:"
   ]
  },
  {
   "cell_type": "code",
   "execution_count": 3,
   "metadata": {},
   "outputs": [
    {
     "name": "stdout",
     "output_type": "stream",
     "text": [
      "_________________________________________________________________\n",
      "MNIST:\n",
      "Patterns    Shape                 Range                         \n",
      "=================================================================\n",
      "inputs      (28, 28, 1)           (0.0, 1.0)                    \n",
      "targets     (10,)                 (0.0, 1.0)                    \n",
      "=================================================================\n",
      "Total patterns: 70000\n",
      "   Training patterns: 70000\n",
      "   Testing patterns: 0\n",
      "_________________________________________________________________\n"
     ]
    }
   ],
   "source": [
    "mnist.summary()"
   ]
  },
  {
   "cell_type": "markdown",
   "metadata": {},
   "source": [
    "Now let's take a look at some input patterns. Typing ``mnist.inputs[0]`` returns a large nested list of numbers, which isn't a particularly useful way to view a pattern.  A better way is to use Conx's ``view`` function:"
   ]
  },
  {
   "cell_type": "code",
   "execution_count": 4,
   "metadata": {},
   "outputs": [
    {
     "data": {
      "image/png": "[encoded data removed]",
      "text/plain": [
       "<matplotlib.figure.Figure at 0x115c207f0>"
      ]
     },
     "metadata": {},
     "output_type": "display_data"
    }
   ],
   "source": [
    "cx.view(mnist.inputs[0])"
   ]
  },
  {
   "cell_type": "markdown",
   "metadata": {},
   "source": [
    "It's easy to view multiple patterns at once using Python's slice operator in conjunction with the ``layout`` keyword:"
   ]
  },
  {
   "cell_type": "code",
   "execution_count": 5,
   "metadata": {},
   "outputs": [
    {
     "data": {
      "image/png": "[encoded data removed]",
      "text/plain": [
       "<matplotlib.figure.Figure at 0x115c786d8>"
      ]
     },
     "metadata": {},
     "output_type": "display_data"
    }
   ],
   "source": [
    "cx.view(mnist.inputs[0:20], layout=(2,10))"
   ]
  },
  {
   "cell_type": "markdown",
   "metadata": {},
   "source": [
    "Conx allows us to refer to multiple input patterns using arbitrary indices:"
   ]
  },
  {
   "cell_type": "code",
   "execution_count": 6,
   "metadata": {},
   "outputs": [
    {
     "data": {
      "image/png": "[encoded data removed]",
      "text/plain": [
       "<matplotlib.figure.Figure at 0x115cc9208>"
      ]
     },
     "metadata": {},
     "output_type": "display_data"
    }
   ],
   "source": [
    "cx.view(mnist.inputs[0, 2, 4, 77, 150, 88, 9000])"
   ]
  },
  {
   "cell_type": "markdown",
   "metadata": {},
   "source": [
    "Viewing the target patterns works in a similar way:"
   ]
  },
  {
   "cell_type": "code",
   "execution_count": 7,
   "metadata": {},
   "outputs": [
    {
     "data": {
      "text/plain": [
       "[0.0, 0.0, 0.0, 0.0, 0.0, 1.0, 0.0, 0.0, 0.0, 0.0]"
      ]
     },
     "execution_count": 7,
     "metadata": {},
     "output_type": "execute_result"
    }
   ],
   "source": [
    "mnist.targets[0]"
   ]
  },
  {
   "cell_type": "code",
   "execution_count": 8,
   "metadata": {},
   "outputs": [
    {
     "data": {
      "image/png": "[encoded data removed]",
      "text/plain": [
       "<matplotlib.figure.Figure at 0x115f519e8>"
      ]
     },
     "metadata": {},
     "output_type": "display_data"
    }
   ],
   "source": [
    "cx.view(mnist.targets[0])"
   ]
  },
  {
   "cell_type": "code",
   "execution_count": 9,
   "metadata": {},
   "outputs": [
    {
     "data": {
      "text/plain": [
       "[[0.0, 0.0, 0.0, 0.0, 0.0, 1.0, 0.0, 0.0, 0.0, 0.0],\n",
       " [1.0, 0.0, 0.0, 0.0, 0.0, 0.0, 0.0, 0.0, 0.0, 0.0],\n",
       " [0.0, 0.0, 0.0, 0.0, 1.0, 0.0, 0.0, 0.0, 0.0, 0.0],\n",
       " [0.0, 1.0, 0.0, 0.0, 0.0, 0.0, 0.0, 0.0, 0.0, 0.0],\n",
       " [0.0, 0.0, 0.0, 0.0, 0.0, 0.0, 0.0, 0.0, 0.0, 1.0]]"
      ]
     },
     "execution_count": 9,
     "metadata": {},
     "output_type": "execute_result"
    }
   ],
   "source": [
    "mnist.targets[0:5]"
   ]
  },
  {
   "cell_type": "markdown",
   "metadata": {},
   "source": [
    "In addition to ``inputs`` and ``targets``, each dataset has a ``labels`` property that stores a collection of strings describing the classification category of each input:"
   ]
  },
  {
   "cell_type": "code",
   "execution_count": 10,
   "metadata": {},
   "outputs": [
    {
     "data": {
      "image/png": "[encoded data removed]",
      "text/plain": [
       "<matplotlib.figure.Figure at 0x107512d30>"
      ]
     },
     "metadata": {},
     "output_type": "display_data"
    },
    {
     "name": "stdout",
     "output_type": "stream",
     "text": [
      "['5', '0', '4', '1', '9']\n"
     ]
    }
   ],
   "source": [
    "cx.view(mnist.inputs[0:5])\n",
    "print(mnist.labels[0:5])"
   ]
  },
  {
   "cell_type": "markdown",
   "metadata": {},
   "source": [
    "The ``labels`` property is useful for selecting particular input patterns. For example, to view just the \"two\"'s in the dataset, we can first create a list containing the index numbers of all of the \"two\"'s, and then view the first twenty, like this:"
   ]
  },
  {
   "cell_type": "code",
   "execution_count": 11,
   "metadata": {},
   "outputs": [
    {
     "name": "stdout",
     "output_type": "stream",
     "text": [
      "Found 6990 twos\n",
      "[5, 16, 25, 28, 76, 82, 109, 117, 120, 122, 143, 159, 161, 171, 178, 180, 187, 189, 190, 199]\n"
     ]
    }
   ],
   "source": [
    "indices = [i for i in range(len(mnist.inputs)) if mnist.labels[i] == '2']\n",
    "print('Found', len(indices), 'twos')\n",
    "print(indices[:20])"
   ]
  },
  {
   "cell_type": "code",
   "execution_count": 12,
   "metadata": {},
   "outputs": [
    {
     "data": {
      "image/png": "[encoded data removed]",
      "text/plain": [
       "<matplotlib.figure.Figure at 0x107512e48>"
      ]
     },
     "metadata": {},
     "output_type": "display_data"
    }
   ],
   "source": [
    "cx.view(mnist.inputs[indices[:20]], layout=(2,10))"
   ]
  },
  {
   "cell_type": "markdown",
   "metadata": {},
   "source": [
    "We can accomplish the same thing more directly (and efficiently) using the `select` method, together with the `slice` keyword:"
   ]
  },
  {
   "cell_type": "code",
   "execution_count": 13,
   "metadata": {},
   "outputs": [
    {
     "data": {
      "image/png": "[encoded data removed]",
      "text/plain": [
       "<matplotlib.figure.Figure at 0x10768d7b8>"
      ]
     },
     "metadata": {},
     "output_type": "display_data"
    }
   ],
   "source": [
    "digits = mnist.inputs.select(lambda i,ds: ds.labels[i] == '2', slice=20)\n",
    "cx.view(digits, layout=(2,10))"
   ]
  },
  {
   "cell_type": "markdown",
   "metadata": {},
   "source": [
    " Let's randomly shuffle the dataset before we train the network:"
   ]
  },
  {
   "cell_type": "code",
   "execution_count": 14,
   "metadata": {},
   "outputs": [
    {
     "data": {
      "image/png": "[encoded data removed]",
      "text/plain": [
       "<matplotlib.figure.Figure at 0x1076529b0>"
      ]
     },
     "metadata": {},
     "output_type": "display_data"
    }
   ],
   "source": [
    "mnist.shuffle()\n",
    "cx.view(mnist.inputs[0:10])"
   ]
  },
  {
   "cell_type": "markdown",
   "metadata": {},
   "source": [
    "When training a neural network, it is usually best to divide the dataset into two subsets: the *training* set and the *testing* (or *validation*) set.  We train the network on the training patterns only, and test its performance on the validation set to see how well it handles novel patterns.  Calling ``split()`` returns a tuple containing the current sizes of the training and testing sets, respectively:"
   ]
  },
  {
   "cell_type": "code",
   "execution_count": 15,
   "metadata": {},
   "outputs": [
    {
     "data": {
      "text/plain": [
       "(70000, 0)"
      ]
     },
     "execution_count": 15,
     "metadata": {},
     "output_type": "execute_result"
    }
   ],
   "source": [
    "mnist.split()"
   ]
  },
  {
   "cell_type": "markdown",
   "metadata": {},
   "source": [
    "We now split the data into 60,000 training patterns and 10,000 testing patterns, and then verify the split:"
   ]
  },
  {
   "cell_type": "code",
   "execution_count": 16,
   "metadata": {},
   "outputs": [
    {
     "data": {
      "text/plain": [
       "(60000, 10000)"
      ]
     },
     "execution_count": 16,
     "metadata": {},
     "output_type": "execute_result"
    }
   ],
   "source": [
    "mnist.split(10000)\n",
    "mnist.split()"
   ]
  },
  {
   "cell_type": "markdown",
   "metadata": {},
   "source": [
    "The last 10,000 patterns in the dataset are now reserved for testing.  As a convenience, we can refer to the training and testing sets independently, counting from 0, via the properties ``train_inputs``, ``train_targets``, ``train_labels``, and ``test_inputs``, ``test_targets``, and ``test_labels``.  The properties `inputs`, `targets`, and `labels` refer to all 70,000 input images, regardless of the current split.  For example:"
   ]
  },
  {
   "cell_type": "code",
   "execution_count": 17,
   "metadata": {},
   "outputs": [
    {
     "name": "stdout",
     "output_type": "stream",
     "text": [
      "70000 total images\n",
      "60000 images for training\n",
      "10000 images for testing\n"
     ]
    }
   ],
   "source": [
    "print(len(mnist.inputs), 'total images')\n",
    "print(len(mnist.train_inputs), 'images for training')\n",
    "print(len(mnist.test_inputs), 'images for testing')"
   ]
  },
  {
   "cell_type": "code",
   "execution_count": 18,
   "metadata": {},
   "outputs": [
    {
     "data": {
      "image/png": "[encoded data removed]",
      "text/plain": [
       "<matplotlib.figure.Figure at 0x115f4c358>"
      ]
     },
     "metadata": {},
     "output_type": "display_data"
    },
    {
     "name": "stdout",
     "output_type": "stream",
     "text": [
      "['3', '5', '3', '0', '0', '0', '7', '0', '9', '2']\n"
     ]
    },
    {
     "data": {
      "image/png": "[encoded data removed]",
      "text/plain": [
       "<matplotlib.figure.Figure at 0x115cc9ac8>"
      ]
     },
     "metadata": {},
     "output_type": "display_data"
    },
    {
     "name": "stdout",
     "output_type": "stream",
     "text": [
      "['3', '5', '3', '0', '0', '0', '7', '0', '9', '2']\n"
     ]
    }
   ],
   "source": [
    "cx.view(mnist.inputs[0:10])\n",
    "print(mnist.labels[0:10])\n",
    "cx.view(mnist.train_inputs[0:10])  # same as inputs[0:10]\n",
    "print(mnist.train_labels[0:10])    # same as labels[0:10]"
   ]
  },
  {
   "cell_type": "code",
   "execution_count": 19,
   "metadata": {},
   "outputs": [
    {
     "data": {
      "image/png": "[encoded data removed]",
      "text/plain": [
       "<matplotlib.figure.Figure at 0x115e19ac8>"
      ]
     },
     "metadata": {},
     "output_type": "display_data"
    },
    {
     "name": "stdout",
     "output_type": "stream",
     "text": [
      "['8', '8', '5', '3', '0', '6', '4', '7', '3', '5']\n"
     ]
    },
    {
     "data": {
      "image/png": "[encoded data removed]",
      "text/plain": [
       "<matplotlib.figure.Figure at 0x115ddaf60>"
      ]
     },
     "metadata": {},
     "output_type": "display_data"
    },
    {
     "name": "stdout",
     "output_type": "stream",
     "text": [
      "['8', '8', '5', '3', '0', '6', '4', '7', '3', '5']\n"
     ]
    }
   ],
   "source": [
    "cx.view(mnist.inputs[60000:60010])\n",
    "print(mnist.labels[60000:60010])\n",
    "cx.view(mnist.test_inputs[0:10])   # same as inputs[60000:60010]\n",
    "print(mnist.test_labels[0:10])     # same as labels[60000:60010]"
   ]
  },
  {
   "cell_type": "markdown",
   "metadata": {},
   "source": [
    "The MNIST digits are grayscale images, with each pixel represented as a single intensity value in the range 0 (black) to 1 (white). You can think of the whole image as consisting of 784 numbers arranged in a plane of 28 rows and 28 columns. For color (RGB) images, however, each pixel consists of three numbers (one for Red intensity, one for Green, and one for Blue). Therefore color images are represented as arrays of shape *rows* &times; *columns* &times; 3, where the 3 indicates the *depth* of the image. For consistency, the grayscale MNIST images are treated as images of depth 1, with shape *rows* &times; *columns* &times; 1. We can verify this by calling `cx.shape` on input image #0:"
   ]
  },
  {
   "cell_type": "code",
   "execution_count": 20,
   "metadata": {},
   "outputs": [
    {
     "data": {
      "text/plain": [
       "(28, 28, 1)"
      ]
     },
     "execution_count": 20,
     "metadata": {},
     "output_type": "execute_result"
    }
   ],
   "source": [
    "cx.shape(mnist.inputs[0])"
   ]
  },
  {
   "cell_type": "markdown",
   "metadata": {},
   "source": [
    "## A multi-layer perceptron network for MNIST classification\n",
    "\n",
    "Now we are ready to build a basic feedforward neural network to learn the MNIST data.  We will create a network with an input layer of shape 28 &times; 28 &times; 1, to match the shape of the input patterns, followed by two hidden layers of 30 units each, and an output classification layer.  However, in order to feed a 2-dimensional input image into the hidden layers, we must first \"flatten\" it into a linear vector of size 784 using a special ``FlattenLayer``.  Our output layer will have 10 units, one for each digit classification (\"zero\" to \"nine\"), and will use the *softmax* activation function.  A softmax layer outputs a *probability distribution*, which means that each of the numbers can be interpreted as a probability (in the range 0-1) representing the likelihood that the input pattern is an example of the corresponding classification category.  Here is a schematic picture of our network:\n",
    "\n",
    "<p><img src=\"mnist_mlp_picture.png\" width=\"50%\"></p>\n",
    "\n",
    "To build this network in Conx, we first create a ``Network`` object, giving it the arbitrary name \"MNIST_MLP\", then add each ``Layer`` in order.  Finally, we create the connections between layers using the single command ``connect()``."
   ]
  },
  {
   "cell_type": "code",
   "execution_count": 21,
   "metadata": {},
   "outputs": [],
   "source": [
    "net = cx.Network('MNIST_MLP')\n",
    "\n",
    "net.add(cx.Layer('input', (28,28,1)))\n",
    "net.add(cx.FlattenLayer('flat_input'))\n",
    "net.add(cx.Layer('hidden1', 30, activation='relu'))\n",
    "net.add(cx.Layer('hidden2', 30, activation='relu'))\n",
    "net.add(cx.Layer('output', 10, activation='softmax'))\n",
    "\n",
    "# creates connections between layers in the order they were added\n",
    "net.connect()"
   ]
  },
  {
   "cell_type": "code",
   "execution_count": 22,
   "metadata": {},
   "outputs": [
    {
     "data": {
      "application/javascript": [
       "\n",
       "require(['base/js/namespace'], function(Jupyter) {\n",
       "    Jupyter.notebook.kernel.comm_manager.register_target('conx_svg_control', function(comm, msg) {\n",
       "        comm.on_msg(function(msg) {\n",
       "            var data = msg[\"content\"][\"data\"];\n",
       "            var images = document.getElementsByClassName(data[\"class\"]);\n",
       "            for (var i = 0; i < images.length; i++) {\n",
       "                if (data[\"href\"]) {\n",
       "                    images[i].setAttributeNS(null, \"href\", data[\"href\"]);\n",
       "                }\n",
       "                if (data[\"src\"]) {\n",
       "                    images[i].setAttributeNS(null, \"src\", data[\"src\"]);\n",
       "                }\n",
       "            }\n",
       "        });\n",
       "    });\n",
       "});\n"
      ],
      "text/plain": [
       "<IPython.core.display.Javascript object>"
      ]
     },
     "metadata": {},
     "output_type": "display_data"
    },
    {
     "data": {
      "text/html": [
       "<svg id='MNIST_MLP' xmlns='http://www.w3.org/2000/svg' image-rendering=\"pixelated\" width=\"245.6140350877193px\" height=\"400.0px\">\n",
       " <g >\n",
       "  <svg viewBox=\"0 0 350 570\" width=\"245.6140350877193px\" height=\"400.0px\">\n",
       "    <defs>\n",
       "        <marker id=\"arrow\" markerWidth=\"10\" markerHeight=\"10\" refX=\"9\" refY=\"3\" orient=\"auto\" markerUnits=\"strokeWidth\">\n",
       "          <path d=\"M0,0 L0,6 L9,3 z\" fill=\"black\" />\n",
       "        </marker>\n",
       "    </defs><rect x=\"74.0\" y=\"24\" width=\"202\" height=\"52\" style=\"fill:none;stroke:black;stroke-width:2\"/><image id=\"picture-static-MNIST_MLP-188128_output_1\" class=\"picture-static-MNIST_MLP-188128_output\" x=\"75.0\" y=\"25\" height=\"50\" width=\"200\" preserveAspectRatio=\"none\" href=\"data:image/gif;base64,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\"><title>Layer: output (output)\n",
       " output range: (-1.0, 1.0)\n",
       " shape = (10,)\n",
       " Keras class = Dense\n",
       " activation = softmax</title></image><text x=\"280.0\" y=\"52.0\" font-family=\"monospace\" font-size=\"12\" text-anchor=\"start\" fill=\"black\" alignment-baseline=\"central\" >output</text><line x1=\"175.0\" y1=\"104\" x2=\"175.0\" y2=\"77\" stroke=\"black\" stroke-width=\"2\" marker-end=\"url(#arrow)\"><title>Weights from hidden2 to output</title></line><rect x=\"74.0\" y=\"104\" width=\"202\" height=\"52\" style=\"fill:none;stroke:black;stroke-width:2\"/><image id=\"picture-static-MNIST_MLP-188128_hidden2_2\" class=\"picture-static-MNIST_MLP-188128_hidden2\" x=\"75.0\" y=\"105\" height=\"50\" width=\"200\" preserveAspectRatio=\"none\" href=\"data:image/gif;base64,R0lGODdhHgABAIcAAP/9/QAAAAAAAAAAAAAAAAAAAAAAAAAAAAAAAAAAAAAAAAAAAAAAAAAAAAAAAAAAAAAAAAAAAAAAAAAAAAAAAAAAAAAAAAAAAAAAAAAAAAAAAAAAAAAAAAAAAAAAAAAAAAAAAAAAAAAAAAAAAAAAAAAAAAAAAAAAAAAAAAAAAAAAAAAAAAAAAAAAAAAAAAAAAAAAAAAAAAAAAAAAAAAAAAAAAAAAAAAAAAAAAAAAAAAAAAAAAAAAAAAAAAAAAAAAAAAAAAAAAAAAAAAAAAAAAAAAAAAAAAAAAAAAAAAAAAAAAAAAAAAAAAAAAAAAAAAAAAAAAAAAAAAAAAAAAAAAAAAAAAAAAAAAAAAAAAAAAAAAAAAAAAAAAAAAAAAAAAAAAAAAAAAAAAAAAAAAAAAAAAAAAAAAAAAAAAAAAAAAAAAAAAAAAAAAAAAAAAAAAAAAAAAAAAAAAAAAAAAAAAAAAAAAAAAAAAAAAAAAAAAAAAAAAAAAAAAAAAAAAAAAAAAAAAAAAAAAAAAAAAAAAAAAAAAAAAAAAAAAAAAAAAAAAAAAAAAAAAAAAAAAAAAAAAAAAAAAAAAAAAAAAAAAAAAAAAAAAAAAAAAAAAAAAAAAAAAAAAAAAAAAAAAAAAAAAAAAAAAAAAAAAAAAAAAAAAAAAAAAAAAAAAAAAAAAAAAAAAAAAAAAAAAAAAAAAAAAAAAAAAAAAAAAAAAAAAAAAAAAAAAAAAAAAAAAAAAAAAAAAAAAAAAAAAAAAAAAAAAAAAAAAAAAAAAAAAAAAAAAAAAAAAAAAAAAAAAAAAAAAAAAAAAAAAAAAAAAAAAAAAAAAAAAAAAAAAAAAAAAAAAAAAAAAAAAAAAAAAAAAAAAAAAAAAAAAAAAAAAAAAAAAAAAAAAAAAAAAAAAAAAAAAAAAAAAAAAAAAAAAAAAAAAAAAAAAAAAAAAAAAAAAAAAAAAAAAAAAAAAAAAAAAAAAAAAAAAAAAAAAAAAAAAAAAAAAAAAAAAAAAAAAAAAAAAAAAAAAAAAACwAAAAAHgABAAAIDAABCBxIsKDBgwIDAgA7\"><title>Layer: hidden2 (hidden)\n",
       " output range: (-1.0, 1.0)\n",
       " shape = (30,)\n",
       " Keras class = Dense\n",
       " activation = relu</title></image><text x=\"280.0\" y=\"132.0\" font-family=\"monospace\" font-size=\"12\" text-anchor=\"start\" fill=\"black\" alignment-baseline=\"central\" >hidden2</text><line x1=\"175.0\" y1=\"184\" x2=\"175.0\" y2=\"157\" stroke=\"black\" stroke-width=\"2\" marker-end=\"url(#arrow)\"><title>Weights from hidden1 to hidden2</title></line><rect x=\"74.0\" y=\"184\" width=\"202\" height=\"52\" style=\"fill:none;stroke:black;stroke-width:2\"/><image id=\"picture-static-MNIST_MLP-188128_hidden1_3\" class=\"picture-static-MNIST_MLP-188128_hidden1\" x=\"75.0\" y=\"185\" height=\"50\" width=\"200\" preserveAspectRatio=\"none\" href=\"data:image/gif;base64,R0lGODdhHgABAIcAAP/9/QAAAAAAAAAAAAAAAAAAAAAAAAAAAAAAAAAAAAAAAAAAAAAAAAAAAAAAAAAAAAAAAAAAAAAAAAAAAAAAAAAAAAAAAAAAAAAAAAAAAAAAAAAAAAAAAAAAAAAAAAAAAAAAAAAAAAAAAAAAAAAAAAAAAAAAAAAAAAAAAAAAAAAAAAAAAAAAAAAAAAAAAAAAAAAAAAAAAAAAAAAAAAAAAAAAAAAAAAAAAAAAAAAAAAAAAAAAAAAAAAAAAAAAAAAAAAAAAAAAAAAAAAAAAAAAAAAAAAAAAAAAAAAAAAAAAAAAAAAAAAAAAAAAAAAAAAAAAAAAAAAAAAAAAAAAAAAAAAAAAAAAAAAAAAAAAAAAAAAAAAAAAAAAAAAAAAAAAAAAAAAAAAAAAAAAAAAAAAAAAAAAAAAAAAAAAAAAAAAAAAAAAAAAAAAAAAAAAAAAAAAAAAAAAAAAAAAAAAAAAAAAAAAAAAAAAAAAAAAAAAAAAAAAAAAAAAAAAAAAAAAAAAAAAAAAAAAAAAAAAAAAAAAAAAAAAAAAAAAAAAAAAAAAAAAAAAAAAAAAAAAAAAAAAAAAAAAAAAAAAAAAAAAAAAAAAAAAAAAAAAAAAAAAAAAAAAAAAAAAAAAAAAAAAAAAAAAAAAAAAAAAAAAAAAAAAAAAAAAAAAAAAAAAAAAAAAAAAAAAAAAAAAAAAAAAAAAAAAAAAAAAAAAAAAAAAAAAAAAAAAAAAAAAAAAAAAAAAAAAAAAAAAAAAAAAAAAAAAAAAAAAAAAAAAAAAAAAAAAAAAAAAAAAAAAAAAAAAAAAAAAAAAAAAAAAAAAAAAAAAAAAAAAAAAAAAAAAAAAAAAAAAAAAAAAAAAAAAAAAAAAAAAAAAAAAAAAAAAAAAAAAAAAAAAAAAAAAAAAAAAAAAAAAAAAAAAAAAAAAAAAAAAAAAAAAAAAAAAAAAAAAAAAAAAAAAAAAAAAAAAAAAAAAAAAAAAAAAAAAAAAAAAAAAAAAAAAAAAAAAAAAAAAAAAAAAAAAAAAAACwAAAAAHgABAAAIDAABCBxIsKDBgwIDAgA7\"><title>Layer: hidden1 (hidden)\n",
       " output range: (-1.0, 1.0)\n",
       " shape = (30,)\n",
       " Keras class = Dense\n",
       " activation = relu</title></image><text x=\"280.0\" y=\"212.0\" font-family=\"monospace\" font-size=\"12\" text-anchor=\"start\" fill=\"black\" alignment-baseline=\"central\" >hidden1</text><line x1=\"175.0\" y1=\"264\" x2=\"175.0\" y2=\"237\" stroke=\"black\" stroke-width=\"2\" marker-end=\"url(#arrow)\"><title>Weights from flat_input to hidden1</title></line><rect x=\"124.0\" y=\"264\" width=\"102\" height=\"52\" style=\"fill:none;stroke:black;stroke-width:2\"/><image id=\"picture-static-MNIST_MLP-188128_flat_input_4\" class=\"picture-static-MNIST_MLP-188128_flat_input\" x=\"125.0\" y=\"265\" height=\"50\" width=\"100\" preserveAspectRatio=\"none\" href=\"data:image/gif;base64,R0lGODdhZAABAIcAAH9/fwAAAAAAAAAAAAAAAAAAAAAAAAAAAAAAAAAAAAAAAAAAAAAAAAAAAAAAAAAAAAAAAAAAAAAAAAAAAAAAAAAAAAAAAAAAAAAAAAAAAAAAAAAAAAAAAAAAAAAAAAAAAAAAAAAAAAAAAAAAAAAAAAAAAAAAAAAAAAAAAAAAAAAAAAAAAAAAAAAAAAAAAAAAAAAAAAAAAAAAAAAAAAAAAAAAAAAAAAAAAAAAAAAAAAAAAAAAAAAAAAAAAAAAAAAAAAAAAAAAAAAAAAAAAAAAAAAAAAAAAAAAAAAAAAAAAAAAAAAAAAAAAAAAAAAAAAAAAAAAAAAAAAAAAAAAAAAAAAAAAAAAAAAAAAAAAAAAAAAAAAAAAAAAAAAAAAAAAAAAAAAAAAAAAAAAAAAAAAAAAAAAAAAAAAAAAAAAAAAAAAAAAAAAAAAAAAAAAAAAAAAAAAAAAAAAAAAAAAAAAAAAAAAAAAAAAAAAAAAAAAAAAAAAAAAAAAAAAAAAAAAAAAAAAAAAAAAAAAAAAAAAAAAAAAAAAAAAAAAAAAAAAAAAAAAAAAAAAAAAAAAAAAAAAAAAAAAAAAAAAAAAAAAAAAAAAAAAAAAAAAAAAAAAAAAAAAAAAAAAAAAAAAAAAAAAAAAAAAAAAAAAAAAAAAAAAAAAAAAAAAAAAAAAAAAAAAAAAAAAAAAAAAAAAAAAAAAAAAAAAAAAAAAAAAAAAAAAAAAAAAAAAAAAAAAAAAAAAAAAAAAAAAAAAAAAAAAAAAAAAAAAAAAAAAAAAAAAAAAAAAAAAAAAAAAAAAAAAAAAAAAAAAAAAAAAAAAAAAAAAAAAAAAAAAAAAAAAAAAAAAAAAAAAAAAAAAAAAAAAAAAAAAAAAAAAAAAAAAAAAAAAAAAAAAAAAAAAAAAAAAAAAAAAAAAAAAAAAAAAAAAAAAAAAAAAAAAAAAAAAAAAAAAAAAAAAAAAAAAAAAAAAAAAAAAAAAAAAAAAAAAAAAAAAAAAAAAAAAAAAAAAAAAAAAAAAAAAAAAAACwAAAAAZAABAAAIEgABCBxIsKDBgwgTKlzIsGHCgAA7\"><title>Layer: flat_input (hidden)\n",
       " output range: (-Infinity, +Infinity)\n",
       " Keras class = Flatten</title></image><text x=\"230.0\" y=\"292.0\" font-family=\"monospace\" font-size=\"12\" text-anchor=\"start\" fill=\"black\" alignment-baseline=\"central\" >flat_input</text><line x1=\"175.0\" y1=\"344\" x2=\"175.0\" y2=\"317\" stroke=\"black\" stroke-width=\"2\" marker-end=\"url(#arrow)\"><title>Weights from input to flat_input</title></line><rect x=\"74.0\" y=\"344\" width=\"202\" height=\"202\" style=\"fill:none;stroke:black;stroke-width:2\"/><image id=\"picture-static-MNIST_MLP-188128_input_5\" class=\"picture-static-MNIST_MLP-188128_input\" x=\"75.0\" y=\"345\" height=\"200\" width=\"200\" preserveAspectRatio=\"none\" href=\"data:image/gif;base64,R0lGODdhHAAcAIcAAH9/fwAAAAAAAAAAAAAAAAAAAAAAAAAAAAAAAAAAAAAAAAAAAAAAAAAAAAAAAAAAAAAAAAAAAAAAAAAAAAAAAAAAAAAAAAAAAAAAAAAAAAAAAAAAAAAAAAAAAAAAAAAAAAAAAAAAAAAAAAAAAAAAAAAAAAAAAAAAAAAAAAAAAAAAAAAAAAAAAAAAAAAAAAAAAAAAAAAAAAAAAAAAAAAAAAAAAAAAAAAAAAAAAAAAAAAAAAAAAAAAAAAAAAAAAAAAAAAAAAAAAAAAAAAAAAAAAAAAAAAAAAAAAAAAAAAAAAAAAAAAAAAAAAAAAAAAAAAAAAAAAAAAAAAAAAAAAAAAAAAAAAAAAAAAAAAAAAAAAAAAAAAAAAAAAAAAAAAAAAAAAAAAAAAAAAAAAAAAAAAAAAAAAAAAAAAAAAAAAAAAAAAAAAAAAAAAAAAAAAAAAAAAAAAAAAAAAAAAAAAAAAAAAAAAAAAAAAAAAAAAAAAAAAAAAAAAAAAAAAAAAAAAAAAAAAAAAAAAAAAAAAAAAAAAAAAAAAAAAAAAAAAAAAAAAAAAAAAAAAAAAAAAAAAAAAAAAAAAAAAAAAAAAAAAAAAAAAAAAAAAAAAAAAAAAAAAAAAAAAAAAAAAAAAAAAAAAAAAAAAAAAAAAAAAAAAAAAAAAAAAAAAAAAAAAAAAAAAAAAAAAAAAAAAAAAAAAAAAAAAAAAAAAAAAAAAAAAAAAAAAAAAAAAAAAAAAAAAAAAAAAAAAAAAAAAAAAAAAAAAAAAAAAAAAAAAAAAAAAAAAAAAAAAAAAAAAAAAAAAAAAAAAAAAAAAAAAAAAAAAAAAAAAAAAAAAAAAAAAAAAAAAAAAAAAAAAAAAAAAAAAAAAAAAAAAAAAAAAAAAAAAAAAAAAAAAAAAAAAAAAAAAAAAAAAAAAAAAAAAAAAAAAAAAAAAAAAAAAAAAAAAAAAAAAAAAAAAAAAAAAAAAAAAAAAAAAAAAAAAAAAAAAAAAAAAAAAAAAAAAAAAAAAAAAAAAAAAAAAAAAACwAAAAAHAAcAEAIMAABCBxIsKDBgwgTKlzIsKHDhxAjSpxIsaLFixgzatzIsaPHjyBDihxJsqTJkwQDAgA7\"><title>Layer: input (input)\n",
       " output range: (-Infinity, +Infinity)\n",
       " shape = (28, 28, 1)\n",
       " Keras class = Input</title></image><text x=\"280.0\" y=\"447.0\" font-family=\"monospace\" font-size=\"12\" text-anchor=\"start\" fill=\"black\" alignment-baseline=\"central\" >input</text><text x=\"175.0\" y=\"12.5\" font-family=\"monospace\" font-size=\"15\" text-anchor=\"middle\" fill=\"black\" alignment-baseline=\"central\" >MNIST_MLP</text></svg></g></svg>"
      ],
      "text/plain": [
       "<IPython.core.display.HTML object>"
      ]
     },
     "execution_count": 22,
     "metadata": {},
     "output_type": "execute_result"
    }
   ],
   "source": [
    "net.picture()"
   ]
  },
  {
   "cell_type": "markdown",
   "metadata": {},
   "source": [
    "We also need to tell the network which dataset to use:"
   ]
  },
  {
   "cell_type": "code",
   "execution_count": 23,
   "metadata": {},
   "outputs": [],
   "source": [
    "net.set_dataset(mnist)"
   ]
  },
  {
   "cell_type": "markdown",
   "metadata": {},
   "source": [
    "The final step after constructing the network is to compile it, specifying an *error* function (also called a \"loss\" function), and the learning algorithm to use (the *optimizer*).  For a classification task with the *softmax* activation function, it is usually best to choose the ``categorical_crossentropy`` error function.  For our learning algorithm, we will use standard Stochastic Gradient Descent.  We can also (optionally) specify the learning rate and momentum values to use."
   ]
  },
  {
   "cell_type": "code",
   "execution_count": 24,
   "metadata": {},
   "outputs": [
    {
     "name": "stdout",
     "output_type": "stream",
     "text": [
      "_________________________________________________________________\n",
      "Layer (type)                 Output Shape              Param #   \n",
      "=================================================================\n",
      "input (InputLayer)           (None, 28, 28, 1)         0         \n",
      "_________________________________________________________________\n",
      "flat_input (Flatten)         (None, 784)               0         \n",
      "_________________________________________________________________\n",
      "hidden1 (Dense)              (None, 30)                23550     \n",
      "_________________________________________________________________\n",
      "hidden2 (Dense)              (None, 30)                930       \n",
      "_________________________________________________________________\n",
      "output (Dense)               (None, 10)                310       \n",
      "=================================================================\n",
      "Total params: 24,790\n",
      "Trainable params: 24,790\n",
      "Non-trainable params: 0\n",
      "_________________________________________________________________\n"
     ]
    }
   ],
   "source": [
    "net.compile(error='categorical_crossentropy', optimizer='SGD', lr=0.3, momentum=0.1)\n",
    "net.summary()"
   ]
  },
  {
   "cell_type": "markdown",
   "metadata": {},
   "source": [
    "The network summary shows the details for each layer, along with the total number of network parameters.  The underlying Keras model on which the network is based is directly available via the ``model`` property, although normally the Conx user does not need to worry about the lower Keras level."
   ]
  },
  {
   "cell_type": "code",
   "execution_count": 25,
   "metadata": {},
   "outputs": [
    {
     "data": {
      "text/plain": [
       "<keras.engine.training.Model at 0x11a6498d0>"
      ]
     },
     "execution_count": 25,
     "metadata": {},
     "output_type": "execute_result"
    }
   ],
   "source": [
    "net.model"
   ]
  },
  {
   "cell_type": "markdown",
   "metadata": {},
   "source": [
    "We can manually send an input pattern through the network using the ``propagate`` method.  For example, let's ask the network to classify input pattern #0:"
   ]
  },
  {
   "cell_type": "code",
   "execution_count": 26,
   "metadata": {},
   "outputs": [
    {
     "data": {
      "image/png": "[encoded data removed]",
      "text/plain": [
       "<matplotlib.figure.Figure at 0x115d1bd30>"
      ]
     },
     "metadata": {},
     "output_type": "display_data"
    },
    {
     "data": {
      "text/plain": [
       "[0.08930698037147522,\n",
       " 0.06654181331396103,\n",
       " 0.09059236943721771,\n",
       " 0.10103102773427963,\n",
       " 0.09411883354187012,\n",
       " 0.07621831446886063,\n",
       " 0.10913633555173874,\n",
       " 0.11315248161554337,\n",
       " 0.18580138683319092,\n",
       " 0.07410044223070145]"
      ]
     },
     "execution_count": 26,
     "metadata": {},
     "output_type": "execute_result"
    }
   ],
   "source": [
    "cx.view(mnist.inputs[0])\n",
    "net.propagate(mnist.inputs[0])"
   ]
  },
  {
   "cell_type": "markdown",
   "metadata": {},
   "source": [
    "Not surprisingly, the output values for each classification category are all around 0.10 (representing 10% probability), because the network has not yet been trained.  After training, one of the output values will typically be much larger than the others, corresponding to the output classification category.\n",
    "\n",
    "A more user-friendly way to view the behavior of the network is to open a ``dashboard`` so that we can see the activation of each layer more clearly.  The dashboard allows us to easily step through the input patterns (for either the training or testing set) and see the output of the network for each pattern, along with the correct target classification.  Clicking on **MNIST_MLP** at the top of the dashboard will open up a panel of settings for controlling the appearance and functionality of the network display. For example, to choose between the training set and testing set images, you can select \"Train\" or \"Test\" from the *Dataset* pulldown menu."
   ]
  },
  {
   "cell_type": "code",
   "execution_count": 27,
   "metadata": {},
   "outputs": [
    {
     "data": {
      "application/vnd.jupyter.widget-view+json": {
       "model_id": "7e5c7cba411b4fa7b3305af5e1b3a1c7",
       "version_major": 2,
       "version_minor": 0
      },
      "text/html": [
       "<p>Failed to display Jupyter Widget of type <code>Dashboard</code>.</p>\n",
       "<p>\n",
       "  If you're reading this message in the Jupyter Notebook or JupyterLab Notebook, it may mean\n",
       "  that the widgets JavaScript is still loading. If this message persists, it\n",
       "  likely means that the widgets JavaScript library is either not installed or\n",
       "  not enabled. See the <a href=\"https://ipywidgets.readthedocs.io/en/stable/user_install.html\">Jupyter\n",
       "  Widgets Documentation</a> for setup instructions.\n",
       "</p>\n",
       "<p>\n",
       "  If you're reading this message in another frontend (for example, a static\n",
       "  rendering on GitHub or <a href=\"https://nbviewer.jupyter.org/\">NBViewer</a>),\n",
       "  it may mean that your frontend doesn't currently support widgets.\n",
       "</p>\n"
      ],
      "text/plain": [
       "Dashboard(children=(Accordion(children=(HBox(children=(VBox(children=(Select(description='Dataset:', index=1, options=('Test', 'Train'), rows=1, value='Train'), FloatSlider(value=0.6, continuous_update=False, description='Zoom', layout=Layout(width='65%'), max=1.0, style=SliderStyle(description_width='initial')), IntText(value=150, description='Horizontal space between banks:', style=DescriptionStyle(description_width='initial')), IntText(value=30, description='Vertical space between layers:', style=DescriptionStyle(description_width='initial')), HBox(children=(Checkbox(value=True, description='Show Targets', style=DescriptionStyle(description_width='initial')), Checkbox(value=False, description='Errors', style=DescriptionStyle(description_width='initial')))), Select(description='Features:', options=('', 'input'), rows=1, value=''), IntText(value=3, description='Feature columns:', style=DescriptionStyle(description_width='initial')), FloatText(value=1.0, description='Feature scale:', style=DescriptionStyle(description_width='initial'))), layout=Layout(width='100%')), VBox(children=(Select(description='Layer:', index=4, options=('input', 'flat_input', 'hidden1', 'hidden2', 'output'), rows=1, value='output'), Checkbox(value=True, description='Visible'), Select(description='Colormap:', options=('', 'Accent', 'Accent_r', 'Blues', 'Blues_r', 'BrBG', 'BrBG_r', 'BuGn', 'BuGn_r', 'BuPu', 'BuPu_r', 'CMRmap', 'CMRmap_r', 'Dark2', 'Dark2_r', 'GnBu', 'GnBu_r', 'Greens', 'Greens_r', 'Greys', 'Greys_r', 'OrRd', 'OrRd_r', 'Oranges', 'Oranges_r', 'PRGn', 'PRGn_r', 'Paired', 'Paired_r', 'Pastel1', 'Pastel1_r', 'Pastel2', 'Pastel2_r', 'PiYG', 'PiYG_r', 'PuBu', 'PuBuGn', 'PuBuGn_r', 'PuBu_r', 'PuOr', 'PuOr_r', 'PuRd', 'PuRd_r', 'Purples', 'Purples_r', 'RdBu', 'RdBu_r', 'RdGy', 'RdGy_r', 'RdPu', 'RdPu_r', 'RdYlBu', 'RdYlBu_r', 'RdYlGn', 'RdYlGn_r', 'Reds', 'Reds_r', 'Set1', 'Set1_r', 'Set2', 'Set2_r', 'Set3', 'Set3_r', 'Spectral', 'Spectral_r', 'Vega10', 'Vega10_r', 'Vega20', 'Vega20_r', 'Vega20b', 'Vega20b_r', 'Vega20c', 'Vega20c_r', 'Wistia', 'Wistia_r', 'YlGn', 'YlGnBu', 'YlGnBu_r', 'YlGn_r', 'YlOrBr', 'YlOrBr_r', 'YlOrRd', 'YlOrRd_r', 'afmhot', 'afmhot_r', 'autumn', 'autumn_r', 'binary', 'binary_r', 'bone', 'bone_r', 'brg', 'brg_r', 'bwr', 'bwr_r', 'cool', 'cool_r', 'coolwarm', 'coolwarm_r', 'copper', 'copper_r', 'cubehelix', 'cubehelix_r', 'flag', 'flag_r', 'gist_earth', 'gist_earth_r', 'gist_gray', 'gist_gray_r', 'gist_heat', 'gist_heat_r', 'gist_ncar', 'gist_ncar_r', 'gist_rainbow', 'gist_rainbow_r', 'gist_stern', 'gist_stern_r', 'gist_yarg', 'gist_yarg_r', 'gnuplot', 'gnuplot2', 'gnuplot2_r', 'gnuplot_r', 'gray', 'gray_r', 'hot', 'hot_r', 'hsv', 'hsv_r', 'inferno', 'inferno_r', 'jet', 'jet_r', 'magma', 'magma_r', 'nipy_spectral', 'nipy_spectral_r', 'ocean', 'ocean_r', 'pink', 'pink_r', 'plasma', 'plasma_r', 'prism', 'prism_r', 'rainbow', 'rainbow_r', 'seismic', 'seismic_r', 'spectral', 'spectral_r', 'spring', 'spring_r', 'summer', 'summer_r', 'tab10', 'tab10_r', 'tab20', 'tab20_r', 'tab20b', 'tab20b_r', 'tab20c', 'tab20c_r', 'terrain', 'terrain_r', 'viridis', 'viridis_r', 'winter', 'winter_r'), rows=1, value=''), HTML(value='<img src=\"data:image/gif;base64,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\"/>'), FloatText(value=-1.0, description='Leftmost color maps to:', style=DescriptionStyle(description_width='initial')), FloatText(value=1.0, description='Rightmost color maps to:', style=DescriptionStyle(description_width='initial')), IntText(value=0, description='Feature to show:', style=DescriptionStyle(description_width='initial')), HBox(children=(Checkbox(value=True, description='Rotate network', layout=Layout(width='52%'), style=DescriptionStyle(description_width='initial')), Button(icon='save', layout=Layout(width='10%'), style=ButtonStyle())))), layout=Layout(width='100%')))),), selected_index=None, _titles={'0': 'MNIST_MLP'}), VBox(children=(HBox(children=(IntSlider(value=0, continuous_update=False, description='Dataset index', layout=Layout(width='100%'), max=59999), Label(value='of 60000', layout=Layout(width='100px'))), layout=Layout(height='40px')), HBox(children=(Button(icon='fast-backward', layout=Layout(width='100%'), style=ButtonStyle()), Button(icon='backward', layout=Layout(width='100%'), style=ButtonStyle()), IntText(value=0, layout=Layout(width='100%')), Button(icon='forward', layout=Layout(width='100%'), style=ButtonStyle()), Button(icon='fast-forward', layout=Layout(width='100%'), style=ButtonStyle()), Button(description='Play', icon='play', layout=Layout(width='100%'), style=ButtonStyle()), Button(icon='refresh', layout=Layout(width='25%'), style=ButtonStyle())), layout=Layout(height='50px', width='100%'))), layout=Layout(width='100%')), HTML(value='<p style=\"text-align:center\"></p>', layout=Layout(justify_content='center', overflow_x='auto', overflow_y='auto', width='95%')), Output()))"
      ]
     },
     "metadata": {},
     "output_type": "display_data"
    }
   ],
   "source": [
    "net.dashboard()"
   ]
  },
  {
   "cell_type": "markdown",
   "metadata": {},
   "source": [
    "We can visualize the weights on connections into specific units by calling `plot_layer_weights`. For example, the command below shows the weights from the input layer into units 0, 1, and 2 of the first hidden layer, displayed as 28 &times; 28 pixel array (where each pixel represents a weight from the input layer into a hidden unit). The `wrange` keyword specifies the minimum and maximum weight values for the color coding. Since the network has not yet been trained, the weights are all small random values close to zero."
   ]
  },
  {
   "cell_type": "code",
   "execution_count": 28,
   "metadata": {},
   "outputs": [
    {
     "data": {
      "image/png": "[encoded data removed]",
      "text/plain": [
       "<matplotlib.figure.Figure at 0x11b1f1ba8>"
      ]
     },
     "metadata": {},
     "output_type": "display_data"
    }
   ],
   "source": [
    "net.plot_layer_weights('hidden1', units=[0,1,2], vshape=(28,28), wrange=(-1.5, 1.5))"
   ]
  },
  {
   "cell_type": "markdown",
   "metadata": {},
   "source": [
    "Let's train the network for 30 epochs, using a default batch size of 32. This means that images from the training set will be presented to the network in batches of 32 at a time, and for each batch, the SGD algorithm will update the network's weights by an appropriate amount. Then another batch of 32 images will be presented, and so on, until all 60,000 training images in the dataset have been processed, which constitutes one epoch of training. This entire cycle will be repeated for 30 epochs. As training proceeds, the network's error (loss) on both the training and testing/validation sets will be shown on the left graph, and the accuracy on each of these sets will be shown on the right graph. The accuracy is simply the fraction of input images that the network classifies correctly.  A classification is considered correct if the largest output value on the output layer corresponds to the target classification."
   ]
  },
  {
   "cell_type": "code",
   "execution_count": 29,
   "metadata": {},
   "outputs": [
    {
     "data": {
      "image/svg+xml": [
       "<svg height=\"288pt\" version=\"1.1\" viewBox=\"0 0 720 288\" width=\"720pt\" xmlns=\"http://www.w3.org/2000/svg\" xmlns:xlink=\"http://www.w3.org/1999/xlink\">\n",
       " <defs>\n",
       "  <style type=\"text/css\">\n",
       "*{stroke-linecap:butt;stroke-linejoin:round;}\n",
       "  </style>\n",
       " </defs>\n",
       " <g id=\"figure_1\">\n",
       "  <g id=\"patch_1\">\n",
       "   <path d=\"M 0 288  L 720 288  L 720 0  L 0 0  z \" style=\"fill:#ffffff;\"/>\n",
       "  </g>\n",
       "  <g id=\"axes_1\">\n",
       "   <g id=\"patch_2\">\n",
       "    <path d=\"M 90 252  L 343.636364 252  L 343.636364 34.56  L 90 34.56  z \" style=\"fill:#ffffff;\"/>\n",
       "   </g>\n",
       "   <g id=\"matplotlib.axis_1\">\n",
       "    <g id=\"xtick_1\">\n",
       "     <g id=\"line2d_1\">\n",
       "      <defs>\n",
       "       <path d=\"M 0 0  L 0 3.5  \" id=\"mc382e77a09\" style=\"stroke:#000000;stroke-width:0.8;\"/>\n",
       "      </defs>\n",
       "      <g>\n",
       "       <use style=\"stroke:#000000;stroke-width:0.8;\" x=\"101.528926\" xlink:href=\"#mc382e77a09\" y=\"252\"/>\n",
       "      </g>\n",
       "     </g>\n",
       "     <g id=\"text_1\">\n",
       "      <!-- 0 -->\n",
       "      <defs>\n",
       "       <path d=\"M 31.78125 66.40625  Q 24.171875 66.40625 20.328125 58.90625  Q 16.5 51.421875 16.5 36.375  Q 16.5 21.390625 20.328125 13.890625  Q 24.171875 6.390625 31.78125 6.390625  Q 39.453125 6.390625 43.28125 13.890625  Q 47.125 21.390625 47.125 36.375  Q 47.125 51.421875 43.28125 58.90625  Q 39.453125 66.40625 31.78125 66.40625  z M 31.78125 74.21875  Q 44.046875 74.21875 50.515625 64.515625  Q 56.984375 54.828125 56.984375 36.375  Q 56.984375 17.96875 50.515625 8.265625  Q 44.046875 -1.421875 31.78125 -1.421875  Q 19.53125 -1.421875 13.0625 8.265625  Q 6.59375 17.96875 6.59375 36.375  Q 6.59375 54.828125 13.0625 64.515625  Q 19.53125 74.21875 31.78125 74.21875  z \" id=\"DejaVuSans-30\"/>\n",
       "      </defs>\n",
       "      <g transform=\"translate(98.347676 266.598437)scale(0.1 -0.1)\">\n",
       "       <use xlink:href=\"#DejaVuSans-30\"/>\n",
       "      </g>\n",
       "     </g>\n",
       "    </g>\n",
       "    <g id=\"xtick_2\">\n",
       "     <g id=\"line2d_2\">\n",
       "      <g>\n",
       "       <use style=\"stroke:#000000;stroke-width:0.8;\" x=\"139.958678\" xlink:href=\"#mc382e77a09\" y=\"252\"/>\n",
       "      </g>\n",
       "     </g>\n",
       "     <g id=\"text_2\">\n",
       "      <!-- 5 -->\n",
       "      <defs>\n",
       "       <path d=\"M 10.796875 72.90625  L 49.515625 72.90625  L 49.515625 64.59375  L 19.828125 64.59375  L 19.828125 46.734375  Q 21.96875 47.46875 24.109375 47.828125  Q 26.265625 48.1875 28.421875 48.1875  Q 40.625 48.1875 47.75 41.5  Q 54.890625 34.8125 54.890625 23.390625  Q 54.890625 11.625 47.5625 5.09375  Q 40.234375 -1.421875 26.90625 -1.421875  Q 22.3125 -1.421875 17.546875 -0.640625  Q 12.796875 0.140625 7.71875 1.703125  L 7.71875 11.625  Q 12.109375 9.234375 16.796875 8.0625  Q 21.484375 6.890625 26.703125 6.890625  Q 35.15625 6.890625 40.078125 11.328125  Q 45.015625 15.765625 45.015625 23.390625  Q 45.015625 31 40.078125 35.4375  Q 35.15625 39.890625 26.703125 39.890625  Q 22.75 39.890625 18.8125 39.015625  Q 14.890625 38.140625 10.796875 36.28125  z \" id=\"DejaVuSans-35\"/>\n",
       "      </defs>\n",
       "      <g transform=\"translate(136.777428 266.598437)scale(0.1 -0.1)\">\n",
       "       <use xlink:href=\"#DejaVuSans-35\"/>\n",
       "      </g>\n",
       "     </g>\n",
       "    </g>\n",
       "    <g id=\"xtick_3\">\n",
       "     <g id=\"line2d_3\">\n",
       "      <g>\n",
       "       <use style=\"stroke:#000000;stroke-width:0.8;\" x=\"178.38843\" xlink:href=\"#mc382e77a09\" y=\"252\"/>\n",
       "      </g>\n",
       "     </g>\n",
       "     <g id=\"text_3\">\n",
       "      <!-- 10 -->\n",
       "      <defs>\n",
       "       <path d=\"M 12.40625 8.296875  L 28.515625 8.296875  L 28.515625 63.921875  L 10.984375 60.40625  L 10.984375 69.390625  L 28.421875 72.90625  L 38.28125 72.90625  L 38.28125 8.296875  L 54.390625 8.296875  L 54.390625 0  L 12.40625 0  z \" id=\"DejaVuSans-31\"/>\n",
       "      </defs>\n",
       "      <g transform=\"translate(172.02593 266.598437)scale(0.1 -0.1)\">\n",
       "       <use xlink:href=\"#DejaVuSans-31\"/>\n",
       "       <use x=\"63.623047\" xlink:href=\"#DejaVuSans-30\"/>\n",
       "      </g>\n",
       "     </g>\n",
       "    </g>\n",
       "    <g id=\"xtick_4\">\n",
       "     <g id=\"line2d_4\">\n",
       "      <g>\n",
       "       <use style=\"stroke:#000000;stroke-width:0.8;\" x=\"216.818182\" xlink:href=\"#mc382e77a09\" y=\"252\"/>\n",
       "      </g>\n",
       "     </g>\n",
       "     <g id=\"text_4\">\n",
       "      <!-- 15 -->\n",
       "      <g transform=\"translate(210.455682 266.598437)scale(0.1 -0.1)\">\n",
       "       <use xlink:href=\"#DejaVuSans-31\"/>\n",
       "       <use x=\"63.623047\" xlink:href=\"#DejaVuSans-35\"/>\n",
       "      </g>\n",
       "     </g>\n",
       "    </g>\n",
       "    <g id=\"xtick_5\">\n",
       "     <g id=\"line2d_5\">\n",
       "      <g>\n",
       "       <use style=\"stroke:#000000;stroke-width:0.8;\" x=\"255.247934\" xlink:href=\"#mc382e77a09\" y=\"252\"/>\n",
       "      </g>\n",
       "     </g>\n",
       "     <g id=\"text_5\">\n",
       "      <!-- 20 -->\n",
       "      <defs>\n",
       "       <path d=\"M 19.1875 8.296875  L 53.609375 8.296875  L 53.609375 0  L 7.328125 0  L 7.328125 8.296875  Q 12.9375 14.109375 22.625 23.890625  Q 32.328125 33.6875 34.8125 36.53125  Q 39.546875 41.84375 41.421875 45.53125  Q 43.3125 49.21875 43.3125 52.78125  Q 43.3125 58.59375 39.234375 62.25  Q 35.15625 65.921875 28.609375 65.921875  Q 23.96875 65.921875 18.8125 64.3125  Q 13.671875 62.703125 7.8125 59.421875  L 7.8125 69.390625  Q 13.765625 71.78125 18.9375 73  Q 24.125 74.21875 28.421875 74.21875  Q 39.75 74.21875 46.484375 68.546875  Q 53.21875 62.890625 53.21875 53.421875  Q 53.21875 48.921875 51.53125 44.890625  Q 49.859375 40.875 45.40625 35.40625  Q 44.1875 33.984375 37.640625 27.21875  Q 31.109375 20.453125 19.1875 8.296875  z \" id=\"DejaVuSans-32\"/>\n",
       "      </defs>\n",
       "      <g transform=\"translate(248.885434 266.598437)scale(0.1 -0.1)\">\n",
       "       <use xlink:href=\"#DejaVuSans-32\"/>\n",
       "       <use x=\"63.623047\" xlink:href=\"#DejaVuSans-30\"/>\n",
       "      </g>\n",
       "     </g>\n",
       "    </g>\n",
       "    <g id=\"xtick_6\">\n",
       "     <g id=\"line2d_6\">\n",
       "      <g>\n",
       "       <use style=\"stroke:#000000;stroke-width:0.8;\" x=\"293.677686\" xlink:href=\"#mc382e77a09\" y=\"252\"/>\n",
       "      </g>\n",
       "     </g>\n",
       "     <g id=\"text_6\">\n",
       "      <!-- 25 -->\n",
       "      <g transform=\"translate(287.315186 266.598437)scale(0.1 -0.1)\">\n",
       "       <use xlink:href=\"#DejaVuSans-32\"/>\n",
       "       <use x=\"63.623047\" xlink:href=\"#DejaVuSans-35\"/>\n",
       "      </g>\n",
       "     </g>\n",
       "    </g>\n",
       "    <g id=\"xtick_7\">\n",
       "     <g id=\"line2d_7\">\n",
       "      <g>\n",
       "       <use style=\"stroke:#000000;stroke-width:0.8;\" x=\"332.107438\" xlink:href=\"#mc382e77a09\" y=\"252\"/>\n",
       "      </g>\n",
       "     </g>\n",
       "     <g id=\"text_7\">\n",
       "      <!-- 30 -->\n",
       "      <defs>\n",
       "       <path d=\"M 40.578125 39.3125  Q 47.65625 37.796875 51.625 33  Q 55.609375 28.21875 55.609375 21.1875  Q 55.609375 10.40625 48.1875 4.484375  Q 40.765625 -1.421875 27.09375 -1.421875  Q 22.515625 -1.421875 17.65625 -0.515625  Q 12.796875 0.390625 7.625 2.203125  L 7.625 11.71875  Q 11.71875 9.328125 16.59375 8.109375  Q 21.484375 6.890625 26.8125 6.890625  Q 36.078125 6.890625 40.9375 10.546875  Q 45.796875 14.203125 45.796875 21.1875  Q 45.796875 27.640625 41.28125 31.265625  Q 36.765625 34.90625 28.71875 34.90625  L 20.21875 34.90625  L 20.21875 43.015625  L 29.109375 43.015625  Q 36.375 43.015625 40.234375 45.921875  Q 44.09375 48.828125 44.09375 54.296875  Q 44.09375 59.90625 40.109375 62.90625  Q 36.140625 65.921875 28.71875 65.921875  Q 24.65625 65.921875 20.015625 65.03125  Q 15.375 64.15625 9.8125 62.3125  L 9.8125 71.09375  Q 15.4375 72.65625 20.34375 73.4375  Q 25.25 74.21875 29.59375 74.21875  Q 40.828125 74.21875 47.359375 69.109375  Q 53.90625 64.015625 53.90625 55.328125  Q 53.90625 49.265625 50.4375 45.09375  Q 46.96875 40.921875 40.578125 39.3125  z \" id=\"DejaVuSans-33\"/>\n",
       "      </defs>\n",
       "      <g transform=\"translate(325.744938 266.598437)scale(0.1 -0.1)\">\n",
       "       <use xlink:href=\"#DejaVuSans-33\"/>\n",
       "       <use x=\"63.623047\" xlink:href=\"#DejaVuSans-30\"/>\n",
       "      </g>\n",
       "     </g>\n",
       "    </g>\n",
       "    <g id=\"text_8\">\n",
       "     <!-- Epoch -->\n",
       "     <defs>\n",
       "      <path d=\"M 9.8125 72.90625  L 55.90625 72.90625  L 55.90625 64.59375  L 19.671875 64.59375  L 19.671875 43.015625  L 54.390625 43.015625  L 54.390625 34.71875  L 19.671875 34.71875  L 19.671875 8.296875  L 56.78125 8.296875  L 56.78125 0  L 9.8125 0  z \" id=\"DejaVuSans-45\"/>\n",
       "      <path d=\"M 18.109375 8.203125  L 18.109375 -20.796875  L 9.078125 -20.796875  L 9.078125 54.6875  L 18.109375 54.6875  L 18.109375 46.390625  Q 20.953125 51.265625 25.265625 53.625  Q 29.59375 56 35.59375 56  Q 45.5625 56 51.78125 48.09375  Q 58.015625 40.1875 58.015625 27.296875  Q 58.015625 14.40625 51.78125 6.484375  Q 45.5625 -1.421875 35.59375 -1.421875  Q 29.59375 -1.421875 25.265625 0.953125  Q 20.953125 3.328125 18.109375 8.203125  z M 48.6875 27.296875  Q 48.6875 37.203125 44.609375 42.84375  Q 40.53125 48.484375 33.40625 48.484375  Q 26.265625 48.484375 22.1875 42.84375  Q 18.109375 37.203125 18.109375 27.296875  Q 18.109375 17.390625 22.1875 11.75  Q 26.265625 6.109375 33.40625 6.109375  Q 40.53125 6.109375 44.609375 11.75  Q 48.6875 17.390625 48.6875 27.296875  z \" id=\"DejaVuSans-70\"/>\n",
       "      <path d=\"M 30.609375 48.390625  Q 23.390625 48.390625 19.1875 42.75  Q 14.984375 37.109375 14.984375 27.296875  Q 14.984375 17.484375 19.15625 11.84375  Q 23.34375 6.203125 30.609375 6.203125  Q 37.796875 6.203125 41.984375 11.859375  Q 46.1875 17.53125 46.1875 27.296875  Q 46.1875 37.015625 41.984375 42.703125  Q 37.796875 48.390625 30.609375 48.390625  z M 30.609375 56  Q 42.328125 56 49.015625 48.375  Q 55.71875 40.765625 55.71875 27.296875  Q 55.71875 13.875 49.015625 6.21875  Q 42.328125 -1.421875 30.609375 -1.421875  Q 18.84375 -1.421875 12.171875 6.21875  Q 5.515625 13.875 5.515625 27.296875  Q 5.515625 40.765625 12.171875 48.375  Q 18.84375 56 30.609375 56  z \" id=\"DejaVuSans-6f\"/>\n",
       "      <path d=\"M 48.78125 52.59375  L 48.78125 44.1875  Q 44.96875 46.296875 41.140625 47.34375  Q 37.3125 48.390625 33.40625 48.390625  Q 24.65625 48.390625 19.8125 42.84375  Q 14.984375 37.3125 14.984375 27.296875  Q 14.984375 17.28125 19.8125 11.734375  Q 24.65625 6.203125 33.40625 6.203125  Q 37.3125 6.203125 41.140625 7.25  Q 44.96875 8.296875 48.78125 10.40625  L 48.78125 2.09375  Q 45.015625 0.34375 40.984375 -0.53125  Q 36.96875 -1.421875 32.421875 -1.421875  Q 20.0625 -1.421875 12.78125 6.34375  Q 5.515625 14.109375 5.515625 27.296875  Q 5.515625 40.671875 12.859375 48.328125  Q 20.21875 56 33.015625 56  Q 37.15625 56 41.109375 55.140625  Q 45.0625 54.296875 48.78125 52.59375  z \" id=\"DejaVuSans-63\"/>\n",
       "      <path d=\"M 54.890625 33.015625  L 54.890625 0  L 45.90625 0  L 45.90625 32.71875  Q 45.90625 40.484375 42.875 44.328125  Q 39.84375 48.1875 33.796875 48.1875  Q 26.515625 48.1875 22.3125 43.546875  Q 18.109375 38.921875 18.109375 30.90625  L 18.109375 0  L 9.078125 0  L 9.078125 75.984375  L 18.109375 75.984375  L 18.109375 46.1875  Q 21.34375 51.125 25.703125 53.5625  Q 30.078125 56 35.796875 56  Q 45.21875 56 50.046875 50.171875  Q 54.890625 44.34375 54.890625 33.015625  z \" id=\"DejaVuSans-68\"/>\n",
       "     </defs>\n",
       "     <g transform=\"translate(201.507244 280.276563)scale(0.1 -0.1)\">\n",
       "      <use xlink:href=\"#DejaVuSans-45\"/>\n",
       "      <use x=\"63.183594\" xlink:href=\"#DejaVuSans-70\"/>\n",
       "      <use x=\"126.660156\" xlink:href=\"#DejaVuSans-6f\"/>\n",
       "      <use x=\"187.841797\" xlink:href=\"#DejaVuSans-63\"/>\n",
       "      <use x=\"242.822266\" xlink:href=\"#DejaVuSans-68\"/>\n",
       "     </g>\n",
       "    </g>\n",
       "   </g>\n",
       "   <g id=\"matplotlib.axis_2\">\n",
       "    <g id=\"ytick_1\">\n",
       "     <g id=\"line2d_8\">\n",
       "      <defs>\n",
       "       <path d=\"M 0 0  L -3.5 0  \" id=\"mc88d31125b\" style=\"stroke:#000000;stroke-width:0.8;\"/>\n",
       "      </defs>\n",
       "      <g>\n",
       "       <use style=\"stroke:#000000;stroke-width:0.8;\" x=\"90\" xlink:href=\"#mc88d31125b\" y=\"252\"/>\n",
       "      </g>\n",
       "     </g>\n",
       "     <g id=\"text_9\">\n",
       "      <!-- 0.0 -->\n",
       "      <defs>\n",
       "       <path d=\"M 10.6875 12.40625  L 21 12.40625  L 21 0  L 10.6875 0  z \" id=\"DejaVuSans-2e\"/>\n",
       "      </defs>\n",
       "      <g transform=\"translate(67.096875 255.799219)scale(0.1 -0.1)\">\n",
       "       <use xlink:href=\"#DejaVuSans-30\"/>\n",
       "       <use x=\"63.623047\" xlink:href=\"#DejaVuSans-2e\"/>\n",
       "       <use x=\"95.410156\" xlink:href=\"#DejaVuSans-30\"/>\n",
       "      </g>\n",
       "     </g>\n",
       "    </g>\n",
       "    <g id=\"ytick_2\">\n",
       "     <g id=\"line2d_9\">\n",
       "      <g>\n",
       "       <use style=\"stroke:#000000;stroke-width:0.8;\" x=\"90\" xlink:href=\"#mc88d31125b\" y=\"207.592725\"/>\n",
       "      </g>\n",
       "     </g>\n",
       "     <g id=\"text_10\">\n",
       "      <!-- 0.5 -->\n",
       "      <g transform=\"translate(67.096875 211.391944)scale(0.1 -0.1)\">\n",
       "       <use xlink:href=\"#DejaVuSans-30\"/>\n",
       "       <use x=\"63.623047\" xlink:href=\"#DejaVuSans-2e\"/>\n",
       "       <use x=\"95.410156\" xlink:href=\"#DejaVuSans-35\"/>\n",
       "      </g>\n",
       "     </g>\n",
       "    </g>\n",
       "    <g id=\"ytick_3\">\n",
       "     <g id=\"line2d_10\">\n",
       "      <g>\n",
       "       <use style=\"stroke:#000000;stroke-width:0.8;\" x=\"90\" xlink:href=\"#mc88d31125b\" y=\"163.18545\"/>\n",
       "      </g>\n",
       "     </g>\n",
       "     <g id=\"text_11\">\n",
       "      <!-- 1.0 -->\n",
       "      <g transform=\"translate(67.096875 166.984669)scale(0.1 -0.1)\">\n",
       "       <use xlink:href=\"#DejaVuSans-31\"/>\n",
       "       <use x=\"63.623047\" xlink:href=\"#DejaVuSans-2e\"/>\n",
       "       <use x=\"95.410156\" xlink:href=\"#DejaVuSans-30\"/>\n",
       "      </g>\n",
       "     </g>\n",
       "    </g>\n",
       "    <g id=\"ytick_4\">\n",
       "     <g id=\"line2d_11\">\n",
       "      <g>\n",
       "       <use style=\"stroke:#000000;stroke-width:0.8;\" x=\"90\" xlink:href=\"#mc88d31125b\" y=\"118.778176\"/>\n",
       "      </g>\n",
       "     </g>\n",
       "     <g id=\"text_12\">\n",
       "      <!-- 1.5 -->\n",
       "      <g transform=\"translate(67.096875 122.577394)scale(0.1 -0.1)\">\n",
       "       <use xlink:href=\"#DejaVuSans-31\"/>\n",
       "       <use x=\"63.623047\" xlink:href=\"#DejaVuSans-2e\"/>\n",
       "       <use x=\"95.410156\" xlink:href=\"#DejaVuSans-35\"/>\n",
       "      </g>\n",
       "     </g>\n",
       "    </g>\n",
       "    <g id=\"ytick_5\">\n",
       "     <g id=\"line2d_12\">\n",
       "      <g>\n",
       "       <use style=\"stroke:#000000;stroke-width:0.8;\" x=\"90\" xlink:href=\"#mc88d31125b\" y=\"74.370901\"/>\n",
       "      </g>\n",
       "     </g>\n",
       "     <g id=\"text_13\">\n",
       "      <!-- 2.0 -->\n",
       "      <g transform=\"translate(67.096875 78.17012)scale(0.1 -0.1)\">\n",
       "       <use xlink:href=\"#DejaVuSans-32\"/>\n",
       "       <use x=\"63.623047\" xlink:href=\"#DejaVuSans-2e\"/>\n",
       "       <use x=\"95.410156\" xlink:href=\"#DejaVuSans-30\"/>\n",
       "      </g>\n",
       "     </g>\n",
       "    </g>\n",
       "   </g>\n",
       "   <g id=\"line2d_13\">\n",
       "    <path clip-path=\"url(#p5867a3db0f)\" d=\"M 101.528926 44.618395  L 109.214876 223.435348  L 116.900826 235.924345  L 124.586777 238.497788  L 132.272727 239.809334  L 139.958678 240.830741  L 147.644628 241.862021  L 155.330579 241.747497  L 163.016529 242.408658  L 170.702479 242.651408  L 178.38843 243.008119  L 186.07438 243.354017  L 193.760331 243.805868  L 201.446281 243.837692  L 209.132231 244.338932  L 216.818182 244.267393  L 224.504132 243.846081  L 232.190083 244.574637  L 239.876033 244.908727  L 247.561983 244.86429  L 255.247934 244.748352  L 262.933884 244.981531  L 270.619835 245.399124  L 278.305785 245.372903  L 285.991736 244.967682  L 293.677686 245.503399  L 301.363636 245.324493  L 309.049587 245.759867  L 316.735537 245.601814  L 324.421488 245.786291  L 332.107438 245.666349  \" style=\"fill:none;stroke:#1f77b4;stroke-linecap:square;stroke-width:1.5;\"/>\n",
       "   </g>\n",
       "   <g id=\"line2d_14\">\n",
       "    <path clip-path=\"url(#p5867a3db0f)\" d=\"M 101.528926 44.933805  L 109.214876 231.504754  L 116.900826 237.08377  L 124.586777 237.96178  L 132.272727 238.376169  L 139.958678 239.38306  L 147.644628 237.114326  L 155.330579 239.265654  L 163.016529 237.141381  L 170.702479 236.654979  L 178.38843 237.342016  L 186.07438 238.032077  L 193.760331 235.114292  L 201.446281 237.124342  L 209.132231 238.699275  L 216.818182 233.017408  L 224.504132 236.654781  L 232.190083 237.684719  L 239.876033 236.271985  L 247.561983 235.396249  L 255.247934 232.15641  L 262.933884 235.288493  L 270.619835 234.581467  L 278.305785 236.037174  L 285.991736 235.534595  L 293.677686 237.672982  L 301.363636 236.012497  L 309.049587 226.421447  L 316.735537 234.354355  L 324.421488 235.35907  L 332.107438 236.277979  \" style=\"fill:none;stroke:#ff7f0e;stroke-linecap:square;stroke-width:1.5;\"/>\n",
       "   </g>\n",
       "   <g id=\"patch_3\">\n",
       "    <path d=\"M 90 252  L 90 34.56  \" style=\"fill:none;stroke:#000000;stroke-linecap:square;stroke-linejoin:miter;stroke-width:0.8;\"/>\n",
       "   </g>\n",
       "   <g id=\"patch_4\">\n",
       "    <path d=\"M 343.636364 252  L 343.636364 34.56  \" style=\"fill:none;stroke:#000000;stroke-linecap:square;stroke-linejoin:miter;stroke-width:0.8;\"/>\n",
       "   </g>\n",
       "   <g id=\"patch_5\">\n",
       "    <path d=\"M 90 252  L 343.636364 252  \" style=\"fill:none;stroke:#000000;stroke-linecap:square;stroke-linejoin:miter;stroke-width:0.8;\"/>\n",
       "   </g>\n",
       "   <g id=\"patch_6\">\n",
       "    <path d=\"M 90 34.56  L 343.636364 34.56  \" style=\"fill:none;stroke:#000000;stroke-linecap:square;stroke-linejoin:miter;stroke-width:0.8;\"/>\n",
       "   </g>\n",
       "   <g id=\"text_14\">\n",
       "    <!-- MNIST_MLP: Error -->\n",
       "    <defs>\n",
       "     <path d=\"M 9.8125 72.90625  L 24.515625 72.90625  L 43.109375 23.296875  L 61.8125 72.90625  L 76.515625 72.90625  L 76.515625 0  L 66.890625 0  L 66.890625 64.015625  L 48.09375 14.015625  L 38.1875 14.015625  L 19.390625 64.015625  L 19.390625 0  L 9.8125 0  z \" id=\"DejaVuSans-4d\"/>\n",
       "     <path d=\"M 9.8125 72.90625  L 23.09375 72.90625  L 55.421875 11.921875  L 55.421875 72.90625  L 64.984375 72.90625  L 64.984375 0  L 51.703125 0  L 19.390625 60.984375  L 19.390625 0  L 9.8125 0  z \" id=\"DejaVuSans-4e\"/>\n",
       "     <path d=\"M 9.8125 72.90625  L 19.671875 72.90625  L 19.671875 0  L 9.8125 0  z \" id=\"DejaVuSans-49\"/>\n",
       "     <path d=\"M 53.515625 70.515625  L 53.515625 60.890625  Q 47.90625 63.578125 42.921875 64.890625  Q 37.9375 66.21875 33.296875 66.21875  Q 25.25 66.21875 20.875 63.09375  Q 16.5 59.96875 16.5 54.203125  Q 16.5 49.359375 19.40625 46.890625  Q 22.3125 44.4375 30.421875 42.921875  L 36.375 41.703125  Q 47.40625 39.59375 52.65625 34.296875  Q 57.90625 29 57.90625 20.125  Q 57.90625 9.515625 50.796875 4.046875  Q 43.703125 -1.421875 29.984375 -1.421875  Q 24.8125 -1.421875 18.96875 -0.25  Q 13.140625 0.921875 6.890625 3.21875  L 6.890625 13.375  Q 12.890625 10.015625 18.65625 8.296875  Q 24.421875 6.59375 29.984375 6.59375  Q 38.421875 6.59375 43.015625 9.90625  Q 47.609375 13.234375 47.609375 19.390625  Q 47.609375 24.75 44.3125 27.78125  Q 41.015625 30.8125 33.5 32.328125  L 27.484375 33.5  Q 16.453125 35.6875 11.515625 40.375  Q 6.59375 45.0625 6.59375 53.421875  Q 6.59375 63.09375 13.40625 68.65625  Q 20.21875 74.21875 32.171875 74.21875  Q 37.3125 74.21875 42.625 73.28125  Q 47.953125 72.359375 53.515625 70.515625  z \" id=\"DejaVuSans-53\"/>\n",
       "     <path d=\"M -0.296875 72.90625  L 61.375 72.90625  L 61.375 64.59375  L 35.5 64.59375  L 35.5 0  L 25.59375 0  L 25.59375 64.59375  L -0.296875 64.59375  z \" id=\"DejaVuSans-54\"/>\n",
       "     <path d=\"M 50.984375 -16.609375  L 50.984375 -23.578125  L -0.984375 -23.578125  L -0.984375 -16.609375  z \" id=\"DejaVuSans-5f\"/>\n",
       "     <path d=\"M 9.8125 72.90625  L 19.671875 72.90625  L 19.671875 8.296875  L 55.171875 8.296875  L 55.171875 0  L 9.8125 0  z \" id=\"DejaVuSans-4c\"/>\n",
       "     <path d=\"M 19.671875 64.796875  L 19.671875 37.40625  L 32.078125 37.40625  Q 38.96875 37.40625 42.71875 40.96875  Q 46.484375 44.53125 46.484375 51.125  Q 46.484375 57.671875 42.71875 61.234375  Q 38.96875 64.796875 32.078125 64.796875  z M 9.8125 72.90625  L 32.078125 72.90625  Q 44.34375 72.90625 50.609375 67.359375  Q 56.890625 61.8125 56.890625 51.125  Q 56.890625 40.328125 50.609375 34.8125  Q 44.34375 29.296875 32.078125 29.296875  L 19.671875 29.296875  L 19.671875 0  L 9.8125 0  z \" id=\"DejaVuSans-50\"/>\n",
       "     <path d=\"M 11.71875 12.40625  L 22.015625 12.40625  L 22.015625 0  L 11.71875 0  z M 11.71875 51.703125  L 22.015625 51.703125  L 22.015625 39.3125  L 11.71875 39.3125  z \" id=\"DejaVuSans-3a\"/>\n",
       "     <path id=\"DejaVuSans-20\"/>\n",
       "     <path d=\"M 41.109375 46.296875  Q 39.59375 47.171875 37.8125 47.578125  Q 36.03125 48 33.890625 48  Q 26.265625 48 22.1875 43.046875  Q 18.109375 38.09375 18.109375 28.8125  L 18.109375 0  L 9.078125 0  L 9.078125 54.6875  L 18.109375 54.6875  L 18.109375 46.1875  Q 20.953125 51.171875 25.484375 53.578125  Q 30.03125 56 36.53125 56  Q 37.453125 56 38.578125 55.875  Q 39.703125 55.765625 41.0625 55.515625  z \" id=\"DejaVuSans-72\"/>\n",
       "    </defs>\n",
       "    <g transform=\"translate(163.983494 28.56)scale(0.12 -0.12)\">\n",
       "     <use xlink:href=\"#DejaVuSans-4d\"/>\n",
       "     <use x=\"86.279297\" xlink:href=\"#DejaVuSans-4e\"/>\n",
       "     <use x=\"161.083984\" xlink:href=\"#DejaVuSans-49\"/>\n",
       "     <use x=\"190.576172\" xlink:href=\"#DejaVuSans-53\"/>\n",
       "     <use x=\"254.052734\" xlink:href=\"#DejaVuSans-54\"/>\n",
       "     <use x=\"315.136719\" xlink:href=\"#DejaVuSans-5f\"/>\n",
       "     <use x=\"365.136719\" xlink:href=\"#DejaVuSans-4d\"/>\n",
       "     <use x=\"451.416016\" xlink:href=\"#DejaVuSans-4c\"/>\n",
       "     <use x=\"507.128906\" xlink:href=\"#DejaVuSans-50\"/>\n",
       "     <use x=\"567.431641\" xlink:href=\"#DejaVuSans-3a\"/>\n",
       "     <use x=\"601.123047\" xlink:href=\"#DejaVuSans-20\"/>\n",
       "     <use x=\"632.910156\" xlink:href=\"#DejaVuSans-45\"/>\n",
       "     <use x=\"696.09375\" xlink:href=\"#DejaVuSans-72\"/>\n",
       "     <use x=\"737.191406\" xlink:href=\"#DejaVuSans-72\"/>\n",
       "     <use x=\"778.273438\" xlink:href=\"#DejaVuSans-6f\"/>\n",
       "     <use x=\"839.455078\" xlink:href=\"#DejaVuSans-72\"/>\n",
       "    </g>\n",
       "   </g>\n",
       "   <g id=\"legend_1\">\n",
       "    <g id=\"patch_7\">\n",
       "     <path d=\"M 236.030114 71.91625  L 336.636364 71.91625  Q 338.636364 71.91625 338.636364 69.91625  L 338.636364 41.56  Q 338.636364 39.56 336.636364 39.56  L 236.030114 39.56  Q 234.030114 39.56 234.030114 41.56  L 234.030114 69.91625  Q 234.030114 71.91625 236.030114 71.91625  z \" style=\"fill:#ffffff;opacity:0.8;stroke:#cccccc;stroke-linejoin:miter;\"/>\n",
       "    </g>\n",
       "    <g id=\"line2d_15\">\n",
       "     <path d=\"M 238.030114 47.658437  L 258.030114 47.658437  \" style=\"fill:none;stroke:#1f77b4;stroke-linecap:square;stroke-width:1.5;\"/>\n",
       "    </g>\n",
       "    <g id=\"line2d_16\"/>\n",
       "    <g id=\"text_15\">\n",
       "     <!-- Training set -->\n",
       "     <defs>\n",
       "      <path d=\"M 34.28125 27.484375  Q 23.390625 27.484375 19.1875 25  Q 14.984375 22.515625 14.984375 16.5  Q 14.984375 11.71875 18.140625 8.90625  Q 21.296875 6.109375 26.703125 6.109375  Q 34.1875 6.109375 38.703125 11.40625  Q 43.21875 16.703125 43.21875 25.484375  L 43.21875 27.484375  z M 52.203125 31.203125  L 52.203125 0  L 43.21875 0  L 43.21875 8.296875  Q 40.140625 3.328125 35.546875 0.953125  Q 30.953125 -1.421875 24.3125 -1.421875  Q 15.921875 -1.421875 10.953125 3.296875  Q 6 8.015625 6 15.921875  Q 6 25.140625 12.171875 29.828125  Q 18.359375 34.515625 30.609375 34.515625  L 43.21875 34.515625  L 43.21875 35.40625  Q 43.21875 41.609375 39.140625 45  Q 35.0625 48.390625 27.6875 48.390625  Q 23 48.390625 18.546875 47.265625  Q 14.109375 46.140625 10.015625 43.890625  L 10.015625 52.203125  Q 14.9375 54.109375 19.578125 55.046875  Q 24.21875 56 28.609375 56  Q 40.484375 56 46.34375 49.84375  Q 52.203125 43.703125 52.203125 31.203125  z \" id=\"DejaVuSans-61\"/>\n",
       "      <path d=\"M 9.421875 54.6875  L 18.40625 54.6875  L 18.40625 0  L 9.421875 0  z M 9.421875 75.984375  L 18.40625 75.984375  L 18.40625 64.59375  L 9.421875 64.59375  z \" id=\"DejaVuSans-69\"/>\n",
       "      <path d=\"M 54.890625 33.015625  L 54.890625 0  L 45.90625 0  L 45.90625 32.71875  Q 45.90625 40.484375 42.875 44.328125  Q 39.84375 48.1875 33.796875 48.1875  Q 26.515625 48.1875 22.3125 43.546875  Q 18.109375 38.921875 18.109375 30.90625  L 18.109375 0  L 9.078125 0  L 9.078125 54.6875  L 18.109375 54.6875  L 18.109375 46.1875  Q 21.34375 51.125 25.703125 53.5625  Q 30.078125 56 35.796875 56  Q 45.21875 56 50.046875 50.171875  Q 54.890625 44.34375 54.890625 33.015625  z \" id=\"DejaVuSans-6e\"/>\n",
       "      <path d=\"M 45.40625 27.984375  Q 45.40625 37.75 41.375 43.109375  Q 37.359375 48.484375 30.078125 48.484375  Q 22.859375 48.484375 18.828125 43.109375  Q 14.796875 37.75 14.796875 27.984375  Q 14.796875 18.265625 18.828125 12.890625  Q 22.859375 7.515625 30.078125 7.515625  Q 37.359375 7.515625 41.375 12.890625  Q 45.40625 18.265625 45.40625 27.984375  z M 54.390625 6.78125  Q 54.390625 -7.171875 48.1875 -13.984375  Q 42 -20.796875 29.203125 -20.796875  Q 24.46875 -20.796875 20.265625 -20.09375  Q 16.0625 -19.390625 12.109375 -17.921875  L 12.109375 -9.1875  Q 16.0625 -11.328125 19.921875 -12.34375  Q 23.78125 -13.375 27.78125 -13.375  Q 36.625 -13.375 41.015625 -8.765625  Q 45.40625 -4.15625 45.40625 5.171875  L 45.40625 9.625  Q 42.625 4.78125 38.28125 2.390625  Q 33.9375 0 27.875 0  Q 17.828125 0 11.671875 7.65625  Q 5.515625 15.328125 5.515625 27.984375  Q 5.515625 40.671875 11.671875 48.328125  Q 17.828125 56 27.875 56  Q 33.9375 56 38.28125 53.609375  Q 42.625 51.21875 45.40625 46.390625  L 45.40625 54.6875  L 54.390625 54.6875  z \" id=\"DejaVuSans-67\"/>\n",
       "      <path d=\"M 44.28125 53.078125  L 44.28125 44.578125  Q 40.484375 46.53125 36.375 47.5  Q 32.28125 48.484375 27.875 48.484375  Q 21.1875 48.484375 17.84375 46.4375  Q 14.5 44.390625 14.5 40.28125  Q 14.5 37.15625 16.890625 35.375  Q 19.28125 33.59375 26.515625 31.984375  L 29.59375 31.296875  Q 39.15625 29.25 43.1875 25.515625  Q 47.21875 21.78125 47.21875 15.09375  Q 47.21875 7.46875 41.1875 3.015625  Q 35.15625 -1.421875 24.609375 -1.421875  Q 20.21875 -1.421875 15.453125 -0.5625  Q 10.6875 0.296875 5.421875 2  L 5.421875 11.28125  Q 10.40625 8.6875 15.234375 7.390625  Q 20.0625 6.109375 24.8125 6.109375  Q 31.15625 6.109375 34.5625 8.28125  Q 37.984375 10.453125 37.984375 14.40625  Q 37.984375 18.0625 35.515625 20.015625  Q 33.0625 21.96875 24.703125 23.78125  L 21.578125 24.515625  Q 13.234375 26.265625 9.515625 29.90625  Q 5.8125 33.546875 5.8125 39.890625  Q 5.8125 47.609375 11.28125 51.796875  Q 16.75 56 26.8125 56  Q 31.78125 56 36.171875 55.265625  Q 40.578125 54.546875 44.28125 53.078125  z \" id=\"DejaVuSans-73\"/>\n",
       "      <path d=\"M 56.203125 29.59375  L 56.203125 25.203125  L 14.890625 25.203125  Q 15.484375 15.921875 20.484375 11.0625  Q 25.484375 6.203125 34.421875 6.203125  Q 39.59375 6.203125 44.453125 7.46875  Q 49.3125 8.734375 54.109375 11.28125  L 54.109375 2.78125  Q 49.265625 0.734375 44.1875 -0.34375  Q 39.109375 -1.421875 33.890625 -1.421875  Q 20.796875 -1.421875 13.15625 6.1875  Q 5.515625 13.8125 5.515625 26.8125  Q 5.515625 40.234375 12.765625 48.109375  Q 20.015625 56 32.328125 56  Q 43.359375 56 49.78125 48.890625  Q 56.203125 41.796875 56.203125 29.59375  z M 47.21875 32.234375  Q 47.125 39.59375 43.09375 43.984375  Q 39.0625 48.390625 32.421875 48.390625  Q 24.90625 48.390625 20.390625 44.140625  Q 15.875 39.890625 15.1875 32.171875  z \" id=\"DejaVuSans-65\"/>\n",
       "      <path d=\"M 18.3125 70.21875  L 18.3125 54.6875  L 36.8125 54.6875  L 36.8125 47.703125  L 18.3125 47.703125  L 18.3125 18.015625  Q 18.3125 11.328125 20.140625 9.421875  Q 21.96875 7.515625 27.59375 7.515625  L 36.8125 7.515625  L 36.8125 0  L 27.59375 0  Q 17.1875 0 13.234375 3.875  Q 9.28125 7.765625 9.28125 18.015625  L 9.28125 47.703125  L 2.6875 47.703125  L 2.6875 54.6875  L 9.28125 54.6875  L 9.28125 70.21875  z \" id=\"DejaVuSans-74\"/>\n",
       "     </defs>\n",
       "     <g transform=\"translate(266.030114 51.158437)scale(0.1 -0.1)\">\n",
       "      <use xlink:href=\"#DejaVuSans-54\"/>\n",
       "      <use x=\"60.865234\" xlink:href=\"#DejaVuSans-72\"/>\n",
       "      <use x=\"101.978516\" xlink:href=\"#DejaVuSans-61\"/>\n",
       "      <use x=\"163.257812\" xlink:href=\"#DejaVuSans-69\"/>\n",
       "      <use x=\"191.041016\" xlink:href=\"#DejaVuSans-6e\"/>\n",
       "      <use x=\"254.419922\" xlink:href=\"#DejaVuSans-69\"/>\n",
       "      <use x=\"282.203125\" xlink:href=\"#DejaVuSans-6e\"/>\n",
       "      <use x=\"345.582031\" xlink:href=\"#DejaVuSans-67\"/>\n",
       "      <use x=\"409.058594\" xlink:href=\"#DejaVuSans-20\"/>\n",
       "      <use x=\"440.845703\" xlink:href=\"#DejaVuSans-73\"/>\n",
       "      <use x=\"492.945312\" xlink:href=\"#DejaVuSans-65\"/>\n",
       "      <use x=\"554.46875\" xlink:href=\"#DejaVuSans-74\"/>\n",
       "     </g>\n",
       "    </g>\n",
       "    <g id=\"line2d_17\">\n",
       "     <path d=\"M 238.030114 62.336562  L 258.030114 62.336562  \" style=\"fill:none;stroke:#ff7f0e;stroke-linecap:square;stroke-width:1.5;\"/>\n",
       "    </g>\n",
       "    <g id=\"line2d_18\"/>\n",
       "    <g id=\"text_16\">\n",
       "     <!-- Validation set -->\n",
       "     <defs>\n",
       "      <path d=\"M 28.609375 0  L 0.78125 72.90625  L 11.078125 72.90625  L 34.1875 11.53125  L 57.328125 72.90625  L 67.578125 72.90625  L 39.796875 0  z \" id=\"DejaVuSans-56\"/>\n",
       "      <path d=\"M 9.421875 75.984375  L 18.40625 75.984375  L 18.40625 0  L 9.421875 0  z \" id=\"DejaVuSans-6c\"/>\n",
       "      <path d=\"M 45.40625 46.390625  L 45.40625 75.984375  L 54.390625 75.984375  L 54.390625 0  L 45.40625 0  L 45.40625 8.203125  Q 42.578125 3.328125 38.25 0.953125  Q 33.9375 -1.421875 27.875 -1.421875  Q 17.96875 -1.421875 11.734375 6.484375  Q 5.515625 14.40625 5.515625 27.296875  Q 5.515625 40.1875 11.734375 48.09375  Q 17.96875 56 27.875 56  Q 33.9375 56 38.25 53.625  Q 42.578125 51.265625 45.40625 46.390625  z M 14.796875 27.296875  Q 14.796875 17.390625 18.875 11.75  Q 22.953125 6.109375 30.078125 6.109375  Q 37.203125 6.109375 41.296875 11.75  Q 45.40625 17.390625 45.40625 27.296875  Q 45.40625 37.203125 41.296875 42.84375  Q 37.203125 48.484375 30.078125 48.484375  Q 22.953125 48.484375 18.875 42.84375  Q 14.796875 37.203125 14.796875 27.296875  z \" id=\"DejaVuSans-64\"/>\n",
       "     </defs>\n",
       "     <g transform=\"translate(266.030114 65.836562)scale(0.1 -0.1)\">\n",
       "      <use xlink:href=\"#DejaVuSans-56\"/>\n",
       "      <use x=\"68.298828\" xlink:href=\"#DejaVuSans-61\"/>\n",
       "      <use x=\"129.578125\" xlink:href=\"#DejaVuSans-6c\"/>\n",
       "      <use x=\"157.361328\" xlink:href=\"#DejaVuSans-69\"/>\n",
       "      <use x=\"185.144531\" xlink:href=\"#DejaVuSans-64\"/>\n",
       "      <use x=\"248.621094\" xlink:href=\"#DejaVuSans-61\"/>\n",
       "      <use x=\"309.900391\" xlink:href=\"#DejaVuSans-74\"/>\n",
       "      <use x=\"349.109375\" xlink:href=\"#DejaVuSans-69\"/>\n",
       "      <use x=\"376.892578\" xlink:href=\"#DejaVuSans-6f\"/>\n",
       "      <use x=\"438.074219\" xlink:href=\"#DejaVuSans-6e\"/>\n",
       "      <use x=\"501.453125\" xlink:href=\"#DejaVuSans-20\"/>\n",
       "      <use x=\"533.240234\" xlink:href=\"#DejaVuSans-73\"/>\n",
       "      <use x=\"585.339844\" xlink:href=\"#DejaVuSans-65\"/>\n",
       "      <use x=\"646.863281\" xlink:href=\"#DejaVuSans-74\"/>\n",
       "     </g>\n",
       "    </g>\n",
       "   </g>\n",
       "  </g>\n",
       "  <g id=\"axes_2\">\n",
       "   <g id=\"patch_8\">\n",
       "    <path d=\"M 394.363636 252  L 648 252  L 648 34.56  L 394.363636 34.56  z \" style=\"fill:#ffffff;\"/>\n",
       "   </g>\n",
       "   <g id=\"matplotlib.axis_3\">\n",
       "    <g id=\"xtick_8\">\n",
       "     <g id=\"line2d_19\">\n",
       "      <g>\n",
       "       <use style=\"stroke:#000000;stroke-width:0.8;\" x=\"405.892562\" xlink:href=\"#mc382e77a09\" y=\"252\"/>\n",
       "      </g>\n",
       "     </g>\n",
       "     <g id=\"text_17\">\n",
       "      <!-- 0 -->\n",
       "      <g transform=\"translate(402.711312 266.598437)scale(0.1 -0.1)\">\n",
       "       <use xlink:href=\"#DejaVuSans-30\"/>\n",
       "      </g>\n",
       "     </g>\n",
       "    </g>\n",
       "    <g id=\"xtick_9\">\n",
       "     <g id=\"line2d_20\">\n",
       "      <g>\n",
       "       <use style=\"stroke:#000000;stroke-width:0.8;\" x=\"444.322314\" xlink:href=\"#mc382e77a09\" y=\"252\"/>\n",
       "      </g>\n",
       "     </g>\n",
       "     <g id=\"text_18\">\n",
       "      <!-- 5 -->\n",
       "      <g transform=\"translate(441.141064 266.598437)scale(0.1 -0.1)\">\n",
       "       <use xlink:href=\"#DejaVuSans-35\"/>\n",
       "      </g>\n",
       "     </g>\n",
       "    </g>\n",
       "    <g id=\"xtick_10\">\n",
       "     <g id=\"line2d_21\">\n",
       "      <g>\n",
       "       <use style=\"stroke:#000000;stroke-width:0.8;\" x=\"482.752066\" xlink:href=\"#mc382e77a09\" y=\"252\"/>\n",
       "      </g>\n",
       "     </g>\n",
       "     <g id=\"text_19\">\n",
       "      <!-- 10 -->\n",
       "      <g transform=\"translate(476.389566 266.598437)scale(0.1 -0.1)\">\n",
       "       <use xlink:href=\"#DejaVuSans-31\"/>\n",
       "       <use x=\"63.623047\" xlink:href=\"#DejaVuSans-30\"/>\n",
       "      </g>\n",
       "     </g>\n",
       "    </g>\n",
       "    <g id=\"xtick_11\">\n",
       "     <g id=\"line2d_22\">\n",
       "      <g>\n",
       "       <use style=\"stroke:#000000;stroke-width:0.8;\" x=\"521.181818\" xlink:href=\"#mc382e77a09\" y=\"252\"/>\n",
       "      </g>\n",
       "     </g>\n",
       "     <g id=\"text_20\">\n",
       "      <!-- 15 -->\n",
       "      <g transform=\"translate(514.819318 266.598437)scale(0.1 -0.1)\">\n",
       "       <use xlink:href=\"#DejaVuSans-31\"/>\n",
       "       <use x=\"63.623047\" xlink:href=\"#DejaVuSans-35\"/>\n",
       "      </g>\n",
       "     </g>\n",
       "    </g>\n",
       "    <g id=\"xtick_12\">\n",
       "     <g id=\"line2d_23\">\n",
       "      <g>\n",
       "       <use style=\"stroke:#000000;stroke-width:0.8;\" x=\"559.61157\" xlink:href=\"#mc382e77a09\" y=\"252\"/>\n",
       "      </g>\n",
       "     </g>\n",
       "     <g id=\"text_21\">\n",
       "      <!-- 20 -->\n",
       "      <g transform=\"translate(553.24907 266.598437)scale(0.1 -0.1)\">\n",
       "       <use xlink:href=\"#DejaVuSans-32\"/>\n",
       "       <use x=\"63.623047\" xlink:href=\"#DejaVuSans-30\"/>\n",
       "      </g>\n",
       "     </g>\n",
       "    </g>\n",
       "    <g id=\"xtick_13\">\n",
       "     <g id=\"line2d_24\">\n",
       "      <g>\n",
       "       <use style=\"stroke:#000000;stroke-width:0.8;\" x=\"598.041322\" xlink:href=\"#mc382e77a09\" y=\"252\"/>\n",
       "      </g>\n",
       "     </g>\n",
       "     <g id=\"text_22\">\n",
       "      <!-- 25 -->\n",
       "      <g transform=\"translate(591.678822 266.598437)scale(0.1 -0.1)\">\n",
       "       <use xlink:href=\"#DejaVuSans-32\"/>\n",
       "       <use x=\"63.623047\" xlink:href=\"#DejaVuSans-35\"/>\n",
       "      </g>\n",
       "     </g>\n",
       "    </g>\n",
       "    <g id=\"xtick_14\">\n",
       "     <g id=\"line2d_25\">\n",
       "      <g>\n",
       "       <use style=\"stroke:#000000;stroke-width:0.8;\" x=\"636.471074\" xlink:href=\"#mc382e77a09\" y=\"252\"/>\n",
       "      </g>\n",
       "     </g>\n",
       "     <g id=\"text_23\">\n",
       "      <!-- 30 -->\n",
       "      <g transform=\"translate(630.108574 266.598437)scale(0.1 -0.1)\">\n",
       "       <use xlink:href=\"#DejaVuSans-33\"/>\n",
       "       <use x=\"63.623047\" xlink:href=\"#DejaVuSans-30\"/>\n",
       "      </g>\n",
       "     </g>\n",
       "    </g>\n",
       "    <g id=\"text_24\">\n",
       "     <!-- Epoch -->\n",
       "     <g transform=\"translate(505.870881 280.276563)scale(0.1 -0.1)\">\n",
       "      <use xlink:href=\"#DejaVuSans-45\"/>\n",
       "      <use x=\"63.183594\" xlink:href=\"#DejaVuSans-70\"/>\n",
       "      <use x=\"126.660156\" xlink:href=\"#DejaVuSans-6f\"/>\n",
       "      <use x=\"187.841797\" xlink:href=\"#DejaVuSans-63\"/>\n",
       "      <use x=\"242.822266\" xlink:href=\"#DejaVuSans-68\"/>\n",
       "     </g>\n",
       "    </g>\n",
       "   </g>\n",
       "   <g id=\"matplotlib.axis_4\">\n",
       "    <g id=\"ytick_6\">\n",
       "     <g id=\"line2d_26\">\n",
       "      <g>\n",
       "       <use style=\"stroke:#000000;stroke-width:0.8;\" x=\"394.363636\" xlink:href=\"#mc88d31125b\" y=\"233.88\"/>\n",
       "      </g>\n",
       "     </g>\n",
       "     <g id=\"text_25\">\n",
       "      <!-- 0.0 -->\n",
       "      <g transform=\"translate(371.460511 237.679219)scale(0.1 -0.1)\">\n",
       "       <use xlink:href=\"#DejaVuSans-30\"/>\n",
       "       <use x=\"63.623047\" xlink:href=\"#DejaVuSans-2e\"/>\n",
       "       <use x=\"95.410156\" xlink:href=\"#DejaVuSans-30\"/>\n",
       "      </g>\n",
       "     </g>\n",
       "    </g>\n",
       "    <g id=\"ytick_7\">\n",
       "     <g id=\"line2d_27\">\n",
       "      <g>\n",
       "       <use style=\"stroke:#000000;stroke-width:0.8;\" x=\"394.363636\" xlink:href=\"#mc88d31125b\" y=\"197.64\"/>\n",
       "      </g>\n",
       "     </g>\n",
       "     <g id=\"text_26\">\n",
       "      <!-- 0.2 -->\n",
       "      <g transform=\"translate(371.460511 201.439219)scale(0.1 -0.1)\">\n",
       "       <use xlink:href=\"#DejaVuSans-30\"/>\n",
       "       <use x=\"63.623047\" xlink:href=\"#DejaVuSans-2e\"/>\n",
       "       <use x=\"95.410156\" xlink:href=\"#DejaVuSans-32\"/>\n",
       "      </g>\n",
       "     </g>\n",
       "    </g>\n",
       "    <g id=\"ytick_8\">\n",
       "     <g id=\"line2d_28\">\n",
       "      <g>\n",
       "       <use style=\"stroke:#000000;stroke-width:0.8;\" x=\"394.363636\" xlink:href=\"#mc88d31125b\" y=\"161.4\"/>\n",
       "      </g>\n",
       "     </g>\n",
       "     <g id=\"text_27\">\n",
       "      <!-- 0.4 -->\n",
       "      <defs>\n",
       "       <path d=\"M 37.796875 64.3125  L 12.890625 25.390625  L 37.796875 25.390625  z M 35.203125 72.90625  L 47.609375 72.90625  L 47.609375 25.390625  L 58.015625 25.390625  L 58.015625 17.1875  L 47.609375 17.1875  L 47.609375 0  L 37.796875 0  L 37.796875 17.1875  L 4.890625 17.1875  L 4.890625 26.703125  z \" id=\"DejaVuSans-34\"/>\n",
       "      </defs>\n",
       "      <g transform=\"translate(371.460511 165.199219)scale(0.1 -0.1)\">\n",
       "       <use xlink:href=\"#DejaVuSans-30\"/>\n",
       "       <use x=\"63.623047\" xlink:href=\"#DejaVuSans-2e\"/>\n",
       "       <use x=\"95.410156\" xlink:href=\"#DejaVuSans-34\"/>\n",
       "      </g>\n",
       "     </g>\n",
       "    </g>\n",
       "    <g id=\"ytick_9\">\n",
       "     <g id=\"line2d_29\">\n",
       "      <g>\n",
       "       <use style=\"stroke:#000000;stroke-width:0.8;\" x=\"394.363636\" xlink:href=\"#mc88d31125b\" y=\"125.16\"/>\n",
       "      </g>\n",
       "     </g>\n",
       "     <g id=\"text_28\">\n",
       "      <!-- 0.6 -->\n",
       "      <defs>\n",
       "       <path d=\"M 33.015625 40.375  Q 26.375 40.375 22.484375 35.828125  Q 18.609375 31.296875 18.609375 23.390625  Q 18.609375 15.53125 22.484375 10.953125  Q 26.375 6.390625 33.015625 6.390625  Q 39.65625 6.390625 43.53125 10.953125  Q 47.40625 15.53125 47.40625 23.390625  Q 47.40625 31.296875 43.53125 35.828125  Q 39.65625 40.375 33.015625 40.375  z M 52.59375 71.296875  L 52.59375 62.3125  Q 48.875 64.0625 45.09375 64.984375  Q 41.3125 65.921875 37.59375 65.921875  Q 27.828125 65.921875 22.671875 59.328125  Q 17.53125 52.734375 16.796875 39.40625  Q 19.671875 43.65625 24.015625 45.921875  Q 28.375 48.1875 33.59375 48.1875  Q 44.578125 48.1875 50.953125 41.515625  Q 57.328125 34.859375 57.328125 23.390625  Q 57.328125 12.15625 50.6875 5.359375  Q 44.046875 -1.421875 33.015625 -1.421875  Q 20.359375 -1.421875 13.671875 8.265625  Q 6.984375 17.96875 6.984375 36.375  Q 6.984375 53.65625 15.1875 63.9375  Q 23.390625 74.21875 37.203125 74.21875  Q 40.921875 74.21875 44.703125 73.484375  Q 48.484375 72.75 52.59375 71.296875  z \" id=\"DejaVuSans-36\"/>\n",
       "      </defs>\n",
       "      <g transform=\"translate(371.460511 128.959219)scale(0.1 -0.1)\">\n",
       "       <use xlink:href=\"#DejaVuSans-30\"/>\n",
       "       <use x=\"63.623047\" xlink:href=\"#DejaVuSans-2e\"/>\n",
       "       <use x=\"95.410156\" xlink:href=\"#DejaVuSans-36\"/>\n",
       "      </g>\n",
       "     </g>\n",
       "    </g>\n",
       "    <g id=\"ytick_10\">\n",
       "     <g id=\"line2d_30\">\n",
       "      <g>\n",
       "       <use style=\"stroke:#000000;stroke-width:0.8;\" x=\"394.363636\" xlink:href=\"#mc88d31125b\" y=\"88.92\"/>\n",
       "      </g>\n",
       "     </g>\n",
       "     <g id=\"text_29\">\n",
       "      <!-- 0.8 -->\n",
       "      <defs>\n",
       "       <path d=\"M 31.78125 34.625  Q 24.75 34.625 20.71875 30.859375  Q 16.703125 27.09375 16.703125 20.515625  Q 16.703125 13.921875 20.71875 10.15625  Q 24.75 6.390625 31.78125 6.390625  Q 38.8125 6.390625 42.859375 10.171875  Q 46.921875 13.96875 46.921875 20.515625  Q 46.921875 27.09375 42.890625 30.859375  Q 38.875 34.625 31.78125 34.625  z M 21.921875 38.8125  Q 15.578125 40.375 12.03125 44.71875  Q 8.5 49.078125 8.5 55.328125  Q 8.5 64.0625 14.71875 69.140625  Q 20.953125 74.21875 31.78125 74.21875  Q 42.671875 74.21875 48.875 69.140625  Q 55.078125 64.0625 55.078125 55.328125  Q 55.078125 49.078125 51.53125 44.71875  Q 48 40.375 41.703125 38.8125  Q 48.828125 37.15625 52.796875 32.3125  Q 56.78125 27.484375 56.78125 20.515625  Q 56.78125 9.90625 50.3125 4.234375  Q 43.84375 -1.421875 31.78125 -1.421875  Q 19.734375 -1.421875 13.25 4.234375  Q 6.78125 9.90625 6.78125 20.515625  Q 6.78125 27.484375 10.78125 32.3125  Q 14.796875 37.15625 21.921875 38.8125  z M 18.3125 54.390625  Q 18.3125 48.734375 21.84375 45.5625  Q 25.390625 42.390625 31.78125 42.390625  Q 38.140625 42.390625 41.71875 45.5625  Q 45.3125 48.734375 45.3125 54.390625  Q 45.3125 60.0625 41.71875 63.234375  Q 38.140625 66.40625 31.78125 66.40625  Q 25.390625 66.40625 21.84375 63.234375  Q 18.3125 60.0625 18.3125 54.390625  z \" id=\"DejaVuSans-38\"/>\n",
       "      </defs>\n",
       "      <g transform=\"translate(371.460511 92.719219)scale(0.1 -0.1)\">\n",
       "       <use xlink:href=\"#DejaVuSans-30\"/>\n",
       "       <use x=\"63.623047\" xlink:href=\"#DejaVuSans-2e\"/>\n",
       "       <use x=\"95.410156\" xlink:href=\"#DejaVuSans-38\"/>\n",
       "      </g>\n",
       "     </g>\n",
       "    </g>\n",
       "    <g id=\"ytick_11\">\n",
       "     <g id=\"line2d_31\">\n",
       "      <g>\n",
       "       <use style=\"stroke:#000000;stroke-width:0.8;\" x=\"394.363636\" xlink:href=\"#mc88d31125b\" y=\"52.68\"/>\n",
       "      </g>\n",
       "     </g>\n",
       "     <g id=\"text_30\">\n",
       "      <!-- 1.0 -->\n",
       "      <g transform=\"translate(371.460511 56.479219)scale(0.1 -0.1)\">\n",
       "       <use xlink:href=\"#DejaVuSans-31\"/>\n",
       "       <use x=\"63.623047\" xlink:href=\"#DejaVuSans-2e\"/>\n",
       "       <use x=\"95.410156\" xlink:href=\"#DejaVuSans-30\"/>\n",
       "      </g>\n",
       "     </g>\n",
       "    </g>\n",
       "   </g>\n",
       "   <g id=\"line2d_32\">\n",
       "    <path clip-path=\"url(#p27f8a4a37b)\" d=\"M 405.892562 216.99518  L 413.578512 70.50102  L 421.264463 62.21112  L 428.950413 60.80078  L 436.636364 60.0337  L 444.322314 59.34212  L 452.008264 58.7804  L 459.694215 58.94046  L 467.380165 58.64148  L 475.066116 58.24586  L 482.752066 58.06164  L 490.438017 57.69018  L 498.123967 57.59958  L 505.809917 57.59656  L 513.495868 57.38214  L 521.181818 57.41536  L 528.867769 57.31268  L 536.553719 57.11034  L 544.239669 56.88384  L 551.92562 56.92914  L 559.61157 56.86572  L 567.297521 56.76606  L 574.983471 56.62412  L 582.669421 56.45198  L 590.355372 56.72076  L 598.041322 56.52144  L 605.727273 56.39762  L 613.413223 56.3191  L 621.099174 56.36742  L 628.785124 56.36138  L 636.471074 56.3644  \" style=\"fill:none;stroke:#1f77b4;stroke-linecap:square;stroke-width:1.5;\"/>\n",
       "   </g>\n",
       "   <g id=\"line2d_33\">\n",
       "    <path clip-path=\"url(#p27f8a4a37b)\" d=\"M 405.892562 216.64788  L 413.578512 64.85664  L 421.264463 61.41384  L 428.950413 60.79776  L 436.636364 60.67092  L 444.322314 59.89176  L 452.008264 61.08768  L 459.694215 59.87364  L 467.380165 60.72528  L 475.066116 60.72528  L 482.752066 60.25416  L 490.438017 60.03672  L 498.123967 61.3776  L 505.809917 59.94612  L 513.495868 59.58372  L 521.181818 61.39572  L 528.867769 60.36288  L 536.553719 59.60184  L 544.239669 59.6562  L 551.92562 60.381  L 559.61157 61.39572  L 567.297521 60.14544  L 574.983471 60.381  L 582.669421 60.36288  L 590.355372 60.30852  L 598.041322 58.91328  L 605.727273 59.80116  L 613.413223 63.22584  L 621.099174 60.00048  L 628.785124 59.80116  L 636.471074 59.43876  \" style=\"fill:none;stroke:#ff7f0e;stroke-linecap:square;stroke-width:1.5;\"/>\n",
       "   </g>\n",
       "   <g id=\"patch_9\">\n",
       "    <path d=\"M 394.363636 252  L 394.363636 34.56  \" style=\"fill:none;stroke:#000000;stroke-linecap:square;stroke-linejoin:miter;stroke-width:0.8;\"/>\n",
       "   </g>\n",
       "   <g id=\"patch_10\">\n",
       "    <path d=\"M 648 252  L 648 34.56  \" style=\"fill:none;stroke:#000000;stroke-linecap:square;stroke-linejoin:miter;stroke-width:0.8;\"/>\n",
       "   </g>\n",
       "   <g id=\"patch_11\">\n",
       "    <path d=\"M 394.363636 252  L 648 252  \" style=\"fill:none;stroke:#000000;stroke-linecap:square;stroke-linejoin:miter;stroke-width:0.8;\"/>\n",
       "   </g>\n",
       "   <g id=\"patch_12\">\n",
       "    <path d=\"M 394.363636 34.56  L 648 34.56  \" style=\"fill:none;stroke:#000000;stroke-linecap:square;stroke-linejoin:miter;stroke-width:0.8;\"/>\n",
       "   </g>\n",
       "   <g id=\"text_31\">\n",
       "    <!-- MNIST_MLP: Accuracy -->\n",
       "    <defs>\n",
       "     <path d=\"M 34.1875 63.1875  L 20.796875 26.90625  L 47.609375 26.90625  z M 28.609375 72.90625  L 39.796875 72.90625  L 67.578125 0  L 57.328125 0  L 50.6875 18.703125  L 17.828125 18.703125  L 11.1875 0  L 0.78125 0  z \" id=\"DejaVuSans-41\"/>\n",
       "     <path d=\"M 8.5 21.578125  L 8.5 54.6875  L 17.484375 54.6875  L 17.484375 21.921875  Q 17.484375 14.15625 20.5 10.265625  Q 23.53125 6.390625 29.59375 6.390625  Q 36.859375 6.390625 41.078125 11.03125  Q 45.3125 15.671875 45.3125 23.6875  L 45.3125 54.6875  L 54.296875 54.6875  L 54.296875 0  L 45.3125 0  L 45.3125 8.40625  Q 42.046875 3.421875 37.71875 1  Q 33.40625 -1.421875 27.6875 -1.421875  Q 18.265625 -1.421875 13.375 4.4375  Q 8.5 10.296875 8.5 21.578125  z M 31.109375 56  z \" id=\"DejaVuSans-75\"/>\n",
       "     <path d=\"M 32.171875 -5.078125  Q 28.375 -14.84375 24.75 -17.8125  Q 21.140625 -20.796875 15.09375 -20.796875  L 7.90625 -20.796875  L 7.90625 -13.28125  L 13.1875 -13.28125  Q 16.890625 -13.28125 18.9375 -11.515625  Q 21 -9.765625 23.484375 -3.21875  L 25.09375 0.875  L 2.984375 54.6875  L 12.5 54.6875  L 29.59375 11.921875  L 46.6875 54.6875  L 56.203125 54.6875  z \" id=\"DejaVuSans-79\"/>\n",
       "    </defs>\n",
       "    <g transform=\"translate(455.708693 28.56)scale(0.12 -0.12)\">\n",
       "     <use xlink:href=\"#DejaVuSans-4d\"/>\n",
       "     <use x=\"86.279297\" xlink:href=\"#DejaVuSans-4e\"/>\n",
       "     <use x=\"161.083984\" xlink:href=\"#DejaVuSans-49\"/>\n",
       "     <use x=\"190.576172\" xlink:href=\"#DejaVuSans-53\"/>\n",
       "     <use x=\"254.052734\" xlink:href=\"#DejaVuSans-54\"/>\n",
       "     <use x=\"315.136719\" xlink:href=\"#DejaVuSans-5f\"/>\n",
       "     <use x=\"365.136719\" xlink:href=\"#DejaVuSans-4d\"/>\n",
       "     <use x=\"451.416016\" xlink:href=\"#DejaVuSans-4c\"/>\n",
       "     <use x=\"507.128906\" xlink:href=\"#DejaVuSans-50\"/>\n",
       "     <use x=\"567.431641\" xlink:href=\"#DejaVuSans-3a\"/>\n",
       "     <use x=\"601.123047\" xlink:href=\"#DejaVuSans-20\"/>\n",
       "     <use x=\"632.910156\" xlink:href=\"#DejaVuSans-41\"/>\n",
       "     <use x=\"701.302734\" xlink:href=\"#DejaVuSans-63\"/>\n",
       "     <use x=\"756.283203\" xlink:href=\"#DejaVuSans-63\"/>\n",
       "     <use x=\"811.263672\" xlink:href=\"#DejaVuSans-75\"/>\n",
       "     <use x=\"874.642578\" xlink:href=\"#DejaVuSans-72\"/>\n",
       "     <use x=\"915.755859\" xlink:href=\"#DejaVuSans-61\"/>\n",
       "     <use x=\"977.035156\" xlink:href=\"#DejaVuSans-63\"/>\n",
       "     <use x=\"1032.015625\" xlink:href=\"#DejaVuSans-79\"/>\n",
       "    </g>\n",
       "   </g>\n",
       "   <g id=\"legend_2\">\n",
       "    <g id=\"patch_13\">\n",
       "     <path d=\"M 540.39375 247  L 641 247  Q 643 247 643 245  L 643 216.64375  Q 643 214.64375 641 214.64375  L 540.39375 214.64375  Q 538.39375 214.64375 538.39375 216.64375  L 538.39375 245  Q 538.39375 247 540.39375 247  z \" style=\"fill:#ffffff;opacity:0.8;stroke:#cccccc;stroke-linejoin:miter;\"/>\n",
       "    </g>\n",
       "    <g id=\"line2d_34\">\n",
       "     <path d=\"M 542.39375 222.742188  L 562.39375 222.742188  \" style=\"fill:none;stroke:#1f77b4;stroke-linecap:square;stroke-width:1.5;\"/>\n",
       "    </g>\n",
       "    <g id=\"line2d_35\"/>\n",
       "    <g id=\"text_32\">\n",
       "     <!-- Training set -->\n",
       "     <g transform=\"translate(570.39375 226.242188)scale(0.1 -0.1)\">\n",
       "      <use xlink:href=\"#DejaVuSans-54\"/>\n",
       "      <use x=\"60.865234\" xlink:href=\"#DejaVuSans-72\"/>\n",
       "      <use x=\"101.978516\" xlink:href=\"#DejaVuSans-61\"/>\n",
       "      <use x=\"163.257812\" xlink:href=\"#DejaVuSans-69\"/>\n",
       "      <use x=\"191.041016\" xlink:href=\"#DejaVuSans-6e\"/>\n",
       "      <use x=\"254.419922\" xlink:href=\"#DejaVuSans-69\"/>\n",
       "      <use x=\"282.203125\" xlink:href=\"#DejaVuSans-6e\"/>\n",
       "      <use x=\"345.582031\" xlink:href=\"#DejaVuSans-67\"/>\n",
       "      <use x=\"409.058594\" xlink:href=\"#DejaVuSans-20\"/>\n",
       "      <use x=\"440.845703\" xlink:href=\"#DejaVuSans-73\"/>\n",
       "      <use x=\"492.945312\" xlink:href=\"#DejaVuSans-65\"/>\n",
       "      <use x=\"554.46875\" xlink:href=\"#DejaVuSans-74\"/>\n",
       "     </g>\n",
       "    </g>\n",
       "    <g id=\"line2d_36\">\n",
       "     <path d=\"M 542.39375 237.420312  L 562.39375 237.420312  \" style=\"fill:none;stroke:#ff7f0e;stroke-linecap:square;stroke-width:1.5;\"/>\n",
       "    </g>\n",
       "    <g id=\"line2d_37\"/>\n",
       "    <g id=\"text_33\">\n",
       "     <!-- Validation set -->\n",
       "     <g transform=\"translate(570.39375 240.920312)scale(0.1 -0.1)\">\n",
       "      <use xlink:href=\"#DejaVuSans-56\"/>\n",
       "      <use x=\"68.298828\" xlink:href=\"#DejaVuSans-61\"/>\n",
       "      <use x=\"129.578125\" xlink:href=\"#DejaVuSans-6c\"/>\n",
       "      <use x=\"157.361328\" xlink:href=\"#DejaVuSans-69\"/>\n",
       "      <use x=\"185.144531\" xlink:href=\"#DejaVuSans-64\"/>\n",
       "      <use x=\"248.621094\" xlink:href=\"#DejaVuSans-61\"/>\n",
       "      <use x=\"309.900391\" xlink:href=\"#DejaVuSans-74\"/>\n",
       "      <use x=\"349.109375\" xlink:href=\"#DejaVuSans-69\"/>\n",
       "      <use x=\"376.892578\" xlink:href=\"#DejaVuSans-6f\"/>\n",
       "      <use x=\"438.074219\" xlink:href=\"#DejaVuSans-6e\"/>\n",
       "      <use x=\"501.453125\" xlink:href=\"#DejaVuSans-20\"/>\n",
       "      <use x=\"533.240234\" xlink:href=\"#DejaVuSans-73\"/>\n",
       "      <use x=\"585.339844\" xlink:href=\"#DejaVuSans-65\"/>\n",
       "      <use x=\"646.863281\" xlink:href=\"#DejaVuSans-74\"/>\n",
       "     </g>\n",
       "    </g>\n",
       "   </g>\n",
       "  </g>\n",
       " </g>\n",
       " <defs>\n",
       "  <clipPath id=\"p5867a3db0f\">\n",
       "   <rect height=\"217.44\" width=\"253.636364\" x=\"90\" y=\"34.56\"/>\n",
       "  </clipPath>\n",
       "  <clipPath id=\"p27f8a4a37b\">\n",
       "   <rect height=\"217.44\" width=\"253.636364\" x=\"394.363636\" y=\"34.56\"/>\n",
       "  </clipPath>\n",
       " </defs>\n",
       "</svg>"
      ],
      "text/plain": [
       "<IPython.core.display.SVG object>"
      ]
     },
     "metadata": {},
     "output_type": "display_data"
    },
    {
     "name": "stdout",
     "output_type": "stream",
     "text": [
      "========================================================\n",
      "       |  Training |  Training |  Validate |  Validate \n",
      "Epochs |     Error |  Accuracy |     Error |  Accuracy \n",
      "------ | --------- | --------- | --------- | --------- \n",
      "#   30 |   0.07131 |   0.97967 |   0.17702 |   0.96270 \n"
     ]
    }
   ],
   "source": [
    "net.train(epochs=30)"
   ]
  },
  {
   "cell_type": "markdown",
   "metadata": {},
   "source": [
    "The detailed epoch-by-epoch training history of the network is available by calling `show_results()`. The optional `report_rate` keyword specifies which epochs to show."
   ]
  },
  {
   "cell_type": "code",
   "execution_count": 30,
   "metadata": {
    "scrolled": true
   },
   "outputs": [
    {
     "name": "stdout",
     "output_type": "stream",
     "text": [
      "       |  Training |  Training |  Validate |  Validate \n",
      "Epochs |     Error |  Accuracy |     Error |  Accuracy \n",
      "------ | --------- | --------- | --------- | --------- \n",
      "#    0 |   2.33500 |   0.09318 |   2.33144 |   0.09510 \n",
      "#    5 |   0.12576 |   0.96323 |   0.14206 |   0.96020 \n",
      "#   10 |   0.10124 |   0.97030 |   0.16504 |   0.95820 \n",
      "#   15 |   0.08706 |   0.97387 |   0.21373 |   0.95190 \n",
      "#   20 |   0.08165 |   0.97690 |   0.22343 |   0.95190 \n",
      "#   25 |   0.07315 |   0.97880 |   0.16131 |   0.96560 \n",
      "#   30 |   0.07131 |   0.97967 |   0.17702 |   0.96270 \n",
      "========================================================\n",
      "#   30 |   0.07131 |   0.97967 |   0.17702 |   0.96270 \n"
     ]
    }
   ],
   "source": [
    "net.show_results(report_rate=5)"
   ]
  },
  {
   "cell_type": "markdown",
   "metadata": {},
   "source": [
    "The `plot` method shows the value of various network metrics during training. The metrics `loss` and `val_loss` represent the value of the error (loss) function on the training and testing sets, respectively.  Likewise, `acc` and `val_acc` represent the accuracy of the training and testing sets, respectively. The optional `ymin` and `ymax` keywords can be used to adjust the y-axis scale. For example:"
   ]
  },
  {
   "cell_type": "code",
   "execution_count": 31,
   "metadata": {},
   "outputs": [
    {
     "data": {
      "image/png": "[encoded data removed]",
      "text/plain": [
       "<matplotlib.figure.Figure at 0x11d9abe80>"
      ]
     },
     "metadata": {},
     "output_type": "display_data"
    }
   ],
   "source": [
    "net.plot(['acc', 'val_acc'], ymin=0.9, ymax=1)"
   ]
  },
  {
   "cell_type": "code",
   "execution_count": 32,
   "metadata": {},
   "outputs": [
    {
     "data": {
      "image/png": "[encoded data removed]",
      "text/plain": [
       "<matplotlib.figure.Figure at 0x11b1d48d0>"
      ]
     },
     "metadata": {},
     "output_type": "display_data"
    }
   ],
   "source": [
    "net.plot(['loss', 'val_loss'], ymin=0, ymax=0.3)"
   ]
  },
  {
   "cell_type": "markdown",
   "metadata": {},
   "source": [
    "After training, the index of the largest output value in response to an input image corresponds to the network's digit classification.  To see this more clearly, we will make use of Conx's ``argmax`` function, which takes a list of numbers and returns the *position* of the largest number in the list (counting from 0).  For example, test input #42 is shown below, along with the network's response."
   ]
  },
  {
   "cell_type": "code",
   "execution_count": 33,
   "metadata": {},
   "outputs": [
    {
     "data": {
      "image/png": "[encoded data removed]",
      "text/plain": [
       "<matplotlib.figure.Figure at 0x1125168d0>"
      ]
     },
     "metadata": {},
     "output_type": "display_data"
    }
   ],
   "source": [
    "cx.view(net.dataset.test_inputs[42])"
   ]
  },
  {
   "cell_type": "code",
   "execution_count": 34,
   "metadata": {},
   "outputs": [
    {
     "data": {
      "text/plain": [
       "[9.24168386262636e-09,\n",
       " 1.3144831001454804e-08,\n",
       " 1.3946462040781427e-10,\n",
       " 7.854791329009458e-05,\n",
       " 1.713449521156818e-10,\n",
       " 0.9999127388000488,\n",
       " 3.701912376641303e-08,\n",
       " 2.28471264129837e-09,\n",
       " 1.5978503142832778e-07,\n",
       " 8.462682671961375e-06]"
      ]
     },
     "execution_count": 34,
     "metadata": {},
     "output_type": "execute_result"
    }
   ],
   "source": [
    "net.propagate(net.dataset.test_inputs[42])"
   ]
  },
  {
   "cell_type": "code",
   "execution_count": 35,
   "metadata": {},
   "outputs": [
    {
     "data": {
      "text/plain": [
       "5"
      ]
     },
     "execution_count": 35,
     "metadata": {},
     "output_type": "execute_result"
    }
   ],
   "source": [
    "cx.argmax(net.propagate(net.dataset.test_inputs[42]))"
   ]
  },
  {
   "cell_type": "markdown",
   "metadata": {},
   "source": [
    "Examining the weights into the same three hidden units as before shows that these units have learned to respond in different ways to different parts of the input image."
   ]
  },
  {
   "cell_type": "code",
   "execution_count": 36,
   "metadata": {},
   "outputs": [
    {
     "data": {
      "image/png": "[encoded data removed]",
      "text/plain": [
       "<matplotlib.figure.Figure at 0x11b1d4048>"
      ]
     },
     "metadata": {},
     "output_type": "display_data"
    }
   ],
   "source": [
    "net.plot_layer_weights('hidden1', units=[0,1,2], vshape=(28,28), wrange=(-1.5, 1.5))"
   ]
  },
  {
   "cell_type": "markdown",
   "metadata": {},
   "source": [
    "## A Convolutional Network for MNIST Classification\n",
    "\n",
    "Convolutional neural networks (CNNs) are loosely inspired by the neurobiology of the visual system. The key idea is that each unit in a convolutional layer receives connections from a limited number of units in the previous layer (which can be thought of as the unit's \"visual field\"), and these connections are arranged in a two-dimensional topology to take advantage of spatial information. Each convolutional layer specifies a number of independent *features* to be learned, along with the *N*&nbsp;&times;&nbsp;*N* size of the visual field (also called the *kernel size*). The units responsible for learning a feature share connections across the entire convolutional layer, which often leads to far fewer network parameters compared to a network with fully-connected layers.\n",
    "\n",
    "Another type of layer common to CNNs is the *pooling* layer, which reduces the amount of information flowing through the network by the process of subsampling. Each pooling unit receives input from a limited number of units in the previous layer, and then applies some function (like *maximum* or *average*) to these inputs. The overall effect is to produce a coarser-grained version of the information from the previous layer, which makes the network less sensitive to small variations in position.\n",
    "\n",
    "We will define a CNN for MNIST classification using two convolutional layers with 5 &times; 5 kernels, each followed by a pooling layer with 2 &times; 2 kernels that compute the maximum of their inputs. The first convolutional layer will learn 16 relatively low-level features, whereas the second will learn 32 higher-level features. These features will then feed into a hidden layer (after being flattened), followed by an output classification layer using *softmax*."
   ]
  },
  {
   "cell_type": "code",
   "execution_count": 37,
   "metadata": {},
   "outputs": [],
   "source": [
    "cnn = cx.Network(\"MNIST_CNN\")\n",
    "\n",
    "cnn.add(cx.Layer(\"input\", (28,28,1), colormap=\"gray\"),\n",
    "        cx.Conv2DLayer(\"conv2D_1\", 16, (5,5), activation=\"relu\", dropout=0.20),\n",
    "        cx.MaxPool2DLayer(\"maxpool1\", (2,2)),\n",
    "        cx.Conv2DLayer(\"conv2D_2\", 32, (5,5), activation=\"relu\", dropout=0.20),\n",
    "        cx.MaxPool2DLayer(\"maxpool2\", (2,2)),\n",
    "        cx.FlattenLayer(\"flat\"),\n",
    "        cx.Layer(\"hidden\", 30, activation='relu'),\n",
    "        cx.Layer(\"output\", 10, activation='softmax'))\n",
    "\n",
    "cnn.connect()"
   ]
  },
  {
   "cell_type": "markdown",
   "metadata": {},
   "source": [
    "Notice that each convolution layer in the network includes a `dropout` setting of 20%. Dropout is a technique that helps to improve a network's ability to generalize what it has learned, by making it less sensitive to noise and to irrelevant correlations that may exist in the training data.  During training, a randomly chosen subset of units in a dropout layer (here, 20% of the units) will be turned off (set to zero activation) on each training cycle, with different random subsets being chosen on each cycle. Dropout only occurs during training; after the network has learned, all units participate in the classification of input data. \n",
    "\n",
    "Next, we need to initialize our dataset and then compile the network."
   ]
  },
  {
   "cell_type": "code",
   "execution_count": 38,
   "metadata": {},
   "outputs": [
    {
     "name": "stdout",
     "output_type": "stream",
     "text": [
      "_________________________________________________________________\n",
      "MNIST:\n",
      "Patterns    Shape                 Range                         \n",
      "=================================================================\n",
      "inputs      (28, 28, 1)           (0.0, 1.0)                    \n",
      "targets     (10,)                 (0.0, 1.0)                    \n",
      "=================================================================\n",
      "Total patterns: 70000\n",
      "   Training patterns: 60000\n",
      "   Testing patterns: 10000\n",
      "_________________________________________________________________\n"
     ]
    }
   ],
   "source": [
    "cnn.dataset.get(\"MNIST\")\n",
    "cnn.dataset.split(10000)\n",
    "cnn.dataset.summary()"
   ]
  },
  {
   "cell_type": "markdown",
   "metadata": {},
   "source": [
    "This time we will try the RMSprop algorithm, which automatically adjusts the learning rate and momentum as training proceeds."
   ]
  },
  {
   "cell_type": "code",
   "execution_count": 39,
   "metadata": {},
   "outputs": [],
   "source": [
    "cnn.compile(error='categorical_crossentropy', optimizer='RMSprop')"
   ]
  },
  {
   "cell_type": "code",
   "execution_count": 40,
   "metadata": {},
   "outputs": [
    {
     "name": "stdout",
     "output_type": "stream",
     "text": [
      "_________________________________________________________________\n",
      "Layer (type)                 Output Shape              Param #   \n",
      "=================================================================\n",
      "input (InputLayer)           (None, 28, 28, 1)         0         \n",
      "_________________________________________________________________\n",
      "conv2D_1 (Conv2D)            (None, 24, 24, 16)        416       \n",
      "_________________________________________________________________\n",
      "dropout_1 (Dropout)          (None, 24, 24, 16)        0         \n",
      "_________________________________________________________________\n",
      "maxpool1 (MaxPooling2D)      (None, 12, 12, 16)        0         \n",
      "_________________________________________________________________\n",
      "conv2D_2 (Conv2D)            (None, 8, 8, 32)          12832     \n",
      "_________________________________________________________________\n",
      "dropout_2 (Dropout)          (None, 8, 8, 32)          0         \n",
      "_________________________________________________________________\n",
      "maxpool2 (MaxPooling2D)      (None, 4, 4, 32)          0         \n",
      "_________________________________________________________________\n",
      "flat (Flatten)               (None, 512)               0         \n",
      "_________________________________________________________________\n",
      "hidden (Dense)               (None, 30)                15390     \n",
      "_________________________________________________________________\n",
      "output (Dense)               (None, 10)                310       \n",
      "=================================================================\n",
      "Total params: 28,948\n",
      "Trainable params: 28,948\n",
      "Non-trainable params: 0\n",
      "_________________________________________________________________\n"
     ]
    }
   ],
   "source": [
    "cnn.summary()"
   ]
  },
  {
   "cell_type": "markdown",
   "metadata": {},
   "source": [
    "<img src=\"mnist-cnn.png\" width=\"80%\">"
   ]
  },
  {
   "cell_type": "code",
   "execution_count": 41,
   "metadata": {},
   "outputs": [
    {
     "data": {
      "application/vnd.jupyter.widget-view+json": {
       "model_id": "0ccf9471f92f435bae277f55abffbec4",
       "version_major": 2,
       "version_minor": 0
      },
      "text/html": [
       "<p>Failed to display Jupyter Widget of type <code>Dashboard</code>.</p>\n",
       "<p>\n",
       "  If you're reading this message in the Jupyter Notebook or JupyterLab Notebook, it may mean\n",
       "  that the widgets JavaScript is still loading. If this message persists, it\n",
       "  likely means that the widgets JavaScript library is either not installed or\n",
       "  not enabled. See the <a href=\"https://ipywidgets.readthedocs.io/en/stable/user_install.html\">Jupyter\n",
       "  Widgets Documentation</a> for setup instructions.\n",
       "</p>\n",
       "<p>\n",
       "  If you're reading this message in another frontend (for example, a static\n",
       "  rendering on GitHub or <a href=\"https://nbviewer.jupyter.org/\">NBViewer</a>),\n",
       "  it may mean that your frontend doesn't currently support widgets.\n",
       "</p>\n"
      ],
      "text/plain": [
       "Dashboard(children=(Accordion(children=(HBox(children=(VBox(children=(Select(description='Dataset:', index=1, options=('Test', 'Train'), rows=1, value='Train'), FloatSlider(value=0.5, continuous_update=False, description='Zoom', layout=Layout(width='65%'), max=1.0, style=SliderStyle(description_width='initial')), IntText(value=150, description='Horizontal space between banks:', style=DescriptionStyle(description_width='initial')), IntText(value=30, description='Vertical space between layers:', style=DescriptionStyle(description_width='initial')), HBox(children=(Checkbox(value=False, description='Show Targets', style=DescriptionStyle(description_width='initial')), Checkbox(value=False, description='Errors', style=DescriptionStyle(description_width='initial')))), Select(description='Features:', options=('', 'input', 'conv2D_1', 'maxpool1', 'conv2D_2', 'maxpool2'), rows=1, value=''), IntText(value=3, description='Feature columns:', style=DescriptionStyle(description_width='initial')), FloatText(value=1.0, description='Feature scale:', style=DescriptionStyle(description_width='initial'))), layout=Layout(width='100%')), VBox(children=(Select(description='Layer:', index=7, options=('input', 'conv2D_1', 'maxpool1', 'conv2D_2', 'maxpool2', 'flat', 'hidden', 'output'), rows=1, value='output'), Checkbox(value=True, description='Visible'), Select(description='Colormap:', options=('', 'Accent', 'Accent_r', 'Blues', 'Blues_r', 'BrBG', 'BrBG_r', 'BuGn', 'BuGn_r', 'BuPu', 'BuPu_r', 'CMRmap', 'CMRmap_r', 'Dark2', 'Dark2_r', 'GnBu', 'GnBu_r', 'Greens', 'Greens_r', 'Greys', 'Greys_r', 'OrRd', 'OrRd_r', 'Oranges', 'Oranges_r', 'PRGn', 'PRGn_r', 'Paired', 'Paired_r', 'Pastel1', 'Pastel1_r', 'Pastel2', 'Pastel2_r', 'PiYG', 'PiYG_r', 'PuBu', 'PuBuGn', 'PuBuGn_r', 'PuBu_r', 'PuOr', 'PuOr_r', 'PuRd', 'PuRd_r', 'Purples', 'Purples_r', 'RdBu', 'RdBu_r', 'RdGy', 'RdGy_r', 'RdPu', 'RdPu_r', 'RdYlBu', 'RdYlBu_r', 'RdYlGn', 'RdYlGn_r', 'Reds', 'Reds_r', 'Set1', 'Set1_r', 'Set2', 'Set2_r', 'Set3', 'Set3_r', 'Spectral', 'Spectral_r', 'Vega10', 'Vega10_r', 'Vega20', 'Vega20_r', 'Vega20b', 'Vega20b_r', 'Vega20c', 'Vega20c_r', 'Wistia', 'Wistia_r', 'YlGn', 'YlGnBu', 'YlGnBu_r', 'YlGn_r', 'YlOrBr', 'YlOrBr_r', 'YlOrRd', 'YlOrRd_r', 'afmhot', 'afmhot_r', 'autumn', 'autumn_r', 'binary', 'binary_r', 'bone', 'bone_r', 'brg', 'brg_r', 'bwr', 'bwr_r', 'cool', 'cool_r', 'coolwarm', 'coolwarm_r', 'copper', 'copper_r', 'cubehelix', 'cubehelix_r', 'flag', 'flag_r', 'gist_earth', 'gist_earth_r', 'gist_gray', 'gist_gray_r', 'gist_heat', 'gist_heat_r', 'gist_ncar', 'gist_ncar_r', 'gist_rainbow', 'gist_rainbow_r', 'gist_stern', 'gist_stern_r', 'gist_yarg', 'gist_yarg_r', 'gnuplot', 'gnuplot2', 'gnuplot2_r', 'gnuplot_r', 'gray', 'gray_r', 'hot', 'hot_r', 'hsv', 'hsv_r', 'inferno', 'inferno_r', 'jet', 'jet_r', 'magma', 'magma_r', 'nipy_spectral', 'nipy_spectral_r', 'ocean', 'ocean_r', 'pink', 'pink_r', 'plasma', 'plasma_r', 'prism', 'prism_r', 'rainbow', 'rainbow_r', 'seismic', 'seismic_r', 'spectral', 'spectral_r', 'spring', 'spring_r', 'summer', 'summer_r', 'tab10', 'tab10_r', 'tab20', 'tab20_r', 'tab20b', 'tab20b_r', 'tab20c', 'tab20c_r', 'terrain', 'terrain_r', 'viridis', 'viridis_r', 'winter', 'winter_r'), rows=1, value=''), HTML(value='<img src=\"data:image/gif;base64,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\"/>'), FloatText(value=0.0, description='Leftmost color maps to:', style=DescriptionStyle(description_width='initial')), FloatText(value=1.0, description='Rightmost color maps to:', style=DescriptionStyle(description_width='initial')), IntText(value=0, description='Feature to show:', style=DescriptionStyle(description_width='initial')), HBox(children=(Checkbox(value=False, description='Rotate network', layout=Layout(width='52%'), style=DescriptionStyle(description_width='initial')), Button(icon='save', layout=Layout(width='10%'), style=ButtonStyle())))), layout=Layout(width='100%')))),), selected_index=None, _titles={'0': 'MNIST_CNN'}), VBox(children=(HBox(children=(IntSlider(value=0, continuous_update=False, description='Dataset index', layout=Layout(width='100%'), max=59999), Label(value='of 60000', layout=Layout(width='100px'))), layout=Layout(height='40px')), HBox(children=(Button(icon='fast-backward', layout=Layout(width='100%'), style=ButtonStyle()), Button(icon='backward', layout=Layout(width='100%'), style=ButtonStyle()), IntText(value=0, layout=Layout(width='100%')), Button(icon='forward', layout=Layout(width='100%'), style=ButtonStyle()), Button(icon='fast-forward', layout=Layout(width='100%'), style=ButtonStyle()), Button(description='Play', icon='play', layout=Layout(width='100%'), style=ButtonStyle()), Button(icon='refresh', layout=Layout(width='25%'), style=ButtonStyle())), layout=Layout(height='50px', width='100%'))), layout=Layout(width='100%')), HTML(value='<p style=\"text-align:center\"></p>', layout=Layout(justify_content='center', overflow_x='auto', overflow_y='auto', width='95%')), Output()))"
      ]
     },
     "metadata": {},
     "output_type": "display_data"
    },
    {
     "data": {
      "application/javascript": [
       "\n",
       "require(['base/js/namespace'], function(Jupyter) {\n",
       "    Jupyter.notebook.kernel.comm_manager.register_target('conx_svg_control', function(comm, msg) {\n",
       "        comm.on_msg(function(msg) {\n",
       "            var data = msg[\"content\"][\"data\"];\n",
       "            var images = document.getElementsByClassName(data[\"class\"]);\n",
       "            for (var i = 0; i < images.length; i++) {\n",
       "                if (data[\"href\"]) {\n",
       "                    images[i].setAttributeNS(null, \"href\", data[\"href\"]);\n",
       "                }\n",
       "                if (data[\"src\"]) {\n",
       "                    images[i].setAttributeNS(null, \"src\", data[\"src\"]);\n",
       "                }\n",
       "            }\n",
       "        });\n",
       "    });\n",
       "});\n"
      ],
      "text/plain": [
       "<IPython.core.display.Javascript object>"
      ]
     },
     "metadata": {},
     "output_type": "display_data"
    }
   ],
   "source": [
    "cnn.dashboard()"
   ]
  },
  {
   "cell_type": "markdown",
   "metadata": {},
   "source": [
    "Training our CNN on the full dataset will take a long time, so in the interest of brevity, let's reduce the size of our dataset by 80% using the ``chop`` method, which deletes the specified fraction of data from the dataset."
   ]
  },
  {
   "cell_type": "code",
   "execution_count": 42,
   "metadata": {},
   "outputs": [
    {
     "name": "stdout",
     "output_type": "stream",
     "text": [
      "Starting with 70000 patterns\n",
      "14000 patterns left after chop\n"
     ]
    },
    {
     "name": "stderr",
     "output_type": "stream",
     "text": [
      "WARNING: dataset split reset to 0\n"
     ]
    }
   ],
   "source": [
    "print('Starting with', len(cnn.dataset), 'patterns')\n",
    "cnn.dataset.chop(0.80)\n",
    "print(len(cnn.dataset), 'patterns left after chop')"
   ]
  },
  {
   "cell_type": "markdown",
   "metadata": {},
   "source": [
    "We then reserve 25% of the remaining data for testing."
   ]
  },
  {
   "cell_type": "code",
   "execution_count": 43,
   "metadata": {},
   "outputs": [
    {
     "data": {
      "text/plain": [
       "(10500, 3500)"
      ]
     },
     "execution_count": 43,
     "metadata": {},
     "output_type": "execute_result"
    }
   ],
   "source": [
    "cnn.dataset.split(0.25)\n",
    "cnn.dataset.split()"
   ]
  },
  {
   "cell_type": "code",
   "execution_count": 44,
   "metadata": {},
   "outputs": [
    {
     "data": {
      "image/svg+xml": [
       "<svg height=\"288pt\" version=\"1.1\" viewBox=\"0 0 720 288\" width=\"720pt\" xmlns=\"http://www.w3.org/2000/svg\" xmlns:xlink=\"http://www.w3.org/1999/xlink\">\n",
       " <defs>\n",
       "  <style type=\"text/css\">\n",
       "*{stroke-linecap:butt;stroke-linejoin:round;}\n",
       "  </style>\n",
       " </defs>\n",
       " <g id=\"figure_1\">\n",
       "  <g id=\"patch_1\">\n",
       "   <path d=\"M 0 288  L 720 288  L 720 0  L 0 0  z \" style=\"fill:#ffffff;\"/>\n",
       "  </g>\n",
       "  <g id=\"axes_1\">\n",
       "   <g id=\"patch_2\">\n",
       "    <path d=\"M 90 252  L 343.636364 252  L 343.636364 34.56  L 90 34.56  z \" style=\"fill:#ffffff;\"/>\n",
       "   </g>\n",
       "   <g id=\"matplotlib.axis_1\">\n",
       "    <g id=\"xtick_1\">\n",
       "     <g id=\"line2d_1\">\n",
       "      <defs>\n",
       "       <path d=\"M 0 0  L 0 3.5  \" id=\"m16bae8a14f\" style=\"stroke:#000000;stroke-width:0.8;\"/>\n",
       "      </defs>\n",
       "      <g>\n",
       "       <use style=\"stroke:#000000;stroke-width:0.8;\" x=\"101.528926\" xlink:href=\"#m16bae8a14f\" y=\"252\"/>\n",
       "      </g>\n",
       "     </g>\n",
       "     <g id=\"text_1\">\n",
       "      <!-- 0 -->\n",
       "      <defs>\n",
       "       <path d=\"M 31.78125 66.40625  Q 24.171875 66.40625 20.328125 58.90625  Q 16.5 51.421875 16.5 36.375  Q 16.5 21.390625 20.328125 13.890625  Q 24.171875 6.390625 31.78125 6.390625  Q 39.453125 6.390625 43.28125 13.890625  Q 47.125 21.390625 47.125 36.375  Q 47.125 51.421875 43.28125 58.90625  Q 39.453125 66.40625 31.78125 66.40625  z M 31.78125 74.21875  Q 44.046875 74.21875 50.515625 64.515625  Q 56.984375 54.828125 56.984375 36.375  Q 56.984375 17.96875 50.515625 8.265625  Q 44.046875 -1.421875 31.78125 -1.421875  Q 19.53125 -1.421875 13.0625 8.265625  Q 6.59375 17.96875 6.59375 36.375  Q 6.59375 54.828125 13.0625 64.515625  Q 19.53125 74.21875 31.78125 74.21875  z \" id=\"DejaVuSans-30\"/>\n",
       "      </defs>\n",
       "      <g transform=\"translate(98.347676 266.598437)scale(0.1 -0.1)\">\n",
       "       <use xlink:href=\"#DejaVuSans-30\"/>\n",
       "      </g>\n",
       "     </g>\n",
       "    </g>\n",
       "    <g id=\"xtick_2\">\n",
       "     <g id=\"line2d_2\">\n",
       "      <g>\n",
       "       <use style=\"stroke:#000000;stroke-width:0.8;\" x=\"147.644628\" xlink:href=\"#m16bae8a14f\" y=\"252\"/>\n",
       "      </g>\n",
       "     </g>\n",
       "     <g id=\"text_2\">\n",
       "      <!-- 2 -->\n",
       "      <defs>\n",
       "       <path d=\"M 19.1875 8.296875  L 53.609375 8.296875  L 53.609375 0  L 7.328125 0  L 7.328125 8.296875  Q 12.9375 14.109375 22.625 23.890625  Q 32.328125 33.6875 34.8125 36.53125  Q 39.546875 41.84375 41.421875 45.53125  Q 43.3125 49.21875 43.3125 52.78125  Q 43.3125 58.59375 39.234375 62.25  Q 35.15625 65.921875 28.609375 65.921875  Q 23.96875 65.921875 18.8125 64.3125  Q 13.671875 62.703125 7.8125 59.421875  L 7.8125 69.390625  Q 13.765625 71.78125 18.9375 73  Q 24.125 74.21875 28.421875 74.21875  Q 39.75 74.21875 46.484375 68.546875  Q 53.21875 62.890625 53.21875 53.421875  Q 53.21875 48.921875 51.53125 44.890625  Q 49.859375 40.875 45.40625 35.40625  Q 44.1875 33.984375 37.640625 27.21875  Q 31.109375 20.453125 19.1875 8.296875  z \" id=\"DejaVuSans-32\"/>\n",
       "      </defs>\n",
       "      <g transform=\"translate(144.463378 266.598437)scale(0.1 -0.1)\">\n",
       "       <use xlink:href=\"#DejaVuSans-32\"/>\n",
       "      </g>\n",
       "     </g>\n",
       "    </g>\n",
       "    <g id=\"xtick_3\">\n",
       "     <g id=\"line2d_3\">\n",
       "      <g>\n",
       "       <use style=\"stroke:#000000;stroke-width:0.8;\" x=\"193.760331\" xlink:href=\"#m16bae8a14f\" y=\"252\"/>\n",
       "      </g>\n",
       "     </g>\n",
       "     <g id=\"text_3\">\n",
       "      <!-- 4 -->\n",
       "      <defs>\n",
       "       <path d=\"M 37.796875 64.3125  L 12.890625 25.390625  L 37.796875 25.390625  z M 35.203125 72.90625  L 47.609375 72.90625  L 47.609375 25.390625  L 58.015625 25.390625  L 58.015625 17.1875  L 47.609375 17.1875  L 47.609375 0  L 37.796875 0  L 37.796875 17.1875  L 4.890625 17.1875  L 4.890625 26.703125  z \" id=\"DejaVuSans-34\"/>\n",
       "      </defs>\n",
       "      <g transform=\"translate(190.579081 266.598437)scale(0.1 -0.1)\">\n",
       "       <use xlink:href=\"#DejaVuSans-34\"/>\n",
       "      </g>\n",
       "     </g>\n",
       "    </g>\n",
       "    <g id=\"xtick_4\">\n",
       "     <g id=\"line2d_4\">\n",
       "      <g>\n",
       "       <use style=\"stroke:#000000;stroke-width:0.8;\" x=\"239.876033\" xlink:href=\"#m16bae8a14f\" y=\"252\"/>\n",
       "      </g>\n",
       "     </g>\n",
       "     <g id=\"text_4\">\n",
       "      <!-- 6 -->\n",
       "      <defs>\n",
       "       <path d=\"M 33.015625 40.375  Q 26.375 40.375 22.484375 35.828125  Q 18.609375 31.296875 18.609375 23.390625  Q 18.609375 15.53125 22.484375 10.953125  Q 26.375 6.390625 33.015625 6.390625  Q 39.65625 6.390625 43.53125 10.953125  Q 47.40625 15.53125 47.40625 23.390625  Q 47.40625 31.296875 43.53125 35.828125  Q 39.65625 40.375 33.015625 40.375  z M 52.59375 71.296875  L 52.59375 62.3125  Q 48.875 64.0625 45.09375 64.984375  Q 41.3125 65.921875 37.59375 65.921875  Q 27.828125 65.921875 22.671875 59.328125  Q 17.53125 52.734375 16.796875 39.40625  Q 19.671875 43.65625 24.015625 45.921875  Q 28.375 48.1875 33.59375 48.1875  Q 44.578125 48.1875 50.953125 41.515625  Q 57.328125 34.859375 57.328125 23.390625  Q 57.328125 12.15625 50.6875 5.359375  Q 44.046875 -1.421875 33.015625 -1.421875  Q 20.359375 -1.421875 13.671875 8.265625  Q 6.984375 17.96875 6.984375 36.375  Q 6.984375 53.65625 15.1875 63.9375  Q 23.390625 74.21875 37.203125 74.21875  Q 40.921875 74.21875 44.703125 73.484375  Q 48.484375 72.75 52.59375 71.296875  z \" id=\"DejaVuSans-36\"/>\n",
       "      </defs>\n",
       "      <g transform=\"translate(236.694783 266.598437)scale(0.1 -0.1)\">\n",
       "       <use xlink:href=\"#DejaVuSans-36\"/>\n",
       "      </g>\n",
       "     </g>\n",
       "    </g>\n",
       "    <g id=\"xtick_5\">\n",
       "     <g id=\"line2d_5\">\n",
       "      <g>\n",
       "       <use style=\"stroke:#000000;stroke-width:0.8;\" x=\"285.991736\" xlink:href=\"#m16bae8a14f\" y=\"252\"/>\n",
       "      </g>\n",
       "     </g>\n",
       "     <g id=\"text_5\">\n",
       "      <!-- 8 -->\n",
       "      <defs>\n",
       "       <path d=\"M 31.78125 34.625  Q 24.75 34.625 20.71875 30.859375  Q 16.703125 27.09375 16.703125 20.515625  Q 16.703125 13.921875 20.71875 10.15625  Q 24.75 6.390625 31.78125 6.390625  Q 38.8125 6.390625 42.859375 10.171875  Q 46.921875 13.96875 46.921875 20.515625  Q 46.921875 27.09375 42.890625 30.859375  Q 38.875 34.625 31.78125 34.625  z M 21.921875 38.8125  Q 15.578125 40.375 12.03125 44.71875  Q 8.5 49.078125 8.5 55.328125  Q 8.5 64.0625 14.71875 69.140625  Q 20.953125 74.21875 31.78125 74.21875  Q 42.671875 74.21875 48.875 69.140625  Q 55.078125 64.0625 55.078125 55.328125  Q 55.078125 49.078125 51.53125 44.71875  Q 48 40.375 41.703125 38.8125  Q 48.828125 37.15625 52.796875 32.3125  Q 56.78125 27.484375 56.78125 20.515625  Q 56.78125 9.90625 50.3125 4.234375  Q 43.84375 -1.421875 31.78125 -1.421875  Q 19.734375 -1.421875 13.25 4.234375  Q 6.78125 9.90625 6.78125 20.515625  Q 6.78125 27.484375 10.78125 32.3125  Q 14.796875 37.15625 21.921875 38.8125  z M 18.3125 54.390625  Q 18.3125 48.734375 21.84375 45.5625  Q 25.390625 42.390625 31.78125 42.390625  Q 38.140625 42.390625 41.71875 45.5625  Q 45.3125 48.734375 45.3125 54.390625  Q 45.3125 60.0625 41.71875 63.234375  Q 38.140625 66.40625 31.78125 66.40625  Q 25.390625 66.40625 21.84375 63.234375  Q 18.3125 60.0625 18.3125 54.390625  z \" id=\"DejaVuSans-38\"/>\n",
       "      </defs>\n",
       "      <g transform=\"translate(282.810486 266.598437)scale(0.1 -0.1)\">\n",
       "       <use xlink:href=\"#DejaVuSans-38\"/>\n",
       "      </g>\n",
       "     </g>\n",
       "    </g>\n",
       "    <g id=\"xtick_6\">\n",
       "     <g id=\"line2d_6\">\n",
       "      <g>\n",
       "       <use style=\"stroke:#000000;stroke-width:0.8;\" x=\"332.107438\" xlink:href=\"#m16bae8a14f\" y=\"252\"/>\n",
       "      </g>\n",
       "     </g>\n",
       "     <g id=\"text_6\">\n",
       "      <!-- 10 -->\n",
       "      <defs>\n",
       "       <path d=\"M 12.40625 8.296875  L 28.515625 8.296875  L 28.515625 63.921875  L 10.984375 60.40625  L 10.984375 69.390625  L 28.421875 72.90625  L 38.28125 72.90625  L 38.28125 8.296875  L 54.390625 8.296875  L 54.390625 0  L 12.40625 0  z \" id=\"DejaVuSans-31\"/>\n",
       "      </defs>\n",
       "      <g transform=\"translate(325.744938 266.598437)scale(0.1 -0.1)\">\n",
       "       <use xlink:href=\"#DejaVuSans-31\"/>\n",
       "       <use x=\"63.623047\" xlink:href=\"#DejaVuSans-30\"/>\n",
       "      </g>\n",
       "     </g>\n",
       "    </g>\n",
       "    <g id=\"text_7\">\n",
       "     <!-- Epoch -->\n",
       "     <defs>\n",
       "      <path d=\"M 9.8125 72.90625  L 55.90625 72.90625  L 55.90625 64.59375  L 19.671875 64.59375  L 19.671875 43.015625  L 54.390625 43.015625  L 54.390625 34.71875  L 19.671875 34.71875  L 19.671875 8.296875  L 56.78125 8.296875  L 56.78125 0  L 9.8125 0  z \" id=\"DejaVuSans-45\"/>\n",
       "      <path d=\"M 18.109375 8.203125  L 18.109375 -20.796875  L 9.078125 -20.796875  L 9.078125 54.6875  L 18.109375 54.6875  L 18.109375 46.390625  Q 20.953125 51.265625 25.265625 53.625  Q 29.59375 56 35.59375 56  Q 45.5625 56 51.78125 48.09375  Q 58.015625 40.1875 58.015625 27.296875  Q 58.015625 14.40625 51.78125 6.484375  Q 45.5625 -1.421875 35.59375 -1.421875  Q 29.59375 -1.421875 25.265625 0.953125  Q 20.953125 3.328125 18.109375 8.203125  z M 48.6875 27.296875  Q 48.6875 37.203125 44.609375 42.84375  Q 40.53125 48.484375 33.40625 48.484375  Q 26.265625 48.484375 22.1875 42.84375  Q 18.109375 37.203125 18.109375 27.296875  Q 18.109375 17.390625 22.1875 11.75  Q 26.265625 6.109375 33.40625 6.109375  Q 40.53125 6.109375 44.609375 11.75  Q 48.6875 17.390625 48.6875 27.296875  z \" id=\"DejaVuSans-70\"/>\n",
       "      <path d=\"M 30.609375 48.390625  Q 23.390625 48.390625 19.1875 42.75  Q 14.984375 37.109375 14.984375 27.296875  Q 14.984375 17.484375 19.15625 11.84375  Q 23.34375 6.203125 30.609375 6.203125  Q 37.796875 6.203125 41.984375 11.859375  Q 46.1875 17.53125 46.1875 27.296875  Q 46.1875 37.015625 41.984375 42.703125  Q 37.796875 48.390625 30.609375 48.390625  z M 30.609375 56  Q 42.328125 56 49.015625 48.375  Q 55.71875 40.765625 55.71875 27.296875  Q 55.71875 13.875 49.015625 6.21875  Q 42.328125 -1.421875 30.609375 -1.421875  Q 18.84375 -1.421875 12.171875 6.21875  Q 5.515625 13.875 5.515625 27.296875  Q 5.515625 40.765625 12.171875 48.375  Q 18.84375 56 30.609375 56  z \" id=\"DejaVuSans-6f\"/>\n",
       "      <path d=\"M 48.78125 52.59375  L 48.78125 44.1875  Q 44.96875 46.296875 41.140625 47.34375  Q 37.3125 48.390625 33.40625 48.390625  Q 24.65625 48.390625 19.8125 42.84375  Q 14.984375 37.3125 14.984375 27.296875  Q 14.984375 17.28125 19.8125 11.734375  Q 24.65625 6.203125 33.40625 6.203125  Q 37.3125 6.203125 41.140625 7.25  Q 44.96875 8.296875 48.78125 10.40625  L 48.78125 2.09375  Q 45.015625 0.34375 40.984375 -0.53125  Q 36.96875 -1.421875 32.421875 -1.421875  Q 20.0625 -1.421875 12.78125 6.34375  Q 5.515625 14.109375 5.515625 27.296875  Q 5.515625 40.671875 12.859375 48.328125  Q 20.21875 56 33.015625 56  Q 37.15625 56 41.109375 55.140625  Q 45.0625 54.296875 48.78125 52.59375  z \" id=\"DejaVuSans-63\"/>\n",
       "      <path d=\"M 54.890625 33.015625  L 54.890625 0  L 45.90625 0  L 45.90625 32.71875  Q 45.90625 40.484375 42.875 44.328125  Q 39.84375 48.1875 33.796875 48.1875  Q 26.515625 48.1875 22.3125 43.546875  Q 18.109375 38.921875 18.109375 30.90625  L 18.109375 0  L 9.078125 0  L 9.078125 75.984375  L 18.109375 75.984375  L 18.109375 46.1875  Q 21.34375 51.125 25.703125 53.5625  Q 30.078125 56 35.796875 56  Q 45.21875 56 50.046875 50.171875  Q 54.890625 44.34375 54.890625 33.015625  z \" id=\"DejaVuSans-68\"/>\n",
       "     </defs>\n",
       "     <g transform=\"translate(201.507244 280.276563)scale(0.1 -0.1)\">\n",
       "      <use xlink:href=\"#DejaVuSans-45\"/>\n",
       "      <use x=\"63.183594\" xlink:href=\"#DejaVuSans-70\"/>\n",
       "      <use x=\"126.660156\" xlink:href=\"#DejaVuSans-6f\"/>\n",
       "      <use x=\"187.841797\" xlink:href=\"#DejaVuSans-63\"/>\n",
       "      <use x=\"242.822266\" xlink:href=\"#DejaVuSans-68\"/>\n",
       "     </g>\n",
       "    </g>\n",
       "   </g>\n",
       "   <g id=\"matplotlib.axis_2\">\n",
       "    <g id=\"ytick_1\">\n",
       "     <g id=\"line2d_7\">\n",
       "      <defs>\n",
       "       <path d=\"M 0 0  L -3.5 0  \" id=\"m3fb5d5e02b\" style=\"stroke:#000000;stroke-width:0.8;\"/>\n",
       "      </defs>\n",
       "      <g>\n",
       "       <use style=\"stroke:#000000;stroke-width:0.8;\" x=\"90\" xlink:href=\"#m3fb5d5e02b\" y=\"252\"/>\n",
       "      </g>\n",
       "     </g>\n",
       "     <g id=\"text_8\">\n",
       "      <!-- 0.0 -->\n",
       "      <defs>\n",
       "       <path d=\"M 10.6875 12.40625  L 21 12.40625  L 21 0  L 10.6875 0  z \" id=\"DejaVuSans-2e\"/>\n",
       "      </defs>\n",
       "      <g transform=\"translate(67.096875 255.799219)scale(0.1 -0.1)\">\n",
       "       <use xlink:href=\"#DejaVuSans-30\"/>\n",
       "       <use x=\"63.623047\" xlink:href=\"#DejaVuSans-2e\"/>\n",
       "       <use x=\"95.410156\" xlink:href=\"#DejaVuSans-30\"/>\n",
       "      </g>\n",
       "     </g>\n",
       "    </g>\n",
       "    <g id=\"ytick_2\">\n",
       "     <g id=\"line2d_8\">\n",
       "      <g>\n",
       "       <use style=\"stroke:#000000;stroke-width:0.8;\" x=\"90\" xlink:href=\"#m3fb5d5e02b\" y=\"207.639194\"/>\n",
       "      </g>\n",
       "     </g>\n",
       "     <g id=\"text_9\">\n",
       "      <!-- 0.5 -->\n",
       "      <defs>\n",
       "       <path d=\"M 10.796875 72.90625  L 49.515625 72.90625  L 49.515625 64.59375  L 19.828125 64.59375  L 19.828125 46.734375  Q 21.96875 47.46875 24.109375 47.828125  Q 26.265625 48.1875 28.421875 48.1875  Q 40.625 48.1875 47.75 41.5  Q 54.890625 34.8125 54.890625 23.390625  Q 54.890625 11.625 47.5625 5.09375  Q 40.234375 -1.421875 26.90625 -1.421875  Q 22.3125 -1.421875 17.546875 -0.640625  Q 12.796875 0.140625 7.71875 1.703125  L 7.71875 11.625  Q 12.109375 9.234375 16.796875 8.0625  Q 21.484375 6.890625 26.703125 6.890625  Q 35.15625 6.890625 40.078125 11.328125  Q 45.015625 15.765625 45.015625 23.390625  Q 45.015625 31 40.078125 35.4375  Q 35.15625 39.890625 26.703125 39.890625  Q 22.75 39.890625 18.8125 39.015625  Q 14.890625 38.140625 10.796875 36.28125  z \" id=\"DejaVuSans-35\"/>\n",
       "      </defs>\n",
       "      <g transform=\"translate(67.096875 211.438413)scale(0.1 -0.1)\">\n",
       "       <use xlink:href=\"#DejaVuSans-30\"/>\n",
       "       <use x=\"63.623047\" xlink:href=\"#DejaVuSans-2e\"/>\n",
       "       <use x=\"95.410156\" xlink:href=\"#DejaVuSans-35\"/>\n",
       "      </g>\n",
       "     </g>\n",
       "    </g>\n",
       "    <g id=\"ytick_3\">\n",
       "     <g id=\"line2d_9\">\n",
       "      <g>\n",
       "       <use style=\"stroke:#000000;stroke-width:0.8;\" x=\"90\" xlink:href=\"#m3fb5d5e02b\" y=\"163.278388\"/>\n",
       "      </g>\n",
       "     </g>\n",
       "     <g id=\"text_10\">\n",
       "      <!-- 1.0 -->\n",
       "      <g transform=\"translate(67.096875 167.077607)scale(0.1 -0.1)\">\n",
       "       <use xlink:href=\"#DejaVuSans-31\"/>\n",
       "       <use x=\"63.623047\" xlink:href=\"#DejaVuSans-2e\"/>\n",
       "       <use x=\"95.410156\" xlink:href=\"#DejaVuSans-30\"/>\n",
       "      </g>\n",
       "     </g>\n",
       "    </g>\n",
       "    <g id=\"ytick_4\">\n",
       "     <g id=\"line2d_10\">\n",
       "      <g>\n",
       "       <use style=\"stroke:#000000;stroke-width:0.8;\" x=\"90\" xlink:href=\"#m3fb5d5e02b\" y=\"118.917583\"/>\n",
       "      </g>\n",
       "     </g>\n",
       "     <g id=\"text_11\">\n",
       "      <!-- 1.5 -->\n",
       "      <g transform=\"translate(67.096875 122.716801)scale(0.1 -0.1)\">\n",
       "       <use xlink:href=\"#DejaVuSans-31\"/>\n",
       "       <use x=\"63.623047\" xlink:href=\"#DejaVuSans-2e\"/>\n",
       "       <use x=\"95.410156\" xlink:href=\"#DejaVuSans-35\"/>\n",
       "      </g>\n",
       "     </g>\n",
       "    </g>\n",
       "    <g id=\"ytick_5\">\n",
       "     <g id=\"line2d_11\">\n",
       "      <g>\n",
       "       <use style=\"stroke:#000000;stroke-width:0.8;\" x=\"90\" xlink:href=\"#m3fb5d5e02b\" y=\"74.556777\"/>\n",
       "      </g>\n",
       "     </g>\n",
       "     <g id=\"text_12\">\n",
       "      <!-- 2.0 -->\n",
       "      <g transform=\"translate(67.096875 78.355995)scale(0.1 -0.1)\">\n",
       "       <use xlink:href=\"#DejaVuSans-32\"/>\n",
       "       <use x=\"63.623047\" xlink:href=\"#DejaVuSans-2e\"/>\n",
       "       <use x=\"95.410156\" xlink:href=\"#DejaVuSans-30\"/>\n",
       "      </g>\n",
       "     </g>\n",
       "    </g>\n",
       "   </g>\n",
       "   <g id=\"line2d_12\">\n",
       "    <path clip-path=\"url(#pfb94589951)\" d=\"M 101.528926 44.799963  L 124.586777 201.335572  L 147.644628 236.334147  L 170.702479 241.093004  L 193.760331 243.786737  L 216.818182 245.232479  L 239.876033 246.465714  L 262.933884 247.475771  L 285.991736 248.078737  L 309.049587 248.555535  L 332.107438 249.246338  \" style=\"fill:none;stroke:#1f77b4;stroke-linecap:square;stroke-width:1.5;\"/>\n",
       "   </g>\n",
       "   <g id=\"line2d_13\">\n",
       "    <path clip-path=\"url(#pfb94589951)\" d=\"M 101.528926 44.783159  L 124.586777 225.074151  L 147.644628 237.059665  L 170.702479 237.853028  L 193.760331 242.764161  L 216.818182 243.362031  L 239.876033 244.212324  L 262.933884 245.441891  L 285.991736 246.020219  L 309.049587 244.980913  L 332.107438 246.097153  \" style=\"fill:none;stroke:#ff7f0e;stroke-linecap:square;stroke-width:1.5;\"/>\n",
       "   </g>\n",
       "   <g id=\"patch_3\">\n",
       "    <path d=\"M 90 252  L 90 34.56  \" style=\"fill:none;stroke:#000000;stroke-linecap:square;stroke-linejoin:miter;stroke-width:0.8;\"/>\n",
       "   </g>\n",
       "   <g id=\"patch_4\">\n",
       "    <path d=\"M 343.636364 252  L 343.636364 34.56  \" style=\"fill:none;stroke:#000000;stroke-linecap:square;stroke-linejoin:miter;stroke-width:0.8;\"/>\n",
       "   </g>\n",
       "   <g id=\"patch_5\">\n",
       "    <path d=\"M 90 252  L 343.636364 252  \" style=\"fill:none;stroke:#000000;stroke-linecap:square;stroke-linejoin:miter;stroke-width:0.8;\"/>\n",
       "   </g>\n",
       "   <g id=\"patch_6\">\n",
       "    <path d=\"M 90 34.56  L 343.636364 34.56  \" style=\"fill:none;stroke:#000000;stroke-linecap:square;stroke-linejoin:miter;stroke-width:0.8;\"/>\n",
       "   </g>\n",
       "   <g id=\"text_13\">\n",
       "    <!-- MNIST_CNN: Error -->\n",
       "    <defs>\n",
       "     <path d=\"M 9.8125 72.90625  L 24.515625 72.90625  L 43.109375 23.296875  L 61.8125 72.90625  L 76.515625 72.90625  L 76.515625 0  L 66.890625 0  L 66.890625 64.015625  L 48.09375 14.015625  L 38.1875 14.015625  L 19.390625 64.015625  L 19.390625 0  L 9.8125 0  z \" id=\"DejaVuSans-4d\"/>\n",
       "     <path d=\"M 9.8125 72.90625  L 23.09375 72.90625  L 55.421875 11.921875  L 55.421875 72.90625  L 64.984375 72.90625  L 64.984375 0  L 51.703125 0  L 19.390625 60.984375  L 19.390625 0  L 9.8125 0  z \" id=\"DejaVuSans-4e\"/>\n",
       "     <path d=\"M 9.8125 72.90625  L 19.671875 72.90625  L 19.671875 0  L 9.8125 0  z \" id=\"DejaVuSans-49\"/>\n",
       "     <path d=\"M 53.515625 70.515625  L 53.515625 60.890625  Q 47.90625 63.578125 42.921875 64.890625  Q 37.9375 66.21875 33.296875 66.21875  Q 25.25 66.21875 20.875 63.09375  Q 16.5 59.96875 16.5 54.203125  Q 16.5 49.359375 19.40625 46.890625  Q 22.3125 44.4375 30.421875 42.921875  L 36.375 41.703125  Q 47.40625 39.59375 52.65625 34.296875  Q 57.90625 29 57.90625 20.125  Q 57.90625 9.515625 50.796875 4.046875  Q 43.703125 -1.421875 29.984375 -1.421875  Q 24.8125 -1.421875 18.96875 -0.25  Q 13.140625 0.921875 6.890625 3.21875  L 6.890625 13.375  Q 12.890625 10.015625 18.65625 8.296875  Q 24.421875 6.59375 29.984375 6.59375  Q 38.421875 6.59375 43.015625 9.90625  Q 47.609375 13.234375 47.609375 19.390625  Q 47.609375 24.75 44.3125 27.78125  Q 41.015625 30.8125 33.5 32.328125  L 27.484375 33.5  Q 16.453125 35.6875 11.515625 40.375  Q 6.59375 45.0625 6.59375 53.421875  Q 6.59375 63.09375 13.40625 68.65625  Q 20.21875 74.21875 32.171875 74.21875  Q 37.3125 74.21875 42.625 73.28125  Q 47.953125 72.359375 53.515625 70.515625  z \" id=\"DejaVuSans-53\"/>\n",
       "     <path d=\"M -0.296875 72.90625  L 61.375 72.90625  L 61.375 64.59375  L 35.5 64.59375  L 35.5 0  L 25.59375 0  L 25.59375 64.59375  L -0.296875 64.59375  z \" id=\"DejaVuSans-54\"/>\n",
       "     <path d=\"M 50.984375 -16.609375  L 50.984375 -23.578125  L -0.984375 -23.578125  L -0.984375 -16.609375  z \" id=\"DejaVuSans-5f\"/>\n",
       "     <path d=\"M 64.40625 67.28125  L 64.40625 56.890625  Q 59.421875 61.53125 53.78125 63.8125  Q 48.140625 66.109375 41.796875 66.109375  Q 29.296875 66.109375 22.65625 58.46875  Q 16.015625 50.828125 16.015625 36.375  Q 16.015625 21.96875 22.65625 14.328125  Q 29.296875 6.6875 41.796875 6.6875  Q 48.140625 6.6875 53.78125 8.984375  Q 59.421875 11.28125 64.40625 15.921875  L 64.40625 5.609375  Q 59.234375 2.09375 53.4375 0.328125  Q 47.65625 -1.421875 41.21875 -1.421875  Q 24.65625 -1.421875 15.125 8.703125  Q 5.609375 18.84375 5.609375 36.375  Q 5.609375 53.953125 15.125 64.078125  Q 24.65625 74.21875 41.21875 74.21875  Q 47.75 74.21875 53.53125 72.484375  Q 59.328125 70.75 64.40625 67.28125  z \" id=\"DejaVuSans-43\"/>\n",
       "     <path d=\"M 11.71875 12.40625  L 22.015625 12.40625  L 22.015625 0  L 11.71875 0  z M 11.71875 51.703125  L 22.015625 51.703125  L 22.015625 39.3125  L 11.71875 39.3125  z \" id=\"DejaVuSans-3a\"/>\n",
       "     <path id=\"DejaVuSans-20\"/>\n",
       "     <path d=\"M 41.109375 46.296875  Q 39.59375 47.171875 37.8125 47.578125  Q 36.03125 48 33.890625 48  Q 26.265625 48 22.1875 43.046875  Q 18.109375 38.09375 18.109375 28.8125  L 18.109375 0  L 9.078125 0  L 9.078125 54.6875  L 18.109375 54.6875  L 18.109375 46.1875  Q 20.953125 51.171875 25.484375 53.578125  Q 30.03125 56 36.53125 56  Q 37.453125 56 38.578125 55.875  Q 39.703125 55.765625 41.0625 55.515625  z \" id=\"DejaVuSans-72\"/>\n",
       "    </defs>\n",
       "    <g transform=\"translate(162.954119 28.56)scale(0.12 -0.12)\">\n",
       "     <use xlink:href=\"#DejaVuSans-4d\"/>\n",
       "     <use x=\"86.279297\" xlink:href=\"#DejaVuSans-4e\"/>\n",
       "     <use x=\"161.083984\" xlink:href=\"#DejaVuSans-49\"/>\n",
       "     <use x=\"190.576172\" xlink:href=\"#DejaVuSans-53\"/>\n",
       "     <use x=\"254.052734\" xlink:href=\"#DejaVuSans-54\"/>\n",
       "     <use x=\"315.136719\" xlink:href=\"#DejaVuSans-5f\"/>\n",
       "     <use x=\"365.136719\" xlink:href=\"#DejaVuSans-43\"/>\n",
       "     <use x=\"434.960938\" xlink:href=\"#DejaVuSans-4e\"/>\n",
       "     <use x=\"509.765625\" xlink:href=\"#DejaVuSans-4e\"/>\n",
       "     <use x=\"584.570312\" xlink:href=\"#DejaVuSans-3a\"/>\n",
       "     <use x=\"618.261719\" xlink:href=\"#DejaVuSans-20\"/>\n",
       "     <use x=\"650.048828\" xlink:href=\"#DejaVuSans-45\"/>\n",
       "     <use x=\"713.232422\" xlink:href=\"#DejaVuSans-72\"/>\n",
       "     <use x=\"754.330078\" xlink:href=\"#DejaVuSans-72\"/>\n",
       "     <use x=\"795.412109\" xlink:href=\"#DejaVuSans-6f\"/>\n",
       "     <use x=\"856.59375\" xlink:href=\"#DejaVuSans-72\"/>\n",
       "    </g>\n",
       "   </g>\n",
       "   <g id=\"legend_1\">\n",
       "    <g id=\"patch_7\">\n",
       "     <path d=\"M 236.030114 71.91625  L 336.636364 71.91625  Q 338.636364 71.91625 338.636364 69.91625  L 338.636364 41.56  Q 338.636364 39.56 336.636364 39.56  L 236.030114 39.56  Q 234.030114 39.56 234.030114 41.56  L 234.030114 69.91625  Q 234.030114 71.91625 236.030114 71.91625  z \" style=\"fill:#ffffff;opacity:0.8;stroke:#cccccc;stroke-linejoin:miter;\"/>\n",
       "    </g>\n",
       "    <g id=\"line2d_14\">\n",
       "     <path d=\"M 238.030114 47.658437  L 258.030114 47.658437  \" style=\"fill:none;stroke:#1f77b4;stroke-linecap:square;stroke-width:1.5;\"/>\n",
       "    </g>\n",
       "    <g id=\"line2d_15\"/>\n",
       "    <g id=\"text_14\">\n",
       "     <!-- Training set -->\n",
       "     <defs>\n",
       "      <path d=\"M 34.28125 27.484375  Q 23.390625 27.484375 19.1875 25  Q 14.984375 22.515625 14.984375 16.5  Q 14.984375 11.71875 18.140625 8.90625  Q 21.296875 6.109375 26.703125 6.109375  Q 34.1875 6.109375 38.703125 11.40625  Q 43.21875 16.703125 43.21875 25.484375  L 43.21875 27.484375  z M 52.203125 31.203125  L 52.203125 0  L 43.21875 0  L 43.21875 8.296875  Q 40.140625 3.328125 35.546875 0.953125  Q 30.953125 -1.421875 24.3125 -1.421875  Q 15.921875 -1.421875 10.953125 3.296875  Q 6 8.015625 6 15.921875  Q 6 25.140625 12.171875 29.828125  Q 18.359375 34.515625 30.609375 34.515625  L 43.21875 34.515625  L 43.21875 35.40625  Q 43.21875 41.609375 39.140625 45  Q 35.0625 48.390625 27.6875 48.390625  Q 23 48.390625 18.546875 47.265625  Q 14.109375 46.140625 10.015625 43.890625  L 10.015625 52.203125  Q 14.9375 54.109375 19.578125 55.046875  Q 24.21875 56 28.609375 56  Q 40.484375 56 46.34375 49.84375  Q 52.203125 43.703125 52.203125 31.203125  z \" id=\"DejaVuSans-61\"/>\n",
       "      <path d=\"M 9.421875 54.6875  L 18.40625 54.6875  L 18.40625 0  L 9.421875 0  z M 9.421875 75.984375  L 18.40625 75.984375  L 18.40625 64.59375  L 9.421875 64.59375  z \" id=\"DejaVuSans-69\"/>\n",
       "      <path d=\"M 54.890625 33.015625  L 54.890625 0  L 45.90625 0  L 45.90625 32.71875  Q 45.90625 40.484375 42.875 44.328125  Q 39.84375 48.1875 33.796875 48.1875  Q 26.515625 48.1875 22.3125 43.546875  Q 18.109375 38.921875 18.109375 30.90625  L 18.109375 0  L 9.078125 0  L 9.078125 54.6875  L 18.109375 54.6875  L 18.109375 46.1875  Q 21.34375 51.125 25.703125 53.5625  Q 30.078125 56 35.796875 56  Q 45.21875 56 50.046875 50.171875  Q 54.890625 44.34375 54.890625 33.015625  z \" id=\"DejaVuSans-6e\"/>\n",
       "      <path d=\"M 45.40625 27.984375  Q 45.40625 37.75 41.375 43.109375  Q 37.359375 48.484375 30.078125 48.484375  Q 22.859375 48.484375 18.828125 43.109375  Q 14.796875 37.75 14.796875 27.984375  Q 14.796875 18.265625 18.828125 12.890625  Q 22.859375 7.515625 30.078125 7.515625  Q 37.359375 7.515625 41.375 12.890625  Q 45.40625 18.265625 45.40625 27.984375  z M 54.390625 6.78125  Q 54.390625 -7.171875 48.1875 -13.984375  Q 42 -20.796875 29.203125 -20.796875  Q 24.46875 -20.796875 20.265625 -20.09375  Q 16.0625 -19.390625 12.109375 -17.921875  L 12.109375 -9.1875  Q 16.0625 -11.328125 19.921875 -12.34375  Q 23.78125 -13.375 27.78125 -13.375  Q 36.625 -13.375 41.015625 -8.765625  Q 45.40625 -4.15625 45.40625 5.171875  L 45.40625 9.625  Q 42.625 4.78125 38.28125 2.390625  Q 33.9375 0 27.875 0  Q 17.828125 0 11.671875 7.65625  Q 5.515625 15.328125 5.515625 27.984375  Q 5.515625 40.671875 11.671875 48.328125  Q 17.828125 56 27.875 56  Q 33.9375 56 38.28125 53.609375  Q 42.625 51.21875 45.40625 46.390625  L 45.40625 54.6875  L 54.390625 54.6875  z \" id=\"DejaVuSans-67\"/>\n",
       "      <path d=\"M 44.28125 53.078125  L 44.28125 44.578125  Q 40.484375 46.53125 36.375 47.5  Q 32.28125 48.484375 27.875 48.484375  Q 21.1875 48.484375 17.84375 46.4375  Q 14.5 44.390625 14.5 40.28125  Q 14.5 37.15625 16.890625 35.375  Q 19.28125 33.59375 26.515625 31.984375  L 29.59375 31.296875  Q 39.15625 29.25 43.1875 25.515625  Q 47.21875 21.78125 47.21875 15.09375  Q 47.21875 7.46875 41.1875 3.015625  Q 35.15625 -1.421875 24.609375 -1.421875  Q 20.21875 -1.421875 15.453125 -0.5625  Q 10.6875 0.296875 5.421875 2  L 5.421875 11.28125  Q 10.40625 8.6875 15.234375 7.390625  Q 20.0625 6.109375 24.8125 6.109375  Q 31.15625 6.109375 34.5625 8.28125  Q 37.984375 10.453125 37.984375 14.40625  Q 37.984375 18.0625 35.515625 20.015625  Q 33.0625 21.96875 24.703125 23.78125  L 21.578125 24.515625  Q 13.234375 26.265625 9.515625 29.90625  Q 5.8125 33.546875 5.8125 39.890625  Q 5.8125 47.609375 11.28125 51.796875  Q 16.75 56 26.8125 56  Q 31.78125 56 36.171875 55.265625  Q 40.578125 54.546875 44.28125 53.078125  z \" id=\"DejaVuSans-73\"/>\n",
       "      <path d=\"M 56.203125 29.59375  L 56.203125 25.203125  L 14.890625 25.203125  Q 15.484375 15.921875 20.484375 11.0625  Q 25.484375 6.203125 34.421875 6.203125  Q 39.59375 6.203125 44.453125 7.46875  Q 49.3125 8.734375 54.109375 11.28125  L 54.109375 2.78125  Q 49.265625 0.734375 44.1875 -0.34375  Q 39.109375 -1.421875 33.890625 -1.421875  Q 20.796875 -1.421875 13.15625 6.1875  Q 5.515625 13.8125 5.515625 26.8125  Q 5.515625 40.234375 12.765625 48.109375  Q 20.015625 56 32.328125 56  Q 43.359375 56 49.78125 48.890625  Q 56.203125 41.796875 56.203125 29.59375  z M 47.21875 32.234375  Q 47.125 39.59375 43.09375 43.984375  Q 39.0625 48.390625 32.421875 48.390625  Q 24.90625 48.390625 20.390625 44.140625  Q 15.875 39.890625 15.1875 32.171875  z \" id=\"DejaVuSans-65\"/>\n",
       "      <path d=\"M 18.3125 70.21875  L 18.3125 54.6875  L 36.8125 54.6875  L 36.8125 47.703125  L 18.3125 47.703125  L 18.3125 18.015625  Q 18.3125 11.328125 20.140625 9.421875  Q 21.96875 7.515625 27.59375 7.515625  L 36.8125 7.515625  L 36.8125 0  L 27.59375 0  Q 17.1875 0 13.234375 3.875  Q 9.28125 7.765625 9.28125 18.015625  L 9.28125 47.703125  L 2.6875 47.703125  L 2.6875 54.6875  L 9.28125 54.6875  L 9.28125 70.21875  z \" id=\"DejaVuSans-74\"/>\n",
       "     </defs>\n",
       "     <g transform=\"translate(266.030114 51.158437)scale(0.1 -0.1)\">\n",
       "      <use xlink:href=\"#DejaVuSans-54\"/>\n",
       "      <use x=\"60.865234\" xlink:href=\"#DejaVuSans-72\"/>\n",
       "      <use x=\"101.978516\" xlink:href=\"#DejaVuSans-61\"/>\n",
       "      <use x=\"163.257812\" xlink:href=\"#DejaVuSans-69\"/>\n",
       "      <use x=\"191.041016\" xlink:href=\"#DejaVuSans-6e\"/>\n",
       "      <use x=\"254.419922\" xlink:href=\"#DejaVuSans-69\"/>\n",
       "      <use x=\"282.203125\" xlink:href=\"#DejaVuSans-6e\"/>\n",
       "      <use x=\"345.582031\" xlink:href=\"#DejaVuSans-67\"/>\n",
       "      <use x=\"409.058594\" xlink:href=\"#DejaVuSans-20\"/>\n",
       "      <use x=\"440.845703\" xlink:href=\"#DejaVuSans-73\"/>\n",
       "      <use x=\"492.945312\" xlink:href=\"#DejaVuSans-65\"/>\n",
       "      <use x=\"554.46875\" xlink:href=\"#DejaVuSans-74\"/>\n",
       "     </g>\n",
       "    </g>\n",
       "    <g id=\"line2d_16\">\n",
       "     <path d=\"M 238.030114 62.336562  L 258.030114 62.336562  \" style=\"fill:none;stroke:#ff7f0e;stroke-linecap:square;stroke-width:1.5;\"/>\n",
       "    </g>\n",
       "    <g id=\"line2d_17\"/>\n",
       "    <g id=\"text_15\">\n",
       "     <!-- Validation set -->\n",
       "     <defs>\n",
       "      <path d=\"M 28.609375 0  L 0.78125 72.90625  L 11.078125 72.90625  L 34.1875 11.53125  L 57.328125 72.90625  L 67.578125 72.90625  L 39.796875 0  z \" id=\"DejaVuSans-56\"/>\n",
       "      <path d=\"M 9.421875 75.984375  L 18.40625 75.984375  L 18.40625 0  L 9.421875 0  z \" id=\"DejaVuSans-6c\"/>\n",
       "      <path d=\"M 45.40625 46.390625  L 45.40625 75.984375  L 54.390625 75.984375  L 54.390625 0  L 45.40625 0  L 45.40625 8.203125  Q 42.578125 3.328125 38.25 0.953125  Q 33.9375 -1.421875 27.875 -1.421875  Q 17.96875 -1.421875 11.734375 6.484375  Q 5.515625 14.40625 5.515625 27.296875  Q 5.515625 40.1875 11.734375 48.09375  Q 17.96875 56 27.875 56  Q 33.9375 56 38.25 53.625  Q 42.578125 51.265625 45.40625 46.390625  z M 14.796875 27.296875  Q 14.796875 17.390625 18.875 11.75  Q 22.953125 6.109375 30.078125 6.109375  Q 37.203125 6.109375 41.296875 11.75  Q 45.40625 17.390625 45.40625 27.296875  Q 45.40625 37.203125 41.296875 42.84375  Q 37.203125 48.484375 30.078125 48.484375  Q 22.953125 48.484375 18.875 42.84375  Q 14.796875 37.203125 14.796875 27.296875  z \" id=\"DejaVuSans-64\"/>\n",
       "     </defs>\n",
       "     <g transform=\"translate(266.030114 65.836562)scale(0.1 -0.1)\">\n",
       "      <use xlink:href=\"#DejaVuSans-56\"/>\n",
       "      <use x=\"68.298828\" xlink:href=\"#DejaVuSans-61\"/>\n",
       "      <use x=\"129.578125\" xlink:href=\"#DejaVuSans-6c\"/>\n",
       "      <use x=\"157.361328\" xlink:href=\"#DejaVuSans-69\"/>\n",
       "      <use x=\"185.144531\" xlink:href=\"#DejaVuSans-64\"/>\n",
       "      <use x=\"248.621094\" xlink:href=\"#DejaVuSans-61\"/>\n",
       "      <use x=\"309.900391\" xlink:href=\"#DejaVuSans-74\"/>\n",
       "      <use x=\"349.109375\" xlink:href=\"#DejaVuSans-69\"/>\n",
       "      <use x=\"376.892578\" xlink:href=\"#DejaVuSans-6f\"/>\n",
       "      <use x=\"438.074219\" xlink:href=\"#DejaVuSans-6e\"/>\n",
       "      <use x=\"501.453125\" xlink:href=\"#DejaVuSans-20\"/>\n",
       "      <use x=\"533.240234\" xlink:href=\"#DejaVuSans-73\"/>\n",
       "      <use x=\"585.339844\" xlink:href=\"#DejaVuSans-65\"/>\n",
       "      <use x=\"646.863281\" xlink:href=\"#DejaVuSans-74\"/>\n",
       "     </g>\n",
       "    </g>\n",
       "   </g>\n",
       "  </g>\n",
       "  <g id=\"axes_2\">\n",
       "   <g id=\"patch_8\">\n",
       "    <path d=\"M 394.363636 252  L 648 252  L 648 34.56  L 394.363636 34.56  z \" style=\"fill:#ffffff;\"/>\n",
       "   </g>\n",
       "   <g id=\"matplotlib.axis_3\">\n",
       "    <g id=\"xtick_7\">\n",
       "     <g id=\"line2d_18\">\n",
       "      <g>\n",
       "       <use style=\"stroke:#000000;stroke-width:0.8;\" x=\"405.892562\" xlink:href=\"#m16bae8a14f\" y=\"252\"/>\n",
       "      </g>\n",
       "     </g>\n",
       "     <g id=\"text_16\">\n",
       "      <!-- 0 -->\n",
       "      <g transform=\"translate(402.711312 266.598437)scale(0.1 -0.1)\">\n",
       "       <use xlink:href=\"#DejaVuSans-30\"/>\n",
       "      </g>\n",
       "     </g>\n",
       "    </g>\n",
       "    <g id=\"xtick_8\">\n",
       "     <g id=\"line2d_19\">\n",
       "      <g>\n",
       "       <use style=\"stroke:#000000;stroke-width:0.8;\" x=\"452.008264\" xlink:href=\"#m16bae8a14f\" y=\"252\"/>\n",
       "      </g>\n",
       "     </g>\n",
       "     <g id=\"text_17\">\n",
       "      <!-- 2 -->\n",
       "      <g transform=\"translate(448.827014 266.598437)scale(0.1 -0.1)\">\n",
       "       <use xlink:href=\"#DejaVuSans-32\"/>\n",
       "      </g>\n",
       "     </g>\n",
       "    </g>\n",
       "    <g id=\"xtick_9\">\n",
       "     <g id=\"line2d_20\">\n",
       "      <g>\n",
       "       <use style=\"stroke:#000000;stroke-width:0.8;\" x=\"498.123967\" xlink:href=\"#m16bae8a14f\" y=\"252\"/>\n",
       "      </g>\n",
       "     </g>\n",
       "     <g id=\"text_18\">\n",
       "      <!-- 4 -->\n",
       "      <g transform=\"translate(494.942717 266.598437)scale(0.1 -0.1)\">\n",
       "       <use xlink:href=\"#DejaVuSans-34\"/>\n",
       "      </g>\n",
       "     </g>\n",
       "    </g>\n",
       "    <g id=\"xtick_10\">\n",
       "     <g id=\"line2d_21\">\n",
       "      <g>\n",
       "       <use style=\"stroke:#000000;stroke-width:0.8;\" x=\"544.239669\" xlink:href=\"#m16bae8a14f\" y=\"252\"/>\n",
       "      </g>\n",
       "     </g>\n",
       "     <g id=\"text_19\">\n",
       "      <!-- 6 -->\n",
       "      <g transform=\"translate(541.058419 266.598437)scale(0.1 -0.1)\">\n",
       "       <use xlink:href=\"#DejaVuSans-36\"/>\n",
       "      </g>\n",
       "     </g>\n",
       "    </g>\n",
       "    <g id=\"xtick_11\">\n",
       "     <g id=\"line2d_22\">\n",
       "      <g>\n",
       "       <use style=\"stroke:#000000;stroke-width:0.8;\" x=\"590.355372\" xlink:href=\"#m16bae8a14f\" y=\"252\"/>\n",
       "      </g>\n",
       "     </g>\n",
       "     <g id=\"text_20\">\n",
       "      <!-- 8 -->\n",
       "      <g transform=\"translate(587.174122 266.598437)scale(0.1 -0.1)\">\n",
       "       <use xlink:href=\"#DejaVuSans-38\"/>\n",
       "      </g>\n",
       "     </g>\n",
       "    </g>\n",
       "    <g id=\"xtick_12\">\n",
       "     <g id=\"line2d_23\">\n",
       "      <g>\n",
       "       <use style=\"stroke:#000000;stroke-width:0.8;\" x=\"636.471074\" xlink:href=\"#m16bae8a14f\" y=\"252\"/>\n",
       "      </g>\n",
       "     </g>\n",
       "     <g id=\"text_21\">\n",
       "      <!-- 10 -->\n",
       "      <g transform=\"translate(630.108574 266.598437)scale(0.1 -0.1)\">\n",
       "       <use xlink:href=\"#DejaVuSans-31\"/>\n",
       "       <use x=\"63.623047\" xlink:href=\"#DejaVuSans-30\"/>\n",
       "      </g>\n",
       "     </g>\n",
       "    </g>\n",
       "    <g id=\"text_22\">\n",
       "     <!-- Epoch -->\n",
       "     <g transform=\"translate(505.870881 280.276563)scale(0.1 -0.1)\">\n",
       "      <use xlink:href=\"#DejaVuSans-45\"/>\n",
       "      <use x=\"63.183594\" xlink:href=\"#DejaVuSans-70\"/>\n",
       "      <use x=\"126.660156\" xlink:href=\"#DejaVuSans-6f\"/>\n",
       "      <use x=\"187.841797\" xlink:href=\"#DejaVuSans-63\"/>\n",
       "      <use x=\"242.822266\" xlink:href=\"#DejaVuSans-68\"/>\n",
       "     </g>\n",
       "    </g>\n",
       "   </g>\n",
       "   <g id=\"matplotlib.axis_4\">\n",
       "    <g id=\"ytick_6\">\n",
       "     <g id=\"line2d_24\">\n",
       "      <g>\n",
       "       <use style=\"stroke:#000000;stroke-width:0.8;\" x=\"394.363636\" xlink:href=\"#m3fb5d5e02b\" y=\"233.88\"/>\n",
       "      </g>\n",
       "     </g>\n",
       "     <g id=\"text_23\">\n",
       "      <!-- 0.0 -->\n",
       "      <g transform=\"translate(371.460511 237.679219)scale(0.1 -0.1)\">\n",
       "       <use xlink:href=\"#DejaVuSans-30\"/>\n",
       "       <use x=\"63.623047\" xlink:href=\"#DejaVuSans-2e\"/>\n",
       "       <use x=\"95.410156\" xlink:href=\"#DejaVuSans-30\"/>\n",
       "      </g>\n",
       "     </g>\n",
       "    </g>\n",
       "    <g id=\"ytick_7\">\n",
       "     <g id=\"line2d_25\">\n",
       "      <g>\n",
       "       <use style=\"stroke:#000000;stroke-width:0.8;\" x=\"394.363636\" xlink:href=\"#m3fb5d5e02b\" y=\"197.64\"/>\n",
       "      </g>\n",
       "     </g>\n",
       "     <g id=\"text_24\">\n",
       "      <!-- 0.2 -->\n",
       "      <g transform=\"translate(371.460511 201.439219)scale(0.1 -0.1)\">\n",
       "       <use xlink:href=\"#DejaVuSans-30\"/>\n",
       "       <use x=\"63.623047\" xlink:href=\"#DejaVuSans-2e\"/>\n",
       "       <use x=\"95.410156\" xlink:href=\"#DejaVuSans-32\"/>\n",
       "      </g>\n",
       "     </g>\n",
       "    </g>\n",
       "    <g id=\"ytick_8\">\n",
       "     <g id=\"line2d_26\">\n",
       "      <g>\n",
       "       <use style=\"stroke:#000000;stroke-width:0.8;\" x=\"394.363636\" xlink:href=\"#m3fb5d5e02b\" y=\"161.4\"/>\n",
       "      </g>\n",
       "     </g>\n",
       "     <g id=\"text_25\">\n",
       "      <!-- 0.4 -->\n",
       "      <g transform=\"translate(371.460511 165.199219)scale(0.1 -0.1)\">\n",
       "       <use xlink:href=\"#DejaVuSans-30\"/>\n",
       "       <use x=\"63.623047\" xlink:href=\"#DejaVuSans-2e\"/>\n",
       "       <use x=\"95.410156\" xlink:href=\"#DejaVuSans-34\"/>\n",
       "      </g>\n",
       "     </g>\n",
       "    </g>\n",
       "    <g id=\"ytick_9\">\n",
       "     <g id=\"line2d_27\">\n",
       "      <g>\n",
       "       <use style=\"stroke:#000000;stroke-width:0.8;\" x=\"394.363636\" xlink:href=\"#m3fb5d5e02b\" y=\"125.16\"/>\n",
       "      </g>\n",
       "     </g>\n",
       "     <g id=\"text_26\">\n",
       "      <!-- 0.6 -->\n",
       "      <g transform=\"translate(371.460511 128.959219)scale(0.1 -0.1)\">\n",
       "       <use xlink:href=\"#DejaVuSans-30\"/>\n",
       "       <use x=\"63.623047\" xlink:href=\"#DejaVuSans-2e\"/>\n",
       "       <use x=\"95.410156\" xlink:href=\"#DejaVuSans-36\"/>\n",
       "      </g>\n",
       "     </g>\n",
       "    </g>\n",
       "    <g id=\"ytick_10\">\n",
       "     <g id=\"line2d_28\">\n",
       "      <g>\n",
       "       <use style=\"stroke:#000000;stroke-width:0.8;\" x=\"394.363636\" xlink:href=\"#m3fb5d5e02b\" y=\"88.92\"/>\n",
       "      </g>\n",
       "     </g>\n",
       "     <g id=\"text_27\">\n",
       "      <!-- 0.8 -->\n",
       "      <g transform=\"translate(371.460511 92.719219)scale(0.1 -0.1)\">\n",
       "       <use xlink:href=\"#DejaVuSans-30\"/>\n",
       "       <use x=\"63.623047\" xlink:href=\"#DejaVuSans-2e\"/>\n",
       "       <use x=\"95.410156\" xlink:href=\"#DejaVuSans-38\"/>\n",
       "      </g>\n",
       "     </g>\n",
       "    </g>\n",
       "    <g id=\"ytick_11\">\n",
       "     <g id=\"line2d_29\">\n",
       "      <g>\n",
       "       <use style=\"stroke:#000000;stroke-width:0.8;\" x=\"394.363636\" xlink:href=\"#m3fb5d5e02b\" y=\"52.68\"/>\n",
       "      </g>\n",
       "     </g>\n",
       "     <g id=\"text_28\">\n",
       "      <!-- 1.0 -->\n",
       "      <g transform=\"translate(371.460511 56.479219)scale(0.1 -0.1)\">\n",
       "       <use xlink:href=\"#DejaVuSans-31\"/>\n",
       "       <use x=\"63.623047\" xlink:href=\"#DejaVuSans-2e\"/>\n",
       "       <use x=\"95.410156\" xlink:href=\"#DejaVuSans-30\"/>\n",
       "      </g>\n",
       "     </g>\n",
       "    </g>\n",
       "   </g>\n",
       "   <g id=\"line2d_30\">\n",
       "    <path clip-path=\"url(#pca10829d42)\" d=\"M 405.892562 219.970743  L 428.950413 84.398629  L 452.008264 61.929829  L 475.066116 59.496571  L 498.123967 57.857143  L 521.181818 56.925257  L 544.239669 56.114171  L 567.297521 55.406629  L 590.355372 55.078743  L 613.413223 54.802629  L 636.471074 54.630057  \" style=\"fill:none;stroke:#1f77b4;stroke-linecap:square;stroke-width:1.5;\"/>\n",
       "   </g>\n",
       "   <g id=\"line2d_31\">\n",
       "    <path clip-path=\"url(#pca10829d42)\" d=\"M 405.892562 221.5584  L 428.950413 68.677371  L 452.008264 61.584686  L 475.066116 61.0152  L 498.123967 58.581943  L 521.181818 58.064229  L 544.239669 57.857143  L 567.297521 56.614629  L 590.355372 56.769943  L 613.413223 57.546514  L 636.471074 56.407543  \" style=\"fill:none;stroke:#ff7f0e;stroke-linecap:square;stroke-width:1.5;\"/>\n",
       "   </g>\n",
       "   <g id=\"patch_9\">\n",
       "    <path d=\"M 394.363636 252  L 394.363636 34.56  \" style=\"fill:none;stroke:#000000;stroke-linecap:square;stroke-linejoin:miter;stroke-width:0.8;\"/>\n",
       "   </g>\n",
       "   <g id=\"patch_10\">\n",
       "    <path d=\"M 648 252  L 648 34.56  \" style=\"fill:none;stroke:#000000;stroke-linecap:square;stroke-linejoin:miter;stroke-width:0.8;\"/>\n",
       "   </g>\n",
       "   <g id=\"patch_11\">\n",
       "    <path d=\"M 394.363636 252  L 648 252  \" style=\"fill:none;stroke:#000000;stroke-linecap:square;stroke-linejoin:miter;stroke-width:0.8;\"/>\n",
       "   </g>\n",
       "   <g id=\"patch_12\">\n",
       "    <path d=\"M 394.363636 34.56  L 648 34.56  \" style=\"fill:none;stroke:#000000;stroke-linecap:square;stroke-linejoin:miter;stroke-width:0.8;\"/>\n",
       "   </g>\n",
       "   <g id=\"text_29\">\n",
       "    <!-- MNIST_CNN: Accuracy -->\n",
       "    <defs>\n",
       "     <path d=\"M 34.1875 63.1875  L 20.796875 26.90625  L 47.609375 26.90625  z M 28.609375 72.90625  L 39.796875 72.90625  L 67.578125 0  L 57.328125 0  L 50.6875 18.703125  L 17.828125 18.703125  L 11.1875 0  L 0.78125 0  z \" id=\"DejaVuSans-41\"/>\n",
       "     <path d=\"M 8.5 21.578125  L 8.5 54.6875  L 17.484375 54.6875  L 17.484375 21.921875  Q 17.484375 14.15625 20.5 10.265625  Q 23.53125 6.390625 29.59375 6.390625  Q 36.859375 6.390625 41.078125 11.03125  Q 45.3125 15.671875 45.3125 23.6875  L 45.3125 54.6875  L 54.296875 54.6875  L 54.296875 0  L 45.3125 0  L 45.3125 8.40625  Q 42.046875 3.421875 37.71875 1  Q 33.40625 -1.421875 27.6875 -1.421875  Q 18.265625 -1.421875 13.375 4.4375  Q 8.5 10.296875 8.5 21.578125  z M 31.109375 56  z \" id=\"DejaVuSans-75\"/>\n",
       "     <path d=\"M 32.171875 -5.078125  Q 28.375 -14.84375 24.75 -17.8125  Q 21.140625 -20.796875 15.09375 -20.796875  L 7.90625 -20.796875  L 7.90625 -13.28125  L 13.1875 -13.28125  Q 16.890625 -13.28125 18.9375 -11.515625  Q 21 -9.765625 23.484375 -3.21875  L 25.09375 0.875  L 2.984375 54.6875  L 12.5 54.6875  L 29.59375 11.921875  L 46.6875 54.6875  L 56.203125 54.6875  z \" id=\"DejaVuSans-79\"/>\n",
       "    </defs>\n",
       "    <g transform=\"translate(454.679318 28.56)scale(0.12 -0.12)\">\n",
       "     <use xlink:href=\"#DejaVuSans-4d\"/>\n",
       "     <use x=\"86.279297\" xlink:href=\"#DejaVuSans-4e\"/>\n",
       "     <use x=\"161.083984\" xlink:href=\"#DejaVuSans-49\"/>\n",
       "     <use x=\"190.576172\" xlink:href=\"#DejaVuSans-53\"/>\n",
       "     <use x=\"254.052734\" xlink:href=\"#DejaVuSans-54\"/>\n",
       "     <use x=\"315.136719\" xlink:href=\"#DejaVuSans-5f\"/>\n",
       "     <use x=\"365.136719\" xlink:href=\"#DejaVuSans-43\"/>\n",
       "     <use x=\"434.960938\" xlink:href=\"#DejaVuSans-4e\"/>\n",
       "     <use x=\"509.765625\" xlink:href=\"#DejaVuSans-4e\"/>\n",
       "     <use x=\"584.570312\" xlink:href=\"#DejaVuSans-3a\"/>\n",
       "     <use x=\"618.261719\" xlink:href=\"#DejaVuSans-20\"/>\n",
       "     <use x=\"650.048828\" xlink:href=\"#DejaVuSans-41\"/>\n",
       "     <use x=\"718.441406\" xlink:href=\"#DejaVuSans-63\"/>\n",
       "     <use x=\"773.421875\" xlink:href=\"#DejaVuSans-63\"/>\n",
       "     <use x=\"828.402344\" xlink:href=\"#DejaVuSans-75\"/>\n",
       "     <use x=\"891.78125\" xlink:href=\"#DejaVuSans-72\"/>\n",
       "     <use x=\"932.894531\" xlink:href=\"#DejaVuSans-61\"/>\n",
       "     <use x=\"994.173828\" xlink:href=\"#DejaVuSans-63\"/>\n",
       "     <use x=\"1049.154297\" xlink:href=\"#DejaVuSans-79\"/>\n",
       "    </g>\n",
       "   </g>\n",
       "   <g id=\"legend_2\">\n",
       "    <g id=\"patch_13\">\n",
       "     <path d=\"M 540.39375 247  L 641 247  Q 643 247 643 245  L 643 216.64375  Q 643 214.64375 641 214.64375  L 540.39375 214.64375  Q 538.39375 214.64375 538.39375 216.64375  L 538.39375 245  Q 538.39375 247 540.39375 247  z \" style=\"fill:#ffffff;opacity:0.8;stroke:#cccccc;stroke-linejoin:miter;\"/>\n",
       "    </g>\n",
       "    <g id=\"line2d_32\">\n",
       "     <path d=\"M 542.39375 222.742188  L 562.39375 222.742188  \" style=\"fill:none;stroke:#1f77b4;stroke-linecap:square;stroke-width:1.5;\"/>\n",
       "    </g>\n",
       "    <g id=\"line2d_33\"/>\n",
       "    <g id=\"text_30\">\n",
       "     <!-- Training set -->\n",
       "     <g transform=\"translate(570.39375 226.242188)scale(0.1 -0.1)\">\n",
       "      <use xlink:href=\"#DejaVuSans-54\"/>\n",
       "      <use x=\"60.865234\" xlink:href=\"#DejaVuSans-72\"/>\n",
       "      <use x=\"101.978516\" xlink:href=\"#DejaVuSans-61\"/>\n",
       "      <use x=\"163.257812\" xlink:href=\"#DejaVuSans-69\"/>\n",
       "      <use x=\"191.041016\" xlink:href=\"#DejaVuSans-6e\"/>\n",
       "      <use x=\"254.419922\" xlink:href=\"#DejaVuSans-69\"/>\n",
       "      <use x=\"282.203125\" xlink:href=\"#DejaVuSans-6e\"/>\n",
       "      <use x=\"345.582031\" xlink:href=\"#DejaVuSans-67\"/>\n",
       "      <use x=\"409.058594\" xlink:href=\"#DejaVuSans-20\"/>\n",
       "      <use x=\"440.845703\" xlink:href=\"#DejaVuSans-73\"/>\n",
       "      <use x=\"492.945312\" xlink:href=\"#DejaVuSans-65\"/>\n",
       "      <use x=\"554.46875\" xlink:href=\"#DejaVuSans-74\"/>\n",
       "     </g>\n",
       "    </g>\n",
       "    <g id=\"line2d_34\">\n",
       "     <path d=\"M 542.39375 237.420312  L 562.39375 237.420312  \" style=\"fill:none;stroke:#ff7f0e;stroke-linecap:square;stroke-width:1.5;\"/>\n",
       "    </g>\n",
       "    <g id=\"line2d_35\"/>\n",
       "    <g id=\"text_31\">\n",
       "     <!-- Validation set -->\n",
       "     <g transform=\"translate(570.39375 240.920312)scale(0.1 -0.1)\">\n",
       "      <use xlink:href=\"#DejaVuSans-56\"/>\n",
       "      <use x=\"68.298828\" xlink:href=\"#DejaVuSans-61\"/>\n",
       "      <use x=\"129.578125\" xlink:href=\"#DejaVuSans-6c\"/>\n",
       "      <use x=\"157.361328\" xlink:href=\"#DejaVuSans-69\"/>\n",
       "      <use x=\"185.144531\" xlink:href=\"#DejaVuSans-64\"/>\n",
       "      <use x=\"248.621094\" xlink:href=\"#DejaVuSans-61\"/>\n",
       "      <use x=\"309.900391\" xlink:href=\"#DejaVuSans-74\"/>\n",
       "      <use x=\"349.109375\" xlink:href=\"#DejaVuSans-69\"/>\n",
       "      <use x=\"376.892578\" xlink:href=\"#DejaVuSans-6f\"/>\n",
       "      <use x=\"438.074219\" xlink:href=\"#DejaVuSans-6e\"/>\n",
       "      <use x=\"501.453125\" xlink:href=\"#DejaVuSans-20\"/>\n",
       "      <use x=\"533.240234\" xlink:href=\"#DejaVuSans-73\"/>\n",
       "      <use x=\"585.339844\" xlink:href=\"#DejaVuSans-65\"/>\n",
       "      <use x=\"646.863281\" xlink:href=\"#DejaVuSans-74\"/>\n",
       "     </g>\n",
       "    </g>\n",
       "   </g>\n",
       "  </g>\n",
       " </g>\n",
       " <defs>\n",
       "  <clipPath id=\"pfb94589951\">\n",
       "   <rect height=\"217.44\" width=\"253.636364\" x=\"90\" y=\"34.56\"/>\n",
       "  </clipPath>\n",
       "  <clipPath id=\"pca10829d42\">\n",
       "   <rect height=\"217.44\" width=\"253.636364\" x=\"394.363636\" y=\"34.56\"/>\n",
       "  </clipPath>\n",
       " </defs>\n",
       "</svg>"
      ],
      "text/plain": [
       "<IPython.core.display.SVG object>"
      ]
     },
     "metadata": {},
     "output_type": "display_data"
    },
    {
     "name": "stdout",
     "output_type": "stream",
     "text": [
      "========================================================\n",
      "       |  Training |  Training |  Validate |  Validate \n",
      "Epochs |     Error |  Accuracy |     Error |  Accuracy \n",
      "------ | --------- | --------- | --------- | --------- \n",
      "#   10 |   0.03104 |   0.98924 |   0.06653 |   0.97943 \n"
     ]
    }
   ],
   "source": [
    "cnn.reset()\n",
    "cnn.train(epochs=10)"
   ]
  },
  {
   "cell_type": "markdown",
   "metadata": {},
   "source": [
    "Now let's take a look at which test inputs the network got wrong."
   ]
  },
  {
   "cell_type": "code",
   "execution_count": 45,
   "metadata": {},
   "outputs": [],
   "source": [
    "results = [cnn.propagate(img) for img in cnn.dataset.test_inputs]\n",
    "classifications = [cx.argmax(r) for r in results]\n",
    "correct_answers = [cx.argmax(t) for t in cnn.dataset.test_targets]"
   ]
  },
  {
   "cell_type": "code",
   "execution_count": 46,
   "metadata": {},
   "outputs": [],
   "source": [
    "wrong = [i for i in range(len(classifications)) if classifications[i] != correct_answers[i]]"
   ]
  },
  {
   "cell_type": "code",
   "execution_count": 47,
   "metadata": {},
   "outputs": [
    {
     "name": "stdout",
     "output_type": "stream",
     "text": [
      "Network classified the following 72 test inputs incorrectly:\n",
      "[144, 280, 300, 384, 444, 492, 494, 530, 539, 544, 604, 696, 710, 842, 938, 964, 1100, 1132, 1139, 1147, 1267, 1302, 1353, 1385, 1440, 1566, 1683, 1696, 1754, 1777, 1805, 1872, 1922, 1961, 2001, 2059, 2085, 2103, 2151, 2155, 2179, 2278, 2292, 2368, 2400, 2436, 2446, 2450, 2486, 2489, 2518, 2531, 2582, 2627, 2653, 2684, 2685, 2691, 2776, 2876, 2910, 2952, 3008, 3038, 3177, 3203, 3260, 3354, 3420, 3422, 3469, 3470]\n"
     ]
    }
   ],
   "source": [
    "print('Network classified the following', len(wrong), 'test inputs incorrectly:')\n",
    "print(wrong)"
   ]
  },
  {
   "cell_type": "markdown",
   "metadata": {},
   "source": [
    "Let's take a look at some of the incorrect classifications.  For clarity, we will label each of the misclassified images with the network's (wrong) answer."
   ]
  },
  {
   "cell_type": "code",
   "execution_count": 48,
   "metadata": {},
   "outputs": [
    {
     "data": {
      "image/png": "[encoded data removed]",
      "text/plain": [
       "<matplotlib.figure.Figure at 0x11b12ce80>"
      ]
     },
     "metadata": {},
     "output_type": "display_data"
    },
    {
     "name": "stderr",
     "output_type": "stream",
     "text": [
      "WARNING: could not view all images with layout (3, 10)\n"
     ]
    }
   ],
   "source": [
    "misclassifications = [classifications[i] for i in wrong]\n",
    "cx.view(cnn.dataset.test_inputs[wrong], labels=misclassifications, layout=(3,10), spacing=0.5)"
   ]
  },
  {
   "cell_type": "code",
   "execution_count": null,
   "metadata": {},
   "outputs": [],
   "source": []
  }
 ],
 "metadata": {
  "kernelspec": {
   "display_name": "Python 3",
   "language": "python",
   "name": "python3"
  },
  "language_info": {
   "codemirror_mode": {
    "name": "ipython",
    "version": 3
   },
   "file_extension": ".py",
   "mimetype": "text/x-python",
   "name": "python",
   "nbconvert_exporter": "python",
   "pygments_lexer": "ipython3",
   "version": "3.5.3"
  },
  "widgets": {
   "application/vnd.jupyter.widget-state+json": {
    "state": {
     "001e782aaaf846b89b9cb75d656ca631": {
      "model_module": "@jupyter-widgets/controls",
      "model_module_version": "1.1.0",
      "model_name": "HBoxModel",
      "state": {
       "children": [
        "IPY_MODEL_9e410c8ad2a44fccbb659f69f4e849f9",
        "IPY_MODEL_2d63adc079b04358965f3e483b24d317",
        "IPY_MODEL_25c2919d727f419ab7d97152b81c348c",
        "IPY_MODEL_e9d7f016bde3471e86068bde26ad0a5b",
        "IPY_MODEL_eec5df2462c940cc825fef59ce5e8fd2",
        "IPY_MODEL_9c25056ba61e4187bc8cd0470ffe331b",
        "IPY_MODEL_377f5eae69fc416bb708a78fc489baf7"
       ],
       "layout": "IPY_MODEL_2fcb48f8fed741909f27a4f2920bf9af"
      }
     },
     "0035c061f5db4bdba5481bc72c1f1a6d": {
      "model_module": "@jupyter-widgets/base",
      "model_module_version": "1.0.0",
      "model_name": "LayoutModel",
      "state": {
       "width": "100%"
      }
     },
     "01a8b3252a064ca8988340726c167864": {
      "model_module": "@jupyter-widgets/controls",
      "model_module_version": "1.1.0",
      "model_name": "IntTextModel",
      "state": {
       "description": "Horizontal space between banks:",
       "layout": "IPY_MODEL_ede1077c363147caa032ae94e603f279",
       "step": 1,
       "style": "IPY_MODEL_e0b2998097fa479aac5964bb86a3f6bc",
       "value": 150
      }
     },
     "042bad367b7042619a7239b828043898": {
      "model_module": "@jupyter-widgets/base",
      "model_module_version": "1.0.0",
      "model_name": "LayoutModel",
      "state": {
       "height": "50px",
       "width": "100%"
      }
     },
     "046be0283533431881976a2ef4c63c59": {
      "model_module": "@jupyter-widgets/controls",
      "model_module_version": "1.1.0",
      "model_name": "HBoxModel",
      "state": {
       "children": [
        "IPY_MODEL_2eb1739664224547b4c974316b5d3092",
        "IPY_MODEL_93aac29352d34ef7b66e60fc3255bae6"
       ],
       "layout": "IPY_MODEL_bf9779aa357f42e79d771a4d0b6a3e87"
      }
     },
     "054e0c601369460d9b9b6d7620e6f1dc": {
      "model_module": "@jupyter-widgets/base",
      "model_module_version": "1.0.0",
      "model_name": "LayoutModel",
      "state": {}
     },
     "075cf18fc2ce4f6cbd2c62769992cee6": {
      "model_module": "@jupyter-widgets/base",
      "model_module_version": "1.0.0",
      "model_name": "LayoutModel",
      "state": {}
     },
     "082249593f564f22b0513d2dd7acaed9": {
      "model_module": "@jupyter-widgets/controls",
      "model_module_version": "1.1.0",
      "model_name": "ButtonModel",
      "state": {
       "description": "Play",
       "icon": "play",
       "layout": "IPY_MODEL_3d72c41b52224490ac64227bb8f3f8d2",
       "style": "IPY_MODEL_46ed75a821ad477fb0c3082b9c016205"
      }
     },
     "087dc8ae21654c2ca6dfc73fc84a1516": {
      "model_module": "@jupyter-widgets/base",
      "model_module_version": "1.0.0",
      "model_name": "LayoutModel",
      "state": {}
     },
     "09510cc1af364e378de78f943922cf1b": {
      "model_module": "@jupyter-widgets/controls",
      "model_module_version": "1.1.0",
      "model_name": "ButtonStyleModel",
      "state": {}
     },
     "0aa32b53c94b4fe6865677cb7cd7a162": {
      "model_module": "@jupyter-widgets/controls",
      "model_module_version": "1.1.0",
      "model_name": "CheckboxModel",
      "state": {
       "description": "Show Targets",
       "disabled": false,
       "layout": "IPY_MODEL_ede1077c363147caa032ae94e603f279",
       "style": "IPY_MODEL_b50d49d877524d53ad250d4d5101ad3e",
       "value": true
      }
     },
     "0aff9a0fe6f74ddda3512b669e06bc54": {
      "model_module": "@jupyter-widgets/controls",
      "model_module_version": "1.1.0",
      "model_name": "DescriptionStyleModel",
      "state": {
       "description_width": "initial"
      }
     },
     "0b6f080959114ef7b2c695efdd7c68f4": {
      "model_module": "@jupyter-widgets/controls",
      "model_module_version": "1.1.0",
      "model_name": "DescriptionStyleModel",
      "state": {
       "description_width": "initial"
      }
     },
     "0be66ffb50004fa39b1926ad8d873c99": {
      "model_module": "@jupyter-widgets/controls",
      "model_module_version": "1.1.0",
      "model_name": "DescriptionStyleModel",
      "state": {
       "description_width": ""
      }
     },
     "0ccf9471f92f435bae277f55abffbec4": {
      "model_module": "@jupyter-widgets/controls",
      "model_module_version": "1.1.0",
      "model_name": "VBoxModel",
      "state": {
       "children": [
        "IPY_MODEL_8417bdcc41214706af54f31fff78b300",
        "IPY_MODEL_32a6d0b4c020411d8781645d7ae40ac2",
        "IPY_MODEL_101ebb1a7348496dbb9f8171e606924e",
        "IPY_MODEL_e61178a6616f47c7a1357ecd97778b64"
       ],
       "layout": "IPY_MODEL_d405c393542647b0886e94d25425cc0e"
      }
     },
     "101ebb1a7348496dbb9f8171e606924e": {
      "model_module": "@jupyter-widgets/controls",
      "model_module_version": "1.1.0",
      "model_name": "HTMLModel",
      "state": {
       "layout": "IPY_MODEL_fd84e62b0c2d4d9198df457cdfe14b53",
       "style": "IPY_MODEL_e58ddd7c023648e89bb346538d80c354",
       "value": "\n<table align=\"center\" style=\"width: 100%;\">\n <tr>\n  <td valign=\"top\"><p style=\"text-align:center\"><svg id='MNIST_CNN' xmlns='http://www.w3.org/2000/svg' image-rendering=\"pixelated\" width=\"800.0000000000001px\" height=\"190.47619047619048px\">\n <g  transform=\"rotate(90) translate(0 -800.0000000000001)\" >\n  <svg viewBox=\"0 0 350 1470\" width=\"190.47619047619048px\" height=\"800.0000000000001px\">\n    <defs>\n        <marker id=\"arrow\" markerWidth=\"10\" markerHeight=\"10\" refX=\"9\" refY=\"3\" orient=\"auto\" markerUnits=\"strokeWidth\">\n          <path d=\"M0,0 L0,6 L9,3 z\" fill=\"black\" />\n        </marker>\n    </defs><rect x=\"74.0\" y=\"24\" width=\"202\" height=\"52\" style=\"fill:none;stroke:black;stroke-width:2\"/><image id=\"picture-dashboard-MNIST_CNN-733098_output_targets_57\" class=\"picture-dashboard-MNIST_CNN-733098_output_targets\" x=\"75.0\" y=\"25\" height=\"50\" width=\"200\" preserveAspectRatio=\"none\" href=\"data:image/gif;base64,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\"><title>Layer: output (output)\n output range: (0.0, 1.0)\n shape = (10,)\n Keras class = Dense\n activation = softmax</title></image><text x=\"288.0\" y=\"52.0\" font-family=\"monospace\" font-size=\"12\" text-anchor=\"middle\" fill=\"black\" alignment-baseline=\"central\"  transform=\"rotate(-90 288.0 52.0) translate(2)\" >targets</text><line x1=\"87.5\" y1=\"80\" x2=\"262.5\" y2=\"80\" stroke=\"green\" stroke-width=\"2\"><title></title></line><rect x=\"74.0\" y=\"84\" width=\"202\" height=\"52\" style=\"fill:none;stroke:black;stroke-width:2\"/><image id=\"picture-dashboard-MNIST_CNN-733098_output-rotated_57\" class=\"picture-dashboard-MNIST_CNN-733098_output-rotated\" x=\"75.0\" y=\"85\" height=\"50\" width=\"200\" preserveAspectRatio=\"none\" href=\"data:image/gif;base64,R0lGODdh+gAZAIcAAPf7/wAAAAhKkuPu+AAAAAAAAAAAAAAAAAAAAAAAAAAAAAAAAAAAAAAAAAAAAAAAAAAAAAAAAAAAAAAAAAAAAAAAAAAAAAAAAAAAAAAAAAAAAAAAAAAAAAAAAAAAAAAAAAAAAAAAAAAAAAAAAAAAAAAAAAAAAAAAAAAAAAAAAAAAAAAAAAAAAAAAAAAAAAAAAAAAAAAAAAAAAAAAAAAAAAAAAAAAAAAAAAAAAAAAAAAAAAAAAAAAAAAAAAAAAAAAAAAAAAAAAAAAAAAAAAAAAAAAAAAAAAAAAAAAAAAAAAAAAAAAAAAAAAAAAAAAAAAAAAAAAAAAAAAAAAAAAAAAAAAAAAAAAAAAAAAAAAAAAAAAAAAAAAAAAAAAAAAAAAAAAAAAAAAAAAAAAAAAAAAAAAAAAAAAAAAAAAAAAAAAAAAAAAAAAAAAAAAAAAAAAAAAAAAAAAAAAAAAAAAAAAAAAAAAAAAAAAAAAAAAAAAAAAAAAAAAAAAAAAAAAAAAAAAAAAAAAAAAAAAAAAAAAAAAAAAAAAAAAAAAAAAAAAAAAAAAAAAAAAAAAAAAAAAAAAAAAAAAAAAAAAAAAAAAAAAAAAAAAAAAAAAAAAAAAAAAAAAAAAAAAAAAAAAAAAAAAAAAAAAAAAAAAAAAAAAAAAAAAAAAAAAAAAAAAAAAAAAAAAAAAAAAAAAAAAAAAAAAAAAAAAAAAAAAAAAAAAAAAAAAAAAAAAAAAAAAAAAAAAAAAAAAAAAAAAAAAAAAAAAAAAAAAAAAAAAAAAAAAAAAAAAAAAAAAAAAAAAAAAAAAAAAAAAAAAAAAAAAAAAAAAAAAAAAAAAAAAAAAAAAAAAAAAAAAAAAAAAAAAAAAAAAAAAAAAAAAAAAAAAAAAAAAAAAAAAAAAAAAAAAAAAAAAAAAAAAAAAAAAAAAAAAAAAAAAAAAAAAAAAAAAAAAAAAAAAAAAAAAAAAAAAAAAAAAAAAAAAAAAAAAAAAAAAAAAAAAAAAAAAAAAAAAAAAAAAAAAAAAAAAACwAAAAA+gAZAEAI/wADCBxIsKDBgwgTKlzIsKHDhxAjSpxIsSJFABgzatzIEWOAAABCihxJsmTIAAEAqFzJsqVLlQECDJhJs6bNmzMDBADAs6fPn0B5BgggoKjRo0iTFg0QAIDTp1CjSnUaIACAq1izat16NUAAAGDDih1LFmyAAADSql3Ltm3aAAEAyJ1Lt65duQECANjLt6/fv3sDBABAuLDhw4gJBwgwoLHjx5AjNw4QAIDly5gza7YcIICAz6BDix79OUAAAKhTq17NGnWAAABiy55Nu3bsAAEA6N7Nu7dv3QECABhOvLjx48MDKF/OvLnz59CjS59Ovbr169iza9/OvXt3AODDi/8fTx58gAAA0qtfz759+gABAMifT7++ffkBAgzYz7+/f4ADBA4UGCAAAIQJFS5kiDBAAAERJU6kWDFigAAANG7k2NGjxgABAIwkWdLkyZEBAgBg2dLlS5gsAwQAUNPmTZw5awYIAMDnT6BBhfoMEADAUaRJlS49GiAAAKhRpU6lCjVAgAFZtW7l2jVrgAAAxI4lW9as2AABBKxl29bt27UBAgCgW9fuXbx0AwQA0NfvX8CB+wYIAMDwYcSJFRsOEADAY8iRJU9+HCAAAMyZNW/mjDlAAAChRY8mXTp0gAAAVK9m3dq16gABBsymXdv27dkBAgDg3dv3b+C8AwQQUNz/+HHkyYsHCADA+XPo0aU7DxAAwHXs2bVvvx4gAADw4cWPJw8+QAAA6dWvZ98+fYAAAOTPp1/fvvwAAQDs59/fP0AAAgcKDBAAAMKEChcyRBggwICIEidSrBgxQAAAGjdy7OhRY4AAAkaSLGny5MgAAQCwbOnyJUyWAQIAqGnzJs6cNQMEAODzJ9CgQn0GCADgKNKkSpceDRAAANSoUqdShRogAICsWrdy7Zo1QAAAYseSLWtWbIAAA9aybev27doAAQDQrWv3Ll66AQII6Ov3L+DAfQMEAGD4MOLEig0HCADgMeTIkic/DhAAAObMmjdzxhwgAIDQokeTLh06QAAA/6pXs27tWnWAAABm065t+/bsAAEA8O7t+zdw3gECDChu/Djy5MUDBADg/Dn06NKdBwgg4Dr27Nq3Xw8QAAD48OLHkwcfIACA9OrXs2+fPkAAAPLn069vX36AAAD28+/vHyAAgQMFBggAAGFChQsZIgwQAEBEiRMpVowYIAAAjRs5dvSoMUCAASNJljR5cmSAAABYtnT5EibLAAEE1LR5E2fOmgECAPD5E2hQoT4DBABwFGlSpUuPBggAAGpUqVOpQg0QAEBWrVu5ds0aIAAAsWPJljUrNkAAAGvZtnX7dm2AAADo1rV7Fy/dAAEG9PX7F3DgvgECADB8GHFixYYDBP8Q8BhyZMmTHwcIAABzZs2bOWMOEABAaNGjSZcOHSAAANWrWbd2rTpAAACzade2fXt2gAAAePf2/Rs47wABABQ3fhx58uIBAgBw/hx6dOnOAwQYcB17du3brwcIAAB8ePHjyYMPEEBAevXr2bdPHyAAAPnz6de3Lz9AAAD7+ff3DxCAwIECAwQAgDChwoUMEQYIACCixIkUK0YMEACAxo0cO3rUGCAAgJEkS5o8OTJAAAAsW7p8CZNlgAADatq8iTNnzQABAPj8CTSoUJ8BAgg4ijSp0qVHAwQAADWq1KlUoQYIACCr1q1cu2YNEACA2LFky5oVGyAAgLVs27p9uzb/QAAAdOvavYuXboAAAPr6/Qs4cN8AAQAYPow4sWLDAQIMeAw5suTJjwMEAIA5s+bNnDEHCCAgtOjRpEuHDhAAgOrVrFu7Vh0gAIDZtGvbvj07QAAAvHv7/g2cd4AAAIobP448efEAAQA4fw49unTnAQIAuI49u/bt1wMEAAA+vPjx5MEHCDAgvfr17NunDxAAgPz59Ovblx8ggID9/Pv7ByhA4ECBAQIAQJhQ4UKGCAMEABBR4kSKFSMGCABA40aOHT1qDBAAwEiSJU2eHBkgAACWLV2+hMkyQAAANW3exJmzZoAAAHz+BBpUqM8AAQYcRZpU6dKjAQIAgBpV6lSq/1ADBBCQVetWrl2zBggAQOxYsmXNig0QAMBatm3dvl0bIAAAunXt3sVLN0AAAH39/gUcuG+AAAAMH0acWLHhAAEAPIYcWfLkxwECAMCcWfNmzpgDBBgQWvRo0qVDBwgAQPVq1q1dqw4QQMBs2rVt354dIAAA3r19/wbOO0AAAMWNH0eevHiAAACcP4ceXbrzAAEAXMeeXfv26wECAAAfXvx48uADBACQXv169u3TBwgAQP58+vXtyw8QYMB+/v39AxwgcKDAAAEAIEyocCFDhAECCIgocSLFihEDBACgcSPHjh41BggAYCTJkiZPjgwQAADLli5fwmQZIACAmjZv4v/MWTNAAAA+fwINKtRngAAAjiJNqnTp0QABAECNKnUqVagBAgzIqnUr165ZAwQAIHYs2bJmxQYIIGAt27Zu364NEAAA3bp27+KlGyAAgL5+/wIO3DdAAACGDyNOrNhwgAAAHkOOLHny4wABAGDOrHkzZ8wBAgAILXo06dKhAwQAoHo169auVQcIMGA27dq2b88OEAAA796+fwPnHSCAgOLGjyNPXjxAAADOn0OPLt15gAAArmPPrn379QABAIAPL348efABAgBIr349+/bpAwQAIH8+/fr25QcIAGA///7+AQIQOFBggAAAECZUuJAhwgABBkSUOJFixYgBAgDQuJH/Y0ePGgMEEDCSZEmTJ0cGCACAZUuXL2GyDBAAQE2bN3HmrBkgAACfP4EGFeozQAAAR5EmVbr0aIAAAKBGlTqVKtQAAQBk1bqVa9esAQIAEDuWbFmzYgMEGLCWbVu3b9cGCACAbl27d/HSDRBAQF+/fwEH7hsgAADDhxEnVmw4QAAAjyFHljz5cYAAADBn1ryZM+YAAQCEFj2adOnQAQIAUL2adWvXqgMEADCbdm3bt2cHCACAd2/fv4HzDhBgQHHjx5EnLx4gAADnz6FHl+48QAAB17Fn1779eoAAAMCHFz+ePPgAAQCkV7+effv0AQIAkD+ffn378gMEALCff3//bgABCBwoMEAAAAgTKlzIEGGAAAAiSpxIsWLEAAEAaNzIsaNHjQECDBhJsqTJkyMDBADAsqXLlzBZBgggoKbNmzhz1gwQAIDPn0CDCvUZIACAo0iTKl16NEAAAFCjSp1KFWqAAACyat3KtWvWAAEBADs=\"><title>Layer: output (output)\n output range: (0.0, 1.0)\n shape = (10,)\n Keras class = Dense\n activation = softmax</title></image><text x=\"288.0\" y=\"112.0\" font-family=\"monospace\" font-size=\"12\" text-anchor=\"middle\" fill=\"black\" alignment-baseline=\"central\"  transform=\"rotate(-90 288.0 112.0) translate(2)\" >output</text><line x1=\"175.0\" y1=\"164\" x2=\"175.0\" y2=\"137\" stroke=\"black\" stroke-width=\"2\" marker-end=\"url(#arrow)\"><title>Weights from hidden to output\n output/kernel has shape (30, 10)\n output/bias has shape (10,)</title></line><rect x=\"74.0\" y=\"164\" width=\"202\" height=\"52\" style=\"fill:none;stroke:black;stroke-width:2\"/><image id=\"picture-dashboard-MNIST_CNN-733098_hidden-rotated_58\" class=\"picture-dashboard-MNIST_CNN-733098_hidden-rotated\" x=\"75.0\" y=\"165\" height=\"50\" width=\"200\" preserveAspectRatio=\"none\" href=\"data:image/gif;base64,R0lGODdhHgABAIcAAPf7/wgwawhLlL3X6xdkq6fO5EiWyAAAAAAAAAAAAAAAAAAAAAAAAAAAAAAAAAAAAAAAAAAAAAAAAAAAAAAAAAAAAAAAAAAAAAAAAAAAAAAAAAAAAAAAAAAAAAAAAAAAAAAAAAAAAAAAAAAAAAAAAAAAAAAAAAAAAAAAAAAAAAAAAAAAAAAAAAAAAAAAAAAAAAAAAAAAAAAAAAAAAAAAAAAAAAAAAAAAAAAAAAAAAAAAAAAAAAAAAAAAAAAAAAAAAAAAAAAAAAAAAAAAAAAAAAAAAAAAAAAAAAAAAAAAAAAAAAAAAAAAAAAAAAAAAAAAAAAAAAAAAAAAAAAAAAAAAAAAAAAAAAAAAAAAAAAAAAAAAAAAAAAAAAAAAAAAAAAAAAAAAAAAAAAAAAAAAAAAAAAAAAAAAAAAAAAAAAAAAAAAAAAAAAAAAAAAAAAAAAAAAAAAAAAAAAAAAAAAAAAAAAAAAAAAAAAAAAAAAAAAAAAAAAAAAAAAAAAAAAAAAAAAAAAAAAAAAAAAAAAAAAAAAAAAAAAAAAAAAAAAAAAAAAAAAAAAAAAAAAAAAAAAAAAAAAAAAAAAAAAAAAAAAAAAAAAAAAAAAAAAAAAAAAAAAAAAAAAAAAAAAAAAAAAAAAAAAAAAAAAAAAAAAAAAAAAAAAAAAAAAAAAAAAAAAAAAAAAAAAAAAAAAAAAAAAAAAAAAAAAAAAAAAAAAAAAAAAAAAAAAAAAAAAAAAAAAAAAAAAAAAAAAAAAAAAAAAAAAAAAAAAAAAAAAAAAAAAAAAAAAAAAAAAAAAAAAAAAAAAAAAAAAAAAAAAAAAAAAAAAAAAAAAAAAAAAAAAAAAAAAAAAAAAAAAAAAAAAAAAAAAAAAAAAAAAAAAAAAAAAAAAAAAAAAAAAAAAAAAAAAAAAAAAAAAAAAAAAAAAAAAAAAAAAAAAAAAAAAAAAAAAAAAAAAAAAAAAAAAAAAAAAAAAAAAAAAAAAAAAAAAAAAAAAAAAAAAAAAAAAAAAAAAAAAAAAAAAAAACwAAAAAHgABAAAIIwABDAgQAIABAAEABAgAIACAAAAiAgggQACAAQUAAAgQgEBAADs=\"><title>Layer: hidden (hidden)\n output range: (0.0, +Infinity)\n shape = (30,)\n Keras class = Dense\n activation = relu</title></image><text x=\"288.0\" y=\"192.0\" font-family=\"monospace\" font-size=\"12\" text-anchor=\"middle\" fill=\"black\" alignment-baseline=\"central\"  transform=\"rotate(-90 288.0 192.0) translate(2)\" >hidden</text><line x1=\"175.0\" y1=\"244\" x2=\"175.0\" y2=\"217\" stroke=\"black\" stroke-width=\"2\" marker-end=\"url(#arrow)\"><title>Weights from flat to hidden\n hidden/kernel has shape (512, 30)\n hidden/bias has shape (30,)</title></line><rect x=\"74.0\" y=\"244\" width=\"202\" height=\"52\" style=\"fill:none;stroke:black;stroke-width:2\"/><image id=\"picture-dashboard-MNIST_CNN-733098_flat-rotated_59\" class=\"picture-dashboard-MNIST_CNN-733098_flat-rotated\" x=\"75.0\" y=\"245\" height=\"50\" width=\"200\" preserveAspectRatio=\"none\" href=\"data:image/gif;base64,R0lGODdhAAIBAIcAAP78/QAATQEB8QAA0QAAjJWV/wAAcAAAttfX/7i4/4eH/6en/yUl/3l5/+jo/0hI/8jI/2ho/zY2/1hY/xcX/wAAAAAAAAAAAAAAAAAAAAAAAAAAAAAAAAAAAAAAAAAAAAAAAAAAAAAAAAAAAAAAAAAAAAAAAAAAAAAAAAAAAAAAAAAAAAAAAAAAAAAAAAAAAAAAAAAAAAAAAAAAAAAAAAAAAAAAAAAAAAAAAAAAAAAAAAAAAAAAAAAAAAAAAAAAAAAAAAAAAAAAAAAAAAAAAAAAAAAAAAAAAAAAAAAAAAAAAAAAAAAAAAAAAAAAAAAAAAAAAAAAAAAAAAAAAAAAAAAAAAAAAAAAAAAAAAAAAAAAAAAAAAAAAAAAAAAAAAAAAAAAAAAAAAAAAAAAAAAAAAAAAAAAAAAAAAAAAAAAAAAAAAAAAAAAAAAAAAAAAAAAAAAAAAAAAAAAAAAAAAAAAAAAAAAAAAAAAAAAAAAAAAAAAAAAAAAAAAAAAAAAAAAAAAAAAAAAAAAAAAAAAAAAAAAAAAAAAAAAAAAAAAAAAAAAAAAAAAAAAAAAAAAAAAAAAAAAAAAAAAAAAAAAAAAAAAAAAAAAAAAAAAAAAAAAAAAAAAAAAAAAAAAAAAAAAAAAAAAAAAAAAAAAAAAAAAAAAAAAAAAAAAAAAAAAAAAAAAAAAAAAAAAAAAAAAAAAAAAAAAAAAAAAAAAAAAAAAAAAAAAAAAAAAAAAAAAAAAAAAAAAAAAAAAAAAAAAAAAAAAAAAAAAAAAAAAAAAAAAAAAAAAAAAAAAAAAAAAAAAAAAAAAAAAAAAAAAAAAAAAAAAAAAAAAAAAAAAAAAAAAAAAAAAAAAAAAAAAAAAAAAAAAAAAAAAAAAAAAAAAAAAAAAAAAAAAAAAAAAAAAAAAAAAAAAAAAAAAAAAAAAAAAAAAAAAAAAAAAAAAAAAAAAAAAAAAAAAAAAAAAAAAAAAAAAAAAAAAAAAAAAAAAAAAAAAAAAAAAAAAAAAAAAAAAAAAAAAAAAACwAAAAAAAIBAAAI/wABACBAAACAAQgAKEQgAIDDhwkIHIDw4AGABgQQAABgQACAAAYEAAhgAIBJAAwGAFjZIIKAABAELDgAYEIBAQMABGCQIACEAAACEABAlKgBAEgBICgQIAAABwEASJX6IAAACQEABCgQQAAAAAoAAAgAoKxZCRQUAAgAoG1bCQEOHAgAAQCABRAAAHDwAACAAQACCw4AwMEAAAcAKB4AAICBAQAKNACAAACACAIiACgAoDMAAQAKMACgAIACAAwACACw4MCDBQEmAHAAAEAAAAkUAFAAQMCEAAYCJGAgAIBx4wEAAAgAIAGBAAAAOABwIAIAAAMKIJAAoICAAAAEPP9YEAGA+QAAGgCIAAAAAwAAIACYP58AAgANAOgPAADABIAFCjQAAIAAAAACIgB4UAAAgAMAAAgoACAAAAAFAGwMACCBAAAGBAAAYAAAAAMAVD4AAGAAgAESBgBgAMCmAAA5BwDgaUABAAACBDgAsADA0QYSCAA4AMApAAQAAhxIMIABAgAOBgDgCqBBAABhAwAw0ABAAAAAIAAAEMABAAEMEgQoAIAAAAQEAOwVoIABAgABAAQgECAAgAUCAAAgAABABAEAAggAkCAAgAAANDugACDAggECABAIAMB0AAABAKxmHUABAAABAAQAUBvAAwAGIAAYIIGCgAQHAAwnAMAP+PEFABYkCKAAwPPnBwICADs=\"><title>Layer: flat (hidden)\n output range: (-Infinity, +Infinity)\n Keras class = Flatten</title></image><text x=\"288.0\" y=\"272.0\" font-family=\"monospace\" font-size=\"12\" text-anchor=\"middle\" fill=\"black\" alignment-baseline=\"central\"  transform=\"rotate(-90 288.0 272.0) translate(2)\" >flat</text><line x1=\"175.0\" y1=\"324\" x2=\"175.0\" y2=\"297\" stroke=\"black\" stroke-width=\"2\" marker-end=\"url(#arrow)\"><title>Weights from maxpool2 to flat</title></line><rect x=\"74.0\" y=\"324\" width=\"202\" height=\"202\" style=\"fill:none;stroke:black;stroke-width:2\"/><image id=\"picture-dashboard-MNIST_CNN-733098_maxpool2-rotated_60\" class=\"picture-dashboard-MNIST_CNN-733098_maxpool2-rotated\" x=\"75.0\" y=\"325\" height=\"200\" width=\"200\" preserveAspectRatio=\"none\" href=\"data:image/gif;base64,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\"><title>Layer: maxpool2 (hidden)\n output range: (-Infinity, +Infinity)\n Keras class = MaxPooling2D</title></image><text x=\"288.0\" y=\"427.0\" font-family=\"monospace\" font-size=\"12\" text-anchor=\"middle\" fill=\"black\" alignment-baseline=\"central\"  transform=\"rotate(-90 288.0 427.0) translate(2)\" >maxpool2</text><text x=\"88.0\" y=\"310\" font-family=\"monospace\" font-size=\"12\" text-anchor=\"middle\" fill=\"black\" alignment-baseline=\"central\"  transform=\"rotate(-90 88.0 310) translate(2)\" >32</text><text x=\"273.0\" y=\"540\" font-family=\"monospace\" font-size=\"12\" text-anchor=\"middle\" fill=\"black\" alignment-baseline=\"central\"  transform=\"rotate(-90 273.0 540) translate(2)\" >0</text><line x1=\"175.0\" y1=\"554\" x2=\"175.0\" y2=\"527\" stroke=\"black\" stroke-width=\"2\" marker-end=\"url(#arrow)\"><title>Weights from conv2D_2 to maxpool2</title></line><rect x=\"74.0\" y=\"554\" width=\"202\" height=\"202\" style=\"fill:none;stroke:black;stroke-width:2\"/><image id=\"picture-dashboard-MNIST_CNN-733098_conv2D_2-rotated_61\" class=\"picture-dashboard-MNIST_CNN-733098_conv2D_2-rotated\" x=\"75.0\" y=\"555\" height=\"200\" width=\"200\" preserveAspectRatio=\"none\" href=\"data:image/gif;base64,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\"><title>Layer: conv2D_2 (hidden)\n output range: (0.0, +Infinity)\n dropout = 0.2\n Keras class = Conv2D\n activation = relu</title></image><text x=\"288.0\" y=\"657.0\" font-family=\"monospace\" font-size=\"12\" text-anchor=\"middle\" fill=\"black\" alignment-baseline=\"central\"  transform=\"rotate(-90 288.0 657.0) translate(2)\" >conv2D_2</text><text x=\"88.0\" y=\"540\" font-family=\"monospace\" font-size=\"12\" text-anchor=\"middle\" fill=\"black\" alignment-baseline=\"central\"  transform=\"rotate(-90 88.0 540) translate(2)\" >32</text><text x=\"273.0\" y=\"770\" font-family=\"monospace\" font-size=\"12\" text-anchor=\"middle\" fill=\"black\" alignment-baseline=\"central\"  transform=\"rotate(-90 273.0 770) translate(2)\" >0</text><text x=\"62.0\" y=\"560\" font-family=\"monospace\" font-size=\"24.0\" text-anchor=\"middle\" fill=\"black\" alignment-baseline=\"central\"  transform=\"rotate(-90 62.0 560) translate(2)\" >&#10683;</text><line x1=\"175.0\" y1=\"784\" x2=\"175.0\" y2=\"757\" stroke=\"black\" stroke-width=\"2\" marker-end=\"url(#arrow)\"><title>Weights from maxpool1 to conv2D_2\n conv2D_2/kernel has shape (5, 5, 16, 32)\n conv2D_2/bias has shape (32,)</title></line><rect x=\"74.0\" y=\"784\" width=\"202\" height=\"202\" style=\"fill:none;stroke:black;stroke-width:2\"/><image id=\"picture-dashboard-MNIST_CNN-733098_maxpool1-rotated_62\" class=\"picture-dashboard-MNIST_CNN-733098_maxpool1-rotated\" x=\"75.0\" y=\"785\" height=\"200\" width=\"200\" preserveAspectRatio=\"none\" href=\"data:image/gif;base64,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\"><title>Layer: maxpool1 (hidden)\n output range: (-Infinity, +Infinity)\n Keras class = MaxPooling2D</title></image><text x=\"288.0\" y=\"887.0\" font-family=\"monospace\" font-size=\"12\" text-anchor=\"middle\" fill=\"black\" alignment-baseline=\"central\"  transform=\"rotate(-90 288.0 887.0) translate(2)\" >maxpool1</text><text x=\"88.0\" y=\"770\" font-family=\"monospace\" font-size=\"12\" text-anchor=\"middle\" fill=\"black\" alignment-baseline=\"central\"  transform=\"rotate(-90 88.0 770) translate(2)\" >16</text><text x=\"273.0\" y=\"1000\" font-family=\"monospace\" font-size=\"12\" text-anchor=\"middle\" fill=\"black\" alignment-baseline=\"central\"  transform=\"rotate(-90 273.0 1000) translate(2)\" >0</text><line x1=\"175.0\" y1=\"1014\" x2=\"175.0\" y2=\"987\" stroke=\"black\" stroke-width=\"2\" marker-end=\"url(#arrow)\"><title>Weights from conv2D_1 to maxpool1</title></line><rect x=\"74.0\" y=\"1014\" width=\"202\" height=\"202\" style=\"fill:none;stroke:black;stroke-width:2\"/><image id=\"picture-dashboard-MNIST_CNN-733098_conv2D_1-rotated_63\" class=\"picture-dashboard-MNIST_CNN-733098_conv2D_1-rotated\" x=\"75.0\" y=\"1015\" height=\"200\" width=\"200\" preserveAspectRatio=\"none\" href=\"data:image/gif;base64,R0lGODdhGAAYAIcAAPX5/tXk87TT6Mfb7+Lt+KTM4pLD3pzI4Ger1E2ZyXq22Fuj0IW82wAAAAAAAAAAAAAAAAAAAAAAAAAAAAAAAAAAAAAAAAAAAAAAAAAAAAAAAAAAAAAAAAAAAAAAAAAAAAAAAAAAAAAAAAAAAAAAAAAAAAAAAAAAAAAAAAAAAAAAAAAAAAAAAAAAAAAAAAAAAAAAAAAAAAAAAAAAAAAAAAAAAAAAAAAAAAAAAAAAAAAAAAAAAAAAAAAAAAAAAAAAAAAAAAAAAAAAAAAAAAAAAAAAAAAAAAAAAAAAAAAAAAAAAAAAAAAAAAAAAAAAAAAAAAAAAAAAAAAAAAAAAAAAAAAAAAAAAAAAAAAAAAAAAAAAAAAAAAAAAAAAAAAAAAAAAAAAAAAAAAAAAAAAAAAAAAAAAAAAAAAAAAAAAAAAAAAAAAAAAAAAAAAAAAAAAAAAAAAAAAAAAAAAAAAAAAAAAAAAAAAAAAAAAAAAAAAAAAAAAAAAAAAAAAAAAAAAAAAAAAAAAAAAAAAAAAAAAAAAAAAAAAAAAAAAAAAAAAAAAAAAAAAAAAAAAAAAAAAAAAAAAAAAAAAAAAAAAAAAAAAAAAAAAAAAAAAAAAAAAAAAAAAAAAAAAAAAAAAAAAAAAAAAAAAAAAAAAAAAAAAAAAAAAAAAAAAAAAAAAAAAAAAAAAAAAAAAAAAAAAAAAAAAAAAAAAAAAAAAAAAAAAAAAAAAAAAAAAAAAAAAAAAAAAAAAAAAAAAAAAAAAAAAAAAAAAAAAAAAAAAAAAAAAAAAAAAAAAAAAAAAAAAAAAAAAAAAAAAAAAAAAAAAAAAAAAAAAAAAAAAAAAAAAAAAAAAAAAAAAAAAAAAAAAAAAAAAAAAAAAAAAAAAAAAAAAAAAAAAAAAAAAAAAAAAAAAAAAAAAAAAAAAAAAAAAAAAAAAAAAAAAAAAAAAAAAAAAAAAAAAAAAAAAAAAAAAAAAAAAAAAAAAAAAAAAAAAAAAAAAAAAAAAAAAAAAAAAAAAAAAAAAAAAAAAACwAAAAAGAAYAEAI/wABCBxIsKDBgwIFGBBAAIBDAAQIAAAQwIAAABgzZiSQAIEAAgBCihwJwMACAChRGihAAIDLlzBjynQZgAAAAAEOGAgAoGfPAAUEEABAtKjRo0gBBFAAoGnTAQEASJ1KtapVAAEGEADAtavXAQMAiB1LVgCCAQDSAiiAIACAtwMMCABAt25dAQYE6A1AAIDfvwACKCgAoLDhAAICAFjMuDHjAAkASJ5MubJlyQEAaNZMAIDnz6BDi/ZcQACA06hTq14N4ICBAABiy54dIACA27hzDxgQAIDv378HFAgAoLhx4wIQCADAnHmBAACiHzgQAID169YDCADAHcAABAcAiFwXX6BAAADo06MfMCBAgAICBhAAQL++gAMDAOjfD0DBAoAHBgQAUNDgQQUMACxkGICBAAIAJE6kKFFAAgAZNRIIQADAR5AhQQZIAMDkSZQpVZoUAMDlS5gxZb4MCAA7\"><title>Layer: conv2D_1 (hidden)\n output range: (0.0, +Infinity)\n dropout = 0.2\n Keras class = Conv2D\n activation = relu</title></image><text x=\"288.0\" y=\"1117.0\" font-family=\"monospace\" font-size=\"12\" text-anchor=\"middle\" fill=\"black\" alignment-baseline=\"central\"  transform=\"rotate(-90 288.0 1117.0) translate(2)\" >conv2D_1</text><text x=\"88.0\" y=\"1000\" font-family=\"monospace\" font-size=\"12\" text-anchor=\"middle\" fill=\"black\" alignment-baseline=\"central\"  transform=\"rotate(-90 88.0 1000) translate(2)\" >16</text><text x=\"273.0\" y=\"1230\" font-family=\"monospace\" font-size=\"12\" text-anchor=\"middle\" fill=\"black\" alignment-baseline=\"central\"  transform=\"rotate(-90 273.0 1230) translate(2)\" >0</text><text x=\"62.0\" y=\"1020\" font-family=\"monospace\" font-size=\"24.0\" text-anchor=\"middle\" fill=\"black\" alignment-baseline=\"central\"  transform=\"rotate(-90 62.0 1020) translate(2)\" >&#10683;</text><line x1=\"175.0\" y1=\"1244\" x2=\"175.0\" y2=\"1217\" stroke=\"black\" stroke-width=\"2\" marker-end=\"url(#arrow)\"><title>Weights from input to conv2D_1\n conv2D_1/kernel has shape (5, 5, 1, 16)\n conv2D_1/bias has shape (16,)</title></line><rect x=\"74.0\" y=\"1244\" width=\"202\" height=\"202\" style=\"fill:none;stroke:black;stroke-width:2\"/><image id=\"picture-dashboard-MNIST_CNN-733098_input-rotated_64\" class=\"picture-dashboard-MNIST_CNN-733098_input-rotated\" x=\"75.0\" y=\"1245\" height=\"200\" width=\"200\" preserveAspectRatio=\"none\" href=\"data:image/gif;base64,R0lGODdhHAAcAIcAAAAAAPv7+xUVFVVVVampqbm5uSgoKMfHx4aGhpiYmEREROTk5NjY2Hl5eTU1NWtrawAAAAAAAAAAAAAAAAAAAAAAAAAAAAAAAAAAAAAAAAAAAAAAAAAAAAAAAAAAAAAAAAAAAAAAAAAAAAAAAAAAAAAAAAAAAAAAAAAAAAAAAAAAAAAAAAAAAAAAAAAAAAAAAAAAAAAAAAAAAAAAAAAAAAAAAAAAAAAAAAAAAAAAAAAAAAAAAAAAAAAAAAAAAAAAAAAAAAAAAAAAAAAAAAAAAAAAAAAAAAAAAAAAAAAAAAAAAAAAAAAAAAAAAAAAAAAAAAAAAAAAAAAAAAAAAAAAAAAAAAAAAAAAAAAAAAAAAAAAAAAAAAAAAAAAAAAAAAAAAAAAAAAAAAAAAAAAAAAAAAAAAAAAAAAAAAAAAAAAAAAAAAAAAAAAAAAAAAAAAAAAAAAAAAAAAAAAAAAAAAAAAAAAAAAAAAAAAAAAAAAAAAAAAAAAAAAAAAAAAAAAAAAAAAAAAAAAAAAAAAAAAAAAAAAAAAAAAAAAAAAAAAAAAAAAAAAAAAAAAAAAAAAAAAAAAAAAAAAAAAAAAAAAAAAAAAAAAAAAAAAAAAAAAAAAAAAAAAAAAAAAAAAAAAAAAAAAAAAAAAAAAAAAAAAAAAAAAAAAAAAAAAAAAAAAAAAAAAAAAAAAAAAAAAAAAAAAAAAAAAAAAAAAAAAAAAAAAAAAAAAAAAAAAAAAAAAAAAAAAAAAAAAAAAAAAAAAAAAAAAAAAAAAAAAAAAAAAAAAAAAAAAAAAAAAAAAAAAAAAAAAAAAAAAAAAAAAAAAAAAAAAAAAAAAAAAAAAAAAAAAAAAAAAAAAAAAAAAAAAAAAAAAAAAAAAAAAAAAAAAAAAAAAAAAAAAAAAAAAAAAAAAAAAAAAAAAAAAAAAAAAAAAAAAAAAAAAAAAAAAAAAAAAAAAAAAAAAAAAAAAAAAAAAAAAAAAAAAAAAAAAAAAAAAAAAAAAAAAAAAAAAAAAAAAAAAAAAAAAACwAAAAAHAAcAEAI/wABCBxIsKDBgwUFEBgAoKFDAAIKBDhQAIDFixgxJgjAMQECACBDgmwQoKQAAChTqlzJsqXLBgoAyJxJs6bNmgICBCgAoCcAAgEKCACAIECAAwCSKl2q1IEAAFCjSo1KIEAAAFizat3KtavXAAEcABhLtqzZs2URBFibAIBbAA0CyJV7AIDdu3jtCgjA98CAAgECDABAGECCAAEOAFjMuDEAAwECJABAubJlAAoCBEAAoLPnz6BDgyYQAIDp06hTq17NurXr17BjAwhwwACA27hz696dm0CAAQCCCxeuAIDx48iTE1gwAIDz5wISBJgeQAGA69izX28QoLsBAOAfBIEIMABAgQABBgBYz749AAEBAhwAQF/BggAGAAAwsCBAAIADAAwkWBAAgQAJExYwAMChQwMMAgRAAMDiRYwDAgR4AMDjR5ACGAQIgADASZQoBSxgMADAS5gxAQhgEIABAJw5de7kqVPAggAAhA4lWtRoUQcIACxl2tTpU6hRpU5tGhAAOw==\"><title>Layer: input (input)\n output range: (0.0, 1.0)\n shape = (28, 28, 1)\n Keras class = Input</title></image><text x=\"288.0\" y=\"1347.0\" font-family=\"monospace\" font-size=\"12\" text-anchor=\"middle\" fill=\"black\" alignment-baseline=\"central\"  transform=\"rotate(-90 288.0 1347.0) translate(2)\" >input</text><text x=\"88.0\" y=\"1230\" font-family=\"monospace\" font-size=\"12\" text-anchor=\"middle\" fill=\"black\" alignment-baseline=\"central\"  transform=\"rotate(-90 88.0 1230) translate(2)\" >1</text><text x=\"273.0\" y=\"1460\" font-family=\"monospace\" font-size=\"12\" text-anchor=\"middle\" fill=\"black\" alignment-baseline=\"central\"  transform=\"rotate(-90 273.0 1460) translate(2)\" >0</text><text x=\"18\" y=\"735.0\" font-family=\"monospace\" font-size=\"15\" text-anchor=\"middle\" fill=\"black\" alignment-baseline=\"central\"  transform=\"rotate(-90 18 735.0) translate(2)\" >MNIST_CNN</text></svg></g></svg></p></td>\n</tr>\n<tr>\n  <td valign=\"top\" align=\"center\"><p style=\"text-align:center\"><b>conv2D_1 features</b></p><table><tr><td style=\"border: 1px solid black;\"><img style=\"image-rendering: pixelated;\" class=\"MNIST_CNN_conv2D_1_feature0\" src=\"data:image/gif;base64,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\"/><br/><center>Feature 0</center></td><td style=\"border: 1px solid black;\"><img style=\"image-rendering: pixelated;\" class=\"MNIST_CNN_conv2D_1_feature1\" src=\"data:image/gif;base64,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\"/><br/><center>Feature 1</center></td><td style=\"border: 1px solid black;\"><img style=\"image-rendering: pixelated;\" class=\"MNIST_CNN_conv2D_1_feature2\" src=\"data:image/gif;base64,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\"/><br/><center>Feature 2</center></td><td style=\"border: 1px solid black;\"><img style=\"image-rendering: pixelated;\" class=\"MNIST_CNN_conv2D_1_feature3\" src=\"data:image/gif;base64,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\"/><br/><center>Feature 3</center></td><td style=\"border: 1px solid black;\"><img style=\"image-rendering: pixelated;\" class=\"MNIST_CNN_conv2D_1_feature4\" src=\"data:image/gif;base64,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\"/><br/><center>Feature 4</center></td><td style=\"border: 1px solid black;\"><img style=\"image-rendering: pixelated;\" class=\"MNIST_CNN_conv2D_1_feature5\" src=\"data:image/gif;base64,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\"/><br/><center>Feature 5</center></td><td style=\"border: 1px solid black;\"><img style=\"image-rendering: pixelated;\" class=\"MNIST_CNN_conv2D_1_feature6\" src=\"data:image/gif;base64,R0lGODdhYABgAIcAAPb6/tXl87fU6cfb7+Lt96XM45vI4IW823e02JXF3mer1AAAAAAAAAAAAAAAAAAAAAAAAAAAAAAAAAAAAAAAAAAAAAAAAAAAAAAAAAAAAAAAAAAAAAAAAAAAAAAAAAAAAAAAAAAAAAAAAAAAAAAAAAAAAAAAAAAAAAAAAAAAAAAAAAAAAAAAAAAAAAAAAAAAAAAAAAAAAAAAAAAAAAAAAAAAAAAAAAAAAAAAAAAAAAAAAAAAAAAAAAAAAAAAAAAAAAAAAAAAAAAAAAAAAAAAAAAAAAAAAAAAAAAAAAAAAAAAAAAAAAAAAAAAAAAAAAAAAAAAAAAAAAAAAAAAAAAAAAAAAAAAAAAAAAAAAAAAAAAAAAAAAAAAAAAAAAAAAAAAAAAAAAAAAAAAAAAAAAAAAAAAAAAAAAAAAAAAAAAAAAAAAAAAAAAAAAAAAAAAAAAAAAAAAAAAAAAAAAAAAAAAAAAAAAAAAAAAAAAAAAAAAAAAAAAAAAAAAAAAAAAAAAAAAAAAAAAAAAAAAAAAAAAAAAAAAAAAAAAAAAAAAAAAAAAAAAAAAAAAAAAAAAAAAAAAAAAAAAAAAAAAAAAAAAAAAAAAAAAAAAAAAAAAAAAAAAAAAAAAAAAAAAAAAAAAAAAAAAAAAAAAAAAAAAAAAAAAAAAAAAAAAAAAAAAAAAAAAAAAAAAAAAAAAAAAAAAAAAAAAAAAAAAAAAAAAAAAAAAAAAAAAAAAAAAAAAAAAAAAAAAAAAAAAAAAAAAAAAAAAAAAAAAAAAAAAAAAAAAAAAAAAAAAAAAAAAAAAAAAAAAAAAAAAAAAAAAAAAAAAAAAAAAAAAAAAAAAAAAAAAAAAAAAAAAAAAAAAAAAAAAAAAAAAAAAAAAAAAAAAAAAAAAAAAAAAAAAAAAAAAAAAAAAAAAAAAAAAAAAAAAAAAAAAAAAAAAAAAAAAAAAAAAAAAAAAAAAAAAAAAAAAAAAAAAAAAAAAAAAAAAAAAAAAAAAAAAAAAAAAAAAAAAAAAAAAAAAAAAAACwAAAAAYABgAEAI/wABCBxIsKDBgwgTKlzIsKHDhxAjSpxIsaLFixgJEthIIIDHjx4FiBQQoKTJkgRSqkw5oOWAAjALCJgpYIDNAQFyBhjAc4CAnwICCA0AoKjRo0iTKj0aoGkAAVAFFJha4IDVAwiyIjDA1UCArwEAiB0rNoDZs2YBqF3Ltq3bt3Djyo1LoC4BAXgFFNhbIIDfAAACCx5MuLDhw4gTK15cmIBjAgIiS448oPKAAJgDANjMubPnz6BDix5NuvTnAKgDCFgtIIHrBAZiGwhAOwCA27hz697Nu7fv38CDCx9OvLjx48IDKA8woLnz5gGiBwBAvbr169iza9/OfXuA7wEGiP8fIKC8+fPlA6gPAKC9+/fw48ufP5+AfQIB8gcQwF9AAYAFBBogWJBgAYQFBCwUEMBhAAARJU6kWNHiRYwZNW7k2NHjR5AhRY4kWdLkSAIpVaYE0NJlSwExBRigaaDAzQIBdAYA0NPnT6BBhQYgGsDAUQMHlB5Q0FQBAqgIBEwVEMBqAABZAQzgOiDB1wQCxAoIUDYAAbQEAKxl29btW7hx5bINUNdu3QF5ByTgm6DA3wIBBAcAUNjwYcSJFS9m3Njx48QDJA8oULnAAMwDAGzm3NnzZ9ChRY8mXXp0ANQBBKwWUMD1a9cDZA8AUNv2bdy5de/m3dv3794BhA8nLhz/wHHkyZUvZ97c+XPo0aUrD1A9AAHsBABs597d+3fw4cWPJ/89wPkAA9QPENDe/fv2AeQHAFDf/n38+fXv56+fAEACAgMQDCDgIMKECgUEaBgAAMSIEidSrGjxYsQAGgMU6FjgAMgDCEaSHHng5IECKgsMaDmAAEwCAGbSrGnzJs6cOnfy7OnzJ9CgQocSLWr0KNKkSpcyber0KdSoUpkSqGq1KoCsWrMK6CrAAFgDBcYWCGA2AIC0ateybeuWAFwCAebSnSvgroAAevfqJeD3r98BggcUKFxAAGIBAxYPCOA4wIDIAwRQFhDgcgAAmjdz7uz5M+cAogMYKG3gAOoD/wpWK0DgGoGA2AIC0A4A4DaAAboHJOidQABwAQGGByBgnACA5MqXM2/u/PnzANIDCKguoAD2Age2H0DgHYGB8AYCkA8A4Dz68wHWs18P4D38+PLn069v/z6AAPr36x/gH+CABAMTFDBYIEDCAAAYNnT4EGJEiRMpVrTIkEBGAgI4CijwsUAAkQEAlDR5EmVKlStZtnT5MuUAmQMK1CwwAOcAADt59vT5E2hQoUOJFv1JACkBAUuZLh3wdEAAqQEAVLV6FWtWrVu5dvX6tWoAsQEElBVQAG1atAPYDgDwFm5cuXPp1rV7F2/etwH4BhDwV0ACwQkMFDYQAHEAAIsZN/92/BhyZMmTKVd+HABzZs2YAXT2/Bl0aNGjSZc2fRp1atWrWbd23TlA7AAEaBMAcBt3bt27eff2/Rt48NsBiAcYcBz58QDLAwBw/hx6dOnTqVe3fl16AO0BBnQfIAB8ePHgA5QPAAB9evXr2bd3/x7++wDzAwywP0BAfv378wfwDzAAgIEECxo8iDChwoUGCTgkECBiAAEUK1q8KCCAxgAAOnr8CDKkyJEkRRI4SSCAygACWgooALOAgZk0Zxa4WUCATgEBegYAADSo0KFEixo9ihRAgKUBCjgtcCDqAQRUq1I9gPVAga0FBngdQCAsAQBky5o9izat2rVs27p9Czf/rty5dOvavYs3r969fPv6/Qs4sODBhAsbPow4seLFjBs7fjyYgOTJkgFYvmxZgGYBBjobKAC6QIDRAQCYPo06terVrFu7bk0gtuzYAGrbri0gtwADvA0U+F0ggPAAAIobP448uXICzAkEeA79uYDpAgJYv26dgPbt2gd4H1AgfAEB5AUMOD8ggPoAA9oPEABfQID5AQDYv48/v/79+An4B0ggwECCAwUcFBBA4UKFBBw+dDhA4oACFQsIwChgwMYBATwGGBBygACSAgKcDABA5UqWLV2+ZBlAZgADNQ0cwHlAwU4FCHwiEBBUQACiAQAcBTBA6YAETRMIgCogwNQA/wSsEgCQVetWrl29fv0aQGwAA2UNHEB7QMFaBQjcIhAQV0AAugEA3AUwQO+ABH0TCAAsIMDgAAQMEwCQWPFixo0dP34cQHIAAZUFFMBc4MDmAwg8IzAQ2kAA0gEAnEZ9OsBq1qsBvIYdW/Zs2rVt0w6QO4AA3gIK/C5wQPgBBMURGEBuIMDyAACcP3ceQPp06QCsX8eeXft27t29AwgQXnz4AeUHJECfoMD6AgHcBwAQX/58+vXt38efX3/9AP39AwwQYADBAQkOJiigsECAhgEAQIwocSLFihYvYsyoESKBjgQEgBRQYGSBACYDAEipciXLli5fwowpc2ZKAjYJCP/IKaAAzwIBfgYAIHQo0aJGjyJNqnQpU6MDng4oILXAgKoDAGDNqnUr165ev4INK5brgLIDCqAtMGDtAABu38KNK3cu3bp27+KVS2AvAQF+//odIHhAgMIBACBOrHgx48aOH0OODJkAZQICLmO+PGDzgACeAwAILXo06dKmT6NOrXp16ACuAwiILaAA7dq0B+AeAGA3796+fwMPLnw48eEBjgcQoFxAgebOmw+IPgAA9erWr2PPrn079+7eqQcIH0AAeQEJzicwoN5AgPYBAMCPL38+/fr27+PPjz8A/wACAAoQmIBgAgMHDQRQGABAQ4cPIUaUOJFiRYsXIwbQuJH/o0YAH0GGFDmSZEmTJ1GmHBmAZUuXLAHElDmTZk2bN3Hm1LmTZ0+fP4EGFTqUaFGjOwMkDUCAKQEAT6FGlTqValWrV7FmvRqAawACXwkAEDuWbFmzZ9GmVbuWrdgAbwMMkDtXbgC7AQDk1buXb1+/fwEHFjw4bwDDAQYkVpw4QOMAACBHljyZcmXLlzFnphyAc4ABnwcIED2atOgApwMAUL2adWvXr2HHlj3bdQDbAQbkHiCAd2/fvAMEDwCAeHHjx5EnV76c+fIAzwMMkD5AQHXr16sH0B4AQHfv38GHFz+efHnz4QOkDzCA/QAB7+HHfx+AfgAA9/Hn17+ff3//5QABCBxIsCCBgwQCKAwgoKHDhxAFBJgYAIDFixgzatzIsaPHjxYJiCQQoGQAAShTqlwpIIDLAABiypxJs6bNmzhtEthJIIDPAAKCCihAtICBo0iPFlhaQIBTAQGiBgBAtarVq1izat3K9SqBrwQCiA0goKyAAmgLGFjLdm2BtwUEyBUQoG4AAHjz6t3Lt6/fv4ABBBgcoIDhAgcSH0DAuDHjA5APFJhcYIDlAQQyEwDAubPnz6BDix5N+nOA0wEKqC5woPUBBLBjwz5A+0CB2wUG6B5AoDcBAMCDCx9OvLjx48gBBAQAOw==\"/><br/><center>Feature 6</center></td><td style=\"border: 1px solid black;\"><img style=\"image-rendering: pixelated;\" class=\"MNIST_CNN_conv2D_1_feature7\" src=\"data:image/gif;base64,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\"/><br/><center>Feature 7</center></td></tr><tr><td style=\"border: 1px solid black;\"><img style=\"image-rendering: pixelated;\" class=\"MNIST_CNN_conv2D_1_feature8\" src=\"data:image/gif;base64,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\"/><br/><center>Feature 8</center></td><td style=\"border: 1px solid black;\"><img style=\"image-rendering: pixelated;\" class=\"MNIST_CNN_conv2D_1_feature9\" src=\"data:image/gif;base64,R0lGODdhYABgAIcAAPb6/uLt+Nfm9Mfc70uYybXT6Sd3uJDC3RlnrTqKwXWz12Wp01ihzpvI4KTM4oS72wpUng9aozODvgAAAAAAAAAAAAAAAAAAAAAAAAAAAAAAAAAAAAAAAAAAAAAAAAAAAAAAAAAAAAAAAAAAAAAAAAAAAAAAAAAAAAAAAAAAAAAAAAAAAAAAAAAAAAAAAAAAAAAAAAAAAAAAAAAAAAAAAAAAAAAAAAAAAAAAAAAAAAAAAAAAAAAAAAAAAAAAAAAAAAAAAAAAAAAAAAAAAAAAAAAAAAAAAAAAAAAAAAAAAAAAAAAAAAAAAAAAAAAAAAAAAAAAAAAAAAAAAAAAAAAAAAAAAAAAAAAAAAAAAAAAAAAAAAAAAAAAAAAAAAAAAAAAAAAAAAAAAAAAAAAAAAAAAAAAAAAAAAAAAAAAAAAAAAAAAAAAAAAAAAAAAAAAAAAAAAAAAAAAAAAAAAAAAAAAAAAAAAAAAAAAAAAAAAAAAAAAAAAAAAAAAAAAAAAAAAAAAAAAAAAAAAAAAAAAAAAAAAAAAAAAAAAAAAAAAAAAAAAAAAAAAAAAAAAAAAAAAAAAAAAAAAAAAAAAAAAAAAAAAAAAAAAAAAAAAAAAAAAAAAAAAAAAAAAAAAAAAAAAAAAAAAAAAAAAAAAAAAAAAAAAAAAAAAAAAAAAAAAAAAAAAAAAAAAAAAAAAAAAAAAAAAAAAAAAAAAAAAAAAAAAAAAAAAAAAAAAAAAAAAAAAAAAAAAAAAAAAAAAAAAAAAAAAAAAAAAAAAAAAAAAAAAAAAAAAAAAAAAAAAAAAAAAAAAAAAAAAAAAAAAAAAAAAAAAAAAAAAAAAAAAAAAAAAAAAAAAAAAAAAAAAAAAAAAAAAAAAAAAAAAAAAAAAAAAAAAAAAAAAAAAAAAAAAAAAAAAAAAAAAAAAAAAAAAAAAAAAAAAAAAAAAAAAAAAAAAAAAAAAAAAAAAAAAAAAAAAAAAAAAAAAAAAAAAAAAAAAAAAAAAAAAAAAAAAAAAAAAAAAAAAAAAAACwAAAAAYABgAEAI/wABCBxIsKDBgwgTKlzIsKHDhxAjSpxIsaLFiQ0yNjjA8UCBjwUCiAwAoKTJkyhTqly5coDLAQtiLmBAkwGBmwQM6NypM4HPBA+CPjhA9ICDow4GKB0QoGkAAFCjSp1KteqAqwMKaC0goKvXr10PiD2woOyCB2gfFFhbwIFbBwPiDhBAVwCAu3jz6t3Lt6/fv4ADCx5MuLDhw4gTK17MN4DjAAIiCwhAOQCAy5gzawYQoHMAAKBDix5NurTp06hTq0bNoDWDBbAXFJhdAIDt27hz697Nu7fv37oVCFdgoLgBBMgRJFieoIHzBgKiCwBAvbr169iza9/OHcCB7wcMiP83EKF8BAToERBYT+CA+wMD4g8AQL++/fv48+vXH6B/AIAHBB4gUJCAAYQGECxkuFDCQwkKJCoYUHFAAIwBAGzk2NHjR5AhRY4kWdLkSZQpVa5k2XJkAJgBBMwUAMDmTZw5de7k2dNnzwFBByggqmDB0QUKlCog0NRpUwVRFQygOgDAVaxZtW7lKsCrgAJhCzgg60DAWbRnGaxlYMCtAQJxCTCgy4DAXQIL9C5o0LdBAMCBAQMgXNjwYcSJFRsO0DgAAMiRJU8GIMDyZcsANG/m3NnzZ9ChRY8mXdr0adSpVacO0DqAANgCAswOAMD2bdy5de/m3dv3b+DBgwsgLqD/wPECA5QPANDc+XPo0aVPp17devUA2QMQ4E4AwXcEDMQzKFC+AAD06dWvZ9/e/Xv47xXMV4DAPgII+SEg4I+AAEACAhsQbCDgoAAAChcybOjwIcSIDx1QdGDgogEIGiFE6BghAcgEB0YeGGByQICUAQCwbOnyJcyYMl0GqBmgAM4CC3YuSODzJ1CfBIYSeGD0QYGkBQQwFQDgKdSoUqdSrWr1KtasWrdy7er1K9iwYseSLWv2LNq0WwOwDSDgrQAAcufSrWv3Lt68evfytdvgb4MDgg8UKFwgAOIAABYzbuz4MeTIkic7HmB5gILMChZwXqDgswICokeLVmBawYDU/wMAsG7t+jXs2LJntx5ge8CC3AsY8GZA4DcBA8KHC09gPMGD5A8OMD/g4LmDAdIHBKgeAAD27Nq3c+8u4LuAAuILOCjvQAD69OgZsGdg4L0BAvIJMKjPgAB+Agv2L2jgH2CDAAMJDgRwEGFChQsZNkw4AOKAAhMLCLB4EaPFAxsPLPC44EHIBwVIFnBw0sEAlQMEtBQAAGZMmTNp1rR5M2YAnQEA9PT5EygAAUOJDgVwFGlSpUuZNnX6FGpUqVOpVrV6FWtWrVu5dvX6FezRAGMDCDArIEDaAADYtnX7Fm5cuXPp1rXLNkDeAAL4CgjwNwAAwYMJFwYQAHEAAIsZN/92/BhyZMmTKVeeLACzgAKbCwzwPABAaNGjSZc2fRp1atWrSzNwzWBB7AUFaBcAcBt3bt27eff2/Rv47wDDAxAwTgBBcgQMmDMo8LwAAOnTqVe3fh17du3brSvwrsBAeAMIyCNIcD5BA/UNBLQXAAB+fPnz6de3fx//fQX7FSDwDxABhIEQEBhEQCAhgQYMGwh4KACAxIkUK1q8iDGjxooHOh4wANJAhJEREJhEQCAlgQMsDwx4OQCAzJk0a9q8iTOnzpoOejowANQAhKEQIhiNkCBpggNMDwx4OiCA1AAAqlq9ijWr1q1crQb4GuCA2AMEyhIwgNYAgrVs10p4K0H/gVwFA+oOCIA3AIC9fPv6/Qs4sGC+AQoHKIC4wILFCxI4fgzZMYHJBB5YflAgcwEBnAUA+Aw6tOjRpEubPo06terVrFu7fg07tuzZtGvbvo07t+7dvHv7/g08uHDRAYoHEIBcAIDlzJs7fw49uvTp1KtPD4A9gIDtAgB4/w4+vPjx5MubP49efIP1DQ64P1AgfoEA9AMAuI8/v/79/Pv7BwhA4ECCBQ0ePNhAYYMDDQ8UgFggwMQAACxexJhR40aOHT1mHBBygAKSChacXKBApQICLV22VBBTwQCaAwDcxJlT506ePX3+9DlA6AAFRRUsQLpAwVIFBJw+dapAqoIB/1UHAMCaVetWrl29fs06QOyABWUXMEDLgMBaAgbcvnWbQG6CB3UfHMB7wMFeBwP8DggQOAAAwoUNH0acWPHiwgMcD1gQeQEDygwIXCZgQPNmzQk8J3gQ+sEB0gccnHYwQPWAAK0DAIAdW/Zs2rUF3BZQQHcBB70dCAAeHDgD4gwMHDdAQDkBBs0ZEIBOYMH0BQ2sNwiQXXt2AN29fwcfXvz47wLMCyiQvoAD9g4EvIf/nsF8BgbsGyCQnwAD/gwIACQgcAHBBQ0ONgigcKFCAA4fQowocSJFiAMuDiigsYCAjh4/djwg8sCCkgseoHxQYGUBBy4dDIg5QABNAQBu4v/MqXMnz54+cQ4IOqAA0QICjiJNevQA0wMLni54IPVBgaoFHGB1MGDrAAFeBQAIK3Ys2bJmz6IVG2BtAABu38KNC0AA3bp0AeDNq3cv375+/wIOjDcA4QAADiNOrBiAgMaOGwOILHky5cqWL2POrHkz586eP4MOLXo06dKmT6NOrXo169auX8OOLXt25AC2AwjILSAA7wAAfgMPLnw48eLGjyNPPjwA8wACngsIID0AgOrWr2PPrn079+7ev1cPID6AgPICAqAPAGA9+/buAQSIHwAA/fr27+PPr38///0BAAYQKICggAAHAwBQuJBhQwABIAYAMJFiRYsXMWbUuJH/Y8eNAkAKKDCywACTAwCkVLmSZUuXL2HGlDmzpQCbAgrkLDCA5wAAP4EGFTqUaFGjR5EmHcqAKYMFTxcUkFoAQFWrV7Fm1bqVa1evX7MyEMtgQdkFBdAWALCWbVu3b+HGlTuX7twAdwMQ0EsAQV8EDAAzKDC4AADDhxEnVryYcWPHjx0HkByAQGUCCDAjYLCZQQHPBQCEFj2adGnTp1GnVl1aQWsFBmAbQDAbQQLbCRrkbiCAtwAAv4EHFz6ceHHjx5EPV7BcgQHnBhBER5CAeoIG1xsI0C4AQHfv38GHFz+efHnyCtArQLAeAQT3EBDER0CAPoEG9xsI0C8AQH///wABCBxIsKDBgwgTKjyooKECBBARQJgIAYFFBAQyEmjAsYGAjwIAiBxJsqTJkyhTqix5oOUBAzANRJgZAYFNBARyEjjA88CAnwMACB1KtKjRo0iTKl0q9IDTAwaiGohANQKCqwgIaCVwoOuBAWAHABhLtqzZs2jTql1r1oFbBwbiGoBAF0KEuxES6E1woO+BAYAHBBgcAIDhw4gTK17MuLHjxg4iOzBA2QCEyxAiaI6QoHOCA6APDBg9IIDpAABSq17NurXr17BVB5gd4IDtAwRyEzDA2wCC38B/SxguQYFxBQOSDwjAPACA59CjS59Ovbr16wACaA9woPsBAuAJGHUYbwCB+fPmJaiXoKC9ggHwBwSYHwCA/fv48+vfz7//fYABBAYoULDAAoQLEixk2HAhAYgEHkx8UMBiAQEZBQDg2NHjR5AhRY4kCSDAyQAFVBZY0HJBApgxZcIkUJPAA5wPCuwsIMCnAABBhQ4lWtToUaRCAwIAOw==\"/><br/><center>Feature 9</center></td><td style=\"border: 1px solid black;\"><img style=\"image-rendering: pixelated;\" class=\"MNIST_CNN_conv2D_1_feature10\" src=\"data:image/gif;base64,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\"/><br/><center>Feature 10</center></td><td style=\"border: 1px solid black;\"><img style=\"image-rendering: pixelated;\" class=\"MNIST_CNN_conv2D_1_feature11\" src=\"data:image/gif;base64,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\"/><br/><center>Feature 11</center></td><td style=\"border: 1px solid black;\"><img style=\"image-rendering: pixelated;\" class=\"MNIST_CNN_conv2D_1_feature12\" src=\"data:image/gif;base64,R0lGODdhYABgAIcAAPX6/tXk87PS56XM4+Ht98fb72aq03a02E+by5zJ4Fqiz5HC3oa82wAAAAAAAAAAAAAAAAAAAAAAAAAAAAAAAAAAAAAAAAAAAAAAAAAAAAAAAAAAAAAAAAAAAAAAAAAAAAAAAAAAAAAAAAAAAAAAAAAAAAAAAAAAAAAAAAAAAAAAAAAAAAAAAAAAAAAAAAAAAAAAAAAAAAAAAAAAAAAAAAAAAAAAAAAAAAAAAAAAAAAAAAAAAAAAAAAAAAAAAAAAAAAAAAAAAAAAAAAAAAAAAAAAAAAAAAAAAAAAAAAAAAAAAAAAAAAAAAAAAAAAAAAAAAAAAAAAAAAAAAAAAAAAAAAAAAAAAAAAAAAAAAAAAAAAAAAAAAAAAAAAAAAAAAAAAAAAAAAAAAAAAAAAAAAAAAAAAAAAAAAAAAAAAAAAAAAAAAAAAAAAAAAAAAAAAAAAAAAAAAAAAAAAAAAAAAAAAAAAAAAAAAAAAAAAAAAAAAAAAAAAAAAAAAAAAAAAAAAAAAAAAAAAAAAAAAAAAAAAAAAAAAAAAAAAAAAAAAAAAAAAAAAAAAAAAAAAAAAAAAAAAAAAAAAAAAAAAAAAAAAAAAAAAAAAAAAAAAAAAAAAAAAAAAAAAAAAAAAAAAAAAAAAAAAAAAAAAAAAAAAAAAAAAAAAAAAAAAAAAAAAAAAAAAAAAAAAAAAAAAAAAAAAAAAAAAAAAAAAAAAAAAAAAAAAAAAAAAAAAAAAAAAAAAAAAAAAAAAAAAAAAAAAAAAAAAAAAAAAAAAAAAAAAAAAAAAAAAAAAAAAAAAAAAAAAAAAAAAAAAAAAAAAAAAAAAAAAAAAAAAAAAAAAAAAAAAAAAAAAAAAAAAAAAAAAAAAAAAAAAAAAAAAAAAAAAAAAAAAAAAAAAAAAAAAAAAAAAAAAAAAAAAAAAAAAAAAAAAAAAAAAAAAAAAAAAAAAAAAAAAAAAAAAAAAAAAAAAAAAAAAAAAAAAAAAAAAAAAAAAAAAAAAAAAAAAAAAAAAAAAAAAAAAAAAACwAAAAAYABgAEAI/wABCBxIsKDBgwgTKlzIsKHDhxADSJwosYDFixYFaBQwoOOABCATCBhJcuSAkwMOqDywoOWCAjALAJhJs6bNmzgJ6CQgoKeAA0APGBhqQIHRo0YRKEVgoKmBA1APLJi6QIBVAQGyBgDAtavXr2DDih1LtqzZs2jTql3Ltq3bt3DTBpgbIIHdBALyCgjANwCAv4ADCx5MuLDhw4gTHw7AOICAxwIGSB5QoHIBApgJANjMubPnz6BDix5NuvTmAKgDCFgtoIDrAgRiEwBAu7bt27hz697N+3aA3wEGCB9woLjx4gKSCyDAnACA59CjS59Ovbp16gSyEwjAPcCA7wMMiP83gKA8AgPoDQxYPwCA+/fw48ufT7++fQAE8hMYwH+AAYAGBCIgiMDAQQMDFA4I0DAAAIgRJU6kWNHiRYwXCWwkAMDjR5AhRY4kWdLkSZQpVa5kiTLAS5gxZQYoUNNmzQA5AwDg2dPnT6BBfQYgGkDAUaRHBywdsMDpAgZRGRygesDAVQMKtCo40PWAALBhwTIgyyDB2QQB1AYA0NbtW7hx5b4NUDeAALwCBuzl23evAMACAgwOAMDwYcSJFS9m3NjxY8iRJU+mXNnyZcMBNG/WDMDzZ9ChRY8mXdr0adSmCawmIMC1gASxEwigLaDA7QIEdBMA0Nv3b+DBhQ8nXtz/+PHgAZQHGNB8gADoAgJMDwDA+nXs2bVv597d+3ftBMQTCFDe/PnyBNQTANDe/Xv48eXPp18fQAD8AQbsH2DAP0ADCAYiMGDQwICEAwAwbOjwIcSIEidGJGCRQIGMBQZwHGDgowEEIhEoKKkgAcoEAVYGAODyJcyYMmfSrGkzZoGcBQTwFFDgZwECQgkAKGr0KNKkSpcyber0KdSoUqdSrWr1KtasWrduDeD1K9iwAQqQLUs2ANoAANaybev2Ldy4cQPQrUu3AN68eAXwFTDg74AEghMIKGy48IDEAw4wPrDg8YICkgsAqGz5MubMmi8H6BxAAOjQoAeQHrDg9AIG/6oZHGh9wABsAwpmKzhg+4CA3LpzM+jNIAHwBAGGBwBg/Djy5MqXIyfgnICA6AIOUD9g4LoBBdq3a0fgHYGB8AYOkD+w4PwCAeoFBGgfAAD8+PLn069v/378APoDCOgvAOAAgQMJChRwUEAAhQEANHT4EGJEiRMpVrR4EWNGjRs5dvT4EWRIkSNJljQZMUBKlSkBtHT5EmZMmTNp1rR5s2YAnQES9EwgAKiAAEMDADB6FGlSpUuZNnX6FKpRAlMJCLAqIEHWBAK4CijwtQABsQQAlDV7Fm1atWvZtnX7tmwAuQEE1BUwAO+AAnsLEPBLAEBgwYMJFzZ8GHFixYsDB/9wHGBA5AECKAsIcDkAAM2bOXf2/Bl0aNGjSWsOcDqAANUCCrQuQAA2AQCzade2fRt3bt27ed8m8JtAAOHDiQsncJwAAOXLmTd3/hx6dOnRA1QPMAD7gAPbuW8X8F0AAfEEAJQ3fx59evXr2bdnHwB+gAHzBxiwbwBBfgQG+BsYAHCAQAAECxo8iDChwoUMDxJ4SCCAxAADKg4wgNEAgo0IDHg0MCDkAAAkS5o8iTKlypUsTxJ4SaCAzAIDag4wgNMAgp0IFPhUkCBoggBEAwA4ijSp0qVMmzp9qpSAVAIDqg4wgNUAgq0IDHg1MCDsgABkAwA4izat2rVs27p9C/f/bIG5BQTYFVAgbwECfAkA+As4sODBhAsbPoz4MIHFBAA4fgw5suTJlCtbvow5s+bNnDt7/gw6tOjRpEubPo06NYAArFu7fh2ggOzZsgPYDgAgt+7dvHv7/g08uPDcAYobP448QIHlzJcHeB4AgPTp1Ktbv44de4Dt3LcX+A7+u4DxAgaYH5AgfQIB7NuzHwB/wIH5BxbYX1AgfwEA/Pv7BwhA4ECCBQ0eNBhA4UKFBRw+dChAooABFQckwJhAwEaOGwd8HHBA5IEFJRcUQFkAwEqWLV2+hNkywMwAAmzetDlA54AFPRcwAMrgwNADBowaUJBUwQGmBwQ8hfqUwVQG/wmsJgiQNQAArl29fgUbVmwAsgEEnEV7dsDaAQvcLmAQl8EBugcM3DWgQK+CA30PCAAcGDADwgwSHE4QQHEAAI0dP4YcWfJjApUJCMAs4MDmAwY8G1AQWnRoBKURGEBt4MDqAwtcLxAQW0AA2gEA3MadW/du3r194yYQnIAA4gIOHD9gQLkBBc2dN0cQHYEB6gYOXD+wQPsCAd0FBAAfAMB48uXNn0efXj35AO0DCIAvYMB8+vXnC8AvIMD+AAD8AwQgcCDBggYPIkyoUGGAhgEEQBQwYCLFihMFYBQQYGMAAB4/ggwpciTJkiZPokypciXLli5fwowpcybNmjZv4v/MqXMnz54+fwIVGWAo0aEAjiJNqnQp06ZOn0KN+jQA1apUAWDNqnUr165ev4INKxZsgLIBEqBNIGCtgABuAwCIK3cu3bp27+LNq3dv3AB+AyQInEAAYQEBDgcAoHgx48aOH0OOLHkyZcUELhMQoFlAgs4JBIAWUGB0AQKmCQBIrXo169auX8OOLbs1gdoEBOAWkGB3AgG+BRQIXoAAcQIAjiNPrnw58+bOn0OPfjwA9QACrgsYoH1Age4FCIAnAGA8+fLmz6NPr349+/UB3gcQIF/AgPoDCuAvQGA/AQD+AQIQOJBgQYMHESZUuHBhAIcBBkQcIICigAAXAwDQuJH/Y0ePH0GGFDmSpMYAJwMMUDlAQEsBAWAGADCTZk2bN3Hm1LmTZ8+ZAYAGEDBUQAGjBQgkJQCAaVOnT6FGlTqValWrTANkDSCAq4ACXwsQEEsAQFmzZ9GmVbuWbVu3aQnEJRCAbl27dAnkJQCAb1+/fwEHFjyYcGHCBBATCLCYcePFBCATADCZcmXLlzFn1rxZcwDPAQaEHnCAdGnSAlALILCaAADXr2HHlj2bdm3bt2UH0B1gQO8BB4AHBy6AuAACxwkAUL6ceXPnz6FHlx49QPUAA7APMLDdAALvCAyENzCA/AAA59GnV7+efXv37+GvDzA/wAD7AwzkN4CAPwID/wANCBxAcACAgwgTKlzIsKHDhwoJSCQQoGKAARgHGNhoAIFHBAZCGhhAcgCAkyhTqlzJsqXLlzBPEphJIIDNAANyDjDA0wCCnwgMCDUwoOgAAEiTKl3KtKnTp1CXEphKoIDVAgOyDjDA1QCCrwgUiFWQoGyCAGgDAFjLtq3bt3Djyp0rl4BdAgXyFhjAd4CBvwYQCEagoLCCBIgTBFgcAIDjx5AjS55MubLlyAQyExjAeYCBzwYQiEZgoLSBAagHBFgdAIDr17Bjy55Nu7bt264J6CYwoPcAA8ANIBiOwIBxAwOSDwjAPACA59CjS59Ovbr169ifF9heQIB3AQXCF2AgQJ4AgPPo06tfz769+/fw458vQL+AgPsCCugvQKA/AYAABA4kWNDgQYQJFS5USMAhAQARJU6kWNHiRYwZNW7kCIDARwIARI4kWdLkSZQpVa5k2dLlS5gxZc6kWdPmzYAAOw==\"/><br/><center>Feature 12</center></td><td style=\"border: 1px solid black;\"><img style=\"image-rendering: pixelated;\" class=\"MNIST_CNN_conv2D_1_feature13\" src=\"data:image/gif;base64,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\"/><br/><center>Feature 13</center></td><td style=\"border: 1px solid black;\"><img style=\"image-rendering: pixelated;\" class=\"MNIST_CNN_conv2D_1_feature14\" src=\"data:image/gif;base64,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\"/><br/><center>Feature 14</center></td><td style=\"border: 1px solid black;\"><img style=\"image-rendering: pixelated;\" class=\"MNIST_CNN_conv2D_1_feature15\" src=\"data:image/gif;base64,R0lGODdhYABgAIcAAPb6/uTv+QAAAAAAAAAAAAAAAAAAAAAAAAAAAAAAAAAAAAAAAAAAAAAAAAAAAAAAAAAAAAAAAAAAAAAAAAAAAAAAAAAAAAAAAAAAAAAAAAAAAAAAAAAAAAAAAAAAAAAAAAAAAAAAAAAAAAAAAAAAAAAAAAAAAAAAAAAAAAAAAAAAAAAAAAAAAAAAAAAAAAAAAAAAAAAAAAAAAAAAAAAAAAAAAAAAAAAAAAAAAAAAAAAAAAAAAAAAAAAAAAAAAAAAAAAAAAAAAAAAAAAAAAAAAAAAAAAAAAAAAAAAAAAAAAAAAAAAAAAAAAAAAAAAAAAAAAAAAAAAAAAAAAAAAAAAAAAAAAAAAAAAAAAAAAAAAAAAAAAAAAAAAAAAAAAAAAAAAAAAAAAAAAAAAAAAAAAAAAAAAAAAAAAAAAAAAAAAAAAAAAAAAAAAAAAAAAAAAAAAAAAAAAAAAAAAAAAAAAAAAAAAAAAAAAAAAAAAAAAAAAAAAAAAAAAAAAAAAAAAAAAAAAAAAAAAAAAAAAAAAAAAAAAAAAAAAAAAAAAAAAAAAAAAAAAAAAAAAAAAAAAAAAAAAAAAAAAAAAAAAAAAAAAAAAAAAAAAAAAAAAAAAAAAAAAAAAAAAAAAAAAAAAAAAAAAAAAAAAAAAAAAAAAAAAAAAAAAAAAAAAAAAAAAAAAAAAAAAAAAAAAAAAAAAAAAAAAAAAAAAAAAAAAAAAAAAAAAAAAAAAAAAAAAAAAAAAAAAAAAAAAAAAAAAAAAAAAAAAAAAAAAAAAAAAAAAAAAAAAAAAAAAAAAAAAAAAAAAAAAAAAAAAAAAAAAAAAAAAAAAAAAAAAAAAAAAAAAAAAAAAAAAAAAAAAAAAAAAAAAAAAAAAAAAAAAAAAAAAAAAAAAAAAAAAAAAAAAAAAAAAAAAAAAAAAAAAAAAAAAAAAAAAAAAAAAAAAAAAAAAAAAAAAAAAAAAAAAAAAAAAAAAAAAAAAAAAAAAAAAAAAAAAAAAAAAAAAAAAAAAAAAAAAAAAAAAAAAACwAAAAAYABgAEAI/wABCBxIsKDBgwgTKlzIsKHDhxAjSpxIsaLFixgzatzIsaPHjyBDihxJsqTJkyhTqlzJsqXLlzBjykwZoGYAADhz6tzJs6fPn0CDCh1KtKjRo0iTKl26NIDTAACiSp1KtarVq1izat3KtavXr2DDih1LtqzZs2jTql3Ltq3bt3Djyp1Lt67du3jz6t3Lt6/UAIADABhMuLDhw4gTK17MuLHjx5AjS55MubLly5gza97MubPnz6BDNw5AOgCA06hTq17NurXr17Bjy55Nu7bt27hz697Nu7fv38CDCx9OvLjx48iTK1/OvLnz59CjS59Ovbr169iza9/Ovbv37+DDi78fTz54gPMBAKhfz769+/fw48ufT78+gAD4AwDYz7+/f4AABA4kWNDgQYQJFS5k2NDhQ4gRJU6kWNHiRYwZNW7k2NHjR5AhRY4kWdLkSZQpVa5k+TDAywAAZM6kWdPmTZw5de7k2RNAAKABAAwlWtToUaRJlS5l2tTpU6hRpU6lWtXqVaxZtW7l2tXrV7BhxY4lW9bsWbRp1a5l29btW7hx5c6lW9fuXbx59e7l29fvX8CBBQ8mXNjwYcSJFbMNCAA7\"/><br/><center>Feature 15</center></td></tr><tr></tr></table></td>\n</tr>\n</table>"
      }
     },
     "10384bb83d3b4c2787df43e45a80627b": {
      "model_module": "@jupyter-widgets/base",
      "model_module_version": "1.0.0",
      "model_name": "LayoutModel",
      "state": {}
     },
     "1047892bf5b145f0b320662c41206bb8": {
      "model_module": "@jupyter-widgets/base",
      "model_module_version": "1.0.0",
      "model_name": "LayoutModel",
      "state": {}
     },
     "1055bfb9767048d78c47cce0665da864": {
      "model_module": "@jupyter-widgets/base",
      "model_module_version": "1.0.0",
      "model_name": "LayoutModel",
      "state": {}
     },
     "109109442fcf477497f92b78e48e1c62": {
      "model_module": "@jupyter-widgets/base",
      "model_module_version": "1.0.0",
      "model_name": "LayoutModel",
      "state": {}
     },
     "10d139265ae84fb9af4fd880d36eaf05": {
      "model_module": "@jupyter-widgets/controls",
      "model_module_version": "1.1.0",
      "model_name": "DescriptionStyleModel",
      "state": {
       "description_width": "initial"
      }
     },
     "115babaca4544f8db351e19b16c2392a": {
      "model_module": "@jupyter-widgets/controls",
      "model_module_version": "1.1.0",
      "model_name": "ButtonStyleModel",
      "state": {}
     },
     "11abd0766376488b983012278dacfe63": {
      "model_module": "@jupyter-widgets/base",
      "model_module_version": "1.0.0",
      "model_name": "LayoutModel",
      "state": {
       "width": "100%"
      }
     },
     "11f8e2a72c9c463fa9f22c2b1e1093ee": {
      "model_module": "@jupyter-widgets/base",
      "model_module_version": "1.0.0",
      "model_name": "LayoutModel",
      "state": {
       "width": "65%"
      }
     },
     "132a054449e24a9fa9e95eed5a200157": {
      "model_module": "@jupyter-widgets/controls",
      "model_module_version": "1.1.0",
      "model_name": "CheckboxModel",
      "state": {
       "description": "Rotate",
       "disabled": false,
       "layout": "IPY_MODEL_ede1077c363147caa032ae94e603f279",
       "style": "IPY_MODEL_0be66ffb50004fa39b1926ad8d873c99",
       "value": true
      }
     },
     "14389df8968f4d1b941307b643b72f83": {
      "model_module": "@jupyter-widgets/base",
      "model_module_version": "1.0.0",
      "model_name": "LayoutModel",
      "state": {
       "width": "52%"
      }
     },
     "14959aefe5134a29933a53b2d63a9f78": {
      "model_module": "@jupyter-widgets/controls",
      "model_module_version": "1.1.0",
      "model_name": "FloatTextModel",
      "state": {
       "description": "Leftmost color maps to:",
       "layout": "IPY_MODEL_9e337bcd1516487cb2918f1190cf9cb7",
       "step": null,
       "style": "IPY_MODEL_1514aa2b6f514dda8698ffe9d170c3fc"
      }
     },
     "14f7aed0265b43d68d1f05ffd152dc73": {
      "model_module": "@jupyter-widgets/base",
      "model_module_version": "1.0.0",
      "model_name": "LayoutModel",
      "state": {
       "width": "100%"
      }
     },
     "1514aa2b6f514dda8698ffe9d170c3fc": {
      "model_module": "@jupyter-widgets/controls",
      "model_module_version": "1.1.0",
      "model_name": "DescriptionStyleModel",
      "state": {
       "description_width": "initial"
      }
     },
     "15a9f6e7f5864a979c465b041f2c2741": {
      "model_module": "@jupyter-widgets/base",
      "model_module_version": "1.0.0",
      "model_name": "LayoutModel",
      "state": {
       "width": "100%"
      }
     },
     "15ac571aeac44a54b5169c5b873cc6e1": {
      "model_module": "@jupyter-widgets/controls",
      "model_module_version": "1.1.0",
      "model_name": "ButtonModel",
      "state": {
       "icon": "backward",
       "layout": "IPY_MODEL_40e46076da044ac88e15176b2db9bca9",
       "style": "IPY_MODEL_a5509b96e5b74248976ed02577ca4ebb"
      }
     },
     "16439db342004238947e26295b292012": {
      "model_module": "@jupyter-widgets/base",
      "model_module_version": "1.0.0",
      "model_name": "LayoutModel",
      "state": {
       "width": "100%"
      }
     },
     "1702bf95ff2a4a10b2a438fca145d7a3": {
      "model_module": "@jupyter-widgets/controls",
      "model_module_version": "1.1.0",
      "model_name": "DescriptionStyleModel",
      "state": {
       "description_width": "initial"
      }
     },
     "1713fcf63e684f2f96b4749f29033113": {
      "model_module": "@jupyter-widgets/controls",
      "model_module_version": "1.1.0",
      "model_name": "ButtonStyleModel",
      "state": {}
     },
     "1766bbc217444d0c9b7d16ebfd082240": {
      "model_module": "@jupyter-widgets/base",
      "model_module_version": "1.0.0",
      "model_name": "LayoutModel",
      "state": {}
     },
     "17a45ad607e1438487129628de614f4f": {
      "model_module": "@jupyter-widgets/controls",
      "model_module_version": "1.1.0",
      "model_name": "VBoxModel",
      "state": {
       "children": [
        "IPY_MODEL_ceba45a2a73846ea9bd9ddb2d1db58dd",
        "IPY_MODEL_54718875a82b4ba9a2afc95ba11e543b",
        "IPY_MODEL_2f4a378e7afc41cabbeb736f2a16e1b4",
        "IPY_MODEL_4f59ea7c0762492095b29d0f8b368868",
        "IPY_MODEL_51a8b6983f984790844c6b850b41e097",
        "IPY_MODEL_6206ae1ea73547f9aeddbb5b132392b5",
        "IPY_MODEL_7b44a4a1029045ddbba6eefb8614865a",
        "IPY_MODEL_6f056a88963c45629879ea4cb562d6e5"
       ],
       "layout": "IPY_MODEL_14f7aed0265b43d68d1f05ffd152dc73"
      }
     },
     "18b8037038eb443d80234805bea5c09b": {
      "model_module": "@jupyter-widgets/controls",
      "model_module_version": "1.1.0",
      "model_name": "ButtonStyleModel",
      "state": {}
     },
     "19dac85a57bb4193b681193d71fe2ce6": {
      "model_module": "@jupyter-widgets/controls",
      "model_module_version": "1.1.0",
      "model_name": "ButtonModel",
      "state": {
       "icon": "refresh",
       "layout": "IPY_MODEL_62eee9ea0dbf4c7b9fde75cc6e28594f",
       "style": "IPY_MODEL_9c5f340918b3493db19eb61cfea5b286"
      }
     },
     "19df5d8a7a80449e98a7aa85910e1e03": {
      "model_module": "@jupyter-widgets/controls",
      "model_module_version": "1.1.0",
      "model_name": "DescriptionStyleModel",
      "state": {
       "description_width": ""
      }
     },
     "1a37d7bc511c480aac61974ef7dc867b": {
      "model_module": "@jupyter-widgets/base",
      "model_module_version": "1.0.0",
      "model_name": "LayoutModel",
      "state": {
       "width": "65%"
      }
     },
     "1c6ba462db5149a084fac71791a70b7b": {
      "model_module": "@jupyter-widgets/controls",
      "model_module_version": "1.1.0",
      "model_name": "ButtonModel",
      "state": {
       "icon": "forward",
       "layout": "IPY_MODEL_16439db342004238947e26295b292012",
       "style": "IPY_MODEL_57aa515d807e4cd2bcfbb125f27f159b"
      }
     },
     "1c75bffedc03488f937691059e6adf28": {
      "model_module": "@jupyter-widgets/controls",
      "model_module_version": "1.1.0",
      "model_name": "HTMLModel",
      "state": {
       "layout": "IPY_MODEL_9ac0ca328c3249b7ba3e7e907d6b1519",
       "style": "IPY_MODEL_3d3e6c7447cf41c9be1c7559fef10e5c",
       "value": "\n<table align=\"center\" style=\"width: 100%;\">\n <tr>\n  <td valign=\"top\"><p style=\"text-align:center\"><svg id='MNIST_CNN' xmlns='http://www.w3.org/2000/svg' image-rendering=\"pixelated\" width=\"800.0000000000001px\" height=\"190.47619047619048px\">\n <g  transform=\"rotate(90) translate(0 -800.0000000000001)\" >\n  <svg viewBox=\"0 0 350 1470\" width=\"190.47619047619048px\" height=\"800.0000000000001px\">\n    <defs>\n        <marker id=\"arrow\" markerWidth=\"10\" markerHeight=\"10\" refX=\"9\" refY=\"3\" orient=\"auto\" markerUnits=\"strokeWidth\">\n          <path d=\"M0,0 L0,6 L9,3 z\" fill=\"black\" />\n        </marker>\n    </defs><rect x=\"74.0\" y=\"24\" width=\"202\" height=\"52\" style=\"fill:none;stroke:black;stroke-width:2\"/><image id=\"picture-dashboard-MNIST_CNN-622061_output_targets_1\" class=\"picture-dashboard-MNIST_CNN-622061_output_targets\" x=\"75.0\" y=\"25\" height=\"50\" width=\"200\" preserveAspectRatio=\"none\" href=\"data:image/gif;base64,R0lGODdh+gAZAIcAAMzM/9LS/wAAAAAAAAAAAAAAAAAAAAAAAAAAAAAAAAAAAAAAAAAAAAAAAAAAAAAAAAAAAAAAAAAAAAAAAAAAAAAAAAAAAAAAAAAAAAAAAAAAAAAAAAAAAAAAAAAAAAAAAAAAAAAAAAAAAAAAAAAAAAAAAAAAAAAAAAAAAAAAAAAAAAAAAAAAAAAAAAAAAAAAAAAAAAAAAAAAAAAAAAAAAAAAAAAAAAAAAAAAAAAAAAAAAAAAAAAAAAAAAAAAAAAAAAAAAAAAAAAAAAAAAAAAAAAAAAAAAAAAAAAAAAAAAAAAAAAAAAAAAAAAAAAAAAAAAAAAAAAAAAAAAAAAAAAAAAAAAAAAAAAAAAAAAAAAAAAAAAAAAAAAAAAAAAAAAAAAAAAAAAAAAAAAAAAAAAAAAAAAAAAAAAAAAAAAAAAAAAAAAAAAAAAAAAAAAAAAAAAAAAAAAAAAAAAAAAAAAAAAAAAAAAAAAAAAAAAAAAAAAAAAAAAAAAAAAAAAAAAAAAAAAAAAAAAAAAAAAAAAAAAAAAAAAAAAAAAAAAAAAAAAAAAAAAAAAAAAAAAAAAAAAAAAAAAAAAAAAAAAAAAAAAAAAAAAAAAAAAAAAAAAAAAAAAAAAAAAAAAAAAAAAAAAAAAAAAAAAAAAAAAAAAAAAAAAAAAAAAAAAAAAAAAAAAAAAAAAAAAAAAAAAAAAAAAAAAAAAAAAAAAAAAAAAAAAAAAAAAAAAAAAAAAAAAAAAAAAAAAAAAAAAAAAAAAAAAAAAAAAAAAAAAAAAAAAAAAAAAAAAAAAAAAAAAAAAAAAAAAAAAAAAAAAAAAAAAAAAAAAAAAAAAAAAAAAAAAAAAAAAAAAAAAAAAAAAAAAAAAAAAAAAAAAAAAAAAAAAAAAAAAAAAAAAAAAAAAAAAAAAAAAAAAAAAAAAAAAAAAAAAAAAAAAAAAAAAAAAAAAAAAAAAAAAAAAAAAAAAAAAAAAAAAAAAAAAAAAAAAAAAAAAAAAAAAAAAAAAAAAAAAAAAAAAAAAAAAAACwAAAAA+gAZAEAI/wAFCBxIsKDBgwgTKlzIsKHDhxAjSpxIsSJFABgzatzIEaMAAQBCihxJsmRIAQIAqFzJsqVLlQIEBJhJs6bNmzMFCADAs6fPn0B5ChAQoKjRo0iTFhUgIIDTp1CjSnUqQACAq1izat16VYAAAGDDih1LFqwAAQDSql3Ltm1aAQIAyJ1Lt65duQIEANjLt6/fv3sFCABAuLDhw4gJCxAQoLHjx5AjNxYgAIDly5gza7YsQECAz6BDix79WYCAAKhTq17NGrUAAQBiy55Nu3ZsAQIA6N7Nu7dv3QIEABhOvLjx48MFKF/OvLnz59CjS59Ovbr169iza9/OvXt3AODDi/8fTx68AAEA0qtfz759egECAMifT7++ffkCBATYz7+/f4ABBA4UKEAAAIQJFS5kiFCAgAARJU6kWDGiAAEBNG7k2NGjRgECAIwkWdLkyZECBABg2dLlS5gsBQgAUNPmTZw5awoQAMDnT6BBhfoUIADAUaRJlS49KkAAAKhRpU6lClWAgABZtW7l2jWrAAEAxI4lW9asWAECAqxl29bt27UCBASgW9fuXbx0BQgA0NfvX8CB+woQAMDwYcSJFRsWIADAY8iRJU9+LEAAAMyZNW/mjFmAAAChRY8mXTq0AAEAVK9m3dq1agECAsymXdv27dkCBADg3dv3b+C8BQgIUNz/+HHkyYsLEBDA+XPo0aU7FyAAwHXs2bVvvy5AAADw4cWPJw9egAAA6dWvZ98+vQABAOTPp1/fvnwBAgDs59/fP0AAAgcKFCAAAMKEChcyRChAQICIEidSrBhRgAAAGjdy7OhRowABAUaSLGny5EgBAgKwbOnyJUyWAgQAqGnzJs6cNQUIAODzJ9CgQn0KEADgKNKkSpceFSAAANSoUqdShSpAAICsWrdy7ZpVgAAAYseSLWtWrAABAdaybev27VoBAgDQrWv3Ll66AgQE6Ov3L+DAfQUICGD4MOLEig0LEADgMeTIkic/FiAAAObMmjdzxixAAIDQokeTLh1agAAA/6pXs27tWrUAAQBm065t+/ZsAQIA8O7t+zdw3gIEBChu/Djy5MUFCADg/Dn06NKdCxAQ4Dr27Nq3XxcgIAD48OLHkwcvQACA9OrXs2+fXoAAAPLn069vX74AAQD28+/vHyAAgQMFChAAAGFChQsZIhQgAEBEiRMpVowoQAAAjRs5dvSoUYCAACNJljR5cqQAAQBYtnT5EiZLAQIC1LR5E2fOmgIEBPD5E2hQoT4FCABwFGlSpUuPChAAAGpUqVOpQhUgAEBWrVu5ds0qQAAAsWPJljUrVoAAAGvZtnX7dq0AAQDo1rV7Fy9dAQIC9PX7F3DgvgIEADB8GHFixYYFCP8I8BhyZMmTHwsQEABzZs2bOWMWIABAaNGjSZcOLUAAANWrWbd2rVqAAACzade2fXu2AAEAePf2/Rs4bwECABQ3fhx58uICBABw/hx6dOnOBQgIcB17du3brwsQAAB8ePHjyYMXICBAevXr2bdPL0BAAPnz6de3L1+AAAD7+ff3DxCAwIECBQgAgDChwoUMEQoQACCixIkUK0YUIACAxo0cO3rUKEAAgJEkS5o8OVKAAAAsW7p8CZOlAAEBatq8iTNnTQECAPj8CTSoUJ8CBAQ4ijSp0qVHBQgIADWq1KlUoQoQACCr1q1cu2YVIACA2LFky5oVK0AAgLVs27p9u1b/gAAAdOvavYuXrgABAPr6/Qs4cF8BAgAYPow4sWLDAgQEeAw5suTJjwUIAIA5s+bNnDELEBAgtOjRpEuHFiAggOrVrFu7Vi1AAIDZtGvbvj1bgAAAvHv7/g2ctwABAIobP448eXEBAgA4fw49unTnAgQAuI49u/bt1wUIAAA+vPjx5MELEBAgvfr17NunFyAAgPz59Ovbly9AQID9/Pv7BxhA4ECBAgQEQJhQ4UKGCAUIABBR4kSKFSMKEABA40aOHT1qFCAAwEiSJU2eHClAAACWLV2+hMlSgAAANW3exJmzpgABAHz+BBpUqE8BAgIcRZpU6dKjAgQAgBpV6lSq/1AFCAiQVetWrl2zChAQQOxYsmXNihUgAMBatm3dvl0rQAAAunXt3sVLV4AAAH39/gUcuK8AAQAMH0acWLFhAQIAPIYcWfLkxwIEAMCcWfNmzpgFCAgQWvRo0qVDCxAAQPVq1q1dqxYgIMBs2rVt354tQEAA3r19/wbOW4AAAMWNH0eevLgAAQCcP4ceXbpzAQIAXMeeXfv26wIEAAAfXvx48uAFCACQXv169u3TCxAAQP58+vXtyxcgIMB+/v39AwwgcKBAAQIAIEyocCFDhAIEBIgocSLFihEFCAigcSPHjh41ChAAYCTJkiZPjhQgAADLli5fwmQpQACAmjZv4v/MWVOAAAA+fwINKtSnAAEAjiJNqnTpUQECAECNKnUqVagCBATIqnUr165ZBQgAIHYs2bJmxQoQEGAt27Zu364VICAA3bp27+KlK0AAgL5+/wIO3FeAAACGDyNOrNiwAAEAHkOOLHnyYwECAGDOrHkzZ8wCBAAILXo06dKhBQgAoHo169auVQsQEGA27dq2b88WIAAA796+fwPnLUBAgOLGjyNPXlyAgADOn0OPLt25AAEArmPPrn37dQECAIAPL348efACBABIr349+/bpBQgAIH8+/fr25QsQAGA///7+AQIQOFCgAAEAECZUuJAhQgECAkSUOJFixYgCBADQuJH/Y0ePGgUICDCSZEmTJ0cKEBCAZUuXL2GyFCAAQE2bN3HmrClAAACfP4EGFepTgAAAR5EmVbr0qAABAKBGlTqVKlQBAgBk1bqVa9esAgQAEDuWbFmzYgUICLCWbVu3b9cKEACAbl27d/HSFSAgQF+/fwEH7itAQADDhxEnVmxYgAAAjyFHljz5sQABADBn1ryZM2YBAgCEFj2adOnQAgQAUL2adWvXqgUIADCbdm3bt2cLEACAd2/fv4HzFiAgQHHjx5EnLy5AAADnz6FHl+5cgIAA17Fn1779ugABAcCHFz+ePHgBAgCkV7+effv0AgQAkD+ffn378gUIALCff3//bgABCBwoUIAAAAgTKlzIEKEAAQAiSpxIsWJEAQIAaNzIsaNHjQIEBBhJsqTJkyMFCADAsqXLlzBZChAQoKbNmzhz1hQgIIDPn0CDCvUpQACAo0iTKl16VIAAAFCjSp1KFaoAAQCyat3KtWtWAQEBADs=\"><title>Layer: output (output)\n output range: (-1.0, 1.0)\n shape = (10,)\n Keras class = Dense\n activation = softmax</title></image><text x=\"288.0\" y=\"52.0\" font-family=\"monospace\" font-size=\"12\" text-anchor=\"middle\" fill=\"black\" alignment-baseline=\"central\"  transform=\"rotate(-90 288.0 52.0) translate(2)\" >targets</text><line x1=\"87.5\" y1=\"80\" x2=\"262.5\" y2=\"80\" stroke=\"green\" stroke-width=\"2\"><title></title></line><rect x=\"74.0\" y=\"84\" width=\"202\" height=\"52\" style=\"fill:none;stroke:black;stroke-width:2\"/><image id=\"picture-dashboard-MNIST_CNN-622061_output-rotated_1\" class=\"picture-dashboard-MNIST_CNN-622061_output-rotated\" x=\"75.0\" y=\"85\" height=\"50\" width=\"200\" preserveAspectRatio=\"none\" href=\"data:image/gif;base64,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\"><title>Layer: output (output)\n output range: (-1.0, 1.0)\n shape = (10,)\n Keras class = Dense\n activation = softmax</title></image><text x=\"288.0\" y=\"112.0\" font-family=\"monospace\" font-size=\"12\" text-anchor=\"middle\" fill=\"black\" alignment-baseline=\"central\"  transform=\"rotate(-90 288.0 112.0) translate(2)\" >output</text><line x1=\"175.0\" y1=\"164\" x2=\"175.0\" y2=\"137\" stroke=\"black\" stroke-width=\"2\" marker-end=\"url(#arrow)\"><title>Weights from hidden to output\n output/kernel has shape (30, 10)\n output/bias has shape (10,)</title></line><rect x=\"74.0\" y=\"164\" width=\"202\" height=\"52\" style=\"fill:none;stroke:black;stroke-width:2\"/><image id=\"picture-dashboard-MNIST_CNN-622061_hidden-rotated_2\" class=\"picture-dashboard-MNIST_CNN-622061_hidden-rotated\" x=\"75.0\" y=\"165\" height=\"50\" width=\"200\" preserveAspectRatio=\"none\" href=\"data:image/gif;base64,R0lGODdhHgABAIcAAP78/efn/7Ky/6am/8HB/9HR/wAAAAAAAAAAAAAAAAAAAAAAAAAAAAAAAAAAAAAAAAAAAAAAAAAAAAAAAAAAAAAAAAAAAAAAAAAAAAAAAAAAAAAAAAAAAAAAAAAAAAAAAAAAAAAAAAAAAAAAAAAAAAAAAAAAAAAAAAAAAAAAAAAAAAAAAAAAAAAAAAAAAAAAAAAAAAAAAAAAAAAAAAAAAAAAAAAAAAAAAAAAAAAAAAAAAAAAAAAAAAAAAAAAAAAAAAAAAAAAAAAAAAAAAAAAAAAAAAAAAAAAAAAAAAAAAAAAAAAAAAAAAAAAAAAAAAAAAAAAAAAAAAAAAAAAAAAAAAAAAAAAAAAAAAAAAAAAAAAAAAAAAAAAAAAAAAAAAAAAAAAAAAAAAAAAAAAAAAAAAAAAAAAAAAAAAAAAAAAAAAAAAAAAAAAAAAAAAAAAAAAAAAAAAAAAAAAAAAAAAAAAAAAAAAAAAAAAAAAAAAAAAAAAAAAAAAAAAAAAAAAAAAAAAAAAAAAAAAAAAAAAAAAAAAAAAAAAAAAAAAAAAAAAAAAAAAAAAAAAAAAAAAAAAAAAAAAAAAAAAAAAAAAAAAAAAAAAAAAAAAAAAAAAAAAAAAAAAAAAAAAAAAAAAAAAAAAAAAAAAAAAAAAAAAAAAAAAAAAAAAAAAAAAAAAAAAAAAAAAAAAAAAAAAAAAAAAAAAAAAAAAAAAAAAAAAAAAAAAAAAAAAAAAAAAAAAAAAAAAAAAAAAAAAAAAAAAAAAAAAAAAAAAAAAAAAAAAAAAAAAAAAAAAAAAAAAAAAAAAAAAAAAAAAAAAAAAAAAAAAAAAAAAAAAAAAAAAAAAAAAAAAAAAAAAAAAAAAAAAAAAAAAAAAAAAAAAAAAAAAAAAAAAAAAAAAAAAAAAAAAAAAAAAAAAAAAAAAAAAAAAAAAAAAAAAAAAAAAAAAAAAAAAAAAAAAAAAAAAAAAAAAAAAAAAAAAAAAAAAAAAAAAAAAAAAAAAAAAAAAAAAAAAAAAAAAAAAAAAAACwAAAAAHgABAAAIIgADAAAQIEABAAgHAFgYAMAAAAQCCAAQAAAAAQEAAAgAICAAOw==\"><title>Layer: hidden (hidden)\n output range: (-1.0, 1.0)\n shape = (30,)\n Keras class = Dense\n activation = relu</title></image><text x=\"288.0\" y=\"192.0\" font-family=\"monospace\" font-size=\"12\" text-anchor=\"middle\" fill=\"black\" alignment-baseline=\"central\"  transform=\"rotate(-90 288.0 192.0) translate(2)\" >hidden</text><line x1=\"175.0\" y1=\"244\" x2=\"175.0\" y2=\"217\" stroke=\"black\" stroke-width=\"2\" marker-end=\"url(#arrow)\"><title>Weights from flat to hidden\n hidden/kernel has shape (512, 30)\n hidden/bias has shape (30,)</title></line><rect x=\"74.0\" y=\"244\" width=\"202\" height=\"52\" style=\"fill:none;stroke:black;stroke-width:2\"/><image id=\"picture-dashboard-MNIST_CNN-622061_flat-rotated_3\" class=\"picture-dashboard-MNIST_CNN-622061_flat-rotated\" x=\"75.0\" y=\"245\" height=\"50\" width=\"200\" preserveAspectRatio=\"none\" href=\"data:image/gif;base64,R0lGODdhAAIBAIcAAPr5/ujo/9jY/8jI/7a2/wAAAAAAAAAAAAAAAAAAAAAAAAAAAAAAAAAAAAAAAAAAAAAAAAAAAAAAAAAAAAAAAAAAAAAAAAAAAAAAAAAAAAAAAAAAAAAAAAAAAAAAAAAAAAAAAAAAAAAAAAAAAAAAAAAAAAAAAAAAAAAAAAAAAAAAAAAAAAAAAAAAAAAAAAAAAAAAAAAAAAAAAAAAAAAAAAAAAAAAAAAAAAAAAAAAAAAAAAAAAAAAAAAAAAAAAAAAAAAAAAAAAAAAAAAAAAAAAAAAAAAAAAAAAAAAAAAAAAAAAAAAAAAAAAAAAAAAAAAAAAAAAAAAAAAAAAAAAAAAAAAAAAAAAAAAAAAAAAAAAAAAAAAAAAAAAAAAAAAAAAAAAAAAAAAAAAAAAAAAAAAAAAAAAAAAAAAAAAAAAAAAAAAAAAAAAAAAAAAAAAAAAAAAAAAAAAAAAAAAAAAAAAAAAAAAAAAAAAAAAAAAAAAAAAAAAAAAAAAAAAAAAAAAAAAAAAAAAAAAAAAAAAAAAAAAAAAAAAAAAAAAAAAAAAAAAAAAAAAAAAAAAAAAAAAAAAAAAAAAAAAAAAAAAAAAAAAAAAAAAAAAAAAAAAAAAAAAAAAAAAAAAAAAAAAAAAAAAAAAAAAAAAAAAAAAAAAAAAAAAAAAAAAAAAAAAAAAAAAAAAAAAAAAAAAAAAAAAAAAAAAAAAAAAAAAAAAAAAAAAAAAAAAAAAAAAAAAAAAAAAAAAAAAAAAAAAAAAAAAAAAAAAAAAAAAAAAAAAAAAAAAAAAAAAAAAAAAAAAAAAAAAAAAAAAAAAAAAAAAAAAAAAAAAAAAAAAAAAAAAAAAAAAAAAAAAAAAAAAAAAAAAAAAAAAAAAAAAAAAAAAAAAAAAAAAAAAAAAAAAAAAAAAAAAAAAAAAAAAAAAAAAAAAAAAAAAAAAAAAAAAAAAAAAAAAAAAAAAAAAAAAAAAAAAAAAAAAAAAAAAAAAAAAAAAAAAAAAAAAAAAAAAAAAAAAAAAAAAAAAAAAACwAAAAAAAIBAAAI/wADAAAQoGAAAAICABDAEAAAAQAiBpgYAIDFAAAyAhAAAECAAAICAAgQAECAAQIAAAgAoGUAAQBiCgAgAIBNAAICCBAQQACAAAICABAgYAAAAAIAKA0gAEAAAAEACABAFUAAAAICBBAQIIAAAAAEDBAAAIAAAGgDBAAQAMAAAAIAyJ0bAIBdAAICANgbAIBfAQAABABAOAAAAQECAFgcAAAAAQIAAAhAGYBlAQAyEwAAQACAAAEEABBAGoDpAKgHCAAgIAAAAQAABBAQIAAAAgAABNgtIACAAAIGABgOQECAAQICKAcgAACAAAMEAABAAACAANgBCAAwgACA7wACAPIYT358AADo06tfnz4AgPfvAwQQEKB+gAEBAOgXAABAAIAAAAQAAEAAAIQABAQA0FBAAAIBAAQIMGAAAAABBggAAEAAAAADAgAIEACAgAEDAKwEEADAAAEAAAQAIADAzQADAAQYAACAgAABAAgAQEAAAKQAAgBgGgBAgAAAAAQAUFVAAABZtQYIAMArgAABAIwNEEBAAAAB1AoIACCAAAEBAAgAACDAXQEA9AYYEADA3wAABggAEMDwAAAAAggQACDAAAAAAkwGIAAAAQEANGsOEABAAAAABAAIACAAgAAAVAsAACBAAAAAAgAAIADA7dsBAQA7\"><title>Layer: flat (hidden)\n output range: (-Infinity, +Infinity)\n Keras class = Flatten</title></image><text x=\"288.0\" y=\"272.0\" font-family=\"monospace\" font-size=\"12\" text-anchor=\"middle\" fill=\"black\" alignment-baseline=\"central\"  transform=\"rotate(-90 288.0 272.0) translate(2)\" >flat</text><line x1=\"175.0\" y1=\"324\" x2=\"175.0\" y2=\"297\" stroke=\"black\" stroke-width=\"2\" marker-end=\"url(#arrow)\"><title>Weights from maxpool2 to flat</title></line><rect x=\"74.0\" y=\"324\" width=\"202\" height=\"202\" style=\"fill:none;stroke:black;stroke-width:2\"/><image id=\"picture-dashboard-MNIST_CNN-622061_maxpool2-rotated_4\" class=\"picture-dashboard-MNIST_CNN-622061_maxpool2-rotated\" x=\"75.0\" y=\"325\" height=\"200\" width=\"200\" preserveAspectRatio=\"none\" href=\"data:image/gif;base64,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\"><title>Layer: maxpool2 (hidden)\n output range: (-Infinity, +Infinity)\n Keras class = MaxPooling2D</title></image><text x=\"288.0\" y=\"427.0\" font-family=\"monospace\" font-size=\"12\" text-anchor=\"middle\" fill=\"black\" alignment-baseline=\"central\"  transform=\"rotate(-90 288.0 427.0) translate(2)\" >maxpool2</text><text x=\"88.0\" y=\"310\" font-family=\"monospace\" font-size=\"12\" text-anchor=\"middle\" fill=\"black\" alignment-baseline=\"central\"  transform=\"rotate(-90 88.0 310) translate(2)\" >32</text><text x=\"273.0\" y=\"540\" font-family=\"monospace\" font-size=\"12\" text-anchor=\"middle\" fill=\"black\" alignment-baseline=\"central\"  transform=\"rotate(-90 273.0 540) translate(2)\" >0</text><line x1=\"175.0\" y1=\"554\" x2=\"175.0\" y2=\"527\" stroke=\"black\" stroke-width=\"2\" marker-end=\"url(#arrow)\"><title>Weights from conv2D_2 to maxpool2</title></line><rect x=\"74.0\" y=\"554\" width=\"202\" height=\"202\" style=\"fill:none;stroke:black;stroke-width:2\"/><image id=\"picture-dashboard-MNIST_CNN-622061_conv2D_2-rotated_5\" class=\"picture-dashboard-MNIST_CNN-622061_conv2D_2-rotated\" x=\"75.0\" y=\"555\" height=\"200\" width=\"200\" preserveAspectRatio=\"none\" href=\"data:image/gif;base64,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\"><title>Layer: conv2D_2 (hidden)\n output range: (-1.0, 1.0)\n dropout = 0.2\n Keras class = Conv2D\n activation = relu</title></image><text x=\"288.0\" y=\"657.0\" font-family=\"monospace\" font-size=\"12\" text-anchor=\"middle\" fill=\"black\" alignment-baseline=\"central\"  transform=\"rotate(-90 288.0 657.0) translate(2)\" >conv2D_2</text><text x=\"88.0\" y=\"540\" font-family=\"monospace\" font-size=\"12\" text-anchor=\"middle\" fill=\"black\" alignment-baseline=\"central\"  transform=\"rotate(-90 88.0 540) translate(2)\" >32</text><text x=\"273.0\" y=\"770\" font-family=\"monospace\" font-size=\"12\" text-anchor=\"middle\" fill=\"black\" alignment-baseline=\"central\"  transform=\"rotate(-90 273.0 770) translate(2)\" >0</text><text x=\"62.0\" y=\"560\" font-family=\"monospace\" font-size=\"24.0\" text-anchor=\"middle\" fill=\"black\" alignment-baseline=\"central\"  transform=\"rotate(-90 62.0 560) translate(2)\" >&#10683;</text><line x1=\"175.0\" y1=\"784\" x2=\"175.0\" y2=\"757\" stroke=\"black\" stroke-width=\"2\" marker-end=\"url(#arrow)\"><title>Weights from maxpool1 to conv2D_2\n conv2D_2/kernel has shape (5, 5, 16, 32)\n conv2D_2/bias has shape (32,)</title></line><rect x=\"74.0\" y=\"784\" width=\"202\" height=\"202\" style=\"fill:none;stroke:black;stroke-width:2\"/><image id=\"picture-dashboard-MNIST_CNN-622061_maxpool1-rotated_6\" class=\"picture-dashboard-MNIST_CNN-622061_maxpool1-rotated\" x=\"75.0\" y=\"785\" height=\"200\" width=\"200\" preserveAspectRatio=\"none\" href=\"data:image/gif;base64,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\"><title>Layer: maxpool1 (hidden)\n output range: (-Infinity, +Infinity)\n Keras class = MaxPooling2D</title></image><text x=\"288.0\" y=\"887.0\" font-family=\"monospace\" font-size=\"12\" text-anchor=\"middle\" fill=\"black\" alignment-baseline=\"central\"  transform=\"rotate(-90 288.0 887.0) translate(2)\" >maxpool1</text><text x=\"88.0\" y=\"770\" font-family=\"monospace\" font-size=\"12\" text-anchor=\"middle\" fill=\"black\" alignment-baseline=\"central\"  transform=\"rotate(-90 88.0 770) translate(2)\" >16</text><text x=\"273.0\" y=\"1000\" font-family=\"monospace\" font-size=\"12\" text-anchor=\"middle\" fill=\"black\" alignment-baseline=\"central\"  transform=\"rotate(-90 273.0 1000) translate(2)\" >0</text><line x1=\"175.0\" y1=\"1014\" x2=\"175.0\" y2=\"987\" stroke=\"black\" stroke-width=\"2\" marker-end=\"url(#arrow)\"><title>Weights from conv2D_1 to maxpool1</title></line><rect x=\"74.0\" y=\"1014\" width=\"202\" height=\"202\" style=\"fill:none;stroke:black;stroke-width:2\"/><image id=\"picture-dashboard-MNIST_CNN-622061_conv2D_1-rotated_7\" class=\"picture-dashboard-MNIST_CNN-622061_conv2D_1-rotated\" x=\"75.0\" y=\"1015\" height=\"200\" width=\"200\" preserveAspectRatio=\"none\" href=\"data:image/gif;base64,R0lGODdhGAAYAIcAAP78/ebm/9jY/8bG/6mp/7W1/5mZ/wAAAAAAAAAAAAAAAAAAAAAAAAAAAAAAAAAAAAAAAAAAAAAAAAAAAAAAAAAAAAAAAAAAAAAAAAAAAAAAAAAAAAAAAAAAAAAAAAAAAAAAAAAAAAAAAAAAAAAAAAAAAAAAAAAAAAAAAAAAAAAAAAAAAAAAAAAAAAAAAAAAAAAAAAAAAAAAAAAAAAAAAAAAAAAAAAAAAAAAAAAAAAAAAAAAAAAAAAAAAAAAAAAAAAAAAAAAAAAAAAAAAAAAAAAAAAAAAAAAAAAAAAAAAAAAAAAAAAAAAAAAAAAAAAAAAAAAAAAAAAAAAAAAAAAAAAAAAAAAAAAAAAAAAAAAAAAAAAAAAAAAAAAAAAAAAAAAAAAAAAAAAAAAAAAAAAAAAAAAAAAAAAAAAAAAAAAAAAAAAAAAAAAAAAAAAAAAAAAAAAAAAAAAAAAAAAAAAAAAAAAAAAAAAAAAAAAAAAAAAAAAAAAAAAAAAAAAAAAAAAAAAAAAAAAAAAAAAAAAAAAAAAAAAAAAAAAAAAAAAAAAAAAAAAAAAAAAAAAAAAAAAAAAAAAAAAAAAAAAAAAAAAAAAAAAAAAAAAAAAAAAAAAAAAAAAAAAAAAAAAAAAAAAAAAAAAAAAAAAAAAAAAAAAAAAAAAAAAAAAAAAAAAAAAAAAAAAAAAAAAAAAAAAAAAAAAAAAAAAAAAAAAAAAAAAAAAAAAAAAAAAAAAAAAAAAAAAAAAAAAAAAAAAAAAAAAAAAAAAAAAAAAAAAAAAAAAAAAAAAAAAAAAAAAAAAAAAAAAAAAAAAAAAAAAAAAAAAAAAAAAAAAAAAAAAAAAAAAAAAAAAAAAAAAAAAAAAAAAAAAAAAAAAAAAAAAAAAAAAAAAAAAAAAAAAAAAAAAAAAAAAAAAAAAAAAAAAAAAAAAAAAAAAAAAAAAAAAAAAAAAAAAAAAAAAAAAAAAAAAAAAAAAAAAAAAAAAAAAAAAAAAAAAAAAAAAAAAAAAAAAAAAAAAAAAAAAAACwAAAAAGAAYAEAI9QABCBxIsKDBgwECAFjIsCGAAAAiSpwYAIDFixgxBhhAoACAjyBDihxJEoCAAABSqgQQYAABAQBiypwpoIAAADhz6tzJs6fPn0ADABhKtGjRAAEAKAUwgAABAFCjSp0aAIDVq1gBCBhgYACAr2DDih1LtqzZs2jTgg0AIACAt3Djyp07NwCAu3jz6gUQIACAv4ABBwBAuLBhwgECAFgsoEAAAJAjS54MIEAAAJgxBxhAoACAz6BDgxYAoLTp0wMIEADAurXr17BbDyhAQACA27hz6959O4AAAMABCBAAoLjx48iTAwggIEAAANCjS59Ovbr16QEBADs=\"><title>Layer: conv2D_1 (hidden)\n output range: (-1.0, 1.0)\n dropout = 0.2\n Keras class = Conv2D\n activation = relu</title></image><text x=\"288.0\" y=\"1117.0\" font-family=\"monospace\" font-size=\"12\" text-anchor=\"middle\" fill=\"black\" alignment-baseline=\"central\"  transform=\"rotate(-90 288.0 1117.0) translate(2)\" >conv2D_1</text><text x=\"88.0\" y=\"1000\" font-family=\"monospace\" font-size=\"12\" text-anchor=\"middle\" fill=\"black\" alignment-baseline=\"central\"  transform=\"rotate(-90 88.0 1000) translate(2)\" >16</text><text x=\"273.0\" y=\"1230\" font-family=\"monospace\" font-size=\"12\" text-anchor=\"middle\" fill=\"black\" alignment-baseline=\"central\"  transform=\"rotate(-90 273.0 1230) translate(2)\" >0</text><text x=\"62.0\" y=\"1020\" font-family=\"monospace\" font-size=\"24.0\" text-anchor=\"middle\" fill=\"black\" alignment-baseline=\"central\"  transform=\"rotate(-90 62.0 1020) translate(2)\" >&#10683;</text><line x1=\"175.0\" y1=\"1244\" x2=\"175.0\" y2=\"1217\" stroke=\"black\" stroke-width=\"2\" marker-end=\"url(#arrow)\"><title>Weights from input to conv2D_1\n conv2D_1/kernel has shape (5, 5, 1, 16)\n conv2D_1/bias has shape (16,)</title></line><rect x=\"74.0\" y=\"1244\" width=\"202\" height=\"202\" style=\"fill:none;stroke:black;stroke-width:2\"/><image id=\"picture-dashboard-MNIST_CNN-622061_input-rotated_8\" class=\"picture-dashboard-MNIST_CNN-622061_input-rotated\" x=\"75.0\" y=\"1245\" height=\"200\" width=\"200\" preserveAspectRatio=\"none\" href=\"data:image/gif;base64,R0lGODdhHAAcAIcAAAAAAPz8/MfHxzk5OUVFRRQUFObm5nZ2dtra2iYmJoWFhaampri4uFNTU5ubm2lpaQAAAAAAAAAAAAAAAAAAAAAAAAAAAAAAAAAAAAAAAAAAAAAAAAAAAAAAAAAAAAAAAAAAAAAAAAAAAAAAAAAAAAAAAAAAAAAAAAAAAAAAAAAAAAAAAAAAAAAAAAAAAAAAAAAAAAAAAAAAAAAAAAAAAAAAAAAAAAAAAAAAAAAAAAAAAAAAAAAAAAAAAAAAAAAAAAAAAAAAAAAAAAAAAAAAAAAAAAAAAAAAAAAAAAAAAAAAAAAAAAAAAAAAAAAAAAAAAAAAAAAAAAAAAAAAAAAAAAAAAAAAAAAAAAAAAAAAAAAAAAAAAAAAAAAAAAAAAAAAAAAAAAAAAAAAAAAAAAAAAAAAAAAAAAAAAAAAAAAAAAAAAAAAAAAAAAAAAAAAAAAAAAAAAAAAAAAAAAAAAAAAAAAAAAAAAAAAAAAAAAAAAAAAAAAAAAAAAAAAAAAAAAAAAAAAAAAAAAAAAAAAAAAAAAAAAAAAAAAAAAAAAAAAAAAAAAAAAAAAAAAAAAAAAAAAAAAAAAAAAAAAAAAAAAAAAAAAAAAAAAAAAAAAAAAAAAAAAAAAAAAAAAAAAAAAAAAAAAAAAAAAAAAAAAAAAAAAAAAAAAAAAAAAAAAAAAAAAAAAAAAAAAAAAAAAAAAAAAAAAAAAAAAAAAAAAAAAAAAAAAAAAAAAAAAAAAAAAAAAAAAAAAAAAAAAAAAAAAAAAAAAAAAAAAAAAAAAAAAAAAAAAAAAAAAAAAAAAAAAAAAAAAAAAAAAAAAAAAAAAAAAAAAAAAAAAAAAAAAAAAAAAAAAAAAAAAAAAAAAAAAAAAAAAAAAAAAAAAAAAAAAAAAAAAAAAAAAAAAAAAAAAAAAAAAAAAAAAAAAAAAAAAAAAAAAAAAAAAAAAAAAAAAAAAAAAAAAAAAAAAAAAAAAAAAAAAAAAAAAAAAAAAAAAAAAAAAAAAAAAAAAAAAAAAAAAAAAAAAAACwAAAAAHAAcAEAI/wABCBxIsKDBgwgFBDAQIICBAQAiSpxIkWKCAAYKANjIsSOAAgoCiARAsqTJkyhTqlzJkqWAAAQAyJx5IEAABAQA6NzJcyeDAAcACB1KtKjRo0iTJh2g4EEBAFCjSp1KNaqAAAMAFFAQoCuDAQDCih1LNqwAAwDSqlVbQECAtwEQFABAty5dBwEOANjLt6/fv4ADCx5MuLDhw4gTKza8IEAABA0SAJhMubLlywAEGCjQwECAAAwGABhNurTp0gICEADAeoACAQECLEgAoLbt27gFBCAAoLdvAAQQBAhwYMCABACSK18uIAABANCjS09gIIB1AQCya88+IMACAODDizAXP+DAAQDo06N3EIAAgPfw48ufH78BAgIA8uvfz7+/f4AABA4kWNDgQYQJFS5EGBAAOw==\"><title>Layer: input (input)\n output range: (0.0, 1.0)\n shape = (28, 28, 1)\n Keras class = Input</title></image><text x=\"288.0\" y=\"1347.0\" font-family=\"monospace\" font-size=\"12\" text-anchor=\"middle\" fill=\"black\" alignment-baseline=\"central\"  transform=\"rotate(-90 288.0 1347.0) translate(2)\" >input</text><text x=\"88.0\" y=\"1230\" font-family=\"monospace\" font-size=\"12\" text-anchor=\"middle\" fill=\"black\" alignment-baseline=\"central\"  transform=\"rotate(-90 88.0 1230) translate(2)\" >1</text><text x=\"273.0\" y=\"1460\" font-family=\"monospace\" font-size=\"12\" text-anchor=\"middle\" fill=\"black\" alignment-baseline=\"central\"  transform=\"rotate(-90 273.0 1460) translate(2)\" >0</text><text x=\"18\" y=\"735.0\" font-family=\"monospace\" font-size=\"15\" text-anchor=\"middle\" fill=\"black\" alignment-baseline=\"central\"  transform=\"rotate(-90 18 735.0) translate(2)\" >MNIST_CNN</text></svg></g></svg></p></td>\n</tr>\n<tr>\n  <td valign=\"top\" align=\"center\"><p style=\"text-align:center\"><b>conv2D_1 features</b></p><table><tr><td style=\"border: 1px solid black;\"><img style=\"image-rendering: pixelated;\" class=\"MNIST_CNN_conv2D_1_feature0\" src=\"data:image/gif;base64,R0lGODdhYABgAIcAAP78/ebm/9jY/8bG/6mp/7W1/5mZ/wAAAAAAAAAAAAAAAAAAAAAAAAAAAAAAAAAAAAAAAAAAAAAAAAAAAAAAAAAAAAAAAAAAAAAAAAAAAAAAAAAAAAAAAAAAAAAAAAAAAAAAAAAAAAAAAAAAAAAAAAAAAAAAAAAAAAAAAAAAAAAAAAAAAAAAAAAAAAAAAAAAAAAAAAAAAAAAAAAAAAAAAAAAAAAAAAAAAAAAAAAAAAAAAAAAAAAAAAAAAAAAAAAAAAAAAAAAAAAAAAAAAAAAAAAAAAAAAAAAAAAAAAAAAAAAAAAAAAAAAAAAAAAAAAAAAAAAAAAAAAAAAAAAAAAAAAAAAAAAAAAAAAAAAAAAAAAAAAAAAAAAAAAAAAAAAAAAAAAAAAAAAAAAAAAAAAAAAAAAAAAAAAAAAAAAAAAAAAAAAAAAAAAAAAAAAAAAAAAAAAAAAAAAAAAAAAAAAAAAAAAAAAAAAAAAAAAAAAAAAAAAAAAAAAAAAAAAAAAAAAAAAAAAAAAAAAAAAAAAAAAAAAAAAAAAAAAAAAAAAAAAAAAAAAAAAAAAAAAAAAAAAAAAAAAAAAAAAAAAAAAAAAAAAAAAAAAAAAAAAAAAAAAAAAAAAAAAAAAAAAAAAAAAAAAAAAAAAAAAAAAAAAAAAAAAAAAAAAAAAAAAAAAAAAAAAAAAAAAAAAAAAAAAAAAAAAAAAAAAAAAAAAAAAAAAAAAAAAAAAAAAAAAAAAAAAAAAAAAAAAAAAAAAAAAAAAAAAAAAAAAAAAAAAAAAAAAAAAAAAAAAAAAAAAAAAAAAAAAAAAAAAAAAAAAAAAAAAAAAAAAAAAAAAAAAAAAAAAAAAAAAAAAAAAAAAAAAAAAAAAAAAAAAAAAAAAAAAAAAAAAAAAAAAAAAAAAAAAAAAAAAAAAAAAAAAAAAAAAAAAAAAAAAAAAAAAAAAAAAAAAAAAAAAAAAAAAAAAAAAAAAAAAAAAAAAAAAAAAAAAAAAAAAAAAAAAAAAAAAAAAAAAAAAAAAAAAAACwAAAAAYABgAEAI/wABCBxIsKDBgwgTKlzIsKHDhxAjSpyoUIBFAQUyFhDAUQCAjyA/BhgZAIBJAAFSBhDAsiXLADBjypw5E4DNmzhz6tzJM4DPAACCCh1KtKjRo0iTKl3KtKnTp1CjSp1KFcCAqwMKaC0AoKvXr2DDih1LtqzZs2EHqB1AoC0BAHDjyp1Lt67du3jz6qU7oO+AAoALABhMuLDhw4gTK17MuPFgAZAFEJhMQIBlAQAya97MubPnz6BDix6deYDpAQZSGwDAurXr17Bjy55Nu7Zt2ANyDyDAmwCA38CDCx9OvLjx48iTDxfAXECB5wUASJ9Ovbr169iza9/Ovbv37+DDf/8PQD6AgPPozwNYz769+/fw48ufT7/++wD4AwjYLwCAf4AABA4kWNAgwQAJFS5k2FAhAIgRJUIMUDEAAIwZNW7k2NHjR5AhRY4EEMBkAAApVa5k2dLlS5gxZaYUUFMAAJw5de7k2dPnT6BBhfIMUDQAAaQEAiwNAMDpU6hOA0wNAMDqVaxZtW7l2tVr1wBhAxAgSwDAWbRp1QII0DYAALhx5c6lW9fuXbx3B+wdQMAvAQCBBQ8mDCDA4QAAFC9m3NjxY8iRJUceUHkAAcwEAGzm3NkzgAChAwAgXdr0adSpVa9mfTrA6wAFZBcYUHsAANy5de/m3dv3b+DBheMOUDz/AAHkBAQsFwDA+XPo0aVPp17d+nXs2bVv597d+3fw4cWPJ1/e/Hn06bsHYB9AwHv47wHMp1/f/n38+fXv59//PkABAgUUKFhAAEIBABYyXBjgYQAAEgEEqBhAAMaMGANw7Ojx40cAIkeSLGnyJMoAKgMIaCkAAMyYMmfSrBngJs6cOnfiBODzJ1CfAYYGAGD0KNKkSQMwDQDgKdSoUqdSrWr1KtasWrdy7eoVa4CwAQCQLWv2LNq0ateybev2Ldy4cue2FWBXAIC8evfy7ev3L+DAggcHHmB4QIHEBQAwbuz4MeTIkidTrmwZcoDMAQhwJhDgcwAAokeTFh3gdAAA/6pXs27t+jXs2LJnqx5gewCB3AQA8O7t+zfw4MKHEy9uHHiA5AEIMCcA4Dn06NIBBKgeAAD27Nq3c+/u/Tv48NgHkB9Q4HwBAOrXs2/v/j38+PLn03c/4P4AAvoJAOjvHyAAgQMJBjAYAEBChQsZNnT4EGJEiAIoCiBwkYAAjQIAdPT4EWRIkSNJljR5MuQAlQMItCQAAGZMmTMBBLAZAEBOnTt59vT5E2hQoAOIDjBw1AAApUuZNnX6FGpUqVOpOg1wNUABrQUGdB0AAGxYsWPJljV7Fm1atWQHtB1AAC4BAHPp1rV7F29evXv59r0bAHAAAoMJCDAsAEBixYsZN/92/BhyZMmTGwuwLKBA5gIAOHf2/Bl0aNGjSZc2fRp1atWrWbd2/Rp2bNmzade2fRt3bt27eff2/Rt45wDDAwgwftw4AOXLmTd3/hx6dOnTqTsPcD2AAO3btQPw/h18ePHjyZc3fx69eAHrBRRwX0BAfAEA6NenHwB/AAD7AQTwDzCAgIEEBwY4iDChQoUAGjp8CDGixIkCKgoogLGAgI0CAHj86DGAyAAASgIIgDKAgJUsVwZ4CTOmTJkAatq8iTOnzp0BegYQAFQAgKFEixo9ijSA0qVMmzpdCiCq1KlRA1gNACCr1q1cuQb4GkCAWAEAypo9izat2gBs27p9C7f/LYC5dOvODYA3AIC9fPv69RsgcAAAhAsbPow4seLFjBs7fgwggOQAACpbvow5s+bNnDt7/gw6tOjRpD0HOB0AgOrVrFu7fg07tuzZtGsDCIA7AIDdvHv7/g08uPDhxIsbP448ufLlzJs7fw5cgHQBAKpbv449u/bt3Lt7/w4egIDxAgCYP48+vfr17Nu7fw/f/YD5AwrYLwAgv/79/Pv7BwhA4ECCBQ0eRJhQYcEBDQcUgFgAwESKFS1exJhR40aOHS8GABmAwEgCAUwGAJBS5cqUAVwGABBT5kyaNW3exJlTZ8wAPQMQAEogwNAAAIweRWo0wNIAAJw+hRpV6lSq/1WtXnU6QOsAAl0JAAAbVuxYsmXNnkWbVi3aAW0HEIBLAMBcunXt3sWbV+9evn3vBgAcgMBgAgAMH0acGEAAxgEAPIYcWfJkypUtX8b8OMDmAAQ8EwAQWvRo0gACnA4AQPVq1q1dv4YdW/Zs1QNsDyiQuwAA3r19/wYeXPhw4sWNEx+QfEAB5gUAPIceXfp06tWtX8eeffoA7gMIfCcAQPx48uUBBEAfAMB69u3dv4cfX/58+usH3B9AQD8BAP39AwQgcCDBAAYDAEiocCHDhg4fQowIUQBFAQQuEhCgUQCAjh4/ggwpciTJkiZPhhSgUgCBlgQEwBQAYCbNmjZv4v/MqXMnz543BwAdQGAoAQBGjyJNCiAA0wAAnkKNKnUq1apWr2J9OmDrAAJeCQAIK3YsWQABzgYAoHYt27Zu38KNKzfugLoDDOA1AGAv375+/wIOLHgw4cKDByAeYGCxAQCOH0OOLHky5cqWL2OWHGBzgAKeCwwIPQAA6dKmT6NOrXo169auUQeIHaAA7QIDbg8AoHs3796+fwMPLnw4cd8Djg8goJwAgObOn0OPLn069erWr1cfoH0Age4EAIAPL348+fLmz6NPr558gPYBCMAnIGC+AAD27+PPr38///7+AQIQOJBgQYMHAQRQGIBAQwICIAoAMJFiRYsXMWbUuJE7Y8eLAkAKKDCyAACTJ1GmVLmSZUuXL2G6FDBTQAGbBQDk1LmTZ0+fP4EGFTqUaFGjR5EmVbqUaVOdAQEAOw==\"/><br/><center>Feature 0</center></td><td style=\"border: 1px solid black;\"><img style=\"image-rendering: pixelated;\" class=\"MNIST_CNN_conv2D_1_feature1\" src=\"data:image/gif;base64,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\"/><br/><center>Feature 1</center></td><td style=\"border: 1px solid black;\"><img style=\"image-rendering: pixelated;\" class=\"MNIST_CNN_conv2D_1_feature2\" src=\"data:image/gif;base64,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\"/><br/><center>Feature 2</center></td><td style=\"border: 1px solid black;\"><img style=\"image-rendering: pixelated;\" class=\"MNIST_CNN_conv2D_1_feature3\" src=\"data:image/gif;base64,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\"/><br/><center>Feature 3</center></td><td style=\"border: 1px solid black;\"><img style=\"image-rendering: pixelated;\" class=\"MNIST_CNN_conv2D_1_feature4\" src=\"data:image/gif;base64,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\"/><br/><center>Feature 4</center></td><td style=\"border: 1px solid black;\"><img style=\"image-rendering: pixelated;\" class=\"MNIST_CNN_conv2D_1_feature5\" src=\"data:image/gif;base64,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\"/><br/><center>Feature 5</center></td><td style=\"border: 1px solid black;\"><img style=\"image-rendering: pixelated;\" class=\"MNIST_CNN_conv2D_1_feature6\" src=\"data:image/gif;base64,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\"/><br/><center>Feature 6</center></td><td style=\"border: 1px solid black;\"><img style=\"image-rendering: pixelated;\" class=\"MNIST_CNN_conv2D_1_feature7\" src=\"data:image/gif;base64,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\"/><br/><center>Feature 7</center></td></tr><tr><td style=\"border: 1px solid black;\"><img style=\"image-rendering: pixelated;\" class=\"MNIST_CNN_conv2D_1_feature8\" src=\"data:image/gif;base64,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\"/><br/><center>Feature 8</center></td><td style=\"border: 1px solid black;\"><img style=\"image-rendering: pixelated;\" class=\"MNIST_CNN_conv2D_1_feature9\" src=\"data:image/gif;base64,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\"/><br/><center>Feature 9</center></td><td style=\"border: 1px solid black;\"><img style=\"image-rendering: pixelated;\" class=\"MNIST_CNN_conv2D_1_feature10\" src=\"data:image/gif;base64,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\"/><br/><center>Feature 10</center></td><td style=\"border: 1px solid black;\"><img style=\"image-rendering: pixelated;\" class=\"MNIST_CNN_conv2D_1_feature11\" src=\"data:image/gif;base64,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\"/><br/><center>Feature 11</center></td><td style=\"border: 1px solid black;\"><img style=\"image-rendering: pixelated;\" class=\"MNIST_CNN_conv2D_1_feature12\" src=\"data:image/gif;base64,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\"/><br/><center>Feature 12</center></td><td style=\"border: 1px solid black;\"><img style=\"image-rendering: pixelated;\" class=\"MNIST_CNN_conv2D_1_feature13\" src=\"data:image/gif;base64,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\"/><br/><center>Feature 13</center></td><td style=\"border: 1px solid black;\"><img style=\"image-rendering: pixelated;\" class=\"MNIST_CNN_conv2D_1_feature14\" src=\"data:image/gif;base64,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\"/><br/><center>Feature 14</center></td><td style=\"border: 1px solid black;\"><img style=\"image-rendering: pixelated;\" class=\"MNIST_CNN_conv2D_1_feature15\" src=\"data:image/gif;base64,R0lGODdhYABgAIcAAP78/be3/8bG/+fn/9fX/6am/4aG/5iY/2lp/3V1/wAAAAAAAAAAAAAAAAAAAAAAAAAAAAAAAAAAAAAAAAAAAAAAAAAAAAAAAAAAAAAAAAAAAAAAAAAAAAAAAAAAAAAAAAAAAAAAAAAAAAAAAAAAAAAAAAAAAAAAAAAAAAAAAAAAAAAAAAAAAAAAAAAAAAAAAAAAAAAAAAAAAAAAAAAAAAAAAAAAAAAAAAAAAAAAAAAAAAAAAAAAAAAAAAAAAAAAAAAAAAAAAAAAAAAAAAAAAAAAAAAAAAAAAAAAAAAAAAAAAAAAAAAAAAAAAAAAAAAAAAAAAAAAAAAAAAAAAAAAAAAAAAAAAAAAAAAAAAAAAAAAAAAAAAAAAAAAAAAAAAAAAAAAAAAAAAAAAAAAAAAAAAAAAAAAAAAAAAAAAAAAAAAAAAAAAAAAAAAAAAAAAAAAAAAAAAAAAAAAAAAAAAAAAAAAAAAAAAAAAAAAAAAAAAAAAAAAAAAAAAAAAAAAAAAAAAAAAAAAAAAAAAAAAAAAAAAAAAAAAAAAAAAAAAAAAAAAAAAAAAAAAAAAAAAAAAAAAAAAAAAAAAAAAAAAAAAAAAAAAAAAAAAAAAAAAAAAAAAAAAAAAAAAAAAAAAAAAAAAAAAAAAAAAAAAAAAAAAAAAAAAAAAAAAAAAAAAAAAAAAAAAAAAAAAAAAAAAAAAAAAAAAAAAAAAAAAAAAAAAAAAAAAAAAAAAAAAAAAAAAAAAAAAAAAAAAAAAAAAAAAAAAAAAAAAAAAAAAAAAAAAAAAAAAAAAAAAAAAAAAAAAAAAAAAAAAAAAAAAAAAAAAAAAAAAAAAAAAAAAAAAAAAAAAAAAAAAAAAAAAAAAAAAAAAAAAAAAAAAAAAAAAAAAAAAAAAAAAAAAAAAAAAAAAAAAAAAAAAAAAAAAAAAAAAAAAAAAAAAAAAAAAAAAAAAAAAAAAAAAAAAAAAAAAAAAAAAAAAAAAAAAAAAAAAAAAAAAAAAAAAAAAAAAAAAAAAAAAAAAAAAACwAAAAAYABgAEAI/wABCBxIsKDBgwgTKlzIsKHDhxAjSpxIsaLFixQJaCQAoCMAASAFBBgZwIDJkyYPqDxgoKWBBDATIJiJIIHNBAhy6sx5oOeBAkCDAjVA1ECAowEIKCUwoOkAAFCjSp1KtarVq1izat3KtavXr10HiB0goKyAAWgHAFjLtq3bt3Djyp1Lt+5aAngJBNgbAIDfv4ADCx5MuLDhw4gFE1hMQIBjAQAiS55MubLly5gza95ceYDnAQdCHxhAegCA06hTq17NurXr17BfE5hNYIDtAQdyHwDAu7fv38CDCx9OvLhx4AKSK08OoLnz59CjS59Ovbr1680DaA9QoHuBAOADAP8YT768+fPo06tfz769+/fw48ufT7++/fvkCegnIKC/AIABBA4USMDgQYMAFC5k2NDhQ4YDJE6UCMDiRYwZNW7k2NEjAAIhCQggKaDAyQIBVK5UOcDlS5cFZBYIUDOAAJwCBuwcQMAnAQBBhQ4lWtToUaRJlS5l2tTpU6hKCUwlEMBqgAJZCwDg2tXrV7BhxY4lW9Ys1wFpBwhg25YtALhx5c6lW9fuXbx59cId0HeAAMACAgwOAMDwYcSJFS9m3NjxY8iGBUwWEMDyZcsANG/m3NnzZ9ChRY8mrVnAaQEFVBcA0Nr1a9ixZc+mXdv27dgCdAsw0NsAAODBhQ8nXtz/+HHkyYkPYD4AwHMABKQTKFC9QADsAQRsFwDA+3fw4cWPJ1/e/Hn06dWvZ9/e/Xv48eXPp1/f/n38+fXv58+eAEACAgUQFBDgIMKDBBYyXAjgIcSIEidSjDjgIsaLADZy7OjxI0cCIgkAKAlAAEoBAVYGMODypcsDMg8YqGkgAc4ECHYiSOAzAYKgQoMeKHqgANKkSA0wNRDgaQACUgkMqDoAANasWrdy7er1a1YCYgkIKCugANoCAdayXTvgLdy3BeYWCGA3gIC8AgbwHUDgLwEAggcTLmz4MOLEihczbuz4MeTIkidTrmx58YDMAwRwFjDg8wAAokeTLm36NOrU/6pXsxZN4DWBALIDFKhdAADu3Lp38+7t+zfw4MJ5EyhOIADyAACWM2/u/Dn06NKnU6/+fAD2AQK2c98O4Dv48OLHky9v/jz69OMJsCcg4L0AAPLn069v/z7+/Pr387c/AOAAgQIICghwMAAAhQsZNnT4EGJEiRMpOhxwccABjQcGdBwAAGRIkSNJljR5EmVKlSAFtBQQAGZMmABo1rR5E2dOnTt59vRJk0BQAgOIDjhw9AAApUuZNnX6FGpUqVOpOhVwVUABrQUAdPX6FWxYsWPJljV7tqwAtWvVAnD7Fm5cuXPp1rV7F69cAXsFGPBrAEBgwYMJFzZ8GHFixYsLB/9wHKBA5AIBKAcAcBlzZs2bOXf2/Bn05gGjBwAwDYBAagIFWBcI8DqAANkCANS2fRt3bt27eff2/Rt4cOHDiRc3fhx5cuXLmTd3/hx6dOnTqVe3fh17du3buXf3/r06AfEEBJQXEAB9evQE2LdnDwB+fPnz6deXPwB/fvwA+Pf3DxCAwIEECxoEQCAhAQEMBQR4CPEhgYkUJwK4iDGjxo0cMw74CPIjgJEkS5o8SZKASgIAWgIQAFNAgJkBDNi8afOAzgMGehpIADQBgqEIEhhNgCCp0qQHmh4oADUqVANUDQS4GoCAVgIDug4AADas2LEACJglACAtAAFsBQR4G8D/gNy5cg/YPWAgr4EEfBMg+IsggeAECAobLnwg8YECjBszNgDZQIDJAQhYJjAg8wAAnDt7/gw6tOjRnQmYJiAgtYACrAsEeA379YDZtGcXuF0ggO4AAnoLGAB8AIHhBAAYP448ufLlzJsfJwCdgIDpAgpYLxAgu/bsA7p7714gfIEA5AMIOC9ggPoBBNoTAAA/vvz59Ovbv48/v/79/Pv7BwhA4ECCBQ0eRJhQ4UKGDR0+hBhR4kSKFS1exEhxwMYBAjwKGBByAACSJU2eRJlS5UqWLV2iHBBzgACaAgbcHABA506ePX3+BBpU6FCiOgkcJRBAaYACTQsAgBpV6lSq/1WtXsWaVStVAl0JBAAboMDYAgDMnkWbVu1atm3dvoWrlsBcAgHsBgCQV+9evn39/gUcWPDgwAQMEwiQOAAAxo0dP4YcWfJkypUtQx6QeYAAzp05AwAdWvRo0qVNn0adWjXpAa0HCIAdGzYA2rVt38adW/du3r194yYQnIAA4gIAHEeeXPly5s2dP4ce/TkB6gQEXBcAQPt27t29fwcfXvx48t4HnB8gQL2AAO0DAIAfX/58+vXt38efXz/9Af0HABQgUECAggEAIEyocCHDhg4fQowokeGAigMOYDwwYOMAAB4/ggwpciTJkiZPohQ5YOWAAy4PDIg5AADNmjZv4v/MqXMnz54+aQoIKiAA0aJEASBNqnQp06ZOn0KNKpWpgKoCAmDNihUA165ev4INK3Ys2bJmuRJIS2AA2wEH3h4AIHcu3bp27+LNq3cvX7sE/hIYIHjAgcIHACBOrHgx48aOH0OOLJmxgMoCCmAuAGAz586eP4MOLXo06dKjBaAWUGB1AQCuX8OOLXs27dq2b+O2LWA3790AfgMPLnw48eLGjyNPflwA8+bMAUCPLn069erWr2PPrp26gO4CDIA3AGA8+fLmz6NPr349+/brBcAXYGC+AQD27+PPr38///7+AQIQOJBgQYMHAQRQGKBAwwIBIAYAMJFiRYsXMWbUuJFdY8eLAUAGKDCyQACTAQCkVLmSZUuXL2HGlNlyQM0BAHACILCTQAGfBQIEDSCAqAAAR5EmVbqUaVOnT6EuHTB1AACrAAhkJVCAa4EAXwMIECsAQFmzZ9GmVbuWrdmAADs=\"/><br/><center>Feature 15</center></td></tr><tr></tr></table></td>\n</tr>\n</table>"
      }
     },
     "1c9fe884e4ab48c68fb9de1614011849": {
      "model_module": "@jupyter-widgets/controls",
      "model_module_version": "1.1.0",
      "model_name": "DescriptionStyleModel",
      "state": {
       "description_width": ""
      }
     },
     "1daa804d9e6d463fae1e737491bcdf4e": {
      "model_module": "@jupyter-widgets/base",
      "model_module_version": "1.0.0",
      "model_name": "LayoutModel",
      "state": {}
     },
     "1dcf04845a254f96a61d5a15bfae4f7a": {
      "model_module": "@jupyter-widgets/controls",
      "model_module_version": "1.1.0",
      "model_name": "HBoxModel",
      "state": {
       "children": [
        "IPY_MODEL_b80eae3936734782a50e8af1ff964644",
        "IPY_MODEL_fefb773b537f47838c8cf8dbb521f7b5"
       ],
       "layout": "IPY_MODEL_cfe4896d782a4600a08705a735945dfb"
      }
     },
     "1e9f6e44dafc4ed481db159ff5acd666": {
      "model_module": "@jupyter-widgets/controls",
      "model_module_version": "1.1.0",
      "model_name": "DescriptionStyleModel",
      "state": {
       "description_width": "initial"
      }
     },
     "1ffba1c0bd0244aa89171e8de0eefaad": {
      "model_module": "@jupyter-widgets/controls",
      "model_module_version": "1.1.0",
      "model_name": "VBoxModel",
      "state": {
       "children": [
        "IPY_MODEL_3763e83ae88f46aab83f38b3eb1395f3",
        "IPY_MODEL_2448f4cbe80c4e5f877907f41c791c34"
       ],
       "layout": "IPY_MODEL_2a9aececac5345adb58dbcb7f992db62"
      }
     },
     "2448f4cbe80c4e5f877907f41c791c34": {
      "model_module": "@jupyter-widgets/controls",
      "model_module_version": "1.1.0",
      "model_name": "HBoxModel",
      "state": {
       "children": [
        "IPY_MODEL_5a31bf713b694d39bb684e4b825ccfde",
        "IPY_MODEL_f4d83535e5374fe6b1f94c8776157479",
        "IPY_MODEL_254eabef9b9c49c8a775ee3c7bd11f1d",
        "IPY_MODEL_1c6ba462db5149a084fac71791a70b7b",
        "IPY_MODEL_7ce5d552f17546e9aed148332f88868f",
        "IPY_MODEL_36176b80e17a4602b186688dfe9c835c",
        "IPY_MODEL_19dac85a57bb4193b681193d71fe2ce6"
       ],
       "layout": "IPY_MODEL_042bad367b7042619a7239b828043898"
      }
     },
     "24b5b57a41d648d999f5817a0df4c294": {
      "model_module": "@jupyter-widgets/base",
      "model_module_version": "1.0.0",
      "model_name": "LayoutModel",
      "state": {}
     },
     "24e8074465914446be9fc4c74b9458b3": {
      "model_module": "@jupyter-widgets/controls",
      "model_module_version": "1.1.0",
      "model_name": "DescriptionStyleModel",
      "state": {
       "description_width": ""
      }
     },
     "254eabef9b9c49c8a775ee3c7bd11f1d": {
      "model_module": "@jupyter-widgets/controls",
      "model_module_version": "1.1.0",
      "model_name": "IntTextModel",
      "state": {
       "layout": "IPY_MODEL_99c413ac9022428bac0504357bf391c3",
       "step": 1,
       "style": "IPY_MODEL_19df5d8a7a80449e98a7aa85910e1e03"
      }
     },
     "25c2919d727f419ab7d97152b81c348c": {
      "model_module": "@jupyter-widgets/controls",
      "model_module_version": "1.1.0",
      "model_name": "IntTextModel",
      "state": {
       "layout": "IPY_MODEL_bbd7c38c29764358b45839f63a686a86",
       "step": 1,
       "style": "IPY_MODEL_6f0755f689de4cc78f553b4063541ea1"
      }
     },
     "27697ebf55a04a7983436f6fe325705d": {
      "model_module": "@jupyter-widgets/base",
      "model_module_version": "1.0.0",
      "model_name": "LayoutModel",
      "state": {
       "width": "100%"
      }
     },
     "27e1ec78a6444160a9231b217bf5cf17": {
      "model_module": "@jupyter-widgets/controls",
      "model_module_version": "1.1.0",
      "model_name": "SliderStyleModel",
      "state": {
       "description_width": ""
      }
     },
     "28ee02612e4b4976b7be42017f4ff072": {
      "model_module": "@jupyter-widgets/controls",
      "model_module_version": "1.1.0",
      "model_name": "ButtonModel",
      "state": {
       "icon": "save",
       "layout": "IPY_MODEL_bc350e87feb94256beb1e1bd622615fe",
       "style": "IPY_MODEL_2959ee3e7c5e435da15e22f7bba0c42d"
      }
     },
     "2959ee3e7c5e435da15e22f7bba0c42d": {
      "model_module": "@jupyter-widgets/controls",
      "model_module_version": "1.1.0",
      "model_name": "ButtonStyleModel",
      "state": {}
     },
     "29d050536b804e21ab04096106d9993e": {
      "model_module": "@jupyter-widgets/controls",
      "model_module_version": "1.1.0",
      "model_name": "CheckboxModel",
      "state": {
       "description": "Rotate",
       "disabled": false,
       "layout": "IPY_MODEL_6e17d93379b840a2a608c33346e64ecb",
       "style": "IPY_MODEL_24e8074465914446be9fc4c74b9458b3",
       "value": true
      }
     },
     "2a9aececac5345adb58dbcb7f992db62": {
      "model_module": "@jupyter-widgets/base",
      "model_module_version": "1.0.0",
      "model_name": "LayoutModel",
      "state": {
       "width": "100%"
      }
     },
     "2b0c0f264c1349768232b3268dcb780f": {
      "model_module": "@jupyter-widgets/controls",
      "model_module_version": "1.1.0",
      "model_name": "FloatSliderModel",
      "state": {
       "continuous_update": false,
       "description": "Zoom",
       "layout": "IPY_MODEL_466130c2b39643c3ad73e0b760c5e508",
       "max": 1,
       "step": 0.1,
       "style": "IPY_MODEL_2caeb3a10d314b83a362b61dd5f287b8",
       "value": 0.6
      }
     },
     "2be6f694f08942379cb67cbb431dffd7": {
      "model_module": "@jupyter-widgets/controls",
      "model_module_version": "1.1.0",
      "model_name": "VBoxModel",
      "state": {
       "children": [
        "IPY_MODEL_f7ccc9dc6ed144a7abfc04549d021d5f",
        "IPY_MODEL_2b0c0f264c1349768232b3268dcb780f",
        "IPY_MODEL_7700ecbb58184a0b8a4696094e09ecfb",
        "IPY_MODEL_741871c0a64d4821979d7a77f36bbf5d",
        "IPY_MODEL_1dcf04845a254f96a61d5a15bfae4f7a",
        "IPY_MODEL_663f900091644d9bbfb776503901a15d",
        "IPY_MODEL_f1262d69ddad465d878cd34fb3a804dd",
        "IPY_MODEL_51be3532e86148af9e8c719cbd061969"
       ],
       "layout": "IPY_MODEL_a75f1643da9c47a8aeece63c366ee386"
      }
     },
     "2c46f3f1839447a3ba718cc2b23d371b": {
      "model_module": "@jupyter-widgets/controls",
      "model_module_version": "1.1.0",
      "model_name": "ButtonModel",
      "state": {
       "icon": "save",
       "layout": "IPY_MODEL_9f822b1aef8944a294b08fc5dd6f89e4",
       "style": "IPY_MODEL_cef6d05077be4388ab5b19e507264e60"
      }
     },
     "2caeb3a10d314b83a362b61dd5f287b8": {
      "model_module": "@jupyter-widgets/controls",
      "model_module_version": "1.1.0",
      "model_name": "SliderStyleModel",
      "state": {
       "description_width": "initial"
      }
     },
     "2d42ecc9168c4ef4868d045b24262bcd": {
      "model_module": "@jupyter-widgets/base",
      "model_module_version": "1.0.0",
      "model_name": "LayoutModel",
      "state": {
       "width": "100%"
      }
     },
     "2d63adc079b04358965f3e483b24d317": {
      "model_module": "@jupyter-widgets/controls",
      "model_module_version": "1.1.0",
      "model_name": "ButtonModel",
      "state": {
       "icon": "backward",
       "layout": "IPY_MODEL_ed8bab30fadc44ebb5d7ee49c55d101b",
       "style": "IPY_MODEL_ea6866b16a96486bb278749f651fe46c"
      }
     },
     "2eb1739664224547b4c974316b5d3092": {
      "model_module": "@jupyter-widgets/controls",
      "model_module_version": "1.1.0",
      "model_name": "VBoxModel",
      "state": {
       "children": [
        "IPY_MODEL_89c39876b8074c02ad10f4cf977f3735",
        "IPY_MODEL_c53ee3f67ebb4071ae36090159749e4e",
        "IPY_MODEL_01a8b3252a064ca8988340726c167864",
        "IPY_MODEL_b7ea96a50ca74f0cbf332d850aec4060",
        "IPY_MODEL_a11c4ba3973d44cfb7e7a2f05a5d80e5",
        "IPY_MODEL_389a921bc19b432fa002a497ddc6005b",
        "IPY_MODEL_522da4ddeb44409cbebcc30349324956",
        "IPY_MODEL_3b04f99cb48b4dbeaa4e3b81f676d8fe"
       ],
       "layout": "IPY_MODEL_3bf30357a0a940eda7c4ec56f5213af3"
      }
     },
     "2ef7d5f806bc4538b8006f248d5ccd13": {
      "model_module": "@jupyter-widgets/controls",
      "model_module_version": "1.1.0",
      "model_name": "HBoxModel",
      "state": {
       "children": [
        "IPY_MODEL_830b7decffee46c1b77a74e9a3b071bc",
        "IPY_MODEL_87520bdb8b6148ae9fb1f601ca7be604"
       ],
       "layout": "IPY_MODEL_6ed8116e3d75439693c90fedbb0144a8"
      }
     },
     "2f4a378e7afc41cabbeb736f2a16e1b4": {
      "model_module": "@jupyter-widgets/controls",
      "model_module_version": "1.1.0",
      "model_name": "SelectModel",
      "state": {
       "_options_labels": [
        "",
        "Accent",
        "Accent_r",
        "Blues",
        "Blues_r",
        "BrBG",
        "BrBG_r",
        "BuGn",
        "BuGn_r",
        "BuPu",
        "BuPu_r",
        "CMRmap",
        "CMRmap_r",
        "Dark2",
        "Dark2_r",
        "GnBu",
        "GnBu_r",
        "Greens",
        "Greens_r",
        "Greys",
        "Greys_r",
        "OrRd",
        "OrRd_r",
        "Oranges",
        "Oranges_r",
        "PRGn",
        "PRGn_r",
        "Paired",
        "Paired_r",
        "Pastel1",
        "Pastel1_r",
        "Pastel2",
        "Pastel2_r",
        "PiYG",
        "PiYG_r",
        "PuBu",
        "PuBuGn",
        "PuBuGn_r",
        "PuBu_r",
        "PuOr",
        "PuOr_r",
        "PuRd",
        "PuRd_r",
        "Purples",
        "Purples_r",
        "RdBu",
        "RdBu_r",
        "RdGy",
        "RdGy_r",
        "RdPu",
        "RdPu_r",
        "RdYlBu",
        "RdYlBu_r",
        "RdYlGn",
        "RdYlGn_r",
        "Reds",
        "Reds_r",
        "Set1",
        "Set1_r",
        "Set2",
        "Set2_r",
        "Set3",
        "Set3_r",
        "Spectral",
        "Spectral_r",
        "Vega10",
        "Vega10_r",
        "Vega20",
        "Vega20_r",
        "Vega20b",
        "Vega20b_r",
        "Vega20c",
        "Vega20c_r",
        "Wistia",
        "Wistia_r",
        "YlGn",
        "YlGnBu",
        "YlGnBu_r",
        "YlGn_r",
        "YlOrBr",
        "YlOrBr_r",
        "YlOrRd",
        "YlOrRd_r",
        "afmhot",
        "afmhot_r",
        "autumn",
        "autumn_r",
        "binary",
        "binary_r",
        "bone",
        "bone_r",
        "brg",
        "brg_r",
        "bwr",
        "bwr_r",
        "cool",
        "cool_r",
        "coolwarm",
        "coolwarm_r",
        "copper",
        "copper_r",
        "cubehelix",
        "cubehelix_r",
        "flag",
        "flag_r",
        "gist_earth",
        "gist_earth_r",
        "gist_gray",
        "gist_gray_r",
        "gist_heat",
        "gist_heat_r",
        "gist_ncar",
        "gist_ncar_r",
        "gist_rainbow",
        "gist_rainbow_r",
        "gist_stern",
        "gist_stern_r",
        "gist_yarg",
        "gist_yarg_r",
        "gnuplot",
        "gnuplot2",
        "gnuplot2_r",
        "gnuplot_r",
        "gray",
        "gray_r",
        "hot",
        "hot_r",
        "hsv",
        "hsv_r",
        "inferno",
        "inferno_r",
        "jet",
        "jet_r",
        "magma",
        "magma_r",
        "nipy_spectral",
        "nipy_spectral_r",
        "ocean",
        "ocean_r",
        "pink",
        "pink_r",
        "plasma",
        "plasma_r",
        "prism",
        "prism_r",
        "rainbow",
        "rainbow_r",
        "seismic",
        "seismic_r",
        "spectral",
        "spectral_r",
        "spring",
        "spring_r",
        "summer",
        "summer_r",
        "tab10",
        "tab10_r",
        "tab20",
        "tab20_r",
        "tab20b",
        "tab20b_r",
        "tab20c",
        "tab20c_r",
        "terrain",
        "terrain_r",
        "viridis",
        "viridis_r",
        "winter",
        "winter_r"
       ],
       "description": "Colormap:",
       "index": 0,
       "layout": "IPY_MODEL_fbee96eae8be483bb74e9ea85a172ae3",
       "rows": 1,
       "style": "IPY_MODEL_d740aca3357e455a860123d8dd7dbf0a"
      }
     },
     "2f8970312b594267a30f0fb65ad9214d": {
      "model_module": "@jupyter-widgets/base",
      "model_module_version": "1.0.0",
      "model_name": "LayoutModel",
      "state": {}
     },
     "2fcb48f8fed741909f27a4f2920bf9af": {
      "model_module": "@jupyter-widgets/base",
      "model_module_version": "1.0.0",
      "model_name": "LayoutModel",
      "state": {
       "height": "50px",
       "width": "100%"
      }
     },
     "2fede3ba135541508409ff8e49e31786": {
      "model_module": "@jupyter-widgets/controls",
      "model_module_version": "1.1.0",
      "model_name": "DescriptionStyleModel",
      "state": {
       "description_width": "initial"
      }
     },
     "307e8988328647ebbe29f581afd2a7c6": {
      "model_module": "@jupyter-widgets/controls",
      "model_module_version": "1.1.0",
      "model_name": "DescriptionStyleModel",
      "state": {
       "description_width": ""
      }
     },
     "3273c403d4c24650a8079138c5473d0a": {
      "model_module": "@jupyter-widgets/controls",
      "model_module_version": "1.1.0",
      "model_name": "FloatTextModel",
      "state": {
       "description": "Rightmost color maps to:",
       "layout": "IPY_MODEL_39bf85494aed4b8a9fd3e4587a523ec4",
       "step": null,
       "style": "IPY_MODEL_cceeaf17203a4ce6a1a22adf31f820b9",
       "value": 2
      }
     },
     "32a6d0b4c020411d8781645d7ae40ac2": {
      "model_module": "@jupyter-widgets/controls",
      "model_module_version": "1.1.0",
      "model_name": "VBoxModel",
      "state": {
       "children": [
        "IPY_MODEL_f95521f2a2d84729850a8dafc5d8859e",
        "IPY_MODEL_a6821f5678044ddd8a89da74413d6a75"
       ],
       "layout": "IPY_MODEL_89518827696a4f1587f0aaf0aa50790c"
      }
     },
     "33f200421dd04867aec9cb8e8a0e7d0b": {
      "model_module": "@jupyter-widgets/controls",
      "model_module_version": "1.1.0",
      "model_name": "DescriptionStyleModel",
      "state": {
       "description_width": ""
      }
     },
     "340c1e0781c146d1aa9ae4838ec4215d": {
      "model_module": "@jupyter-widgets/base",
      "model_module_version": "1.0.0",
      "model_name": "LayoutModel",
      "state": {}
     },
     "341aaade57ca4681902d04223db6d6d5": {
      "model_module": "@jupyter-widgets/controls",
      "model_module_version": "1.1.0",
      "model_name": "DescriptionStyleModel",
      "state": {
       "description_width": "initial"
      }
     },
     "36176b80e17a4602b186688dfe9c835c": {
      "model_module": "@jupyter-widgets/controls",
      "model_module_version": "1.1.0",
      "model_name": "ButtonModel",
      "state": {
       "description": "Play",
       "icon": "play",
       "layout": "IPY_MODEL_723b505c27884d8c8a9b9f242f7afc20",
       "style": "IPY_MODEL_a6425d7c11c9491caa5c4874782fb417"
      }
     },
     "3763e83ae88f46aab83f38b3eb1395f3": {
      "model_module": "@jupyter-widgets/controls",
      "model_module_version": "1.1.0",
      "model_name": "HBoxModel",
      "state": {
       "children": [
        "IPY_MODEL_4b6930fdb759413c8c4bfe2d27b7dc45",
        "IPY_MODEL_b4ec7416ce794452972fd3fc7d2872d4"
       ],
       "layout": "IPY_MODEL_727201bd2f17490fb96ef8b6b4642adc"
      }
     },
     "377f5eae69fc416bb708a78fc489baf7": {
      "model_module": "@jupyter-widgets/controls",
      "model_module_version": "1.1.0",
      "model_name": "ButtonModel",
      "state": {
       "icon": "refresh",
       "layout": "IPY_MODEL_a412e90d4c46459f82e1e941a966aa9a",
       "style": "IPY_MODEL_70144dfc54194e1d90783d591971b0c5"
      }
     },
     "3865480f22594ec98782d0035569fc7c": {
      "model_module": "@jupyter-widgets/base",
      "model_module_version": "1.0.0",
      "model_name": "LayoutModel",
      "state": {
       "height": "40px"
      }
     },
     "389a921bc19b432fa002a497ddc6005b": {
      "model_module": "@jupyter-widgets/controls",
      "model_module_version": "1.1.0",
      "model_name": "SelectModel",
      "state": {
       "_options_labels": [
        "",
        "input"
       ],
       "description": "Features:",
       "index": 0,
       "layout": "IPY_MODEL_b02c0144958840fa9750ce665b45ddda",
       "rows": 1,
       "style": "IPY_MODEL_519153179f654b9483056a3358271c13"
      }
     },
     "389b950ffe4f404c933ac83f99177a33": {
      "model_module": "@jupyter-widgets/controls",
      "model_module_version": "1.1.0",
      "model_name": "DescriptionStyleModel",
      "state": {
       "description_width": "initial"
      }
     },
     "39bf85494aed4b8a9fd3e4587a523ec4": {
      "model_module": "@jupyter-widgets/base",
      "model_module_version": "1.0.0",
      "model_name": "LayoutModel",
      "state": {}
     },
     "39e02b2576924cb28b8e1f95a0c30482": {
      "model_module": "@jupyter-widgets/controls",
      "model_module_version": "1.1.0",
      "model_name": "DescriptionStyleModel",
      "state": {
       "description_width": ""
      }
     },
     "3a0d800e6b244302ba6549f5606b3a6a": {
      "model_module": "@jupyter-widgets/base",
      "model_module_version": "1.0.0",
      "model_name": "LayoutModel",
      "state": {}
     },
     "3a5b11bdfdae44688123bdfa5597939c": {
      "model_module": "@jupyter-widgets/base",
      "model_module_version": "1.0.0",
      "model_name": "LayoutModel",
      "state": {
       "width": "25%"
      }
     },
     "3a6dc0109e4742acbcf701c7fc613077": {
      "model_module": "@jupyter-widgets/base",
      "model_module_version": "1.0.0",
      "model_name": "LayoutModel",
      "state": {
       "width": "100%"
      }
     },
     "3a8e6a4e49ff431d9244861025b768e3": {
      "model_module": "@jupyter-widgets/base",
      "model_module_version": "1.0.0",
      "model_name": "LayoutModel",
      "state": {}
     },
     "3b04f99cb48b4dbeaa4e3b81f676d8fe": {
      "model_module": "@jupyter-widgets/controls",
      "model_module_version": "1.1.0",
      "model_name": "FloatTextModel",
      "state": {
       "description": "Feature scale:",
       "layout": "IPY_MODEL_2f8970312b594267a30f0fb65ad9214d",
       "step": null,
       "style": "IPY_MODEL_8abfc01e45f3439181d1da0aeda70584",
       "value": 1
      }
     },
     "3b34655e2d5446afaa57fa8a1fe35e6f": {
      "model_module": "@jupyter-widgets/controls",
      "model_module_version": "1.1.0",
      "model_name": "VBoxModel",
      "state": {
       "children": [
        "IPY_MODEL_ef0f2fd5bd2148c7b95563c8e1dc06a1",
        "IPY_MODEL_89ca8ef9d40e488e879ac77631692487",
        "IPY_MODEL_ba3e742e3cad4da4b0845be7d0ee6592",
        "IPY_MODEL_960286d8054c47b7a38aa75cfa21d4e4"
       ],
       "layout": "IPY_MODEL_f98fd285e0e4452383f59230be38561a"
      }
     },
     "3bf30357a0a940eda7c4ec56f5213af3": {
      "model_module": "@jupyter-widgets/base",
      "model_module_version": "1.0.0",
      "model_name": "LayoutModel",
      "state": {
       "width": "100%"
      }
     },
     "3d27cc0b04624af3b05003f8542b316f": {
      "model_module": "@jupyter-widgets/base",
      "model_module_version": "1.0.0",
      "model_name": "LayoutModel",
      "state": {
       "width": "100px"
      }
     },
     "3d3e6c7447cf41c9be1c7559fef10e5c": {
      "model_module": "@jupyter-widgets/controls",
      "model_module_version": "1.1.0",
      "model_name": "DescriptionStyleModel",
      "state": {
       "description_width": ""
      }
     },
     "3d72c41b52224490ac64227bb8f3f8d2": {
      "model_module": "@jupyter-widgets/base",
      "model_module_version": "1.0.0",
      "model_name": "LayoutModel",
      "state": {
       "width": "100%"
      }
     },
     "3d9a6586adaf4c679b313363e3c21a92": {
      "model_module": "@jupyter-widgets/controls",
      "model_module_version": "1.1.0",
      "model_name": "HBoxModel",
      "state": {
       "children": [
        "IPY_MODEL_ac5bc0112b764c7d8800d1b0c7cc8863",
        "IPY_MODEL_bbc70cd996bb4908aeb46686754cc02c",
        "IPY_MODEL_875c25813b234a63b20b9976addf66e9",
        "IPY_MODEL_d010928107ca4802a2c92636489b7192",
        "IPY_MODEL_ac7b06ece1644d88af2b45b5e43f8718",
        "IPY_MODEL_082249593f564f22b0513d2dd7acaed9",
        "IPY_MODEL_fdb21871068442b187f5740769d04a1f"
       ],
       "layout": "IPY_MODEL_8b41092da18b4ccfb8dcdfa2f2c8fb0f"
      }
     },
     "3e55b4a8b7304d81b609108e6d7bc778": {
      "model_module": "@jupyter-widgets/base",
      "model_module_version": "1.0.0",
      "model_name": "LayoutModel",
      "state": {
       "width": "100%"
      }
     },
     "40270ddcbb6143c08c59e9648448cb8d": {
      "model_module": "@jupyter-widgets/base",
      "model_module_version": "1.0.0",
      "model_name": "LayoutModel",
      "state": {
       "width": "100%"
      }
     },
     "40849e6c636a429f9837400a785a5c46": {
      "model_module": "@jupyter-widgets/controls",
      "model_module_version": "1.1.0",
      "model_name": "DescriptionStyleModel",
      "state": {
       "description_width": "initial"
      }
     },
     "40e46076da044ac88e15176b2db9bca9": {
      "model_module": "@jupyter-widgets/base",
      "model_module_version": "1.0.0",
      "model_name": "LayoutModel",
      "state": {
       "width": "100%"
      }
     },
     "4181825fbc03497db73abb2edb26ed19": {
      "model_module": "@jupyter-widgets/controls",
      "model_module_version": "1.1.0",
      "model_name": "AccordionModel",
      "state": {
       "_titles": {
        "0": "MNIST_MLP"
       },
       "children": [
        "IPY_MODEL_e9bbe35bebe842c5896c5d57e07ba4b1"
       ],
       "layout": "IPY_MODEL_70724af63f3f4c5d948d94d48628846b",
       "selected_index": null
      }
     },
     "4526466e7c48406488d1f01ccd411943": {
      "model_module": "@jupyter-widgets/controls",
      "model_module_version": "1.1.0",
      "model_name": "DescriptionStyleModel",
      "state": {
       "description_width": ""
      }
     },
     "45889ecba29b4bab9b0d5c89fb043730": {
      "model_module": "@jupyter-widgets/controls",
      "model_module_version": "1.1.0",
      "model_name": "DescriptionStyleModel",
      "state": {
       "description_width": "initial"
      }
     },
     "466130c2b39643c3ad73e0b760c5e508": {
      "model_module": "@jupyter-widgets/base",
      "model_module_version": "1.0.0",
      "model_name": "LayoutModel",
      "state": {
       "width": "65%"
      }
     },
     "46ed75a821ad477fb0c3082b9c016205": {
      "model_module": "@jupyter-widgets/controls",
      "model_module_version": "1.1.0",
      "model_name": "ButtonStyleModel",
      "state": {}
     },
     "4746fb2472f64c93aa478c81609be611": {
      "model_module": "@jupyter-widgets/base",
      "model_module_version": "1.0.0",
      "model_name": "LayoutModel",
      "state": {}
     },
     "476f02dcab734c38bd5eb80516d80bfe": {
      "model_module": "@jupyter-widgets/controls",
      "model_module_version": "1.1.0",
      "model_name": "DescriptionStyleModel",
      "state": {
       "description_width": ""
      }
     },
     "47a90bb04f87451bbbbbef1ad08dfeb4": {
      "model_module": "@jupyter-widgets/controls",
      "model_module_version": "1.1.0",
      "model_name": "IntTextModel",
      "state": {
       "description": "Vertical space between layers:",
       "layout": "IPY_MODEL_49ffc40efbb347649d838b2c3eec5c66",
       "step": 1,
       "style": "IPY_MODEL_a1016f9003c647ed97698b65c88998b0",
       "value": 30
      }
     },
     "495475d585824ef69e371a757f73b407": {
      "model_module": "@jupyter-widgets/controls",
      "model_module_version": "1.1.0",
      "model_name": "DescriptionStyleModel",
      "state": {
       "description_width": ""
      }
     },
     "4989a89fa1084269a9ff6b239e41ae07": {
      "model_module": "@jupyter-widgets/controls",
      "model_module_version": "1.1.0",
      "model_name": "SliderStyleModel",
      "state": {
       "description_width": ""
      }
     },
     "49ffc40efbb347649d838b2c3eec5c66": {
      "model_module": "@jupyter-widgets/base",
      "model_module_version": "1.0.0",
      "model_name": "LayoutModel",
      "state": {}
     },
     "4ac5360388744ce2b40f008f994a8b75": {
      "model_module": "@jupyter-widgets/base",
      "model_module_version": "1.0.0",
      "model_name": "LayoutModel",
      "state": {
       "width": "100%"
      }
     },
     "4b6930fdb759413c8c4bfe2d27b7dc45": {
      "model_module": "@jupyter-widgets/controls",
      "model_module_version": "1.1.0",
      "model_name": "IntSliderModel",
      "state": {
       "continuous_update": false,
       "description": "Dataset index",
       "layout": "IPY_MODEL_40270ddcbb6143c08c59e9648448cb8d",
       "max": 59999,
       "style": "IPY_MODEL_acb5d40d6fd844a48b73eb1e7aac92d4"
      }
     },
     "4bd2bad066ef4d63b874f0aa829822ef": {
      "model_module": "@jupyter-widgets/controls",
      "model_module_version": "1.1.0",
      "model_name": "DescriptionStyleModel",
      "state": {
       "description_width": "initial"
      }
     },
     "4c51240e8aa34771910fb88d80e8254c": {
      "model_module": "@jupyter-widgets/base",
      "model_module_version": "1.0.0",
      "model_name": "LayoutModel",
      "state": {}
     },
     "4ccd6ec83f504242a43abaa62fc2ce68": {
      "model_module": "@jupyter-widgets/base",
      "model_module_version": "1.0.0",
      "model_name": "LayoutModel",
      "state": {
       "width": "100%"
      }
     },
     "4e3bbc8c914c4943a1579df6066d0f27": {
      "model_module": "@jupyter-widgets/controls",
      "model_module_version": "1.1.0",
      "model_name": "IntTextModel",
      "state": {
       "description": "Horizontal space between banks:",
       "layout": "IPY_MODEL_6e17d93379b840a2a608c33346e64ecb",
       "step": 1,
       "style": "IPY_MODEL_d5ff4c514e3d4c7fa3956e08293529fa",
       "value": 150
      }
     },
     "4f59ea7c0762492095b29d0f8b368868": {
      "model_module": "@jupyter-widgets/controls",
      "model_module_version": "1.1.0",
      "model_name": "HTMLModel",
      "state": {
       "layout": "IPY_MODEL_b558626a21e14beb9d09d6a27d847c50",
       "style": "IPY_MODEL_7cacf75c2ecb41aeb8b617b0823c9cd5",
       "value": "<img src=\"data:image/gif;base64,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\"/>"
      }
     },
     "506df235835e4fb9a328102fd35391fe": {
      "model_module": "@jupyter-widgets/controls",
      "model_module_version": "1.1.0",
      "model_name": "DescriptionStyleModel",
      "state": {
       "description_width": ""
      }
     },
     "509ab50f5c2645ba9e8ca305371a032a": {
      "model_module": "@jupyter-widgets/base",
      "model_module_version": "1.0.0",
      "model_name": "LayoutModel",
      "state": {}
     },
     "50ade632dcc34380828356891446274d": {
      "model_module": "@jupyter-widgets/controls",
      "model_module_version": "1.1.0",
      "model_name": "DescriptionStyleModel",
      "state": {
       "description_width": "initial"
      }
     },
     "50ea7e39c86240529944ecec2718883e": {
      "model_module": "@jupyter-widgets/base",
      "model_module_version": "1.0.0",
      "model_name": "LayoutModel",
      "state": {}
     },
     "519153179f654b9483056a3358271c13": {
      "model_module": "@jupyter-widgets/controls",
      "model_module_version": "1.1.0",
      "model_name": "DescriptionStyleModel",
      "state": {
       "description_width": ""
      }
     },
     "51a8b6983f984790844c6b850b41e097": {
      "model_module": "@jupyter-widgets/controls",
      "model_module_version": "1.1.0",
      "model_name": "FloatTextModel",
      "state": {
       "description": "Leftmost color maps to:",
       "layout": "IPY_MODEL_50ea7e39c86240529944ecec2718883e",
       "step": null,
       "style": "IPY_MODEL_2fede3ba135541508409ff8e49e31786",
       "value": -1
      }
     },
     "51be3532e86148af9e8c719cbd061969": {
      "model_module": "@jupyter-widgets/controls",
      "model_module_version": "1.1.0",
      "model_name": "FloatTextModel",
      "state": {
       "description": "Feature scale:",
       "layout": "IPY_MODEL_c19eaaa9406b404ca5d1fab0213f06d8",
       "step": null,
       "style": "IPY_MODEL_4bd2bad066ef4d63b874f0aa829822ef",
       "value": 1
      }
     },
     "520ce4e784724dbda36e71f6292d6cca": {
      "model_module": "@jupyter-widgets/controls",
      "model_module_version": "1.1.0",
      "model_name": "FloatTextModel",
      "state": {
       "description": "Rightmost color maps to:",
       "layout": "IPY_MODEL_e223e70251274a4ba08aa3e2306b7f12",
       "step": null,
       "style": "IPY_MODEL_389b950ffe4f404c933ac83f99177a33",
       "value": 1
      }
     },
     "522da4ddeb44409cbebcc30349324956": {
      "model_module": "@jupyter-widgets/controls",
      "model_module_version": "1.1.0",
      "model_name": "IntTextModel",
      "state": {
       "description": "Feature columns:",
       "layout": "IPY_MODEL_59967537e77f43f398d459b55179eba2",
       "step": 1,
       "style": "IPY_MODEL_9e1b9df71d494173a5d8ee9bdab56609",
       "value": 3
      }
     },
     "525666c94cf64a72b6dad99845afb39e": {
      "model_module": "@jupyter-widgets/controls",
      "model_module_version": "1.1.0",
      "model_name": "IntTextModel",
      "state": {
       "description": "Vertical space between layers:",
       "layout": "IPY_MODEL_6e17d93379b840a2a608c33346e64ecb",
       "step": 1,
       "style": "IPY_MODEL_54d3a9ea239f48689e9a97c167e79da0",
       "value": 30
      }
     },
     "54718875a82b4ba9a2afc95ba11e543b": {
      "model_module": "@jupyter-widgets/controls",
      "model_module_version": "1.1.0",
      "model_name": "CheckboxModel",
      "state": {
       "description": "Visible",
       "disabled": false,
       "layout": "IPY_MODEL_fbee96eae8be483bb74e9ea85a172ae3",
       "style": "IPY_MODEL_608f4b2dace8416c97a8607a0b2eed1b",
       "value": true
      }
     },
     "54cda590f0a54559a6cd007896af1e7e": {
      "model_module": "@jupyter-widgets/output",
      "model_module_version": "1.0.0",
      "model_name": "OutputModel",
      "state": {
       "layout": "IPY_MODEL_771b3f595c9e453ca86a41d76315f6e5"
      }
     },
     "54d3a9ea239f48689e9a97c167e79da0": {
      "model_module": "@jupyter-widgets/controls",
      "model_module_version": "1.1.0",
      "model_name": "DescriptionStyleModel",
      "state": {
       "description_width": "initial"
      }
     },
     "55244e482aff471fa09bf8c8d44813c7": {
      "model_module": "@jupyter-widgets/controls",
      "model_module_version": "1.1.0",
      "model_name": "FloatTextModel",
      "state": {
       "description": "Leftmost color maps to:",
       "layout": "IPY_MODEL_f598a6179fd3471cbe2ae5a59176d1e8",
       "step": null,
       "style": "IPY_MODEL_1702bf95ff2a4a10b2a438fca145d7a3",
       "value": -1
      }
     },
     "573012553c6f4a128cc7e62ab7453d4e": {
      "model_module": "@jupyter-widgets/controls",
      "model_module_version": "1.1.0",
      "model_name": "HBoxModel",
      "state": {
       "children": [
        "IPY_MODEL_830f0711d3af4df0a99cff8d6123515e",
        "IPY_MODEL_fb858b79f5e747c0ba97039a7aef6980"
       ],
       "layout": "IPY_MODEL_3865480f22594ec98782d0035569fc7c"
      }
     },
     "57aa515d807e4cd2bcfbb125f27f159b": {
      "model_module": "@jupyter-widgets/controls",
      "model_module_version": "1.1.0",
      "model_name": "ButtonStyleModel",
      "state": {}
     },
     "5886a9adeaaf492fbfe4eb23617440f1": {
      "model_module": "@jupyter-widgets/controls",
      "model_module_version": "1.1.0",
      "model_name": "DescriptionStyleModel",
      "state": {
       "description_width": "initial"
      }
     },
     "59967537e77f43f398d459b55179eba2": {
      "model_module": "@jupyter-widgets/base",
      "model_module_version": "1.0.0",
      "model_name": "LayoutModel",
      "state": {}
     },
     "5a31bf713b694d39bb684e4b825ccfde": {
      "model_module": "@jupyter-widgets/controls",
      "model_module_version": "1.1.0",
      "model_name": "ButtonModel",
      "state": {
       "icon": "fast-backward",
       "layout": "IPY_MODEL_15a9f6e7f5864a979c465b041f2c2741",
       "style": "IPY_MODEL_d316eb85d94d46c1a28a8b467c432cb2"
      }
     },
     "5cc9c0b0e644452f8cfda250689280cd": {
      "model_module": "@jupyter-widgets/controls",
      "model_module_version": "1.1.0",
      "model_name": "DescriptionStyleModel",
      "state": {
       "description_width": "initial"
      }
     },
     "5ddcae31e92847cdbdf186d630ac9d01": {
      "model_module": "@jupyter-widgets/controls",
      "model_module_version": "1.1.0",
      "model_name": "VBoxModel",
      "state": {
       "children": [
        "IPY_MODEL_942f1b5efe284220b7be6f51501e22bd",
        "IPY_MODEL_6c531e8c630e48d3b44c4e52834e3aef",
        "IPY_MODEL_8323a9f1f5c54e33b9c331585e836107",
        "IPY_MODEL_e1ea346d16b9496983be73ba574377f5",
        "IPY_MODEL_14959aefe5134a29933a53b2d63a9f78",
        "IPY_MODEL_3273c403d4c24650a8079138c5473d0a",
        "IPY_MODEL_8ab453e5368e41a98ab1e4f379de2123",
        "IPY_MODEL_d8296694b9534808b50c926cc8b971a1"
       ],
       "layout": "IPY_MODEL_f47c563ea8894ea7b9684e58742b73d2"
      }
     },
     "5f337ba68f68497e9bd3aae13a8b7f46": {
      "model_module": "@jupyter-widgets/controls",
      "model_module_version": "1.1.0",
      "model_name": "CheckboxModel",
      "state": {
       "description": "Show Targets",
       "disabled": false,
       "layout": "IPY_MODEL_49ffc40efbb347649d838b2c3eec5c66",
       "style": "IPY_MODEL_5f87a1ef40e54f26ae8e006d42c10065",
       "value": true
      }
     },
     "5f87a1ef40e54f26ae8e006d42c10065": {
      "model_module": "@jupyter-widgets/controls",
      "model_module_version": "1.1.0",
      "model_name": "DescriptionStyleModel",
      "state": {
       "description_width": "initial"
      }
     },
     "608f4b2dace8416c97a8607a0b2eed1b": {
      "model_module": "@jupyter-widgets/controls",
      "model_module_version": "1.1.0",
      "model_name": "DescriptionStyleModel",
      "state": {
       "description_width": ""
      }
     },
     "61dee7a8002b43839301e9c4567bb118": {
      "model_module": "@jupyter-widgets/controls",
      "model_module_version": "1.1.0",
      "model_name": "LabelModel",
      "state": {
       "layout": "IPY_MODEL_ac42caefd03647c687765bbee0d13161",
       "style": "IPY_MODEL_767553295e1a4eca9481aec3039997a5",
       "value": "of 60000"
      }
     },
     "620467b1262c4d28b16f65bb2b952743": {
      "model_module": "@jupyter-widgets/controls",
      "model_module_version": "1.1.0",
      "model_name": "DescriptionStyleModel",
      "state": {
       "description_width": ""
      }
     },
     "6206ae1ea73547f9aeddbb5b132392b5": {
      "model_module": "@jupyter-widgets/controls",
      "model_module_version": "1.1.0",
      "model_name": "FloatTextModel",
      "state": {
       "description": "Rightmost color maps to:",
       "layout": "IPY_MODEL_a66955d6d2e84ca9b715908d0c86ea42",
       "step": null,
       "style": "IPY_MODEL_5886a9adeaaf492fbfe4eb23617440f1",
       "value": 1
      }
     },
     "62488cd7bbb044a58d5dbd43c10be032": {
      "model_module": "@jupyter-widgets/base",
      "model_module_version": "1.0.0",
      "model_name": "LayoutModel",
      "state": {}
     },
     "62eee9ea0dbf4c7b9fde75cc6e28594f": {
      "model_module": "@jupyter-widgets/base",
      "model_module_version": "1.0.0",
      "model_name": "LayoutModel",
      "state": {
       "width": "25%"
      }
     },
     "62f5e60f2a0048048e950226e36dc6d7": {
      "model_module": "@jupyter-widgets/controls",
      "model_module_version": "1.1.0",
      "model_name": "DescriptionStyleModel",
      "state": {
       "description_width": ""
      }
     },
     "6410ddafd8c64805a80283e09e330fdd": {
      "model_module": "@jupyter-widgets/base",
      "model_module_version": "1.0.0",
      "model_name": "LayoutModel",
      "state": {
       "width": "52%"
      }
     },
     "65b7086344b2420986ef4b71459c123c": {
      "model_module": "@jupyter-widgets/base",
      "model_module_version": "1.0.0",
      "model_name": "LayoutModel",
      "state": {}
     },
     "6604ea48ef9a473e84cfe369cac88b11": {
      "model_module": "@jupyter-widgets/controls",
      "model_module_version": "1.1.0",
      "model_name": "SliderStyleModel",
      "state": {
       "description_width": ""
      }
     },
     "663f900091644d9bbfb776503901a15d": {
      "model_module": "@jupyter-widgets/controls",
      "model_module_version": "1.1.0",
      "model_name": "SelectModel",
      "state": {
       "_options_labels": [
        "",
        "input"
       ],
       "description": "Features:",
       "index": 0,
       "layout": "IPY_MODEL_054e0c601369460d9b9b6d7620e6f1dc",
       "rows": 1,
       "style": "IPY_MODEL_a1d9a65430e84091baac33aebda2b216"
      }
     },
     "66de74d749ff4dba86ec9f398d62326d": {
      "model_module": "@jupyter-widgets/controls",
      "model_module_version": "1.1.0",
      "model_name": "ButtonModel",
      "state": {
       "icon": "forward",
       "layout": "IPY_MODEL_92e9d0621acf458f9389cd8b945730ab",
       "style": "IPY_MODEL_09510cc1af364e378de78f943922cf1b"
      }
     },
     "67109afad6a94d4087c6a724200d42f3": {
      "model_module": "@jupyter-widgets/base",
      "model_module_version": "1.0.0",
      "model_name": "LayoutModel",
      "state": {
       "width": "25%"
      }
     },
     "68383b53036c46b0b9ebf319d1912ba5": {
      "model_module": "@jupyter-widgets/controls",
      "model_module_version": "1.1.0",
      "model_name": "FloatTextModel",
      "state": {
       "description": "Rightmost color maps to:",
       "layout": "IPY_MODEL_77f10491385d424dbcccf0c719b34731",
       "step": null,
       "style": "IPY_MODEL_40849e6c636a429f9837400a785a5c46",
       "value": 1
      }
     },
     "694e36a9f8be498983644f07a3b9a132": {
      "model_module": "@jupyter-widgets/base",
      "model_module_version": "1.0.0",
      "model_name": "LayoutModel",
      "state": {
       "width": "100%"
      }
     },
     "698b8585c8704f2bb57deecbf5f365ae": {
      "model_module": "@jupyter-widgets/base",
      "model_module_version": "1.0.0",
      "model_name": "LayoutModel",
      "state": {}
     },
     "6af6841545554c3bb3e6f2ca452808ea": {
      "model_module": "@jupyter-widgets/controls",
      "model_module_version": "1.1.0",
      "model_name": "DescriptionStyleModel",
      "state": {
       "description_width": "initial"
      }
     },
     "6b71f518f29e40c1ae08de999476522a": {
      "model_module": "@jupyter-widgets/controls",
      "model_module_version": "1.1.0",
      "model_name": "DescriptionStyleModel",
      "state": {
       "description_width": "initial"
      }
     },
     "6c03b1280c224d1bad2eb6af1a4a2de4": {
      "model_module": "@jupyter-widgets/controls",
      "model_module_version": "1.1.0",
      "model_name": "DescriptionStyleModel",
      "state": {
       "description_width": "initial"
      }
     },
     "6c531e8c630e48d3b44c4e52834e3aef": {
      "model_module": "@jupyter-widgets/controls",
      "model_module_version": "1.1.0",
      "model_name": "CheckboxModel",
      "state": {
       "description": "Visible",
       "disabled": false,
       "layout": "IPY_MODEL_6e17d93379b840a2a608c33346e64ecb",
       "style": "IPY_MODEL_d2c89732222e4d139dba69823cd94cf6",
       "value": true
      }
     },
     "6d8712c5fa1e4a5cb4108bf711acfcd1": {
      "model_module": "@jupyter-widgets/controls",
      "model_module_version": "1.1.0",
      "model_name": "ButtonModel",
      "state": {
       "icon": "refresh",
       "layout": "IPY_MODEL_67109afad6a94d4087c6a724200d42f3",
       "style": "IPY_MODEL_e5e8c95ec34c49d2adc9406f5208f82d"
      }
     },
     "6e17d93379b840a2a608c33346e64ecb": {
      "model_module": "@jupyter-widgets/base",
      "model_module_version": "1.0.0",
      "model_name": "LayoutModel",
      "state": {}
     },
     "6ecfcbb1640541d3a458d22297cd1173": {
      "model_module": "@jupyter-widgets/controls",
      "model_module_version": "1.1.0",
      "model_name": "ButtonStyleModel",
      "state": {}
     },
     "6ed8116e3d75439693c90fedbb0144a8": {
      "model_module": "@jupyter-widgets/base",
      "model_module_version": "1.0.0",
      "model_name": "LayoutModel",
      "state": {}
     },
     "6f04e8dc7ca341dabb45cc72ac34b81e": {
      "model_module": "@jupyter-widgets/base",
      "model_module_version": "1.0.0",
      "model_name": "LayoutModel",
      "state": {}
     },
     "6f056a88963c45629879ea4cb562d6e5": {
      "model_module": "@jupyter-widgets/controls",
      "model_module_version": "1.1.0",
      "model_name": "HBoxModel",
      "state": {
       "children": [
        "IPY_MODEL_ebd5b1b7a3ae4f24bf109f816d377e92",
        "IPY_MODEL_28ee02612e4b4976b7be42017f4ff072"
       ],
       "layout": "IPY_MODEL_74adc611da4d4feabcce0352ae0c85c5"
      }
     },
     "6f0755f689de4cc78f553b4063541ea1": {
      "model_module": "@jupyter-widgets/controls",
      "model_module_version": "1.1.0",
      "model_name": "DescriptionStyleModel",
      "state": {
       "description_width": ""
      }
     },
     "6f6afd49025447de9d15483b063fa847": {
      "model_module": "@jupyter-widgets/controls",
      "model_module_version": "1.1.0",
      "model_name": "DescriptionStyleModel",
      "state": {
       "description_width": "initial"
      }
     },
     "70144dfc54194e1d90783d591971b0c5": {
      "model_module": "@jupyter-widgets/controls",
      "model_module_version": "1.1.0",
      "model_name": "ButtonStyleModel",
      "state": {}
     },
     "70724af63f3f4c5d948d94d48628846b": {
      "model_module": "@jupyter-widgets/base",
      "model_module_version": "1.0.0",
      "model_name": "LayoutModel",
      "state": {}
     },
     "70fbd9f13e1a4bc3923c6f7f8ed13aeb": {
      "model_module": "@jupyter-widgets/controls",
      "model_module_version": "1.1.0",
      "model_name": "DescriptionStyleModel",
      "state": {
       "description_width": ""
      }
     },
     "71d1b74603fe4e33bf5fedce05a04256": {
      "model_module": "@jupyter-widgets/base",
      "model_module_version": "1.0.0",
      "model_name": "LayoutModel",
      "state": {
       "width": "100%"
      }
     },
     "722d0f86f27b4b4389c50760d6d04ec4": {
      "model_module": "@jupyter-widgets/base",
      "model_module_version": "1.0.0",
      "model_name": "LayoutModel",
      "state": {
       "height": "50px",
       "width": "100%"
      }
     },
     "723b505c27884d8c8a9b9f242f7afc20": {
      "model_module": "@jupyter-widgets/base",
      "model_module_version": "1.0.0",
      "model_name": "LayoutModel",
      "state": {
       "width": "100%"
      }
     },
     "727201bd2f17490fb96ef8b6b4642adc": {
      "model_module": "@jupyter-widgets/base",
      "model_module_version": "1.0.0",
      "model_name": "LayoutModel",
      "state": {
       "height": "40px"
      }
     },
     "73439a37a0324c92a1767a6ea4c67d23": {
      "model_module": "@jupyter-widgets/controls",
      "model_module_version": "1.1.0",
      "model_name": "SelectModel",
      "state": {
       "_options_labels": [
        "",
        "input",
        "conv2D_1",
        "maxpool1",
        "conv2D_2",
        "maxpool2"
       ],
       "description": "Features:",
       "index": 2,
       "layout": "IPY_MODEL_62488cd7bbb044a58d5dbd43c10be032",
       "rows": 1,
       "style": "IPY_MODEL_62f5e60f2a0048048e950226e36dc6d7"
      }
     },
     "73b725c58b554027a37d58f937a5d5b3": {
      "model_module": "@jupyter-widgets/controls",
      "model_module_version": "1.1.0",
      "model_name": "CheckboxModel",
      "state": {
       "description": "Errors",
       "disabled": false,
       "layout": "IPY_MODEL_ede1077c363147caa032ae94e603f279",
       "style": "IPY_MODEL_b04ce3865d0c4fd6b0de5904fc7f2900",
       "value": false
      }
     },
     "741871c0a64d4821979d7a77f36bbf5d": {
      "model_module": "@jupyter-widgets/controls",
      "model_module_version": "1.1.0",
      "model_name": "IntTextModel",
      "state": {
       "description": "Vertical space between layers:",
       "layout": "IPY_MODEL_fbee96eae8be483bb74e9ea85a172ae3",
       "step": 1,
       "style": "IPY_MODEL_be4d302aad194ba19224cfb17f347055",
       "value": 30
      }
     },
     "743b56773feb446ea76e314e0dd97538": {
      "model_module": "@jupyter-widgets/controls",
      "model_module_version": "1.1.0",
      "model_name": "DescriptionStyleModel",
      "state": {
       "description_width": ""
      }
     },
     "7458f90db5ff4aa698f5c8f817ac852b": {
      "model_module": "@jupyter-widgets/base",
      "model_module_version": "1.0.0",
      "model_name": "LayoutModel",
      "state": {
       "width": "100px"
      }
     },
     "74adc611da4d4feabcce0352ae0c85c5": {
      "model_module": "@jupyter-widgets/base",
      "model_module_version": "1.0.0",
      "model_name": "LayoutModel",
      "state": {}
     },
     "75b5e5039b82429299c0c1cad025c3df": {
      "model_module": "@jupyter-widgets/controls",
      "model_module_version": "1.1.0",
      "model_name": "HBoxModel",
      "state": {
       "children": [
        "IPY_MODEL_8ce577ffd6d84cddb836fc93a741c91e",
        "IPY_MODEL_976c9837def84cd196ebbdcfe79e01cc"
       ],
       "layout": "IPY_MODEL_b9455462a08d407a92043091ea87016f"
      }
     },
     "767553295e1a4eca9481aec3039997a5": {
      "model_module": "@jupyter-widgets/controls",
      "model_module_version": "1.1.0",
      "model_name": "DescriptionStyleModel",
      "state": {
       "description_width": ""
      }
     },
     "7700ecbb58184a0b8a4696094e09ecfb": {
      "model_module": "@jupyter-widgets/controls",
      "model_module_version": "1.1.0",
      "model_name": "IntTextModel",
      "state": {
       "description": "Horizontal space between banks:",
       "layout": "IPY_MODEL_fbee96eae8be483bb74e9ea85a172ae3",
       "step": 1,
       "style": "IPY_MODEL_6af6841545554c3bb3e6f2ca452808ea",
       "value": 150
      }
     },
     "771b3f595c9e453ca86a41d76315f6e5": {
      "model_module": "@jupyter-widgets/base",
      "model_module_version": "1.0.0",
      "model_name": "LayoutModel",
      "state": {}
     },
     "7790f333bcf9439c818db883efe9d9e7": {
      "model_module": "@jupyter-widgets/controls",
      "model_module_version": "1.1.0",
      "model_name": "CheckboxModel",
      "state": {
       "description": "Visible",
       "disabled": false,
       "layout": "IPY_MODEL_49ffc40efbb347649d838b2c3eec5c66",
       "style": "IPY_MODEL_70fbd9f13e1a4bc3923c6f7f8ed13aeb",
       "value": true
      }
     },
     "77cefe4228954ec48459bb146fba2c85": {
      "model_module": "@jupyter-widgets/base",
      "model_module_version": "1.0.0",
      "model_name": "LayoutModel",
      "state": {}
     },
     "77f10491385d424dbcccf0c719b34731": {
      "model_module": "@jupyter-widgets/base",
      "model_module_version": "1.0.0",
      "model_name": "LayoutModel",
      "state": {}
     },
     "7842d989dbe74dc2bd61e4246bcb66cb": {
      "model_module": "@jupyter-widgets/controls",
      "model_module_version": "1.1.0",
      "model_name": "IntTextModel",
      "state": {
       "layout": "IPY_MODEL_e08cca7c8ed74d019a740f14851dbc09",
       "step": 1,
       "style": "IPY_MODEL_cea422567a8a413fbfccec0fd8782519"
      }
     },
     "78b28330ae314bb188213c34d3481bef": {
      "model_module": "@jupyter-widgets/base",
      "model_module_version": "1.0.0",
      "model_name": "LayoutModel",
      "state": {}
     },
     "7ab845e4c596445c8a00bfa59b3ab1e6": {
      "model_module": "@jupyter-widgets/base",
      "model_module_version": "1.0.0",
      "model_name": "LayoutModel",
      "state": {
       "width": "100%"
      }
     },
     "7acd5ba425824457b7fffa8008a01a3b": {
      "model_module": "@jupyter-widgets/controls",
      "model_module_version": "1.1.0",
      "model_name": "DescriptionStyleModel",
      "state": {
       "description_width": "initial"
      }
     },
     "7b18a9033ea9487e84c99abb3c8af4ff": {
      "model_module": "@jupyter-widgets/base",
      "model_module_version": "1.0.0",
      "model_name": "LayoutModel",
      "state": {
       "width": "52%"
      }
     },
     "7b44a4a1029045ddbba6eefb8614865a": {
      "model_module": "@jupyter-widgets/controls",
      "model_module_version": "1.1.0",
      "model_name": "IntTextModel",
      "state": {
       "description": "Feature to show:",
       "layout": "IPY_MODEL_78b28330ae314bb188213c34d3481bef",
       "step": 1,
       "style": "IPY_MODEL_6b71f518f29e40c1ae08de999476522a"
      }
     },
     "7b53242a66704d168840d150c5c29e66": {
      "model_module": "@jupyter-widgets/base",
      "model_module_version": "1.0.0",
      "model_name": "LayoutModel",
      "state": {
       "width": "100%"
      }
     },
     "7bfbbffc66b346c285b64ed802f903e5": {
      "model_module": "@jupyter-widgets/controls",
      "model_module_version": "1.1.0",
      "model_name": "IntTextModel",
      "state": {
       "description": "Feature to show:",
       "layout": "IPY_MODEL_bb81efd785b5430b89f0e89e40603234",
       "step": 1,
       "style": "IPY_MODEL_9dd9b79355ce4b89be2cd876b84e8c6e"
      }
     },
     "7c5b756f1be84efb96aecb6e0307b79d": {
      "model_module": "@jupyter-widgets/base",
      "model_module_version": "1.0.0",
      "model_name": "LayoutModel",
      "state": {}
     },
     "7cacf75c2ecb41aeb8b617b0823c9cd5": {
      "model_module": "@jupyter-widgets/controls",
      "model_module_version": "1.1.0",
      "model_name": "DescriptionStyleModel",
      "state": {
       "description_width": ""
      }
     },
     "7ce5d552f17546e9aed148332f88868f": {
      "model_module": "@jupyter-widgets/controls",
      "model_module_version": "1.1.0",
      "model_name": "ButtonModel",
      "state": {
       "icon": "fast-forward",
       "layout": "IPY_MODEL_11abd0766376488b983012278dacfe63",
       "style": "IPY_MODEL_d4010ceb18034c1d85d4de6e096ce341"
      }
     },
     "7ce97391c875475c8c0f3b7d6650b19b": {
      "model_module": "@jupyter-widgets/base",
      "model_module_version": "1.0.0",
      "model_name": "LayoutModel",
      "state": {}
     },
     "7e5c7cba411b4fa7b3305af5e1b3a1c7": {
      "model_module": "@jupyter-widgets/controls",
      "model_module_version": "1.1.0",
      "model_name": "VBoxModel",
      "state": {
       "children": [
        "IPY_MODEL_4181825fbc03497db73abb2edb26ed19",
        "IPY_MODEL_b2bdaec0de474450a047ff69b0d0ad1e",
        "IPY_MODEL_f3b405a569b94b8fb7328593a5ca92d0",
        "IPY_MODEL_54cda590f0a54559a6cd007896af1e7e"
       ],
       "layout": "IPY_MODEL_1daa804d9e6d463fae1e737491bcdf4e"
      }
     },
     "81b88037f5214e72901b432a2c80b007": {
      "model_module": "@jupyter-widgets/controls",
      "model_module_version": "1.1.0",
      "model_name": "VBoxModel",
      "state": {
       "children": [
        "IPY_MODEL_84044231660547058aec7c16844c9f86",
        "IPY_MODEL_984aac98d60d40bfa71d8813641c24e0",
        "IPY_MODEL_b8761cfed67041f38438503366f18ad5",
        "IPY_MODEL_47a90bb04f87451bbbbbef1ad08dfeb4",
        "IPY_MODEL_cb276678ed424c29870a0df35f98012f",
        "IPY_MODEL_e01511eea4a44cadbc4d4a0a8475c22f",
        "IPY_MODEL_e4e7b0d7f6404540b935e866dc8db7fd",
        "IPY_MODEL_beda26457227417395d3dbb9ba5ae706"
       ],
       "layout": "IPY_MODEL_9198574e145545a6a971d6cdbbbc8f30"
      }
     },
     "830b7decffee46c1b77a74e9a3b071bc": {
      "model_module": "@jupyter-widgets/controls",
      "model_module_version": "1.1.0",
      "model_name": "CheckboxModel",
      "state": {
       "description": "Show Targets",
       "disabled": false,
       "layout": "IPY_MODEL_6e17d93379b840a2a608c33346e64ecb",
       "style": "IPY_MODEL_10d139265ae84fb9af4fd880d36eaf05",
       "value": true
      }
     },
     "830f0711d3af4df0a99cff8d6123515e": {
      "model_module": "@jupyter-widgets/controls",
      "model_module_version": "1.1.0",
      "model_name": "IntSliderModel",
      "state": {
       "continuous_update": false,
       "description": "Dataset index",
       "layout": "IPY_MODEL_c3b4a4df7cdc40d78d4108c5d73f9d16",
       "max": 59999,
       "style": "IPY_MODEL_4989a89fa1084269a9ff6b239e41ae07"
      }
     },
     "8323a9f1f5c54e33b9c331585e836107": {
      "model_module": "@jupyter-widgets/controls",
      "model_module_version": "1.1.0",
      "model_name": "SelectModel",
      "state": {
       "_options_labels": [
        "",
        "Accent",
        "Accent_r",
        "Blues",
        "Blues_r",
        "BrBG",
        "BrBG_r",
        "BuGn",
        "BuGn_r",
        "BuPu",
        "BuPu_r",
        "CMRmap",
        "CMRmap_r",
        "Dark2",
        "Dark2_r",
        "GnBu",
        "GnBu_r",
        "Greens",
        "Greens_r",
        "Greys",
        "Greys_r",
        "OrRd",
        "OrRd_r",
        "Oranges",
        "Oranges_r",
        "PRGn",
        "PRGn_r",
        "Paired",
        "Paired_r",
        "Pastel1",
        "Pastel1_r",
        "Pastel2",
        "Pastel2_r",
        "PiYG",
        "PiYG_r",
        "PuBu",
        "PuBuGn",
        "PuBuGn_r",
        "PuBu_r",
        "PuOr",
        "PuOr_r",
        "PuRd",
        "PuRd_r",
        "Purples",
        "Purples_r",
        "RdBu",
        "RdBu_r",
        "RdGy",
        "RdGy_r",
        "RdPu",
        "RdPu_r",
        "RdYlBu",
        "RdYlBu_r",
        "RdYlGn",
        "RdYlGn_r",
        "Reds",
        "Reds_r",
        "Set1",
        "Set1_r",
        "Set2",
        "Set2_r",
        "Set3",
        "Set3_r",
        "Spectral",
        "Spectral_r",
        "Vega10",
        "Vega10_r",
        "Vega20",
        "Vega20_r",
        "Vega20b",
        "Vega20b_r",
        "Vega20c",
        "Vega20c_r",
        "Wistia",
        "Wistia_r",
        "YlGn",
        "YlGnBu",
        "YlGnBu_r",
        "YlGn_r",
        "YlOrBr",
        "YlOrBr_r",
        "YlOrRd",
        "YlOrRd_r",
        "afmhot",
        "afmhot_r",
        "autumn",
        "autumn_r",
        "binary",
        "binary_r",
        "bone",
        "bone_r",
        "brg",
        "brg_r",
        "bwr",
        "bwr_r",
        "cool",
        "cool_r",
        "coolwarm",
        "coolwarm_r",
        "copper",
        "copper_r",
        "cubehelix",
        "cubehelix_r",
        "flag",
        "flag_r",
        "gist_earth",
        "gist_earth_r",
        "gist_gray",
        "gist_gray_r",
        "gist_heat",
        "gist_heat_r",
        "gist_ncar",
        "gist_ncar_r",
        "gist_rainbow",
        "gist_rainbow_r",
        "gist_stern",
        "gist_stern_r",
        "gist_yarg",
        "gist_yarg_r",
        "gnuplot",
        "gnuplot2",
        "gnuplot2_r",
        "gnuplot_r",
        "gray",
        "gray_r",
        "hot",
        "hot_r",
        "hsv",
        "hsv_r",
        "inferno",
        "inferno_r",
        "jet",
        "jet_r",
        "magma",
        "magma_r",
        "nipy_spectral",
        "nipy_spectral_r",
        "ocean",
        "ocean_r",
        "pink",
        "pink_r",
        "plasma",
        "plasma_r",
        "prism",
        "prism_r",
        "rainbow",
        "rainbow_r",
        "seismic",
        "seismic_r",
        "spectral",
        "spectral_r",
        "spring",
        "spring_r",
        "summer",
        "summer_r",
        "tab10",
        "tab10_r",
        "tab20",
        "tab20_r",
        "tab20b",
        "tab20b_r",
        "tab20c",
        "tab20c_r",
        "terrain",
        "terrain_r",
        "viridis",
        "viridis_r",
        "winter",
        "winter_r"
       ],
       "description": "Colormap:",
       "index": 3,
       "layout": "IPY_MODEL_6e17d93379b840a2a608c33346e64ecb",
       "rows": 1,
       "style": "IPY_MODEL_39e02b2576924cb28b8e1f95a0c30482"
      }
     },
     "84044231660547058aec7c16844c9f86": {
      "model_module": "@jupyter-widgets/controls",
      "model_module_version": "1.1.0",
      "model_name": "SelectModel",
      "state": {
       "_options_labels": [
        "Test",
        "Train"
       ],
       "description": "Dataset:",
       "index": 0,
       "layout": "IPY_MODEL_087dc8ae21654c2ca6dfc73fc84a1516",
       "rows": 1,
       "style": "IPY_MODEL_4526466e7c48406488d1f01ccd411943"
      }
     },
     "8417bdcc41214706af54f31fff78b300": {
      "model_module": "@jupyter-widgets/controls",
      "model_module_version": "1.1.0",
      "model_name": "AccordionModel",
      "state": {
       "_titles": {
        "0": "MNIST_CNN"
       },
       "children": [
        "IPY_MODEL_fd4cd0a52a9747db80f573a3a9326689"
       ],
       "layout": "IPY_MODEL_24b5b57a41d648d999f5817a0df4c294",
       "selected_index": null
      }
     },
     "857e303156d64852a871dfd70ae246b6": {
      "model_module": "@jupyter-widgets/controls",
      "model_module_version": "1.1.0",
      "model_name": "DescriptionStyleModel",
      "state": {
       "description_width": "initial"
      }
     },
     "869755d42a784d9eba3f1d731bbc64cf": {
      "model_module": "@jupyter-widgets/controls",
      "model_module_version": "1.1.0",
      "model_name": "CheckboxModel",
      "state": {
       "description": "Rotate network",
       "disabled": false,
       "layout": "IPY_MODEL_b526d07fefc04df19ca84e1228473ebf",
       "style": "IPY_MODEL_97f0fc17579d4fffa2a58ccc7207878f",
       "value": true
      }
     },
     "86c171a2bed8401785553e32aa34b388": {
      "model_module": "@jupyter-widgets/controls",
      "model_module_version": "1.1.0",
      "model_name": "FloatTextModel",
      "state": {
       "description": "Leftmost color maps to:",
       "layout": "IPY_MODEL_db6ec6953bdd4c1f8d6fb326a7a1df30",
       "step": null,
       "style": "IPY_MODEL_5cc9c0b0e644452f8cfda250689280cd",
       "value": -1
      }
     },
     "8706e1255e7b4a8daa2dbc13c8cdc491": {
      "model_module": "@jupyter-widgets/base",
      "model_module_version": "1.0.0",
      "model_name": "LayoutModel",
      "state": {
       "height": "40px"
      }
     },
     "87520bdb8b6148ae9fb1f601ca7be604": {
      "model_module": "@jupyter-widgets/controls",
      "model_module_version": "1.1.0",
      "model_name": "CheckboxModel",
      "state": {
       "description": "Errors",
       "disabled": false,
       "layout": "IPY_MODEL_6e17d93379b840a2a608c33346e64ecb",
       "style": "IPY_MODEL_0b6f080959114ef7b2c695efdd7c68f4",
       "value": false
      }
     },
     "875c25813b234a63b20b9976addf66e9": {
      "model_module": "@jupyter-widgets/controls",
      "model_module_version": "1.1.0",
      "model_name": "IntTextModel",
      "state": {
       "layout": "IPY_MODEL_e535f4e1bd134d6f8a8e9500affcdac0",
       "step": 1,
       "style": "IPY_MODEL_f01331cebc4f4dd3a06d4a319751f8d9"
      }
     },
     "8827b52c46854515a10c19bdd000fbd7": {
      "model_module": "@jupyter-widgets/base",
      "model_module_version": "1.0.0",
      "model_name": "LayoutModel",
      "state": {
       "width": "100%"
      }
     },
     "88bd71bae4734b0cab29a17c11968786": {
      "model_module": "@jupyter-widgets/controls",
      "model_module_version": "1.1.0",
      "model_name": "IntSliderModel",
      "state": {
       "continuous_update": false,
       "description": "Dataset index",
       "layout": "IPY_MODEL_a2091ae01c1144afa998d22f266e52ec",
       "max": 59999,
       "style": "IPY_MODEL_27e1ec78a6444160a9231b217bf5cf17"
      }
     },
     "89518827696a4f1587f0aaf0aa50790c": {
      "model_module": "@jupyter-widgets/base",
      "model_module_version": "1.0.0",
      "model_name": "LayoutModel",
      "state": {
       "width": "100%"
      }
     },
     "89c39876b8074c02ad10f4cf977f3735": {
      "model_module": "@jupyter-widgets/controls",
      "model_module_version": "1.1.0",
      "model_name": "SelectModel",
      "state": {
       "_options_labels": [
        "Test",
        "Train"
       ],
       "description": "Dataset:",
       "index": 1,
       "layout": "IPY_MODEL_77cefe4228954ec48459bb146fba2c85",
       "rows": 1,
       "style": "IPY_MODEL_fad9d0df797444418957791fcc673c02"
      }
     },
     "89ca8ef9d40e488e879ac77631692487": {
      "model_module": "@jupyter-widgets/controls",
      "model_module_version": "1.1.0",
      "model_name": "VBoxModel",
      "state": {
       "children": [
        "IPY_MODEL_ce7f4ecd43dc469281fea5bdfd798b4a",
        "IPY_MODEL_001e782aaaf846b89b9cb75d656ca631"
       ],
       "layout": "IPY_MODEL_3e55b4a8b7304d81b609108e6d7bc778"
      }
     },
     "8ab453e5368e41a98ab1e4f379de2123": {
      "model_module": "@jupyter-widgets/controls",
      "model_module_version": "1.1.0",
      "model_name": "IntTextModel",
      "state": {
       "description": "Feature to show:",
       "layout": "IPY_MODEL_8c1e90e0df3e4a129897adbdebbed7a5",
       "step": 1,
       "style": "IPY_MODEL_fa0bb10f31434abaaa3c14dd073d1987"
      }
     },
     "8abfc01e45f3439181d1da0aeda70584": {
      "model_module": "@jupyter-widgets/controls",
      "model_module_version": "1.1.0",
      "model_name": "DescriptionStyleModel",
      "state": {
       "description_width": "initial"
      }
     },
     "8b3f9b602ee14648847f0b4ab624d88b": {
      "model_module": "@jupyter-widgets/base",
      "model_module_version": "1.0.0",
      "model_name": "LayoutModel",
      "state": {}
     },
     "8b41092da18b4ccfb8dcdfa2f2c8fb0f": {
      "model_module": "@jupyter-widgets/base",
      "model_module_version": "1.0.0",
      "model_name": "LayoutModel",
      "state": {
       "height": "50px",
       "width": "100%"
      }
     },
     "8c1e90e0df3e4a129897adbdebbed7a5": {
      "model_module": "@jupyter-widgets/base",
      "model_module_version": "1.0.0",
      "model_name": "LayoutModel",
      "state": {}
     },
     "8ce577ffd6d84cddb836fc93a741c91e": {
      "model_module": "@jupyter-widgets/controls",
      "model_module_version": "1.1.0",
      "model_name": "CheckboxModel",
      "state": {
       "description": "Rotate network",
       "disabled": false,
       "layout": "IPY_MODEL_14389df8968f4d1b941307b643b72f83",
       "style": "IPY_MODEL_d28f13ff649f42b0acf7f034f986b03f",
       "value": true
      }
     },
     "8d5505731672417fb2a654a36800cc36": {
      "model_module": "@jupyter-widgets/controls",
      "model_module_version": "1.1.0",
      "model_name": "ButtonModel",
      "state": {
       "icon": "fast-backward",
       "layout": "IPY_MODEL_7ab845e4c596445c8a00bfa59b3ab1e6",
       "style": "IPY_MODEL_115babaca4544f8db351e19b16c2392a"
      }
     },
     "8d586533027c456c93868bc55c3426b3": {
      "model_module": "@jupyter-widgets/controls",
      "model_module_version": "1.1.0",
      "model_name": "AccordionModel",
      "state": {
       "_titles": {
        "0": "MNIST_CNN"
       },
       "children": [
        "IPY_MODEL_ce69ec0c00f34235b101a9c129dd5dae"
       ],
       "layout": "IPY_MODEL_075cf18fc2ce4f6cbd2c62769992cee6",
       "selected_index": null
      }
     },
     "8de4cd48f06d456aafcf2bba33a06d8b": {
      "model_module": "@jupyter-widgets/controls",
      "model_module_version": "1.1.0",
      "model_name": "IntSliderModel",
      "state": {
       "continuous_update": false,
       "description": "Dataset index",
       "layout": "IPY_MODEL_4ac5360388744ce2b40f008f994a8b75",
       "max": 59999,
       "style": "IPY_MODEL_6604ea48ef9a473e84cfe369cac88b11"
      }
     },
     "8e35665a933d4d759156f9c5e1711552": {
      "model_module": "@jupyter-widgets/controls",
      "model_module_version": "1.1.0",
      "model_name": "SliderStyleModel",
      "state": {
       "description_width": "initial"
      }
     },
     "90dea0676e164d8e97f33d14d05cf477": {
      "model_module": "@jupyter-widgets/base",
      "model_module_version": "1.0.0",
      "model_name": "LayoutModel",
      "state": {}
     },
     "9198574e145545a6a971d6cdbbbc8f30": {
      "model_module": "@jupyter-widgets/base",
      "model_module_version": "1.0.0",
      "model_name": "LayoutModel",
      "state": {
       "width": "100%"
      }
     },
     "92e9d0621acf458f9389cd8b945730ab": {
      "model_module": "@jupyter-widgets/base",
      "model_module_version": "1.0.0",
      "model_name": "LayoutModel",
      "state": {
       "width": "100%"
      }
     },
     "93aac29352d34ef7b66e60fc3255bae6": {
      "model_module": "@jupyter-widgets/controls",
      "model_module_version": "1.1.0",
      "model_name": "VBoxModel",
      "state": {
       "children": [
        "IPY_MODEL_fe18fa58928f41aeb1cf87733f9e0b05",
        "IPY_MODEL_b4209d6d55ee4081bb2511a7c0f39929",
        "IPY_MODEL_c63005f64c104279900736dba3d160b4",
        "IPY_MODEL_fc543f86a3cd45798a9807d6aa7e5a5a",
        "IPY_MODEL_86c171a2bed8401785553e32aa34b388",
        "IPY_MODEL_68383b53036c46b0b9ebf319d1912ba5",
        "IPY_MODEL_7bfbbffc66b346c285b64ed802f903e5",
        "IPY_MODEL_75b5e5039b82429299c0c1cad025c3df"
       ],
       "layout": "IPY_MODEL_3a6dc0109e4742acbcf701c7fc613077"
      }
     },
     "942f1b5efe284220b7be6f51501e22bd": {
      "model_module": "@jupyter-widgets/controls",
      "model_module_version": "1.1.0",
      "model_name": "SelectModel",
      "state": {
       "_options_labels": [
        "input",
        "conv2D_1",
        "maxpool1",
        "conv2D_2",
        "maxpool2",
        "flat",
        "hidden",
        "output"
       ],
       "description": "Layer:",
       "index": 1,
       "layout": "IPY_MODEL_3a0d800e6b244302ba6549f5606b3a6a",
       "rows": 1,
       "style": "IPY_MODEL_495475d585824ef69e371a757f73b407"
      }
     },
     "947c692c6326482eacb4f5ac2d5a1b47": {
      "model_module": "@jupyter-widgets/controls",
      "model_module_version": "1.1.0",
      "model_name": "SliderStyleModel",
      "state": {
       "description_width": "initial"
      }
     },
     "960286d8054c47b7a38aa75cfa21d4e4": {
      "model_module": "@jupyter-widgets/output",
      "model_module_version": "1.0.0",
      "model_name": "OutputModel",
      "state": {
       "layout": "IPY_MODEL_340c1e0781c146d1aa9ae4838ec4215d"
      }
     },
     "96db0d418893461bb95e8bfbd087a594": {
      "model_module": "@jupyter-widgets/base",
      "model_module_version": "1.0.0",
      "model_name": "LayoutModel",
      "state": {
       "justify_content": "center",
       "overflow_x": "auto",
       "overflow_y": "auto",
       "width": "95%"
      }
     },
     "976c9837def84cd196ebbdcfe79e01cc": {
      "model_module": "@jupyter-widgets/controls",
      "model_module_version": "1.1.0",
      "model_name": "ButtonModel",
      "state": {
       "icon": "save",
       "layout": "IPY_MODEL_f1c6e44c283e4a63a0496d496b9c0c02",
       "style": "IPY_MODEL_b47205a55c134d3fa331cf81efe6f7dd"
      }
     },
     "97f0fc17579d4fffa2a58ccc7207878f": {
      "model_module": "@jupyter-widgets/controls",
      "model_module_version": "1.1.0",
      "model_name": "DescriptionStyleModel",
      "state": {
       "description_width": "initial"
      }
     },
     "983a7463a548461e8f86634a6dd9e308": {
      "model_module": "@jupyter-widgets/base",
      "model_module_version": "1.0.0",
      "model_name": "LayoutModel",
      "state": {
       "height": "40px"
      }
     },
     "984aac98d60d40bfa71d8813641c24e0": {
      "model_module": "@jupyter-widgets/controls",
      "model_module_version": "1.1.0",
      "model_name": "FloatSliderModel",
      "state": {
       "continuous_update": false,
       "description": "Zoom",
       "layout": "IPY_MODEL_d09059866b9d4802a229d16d16bd3650",
       "max": 1,
       "step": 0.1,
       "style": "IPY_MODEL_8e35665a933d4d759156f9c5e1711552",
       "value": 1
      }
     },
     "99c413ac9022428bac0504357bf391c3": {
      "model_module": "@jupyter-widgets/base",
      "model_module_version": "1.0.0",
      "model_name": "LayoutModel",
      "state": {
       "width": "100%"
      }
     },
     "9ac0ca328c3249b7ba3e7e907d6b1519": {
      "model_module": "@jupyter-widgets/base",
      "model_module_version": "1.0.0",
      "model_name": "LayoutModel",
      "state": {
       "justify_content": "center",
       "overflow_x": "auto",
       "overflow_y": "auto",
       "width": "95%"
      }
     },
     "9b9173b7250b465e89d050ced36ca28e": {
      "model_module": "@jupyter-widgets/controls",
      "model_module_version": "1.1.0",
      "model_name": "ButtonModel",
      "state": {
       "description": "Play",
       "icon": "play",
       "layout": "IPY_MODEL_694e36a9f8be498983644f07a3b9a132",
       "style": "IPY_MODEL_c5c9cd4893fe41fc986d5f9df3d9823f"
      }
     },
     "9c25056ba61e4187bc8cd0470ffe331b": {
      "model_module": "@jupyter-widgets/controls",
      "model_module_version": "1.1.0",
      "model_name": "ButtonModel",
      "state": {
       "description": "Play",
       "icon": "play",
       "layout": "IPY_MODEL_2d42ecc9168c4ef4868d045b24262bcd",
       "style": "IPY_MODEL_b3619b2e463043e3815a26f26f9e092f"
      }
     },
     "9c5f340918b3493db19eb61cfea5b286": {
      "model_module": "@jupyter-widgets/controls",
      "model_module_version": "1.1.0",
      "model_name": "ButtonStyleModel",
      "state": {}
     },
     "9d30b3868f924409963e847201cddd64": {
      "model_module": "@jupyter-widgets/base",
      "model_module_version": "1.0.0",
      "model_name": "LayoutModel",
      "state": {
       "width": "100%"
      }
     },
     "9d857af9a0fd43c4b24e8848aaa3744e": {
      "model_module": "@jupyter-widgets/base",
      "model_module_version": "1.0.0",
      "model_name": "LayoutModel",
      "state": {}
     },
     "9d88ec5cc4314ea1b9b280018b705be3": {
      "model_module": "@jupyter-widgets/controls",
      "model_module_version": "1.1.0",
      "model_name": "LabelModel",
      "state": {
       "layout": "IPY_MODEL_a5bb6e24de304db7b05bf26eff3f17e4",
       "style": "IPY_MODEL_eee319408d98497e81eb0435612ac7ab",
       "value": "of 10500"
      }
     },
     "9dd9b79355ce4b89be2cd876b84e8c6e": {
      "model_module": "@jupyter-widgets/controls",
      "model_module_version": "1.1.0",
      "model_name": "DescriptionStyleModel",
      "state": {
       "description_width": "initial"
      }
     },
     "9e1b9df71d494173a5d8ee9bdab56609": {
      "model_module": "@jupyter-widgets/controls",
      "model_module_version": "1.1.0",
      "model_name": "DescriptionStyleModel",
      "state": {
       "description_width": "initial"
      }
     },
     "9e337bcd1516487cb2918f1190cf9cb7": {
      "model_module": "@jupyter-widgets/base",
      "model_module_version": "1.0.0",
      "model_name": "LayoutModel",
      "state": {}
     },
     "9e410c8ad2a44fccbb659f69f4e849f9": {
      "model_module": "@jupyter-widgets/controls",
      "model_module_version": "1.1.0",
      "model_name": "ButtonModel",
      "state": {
       "icon": "fast-backward",
       "layout": "IPY_MODEL_fbf998975e8640aea3885ef920e98ca4",
       "style": "IPY_MODEL_6ecfcbb1640541d3a458d22297cd1173"
      }
     },
     "9f822b1aef8944a294b08fc5dd6f89e4": {
      "model_module": "@jupyter-widgets/base",
      "model_module_version": "1.0.0",
      "model_name": "LayoutModel",
      "state": {
       "width": "10%"
      }
     },
     "9faf49bee7ba48c28c6ed481a4be8743": {
      "model_module": "@jupyter-widgets/controls",
      "model_module_version": "1.1.0",
      "model_name": "DescriptionStyleModel",
      "state": {
       "description_width": "initial"
      }
     },
     "a09f47137b2e464191deac1c34dd951c": {
      "model_module": "@jupyter-widgets/controls",
      "model_module_version": "1.1.0",
      "model_name": "DescriptionStyleModel",
      "state": {
       "description_width": ""
      }
     },
     "a1016f9003c647ed97698b65c88998b0": {
      "model_module": "@jupyter-widgets/controls",
      "model_module_version": "1.1.0",
      "model_name": "DescriptionStyleModel",
      "state": {
       "description_width": "initial"
      }
     },
     "a11c4ba3973d44cfb7e7a2f05a5d80e5": {
      "model_module": "@jupyter-widgets/controls",
      "model_module_version": "1.1.0",
      "model_name": "HBoxModel",
      "state": {
       "children": [
        "IPY_MODEL_0aa32b53c94b4fe6865677cb7cd7a162",
        "IPY_MODEL_73b725c58b554027a37d58f937a5d5b3"
       ],
       "layout": "IPY_MODEL_1055bfb9767048d78c47cce0665da864"
      }
     },
     "a1d9a65430e84091baac33aebda2b216": {
      "model_module": "@jupyter-widgets/controls",
      "model_module_version": "1.1.0",
      "model_name": "DescriptionStyleModel",
      "state": {
       "description_width": ""
      }
     },
     "a2091ae01c1144afa998d22f266e52ec": {
      "model_module": "@jupyter-widgets/base",
      "model_module_version": "1.0.0",
      "model_name": "LayoutModel",
      "state": {
       "width": "100%"
      }
     },
     "a321edc014384f8e92696910e698416b": {
      "model_module": "@jupyter-widgets/base",
      "model_module_version": "1.0.0",
      "model_name": "LayoutModel",
      "state": {}
     },
     "a412e90d4c46459f82e1e941a966aa9a": {
      "model_module": "@jupyter-widgets/base",
      "model_module_version": "1.0.0",
      "model_name": "LayoutModel",
      "state": {
       "width": "25%"
      }
     },
     "a5509b96e5b74248976ed02577ca4ebb": {
      "model_module": "@jupyter-widgets/controls",
      "model_module_version": "1.1.0",
      "model_name": "ButtonStyleModel",
      "state": {}
     },
     "a5bb6e24de304db7b05bf26eff3f17e4": {
      "model_module": "@jupyter-widgets/base",
      "model_module_version": "1.0.0",
      "model_name": "LayoutModel",
      "state": {
       "width": "100px"
      }
     },
     "a6425d7c11c9491caa5c4874782fb417": {
      "model_module": "@jupyter-widgets/controls",
      "model_module_version": "1.1.0",
      "model_name": "ButtonStyleModel",
      "state": {}
     },
     "a66955d6d2e84ca9b715908d0c86ea42": {
      "model_module": "@jupyter-widgets/base",
      "model_module_version": "1.0.0",
      "model_name": "LayoutModel",
      "state": {}
     },
     "a6821f5678044ddd8a89da74413d6a75": {
      "model_module": "@jupyter-widgets/controls",
      "model_module_version": "1.1.0",
      "model_name": "HBoxModel",
      "state": {
       "children": [
        "IPY_MODEL_8d5505731672417fb2a654a36800cc36",
        "IPY_MODEL_15ac571aeac44a54b5169c5b873cc6e1",
        "IPY_MODEL_7842d989dbe74dc2bd61e4246bcb66cb",
        "IPY_MODEL_66de74d749ff4dba86ec9f398d62326d",
        "IPY_MODEL_f53ec044ab8748fc8f5c8017b0d9c8b3",
        "IPY_MODEL_9b9173b7250b465e89d050ced36ca28e",
        "IPY_MODEL_6d8712c5fa1e4a5cb4108bf711acfcd1"
       ],
       "layout": "IPY_MODEL_722d0f86f27b4b4389c50760d6d04ec4"
      }
     },
     "a75f1643da9c47a8aeece63c366ee386": {
      "model_module": "@jupyter-widgets/base",
      "model_module_version": "1.0.0",
      "model_name": "LayoutModel",
      "state": {
       "width": "100%"
      }
     },
     "ac42caefd03647c687765bbee0d13161": {
      "model_module": "@jupyter-widgets/base",
      "model_module_version": "1.0.0",
      "model_name": "LayoutModel",
      "state": {
       "width": "100px"
      }
     },
     "ac5bc0112b764c7d8800d1b0c7cc8863": {
      "model_module": "@jupyter-widgets/controls",
      "model_module_version": "1.1.0",
      "model_name": "ButtonModel",
      "state": {
       "icon": "fast-backward",
       "layout": "IPY_MODEL_27697ebf55a04a7983436f6fe325705d",
       "style": "IPY_MODEL_b53ea0fce81944d2afe60ba4bf12cf1f"
      }
     },
     "ac7b06ece1644d88af2b45b5e43f8718": {
      "model_module": "@jupyter-widgets/controls",
      "model_module_version": "1.1.0",
      "model_name": "ButtonModel",
      "state": {
       "icon": "fast-forward",
       "layout": "IPY_MODEL_4ccd6ec83f504242a43abaa62fc2ce68",
       "style": "IPY_MODEL_b34cd7cfa07144b9a2936eeb929e4a36"
      }
     },
     "acb5d40d6fd844a48b73eb1e7aac92d4": {
      "model_module": "@jupyter-widgets/controls",
      "model_module_version": "1.1.0",
      "model_name": "SliderStyleModel",
      "state": {
       "description_width": ""
      }
     },
     "aec5f6db195c458380ca40e9a68a107d": {
      "model_module": "@jupyter-widgets/controls",
      "model_module_version": "1.1.0",
      "model_name": "VBoxModel",
      "state": {
       "children": [
        "IPY_MODEL_e50326ad380945f9abc0dd11339c7687",
        "IPY_MODEL_e2f4a25b443449758b9c3f5bae92536d",
        "IPY_MODEL_4e3bbc8c914c4943a1579df6066d0f27",
        "IPY_MODEL_525666c94cf64a72b6dad99845afb39e",
        "IPY_MODEL_2ef7d5f806bc4538b8006f248d5ccd13",
        "IPY_MODEL_73439a37a0324c92a1767a6ea4c67d23",
        "IPY_MODEL_d7a0ebc58111460cb0d19e1cd2471c35",
        "IPY_MODEL_d7e77eba936145b7a25b0367855e5a4e"
       ],
       "layout": "IPY_MODEL_9d30b3868f924409963e847201cddd64"
      }
     },
     "af8de4003b8f4a16a01da9f877db982c": {
      "model_module": "@jupyter-widgets/controls",
      "model_module_version": "1.1.0",
      "model_name": "DescriptionStyleModel",
      "state": {
       "description_width": ""
      }
     },
     "b02c0144958840fa9750ce665b45ddda": {
      "model_module": "@jupyter-widgets/base",
      "model_module_version": "1.0.0",
      "model_name": "LayoutModel",
      "state": {}
     },
     "b04ce3865d0c4fd6b0de5904fc7f2900": {
      "model_module": "@jupyter-widgets/controls",
      "model_module_version": "1.1.0",
      "model_name": "DescriptionStyleModel",
      "state": {
       "description_width": "initial"
      }
     },
     "b250d5baa6a14d708b11bed84ebb6d81": {
      "model_module": "@jupyter-widgets/controls",
      "model_module_version": "1.1.0",
      "model_name": "SelectModel",
      "state": {
       "_options_labels": [
        "",
        "Accent",
        "Accent_r",
        "Blues",
        "Blues_r",
        "BrBG",
        "BrBG_r",
        "BuGn",
        "BuGn_r",
        "BuPu",
        "BuPu_r",
        "CMRmap",
        "CMRmap_r",
        "Dark2",
        "Dark2_r",
        "GnBu",
        "GnBu_r",
        "Greens",
        "Greens_r",
        "Greys",
        "Greys_r",
        "OrRd",
        "OrRd_r",
        "Oranges",
        "Oranges_r",
        "PRGn",
        "PRGn_r",
        "Paired",
        "Paired_r",
        "Pastel1",
        "Pastel1_r",
        "Pastel2",
        "Pastel2_r",
        "PiYG",
        "PiYG_r",
        "PuBu",
        "PuBuGn",
        "PuBuGn_r",
        "PuBu_r",
        "PuOr",
        "PuOr_r",
        "PuRd",
        "PuRd_r",
        "Purples",
        "Purples_r",
        "RdBu",
        "RdBu_r",
        "RdGy",
        "RdGy_r",
        "RdPu",
        "RdPu_r",
        "RdYlBu",
        "RdYlBu_r",
        "RdYlGn",
        "RdYlGn_r",
        "Reds",
        "Reds_r",
        "Set1",
        "Set1_r",
        "Set2",
        "Set2_r",
        "Set3",
        "Set3_r",
        "Spectral",
        "Spectral_r",
        "Vega10",
        "Vega10_r",
        "Vega20",
        "Vega20_r",
        "Vega20b",
        "Vega20b_r",
        "Vega20c",
        "Vega20c_r",
        "Wistia",
        "Wistia_r",
        "YlGn",
        "YlGnBu",
        "YlGnBu_r",
        "YlGn_r",
        "YlOrBr",
        "YlOrBr_r",
        "YlOrRd",
        "YlOrRd_r",
        "afmhot",
        "afmhot_r",
        "autumn",
        "autumn_r",
        "binary",
        "binary_r",
        "bone",
        "bone_r",
        "brg",
        "brg_r",
        "bwr",
        "bwr_r",
        "cool",
        "cool_r",
        "coolwarm",
        "coolwarm_r",
        "copper",
        "copper_r",
        "cubehelix",
        "cubehelix_r",
        "flag",
        "flag_r",
        "gist_earth",
        "gist_earth_r",
        "gist_gray",
        "gist_gray_r",
        "gist_heat",
        "gist_heat_r",
        "gist_ncar",
        "gist_ncar_r",
        "gist_rainbow",
        "gist_rainbow_r",
        "gist_stern",
        "gist_stern_r",
        "gist_yarg",
        "gist_yarg_r",
        "gnuplot",
        "gnuplot2",
        "gnuplot2_r",
        "gnuplot_r",
        "gray",
        "gray_r",
        "hot",
        "hot_r",
        "hsv",
        "hsv_r",
        "inferno",
        "inferno_r",
        "jet",
        "jet_r",
        "magma",
        "magma_r",
        "nipy_spectral",
        "nipy_spectral_r",
        "ocean",
        "ocean_r",
        "pink",
        "pink_r",
        "plasma",
        "plasma_r",
        "prism",
        "prism_r",
        "rainbow",
        "rainbow_r",
        "seismic",
        "seismic_r",
        "spectral",
        "spectral_r",
        "spring",
        "spring_r",
        "summer",
        "summer_r",
        "tab10",
        "tab10_r",
        "tab20",
        "tab20_r",
        "tab20b",
        "tab20b_r",
        "tab20c",
        "tab20c_r",
        "terrain",
        "terrain_r",
        "viridis",
        "viridis_r",
        "winter",
        "winter_r"
       ],
       "description": "Colormap:",
       "index": 0,
       "layout": "IPY_MODEL_49ffc40efbb347649d838b2c3eec5c66",
       "rows": 1,
       "style": "IPY_MODEL_e4c7ae885a81440d9431672e49f58dec"
      }
     },
     "b2bdaec0de474450a047ff69b0d0ad1e": {
      "model_module": "@jupyter-widgets/controls",
      "model_module_version": "1.1.0",
      "model_name": "VBoxModel",
      "state": {
       "children": [
        "IPY_MODEL_573012553c6f4a128cc7e62ab7453d4e",
        "IPY_MODEL_3d9a6586adaf4c679b313363e3c21a92"
       ],
       "layout": "IPY_MODEL_c8cf091962994d458e67ec004a36aa59"
      }
     },
     "b2e0850026ca4789b7191579bac26572": {
      "model_module": "@jupyter-widgets/base",
      "model_module_version": "1.0.0",
      "model_name": "LayoutModel",
      "state": {}
     },
     "b30315ecc4614445b0d8465e034a186d": {
      "model_module": "@jupyter-widgets/base",
      "model_module_version": "1.0.0",
      "model_name": "LayoutModel",
      "state": {}
     },
     "b34cd7cfa07144b9a2936eeb929e4a36": {
      "model_module": "@jupyter-widgets/controls",
      "model_module_version": "1.1.0",
      "model_name": "ButtonStyleModel",
      "state": {}
     },
     "b3619b2e463043e3815a26f26f9e092f": {
      "model_module": "@jupyter-widgets/controls",
      "model_module_version": "1.1.0",
      "model_name": "ButtonStyleModel",
      "state": {}
     },
     "b3b104902f6344c9814c6e5a3d17b47a": {
      "model_module": "@jupyter-widgets/controls",
      "model_module_version": "1.1.0",
      "model_name": "CheckboxModel",
      "state": {
       "description": "Errors",
       "disabled": false,
       "layout": "IPY_MODEL_49ffc40efbb347649d838b2c3eec5c66",
       "style": "IPY_MODEL_45889ecba29b4bab9b0d5c89fb043730",
       "value": false
      }
     },
     "b4209d6d55ee4081bb2511a7c0f39929": {
      "model_module": "@jupyter-widgets/controls",
      "model_module_version": "1.1.0",
      "model_name": "CheckboxModel",
      "state": {
       "description": "Visible",
       "disabled": false,
       "layout": "IPY_MODEL_ede1077c363147caa032ae94e603f279",
       "style": "IPY_MODEL_33f200421dd04867aec9cb8e8a0e7d0b",
       "value": true
      }
     },
     "b47205a55c134d3fa331cf81efe6f7dd": {
      "model_module": "@jupyter-widgets/controls",
      "model_module_version": "1.1.0",
      "model_name": "ButtonStyleModel",
      "state": {}
     },
     "b4e4b33405a54cac8997dd385ffe2480": {
      "model_module": "@jupyter-widgets/base",
      "model_module_version": "1.0.0",
      "model_name": "LayoutModel",
      "state": {}
     },
     "b4ec7416ce794452972fd3fc7d2872d4": {
      "model_module": "@jupyter-widgets/controls",
      "model_module_version": "1.1.0",
      "model_name": "LabelModel",
      "state": {
       "layout": "IPY_MODEL_7458f90db5ff4aa698f5c8f817ac852b",
       "style": "IPY_MODEL_e293194c9be5437894732b005b784682",
       "value": "of 10000"
      }
     },
     "b50d49d877524d53ad250d4d5101ad3e": {
      "model_module": "@jupyter-widgets/controls",
      "model_module_version": "1.1.0",
      "model_name": "DescriptionStyleModel",
      "state": {
       "description_width": "initial"
      }
     },
     "b526d07fefc04df19ca84e1228473ebf": {
      "model_module": "@jupyter-widgets/base",
      "model_module_version": "1.0.0",
      "model_name": "LayoutModel",
      "state": {
       "width": "52%"
      }
     },
     "b53ea0fce81944d2afe60ba4bf12cf1f": {
      "model_module": "@jupyter-widgets/controls",
      "model_module_version": "1.1.0",
      "model_name": "ButtonStyleModel",
      "state": {}
     },
     "b558626a21e14beb9d09d6a27d847c50": {
      "model_module": "@jupyter-widgets/base",
      "model_module_version": "1.0.0",
      "model_name": "LayoutModel",
      "state": {}
     },
     "b7ea96a50ca74f0cbf332d850aec4060": {
      "model_module": "@jupyter-widgets/controls",
      "model_module_version": "1.1.0",
      "model_name": "IntTextModel",
      "state": {
       "description": "Vertical space between layers:",
       "layout": "IPY_MODEL_ede1077c363147caa032ae94e603f279",
       "step": 1,
       "style": "IPY_MODEL_0aff9a0fe6f74ddda3512b669e06bc54",
       "value": 30
      }
     },
     "b80eae3936734782a50e8af1ff964644": {
      "model_module": "@jupyter-widgets/controls",
      "model_module_version": "1.1.0",
      "model_name": "CheckboxModel",
      "state": {
       "description": "Show Targets",
       "disabled": false,
       "layout": "IPY_MODEL_fbee96eae8be483bb74e9ea85a172ae3",
       "style": "IPY_MODEL_fb97b51ebfc041a1b6cff67876b2a48f",
       "value": true
      }
     },
     "b8761cfed67041f38438503366f18ad5": {
      "model_module": "@jupyter-widgets/controls",
      "model_module_version": "1.1.0",
      "model_name": "IntTextModel",
      "state": {
       "description": "Horizontal space between banks:",
       "layout": "IPY_MODEL_49ffc40efbb347649d838b2c3eec5c66",
       "step": 1,
       "style": "IPY_MODEL_50ade632dcc34380828356891446274d",
       "value": 150
      }
     },
     "b9455462a08d407a92043091ea87016f": {
      "model_module": "@jupyter-widgets/base",
      "model_module_version": "1.0.0",
      "model_name": "LayoutModel",
      "state": {}
     },
     "ba27bb7f858f4b0bb7a6a46190b6ff89": {
      "model_module": "@jupyter-widgets/controls",
      "model_module_version": "1.1.0",
      "model_name": "CheckboxModel",
      "state": {
       "description": "Rotate",
       "disabled": false,
       "layout": "IPY_MODEL_fbee96eae8be483bb74e9ea85a172ae3",
       "style": "IPY_MODEL_506df235835e4fb9a328102fd35391fe",
       "value": true
      }
     },
     "ba3e742e3cad4da4b0845be7d0ee6592": {
      "model_module": "@jupyter-widgets/controls",
      "model_module_version": "1.1.0",
      "model_name": "HTMLModel",
      "state": {
       "layout": "IPY_MODEL_f1210e03c1fe4e9384646801e90f595e",
       "style": "IPY_MODEL_a09f47137b2e464191deac1c34dd951c",
       "value": "<p style=\"text-align:center\"><svg id='MNIST_MLP' xmlns='http://www.w3.org/2000/svg' image-rendering=\"pixelated\" width=\"480.0px\" height=\"266.66666666666663px\">\n <g  transform=\"rotate(90) translate(0 -480.0)\" >\n  <svg viewBox=\"0 0 350 630\" width=\"266.66666666666663px\" height=\"480.0px\">\n    <defs>\n        <marker id=\"arrow\" markerWidth=\"10\" markerHeight=\"10\" refX=\"9\" refY=\"3\" orient=\"auto\" markerUnits=\"strokeWidth\">\n          <path d=\"M0,0 L0,6 L9,3 z\" fill=\"black\" />\n        </marker>\n    </defs><rect x=\"74.0\" y=\"24\" width=\"202\" height=\"52\" style=\"fill:none;stroke:black;stroke-width:2\"/><image id=\"picture-dashboard-MNIST_MLP-996653_output_targets_6\" class=\"picture-dashboard-MNIST_MLP-996653_output_targets\" x=\"75.0\" y=\"25\" height=\"50\" width=\"200\" preserveAspectRatio=\"none\" href=\"data:image/gif;base64,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\"><title>Layer: output (output)\n output range: (-1.0, 1.0)\n shape = (10,)\n Keras class = Dense\n activation = softmax</title></image><text x=\"288.0\" y=\"52.0\" font-family=\"monospace\" font-size=\"12\" text-anchor=\"middle\" fill=\"black\" alignment-baseline=\"central\"  transform=\"rotate(-90 288.0 52.0) translate(2)\" >targets</text><line x1=\"87.5\" y1=\"80\" x2=\"262.5\" y2=\"80\" stroke=\"green\" stroke-width=\"2\"><title></title></line><rect x=\"74.0\" y=\"84\" width=\"202\" height=\"52\" style=\"fill:none;stroke:black;stroke-width:2\"/><image id=\"picture-dashboard-MNIST_MLP-996653_output-rotated_6\" class=\"picture-dashboard-MNIST_MLP-996653_output-rotated\" x=\"75.0\" y=\"85\" height=\"50\" width=\"200\" preserveAspectRatio=\"none\" href=\"data:image/gif;base64,R0lGODdh+gAZAIcAANXV/8fH/wAAALS0/wAAAAAAAAAAAAAAAAAAAAAAAAAAAAAAAAAAAAAAAAAAAAAAAAAAAAAAAAAAAAAAAAAAAAAAAAAAAAAAAAAAAAAAAAAAAAAAAAAAAAAAAAAAAAAAAAAAAAAAAAAAAAAAAAAAAAAAAAAAAAAAAAAAAAAAAAAAAAAAAAAAAAAAAAAAAAAAAAAAAAAAAAAAAAAAAAAAAAAAAAAAAAAAAAAAAAAAAAAAAAAAAAAAAAAAAAAAAAAAAAAAAAAAAAAAAAAAAAAAAAAAAAAAAAAAAAAAAAAAAAAAAAAAAAAAAAAAAAAAAAAAAAAAAAAAAAAAAAAAAAAAAAAAAAAAAAAAAAAAAAAAAAAAAAAAAAAAAAAAAAAAAAAAAAAAAAAAAAAAAAAAAAAAAAAAAAAAAAAAAAAAAAAAAAAAAAAAAAAAAAAAAAAAAAAAAAAAAAAAAAAAAAAAAAAAAAAAAAAAAAAAAAAAAAAAAAAAAAAAAAAAAAAAAAAAAAAAAAAAAAAAAAAAAAAAAAAAAAAAAAAAAAAAAAAAAAAAAAAAAAAAAAAAAAAAAAAAAAAAAAAAAAAAAAAAAAAAAAAAAAAAAAAAAAAAAAAAAAAAAAAAAAAAAAAAAAAAAAAAAAAAAAAAAAAAAAAAAAAAAAAAAAAAAAAAAAAAAAAAAAAAAAAAAAAAAAAAAAAAAAAAAAAAAAAAAAAAAAAAAAAAAAAAAAAAAAAAAAAAAAAAAAAAAAAAAAAAAAAAAAAAAAAAAAAAAAAAAAAAAAAAAAAAAAAAAAAAAAAAAAAAAAAAAAAAAAAAAAAAAAAAAAAAAAAAAAAAAAAAAAAAAAAAAAAAAAAAAAAAAAAAAAAAAAAAAAAAAAAAAAAAAAAAAAAAAAAAAAAAAAAAAAAAAAAAAAAAAAAAAAAAAAAAAAAAAAAAAAAAAAAAAAAAAAAAAAAAAAAAAAAAAAAAAAAAAAAAAAAAAAAAAAAAAAAAAAAAAAAAAAAAAAAAAAAAAAAAAAAAAAAAAAAAACwAAAAA+gAZAEAI/wAFCBxIsKDBgwgTKlzIsKHDhxAjSpxIsSLFABgzatzIEaMAAQNCihxJsmRIAQICqFzJsqVLlQIEAJhJs6bNmzMFCAjAs6fPn0B5ChAAoKjRo0iTFhUgAIDTp1CjSnUqQACAq1izat16VYAAAGDDih1LFqwAAQDSql3Ltm1aAQICyJ1Lt65duQIEDNjLt6/fv3sFCAhAuLDhw4gJCxAAoLHjx5AjNxYgIIDly5gza7YsQACAz6BDix79WYAAAKhTq17NGrUAAQBiy55Nu3ZsAQIA6N7Nu7dv3QIEABhOvLjx48MFKF/OvLnz59CjS59Ovbr169iza9/OvXv3AODDi/8fTx68AAED0qtfz759egECAsifT7++ffkCBADYz7+/f4AABA4UKEBAAIQJFS5kiFCAAAARJU6kWDGiAAEANG7k2NGjRgECAIwkWdLkyZECBABg2dLlS5gsBQgAUNPmTZw5awoQEMDnT6BBhfoUIGDAUaRJlS49KkBAAKhRpU6lClWAAABZtW7l2jWrAAEBxI4lW9asWAECAKxl29bt27UCBACgW9fuXbx0BQgA0NfvX8CB+woQAMDwYcSJFRsWIADAY8iRJU9+LEBAAMyZNW/mjFmAgAGhRY8mXTq0AAEBVK9m3dq1agECAMymXdv27dkCBATg3dv3b+C8BQgAUNz/+HHkyYsLEADA+XPo0aU7FyAAwHXs2bVvvy5AAADw4cWPJw9egAAA6dWvZ98+vQABAeTPp1/fvnwBAgbs59/fP8ABAgcKFCAgAMKEChcyRChAAICIEidSrBhRgIAAGjdy7OhRowABAEaSLGny5EgBAgCwbOnyJUyWAgQAqGnzJs6cNQUIAODzJ9CgQn0KEADgKNKkSpceFSAgANSoUqdShSpAwICsWrdy7ZpVgIAAYseSLWtWrAABANaybev27VoBAgLQrWv3Ll66AgQA6Ov3L+DAfQUIAGD4MOLEig0LEADgMeTIkic/FiAAAObMmjdzxixAAIDQokeTLh1agIAA/6pXs27tWrUAAQNm065t+/ZsAQIC8O7t+zdw3gIEAChu/Djy5MUFCAjg/Dn06NKdCxAA4Dr27Nq3XxcgAAD48OLHkwcvQACA9OrXs2+fXoAAAPLn069vX74AAQD28+/vHyAAgQMFChAQAGFChQsZIhQgYEBEiRMpVowoQEAAjRs5dvSoUYAAACNJljR5cqQAAQFYtnT5EiZLAQIA1LR5E2fOmgIEAPD5E2hQoT4FCABwFGlSpUuPChAAAGpUqVOpQhUgAEBWrVu5ds0qQEAAsWPJljUrVoCAAWvZtnX7dq0AAQHo1rV7Fy9dAQIA9PX7F3DgvgIEBDB8GHFixYYFCP8A8BhyZMmTHwsQAABzZs2bOWMWIABAaNGjSZcOLUAAANWrWbd2rVqAAACzade2fXu2AAEBePf2/Rs4bwECBhQ3fhx58uICBARw/hx6dOnOBQgAcB17du3brwsQEAB8ePHjyYMXIABAevXr2bdPL0AAAPnz6de3L1+AAAD7+ff3DxCAwIECBQgAgDChwoUMEQoQACCixIkUK0YUICCAxo0cO3rUKEDAgJEkS5o8OVKAgAAsW7p8CZOlAAEAatq8iTNnTQECAvj8CTSoUJ8CBAA4ijSp0qVHBQgAADWq1KlUoQoQACCr1q1cu2YVIACA2LFky5oVK0AAgLVs27p9u1b/gIAAdOvavYuXrgABA/r6/Qs4cF8BAgIYPow4sWLDAgQAeAw5suTJjwUICIA5s+bNnDELEAAgtOjRpEuHFiAAgOrVrFu7Vi1AAIDZtGvbvj1bgAAAvHv7/g2ctwABAIobP448eXEBAgI4fw49unTnAgQMuI49u/bt1wUICAA+vPjx5MELEAAgvfr17NunFyAggPz59Ovbly9AAID9/Pv7BwhA4ECBAgQAQJhQ4UKGCAUIABBR4kSKFSMKEABA40aOHT1qFCAAwEiSJU2eHClAQACWLV2+hMlSgIABNW3exJmzpgABAXz+BBpUqE8BAgAcRZpU6dKjAgQEgBpV6lSq/1AFCACQVetWrl2zChAAQOxYsmXNihUgAMBatm3dvl0rQAAAunXt3sVLV4AAAH39/gUcuK8AAQEMH0acWLFhAQIGPIYcWfLkxwIEBMCcWfNmzpgFCAAQWvRo0qVDCxAQQPVq1q1dqxYgAMBs2rVt354tQAAA3r19/wbOW4AAAMWNH0eevLgAAQCcP4ceXbpzAQIAXMeeXfv26wIEBAAfXvx48uAFCBiQXv169u3TCxAQQP58+vXtyxcgAMB+/v39AwQgcKBAAQICIEyocCFDhAIEAIgocSLFihEFCACgcSPHjh41ChAAYCTJkiZPjhQgAADLli5fwmQpQACAmjZv4v/MWVOAgAA+fwINKtSnAAEDjiJNqnTpUQECAkCNKnUqVagCBADIqnUr165ZBQgIIHYs2bJmxQoQAGAt27Zu364VIAAA3bp27+KlK0AAgL5+/wIO3FeAAACGDyNOrNiwAAEAHkOOLHnyYwECAmDOrHkzZ8wCBAwILXo06dKhBQgIoHo169auVQsQAGA27dq2b88WICAA796+fwPnLUAAgOLGjyNPXlyAAADOn0OPLt25AAEArmPPrn37dQECAIAPL348efACBABIr349+/bpBQgIIH8+/fr25QsQMGA///7+AQ4QOFCgAAEBECZUuJAhQgECAESUOJFixYgCBATQuJH/Y0ePGgUIADCSZEmTJ0cKEACAZUuXL2GyFCAAQE2bN3HmrClAAACfP4EGFepTgAAAR5EmVbr0qAABAaBGlTqVKlQBAgZk1bqVa9esAgQEEDuWbFmzYgUIALCWbVu3b9cKEBCAbl27d/HSFSAAQF+/fwEH7itAAADDhxEnVmxYgAAAjyFHljz5sQABADBn1ryZM2YBAgCEFj2adOnQAgQEUL2adWvXqgUIGDCbdm3bt2cLEBCAd2/fv4HzFiAAQHHjx5EnLy5AQADnz6FHl+5cgAAA17Fn1779ugABAMCHFz+ePHgBAgCkV7+effv0AgQAkD+ffn378gUIALCff3//bgABCBwoUICAAAgTKlzIEKEAAQMiSpxIsWJEAQICaNzIsaNHjQIEABhJsqTJkyMFCAjAsqXLlzBZChAAoKbNmzhz1hQgAIDPn0CDCvUpQACAo0iTKl16VIAAAFCjSp1KFaoAAQCyat3KtWtWAQEBADs=\"><title>Layer: output (output)\n output range: (-1.0, 1.0)\n shape = (10,)\n Keras class = Dense\n activation = softmax</title></image><text x=\"288.0\" y=\"112.0\" font-family=\"monospace\" font-size=\"12\" text-anchor=\"middle\" fill=\"black\" alignment-baseline=\"central\"  transform=\"rotate(-90 288.0 112.0) translate(2)\" >output</text><line x1=\"175.0\" y1=\"164\" x2=\"175.0\" y2=\"137\" stroke=\"black\" stroke-width=\"2\" marker-end=\"url(#arrow)\"><title>Weights from hidden2 to output\n output/kernel has shape (30, 10)\n output/bias has shape (10,)</title></line><rect x=\"74.0\" y=\"164\" width=\"202\" height=\"52\" style=\"fill:none;stroke:black;stroke-width:2\"/><image id=\"picture-dashboard-MNIST_MLP-996653_hidden2-rotated_7\" class=\"picture-dashboard-MNIST_MLP-996653_hidden2-rotated\" x=\"75.0\" y=\"165\" height=\"50\" width=\"200\" preserveAspectRatio=\"none\" href=\"data:image/gif;base64,R0lGODdhHgABAIcAAP/9/dnZ/wIC9Glp/6Gh/yAg/3Fx/+Hh/wAAAAAAAAAAAAAAAAAAAAAAAAAAAAAAAAAAAAAAAAAAAAAAAAAAAAAAAAAAAAAAAAAAAAAAAAAAAAAAAAAAAAAAAAAAAAAAAAAAAAAAAAAAAAAAAAAAAAAAAAAAAAAAAAAAAAAAAAAAAAAAAAAAAAAAAAAAAAAAAAAAAAAAAAAAAAAAAAAAAAAAAAAAAAAAAAAAAAAAAAAAAAAAAAAAAAAAAAAAAAAAAAAAAAAAAAAAAAAAAAAAAAAAAAAAAAAAAAAAAAAAAAAAAAAAAAAAAAAAAAAAAAAAAAAAAAAAAAAAAAAAAAAAAAAAAAAAAAAAAAAAAAAAAAAAAAAAAAAAAAAAAAAAAAAAAAAAAAAAAAAAAAAAAAAAAAAAAAAAAAAAAAAAAAAAAAAAAAAAAAAAAAAAAAAAAAAAAAAAAAAAAAAAAAAAAAAAAAAAAAAAAAAAAAAAAAAAAAAAAAAAAAAAAAAAAAAAAAAAAAAAAAAAAAAAAAAAAAAAAAAAAAAAAAAAAAAAAAAAAAAAAAAAAAAAAAAAAAAAAAAAAAAAAAAAAAAAAAAAAAAAAAAAAAAAAAAAAAAAAAAAAAAAAAAAAAAAAAAAAAAAAAAAAAAAAAAAAAAAAAAAAAAAAAAAAAAAAAAAAAAAAAAAAAAAAAAAAAAAAAAAAAAAAAAAAAAAAAAAAAAAAAAAAAAAAAAAAAAAAAAAAAAAAAAAAAAAAAAAAAAAAAAAAAAAAAAAAAAAAAAAAAAAAAAAAAAAAAAAAAAAAAAAAAAAAAAAAAAAAAAAAAAAAAAAAAAAAAAAAAAAAAAAAAAAAAAAAAAAAAAAAAAAAAAAAAAAAAAAAAAAAAAAAAAAAAAAAAAAAAAAAAAAAAAAAAAAAAAAAAAAAAAAAAAAAAAAAAAAAAAAAAAAAAAAAAAAAAAAAAAAAAAAAAAAAAAAAAAAAAAAAAAAAAAAAAAAAAAAAAAAAAAAAAAAAAAAAAAAAAAAAAAAAAAAACwAAAAAHgABAAAIHwABCBRAAIDBAAAACADAEEAAABAhGgAwAMCBAAAKBAQAOw==\"><title>Layer: hidden2 (hidden)\n output range: (-1.0, 1.0)\n shape = (30,)\n Keras class = Dense\n activation = relu</title></image><text x=\"288.0\" y=\"192.0\" font-family=\"monospace\" font-size=\"12\" text-anchor=\"middle\" fill=\"black\" alignment-baseline=\"central\"  transform=\"rotate(-90 288.0 192.0) translate(2)\" >hidden2</text><line x1=\"175.0\" y1=\"244\" x2=\"175.0\" y2=\"217\" stroke=\"black\" stroke-width=\"2\" marker-end=\"url(#arrow)\"><title>Weights from hidden1 to hidden2\n hidden2/kernel has shape (30, 30)\n hidden2/bias has shape (30,)</title></line><rect x=\"74.0\" y=\"244\" width=\"202\" height=\"52\" style=\"fill:none;stroke:black;stroke-width:2\"/><image id=\"picture-dashboard-MNIST_MLP-996653_hidden1-rotated_8\" class=\"picture-dashboard-MNIST_MLP-996653_hidden1-rotated\" x=\"75.0\" y=\"245\" height=\"50\" width=\"200\" preserveAspectRatio=\"none\" href=\"data:image/gif;base64,R0lGODdhHgABAIcAAP38/Xl5/yUl/wAATOHh/83N/7Gx/42N/6Gh/11d/xAQ/wAAAAAAAAAAAAAAAAAAAAAAAAAAAAAAAAAAAAAAAAAAAAAAAAAAAAAAAAAAAAAAAAAAAAAAAAAAAAAAAAAAAAAAAAAAAAAAAAAAAAAAAAAAAAAAAAAAAAAAAAAAAAAAAAAAAAAAAAAAAAAAAAAAAAAAAAAAAAAAAAAAAAAAAAAAAAAAAAAAAAAAAAAAAAAAAAAAAAAAAAAAAAAAAAAAAAAAAAAAAAAAAAAAAAAAAAAAAAAAAAAAAAAAAAAAAAAAAAAAAAAAAAAAAAAAAAAAAAAAAAAAAAAAAAAAAAAAAAAAAAAAAAAAAAAAAAAAAAAAAAAAAAAAAAAAAAAAAAAAAAAAAAAAAAAAAAAAAAAAAAAAAAAAAAAAAAAAAAAAAAAAAAAAAAAAAAAAAAAAAAAAAAAAAAAAAAAAAAAAAAAAAAAAAAAAAAAAAAAAAAAAAAAAAAAAAAAAAAAAAAAAAAAAAAAAAAAAAAAAAAAAAAAAAAAAAAAAAAAAAAAAAAAAAAAAAAAAAAAAAAAAAAAAAAAAAAAAAAAAAAAAAAAAAAAAAAAAAAAAAAAAAAAAAAAAAAAAAAAAAAAAAAAAAAAAAAAAAAAAAAAAAAAAAAAAAAAAAAAAAAAAAAAAAAAAAAAAAAAAAAAAAAAAAAAAAAAAAAAAAAAAAAAAAAAAAAAAAAAAAAAAAAAAAAAAAAAAAAAAAAAAAAAAAAAAAAAAAAAAAAAAAAAAAAAAAAAAAAAAAAAAAAAAAAAAAAAAAAAAAAAAAAAAAAAAAAAAAAAAAAAAAAAAAAAAAAAAAAAAAAAAAAAAAAAAAAAAAAAAAAAAAAAAAAAAAAAAAAAAAAAAAAAAAAAAAAAAAAAAAAAAAAAAAAAAAAAAAAAAAAAAAAAAAAAAAAAAAAAAAAAAAAAAAAAAAAAAAAAAAAAAAAAAAAAAAAAAAAAAAAAAAAAAAAAAAAAAAAAAAAAAAAAAAAAAAAAAAAAAACwAAAAAHgABAAAIHwANABAgIAAAAgAGAAgA4ACAhwAKAEAAoKLFigkUBAQAOw==\"><title>Layer: hidden1 (hidden)\n output range: (-1.0, 1.0)\n shape = (30,)\n Keras class = Dense\n activation = relu</title></image><text x=\"288.0\" y=\"272.0\" font-family=\"monospace\" font-size=\"12\" text-anchor=\"middle\" fill=\"black\" alignment-baseline=\"central\"  transform=\"rotate(-90 288.0 272.0) translate(2)\" >hidden1</text><line x1=\"175.0\" y1=\"324\" x2=\"175.0\" y2=\"297\" stroke=\"black\" stroke-width=\"2\" marker-end=\"url(#arrow)\"><title>Weights from flat_input to hidden1\n hidden1/kernel has shape (784, 30)\n hidden1/bias has shape (30,)</title></line><rect x=\"74.0\" y=\"324\" width=\"202\" height=\"52\" style=\"fill:none;stroke:black;stroke-width:2\"/><image id=\"picture-dashboard-MNIST_MLP-996653_flat_input-rotated_9\" class=\"picture-dashboard-MNIST_MLP-996653_flat_input-rotated\" x=\"75.0\" y=\"325\" height=\"50\" width=\"200\" preserveAspectRatio=\"none\" href=\"data:image/gif;base64,R0lGODdhEAMBAIcAAAAAAPz8/Li4uOfn56mpqRgYGCYmJmlpaXl5edXV1cTExEdHR1hYWJqamoCAgDw8PAAAAAAAAAAAAAAAAAAAAAAAAAAAAAAAAAAAAAAAAAAAAAAAAAAAAAAAAAAAAAAAAAAAAAAAAAAAAAAAAAAAAAAAAAAAAAAAAAAAAAAAAAAAAAAAAAAAAAAAAAAAAAAAAAAAAAAAAAAAAAAAAAAAAAAAAAAAAAAAAAAAAAAAAAAAAAAAAAAAAAAAAAAAAAAAAAAAAAAAAAAAAAAAAAAAAAAAAAAAAAAAAAAAAAAAAAAAAAAAAAAAAAAAAAAAAAAAAAAAAAAAAAAAAAAAAAAAAAAAAAAAAAAAAAAAAAAAAAAAAAAAAAAAAAAAAAAAAAAAAAAAAAAAAAAAAAAAAAAAAAAAAAAAAAAAAAAAAAAAAAAAAAAAAAAAAAAAAAAAAAAAAAAAAAAAAAAAAAAAAAAAAAAAAAAAAAAAAAAAAAAAAAAAAAAAAAAAAAAAAAAAAAAAAAAAAAAAAAAAAAAAAAAAAAAAAAAAAAAAAAAAAAAAAAAAAAAAAAAAAAAAAAAAAAAAAAAAAAAAAAAAAAAAAAAAAAAAAAAAAAAAAAAAAAAAAAAAAAAAAAAAAAAAAAAAAAAAAAAAAAAAAAAAAAAAAAAAAAAAAAAAAAAAAAAAAAAAAAAAAAAAAAAAAAAAAAAAAAAAAAAAAAAAAAAAAAAAAAAAAAAAAAAAAAAAAAAAAAAAAAAAAAAAAAAAAAAAAAAAAAAAAAAAAAAAAAAAAAAAAAAAAAAAAAAAAAAAAAAAAAAAAAAAAAAAAAAAAAAAAAAAAAAAAAAAAAAAAAAAAAAAAAAAAAAAAAAAAAAAAAAAAAAAAAAAAAAAAAAAAAAAAAAAAAAAAAAAAAAAAAAAAAAAAAAAAAAAAAAAAAAAAAAAAAAAAAAAAAAAAAAAAAAAAAAAAAAAAAAAAAAAAAAAAAAAAAAAAAAAAAAAAAAAAAAAAAAAAAAAAAAAAAAAAAAAAAAAAAAAACwAAAAAEAMBAAAI/wABCBxIsKDBgwgTKlzIsKHDhxAjSlxogMAAAwAyatzIsWPGBQMCBBAAoKTJkyhTGnAwYACBBAMAyJxJsybNAg0CDCBQAECAAAUACB1KtKhQBgkCJDAAoGkAAQCiSp1KNWqBAAEGLADA1UAAAQDCih1LVmyCAAEGNEDAQEAAAQDiyp1Ldy4CAQHy6hUAoK/fv4ADLzggQMGAAAIAKF7MuLFjxgICEABAubLly5gtBwhwAIDnz6BDi/5cIECABwBSq17NurXqAwECAJhNu7bt27UPBFAAoLfv38CD/1YQgACA48iTK1+OvECAAAcASJ9Ovbr16QcCDADAvbv37+C9Iy4IQACA+fPo06tHjyAAAgDw48ufT18+gwQGAOjfz7+/f4AABA4kWNDgQYQJBQYEADs=\"><title>Layer: flat_input (hidden)\n output range: (0.0, 1.0)\n Keras class = Flatten</title></image><text x=\"288.0\" y=\"352.0\" font-family=\"monospace\" font-size=\"12\" text-anchor=\"middle\" fill=\"black\" alignment-baseline=\"central\"  transform=\"rotate(-90 288.0 352.0) translate(2)\" >flat_input</text><line x1=\"175.0\" y1=\"404\" x2=\"175.0\" y2=\"377\" stroke=\"black\" stroke-width=\"2\" marker-end=\"url(#arrow)\"><title>Weights from input to flat_input</title></line><rect x=\"74.0\" y=\"404\" width=\"202\" height=\"202\" style=\"fill:none;stroke:black;stroke-width:2\"/><image id=\"picture-dashboard-MNIST_MLP-996653_input-rotated_10\" class=\"picture-dashboard-MNIST_MLP-996653_input-rotated\" x=\"75.0\" y=\"405\" height=\"200\" width=\"200\" preserveAspectRatio=\"none\" href=\"data:image/gif;base64,R0lGODdhHAAcAIcAAAAAAPz8/Li4uOfn56mpqRgYGCYmJmlpaXl5edXV1cTExEdHR1hYWJqamoCAgDw8PAAAAAAAAAAAAAAAAAAAAAAAAAAAAAAAAAAAAAAAAAAAAAAAAAAAAAAAAAAAAAAAAAAAAAAAAAAAAAAAAAAAAAAAAAAAAAAAAAAAAAAAAAAAAAAAAAAAAAAAAAAAAAAAAAAAAAAAAAAAAAAAAAAAAAAAAAAAAAAAAAAAAAAAAAAAAAAAAAAAAAAAAAAAAAAAAAAAAAAAAAAAAAAAAAAAAAAAAAAAAAAAAAAAAAAAAAAAAAAAAAAAAAAAAAAAAAAAAAAAAAAAAAAAAAAAAAAAAAAAAAAAAAAAAAAAAAAAAAAAAAAAAAAAAAAAAAAAAAAAAAAAAAAAAAAAAAAAAAAAAAAAAAAAAAAAAAAAAAAAAAAAAAAAAAAAAAAAAAAAAAAAAAAAAAAAAAAAAAAAAAAAAAAAAAAAAAAAAAAAAAAAAAAAAAAAAAAAAAAAAAAAAAAAAAAAAAAAAAAAAAAAAAAAAAAAAAAAAAAAAAAAAAAAAAAAAAAAAAAAAAAAAAAAAAAAAAAAAAAAAAAAAAAAAAAAAAAAAAAAAAAAAAAAAAAAAAAAAAAAAAAAAAAAAAAAAAAAAAAAAAAAAAAAAAAAAAAAAAAAAAAAAAAAAAAAAAAAAAAAAAAAAAAAAAAAAAAAAAAAAAAAAAAAAAAAAAAAAAAAAAAAAAAAAAAAAAAAAAAAAAAAAAAAAAAAAAAAAAAAAAAAAAAAAAAAAAAAAAAAAAAAAAAAAAAAAAAAAAAAAAAAAAAAAAAAAAAAAAAAAAAAAAAAAAAAAAAAAAAAAAAAAAAAAAAAAAAAAAAAAAAAAAAAAAAAAAAAAAAAAAAAAAAAAAAAAAAAAAAAAAAAAAAAAAAAAAAAAAAAAAAAAAAAAAAAAAAAAAAAAAAAAAAAAAAAAAAAAAAAAAAAAAAAAAAAAAAAAAAAAAAAAAAAAAAAAAAAAAAAAAAAAAAAAAAAAAAAAAAAACwAAAAAHAAcAEAI+AABCBxIsKDBgwgTKkxoIECCBQMCLABAsaLFixgzatzIseNGAgEIAABgQECAAQICqFw5gAACAwBiypwpswCAmzhz6tzJs6fPn0CDGhAwIICAo0cJHHgAoKnTp1CbLhhAAAAABAEEANjKtcABBAgYABhLtiyAAgkCBEAAoK3bt3Djyp1Lt67du3jz6t3Lt69fAAUACB5MuLDhwQMCJAjAuLFjBQQOAJhMufJkAwMGFAAAgEEABQAAFDhwQEGA0wESAFjNurWDAQYANAhwAIDt27hz6wbQIMCAAAIACB9OvLjx4QwCJADAvLnz59CjS59Ovbr169izRw8IADs=\"><title>Layer: input (input)\n output range: (0.0, 1.0)\n shape = (28, 28, 1)\n Keras class = Input</title></image><text x=\"288.0\" y=\"507.0\" font-family=\"monospace\" font-size=\"12\" text-anchor=\"middle\" fill=\"black\" alignment-baseline=\"central\"  transform=\"rotate(-90 288.0 507.0) translate(2)\" >input</text><text x=\"88.0\" y=\"390\" font-family=\"monospace\" font-size=\"12\" text-anchor=\"middle\" fill=\"black\" alignment-baseline=\"central\"  transform=\"rotate(-90 88.0 390) translate(2)\" >1</text><text x=\"273.0\" y=\"620\" font-family=\"monospace\" font-size=\"12\" text-anchor=\"middle\" fill=\"black\" alignment-baseline=\"central\"  transform=\"rotate(-90 273.0 620) translate(2)\" >0</text><text x=\"18\" y=\"315.0\" font-family=\"monospace\" font-size=\"15\" text-anchor=\"middle\" fill=\"black\" alignment-baseline=\"central\"  transform=\"rotate(-90 18 315.0) translate(2)\" >MNIST_MLP</text></svg></g></svg></p>"
      }
     },
     "badea3ace2b4421b97a3b11c6e2f1565": {
      "model_module": "@jupyter-widgets/output",
      "model_module_version": "1.0.0",
      "model_name": "OutputModel",
      "state": {
       "layout": "IPY_MODEL_e879702d6fa74a5cb187995a60138ebc"
      }
     },
     "bb81efd785b5430b89f0e89e40603234": {
      "model_module": "@jupyter-widgets/base",
      "model_module_version": "1.0.0",
      "model_name": "LayoutModel",
      "state": {}
     },
     "bbc70cd996bb4908aeb46686754cc02c": {
      "model_module": "@jupyter-widgets/controls",
      "model_module_version": "1.1.0",
      "model_name": "ButtonModel",
      "state": {
       "icon": "backward",
       "layout": "IPY_MODEL_c703b37d1c204c2da1109eee7d35dbcd",
       "style": "IPY_MODEL_f0834ac242fd414eac50e1b782f4b33e"
      }
     },
     "bbd7c38c29764358b45839f63a686a86": {
      "model_module": "@jupyter-widgets/base",
      "model_module_version": "1.0.0",
      "model_name": "LayoutModel",
      "state": {
       "width": "100%"
      }
     },
     "bc350e87feb94256beb1e1bd622615fe": {
      "model_module": "@jupyter-widgets/base",
      "model_module_version": "1.0.0",
      "model_name": "LayoutModel",
      "state": {
       "width": "10%"
      }
     },
     "be4d302aad194ba19224cfb17f347055": {
      "model_module": "@jupyter-widgets/controls",
      "model_module_version": "1.1.0",
      "model_name": "DescriptionStyleModel",
      "state": {
       "description_width": "initial"
      }
     },
     "bec5ad78ee394951b237118b6c188bf4": {
      "model_module": "@jupyter-widgets/controls",
      "model_module_version": "1.1.0",
      "model_name": "ButtonStyleModel",
      "state": {}
     },
     "beda26457227417395d3dbb9ba5ae706": {
      "model_module": "@jupyter-widgets/controls",
      "model_module_version": "1.1.0",
      "model_name": "FloatTextModel",
      "state": {
       "description": "Feature scale:",
       "layout": "IPY_MODEL_a321edc014384f8e92696910e698416b",
       "step": null,
       "style": "IPY_MODEL_9faf49bee7ba48c28c6ed481a4be8743",
       "value": 4
      }
     },
     "bf9779aa357f42e79d771a4d0b6a3e87": {
      "model_module": "@jupyter-widgets/base",
      "model_module_version": "1.0.0",
      "model_name": "LayoutModel",
      "state": {}
     },
     "c04c470920584ef3a05a47c88df9cb93": {
      "model_module": "@jupyter-widgets/controls",
      "model_module_version": "1.1.0",
      "model_name": "DescriptionStyleModel",
      "state": {
       "description_width": ""
      }
     },
     "c19eaaa9406b404ca5d1fab0213f06d8": {
      "model_module": "@jupyter-widgets/base",
      "model_module_version": "1.0.0",
      "model_name": "LayoutModel",
      "state": {}
     },
     "c3b4a4df7cdc40d78d4108c5d73f9d16": {
      "model_module": "@jupyter-widgets/base",
      "model_module_version": "1.0.0",
      "model_name": "LayoutModel",
      "state": {
       "width": "100%"
      }
     },
     "c3c921c3e47c484995d81ffebde0ac6d": {
      "model_module": "@jupyter-widgets/controls",
      "model_module_version": "1.1.0",
      "model_name": "DescriptionStyleModel",
      "state": {
       "description_width": ""
      }
     },
     "c53ee3f67ebb4071ae36090159749e4e": {
      "model_module": "@jupyter-widgets/controls",
      "model_module_version": "1.1.0",
      "model_name": "FloatSliderModel",
      "state": {
       "continuous_update": false,
       "description": "Zoom",
       "layout": "IPY_MODEL_11f8e2a72c9c463fa9f22c2b1e1093ee",
       "max": 1,
       "step": 0.1,
       "style": "IPY_MODEL_947c692c6326482eacb4f5ac2d5a1b47",
       "value": 0.6
      }
     },
     "c59ad31933574f9397e50f45be567974": {
      "model_module": "@jupyter-widgets/controls",
      "model_module_version": "1.1.0",
      "model_name": "DescriptionStyleModel",
      "state": {
       "description_width": ""
      }
     },
     "c5c9cd4893fe41fc986d5f9df3d9823f": {
      "model_module": "@jupyter-widgets/controls",
      "model_module_version": "1.1.0",
      "model_name": "ButtonStyleModel",
      "state": {}
     },
     "c63005f64c104279900736dba3d160b4": {
      "model_module": "@jupyter-widgets/controls",
      "model_module_version": "1.1.0",
      "model_name": "SelectModel",
      "state": {
       "_options_labels": [
        "",
        "Accent",
        "Accent_r",
        "Blues",
        "Blues_r",
        "BrBG",
        "BrBG_r",
        "BuGn",
        "BuGn_r",
        "BuPu",
        "BuPu_r",
        "CMRmap",
        "CMRmap_r",
        "Dark2",
        "Dark2_r",
        "GnBu",
        "GnBu_r",
        "Greens",
        "Greens_r",
        "Greys",
        "Greys_r",
        "OrRd",
        "OrRd_r",
        "Oranges",
        "Oranges_r",
        "PRGn",
        "PRGn_r",
        "Paired",
        "Paired_r",
        "Pastel1",
        "Pastel1_r",
        "Pastel2",
        "Pastel2_r",
        "PiYG",
        "PiYG_r",
        "PuBu",
        "PuBuGn",
        "PuBuGn_r",
        "PuBu_r",
        "PuOr",
        "PuOr_r",
        "PuRd",
        "PuRd_r",
        "Purples",
        "Purples_r",
        "RdBu",
        "RdBu_r",
        "RdGy",
        "RdGy_r",
        "RdPu",
        "RdPu_r",
        "RdYlBu",
        "RdYlBu_r",
        "RdYlGn",
        "RdYlGn_r",
        "Reds",
        "Reds_r",
        "Set1",
        "Set1_r",
        "Set2",
        "Set2_r",
        "Set3",
        "Set3_r",
        "Spectral",
        "Spectral_r",
        "Vega10",
        "Vega10_r",
        "Vega20",
        "Vega20_r",
        "Vega20b",
        "Vega20b_r",
        "Vega20c",
        "Vega20c_r",
        "Wistia",
        "Wistia_r",
        "YlGn",
        "YlGnBu",
        "YlGnBu_r",
        "YlGn_r",
        "YlOrBr",
        "YlOrBr_r",
        "YlOrRd",
        "YlOrRd_r",
        "afmhot",
        "afmhot_r",
        "autumn",
        "autumn_r",
        "binary",
        "binary_r",
        "bone",
        "bone_r",
        "brg",
        "brg_r",
        "bwr",
        "bwr_r",
        "cool",
        "cool_r",
        "coolwarm",
        "coolwarm_r",
        "copper",
        "copper_r",
        "cubehelix",
        "cubehelix_r",
        "flag",
        "flag_r",
        "gist_earth",
        "gist_earth_r",
        "gist_gray",
        "gist_gray_r",
        "gist_heat",
        "gist_heat_r",
        "gist_ncar",
        "gist_ncar_r",
        "gist_rainbow",
        "gist_rainbow_r",
        "gist_stern",
        "gist_stern_r",
        "gist_yarg",
        "gist_yarg_r",
        "gnuplot",
        "gnuplot2",
        "gnuplot2_r",
        "gnuplot_r",
        "gray",
        "gray_r",
        "hot",
        "hot_r",
        "hsv",
        "hsv_r",
        "inferno",
        "inferno_r",
        "jet",
        "jet_r",
        "magma",
        "magma_r",
        "nipy_spectral",
        "nipy_spectral_r",
        "ocean",
        "ocean_r",
        "pink",
        "pink_r",
        "plasma",
        "plasma_r",
        "prism",
        "prism_r",
        "rainbow",
        "rainbow_r",
        "seismic",
        "seismic_r",
        "spectral",
        "spectral_r",
        "spring",
        "spring_r",
        "summer",
        "summer_r",
        "tab10",
        "tab10_r",
        "tab20",
        "tab20_r",
        "tab20b",
        "tab20b_r",
        "tab20c",
        "tab20c_r",
        "terrain",
        "terrain_r",
        "viridis",
        "viridis_r",
        "winter",
        "winter_r"
       ],
       "description": "Colormap:",
       "index": 0,
       "layout": "IPY_MODEL_ede1077c363147caa032ae94e603f279",
       "rows": 1,
       "style": "IPY_MODEL_c3c921c3e47c484995d81ffebde0ac6d"
      }
     },
     "c68a43692ac742d086eaeadd97704902": {
      "model_module": "@jupyter-widgets/controls",
      "model_module_version": "1.1.0",
      "model_name": "SliderStyleModel",
      "state": {
       "description_width": "initial"
      }
     },
     "c6a737287b524dda82b4783c26ecc401": {
      "model_module": "@jupyter-widgets/controls",
      "model_module_version": "1.1.0",
      "model_name": "HBoxModel",
      "state": {
       "children": [
        "IPY_MODEL_fe70d7272082438891eeac64e4fe1aea",
        "IPY_MODEL_2c46f3f1839447a3ba718cc2b23d371b"
       ],
       "layout": "IPY_MODEL_e9ab8284b1234772b94089aec7cdbe0c"
      }
     },
     "c703b37d1c204c2da1109eee7d35dbcd": {
      "model_module": "@jupyter-widgets/base",
      "model_module_version": "1.0.0",
      "model_name": "LayoutModel",
      "state": {
       "width": "100%"
      }
     },
     "c8cf091962994d458e67ec004a36aa59": {
      "model_module": "@jupyter-widgets/base",
      "model_module_version": "1.0.0",
      "model_name": "LayoutModel",
      "state": {
       "width": "100%"
      }
     },
     "c8fd18cd1f004598a2c97cbf87986882": {
      "model_module": "@jupyter-widgets/controls",
      "model_module_version": "1.1.0",
      "model_name": "ButtonStyleModel",
      "state": {}
     },
     "cb276678ed424c29870a0df35f98012f": {
      "model_module": "@jupyter-widgets/controls",
      "model_module_version": "1.1.0",
      "model_name": "HBoxModel",
      "state": {
       "children": [
        "IPY_MODEL_5f337ba68f68497e9bd3aae13a8b7f46",
        "IPY_MODEL_b3b104902f6344c9814c6e5a3d17b47a"
       ],
       "layout": "IPY_MODEL_1047892bf5b145f0b320662c41206bb8"
      }
     },
     "cceeaf17203a4ce6a1a22adf31f820b9": {
      "model_module": "@jupyter-widgets/controls",
      "model_module_version": "1.1.0",
      "model_name": "DescriptionStyleModel",
      "state": {
       "description_width": "initial"
      }
     },
     "ce69ec0c00f34235b101a9c129dd5dae": {
      "model_module": "@jupyter-widgets/controls",
      "model_module_version": "1.1.0",
      "model_name": "HBoxModel",
      "state": {
       "children": [
        "IPY_MODEL_81b88037f5214e72901b432a2c80b007",
        "IPY_MODEL_e90318ae716f4e03a68eb6d56206f601"
       ],
       "layout": "IPY_MODEL_b30315ecc4614445b0d8465e034a186d"
      }
     },
     "ce7f4ecd43dc469281fea5bdfd798b4a": {
      "model_module": "@jupyter-widgets/controls",
      "model_module_version": "1.1.0",
      "model_name": "HBoxModel",
      "state": {
       "children": [
        "IPY_MODEL_8de4cd48f06d456aafcf2bba33a06d8b",
        "IPY_MODEL_61dee7a8002b43839301e9c4567bb118"
       ],
       "layout": "IPY_MODEL_8706e1255e7b4a8daa2dbc13c8cdc491"
      }
     },
     "cea422567a8a413fbfccec0fd8782519": {
      "model_module": "@jupyter-widgets/controls",
      "model_module_version": "1.1.0",
      "model_name": "DescriptionStyleModel",
      "state": {
       "description_width": ""
      }
     },
     "ceba45a2a73846ea9bd9ddb2d1db58dd": {
      "model_module": "@jupyter-widgets/controls",
      "model_module_version": "1.1.0",
      "model_name": "SelectModel",
      "state": {
       "_options_labels": [
        "input",
        "flat_input",
        "hidden1",
        "hidden2",
        "output"
       ],
       "description": "Layer:",
       "index": 4,
       "layout": "IPY_MODEL_4746fb2472f64c93aa478c81609be611",
       "rows": 1,
       "style": "IPY_MODEL_307e8988328647ebbe29f581afd2a7c6"
      }
     },
     "cef6d05077be4388ab5b19e507264e60": {
      "model_module": "@jupyter-widgets/controls",
      "model_module_version": "1.1.0",
      "model_name": "ButtonStyleModel",
      "state": {}
     },
     "cfe4896d782a4600a08705a735945dfb": {
      "model_module": "@jupyter-widgets/base",
      "model_module_version": "1.0.0",
      "model_name": "LayoutModel",
      "state": {}
     },
     "d010928107ca4802a2c92636489b7192": {
      "model_module": "@jupyter-widgets/controls",
      "model_module_version": "1.1.0",
      "model_name": "ButtonModel",
      "state": {
       "icon": "forward",
       "layout": "IPY_MODEL_71d1b74603fe4e33bf5fedce05a04256",
       "style": "IPY_MODEL_c8fd18cd1f004598a2c97cbf87986882"
      }
     },
     "d09059866b9d4802a229d16d16bd3650": {
      "model_module": "@jupyter-widgets/base",
      "model_module_version": "1.0.0",
      "model_name": "LayoutModel",
      "state": {
       "width": "65%"
      }
     },
     "d26c01a006284d4e9dbb387f07fe21d4": {
      "model_module": "@jupyter-widgets/controls",
      "model_module_version": "1.1.0",
      "model_name": "ButtonStyleModel",
      "state": {}
     },
     "d28f13ff649f42b0acf7f034f986b03f": {
      "model_module": "@jupyter-widgets/controls",
      "model_module_version": "1.1.0",
      "model_name": "DescriptionStyleModel",
      "state": {
       "description_width": "initial"
      }
     },
     "d2c89732222e4d139dba69823cd94cf6": {
      "model_module": "@jupyter-widgets/controls",
      "model_module_version": "1.1.0",
      "model_name": "DescriptionStyleModel",
      "state": {
       "description_width": ""
      }
     },
     "d2df973d7cc14e00b2befd4cb62faadf": {
      "model_module": "@jupyter-widgets/controls",
      "model_module_version": "1.1.0",
      "model_name": "DescriptionStyleModel",
      "state": {
       "description_width": ""
      }
     },
     "d316eb85d94d46c1a28a8b467c432cb2": {
      "model_module": "@jupyter-widgets/controls",
      "model_module_version": "1.1.0",
      "model_name": "ButtonStyleModel",
      "state": {}
     },
     "d4010ceb18034c1d85d4de6e096ce341": {
      "model_module": "@jupyter-widgets/controls",
      "model_module_version": "1.1.0",
      "model_name": "ButtonStyleModel",
      "state": {}
     },
     "d405c393542647b0886e94d25425cc0e": {
      "model_module": "@jupyter-widgets/base",
      "model_module_version": "1.0.0",
      "model_name": "LayoutModel",
      "state": {}
     },
     "d5ff4c514e3d4c7fa3956e08293529fa": {
      "model_module": "@jupyter-widgets/controls",
      "model_module_version": "1.1.0",
      "model_name": "DescriptionStyleModel",
      "state": {
       "description_width": "initial"
      }
     },
     "d70b9e96940845d79c8f7dd1ad22c2ca": {
      "model_module": "@jupyter-widgets/base",
      "model_module_version": "1.0.0",
      "model_name": "LayoutModel",
      "state": {}
     },
     "d73276263be144eca531e6df17dc4ad1": {
      "model_module": "@jupyter-widgets/base",
      "model_module_version": "1.0.0",
      "model_name": "LayoutModel",
      "state": {
       "width": "100%"
      }
     },
     "d740aca3357e455a860123d8dd7dbf0a": {
      "model_module": "@jupyter-widgets/controls",
      "model_module_version": "1.1.0",
      "model_name": "DescriptionStyleModel",
      "state": {
       "description_width": ""
      }
     },
     "d7a0ebc58111460cb0d19e1cd2471c35": {
      "model_module": "@jupyter-widgets/controls",
      "model_module_version": "1.1.0",
      "model_name": "IntTextModel",
      "state": {
       "description": "Feature columns:",
       "layout": "IPY_MODEL_d70b9e96940845d79c8f7dd1ad22c2ca",
       "step": 1,
       "style": "IPY_MODEL_fc7d9cb2629246849c5108badfa2fb92",
       "value": 8
      }
     },
     "d7e77eba936145b7a25b0367855e5a4e": {
      "model_module": "@jupyter-widgets/controls",
      "model_module_version": "1.1.0",
      "model_name": "FloatTextModel",
      "state": {
       "description": "Feature scale:",
       "layout": "IPY_MODEL_7ce97391c875475c8c0f3b7d6650b19b",
       "step": null,
       "style": "IPY_MODEL_6c03b1280c224d1bad2eb6af1a4a2de4",
       "value": 4
      }
     },
     "d808a362debf4319b2052a482a124e2e": {
      "model_module": "@jupyter-widgets/controls",
      "model_module_version": "1.1.0",
      "model_name": "DescriptionStyleModel",
      "state": {
       "description_width": ""
      }
     },
     "d8296694b9534808b50c926cc8b971a1": {
      "model_module": "@jupyter-widgets/controls",
      "model_module_version": "1.1.0",
      "model_name": "HBoxModel",
      "state": {
       "children": [
        "IPY_MODEL_869755d42a784d9eba3f1d731bbc64cf",
        "IPY_MODEL_fece630e8bb3467b808ede8755529565"
       ],
       "layout": "IPY_MODEL_509ab50f5c2645ba9e8ca305371a032a"
      }
     },
     "db6ec6953bdd4c1f8d6fb326a7a1df30": {
      "model_module": "@jupyter-widgets/base",
      "model_module_version": "1.0.0",
      "model_name": "LayoutModel",
      "state": {}
     },
     "dbdd3f1f6de24dee82bdd4a15ac6498a": {
      "model_module": "@jupyter-widgets/controls",
      "model_module_version": "1.1.0",
      "model_name": "ButtonStyleModel",
      "state": {}
     },
     "dee1c881c2e64ee28d958d3770155177": {
      "model_module": "@jupyter-widgets/controls",
      "model_module_version": "1.1.0",
      "model_name": "CheckboxModel",
      "state": {
       "description": "Rotate",
       "disabled": false,
       "layout": "IPY_MODEL_49ffc40efbb347649d838b2c3eec5c66",
       "style": "IPY_MODEL_620467b1262c4d28b16f65bb2b952743",
       "value": true
      }
     },
     "e01511eea4a44cadbc4d4a0a8475c22f": {
      "model_module": "@jupyter-widgets/controls",
      "model_module_version": "1.1.0",
      "model_name": "SelectModel",
      "state": {
       "_options_labels": [
        "",
        "input",
        "conv2D_1",
        "maxpool1",
        "conv2D_2",
        "maxpool2"
       ],
       "description": "Features:",
       "index": 2,
       "layout": "IPY_MODEL_b2e0850026ca4789b7191579bac26572",
       "rows": 1,
       "style": "IPY_MODEL_c59ad31933574f9397e50f45be567974"
      }
     },
     "e08cca7c8ed74d019a740f14851dbc09": {
      "model_module": "@jupyter-widgets/base",
      "model_module_version": "1.0.0",
      "model_name": "LayoutModel",
      "state": {
       "width": "100%"
      }
     },
     "e0b2998097fa479aac5964bb86a3f6bc": {
      "model_module": "@jupyter-widgets/controls",
      "model_module_version": "1.1.0",
      "model_name": "DescriptionStyleModel",
      "state": {
       "description_width": "initial"
      }
     },
     "e1ea346d16b9496983be73ba574377f5": {
      "model_module": "@jupyter-widgets/controls",
      "model_module_version": "1.1.0",
      "model_name": "HTMLModel",
      "state": {
       "layout": "IPY_MODEL_109109442fcf477497f92b78e48e1c62",
       "style": "IPY_MODEL_476f02dcab734c38bd5eb80516d80bfe",
       "value": "<img src=\"data:image/gif;base64,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\"/>"
      }
     },
     "e223e70251274a4ba08aa3e2306b7f12": {
      "model_module": "@jupyter-widgets/base",
      "model_module_version": "1.0.0",
      "model_name": "LayoutModel",
      "state": {}
     },
     "e293194c9be5437894732b005b784682": {
      "model_module": "@jupyter-widgets/controls",
      "model_module_version": "1.1.0",
      "model_name": "DescriptionStyleModel",
      "state": {
       "description_width": ""
      }
     },
     "e2f4a25b443449758b9c3f5bae92536d": {
      "model_module": "@jupyter-widgets/controls",
      "model_module_version": "1.1.0",
      "model_name": "FloatSliderModel",
      "state": {
       "continuous_update": false,
       "description": "Zoom",
       "layout": "IPY_MODEL_1a37d7bc511c480aac61974ef7dc867b",
       "max": 1,
       "step": 0.1,
       "style": "IPY_MODEL_c68a43692ac742d086eaeadd97704902",
       "value": 0.5
      }
     },
     "e4c7ae885a81440d9431672e49f58dec": {
      "model_module": "@jupyter-widgets/controls",
      "model_module_version": "1.1.0",
      "model_name": "DescriptionStyleModel",
      "state": {
       "description_width": ""
      }
     },
     "e4e7b0d7f6404540b935e866dc8db7fd": {
      "model_module": "@jupyter-widgets/controls",
      "model_module_version": "1.1.0",
      "model_name": "IntTextModel",
      "state": {
       "description": "Feature columns:",
       "layout": "IPY_MODEL_e895ef82fbdb414e9898c0f4c99d600b",
       "step": 1,
       "style": "IPY_MODEL_341aaade57ca4681902d04223db6d6d5",
       "value": 8
      }
     },
     "e50326ad380945f9abc0dd11339c7687": {
      "model_module": "@jupyter-widgets/controls",
      "model_module_version": "1.1.0",
      "model_name": "SelectModel",
      "state": {
       "_options_labels": [
        "Test",
        "Train"
       ],
       "description": "Dataset:",
       "index": 1,
       "layout": "IPY_MODEL_1766bbc217444d0c9b7d16ebfd082240",
       "rows": 1,
       "style": "IPY_MODEL_d808a362debf4319b2052a482a124e2e"
      }
     },
     "e535f4e1bd134d6f8a8e9500affcdac0": {
      "model_module": "@jupyter-widgets/base",
      "model_module_version": "1.0.0",
      "model_name": "LayoutModel",
      "state": {
       "width": "100%"
      }
     },
     "e58ddd7c023648e89bb346538d80c354": {
      "model_module": "@jupyter-widgets/controls",
      "model_module_version": "1.1.0",
      "model_name": "DescriptionStyleModel",
      "state": {
       "description_width": ""
      }
     },
     "e5e8c95ec34c49d2adc9406f5208f82d": {
      "model_module": "@jupyter-widgets/controls",
      "model_module_version": "1.1.0",
      "model_name": "ButtonStyleModel",
      "state": {}
     },
     "e61178a6616f47c7a1357ecd97778b64": {
      "model_module": "@jupyter-widgets/output",
      "model_module_version": "1.0.0",
      "model_name": "OutputModel",
      "state": {
       "layout": "IPY_MODEL_698b8585c8704f2bb57deecbf5f365ae"
      }
     },
     "e879702d6fa74a5cb187995a60138ebc": {
      "model_module": "@jupyter-widgets/base",
      "model_module_version": "1.0.0",
      "model_name": "LayoutModel",
      "state": {}
     },
     "e895ef82fbdb414e9898c0f4c99d600b": {
      "model_module": "@jupyter-widgets/base",
      "model_module_version": "1.0.0",
      "model_name": "LayoutModel",
      "state": {}
     },
     "e90318ae716f4e03a68eb6d56206f601": {
      "model_module": "@jupyter-widgets/controls",
      "model_module_version": "1.1.0",
      "model_name": "VBoxModel",
      "state": {
       "children": [
        "IPY_MODEL_ffaa9233bfa24b2dbfebdd624d85bdf1",
        "IPY_MODEL_7790f333bcf9439c818db883efe9d9e7",
        "IPY_MODEL_b250d5baa6a14d708b11bed84ebb6d81",
        "IPY_MODEL_f4f3fdaabb5b4cabb37d6f126d5dc9b4",
        "IPY_MODEL_55244e482aff471fa09bf8c8d44813c7",
        "IPY_MODEL_520ce4e784724dbda36e71f6292d6cca",
        "IPY_MODEL_f518a6ae6b5540a7900a45d3aabf5027",
        "IPY_MODEL_c6a737287b524dda82b4783c26ecc401"
       ],
       "layout": "IPY_MODEL_0035c061f5db4bdba5481bc72c1f1a6d"
      }
     },
     "e9ab8284b1234772b94089aec7cdbe0c": {
      "model_module": "@jupyter-widgets/base",
      "model_module_version": "1.0.0",
      "model_name": "LayoutModel",
      "state": {}
     },
     "e9bbe35bebe842c5896c5d57e07ba4b1": {
      "model_module": "@jupyter-widgets/controls",
      "model_module_version": "1.1.0",
      "model_name": "HBoxModel",
      "state": {
       "children": [
        "IPY_MODEL_2be6f694f08942379cb67cbb431dffd7",
        "IPY_MODEL_17a45ad607e1438487129628de614f4f"
       ],
       "layout": "IPY_MODEL_4c51240e8aa34771910fb88d80e8254c"
      }
     },
     "e9d7f016bde3471e86068bde26ad0a5b": {
      "model_module": "@jupyter-widgets/controls",
      "model_module_version": "1.1.0",
      "model_name": "ButtonModel",
      "state": {
       "icon": "forward",
       "layout": "IPY_MODEL_f24e64b8835648d6bda561fc92204d84",
       "style": "IPY_MODEL_dbdd3f1f6de24dee82bdd4a15ac6498a"
      }
     },
     "ea6866b16a96486bb278749f651fe46c": {
      "model_module": "@jupyter-widgets/controls",
      "model_module_version": "1.1.0",
      "model_name": "ButtonStyleModel",
      "state": {}
     },
     "ebd5b1b7a3ae4f24bf109f816d377e92": {
      "model_module": "@jupyter-widgets/controls",
      "model_module_version": "1.1.0",
      "model_name": "CheckboxModel",
      "state": {
       "description": "Rotate network",
       "disabled": false,
       "layout": "IPY_MODEL_6410ddafd8c64805a80283e09e330fdd",
       "style": "IPY_MODEL_6f6afd49025447de9d15483b063fa847",
       "value": true
      }
     },
     "ec8860b243e14bd6ab1abf28953ef503": {
      "model_module": "@jupyter-widgets/controls",
      "model_module_version": "1.1.0",
      "model_name": "DescriptionStyleModel",
      "state": {
       "description_width": "initial"
      }
     },
     "ed8bab30fadc44ebb5d7ee49c55d101b": {
      "model_module": "@jupyter-widgets/base",
      "model_module_version": "1.0.0",
      "model_name": "LayoutModel",
      "state": {
       "width": "100%"
      }
     },
     "ede1077c363147caa032ae94e603f279": {
      "model_module": "@jupyter-widgets/base",
      "model_module_version": "1.0.0",
      "model_name": "LayoutModel",
      "state": {}
     },
     "eec5df2462c940cc825fef59ce5e8fd2": {
      "model_module": "@jupyter-widgets/controls",
      "model_module_version": "1.1.0",
      "model_name": "ButtonModel",
      "state": {
       "icon": "fast-forward",
       "layout": "IPY_MODEL_8827b52c46854515a10c19bdd000fbd7",
       "style": "IPY_MODEL_1713fcf63e684f2f96b4749f29033113"
      }
     },
     "eee319408d98497e81eb0435612ac7ab": {
      "model_module": "@jupyter-widgets/controls",
      "model_module_version": "1.1.0",
      "model_name": "DescriptionStyleModel",
      "state": {
       "description_width": ""
      }
     },
     "ef0f2fd5bd2148c7b95563c8e1dc06a1": {
      "model_module": "@jupyter-widgets/controls",
      "model_module_version": "1.1.0",
      "model_name": "AccordionModel",
      "state": {
       "_titles": {
        "0": "MNIST_MLP"
       },
       "children": [
        "IPY_MODEL_046be0283533431881976a2ef4c63c59"
       ],
       "layout": "IPY_MODEL_6f04e8dc7ca341dabb45cc72ac34b81e",
       "selected_index": null
      }
     },
     "ef692dba5e05456c8ee97cd87f087072": {
      "model_module": "@jupyter-widgets/controls",
      "model_module_version": "1.1.0",
      "model_name": "ButtonStyleModel",
      "state": {}
     },
     "f01331cebc4f4dd3a06d4a319751f8d9": {
      "model_module": "@jupyter-widgets/controls",
      "model_module_version": "1.1.0",
      "model_name": "DescriptionStyleModel",
      "state": {
       "description_width": ""
      }
     },
     "f0834ac242fd414eac50e1b782f4b33e": {
      "model_module": "@jupyter-widgets/controls",
      "model_module_version": "1.1.0",
      "model_name": "ButtonStyleModel",
      "state": {}
     },
     "f1210e03c1fe4e9384646801e90f595e": {
      "model_module": "@jupyter-widgets/base",
      "model_module_version": "1.0.0",
      "model_name": "LayoutModel",
      "state": {
       "justify_content": "center",
       "overflow_x": "auto",
       "overflow_y": "auto",
       "width": "95%"
      }
     },
     "f1262d69ddad465d878cd34fb3a804dd": {
      "model_module": "@jupyter-widgets/controls",
      "model_module_version": "1.1.0",
      "model_name": "IntTextModel",
      "state": {
       "description": "Feature columns:",
       "layout": "IPY_MODEL_ff9ad5735bcb43fc9c4ff892bf906f23",
       "step": 1,
       "style": "IPY_MODEL_1e9f6e44dafc4ed481db159ff5acd666",
       "value": 3
      }
     },
     "f1c6e44c283e4a63a0496d496b9c0c02": {
      "model_module": "@jupyter-widgets/base",
      "model_module_version": "1.0.0",
      "model_name": "LayoutModel",
      "state": {
       "width": "10%"
      }
     },
     "f24e64b8835648d6bda561fc92204d84": {
      "model_module": "@jupyter-widgets/base",
      "model_module_version": "1.0.0",
      "model_name": "LayoutModel",
      "state": {
       "width": "100%"
      }
     },
     "f28a01f405b448debb941707d311706e": {
      "model_module": "@jupyter-widgets/base",
      "model_module_version": "1.0.0",
      "model_name": "LayoutModel",
      "state": {
       "width": "10%"
      }
     },
     "f34da1c77ff343f3a164ef0b1a1064a5": {
      "model_module": "@jupyter-widgets/controls",
      "model_module_version": "1.1.0",
      "model_name": "VBoxModel",
      "state": {
       "children": [
        "IPY_MODEL_8d586533027c456c93868bc55c3426b3",
        "IPY_MODEL_1ffba1c0bd0244aa89171e8de0eefaad",
        "IPY_MODEL_1c75bffedc03488f937691059e6adf28",
        "IPY_MODEL_badea3ace2b4421b97a3b11c6e2f1565"
       ],
       "layout": "IPY_MODEL_10384bb83d3b4c2787df43e45a80627b"
      }
     },
     "f3b405a569b94b8fb7328593a5ca92d0": {
      "model_module": "@jupyter-widgets/controls",
      "model_module_version": "1.1.0",
      "model_name": "HTMLModel",
      "state": {
       "layout": "IPY_MODEL_96db0d418893461bb95e8bfbd087a594",
       "style": "IPY_MODEL_c04c470920584ef3a05a47c88df9cb93",
       "value": "<p style=\"text-align:center\"><svg id='MNIST_MLP' xmlns='http://www.w3.org/2000/svg' image-rendering=\"pixelated\" width=\"480.0px\" height=\"266.66666666666663px\">\n <g  transform=\"rotate(90) translate(0 -480.0)\" >\n  <svg viewBox=\"0 0 350 630\" width=\"266.66666666666663px\" height=\"480.0px\">\n    <defs>\n        <marker id=\"arrow\" markerWidth=\"10\" markerHeight=\"10\" refX=\"9\" refY=\"3\" orient=\"auto\" markerUnits=\"strokeWidth\">\n          <path d=\"M0,0 L0,6 L9,3 z\" fill=\"black\" />\n        </marker>\n    </defs><rect x=\"74.0\" y=\"24\" width=\"202\" height=\"52\" style=\"fill:none;stroke:black;stroke-width:2\"/><image id=\"picture-dashboard-MNIST_MLP-780603_output_targets_6\" class=\"picture-dashboard-MNIST_MLP-780603_output_targets\" x=\"75.0\" y=\"25\" height=\"50\" width=\"200\" preserveAspectRatio=\"none\" href=\"data:image/gif;base64,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\"><title>Layer: output (output)\n output range: (-1.0, 1.0)\n shape = (10,)\n Keras class = Dense\n activation = softmax</title></image><text x=\"288.0\" y=\"52.0\" font-family=\"monospace\" font-size=\"12\" text-anchor=\"middle\" fill=\"black\" alignment-baseline=\"central\"  transform=\"rotate(-90 288.0 52.0) translate(2)\" >targets</text><line x1=\"87.5\" y1=\"80\" x2=\"262.5\" y2=\"80\" stroke=\"green\" stroke-width=\"2\"><title></title></line><rect x=\"74.0\" y=\"84\" width=\"202\" height=\"52\" style=\"fill:none;stroke:black;stroke-width:2\"/><image id=\"picture-dashboard-MNIST_MLP-780603_output-rotated_6\" class=\"picture-dashboard-MNIST_MLP-780603_output-rotated\" x=\"75.0\" y=\"85\" height=\"50\" width=\"200\" preserveAspectRatio=\"none\" href=\"data:image/gif;base64,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\"><title>Layer: output (output)\n output range: (-1.0, 1.0)\n shape = (10,)\n Keras class = Dense\n activation = softmax</title></image><text x=\"288.0\" y=\"112.0\" font-family=\"monospace\" font-size=\"12\" text-anchor=\"middle\" fill=\"black\" alignment-baseline=\"central\"  transform=\"rotate(-90 288.0 112.0) translate(2)\" >output</text><line x1=\"175.0\" y1=\"164\" x2=\"175.0\" y2=\"137\" stroke=\"black\" stroke-width=\"2\" marker-end=\"url(#arrow)\"><title>Weights from hidden2 to output\n output/kernel has shape (30, 10)\n output/bias has shape (10,)</title></line><rect x=\"74.0\" y=\"164\" width=\"202\" height=\"52\" style=\"fill:none;stroke:black;stroke-width:2\"/><image id=\"picture-dashboard-MNIST_MLP-780603_hidden2-rotated_7\" class=\"picture-dashboard-MNIST_MLP-780603_hidden2-rotated\" x=\"75.0\" y=\"165\" height=\"50\" width=\"200\" preserveAspectRatio=\"none\" href=\"data:image/gif;base64,R0lGODdhHgABAIcAAP38/QQE9nl5/2lp/5mZ/wAAtu3t/8XF/0VF/wAA1R0d/wAAAAAAAAAAAAAAAAAAAAAAAAAAAAAAAAAAAAAAAAAAAAAAAAAAAAAAAAAAAAAAAAAAAAAAAAAAAAAAAAAAAAAAAAAAAAAAAAAAAAAAAAAAAAAAAAAAAAAAAAAAAAAAAAAAAAAAAAAAAAAAAAAAAAAAAAAAAAAAAAAAAAAAAAAAAAAAAAAAAAAAAAAAAAAAAAAAAAAAAAAAAAAAAAAAAAAAAAAAAAAAAAAAAAAAAAAAAAAAAAAAAAAAAAAAAAAAAAAAAAAAAAAAAAAAAAAAAAAAAAAAAAAAAAAAAAAAAAAAAAAAAAAAAAAAAAAAAAAAAAAAAAAAAAAAAAAAAAAAAAAAAAAAAAAAAAAAAAAAAAAAAAAAAAAAAAAAAAAAAAAAAAAAAAAAAAAAAAAAAAAAAAAAAAAAAAAAAAAAAAAAAAAAAAAAAAAAAAAAAAAAAAAAAAAAAAAAAAAAAAAAAAAAAAAAAAAAAAAAAAAAAAAAAAAAAAAAAAAAAAAAAAAAAAAAAAAAAAAAAAAAAAAAAAAAAAAAAAAAAAAAAAAAAAAAAAAAAAAAAAAAAAAAAAAAAAAAAAAAAAAAAAAAAAAAAAAAAAAAAAAAAAAAAAAAAAAAAAAAAAAAAAAAAAAAAAAAAAAAAAAAAAAAAAAAAAAAAAAAAAAAAAAAAAAAAAAAAAAAAAAAAAAAAAAAAAAAAAAAAAAAAAAAAAAAAAAAAAAAAAAAAAAAAAAAAAAAAAAAAAAAAAAAAAAAAAAAAAAAAAAAAAAAAAAAAAAAAAAAAAAAAAAAAAAAAAAAAAAAAAAAAAAAAAAAAAAAAAAAAAAAAAAAAAAAAAAAAAAAAAAAAAAAAAAAAAAAAAAAAAAAAAAAAAAAAAAAAAAAAAAAAAAAAAAAAAAAAAAAAAAAAAAAAAAAAAAAAAAAAAAAAAAAAAAAAAAAAAAAAAAAAAAAAAAAAAAAAAAAAAAAAAAAAAAAAAAAAAAAACwAAAAAHgABAAAIIQAVCBgAoKAAAAgHADgAoAACAAACBABAAIBFAgAAGEgQEAA7\"><title>Layer: hidden2 (hidden)\n output range: (-1.0, 1.0)\n shape = (30,)\n Keras class = Dense\n activation = relu</title></image><text x=\"288.0\" y=\"192.0\" font-family=\"monospace\" font-size=\"12\" text-anchor=\"middle\" fill=\"black\" alignment-baseline=\"central\"  transform=\"rotate(-90 288.0 192.0) translate(2)\" >hidden2</text><line x1=\"175.0\" y1=\"244\" x2=\"175.0\" y2=\"217\" stroke=\"black\" stroke-width=\"2\" marker-end=\"url(#arrow)\"><title>Weights from hidden1 to hidden2\n hidden2/kernel has shape (30, 30)\n hidden2/bias has shape (30,)</title></line><rect x=\"74.0\" y=\"244\" width=\"202\" height=\"52\" style=\"fill:none;stroke:black;stroke-width:2\"/><image id=\"picture-dashboard-MNIST_MLP-780603_hidden1-rotated_8\" class=\"picture-dashboard-MNIST_MLP-780603_hidden1-rotated\" x=\"75.0\" y=\"245\" height=\"50\" width=\"200\" preserveAspectRatio=\"none\" href=\"data:image/gif;base64,R0lGODdhHgABAIcAAP/9/crK/9vb/wAA7QAA0qGh/zAw/1VV/wAATAAApnV1/xgY/wAAjL29/2Fh/wAAAAAAAAAAAAAAAAAAAAAAAAAAAAAAAAAAAAAAAAAAAAAAAAAAAAAAAAAAAAAAAAAAAAAAAAAAAAAAAAAAAAAAAAAAAAAAAAAAAAAAAAAAAAAAAAAAAAAAAAAAAAAAAAAAAAAAAAAAAAAAAAAAAAAAAAAAAAAAAAAAAAAAAAAAAAAAAAAAAAAAAAAAAAAAAAAAAAAAAAAAAAAAAAAAAAAAAAAAAAAAAAAAAAAAAAAAAAAAAAAAAAAAAAAAAAAAAAAAAAAAAAAAAAAAAAAAAAAAAAAAAAAAAAAAAAAAAAAAAAAAAAAAAAAAAAAAAAAAAAAAAAAAAAAAAAAAAAAAAAAAAAAAAAAAAAAAAAAAAAAAAAAAAAAAAAAAAAAAAAAAAAAAAAAAAAAAAAAAAAAAAAAAAAAAAAAAAAAAAAAAAAAAAAAAAAAAAAAAAAAAAAAAAAAAAAAAAAAAAAAAAAAAAAAAAAAAAAAAAAAAAAAAAAAAAAAAAAAAAAAAAAAAAAAAAAAAAAAAAAAAAAAAAAAAAAAAAAAAAAAAAAAAAAAAAAAAAAAAAAAAAAAAAAAAAAAAAAAAAAAAAAAAAAAAAAAAAAAAAAAAAAAAAAAAAAAAAAAAAAAAAAAAAAAAAAAAAAAAAAAAAAAAAAAAAAAAAAAAAAAAAAAAAAAAAAAAAAAAAAAAAAAAAAAAAAAAAAAAAAAAAAAAAAAAAAAAAAAAAAAAAAAAAAAAAAAAAAAAAAAAAAAAAAAAAAAAAAAAAAAAAAAAAAAAAAAAAAAAAAAAAAAAAAAAAAAAAAAAAAAAAAAAAAAAAAAAAAAAAAAAAAAAAAAAAAAAAAAAAAAAAAAAAAAAAAAAAAAAAAAAAAAAAAAAAAAAAAAAAAAAAAAAAAAAAAAAAAAAAAAAAAAAAAAAAAAAAAAAAAAAAAAAAAAAAAAAAAAAAAAAAAAAAAAAAAAAAAAAAAAAACwAAAAAHgABAAAIIwARBBgAoKABAAACAGAwIEABAgAACFgAQEGABAIONHBAAEBAADs=\"><title>Layer: hidden1 (hidden)\n output range: (-1.0, 1.0)\n shape = (30,)\n Keras class = Dense\n activation = relu</title></image><text x=\"288.0\" y=\"272.0\" font-family=\"monospace\" font-size=\"12\" text-anchor=\"middle\" fill=\"black\" alignment-baseline=\"central\"  transform=\"rotate(-90 288.0 272.0) translate(2)\" >hidden1</text><line x1=\"175.0\" y1=\"324\" x2=\"175.0\" y2=\"297\" stroke=\"black\" stroke-width=\"2\" marker-end=\"url(#arrow)\"><title>Weights from flat_input to hidden1\n hidden1/kernel has shape (784, 30)\n hidden1/bias has shape (30,)</title></line><rect x=\"74.0\" y=\"324\" width=\"202\" height=\"52\" style=\"fill:none;stroke:black;stroke-width:2\"/><image id=\"picture-dashboard-MNIST_MLP-780603_flat_input-rotated_9\" class=\"picture-dashboard-MNIST_MLP-780603_flat_input-rotated\" x=\"75.0\" y=\"325\" height=\"50\" width=\"200\" preserveAspectRatio=\"none\" href=\"data:image/gif;base64,R0lGODdhEAMBAIcAAAAAAPz8/NbW1nh4eBYWFujo6IyMjDk5OaqqqmFhYbi4uMrKykVFRSkpKVVVVZeXlwAAAAAAAAAAAAAAAAAAAAAAAAAAAAAAAAAAAAAAAAAAAAAAAAAAAAAAAAAAAAAAAAAAAAAAAAAAAAAAAAAAAAAAAAAAAAAAAAAAAAAAAAAAAAAAAAAAAAAAAAAAAAAAAAAAAAAAAAAAAAAAAAAAAAAAAAAAAAAAAAAAAAAAAAAAAAAAAAAAAAAAAAAAAAAAAAAAAAAAAAAAAAAAAAAAAAAAAAAAAAAAAAAAAAAAAAAAAAAAAAAAAAAAAAAAAAAAAAAAAAAAAAAAAAAAAAAAAAAAAAAAAAAAAAAAAAAAAAAAAAAAAAAAAAAAAAAAAAAAAAAAAAAAAAAAAAAAAAAAAAAAAAAAAAAAAAAAAAAAAAAAAAAAAAAAAAAAAAAAAAAAAAAAAAAAAAAAAAAAAAAAAAAAAAAAAAAAAAAAAAAAAAAAAAAAAAAAAAAAAAAAAAAAAAAAAAAAAAAAAAAAAAAAAAAAAAAAAAAAAAAAAAAAAAAAAAAAAAAAAAAAAAAAAAAAAAAAAAAAAAAAAAAAAAAAAAAAAAAAAAAAAAAAAAAAAAAAAAAAAAAAAAAAAAAAAAAAAAAAAAAAAAAAAAAAAAAAAAAAAAAAAAAAAAAAAAAAAAAAAAAAAAAAAAAAAAAAAAAAAAAAAAAAAAAAAAAAAAAAAAAAAAAAAAAAAAAAAAAAAAAAAAAAAAAAAAAAAAAAAAAAAAAAAAAAAAAAAAAAAAAAAAAAAAAAAAAAAAAAAAAAAAAAAAAAAAAAAAAAAAAAAAAAAAAAAAAAAAAAAAAAAAAAAAAAAAAAAAAAAAAAAAAAAAAAAAAAAAAAAAAAAAAAAAAAAAAAAAAAAAAAAAAAAAAAAAAAAAAAAAAAAAAAAAAAAAAAAAAAAAAAAAAAAAAAAAAAAAAAAAAAAAAAAAAAAAAAAAAAAAAAAAAAAAAAAAAAAAAAAAAAAAAAAAAAAAAAAAAAACwAAAAAEAMBAAAI/wABCBxIsKDBgwgTKlzIsKHDhxAXHhhAkWKBABgLNADAsaPHjwgCiBxJMsADAChTqlwZIIAABQIMyCwQoGYCADhz6txJwAGAnz8HBBgqAIDRo0iTKgVAQECAAAgIAJhKtarVqwwKBCjAAIDXr2DDigVAYEGAAgcAqF3Ltq1btQsCFDgAoK7du3jz2hUQQAGAv4ADCx4cWECAAgkIAFjMuLHjx4sVBJi8QEGCAwQAaN7MuTNnAgMCiB4tQAECAgBSq17NWvUBBggWFAhAO4AABwBy697Nu/cBBwkKBAgwAIDx48iTKzd+QECAAAMASJ9Ovbp1AgYCaBfQAID37+DDf0kncABBgPMPEgBYz759ewPw4SMIQD/AgwYA8uvfv59BAIABBA4MIGBAAwAJFS5kCOBAAIgBBAxwAMDiRYwZNW7k2NHjR5AhOQYEADs=\"><title>Layer: flat_input (hidden)\n output range: (0.0, 1.0)\n Keras class = Flatten</title></image><text x=\"288.0\" y=\"352.0\" font-family=\"monospace\" font-size=\"12\" text-anchor=\"middle\" fill=\"black\" alignment-baseline=\"central\"  transform=\"rotate(-90 288.0 352.0) translate(2)\" >flat_input</text><line x1=\"175.0\" y1=\"404\" x2=\"175.0\" y2=\"377\" stroke=\"black\" stroke-width=\"2\" marker-end=\"url(#arrow)\"><title>Weights from input to flat_input</title></line><rect x=\"74.0\" y=\"404\" width=\"202\" height=\"202\" style=\"fill:none;stroke:black;stroke-width:2\"/><image id=\"picture-dashboard-MNIST_MLP-780603_input-rotated_10\" class=\"picture-dashboard-MNIST_MLP-780603_input-rotated\" x=\"75.0\" y=\"405\" height=\"200\" width=\"200\" preserveAspectRatio=\"none\" href=\"data:image/gif;base64,R0lGODdhHAAcAIcAAAAAAPz8/NbW1nh4eBYWFujo6IyMjDk5OaqqqmFhYbi4uMrKykVFRSkpKVVVVZeXlwAAAAAAAAAAAAAAAAAAAAAAAAAAAAAAAAAAAAAAAAAAAAAAAAAAAAAAAAAAAAAAAAAAAAAAAAAAAAAAAAAAAAAAAAAAAAAAAAAAAAAAAAAAAAAAAAAAAAAAAAAAAAAAAAAAAAAAAAAAAAAAAAAAAAAAAAAAAAAAAAAAAAAAAAAAAAAAAAAAAAAAAAAAAAAAAAAAAAAAAAAAAAAAAAAAAAAAAAAAAAAAAAAAAAAAAAAAAAAAAAAAAAAAAAAAAAAAAAAAAAAAAAAAAAAAAAAAAAAAAAAAAAAAAAAAAAAAAAAAAAAAAAAAAAAAAAAAAAAAAAAAAAAAAAAAAAAAAAAAAAAAAAAAAAAAAAAAAAAAAAAAAAAAAAAAAAAAAAAAAAAAAAAAAAAAAAAAAAAAAAAAAAAAAAAAAAAAAAAAAAAAAAAAAAAAAAAAAAAAAAAAAAAAAAAAAAAAAAAAAAAAAAAAAAAAAAAAAAAAAAAAAAAAAAAAAAAAAAAAAAAAAAAAAAAAAAAAAAAAAAAAAAAAAAAAAAAAAAAAAAAAAAAAAAAAAAAAAAAAAAAAAAAAAAAAAAAAAAAAAAAAAAAAAAAAAAAAAAAAAAAAAAAAAAAAAAAAAAAAAAAAAAAAAAAAAAAAAAAAAAAAAAAAAAAAAAAAAAAAAAAAAAAAAAAAAAAAAAAAAAAAAAAAAAAAAAAAAAAAAAAAAAAAAAAAAAAAAAAAAAAAAAAAAAAAAAAAAAAAAAAAAAAAAAAAAAAAAAAAAAAAAAAAAAAAAAAAAAAAAAAAAAAAAAAAAAAAAAAAAAAAAAAAAAAAAAAAAAAAAAAAAAAAAAAAAAAAAAAAAAAAAAAAAAAAAAAAAAAAAAAAAAAAAAAAAAAAAAAAAAAAAAAAAAAAAAAAAAAAAAAAAAAAAAAAAAAAAAAAAAAAAAAAAAAAAAAAAAAAAAAAAAAAAAAAAAAAAAAAACwAAAAAHAAcAEAI/wABCBxIsKDBgwgRKghQQECABwAiSpwIYEAAAwAAMFgQoGOAAQBChjQQYACAkyhTqlzJsqXLly4DyJTJAIBNAAoCLADAE0GAAQCCChV6IEAABwCSKl2q1ECAAACiSp1KtarVq1ijEhAQIIAAAGDDigVbIEAAAQQAqFV7IEAABwAMBHgAoK7duwUCGBggIECBAwASBAjAAIBhAgECAFjMmPGAAAoASJ5MmbKBAAEAaN7MubPnzgwOABhNurTp06hTq17NurVr1w4GDGgAoLbt27hz10YQoHeABACCCx8OoMGDBACSKwdAQECABAcCBGgAoLr16wGyB0AAoHv3BAEKHIMAQCBAgAYA0qtXHyBAgQABChwAAIDAggAIAOg/EEAAAIAABA4UOCCAAQAECgQooKBAgAAHAEwEgCCAAwAZNWYcEEAAAJAEFggQoIAAAJQoDQQQAMDlS5cDAggAUNPmzZsGAgQA0NOnTwQBCAAgWtSo0QABACxl2tTpU6hRpU6lWlVqQAA7\"><title>Layer: input (input)\n output range: (0.0, 1.0)\n shape = (28, 28, 1)\n Keras class = Input</title></image><text x=\"288.0\" y=\"507.0\" font-family=\"monospace\" font-size=\"12\" text-anchor=\"middle\" fill=\"black\" alignment-baseline=\"central\"  transform=\"rotate(-90 288.0 507.0) translate(2)\" >input</text><text x=\"88.0\" y=\"390\" font-family=\"monospace\" font-size=\"12\" text-anchor=\"middle\" fill=\"black\" alignment-baseline=\"central\"  transform=\"rotate(-90 88.0 390) translate(2)\" >1</text><text x=\"273.0\" y=\"620\" font-family=\"monospace\" font-size=\"12\" text-anchor=\"middle\" fill=\"black\" alignment-baseline=\"central\"  transform=\"rotate(-90 273.0 620) translate(2)\" >0</text><text x=\"18\" y=\"315.0\" font-family=\"monospace\" font-size=\"15\" text-anchor=\"middle\" fill=\"black\" alignment-baseline=\"central\"  transform=\"rotate(-90 18 315.0) translate(2)\" >MNIST_MLP</text></svg></g></svg></p>"
      }
     },
     "f47c563ea8894ea7b9684e58742b73d2": {
      "model_module": "@jupyter-widgets/base",
      "model_module_version": "1.0.0",
      "model_name": "LayoutModel",
      "state": {
       "width": "100%"
      }
     },
     "f4d83535e5374fe6b1f94c8776157479": {
      "model_module": "@jupyter-widgets/controls",
      "model_module_version": "1.1.0",
      "model_name": "ButtonModel",
      "state": {
       "icon": "backward",
       "layout": "IPY_MODEL_7b53242a66704d168840d150c5c29e66",
       "style": "IPY_MODEL_bec5ad78ee394951b237118b6c188bf4"
      }
     },
     "f4f3fdaabb5b4cabb37d6f126d5dc9b4": {
      "model_module": "@jupyter-widgets/controls",
      "model_module_version": "1.1.0",
      "model_name": "HTMLModel",
      "state": {
       "layout": "IPY_MODEL_b4e4b33405a54cac8997dd385ffe2480",
       "style": "IPY_MODEL_fa05ba74b9aa48f4b006d5992449eaac",
       "value": "<img src=\"data:image/gif;base64,R0lGODdhLAEZAIcAAPIBAY8AANAAAK8AAAIC8wAAsAAAbwAA0AAAkPr2+vPn8wAAVkdH/7a2///X1/+YmP+Ghv+2tpaW/yYm//9nZ/8mJv9WVnh4//84OP8VFdfX/2Zm//92dlhY//9GRjU1///Fxf+mpoaG/xYW/8jI/6Wl/38AAAAAAAAAAAAAAAAAAAAAAAAAAAAAAAAAAAAAAAAAAAAAAAAAAAAAAAAAAAAAAAAAAAAAAAAAAAAAAAAAAAAAAAAAAAAAAAAAAAAAAAAAAAAAAAAAAAAAAAAAAAAAAAAAAAAAAAAAAAAAAAAAAAAAAAAAAAAAAAAAAAAAAAAAAAAAAAAAAAAAAAAAAAAAAAAAAAAAAAAAAAAAAAAAAAAAAAAAAAAAAAAAAAAAAAAAAAAAAAAAAAAAAAAAAAAAAAAAAAAAAAAAAAAAAAAAAAAAAAAAAAAAAAAAAAAAAAAAAAAAAAAAAAAAAAAAAAAAAAAAAAAAAAAAAAAAAAAAAAAAAAAAAAAAAAAAAAAAAAAAAAAAAAAAAAAAAAAAAAAAAAAAAAAAAAAAAAAAAAAAAAAAAAAAAAAAAAAAAAAAAAAAAAAAAAAAAAAAAAAAAAAAAAAAAAAAAAAAAAAAAAAAAAAAAAAAAAAAAAAAAAAAAAAAAAAAAAAAAAAAAAAAAAAAAAAAAAAAAAAAAAAAAAAAAAAAAAAAAAAAAAAAAAAAAAAAAAAAAAAAAAAAAAAAAAAAAAAAAAAAAAAAAAAAAAAAAAAAAAAAAAAAAAAAAAAAAAAAAAAAAAAAAAAAAAAAAAAAAAAAAAAAAAAAAAAAAAAAAAAAAAAAAAAAAAAAAAAAAAAAAAAAAAAAAAAAAAAAAAAAAAAAAAAAAAAAAAAAAAAAAAAAAAAAAAAAAAAAAAAAAAAAAAAAAAAAAAAAAAAAAAAAAAAAAAAAAAAAAAAAAAAAAAAAAAAAAAAAAAAAAAAAAAAAAAAAAAAAAAAAAAAAAAAAAAAAAAAAAAAAAAAAAAAAAAAAAAAAAAAAAAAAAAAAACwAAAAALAEZAEAI/wBNBBhIsKDBggMSKlzIcKGAhxAjSowIoKLFixgzAsjAkWOFjx8xiBTpoaQHCyhRUli5koNLDhBixnxAk2aImyEi6NQJoicIB0CDKhiqIIHRo0gVKFWgoWlTElBJNJhKtYTVEhKyZhXBVcSFr183iBXboWwHBmjTflj7YYJbtyPijiBAt67du3UP6N3Ld2+Bv4ADB0ZAuLDhwgYSK168eIHjxwtMBJhMubLlygMya97MebOAz6BDiw4NoLTp06hTA8jAmnWF168xyJbtobYHC7hxU9i9m4NvDhCCB39AnHiI4yEiKFcOojkIB9CjK5iuIIH169gVaFegoXt3EuBJNP8YT76E+RIS0qcXwV7EhffvN8iX36F+Bwb483/Y/2GCf4ATJowgOILAQYQJFSI80NDhQ4cFJE6kSBHBRYwZMRrg2NGjxwUhRS4wEcDkSZQpUQ5g2dLlS5cCZM6kWZMmAJw5de7kCSDDz58VhArFULSoB6QeLCxdSsGpUw5ROUCgSvXB1ashtIaI0LUrCLAgHIwlq8CsggRp1a5V0FaBBrhwScwl0cDu3RJ5S0jgy1fEXxEXBAveULhwB8QdGCxm/MHxhwmRI4+gPILAZcyZNWM+0NnzZ88FRI8mTRrBadSpURtg3dq16wWxZS8wEcD2bdy5cQ/g3dv3b98ChA8nXpz/OADkyZUvZw4gw/PnFaRLx1C9ugfsHixs307Bu3cO4TlAIE/+wfnzIdSHiNC+PQj4IBzMp6/AvoIE+fXvV9BfAUANAgWSKEiiAcKEJRaWkODQoYiIIi5QpLjh4sUOGjsw6OjxA8gPE0aOHGFyBIGUKleyVHngJcyYMAvQrGnTJoKcOnfqNODzJ1CgC4YSXWAiANKkSpcqHeD0KdSoUAVQrWr1qlUAWrdy7eoVQIawYSuQJYvh7FkPaj1YaNuWAly4HOZygGDX7oO8eUPwDRHh718QgkE4KGxYAWIFCRYzbqzgsQINkiWTqEyiAebMJTaXkODZs4jQIi6QJr3h9OkO/6o7MGjt+gPsDxNmzx5hewSB3Lp389Z94Dfw4MALEC9u3DiC5MqXKzfg/Dl06AumU19gIgD27Nq3ax/g/Tv48OAFkC9v/rx5AOrXs2/vHkCG+PEr0KeP4f59D/o9WOjfHyAFgQI5FOQAASHCBwsXhnAYIkLEiCAognBwEaMCjQoSdPT4UUFIBRpIkiRxkkQDlStLtCwhASZMETNFXLBpc0POnB14dmDwE+gHoR8mFC06AukIAkuZNnXK9EBUqVOlFrB6FStWBFu5duVqAGxYsWIXlDW7wEQAtWvZtmU7AG5cuXPlCrB7F29evAD49vX7FzCADIMHVzBsGEPixB4Ye/+w8PgxBcmSOVTmAAEz5gebN4fwHCJC6NAgSINwcBq1AtUKErR2/VpBbAUaaNMmcZtEA927S/QuIQE4cBHDRVwwbnxD8uQdmHdg8Bz6B+kfJlSvPgL7CALbuXf3zv1AePHjxRcwfx49egTr2bdnbwB+fPnyF9S3v8BEAP37+ffnD3CAwIEECxIUgDChwoUKATh8CDGiRAAZKlasgBEjho0bPXj0YCFkSAokSXI4yQGCSpUPWrYMATNEhJkzQdgE4SCnTgU8FST4CTSogqEKNBg1SiIpiQZMm5Z4WkKCVKkiqoq4gBXrhq1bO3jtwCCs2A9kP0w4e3aE2hEE2rp9C9f/7YG5dOvSLYA3r169CPr6/evXgODBhAkvOIx4gYkAjBs7fux4gOTJlCtTFoA5s+bNmgF4/gw6tGgAGUqXroAaNYbVqz249mAhdmwKtGlzuM0Bgm7dD3r3DgE8RIThw0EYB+EguXIFzBUkeA49uoLpCjRYt04iO4kG3LuX+F5CgnjxIsqLuIAe/Yb16zu478AgvvwP9D9MuH9/hP4RBPr7B0hA4ECCAg8cRJgQYQGGDR06RBBR4kSJBixexIhxwUaOC0wEABlS5EiRA0yeRJkSpQCWLV2+dAlA5kyaNW0CyJAzZwWePDH8/OlBqAcLRYtSQIqUw1IOEJw6fRA1agiq/yEiXL0KQisIB129KgCrIMFYsmUVnFWgQa1aEm1JNIAbt8TcEhLs2hWRV8QFvnw3/P3bQXAHBoUNf0D8YcLixSMcjyAQWfJkypIPXMacGXMBzp09e0YQWvRo0QZMn0aNesFq1gtMBIAdW/Zs2QNs38adG7cA3r19//YNQPhw4sWNA8iQPHkF5swxPH/uQboHC9WrU8COncN2DhC8e38QPnwI8iEinD8PQj0IB+3dK4CvIMF8+vUV3FegQb9+Ev1JAGwgcGCJgiUkIEQoYqGICw4dbogYsQPFDgwuYvyg8cOEjh1HgBxBYCTJkiZJHkipcqXKAi5fwoSJYCbNmjQN4P/MqVPngp4+F5gIIHQo0aJEByBNqnSpUgFOn0KNChUA1apWr2IFkGHr1gpevWIIG9YDWQ8Wzp6loFYth7YcIMCF+2Du3BB2Q0TImxcEXxAO/gJWIFhBgsKGDytIrEADY8YkHpNoIHlyicolJGDGLGKziAuePW8IHboD6Q4MTqP+oPrDhNatR8AeQWA27dq2aR/IrXu37gK+fwMHjmA48eLEDSBPrlz5gubOF5gIIH069erUB2DPrn27dgHev4MPDx4A+fLmz6MHkGH9+gru3WOIH98DfQ8W7t+noF8/h/4cAEIQKPBBwYIhEIaIsHAhCIcgHESUqICiggQXMWZUsFH/gQaPHkmEJNGAZMkSJ0tIUKlSREsRF2DC3DBzZgebHRjk1PmB54cJP3+OEDqCQFGjR5EaPbCUaVOmBaBGlSoVQVWrV60a0LqVK9cFX8EuMBGAbFmzZ80OULuWbVu2AuDGlTtXLgC7d/Hm1QsgQ9++FQADxjB4sAfDHiwkTkyBMWMOjzlAkCz5QeXKITCHiLB5MwjPIByEFq2AtIIEp1GnVrBagQbXrknEJtGAdu0St0tI0K1bRG8RF4AD3zB8eAfjHRgkV/6B+YcJz5+PkD6CQHXr17FbP7Cde3fuBcCHFy8eQXnz580bUL+ePfsF7+EvMBGAfn379+0P0L+ff3/+/wAFCBxIsCBBAAgTKlzIEECGhw8rSJSIoWJFDxg9WNi4kYJHjxxCcoBAkuSDkydDqAwRoWVLEDBBOJhJU4FNBQly6typoKcCDUCBkhhKooHRoyWSlpDAlKmIpyIuSJW6oWrVDlg7MNjK9YPXDxPChh1BdgSBs2jTqkV7oK3bt24LyJ1Lly6Cu3jz4jXAt69fvwsCC15gIoDhw4gTIx7AuLHjx44FSJ5MuTJlAJgza97MGUCGz58riBaNoXRpD6g9WFi9moJr1xxic4BAm/aD27dD6A4RoXdvEMBBOBhOXIFxBQmSK1+uoLkCDdChk5hOooH16yWyl5DAnbuI7yIuiP8Xv6F8+Q7oOzBYz/6D+w8T4scfQX8Egfv48+vHf6C/f4AHBA48UMDgQYQIESxk2JChAYgRJUpcUNHiAhMBNG7k2JHjAJAhRY4UKcDkSZQpUQJg2dLlS5gAMsycWcGmTQw5c3rg6cHCz58UhArlUJQDBKRIHyxdGsJpiAhRo4KgCsLBVawKtCpI0NXrVwVhFWggS5bEWRIN1K4t0baEBLhwRcwVccGu3Q1583bg24HBX8AfBH+YULjwCMQjCCxm3Ngx4wORJU+WXMDyZcyYEWzm3JmzAdChRYteUNr0AhMBVK9m3Zr1ANixZc+WLcD2bdy5cQPg3dv3b+AAMgwfXsH/uHEMyZN7YO7BwvPnFKRL51CdAwTs2B9s3x7Ce4gI4cODIA/CwXn0CtQrSNDe/XsF8RVooE+fxH0SDfTvL9G/BEAJAgWKKCjiAkKEGxYu7OCwA4OIEj9Q/DDh4sURGkcQ6OjxI0iPB0aSLEmyAMqUKlUiaOnypUsDMmfSpLngJs4FJgLw7Onzp88BQocSLUpUANKkSpcqBeD0KdSoUgFkqFq1AlasGLZu9eDVg4WwYSmQJcvhLAcIatU+aNs2BNwQEebOBWEXhIO8ehXwVZDgL+DACgYr0GDYMInEJBowblzicQkJkiWLqCziAmbMGzZv7uC5A4PQoj+Q/jDh9OkR/6pHEGjt+jVs1wdm065NuwDu3Lp1I+jt+7dvA8KHEye+4DjyBSYCMG/u/LnzAdKnU69OXQD27Nq3awfg/Tv48OIBZChfvgJ69BjWr/fg3oOF+PEp0KfP4T4HCPr1P+jfH2AIgSEiFCwIAiEIBwsZKnCoIEFEiRMVVFSgASNGEhtJNPD4sUTIEhJIkhRxUsQFlSo3tGzZAWYHBjNpfrD5YULOnCN4jiDwE2hQoUAPFDV61GgBpUuZMkXwFGpUqAaoVrVqdUFWrQtMBPD6FWxYsAPIljV71qwAtWvZtmULAG5cuXPpAshw924FvXox9O3rAbAHC4MHUzBsmENiDhAYM/9+8PhxCMkhIlSuDAIzCAebOSvwrCBBaNGjFZRWoAE1ahKrSTRw/bpE7BISaNMWcVvEBd26N/Tu3QF4BwbDiX8w/mFC8uQjmI8g8Bx6dOnQD1S3ft16Ae3buXNH8B18ePAGyJc3b35BevULTARw/x5+fPgD6Ne3f9++AP37+ffnDxCAwIEECxoEkCFhwgoMGWJ4+NCDRA8WKlakgBEjh40cIHj0+CBkyBAkQ0Q4eRKEShAOWrpUAFNBgpk0ayq4qUCDTp0kepJoADRoiaElJBg1KiKpiAtMmW54+rSD1A4Mqlr9gPXDhK1bR3gdQSCs2LFkxR44izYt2gJs27p1iyD/rty5cg3YvYsX74K9fBeYCAA4sODBggcYPow4MWIBjBs7fuwYgOTJlCtbBpAhc+YKnDlj+PzZg2gPFkqXpoAaNYfVHCC4dv0gduwQtENEuH0bhG4QDnr7VgBcQYLhxIsrOK5Ag3LlJJqTaAA9eonpJSRYty4iu4gL3Llv+P69g/gODMqb/4D+w4T160e4H0Egvvz59OUfuI8/P/4C/Pv7B1hAYAEEBQ0eNGhA4UKGDBc8hLjARACKFS1etDhA40aOHTkKABlS5EiRAEyeRJlSJYAMLVtWgAkTw8yZHmx6sJAzJwWePDn85ABBqNAHRYuGQBoiwtKlIJyCcBBVqgKq+woSXMWaVcFWBRq8eiURlkQDsmVLnC0hQa1aEW1FXIALd8PcuR3sdmCQV+8Hvh8m/P07QvAIAoUNH0Zs+MBixo0ZF4AcWbJkBJUtX7ZsQPNmzpwXfAa9wEQA0qVNnzY9QPVq1q1ZC4AdW/Zs2QBs38adWzeADL17VwAOHMPw4R6Me7CQPDkF5sw5POcAQbr0B9Wrh8AeIsL27SC8g3AQXrwC8goSnEefXsF6BRrcuycRn0QD+vVL3C8hQb9+Ef1FALwgUOCGggU7IOzAYCHDDw4/TIgYcQTFEQQuYsyoEeOBjh4/eiwgciRJkghOokyJ0gDLli5dLogpc0FAADs=\"/>"
      }
     },
     "f518a6ae6b5540a7900a45d3aabf5027": {
      "model_module": "@jupyter-widgets/controls",
      "model_module_version": "1.1.0",
      "model_name": "IntTextModel",
      "state": {
       "description": "Feature to show:",
       "layout": "IPY_MODEL_65b7086344b2420986ef4b71459c123c",
       "step": 1,
       "style": "IPY_MODEL_857e303156d64852a871dfd70ae246b6"
      }
     },
     "f53ec044ab8748fc8f5c8017b0d9c8b3": {
      "model_module": "@jupyter-widgets/controls",
      "model_module_version": "1.1.0",
      "model_name": "ButtonModel",
      "state": {
       "icon": "fast-forward",
       "layout": "IPY_MODEL_d73276263be144eca531e6df17dc4ad1",
       "style": "IPY_MODEL_d26c01a006284d4e9dbb387f07fe21d4"
      }
     },
     "f598a6179fd3471cbe2ae5a59176d1e8": {
      "model_module": "@jupyter-widgets/base",
      "model_module_version": "1.0.0",
      "model_name": "LayoutModel",
      "state": {}
     },
     "f7ccc9dc6ed144a7abfc04549d021d5f": {
      "model_module": "@jupyter-widgets/controls",
      "model_module_version": "1.1.0",
      "model_name": "SelectModel",
      "state": {
       "_options_labels": [
        "Test",
        "Train"
       ],
       "description": "Dataset:",
       "index": 1,
       "layout": "IPY_MODEL_7c5b756f1be84efb96aecb6e0307b79d",
       "rows": 1,
       "style": "IPY_MODEL_af8de4003b8f4a16a01da9f877db982c"
      }
     },
     "f95521f2a2d84729850a8dafc5d8859e": {
      "model_module": "@jupyter-widgets/controls",
      "model_module_version": "1.1.0",
      "model_name": "HBoxModel",
      "state": {
       "children": [
        "IPY_MODEL_88bd71bae4734b0cab29a17c11968786",
        "IPY_MODEL_9d88ec5cc4314ea1b9b280018b705be3"
       ],
       "layout": "IPY_MODEL_983a7463a548461e8f86634a6dd9e308"
      }
     },
     "f98fd285e0e4452383f59230be38561a": {
      "model_module": "@jupyter-widgets/base",
      "model_module_version": "1.0.0",
      "model_name": "LayoutModel",
      "state": {}
     },
     "fa05ba74b9aa48f4b006d5992449eaac": {
      "model_module": "@jupyter-widgets/controls",
      "model_module_version": "1.1.0",
      "model_name": "DescriptionStyleModel",
      "state": {
       "description_width": ""
      }
     },
     "fa0bb10f31434abaaa3c14dd073d1987": {
      "model_module": "@jupyter-widgets/controls",
      "model_module_version": "1.1.0",
      "model_name": "DescriptionStyleModel",
      "state": {
       "description_width": "initial"
      }
     },
     "fad9d0df797444418957791fcc673c02": {
      "model_module": "@jupyter-widgets/controls",
      "model_module_version": "1.1.0",
      "model_name": "DescriptionStyleModel",
      "state": {
       "description_width": ""
      }
     },
     "fb858b79f5e747c0ba97039a7aef6980": {
      "model_module": "@jupyter-widgets/controls",
      "model_module_version": "1.1.0",
      "model_name": "LabelModel",
      "state": {
       "layout": "IPY_MODEL_3d27cc0b04624af3b05003f8542b316f",
       "style": "IPY_MODEL_1c9fe884e4ab48c68fb9de1614011849",
       "value": "of 60000"
      }
     },
     "fb96e01af2d94f16b4bd1018887cb0d3": {
      "model_module": "@jupyter-widgets/controls",
      "model_module_version": "1.1.0",
      "model_name": "DescriptionStyleModel",
      "state": {
       "description_width": ""
      }
     },
     "fb97b51ebfc041a1b6cff67876b2a48f": {
      "model_module": "@jupyter-widgets/controls",
      "model_module_version": "1.1.0",
      "model_name": "DescriptionStyleModel",
      "state": {
       "description_width": "initial"
      }
     },
     "fbee96eae8be483bb74e9ea85a172ae3": {
      "model_module": "@jupyter-widgets/base",
      "model_module_version": "1.0.0",
      "model_name": "LayoutModel",
      "state": {}
     },
     "fbf998975e8640aea3885ef920e98ca4": {
      "model_module": "@jupyter-widgets/base",
      "model_module_version": "1.0.0",
      "model_name": "LayoutModel",
      "state": {
       "width": "100%"
      }
     },
     "fc543f86a3cd45798a9807d6aa7e5a5a": {
      "model_module": "@jupyter-widgets/controls",
      "model_module_version": "1.1.0",
      "model_name": "HTMLModel",
      "state": {
       "layout": "IPY_MODEL_3a8e6a4e49ff431d9244861025b768e3",
       "style": "IPY_MODEL_d2df973d7cc14e00b2befd4cb62faadf",
       "value": "<img src=\"data:image/gif;base64,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\"/>"
      }
     },
     "fc7d9cb2629246849c5108badfa2fb92": {
      "model_module": "@jupyter-widgets/controls",
      "model_module_version": "1.1.0",
      "model_name": "DescriptionStyleModel",
      "state": {
       "description_width": "initial"
      }
     },
     "fd4cd0a52a9747db80f573a3a9326689": {
      "model_module": "@jupyter-widgets/controls",
      "model_module_version": "1.1.0",
      "model_name": "HBoxModel",
      "state": {
       "children": [
        "IPY_MODEL_aec5f6db195c458380ca40e9a68a107d",
        "IPY_MODEL_5ddcae31e92847cdbdf186d630ac9d01"
       ],
       "layout": "IPY_MODEL_9d857af9a0fd43c4b24e8848aaa3744e"
      }
     },
     "fd84e62b0c2d4d9198df457cdfe14b53": {
      "model_module": "@jupyter-widgets/base",
      "model_module_version": "1.0.0",
      "model_name": "LayoutModel",
      "state": {
       "justify_content": "center",
       "overflow_x": "auto",
       "overflow_y": "auto",
       "width": "95%"
      }
     },
     "fdb21871068442b187f5740769d04a1f": {
      "model_module": "@jupyter-widgets/controls",
      "model_module_version": "1.1.0",
      "model_name": "ButtonModel",
      "state": {
       "icon": "refresh",
       "layout": "IPY_MODEL_3a5b11bdfdae44688123bdfa5597939c",
       "style": "IPY_MODEL_18b8037038eb443d80234805bea5c09b"
      }
     },
     "fe18fa58928f41aeb1cf87733f9e0b05": {
      "model_module": "@jupyter-widgets/controls",
      "model_module_version": "1.1.0",
      "model_name": "SelectModel",
      "state": {
       "_options_labels": [
        "input",
        "flat_input",
        "hidden1",
        "hidden2",
        "output"
       ],
       "description": "Layer:",
       "index": 4,
       "layout": "IPY_MODEL_90dea0676e164d8e97f33d14d05cf477",
       "rows": 1,
       "style": "IPY_MODEL_fb96e01af2d94f16b4bd1018887cb0d3"
      }
     },
     "fe70d7272082438891eeac64e4fe1aea": {
      "model_module": "@jupyter-widgets/controls",
      "model_module_version": "1.1.0",
      "model_name": "CheckboxModel",
      "state": {
       "description": "Rotate network",
       "disabled": false,
       "layout": "IPY_MODEL_7b18a9033ea9487e84c99abb3c8af4ff",
       "style": "IPY_MODEL_7acd5ba425824457b7fffa8008a01a3b",
       "value": true
      }
     },
     "fece630e8bb3467b808ede8755529565": {
      "model_module": "@jupyter-widgets/controls",
      "model_module_version": "1.1.0",
      "model_name": "ButtonModel",
      "state": {
       "icon": "save",
       "layout": "IPY_MODEL_f28a01f405b448debb941707d311706e",
       "style": "IPY_MODEL_ef692dba5e05456c8ee97cd87f087072"
      }
     },
     "fefb773b537f47838c8cf8dbb521f7b5": {
      "model_module": "@jupyter-widgets/controls",
      "model_module_version": "1.1.0",
      "model_name": "CheckboxModel",
      "state": {
       "description": "Errors",
       "disabled": false,
       "layout": "IPY_MODEL_fbee96eae8be483bb74e9ea85a172ae3",
       "style": "IPY_MODEL_ec8860b243e14bd6ab1abf28953ef503",
       "value": false
      }
     },
     "ff9ad5735bcb43fc9c4ff892bf906f23": {
      "model_module": "@jupyter-widgets/base",
      "model_module_version": "1.0.0",
      "model_name": "LayoutModel",
      "state": {}
     },
     "ffaa9233bfa24b2dbfebdd624d85bdf1": {
      "model_module": "@jupyter-widgets/controls",
      "model_module_version": "1.1.0",
      "model_name": "SelectModel",
      "state": {
       "_options_labels": [
        "input",
        "conv2D_1",
        "maxpool1",
        "conv2D_2",
        "maxpool2",
        "flat",
        "hidden",
        "output"
       ],
       "description": "Layer:",
       "index": 7,
       "layout": "IPY_MODEL_8b3f9b602ee14648847f0b4ab624d88b",
       "rows": 1,
       "style": "IPY_MODEL_743b56773feb446ea76e314e0dd97538"
      }
     }
    },
    "version_major": 2,
    "version_minor": 0
   }
  }
 },
 "nbformat": 4,
 "nbformat_minor": 2
}
