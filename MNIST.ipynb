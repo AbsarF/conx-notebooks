{
 "cells": [
  {
   "cell_type": "markdown",
   "metadata": {},
   "source": [
    "# The MNIST Dataset\n",
    "\n",
    "In this notebook, we will create a neural network to recognize handwritten digits from the famous MNIST dataset.\n",
    "\n",
    "We will experiment with two different networks for this task. The first one will be a *multi-layer perceptron* (MLP), which is a standard type of feedforward neural network with fully-connected layers of weights, and the second will be a *convolutional neural network* (CNN), which takes advantage of the inherently two-dimensional spatial geometry of the input images.\n",
    "\n",
    "Let's begin by reading in the MNIST dataset and printing a short description of its contents."
   ]
  },
  {
   "cell_type": "code",
   "execution_count": 2,
   "metadata": {},
   "outputs": [
    {
     "data": {
      "text/markdown": [
       "**Dataset**: MNIST\n",
       "\n",
       "\n",
       "Original source: http://yann.lecun.com/exdb/mnist/\n",
       "\n",
       "The MNIST dataset contains 70,000 images of handwritten digits (zero\n",
       "to nine) that have been size-normalized and centered in a square grid\n",
       "of pixels.  Each image is a 28 × 28 × 1 array of floating-point numbers\n",
       "representing grayscale intensities ranging from 0 (black) to 1\n",
       "(white).  The target data consists of one-hot binary vectors of size\n",
       "10, corresponding to the digit classification categories zero through\n",
       "nine.  Some example MNIST images are shown below:\n",
       "\n",
       "![MNIST Images](https://github.com/Calysto/conx/raw/master/data/mnist_images.png)\n",
       "\n",
       "**Information**:\n",
       "   * name    : MNIST\n",
       "   * length  : 70000\n",
       "\n",
       "**Input Summary**:\n",
       "   * shape  : (28, 28, 1)\n",
       "   * range  : (0.0, 1.0)\n",
       "\n",
       "**Target Summary**:\n",
       "   * shape  : (10,)\n",
       "   * range  : (0.0, 1.0)\n",
       "\n"
      ],
      "text/plain": [
       "**Dataset**: MNIST\n",
       "\n",
       "\n",
       "Original source: http://yann.lecun.com/exdb/mnist/\n",
       "\n",
       "The MNIST dataset contains 70,000 images of handwritten digits (zero\n",
       "to nine) that have been size-normalized and centered in a square grid\n",
       "of pixels.  Each image is a 28 × 28 × 1 array of floating-point numbers\n",
       "representing grayscale intensities ranging from 0 (black) to 1\n",
       "(white).  The target data consists of one-hot binary vectors of size\n",
       "10, corresponding to the digit classification categories zero through\n",
       "nine.  Some example MNIST images are shown below:\n",
       "\n",
       "![MNIST Images](https://github.com/Calysto/conx/raw/master/data/mnist_images.png)\n",
       "\n",
       "**Information**:\n",
       "   * name    : MNIST\n",
       "   * length  : 70000\n",
       "\n",
       "**Input Summary**:\n",
       "   * shape  : (28, 28, 1)\n",
       "   * range  : (0.0, 1.0)\n",
       "\n",
       "**Target Summary**:\n",
       "   * shape  : (10,)\n",
       "   * range  : (0.0, 1.0)\n"
      ]
     },
     "metadata": {},
     "output_type": "display_data"
    }
   ],
   "source": [
    "import conx as cx\n",
    "mnist = cx.Dataset.get('MNIST')\n",
    "mnist.info()"
   ]
  },
  {
   "cell_type": "markdown",
   "metadata": {},
   "source": [
    "We will split the 70,000 digits into a training set of 60,000 images and a testing set of 10,000 images."
   ]
  },
  {
   "cell_type": "code",
   "execution_count": 2,
   "metadata": {},
   "outputs": [
    {
     "name": "stdout",
     "output_type": "stream",
     "text": [
      "_________________________________________________________________\n",
      "MNIST:\n",
      "Pattern     Shape                 Range                         \n",
      "=================================================================\n",
      "inputs      (28, 28, 1)           (0.0, 1.0)                    \n",
      "targets     (10,)                 (0.0, 1.0)                    \n",
      "=================================================================\n",
      "Total patterns: 70000\n",
      "   Training patterns: 60000\n",
      "   Testing patterns: 10000\n",
      "_________________________________________________________________\n"
     ]
    }
   ],
   "source": [
    "mnist.split(10000)\n",
    "mnist.summary()"
   ]
  },
  {
   "cell_type": "markdown",
   "metadata": {},
   "source": [
    "The training and testing images can be referenced independently, via the dataset properties `train_inputs` and `test_inputs`. The `inputs` property refers to all 70,000 input images."
   ]
  },
  {
   "cell_type": "code",
   "execution_count": 3,
   "metadata": {},
   "outputs": [
    {
     "name": "stdout",
     "output_type": "stream",
     "text": [
      "70000 total images\n",
      "60000 images for training\n",
      "10000 images for testing\n"
     ]
    }
   ],
   "source": [
    "print(len(mnist.inputs), 'total images')\n",
    "print(len(mnist.train_inputs), 'images for training')\n",
    "print(len(mnist.test_inputs), 'images for testing')"
   ]
  },
  {
   "cell_type": "markdown",
   "metadata": {},
   "source": [
    "Let's take a look at some individual input images."
   ]
  },
  {
   "cell_type": "code",
   "execution_count": 4,
   "metadata": {},
   "outputs": [
    {
     "data": {
      "image/png": "[encoded data removed]",
      "text/plain": [
       "<matplotlib.figure.Figure at 0x1078768d0>"
      ]
     },
     "metadata": {},
     "output_type": "display_data"
    }
   ],
   "source": [
    "cx.view(mnist.train_inputs[0])  # same as mnist.inputs[0]"
   ]
  },
  {
   "cell_type": "code",
   "execution_count": 5,
   "metadata": {},
   "outputs": [
    {
     "data": {
      "image/png": "[encoded data removed]",
      "text/plain": [
       "<matplotlib.figure.Figure at 0x115bfa128>"
      ]
     },
     "metadata": {},
     "output_type": "display_data"
    }
   ],
   "source": [
    "cx.view(mnist.train_inputs[0:5])   # same as mnist.inputs[0:5]"
   ]
  },
  {
   "cell_type": "code",
   "execution_count": 6,
   "metadata": {},
   "outputs": [
    {
     "data": {
      "image/png": "[encoded data removed]",
      "text/plain": [
       "<matplotlib.figure.Figure at 0x115bea3c8>"
      ]
     },
     "metadata": {},
     "output_type": "display_data"
    }
   ],
   "source": [
    "cx.view(mnist.train_inputs[0, 2, 4])"
   ]
  },
  {
   "cell_type": "code",
   "execution_count": 7,
   "metadata": {},
   "outputs": [
    {
     "data": {
      "image/png": "[encoded data removed]",
      "text/plain": [
       "<matplotlib.figure.Figure at 0x115b1f470>"
      ]
     },
     "metadata": {},
     "output_type": "display_data"
    }
   ],
   "source": [
    "selected = [42, 77, 150, 16, 15, 0]\n",
    "cx.view(mnist.train_inputs[selected])"
   ]
  },
  {
   "cell_type": "code",
   "execution_count": 8,
   "metadata": {},
   "outputs": [
    {
     "data": {
      "image/png": "[encoded data removed]",
      "text/plain": [
       "<matplotlib.figure.Figure at 0x115bef0f0>"
      ]
     },
     "metadata": {},
     "output_type": "display_data"
    }
   ],
   "source": [
    "cx.view(mnist.test_inputs[0])"
   ]
  },
  {
   "cell_type": "code",
   "execution_count": 9,
   "metadata": {},
   "outputs": [
    {
     "data": {
      "image/png": "[encoded data removed]",
      "text/plain": [
       "<matplotlib.figure.Figure at 0x115f8a828>"
      ]
     },
     "metadata": {},
     "output_type": "display_data"
    }
   ],
   "source": [
    "cx.view(mnist.test_inputs[0:5])"
   ]
  },
  {
   "cell_type": "markdown",
   "metadata": {},
   "source": [
    "The dataset properties `train_targets`, `train_labels`, `test_targets`, and `test_labels` refer to the target data."
   ]
  },
  {
   "cell_type": "code",
   "execution_count": 10,
   "metadata": {},
   "outputs": [
    {
     "data": {
      "text/plain": [
       "['7', '2', '1', '0', '4']"
      ]
     },
     "execution_count": 10,
     "metadata": {},
     "output_type": "execute_result"
    }
   ],
   "source": [
    "mnist.test_labels[0:5]"
   ]
  },
  {
   "cell_type": "code",
   "execution_count": 11,
   "metadata": {},
   "outputs": [
    {
     "data": {
      "text/plain": [
       "[[0.0, 0.0, 0.0, 0.0, 0.0, 0.0, 0.0, 1.0, 0.0, 0.0],\n",
       " [0.0, 0.0, 1.0, 0.0, 0.0, 0.0, 0.0, 0.0, 0.0, 0.0],\n",
       " [0.0, 1.0, 0.0, 0.0, 0.0, 0.0, 0.0, 0.0, 0.0, 0.0],\n",
       " [1.0, 0.0, 0.0, 0.0, 0.0, 0.0, 0.0, 0.0, 0.0, 0.0],\n",
       " [0.0, 0.0, 0.0, 0.0, 1.0, 0.0, 0.0, 0.0, 0.0, 0.0]]"
      ]
     },
     "execution_count": 11,
     "metadata": {},
     "output_type": "execute_result"
    }
   ],
   "source": [
    "mnist.test_targets[0:5]"
   ]
  },
  {
   "cell_type": "markdown",
   "metadata": {},
   "source": [
    "As another example, we could use `test_labels` to select digits of a particular category from the testing data, and then view the first twenty, as follows:"
   ]
  },
  {
   "cell_type": "code",
   "execution_count": 12,
   "metadata": {},
   "outputs": [
    {
     "data": {
      "image/png": "[encoded data removed]",
      "text/plain": [
       "<matplotlib.figure.Figure at 0x115f51d68>"
      ]
     },
     "metadata": {},
     "output_type": "display_data"
    }
   ],
   "source": [
    "selected = [i for i in range(len(mnist.test_inputs)) if mnist.test_labels[i] == '2']\n",
    "digits = mnist.test_inputs[selected]\n",
    "cx.view(digits[:20], layout=(2,10))"
   ]
  },
  {
   "cell_type": "markdown",
   "metadata": {},
   "source": [
    "We can accomplish the same thing more directly (and efficiently) using the `select` method, together with the `slice` keyword:"
   ]
  },
  {
   "cell_type": "code",
   "execution_count": 13,
   "metadata": {},
   "outputs": [
    {
     "data": {
      "image/png": "[encoded data removed]",
      "text/plain": [
       "<matplotlib.figure.Figure at 0x115e94f60>"
      ]
     },
     "metadata": {},
     "output_type": "display_data"
    }
   ],
   "source": [
    "digits = mnist.test_inputs.select(lambda i,ds: ds.test_labels[i] == '2', slice=20)\n",
    "cx.view(digits, layout=(2,10))"
   ]
  },
  {
   "cell_type": "markdown",
   "metadata": {},
   "source": [
    "The MNIST digits are grayscale images, with each pixel represented as a single intensity value in the range 0 (black) to 1 (white). You can think of the whole image as consisting of 784 numbers arranged in a plane of 28 rows and 28 columns. For color (RGB) images, however, each pixel consists of three numbers (one for Red intensity, one for Green, and one for Blue). Therefore color images are represented as arrays of shape *rows* &times; *columns* &times; 3, where the 3 indicates the *depth* of the image. For consistency, the grayscale MNIST images are treated as images of depth 1, with shape *rows* &times; *columns* &times; 1. We can verify this by calling `cx.shape` on input image #0:"
   ]
  },
  {
   "cell_type": "code",
   "execution_count": 14,
   "metadata": {},
   "outputs": [
    {
     "data": {
      "text/plain": [
       "(28, 28, 1)"
      ]
     },
     "execution_count": 14,
     "metadata": {},
     "output_type": "execute_result"
    }
   ],
   "source": [
    "cx.shape(mnist.inputs[0])"
   ]
  },
  {
   "cell_type": "markdown",
   "metadata": {},
   "source": [
    "## A Multi-Layer Perceptron for MNIST Classification\n",
    "\n",
    "Our first network will have an input layer, two fully-connected hidden layers, and an output layer containing 10 output units (one for each possible digit category). Since this is a classification task, the output layer will use the *Softmax* function to generate a probability distribution of output values, where each value is a number in the range 0-1 representing the probability that the input image corresponds to that output unit's digit category.\n",
    "\n",
    "The input layer's shape must match that of the input data, so we  declare its shape to be <tt>(28,28,1)</tt>. We then add two densely-connected hidden layers of 30 units each, both of which use the ReLU (rectified linear) activation function. However, we cannot connect the input layer directly to the first hidden layer, because the layer shapes do not match. Instead, we must first \"flatten\" the data before feeding it into the first hidden layer. Finally, we add an output layer of 10 units that uses the *Softmax* activation function. Here is the code that builds the network:"
   ]
  },
  {
   "cell_type": "code",
   "execution_count": 15,
   "metadata": {},
   "outputs": [],
   "source": [
    "net = cx.Network(\"MNIST_MLP\")\n",
    "\n",
    "net.add(cx.Layer(\"input\", (28,28,1)),\n",
    "        cx.FlattenLayer(\"flat_input\"),\n",
    "        cx.Layer(\"hidden1\", 30, activation='relu', dropout=0.20),\n",
    "        cx.Layer(\"hidden2\", 30, activation='relu', dropout=0.20),\n",
    "        cx.Layer(\"output\", 10, activation='softmax'))\n",
    "\n",
    "# creates connections between layers in the order they were added\n",
    "net.connect()"
   ]
  },
  {
   "cell_type": "markdown",
   "metadata": {},
   "source": [
    "Notice that each hidden layer in the network includes a `dropout` setting of 20%. Dropout is a technique that helps to improve a network's ability to generalize what it has learned, by making it less sensitive to noise and to irrelevant correlations that may exist in the training data. During training, a randomly chosen subset of units in a dropout layer (here, 20% of the units) will be turned off (set to zero activation) on each training cycle, with different random subsets being chosen on each cycle. Dropout only occurs during training; after the network has learned, all units participate in the classification of input data. \n",
    "\n",
    "Finally, we need to tell the network which dataset to use."
   ]
  },
  {
   "cell_type": "code",
   "execution_count": 16,
   "metadata": {},
   "outputs": [],
   "source": [
    "net.set_dataset(mnist)"
   ]
  },
  {
   "cell_type": "markdown",
   "metadata": {},
   "source": [
    "We are now ready to compile the network. To do so, we must specify the error (or \"loss\") function that measures the network's performance, and the specific learning algorithm for optimizing the network's weights during training. For a classification task using *Softmax*, in which the output of the network is a probability distribution across several possible classification categories, the appropriate error function is usually the *categorical crossentropy* function. The choice of optimizer is typically some variant of stochastic gradient descent. Here we will use RMSprop. After compiling the network, it is ready to be trained. The `summary()` method prints out a brief summary of each layer, including the total number of trainable parameters (weights and biases) in the network."
   ]
  },
  {
   "cell_type": "code",
   "execution_count": 17,
   "metadata": {},
   "outputs": [
    {
     "name": "stdout",
     "output_type": "stream",
     "text": [
      "_________________________________________________________________\n",
      "Layer (type)                 Output Shape              Param #   \n",
      "=================================================================\n",
      "input (InputLayer)           (None, 28, 28, 1)         0         \n",
      "_________________________________________________________________\n",
      "flat_input (Flatten)         (None, 784)               0         \n",
      "_________________________________________________________________\n",
      "hidden1 (Dense)              (None, 30)                23550     \n",
      "_________________________________________________________________\n",
      "dropout_1 (Dropout)          (None, 30)                0         \n",
      "_________________________________________________________________\n",
      "hidden2 (Dense)              (None, 30)                930       \n",
      "_________________________________________________________________\n",
      "dropout_2 (Dropout)          (None, 30)                0         \n",
      "_________________________________________________________________\n",
      "output (Dense)               (None, 10)                310       \n",
      "=================================================================\n",
      "Total params: 24,790\n",
      "Trainable params: 24,790\n",
      "Non-trainable params: 0\n",
      "_________________________________________________________________\n"
     ]
    }
   ],
   "source": [
    "net.compile(error='categorical_crossentropy', optimizer='rmsprop')\n",
    "net.summary()"
   ]
  },
  {
   "cell_type": "markdown",
   "metadata": {},
   "source": [
    "Let's take a look at the network before we train it. The `dashboard` provides an easy-to-use graphical interface, showing the network's response to each input image in the dataset. (The small <font size=\"5\">&#10683;</font> symbols indicate layers with dropout.)"
   ]
  },
  {
   "cell_type": "code",
   "execution_count": 18,
   "metadata": {},
   "outputs": [
    {
     "data": {
      "application/vnd.jupyter.widget-view+json": {
       "model_id": "dfa7ebb60dd94c2aa46da57ffd77af55",
       "version_major": 2,
       "version_minor": 0
      },
      "text/html": [
       "<p>Failed to display Jupyter Widget of type <code>Dashboard</code>.</p>\n",
       "<p>\n",
       "  If you're reading this message in the Jupyter Notebook or JupyterLab Notebook, it may mean\n",
       "  that the widgets JavaScript is still loading. If this message persists, it\n",
       "  likely means that the widgets JavaScript library is either not installed or\n",
       "  not enabled. See the <a href=\"https://ipywidgets.readthedocs.io/en/stable/user_install.html\">Jupyter\n",
       "  Widgets Documentation</a> for setup instructions.\n",
       "</p>\n",
       "<p>\n",
       "  If you're reading this message in another frontend (for example, a static\n",
       "  rendering on GitHub or <a href=\"https://nbviewer.jupyter.org/\">NBViewer</a>),\n",
       "  it may mean that your frontend doesn't currently support widgets.\n",
       "</p>\n"
      ],
      "text/plain": [
       "Dashboard(children=(Accordion(children=(HBox(children=(VBox(children=(Select(description='Dataset:', index=1, options=('Test', 'Train'), rows=1, value='Train'), FloatSlider(value=0.6, continuous_update=False, description='Zoom', layout=Layout(width='65%'), max=1.0, style=SliderStyle(description_width='initial')), IntText(value=150, description='Horizontal space between banks:', style=DescriptionStyle(description_width='initial')), IntText(value=30, description='Vertical space between layers:', style=DescriptionStyle(description_width='initial')), HBox(children=(Checkbox(value=True, description='Show Targets', style=DescriptionStyle(description_width='initial')), Checkbox(value=False, description='Errors', style=DescriptionStyle(description_width='initial')))), Select(description='Features:', options=('', 'input'), rows=1, value=''), IntText(value=3, description='Feature columns:', style=DescriptionStyle(description_width='initial')), FloatText(value=1.0, description='Feature scale:', style=DescriptionStyle(description_width='initial'))), layout=Layout(width='100%')), VBox(children=(Select(description='Layer:', index=4, options=('input', 'flat_input', 'hidden1', 'hidden2', 'output'), rows=1, value='output'), Checkbox(value=True, description='Visible'), Select(description='Colormap:', options=('', 'Accent', 'Accent_r', 'Blues', 'Blues_r', 'BrBG', 'BrBG_r', 'BuGn', 'BuGn_r', 'BuPu', 'BuPu_r', 'CMRmap', 'CMRmap_r', 'Dark2', 'Dark2_r', 'GnBu', 'GnBu_r', 'Greens', 'Greens_r', 'Greys', 'Greys_r', 'OrRd', 'OrRd_r', 'Oranges', 'Oranges_r', 'PRGn', 'PRGn_r', 'Paired', 'Paired_r', 'Pastel1', 'Pastel1_r', 'Pastel2', 'Pastel2_r', 'PiYG', 'PiYG_r', 'PuBu', 'PuBuGn', 'PuBuGn_r', 'PuBu_r', 'PuOr', 'PuOr_r', 'PuRd', 'PuRd_r', 'Purples', 'Purples_r', 'RdBu', 'RdBu_r', 'RdGy', 'RdGy_r', 'RdPu', 'RdPu_r', 'RdYlBu', 'RdYlBu_r', 'RdYlGn', 'RdYlGn_r', 'Reds', 'Reds_r', 'Set1', 'Set1_r', 'Set2', 'Set2_r', 'Set3', 'Set3_r', 'Spectral', 'Spectral_r', 'Vega10', 'Vega10_r', 'Vega20', 'Vega20_r', 'Vega20b', 'Vega20b_r', 'Vega20c', 'Vega20c_r', 'Wistia', 'Wistia_r', 'YlGn', 'YlGnBu', 'YlGnBu_r', 'YlGn_r', 'YlOrBr', 'YlOrBr_r', 'YlOrRd', 'YlOrRd_r', 'afmhot', 'afmhot_r', 'autumn', 'autumn_r', 'binary', 'binary_r', 'bone', 'bone_r', 'brg', 'brg_r', 'bwr', 'bwr_r', 'cool', 'cool_r', 'coolwarm', 'coolwarm_r', 'copper', 'copper_r', 'cubehelix', 'cubehelix_r', 'flag', 'flag_r', 'gist_earth', 'gist_earth_r', 'gist_gray', 'gist_gray_r', 'gist_heat', 'gist_heat_r', 'gist_ncar', 'gist_ncar_r', 'gist_rainbow', 'gist_rainbow_r', 'gist_stern', 'gist_stern_r', 'gist_yarg', 'gist_yarg_r', 'gnuplot', 'gnuplot2', 'gnuplot2_r', 'gnuplot_r', 'gray', 'gray_r', 'hot', 'hot_r', 'hsv', 'hsv_r', 'inferno', 'inferno_r', 'jet', 'jet_r', 'magma', 'magma_r', 'nipy_spectral', 'nipy_spectral_r', 'ocean', 'ocean_r', 'pink', 'pink_r', 'plasma', 'plasma_r', 'prism', 'prism_r', 'rainbow', 'rainbow_r', 'seismic', 'seismic_r', 'spectral', 'spectral_r', 'spring', 'spring_r', 'summer', 'summer_r', 'tab10', 'tab10_r', 'tab20', 'tab20_r', 'tab20b', 'tab20b_r', 'tab20c', 'tab20c_r', 'terrain', 'terrain_r', 'viridis', 'viridis_r', 'winter', 'winter_r'), rows=1, value=''), HTML(value='<img src=\"data:image/gif;base64,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\"/>'), FloatText(value=-1.0, description='Leftmost color maps to:', style=DescriptionStyle(description_width='initial')), FloatText(value=1.0, description='Rightmost color maps to:', style=DescriptionStyle(description_width='initial')), IntText(value=0, description='Feature to show:', style=DescriptionStyle(description_width='initial')), HBox(children=(Checkbox(value=True, description='Rotate network', layout=Layout(width='52%'), style=DescriptionStyle(description_width='initial')), Button(icon='save', layout=Layout(width='10%'), style=ButtonStyle())))), layout=Layout(width='100%')))),), selected_index=None, _titles={'0': 'MNIST_MLP'}), VBox(children=(HBox(children=(IntSlider(value=0, continuous_update=False, description='Dataset index', layout=Layout(width='100%'), max=59999), Label(value='of 60000', layout=Layout(width='100px'))), layout=Layout(height='40px')), HBox(children=(Button(icon='fast-backward', layout=Layout(width='100%'), style=ButtonStyle()), Button(icon='backward', layout=Layout(width='100%'), style=ButtonStyle()), IntText(value=0, layout=Layout(width='100%')), Button(icon='forward', layout=Layout(width='100%'), style=ButtonStyle()), Button(icon='fast-forward', layout=Layout(width='100%'), style=ButtonStyle()), Button(description='Play', icon='play', layout=Layout(width='100%'), style=ButtonStyle()), Button(icon='refresh', layout=Layout(width='25%'), style=ButtonStyle())), layout=Layout(height='50px', width='100%'))), layout=Layout(width='100%')), HTML(value='<p style=\"text-align:center\"></p>', layout=Layout(justify_content='center', overflow_x='auto', overflow_y='auto', width='95%')), Output()))"
      ]
     },
     "metadata": {},
     "output_type": "display_data"
    },
    {
     "data": {
      "application/javascript": [
       "\n",
       "require(['base/js/namespace'], function(Jupyter) {\n",
       "    Jupyter.notebook.kernel.comm_manager.register_target('conx_svg_control', function(comm, msg) {\n",
       "        comm.on_msg(function(msg) {\n",
       "            var data = msg[\"content\"][\"data\"];\n",
       "            var images = document.getElementsByClassName(data[\"class\"]);\n",
       "            for (var i = 0; i < images.length; i++) {\n",
       "                if (data[\"href\"]) {\n",
       "                    images[i].setAttributeNS(null, \"href\", data[\"href\"]);\n",
       "                }\n",
       "                if (data[\"src\"]) {\n",
       "                    images[i].setAttributeNS(null, \"src\", data[\"src\"]);\n",
       "                }\n",
       "            }\n",
       "        });\n",
       "    });\n",
       "});\n"
      ],
      "text/plain": [
       "<IPython.core.display.Javascript object>"
      ]
     },
     "metadata": {},
     "output_type": "display_data"
    }
   ],
   "source": [
    "dash = net.dashboard()\n",
    "dash"
   ]
  },
  {
   "cell_type": "markdown",
   "metadata": {},
   "source": [
    "Clicking on **MNIST_MLP** at the top of the dashboard will open up a panel of settings for controlling the appearance and functionality of the network display. For example, to choose between the training set and testing set images, you can select \"Train\" or \"Test\" from the *Dataset* pulldown menu. \n",
    "\n",
    "The `propagate` method sends an input pattern through the network and returns a list of the output values. In the example below, the outputs are all around 0.1 because the network has not yet been trained. After training, one of the output values will typically be much larger than the others, corresponding to the output classification category."
   ]
  },
  {
   "cell_type": "code",
   "execution_count": 19,
   "metadata": {},
   "outputs": [
    {
     "data": {
      "text/plain": [
       "[0.08916059136390686,\n",
       " 0.07787786424160004,\n",
       " 0.08981455117464066,\n",
       " 0.14052894711494446,\n",
       " 0.12251798063516617,\n",
       " 0.11036482453346252,\n",
       " 0.09278643876314163,\n",
       " 0.08943861722946167,\n",
       " 0.08755778521299362,\n",
       " 0.09995239973068237]"
      ]
     },
     "execution_count": 19,
     "metadata": {},
     "output_type": "execute_result"
    }
   ],
   "source": [
    "net.propagate(mnist.train_inputs[0])"
   ]
  },
  {
   "cell_type": "markdown",
   "metadata": {},
   "source": [
    "We can visualize the weights on connections into specific units by calling `plot_layer_weights`. For example, the command below shows the weights from the input layer into units 0, 1, and 2 of the first hidden layer, displayed as 28 &times; 28 pixel array (where each \"pixel\" represents a weight from the input layer into a hidden unit). The `wrange` keyword specifies the minimum and maximum weight values for the color coding. Since the network has not yet been trained, the weights are all small random values close to zero."
   ]
  },
  {
   "cell_type": "code",
   "execution_count": 20,
   "metadata": {},
   "outputs": [
    {
     "data": {
      "image/png": "[encoded data removed]",
      "text/plain": [
       "<matplotlib.figure.Figure at 0x11d41cb38>"
      ]
     },
     "metadata": {},
     "output_type": "display_data"
    }
   ],
   "source": [
    "net.plot_layer_weights('hidden1', units=[0,1,2], vshape=(28,28), wrange=(-1.5, 1.5))"
   ]
  },
  {
   "cell_type": "markdown",
   "metadata": {},
   "source": [
    "Let's train the network for 40 epochs, using a batch size of 128. This means that images from the training set will be presented to the network in batches of 128 at a time, and for each batch, the RMSprop algorithm will update the network's weights by an appropriate amount. Then another batch of 128 images will be presented, and so on, until all 60000 training images in the dataset have been processed, which constitutes one epoch of training. This entire cycle will be repeated for 30 epochs. As training proceeds, the network's error (loss) on both the training set and testing set (also called the validation set) will be shown on the left graph, and the network's accuracy will be shown on the right graph. The accuracy is simply the fraction of input images that the network classifies correctly."
   ]
  },
  {
   "cell_type": "code",
   "execution_count": 21,
   "metadata": {},
   "outputs": [
    {
     "data": {
      "image/svg+xml": [
       "<svg height=\"288pt\" version=\"1.1\" viewBox=\"0 0 720 288\" width=\"720pt\" xmlns=\"http://www.w3.org/2000/svg\" xmlns:xlink=\"http://www.w3.org/1999/xlink\">\n",
       " <defs>\n",
       "  <style type=\"text/css\">\n",
       "*{stroke-linecap:butt;stroke-linejoin:round;}\n",
       "  </style>\n",
       " </defs>\n",
       " <g id=\"figure_1\">\n",
       "  <g id=\"patch_1\">\n",
       "   <path d=\"M 0 288  L 720 288  L 720 0  L 0 0  z \" style=\"fill:#ffffff;\"/>\n",
       "  </g>\n",
       "  <g id=\"axes_1\">\n",
       "   <g id=\"patch_2\">\n",
       "    <path d=\"M 90 252  L 343.636364 252  L 343.636364 34.56  L 90 34.56  z \" style=\"fill:#ffffff;\"/>\n",
       "   </g>\n",
       "   <g id=\"matplotlib.axis_1\">\n",
       "    <g id=\"xtick_1\">\n",
       "     <g id=\"line2d_1\">\n",
       "      <defs>\n",
       "       <path d=\"M 0 0  L 0 3.5  \" id=\"m5d522d3049\" style=\"stroke:#000000;stroke-width:0.8;\"/>\n",
       "      </defs>\n",
       "      <g>\n",
       "       <use style=\"stroke:#000000;stroke-width:0.8;\" x=\"101.528926\" xlink:href=\"#m5d522d3049\" y=\"252\"/>\n",
       "      </g>\n",
       "     </g>\n",
       "     <g id=\"text_1\">\n",
       "      <!-- 0 -->\n",
       "      <defs>\n",
       "       <path d=\"M 31.78125 66.40625  Q 24.171875 66.40625 20.328125 58.90625  Q 16.5 51.421875 16.5 36.375  Q 16.5 21.390625 20.328125 13.890625  Q 24.171875 6.390625 31.78125 6.390625  Q 39.453125 6.390625 43.28125 13.890625  Q 47.125 21.390625 47.125 36.375  Q 47.125 51.421875 43.28125 58.90625  Q 39.453125 66.40625 31.78125 66.40625  z M 31.78125 74.21875  Q 44.046875 74.21875 50.515625 64.515625  Q 56.984375 54.828125 56.984375 36.375  Q 56.984375 17.96875 50.515625 8.265625  Q 44.046875 -1.421875 31.78125 -1.421875  Q 19.53125 -1.421875 13.0625 8.265625  Q 6.59375 17.96875 6.59375 36.375  Q 6.59375 54.828125 13.0625 64.515625  Q 19.53125 74.21875 31.78125 74.21875  z \" id=\"DejaVuSans-30\"/>\n",
       "      </defs>\n",
       "      <g transform=\"translate(98.347676 266.598437)scale(0.1 -0.1)\">\n",
       "       <use xlink:href=\"#DejaVuSans-30\"/>\n",
       "      </g>\n",
       "     </g>\n",
       "    </g>\n",
       "    <g id=\"xtick_2\">\n",
       "     <g id=\"line2d_2\">\n",
       "      <g>\n",
       "       <use style=\"stroke:#000000;stroke-width:0.8;\" x=\"159.173554\" xlink:href=\"#m5d522d3049\" y=\"252\"/>\n",
       "      </g>\n",
       "     </g>\n",
       "     <g id=\"text_2\">\n",
       "      <!-- 10 -->\n",
       "      <defs>\n",
       "       <path d=\"M 12.40625 8.296875  L 28.515625 8.296875  L 28.515625 63.921875  L 10.984375 60.40625  L 10.984375 69.390625  L 28.421875 72.90625  L 38.28125 72.90625  L 38.28125 8.296875  L 54.390625 8.296875  L 54.390625 0  L 12.40625 0  z \" id=\"DejaVuSans-31\"/>\n",
       "      </defs>\n",
       "      <g transform=\"translate(152.811054 266.598437)scale(0.1 -0.1)\">\n",
       "       <use xlink:href=\"#DejaVuSans-31\"/>\n",
       "       <use x=\"63.623047\" xlink:href=\"#DejaVuSans-30\"/>\n",
       "      </g>\n",
       "     </g>\n",
       "    </g>\n",
       "    <g id=\"xtick_3\">\n",
       "     <g id=\"line2d_3\">\n",
       "      <g>\n",
       "       <use style=\"stroke:#000000;stroke-width:0.8;\" x=\"216.818182\" xlink:href=\"#m5d522d3049\" y=\"252\"/>\n",
       "      </g>\n",
       "     </g>\n",
       "     <g id=\"text_3\">\n",
       "      <!-- 20 -->\n",
       "      <defs>\n",
       "       <path d=\"M 19.1875 8.296875  L 53.609375 8.296875  L 53.609375 0  L 7.328125 0  L 7.328125 8.296875  Q 12.9375 14.109375 22.625 23.890625  Q 32.328125 33.6875 34.8125 36.53125  Q 39.546875 41.84375 41.421875 45.53125  Q 43.3125 49.21875 43.3125 52.78125  Q 43.3125 58.59375 39.234375 62.25  Q 35.15625 65.921875 28.609375 65.921875  Q 23.96875 65.921875 18.8125 64.3125  Q 13.671875 62.703125 7.8125 59.421875  L 7.8125 69.390625  Q 13.765625 71.78125 18.9375 73  Q 24.125 74.21875 28.421875 74.21875  Q 39.75 74.21875 46.484375 68.546875  Q 53.21875 62.890625 53.21875 53.421875  Q 53.21875 48.921875 51.53125 44.890625  Q 49.859375 40.875 45.40625 35.40625  Q 44.1875 33.984375 37.640625 27.21875  Q 31.109375 20.453125 19.1875 8.296875  z \" id=\"DejaVuSans-32\"/>\n",
       "      </defs>\n",
       "      <g transform=\"translate(210.455682 266.598437)scale(0.1 -0.1)\">\n",
       "       <use xlink:href=\"#DejaVuSans-32\"/>\n",
       "       <use x=\"63.623047\" xlink:href=\"#DejaVuSans-30\"/>\n",
       "      </g>\n",
       "     </g>\n",
       "    </g>\n",
       "    <g id=\"xtick_4\">\n",
       "     <g id=\"line2d_4\">\n",
       "      <g>\n",
       "       <use style=\"stroke:#000000;stroke-width:0.8;\" x=\"274.46281\" xlink:href=\"#m5d522d3049\" y=\"252\"/>\n",
       "      </g>\n",
       "     </g>\n",
       "     <g id=\"text_4\">\n",
       "      <!-- 30 -->\n",
       "      <defs>\n",
       "       <path d=\"M 40.578125 39.3125  Q 47.65625 37.796875 51.625 33  Q 55.609375 28.21875 55.609375 21.1875  Q 55.609375 10.40625 48.1875 4.484375  Q 40.765625 -1.421875 27.09375 -1.421875  Q 22.515625 -1.421875 17.65625 -0.515625  Q 12.796875 0.390625 7.625 2.203125  L 7.625 11.71875  Q 11.71875 9.328125 16.59375 8.109375  Q 21.484375 6.890625 26.8125 6.890625  Q 36.078125 6.890625 40.9375 10.546875  Q 45.796875 14.203125 45.796875 21.1875  Q 45.796875 27.640625 41.28125 31.265625  Q 36.765625 34.90625 28.71875 34.90625  L 20.21875 34.90625  L 20.21875 43.015625  L 29.109375 43.015625  Q 36.375 43.015625 40.234375 45.921875  Q 44.09375 48.828125 44.09375 54.296875  Q 44.09375 59.90625 40.109375 62.90625  Q 36.140625 65.921875 28.71875 65.921875  Q 24.65625 65.921875 20.015625 65.03125  Q 15.375 64.15625 9.8125 62.3125  L 9.8125 71.09375  Q 15.4375 72.65625 20.34375 73.4375  Q 25.25 74.21875 29.59375 74.21875  Q 40.828125 74.21875 47.359375 69.109375  Q 53.90625 64.015625 53.90625 55.328125  Q 53.90625 49.265625 50.4375 45.09375  Q 46.96875 40.921875 40.578125 39.3125  z \" id=\"DejaVuSans-33\"/>\n",
       "      </defs>\n",
       "      <g transform=\"translate(268.10031 266.598437)scale(0.1 -0.1)\">\n",
       "       <use xlink:href=\"#DejaVuSans-33\"/>\n",
       "       <use x=\"63.623047\" xlink:href=\"#DejaVuSans-30\"/>\n",
       "      </g>\n",
       "     </g>\n",
       "    </g>\n",
       "    <g id=\"xtick_5\">\n",
       "     <g id=\"line2d_5\">\n",
       "      <g>\n",
       "       <use style=\"stroke:#000000;stroke-width:0.8;\" x=\"332.107438\" xlink:href=\"#m5d522d3049\" y=\"252\"/>\n",
       "      </g>\n",
       "     </g>\n",
       "     <g id=\"text_5\">\n",
       "      <!-- 40 -->\n",
       "      <defs>\n",
       "       <path d=\"M 37.796875 64.3125  L 12.890625 25.390625  L 37.796875 25.390625  z M 35.203125 72.90625  L 47.609375 72.90625  L 47.609375 25.390625  L 58.015625 25.390625  L 58.015625 17.1875  L 47.609375 17.1875  L 47.609375 0  L 37.796875 0  L 37.796875 17.1875  L 4.890625 17.1875  L 4.890625 26.703125  z \" id=\"DejaVuSans-34\"/>\n",
       "      </defs>\n",
       "      <g transform=\"translate(325.744938 266.598437)scale(0.1 -0.1)\">\n",
       "       <use xlink:href=\"#DejaVuSans-34\"/>\n",
       "       <use x=\"63.623047\" xlink:href=\"#DejaVuSans-30\"/>\n",
       "      </g>\n",
       "     </g>\n",
       "    </g>\n",
       "    <g id=\"text_6\">\n",
       "     <!-- Epoch -->\n",
       "     <defs>\n",
       "      <path d=\"M 9.8125 72.90625  L 55.90625 72.90625  L 55.90625 64.59375  L 19.671875 64.59375  L 19.671875 43.015625  L 54.390625 43.015625  L 54.390625 34.71875  L 19.671875 34.71875  L 19.671875 8.296875  L 56.78125 8.296875  L 56.78125 0  L 9.8125 0  z \" id=\"DejaVuSans-45\"/>\n",
       "      <path d=\"M 18.109375 8.203125  L 18.109375 -20.796875  L 9.078125 -20.796875  L 9.078125 54.6875  L 18.109375 54.6875  L 18.109375 46.390625  Q 20.953125 51.265625 25.265625 53.625  Q 29.59375 56 35.59375 56  Q 45.5625 56 51.78125 48.09375  Q 58.015625 40.1875 58.015625 27.296875  Q 58.015625 14.40625 51.78125 6.484375  Q 45.5625 -1.421875 35.59375 -1.421875  Q 29.59375 -1.421875 25.265625 0.953125  Q 20.953125 3.328125 18.109375 8.203125  z M 48.6875 27.296875  Q 48.6875 37.203125 44.609375 42.84375  Q 40.53125 48.484375 33.40625 48.484375  Q 26.265625 48.484375 22.1875 42.84375  Q 18.109375 37.203125 18.109375 27.296875  Q 18.109375 17.390625 22.1875 11.75  Q 26.265625 6.109375 33.40625 6.109375  Q 40.53125 6.109375 44.609375 11.75  Q 48.6875 17.390625 48.6875 27.296875  z \" id=\"DejaVuSans-70\"/>\n",
       "      <path d=\"M 30.609375 48.390625  Q 23.390625 48.390625 19.1875 42.75  Q 14.984375 37.109375 14.984375 27.296875  Q 14.984375 17.484375 19.15625 11.84375  Q 23.34375 6.203125 30.609375 6.203125  Q 37.796875 6.203125 41.984375 11.859375  Q 46.1875 17.53125 46.1875 27.296875  Q 46.1875 37.015625 41.984375 42.703125  Q 37.796875 48.390625 30.609375 48.390625  z M 30.609375 56  Q 42.328125 56 49.015625 48.375  Q 55.71875 40.765625 55.71875 27.296875  Q 55.71875 13.875 49.015625 6.21875  Q 42.328125 -1.421875 30.609375 -1.421875  Q 18.84375 -1.421875 12.171875 6.21875  Q 5.515625 13.875 5.515625 27.296875  Q 5.515625 40.765625 12.171875 48.375  Q 18.84375 56 30.609375 56  z \" id=\"DejaVuSans-6f\"/>\n",
       "      <path d=\"M 48.78125 52.59375  L 48.78125 44.1875  Q 44.96875 46.296875 41.140625 47.34375  Q 37.3125 48.390625 33.40625 48.390625  Q 24.65625 48.390625 19.8125 42.84375  Q 14.984375 37.3125 14.984375 27.296875  Q 14.984375 17.28125 19.8125 11.734375  Q 24.65625 6.203125 33.40625 6.203125  Q 37.3125 6.203125 41.140625 7.25  Q 44.96875 8.296875 48.78125 10.40625  L 48.78125 2.09375  Q 45.015625 0.34375 40.984375 -0.53125  Q 36.96875 -1.421875 32.421875 -1.421875  Q 20.0625 -1.421875 12.78125 6.34375  Q 5.515625 14.109375 5.515625 27.296875  Q 5.515625 40.671875 12.859375 48.328125  Q 20.21875 56 33.015625 56  Q 37.15625 56 41.109375 55.140625  Q 45.0625 54.296875 48.78125 52.59375  z \" id=\"DejaVuSans-63\"/>\n",
       "      <path d=\"M 54.890625 33.015625  L 54.890625 0  L 45.90625 0  L 45.90625 32.71875  Q 45.90625 40.484375 42.875 44.328125  Q 39.84375 48.1875 33.796875 48.1875  Q 26.515625 48.1875 22.3125 43.546875  Q 18.109375 38.921875 18.109375 30.90625  L 18.109375 0  L 9.078125 0  L 9.078125 75.984375  L 18.109375 75.984375  L 18.109375 46.1875  Q 21.34375 51.125 25.703125 53.5625  Q 30.078125 56 35.796875 56  Q 45.21875 56 50.046875 50.171875  Q 54.890625 44.34375 54.890625 33.015625  z \" id=\"DejaVuSans-68\"/>\n",
       "     </defs>\n",
       "     <g transform=\"translate(201.507244 280.276563)scale(0.1 -0.1)\">\n",
       "      <use xlink:href=\"#DejaVuSans-45\"/>\n",
       "      <use x=\"63.183594\" xlink:href=\"#DejaVuSans-70\"/>\n",
       "      <use x=\"126.660156\" xlink:href=\"#DejaVuSans-6f\"/>\n",
       "      <use x=\"187.841797\" xlink:href=\"#DejaVuSans-63\"/>\n",
       "      <use x=\"242.822266\" xlink:href=\"#DejaVuSans-68\"/>\n",
       "     </g>\n",
       "    </g>\n",
       "   </g>\n",
       "   <g id=\"matplotlib.axis_2\">\n",
       "    <g id=\"ytick_1\">\n",
       "     <g id=\"line2d_6\">\n",
       "      <defs>\n",
       "       <path d=\"M 0 0  L -3.5 0  \" id=\"m554fb93a5e\" style=\"stroke:#000000;stroke-width:0.8;\"/>\n",
       "      </defs>\n",
       "      <g>\n",
       "       <use style=\"stroke:#000000;stroke-width:0.8;\" x=\"90\" xlink:href=\"#m554fb93a5e\" y=\"252\"/>\n",
       "      </g>\n",
       "     </g>\n",
       "     <g id=\"text_7\">\n",
       "      <!-- 0.0 -->\n",
       "      <defs>\n",
       "       <path d=\"M 10.6875 12.40625  L 21 12.40625  L 21 0  L 10.6875 0  z \" id=\"DejaVuSans-2e\"/>\n",
       "      </defs>\n",
       "      <g transform=\"translate(67.096875 255.799219)scale(0.1 -0.1)\">\n",
       "       <use xlink:href=\"#DejaVuSans-30\"/>\n",
       "       <use x=\"63.623047\" xlink:href=\"#DejaVuSans-2e\"/>\n",
       "       <use x=\"95.410156\" xlink:href=\"#DejaVuSans-30\"/>\n",
       "      </g>\n",
       "     </g>\n",
       "    </g>\n",
       "    <g id=\"ytick_2\">\n",
       "     <g id=\"line2d_7\">\n",
       "      <g>\n",
       "       <use style=\"stroke:#000000;stroke-width:0.8;\" x=\"90\" xlink:href=\"#m554fb93a5e\" y=\"207.990095\"/>\n",
       "      </g>\n",
       "     </g>\n",
       "     <g id=\"text_8\">\n",
       "      <!-- 0.5 -->\n",
       "      <defs>\n",
       "       <path d=\"M 10.796875 72.90625  L 49.515625 72.90625  L 49.515625 64.59375  L 19.828125 64.59375  L 19.828125 46.734375  Q 21.96875 47.46875 24.109375 47.828125  Q 26.265625 48.1875 28.421875 48.1875  Q 40.625 48.1875 47.75 41.5  Q 54.890625 34.8125 54.890625 23.390625  Q 54.890625 11.625 47.5625 5.09375  Q 40.234375 -1.421875 26.90625 -1.421875  Q 22.3125 -1.421875 17.546875 -0.640625  Q 12.796875 0.140625 7.71875 1.703125  L 7.71875 11.625  Q 12.109375 9.234375 16.796875 8.0625  Q 21.484375 6.890625 26.703125 6.890625  Q 35.15625 6.890625 40.078125 11.328125  Q 45.015625 15.765625 45.015625 23.390625  Q 45.015625 31 40.078125 35.4375  Q 35.15625 39.890625 26.703125 39.890625  Q 22.75 39.890625 18.8125 39.015625  Q 14.890625 38.140625 10.796875 36.28125  z \" id=\"DejaVuSans-35\"/>\n",
       "      </defs>\n",
       "      <g transform=\"translate(67.096875 211.789314)scale(0.1 -0.1)\">\n",
       "       <use xlink:href=\"#DejaVuSans-30\"/>\n",
       "       <use x=\"63.623047\" xlink:href=\"#DejaVuSans-2e\"/>\n",
       "       <use x=\"95.410156\" xlink:href=\"#DejaVuSans-35\"/>\n",
       "      </g>\n",
       "     </g>\n",
       "    </g>\n",
       "    <g id=\"ytick_3\">\n",
       "     <g id=\"line2d_8\">\n",
       "      <g>\n",
       "       <use style=\"stroke:#000000;stroke-width:0.8;\" x=\"90\" xlink:href=\"#m554fb93a5e\" y=\"163.98019\"/>\n",
       "      </g>\n",
       "     </g>\n",
       "     <g id=\"text_9\">\n",
       "      <!-- 1.0 -->\n",
       "      <g transform=\"translate(67.096875 167.779409)scale(0.1 -0.1)\">\n",
       "       <use xlink:href=\"#DejaVuSans-31\"/>\n",
       "       <use x=\"63.623047\" xlink:href=\"#DejaVuSans-2e\"/>\n",
       "       <use x=\"95.410156\" xlink:href=\"#DejaVuSans-30\"/>\n",
       "      </g>\n",
       "     </g>\n",
       "    </g>\n",
       "    <g id=\"ytick_4\">\n",
       "     <g id=\"line2d_9\">\n",
       "      <g>\n",
       "       <use style=\"stroke:#000000;stroke-width:0.8;\" x=\"90\" xlink:href=\"#m554fb93a5e\" y=\"119.970285\"/>\n",
       "      </g>\n",
       "     </g>\n",
       "     <g id=\"text_10\">\n",
       "      <!-- 1.5 -->\n",
       "      <g transform=\"translate(67.096875 123.769504)scale(0.1 -0.1)\">\n",
       "       <use xlink:href=\"#DejaVuSans-31\"/>\n",
       "       <use x=\"63.623047\" xlink:href=\"#DejaVuSans-2e\"/>\n",
       "       <use x=\"95.410156\" xlink:href=\"#DejaVuSans-35\"/>\n",
       "      </g>\n",
       "     </g>\n",
       "    </g>\n",
       "    <g id=\"ytick_5\">\n",
       "     <g id=\"line2d_10\">\n",
       "      <g>\n",
       "       <use style=\"stroke:#000000;stroke-width:0.8;\" x=\"90\" xlink:href=\"#m554fb93a5e\" y=\"75.96038\"/>\n",
       "      </g>\n",
       "     </g>\n",
       "     <g id=\"text_11\">\n",
       "      <!-- 2.0 -->\n",
       "      <g transform=\"translate(67.096875 79.759599)scale(0.1 -0.1)\">\n",
       "       <use xlink:href=\"#DejaVuSans-32\"/>\n",
       "       <use x=\"63.623047\" xlink:href=\"#DejaVuSans-2e\"/>\n",
       "       <use x=\"95.410156\" xlink:href=\"#DejaVuSans-30\"/>\n",
       "      </g>\n",
       "     </g>\n",
       "    </g>\n",
       "   </g>\n",
       "   <g id=\"line2d_11\">\n",
       "    <path clip-path=\"url(#p56bcb869f6)\" d=\"M 101.528926 44.451794  L 107.293388 180.090874  L 113.057851 214.800487  L 118.822314 220.712041  L 124.586777 223.868406  L 130.35124 225.955713  L 136.115702 227.652971  L 141.880165 228.47007  L 147.644628 229.265346  L 153.409091 230.064129  L 159.173554 230.695146  L 164.938017 231.230473  L 170.702479 231.698783  L 176.466942 231.960558  L 182.231405 232.300478  L 187.995868 232.608171  L 193.760331 232.799634  L 199.524793 233.355421  L 205.289256 233.391974  L 211.053719 233.626495  L 216.818182 233.64962  L 222.582645 233.791021  L 228.347107 234.296663  L 234.11157 234.070429  L 239.876033 234.074107  L 245.640496 234.374615  L 251.404959 234.149675  L 257.169421 234.657652  L 262.933884 234.394069  L 268.698347 234.549695  L 274.46281 234.651997  L 280.227273 234.554077  L 285.991736 234.883455  L 291.756198 234.963667  L 297.520661 234.944973  L 303.285124 234.96633  L 309.049587 234.918811  L 314.81405 235.026305  L 320.578512 235.191762  L 326.342975 235.515121  L 332.107438 235.399406  \" style=\"fill:none;stroke:#1f77b4;stroke-linecap:square;stroke-width:1.5;\"/>\n",
       "   </g>\n",
       "   <g id=\"line2d_12\">\n",
       "    <path clip-path=\"url(#p56bcb869f6)\" d=\"M 101.528926 44.299247  L 107.293388 225.631605  L 113.057851 232.127633  L 118.822314 233.960875  L 124.586777 235.616019  L 130.35124 236.262923  L 136.115702 237.114886  L 141.880165 237.544585  L 147.644628 237.889956  L 153.409091 238.222117  L 159.173554 238.065991  L 164.938017 238.442954  L 170.702479 238.454466  L 176.466942 238.658902  L 182.231405 238.654249  L 187.995868 238.11702  L 193.760331 239.084182  L 199.524793 238.54186  L 205.289256 238.514784  L 211.053719 238.894829  L 216.818182 238.39643  L 222.582645 238.399696  L 228.347107 238.718326  L 234.11157 238.536414  L 239.876033 238.037335  L 245.640496 238.550951  L 251.404959 238.298064  L 257.169421 238.433828  L 262.933884 238.32656  L 268.698347 238.169204  L 274.46281 238.503871  L 280.227273 238.257479  L 285.991736 237.99277  L 291.756198 238.172383  L 297.520661 238.496258  L 303.285124 237.844054  L 309.049587 238.255551  L 314.81405 238.31478  L 320.578512 237.580047  L 326.342975 237.985327  L 332.107438 237.938281  \" style=\"fill:none;stroke:#ff7f0e;stroke-linecap:square;stroke-width:1.5;\"/>\n",
       "   </g>\n",
       "   <g id=\"patch_3\">\n",
       "    <path d=\"M 90 252  L 90 34.56  \" style=\"fill:none;stroke:#000000;stroke-linecap:square;stroke-linejoin:miter;stroke-width:0.8;\"/>\n",
       "   </g>\n",
       "   <g id=\"patch_4\">\n",
       "    <path d=\"M 343.636364 252  L 343.636364 34.56  \" style=\"fill:none;stroke:#000000;stroke-linecap:square;stroke-linejoin:miter;stroke-width:0.8;\"/>\n",
       "   </g>\n",
       "   <g id=\"patch_5\">\n",
       "    <path d=\"M 90 252  L 343.636364 252  \" style=\"fill:none;stroke:#000000;stroke-linecap:square;stroke-linejoin:miter;stroke-width:0.8;\"/>\n",
       "   </g>\n",
       "   <g id=\"patch_6\">\n",
       "    <path d=\"M 90 34.56  L 343.636364 34.56  \" style=\"fill:none;stroke:#000000;stroke-linecap:square;stroke-linejoin:miter;stroke-width:0.8;\"/>\n",
       "   </g>\n",
       "   <g id=\"text_12\">\n",
       "    <!-- MNIST_MLP: Error -->\n",
       "    <defs>\n",
       "     <path d=\"M 9.8125 72.90625  L 24.515625 72.90625  L 43.109375 23.296875  L 61.8125 72.90625  L 76.515625 72.90625  L 76.515625 0  L 66.890625 0  L 66.890625 64.015625  L 48.09375 14.015625  L 38.1875 14.015625  L 19.390625 64.015625  L 19.390625 0  L 9.8125 0  z \" id=\"DejaVuSans-4d\"/>\n",
       "     <path d=\"M 9.8125 72.90625  L 23.09375 72.90625  L 55.421875 11.921875  L 55.421875 72.90625  L 64.984375 72.90625  L 64.984375 0  L 51.703125 0  L 19.390625 60.984375  L 19.390625 0  L 9.8125 0  z \" id=\"DejaVuSans-4e\"/>\n",
       "     <path d=\"M 9.8125 72.90625  L 19.671875 72.90625  L 19.671875 0  L 9.8125 0  z \" id=\"DejaVuSans-49\"/>\n",
       "     <path d=\"M 53.515625 70.515625  L 53.515625 60.890625  Q 47.90625 63.578125 42.921875 64.890625  Q 37.9375 66.21875 33.296875 66.21875  Q 25.25 66.21875 20.875 63.09375  Q 16.5 59.96875 16.5 54.203125  Q 16.5 49.359375 19.40625 46.890625  Q 22.3125 44.4375 30.421875 42.921875  L 36.375 41.703125  Q 47.40625 39.59375 52.65625 34.296875  Q 57.90625 29 57.90625 20.125  Q 57.90625 9.515625 50.796875 4.046875  Q 43.703125 -1.421875 29.984375 -1.421875  Q 24.8125 -1.421875 18.96875 -0.25  Q 13.140625 0.921875 6.890625 3.21875  L 6.890625 13.375  Q 12.890625 10.015625 18.65625 8.296875  Q 24.421875 6.59375 29.984375 6.59375  Q 38.421875 6.59375 43.015625 9.90625  Q 47.609375 13.234375 47.609375 19.390625  Q 47.609375 24.75 44.3125 27.78125  Q 41.015625 30.8125 33.5 32.328125  L 27.484375 33.5  Q 16.453125 35.6875 11.515625 40.375  Q 6.59375 45.0625 6.59375 53.421875  Q 6.59375 63.09375 13.40625 68.65625  Q 20.21875 74.21875 32.171875 74.21875  Q 37.3125 74.21875 42.625 73.28125  Q 47.953125 72.359375 53.515625 70.515625  z \" id=\"DejaVuSans-53\"/>\n",
       "     <path d=\"M -0.296875 72.90625  L 61.375 72.90625  L 61.375 64.59375  L 35.5 64.59375  L 35.5 0  L 25.59375 0  L 25.59375 64.59375  L -0.296875 64.59375  z \" id=\"DejaVuSans-54\"/>\n",
       "     <path d=\"M 50.984375 -16.609375  L 50.984375 -23.578125  L -0.984375 -23.578125  L -0.984375 -16.609375  z \" id=\"DejaVuSans-5f\"/>\n",
       "     <path d=\"M 9.8125 72.90625  L 19.671875 72.90625  L 19.671875 8.296875  L 55.171875 8.296875  L 55.171875 0  L 9.8125 0  z \" id=\"DejaVuSans-4c\"/>\n",
       "     <path d=\"M 19.671875 64.796875  L 19.671875 37.40625  L 32.078125 37.40625  Q 38.96875 37.40625 42.71875 40.96875  Q 46.484375 44.53125 46.484375 51.125  Q 46.484375 57.671875 42.71875 61.234375  Q 38.96875 64.796875 32.078125 64.796875  z M 9.8125 72.90625  L 32.078125 72.90625  Q 44.34375 72.90625 50.609375 67.359375  Q 56.890625 61.8125 56.890625 51.125  Q 56.890625 40.328125 50.609375 34.8125  Q 44.34375 29.296875 32.078125 29.296875  L 19.671875 29.296875  L 19.671875 0  L 9.8125 0  z \" id=\"DejaVuSans-50\"/>\n",
       "     <path d=\"M 11.71875 12.40625  L 22.015625 12.40625  L 22.015625 0  L 11.71875 0  z M 11.71875 51.703125  L 22.015625 51.703125  L 22.015625 39.3125  L 11.71875 39.3125  z \" id=\"DejaVuSans-3a\"/>\n",
       "     <path id=\"DejaVuSans-20\"/>\n",
       "     <path d=\"M 41.109375 46.296875  Q 39.59375 47.171875 37.8125 47.578125  Q 36.03125 48 33.890625 48  Q 26.265625 48 22.1875 43.046875  Q 18.109375 38.09375 18.109375 28.8125  L 18.109375 0  L 9.078125 0  L 9.078125 54.6875  L 18.109375 54.6875  L 18.109375 46.1875  Q 20.953125 51.171875 25.484375 53.578125  Q 30.03125 56 36.53125 56  Q 37.453125 56 38.578125 55.875  Q 39.703125 55.765625 41.0625 55.515625  z \" id=\"DejaVuSans-72\"/>\n",
       "    </defs>\n",
       "    <g transform=\"translate(163.983494 28.56)scale(0.12 -0.12)\">\n",
       "     <use xlink:href=\"#DejaVuSans-4d\"/>\n",
       "     <use x=\"86.279297\" xlink:href=\"#DejaVuSans-4e\"/>\n",
       "     <use x=\"161.083984\" xlink:href=\"#DejaVuSans-49\"/>\n",
       "     <use x=\"190.576172\" xlink:href=\"#DejaVuSans-53\"/>\n",
       "     <use x=\"254.052734\" xlink:href=\"#DejaVuSans-54\"/>\n",
       "     <use x=\"315.136719\" xlink:href=\"#DejaVuSans-5f\"/>\n",
       "     <use x=\"365.136719\" xlink:href=\"#DejaVuSans-4d\"/>\n",
       "     <use x=\"451.416016\" xlink:href=\"#DejaVuSans-4c\"/>\n",
       "     <use x=\"507.128906\" xlink:href=\"#DejaVuSans-50\"/>\n",
       "     <use x=\"567.431641\" xlink:href=\"#DejaVuSans-3a\"/>\n",
       "     <use x=\"601.123047\" xlink:href=\"#DejaVuSans-20\"/>\n",
       "     <use x=\"632.910156\" xlink:href=\"#DejaVuSans-45\"/>\n",
       "     <use x=\"696.09375\" xlink:href=\"#DejaVuSans-72\"/>\n",
       "     <use x=\"737.191406\" xlink:href=\"#DejaVuSans-72\"/>\n",
       "     <use x=\"778.273438\" xlink:href=\"#DejaVuSans-6f\"/>\n",
       "     <use x=\"839.455078\" xlink:href=\"#DejaVuSans-72\"/>\n",
       "    </g>\n",
       "   </g>\n",
       "   <g id=\"legend_1\">\n",
       "    <g id=\"patch_7\">\n",
       "     <path d=\"M 236.030114 71.91625  L 336.636364 71.91625  Q 338.636364 71.91625 338.636364 69.91625  L 338.636364 41.56  Q 338.636364 39.56 336.636364 39.56  L 236.030114 39.56  Q 234.030114 39.56 234.030114 41.56  L 234.030114 69.91625  Q 234.030114 71.91625 236.030114 71.91625  z \" style=\"fill:#ffffff;opacity:0.8;stroke:#cccccc;stroke-linejoin:miter;\"/>\n",
       "    </g>\n",
       "    <g id=\"line2d_13\">\n",
       "     <path d=\"M 238.030114 47.658437  L 258.030114 47.658437  \" style=\"fill:none;stroke:#1f77b4;stroke-linecap:square;stroke-width:1.5;\"/>\n",
       "    </g>\n",
       "    <g id=\"line2d_14\"/>\n",
       "    <g id=\"text_13\">\n",
       "     <!-- Training set -->\n",
       "     <defs>\n",
       "      <path d=\"M 34.28125 27.484375  Q 23.390625 27.484375 19.1875 25  Q 14.984375 22.515625 14.984375 16.5  Q 14.984375 11.71875 18.140625 8.90625  Q 21.296875 6.109375 26.703125 6.109375  Q 34.1875 6.109375 38.703125 11.40625  Q 43.21875 16.703125 43.21875 25.484375  L 43.21875 27.484375  z M 52.203125 31.203125  L 52.203125 0  L 43.21875 0  L 43.21875 8.296875  Q 40.140625 3.328125 35.546875 0.953125  Q 30.953125 -1.421875 24.3125 -1.421875  Q 15.921875 -1.421875 10.953125 3.296875  Q 6 8.015625 6 15.921875  Q 6 25.140625 12.171875 29.828125  Q 18.359375 34.515625 30.609375 34.515625  L 43.21875 34.515625  L 43.21875 35.40625  Q 43.21875 41.609375 39.140625 45  Q 35.0625 48.390625 27.6875 48.390625  Q 23 48.390625 18.546875 47.265625  Q 14.109375 46.140625 10.015625 43.890625  L 10.015625 52.203125  Q 14.9375 54.109375 19.578125 55.046875  Q 24.21875 56 28.609375 56  Q 40.484375 56 46.34375 49.84375  Q 52.203125 43.703125 52.203125 31.203125  z \" id=\"DejaVuSans-61\"/>\n",
       "      <path d=\"M 9.421875 54.6875  L 18.40625 54.6875  L 18.40625 0  L 9.421875 0  z M 9.421875 75.984375  L 18.40625 75.984375  L 18.40625 64.59375  L 9.421875 64.59375  z \" id=\"DejaVuSans-69\"/>\n",
       "      <path d=\"M 54.890625 33.015625  L 54.890625 0  L 45.90625 0  L 45.90625 32.71875  Q 45.90625 40.484375 42.875 44.328125  Q 39.84375 48.1875 33.796875 48.1875  Q 26.515625 48.1875 22.3125 43.546875  Q 18.109375 38.921875 18.109375 30.90625  L 18.109375 0  L 9.078125 0  L 9.078125 54.6875  L 18.109375 54.6875  L 18.109375 46.1875  Q 21.34375 51.125 25.703125 53.5625  Q 30.078125 56 35.796875 56  Q 45.21875 56 50.046875 50.171875  Q 54.890625 44.34375 54.890625 33.015625  z \" id=\"DejaVuSans-6e\"/>\n",
       "      <path d=\"M 45.40625 27.984375  Q 45.40625 37.75 41.375 43.109375  Q 37.359375 48.484375 30.078125 48.484375  Q 22.859375 48.484375 18.828125 43.109375  Q 14.796875 37.75 14.796875 27.984375  Q 14.796875 18.265625 18.828125 12.890625  Q 22.859375 7.515625 30.078125 7.515625  Q 37.359375 7.515625 41.375 12.890625  Q 45.40625 18.265625 45.40625 27.984375  z M 54.390625 6.78125  Q 54.390625 -7.171875 48.1875 -13.984375  Q 42 -20.796875 29.203125 -20.796875  Q 24.46875 -20.796875 20.265625 -20.09375  Q 16.0625 -19.390625 12.109375 -17.921875  L 12.109375 -9.1875  Q 16.0625 -11.328125 19.921875 -12.34375  Q 23.78125 -13.375 27.78125 -13.375  Q 36.625 -13.375 41.015625 -8.765625  Q 45.40625 -4.15625 45.40625 5.171875  L 45.40625 9.625  Q 42.625 4.78125 38.28125 2.390625  Q 33.9375 0 27.875 0  Q 17.828125 0 11.671875 7.65625  Q 5.515625 15.328125 5.515625 27.984375  Q 5.515625 40.671875 11.671875 48.328125  Q 17.828125 56 27.875 56  Q 33.9375 56 38.28125 53.609375  Q 42.625 51.21875 45.40625 46.390625  L 45.40625 54.6875  L 54.390625 54.6875  z \" id=\"DejaVuSans-67\"/>\n",
       "      <path d=\"M 44.28125 53.078125  L 44.28125 44.578125  Q 40.484375 46.53125 36.375 47.5  Q 32.28125 48.484375 27.875 48.484375  Q 21.1875 48.484375 17.84375 46.4375  Q 14.5 44.390625 14.5 40.28125  Q 14.5 37.15625 16.890625 35.375  Q 19.28125 33.59375 26.515625 31.984375  L 29.59375 31.296875  Q 39.15625 29.25 43.1875 25.515625  Q 47.21875 21.78125 47.21875 15.09375  Q 47.21875 7.46875 41.1875 3.015625  Q 35.15625 -1.421875 24.609375 -1.421875  Q 20.21875 -1.421875 15.453125 -0.5625  Q 10.6875 0.296875 5.421875 2  L 5.421875 11.28125  Q 10.40625 8.6875 15.234375 7.390625  Q 20.0625 6.109375 24.8125 6.109375  Q 31.15625 6.109375 34.5625 8.28125  Q 37.984375 10.453125 37.984375 14.40625  Q 37.984375 18.0625 35.515625 20.015625  Q 33.0625 21.96875 24.703125 23.78125  L 21.578125 24.515625  Q 13.234375 26.265625 9.515625 29.90625  Q 5.8125 33.546875 5.8125 39.890625  Q 5.8125 47.609375 11.28125 51.796875  Q 16.75 56 26.8125 56  Q 31.78125 56 36.171875 55.265625  Q 40.578125 54.546875 44.28125 53.078125  z \" id=\"DejaVuSans-73\"/>\n",
       "      <path d=\"M 56.203125 29.59375  L 56.203125 25.203125  L 14.890625 25.203125  Q 15.484375 15.921875 20.484375 11.0625  Q 25.484375 6.203125 34.421875 6.203125  Q 39.59375 6.203125 44.453125 7.46875  Q 49.3125 8.734375 54.109375 11.28125  L 54.109375 2.78125  Q 49.265625 0.734375 44.1875 -0.34375  Q 39.109375 -1.421875 33.890625 -1.421875  Q 20.796875 -1.421875 13.15625 6.1875  Q 5.515625 13.8125 5.515625 26.8125  Q 5.515625 40.234375 12.765625 48.109375  Q 20.015625 56 32.328125 56  Q 43.359375 56 49.78125 48.890625  Q 56.203125 41.796875 56.203125 29.59375  z M 47.21875 32.234375  Q 47.125 39.59375 43.09375 43.984375  Q 39.0625 48.390625 32.421875 48.390625  Q 24.90625 48.390625 20.390625 44.140625  Q 15.875 39.890625 15.1875 32.171875  z \" id=\"DejaVuSans-65\"/>\n",
       "      <path d=\"M 18.3125 70.21875  L 18.3125 54.6875  L 36.8125 54.6875  L 36.8125 47.703125  L 18.3125 47.703125  L 18.3125 18.015625  Q 18.3125 11.328125 20.140625 9.421875  Q 21.96875 7.515625 27.59375 7.515625  L 36.8125 7.515625  L 36.8125 0  L 27.59375 0  Q 17.1875 0 13.234375 3.875  Q 9.28125 7.765625 9.28125 18.015625  L 9.28125 47.703125  L 2.6875 47.703125  L 2.6875 54.6875  L 9.28125 54.6875  L 9.28125 70.21875  z \" id=\"DejaVuSans-74\"/>\n",
       "     </defs>\n",
       "     <g transform=\"translate(266.030114 51.158437)scale(0.1 -0.1)\">\n",
       "      <use xlink:href=\"#DejaVuSans-54\"/>\n",
       "      <use x=\"60.865234\" xlink:href=\"#DejaVuSans-72\"/>\n",
       "      <use x=\"101.978516\" xlink:href=\"#DejaVuSans-61\"/>\n",
       "      <use x=\"163.257812\" xlink:href=\"#DejaVuSans-69\"/>\n",
       "      <use x=\"191.041016\" xlink:href=\"#DejaVuSans-6e\"/>\n",
       "      <use x=\"254.419922\" xlink:href=\"#DejaVuSans-69\"/>\n",
       "      <use x=\"282.203125\" xlink:href=\"#DejaVuSans-6e\"/>\n",
       "      <use x=\"345.582031\" xlink:href=\"#DejaVuSans-67\"/>\n",
       "      <use x=\"409.058594\" xlink:href=\"#DejaVuSans-20\"/>\n",
       "      <use x=\"440.845703\" xlink:href=\"#DejaVuSans-73\"/>\n",
       "      <use x=\"492.945312\" xlink:href=\"#DejaVuSans-65\"/>\n",
       "      <use x=\"554.46875\" xlink:href=\"#DejaVuSans-74\"/>\n",
       "     </g>\n",
       "    </g>\n",
       "    <g id=\"line2d_15\">\n",
       "     <path d=\"M 238.030114 62.336562  L 258.030114 62.336562  \" style=\"fill:none;stroke:#ff7f0e;stroke-linecap:square;stroke-width:1.5;\"/>\n",
       "    </g>\n",
       "    <g id=\"line2d_16\"/>\n",
       "    <g id=\"text_14\">\n",
       "     <!-- Validation set -->\n",
       "     <defs>\n",
       "      <path d=\"M 28.609375 0  L 0.78125 72.90625  L 11.078125 72.90625  L 34.1875 11.53125  L 57.328125 72.90625  L 67.578125 72.90625  L 39.796875 0  z \" id=\"DejaVuSans-56\"/>\n",
       "      <path d=\"M 9.421875 75.984375  L 18.40625 75.984375  L 18.40625 0  L 9.421875 0  z \" id=\"DejaVuSans-6c\"/>\n",
       "      <path d=\"M 45.40625 46.390625  L 45.40625 75.984375  L 54.390625 75.984375  L 54.390625 0  L 45.40625 0  L 45.40625 8.203125  Q 42.578125 3.328125 38.25 0.953125  Q 33.9375 -1.421875 27.875 -1.421875  Q 17.96875 -1.421875 11.734375 6.484375  Q 5.515625 14.40625 5.515625 27.296875  Q 5.515625 40.1875 11.734375 48.09375  Q 17.96875 56 27.875 56  Q 33.9375 56 38.25 53.625  Q 42.578125 51.265625 45.40625 46.390625  z M 14.796875 27.296875  Q 14.796875 17.390625 18.875 11.75  Q 22.953125 6.109375 30.078125 6.109375  Q 37.203125 6.109375 41.296875 11.75  Q 45.40625 17.390625 45.40625 27.296875  Q 45.40625 37.203125 41.296875 42.84375  Q 37.203125 48.484375 30.078125 48.484375  Q 22.953125 48.484375 18.875 42.84375  Q 14.796875 37.203125 14.796875 27.296875  z \" id=\"DejaVuSans-64\"/>\n",
       "     </defs>\n",
       "     <g transform=\"translate(266.030114 65.836562)scale(0.1 -0.1)\">\n",
       "      <use xlink:href=\"#DejaVuSans-56\"/>\n",
       "      <use x=\"68.298828\" xlink:href=\"#DejaVuSans-61\"/>\n",
       "      <use x=\"129.578125\" xlink:href=\"#DejaVuSans-6c\"/>\n",
       "      <use x=\"157.361328\" xlink:href=\"#DejaVuSans-69\"/>\n",
       "      <use x=\"185.144531\" xlink:href=\"#DejaVuSans-64\"/>\n",
       "      <use x=\"248.621094\" xlink:href=\"#DejaVuSans-61\"/>\n",
       "      <use x=\"309.900391\" xlink:href=\"#DejaVuSans-74\"/>\n",
       "      <use x=\"349.109375\" xlink:href=\"#DejaVuSans-69\"/>\n",
       "      <use x=\"376.892578\" xlink:href=\"#DejaVuSans-6f\"/>\n",
       "      <use x=\"438.074219\" xlink:href=\"#DejaVuSans-6e\"/>\n",
       "      <use x=\"501.453125\" xlink:href=\"#DejaVuSans-20\"/>\n",
       "      <use x=\"533.240234\" xlink:href=\"#DejaVuSans-73\"/>\n",
       "      <use x=\"585.339844\" xlink:href=\"#DejaVuSans-65\"/>\n",
       "      <use x=\"646.863281\" xlink:href=\"#DejaVuSans-74\"/>\n",
       "     </g>\n",
       "    </g>\n",
       "   </g>\n",
       "  </g>\n",
       "  <g id=\"axes_2\">\n",
       "   <g id=\"patch_8\">\n",
       "    <path d=\"M 394.363636 252  L 648 252  L 648 34.56  L 394.363636 34.56  z \" style=\"fill:#ffffff;\"/>\n",
       "   </g>\n",
       "   <g id=\"matplotlib.axis_3\">\n",
       "    <g id=\"xtick_6\">\n",
       "     <g id=\"line2d_17\">\n",
       "      <g>\n",
       "       <use style=\"stroke:#000000;stroke-width:0.8;\" x=\"405.892562\" xlink:href=\"#m5d522d3049\" y=\"252\"/>\n",
       "      </g>\n",
       "     </g>\n",
       "     <g id=\"text_15\">\n",
       "      <!-- 0 -->\n",
       "      <g transform=\"translate(402.711312 266.598437)scale(0.1 -0.1)\">\n",
       "       <use xlink:href=\"#DejaVuSans-30\"/>\n",
       "      </g>\n",
       "     </g>\n",
       "    </g>\n",
       "    <g id=\"xtick_7\">\n",
       "     <g id=\"line2d_18\">\n",
       "      <g>\n",
       "       <use style=\"stroke:#000000;stroke-width:0.8;\" x=\"463.53719\" xlink:href=\"#m5d522d3049\" y=\"252\"/>\n",
       "      </g>\n",
       "     </g>\n",
       "     <g id=\"text_16\">\n",
       "      <!-- 10 -->\n",
       "      <g transform=\"translate(457.17469 266.598437)scale(0.1 -0.1)\">\n",
       "       <use xlink:href=\"#DejaVuSans-31\"/>\n",
       "       <use x=\"63.623047\" xlink:href=\"#DejaVuSans-30\"/>\n",
       "      </g>\n",
       "     </g>\n",
       "    </g>\n",
       "    <g id=\"xtick_8\">\n",
       "     <g id=\"line2d_19\">\n",
       "      <g>\n",
       "       <use style=\"stroke:#000000;stroke-width:0.8;\" x=\"521.181818\" xlink:href=\"#m5d522d3049\" y=\"252\"/>\n",
       "      </g>\n",
       "     </g>\n",
       "     <g id=\"text_17\">\n",
       "      <!-- 20 -->\n",
       "      <g transform=\"translate(514.819318 266.598437)scale(0.1 -0.1)\">\n",
       "       <use xlink:href=\"#DejaVuSans-32\"/>\n",
       "       <use x=\"63.623047\" xlink:href=\"#DejaVuSans-30\"/>\n",
       "      </g>\n",
       "     </g>\n",
       "    </g>\n",
       "    <g id=\"xtick_9\">\n",
       "     <g id=\"line2d_20\">\n",
       "      <g>\n",
       "       <use style=\"stroke:#000000;stroke-width:0.8;\" x=\"578.826446\" xlink:href=\"#m5d522d3049\" y=\"252\"/>\n",
       "      </g>\n",
       "     </g>\n",
       "     <g id=\"text_18\">\n",
       "      <!-- 30 -->\n",
       "      <g transform=\"translate(572.463946 266.598437)scale(0.1 -0.1)\">\n",
       "       <use xlink:href=\"#DejaVuSans-33\"/>\n",
       "       <use x=\"63.623047\" xlink:href=\"#DejaVuSans-30\"/>\n",
       "      </g>\n",
       "     </g>\n",
       "    </g>\n",
       "    <g id=\"xtick_10\">\n",
       "     <g id=\"line2d_21\">\n",
       "      <g>\n",
       "       <use style=\"stroke:#000000;stroke-width:0.8;\" x=\"636.471074\" xlink:href=\"#m5d522d3049\" y=\"252\"/>\n",
       "      </g>\n",
       "     </g>\n",
       "     <g id=\"text_19\">\n",
       "      <!-- 40 -->\n",
       "      <g transform=\"translate(630.108574 266.598437)scale(0.1 -0.1)\">\n",
       "       <use xlink:href=\"#DejaVuSans-34\"/>\n",
       "       <use x=\"63.623047\" xlink:href=\"#DejaVuSans-30\"/>\n",
       "      </g>\n",
       "     </g>\n",
       "    </g>\n",
       "    <g id=\"text_20\">\n",
       "     <!-- Epoch -->\n",
       "     <g transform=\"translate(505.870881 280.276563)scale(0.1 -0.1)\">\n",
       "      <use xlink:href=\"#DejaVuSans-45\"/>\n",
       "      <use x=\"63.183594\" xlink:href=\"#DejaVuSans-70\"/>\n",
       "      <use x=\"126.660156\" xlink:href=\"#DejaVuSans-6f\"/>\n",
       "      <use x=\"187.841797\" xlink:href=\"#DejaVuSans-63\"/>\n",
       "      <use x=\"242.822266\" xlink:href=\"#DejaVuSans-68\"/>\n",
       "     </g>\n",
       "    </g>\n",
       "   </g>\n",
       "   <g id=\"matplotlib.axis_4\">\n",
       "    <g id=\"ytick_6\">\n",
       "     <g id=\"line2d_22\">\n",
       "      <g>\n",
       "       <use style=\"stroke:#000000;stroke-width:0.8;\" x=\"394.363636\" xlink:href=\"#m554fb93a5e\" y=\"233.88\"/>\n",
       "      </g>\n",
       "     </g>\n",
       "     <g id=\"text_21\">\n",
       "      <!-- 0.0 -->\n",
       "      <g transform=\"translate(371.460511 237.679219)scale(0.1 -0.1)\">\n",
       "       <use xlink:href=\"#DejaVuSans-30\"/>\n",
       "       <use x=\"63.623047\" xlink:href=\"#DejaVuSans-2e\"/>\n",
       "       <use x=\"95.410156\" xlink:href=\"#DejaVuSans-30\"/>\n",
       "      </g>\n",
       "     </g>\n",
       "    </g>\n",
       "    <g id=\"ytick_7\">\n",
       "     <g id=\"line2d_23\">\n",
       "      <g>\n",
       "       <use style=\"stroke:#000000;stroke-width:0.8;\" x=\"394.363636\" xlink:href=\"#m554fb93a5e\" y=\"197.64\"/>\n",
       "      </g>\n",
       "     </g>\n",
       "     <g id=\"text_22\">\n",
       "      <!-- 0.2 -->\n",
       "      <g transform=\"translate(371.460511 201.439219)scale(0.1 -0.1)\">\n",
       "       <use xlink:href=\"#DejaVuSans-30\"/>\n",
       "       <use x=\"63.623047\" xlink:href=\"#DejaVuSans-2e\"/>\n",
       "       <use x=\"95.410156\" xlink:href=\"#DejaVuSans-32\"/>\n",
       "      </g>\n",
       "     </g>\n",
       "    </g>\n",
       "    <g id=\"ytick_8\">\n",
       "     <g id=\"line2d_24\">\n",
       "      <g>\n",
       "       <use style=\"stroke:#000000;stroke-width:0.8;\" x=\"394.363636\" xlink:href=\"#m554fb93a5e\" y=\"161.4\"/>\n",
       "      </g>\n",
       "     </g>\n",
       "     <g id=\"text_23\">\n",
       "      <!-- 0.4 -->\n",
       "      <g transform=\"translate(371.460511 165.199219)scale(0.1 -0.1)\">\n",
       "       <use xlink:href=\"#DejaVuSans-30\"/>\n",
       "       <use x=\"63.623047\" xlink:href=\"#DejaVuSans-2e\"/>\n",
       "       <use x=\"95.410156\" xlink:href=\"#DejaVuSans-34\"/>\n",
       "      </g>\n",
       "     </g>\n",
       "    </g>\n",
       "    <g id=\"ytick_9\">\n",
       "     <g id=\"line2d_25\">\n",
       "      <g>\n",
       "       <use style=\"stroke:#000000;stroke-width:0.8;\" x=\"394.363636\" xlink:href=\"#m554fb93a5e\" y=\"125.16\"/>\n",
       "      </g>\n",
       "     </g>\n",
       "     <g id=\"text_24\">\n",
       "      <!-- 0.6 -->\n",
       "      <defs>\n",
       "       <path d=\"M 33.015625 40.375  Q 26.375 40.375 22.484375 35.828125  Q 18.609375 31.296875 18.609375 23.390625  Q 18.609375 15.53125 22.484375 10.953125  Q 26.375 6.390625 33.015625 6.390625  Q 39.65625 6.390625 43.53125 10.953125  Q 47.40625 15.53125 47.40625 23.390625  Q 47.40625 31.296875 43.53125 35.828125  Q 39.65625 40.375 33.015625 40.375  z M 52.59375 71.296875  L 52.59375 62.3125  Q 48.875 64.0625 45.09375 64.984375  Q 41.3125 65.921875 37.59375 65.921875  Q 27.828125 65.921875 22.671875 59.328125  Q 17.53125 52.734375 16.796875 39.40625  Q 19.671875 43.65625 24.015625 45.921875  Q 28.375 48.1875 33.59375 48.1875  Q 44.578125 48.1875 50.953125 41.515625  Q 57.328125 34.859375 57.328125 23.390625  Q 57.328125 12.15625 50.6875 5.359375  Q 44.046875 -1.421875 33.015625 -1.421875  Q 20.359375 -1.421875 13.671875 8.265625  Q 6.984375 17.96875 6.984375 36.375  Q 6.984375 53.65625 15.1875 63.9375  Q 23.390625 74.21875 37.203125 74.21875  Q 40.921875 74.21875 44.703125 73.484375  Q 48.484375 72.75 52.59375 71.296875  z \" id=\"DejaVuSans-36\"/>\n",
       "      </defs>\n",
       "      <g transform=\"translate(371.460511 128.959219)scale(0.1 -0.1)\">\n",
       "       <use xlink:href=\"#DejaVuSans-30\"/>\n",
       "       <use x=\"63.623047\" xlink:href=\"#DejaVuSans-2e\"/>\n",
       "       <use x=\"95.410156\" xlink:href=\"#DejaVuSans-36\"/>\n",
       "      </g>\n",
       "     </g>\n",
       "    </g>\n",
       "    <g id=\"ytick_10\">\n",
       "     <g id=\"line2d_26\">\n",
       "      <g>\n",
       "       <use style=\"stroke:#000000;stroke-width:0.8;\" x=\"394.363636\" xlink:href=\"#m554fb93a5e\" y=\"88.92\"/>\n",
       "      </g>\n",
       "     </g>\n",
       "     <g id=\"text_25\">\n",
       "      <!-- 0.8 -->\n",
       "      <defs>\n",
       "       <path d=\"M 31.78125 34.625  Q 24.75 34.625 20.71875 30.859375  Q 16.703125 27.09375 16.703125 20.515625  Q 16.703125 13.921875 20.71875 10.15625  Q 24.75 6.390625 31.78125 6.390625  Q 38.8125 6.390625 42.859375 10.171875  Q 46.921875 13.96875 46.921875 20.515625  Q 46.921875 27.09375 42.890625 30.859375  Q 38.875 34.625 31.78125 34.625  z M 21.921875 38.8125  Q 15.578125 40.375 12.03125 44.71875  Q 8.5 49.078125 8.5 55.328125  Q 8.5 64.0625 14.71875 69.140625  Q 20.953125 74.21875 31.78125 74.21875  Q 42.671875 74.21875 48.875 69.140625  Q 55.078125 64.0625 55.078125 55.328125  Q 55.078125 49.078125 51.53125 44.71875  Q 48 40.375 41.703125 38.8125  Q 48.828125 37.15625 52.796875 32.3125  Q 56.78125 27.484375 56.78125 20.515625  Q 56.78125 9.90625 50.3125 4.234375  Q 43.84375 -1.421875 31.78125 -1.421875  Q 19.734375 -1.421875 13.25 4.234375  Q 6.78125 9.90625 6.78125 20.515625  Q 6.78125 27.484375 10.78125 32.3125  Q 14.796875 37.15625 21.921875 38.8125  z M 18.3125 54.390625  Q 18.3125 48.734375 21.84375 45.5625  Q 25.390625 42.390625 31.78125 42.390625  Q 38.140625 42.390625 41.71875 45.5625  Q 45.3125 48.734375 45.3125 54.390625  Q 45.3125 60.0625 41.71875 63.234375  Q 38.140625 66.40625 31.78125 66.40625  Q 25.390625 66.40625 21.84375 63.234375  Q 18.3125 60.0625 18.3125 54.390625  z \" id=\"DejaVuSans-38\"/>\n",
       "      </defs>\n",
       "      <g transform=\"translate(371.460511 92.719219)scale(0.1 -0.1)\">\n",
       "       <use xlink:href=\"#DejaVuSans-30\"/>\n",
       "       <use x=\"63.623047\" xlink:href=\"#DejaVuSans-2e\"/>\n",
       "       <use x=\"95.410156\" xlink:href=\"#DejaVuSans-38\"/>\n",
       "      </g>\n",
       "     </g>\n",
       "    </g>\n",
       "    <g id=\"ytick_11\">\n",
       "     <g id=\"line2d_27\">\n",
       "      <g>\n",
       "       <use style=\"stroke:#000000;stroke-width:0.8;\" x=\"394.363636\" xlink:href=\"#m554fb93a5e\" y=\"52.68\"/>\n",
       "      </g>\n",
       "     </g>\n",
       "     <g id=\"text_26\">\n",
       "      <!-- 1.0 -->\n",
       "      <g transform=\"translate(371.460511 56.479219)scale(0.1 -0.1)\">\n",
       "       <use xlink:href=\"#DejaVuSans-31\"/>\n",
       "       <use x=\"63.623047\" xlink:href=\"#DejaVuSans-2e\"/>\n",
       "       <use x=\"95.410156\" xlink:href=\"#DejaVuSans-30\"/>\n",
       "      </g>\n",
       "     </g>\n",
       "    </g>\n",
       "   </g>\n",
       "   <g id=\"line2d_28\">\n",
       "    <path clip-path=\"url(#p9ffc3cde00)\" d=\"M 405.892562 222.94458  L 411.657025 99.07626  L 417.421488 75.35416  L 423.18595 71.73318  L 428.950413 69.46214  L 434.714876 68.28132  L 440.479339 67.26962  L 446.243802 66.61126  L 452.008264 66.3153  L 457.772727 65.90156  L 463.53719 65.28548  L 469.301653 64.98952  L 475.066116 64.81738  L 480.830579 64.61504  L 486.595041 64.40968  L 492.359504 64.24056  L 498.123967 63.97178  L 503.88843 63.85098  L 509.652893 63.71508  L 515.417355 63.45234  L 521.181818 63.82682  L 526.946281 63.40704  L 532.710744 63.1745  L 538.475207 63.36778  L 544.239669 63.41308  L 550.004132 63.2802  L 555.768595 63.02652  L 561.533058 63.22584  L 567.297521 63.16846  L 573.061983 62.92082  L 578.826446 62.77586  L 584.590909 63.20168  L 590.355372 63.0235  L 596.119835 62.60372  L 601.884298 62.60674  L 607.64876 62.6913  L 613.413223 62.53728  L 619.177686 62.74264  L 624.942149 62.6158  L 630.706612 62.46178  L 636.471074 62.30474  \" style=\"fill:none;stroke:#1f77b4;stroke-linecap:square;stroke-width:1.5;\"/>\n",
       "   </g>\n",
       "   <g id=\"line2d_29\">\n",
       "    <path clip-path=\"url(#p9ffc3cde00)\" d=\"M 405.892562 223.6422  L 411.657025 67.176  L 417.421488 64.458  L 423.18595 63.53388  L 428.950413 62.39232  L 434.714876 62.02992  L 440.479339 61.39572  L 446.243802 61.12392  L 452.008264 60.72528  L 457.772727 60.59844  L 463.53719 60.50784  L 469.301653 60.58032  L 475.066116 60.09108  L 480.830579 60.21792  L 486.595041 60.0186  L 492.359504 60.12732  L 498.123967 59.58372  L 503.88843 59.8374  L 509.652893 59.928  L 515.417355 59.80116  L 521.181818 60.00048  L 526.946281 59.98236  L 532.710744 59.90988  L 538.475207 59.96424  L 544.239669 59.76492  L 550.004132 59.475  L 555.768595 59.49312  L 561.533058 59.52936  L 567.297521 59.51124  L 573.061983 59.78304  L 578.826446 59.7468  L 584.590909 59.7468  L 590.355372 59.81928  L 596.119835 59.67432  L 601.884298 59.58372  L 607.64876 59.69244  L 613.413223 59.51124  L 619.177686 59.42064  L 624.942149 59.72868  L 630.706612 59.60184  L 636.471074 59.34816  \" style=\"fill:none;stroke:#ff7f0e;stroke-linecap:square;stroke-width:1.5;\"/>\n",
       "   </g>\n",
       "   <g id=\"patch_9\">\n",
       "    <path d=\"M 394.363636 252  L 394.363636 34.56  \" style=\"fill:none;stroke:#000000;stroke-linecap:square;stroke-linejoin:miter;stroke-width:0.8;\"/>\n",
       "   </g>\n",
       "   <g id=\"patch_10\">\n",
       "    <path d=\"M 648 252  L 648 34.56  \" style=\"fill:none;stroke:#000000;stroke-linecap:square;stroke-linejoin:miter;stroke-width:0.8;\"/>\n",
       "   </g>\n",
       "   <g id=\"patch_11\">\n",
       "    <path d=\"M 394.363636 252  L 648 252  \" style=\"fill:none;stroke:#000000;stroke-linecap:square;stroke-linejoin:miter;stroke-width:0.8;\"/>\n",
       "   </g>\n",
       "   <g id=\"patch_12\">\n",
       "    <path d=\"M 394.363636 34.56  L 648 34.56  \" style=\"fill:none;stroke:#000000;stroke-linecap:square;stroke-linejoin:miter;stroke-width:0.8;\"/>\n",
       "   </g>\n",
       "   <g id=\"text_27\">\n",
       "    <!-- MNIST_MLP: Accuracy -->\n",
       "    <defs>\n",
       "     <path d=\"M 34.1875 63.1875  L 20.796875 26.90625  L 47.609375 26.90625  z M 28.609375 72.90625  L 39.796875 72.90625  L 67.578125 0  L 57.328125 0  L 50.6875 18.703125  L 17.828125 18.703125  L 11.1875 0  L 0.78125 0  z \" id=\"DejaVuSans-41\"/>\n",
       "     <path d=\"M 8.5 21.578125  L 8.5 54.6875  L 17.484375 54.6875  L 17.484375 21.921875  Q 17.484375 14.15625 20.5 10.265625  Q 23.53125 6.390625 29.59375 6.390625  Q 36.859375 6.390625 41.078125 11.03125  Q 45.3125 15.671875 45.3125 23.6875  L 45.3125 54.6875  L 54.296875 54.6875  L 54.296875 0  L 45.3125 0  L 45.3125 8.40625  Q 42.046875 3.421875 37.71875 1  Q 33.40625 -1.421875 27.6875 -1.421875  Q 18.265625 -1.421875 13.375 4.4375  Q 8.5 10.296875 8.5 21.578125  z M 31.109375 56  z \" id=\"DejaVuSans-75\"/>\n",
       "     <path d=\"M 32.171875 -5.078125  Q 28.375 -14.84375 24.75 -17.8125  Q 21.140625 -20.796875 15.09375 -20.796875  L 7.90625 -20.796875  L 7.90625 -13.28125  L 13.1875 -13.28125  Q 16.890625 -13.28125 18.9375 -11.515625  Q 21 -9.765625 23.484375 -3.21875  L 25.09375 0.875  L 2.984375 54.6875  L 12.5 54.6875  L 29.59375 11.921875  L 46.6875 54.6875  L 56.203125 54.6875  z \" id=\"DejaVuSans-79\"/>\n",
       "    </defs>\n",
       "    <g transform=\"translate(455.708693 28.56)scale(0.12 -0.12)\">\n",
       "     <use xlink:href=\"#DejaVuSans-4d\"/>\n",
       "     <use x=\"86.279297\" xlink:href=\"#DejaVuSans-4e\"/>\n",
       "     <use x=\"161.083984\" xlink:href=\"#DejaVuSans-49\"/>\n",
       "     <use x=\"190.576172\" xlink:href=\"#DejaVuSans-53\"/>\n",
       "     <use x=\"254.052734\" xlink:href=\"#DejaVuSans-54\"/>\n",
       "     <use x=\"315.136719\" xlink:href=\"#DejaVuSans-5f\"/>\n",
       "     <use x=\"365.136719\" xlink:href=\"#DejaVuSans-4d\"/>\n",
       "     <use x=\"451.416016\" xlink:href=\"#DejaVuSans-4c\"/>\n",
       "     <use x=\"507.128906\" xlink:href=\"#DejaVuSans-50\"/>\n",
       "     <use x=\"567.431641\" xlink:href=\"#DejaVuSans-3a\"/>\n",
       "     <use x=\"601.123047\" xlink:href=\"#DejaVuSans-20\"/>\n",
       "     <use x=\"632.910156\" xlink:href=\"#DejaVuSans-41\"/>\n",
       "     <use x=\"701.302734\" xlink:href=\"#DejaVuSans-63\"/>\n",
       "     <use x=\"756.283203\" xlink:href=\"#DejaVuSans-63\"/>\n",
       "     <use x=\"811.263672\" xlink:href=\"#DejaVuSans-75\"/>\n",
       "     <use x=\"874.642578\" xlink:href=\"#DejaVuSans-72\"/>\n",
       "     <use x=\"915.755859\" xlink:href=\"#DejaVuSans-61\"/>\n",
       "     <use x=\"977.035156\" xlink:href=\"#DejaVuSans-63\"/>\n",
       "     <use x=\"1032.015625\" xlink:href=\"#DejaVuSans-79\"/>\n",
       "    </g>\n",
       "   </g>\n",
       "   <g id=\"legend_2\">\n",
       "    <g id=\"patch_13\">\n",
       "     <path d=\"M 540.39375 247  L 641 247  Q 643 247 643 245  L 643 216.64375  Q 643 214.64375 641 214.64375  L 540.39375 214.64375  Q 538.39375 214.64375 538.39375 216.64375  L 538.39375 245  Q 538.39375 247 540.39375 247  z \" style=\"fill:#ffffff;opacity:0.8;stroke:#cccccc;stroke-linejoin:miter;\"/>\n",
       "    </g>\n",
       "    <g id=\"line2d_30\">\n",
       "     <path d=\"M 542.39375 222.742188  L 562.39375 222.742188  \" style=\"fill:none;stroke:#1f77b4;stroke-linecap:square;stroke-width:1.5;\"/>\n",
       "    </g>\n",
       "    <g id=\"line2d_31\"/>\n",
       "    <g id=\"text_28\">\n",
       "     <!-- Training set -->\n",
       "     <g transform=\"translate(570.39375 226.242188)scale(0.1 -0.1)\">\n",
       "      <use xlink:href=\"#DejaVuSans-54\"/>\n",
       "      <use x=\"60.865234\" xlink:href=\"#DejaVuSans-72\"/>\n",
       "      <use x=\"101.978516\" xlink:href=\"#DejaVuSans-61\"/>\n",
       "      <use x=\"163.257812\" xlink:href=\"#DejaVuSans-69\"/>\n",
       "      <use x=\"191.041016\" xlink:href=\"#DejaVuSans-6e\"/>\n",
       "      <use x=\"254.419922\" xlink:href=\"#DejaVuSans-69\"/>\n",
       "      <use x=\"282.203125\" xlink:href=\"#DejaVuSans-6e\"/>\n",
       "      <use x=\"345.582031\" xlink:href=\"#DejaVuSans-67\"/>\n",
       "      <use x=\"409.058594\" xlink:href=\"#DejaVuSans-20\"/>\n",
       "      <use x=\"440.845703\" xlink:href=\"#DejaVuSans-73\"/>\n",
       "      <use x=\"492.945312\" xlink:href=\"#DejaVuSans-65\"/>\n",
       "      <use x=\"554.46875\" xlink:href=\"#DejaVuSans-74\"/>\n",
       "     </g>\n",
       "    </g>\n",
       "    <g id=\"line2d_32\">\n",
       "     <path d=\"M 542.39375 237.420312  L 562.39375 237.420312  \" style=\"fill:none;stroke:#ff7f0e;stroke-linecap:square;stroke-width:1.5;\"/>\n",
       "    </g>\n",
       "    <g id=\"line2d_33\"/>\n",
       "    <g id=\"text_29\">\n",
       "     <!-- Validation set -->\n",
       "     <g transform=\"translate(570.39375 240.920312)scale(0.1 -0.1)\">\n",
       "      <use xlink:href=\"#DejaVuSans-56\"/>\n",
       "      <use x=\"68.298828\" xlink:href=\"#DejaVuSans-61\"/>\n",
       "      <use x=\"129.578125\" xlink:href=\"#DejaVuSans-6c\"/>\n",
       "      <use x=\"157.361328\" xlink:href=\"#DejaVuSans-69\"/>\n",
       "      <use x=\"185.144531\" xlink:href=\"#DejaVuSans-64\"/>\n",
       "      <use x=\"248.621094\" xlink:href=\"#DejaVuSans-61\"/>\n",
       "      <use x=\"309.900391\" xlink:href=\"#DejaVuSans-74\"/>\n",
       "      <use x=\"349.109375\" xlink:href=\"#DejaVuSans-69\"/>\n",
       "      <use x=\"376.892578\" xlink:href=\"#DejaVuSans-6f\"/>\n",
       "      <use x=\"438.074219\" xlink:href=\"#DejaVuSans-6e\"/>\n",
       "      <use x=\"501.453125\" xlink:href=\"#DejaVuSans-20\"/>\n",
       "      <use x=\"533.240234\" xlink:href=\"#DejaVuSans-73\"/>\n",
       "      <use x=\"585.339844\" xlink:href=\"#DejaVuSans-65\"/>\n",
       "      <use x=\"646.863281\" xlink:href=\"#DejaVuSans-74\"/>\n",
       "     </g>\n",
       "    </g>\n",
       "   </g>\n",
       "  </g>\n",
       " </g>\n",
       " <defs>\n",
       "  <clipPath id=\"p56bcb869f6\">\n",
       "   <rect height=\"217.44\" width=\"253.636364\" x=\"90\" y=\"34.56\"/>\n",
       "  </clipPath>\n",
       "  <clipPath id=\"p9ffc3cde00\">\n",
       "   <rect height=\"217.44\" width=\"253.636364\" x=\"394.363636\" y=\"34.56\"/>\n",
       "  </clipPath>\n",
       " </defs>\n",
       "</svg>"
      ],
      "text/plain": [
       "<IPython.core.display.SVG object>"
      ]
     },
     "metadata": {},
     "output_type": "display_data"
    },
    {
     "name": "stdout",
     "output_type": "stream",
     "text": [
      "========================================================\n",
      "       |  Training |  Training |  Validate |  Validate \n",
      "Epochs |     Error |  Accuracy |     Error |  Accuracy \n",
      "------ | --------- | --------- | --------- | --------- \n",
      "#   40 |   0.18860 |   0.94688 |   0.15976 |   0.96320 \n"
     ]
    }
   ],
   "source": [
    "net.train(epochs=40, batch_size=128)"
   ]
  },
  {
   "cell_type": "markdown",
   "metadata": {},
   "source": [
    "The detailed epoch-by-epoch training history of the network is available by calling `show_results()`. The optional `report_rate` keyword specifies which epochs to show."
   ]
  },
  {
   "cell_type": "code",
   "execution_count": 22,
   "metadata": {},
   "outputs": [
    {
     "name": "stdout",
     "output_type": "stream",
     "text": [
      "       |  Training |  Training |  Validate |  Validate \n",
      "Epochs |     Error |  Accuracy |     Error |  Accuracy \n",
      "------ | --------- | --------- | --------- | --------- \n",
      "#    0 |   2.35797 |   0.06035 |   2.35970 |   0.05650 \n",
      "#    5 |   0.29589 |   0.91390 |   0.17879 |   0.94840 \n",
      "#   10 |   0.24205 |   0.93043 |   0.15831 |   0.95680 \n",
      "#   15 |   0.22031 |   0.93620 |   0.15773 |   0.95890 \n",
      "#   20 |   0.20848 |   0.93848 |   0.15455 |   0.95960 \n",
      "#   25 |   0.20024 |   0.94150 |   0.15280 |   0.96250 \n",
      "#   30 |   0.19709 |   0.94428 |   0.15333 |   0.96100 \n",
      "#   35 |   0.19352 |   0.94475 |   0.16083 |   0.96130 \n",
      "#   40 |   0.18860 |   0.94688 |   0.15976 |   0.96320 \n",
      "========================================================\n",
      "#   40 |   0.18860 |   0.94688 |   0.15976 |   0.96320 \n"
     ]
    }
   ],
   "source": [
    "net.show_results(report_rate=5)"
   ]
  },
  {
   "cell_type": "markdown",
   "metadata": {},
   "source": [
    "The `plot` method shows the value of various network metrics during training. The metrics `loss` and `val_loss` represent the value of the error (loss) function on the training and testing sets, respectively.  Likewise, `acc` and `val_acc` represent the accuracy of the training and testing sets, respectively. The optional `ymin` and `ymax` keywords can be used to adjust the y-axis scale. For example:"
   ]
  },
  {
   "cell_type": "code",
   "execution_count": 23,
   "metadata": {},
   "outputs": [
    {
     "data": {
      "image/png": "[encoded data removed]",
      "text/plain": [
       "<matplotlib.figure.Figure at 0x115af0f60>"
      ]
     },
     "metadata": {},
     "output_type": "display_data"
    }
   ],
   "source": [
    "net.plot(['acc', 'val_acc'], ymin=0.9, ymax=1)"
   ]
  },
  {
   "cell_type": "code",
   "execution_count": 24,
   "metadata": {},
   "outputs": [
    {
     "data": {
      "image/png": "[encoded data removed]",
      "text/plain": [
       "<matplotlib.figure.Figure at 0x11e274780>"
      ]
     },
     "metadata": {},
     "output_type": "display_data"
    }
   ],
   "source": [
    "net.plot(['loss', 'val_loss'], ymin=0, ymax=0.3)"
   ]
  },
  {
   "cell_type": "markdown",
   "metadata": {},
   "source": [
    "After training, the index of the largest output value in response to an input image corresponds to the network's digit classification. For example, test input #42 is shown below, along with the network's response."
   ]
  },
  {
   "cell_type": "code",
   "execution_count": 25,
   "metadata": {},
   "outputs": [
    {
     "data": {
      "image/png": "[encoded data removed]",
      "text/plain": [
       "<matplotlib.figure.Figure at 0x11f5c0b38>"
      ]
     },
     "metadata": {},
     "output_type": "display_data"
    }
   ],
   "source": [
    "cx.view(net.dataset.test_inputs[42])"
   ]
  },
  {
   "cell_type": "code",
   "execution_count": 26,
   "metadata": {},
   "outputs": [
    {
     "data": {
      "text/plain": [
       "[3.937886622371542e-19,\n",
       " 7.931568291041913e-08,\n",
       " 5.5477276106330464e-09,\n",
       " 8.49130188385061e-08,\n",
       " 0.9999492168426514,\n",
       " 2.8673438623449954e-10,\n",
       " 5.939205968393327e-14,\n",
       " 2.8838932848884724e-05,\n",
       " 7.952111885645152e-11,\n",
       " 2.1767169528175145e-05]"
      ]
     },
     "execution_count": 26,
     "metadata": {},
     "output_type": "execute_result"
    }
   ],
   "source": [
    "net.propagate(net.dataset.test_inputs[42])"
   ]
  },
  {
   "cell_type": "code",
   "execution_count": 27,
   "metadata": {},
   "outputs": [
    {
     "data": {
      "text/plain": [
       "4"
      ]
     },
     "execution_count": 27,
     "metadata": {},
     "output_type": "execute_result"
    }
   ],
   "source": [
    "cx.argmax(net.propagate(net.dataset.test_inputs[42]))"
   ]
  },
  {
   "cell_type": "markdown",
   "metadata": {},
   "source": [
    "Examining the weights into the same three hidden units as before shows that these units have learned to respond in different ways to different parts of the input image."
   ]
  },
  {
   "cell_type": "code",
   "execution_count": 28,
   "metadata": {},
   "outputs": [
    {
     "data": {
      "image/png": "[encoded data removed]",
      "text/plain": [
       "<matplotlib.figure.Figure at 0x11d749518>"
      ]
     },
     "metadata": {},
     "output_type": "display_data"
    }
   ],
   "source": [
    "net.plot_layer_weights('hidden1', units=[0,1,2], vshape=(28,28), wrange=(-1.5, 1.5))"
   ]
  },
  {
   "cell_type": "markdown",
   "metadata": {},
   "source": [
    "## A Convolutional Network for MNIST Classification\n",
    "\n",
    "Convolutional neural networks (CNNs) are loosely inspired by the neurobiology of the visual system. The key idea is that each unit in a convolutional layer receives connections from a limited number of units in the previous layer (which can be thought of as the unit's \"visual field\"), and these connections are arranged in a two-dimensional topology to take advantage of spatial information. Each convolutional layer specifies a number of independent *features* to be learned, along with the *N*&nbsp;&times;&nbsp;*N* size of the visual field (also called the *kernel size*). The units responsible for learning a feature share connections across the entire convolutional layer, which often leads to far fewer network parameters compared to a network with fully-connected layers.\n",
    "\n",
    "Another type of layer common to CNNs is the *pooling* layer, which reduces the amount of information flowing through the network by the process of subsampling. Each pooling unit receives input from a limited number of units in the previous layer, and then applies some function (like *maximum* or *average*) to these inputs. The overall effect is to produce a coarser-grained version of the information from the previous layer, which makes the network less sensitive to small variations in position.\n",
    "\n",
    "We will define a CNN for MNIST classification using two convolutional layers with 5 &times; 5 kernels, each followed by a pooling layer with 2 &times; 2 kernels that compute the maximum of their inputs. The first convolutional layer will learn 16 relatively low-level features, whereas the second will learn 32 higher-level features. These features will then feed into a hidden layer (after being flattened), followed by an output classification layer using *Softmax*."
   ]
  },
  {
   "cell_type": "code",
   "execution_count": 32,
   "metadata": {},
   "outputs": [],
   "source": [
    "cnn = cx.Network(\"MNIST_CNN\")\n",
    "\n",
    "cnn.add(cx.Layer(\"input\", (28,28,1), colormap=\"gray\"),\n",
    "        cx.Conv2DLayer(\"conv2D_1\", 16, (5,5), activation=\"relu\", dropout=0.2),\n",
    "        cx.MaxPool2DLayer(\"maxpool1\", (2,2)),\n",
    "        cx.Conv2DLayer(\"conv2D_2\", 32, (5,5), activation=\"relu\", dropout=0.2),\n",
    "        cx.MaxPool2DLayer(\"maxpool2\", (2,2)),\n",
    "        cx.FlattenLayer(\"flat\"),\n",
    "        cx.Layer(\"hidden\", 30, activation='relu'),\n",
    "        cx.Layer(\"output\", 10, activation='softmax'))\n",
    "\n",
    "cnn.connect()"
   ]
  },
  {
   "cell_type": "code",
   "execution_count": 33,
   "metadata": {},
   "outputs": [
    {
     "name": "stdout",
     "output_type": "stream",
     "text": [
      "_________________________________________________________________\n",
      "MNIST:\n",
      "Pattern     Shape                 Range                         \n",
      "=================================================================\n",
      "inputs      (28, 28, 1)           (0.0, 1.0)                    \n",
      "targets     (10,)                 (0.0, 1.0)                    \n",
      "=================================================================\n",
      "Total patterns: 70000\n",
      "   Training patterns: 60000\n",
      "   Testing patterns: 10000\n",
      "_________________________________________________________________\n"
     ]
    }
   ],
   "source": [
    "cnn.dataset.get(\"MNIST\")\n",
    "cnn.dataset.split(10000)\n",
    "cnn.dataset.summary()"
   ]
  },
  {
   "cell_type": "code",
   "execution_count": 34,
   "metadata": {},
   "outputs": [
    {
     "name": "stdout",
     "output_type": "stream",
     "text": [
      "_________________________________________________________________\n",
      "Layer (type)                 Output Shape              Param #   \n",
      "=================================================================\n",
      "input (InputLayer)           (None, 28, 28, 1)         0         \n",
      "_________________________________________________________________\n",
      "conv2D_1 (Conv2D)            (None, 24, 24, 16)        416       \n",
      "_________________________________________________________________\n",
      "dropout_3 (Dropout)          (None, 24, 24, 16)        0         \n",
      "_________________________________________________________________\n",
      "maxpool1 (MaxPooling2D)      (None, 12, 12, 16)        0         \n",
      "_________________________________________________________________\n",
      "conv2D_2 (Conv2D)            (None, 8, 8, 32)          12832     \n",
      "_________________________________________________________________\n",
      "dropout_4 (Dropout)          (None, 8, 8, 32)          0         \n",
      "_________________________________________________________________\n",
      "maxpool2 (MaxPooling2D)      (None, 4, 4, 32)          0         \n",
      "_________________________________________________________________\n",
      "flat (Flatten)               (None, 512)               0         \n",
      "_________________________________________________________________\n",
      "hidden (Dense)               (None, 30)                15390     \n",
      "_________________________________________________________________\n",
      "output (Dense)               (None, 10)                310       \n",
      "=================================================================\n",
      "Total params: 28,948\n",
      "Trainable params: 28,948\n",
      "Non-trainable params: 0\n",
      "_________________________________________________________________\n"
     ]
    }
   ],
   "source": [
    "cnn.compile(error='categorical_crossentropy', optimizer='rmsprop')\n",
    "cnn.summary()"
   ]
  },
  {
   "cell_type": "code",
   "execution_count": 35,
   "metadata": {},
   "outputs": [
    {
     "data": {
      "application/vnd.jupyter.widget-view+json": {
       "model_id": "10a8798faa0c4e4ca28535857da3ff0c",
       "version_major": 2,
       "version_minor": 0
      },
      "text/html": [
       "<p>Failed to display Jupyter Widget of type <code>Dashboard</code>.</p>\n",
       "<p>\n",
       "  If you're reading this message in the Jupyter Notebook or JupyterLab Notebook, it may mean\n",
       "  that the widgets JavaScript is still loading. If this message persists, it\n",
       "  likely means that the widgets JavaScript library is either not installed or\n",
       "  not enabled. See the <a href=\"https://ipywidgets.readthedocs.io/en/stable/user_install.html\">Jupyter\n",
       "  Widgets Documentation</a> for setup instructions.\n",
       "</p>\n",
       "<p>\n",
       "  If you're reading this message in another frontend (for example, a static\n",
       "  rendering on GitHub or <a href=\"https://nbviewer.jupyter.org/\">NBViewer</a>),\n",
       "  it may mean that your frontend doesn't currently support widgets.\n",
       "</p>\n"
      ],
      "text/plain": [
       "Dashboard(children=(Accordion(children=(HBox(children=(VBox(children=(Select(description='Dataset:', options=('Test', 'Train'), rows=1, value='Test'), FloatSlider(value=1.0, continuous_update=False, description='Zoom', layout=Layout(width='65%'), max=1.0, style=SliderStyle(description_width='initial')), IntText(value=150, description='Horizontal space between banks:', style=DescriptionStyle(description_width='initial')), IntText(value=30, description='Vertical space between layers:', style=DescriptionStyle(description_width='initial')), HBox(children=(Checkbox(value=True, description='Show Targets', style=DescriptionStyle(description_width='initial')), Checkbox(value=False, description='Errors', style=DescriptionStyle(description_width='initial')))), Select(description='Features:', index=2, options=('', 'input', 'conv2D_1', 'maxpool1', 'conv2D_2', 'maxpool2'), rows=1, value='conv2D_1'), IntText(value=8, description='Feature columns:', style=DescriptionStyle(description_width='initial')), FloatText(value=4.0, description='Feature scale:', style=DescriptionStyle(description_width='initial'))), layout=Layout(width='100%')), VBox(children=(Select(description='Layer:', index=7, options=('input', 'conv2D_1', 'maxpool1', 'conv2D_2', 'maxpool2', 'flat', 'hidden', 'output'), rows=1, value='output'), Checkbox(value=True, description='Visible'), Select(description='Colormap:', options=('', 'Accent', 'Accent_r', 'Blues', 'Blues_r', 'BrBG', 'BrBG_r', 'BuGn', 'BuGn_r', 'BuPu', 'BuPu_r', 'CMRmap', 'CMRmap_r', 'Dark2', 'Dark2_r', 'GnBu', 'GnBu_r', 'Greens', 'Greens_r', 'Greys', 'Greys_r', 'OrRd', 'OrRd_r', 'Oranges', 'Oranges_r', 'PRGn', 'PRGn_r', 'Paired', 'Paired_r', 'Pastel1', 'Pastel1_r', 'Pastel2', 'Pastel2_r', 'PiYG', 'PiYG_r', 'PuBu', 'PuBuGn', 'PuBuGn_r', 'PuBu_r', 'PuOr', 'PuOr_r', 'PuRd', 'PuRd_r', 'Purples', 'Purples_r', 'RdBu', 'RdBu_r', 'RdGy', 'RdGy_r', 'RdPu', 'RdPu_r', 'RdYlBu', 'RdYlBu_r', 'RdYlGn', 'RdYlGn_r', 'Reds', 'Reds_r', 'Set1', 'Set1_r', 'Set2', 'Set2_r', 'Set3', 'Set3_r', 'Spectral', 'Spectral_r', 'Vega10', 'Vega10_r', 'Vega20', 'Vega20_r', 'Vega20b', 'Vega20b_r', 'Vega20c', 'Vega20c_r', 'Wistia', 'Wistia_r', 'YlGn', 'YlGnBu', 'YlGnBu_r', 'YlGn_r', 'YlOrBr', 'YlOrBr_r', 'YlOrRd', 'YlOrRd_r', 'afmhot', 'afmhot_r', 'autumn', 'autumn_r', 'binary', 'binary_r', 'bone', 'bone_r', 'brg', 'brg_r', 'bwr', 'bwr_r', 'cool', 'cool_r', 'coolwarm', 'coolwarm_r', 'copper', 'copper_r', 'cubehelix', 'cubehelix_r', 'flag', 'flag_r', 'gist_earth', 'gist_earth_r', 'gist_gray', 'gist_gray_r', 'gist_heat', 'gist_heat_r', 'gist_ncar', 'gist_ncar_r', 'gist_rainbow', 'gist_rainbow_r', 'gist_stern', 'gist_stern_r', 'gist_yarg', 'gist_yarg_r', 'gnuplot', 'gnuplot2', 'gnuplot2_r', 'gnuplot_r', 'gray', 'gray_r', 'hot', 'hot_r', 'hsv', 'hsv_r', 'inferno', 'inferno_r', 'jet', 'jet_r', 'magma', 'magma_r', 'nipy_spectral', 'nipy_spectral_r', 'ocean', 'ocean_r', 'pink', 'pink_r', 'plasma', 'plasma_r', 'prism', 'prism_r', 'rainbow', 'rainbow_r', 'seismic', 'seismic_r', 'spectral', 'spectral_r', 'spring', 'spring_r', 'summer', 'summer_r', 'tab10', 'tab10_r', 'tab20', 'tab20_r', 'tab20b', 'tab20b_r', 'tab20c', 'tab20c_r', 'terrain', 'terrain_r', 'viridis', 'viridis_r', 'winter', 'winter_r'), rows=1, value=''), HTML(value='<img src=\"data:image/gif;base64,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\"/>'), FloatText(value=-1.0, description='Leftmost color maps to:', style=DescriptionStyle(description_width='initial')), FloatText(value=1.0, description='Rightmost color maps to:', style=DescriptionStyle(description_width='initial')), IntText(value=0, description='Feature to show:', style=DescriptionStyle(description_width='initial')), HBox(children=(Checkbox(value=True, description='Rotate network', layout=Layout(width='52%'), style=DescriptionStyle(description_width='initial')), Button(icon='save', layout=Layout(width='10%'), style=ButtonStyle())))), layout=Layout(width='100%')))),), selected_index=None, _titles={'0': 'MNIST_CNN'}), VBox(children=(HBox(children=(IntSlider(value=0, continuous_update=False, description='Dataset index', layout=Layout(width='100%'), max=59999), Label(value='of 10000', layout=Layout(width='100px'))), layout=Layout(height='40px')), HBox(children=(Button(icon='fast-backward', layout=Layout(width='100%'), style=ButtonStyle()), Button(icon='backward', layout=Layout(width='100%'), style=ButtonStyle()), IntText(value=0, layout=Layout(width='100%')), Button(icon='forward', layout=Layout(width='100%'), style=ButtonStyle()), Button(icon='fast-forward', layout=Layout(width='100%'), style=ButtonStyle()), Button(description='Play', icon='play', layout=Layout(width='100%'), style=ButtonStyle()), Button(icon='refresh', layout=Layout(width='25%'), style=ButtonStyle())), layout=Layout(height='50px', width='100%'))), layout=Layout(width='100%')), HTML(value='<p style=\"text-align:center\"></p>', layout=Layout(justify_content='center', overflow_x='auto', overflow_y='auto', width='95%')), Output()))"
      ]
     },
     "metadata": {},
     "output_type": "display_data"
    },
    {
     "data": {
      "application/javascript": [
       "\n",
       "require(['base/js/namespace'], function(Jupyter) {\n",
       "    Jupyter.notebook.kernel.comm_manager.register_target('conx_svg_control', function(comm, msg) {\n",
       "        comm.on_msg(function(msg) {\n",
       "            var data = msg[\"content\"][\"data\"];\n",
       "            var images = document.getElementsByClassName(data[\"class\"]);\n",
       "            for (var i = 0; i < images.length; i++) {\n",
       "                if (data[\"href\"]) {\n",
       "                    images[i].setAttributeNS(null, \"href\", data[\"href\"]);\n",
       "                }\n",
       "                if (data[\"src\"]) {\n",
       "                    images[i].setAttributeNS(null, \"src\", data[\"src\"]);\n",
       "                }\n",
       "            }\n",
       "        });\n",
       "    });\n",
       "});\n"
      ],
      "text/plain": [
       "<IPython.core.display.Javascript object>"
      ]
     },
     "metadata": {},
     "output_type": "display_data"
    }
   ],
   "source": [
    "cnn.dashboard()"
   ]
  },
  {
   "cell_type": "code",
   "execution_count": 31,
   "metadata": {},
   "outputs": [
    {
     "data": {
      "image/svg+xml": [
       "<svg height=\"288pt\" version=\"1.1\" viewBox=\"0 0 720 288\" width=\"720pt\" xmlns=\"http://www.w3.org/2000/svg\" xmlns:xlink=\"http://www.w3.org/1999/xlink\">\n",
       " <defs>\n",
       "  <style type=\"text/css\">\n",
       "*{stroke-linecap:butt;stroke-linejoin:round;}\n",
       "  </style>\n",
       " </defs>\n",
       " <g id=\"figure_1\">\n",
       "  <g id=\"patch_1\">\n",
       "   <path d=\"M 0 288  L 720 288  L 720 0  L 0 0  z \" style=\"fill:#ffffff;\"/>\n",
       "  </g>\n",
       "  <g id=\"axes_1\">\n",
       "   <g id=\"patch_2\">\n",
       "    <path d=\"M 90 252  L 343.636364 252  L 343.636364 34.56  L 90 34.56  z \" style=\"fill:#ffffff;\"/>\n",
       "   </g>\n",
       "   <g id=\"matplotlib.axis_1\">\n",
       "    <g id=\"xtick_1\">\n",
       "     <g id=\"line2d_1\">\n",
       "      <defs>\n",
       "       <path d=\"M 0 0  L 0 3.5  \" id=\"me385223d6a\" style=\"stroke:#000000;stroke-width:0.8;\"/>\n",
       "      </defs>\n",
       "      <g>\n",
       "       <use style=\"stroke:#000000;stroke-width:0.8;\" x=\"101.528926\" xlink:href=\"#me385223d6a\" y=\"252\"/>\n",
       "      </g>\n",
       "     </g>\n",
       "     <g id=\"text_1\">\n",
       "      <!-- 0 -->\n",
       "      <defs>\n",
       "       <path d=\"M 31.78125 66.40625  Q 24.171875 66.40625 20.328125 58.90625  Q 16.5 51.421875 16.5 36.375  Q 16.5 21.390625 20.328125 13.890625  Q 24.171875 6.390625 31.78125 6.390625  Q 39.453125 6.390625 43.28125 13.890625  Q 47.125 21.390625 47.125 36.375  Q 47.125 51.421875 43.28125 58.90625  Q 39.453125 66.40625 31.78125 66.40625  z M 31.78125 74.21875  Q 44.046875 74.21875 50.515625 64.515625  Q 56.984375 54.828125 56.984375 36.375  Q 56.984375 17.96875 50.515625 8.265625  Q 44.046875 -1.421875 31.78125 -1.421875  Q 19.53125 -1.421875 13.0625 8.265625  Q 6.59375 17.96875 6.59375 36.375  Q 6.59375 54.828125 13.0625 64.515625  Q 19.53125 74.21875 31.78125 74.21875  z \" id=\"DejaVuSans-30\"/>\n",
       "      </defs>\n",
       "      <g transform=\"translate(98.347676 266.598437)scale(0.1 -0.1)\">\n",
       "       <use xlink:href=\"#DejaVuSans-30\"/>\n",
       "      </g>\n",
       "     </g>\n",
       "    </g>\n",
       "    <g id=\"xtick_2\">\n",
       "     <g id=\"line2d_2\">\n",
       "      <g>\n",
       "       <use style=\"stroke:#000000;stroke-width:0.8;\" x=\"147.644628\" xlink:href=\"#me385223d6a\" y=\"252\"/>\n",
       "      </g>\n",
       "     </g>\n",
       "     <g id=\"text_2\">\n",
       "      <!-- 1 -->\n",
       "      <defs>\n",
       "       <path d=\"M 12.40625 8.296875  L 28.515625 8.296875  L 28.515625 63.921875  L 10.984375 60.40625  L 10.984375 69.390625  L 28.421875 72.90625  L 38.28125 72.90625  L 38.28125 8.296875  L 54.390625 8.296875  L 54.390625 0  L 12.40625 0  z \" id=\"DejaVuSans-31\"/>\n",
       "      </defs>\n",
       "      <g transform=\"translate(144.463378 266.598437)scale(0.1 -0.1)\">\n",
       "       <use xlink:href=\"#DejaVuSans-31\"/>\n",
       "      </g>\n",
       "     </g>\n",
       "    </g>\n",
       "    <g id=\"xtick_3\">\n",
       "     <g id=\"line2d_3\">\n",
       "      <g>\n",
       "       <use style=\"stroke:#000000;stroke-width:0.8;\" x=\"193.760331\" xlink:href=\"#me385223d6a\" y=\"252\"/>\n",
       "      </g>\n",
       "     </g>\n",
       "     <g id=\"text_3\">\n",
       "      <!-- 2 -->\n",
       "      <defs>\n",
       "       <path d=\"M 19.1875 8.296875  L 53.609375 8.296875  L 53.609375 0  L 7.328125 0  L 7.328125 8.296875  Q 12.9375 14.109375 22.625 23.890625  Q 32.328125 33.6875 34.8125 36.53125  Q 39.546875 41.84375 41.421875 45.53125  Q 43.3125 49.21875 43.3125 52.78125  Q 43.3125 58.59375 39.234375 62.25  Q 35.15625 65.921875 28.609375 65.921875  Q 23.96875 65.921875 18.8125 64.3125  Q 13.671875 62.703125 7.8125 59.421875  L 7.8125 69.390625  Q 13.765625 71.78125 18.9375 73  Q 24.125 74.21875 28.421875 74.21875  Q 39.75 74.21875 46.484375 68.546875  Q 53.21875 62.890625 53.21875 53.421875  Q 53.21875 48.921875 51.53125 44.890625  Q 49.859375 40.875 45.40625 35.40625  Q 44.1875 33.984375 37.640625 27.21875  Q 31.109375 20.453125 19.1875 8.296875  z \" id=\"DejaVuSans-32\"/>\n",
       "      </defs>\n",
       "      <g transform=\"translate(190.579081 266.598437)scale(0.1 -0.1)\">\n",
       "       <use xlink:href=\"#DejaVuSans-32\"/>\n",
       "      </g>\n",
       "     </g>\n",
       "    </g>\n",
       "    <g id=\"xtick_4\">\n",
       "     <g id=\"line2d_4\">\n",
       "      <g>\n",
       "       <use style=\"stroke:#000000;stroke-width:0.8;\" x=\"239.876033\" xlink:href=\"#me385223d6a\" y=\"252\"/>\n",
       "      </g>\n",
       "     </g>\n",
       "     <g id=\"text_4\">\n",
       "      <!-- 3 -->\n",
       "      <defs>\n",
       "       <path d=\"M 40.578125 39.3125  Q 47.65625 37.796875 51.625 33  Q 55.609375 28.21875 55.609375 21.1875  Q 55.609375 10.40625 48.1875 4.484375  Q 40.765625 -1.421875 27.09375 -1.421875  Q 22.515625 -1.421875 17.65625 -0.515625  Q 12.796875 0.390625 7.625 2.203125  L 7.625 11.71875  Q 11.71875 9.328125 16.59375 8.109375  Q 21.484375 6.890625 26.8125 6.890625  Q 36.078125 6.890625 40.9375 10.546875  Q 45.796875 14.203125 45.796875 21.1875  Q 45.796875 27.640625 41.28125 31.265625  Q 36.765625 34.90625 28.71875 34.90625  L 20.21875 34.90625  L 20.21875 43.015625  L 29.109375 43.015625  Q 36.375 43.015625 40.234375 45.921875  Q 44.09375 48.828125 44.09375 54.296875  Q 44.09375 59.90625 40.109375 62.90625  Q 36.140625 65.921875 28.71875 65.921875  Q 24.65625 65.921875 20.015625 65.03125  Q 15.375 64.15625 9.8125 62.3125  L 9.8125 71.09375  Q 15.4375 72.65625 20.34375 73.4375  Q 25.25 74.21875 29.59375 74.21875  Q 40.828125 74.21875 47.359375 69.109375  Q 53.90625 64.015625 53.90625 55.328125  Q 53.90625 49.265625 50.4375 45.09375  Q 46.96875 40.921875 40.578125 39.3125  z \" id=\"DejaVuSans-33\"/>\n",
       "      </defs>\n",
       "      <g transform=\"translate(236.694783 266.598437)scale(0.1 -0.1)\">\n",
       "       <use xlink:href=\"#DejaVuSans-33\"/>\n",
       "      </g>\n",
       "     </g>\n",
       "    </g>\n",
       "    <g id=\"xtick_5\">\n",
       "     <g id=\"line2d_5\">\n",
       "      <g>\n",
       "       <use style=\"stroke:#000000;stroke-width:0.8;\" x=\"285.991736\" xlink:href=\"#me385223d6a\" y=\"252\"/>\n",
       "      </g>\n",
       "     </g>\n",
       "     <g id=\"text_5\">\n",
       "      <!-- 4 -->\n",
       "      <defs>\n",
       "       <path d=\"M 37.796875 64.3125  L 12.890625 25.390625  L 37.796875 25.390625  z M 35.203125 72.90625  L 47.609375 72.90625  L 47.609375 25.390625  L 58.015625 25.390625  L 58.015625 17.1875  L 47.609375 17.1875  L 47.609375 0  L 37.796875 0  L 37.796875 17.1875  L 4.890625 17.1875  L 4.890625 26.703125  z \" id=\"DejaVuSans-34\"/>\n",
       "      </defs>\n",
       "      <g transform=\"translate(282.810486 266.598437)scale(0.1 -0.1)\">\n",
       "       <use xlink:href=\"#DejaVuSans-34\"/>\n",
       "      </g>\n",
       "     </g>\n",
       "    </g>\n",
       "    <g id=\"xtick_6\">\n",
       "     <g id=\"line2d_6\">\n",
       "      <g>\n",
       "       <use style=\"stroke:#000000;stroke-width:0.8;\" x=\"332.107438\" xlink:href=\"#me385223d6a\" y=\"252\"/>\n",
       "      </g>\n",
       "     </g>\n",
       "     <g id=\"text_6\">\n",
       "      <!-- 5 -->\n",
       "      <defs>\n",
       "       <path d=\"M 10.796875 72.90625  L 49.515625 72.90625  L 49.515625 64.59375  L 19.828125 64.59375  L 19.828125 46.734375  Q 21.96875 47.46875 24.109375 47.828125  Q 26.265625 48.1875 28.421875 48.1875  Q 40.625 48.1875 47.75 41.5  Q 54.890625 34.8125 54.890625 23.390625  Q 54.890625 11.625 47.5625 5.09375  Q 40.234375 -1.421875 26.90625 -1.421875  Q 22.3125 -1.421875 17.546875 -0.640625  Q 12.796875 0.140625 7.71875 1.703125  L 7.71875 11.625  Q 12.109375 9.234375 16.796875 8.0625  Q 21.484375 6.890625 26.703125 6.890625  Q 35.15625 6.890625 40.078125 11.328125  Q 45.015625 15.765625 45.015625 23.390625  Q 45.015625 31 40.078125 35.4375  Q 35.15625 39.890625 26.703125 39.890625  Q 22.75 39.890625 18.8125 39.015625  Q 14.890625 38.140625 10.796875 36.28125  z \" id=\"DejaVuSans-35\"/>\n",
       "      </defs>\n",
       "      <g transform=\"translate(328.926188 266.598437)scale(0.1 -0.1)\">\n",
       "       <use xlink:href=\"#DejaVuSans-35\"/>\n",
       "      </g>\n",
       "     </g>\n",
       "    </g>\n",
       "    <g id=\"text_7\">\n",
       "     <!-- Epoch -->\n",
       "     <defs>\n",
       "      <path d=\"M 9.8125 72.90625  L 55.90625 72.90625  L 55.90625 64.59375  L 19.671875 64.59375  L 19.671875 43.015625  L 54.390625 43.015625  L 54.390625 34.71875  L 19.671875 34.71875  L 19.671875 8.296875  L 56.78125 8.296875  L 56.78125 0  L 9.8125 0  z \" id=\"DejaVuSans-45\"/>\n",
       "      <path d=\"M 18.109375 8.203125  L 18.109375 -20.796875  L 9.078125 -20.796875  L 9.078125 54.6875  L 18.109375 54.6875  L 18.109375 46.390625  Q 20.953125 51.265625 25.265625 53.625  Q 29.59375 56 35.59375 56  Q 45.5625 56 51.78125 48.09375  Q 58.015625 40.1875 58.015625 27.296875  Q 58.015625 14.40625 51.78125 6.484375  Q 45.5625 -1.421875 35.59375 -1.421875  Q 29.59375 -1.421875 25.265625 0.953125  Q 20.953125 3.328125 18.109375 8.203125  z M 48.6875 27.296875  Q 48.6875 37.203125 44.609375 42.84375  Q 40.53125 48.484375 33.40625 48.484375  Q 26.265625 48.484375 22.1875 42.84375  Q 18.109375 37.203125 18.109375 27.296875  Q 18.109375 17.390625 22.1875 11.75  Q 26.265625 6.109375 33.40625 6.109375  Q 40.53125 6.109375 44.609375 11.75  Q 48.6875 17.390625 48.6875 27.296875  z \" id=\"DejaVuSans-70\"/>\n",
       "      <path d=\"M 30.609375 48.390625  Q 23.390625 48.390625 19.1875 42.75  Q 14.984375 37.109375 14.984375 27.296875  Q 14.984375 17.484375 19.15625 11.84375  Q 23.34375 6.203125 30.609375 6.203125  Q 37.796875 6.203125 41.984375 11.859375  Q 46.1875 17.53125 46.1875 27.296875  Q 46.1875 37.015625 41.984375 42.703125  Q 37.796875 48.390625 30.609375 48.390625  z M 30.609375 56  Q 42.328125 56 49.015625 48.375  Q 55.71875 40.765625 55.71875 27.296875  Q 55.71875 13.875 49.015625 6.21875  Q 42.328125 -1.421875 30.609375 -1.421875  Q 18.84375 -1.421875 12.171875 6.21875  Q 5.515625 13.875 5.515625 27.296875  Q 5.515625 40.765625 12.171875 48.375  Q 18.84375 56 30.609375 56  z \" id=\"DejaVuSans-6f\"/>\n",
       "      <path d=\"M 48.78125 52.59375  L 48.78125 44.1875  Q 44.96875 46.296875 41.140625 47.34375  Q 37.3125 48.390625 33.40625 48.390625  Q 24.65625 48.390625 19.8125 42.84375  Q 14.984375 37.3125 14.984375 27.296875  Q 14.984375 17.28125 19.8125 11.734375  Q 24.65625 6.203125 33.40625 6.203125  Q 37.3125 6.203125 41.140625 7.25  Q 44.96875 8.296875 48.78125 10.40625  L 48.78125 2.09375  Q 45.015625 0.34375 40.984375 -0.53125  Q 36.96875 -1.421875 32.421875 -1.421875  Q 20.0625 -1.421875 12.78125 6.34375  Q 5.515625 14.109375 5.515625 27.296875  Q 5.515625 40.671875 12.859375 48.328125  Q 20.21875 56 33.015625 56  Q 37.15625 56 41.109375 55.140625  Q 45.0625 54.296875 48.78125 52.59375  z \" id=\"DejaVuSans-63\"/>\n",
       "      <path d=\"M 54.890625 33.015625  L 54.890625 0  L 45.90625 0  L 45.90625 32.71875  Q 45.90625 40.484375 42.875 44.328125  Q 39.84375 48.1875 33.796875 48.1875  Q 26.515625 48.1875 22.3125 43.546875  Q 18.109375 38.921875 18.109375 30.90625  L 18.109375 0  L 9.078125 0  L 9.078125 75.984375  L 18.109375 75.984375  L 18.109375 46.1875  Q 21.34375 51.125 25.703125 53.5625  Q 30.078125 56 35.796875 56  Q 45.21875 56 50.046875 50.171875  Q 54.890625 44.34375 54.890625 33.015625  z \" id=\"DejaVuSans-68\"/>\n",
       "     </defs>\n",
       "     <g transform=\"translate(201.507244 280.276563)scale(0.1 -0.1)\">\n",
       "      <use xlink:href=\"#DejaVuSans-45\"/>\n",
       "      <use x=\"63.183594\" xlink:href=\"#DejaVuSans-70\"/>\n",
       "      <use x=\"126.660156\" xlink:href=\"#DejaVuSans-6f\"/>\n",
       "      <use x=\"187.841797\" xlink:href=\"#DejaVuSans-63\"/>\n",
       "      <use x=\"242.822266\" xlink:href=\"#DejaVuSans-68\"/>\n",
       "     </g>\n",
       "    </g>\n",
       "   </g>\n",
       "   <g id=\"matplotlib.axis_2\">\n",
       "    <g id=\"ytick_1\">\n",
       "     <g id=\"line2d_7\">\n",
       "      <defs>\n",
       "       <path d=\"M 0 0  L -3.5 0  \" id=\"me371036a26\" style=\"stroke:#000000;stroke-width:0.8;\"/>\n",
       "      </defs>\n",
       "      <g>\n",
       "       <use style=\"stroke:#000000;stroke-width:0.8;\" x=\"90\" xlink:href=\"#me371036a26\" y=\"252\"/>\n",
       "      </g>\n",
       "     </g>\n",
       "     <g id=\"text_8\">\n",
       "      <!-- 0.0 -->\n",
       "      <defs>\n",
       "       <path d=\"M 10.6875 12.40625  L 21 12.40625  L 21 0  L 10.6875 0  z \" id=\"DejaVuSans-2e\"/>\n",
       "      </defs>\n",
       "      <g transform=\"translate(67.096875 255.799219)scale(0.1 -0.1)\">\n",
       "       <use xlink:href=\"#DejaVuSans-30\"/>\n",
       "       <use x=\"63.623047\" xlink:href=\"#DejaVuSans-2e\"/>\n",
       "       <use x=\"95.410156\" xlink:href=\"#DejaVuSans-30\"/>\n",
       "      </g>\n",
       "     </g>\n",
       "    </g>\n",
       "    <g id=\"ytick_2\">\n",
       "     <g id=\"line2d_8\">\n",
       "      <g>\n",
       "       <use style=\"stroke:#000000;stroke-width:0.8;\" x=\"90\" xlink:href=\"#me371036a26\" y=\"207.032764\"/>\n",
       "      </g>\n",
       "     </g>\n",
       "     <g id=\"text_9\">\n",
       "      <!-- 0.5 -->\n",
       "      <g transform=\"translate(67.096875 210.831983)scale(0.1 -0.1)\">\n",
       "       <use xlink:href=\"#DejaVuSans-30\"/>\n",
       "       <use x=\"63.623047\" xlink:href=\"#DejaVuSans-2e\"/>\n",
       "       <use x=\"95.410156\" xlink:href=\"#DejaVuSans-35\"/>\n",
       "      </g>\n",
       "     </g>\n",
       "    </g>\n",
       "    <g id=\"ytick_3\">\n",
       "     <g id=\"line2d_9\">\n",
       "      <g>\n",
       "       <use style=\"stroke:#000000;stroke-width:0.8;\" x=\"90\" xlink:href=\"#me371036a26\" y=\"162.065528\"/>\n",
       "      </g>\n",
       "     </g>\n",
       "     <g id=\"text_10\">\n",
       "      <!-- 1.0 -->\n",
       "      <g transform=\"translate(67.096875 165.864746)scale(0.1 -0.1)\">\n",
       "       <use xlink:href=\"#DejaVuSans-31\"/>\n",
       "       <use x=\"63.623047\" xlink:href=\"#DejaVuSans-2e\"/>\n",
       "       <use x=\"95.410156\" xlink:href=\"#DejaVuSans-30\"/>\n",
       "      </g>\n",
       "     </g>\n",
       "    </g>\n",
       "    <g id=\"ytick_4\">\n",
       "     <g id=\"line2d_10\">\n",
       "      <g>\n",
       "       <use style=\"stroke:#000000;stroke-width:0.8;\" x=\"90\" xlink:href=\"#me371036a26\" y=\"117.098292\"/>\n",
       "      </g>\n",
       "     </g>\n",
       "     <g id=\"text_11\">\n",
       "      <!-- 1.5 -->\n",
       "      <g transform=\"translate(67.096875 120.89751)scale(0.1 -0.1)\">\n",
       "       <use xlink:href=\"#DejaVuSans-31\"/>\n",
       "       <use x=\"63.623047\" xlink:href=\"#DejaVuSans-2e\"/>\n",
       "       <use x=\"95.410156\" xlink:href=\"#DejaVuSans-35\"/>\n",
       "      </g>\n",
       "     </g>\n",
       "    </g>\n",
       "    <g id=\"ytick_5\">\n",
       "     <g id=\"line2d_11\">\n",
       "      <g>\n",
       "       <use style=\"stroke:#000000;stroke-width:0.8;\" x=\"90\" xlink:href=\"#me371036a26\" y=\"72.131055\"/>\n",
       "      </g>\n",
       "     </g>\n",
       "     <g id=\"text_12\">\n",
       "      <!-- 2.0 -->\n",
       "      <g transform=\"translate(67.096875 75.930274)scale(0.1 -0.1)\">\n",
       "       <use xlink:href=\"#DejaVuSans-32\"/>\n",
       "       <use x=\"63.623047\" xlink:href=\"#DejaVuSans-2e\"/>\n",
       "       <use x=\"95.410156\" xlink:href=\"#DejaVuSans-30\"/>\n",
       "      </g>\n",
       "     </g>\n",
       "    </g>\n",
       "   </g>\n",
       "   <g id=\"line2d_12\">\n",
       "    <path clip-path=\"url(#pda56c38087)\" d=\"M 101.528926 44.801946  L 147.644628 226.264614  L 193.760331 244.725072  L 239.876033 246.927165  L 285.991736 248.014311  L 332.107438 248.675848  \" style=\"fill:none;stroke:#1f77b4;stroke-linecap:square;stroke-width:1.5;\"/>\n",
       "   </g>\n",
       "   <g id=\"line2d_13\">\n",
       "    <path clip-path=\"url(#pda56c38087)\" d=\"M 101.528926 44.757202  L 147.644628 243.736594  L 193.760331 246.450315  L 239.876033 248.155558  L 285.991736 247.641476  L 332.107438 248.701241  \" style=\"fill:none;stroke:#ff7f0e;stroke-linecap:square;stroke-width:1.5;\"/>\n",
       "   </g>\n",
       "   <g id=\"patch_3\">\n",
       "    <path d=\"M 90 252  L 90 34.56  \" style=\"fill:none;stroke:#000000;stroke-linecap:square;stroke-linejoin:miter;stroke-width:0.8;\"/>\n",
       "   </g>\n",
       "   <g id=\"patch_4\">\n",
       "    <path d=\"M 343.636364 252  L 343.636364 34.56  \" style=\"fill:none;stroke:#000000;stroke-linecap:square;stroke-linejoin:miter;stroke-width:0.8;\"/>\n",
       "   </g>\n",
       "   <g id=\"patch_5\">\n",
       "    <path d=\"M 90 252  L 343.636364 252  \" style=\"fill:none;stroke:#000000;stroke-linecap:square;stroke-linejoin:miter;stroke-width:0.8;\"/>\n",
       "   </g>\n",
       "   <g id=\"patch_6\">\n",
       "    <path d=\"M 90 34.56  L 343.636364 34.56  \" style=\"fill:none;stroke:#000000;stroke-linecap:square;stroke-linejoin:miter;stroke-width:0.8;\"/>\n",
       "   </g>\n",
       "   <g id=\"text_13\">\n",
       "    <!-- MNIST_CNN: Error -->\n",
       "    <defs>\n",
       "     <path d=\"M 9.8125 72.90625  L 24.515625 72.90625  L 43.109375 23.296875  L 61.8125 72.90625  L 76.515625 72.90625  L 76.515625 0  L 66.890625 0  L 66.890625 64.015625  L 48.09375 14.015625  L 38.1875 14.015625  L 19.390625 64.015625  L 19.390625 0  L 9.8125 0  z \" id=\"DejaVuSans-4d\"/>\n",
       "     <path d=\"M 9.8125 72.90625  L 23.09375 72.90625  L 55.421875 11.921875  L 55.421875 72.90625  L 64.984375 72.90625  L 64.984375 0  L 51.703125 0  L 19.390625 60.984375  L 19.390625 0  L 9.8125 0  z \" id=\"DejaVuSans-4e\"/>\n",
       "     <path d=\"M 9.8125 72.90625  L 19.671875 72.90625  L 19.671875 0  L 9.8125 0  z \" id=\"DejaVuSans-49\"/>\n",
       "     <path d=\"M 53.515625 70.515625  L 53.515625 60.890625  Q 47.90625 63.578125 42.921875 64.890625  Q 37.9375 66.21875 33.296875 66.21875  Q 25.25 66.21875 20.875 63.09375  Q 16.5 59.96875 16.5 54.203125  Q 16.5 49.359375 19.40625 46.890625  Q 22.3125 44.4375 30.421875 42.921875  L 36.375 41.703125  Q 47.40625 39.59375 52.65625 34.296875  Q 57.90625 29 57.90625 20.125  Q 57.90625 9.515625 50.796875 4.046875  Q 43.703125 -1.421875 29.984375 -1.421875  Q 24.8125 -1.421875 18.96875 -0.25  Q 13.140625 0.921875 6.890625 3.21875  L 6.890625 13.375  Q 12.890625 10.015625 18.65625 8.296875  Q 24.421875 6.59375 29.984375 6.59375  Q 38.421875 6.59375 43.015625 9.90625  Q 47.609375 13.234375 47.609375 19.390625  Q 47.609375 24.75 44.3125 27.78125  Q 41.015625 30.8125 33.5 32.328125  L 27.484375 33.5  Q 16.453125 35.6875 11.515625 40.375  Q 6.59375 45.0625 6.59375 53.421875  Q 6.59375 63.09375 13.40625 68.65625  Q 20.21875 74.21875 32.171875 74.21875  Q 37.3125 74.21875 42.625 73.28125  Q 47.953125 72.359375 53.515625 70.515625  z \" id=\"DejaVuSans-53\"/>\n",
       "     <path d=\"M -0.296875 72.90625  L 61.375 72.90625  L 61.375 64.59375  L 35.5 64.59375  L 35.5 0  L 25.59375 0  L 25.59375 64.59375  L -0.296875 64.59375  z \" id=\"DejaVuSans-54\"/>\n",
       "     <path d=\"M 50.984375 -16.609375  L 50.984375 -23.578125  L -0.984375 -23.578125  L -0.984375 -16.609375  z \" id=\"DejaVuSans-5f\"/>\n",
       "     <path d=\"M 64.40625 67.28125  L 64.40625 56.890625  Q 59.421875 61.53125 53.78125 63.8125  Q 48.140625 66.109375 41.796875 66.109375  Q 29.296875 66.109375 22.65625 58.46875  Q 16.015625 50.828125 16.015625 36.375  Q 16.015625 21.96875 22.65625 14.328125  Q 29.296875 6.6875 41.796875 6.6875  Q 48.140625 6.6875 53.78125 8.984375  Q 59.421875 11.28125 64.40625 15.921875  L 64.40625 5.609375  Q 59.234375 2.09375 53.4375 0.328125  Q 47.65625 -1.421875 41.21875 -1.421875  Q 24.65625 -1.421875 15.125 8.703125  Q 5.609375 18.84375 5.609375 36.375  Q 5.609375 53.953125 15.125 64.078125  Q 24.65625 74.21875 41.21875 74.21875  Q 47.75 74.21875 53.53125 72.484375  Q 59.328125 70.75 64.40625 67.28125  z \" id=\"DejaVuSans-43\"/>\n",
       "     <path d=\"M 11.71875 12.40625  L 22.015625 12.40625  L 22.015625 0  L 11.71875 0  z M 11.71875 51.703125  L 22.015625 51.703125  L 22.015625 39.3125  L 11.71875 39.3125  z \" id=\"DejaVuSans-3a\"/>\n",
       "     <path id=\"DejaVuSans-20\"/>\n",
       "     <path d=\"M 41.109375 46.296875  Q 39.59375 47.171875 37.8125 47.578125  Q 36.03125 48 33.890625 48  Q 26.265625 48 22.1875 43.046875  Q 18.109375 38.09375 18.109375 28.8125  L 18.109375 0  L 9.078125 0  L 9.078125 54.6875  L 18.109375 54.6875  L 18.109375 46.1875  Q 20.953125 51.171875 25.484375 53.578125  Q 30.03125 56 36.53125 56  Q 37.453125 56 38.578125 55.875  Q 39.703125 55.765625 41.0625 55.515625  z \" id=\"DejaVuSans-72\"/>\n",
       "    </defs>\n",
       "    <g transform=\"translate(162.954119 28.56)scale(0.12 -0.12)\">\n",
       "     <use xlink:href=\"#DejaVuSans-4d\"/>\n",
       "     <use x=\"86.279297\" xlink:href=\"#DejaVuSans-4e\"/>\n",
       "     <use x=\"161.083984\" xlink:href=\"#DejaVuSans-49\"/>\n",
       "     <use x=\"190.576172\" xlink:href=\"#DejaVuSans-53\"/>\n",
       "     <use x=\"254.052734\" xlink:href=\"#DejaVuSans-54\"/>\n",
       "     <use x=\"315.136719\" xlink:href=\"#DejaVuSans-5f\"/>\n",
       "     <use x=\"365.136719\" xlink:href=\"#DejaVuSans-43\"/>\n",
       "     <use x=\"434.960938\" xlink:href=\"#DejaVuSans-4e\"/>\n",
       "     <use x=\"509.765625\" xlink:href=\"#DejaVuSans-4e\"/>\n",
       "     <use x=\"584.570312\" xlink:href=\"#DejaVuSans-3a\"/>\n",
       "     <use x=\"618.261719\" xlink:href=\"#DejaVuSans-20\"/>\n",
       "     <use x=\"650.048828\" xlink:href=\"#DejaVuSans-45\"/>\n",
       "     <use x=\"713.232422\" xlink:href=\"#DejaVuSans-72\"/>\n",
       "     <use x=\"754.330078\" xlink:href=\"#DejaVuSans-72\"/>\n",
       "     <use x=\"795.412109\" xlink:href=\"#DejaVuSans-6f\"/>\n",
       "     <use x=\"856.59375\" xlink:href=\"#DejaVuSans-72\"/>\n",
       "    </g>\n",
       "   </g>\n",
       "   <g id=\"legend_1\">\n",
       "    <g id=\"patch_7\">\n",
       "     <path d=\"M 236.030114 71.91625  L 336.636364 71.91625  Q 338.636364 71.91625 338.636364 69.91625  L 338.636364 41.56  Q 338.636364 39.56 336.636364 39.56  L 236.030114 39.56  Q 234.030114 39.56 234.030114 41.56  L 234.030114 69.91625  Q 234.030114 71.91625 236.030114 71.91625  z \" style=\"fill:#ffffff;opacity:0.8;stroke:#cccccc;stroke-linejoin:miter;\"/>\n",
       "    </g>\n",
       "    <g id=\"line2d_14\">\n",
       "     <path d=\"M 238.030114 47.658437  L 258.030114 47.658437  \" style=\"fill:none;stroke:#1f77b4;stroke-linecap:square;stroke-width:1.5;\"/>\n",
       "    </g>\n",
       "    <g id=\"line2d_15\"/>\n",
       "    <g id=\"text_14\">\n",
       "     <!-- Training set -->\n",
       "     <defs>\n",
       "      <path d=\"M 34.28125 27.484375  Q 23.390625 27.484375 19.1875 25  Q 14.984375 22.515625 14.984375 16.5  Q 14.984375 11.71875 18.140625 8.90625  Q 21.296875 6.109375 26.703125 6.109375  Q 34.1875 6.109375 38.703125 11.40625  Q 43.21875 16.703125 43.21875 25.484375  L 43.21875 27.484375  z M 52.203125 31.203125  L 52.203125 0  L 43.21875 0  L 43.21875 8.296875  Q 40.140625 3.328125 35.546875 0.953125  Q 30.953125 -1.421875 24.3125 -1.421875  Q 15.921875 -1.421875 10.953125 3.296875  Q 6 8.015625 6 15.921875  Q 6 25.140625 12.171875 29.828125  Q 18.359375 34.515625 30.609375 34.515625  L 43.21875 34.515625  L 43.21875 35.40625  Q 43.21875 41.609375 39.140625 45  Q 35.0625 48.390625 27.6875 48.390625  Q 23 48.390625 18.546875 47.265625  Q 14.109375 46.140625 10.015625 43.890625  L 10.015625 52.203125  Q 14.9375 54.109375 19.578125 55.046875  Q 24.21875 56 28.609375 56  Q 40.484375 56 46.34375 49.84375  Q 52.203125 43.703125 52.203125 31.203125  z \" id=\"DejaVuSans-61\"/>\n",
       "      <path d=\"M 9.421875 54.6875  L 18.40625 54.6875  L 18.40625 0  L 9.421875 0  z M 9.421875 75.984375  L 18.40625 75.984375  L 18.40625 64.59375  L 9.421875 64.59375  z \" id=\"DejaVuSans-69\"/>\n",
       "      <path d=\"M 54.890625 33.015625  L 54.890625 0  L 45.90625 0  L 45.90625 32.71875  Q 45.90625 40.484375 42.875 44.328125  Q 39.84375 48.1875 33.796875 48.1875  Q 26.515625 48.1875 22.3125 43.546875  Q 18.109375 38.921875 18.109375 30.90625  L 18.109375 0  L 9.078125 0  L 9.078125 54.6875  L 18.109375 54.6875  L 18.109375 46.1875  Q 21.34375 51.125 25.703125 53.5625  Q 30.078125 56 35.796875 56  Q 45.21875 56 50.046875 50.171875  Q 54.890625 44.34375 54.890625 33.015625  z \" id=\"DejaVuSans-6e\"/>\n",
       "      <path d=\"M 45.40625 27.984375  Q 45.40625 37.75 41.375 43.109375  Q 37.359375 48.484375 30.078125 48.484375  Q 22.859375 48.484375 18.828125 43.109375  Q 14.796875 37.75 14.796875 27.984375  Q 14.796875 18.265625 18.828125 12.890625  Q 22.859375 7.515625 30.078125 7.515625  Q 37.359375 7.515625 41.375 12.890625  Q 45.40625 18.265625 45.40625 27.984375  z M 54.390625 6.78125  Q 54.390625 -7.171875 48.1875 -13.984375  Q 42 -20.796875 29.203125 -20.796875  Q 24.46875 -20.796875 20.265625 -20.09375  Q 16.0625 -19.390625 12.109375 -17.921875  L 12.109375 -9.1875  Q 16.0625 -11.328125 19.921875 -12.34375  Q 23.78125 -13.375 27.78125 -13.375  Q 36.625 -13.375 41.015625 -8.765625  Q 45.40625 -4.15625 45.40625 5.171875  L 45.40625 9.625  Q 42.625 4.78125 38.28125 2.390625  Q 33.9375 0 27.875 0  Q 17.828125 0 11.671875 7.65625  Q 5.515625 15.328125 5.515625 27.984375  Q 5.515625 40.671875 11.671875 48.328125  Q 17.828125 56 27.875 56  Q 33.9375 56 38.28125 53.609375  Q 42.625 51.21875 45.40625 46.390625  L 45.40625 54.6875  L 54.390625 54.6875  z \" id=\"DejaVuSans-67\"/>\n",
       "      <path d=\"M 44.28125 53.078125  L 44.28125 44.578125  Q 40.484375 46.53125 36.375 47.5  Q 32.28125 48.484375 27.875 48.484375  Q 21.1875 48.484375 17.84375 46.4375  Q 14.5 44.390625 14.5 40.28125  Q 14.5 37.15625 16.890625 35.375  Q 19.28125 33.59375 26.515625 31.984375  L 29.59375 31.296875  Q 39.15625 29.25 43.1875 25.515625  Q 47.21875 21.78125 47.21875 15.09375  Q 47.21875 7.46875 41.1875 3.015625  Q 35.15625 -1.421875 24.609375 -1.421875  Q 20.21875 -1.421875 15.453125 -0.5625  Q 10.6875 0.296875 5.421875 2  L 5.421875 11.28125  Q 10.40625 8.6875 15.234375 7.390625  Q 20.0625 6.109375 24.8125 6.109375  Q 31.15625 6.109375 34.5625 8.28125  Q 37.984375 10.453125 37.984375 14.40625  Q 37.984375 18.0625 35.515625 20.015625  Q 33.0625 21.96875 24.703125 23.78125  L 21.578125 24.515625  Q 13.234375 26.265625 9.515625 29.90625  Q 5.8125 33.546875 5.8125 39.890625  Q 5.8125 47.609375 11.28125 51.796875  Q 16.75 56 26.8125 56  Q 31.78125 56 36.171875 55.265625  Q 40.578125 54.546875 44.28125 53.078125  z \" id=\"DejaVuSans-73\"/>\n",
       "      <path d=\"M 56.203125 29.59375  L 56.203125 25.203125  L 14.890625 25.203125  Q 15.484375 15.921875 20.484375 11.0625  Q 25.484375 6.203125 34.421875 6.203125  Q 39.59375 6.203125 44.453125 7.46875  Q 49.3125 8.734375 54.109375 11.28125  L 54.109375 2.78125  Q 49.265625 0.734375 44.1875 -0.34375  Q 39.109375 -1.421875 33.890625 -1.421875  Q 20.796875 -1.421875 13.15625 6.1875  Q 5.515625 13.8125 5.515625 26.8125  Q 5.515625 40.234375 12.765625 48.109375  Q 20.015625 56 32.328125 56  Q 43.359375 56 49.78125 48.890625  Q 56.203125 41.796875 56.203125 29.59375  z M 47.21875 32.234375  Q 47.125 39.59375 43.09375 43.984375  Q 39.0625 48.390625 32.421875 48.390625  Q 24.90625 48.390625 20.390625 44.140625  Q 15.875 39.890625 15.1875 32.171875  z \" id=\"DejaVuSans-65\"/>\n",
       "      <path d=\"M 18.3125 70.21875  L 18.3125 54.6875  L 36.8125 54.6875  L 36.8125 47.703125  L 18.3125 47.703125  L 18.3125 18.015625  Q 18.3125 11.328125 20.140625 9.421875  Q 21.96875 7.515625 27.59375 7.515625  L 36.8125 7.515625  L 36.8125 0  L 27.59375 0  Q 17.1875 0 13.234375 3.875  Q 9.28125 7.765625 9.28125 18.015625  L 9.28125 47.703125  L 2.6875 47.703125  L 2.6875 54.6875  L 9.28125 54.6875  L 9.28125 70.21875  z \" id=\"DejaVuSans-74\"/>\n",
       "     </defs>\n",
       "     <g transform=\"translate(266.030114 51.158437)scale(0.1 -0.1)\">\n",
       "      <use xlink:href=\"#DejaVuSans-54\"/>\n",
       "      <use x=\"60.865234\" xlink:href=\"#DejaVuSans-72\"/>\n",
       "      <use x=\"101.978516\" xlink:href=\"#DejaVuSans-61\"/>\n",
       "      <use x=\"163.257812\" xlink:href=\"#DejaVuSans-69\"/>\n",
       "      <use x=\"191.041016\" xlink:href=\"#DejaVuSans-6e\"/>\n",
       "      <use x=\"254.419922\" xlink:href=\"#DejaVuSans-69\"/>\n",
       "      <use x=\"282.203125\" xlink:href=\"#DejaVuSans-6e\"/>\n",
       "      <use x=\"345.582031\" xlink:href=\"#DejaVuSans-67\"/>\n",
       "      <use x=\"409.058594\" xlink:href=\"#DejaVuSans-20\"/>\n",
       "      <use x=\"440.845703\" xlink:href=\"#DejaVuSans-73\"/>\n",
       "      <use x=\"492.945312\" xlink:href=\"#DejaVuSans-65\"/>\n",
       "      <use x=\"554.46875\" xlink:href=\"#DejaVuSans-74\"/>\n",
       "     </g>\n",
       "    </g>\n",
       "    <g id=\"line2d_16\">\n",
       "     <path d=\"M 238.030114 62.336562  L 258.030114 62.336562  \" style=\"fill:none;stroke:#ff7f0e;stroke-linecap:square;stroke-width:1.5;\"/>\n",
       "    </g>\n",
       "    <g id=\"line2d_17\"/>\n",
       "    <g id=\"text_15\">\n",
       "     <!-- Validation set -->\n",
       "     <defs>\n",
       "      <path d=\"M 28.609375 0  L 0.78125 72.90625  L 11.078125 72.90625  L 34.1875 11.53125  L 57.328125 72.90625  L 67.578125 72.90625  L 39.796875 0  z \" id=\"DejaVuSans-56\"/>\n",
       "      <path d=\"M 9.421875 75.984375  L 18.40625 75.984375  L 18.40625 0  L 9.421875 0  z \" id=\"DejaVuSans-6c\"/>\n",
       "      <path d=\"M 45.40625 46.390625  L 45.40625 75.984375  L 54.390625 75.984375  L 54.390625 0  L 45.40625 0  L 45.40625 8.203125  Q 42.578125 3.328125 38.25 0.953125  Q 33.9375 -1.421875 27.875 -1.421875  Q 17.96875 -1.421875 11.734375 6.484375  Q 5.515625 14.40625 5.515625 27.296875  Q 5.515625 40.1875 11.734375 48.09375  Q 17.96875 56 27.875 56  Q 33.9375 56 38.25 53.625  Q 42.578125 51.265625 45.40625 46.390625  z M 14.796875 27.296875  Q 14.796875 17.390625 18.875 11.75  Q 22.953125 6.109375 30.078125 6.109375  Q 37.203125 6.109375 41.296875 11.75  Q 45.40625 17.390625 45.40625 27.296875  Q 45.40625 37.203125 41.296875 42.84375  Q 37.203125 48.484375 30.078125 48.484375  Q 22.953125 48.484375 18.875 42.84375  Q 14.796875 37.203125 14.796875 27.296875  z \" id=\"DejaVuSans-64\"/>\n",
       "     </defs>\n",
       "     <g transform=\"translate(266.030114 65.836562)scale(0.1 -0.1)\">\n",
       "      <use xlink:href=\"#DejaVuSans-56\"/>\n",
       "      <use x=\"68.298828\" xlink:href=\"#DejaVuSans-61\"/>\n",
       "      <use x=\"129.578125\" xlink:href=\"#DejaVuSans-6c\"/>\n",
       "      <use x=\"157.361328\" xlink:href=\"#DejaVuSans-69\"/>\n",
       "      <use x=\"185.144531\" xlink:href=\"#DejaVuSans-64\"/>\n",
       "      <use x=\"248.621094\" xlink:href=\"#DejaVuSans-61\"/>\n",
       "      <use x=\"309.900391\" xlink:href=\"#DejaVuSans-74\"/>\n",
       "      <use x=\"349.109375\" xlink:href=\"#DejaVuSans-69\"/>\n",
       "      <use x=\"376.892578\" xlink:href=\"#DejaVuSans-6f\"/>\n",
       "      <use x=\"438.074219\" xlink:href=\"#DejaVuSans-6e\"/>\n",
       "      <use x=\"501.453125\" xlink:href=\"#DejaVuSans-20\"/>\n",
       "      <use x=\"533.240234\" xlink:href=\"#DejaVuSans-73\"/>\n",
       "      <use x=\"585.339844\" xlink:href=\"#DejaVuSans-65\"/>\n",
       "      <use x=\"646.863281\" xlink:href=\"#DejaVuSans-74\"/>\n",
       "     </g>\n",
       "    </g>\n",
       "   </g>\n",
       "  </g>\n",
       "  <g id=\"axes_2\">\n",
       "   <g id=\"patch_8\">\n",
       "    <path d=\"M 394.363636 252  L 648 252  L 648 34.56  L 394.363636 34.56  z \" style=\"fill:#ffffff;\"/>\n",
       "   </g>\n",
       "   <g id=\"matplotlib.axis_3\">\n",
       "    <g id=\"xtick_7\">\n",
       "     <g id=\"line2d_18\">\n",
       "      <g>\n",
       "       <use style=\"stroke:#000000;stroke-width:0.8;\" x=\"405.892562\" xlink:href=\"#me385223d6a\" y=\"252\"/>\n",
       "      </g>\n",
       "     </g>\n",
       "     <g id=\"text_16\">\n",
       "      <!-- 0 -->\n",
       "      <g transform=\"translate(402.711312 266.598437)scale(0.1 -0.1)\">\n",
       "       <use xlink:href=\"#DejaVuSans-30\"/>\n",
       "      </g>\n",
       "     </g>\n",
       "    </g>\n",
       "    <g id=\"xtick_8\">\n",
       "     <g id=\"line2d_19\">\n",
       "      <g>\n",
       "       <use style=\"stroke:#000000;stroke-width:0.8;\" x=\"452.008264\" xlink:href=\"#me385223d6a\" y=\"252\"/>\n",
       "      </g>\n",
       "     </g>\n",
       "     <g id=\"text_17\">\n",
       "      <!-- 1 -->\n",
       "      <g transform=\"translate(448.827014 266.598437)scale(0.1 -0.1)\">\n",
       "       <use xlink:href=\"#DejaVuSans-31\"/>\n",
       "      </g>\n",
       "     </g>\n",
       "    </g>\n",
       "    <g id=\"xtick_9\">\n",
       "     <g id=\"line2d_20\">\n",
       "      <g>\n",
       "       <use style=\"stroke:#000000;stroke-width:0.8;\" x=\"498.123967\" xlink:href=\"#me385223d6a\" y=\"252\"/>\n",
       "      </g>\n",
       "     </g>\n",
       "     <g id=\"text_18\">\n",
       "      <!-- 2 -->\n",
       "      <g transform=\"translate(494.942717 266.598437)scale(0.1 -0.1)\">\n",
       "       <use xlink:href=\"#DejaVuSans-32\"/>\n",
       "      </g>\n",
       "     </g>\n",
       "    </g>\n",
       "    <g id=\"xtick_10\">\n",
       "     <g id=\"line2d_21\">\n",
       "      <g>\n",
       "       <use style=\"stroke:#000000;stroke-width:0.8;\" x=\"544.239669\" xlink:href=\"#me385223d6a\" y=\"252\"/>\n",
       "      </g>\n",
       "     </g>\n",
       "     <g id=\"text_19\">\n",
       "      <!-- 3 -->\n",
       "      <g transform=\"translate(541.058419 266.598437)scale(0.1 -0.1)\">\n",
       "       <use xlink:href=\"#DejaVuSans-33\"/>\n",
       "      </g>\n",
       "     </g>\n",
       "    </g>\n",
       "    <g id=\"xtick_11\">\n",
       "     <g id=\"line2d_22\">\n",
       "      <g>\n",
       "       <use style=\"stroke:#000000;stroke-width:0.8;\" x=\"590.355372\" xlink:href=\"#me385223d6a\" y=\"252\"/>\n",
       "      </g>\n",
       "     </g>\n",
       "     <g id=\"text_20\">\n",
       "      <!-- 4 -->\n",
       "      <g transform=\"translate(587.174122 266.598437)scale(0.1 -0.1)\">\n",
       "       <use xlink:href=\"#DejaVuSans-34\"/>\n",
       "      </g>\n",
       "     </g>\n",
       "    </g>\n",
       "    <g id=\"xtick_12\">\n",
       "     <g id=\"line2d_23\">\n",
       "      <g>\n",
       "       <use style=\"stroke:#000000;stroke-width:0.8;\" x=\"636.471074\" xlink:href=\"#me385223d6a\" y=\"252\"/>\n",
       "      </g>\n",
       "     </g>\n",
       "     <g id=\"text_21\">\n",
       "      <!-- 5 -->\n",
       "      <g transform=\"translate(633.289824 266.598437)scale(0.1 -0.1)\">\n",
       "       <use xlink:href=\"#DejaVuSans-35\"/>\n",
       "      </g>\n",
       "     </g>\n",
       "    </g>\n",
       "    <g id=\"text_22\">\n",
       "     <!-- Epoch -->\n",
       "     <g transform=\"translate(505.870881 280.276563)scale(0.1 -0.1)\">\n",
       "      <use xlink:href=\"#DejaVuSans-45\"/>\n",
       "      <use x=\"63.183594\" xlink:href=\"#DejaVuSans-70\"/>\n",
       "      <use x=\"126.660156\" xlink:href=\"#DejaVuSans-6f\"/>\n",
       "      <use x=\"187.841797\" xlink:href=\"#DejaVuSans-63\"/>\n",
       "      <use x=\"242.822266\" xlink:href=\"#DejaVuSans-68\"/>\n",
       "     </g>\n",
       "    </g>\n",
       "   </g>\n",
       "   <g id=\"matplotlib.axis_4\">\n",
       "    <g id=\"ytick_6\">\n",
       "     <g id=\"line2d_24\">\n",
       "      <g>\n",
       "       <use style=\"stroke:#000000;stroke-width:0.8;\" x=\"394.363636\" xlink:href=\"#me371036a26\" y=\"233.88\"/>\n",
       "      </g>\n",
       "     </g>\n",
       "     <g id=\"text_23\">\n",
       "      <!-- 0.0 -->\n",
       "      <g transform=\"translate(371.460511 237.679219)scale(0.1 -0.1)\">\n",
       "       <use xlink:href=\"#DejaVuSans-30\"/>\n",
       "       <use x=\"63.623047\" xlink:href=\"#DejaVuSans-2e\"/>\n",
       "       <use x=\"95.410156\" xlink:href=\"#DejaVuSans-30\"/>\n",
       "      </g>\n",
       "     </g>\n",
       "    </g>\n",
       "    <g id=\"ytick_7\">\n",
       "     <g id=\"line2d_25\">\n",
       "      <g>\n",
       "       <use style=\"stroke:#000000;stroke-width:0.8;\" x=\"394.363636\" xlink:href=\"#me371036a26\" y=\"197.64\"/>\n",
       "      </g>\n",
       "     </g>\n",
       "     <g id=\"text_24\">\n",
       "      <!-- 0.2 -->\n",
       "      <g transform=\"translate(371.460511 201.439219)scale(0.1 -0.1)\">\n",
       "       <use xlink:href=\"#DejaVuSans-30\"/>\n",
       "       <use x=\"63.623047\" xlink:href=\"#DejaVuSans-2e\"/>\n",
       "       <use x=\"95.410156\" xlink:href=\"#DejaVuSans-32\"/>\n",
       "      </g>\n",
       "     </g>\n",
       "    </g>\n",
       "    <g id=\"ytick_8\">\n",
       "     <g id=\"line2d_26\">\n",
       "      <g>\n",
       "       <use style=\"stroke:#000000;stroke-width:0.8;\" x=\"394.363636\" xlink:href=\"#me371036a26\" y=\"161.4\"/>\n",
       "      </g>\n",
       "     </g>\n",
       "     <g id=\"text_25\">\n",
       "      <!-- 0.4 -->\n",
       "      <g transform=\"translate(371.460511 165.199219)scale(0.1 -0.1)\">\n",
       "       <use xlink:href=\"#DejaVuSans-30\"/>\n",
       "       <use x=\"63.623047\" xlink:href=\"#DejaVuSans-2e\"/>\n",
       "       <use x=\"95.410156\" xlink:href=\"#DejaVuSans-34\"/>\n",
       "      </g>\n",
       "     </g>\n",
       "    </g>\n",
       "    <g id=\"ytick_9\">\n",
       "     <g id=\"line2d_27\">\n",
       "      <g>\n",
       "       <use style=\"stroke:#000000;stroke-width:0.8;\" x=\"394.363636\" xlink:href=\"#me371036a26\" y=\"125.16\"/>\n",
       "      </g>\n",
       "     </g>\n",
       "     <g id=\"text_26\">\n",
       "      <!-- 0.6 -->\n",
       "      <defs>\n",
       "       <path d=\"M 33.015625 40.375  Q 26.375 40.375 22.484375 35.828125  Q 18.609375 31.296875 18.609375 23.390625  Q 18.609375 15.53125 22.484375 10.953125  Q 26.375 6.390625 33.015625 6.390625  Q 39.65625 6.390625 43.53125 10.953125  Q 47.40625 15.53125 47.40625 23.390625  Q 47.40625 31.296875 43.53125 35.828125  Q 39.65625 40.375 33.015625 40.375  z M 52.59375 71.296875  L 52.59375 62.3125  Q 48.875 64.0625 45.09375 64.984375  Q 41.3125 65.921875 37.59375 65.921875  Q 27.828125 65.921875 22.671875 59.328125  Q 17.53125 52.734375 16.796875 39.40625  Q 19.671875 43.65625 24.015625 45.921875  Q 28.375 48.1875 33.59375 48.1875  Q 44.578125 48.1875 50.953125 41.515625  Q 57.328125 34.859375 57.328125 23.390625  Q 57.328125 12.15625 50.6875 5.359375  Q 44.046875 -1.421875 33.015625 -1.421875  Q 20.359375 -1.421875 13.671875 8.265625  Q 6.984375 17.96875 6.984375 36.375  Q 6.984375 53.65625 15.1875 63.9375  Q 23.390625 74.21875 37.203125 74.21875  Q 40.921875 74.21875 44.703125 73.484375  Q 48.484375 72.75 52.59375 71.296875  z \" id=\"DejaVuSans-36\"/>\n",
       "      </defs>\n",
       "      <g transform=\"translate(371.460511 128.959219)scale(0.1 -0.1)\">\n",
       "       <use xlink:href=\"#DejaVuSans-30\"/>\n",
       "       <use x=\"63.623047\" xlink:href=\"#DejaVuSans-2e\"/>\n",
       "       <use x=\"95.410156\" xlink:href=\"#DejaVuSans-36\"/>\n",
       "      </g>\n",
       "     </g>\n",
       "    </g>\n",
       "    <g id=\"ytick_10\">\n",
       "     <g id=\"line2d_28\">\n",
       "      <g>\n",
       "       <use style=\"stroke:#000000;stroke-width:0.8;\" x=\"394.363636\" xlink:href=\"#me371036a26\" y=\"88.92\"/>\n",
       "      </g>\n",
       "     </g>\n",
       "     <g id=\"text_27\">\n",
       "      <!-- 0.8 -->\n",
       "      <defs>\n",
       "       <path d=\"M 31.78125 34.625  Q 24.75 34.625 20.71875 30.859375  Q 16.703125 27.09375 16.703125 20.515625  Q 16.703125 13.921875 20.71875 10.15625  Q 24.75 6.390625 31.78125 6.390625  Q 38.8125 6.390625 42.859375 10.171875  Q 46.921875 13.96875 46.921875 20.515625  Q 46.921875 27.09375 42.890625 30.859375  Q 38.875 34.625 31.78125 34.625  z M 21.921875 38.8125  Q 15.578125 40.375 12.03125 44.71875  Q 8.5 49.078125 8.5 55.328125  Q 8.5 64.0625 14.71875 69.140625  Q 20.953125 74.21875 31.78125 74.21875  Q 42.671875 74.21875 48.875 69.140625  Q 55.078125 64.0625 55.078125 55.328125  Q 55.078125 49.078125 51.53125 44.71875  Q 48 40.375 41.703125 38.8125  Q 48.828125 37.15625 52.796875 32.3125  Q 56.78125 27.484375 56.78125 20.515625  Q 56.78125 9.90625 50.3125 4.234375  Q 43.84375 -1.421875 31.78125 -1.421875  Q 19.734375 -1.421875 13.25 4.234375  Q 6.78125 9.90625 6.78125 20.515625  Q 6.78125 27.484375 10.78125 32.3125  Q 14.796875 37.15625 21.921875 38.8125  z M 18.3125 54.390625  Q 18.3125 48.734375 21.84375 45.5625  Q 25.390625 42.390625 31.78125 42.390625  Q 38.140625 42.390625 41.71875 45.5625  Q 45.3125 48.734375 45.3125 54.390625  Q 45.3125 60.0625 41.71875 63.234375  Q 38.140625 66.40625 31.78125 66.40625  Q 25.390625 66.40625 21.84375 63.234375  Q 18.3125 60.0625 18.3125 54.390625  z \" id=\"DejaVuSans-38\"/>\n",
       "      </defs>\n",
       "      <g transform=\"translate(371.460511 92.719219)scale(0.1 -0.1)\">\n",
       "       <use xlink:href=\"#DejaVuSans-30\"/>\n",
       "       <use x=\"63.623047\" xlink:href=\"#DejaVuSans-2e\"/>\n",
       "       <use x=\"95.410156\" xlink:href=\"#DejaVuSans-38\"/>\n",
       "      </g>\n",
       "     </g>\n",
       "    </g>\n",
       "    <g id=\"ytick_11\">\n",
       "     <g id=\"line2d_29\">\n",
       "      <g>\n",
       "       <use style=\"stroke:#000000;stroke-width:0.8;\" x=\"394.363636\" xlink:href=\"#me371036a26\" y=\"52.68\"/>\n",
       "      </g>\n",
       "     </g>\n",
       "     <g id=\"text_28\">\n",
       "      <!-- 1.0 -->\n",
       "      <g transform=\"translate(371.460511 56.479219)scale(0.1 -0.1)\">\n",
       "       <use xlink:href=\"#DejaVuSans-31\"/>\n",
       "       <use x=\"63.623047\" xlink:href=\"#DejaVuSans-2e\"/>\n",
       "       <use x=\"95.410156\" xlink:href=\"#DejaVuSans-30\"/>\n",
       "      </g>\n",
       "     </g>\n",
       "    </g>\n",
       "   </g>\n",
       "   <g id=\"line2d_30\">\n",
       "    <path clip-path=\"url(#pbf86363e84)\" d=\"M 405.892562 214.15034  L 452.008264 68.58936  L 498.123967 57.12846  L 544.239669 55.8208  L 590.355372 55.15036  L 636.471074 54.77588  \" style=\"fill:none;stroke:#1f77b4;stroke-linecap:square;stroke-width:1.5;\"/>\n",
       "   </g>\n",
       "   <g id=\"line2d_31\">\n",
       "    <path clip-path=\"url(#pbf86363e84)\" d=\"M 405.892562 216.213  L 452.008264 56.68452  L 498.123967 55.99596  L 544.239669 54.92688  L 590.355372 55.08996  L 636.471074 54.65508  \" style=\"fill:none;stroke:#ff7f0e;stroke-linecap:square;stroke-width:1.5;\"/>\n",
       "   </g>\n",
       "   <g id=\"patch_9\">\n",
       "    <path d=\"M 394.363636 252  L 394.363636 34.56  \" style=\"fill:none;stroke:#000000;stroke-linecap:square;stroke-linejoin:miter;stroke-width:0.8;\"/>\n",
       "   </g>\n",
       "   <g id=\"patch_10\">\n",
       "    <path d=\"M 648 252  L 648 34.56  \" style=\"fill:none;stroke:#000000;stroke-linecap:square;stroke-linejoin:miter;stroke-width:0.8;\"/>\n",
       "   </g>\n",
       "   <g id=\"patch_11\">\n",
       "    <path d=\"M 394.363636 252  L 648 252  \" style=\"fill:none;stroke:#000000;stroke-linecap:square;stroke-linejoin:miter;stroke-width:0.8;\"/>\n",
       "   </g>\n",
       "   <g id=\"patch_12\">\n",
       "    <path d=\"M 394.363636 34.56  L 648 34.56  \" style=\"fill:none;stroke:#000000;stroke-linecap:square;stroke-linejoin:miter;stroke-width:0.8;\"/>\n",
       "   </g>\n",
       "   <g id=\"text_29\">\n",
       "    <!-- MNIST_CNN: Accuracy -->\n",
       "    <defs>\n",
       "     <path d=\"M 34.1875 63.1875  L 20.796875 26.90625  L 47.609375 26.90625  z M 28.609375 72.90625  L 39.796875 72.90625  L 67.578125 0  L 57.328125 0  L 50.6875 18.703125  L 17.828125 18.703125  L 11.1875 0  L 0.78125 0  z \" id=\"DejaVuSans-41\"/>\n",
       "     <path d=\"M 8.5 21.578125  L 8.5 54.6875  L 17.484375 54.6875  L 17.484375 21.921875  Q 17.484375 14.15625 20.5 10.265625  Q 23.53125 6.390625 29.59375 6.390625  Q 36.859375 6.390625 41.078125 11.03125  Q 45.3125 15.671875 45.3125 23.6875  L 45.3125 54.6875  L 54.296875 54.6875  L 54.296875 0  L 45.3125 0  L 45.3125 8.40625  Q 42.046875 3.421875 37.71875 1  Q 33.40625 -1.421875 27.6875 -1.421875  Q 18.265625 -1.421875 13.375 4.4375  Q 8.5 10.296875 8.5 21.578125  z M 31.109375 56  z \" id=\"DejaVuSans-75\"/>\n",
       "     <path d=\"M 32.171875 -5.078125  Q 28.375 -14.84375 24.75 -17.8125  Q 21.140625 -20.796875 15.09375 -20.796875  L 7.90625 -20.796875  L 7.90625 -13.28125  L 13.1875 -13.28125  Q 16.890625 -13.28125 18.9375 -11.515625  Q 21 -9.765625 23.484375 -3.21875  L 25.09375 0.875  L 2.984375 54.6875  L 12.5 54.6875  L 29.59375 11.921875  L 46.6875 54.6875  L 56.203125 54.6875  z \" id=\"DejaVuSans-79\"/>\n",
       "    </defs>\n",
       "    <g transform=\"translate(454.679318 28.56)scale(0.12 -0.12)\">\n",
       "     <use xlink:href=\"#DejaVuSans-4d\"/>\n",
       "     <use x=\"86.279297\" xlink:href=\"#DejaVuSans-4e\"/>\n",
       "     <use x=\"161.083984\" xlink:href=\"#DejaVuSans-49\"/>\n",
       "     <use x=\"190.576172\" xlink:href=\"#DejaVuSans-53\"/>\n",
       "     <use x=\"254.052734\" xlink:href=\"#DejaVuSans-54\"/>\n",
       "     <use x=\"315.136719\" xlink:href=\"#DejaVuSans-5f\"/>\n",
       "     <use x=\"365.136719\" xlink:href=\"#DejaVuSans-43\"/>\n",
       "     <use x=\"434.960938\" xlink:href=\"#DejaVuSans-4e\"/>\n",
       "     <use x=\"509.765625\" xlink:href=\"#DejaVuSans-4e\"/>\n",
       "     <use x=\"584.570312\" xlink:href=\"#DejaVuSans-3a\"/>\n",
       "     <use x=\"618.261719\" xlink:href=\"#DejaVuSans-20\"/>\n",
       "     <use x=\"650.048828\" xlink:href=\"#DejaVuSans-41\"/>\n",
       "     <use x=\"718.441406\" xlink:href=\"#DejaVuSans-63\"/>\n",
       "     <use x=\"773.421875\" xlink:href=\"#DejaVuSans-63\"/>\n",
       "     <use x=\"828.402344\" xlink:href=\"#DejaVuSans-75\"/>\n",
       "     <use x=\"891.78125\" xlink:href=\"#DejaVuSans-72\"/>\n",
       "     <use x=\"932.894531\" xlink:href=\"#DejaVuSans-61\"/>\n",
       "     <use x=\"994.173828\" xlink:href=\"#DejaVuSans-63\"/>\n",
       "     <use x=\"1049.154297\" xlink:href=\"#DejaVuSans-79\"/>\n",
       "    </g>\n",
       "   </g>\n",
       "   <g id=\"legend_2\">\n",
       "    <g id=\"patch_13\">\n",
       "     <path d=\"M 540.39375 247  L 641 247  Q 643 247 643 245  L 643 216.64375  Q 643 214.64375 641 214.64375  L 540.39375 214.64375  Q 538.39375 214.64375 538.39375 216.64375  L 538.39375 245  Q 538.39375 247 540.39375 247  z \" style=\"fill:#ffffff;opacity:0.8;stroke:#cccccc;stroke-linejoin:miter;\"/>\n",
       "    </g>\n",
       "    <g id=\"line2d_32\">\n",
       "     <path d=\"M 542.39375 222.742188  L 562.39375 222.742188  \" style=\"fill:none;stroke:#1f77b4;stroke-linecap:square;stroke-width:1.5;\"/>\n",
       "    </g>\n",
       "    <g id=\"line2d_33\"/>\n",
       "    <g id=\"text_30\">\n",
       "     <!-- Training set -->\n",
       "     <g transform=\"translate(570.39375 226.242188)scale(0.1 -0.1)\">\n",
       "      <use xlink:href=\"#DejaVuSans-54\"/>\n",
       "      <use x=\"60.865234\" xlink:href=\"#DejaVuSans-72\"/>\n",
       "      <use x=\"101.978516\" xlink:href=\"#DejaVuSans-61\"/>\n",
       "      <use x=\"163.257812\" xlink:href=\"#DejaVuSans-69\"/>\n",
       "      <use x=\"191.041016\" xlink:href=\"#DejaVuSans-6e\"/>\n",
       "      <use x=\"254.419922\" xlink:href=\"#DejaVuSans-69\"/>\n",
       "      <use x=\"282.203125\" xlink:href=\"#DejaVuSans-6e\"/>\n",
       "      <use x=\"345.582031\" xlink:href=\"#DejaVuSans-67\"/>\n",
       "      <use x=\"409.058594\" xlink:href=\"#DejaVuSans-20\"/>\n",
       "      <use x=\"440.845703\" xlink:href=\"#DejaVuSans-73\"/>\n",
       "      <use x=\"492.945312\" xlink:href=\"#DejaVuSans-65\"/>\n",
       "      <use x=\"554.46875\" xlink:href=\"#DejaVuSans-74\"/>\n",
       "     </g>\n",
       "    </g>\n",
       "    <g id=\"line2d_34\">\n",
       "     <path d=\"M 542.39375 237.420312  L 562.39375 237.420312  \" style=\"fill:none;stroke:#ff7f0e;stroke-linecap:square;stroke-width:1.5;\"/>\n",
       "    </g>\n",
       "    <g id=\"line2d_35\"/>\n",
       "    <g id=\"text_31\">\n",
       "     <!-- Validation set -->\n",
       "     <g transform=\"translate(570.39375 240.920312)scale(0.1 -0.1)\">\n",
       "      <use xlink:href=\"#DejaVuSans-56\"/>\n",
       "      <use x=\"68.298828\" xlink:href=\"#DejaVuSans-61\"/>\n",
       "      <use x=\"129.578125\" xlink:href=\"#DejaVuSans-6c\"/>\n",
       "      <use x=\"157.361328\" xlink:href=\"#DejaVuSans-69\"/>\n",
       "      <use x=\"185.144531\" xlink:href=\"#DejaVuSans-64\"/>\n",
       "      <use x=\"248.621094\" xlink:href=\"#DejaVuSans-61\"/>\n",
       "      <use x=\"309.900391\" xlink:href=\"#DejaVuSans-74\"/>\n",
       "      <use x=\"349.109375\" xlink:href=\"#DejaVuSans-69\"/>\n",
       "      <use x=\"376.892578\" xlink:href=\"#DejaVuSans-6f\"/>\n",
       "      <use x=\"438.074219\" xlink:href=\"#DejaVuSans-6e\"/>\n",
       "      <use x=\"501.453125\" xlink:href=\"#DejaVuSans-20\"/>\n",
       "      <use x=\"533.240234\" xlink:href=\"#DejaVuSans-73\"/>\n",
       "      <use x=\"585.339844\" xlink:href=\"#DejaVuSans-65\"/>\n",
       "      <use x=\"646.863281\" xlink:href=\"#DejaVuSans-74\"/>\n",
       "     </g>\n",
       "    </g>\n",
       "   </g>\n",
       "  </g>\n",
       " </g>\n",
       " <defs>\n",
       "  <clipPath id=\"pda56c38087\">\n",
       "   <rect height=\"217.44\" width=\"253.636364\" x=\"90\" y=\"34.56\"/>\n",
       "  </clipPath>\n",
       "  <clipPath id=\"pbf86363e84\">\n",
       "   <rect height=\"217.44\" width=\"253.636364\" x=\"394.363636\" y=\"34.56\"/>\n",
       "  </clipPath>\n",
       " </defs>\n",
       "</svg>"
      ],
      "text/plain": [
       "<IPython.core.display.SVG object>"
      ]
     },
     "metadata": {},
     "output_type": "display_data"
    },
    {
     "name": "stdout",
     "output_type": "stream",
     "text": [
      "========================================================\n",
      "       |  Training |  Training |  Validate |  Validate \n",
      "Epochs |     Error |  Accuracy |     Error |  Accuracy \n",
      "------ | --------- | --------- | --------- | --------- \n",
      "#    5 |   0.03696 |   0.98843 |   0.03668 |   0.98910 \n"
     ]
    }
   ],
   "source": [
    "cnn.train(epochs=5, batch_size=128)"
   ]
  },
  {
   "cell_type": "code",
   "execution_count": null,
   "metadata": {},
   "outputs": [],
   "source": []
  }
 ],
 "metadata": {
  "kernelspec": {
   "display_name": "Python 3",
   "language": "python",
   "name": "python3"
  },
  "language_info": {
   "codemirror_mode": {
    "name": "ipython",
    "version": 3
   },
   "file_extension": ".py",
   "mimetype": "text/x-python",
   "name": "python",
   "nbconvert_exporter": "python",
   "pygments_lexer": "ipython3",
   "version": "3.5.3"
  },
  "widgets": {
   "application/vnd.jupyter.widget-state+json": {
    "state": {
     "002335bc514d40718b8abc22b6640ade": {
      "model_module": "@jupyter-widgets/controls",
      "model_module_version": "1.1.0",
      "model_name": "ButtonModel",
      "state": {
       "icon": "fast-forward",
       "layout": "IPY_MODEL_2cc55fd4bc7f4bf093d5839dc67b6f00",
       "style": "IPY_MODEL_745d00d0e2934450a6aa37f17f588849"
      }
     },
     "0283ce8e1b9449aba5905e14e92a08ff": {
      "model_module": "@jupyter-widgets/base",
      "model_module_version": "1.0.0",
      "model_name": "LayoutModel",
      "state": {}
     },
     "0389629b20564c52a6d43652428bbea2": {
      "model_module": "@jupyter-widgets/controls",
      "model_module_version": "1.1.0",
      "model_name": "IntTextModel",
      "state": {
       "description": "Feature to show:",
       "layout": "IPY_MODEL_ad7b7428ff4341828a63413cb1ffab63",
       "step": 1,
       "style": "IPY_MODEL_8292d0e30f50492aacd0a7001e5890f0"
      }
     },
     "0570469bfe164d92a4b2f1c308074533": {
      "model_module": "@jupyter-widgets/base",
      "model_module_version": "1.0.0",
      "model_name": "LayoutModel",
      "state": {
       "height": "40px"
      }
     },
     "0756fcf590564c118b331b4c767632e3": {
      "model_module": "@jupyter-widgets/base",
      "model_module_version": "1.0.0",
      "model_name": "LayoutModel",
      "state": {
       "width": "100%"
      }
     },
     "097d4ed6b68a483ea0cb4c56140d6cfe": {
      "model_module": "@jupyter-widgets/base",
      "model_module_version": "1.0.0",
      "model_name": "LayoutModel",
      "state": {}
     },
     "0d5f3d2e976d41008c30534b1eba102a": {
      "model_module": "@jupyter-widgets/controls",
      "model_module_version": "1.1.0",
      "model_name": "VBoxModel",
      "state": {
       "children": [
        "IPY_MODEL_814972d990ef4712bbb204868e5b387c",
        "IPY_MODEL_d819352e7eb843e5a33d4f5ff5835652",
        "IPY_MODEL_0eb9d9e1e05348b8a8bffbb8d10828c3",
        "IPY_MODEL_bd40336ac9b04b868a2191453a95d179",
        "IPY_MODEL_2be7f29a5c384b6ab6a162e54099c3fe",
        "IPY_MODEL_f8df8de8914d46c38b37893e71e1abe0",
        "IPY_MODEL_b64daf15d45043aca975350099892bbf",
        "IPY_MODEL_76e774115f1345108dd88fc68b38e683"
       ],
       "layout": "IPY_MODEL_6275bcc3b20a4840b14614b3d02fbdbe"
      }
     },
     "0da8c5a511d347be9cd201ef3459360d": {
      "model_module": "@jupyter-widgets/controls",
      "model_module_version": "1.1.0",
      "model_name": "CheckboxModel",
      "state": {
       "description": "Show Targets",
       "disabled": false,
       "layout": "IPY_MODEL_139bfae7d4de484ba63aca14443ff45c",
       "style": "IPY_MODEL_c6aed373f5224e04950f0c3cf874f346",
       "value": true
      }
     },
     "0e17765c03284b599f68774b2b5d917d": {
      "model_module": "@jupyter-widgets/controls",
      "model_module_version": "1.1.0",
      "model_name": "DescriptionStyleModel",
      "state": {
       "description_width": ""
      }
     },
     "0eb9d9e1e05348b8a8bffbb8d10828c3": {
      "model_module": "@jupyter-widgets/controls",
      "model_module_version": "1.1.0",
      "model_name": "IntTextModel",
      "state": {
       "description": "Horizontal space between banks:",
       "layout": "IPY_MODEL_68f79996119043d489f112fb702ca52a",
       "step": 1,
       "style": "IPY_MODEL_2e9bfd5b10ef4a63a63225748d0d3b4f",
       "value": 150
      }
     },
     "0f1254315d9c4373a1f7b55bfb3f3012": {
      "model_module": "@jupyter-widgets/base",
      "model_module_version": "1.0.0",
      "model_name": "LayoutModel",
      "state": {}
     },
     "0f8a96c74c17427bb17d657c9d90fc72": {
      "model_module": "@jupyter-widgets/base",
      "model_module_version": "1.0.0",
      "model_name": "LayoutModel",
      "state": {
       "width": "10%"
      }
     },
     "10551c2afabd462c823535654d5df539": {
      "model_module": "@jupyter-widgets/controls",
      "model_module_version": "1.1.0",
      "model_name": "SelectModel",
      "state": {
       "_options_labels": [
        "",
        "input",
        "conv2D_1",
        "maxpool1",
        "conv2D_2",
        "maxpool2"
       ],
       "description": "Features:",
       "index": 2,
       "layout": "IPY_MODEL_f58e339fb5564d41a499414096fed7cc",
       "rows": 1,
       "style": "IPY_MODEL_41c719344d1a4d72be585407b3ccf235"
      }
     },
     "1059db693e2f48989c839022d75291fe": {
      "model_module": "@jupyter-widgets/controls",
      "model_module_version": "1.1.0",
      "model_name": "DescriptionStyleModel",
      "state": {
       "description_width": ""
      }
     },
     "10a8798faa0c4e4ca28535857da3ff0c": {
      "model_module": "@jupyter-widgets/controls",
      "model_module_version": "1.1.0",
      "model_name": "VBoxModel",
      "state": {
       "children": [
        "IPY_MODEL_dc95563a857e4fb399b8393d004029ac",
        "IPY_MODEL_cc674f9fbe4243c789753035e0517fef",
        "IPY_MODEL_329f7665e38047d6ac29a57af8bdfb55",
        "IPY_MODEL_862a3665bf6b4571beacaa120e5701ae"
       ],
       "layout": "IPY_MODEL_774f781588fc4a92813e2e8f4cd0a8cb"
      }
     },
     "139bfae7d4de484ba63aca14443ff45c": {
      "model_module": "@jupyter-widgets/base",
      "model_module_version": "1.0.0",
      "model_name": "LayoutModel",
      "state": {}
     },
     "141f9f91602b4535b6d1e92b0cca8eee": {
      "model_module": "@jupyter-widgets/controls",
      "model_module_version": "1.1.0",
      "model_name": "VBoxModel",
      "state": {
       "children": [
        "IPY_MODEL_96de31b401984e7eb38b44cf797760eb",
        "IPY_MODEL_68b6135b1dde4e9eb0bf1465184421d4"
       ],
       "layout": "IPY_MODEL_3554bd7a81dc4042bfcee174d1f147df"
      }
     },
     "1572b9a0bc174a789a7f95e5ab38f4f4": {
      "model_module": "@jupyter-widgets/controls",
      "model_module_version": "1.1.0",
      "model_name": "HBoxModel",
      "state": {
       "children": [
        "IPY_MODEL_0da8c5a511d347be9cd201ef3459360d",
        "IPY_MODEL_1ebf34171170432f96c25a063c74458e"
       ],
       "layout": "IPY_MODEL_46f3bae4553b4d6daa9bf34bd63463b5"
      }
     },
     "181ec33784ca4d2d8fdaaa46b4cb6d38": {
      "model_module": "@jupyter-widgets/controls",
      "model_module_version": "1.1.0",
      "model_name": "VBoxModel",
      "state": {
       "children": [
        "IPY_MODEL_eb7ef2be103f4531b2eca9273f25b0f5",
        "IPY_MODEL_40979c790efe4874b7b6a31003993e72",
        "IPY_MODEL_f7628ba3220b42afaff472ae9f8e3997",
        "IPY_MODEL_46ea7cf0fe9f4b9ea839e073f095e98a",
        "IPY_MODEL_86505feee65d4512ab954ea459d3adc2",
        "IPY_MODEL_38692a88fe5a4b47840b597697ac786e",
        "IPY_MODEL_0389629b20564c52a6d43652428bbea2",
        "IPY_MODEL_ba6365e09916411d9b1f13767ba4faac"
       ],
       "layout": "IPY_MODEL_ff6072b887a44df7b650ab3947957953"
      }
     },
     "1875e63a4c044fa6848f4bb987d31a1c": {
      "model_module": "@jupyter-widgets/controls",
      "model_module_version": "1.1.0",
      "model_name": "SliderStyleModel",
      "state": {
       "description_width": "initial"
      }
     },
     "1933b858f277486da62528f40eb386c8": {
      "model_module": "@jupyter-widgets/controls",
      "model_module_version": "1.1.0",
      "model_name": "FloatTextModel",
      "state": {
       "description": "Rightmost color maps to:",
       "layout": "IPY_MODEL_65b094425c514804818428500361d8a9",
       "step": null,
       "style": "IPY_MODEL_3611bfee8fb54dda8fdafd816cc53311",
       "value": 1
      }
     },
     "1c66bec163f8460cb101deb21301d19d": {
      "model_module": "@jupyter-widgets/controls",
      "model_module_version": "1.1.0",
      "model_name": "ButtonModel",
      "state": {
       "icon": "forward",
       "layout": "IPY_MODEL_5a2a611bfae04c498fe5c6cfbb46fb57",
       "style": "IPY_MODEL_da83522b63384ae1b238d8a3cb149ca0"
      }
     },
     "1c721b84c72343e6a5c316a030184583": {
      "model_module": "@jupyter-widgets/controls",
      "model_module_version": "1.1.0",
      "model_name": "HBoxModel",
      "state": {
       "children": [
        "IPY_MODEL_cd2dcd4a12da46b19ed696f37ebbe8c4",
        "IPY_MODEL_181ec33784ca4d2d8fdaaa46b4cb6d38"
       ],
       "layout": "IPY_MODEL_50b12b4ff915418f8b896b63f5a3d2ad"
      }
     },
     "1caaa097f16f4190b10a7fb66312cae1": {
      "model_module": "@jupyter-widgets/controls",
      "model_module_version": "1.1.0",
      "model_name": "CheckboxModel",
      "state": {
       "description": "Errors",
       "disabled": false,
       "layout": "IPY_MODEL_68f79996119043d489f112fb702ca52a",
       "style": "IPY_MODEL_89b31950332f4327915d0b0fe3e16a70",
       "value": false
      }
     },
     "1ebf34171170432f96c25a063c74458e": {
      "model_module": "@jupyter-widgets/controls",
      "model_module_version": "1.1.0",
      "model_name": "CheckboxModel",
      "state": {
       "description": "Errors",
       "disabled": false,
       "layout": "IPY_MODEL_139bfae7d4de484ba63aca14443ff45c",
       "style": "IPY_MODEL_a4ba67f52b2e40c6b09ae69383d9342b",
       "value": false
      }
     },
     "1ee2cc2624944ceca16026c58b4a300a": {
      "model_module": "@jupyter-widgets/base",
      "model_module_version": "1.0.0",
      "model_name": "LayoutModel",
      "state": {
       "width": "100%"
      }
     },
     "1f6c9ac336eb4b598c910b1ae727190c": {
      "model_module": "@jupyter-widgets/base",
      "model_module_version": "1.0.0",
      "model_name": "LayoutModel",
      "state": {
       "width": "100%"
      }
     },
     "1fd2cc250efd4cea88a37b13d06d1473": {
      "model_module": "@jupyter-widgets/controls",
      "model_module_version": "1.1.0",
      "model_name": "DescriptionStyleModel",
      "state": {
       "description_width": ""
      }
     },
     "2017a7fa0e904a4d8880cd24b70a92f5": {
      "model_module": "@jupyter-widgets/controls",
      "model_module_version": "1.1.0",
      "model_name": "SelectModel",
      "state": {
       "_options_labels": [
        "Test",
        "Train"
       ],
       "description": "Dataset:",
       "index": 0,
       "layout": "IPY_MODEL_40222f278ce545cc89256bd1f50fb587",
       "rows": 1,
       "style": "IPY_MODEL_0e17765c03284b599f68774b2b5d917d"
      }
     },
     "20d7fae516924826ace8586b0a63c8b0": {
      "model_module": "@jupyter-widgets/controls",
      "model_module_version": "1.1.0",
      "model_name": "SliderStyleModel",
      "state": {
       "description_width": "initial"
      }
     },
     "23fd80801b35431791c26f2218c983aa": {
      "model_module": "@jupyter-widgets/base",
      "model_module_version": "1.0.0",
      "model_name": "LayoutModel",
      "state": {
       "height": "40px"
      }
     },
     "2488345b1c844bfd9df5a20161977fcc": {
      "model_module": "@jupyter-widgets/controls",
      "model_module_version": "1.1.0",
      "model_name": "DescriptionStyleModel",
      "state": {
       "description_width": ""
      }
     },
     "252fb8accb394c8cbd5a4bf051e4fcc2": {
      "model_module": "@jupyter-widgets/base",
      "model_module_version": "1.0.0",
      "model_name": "LayoutModel",
      "state": {
       "width": "65%"
      }
     },
     "28409040ce8540f28bd50b9737d60ef8": {
      "model_module": "@jupyter-widgets/controls",
      "model_module_version": "1.1.0",
      "model_name": "IntTextModel",
      "state": {
       "description": "Feature to show:",
       "layout": "IPY_MODEL_569c9d16a16b4186a534048b5233a047",
       "step": 1,
       "style": "IPY_MODEL_766bad7c350a4a7e9350eb4aab86c6a9"
      }
     },
     "2be7f29a5c384b6ab6a162e54099c3fe": {
      "model_module": "@jupyter-widgets/controls",
      "model_module_version": "1.1.0",
      "model_name": "HBoxModel",
      "state": {
       "children": [
        "IPY_MODEL_fc7978f96aa64fcc8a27b3c86a6dace3",
        "IPY_MODEL_1caaa097f16f4190b10a7fb66312cae1"
       ],
       "layout": "IPY_MODEL_59d0f9326c33495d8a8b72a3e08593e6"
      }
     },
     "2cc55fd4bc7f4bf093d5839dc67b6f00": {
      "model_module": "@jupyter-widgets/base",
      "model_module_version": "1.0.0",
      "model_name": "LayoutModel",
      "state": {
       "width": "100%"
      }
     },
     "2e9bfd5b10ef4a63a63225748d0d3b4f": {
      "model_module": "@jupyter-widgets/controls",
      "model_module_version": "1.1.0",
      "model_name": "DescriptionStyleModel",
      "state": {
       "description_width": "initial"
      }
     },
     "2f0da06b20624195aafff3b1f9561d63": {
      "model_module": "@jupyter-widgets/base",
      "model_module_version": "1.0.0",
      "model_name": "LayoutModel",
      "state": {}
     },
     "31a5095e33dd459dba49e85cfbb57b98": {
      "model_module": "@jupyter-widgets/base",
      "model_module_version": "1.0.0",
      "model_name": "LayoutModel",
      "state": {
       "justify_content": "center",
       "overflow_x": "auto",
       "overflow_y": "auto",
       "width": "95%"
      }
     },
     "31b8f2b06796480c88ba711c30f37efa": {
      "model_module": "@jupyter-widgets/controls",
      "model_module_version": "1.1.0",
      "model_name": "DescriptionStyleModel",
      "state": {
       "description_width": "initial"
      }
     },
     "329f7665e38047d6ac29a57af8bdfb55": {
      "model_module": "@jupyter-widgets/controls",
      "model_module_version": "1.1.0",
      "model_name": "HTMLModel",
      "state": {
       "layout": "IPY_MODEL_f5fa7d974eec4976afb7bb6d286c2b9d",
       "style": "IPY_MODEL_a4396275b46d409ea0525ba64a05c147",
       "value": "\n<table align=\"center\" style=\"width: 100%;\">\n <tr>\n  <td valign=\"top\"><p style=\"text-align:center\"><svg id='MNIST_CNN' xmlns='http://www.w3.org/2000/svg' image-rendering=\"pixelated\" width=\"800.0000000000001px\" height=\"190.47619047619048px\">\n <g  transform=\"rotate(90) translate(0 -800.0000000000001)\" >\n  <svg viewBox=\"0 0 350 1470\" width=\"190.47619047619048px\" height=\"800.0000000000001px\">\n    <defs>\n        <marker id=\"arrow\" markerWidth=\"10\" markerHeight=\"10\" refX=\"9\" refY=\"3\" orient=\"auto\" markerUnits=\"strokeWidth\">\n          <path d=\"M0,0 L0,6 L9,3 z\" fill=\"black\" />\n        </marker>\n    </defs><rect x=\"74.0\" y=\"24\" width=\"202\" height=\"52\" style=\"fill:none;stroke:black;stroke-width:2\"/><image id=\"picture-dashboard-MNIST_CNN-935691_output_targets_1\" class=\"picture-dashboard-MNIST_CNN-935691_output_targets\" x=\"75.0\" y=\"25\" height=\"50\" width=\"200\" preserveAspectRatio=\"none\" href=\"data:image/gif;base64,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\"><title>Layer: output (output)\n output range: (-1.0, 1.0)\n shape = (10,)\n Keras class = Dense\n activation = softmax</title></image><text x=\"288.0\" y=\"52.0\" font-family=\"monospace\" font-size=\"12\" text-anchor=\"middle\" fill=\"black\" alignment-baseline=\"central\"  transform=\"rotate(-90 288.0 52.0) translate(2)\" >targets</text><rect x=\"74.0\" y=\"84\" width=\"202\" height=\"52\" style=\"fill:none;stroke:black;stroke-width:2\"/><image id=\"picture-dashboard-MNIST_CNN-935691_output-rotated_1\" class=\"picture-dashboard-MNIST_CNN-935691_output-rotated\" x=\"75.0\" y=\"85\" height=\"50\" width=\"200\" preserveAspectRatio=\"none\" href=\"data:image/gif;base64,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\"><title>Layer: output (output)\n output range: (-1.0, 1.0)\n shape = (10,)\n Keras class = Dense\n activation = softmax</title></image><text x=\"288.0\" y=\"112.0\" font-family=\"monospace\" font-size=\"12\" text-anchor=\"middle\" fill=\"black\" alignment-baseline=\"central\"  transform=\"rotate(-90 288.0 112.0) translate(2)\" >output</text><line x1=\"175.0\" y1=\"164\" x2=\"175.0\" y2=\"137\" stroke=\"black\" stroke-width=\"2\" marker-end=\"url(#arrow)\"><title>Weights from hidden to output\n output/kernel has shape (30, 10)\n output/bias has shape (10,)</title></line><rect x=\"74.0\" y=\"164\" width=\"202\" height=\"52\" style=\"fill:none;stroke:black;stroke-width:2\"/><image id=\"picture-dashboard-MNIST_CNN-935691_hidden-rotated_2\" class=\"picture-dashboard-MNIST_CNN-935691_hidden-rotated\" x=\"75.0\" y=\"165\" height=\"50\" width=\"200\" preserveAspectRatio=\"none\" href=\"data:image/gif;base64,R0lGODdhHgABAIcAAP78/c3N/+np/7S0/9XV/yAg/6Gh/wAAAAAAAAAAAAAAAAAAAAAAAAAAAAAAAAAAAAAAAAAAAAAAAAAAAAAAAAAAAAAAAAAAAAAAAAAAAAAAAAAAAAAAAAAAAAAAAAAAAAAAAAAAAAAAAAAAAAAAAAAAAAAAAAAAAAAAAAAAAAAAAAAAAAAAAAAAAAAAAAAAAAAAAAAAAAAAAAAAAAAAAAAAAAAAAAAAAAAAAAAAAAAAAAAAAAAAAAAAAAAAAAAAAAAAAAAAAAAAAAAAAAAAAAAAAAAAAAAAAAAAAAAAAAAAAAAAAAAAAAAAAAAAAAAAAAAAAAAAAAAAAAAAAAAAAAAAAAAAAAAAAAAAAAAAAAAAAAAAAAAAAAAAAAAAAAAAAAAAAAAAAAAAAAAAAAAAAAAAAAAAAAAAAAAAAAAAAAAAAAAAAAAAAAAAAAAAAAAAAAAAAAAAAAAAAAAAAAAAAAAAAAAAAAAAAAAAAAAAAAAAAAAAAAAAAAAAAAAAAAAAAAAAAAAAAAAAAAAAAAAAAAAAAAAAAAAAAAAAAAAAAAAAAAAAAAAAAAAAAAAAAAAAAAAAAAAAAAAAAAAAAAAAAAAAAAAAAAAAAAAAAAAAAAAAAAAAAAAAAAAAAAAAAAAAAAAAAAAAAAAAAAAAAAAAAAAAAAAAAAAAAAAAAAAAAAAAAAAAAAAAAAAAAAAAAAAAAAAAAAAAAAAAAAAAAAAAAAAAAAAAAAAAAAAAAAAAAAAAAAAAAAAAAAAAAAAAAAAAAAAAAAAAAAAAAAAAAAAAAAAAAAAAAAAAAAAAAAAAAAAAAAAAAAAAAAAAAAAAAAAAAAAAAAAAAAAAAAAAAAAAAAAAAAAAAAAAAAAAAAAAAAAAAAAAAAAAAAAAAAAAAAAAAAAAAAAAAAAAAAAAAAAAAAAAAAAAAAAAAAAAAAAAAAAAAAAAAAAAAAAAAAAAAAAAAAAAAAAAAAAAAAAAAAAAAAAAAAAAAAAAAAAAAAAAAAAAAAAAAAAAAAAAAAAAAAAAACwAAAAAHgABAAAIHwABABBgAIBBAAMAABggoACAhw8JAJg4MQABAAEABAQAOw==\"><title>Layer: hidden (hidden)\n output range: (-1.0, 1.0)\n shape = (30,)\n Keras class = Dense\n activation = relu</title></image><text x=\"288.0\" y=\"192.0\" font-family=\"monospace\" font-size=\"12\" text-anchor=\"middle\" fill=\"black\" alignment-baseline=\"central\"  transform=\"rotate(-90 288.0 192.0) translate(2)\" >hidden</text><line x1=\"175.0\" y1=\"244\" x2=\"175.0\" y2=\"217\" stroke=\"black\" stroke-width=\"2\" marker-end=\"url(#arrow)\"><title>Weights from flat to hidden\n hidden/kernel has shape (512, 30)\n hidden/bias has shape (30,)</title></line><rect x=\"74.0\" y=\"244\" width=\"202\" height=\"52\" style=\"fill:none;stroke:black;stroke-width:2\"/><image id=\"picture-dashboard-MNIST_CNN-935691_flat-rotated_3\" class=\"picture-dashboard-MNIST_CNN-935691_flat-rotated\" x=\"75.0\" y=\"245\" height=\"50\" width=\"200\" preserveAspectRatio=\"none\" href=\"data:image/gif;base64,R0lGODdhAAIBAIcAAPv6/efn/9bW/8fH/7i4/6ur/wAAAAAAAAAAAAAAAAAAAAAAAAAAAAAAAAAAAAAAAAAAAAAAAAAAAAAAAAAAAAAAAAAAAAAAAAAAAAAAAAAAAAAAAAAAAAAAAAAAAAAAAAAAAAAAAAAAAAAAAAAAAAAAAAAAAAAAAAAAAAAAAAAAAAAAAAAAAAAAAAAAAAAAAAAAAAAAAAAAAAAAAAAAAAAAAAAAAAAAAAAAAAAAAAAAAAAAAAAAAAAAAAAAAAAAAAAAAAAAAAAAAAAAAAAAAAAAAAAAAAAAAAAAAAAAAAAAAAAAAAAAAAAAAAAAAAAAAAAAAAAAAAAAAAAAAAAAAAAAAAAAAAAAAAAAAAAAAAAAAAAAAAAAAAAAAAAAAAAAAAAAAAAAAAAAAAAAAAAAAAAAAAAAAAAAAAAAAAAAAAAAAAAAAAAAAAAAAAAAAAAAAAAAAAAAAAAAAAAAAAAAAAAAAAAAAAAAAAAAAAAAAAAAAAAAAAAAAAAAAAAAAAAAAAAAAAAAAAAAAAAAAAAAAAAAAAAAAAAAAAAAAAAAAAAAAAAAAAAAAAAAAAAAAAAAAAAAAAAAAAAAAAAAAAAAAAAAAAAAAAAAAAAAAAAAAAAAAAAAAAAAAAAAAAAAAAAAAAAAAAAAAAAAAAAAAAAAAAAAAAAAAAAAAAAAAAAAAAAAAAAAAAAAAAAAAAAAAAAAAAAAAAAAAAAAAAAAAAAAAAAAAAAAAAAAAAAAAAAAAAAAAAAAAAAAAAAAAAAAAAAAAAAAAAAAAAAAAAAAAAAAAAAAAAAAAAAAAAAAAAAAAAAAAAAAAAAAAAAAAAAAAAAAAAAAAAAAAAAAAAAAAAAAAAAAAAAAAAAAAAAAAAAAAAAAAAAAAAAAAAAAAAAAAAAAAAAAAAAAAAAAAAAAAAAAAAAAAAAAAAAAAAAAAAAAAAAAAAAAAAAAAAAAAAAAAAAAAAAAAAAAAAAAAAAAAAAAAAAAAAAAAAAAAAAAAAAAAAAAAAAAAAAAAAAAAAAAAAAAACwAAAAAAAIBAAAI/wABBAAgQEAAAAACABggQACAhxABBABAEYAAABgzZiQgAIBHjwMGBABAEkCAAAACAFjJsmVLAgMEAAAQAMAAAgEABAAAIEAAAECDCg0AIICAAAAGCAAAIAAAAAEGAJgaAECAAQAABADAtSvXAADCAhAAoCwAAQDSDgAAQACAtwAEAAAQAAAAAQEEANgLIACAAQACBxAAoDABAAECAFgMQACAx48FSAZAGcAAAAUGAABAQAAAAQMKAAggAIBpAAIAqFYdIACA1wAGBABAQAAAAAQCABAQIACAAAIABBAAIACA48iPBwgAIACA5wACAAAQAID169gBBADAPQCA7+ADANEIACCAAAEAAAgAECAAAQDw4wMIAKC+fQABAgAQMCAAAIABBAAAMCAAAAEBBgAAMAAAgAAABACgGABAAAAZAwAYAACAAAAhAwgAUNJkAAABBAAYAMDlywABAMwEEAAAgAACAOwEECCAAABBhQ4lCiAAAAEBBAAIQCAAAAEAAAgIMAAAgAEAtG7lGgAAgAAAAhAAAEBAAAAAAgQAICBAAAAABgAIMACAAAB59QYAAEAAAAEAAAwAUDiAAACJAwAIEABAgAAABACgTDkAgAABAAAICAA7\"><title>Layer: flat (hidden)\n output range: (-Infinity, +Infinity)\n Keras class = Flatten</title></image><text x=\"288.0\" y=\"272.0\" font-family=\"monospace\" font-size=\"12\" text-anchor=\"middle\" fill=\"black\" alignment-baseline=\"central\"  transform=\"rotate(-90 288.0 272.0) translate(2)\" >flat</text><line x1=\"175.0\" y1=\"324\" x2=\"175.0\" y2=\"297\" stroke=\"black\" stroke-width=\"2\" marker-end=\"url(#arrow)\"><title>Weights from maxpool2 to flat</title></line><rect x=\"74.0\" y=\"324\" width=\"202\" height=\"202\" style=\"fill:none;stroke:black;stroke-width:2\"/><image id=\"picture-dashboard-MNIST_CNN-935691_maxpool2-rotated_4\" class=\"picture-dashboard-MNIST_CNN-935691_maxpool2-rotated\" x=\"75.0\" y=\"325\" height=\"200\" width=\"200\" preserveAspectRatio=\"none\" href=\"data:image/gif;base64,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\"><title>Layer: maxpool2 (hidden)\n output range: (-Infinity, +Infinity)\n Keras class = MaxPooling2D</title></image><text x=\"288.0\" y=\"427.0\" font-family=\"monospace\" font-size=\"12\" text-anchor=\"middle\" fill=\"black\" alignment-baseline=\"central\"  transform=\"rotate(-90 288.0 427.0) translate(2)\" >maxpool2</text><text x=\"88.0\" y=\"310\" font-family=\"monospace\" font-size=\"12\" text-anchor=\"middle\" fill=\"black\" alignment-baseline=\"central\"  transform=\"rotate(-90 88.0 310) translate(2)\" >32</text><text x=\"273.0\" y=\"540\" font-family=\"monospace\" font-size=\"12\" text-anchor=\"middle\" fill=\"black\" alignment-baseline=\"central\"  transform=\"rotate(-90 273.0 540) translate(2)\" >0</text><line x1=\"175.0\" y1=\"554\" x2=\"175.0\" y2=\"527\" stroke=\"black\" stroke-width=\"2\" marker-end=\"url(#arrow)\"><title>Weights from conv2D_2 to maxpool2</title></line><rect x=\"74.0\" y=\"554\" width=\"202\" height=\"202\" style=\"fill:none;stroke:black;stroke-width:2\"/><image id=\"picture-dashboard-MNIST_CNN-935691_conv2D_2-rotated_5\" class=\"picture-dashboard-MNIST_CNN-935691_conv2D_2-rotated\" x=\"75.0\" y=\"555\" height=\"200\" width=\"200\" preserveAspectRatio=\"none\" href=\"data:image/gif;base64,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\"><title>Layer: conv2D_2 (hidden)\n output range: (-1.0, 1.0)\n dropout = 0.2\n Keras class = Conv2D\n activation = relu</title></image><text x=\"288.0\" y=\"657.0\" font-family=\"monospace\" font-size=\"12\" text-anchor=\"middle\" fill=\"black\" alignment-baseline=\"central\"  transform=\"rotate(-90 288.0 657.0) translate(2)\" >conv2D_2</text><text x=\"88.0\" y=\"540\" font-family=\"monospace\" font-size=\"12\" text-anchor=\"middle\" fill=\"black\" alignment-baseline=\"central\"  transform=\"rotate(-90 88.0 540) translate(2)\" >32</text><text x=\"273.0\" y=\"770\" font-family=\"monospace\" font-size=\"12\" text-anchor=\"middle\" fill=\"black\" alignment-baseline=\"central\"  transform=\"rotate(-90 273.0 770) translate(2)\" >0</text><text x=\"62.0\" y=\"560\" font-family=\"monospace\" font-size=\"24.0\" text-anchor=\"middle\" fill=\"black\" alignment-baseline=\"central\"  transform=\"rotate(-90 62.0 560) translate(2)\" >&#10683;</text><line x1=\"175.0\" y1=\"784\" x2=\"175.0\" y2=\"757\" stroke=\"black\" stroke-width=\"2\" marker-end=\"url(#arrow)\"><title>Weights from maxpool1 to conv2D_2\n conv2D_2/kernel has shape (5, 5, 16, 32)\n conv2D_2/bias has shape (32,)</title></line><rect x=\"74.0\" y=\"784\" width=\"202\" height=\"202\" style=\"fill:none;stroke:black;stroke-width:2\"/><image id=\"picture-dashboard-MNIST_CNN-935691_maxpool1-rotated_6\" class=\"picture-dashboard-MNIST_CNN-935691_maxpool1-rotated\" x=\"75.0\" y=\"785\" height=\"200\" width=\"200\" preserveAspectRatio=\"none\" href=\"data:image/gif;base64,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\"><title>Layer: maxpool1 (hidden)\n output range: (-Infinity, +Infinity)\n Keras class = MaxPooling2D</title></image><text x=\"288.0\" y=\"887.0\" font-family=\"monospace\" font-size=\"12\" text-anchor=\"middle\" fill=\"black\" alignment-baseline=\"central\"  transform=\"rotate(-90 288.0 887.0) translate(2)\" >maxpool1</text><text x=\"88.0\" y=\"770\" font-family=\"monospace\" font-size=\"12\" text-anchor=\"middle\" fill=\"black\" alignment-baseline=\"central\"  transform=\"rotate(-90 88.0 770) translate(2)\" >16</text><text x=\"273.0\" y=\"1000\" font-family=\"monospace\" font-size=\"12\" text-anchor=\"middle\" fill=\"black\" alignment-baseline=\"central\"  transform=\"rotate(-90 273.0 1000) translate(2)\" >0</text><line x1=\"175.0\" y1=\"1014\" x2=\"175.0\" y2=\"987\" stroke=\"black\" stroke-width=\"2\" marker-end=\"url(#arrow)\"><title>Weights from conv2D_1 to maxpool1</title></line><rect x=\"74.0\" y=\"1014\" width=\"202\" height=\"202\" style=\"fill:none;stroke:black;stroke-width:2\"/><image id=\"picture-dashboard-MNIST_CNN-935691_conv2D_1-rotated_7\" class=\"picture-dashboard-MNIST_CNN-935691_conv2D_1-rotated\" x=\"75.0\" y=\"1015\" height=\"200\" width=\"200\" preserveAspectRatio=\"none\" href=\"data:image/gif;base64,R0lGODdhGAAYAIcAAP78/efn/9XV/8fH/7W1/6io/5eX/4GB/319/wAAAAAAAAAAAAAAAAAAAAAAAAAAAAAAAAAAAAAAAAAAAAAAAAAAAAAAAAAAAAAAAAAAAAAAAAAAAAAAAAAAAAAAAAAAAAAAAAAAAAAAAAAAAAAAAAAAAAAAAAAAAAAAAAAAAAAAAAAAAAAAAAAAAAAAAAAAAAAAAAAAAAAAAAAAAAAAAAAAAAAAAAAAAAAAAAAAAAAAAAAAAAAAAAAAAAAAAAAAAAAAAAAAAAAAAAAAAAAAAAAAAAAAAAAAAAAAAAAAAAAAAAAAAAAAAAAAAAAAAAAAAAAAAAAAAAAAAAAAAAAAAAAAAAAAAAAAAAAAAAAAAAAAAAAAAAAAAAAAAAAAAAAAAAAAAAAAAAAAAAAAAAAAAAAAAAAAAAAAAAAAAAAAAAAAAAAAAAAAAAAAAAAAAAAAAAAAAAAAAAAAAAAAAAAAAAAAAAAAAAAAAAAAAAAAAAAAAAAAAAAAAAAAAAAAAAAAAAAAAAAAAAAAAAAAAAAAAAAAAAAAAAAAAAAAAAAAAAAAAAAAAAAAAAAAAAAAAAAAAAAAAAAAAAAAAAAAAAAAAAAAAAAAAAAAAAAAAAAAAAAAAAAAAAAAAAAAAAAAAAAAAAAAAAAAAAAAAAAAAAAAAAAAAAAAAAAAAAAAAAAAAAAAAAAAAAAAAAAAAAAAAAAAAAAAAAAAAAAAAAAAAAAAAAAAAAAAAAAAAAAAAAAAAAAAAAAAAAAAAAAAAAAAAAAAAAAAAAAAAAAAAAAAAAAAAAAAAAAAAAAAAAAAAAAAAAAAAAAAAAAAAAAAAAAAAAAAAAAAAAAAAAAAAAAAAAAAAAAAAAAAAAAAAAAAAAAAAAAAAAAAAAAAAAAAAAAAAAAAAAAAAAAAAAAAAAAAAAAAAAAAAAAAAAAAAAAAAAAAAAAAAAAAAAAAAAAAAAAAAAAAAAAAAAAAAAAAAAAAAAAAAAAAAAAAAAAAAAAAAAAAAAAAAAAAAAAAAAAAAAAAAAAAACwAAAAAGAAYAEAI/wABCBxIsKDBgwEAKDRgIACAhxAjSpxYQACAixgxBhjAUQCAjyBDihxJMgCAkwQGBAAAIACBAQEAyJxJMwCBAAAECADAs6fPnz8DABhKtKjRo0iTKgUQAIDTAgUIDBAwAIDVq1ivBgDAFYABAQDCihVAQECAAQDSql0roEAAAHDjyp1Lt67du3jzBgDAt6/fv4ADCx4MWACAw4gTK04cAIBjBAcECAgAoLLly5gDANhMgAAAAQIGDAgAoLTp06gBFCAAoHXrAQMEBABAu7bt2gUEANjNe7cAAgIEEBAAoLhxAAEICADAvLlzAAECAJgOIEAAAAAICADAvbv3794HBA8AEEAAgPPo06tfz749+oAAOw==\"><title>Layer: conv2D_1 (hidden)\n output range: (-1.0, 1.0)\n dropout = 0.2\n Keras class = Conv2D\n activation = relu</title></image><text x=\"288.0\" y=\"1117.0\" font-family=\"monospace\" font-size=\"12\" text-anchor=\"middle\" fill=\"black\" alignment-baseline=\"central\"  transform=\"rotate(-90 288.0 1117.0) translate(2)\" >conv2D_1</text><text x=\"88.0\" y=\"1000\" font-family=\"monospace\" font-size=\"12\" text-anchor=\"middle\" fill=\"black\" alignment-baseline=\"central\"  transform=\"rotate(-90 88.0 1000) translate(2)\" >16</text><text x=\"273.0\" y=\"1230\" font-family=\"monospace\" font-size=\"12\" text-anchor=\"middle\" fill=\"black\" alignment-baseline=\"central\"  transform=\"rotate(-90 273.0 1230) translate(2)\" >0</text><text x=\"62.0\" y=\"1020\" font-family=\"monospace\" font-size=\"24.0\" text-anchor=\"middle\" fill=\"black\" alignment-baseline=\"central\"  transform=\"rotate(-90 62.0 1020) translate(2)\" >&#10683;</text><line x1=\"175.0\" y1=\"1244\" x2=\"175.0\" y2=\"1217\" stroke=\"black\" stroke-width=\"2\" marker-end=\"url(#arrow)\"><title>Weights from input to conv2D_1\n conv2D_1/kernel has shape (5, 5, 1, 16)\n conv2D_1/bias has shape (16,)</title></line><rect x=\"74.0\" y=\"1244\" width=\"202\" height=\"202\" style=\"fill:none;stroke:black;stroke-width:2\"/><image id=\"picture-dashboard-MNIST_CNN-935691_input-rotated_8\" class=\"picture-dashboard-MNIST_CNN-935691_input-rotated\" x=\"75.0\" y=\"1245\" height=\"200\" width=\"200\" preserveAspectRatio=\"none\" href=\"data:image/gif;base64,R0lGODdhHAAcAIcAAAAAAPz8/MfHxzk5OUVFRRQUFObm5nZ2dtra2iYmJoWFhaampri4uFNTU5ubm2lpaQAAAAAAAAAAAAAAAAAAAAAAAAAAAAAAAAAAAAAAAAAAAAAAAAAAAAAAAAAAAAAAAAAAAAAAAAAAAAAAAAAAAAAAAAAAAAAAAAAAAAAAAAAAAAAAAAAAAAAAAAAAAAAAAAAAAAAAAAAAAAAAAAAAAAAAAAAAAAAAAAAAAAAAAAAAAAAAAAAAAAAAAAAAAAAAAAAAAAAAAAAAAAAAAAAAAAAAAAAAAAAAAAAAAAAAAAAAAAAAAAAAAAAAAAAAAAAAAAAAAAAAAAAAAAAAAAAAAAAAAAAAAAAAAAAAAAAAAAAAAAAAAAAAAAAAAAAAAAAAAAAAAAAAAAAAAAAAAAAAAAAAAAAAAAAAAAAAAAAAAAAAAAAAAAAAAAAAAAAAAAAAAAAAAAAAAAAAAAAAAAAAAAAAAAAAAAAAAAAAAAAAAAAAAAAAAAAAAAAAAAAAAAAAAAAAAAAAAAAAAAAAAAAAAAAAAAAAAAAAAAAAAAAAAAAAAAAAAAAAAAAAAAAAAAAAAAAAAAAAAAAAAAAAAAAAAAAAAAAAAAAAAAAAAAAAAAAAAAAAAAAAAAAAAAAAAAAAAAAAAAAAAAAAAAAAAAAAAAAAAAAAAAAAAAAAAAAAAAAAAAAAAAAAAAAAAAAAAAAAAAAAAAAAAAAAAAAAAAAAAAAAAAAAAAAAAAAAAAAAAAAAAAAAAAAAAAAAAAAAAAAAAAAAAAAAAAAAAAAAAAAAAAAAAAAAAAAAAAAAAAAAAAAAAAAAAAAAAAAAAAAAAAAAAAAAAAAAAAAAAAAAAAAAAAAAAAAAAAAAAAAAAAAAAAAAAAAAAAAAAAAAAAAAAAAAAAAAAAAAAAAAAAAAAAAAAAAAAAAAAAAAAAAAAAAAAAAAAAAAAAAAAAAAAAAAAAAAAAAAAAAAAAAAAAAAAAAAAAAAAAAAAAAAAAAAAAAAAAAAAAAAAAAAAAAAAAAAAAAAACwAAAAAHAAcAEAI/wABCBxIsKDBgwgFBDAQIICBAQAiSpxIkWKCAAYKANjIsSOAAgoCiARAsqTJkyhTqlzJkqWAAAQAyJx5IEAABAQA6NzJcyeDAAcACB1KtKjRo0iTJh2g4EEBAFCjSp1KNaqAAAMAFFAQoCuDAQDCih1LNqwAAwDSqlVbQECAtwEQFABAty5dBwEOANjLt6/fv4ADCx5MuLDhw4gTKza8IEAABA0SAJhMubLlywAEGCjQwECAAAwGABhNurTp0gICEADAeoACAQECLEgAoLbt27gFBCAAoLdvAAQQBAhwYMCABACSK18uIAABANCjS09gIIB1AQCya88+IMACAODDizAXP+DAAQDo06N3EIAAgPfw48ufH78BAgIA8uvfz7+/f4AABA4kWNDgQYQJFS5EGBAAOw==\"><title>Layer: input (input)\n output range: (0.0, 1.0)\n shape = (28, 28, 1)\n Keras class = Input</title></image><text x=\"288.0\" y=\"1347.0\" font-family=\"monospace\" font-size=\"12\" text-anchor=\"middle\" fill=\"black\" alignment-baseline=\"central\"  transform=\"rotate(-90 288.0 1347.0) translate(2)\" >input</text><text x=\"88.0\" y=\"1230\" font-family=\"monospace\" font-size=\"12\" text-anchor=\"middle\" fill=\"black\" alignment-baseline=\"central\"  transform=\"rotate(-90 88.0 1230) translate(2)\" >1</text><text x=\"273.0\" y=\"1460\" font-family=\"monospace\" font-size=\"12\" text-anchor=\"middle\" fill=\"black\" alignment-baseline=\"central\"  transform=\"rotate(-90 273.0 1460) translate(2)\" >0</text><text x=\"18\" y=\"735.0\" font-family=\"monospace\" font-size=\"15\" text-anchor=\"middle\" fill=\"black\" alignment-baseline=\"central\"  transform=\"rotate(-90 18 735.0) translate(2)\" >MNIST_CNN</text></svg></g></svg></p></td>\n</tr>\n<tr>\n  <td valign=\"top\" align=\"center\"><p style=\"text-align:center\"><b>conv2D_1 features</b></p><table><tr><td style=\"border: 1px solid black;\"><img style=\"image-rendering: pixelated;\" class=\"MNIST_CNN_conv2D_1_feature0\" src=\"data:image/gif;base64,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\"/><br/><center>Feature 0</center></td><td style=\"border: 1px solid black;\"><img style=\"image-rendering: pixelated;\" class=\"MNIST_CNN_conv2D_1_feature1\" src=\"data:image/gif;base64,R0lGODdhYABgAIcAAP78/dbW/1dX/3d3/2ho/8PD/+fn/4WF/6Ki/0pK/zY2/7a2/5mZ/ygo/wAAAAAAAAAAAAAAAAAAAAAAAAAAAAAAAAAAAAAAAAAAAAAAAAAAAAAAAAAAAAAAAAAAAAAAAAAAAAAAAAAAAAAAAAAAAAAAAAAAAAAAAAAAAAAAAAAAAAAAAAAAAAAAAAAAAAAAAAAAAAAAAAAAAAAAAAAAAAAAAAAAAAAAAAAAAAAAAAAAAAAAAAAAAAAAAAAAAAAAAAAAAAAAAAAAAAAAAAAAAAAAAAAAAAAAAAAAAAAAAAAAAAAAAAAAAAAAAAAAAAAAAAAAAAAAAAAAAAAAAAAAAAAAAAAAAAAAAAAAAAAAAAAAAAAAAAAAAAAAAAAAAAAAAAAAAAAAAAAAAAAAAAAAAAAAAAAAAAAAAAAAAAAAAAAAAAAAAAAAAAAAAAAAAAAAAAAAAAAAAAAAAAAAAAAAAAAAAAAAAAAAAAAAAAAAAAAAAAAAAAAAAAAAAAAAAAAAAAAAAAAAAAAAAAAAAAAAAAAAAAAAAAAAAAAAAAAAAAAAAAAAAAAAAAAAAAAAAAAAAAAAAAAAAAAAAAAAAAAAAAAAAAAAAAAAAAAAAAAAAAAAAAAAAAAAAAAAAAAAAAAAAAAAAAAAAAAAAAAAAAAAAAAAAAAAAAAAAAAAAAAAAAAAAAAAAAAAAAAAAAAAAAAAAAAAAAAAAAAAAAAAAAAAAAAAAAAAAAAAAAAAAAAAAAAAAAAAAAAAAAAAAAAAAAAAAAAAAAAAAAAAAAAAAAAAAAAAAAAAAAAAAAAAAAAAAAAAAAAAAAAAAAAAAAAAAAAAAAAAAAAAAAAAAAAAAAAAAAAAAAAAAAAAAAAAAAAAAAAAAAAAAAAAAAAAAAAAAAAAAAAAAAAAAAAAAAAAAAAAAAAAAAAAAAAAAAAAAAAAAAAAAAAAAAAAAAAAAAAAAAAAAAAAAAAAAAAAAAAAAAAAAAAAAAAAAAAAAAAAAAAAAAAAAAAAAAAAAAAAAAAAAAAAACwAAAAAYABgAEAI/wABCBxIsKDBgwgTKlzIsKHDhxAjSpxIUWCAiwEKaCxgoKPHjgBCihxJsqTJkyhTqgxpoKUBBDARHJh5QIDNmzYP6DxAoCcBAUCDCh0qIIHRo0YHKB1AoKnTpgOiDlhAdQGAq1izat3KtavXr2DDXl1AdgGDswwQqEUAoK3bt3Djyp1Lt67du20P6D0goK+AAYAHABhMuLDhw4gTK17MeLGBxwYISCYgoLKAA5gPANjMubPnz6BDix5NuvTmAagHEFhNAIFrBABiy55Nu7bt27hz684doHeABMATKBiuAIFxBACSK1/OvLnz59CjS4+OoDoCBdgVJNieoID3AgDCi/8fT768+fPo06tPj6A9AgXwFQyYPwCA/fv48+vfz7+/f4AABA4kWNAgwQMJDyRgmKDBwwYBJAYAUNHiRYwZNW7k2NHjR5AhRY4kWdLkSZQoA6wMcMDlAQExBQygOQDBTZw3C+wsEMDnT6BBhQ5dUHRBAaQFDCw1AMDpU6hRpU4tULUAAKwADGw1AMArgABhAxQgW4DBWbRnB6wdcMDtAQJxCRyge2DB3QUH9B4Q0FcAAcAECgwuAMDwYcSJFS9m3NjxY8iGB0wewMAygwCZAwDg3NnzZ9ChRY8mXZr0AtQLGqxuIMC1gACxAwCgXdv2bdy5de/m3Zt3AeAFEgxPQMD/OAEDyQ0AYN7c+XPo0aVPp16d+gLsCxRsVzDA+wAA4cWPJ1/e/Hn06dWnN9DeAAH4BBrMbzDA/gAA+fXv59/fP0AAAgcSLGjwIMKEAw0wNKDgoQICEgkwqMgAAMaMGjdy7OjxI8iQIAuQLCDgpAAFKhUgaIkAAMyYMmfSrGnzJs6cOAvwLEDgJ4EEQhMMKDoAANKkSpcyber0KdSoUqdSrWr1KtasWrdy7er1K9iwYsduDWA2QIG0BQywbcsWANy4cufSrWv3Lt68dAPwDXDg7wEBggUMKDwAAeLEiAswLhDgMeTIkidTXmB5QYHMBQxwNgDgM+jQokeDNmDaAILU/wgOsD4g4DXs1wdmHyBgm4CA3Lp38xaQ4Dfw3wOGDyBg/LjxAcoHLGi+AAD06NKnU69e4HoBANoBGOhuAAB4AAHGByhgvgCD9OrTD2g/4AD8AwTmEzhg/8CC/AsO8D8gAKAAgQQIEihwsAAAhQsZNnT4EGJEiRMpKlxwcQEDjQwQdEQAAGRIkSNJljR5EmVKlSQHtBzAACaDADMDALB5E2dOnTt59vT5E6jNA0MPCDAqYEDSAQCYNnX6FGpUqVOpVrXKdEHWBQ24NhDwVUAAsQEAlDV7Fm1atWvZtnXb1kBcAwToEhBwV8ABvQcA9PX7F3BgwYMJFzZ8uG8BxQUSNP9OQAAyAQOTDQCwfBlzZs2bOXf2/Bm05QGjBxAwTQBBagQAWLd2/Rp2bNmzade2zXpB7gUKeCsY8HsAAOHDiRc3fhx5cuXLmQsP8DxAAukJFFRXgAA7AgDbuXf3/h18ePHjyY83cN4AAfUEGrRvMAD+AADz6de3fx9/fv37+fefDxCBQAQKCipIgDBBgYUFADh8CDGixIkUK1q8aNGARgMKOiogAJIAg5EMAJg8iTKlypUsW7p8CdMkgpkIFNhUMCDnAAA8e/r8CTSo0KFEixrlWSBpAQFMBSh4qgCBVAQAqlq9ijWr1q1cu3r9WvWA2AMJyiZogLZBgLUBALh9Czf/rty5dOvavWu3gN4CBPoSSAA4wYDBAwAYPow4seLFjBs7fgw5suTJlCtbvow5s+bNnDt7/gw6tOjRpEubPo06terVrDEHeB2ggOwCBmrbrg0gt+7dvHv7/g08uPDhuQMYD1AgeQEDzJszBwA9uvTp1Ktbv449O/UA3AMc+H5AgHgBA8oPQIA+PfoC7AsEeA8/vvz59BfYX1AgfwED/A0AAAhA4ECCBQ0aDJAwwAGGBwQ8FDBA4gAEFS1WLJCxQACOHT1+BBlywcgFBUwWMJDSAACWLV2+hNnSwEwDCGwiOJDzgACePXkeAHqAwFACAoweRZpUQAKmTZkOgDqAwFSq/1MHXB2wQOsCAF29fgUb1qsBsgYQnEVwQO0BAW3dtj0Q9wABugQE3MWbV6+ABH399h0QeAABwoUJD0A8YMHiBQAcP4YcWfLkApULAMAMwMBmAwA8AwgQOkAB0gUYnEZ9esDqAQdcHyAQm8AB2gcW3F5wQPcBAb0FEABOoMDwAgCMH0eeXPnyAs0LAIAOwMB0AwCsAwiQPUAB7gUYfAf/fcD4AQfMHyCQnsAB9gcWvF9wQP4BAfUFEMBPoMD+AgD8AwQgcCDBggYPIkyocOHCBQ4XMIjIAAFFBAAuYsyocSPHjh4/ggy5cQHJBQxOMkCgEgGAli5fwowpcybNmjZvxv8coHMAg54MAgANAGAo0aJGjyJNqnQp06ZHB0AdwGAqgwBWAwDIqnUr165ev4INK3Zs1gNmDwhIK2AA2wEA3sKNK3cu3bp27+LNO/cA3wMC/goYIHgAgMKGDyNOrHgx48aOHxdeIHlBg8oNBGAWEGBzAACeP4MOLXo06dKmT6P2vGD1ggauGwiILSAA7QAAbuPOrXs3796+fwP/bWC4AQLGCQhILuAA8wMAnkOPLn069erWr2PP/twAdwMEvhMQIF7AgfIHAKBPr349+/bu38OPLx99gfoFEuBPQGA/AQP+ARoAMJBgQYMHESZUuJBhw4EFIBZIMDEBAYsEDGQ0AID/Y0ePH0GGFDmSZEmTHAekHECAJQEELxEAkDmTZk2bN3Hm1LmTp80BPwcQEEoAQVEEAJAmVbqUaVOnT6FGlYp0QdUFCrAqGLB1AACvX8GGFTuWbFmzZ9GKXbB2gQK3CgbEHQCAbl27d/Hm1buXb1+/dAMEDpCAcAIFhxUgUIwAQGPHjyFHljyZcmXLlxsH0BwgQecECkArQDAaAQDTp1GnVr2adWvXr10bkG2AQG0CDXA3GLB7AADfv4EHFz6ceHHjx5H7NrDcAAHnBBpEbzCA+gAA17Fn176de3fv38GHv46APAIF5xUkUJ+gQPsCAODHlz+ffn379/Hn1w8fQX8E/wAVCFSQoGCCAggLAFjIsKHDhxAjSpxIcaKBiwYUaFRAoCMBBiAZABhJsqTJkyhTqlzJsuVIAzANKJipgIBNAgxyMgDAs6fPn0CDCh1KtKhRngiSIlDAVMGApwMASJ1KtarVq1izat3K1SqCrwgUiFUwoOwAAGjTql3Ltq3bt3DjykVboG4BAXgFKNirAIFfBAACCx5MuLDhw4gTK14cuIDjAgIiC1BAWQGCywgAaN7MubPnz6BDix5NWvOB0wcSqE7QoHWDALADAJhNu7bt27hz697Nu/fsA8APJBieoIHxBgGSBwDAvLnz59CjS59OvTr1AtgLENhOIIH3BAPCDy4AQL68+fPo06tfz769e/IF4hcgQJ9AgvsJBugfAKC/f4AABA4kWNDgQYQJAQQEADs=\"/><br/><center>Feature 1</center></td><td style=\"border: 1px solid black;\"><img style=\"image-rendering: pixelated;\" class=\"MNIST_CNN_conv2D_1_feature2\" src=\"data:image/gif;base64,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\"/><br/><center>Feature 2</center></td><td style=\"border: 1px solid black;\"><img style=\"image-rendering: pixelated;\" class=\"MNIST_CNN_conv2D_1_feature3\" src=\"data:image/gif;base64,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\"/><br/><center>Feature 3</center></td><td style=\"border: 1px solid black;\"><img style=\"image-rendering: pixelated;\" class=\"MNIST_CNN_conv2D_1_feature4\" src=\"data:image/gif;base64,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\"/><br/><center>Feature 4</center></td><td style=\"border: 1px solid black;\"><img style=\"image-rendering: pixelated;\" class=\"MNIST_CNN_conv2D_1_feature5\" src=\"data:image/gif;base64,R0lGODdhYABgAIcAAP78/ejo/9nZ/wAAAAAAAAAAAAAAAAAAAAAAAAAAAAAAAAAAAAAAAAAAAAAAAAAAAAAAAAAAAAAAAAAAAAAAAAAAAAAAAAAAAAAAAAAAAAAAAAAAAAAAAAAAAAAAAAAAAAAAAAAAAAAAAAAAAAAAAAAAAAAAAAAAAAAAAAAAAAAAAAAAAAAAAAAAAAAAAAAAAAAAAAAAAAAAAAAAAAAAAAAAAAAAAAAAAAAAAAAAAAAAAAAAAAAAAAAAAAAAAAAAAAAAAAAAAAAAAAAAAAAAAAAAAAAAAAAAAAAAAAAAAAAAAAAAAAAAAAAAAAAAAAAAAAAAAAAAAAAAAAAAAAAAAAAAAAAAAAAAAAAAAAAAAAAAAAAAAAAAAAAAAAAAAAAAAAAAAAAAAAAAAAAAAAAAAAAAAAAAAAAAAAAAAAAAAAAAAAAAAAAAAAAAAAAAAAAAAAAAAAAAAAAAAAAAAAAAAAAAAAAAAAAAAAAAAAAAAAAAAAAAAAAAAAAAAAAAAAAAAAAAAAAAAAAAAAAAAAAAAAAAAAAAAAAAAAAAAAAAAAAAAAAAAAAAAAAAAAAAAAAAAAAAAAAAAAAAAAAAAAAAAAAAAAAAAAAAAAAAAAAAAAAAAAAAAAAAAAAAAAAAAAAAAAAAAAAAAAAAAAAAAAAAAAAAAAAAAAAAAAAAAAAAAAAAAAAAAAAAAAAAAAAAAAAAAAAAAAAAAAAAAAAAAAAAAAAAAAAAAAAAAAAAAAAAAAAAAAAAAAAAAAAAAAAAAAAAAAAAAAAAAAAAAAAAAAAAAAAAAAAAAAAAAAAAAAAAAAAAAAAAAAAAAAAAAAAAAAAAAAAAAAAAAAAAAAAAAAAAAAAAAAAAAAAAAAAAAAAAAAAAAAAAAAAAAAAAAAAAAAAAAAAAAAAAAAAAAAAAAAAAAAAAAAAAAAAAAAAAAAAAAAAAAAAAAAAAAAAAAAAAAAAAAAAAAAAAAAAAAAAAAAAAAAAAAAAAAAAAAAAAAAAAAAAAAAAAAAAAAAAAAAAAAAAAACwAAAAAYABgAEAI/wABCBxIsKDBgwgTKlzIsKHDhxAjSpxIsaLFixgzatzoMIDHAABCihxJsqTJkyhTqlzJsqXLlzBjypxJs6bNmzhz6tzJs6fPn0CDCh1KtKjRo0iTKl3KFGaApwEASJ1KtarVqwGyBgDAtSvXAGADABhLtqxZAALSCgDAtq3bt3Djyp1Lt67du3jz6t3Lt6/fv4ADCx5MuLDhw4gTK17MuLHjx5AjS55MubLly5gza97MubPnz48DiA4AoLTp06hTqw7AOgCA17BfB5gdAIDt27hzAxDAWwCA38CDCx9OPIDxAACSK1/OvLnz59CjS59Ovbr169iza9/Ovbv37+DDi/8fT768+fPo06tfz769+/fw48ufT7++/fv48+vfz7+/f4AABA4kWNDgQYQJFS5k2NDhQ4gRJU6kWNHiRYwZNW7k2NHjR5AhRY4kWdLkSZQpVa5k2dLlS5gxZc5UGMBmAAA5de7k2dNnAKABAAwlOjTA0QAAlC5l2hSAAKgCAEylWtXqVawBtAYA0NXrV7BhxQYgGwDAWbRnA6wNAMDtW7hxAQigKwDAXbx59e7lG8BvAACBBQ8mXNjwYcSJFS9mDCDA4wAAJE+mXNnyZcyZNW/m3NnzZ9ChRY8mXdr0adSpVa9m3dr1a9ixZc+mXdv2bdy5de/m3dv3b+DBhQ8nXtwc+HHkyZUvZ97c+XPo0aVPp17d+nXs2bVv5247IAA7\"/><br/><center>Feature 5</center></td><td style=\"border: 1px solid black;\"><img style=\"image-rendering: pixelated;\" class=\"MNIST_CNN_conv2D_1_feature6\" src=\"data:image/gif;base64,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\"/><br/><center>Feature 6</center></td><td style=\"border: 1px solid black;\"><img style=\"image-rendering: pixelated;\" class=\"MNIST_CNN_conv2D_1_feature7\" src=\"data:image/gif;base64,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\"/><br/><center>Feature 7</center></td></tr><tr><td style=\"border: 1px solid black;\"><img style=\"image-rendering: pixelated;\" class=\"MNIST_CNN_conv2D_1_feature8\" src=\"data:image/gif;base64,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\"/><br/><center>Feature 8</center></td><td style=\"border: 1px solid black;\"><img style=\"image-rendering: pixelated;\" class=\"MNIST_CNN_conv2D_1_feature9\" src=\"data:image/gif;base64,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\"/><br/><center>Feature 9</center></td><td style=\"border: 1px solid black;\"><img style=\"image-rendering: pixelated;\" class=\"MNIST_CNN_conv2D_1_feature10\" src=\"data:image/gif;base64,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\"/><br/><center>Feature 10</center></td><td style=\"border: 1px solid black;\"><img style=\"image-rendering: pixelated;\" class=\"MNIST_CNN_conv2D_1_feature11\" src=\"data:image/gif;base64,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\"/><br/><center>Feature 11</center></td><td style=\"border: 1px solid black;\"><img style=\"image-rendering: pixelated;\" class=\"MNIST_CNN_conv2D_1_feature12\" src=\"data:image/gif;base64,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\"/><br/><center>Feature 12</center></td><td style=\"border: 1px solid black;\"><img style=\"image-rendering: pixelated;\" class=\"MNIST_CNN_conv2D_1_feature13\" src=\"data:image/gif;base64,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\"/><br/><center>Feature 13</center></td><td style=\"border: 1px solid black;\"><img style=\"image-rendering: pixelated;\" class=\"MNIST_CNN_conv2D_1_feature14\" src=\"data:image/gif;base64,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\"/><br/><center>Feature 14</center></td><td style=\"border: 1px solid black;\"><img style=\"image-rendering: pixelated;\" class=\"MNIST_CNN_conv2D_1_feature15\" src=\"data:image/gif;base64,R0lGODdhYABgAIcAAP78/enp/93d/wAAAAAAAAAAAAAAAAAAAAAAAAAAAAAAAAAAAAAAAAAAAAAAAAAAAAAAAAAAAAAAAAAAAAAAAAAAAAAAAAAAAAAAAAAAAAAAAAAAAAAAAAAAAAAAAAAAAAAAAAAAAAAAAAAAAAAAAAAAAAAAAAAAAAAAAAAAAAAAAAAAAAAAAAAAAAAAAAAAAAAAAAAAAAAAAAAAAAAAAAAAAAAAAAAAAAAAAAAAAAAAAAAAAAAAAAAAAAAAAAAAAAAAAAAAAAAAAAAAAAAAAAAAAAAAAAAAAAAAAAAAAAAAAAAAAAAAAAAAAAAAAAAAAAAAAAAAAAAAAAAAAAAAAAAAAAAAAAAAAAAAAAAAAAAAAAAAAAAAAAAAAAAAAAAAAAAAAAAAAAAAAAAAAAAAAAAAAAAAAAAAAAAAAAAAAAAAAAAAAAAAAAAAAAAAAAAAAAAAAAAAAAAAAAAAAAAAAAAAAAAAAAAAAAAAAAAAAAAAAAAAAAAAAAAAAAAAAAAAAAAAAAAAAAAAAAAAAAAAAAAAAAAAAAAAAAAAAAAAAAAAAAAAAAAAAAAAAAAAAAAAAAAAAAAAAAAAAAAAAAAAAAAAAAAAAAAAAAAAAAAAAAAAAAAAAAAAAAAAAAAAAAAAAAAAAAAAAAAAAAAAAAAAAAAAAAAAAAAAAAAAAAAAAAAAAAAAAAAAAAAAAAAAAAAAAAAAAAAAAAAAAAAAAAAAAAAAAAAAAAAAAAAAAAAAAAAAAAAAAAAAAAAAAAAAAAAAAAAAAAAAAAAAAAAAAAAAAAAAAAAAAAAAAAAAAAAAAAAAAAAAAAAAAAAAAAAAAAAAAAAAAAAAAAAAAAAAAAAAAAAAAAAAAAAAAAAAAAAAAAAAAAAAAAAAAAAAAAAAAAAAAAAAAAAAAAAAAAAAAAAAAAAAAAAAAAAAAAAAAAAAAAAAAAAAAAAAAAAAAAAAAAAAAAAAAAAAAAAAAAAAAAAAAAAAAAAAAAAAAAAAAAAAAAAAAAAAAAAAAAAAAAAAAAAAACwAAAAAYABgAEAI/wABCBxIsKDBgwgTKlzIsKHDhxAjSpxIsaLFixgzatzIsaPHjyBDihxJsqTJkyhTqlzJsqXLlzBjypxJs2ZEATgFBNgZAIDPn0CDCh1KtKjRo0iTKl3KtKnTp1CjSp1KtarVq1izat3KtavXr2DDih1LtqzZs2jTql3Ltq3bt3Djyj0roK6AAHgDANjLt6/fv4ADCx5MuLDhw4gTK17MuLHjx5AjS55MubLly5gza97MubPnz6BDix5NurTp06hTq17NurXr17Bjy55Nu7bt27hz697Nu7fv38CDCx9OvPhoAcgFBFgeAIDz59CjS59Ovbr169itC9guIID3AADCi3UfT768+fPo06tfz769+/fw48ufT7++/fv48+vfz7+/f4AABA4kWNDgQYQJFS5k2NDhQ4gRJU6kWNHiRYwZNW7k2NHjR5AhRY4kWdLkSZQpVa5k2dLlS5gxZc6kWdPmTZw5de7k2dPnT6BBhQ4lWtToUaQcAwIAOw==\"/><br/><center>Feature 15</center></td></tr><tr></tr></table></td>\n</tr>\n</table>"
      }
     },
     "32fcb52ce10a4ac89424f9e5328dc571": {
      "model_module": "@jupyter-widgets/base",
      "model_module_version": "1.0.0",
      "model_name": "LayoutModel",
      "state": {}
     },
     "331504f227c249eebf7a13b39364612a": {
      "model_module": "@jupyter-widgets/controls",
      "model_module_version": "1.1.0",
      "model_name": "CheckboxModel",
      "state": {
       "description": "Rotate",
       "disabled": false,
       "layout": "IPY_MODEL_139bfae7d4de484ba63aca14443ff45c",
       "style": "IPY_MODEL_a963cd0e3ff64926811b957fe819538f",
       "value": true
      }
     },
     "3458c8e1be2942de96963c65a67b2848": {
      "model_module": "@jupyter-widgets/controls",
      "model_module_version": "1.1.0",
      "model_name": "DescriptionStyleModel",
      "state": {
       "description_width": "initial"
      }
     },
     "35193bbfb504494caba29d6918321c24": {
      "model_module": "@jupyter-widgets/controls",
      "model_module_version": "1.1.0",
      "model_name": "DescriptionStyleModel",
      "state": {
       "description_width": ""
      }
     },
     "3554bd7a81dc4042bfcee174d1f147df": {
      "model_module": "@jupyter-widgets/base",
      "model_module_version": "1.0.0",
      "model_name": "LayoutModel",
      "state": {
       "width": "100%"
      }
     },
     "35e6d7803c3e4e8a8f347baeb31c4d6c": {
      "model_module": "@jupyter-widgets/controls",
      "model_module_version": "1.1.0",
      "model_name": "SelectModel",
      "state": {
       "_options_labels": [
        "input",
        "flat_input",
        "hidden1",
        "hidden2",
        "output"
       ],
       "description": "Layer:",
       "index": 4,
       "layout": "IPY_MODEL_a298b9ed627a4b2fb36c8d344e006b3f",
       "rows": 1,
       "style": "IPY_MODEL_ea1441b1d8774341825a365db1e28aff"
      }
     },
     "3611bfee8fb54dda8fdafd816cc53311": {
      "model_module": "@jupyter-widgets/controls",
      "model_module_version": "1.1.0",
      "model_name": "DescriptionStyleModel",
      "state": {
       "description_width": "initial"
      }
     },
     "36edac56c64b43cfa0f483fd808ef9b9": {
      "model_module": "@jupyter-widgets/base",
      "model_module_version": "1.0.0",
      "model_name": "LayoutModel",
      "state": {
       "width": "100px"
      }
     },
     "38692a88fe5a4b47840b597697ac786e": {
      "model_module": "@jupyter-widgets/controls",
      "model_module_version": "1.1.0",
      "model_name": "FloatTextModel",
      "state": {
       "description": "Rightmost color maps to:",
       "layout": "IPY_MODEL_a3d462feb11343c38a0ffd49ac2d9100",
       "step": null,
       "style": "IPY_MODEL_77bcf6713c2a452899412c3a07b86be1",
       "value": 1
      }
     },
     "3bb411c54b2f4ed19e834f5579d51c25": {
      "model_module": "@jupyter-widgets/controls",
      "model_module_version": "1.1.0",
      "model_name": "IntTextModel",
      "state": {
       "description": "Feature columns:",
       "layout": "IPY_MODEL_0f1254315d9c4373a1f7b55bfb3f3012",
       "step": 1,
       "style": "IPY_MODEL_d11e111a09b5484580beeee252afd9b5",
       "value": 8
      }
     },
     "3f747cbf57724d1d8efa5c99ec1898b9": {
      "model_module": "@jupyter-widgets/controls",
      "model_module_version": "1.1.0",
      "model_name": "VBoxModel",
      "state": {
       "children": [
        "IPY_MODEL_35e6d7803c3e4e8a8f347baeb31c4d6c",
        "IPY_MODEL_50906e4b59c5460c8e13bc2f5312b256",
        "IPY_MODEL_5d0a196fac874013a498e814fa86128f",
        "IPY_MODEL_d382df61df014ab794f2c9b2ff829327",
        "IPY_MODEL_8e61d69c39ad46d485394b9b6977c7c0",
        "IPY_MODEL_1933b858f277486da62528f40eb386c8",
        "IPY_MODEL_28409040ce8540f28bd50b9737d60ef8",
        "IPY_MODEL_ecb3f29d92634a5595ca065b37bce380"
       ],
       "layout": "IPY_MODEL_4171f7c869514f249472a4382fc962d0"
      }
     },
     "40222f278ce545cc89256bd1f50fb587": {
      "model_module": "@jupyter-widgets/base",
      "model_module_version": "1.0.0",
      "model_name": "LayoutModel",
      "state": {}
     },
     "40979c790efe4874b7b6a31003993e72": {
      "model_module": "@jupyter-widgets/controls",
      "model_module_version": "1.1.0",
      "model_name": "CheckboxModel",
      "state": {
       "description": "Visible",
       "disabled": false,
       "layout": "IPY_MODEL_139bfae7d4de484ba63aca14443ff45c",
       "style": "IPY_MODEL_f8f7e0fe5c5f420f9bbffe908bee6e1a",
       "value": true
      }
     },
     "4171f7c869514f249472a4382fc962d0": {
      "model_module": "@jupyter-widgets/base",
      "model_module_version": "1.0.0",
      "model_name": "LayoutModel",
      "state": {
       "width": "100%"
      }
     },
     "41c719344d1a4d72be585407b3ccf235": {
      "model_module": "@jupyter-widgets/controls",
      "model_module_version": "1.1.0",
      "model_name": "DescriptionStyleModel",
      "state": {
       "description_width": ""
      }
     },
     "4249c7e2e5074992ab08858e882744c8": {
      "model_module": "@jupyter-widgets/controls",
      "model_module_version": "1.1.0",
      "model_name": "ButtonStyleModel",
      "state": {}
     },
     "43cd655a5cb3467b82ea9b29f583ed62": {
      "model_module": "@jupyter-widgets/controls",
      "model_module_version": "1.1.0",
      "model_name": "ButtonModel",
      "state": {
       "icon": "fast-backward",
       "layout": "IPY_MODEL_7faeb1a777e84727ad73028f114887ea",
       "style": "IPY_MODEL_4f5b6a1ccc204216b606ec31450f967e"
      }
     },
     "43cfb52e0323470a9e3929ca0daba3f6": {
      "model_module": "@jupyter-widgets/base",
      "model_module_version": "1.0.0",
      "model_name": "LayoutModel",
      "state": {
       "width": "52%"
      }
     },
     "464b7620d8e341ecaaa039b4fc6bf364": {
      "model_module": "@jupyter-widgets/base",
      "model_module_version": "1.0.0",
      "model_name": "LayoutModel",
      "state": {
       "width": "52%"
      }
     },
     "46567a50d8cf4d1cb67e5b911490f989": {
      "model_module": "@jupyter-widgets/controls",
      "model_module_version": "1.1.0",
      "model_name": "SliderStyleModel",
      "state": {
       "description_width": ""
      }
     },
     "467253ae406e49bea3b03b7ee6e24743": {
      "model_module": "@jupyter-widgets/controls",
      "model_module_version": "1.1.0",
      "model_name": "DescriptionStyleModel",
      "state": {
       "description_width": ""
      }
     },
     "46ea7cf0fe9f4b9ea839e073f095e98a": {
      "model_module": "@jupyter-widgets/controls",
      "model_module_version": "1.1.0",
      "model_name": "HTMLModel",
      "state": {
       "layout": "IPY_MODEL_2f0da06b20624195aafff3b1f9561d63",
       "style": "IPY_MODEL_6fe628cd447141fc99af5a6dde615c38",
       "value": "<img src=\"data:image/gif;base64,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\"/>"
      }
     },
     "46f3bae4553b4d6daa9bf34bd63463b5": {
      "model_module": "@jupyter-widgets/base",
      "model_module_version": "1.0.0",
      "model_name": "LayoutModel",
      "state": {}
     },
     "4b2bfc1d97de4ef0a4a7213b28589ffc": {
      "model_module": "@jupyter-widgets/controls",
      "model_module_version": "1.1.0",
      "model_name": "FloatSliderModel",
      "state": {
       "continuous_update": false,
       "description": "Zoom",
       "layout": "IPY_MODEL_e2bd79287c1148889b030eb8fbd7ec2a",
       "max": 1,
       "step": 0.1,
       "style": "IPY_MODEL_20d7fae516924826ace8586b0a63c8b0",
       "value": 1
      }
     },
     "4bbe9af17619449a83946031d89890f1": {
      "model_module": "@jupyter-widgets/base",
      "model_module_version": "1.0.0",
      "model_name": "LayoutModel",
      "state": {
       "height": "50px",
       "width": "100%"
      }
     },
     "4f5b6a1ccc204216b606ec31450f967e": {
      "model_module": "@jupyter-widgets/controls",
      "model_module_version": "1.1.0",
      "model_name": "ButtonStyleModel",
      "state": {}
     },
     "50906e4b59c5460c8e13bc2f5312b256": {
      "model_module": "@jupyter-widgets/controls",
      "model_module_version": "1.1.0",
      "model_name": "CheckboxModel",
      "state": {
       "description": "Visible",
       "disabled": false,
       "layout": "IPY_MODEL_68f79996119043d489f112fb702ca52a",
       "style": "IPY_MODEL_f9a2f35dd5624fdcaa4c15c866fa0921",
       "value": true
      }
     },
     "50b12b4ff915418f8b896b63f5a3d2ad": {
      "model_module": "@jupyter-widgets/base",
      "model_module_version": "1.0.0",
      "model_name": "LayoutModel",
      "state": {}
     },
     "51f8102b42584ba587232e6b3ba5a4e8": {
      "model_module": "@jupyter-widgets/base",
      "model_module_version": "1.0.0",
      "model_name": "LayoutModel",
      "state": {}
     },
     "569c9d16a16b4186a534048b5233a047": {
      "model_module": "@jupyter-widgets/base",
      "model_module_version": "1.0.0",
      "model_name": "LayoutModel",
      "state": {}
     },
     "590f73734bac44e581881f1ed6441f88": {
      "model_module": "@jupyter-widgets/base",
      "model_module_version": "1.0.0",
      "model_name": "LayoutModel",
      "state": {}
     },
     "59d0f9326c33495d8a8b72a3e08593e6": {
      "model_module": "@jupyter-widgets/base",
      "model_module_version": "1.0.0",
      "model_name": "LayoutModel",
      "state": {}
     },
     "5a2a611bfae04c498fe5c6cfbb46fb57": {
      "model_module": "@jupyter-widgets/base",
      "model_module_version": "1.0.0",
      "model_name": "LayoutModel",
      "state": {
       "width": "100%"
      }
     },
     "5bd84ce18a5c4149a537005a8e3be6b1": {
      "model_module": "@jupyter-widgets/controls",
      "model_module_version": "1.1.0",
      "model_name": "ButtonStyleModel",
      "state": {}
     },
     "5d0a196fac874013a498e814fa86128f": {
      "model_module": "@jupyter-widgets/controls",
      "model_module_version": "1.1.0",
      "model_name": "SelectModel",
      "state": {
       "_options_labels": [
        "",
        "Accent",
        "Accent_r",
        "Blues",
        "Blues_r",
        "BrBG",
        "BrBG_r",
        "BuGn",
        "BuGn_r",
        "BuPu",
        "BuPu_r",
        "CMRmap",
        "CMRmap_r",
        "Dark2",
        "Dark2_r",
        "GnBu",
        "GnBu_r",
        "Greens",
        "Greens_r",
        "Greys",
        "Greys_r",
        "OrRd",
        "OrRd_r",
        "Oranges",
        "Oranges_r",
        "PRGn",
        "PRGn_r",
        "Paired",
        "Paired_r",
        "Pastel1",
        "Pastel1_r",
        "Pastel2",
        "Pastel2_r",
        "PiYG",
        "PiYG_r",
        "PuBu",
        "PuBuGn",
        "PuBuGn_r",
        "PuBu_r",
        "PuOr",
        "PuOr_r",
        "PuRd",
        "PuRd_r",
        "Purples",
        "Purples_r",
        "RdBu",
        "RdBu_r",
        "RdGy",
        "RdGy_r",
        "RdPu",
        "RdPu_r",
        "RdYlBu",
        "RdYlBu_r",
        "RdYlGn",
        "RdYlGn_r",
        "Reds",
        "Reds_r",
        "Set1",
        "Set1_r",
        "Set2",
        "Set2_r",
        "Set3",
        "Set3_r",
        "Spectral",
        "Spectral_r",
        "Vega10",
        "Vega10_r",
        "Vega20",
        "Vega20_r",
        "Vega20b",
        "Vega20b_r",
        "Vega20c",
        "Vega20c_r",
        "Wistia",
        "Wistia_r",
        "YlGn",
        "YlGnBu",
        "YlGnBu_r",
        "YlGn_r",
        "YlOrBr",
        "YlOrBr_r",
        "YlOrRd",
        "YlOrRd_r",
        "afmhot",
        "afmhot_r",
        "autumn",
        "autumn_r",
        "binary",
        "binary_r",
        "bone",
        "bone_r",
        "brg",
        "brg_r",
        "bwr",
        "bwr_r",
        "cool",
        "cool_r",
        "coolwarm",
        "coolwarm_r",
        "copper",
        "copper_r",
        "cubehelix",
        "cubehelix_r",
        "flag",
        "flag_r",
        "gist_earth",
        "gist_earth_r",
        "gist_gray",
        "gist_gray_r",
        "gist_heat",
        "gist_heat_r",
        "gist_ncar",
        "gist_ncar_r",
        "gist_rainbow",
        "gist_rainbow_r",
        "gist_stern",
        "gist_stern_r",
        "gist_yarg",
        "gist_yarg_r",
        "gnuplot",
        "gnuplot2",
        "gnuplot2_r",
        "gnuplot_r",
        "gray",
        "gray_r",
        "hot",
        "hot_r",
        "hsv",
        "hsv_r",
        "inferno",
        "inferno_r",
        "jet",
        "jet_r",
        "magma",
        "magma_r",
        "nipy_spectral",
        "nipy_spectral_r",
        "ocean",
        "ocean_r",
        "pink",
        "pink_r",
        "plasma",
        "plasma_r",
        "prism",
        "prism_r",
        "rainbow",
        "rainbow_r",
        "seismic",
        "seismic_r",
        "spectral",
        "spectral_r",
        "spring",
        "spring_r",
        "summer",
        "summer_r",
        "tab10",
        "tab10_r",
        "tab20",
        "tab20_r",
        "tab20b",
        "tab20b_r",
        "tab20c",
        "tab20c_r",
        "terrain",
        "terrain_r",
        "viridis",
        "viridis_r",
        "winter",
        "winter_r"
       ],
       "description": "Colormap:",
       "index": 0,
       "layout": "IPY_MODEL_68f79996119043d489f112fb702ca52a",
       "rows": 1,
       "style": "IPY_MODEL_35193bbfb504494caba29d6918321c24"
      }
     },
     "5f2bd17298544c859e137be6d4bf88c2": {
      "model_module": "@jupyter-widgets/controls",
      "model_module_version": "1.1.0",
      "model_name": "ButtonModel",
      "state": {
       "icon": "fast-forward",
       "layout": "IPY_MODEL_fb8f554f6ecc407b8147535c7d6686f0",
       "style": "IPY_MODEL_70daf044deca47ff9150aa643e81e1bd"
      }
     },
     "5fbe1f2177db4d68b70a7b561fd733ed": {
      "model_module": "@jupyter-widgets/controls",
      "model_module_version": "1.1.0",
      "model_name": "FloatTextModel",
      "state": {
       "description": "Feature scale:",
       "layout": "IPY_MODEL_604b434240a14658808cf838d6411c82",
       "step": null,
       "style": "IPY_MODEL_e1c3cc62726046d38d3a93a0e0d51545",
       "value": 4
      }
     },
     "5fe0a315720e41b1b68af4375cc174be": {
      "model_module": "@jupyter-widgets/controls",
      "model_module_version": "1.1.0",
      "model_name": "DescriptionStyleModel",
      "state": {
       "description_width": "initial"
      }
     },
     "604b434240a14658808cf838d6411c82": {
      "model_module": "@jupyter-widgets/base",
      "model_module_version": "1.0.0",
      "model_name": "LayoutModel",
      "state": {}
     },
     "61bef0fe01324933ad083d6c36ff802f": {
      "model_module": "@jupyter-widgets/controls",
      "model_module_version": "1.1.0",
      "model_name": "DescriptionStyleModel",
      "state": {
       "description_width": ""
      }
     },
     "6275bcc3b20a4840b14614b3d02fbdbe": {
      "model_module": "@jupyter-widgets/base",
      "model_module_version": "1.0.0",
      "model_name": "LayoutModel",
      "state": {
       "width": "100%"
      }
     },
     "63ca5792c9c64cb8a71c152beef3c2ec": {
      "model_module": "@jupyter-widgets/base",
      "model_module_version": "1.0.0",
      "model_name": "LayoutModel",
      "state": {
       "width": "100%"
      }
     },
     "6498a140feaf4d1e9162df5ea98465fa": {
      "model_module": "@jupyter-widgets/base",
      "model_module_version": "1.0.0",
      "model_name": "LayoutModel",
      "state": {}
     },
     "6554215539ac40a4bb945587b0e90a47": {
      "model_module": "@jupyter-widgets/controls",
      "model_module_version": "1.1.0",
      "model_name": "DescriptionStyleModel",
      "state": {
       "description_width": "initial"
      }
     },
     "65b094425c514804818428500361d8a9": {
      "model_module": "@jupyter-widgets/base",
      "model_module_version": "1.0.0",
      "model_name": "LayoutModel",
      "state": {}
     },
     "66bbe758439443639eff05855a706b34": {
      "model_module": "@jupyter-widgets/base",
      "model_module_version": "1.0.0",
      "model_name": "LayoutModel",
      "state": {}
     },
     "68b6135b1dde4e9eb0bf1465184421d4": {
      "model_module": "@jupyter-widgets/controls",
      "model_module_version": "1.1.0",
      "model_name": "HBoxModel",
      "state": {
       "children": [
        "IPY_MODEL_8bde2489d4e946c6872f920d203f037d",
        "IPY_MODEL_f6ec753eb84347caa211c377fe3dc6ef",
        "IPY_MODEL_9e285ce6e0f24e98b65239a6e9621fd0",
        "IPY_MODEL_a4e4c43f2b8c45d8bbf147168737acc6",
        "IPY_MODEL_5f2bd17298544c859e137be6d4bf88c2",
        "IPY_MODEL_7ce44cee3fa944b195e51d065da40948",
        "IPY_MODEL_90ee239c7b024560b4a9e97236389a01"
       ],
       "layout": "IPY_MODEL_c5299c4edd7f466d8d56374748461926"
      }
     },
     "68f79996119043d489f112fb702ca52a": {
      "model_module": "@jupyter-widgets/base",
      "model_module_version": "1.0.0",
      "model_name": "LayoutModel",
      "state": {}
     },
     "69944fe85b02466bb658c14ccbea3a9c": {
      "model_module": "@jupyter-widgets/base",
      "model_module_version": "1.0.0",
      "model_name": "LayoutModel",
      "state": {
       "width": "25%"
      }
     },
     "699ab151488c4e8daadd67b291fc5f39": {
      "model_module": "@jupyter-widgets/controls",
      "model_module_version": "1.1.0",
      "model_name": "HTMLModel",
      "state": {
       "layout": "IPY_MODEL_31a5095e33dd459dba49e85cfbb57b98",
       "style": "IPY_MODEL_dde6c7b517ab4ffd8db5c85e27c0a507",
       "value": "<p style=\"text-align:center\"><svg id='MNIST_MLP' xmlns='http://www.w3.org/2000/svg' image-rendering=\"pixelated\" width=\"480.0px\" height=\"266.66666666666663px\">\n <g  transform=\"rotate(90) translate(0 -480.0)\" >\n  <svg viewBox=\"0 0 350 630\" width=\"266.66666666666663px\" height=\"480.0px\">\n    <defs>\n        <marker id=\"arrow\" markerWidth=\"10\" markerHeight=\"10\" refX=\"9\" refY=\"3\" orient=\"auto\" markerUnits=\"strokeWidth\">\n          <path d=\"M0,0 L0,6 L9,3 z\" fill=\"black\" />\n        </marker>\n    </defs><rect x=\"74.0\" y=\"24\" width=\"202\" height=\"52\" style=\"fill:none;stroke:black;stroke-width:2\"/><image id=\"picture-dashboard-MNIST_MLP-403467_output_targets_1\" class=\"picture-dashboard-MNIST_MLP-403467_output_targets\" x=\"75.0\" y=\"25\" height=\"50\" width=\"200\" preserveAspectRatio=\"none\" href=\"data:image/gif;base64,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\"><title>Layer: output (output)\n output range: (-1.0, 1.0)\n shape = (10,)\n Keras class = Dense\n activation = softmax</title></image><text x=\"288.0\" y=\"52.0\" font-family=\"monospace\" font-size=\"12\" text-anchor=\"middle\" fill=\"black\" alignment-baseline=\"central\"  transform=\"rotate(-90 288.0 52.0) translate(2)\" >targets</text><rect x=\"74.0\" y=\"84\" width=\"202\" height=\"52\" style=\"fill:none;stroke:black;stroke-width:2\"/><image id=\"picture-dashboard-MNIST_MLP-403467_output-rotated_1\" class=\"picture-dashboard-MNIST_MLP-403467_output-rotated\" x=\"75.0\" y=\"85\" height=\"50\" width=\"200\" preserveAspectRatio=\"none\" href=\"data:image/gif;base64,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\"><title>Layer: output (output)\n output range: (-1.0, 1.0)\n shape = (10,)\n Keras class = Dense\n activation = softmax</title></image><text x=\"288.0\" y=\"112.0\" font-family=\"monospace\" font-size=\"12\" text-anchor=\"middle\" fill=\"black\" alignment-baseline=\"central\"  transform=\"rotate(-90 288.0 112.0) translate(2)\" >output</text><line x1=\"175.0\" y1=\"164\" x2=\"175.0\" y2=\"137\" stroke=\"black\" stroke-width=\"2\" marker-end=\"url(#arrow)\"><title>Weights from hidden2 to output\n output/kernel has shape (30, 10)\n output/bias has shape (10,)</title></line><rect x=\"74.0\" y=\"164\" width=\"202\" height=\"52\" style=\"fill:none;stroke:black;stroke-width:2\"/><image id=\"picture-dashboard-MNIST_MLP-403467_hidden2-rotated_2\" class=\"picture-dashboard-MNIST_MLP-403467_hidden2-rotated\" x=\"75.0\" y=\"165\" height=\"50\" width=\"200\" preserveAspectRatio=\"none\" href=\"data:image/gif;base64,R0lGODdhHgABAIcAAP/9/UlJ/yUl/9XV/2lp/w0N/wAA0L29/wAAAAAAAAAAAAAAAAAAAAAAAAAAAAAAAAAAAAAAAAAAAAAAAAAAAAAAAAAAAAAAAAAAAAAAAAAAAAAAAAAAAAAAAAAAAAAAAAAAAAAAAAAAAAAAAAAAAAAAAAAAAAAAAAAAAAAAAAAAAAAAAAAAAAAAAAAAAAAAAAAAAAAAAAAAAAAAAAAAAAAAAAAAAAAAAAAAAAAAAAAAAAAAAAAAAAAAAAAAAAAAAAAAAAAAAAAAAAAAAAAAAAAAAAAAAAAAAAAAAAAAAAAAAAAAAAAAAAAAAAAAAAAAAAAAAAAAAAAAAAAAAAAAAAAAAAAAAAAAAAAAAAAAAAAAAAAAAAAAAAAAAAAAAAAAAAAAAAAAAAAAAAAAAAAAAAAAAAAAAAAAAAAAAAAAAAAAAAAAAAAAAAAAAAAAAAAAAAAAAAAAAAAAAAAAAAAAAAAAAAAAAAAAAAAAAAAAAAAAAAAAAAAAAAAAAAAAAAAAAAAAAAAAAAAAAAAAAAAAAAAAAAAAAAAAAAAAAAAAAAAAAAAAAAAAAAAAAAAAAAAAAAAAAAAAAAAAAAAAAAAAAAAAAAAAAAAAAAAAAAAAAAAAAAAAAAAAAAAAAAAAAAAAAAAAAAAAAAAAAAAAAAAAAAAAAAAAAAAAAAAAAAAAAAAAAAAAAAAAAAAAAAAAAAAAAAAAAAAAAAAAAAAAAAAAAAAAAAAAAAAAAAAAAAAAAAAAAAAAAAAAAAAAAAAAAAAAAAAAAAAAAAAAAAAAAAAAAAAAAAAAAAAAAAAAAAAAAAAAAAAAAAAAAAAAAAAAAAAAAAAAAAAAAAAAAAAAAAAAAAAAAAAAAAAAAAAAAAAAAAAAAAAAAAAAAAAAAAAAAAAAAAAAAAAAAAAAAAAAAAAAAAAAAAAAAAAAAAAAAAAAAAAAAAAAAAAAAAAAAAAAAAAAAAAAAAAAAAAAAAAAAAAAAAAAAAAAAAAAAAAAAAAAAAAAAAAAAAAAAAAAAAAAAAAAACwAAAAAHgABAAAIGgABEABAUACAgwgTBjAA4AAAAAMASJRYAEBAADs=\"><title>Layer: hidden2 (hidden)\n output range: (-1.0, 1.0)\n shape = (30,)\n dropout = 0.2\n Keras class = Dense\n activation = relu</title></image><text x=\"288.0\" y=\"192.0\" font-family=\"monospace\" font-size=\"12\" text-anchor=\"middle\" fill=\"black\" alignment-baseline=\"central\"  transform=\"rotate(-90 288.0 192.0) translate(2)\" >hidden2</text><text x=\"62.0\" y=\"170\" font-family=\"monospace\" font-size=\"24.0\" text-anchor=\"middle\" fill=\"black\" alignment-baseline=\"central\"  transform=\"rotate(-90 62.0 170) translate(2)\" >&#10683;</text><line x1=\"175.0\" y1=\"244\" x2=\"175.0\" y2=\"217\" stroke=\"black\" stroke-width=\"2\" marker-end=\"url(#arrow)\"><title>Weights from hidden1 to hidden2\n hidden2/kernel has shape (30, 30)\n hidden2/bias has shape (30,)</title></line><rect x=\"74.0\" y=\"244\" width=\"202\" height=\"52\" style=\"fill:none;stroke:black;stroke-width:2\"/><image id=\"picture-dashboard-MNIST_MLP-403467_hidden1-rotated_3\" class=\"picture-dashboard-MNIST_MLP-403467_hidden1-rotated\" x=\"75.0\" y=\"245\" height=\"50\" width=\"200\" preserveAspectRatio=\"none\" href=\"data:image/gif;base64,R0lGODdhHgABAIcAAP/9/ZaW/wAA6jk5/9nZ/4SE/wAA2wAAqxgY/+np/3Fx/wAAfgAAAAAAAAAAAAAAAAAAAAAAAAAAAAAAAAAAAAAAAAAAAAAAAAAAAAAAAAAAAAAAAAAAAAAAAAAAAAAAAAAAAAAAAAAAAAAAAAAAAAAAAAAAAAAAAAAAAAAAAAAAAAAAAAAAAAAAAAAAAAAAAAAAAAAAAAAAAAAAAAAAAAAAAAAAAAAAAAAAAAAAAAAAAAAAAAAAAAAAAAAAAAAAAAAAAAAAAAAAAAAAAAAAAAAAAAAAAAAAAAAAAAAAAAAAAAAAAAAAAAAAAAAAAAAAAAAAAAAAAAAAAAAAAAAAAAAAAAAAAAAAAAAAAAAAAAAAAAAAAAAAAAAAAAAAAAAAAAAAAAAAAAAAAAAAAAAAAAAAAAAAAAAAAAAAAAAAAAAAAAAAAAAAAAAAAAAAAAAAAAAAAAAAAAAAAAAAAAAAAAAAAAAAAAAAAAAAAAAAAAAAAAAAAAAAAAAAAAAAAAAAAAAAAAAAAAAAAAAAAAAAAAAAAAAAAAAAAAAAAAAAAAAAAAAAAAAAAAAAAAAAAAAAAAAAAAAAAAAAAAAAAAAAAAAAAAAAAAAAAAAAAAAAAAAAAAAAAAAAAAAAAAAAAAAAAAAAAAAAAAAAAAAAAAAAAAAAAAAAAAAAAAAAAAAAAAAAAAAAAAAAAAAAAAAAAAAAAAAAAAAAAAAAAAAAAAAAAAAAAAAAAAAAAAAAAAAAAAAAAAAAAAAAAAAAAAAAAAAAAAAAAAAAAAAAAAAAAAAAAAAAAAAAAAAAAAAAAAAAAAAAAAAAAAAAAAAAAAAAAAAAAAAAAAAAAAAAAAAAAAAAAAAAAAAAAAAAAAAAAAAAAAAAAAAAAAAAAAAAAAAAAAAAAAAAAAAAAAAAAAAAAAAAAAAAAAAAAAAAAAAAAAAAAAAAAAAAAAAAAAAAAAAAAAAAAAAAAAAAAAAAAAAAAAAAAAAAAAAAAAAAAAAAAAAAAAAAAAAAAAAAAAAAAAAAAAAAACwAAAAAHgABAAAIIwABKAAAIACABAAABBgAAEEAAwAGFABAAIDFBQAOCAAgAEBAADs=\"><title>Layer: hidden1 (hidden)\n output range: (-1.0, 1.0)\n shape = (30,)\n dropout = 0.2\n Keras class = Dense\n activation = relu</title></image><text x=\"288.0\" y=\"272.0\" font-family=\"monospace\" font-size=\"12\" text-anchor=\"middle\" fill=\"black\" alignment-baseline=\"central\"  transform=\"rotate(-90 288.0 272.0) translate(2)\" >hidden1</text><text x=\"62.0\" y=\"250\" font-family=\"monospace\" font-size=\"24.0\" text-anchor=\"middle\" fill=\"black\" alignment-baseline=\"central\"  transform=\"rotate(-90 62.0 250) translate(2)\" >&#10683;</text><line x1=\"175.0\" y1=\"324\" x2=\"175.0\" y2=\"297\" stroke=\"black\" stroke-width=\"2\" marker-end=\"url(#arrow)\"><title>Weights from flat_input to hidden1\n hidden1/kernel has shape (784, 30)\n hidden1/bias has shape (30,)</title></line><rect x=\"74.0\" y=\"324\" width=\"202\" height=\"52\" style=\"fill:none;stroke:black;stroke-width:2\"/><image id=\"picture-dashboard-MNIST_MLP-403467_flat_input-rotated_4\" class=\"picture-dashboard-MNIST_MLP-403467_flat_input-rotated\" x=\"75.0\" y=\"325\" height=\"50\" width=\"200\" preserveAspectRatio=\"none\" href=\"data:image/gif;base64,R0lGODdhEAMBAIcAAAAAAPv7+xUVFVVVVampqbm5uSgoKMfHx4aGhpiYmEREROTk5NjY2Hl5eTU1NWtrawAAAAAAAAAAAAAAAAAAAAAAAAAAAAAAAAAAAAAAAAAAAAAAAAAAAAAAAAAAAAAAAAAAAAAAAAAAAAAAAAAAAAAAAAAAAAAAAAAAAAAAAAAAAAAAAAAAAAAAAAAAAAAAAAAAAAAAAAAAAAAAAAAAAAAAAAAAAAAAAAAAAAAAAAAAAAAAAAAAAAAAAAAAAAAAAAAAAAAAAAAAAAAAAAAAAAAAAAAAAAAAAAAAAAAAAAAAAAAAAAAAAAAAAAAAAAAAAAAAAAAAAAAAAAAAAAAAAAAAAAAAAAAAAAAAAAAAAAAAAAAAAAAAAAAAAAAAAAAAAAAAAAAAAAAAAAAAAAAAAAAAAAAAAAAAAAAAAAAAAAAAAAAAAAAAAAAAAAAAAAAAAAAAAAAAAAAAAAAAAAAAAAAAAAAAAAAAAAAAAAAAAAAAAAAAAAAAAAAAAAAAAAAAAAAAAAAAAAAAAAAAAAAAAAAAAAAAAAAAAAAAAAAAAAAAAAAAAAAAAAAAAAAAAAAAAAAAAAAAAAAAAAAAAAAAAAAAAAAAAAAAAAAAAAAAAAAAAAAAAAAAAAAAAAAAAAAAAAAAAAAAAAAAAAAAAAAAAAAAAAAAAAAAAAAAAAAAAAAAAAAAAAAAAAAAAAAAAAAAAAAAAAAAAAAAAAAAAAAAAAAAAAAAAAAAAAAAAAAAAAAAAAAAAAAAAAAAAAAAAAAAAAAAAAAAAAAAAAAAAAAAAAAAAAAAAAAAAAAAAAAAAAAAAAAAAAAAAAAAAAAAAAAAAAAAAAAAAAAAAAAAAAAAAAAAAAAAAAAAAAAAAAAAAAAAAAAAAAAAAAAAAAAAAAAAAAAAAAAAAAAAAAAAAAAAAAAAAAAAAAAAAAAAAAAAAAAAAAAAAAAAAAAAAAAAAAAAAAAAAAAAAAAAAAAAAAAAAAAAAAAAAAAAAAAAAAAAAAAAAAAAAAAAAAAAAAAAAAAAACwAAAAAEAMBAAAI/wABCBxIsKDBgwgTKlzIsKHDhxAjCpjYAAEBAQQCBGgAoKPHjx0FGBiQgECAkycXEAgQ4IACADBjygTgYEGAmzhxDtjpwACAn0CD/hTAIIBRowcKBAgAoKnTp1CdDkjwIECAAwAAGEgAoKvXr2DDJggwAIDZs2jTqkWLIEABAHDjyp1Ld26BAAoA6N3Lt69fvgYCLCDwAIDhw4gTKz48IIDjBgIASJ5MubJlyQYKBAiQQACAz6BDix79WcCAAAEKAFjNurXr160DyFYAoLbt27hzG0BQIECAAwCCCx9OnLiBBAsCKA9QAIDz59CjPxfQgEGA6wEOKADAvbv379wFKEdgEKB8gAMDAKhfz769egEEGASYH+DAAAD48+vfj98BAYALAgwciADAQYQJFSZEEMAhAwQIBACgWNHiRYwZNW7k2NHjx40BAQA7\"><title>Layer: flat_input (hidden)\n output range: (0.0, 1.0)\n Keras class = Flatten</title></image><text x=\"288.0\" y=\"352.0\" font-family=\"monospace\" font-size=\"12\" text-anchor=\"middle\" fill=\"black\" alignment-baseline=\"central\"  transform=\"rotate(-90 288.0 352.0) translate(2)\" >flat_input</text><line x1=\"175.0\" y1=\"404\" x2=\"175.0\" y2=\"377\" stroke=\"black\" stroke-width=\"2\" marker-end=\"url(#arrow)\"><title>Weights from input to flat_input</title></line><rect x=\"74.0\" y=\"404\" width=\"202\" height=\"202\" style=\"fill:none;stroke:black;stroke-width:2\"/><image id=\"picture-dashboard-MNIST_MLP-403467_input-rotated_5\" class=\"picture-dashboard-MNIST_MLP-403467_input-rotated\" x=\"75.0\" y=\"405\" height=\"200\" width=\"200\" preserveAspectRatio=\"none\" href=\"data:image/gif;base64,R0lGODdhHAAcAIcAAAAAAPv7+xUVFVVVVampqbm5uSgoKMfHx4aGhpiYmEREROTk5NjY2Hl5eTU1NWtrawAAAAAAAAAAAAAAAAAAAAAAAAAAAAAAAAAAAAAAAAAAAAAAAAAAAAAAAAAAAAAAAAAAAAAAAAAAAAAAAAAAAAAAAAAAAAAAAAAAAAAAAAAAAAAAAAAAAAAAAAAAAAAAAAAAAAAAAAAAAAAAAAAAAAAAAAAAAAAAAAAAAAAAAAAAAAAAAAAAAAAAAAAAAAAAAAAAAAAAAAAAAAAAAAAAAAAAAAAAAAAAAAAAAAAAAAAAAAAAAAAAAAAAAAAAAAAAAAAAAAAAAAAAAAAAAAAAAAAAAAAAAAAAAAAAAAAAAAAAAAAAAAAAAAAAAAAAAAAAAAAAAAAAAAAAAAAAAAAAAAAAAAAAAAAAAAAAAAAAAAAAAAAAAAAAAAAAAAAAAAAAAAAAAAAAAAAAAAAAAAAAAAAAAAAAAAAAAAAAAAAAAAAAAAAAAAAAAAAAAAAAAAAAAAAAAAAAAAAAAAAAAAAAAAAAAAAAAAAAAAAAAAAAAAAAAAAAAAAAAAAAAAAAAAAAAAAAAAAAAAAAAAAAAAAAAAAAAAAAAAAAAAAAAAAAAAAAAAAAAAAAAAAAAAAAAAAAAAAAAAAAAAAAAAAAAAAAAAAAAAAAAAAAAAAAAAAAAAAAAAAAAAAAAAAAAAAAAAAAAAAAAAAAAAAAAAAAAAAAAAAAAAAAAAAAAAAAAAAAAAAAAAAAAAAAAAAAAAAAAAAAAAAAAAAAAAAAAAAAAAAAAAAAAAAAAAAAAAAAAAAAAAAAAAAAAAAAAAAAAAAAAAAAAAAAAAAAAAAAAAAAAAAAAAAAAAAAAAAAAAAAAAAAAAAAAAAAAAAAAAAAAAAAAAAAAAAAAAAAAAAAAAAAAAAAAAAAAAAAAAAAAAAAAAAAAAAAAAAAAAAAAAAAAAAAAAAAAAAAAAAAAAAAAAAAAAAAAAAAAAAAAAAAAAAAAAAAAAAAAAAAAAAAAAAAAAAAAAAAACwAAAAAHAAcAEAI/wABCBxIsKDBgwUFEBgAoKFDAAIKBDhQAIDFixgxJgjAMQECACBDgmwQoKQAAChTqlzJsqXLBgoAyJxJs6bNmgICBCgAoCcAAgEKCACAIECAAwCSKl2q1IEAAFCjSo1KIEAAAFizat3KtavXAAEcABhLtqzZs2URBFibAIBbAA0CyJV7AIDdu3jtCgjA98CAAgECDABAGECCAAEOAFjMuDEAAwECJABAubJlAAoCBEAAoLPnz6BDgyYQAIDp06hTq17NurXr17BjAwhwwACA27hz696dm0CAAQCCCxeuAIDx48iTE1gwAIDz5wISBJgeQAGA69izX28QoLsBAOAfBIEIMABAgQABBgBYz749AAEBAhwAQF/BggAGAAAwsCBAAIADAAwkWBAAgQAJExYwAMChQwMMAgRAAMDiRYwDAgR4AMDjR5ACGAQIgADASZQoBSxgMADAS5gxAQhgEIABAJw5de7kqVPAggAAhA4lWtRoUQcIACxl2tTpU6hRpU5tGhAAOw==\"><title>Layer: input (input)\n output range: (0.0, 1.0)\n shape = (28, 28, 1)\n Keras class = Input</title></image><text x=\"288.0\" y=\"507.0\" font-family=\"monospace\" font-size=\"12\" text-anchor=\"middle\" fill=\"black\" alignment-baseline=\"central\"  transform=\"rotate(-90 288.0 507.0) translate(2)\" >input</text><text x=\"88.0\" y=\"390\" font-family=\"monospace\" font-size=\"12\" text-anchor=\"middle\" fill=\"black\" alignment-baseline=\"central\"  transform=\"rotate(-90 88.0 390) translate(2)\" >1</text><text x=\"273.0\" y=\"620\" font-family=\"monospace\" font-size=\"12\" text-anchor=\"middle\" fill=\"black\" alignment-baseline=\"central\"  transform=\"rotate(-90 273.0 620) translate(2)\" >0</text><text x=\"18\" y=\"315.0\" font-family=\"monospace\" font-size=\"15\" text-anchor=\"middle\" fill=\"black\" alignment-baseline=\"central\"  transform=\"rotate(-90 18 315.0) translate(2)\" >MNIST_MLP</text></svg></g></svg></p>"
      }
     },
     "6fe628cd447141fc99af5a6dde615c38": {
      "model_module": "@jupyter-widgets/controls",
      "model_module_version": "1.1.0",
      "model_name": "DescriptionStyleModel",
      "state": {
       "description_width": ""
      }
     },
     "70daf044deca47ff9150aa643e81e1bd": {
      "model_module": "@jupyter-widgets/controls",
      "model_module_version": "1.1.0",
      "model_name": "ButtonStyleModel",
      "state": {}
     },
     "7265b414d61e46c0bf3ce87c968ff86e": {
      "model_module": "@jupyter-widgets/controls",
      "model_module_version": "1.1.0",
      "model_name": "HBoxModel",
      "state": {
       "children": [
        "IPY_MODEL_0d5f3d2e976d41008c30534b1eba102a",
        "IPY_MODEL_3f747cbf57724d1d8efa5c99ec1898b9"
       ],
       "layout": "IPY_MODEL_b25d9830ba5140599c4aada6231f165d"
      }
     },
     "745d00d0e2934450a6aa37f17f588849": {
      "model_module": "@jupyter-widgets/controls",
      "model_module_version": "1.1.0",
      "model_name": "ButtonStyleModel",
      "state": {}
     },
     "766bad7c350a4a7e9350eb4aab86c6a9": {
      "model_module": "@jupyter-widgets/controls",
      "model_module_version": "1.1.0",
      "model_name": "DescriptionStyleModel",
      "state": {
       "description_width": "initial"
      }
     },
     "76dca3b12d7349209e45de3aabddd5d6": {
      "model_module": "@jupyter-widgets/controls",
      "model_module_version": "1.1.0",
      "model_name": "DescriptionStyleModel",
      "state": {
       "description_width": "initial"
      }
     },
     "76e774115f1345108dd88fc68b38e683": {
      "model_module": "@jupyter-widgets/controls",
      "model_module_version": "1.1.0",
      "model_name": "FloatTextModel",
      "state": {
       "description": "Feature scale:",
       "layout": "IPY_MODEL_d6f80341e3af414ea70ee2bfef51c0df",
       "step": null,
       "style": "IPY_MODEL_6554215539ac40a4bb945587b0e90a47",
       "value": 1
      }
     },
     "774f781588fc4a92813e2e8f4cd0a8cb": {
      "model_module": "@jupyter-widgets/base",
      "model_module_version": "1.0.0",
      "model_name": "LayoutModel",
      "state": {}
     },
     "77bcf6713c2a452899412c3a07b86be1": {
      "model_module": "@jupyter-widgets/controls",
      "model_module_version": "1.1.0",
      "model_name": "DescriptionStyleModel",
      "state": {
       "description_width": "initial"
      }
     },
     "7ce44cee3fa944b195e51d065da40948": {
      "model_module": "@jupyter-widgets/controls",
      "model_module_version": "1.1.0",
      "model_name": "ButtonModel",
      "state": {
       "description": "Play",
       "icon": "play",
       "layout": "IPY_MODEL_aa0820d844e2427395f1c0a19f340889",
       "style": "IPY_MODEL_86a75cee06534bfaab94be6925097622"
      }
     },
     "7d83f4e28dd44b3b9d7bfcde636c8da8": {
      "model_module": "@jupyter-widgets/controls",
      "model_module_version": "1.1.0",
      "model_name": "CheckboxModel",
      "state": {
       "description": "Rotate",
       "disabled": false,
       "layout": "IPY_MODEL_68f79996119043d489f112fb702ca52a",
       "style": "IPY_MODEL_f79262c156014105846208f881625b3a",
       "value": true
      }
     },
     "7faeb1a777e84727ad73028f114887ea": {
      "model_module": "@jupyter-widgets/base",
      "model_module_version": "1.0.0",
      "model_name": "LayoutModel",
      "state": {
       "width": "100%"
      }
     },
     "814972d990ef4712bbb204868e5b387c": {
      "model_module": "@jupyter-widgets/controls",
      "model_module_version": "1.1.0",
      "model_name": "SelectModel",
      "state": {
       "_options_labels": [
        "Test",
        "Train"
       ],
       "description": "Dataset:",
       "index": 1,
       "layout": "IPY_MODEL_66bbe758439443639eff05855a706b34",
       "rows": 1,
       "style": "IPY_MODEL_61bef0fe01324933ad083d6c36ff802f"
      }
     },
     "81914648f630445fb1a4f5e7c8c8e72f": {
      "model_module": "@jupyter-widgets/base",
      "model_module_version": "1.0.0",
      "model_name": "LayoutModel",
      "state": {}
     },
     "8292d0e30f50492aacd0a7001e5890f0": {
      "model_module": "@jupyter-widgets/controls",
      "model_module_version": "1.1.0",
      "model_name": "DescriptionStyleModel",
      "state": {
       "description_width": "initial"
      }
     },
     "862a3665bf6b4571beacaa120e5701ae": {
      "model_module": "@jupyter-widgets/output",
      "model_module_version": "1.0.0",
      "model_name": "OutputModel",
      "state": {
       "layout": "IPY_MODEL_e5c7782c3a9b4f609c7fda931c1d0980"
      }
     },
     "86505feee65d4512ab954ea459d3adc2": {
      "model_module": "@jupyter-widgets/controls",
      "model_module_version": "1.1.0",
      "model_name": "FloatTextModel",
      "state": {
       "description": "Leftmost color maps to:",
       "layout": "IPY_MODEL_097d4ed6b68a483ea0cb4c56140d6cfe",
       "step": null,
       "style": "IPY_MODEL_31b8f2b06796480c88ba711c30f37efa",
       "value": -1
      }
     },
     "86a75cee06534bfaab94be6925097622": {
      "model_module": "@jupyter-widgets/controls",
      "model_module_version": "1.1.0",
      "model_name": "ButtonStyleModel",
      "state": {}
     },
     "87838f38263a4a79a01ca0a6b78e1edc": {
      "model_module": "@jupyter-widgets/controls",
      "model_module_version": "1.1.0",
      "model_name": "ButtonStyleModel",
      "state": {}
     },
     "88c7018ef1554068b8618bb902ebf413": {
      "model_module": "@jupyter-widgets/controls",
      "model_module_version": "1.1.0",
      "model_name": "DescriptionStyleModel",
      "state": {
       "description_width": ""
      }
     },
     "89b31950332f4327915d0b0fe3e16a70": {
      "model_module": "@jupyter-widgets/controls",
      "model_module_version": "1.1.0",
      "model_name": "DescriptionStyleModel",
      "state": {
       "description_width": "initial"
      }
     },
     "8bde2489d4e946c6872f920d203f037d": {
      "model_module": "@jupyter-widgets/controls",
      "model_module_version": "1.1.0",
      "model_name": "ButtonModel",
      "state": {
       "icon": "fast-backward",
       "layout": "IPY_MODEL_63ca5792c9c64cb8a71c152beef3c2ec",
       "style": "IPY_MODEL_4249c7e2e5074992ab08858e882744c8"
      }
     },
     "8e61d69c39ad46d485394b9b6977c7c0": {
      "model_module": "@jupyter-widgets/controls",
      "model_module_version": "1.1.0",
      "model_name": "FloatTextModel",
      "state": {
       "description": "Leftmost color maps to:",
       "layout": "IPY_MODEL_cd60fc7bc0f54743987577ddce1f1985",
       "step": null,
       "style": "IPY_MODEL_3458c8e1be2942de96963c65a67b2848",
       "value": -1
      }
     },
     "8e946437788046d68cdbe484f02657dd": {
      "model_module": "@jupyter-widgets/base",
      "model_module_version": "1.0.0",
      "model_name": "LayoutModel",
      "state": {
       "width": "100%"
      }
     },
     "90ee239c7b024560b4a9e97236389a01": {
      "model_module": "@jupyter-widgets/controls",
      "model_module_version": "1.1.0",
      "model_name": "ButtonModel",
      "state": {
       "icon": "refresh",
       "layout": "IPY_MODEL_da754dc5cee9407898db251bcbe9abba",
       "style": "IPY_MODEL_e32f9376388e4b1bbc21a2f0f1eaf86a"
      }
     },
     "933048329e194fdcbe5c93baad0298d9": {
      "model_module": "@jupyter-widgets/controls",
      "model_module_version": "1.1.0",
      "model_name": "LabelModel",
      "state": {
       "layout": "IPY_MODEL_36edac56c64b43cfa0f483fd808ef9b9",
       "style": "IPY_MODEL_467253ae406e49bea3b03b7ee6e24743",
       "value": "of 60000"
      }
     },
     "964c1dcf3c8d4df8bcc6973c8c7efd18": {
      "model_module": "@jupyter-widgets/base",
      "model_module_version": "1.0.0",
      "model_name": "LayoutModel",
      "state": {
       "width": "100px"
      }
     },
     "96de31b401984e7eb38b44cf797760eb": {
      "model_module": "@jupyter-widgets/controls",
      "model_module_version": "1.1.0",
      "model_name": "HBoxModel",
      "state": {
       "children": [
        "IPY_MODEL_ed3a28c37184478ab1f0b0ae1e3260d1",
        "IPY_MODEL_933048329e194fdcbe5c93baad0298d9"
       ],
       "layout": "IPY_MODEL_23fd80801b35431791c26f2218c983aa"
      }
     },
     "975c50fa067649e59185de561bfd99ff": {
      "model_module": "@jupyter-widgets/output",
      "model_module_version": "1.0.0",
      "model_name": "OutputModel",
      "state": {
       "layout": "IPY_MODEL_81914648f630445fb1a4f5e7c8c8e72f"
      }
     },
     "9e285ce6e0f24e98b65239a6e9621fd0": {
      "model_module": "@jupyter-widgets/controls",
      "model_module_version": "1.1.0",
      "model_name": "IntTextModel",
      "state": {
       "layout": "IPY_MODEL_b99143920edc4ad18fbd4e419eb898aa",
       "step": 1,
       "style": "IPY_MODEL_2488345b1c844bfd9df5a20161977fcc"
      }
     },
     "9f3b70bcd993419b95a1c42d23e405dd": {
      "model_module": "@jupyter-widgets/controls",
      "model_module_version": "1.1.0",
      "model_name": "DescriptionStyleModel",
      "state": {
       "description_width": "initial"
      }
     },
     "a07c512616d34e3eaaac73983eab5525": {
      "model_module": "@jupyter-widgets/controls",
      "model_module_version": "1.1.0",
      "model_name": "ButtonStyleModel",
      "state": {}
     },
     "a0cc4377a03b4f8ab0125a0bc4a1ef3d": {
      "model_module": "@jupyter-widgets/controls",
      "model_module_version": "1.1.0",
      "model_name": "IntSliderModel",
      "state": {
       "continuous_update": false,
       "description": "Dataset index",
       "layout": "IPY_MODEL_1f6c9ac336eb4b598c910b1ae727190c",
       "max": 59999,
       "style": "IPY_MODEL_46567a50d8cf4d1cb67e5b911490f989"
      }
     },
     "a10b8eb0e7204e5c972abec7d213cf5d": {
      "model_module": "@jupyter-widgets/base",
      "model_module_version": "1.0.0",
      "model_name": "LayoutModel",
      "state": {
       "width": "100%"
      }
     },
     "a1720ef80966489abec21e6e1b2d6ee0": {
      "model_module": "@jupyter-widgets/controls",
      "model_module_version": "1.1.0",
      "model_name": "CheckboxModel",
      "state": {
       "description": "Rotate network",
       "disabled": false,
       "layout": "IPY_MODEL_43cfb52e0323470a9e3929ca0daba3f6",
       "style": "IPY_MODEL_bee6f9e45bd74306882b40527c92d76d",
       "value": true
      }
     },
     "a22b9a3e637345dd803e63ab07863dbd": {
      "model_module": "@jupyter-widgets/controls",
      "model_module_version": "1.1.0",
      "model_name": "DescriptionStyleModel",
      "state": {
       "description_width": ""
      }
     },
     "a298b9ed627a4b2fb36c8d344e006b3f": {
      "model_module": "@jupyter-widgets/base",
      "model_module_version": "1.0.0",
      "model_name": "LayoutModel",
      "state": {}
     },
     "a3d462feb11343c38a0ffd49ac2d9100": {
      "model_module": "@jupyter-widgets/base",
      "model_module_version": "1.0.0",
      "model_name": "LayoutModel",
      "state": {}
     },
     "a4396275b46d409ea0525ba64a05c147": {
      "model_module": "@jupyter-widgets/controls",
      "model_module_version": "1.1.0",
      "model_name": "DescriptionStyleModel",
      "state": {
       "description_width": ""
      }
     },
     "a4ba67f52b2e40c6b09ae69383d9342b": {
      "model_module": "@jupyter-widgets/controls",
      "model_module_version": "1.1.0",
      "model_name": "DescriptionStyleModel",
      "state": {
       "description_width": "initial"
      }
     },
     "a4e4c43f2b8c45d8bbf147168737acc6": {
      "model_module": "@jupyter-widgets/controls",
      "model_module_version": "1.1.0",
      "model_name": "ButtonModel",
      "state": {
       "icon": "forward",
       "layout": "IPY_MODEL_1ee2cc2624944ceca16026c58b4a300a",
       "style": "IPY_MODEL_5bd84ce18a5c4149a537005a8e3be6b1"
      }
     },
     "a963cd0e3ff64926811b957fe819538f": {
      "model_module": "@jupyter-widgets/controls",
      "model_module_version": "1.1.0",
      "model_name": "DescriptionStyleModel",
      "state": {
       "description_width": ""
      }
     },
     "aa0820d844e2427395f1c0a19f340889": {
      "model_module": "@jupyter-widgets/base",
      "model_module_version": "1.0.0",
      "model_name": "LayoutModel",
      "state": {
       "width": "100%"
      }
     },
     "aa1a10fdded647c69620c6fbf3b7ac3e": {
      "model_module": "@jupyter-widgets/controls",
      "model_module_version": "1.1.0",
      "model_name": "ButtonStyleModel",
      "state": {}
     },
     "abd8e2226bef4639bd6fbed7d9413bac": {
      "model_module": "@jupyter-widgets/base",
      "model_module_version": "1.0.0",
      "model_name": "LayoutModel",
      "state": {}
     },
     "ac0b4442071d404ea47d3ffa9f36b3a3": {
      "model_module": "@jupyter-widgets/base",
      "model_module_version": "1.0.0",
      "model_name": "LayoutModel",
      "state": {}
     },
     "ad5af9f0ad324c19bbc2a920fd4e4934": {
      "model_module": "@jupyter-widgets/controls",
      "model_module_version": "1.1.0",
      "model_name": "ButtonModel",
      "state": {
       "icon": "backward",
       "layout": "IPY_MODEL_0756fcf590564c118b331b4c767632e3",
       "style": "IPY_MODEL_87838f38263a4a79a01ca0a6b78e1edc"
      }
     },
     "ad7b7428ff4341828a63413cb1ffab63": {
      "model_module": "@jupyter-widgets/base",
      "model_module_version": "1.0.0",
      "model_name": "LayoutModel",
      "state": {}
     },
     "b000ef9092fc42ce9f9aca46c8ea132a": {
      "model_module": "@jupyter-widgets/base",
      "model_module_version": "1.0.0",
      "model_name": "LayoutModel",
      "state": {
       "width": "100%"
      }
     },
     "b0e43b03761349d9826189c2b54d6176": {
      "model_module": "@jupyter-widgets/controls",
      "model_module_version": "1.1.0",
      "model_name": "AccordionModel",
      "state": {
       "_titles": {
        "0": "MNIST_MLP"
       },
       "children": [
        "IPY_MODEL_7265b414d61e46c0bf3ce87c968ff86e"
       ],
       "layout": "IPY_MODEL_51f8102b42584ba587232e6b3ba5a4e8",
       "selected_index": null
      }
     },
     "b2175b02dc204d8582f8e41854a8c6f1": {
      "model_module": "@jupyter-widgets/base",
      "model_module_version": "1.0.0",
      "model_name": "LayoutModel",
      "state": {}
     },
     "b25d9830ba5140599c4aada6231f165d": {
      "model_module": "@jupyter-widgets/base",
      "model_module_version": "1.0.0",
      "model_name": "LayoutModel",
      "state": {}
     },
     "b50867485afc4ed9b20da1698df21b4c": {
      "model_module": "@jupyter-widgets/controls",
      "model_module_version": "1.1.0",
      "model_name": "ButtonStyleModel",
      "state": {}
     },
     "b64daf15d45043aca975350099892bbf": {
      "model_module": "@jupyter-widgets/controls",
      "model_module_version": "1.1.0",
      "model_name": "IntTextModel",
      "state": {
       "description": "Feature columns:",
       "layout": "IPY_MODEL_ac0b4442071d404ea47d3ffa9f36b3a3",
       "step": 1,
       "style": "IPY_MODEL_76dca3b12d7349209e45de3aabddd5d6",
       "value": 3
      }
     },
     "b82bde78626049e99c913c40df2658fd": {
      "model_module": "@jupyter-widgets/base",
      "model_module_version": "1.0.0",
      "model_name": "LayoutModel",
      "state": {}
     },
     "b99143920edc4ad18fbd4e419eb898aa": {
      "model_module": "@jupyter-widgets/base",
      "model_module_version": "1.0.0",
      "model_name": "LayoutModel",
      "state": {
       "width": "100%"
      }
     },
     "ba6365e09916411d9b1f13767ba4faac": {
      "model_module": "@jupyter-widgets/controls",
      "model_module_version": "1.1.0",
      "model_name": "HBoxModel",
      "state": {
       "children": [
        "IPY_MODEL_d2cc6b1ee4d948d689082f97784e38f3",
        "IPY_MODEL_ef308da919a54baf8a4cacdc16054f8b"
       ],
       "layout": "IPY_MODEL_590f73734bac44e581881f1ed6441f88"
      }
     },
     "bad9b685b2c541a69dd2defb0f005c3d": {
      "model_module": "@jupyter-widgets/controls",
      "model_module_version": "1.1.0",
      "model_name": "ButtonStyleModel",
      "state": {}
     },
     "bd40336ac9b04b868a2191453a95d179": {
      "model_module": "@jupyter-widgets/controls",
      "model_module_version": "1.1.0",
      "model_name": "IntTextModel",
      "state": {
       "description": "Vertical space between layers:",
       "layout": "IPY_MODEL_68f79996119043d489f112fb702ca52a",
       "step": 1,
       "style": "IPY_MODEL_fc39de20044546a195395ea90cdb8f5d",
       "value": 30
      }
     },
     "bee6f9e45bd74306882b40527c92d76d": {
      "model_module": "@jupyter-widgets/controls",
      "model_module_version": "1.1.0",
      "model_name": "DescriptionStyleModel",
      "state": {
       "description_width": "initial"
      }
     },
     "c42862a2102548fc95b75580a78a674d": {
      "model_module": "@jupyter-widgets/controls",
      "model_module_version": "1.1.0",
      "model_name": "HBoxModel",
      "state": {
       "children": [
        "IPY_MODEL_43cd655a5cb3467b82ea9b29f583ed62",
        "IPY_MODEL_ad5af9f0ad324c19bbc2a920fd4e4934",
        "IPY_MODEL_d1c2c766b15b4b4f9ef31c8e7af0da01",
        "IPY_MODEL_1c66bec163f8460cb101deb21301d19d",
        "IPY_MODEL_002335bc514d40718b8abc22b6640ade",
        "IPY_MODEL_c77c8c5742fe4fb3a26f47fec1a7077a",
        "IPY_MODEL_f9d9dd2489a846569cf889597d1f7bd4"
       ],
       "layout": "IPY_MODEL_4bbe9af17619449a83946031d89890f1"
      }
     },
     "c5299c4edd7f466d8d56374748461926": {
      "model_module": "@jupyter-widgets/base",
      "model_module_version": "1.0.0",
      "model_name": "LayoutModel",
      "state": {
       "height": "50px",
       "width": "100%"
      }
     },
     "c6aed373f5224e04950f0c3cf874f346": {
      "model_module": "@jupyter-widgets/controls",
      "model_module_version": "1.1.0",
      "model_name": "DescriptionStyleModel",
      "state": {
       "description_width": "initial"
      }
     },
     "c77c8c5742fe4fb3a26f47fec1a7077a": {
      "model_module": "@jupyter-widgets/controls",
      "model_module_version": "1.1.0",
      "model_name": "ButtonModel",
      "state": {
       "description": "Play",
       "icon": "play",
       "layout": "IPY_MODEL_f8b47622a88f4d69953737d8c31566fb",
       "style": "IPY_MODEL_b50867485afc4ed9b20da1698df21b4c"
      }
     },
     "c994ee1e8f6c46e3ba7b834ddc9c2aec": {
      "model_module": "@jupyter-widgets/controls",
      "model_module_version": "1.1.0",
      "model_name": "ButtonStyleModel",
      "state": {}
     },
     "cc674f9fbe4243c789753035e0517fef": {
      "model_module": "@jupyter-widgets/controls",
      "model_module_version": "1.1.0",
      "model_name": "VBoxModel",
      "state": {
       "children": [
        "IPY_MODEL_ce92fff1735c4eaab8228f0dfc7db973",
        "IPY_MODEL_c42862a2102548fc95b75580a78a674d"
       ],
       "layout": "IPY_MODEL_f1ff70a9190a4289926b0e2fb23ee91d"
      }
     },
     "cd2dcd4a12da46b19ed696f37ebbe8c4": {
      "model_module": "@jupyter-widgets/controls",
      "model_module_version": "1.1.0",
      "model_name": "VBoxModel",
      "state": {
       "children": [
        "IPY_MODEL_2017a7fa0e904a4d8880cd24b70a92f5",
        "IPY_MODEL_4b2bfc1d97de4ef0a4a7213b28589ffc",
        "IPY_MODEL_f36918398b7f4c5788ef3a6fb20a750a",
        "IPY_MODEL_d9f1fff5fbde4d0bbe7ea0222a39622e",
        "IPY_MODEL_1572b9a0bc174a789a7f95e5ab38f4f4",
        "IPY_MODEL_10551c2afabd462c823535654d5df539",
        "IPY_MODEL_3bb411c54b2f4ed19e834f5579d51c25",
        "IPY_MODEL_5fbe1f2177db4d68b70a7b561fd733ed"
       ],
       "layout": "IPY_MODEL_a10b8eb0e7204e5c972abec7d213cf5d"
      }
     },
     "cd60fc7bc0f54743987577ddce1f1985": {
      "model_module": "@jupyter-widgets/base",
      "model_module_version": "1.0.0",
      "model_name": "LayoutModel",
      "state": {}
     },
     "ce92fff1735c4eaab8228f0dfc7db973": {
      "model_module": "@jupyter-widgets/controls",
      "model_module_version": "1.1.0",
      "model_name": "HBoxModel",
      "state": {
       "children": [
        "IPY_MODEL_a0cc4377a03b4f8ab0125a0bc4a1ef3d",
        "IPY_MODEL_f5405931cdc84577bea7d43929af7309"
       ],
       "layout": "IPY_MODEL_0570469bfe164d92a4b2f1c308074533"
      }
     },
     "d11e111a09b5484580beeee252afd9b5": {
      "model_module": "@jupyter-widgets/controls",
      "model_module_version": "1.1.0",
      "model_name": "DescriptionStyleModel",
      "state": {
       "description_width": "initial"
      }
     },
     "d1c2c766b15b4b4f9ef31c8e7af0da01": {
      "model_module": "@jupyter-widgets/controls",
      "model_module_version": "1.1.0",
      "model_name": "IntTextModel",
      "state": {
       "layout": "IPY_MODEL_e3d119ec1bce414c8d8e3e1bc3d8ae1d",
       "step": 1,
       "style": "IPY_MODEL_e5e4c4d5ac294b0a82824d0b60c62d58"
      }
     },
     "d29a111ad2484176a514b6a527f7d379": {
      "model_module": "@jupyter-widgets/controls",
      "model_module_version": "1.1.0",
      "model_name": "ButtonModel",
      "state": {
       "icon": "save",
       "layout": "IPY_MODEL_f98f0ffc360e48308e97091554e3ca8d",
       "style": "IPY_MODEL_aa1a10fdded647c69620c6fbf3b7ac3e"
      }
     },
     "d2cc6b1ee4d948d689082f97784e38f3": {
      "model_module": "@jupyter-widgets/controls",
      "model_module_version": "1.1.0",
      "model_name": "CheckboxModel",
      "state": {
       "description": "Rotate network",
       "disabled": false,
       "layout": "IPY_MODEL_464b7620d8e341ecaaa039b4fc6bf364",
       "style": "IPY_MODEL_d52af810cc8f45a185b157b0261acf43",
       "value": true
      }
     },
     "d382df61df014ab794f2c9b2ff829327": {
      "model_module": "@jupyter-widgets/controls",
      "model_module_version": "1.1.0",
      "model_name": "HTMLModel",
      "state": {
       "layout": "IPY_MODEL_6498a140feaf4d1e9162df5ea98465fa",
       "style": "IPY_MODEL_1fd2cc250efd4cea88a37b13d06d1473",
       "value": "<img src=\"data:image/gif;base64,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\"/>"
      }
     },
     "d52af810cc8f45a185b157b0261acf43": {
      "model_module": "@jupyter-widgets/controls",
      "model_module_version": "1.1.0",
      "model_name": "DescriptionStyleModel",
      "state": {
       "description_width": "initial"
      }
     },
     "d6f80341e3af414ea70ee2bfef51c0df": {
      "model_module": "@jupyter-widgets/base",
      "model_module_version": "1.0.0",
      "model_name": "LayoutModel",
      "state": {}
     },
     "d819352e7eb843e5a33d4f5ff5835652": {
      "model_module": "@jupyter-widgets/controls",
      "model_module_version": "1.1.0",
      "model_name": "FloatSliderModel",
      "state": {
       "continuous_update": false,
       "description": "Zoom",
       "layout": "IPY_MODEL_252fb8accb394c8cbd5a4bf051e4fcc2",
       "max": 1,
       "step": 0.1,
       "style": "IPY_MODEL_1875e63a4c044fa6848f4bb987d31a1c",
       "value": 0.6
      }
     },
     "d9f1fff5fbde4d0bbe7ea0222a39622e": {
      "model_module": "@jupyter-widgets/controls",
      "model_module_version": "1.1.0",
      "model_name": "IntTextModel",
      "state": {
       "description": "Vertical space between layers:",
       "layout": "IPY_MODEL_139bfae7d4de484ba63aca14443ff45c",
       "step": 1,
       "style": "IPY_MODEL_e71d4265c93647838926d7fd53620abd",
       "value": 30
      }
     },
     "da754dc5cee9407898db251bcbe9abba": {
      "model_module": "@jupyter-widgets/base",
      "model_module_version": "1.0.0",
      "model_name": "LayoutModel",
      "state": {
       "width": "25%"
      }
     },
     "da83522b63384ae1b238d8a3cb149ca0": {
      "model_module": "@jupyter-widgets/controls",
      "model_module_version": "1.1.0",
      "model_name": "ButtonStyleModel",
      "state": {}
     },
     "dc6582844759402ba3170316af40d49c": {
      "model_module": "@jupyter-widgets/controls",
      "model_module_version": "1.1.0",
      "model_name": "SliderStyleModel",
      "state": {
       "description_width": ""
      }
     },
     "dc95563a857e4fb399b8393d004029ac": {
      "model_module": "@jupyter-widgets/controls",
      "model_module_version": "1.1.0",
      "model_name": "AccordionModel",
      "state": {
       "_titles": {
        "0": "MNIST_CNN"
       },
       "children": [
        "IPY_MODEL_1c721b84c72343e6a5c316a030184583"
       ],
       "layout": "IPY_MODEL_0283ce8e1b9449aba5905e14e92a08ff",
       "selected_index": null
      }
     },
     "dde6c7b517ab4ffd8db5c85e27c0a507": {
      "model_module": "@jupyter-widgets/controls",
      "model_module_version": "1.1.0",
      "model_name": "DescriptionStyleModel",
      "state": {
       "description_width": ""
      }
     },
     "df177d2ea057444fa2da14cdba083096": {
      "model_module": "@jupyter-widgets/controls",
      "model_module_version": "1.1.0",
      "model_name": "DescriptionStyleModel",
      "state": {
       "description_width": ""
      }
     },
     "dfa7ebb60dd94c2aa46da57ffd77af55": {
      "model_module": "@jupyter-widgets/controls",
      "model_module_version": "1.1.0",
      "model_name": "VBoxModel",
      "state": {
       "children": [
        "IPY_MODEL_b0e43b03761349d9826189c2b54d6176",
        "IPY_MODEL_141f9f91602b4535b6d1e92b0cca8eee",
        "IPY_MODEL_699ab151488c4e8daadd67b291fc5f39",
        "IPY_MODEL_975c50fa067649e59185de561bfd99ff"
       ],
       "layout": "IPY_MODEL_abd8e2226bef4639bd6fbed7d9413bac"
      }
     },
     "e1c3cc62726046d38d3a93a0e0d51545": {
      "model_module": "@jupyter-widgets/controls",
      "model_module_version": "1.1.0",
      "model_name": "DescriptionStyleModel",
      "state": {
       "description_width": "initial"
      }
     },
     "e2bd79287c1148889b030eb8fbd7ec2a": {
      "model_module": "@jupyter-widgets/base",
      "model_module_version": "1.0.0",
      "model_name": "LayoutModel",
      "state": {
       "width": "65%"
      }
     },
     "e32f9376388e4b1bbc21a2f0f1eaf86a": {
      "model_module": "@jupyter-widgets/controls",
      "model_module_version": "1.1.0",
      "model_name": "ButtonStyleModel",
      "state": {}
     },
     "e3d119ec1bce414c8d8e3e1bc3d8ae1d": {
      "model_module": "@jupyter-widgets/base",
      "model_module_version": "1.0.0",
      "model_name": "LayoutModel",
      "state": {
       "width": "100%"
      }
     },
     "e5c7782c3a9b4f609c7fda931c1d0980": {
      "model_module": "@jupyter-widgets/base",
      "model_module_version": "1.0.0",
      "model_name": "LayoutModel",
      "state": {}
     },
     "e5e4c4d5ac294b0a82824d0b60c62d58": {
      "model_module": "@jupyter-widgets/controls",
      "model_module_version": "1.1.0",
      "model_name": "DescriptionStyleModel",
      "state": {
       "description_width": ""
      }
     },
     "e71d4265c93647838926d7fd53620abd": {
      "model_module": "@jupyter-widgets/controls",
      "model_module_version": "1.1.0",
      "model_name": "DescriptionStyleModel",
      "state": {
       "description_width": "initial"
      }
     },
     "ea1441b1d8774341825a365db1e28aff": {
      "model_module": "@jupyter-widgets/controls",
      "model_module_version": "1.1.0",
      "model_name": "DescriptionStyleModel",
      "state": {
       "description_width": ""
      }
     },
     "eb7ef2be103f4531b2eca9273f25b0f5": {
      "model_module": "@jupyter-widgets/controls",
      "model_module_version": "1.1.0",
      "model_name": "SelectModel",
      "state": {
       "_options_labels": [
        "input",
        "conv2D_1",
        "maxpool1",
        "conv2D_2",
        "maxpool2",
        "flat",
        "hidden",
        "output"
       ],
       "description": "Layer:",
       "index": 7,
       "layout": "IPY_MODEL_b82bde78626049e99c913c40df2658fd",
       "rows": 1,
       "style": "IPY_MODEL_1059db693e2f48989c839022d75291fe"
      }
     },
     "ecb3f29d92634a5595ca065b37bce380": {
      "model_module": "@jupyter-widgets/controls",
      "model_module_version": "1.1.0",
      "model_name": "HBoxModel",
      "state": {
       "children": [
        "IPY_MODEL_a1720ef80966489abec21e6e1b2d6ee0",
        "IPY_MODEL_d29a111ad2484176a514b6a527f7d379"
       ],
       "layout": "IPY_MODEL_b2175b02dc204d8582f8e41854a8c6f1"
      }
     },
     "ed3a28c37184478ab1f0b0ae1e3260d1": {
      "model_module": "@jupyter-widgets/controls",
      "model_module_version": "1.1.0",
      "model_name": "IntSliderModel",
      "state": {
       "continuous_update": false,
       "description": "Dataset index",
       "layout": "IPY_MODEL_b000ef9092fc42ce9f9aca46c8ea132a",
       "max": 59999,
       "style": "IPY_MODEL_dc6582844759402ba3170316af40d49c"
      }
     },
     "ef308da919a54baf8a4cacdc16054f8b": {
      "model_module": "@jupyter-widgets/controls",
      "model_module_version": "1.1.0",
      "model_name": "ButtonModel",
      "state": {
       "icon": "save",
       "layout": "IPY_MODEL_0f8a96c74c17427bb17d657c9d90fc72",
       "style": "IPY_MODEL_a07c512616d34e3eaaac73983eab5525"
      }
     },
     "f1ff70a9190a4289926b0e2fb23ee91d": {
      "model_module": "@jupyter-widgets/base",
      "model_module_version": "1.0.0",
      "model_name": "LayoutModel",
      "state": {
       "width": "100%"
      }
     },
     "f36918398b7f4c5788ef3a6fb20a750a": {
      "model_module": "@jupyter-widgets/controls",
      "model_module_version": "1.1.0",
      "model_name": "IntTextModel",
      "state": {
       "description": "Horizontal space between banks:",
       "layout": "IPY_MODEL_139bfae7d4de484ba63aca14443ff45c",
       "step": 1,
       "style": "IPY_MODEL_5fe0a315720e41b1b68af4375cc174be",
       "value": 150
      }
     },
     "f5405931cdc84577bea7d43929af7309": {
      "model_module": "@jupyter-widgets/controls",
      "model_module_version": "1.1.0",
      "model_name": "LabelModel",
      "state": {
       "layout": "IPY_MODEL_964c1dcf3c8d4df8bcc6973c8c7efd18",
       "style": "IPY_MODEL_a22b9a3e637345dd803e63ab07863dbd",
       "value": "of 10000"
      }
     },
     "f58e339fb5564d41a499414096fed7cc": {
      "model_module": "@jupyter-widgets/base",
      "model_module_version": "1.0.0",
      "model_name": "LayoutModel",
      "state": {}
     },
     "f5fa7d974eec4976afb7bb6d286c2b9d": {
      "model_module": "@jupyter-widgets/base",
      "model_module_version": "1.0.0",
      "model_name": "LayoutModel",
      "state": {
       "justify_content": "center",
       "overflow_x": "auto",
       "overflow_y": "auto",
       "width": "95%"
      }
     },
     "f6ec753eb84347caa211c377fe3dc6ef": {
      "model_module": "@jupyter-widgets/controls",
      "model_module_version": "1.1.0",
      "model_name": "ButtonModel",
      "state": {
       "icon": "backward",
       "layout": "IPY_MODEL_8e946437788046d68cdbe484f02657dd",
       "style": "IPY_MODEL_bad9b685b2c541a69dd2defb0f005c3d"
      }
     },
     "f7628ba3220b42afaff472ae9f8e3997": {
      "model_module": "@jupyter-widgets/controls",
      "model_module_version": "1.1.0",
      "model_name": "SelectModel",
      "state": {
       "_options_labels": [
        "",
        "Accent",
        "Accent_r",
        "Blues",
        "Blues_r",
        "BrBG",
        "BrBG_r",
        "BuGn",
        "BuGn_r",
        "BuPu",
        "BuPu_r",
        "CMRmap",
        "CMRmap_r",
        "Dark2",
        "Dark2_r",
        "GnBu",
        "GnBu_r",
        "Greens",
        "Greens_r",
        "Greys",
        "Greys_r",
        "OrRd",
        "OrRd_r",
        "Oranges",
        "Oranges_r",
        "PRGn",
        "PRGn_r",
        "Paired",
        "Paired_r",
        "Pastel1",
        "Pastel1_r",
        "Pastel2",
        "Pastel2_r",
        "PiYG",
        "PiYG_r",
        "PuBu",
        "PuBuGn",
        "PuBuGn_r",
        "PuBu_r",
        "PuOr",
        "PuOr_r",
        "PuRd",
        "PuRd_r",
        "Purples",
        "Purples_r",
        "RdBu",
        "RdBu_r",
        "RdGy",
        "RdGy_r",
        "RdPu",
        "RdPu_r",
        "RdYlBu",
        "RdYlBu_r",
        "RdYlGn",
        "RdYlGn_r",
        "Reds",
        "Reds_r",
        "Set1",
        "Set1_r",
        "Set2",
        "Set2_r",
        "Set3",
        "Set3_r",
        "Spectral",
        "Spectral_r",
        "Vega10",
        "Vega10_r",
        "Vega20",
        "Vega20_r",
        "Vega20b",
        "Vega20b_r",
        "Vega20c",
        "Vega20c_r",
        "Wistia",
        "Wistia_r",
        "YlGn",
        "YlGnBu",
        "YlGnBu_r",
        "YlGn_r",
        "YlOrBr",
        "YlOrBr_r",
        "YlOrRd",
        "YlOrRd_r",
        "afmhot",
        "afmhot_r",
        "autumn",
        "autumn_r",
        "binary",
        "binary_r",
        "bone",
        "bone_r",
        "brg",
        "brg_r",
        "bwr",
        "bwr_r",
        "cool",
        "cool_r",
        "coolwarm",
        "coolwarm_r",
        "copper",
        "copper_r",
        "cubehelix",
        "cubehelix_r",
        "flag",
        "flag_r",
        "gist_earth",
        "gist_earth_r",
        "gist_gray",
        "gist_gray_r",
        "gist_heat",
        "gist_heat_r",
        "gist_ncar",
        "gist_ncar_r",
        "gist_rainbow",
        "gist_rainbow_r",
        "gist_stern",
        "gist_stern_r",
        "gist_yarg",
        "gist_yarg_r",
        "gnuplot",
        "gnuplot2",
        "gnuplot2_r",
        "gnuplot_r",
        "gray",
        "gray_r",
        "hot",
        "hot_r",
        "hsv",
        "hsv_r",
        "inferno",
        "inferno_r",
        "jet",
        "jet_r",
        "magma",
        "magma_r",
        "nipy_spectral",
        "nipy_spectral_r",
        "ocean",
        "ocean_r",
        "pink",
        "pink_r",
        "plasma",
        "plasma_r",
        "prism",
        "prism_r",
        "rainbow",
        "rainbow_r",
        "seismic",
        "seismic_r",
        "spectral",
        "spectral_r",
        "spring",
        "spring_r",
        "summer",
        "summer_r",
        "tab10",
        "tab10_r",
        "tab20",
        "tab20_r",
        "tab20b",
        "tab20b_r",
        "tab20c",
        "tab20c_r",
        "terrain",
        "terrain_r",
        "viridis",
        "viridis_r",
        "winter",
        "winter_r"
       ],
       "description": "Colormap:",
       "index": 0,
       "layout": "IPY_MODEL_139bfae7d4de484ba63aca14443ff45c",
       "rows": 1,
       "style": "IPY_MODEL_df177d2ea057444fa2da14cdba083096"
      }
     },
     "f79262c156014105846208f881625b3a": {
      "model_module": "@jupyter-widgets/controls",
      "model_module_version": "1.1.0",
      "model_name": "DescriptionStyleModel",
      "state": {
       "description_width": ""
      }
     },
     "f8b47622a88f4d69953737d8c31566fb": {
      "model_module": "@jupyter-widgets/base",
      "model_module_version": "1.0.0",
      "model_name": "LayoutModel",
      "state": {
       "width": "100%"
      }
     },
     "f8df8de8914d46c38b37893e71e1abe0": {
      "model_module": "@jupyter-widgets/controls",
      "model_module_version": "1.1.0",
      "model_name": "SelectModel",
      "state": {
       "_options_labels": [
        "",
        "input"
       ],
       "description": "Features:",
       "index": 0,
       "layout": "IPY_MODEL_32fcb52ce10a4ac89424f9e5328dc571",
       "rows": 1,
       "style": "IPY_MODEL_88c7018ef1554068b8618bb902ebf413"
      }
     },
     "f8f7e0fe5c5f420f9bbffe908bee6e1a": {
      "model_module": "@jupyter-widgets/controls",
      "model_module_version": "1.1.0",
      "model_name": "DescriptionStyleModel",
      "state": {
       "description_width": ""
      }
     },
     "f98f0ffc360e48308e97091554e3ca8d": {
      "model_module": "@jupyter-widgets/base",
      "model_module_version": "1.0.0",
      "model_name": "LayoutModel",
      "state": {
       "width": "10%"
      }
     },
     "f9a2f35dd5624fdcaa4c15c866fa0921": {
      "model_module": "@jupyter-widgets/controls",
      "model_module_version": "1.1.0",
      "model_name": "DescriptionStyleModel",
      "state": {
       "description_width": ""
      }
     },
     "f9d9dd2489a846569cf889597d1f7bd4": {
      "model_module": "@jupyter-widgets/controls",
      "model_module_version": "1.1.0",
      "model_name": "ButtonModel",
      "state": {
       "icon": "refresh",
       "layout": "IPY_MODEL_69944fe85b02466bb658c14ccbea3a9c",
       "style": "IPY_MODEL_c994ee1e8f6c46e3ba7b834ddc9c2aec"
      }
     },
     "fb8f554f6ecc407b8147535c7d6686f0": {
      "model_module": "@jupyter-widgets/base",
      "model_module_version": "1.0.0",
      "model_name": "LayoutModel",
      "state": {
       "width": "100%"
      }
     },
     "fc39de20044546a195395ea90cdb8f5d": {
      "model_module": "@jupyter-widgets/controls",
      "model_module_version": "1.1.0",
      "model_name": "DescriptionStyleModel",
      "state": {
       "description_width": "initial"
      }
     },
     "fc7978f96aa64fcc8a27b3c86a6dace3": {
      "model_module": "@jupyter-widgets/controls",
      "model_module_version": "1.1.0",
      "model_name": "CheckboxModel",
      "state": {
       "description": "Show Targets",
       "disabled": false,
       "layout": "IPY_MODEL_68f79996119043d489f112fb702ca52a",
       "style": "IPY_MODEL_9f3b70bcd993419b95a1c42d23e405dd",
       "value": true
      }
     },
     "ff6072b887a44df7b650ab3947957953": {
      "model_module": "@jupyter-widgets/base",
      "model_module_version": "1.0.0",
      "model_name": "LayoutModel",
      "state": {
       "width": "100%"
      }
     }
    },
    "version_major": 2,
    "version_minor": 0
   }
  }
 },
 "nbformat": 4,
 "nbformat_minor": 2
}
