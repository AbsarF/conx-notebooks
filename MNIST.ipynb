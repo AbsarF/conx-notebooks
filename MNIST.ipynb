{
 "cells": [
  {
   "cell_type": "markdown",
   "metadata": {},
   "source": [
    "# The MNIST Dataset\n",
    "\n",
    "In this notebook, we will create a neural network to recognize handwritten digits from the famous MNIST dataset.\n",
    "\n",
    "We will experiment with two different networks for this task. The first one will be a *multi-layer perceptron* (MLP), which is a standard type of feedforward neural network with fully-connected layers of weights, and the second will be a *convolutional neural network* (CNN), which takes advantage of the inherently two-dimensional spatial geometry of the input images.\n",
    "\n",
    "Let's begin by reading in the MNIST dataset and printing a short description of its contents."
   ]
  },
  {
   "cell_type": "code",
   "execution_count": 1,
   "metadata": {},
   "outputs": [
    {
     "name": "stderr",
     "output_type": "stream",
     "text": [
      "Using Theano backend.\n",
      "Conx, version 3.6.1\n"
     ]
    }
   ],
   "source": [
    "import conx as cx"
   ]
  },
  {
   "cell_type": "code",
   "execution_count": 2,
   "metadata": {},
   "outputs": [
    {
     "data": {
      "text/markdown": [
       "**Dataset**: MNIST\n",
       "\n",
       "\n",
       "Original source: http://yann.lecun.com/exdb/mnist/\n",
       "\n",
       "The MNIST dataset contains 70,000 images of handwritten digits (zero\n",
       "to nine) that have been size-normalized and centered in a square grid\n",
       "of pixels.  Each image is a 28 × 28 × 1 array of floating-point numbers\n",
       "representing grayscale intensities ranging from 0 (black) to 1\n",
       "(white).  The target data consists of one-hot binary vectors of size\n",
       "10, corresponding to the digit classification categories zero through\n",
       "nine.  Some example MNIST images are shown below:\n",
       "\n",
       "![MNIST Images](https://github.com/Calysto/conx/raw/master/data/mnist_images.png)\n",
       "\n",
       "**Information**:\n",
       "   * name    : MNIST\n",
       "   * length  : 70000\n",
       "\n",
       "**Input Summary**:\n",
       "   * shape  : (28, 28, 1)\n",
       "   * range  : (0.0, 1.0)\n",
       "\n",
       "**Target Summary**:\n",
       "   * shape  : (10,)\n",
       "   * range  : (0.0, 1.0)\n",
       "\n"
      ],
      "text/plain": [
       "**Dataset**: MNIST\n",
       "\n",
       "\n",
       "Original source: http://yann.lecun.com/exdb/mnist/\n",
       "\n",
       "The MNIST dataset contains 70,000 images of handwritten digits (zero\n",
       "to nine) that have been size-normalized and centered in a square grid\n",
       "of pixels.  Each image is a 28 × 28 × 1 array of floating-point numbers\n",
       "representing grayscale intensities ranging from 0 (black) to 1\n",
       "(white).  The target data consists of one-hot binary vectors of size\n",
       "10, corresponding to the digit classification categories zero through\n",
       "nine.  Some example MNIST images are shown below:\n",
       "\n",
       "![MNIST Images](https://github.com/Calysto/conx/raw/master/data/mnist_images.png)\n",
       "\n",
       "**Information**:\n",
       "   * name    : MNIST\n",
       "   * length  : 70000\n",
       "\n",
       "**Input Summary**:\n",
       "   * shape  : (28, 28, 1)\n",
       "   * range  : (0.0, 1.0)\n",
       "\n",
       "**Target Summary**:\n",
       "   * shape  : (10,)\n",
       "   * range  : (0.0, 1.0)\n"
      ]
     },
     "metadata": {},
     "output_type": "display_data"
    }
   ],
   "source": [
    "mnist = cx.Dataset.get('mnist')\n",
    "mnist.info()"
   ]
  },
  {
   "cell_type": "markdown",
   "metadata": {},
   "source": [
    "We can also print a shorter, less detailed summary:"
   ]
  },
  {
   "cell_type": "code",
   "execution_count": 3,
   "metadata": {},
   "outputs": [
    {
     "name": "stdout",
     "output_type": "stream",
     "text": [
      "_________________________________________________________________\n",
      "MNIST:\n",
      "Patterns    Shape                 Range                         \n",
      "=================================================================\n",
      "inputs      (28, 28, 1)           (0.0, 1.0)                    \n",
      "targets     (10,)                 (0.0, 1.0)                    \n",
      "=================================================================\n",
      "Total patterns: 70000\n",
      "   Training patterns: 70000\n",
      "   Testing patterns: 0\n",
      "_________________________________________________________________\n"
     ]
    }
   ],
   "source": [
    "mnist.summary()"
   ]
  },
  {
   "cell_type": "markdown",
   "metadata": {},
   "source": [
    "Now let's take a look at some input patterns. Typing ``mnist.inputs[0]`` returns a large nested list of numbers, which isn't a particularly useful way to view a pattern.  A better way is to use Conx's ``view`` function:"
   ]
  },
  {
   "cell_type": "code",
   "execution_count": 4,
   "metadata": {},
   "outputs": [
    {
     "data": {
      "image/png": "[encoded data removed]",
      "text/plain": [
       "<matplotlib.figure.Figure at 0x115a20860>"
      ]
     },
     "metadata": {},
     "output_type": "display_data"
    }
   ],
   "source": [
    "cx.view(mnist.inputs[0])"
   ]
  },
  {
   "cell_type": "markdown",
   "metadata": {},
   "source": [
    "It's easy to view multiple patterns at once using Python's slice operator in conjunction with the ``layout`` keyword:"
   ]
  },
  {
   "cell_type": "code",
   "execution_count": 5,
   "metadata": {},
   "outputs": [
    {
     "data": {
      "image/png": "[encoded data removed]",
      "text/plain": [
       "<matplotlib.figure.Figure at 0x115b5efd0>"
      ]
     },
     "metadata": {},
     "output_type": "display_data"
    }
   ],
   "source": [
    "cx.view(mnist.inputs[0:20], layout=(2,10))"
   ]
  },
  {
   "cell_type": "markdown",
   "metadata": {},
   "source": [
    "Conx allows us to refer to multiple input patterns using arbitrary indices:"
   ]
  },
  {
   "cell_type": "code",
   "execution_count": 6,
   "metadata": {},
   "outputs": [
    {
     "data": {
      "image/png": "[encoded data removed]",
      "text/plain": [
       "<matplotlib.figure.Figure at 0x115aad2b0>"
      ]
     },
     "metadata": {},
     "output_type": "display_data"
    }
   ],
   "source": [
    "cx.view(mnist.inputs[0, 2, 4, 77, 150, 88, 9000])"
   ]
  },
  {
   "cell_type": "markdown",
   "metadata": {},
   "source": [
    "Viewing the target patterns works in a similar way:"
   ]
  },
  {
   "cell_type": "code",
   "execution_count": 7,
   "metadata": {},
   "outputs": [
    {
     "data": {
      "text/plain": [
       "[0.0, 0.0, 0.0, 0.0, 0.0, 1.0, 0.0, 0.0, 0.0, 0.0]"
      ]
     },
     "execution_count": 7,
     "metadata": {},
     "output_type": "execute_result"
    }
   ],
   "source": [
    "mnist.targets[0]"
   ]
  },
  {
   "cell_type": "code",
   "execution_count": 8,
   "metadata": {},
   "outputs": [
    {
     "data": {
      "image/png": "[encoded data removed]",
      "text/plain": [
       "<matplotlib.figure.Figure at 0x131881978>"
      ]
     },
     "metadata": {},
     "output_type": "display_data"
    }
   ],
   "source": [
    "cx.view(mnist.targets[0])"
   ]
  },
  {
   "cell_type": "code",
   "execution_count": 9,
   "metadata": {},
   "outputs": [
    {
     "data": {
      "text/plain": [
       "[[0.0, 0.0, 0.0, 0.0, 0.0, 1.0, 0.0, 0.0, 0.0, 0.0],\n",
       " [1.0, 0.0, 0.0, 0.0, 0.0, 0.0, 0.0, 0.0, 0.0, 0.0],\n",
       " [0.0, 0.0, 0.0, 0.0, 1.0, 0.0, 0.0, 0.0, 0.0, 0.0],\n",
       " [0.0, 1.0, 0.0, 0.0, 0.0, 0.0, 0.0, 0.0, 0.0, 0.0],\n",
       " [0.0, 0.0, 0.0, 0.0, 0.0, 0.0, 0.0, 0.0, 0.0, 1.0]]"
      ]
     },
     "execution_count": 9,
     "metadata": {},
     "output_type": "execute_result"
    }
   ],
   "source": [
    "mnist.targets[0:5]"
   ]
  },
  {
   "cell_type": "markdown",
   "metadata": {},
   "source": [
    "In addition to ``inputs`` and ``targets``, each dataset has a ``labels`` property that stores a collection of strings describing the classification category of each input:"
   ]
  },
  {
   "cell_type": "code",
   "execution_count": 10,
   "metadata": {},
   "outputs": [
    {
     "data": {
      "image/png": "[encoded data removed]",
      "text/plain": [
       "<matplotlib.figure.Figure at 0x1318d3438>"
      ]
     },
     "metadata": {},
     "output_type": "display_data"
    },
    {
     "name": "stdout",
     "output_type": "stream",
     "text": [
      "['5', '0', '4', '1', '9']\n"
     ]
    }
   ],
   "source": [
    "cx.view(mnist.inputs[0:5])\n",
    "print(mnist.labels[0:5])"
   ]
  },
  {
   "cell_type": "markdown",
   "metadata": {},
   "source": [
    "The ``labels`` property is useful for selecting particular input patterns. For example, to view just the \"two\"'s in the dataset, we can first create a list containing the index numbers of all of the \"two\"'s, and then view the first twenty, like this:"
   ]
  },
  {
   "cell_type": "code",
   "execution_count": 11,
   "metadata": {},
   "outputs": [
    {
     "name": "stdout",
     "output_type": "stream",
     "text": [
      "Found 6990 twos\n",
      "[5, 16, 25, 28, 76, 82, 109, 117, 120, 122, 143, 159, 161, 171, 178, 180, 187, 189, 190, 199]\n"
     ]
    }
   ],
   "source": [
    "indices = [i for i in range(len(mnist.inputs)) if mnist.labels[i] == '2']\n",
    "print('Found', len(indices), 'twos')\n",
    "print(indices[:20])"
   ]
  },
  {
   "cell_type": "code",
   "execution_count": 12,
   "metadata": {},
   "outputs": [
    {
     "data": {
      "image/png": "[encoded data removed]",
      "text/plain": [
       "<matplotlib.figure.Figure at 0x1318d36d8>"
      ]
     },
     "metadata": {},
     "output_type": "display_data"
    }
   ],
   "source": [
    "cx.view(mnist.inputs[indices[:20]], layout=(2,10))"
   ]
  },
  {
   "cell_type": "markdown",
   "metadata": {},
   "source": [
    "We can accomplish the same thing more directly (and efficiently) using the `select` method, together with the `slice` keyword:"
   ]
  },
  {
   "cell_type": "code",
   "execution_count": 13,
   "metadata": {},
   "outputs": [
    {
     "data": {
      "image/png": "[encoded data removed]",
      "text/plain": [
       "<matplotlib.figure.Figure at 0x11968b438>"
      ]
     },
     "metadata": {},
     "output_type": "display_data"
    }
   ],
   "source": [
    "digits = mnist.inputs.select(lambda i,ds: ds.labels[i] == '2', slice=20)\n",
    "cx.view(digits, layout=(2,10))"
   ]
  },
  {
   "cell_type": "markdown",
   "metadata": {},
   "source": [
    " Let's randomly shuffle the dataset before we train the network:"
   ]
  },
  {
   "cell_type": "code",
   "execution_count": 14,
   "metadata": {},
   "outputs": [
    {
     "data": {
      "image/png": "[encoded data removed]",
      "text/plain": [
       "<matplotlib.figure.Figure at 0x1318d3a58>"
      ]
     },
     "metadata": {},
     "output_type": "display_data"
    }
   ],
   "source": [
    "mnist.shuffle()\n",
    "cx.view(mnist.inputs[0:10])"
   ]
  },
  {
   "cell_type": "markdown",
   "metadata": {},
   "source": [
    "When training a neural network, it is usually best to divide the dataset into two subsets: the *training* set and the *testing* (or *validation*) set.  We train the network on the training patterns only, and test its performance on the validation set to see how well it handles novel patterns.  Calling ``split()`` returns a tuple containing the current sizes of the training and testing sets, respectively:"
   ]
  },
  {
   "cell_type": "code",
   "execution_count": 15,
   "metadata": {},
   "outputs": [
    {
     "data": {
      "text/plain": [
       "(70000, 0)"
      ]
     },
     "execution_count": 15,
     "metadata": {},
     "output_type": "execute_result"
    }
   ],
   "source": [
    "mnist.split()"
   ]
  },
  {
   "cell_type": "markdown",
   "metadata": {},
   "source": [
    "We now split the data into 60,000 training patterns and 10,000 testing patterns, and then verify the split:"
   ]
  },
  {
   "cell_type": "code",
   "execution_count": 16,
   "metadata": {},
   "outputs": [
    {
     "data": {
      "text/plain": [
       "(60000, 10000)"
      ]
     },
     "execution_count": 16,
     "metadata": {},
     "output_type": "execute_result"
    }
   ],
   "source": [
    "mnist.split(10000)\n",
    "mnist.split()"
   ]
  },
  {
   "cell_type": "markdown",
   "metadata": {},
   "source": [
    "The last 10,000 patterns in the dataset are now reserved for testing.  As a convenience, we can refer to the training and testing sets independently, counting from 0, via the properties ``train_inputs``, ``train_targets``, ``train_labels``, and ``test_inputs``, ``test_targets``, and ``test_labels``.  The properties `inputs`, `targets`, and `labels` refer to all 70,000 input images, regardless of the current split.  For example:"
   ]
  },
  {
   "cell_type": "code",
   "execution_count": 17,
   "metadata": {},
   "outputs": [
    {
     "name": "stdout",
     "output_type": "stream",
     "text": [
      "70000 total images\n",
      "60000 images for training\n",
      "10000 images for testing\n"
     ]
    }
   ],
   "source": [
    "print(len(mnist.inputs), 'total images')\n",
    "print(len(mnist.train_inputs), 'images for training')\n",
    "print(len(mnist.test_inputs), 'images for testing')"
   ]
  },
  {
   "cell_type": "code",
   "execution_count": 18,
   "metadata": {},
   "outputs": [
    {
     "data": {
      "image/png": "[encoded data removed]",
      "text/plain": [
       "<matplotlib.figure.Figure at 0x11497a438>"
      ]
     },
     "metadata": {},
     "output_type": "display_data"
    },
    {
     "name": "stdout",
     "output_type": "stream",
     "text": [
      "['5', '1', '4', '4', '0', '8', '0', '8', '1', '5']\n"
     ]
    },
    {
     "data": {
      "image/png": "[encoded data removed]",
      "text/plain": [
       "<matplotlib.figure.Figure at 0x10769acc0>"
      ]
     },
     "metadata": {},
     "output_type": "display_data"
    },
    {
     "name": "stdout",
     "output_type": "stream",
     "text": [
      "['5', '1', '4', '4', '0', '8', '0', '8', '1', '5']\n"
     ]
    }
   ],
   "source": [
    "cx.view(mnist.inputs[0:10])\n",
    "print(mnist.labels[0:10])\n",
    "cx.view(mnist.train_inputs[0:10])  # same as inputs[0:10]\n",
    "print(mnist.train_labels[0:10])    # same as labels[0:10]"
   ]
  },
  {
   "cell_type": "code",
   "execution_count": 19,
   "metadata": {},
   "outputs": [
    {
     "data": {
      "image/png": "[encoded data removed]",
      "text/plain": [
       "<matplotlib.figure.Figure at 0x115b9d898>"
      ]
     },
     "metadata": {},
     "output_type": "display_data"
    },
    {
     "name": "stdout",
     "output_type": "stream",
     "text": [
      "['1', '6', '7', '4', '1', '1', '3', '5', '4', '0']\n"
     ]
    },
    {
     "data": {
      "image/png": "[encoded data removed]",
      "text/plain": [
       "<matplotlib.figure.Figure at 0x109f37080>"
      ]
     },
     "metadata": {},
     "output_type": "display_data"
    },
    {
     "name": "stdout",
     "output_type": "stream",
     "text": [
      "['1', '6', '7', '4', '1', '1', '3', '5', '4', '0']\n"
     ]
    }
   ],
   "source": [
    "cx.view(mnist.inputs[60000:60010])\n",
    "print(mnist.labels[60000:60010])\n",
    "cx.view(mnist.test_inputs[0:10])   # same as inputs[60000:60010]\n",
    "print(mnist.test_labels[0:10])     # same as labels[60000:60010]"
   ]
  },
  {
   "cell_type": "markdown",
   "metadata": {},
   "source": [
    "The MNIST digits are grayscale images, with each pixel represented as a single intensity value in the range 0 (black) to 1 (white). You can think of the whole image as consisting of 784 numbers arranged in a plane of 28 rows and 28 columns. For color (RGB) images, however, each pixel consists of three numbers (one for Red intensity, one for Green, and one for Blue). Therefore color images are represented as arrays of shape *rows* &times; *columns* &times; 3, where the 3 indicates the *depth* of the image. For consistency, the grayscale MNIST images are treated as images of depth 1, with shape *rows* &times; *columns* &times; 1. We can verify this by calling `cx.shape` on input image #0:"
   ]
  },
  {
   "cell_type": "code",
   "execution_count": 20,
   "metadata": {},
   "outputs": [
    {
     "data": {
      "text/plain": [
       "(28, 28, 1)"
      ]
     },
     "execution_count": 20,
     "metadata": {},
     "output_type": "execute_result"
    }
   ],
   "source": [
    "cx.shape(mnist.inputs[0])"
   ]
  },
  {
   "cell_type": "markdown",
   "metadata": {},
   "source": [
    "## A multi-layer perceptron network for MNIST classification\n",
    "\n",
    "Now we are ready to build a basic feedforward neural network to learn the MNIST data.  We will create a network with an input layer of shape 28 &times; 28 &times; 1, to match the shape of the input patterns, followed by two hidden layers of 30 units each, and an output classification layer.  However, in order to feed a 2-dimensional input image into the hidden layers, we must first \"flatten\" it into a linear vector of size 784 using a special ``FlattenLayer``.  Our output layer will have 10 units, one for each digit classification (\"zero\" to \"nine\"), and will use the *softmax* activation function.  A softmax layer outputs a *probability distribution*, which means that each of the numbers can be interpreted as a probability (in the range 0-1) representing the likelihood that the input pattern is an example of the corresponding classification category.  Here is a schematic picture of our network:\n",
    "\n",
    "<p><img src=\"mnist_mlp_picture.png\" width=\"50%\"></p>\n",
    "\n",
    "To build this network in Conx, we first create a ``Network`` object, giving it the arbitrary name \"MNIST_MLP\", then add each ``Layer`` in order.  Finally, we create the connections between layers using the single command ``connect()``."
   ]
  },
  {
   "cell_type": "code",
   "execution_count": 21,
   "metadata": {},
   "outputs": [],
   "source": [
    "net = cx.Network('MNIST_MLP')\n",
    "\n",
    "net.add(cx.Layer('input', (28,28,1)))\n",
    "net.add(cx.FlattenLayer('flat_input'))\n",
    "net.add(cx.Layer('hidden1', 30, activation='relu'))\n",
    "net.add(cx.Layer('hidden2', 30, activation='relu'))\n",
    "net.add(cx.Layer('output', 10, activation='softmax'))\n",
    "\n",
    "# creates connections between layers in the order they were added\n",
    "net.connect()"
   ]
  },
  {
   "cell_type": "code",
   "execution_count": 22,
   "metadata": {},
   "outputs": [
    {
     "data": {
      "application/javascript": [
       "\n",
       "require(['base/js/namespace'], function(Jupyter) {\n",
       "    Jupyter.notebook.kernel.comm_manager.register_target('conx_svg_control', function(comm, msg) {\n",
       "        comm.on_msg(function(msg) {\n",
       "            var data = msg[\"content\"][\"data\"];\n",
       "            var images = document.getElementsByClassName(data[\"class\"]);\n",
       "            for (var i = 0; i < images.length; i++) {\n",
       "                if (data[\"href\"]) {\n",
       "                    images[i].setAttributeNS(null, \"href\", data[\"href\"]);\n",
       "                }\n",
       "                if (data[\"src\"]) {\n",
       "                    images[i].setAttributeNS(null, \"src\", data[\"src\"]);\n",
       "                }\n",
       "            }\n",
       "        });\n",
       "    });\n",
       "});\n"
      ],
      "text/plain": [
       "<IPython.core.display.Javascript object>"
      ]
     },
     "metadata": {},
     "output_type": "display_data"
    },
    {
     "data": {
      "text/html": [
       "<svg id='MNIST_MLP' xmlns='http://www.w3.org/2000/svg' image-rendering=\"pixelated\" width=\"245.6140350877193px\" height=\"400.0px\">\n",
       " <g >\n",
       "  <svg viewBox=\"0 0 350 570\" width=\"245.6140350877193px\" height=\"400.0px\">\n",
       "    <defs>\n",
       "        <marker id=\"arrow\" markerWidth=\"10\" markerHeight=\"10\" refX=\"9\" refY=\"3\" orient=\"auto\" markerUnits=\"strokeWidth\">\n",
       "          <path d=\"M0,0 L0,6 L9,3 z\" fill=\"black\" />\n",
       "        </marker>\n",
       "    </defs><rect x=\"74.0\" y=\"24\" width=\"202\" height=\"52\" style=\"fill:none;stroke:black;stroke-width:2\"/><image id=\"picture-static-MNIST_MLP-186302_output_1\" class=\"picture-static-MNIST_MLP-186302_output\" x=\"75.0\" y=\"25\" height=\"50\" width=\"200\" preserveAspectRatio=\"none\" href=\"data:image/gif;base64,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\"><title>Layer: output (output)\n",
       " output range: (-1.0, 1.0)\n",
       " shape = (10,)\n",
       " Keras class = Dense\n",
       " activation = softmax</title></image><text x=\"280.0\" y=\"52.0\" font-family=\"monospace\" font-size=\"12\" text-anchor=\"start\" fill=\"black\" alignment-baseline=\"central\" >output</text><line x1=\"175.0\" y1=\"104\" x2=\"175.0\" y2=\"77\" stroke=\"black\" stroke-width=\"2\" marker-end=\"url(#arrow)\"><title>Weights from hidden2 to output</title></line><rect x=\"74.0\" y=\"104\" width=\"202\" height=\"52\" style=\"fill:none;stroke:black;stroke-width:2\"/><image id=\"picture-static-MNIST_MLP-186302_hidden2_2\" class=\"picture-static-MNIST_MLP-186302_hidden2\" x=\"75.0\" y=\"105\" height=\"50\" width=\"200\" preserveAspectRatio=\"none\" href=\"data:image/gif;base64,R0lGODdhHgABAIcAAP/9/QAAAAAAAAAAAAAAAAAAAAAAAAAAAAAAAAAAAAAAAAAAAAAAAAAAAAAAAAAAAAAAAAAAAAAAAAAAAAAAAAAAAAAAAAAAAAAAAAAAAAAAAAAAAAAAAAAAAAAAAAAAAAAAAAAAAAAAAAAAAAAAAAAAAAAAAAAAAAAAAAAAAAAAAAAAAAAAAAAAAAAAAAAAAAAAAAAAAAAAAAAAAAAAAAAAAAAAAAAAAAAAAAAAAAAAAAAAAAAAAAAAAAAAAAAAAAAAAAAAAAAAAAAAAAAAAAAAAAAAAAAAAAAAAAAAAAAAAAAAAAAAAAAAAAAAAAAAAAAAAAAAAAAAAAAAAAAAAAAAAAAAAAAAAAAAAAAAAAAAAAAAAAAAAAAAAAAAAAAAAAAAAAAAAAAAAAAAAAAAAAAAAAAAAAAAAAAAAAAAAAAAAAAAAAAAAAAAAAAAAAAAAAAAAAAAAAAAAAAAAAAAAAAAAAAAAAAAAAAAAAAAAAAAAAAAAAAAAAAAAAAAAAAAAAAAAAAAAAAAAAAAAAAAAAAAAAAAAAAAAAAAAAAAAAAAAAAAAAAAAAAAAAAAAAAAAAAAAAAAAAAAAAAAAAAAAAAAAAAAAAAAAAAAAAAAAAAAAAAAAAAAAAAAAAAAAAAAAAAAAAAAAAAAAAAAAAAAAAAAAAAAAAAAAAAAAAAAAAAAAAAAAAAAAAAAAAAAAAAAAAAAAAAAAAAAAAAAAAAAAAAAAAAAAAAAAAAAAAAAAAAAAAAAAAAAAAAAAAAAAAAAAAAAAAAAAAAAAAAAAAAAAAAAAAAAAAAAAAAAAAAAAAAAAAAAAAAAAAAAAAAAAAAAAAAAAAAAAAAAAAAAAAAAAAAAAAAAAAAAAAAAAAAAAAAAAAAAAAAAAAAAAAAAAAAAAAAAAAAAAAAAAAAAAAAAAAAAAAAAAAAAAAAAAAAAAAAAAAAAAAAAAAAAAAAAAAAAAAAAAAAAAAAAAAAAAAAAAAAAAAAAAAAAAAAAAAAAAAAAAAAAAAAAAAAAAAAAAAAAACwAAAAAHgABAAAIDAABCBxIsKDBgwIDAgA7\"><title>Layer: hidden2 (hidden)\n",
       " output range: (-1.0, 1.0)\n",
       " shape = (30,)\n",
       " Keras class = Dense\n",
       " activation = relu</title></image><text x=\"280.0\" y=\"132.0\" font-family=\"monospace\" font-size=\"12\" text-anchor=\"start\" fill=\"black\" alignment-baseline=\"central\" >hidden2</text><line x1=\"175.0\" y1=\"184\" x2=\"175.0\" y2=\"157\" stroke=\"black\" stroke-width=\"2\" marker-end=\"url(#arrow)\"><title>Weights from hidden1 to hidden2</title></line><rect x=\"74.0\" y=\"184\" width=\"202\" height=\"52\" style=\"fill:none;stroke:black;stroke-width:2\"/><image id=\"picture-static-MNIST_MLP-186302_hidden1_3\" class=\"picture-static-MNIST_MLP-186302_hidden1\" x=\"75.0\" y=\"185\" height=\"50\" width=\"200\" preserveAspectRatio=\"none\" href=\"data:image/gif;base64,R0lGODdhHgABAIcAAP/9/QAAAAAAAAAAAAAAAAAAAAAAAAAAAAAAAAAAAAAAAAAAAAAAAAAAAAAAAAAAAAAAAAAAAAAAAAAAAAAAAAAAAAAAAAAAAAAAAAAAAAAAAAAAAAAAAAAAAAAAAAAAAAAAAAAAAAAAAAAAAAAAAAAAAAAAAAAAAAAAAAAAAAAAAAAAAAAAAAAAAAAAAAAAAAAAAAAAAAAAAAAAAAAAAAAAAAAAAAAAAAAAAAAAAAAAAAAAAAAAAAAAAAAAAAAAAAAAAAAAAAAAAAAAAAAAAAAAAAAAAAAAAAAAAAAAAAAAAAAAAAAAAAAAAAAAAAAAAAAAAAAAAAAAAAAAAAAAAAAAAAAAAAAAAAAAAAAAAAAAAAAAAAAAAAAAAAAAAAAAAAAAAAAAAAAAAAAAAAAAAAAAAAAAAAAAAAAAAAAAAAAAAAAAAAAAAAAAAAAAAAAAAAAAAAAAAAAAAAAAAAAAAAAAAAAAAAAAAAAAAAAAAAAAAAAAAAAAAAAAAAAAAAAAAAAAAAAAAAAAAAAAAAAAAAAAAAAAAAAAAAAAAAAAAAAAAAAAAAAAAAAAAAAAAAAAAAAAAAAAAAAAAAAAAAAAAAAAAAAAAAAAAAAAAAAAAAAAAAAAAAAAAAAAAAAAAAAAAAAAAAAAAAAAAAAAAAAAAAAAAAAAAAAAAAAAAAAAAAAAAAAAAAAAAAAAAAAAAAAAAAAAAAAAAAAAAAAAAAAAAAAAAAAAAAAAAAAAAAAAAAAAAAAAAAAAAAAAAAAAAAAAAAAAAAAAAAAAAAAAAAAAAAAAAAAAAAAAAAAAAAAAAAAAAAAAAAAAAAAAAAAAAAAAAAAAAAAAAAAAAAAAAAAAAAAAAAAAAAAAAAAAAAAAAAAAAAAAAAAAAAAAAAAAAAAAAAAAAAAAAAAAAAAAAAAAAAAAAAAAAAAAAAAAAAAAAAAAAAAAAAAAAAAAAAAAAAAAAAAAAAAAAAAAAAAAAAAAAAAAAAAAAAAAAAAAAAAAAAAAAAAAAAAAAAAAAAAAAAAAACwAAAAAHgABAAAIDAABCBxIsKDBgwIDAgA7\"><title>Layer: hidden1 (hidden)\n",
       " output range: (-1.0, 1.0)\n",
       " shape = (30,)\n",
       " Keras class = Dense\n",
       " activation = relu</title></image><text x=\"280.0\" y=\"212.0\" font-family=\"monospace\" font-size=\"12\" text-anchor=\"start\" fill=\"black\" alignment-baseline=\"central\" >hidden1</text><line x1=\"175.0\" y1=\"264\" x2=\"175.0\" y2=\"237\" stroke=\"black\" stroke-width=\"2\" marker-end=\"url(#arrow)\"><title>Weights from flat_input to hidden1</title></line><rect x=\"124.0\" y=\"264\" width=\"102\" height=\"52\" style=\"fill:none;stroke:black;stroke-width:2\"/><image id=\"picture-static-MNIST_MLP-186302_flat_input_4\" class=\"picture-static-MNIST_MLP-186302_flat_input\" x=\"125.0\" y=\"265\" height=\"50\" width=\"100\" preserveAspectRatio=\"none\" href=\"data:image/gif;base64,R0lGODdhZAABAIcAAH9/fwAAAAAAAAAAAAAAAAAAAAAAAAAAAAAAAAAAAAAAAAAAAAAAAAAAAAAAAAAAAAAAAAAAAAAAAAAAAAAAAAAAAAAAAAAAAAAAAAAAAAAAAAAAAAAAAAAAAAAAAAAAAAAAAAAAAAAAAAAAAAAAAAAAAAAAAAAAAAAAAAAAAAAAAAAAAAAAAAAAAAAAAAAAAAAAAAAAAAAAAAAAAAAAAAAAAAAAAAAAAAAAAAAAAAAAAAAAAAAAAAAAAAAAAAAAAAAAAAAAAAAAAAAAAAAAAAAAAAAAAAAAAAAAAAAAAAAAAAAAAAAAAAAAAAAAAAAAAAAAAAAAAAAAAAAAAAAAAAAAAAAAAAAAAAAAAAAAAAAAAAAAAAAAAAAAAAAAAAAAAAAAAAAAAAAAAAAAAAAAAAAAAAAAAAAAAAAAAAAAAAAAAAAAAAAAAAAAAAAAAAAAAAAAAAAAAAAAAAAAAAAAAAAAAAAAAAAAAAAAAAAAAAAAAAAAAAAAAAAAAAAAAAAAAAAAAAAAAAAAAAAAAAAAAAAAAAAAAAAAAAAAAAAAAAAAAAAAAAAAAAAAAAAAAAAAAAAAAAAAAAAAAAAAAAAAAAAAAAAAAAAAAAAAAAAAAAAAAAAAAAAAAAAAAAAAAAAAAAAAAAAAAAAAAAAAAAAAAAAAAAAAAAAAAAAAAAAAAAAAAAAAAAAAAAAAAAAAAAAAAAAAAAAAAAAAAAAAAAAAAAAAAAAAAAAAAAAAAAAAAAAAAAAAAAAAAAAAAAAAAAAAAAAAAAAAAAAAAAAAAAAAAAAAAAAAAAAAAAAAAAAAAAAAAAAAAAAAAAAAAAAAAAAAAAAAAAAAAAAAAAAAAAAAAAAAAAAAAAAAAAAAAAAAAAAAAAAAAAAAAAAAAAAAAAAAAAAAAAAAAAAAAAAAAAAAAAAAAAAAAAAAAAAAAAAAAAAAAAAAAAAAAAAAAAAAAAAAAAAAAAAAAAAAAAAAAAAAAAAAAAAAAAAAAAAAAAAAAAAAAAAAAAAAAAAAAAAAAAAAACwAAAAAZAABAAAIEgABCBxIsKDBgwgTKlzIsGHCgAA7\"><title>Layer: flat_input (hidden)\n",
       " output range: (-Infinity, +Infinity)\n",
       " Keras class = Flatten</title></image><text x=\"230.0\" y=\"292.0\" font-family=\"monospace\" font-size=\"12\" text-anchor=\"start\" fill=\"black\" alignment-baseline=\"central\" >flat_input</text><line x1=\"175.0\" y1=\"344\" x2=\"175.0\" y2=\"317\" stroke=\"black\" stroke-width=\"2\" marker-end=\"url(#arrow)\"><title>Weights from input to flat_input</title></line><rect x=\"74.0\" y=\"344\" width=\"202\" height=\"202\" style=\"fill:none;stroke:black;stroke-width:2\"/><image id=\"picture-static-MNIST_MLP-186302_input_5\" class=\"picture-static-MNIST_MLP-186302_input\" x=\"75.0\" y=\"345\" height=\"200\" width=\"200\" preserveAspectRatio=\"none\" href=\"data:image/gif;base64,R0lGODdhHAAcAIcAAH9/fwAAAAAAAAAAAAAAAAAAAAAAAAAAAAAAAAAAAAAAAAAAAAAAAAAAAAAAAAAAAAAAAAAAAAAAAAAAAAAAAAAAAAAAAAAAAAAAAAAAAAAAAAAAAAAAAAAAAAAAAAAAAAAAAAAAAAAAAAAAAAAAAAAAAAAAAAAAAAAAAAAAAAAAAAAAAAAAAAAAAAAAAAAAAAAAAAAAAAAAAAAAAAAAAAAAAAAAAAAAAAAAAAAAAAAAAAAAAAAAAAAAAAAAAAAAAAAAAAAAAAAAAAAAAAAAAAAAAAAAAAAAAAAAAAAAAAAAAAAAAAAAAAAAAAAAAAAAAAAAAAAAAAAAAAAAAAAAAAAAAAAAAAAAAAAAAAAAAAAAAAAAAAAAAAAAAAAAAAAAAAAAAAAAAAAAAAAAAAAAAAAAAAAAAAAAAAAAAAAAAAAAAAAAAAAAAAAAAAAAAAAAAAAAAAAAAAAAAAAAAAAAAAAAAAAAAAAAAAAAAAAAAAAAAAAAAAAAAAAAAAAAAAAAAAAAAAAAAAAAAAAAAAAAAAAAAAAAAAAAAAAAAAAAAAAAAAAAAAAAAAAAAAAAAAAAAAAAAAAAAAAAAAAAAAAAAAAAAAAAAAAAAAAAAAAAAAAAAAAAAAAAAAAAAAAAAAAAAAAAAAAAAAAAAAAAAAAAAAAAAAAAAAAAAAAAAAAAAAAAAAAAAAAAAAAAAAAAAAAAAAAAAAAAAAAAAAAAAAAAAAAAAAAAAAAAAAAAAAAAAAAAAAAAAAAAAAAAAAAAAAAAAAAAAAAAAAAAAAAAAAAAAAAAAAAAAAAAAAAAAAAAAAAAAAAAAAAAAAAAAAAAAAAAAAAAAAAAAAAAAAAAAAAAAAAAAAAAAAAAAAAAAAAAAAAAAAAAAAAAAAAAAAAAAAAAAAAAAAAAAAAAAAAAAAAAAAAAAAAAAAAAAAAAAAAAAAAAAAAAAAAAAAAAAAAAAAAAAAAAAAAAAAAAAAAAAAAAAAAAAAAAAAAAAAAAAAAAAAAAAAAAAAAAAAAAAAAAAAAAACwAAAAAHAAcAEAIMAABCBxIsKDBgwgTKlzIsKHDhxAjSpxIsaLFixgzatzIsaPHjyBDihxJsqTJkwQDAgA7\"><title>Layer: input (input)\n",
       " output range: (-Infinity, +Infinity)\n",
       " shape = (28, 28, 1)\n",
       " Keras class = Input</title></image><text x=\"280.0\" y=\"447.0\" font-family=\"monospace\" font-size=\"12\" text-anchor=\"start\" fill=\"black\" alignment-baseline=\"central\" >input</text><text x=\"175.0\" y=\"12.5\" font-family=\"monospace\" font-size=\"15\" text-anchor=\"middle\" fill=\"black\" alignment-baseline=\"central\" >MNIST_MLP</text></svg></g></svg>"
      ],
      "text/plain": [
       "<IPython.core.display.HTML object>"
      ]
     },
     "execution_count": 22,
     "metadata": {},
     "output_type": "execute_result"
    }
   ],
   "source": [
    "net.picture()"
   ]
  },
  {
   "cell_type": "markdown",
   "metadata": {},
   "source": [
    "We also need to tell the network which dataset to use:"
   ]
  },
  {
   "cell_type": "code",
   "execution_count": 23,
   "metadata": {},
   "outputs": [],
   "source": [
    "net.set_dataset(mnist)"
   ]
  },
  {
   "cell_type": "markdown",
   "metadata": {},
   "source": [
    "The final step after constructing the network is to compile it, specifying an *error* function (also called a \"loss\" function), and the learning algorithm to use (the *optimizer*).  For a classification task with the *softmax* activation function, it is usually best to choose the ``categorical_crossentropy`` error function.  For our learning algorithm, we will use standard Stochastic Gradient Descent.  We can also (optionally) specify the learning rate and momentum values to use."
   ]
  },
  {
   "cell_type": "code",
   "execution_count": 24,
   "metadata": {},
   "outputs": [
    {
     "name": "stdout",
     "output_type": "stream",
     "text": [
      "_________________________________________________________________\n",
      "Layer (type)                 Output Shape              Param #   \n",
      "=================================================================\n",
      "input (InputLayer)           (None, 28, 28, 1)         0         \n",
      "_________________________________________________________________\n",
      "flat_input (Flatten)         (None, 784)               0         \n",
      "_________________________________________________________________\n",
      "hidden1 (Dense)              (None, 30)                23550     \n",
      "_________________________________________________________________\n",
      "hidden2 (Dense)              (None, 30)                930       \n",
      "_________________________________________________________________\n",
      "output (Dense)               (None, 10)                310       \n",
      "=================================================================\n",
      "Total params: 24,790\n",
      "Trainable params: 24,790\n",
      "Non-trainable params: 0\n",
      "_________________________________________________________________\n"
     ]
    }
   ],
   "source": [
    "net.compile(error='categorical_crossentropy', optimizer='SGD', lr=0.3, momentum=0.1)\n",
    "net.summary()"
   ]
  },
  {
   "cell_type": "markdown",
   "metadata": {},
   "source": [
    "The network summary shows the details for each layer, along with the total number of network parameters.  The underlying Keras model on which the network is based is directly available via the ``model`` property, although normally the Conx user does not need to worry about the lower Keras level."
   ]
  },
  {
   "cell_type": "code",
   "execution_count": 25,
   "metadata": {},
   "outputs": [
    {
     "data": {
      "text/plain": [
       "<keras.engine.training.Model at 0x114915f98>"
      ]
     },
     "execution_count": 25,
     "metadata": {},
     "output_type": "execute_result"
    }
   ],
   "source": [
    "net.model"
   ]
  },
  {
   "cell_type": "markdown",
   "metadata": {},
   "source": [
    "We can manually send an input pattern through the network using the ``propagate`` method.  For example, let's ask the network to classify input pattern #0:"
   ]
  },
  {
   "cell_type": "code",
   "execution_count": 26,
   "metadata": {},
   "outputs": [
    {
     "data": {
      "image/png": "[encoded data removed]",
      "text/plain": [
       "<matplotlib.figure.Figure at 0x11af2b6a0>"
      ]
     },
     "metadata": {},
     "output_type": "display_data"
    },
    {
     "data": {
      "text/plain": [
       "[0.11219216138124466,\n",
       " 0.15001490712165833,\n",
       " 0.09992628544569016,\n",
       " 0.10120350122451782,\n",
       " 0.09429392218589783,\n",
       " 0.07347758114337921,\n",
       " 0.0672765001654625,\n",
       " 0.13080935180187225,\n",
       " 0.09866137057542801,\n",
       " 0.07214442640542984]"
      ]
     },
     "execution_count": 26,
     "metadata": {},
     "output_type": "execute_result"
    }
   ],
   "source": [
    "cx.view(mnist.inputs[0])\n",
    "net.propagate(mnist.inputs[0])"
   ]
  },
  {
   "cell_type": "markdown",
   "metadata": {},
   "source": [
    "Not surprisingly, the output values for each classification category are all around 0.10 (representing 10% probability), because the network has not yet been trained.  After training, one of the output values will typically be much larger than the others, corresponding to the output classification category.\n",
    "\n",
    "A more user-friendly way to view the behavior of the network is to open a ``dashboard`` so that we can see the activation of each layer more clearly.  The dashboard allows us to easily step through the input patterns (for either the training or testing set) and see the output of the network for each pattern, along with the correct target classification.  Clicking on **MNIST_MLP** at the top of the dashboard will open up a panel of settings for controlling the appearance and functionality of the network display. For example, to choose between the training set and testing set images, you can select \"Train\" or \"Test\" from the *Dataset* pulldown menu."
   ]
  },
  {
   "cell_type": "code",
   "execution_count": 27,
   "metadata": {},
   "outputs": [
    {
     "data": {
      "application/vnd.jupyter.widget-view+json": {
       "model_id": "6db8c8f992214270bd1b934380de8862",
       "version_major": 2,
       "version_minor": 0
      },
      "text/html": [
       "<p>Failed to display Jupyter Widget of type <code>Dashboard</code>.</p>\n",
       "<p>\n",
       "  If you're reading this message in the Jupyter Notebook or JupyterLab Notebook, it may mean\n",
       "  that the widgets JavaScript is still loading. If this message persists, it\n",
       "  likely means that the widgets JavaScript library is either not installed or\n",
       "  not enabled. See the <a href=\"https://ipywidgets.readthedocs.io/en/stable/user_install.html\">Jupyter\n",
       "  Widgets Documentation</a> for setup instructions.\n",
       "</p>\n",
       "<p>\n",
       "  If you're reading this message in another frontend (for example, a static\n",
       "  rendering on GitHub or <a href=\"https://nbviewer.jupyter.org/\">NBViewer</a>),\n",
       "  it may mean that your frontend doesn't currently support widgets.\n",
       "</p>\n"
      ],
      "text/plain": [
       "Dashboard(children=(Accordion(children=(HBox(children=(VBox(children=(Select(description='Dataset:', index=1, options=('Test', 'Train'), rows=1, value='Train'), FloatSlider(value=0.6, continuous_update=False, description='Zoom', layout=Layout(width='65%'), max=1.0, style=SliderStyle(description_width='initial')), IntText(value=150, description='Horizontal space between banks:', style=DescriptionStyle(description_width='initial')), IntText(value=30, description='Vertical space between layers:', style=DescriptionStyle(description_width='initial')), HBox(children=(Checkbox(value=True, description='Show Targets', style=DescriptionStyle(description_width='initial')), Checkbox(value=False, description='Errors', style=DescriptionStyle(description_width='initial')))), Select(description='Features:', options=('', 'input'), rows=1, value=''), IntText(value=3, description='Feature columns:', style=DescriptionStyle(description_width='initial')), FloatText(value=1.0, description='Feature scale:', style=DescriptionStyle(description_width='initial'))), layout=Layout(width='100%')), VBox(children=(Select(description='Layer:', index=4, options=('input', 'flat_input', 'hidden1', 'hidden2', 'output'), rows=1, value='output'), Checkbox(value=True, description='Visible'), Select(description='Colormap:', options=('', 'Accent', 'Accent_r', 'Blues', 'Blues_r', 'BrBG', 'BrBG_r', 'BuGn', 'BuGn_r', 'BuPu', 'BuPu_r', 'CMRmap', 'CMRmap_r', 'Dark2', 'Dark2_r', 'GnBu', 'GnBu_r', 'Greens', 'Greens_r', 'Greys', 'Greys_r', 'OrRd', 'OrRd_r', 'Oranges', 'Oranges_r', 'PRGn', 'PRGn_r', 'Paired', 'Paired_r', 'Pastel1', 'Pastel1_r', 'Pastel2', 'Pastel2_r', 'PiYG', 'PiYG_r', 'PuBu', 'PuBuGn', 'PuBuGn_r', 'PuBu_r', 'PuOr', 'PuOr_r', 'PuRd', 'PuRd_r', 'Purples', 'Purples_r', 'RdBu', 'RdBu_r', 'RdGy', 'RdGy_r', 'RdPu', 'RdPu_r', 'RdYlBu', 'RdYlBu_r', 'RdYlGn', 'RdYlGn_r', 'Reds', 'Reds_r', 'Set1', 'Set1_r', 'Set2', 'Set2_r', 'Set3', 'Set3_r', 'Spectral', 'Spectral_r', 'Vega10', 'Vega10_r', 'Vega20', 'Vega20_r', 'Vega20b', 'Vega20b_r', 'Vega20c', 'Vega20c_r', 'Wistia', 'Wistia_r', 'YlGn', 'YlGnBu', 'YlGnBu_r', 'YlGn_r', 'YlOrBr', 'YlOrBr_r', 'YlOrRd', 'YlOrRd_r', 'afmhot', 'afmhot_r', 'autumn', 'autumn_r', 'binary', 'binary_r', 'bone', 'bone_r', 'brg', 'brg_r', 'bwr', 'bwr_r', 'cool', 'cool_r', 'coolwarm', 'coolwarm_r', 'copper', 'copper_r', 'cubehelix', 'cubehelix_r', 'flag', 'flag_r', 'gist_earth', 'gist_earth_r', 'gist_gray', 'gist_gray_r', 'gist_heat', 'gist_heat_r', 'gist_ncar', 'gist_ncar_r', 'gist_rainbow', 'gist_rainbow_r', 'gist_stern', 'gist_stern_r', 'gist_yarg', 'gist_yarg_r', 'gnuplot', 'gnuplot2', 'gnuplot2_r', 'gnuplot_r', 'gray', 'gray_r', 'hot', 'hot_r', 'hsv', 'hsv_r', 'inferno', 'inferno_r', 'jet', 'jet_r', 'magma', 'magma_r', 'nipy_spectral', 'nipy_spectral_r', 'ocean', 'ocean_r', 'pink', 'pink_r', 'plasma', 'plasma_r', 'prism', 'prism_r', 'rainbow', 'rainbow_r', 'seismic', 'seismic_r', 'spectral', 'spectral_r', 'spring', 'spring_r', 'summer', 'summer_r', 'tab10', 'tab10_r', 'tab20', 'tab20_r', 'tab20b', 'tab20b_r', 'tab20c', 'tab20c_r', 'terrain', 'terrain_r', 'viridis', 'viridis_r', 'winter', 'winter_r'), rows=1, value=''), HTML(value='<img src=\"data:image/gif;base64,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\"/>'), FloatText(value=-1.0, description='Leftmost color maps to:', style=DescriptionStyle(description_width='initial')), FloatText(value=1.0, description='Rightmost color maps to:', style=DescriptionStyle(description_width='initial')), IntText(value=0, description='Feature to show:', style=DescriptionStyle(description_width='initial')), HBox(children=(Checkbox(value=True, description='Rotate network', layout=Layout(width='52%'), style=DescriptionStyle(description_width='initial')), Button(icon='save', layout=Layout(width='10%'), style=ButtonStyle())))), layout=Layout(width='100%')))),), selected_index=None, _titles={'0': 'MNIST_MLP'}), VBox(children=(HBox(children=(IntSlider(value=0, continuous_update=False, description='Dataset index', layout=Layout(width='100%'), max=59999), Label(value='of 60000', layout=Layout(width='100px'))), layout=Layout(height='40px')), HBox(children=(Button(icon='fast-backward', layout=Layout(width='100%'), style=ButtonStyle()), Button(icon='backward', layout=Layout(width='100%'), style=ButtonStyle()), IntText(value=0, layout=Layout(width='100%')), Button(icon='forward', layout=Layout(width='100%'), style=ButtonStyle()), Button(icon='fast-forward', layout=Layout(width='100%'), style=ButtonStyle()), Button(description='Play', icon='play', layout=Layout(width='100%'), style=ButtonStyle()), Button(icon='refresh', layout=Layout(width='25%'), style=ButtonStyle())), layout=Layout(height='50px', width='100%'))), layout=Layout(width='100%')), HTML(value='<p style=\"text-align:center\"></p>', layout=Layout(justify_content='center', overflow_x='auto', overflow_y='auto', width='95%')), Output()))"
      ]
     },
     "metadata": {},
     "output_type": "display_data"
    }
   ],
   "source": [
    "net.dashboard()"
   ]
  },
  {
   "cell_type": "markdown",
   "metadata": {},
   "source": [
    "We can visualize the weights on connections into specific units by calling `plot_layer_weights`. For example, the command below shows the weights from the input layer into units 0, 1, and 2 of the first hidden layer, displayed as 28 &times; 28 pixel array (where each pixel represents a weight from the input layer into a hidden unit). The `wrange` keyword specifies the minimum and maximum weight values for the color coding. Since the network has not yet been trained, the weights are all small random values close to zero."
   ]
  },
  {
   "cell_type": "code",
   "execution_count": 28,
   "metadata": {},
   "outputs": [
    {
     "data": {
      "image/png": "[encoded data removed]",
      "text/plain": [
       "<matplotlib.figure.Figure at 0x11a1e4048>"
      ]
     },
     "metadata": {},
     "output_type": "display_data"
    }
   ],
   "source": [
    "net.plot_layer_weights('hidden1', units=[0,1,2], vshape=(28,28), wrange=(-1.5, 1.5))"
   ]
  },
  {
   "cell_type": "markdown",
   "metadata": {},
   "source": [
    "Let's train the network for 30 epochs, using a default batch size of 32. This means that images from the training set will be presented to the network in batches of 32 at a time, and for each batch, the SGD algorithm will update the network's weights by an appropriate amount. Then another batch of 32 images will be presented, and so on, until all 60,000 training images in the dataset have been processed, which constitutes one epoch of training. This entire cycle will be repeated for 30 epochs. As training proceeds, the network's error (loss) on both the training and testing/validation sets will be shown on the left graph, and the accuracy on each of these sets will be shown on the right graph. The accuracy is simply the fraction of input images that the network classifies correctly.  A classification is considered correct if the largest output value on the output layer corresponds to the target classification."
   ]
  },
  {
   "cell_type": "code",
   "execution_count": 29,
   "metadata": {},
   "outputs": [
    {
     "data": {
      "image/svg+xml": [
       "<svg height=\"288pt\" version=\"1.1\" viewBox=\"0 0 720 288\" width=\"720pt\" xmlns=\"http://www.w3.org/2000/svg\" xmlns:xlink=\"http://www.w3.org/1999/xlink\">\n",
       " <defs>\n",
       "  <style type=\"text/css\">\n",
       "*{stroke-linecap:butt;stroke-linejoin:round;}\n",
       "  </style>\n",
       " </defs>\n",
       " <g id=\"figure_1\">\n",
       "  <g id=\"patch_1\">\n",
       "   <path d=\"M 0 288  L 720 288  L 720 0  L 0 0  z \" style=\"fill:#ffffff;\"/>\n",
       "  </g>\n",
       "  <g id=\"axes_1\">\n",
       "   <g id=\"patch_2\">\n",
       "    <path d=\"M 90 252  L 343.636364 252  L 343.636364 34.56  L 90 34.56  z \" style=\"fill:#ffffff;\"/>\n",
       "   </g>\n",
       "   <g id=\"matplotlib.axis_1\">\n",
       "    <g id=\"xtick_1\">\n",
       "     <g id=\"line2d_1\">\n",
       "      <defs>\n",
       "       <path d=\"M 0 0  L 0 3.5  \" id=\"med51703388\" style=\"stroke:#000000;stroke-width:0.8;\"/>\n",
       "      </defs>\n",
       "      <g>\n",
       "       <use style=\"stroke:#000000;stroke-width:0.8;\" x=\"101.528926\" xlink:href=\"#med51703388\" y=\"252\"/>\n",
       "      </g>\n",
       "     </g>\n",
       "     <g id=\"text_1\">\n",
       "      <!-- 0 -->\n",
       "      <defs>\n",
       "       <path d=\"M 31.78125 66.40625  Q 24.171875 66.40625 20.328125 58.90625  Q 16.5 51.421875 16.5 36.375  Q 16.5 21.390625 20.328125 13.890625  Q 24.171875 6.390625 31.78125 6.390625  Q 39.453125 6.390625 43.28125 13.890625  Q 47.125 21.390625 47.125 36.375  Q 47.125 51.421875 43.28125 58.90625  Q 39.453125 66.40625 31.78125 66.40625  z M 31.78125 74.21875  Q 44.046875 74.21875 50.515625 64.515625  Q 56.984375 54.828125 56.984375 36.375  Q 56.984375 17.96875 50.515625 8.265625  Q 44.046875 -1.421875 31.78125 -1.421875  Q 19.53125 -1.421875 13.0625 8.265625  Q 6.59375 17.96875 6.59375 36.375  Q 6.59375 54.828125 13.0625 64.515625  Q 19.53125 74.21875 31.78125 74.21875  z \" id=\"DejaVuSans-30\"/>\n",
       "      </defs>\n",
       "      <g transform=\"translate(98.347676 266.598437)scale(0.1 -0.1)\">\n",
       "       <use xlink:href=\"#DejaVuSans-30\"/>\n",
       "      </g>\n",
       "     </g>\n",
       "    </g>\n",
       "    <g id=\"xtick_2\">\n",
       "     <g id=\"line2d_2\">\n",
       "      <g>\n",
       "       <use style=\"stroke:#000000;stroke-width:0.8;\" x=\"139.958678\" xlink:href=\"#med51703388\" y=\"252\"/>\n",
       "      </g>\n",
       "     </g>\n",
       "     <g id=\"text_2\">\n",
       "      <!-- 5 -->\n",
       "      <defs>\n",
       "       <path d=\"M 10.796875 72.90625  L 49.515625 72.90625  L 49.515625 64.59375  L 19.828125 64.59375  L 19.828125 46.734375  Q 21.96875 47.46875 24.109375 47.828125  Q 26.265625 48.1875 28.421875 48.1875  Q 40.625 48.1875 47.75 41.5  Q 54.890625 34.8125 54.890625 23.390625  Q 54.890625 11.625 47.5625 5.09375  Q 40.234375 -1.421875 26.90625 -1.421875  Q 22.3125 -1.421875 17.546875 -0.640625  Q 12.796875 0.140625 7.71875 1.703125  L 7.71875 11.625  Q 12.109375 9.234375 16.796875 8.0625  Q 21.484375 6.890625 26.703125 6.890625  Q 35.15625 6.890625 40.078125 11.328125  Q 45.015625 15.765625 45.015625 23.390625  Q 45.015625 31 40.078125 35.4375  Q 35.15625 39.890625 26.703125 39.890625  Q 22.75 39.890625 18.8125 39.015625  Q 14.890625 38.140625 10.796875 36.28125  z \" id=\"DejaVuSans-35\"/>\n",
       "      </defs>\n",
       "      <g transform=\"translate(136.777428 266.598437)scale(0.1 -0.1)\">\n",
       "       <use xlink:href=\"#DejaVuSans-35\"/>\n",
       "      </g>\n",
       "     </g>\n",
       "    </g>\n",
       "    <g id=\"xtick_3\">\n",
       "     <g id=\"line2d_3\">\n",
       "      <g>\n",
       "       <use style=\"stroke:#000000;stroke-width:0.8;\" x=\"178.38843\" xlink:href=\"#med51703388\" y=\"252\"/>\n",
       "      </g>\n",
       "     </g>\n",
       "     <g id=\"text_3\">\n",
       "      <!-- 10 -->\n",
       "      <defs>\n",
       "       <path d=\"M 12.40625 8.296875  L 28.515625 8.296875  L 28.515625 63.921875  L 10.984375 60.40625  L 10.984375 69.390625  L 28.421875 72.90625  L 38.28125 72.90625  L 38.28125 8.296875  L 54.390625 8.296875  L 54.390625 0  L 12.40625 0  z \" id=\"DejaVuSans-31\"/>\n",
       "      </defs>\n",
       "      <g transform=\"translate(172.02593 266.598437)scale(0.1 -0.1)\">\n",
       "       <use xlink:href=\"#DejaVuSans-31\"/>\n",
       "       <use x=\"63.623047\" xlink:href=\"#DejaVuSans-30\"/>\n",
       "      </g>\n",
       "     </g>\n",
       "    </g>\n",
       "    <g id=\"xtick_4\">\n",
       "     <g id=\"line2d_4\">\n",
       "      <g>\n",
       "       <use style=\"stroke:#000000;stroke-width:0.8;\" x=\"216.818182\" xlink:href=\"#med51703388\" y=\"252\"/>\n",
       "      </g>\n",
       "     </g>\n",
       "     <g id=\"text_4\">\n",
       "      <!-- 15 -->\n",
       "      <g transform=\"translate(210.455682 266.598437)scale(0.1 -0.1)\">\n",
       "       <use xlink:href=\"#DejaVuSans-31\"/>\n",
       "       <use x=\"63.623047\" xlink:href=\"#DejaVuSans-35\"/>\n",
       "      </g>\n",
       "     </g>\n",
       "    </g>\n",
       "    <g id=\"xtick_5\">\n",
       "     <g id=\"line2d_5\">\n",
       "      <g>\n",
       "       <use style=\"stroke:#000000;stroke-width:0.8;\" x=\"255.247934\" xlink:href=\"#med51703388\" y=\"252\"/>\n",
       "      </g>\n",
       "     </g>\n",
       "     <g id=\"text_5\">\n",
       "      <!-- 20 -->\n",
       "      <defs>\n",
       "       <path d=\"M 19.1875 8.296875  L 53.609375 8.296875  L 53.609375 0  L 7.328125 0  L 7.328125 8.296875  Q 12.9375 14.109375 22.625 23.890625  Q 32.328125 33.6875 34.8125 36.53125  Q 39.546875 41.84375 41.421875 45.53125  Q 43.3125 49.21875 43.3125 52.78125  Q 43.3125 58.59375 39.234375 62.25  Q 35.15625 65.921875 28.609375 65.921875  Q 23.96875 65.921875 18.8125 64.3125  Q 13.671875 62.703125 7.8125 59.421875  L 7.8125 69.390625  Q 13.765625 71.78125 18.9375 73  Q 24.125 74.21875 28.421875 74.21875  Q 39.75 74.21875 46.484375 68.546875  Q 53.21875 62.890625 53.21875 53.421875  Q 53.21875 48.921875 51.53125 44.890625  Q 49.859375 40.875 45.40625 35.40625  Q 44.1875 33.984375 37.640625 27.21875  Q 31.109375 20.453125 19.1875 8.296875  z \" id=\"DejaVuSans-32\"/>\n",
       "      </defs>\n",
       "      <g transform=\"translate(248.885434 266.598437)scale(0.1 -0.1)\">\n",
       "       <use xlink:href=\"#DejaVuSans-32\"/>\n",
       "       <use x=\"63.623047\" xlink:href=\"#DejaVuSans-30\"/>\n",
       "      </g>\n",
       "     </g>\n",
       "    </g>\n",
       "    <g id=\"xtick_6\">\n",
       "     <g id=\"line2d_6\">\n",
       "      <g>\n",
       "       <use style=\"stroke:#000000;stroke-width:0.8;\" x=\"293.677686\" xlink:href=\"#med51703388\" y=\"252\"/>\n",
       "      </g>\n",
       "     </g>\n",
       "     <g id=\"text_6\">\n",
       "      <!-- 25 -->\n",
       "      <g transform=\"translate(287.315186 266.598437)scale(0.1 -0.1)\">\n",
       "       <use xlink:href=\"#DejaVuSans-32\"/>\n",
       "       <use x=\"63.623047\" xlink:href=\"#DejaVuSans-35\"/>\n",
       "      </g>\n",
       "     </g>\n",
       "    </g>\n",
       "    <g id=\"xtick_7\">\n",
       "     <g id=\"line2d_7\">\n",
       "      <g>\n",
       "       <use style=\"stroke:#000000;stroke-width:0.8;\" x=\"332.107438\" xlink:href=\"#med51703388\" y=\"252\"/>\n",
       "      </g>\n",
       "     </g>\n",
       "     <g id=\"text_7\">\n",
       "      <!-- 30 -->\n",
       "      <defs>\n",
       "       <path d=\"M 40.578125 39.3125  Q 47.65625 37.796875 51.625 33  Q 55.609375 28.21875 55.609375 21.1875  Q 55.609375 10.40625 48.1875 4.484375  Q 40.765625 -1.421875 27.09375 -1.421875  Q 22.515625 -1.421875 17.65625 -0.515625  Q 12.796875 0.390625 7.625 2.203125  L 7.625 11.71875  Q 11.71875 9.328125 16.59375 8.109375  Q 21.484375 6.890625 26.8125 6.890625  Q 36.078125 6.890625 40.9375 10.546875  Q 45.796875 14.203125 45.796875 21.1875  Q 45.796875 27.640625 41.28125 31.265625  Q 36.765625 34.90625 28.71875 34.90625  L 20.21875 34.90625  L 20.21875 43.015625  L 29.109375 43.015625  Q 36.375 43.015625 40.234375 45.921875  Q 44.09375 48.828125 44.09375 54.296875  Q 44.09375 59.90625 40.109375 62.90625  Q 36.140625 65.921875 28.71875 65.921875  Q 24.65625 65.921875 20.015625 65.03125  Q 15.375 64.15625 9.8125 62.3125  L 9.8125 71.09375  Q 15.4375 72.65625 20.34375 73.4375  Q 25.25 74.21875 29.59375 74.21875  Q 40.828125 74.21875 47.359375 69.109375  Q 53.90625 64.015625 53.90625 55.328125  Q 53.90625 49.265625 50.4375 45.09375  Q 46.96875 40.921875 40.578125 39.3125  z \" id=\"DejaVuSans-33\"/>\n",
       "      </defs>\n",
       "      <g transform=\"translate(325.744938 266.598437)scale(0.1 -0.1)\">\n",
       "       <use xlink:href=\"#DejaVuSans-33\"/>\n",
       "       <use x=\"63.623047\" xlink:href=\"#DejaVuSans-30\"/>\n",
       "      </g>\n",
       "     </g>\n",
       "    </g>\n",
       "    <g id=\"text_8\">\n",
       "     <!-- Epoch -->\n",
       "     <defs>\n",
       "      <path d=\"M 9.8125 72.90625  L 55.90625 72.90625  L 55.90625 64.59375  L 19.671875 64.59375  L 19.671875 43.015625  L 54.390625 43.015625  L 54.390625 34.71875  L 19.671875 34.71875  L 19.671875 8.296875  L 56.78125 8.296875  L 56.78125 0  L 9.8125 0  z \" id=\"DejaVuSans-45\"/>\n",
       "      <path d=\"M 18.109375 8.203125  L 18.109375 -20.796875  L 9.078125 -20.796875  L 9.078125 54.6875  L 18.109375 54.6875  L 18.109375 46.390625  Q 20.953125 51.265625 25.265625 53.625  Q 29.59375 56 35.59375 56  Q 45.5625 56 51.78125 48.09375  Q 58.015625 40.1875 58.015625 27.296875  Q 58.015625 14.40625 51.78125 6.484375  Q 45.5625 -1.421875 35.59375 -1.421875  Q 29.59375 -1.421875 25.265625 0.953125  Q 20.953125 3.328125 18.109375 8.203125  z M 48.6875 27.296875  Q 48.6875 37.203125 44.609375 42.84375  Q 40.53125 48.484375 33.40625 48.484375  Q 26.265625 48.484375 22.1875 42.84375  Q 18.109375 37.203125 18.109375 27.296875  Q 18.109375 17.390625 22.1875 11.75  Q 26.265625 6.109375 33.40625 6.109375  Q 40.53125 6.109375 44.609375 11.75  Q 48.6875 17.390625 48.6875 27.296875  z \" id=\"DejaVuSans-70\"/>\n",
       "      <path d=\"M 30.609375 48.390625  Q 23.390625 48.390625 19.1875 42.75  Q 14.984375 37.109375 14.984375 27.296875  Q 14.984375 17.484375 19.15625 11.84375  Q 23.34375 6.203125 30.609375 6.203125  Q 37.796875 6.203125 41.984375 11.859375  Q 46.1875 17.53125 46.1875 27.296875  Q 46.1875 37.015625 41.984375 42.703125  Q 37.796875 48.390625 30.609375 48.390625  z M 30.609375 56  Q 42.328125 56 49.015625 48.375  Q 55.71875 40.765625 55.71875 27.296875  Q 55.71875 13.875 49.015625 6.21875  Q 42.328125 -1.421875 30.609375 -1.421875  Q 18.84375 -1.421875 12.171875 6.21875  Q 5.515625 13.875 5.515625 27.296875  Q 5.515625 40.765625 12.171875 48.375  Q 18.84375 56 30.609375 56  z \" id=\"DejaVuSans-6f\"/>\n",
       "      <path d=\"M 48.78125 52.59375  L 48.78125 44.1875  Q 44.96875 46.296875 41.140625 47.34375  Q 37.3125 48.390625 33.40625 48.390625  Q 24.65625 48.390625 19.8125 42.84375  Q 14.984375 37.3125 14.984375 27.296875  Q 14.984375 17.28125 19.8125 11.734375  Q 24.65625 6.203125 33.40625 6.203125  Q 37.3125 6.203125 41.140625 7.25  Q 44.96875 8.296875 48.78125 10.40625  L 48.78125 2.09375  Q 45.015625 0.34375 40.984375 -0.53125  Q 36.96875 -1.421875 32.421875 -1.421875  Q 20.0625 -1.421875 12.78125 6.34375  Q 5.515625 14.109375 5.515625 27.296875  Q 5.515625 40.671875 12.859375 48.328125  Q 20.21875 56 33.015625 56  Q 37.15625 56 41.109375 55.140625  Q 45.0625 54.296875 48.78125 52.59375  z \" id=\"DejaVuSans-63\"/>\n",
       "      <path d=\"M 54.890625 33.015625  L 54.890625 0  L 45.90625 0  L 45.90625 32.71875  Q 45.90625 40.484375 42.875 44.328125  Q 39.84375 48.1875 33.796875 48.1875  Q 26.515625 48.1875 22.3125 43.546875  Q 18.109375 38.921875 18.109375 30.90625  L 18.109375 0  L 9.078125 0  L 9.078125 75.984375  L 18.109375 75.984375  L 18.109375 46.1875  Q 21.34375 51.125 25.703125 53.5625  Q 30.078125 56 35.796875 56  Q 45.21875 56 50.046875 50.171875  Q 54.890625 44.34375 54.890625 33.015625  z \" id=\"DejaVuSans-68\"/>\n",
       "     </defs>\n",
       "     <g transform=\"translate(201.507244 280.276563)scale(0.1 -0.1)\">\n",
       "      <use xlink:href=\"#DejaVuSans-45\"/>\n",
       "      <use x=\"63.183594\" xlink:href=\"#DejaVuSans-70\"/>\n",
       "      <use x=\"126.660156\" xlink:href=\"#DejaVuSans-6f\"/>\n",
       "      <use x=\"187.841797\" xlink:href=\"#DejaVuSans-63\"/>\n",
       "      <use x=\"242.822266\" xlink:href=\"#DejaVuSans-68\"/>\n",
       "     </g>\n",
       "    </g>\n",
       "   </g>\n",
       "   <g id=\"matplotlib.axis_2\">\n",
       "    <g id=\"ytick_1\">\n",
       "     <g id=\"line2d_8\">\n",
       "      <defs>\n",
       "       <path d=\"M 0 0  L -3.5 0  \" id=\"mb713dbf155\" style=\"stroke:#000000;stroke-width:0.8;\"/>\n",
       "      </defs>\n",
       "      <g>\n",
       "       <use style=\"stroke:#000000;stroke-width:0.8;\" x=\"90\" xlink:href=\"#mb713dbf155\" y=\"252\"/>\n",
       "      </g>\n",
       "     </g>\n",
       "     <g id=\"text_9\">\n",
       "      <!-- 0.0 -->\n",
       "      <defs>\n",
       "       <path d=\"M 10.6875 12.40625  L 21 12.40625  L 21 0  L 10.6875 0  z \" id=\"DejaVuSans-2e\"/>\n",
       "      </defs>\n",
       "      <g transform=\"translate(67.096875 255.799219)scale(0.1 -0.1)\">\n",
       "       <use xlink:href=\"#DejaVuSans-30\"/>\n",
       "       <use x=\"63.623047\" xlink:href=\"#DejaVuSans-2e\"/>\n",
       "       <use x=\"95.410156\" xlink:href=\"#DejaVuSans-30\"/>\n",
       "      </g>\n",
       "     </g>\n",
       "    </g>\n",
       "    <g id=\"ytick_2\">\n",
       "     <g id=\"line2d_9\">\n",
       "      <g>\n",
       "       <use style=\"stroke:#000000;stroke-width:0.8;\" x=\"90\" xlink:href=\"#mb713dbf155\" y=\"207.723292\"/>\n",
       "      </g>\n",
       "     </g>\n",
       "     <g id=\"text_10\">\n",
       "      <!-- 0.5 -->\n",
       "      <g transform=\"translate(67.096875 211.522511)scale(0.1 -0.1)\">\n",
       "       <use xlink:href=\"#DejaVuSans-30\"/>\n",
       "       <use x=\"63.623047\" xlink:href=\"#DejaVuSans-2e\"/>\n",
       "       <use x=\"95.410156\" xlink:href=\"#DejaVuSans-35\"/>\n",
       "      </g>\n",
       "     </g>\n",
       "    </g>\n",
       "    <g id=\"ytick_3\">\n",
       "     <g id=\"line2d_10\">\n",
       "      <g>\n",
       "       <use style=\"stroke:#000000;stroke-width:0.8;\" x=\"90\" xlink:href=\"#mb713dbf155\" y=\"163.446584\"/>\n",
       "      </g>\n",
       "     </g>\n",
       "     <g id=\"text_11\">\n",
       "      <!-- 1.0 -->\n",
       "      <g transform=\"translate(67.096875 167.245803)scale(0.1 -0.1)\">\n",
       "       <use xlink:href=\"#DejaVuSans-31\"/>\n",
       "       <use x=\"63.623047\" xlink:href=\"#DejaVuSans-2e\"/>\n",
       "       <use x=\"95.410156\" xlink:href=\"#DejaVuSans-30\"/>\n",
       "      </g>\n",
       "     </g>\n",
       "    </g>\n",
       "    <g id=\"ytick_4\">\n",
       "     <g id=\"line2d_11\">\n",
       "      <g>\n",
       "       <use style=\"stroke:#000000;stroke-width:0.8;\" x=\"90\" xlink:href=\"#mb713dbf155\" y=\"119.169877\"/>\n",
       "      </g>\n",
       "     </g>\n",
       "     <g id=\"text_12\">\n",
       "      <!-- 1.5 -->\n",
       "      <g transform=\"translate(67.096875 122.969095)scale(0.1 -0.1)\">\n",
       "       <use xlink:href=\"#DejaVuSans-31\"/>\n",
       "       <use x=\"63.623047\" xlink:href=\"#DejaVuSans-2e\"/>\n",
       "       <use x=\"95.410156\" xlink:href=\"#DejaVuSans-35\"/>\n",
       "      </g>\n",
       "     </g>\n",
       "    </g>\n",
       "    <g id=\"ytick_5\">\n",
       "     <g id=\"line2d_12\">\n",
       "      <g>\n",
       "       <use style=\"stroke:#000000;stroke-width:0.8;\" x=\"90\" xlink:href=\"#mb713dbf155\" y=\"74.893169\"/>\n",
       "      </g>\n",
       "     </g>\n",
       "     <g id=\"text_13\">\n",
       "      <!-- 2.0 -->\n",
       "      <g transform=\"translate(67.096875 78.692387)scale(0.1 -0.1)\">\n",
       "       <use xlink:href=\"#DejaVuSans-32\"/>\n",
       "       <use x=\"63.623047\" xlink:href=\"#DejaVuSans-2e\"/>\n",
       "       <use x=\"95.410156\" xlink:href=\"#DejaVuSans-30\"/>\n",
       "      </g>\n",
       "     </g>\n",
       "    </g>\n",
       "   </g>\n",
       "   <g id=\"line2d_13\">\n",
       "    <path clip-path=\"url(#pdebc886399)\" d=\"M 101.528926 44.794951  L 109.214876 224.075303  L 116.900826 236.342074  L 124.586777 239.240437  L 132.272727 240.770923  L 139.958678 241.787338  L 147.644628 242.415656  L 155.330579 243.150283  L 163.016529 243.328868  L 170.702479 243.848404  L 178.38843 244.084226  L 186.07438 244.547388  L 193.760331 244.354343  L 201.446281 244.76752  L 209.132231 244.921922  L 216.818182 245.375532  L 224.504132 245.587699  L 232.190083 245.600746  L 239.876033 245.583546  L 247.561983 245.704511  L 255.247934 245.694092  L 262.933884 246.087612  L 270.619835 245.774594  L 278.305785 246.365273  L 285.991736 246.122337  L 293.677686 246.081368  L 301.363636 245.76979  L 309.049587 246.327424  L 316.735537 246.830311  L 324.421488 246.712399  L 332.107438 246.857729  \" style=\"fill:none;stroke:#1f77b4;stroke-linecap:square;stroke-width:1.5;\"/>\n",
       "   </g>\n",
       "   <g id=\"line2d_14\">\n",
       "    <path clip-path=\"url(#pdebc886399)\" d=\"M 101.528926 44.669416  L 109.214876 232.625251  L 116.900826 237.466729  L 124.586777 238.330588  L 132.272727 239.2962  L 139.958678 237.742296  L 147.644628 236.756303  L 155.330579 237.935107  L 163.016529 238.712542  L 170.702479 237.950506  L 178.38843 237.643888  L 186.07438 238.987197  L 193.760331 236.64832  L 201.446281 238.26528  L 209.132231 237.745477  L 216.818182 235.840413  L 224.504132 235.691772  L 232.190083 238.214311  L 239.876033 234.821208  L 247.561983 235.558758  L 255.247934 237.159378  L 262.933884 234.939621  L 270.619835 236.434305  L 278.305785 237.264379  L 285.991736 234.247848  L 293.677686 237.361182  L 301.363636 236.760103  L 309.049587 234.067831  L 316.735537 235.388159  L 324.421488 236.839575  L 332.107438 236.266049  \" style=\"fill:none;stroke:#ff7f0e;stroke-linecap:square;stroke-width:1.5;\"/>\n",
       "   </g>\n",
       "   <g id=\"patch_3\">\n",
       "    <path d=\"M 90 252  L 90 34.56  \" style=\"fill:none;stroke:#000000;stroke-linecap:square;stroke-linejoin:miter;stroke-width:0.8;\"/>\n",
       "   </g>\n",
       "   <g id=\"patch_4\">\n",
       "    <path d=\"M 343.636364 252  L 343.636364 34.56  \" style=\"fill:none;stroke:#000000;stroke-linecap:square;stroke-linejoin:miter;stroke-width:0.8;\"/>\n",
       "   </g>\n",
       "   <g id=\"patch_5\">\n",
       "    <path d=\"M 90 252  L 343.636364 252  \" style=\"fill:none;stroke:#000000;stroke-linecap:square;stroke-linejoin:miter;stroke-width:0.8;\"/>\n",
       "   </g>\n",
       "   <g id=\"patch_6\">\n",
       "    <path d=\"M 90 34.56  L 343.636364 34.56  \" style=\"fill:none;stroke:#000000;stroke-linecap:square;stroke-linejoin:miter;stroke-width:0.8;\"/>\n",
       "   </g>\n",
       "   <g id=\"text_14\">\n",
       "    <!-- MNIST_MLP: Error -->\n",
       "    <defs>\n",
       "     <path d=\"M 9.8125 72.90625  L 24.515625 72.90625  L 43.109375 23.296875  L 61.8125 72.90625  L 76.515625 72.90625  L 76.515625 0  L 66.890625 0  L 66.890625 64.015625  L 48.09375 14.015625  L 38.1875 14.015625  L 19.390625 64.015625  L 19.390625 0  L 9.8125 0  z \" id=\"DejaVuSans-4d\"/>\n",
       "     <path d=\"M 9.8125 72.90625  L 23.09375 72.90625  L 55.421875 11.921875  L 55.421875 72.90625  L 64.984375 72.90625  L 64.984375 0  L 51.703125 0  L 19.390625 60.984375  L 19.390625 0  L 9.8125 0  z \" id=\"DejaVuSans-4e\"/>\n",
       "     <path d=\"M 9.8125 72.90625  L 19.671875 72.90625  L 19.671875 0  L 9.8125 0  z \" id=\"DejaVuSans-49\"/>\n",
       "     <path d=\"M 53.515625 70.515625  L 53.515625 60.890625  Q 47.90625 63.578125 42.921875 64.890625  Q 37.9375 66.21875 33.296875 66.21875  Q 25.25 66.21875 20.875 63.09375  Q 16.5 59.96875 16.5 54.203125  Q 16.5 49.359375 19.40625 46.890625  Q 22.3125 44.4375 30.421875 42.921875  L 36.375 41.703125  Q 47.40625 39.59375 52.65625 34.296875  Q 57.90625 29 57.90625 20.125  Q 57.90625 9.515625 50.796875 4.046875  Q 43.703125 -1.421875 29.984375 -1.421875  Q 24.8125 -1.421875 18.96875 -0.25  Q 13.140625 0.921875 6.890625 3.21875  L 6.890625 13.375  Q 12.890625 10.015625 18.65625 8.296875  Q 24.421875 6.59375 29.984375 6.59375  Q 38.421875 6.59375 43.015625 9.90625  Q 47.609375 13.234375 47.609375 19.390625  Q 47.609375 24.75 44.3125 27.78125  Q 41.015625 30.8125 33.5 32.328125  L 27.484375 33.5  Q 16.453125 35.6875 11.515625 40.375  Q 6.59375 45.0625 6.59375 53.421875  Q 6.59375 63.09375 13.40625 68.65625  Q 20.21875 74.21875 32.171875 74.21875  Q 37.3125 74.21875 42.625 73.28125  Q 47.953125 72.359375 53.515625 70.515625  z \" id=\"DejaVuSans-53\"/>\n",
       "     <path d=\"M -0.296875 72.90625  L 61.375 72.90625  L 61.375 64.59375  L 35.5 64.59375  L 35.5 0  L 25.59375 0  L 25.59375 64.59375  L -0.296875 64.59375  z \" id=\"DejaVuSans-54\"/>\n",
       "     <path d=\"M 50.984375 -16.609375  L 50.984375 -23.578125  L -0.984375 -23.578125  L -0.984375 -16.609375  z \" id=\"DejaVuSans-5f\"/>\n",
       "     <path d=\"M 9.8125 72.90625  L 19.671875 72.90625  L 19.671875 8.296875  L 55.171875 8.296875  L 55.171875 0  L 9.8125 0  z \" id=\"DejaVuSans-4c\"/>\n",
       "     <path d=\"M 19.671875 64.796875  L 19.671875 37.40625  L 32.078125 37.40625  Q 38.96875 37.40625 42.71875 40.96875  Q 46.484375 44.53125 46.484375 51.125  Q 46.484375 57.671875 42.71875 61.234375  Q 38.96875 64.796875 32.078125 64.796875  z M 9.8125 72.90625  L 32.078125 72.90625  Q 44.34375 72.90625 50.609375 67.359375  Q 56.890625 61.8125 56.890625 51.125  Q 56.890625 40.328125 50.609375 34.8125  Q 44.34375 29.296875 32.078125 29.296875  L 19.671875 29.296875  L 19.671875 0  L 9.8125 0  z \" id=\"DejaVuSans-50\"/>\n",
       "     <path d=\"M 11.71875 12.40625  L 22.015625 12.40625  L 22.015625 0  L 11.71875 0  z M 11.71875 51.703125  L 22.015625 51.703125  L 22.015625 39.3125  L 11.71875 39.3125  z \" id=\"DejaVuSans-3a\"/>\n",
       "     <path id=\"DejaVuSans-20\"/>\n",
       "     <path d=\"M 41.109375 46.296875  Q 39.59375 47.171875 37.8125 47.578125  Q 36.03125 48 33.890625 48  Q 26.265625 48 22.1875 43.046875  Q 18.109375 38.09375 18.109375 28.8125  L 18.109375 0  L 9.078125 0  L 9.078125 54.6875  L 18.109375 54.6875  L 18.109375 46.1875  Q 20.953125 51.171875 25.484375 53.578125  Q 30.03125 56 36.53125 56  Q 37.453125 56 38.578125 55.875  Q 39.703125 55.765625 41.0625 55.515625  z \" id=\"DejaVuSans-72\"/>\n",
       "    </defs>\n",
       "    <g transform=\"translate(163.983494 28.56)scale(0.12 -0.12)\">\n",
       "     <use xlink:href=\"#DejaVuSans-4d\"/>\n",
       "     <use x=\"86.279297\" xlink:href=\"#DejaVuSans-4e\"/>\n",
       "     <use x=\"161.083984\" xlink:href=\"#DejaVuSans-49\"/>\n",
       "     <use x=\"190.576172\" xlink:href=\"#DejaVuSans-53\"/>\n",
       "     <use x=\"254.052734\" xlink:href=\"#DejaVuSans-54\"/>\n",
       "     <use x=\"315.136719\" xlink:href=\"#DejaVuSans-5f\"/>\n",
       "     <use x=\"365.136719\" xlink:href=\"#DejaVuSans-4d\"/>\n",
       "     <use x=\"451.416016\" xlink:href=\"#DejaVuSans-4c\"/>\n",
       "     <use x=\"507.128906\" xlink:href=\"#DejaVuSans-50\"/>\n",
       "     <use x=\"567.431641\" xlink:href=\"#DejaVuSans-3a\"/>\n",
       "     <use x=\"601.123047\" xlink:href=\"#DejaVuSans-20\"/>\n",
       "     <use x=\"632.910156\" xlink:href=\"#DejaVuSans-45\"/>\n",
       "     <use x=\"696.09375\" xlink:href=\"#DejaVuSans-72\"/>\n",
       "     <use x=\"737.191406\" xlink:href=\"#DejaVuSans-72\"/>\n",
       "     <use x=\"778.273438\" xlink:href=\"#DejaVuSans-6f\"/>\n",
       "     <use x=\"839.455078\" xlink:href=\"#DejaVuSans-72\"/>\n",
       "    </g>\n",
       "   </g>\n",
       "   <g id=\"legend_1\">\n",
       "    <g id=\"patch_7\">\n",
       "     <path d=\"M 236.030114 71.91625  L 336.636364 71.91625  Q 338.636364 71.91625 338.636364 69.91625  L 338.636364 41.56  Q 338.636364 39.56 336.636364 39.56  L 236.030114 39.56  Q 234.030114 39.56 234.030114 41.56  L 234.030114 69.91625  Q 234.030114 71.91625 236.030114 71.91625  z \" style=\"fill:#ffffff;opacity:0.8;stroke:#cccccc;stroke-linejoin:miter;\"/>\n",
       "    </g>\n",
       "    <g id=\"line2d_15\">\n",
       "     <path d=\"M 238.030114 47.658437  L 258.030114 47.658437  \" style=\"fill:none;stroke:#1f77b4;stroke-linecap:square;stroke-width:1.5;\"/>\n",
       "    </g>\n",
       "    <g id=\"line2d_16\"/>\n",
       "    <g id=\"text_15\">\n",
       "     <!-- Training set -->\n",
       "     <defs>\n",
       "      <path d=\"M 34.28125 27.484375  Q 23.390625 27.484375 19.1875 25  Q 14.984375 22.515625 14.984375 16.5  Q 14.984375 11.71875 18.140625 8.90625  Q 21.296875 6.109375 26.703125 6.109375  Q 34.1875 6.109375 38.703125 11.40625  Q 43.21875 16.703125 43.21875 25.484375  L 43.21875 27.484375  z M 52.203125 31.203125  L 52.203125 0  L 43.21875 0  L 43.21875 8.296875  Q 40.140625 3.328125 35.546875 0.953125  Q 30.953125 -1.421875 24.3125 -1.421875  Q 15.921875 -1.421875 10.953125 3.296875  Q 6 8.015625 6 15.921875  Q 6 25.140625 12.171875 29.828125  Q 18.359375 34.515625 30.609375 34.515625  L 43.21875 34.515625  L 43.21875 35.40625  Q 43.21875 41.609375 39.140625 45  Q 35.0625 48.390625 27.6875 48.390625  Q 23 48.390625 18.546875 47.265625  Q 14.109375 46.140625 10.015625 43.890625  L 10.015625 52.203125  Q 14.9375 54.109375 19.578125 55.046875  Q 24.21875 56 28.609375 56  Q 40.484375 56 46.34375 49.84375  Q 52.203125 43.703125 52.203125 31.203125  z \" id=\"DejaVuSans-61\"/>\n",
       "      <path d=\"M 9.421875 54.6875  L 18.40625 54.6875  L 18.40625 0  L 9.421875 0  z M 9.421875 75.984375  L 18.40625 75.984375  L 18.40625 64.59375  L 9.421875 64.59375  z \" id=\"DejaVuSans-69\"/>\n",
       "      <path d=\"M 54.890625 33.015625  L 54.890625 0  L 45.90625 0  L 45.90625 32.71875  Q 45.90625 40.484375 42.875 44.328125  Q 39.84375 48.1875 33.796875 48.1875  Q 26.515625 48.1875 22.3125 43.546875  Q 18.109375 38.921875 18.109375 30.90625  L 18.109375 0  L 9.078125 0  L 9.078125 54.6875  L 18.109375 54.6875  L 18.109375 46.1875  Q 21.34375 51.125 25.703125 53.5625  Q 30.078125 56 35.796875 56  Q 45.21875 56 50.046875 50.171875  Q 54.890625 44.34375 54.890625 33.015625  z \" id=\"DejaVuSans-6e\"/>\n",
       "      <path d=\"M 45.40625 27.984375  Q 45.40625 37.75 41.375 43.109375  Q 37.359375 48.484375 30.078125 48.484375  Q 22.859375 48.484375 18.828125 43.109375  Q 14.796875 37.75 14.796875 27.984375  Q 14.796875 18.265625 18.828125 12.890625  Q 22.859375 7.515625 30.078125 7.515625  Q 37.359375 7.515625 41.375 12.890625  Q 45.40625 18.265625 45.40625 27.984375  z M 54.390625 6.78125  Q 54.390625 -7.171875 48.1875 -13.984375  Q 42 -20.796875 29.203125 -20.796875  Q 24.46875 -20.796875 20.265625 -20.09375  Q 16.0625 -19.390625 12.109375 -17.921875  L 12.109375 -9.1875  Q 16.0625 -11.328125 19.921875 -12.34375  Q 23.78125 -13.375 27.78125 -13.375  Q 36.625 -13.375 41.015625 -8.765625  Q 45.40625 -4.15625 45.40625 5.171875  L 45.40625 9.625  Q 42.625 4.78125 38.28125 2.390625  Q 33.9375 0 27.875 0  Q 17.828125 0 11.671875 7.65625  Q 5.515625 15.328125 5.515625 27.984375  Q 5.515625 40.671875 11.671875 48.328125  Q 17.828125 56 27.875 56  Q 33.9375 56 38.28125 53.609375  Q 42.625 51.21875 45.40625 46.390625  L 45.40625 54.6875  L 54.390625 54.6875  z \" id=\"DejaVuSans-67\"/>\n",
       "      <path d=\"M 44.28125 53.078125  L 44.28125 44.578125  Q 40.484375 46.53125 36.375 47.5  Q 32.28125 48.484375 27.875 48.484375  Q 21.1875 48.484375 17.84375 46.4375  Q 14.5 44.390625 14.5 40.28125  Q 14.5 37.15625 16.890625 35.375  Q 19.28125 33.59375 26.515625 31.984375  L 29.59375 31.296875  Q 39.15625 29.25 43.1875 25.515625  Q 47.21875 21.78125 47.21875 15.09375  Q 47.21875 7.46875 41.1875 3.015625  Q 35.15625 -1.421875 24.609375 -1.421875  Q 20.21875 -1.421875 15.453125 -0.5625  Q 10.6875 0.296875 5.421875 2  L 5.421875 11.28125  Q 10.40625 8.6875 15.234375 7.390625  Q 20.0625 6.109375 24.8125 6.109375  Q 31.15625 6.109375 34.5625 8.28125  Q 37.984375 10.453125 37.984375 14.40625  Q 37.984375 18.0625 35.515625 20.015625  Q 33.0625 21.96875 24.703125 23.78125  L 21.578125 24.515625  Q 13.234375 26.265625 9.515625 29.90625  Q 5.8125 33.546875 5.8125 39.890625  Q 5.8125 47.609375 11.28125 51.796875  Q 16.75 56 26.8125 56  Q 31.78125 56 36.171875 55.265625  Q 40.578125 54.546875 44.28125 53.078125  z \" id=\"DejaVuSans-73\"/>\n",
       "      <path d=\"M 56.203125 29.59375  L 56.203125 25.203125  L 14.890625 25.203125  Q 15.484375 15.921875 20.484375 11.0625  Q 25.484375 6.203125 34.421875 6.203125  Q 39.59375 6.203125 44.453125 7.46875  Q 49.3125 8.734375 54.109375 11.28125  L 54.109375 2.78125  Q 49.265625 0.734375 44.1875 -0.34375  Q 39.109375 -1.421875 33.890625 -1.421875  Q 20.796875 -1.421875 13.15625 6.1875  Q 5.515625 13.8125 5.515625 26.8125  Q 5.515625 40.234375 12.765625 48.109375  Q 20.015625 56 32.328125 56  Q 43.359375 56 49.78125 48.890625  Q 56.203125 41.796875 56.203125 29.59375  z M 47.21875 32.234375  Q 47.125 39.59375 43.09375 43.984375  Q 39.0625 48.390625 32.421875 48.390625  Q 24.90625 48.390625 20.390625 44.140625  Q 15.875 39.890625 15.1875 32.171875  z \" id=\"DejaVuSans-65\"/>\n",
       "      <path d=\"M 18.3125 70.21875  L 18.3125 54.6875  L 36.8125 54.6875  L 36.8125 47.703125  L 18.3125 47.703125  L 18.3125 18.015625  Q 18.3125 11.328125 20.140625 9.421875  Q 21.96875 7.515625 27.59375 7.515625  L 36.8125 7.515625  L 36.8125 0  L 27.59375 0  Q 17.1875 0 13.234375 3.875  Q 9.28125 7.765625 9.28125 18.015625  L 9.28125 47.703125  L 2.6875 47.703125  L 2.6875 54.6875  L 9.28125 54.6875  L 9.28125 70.21875  z \" id=\"DejaVuSans-74\"/>\n",
       "     </defs>\n",
       "     <g transform=\"translate(266.030114 51.158437)scale(0.1 -0.1)\">\n",
       "      <use xlink:href=\"#DejaVuSans-54\"/>\n",
       "      <use x=\"60.865234\" xlink:href=\"#DejaVuSans-72\"/>\n",
       "      <use x=\"101.978516\" xlink:href=\"#DejaVuSans-61\"/>\n",
       "      <use x=\"163.257812\" xlink:href=\"#DejaVuSans-69\"/>\n",
       "      <use x=\"191.041016\" xlink:href=\"#DejaVuSans-6e\"/>\n",
       "      <use x=\"254.419922\" xlink:href=\"#DejaVuSans-69\"/>\n",
       "      <use x=\"282.203125\" xlink:href=\"#DejaVuSans-6e\"/>\n",
       "      <use x=\"345.582031\" xlink:href=\"#DejaVuSans-67\"/>\n",
       "      <use x=\"409.058594\" xlink:href=\"#DejaVuSans-20\"/>\n",
       "      <use x=\"440.845703\" xlink:href=\"#DejaVuSans-73\"/>\n",
       "      <use x=\"492.945312\" xlink:href=\"#DejaVuSans-65\"/>\n",
       "      <use x=\"554.46875\" xlink:href=\"#DejaVuSans-74\"/>\n",
       "     </g>\n",
       "    </g>\n",
       "    <g id=\"line2d_17\">\n",
       "     <path d=\"M 238.030114 62.336562  L 258.030114 62.336562  \" style=\"fill:none;stroke:#ff7f0e;stroke-linecap:square;stroke-width:1.5;\"/>\n",
       "    </g>\n",
       "    <g id=\"line2d_18\"/>\n",
       "    <g id=\"text_16\">\n",
       "     <!-- Validation set -->\n",
       "     <defs>\n",
       "      <path d=\"M 28.609375 0  L 0.78125 72.90625  L 11.078125 72.90625  L 34.1875 11.53125  L 57.328125 72.90625  L 67.578125 72.90625  L 39.796875 0  z \" id=\"DejaVuSans-56\"/>\n",
       "      <path d=\"M 9.421875 75.984375  L 18.40625 75.984375  L 18.40625 0  L 9.421875 0  z \" id=\"DejaVuSans-6c\"/>\n",
       "      <path d=\"M 45.40625 46.390625  L 45.40625 75.984375  L 54.390625 75.984375  L 54.390625 0  L 45.40625 0  L 45.40625 8.203125  Q 42.578125 3.328125 38.25 0.953125  Q 33.9375 -1.421875 27.875 -1.421875  Q 17.96875 -1.421875 11.734375 6.484375  Q 5.515625 14.40625 5.515625 27.296875  Q 5.515625 40.1875 11.734375 48.09375  Q 17.96875 56 27.875 56  Q 33.9375 56 38.25 53.625  Q 42.578125 51.265625 45.40625 46.390625  z M 14.796875 27.296875  Q 14.796875 17.390625 18.875 11.75  Q 22.953125 6.109375 30.078125 6.109375  Q 37.203125 6.109375 41.296875 11.75  Q 45.40625 17.390625 45.40625 27.296875  Q 45.40625 37.203125 41.296875 42.84375  Q 37.203125 48.484375 30.078125 48.484375  Q 22.953125 48.484375 18.875 42.84375  Q 14.796875 37.203125 14.796875 27.296875  z \" id=\"DejaVuSans-64\"/>\n",
       "     </defs>\n",
       "     <g transform=\"translate(266.030114 65.836562)scale(0.1 -0.1)\">\n",
       "      <use xlink:href=\"#DejaVuSans-56\"/>\n",
       "      <use x=\"68.298828\" xlink:href=\"#DejaVuSans-61\"/>\n",
       "      <use x=\"129.578125\" xlink:href=\"#DejaVuSans-6c\"/>\n",
       "      <use x=\"157.361328\" xlink:href=\"#DejaVuSans-69\"/>\n",
       "      <use x=\"185.144531\" xlink:href=\"#DejaVuSans-64\"/>\n",
       "      <use x=\"248.621094\" xlink:href=\"#DejaVuSans-61\"/>\n",
       "      <use x=\"309.900391\" xlink:href=\"#DejaVuSans-74\"/>\n",
       "      <use x=\"349.109375\" xlink:href=\"#DejaVuSans-69\"/>\n",
       "      <use x=\"376.892578\" xlink:href=\"#DejaVuSans-6f\"/>\n",
       "      <use x=\"438.074219\" xlink:href=\"#DejaVuSans-6e\"/>\n",
       "      <use x=\"501.453125\" xlink:href=\"#DejaVuSans-20\"/>\n",
       "      <use x=\"533.240234\" xlink:href=\"#DejaVuSans-73\"/>\n",
       "      <use x=\"585.339844\" xlink:href=\"#DejaVuSans-65\"/>\n",
       "      <use x=\"646.863281\" xlink:href=\"#DejaVuSans-74\"/>\n",
       "     </g>\n",
       "    </g>\n",
       "   </g>\n",
       "  </g>\n",
       "  <g id=\"axes_2\">\n",
       "   <g id=\"patch_8\">\n",
       "    <path d=\"M 394.363636 252  L 648 252  L 648 34.56  L 394.363636 34.56  z \" style=\"fill:#ffffff;\"/>\n",
       "   </g>\n",
       "   <g id=\"matplotlib.axis_3\">\n",
       "    <g id=\"xtick_8\">\n",
       "     <g id=\"line2d_19\">\n",
       "      <g>\n",
       "       <use style=\"stroke:#000000;stroke-width:0.8;\" x=\"405.892562\" xlink:href=\"#med51703388\" y=\"252\"/>\n",
       "      </g>\n",
       "     </g>\n",
       "     <g id=\"text_17\">\n",
       "      <!-- 0 -->\n",
       "      <g transform=\"translate(402.711312 266.598437)scale(0.1 -0.1)\">\n",
       "       <use xlink:href=\"#DejaVuSans-30\"/>\n",
       "      </g>\n",
       "     </g>\n",
       "    </g>\n",
       "    <g id=\"xtick_9\">\n",
       "     <g id=\"line2d_20\">\n",
       "      <g>\n",
       "       <use style=\"stroke:#000000;stroke-width:0.8;\" x=\"444.322314\" xlink:href=\"#med51703388\" y=\"252\"/>\n",
       "      </g>\n",
       "     </g>\n",
       "     <g id=\"text_18\">\n",
       "      <!-- 5 -->\n",
       "      <g transform=\"translate(441.141064 266.598437)scale(0.1 -0.1)\">\n",
       "       <use xlink:href=\"#DejaVuSans-35\"/>\n",
       "      </g>\n",
       "     </g>\n",
       "    </g>\n",
       "    <g id=\"xtick_10\">\n",
       "     <g id=\"line2d_21\">\n",
       "      <g>\n",
       "       <use style=\"stroke:#000000;stroke-width:0.8;\" x=\"482.752066\" xlink:href=\"#med51703388\" y=\"252\"/>\n",
       "      </g>\n",
       "     </g>\n",
       "     <g id=\"text_19\">\n",
       "      <!-- 10 -->\n",
       "      <g transform=\"translate(476.389566 266.598437)scale(0.1 -0.1)\">\n",
       "       <use xlink:href=\"#DejaVuSans-31\"/>\n",
       "       <use x=\"63.623047\" xlink:href=\"#DejaVuSans-30\"/>\n",
       "      </g>\n",
       "     </g>\n",
       "    </g>\n",
       "    <g id=\"xtick_11\">\n",
       "     <g id=\"line2d_22\">\n",
       "      <g>\n",
       "       <use style=\"stroke:#000000;stroke-width:0.8;\" x=\"521.181818\" xlink:href=\"#med51703388\" y=\"252\"/>\n",
       "      </g>\n",
       "     </g>\n",
       "     <g id=\"text_20\">\n",
       "      <!-- 15 -->\n",
       "      <g transform=\"translate(514.819318 266.598437)scale(0.1 -0.1)\">\n",
       "       <use xlink:href=\"#DejaVuSans-31\"/>\n",
       "       <use x=\"63.623047\" xlink:href=\"#DejaVuSans-35\"/>\n",
       "      </g>\n",
       "     </g>\n",
       "    </g>\n",
       "    <g id=\"xtick_12\">\n",
       "     <g id=\"line2d_23\">\n",
       "      <g>\n",
       "       <use style=\"stroke:#000000;stroke-width:0.8;\" x=\"559.61157\" xlink:href=\"#med51703388\" y=\"252\"/>\n",
       "      </g>\n",
       "     </g>\n",
       "     <g id=\"text_21\">\n",
       "      <!-- 20 -->\n",
       "      <g transform=\"translate(553.24907 266.598437)scale(0.1 -0.1)\">\n",
       "       <use xlink:href=\"#DejaVuSans-32\"/>\n",
       "       <use x=\"63.623047\" xlink:href=\"#DejaVuSans-30\"/>\n",
       "      </g>\n",
       "     </g>\n",
       "    </g>\n",
       "    <g id=\"xtick_13\">\n",
       "     <g id=\"line2d_24\">\n",
       "      <g>\n",
       "       <use style=\"stroke:#000000;stroke-width:0.8;\" x=\"598.041322\" xlink:href=\"#med51703388\" y=\"252\"/>\n",
       "      </g>\n",
       "     </g>\n",
       "     <g id=\"text_22\">\n",
       "      <!-- 25 -->\n",
       "      <g transform=\"translate(591.678822 266.598437)scale(0.1 -0.1)\">\n",
       "       <use xlink:href=\"#DejaVuSans-32\"/>\n",
       "       <use x=\"63.623047\" xlink:href=\"#DejaVuSans-35\"/>\n",
       "      </g>\n",
       "     </g>\n",
       "    </g>\n",
       "    <g id=\"xtick_14\">\n",
       "     <g id=\"line2d_25\">\n",
       "      <g>\n",
       "       <use style=\"stroke:#000000;stroke-width:0.8;\" x=\"636.471074\" xlink:href=\"#med51703388\" y=\"252\"/>\n",
       "      </g>\n",
       "     </g>\n",
       "     <g id=\"text_23\">\n",
       "      <!-- 30 -->\n",
       "      <g transform=\"translate(630.108574 266.598437)scale(0.1 -0.1)\">\n",
       "       <use xlink:href=\"#DejaVuSans-33\"/>\n",
       "       <use x=\"63.623047\" xlink:href=\"#DejaVuSans-30\"/>\n",
       "      </g>\n",
       "     </g>\n",
       "    </g>\n",
       "    <g id=\"text_24\">\n",
       "     <!-- Epoch -->\n",
       "     <g transform=\"translate(505.870881 280.276563)scale(0.1 -0.1)\">\n",
       "      <use xlink:href=\"#DejaVuSans-45\"/>\n",
       "      <use x=\"63.183594\" xlink:href=\"#DejaVuSans-70\"/>\n",
       "      <use x=\"126.660156\" xlink:href=\"#DejaVuSans-6f\"/>\n",
       "      <use x=\"187.841797\" xlink:href=\"#DejaVuSans-63\"/>\n",
       "      <use x=\"242.822266\" xlink:href=\"#DejaVuSans-68\"/>\n",
       "     </g>\n",
       "    </g>\n",
       "   </g>\n",
       "   <g id=\"matplotlib.axis_4\">\n",
       "    <g id=\"ytick_6\">\n",
       "     <g id=\"line2d_26\">\n",
       "      <g>\n",
       "       <use style=\"stroke:#000000;stroke-width:0.8;\" x=\"394.363636\" xlink:href=\"#mb713dbf155\" y=\"233.88\"/>\n",
       "      </g>\n",
       "     </g>\n",
       "     <g id=\"text_25\">\n",
       "      <!-- 0.0 -->\n",
       "      <g transform=\"translate(371.460511 237.679219)scale(0.1 -0.1)\">\n",
       "       <use xlink:href=\"#DejaVuSans-30\"/>\n",
       "       <use x=\"63.623047\" xlink:href=\"#DejaVuSans-2e\"/>\n",
       "       <use x=\"95.410156\" xlink:href=\"#DejaVuSans-30\"/>\n",
       "      </g>\n",
       "     </g>\n",
       "    </g>\n",
       "    <g id=\"ytick_7\">\n",
       "     <g id=\"line2d_27\">\n",
       "      <g>\n",
       "       <use style=\"stroke:#000000;stroke-width:0.8;\" x=\"394.363636\" xlink:href=\"#mb713dbf155\" y=\"197.64\"/>\n",
       "      </g>\n",
       "     </g>\n",
       "     <g id=\"text_26\">\n",
       "      <!-- 0.2 -->\n",
       "      <g transform=\"translate(371.460511 201.439219)scale(0.1 -0.1)\">\n",
       "       <use xlink:href=\"#DejaVuSans-30\"/>\n",
       "       <use x=\"63.623047\" xlink:href=\"#DejaVuSans-2e\"/>\n",
       "       <use x=\"95.410156\" xlink:href=\"#DejaVuSans-32\"/>\n",
       "      </g>\n",
       "     </g>\n",
       "    </g>\n",
       "    <g id=\"ytick_8\">\n",
       "     <g id=\"line2d_28\">\n",
       "      <g>\n",
       "       <use style=\"stroke:#000000;stroke-width:0.8;\" x=\"394.363636\" xlink:href=\"#mb713dbf155\" y=\"161.4\"/>\n",
       "      </g>\n",
       "     </g>\n",
       "     <g id=\"text_27\">\n",
       "      <!-- 0.4 -->\n",
       "      <defs>\n",
       "       <path d=\"M 37.796875 64.3125  L 12.890625 25.390625  L 37.796875 25.390625  z M 35.203125 72.90625  L 47.609375 72.90625  L 47.609375 25.390625  L 58.015625 25.390625  L 58.015625 17.1875  L 47.609375 17.1875  L 47.609375 0  L 37.796875 0  L 37.796875 17.1875  L 4.890625 17.1875  L 4.890625 26.703125  z \" id=\"DejaVuSans-34\"/>\n",
       "      </defs>\n",
       "      <g transform=\"translate(371.460511 165.199219)scale(0.1 -0.1)\">\n",
       "       <use xlink:href=\"#DejaVuSans-30\"/>\n",
       "       <use x=\"63.623047\" xlink:href=\"#DejaVuSans-2e\"/>\n",
       "       <use x=\"95.410156\" xlink:href=\"#DejaVuSans-34\"/>\n",
       "      </g>\n",
       "     </g>\n",
       "    </g>\n",
       "    <g id=\"ytick_9\">\n",
       "     <g id=\"line2d_29\">\n",
       "      <g>\n",
       "       <use style=\"stroke:#000000;stroke-width:0.8;\" x=\"394.363636\" xlink:href=\"#mb713dbf155\" y=\"125.16\"/>\n",
       "      </g>\n",
       "     </g>\n",
       "     <g id=\"text_28\">\n",
       "      <!-- 0.6 -->\n",
       "      <defs>\n",
       "       <path d=\"M 33.015625 40.375  Q 26.375 40.375 22.484375 35.828125  Q 18.609375 31.296875 18.609375 23.390625  Q 18.609375 15.53125 22.484375 10.953125  Q 26.375 6.390625 33.015625 6.390625  Q 39.65625 6.390625 43.53125 10.953125  Q 47.40625 15.53125 47.40625 23.390625  Q 47.40625 31.296875 43.53125 35.828125  Q 39.65625 40.375 33.015625 40.375  z M 52.59375 71.296875  L 52.59375 62.3125  Q 48.875 64.0625 45.09375 64.984375  Q 41.3125 65.921875 37.59375 65.921875  Q 27.828125 65.921875 22.671875 59.328125  Q 17.53125 52.734375 16.796875 39.40625  Q 19.671875 43.65625 24.015625 45.921875  Q 28.375 48.1875 33.59375 48.1875  Q 44.578125 48.1875 50.953125 41.515625  Q 57.328125 34.859375 57.328125 23.390625  Q 57.328125 12.15625 50.6875 5.359375  Q 44.046875 -1.421875 33.015625 -1.421875  Q 20.359375 -1.421875 13.671875 8.265625  Q 6.984375 17.96875 6.984375 36.375  Q 6.984375 53.65625 15.1875 63.9375  Q 23.390625 74.21875 37.203125 74.21875  Q 40.921875 74.21875 44.703125 73.484375  Q 48.484375 72.75 52.59375 71.296875  z \" id=\"DejaVuSans-36\"/>\n",
       "      </defs>\n",
       "      <g transform=\"translate(371.460511 128.959219)scale(0.1 -0.1)\">\n",
       "       <use xlink:href=\"#DejaVuSans-30\"/>\n",
       "       <use x=\"63.623047\" xlink:href=\"#DejaVuSans-2e\"/>\n",
       "       <use x=\"95.410156\" xlink:href=\"#DejaVuSans-36\"/>\n",
       "      </g>\n",
       "     </g>\n",
       "    </g>\n",
       "    <g id=\"ytick_10\">\n",
       "     <g id=\"line2d_30\">\n",
       "      <g>\n",
       "       <use style=\"stroke:#000000;stroke-width:0.8;\" x=\"394.363636\" xlink:href=\"#mb713dbf155\" y=\"88.92\"/>\n",
       "      </g>\n",
       "     </g>\n",
       "     <g id=\"text_29\">\n",
       "      <!-- 0.8 -->\n",
       "      <defs>\n",
       "       <path d=\"M 31.78125 34.625  Q 24.75 34.625 20.71875 30.859375  Q 16.703125 27.09375 16.703125 20.515625  Q 16.703125 13.921875 20.71875 10.15625  Q 24.75 6.390625 31.78125 6.390625  Q 38.8125 6.390625 42.859375 10.171875  Q 46.921875 13.96875 46.921875 20.515625  Q 46.921875 27.09375 42.890625 30.859375  Q 38.875 34.625 31.78125 34.625  z M 21.921875 38.8125  Q 15.578125 40.375 12.03125 44.71875  Q 8.5 49.078125 8.5 55.328125  Q 8.5 64.0625 14.71875 69.140625  Q 20.953125 74.21875 31.78125 74.21875  Q 42.671875 74.21875 48.875 69.140625  Q 55.078125 64.0625 55.078125 55.328125  Q 55.078125 49.078125 51.53125 44.71875  Q 48 40.375 41.703125 38.8125  Q 48.828125 37.15625 52.796875 32.3125  Q 56.78125 27.484375 56.78125 20.515625  Q 56.78125 9.90625 50.3125 4.234375  Q 43.84375 -1.421875 31.78125 -1.421875  Q 19.734375 -1.421875 13.25 4.234375  Q 6.78125 9.90625 6.78125 20.515625  Q 6.78125 27.484375 10.78125 32.3125  Q 14.796875 37.15625 21.921875 38.8125  z M 18.3125 54.390625  Q 18.3125 48.734375 21.84375 45.5625  Q 25.390625 42.390625 31.78125 42.390625  Q 38.140625 42.390625 41.71875 45.5625  Q 45.3125 48.734375 45.3125 54.390625  Q 45.3125 60.0625 41.71875 63.234375  Q 38.140625 66.40625 31.78125 66.40625  Q 25.390625 66.40625 21.84375 63.234375  Q 18.3125 60.0625 18.3125 54.390625  z \" id=\"DejaVuSans-38\"/>\n",
       "      </defs>\n",
       "      <g transform=\"translate(371.460511 92.719219)scale(0.1 -0.1)\">\n",
       "       <use xlink:href=\"#DejaVuSans-30\"/>\n",
       "       <use x=\"63.623047\" xlink:href=\"#DejaVuSans-2e\"/>\n",
       "       <use x=\"95.410156\" xlink:href=\"#DejaVuSans-38\"/>\n",
       "      </g>\n",
       "     </g>\n",
       "    </g>\n",
       "    <g id=\"ytick_11\">\n",
       "     <g id=\"line2d_31\">\n",
       "      <g>\n",
       "       <use style=\"stroke:#000000;stroke-width:0.8;\" x=\"394.363636\" xlink:href=\"#mb713dbf155\" y=\"52.68\"/>\n",
       "      </g>\n",
       "     </g>\n",
       "     <g id=\"text_30\">\n",
       "      <!-- 1.0 -->\n",
       "      <g transform=\"translate(371.460511 56.479219)scale(0.1 -0.1)\">\n",
       "       <use xlink:href=\"#DejaVuSans-31\"/>\n",
       "       <use x=\"63.623047\" xlink:href=\"#DejaVuSans-2e\"/>\n",
       "       <use x=\"95.410156\" xlink:href=\"#DejaVuSans-30\"/>\n",
       "      </g>\n",
       "     </g>\n",
       "    </g>\n",
       "   </g>\n",
       "   <g id=\"line2d_32\">\n",
       "    <path clip-path=\"url(#pfb01d5af98)\" d=\"M 405.892562 216.31266  L 413.578512 70.13862  L 421.264463 62.15676  L 428.950413 60.5773  L 436.636364 59.62298  L 444.322314 58.87704  L 452.008264 58.61128  L 459.694215 58.07674  L 467.380165 57.95594  L 475.066116 57.7385  L 482.752066 57.49388  L 490.438017 57.2704  L 498.123967 57.47878  L 505.809917 57.1949  L 513.495868 56.95934  L 521.181818 56.757  L 528.867769 56.5154  L 536.553719 56.63922  L 544.239669 56.68452  L 551.92562 56.54258  L 559.61157 56.52144  L 567.297521 56.38856  L 574.983471 56.43084  L 582.669421 56.00502  L 590.355372 56.1681  L 598.041322 56.2889  L 605.727273 56.46708  L 613.413223 56.1077  L 621.099174 55.80872  L 628.785124 55.851  L 636.471074 55.84798  \" style=\"fill:none;stroke:#1f77b4;stroke-linecap:square;stroke-width:1.5;\"/>\n",
       "   </g>\n",
       "   <g id=\"line2d_33\">\n",
       "    <path clip-path=\"url(#pfb01d5af98)\" d=\"M 405.892562 216.52104  L 413.578512 65.47272  L 421.264463 61.74  L 428.950413 60.381  L 436.636364 60.21792  L 444.322314 60.6528  L 452.008264 60.77964  L 459.694215 60.58032  L 467.380165 59.5656  L 475.066116 59.98236  L 482.752066 60.48972  L 490.438017 59.52936  L 498.123967 60.16356  L 505.809917 59.63808  L 513.495868 59.81928  L 521.181818 60.1998  L 528.867769 59.98236  L 536.553719 59.49312  L 544.239669 60.43536  L 551.92562 59.80116  L 559.61157 59.18508  L 567.297521 60.34476  L 574.983471 59.98236  L 582.669421 59.22132  L 590.355372 60.2904  L 598.041322 59.27568  L 605.727273 59.25756  L 613.413223 60.41724  L 621.099174 59.22132  L 628.785124 58.569  L 636.471074 59.51124  \" style=\"fill:none;stroke:#ff7f0e;stroke-linecap:square;stroke-width:1.5;\"/>\n",
       "   </g>\n",
       "   <g id=\"patch_9\">\n",
       "    <path d=\"M 394.363636 252  L 394.363636 34.56  \" style=\"fill:none;stroke:#000000;stroke-linecap:square;stroke-linejoin:miter;stroke-width:0.8;\"/>\n",
       "   </g>\n",
       "   <g id=\"patch_10\">\n",
       "    <path d=\"M 648 252  L 648 34.56  \" style=\"fill:none;stroke:#000000;stroke-linecap:square;stroke-linejoin:miter;stroke-width:0.8;\"/>\n",
       "   </g>\n",
       "   <g id=\"patch_11\">\n",
       "    <path d=\"M 394.363636 252  L 648 252  \" style=\"fill:none;stroke:#000000;stroke-linecap:square;stroke-linejoin:miter;stroke-width:0.8;\"/>\n",
       "   </g>\n",
       "   <g id=\"patch_12\">\n",
       "    <path d=\"M 394.363636 34.56  L 648 34.56  \" style=\"fill:none;stroke:#000000;stroke-linecap:square;stroke-linejoin:miter;stroke-width:0.8;\"/>\n",
       "   </g>\n",
       "   <g id=\"text_31\">\n",
       "    <!-- MNIST_MLP: Accuracy -->\n",
       "    <defs>\n",
       "     <path d=\"M 34.1875 63.1875  L 20.796875 26.90625  L 47.609375 26.90625  z M 28.609375 72.90625  L 39.796875 72.90625  L 67.578125 0  L 57.328125 0  L 50.6875 18.703125  L 17.828125 18.703125  L 11.1875 0  L 0.78125 0  z \" id=\"DejaVuSans-41\"/>\n",
       "     <path d=\"M 8.5 21.578125  L 8.5 54.6875  L 17.484375 54.6875  L 17.484375 21.921875  Q 17.484375 14.15625 20.5 10.265625  Q 23.53125 6.390625 29.59375 6.390625  Q 36.859375 6.390625 41.078125 11.03125  Q 45.3125 15.671875 45.3125 23.6875  L 45.3125 54.6875  L 54.296875 54.6875  L 54.296875 0  L 45.3125 0  L 45.3125 8.40625  Q 42.046875 3.421875 37.71875 1  Q 33.40625 -1.421875 27.6875 -1.421875  Q 18.265625 -1.421875 13.375 4.4375  Q 8.5 10.296875 8.5 21.578125  z M 31.109375 56  z \" id=\"DejaVuSans-75\"/>\n",
       "     <path d=\"M 32.171875 -5.078125  Q 28.375 -14.84375 24.75 -17.8125  Q 21.140625 -20.796875 15.09375 -20.796875  L 7.90625 -20.796875  L 7.90625 -13.28125  L 13.1875 -13.28125  Q 16.890625 -13.28125 18.9375 -11.515625  Q 21 -9.765625 23.484375 -3.21875  L 25.09375 0.875  L 2.984375 54.6875  L 12.5 54.6875  L 29.59375 11.921875  L 46.6875 54.6875  L 56.203125 54.6875  z \" id=\"DejaVuSans-79\"/>\n",
       "    </defs>\n",
       "    <g transform=\"translate(455.708693 28.56)scale(0.12 -0.12)\">\n",
       "     <use xlink:href=\"#DejaVuSans-4d\"/>\n",
       "     <use x=\"86.279297\" xlink:href=\"#DejaVuSans-4e\"/>\n",
       "     <use x=\"161.083984\" xlink:href=\"#DejaVuSans-49\"/>\n",
       "     <use x=\"190.576172\" xlink:href=\"#DejaVuSans-53\"/>\n",
       "     <use x=\"254.052734\" xlink:href=\"#DejaVuSans-54\"/>\n",
       "     <use x=\"315.136719\" xlink:href=\"#DejaVuSans-5f\"/>\n",
       "     <use x=\"365.136719\" xlink:href=\"#DejaVuSans-4d\"/>\n",
       "     <use x=\"451.416016\" xlink:href=\"#DejaVuSans-4c\"/>\n",
       "     <use x=\"507.128906\" xlink:href=\"#DejaVuSans-50\"/>\n",
       "     <use x=\"567.431641\" xlink:href=\"#DejaVuSans-3a\"/>\n",
       "     <use x=\"601.123047\" xlink:href=\"#DejaVuSans-20\"/>\n",
       "     <use x=\"632.910156\" xlink:href=\"#DejaVuSans-41\"/>\n",
       "     <use x=\"701.302734\" xlink:href=\"#DejaVuSans-63\"/>\n",
       "     <use x=\"756.283203\" xlink:href=\"#DejaVuSans-63\"/>\n",
       "     <use x=\"811.263672\" xlink:href=\"#DejaVuSans-75\"/>\n",
       "     <use x=\"874.642578\" xlink:href=\"#DejaVuSans-72\"/>\n",
       "     <use x=\"915.755859\" xlink:href=\"#DejaVuSans-61\"/>\n",
       "     <use x=\"977.035156\" xlink:href=\"#DejaVuSans-63\"/>\n",
       "     <use x=\"1032.015625\" xlink:href=\"#DejaVuSans-79\"/>\n",
       "    </g>\n",
       "   </g>\n",
       "   <g id=\"legend_2\">\n",
       "    <g id=\"patch_13\">\n",
       "     <path d=\"M 540.39375 247  L 641 247  Q 643 247 643 245  L 643 216.64375  Q 643 214.64375 641 214.64375  L 540.39375 214.64375  Q 538.39375 214.64375 538.39375 216.64375  L 538.39375 245  Q 538.39375 247 540.39375 247  z \" style=\"fill:#ffffff;opacity:0.8;stroke:#cccccc;stroke-linejoin:miter;\"/>\n",
       "    </g>\n",
       "    <g id=\"line2d_34\">\n",
       "     <path d=\"M 542.39375 222.742188  L 562.39375 222.742188  \" style=\"fill:none;stroke:#1f77b4;stroke-linecap:square;stroke-width:1.5;\"/>\n",
       "    </g>\n",
       "    <g id=\"line2d_35\"/>\n",
       "    <g id=\"text_32\">\n",
       "     <!-- Training set -->\n",
       "     <g transform=\"translate(570.39375 226.242188)scale(0.1 -0.1)\">\n",
       "      <use xlink:href=\"#DejaVuSans-54\"/>\n",
       "      <use x=\"60.865234\" xlink:href=\"#DejaVuSans-72\"/>\n",
       "      <use x=\"101.978516\" xlink:href=\"#DejaVuSans-61\"/>\n",
       "      <use x=\"163.257812\" xlink:href=\"#DejaVuSans-69\"/>\n",
       "      <use x=\"191.041016\" xlink:href=\"#DejaVuSans-6e\"/>\n",
       "      <use x=\"254.419922\" xlink:href=\"#DejaVuSans-69\"/>\n",
       "      <use x=\"282.203125\" xlink:href=\"#DejaVuSans-6e\"/>\n",
       "      <use x=\"345.582031\" xlink:href=\"#DejaVuSans-67\"/>\n",
       "      <use x=\"409.058594\" xlink:href=\"#DejaVuSans-20\"/>\n",
       "      <use x=\"440.845703\" xlink:href=\"#DejaVuSans-73\"/>\n",
       "      <use x=\"492.945312\" xlink:href=\"#DejaVuSans-65\"/>\n",
       "      <use x=\"554.46875\" xlink:href=\"#DejaVuSans-74\"/>\n",
       "     </g>\n",
       "    </g>\n",
       "    <g id=\"line2d_36\">\n",
       "     <path d=\"M 542.39375 237.420312  L 562.39375 237.420312  \" style=\"fill:none;stroke:#ff7f0e;stroke-linecap:square;stroke-width:1.5;\"/>\n",
       "    </g>\n",
       "    <g id=\"line2d_37\"/>\n",
       "    <g id=\"text_33\">\n",
       "     <!-- Validation set -->\n",
       "     <g transform=\"translate(570.39375 240.920312)scale(0.1 -0.1)\">\n",
       "      <use xlink:href=\"#DejaVuSans-56\"/>\n",
       "      <use x=\"68.298828\" xlink:href=\"#DejaVuSans-61\"/>\n",
       "      <use x=\"129.578125\" xlink:href=\"#DejaVuSans-6c\"/>\n",
       "      <use x=\"157.361328\" xlink:href=\"#DejaVuSans-69\"/>\n",
       "      <use x=\"185.144531\" xlink:href=\"#DejaVuSans-64\"/>\n",
       "      <use x=\"248.621094\" xlink:href=\"#DejaVuSans-61\"/>\n",
       "      <use x=\"309.900391\" xlink:href=\"#DejaVuSans-74\"/>\n",
       "      <use x=\"349.109375\" xlink:href=\"#DejaVuSans-69\"/>\n",
       "      <use x=\"376.892578\" xlink:href=\"#DejaVuSans-6f\"/>\n",
       "      <use x=\"438.074219\" xlink:href=\"#DejaVuSans-6e\"/>\n",
       "      <use x=\"501.453125\" xlink:href=\"#DejaVuSans-20\"/>\n",
       "      <use x=\"533.240234\" xlink:href=\"#DejaVuSans-73\"/>\n",
       "      <use x=\"585.339844\" xlink:href=\"#DejaVuSans-65\"/>\n",
       "      <use x=\"646.863281\" xlink:href=\"#DejaVuSans-74\"/>\n",
       "     </g>\n",
       "    </g>\n",
       "   </g>\n",
       "  </g>\n",
       " </g>\n",
       " <defs>\n",
       "  <clipPath id=\"pdebc886399\">\n",
       "   <rect height=\"217.44\" width=\"253.636364\" x=\"90\" y=\"34.56\"/>\n",
       "  </clipPath>\n",
       "  <clipPath id=\"pfb01d5af98\">\n",
       "   <rect height=\"217.44\" width=\"253.636364\" x=\"394.363636\" y=\"34.56\"/>\n",
       "  </clipPath>\n",
       " </defs>\n",
       "</svg>"
      ],
      "text/plain": [
       "<IPython.core.display.SVG object>"
      ]
     },
     "metadata": {},
     "output_type": "display_data"
    },
    {
     "name": "stdout",
     "output_type": "stream",
     "text": [
      "========================================================\n",
      "       |  Training |  Training |  Validate |  Validate \n",
      "Epochs |     Error |  Accuracy |     Error |  Accuracy \n",
      "------ | --------- | --------- | --------- | --------- \n",
      "#   30 |   0.05807 |   0.98252 |   0.17768 |   0.96230 \n"
     ]
    }
   ],
   "source": [
    "net.train(epochs=30)"
   ]
  },
  {
   "cell_type": "markdown",
   "metadata": {},
   "source": [
    "The detailed epoch-by-epoch training history of the network is available by calling `show_results()`. The optional `report_rate` keyword specifies which epochs to show."
   ]
  },
  {
   "cell_type": "code",
   "execution_count": 30,
   "metadata": {
    "scrolled": true
   },
   "outputs": [
    {
     "name": "stdout",
     "output_type": "stream",
     "text": [
      "       |  Training |  Training |  Validate |  Validate \n",
      "Epochs |     Error |  Accuracy |     Error |  Accuracy \n",
      "------ | --------- | --------- | --------- | --------- \n",
      "#    0 |   2.33989 |   0.09695 |   2.34131 |   0.09580 \n",
      "#    5 |   0.11533 |   0.96580 |   0.16101 |   0.95600 \n",
      "#   10 |   0.08939 |   0.97343 |   0.16212 |   0.95690 \n",
      "#   15 |   0.07481 |   0.97750 |   0.18248 |   0.95850 \n",
      "#   20 |   0.07121 |   0.97880 |   0.16759 |   0.96410 \n",
      "#   25 |   0.06684 |   0.98008 |   0.16531 |   0.96360 \n",
      "#   30 |   0.05807 |   0.98252 |   0.17768 |   0.96230 \n",
      "========================================================\n",
      "#   30 |   0.05807 |   0.98252 |   0.17768 |   0.96230 \n"
     ]
    }
   ],
   "source": [
    "net.show_results(report_rate=5)"
   ]
  },
  {
   "cell_type": "markdown",
   "metadata": {},
   "source": [
    "The `plot` method shows the value of various network metrics during training. The metrics `loss` and `val_loss` represent the value of the error (loss) function on the training and testing sets, respectively.  Likewise, `acc` and `val_acc` represent the accuracy of the training and testing sets, respectively. The optional `ymin` and `ymax` keywords can be used to adjust the y-axis scale. For example:"
   ]
  },
  {
   "cell_type": "code",
   "execution_count": 31,
   "metadata": {},
   "outputs": [
    {
     "data": {
      "image/png": "[encoded data removed]",
      "text/plain": [
       "<matplotlib.figure.Figure at 0x11df41a20>"
      ]
     },
     "metadata": {},
     "output_type": "display_data"
    }
   ],
   "source": [
    "net.plot(['acc', 'val_acc'], ymin=0.9, ymax=1)"
   ]
  },
  {
   "cell_type": "code",
   "execution_count": 32,
   "metadata": {},
   "outputs": [
    {
     "data": {
      "image/png": "[encoded data removed]",
      "text/plain": [
       "<matplotlib.figure.Figure at 0x11e2002e8>"
      ]
     },
     "metadata": {},
     "output_type": "display_data"
    }
   ],
   "source": [
    "net.plot(['loss', 'val_loss'], ymin=0, ymax=0.3)"
   ]
  },
  {
   "cell_type": "markdown",
   "metadata": {},
   "source": [
    "After training, the index of the largest output value in response to an input image corresponds to the network's digit classification.  To see this more clearly, we will make use of Conx's ``argmax`` function, which takes a list of numbers and returns the *position* of the largest number in the list (counting from 0).  For example, test input #42 is shown below, along with the network's response."
   ]
  },
  {
   "cell_type": "code",
   "execution_count": 33,
   "metadata": {},
   "outputs": [
    {
     "data": {
      "image/png": "[encoded data removed]",
      "text/plain": [
       "<matplotlib.figure.Figure at 0x11df38080>"
      ]
     },
     "metadata": {},
     "output_type": "display_data"
    }
   ],
   "source": [
    "cx.view(net.dataset.test_inputs[42])"
   ]
  },
  {
   "cell_type": "code",
   "execution_count": 34,
   "metadata": {},
   "outputs": [
    {
     "data": {
      "text/plain": [
       "[1.1733342297759464e-08,\n",
       " 0.00014155327517073601,\n",
       " 0.9709304571151733,\n",
       " 0.013477076776325703,\n",
       " 8.631224091004697e-08,\n",
       " 1.7147852915400108e-08,\n",
       " 3.8518095379913575e-09,\n",
       " 0.015450735576450825,\n",
       " 3.403928161560543e-08,\n",
       " 2.2970180445225363e-12]"
      ]
     },
     "execution_count": 34,
     "metadata": {},
     "output_type": "execute_result"
    }
   ],
   "source": [
    "net.propagate(net.dataset.test_inputs[42])"
   ]
  },
  {
   "cell_type": "code",
   "execution_count": 35,
   "metadata": {},
   "outputs": [
    {
     "data": {
      "text/plain": [
       "2"
      ]
     },
     "execution_count": 35,
     "metadata": {},
     "output_type": "execute_result"
    }
   ],
   "source": [
    "cx.argmax(net.propagate(net.dataset.test_inputs[42]))"
   ]
  },
  {
   "cell_type": "markdown",
   "metadata": {},
   "source": [
    "Examining the weights into the same three hidden units as before shows that these units have learned to respond in different ways to different parts of the input image."
   ]
  },
  {
   "cell_type": "code",
   "execution_count": 36,
   "metadata": {},
   "outputs": [
    {
     "data": {
      "image/png": "[encoded data removed]",
      "text/plain": [
       "<matplotlib.figure.Figure at 0x11b8a8390>"
      ]
     },
     "metadata": {},
     "output_type": "display_data"
    }
   ],
   "source": [
    "net.plot_layer_weights('hidden1', units=[0,1,2], vshape=(28,28), wrange=(-1.5, 1.5))"
   ]
  },
  {
   "cell_type": "markdown",
   "metadata": {},
   "source": [
    "## A Convolutional Network for MNIST Classification\n",
    "\n",
    "Convolutional neural networks (CNNs) are loosely inspired by the neurobiology of the visual system. The key idea is that each unit in a convolutional layer receives connections from a limited number of units in the previous layer (which can be thought of as the unit's \"visual field\"), and these connections are arranged in a two-dimensional topology to take advantage of spatial information. Each convolutional layer specifies a number of independent *features* to be learned, along with the *N*&nbsp;&times;&nbsp;*N* size of the visual field (also called the *kernel size*). The units responsible for learning a feature share connections across the entire convolutional layer, which often leads to far fewer network parameters compared to a network with fully-connected layers.\n",
    "\n",
    "Another type of layer common to CNNs is the *pooling* layer, which reduces the amount of information flowing through the network by the process of subsampling. Each pooling unit receives input from a limited number of units in the previous layer, and then applies some function (like *maximum* or *average*) to these inputs. The overall effect is to produce a coarser-grained version of the information from the previous layer, which makes the network less sensitive to small variations in position.\n",
    "\n",
    "We will define a CNN for MNIST classification using two convolutional layers with 5 &times; 5 kernels, each followed by a pooling layer with 2 &times; 2 kernels that compute the maximum of their inputs. The first convolutional layer will learn 16 relatively low-level features, whereas the second will learn 32 higher-level features. These features will then feed into a hidden layer (after being flattened), followed by an output classification layer using *softmax*."
   ]
  },
  {
   "cell_type": "code",
   "execution_count": 37,
   "metadata": {},
   "outputs": [],
   "source": [
    "cnn = cx.Network(\"MNIST_CNN\")\n",
    "\n",
    "cnn.add(cx.Layer(\"input\", (28,28,1), colormap=\"gray\"),\n",
    "        cx.Conv2DLayer(\"conv2D_1\", 16, (5,5), activation=\"relu\", dropout=0.20),\n",
    "        cx.MaxPool2DLayer(\"maxpool1\", (2,2)),\n",
    "        cx.Conv2DLayer(\"conv2D_2\", 32, (5,5), activation=\"relu\", dropout=0.20),\n",
    "        cx.MaxPool2DLayer(\"maxpool2\", (2,2)),\n",
    "        cx.FlattenLayer(\"flat\"),\n",
    "        cx.Layer(\"hidden\", 30, activation='relu'),\n",
    "        cx.Layer(\"output\", 10, activation='softmax'))\n",
    "\n",
    "cnn.connect()"
   ]
  },
  {
   "cell_type": "markdown",
   "metadata": {},
   "source": [
    "Notice that each convolution layer in the network includes a `dropout` setting of 20%. Dropout is a technique that helps to improve a network's ability to generalize what it has learned, by making it less sensitive to noise and to irrelevant correlations that may exist in the training data.  During training, a randomly chosen subset of units in a dropout layer (here, 20% of the units) will be turned off (set to zero activation) on each training cycle, with different random subsets being chosen on each cycle. Dropout only occurs during training; after the network has learned, all units participate in the classification of input data. \n",
    "\n",
    "Next, we need to initialize our dataset and then compile the network."
   ]
  },
  {
   "cell_type": "code",
   "execution_count": 38,
   "metadata": {},
   "outputs": [
    {
     "name": "stdout",
     "output_type": "stream",
     "text": [
      "_________________________________________________________________\n",
      "MNIST:\n",
      "Patterns    Shape                 Range                         \n",
      "=================================================================\n",
      "inputs      (28, 28, 1)           (0.0, 1.0)                    \n",
      "targets     (10,)                 (0.0, 1.0)                    \n",
      "=================================================================\n",
      "Total patterns: 70000\n",
      "   Training patterns: 60000\n",
      "   Testing patterns: 10000\n",
      "_________________________________________________________________\n"
     ]
    }
   ],
   "source": [
    "cnn.dataset.get(\"MNIST\")\n",
    "cnn.dataset.split(10000)\n",
    "cnn.dataset.summary()"
   ]
  },
  {
   "cell_type": "markdown",
   "metadata": {},
   "source": [
    "This time we will try the RMSprop algorithm, which automatically adjusts the learning rate and momentum as training proceeds."
   ]
  },
  {
   "cell_type": "code",
   "execution_count": 39,
   "metadata": {},
   "outputs": [],
   "source": [
    "cnn.compile(error='categorical_crossentropy', optimizer='RMSprop')"
   ]
  },
  {
   "cell_type": "code",
   "execution_count": 40,
   "metadata": {},
   "outputs": [
    {
     "name": "stdout",
     "output_type": "stream",
     "text": [
      "_________________________________________________________________\n",
      "Layer (type)                 Output Shape              Param #   \n",
      "=================================================================\n",
      "input (InputLayer)           (None, 28, 28, 1)         0         \n",
      "_________________________________________________________________\n",
      "conv2D_1 (Conv2D)            (None, 24, 24, 16)        416       \n",
      "_________________________________________________________________\n",
      "dropout_1 (Dropout)          (None, 24, 24, 16)        0         \n",
      "_________________________________________________________________\n",
      "maxpool1 (MaxPooling2D)      (None, 12, 12, 16)        0         \n",
      "_________________________________________________________________\n",
      "conv2D_2 (Conv2D)            (None, 8, 8, 32)          12832     \n",
      "_________________________________________________________________\n",
      "dropout_2 (Dropout)          (None, 8, 8, 32)          0         \n",
      "_________________________________________________________________\n",
      "maxpool2 (MaxPooling2D)      (None, 4, 4, 32)          0         \n",
      "_________________________________________________________________\n",
      "flat (Flatten)               (None, 512)               0         \n",
      "_________________________________________________________________\n",
      "hidden (Dense)               (None, 30)                15390     \n",
      "_________________________________________________________________\n",
      "output (Dense)               (None, 10)                310       \n",
      "=================================================================\n",
      "Total params: 28,948\n",
      "Trainable params: 28,948\n",
      "Non-trainable params: 0\n",
      "_________________________________________________________________\n"
     ]
    }
   ],
   "source": [
    "cnn.summary()"
   ]
  },
  {
   "cell_type": "markdown",
   "metadata": {},
   "source": [
    "<img src=\"mnist-cnn.png\" width=\"80%\">"
   ]
  },
  {
   "cell_type": "code",
   "execution_count": 41,
   "metadata": {},
   "outputs": [
    {
     "data": {
      "application/vnd.jupyter.widget-view+json": {
       "model_id": "ad4621a2276145f5931514af81148ab7",
       "version_major": 2,
       "version_minor": 0
      },
      "text/html": [
       "<p>Failed to display Jupyter Widget of type <code>Dashboard</code>.</p>\n",
       "<p>\n",
       "  If you're reading this message in the Jupyter Notebook or JupyterLab Notebook, it may mean\n",
       "  that the widgets JavaScript is still loading. If this message persists, it\n",
       "  likely means that the widgets JavaScript library is either not installed or\n",
       "  not enabled. See the <a href=\"https://ipywidgets.readthedocs.io/en/stable/user_install.html\">Jupyter\n",
       "  Widgets Documentation</a> for setup instructions.\n",
       "</p>\n",
       "<p>\n",
       "  If you're reading this message in another frontend (for example, a static\n",
       "  rendering on GitHub or <a href=\"https://nbviewer.jupyter.org/\">NBViewer</a>),\n",
       "  it may mean that your frontend doesn't currently support widgets.\n",
       "</p>\n"
      ],
      "text/plain": [
       "Dashboard(children=(Accordion(children=(HBox(children=(VBox(children=(Select(description='Dataset:', index=1, options=('Test', 'Train'), rows=1, value='Train'), FloatSlider(value=0.5, continuous_update=False, description='Zoom', layout=Layout(width='65%'), max=1.0, style=SliderStyle(description_width='initial')), IntText(value=150, description='Horizontal space between banks:', style=DescriptionStyle(description_width='initial')), IntText(value=30, description='Vertical space between layers:', style=DescriptionStyle(description_width='initial')), HBox(children=(Checkbox(value=True, description='Show Targets', style=DescriptionStyle(description_width='initial')), Checkbox(value=False, description='Errors', style=DescriptionStyle(description_width='initial')))), Select(description='Features:', index=2, options=('', 'input', 'conv2D_1', 'maxpool1', 'conv2D_2', 'maxpool2'), rows=1, value='conv2D_1'), IntText(value=8, description='Feature columns:', style=DescriptionStyle(description_width='initial')), FloatText(value=4.0, description='Feature scale:', style=DescriptionStyle(description_width='initial'))), layout=Layout(width='100%')), VBox(children=(Select(description='Layer:', index=7, options=('input', 'conv2D_1', 'maxpool1', 'conv2D_2', 'maxpool2', 'flat', 'hidden', 'output'), rows=1, value='output'), Checkbox(value=True, description='Visible'), Select(description='Colormap:', index=3, options=('', 'Accent', 'Accent_r', 'Blues', 'Blues_r', 'BrBG', 'BrBG_r', 'BuGn', 'BuGn_r', 'BuPu', 'BuPu_r', 'CMRmap', 'CMRmap_r', 'Dark2', 'Dark2_r', 'GnBu', 'GnBu_r', 'Greens', 'Greens_r', 'Greys', 'Greys_r', 'OrRd', 'OrRd_r', 'Oranges', 'Oranges_r', 'PRGn', 'PRGn_r', 'Paired', 'Paired_r', 'Pastel1', 'Pastel1_r', 'Pastel2', 'Pastel2_r', 'PiYG', 'PiYG_r', 'PuBu', 'PuBuGn', 'PuBuGn_r', 'PuBu_r', 'PuOr', 'PuOr_r', 'PuRd', 'PuRd_r', 'Purples', 'Purples_r', 'RdBu', 'RdBu_r', 'RdGy', 'RdGy_r', 'RdPu', 'RdPu_r', 'RdYlBu', 'RdYlBu_r', 'RdYlGn', 'RdYlGn_r', 'Reds', 'Reds_r', 'Set1', 'Set1_r', 'Set2', 'Set2_r', 'Set3', 'Set3_r', 'Spectral', 'Spectral_r', 'Vega10', 'Vega10_r', 'Vega20', 'Vega20_r', 'Vega20b', 'Vega20b_r', 'Vega20c', 'Vega20c_r', 'Wistia', 'Wistia_r', 'YlGn', 'YlGnBu', 'YlGnBu_r', 'YlGn_r', 'YlOrBr', 'YlOrBr_r', 'YlOrRd', 'YlOrRd_r', 'afmhot', 'afmhot_r', 'autumn', 'autumn_r', 'binary', 'binary_r', 'bone', 'bone_r', 'brg', 'brg_r', 'bwr', 'bwr_r', 'cool', 'cool_r', 'coolwarm', 'coolwarm_r', 'copper', 'copper_r', 'cubehelix', 'cubehelix_r', 'flag', 'flag_r', 'gist_earth', 'gist_earth_r', 'gist_gray', 'gist_gray_r', 'gist_heat', 'gist_heat_r', 'gist_ncar', 'gist_ncar_r', 'gist_rainbow', 'gist_rainbow_r', 'gist_stern', 'gist_stern_r', 'gist_yarg', 'gist_yarg_r', 'gnuplot', 'gnuplot2', 'gnuplot2_r', 'gnuplot_r', 'gray', 'gray_r', 'hot', 'hot_r', 'hsv', 'hsv_r', 'inferno', 'inferno_r', 'jet', 'jet_r', 'magma', 'magma_r', 'nipy_spectral', 'nipy_spectral_r', 'ocean', 'ocean_r', 'pink', 'pink_r', 'plasma', 'plasma_r', 'prism', 'prism_r', 'rainbow', 'rainbow_r', 'seismic', 'seismic_r', 'spectral', 'spectral_r', 'spring', 'spring_r', 'summer', 'summer_r', 'tab10', 'tab10_r', 'tab20', 'tab20_r', 'tab20b', 'tab20b_r', 'tab20c', 'tab20c_r', 'terrain', 'terrain_r', 'viridis', 'viridis_r', 'winter', 'winter_r'), rows=1, value='Blues'), HTML(value='<img src=\"data:image/gif;base64,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\"/>'), FloatText(value=0.0, description='Leftmost color maps to:', style=DescriptionStyle(description_width='initial')), FloatText(value=1.0, description='Rightmost color maps to:', style=DescriptionStyle(description_width='initial')), IntText(value=0, description='Feature to show:', style=DescriptionStyle(description_width='initial')), HBox(children=(Checkbox(value=True, description='Rotate network', layout=Layout(width='52%'), style=DescriptionStyle(description_width='initial')), Button(icon='save', layout=Layout(width='10%'), style=ButtonStyle())))), layout=Layout(width='100%')))),), selected_index=None, _titles={'0': 'MNIST_CNN'}), VBox(children=(HBox(children=(IntSlider(value=0, continuous_update=False, description='Dataset index', layout=Layout(width='100%'), max=59999), Label(value='of 60000', layout=Layout(width='100px'))), layout=Layout(height='40px')), HBox(children=(Button(icon='fast-backward', layout=Layout(width='100%'), style=ButtonStyle()), Button(icon='backward', layout=Layout(width='100%'), style=ButtonStyle()), IntText(value=0, layout=Layout(width='100%')), Button(icon='forward', layout=Layout(width='100%'), style=ButtonStyle()), Button(icon='fast-forward', layout=Layout(width='100%'), style=ButtonStyle()), Button(description='Play', icon='play', layout=Layout(width='100%'), style=ButtonStyle()), Button(icon='refresh', layout=Layout(width='25%'), style=ButtonStyle())), layout=Layout(height='50px', width='100%'))), layout=Layout(width='100%')), HTML(value='<p style=\"text-align:center\"></p>', layout=Layout(justify_content='center', overflow_x='auto', overflow_y='auto', width='95%')), Output()))"
      ]
     },
     "metadata": {},
     "output_type": "display_data"
    },
    {
     "data": {
      "application/javascript": [
       "\n",
       "require(['base/js/namespace'], function(Jupyter) {\n",
       "    Jupyter.notebook.kernel.comm_manager.register_target('conx_svg_control', function(comm, msg) {\n",
       "        comm.on_msg(function(msg) {\n",
       "            var data = msg[\"content\"][\"data\"];\n",
       "            var images = document.getElementsByClassName(data[\"class\"]);\n",
       "            for (var i = 0; i < images.length; i++) {\n",
       "                if (data[\"href\"]) {\n",
       "                    images[i].setAttributeNS(null, \"href\", data[\"href\"]);\n",
       "                }\n",
       "                if (data[\"src\"]) {\n",
       "                    images[i].setAttributeNS(null, \"src\", data[\"src\"]);\n",
       "                }\n",
       "            }\n",
       "        });\n",
       "    });\n",
       "});\n"
      ],
      "text/plain": [
       "<IPython.core.display.Javascript object>"
      ]
     },
     "metadata": {},
     "output_type": "display_data"
    }
   ],
   "source": [
    "cnn.dashboard()"
   ]
  },
  {
   "cell_type": "markdown",
   "metadata": {},
   "source": [
    "Training our CNN on the full dataset will take a long time, so in the interest of brevity, let's reduce the size of our dataset by 80% using the ``chop`` method, which deletes the specified fraction of data from the dataset."
   ]
  },
  {
   "cell_type": "code",
   "execution_count": 42,
   "metadata": {},
   "outputs": [
    {
     "name": "stdout",
     "output_type": "stream",
     "text": [
      "Starting with 70000 patterns\n",
      "14000 patterns left after chop\n"
     ]
    },
    {
     "name": "stderr",
     "output_type": "stream",
     "text": [
      "WARNING: dataset split reset to 0\n"
     ]
    }
   ],
   "source": [
    "print('Starting with', len(cnn.dataset), 'patterns')\n",
    "cnn.dataset.chop(0.80)\n",
    "print(len(cnn.dataset), 'patterns left after chop')"
   ]
  },
  {
   "cell_type": "markdown",
   "metadata": {},
   "source": [
    "We then reserve 25% of the remaining data for testing."
   ]
  },
  {
   "cell_type": "code",
   "execution_count": 43,
   "metadata": {},
   "outputs": [
    {
     "data": {
      "text/plain": [
       "(10500, 3500)"
      ]
     },
     "execution_count": 43,
     "metadata": {},
     "output_type": "execute_result"
    }
   ],
   "source": [
    "cnn.dataset.split(0.25)\n",
    "cnn.dataset.split()"
   ]
  },
  {
   "cell_type": "code",
   "execution_count": 44,
   "metadata": {},
   "outputs": [
    {
     "data": {
      "image/svg+xml": [
       "<svg height=\"288pt\" version=\"1.1\" viewBox=\"0 0 720 288\" width=\"720pt\" xmlns=\"http://www.w3.org/2000/svg\" xmlns:xlink=\"http://www.w3.org/1999/xlink\">\n",
       " <defs>\n",
       "  <style type=\"text/css\">\n",
       "*{stroke-linecap:butt;stroke-linejoin:round;}\n",
       "  </style>\n",
       " </defs>\n",
       " <g id=\"figure_1\">\n",
       "  <g id=\"patch_1\">\n",
       "   <path d=\"M 0 288  L 720 288  L 720 0  L 0 0  z \" style=\"fill:#ffffff;\"/>\n",
       "  </g>\n",
       "  <g id=\"axes_1\">\n",
       "   <g id=\"patch_2\">\n",
       "    <path d=\"M 90 252  L 343.636364 252  L 343.636364 34.56  L 90 34.56  z \" style=\"fill:#ffffff;\"/>\n",
       "   </g>\n",
       "   <g id=\"matplotlib.axis_1\">\n",
       "    <g id=\"xtick_1\">\n",
       "     <g id=\"line2d_1\">\n",
       "      <defs>\n",
       "       <path d=\"M 0 0  L 0 3.5  \" id=\"md8efdd71fd\" style=\"stroke:#000000;stroke-width:0.8;\"/>\n",
       "      </defs>\n",
       "      <g>\n",
       "       <use style=\"stroke:#000000;stroke-width:0.8;\" x=\"101.528926\" xlink:href=\"#md8efdd71fd\" y=\"252\"/>\n",
       "      </g>\n",
       "     </g>\n",
       "     <g id=\"text_1\">\n",
       "      <!-- 0 -->\n",
       "      <defs>\n",
       "       <path d=\"M 31.78125 66.40625  Q 24.171875 66.40625 20.328125 58.90625  Q 16.5 51.421875 16.5 36.375  Q 16.5 21.390625 20.328125 13.890625  Q 24.171875 6.390625 31.78125 6.390625  Q 39.453125 6.390625 43.28125 13.890625  Q 47.125 21.390625 47.125 36.375  Q 47.125 51.421875 43.28125 58.90625  Q 39.453125 66.40625 31.78125 66.40625  z M 31.78125 74.21875  Q 44.046875 74.21875 50.515625 64.515625  Q 56.984375 54.828125 56.984375 36.375  Q 56.984375 17.96875 50.515625 8.265625  Q 44.046875 -1.421875 31.78125 -1.421875  Q 19.53125 -1.421875 13.0625 8.265625  Q 6.59375 17.96875 6.59375 36.375  Q 6.59375 54.828125 13.0625 64.515625  Q 19.53125 74.21875 31.78125 74.21875  z \" id=\"DejaVuSans-30\"/>\n",
       "      </defs>\n",
       "      <g transform=\"translate(98.347676 266.598437)scale(0.1 -0.1)\">\n",
       "       <use xlink:href=\"#DejaVuSans-30\"/>\n",
       "      </g>\n",
       "     </g>\n",
       "    </g>\n",
       "    <g id=\"xtick_2\">\n",
       "     <g id=\"line2d_2\">\n",
       "      <g>\n",
       "       <use style=\"stroke:#000000;stroke-width:0.8;\" x=\"147.644628\" xlink:href=\"#md8efdd71fd\" y=\"252\"/>\n",
       "      </g>\n",
       "     </g>\n",
       "     <g id=\"text_2\">\n",
       "      <!-- 2 -->\n",
       "      <defs>\n",
       "       <path d=\"M 19.1875 8.296875  L 53.609375 8.296875  L 53.609375 0  L 7.328125 0  L 7.328125 8.296875  Q 12.9375 14.109375 22.625 23.890625  Q 32.328125 33.6875 34.8125 36.53125  Q 39.546875 41.84375 41.421875 45.53125  Q 43.3125 49.21875 43.3125 52.78125  Q 43.3125 58.59375 39.234375 62.25  Q 35.15625 65.921875 28.609375 65.921875  Q 23.96875 65.921875 18.8125 64.3125  Q 13.671875 62.703125 7.8125 59.421875  L 7.8125 69.390625  Q 13.765625 71.78125 18.9375 73  Q 24.125 74.21875 28.421875 74.21875  Q 39.75 74.21875 46.484375 68.546875  Q 53.21875 62.890625 53.21875 53.421875  Q 53.21875 48.921875 51.53125 44.890625  Q 49.859375 40.875 45.40625 35.40625  Q 44.1875 33.984375 37.640625 27.21875  Q 31.109375 20.453125 19.1875 8.296875  z \" id=\"DejaVuSans-32\"/>\n",
       "      </defs>\n",
       "      <g transform=\"translate(144.463378 266.598437)scale(0.1 -0.1)\">\n",
       "       <use xlink:href=\"#DejaVuSans-32\"/>\n",
       "      </g>\n",
       "     </g>\n",
       "    </g>\n",
       "    <g id=\"xtick_3\">\n",
       "     <g id=\"line2d_3\">\n",
       "      <g>\n",
       "       <use style=\"stroke:#000000;stroke-width:0.8;\" x=\"193.760331\" xlink:href=\"#md8efdd71fd\" y=\"252\"/>\n",
       "      </g>\n",
       "     </g>\n",
       "     <g id=\"text_3\">\n",
       "      <!-- 4 -->\n",
       "      <defs>\n",
       "       <path d=\"M 37.796875 64.3125  L 12.890625 25.390625  L 37.796875 25.390625  z M 35.203125 72.90625  L 47.609375 72.90625  L 47.609375 25.390625  L 58.015625 25.390625  L 58.015625 17.1875  L 47.609375 17.1875  L 47.609375 0  L 37.796875 0  L 37.796875 17.1875  L 4.890625 17.1875  L 4.890625 26.703125  z \" id=\"DejaVuSans-34\"/>\n",
       "      </defs>\n",
       "      <g transform=\"translate(190.579081 266.598437)scale(0.1 -0.1)\">\n",
       "       <use xlink:href=\"#DejaVuSans-34\"/>\n",
       "      </g>\n",
       "     </g>\n",
       "    </g>\n",
       "    <g id=\"xtick_4\">\n",
       "     <g id=\"line2d_4\">\n",
       "      <g>\n",
       "       <use style=\"stroke:#000000;stroke-width:0.8;\" x=\"239.876033\" xlink:href=\"#md8efdd71fd\" y=\"252\"/>\n",
       "      </g>\n",
       "     </g>\n",
       "     <g id=\"text_4\">\n",
       "      <!-- 6 -->\n",
       "      <defs>\n",
       "       <path d=\"M 33.015625 40.375  Q 26.375 40.375 22.484375 35.828125  Q 18.609375 31.296875 18.609375 23.390625  Q 18.609375 15.53125 22.484375 10.953125  Q 26.375 6.390625 33.015625 6.390625  Q 39.65625 6.390625 43.53125 10.953125  Q 47.40625 15.53125 47.40625 23.390625  Q 47.40625 31.296875 43.53125 35.828125  Q 39.65625 40.375 33.015625 40.375  z M 52.59375 71.296875  L 52.59375 62.3125  Q 48.875 64.0625 45.09375 64.984375  Q 41.3125 65.921875 37.59375 65.921875  Q 27.828125 65.921875 22.671875 59.328125  Q 17.53125 52.734375 16.796875 39.40625  Q 19.671875 43.65625 24.015625 45.921875  Q 28.375 48.1875 33.59375 48.1875  Q 44.578125 48.1875 50.953125 41.515625  Q 57.328125 34.859375 57.328125 23.390625  Q 57.328125 12.15625 50.6875 5.359375  Q 44.046875 -1.421875 33.015625 -1.421875  Q 20.359375 -1.421875 13.671875 8.265625  Q 6.984375 17.96875 6.984375 36.375  Q 6.984375 53.65625 15.1875 63.9375  Q 23.390625 74.21875 37.203125 74.21875  Q 40.921875 74.21875 44.703125 73.484375  Q 48.484375 72.75 52.59375 71.296875  z \" id=\"DejaVuSans-36\"/>\n",
       "      </defs>\n",
       "      <g transform=\"translate(236.694783 266.598437)scale(0.1 -0.1)\">\n",
       "       <use xlink:href=\"#DejaVuSans-36\"/>\n",
       "      </g>\n",
       "     </g>\n",
       "    </g>\n",
       "    <g id=\"xtick_5\">\n",
       "     <g id=\"line2d_5\">\n",
       "      <g>\n",
       "       <use style=\"stroke:#000000;stroke-width:0.8;\" x=\"285.991736\" xlink:href=\"#md8efdd71fd\" y=\"252\"/>\n",
       "      </g>\n",
       "     </g>\n",
       "     <g id=\"text_5\">\n",
       "      <!-- 8 -->\n",
       "      <defs>\n",
       "       <path d=\"M 31.78125 34.625  Q 24.75 34.625 20.71875 30.859375  Q 16.703125 27.09375 16.703125 20.515625  Q 16.703125 13.921875 20.71875 10.15625  Q 24.75 6.390625 31.78125 6.390625  Q 38.8125 6.390625 42.859375 10.171875  Q 46.921875 13.96875 46.921875 20.515625  Q 46.921875 27.09375 42.890625 30.859375  Q 38.875 34.625 31.78125 34.625  z M 21.921875 38.8125  Q 15.578125 40.375 12.03125 44.71875  Q 8.5 49.078125 8.5 55.328125  Q 8.5 64.0625 14.71875 69.140625  Q 20.953125 74.21875 31.78125 74.21875  Q 42.671875 74.21875 48.875 69.140625  Q 55.078125 64.0625 55.078125 55.328125  Q 55.078125 49.078125 51.53125 44.71875  Q 48 40.375 41.703125 38.8125  Q 48.828125 37.15625 52.796875 32.3125  Q 56.78125 27.484375 56.78125 20.515625  Q 56.78125 9.90625 50.3125 4.234375  Q 43.84375 -1.421875 31.78125 -1.421875  Q 19.734375 -1.421875 13.25 4.234375  Q 6.78125 9.90625 6.78125 20.515625  Q 6.78125 27.484375 10.78125 32.3125  Q 14.796875 37.15625 21.921875 38.8125  z M 18.3125 54.390625  Q 18.3125 48.734375 21.84375 45.5625  Q 25.390625 42.390625 31.78125 42.390625  Q 38.140625 42.390625 41.71875 45.5625  Q 45.3125 48.734375 45.3125 54.390625  Q 45.3125 60.0625 41.71875 63.234375  Q 38.140625 66.40625 31.78125 66.40625  Q 25.390625 66.40625 21.84375 63.234375  Q 18.3125 60.0625 18.3125 54.390625  z \" id=\"DejaVuSans-38\"/>\n",
       "      </defs>\n",
       "      <g transform=\"translate(282.810486 266.598437)scale(0.1 -0.1)\">\n",
       "       <use xlink:href=\"#DejaVuSans-38\"/>\n",
       "      </g>\n",
       "     </g>\n",
       "    </g>\n",
       "    <g id=\"xtick_6\">\n",
       "     <g id=\"line2d_6\">\n",
       "      <g>\n",
       "       <use style=\"stroke:#000000;stroke-width:0.8;\" x=\"332.107438\" xlink:href=\"#md8efdd71fd\" y=\"252\"/>\n",
       "      </g>\n",
       "     </g>\n",
       "     <g id=\"text_6\">\n",
       "      <!-- 10 -->\n",
       "      <defs>\n",
       "       <path d=\"M 12.40625 8.296875  L 28.515625 8.296875  L 28.515625 63.921875  L 10.984375 60.40625  L 10.984375 69.390625  L 28.421875 72.90625  L 38.28125 72.90625  L 38.28125 8.296875  L 54.390625 8.296875  L 54.390625 0  L 12.40625 0  z \" id=\"DejaVuSans-31\"/>\n",
       "      </defs>\n",
       "      <g transform=\"translate(325.744938 266.598437)scale(0.1 -0.1)\">\n",
       "       <use xlink:href=\"#DejaVuSans-31\"/>\n",
       "       <use x=\"63.623047\" xlink:href=\"#DejaVuSans-30\"/>\n",
       "      </g>\n",
       "     </g>\n",
       "    </g>\n",
       "    <g id=\"text_7\">\n",
       "     <!-- Epoch -->\n",
       "     <defs>\n",
       "      <path d=\"M 9.8125 72.90625  L 55.90625 72.90625  L 55.90625 64.59375  L 19.671875 64.59375  L 19.671875 43.015625  L 54.390625 43.015625  L 54.390625 34.71875  L 19.671875 34.71875  L 19.671875 8.296875  L 56.78125 8.296875  L 56.78125 0  L 9.8125 0  z \" id=\"DejaVuSans-45\"/>\n",
       "      <path d=\"M 18.109375 8.203125  L 18.109375 -20.796875  L 9.078125 -20.796875  L 9.078125 54.6875  L 18.109375 54.6875  L 18.109375 46.390625  Q 20.953125 51.265625 25.265625 53.625  Q 29.59375 56 35.59375 56  Q 45.5625 56 51.78125 48.09375  Q 58.015625 40.1875 58.015625 27.296875  Q 58.015625 14.40625 51.78125 6.484375  Q 45.5625 -1.421875 35.59375 -1.421875  Q 29.59375 -1.421875 25.265625 0.953125  Q 20.953125 3.328125 18.109375 8.203125  z M 48.6875 27.296875  Q 48.6875 37.203125 44.609375 42.84375  Q 40.53125 48.484375 33.40625 48.484375  Q 26.265625 48.484375 22.1875 42.84375  Q 18.109375 37.203125 18.109375 27.296875  Q 18.109375 17.390625 22.1875 11.75  Q 26.265625 6.109375 33.40625 6.109375  Q 40.53125 6.109375 44.609375 11.75  Q 48.6875 17.390625 48.6875 27.296875  z \" id=\"DejaVuSans-70\"/>\n",
       "      <path d=\"M 30.609375 48.390625  Q 23.390625 48.390625 19.1875 42.75  Q 14.984375 37.109375 14.984375 27.296875  Q 14.984375 17.484375 19.15625 11.84375  Q 23.34375 6.203125 30.609375 6.203125  Q 37.796875 6.203125 41.984375 11.859375  Q 46.1875 17.53125 46.1875 27.296875  Q 46.1875 37.015625 41.984375 42.703125  Q 37.796875 48.390625 30.609375 48.390625  z M 30.609375 56  Q 42.328125 56 49.015625 48.375  Q 55.71875 40.765625 55.71875 27.296875  Q 55.71875 13.875 49.015625 6.21875  Q 42.328125 -1.421875 30.609375 -1.421875  Q 18.84375 -1.421875 12.171875 6.21875  Q 5.515625 13.875 5.515625 27.296875  Q 5.515625 40.765625 12.171875 48.375  Q 18.84375 56 30.609375 56  z \" id=\"DejaVuSans-6f\"/>\n",
       "      <path d=\"M 48.78125 52.59375  L 48.78125 44.1875  Q 44.96875 46.296875 41.140625 47.34375  Q 37.3125 48.390625 33.40625 48.390625  Q 24.65625 48.390625 19.8125 42.84375  Q 14.984375 37.3125 14.984375 27.296875  Q 14.984375 17.28125 19.8125 11.734375  Q 24.65625 6.203125 33.40625 6.203125  Q 37.3125 6.203125 41.140625 7.25  Q 44.96875 8.296875 48.78125 10.40625  L 48.78125 2.09375  Q 45.015625 0.34375 40.984375 -0.53125  Q 36.96875 -1.421875 32.421875 -1.421875  Q 20.0625 -1.421875 12.78125 6.34375  Q 5.515625 14.109375 5.515625 27.296875  Q 5.515625 40.671875 12.859375 48.328125  Q 20.21875 56 33.015625 56  Q 37.15625 56 41.109375 55.140625  Q 45.0625 54.296875 48.78125 52.59375  z \" id=\"DejaVuSans-63\"/>\n",
       "      <path d=\"M 54.890625 33.015625  L 54.890625 0  L 45.90625 0  L 45.90625 32.71875  Q 45.90625 40.484375 42.875 44.328125  Q 39.84375 48.1875 33.796875 48.1875  Q 26.515625 48.1875 22.3125 43.546875  Q 18.109375 38.921875 18.109375 30.90625  L 18.109375 0  L 9.078125 0  L 9.078125 75.984375  L 18.109375 75.984375  L 18.109375 46.1875  Q 21.34375 51.125 25.703125 53.5625  Q 30.078125 56 35.796875 56  Q 45.21875 56 50.046875 50.171875  Q 54.890625 44.34375 54.890625 33.015625  z \" id=\"DejaVuSans-68\"/>\n",
       "     </defs>\n",
       "     <g transform=\"translate(201.507244 280.276563)scale(0.1 -0.1)\">\n",
       "      <use xlink:href=\"#DejaVuSans-45\"/>\n",
       "      <use x=\"63.183594\" xlink:href=\"#DejaVuSans-70\"/>\n",
       "      <use x=\"126.660156\" xlink:href=\"#DejaVuSans-6f\"/>\n",
       "      <use x=\"187.841797\" xlink:href=\"#DejaVuSans-63\"/>\n",
       "      <use x=\"242.822266\" xlink:href=\"#DejaVuSans-68\"/>\n",
       "     </g>\n",
       "    </g>\n",
       "   </g>\n",
       "   <g id=\"matplotlib.axis_2\">\n",
       "    <g id=\"ytick_1\">\n",
       "     <g id=\"line2d_7\">\n",
       "      <defs>\n",
       "       <path d=\"M 0 0  L -3.5 0  \" id=\"m656ba13641\" style=\"stroke:#000000;stroke-width:0.8;\"/>\n",
       "      </defs>\n",
       "      <g>\n",
       "       <use style=\"stroke:#000000;stroke-width:0.8;\" x=\"90\" xlink:href=\"#m656ba13641\" y=\"252\"/>\n",
       "      </g>\n",
       "     </g>\n",
       "     <g id=\"text_8\">\n",
       "      <!-- 0.0 -->\n",
       "      <defs>\n",
       "       <path d=\"M 10.6875 12.40625  L 21 12.40625  L 21 0  L 10.6875 0  z \" id=\"DejaVuSans-2e\"/>\n",
       "      </defs>\n",
       "      <g transform=\"translate(67.096875 255.799219)scale(0.1 -0.1)\">\n",
       "       <use xlink:href=\"#DejaVuSans-30\"/>\n",
       "       <use x=\"63.623047\" xlink:href=\"#DejaVuSans-2e\"/>\n",
       "       <use x=\"95.410156\" xlink:href=\"#DejaVuSans-30\"/>\n",
       "      </g>\n",
       "     </g>\n",
       "    </g>\n",
       "    <g id=\"ytick_2\">\n",
       "     <g id=\"line2d_8\">\n",
       "      <g>\n",
       "       <use style=\"stroke:#000000;stroke-width:0.8;\" x=\"90\" xlink:href=\"#m656ba13641\" y=\"207.007013\"/>\n",
       "      </g>\n",
       "     </g>\n",
       "     <g id=\"text_9\">\n",
       "      <!-- 0.5 -->\n",
       "      <defs>\n",
       "       <path d=\"M 10.796875 72.90625  L 49.515625 72.90625  L 49.515625 64.59375  L 19.828125 64.59375  L 19.828125 46.734375  Q 21.96875 47.46875 24.109375 47.828125  Q 26.265625 48.1875 28.421875 48.1875  Q 40.625 48.1875 47.75 41.5  Q 54.890625 34.8125 54.890625 23.390625  Q 54.890625 11.625 47.5625 5.09375  Q 40.234375 -1.421875 26.90625 -1.421875  Q 22.3125 -1.421875 17.546875 -0.640625  Q 12.796875 0.140625 7.71875 1.703125  L 7.71875 11.625  Q 12.109375 9.234375 16.796875 8.0625  Q 21.484375 6.890625 26.703125 6.890625  Q 35.15625 6.890625 40.078125 11.328125  Q 45.015625 15.765625 45.015625 23.390625  Q 45.015625 31 40.078125 35.4375  Q 35.15625 39.890625 26.703125 39.890625  Q 22.75 39.890625 18.8125 39.015625  Q 14.890625 38.140625 10.796875 36.28125  z \" id=\"DejaVuSans-35\"/>\n",
       "      </defs>\n",
       "      <g transform=\"translate(67.096875 210.806232)scale(0.1 -0.1)\">\n",
       "       <use xlink:href=\"#DejaVuSans-30\"/>\n",
       "       <use x=\"63.623047\" xlink:href=\"#DejaVuSans-2e\"/>\n",
       "       <use x=\"95.410156\" xlink:href=\"#DejaVuSans-35\"/>\n",
       "      </g>\n",
       "     </g>\n",
       "    </g>\n",
       "    <g id=\"ytick_3\">\n",
       "     <g id=\"line2d_9\">\n",
       "      <g>\n",
       "       <use style=\"stroke:#000000;stroke-width:0.8;\" x=\"90\" xlink:href=\"#m656ba13641\" y=\"162.014026\"/>\n",
       "      </g>\n",
       "     </g>\n",
       "     <g id=\"text_10\">\n",
       "      <!-- 1.0 -->\n",
       "      <g transform=\"translate(67.096875 165.813245)scale(0.1 -0.1)\">\n",
       "       <use xlink:href=\"#DejaVuSans-31\"/>\n",
       "       <use x=\"63.623047\" xlink:href=\"#DejaVuSans-2e\"/>\n",
       "       <use x=\"95.410156\" xlink:href=\"#DejaVuSans-30\"/>\n",
       "      </g>\n",
       "     </g>\n",
       "    </g>\n",
       "    <g id=\"ytick_4\">\n",
       "     <g id=\"line2d_10\">\n",
       "      <g>\n",
       "       <use style=\"stroke:#000000;stroke-width:0.8;\" x=\"90\" xlink:href=\"#m656ba13641\" y=\"117.02104\"/>\n",
       "      </g>\n",
       "     </g>\n",
       "     <g id=\"text_11\">\n",
       "      <!-- 1.5 -->\n",
       "      <g transform=\"translate(67.096875 120.820258)scale(0.1 -0.1)\">\n",
       "       <use xlink:href=\"#DejaVuSans-31\"/>\n",
       "       <use x=\"63.623047\" xlink:href=\"#DejaVuSans-2e\"/>\n",
       "       <use x=\"95.410156\" xlink:href=\"#DejaVuSans-35\"/>\n",
       "      </g>\n",
       "     </g>\n",
       "    </g>\n",
       "    <g id=\"ytick_5\">\n",
       "     <g id=\"line2d_11\">\n",
       "      <g>\n",
       "       <use style=\"stroke:#000000;stroke-width:0.8;\" x=\"90\" xlink:href=\"#m656ba13641\" y=\"72.028053\"/>\n",
       "      </g>\n",
       "     </g>\n",
       "     <g id=\"text_12\">\n",
       "      <!-- 2.0 -->\n",
       "      <g transform=\"translate(67.096875 75.827271)scale(0.1 -0.1)\">\n",
       "       <use xlink:href=\"#DejaVuSans-32\"/>\n",
       "       <use x=\"63.623047\" xlink:href=\"#DejaVuSans-2e\"/>\n",
       "       <use x=\"95.410156\" xlink:href=\"#DejaVuSans-30\"/>\n",
       "      </g>\n",
       "     </g>\n",
       "    </g>\n",
       "   </g>\n",
       "   <g id=\"line2d_12\">\n",
       "    <path clip-path=\"url(#p4aa4eb938a)\" d=\"M 101.528926 44.900226  L 124.586777 213.245646  L 147.644628 239.277611  L 170.702479 243.162372  L 193.760331 245.099102  L 216.818182 246.758257  L 239.876033 247.549045  L 262.933884 248.330357  L 285.991736 248.818165  L 309.049587 249.49202  L 332.107438 249.664713  \" style=\"fill:none;stroke:#1f77b4;stroke-linecap:square;stroke-width:1.5;\"/>\n",
       "   </g>\n",
       "   <g id=\"line2d_13\">\n",
       "    <path clip-path=\"url(#p4aa4eb938a)\" d=\"M 101.528926 44.803082  L 124.586777 212.410777  L 147.644628 227.368451  L 170.702479 241.827906  L 193.760331 244.432222  L 216.818182 245.21706  L 239.876033 246.404276  L 262.933884 243.816953  L 285.991736 246.49302  L 309.049587 247.008647  L 332.107438 246.084835  \" style=\"fill:none;stroke:#ff7f0e;stroke-linecap:square;stroke-width:1.5;\"/>\n",
       "   </g>\n",
       "   <g id=\"patch_3\">\n",
       "    <path d=\"M 90 252  L 90 34.56  \" style=\"fill:none;stroke:#000000;stroke-linecap:square;stroke-linejoin:miter;stroke-width:0.8;\"/>\n",
       "   </g>\n",
       "   <g id=\"patch_4\">\n",
       "    <path d=\"M 343.636364 252  L 343.636364 34.56  \" style=\"fill:none;stroke:#000000;stroke-linecap:square;stroke-linejoin:miter;stroke-width:0.8;\"/>\n",
       "   </g>\n",
       "   <g id=\"patch_5\">\n",
       "    <path d=\"M 90 252  L 343.636364 252  \" style=\"fill:none;stroke:#000000;stroke-linecap:square;stroke-linejoin:miter;stroke-width:0.8;\"/>\n",
       "   </g>\n",
       "   <g id=\"patch_6\">\n",
       "    <path d=\"M 90 34.56  L 343.636364 34.56  \" style=\"fill:none;stroke:#000000;stroke-linecap:square;stroke-linejoin:miter;stroke-width:0.8;\"/>\n",
       "   </g>\n",
       "   <g id=\"text_13\">\n",
       "    <!-- MNIST_CNN: Error -->\n",
       "    <defs>\n",
       "     <path d=\"M 9.8125 72.90625  L 24.515625 72.90625  L 43.109375 23.296875  L 61.8125 72.90625  L 76.515625 72.90625  L 76.515625 0  L 66.890625 0  L 66.890625 64.015625  L 48.09375 14.015625  L 38.1875 14.015625  L 19.390625 64.015625  L 19.390625 0  L 9.8125 0  z \" id=\"DejaVuSans-4d\"/>\n",
       "     <path d=\"M 9.8125 72.90625  L 23.09375 72.90625  L 55.421875 11.921875  L 55.421875 72.90625  L 64.984375 72.90625  L 64.984375 0  L 51.703125 0  L 19.390625 60.984375  L 19.390625 0  L 9.8125 0  z \" id=\"DejaVuSans-4e\"/>\n",
       "     <path d=\"M 9.8125 72.90625  L 19.671875 72.90625  L 19.671875 0  L 9.8125 0  z \" id=\"DejaVuSans-49\"/>\n",
       "     <path d=\"M 53.515625 70.515625  L 53.515625 60.890625  Q 47.90625 63.578125 42.921875 64.890625  Q 37.9375 66.21875 33.296875 66.21875  Q 25.25 66.21875 20.875 63.09375  Q 16.5 59.96875 16.5 54.203125  Q 16.5 49.359375 19.40625 46.890625  Q 22.3125 44.4375 30.421875 42.921875  L 36.375 41.703125  Q 47.40625 39.59375 52.65625 34.296875  Q 57.90625 29 57.90625 20.125  Q 57.90625 9.515625 50.796875 4.046875  Q 43.703125 -1.421875 29.984375 -1.421875  Q 24.8125 -1.421875 18.96875 -0.25  Q 13.140625 0.921875 6.890625 3.21875  L 6.890625 13.375  Q 12.890625 10.015625 18.65625 8.296875  Q 24.421875 6.59375 29.984375 6.59375  Q 38.421875 6.59375 43.015625 9.90625  Q 47.609375 13.234375 47.609375 19.390625  Q 47.609375 24.75 44.3125 27.78125  Q 41.015625 30.8125 33.5 32.328125  L 27.484375 33.5  Q 16.453125 35.6875 11.515625 40.375  Q 6.59375 45.0625 6.59375 53.421875  Q 6.59375 63.09375 13.40625 68.65625  Q 20.21875 74.21875 32.171875 74.21875  Q 37.3125 74.21875 42.625 73.28125  Q 47.953125 72.359375 53.515625 70.515625  z \" id=\"DejaVuSans-53\"/>\n",
       "     <path d=\"M -0.296875 72.90625  L 61.375 72.90625  L 61.375 64.59375  L 35.5 64.59375  L 35.5 0  L 25.59375 0  L 25.59375 64.59375  L -0.296875 64.59375  z \" id=\"DejaVuSans-54\"/>\n",
       "     <path d=\"M 50.984375 -16.609375  L 50.984375 -23.578125  L -0.984375 -23.578125  L -0.984375 -16.609375  z \" id=\"DejaVuSans-5f\"/>\n",
       "     <path d=\"M 64.40625 67.28125  L 64.40625 56.890625  Q 59.421875 61.53125 53.78125 63.8125  Q 48.140625 66.109375 41.796875 66.109375  Q 29.296875 66.109375 22.65625 58.46875  Q 16.015625 50.828125 16.015625 36.375  Q 16.015625 21.96875 22.65625 14.328125  Q 29.296875 6.6875 41.796875 6.6875  Q 48.140625 6.6875 53.78125 8.984375  Q 59.421875 11.28125 64.40625 15.921875  L 64.40625 5.609375  Q 59.234375 2.09375 53.4375 0.328125  Q 47.65625 -1.421875 41.21875 -1.421875  Q 24.65625 -1.421875 15.125 8.703125  Q 5.609375 18.84375 5.609375 36.375  Q 5.609375 53.953125 15.125 64.078125  Q 24.65625 74.21875 41.21875 74.21875  Q 47.75 74.21875 53.53125 72.484375  Q 59.328125 70.75 64.40625 67.28125  z \" id=\"DejaVuSans-43\"/>\n",
       "     <path d=\"M 11.71875 12.40625  L 22.015625 12.40625  L 22.015625 0  L 11.71875 0  z M 11.71875 51.703125  L 22.015625 51.703125  L 22.015625 39.3125  L 11.71875 39.3125  z \" id=\"DejaVuSans-3a\"/>\n",
       "     <path id=\"DejaVuSans-20\"/>\n",
       "     <path d=\"M 41.109375 46.296875  Q 39.59375 47.171875 37.8125 47.578125  Q 36.03125 48 33.890625 48  Q 26.265625 48 22.1875 43.046875  Q 18.109375 38.09375 18.109375 28.8125  L 18.109375 0  L 9.078125 0  L 9.078125 54.6875  L 18.109375 54.6875  L 18.109375 46.1875  Q 20.953125 51.171875 25.484375 53.578125  Q 30.03125 56 36.53125 56  Q 37.453125 56 38.578125 55.875  Q 39.703125 55.765625 41.0625 55.515625  z \" id=\"DejaVuSans-72\"/>\n",
       "    </defs>\n",
       "    <g transform=\"translate(162.954119 28.56)scale(0.12 -0.12)\">\n",
       "     <use xlink:href=\"#DejaVuSans-4d\"/>\n",
       "     <use x=\"86.279297\" xlink:href=\"#DejaVuSans-4e\"/>\n",
       "     <use x=\"161.083984\" xlink:href=\"#DejaVuSans-49\"/>\n",
       "     <use x=\"190.576172\" xlink:href=\"#DejaVuSans-53\"/>\n",
       "     <use x=\"254.052734\" xlink:href=\"#DejaVuSans-54\"/>\n",
       "     <use x=\"315.136719\" xlink:href=\"#DejaVuSans-5f\"/>\n",
       "     <use x=\"365.136719\" xlink:href=\"#DejaVuSans-43\"/>\n",
       "     <use x=\"434.960938\" xlink:href=\"#DejaVuSans-4e\"/>\n",
       "     <use x=\"509.765625\" xlink:href=\"#DejaVuSans-4e\"/>\n",
       "     <use x=\"584.570312\" xlink:href=\"#DejaVuSans-3a\"/>\n",
       "     <use x=\"618.261719\" xlink:href=\"#DejaVuSans-20\"/>\n",
       "     <use x=\"650.048828\" xlink:href=\"#DejaVuSans-45\"/>\n",
       "     <use x=\"713.232422\" xlink:href=\"#DejaVuSans-72\"/>\n",
       "     <use x=\"754.330078\" xlink:href=\"#DejaVuSans-72\"/>\n",
       "     <use x=\"795.412109\" xlink:href=\"#DejaVuSans-6f\"/>\n",
       "     <use x=\"856.59375\" xlink:href=\"#DejaVuSans-72\"/>\n",
       "    </g>\n",
       "   </g>\n",
       "   <g id=\"legend_1\">\n",
       "    <g id=\"patch_7\">\n",
       "     <path d=\"M 236.030114 71.91625  L 336.636364 71.91625  Q 338.636364 71.91625 338.636364 69.91625  L 338.636364 41.56  Q 338.636364 39.56 336.636364 39.56  L 236.030114 39.56  Q 234.030114 39.56 234.030114 41.56  L 234.030114 69.91625  Q 234.030114 71.91625 236.030114 71.91625  z \" style=\"fill:#ffffff;opacity:0.8;stroke:#cccccc;stroke-linejoin:miter;\"/>\n",
       "    </g>\n",
       "    <g id=\"line2d_14\">\n",
       "     <path d=\"M 238.030114 47.658437  L 258.030114 47.658437  \" style=\"fill:none;stroke:#1f77b4;stroke-linecap:square;stroke-width:1.5;\"/>\n",
       "    </g>\n",
       "    <g id=\"line2d_15\"/>\n",
       "    <g id=\"text_14\">\n",
       "     <!-- Training set -->\n",
       "     <defs>\n",
       "      <path d=\"M 34.28125 27.484375  Q 23.390625 27.484375 19.1875 25  Q 14.984375 22.515625 14.984375 16.5  Q 14.984375 11.71875 18.140625 8.90625  Q 21.296875 6.109375 26.703125 6.109375  Q 34.1875 6.109375 38.703125 11.40625  Q 43.21875 16.703125 43.21875 25.484375  L 43.21875 27.484375  z M 52.203125 31.203125  L 52.203125 0  L 43.21875 0  L 43.21875 8.296875  Q 40.140625 3.328125 35.546875 0.953125  Q 30.953125 -1.421875 24.3125 -1.421875  Q 15.921875 -1.421875 10.953125 3.296875  Q 6 8.015625 6 15.921875  Q 6 25.140625 12.171875 29.828125  Q 18.359375 34.515625 30.609375 34.515625  L 43.21875 34.515625  L 43.21875 35.40625  Q 43.21875 41.609375 39.140625 45  Q 35.0625 48.390625 27.6875 48.390625  Q 23 48.390625 18.546875 47.265625  Q 14.109375 46.140625 10.015625 43.890625  L 10.015625 52.203125  Q 14.9375 54.109375 19.578125 55.046875  Q 24.21875 56 28.609375 56  Q 40.484375 56 46.34375 49.84375  Q 52.203125 43.703125 52.203125 31.203125  z \" id=\"DejaVuSans-61\"/>\n",
       "      <path d=\"M 9.421875 54.6875  L 18.40625 54.6875  L 18.40625 0  L 9.421875 0  z M 9.421875 75.984375  L 18.40625 75.984375  L 18.40625 64.59375  L 9.421875 64.59375  z \" id=\"DejaVuSans-69\"/>\n",
       "      <path d=\"M 54.890625 33.015625  L 54.890625 0  L 45.90625 0  L 45.90625 32.71875  Q 45.90625 40.484375 42.875 44.328125  Q 39.84375 48.1875 33.796875 48.1875  Q 26.515625 48.1875 22.3125 43.546875  Q 18.109375 38.921875 18.109375 30.90625  L 18.109375 0  L 9.078125 0  L 9.078125 54.6875  L 18.109375 54.6875  L 18.109375 46.1875  Q 21.34375 51.125 25.703125 53.5625  Q 30.078125 56 35.796875 56  Q 45.21875 56 50.046875 50.171875  Q 54.890625 44.34375 54.890625 33.015625  z \" id=\"DejaVuSans-6e\"/>\n",
       "      <path d=\"M 45.40625 27.984375  Q 45.40625 37.75 41.375 43.109375  Q 37.359375 48.484375 30.078125 48.484375  Q 22.859375 48.484375 18.828125 43.109375  Q 14.796875 37.75 14.796875 27.984375  Q 14.796875 18.265625 18.828125 12.890625  Q 22.859375 7.515625 30.078125 7.515625  Q 37.359375 7.515625 41.375 12.890625  Q 45.40625 18.265625 45.40625 27.984375  z M 54.390625 6.78125  Q 54.390625 -7.171875 48.1875 -13.984375  Q 42 -20.796875 29.203125 -20.796875  Q 24.46875 -20.796875 20.265625 -20.09375  Q 16.0625 -19.390625 12.109375 -17.921875  L 12.109375 -9.1875  Q 16.0625 -11.328125 19.921875 -12.34375  Q 23.78125 -13.375 27.78125 -13.375  Q 36.625 -13.375 41.015625 -8.765625  Q 45.40625 -4.15625 45.40625 5.171875  L 45.40625 9.625  Q 42.625 4.78125 38.28125 2.390625  Q 33.9375 0 27.875 0  Q 17.828125 0 11.671875 7.65625  Q 5.515625 15.328125 5.515625 27.984375  Q 5.515625 40.671875 11.671875 48.328125  Q 17.828125 56 27.875 56  Q 33.9375 56 38.28125 53.609375  Q 42.625 51.21875 45.40625 46.390625  L 45.40625 54.6875  L 54.390625 54.6875  z \" id=\"DejaVuSans-67\"/>\n",
       "      <path d=\"M 44.28125 53.078125  L 44.28125 44.578125  Q 40.484375 46.53125 36.375 47.5  Q 32.28125 48.484375 27.875 48.484375  Q 21.1875 48.484375 17.84375 46.4375  Q 14.5 44.390625 14.5 40.28125  Q 14.5 37.15625 16.890625 35.375  Q 19.28125 33.59375 26.515625 31.984375  L 29.59375 31.296875  Q 39.15625 29.25 43.1875 25.515625  Q 47.21875 21.78125 47.21875 15.09375  Q 47.21875 7.46875 41.1875 3.015625  Q 35.15625 -1.421875 24.609375 -1.421875  Q 20.21875 -1.421875 15.453125 -0.5625  Q 10.6875 0.296875 5.421875 2  L 5.421875 11.28125  Q 10.40625 8.6875 15.234375 7.390625  Q 20.0625 6.109375 24.8125 6.109375  Q 31.15625 6.109375 34.5625 8.28125  Q 37.984375 10.453125 37.984375 14.40625  Q 37.984375 18.0625 35.515625 20.015625  Q 33.0625 21.96875 24.703125 23.78125  L 21.578125 24.515625  Q 13.234375 26.265625 9.515625 29.90625  Q 5.8125 33.546875 5.8125 39.890625  Q 5.8125 47.609375 11.28125 51.796875  Q 16.75 56 26.8125 56  Q 31.78125 56 36.171875 55.265625  Q 40.578125 54.546875 44.28125 53.078125  z \" id=\"DejaVuSans-73\"/>\n",
       "      <path d=\"M 56.203125 29.59375  L 56.203125 25.203125  L 14.890625 25.203125  Q 15.484375 15.921875 20.484375 11.0625  Q 25.484375 6.203125 34.421875 6.203125  Q 39.59375 6.203125 44.453125 7.46875  Q 49.3125 8.734375 54.109375 11.28125  L 54.109375 2.78125  Q 49.265625 0.734375 44.1875 -0.34375  Q 39.109375 -1.421875 33.890625 -1.421875  Q 20.796875 -1.421875 13.15625 6.1875  Q 5.515625 13.8125 5.515625 26.8125  Q 5.515625 40.234375 12.765625 48.109375  Q 20.015625 56 32.328125 56  Q 43.359375 56 49.78125 48.890625  Q 56.203125 41.796875 56.203125 29.59375  z M 47.21875 32.234375  Q 47.125 39.59375 43.09375 43.984375  Q 39.0625 48.390625 32.421875 48.390625  Q 24.90625 48.390625 20.390625 44.140625  Q 15.875 39.890625 15.1875 32.171875  z \" id=\"DejaVuSans-65\"/>\n",
       "      <path d=\"M 18.3125 70.21875  L 18.3125 54.6875  L 36.8125 54.6875  L 36.8125 47.703125  L 18.3125 47.703125  L 18.3125 18.015625  Q 18.3125 11.328125 20.140625 9.421875  Q 21.96875 7.515625 27.59375 7.515625  L 36.8125 7.515625  L 36.8125 0  L 27.59375 0  Q 17.1875 0 13.234375 3.875  Q 9.28125 7.765625 9.28125 18.015625  L 9.28125 47.703125  L 2.6875 47.703125  L 2.6875 54.6875  L 9.28125 54.6875  L 9.28125 70.21875  z \" id=\"DejaVuSans-74\"/>\n",
       "     </defs>\n",
       "     <g transform=\"translate(266.030114 51.158437)scale(0.1 -0.1)\">\n",
       "      <use xlink:href=\"#DejaVuSans-54\"/>\n",
       "      <use x=\"60.865234\" xlink:href=\"#DejaVuSans-72\"/>\n",
       "      <use x=\"101.978516\" xlink:href=\"#DejaVuSans-61\"/>\n",
       "      <use x=\"163.257812\" xlink:href=\"#DejaVuSans-69\"/>\n",
       "      <use x=\"191.041016\" xlink:href=\"#DejaVuSans-6e\"/>\n",
       "      <use x=\"254.419922\" xlink:href=\"#DejaVuSans-69\"/>\n",
       "      <use x=\"282.203125\" xlink:href=\"#DejaVuSans-6e\"/>\n",
       "      <use x=\"345.582031\" xlink:href=\"#DejaVuSans-67\"/>\n",
       "      <use x=\"409.058594\" xlink:href=\"#DejaVuSans-20\"/>\n",
       "      <use x=\"440.845703\" xlink:href=\"#DejaVuSans-73\"/>\n",
       "      <use x=\"492.945312\" xlink:href=\"#DejaVuSans-65\"/>\n",
       "      <use x=\"554.46875\" xlink:href=\"#DejaVuSans-74\"/>\n",
       "     </g>\n",
       "    </g>\n",
       "    <g id=\"line2d_16\">\n",
       "     <path d=\"M 238.030114 62.336562  L 258.030114 62.336562  \" style=\"fill:none;stroke:#ff7f0e;stroke-linecap:square;stroke-width:1.5;\"/>\n",
       "    </g>\n",
       "    <g id=\"line2d_17\"/>\n",
       "    <g id=\"text_15\">\n",
       "     <!-- Validation set -->\n",
       "     <defs>\n",
       "      <path d=\"M 28.609375 0  L 0.78125 72.90625  L 11.078125 72.90625  L 34.1875 11.53125  L 57.328125 72.90625  L 67.578125 72.90625  L 39.796875 0  z \" id=\"DejaVuSans-56\"/>\n",
       "      <path d=\"M 9.421875 75.984375  L 18.40625 75.984375  L 18.40625 0  L 9.421875 0  z \" id=\"DejaVuSans-6c\"/>\n",
       "      <path d=\"M 45.40625 46.390625  L 45.40625 75.984375  L 54.390625 75.984375  L 54.390625 0  L 45.40625 0  L 45.40625 8.203125  Q 42.578125 3.328125 38.25 0.953125  Q 33.9375 -1.421875 27.875 -1.421875  Q 17.96875 -1.421875 11.734375 6.484375  Q 5.515625 14.40625 5.515625 27.296875  Q 5.515625 40.1875 11.734375 48.09375  Q 17.96875 56 27.875 56  Q 33.9375 56 38.25 53.625  Q 42.578125 51.265625 45.40625 46.390625  z M 14.796875 27.296875  Q 14.796875 17.390625 18.875 11.75  Q 22.953125 6.109375 30.078125 6.109375  Q 37.203125 6.109375 41.296875 11.75  Q 45.40625 17.390625 45.40625 27.296875  Q 45.40625 37.203125 41.296875 42.84375  Q 37.203125 48.484375 30.078125 48.484375  Q 22.953125 48.484375 18.875 42.84375  Q 14.796875 37.203125 14.796875 27.296875  z \" id=\"DejaVuSans-64\"/>\n",
       "     </defs>\n",
       "     <g transform=\"translate(266.030114 65.836562)scale(0.1 -0.1)\">\n",
       "      <use xlink:href=\"#DejaVuSans-56\"/>\n",
       "      <use x=\"68.298828\" xlink:href=\"#DejaVuSans-61\"/>\n",
       "      <use x=\"129.578125\" xlink:href=\"#DejaVuSans-6c\"/>\n",
       "      <use x=\"157.361328\" xlink:href=\"#DejaVuSans-69\"/>\n",
       "      <use x=\"185.144531\" xlink:href=\"#DejaVuSans-64\"/>\n",
       "      <use x=\"248.621094\" xlink:href=\"#DejaVuSans-61\"/>\n",
       "      <use x=\"309.900391\" xlink:href=\"#DejaVuSans-74\"/>\n",
       "      <use x=\"349.109375\" xlink:href=\"#DejaVuSans-69\"/>\n",
       "      <use x=\"376.892578\" xlink:href=\"#DejaVuSans-6f\"/>\n",
       "      <use x=\"438.074219\" xlink:href=\"#DejaVuSans-6e\"/>\n",
       "      <use x=\"501.453125\" xlink:href=\"#DejaVuSans-20\"/>\n",
       "      <use x=\"533.240234\" xlink:href=\"#DejaVuSans-73\"/>\n",
       "      <use x=\"585.339844\" xlink:href=\"#DejaVuSans-65\"/>\n",
       "      <use x=\"646.863281\" xlink:href=\"#DejaVuSans-74\"/>\n",
       "     </g>\n",
       "    </g>\n",
       "   </g>\n",
       "  </g>\n",
       "  <g id=\"axes_2\">\n",
       "   <g id=\"patch_8\">\n",
       "    <path d=\"M 394.363636 252  L 648 252  L 648 34.56  L 394.363636 34.56  z \" style=\"fill:#ffffff;\"/>\n",
       "   </g>\n",
       "   <g id=\"matplotlib.axis_3\">\n",
       "    <g id=\"xtick_7\">\n",
       "     <g id=\"line2d_18\">\n",
       "      <g>\n",
       "       <use style=\"stroke:#000000;stroke-width:0.8;\" x=\"405.892562\" xlink:href=\"#md8efdd71fd\" y=\"252\"/>\n",
       "      </g>\n",
       "     </g>\n",
       "     <g id=\"text_16\">\n",
       "      <!-- 0 -->\n",
       "      <g transform=\"translate(402.711312 266.598437)scale(0.1 -0.1)\">\n",
       "       <use xlink:href=\"#DejaVuSans-30\"/>\n",
       "      </g>\n",
       "     </g>\n",
       "    </g>\n",
       "    <g id=\"xtick_8\">\n",
       "     <g id=\"line2d_19\">\n",
       "      <g>\n",
       "       <use style=\"stroke:#000000;stroke-width:0.8;\" x=\"452.008264\" xlink:href=\"#md8efdd71fd\" y=\"252\"/>\n",
       "      </g>\n",
       "     </g>\n",
       "     <g id=\"text_17\">\n",
       "      <!-- 2 -->\n",
       "      <g transform=\"translate(448.827014 266.598437)scale(0.1 -0.1)\">\n",
       "       <use xlink:href=\"#DejaVuSans-32\"/>\n",
       "      </g>\n",
       "     </g>\n",
       "    </g>\n",
       "    <g id=\"xtick_9\">\n",
       "     <g id=\"line2d_20\">\n",
       "      <g>\n",
       "       <use style=\"stroke:#000000;stroke-width:0.8;\" x=\"498.123967\" xlink:href=\"#md8efdd71fd\" y=\"252\"/>\n",
       "      </g>\n",
       "     </g>\n",
       "     <g id=\"text_18\">\n",
       "      <!-- 4 -->\n",
       "      <g transform=\"translate(494.942717 266.598437)scale(0.1 -0.1)\">\n",
       "       <use xlink:href=\"#DejaVuSans-34\"/>\n",
       "      </g>\n",
       "     </g>\n",
       "    </g>\n",
       "    <g id=\"xtick_10\">\n",
       "     <g id=\"line2d_21\">\n",
       "      <g>\n",
       "       <use style=\"stroke:#000000;stroke-width:0.8;\" x=\"544.239669\" xlink:href=\"#md8efdd71fd\" y=\"252\"/>\n",
       "      </g>\n",
       "     </g>\n",
       "     <g id=\"text_19\">\n",
       "      <!-- 6 -->\n",
       "      <g transform=\"translate(541.058419 266.598437)scale(0.1 -0.1)\">\n",
       "       <use xlink:href=\"#DejaVuSans-36\"/>\n",
       "      </g>\n",
       "     </g>\n",
       "    </g>\n",
       "    <g id=\"xtick_11\">\n",
       "     <g id=\"line2d_22\">\n",
       "      <g>\n",
       "       <use style=\"stroke:#000000;stroke-width:0.8;\" x=\"590.355372\" xlink:href=\"#md8efdd71fd\" y=\"252\"/>\n",
       "      </g>\n",
       "     </g>\n",
       "     <g id=\"text_20\">\n",
       "      <!-- 8 -->\n",
       "      <g transform=\"translate(587.174122 266.598437)scale(0.1 -0.1)\">\n",
       "       <use xlink:href=\"#DejaVuSans-38\"/>\n",
       "      </g>\n",
       "     </g>\n",
       "    </g>\n",
       "    <g id=\"xtick_12\">\n",
       "     <g id=\"line2d_23\">\n",
       "      <g>\n",
       "       <use style=\"stroke:#000000;stroke-width:0.8;\" x=\"636.471074\" xlink:href=\"#md8efdd71fd\" y=\"252\"/>\n",
       "      </g>\n",
       "     </g>\n",
       "     <g id=\"text_21\">\n",
       "      <!-- 10 -->\n",
       "      <g transform=\"translate(630.108574 266.598437)scale(0.1 -0.1)\">\n",
       "       <use xlink:href=\"#DejaVuSans-31\"/>\n",
       "       <use x=\"63.623047\" xlink:href=\"#DejaVuSans-30\"/>\n",
       "      </g>\n",
       "     </g>\n",
       "    </g>\n",
       "    <g id=\"text_22\">\n",
       "     <!-- Epoch -->\n",
       "     <g transform=\"translate(505.870881 280.276563)scale(0.1 -0.1)\">\n",
       "      <use xlink:href=\"#DejaVuSans-45\"/>\n",
       "      <use x=\"63.183594\" xlink:href=\"#DejaVuSans-70\"/>\n",
       "      <use x=\"126.660156\" xlink:href=\"#DejaVuSans-6f\"/>\n",
       "      <use x=\"187.841797\" xlink:href=\"#DejaVuSans-63\"/>\n",
       "      <use x=\"242.822266\" xlink:href=\"#DejaVuSans-68\"/>\n",
       "     </g>\n",
       "    </g>\n",
       "   </g>\n",
       "   <g id=\"matplotlib.axis_4\">\n",
       "    <g id=\"ytick_6\">\n",
       "     <g id=\"line2d_24\">\n",
       "      <g>\n",
       "       <use style=\"stroke:#000000;stroke-width:0.8;\" x=\"394.363636\" xlink:href=\"#m656ba13641\" y=\"233.88\"/>\n",
       "      </g>\n",
       "     </g>\n",
       "     <g id=\"text_23\">\n",
       "      <!-- 0.0 -->\n",
       "      <g transform=\"translate(371.460511 237.679219)scale(0.1 -0.1)\">\n",
       "       <use xlink:href=\"#DejaVuSans-30\"/>\n",
       "       <use x=\"63.623047\" xlink:href=\"#DejaVuSans-2e\"/>\n",
       "       <use x=\"95.410156\" xlink:href=\"#DejaVuSans-30\"/>\n",
       "      </g>\n",
       "     </g>\n",
       "    </g>\n",
       "    <g id=\"ytick_7\">\n",
       "     <g id=\"line2d_25\">\n",
       "      <g>\n",
       "       <use style=\"stroke:#000000;stroke-width:0.8;\" x=\"394.363636\" xlink:href=\"#m656ba13641\" y=\"197.64\"/>\n",
       "      </g>\n",
       "     </g>\n",
       "     <g id=\"text_24\">\n",
       "      <!-- 0.2 -->\n",
       "      <g transform=\"translate(371.460511 201.439219)scale(0.1 -0.1)\">\n",
       "       <use xlink:href=\"#DejaVuSans-30\"/>\n",
       "       <use x=\"63.623047\" xlink:href=\"#DejaVuSans-2e\"/>\n",
       "       <use x=\"95.410156\" xlink:href=\"#DejaVuSans-32\"/>\n",
       "      </g>\n",
       "     </g>\n",
       "    </g>\n",
       "    <g id=\"ytick_8\">\n",
       "     <g id=\"line2d_26\">\n",
       "      <g>\n",
       "       <use style=\"stroke:#000000;stroke-width:0.8;\" x=\"394.363636\" xlink:href=\"#m656ba13641\" y=\"161.4\"/>\n",
       "      </g>\n",
       "     </g>\n",
       "     <g id=\"text_25\">\n",
       "      <!-- 0.4 -->\n",
       "      <g transform=\"translate(371.460511 165.199219)scale(0.1 -0.1)\">\n",
       "       <use xlink:href=\"#DejaVuSans-30\"/>\n",
       "       <use x=\"63.623047\" xlink:href=\"#DejaVuSans-2e\"/>\n",
       "       <use x=\"95.410156\" xlink:href=\"#DejaVuSans-34\"/>\n",
       "      </g>\n",
       "     </g>\n",
       "    </g>\n",
       "    <g id=\"ytick_9\">\n",
       "     <g id=\"line2d_27\">\n",
       "      <g>\n",
       "       <use style=\"stroke:#000000;stroke-width:0.8;\" x=\"394.363636\" xlink:href=\"#m656ba13641\" y=\"125.16\"/>\n",
       "      </g>\n",
       "     </g>\n",
       "     <g id=\"text_26\">\n",
       "      <!-- 0.6 -->\n",
       "      <g transform=\"translate(371.460511 128.959219)scale(0.1 -0.1)\">\n",
       "       <use xlink:href=\"#DejaVuSans-30\"/>\n",
       "       <use x=\"63.623047\" xlink:href=\"#DejaVuSans-2e\"/>\n",
       "       <use x=\"95.410156\" xlink:href=\"#DejaVuSans-36\"/>\n",
       "      </g>\n",
       "     </g>\n",
       "    </g>\n",
       "    <g id=\"ytick_10\">\n",
       "     <g id=\"line2d_28\">\n",
       "      <g>\n",
       "       <use style=\"stroke:#000000;stroke-width:0.8;\" x=\"394.363636\" xlink:href=\"#m656ba13641\" y=\"88.92\"/>\n",
       "      </g>\n",
       "     </g>\n",
       "     <g id=\"text_27\">\n",
       "      <!-- 0.8 -->\n",
       "      <g transform=\"translate(371.460511 92.719219)scale(0.1 -0.1)\">\n",
       "       <use xlink:href=\"#DejaVuSans-30\"/>\n",
       "       <use x=\"63.623047\" xlink:href=\"#DejaVuSans-2e\"/>\n",
       "       <use x=\"95.410156\" xlink:href=\"#DejaVuSans-38\"/>\n",
       "      </g>\n",
       "     </g>\n",
       "    </g>\n",
       "    <g id=\"ytick_11\">\n",
       "     <g id=\"line2d_29\">\n",
       "      <g>\n",
       "       <use style=\"stroke:#000000;stroke-width:0.8;\" x=\"394.363636\" xlink:href=\"#m656ba13641\" y=\"52.68\"/>\n",
       "      </g>\n",
       "     </g>\n",
       "     <g id=\"text_28\">\n",
       "      <!-- 1.0 -->\n",
       "      <g transform=\"translate(371.460511 56.479219)scale(0.1 -0.1)\">\n",
       "       <use xlink:href=\"#DejaVuSans-31\"/>\n",
       "       <use x=\"63.623047\" xlink:href=\"#DejaVuSans-2e\"/>\n",
       "       <use x=\"95.410156\" xlink:href=\"#DejaVuSans-30\"/>\n",
       "      </g>\n",
       "     </g>\n",
       "    </g>\n",
       "   </g>\n",
       "   <g id=\"line2d_30\">\n",
       "    <path clip-path=\"url(#pf806041da0)\" d=\"M 405.892562 216.087886  L 428.950413 76.046171  L 452.008264 60.2904  L 475.066116 58.064229  L 498.123967 56.994286  L 521.181818 56.148686  L 544.239669 55.389371  L 567.297521 54.9752  L 590.355372 54.647314  L 613.413223 54.233143  L 636.471074 54.215886  \" style=\"fill:none;stroke:#1f77b4;stroke-linecap:square;stroke-width:1.5;\"/>\n",
       "   </g>\n",
       "   <g id=\"line2d_31\">\n",
       "    <path clip-path=\"url(#pf806041da0)\" d=\"M 405.892562 216.691886  L 428.950413 79.238743  L 452.008264 68.988  L 475.066116 58.426629  L 498.123967 56.873486  L 521.181818 56.821714  L 544.239669 56.096914  L 567.297521 58.426629  L 590.355372 55.9416  L 613.413223 55.9416  L 636.471074 56.821714  \" style=\"fill:none;stroke:#ff7f0e;stroke-linecap:square;stroke-width:1.5;\"/>\n",
       "   </g>\n",
       "   <g id=\"patch_9\">\n",
       "    <path d=\"M 394.363636 252  L 394.363636 34.56  \" style=\"fill:none;stroke:#000000;stroke-linecap:square;stroke-linejoin:miter;stroke-width:0.8;\"/>\n",
       "   </g>\n",
       "   <g id=\"patch_10\">\n",
       "    <path d=\"M 648 252  L 648 34.56  \" style=\"fill:none;stroke:#000000;stroke-linecap:square;stroke-linejoin:miter;stroke-width:0.8;\"/>\n",
       "   </g>\n",
       "   <g id=\"patch_11\">\n",
       "    <path d=\"M 394.363636 252  L 648 252  \" style=\"fill:none;stroke:#000000;stroke-linecap:square;stroke-linejoin:miter;stroke-width:0.8;\"/>\n",
       "   </g>\n",
       "   <g id=\"patch_12\">\n",
       "    <path d=\"M 394.363636 34.56  L 648 34.56  \" style=\"fill:none;stroke:#000000;stroke-linecap:square;stroke-linejoin:miter;stroke-width:0.8;\"/>\n",
       "   </g>\n",
       "   <g id=\"text_29\">\n",
       "    <!-- MNIST_CNN: Accuracy -->\n",
       "    <defs>\n",
       "     <path d=\"M 34.1875 63.1875  L 20.796875 26.90625  L 47.609375 26.90625  z M 28.609375 72.90625  L 39.796875 72.90625  L 67.578125 0  L 57.328125 0  L 50.6875 18.703125  L 17.828125 18.703125  L 11.1875 0  L 0.78125 0  z \" id=\"DejaVuSans-41\"/>\n",
       "     <path d=\"M 8.5 21.578125  L 8.5 54.6875  L 17.484375 54.6875  L 17.484375 21.921875  Q 17.484375 14.15625 20.5 10.265625  Q 23.53125 6.390625 29.59375 6.390625  Q 36.859375 6.390625 41.078125 11.03125  Q 45.3125 15.671875 45.3125 23.6875  L 45.3125 54.6875  L 54.296875 54.6875  L 54.296875 0  L 45.3125 0  L 45.3125 8.40625  Q 42.046875 3.421875 37.71875 1  Q 33.40625 -1.421875 27.6875 -1.421875  Q 18.265625 -1.421875 13.375 4.4375  Q 8.5 10.296875 8.5 21.578125  z M 31.109375 56  z \" id=\"DejaVuSans-75\"/>\n",
       "     <path d=\"M 32.171875 -5.078125  Q 28.375 -14.84375 24.75 -17.8125  Q 21.140625 -20.796875 15.09375 -20.796875  L 7.90625 -20.796875  L 7.90625 -13.28125  L 13.1875 -13.28125  Q 16.890625 -13.28125 18.9375 -11.515625  Q 21 -9.765625 23.484375 -3.21875  L 25.09375 0.875  L 2.984375 54.6875  L 12.5 54.6875  L 29.59375 11.921875  L 46.6875 54.6875  L 56.203125 54.6875  z \" id=\"DejaVuSans-79\"/>\n",
       "    </defs>\n",
       "    <g transform=\"translate(454.679318 28.56)scale(0.12 -0.12)\">\n",
       "     <use xlink:href=\"#DejaVuSans-4d\"/>\n",
       "     <use x=\"86.279297\" xlink:href=\"#DejaVuSans-4e\"/>\n",
       "     <use x=\"161.083984\" xlink:href=\"#DejaVuSans-49\"/>\n",
       "     <use x=\"190.576172\" xlink:href=\"#DejaVuSans-53\"/>\n",
       "     <use x=\"254.052734\" xlink:href=\"#DejaVuSans-54\"/>\n",
       "     <use x=\"315.136719\" xlink:href=\"#DejaVuSans-5f\"/>\n",
       "     <use x=\"365.136719\" xlink:href=\"#DejaVuSans-43\"/>\n",
       "     <use x=\"434.960938\" xlink:href=\"#DejaVuSans-4e\"/>\n",
       "     <use x=\"509.765625\" xlink:href=\"#DejaVuSans-4e\"/>\n",
       "     <use x=\"584.570312\" xlink:href=\"#DejaVuSans-3a\"/>\n",
       "     <use x=\"618.261719\" xlink:href=\"#DejaVuSans-20\"/>\n",
       "     <use x=\"650.048828\" xlink:href=\"#DejaVuSans-41\"/>\n",
       "     <use x=\"718.441406\" xlink:href=\"#DejaVuSans-63\"/>\n",
       "     <use x=\"773.421875\" xlink:href=\"#DejaVuSans-63\"/>\n",
       "     <use x=\"828.402344\" xlink:href=\"#DejaVuSans-75\"/>\n",
       "     <use x=\"891.78125\" xlink:href=\"#DejaVuSans-72\"/>\n",
       "     <use x=\"932.894531\" xlink:href=\"#DejaVuSans-61\"/>\n",
       "     <use x=\"994.173828\" xlink:href=\"#DejaVuSans-63\"/>\n",
       "     <use x=\"1049.154297\" xlink:href=\"#DejaVuSans-79\"/>\n",
       "    </g>\n",
       "   </g>\n",
       "   <g id=\"legend_2\">\n",
       "    <g id=\"patch_13\">\n",
       "     <path d=\"M 540.39375 247  L 641 247  Q 643 247 643 245  L 643 216.64375  Q 643 214.64375 641 214.64375  L 540.39375 214.64375  Q 538.39375 214.64375 538.39375 216.64375  L 538.39375 245  Q 538.39375 247 540.39375 247  z \" style=\"fill:#ffffff;opacity:0.8;stroke:#cccccc;stroke-linejoin:miter;\"/>\n",
       "    </g>\n",
       "    <g id=\"line2d_32\">\n",
       "     <path d=\"M 542.39375 222.742188  L 562.39375 222.742188  \" style=\"fill:none;stroke:#1f77b4;stroke-linecap:square;stroke-width:1.5;\"/>\n",
       "    </g>\n",
       "    <g id=\"line2d_33\"/>\n",
       "    <g id=\"text_30\">\n",
       "     <!-- Training set -->\n",
       "     <g transform=\"translate(570.39375 226.242188)scale(0.1 -0.1)\">\n",
       "      <use xlink:href=\"#DejaVuSans-54\"/>\n",
       "      <use x=\"60.865234\" xlink:href=\"#DejaVuSans-72\"/>\n",
       "      <use x=\"101.978516\" xlink:href=\"#DejaVuSans-61\"/>\n",
       "      <use x=\"163.257812\" xlink:href=\"#DejaVuSans-69\"/>\n",
       "      <use x=\"191.041016\" xlink:href=\"#DejaVuSans-6e\"/>\n",
       "      <use x=\"254.419922\" xlink:href=\"#DejaVuSans-69\"/>\n",
       "      <use x=\"282.203125\" xlink:href=\"#DejaVuSans-6e\"/>\n",
       "      <use x=\"345.582031\" xlink:href=\"#DejaVuSans-67\"/>\n",
       "      <use x=\"409.058594\" xlink:href=\"#DejaVuSans-20\"/>\n",
       "      <use x=\"440.845703\" xlink:href=\"#DejaVuSans-73\"/>\n",
       "      <use x=\"492.945312\" xlink:href=\"#DejaVuSans-65\"/>\n",
       "      <use x=\"554.46875\" xlink:href=\"#DejaVuSans-74\"/>\n",
       "     </g>\n",
       "    </g>\n",
       "    <g id=\"line2d_34\">\n",
       "     <path d=\"M 542.39375 237.420312  L 562.39375 237.420312  \" style=\"fill:none;stroke:#ff7f0e;stroke-linecap:square;stroke-width:1.5;\"/>\n",
       "    </g>\n",
       "    <g id=\"line2d_35\"/>\n",
       "    <g id=\"text_31\">\n",
       "     <!-- Validation set -->\n",
       "     <g transform=\"translate(570.39375 240.920312)scale(0.1 -0.1)\">\n",
       "      <use xlink:href=\"#DejaVuSans-56\"/>\n",
       "      <use x=\"68.298828\" xlink:href=\"#DejaVuSans-61\"/>\n",
       "      <use x=\"129.578125\" xlink:href=\"#DejaVuSans-6c\"/>\n",
       "      <use x=\"157.361328\" xlink:href=\"#DejaVuSans-69\"/>\n",
       "      <use x=\"185.144531\" xlink:href=\"#DejaVuSans-64\"/>\n",
       "      <use x=\"248.621094\" xlink:href=\"#DejaVuSans-61\"/>\n",
       "      <use x=\"309.900391\" xlink:href=\"#DejaVuSans-74\"/>\n",
       "      <use x=\"349.109375\" xlink:href=\"#DejaVuSans-69\"/>\n",
       "      <use x=\"376.892578\" xlink:href=\"#DejaVuSans-6f\"/>\n",
       "      <use x=\"438.074219\" xlink:href=\"#DejaVuSans-6e\"/>\n",
       "      <use x=\"501.453125\" xlink:href=\"#DejaVuSans-20\"/>\n",
       "      <use x=\"533.240234\" xlink:href=\"#DejaVuSans-73\"/>\n",
       "      <use x=\"585.339844\" xlink:href=\"#DejaVuSans-65\"/>\n",
       "      <use x=\"646.863281\" xlink:href=\"#DejaVuSans-74\"/>\n",
       "     </g>\n",
       "    </g>\n",
       "   </g>\n",
       "  </g>\n",
       " </g>\n",
       " <defs>\n",
       "  <clipPath id=\"p4aa4eb938a\">\n",
       "   <rect height=\"217.44\" width=\"253.636364\" x=\"90\" y=\"34.56\"/>\n",
       "  </clipPath>\n",
       "  <clipPath id=\"pf806041da0\">\n",
       "   <rect height=\"217.44\" width=\"253.636364\" x=\"394.363636\" y=\"34.56\"/>\n",
       "  </clipPath>\n",
       " </defs>\n",
       "</svg>"
      ],
      "text/plain": [
       "<IPython.core.display.SVG object>"
      ]
     },
     "metadata": {},
     "output_type": "display_data"
    },
    {
     "name": "stdout",
     "output_type": "stream",
     "text": [
      "========================================================\n",
      "       |  Training |  Training |  Validate |  Validate \n",
      "Epochs |     Error |  Accuracy |     Error |  Accuracy \n",
      "------ | --------- | --------- | --------- | --------- \n",
      "#   10 |   0.02595 |   0.99152 |   0.06573 |   0.97714 \n"
     ]
    }
   ],
   "source": [
    "cnn.reset()\n",
    "cnn.train(epochs=10)"
   ]
  },
  {
   "cell_type": "markdown",
   "metadata": {},
   "source": [
    "Now let's take a look at which test inputs the network got wrong."
   ]
  },
  {
   "cell_type": "code",
   "execution_count": 45,
   "metadata": {},
   "outputs": [],
   "source": [
    "results = [cnn.propagate(img) for img in cnn.dataset.test_inputs]\n",
    "classifications = [cx.argmax(r) for r in results]\n",
    "correct_answers = [cx.argmax(t) for t in cnn.dataset.test_targets]"
   ]
  },
  {
   "cell_type": "code",
   "execution_count": 46,
   "metadata": {},
   "outputs": [],
   "source": [
    "wrong = [i for i in range(len(classifications)) if classifications[i] != correct_answers[i]]"
   ]
  },
  {
   "cell_type": "code",
   "execution_count": 47,
   "metadata": {},
   "outputs": [
    {
     "name": "stdout",
     "output_type": "stream",
     "text": [
      "Network classified the following 80 test inputs incorrectly:\n",
      "[246, 300, 352, 384, 438, 444, 482, 484, 486, 492, 539, 544, 604, 710, 745, 1001, 1034, 1077, 1100, 1119, 1139, 1147, 1157, 1189, 1205, 1247, 1267, 1277, 1281, 1330, 1353, 1385, 1449, 1500, 1565, 1653, 1683, 1684, 1706, 1773, 1777, 1805, 1916, 1953, 2059, 2085, 2151, 2155, 2178, 2179, 2292, 2330, 2332, 2436, 2470, 2486, 2512, 2518, 2593, 2627, 2649, 2653, 2684, 2685, 2691, 2743, 2776, 2876, 2910, 3008, 3026, 3151, 3162, 3180, 3191, 3203, 3260, 3354, 3420, 3469]\n"
     ]
    }
   ],
   "source": [
    "print('Network classified the following', len(wrong), 'test inputs incorrectly:')\n",
    "print(wrong)"
   ]
  },
  {
   "cell_type": "markdown",
   "metadata": {},
   "source": [
    "Let's take a look at some of the incorrect classifications.  For clarity, we will label each of the misclassified images with the network's (wrong) answer."
   ]
  },
  {
   "cell_type": "code",
   "execution_count": 48,
   "metadata": {},
   "outputs": [
    {
     "data": {
      "image/png": "[encoded data removed]",
      "text/plain": [
       "<matplotlib.figure.Figure at 0x11f8dc2b0>"
      ]
     },
     "metadata": {},
     "output_type": "display_data"
    },
    {
     "name": "stderr",
     "output_type": "stream",
     "text": [
      "WARNING: could not view all images with layout (3, 10)\n"
     ]
    }
   ],
   "source": [
    "misclassifications = [classifications[i] for i in wrong]\n",
    "cx.view(cnn.dataset.test_inputs[wrong], labels=misclassifications, layout=(3,10), spacing=0.5)"
   ]
  }
 ],
 "metadata": {
  "kernelspec": {
   "display_name": "Python 3",
   "language": "python",
   "name": "python3"
  },
  "language_info": {
   "codemirror_mode": {
    "name": "ipython",
    "version": 3
   },
   "file_extension": ".py",
   "mimetype": "text/x-python",
   "name": "python",
   "nbconvert_exporter": "python",
   "pygments_lexer": "ipython3",
   "version": "3.5.3"
  },
  "widgets": {
   "application/vnd.jupyter.widget-state+json": {
    "state": {
     "00655d5c7d7543a093acc1386bc58bfc": {
      "model_module": "@jupyter-widgets/controls",
      "model_module_version": "1.1.0",
      "model_name": "CheckboxModel",
      "state": {
       "description": "Visible",
       "disabled": false,
       "layout": "IPY_MODEL_4abd863981614d23a1f58a2d7afee81b",
       "style": "IPY_MODEL_c42e30bc216d430bb9e2a7219f5e7680",
       "value": true
      }
     },
     "043413b631494bd68615947881d61d2e": {
      "model_module": "@jupyter-widgets/base",
      "model_module_version": "1.0.0",
      "model_name": "LayoutModel",
      "state": {
       "width": "100%"
      }
     },
     "04c4eea96c52458696b1ad75ac206326": {
      "model_module": "@jupyter-widgets/controls",
      "model_module_version": "1.1.0",
      "model_name": "IntTextModel",
      "state": {
       "description": "Vertical space between layers:",
       "layout": "IPY_MODEL_4abd863981614d23a1f58a2d7afee81b",
       "step": 1,
       "style": "IPY_MODEL_e93d1e19185f4d51855c915783ce727e",
       "value": 30
      }
     },
     "05d530e1064440c897428b5977e291f8": {
      "model_module": "@jupyter-widgets/controls",
      "model_module_version": "1.1.0",
      "model_name": "SelectModel",
      "state": {
       "_options_labels": [
        "input",
        "conv2D_1",
        "maxpool1",
        "conv2D_2",
        "maxpool2",
        "flat",
        "hidden",
        "output"
       ],
       "description": "Layer:",
       "index": 7,
       "layout": "IPY_MODEL_0914ac257c3e40af9fece9a5f5797cc5",
       "rows": 1,
       "style": "IPY_MODEL_df04c6f239db4d4093ca5093d0041f2b"
      }
     },
     "0601860cf27a482eac2df6cb2700877e": {
      "model_module": "@jupyter-widgets/controls",
      "model_module_version": "1.1.0",
      "model_name": "FloatTextModel",
      "state": {
       "description": "Leftmost color maps to:",
       "layout": "IPY_MODEL_41f900d4e1284017ae08d5d2951bc87f",
       "step": null,
       "style": "IPY_MODEL_5ca228d51650406ebae3f2f5edaa86b9"
      }
     },
     "063180b955d8432b878d04df2d7bb248": {
      "model_module": "@jupyter-widgets/controls",
      "model_module_version": "1.1.0",
      "model_name": "ButtonStyleModel",
      "state": {}
     },
     "068b05fd7a334adf998cebe4648b15db": {
      "model_module": "@jupyter-widgets/controls",
      "model_module_version": "1.1.0",
      "model_name": "DescriptionStyleModel",
      "state": {
       "description_width": ""
      }
     },
     "06eb29e854964b74be375af958c077a8": {
      "model_module": "@jupyter-widgets/output",
      "model_module_version": "1.0.0",
      "model_name": "OutputModel",
      "state": {
       "layout": "IPY_MODEL_c491050fa35b4a7080cccfb7997a06a8"
      }
     },
     "07e4267cfeee4f25b6105ddb607f6b5b": {
      "model_module": "@jupyter-widgets/controls",
      "model_module_version": "1.1.0",
      "model_name": "ButtonModel",
      "state": {
       "icon": "fast-backward",
       "layout": "IPY_MODEL_549b5bb310ab4427a7b49a26d970dcd6",
       "style": "IPY_MODEL_44479e0eb79248c88c8e808e580cb5a4"
      }
     },
     "08e299bb37f6486893b92c3022e8b387": {
      "model_module": "@jupyter-widgets/controls",
      "model_module_version": "1.1.0",
      "model_name": "IntTextModel",
      "state": {
       "description": "Horizontal space between banks:",
       "layout": "IPY_MODEL_4abd863981614d23a1f58a2d7afee81b",
       "step": 1,
       "style": "IPY_MODEL_bdb737e09ddc45dfab17446fa97d70a5",
       "value": 150
      }
     },
     "0914ac257c3e40af9fece9a5f5797cc5": {
      "model_module": "@jupyter-widgets/base",
      "model_module_version": "1.0.0",
      "model_name": "LayoutModel",
      "state": {}
     },
     "0ac8e71fdd374617b22ebf533a539298": {
      "model_module": "@jupyter-widgets/controls",
      "model_module_version": "1.1.0",
      "model_name": "VBoxModel",
      "state": {
       "children": [
        "IPY_MODEL_88685321e14746fdb0cf4be55bd73b80",
        "IPY_MODEL_a0a44c45d5ce410fa52aa336d676ac3f",
        "IPY_MODEL_60537664c97644e48dd849e697e7e866",
        "IPY_MODEL_395a3d3c39e44b50bfcca9209659df94",
        "IPY_MODEL_0dc5183a45b046f989320a316eba5144",
        "IPY_MODEL_69267bb2336d49e08fd920c9aabd8872",
        "IPY_MODEL_c91b95bfac56436fbf28ddfa59ce6ba5",
        "IPY_MODEL_5934c64e544c4130809fab69a86f7fd9"
       ],
       "layout": "IPY_MODEL_a492a2e84f42465980d644880bdf1ac4"
      }
     },
     "0d11b6520acc4082b0d7831860dac205": {
      "model_module": "@jupyter-widgets/base",
      "model_module_version": "1.0.0",
      "model_name": "LayoutModel",
      "state": {}
     },
     "0dc5183a45b046f989320a316eba5144": {
      "model_module": "@jupyter-widgets/controls",
      "model_module_version": "1.1.0",
      "model_name": "FloatTextModel",
      "state": {
       "description": "Leftmost color maps to:",
       "layout": "IPY_MODEL_f01ea180c26d40939c3bbe393baf2498",
       "step": null,
       "style": "IPY_MODEL_5dc9914d5cad45d985c5ec8f344ec8a8",
       "value": -1
      }
     },
     "1141b932a2f446c2b9918f5e371ec3cc": {
      "model_module": "@jupyter-widgets/base",
      "model_module_version": "1.0.0",
      "model_name": "LayoutModel",
      "state": {
       "width": "100%"
      }
     },
     "11881b43378f4af0b27f0e9d792bb6b7": {
      "model_module": "@jupyter-widgets/controls",
      "model_module_version": "1.1.0",
      "model_name": "DescriptionStyleModel",
      "state": {
       "description_width": "initial"
      }
     },
     "128108c5be254fd99c83490cd35dbdbe": {
      "model_module": "@jupyter-widgets/base",
      "model_module_version": "1.0.0",
      "model_name": "LayoutModel",
      "state": {}
     },
     "12cd389eba7e41b78e56eb5ebaf0757f": {
      "model_module": "@jupyter-widgets/controls",
      "model_module_version": "1.1.0",
      "model_name": "ButtonStyleModel",
      "state": {}
     },
     "132dc5fde3b4481fbcd88998abd2a095": {
      "model_module": "@jupyter-widgets/controls",
      "model_module_version": "1.1.0",
      "model_name": "DescriptionStyleModel",
      "state": {
       "description_width": ""
      }
     },
     "142eee6ee5b14878b920456df684217a": {
      "model_module": "@jupyter-widgets/controls",
      "model_module_version": "1.1.0",
      "model_name": "DescriptionStyleModel",
      "state": {
       "description_width": "initial"
      }
     },
     "14fb3ff6e34d43d486f55cd113a30752": {
      "model_module": "@jupyter-widgets/output",
      "model_module_version": "1.0.0",
      "model_name": "OutputModel",
      "state": {
       "layout": "IPY_MODEL_8ba527646d9d4ac0adfc46115114e01a"
      }
     },
     "155abf790fa94f15ac1e625b7a7f7fc1": {
      "model_module": "@jupyter-widgets/controls",
      "model_module_version": "1.1.0",
      "model_name": "ButtonModel",
      "state": {
       "icon": "fast-backward",
       "layout": "IPY_MODEL_fcbb165ebd8447308c4e9d792ceb2279",
       "style": "IPY_MODEL_1740eb90b88a47aa9c7c05eba2a3317b"
      }
     },
     "1740eb90b88a47aa9c7c05eba2a3317b": {
      "model_module": "@jupyter-widgets/controls",
      "model_module_version": "1.1.0",
      "model_name": "ButtonStyleModel",
      "state": {}
     },
     "19121657e4ec419c9a4f3d0272ff1c54": {
      "model_module": "@jupyter-widgets/controls",
      "model_module_version": "1.1.0",
      "model_name": "ButtonStyleModel",
      "state": {}
     },
     "1c360ccbf295407d95685b3c4ace37fc": {
      "model_module": "@jupyter-widgets/base",
      "model_module_version": "1.0.0",
      "model_name": "LayoutModel",
      "state": {
       "justify_content": "center",
       "overflow_x": "auto",
       "overflow_y": "auto",
       "width": "95%"
      }
     },
     "1cc273f9f453403f813195f64e63fd8e": {
      "model_module": "@jupyter-widgets/controls",
      "model_module_version": "1.1.0",
      "model_name": "CheckboxModel",
      "state": {
       "description": "Rotate",
       "disabled": false,
       "layout": "IPY_MODEL_4abd863981614d23a1f58a2d7afee81b",
       "style": "IPY_MODEL_6e6346425518498b9dec34596f3512df",
       "value": true
      }
     },
     "1d18a5abd235443294bb3bb470a92339": {
      "model_module": "@jupyter-widgets/controls",
      "model_module_version": "1.1.0",
      "model_name": "ButtonStyleModel",
      "state": {}
     },
     "1e7e002bf27c4085b2cffc8b872afcdb": {
      "model_module": "@jupyter-widgets/controls",
      "model_module_version": "1.1.0",
      "model_name": "DescriptionStyleModel",
      "state": {
       "description_width": "initial"
      }
     },
     "2042c10153da426bbbe5dc65107f7f96": {
      "model_module": "@jupyter-widgets/controls",
      "model_module_version": "1.1.0",
      "model_name": "ButtonStyleModel",
      "state": {}
     },
     "20b3469b741d4e8db1f11b2d79b3823c": {
      "model_module": "@jupyter-widgets/controls",
      "model_module_version": "1.1.0",
      "model_name": "CheckboxModel",
      "state": {
       "description": "Rotate network",
       "disabled": false,
       "layout": "IPY_MODEL_950dbfb5b8f54737b1352e4e1c6675d4",
       "style": "IPY_MODEL_3aeb63a7352e420681e0b6cbf30453a7",
       "value": true
      }
     },
     "20d5ce49c9294800a2d0855f4a536b15": {
      "model_module": "@jupyter-widgets/base",
      "model_module_version": "1.0.0",
      "model_name": "LayoutModel",
      "state": {}
     },
     "22ac5e00b8844c9eb58674f46813f260": {
      "model_module": "@jupyter-widgets/controls",
      "model_module_version": "1.1.0",
      "model_name": "SelectModel",
      "state": {
       "_options_labels": [
        "",
        "input"
       ],
       "description": "Features:",
       "index": 0,
       "layout": "IPY_MODEL_fc5068a81cba47e494b1cce7b60f6fb3",
       "rows": 1,
       "style": "IPY_MODEL_af22e8fa11db4baba172d6a0e8416871"
      }
     },
     "22e20825e12f4f88b9e042ecaf2c444b": {
      "model_module": "@jupyter-widgets/controls",
      "model_module_version": "1.1.0",
      "model_name": "IntTextModel",
      "state": {
       "description": "Horizontal space between banks:",
       "layout": "IPY_MODEL_c6613434354a4757a1e313434f827014",
       "step": 1,
       "style": "IPY_MODEL_d7d346a3743042b9ada4c9b9c5bd852b",
       "value": 150
      }
     },
     "23331640fa3a4fc7b917a9e5242756dc": {
      "model_module": "@jupyter-widgets/controls",
      "model_module_version": "1.1.0",
      "model_name": "DescriptionStyleModel",
      "state": {
       "description_width": ""
      }
     },
     "23c54cb4f14e40458fea330a4e91f53f": {
      "model_module": "@jupyter-widgets/controls",
      "model_module_version": "1.1.0",
      "model_name": "HBoxModel",
      "state": {
       "children": [
        "IPY_MODEL_5555567abe17459a9e5d35c21e58ad20",
        "IPY_MODEL_0ac8e71fdd374617b22ebf533a539298"
       ],
       "layout": "IPY_MODEL_a2619df2cf4e441e846c217c1882c5c3"
      }
     },
     "25076ba8854545a0ba9c11187b490fe3": {
      "model_module": "@jupyter-widgets/controls",
      "model_module_version": "1.1.0",
      "model_name": "DescriptionStyleModel",
      "state": {
       "description_width": "initial"
      }
     },
     "252d495d943d4cc6bdcd81abac91e0b2": {
      "model_module": "@jupyter-widgets/controls",
      "model_module_version": "1.1.0",
      "model_name": "SliderStyleModel",
      "state": {
       "description_width": "initial"
      }
     },
     "2867e287b744415c8b33458ccc262f3e": {
      "model_module": "@jupyter-widgets/base",
      "model_module_version": "1.0.0",
      "model_name": "LayoutModel",
      "state": {}
     },
     "287b771a1c9645adbf59beaf21c21346": {
      "model_module": "@jupyter-widgets/controls",
      "model_module_version": "1.1.0",
      "model_name": "IntTextModel",
      "state": {
       "layout": "IPY_MODEL_6621dba9967248f0935697e6beec4ccb",
       "step": 1,
       "style": "IPY_MODEL_72b9e5907d62434fb5b6ae9172ba1a4b"
      }
     },
     "2b2f4a72739f4ffab5bf9687255492ff": {
      "model_module": "@jupyter-widgets/controls",
      "model_module_version": "1.1.0",
      "model_name": "SelectModel",
      "state": {
       "_options_labels": [
        "Test",
        "Train"
       ],
       "description": "Dataset:",
       "index": 1,
       "layout": "IPY_MODEL_d44765ca714b4127ba3af1a3975325fb",
       "rows": 1,
       "style": "IPY_MODEL_e9753c0b73cb4e8988c7518ea09906ad"
      }
     },
     "2c55c573f011406f956c72733c7d232d": {
      "model_module": "@jupyter-widgets/controls",
      "model_module_version": "1.1.0",
      "model_name": "ButtonModel",
      "state": {
       "description": "Play",
       "icon": "play",
       "layout": "IPY_MODEL_d4edf50a74814c1dbf470b954de56dd2",
       "style": "IPY_MODEL_62715489493149f09060af87dfba9d28"
      }
     },
     "2c8339416e804df3b9977ea94c9f2f04": {
      "model_module": "@jupyter-widgets/base",
      "model_module_version": "1.0.0",
      "model_name": "LayoutModel",
      "state": {
       "width": "100%"
      }
     },
     "2dde6827b6aa485c859fbb6f57a85cb7": {
      "model_module": "@jupyter-widgets/controls",
      "model_module_version": "1.1.0",
      "model_name": "ButtonModel",
      "state": {
       "description": "Play",
       "icon": "play",
       "layout": "IPY_MODEL_db22ae94397748d2a80b96a3e0b4a72e",
       "style": "IPY_MODEL_1d18a5abd235443294bb3bb470a92339"
      }
     },
     "2ea0642777e64a9d8c5bcf052f6c295c": {
      "model_module": "@jupyter-widgets/controls",
      "model_module_version": "1.1.0",
      "model_name": "DescriptionStyleModel",
      "state": {
       "description_width": ""
      }
     },
     "2f68ed37868b4441b90690fc646a4d94": {
      "model_module": "@jupyter-widgets/controls",
      "model_module_version": "1.1.0",
      "model_name": "IntTextModel",
      "state": {
       "description": "Feature columns:",
       "layout": "IPY_MODEL_5799c02a520b4f68be51aea5087eaf03",
       "step": 1,
       "style": "IPY_MODEL_7a53ca8dda4c4c6099df253438a9b138",
       "value": 8
      }
     },
     "2f7e357542504ac2b43d20714c06862f": {
      "model_module": "@jupyter-widgets/base",
      "model_module_version": "1.0.0",
      "model_name": "LayoutModel",
      "state": {}
     },
     "33241488c7814817917750c212dc159f": {
      "model_module": "@jupyter-widgets/base",
      "model_module_version": "1.0.0",
      "model_name": "LayoutModel",
      "state": {}
     },
     "343ebdc05f1f43bfaeaddcaf1e4255e6": {
      "model_module": "@jupyter-widgets/controls",
      "model_module_version": "1.1.0",
      "model_name": "IntTextModel",
      "state": {
       "description": "Feature columns:",
       "layout": "IPY_MODEL_5a9c9b9ff5f24580b0a25b2ebb4fabb2",
       "step": 1,
       "style": "IPY_MODEL_740a2eaa6a3e4897b6e05a4fcfa25827",
       "value": 3
      }
     },
     "395a3d3c39e44b50bfcca9209659df94": {
      "model_module": "@jupyter-widgets/controls",
      "model_module_version": "1.1.0",
      "model_name": "HTMLModel",
      "state": {
       "layout": "IPY_MODEL_514d229d87e94dc494447449a34833a5",
       "style": "IPY_MODEL_23331640fa3a4fc7b917a9e5242756dc",
       "value": "<img src=\"data:image/gif;base64,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\"/>"
      }
     },
     "395c494081084350bf6883e93d619d14": {
      "model_module": "@jupyter-widgets/controls",
      "model_module_version": "1.1.0",
      "model_name": "IntTextModel",
      "state": {
       "layout": "IPY_MODEL_54d09d31f8ea4715afadef23d7130b38",
       "step": 1,
       "style": "IPY_MODEL_068b05fd7a334adf998cebe4648b15db"
      }
     },
     "3aeb63a7352e420681e0b6cbf30453a7": {
      "model_module": "@jupyter-widgets/controls",
      "model_module_version": "1.1.0",
      "model_name": "DescriptionStyleModel",
      "state": {
       "description_width": "initial"
      }
     },
     "4071ae1382af4cce8f1fa59ac3e7b493": {
      "model_module": "@jupyter-widgets/controls",
      "model_module_version": "1.1.0",
      "model_name": "FloatSliderModel",
      "state": {
       "continuous_update": false,
       "description": "Zoom",
       "layout": "IPY_MODEL_85f1474362c8485b9662ed5d595e3ca2",
       "max": 1,
       "step": 0.1,
       "style": "IPY_MODEL_252d495d943d4cc6bdcd81abac91e0b2",
       "value": 0.6
      }
     },
     "41acb8ca1cb54fb3ae0a6f5252b3a089": {
      "model_module": "@jupyter-widgets/controls",
      "model_module_version": "1.1.0",
      "model_name": "ButtonModel",
      "state": {
       "icon": "fast-forward",
       "layout": "IPY_MODEL_da7af56aa51c4a8eb2cb54b1dbda0f97",
       "style": "IPY_MODEL_7f2a2bba14d1490dab760472ab7a6a47"
      }
     },
     "41f900d4e1284017ae08d5d2951bc87f": {
      "model_module": "@jupyter-widgets/base",
      "model_module_version": "1.0.0",
      "model_name": "LayoutModel",
      "state": {}
     },
     "42320c46704b42d998a3270100845179": {
      "model_module": "@jupyter-widgets/controls",
      "model_module_version": "1.1.0",
      "model_name": "DescriptionStyleModel",
      "state": {
       "description_width": ""
      }
     },
     "42b76a9566a640dab6c2428da81f0097": {
      "model_module": "@jupyter-widgets/base",
      "model_module_version": "1.0.0",
      "model_name": "LayoutModel",
      "state": {}
     },
     "431491621a334a60a2c0ac79f8294cd5": {
      "model_module": "@jupyter-widgets/controls",
      "model_module_version": "1.1.0",
      "model_name": "SliderStyleModel",
      "state": {
       "description_width": ""
      }
     },
     "434218473a424681b311c1098cd3858e": {
      "model_module": "@jupyter-widgets/base",
      "model_module_version": "1.0.0",
      "model_name": "LayoutModel",
      "state": {
       "height": "40px"
      }
     },
     "44479e0eb79248c88c8e808e580cb5a4": {
      "model_module": "@jupyter-widgets/controls",
      "model_module_version": "1.1.0",
      "model_name": "ButtonStyleModel",
      "state": {}
     },
     "47821b222f85410e93c20b0242ca46d0": {
      "model_module": "@jupyter-widgets/base",
      "model_module_version": "1.0.0",
      "model_name": "LayoutModel",
      "state": {}
     },
     "47f4e2447c384122842be98eb2d6dc48": {
      "model_module": "@jupyter-widgets/controls",
      "model_module_version": "1.1.0",
      "model_name": "DescriptionStyleModel",
      "state": {
       "description_width": ""
      }
     },
     "48ed1de8408c4b33b8f89826aea83e58": {
      "model_module": "@jupyter-widgets/base",
      "model_module_version": "1.0.0",
      "model_name": "LayoutModel",
      "state": {
       "width": "100%"
      }
     },
     "49533c9db9c642cfa6b03ef81ab25d59": {
      "model_module": "@jupyter-widgets/base",
      "model_module_version": "1.0.0",
      "model_name": "LayoutModel",
      "state": {
       "height": "50px",
       "width": "100%"
      }
     },
     "49ab44d39ea34a359cd9782cf5a46c76": {
      "model_module": "@jupyter-widgets/base",
      "model_module_version": "1.0.0",
      "model_name": "LayoutModel",
      "state": {}
     },
     "4abd863981614d23a1f58a2d7afee81b": {
      "model_module": "@jupyter-widgets/base",
      "model_module_version": "1.0.0",
      "model_name": "LayoutModel",
      "state": {}
     },
     "4b570d8c3e3f4e00966cd25a09d2f395": {
      "model_module": "@jupyter-widgets/controls",
      "model_module_version": "1.1.0",
      "model_name": "FloatTextModel",
      "state": {
       "description": "Rightmost color maps to:",
       "layout": "IPY_MODEL_49ab44d39ea34a359cd9782cf5a46c76",
       "step": null,
       "style": "IPY_MODEL_f4efe0cb32b647a1ad793b21380d7ee3",
       "value": 1
      }
     },
     "4cd4986a246b46a1a9f2033815cbcc13": {
      "model_module": "@jupyter-widgets/controls",
      "model_module_version": "1.1.0",
      "model_name": "CheckboxModel",
      "state": {
       "description": "Show Targets",
       "disabled": false,
       "layout": "IPY_MODEL_c6613434354a4757a1e313434f827014",
       "style": "IPY_MODEL_fcd17d7578644256b3427c4878d71786",
       "value": true
      }
     },
     "4e9771e652734daea22560f9aee2fc07": {
      "model_module": "@jupyter-widgets/base",
      "model_module_version": "1.0.0",
      "model_name": "LayoutModel",
      "state": {
       "width": "65%"
      }
     },
     "514d229d87e94dc494447449a34833a5": {
      "model_module": "@jupyter-widgets/base",
      "model_module_version": "1.0.0",
      "model_name": "LayoutModel",
      "state": {}
     },
     "533f014ad854489f8a558c9ff2a10cf7": {
      "model_module": "@jupyter-widgets/controls",
      "model_module_version": "1.1.0",
      "model_name": "ButtonModel",
      "state": {
       "icon": "backward",
       "layout": "IPY_MODEL_a4d4ceb5917e45db914785f98b752cc4",
       "style": "IPY_MODEL_2042c10153da426bbbe5dc65107f7f96"
      }
     },
     "549b5bb310ab4427a7b49a26d970dcd6": {
      "model_module": "@jupyter-widgets/base",
      "model_module_version": "1.0.0",
      "model_name": "LayoutModel",
      "state": {
       "width": "100%"
      }
     },
     "54b69a5065854bfc9e3456fc5c18bdb9": {
      "model_module": "@jupyter-widgets/controls",
      "model_module_version": "1.1.0",
      "model_name": "ButtonModel",
      "state": {
       "icon": "save",
       "layout": "IPY_MODEL_6bce55021eb34c5ba0c76a1c49a1705e",
       "style": "IPY_MODEL_b3a7320d36c34bbfafc0321e8e87c7bf"
      }
     },
     "54d09d31f8ea4715afadef23d7130b38": {
      "model_module": "@jupyter-widgets/base",
      "model_module_version": "1.0.0",
      "model_name": "LayoutModel",
      "state": {
       "width": "100%"
      }
     },
     "5555567abe17459a9e5d35c21e58ad20": {
      "model_module": "@jupyter-widgets/controls",
      "model_module_version": "1.1.0",
      "model_name": "VBoxModel",
      "state": {
       "children": [
        "IPY_MODEL_613073d402754d2d962328c8c78cd42e",
        "IPY_MODEL_4071ae1382af4cce8f1fa59ac3e7b493",
        "IPY_MODEL_22e20825e12f4f88b9e042ecaf2c444b",
        "IPY_MODEL_850ce45c94c14cd5a39d833c71f109a2",
        "IPY_MODEL_b0c282c29508432694cfe6223f33579c",
        "IPY_MODEL_22ac5e00b8844c9eb58674f46813f260",
        "IPY_MODEL_343ebdc05f1f43bfaeaddcaf1e4255e6",
        "IPY_MODEL_be306ceca1f24298943835ce15099b68"
       ],
       "layout": "IPY_MODEL_737c4886ffcf447d913b667123da685e"
      }
     },
     "55fc77e941e94ea88db4b592defd9f5c": {
      "model_module": "@jupyter-widgets/controls",
      "model_module_version": "1.1.0",
      "model_name": "HTMLModel",
      "state": {
       "layout": "IPY_MODEL_dd63fd368eff43ff86e776a3080edbd9",
       "style": "IPY_MODEL_b04079a3437a4877b54f9552364409b7",
       "value": "<p style=\"text-align:center\"><svg id='MNIST_MLP' xmlns='http://www.w3.org/2000/svg' image-rendering=\"pixelated\" width=\"480.0px\" height=\"266.66666666666663px\">\n <g  transform=\"rotate(90) translate(0 -480.0)\" >\n  <svg viewBox=\"0 0 350 630\" width=\"266.66666666666663px\" height=\"480.0px\">\n    <defs>\n        <marker id=\"arrow\" markerWidth=\"10\" markerHeight=\"10\" refX=\"9\" refY=\"3\" orient=\"auto\" markerUnits=\"strokeWidth\">\n          <path d=\"M0,0 L0,6 L9,3 z\" fill=\"black\" />\n        </marker>\n    </defs><rect x=\"74.0\" y=\"24\" width=\"202\" height=\"52\" style=\"fill:none;stroke:black;stroke-width:2\"/><image id=\"picture-dashboard-MNIST_MLP-798434_output_targets_6\" class=\"picture-dashboard-MNIST_MLP-798434_output_targets\" x=\"75.0\" y=\"25\" height=\"50\" width=\"200\" preserveAspectRatio=\"none\" href=\"data:image/gif;base64,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\"><title>Layer: output (output)\n output range: (-1.0, 1.0)\n shape = (10,)\n Keras class = Dense\n activation = softmax</title></image><text x=\"288.0\" y=\"52.0\" font-family=\"monospace\" font-size=\"12\" text-anchor=\"middle\" fill=\"black\" alignment-baseline=\"central\"  transform=\"rotate(-90 288.0 52.0) translate(2)\" >targets</text><line x1=\"87.5\" y1=\"80\" x2=\"262.5\" y2=\"80\" stroke=\"green\" stroke-width=\"2\"><title></title></line><rect x=\"74.0\" y=\"84\" width=\"202\" height=\"52\" style=\"fill:none;stroke:black;stroke-width:2\"/><image id=\"picture-dashboard-MNIST_MLP-798434_output-rotated_6\" class=\"picture-dashboard-MNIST_MLP-798434_output-rotated\" x=\"75.0\" y=\"85\" height=\"50\" width=\"200\" preserveAspectRatio=\"none\" href=\"data:image/gif;base64,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\"><title>Layer: output (output)\n output range: (-1.0, 1.0)\n shape = (10,)\n Keras class = Dense\n activation = softmax</title></image><text x=\"288.0\" y=\"112.0\" font-family=\"monospace\" font-size=\"12\" text-anchor=\"middle\" fill=\"black\" alignment-baseline=\"central\"  transform=\"rotate(-90 288.0 112.0) translate(2)\" >output</text><line x1=\"175.0\" y1=\"164\" x2=\"175.0\" y2=\"137\" stroke=\"black\" stroke-width=\"2\" marker-end=\"url(#arrow)\"><title>Weights from hidden2 to output\n output/kernel has shape (30, 10)\n output/bias has shape (10,)</title></line><rect x=\"74.0\" y=\"164\" width=\"202\" height=\"52\" style=\"fill:none;stroke:black;stroke-width:2\"/><image id=\"picture-dashboard-MNIST_MLP-798434_hidden2-rotated_7\" class=\"picture-dashboard-MNIST_MLP-798434_hidden2-rotated\" x=\"75.0\" y=\"165\" height=\"50\" width=\"200\" preserveAspectRatio=\"none\" href=\"data:image/gif;base64,R0lGODdhHgABAIcAAP37/dXV/5eX/wAA97S0/4SE/0FB/6mp/xUV/wAAAAAAAAAAAAAAAAAAAAAAAAAAAAAAAAAAAAAAAAAAAAAAAAAAAAAAAAAAAAAAAAAAAAAAAAAAAAAAAAAAAAAAAAAAAAAAAAAAAAAAAAAAAAAAAAAAAAAAAAAAAAAAAAAAAAAAAAAAAAAAAAAAAAAAAAAAAAAAAAAAAAAAAAAAAAAAAAAAAAAAAAAAAAAAAAAAAAAAAAAAAAAAAAAAAAAAAAAAAAAAAAAAAAAAAAAAAAAAAAAAAAAAAAAAAAAAAAAAAAAAAAAAAAAAAAAAAAAAAAAAAAAAAAAAAAAAAAAAAAAAAAAAAAAAAAAAAAAAAAAAAAAAAAAAAAAAAAAAAAAAAAAAAAAAAAAAAAAAAAAAAAAAAAAAAAAAAAAAAAAAAAAAAAAAAAAAAAAAAAAAAAAAAAAAAAAAAAAAAAAAAAAAAAAAAAAAAAAAAAAAAAAAAAAAAAAAAAAAAAAAAAAAAAAAAAAAAAAAAAAAAAAAAAAAAAAAAAAAAAAAAAAAAAAAAAAAAAAAAAAAAAAAAAAAAAAAAAAAAAAAAAAAAAAAAAAAAAAAAAAAAAAAAAAAAAAAAAAAAAAAAAAAAAAAAAAAAAAAAAAAAAAAAAAAAAAAAAAAAAAAAAAAAAAAAAAAAAAAAAAAAAAAAAAAAAAAAAAAAAAAAAAAAAAAAAAAAAAAAAAAAAAAAAAAAAAAAAAAAAAAAAAAAAAAAAAAAAAAAAAAAAAAAAAAAAAAAAAAAAAAAAAAAAAAAAAAAAAAAAAAAAAAAAAAAAAAAAAAAAAAAAAAAAAAAAAAAAAAAAAAAAAAAAAAAAAAAAAAAAAAAAAAAAAAAAAAAAAAAAAAAAAAAAAAAAAAAAAAAAAAAAAAAAAAAAAAAAAAAAAAAAAAAAAAAAAAAAAAAAAAAAAAAAAAAAAAAAAAAAAAAAAAAAAAAAAAAAAAAAAAAAAAAAAAAAAAAAAAAAAAAAAAAAAAAAAAAAAAAAAAAAAAACwAAAAAHgABAAAIIQABCDwAAAGAAAAABABgAIDDAAAEAJgIQAAAAAQGFAAQEAA7\"><title>Layer: hidden2 (hidden)\n output range: (-1.0, 1.0)\n shape = (30,)\n Keras class = Dense\n activation = relu</title></image><text x=\"288.0\" y=\"192.0\" font-family=\"monospace\" font-size=\"12\" text-anchor=\"middle\" fill=\"black\" alignment-baseline=\"central\"  transform=\"rotate(-90 288.0 192.0) translate(2)\" >hidden2</text><line x1=\"175.0\" y1=\"244\" x2=\"175.0\" y2=\"217\" stroke=\"black\" stroke-width=\"2\" marker-end=\"url(#arrow)\"><title>Weights from hidden1 to hidden2\n hidden2/kernel has shape (30, 30)\n hidden2/bias has shape (30,)</title></line><rect x=\"74.0\" y=\"244\" width=\"202\" height=\"52\" style=\"fill:none;stroke:black;stroke-width:2\"/><image id=\"picture-dashboard-MNIST_MLP-798434_hidden1-rotated_8\" class=\"picture-dashboard-MNIST_MLP-798434_hidden1-rotated\" x=\"75.0\" y=\"245\" height=\"50\" width=\"200\" preserveAspectRatio=\"none\" href=\"data:image/gif;base64,R0lGODdhHgABAIcAAP78/dPT/3t7/zAw/6en/wAAfgAATAAAmgAA4FVV/wAAxMHB/7Gx/2Vl/wAAAAAAAAAAAAAAAAAAAAAAAAAAAAAAAAAAAAAAAAAAAAAAAAAAAAAAAAAAAAAAAAAAAAAAAAAAAAAAAAAAAAAAAAAAAAAAAAAAAAAAAAAAAAAAAAAAAAAAAAAAAAAAAAAAAAAAAAAAAAAAAAAAAAAAAAAAAAAAAAAAAAAAAAAAAAAAAAAAAAAAAAAAAAAAAAAAAAAAAAAAAAAAAAAAAAAAAAAAAAAAAAAAAAAAAAAAAAAAAAAAAAAAAAAAAAAAAAAAAAAAAAAAAAAAAAAAAAAAAAAAAAAAAAAAAAAAAAAAAAAAAAAAAAAAAAAAAAAAAAAAAAAAAAAAAAAAAAAAAAAAAAAAAAAAAAAAAAAAAAAAAAAAAAAAAAAAAAAAAAAAAAAAAAAAAAAAAAAAAAAAAAAAAAAAAAAAAAAAAAAAAAAAAAAAAAAAAAAAAAAAAAAAAAAAAAAAAAAAAAAAAAAAAAAAAAAAAAAAAAAAAAAAAAAAAAAAAAAAAAAAAAAAAAAAAAAAAAAAAAAAAAAAAAAAAAAAAAAAAAAAAAAAAAAAAAAAAAAAAAAAAAAAAAAAAAAAAAAAAAAAAAAAAAAAAAAAAAAAAAAAAAAAAAAAAAAAAAAAAAAAAAAAAAAAAAAAAAAAAAAAAAAAAAAAAAAAAAAAAAAAAAAAAAAAAAAAAAAAAAAAAAAAAAAAAAAAAAAAAAAAAAAAAAAAAAAAAAAAAAAAAAAAAAAAAAAAAAAAAAAAAAAAAAAAAAAAAAAAAAAAAAAAAAAAAAAAAAAAAAAAAAAAAAAAAAAAAAAAAAAAAAAAAAAAAAAAAAAAAAAAAAAAAAAAAAAAAAAAAAAAAAAAAAAAAAAAAAAAAAAAAAAAAAAAAAAAAAAAAAAAAAAAAAAAAAAAAAAAAAAAAAAAAAAAAAAAAAAAAAAAAAAAAAAAAAAAAAAAAAAAAAAAAAAAAAAAAAAAAAAAAAAAACwAAAAAHgABAAAIIwAHADAAIACAgwoECABAoMGCAQAYEEAQAACAAwAABEgAoEBAADs=\"><title>Layer: hidden1 (hidden)\n output range: (-1.0, 1.0)\n shape = (30,)\n Keras class = Dense\n activation = relu</title></image><text x=\"288.0\" y=\"272.0\" font-family=\"monospace\" font-size=\"12\" text-anchor=\"middle\" fill=\"black\" alignment-baseline=\"central\"  transform=\"rotate(-90 288.0 272.0) translate(2)\" >hidden1</text><line x1=\"175.0\" y1=\"324\" x2=\"175.0\" y2=\"297\" stroke=\"black\" stroke-width=\"2\" marker-end=\"url(#arrow)\"><title>Weights from flat_input to hidden1\n hidden1/kernel has shape (784, 30)\n hidden1/bias has shape (30,)</title></line><rect x=\"74.0\" y=\"324\" width=\"202\" height=\"52\" style=\"fill:none;stroke:black;stroke-width:2\"/><image id=\"picture-dashboard-MNIST_MLP-798434_flat_input-rotated_9\" class=\"picture-dashboard-MNIST_MLP-798434_flat_input-rotated\" x=\"75.0\" y=\"325\" height=\"50\" width=\"200\" preserveAspectRatio=\"none\" href=\"data:image/gif;base64,R0lGODdhEAMBAIcAAAAAAPz8/Ofn5ykpKZSUlDU1NdjY2KqqqoeHh7q6uktLSxsbG3t7e8nJyVJSUmBgYAAAAAAAAAAAAAAAAAAAAAAAAAAAAAAAAAAAAAAAAAAAAAAAAAAAAAAAAAAAAAAAAAAAAAAAAAAAAAAAAAAAAAAAAAAAAAAAAAAAAAAAAAAAAAAAAAAAAAAAAAAAAAAAAAAAAAAAAAAAAAAAAAAAAAAAAAAAAAAAAAAAAAAAAAAAAAAAAAAAAAAAAAAAAAAAAAAAAAAAAAAAAAAAAAAAAAAAAAAAAAAAAAAAAAAAAAAAAAAAAAAAAAAAAAAAAAAAAAAAAAAAAAAAAAAAAAAAAAAAAAAAAAAAAAAAAAAAAAAAAAAAAAAAAAAAAAAAAAAAAAAAAAAAAAAAAAAAAAAAAAAAAAAAAAAAAAAAAAAAAAAAAAAAAAAAAAAAAAAAAAAAAAAAAAAAAAAAAAAAAAAAAAAAAAAAAAAAAAAAAAAAAAAAAAAAAAAAAAAAAAAAAAAAAAAAAAAAAAAAAAAAAAAAAAAAAAAAAAAAAAAAAAAAAAAAAAAAAAAAAAAAAAAAAAAAAAAAAAAAAAAAAAAAAAAAAAAAAAAAAAAAAAAAAAAAAAAAAAAAAAAAAAAAAAAAAAAAAAAAAAAAAAAAAAAAAAAAAAAAAAAAAAAAAAAAAAAAAAAAAAAAAAAAAAAAAAAAAAAAAAAAAAAAAAAAAAAAAAAAAAAAAAAAAAAAAAAAAAAAAAAAAAAAAAAAAAAAAAAAAAAAAAAAAAAAAAAAAAAAAAAAAAAAAAAAAAAAAAAAAAAAAAAAAAAAAAAAAAAAAAAAAAAAAAAAAAAAAAAAAAAAAAAAAAAAAAAAAAAAAAAAAAAAAAAAAAAAAAAAAAAAAAAAAAAAAAAAAAAAAAAAAAAAAAAAAAAAAAAAAAAAAAAAAAAAAAAAAAAAAAAAAAAAAAAAAAAAAAAAAAAAAAAAAAAAAAAAAAAAAAAAAAAAAAAAAAAAAAAAAAAAAAAAAAAAAAAAAAAAACwAAAAAEAMBAAAI/wABCBxIsKDBgwgTKlzIsKHDhwwfEAgQ4ACAixgzatw4wECAjwkQABhJsqTJkgMICAggAMECADBjypw5k4CAAAESFADAs6fPnz4HOGgQIEACBACSKl3KdKmCBAICBBCAAIDVq1izZlUgIIBXBAMAiB1LtqxZAwECGHAAoK3bt3DjtjUQwMAAAHjz6t3LN6+BAA0ACB5MuLBhwgYCCBgAoLHjx5AjOy4gIEAAAgAya97MubNmAgFCExgAoLTp06hTl1YgIEAAAQQAyJ5Nu7Zt2QMIBNhdAIDv38CDA1iwAIDx4woCBCAAoLnz59ABMDBQAIB16wwCBCgAoLv37+ABDDwQEOAAgwUFDgRYD6C9+/fw3Q8QEKC+/QAFAOjfz78/f4ADDgQgGOBAAQAJFS5k2NDhQ4gRJU6kWNHiwoAAOw==\"><title>Layer: flat_input (hidden)\n output range: (0.0, 1.0)\n Keras class = Flatten</title></image><text x=\"288.0\" y=\"352.0\" font-family=\"monospace\" font-size=\"12\" text-anchor=\"middle\" fill=\"black\" alignment-baseline=\"central\"  transform=\"rotate(-90 288.0 352.0) translate(2)\" >flat_input</text><line x1=\"175.0\" y1=\"404\" x2=\"175.0\" y2=\"377\" stroke=\"black\" stroke-width=\"2\" marker-end=\"url(#arrow)\"><title>Weights from input to flat_input</title></line><rect x=\"74.0\" y=\"404\" width=\"202\" height=\"202\" style=\"fill:none;stroke:black;stroke-width:2\"/><image id=\"picture-dashboard-MNIST_MLP-798434_input-rotated_10\" class=\"picture-dashboard-MNIST_MLP-798434_input-rotated\" x=\"75.0\" y=\"405\" height=\"200\" width=\"200\" preserveAspectRatio=\"none\" href=\"data:image/gif;base64,R0lGODdhHAAcAIcAAAAAAPz8/Ofn5ykpKZSUlDU1NdjY2KqqqoeHh7q6uktLSxsbG3t7e8nJyVJSUmBgYAAAAAAAAAAAAAAAAAAAAAAAAAAAAAAAAAAAAAAAAAAAAAAAAAAAAAAAAAAAAAAAAAAAAAAAAAAAAAAAAAAAAAAAAAAAAAAAAAAAAAAAAAAAAAAAAAAAAAAAAAAAAAAAAAAAAAAAAAAAAAAAAAAAAAAAAAAAAAAAAAAAAAAAAAAAAAAAAAAAAAAAAAAAAAAAAAAAAAAAAAAAAAAAAAAAAAAAAAAAAAAAAAAAAAAAAAAAAAAAAAAAAAAAAAAAAAAAAAAAAAAAAAAAAAAAAAAAAAAAAAAAAAAAAAAAAAAAAAAAAAAAAAAAAAAAAAAAAAAAAAAAAAAAAAAAAAAAAAAAAAAAAAAAAAAAAAAAAAAAAAAAAAAAAAAAAAAAAAAAAAAAAAAAAAAAAAAAAAAAAAAAAAAAAAAAAAAAAAAAAAAAAAAAAAAAAAAAAAAAAAAAAAAAAAAAAAAAAAAAAAAAAAAAAAAAAAAAAAAAAAAAAAAAAAAAAAAAAAAAAAAAAAAAAAAAAAAAAAAAAAAAAAAAAAAAAAAAAAAAAAAAAAAAAAAAAAAAAAAAAAAAAAAAAAAAAAAAAAAAAAAAAAAAAAAAAAAAAAAAAAAAAAAAAAAAAAAAAAAAAAAAAAAAAAAAAAAAAAAAAAAAAAAAAAAAAAAAAAAAAAAAAAAAAAAAAAAAAAAAAAAAAAAAAAAAAAAAAAAAAAAAAAAAAAAAAAAAAAAAAAAAAAAAAAAAAAAAAAAAAAAAAAAAAAAAAAAAAAAAAAAAAAAAAAAAAAAAAAAAAAAAAAAAAAAAAAAAAAAAAAAAAAAAAAAAAAAAAAAAAAAAAAAAAAAAAAAAAAAAAAAAAAAAAAAAAAAAAAAAAAAAAAAAAAAAAAAAAAAAAAAAAAAAAAAAAAAAAAAAAAAAAAAAAAAAAAAAAAAAAAAAAAAAAAAAAAAAAAAAAAAAAAAAAAAAAAAAAAAAACwAAAAAHAAcAEAI/wABCBxIsKDBgwUNBEgAoKHDhxAjSgSQIEAAAw0EBAigAIDHBQECABhJsqTJkyhTBkgAoKXLlzBjygRAIICAAQBy5hwgIIBPnwUACB1KtKhRoQsMCBgAoKnTp1CjSp0KgEAABACyat3KtWtXAgESABhLlmwBAgUAqF3Ltq2DAAEcAJhLIEAAAgAAHAgQAIDfv4ABKzBA2EABAIgRHwhwAIDjx5AjS55MubLly5gzAziAAIDnz6BDiw4dIMACAKhTq17NWvWDAAIKAJhNu7bt27UHCAiAAIDv38CDCwc+QEAABACSKwdAIIDzAAUASJ9OfXqDAAgAaNdOIEAABQwCBFY4AKC8+fPlBwgIYGAAgAEBAggYAABAgQABAOjfz3+/AoACAgwMIIAAAIQAGAQIAMDhQ4gRJT4sEEDAAAAZNW7k2DHjAgYDAIwkWdLkSZQpVa5k2bJlQAA7\"><title>Layer: input (input)\n output range: (0.0, 1.0)\n shape = (28, 28, 1)\n Keras class = Input</title></image><text x=\"288.0\" y=\"507.0\" font-family=\"monospace\" font-size=\"12\" text-anchor=\"middle\" fill=\"black\" alignment-baseline=\"central\"  transform=\"rotate(-90 288.0 507.0) translate(2)\" >input</text><text x=\"88.0\" y=\"390\" font-family=\"monospace\" font-size=\"12\" text-anchor=\"middle\" fill=\"black\" alignment-baseline=\"central\"  transform=\"rotate(-90 88.0 390) translate(2)\" >1</text><text x=\"273.0\" y=\"620\" font-family=\"monospace\" font-size=\"12\" text-anchor=\"middle\" fill=\"black\" alignment-baseline=\"central\"  transform=\"rotate(-90 273.0 620) translate(2)\" >0</text><text x=\"18\" y=\"315.0\" font-family=\"monospace\" font-size=\"15\" text-anchor=\"middle\" fill=\"black\" alignment-baseline=\"central\"  transform=\"rotate(-90 18 315.0) translate(2)\" >MNIST_MLP</text></svg></g></svg></p>"
      }
     },
     "5799c02a520b4f68be51aea5087eaf03": {
      "model_module": "@jupyter-widgets/base",
      "model_module_version": "1.0.0",
      "model_name": "LayoutModel",
      "state": {}
     },
     "57d6504839d24c639d825547ef4498dd": {
      "model_module": "@jupyter-widgets/controls",
      "model_module_version": "1.1.0",
      "model_name": "ButtonStyleModel",
      "state": {}
     },
     "57db29d6a86d4b68b72db8cc8870c153": {
      "model_module": "@jupyter-widgets/controls",
      "model_module_version": "1.1.0",
      "model_name": "SliderStyleModel",
      "state": {
       "description_width": ""
      }
     },
     "5934c64e544c4130809fab69a86f7fd9": {
      "model_module": "@jupyter-widgets/controls",
      "model_module_version": "1.1.0",
      "model_name": "HBoxModel",
      "state": {
       "children": [
        "IPY_MODEL_643603ff562840479547f75fa812635b",
        "IPY_MODEL_69f56d76cdca4f009011def24a688694"
       ],
       "layout": "IPY_MODEL_928ef7e0cc054b96891b2f51988508e8"
      }
     },
     "5951fa50636c42c2be1bd303f40fcf6f": {
      "model_module": "@jupyter-widgets/controls",
      "model_module_version": "1.1.0",
      "model_name": "ButtonModel",
      "state": {
       "icon": "fast-forward",
       "layout": "IPY_MODEL_f7c6710f117743469517a29a75252730",
       "style": "IPY_MODEL_12cd389eba7e41b78e56eb5ebaf0757f"
      }
     },
     "5956b1f883684fc88f0555eb136d7a74": {
      "model_module": "@jupyter-widgets/controls",
      "model_module_version": "1.1.0",
      "model_name": "ButtonModel",
      "state": {
       "icon": "refresh",
       "layout": "IPY_MODEL_fafb1ab9f26f4ee89f62ee290c402e8c",
       "style": "IPY_MODEL_57d6504839d24c639d825547ef4498dd"
      }
     },
     "5a9c9b9ff5f24580b0a25b2ebb4fabb2": {
      "model_module": "@jupyter-widgets/base",
      "model_module_version": "1.0.0",
      "model_name": "LayoutModel",
      "state": {}
     },
     "5ca228d51650406ebae3f2f5edaa86b9": {
      "model_module": "@jupyter-widgets/controls",
      "model_module_version": "1.1.0",
      "model_name": "DescriptionStyleModel",
      "state": {
       "description_width": "initial"
      }
     },
     "5dc9914d5cad45d985c5ec8f344ec8a8": {
      "model_module": "@jupyter-widgets/controls",
      "model_module_version": "1.1.0",
      "model_name": "DescriptionStyleModel",
      "state": {
       "description_width": "initial"
      }
     },
     "5e0836968430451c96041ef8419276bb": {
      "model_module": "@jupyter-widgets/controls",
      "model_module_version": "1.1.0",
      "model_name": "SelectModel",
      "state": {
       "_options_labels": [
        "",
        "Accent",
        "Accent_r",
        "Blues",
        "Blues_r",
        "BrBG",
        "BrBG_r",
        "BuGn",
        "BuGn_r",
        "BuPu",
        "BuPu_r",
        "CMRmap",
        "CMRmap_r",
        "Dark2",
        "Dark2_r",
        "GnBu",
        "GnBu_r",
        "Greens",
        "Greens_r",
        "Greys",
        "Greys_r",
        "OrRd",
        "OrRd_r",
        "Oranges",
        "Oranges_r",
        "PRGn",
        "PRGn_r",
        "Paired",
        "Paired_r",
        "Pastel1",
        "Pastel1_r",
        "Pastel2",
        "Pastel2_r",
        "PiYG",
        "PiYG_r",
        "PuBu",
        "PuBuGn",
        "PuBuGn_r",
        "PuBu_r",
        "PuOr",
        "PuOr_r",
        "PuRd",
        "PuRd_r",
        "Purples",
        "Purples_r",
        "RdBu",
        "RdBu_r",
        "RdGy",
        "RdGy_r",
        "RdPu",
        "RdPu_r",
        "RdYlBu",
        "RdYlBu_r",
        "RdYlGn",
        "RdYlGn_r",
        "Reds",
        "Reds_r",
        "Set1",
        "Set1_r",
        "Set2",
        "Set2_r",
        "Set3",
        "Set3_r",
        "Spectral",
        "Spectral_r",
        "Vega10",
        "Vega10_r",
        "Vega20",
        "Vega20_r",
        "Vega20b",
        "Vega20b_r",
        "Vega20c",
        "Vega20c_r",
        "Wistia",
        "Wistia_r",
        "YlGn",
        "YlGnBu",
        "YlGnBu_r",
        "YlGn_r",
        "YlOrBr",
        "YlOrBr_r",
        "YlOrRd",
        "YlOrRd_r",
        "afmhot",
        "afmhot_r",
        "autumn",
        "autumn_r",
        "binary",
        "binary_r",
        "bone",
        "bone_r",
        "brg",
        "brg_r",
        "bwr",
        "bwr_r",
        "cool",
        "cool_r",
        "coolwarm",
        "coolwarm_r",
        "copper",
        "copper_r",
        "cubehelix",
        "cubehelix_r",
        "flag",
        "flag_r",
        "gist_earth",
        "gist_earth_r",
        "gist_gray",
        "gist_gray_r",
        "gist_heat",
        "gist_heat_r",
        "gist_ncar",
        "gist_ncar_r",
        "gist_rainbow",
        "gist_rainbow_r",
        "gist_stern",
        "gist_stern_r",
        "gist_yarg",
        "gist_yarg_r",
        "gnuplot",
        "gnuplot2",
        "gnuplot2_r",
        "gnuplot_r",
        "gray",
        "gray_r",
        "hot",
        "hot_r",
        "hsv",
        "hsv_r",
        "inferno",
        "inferno_r",
        "jet",
        "jet_r",
        "magma",
        "magma_r",
        "nipy_spectral",
        "nipy_spectral_r",
        "ocean",
        "ocean_r",
        "pink",
        "pink_r",
        "plasma",
        "plasma_r",
        "prism",
        "prism_r",
        "rainbow",
        "rainbow_r",
        "seismic",
        "seismic_r",
        "spectral",
        "spectral_r",
        "spring",
        "spring_r",
        "summer",
        "summer_r",
        "tab10",
        "tab10_r",
        "tab20",
        "tab20_r",
        "tab20b",
        "tab20b_r",
        "tab20c",
        "tab20c_r",
        "terrain",
        "terrain_r",
        "viridis",
        "viridis_r",
        "winter",
        "winter_r"
       ],
       "description": "Colormap:",
       "index": 3,
       "layout": "IPY_MODEL_4abd863981614d23a1f58a2d7afee81b",
       "rows": 1,
       "style": "IPY_MODEL_828c9a2358ef4aa2bd4c0ce2f8d41b8c"
      }
     },
     "5e6e61b49ce543039a90676b413e1bb3": {
      "model_module": "@jupyter-widgets/base",
      "model_module_version": "1.0.0",
      "model_name": "LayoutModel",
      "state": {}
     },
     "60537664c97644e48dd849e697e7e866": {
      "model_module": "@jupyter-widgets/controls",
      "model_module_version": "1.1.0",
      "model_name": "SelectModel",
      "state": {
       "_options_labels": [
        "",
        "Accent",
        "Accent_r",
        "Blues",
        "Blues_r",
        "BrBG",
        "BrBG_r",
        "BuGn",
        "BuGn_r",
        "BuPu",
        "BuPu_r",
        "CMRmap",
        "CMRmap_r",
        "Dark2",
        "Dark2_r",
        "GnBu",
        "GnBu_r",
        "Greens",
        "Greens_r",
        "Greys",
        "Greys_r",
        "OrRd",
        "OrRd_r",
        "Oranges",
        "Oranges_r",
        "PRGn",
        "PRGn_r",
        "Paired",
        "Paired_r",
        "Pastel1",
        "Pastel1_r",
        "Pastel2",
        "Pastel2_r",
        "PiYG",
        "PiYG_r",
        "PuBu",
        "PuBuGn",
        "PuBuGn_r",
        "PuBu_r",
        "PuOr",
        "PuOr_r",
        "PuRd",
        "PuRd_r",
        "Purples",
        "Purples_r",
        "RdBu",
        "RdBu_r",
        "RdGy",
        "RdGy_r",
        "RdPu",
        "RdPu_r",
        "RdYlBu",
        "RdYlBu_r",
        "RdYlGn",
        "RdYlGn_r",
        "Reds",
        "Reds_r",
        "Set1",
        "Set1_r",
        "Set2",
        "Set2_r",
        "Set3",
        "Set3_r",
        "Spectral",
        "Spectral_r",
        "Vega10",
        "Vega10_r",
        "Vega20",
        "Vega20_r",
        "Vega20b",
        "Vega20b_r",
        "Vega20c",
        "Vega20c_r",
        "Wistia",
        "Wistia_r",
        "YlGn",
        "YlGnBu",
        "YlGnBu_r",
        "YlGn_r",
        "YlOrBr",
        "YlOrBr_r",
        "YlOrRd",
        "YlOrRd_r",
        "afmhot",
        "afmhot_r",
        "autumn",
        "autumn_r",
        "binary",
        "binary_r",
        "bone",
        "bone_r",
        "brg",
        "brg_r",
        "bwr",
        "bwr_r",
        "cool",
        "cool_r",
        "coolwarm",
        "coolwarm_r",
        "copper",
        "copper_r",
        "cubehelix",
        "cubehelix_r",
        "flag",
        "flag_r",
        "gist_earth",
        "gist_earth_r",
        "gist_gray",
        "gist_gray_r",
        "gist_heat",
        "gist_heat_r",
        "gist_ncar",
        "gist_ncar_r",
        "gist_rainbow",
        "gist_rainbow_r",
        "gist_stern",
        "gist_stern_r",
        "gist_yarg",
        "gist_yarg_r",
        "gnuplot",
        "gnuplot2",
        "gnuplot2_r",
        "gnuplot_r",
        "gray",
        "gray_r",
        "hot",
        "hot_r",
        "hsv",
        "hsv_r",
        "inferno",
        "inferno_r",
        "jet",
        "jet_r",
        "magma",
        "magma_r",
        "nipy_spectral",
        "nipy_spectral_r",
        "ocean",
        "ocean_r",
        "pink",
        "pink_r",
        "plasma",
        "plasma_r",
        "prism",
        "prism_r",
        "rainbow",
        "rainbow_r",
        "seismic",
        "seismic_r",
        "spectral",
        "spectral_r",
        "spring",
        "spring_r",
        "summer",
        "summer_r",
        "tab10",
        "tab10_r",
        "tab20",
        "tab20_r",
        "tab20b",
        "tab20b_r",
        "tab20c",
        "tab20c_r",
        "terrain",
        "terrain_r",
        "viridis",
        "viridis_r",
        "winter",
        "winter_r"
       ],
       "description": "Colormap:",
       "index": 0,
       "layout": "IPY_MODEL_c6613434354a4757a1e313434f827014",
       "rows": 1,
       "style": "IPY_MODEL_fd7fcf31db254a8f8a033d1202fc1b5e"
      }
     },
     "613073d402754d2d962328c8c78cd42e": {
      "model_module": "@jupyter-widgets/controls",
      "model_module_version": "1.1.0",
      "model_name": "SelectModel",
      "state": {
       "_options_labels": [
        "Test",
        "Train"
       ],
       "description": "Dataset:",
       "index": 1,
       "layout": "IPY_MODEL_6e85637ce9eb4456bfb6fe28ced287b1",
       "rows": 1,
       "style": "IPY_MODEL_2ea0642777e64a9d8c5bcf052f6c295c"
      }
     },
     "62715489493149f09060af87dfba9d28": {
      "model_module": "@jupyter-widgets/controls",
      "model_module_version": "1.1.0",
      "model_name": "ButtonStyleModel",
      "state": {}
     },
     "63f82e95273f48a996be8442e99c010f": {
      "model_module": "@jupyter-widgets/controls",
      "model_module_version": "1.1.0",
      "model_name": "ButtonModel",
      "state": {
       "icon": "forward",
       "layout": "IPY_MODEL_cf550ba00899490cb33cc03d7b8f37cb",
       "style": "IPY_MODEL_cb1bc00b76994cc8a99d1c5428f1e492"
      }
     },
     "643603ff562840479547f75fa812635b": {
      "model_module": "@jupyter-widgets/controls",
      "model_module_version": "1.1.0",
      "model_name": "CheckboxModel",
      "state": {
       "description": "Rotate network",
       "disabled": false,
       "layout": "IPY_MODEL_b962c960e6f343a8b61785a5ae22f061",
       "style": "IPY_MODEL_ba4841b043db48968149bcbf359a18b0",
       "value": true
      }
     },
     "655949d6959c43bca0298d95a5c8c575": {
      "model_module": "@jupyter-widgets/controls",
      "model_module_version": "1.1.0",
      "model_name": "HBoxModel",
      "state": {
       "children": [
        "IPY_MODEL_155abf790fa94f15ac1e625b7a7f7fc1",
        "IPY_MODEL_533f014ad854489f8a558c9ff2a10cf7",
        "IPY_MODEL_395c494081084350bf6883e93d619d14",
        "IPY_MODEL_63f82e95273f48a996be8442e99c010f",
        "IPY_MODEL_41acb8ca1cb54fb3ae0a6f5252b3a089",
        "IPY_MODEL_2dde6827b6aa485c859fbb6f57a85cb7",
        "IPY_MODEL_5956b1f883684fc88f0555eb136d7a74"
       ],
       "layout": "IPY_MODEL_49533c9db9c642cfa6b03ef81ab25d59"
      }
     },
     "6621dba9967248f0935697e6beec4ccb": {
      "model_module": "@jupyter-widgets/base",
      "model_module_version": "1.0.0",
      "model_name": "LayoutModel",
      "state": {
       "width": "100%"
      }
     },
     "6623b913940e422386c1062f0e7b4638": {
      "model_module": "@jupyter-widgets/controls",
      "model_module_version": "1.1.0",
      "model_name": "DescriptionStyleModel",
      "state": {
       "description_width": ""
      }
     },
     "67d248094ac14c01bef5d557d02ec587": {
      "model_module": "@jupyter-widgets/controls",
      "model_module_version": "1.1.0",
      "model_name": "DescriptionStyleModel",
      "state": {
       "description_width": "initial"
      }
     },
     "67feed11fbe946ae8c339538573af726": {
      "model_module": "@jupyter-widgets/base",
      "model_module_version": "1.0.0",
      "model_name": "LayoutModel",
      "state": {
       "width": "100px"
      }
     },
     "690dffefc02042dc96783de0f7b433e1": {
      "model_module": "@jupyter-widgets/controls",
      "model_module_version": "1.1.0",
      "model_name": "CheckboxModel",
      "state": {
       "description": "Errors",
       "disabled": false,
       "layout": "IPY_MODEL_c6613434354a4757a1e313434f827014",
       "style": "IPY_MODEL_25076ba8854545a0ba9c11187b490fe3",
       "value": false
      }
     },
     "69267bb2336d49e08fd920c9aabd8872": {
      "model_module": "@jupyter-widgets/controls",
      "model_module_version": "1.1.0",
      "model_name": "FloatTextModel",
      "state": {
       "description": "Rightmost color maps to:",
       "layout": "IPY_MODEL_20d5ce49c9294800a2d0855f4a536b15",
       "step": null,
       "style": "IPY_MODEL_1e7e002bf27c4085b2cffc8b872afcdb",
       "value": 1
      }
     },
     "69f2cf4cdfa846ceb5f403dd73e0dc2c": {
      "model_module": "@jupyter-widgets/controls",
      "model_module_version": "1.1.0",
      "model_name": "ButtonModel",
      "state": {
       "icon": "backward",
       "layout": "IPY_MODEL_1141b932a2f446c2b9918f5e371ec3cc",
       "style": "IPY_MODEL_063180b955d8432b878d04df2d7bb248"
      }
     },
     "69f56d76cdca4f009011def24a688694": {
      "model_module": "@jupyter-widgets/controls",
      "model_module_version": "1.1.0",
      "model_name": "ButtonModel",
      "state": {
       "icon": "save",
       "layout": "IPY_MODEL_b4a09c15a3944403a2095143400c5452",
       "style": "IPY_MODEL_19121657e4ec419c9a4f3d0272ff1c54"
      }
     },
     "6bce55021eb34c5ba0c76a1c49a1705e": {
      "model_module": "@jupyter-widgets/base",
      "model_module_version": "1.0.0",
      "model_name": "LayoutModel",
      "state": {
       "width": "10%"
      }
     },
     "6db8c8f992214270bd1b934380de8862": {
      "model_module": "@jupyter-widgets/controls",
      "model_module_version": "1.1.0",
      "model_name": "VBoxModel",
      "state": {
       "children": [
        "IPY_MODEL_e088b1704bd1474899c96b6d7e459608",
        "IPY_MODEL_eef4ea0e36154c77ad58e81de2c8f73f",
        "IPY_MODEL_55fc77e941e94ea88db4b592defd9f5c",
        "IPY_MODEL_14fb3ff6e34d43d486f55cd113a30752"
       ],
       "layout": "IPY_MODEL_aa072bd563f447f8944b4b1ae93e5321"
      }
     },
     "6e6346425518498b9dec34596f3512df": {
      "model_module": "@jupyter-widgets/controls",
      "model_module_version": "1.1.0",
      "model_name": "DescriptionStyleModel",
      "state": {
       "description_width": ""
      }
     },
     "6e85637ce9eb4456bfb6fe28ced287b1": {
      "model_module": "@jupyter-widgets/base",
      "model_module_version": "1.0.0",
      "model_name": "LayoutModel",
      "state": {}
     },
     "6fbf452470b940af9e0a58f76a6b5983": {
      "model_module": "@jupyter-widgets/base",
      "model_module_version": "1.0.0",
      "model_name": "LayoutModel",
      "state": {}
     },
     "70327d33d98e4f02b1cdfa9f3f39b0b4": {
      "model_module": "@jupyter-widgets/controls",
      "model_module_version": "1.1.0",
      "model_name": "FloatTextModel",
      "state": {
       "description": "Feature scale:",
       "layout": "IPY_MODEL_2f7e357542504ac2b43d20714c06862f",
       "step": null,
       "style": "IPY_MODEL_f8b46844f42743b587119811e1026cee",
       "value": 4
      }
     },
     "70d163252a4c444ba10e52c0c227f634": {
      "model_module": "@jupyter-widgets/controls",
      "model_module_version": "1.1.0",
      "model_name": "VBoxModel",
      "state": {
       "children": [
        "IPY_MODEL_2b2f4a72739f4ffab5bf9687255492ff",
        "IPY_MODEL_be46f72e78784298af838d14967f932a",
        "IPY_MODEL_08e299bb37f6486893b92c3022e8b387",
        "IPY_MODEL_04c4eea96c52458696b1ad75ac206326",
        "IPY_MODEL_e4cc4f5c8397447a9050622c4748abf2",
        "IPY_MODEL_ff577ccd16f2499bad9c5ebb7afe8337",
        "IPY_MODEL_2f68ed37868b4441b90690fc646a4d94",
        "IPY_MODEL_70327d33d98e4f02b1cdfa9f3f39b0b4"
       ],
       "layout": "IPY_MODEL_48ed1de8408c4b33b8f89826aea83e58"
      }
     },
     "72b9e5907d62434fb5b6ae9172ba1a4b": {
      "model_module": "@jupyter-widgets/controls",
      "model_module_version": "1.1.0",
      "model_name": "DescriptionStyleModel",
      "state": {
       "description_width": ""
      }
     },
     "737c4886ffcf447d913b667123da685e": {
      "model_module": "@jupyter-widgets/base",
      "model_module_version": "1.0.0",
      "model_name": "LayoutModel",
      "state": {
       "width": "100%"
      }
     },
     "740a2eaa6a3e4897b6e05a4fcfa25827": {
      "model_module": "@jupyter-widgets/controls",
      "model_module_version": "1.1.0",
      "model_name": "DescriptionStyleModel",
      "state": {
       "description_width": "initial"
      }
     },
     "75c101e410c642c5ab222c6736aaaf8c": {
      "model_module": "@jupyter-widgets/controls",
      "model_module_version": "1.1.0",
      "model_name": "LabelModel",
      "state": {
       "layout": "IPY_MODEL_67feed11fbe946ae8c339538573af726",
       "style": "IPY_MODEL_939182690fb546e293ce97c31af034b8",
       "value": "of 60000"
      }
     },
     "7a53ca8dda4c4c6099df253438a9b138": {
      "model_module": "@jupyter-widgets/controls",
      "model_module_version": "1.1.0",
      "model_name": "DescriptionStyleModel",
      "state": {
       "description_width": "initial"
      }
     },
     "7dacfc8e113b46c8b007f403ec1d8485": {
      "model_module": "@jupyter-widgets/controls",
      "model_module_version": "1.1.0",
      "model_name": "IntTextModel",
      "state": {
       "description": "Feature to show:",
       "layout": "IPY_MODEL_2867e287b744415c8b33458ccc262f3e",
       "step": 1,
       "style": "IPY_MODEL_67d248094ac14c01bef5d557d02ec587"
      }
     },
     "7e9634d73d764d58beaed674e5008675": {
      "model_module": "@jupyter-widgets/controls",
      "model_module_version": "1.1.0",
      "model_name": "ButtonModel",
      "state": {
       "icon": "refresh",
       "layout": "IPY_MODEL_e2a9444acc024d24aceba5a9c00c2a42",
       "style": "IPY_MODEL_89a1316270a544ff8ead868022c71dfe"
      }
     },
     "7f2a2bba14d1490dab760472ab7a6a47": {
      "model_module": "@jupyter-widgets/controls",
      "model_module_version": "1.1.0",
      "model_name": "ButtonStyleModel",
      "state": {}
     },
     "828c9a2358ef4aa2bd4c0ce2f8d41b8c": {
      "model_module": "@jupyter-widgets/controls",
      "model_module_version": "1.1.0",
      "model_name": "DescriptionStyleModel",
      "state": {
       "description_width": ""
      }
     },
     "850ce45c94c14cd5a39d833c71f109a2": {
      "model_module": "@jupyter-widgets/controls",
      "model_module_version": "1.1.0",
      "model_name": "IntTextModel",
      "state": {
       "description": "Vertical space between layers:",
       "layout": "IPY_MODEL_c6613434354a4757a1e313434f827014",
       "step": 1,
       "style": "IPY_MODEL_11881b43378f4af0b27f0e9d792bb6b7",
       "value": 30
      }
     },
     "85f1474362c8485b9662ed5d595e3ca2": {
      "model_module": "@jupyter-widgets/base",
      "model_module_version": "1.0.0",
      "model_name": "LayoutModel",
      "state": {
       "width": "65%"
      }
     },
     "865af5c667bd4408a1841fb25642a55e": {
      "model_module": "@jupyter-widgets/base",
      "model_module_version": "1.0.0",
      "model_name": "LayoutModel",
      "state": {}
     },
     "88685321e14746fdb0cf4be55bd73b80": {
      "model_module": "@jupyter-widgets/controls",
      "model_module_version": "1.1.0",
      "model_name": "SelectModel",
      "state": {
       "_options_labels": [
        "input",
        "flat_input",
        "hidden1",
        "hidden2",
        "output"
       ],
       "description": "Layer:",
       "index": 4,
       "layout": "IPY_MODEL_42b76a9566a640dab6c2428da81f0097",
       "rows": 1,
       "style": "IPY_MODEL_c2d5b045ea0b419fa4f98c6a301c5cf3"
      }
     },
     "89a1316270a544ff8ead868022c71dfe": {
      "model_module": "@jupyter-widgets/controls",
      "model_module_version": "1.1.0",
      "model_name": "ButtonStyleModel",
      "state": {}
     },
     "89da00bf5e8d4e7dbaa321c01133707b": {
      "model_module": "@jupyter-widgets/controls",
      "model_module_version": "1.1.0",
      "model_name": "HTMLModel",
      "state": {
       "layout": "IPY_MODEL_f2b61860d21f4c32b7163413def91a0b",
       "style": "IPY_MODEL_c01b3851e6514a0a9692f84243ed7571",
       "value": "<img src=\"data:image/gif;base64,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\"/>"
      }
     },
     "8ba527646d9d4ac0adfc46115114e01a": {
      "model_module": "@jupyter-widgets/base",
      "model_module_version": "1.0.0",
      "model_name": "LayoutModel",
      "state": {}
     },
     "8c52842ae59b49e9b4932949447db632": {
      "model_module": "@jupyter-widgets/controls",
      "model_module_version": "1.1.0",
      "model_name": "DescriptionStyleModel",
      "state": {
       "description_width": "initial"
      }
     },
     "8e46d35d6cfe4866ac394f9972b4606c": {
      "model_module": "@jupyter-widgets/controls",
      "model_module_version": "1.1.0",
      "model_name": "DescriptionStyleModel",
      "state": {
       "description_width": "initial"
      }
     },
     "8fc6948e62eb4b0c965e55ab269d950b": {
      "model_module": "@jupyter-widgets/base",
      "model_module_version": "1.0.0",
      "model_name": "LayoutModel",
      "state": {
       "width": "100px"
      }
     },
     "90f2336f0709471cbe43d575c2f4055d": {
      "model_module": "@jupyter-widgets/base",
      "model_module_version": "1.0.0",
      "model_name": "LayoutModel",
      "state": {
       "width": "100%"
      }
     },
     "928ef7e0cc054b96891b2f51988508e8": {
      "model_module": "@jupyter-widgets/base",
      "model_module_version": "1.0.0",
      "model_name": "LayoutModel",
      "state": {}
     },
     "939182690fb546e293ce97c31af034b8": {
      "model_module": "@jupyter-widgets/controls",
      "model_module_version": "1.1.0",
      "model_name": "DescriptionStyleModel",
      "state": {
       "description_width": ""
      }
     },
     "950dbfb5b8f54737b1352e4e1c6675d4": {
      "model_module": "@jupyter-widgets/base",
      "model_module_version": "1.0.0",
      "model_name": "LayoutModel",
      "state": {
       "width": "52%"
      }
     },
     "957d5dd1e6414bc29040d0a831de5cfd": {
      "model_module": "@jupyter-widgets/base",
      "model_module_version": "1.0.0",
      "model_name": "LayoutModel",
      "state": {
       "height": "50px",
       "width": "100%"
      }
     },
     "973d273a6c604946802afcccf077e8d0": {
      "model_module": "@jupyter-widgets/base",
      "model_module_version": "1.0.0",
      "model_name": "LayoutModel",
      "state": {
       "width": "100%"
      }
     },
     "9de71d62717d474e8626290a2834ed84": {
      "model_module": "@jupyter-widgets/controls",
      "model_module_version": "1.1.0",
      "model_name": "HTMLModel",
      "state": {
       "layout": "IPY_MODEL_1c360ccbf295407d95685b3c4ace37fc",
       "style": "IPY_MODEL_d8948bcf485d48afab95fca66e70c972",
       "value": "\n<table align=\"center\" style=\"width: 100%;\">\n <tr>\n  <td valign=\"top\"><p style=\"text-align:center\"><svg id='MNIST_CNN' xmlns='http://www.w3.org/2000/svg' image-rendering=\"pixelated\" width=\"800.0000000000001px\" height=\"190.47619047619048px\">\n <g  transform=\"rotate(90) translate(0 -800.0000000000001)\" >\n  <svg viewBox=\"0 0 350 1470\" width=\"190.47619047619048px\" height=\"800.0000000000001px\">\n    <defs>\n        <marker id=\"arrow\" markerWidth=\"10\" markerHeight=\"10\" refX=\"9\" refY=\"3\" orient=\"auto\" markerUnits=\"strokeWidth\">\n          <path d=\"M0,0 L0,6 L9,3 z\" fill=\"black\" />\n        </marker>\n    </defs><rect x=\"74.0\" y=\"24\" width=\"202\" height=\"52\" style=\"fill:none;stroke:black;stroke-width:2\"/><image id=\"picture-dashboard-MNIST_CNN-935832_output_targets_1\" class=\"picture-dashboard-MNIST_CNN-935832_output_targets\" x=\"75.0\" y=\"25\" height=\"50\" width=\"200\" preserveAspectRatio=\"none\" href=\"data:image/gif;base64,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\"><title>Layer: output (output)\n output range: (0.0, 1.0)\n shape = (10,)\n Keras class = Dense\n activation = softmax</title></image><text x=\"288.0\" y=\"52.0\" font-family=\"monospace\" font-size=\"12\" text-anchor=\"middle\" fill=\"black\" alignment-baseline=\"central\"  transform=\"rotate(-90 288.0 52.0) translate(2)\" >targets</text><line x1=\"87.5\" y1=\"80\" x2=\"262.5\" y2=\"80\" stroke=\"green\" stroke-width=\"2\"><title></title></line><rect x=\"74.0\" y=\"84\" width=\"202\" height=\"52\" style=\"fill:none;stroke:black;stroke-width:2\"/><image id=\"picture-dashboard-MNIST_CNN-935832_output-rotated_1\" class=\"picture-dashboard-MNIST_CNN-935832_output-rotated\" x=\"75.0\" y=\"85\" height=\"50\" width=\"200\" preserveAspectRatio=\"none\" href=\"data:image/gif;base64,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\"><title>Layer: output (output)\n output range: (0.0, 1.0)\n shape = (10,)\n Keras class = Dense\n activation = softmax</title></image><text x=\"288.0\" y=\"112.0\" font-family=\"monospace\" font-size=\"12\" text-anchor=\"middle\" fill=\"black\" alignment-baseline=\"central\"  transform=\"rotate(-90 288.0 112.0) translate(2)\" >output</text><line x1=\"175.0\" y1=\"164\" x2=\"175.0\" y2=\"137\" stroke=\"black\" stroke-width=\"2\" marker-end=\"url(#arrow)\"><title>Weights from hidden to output\n output/kernel has shape (30, 10)\n output/bias has shape (10,)</title></line><rect x=\"74.0\" y=\"164\" width=\"202\" height=\"52\" style=\"fill:none;stroke:black;stroke-width:2\"/><image id=\"picture-dashboard-MNIST_CNN-935832_hidden-rotated_2\" class=\"picture-dashboard-MNIST_CNN-935832_hidden-rotated\" x=\"75.0\" y=\"165\" height=\"50\" width=\"200\" preserveAspectRatio=\"none\" href=\"data:image/gif;base64,R0lGODdhHgABAIcAAPT5/tjn9OPt9wAAAAAAAAAAAAAAAAAAAAAAAAAAAAAAAAAAAAAAAAAAAAAAAAAAAAAAAAAAAAAAAAAAAAAAAAAAAAAAAAAAAAAAAAAAAAAAAAAAAAAAAAAAAAAAAAAAAAAAAAAAAAAAAAAAAAAAAAAAAAAAAAAAAAAAAAAAAAAAAAAAAAAAAAAAAAAAAAAAAAAAAAAAAAAAAAAAAAAAAAAAAAAAAAAAAAAAAAAAAAAAAAAAAAAAAAAAAAAAAAAAAAAAAAAAAAAAAAAAAAAAAAAAAAAAAAAAAAAAAAAAAAAAAAAAAAAAAAAAAAAAAAAAAAAAAAAAAAAAAAAAAAAAAAAAAAAAAAAAAAAAAAAAAAAAAAAAAAAAAAAAAAAAAAAAAAAAAAAAAAAAAAAAAAAAAAAAAAAAAAAAAAAAAAAAAAAAAAAAAAAAAAAAAAAAAAAAAAAAAAAAAAAAAAAAAAAAAAAAAAAAAAAAAAAAAAAAAAAAAAAAAAAAAAAAAAAAAAAAAAAAAAAAAAAAAAAAAAAAAAAAAAAAAAAAAAAAAAAAAAAAAAAAAAAAAAAAAAAAAAAAAAAAAAAAAAAAAAAAAAAAAAAAAAAAAAAAAAAAAAAAAAAAAAAAAAAAAAAAAAAAAAAAAAAAAAAAAAAAAAAAAAAAAAAAAAAAAAAAAAAAAAAAAAAAAAAAAAAAAAAAAAAAAAAAAAAAAAAAAAAAAAAAAAAAAAAAAAAAAAAAAAAAAAAAAAAAAAAAAAAAAAAAAAAAAAAAAAAAAAAAAAAAAAAAAAAAAAAAAAAAAAAAAAAAAAAAAAAAAAAAAAAAAAAAAAAAAAAAAAAAAAAAAAAAAAAAAAAAAAAAAAAAAAAAAAAAAAAAAAAAAAAAAAAAAAAAAAAAAAAAAAAAAAAAAAAAAAAAAAAAAAAAAAAAAAAAAAAAAAAAAAAAAAAAAAAAAAAAAAAAAAAAAAAAAAAAAAAAAAAAAAAAAAAAAAAAAAAAAAAAAAAAAAAAAAAAAAAAAAAAAAAAAAAAACwAAAAAHgABAAAIGgADABgYAIAAAAgRBgAgAIDDhw4FBABAkWJAADs=\"><title>Layer: hidden (hidden)\n output range: (0.0, +Infinity)\n shape = (30,)\n Keras class = Dense\n activation = relu</title></image><text x=\"288.0\" y=\"192.0\" font-family=\"monospace\" font-size=\"12\" text-anchor=\"middle\" fill=\"black\" alignment-baseline=\"central\"  transform=\"rotate(-90 288.0 192.0) translate(2)\" >hidden</text><line x1=\"175.0\" y1=\"244\" x2=\"175.0\" y2=\"217\" stroke=\"black\" stroke-width=\"2\" marker-end=\"url(#arrow)\"><title>Weights from flat to hidden\n hidden/kernel has shape (512, 30)\n hidden/bias has shape (30,)</title></line><rect x=\"74.0\" y=\"244\" width=\"202\" height=\"52\" style=\"fill:none;stroke:black;stroke-width:2\"/><image id=\"picture-dashboard-MNIST_CNN-935832_flat-rotated_3\" class=\"picture-dashboard-MNIST_CNN-935832_flat-rotated\" x=\"75.0\" y=\"245\" height=\"50\" width=\"200\" preserveAspectRatio=\"none\" href=\"data:image/gif;base64,R0lGODdhAAIBAIcAAPv6/efn/9fX/8jI/7e3/6mp/5aW/wAAAAAAAAAAAAAAAAAAAAAAAAAAAAAAAAAAAAAAAAAAAAAAAAAAAAAAAAAAAAAAAAAAAAAAAAAAAAAAAAAAAAAAAAAAAAAAAAAAAAAAAAAAAAAAAAAAAAAAAAAAAAAAAAAAAAAAAAAAAAAAAAAAAAAAAAAAAAAAAAAAAAAAAAAAAAAAAAAAAAAAAAAAAAAAAAAAAAAAAAAAAAAAAAAAAAAAAAAAAAAAAAAAAAAAAAAAAAAAAAAAAAAAAAAAAAAAAAAAAAAAAAAAAAAAAAAAAAAAAAAAAAAAAAAAAAAAAAAAAAAAAAAAAAAAAAAAAAAAAAAAAAAAAAAAAAAAAAAAAAAAAAAAAAAAAAAAAAAAAAAAAAAAAAAAAAAAAAAAAAAAAAAAAAAAAAAAAAAAAAAAAAAAAAAAAAAAAAAAAAAAAAAAAAAAAAAAAAAAAAAAAAAAAAAAAAAAAAAAAAAAAAAAAAAAAAAAAAAAAAAAAAAAAAAAAAAAAAAAAAAAAAAAAAAAAAAAAAAAAAAAAAAAAAAAAAAAAAAAAAAAAAAAAAAAAAAAAAAAAAAAAAAAAAAAAAAAAAAAAAAAAAAAAAAAAAAAAAAAAAAAAAAAAAAAAAAAAAAAAAAAAAAAAAAAAAAAAAAAAAAAAAAAAAAAAAAAAAAAAAAAAAAAAAAAAAAAAAAAAAAAAAAAAAAAAAAAAAAAAAAAAAAAAAAAAAAAAAAAAAAAAAAAAAAAAAAAAAAAAAAAAAAAAAAAAAAAAAAAAAAAAAAAAAAAAAAAAAAAAAAAAAAAAAAAAAAAAAAAAAAAAAAAAAAAAAAAAAAAAAAAAAAAAAAAAAAAAAAAAAAAAAAAAAAAAAAAAAAAAAAAAAAAAAAAAAAAAAAAAAAAAAAAAAAAAAAAAAAAAAAAAAAAAAAAAAAAAAAAAAAAAAAAAAAAAAAAAAAAAAAAAAAAAAAAAAAAAAAAAAAAAAAAAAAAAAAAAAAAAAAAAAAAAAAAAAAAACwAAAAAAAIBAAAI/wABCAQgIIBBAQAEAFgIIACAhxAfBpgIAAABABgzFhAgAACBAAUAAAggIACAkyhPClgZAAABAQBixjQgQACAAgAKAAAQQEAAAECDAg1AIEAAAAQEAFi6dACAAAAMBBgAAEAAAQAABADAtWuAAgECABAgAEAAAGgFCAgAQACAAQDiygUQAIBduwEEBAAAQACAAAACAxgQQACAAQAIAAgAAEAAAJAjAxAQYMAAAAEIANjMeYCAAAAEACAAIACAAABSq1YdQMAAAAEEAJhNWwCA2wEACAAAIIAAAMADCAAQAACAAAICAAAgAIDz5wICDABAPQCA69cDANjOHUAAAAEACNAQAKC8eQICBgAYAEAAgPcBBACYT39+gAACAgQQAKC/f4ADAgQAQADAAAAJAQQA0NBhwwADBAQIQADARYwDAgQAQCDAAAAABAwAACAAgAAAVAIQMCCAAAACBACgCSDAAAECAggAEADAzwAAhA4dOgDA0QACBABgyrTAgAAACAAoAADAAAEAtG4NAADAALAAABQIEADAWQAFCAQAUABAAQAABggAACAAALx5BQwgEAAAgQAAAAQAEGAAAMQFAgwAECCAAACRJU8eICAAAAECAAQEADs=\"><title>Layer: flat (hidden)\n output range: (-Infinity, +Infinity)\n Keras class = Flatten</title></image><text x=\"288.0\" y=\"272.0\" font-family=\"monospace\" font-size=\"12\" text-anchor=\"middle\" fill=\"black\" alignment-baseline=\"central\"  transform=\"rotate(-90 288.0 272.0) translate(2)\" >flat</text><line x1=\"175.0\" y1=\"324\" x2=\"175.0\" y2=\"297\" stroke=\"black\" stroke-width=\"2\" marker-end=\"url(#arrow)\"><title>Weights from maxpool2 to flat</title></line><rect x=\"74.0\" y=\"324\" width=\"202\" height=\"202\" style=\"fill:none;stroke:black;stroke-width:2\"/><image id=\"picture-dashboard-MNIST_CNN-935832_maxpool2-rotated_4\" class=\"picture-dashboard-MNIST_CNN-935832_maxpool2-rotated\" x=\"75.0\" y=\"325\" height=\"200\" width=\"200\" preserveAspectRatio=\"none\" href=\"data:image/gif;base64,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\"><title>Layer: maxpool2 (hidden)\n output range: (-Infinity, +Infinity)\n Keras class = MaxPooling2D</title></image><text x=\"288.0\" y=\"427.0\" font-family=\"monospace\" font-size=\"12\" text-anchor=\"middle\" fill=\"black\" alignment-baseline=\"central\"  transform=\"rotate(-90 288.0 427.0) translate(2)\" >maxpool2</text><text x=\"88.0\" y=\"310\" font-family=\"monospace\" font-size=\"12\" text-anchor=\"middle\" fill=\"black\" alignment-baseline=\"central\"  transform=\"rotate(-90 88.0 310) translate(2)\" >32</text><text x=\"273.0\" y=\"540\" font-family=\"monospace\" font-size=\"12\" text-anchor=\"middle\" fill=\"black\" alignment-baseline=\"central\"  transform=\"rotate(-90 273.0 540) translate(2)\" >0</text><line x1=\"175.0\" y1=\"554\" x2=\"175.0\" y2=\"527\" stroke=\"black\" stroke-width=\"2\" marker-end=\"url(#arrow)\"><title>Weights from conv2D_2 to maxpool2</title></line><rect x=\"74.0\" y=\"554\" width=\"202\" height=\"202\" style=\"fill:none;stroke:black;stroke-width:2\"/><image id=\"picture-dashboard-MNIST_CNN-935832_conv2D_2-rotated_5\" class=\"picture-dashboard-MNIST_CNN-935832_conv2D_2-rotated\" x=\"75.0\" y=\"555\" height=\"200\" width=\"200\" preserveAspectRatio=\"none\" href=\"data:image/gif;base64,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\"><title>Layer: conv2D_2 (hidden)\n output range: (0.0, +Infinity)\n dropout = 0.2\n Keras class = Conv2D\n activation = relu</title></image><text x=\"288.0\" y=\"657.0\" font-family=\"monospace\" font-size=\"12\" text-anchor=\"middle\" fill=\"black\" alignment-baseline=\"central\"  transform=\"rotate(-90 288.0 657.0) translate(2)\" >conv2D_2</text><text x=\"88.0\" y=\"540\" font-family=\"monospace\" font-size=\"12\" text-anchor=\"middle\" fill=\"black\" alignment-baseline=\"central\"  transform=\"rotate(-90 88.0 540) translate(2)\" >32</text><text x=\"273.0\" y=\"770\" font-family=\"monospace\" font-size=\"12\" text-anchor=\"middle\" fill=\"black\" alignment-baseline=\"central\"  transform=\"rotate(-90 273.0 770) translate(2)\" >0</text><text x=\"62.0\" y=\"560\" font-family=\"monospace\" font-size=\"24.0\" text-anchor=\"middle\" fill=\"black\" alignment-baseline=\"central\"  transform=\"rotate(-90 62.0 560) translate(2)\" >&#10683;</text><line x1=\"175.0\" y1=\"784\" x2=\"175.0\" y2=\"757\" stroke=\"black\" stroke-width=\"2\" marker-end=\"url(#arrow)\"><title>Weights from maxpool1 to conv2D_2\n conv2D_2/kernel has shape (5, 5, 16, 32)\n conv2D_2/bias has shape (32,)</title></line><rect x=\"74.0\" y=\"784\" width=\"202\" height=\"202\" style=\"fill:none;stroke:black;stroke-width:2\"/><image id=\"picture-dashboard-MNIST_CNN-935832_maxpool1-rotated_6\" class=\"picture-dashboard-MNIST_CNN-935832_maxpool1-rotated\" x=\"75.0\" y=\"785\" height=\"200\" width=\"200\" preserveAspectRatio=\"none\" href=\"data:image/gif;base64,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\"><title>Layer: maxpool1 (hidden)\n output range: (-Infinity, +Infinity)\n Keras class = MaxPooling2D</title></image><text x=\"288.0\" y=\"887.0\" font-family=\"monospace\" font-size=\"12\" text-anchor=\"middle\" fill=\"black\" alignment-baseline=\"central\"  transform=\"rotate(-90 288.0 887.0) translate(2)\" >maxpool1</text><text x=\"88.0\" y=\"770\" font-family=\"monospace\" font-size=\"12\" text-anchor=\"middle\" fill=\"black\" alignment-baseline=\"central\"  transform=\"rotate(-90 88.0 770) translate(2)\" >16</text><text x=\"273.0\" y=\"1000\" font-family=\"monospace\" font-size=\"12\" text-anchor=\"middle\" fill=\"black\" alignment-baseline=\"central\"  transform=\"rotate(-90 273.0 1000) translate(2)\" >0</text><line x1=\"175.0\" y1=\"1014\" x2=\"175.0\" y2=\"987\" stroke=\"black\" stroke-width=\"2\" marker-end=\"url(#arrow)\"><title>Weights from conv2D_1 to maxpool1</title></line><rect x=\"74.0\" y=\"1014\" width=\"202\" height=\"202\" style=\"fill:none;stroke:black;stroke-width:2\"/><image id=\"picture-dashboard-MNIST_CNN-935832_conv2D_1-rotated_7\" class=\"picture-dashboard-MNIST_CNN-935832_conv2D_1-rotated\" x=\"75.0\" y=\"1015\" height=\"200\" width=\"200\" preserveAspectRatio=\"none\" href=\"data:image/gif;base64,R0lGODdhGAAYAIcAAPT5/uHt99zp9QAAAAAAAAAAAAAAAAAAAAAAAAAAAAAAAAAAAAAAAAAAAAAAAAAAAAAAAAAAAAAAAAAAAAAAAAAAAAAAAAAAAAAAAAAAAAAAAAAAAAAAAAAAAAAAAAAAAAAAAAAAAAAAAAAAAAAAAAAAAAAAAAAAAAAAAAAAAAAAAAAAAAAAAAAAAAAAAAAAAAAAAAAAAAAAAAAAAAAAAAAAAAAAAAAAAAAAAAAAAAAAAAAAAAAAAAAAAAAAAAAAAAAAAAAAAAAAAAAAAAAAAAAAAAAAAAAAAAAAAAAAAAAAAAAAAAAAAAAAAAAAAAAAAAAAAAAAAAAAAAAAAAAAAAAAAAAAAAAAAAAAAAAAAAAAAAAAAAAAAAAAAAAAAAAAAAAAAAAAAAAAAAAAAAAAAAAAAAAAAAAAAAAAAAAAAAAAAAAAAAAAAAAAAAAAAAAAAAAAAAAAAAAAAAAAAAAAAAAAAAAAAAAAAAAAAAAAAAAAAAAAAAAAAAAAAAAAAAAAAAAAAAAAAAAAAAAAAAAAAAAAAAAAAAAAAAAAAAAAAAAAAAAAAAAAAAAAAAAAAAAAAAAAAAAAAAAAAAAAAAAAAAAAAAAAAAAAAAAAAAAAAAAAAAAAAAAAAAAAAAAAAAAAAAAAAAAAAAAAAAAAAAAAAAAAAAAAAAAAAAAAAAAAAAAAAAAAAAAAAAAAAAAAAAAAAAAAAAAAAAAAAAAAAAAAAAAAAAAAAAAAAAAAAAAAAAAAAAAAAAAAAAAAAAAAAAAAAAAAAAAAAAAAAAAAAAAAAAAAAAAAAAAAAAAAAAAAAAAAAAAAAAAAAAAAAAAAAAAAAAAAAAAAAAAAAAAAAAAAAAAAAAAAAAAAAAAAAAAAAAAAAAAAAAAAAAAAAAAAAAAAAAAAAAAAAAAAAAAAAAAAAAAAAAAAAAAAAAAAAAAAAAAAAAAAAAAAAAAAAAAAAAAAAAAAAAAAAAAAAAAAAAAAAAAAAAAAAAAAAAAAAAAAAAAAAAAAAAAAAAAAAAAAAAAAACwAAAAAGAAYAEAI/wABCBxIsKDBgwMDAFjIMAAAAAECAJhIsSIAAQAyaty4UQCAAABCAggAoKTJkyhTnhQAoCWAAABiygQQIACAmzhz6tyZMwCAn0CDCh1K9GcAAEiTJg0QAIDTp1CdCggAoGpVAQIAaAUgIACAr2DDAgggQACAs2jTBggAoK3bt3Djvg0AoK7du3jz6t3Lt69fvwEACB5MuLBhwQEAKF68WACAAAAiS54MQIBlAJgxCwDAGYAAAKBDiw4QAIBpAAEEAFjNWgCA17BjB5gNIACA27hxCwDAu3dvAQEACB9OfLiAAACSKwcQAIDz59ChCwAQAID169izawcQAID37+DDiwYfT748+IAAOw==\"><title>Layer: conv2D_1 (hidden)\n output range: (0.0, +Infinity)\n dropout = 0.2\n Keras class = Conv2D\n activation = relu</title></image><text x=\"288.0\" y=\"1117.0\" font-family=\"monospace\" font-size=\"12\" text-anchor=\"middle\" fill=\"black\" alignment-baseline=\"central\"  transform=\"rotate(-90 288.0 1117.0) translate(2)\" >conv2D_1</text><text x=\"88.0\" y=\"1000\" font-family=\"monospace\" font-size=\"12\" text-anchor=\"middle\" fill=\"black\" alignment-baseline=\"central\"  transform=\"rotate(-90 88.0 1000) translate(2)\" >16</text><text x=\"273.0\" y=\"1230\" font-family=\"monospace\" font-size=\"12\" text-anchor=\"middle\" fill=\"black\" alignment-baseline=\"central\"  transform=\"rotate(-90 273.0 1230) translate(2)\" >0</text><text x=\"62.0\" y=\"1020\" font-family=\"monospace\" font-size=\"24.0\" text-anchor=\"middle\" fill=\"black\" alignment-baseline=\"central\"  transform=\"rotate(-90 62.0 1020) translate(2)\" >&#10683;</text><line x1=\"175.0\" y1=\"1244\" x2=\"175.0\" y2=\"1217\" stroke=\"black\" stroke-width=\"2\" marker-end=\"url(#arrow)\"><title>Weights from input to conv2D_1\n conv2D_1/kernel has shape (5, 5, 1, 16)\n conv2D_1/bias has shape (16,)</title></line><rect x=\"74.0\" y=\"1244\" width=\"202\" height=\"202\" style=\"fill:none;stroke:black;stroke-width:2\"/><image id=\"picture-dashboard-MNIST_CNN-935832_input-rotated_8\" class=\"picture-dashboard-MNIST_CNN-935832_input-rotated\" x=\"75.0\" y=\"1245\" height=\"200\" width=\"200\" preserveAspectRatio=\"none\" href=\"data:image/gif;base64,R0lGODdhHAAcAIcAAAAAAPv7+xUVFVVVVampqbm5uSgoKMfHx4aGhpiYmEREROTk5NjY2Hl5eTU1NWtrawAAAAAAAAAAAAAAAAAAAAAAAAAAAAAAAAAAAAAAAAAAAAAAAAAAAAAAAAAAAAAAAAAAAAAAAAAAAAAAAAAAAAAAAAAAAAAAAAAAAAAAAAAAAAAAAAAAAAAAAAAAAAAAAAAAAAAAAAAAAAAAAAAAAAAAAAAAAAAAAAAAAAAAAAAAAAAAAAAAAAAAAAAAAAAAAAAAAAAAAAAAAAAAAAAAAAAAAAAAAAAAAAAAAAAAAAAAAAAAAAAAAAAAAAAAAAAAAAAAAAAAAAAAAAAAAAAAAAAAAAAAAAAAAAAAAAAAAAAAAAAAAAAAAAAAAAAAAAAAAAAAAAAAAAAAAAAAAAAAAAAAAAAAAAAAAAAAAAAAAAAAAAAAAAAAAAAAAAAAAAAAAAAAAAAAAAAAAAAAAAAAAAAAAAAAAAAAAAAAAAAAAAAAAAAAAAAAAAAAAAAAAAAAAAAAAAAAAAAAAAAAAAAAAAAAAAAAAAAAAAAAAAAAAAAAAAAAAAAAAAAAAAAAAAAAAAAAAAAAAAAAAAAAAAAAAAAAAAAAAAAAAAAAAAAAAAAAAAAAAAAAAAAAAAAAAAAAAAAAAAAAAAAAAAAAAAAAAAAAAAAAAAAAAAAAAAAAAAAAAAAAAAAAAAAAAAAAAAAAAAAAAAAAAAAAAAAAAAAAAAAAAAAAAAAAAAAAAAAAAAAAAAAAAAAAAAAAAAAAAAAAAAAAAAAAAAAAAAAAAAAAAAAAAAAAAAAAAAAAAAAAAAAAAAAAAAAAAAAAAAAAAAAAAAAAAAAAAAAAAAAAAAAAAAAAAAAAAAAAAAAAAAAAAAAAAAAAAAAAAAAAAAAAAAAAAAAAAAAAAAAAAAAAAAAAAAAAAAAAAAAAAAAAAAAAAAAAAAAAAAAAAAAAAAAAAAAAAAAAAAAAAAAAAAAAAAAAAAAAAAAAAAAAAAAAAAAAAAAAAAAAAAAAAAAAAAAAAAAAACwAAAAAHAAcAEAI/wABCBxIsKDBgwUFEBgAoKFDAAIKBDhQAIDFixgxJgjAMQECACBDgmwQoKQAAChTqlzJsqXLBgoAyJxJs6bNmgICBCgAoCcAAgEKCACAIECAAwCSKl2q1IEAAFCjSo1KIEAAAFizat3KtavXAAEcABhLtqzZs2URBFibAIBbAA0CyJV7AIDdu3jtCgjA98CAAgECDABAGECCAAEOAFjMuDEAAwECJABAubJlAAoCBEAAoLPnz6BDgyYQAIDp06hTq17NurXr17BjAwhwwACA27hz696dm0CAAQCCCxeuAIDx48iTE1gwAIDz5wISBJgeQAGA69izX28QoLsBAOAfBIEIMABAgQABBgBYz749AAEBAhwAQF/BggAGAAAwsCBAAIADAAwkWBAAgQAJExYwAMChQwMMAgRAAMDiRYwDAgR4AMDjR5ACGAQIgADASZQoBSxgMADAS5gxAQhgEIABAJw5de7kqVPAggAAhA4lWtRoUQcIACxl2tTpU6hRpU5tGhAAOw==\"><title>Layer: input (input)\n output range: (0.0, 1.0)\n shape = (28, 28, 1)\n Keras class = Input</title></image><text x=\"288.0\" y=\"1347.0\" font-family=\"monospace\" font-size=\"12\" text-anchor=\"middle\" fill=\"black\" alignment-baseline=\"central\"  transform=\"rotate(-90 288.0 1347.0) translate(2)\" >input</text><text x=\"88.0\" y=\"1230\" font-family=\"monospace\" font-size=\"12\" text-anchor=\"middle\" fill=\"black\" alignment-baseline=\"central\"  transform=\"rotate(-90 88.0 1230) translate(2)\" >1</text><text x=\"273.0\" y=\"1460\" font-family=\"monospace\" font-size=\"12\" text-anchor=\"middle\" fill=\"black\" alignment-baseline=\"central\"  transform=\"rotate(-90 273.0 1460) translate(2)\" >0</text><text x=\"18\" y=\"735.0\" font-family=\"monospace\" font-size=\"15\" text-anchor=\"middle\" fill=\"black\" alignment-baseline=\"central\"  transform=\"rotate(-90 18 735.0) translate(2)\" >MNIST_CNN</text></svg></g></svg></p></td>\n</tr>\n<tr>\n  <td valign=\"top\" align=\"center\"><p style=\"text-align:center\"><b>conv2D_1 features</b></p><table><tr><td style=\"border: 1px solid black;\"><img style=\"image-rendering: pixelated;\" class=\"MNIST_CNN_conv2D_1_feature0\" src=\"data:image/gif;base64,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\"/><br/><center>Feature 0</center></td><td style=\"border: 1px solid black;\"><img style=\"image-rendering: pixelated;\" class=\"MNIST_CNN_conv2D_1_feature1\" src=\"data:image/gif;base64,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\"/><br/><center>Feature 1</center></td><td style=\"border: 1px solid black;\"><img style=\"image-rendering: pixelated;\" class=\"MNIST_CNN_conv2D_1_feature2\" src=\"data:image/gif;base64,R0lGODdhYABgAIcAAPb6/uLt+AAAAAAAAAAAAAAAAAAAAAAAAAAAAAAAAAAAAAAAAAAAAAAAAAAAAAAAAAAAAAAAAAAAAAAAAAAAAAAAAAAAAAAAAAAAAAAAAAAAAAAAAAAAAAAAAAAAAAAAAAAAAAAAAAAAAAAAAAAAAAAAAAAAAAAAAAAAAAAAAAAAAAAAAAAAAAAAAAAAAAAAAAAAAAAAAAAAAAAAAAAAAAAAAAAAAAAAAAAAAAAAAAAAAAAAAAAAAAAAAAAAAAAAAAAAAAAAAAAAAAAAAAAAAAAAAAAAAAAAAAAAAAAAAAAAAAAAAAAAAAAAAAAAAAAAAAAAAAAAAAAAAAAAAAAAAAAAAAAAAAAAAAAAAAAAAAAAAAAAAAAAAAAAAAAAAAAAAAAAAAAAAAAAAAAAAAAAAAAAAAAAAAAAAAAAAAAAAAAAAAAAAAAAAAAAAAAAAAAAAAAAAAAAAAAAAAAAAAAAAAAAAAAAAAAAAAAAAAAAAAAAAAAAAAAAAAAAAAAAAAAAAAAAAAAAAAAAAAAAAAAAAAAAAAAAAAAAAAAAAAAAAAAAAAAAAAAAAAAAAAAAAAAAAAAAAAAAAAAAAAAAAAAAAAAAAAAAAAAAAAAAAAAAAAAAAAAAAAAAAAAAAAAAAAAAAAAAAAAAAAAAAAAAAAAAAAAAAAAAAAAAAAAAAAAAAAAAAAAAAAAAAAAAAAAAAAAAAAAAAAAAAAAAAAAAAAAAAAAAAAAAAAAAAAAAAAAAAAAAAAAAAAAAAAAAAAAAAAAAAAAAAAAAAAAAAAAAAAAAAAAAAAAAAAAAAAAAAAAAAAAAAAAAAAAAAAAAAAAAAAAAAAAAAAAAAAAAAAAAAAAAAAAAAAAAAAAAAAAAAAAAAAAAAAAAAAAAAAAAAAAAAAAAAAAAAAAAAAAAAAAAAAAAAAAAAAAAAAAAAAAAAAAAAAAAAAAAAAAAAAAAAAAAAAAAAAAAAAAAAAAAAAAAAAAAAAAAAAAAAAAAAAAAAAAAAAAAAAAAAAAAAAAAAAAAAAAAACwAAAAAYABgAEAI/wABCBxIsKDBgwgTKlzIsKHDhxAjSpxIsaLFixgzatzIsaPHjyBDihxJsqTJkyhTqlzJsqXLlzBjypxpMoDNAABy6tzJs6fPn0CDCh1KtKjRo0iTKl3KtKnTp1CjSp1KtarVq1izat3KtavXr2DDih1LtqzZs2jTql3LlmeAtwEAyJ1Lt67du3jz6t3Lt6/fv4ADCx5MuLDhw4gTK17MuLHjx5AjS55MubLly5gza97MubPnz6BDix5NurTp06hTq17NurXr17Bjy55Nu7bt27hz664boHcAAMCDCx9OvLjx48iTK18OIIDzAACiS59Ovbr169iza9/Ovbv37+DDi3AfT768+fPo06tfz769+/fw48ufT7++/fv48+vfz7+/f4AABA4kWNDgQYQJFS5k2NDhQ4gRJU6kWNHiRYwZNW7k2NHjR5AhRY4kWdLkSZQpVa5k2dLlS5gxZc6kWdPmTZw5de7k2dPnT6BBhQ4lajMgADs=\"/><br/><center>Feature 2</center></td><td style=\"border: 1px solid black;\"><img style=\"image-rendering: pixelated;\" class=\"MNIST_CNN_conv2D_1_feature3\" src=\"data:image/gif;base64,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\"/><br/><center>Feature 3</center></td><td style=\"border: 1px solid black;\"><img style=\"image-rendering: pixelated;\" class=\"MNIST_CNN_conv2D_1_feature4\" src=\"data:image/gif;base64,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\"/><br/><center>Feature 4</center></td><td style=\"border: 1px solid black;\"><img style=\"image-rendering: pixelated;\" class=\"MNIST_CNN_conv2D_1_feature5\" src=\"data:image/gif;base64,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\"/><br/><center>Feature 5</center></td><td style=\"border: 1px solid black;\"><img style=\"image-rendering: pixelated;\" class=\"MNIST_CNN_conv2D_1_feature6\" src=\"data:image/gif;base64,R0lGODdhYABgAIcAAPX6/gAAAAAAAAAAAAAAAAAAAAAAAAAAAAAAAAAAAAAAAAAAAAAAAAAAAAAAAAAAAAAAAAAAAAAAAAAAAAAAAAAAAAAAAAAAAAAAAAAAAAAAAAAAAAAAAAAAAAAAAAAAAAAAAAAAAAAAAAAAAAAAAAAAAAAAAAAAAAAAAAAAAAAAAAAAAAAAAAAAAAAAAAAAAAAAAAAAAAAAAAAAAAAAAAAAAAAAAAAAAAAAAAAAAAAAAAAAAAAAAAAAAAAAAAAAAAAAAAAAAAAAAAAAAAAAAAAAAAAAAAAAAAAAAAAAAAAAAAAAAAAAAAAAAAAAAAAAAAAAAAAAAAAAAAAAAAAAAAAAAAAAAAAAAAAAAAAAAAAAAAAAAAAAAAAAAAAAAAAAAAAAAAAAAAAAAAAAAAAAAAAAAAAAAAAAAAAAAAAAAAAAAAAAAAAAAAAAAAAAAAAAAAAAAAAAAAAAAAAAAAAAAAAAAAAAAAAAAAAAAAAAAAAAAAAAAAAAAAAAAAAAAAAAAAAAAAAAAAAAAAAAAAAAAAAAAAAAAAAAAAAAAAAAAAAAAAAAAAAAAAAAAAAAAAAAAAAAAAAAAAAAAAAAAAAAAAAAAAAAAAAAAAAAAAAAAAAAAAAAAAAAAAAAAAAAAAAAAAAAAAAAAAAAAAAAAAAAAAAAAAAAAAAAAAAAAAAAAAAAAAAAAAAAAAAAAAAAAAAAAAAAAAAAAAAAAAAAAAAAAAAAAAAAAAAAAAAAAAAAAAAAAAAAAAAAAAAAAAAAAAAAAAAAAAAAAAAAAAAAAAAAAAAAAAAAAAAAAAAAAAAAAAAAAAAAAAAAAAAAAAAAAAAAAAAAAAAAAAAAAAAAAAAAAAAAAAAAAAAAAAAAAAAAAAAAAAAAAAAAAAAAAAAAAAAAAAAAAAAAAAAAAAAAAAAAAAAAAAAAAAAAAAAAAAAAAAAAAAAAAAAAAAAAAAAAAAAAAAAAAAAAAAAAAAAAAAAAAAAAAAAAAAAAAAAAAAAAAAAAAAAAAAAAAAAAAAAAAAAAACwAAAAAYABgAEAInAABCBxIsKDBgwgTKlzIsKHDhxAjSpxIsaLFixgzatzIsaPHjyBDihxJsqTJkyhTqlzJsqXLlzBjypxJs6bNmzhz6tzJs6fPn0CDCh1KtKjRo0iTKl3KtKnTp1CjSp1KtarVq1izat3KtavXr2DDih1LtqzZs2jTql3Ltq3bt3Djyp1Lt67du3jz6t3Lt6/fv4ADCx5MuLDhwyQDAgA7\"/><br/><center>Feature 6</center></td><td style=\"border: 1px solid black;\"><img style=\"image-rendering: pixelated;\" class=\"MNIST_CNN_conv2D_1_feature7\" src=\"data:image/gif;base64,R0lGODdhYABgAIcAAPX5/gAAAAAAAAAAAAAAAAAAAAAAAAAAAAAAAAAAAAAAAAAAAAAAAAAAAAAAAAAAAAAAAAAAAAAAAAAAAAAAAAAAAAAAAAAAAAAAAAAAAAAAAAAAAAAAAAAAAAAAAAAAAAAAAAAAAAAAAAAAAAAAAAAAAAAAAAAAAAAAAAAAAAAAAAAAAAAAAAAAAAAAAAAAAAAAAAAAAAAAAAAAAAAAAAAAAAAAAAAAAAAAAAAAAAAAAAAAAAAAAAAAAAAAAAAAAAAAAAAAAAAAAAAAAAAAAAAAAAAAAAAAAAAAAAAAAAAAAAAAAAAAAAAAAAAAAAAAAAAAAAAAAAAAAAAAAAAAAAAAAAAAAAAAAAAAAAAAAAAAAAAAAAAAAAAAAAAAAAAAAAAAAAAAAAAAAAAAAAAAAAAAAAAAAAAAAAAAAAAAAAAAAAAAAAAAAAAAAAAAAAAAAAAAAAAAAAAAAAAAAAAAAAAAAAAAAAAAAAAAAAAAAAAAAAAAAAAAAAAAAAAAAAAAAAAAAAAAAAAAAAAAAAAAAAAAAAAAAAAAAAAAAAAAAAAAAAAAAAAAAAAAAAAAAAAAAAAAAAAAAAAAAAAAAAAAAAAAAAAAAAAAAAAAAAAAAAAAAAAAAAAAAAAAAAAAAAAAAAAAAAAAAAAAAAAAAAAAAAAAAAAAAAAAAAAAAAAAAAAAAAAAAAAAAAAAAAAAAAAAAAAAAAAAAAAAAAAAAAAAAAAAAAAAAAAAAAAAAAAAAAAAAAAAAAAAAAAAAAAAAAAAAAAAAAAAAAAAAAAAAAAAAAAAAAAAAAAAAAAAAAAAAAAAAAAAAAAAAAAAAAAAAAAAAAAAAAAAAAAAAAAAAAAAAAAAAAAAAAAAAAAAAAAAAAAAAAAAAAAAAAAAAAAAAAAAAAAAAAAAAAAAAAAAAAAAAAAAAAAAAAAAAAAAAAAAAAAAAAAAAAAAAAAAAAAAAAAAAAAAAAAAAAAAAAAAAAAAAAAAAAAAAAAAAAAAAAAAAAAAAAAAAAAAAAAAAAAAAAAAACwAAAAAYABgAEAInAABCBxIsKDBgwgTKlzIsKHDhxAjSpxIsaLFixgzatzIsaPHjyBDihxJsqTJkyhTqlzJsqXLlzBjypxJs6bNmzhz6tzJs6fPn0CDCh1KtKjRo0iTKl3KtKnTp1CjSp1KtarVq1izat3KtavXr2DDih1LtqzZs2jTql3Ltq3bt3Djyp1Lt67du3jz6t3Lt6/fv4ADCx5MuLDhwyQDAgA7\"/><br/><center>Feature 7</center></td></tr><tr><td style=\"border: 1px solid black;\"><img style=\"image-rendering: pixelated;\" class=\"MNIST_CNN_conv2D_1_feature8\" src=\"data:image/gif;base64,R0lGODdhYABgAIcAAPb6/gAAAAAAAAAAAAAAAAAAAAAAAAAAAAAAAAAAAAAAAAAAAAAAAAAAAAAAAAAAAAAAAAAAAAAAAAAAAAAAAAAAAAAAAAAAAAAAAAAAAAAAAAAAAAAAAAAAAAAAAAAAAAAAAAAAAAAAAAAAAAAAAAAAAAAAAAAAAAAAAAAAAAAAAAAAAAAAAAAAAAAAAAAAAAAAAAAAAAAAAAAAAAAAAAAAAAAAAAAAAAAAAAAAAAAAAAAAAAAAAAAAAAAAAAAAAAAAAAAAAAAAAAAAAAAAAAAAAAAAAAAAAAAAAAAAAAAAAAAAAAAAAAAAAAAAAAAAAAAAAAAAAAAAAAAAAAAAAAAAAAAAAAAAAAAAAAAAAAAAAAAAAAAAAAAAAAAAAAAAAAAAAAAAAAAAAAAAAAAAAAAAAAAAAAAAAAAAAAAAAAAAAAAAAAAAAAAAAAAAAAAAAAAAAAAAAAAAAAAAAAAAAAAAAAAAAAAAAAAAAAAAAAAAAAAAAAAAAAAAAAAAAAAAAAAAAAAAAAAAAAAAAAAAAAAAAAAAAAAAAAAAAAAAAAAAAAAAAAAAAAAAAAAAAAAAAAAAAAAAAAAAAAAAAAAAAAAAAAAAAAAAAAAAAAAAAAAAAAAAAAAAAAAAAAAAAAAAAAAAAAAAAAAAAAAAAAAAAAAAAAAAAAAAAAAAAAAAAAAAAAAAAAAAAAAAAAAAAAAAAAAAAAAAAAAAAAAAAAAAAAAAAAAAAAAAAAAAAAAAAAAAAAAAAAAAAAAAAAAAAAAAAAAAAAAAAAAAAAAAAAAAAAAAAAAAAAAAAAAAAAAAAAAAAAAAAAAAAAAAAAAAAAAAAAAAAAAAAAAAAAAAAAAAAAAAAAAAAAAAAAAAAAAAAAAAAAAAAAAAAAAAAAAAAAAAAAAAAAAAAAAAAAAAAAAAAAAAAAAAAAAAAAAAAAAAAAAAAAAAAAAAAAAAAAAAAAAAAAAAAAAAAAAAAAAAAAAAAAAAAAAAAAAAAAAAAAAAAAAAAAAAAAAAAAAAAAAAAAAAACwAAAAAYABgAEAInAABCBxIsKDBgwgTKlzIsKHDhxAjSpxIsaLFixgzatzIsaPHjyBDihxJsqTJkyhTqlzJsqXLlzBjypxJs6bNmzhz6tzJs6fPn0CDCh1KtKjRo0iTKl3KtKnTp1CjSp1KtarVq1izat3KtavXr2DDih1LtqzZs2jTql3Ltq3bt3Djyp1Lt67du3jz6t3Lt6/fv4ADCx5MuLDhwyQDAgA7\"/><br/><center>Feature 8</center></td><td style=\"border: 1px solid black;\"><img style=\"image-rendering: pixelated;\" class=\"MNIST_CNN_conv2D_1_feature9\" src=\"data:image/gif;base64,R0lGODdhYABgAIcAAPb6/gAAAAAAAAAAAAAAAAAAAAAAAAAAAAAAAAAAAAAAAAAAAAAAAAAAAAAAAAAAAAAAAAAAAAAAAAAAAAAAAAAAAAAAAAAAAAAAAAAAAAAAAAAAAAAAAAAAAAAAAAAAAAAAAAAAAAAAAAAAAAAAAAAAAAAAAAAAAAAAAAAAAAAAAAAAAAAAAAAAAAAAAAAAAAAAAAAAAAAAAAAAAAAAAAAAAAAAAAAAAAAAAAAAAAAAAAAAAAAAAAAAAAAAAAAAAAAAAAAAAAAAAAAAAAAAAAAAAAAAAAAAAAAAAAAAAAAAAAAAAAAAAAAAAAAAAAAAAAAAAAAAAAAAAAAAAAAAAAAAAAAAAAAAAAAAAAAAAAAAAAAAAAAAAAAAAAAAAAAAAAAAAAAAAAAAAAAAAAAAAAAAAAAAAAAAAAAAAAAAAAAAAAAAAAAAAAAAAAAAAAAAAAAAAAAAAAAAAAAAAAAAAAAAAAAAAAAAAAAAAAAAAAAAAAAAAAAAAAAAAAAAAAAAAAAAAAAAAAAAAAAAAAAAAAAAAAAAAAAAAAAAAAAAAAAAAAAAAAAAAAAAAAAAAAAAAAAAAAAAAAAAAAAAAAAAAAAAAAAAAAAAAAAAAAAAAAAAAAAAAAAAAAAAAAAAAAAAAAAAAAAAAAAAAAAAAAAAAAAAAAAAAAAAAAAAAAAAAAAAAAAAAAAAAAAAAAAAAAAAAAAAAAAAAAAAAAAAAAAAAAAAAAAAAAAAAAAAAAAAAAAAAAAAAAAAAAAAAAAAAAAAAAAAAAAAAAAAAAAAAAAAAAAAAAAAAAAAAAAAAAAAAAAAAAAAAAAAAAAAAAAAAAAAAAAAAAAAAAAAAAAAAAAAAAAAAAAAAAAAAAAAAAAAAAAAAAAAAAAAAAAAAAAAAAAAAAAAAAAAAAAAAAAAAAAAAAAAAAAAAAAAAAAAAAAAAAAAAAAAAAAAAAAAAAAAAAAAAAAAAAAAAAAAAAAAAAAAAAAAAAAAAAAAAAAAAAAAAAAAAAAAAAAAAAAAAAAAAAAAACwAAAAAYABgAEAInAABCBxIsKDBgwgTKlzIsKHDhxAjSpxIsaLFixgzatzIsaPHjyBDihxJsqTJkyhTqlzJsqXLlzBjypxJs6bNmzhz6tzJs6fPn0CDCh1KtKjRo0iTKl3KtKnTp1CjSp1KtarVq1izat3KtavXr2DDih1LtqzZs2jTql3Ltq3bt3Djyp1Lt67du3jz6t3Lt6/fv4ADCx5MuLDhwyQDAgA7\"/><br/><center>Feature 9</center></td><td style=\"border: 1px solid black;\"><img style=\"image-rendering: pixelated;\" class=\"MNIST_CNN_conv2D_1_feature10\" src=\"data:image/gif;base64,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\"/><br/><center>Feature 10</center></td><td style=\"border: 1px solid black;\"><img style=\"image-rendering: pixelated;\" class=\"MNIST_CNN_conv2D_1_feature11\" src=\"data:image/gif;base64,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\"/><br/><center>Feature 11</center></td><td style=\"border: 1px solid black;\"><img style=\"image-rendering: pixelated;\" class=\"MNIST_CNN_conv2D_1_feature12\" src=\"data:image/gif;base64,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\"/><br/><center>Feature 12</center></td><td style=\"border: 1px solid black;\"><img style=\"image-rendering: pixelated;\" class=\"MNIST_CNN_conv2D_1_feature13\" src=\"data:image/gif;base64,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\"/><br/><center>Feature 13</center></td><td style=\"border: 1px solid black;\"><img style=\"image-rendering: pixelated;\" class=\"MNIST_CNN_conv2D_1_feature14\" src=\"data:image/gif;base64,R0lGODdhYABgAIcAAPb6/gAAAAAAAAAAAAAAAAAAAAAAAAAAAAAAAAAAAAAAAAAAAAAAAAAAAAAAAAAAAAAAAAAAAAAAAAAAAAAAAAAAAAAAAAAAAAAAAAAAAAAAAAAAAAAAAAAAAAAAAAAAAAAAAAAAAAAAAAAAAAAAAAAAAAAAAAAAAAAAAAAAAAAAAAAAAAAAAAAAAAAAAAAAAAAAAAAAAAAAAAAAAAAAAAAAAAAAAAAAAAAAAAAAAAAAAAAAAAAAAAAAAAAAAAAAAAAAAAAAAAAAAAAAAAAAAAAAAAAAAAAAAAAAAAAAAAAAAAAAAAAAAAAAAAAAAAAAAAAAAAAAAAAAAAAAAAAAAAAAAAAAAAAAAAAAAAAAAAAAAAAAAAAAAAAAAAAAAAAAAAAAAAAAAAAAAAAAAAAAAAAAAAAAAAAAAAAAAAAAAAAAAAAAAAAAAAAAAAAAAAAAAAAAAAAAAAAAAAAAAAAAAAAAAAAAAAAAAAAAAAAAAAAAAAAAAAAAAAAAAAAAAAAAAAAAAAAAAAAAAAAAAAAAAAAAAAAAAAAAAAAAAAAAAAAAAAAAAAAAAAAAAAAAAAAAAAAAAAAAAAAAAAAAAAAAAAAAAAAAAAAAAAAAAAAAAAAAAAAAAAAAAAAAAAAAAAAAAAAAAAAAAAAAAAAAAAAAAAAAAAAAAAAAAAAAAAAAAAAAAAAAAAAAAAAAAAAAAAAAAAAAAAAAAAAAAAAAAAAAAAAAAAAAAAAAAAAAAAAAAAAAAAAAAAAAAAAAAAAAAAAAAAAAAAAAAAAAAAAAAAAAAAAAAAAAAAAAAAAAAAAAAAAAAAAAAAAAAAAAAAAAAAAAAAAAAAAAAAAAAAAAAAAAAAAAAAAAAAAAAAAAAAAAAAAAAAAAAAAAAAAAAAAAAAAAAAAAAAAAAAAAAAAAAAAAAAAAAAAAAAAAAAAAAAAAAAAAAAAAAAAAAAAAAAAAAAAAAAAAAAAAAAAAAAAAAAAAAAAAAAAAAAAAAAAAAAAAAAAAAAAAAAAAAAAAAAAAAAAAACwAAAAAYABgAEAInAABCBxIsKDBgwgTKlzIsKHDhxAjSpxIsaLFixgzatzIsaPHjyBDihxJsqTJkyhTqlzJsqXLlzBjypxJs6bNmzhz6tzJs6fPn0CDCh1KtKjRo0iTKl3KtKnTp1CjSp1KtarVq1izat3KtavXr2DDih1LtqzZs2jTql3Ltq3bt3Djyp1Lt67du3jz6t3Lt6/fv4ADCx5MuLDhwyQDAgA7\"/><br/><center>Feature 14</center></td><td style=\"border: 1px solid black;\"><img style=\"image-rendering: pixelated;\" class=\"MNIST_CNN_conv2D_1_feature15\" src=\"data:image/gif;base64,R0lGODdhYABgAIcAAPX6/uTu+AAAAAAAAAAAAAAAAAAAAAAAAAAAAAAAAAAAAAAAAAAAAAAAAAAAAAAAAAAAAAAAAAAAAAAAAAAAAAAAAAAAAAAAAAAAAAAAAAAAAAAAAAAAAAAAAAAAAAAAAAAAAAAAAAAAAAAAAAAAAAAAAAAAAAAAAAAAAAAAAAAAAAAAAAAAAAAAAAAAAAAAAAAAAAAAAAAAAAAAAAAAAAAAAAAAAAAAAAAAAAAAAAAAAAAAAAAAAAAAAAAAAAAAAAAAAAAAAAAAAAAAAAAAAAAAAAAAAAAAAAAAAAAAAAAAAAAAAAAAAAAAAAAAAAAAAAAAAAAAAAAAAAAAAAAAAAAAAAAAAAAAAAAAAAAAAAAAAAAAAAAAAAAAAAAAAAAAAAAAAAAAAAAAAAAAAAAAAAAAAAAAAAAAAAAAAAAAAAAAAAAAAAAAAAAAAAAAAAAAAAAAAAAAAAAAAAAAAAAAAAAAAAAAAAAAAAAAAAAAAAAAAAAAAAAAAAAAAAAAAAAAAAAAAAAAAAAAAAAAAAAAAAAAAAAAAAAAAAAAAAAAAAAAAAAAAAAAAAAAAAAAAAAAAAAAAAAAAAAAAAAAAAAAAAAAAAAAAAAAAAAAAAAAAAAAAAAAAAAAAAAAAAAAAAAAAAAAAAAAAAAAAAAAAAAAAAAAAAAAAAAAAAAAAAAAAAAAAAAAAAAAAAAAAAAAAAAAAAAAAAAAAAAAAAAAAAAAAAAAAAAAAAAAAAAAAAAAAAAAAAAAAAAAAAAAAAAAAAAAAAAAAAAAAAAAAAAAAAAAAAAAAAAAAAAAAAAAAAAAAAAAAAAAAAAAAAAAAAAAAAAAAAAAAAAAAAAAAAAAAAAAAAAAAAAAAAAAAAAAAAAAAAAAAAAAAAAAAAAAAAAAAAAAAAAAAAAAAAAAAAAAAAAAAAAAAAAAAAAAAAAAAAAAAAAAAAAAAAAAAAAAAAAAAAAAAAAAAAAAAAAAAAAAAAAAAAAAAAAAAAAAAAAAAAAAAAAAAAAAAAAAAAAAAAAAAAAAACwAAAAAYABgAEAI/wABCBxIsKDBgwgTKlzIsKHDhxAjSpxIsaLFiQEyBgDAsaPHjyBDihxJsqTJkyhTqlzJsqXLlzBjypxJs6bNmzhz6rQZoGcAAECDCh1KtKjRo0iTKl3KtKnTp1CjSp1KtarVq1izat3KtWuArwEAiB1LtqzZs2jTql2rNoDbAADiyp1Lt67du3jz6t3Lt6/fv4ADCx5MuLDhw4gTK17MuLHjx5AjS55MubLly5gza97MubPnz6AlBxgdAIDp06hTq17NurXr17BdB5gdAIDt27hz697Nu7fv38BtBxgeAIDx48iTK1/OvLnz59CjS59Ovbr169iza9/Ovbv37+DDi/8fT768+fPo06tfz769+/fw40cPQD8AgPv48+vfz7+/f4AABA4kWNDgQYQJFS5k2NDhQ4gRJU6kWNHiRYwZNW7k2NHjR5AhRY4kWdLkSZQpVa5k2dLlS5gxZaIMUDMAAJw5de7k2dPnT6BBhQ4FEMBoAABJlS5l2tTpU6hRpU6NGsBqAABZtW7l2tXrV7BhxY4lCyDA2QAA1K5l29btW7hx5c6lqzbA3QAA9O7l29fvX8CBBQ8mXBhAAMQBACxm3NjxY8iRJU+mXNnyZcyZNW/m3NnzZ9ChRY8mXdr0adSpVa9m3dr1a9ixZc+mXdv2bdy5de/m3dv3b+DBhQ8nXtxu+HHgAZQHANDc+XPo0aVPp17d+nXsAAJsDwDA+3fw4cWPJ1/e/Hn06dWvZ9/e/Xv48eXPp1/f/n38+fXv59/fP0AAAgcSLGjwIMKEChcybOjwIcSIEidSrGjxIsaMGjdy7OjxI8iQIkeSLGmSZEAAOw==\"/><br/><center>Feature 15</center></td></tr><tr></tr></table></td>\n</tr>\n</table>"
      }
     },
     "9e6be4ceb2a942b4a30fe2798295b004": {
      "model_module": "@jupyter-widgets/controls",
      "model_module_version": "1.1.0",
      "model_name": "CheckboxModel",
      "state": {
       "description": "Errors",
       "disabled": false,
       "layout": "IPY_MODEL_4abd863981614d23a1f58a2d7afee81b",
       "style": "IPY_MODEL_142eee6ee5b14878b920456df684217a",
       "value": false
      }
     },
     "a0a44c45d5ce410fa52aa336d676ac3f": {
      "model_module": "@jupyter-widgets/controls",
      "model_module_version": "1.1.0",
      "model_name": "CheckboxModel",
      "state": {
       "description": "Visible",
       "disabled": false,
       "layout": "IPY_MODEL_c6613434354a4757a1e313434f827014",
       "style": "IPY_MODEL_6623b913940e422386c1062f0e7b4638",
       "value": true
      }
     },
     "a2619df2cf4e441e846c217c1882c5c3": {
      "model_module": "@jupyter-widgets/base",
      "model_module_version": "1.0.0",
      "model_name": "LayoutModel",
      "state": {}
     },
     "a3da5e6cd1e648c4be239db21525dffd": {
      "model_module": "@jupyter-widgets/base",
      "model_module_version": "1.0.0",
      "model_name": "LayoutModel",
      "state": {
       "width": "100%"
      }
     },
     "a492a2e84f42465980d644880bdf1ac4": {
      "model_module": "@jupyter-widgets/base",
      "model_module_version": "1.0.0",
      "model_name": "LayoutModel",
      "state": {
       "width": "100%"
      }
     },
     "a4d4ceb5917e45db914785f98b752cc4": {
      "model_module": "@jupyter-widgets/base",
      "model_module_version": "1.0.0",
      "model_name": "LayoutModel",
      "state": {
       "width": "100%"
      }
     },
     "a72f03d30e464a00bc9deab872d9eb30": {
      "model_module": "@jupyter-widgets/controls",
      "model_module_version": "1.1.0",
      "model_name": "HBoxModel",
      "state": {
       "children": [
        "IPY_MODEL_c5c85e6d86814f7dbdb78031a95acb48",
        "IPY_MODEL_75c101e410c642c5ab222c6736aaaf8c"
       ],
       "layout": "IPY_MODEL_434218473a424681b311c1098cd3858e"
      }
     },
     "aa072bd563f447f8944b4b1ae93e5321": {
      "model_module": "@jupyter-widgets/base",
      "model_module_version": "1.0.0",
      "model_name": "LayoutModel",
      "state": {}
     },
     "ad4621a2276145f5931514af81148ab7": {
      "model_module": "@jupyter-widgets/controls",
      "model_module_version": "1.1.0",
      "model_name": "VBoxModel",
      "state": {
       "children": [
        "IPY_MODEL_b909e32b49fc49d3beb4b0cac1d799b8",
        "IPY_MODEL_dfec4dcef44d4a68b7219ad3a750b648",
        "IPY_MODEL_9de71d62717d474e8626290a2834ed84",
        "IPY_MODEL_06eb29e854964b74be375af958c077a8"
       ],
       "layout": "IPY_MODEL_be92e8d8852f4ab4b700ab8b6082ab6d"
      }
     },
     "af22e8fa11db4baba172d6a0e8416871": {
      "model_module": "@jupyter-widgets/controls",
      "model_module_version": "1.1.0",
      "model_name": "DescriptionStyleModel",
      "state": {
       "description_width": ""
      }
     },
     "b04079a3437a4877b54f9552364409b7": {
      "model_module": "@jupyter-widgets/controls",
      "model_module_version": "1.1.0",
      "model_name": "DescriptionStyleModel",
      "state": {
       "description_width": ""
      }
     },
     "b0c282c29508432694cfe6223f33579c": {
      "model_module": "@jupyter-widgets/controls",
      "model_module_version": "1.1.0",
      "model_name": "HBoxModel",
      "state": {
       "children": [
        "IPY_MODEL_4cd4986a246b46a1a9f2033815cbcc13",
        "IPY_MODEL_690dffefc02042dc96783de0f7b433e1"
       ],
       "layout": "IPY_MODEL_d9daa591a0cd4436a0f3b1bb381aff22"
      }
     },
     "b3a7320d36c34bbfafc0321e8e87c7bf": {
      "model_module": "@jupyter-widgets/controls",
      "model_module_version": "1.1.0",
      "model_name": "ButtonStyleModel",
      "state": {}
     },
     "b4a09c15a3944403a2095143400c5452": {
      "model_module": "@jupyter-widgets/base",
      "model_module_version": "1.0.0",
      "model_name": "LayoutModel",
      "state": {
       "width": "10%"
      }
     },
     "b4ec39ef11de46e29568125c5321687d": {
      "model_module": "@jupyter-widgets/base",
      "model_module_version": "1.0.0",
      "model_name": "LayoutModel",
      "state": {
       "height": "40px"
      }
     },
     "b5039877e1384e819efa981154a9a879": {
      "model_module": "@jupyter-widgets/base",
      "model_module_version": "1.0.0",
      "model_name": "LayoutModel",
      "state": {}
     },
     "b909e32b49fc49d3beb4b0cac1d799b8": {
      "model_module": "@jupyter-widgets/controls",
      "model_module_version": "1.1.0",
      "model_name": "AccordionModel",
      "state": {
       "_titles": {
        "0": "MNIST_CNN"
       },
       "children": [
        "IPY_MODEL_d913d74d016a46adbbb4b8a1b9adffdd"
       ],
       "layout": "IPY_MODEL_6fbf452470b940af9e0a58f76a6b5983",
       "selected_index": null
      }
     },
     "b90b3bd2da884e4a952faf2386c15d1d": {
      "model_module": "@jupyter-widgets/controls",
      "model_module_version": "1.1.0",
      "model_name": "DescriptionStyleModel",
      "state": {
       "description_width": "initial"
      }
     },
     "b962c960e6f343a8b61785a5ae22f061": {
      "model_module": "@jupyter-widgets/base",
      "model_module_version": "1.0.0",
      "model_name": "LayoutModel",
      "state": {
       "width": "52%"
      }
     },
     "ba4841b043db48968149bcbf359a18b0": {
      "model_module": "@jupyter-widgets/controls",
      "model_module_version": "1.1.0",
      "model_name": "DescriptionStyleModel",
      "state": {
       "description_width": "initial"
      }
     },
     "bdb737e09ddc45dfab17446fa97d70a5": {
      "model_module": "@jupyter-widgets/controls",
      "model_module_version": "1.1.0",
      "model_name": "DescriptionStyleModel",
      "state": {
       "description_width": "initial"
      }
     },
     "be306ceca1f24298943835ce15099b68": {
      "model_module": "@jupyter-widgets/controls",
      "model_module_version": "1.1.0",
      "model_name": "FloatTextModel",
      "state": {
       "description": "Feature scale:",
       "layout": "IPY_MODEL_865af5c667bd4408a1841fb25642a55e",
       "step": null,
       "style": "IPY_MODEL_b90b3bd2da884e4a952faf2386c15d1d",
       "value": 1
      }
     },
     "be46f72e78784298af838d14967f932a": {
      "model_module": "@jupyter-widgets/controls",
      "model_module_version": "1.1.0",
      "model_name": "FloatSliderModel",
      "state": {
       "continuous_update": false,
       "description": "Zoom",
       "layout": "IPY_MODEL_4e9771e652734daea22560f9aee2fc07",
       "max": 1,
       "step": 0.1,
       "style": "IPY_MODEL_beb4a596305243ecacbfef44227d051d",
       "value": 0.5
      }
     },
     "be92e8d8852f4ab4b700ab8b6082ab6d": {
      "model_module": "@jupyter-widgets/base",
      "model_module_version": "1.0.0",
      "model_name": "LayoutModel",
      "state": {}
     },
     "beb4a596305243ecacbfef44227d051d": {
      "model_module": "@jupyter-widgets/controls",
      "model_module_version": "1.1.0",
      "model_name": "SliderStyleModel",
      "state": {
       "description_width": "initial"
      }
     },
     "c01b3851e6514a0a9692f84243ed7571": {
      "model_module": "@jupyter-widgets/controls",
      "model_module_version": "1.1.0",
      "model_name": "DescriptionStyleModel",
      "state": {
       "description_width": ""
      }
     },
     "c2d5b045ea0b419fa4f98c6a301c5cf3": {
      "model_module": "@jupyter-widgets/controls",
      "model_module_version": "1.1.0",
      "model_name": "DescriptionStyleModel",
      "state": {
       "description_width": ""
      }
     },
     "c42e30bc216d430bb9e2a7219f5e7680": {
      "model_module": "@jupyter-widgets/controls",
      "model_module_version": "1.1.0",
      "model_name": "DescriptionStyleModel",
      "state": {
       "description_width": ""
      }
     },
     "c491050fa35b4a7080cccfb7997a06a8": {
      "model_module": "@jupyter-widgets/base",
      "model_module_version": "1.0.0",
      "model_name": "LayoutModel",
      "state": {}
     },
     "c5a78f24d7394962bf0c979c6da4f931": {
      "model_module": "@jupyter-widgets/controls",
      "model_module_version": "1.1.0",
      "model_name": "LabelModel",
      "state": {
       "layout": "IPY_MODEL_8fc6948e62eb4b0c965e55ab269d950b",
       "style": "IPY_MODEL_47f4e2447c384122842be98eb2d6dc48",
       "value": "of 60000"
      }
     },
     "c5c85e6d86814f7dbdb78031a95acb48": {
      "model_module": "@jupyter-widgets/controls",
      "model_module_version": "1.1.0",
      "model_name": "IntSliderModel",
      "state": {
       "continuous_update": false,
       "description": "Dataset index",
       "layout": "IPY_MODEL_90f2336f0709471cbe43d575c2f4055d",
       "max": 59999,
       "style": "IPY_MODEL_57db29d6a86d4b68b72db8cc8870c153"
      }
     },
     "c6613434354a4757a1e313434f827014": {
      "model_module": "@jupyter-widgets/base",
      "model_module_version": "1.0.0",
      "model_name": "LayoutModel",
      "state": {}
     },
     "c6ccedc8f76c458996dfc73d44167f3f": {
      "model_module": "@jupyter-widgets/controls",
      "model_module_version": "1.1.0",
      "model_name": "ButtonModel",
      "state": {
       "icon": "forward",
       "layout": "IPY_MODEL_2c8339416e804df3b9977ea94c9f2f04",
       "style": "IPY_MODEL_fd25e15dae9a49ef830c9ec76ea7952e"
      }
     },
     "c91b95bfac56436fbf28ddfa59ce6ba5": {
      "model_module": "@jupyter-widgets/controls",
      "model_module_version": "1.1.0",
      "model_name": "IntTextModel",
      "state": {
       "description": "Feature to show:",
       "layout": "IPY_MODEL_128108c5be254fd99c83490cd35dbdbe",
       "step": 1,
       "style": "IPY_MODEL_8c52842ae59b49e9b4932949447db632"
      }
     },
     "cb1bc00b76994cc8a99d1c5428f1e492": {
      "model_module": "@jupyter-widgets/controls",
      "model_module_version": "1.1.0",
      "model_name": "ButtonStyleModel",
      "state": {}
     },
     "cf550ba00899490cb33cc03d7b8f37cb": {
      "model_module": "@jupyter-widgets/base",
      "model_module_version": "1.0.0",
      "model_name": "LayoutModel",
      "state": {
       "width": "100%"
      }
     },
     "d44765ca714b4127ba3af1a3975325fb": {
      "model_module": "@jupyter-widgets/base",
      "model_module_version": "1.0.0",
      "model_name": "LayoutModel",
      "state": {}
     },
     "d4edf50a74814c1dbf470b954de56dd2": {
      "model_module": "@jupyter-widgets/base",
      "model_module_version": "1.0.0",
      "model_name": "LayoutModel",
      "state": {
       "width": "100%"
      }
     },
     "d6437246fc0b43b3adfdca817aaccf09": {
      "model_module": "@jupyter-widgets/controls",
      "model_module_version": "1.1.0",
      "model_name": "HBoxModel",
      "state": {
       "children": [
        "IPY_MODEL_07e4267cfeee4f25b6105ddb607f6b5b",
        "IPY_MODEL_69f2cf4cdfa846ceb5f403dd73e0dc2c",
        "IPY_MODEL_287b771a1c9645adbf59beaf21c21346",
        "IPY_MODEL_c6ccedc8f76c458996dfc73d44167f3f",
        "IPY_MODEL_5951fa50636c42c2be1bd303f40fcf6f",
        "IPY_MODEL_2c55c573f011406f956c72733c7d232d",
        "IPY_MODEL_7e9634d73d764d58beaed674e5008675"
       ],
       "layout": "IPY_MODEL_957d5dd1e6414bc29040d0a831de5cfd"
      }
     },
     "d7d346a3743042b9ada4c9b9c5bd852b": {
      "model_module": "@jupyter-widgets/controls",
      "model_module_version": "1.1.0",
      "model_name": "DescriptionStyleModel",
      "state": {
       "description_width": "initial"
      }
     },
     "d8948bcf485d48afab95fca66e70c972": {
      "model_module": "@jupyter-widgets/controls",
      "model_module_version": "1.1.0",
      "model_name": "DescriptionStyleModel",
      "state": {
       "description_width": ""
      }
     },
     "d913d74d016a46adbbb4b8a1b9adffdd": {
      "model_module": "@jupyter-widgets/controls",
      "model_module_version": "1.1.0",
      "model_name": "HBoxModel",
      "state": {
       "children": [
        "IPY_MODEL_70d163252a4c444ba10e52c0c227f634",
        "IPY_MODEL_ed48f5d5f3764359990dc05cf72f24e5"
       ],
       "layout": "IPY_MODEL_47821b222f85410e93c20b0242ca46d0"
      }
     },
     "d9daa591a0cd4436a0f3b1bb381aff22": {
      "model_module": "@jupyter-widgets/base",
      "model_module_version": "1.0.0",
      "model_name": "LayoutModel",
      "state": {}
     },
     "da7af56aa51c4a8eb2cb54b1dbda0f97": {
      "model_module": "@jupyter-widgets/base",
      "model_module_version": "1.0.0",
      "model_name": "LayoutModel",
      "state": {
       "width": "100%"
      }
     },
     "db22ae94397748d2a80b96a3e0b4a72e": {
      "model_module": "@jupyter-widgets/base",
      "model_module_version": "1.0.0",
      "model_name": "LayoutModel",
      "state": {
       "width": "100%"
      }
     },
     "dc708286d1e941ef91a9d406ca821d1b": {
      "model_module": "@jupyter-widgets/controls",
      "model_module_version": "1.1.0",
      "model_name": "HBoxModel",
      "state": {
       "children": [
        "IPY_MODEL_e4b1d3e618424a79b3ec2d97c45f3540",
        "IPY_MODEL_c5a78f24d7394962bf0c979c6da4f931"
       ],
       "layout": "IPY_MODEL_b4ec39ef11de46e29568125c5321687d"
      }
     },
     "dd63fd368eff43ff86e776a3080edbd9": {
      "model_module": "@jupyter-widgets/base",
      "model_module_version": "1.0.0",
      "model_name": "LayoutModel",
      "state": {
       "justify_content": "center",
       "overflow_x": "auto",
       "overflow_y": "auto",
       "width": "95%"
      }
     },
     "dea5bf073d25406daa982cd609fc8fbc": {
      "model_module": "@jupyter-widgets/controls",
      "model_module_version": "1.1.0",
      "model_name": "HBoxModel",
      "state": {
       "children": [
        "IPY_MODEL_20b3469b741d4e8db1f11b2d79b3823c",
        "IPY_MODEL_54b69a5065854bfc9e3456fc5c18bdb9"
       ],
       "layout": "IPY_MODEL_b5039877e1384e819efa981154a9a879"
      }
     },
     "df04c6f239db4d4093ca5093d0041f2b": {
      "model_module": "@jupyter-widgets/controls",
      "model_module_version": "1.1.0",
      "model_name": "DescriptionStyleModel",
      "state": {
       "description_width": ""
      }
     },
     "dfec4dcef44d4a68b7219ad3a750b648": {
      "model_module": "@jupyter-widgets/controls",
      "model_module_version": "1.1.0",
      "model_name": "VBoxModel",
      "state": {
       "children": [
        "IPY_MODEL_a72f03d30e464a00bc9deab872d9eb30",
        "IPY_MODEL_d6437246fc0b43b3adfdca817aaccf09"
       ],
       "layout": "IPY_MODEL_e966743d016d49e38dc4d9e1849433d6"
      }
     },
     "e088b1704bd1474899c96b6d7e459608": {
      "model_module": "@jupyter-widgets/controls",
      "model_module_version": "1.1.0",
      "model_name": "AccordionModel",
      "state": {
       "_titles": {
        "0": "MNIST_MLP"
       },
       "children": [
        "IPY_MODEL_23c54cb4f14e40458fea330a4e91f53f"
       ],
       "layout": "IPY_MODEL_33241488c7814817917750c212dc159f",
       "selected_index": null
      }
     },
     "e2a9444acc024d24aceba5a9c00c2a42": {
      "model_module": "@jupyter-widgets/base",
      "model_module_version": "1.0.0",
      "model_name": "LayoutModel",
      "state": {
       "width": "25%"
      }
     },
     "e4b1d3e618424a79b3ec2d97c45f3540": {
      "model_module": "@jupyter-widgets/controls",
      "model_module_version": "1.1.0",
      "model_name": "IntSliderModel",
      "state": {
       "continuous_update": false,
       "description": "Dataset index",
       "layout": "IPY_MODEL_973d273a6c604946802afcccf077e8d0",
       "max": 59999,
       "style": "IPY_MODEL_431491621a334a60a2c0ac79f8294cd5"
      }
     },
     "e4cc4f5c8397447a9050622c4748abf2": {
      "model_module": "@jupyter-widgets/controls",
      "model_module_version": "1.1.0",
      "model_name": "HBoxModel",
      "state": {
       "children": [
        "IPY_MODEL_fbfbafddf4f04c05aee09feff1d1f942",
        "IPY_MODEL_9e6be4ceb2a942b4a30fe2798295b004"
       ],
       "layout": "IPY_MODEL_0d11b6520acc4082b0d7831860dac205"
      }
     },
     "e93d1e19185f4d51855c915783ce727e": {
      "model_module": "@jupyter-widgets/controls",
      "model_module_version": "1.1.0",
      "model_name": "DescriptionStyleModel",
      "state": {
       "description_width": "initial"
      }
     },
     "e966743d016d49e38dc4d9e1849433d6": {
      "model_module": "@jupyter-widgets/base",
      "model_module_version": "1.0.0",
      "model_name": "LayoutModel",
      "state": {
       "width": "100%"
      }
     },
     "e9753c0b73cb4e8988c7518ea09906ad": {
      "model_module": "@jupyter-widgets/controls",
      "model_module_version": "1.1.0",
      "model_name": "DescriptionStyleModel",
      "state": {
       "description_width": ""
      }
     },
     "ed48f5d5f3764359990dc05cf72f24e5": {
      "model_module": "@jupyter-widgets/controls",
      "model_module_version": "1.1.0",
      "model_name": "VBoxModel",
      "state": {
       "children": [
        "IPY_MODEL_05d530e1064440c897428b5977e291f8",
        "IPY_MODEL_00655d5c7d7543a093acc1386bc58bfc",
        "IPY_MODEL_5e0836968430451c96041ef8419276bb",
        "IPY_MODEL_89da00bf5e8d4e7dbaa321c01133707b",
        "IPY_MODEL_0601860cf27a482eac2df6cb2700877e",
        "IPY_MODEL_4b570d8c3e3f4e00966cd25a09d2f395",
        "IPY_MODEL_7dacfc8e113b46c8b007f403ec1d8485",
        "IPY_MODEL_dea5bf073d25406daa982cd609fc8fbc"
       ],
       "layout": "IPY_MODEL_043413b631494bd68615947881d61d2e"
      }
     },
     "eef4ea0e36154c77ad58e81de2c8f73f": {
      "model_module": "@jupyter-widgets/controls",
      "model_module_version": "1.1.0",
      "model_name": "VBoxModel",
      "state": {
       "children": [
        "IPY_MODEL_dc708286d1e941ef91a9d406ca821d1b",
        "IPY_MODEL_655949d6959c43bca0298d95a5c8c575"
       ],
       "layout": "IPY_MODEL_a3da5e6cd1e648c4be239db21525dffd"
      }
     },
     "f01ea180c26d40939c3bbe393baf2498": {
      "model_module": "@jupyter-widgets/base",
      "model_module_version": "1.0.0",
      "model_name": "LayoutModel",
      "state": {}
     },
     "f2b61860d21f4c32b7163413def91a0b": {
      "model_module": "@jupyter-widgets/base",
      "model_module_version": "1.0.0",
      "model_name": "LayoutModel",
      "state": {}
     },
     "f4efe0cb32b647a1ad793b21380d7ee3": {
      "model_module": "@jupyter-widgets/controls",
      "model_module_version": "1.1.0",
      "model_name": "DescriptionStyleModel",
      "state": {
       "description_width": "initial"
      }
     },
     "f7c6710f117743469517a29a75252730": {
      "model_module": "@jupyter-widgets/base",
      "model_module_version": "1.0.0",
      "model_name": "LayoutModel",
      "state": {
       "width": "100%"
      }
     },
     "f8b46844f42743b587119811e1026cee": {
      "model_module": "@jupyter-widgets/controls",
      "model_module_version": "1.1.0",
      "model_name": "DescriptionStyleModel",
      "state": {
       "description_width": "initial"
      }
     },
     "f9a0da639aff4c779d649cee3ff6405d": {
      "model_module": "@jupyter-widgets/controls",
      "model_module_version": "1.1.0",
      "model_name": "CheckboxModel",
      "state": {
       "description": "Rotate",
       "disabled": false,
       "layout": "IPY_MODEL_c6613434354a4757a1e313434f827014",
       "style": "IPY_MODEL_132dc5fde3b4481fbcd88998abd2a095",
       "value": true
      }
     },
     "fafb1ab9f26f4ee89f62ee290c402e8c": {
      "model_module": "@jupyter-widgets/base",
      "model_module_version": "1.0.0",
      "model_name": "LayoutModel",
      "state": {
       "width": "25%"
      }
     },
     "fbfbafddf4f04c05aee09feff1d1f942": {
      "model_module": "@jupyter-widgets/controls",
      "model_module_version": "1.1.0",
      "model_name": "CheckboxModel",
      "state": {
       "description": "Show Targets",
       "disabled": false,
       "layout": "IPY_MODEL_4abd863981614d23a1f58a2d7afee81b",
       "style": "IPY_MODEL_8e46d35d6cfe4866ac394f9972b4606c",
       "value": true
      }
     },
     "fc5068a81cba47e494b1cce7b60f6fb3": {
      "model_module": "@jupyter-widgets/base",
      "model_module_version": "1.0.0",
      "model_name": "LayoutModel",
      "state": {}
     },
     "fcbb165ebd8447308c4e9d792ceb2279": {
      "model_module": "@jupyter-widgets/base",
      "model_module_version": "1.0.0",
      "model_name": "LayoutModel",
      "state": {
       "width": "100%"
      }
     },
     "fcd17d7578644256b3427c4878d71786": {
      "model_module": "@jupyter-widgets/controls",
      "model_module_version": "1.1.0",
      "model_name": "DescriptionStyleModel",
      "state": {
       "description_width": "initial"
      }
     },
     "fd25e15dae9a49ef830c9ec76ea7952e": {
      "model_module": "@jupyter-widgets/controls",
      "model_module_version": "1.1.0",
      "model_name": "ButtonStyleModel",
      "state": {}
     },
     "fd7fcf31db254a8f8a033d1202fc1b5e": {
      "model_module": "@jupyter-widgets/controls",
      "model_module_version": "1.1.0",
      "model_name": "DescriptionStyleModel",
      "state": {
       "description_width": ""
      }
     },
     "ff577ccd16f2499bad9c5ebb7afe8337": {
      "model_module": "@jupyter-widgets/controls",
      "model_module_version": "1.1.0",
      "model_name": "SelectModel",
      "state": {
       "_options_labels": [
        "",
        "input",
        "conv2D_1",
        "maxpool1",
        "conv2D_2",
        "maxpool2"
       ],
       "description": "Features:",
       "index": 2,
       "layout": "IPY_MODEL_5e6e61b49ce543039a90676b413e1bb3",
       "rows": 1,
       "style": "IPY_MODEL_42320c46704b42d998a3270100845179"
      }
     }
    },
    "version_major": 2,
    "version_minor": 0
   }
  }
 },
 "nbformat": 4,
 "nbformat_minor": 2
}
