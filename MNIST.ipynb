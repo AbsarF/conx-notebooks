{
 "cells": [
  {
   "cell_type": "markdown",
   "metadata": {},
   "source": [
    "# The MNIST Dataset\n",
    "\n",
    "In this notebook, we will create a neural network to recognize handwritten digits from the famous MNIST dataset.\n",
    "\n",
    "We will experiment with two different networks for this task. The first one will be a *multi-layer perceptron* (MLP), which is a standard type of feedforward neural network with fully-connected layers of weights, and the second will be a *convolutional neural network* (CNN), which takes advantage of the inherently two-dimensional spatial geometry of the input images.\n",
    "\n",
    "Let's begin by reading in the MNIST dataset and printing a short description of its contents."
   ]
  },
  {
   "cell_type": "code",
   "execution_count": 2,
   "metadata": {},
   "outputs": [
    {
     "data": {
      "text/markdown": [
       "**Dataset**: MNIST\n",
       "\n",
       "\n",
       "Original source: http://yann.lecun.com/exdb/mnist/\n",
       "\n",
       "The MNIST dataset contains 70,000 images of handwritten digits (zero\n",
       "to nine) that have been size-normalized and centered in a square grid\n",
       "of pixels.  Each image is a 28 × 28 × 1 array of floating-point numbers\n",
       "representing grayscale intensities ranging from 0 (black) to 1\n",
       "(white).  The target data consists of one-hot binary vectors of size\n",
       "10, corresponding to the digit classification categories zero through\n",
       "nine.  Some example MNIST images are shown below:\n",
       "\n",
       "![MNIST Images](https://github.com/Calysto/conx/raw/master/data/mnist_images.png)\n",
       "\n",
       "**Information**:\n",
       "   * name    : MNIST\n",
       "   * length  : 70000\n",
       "\n",
       "**Input Summary**:\n",
       "   * shape  : (28, 28, 1)\n",
       "   * range  : (0.0, 1.0)\n",
       "\n",
       "**Target Summary**:\n",
       "   * shape  : (10,)\n",
       "   * range  : (0.0, 1.0)\n",
       "\n"
      ],
      "text/plain": [
       "**Dataset**: MNIST\n",
       "\n",
       "\n",
       "Original source: http://yann.lecun.com/exdb/mnist/\n",
       "\n",
       "The MNIST dataset contains 70,000 images of handwritten digits (zero\n",
       "to nine) that have been size-normalized and centered in a square grid\n",
       "of pixels.  Each image is a 28 × 28 × 1 array of floating-point numbers\n",
       "representing grayscale intensities ranging from 0 (black) to 1\n",
       "(white).  The target data consists of one-hot binary vectors of size\n",
       "10, corresponding to the digit classification categories zero through\n",
       "nine.  Some example MNIST images are shown below:\n",
       "\n",
       "![MNIST Images](https://github.com/Calysto/conx/raw/master/data/mnist_images.png)\n",
       "\n",
       "**Information**:\n",
       "   * name    : MNIST\n",
       "   * length  : 70000\n",
       "\n",
       "**Input Summary**:\n",
       "   * shape  : (28, 28, 1)\n",
       "   * range  : (0.0, 1.0)\n",
       "\n",
       "**Target Summary**:\n",
       "   * shape  : (10,)\n",
       "   * range  : (0.0, 1.0)\n"
      ]
     },
     "metadata": {},
     "output_type": "display_data"
    }
   ],
   "source": [
    "import conx as cx\n",
    "mnist = cx.Dataset.get('MNIST')\n",
    "mnist.info()"
   ]
  },
  {
   "cell_type": "markdown",
   "metadata": {},
   "source": [
    "We will split the 70,000 digits into a training set of 60,000 images and a testing set of 10,000 images."
   ]
  },
  {
   "cell_type": "code",
   "execution_count": 3,
   "metadata": {},
   "outputs": [
    {
     "name": "stdout",
     "output_type": "stream",
     "text": [
      "_________________________________________________________________\n",
      "MNIST:\n",
      "Patterns    Shape                 Range                         \n",
      "=================================================================\n",
      "inputs      (28, 28, 1)           (0.0, 1.0)                    \n",
      "targets     (10,)                 (0.0, 1.0)                    \n",
      "=================================================================\n",
      "Total patterns: 70000\n",
      "   Training patterns: 60000\n",
      "   Testing patterns: 10000\n",
      "_________________________________________________________________\n"
     ]
    }
   ],
   "source": [
    "mnist.split(10000)\n",
    "mnist.summary()"
   ]
  },
  {
   "cell_type": "markdown",
   "metadata": {},
   "source": [
    "The training and testing images can be referenced independently, via the dataset properties `train_inputs` and `test_inputs`. The `inputs` property refers to all 70,000 input images."
   ]
  },
  {
   "cell_type": "code",
   "execution_count": 4,
   "metadata": {},
   "outputs": [
    {
     "name": "stdout",
     "output_type": "stream",
     "text": [
      "70000 total images\n",
      "60000 images for training\n",
      "10000 images for testing\n"
     ]
    }
   ],
   "source": [
    "print(len(mnist.inputs), 'total images')\n",
    "print(len(mnist.train_inputs), 'images for training')\n",
    "print(len(mnist.test_inputs), 'images for testing')"
   ]
  },
  {
   "cell_type": "markdown",
   "metadata": {},
   "source": [
    "Let's take a look at some individual input images."
   ]
  },
  {
   "cell_type": "code",
   "execution_count": 5,
   "metadata": {},
   "outputs": [
    {
     "data": {
      "image/png": "[encoded data removed]",
      "text/plain": [
       "<matplotlib.figure.Figure at 0x107348e48>"
      ]
     },
     "metadata": {},
     "output_type": "display_data"
    }
   ],
   "source": [
    "cx.view(mnist.train_inputs[0])  # same as mnist.inputs[0]"
   ]
  },
  {
   "cell_type": "code",
   "execution_count": 6,
   "metadata": {},
   "outputs": [
    {
     "data": {
      "image/png": "[encoded data removed]",
      "text/plain": [
       "<matplotlib.figure.Figure at 0x11974fcf8>"
      ]
     },
     "metadata": {},
     "output_type": "display_data"
    }
   ],
   "source": [
    "cx.view(mnist.train_inputs[0:5])   # same as mnist.inputs[0:5]"
   ]
  },
  {
   "cell_type": "code",
   "execution_count": 7,
   "metadata": {},
   "outputs": [
    {
     "data": {
      "image/png": "[encoded data removed]",
      "text/plain": [
       "<matplotlib.figure.Figure at 0x119740b70>"
      ]
     },
     "metadata": {},
     "output_type": "display_data"
    }
   ],
   "source": [
    "cx.view(mnist.train_inputs[0, 2, 4])"
   ]
  },
  {
   "cell_type": "code",
   "execution_count": 8,
   "metadata": {},
   "outputs": [
    {
     "data": {
      "image/png": "[encoded data removed]",
      "text/plain": [
       "<matplotlib.figure.Figure at 0x119774048>"
      ]
     },
     "metadata": {},
     "output_type": "display_data"
    }
   ],
   "source": [
    "selected = [42, 77, 150, 16, 15, 0]\n",
    "cx.view(mnist.train_inputs[selected])"
   ]
  },
  {
   "cell_type": "code",
   "execution_count": 9,
   "metadata": {},
   "outputs": [
    {
     "data": {
      "image/png": "[encoded data removed]",
      "text/plain": [
       "<matplotlib.figure.Figure at 0x109f5add8>"
      ]
     },
     "metadata": {},
     "output_type": "display_data"
    }
   ],
   "source": [
    "cx.view(mnist.test_inputs[0])"
   ]
  },
  {
   "cell_type": "code",
   "execution_count": 10,
   "metadata": {},
   "outputs": [
    {
     "data": {
      "image/png": "[encoded data removed]",
      "text/plain": [
       "<matplotlib.figure.Figure at 0x1314d3cf8>"
      ]
     },
     "metadata": {},
     "output_type": "display_data"
    }
   ],
   "source": [
    "cx.view(mnist.test_inputs[0:5])"
   ]
  },
  {
   "cell_type": "markdown",
   "metadata": {},
   "source": [
    "The dataset properties `train_targets`, `train_labels`, `test_targets`, and `test_labels` refer to the target data."
   ]
  },
  {
   "cell_type": "code",
   "execution_count": 11,
   "metadata": {},
   "outputs": [
    {
     "data": {
      "text/plain": [
       "['7', '2', '1', '0', '4']"
      ]
     },
     "execution_count": 11,
     "metadata": {},
     "output_type": "execute_result"
    }
   ],
   "source": [
    "mnist.test_labels[0:5]"
   ]
  },
  {
   "cell_type": "code",
   "execution_count": 12,
   "metadata": {},
   "outputs": [
    {
     "data": {
      "text/plain": [
       "[[0.0, 0.0, 0.0, 0.0, 0.0, 0.0, 0.0, 1.0, 0.0, 0.0],\n",
       " [0.0, 0.0, 1.0, 0.0, 0.0, 0.0, 0.0, 0.0, 0.0, 0.0],\n",
       " [0.0, 1.0, 0.0, 0.0, 0.0, 0.0, 0.0, 0.0, 0.0, 0.0],\n",
       " [1.0, 0.0, 0.0, 0.0, 0.0, 0.0, 0.0, 0.0, 0.0, 0.0],\n",
       " [0.0, 0.0, 0.0, 0.0, 1.0, 0.0, 0.0, 0.0, 0.0, 0.0]]"
      ]
     },
     "execution_count": 12,
     "metadata": {},
     "output_type": "execute_result"
    }
   ],
   "source": [
    "mnist.test_targets[0:5]"
   ]
  },
  {
   "cell_type": "markdown",
   "metadata": {},
   "source": [
    "As another example, we could use `test_labels` to select digits of a particular category from the testing data, and then view the first twenty, as follows:"
   ]
  },
  {
   "cell_type": "code",
   "execution_count": 13,
   "metadata": {},
   "outputs": [
    {
     "data": {
      "image/png": "[encoded data removed]",
      "text/plain": [
       "<matplotlib.figure.Figure at 0x107ec6a90>"
      ]
     },
     "metadata": {},
     "output_type": "display_data"
    }
   ],
   "source": [
    "selected = [i for i in range(len(mnist.test_inputs)) if mnist.test_labels[i] == '2']\n",
    "digits = mnist.test_inputs[selected]\n",
    "cx.view(digits[:20], layout=(2,10))"
   ]
  },
  {
   "cell_type": "markdown",
   "metadata": {},
   "source": [
    "We can accomplish the same thing more directly (and efficiently) using the `select` method, together with the `slice` keyword:"
   ]
  },
  {
   "cell_type": "code",
   "execution_count": 14,
   "metadata": {},
   "outputs": [
    {
     "data": {
      "image/png": "[encoded data removed]",
      "text/plain": [
       "<matplotlib.figure.Figure at 0x107ec6208>"
      ]
     },
     "metadata": {},
     "output_type": "display_data"
    }
   ],
   "source": [
    "digits = mnist.test_inputs.select(lambda i,ds: ds.test_labels[i] == '2', slice=20)\n",
    "cx.view(digits, layout=(2,10))"
   ]
  },
  {
   "cell_type": "markdown",
   "metadata": {},
   "source": [
    "The MNIST digits are grayscale images, with each pixel represented as a single intensity value in the range 0 (black) to 1 (white). You can think of the whole image as consisting of 784 numbers arranged in a plane of 28 rows and 28 columns. For color (RGB) images, however, each pixel consists of three numbers (one for Red intensity, one for Green, and one for Blue). Therefore color images are represented as arrays of shape *rows* &times; *columns* &times; 3, where the 3 indicates the *depth* of the image. For consistency, the grayscale MNIST images are treated as images of depth 1, with shape *rows* &times; *columns* &times; 1. We can verify this by calling `cx.shape` on input image #0:"
   ]
  },
  {
   "cell_type": "code",
   "execution_count": 15,
   "metadata": {},
   "outputs": [
    {
     "data": {
      "text/plain": [
       "(28, 28, 1)"
      ]
     },
     "execution_count": 15,
     "metadata": {},
     "output_type": "execute_result"
    }
   ],
   "source": [
    "cx.shape(mnist.inputs[0])"
   ]
  },
  {
   "cell_type": "markdown",
   "metadata": {},
   "source": [
    "## A Multi-Layer Perceptron for MNIST Classification\n",
    "\n",
    "Our first network will have an input layer, two fully-connected hidden layers, and an output layer containing 10 output units (one for each possible digit category). Since this is a classification task, the output layer will use the *Softmax* function to generate a probability distribution of output values, where each value is a number in the range 0-1 representing the probability that the input image corresponds to that output unit's digit category.\n",
    "\n",
    "The input layer's shape must match that of the input data, so we  declare its shape to be <tt>(28,28,1)</tt>. We then add two densely-connected hidden layers of 30 units each, both of which use the ReLU (rectified linear) activation function. However, we cannot connect the input layer directly to the first hidden layer, because the layer shapes do not match. Instead, we must first \"flatten\" the data before feeding it into the first hidden layer. Finally, we add an output layer of 10 units that uses the *Softmax* activation function. Here is the code that builds the network:"
   ]
  },
  {
   "cell_type": "code",
   "execution_count": 16,
   "metadata": {},
   "outputs": [],
   "source": [
    "net = cx.Network(\"MNIST_MLP\")\n",
    "\n",
    "net.add(cx.Layer(\"input\", (28,28,1)),\n",
    "        cx.FlattenLayer(\"flat_input\"),\n",
    "        cx.Layer(\"hidden1\", 30, activation='relu', dropout=0.20),\n",
    "        cx.Layer(\"hidden2\", 30, activation='relu', dropout=0.20),\n",
    "        cx.Layer(\"output\", 10, activation='softmax'))\n",
    "\n",
    "# creates connections between layers in the order they were added\n",
    "net.connect()"
   ]
  },
  {
   "cell_type": "markdown",
   "metadata": {},
   "source": [
    "Notice that each hidden layer in the network includes a `dropout` setting of 20%. Dropout is a technique that helps to improve a network's ability to generalize what it has learned, by making it less sensitive to noise and to irrelevant correlations that may exist in the training data. During training, a randomly chosen subset of units in a dropout layer (here, 20% of the units) will be turned off (set to zero activation) on each training cycle, with different random subsets being chosen on each cycle. Dropout only occurs during training; after the network has learned, all units participate in the classification of input data. \n",
    "\n",
    "Finally, we need to tell the network which dataset to use."
   ]
  },
  {
   "cell_type": "code",
   "execution_count": 17,
   "metadata": {},
   "outputs": [],
   "source": [
    "net.set_dataset(mnist)"
   ]
  },
  {
   "cell_type": "markdown",
   "metadata": {},
   "source": [
    "We are now ready to compile the network. To do so, we must specify the error (or \"loss\") function that measures the network's performance, and the specific learning algorithm for optimizing the network's weights during training. For a classification task using *Softmax*, in which the output of the network is a probability distribution across several possible classification categories, the appropriate error function is usually the *categorical crossentropy* function. The choice of optimizer is typically some variant of stochastic gradient descent. Here we will use RMSprop. After compiling the network, it is ready to be trained. The `summary()` method prints out a brief summary of each layer, including the total number of trainable parameters (weights and biases) in the network."
   ]
  },
  {
   "cell_type": "code",
   "execution_count": 18,
   "metadata": {},
   "outputs": [
    {
     "name": "stdout",
     "output_type": "stream",
     "text": [
      "_________________________________________________________________\n",
      "Layer (type)                 Output Shape              Param #   \n",
      "=================================================================\n",
      "input (InputLayer)           (None, 28, 28, 1)         0         \n",
      "_________________________________________________________________\n",
      "flat_input (Flatten)         (None, 784)               0         \n",
      "_________________________________________________________________\n",
      "hidden1 (Dense)              (None, 30)                23550     \n",
      "_________________________________________________________________\n",
      "dropout_1 (Dropout)          (None, 30)                0         \n",
      "_________________________________________________________________\n",
      "hidden2 (Dense)              (None, 30)                930       \n",
      "_________________________________________________________________\n",
      "dropout_2 (Dropout)          (None, 30)                0         \n",
      "_________________________________________________________________\n",
      "output (Dense)               (None, 10)                310       \n",
      "=================================================================\n",
      "Total params: 24,790\n",
      "Trainable params: 24,790\n",
      "Non-trainable params: 0\n",
      "_________________________________________________________________\n"
     ]
    }
   ],
   "source": [
    "net.compile(error='categorical_crossentropy', optimizer='rmsprop')\n",
    "net.summary()"
   ]
  },
  {
   "cell_type": "markdown",
   "metadata": {},
   "source": [
    "Let's take a look at the network before we train it. The `dashboard` provides an easy-to-use graphical interface, showing the network's response to each input image in the dataset. (The small <font size=\"5\">&#10683;</font> symbols indicate layers with dropout.)"
   ]
  },
  {
   "cell_type": "code",
   "execution_count": 19,
   "metadata": {},
   "outputs": [
    {
     "data": {
      "application/vnd.jupyter.widget-view+json": {
       "model_id": "e49d4435cc53405b9fd41c8412ae757a",
       "version_major": 2,
       "version_minor": 0
      },
      "text/html": [
       "<p>Failed to display Jupyter Widget of type <code>Dashboard</code>.</p>\n",
       "<p>\n",
       "  If you're reading this message in the Jupyter Notebook or JupyterLab Notebook, it may mean\n",
       "  that the widgets JavaScript is still loading. If this message persists, it\n",
       "  likely means that the widgets JavaScript library is either not installed or\n",
       "  not enabled. See the <a href=\"https://ipywidgets.readthedocs.io/en/stable/user_install.html\">Jupyter\n",
       "  Widgets Documentation</a> for setup instructions.\n",
       "</p>\n",
       "<p>\n",
       "  If you're reading this message in another frontend (for example, a static\n",
       "  rendering on GitHub or <a href=\"https://nbviewer.jupyter.org/\">NBViewer</a>),\n",
       "  it may mean that your frontend doesn't currently support widgets.\n",
       "</p>\n"
      ],
      "text/plain": [
       "Dashboard(children=(Accordion(children=(HBox(children=(VBox(children=(Select(description='Dataset:', index=1, options=('Test', 'Train'), rows=1, value='Train'), FloatSlider(value=0.6, continuous_update=False, description='Zoom', layout=Layout(width='65%'), max=1.0, style=SliderStyle(description_width='initial')), IntText(value=150, description='Horizontal space between banks:', style=DescriptionStyle(description_width='initial')), IntText(value=30, description='Vertical space between layers:', style=DescriptionStyle(description_width='initial')), HBox(children=(Checkbox(value=True, description='Show Targets', style=DescriptionStyle(description_width='initial')), Checkbox(value=False, description='Errors', style=DescriptionStyle(description_width='initial')))), Select(description='Features:', options=('', 'input'), rows=1, value=''), IntText(value=3, description='Feature columns:', style=DescriptionStyle(description_width='initial')), FloatText(value=1.0, description='Feature scale:', style=DescriptionStyle(description_width='initial'))), layout=Layout(width='100%')), VBox(children=(Select(description='Layer:', index=4, options=('input', 'flat_input', 'hidden1', 'hidden2', 'output'), rows=1, value='output'), Checkbox(value=True, description='Visible'), Select(description='Colormap:', options=('', 'Accent', 'Accent_r', 'Blues', 'Blues_r', 'BrBG', 'BrBG_r', 'BuGn', 'BuGn_r', 'BuPu', 'BuPu_r', 'CMRmap', 'CMRmap_r', 'Dark2', 'Dark2_r', 'GnBu', 'GnBu_r', 'Greens', 'Greens_r', 'Greys', 'Greys_r', 'OrRd', 'OrRd_r', 'Oranges', 'Oranges_r', 'PRGn', 'PRGn_r', 'Paired', 'Paired_r', 'Pastel1', 'Pastel1_r', 'Pastel2', 'Pastel2_r', 'PiYG', 'PiYG_r', 'PuBu', 'PuBuGn', 'PuBuGn_r', 'PuBu_r', 'PuOr', 'PuOr_r', 'PuRd', 'PuRd_r', 'Purples', 'Purples_r', 'RdBu', 'RdBu_r', 'RdGy', 'RdGy_r', 'RdPu', 'RdPu_r', 'RdYlBu', 'RdYlBu_r', 'RdYlGn', 'RdYlGn_r', 'Reds', 'Reds_r', 'Set1', 'Set1_r', 'Set2', 'Set2_r', 'Set3', 'Set3_r', 'Spectral', 'Spectral_r', 'Vega10', 'Vega10_r', 'Vega20', 'Vega20_r', 'Vega20b', 'Vega20b_r', 'Vega20c', 'Vega20c_r', 'Wistia', 'Wistia_r', 'YlGn', 'YlGnBu', 'YlGnBu_r', 'YlGn_r', 'YlOrBr', 'YlOrBr_r', 'YlOrRd', 'YlOrRd_r', 'afmhot', 'afmhot_r', 'autumn', 'autumn_r', 'binary', 'binary_r', 'bone', 'bone_r', 'brg', 'brg_r', 'bwr', 'bwr_r', 'cool', 'cool_r', 'coolwarm', 'coolwarm_r', 'copper', 'copper_r', 'cubehelix', 'cubehelix_r', 'flag', 'flag_r', 'gist_earth', 'gist_earth_r', 'gist_gray', 'gist_gray_r', 'gist_heat', 'gist_heat_r', 'gist_ncar', 'gist_ncar_r', 'gist_rainbow', 'gist_rainbow_r', 'gist_stern', 'gist_stern_r', 'gist_yarg', 'gist_yarg_r', 'gnuplot', 'gnuplot2', 'gnuplot2_r', 'gnuplot_r', 'gray', 'gray_r', 'hot', 'hot_r', 'hsv', 'hsv_r', 'inferno', 'inferno_r', 'jet', 'jet_r', 'magma', 'magma_r', 'nipy_spectral', 'nipy_spectral_r', 'ocean', 'ocean_r', 'pink', 'pink_r', 'plasma', 'plasma_r', 'prism', 'prism_r', 'rainbow', 'rainbow_r', 'seismic', 'seismic_r', 'spectral', 'spectral_r', 'spring', 'spring_r', 'summer', 'summer_r', 'tab10', 'tab10_r', 'tab20', 'tab20_r', 'tab20b', 'tab20b_r', 'tab20c', 'tab20c_r', 'terrain', 'terrain_r', 'viridis', 'viridis_r', 'winter', 'winter_r'), rows=1, value=''), HTML(value='<img src=\"data:image/gif;base64,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\"/>'), FloatText(value=-1.0, description='Leftmost color maps to:', style=DescriptionStyle(description_width='initial')), FloatText(value=1.0, description='Rightmost color maps to:', style=DescriptionStyle(description_width='initial')), IntText(value=0, description='Feature to show:', style=DescriptionStyle(description_width='initial')), HBox(children=(Checkbox(value=True, description='Rotate network', layout=Layout(width='52%'), style=DescriptionStyle(description_width='initial')), Button(icon='save', layout=Layout(width='10%'), style=ButtonStyle())))), layout=Layout(width='100%')))),), selected_index=None, _titles={'0': 'MNIST_MLP'}), VBox(children=(HBox(children=(IntSlider(value=0, continuous_update=False, description='Dataset index', layout=Layout(width='100%'), max=59999), Label(value='of 60000', layout=Layout(width='100px'))), layout=Layout(height='40px')), HBox(children=(Button(icon='fast-backward', layout=Layout(width='100%'), style=ButtonStyle()), Button(icon='backward', layout=Layout(width='100%'), style=ButtonStyle()), IntText(value=0, layout=Layout(width='100%')), Button(icon='forward', layout=Layout(width='100%'), style=ButtonStyle()), Button(icon='fast-forward', layout=Layout(width='100%'), style=ButtonStyle()), Button(description='Play', icon='play', layout=Layout(width='100%'), style=ButtonStyle()), Button(icon='refresh', layout=Layout(width='25%'), style=ButtonStyle())), layout=Layout(height='50px', width='100%'))), layout=Layout(width='100%')), HTML(value='<p style=\"text-align:center\"></p>', layout=Layout(justify_content='center', overflow_x='auto', overflow_y='auto', width='95%')), Output()))"
      ]
     },
     "metadata": {},
     "output_type": "display_data"
    },
    {
     "data": {
      "application/javascript": [
       "\n",
       "require(['base/js/namespace'], function(Jupyter) {\n",
       "    Jupyter.notebook.kernel.comm_manager.register_target('conx_svg_control', function(comm, msg) {\n",
       "        comm.on_msg(function(msg) {\n",
       "            var data = msg[\"content\"][\"data\"];\n",
       "            var images = document.getElementsByClassName(data[\"class\"]);\n",
       "            for (var i = 0; i < images.length; i++) {\n",
       "                if (data[\"href\"]) {\n",
       "                    images[i].setAttributeNS(null, \"href\", data[\"href\"]);\n",
       "                }\n",
       "                if (data[\"src\"]) {\n",
       "                    images[i].setAttributeNS(null, \"src\", data[\"src\"]);\n",
       "                }\n",
       "            }\n",
       "        });\n",
       "    });\n",
       "});\n"
      ],
      "text/plain": [
       "<IPython.core.display.Javascript object>"
      ]
     },
     "metadata": {},
     "output_type": "display_data"
    }
   ],
   "source": [
    "dash = net.dashboard()\n",
    "dash"
   ]
  },
  {
   "cell_type": "markdown",
   "metadata": {},
   "source": [
    "Clicking on **MNIST_MLP** at the top of the dashboard will open up a panel of settings for controlling the appearance and functionality of the network display. For example, to choose between the training set and testing set images, you can select \"Train\" or \"Test\" from the *Dataset* pulldown menu. \n",
    "\n",
    "The `propagate` method sends an input pattern through the network and returns a list of the output values. In the example below, the outputs are all around 0.1 because the network has not yet been trained. After training, one of the output values will typically be much larger than the others, corresponding to the output classification category."
   ]
  },
  {
   "cell_type": "code",
   "execution_count": 20,
   "metadata": {},
   "outputs": [
    {
     "data": {
      "text/plain": [
       "[0.12321878969669342,\n",
       " 0.09260821342468262,\n",
       " 0.07658999413251877,\n",
       " 0.0900014340877533,\n",
       " 0.08149769902229309,\n",
       " 0.17038169503211975,\n",
       " 0.08245770633220673,\n",
       " 0.10669127851724625,\n",
       " 0.09863779693841934,\n",
       " 0.07791539281606674]"
      ]
     },
     "execution_count": 20,
     "metadata": {},
     "output_type": "execute_result"
    }
   ],
   "source": [
    "net.propagate(mnist.train_inputs[0])"
   ]
  },
  {
   "cell_type": "markdown",
   "metadata": {},
   "source": [
    "We can visualize the weights on connections into specific units by calling `plot_layer_weights`. For example, the command below shows the weights from the input layer into units 0, 1, and 2 of the first hidden layer, displayed as 28 &times; 28 pixel array (where each \"pixel\" represents a weight from the input layer into a hidden unit). The `wrange` keyword specifies the minimum and maximum weight values for the color coding. Since the network has not yet been trained, the weights are all small random values close to zero."
   ]
  },
  {
   "cell_type": "code",
   "execution_count": 21,
   "metadata": {},
   "outputs": [
    {
     "data": {
      "image/png": "[encoded data removed]",
      "text/plain": [
       "<matplotlib.figure.Figure at 0x11d7e7b70>"
      ]
     },
     "metadata": {},
     "output_type": "display_data"
    }
   ],
   "source": [
    "net.plot_layer_weights('hidden1', units=[0,1,2], vshape=(28,28), wrange=(-1.5, 1.5))"
   ]
  },
  {
   "cell_type": "markdown",
   "metadata": {},
   "source": [
    "Let's train the network for 30 epochs, using a batch size of 128. This means that images from the training set will be presented to the network in batches of 128 at a time, and for each batch, the RMSprop algorithm will update the network's weights by an appropriate amount. Then another batch of 128 images will be presented, and so on, until all 60000 training images in the dataset have been processed, which constitutes one epoch of training. This entire cycle will be repeated for 30 epochs. As training proceeds, the network's error (loss) on both the training set and testing set (also called the validation set) will be shown on the left graph, and the network's accuracy will be shown on the right graph. The accuracy is simply the fraction of input images that the network classifies correctly."
   ]
  },
  {
   "cell_type": "code",
   "execution_count": 22,
   "metadata": {},
   "outputs": [
    {
     "data": {
      "image/svg+xml": [
       "<svg height=\"288pt\" version=\"1.1\" viewBox=\"0 0 720 288\" width=\"720pt\" xmlns=\"http://www.w3.org/2000/svg\" xmlns:xlink=\"http://www.w3.org/1999/xlink\">\n",
       " <defs>\n",
       "  <style type=\"text/css\">\n",
       "*{stroke-linecap:butt;stroke-linejoin:round;}\n",
       "  </style>\n",
       " </defs>\n",
       " <g id=\"figure_1\">\n",
       "  <g id=\"patch_1\">\n",
       "   <path d=\"M 0 288  L 720 288  L 720 0  L 0 0  z \" style=\"fill:#ffffff;\"/>\n",
       "  </g>\n",
       "  <g id=\"axes_1\">\n",
       "   <g id=\"patch_2\">\n",
       "    <path d=\"M 90 252  L 343.636364 252  L 343.636364 34.56  L 90 34.56  z \" style=\"fill:#ffffff;\"/>\n",
       "   </g>\n",
       "   <g id=\"matplotlib.axis_1\">\n",
       "    <g id=\"xtick_1\">\n",
       "     <g id=\"line2d_1\">\n",
       "      <defs>\n",
       "       <path d=\"M 0 0  L 0 3.5  \" id=\"m860e9149ef\" style=\"stroke:#000000;stroke-width:0.8;\"/>\n",
       "      </defs>\n",
       "      <g>\n",
       "       <use style=\"stroke:#000000;stroke-width:0.8;\" x=\"101.528926\" xlink:href=\"#m860e9149ef\" y=\"252\"/>\n",
       "      </g>\n",
       "     </g>\n",
       "     <g id=\"text_1\">\n",
       "      <!-- 0 -->\n",
       "      <defs>\n",
       "       <path d=\"M 31.78125 66.40625  Q 24.171875 66.40625 20.328125 58.90625  Q 16.5 51.421875 16.5 36.375  Q 16.5 21.390625 20.328125 13.890625  Q 24.171875 6.390625 31.78125 6.390625  Q 39.453125 6.390625 43.28125 13.890625  Q 47.125 21.390625 47.125 36.375  Q 47.125 51.421875 43.28125 58.90625  Q 39.453125 66.40625 31.78125 66.40625  z M 31.78125 74.21875  Q 44.046875 74.21875 50.515625 64.515625  Q 56.984375 54.828125 56.984375 36.375  Q 56.984375 17.96875 50.515625 8.265625  Q 44.046875 -1.421875 31.78125 -1.421875  Q 19.53125 -1.421875 13.0625 8.265625  Q 6.59375 17.96875 6.59375 36.375  Q 6.59375 54.828125 13.0625 64.515625  Q 19.53125 74.21875 31.78125 74.21875  z \" id=\"DejaVuSans-30\"/>\n",
       "      </defs>\n",
       "      <g transform=\"translate(98.347676 266.598437)scale(0.1 -0.1)\">\n",
       "       <use xlink:href=\"#DejaVuSans-30\"/>\n",
       "      </g>\n",
       "     </g>\n",
       "    </g>\n",
       "    <g id=\"xtick_2\">\n",
       "     <g id=\"line2d_2\">\n",
       "      <g>\n",
       "       <use style=\"stroke:#000000;stroke-width:0.8;\" x=\"139.958678\" xlink:href=\"#m860e9149ef\" y=\"252\"/>\n",
       "      </g>\n",
       "     </g>\n",
       "     <g id=\"text_2\">\n",
       "      <!-- 5 -->\n",
       "      <defs>\n",
       "       <path d=\"M 10.796875 72.90625  L 49.515625 72.90625  L 49.515625 64.59375  L 19.828125 64.59375  L 19.828125 46.734375  Q 21.96875 47.46875 24.109375 47.828125  Q 26.265625 48.1875 28.421875 48.1875  Q 40.625 48.1875 47.75 41.5  Q 54.890625 34.8125 54.890625 23.390625  Q 54.890625 11.625 47.5625 5.09375  Q 40.234375 -1.421875 26.90625 -1.421875  Q 22.3125 -1.421875 17.546875 -0.640625  Q 12.796875 0.140625 7.71875 1.703125  L 7.71875 11.625  Q 12.109375 9.234375 16.796875 8.0625  Q 21.484375 6.890625 26.703125 6.890625  Q 35.15625 6.890625 40.078125 11.328125  Q 45.015625 15.765625 45.015625 23.390625  Q 45.015625 31 40.078125 35.4375  Q 35.15625 39.890625 26.703125 39.890625  Q 22.75 39.890625 18.8125 39.015625  Q 14.890625 38.140625 10.796875 36.28125  z \" id=\"DejaVuSans-35\"/>\n",
       "      </defs>\n",
       "      <g transform=\"translate(136.777428 266.598437)scale(0.1 -0.1)\">\n",
       "       <use xlink:href=\"#DejaVuSans-35\"/>\n",
       "      </g>\n",
       "     </g>\n",
       "    </g>\n",
       "    <g id=\"xtick_3\">\n",
       "     <g id=\"line2d_3\">\n",
       "      <g>\n",
       "       <use style=\"stroke:#000000;stroke-width:0.8;\" x=\"178.38843\" xlink:href=\"#m860e9149ef\" y=\"252\"/>\n",
       "      </g>\n",
       "     </g>\n",
       "     <g id=\"text_3\">\n",
       "      <!-- 10 -->\n",
       "      <defs>\n",
       "       <path d=\"M 12.40625 8.296875  L 28.515625 8.296875  L 28.515625 63.921875  L 10.984375 60.40625  L 10.984375 69.390625  L 28.421875 72.90625  L 38.28125 72.90625  L 38.28125 8.296875  L 54.390625 8.296875  L 54.390625 0  L 12.40625 0  z \" id=\"DejaVuSans-31\"/>\n",
       "      </defs>\n",
       "      <g transform=\"translate(172.02593 266.598437)scale(0.1 -0.1)\">\n",
       "       <use xlink:href=\"#DejaVuSans-31\"/>\n",
       "       <use x=\"63.623047\" xlink:href=\"#DejaVuSans-30\"/>\n",
       "      </g>\n",
       "     </g>\n",
       "    </g>\n",
       "    <g id=\"xtick_4\">\n",
       "     <g id=\"line2d_4\">\n",
       "      <g>\n",
       "       <use style=\"stroke:#000000;stroke-width:0.8;\" x=\"216.818182\" xlink:href=\"#m860e9149ef\" y=\"252\"/>\n",
       "      </g>\n",
       "     </g>\n",
       "     <g id=\"text_4\">\n",
       "      <!-- 15 -->\n",
       "      <g transform=\"translate(210.455682 266.598437)scale(0.1 -0.1)\">\n",
       "       <use xlink:href=\"#DejaVuSans-31\"/>\n",
       "       <use x=\"63.623047\" xlink:href=\"#DejaVuSans-35\"/>\n",
       "      </g>\n",
       "     </g>\n",
       "    </g>\n",
       "    <g id=\"xtick_5\">\n",
       "     <g id=\"line2d_5\">\n",
       "      <g>\n",
       "       <use style=\"stroke:#000000;stroke-width:0.8;\" x=\"255.247934\" xlink:href=\"#m860e9149ef\" y=\"252\"/>\n",
       "      </g>\n",
       "     </g>\n",
       "     <g id=\"text_5\">\n",
       "      <!-- 20 -->\n",
       "      <defs>\n",
       "       <path d=\"M 19.1875 8.296875  L 53.609375 8.296875  L 53.609375 0  L 7.328125 0  L 7.328125 8.296875  Q 12.9375 14.109375 22.625 23.890625  Q 32.328125 33.6875 34.8125 36.53125  Q 39.546875 41.84375 41.421875 45.53125  Q 43.3125 49.21875 43.3125 52.78125  Q 43.3125 58.59375 39.234375 62.25  Q 35.15625 65.921875 28.609375 65.921875  Q 23.96875 65.921875 18.8125 64.3125  Q 13.671875 62.703125 7.8125 59.421875  L 7.8125 69.390625  Q 13.765625 71.78125 18.9375 73  Q 24.125 74.21875 28.421875 74.21875  Q 39.75 74.21875 46.484375 68.546875  Q 53.21875 62.890625 53.21875 53.421875  Q 53.21875 48.921875 51.53125 44.890625  Q 49.859375 40.875 45.40625 35.40625  Q 44.1875 33.984375 37.640625 27.21875  Q 31.109375 20.453125 19.1875 8.296875  z \" id=\"DejaVuSans-32\"/>\n",
       "      </defs>\n",
       "      <g transform=\"translate(248.885434 266.598437)scale(0.1 -0.1)\">\n",
       "       <use xlink:href=\"#DejaVuSans-32\"/>\n",
       "       <use x=\"63.623047\" xlink:href=\"#DejaVuSans-30\"/>\n",
       "      </g>\n",
       "     </g>\n",
       "    </g>\n",
       "    <g id=\"xtick_6\">\n",
       "     <g id=\"line2d_6\">\n",
       "      <g>\n",
       "       <use style=\"stroke:#000000;stroke-width:0.8;\" x=\"293.677686\" xlink:href=\"#m860e9149ef\" y=\"252\"/>\n",
       "      </g>\n",
       "     </g>\n",
       "     <g id=\"text_6\">\n",
       "      <!-- 25 -->\n",
       "      <g transform=\"translate(287.315186 266.598437)scale(0.1 -0.1)\">\n",
       "       <use xlink:href=\"#DejaVuSans-32\"/>\n",
       "       <use x=\"63.623047\" xlink:href=\"#DejaVuSans-35\"/>\n",
       "      </g>\n",
       "     </g>\n",
       "    </g>\n",
       "    <g id=\"xtick_7\">\n",
       "     <g id=\"line2d_7\">\n",
       "      <g>\n",
       "       <use style=\"stroke:#000000;stroke-width:0.8;\" x=\"332.107438\" xlink:href=\"#m860e9149ef\" y=\"252\"/>\n",
       "      </g>\n",
       "     </g>\n",
       "     <g id=\"text_7\">\n",
       "      <!-- 30 -->\n",
       "      <defs>\n",
       "       <path d=\"M 40.578125 39.3125  Q 47.65625 37.796875 51.625 33  Q 55.609375 28.21875 55.609375 21.1875  Q 55.609375 10.40625 48.1875 4.484375  Q 40.765625 -1.421875 27.09375 -1.421875  Q 22.515625 -1.421875 17.65625 -0.515625  Q 12.796875 0.390625 7.625 2.203125  L 7.625 11.71875  Q 11.71875 9.328125 16.59375 8.109375  Q 21.484375 6.890625 26.8125 6.890625  Q 36.078125 6.890625 40.9375 10.546875  Q 45.796875 14.203125 45.796875 21.1875  Q 45.796875 27.640625 41.28125 31.265625  Q 36.765625 34.90625 28.71875 34.90625  L 20.21875 34.90625  L 20.21875 43.015625  L 29.109375 43.015625  Q 36.375 43.015625 40.234375 45.921875  Q 44.09375 48.828125 44.09375 54.296875  Q 44.09375 59.90625 40.109375 62.90625  Q 36.140625 65.921875 28.71875 65.921875  Q 24.65625 65.921875 20.015625 65.03125  Q 15.375 64.15625 9.8125 62.3125  L 9.8125 71.09375  Q 15.4375 72.65625 20.34375 73.4375  Q 25.25 74.21875 29.59375 74.21875  Q 40.828125 74.21875 47.359375 69.109375  Q 53.90625 64.015625 53.90625 55.328125  Q 53.90625 49.265625 50.4375 45.09375  Q 46.96875 40.921875 40.578125 39.3125  z \" id=\"DejaVuSans-33\"/>\n",
       "      </defs>\n",
       "      <g transform=\"translate(325.744938 266.598437)scale(0.1 -0.1)\">\n",
       "       <use xlink:href=\"#DejaVuSans-33\"/>\n",
       "       <use x=\"63.623047\" xlink:href=\"#DejaVuSans-30\"/>\n",
       "      </g>\n",
       "     </g>\n",
       "    </g>\n",
       "    <g id=\"text_8\">\n",
       "     <!-- Epoch -->\n",
       "     <defs>\n",
       "      <path d=\"M 9.8125 72.90625  L 55.90625 72.90625  L 55.90625 64.59375  L 19.671875 64.59375  L 19.671875 43.015625  L 54.390625 43.015625  L 54.390625 34.71875  L 19.671875 34.71875  L 19.671875 8.296875  L 56.78125 8.296875  L 56.78125 0  L 9.8125 0  z \" id=\"DejaVuSans-45\"/>\n",
       "      <path d=\"M 18.109375 8.203125  L 18.109375 -20.796875  L 9.078125 -20.796875  L 9.078125 54.6875  L 18.109375 54.6875  L 18.109375 46.390625  Q 20.953125 51.265625 25.265625 53.625  Q 29.59375 56 35.59375 56  Q 45.5625 56 51.78125 48.09375  Q 58.015625 40.1875 58.015625 27.296875  Q 58.015625 14.40625 51.78125 6.484375  Q 45.5625 -1.421875 35.59375 -1.421875  Q 29.59375 -1.421875 25.265625 0.953125  Q 20.953125 3.328125 18.109375 8.203125  z M 48.6875 27.296875  Q 48.6875 37.203125 44.609375 42.84375  Q 40.53125 48.484375 33.40625 48.484375  Q 26.265625 48.484375 22.1875 42.84375  Q 18.109375 37.203125 18.109375 27.296875  Q 18.109375 17.390625 22.1875 11.75  Q 26.265625 6.109375 33.40625 6.109375  Q 40.53125 6.109375 44.609375 11.75  Q 48.6875 17.390625 48.6875 27.296875  z \" id=\"DejaVuSans-70\"/>\n",
       "      <path d=\"M 30.609375 48.390625  Q 23.390625 48.390625 19.1875 42.75  Q 14.984375 37.109375 14.984375 27.296875  Q 14.984375 17.484375 19.15625 11.84375  Q 23.34375 6.203125 30.609375 6.203125  Q 37.796875 6.203125 41.984375 11.859375  Q 46.1875 17.53125 46.1875 27.296875  Q 46.1875 37.015625 41.984375 42.703125  Q 37.796875 48.390625 30.609375 48.390625  z M 30.609375 56  Q 42.328125 56 49.015625 48.375  Q 55.71875 40.765625 55.71875 27.296875  Q 55.71875 13.875 49.015625 6.21875  Q 42.328125 -1.421875 30.609375 -1.421875  Q 18.84375 -1.421875 12.171875 6.21875  Q 5.515625 13.875 5.515625 27.296875  Q 5.515625 40.765625 12.171875 48.375  Q 18.84375 56 30.609375 56  z \" id=\"DejaVuSans-6f\"/>\n",
       "      <path d=\"M 48.78125 52.59375  L 48.78125 44.1875  Q 44.96875 46.296875 41.140625 47.34375  Q 37.3125 48.390625 33.40625 48.390625  Q 24.65625 48.390625 19.8125 42.84375  Q 14.984375 37.3125 14.984375 27.296875  Q 14.984375 17.28125 19.8125 11.734375  Q 24.65625 6.203125 33.40625 6.203125  Q 37.3125 6.203125 41.140625 7.25  Q 44.96875 8.296875 48.78125 10.40625  L 48.78125 2.09375  Q 45.015625 0.34375 40.984375 -0.53125  Q 36.96875 -1.421875 32.421875 -1.421875  Q 20.0625 -1.421875 12.78125 6.34375  Q 5.515625 14.109375 5.515625 27.296875  Q 5.515625 40.671875 12.859375 48.328125  Q 20.21875 56 33.015625 56  Q 37.15625 56 41.109375 55.140625  Q 45.0625 54.296875 48.78125 52.59375  z \" id=\"DejaVuSans-63\"/>\n",
       "      <path d=\"M 54.890625 33.015625  L 54.890625 0  L 45.90625 0  L 45.90625 32.71875  Q 45.90625 40.484375 42.875 44.328125  Q 39.84375 48.1875 33.796875 48.1875  Q 26.515625 48.1875 22.3125 43.546875  Q 18.109375 38.921875 18.109375 30.90625  L 18.109375 0  L 9.078125 0  L 9.078125 75.984375  L 18.109375 75.984375  L 18.109375 46.1875  Q 21.34375 51.125 25.703125 53.5625  Q 30.078125 56 35.796875 56  Q 45.21875 56 50.046875 50.171875  Q 54.890625 44.34375 54.890625 33.015625  z \" id=\"DejaVuSans-68\"/>\n",
       "     </defs>\n",
       "     <g transform=\"translate(201.507244 280.276563)scale(0.1 -0.1)\">\n",
       "      <use xlink:href=\"#DejaVuSans-45\"/>\n",
       "      <use x=\"63.183594\" xlink:href=\"#DejaVuSans-70\"/>\n",
       "      <use x=\"126.660156\" xlink:href=\"#DejaVuSans-6f\"/>\n",
       "      <use x=\"187.841797\" xlink:href=\"#DejaVuSans-63\"/>\n",
       "      <use x=\"242.822266\" xlink:href=\"#DejaVuSans-68\"/>\n",
       "     </g>\n",
       "    </g>\n",
       "   </g>\n",
       "   <g id=\"matplotlib.axis_2\">\n",
       "    <g id=\"ytick_1\">\n",
       "     <g id=\"line2d_8\">\n",
       "      <defs>\n",
       "       <path d=\"M 0 0  L -3.5 0  \" id=\"m6c9e50b207\" style=\"stroke:#000000;stroke-width:0.8;\"/>\n",
       "      </defs>\n",
       "      <g>\n",
       "       <use style=\"stroke:#000000;stroke-width:0.8;\" x=\"90\" xlink:href=\"#m6c9e50b207\" y=\"252\"/>\n",
       "      </g>\n",
       "     </g>\n",
       "     <g id=\"text_9\">\n",
       "      <!-- 0.0 -->\n",
       "      <defs>\n",
       "       <path d=\"M 10.6875 12.40625  L 21 12.40625  L 21 0  L 10.6875 0  z \" id=\"DejaVuSans-2e\"/>\n",
       "      </defs>\n",
       "      <g transform=\"translate(67.096875 255.799219)scale(0.1 -0.1)\">\n",
       "       <use xlink:href=\"#DejaVuSans-30\"/>\n",
       "       <use x=\"63.623047\" xlink:href=\"#DejaVuSans-2e\"/>\n",
       "       <use x=\"95.410156\" xlink:href=\"#DejaVuSans-30\"/>\n",
       "      </g>\n",
       "     </g>\n",
       "    </g>\n",
       "    <g id=\"ytick_2\">\n",
       "     <g id=\"line2d_9\">\n",
       "      <g>\n",
       "       <use style=\"stroke:#000000;stroke-width:0.8;\" x=\"90\" xlink:href=\"#m6c9e50b207\" y=\"207.318547\"/>\n",
       "      </g>\n",
       "     </g>\n",
       "     <g id=\"text_10\">\n",
       "      <!-- 0.5 -->\n",
       "      <g transform=\"translate(67.096875 211.117766)scale(0.1 -0.1)\">\n",
       "       <use xlink:href=\"#DejaVuSans-30\"/>\n",
       "       <use x=\"63.623047\" xlink:href=\"#DejaVuSans-2e\"/>\n",
       "       <use x=\"95.410156\" xlink:href=\"#DejaVuSans-35\"/>\n",
       "      </g>\n",
       "     </g>\n",
       "    </g>\n",
       "    <g id=\"ytick_3\">\n",
       "     <g id=\"line2d_10\">\n",
       "      <g>\n",
       "       <use style=\"stroke:#000000;stroke-width:0.8;\" x=\"90\" xlink:href=\"#m6c9e50b207\" y=\"162.637094\"/>\n",
       "      </g>\n",
       "     </g>\n",
       "     <g id=\"text_11\">\n",
       "      <!-- 1.0 -->\n",
       "      <g transform=\"translate(67.096875 166.436313)scale(0.1 -0.1)\">\n",
       "       <use xlink:href=\"#DejaVuSans-31\"/>\n",
       "       <use x=\"63.623047\" xlink:href=\"#DejaVuSans-2e\"/>\n",
       "       <use x=\"95.410156\" xlink:href=\"#DejaVuSans-30\"/>\n",
       "      </g>\n",
       "     </g>\n",
       "    </g>\n",
       "    <g id=\"ytick_4\">\n",
       "     <g id=\"line2d_11\">\n",
       "      <g>\n",
       "       <use style=\"stroke:#000000;stroke-width:0.8;\" x=\"90\" xlink:href=\"#m6c9e50b207\" y=\"117.955641\"/>\n",
       "      </g>\n",
       "     </g>\n",
       "     <g id=\"text_12\">\n",
       "      <!-- 1.5 -->\n",
       "      <g transform=\"translate(67.096875 121.75486)scale(0.1 -0.1)\">\n",
       "       <use xlink:href=\"#DejaVuSans-31\"/>\n",
       "       <use x=\"63.623047\" xlink:href=\"#DejaVuSans-2e\"/>\n",
       "       <use x=\"95.410156\" xlink:href=\"#DejaVuSans-35\"/>\n",
       "      </g>\n",
       "     </g>\n",
       "    </g>\n",
       "    <g id=\"ytick_5\">\n",
       "     <g id=\"line2d_12\">\n",
       "      <g>\n",
       "       <use style=\"stroke:#000000;stroke-width:0.8;\" x=\"90\" xlink:href=\"#m6c9e50b207\" y=\"73.274188\"/>\n",
       "      </g>\n",
       "     </g>\n",
       "     <g id=\"text_13\">\n",
       "      <!-- 2.0 -->\n",
       "      <g transform=\"translate(67.096875 77.073407)scale(0.1 -0.1)\">\n",
       "       <use xlink:href=\"#DejaVuSans-32\"/>\n",
       "       <use x=\"63.623047\" xlink:href=\"#DejaVuSans-2e\"/>\n",
       "       <use x=\"95.410156\" xlink:href=\"#DejaVuSans-30\"/>\n",
       "      </g>\n",
       "     </g>\n",
       "    </g>\n",
       "   </g>\n",
       "   <g id=\"line2d_13\">\n",
       "    <path clip-path=\"url(#p81a161900f)\" d=\"M 101.528926 44.76106  L 109.214876 183.942223  L 116.900826 216.050815  L 124.586777 221.703212  L 132.272727 224.558678  L 139.958678 226.642573  L 147.644628 228.199147  L 155.330579 229.402929  L 163.016529 230.271635  L 170.702479 230.854572  L 178.38843 231.295114  L 186.07438 231.600322  L 193.760331 231.844815  L 201.446281 232.481529  L 209.132231 233.085095  L 216.818182 232.661798  L 224.504132 232.971602  L 232.190083 233.467911  L 239.876033 233.250919  L 247.561983 233.846019  L 255.247934 234.004256  L 262.933884 234.177698  L 270.619835 234.077597  L 278.305785 234.26685  L 285.991736 234.479451  L 293.677686 234.29852  L 301.363636 234.425494  L 309.049587 234.622898  L 316.735537 234.779365  L 324.421488 234.873391  L 332.107438 235.060294  \" style=\"fill:none;stroke:#1f77b4;stroke-linecap:square;stroke-width:1.5;\"/>\n",
       "   </g>\n",
       "   <g id=\"line2d_14\">\n",
       "    <path clip-path=\"url(#p81a161900f)\" d=\"M 101.528926 44.311258  L 109.214876 226.769116  L 116.900826 232.120513  L 124.586777 234.409763  L 132.272727 235.277568  L 139.958678 236.214176  L 147.644628 237.596764  L 155.330579 237.906393  L 163.016529 238.269749  L 170.702479 238.096753  L 178.38843 238.807574  L 186.07438 238.709111  L 193.760331 238.593609  L 201.446281 239.097045  L 209.132231 238.91898  L 216.818182 239.053978  L 224.504132 238.80521  L 232.190083 239.336413  L 239.876033 238.704431  L 247.561983 238.97756  L 255.247934 239.216141  L 262.933884 238.640185  L 270.619835 239.114815  L 278.305785 238.677511  L 285.991736 238.750531  L 293.677686 239.03371  L 301.363636 238.881921  L 309.049587 238.655043  L 316.735537 238.732321  L 324.421488 239.012067  L 332.107438 239.249123  \" style=\"fill:none;stroke:#ff7f0e;stroke-linecap:square;stroke-width:1.5;\"/>\n",
       "   </g>\n",
       "   <g id=\"patch_3\">\n",
       "    <path d=\"M 90 252  L 90 34.56  \" style=\"fill:none;stroke:#000000;stroke-linecap:square;stroke-linejoin:miter;stroke-width:0.8;\"/>\n",
       "   </g>\n",
       "   <g id=\"patch_4\">\n",
       "    <path d=\"M 343.636364 252  L 343.636364 34.56  \" style=\"fill:none;stroke:#000000;stroke-linecap:square;stroke-linejoin:miter;stroke-width:0.8;\"/>\n",
       "   </g>\n",
       "   <g id=\"patch_5\">\n",
       "    <path d=\"M 90 252  L 343.636364 252  \" style=\"fill:none;stroke:#000000;stroke-linecap:square;stroke-linejoin:miter;stroke-width:0.8;\"/>\n",
       "   </g>\n",
       "   <g id=\"patch_6\">\n",
       "    <path d=\"M 90 34.56  L 343.636364 34.56  \" style=\"fill:none;stroke:#000000;stroke-linecap:square;stroke-linejoin:miter;stroke-width:0.8;\"/>\n",
       "   </g>\n",
       "   <g id=\"text_14\">\n",
       "    <!-- MNIST_MLP: Error -->\n",
       "    <defs>\n",
       "     <path d=\"M 9.8125 72.90625  L 24.515625 72.90625  L 43.109375 23.296875  L 61.8125 72.90625  L 76.515625 72.90625  L 76.515625 0  L 66.890625 0  L 66.890625 64.015625  L 48.09375 14.015625  L 38.1875 14.015625  L 19.390625 64.015625  L 19.390625 0  L 9.8125 0  z \" id=\"DejaVuSans-4d\"/>\n",
       "     <path d=\"M 9.8125 72.90625  L 23.09375 72.90625  L 55.421875 11.921875  L 55.421875 72.90625  L 64.984375 72.90625  L 64.984375 0  L 51.703125 0  L 19.390625 60.984375  L 19.390625 0  L 9.8125 0  z \" id=\"DejaVuSans-4e\"/>\n",
       "     <path d=\"M 9.8125 72.90625  L 19.671875 72.90625  L 19.671875 0  L 9.8125 0  z \" id=\"DejaVuSans-49\"/>\n",
       "     <path d=\"M 53.515625 70.515625  L 53.515625 60.890625  Q 47.90625 63.578125 42.921875 64.890625  Q 37.9375 66.21875 33.296875 66.21875  Q 25.25 66.21875 20.875 63.09375  Q 16.5 59.96875 16.5 54.203125  Q 16.5 49.359375 19.40625 46.890625  Q 22.3125 44.4375 30.421875 42.921875  L 36.375 41.703125  Q 47.40625 39.59375 52.65625 34.296875  Q 57.90625 29 57.90625 20.125  Q 57.90625 9.515625 50.796875 4.046875  Q 43.703125 -1.421875 29.984375 -1.421875  Q 24.8125 -1.421875 18.96875 -0.25  Q 13.140625 0.921875 6.890625 3.21875  L 6.890625 13.375  Q 12.890625 10.015625 18.65625 8.296875  Q 24.421875 6.59375 29.984375 6.59375  Q 38.421875 6.59375 43.015625 9.90625  Q 47.609375 13.234375 47.609375 19.390625  Q 47.609375 24.75 44.3125 27.78125  Q 41.015625 30.8125 33.5 32.328125  L 27.484375 33.5  Q 16.453125 35.6875 11.515625 40.375  Q 6.59375 45.0625 6.59375 53.421875  Q 6.59375 63.09375 13.40625 68.65625  Q 20.21875 74.21875 32.171875 74.21875  Q 37.3125 74.21875 42.625 73.28125  Q 47.953125 72.359375 53.515625 70.515625  z \" id=\"DejaVuSans-53\"/>\n",
       "     <path d=\"M -0.296875 72.90625  L 61.375 72.90625  L 61.375 64.59375  L 35.5 64.59375  L 35.5 0  L 25.59375 0  L 25.59375 64.59375  L -0.296875 64.59375  z \" id=\"DejaVuSans-54\"/>\n",
       "     <path d=\"M 50.984375 -16.609375  L 50.984375 -23.578125  L -0.984375 -23.578125  L -0.984375 -16.609375  z \" id=\"DejaVuSans-5f\"/>\n",
       "     <path d=\"M 9.8125 72.90625  L 19.671875 72.90625  L 19.671875 8.296875  L 55.171875 8.296875  L 55.171875 0  L 9.8125 0  z \" id=\"DejaVuSans-4c\"/>\n",
       "     <path d=\"M 19.671875 64.796875  L 19.671875 37.40625  L 32.078125 37.40625  Q 38.96875 37.40625 42.71875 40.96875  Q 46.484375 44.53125 46.484375 51.125  Q 46.484375 57.671875 42.71875 61.234375  Q 38.96875 64.796875 32.078125 64.796875  z M 9.8125 72.90625  L 32.078125 72.90625  Q 44.34375 72.90625 50.609375 67.359375  Q 56.890625 61.8125 56.890625 51.125  Q 56.890625 40.328125 50.609375 34.8125  Q 44.34375 29.296875 32.078125 29.296875  L 19.671875 29.296875  L 19.671875 0  L 9.8125 0  z \" id=\"DejaVuSans-50\"/>\n",
       "     <path d=\"M 11.71875 12.40625  L 22.015625 12.40625  L 22.015625 0  L 11.71875 0  z M 11.71875 51.703125  L 22.015625 51.703125  L 22.015625 39.3125  L 11.71875 39.3125  z \" id=\"DejaVuSans-3a\"/>\n",
       "     <path id=\"DejaVuSans-20\"/>\n",
       "     <path d=\"M 41.109375 46.296875  Q 39.59375 47.171875 37.8125 47.578125  Q 36.03125 48 33.890625 48  Q 26.265625 48 22.1875 43.046875  Q 18.109375 38.09375 18.109375 28.8125  L 18.109375 0  L 9.078125 0  L 9.078125 54.6875  L 18.109375 54.6875  L 18.109375 46.1875  Q 20.953125 51.171875 25.484375 53.578125  Q 30.03125 56 36.53125 56  Q 37.453125 56 38.578125 55.875  Q 39.703125 55.765625 41.0625 55.515625  z \" id=\"DejaVuSans-72\"/>\n",
       "    </defs>\n",
       "    <g transform=\"translate(163.983494 28.56)scale(0.12 -0.12)\">\n",
       "     <use xlink:href=\"#DejaVuSans-4d\"/>\n",
       "     <use x=\"86.279297\" xlink:href=\"#DejaVuSans-4e\"/>\n",
       "     <use x=\"161.083984\" xlink:href=\"#DejaVuSans-49\"/>\n",
       "     <use x=\"190.576172\" xlink:href=\"#DejaVuSans-53\"/>\n",
       "     <use x=\"254.052734\" xlink:href=\"#DejaVuSans-54\"/>\n",
       "     <use x=\"315.136719\" xlink:href=\"#DejaVuSans-5f\"/>\n",
       "     <use x=\"365.136719\" xlink:href=\"#DejaVuSans-4d\"/>\n",
       "     <use x=\"451.416016\" xlink:href=\"#DejaVuSans-4c\"/>\n",
       "     <use x=\"507.128906\" xlink:href=\"#DejaVuSans-50\"/>\n",
       "     <use x=\"567.431641\" xlink:href=\"#DejaVuSans-3a\"/>\n",
       "     <use x=\"601.123047\" xlink:href=\"#DejaVuSans-20\"/>\n",
       "     <use x=\"632.910156\" xlink:href=\"#DejaVuSans-45\"/>\n",
       "     <use x=\"696.09375\" xlink:href=\"#DejaVuSans-72\"/>\n",
       "     <use x=\"737.191406\" xlink:href=\"#DejaVuSans-72\"/>\n",
       "     <use x=\"778.273438\" xlink:href=\"#DejaVuSans-6f\"/>\n",
       "     <use x=\"839.455078\" xlink:href=\"#DejaVuSans-72\"/>\n",
       "    </g>\n",
       "   </g>\n",
       "   <g id=\"legend_1\">\n",
       "    <g id=\"patch_7\">\n",
       "     <path d=\"M 236.030114 71.91625  L 336.636364 71.91625  Q 338.636364 71.91625 338.636364 69.91625  L 338.636364 41.56  Q 338.636364 39.56 336.636364 39.56  L 236.030114 39.56  Q 234.030114 39.56 234.030114 41.56  L 234.030114 69.91625  Q 234.030114 71.91625 236.030114 71.91625  z \" style=\"fill:#ffffff;opacity:0.8;stroke:#cccccc;stroke-linejoin:miter;\"/>\n",
       "    </g>\n",
       "    <g id=\"line2d_15\">\n",
       "     <path d=\"M 238.030114 47.658437  L 258.030114 47.658437  \" style=\"fill:none;stroke:#1f77b4;stroke-linecap:square;stroke-width:1.5;\"/>\n",
       "    </g>\n",
       "    <g id=\"line2d_16\"/>\n",
       "    <g id=\"text_15\">\n",
       "     <!-- Training set -->\n",
       "     <defs>\n",
       "      <path d=\"M 34.28125 27.484375  Q 23.390625 27.484375 19.1875 25  Q 14.984375 22.515625 14.984375 16.5  Q 14.984375 11.71875 18.140625 8.90625  Q 21.296875 6.109375 26.703125 6.109375  Q 34.1875 6.109375 38.703125 11.40625  Q 43.21875 16.703125 43.21875 25.484375  L 43.21875 27.484375  z M 52.203125 31.203125  L 52.203125 0  L 43.21875 0  L 43.21875 8.296875  Q 40.140625 3.328125 35.546875 0.953125  Q 30.953125 -1.421875 24.3125 -1.421875  Q 15.921875 -1.421875 10.953125 3.296875  Q 6 8.015625 6 15.921875  Q 6 25.140625 12.171875 29.828125  Q 18.359375 34.515625 30.609375 34.515625  L 43.21875 34.515625  L 43.21875 35.40625  Q 43.21875 41.609375 39.140625 45  Q 35.0625 48.390625 27.6875 48.390625  Q 23 48.390625 18.546875 47.265625  Q 14.109375 46.140625 10.015625 43.890625  L 10.015625 52.203125  Q 14.9375 54.109375 19.578125 55.046875  Q 24.21875 56 28.609375 56  Q 40.484375 56 46.34375 49.84375  Q 52.203125 43.703125 52.203125 31.203125  z \" id=\"DejaVuSans-61\"/>\n",
       "      <path d=\"M 9.421875 54.6875  L 18.40625 54.6875  L 18.40625 0  L 9.421875 0  z M 9.421875 75.984375  L 18.40625 75.984375  L 18.40625 64.59375  L 9.421875 64.59375  z \" id=\"DejaVuSans-69\"/>\n",
       "      <path d=\"M 54.890625 33.015625  L 54.890625 0  L 45.90625 0  L 45.90625 32.71875  Q 45.90625 40.484375 42.875 44.328125  Q 39.84375 48.1875 33.796875 48.1875  Q 26.515625 48.1875 22.3125 43.546875  Q 18.109375 38.921875 18.109375 30.90625  L 18.109375 0  L 9.078125 0  L 9.078125 54.6875  L 18.109375 54.6875  L 18.109375 46.1875  Q 21.34375 51.125 25.703125 53.5625  Q 30.078125 56 35.796875 56  Q 45.21875 56 50.046875 50.171875  Q 54.890625 44.34375 54.890625 33.015625  z \" id=\"DejaVuSans-6e\"/>\n",
       "      <path d=\"M 45.40625 27.984375  Q 45.40625 37.75 41.375 43.109375  Q 37.359375 48.484375 30.078125 48.484375  Q 22.859375 48.484375 18.828125 43.109375  Q 14.796875 37.75 14.796875 27.984375  Q 14.796875 18.265625 18.828125 12.890625  Q 22.859375 7.515625 30.078125 7.515625  Q 37.359375 7.515625 41.375 12.890625  Q 45.40625 18.265625 45.40625 27.984375  z M 54.390625 6.78125  Q 54.390625 -7.171875 48.1875 -13.984375  Q 42 -20.796875 29.203125 -20.796875  Q 24.46875 -20.796875 20.265625 -20.09375  Q 16.0625 -19.390625 12.109375 -17.921875  L 12.109375 -9.1875  Q 16.0625 -11.328125 19.921875 -12.34375  Q 23.78125 -13.375 27.78125 -13.375  Q 36.625 -13.375 41.015625 -8.765625  Q 45.40625 -4.15625 45.40625 5.171875  L 45.40625 9.625  Q 42.625 4.78125 38.28125 2.390625  Q 33.9375 0 27.875 0  Q 17.828125 0 11.671875 7.65625  Q 5.515625 15.328125 5.515625 27.984375  Q 5.515625 40.671875 11.671875 48.328125  Q 17.828125 56 27.875 56  Q 33.9375 56 38.28125 53.609375  Q 42.625 51.21875 45.40625 46.390625  L 45.40625 54.6875  L 54.390625 54.6875  z \" id=\"DejaVuSans-67\"/>\n",
       "      <path d=\"M 44.28125 53.078125  L 44.28125 44.578125  Q 40.484375 46.53125 36.375 47.5  Q 32.28125 48.484375 27.875 48.484375  Q 21.1875 48.484375 17.84375 46.4375  Q 14.5 44.390625 14.5 40.28125  Q 14.5 37.15625 16.890625 35.375  Q 19.28125 33.59375 26.515625 31.984375  L 29.59375 31.296875  Q 39.15625 29.25 43.1875 25.515625  Q 47.21875 21.78125 47.21875 15.09375  Q 47.21875 7.46875 41.1875 3.015625  Q 35.15625 -1.421875 24.609375 -1.421875  Q 20.21875 -1.421875 15.453125 -0.5625  Q 10.6875 0.296875 5.421875 2  L 5.421875 11.28125  Q 10.40625 8.6875 15.234375 7.390625  Q 20.0625 6.109375 24.8125 6.109375  Q 31.15625 6.109375 34.5625 8.28125  Q 37.984375 10.453125 37.984375 14.40625  Q 37.984375 18.0625 35.515625 20.015625  Q 33.0625 21.96875 24.703125 23.78125  L 21.578125 24.515625  Q 13.234375 26.265625 9.515625 29.90625  Q 5.8125 33.546875 5.8125 39.890625  Q 5.8125 47.609375 11.28125 51.796875  Q 16.75 56 26.8125 56  Q 31.78125 56 36.171875 55.265625  Q 40.578125 54.546875 44.28125 53.078125  z \" id=\"DejaVuSans-73\"/>\n",
       "      <path d=\"M 56.203125 29.59375  L 56.203125 25.203125  L 14.890625 25.203125  Q 15.484375 15.921875 20.484375 11.0625  Q 25.484375 6.203125 34.421875 6.203125  Q 39.59375 6.203125 44.453125 7.46875  Q 49.3125 8.734375 54.109375 11.28125  L 54.109375 2.78125  Q 49.265625 0.734375 44.1875 -0.34375  Q 39.109375 -1.421875 33.890625 -1.421875  Q 20.796875 -1.421875 13.15625 6.1875  Q 5.515625 13.8125 5.515625 26.8125  Q 5.515625 40.234375 12.765625 48.109375  Q 20.015625 56 32.328125 56  Q 43.359375 56 49.78125 48.890625  Q 56.203125 41.796875 56.203125 29.59375  z M 47.21875 32.234375  Q 47.125 39.59375 43.09375 43.984375  Q 39.0625 48.390625 32.421875 48.390625  Q 24.90625 48.390625 20.390625 44.140625  Q 15.875 39.890625 15.1875 32.171875  z \" id=\"DejaVuSans-65\"/>\n",
       "      <path d=\"M 18.3125 70.21875  L 18.3125 54.6875  L 36.8125 54.6875  L 36.8125 47.703125  L 18.3125 47.703125  L 18.3125 18.015625  Q 18.3125 11.328125 20.140625 9.421875  Q 21.96875 7.515625 27.59375 7.515625  L 36.8125 7.515625  L 36.8125 0  L 27.59375 0  Q 17.1875 0 13.234375 3.875  Q 9.28125 7.765625 9.28125 18.015625  L 9.28125 47.703125  L 2.6875 47.703125  L 2.6875 54.6875  L 9.28125 54.6875  L 9.28125 70.21875  z \" id=\"DejaVuSans-74\"/>\n",
       "     </defs>\n",
       "     <g transform=\"translate(266.030114 51.158437)scale(0.1 -0.1)\">\n",
       "      <use xlink:href=\"#DejaVuSans-54\"/>\n",
       "      <use x=\"60.865234\" xlink:href=\"#DejaVuSans-72\"/>\n",
       "      <use x=\"101.978516\" xlink:href=\"#DejaVuSans-61\"/>\n",
       "      <use x=\"163.257812\" xlink:href=\"#DejaVuSans-69\"/>\n",
       "      <use x=\"191.041016\" xlink:href=\"#DejaVuSans-6e\"/>\n",
       "      <use x=\"254.419922\" xlink:href=\"#DejaVuSans-69\"/>\n",
       "      <use x=\"282.203125\" xlink:href=\"#DejaVuSans-6e\"/>\n",
       "      <use x=\"345.582031\" xlink:href=\"#DejaVuSans-67\"/>\n",
       "      <use x=\"409.058594\" xlink:href=\"#DejaVuSans-20\"/>\n",
       "      <use x=\"440.845703\" xlink:href=\"#DejaVuSans-73\"/>\n",
       "      <use x=\"492.945312\" xlink:href=\"#DejaVuSans-65\"/>\n",
       "      <use x=\"554.46875\" xlink:href=\"#DejaVuSans-74\"/>\n",
       "     </g>\n",
       "    </g>\n",
       "    <g id=\"line2d_17\">\n",
       "     <path d=\"M 238.030114 62.336562  L 258.030114 62.336562  \" style=\"fill:none;stroke:#ff7f0e;stroke-linecap:square;stroke-width:1.5;\"/>\n",
       "    </g>\n",
       "    <g id=\"line2d_18\"/>\n",
       "    <g id=\"text_16\">\n",
       "     <!-- Validation set -->\n",
       "     <defs>\n",
       "      <path d=\"M 28.609375 0  L 0.78125 72.90625  L 11.078125 72.90625  L 34.1875 11.53125  L 57.328125 72.90625  L 67.578125 72.90625  L 39.796875 0  z \" id=\"DejaVuSans-56\"/>\n",
       "      <path d=\"M 9.421875 75.984375  L 18.40625 75.984375  L 18.40625 0  L 9.421875 0  z \" id=\"DejaVuSans-6c\"/>\n",
       "      <path d=\"M 45.40625 46.390625  L 45.40625 75.984375  L 54.390625 75.984375  L 54.390625 0  L 45.40625 0  L 45.40625 8.203125  Q 42.578125 3.328125 38.25 0.953125  Q 33.9375 -1.421875 27.875 -1.421875  Q 17.96875 -1.421875 11.734375 6.484375  Q 5.515625 14.40625 5.515625 27.296875  Q 5.515625 40.1875 11.734375 48.09375  Q 17.96875 56 27.875 56  Q 33.9375 56 38.25 53.625  Q 42.578125 51.265625 45.40625 46.390625  z M 14.796875 27.296875  Q 14.796875 17.390625 18.875 11.75  Q 22.953125 6.109375 30.078125 6.109375  Q 37.203125 6.109375 41.296875 11.75  Q 45.40625 17.390625 45.40625 27.296875  Q 45.40625 37.203125 41.296875 42.84375  Q 37.203125 48.484375 30.078125 48.484375  Q 22.953125 48.484375 18.875 42.84375  Q 14.796875 37.203125 14.796875 27.296875  z \" id=\"DejaVuSans-64\"/>\n",
       "     </defs>\n",
       "     <g transform=\"translate(266.030114 65.836562)scale(0.1 -0.1)\">\n",
       "      <use xlink:href=\"#DejaVuSans-56\"/>\n",
       "      <use x=\"68.298828\" xlink:href=\"#DejaVuSans-61\"/>\n",
       "      <use x=\"129.578125\" xlink:href=\"#DejaVuSans-6c\"/>\n",
       "      <use x=\"157.361328\" xlink:href=\"#DejaVuSans-69\"/>\n",
       "      <use x=\"185.144531\" xlink:href=\"#DejaVuSans-64\"/>\n",
       "      <use x=\"248.621094\" xlink:href=\"#DejaVuSans-61\"/>\n",
       "      <use x=\"309.900391\" xlink:href=\"#DejaVuSans-74\"/>\n",
       "      <use x=\"349.109375\" xlink:href=\"#DejaVuSans-69\"/>\n",
       "      <use x=\"376.892578\" xlink:href=\"#DejaVuSans-6f\"/>\n",
       "      <use x=\"438.074219\" xlink:href=\"#DejaVuSans-6e\"/>\n",
       "      <use x=\"501.453125\" xlink:href=\"#DejaVuSans-20\"/>\n",
       "      <use x=\"533.240234\" xlink:href=\"#DejaVuSans-73\"/>\n",
       "      <use x=\"585.339844\" xlink:href=\"#DejaVuSans-65\"/>\n",
       "      <use x=\"646.863281\" xlink:href=\"#DejaVuSans-74\"/>\n",
       "     </g>\n",
       "    </g>\n",
       "   </g>\n",
       "  </g>\n",
       "  <g id=\"axes_2\">\n",
       "   <g id=\"patch_8\">\n",
       "    <path d=\"M 394.363636 252  L 648 252  L 648 34.56  L 394.363636 34.56  z \" style=\"fill:#ffffff;\"/>\n",
       "   </g>\n",
       "   <g id=\"matplotlib.axis_3\">\n",
       "    <g id=\"xtick_8\">\n",
       "     <g id=\"line2d_19\">\n",
       "      <g>\n",
       "       <use style=\"stroke:#000000;stroke-width:0.8;\" x=\"405.892562\" xlink:href=\"#m860e9149ef\" y=\"252\"/>\n",
       "      </g>\n",
       "     </g>\n",
       "     <g id=\"text_17\">\n",
       "      <!-- 0 -->\n",
       "      <g transform=\"translate(402.711312 266.598437)scale(0.1 -0.1)\">\n",
       "       <use xlink:href=\"#DejaVuSans-30\"/>\n",
       "      </g>\n",
       "     </g>\n",
       "    </g>\n",
       "    <g id=\"xtick_9\">\n",
       "     <g id=\"line2d_20\">\n",
       "      <g>\n",
       "       <use style=\"stroke:#000000;stroke-width:0.8;\" x=\"444.322314\" xlink:href=\"#m860e9149ef\" y=\"252\"/>\n",
       "      </g>\n",
       "     </g>\n",
       "     <g id=\"text_18\">\n",
       "      <!-- 5 -->\n",
       "      <g transform=\"translate(441.141064 266.598437)scale(0.1 -0.1)\">\n",
       "       <use xlink:href=\"#DejaVuSans-35\"/>\n",
       "      </g>\n",
       "     </g>\n",
       "    </g>\n",
       "    <g id=\"xtick_10\">\n",
       "     <g id=\"line2d_21\">\n",
       "      <g>\n",
       "       <use style=\"stroke:#000000;stroke-width:0.8;\" x=\"482.752066\" xlink:href=\"#m860e9149ef\" y=\"252\"/>\n",
       "      </g>\n",
       "     </g>\n",
       "     <g id=\"text_19\">\n",
       "      <!-- 10 -->\n",
       "      <g transform=\"translate(476.389566 266.598437)scale(0.1 -0.1)\">\n",
       "       <use xlink:href=\"#DejaVuSans-31\"/>\n",
       "       <use x=\"63.623047\" xlink:href=\"#DejaVuSans-30\"/>\n",
       "      </g>\n",
       "     </g>\n",
       "    </g>\n",
       "    <g id=\"xtick_11\">\n",
       "     <g id=\"line2d_22\">\n",
       "      <g>\n",
       "       <use style=\"stroke:#000000;stroke-width:0.8;\" x=\"521.181818\" xlink:href=\"#m860e9149ef\" y=\"252\"/>\n",
       "      </g>\n",
       "     </g>\n",
       "     <g id=\"text_20\">\n",
       "      <!-- 15 -->\n",
       "      <g transform=\"translate(514.819318 266.598437)scale(0.1 -0.1)\">\n",
       "       <use xlink:href=\"#DejaVuSans-31\"/>\n",
       "       <use x=\"63.623047\" xlink:href=\"#DejaVuSans-35\"/>\n",
       "      </g>\n",
       "     </g>\n",
       "    </g>\n",
       "    <g id=\"xtick_12\">\n",
       "     <g id=\"line2d_23\">\n",
       "      <g>\n",
       "       <use style=\"stroke:#000000;stroke-width:0.8;\" x=\"559.61157\" xlink:href=\"#m860e9149ef\" y=\"252\"/>\n",
       "      </g>\n",
       "     </g>\n",
       "     <g id=\"text_21\">\n",
       "      <!-- 20 -->\n",
       "      <g transform=\"translate(553.24907 266.598437)scale(0.1 -0.1)\">\n",
       "       <use xlink:href=\"#DejaVuSans-32\"/>\n",
       "       <use x=\"63.623047\" xlink:href=\"#DejaVuSans-30\"/>\n",
       "      </g>\n",
       "     </g>\n",
       "    </g>\n",
       "    <g id=\"xtick_13\">\n",
       "     <g id=\"line2d_24\">\n",
       "      <g>\n",
       "       <use style=\"stroke:#000000;stroke-width:0.8;\" x=\"598.041322\" xlink:href=\"#m860e9149ef\" y=\"252\"/>\n",
       "      </g>\n",
       "     </g>\n",
       "     <g id=\"text_22\">\n",
       "      <!-- 25 -->\n",
       "      <g transform=\"translate(591.678822 266.598437)scale(0.1 -0.1)\">\n",
       "       <use xlink:href=\"#DejaVuSans-32\"/>\n",
       "       <use x=\"63.623047\" xlink:href=\"#DejaVuSans-35\"/>\n",
       "      </g>\n",
       "     </g>\n",
       "    </g>\n",
       "    <g id=\"xtick_14\">\n",
       "     <g id=\"line2d_25\">\n",
       "      <g>\n",
       "       <use style=\"stroke:#000000;stroke-width:0.8;\" x=\"636.471074\" xlink:href=\"#m860e9149ef\" y=\"252\"/>\n",
       "      </g>\n",
       "     </g>\n",
       "     <g id=\"text_23\">\n",
       "      <!-- 30 -->\n",
       "      <g transform=\"translate(630.108574 266.598437)scale(0.1 -0.1)\">\n",
       "       <use xlink:href=\"#DejaVuSans-33\"/>\n",
       "       <use x=\"63.623047\" xlink:href=\"#DejaVuSans-30\"/>\n",
       "      </g>\n",
       "     </g>\n",
       "    </g>\n",
       "    <g id=\"text_24\">\n",
       "     <!-- Epoch -->\n",
       "     <g transform=\"translate(505.870881 280.276563)scale(0.1 -0.1)\">\n",
       "      <use xlink:href=\"#DejaVuSans-45\"/>\n",
       "      <use x=\"63.183594\" xlink:href=\"#DejaVuSans-70\"/>\n",
       "      <use x=\"126.660156\" xlink:href=\"#DejaVuSans-6f\"/>\n",
       "      <use x=\"187.841797\" xlink:href=\"#DejaVuSans-63\"/>\n",
       "      <use x=\"242.822266\" xlink:href=\"#DejaVuSans-68\"/>\n",
       "     </g>\n",
       "    </g>\n",
       "   </g>\n",
       "   <g id=\"matplotlib.axis_4\">\n",
       "    <g id=\"ytick_6\">\n",
       "     <g id=\"line2d_26\">\n",
       "      <g>\n",
       "       <use style=\"stroke:#000000;stroke-width:0.8;\" x=\"394.363636\" xlink:href=\"#m6c9e50b207\" y=\"233.88\"/>\n",
       "      </g>\n",
       "     </g>\n",
       "     <g id=\"text_25\">\n",
       "      <!-- 0.0 -->\n",
       "      <g transform=\"translate(371.460511 237.679219)scale(0.1 -0.1)\">\n",
       "       <use xlink:href=\"#DejaVuSans-30\"/>\n",
       "       <use x=\"63.623047\" xlink:href=\"#DejaVuSans-2e\"/>\n",
       "       <use x=\"95.410156\" xlink:href=\"#DejaVuSans-30\"/>\n",
       "      </g>\n",
       "     </g>\n",
       "    </g>\n",
       "    <g id=\"ytick_7\">\n",
       "     <g id=\"line2d_27\">\n",
       "      <g>\n",
       "       <use style=\"stroke:#000000;stroke-width:0.8;\" x=\"394.363636\" xlink:href=\"#m6c9e50b207\" y=\"197.64\"/>\n",
       "      </g>\n",
       "     </g>\n",
       "     <g id=\"text_26\">\n",
       "      <!-- 0.2 -->\n",
       "      <g transform=\"translate(371.460511 201.439219)scale(0.1 -0.1)\">\n",
       "       <use xlink:href=\"#DejaVuSans-30\"/>\n",
       "       <use x=\"63.623047\" xlink:href=\"#DejaVuSans-2e\"/>\n",
       "       <use x=\"95.410156\" xlink:href=\"#DejaVuSans-32\"/>\n",
       "      </g>\n",
       "     </g>\n",
       "    </g>\n",
       "    <g id=\"ytick_8\">\n",
       "     <g id=\"line2d_28\">\n",
       "      <g>\n",
       "       <use style=\"stroke:#000000;stroke-width:0.8;\" x=\"394.363636\" xlink:href=\"#m6c9e50b207\" y=\"161.4\"/>\n",
       "      </g>\n",
       "     </g>\n",
       "     <g id=\"text_27\">\n",
       "      <!-- 0.4 -->\n",
       "      <defs>\n",
       "       <path d=\"M 37.796875 64.3125  L 12.890625 25.390625  L 37.796875 25.390625  z M 35.203125 72.90625  L 47.609375 72.90625  L 47.609375 25.390625  L 58.015625 25.390625  L 58.015625 17.1875  L 47.609375 17.1875  L 47.609375 0  L 37.796875 0  L 37.796875 17.1875  L 4.890625 17.1875  L 4.890625 26.703125  z \" id=\"DejaVuSans-34\"/>\n",
       "      </defs>\n",
       "      <g transform=\"translate(371.460511 165.199219)scale(0.1 -0.1)\">\n",
       "       <use xlink:href=\"#DejaVuSans-30\"/>\n",
       "       <use x=\"63.623047\" xlink:href=\"#DejaVuSans-2e\"/>\n",
       "       <use x=\"95.410156\" xlink:href=\"#DejaVuSans-34\"/>\n",
       "      </g>\n",
       "     </g>\n",
       "    </g>\n",
       "    <g id=\"ytick_9\">\n",
       "     <g id=\"line2d_29\">\n",
       "      <g>\n",
       "       <use style=\"stroke:#000000;stroke-width:0.8;\" x=\"394.363636\" xlink:href=\"#m6c9e50b207\" y=\"125.16\"/>\n",
       "      </g>\n",
       "     </g>\n",
       "     <g id=\"text_28\">\n",
       "      <!-- 0.6 -->\n",
       "      <defs>\n",
       "       <path d=\"M 33.015625 40.375  Q 26.375 40.375 22.484375 35.828125  Q 18.609375 31.296875 18.609375 23.390625  Q 18.609375 15.53125 22.484375 10.953125  Q 26.375 6.390625 33.015625 6.390625  Q 39.65625 6.390625 43.53125 10.953125  Q 47.40625 15.53125 47.40625 23.390625  Q 47.40625 31.296875 43.53125 35.828125  Q 39.65625 40.375 33.015625 40.375  z M 52.59375 71.296875  L 52.59375 62.3125  Q 48.875 64.0625 45.09375 64.984375  Q 41.3125 65.921875 37.59375 65.921875  Q 27.828125 65.921875 22.671875 59.328125  Q 17.53125 52.734375 16.796875 39.40625  Q 19.671875 43.65625 24.015625 45.921875  Q 28.375 48.1875 33.59375 48.1875  Q 44.578125 48.1875 50.953125 41.515625  Q 57.328125 34.859375 57.328125 23.390625  Q 57.328125 12.15625 50.6875 5.359375  Q 44.046875 -1.421875 33.015625 -1.421875  Q 20.359375 -1.421875 13.671875 8.265625  Q 6.984375 17.96875 6.984375 36.375  Q 6.984375 53.65625 15.1875 63.9375  Q 23.390625 74.21875 37.203125 74.21875  Q 40.921875 74.21875 44.703125 73.484375  Q 48.484375 72.75 52.59375 71.296875  z \" id=\"DejaVuSans-36\"/>\n",
       "      </defs>\n",
       "      <g transform=\"translate(371.460511 128.959219)scale(0.1 -0.1)\">\n",
       "       <use xlink:href=\"#DejaVuSans-30\"/>\n",
       "       <use x=\"63.623047\" xlink:href=\"#DejaVuSans-2e\"/>\n",
       "       <use x=\"95.410156\" xlink:href=\"#DejaVuSans-36\"/>\n",
       "      </g>\n",
       "     </g>\n",
       "    </g>\n",
       "    <g id=\"ytick_10\">\n",
       "     <g id=\"line2d_30\">\n",
       "      <g>\n",
       "       <use style=\"stroke:#000000;stroke-width:0.8;\" x=\"394.363636\" xlink:href=\"#m6c9e50b207\" y=\"88.92\"/>\n",
       "      </g>\n",
       "     </g>\n",
       "     <g id=\"text_29\">\n",
       "      <!-- 0.8 -->\n",
       "      <defs>\n",
       "       <path d=\"M 31.78125 34.625  Q 24.75 34.625 20.71875 30.859375  Q 16.703125 27.09375 16.703125 20.515625  Q 16.703125 13.921875 20.71875 10.15625  Q 24.75 6.390625 31.78125 6.390625  Q 38.8125 6.390625 42.859375 10.171875  Q 46.921875 13.96875 46.921875 20.515625  Q 46.921875 27.09375 42.890625 30.859375  Q 38.875 34.625 31.78125 34.625  z M 21.921875 38.8125  Q 15.578125 40.375 12.03125 44.71875  Q 8.5 49.078125 8.5 55.328125  Q 8.5 64.0625 14.71875 69.140625  Q 20.953125 74.21875 31.78125 74.21875  Q 42.671875 74.21875 48.875 69.140625  Q 55.078125 64.0625 55.078125 55.328125  Q 55.078125 49.078125 51.53125 44.71875  Q 48 40.375 41.703125 38.8125  Q 48.828125 37.15625 52.796875 32.3125  Q 56.78125 27.484375 56.78125 20.515625  Q 56.78125 9.90625 50.3125 4.234375  Q 43.84375 -1.421875 31.78125 -1.421875  Q 19.734375 -1.421875 13.25 4.234375  Q 6.78125 9.90625 6.78125 20.515625  Q 6.78125 27.484375 10.78125 32.3125  Q 14.796875 37.15625 21.921875 38.8125  z M 18.3125 54.390625  Q 18.3125 48.734375 21.84375 45.5625  Q 25.390625 42.390625 31.78125 42.390625  Q 38.140625 42.390625 41.71875 45.5625  Q 45.3125 48.734375 45.3125 54.390625  Q 45.3125 60.0625 41.71875 63.234375  Q 38.140625 66.40625 31.78125 66.40625  Q 25.390625 66.40625 21.84375 63.234375  Q 18.3125 60.0625 18.3125 54.390625  z \" id=\"DejaVuSans-38\"/>\n",
       "      </defs>\n",
       "      <g transform=\"translate(371.460511 92.719219)scale(0.1 -0.1)\">\n",
       "       <use xlink:href=\"#DejaVuSans-30\"/>\n",
       "       <use x=\"63.623047\" xlink:href=\"#DejaVuSans-2e\"/>\n",
       "       <use x=\"95.410156\" xlink:href=\"#DejaVuSans-38\"/>\n",
       "      </g>\n",
       "     </g>\n",
       "    </g>\n",
       "    <g id=\"ytick_11\">\n",
       "     <g id=\"line2d_31\">\n",
       "      <g>\n",
       "       <use style=\"stroke:#000000;stroke-width:0.8;\" x=\"394.363636\" xlink:href=\"#m6c9e50b207\" y=\"52.68\"/>\n",
       "      </g>\n",
       "     </g>\n",
       "     <g id=\"text_30\">\n",
       "      <!-- 1.0 -->\n",
       "      <g transform=\"translate(371.460511 56.479219)scale(0.1 -0.1)\">\n",
       "       <use xlink:href=\"#DejaVuSans-31\"/>\n",
       "       <use x=\"63.623047\" xlink:href=\"#DejaVuSans-2e\"/>\n",
       "       <use x=\"95.410156\" xlink:href=\"#DejaVuSans-30\"/>\n",
       "      </g>\n",
       "     </g>\n",
       "    </g>\n",
       "   </g>\n",
       "   <g id=\"line2d_32\">\n",
       "    <path clip-path=\"url(#pb10b525976)\" d=\"M 405.892562 211.92762  L 413.578512 94.49492  L 421.264463 74.36964  L 428.950413 71.01442  L 436.636364 69.00612  L 444.322314 67.69846  L 452.008264 66.7381  L 459.694215 66.14316  L 467.380165 65.62372  L 475.066116 65.1677  L 482.752066 64.86872  L 490.438017 64.67544  L 498.123967 64.52746  L 505.809917 64.38854  L 513.495868 63.73924  L 521.181818 64.04426  L 528.867769 63.9446  L 536.553719 63.46744  L 544.239669 63.54596  L 551.92562 63.41308  L 559.61157 63.18658  L 567.297521 63.2047  L 574.983471 63.1594  L 582.669421 63.32248  L 590.355372 62.72754  L 598.041322 62.93592  L 605.727273 62.84834  L 613.413223 62.76982  L 621.099174 62.86344  L 628.785124 62.74868  L 636.471074 62.6309  \" style=\"fill:none;stroke:#1f77b4;stroke-linecap:square;stroke-width:1.5;\"/>\n",
       "   </g>\n",
       "   <g id=\"line2d_33\">\n",
       "    <path clip-path=\"url(#pb10b525976)\" d=\"M 405.892562 212.3172  L 413.578512 67.86456  L 421.264463 64.6392  L 428.950413 63.17148  L 436.636364 63.04464  L 444.322314 62.193  L 452.008264 60.97896  L 459.694215 61.14204  L 467.380165 60.79776  L 475.066116 60.6528  L 482.752066 60.48972  L 490.438017 60.1092  L 498.123967 60.2904  L 505.809917 60.00048  L 513.495868 59.8374  L 521.181818 59.67432  L 528.867769 60.0186  L 536.553719 59.6562  L 544.239669 59.81928  L 551.92562 59.81928  L 559.61157 59.6562  L 567.297521 59.63808  L 574.983471 59.81928  L 582.669421 59.49312  L 590.355372 59.51124  L 598.041322 59.78304  L 605.727273 59.78304  L 613.413223 60.0186  L 621.099174 59.54748  L 628.785124 59.51124  L 636.471074 59.58372  \" style=\"fill:none;stroke:#ff7f0e;stroke-linecap:square;stroke-width:1.5;\"/>\n",
       "   </g>\n",
       "   <g id=\"patch_9\">\n",
       "    <path d=\"M 394.363636 252  L 394.363636 34.56  \" style=\"fill:none;stroke:#000000;stroke-linecap:square;stroke-linejoin:miter;stroke-width:0.8;\"/>\n",
       "   </g>\n",
       "   <g id=\"patch_10\">\n",
       "    <path d=\"M 648 252  L 648 34.56  \" style=\"fill:none;stroke:#000000;stroke-linecap:square;stroke-linejoin:miter;stroke-width:0.8;\"/>\n",
       "   </g>\n",
       "   <g id=\"patch_11\">\n",
       "    <path d=\"M 394.363636 252  L 648 252  \" style=\"fill:none;stroke:#000000;stroke-linecap:square;stroke-linejoin:miter;stroke-width:0.8;\"/>\n",
       "   </g>\n",
       "   <g id=\"patch_12\">\n",
       "    <path d=\"M 394.363636 34.56  L 648 34.56  \" style=\"fill:none;stroke:#000000;stroke-linecap:square;stroke-linejoin:miter;stroke-width:0.8;\"/>\n",
       "   </g>\n",
       "   <g id=\"text_31\">\n",
       "    <!-- MNIST_MLP: Accuracy -->\n",
       "    <defs>\n",
       "     <path d=\"M 34.1875 63.1875  L 20.796875 26.90625  L 47.609375 26.90625  z M 28.609375 72.90625  L 39.796875 72.90625  L 67.578125 0  L 57.328125 0  L 50.6875 18.703125  L 17.828125 18.703125  L 11.1875 0  L 0.78125 0  z \" id=\"DejaVuSans-41\"/>\n",
       "     <path d=\"M 8.5 21.578125  L 8.5 54.6875  L 17.484375 54.6875  L 17.484375 21.921875  Q 17.484375 14.15625 20.5 10.265625  Q 23.53125 6.390625 29.59375 6.390625  Q 36.859375 6.390625 41.078125 11.03125  Q 45.3125 15.671875 45.3125 23.6875  L 45.3125 54.6875  L 54.296875 54.6875  L 54.296875 0  L 45.3125 0  L 45.3125 8.40625  Q 42.046875 3.421875 37.71875 1  Q 33.40625 -1.421875 27.6875 -1.421875  Q 18.265625 -1.421875 13.375 4.4375  Q 8.5 10.296875 8.5 21.578125  z M 31.109375 56  z \" id=\"DejaVuSans-75\"/>\n",
       "     <path d=\"M 32.171875 -5.078125  Q 28.375 -14.84375 24.75 -17.8125  Q 21.140625 -20.796875 15.09375 -20.796875  L 7.90625 -20.796875  L 7.90625 -13.28125  L 13.1875 -13.28125  Q 16.890625 -13.28125 18.9375 -11.515625  Q 21 -9.765625 23.484375 -3.21875  L 25.09375 0.875  L 2.984375 54.6875  L 12.5 54.6875  L 29.59375 11.921875  L 46.6875 54.6875  L 56.203125 54.6875  z \" id=\"DejaVuSans-79\"/>\n",
       "    </defs>\n",
       "    <g transform=\"translate(455.708693 28.56)scale(0.12 -0.12)\">\n",
       "     <use xlink:href=\"#DejaVuSans-4d\"/>\n",
       "     <use x=\"86.279297\" xlink:href=\"#DejaVuSans-4e\"/>\n",
       "     <use x=\"161.083984\" xlink:href=\"#DejaVuSans-49\"/>\n",
       "     <use x=\"190.576172\" xlink:href=\"#DejaVuSans-53\"/>\n",
       "     <use x=\"254.052734\" xlink:href=\"#DejaVuSans-54\"/>\n",
       "     <use x=\"315.136719\" xlink:href=\"#DejaVuSans-5f\"/>\n",
       "     <use x=\"365.136719\" xlink:href=\"#DejaVuSans-4d\"/>\n",
       "     <use x=\"451.416016\" xlink:href=\"#DejaVuSans-4c\"/>\n",
       "     <use x=\"507.128906\" xlink:href=\"#DejaVuSans-50\"/>\n",
       "     <use x=\"567.431641\" xlink:href=\"#DejaVuSans-3a\"/>\n",
       "     <use x=\"601.123047\" xlink:href=\"#DejaVuSans-20\"/>\n",
       "     <use x=\"632.910156\" xlink:href=\"#DejaVuSans-41\"/>\n",
       "     <use x=\"701.302734\" xlink:href=\"#DejaVuSans-63\"/>\n",
       "     <use x=\"756.283203\" xlink:href=\"#DejaVuSans-63\"/>\n",
       "     <use x=\"811.263672\" xlink:href=\"#DejaVuSans-75\"/>\n",
       "     <use x=\"874.642578\" xlink:href=\"#DejaVuSans-72\"/>\n",
       "     <use x=\"915.755859\" xlink:href=\"#DejaVuSans-61\"/>\n",
       "     <use x=\"977.035156\" xlink:href=\"#DejaVuSans-63\"/>\n",
       "     <use x=\"1032.015625\" xlink:href=\"#DejaVuSans-79\"/>\n",
       "    </g>\n",
       "   </g>\n",
       "   <g id=\"legend_2\">\n",
       "    <g id=\"patch_13\">\n",
       "     <path d=\"M 401.363636 247  L 501.969886 247  Q 503.969886 247 503.969886 245  L 503.969886 216.64375  Q 503.969886 214.64375 501.969886 214.64375  L 401.363636 214.64375  Q 399.363636 214.64375 399.363636 216.64375  L 399.363636 245  Q 399.363636 247 401.363636 247  z \" style=\"fill:#ffffff;opacity:0.8;stroke:#cccccc;stroke-linejoin:miter;\"/>\n",
       "    </g>\n",
       "    <g id=\"line2d_34\">\n",
       "     <path d=\"M 403.363636 222.742188  L 423.363636 222.742188  \" style=\"fill:none;stroke:#1f77b4;stroke-linecap:square;stroke-width:1.5;\"/>\n",
       "    </g>\n",
       "    <g id=\"line2d_35\"/>\n",
       "    <g id=\"text_32\">\n",
       "     <!-- Training set -->\n",
       "     <g transform=\"translate(431.363636 226.242188)scale(0.1 -0.1)\">\n",
       "      <use xlink:href=\"#DejaVuSans-54\"/>\n",
       "      <use x=\"60.865234\" xlink:href=\"#DejaVuSans-72\"/>\n",
       "      <use x=\"101.978516\" xlink:href=\"#DejaVuSans-61\"/>\n",
       "      <use x=\"163.257812\" xlink:href=\"#DejaVuSans-69\"/>\n",
       "      <use x=\"191.041016\" xlink:href=\"#DejaVuSans-6e\"/>\n",
       "      <use x=\"254.419922\" xlink:href=\"#DejaVuSans-69\"/>\n",
       "      <use x=\"282.203125\" xlink:href=\"#DejaVuSans-6e\"/>\n",
       "      <use x=\"345.582031\" xlink:href=\"#DejaVuSans-67\"/>\n",
       "      <use x=\"409.058594\" xlink:href=\"#DejaVuSans-20\"/>\n",
       "      <use x=\"440.845703\" xlink:href=\"#DejaVuSans-73\"/>\n",
       "      <use x=\"492.945312\" xlink:href=\"#DejaVuSans-65\"/>\n",
       "      <use x=\"554.46875\" xlink:href=\"#DejaVuSans-74\"/>\n",
       "     </g>\n",
       "    </g>\n",
       "    <g id=\"line2d_36\">\n",
       "     <path d=\"M 403.363636 237.420312  L 423.363636 237.420312  \" style=\"fill:none;stroke:#ff7f0e;stroke-linecap:square;stroke-width:1.5;\"/>\n",
       "    </g>\n",
       "    <g id=\"line2d_37\"/>\n",
       "    <g id=\"text_33\">\n",
       "     <!-- Validation set -->\n",
       "     <g transform=\"translate(431.363636 240.920312)scale(0.1 -0.1)\">\n",
       "      <use xlink:href=\"#DejaVuSans-56\"/>\n",
       "      <use x=\"68.298828\" xlink:href=\"#DejaVuSans-61\"/>\n",
       "      <use x=\"129.578125\" xlink:href=\"#DejaVuSans-6c\"/>\n",
       "      <use x=\"157.361328\" xlink:href=\"#DejaVuSans-69\"/>\n",
       "      <use x=\"185.144531\" xlink:href=\"#DejaVuSans-64\"/>\n",
       "      <use x=\"248.621094\" xlink:href=\"#DejaVuSans-61\"/>\n",
       "      <use x=\"309.900391\" xlink:href=\"#DejaVuSans-74\"/>\n",
       "      <use x=\"349.109375\" xlink:href=\"#DejaVuSans-69\"/>\n",
       "      <use x=\"376.892578\" xlink:href=\"#DejaVuSans-6f\"/>\n",
       "      <use x=\"438.074219\" xlink:href=\"#DejaVuSans-6e\"/>\n",
       "      <use x=\"501.453125\" xlink:href=\"#DejaVuSans-20\"/>\n",
       "      <use x=\"533.240234\" xlink:href=\"#DejaVuSans-73\"/>\n",
       "      <use x=\"585.339844\" xlink:href=\"#DejaVuSans-65\"/>\n",
       "      <use x=\"646.863281\" xlink:href=\"#DejaVuSans-74\"/>\n",
       "     </g>\n",
       "    </g>\n",
       "   </g>\n",
       "  </g>\n",
       " </g>\n",
       " <defs>\n",
       "  <clipPath id=\"p81a161900f\">\n",
       "   <rect height=\"217.44\" width=\"253.636364\" x=\"90\" y=\"34.56\"/>\n",
       "  </clipPath>\n",
       "  <clipPath id=\"pb10b525976\">\n",
       "   <rect height=\"217.44\" width=\"253.636364\" x=\"394.363636\" y=\"34.56\"/>\n",
       "  </clipPath>\n",
       " </defs>\n",
       "</svg>"
      ],
      "text/plain": [
       "<IPython.core.display.SVG object>"
      ]
     },
     "metadata": {},
     "output_type": "display_data"
    },
    {
     "name": "stdout",
     "output_type": "stream",
     "text": [
      "========================================================\n",
      "       |  Training |  Training |  Validate |  Validate \n",
      "Epochs |     Error |  Accuracy |     Error |  Accuracy \n",
      "------ | --------- | --------- | --------- | --------- \n",
      "#   30 |   0.18956 |   0.94508 |   0.14269 |   0.96190 \n"
     ]
    }
   ],
   "source": [
    "net.train(epochs=30, batch_size=128)"
   ]
  },
  {
   "cell_type": "markdown",
   "metadata": {},
   "source": [
    "The detailed epoch-by-epoch training history of the network is available by calling `show_results()`. The optional `report_rate` keyword specifies which epochs to show."
   ]
  },
  {
   "cell_type": "code",
   "execution_count": 23,
   "metadata": {},
   "outputs": [
    {
     "name": "stdout",
     "output_type": "stream",
     "text": [
      "       |  Training |  Training |  Validate |  Validate \n",
      "Epochs |     Error |  Accuracy |     Error |  Accuracy \n",
      "------ | --------- | --------- | --------- | --------- \n",
      "#    0 |   2.31907 |   0.12115 |   2.32410 |   0.11900 \n",
      "#    5 |   0.28376 |   0.91712 |   0.17665 |   0.94750 \n",
      "#   10 |   0.23169 |   0.93273 |   0.14763 |   0.95690 \n",
      "#   15 |   0.21640 |   0.93728 |   0.14487 |   0.96140 \n",
      "#   20 |   0.20138 |   0.94202 |   0.14306 |   0.96150 \n",
      "#   25 |   0.19809 |   0.94340 |   0.14510 |   0.96080 \n",
      "#   30 |   0.18956 |   0.94508 |   0.14269 |   0.96190 \n",
      "========================================================\n",
      "#   30 |   0.18956 |   0.94508 |   0.14269 |   0.96190 \n"
     ]
    }
   ],
   "source": [
    "net.show_results(report_rate=5)"
   ]
  },
  {
   "cell_type": "markdown",
   "metadata": {},
   "source": [
    "The `plot` method shows the value of various network metrics during training. The metrics `loss` and `val_loss` represent the value of the error (loss) function on the training and testing sets, respectively.  Likewise, `acc` and `val_acc` represent the accuracy of the training and testing sets, respectively. The optional `ymin` and `ymax` keywords can be used to adjust the y-axis scale. For example:"
   ]
  },
  {
   "cell_type": "code",
   "execution_count": 24,
   "metadata": {},
   "outputs": [
    {
     "data": {
      "image/png": "[encoded data removed]",
      "text/plain": [
       "<matplotlib.figure.Figure at 0x11f6bd588>"
      ]
     },
     "metadata": {},
     "output_type": "display_data"
    }
   ],
   "source": [
    "net.plot(['acc', 'val_acc'], ymin=0.9, ymax=1)"
   ]
  },
  {
   "cell_type": "code",
   "execution_count": 25,
   "metadata": {},
   "outputs": [
    {
     "data": {
      "image/png": "[encoded data removed]",
      "text/plain": [
       "<matplotlib.figure.Figure at 0x107e55908>"
      ]
     },
     "metadata": {},
     "output_type": "display_data"
    }
   ],
   "source": [
    "net.plot(['loss', 'val_loss'], ymin=0, ymax=0.3)"
   ]
  },
  {
   "cell_type": "markdown",
   "metadata": {},
   "source": [
    "After training, the index of the largest output value in response to an input image corresponds to the network's digit classification. For example, test input #42 is shown below, along with the network's response."
   ]
  },
  {
   "cell_type": "code",
   "execution_count": 26,
   "metadata": {},
   "outputs": [
    {
     "data": {
      "image/png": "[encoded data removed]",
      "text/plain": [
       "<matplotlib.figure.Figure at 0x114a906a0>"
      ]
     },
     "metadata": {},
     "output_type": "display_data"
    }
   ],
   "source": [
    "cx.view(net.dataset.test_inputs[42])"
   ]
  },
  {
   "cell_type": "code",
   "execution_count": 27,
   "metadata": {},
   "outputs": [
    {
     "data": {
      "text/plain": [
       "[8.29590760101145e-15,\n",
       " 1.3839225765366336e-08,\n",
       " 3.827433037173478e-09,\n",
       " 1.2141970762158394e-09,\n",
       " 0.9995057582855225,\n",
       " 1.0181236831385831e-07,\n",
       " 8.000177603717518e-11,\n",
       " 2.6696614440879785e-05,\n",
       " 2.239695762185079e-09,\n",
       " 0.0004674130759667605]"
      ]
     },
     "execution_count": 27,
     "metadata": {},
     "output_type": "execute_result"
    }
   ],
   "source": [
    "net.propagate(net.dataset.test_inputs[42])"
   ]
  },
  {
   "cell_type": "code",
   "execution_count": 28,
   "metadata": {},
   "outputs": [
    {
     "data": {
      "text/plain": [
       "4"
      ]
     },
     "execution_count": 28,
     "metadata": {},
     "output_type": "execute_result"
    }
   ],
   "source": [
    "cx.argmax(net.propagate(net.dataset.test_inputs[42]))"
   ]
  },
  {
   "cell_type": "markdown",
   "metadata": {},
   "source": [
    "Examining the weights into the same three hidden units as before shows that these units have learned to respond in different ways to different parts of the input image."
   ]
  },
  {
   "cell_type": "code",
   "execution_count": 29,
   "metadata": {},
   "outputs": [
    {
     "data": {
      "image/png": "[encoded data removed]",
      "text/plain": [
       "<matplotlib.figure.Figure at 0x114a90da0>"
      ]
     },
     "metadata": {},
     "output_type": "display_data"
    }
   ],
   "source": [
    "net.plot_layer_weights('hidden1', units=[0,1,2], vshape=(28,28), wrange=(-1.5, 1.5))"
   ]
  },
  {
   "cell_type": "markdown",
   "metadata": {},
   "source": [
    "## A Convolutional Network for MNIST Classification\n",
    "\n",
    "Convolutional neural networks (CNNs) are loosely inspired by the neurobiology of the visual system. The key idea is that each unit in a convolutional layer receives connections from a limited number of units in the previous layer (which can be thought of as the unit's \"visual field\"), and these connections are arranged in a two-dimensional topology to take advantage of spatial information. Each convolutional layer specifies a number of independent *features* to be learned, along with the *N*&nbsp;&times;&nbsp;*N* size of the visual field (also called the *kernel size*). The units responsible for learning a feature share connections across the entire convolutional layer, which often leads to far fewer network parameters compared to a network with fully-connected layers.\n",
    "\n",
    "Another type of layer common to CNNs is the *pooling* layer, which reduces the amount of information flowing through the network by the process of subsampling. Each pooling unit receives input from a limited number of units in the previous layer, and then applies some function (like *maximum* or *average*) to these inputs. The overall effect is to produce a coarser-grained version of the information from the previous layer, which makes the network less sensitive to small variations in position.\n",
    "\n",
    "We will define a CNN for MNIST classification using two convolutional layers with 5 &times; 5 kernels, each followed by a pooling layer with 2 &times; 2 kernels that compute the maximum of their inputs. The first convolutional layer will learn 16 relatively low-level features, whereas the second will learn 32 higher-level features. These features will then feed into a hidden layer (after being flattened), followed by an output classification layer using *Softmax*."
   ]
  },
  {
   "cell_type": "code",
   "execution_count": 30,
   "metadata": {},
   "outputs": [],
   "source": [
    "cnn = cx.Network(\"MNIST_CNN\")\n",
    "\n",
    "cnn.add(cx.Layer(\"input\", (28,28,1), colormap=\"gray\"),\n",
    "        cx.Conv2DLayer(\"conv2D_1\", 16, (5,5), activation=\"relu\", dropout=0.2),\n",
    "        cx.MaxPool2DLayer(\"maxpool1\", (2,2)),\n",
    "        cx.Conv2DLayer(\"conv2D_2\", 32, (5,5), activation=\"relu\", dropout=0.2),\n",
    "        cx.MaxPool2DLayer(\"maxpool2\", (2,2)),\n",
    "        cx.FlattenLayer(\"flat\"),\n",
    "        cx.Layer(\"hidden\", 30, activation='relu'),\n",
    "        cx.Layer(\"output\", 10, activation='softmax'))\n",
    "\n",
    "cnn.connect()"
   ]
  },
  {
   "cell_type": "code",
   "execution_count": 31,
   "metadata": {},
   "outputs": [
    {
     "name": "stdout",
     "output_type": "stream",
     "text": [
      "_________________________________________________________________\n",
      "MNIST:\n",
      "Patterns    Shape                 Range                         \n",
      "=================================================================\n",
      "inputs      (28, 28, 1)           (0.0, 1.0)                    \n",
      "targets     (10,)                 (0.0, 1.0)                    \n",
      "=================================================================\n",
      "Total patterns: 70000\n",
      "   Training patterns: 60000\n",
      "   Testing patterns: 10000\n",
      "_________________________________________________________________\n"
     ]
    }
   ],
   "source": [
    "cnn.dataset.get(\"MNIST\")\n",
    "cnn.dataset.split(10000)\n",
    "cnn.dataset.summary()"
   ]
  },
  {
   "cell_type": "code",
   "execution_count": 32,
   "metadata": {},
   "outputs": [
    {
     "name": "stdout",
     "output_type": "stream",
     "text": [
      "_________________________________________________________________\n",
      "Layer (type)                 Output Shape              Param #   \n",
      "=================================================================\n",
      "input (InputLayer)           (None, 28, 28, 1)         0         \n",
      "_________________________________________________________________\n",
      "conv2D_1 (Conv2D)            (None, 24, 24, 16)        416       \n",
      "_________________________________________________________________\n",
      "dropout_3 (Dropout)          (None, 24, 24, 16)        0         \n",
      "_________________________________________________________________\n",
      "maxpool1 (MaxPooling2D)      (None, 12, 12, 16)        0         \n",
      "_________________________________________________________________\n",
      "conv2D_2 (Conv2D)            (None, 8, 8, 32)          12832     \n",
      "_________________________________________________________________\n",
      "dropout_4 (Dropout)          (None, 8, 8, 32)          0         \n",
      "_________________________________________________________________\n",
      "maxpool2 (MaxPooling2D)      (None, 4, 4, 32)          0         \n",
      "_________________________________________________________________\n",
      "flat (Flatten)               (None, 512)               0         \n",
      "_________________________________________________________________\n",
      "hidden (Dense)               (None, 30)                15390     \n",
      "_________________________________________________________________\n",
      "output (Dense)               (None, 10)                310       \n",
      "=================================================================\n",
      "Total params: 28,948\n",
      "Trainable params: 28,948\n",
      "Non-trainable params: 0\n",
      "_________________________________________________________________\n"
     ]
    }
   ],
   "source": [
    "cnn.compile(error='categorical_crossentropy', optimizer='rmsprop')\n",
    "cnn.summary()"
   ]
  },
  {
   "cell_type": "code",
   "execution_count": 33,
   "metadata": {},
   "outputs": [
    {
     "data": {
      "application/vnd.jupyter.widget-view+json": {
       "model_id": "e8a285be204e42cfb2443d55f8966130",
       "version_major": 2,
       "version_minor": 0
      },
      "text/html": [
       "<p>Failed to display Jupyter Widget of type <code>Dashboard</code>.</p>\n",
       "<p>\n",
       "  If you're reading this message in the Jupyter Notebook or JupyterLab Notebook, it may mean\n",
       "  that the widgets JavaScript is still loading. If this message persists, it\n",
       "  likely means that the widgets JavaScript library is either not installed or\n",
       "  not enabled. See the <a href=\"https://ipywidgets.readthedocs.io/en/stable/user_install.html\">Jupyter\n",
       "  Widgets Documentation</a> for setup instructions.\n",
       "</p>\n",
       "<p>\n",
       "  If you're reading this message in another frontend (for example, a static\n",
       "  rendering on GitHub or <a href=\"https://nbviewer.jupyter.org/\">NBViewer</a>),\n",
       "  it may mean that your frontend doesn't currently support widgets.\n",
       "</p>\n"
      ],
      "text/plain": [
       "Dashboard(children=(Accordion(children=(HBox(children=(VBox(children=(Select(description='Dataset:', options=('Test', 'Train'), rows=1, value='Test'), FloatSlider(value=1.0, continuous_update=False, description='Zoom', layout=Layout(width='65%'), max=1.0, style=SliderStyle(description_width='initial')), IntText(value=150, description='Horizontal space between banks:', style=DescriptionStyle(description_width='initial')), IntText(value=30, description='Vertical space between layers:', style=DescriptionStyle(description_width='initial')), HBox(children=(Checkbox(value=True, description='Show Targets', style=DescriptionStyle(description_width='initial')), Checkbox(value=False, description='Errors', style=DescriptionStyle(description_width='initial')))), Select(description='Features:', index=2, options=('', 'input', 'conv2D_1', 'maxpool1', 'conv2D_2', 'maxpool2'), rows=1, value='conv2D_1'), IntText(value=8, description='Feature columns:', style=DescriptionStyle(description_width='initial')), FloatText(value=4.0, description='Feature scale:', style=DescriptionStyle(description_width='initial'))), layout=Layout(width='100%')), VBox(children=(Select(description='Layer:', index=7, options=('input', 'conv2D_1', 'maxpool1', 'conv2D_2', 'maxpool2', 'flat', 'hidden', 'output'), rows=1, value='output'), Checkbox(value=True, description='Visible'), Select(description='Colormap:', options=('', 'Accent', 'Accent_r', 'Blues', 'Blues_r', 'BrBG', 'BrBG_r', 'BuGn', 'BuGn_r', 'BuPu', 'BuPu_r', 'CMRmap', 'CMRmap_r', 'Dark2', 'Dark2_r', 'GnBu', 'GnBu_r', 'Greens', 'Greens_r', 'Greys', 'Greys_r', 'OrRd', 'OrRd_r', 'Oranges', 'Oranges_r', 'PRGn', 'PRGn_r', 'Paired', 'Paired_r', 'Pastel1', 'Pastel1_r', 'Pastel2', 'Pastel2_r', 'PiYG', 'PiYG_r', 'PuBu', 'PuBuGn', 'PuBuGn_r', 'PuBu_r', 'PuOr', 'PuOr_r', 'PuRd', 'PuRd_r', 'Purples', 'Purples_r', 'RdBu', 'RdBu_r', 'RdGy', 'RdGy_r', 'RdPu', 'RdPu_r', 'RdYlBu', 'RdYlBu_r', 'RdYlGn', 'RdYlGn_r', 'Reds', 'Reds_r', 'Set1', 'Set1_r', 'Set2', 'Set2_r', 'Set3', 'Set3_r', 'Spectral', 'Spectral_r', 'Vega10', 'Vega10_r', 'Vega20', 'Vega20_r', 'Vega20b', 'Vega20b_r', 'Vega20c', 'Vega20c_r', 'Wistia', 'Wistia_r', 'YlGn', 'YlGnBu', 'YlGnBu_r', 'YlGn_r', 'YlOrBr', 'YlOrBr_r', 'YlOrRd', 'YlOrRd_r', 'afmhot', 'afmhot_r', 'autumn', 'autumn_r', 'binary', 'binary_r', 'bone', 'bone_r', 'brg', 'brg_r', 'bwr', 'bwr_r', 'cool', 'cool_r', 'coolwarm', 'coolwarm_r', 'copper', 'copper_r', 'cubehelix', 'cubehelix_r', 'flag', 'flag_r', 'gist_earth', 'gist_earth_r', 'gist_gray', 'gist_gray_r', 'gist_heat', 'gist_heat_r', 'gist_ncar', 'gist_ncar_r', 'gist_rainbow', 'gist_rainbow_r', 'gist_stern', 'gist_stern_r', 'gist_yarg', 'gist_yarg_r', 'gnuplot', 'gnuplot2', 'gnuplot2_r', 'gnuplot_r', 'gray', 'gray_r', 'hot', 'hot_r', 'hsv', 'hsv_r', 'inferno', 'inferno_r', 'jet', 'jet_r', 'magma', 'magma_r', 'nipy_spectral', 'nipy_spectral_r', 'ocean', 'ocean_r', 'pink', 'pink_r', 'plasma', 'plasma_r', 'prism', 'prism_r', 'rainbow', 'rainbow_r', 'seismic', 'seismic_r', 'spectral', 'spectral_r', 'spring', 'spring_r', 'summer', 'summer_r', 'tab10', 'tab10_r', 'tab20', 'tab20_r', 'tab20b', 'tab20b_r', 'tab20c', 'tab20c_r', 'terrain', 'terrain_r', 'viridis', 'viridis_r', 'winter', 'winter_r'), rows=1, value=''), HTML(value='<img src=\"data:image/gif;base64,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\"/>'), FloatText(value=-1.0, description='Leftmost color maps to:', style=DescriptionStyle(description_width='initial')), FloatText(value=1.0, description='Rightmost color maps to:', style=DescriptionStyle(description_width='initial')), IntText(value=0, description='Feature to show:', style=DescriptionStyle(description_width='initial')), HBox(children=(Checkbox(value=True, description='Rotate network', layout=Layout(width='52%'), style=DescriptionStyle(description_width='initial')), Button(icon='save', layout=Layout(width='10%'), style=ButtonStyle())))), layout=Layout(width='100%')))),), selected_index=None, _titles={'0': 'MNIST_CNN'}), VBox(children=(HBox(children=(IntSlider(value=0, continuous_update=False, description='Dataset index', layout=Layout(width='100%'), max=59999), Label(value='of 10000', layout=Layout(width='100px'))), layout=Layout(height='40px')), HBox(children=(Button(icon='fast-backward', layout=Layout(width='100%'), style=ButtonStyle()), Button(icon='backward', layout=Layout(width='100%'), style=ButtonStyle()), IntText(value=0, layout=Layout(width='100%')), Button(icon='forward', layout=Layout(width='100%'), style=ButtonStyle()), Button(icon='fast-forward', layout=Layout(width='100%'), style=ButtonStyle()), Button(description='Play', icon='play', layout=Layout(width='100%'), style=ButtonStyle()), Button(icon='refresh', layout=Layout(width='25%'), style=ButtonStyle())), layout=Layout(height='50px', width='100%'))), layout=Layout(width='100%')), HTML(value='<p style=\"text-align:center\"></p>', layout=Layout(justify_content='center', overflow_x='auto', overflow_y='auto', width='95%')), Output()))"
      ]
     },
     "metadata": {},
     "output_type": "display_data"
    },
    {
     "data": {
      "application/javascript": [
       "\n",
       "require(['base/js/namespace'], function(Jupyter) {\n",
       "    Jupyter.notebook.kernel.comm_manager.register_target('conx_svg_control', function(comm, msg) {\n",
       "        comm.on_msg(function(msg) {\n",
       "            var data = msg[\"content\"][\"data\"];\n",
       "            var images = document.getElementsByClassName(data[\"class\"]);\n",
       "            for (var i = 0; i < images.length; i++) {\n",
       "                if (data[\"href\"]) {\n",
       "                    images[i].setAttributeNS(null, \"href\", data[\"href\"]);\n",
       "                }\n",
       "                if (data[\"src\"]) {\n",
       "                    images[i].setAttributeNS(null, \"src\", data[\"src\"]);\n",
       "                }\n",
       "            }\n",
       "        });\n",
       "    });\n",
       "});\n"
      ],
      "text/plain": [
       "<IPython.core.display.Javascript object>"
      ]
     },
     "metadata": {},
     "output_type": "display_data"
    }
   ],
   "source": [
    "cnn.dashboard()"
   ]
  },
  {
   "cell_type": "markdown",
   "metadata": {},
   "source": [
    "Training our CNN will take some time, so the first time we execute the code below, the network's state will be saved. This way, the next time the code is executed, we won't have to wait for the network to retrain. Calling `cnn.delete()` will delete the saved state."
   ]
  },
  {
   "cell_type": "code",
   "execution_count": 35,
   "metadata": {},
   "outputs": [
    {
     "data": {
      "image/png": "[encoded data removed]",
      "text/plain": [
       "<matplotlib.figure.Figure at 0x11d3a7978>"
      ]
     },
     "metadata": {},
     "output_type": "display_data"
    },
    {
     "name": "stdout",
     "output_type": "stream",
     "text": [
      "       |  Training |  Training |  Validate |  Validate \n",
      "Epochs |     Error |  Accuracy |     Error |  Accuracy \n",
      "------ | --------- | --------- | --------- | --------- \n",
      "#    0 |   2.31498 |   0.08858 |   2.31602 |   0.09680 \n",
      "#    1 |   0.30398 |   0.90873 |   0.11336 |   0.96970 \n",
      "#    2 |   0.08558 |   0.97377 |   0.08525 |   0.97560 \n",
      "#    3 |   0.05925 |   0.98148 |   0.04633 |   0.98720 \n",
      "#    4 |   0.04513 |   0.98627 |   0.04313 |   0.98920 \n",
      "#    5 |   0.03857 |   0.98787 |   0.03517 |   0.98890 \n",
      "========================================================\n",
      "#    5 |   0.03857 |   0.98787 |   0.03517 |   0.98890 \n"
     ]
    }
   ],
   "source": [
    "if not cnn.saved():\n",
    "    cnn.train(epochs=5, batch_size=128)\n",
    "    cnn.save()\n",
    "else:\n",
    "    cnn.load()\n",
    "    cnn.plot_results()\n",
    "    cnn.show_results()"
   ]
  },
  {
   "cell_type": "code",
   "execution_count": null,
   "metadata": {},
   "outputs": [],
   "source": []
  }
 ],
 "metadata": {
  "kernelspec": {
   "display_name": "Python 3",
   "language": "python",
   "name": "python3"
  },
  "language_info": {
   "codemirror_mode": {
    "name": "ipython",
    "version": 3
   },
   "file_extension": ".py",
   "mimetype": "text/x-python",
   "name": "python",
   "nbconvert_exporter": "python",
   "pygments_lexer": "ipython3",
   "version": "3.5.3"
  },
  "widgets": {
   "application/vnd.jupyter.widget-state+json": {
    "state": {
     "0071a1247f7246b0a6250fea0700500d": {
      "model_module": "@jupyter-widgets/base",
      "model_module_version": "1.0.0",
      "model_name": "LayoutModel",
      "state": {}
     },
     "00aa2bedbfdf44bfb5b85caa7a4feb7f": {
      "model_module": "@jupyter-widgets/controls",
      "model_module_version": "1.1.0",
      "model_name": "DescriptionStyleModel",
      "state": {
       "description_width": ""
      }
     },
     "02157636ea2e4fb4a7278e7604da9aac": {
      "model_module": "@jupyter-widgets/controls",
      "model_module_version": "1.1.0",
      "model_name": "FloatSliderModel",
      "state": {
       "continuous_update": false,
       "description": "Zoom",
       "layout": "IPY_MODEL_31874221aa3149c5bb585d4a99858820",
       "max": 1,
       "step": 0.1,
       "style": "IPY_MODEL_116f867241f04b19803d6b0dd74a921a",
       "value": 1
      }
     },
     "03ded56a442b42bebfecea312d40148b": {
      "model_module": "@jupyter-widgets/base",
      "model_module_version": "1.0.0",
      "model_name": "LayoutModel",
      "state": {
       "width": "100%"
      }
     },
     "0507fd800b0143e7b23e962ae73c590e": {
      "model_module": "@jupyter-widgets/base",
      "model_module_version": "1.0.0",
      "model_name": "LayoutModel",
      "state": {}
     },
     "070244b6468a49f3996cd9fa30693a44": {
      "model_module": "@jupyter-widgets/controls",
      "model_module_version": "1.1.0",
      "model_name": "SelectModel",
      "state": {
       "_options_labels": [
        "Test",
        "Train"
       ],
       "description": "Dataset:",
       "index": 0,
       "layout": "IPY_MODEL_b77b826cd6b74f02997f62414f80765d",
       "rows": 1,
       "style": "IPY_MODEL_17dc332d92e94ae1864d0a8970b552ac"
      }
     },
     "082acef269b1405cbe782660c4c81906": {
      "model_module": "@jupyter-widgets/controls",
      "model_module_version": "1.1.0",
      "model_name": "DescriptionStyleModel",
      "state": {
       "description_width": ""
      }
     },
     "08ae9b878f9c410b8f96ad0a6f93fa2b": {
      "model_module": "@jupyter-widgets/controls",
      "model_module_version": "1.1.0",
      "model_name": "DescriptionStyleModel",
      "state": {
       "description_width": ""
      }
     },
     "090cbd2c7b1f4d3c8f339ed726e7ece3": {
      "model_module": "@jupyter-widgets/base",
      "model_module_version": "1.0.0",
      "model_name": "LayoutModel",
      "state": {}
     },
     "092517fbd6594b92b64b1217063d13ff": {
      "model_module": "@jupyter-widgets/controls",
      "model_module_version": "1.1.0",
      "model_name": "DescriptionStyleModel",
      "state": {
       "description_width": ""
      }
     },
     "0abf6a63edc14c5d97cdafb4bf617c94": {
      "model_module": "@jupyter-widgets/base",
      "model_module_version": "1.0.0",
      "model_name": "LayoutModel",
      "state": {}
     },
     "0b3df129d4e44332aae04f6b88f43c2e": {
      "model_module": "@jupyter-widgets/controls",
      "model_module_version": "1.1.0",
      "model_name": "DescriptionStyleModel",
      "state": {
       "description_width": "initial"
      }
     },
     "0bfcde17b53c42be8802ff949ee557b2": {
      "model_module": "@jupyter-widgets/base",
      "model_module_version": "1.0.0",
      "model_name": "LayoutModel",
      "state": {
       "width": "100%"
      }
     },
     "0daf6aed297c4383a59a3233383e9c8c": {
      "model_module": "@jupyter-widgets/controls",
      "model_module_version": "1.1.0",
      "model_name": "DescriptionStyleModel",
      "state": {
       "description_width": "initial"
      }
     },
     "0f900e01832145b387920a1d3b8ada70": {
      "model_module": "@jupyter-widgets/controls",
      "model_module_version": "1.1.0",
      "model_name": "CheckboxModel",
      "state": {
       "description": "Visible",
       "disabled": false,
       "layout": "IPY_MODEL_890d43ddcb22417ab2745f8c33ab6a45",
       "style": "IPY_MODEL_31d2dbc49f504ed6844ca45b8d1417cb",
       "value": true
      }
     },
     "1163edc2bb264ee1bc11949eba896b0b": {
      "model_module": "@jupyter-widgets/controls",
      "model_module_version": "1.1.0",
      "model_name": "CheckboxModel",
      "state": {
       "description": "Errors",
       "disabled": false,
       "layout": "IPY_MODEL_341856041f3b496c96ae531dc585006f",
       "style": "IPY_MODEL_705ce1c28dc34916ac9de2657cb6ce57",
       "value": false
      }
     },
     "116f867241f04b19803d6b0dd74a921a": {
      "model_module": "@jupyter-widgets/controls",
      "model_module_version": "1.1.0",
      "model_name": "SliderStyleModel",
      "state": {
       "description_width": "initial"
      }
     },
     "12a401c4a97140d982eebf9ef95717b6": {
      "model_module": "@jupyter-widgets/controls",
      "model_module_version": "1.1.0",
      "model_name": "VBoxModel",
      "state": {
       "children": [
        "IPY_MODEL_070244b6468a49f3996cd9fa30693a44",
        "IPY_MODEL_02157636ea2e4fb4a7278e7604da9aac",
        "IPY_MODEL_e9b5f6e4cc7345c782b8e0844e0bef1d",
        "IPY_MODEL_6273d5243e7643a082d01e5f863e716e",
        "IPY_MODEL_2e1cb2515f5342cf9fe6c6aec40f4a18",
        "IPY_MODEL_1fa2aca6744d420bb221872d698a2956",
        "IPY_MODEL_b5fed70eeaad4f628d5fb34febd42238",
        "IPY_MODEL_689f6f181dc9497cae7adefae1594624"
       ],
       "layout": "IPY_MODEL_23c541a1677343c68686c270ca7f59f4"
      }
     },
     "1384faf8dff442b7ba661c50e3b008bf": {
      "model_module": "@jupyter-widgets/controls",
      "model_module_version": "1.1.0",
      "model_name": "ButtonModel",
      "state": {
       "icon": "refresh",
       "layout": "IPY_MODEL_2be812f4e50b40a8853e71bdb8e9c93f",
       "style": "IPY_MODEL_1a89809982b44e62b16aa45a99d18941"
      }
     },
     "17dc332d92e94ae1864d0a8970b552ac": {
      "model_module": "@jupyter-widgets/controls",
      "model_module_version": "1.1.0",
      "model_name": "DescriptionStyleModel",
      "state": {
       "description_width": ""
      }
     },
     "1a89809982b44e62b16aa45a99d18941": {
      "model_module": "@jupyter-widgets/controls",
      "model_module_version": "1.1.0",
      "model_name": "ButtonStyleModel",
      "state": {}
     },
     "1bd1824cf8294deb8940c8822787e092": {
      "model_module": "@jupyter-widgets/controls",
      "model_module_version": "1.1.0",
      "model_name": "IntTextModel",
      "state": {
       "description": "Vertical space between layers:",
       "layout": "IPY_MODEL_890d43ddcb22417ab2745f8c33ab6a45",
       "step": 1,
       "style": "IPY_MODEL_55541274dcb74611bafdb5777ea0c9b7",
       "value": 30
      }
     },
     "1cede33f710b4587bb22aed258bc41d3": {
      "model_module": "@jupyter-widgets/base",
      "model_module_version": "1.0.0",
      "model_name": "LayoutModel",
      "state": {
       "width": "100%"
      }
     },
     "1de8cd662fe4440e9ea45e369fb27faa": {
      "model_module": "@jupyter-widgets/base",
      "model_module_version": "1.0.0",
      "model_name": "LayoutModel",
      "state": {}
     },
     "1fa2aca6744d420bb221872d698a2956": {
      "model_module": "@jupyter-widgets/controls",
      "model_module_version": "1.1.0",
      "model_name": "SelectModel",
      "state": {
       "_options_labels": [
        "",
        "input",
        "conv2D_1",
        "maxpool1",
        "conv2D_2",
        "maxpool2"
       ],
       "description": "Features:",
       "index": 2,
       "layout": "IPY_MODEL_339f659f74954b39bcdbd42a24c8ebc2",
       "rows": 1,
       "style": "IPY_MODEL_3bc3a374edcd4a379252d58ce2e87dfa"
      }
     },
     "23c541a1677343c68686c270ca7f59f4": {
      "model_module": "@jupyter-widgets/base",
      "model_module_version": "1.0.0",
      "model_name": "LayoutModel",
      "state": {
       "width": "100%"
      }
     },
     "241990c1593f47b7ae62b7ed0b0b12a5": {
      "model_module": "@jupyter-widgets/base",
      "model_module_version": "1.0.0",
      "model_name": "LayoutModel",
      "state": {
       "width": "100%"
      }
     },
     "24908f52850e49e6a1905c424f1f2a77": {
      "model_module": "@jupyter-widgets/controls",
      "model_module_version": "1.1.0",
      "model_name": "DescriptionStyleModel",
      "state": {
       "description_width": "initial"
      }
     },
     "2550c698a94341ccbb3e2bbca626853e": {
      "model_module": "@jupyter-widgets/base",
      "model_module_version": "1.0.0",
      "model_name": "LayoutModel",
      "state": {
       "width": "100%"
      }
     },
     "2725ed4b699e46afb75d075103ed9493": {
      "model_module": "@jupyter-widgets/controls",
      "model_module_version": "1.1.0",
      "model_name": "IntTextModel",
      "state": {
       "layout": "IPY_MODEL_77918290da774ca1a50ef05792837733",
       "step": 1,
       "style": "IPY_MODEL_9f7d389fd4e741c78d41c0f38c936728"
      }
     },
     "296bc3d99031422eb8249bc58c9ea41e": {
      "model_module": "@jupyter-widgets/controls",
      "model_module_version": "1.1.0",
      "model_name": "CheckboxModel",
      "state": {
       "description": "Visible",
       "disabled": false,
       "layout": "IPY_MODEL_341856041f3b496c96ae531dc585006f",
       "style": "IPY_MODEL_cdb73af7323048da88fca049a846f1ec",
       "value": true
      }
     },
     "2a26f71e30b74c9eb6c928377b423ef1": {
      "model_module": "@jupyter-widgets/base",
      "model_module_version": "1.0.0",
      "model_name": "LayoutModel",
      "state": {
       "width": "100px"
      }
     },
     "2abfeeea0e06438ba50dbab63d782a7c": {
      "model_module": "@jupyter-widgets/controls",
      "model_module_version": "1.1.0",
      "model_name": "ButtonStyleModel",
      "state": {}
     },
     "2be812f4e50b40a8853e71bdb8e9c93f": {
      "model_module": "@jupyter-widgets/base",
      "model_module_version": "1.0.0",
      "model_name": "LayoutModel",
      "state": {
       "width": "25%"
      }
     },
     "2bff40e6bffb4b0a9dd8f06f8ddb2471": {
      "model_module": "@jupyter-widgets/controls",
      "model_module_version": "1.1.0",
      "model_name": "ButtonStyleModel",
      "state": {}
     },
     "2c7a84b9c2fd41d2b3c5fc87192e21da": {
      "model_module": "@jupyter-widgets/base",
      "model_module_version": "1.0.0",
      "model_name": "LayoutModel",
      "state": {
       "justify_content": "center",
       "overflow_x": "auto",
       "overflow_y": "auto",
       "width": "95%"
      }
     },
     "2da6fbc36b2c4783a66ded2211144466": {
      "model_module": "@jupyter-widgets/controls",
      "model_module_version": "1.1.0",
      "model_name": "HTMLModel",
      "state": {
       "layout": "IPY_MODEL_917c7bcf534d4a938fb8790c7135face",
       "style": "IPY_MODEL_082acef269b1405cbe782660c4c81906",
       "value": "<img src=\"data:image/gif;base64,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\"/>"
      }
     },
     "2e1cb2515f5342cf9fe6c6aec40f4a18": {
      "model_module": "@jupyter-widgets/controls",
      "model_module_version": "1.1.0",
      "model_name": "HBoxModel",
      "state": {
       "children": [
        "IPY_MODEL_f93e086b47d446e4afce976f67ab2eb1",
        "IPY_MODEL_1163edc2bb264ee1bc11949eba896b0b"
       ],
       "layout": "IPY_MODEL_893f20900b1148cda21465d7f928ec98"
      }
     },
     "2fa4642435c541e7bafe312c54a28bc1": {
      "model_module": "@jupyter-widgets/controls",
      "model_module_version": "1.1.0",
      "model_name": "DescriptionStyleModel",
      "state": {
       "description_width": "initial"
      }
     },
     "314d98c54cef44b5bac2aa970a54a014": {
      "model_module": "@jupyter-widgets/controls",
      "model_module_version": "1.1.0",
      "model_name": "DescriptionStyleModel",
      "state": {
       "description_width": "initial"
      }
     },
     "31874221aa3149c5bb585d4a99858820": {
      "model_module": "@jupyter-widgets/base",
      "model_module_version": "1.0.0",
      "model_name": "LayoutModel",
      "state": {
       "width": "65%"
      }
     },
     "31d2dbc49f504ed6844ca45b8d1417cb": {
      "model_module": "@jupyter-widgets/controls",
      "model_module_version": "1.1.0",
      "model_name": "DescriptionStyleModel",
      "state": {
       "description_width": ""
      }
     },
     "32aeefb922194094a2d4391cd71099af": {
      "model_module": "@jupyter-widgets/controls",
      "model_module_version": "1.1.0",
      "model_name": "DescriptionStyleModel",
      "state": {
       "description_width": ""
      }
     },
     "3335170290734ba8b2b10693d3c85bd5": {
      "model_module": "@jupyter-widgets/controls",
      "model_module_version": "1.1.0",
      "model_name": "HTMLModel",
      "state": {
       "layout": "IPY_MODEL_2c7a84b9c2fd41d2b3c5fc87192e21da",
       "style": "IPY_MODEL_eb4f5fe52ccb4f389bdb18ee4b6acb8c",
       "value": "<p style=\"text-align:center\"><svg id='MNIST_MLP' xmlns='http://www.w3.org/2000/svg' image-rendering=\"pixelated\" width=\"480.0px\" height=\"266.66666666666663px\">\n <g  transform=\"rotate(90) translate(0 -480.0)\" >\n  <svg viewBox=\"0 0 350 630\" width=\"266.66666666666663px\" height=\"480.0px\">\n    <defs>\n        <marker id=\"arrow\" markerWidth=\"10\" markerHeight=\"10\" refX=\"9\" refY=\"3\" orient=\"auto\" markerUnits=\"strokeWidth\">\n          <path d=\"M0,0 L0,6 L9,3 z\" fill=\"black\" />\n        </marker>\n    </defs><rect x=\"74.0\" y=\"24\" width=\"202\" height=\"52\" style=\"fill:none;stroke:black;stroke-width:2\"/><image id=\"picture-dashboard-MNIST_MLP-896153_output_targets_1\" class=\"picture-dashboard-MNIST_MLP-896153_output_targets\" x=\"75.0\" y=\"25\" height=\"50\" width=\"200\" preserveAspectRatio=\"none\" href=\"data:image/gif;base64,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\"><title>Layer: output (output)\n output range: (-1.0, 1.0)\n shape = (10,)\n Keras class = Dense\n activation = softmax</title></image><text x=\"288.0\" y=\"52.0\" font-family=\"monospace\" font-size=\"12\" text-anchor=\"middle\" fill=\"black\" alignment-baseline=\"central\"  transform=\"rotate(-90 288.0 52.0) translate(2)\" >targets</text><rect x=\"74.0\" y=\"84\" width=\"202\" height=\"52\" style=\"fill:none;stroke:black;stroke-width:2\"/><image id=\"picture-dashboard-MNIST_MLP-896153_output-rotated_1\" class=\"picture-dashboard-MNIST_MLP-896153_output-rotated\" x=\"75.0\" y=\"85\" height=\"50\" width=\"200\" preserveAspectRatio=\"none\" href=\"data:image/gif;base64,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\"><title>Layer: output (output)\n output range: (-1.0, 1.0)\n shape = (10,)\n Keras class = Dense\n activation = softmax</title></image><text x=\"288.0\" y=\"112.0\" font-family=\"monospace\" font-size=\"12\" text-anchor=\"middle\" fill=\"black\" alignment-baseline=\"central\"  transform=\"rotate(-90 288.0 112.0) translate(2)\" >output</text><line x1=\"175.0\" y1=\"164\" x2=\"175.0\" y2=\"137\" stroke=\"black\" stroke-width=\"2\" marker-end=\"url(#arrow)\"><title>Weights from hidden2 to output\n output/kernel has shape (30, 10)\n output/bias has shape (10,)</title></line><rect x=\"74.0\" y=\"164\" width=\"202\" height=\"52\" style=\"fill:none;stroke:black;stroke-width:2\"/><image id=\"picture-dashboard-MNIST_MLP-896153_hidden2-rotated_2\" class=\"picture-dashboard-MNIST_MLP-896153_hidden2-rotated\" x=\"75.0\" y=\"165\" height=\"50\" width=\"200\" preserveAspectRatio=\"none\" href=\"data:image/gif;base64,R0lGODdhHgABAIcAAP78/YeH/1pa/5mZ/wAATHFx/2Vl/+3t/zg4/93d/ygo/6Gh/01N/wAAAAAAAAAAAAAAAAAAAAAAAAAAAAAAAAAAAAAAAAAAAAAAAAAAAAAAAAAAAAAAAAAAAAAAAAAAAAAAAAAAAAAAAAAAAAAAAAAAAAAAAAAAAAAAAAAAAAAAAAAAAAAAAAAAAAAAAAAAAAAAAAAAAAAAAAAAAAAAAAAAAAAAAAAAAAAAAAAAAAAAAAAAAAAAAAAAAAAAAAAAAAAAAAAAAAAAAAAAAAAAAAAAAAAAAAAAAAAAAAAAAAAAAAAAAAAAAAAAAAAAAAAAAAAAAAAAAAAAAAAAAAAAAAAAAAAAAAAAAAAAAAAAAAAAAAAAAAAAAAAAAAAAAAAAAAAAAAAAAAAAAAAAAAAAAAAAAAAAAAAAAAAAAAAAAAAAAAAAAAAAAAAAAAAAAAAAAAAAAAAAAAAAAAAAAAAAAAAAAAAAAAAAAAAAAAAAAAAAAAAAAAAAAAAAAAAAAAAAAAAAAAAAAAAAAAAAAAAAAAAAAAAAAAAAAAAAAAAAAAAAAAAAAAAAAAAAAAAAAAAAAAAAAAAAAAAAAAAAAAAAAAAAAAAAAAAAAAAAAAAAAAAAAAAAAAAAAAAAAAAAAAAAAAAAAAAAAAAAAAAAAAAAAAAAAAAAAAAAAAAAAAAAAAAAAAAAAAAAAAAAAAAAAAAAAAAAAAAAAAAAAAAAAAAAAAAAAAAAAAAAAAAAAAAAAAAAAAAAAAAAAAAAAAAAAAAAAAAAAAAAAAAAAAAAAAAAAAAAAAAAAAAAAAAAAAAAAAAAAAAAAAAAAAAAAAAAAAAAAAAAAAAAAAAAAAAAAAAAAAAAAAAAAAAAAAAAAAAAAAAAAAAAAAAAAAAAAAAAAAAAAAAAAAAAAAAAAAAAAAAAAAAAAAAAAAAAAAAAAAAAAAAAAAAAAAAAAAAAAAAAAAAAAAAAAAAAAAAAAAAAAAAAAAAAAAAAAAAAAAAAAAAAAAAAAAAAAAAAAAAAAAAAAAAAACwAAAAAHgABAAAIIwADDAAgYAAAAAkWADgAAIEAAAUAGADAIACAiwEAKCAAQEBAADs=\"><title>Layer: hidden2 (hidden)\n output range: (-1.0, 1.0)\n shape = (30,)\n dropout = 0.2\n Keras class = Dense\n activation = relu</title></image><text x=\"288.0\" y=\"192.0\" font-family=\"monospace\" font-size=\"12\" text-anchor=\"middle\" fill=\"black\" alignment-baseline=\"central\"  transform=\"rotate(-90 288.0 192.0) translate(2)\" >hidden2</text><text x=\"62.0\" y=\"170\" font-family=\"monospace\" font-size=\"24.0\" text-anchor=\"middle\" fill=\"black\" alignment-baseline=\"central\"  transform=\"rotate(-90 62.0 170) translate(2)\" >&#10683;</text><line x1=\"175.0\" y1=\"244\" x2=\"175.0\" y2=\"217\" stroke=\"black\" stroke-width=\"2\" marker-end=\"url(#arrow)\"><title>Weights from hidden1 to hidden2\n hidden2/kernel has shape (30, 30)\n hidden2/bias has shape (30,)</title></line><rect x=\"74.0\" y=\"244\" width=\"202\" height=\"52\" style=\"fill:none;stroke:black;stroke-width:2\"/><image id=\"picture-dashboard-MNIST_MLP-896153_hidden1-rotated_3\" class=\"picture-dashboard-MNIST_MLP-896153_hidden1-rotated\" x=\"75.0\" y=\"245\" height=\"50\" width=\"200\" preserveAspectRatio=\"none\" href=\"data:image/gif;base64,R0lGODdhHgABAIcAAP78/bu7/ygo/wAAdgAATAUF/zg4/+Hh/6Sk/4SE/319/wAAkgAA0AAAAAAAAAAAAAAAAAAAAAAAAAAAAAAAAAAAAAAAAAAAAAAAAAAAAAAAAAAAAAAAAAAAAAAAAAAAAAAAAAAAAAAAAAAAAAAAAAAAAAAAAAAAAAAAAAAAAAAAAAAAAAAAAAAAAAAAAAAAAAAAAAAAAAAAAAAAAAAAAAAAAAAAAAAAAAAAAAAAAAAAAAAAAAAAAAAAAAAAAAAAAAAAAAAAAAAAAAAAAAAAAAAAAAAAAAAAAAAAAAAAAAAAAAAAAAAAAAAAAAAAAAAAAAAAAAAAAAAAAAAAAAAAAAAAAAAAAAAAAAAAAAAAAAAAAAAAAAAAAAAAAAAAAAAAAAAAAAAAAAAAAAAAAAAAAAAAAAAAAAAAAAAAAAAAAAAAAAAAAAAAAAAAAAAAAAAAAAAAAAAAAAAAAAAAAAAAAAAAAAAAAAAAAAAAAAAAAAAAAAAAAAAAAAAAAAAAAAAAAAAAAAAAAAAAAAAAAAAAAAAAAAAAAAAAAAAAAAAAAAAAAAAAAAAAAAAAAAAAAAAAAAAAAAAAAAAAAAAAAAAAAAAAAAAAAAAAAAAAAAAAAAAAAAAAAAAAAAAAAAAAAAAAAAAAAAAAAAAAAAAAAAAAAAAAAAAAAAAAAAAAAAAAAAAAAAAAAAAAAAAAAAAAAAAAAAAAAAAAAAAAAAAAAAAAAAAAAAAAAAAAAAAAAAAAAAAAAAAAAAAAAAAAAAAAAAAAAAAAAAAAAAAAAAAAAAAAAAAAAAAAAAAAAAAAAAAAAAAAAAAAAAAAAAAAAAAAAAAAAAAAAAAAAAAAAAAAAAAAAAAAAAAAAAAAAAAAAAAAAAAAAAAAAAAAAAAAAAAAAAAAAAAAAAAAAAAAAAAAAAAAAAAAAAAAAAAAAAAAAAAAAAAAAAAAAAAAAAAAAAAAAAAAAAAAAAAAAAAAAAAAAAAAAAAAAAAAAAAAAAAAAAAAAAAAAAAAAAAAAAAAAAAAAAAAACwAAAAAHgABAAAIIAABCAQQQAEAAAgGAGAAoCEBAAIOAJgYIIGBAgAyLggIADs=\"><title>Layer: hidden1 (hidden)\n output range: (-1.0, 1.0)\n shape = (30,)\n dropout = 0.2\n Keras class = Dense\n activation = relu</title></image><text x=\"288.0\" y=\"272.0\" font-family=\"monospace\" font-size=\"12\" text-anchor=\"middle\" fill=\"black\" alignment-baseline=\"central\"  transform=\"rotate(-90 288.0 272.0) translate(2)\" >hidden1</text><text x=\"62.0\" y=\"250\" font-family=\"monospace\" font-size=\"24.0\" text-anchor=\"middle\" fill=\"black\" alignment-baseline=\"central\"  transform=\"rotate(-90 62.0 250) translate(2)\" >&#10683;</text><line x1=\"175.0\" y1=\"324\" x2=\"175.0\" y2=\"297\" stroke=\"black\" stroke-width=\"2\" marker-end=\"url(#arrow)\"><title>Weights from flat_input to hidden1\n hidden1/kernel has shape (784, 30)\n hidden1/bias has shape (30,)</title></line><rect x=\"74.0\" y=\"324\" width=\"202\" height=\"52\" style=\"fill:none;stroke:black;stroke-width:2\"/><image id=\"picture-dashboard-MNIST_MLP-896153_flat_input-rotated_4\" class=\"picture-dashboard-MNIST_MLP-896153_flat_input-rotated\" x=\"75.0\" y=\"325\" height=\"50\" width=\"200\" preserveAspectRatio=\"none\" href=\"data:image/gif;base64,R0lGODdhEAMBAIcAAAAAAPv7+xUVFVVVVampqbm5uSgoKMfHx4aGhpiYmEREROTk5NjY2Hl5eTU1NWtrawAAAAAAAAAAAAAAAAAAAAAAAAAAAAAAAAAAAAAAAAAAAAAAAAAAAAAAAAAAAAAAAAAAAAAAAAAAAAAAAAAAAAAAAAAAAAAAAAAAAAAAAAAAAAAAAAAAAAAAAAAAAAAAAAAAAAAAAAAAAAAAAAAAAAAAAAAAAAAAAAAAAAAAAAAAAAAAAAAAAAAAAAAAAAAAAAAAAAAAAAAAAAAAAAAAAAAAAAAAAAAAAAAAAAAAAAAAAAAAAAAAAAAAAAAAAAAAAAAAAAAAAAAAAAAAAAAAAAAAAAAAAAAAAAAAAAAAAAAAAAAAAAAAAAAAAAAAAAAAAAAAAAAAAAAAAAAAAAAAAAAAAAAAAAAAAAAAAAAAAAAAAAAAAAAAAAAAAAAAAAAAAAAAAAAAAAAAAAAAAAAAAAAAAAAAAAAAAAAAAAAAAAAAAAAAAAAAAAAAAAAAAAAAAAAAAAAAAAAAAAAAAAAAAAAAAAAAAAAAAAAAAAAAAAAAAAAAAAAAAAAAAAAAAAAAAAAAAAAAAAAAAAAAAAAAAAAAAAAAAAAAAAAAAAAAAAAAAAAAAAAAAAAAAAAAAAAAAAAAAAAAAAAAAAAAAAAAAAAAAAAAAAAAAAAAAAAAAAAAAAAAAAAAAAAAAAAAAAAAAAAAAAAAAAAAAAAAAAAAAAAAAAAAAAAAAAAAAAAAAAAAAAAAAAAAAAAAAAAAAAAAAAAAAAAAAAAAAAAAAAAAAAAAAAAAAAAAAAAAAAAAAAAAAAAAAAAAAAAAAAAAAAAAAAAAAAAAAAAAAAAAAAAAAAAAAAAAAAAAAAAAAAAAAAAAAAAAAAAAAAAAAAAAAAAAAAAAAAAAAAAAAAAAAAAAAAAAAAAAAAAAAAAAAAAAAAAAAAAAAAAAAAAAAAAAAAAAAAAAAAAAAAAAAAAAAAAAAAAAAAAAAAAAAAAAAAAAAAAAAAAAAAAAAAAAAAAAAAAAACwAAAAAEAMBAAAI/wABCBxIsKDBgwgTKlzIsKHDhxAjCpjYAAEBAQQCBGgAoKPHjx0FGBiQgECAkycXEAgQ4IACADBjygTgYEGAmzhxDtjpwACAn0CD/hTAIIBRowcKBAgAoKnTp1CdDkjwIECAAwAAGEgAoKvXr2DDJggwAIDZs2jTqkWLIEABAHDjyp1Ld26BAAoA6N3Lt69fvgYCLCDwAIDhw4gTKz48IIDjBgIASJ5MubJlyQYKBAiQQACAz6BDix79WcCAAAEKAFjNurXr160DyFYAoLbt27hzG0BQIECAAwCCCx9OnLiBBAsCKA9QAIDz59CjPxfQgEGA6wEOKADAvbv379wFKEdgEKB8gAMDAKhfz769egEEGASYH+DAAAD48+vfj98BAYALAgwciADAQYQJFSZEEMAhAwQIBACgWNHiRYwZNW7k2NHjx40BAQA7\"><title>Layer: flat_input (hidden)\n output range: (0.0, 1.0)\n Keras class = Flatten</title></image><text x=\"288.0\" y=\"352.0\" font-family=\"monospace\" font-size=\"12\" text-anchor=\"middle\" fill=\"black\" alignment-baseline=\"central\"  transform=\"rotate(-90 288.0 352.0) translate(2)\" >flat_input</text><line x1=\"175.0\" y1=\"404\" x2=\"175.0\" y2=\"377\" stroke=\"black\" stroke-width=\"2\" marker-end=\"url(#arrow)\"><title>Weights from input to flat_input</title></line><rect x=\"74.0\" y=\"404\" width=\"202\" height=\"202\" style=\"fill:none;stroke:black;stroke-width:2\"/><image id=\"picture-dashboard-MNIST_MLP-896153_input-rotated_5\" class=\"picture-dashboard-MNIST_MLP-896153_input-rotated\" x=\"75.0\" y=\"405\" height=\"200\" width=\"200\" preserveAspectRatio=\"none\" href=\"data:image/gif;base64,R0lGODdhHAAcAIcAAAAAAPv7+xUVFVVVVampqbm5uSgoKMfHx4aGhpiYmEREROTk5NjY2Hl5eTU1NWtrawAAAAAAAAAAAAAAAAAAAAAAAAAAAAAAAAAAAAAAAAAAAAAAAAAAAAAAAAAAAAAAAAAAAAAAAAAAAAAAAAAAAAAAAAAAAAAAAAAAAAAAAAAAAAAAAAAAAAAAAAAAAAAAAAAAAAAAAAAAAAAAAAAAAAAAAAAAAAAAAAAAAAAAAAAAAAAAAAAAAAAAAAAAAAAAAAAAAAAAAAAAAAAAAAAAAAAAAAAAAAAAAAAAAAAAAAAAAAAAAAAAAAAAAAAAAAAAAAAAAAAAAAAAAAAAAAAAAAAAAAAAAAAAAAAAAAAAAAAAAAAAAAAAAAAAAAAAAAAAAAAAAAAAAAAAAAAAAAAAAAAAAAAAAAAAAAAAAAAAAAAAAAAAAAAAAAAAAAAAAAAAAAAAAAAAAAAAAAAAAAAAAAAAAAAAAAAAAAAAAAAAAAAAAAAAAAAAAAAAAAAAAAAAAAAAAAAAAAAAAAAAAAAAAAAAAAAAAAAAAAAAAAAAAAAAAAAAAAAAAAAAAAAAAAAAAAAAAAAAAAAAAAAAAAAAAAAAAAAAAAAAAAAAAAAAAAAAAAAAAAAAAAAAAAAAAAAAAAAAAAAAAAAAAAAAAAAAAAAAAAAAAAAAAAAAAAAAAAAAAAAAAAAAAAAAAAAAAAAAAAAAAAAAAAAAAAAAAAAAAAAAAAAAAAAAAAAAAAAAAAAAAAAAAAAAAAAAAAAAAAAAAAAAAAAAAAAAAAAAAAAAAAAAAAAAAAAAAAAAAAAAAAAAAAAAAAAAAAAAAAAAAAAAAAAAAAAAAAAAAAAAAAAAAAAAAAAAAAAAAAAAAAAAAAAAAAAAAAAAAAAAAAAAAAAAAAAAAAAAAAAAAAAAAAAAAAAAAAAAAAAAAAAAAAAAAAAAAAAAAAAAAAAAAAAAAAAAAAAAAAAAAAAAAAAAAAAAAAAAAAAAAAAAAAAAAAAAAAAAAAAAAAAAAAAAAAAAAAAAACwAAAAAHAAcAEAI/wABCBxIsKDBgwUFEBgAoKFDAAIKBDhQAIDFixgxJgjAMQECACBDgmwQoKQAAChTqlzJsqXLBgoAyJxJs6bNmgICBCgAoCcAAgEKCACAIECAAwCSKl2q1IEAAFCjSo1KIEAAAFizat3KtavXAAEcABhLtqzZs2URBFibAIBbAA0CyJV7AIDdu3jtCgjA98CAAgECDABAGECCAAEOAFjMuDEAAwECJABAubJlAAoCBEAAoLPnz6BDgyYQAIDp06hTq17NurXr17BjAwhwwACA27hz696dm0CAAQCCCxeuAIDx48iTE1gwAIDz5wISBJgeQAGA69izX28QoLsBAOAfBIEIMABAgQABBgBYz749AAEBAhwAQF/BggAGAAAwsCBAAIADAAwkWBAAgQAJExYwAMChQwMMAgRAAMDiRYwDAgR4AMDjR5ACGAQIgADASZQoBSxgMADAS5gxAQhgEIABAJw5de7kqVPAggAAhA4lWtRoUQcIACxl2tTpU6hRpU5tGhAAOw==\"><title>Layer: input (input)\n output range: (0.0, 1.0)\n shape = (28, 28, 1)\n Keras class = Input</title></image><text x=\"288.0\" y=\"507.0\" font-family=\"monospace\" font-size=\"12\" text-anchor=\"middle\" fill=\"black\" alignment-baseline=\"central\"  transform=\"rotate(-90 288.0 507.0) translate(2)\" >input</text><text x=\"88.0\" y=\"390\" font-family=\"monospace\" font-size=\"12\" text-anchor=\"middle\" fill=\"black\" alignment-baseline=\"central\"  transform=\"rotate(-90 88.0 390) translate(2)\" >1</text><text x=\"273.0\" y=\"620\" font-family=\"monospace\" font-size=\"12\" text-anchor=\"middle\" fill=\"black\" alignment-baseline=\"central\"  transform=\"rotate(-90 273.0 620) translate(2)\" >0</text><text x=\"18\" y=\"315.0\" font-family=\"monospace\" font-size=\"15\" text-anchor=\"middle\" fill=\"black\" alignment-baseline=\"central\"  transform=\"rotate(-90 18 315.0) translate(2)\" >MNIST_MLP</text></svg></g></svg></p>"
      }
     },
     "336fc9097bf140a8919d569417a965eb": {
      "model_module": "@jupyter-widgets/base",
      "model_module_version": "1.0.0",
      "model_name": "LayoutModel",
      "state": {
       "width": "100%"
      }
     },
     "339f659f74954b39bcdbd42a24c8ebc2": {
      "model_module": "@jupyter-widgets/base",
      "model_module_version": "1.0.0",
      "model_name": "LayoutModel",
      "state": {}
     },
     "341856041f3b496c96ae531dc585006f": {
      "model_module": "@jupyter-widgets/base",
      "model_module_version": "1.0.0",
      "model_name": "LayoutModel",
      "state": {}
     },
     "34b6b31dbf6e4d3b8d75c35b503be553": {
      "model_module": "@jupyter-widgets/controls",
      "model_module_version": "1.1.0",
      "model_name": "SelectModel",
      "state": {
       "_options_labels": [
        "input",
        "conv2D_1",
        "maxpool1",
        "conv2D_2",
        "maxpool2",
        "flat",
        "hidden",
        "output"
       ],
       "description": "Layer:",
       "index": 7,
       "layout": "IPY_MODEL_774c3e14bb2a4ccdb1847e432c8f86a8",
       "rows": 1,
       "style": "IPY_MODEL_00aa2bedbfdf44bfb5b85caa7a4feb7f"
      }
     },
     "350c90414d6e426e9ef51eeec6e06e9c": {
      "model_module": "@jupyter-widgets/controls",
      "model_module_version": "1.1.0",
      "model_name": "SelectModel",
      "state": {
       "_options_labels": [
        "",
        "Accent",
        "Accent_r",
        "Blues",
        "Blues_r",
        "BrBG",
        "BrBG_r",
        "BuGn",
        "BuGn_r",
        "BuPu",
        "BuPu_r",
        "CMRmap",
        "CMRmap_r",
        "Dark2",
        "Dark2_r",
        "GnBu",
        "GnBu_r",
        "Greens",
        "Greens_r",
        "Greys",
        "Greys_r",
        "OrRd",
        "OrRd_r",
        "Oranges",
        "Oranges_r",
        "PRGn",
        "PRGn_r",
        "Paired",
        "Paired_r",
        "Pastel1",
        "Pastel1_r",
        "Pastel2",
        "Pastel2_r",
        "PiYG",
        "PiYG_r",
        "PuBu",
        "PuBuGn",
        "PuBuGn_r",
        "PuBu_r",
        "PuOr",
        "PuOr_r",
        "PuRd",
        "PuRd_r",
        "Purples",
        "Purples_r",
        "RdBu",
        "RdBu_r",
        "RdGy",
        "RdGy_r",
        "RdPu",
        "RdPu_r",
        "RdYlBu",
        "RdYlBu_r",
        "RdYlGn",
        "RdYlGn_r",
        "Reds",
        "Reds_r",
        "Set1",
        "Set1_r",
        "Set2",
        "Set2_r",
        "Set3",
        "Set3_r",
        "Spectral",
        "Spectral_r",
        "Vega10",
        "Vega10_r",
        "Vega20",
        "Vega20_r",
        "Vega20b",
        "Vega20b_r",
        "Vega20c",
        "Vega20c_r",
        "Wistia",
        "Wistia_r",
        "YlGn",
        "YlGnBu",
        "YlGnBu_r",
        "YlGn_r",
        "YlOrBr",
        "YlOrBr_r",
        "YlOrRd",
        "YlOrRd_r",
        "afmhot",
        "afmhot_r",
        "autumn",
        "autumn_r",
        "binary",
        "binary_r",
        "bone",
        "bone_r",
        "brg",
        "brg_r",
        "bwr",
        "bwr_r",
        "cool",
        "cool_r",
        "coolwarm",
        "coolwarm_r",
        "copper",
        "copper_r",
        "cubehelix",
        "cubehelix_r",
        "flag",
        "flag_r",
        "gist_earth",
        "gist_earth_r",
        "gist_gray",
        "gist_gray_r",
        "gist_heat",
        "gist_heat_r",
        "gist_ncar",
        "gist_ncar_r",
        "gist_rainbow",
        "gist_rainbow_r",
        "gist_stern",
        "gist_stern_r",
        "gist_yarg",
        "gist_yarg_r",
        "gnuplot",
        "gnuplot2",
        "gnuplot2_r",
        "gnuplot_r",
        "gray",
        "gray_r",
        "hot",
        "hot_r",
        "hsv",
        "hsv_r",
        "inferno",
        "inferno_r",
        "jet",
        "jet_r",
        "magma",
        "magma_r",
        "nipy_spectral",
        "nipy_spectral_r",
        "ocean",
        "ocean_r",
        "pink",
        "pink_r",
        "plasma",
        "plasma_r",
        "prism",
        "prism_r",
        "rainbow",
        "rainbow_r",
        "seismic",
        "seismic_r",
        "spectral",
        "spectral_r",
        "spring",
        "spring_r",
        "summer",
        "summer_r",
        "tab10",
        "tab10_r",
        "tab20",
        "tab20_r",
        "tab20b",
        "tab20b_r",
        "tab20c",
        "tab20c_r",
        "terrain",
        "terrain_r",
        "viridis",
        "viridis_r",
        "winter",
        "winter_r"
       ],
       "description": "Colormap:",
       "index": 0,
       "layout": "IPY_MODEL_890d43ddcb22417ab2745f8c33ab6a45",
       "rows": 1,
       "style": "IPY_MODEL_6319f7d9f54941068ac7a0cce33f1ef6"
      }
     },
     "3523b12f128d418a87752636281f9cc6": {
      "model_module": "@jupyter-widgets/controls",
      "model_module_version": "1.1.0",
      "model_name": "HBoxModel",
      "state": {
       "children": [
        "IPY_MODEL_ad88ed5d89a34dddbbf3968011ec1f37",
        "IPY_MODEL_f83c340fda884dd79e9a94e19bff41d7"
       ],
       "layout": "IPY_MODEL_0507fd800b0143e7b23e962ae73c590e"
      }
     },
     "3669f6d8b278408eaf99b1a9f197dfeb": {
      "model_module": "@jupyter-widgets/controls",
      "model_module_version": "1.1.0",
      "model_name": "HBoxModel",
      "state": {
       "children": [
        "IPY_MODEL_ba17448157bf4aeb9457f3b02e975d8d",
        "IPY_MODEL_bb5c46abc9c34d4483f9669ac3e5874c",
        "IPY_MODEL_2725ed4b699e46afb75d075103ed9493",
        "IPY_MODEL_575a321529c44fc7b89974a6fad8ae10",
        "IPY_MODEL_d2cd27d2b4c9498885aa4d5d8a1e2398",
        "IPY_MODEL_92f5be13eac5406db5ae8da6b8160de6",
        "IPY_MODEL_1384faf8dff442b7ba661c50e3b008bf"
       ],
       "layout": "IPY_MODEL_8f78edf79bb44af29867371c25801a99"
      }
     },
     "370088928f1b486eba2d13f627604ff1": {
      "model_module": "@jupyter-widgets/controls",
      "model_module_version": "1.1.0",
      "model_name": "ButtonStyleModel",
      "state": {}
     },
     "3a98806ef8074e488d249894fe29adfe": {
      "model_module": "@jupyter-widgets/base",
      "model_module_version": "1.0.0",
      "model_name": "LayoutModel",
      "state": {
       "width": "100%"
      }
     },
     "3bbb8c98fed34dc48bf70bbdedf95285": {
      "model_module": "@jupyter-widgets/base",
      "model_module_version": "1.0.0",
      "model_name": "LayoutModel",
      "state": {}
     },
     "3bc3a374edcd4a379252d58ce2e87dfa": {
      "model_module": "@jupyter-widgets/controls",
      "model_module_version": "1.1.0",
      "model_name": "DescriptionStyleModel",
      "state": {
       "description_width": ""
      }
     },
     "3c5370e9f9b440ad86102e15b315c4ce": {
      "model_module": "@jupyter-widgets/controls",
      "model_module_version": "1.1.0",
      "model_name": "DescriptionStyleModel",
      "state": {
       "description_width": "initial"
      }
     },
     "43e2f8b7361e4524b9763b502862259c": {
      "model_module": "@jupyter-widgets/controls",
      "model_module_version": "1.1.0",
      "model_name": "VBoxModel",
      "state": {
       "children": [
        "IPY_MODEL_34b6b31dbf6e4d3b8d75c35b503be553",
        "IPY_MODEL_296bc3d99031422eb8249bc58c9ea41e",
        "IPY_MODEL_991f86c7f044441f840b530e5c3ab17c",
        "IPY_MODEL_2da6fbc36b2c4783a66ded2211144466",
        "IPY_MODEL_870033b44c8d47eb9b449bf32312f04e",
        "IPY_MODEL_d579da9cbc2740098e345058f689d85a",
        "IPY_MODEL_dcd79917bf784abbb34a64a0b82ae383",
        "IPY_MODEL_e1369baf902a4243ac8ad704d3ae39b2"
       ],
       "layout": "IPY_MODEL_3a98806ef8074e488d249894fe29adfe"
      }
     },
     "443297d7bc234c0e856deb77eb55a79f": {
      "model_module": "@jupyter-widgets/base",
      "model_module_version": "1.0.0",
      "model_name": "LayoutModel",
      "state": {
       "height": "40px"
      }
     },
     "447095b642d547d6a9986f642fbbb710": {
      "model_module": "@jupyter-widgets/controls",
      "model_module_version": "1.1.0",
      "model_name": "IntTextModel",
      "state": {
       "description": "Feature to show:",
       "layout": "IPY_MODEL_cb29066095d84b0da456d7418d0b4b80",
       "step": 1,
       "style": "IPY_MODEL_314d98c54cef44b5bac2aa970a54a014"
      }
     },
     "46666a73be6641a38883d71a9c5185a4": {
      "model_module": "@jupyter-widgets/controls",
      "model_module_version": "1.1.0",
      "model_name": "VBoxModel",
      "state": {
       "children": [
        "IPY_MODEL_b3d2249c5e1b4feeaec5fed9b0ccd7b2",
        "IPY_MODEL_973a277a49f54e04b54eff16399faa8a",
        "IPY_MODEL_ca656250b6a24ab09d4ec9b69f81c0ba",
        "IPY_MODEL_1bd1824cf8294deb8940c8822787e092",
        "IPY_MODEL_91a9516c55fd48c4bb9248c71ff8c4be",
        "IPY_MODEL_cedf1a4834f749e6aebb911a3b1d92a0",
        "IPY_MODEL_bb2587785ef646e9b6df97b02688a173",
        "IPY_MODEL_969d42583a5744d0b1f7381a8bcfe009"
       ],
       "layout": "IPY_MODEL_b7217b2f2d8d43aaa49c45140e7a3947"
      }
     },
     "4689c585bf1b4d28a4c39f4962198d33": {
      "model_module": "@jupyter-widgets/controls",
      "model_module_version": "1.1.0",
      "model_name": "SliderStyleModel",
      "state": {
       "description_width": ""
      }
     },
     "4c81616efacb44a8b05d2ab92b8c5426": {
      "model_module": "@jupyter-widgets/controls",
      "model_module_version": "1.1.0",
      "model_name": "CheckboxModel",
      "state": {
       "description": "Rotate",
       "disabled": false,
       "layout": "IPY_MODEL_890d43ddcb22417ab2745f8c33ab6a45",
       "style": "IPY_MODEL_74869b4934cc4b34901cf4d65de1998a",
       "value": true
      }
     },
     "4c96ef42c4f34ad1a3be77991954d9f5": {
      "model_module": "@jupyter-widgets/base",
      "model_module_version": "1.0.0",
      "model_name": "LayoutModel",
      "state": {
       "width": "100%"
      }
     },
     "4cf216b58b8241f5a43dfd77822dcfe0": {
      "model_module": "@jupyter-widgets/controls",
      "model_module_version": "1.1.0",
      "model_name": "DescriptionStyleModel",
      "state": {
       "description_width": "initial"
      }
     },
     "4f96fdca5e5b44dbb3b8d90778e4b410": {
      "model_module": "@jupyter-widgets/base",
      "model_module_version": "1.0.0",
      "model_name": "LayoutModel",
      "state": {}
     },
     "4fb0ad9ea5364c04aedcf6abdd57916f": {
      "model_module": "@jupyter-widgets/base",
      "model_module_version": "1.0.0",
      "model_name": "LayoutModel",
      "state": {
       "width": "65%"
      }
     },
     "4febbdf1511549bdb30391708c3c1a30": {
      "model_module": "@jupyter-widgets/controls",
      "model_module_version": "1.1.0",
      "model_name": "ButtonStyleModel",
      "state": {}
     },
     "50b5c552afd547dabf97a015432d0868": {
      "model_module": "@jupyter-widgets/controls",
      "model_module_version": "1.1.0",
      "model_name": "HBoxModel",
      "state": {
       "children": [
        "IPY_MODEL_91fde85d9987458e89386a5227de99ec",
        "IPY_MODEL_c085ddcf14784c408005d9072d82cc1f"
       ],
       "layout": "IPY_MODEL_443297d7bc234c0e856deb77eb55a79f"
      }
     },
     "517719dd2bd34af8a1dcfa9f14f6d988": {
      "model_module": "@jupyter-widgets/controls",
      "model_module_version": "1.1.0",
      "model_name": "HBoxModel",
      "state": {
       "children": [
        "IPY_MODEL_46666a73be6641a38883d71a9c5185a4",
        "IPY_MODEL_c04f3da9147a4c75ae033c7867b7ea5e"
       ],
       "layout": "IPY_MODEL_7edd38f7df38449c898acf02bc0abaa4"
      }
     },
     "5473baf3186246d98c360ec5d71d2c15": {
      "model_module": "@jupyter-widgets/controls",
      "model_module_version": "1.1.0",
      "model_name": "ButtonStyleModel",
      "state": {}
     },
     "55541274dcb74611bafdb5777ea0c9b7": {
      "model_module": "@jupyter-widgets/controls",
      "model_module_version": "1.1.0",
      "model_name": "DescriptionStyleModel",
      "state": {
       "description_width": "initial"
      }
     },
     "55b3fa8e8ee04fdea17d15d9b06a46b0": {
      "model_module": "@jupyter-widgets/controls",
      "model_module_version": "1.1.0",
      "model_name": "DescriptionStyleModel",
      "state": {
       "description_width": "initial"
      }
     },
     "5716f49545d048aa91256980dd735c71": {
      "model_module": "@jupyter-widgets/controls",
      "model_module_version": "1.1.0",
      "model_name": "LabelModel",
      "state": {
       "layout": "IPY_MODEL_2a26f71e30b74c9eb6c928377b423ef1",
       "style": "IPY_MODEL_b4bc1b63ca25458bb04b3d4a702dfc72",
       "value": "of 10000"
      }
     },
     "575a321529c44fc7b89974a6fad8ae10": {
      "model_module": "@jupyter-widgets/controls",
      "model_module_version": "1.1.0",
      "model_name": "ButtonModel",
      "state": {
       "icon": "forward",
       "layout": "IPY_MODEL_03ded56a442b42bebfecea312d40148b",
       "style": "IPY_MODEL_756c5736237444fdad89edc8fef5ac06"
      }
     },
     "5a090e19e0144928840aa790dc2bc24f": {
      "model_module": "@jupyter-widgets/base",
      "model_module_version": "1.0.0",
      "model_name": "LayoutModel",
      "state": {
       "width": "100%"
      }
     },
     "5adfc25633984c3abfee32557fd7eb9a": {
      "model_module": "@jupyter-widgets/base",
      "model_module_version": "1.0.0",
      "model_name": "LayoutModel",
      "state": {
       "width": "100%"
      }
     },
     "5c8362934bc74fd9898408b7026e90c7": {
      "model_module": "@jupyter-widgets/base",
      "model_module_version": "1.0.0",
      "model_name": "LayoutModel",
      "state": {
       "justify_content": "center",
       "overflow_x": "auto",
       "overflow_y": "auto",
       "width": "95%"
      }
     },
     "5d3aad7aaaf04477822a20ed01723762": {
      "model_module": "@jupyter-widgets/controls",
      "model_module_version": "1.1.0",
      "model_name": "DescriptionStyleModel",
      "state": {
       "description_width": "initial"
      }
     },
     "5e0cd9ddb31f4ff988adad400e7f82b2": {
      "model_module": "@jupyter-widgets/base",
      "model_module_version": "1.0.0",
      "model_name": "LayoutModel",
      "state": {}
     },
     "5e8ad2a1117f415ba491088535c90ceb": {
      "model_module": "@jupyter-widgets/controls",
      "model_module_version": "1.1.0",
      "model_name": "HBoxModel",
      "state": {
       "children": [
        "IPY_MODEL_12a401c4a97140d982eebf9ef95717b6",
        "IPY_MODEL_43e2f8b7361e4524b9763b502862259c"
       ],
       "layout": "IPY_MODEL_edc079125691499dacd56654baf1f4af"
      }
     },
     "5f9359da5f284c46b25cdef1ec914dbf": {
      "model_module": "@jupyter-widgets/base",
      "model_module_version": "1.0.0",
      "model_name": "LayoutModel",
      "state": {}
     },
     "61d0930bc28b44e6ad0d4495f9f1518d": {
      "model_module": "@jupyter-widgets/controls",
      "model_module_version": "1.1.0",
      "model_name": "DescriptionStyleModel",
      "state": {
       "description_width": "initial"
      }
     },
     "6260ce90c46c4ffda35088dece0cc024": {
      "model_module": "@jupyter-widgets/controls",
      "model_module_version": "1.1.0",
      "model_name": "VBoxModel",
      "state": {
       "children": [
        "IPY_MODEL_50b5c552afd547dabf97a015432d0868",
        "IPY_MODEL_3669f6d8b278408eaf99b1a9f197dfeb"
       ],
       "layout": "IPY_MODEL_4c96ef42c4f34ad1a3be77991954d9f5"
      }
     },
     "626a0394fe2c4ca9846b89521996acb4": {
      "model_module": "@jupyter-widgets/base",
      "model_module_version": "1.0.0",
      "model_name": "LayoutModel",
      "state": {
       "width": "100%"
      }
     },
     "6273d5243e7643a082d01e5f863e716e": {
      "model_module": "@jupyter-widgets/controls",
      "model_module_version": "1.1.0",
      "model_name": "IntTextModel",
      "state": {
       "description": "Vertical space between layers:",
       "layout": "IPY_MODEL_341856041f3b496c96ae531dc585006f",
       "step": 1,
       "style": "IPY_MODEL_9433223dd9994321b64bf9bc974e0082",
       "value": 30
      }
     },
     "6275126da22c456b9e0f8633d3d32975": {
      "model_module": "@jupyter-widgets/base",
      "model_module_version": "1.0.0",
      "model_name": "LayoutModel",
      "state": {}
     },
     "6319f7d9f54941068ac7a0cce33f1ef6": {
      "model_module": "@jupyter-widgets/controls",
      "model_module_version": "1.1.0",
      "model_name": "DescriptionStyleModel",
      "state": {
       "description_width": ""
      }
     },
     "64bcaf38a7444d8ab11abe89c9c493e1": {
      "model_module": "@jupyter-widgets/base",
      "model_module_version": "1.0.0",
      "model_name": "LayoutModel",
      "state": {}
     },
     "656e46c390c2441684362109e9bbf1ef": {
      "model_module": "@jupyter-widgets/base",
      "model_module_version": "1.0.0",
      "model_name": "LayoutModel",
      "state": {
       "width": "10%"
      }
     },
     "678856fe30a24311adc65f3a9f2f39f0": {
      "model_module": "@jupyter-widgets/base",
      "model_module_version": "1.0.0",
      "model_name": "LayoutModel",
      "state": {}
     },
     "689f6f181dc9497cae7adefae1594624": {
      "model_module": "@jupyter-widgets/controls",
      "model_module_version": "1.1.0",
      "model_name": "FloatTextModel",
      "state": {
       "description": "Feature scale:",
       "layout": "IPY_MODEL_090cbd2c7b1f4d3c8f339ed726e7ece3",
       "step": null,
       "style": "IPY_MODEL_55b3fa8e8ee04fdea17d15d9b06a46b0",
       "value": 4
      }
     },
     "6d07cf36467b4462a6829ca70936dbbf": {
      "model_module": "@jupyter-widgets/base",
      "model_module_version": "1.0.0",
      "model_name": "LayoutModel",
      "state": {}
     },
     "6df7673097294128a5ca672e96162745": {
      "model_module": "@jupyter-widgets/controls",
      "model_module_version": "1.1.0",
      "model_name": "SliderStyleModel",
      "state": {
       "description_width": "initial"
      }
     },
     "6ed08cba39f04d0cb0dddb4c585481f6": {
      "model_module": "@jupyter-widgets/base",
      "model_module_version": "1.0.0",
      "model_name": "LayoutModel",
      "state": {
       "width": "100%"
      }
     },
     "705ce1c28dc34916ac9de2657cb6ce57": {
      "model_module": "@jupyter-widgets/controls",
      "model_module_version": "1.1.0",
      "model_name": "DescriptionStyleModel",
      "state": {
       "description_width": "initial"
      }
     },
     "71d23aeb8c194eeaa3a52d86549099a6": {
      "model_module": "@jupyter-widgets/controls",
      "model_module_version": "1.1.0",
      "model_name": "CheckboxModel",
      "state": {
       "description": "Errors",
       "disabled": false,
       "layout": "IPY_MODEL_890d43ddcb22417ab2745f8c33ab6a45",
       "style": "IPY_MODEL_24908f52850e49e6a1905c424f1f2a77",
       "value": false
      }
     },
     "74869b4934cc4b34901cf4d65de1998a": {
      "model_module": "@jupyter-widgets/controls",
      "model_module_version": "1.1.0",
      "model_name": "DescriptionStyleModel",
      "state": {
       "description_width": ""
      }
     },
     "756c5736237444fdad89edc8fef5ac06": {
      "model_module": "@jupyter-widgets/controls",
      "model_module_version": "1.1.0",
      "model_name": "ButtonStyleModel",
      "state": {}
     },
     "774c3e14bb2a4ccdb1847e432c8f86a8": {
      "model_module": "@jupyter-widgets/base",
      "model_module_version": "1.0.0",
      "model_name": "LayoutModel",
      "state": {}
     },
     "77918290da774ca1a50ef05792837733": {
      "model_module": "@jupyter-widgets/base",
      "model_module_version": "1.0.0",
      "model_name": "LayoutModel",
      "state": {
       "width": "100%"
      }
     },
     "78931429e4a1402a91a6edba90ff33aa": {
      "model_module": "@jupyter-widgets/controls",
      "model_module_version": "1.1.0",
      "model_name": "CheckboxModel",
      "state": {
       "description": "Rotate network",
       "disabled": false,
       "layout": "IPY_MODEL_eff961f61d3d43eb82f36ebd4595c187",
       "style": "IPY_MODEL_5d3aad7aaaf04477822a20ed01723762",
       "value": true
      }
     },
     "79cb84a8427c45d5b7ab604a8e58b83d": {
      "model_module": "@jupyter-widgets/controls",
      "model_module_version": "1.1.0",
      "model_name": "DescriptionStyleModel",
      "state": {
       "description_width": "initial"
      }
     },
     "7a70cec808ff4abfad24c1a98ef57a74": {
      "model_module": "@jupyter-widgets/controls",
      "model_module_version": "1.1.0",
      "model_name": "VBoxModel",
      "state": {
       "children": [
        "IPY_MODEL_8a175a7b081e480b843599962acdc28a",
        "IPY_MODEL_97ee414a5f6b4cf4a594682cbbf85119"
       ],
       "layout": "IPY_MODEL_d866019a61234bcd88406835b327b11a"
      }
     },
     "7db75fe7a5b94d4897e806457801ed48": {
      "model_module": "@jupyter-widgets/base",
      "model_module_version": "1.0.0",
      "model_name": "LayoutModel",
      "state": {}
     },
     "7e836f690b73459487406cd620f1ff89": {
      "model_module": "@jupyter-widgets/controls",
      "model_module_version": "1.1.0",
      "model_name": "ButtonStyleModel",
      "state": {}
     },
     "7eccd3760f2644e88e1b1f6602a6577b": {
      "model_module": "@jupyter-widgets/controls",
      "model_module_version": "1.1.0",
      "model_name": "DescriptionStyleModel",
      "state": {
       "description_width": ""
      }
     },
     "7edd38f7df38449c898acf02bc0abaa4": {
      "model_module": "@jupyter-widgets/base",
      "model_module_version": "1.0.0",
      "model_name": "LayoutModel",
      "state": {}
     },
     "7f25880544c34a66b94c47fe791c0504": {
      "model_module": "@jupyter-widgets/controls",
      "model_module_version": "1.1.0",
      "model_name": "ButtonStyleModel",
      "state": {}
     },
     "83dd608776724d20acb7b0683a4bb2fa": {
      "model_module": "@jupyter-widgets/base",
      "model_module_version": "1.0.0",
      "model_name": "LayoutModel",
      "state": {}
     },
     "848cd7e39f5c47888659ace12fcf450c": {
      "model_module": "@jupyter-widgets/controls",
      "model_module_version": "1.1.0",
      "model_name": "DescriptionStyleModel",
      "state": {
       "description_width": "initial"
      }
     },
     "85da2b581032401c8376bc83e02b0f15": {
      "model_module": "@jupyter-widgets/base",
      "model_module_version": "1.0.0",
      "model_name": "LayoutModel",
      "state": {
       "width": "10%"
      }
     },
     "8615cf311b0f4a5994577bc01cecb1ab": {
      "model_module": "@jupyter-widgets/controls",
      "model_module_version": "1.1.0",
      "model_name": "DescriptionStyleModel",
      "state": {
       "description_width": "initial"
      }
     },
     "870033b44c8d47eb9b449bf32312f04e": {
      "model_module": "@jupyter-widgets/controls",
      "model_module_version": "1.1.0",
      "model_name": "FloatTextModel",
      "state": {
       "description": "Leftmost color maps to:",
       "layout": "IPY_MODEL_4f96fdca5e5b44dbb3b8d90778e4b410",
       "step": null,
       "style": "IPY_MODEL_8615cf311b0f4a5994577bc01cecb1ab",
       "value": -1
      }
     },
     "870b1c1833754f6188611a91551b72cc": {
      "model_module": "@jupyter-widgets/base",
      "model_module_version": "1.0.0",
      "model_name": "LayoutModel",
      "state": {}
     },
     "890d43ddcb22417ab2745f8c33ab6a45": {
      "model_module": "@jupyter-widgets/base",
      "model_module_version": "1.0.0",
      "model_name": "LayoutModel",
      "state": {}
     },
     "893f20900b1148cda21465d7f928ec98": {
      "model_module": "@jupyter-widgets/base",
      "model_module_version": "1.0.0",
      "model_name": "LayoutModel",
      "state": {}
     },
     "8a175a7b081e480b843599962acdc28a": {
      "model_module": "@jupyter-widgets/controls",
      "model_module_version": "1.1.0",
      "model_name": "HBoxModel",
      "state": {
       "children": [
        "IPY_MODEL_e936b8d6e25d42df97338e26efd86e87",
        "IPY_MODEL_5716f49545d048aa91256980dd735c71"
       ],
       "layout": "IPY_MODEL_fb23fcf34133433eafdef888c742437b"
      }
     },
     "8ae8b64ede6a4d46af091fbd79b9cb1e": {
      "model_module": "@jupyter-widgets/controls",
      "model_module_version": "1.1.0",
      "model_name": "DescriptionStyleModel",
      "state": {
       "description_width": "initial"
      }
     },
     "8af24f76889441398e3c586f2ab438cf": {
      "model_module": "@jupyter-widgets/base",
      "model_module_version": "1.0.0",
      "model_name": "LayoutModel",
      "state": {
       "width": "100px"
      }
     },
     "8b3131f03b0f4c1483050adba4cd61d1": {
      "model_module": "@jupyter-widgets/controls",
      "model_module_version": "1.1.0",
      "model_name": "DescriptionStyleModel",
      "state": {
       "description_width": "initial"
      }
     },
     "8dcbdbaa8225480eb4f5023e7ef0f724": {
      "model_module": "@jupyter-widgets/base",
      "model_module_version": "1.0.0",
      "model_name": "LayoutModel",
      "state": {}
     },
     "8ea9235ede3340d6a250f3ab91911c4b": {
      "model_module": "@jupyter-widgets/base",
      "model_module_version": "1.0.0",
      "model_name": "LayoutModel",
      "state": {
       "height": "50px",
       "width": "100%"
      }
     },
     "8f78edf79bb44af29867371c25801a99": {
      "model_module": "@jupyter-widgets/base",
      "model_module_version": "1.0.0",
      "model_name": "LayoutModel",
      "state": {
       "height": "50px",
       "width": "100%"
      }
     },
     "9074e10d83194014b5500cbc3d4254d2": {
      "model_module": "@jupyter-widgets/controls",
      "model_module_version": "1.1.0",
      "model_name": "DescriptionStyleModel",
      "state": {
       "description_width": ""
      }
     },
     "917c7bcf534d4a938fb8790c7135face": {
      "model_module": "@jupyter-widgets/base",
      "model_module_version": "1.0.0",
      "model_name": "LayoutModel",
      "state": {}
     },
     "91a9516c55fd48c4bb9248c71ff8c4be": {
      "model_module": "@jupyter-widgets/controls",
      "model_module_version": "1.1.0",
      "model_name": "HBoxModel",
      "state": {
       "children": [
        "IPY_MODEL_de8d89202bce4c35bb2cbed3c17433c2",
        "IPY_MODEL_71d23aeb8c194eeaa3a52d86549099a6"
       ],
       "layout": "IPY_MODEL_6d07cf36467b4462a6829ca70936dbbf"
      }
     },
     "91fde85d9987458e89386a5227de99ec": {
      "model_module": "@jupyter-widgets/controls",
      "model_module_version": "1.1.0",
      "model_name": "IntSliderModel",
      "state": {
       "continuous_update": false,
       "description": "Dataset index",
       "layout": "IPY_MODEL_0bfcde17b53c42be8802ff949ee557b2",
       "max": 59999,
       "style": "IPY_MODEL_e187f9d7d4234071a9060cb110228f33"
      }
     },
     "92f5be13eac5406db5ae8da6b8160de6": {
      "model_module": "@jupyter-widgets/controls",
      "model_module_version": "1.1.0",
      "model_name": "ButtonModel",
      "state": {
       "description": "Play",
       "icon": "play",
       "layout": "IPY_MODEL_f0d1d04a380f4a9a9699856e0a17e970",
       "style": "IPY_MODEL_5473baf3186246d98c360ec5d71d2c15"
      }
     },
     "9433223dd9994321b64bf9bc974e0082": {
      "model_module": "@jupyter-widgets/controls",
      "model_module_version": "1.1.0",
      "model_name": "DescriptionStyleModel",
      "state": {
       "description_width": "initial"
      }
     },
     "968ba57e894942c2ba3825ce4172e448": {
      "model_module": "@jupyter-widgets/controls",
      "model_module_version": "1.1.0",
      "model_name": "FloatTextModel",
      "state": {
       "description": "Rightmost color maps to:",
       "layout": "IPY_MODEL_5f9359da5f284c46b25cdef1ec914dbf",
       "step": null,
       "style": "IPY_MODEL_848cd7e39f5c47888659ace12fcf450c",
       "value": 1
      }
     },
     "969d42583a5744d0b1f7381a8bcfe009": {
      "model_module": "@jupyter-widgets/controls",
      "model_module_version": "1.1.0",
      "model_name": "FloatTextModel",
      "state": {
       "description": "Feature scale:",
       "layout": "IPY_MODEL_0abf6a63edc14c5d97cdafb4bf617c94",
       "step": null,
       "style": "IPY_MODEL_79cb84a8427c45d5b7ab604a8e58b83d",
       "value": 1
      }
     },
     "973a277a49f54e04b54eff16399faa8a": {
      "model_module": "@jupyter-widgets/controls",
      "model_module_version": "1.1.0",
      "model_name": "FloatSliderModel",
      "state": {
       "continuous_update": false,
       "description": "Zoom",
       "layout": "IPY_MODEL_4fb0ad9ea5364c04aedcf6abdd57916f",
       "max": 1,
       "step": 0.1,
       "style": "IPY_MODEL_6df7673097294128a5ca672e96162745",
       "value": 0.6
      }
     },
     "97ee414a5f6b4cf4a594682cbbf85119": {
      "model_module": "@jupyter-widgets/controls",
      "model_module_version": "1.1.0",
      "model_name": "HBoxModel",
      "state": {
       "children": [
        "IPY_MODEL_cf1600e0f1b24e20a1822e33a797063a",
        "IPY_MODEL_df285cffd613472ca1f3f576ffb15a46",
        "IPY_MODEL_9bd9af7e592542e394d862f355beb100",
        "IPY_MODEL_ad7a438a524641e38d016f87fee86fa4",
        "IPY_MODEL_a5968a3ef74a4cb39bd021fcc658f7b4",
        "IPY_MODEL_d6158affed45456fbbf0d8b42d7c1501",
        "IPY_MODEL_a1c98f4735d5408b9fec1ebbdea7bfbe"
       ],
       "layout": "IPY_MODEL_8ea9235ede3340d6a250f3ab91911c4b"
      }
     },
     "991f86c7f044441f840b530e5c3ab17c": {
      "model_module": "@jupyter-widgets/controls",
      "model_module_version": "1.1.0",
      "model_name": "SelectModel",
      "state": {
       "_options_labels": [
        "",
        "Accent",
        "Accent_r",
        "Blues",
        "Blues_r",
        "BrBG",
        "BrBG_r",
        "BuGn",
        "BuGn_r",
        "BuPu",
        "BuPu_r",
        "CMRmap",
        "CMRmap_r",
        "Dark2",
        "Dark2_r",
        "GnBu",
        "GnBu_r",
        "Greens",
        "Greens_r",
        "Greys",
        "Greys_r",
        "OrRd",
        "OrRd_r",
        "Oranges",
        "Oranges_r",
        "PRGn",
        "PRGn_r",
        "Paired",
        "Paired_r",
        "Pastel1",
        "Pastel1_r",
        "Pastel2",
        "Pastel2_r",
        "PiYG",
        "PiYG_r",
        "PuBu",
        "PuBuGn",
        "PuBuGn_r",
        "PuBu_r",
        "PuOr",
        "PuOr_r",
        "PuRd",
        "PuRd_r",
        "Purples",
        "Purples_r",
        "RdBu",
        "RdBu_r",
        "RdGy",
        "RdGy_r",
        "RdPu",
        "RdPu_r",
        "RdYlBu",
        "RdYlBu_r",
        "RdYlGn",
        "RdYlGn_r",
        "Reds",
        "Reds_r",
        "Set1",
        "Set1_r",
        "Set2",
        "Set2_r",
        "Set3",
        "Set3_r",
        "Spectral",
        "Spectral_r",
        "Vega10",
        "Vega10_r",
        "Vega20",
        "Vega20_r",
        "Vega20b",
        "Vega20b_r",
        "Vega20c",
        "Vega20c_r",
        "Wistia",
        "Wistia_r",
        "YlGn",
        "YlGnBu",
        "YlGnBu_r",
        "YlGn_r",
        "YlOrBr",
        "YlOrBr_r",
        "YlOrRd",
        "YlOrRd_r",
        "afmhot",
        "afmhot_r",
        "autumn",
        "autumn_r",
        "binary",
        "binary_r",
        "bone",
        "bone_r",
        "brg",
        "brg_r",
        "bwr",
        "bwr_r",
        "cool",
        "cool_r",
        "coolwarm",
        "coolwarm_r",
        "copper",
        "copper_r",
        "cubehelix",
        "cubehelix_r",
        "flag",
        "flag_r",
        "gist_earth",
        "gist_earth_r",
        "gist_gray",
        "gist_gray_r",
        "gist_heat",
        "gist_heat_r",
        "gist_ncar",
        "gist_ncar_r",
        "gist_rainbow",
        "gist_rainbow_r",
        "gist_stern",
        "gist_stern_r",
        "gist_yarg",
        "gist_yarg_r",
        "gnuplot",
        "gnuplot2",
        "gnuplot2_r",
        "gnuplot_r",
        "gray",
        "gray_r",
        "hot",
        "hot_r",
        "hsv",
        "hsv_r",
        "inferno",
        "inferno_r",
        "jet",
        "jet_r",
        "magma",
        "magma_r",
        "nipy_spectral",
        "nipy_spectral_r",
        "ocean",
        "ocean_r",
        "pink",
        "pink_r",
        "plasma",
        "plasma_r",
        "prism",
        "prism_r",
        "rainbow",
        "rainbow_r",
        "seismic",
        "seismic_r",
        "spectral",
        "spectral_r",
        "spring",
        "spring_r",
        "summer",
        "summer_r",
        "tab10",
        "tab10_r",
        "tab20",
        "tab20_r",
        "tab20b",
        "tab20b_r",
        "tab20c",
        "tab20c_r",
        "terrain",
        "terrain_r",
        "viridis",
        "viridis_r",
        "winter",
        "winter_r"
       ],
       "description": "Colormap:",
       "index": 0,
       "layout": "IPY_MODEL_341856041f3b496c96ae531dc585006f",
       "rows": 1,
       "style": "IPY_MODEL_092517fbd6594b92b64b1217063d13ff"
      }
     },
     "9bd9af7e592542e394d862f355beb100": {
      "model_module": "@jupyter-widgets/controls",
      "model_module_version": "1.1.0",
      "model_name": "IntTextModel",
      "state": {
       "layout": "IPY_MODEL_1cede33f710b4587bb22aed258bc41d3",
       "step": 1,
       "style": "IPY_MODEL_e29eb67e3dee40d8aea903ddfc4f9b74"
      }
     },
     "9bfb4f9c8e8a4e7d821de5a86ec9ea4a": {
      "model_module": "@jupyter-widgets/output",
      "model_module_version": "1.0.0",
      "model_name": "OutputModel",
      "state": {
       "layout": "IPY_MODEL_3bbb8c98fed34dc48bf70bbdedf95285"
      }
     },
     "9c539f39cde945b082a5b517cc671cc7": {
      "model_module": "@jupyter-widgets/controls",
      "model_module_version": "1.1.0",
      "model_name": "AccordionModel",
      "state": {
       "_titles": {
        "0": "MNIST_CNN"
       },
       "children": [
        "IPY_MODEL_5e8ad2a1117f415ba491088535c90ceb"
       ],
       "layout": "IPY_MODEL_da16d7d85e524cec9527931754feb36f",
       "selected_index": null
      }
     },
     "9f7d389fd4e741c78d41c0f38c936728": {
      "model_module": "@jupyter-widgets/controls",
      "model_module_version": "1.1.0",
      "model_name": "DescriptionStyleModel",
      "state": {
       "description_width": ""
      }
     },
     "a1c98f4735d5408b9fec1ebbdea7bfbe": {
      "model_module": "@jupyter-widgets/controls",
      "model_module_version": "1.1.0",
      "model_name": "ButtonModel",
      "state": {
       "icon": "refresh",
       "layout": "IPY_MODEL_c63d479f56ea42be90a6403c0c64cddb",
       "style": "IPY_MODEL_7e836f690b73459487406cd620f1ff89"
      }
     },
     "a2941e43e7bf4d2480ce0da0c1f56e28": {
      "model_module": "@jupyter-widgets/controls",
      "model_module_version": "1.1.0",
      "model_name": "ButtonStyleModel",
      "state": {}
     },
     "a37a421ae09e420daf7225b953cabb1a": {
      "model_module": "@jupyter-widgets/base",
      "model_module_version": "1.0.0",
      "model_name": "LayoutModel",
      "state": {
       "width": "100%"
      }
     },
     "a5968a3ef74a4cb39bd021fcc658f7b4": {
      "model_module": "@jupyter-widgets/controls",
      "model_module_version": "1.1.0",
      "model_name": "ButtonModel",
      "state": {
       "icon": "fast-forward",
       "layout": "IPY_MODEL_241990c1593f47b7ae62b7ed0b0b12a5",
       "style": "IPY_MODEL_2bff40e6bffb4b0a9dd8f06f8ddb2471"
      }
     },
     "a85f8744e6c54be88383b143d782b6ae": {
      "model_module": "@jupyter-widgets/controls",
      "model_module_version": "1.1.0",
      "model_name": "SelectModel",
      "state": {
       "_options_labels": [
        "input",
        "flat_input",
        "hidden1",
        "hidden2",
        "output"
       ],
       "description": "Layer:",
       "index": 4,
       "layout": "IPY_MODEL_64bcaf38a7444d8ab11abe89c9c493e1",
       "rows": 1,
       "style": "IPY_MODEL_08ae9b878f9c410b8f96ad0a6f93fa2b"
      }
     },
     "a8e4112399f44699853c7f817a395747": {
      "model_module": "@jupyter-widgets/base",
      "model_module_version": "1.0.0",
      "model_name": "LayoutModel",
      "state": {}
     },
     "ad7a438a524641e38d016f87fee86fa4": {
      "model_module": "@jupyter-widgets/controls",
      "model_module_version": "1.1.0",
      "model_name": "ButtonModel",
      "state": {
       "icon": "forward",
       "layout": "IPY_MODEL_626a0394fe2c4ca9846b89521996acb4",
       "style": "IPY_MODEL_4febbdf1511549bdb30391708c3c1a30"
      }
     },
     "ad88ed5d89a34dddbbf3968011ec1f37": {
      "model_module": "@jupyter-widgets/controls",
      "model_module_version": "1.1.0",
      "model_name": "CheckboxModel",
      "state": {
       "description": "Rotate network",
       "disabled": false,
       "layout": "IPY_MODEL_bb8d4d9deb6d4dd495fe504643b18b8e",
       "style": "IPY_MODEL_8ae8b64ede6a4d46af091fbd79b9cb1e",
       "value": true
      }
     },
     "ae3e1893006f45d191107a151e85097e": {
      "model_module": "@jupyter-widgets/base",
      "model_module_version": "1.0.0",
      "model_name": "LayoutModel",
      "state": {}
     },
     "b191acc0d5df4a7f977ce416cd93fd93": {
      "model_module": "@jupyter-widgets/controls",
      "model_module_version": "1.1.0",
      "model_name": "ButtonStyleModel",
      "state": {}
     },
     "b3d2249c5e1b4feeaec5fed9b0ccd7b2": {
      "model_module": "@jupyter-widgets/controls",
      "model_module_version": "1.1.0",
      "model_name": "SelectModel",
      "state": {
       "_options_labels": [
        "Test",
        "Train"
       ],
       "description": "Dataset:",
       "index": 1,
       "layout": "IPY_MODEL_6275126da22c456b9e0f8633d3d32975",
       "rows": 1,
       "style": "IPY_MODEL_32aeefb922194094a2d4391cd71099af"
      }
     },
     "b4bc1b63ca25458bb04b3d4a702dfc72": {
      "model_module": "@jupyter-widgets/controls",
      "model_module_version": "1.1.0",
      "model_name": "DescriptionStyleModel",
      "state": {
       "description_width": ""
      }
     },
     "b5fed70eeaad4f628d5fb34febd42238": {
      "model_module": "@jupyter-widgets/controls",
      "model_module_version": "1.1.0",
      "model_name": "IntTextModel",
      "state": {
       "description": "Feature columns:",
       "layout": "IPY_MODEL_83dd608776724d20acb7b0683a4bb2fa",
       "step": 1,
       "style": "IPY_MODEL_61d0930bc28b44e6ad0d4495f9f1518d",
       "value": 8
      }
     },
     "b7217b2f2d8d43aaa49c45140e7a3947": {
      "model_module": "@jupyter-widgets/base",
      "model_module_version": "1.0.0",
      "model_name": "LayoutModel",
      "state": {
       "width": "100%"
      }
     },
     "b77b826cd6b74f02997f62414f80765d": {
      "model_module": "@jupyter-widgets/base",
      "model_module_version": "1.0.0",
      "model_name": "LayoutModel",
      "state": {}
     },
     "b9542e6eeda3481aa7037bb20eb3c1a3": {
      "model_module": "@jupyter-widgets/base",
      "model_module_version": "1.0.0",
      "model_name": "LayoutModel",
      "state": {}
     },
     "ba17448157bf4aeb9457f3b02e975d8d": {
      "model_module": "@jupyter-widgets/controls",
      "model_module_version": "1.1.0",
      "model_name": "ButtonModel",
      "state": {
       "icon": "fast-backward",
       "layout": "IPY_MODEL_dd0d9ca2fec442bc85adf216632689c2",
       "style": "IPY_MODEL_f65e5bcc56ea43179f4abb24f5059669"
      }
     },
     "ba19ce5fa28d427482d6ced232c0d8b8": {
      "model_module": "@jupyter-widgets/controls",
      "model_module_version": "1.1.0",
      "model_name": "ButtonStyleModel",
      "state": {}
     },
     "bb2587785ef646e9b6df97b02688a173": {
      "model_module": "@jupyter-widgets/controls",
      "model_module_version": "1.1.0",
      "model_name": "IntTextModel",
      "state": {
       "description": "Feature columns:",
       "layout": "IPY_MODEL_5e0cd9ddb31f4ff988adad400e7f82b2",
       "step": 1,
       "style": "IPY_MODEL_e06ac6830b8b467688a4f717cd15ed71",
       "value": 3
      }
     },
     "bb5c46abc9c34d4483f9669ac3e5874c": {
      "model_module": "@jupyter-widgets/controls",
      "model_module_version": "1.1.0",
      "model_name": "ButtonModel",
      "state": {
       "icon": "backward",
       "layout": "IPY_MODEL_6ed08cba39f04d0cb0dddb4c585481f6",
       "style": "IPY_MODEL_2abfeeea0e06438ba50dbab63d782a7c"
      }
     },
     "bb8d4d9deb6d4dd495fe504643b18b8e": {
      "model_module": "@jupyter-widgets/base",
      "model_module_version": "1.0.0",
      "model_name": "LayoutModel",
      "state": {
       "width": "52%"
      }
     },
     "bfea6071f8bd4d259ee494b4a3cd0784": {
      "model_module": "@jupyter-widgets/controls",
      "model_module_version": "1.1.0",
      "model_name": "DescriptionStyleModel",
      "state": {
       "description_width": ""
      }
     },
     "c04f3da9147a4c75ae033c7867b7ea5e": {
      "model_module": "@jupyter-widgets/controls",
      "model_module_version": "1.1.0",
      "model_name": "VBoxModel",
      "state": {
       "children": [
        "IPY_MODEL_a85f8744e6c54be88383b143d782b6ae",
        "IPY_MODEL_0f900e01832145b387920a1d3b8ada70",
        "IPY_MODEL_350c90414d6e426e9ef51eeec6e06e9c",
        "IPY_MODEL_cb598285ea564f27a6166f072b886d8b",
        "IPY_MODEL_e9d22ea976204142b02eac8cb0334f7e",
        "IPY_MODEL_968ba57e894942c2ba3825ce4172e448",
        "IPY_MODEL_447095b642d547d6a9986f642fbbb710",
        "IPY_MODEL_3523b12f128d418a87752636281f9cc6"
       ],
       "layout": "IPY_MODEL_a37a421ae09e420daf7225b953cabb1a"
      }
     },
     "c085ddcf14784c408005d9072d82cc1f": {
      "model_module": "@jupyter-widgets/controls",
      "model_module_version": "1.1.0",
      "model_name": "LabelModel",
      "state": {
       "layout": "IPY_MODEL_8af24f76889441398e3c586f2ab438cf",
       "style": "IPY_MODEL_bfea6071f8bd4d259ee494b4a3cd0784",
       "value": "of 60000"
      }
     },
     "c63d479f56ea42be90a6403c0c64cddb": {
      "model_module": "@jupyter-widgets/base",
      "model_module_version": "1.0.0",
      "model_name": "LayoutModel",
      "state": {
       "width": "25%"
      }
     },
     "c7f90d5dd7814cfaa9ad70237f66d84e": {
      "model_module": "@jupyter-widgets/controls",
      "model_module_version": "1.1.0",
      "model_name": "AccordionModel",
      "state": {
       "_titles": {
        "0": "MNIST_MLP"
       },
       "children": [
        "IPY_MODEL_517719dd2bd34af8a1dcfa9f14f6d988"
       ],
       "layout": "IPY_MODEL_ae3e1893006f45d191107a151e85097e",
       "selected_index": null
      }
     },
     "ca656250b6a24ab09d4ec9b69f81c0ba": {
      "model_module": "@jupyter-widgets/controls",
      "model_module_version": "1.1.0",
      "model_name": "IntTextModel",
      "state": {
       "description": "Horizontal space between banks:",
       "layout": "IPY_MODEL_890d43ddcb22417ab2745f8c33ab6a45",
       "step": 1,
       "style": "IPY_MODEL_e3e02432eba84730bd9d405c229f232d",
       "value": 150
      }
     },
     "cb29066095d84b0da456d7418d0b4b80": {
      "model_module": "@jupyter-widgets/base",
      "model_module_version": "1.0.0",
      "model_name": "LayoutModel",
      "state": {}
     },
     "cb598285ea564f27a6166f072b886d8b": {
      "model_module": "@jupyter-widgets/controls",
      "model_module_version": "1.1.0",
      "model_name": "HTMLModel",
      "state": {
       "layout": "IPY_MODEL_e6d1d182031f4287ab0347a21cadc703",
       "style": "IPY_MODEL_9074e10d83194014b5500cbc3d4254d2",
       "value": "<img src=\"data:image/gif;base64,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\"/>"
      }
     },
     "cbf3720012ea49eeafee50e6d601cd2f": {
      "model_module": "@jupyter-widgets/controls",
      "model_module_version": "1.1.0",
      "model_name": "HTMLModel",
      "state": {
       "layout": "IPY_MODEL_5c8362934bc74fd9898408b7026e90c7",
       "style": "IPY_MODEL_d07bda5c41964c099e417dd192fff8ad",
       "value": "\n<table align=\"center\" style=\"width: 100%;\">\n <tr>\n  <td valign=\"top\"><p style=\"text-align:center\"><svg id='MNIST_CNN' xmlns='http://www.w3.org/2000/svg' image-rendering=\"pixelated\" width=\"800.0000000000001px\" height=\"190.47619047619048px\">\n <g  transform=\"rotate(90) translate(0 -800.0000000000001)\" >\n  <svg viewBox=\"0 0 350 1470\" width=\"190.47619047619048px\" height=\"800.0000000000001px\">\n    <defs>\n        <marker id=\"arrow\" markerWidth=\"10\" markerHeight=\"10\" refX=\"9\" refY=\"3\" orient=\"auto\" markerUnits=\"strokeWidth\">\n          <path d=\"M0,0 L0,6 L9,3 z\" fill=\"black\" />\n        </marker>\n    </defs><rect x=\"74.0\" y=\"24\" width=\"202\" height=\"52\" style=\"fill:none;stroke:black;stroke-width:2\"/><image id=\"picture-dashboard-MNIST_CNN-809729_output_targets_1\" class=\"picture-dashboard-MNIST_CNN-809729_output_targets\" x=\"75.0\" y=\"25\" height=\"50\" width=\"200\" preserveAspectRatio=\"none\" href=\"data:image/gif;base64,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\"><title>Layer: output (output)\n output range: (-1.0, 1.0)\n shape = (10,)\n Keras class = Dense\n activation = softmax</title></image><text x=\"288.0\" y=\"52.0\" font-family=\"monospace\" font-size=\"12\" text-anchor=\"middle\" fill=\"black\" alignment-baseline=\"central\"  transform=\"rotate(-90 288.0 52.0) translate(2)\" >targets</text><rect x=\"74.0\" y=\"84\" width=\"202\" height=\"52\" style=\"fill:none;stroke:black;stroke-width:2\"/><image id=\"picture-dashboard-MNIST_CNN-809729_output-rotated_1\" class=\"picture-dashboard-MNIST_CNN-809729_output-rotated\" x=\"75.0\" y=\"85\" height=\"50\" width=\"200\" preserveAspectRatio=\"none\" href=\"data:image/gif;base64,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\"><title>Layer: output (output)\n output range: (-1.0, 1.0)\n shape = (10,)\n Keras class = Dense\n activation = softmax</title></image><text x=\"288.0\" y=\"112.0\" font-family=\"monospace\" font-size=\"12\" text-anchor=\"middle\" fill=\"black\" alignment-baseline=\"central\"  transform=\"rotate(-90 288.0 112.0) translate(2)\" >output</text><line x1=\"175.0\" y1=\"164\" x2=\"175.0\" y2=\"137\" stroke=\"black\" stroke-width=\"2\" marker-end=\"url(#arrow)\"><title>Weights from hidden to output\n output/kernel has shape (30, 10)\n output/bias has shape (10,)</title></line><rect x=\"74.0\" y=\"164\" width=\"202\" height=\"52\" style=\"fill:none;stroke:black;stroke-width:2\"/><image id=\"picture-dashboard-MNIST_CNN-809729_hidden-rotated_2\" class=\"picture-dashboard-MNIST_CNN-809729_hidden-rotated\" x=\"75.0\" y=\"165\" height=\"50\" width=\"200\" preserveAspectRatio=\"none\" href=\"data:image/gif;base64,R0lGODdhHgABAIcAAP78/bW1/5ub/9vb/8XF/+3t/6Sk/wAAAAAAAAAAAAAAAAAAAAAAAAAAAAAAAAAAAAAAAAAAAAAAAAAAAAAAAAAAAAAAAAAAAAAAAAAAAAAAAAAAAAAAAAAAAAAAAAAAAAAAAAAAAAAAAAAAAAAAAAAAAAAAAAAAAAAAAAAAAAAAAAAAAAAAAAAAAAAAAAAAAAAAAAAAAAAAAAAAAAAAAAAAAAAAAAAAAAAAAAAAAAAAAAAAAAAAAAAAAAAAAAAAAAAAAAAAAAAAAAAAAAAAAAAAAAAAAAAAAAAAAAAAAAAAAAAAAAAAAAAAAAAAAAAAAAAAAAAAAAAAAAAAAAAAAAAAAAAAAAAAAAAAAAAAAAAAAAAAAAAAAAAAAAAAAAAAAAAAAAAAAAAAAAAAAAAAAAAAAAAAAAAAAAAAAAAAAAAAAAAAAAAAAAAAAAAAAAAAAAAAAAAAAAAAAAAAAAAAAAAAAAAAAAAAAAAAAAAAAAAAAAAAAAAAAAAAAAAAAAAAAAAAAAAAAAAAAAAAAAAAAAAAAAAAAAAAAAAAAAAAAAAAAAAAAAAAAAAAAAAAAAAAAAAAAAAAAAAAAAAAAAAAAAAAAAAAAAAAAAAAAAAAAAAAAAAAAAAAAAAAAAAAAAAAAAAAAAAAAAAAAAAAAAAAAAAAAAAAAAAAAAAAAAAAAAAAAAAAAAAAAAAAAAAAAAAAAAAAAAAAAAAAAAAAAAAAAAAAAAAAAAAAAAAAAAAAAAAAAAAAAAAAAAAAAAAAAAAAAAAAAAAAAAAAAAAAAAAAAAAAAAAAAAAAAAAAAAAAAAAAAAAAAAAAAAAAAAAAAAAAAAAAAAAAAAAAAAAAAAAAAAAAAAAAAAAAAAAAAAAAAAAAAAAAAAAAAAAAAAAAAAAAAAAAAAAAAAAAAAAAAAAAAAAAAAAAAAAAAAAAAAAAAAAAAAAAAAAAAAAAAAAAAAAAAAAAAAAAAAAAAAAAAAAAAAAAAAAAAAAAAAAAAAAAAAAAAAAAAAAAAAAAAAAAAAAAACwAAAAAHgABAAAIHgAHAAAQAACAAAAMCCBQAIAAABAhBgBAsSLFAQACAgA7\"><title>Layer: hidden (hidden)\n output range: (-1.0, 1.0)\n shape = (30,)\n Keras class = Dense\n activation = relu</title></image><text x=\"288.0\" y=\"192.0\" font-family=\"monospace\" font-size=\"12\" text-anchor=\"middle\" fill=\"black\" alignment-baseline=\"central\"  transform=\"rotate(-90 288.0 192.0) translate(2)\" >hidden</text><line x1=\"175.0\" y1=\"244\" x2=\"175.0\" y2=\"217\" stroke=\"black\" stroke-width=\"2\" marker-end=\"url(#arrow)\"><title>Weights from flat to hidden\n hidden/kernel has shape (512, 30)\n hidden/bias has shape (30,)</title></line><rect x=\"74.0\" y=\"244\" width=\"202\" height=\"52\" style=\"fill:none;stroke:black;stroke-width:2\"/><image id=\"picture-dashboard-MNIST_CNN-809729_flat-rotated_3\" class=\"picture-dashboard-MNIST_CNN-809729_flat-rotated\" x=\"75.0\" y=\"245\" height=\"50\" width=\"200\" preserveAspectRatio=\"none\" href=\"data:image/gif;base64,R0lGODdhAAIBAIcAAPv6/efn/9fX/8jI/7a2/62t/wAAAAAAAAAAAAAAAAAAAAAAAAAAAAAAAAAAAAAAAAAAAAAAAAAAAAAAAAAAAAAAAAAAAAAAAAAAAAAAAAAAAAAAAAAAAAAAAAAAAAAAAAAAAAAAAAAAAAAAAAAAAAAAAAAAAAAAAAAAAAAAAAAAAAAAAAAAAAAAAAAAAAAAAAAAAAAAAAAAAAAAAAAAAAAAAAAAAAAAAAAAAAAAAAAAAAAAAAAAAAAAAAAAAAAAAAAAAAAAAAAAAAAAAAAAAAAAAAAAAAAAAAAAAAAAAAAAAAAAAAAAAAAAAAAAAAAAAAAAAAAAAAAAAAAAAAAAAAAAAAAAAAAAAAAAAAAAAAAAAAAAAAAAAAAAAAAAAAAAAAAAAAAAAAAAAAAAAAAAAAAAAAAAAAAAAAAAAAAAAAAAAAAAAAAAAAAAAAAAAAAAAAAAAAAAAAAAAAAAAAAAAAAAAAAAAAAAAAAAAAAAAAAAAAAAAAAAAAAAAAAAAAAAAAAAAAAAAAAAAAAAAAAAAAAAAAAAAAAAAAAAAAAAAAAAAAAAAAAAAAAAAAAAAAAAAAAAAAAAAAAAAAAAAAAAAAAAAAAAAAAAAAAAAAAAAAAAAAAAAAAAAAAAAAAAAAAAAAAAAAAAAAAAAAAAAAAAAAAAAAAAAAAAAAAAAAAAAAAAAAAAAAAAAAAAAAAAAAAAAAAAAAAAAAAAAAAAAAAAAAAAAAAAAAAAAAAAAAAAAAAAAAAAAAAAAAAAAAAAAAAAAAAAAAAAAAAAAAAAAAAAAAAAAAAAAAAAAAAAAAAAAAAAAAAAAAAAAAAAAAAAAAAAAAAAAAAAAAAAAAAAAAAAAAAAAAAAAAAAAAAAAAAAAAAAAAAAAAAAAAAAAAAAAAAAAAAAAAAAAAAAAAAAAAAAAAAAAAAAAAAAAAAAAAAAAAAAAAAAAAAAAAAAAAAAAAAAAAAAAAAAAAAAAAAAAAAAAAAAAAAAAAAAAAAAAAAAAAAAAAAAAAAAAAAAAAAAAAAAACwAAAAAAAIBAAAI/wADCAAQQEAAAAgDAFgIIEAAAQMAABAAoGIAAQEAaBQQYIAAAAEABAgAAEAAAAEAqBQQYAAAAAMABAAgIIAAADgHABAgAIAAAAECABgKQACAowEAEAgAYECAAAAEBAgAoOoAAAAEANgKQACAr18FAAgAAAABAGgFBAAwAEAAAAACAJgbAAAAAQDyAggQAECAAAMEDAAQAEAAAQEABBAAQAAAAAEABBAAIEAAAJgzB9hMgICAzwAEBBAAAIAAAQEABBAAIIAAAAEEAJgNIAAAAAMCECAggEAAAAEEBAAAYIAAAMgHAABAAAAAAQAEAJgeoPoAAgIEFAAAIAABAQAEBPgQAABAAADoAwAIAKC9+/fwAwAAEAAAgAABAOgPAABAAIAAAgAgWNAgQQEBAAQAACAAAAADAgCgOCAAgAAAAAwA0NEjgAAACAAIMAAAgAADAAAQMCAAAJgBAgAYAABAAAABAOwMEACAAAICAggAAEDAAAAABggAEABAAABRAwAQAMDqVaxYAwQAACAAAAABAgAgOwAAgAAAAgQA0NYtgAAABAAQMABAAAACAAAIIEAAAMACAgAQAADAAAABACwOACCAAAIAAAwAAEDAAAAABgTgDABAAAABBAAgDSAAANQBAgAIMEBAgAAAAAQQAABAAAAAAgAIEABAQAA7\"><title>Layer: flat (hidden)\n output range: (-Infinity, +Infinity)\n Keras class = Flatten</title></image><text x=\"288.0\" y=\"272.0\" font-family=\"monospace\" font-size=\"12\" text-anchor=\"middle\" fill=\"black\" alignment-baseline=\"central\"  transform=\"rotate(-90 288.0 272.0) translate(2)\" >flat</text><line x1=\"175.0\" y1=\"324\" x2=\"175.0\" y2=\"297\" stroke=\"black\" stroke-width=\"2\" marker-end=\"url(#arrow)\"><title>Weights from maxpool2 to flat</title></line><rect x=\"74.0\" y=\"324\" width=\"202\" height=\"202\" style=\"fill:none;stroke:black;stroke-width:2\"/><image id=\"picture-dashboard-MNIST_CNN-809729_maxpool2-rotated_4\" class=\"picture-dashboard-MNIST_CNN-809729_maxpool2-rotated\" x=\"75.0\" y=\"325\" height=\"200\" width=\"200\" preserveAspectRatio=\"none\" href=\"data:image/gif;base64,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\"><title>Layer: maxpool2 (hidden)\n output range: (-Infinity, +Infinity)\n Keras class = MaxPooling2D</title></image><text x=\"288.0\" y=\"427.0\" font-family=\"monospace\" font-size=\"12\" text-anchor=\"middle\" fill=\"black\" alignment-baseline=\"central\"  transform=\"rotate(-90 288.0 427.0) translate(2)\" >maxpool2</text><text x=\"88.0\" y=\"310\" font-family=\"monospace\" font-size=\"12\" text-anchor=\"middle\" fill=\"black\" alignment-baseline=\"central\"  transform=\"rotate(-90 88.0 310) translate(2)\" >32</text><text x=\"273.0\" y=\"540\" font-family=\"monospace\" font-size=\"12\" text-anchor=\"middle\" fill=\"black\" alignment-baseline=\"central\"  transform=\"rotate(-90 273.0 540) translate(2)\" >0</text><line x1=\"175.0\" y1=\"554\" x2=\"175.0\" y2=\"527\" stroke=\"black\" stroke-width=\"2\" marker-end=\"url(#arrow)\"><title>Weights from conv2D_2 to maxpool2</title></line><rect x=\"74.0\" y=\"554\" width=\"202\" height=\"202\" style=\"fill:none;stroke:black;stroke-width:2\"/><image id=\"picture-dashboard-MNIST_CNN-809729_conv2D_2-rotated_5\" class=\"picture-dashboard-MNIST_CNN-809729_conv2D_2-rotated\" x=\"75.0\" y=\"555\" height=\"200\" width=\"200\" preserveAspectRatio=\"none\" href=\"data:image/gif;base64,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\"><title>Layer: conv2D_2 (hidden)\n output range: (-1.0, 1.0)\n dropout = 0.2\n Keras class = Conv2D\n activation = relu</title></image><text x=\"288.0\" y=\"657.0\" font-family=\"monospace\" font-size=\"12\" text-anchor=\"middle\" fill=\"black\" alignment-baseline=\"central\"  transform=\"rotate(-90 288.0 657.0) translate(2)\" >conv2D_2</text><text x=\"88.0\" y=\"540\" font-family=\"monospace\" font-size=\"12\" text-anchor=\"middle\" fill=\"black\" alignment-baseline=\"central\"  transform=\"rotate(-90 88.0 540) translate(2)\" >32</text><text x=\"273.0\" y=\"770\" font-family=\"monospace\" font-size=\"12\" text-anchor=\"middle\" fill=\"black\" alignment-baseline=\"central\"  transform=\"rotate(-90 273.0 770) translate(2)\" >0</text><text x=\"62.0\" y=\"560\" font-family=\"monospace\" font-size=\"24.0\" text-anchor=\"middle\" fill=\"black\" alignment-baseline=\"central\"  transform=\"rotate(-90 62.0 560) translate(2)\" >&#10683;</text><line x1=\"175.0\" y1=\"784\" x2=\"175.0\" y2=\"757\" stroke=\"black\" stroke-width=\"2\" marker-end=\"url(#arrow)\"><title>Weights from maxpool1 to conv2D_2\n conv2D_2/kernel has shape (5, 5, 16, 32)\n conv2D_2/bias has shape (32,)</title></line><rect x=\"74.0\" y=\"784\" width=\"202\" height=\"202\" style=\"fill:none;stroke:black;stroke-width:2\"/><image id=\"picture-dashboard-MNIST_CNN-809729_maxpool1-rotated_6\" class=\"picture-dashboard-MNIST_CNN-809729_maxpool1-rotated\" x=\"75.0\" y=\"785\" height=\"200\" width=\"200\" preserveAspectRatio=\"none\" href=\"data:image/gif;base64,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\"><title>Layer: maxpool1 (hidden)\n output range: (-Infinity, +Infinity)\n Keras class = MaxPooling2D</title></image><text x=\"288.0\" y=\"887.0\" font-family=\"monospace\" font-size=\"12\" text-anchor=\"middle\" fill=\"black\" alignment-baseline=\"central\"  transform=\"rotate(-90 288.0 887.0) translate(2)\" >maxpool1</text><text x=\"88.0\" y=\"770\" font-family=\"monospace\" font-size=\"12\" text-anchor=\"middle\" fill=\"black\" alignment-baseline=\"central\"  transform=\"rotate(-90 88.0 770) translate(2)\" >16</text><text x=\"273.0\" y=\"1000\" font-family=\"monospace\" font-size=\"12\" text-anchor=\"middle\" fill=\"black\" alignment-baseline=\"central\"  transform=\"rotate(-90 273.0 1000) translate(2)\" >0</text><line x1=\"175.0\" y1=\"1014\" x2=\"175.0\" y2=\"987\" stroke=\"black\" stroke-width=\"2\" marker-end=\"url(#arrow)\"><title>Weights from conv2D_1 to maxpool1</title></line><rect x=\"74.0\" y=\"1014\" width=\"202\" height=\"202\" style=\"fill:none;stroke:black;stroke-width:2\"/><image id=\"picture-dashboard-MNIST_CNN-809729_conv2D_1-rotated_7\" class=\"picture-dashboard-MNIST_CNN-809729_conv2D_1-rotated\" x=\"75.0\" y=\"1015\" height=\"200\" width=\"200\" preserveAspectRatio=\"none\" href=\"data:image/gif;base64,R0lGODdhGAAYAIcAAP78/ba2/9fX/6am/+bm/8bG/4aG/5eX/2lp/3d3/0hI/1dX/ygo/wAAAAAAAAAAAAAAAAAAAAAAAAAAAAAAAAAAAAAAAAAAAAAAAAAAAAAAAAAAAAAAAAAAAAAAAAAAAAAAAAAAAAAAAAAAAAAAAAAAAAAAAAAAAAAAAAAAAAAAAAAAAAAAAAAAAAAAAAAAAAAAAAAAAAAAAAAAAAAAAAAAAAAAAAAAAAAAAAAAAAAAAAAAAAAAAAAAAAAAAAAAAAAAAAAAAAAAAAAAAAAAAAAAAAAAAAAAAAAAAAAAAAAAAAAAAAAAAAAAAAAAAAAAAAAAAAAAAAAAAAAAAAAAAAAAAAAAAAAAAAAAAAAAAAAAAAAAAAAAAAAAAAAAAAAAAAAAAAAAAAAAAAAAAAAAAAAAAAAAAAAAAAAAAAAAAAAAAAAAAAAAAAAAAAAAAAAAAAAAAAAAAAAAAAAAAAAAAAAAAAAAAAAAAAAAAAAAAAAAAAAAAAAAAAAAAAAAAAAAAAAAAAAAAAAAAAAAAAAAAAAAAAAAAAAAAAAAAAAAAAAAAAAAAAAAAAAAAAAAAAAAAAAAAAAAAAAAAAAAAAAAAAAAAAAAAAAAAAAAAAAAAAAAAAAAAAAAAAAAAAAAAAAAAAAAAAAAAAAAAAAAAAAAAAAAAAAAAAAAAAAAAAAAAAAAAAAAAAAAAAAAAAAAAAAAAAAAAAAAAAAAAAAAAAAAAAAAAAAAAAAAAAAAAAAAAAAAAAAAAAAAAAAAAAAAAAAAAAAAAAAAAAAAAAAAAAAAAAAAAAAAAAAAAAAAAAAAAAAAAAAAAAAAAAAAAAAAAAAAAAAAAAAAAAAAAAAAAAAAAAAAAAAAAAAAAAAAAAAAAAAAAAAAAAAAAAAAAAAAAAAAAAAAAAAAAAAAAAAAAAAAAAAAAAAAAAAAAAAAAAAAAAAAAAAAAAAAAAAAAAAAAAAAAAAAAAAAAAAAAAAAAAAAAAAAAAAAAAAAAAAAAAAAAAAAAAAAAAAAAAAAAAAAAAAAACwAAAAAGAAYAEAI/wABCBxIsKDBgwAGKAggwMAAAwgOHAhAQECBiwAyaiQg4ACCAAIIABhJsuTIAgEAqARAIECAAQFiFghQAIDNmzhzDlBwQIAAAECDBhiwIMEBBAYCAFi6NMAAAFCjSp1KNSoBAgIIANjKtatXrgEMGGCwwMABAAUCqBUAoK3btwACKDhAQAAAAAIEDECAwECAAgMCBwBAGICAAAsMABAAoLFjxwUGDECQAIBlAAIQDADAubPnz6BDix5NurRnAagDqC5AAIDr17BjEwiQIIGBAwQEFCgQQACA38CDAw+QYIABBQoSDBhAQECBAgEEAJhOnXoABQcICBAQIIABBAYOFHUQUCBAAQEA0qsPoOCAgAIEAMgHEMDAAgMDAgwIUACAf4AAAAxYcIAAAQAJFQIQMGAAggQKAgCgSEBAgAUDCBAA0NHjRwIBAhgAUBJAgQQHBAgA0NLly5cEAMycacAAAAAEAOzk2dOnTwEAhA4lWtToUaRFAwIAOw==\"><title>Layer: conv2D_1 (hidden)\n output range: (-1.0, 1.0)\n dropout = 0.2\n Keras class = Conv2D\n activation = relu</title></image><text x=\"288.0\" y=\"1117.0\" font-family=\"monospace\" font-size=\"12\" text-anchor=\"middle\" fill=\"black\" alignment-baseline=\"central\"  transform=\"rotate(-90 288.0 1117.0) translate(2)\" >conv2D_1</text><text x=\"88.0\" y=\"1000\" font-family=\"monospace\" font-size=\"12\" text-anchor=\"middle\" fill=\"black\" alignment-baseline=\"central\"  transform=\"rotate(-90 88.0 1000) translate(2)\" >16</text><text x=\"273.0\" y=\"1230\" font-family=\"monospace\" font-size=\"12\" text-anchor=\"middle\" fill=\"black\" alignment-baseline=\"central\"  transform=\"rotate(-90 273.0 1230) translate(2)\" >0</text><text x=\"62.0\" y=\"1020\" font-family=\"monospace\" font-size=\"24.0\" text-anchor=\"middle\" fill=\"black\" alignment-baseline=\"central\"  transform=\"rotate(-90 62.0 1020) translate(2)\" >&#10683;</text><line x1=\"175.0\" y1=\"1244\" x2=\"175.0\" y2=\"1217\" stroke=\"black\" stroke-width=\"2\" marker-end=\"url(#arrow)\"><title>Weights from input to conv2D_1\n conv2D_1/kernel has shape (5, 5, 1, 16)\n conv2D_1/bias has shape (16,)</title></line><rect x=\"74.0\" y=\"1244\" width=\"202\" height=\"202\" style=\"fill:none;stroke:black;stroke-width:2\"/><image id=\"picture-dashboard-MNIST_CNN-809729_input-rotated_8\" class=\"picture-dashboard-MNIST_CNN-809729_input-rotated\" x=\"75.0\" y=\"1245\" height=\"200\" width=\"200\" preserveAspectRatio=\"none\" href=\"data:image/gif;base64,R0lGODdhHAAcAIcAAAAAAPz8/MfHxzk5OUVFRRQUFObm5nZ2dtra2iYmJoWFhaampri4uFNTU5ubm2lpaQAAAAAAAAAAAAAAAAAAAAAAAAAAAAAAAAAAAAAAAAAAAAAAAAAAAAAAAAAAAAAAAAAAAAAAAAAAAAAAAAAAAAAAAAAAAAAAAAAAAAAAAAAAAAAAAAAAAAAAAAAAAAAAAAAAAAAAAAAAAAAAAAAAAAAAAAAAAAAAAAAAAAAAAAAAAAAAAAAAAAAAAAAAAAAAAAAAAAAAAAAAAAAAAAAAAAAAAAAAAAAAAAAAAAAAAAAAAAAAAAAAAAAAAAAAAAAAAAAAAAAAAAAAAAAAAAAAAAAAAAAAAAAAAAAAAAAAAAAAAAAAAAAAAAAAAAAAAAAAAAAAAAAAAAAAAAAAAAAAAAAAAAAAAAAAAAAAAAAAAAAAAAAAAAAAAAAAAAAAAAAAAAAAAAAAAAAAAAAAAAAAAAAAAAAAAAAAAAAAAAAAAAAAAAAAAAAAAAAAAAAAAAAAAAAAAAAAAAAAAAAAAAAAAAAAAAAAAAAAAAAAAAAAAAAAAAAAAAAAAAAAAAAAAAAAAAAAAAAAAAAAAAAAAAAAAAAAAAAAAAAAAAAAAAAAAAAAAAAAAAAAAAAAAAAAAAAAAAAAAAAAAAAAAAAAAAAAAAAAAAAAAAAAAAAAAAAAAAAAAAAAAAAAAAAAAAAAAAAAAAAAAAAAAAAAAAAAAAAAAAAAAAAAAAAAAAAAAAAAAAAAAAAAAAAAAAAAAAAAAAAAAAAAAAAAAAAAAAAAAAAAAAAAAAAAAAAAAAAAAAAAAAAAAAAAAAAAAAAAAAAAAAAAAAAAAAAAAAAAAAAAAAAAAAAAAAAAAAAAAAAAAAAAAAAAAAAAAAAAAAAAAAAAAAAAAAAAAAAAAAAAAAAAAAAAAAAAAAAAAAAAAAAAAAAAAAAAAAAAAAAAAAAAAAAAAAAAAAAAAAAAAAAAAAAAAAAAAAAAAAAAAAAAAAAAAAAAAAAAAAAAAAAAAAAAAAAAAAAAACwAAAAAHAAcAEAI/wABCBxIsKDBgwgFBDAQIICBAQAiSpxIkWKCAAYKANjIsSOAAgoCiARAsqTJkyhTqlzJkqWAAAQAyJx5IEAABAQA6NzJcyeDAAcACB1KtKjRo0iTJh2g4EEBAFCjSp1KNaqAAAMAFFAQoCuDAQDCih1LNqwAAwDSqlVbQECAtwEQFABAty5dBwEOANjLt6/fv4ADCx5MuLDhw4gTKza8IEAABA0SAJhMubLlywAEGCjQwECAAAwGABhNurTp0gICEADAeoACAQECLEgAoLbt27gFBCAAoLdvAAQQBAhwYMCABACSK18uIAABANCjS09gIIB1AQCya88+IMACAODDizAXP+DAAQDo06N3EIAAgPfw48ufH78BAgIA8uvfz7+/f4AABA4kWNDgQYQJFS5EGBAAOw==\"><title>Layer: input (input)\n output range: (0.0, 1.0)\n shape = (28, 28, 1)\n Keras class = Input</title></image><text x=\"288.0\" y=\"1347.0\" font-family=\"monospace\" font-size=\"12\" text-anchor=\"middle\" fill=\"black\" alignment-baseline=\"central\"  transform=\"rotate(-90 288.0 1347.0) translate(2)\" >input</text><text x=\"88.0\" y=\"1230\" font-family=\"monospace\" font-size=\"12\" text-anchor=\"middle\" fill=\"black\" alignment-baseline=\"central\"  transform=\"rotate(-90 88.0 1230) translate(2)\" >1</text><text x=\"273.0\" y=\"1460\" font-family=\"monospace\" font-size=\"12\" text-anchor=\"middle\" fill=\"black\" alignment-baseline=\"central\"  transform=\"rotate(-90 273.0 1460) translate(2)\" >0</text><text x=\"18\" y=\"735.0\" font-family=\"monospace\" font-size=\"15\" text-anchor=\"middle\" fill=\"black\" alignment-baseline=\"central\"  transform=\"rotate(-90 18 735.0) translate(2)\" >MNIST_CNN</text></svg></g></svg></p></td>\n</tr>\n<tr>\n  <td valign=\"top\" align=\"center\"><p style=\"text-align:center\"><b>conv2D_1 features</b></p><table><tr><td style=\"border: 1px solid black;\"><img style=\"image-rendering: pixelated;\" class=\"MNIST_CNN_conv2D_1_feature0\" src=\"data:image/gif;base64,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\"/><br/><center>Feature 0</center></td><td style=\"border: 1px solid black;\"><img style=\"image-rendering: pixelated;\" class=\"MNIST_CNN_conv2D_1_feature1\" src=\"data:image/gif;base64,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\"/><br/><center>Feature 1</center></td><td style=\"border: 1px solid black;\"><img style=\"image-rendering: pixelated;\" class=\"MNIST_CNN_conv2D_1_feature2\" src=\"data:image/gif;base64,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\"/><br/><center>Feature 2</center></td><td style=\"border: 1px solid black;\"><img style=\"image-rendering: pixelated;\" class=\"MNIST_CNN_conv2D_1_feature3\" src=\"data:image/gif;base64,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\"/><br/><center>Feature 3</center></td><td style=\"border: 1px solid black;\"><img style=\"image-rendering: pixelated;\" class=\"MNIST_CNN_conv2D_1_feature4\" src=\"data:image/gif;base64,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\"/><br/><center>Feature 4</center></td><td style=\"border: 1px solid black;\"><img style=\"image-rendering: pixelated;\" class=\"MNIST_CNN_conv2D_1_feature5\" src=\"data:image/gif;base64,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\"/><br/><center>Feature 5</center></td><td style=\"border: 1px solid black;\"><img style=\"image-rendering: pixelated;\" class=\"MNIST_CNN_conv2D_1_feature6\" src=\"data:image/gif;base64,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\"/><br/><center>Feature 6</center></td><td style=\"border: 1px solid black;\"><img style=\"image-rendering: pixelated;\" class=\"MNIST_CNN_conv2D_1_feature7\" src=\"data:image/gif;base64,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\"/><br/><center>Feature 7</center></td></tr><tr><td style=\"border: 1px solid black;\"><img style=\"image-rendering: pixelated;\" class=\"MNIST_CNN_conv2D_1_feature8\" src=\"data:image/gif;base64,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\"/><br/><center>Feature 8</center></td><td style=\"border: 1px solid black;\"><img style=\"image-rendering: pixelated;\" class=\"MNIST_CNN_conv2D_1_feature9\" src=\"data:image/gif;base64,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\"/><br/><center>Feature 9</center></td><td style=\"border: 1px solid black;\"><img style=\"image-rendering: pixelated;\" class=\"MNIST_CNN_conv2D_1_feature10\" src=\"data:image/gif;base64,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\"/><br/><center>Feature 10</center></td><td style=\"border: 1px solid black;\"><img style=\"image-rendering: pixelated;\" class=\"MNIST_CNN_conv2D_1_feature11\" src=\"data:image/gif;base64,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\"/><br/><center>Feature 11</center></td><td style=\"border: 1px solid black;\"><img style=\"image-rendering: pixelated;\" class=\"MNIST_CNN_conv2D_1_feature12\" src=\"data:image/gif;base64,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\"/><br/><center>Feature 12</center></td><td style=\"border: 1px solid black;\"><img style=\"image-rendering: pixelated;\" class=\"MNIST_CNN_conv2D_1_feature13\" src=\"data:image/gif;base64,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\"/><br/><center>Feature 13</center></td><td style=\"border: 1px solid black;\"><img style=\"image-rendering: pixelated;\" class=\"MNIST_CNN_conv2D_1_feature14\" src=\"data:image/gif;base64,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\"/><br/><center>Feature 14</center></td><td style=\"border: 1px solid black;\"><img style=\"image-rendering: pixelated;\" class=\"MNIST_CNN_conv2D_1_feature15\" src=\"data:image/gif;base64,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\"/><br/><center>Feature 15</center></td></tr><tr></tr></table></td>\n</tr>\n</table>"
      }
     },
     "cdb73af7323048da88fca049a846f1ec": {
      "model_module": "@jupyter-widgets/controls",
      "model_module_version": "1.1.0",
      "model_name": "DescriptionStyleModel",
      "state": {
       "description_width": ""
      }
     },
     "cedf1a4834f749e6aebb911a3b1d92a0": {
      "model_module": "@jupyter-widgets/controls",
      "model_module_version": "1.1.0",
      "model_name": "SelectModel",
      "state": {
       "_options_labels": [
        "",
        "input"
       ],
       "description": "Features:",
       "index": 0,
       "layout": "IPY_MODEL_b9542e6eeda3481aa7037bb20eb3c1a3",
       "rows": 1,
       "style": "IPY_MODEL_7eccd3760f2644e88e1b1f6602a6577b"
      }
     },
     "cf1600e0f1b24e20a1822e33a797063a": {
      "model_module": "@jupyter-widgets/controls",
      "model_module_version": "1.1.0",
      "model_name": "ButtonModel",
      "state": {
       "icon": "fast-backward",
       "layout": "IPY_MODEL_5adfc25633984c3abfee32557fd7eb9a",
       "style": "IPY_MODEL_b191acc0d5df4a7f977ce416cd93fd93"
      }
     },
     "cf3c1bc81dd243afaa8790a9b36c0130": {
      "model_module": "@jupyter-widgets/controls",
      "model_module_version": "1.1.0",
      "model_name": "CheckboxModel",
      "state": {
       "description": "Rotate",
       "disabled": false,
       "layout": "IPY_MODEL_341856041f3b496c96ae531dc585006f",
       "style": "IPY_MODEL_deb75229c9bc482690709118852bf288",
       "value": true
      }
     },
     "d07bda5c41964c099e417dd192fff8ad": {
      "model_module": "@jupyter-widgets/controls",
      "model_module_version": "1.1.0",
      "model_name": "DescriptionStyleModel",
      "state": {
       "description_width": ""
      }
     },
     "d2cd27d2b4c9498885aa4d5d8a1e2398": {
      "model_module": "@jupyter-widgets/controls",
      "model_module_version": "1.1.0",
      "model_name": "ButtonModel",
      "state": {
       "icon": "fast-forward",
       "layout": "IPY_MODEL_336fc9097bf140a8919d569417a965eb",
       "style": "IPY_MODEL_de2b50a05f26493aa990ac8a6e835b0d"
      }
     },
     "d340d59d5a924147afd6cfa7d37a1a02": {
      "model_module": "@jupyter-widgets/controls",
      "model_module_version": "1.1.0",
      "model_name": "ButtonModel",
      "state": {
       "icon": "save",
       "layout": "IPY_MODEL_656e46c390c2441684362109e9bbf1ef",
       "style": "IPY_MODEL_370088928f1b486eba2d13f627604ff1"
      }
     },
     "d579da9cbc2740098e345058f689d85a": {
      "model_module": "@jupyter-widgets/controls",
      "model_module_version": "1.1.0",
      "model_name": "FloatTextModel",
      "state": {
       "description": "Rightmost color maps to:",
       "layout": "IPY_MODEL_0071a1247f7246b0a6250fea0700500d",
       "step": null,
       "style": "IPY_MODEL_4cf216b58b8241f5a43dfd77822dcfe0",
       "value": 1
      }
     },
     "d6158affed45456fbbf0d8b42d7c1501": {
      "model_module": "@jupyter-widgets/controls",
      "model_module_version": "1.1.0",
      "model_name": "ButtonModel",
      "state": {
       "description": "Play",
       "icon": "play",
       "layout": "IPY_MODEL_2550c698a94341ccbb3e2bbca626853e",
       "style": "IPY_MODEL_ba19ce5fa28d427482d6ced232c0d8b8"
      }
     },
     "d866019a61234bcd88406835b327b11a": {
      "model_module": "@jupyter-widgets/base",
      "model_module_version": "1.0.0",
      "model_name": "LayoutModel",
      "state": {
       "width": "100%"
      }
     },
     "da16d7d85e524cec9527931754feb36f": {
      "model_module": "@jupyter-widgets/base",
      "model_module_version": "1.0.0",
      "model_name": "LayoutModel",
      "state": {}
     },
     "dcd79917bf784abbb34a64a0b82ae383": {
      "model_module": "@jupyter-widgets/controls",
      "model_module_version": "1.1.0",
      "model_name": "IntTextModel",
      "state": {
       "description": "Feature to show:",
       "layout": "IPY_MODEL_8dcbdbaa8225480eb4f5023e7ef0f724",
       "step": 1,
       "style": "IPY_MODEL_0daf6aed297c4383a59a3233383e9c8c"
      }
     },
     "dd0d9ca2fec442bc85adf216632689c2": {
      "model_module": "@jupyter-widgets/base",
      "model_module_version": "1.0.0",
      "model_name": "LayoutModel",
      "state": {
       "width": "100%"
      }
     },
     "de2b50a05f26493aa990ac8a6e835b0d": {
      "model_module": "@jupyter-widgets/controls",
      "model_module_version": "1.1.0",
      "model_name": "ButtonStyleModel",
      "state": {}
     },
     "de8d89202bce4c35bb2cbed3c17433c2": {
      "model_module": "@jupyter-widgets/controls",
      "model_module_version": "1.1.0",
      "model_name": "CheckboxModel",
      "state": {
       "description": "Show Targets",
       "disabled": false,
       "layout": "IPY_MODEL_890d43ddcb22417ab2745f8c33ab6a45",
       "style": "IPY_MODEL_3c5370e9f9b440ad86102e15b315c4ce",
       "value": true
      }
     },
     "deb75229c9bc482690709118852bf288": {
      "model_module": "@jupyter-widgets/controls",
      "model_module_version": "1.1.0",
      "model_name": "DescriptionStyleModel",
      "state": {
       "description_width": ""
      }
     },
     "df285cffd613472ca1f3f576ffb15a46": {
      "model_module": "@jupyter-widgets/controls",
      "model_module_version": "1.1.0",
      "model_name": "ButtonModel",
      "state": {
       "icon": "backward",
       "layout": "IPY_MODEL_ec2d47a16bd142a9a2b5633bf068db8e",
       "style": "IPY_MODEL_7f25880544c34a66b94c47fe791c0504"
      }
     },
     "e06ac6830b8b467688a4f717cd15ed71": {
      "model_module": "@jupyter-widgets/controls",
      "model_module_version": "1.1.0",
      "model_name": "DescriptionStyleModel",
      "state": {
       "description_width": "initial"
      }
     },
     "e1369baf902a4243ac8ad704d3ae39b2": {
      "model_module": "@jupyter-widgets/controls",
      "model_module_version": "1.1.0",
      "model_name": "HBoxModel",
      "state": {
       "children": [
        "IPY_MODEL_78931429e4a1402a91a6edba90ff33aa",
        "IPY_MODEL_d340d59d5a924147afd6cfa7d37a1a02"
       ],
       "layout": "IPY_MODEL_678856fe30a24311adc65f3a9f2f39f0"
      }
     },
     "e187f9d7d4234071a9060cb110228f33": {
      "model_module": "@jupyter-widgets/controls",
      "model_module_version": "1.1.0",
      "model_name": "SliderStyleModel",
      "state": {
       "description_width": ""
      }
     },
     "e29eb67e3dee40d8aea903ddfc4f9b74": {
      "model_module": "@jupyter-widgets/controls",
      "model_module_version": "1.1.0",
      "model_name": "DescriptionStyleModel",
      "state": {
       "description_width": ""
      }
     },
     "e3e02432eba84730bd9d405c229f232d": {
      "model_module": "@jupyter-widgets/controls",
      "model_module_version": "1.1.0",
      "model_name": "DescriptionStyleModel",
      "state": {
       "description_width": "initial"
      }
     },
     "e49d4435cc53405b9fd41c8412ae757a": {
      "model_module": "@jupyter-widgets/controls",
      "model_module_version": "1.1.0",
      "model_name": "VBoxModel",
      "state": {
       "children": [
        "IPY_MODEL_c7f90d5dd7814cfaa9ad70237f66d84e",
        "IPY_MODEL_6260ce90c46c4ffda35088dece0cc024",
        "IPY_MODEL_3335170290734ba8b2b10693d3c85bd5",
        "IPY_MODEL_fbd1086ba0df467ab2bbb0d2a1135c0f"
       ],
       "layout": "IPY_MODEL_870b1c1833754f6188611a91551b72cc"
      }
     },
     "e6d1d182031f4287ab0347a21cadc703": {
      "model_module": "@jupyter-widgets/base",
      "model_module_version": "1.0.0",
      "model_name": "LayoutModel",
      "state": {}
     },
     "e8a285be204e42cfb2443d55f8966130": {
      "model_module": "@jupyter-widgets/controls",
      "model_module_version": "1.1.0",
      "model_name": "VBoxModel",
      "state": {
       "children": [
        "IPY_MODEL_9c539f39cde945b082a5b517cc671cc7",
        "IPY_MODEL_7a70cec808ff4abfad24c1a98ef57a74",
        "IPY_MODEL_cbf3720012ea49eeafee50e6d601cd2f",
        "IPY_MODEL_9bfb4f9c8e8a4e7d821de5a86ec9ea4a"
       ],
       "layout": "IPY_MODEL_a8e4112399f44699853c7f817a395747"
      }
     },
     "e936b8d6e25d42df97338e26efd86e87": {
      "model_module": "@jupyter-widgets/controls",
      "model_module_version": "1.1.0",
      "model_name": "IntSliderModel",
      "state": {
       "continuous_update": false,
       "description": "Dataset index",
       "layout": "IPY_MODEL_5a090e19e0144928840aa790dc2bc24f",
       "max": 59999,
       "style": "IPY_MODEL_4689c585bf1b4d28a4c39f4962198d33"
      }
     },
     "e9b5f6e4cc7345c782b8e0844e0bef1d": {
      "model_module": "@jupyter-widgets/controls",
      "model_module_version": "1.1.0",
      "model_name": "IntTextModel",
      "state": {
       "description": "Horizontal space between banks:",
       "layout": "IPY_MODEL_341856041f3b496c96ae531dc585006f",
       "step": 1,
       "style": "IPY_MODEL_8b3131f03b0f4c1483050adba4cd61d1",
       "value": 150
      }
     },
     "e9d22ea976204142b02eac8cb0334f7e": {
      "model_module": "@jupyter-widgets/controls",
      "model_module_version": "1.1.0",
      "model_name": "FloatTextModel",
      "state": {
       "description": "Leftmost color maps to:",
       "layout": "IPY_MODEL_7db75fe7a5b94d4897e806457801ed48",
       "step": null,
       "style": "IPY_MODEL_2fa4642435c541e7bafe312c54a28bc1",
       "value": -1
      }
     },
     "eb4f5fe52ccb4f389bdb18ee4b6acb8c": {
      "model_module": "@jupyter-widgets/controls",
      "model_module_version": "1.1.0",
      "model_name": "DescriptionStyleModel",
      "state": {
       "description_width": ""
      }
     },
     "ec2d47a16bd142a9a2b5633bf068db8e": {
      "model_module": "@jupyter-widgets/base",
      "model_module_version": "1.0.0",
      "model_name": "LayoutModel",
      "state": {
       "width": "100%"
      }
     },
     "edc079125691499dacd56654baf1f4af": {
      "model_module": "@jupyter-widgets/base",
      "model_module_version": "1.0.0",
      "model_name": "LayoutModel",
      "state": {}
     },
     "eff961f61d3d43eb82f36ebd4595c187": {
      "model_module": "@jupyter-widgets/base",
      "model_module_version": "1.0.0",
      "model_name": "LayoutModel",
      "state": {
       "width": "52%"
      }
     },
     "f0d1d04a380f4a9a9699856e0a17e970": {
      "model_module": "@jupyter-widgets/base",
      "model_module_version": "1.0.0",
      "model_name": "LayoutModel",
      "state": {
       "width": "100%"
      }
     },
     "f65e5bcc56ea43179f4abb24f5059669": {
      "model_module": "@jupyter-widgets/controls",
      "model_module_version": "1.1.0",
      "model_name": "ButtonStyleModel",
      "state": {}
     },
     "f83c340fda884dd79e9a94e19bff41d7": {
      "model_module": "@jupyter-widgets/controls",
      "model_module_version": "1.1.0",
      "model_name": "ButtonModel",
      "state": {
       "icon": "save",
       "layout": "IPY_MODEL_85da2b581032401c8376bc83e02b0f15",
       "style": "IPY_MODEL_a2941e43e7bf4d2480ce0da0c1f56e28"
      }
     },
     "f93e086b47d446e4afce976f67ab2eb1": {
      "model_module": "@jupyter-widgets/controls",
      "model_module_version": "1.1.0",
      "model_name": "CheckboxModel",
      "state": {
       "description": "Show Targets",
       "disabled": false,
       "layout": "IPY_MODEL_341856041f3b496c96ae531dc585006f",
       "style": "IPY_MODEL_0b3df129d4e44332aae04f6b88f43c2e",
       "value": true
      }
     },
     "fb23fcf34133433eafdef888c742437b": {
      "model_module": "@jupyter-widgets/base",
      "model_module_version": "1.0.0",
      "model_name": "LayoutModel",
      "state": {
       "height": "40px"
      }
     },
     "fbd1086ba0df467ab2bbb0d2a1135c0f": {
      "model_module": "@jupyter-widgets/output",
      "model_module_version": "1.0.0",
      "model_name": "OutputModel",
      "state": {
       "layout": "IPY_MODEL_1de8cd662fe4440e9ea45e369fb27faa"
      }
     }
    },
    "version_major": 2,
    "version_minor": 0
   }
  }
 },
 "nbformat": 4,
 "nbformat_minor": 2
}
