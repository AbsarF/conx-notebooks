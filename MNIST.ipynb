{
 "cells": [
  {
   "cell_type": "markdown",
   "metadata": {},
   "source": [
    "# The MNIST Dataset\n",
    "\n",
    "In this notebook, we will create a neural network to recognize handwritten digits from the famous MNIST dataset.\n",
    "\n",
    "We will experiment with two different networks for this task. The first one will be a *multi-layer perceptron* (MLP), which is a standard type of feedforward neural network with fully-connected layers of weights, and the second will be a *convolutional neural network* (CNN), which takes advantage of the inherently two-dimensional spatial geometry of the input images.\n",
    "\n",
    "Let's begin by reading in the MNIST dataset and printing a short description of its contents."
   ]
  },
  {
   "cell_type": "code",
   "execution_count": 1,
   "metadata": {},
   "outputs": [
    {
     "name": "stderr",
     "output_type": "stream",
     "text": [
      "Using Theano backend.\n",
      "Conx, version 3.6.1\n"
     ]
    },
    {
     "data": {
      "text/markdown": [
       "**Dataset**: MNIST\n",
       "\n",
       "\n",
       "Original source: http://yann.lecun.com/exdb/mnist/\n",
       "\n",
       "The MNIST dataset contains 70,000 images of handwritten digits (zero\n",
       "to nine) that have been size-normalized and centered in a square grid\n",
       "of pixels.  Each image is a 28 × 28 × 1 array of floating-point numbers\n",
       "representing grayscale intensities ranging from 0 (black) to 1\n",
       "(white).  The target data consists of one-hot binary vectors of size\n",
       "10, corresponding to the digit classification categories zero through\n",
       "nine.  Some example MNIST images are shown below:\n",
       "\n",
       "![MNIST Images](https://github.com/Calysto/conx/raw/master/data/mnist_images.png)\n",
       "\n",
       "**Information**:\n",
       "   * name    : MNIST\n",
       "   * length  : 70000\n",
       "\n",
       "**Input Summary**:\n",
       "   * shape  : (28, 28, 1)\n",
       "   * range  : (0.0, 1.0)\n",
       "\n",
       "**Target Summary**:\n",
       "   * shape  : (10,)\n",
       "   * range  : (0.0, 1.0)\n",
       "\n"
      ],
      "text/plain": [
       "**Dataset**: MNIST\n",
       "\n",
       "\n",
       "Original source: http://yann.lecun.com/exdb/mnist/\n",
       "\n",
       "The MNIST dataset contains 70,000 images of handwritten digits (zero\n",
       "to nine) that have been size-normalized and centered in a square grid\n",
       "of pixels.  Each image is a 28 × 28 × 1 array of floating-point numbers\n",
       "representing grayscale intensities ranging from 0 (black) to 1\n",
       "(white).  The target data consists of one-hot binary vectors of size\n",
       "10, corresponding to the digit classification categories zero through\n",
       "nine.  Some example MNIST images are shown below:\n",
       "\n",
       "![MNIST Images](https://github.com/Calysto/conx/raw/master/data/mnist_images.png)\n",
       "\n",
       "**Information**:\n",
       "   * name    : MNIST\n",
       "   * length  : 70000\n",
       "\n",
       "**Input Summary**:\n",
       "   * shape  : (28, 28, 1)\n",
       "   * range  : (0.0, 1.0)\n",
       "\n",
       "**Target Summary**:\n",
       "   * shape  : (10,)\n",
       "   * range  : (0.0, 1.0)\n"
      ]
     },
     "metadata": {},
     "output_type": "display_data"
    }
   ],
   "source": [
    "import conx as cx\n",
    "mnist = cx.Dataset.get('MNIST')\n",
    "mnist.info()"
   ]
  },
  {
   "cell_type": "markdown",
   "metadata": {},
   "source": [
    "We will split the 70,000 digits into a training set of 60,000 images and a testing set of 10,000 images."
   ]
  },
  {
   "cell_type": "code",
   "execution_count": 2,
   "metadata": {},
   "outputs": [
    {
     "name": "stdout",
     "output_type": "stream",
     "text": [
      "_________________________________________________________________\n",
      "MNIST:\n",
      "Patterns    Shape                 Range                         \n",
      "=================================================================\n",
      "inputs      (28, 28, 1)           (0.0, 1.0)                    \n",
      "targets     (10,)                 (0.0, 1.0)                    \n",
      "=================================================================\n",
      "Total patterns: 70000\n",
      "   Training patterns: 60000\n",
      "   Testing patterns: 10000\n",
      "_________________________________________________________________\n"
     ]
    }
   ],
   "source": [
    "mnist.split(10000)\n",
    "mnist.summary()"
   ]
  },
  {
   "cell_type": "markdown",
   "metadata": {},
   "source": [
    "The training and testing images can be referenced independently, via the dataset properties `train_inputs` and `test_inputs`. The `inputs` property refers to all 70,000 input images."
   ]
  },
  {
   "cell_type": "code",
   "execution_count": 3,
   "metadata": {},
   "outputs": [
    {
     "name": "stdout",
     "output_type": "stream",
     "text": [
      "70000 total images\n",
      "60000 images for training\n",
      "10000 images for testing\n"
     ]
    }
   ],
   "source": [
    "print(len(mnist.inputs), 'total images')\n",
    "print(len(mnist.train_inputs), 'images for training')\n",
    "print(len(mnist.test_inputs), 'images for testing')"
   ]
  },
  {
   "cell_type": "markdown",
   "metadata": {},
   "source": [
    "Let's take a look at some individual input images."
   ]
  },
  {
   "cell_type": "code",
   "execution_count": 4,
   "metadata": {},
   "outputs": [
    {
     "data": {
      "image/png": "[encoded data removed]",
      "text/plain": [
       "<matplotlib.figure.Figure at 0x1071368d0>"
      ]
     },
     "metadata": {},
     "output_type": "display_data"
    }
   ],
   "source": [
    "cx.view(mnist.train_inputs[0])  # same as mnist.inputs[0]"
   ]
  },
  {
   "cell_type": "code",
   "execution_count": 5,
   "metadata": {},
   "outputs": [
    {
     "data": {
      "image/png": "[encoded data removed]",
      "text/plain": [
       "<matplotlib.figure.Figure at 0x1314d8588>"
      ]
     },
     "metadata": {},
     "output_type": "display_data"
    }
   ],
   "source": [
    "cx.view(mnist.train_inputs[0:5])   # same as mnist.inputs[0:5]"
   ]
  },
  {
   "cell_type": "code",
   "execution_count": 6,
   "metadata": {},
   "outputs": [
    {
     "data": {
      "image/png": "[encoded data removed]",
      "text/plain": [
       "<matplotlib.figure.Figure at 0x118fb8470>"
      ]
     },
     "metadata": {},
     "output_type": "display_data"
    }
   ],
   "source": [
    "cx.view(mnist.train_inputs[0, 2, 4])"
   ]
  },
  {
   "cell_type": "code",
   "execution_count": 7,
   "metadata": {},
   "outputs": [
    {
     "data": {
      "image/png": "[encoded data removed]",
      "text/plain": [
       "<matplotlib.figure.Figure at 0x1315ce358>"
      ]
     },
     "metadata": {},
     "output_type": "display_data"
    }
   ],
   "source": [
    "selected = [42, 77, 150, 16, 15, 0]\n",
    "cx.view(mnist.train_inputs[selected])"
   ]
  },
  {
   "cell_type": "code",
   "execution_count": 8,
   "metadata": {},
   "outputs": [
    {
     "data": {
      "image/png": "[encoded data removed]",
      "text/plain": [
       "<matplotlib.figure.Figure at 0x1319a63c8>"
      ]
     },
     "metadata": {},
     "output_type": "display_data"
    }
   ],
   "source": [
    "cx.view(mnist.test_inputs[0])"
   ]
  },
  {
   "cell_type": "code",
   "execution_count": 9,
   "metadata": {},
   "outputs": [
    {
     "data": {
      "image/png": "[encoded data removed]",
      "text/plain": [
       "<matplotlib.figure.Figure at 0x115ae42b0>"
      ]
     },
     "metadata": {},
     "output_type": "display_data"
    }
   ],
   "source": [
    "cx.view(mnist.test_inputs[0:5])"
   ]
  },
  {
   "cell_type": "markdown",
   "metadata": {},
   "source": [
    "The dataset properties `train_targets`, `train_labels`, `test_targets`, and `test_labels` refer to the target data."
   ]
  },
  {
   "cell_type": "code",
   "execution_count": 10,
   "metadata": {},
   "outputs": [
    {
     "data": {
      "text/plain": [
       "['7', '2', '1', '0', '4']"
      ]
     },
     "execution_count": 10,
     "metadata": {},
     "output_type": "execute_result"
    }
   ],
   "source": [
    "mnist.test_labels[0:5]"
   ]
  },
  {
   "cell_type": "code",
   "execution_count": 11,
   "metadata": {},
   "outputs": [
    {
     "data": {
      "text/plain": [
       "[[0.0, 0.0, 0.0, 0.0, 0.0, 0.0, 0.0, 1.0, 0.0, 0.0],\n",
       " [0.0, 0.0, 1.0, 0.0, 0.0, 0.0, 0.0, 0.0, 0.0, 0.0],\n",
       " [0.0, 1.0, 0.0, 0.0, 0.0, 0.0, 0.0, 0.0, 0.0, 0.0],\n",
       " [1.0, 0.0, 0.0, 0.0, 0.0, 0.0, 0.0, 0.0, 0.0, 0.0],\n",
       " [0.0, 0.0, 0.0, 0.0, 1.0, 0.0, 0.0, 0.0, 0.0, 0.0]]"
      ]
     },
     "execution_count": 11,
     "metadata": {},
     "output_type": "execute_result"
    }
   ],
   "source": [
    "mnist.test_targets[0:5]"
   ]
  },
  {
   "cell_type": "markdown",
   "metadata": {},
   "source": [
    "As another example, we could use `test_labels` to select digits of a particular category from the testing data, and then view the first twenty, as follows:"
   ]
  },
  {
   "cell_type": "code",
   "execution_count": 12,
   "metadata": {},
   "outputs": [
    {
     "data": {
      "image/png": "[encoded data removed]",
      "text/plain": [
       "<matplotlib.figure.Figure at 0x10713cbe0>"
      ]
     },
     "metadata": {},
     "output_type": "display_data"
    }
   ],
   "source": [
    "selected = [i for i in range(len(mnist.test_inputs)) if mnist.test_labels[i] == '2']\n",
    "digits = mnist.test_inputs[selected]\n",
    "cx.view(digits[:20], layout=(2,10))"
   ]
  },
  {
   "cell_type": "markdown",
   "metadata": {},
   "source": [
    "We can accomplish the same thing more directly (and efficiently) using the `select` method, together with the `slice` keyword:"
   ]
  },
  {
   "cell_type": "code",
   "execution_count": 13,
   "metadata": {},
   "outputs": [
    {
     "data": {
      "image/png": "[encoded data removed]",
      "text/plain": [
       "<matplotlib.figure.Figure at 0x10653f320>"
      ]
     },
     "metadata": {},
     "output_type": "display_data"
    }
   ],
   "source": [
    "digits = mnist.test_inputs.select(lambda i,ds: ds.test_labels[i] == '2', slice=20)\n",
    "cx.view(digits, layout=(2,10))"
   ]
  },
  {
   "cell_type": "markdown",
   "metadata": {},
   "source": [
    "The MNIST digits are grayscale images, with each pixel represented as a single intensity value in the range 0 (black) to 1 (white). You can think of the whole image as consisting of 784 numbers arranged in a plane of 28 rows and 28 columns. For color (RGB) images, however, each pixel consists of three numbers (one for Red intensity, one for Green, and one for Blue). Therefore color images are represented as arrays of shape *rows* &times; *columns* &times; 3, where the 3 indicates the *depth* of the image. For consistency, the grayscale MNIST images are treated as images of depth 1, with shape *rows* &times; *columns* &times; 1. We can verify this by calling `cx.shape` on input image #0:"
   ]
  },
  {
   "cell_type": "code",
   "execution_count": 14,
   "metadata": {},
   "outputs": [
    {
     "data": {
      "text/plain": [
       "(28, 28, 1)"
      ]
     },
     "execution_count": 14,
     "metadata": {},
     "output_type": "execute_result"
    }
   ],
   "source": [
    "cx.shape(mnist.inputs[0])"
   ]
  },
  {
   "cell_type": "markdown",
   "metadata": {},
   "source": [
    "## A Multi-Layer Perceptron for MNIST Classification\n",
    "\n",
    "Our first network will have an input layer, two fully-connected hidden layers, and an output layer containing 10 output units (one for each possible digit category). Since this is a classification task, the output layer will use the *Softmax* function to generate a probability distribution of output values, where each value is a number in the range 0-1 representing the probability that the input image corresponds to that output unit's digit category.\n",
    "\n",
    "The input layer's shape must match that of the input data, so we  declare its shape to be <tt>(28,28,1)</tt>. We then add two densely-connected hidden layers of 30 units each, both of which use the ReLU (rectified linear) activation function. However, we cannot connect the input layer directly to the first hidden layer, because the layer shapes do not match. Instead, we must first \"flatten\" the data before feeding it into the first hidden layer. Finally, we add an output layer of 10 units that uses the *Softmax* activation function. Here is the code that builds the network:"
   ]
  },
  {
   "cell_type": "code",
   "execution_count": 15,
   "metadata": {},
   "outputs": [],
   "source": [
    "net = cx.Network(\"MNIST_MLP\")\n",
    "\n",
    "net.add(cx.Layer(\"input\", (28,28,1)),\n",
    "        cx.FlattenLayer(\"flat_input\"),\n",
    "        cx.Layer(\"hidden1\", 30, activation='relu', dropout=0.20),\n",
    "        cx.Layer(\"hidden2\", 30, activation='relu', dropout=0.20),\n",
    "        cx.Layer(\"output\", 10, activation='softmax'))\n",
    "\n",
    "# creates connections between layers in the order they were added\n",
    "net.connect()"
   ]
  },
  {
   "cell_type": "markdown",
   "metadata": {},
   "source": [
    "Notice that each hidden layer in the network includes a `dropout` setting of 20%. Dropout is a technique that helps to improve a network's ability to generalize what it has learned, by making it less sensitive to noise and to irrelevant correlations that may exist in the training data. During training, a randomly chosen subset of units in a dropout layer (here, 20% of the units) will be turned off (set to zero activation) on each training cycle, with different random subsets being chosen on each cycle. Dropout only occurs during training; after the network has learned, all units participate in the classification of input data. \n",
    "\n",
    "Finally, we need to tell the network which dataset to use."
   ]
  },
  {
   "cell_type": "code",
   "execution_count": 16,
   "metadata": {},
   "outputs": [],
   "source": [
    "net.set_dataset(mnist)"
   ]
  },
  {
   "cell_type": "markdown",
   "metadata": {},
   "source": [
    "We are now ready to compile the network. To do so, we must specify the error (or \"loss\") function that measures the network's performance, and the specific learning algorithm for optimizing the network's weights during training. For a classification task using *Softmax*, in which the output of the network is a probability distribution across several possible classification categories, the appropriate error function is usually the *categorical crossentropy* function. The choice of optimizer is typically some variant of stochastic gradient descent. Here we will use RMSprop. After compiling the network, it is ready to be trained. The `summary()` method prints out a brief summary of each layer, including the total number of trainable parameters (weights and biases) in the network."
   ]
  },
  {
   "cell_type": "code",
   "execution_count": 17,
   "metadata": {},
   "outputs": [
    {
     "name": "stdout",
     "output_type": "stream",
     "text": [
      "_________________________________________________________________\n",
      "Layer (type)                 Output Shape              Param #   \n",
      "=================================================================\n",
      "input (InputLayer)           (None, 28, 28, 1)         0         \n",
      "_________________________________________________________________\n",
      "flat_input (Flatten)         (None, 784)               0         \n",
      "_________________________________________________________________\n",
      "hidden1 (Dense)              (None, 30)                23550     \n",
      "_________________________________________________________________\n",
      "dropout_1 (Dropout)          (None, 30)                0         \n",
      "_________________________________________________________________\n",
      "hidden2 (Dense)              (None, 30)                930       \n",
      "_________________________________________________________________\n",
      "dropout_2 (Dropout)          (None, 30)                0         \n",
      "_________________________________________________________________\n",
      "output (Dense)               (None, 10)                310       \n",
      "=================================================================\n",
      "Total params: 24,790\n",
      "Trainable params: 24,790\n",
      "Non-trainable params: 0\n",
      "_________________________________________________________________\n"
     ]
    }
   ],
   "source": [
    "net.compile(error='categorical_crossentropy', optimizer='rmsprop')\n",
    "net.summary()"
   ]
  },
  {
   "cell_type": "markdown",
   "metadata": {},
   "source": [
    "Let's take a look at the network before we train it. The `dashboard` provides an easy-to-use graphical interface, showing the network's response to each input image in the dataset. (The small <font size=\"5\">&#10683;</font> symbols indicate layers with dropout.)"
   ]
  },
  {
   "cell_type": "code",
   "execution_count": 18,
   "metadata": {},
   "outputs": [
    {
     "data": {
      "application/vnd.jupyter.widget-view+json": {
       "model_id": "d2415eee580749f0bfb7c24d58132d3e",
       "version_major": 2,
       "version_minor": 0
      },
      "text/html": [
       "<p>Failed to display Jupyter Widget of type <code>Dashboard</code>.</p>\n",
       "<p>\n",
       "  If you're reading this message in the Jupyter Notebook or JupyterLab Notebook, it may mean\n",
       "  that the widgets JavaScript is still loading. If this message persists, it\n",
       "  likely means that the widgets JavaScript library is either not installed or\n",
       "  not enabled. See the <a href=\"https://ipywidgets.readthedocs.io/en/stable/user_install.html\">Jupyter\n",
       "  Widgets Documentation</a> for setup instructions.\n",
       "</p>\n",
       "<p>\n",
       "  If you're reading this message in another frontend (for example, a static\n",
       "  rendering on GitHub or <a href=\"https://nbviewer.jupyter.org/\">NBViewer</a>),\n",
       "  it may mean that your frontend doesn't currently support widgets.\n",
       "</p>\n"
      ],
      "text/plain": [
       "Dashboard(children=(Accordion(children=(HBox(children=(VBox(children=(Select(description='Dataset:', index=1, options=('Test', 'Train'), rows=1, value='Train'), FloatSlider(value=0.6, continuous_update=False, description='Zoom', layout=Layout(width='65%'), max=1.0, style=SliderStyle(description_width='initial')), IntText(value=150, description='Horizontal space between banks:', style=DescriptionStyle(description_width='initial')), IntText(value=30, description='Vertical space between layers:', style=DescriptionStyle(description_width='initial')), HBox(children=(Checkbox(value=True, description='Show Targets', style=DescriptionStyle(description_width='initial')), Checkbox(value=False, description='Errors', style=DescriptionStyle(description_width='initial')))), Select(description='Features:', options=('', 'input'), rows=1, value=''), IntText(value=3, description='Feature columns:', style=DescriptionStyle(description_width='initial')), FloatText(value=1.0, description='Feature scale:', style=DescriptionStyle(description_width='initial'))), layout=Layout(width='100%')), VBox(children=(Select(description='Layer:', index=4, options=('input', 'flat_input', 'hidden1', 'hidden2', 'output'), rows=1, value='output'), Checkbox(value=True, description='Visible'), Select(description='Colormap:', options=('', 'Accent', 'Accent_r', 'Blues', 'Blues_r', 'BrBG', 'BrBG_r', 'BuGn', 'BuGn_r', 'BuPu', 'BuPu_r', 'CMRmap', 'CMRmap_r', 'Dark2', 'Dark2_r', 'GnBu', 'GnBu_r', 'Greens', 'Greens_r', 'Greys', 'Greys_r', 'OrRd', 'OrRd_r', 'Oranges', 'Oranges_r', 'PRGn', 'PRGn_r', 'Paired', 'Paired_r', 'Pastel1', 'Pastel1_r', 'Pastel2', 'Pastel2_r', 'PiYG', 'PiYG_r', 'PuBu', 'PuBuGn', 'PuBuGn_r', 'PuBu_r', 'PuOr', 'PuOr_r', 'PuRd', 'PuRd_r', 'Purples', 'Purples_r', 'RdBu', 'RdBu_r', 'RdGy', 'RdGy_r', 'RdPu', 'RdPu_r', 'RdYlBu', 'RdYlBu_r', 'RdYlGn', 'RdYlGn_r', 'Reds', 'Reds_r', 'Set1', 'Set1_r', 'Set2', 'Set2_r', 'Set3', 'Set3_r', 'Spectral', 'Spectral_r', 'Vega10', 'Vega10_r', 'Vega20', 'Vega20_r', 'Vega20b', 'Vega20b_r', 'Vega20c', 'Vega20c_r', 'Wistia', 'Wistia_r', 'YlGn', 'YlGnBu', 'YlGnBu_r', 'YlGn_r', 'YlOrBr', 'YlOrBr_r', 'YlOrRd', 'YlOrRd_r', 'afmhot', 'afmhot_r', 'autumn', 'autumn_r', 'binary', 'binary_r', 'bone', 'bone_r', 'brg', 'brg_r', 'bwr', 'bwr_r', 'cool', 'cool_r', 'coolwarm', 'coolwarm_r', 'copper', 'copper_r', 'cubehelix', 'cubehelix_r', 'flag', 'flag_r', 'gist_earth', 'gist_earth_r', 'gist_gray', 'gist_gray_r', 'gist_heat', 'gist_heat_r', 'gist_ncar', 'gist_ncar_r', 'gist_rainbow', 'gist_rainbow_r', 'gist_stern', 'gist_stern_r', 'gist_yarg', 'gist_yarg_r', 'gnuplot', 'gnuplot2', 'gnuplot2_r', 'gnuplot_r', 'gray', 'gray_r', 'hot', 'hot_r', 'hsv', 'hsv_r', 'inferno', 'inferno_r', 'jet', 'jet_r', 'magma', 'magma_r', 'nipy_spectral', 'nipy_spectral_r', 'ocean', 'ocean_r', 'pink', 'pink_r', 'plasma', 'plasma_r', 'prism', 'prism_r', 'rainbow', 'rainbow_r', 'seismic', 'seismic_r', 'spectral', 'spectral_r', 'spring', 'spring_r', 'summer', 'summer_r', 'tab10', 'tab10_r', 'tab20', 'tab20_r', 'tab20b', 'tab20b_r', 'tab20c', 'tab20c_r', 'terrain', 'terrain_r', 'viridis', 'viridis_r', 'winter', 'winter_r'), rows=1, value=''), HTML(value='<img src=\"data:image/gif;base64,R0lGODdhLAEZAIcAAPIBAY8AANAAAK8AAAIC8wAAsAAAbwAA0AAAkPr2+vPn8wAAVkdH/7a2///X1/+YmP+Ghv+2tpaW/yYm//9nZ/8mJv9WVnh4//84OP8VFdfX/2Zm//92dlhY//9GRjU1///Fxf+mpoaG/xYW/8jI/6Wl/38AAAAAAAAAAAAAAAAAAAAAAAAAAAAAAAAAAAAAAAAAAAAAAAAAAAAAAAAAAAAAAAAAAAAAAAAAAAAAAAAAAAAAAAAAAAAAAAAAAAAAAAAAAAAAAAAAAAAAAAAAAAAAAAAAAAAAAAAAAAAAAAAAAAAAAAAAAAAAAAAAAAAAAAAAAAAAAAAAAAAAAAAAAAAAAAAAAAAAAAAAAAAAAAAAAAAAAAAAAAAAAAAAAAAAAAAAAAAAAAAAAAAAAAAAAAAAAAAAAAAAAAAAAAAAAAAAAAAAAAAAAAAAAAAAAAAAAAAAAAAAAAAAAAAAAAAAAAAAAAAAAAAAAAAAAAAAAAAAAAAAAAAAAAAAAAAAAAAAAAAAAAAAAAAAAAAAAAAAAAAAAAAAAAAAAAAAAAAAAAAAAAAAAAAAAAAAAAAAAAAAAAAAAAAAAAAAAAAAAAAAAAAAAAAAAAAAAAAAAAAAAAAAAAAAAAAAAAAAAAAAAAAAAAAAAAAAAAAAAAAAAAAAAAAAAAAAAAAAAAAAAAAAAAAAAAAAAAAAAAAAAAAAAAAAAAAAAAAAAAAAAAAAAAAAAAAAAAAAAAAAAAAAAAAAAAAAAAAAAAAAAAAAAAAAAAAAAAAAAAAAAAAAAAAAAAAAAAAAAAAAAAAAAAAAAAAAAAAAAAAAAAAAAAAAAAAAAAAAAAAAAAAAAAAAAAAAAAAAAAAAAAAAAAAAAAAAAAAAAAAAAAAAAAAAAAAAAAAAAAAAAAAAAAAAAAAAAAAAAAAAAAAAAAAAAAAAAAAAAAAAAAAAAAAAAAAAAAAAAAAAAAAAAAAAAAAAAAAAAAAAAAAAAAAAAAAAAAAAAAAAAAAAAAAAAAAAAAAAAAAAAAAAAAAAACwAAAAALAEZAEAI/wBNBBhIsKDBggMSKlzIcKGAhxAjSowIoKLFixgzAsjAkWOFjx8xiBTpoaQHCyhRUli5koNLDhBixnxAk2aImyEi6NQJoicIB0CDKhiqIIHRo0gVKFWgoWlTElBJNJhKtYTVEhKyZhXBVcSFr183iBXboWwHBmjTflj7YYJbtyPijiBAt67du3UP6N3Ld2+Bv4ADB0ZAuLDhwgYSK168eIHjxwtMBJhMubLlygMya97MebOAz6BDiw4NoLTp06hTA8jAmnWF168xyJbtobYHC7hxU9i9m4NvDhCCB39AnHiI4yEiKFcOojkIB9CjK5iuIIH169gVaFegoXt3EuBJNP8YT76E+RIS0qcXwV7EhffvN8iX36F+Bwb483/Y/2GCf4ATJowgOILAQYQJFSI80NDhQ4cFJE6kSBHBRYwZMRrg2NGjxwUhRS4wEcDkSZQpUQ5g2dLlS5cCZM6kWZMmAJw5de7kCSDDz58VhArFULSoB6QeLCxdSsGpUw5ROUCgSvXB1ashtIaI0LUrCLAgHIwlq8CsggRp1a5V0FaBBrhwScwl0cDu3RJ5S0jgy1fEXxEXBAveULhwB8QdGCxm/MHxhwmRI4+gPILAZcyZNWM+0NnzZ88FRI8mTRrBadSpURtg3dq16wWxZS8wEcD2bdy5cQ/g3dv3b98ChA8nXpz/OADkyZUvZw4gw/PnFaRLx1C9ugfsHixs307Bu3cO4TlAIE/+wfnzIdSHiNC+PQj4IBzMp6/AvoIE+fXvV9BfAUANAgWSKEiiAcKEJRaWkODQoYiIIi5QpLjh4sUOGjsw6OjxA8gPE0aOHGFyBIGUKleyVHngJcyYMAvQrGnTJoKcOnfqNODzJ1CgC4YSXWAiANKkSpcqHeD0KdSoUAVQrWr1qlUAWrdy7eoVQIawYSuQJYvh7FkPaj1YaNuWAly4HOZygGDX7oO8eUPwDRHh718QgkE4KGxYAWIFCRYzbqzgsQINkiWTqEyiAebMJTaXkODZs4jQIi6QJr3h9OkO/6o7MGjt+gPsDxNmzx5hewSB3Lp389Z94Dfw4MALEC9u3DiC5MqXKzfg/Dl06AumU19gIgD27Nq3ax/g/Tv48OAFkC9v/rx5AOrXs2/vHkCG+PEr0KeP4f59D/o9WOjfHyAFgQI5FOQAASHCBwsXhnAYIkLEiCAognBwEaMCjQoSdPT4UUFIBRpIkiRxkkQDlStLtCwhASZMETNFXLBpc0POnB14dmDwE+gHoR8mFC06AukIAkuZNnXK9EBUqVOlFrB6FStWBFu5duVqAGxYsWIXlDW7wEQAtWvZtmU7AG5cuXPlCrB7F29evAD49vX7FzCADIMHVzBsGEPixB4Ye/+w8PgxBcmSOVTmAAEz5gebN4fwHCJC6NAgSINwcBq1AtUKErR2/VpBbAUaaNMmcZtEA927S/QuIQE4cBHDRVwwbnxD8uQdmHdg8Bz6B+kfJlSvPgL7CALbuXf3zv1AePHjxRcwfx49egTr2bdnbwB+fPnyF9S3v8BEAP37+ffnD3CAwIEECxIUgDChwoUKATh8CDGiRAAZKlasgBEjho0bPXj0YCFkSAokSXI4yQGCSpUPWrYMATNEhJkzQdgE4SCnTgU8FST4CTSogqEKNBg1SiIpiQZMm5Z4WkKCVKkiqoq4gBXrhq1bO3jtwCCs2A9kP0w4e3aE2hEE2rp9C9f/7YG5dOvSLYA3r169CPr6/evXgODBhAkvOIx4gYkAjBs7fux4gOTJlCtTFoA5s+bNmgF4/gw6tGgAGUqXroAaNYbVqz249mAhdmwKtGlzuM0Bgm7dD3r3DgE8RIThw0EYB+EguXIFzBUkeA49uoLpCjRYt04iO4kG3LuX+F5CgnjxIsqLuIAe/Yb16zu478AgvvwP9D9MuH9/hP4RBPr7B0hA4ECCAg8cRJgQYQGGDR06RBBR4kSJBixexIhxwUaOC0wEABlS5EiRA0yeRJkSpQCWLV2+dAlA5kyaNW0CyJAzZwWePDH8/OlBqAcLRYtSQIqUw1IOEJw6fRA1agiq/yEiXL0KQisIB129KgCrIMFYsmUVnFWgQa1aEm1JNIAbt8TcEhLs2hWRV8QFvnw3/P3bQXAHBoUNf0D8YcLixSMcjyAQWfJkypIPXMacGXMBzp09e0YQWvRo0QZMn0aNesFq1gtMBIAdW/Zs2QNs38adG7cA3r19//YNQPhw4sWNA8iQPHkF5swxPH/uQboHC9WrU8COncN2DhC8e38QPnwI8iEinD8PQj0IB+3dK4CvIMF8+vUV3FegQb9+Ev1JAGwgcGCJgiUkIEQoYqGICw4dbogYsQPFDgwuYvyg8cOEjh1HgBxBYCTJkiZJHkipcqXKAi5fwoSJYCbNmjQN4P/MqVPngp4+F5gIIHQo0aJEByBNqnSpUgFOn0KNChUA1apWr2IFkGHr1gpevWIIG9YDWQ8Wzp6loFYth7YcIMCF+2Du3BB2Q0TImxcEXxAO/gJWIFhBgsKGDytIrEADY8YkHpNoIHlyicolJGDGLGKziAuePW8IHboD6Q4MTqP+oPrDhNatR8AeQWA27dq2aR/IrXu37gK+fwMHjmA48eLEDSBPrlz5gubOF5gIIH069erUB2DPrn27dgHev4MPDx4A+fLmz6MHkGH9+gru3WOIH98DfQ8W7t+noF8/h/4cAEIQKPBBwYIhEIaIsHAhCIcgHESUqICiggQXMWZUsFH/gQaPHkmEJNGAZMkSJ0tIUKlSREsRF2DC3DBzZgebHRjk1PmB54cJP3+OEDqCQFGjR5EaPbCUaVOmBaBGlSoVQVWrV60a0LqVK9cFX8EuMBGAbFmzZ80OULuWbVu2AuDGlTtXLgC7d/Hm1QsgQ9++FQADxjB4sAfDHiwkTkyBMWMOjzlAkCz5QeXKITCHiLB5MwjPIByEFq2AtIIEp1GnVrBagQbXrknEJtGAdu0St0tI0K1bRG8RF4AD3zB8eAfjHRgkV/6B+YcJz5+PkD6CQHXr17FbP7Cde3fuBcCHFy8eQXnz580bUL+ePfsF7+EvMBGAfn379+0P0L+ff3/+/wAFCBxIsCBBAAgTKlzIEECGhw8rSJSIoWJFDxg9WNi4kYJHjxxCcoBAkuSDkydDqAwRoWVLEDBBOJhJU4FNBQly6typoKcCDUCBkhhKooHRoyWSlpDAlKmIpyIuSJW6oWrVDlg7MNjK9YPXDxPChh1BdgSBs2jTqkV7oK3bt24LyJ1Lly6Cu3jz4jXAt69fvwsCC15gIoDhw4gTIx7AuLHjx44FSJ5MuTJlAJgza97MGUCGz58riBaNoXRpD6g9WFi9moJr1xxic4BAm/aD27dD6A4RoXdvEMBBOBhOXIFxBQmSK1+uoLkCDdChk5hOooH16yWyl5DAnbuI7yIuiP8Xv6F8+Q7oOzBYz/6D+w8T4scfQX8Egfv48+vHf6C/f4AHBA48UMDgQYQIESxk2JChAYgRJUpcUNHiAhMBNG7k2JHjAJAhRY4UKcDkSZQpUQJg2dLlS5gAMsycWcGmTQw5c3rg6cHCz58UhArlUJQDBKRIHyxdGsJpiAhRo4KgCsLBVawKtCpI0NXrVwVhFWggS5bEWRIN1K4t0baEBLhwRcwVccGu3Q1583bg24HBX8AfBH+YULjwCMQjCCxm3Ngx4wORJU+WXMDyZcyYEWzm3JmzAdChRYteUNr0AhMBVK9m3Zr1ANixZc+WLcD2bdy5cQPg3dv3b+AAMgwfXsH/uHEMyZN7YO7BwvPnFKRL51CdAwTs2B9s3x7Ce4gI4cODIA/CwXn0CtQrSNDe/XsF8RVooE+fxH0SDfTvL9G/BEAJAgWKKCjiAkKEGxYu7OCwA4OIEj9Q/DDh4sURGkcQ6OjxI0iPB0aSLEmyAMqUKlUiaOnypUsDMmfSpLngJs4FJgLw7Onzp88BQocSLUpUANKkSpcqBeD0KdSoUgFkqFq1AlasGLZu9eDVg4WwYSmQJcvhLAcIatU+aNs2BNwQEebOBWEXhIO8ehXwVZDgL+DACgYr0GDYMInEJBowblzicQkJkiWLqCziAmbMGzZv7uC5A4PQoj+Q/jDh9OkR/6pHEGjt+jVs1wdm065NuwDu3Lp1I+jt+7dvA8KHEye+4DjyBSYCMG/u/LnzAdKnU69OXQD27Nq3awfg/Tv48OIBZChfvgJ69BjWr/fg3oOF+PEp0KfP4T4HCPr1P+jfH2AIgSEiFCwIAiEIBwsZKnCoIEFEiRMVVFSgASNGEhtJNPD4sUTIEhJIkhRxUsQFlSo3tGzZAWYHBjNpfrD5YULOnCN4jiDwE2hQoUAPFDV61GgBpUuZMkXwFGpUqAaoVrVqdUFWrQtMBPD6FWxYsAPIljV71qwAtWvZtmULAG5cuXPpAshw924FvXox9O3rAbAHC4MHUzBsmENiDhAYM/9+8PhxCMkhIlSuDAIzCAebOSvwrCBBaNGjFZRWoAE1ahKrSTRw/bpE7BISaNMWcVvEBd26N/Tu3QF4BwbDiX8w/mFC8uQjmI8g8Bx6dOnQD1S3ft16Ae3buXNH8B18ePAGyJc3b35BevULTARw/x5+fPgD6Ne3f9++AP37+ffnDxCAwIEECxoEkCFhwgoMGWJ4+NCDRA8WKlakgBEjh40cIHj0+CBkyBAkQ0Q4eRKEShAOWrpUAFNBgpk0ayq4qUCDTp0kepJoADRoiaElJBg1KiKpiAtMmW54+rSD1A4Mqlr9gPXDhK1bR3gdQSCs2LFkxR44izYt2gJs27p1iyD/rty5cg3YvYsX74K9fBeYCAA4sODBggcYPow4MWIBjBs7fuwYgOTJlCtbBpAhc+YKnDlj+PzZg2gPFkqXpoAaNYfVHCC4dv0gduwQtENEuH0bhG4QDnr7VgBcQYLhxIsrOK5Ag3LlJJqTaAA9eonpJSRYty4iu4gL3Llv+P69g/gODMqb/4D+w4T160e4H0Egvvz59OUfuI8/P/4C/Pv7B1hAYAEEBQ0eNGhA4UKGDBc8hLjARACKFS1etDhA40aOHTkKABlS5EiRAEyeRJlSJYAMLVtWgAkTw8yZHmx6sJAzJwWePDn85ABBqNAHRYuGQBoiwtKlIJyCcBBVqgKq+woSXMWaVcFWBRq8eiURlkQDsmVLnC0hQa1aEW1FXIALd8PcuR3sdmCQV+8Hvh8m/P07QvAIAoUNH0Zs+MBixo0ZF4AcWbJkBJUtX7ZsQPNmzpwXfAa9wEQA0qVNnzY9QPVq1q1ZC4AdW/Zs2QBs38adWzeADL17VwAOHMPw4R6Me7CQPDkF5sw5POcAQbr0B9Wrh8AeIsL27SC8g3AQXrwC8goSnEefXsF6BRrcuycRn0QD+vVL3C8hQb9+Ef1FALwgUOCGggU7IOzAYCHDDw4/TIgYcQTFEQQuYsyoEeOBjh4/eiwgciRJkghOokyJ0gDLli5dLogpc0FAADs=\"/>'), FloatText(value=-1.0, description='Leftmost color maps to:', style=DescriptionStyle(description_width='initial')), FloatText(value=1.0, description='Rightmost color maps to:', style=DescriptionStyle(description_width='initial')), IntText(value=0, description='Feature to show:', style=DescriptionStyle(description_width='initial')), HBox(children=(Checkbox(value=True, description='Rotate network', layout=Layout(width='52%'), style=DescriptionStyle(description_width='initial')), Button(icon='save', layout=Layout(width='10%'), style=ButtonStyle())))), layout=Layout(width='100%')))),), selected_index=None, _titles={'0': 'MNIST_MLP'}), VBox(children=(HBox(children=(IntSlider(value=0, continuous_update=False, description='Dataset index', layout=Layout(width='100%'), max=59999), Label(value='of 60000', layout=Layout(width='100px'))), layout=Layout(height='40px')), HBox(children=(Button(icon='fast-backward', layout=Layout(width='100%'), style=ButtonStyle()), Button(icon='backward', layout=Layout(width='100%'), style=ButtonStyle()), IntText(value=0, layout=Layout(width='100%')), Button(icon='forward', layout=Layout(width='100%'), style=ButtonStyle()), Button(icon='fast-forward', layout=Layout(width='100%'), style=ButtonStyle()), Button(description='Play', icon='play', layout=Layout(width='100%'), style=ButtonStyle()), Button(icon='refresh', layout=Layout(width='25%'), style=ButtonStyle())), layout=Layout(height='50px', width='100%'))), layout=Layout(width='100%')), HTML(value='<p style=\"text-align:center\"></p>', layout=Layout(justify_content='center', overflow_x='auto', overflow_y='auto', width='95%')), Output()))"
      ]
     },
     "metadata": {},
     "output_type": "display_data"
    },
    {
     "data": {
      "application/javascript": [
       "\n",
       "require(['base/js/namespace'], function(Jupyter) {\n",
       "    Jupyter.notebook.kernel.comm_manager.register_target('conx_svg_control', function(comm, msg) {\n",
       "        comm.on_msg(function(msg) {\n",
       "            var data = msg[\"content\"][\"data\"];\n",
       "            var images = document.getElementsByClassName(data[\"class\"]);\n",
       "            for (var i = 0; i < images.length; i++) {\n",
       "                if (data[\"href\"]) {\n",
       "                    images[i].setAttributeNS(null, \"href\", data[\"href\"]);\n",
       "                }\n",
       "                if (data[\"src\"]) {\n",
       "                    images[i].setAttributeNS(null, \"src\", data[\"src\"]);\n",
       "                }\n",
       "            }\n",
       "        });\n",
       "    });\n",
       "});\n"
      ],
      "text/plain": [
       "<IPython.core.display.Javascript object>"
      ]
     },
     "metadata": {},
     "output_type": "display_data"
    }
   ],
   "source": [
    "dash = net.dashboard()\n",
    "dash"
   ]
  },
  {
   "cell_type": "markdown",
   "metadata": {},
   "source": [
    "Clicking on **MNIST_MLP** at the top of the dashboard will open up a panel of settings for controlling the appearance and functionality of the network display. For example, to choose between the training set and testing set images, you can select \"Train\" or \"Test\" from the *Dataset* pulldown menu. \n",
    "\n",
    "The `propagate` method sends an input pattern through the network and returns a list of the output values. In the example below, the outputs are all around 0.1 because the network has not yet been trained. After training, one of the output values will typically be much larger than the others, corresponding to the output classification category."
   ]
  },
  {
   "cell_type": "code",
   "execution_count": 19,
   "metadata": {},
   "outputs": [
    {
     "data": {
      "text/plain": [
       "[0.07839051634073257,\n",
       " 0.13194623589515686,\n",
       " 0.1052803322672844,\n",
       " 0.077577605843544,\n",
       " 0.17349381744861603,\n",
       " 0.09359003603458405,\n",
       " 0.08958906680345535,\n",
       " 0.07621065527200699,\n",
       " 0.11846975237131119,\n",
       " 0.05545198544859886]"
      ]
     },
     "execution_count": 19,
     "metadata": {},
     "output_type": "execute_result"
    }
   ],
   "source": [
    "net.propagate(mnist.train_inputs[0])"
   ]
  },
  {
   "cell_type": "markdown",
   "metadata": {},
   "source": [
    "We can visualize the weights on connections into specific units by calling `plot_layer_weights`. For example, the command below shows the weights from the input layer into units 0, 1, and 2 of the first hidden layer, displayed as 28 &times; 28 pixel array (where each \"pixel\" represents a weight from the input layer into a hidden unit). The `wrange` keyword specifies the minimum and maximum weight values for the color coding. Since the network has not yet been trained, the weights are all small random values close to zero."
   ]
  },
  {
   "cell_type": "code",
   "execution_count": 20,
   "metadata": {},
   "outputs": [
    {
     "data": {
      "image/png": "[encoded data removed]",
      "text/plain": [
       "<matplotlib.figure.Figure at 0x11dbc9ac8>"
      ]
     },
     "metadata": {},
     "output_type": "display_data"
    }
   ],
   "source": [
    "net.plot_layer_weights('hidden1', units=[0,1,2], vshape=(28,28), wrange=(-1.5, 1.5))"
   ]
  },
  {
   "cell_type": "markdown",
   "metadata": {},
   "source": [
    "Let's train the network for 30 epochs, using a batch size of 128. This means that images from the training set will be presented to the network in batches of 128 at a time, and for each batch, the RMSprop algorithm will update the network's weights by an appropriate amount. Then another batch of 128 images will be presented, and so on, until all 60000 training images in the dataset have been processed, which constitutes one epoch of training. This entire cycle will be repeated for 30 epochs. As training proceeds, the network's error (loss) on both the training set and testing set (also called the validation set) will be shown on the left graph, and the network's accuracy will be shown on the right graph. The accuracy is simply the fraction of input images that the network classifies correctly."
   ]
  },
  {
   "cell_type": "code",
   "execution_count": 21,
   "metadata": {},
   "outputs": [
    {
     "data": {
      "image/svg+xml": [
       "<svg height=\"288pt\" version=\"1.1\" viewBox=\"0 0 720 288\" width=\"720pt\" xmlns=\"http://www.w3.org/2000/svg\" xmlns:xlink=\"http://www.w3.org/1999/xlink\">\n",
       " <defs>\n",
       "  <style type=\"text/css\">\n",
       "*{stroke-linecap:butt;stroke-linejoin:round;}\n",
       "  </style>\n",
       " </defs>\n",
       " <g id=\"figure_1\">\n",
       "  <g id=\"patch_1\">\n",
       "   <path d=\"M 0 288  L 720 288  L 720 0  L 0 0  z \" style=\"fill:#ffffff;\"/>\n",
       "  </g>\n",
       "  <g id=\"axes_1\">\n",
       "   <g id=\"patch_2\">\n",
       "    <path d=\"M 90 252  L 343.636364 252  L 343.636364 34.56  L 90 34.56  z \" style=\"fill:#ffffff;\"/>\n",
       "   </g>\n",
       "   <g id=\"matplotlib.axis_1\">\n",
       "    <g id=\"xtick_1\">\n",
       "     <g id=\"line2d_1\">\n",
       "      <defs>\n",
       "       <path d=\"M 0 0  L 0 3.5  \" id=\"m13739314b2\" style=\"stroke:#000000;stroke-width:0.8;\"/>\n",
       "      </defs>\n",
       "      <g>\n",
       "       <use style=\"stroke:#000000;stroke-width:0.8;\" x=\"101.528926\" xlink:href=\"#m13739314b2\" y=\"252\"/>\n",
       "      </g>\n",
       "     </g>\n",
       "     <g id=\"text_1\">\n",
       "      <!-- 0 -->\n",
       "      <defs>\n",
       "       <path d=\"M 31.78125 66.40625  Q 24.171875 66.40625 20.328125 58.90625  Q 16.5 51.421875 16.5 36.375  Q 16.5 21.390625 20.328125 13.890625  Q 24.171875 6.390625 31.78125 6.390625  Q 39.453125 6.390625 43.28125 13.890625  Q 47.125 21.390625 47.125 36.375  Q 47.125 51.421875 43.28125 58.90625  Q 39.453125 66.40625 31.78125 66.40625  z M 31.78125 74.21875  Q 44.046875 74.21875 50.515625 64.515625  Q 56.984375 54.828125 56.984375 36.375  Q 56.984375 17.96875 50.515625 8.265625  Q 44.046875 -1.421875 31.78125 -1.421875  Q 19.53125 -1.421875 13.0625 8.265625  Q 6.59375 17.96875 6.59375 36.375  Q 6.59375 54.828125 13.0625 64.515625  Q 19.53125 74.21875 31.78125 74.21875  z \" id=\"DejaVuSans-30\"/>\n",
       "      </defs>\n",
       "      <g transform=\"translate(98.347676 266.598437)scale(0.1 -0.1)\">\n",
       "       <use xlink:href=\"#DejaVuSans-30\"/>\n",
       "      </g>\n",
       "     </g>\n",
       "    </g>\n",
       "    <g id=\"xtick_2\">\n",
       "     <g id=\"line2d_2\">\n",
       "      <g>\n",
       "       <use style=\"stroke:#000000;stroke-width:0.8;\" x=\"139.958678\" xlink:href=\"#m13739314b2\" y=\"252\"/>\n",
       "      </g>\n",
       "     </g>\n",
       "     <g id=\"text_2\">\n",
       "      <!-- 5 -->\n",
       "      <defs>\n",
       "       <path d=\"M 10.796875 72.90625  L 49.515625 72.90625  L 49.515625 64.59375  L 19.828125 64.59375  L 19.828125 46.734375  Q 21.96875 47.46875 24.109375 47.828125  Q 26.265625 48.1875 28.421875 48.1875  Q 40.625 48.1875 47.75 41.5  Q 54.890625 34.8125 54.890625 23.390625  Q 54.890625 11.625 47.5625 5.09375  Q 40.234375 -1.421875 26.90625 -1.421875  Q 22.3125 -1.421875 17.546875 -0.640625  Q 12.796875 0.140625 7.71875 1.703125  L 7.71875 11.625  Q 12.109375 9.234375 16.796875 8.0625  Q 21.484375 6.890625 26.703125 6.890625  Q 35.15625 6.890625 40.078125 11.328125  Q 45.015625 15.765625 45.015625 23.390625  Q 45.015625 31 40.078125 35.4375  Q 35.15625 39.890625 26.703125 39.890625  Q 22.75 39.890625 18.8125 39.015625  Q 14.890625 38.140625 10.796875 36.28125  z \" id=\"DejaVuSans-35\"/>\n",
       "      </defs>\n",
       "      <g transform=\"translate(136.777428 266.598437)scale(0.1 -0.1)\">\n",
       "       <use xlink:href=\"#DejaVuSans-35\"/>\n",
       "      </g>\n",
       "     </g>\n",
       "    </g>\n",
       "    <g id=\"xtick_3\">\n",
       "     <g id=\"line2d_3\">\n",
       "      <g>\n",
       "       <use style=\"stroke:#000000;stroke-width:0.8;\" x=\"178.38843\" xlink:href=\"#m13739314b2\" y=\"252\"/>\n",
       "      </g>\n",
       "     </g>\n",
       "     <g id=\"text_3\">\n",
       "      <!-- 10 -->\n",
       "      <defs>\n",
       "       <path d=\"M 12.40625 8.296875  L 28.515625 8.296875  L 28.515625 63.921875  L 10.984375 60.40625  L 10.984375 69.390625  L 28.421875 72.90625  L 38.28125 72.90625  L 38.28125 8.296875  L 54.390625 8.296875  L 54.390625 0  L 12.40625 0  z \" id=\"DejaVuSans-31\"/>\n",
       "      </defs>\n",
       "      <g transform=\"translate(172.02593 266.598437)scale(0.1 -0.1)\">\n",
       "       <use xlink:href=\"#DejaVuSans-31\"/>\n",
       "       <use x=\"63.623047\" xlink:href=\"#DejaVuSans-30\"/>\n",
       "      </g>\n",
       "     </g>\n",
       "    </g>\n",
       "    <g id=\"xtick_4\">\n",
       "     <g id=\"line2d_4\">\n",
       "      <g>\n",
       "       <use style=\"stroke:#000000;stroke-width:0.8;\" x=\"216.818182\" xlink:href=\"#m13739314b2\" y=\"252\"/>\n",
       "      </g>\n",
       "     </g>\n",
       "     <g id=\"text_4\">\n",
       "      <!-- 15 -->\n",
       "      <g transform=\"translate(210.455682 266.598437)scale(0.1 -0.1)\">\n",
       "       <use xlink:href=\"#DejaVuSans-31\"/>\n",
       "       <use x=\"63.623047\" xlink:href=\"#DejaVuSans-35\"/>\n",
       "      </g>\n",
       "     </g>\n",
       "    </g>\n",
       "    <g id=\"xtick_5\">\n",
       "     <g id=\"line2d_5\">\n",
       "      <g>\n",
       "       <use style=\"stroke:#000000;stroke-width:0.8;\" x=\"255.247934\" xlink:href=\"#m13739314b2\" y=\"252\"/>\n",
       "      </g>\n",
       "     </g>\n",
       "     <g id=\"text_5\">\n",
       "      <!-- 20 -->\n",
       "      <defs>\n",
       "       <path d=\"M 19.1875 8.296875  L 53.609375 8.296875  L 53.609375 0  L 7.328125 0  L 7.328125 8.296875  Q 12.9375 14.109375 22.625 23.890625  Q 32.328125 33.6875 34.8125 36.53125  Q 39.546875 41.84375 41.421875 45.53125  Q 43.3125 49.21875 43.3125 52.78125  Q 43.3125 58.59375 39.234375 62.25  Q 35.15625 65.921875 28.609375 65.921875  Q 23.96875 65.921875 18.8125 64.3125  Q 13.671875 62.703125 7.8125 59.421875  L 7.8125 69.390625  Q 13.765625 71.78125 18.9375 73  Q 24.125 74.21875 28.421875 74.21875  Q 39.75 74.21875 46.484375 68.546875  Q 53.21875 62.890625 53.21875 53.421875  Q 53.21875 48.921875 51.53125 44.890625  Q 49.859375 40.875 45.40625 35.40625  Q 44.1875 33.984375 37.640625 27.21875  Q 31.109375 20.453125 19.1875 8.296875  z \" id=\"DejaVuSans-32\"/>\n",
       "      </defs>\n",
       "      <g transform=\"translate(248.885434 266.598437)scale(0.1 -0.1)\">\n",
       "       <use xlink:href=\"#DejaVuSans-32\"/>\n",
       "       <use x=\"63.623047\" xlink:href=\"#DejaVuSans-30\"/>\n",
       "      </g>\n",
       "     </g>\n",
       "    </g>\n",
       "    <g id=\"xtick_6\">\n",
       "     <g id=\"line2d_6\">\n",
       "      <g>\n",
       "       <use style=\"stroke:#000000;stroke-width:0.8;\" x=\"293.677686\" xlink:href=\"#m13739314b2\" y=\"252\"/>\n",
       "      </g>\n",
       "     </g>\n",
       "     <g id=\"text_6\">\n",
       "      <!-- 25 -->\n",
       "      <g transform=\"translate(287.315186 266.598437)scale(0.1 -0.1)\">\n",
       "       <use xlink:href=\"#DejaVuSans-32\"/>\n",
       "       <use x=\"63.623047\" xlink:href=\"#DejaVuSans-35\"/>\n",
       "      </g>\n",
       "     </g>\n",
       "    </g>\n",
       "    <g id=\"xtick_7\">\n",
       "     <g id=\"line2d_7\">\n",
       "      <g>\n",
       "       <use style=\"stroke:#000000;stroke-width:0.8;\" x=\"332.107438\" xlink:href=\"#m13739314b2\" y=\"252\"/>\n",
       "      </g>\n",
       "     </g>\n",
       "     <g id=\"text_7\">\n",
       "      <!-- 30 -->\n",
       "      <defs>\n",
       "       <path d=\"M 40.578125 39.3125  Q 47.65625 37.796875 51.625 33  Q 55.609375 28.21875 55.609375 21.1875  Q 55.609375 10.40625 48.1875 4.484375  Q 40.765625 -1.421875 27.09375 -1.421875  Q 22.515625 -1.421875 17.65625 -0.515625  Q 12.796875 0.390625 7.625 2.203125  L 7.625 11.71875  Q 11.71875 9.328125 16.59375 8.109375  Q 21.484375 6.890625 26.8125 6.890625  Q 36.078125 6.890625 40.9375 10.546875  Q 45.796875 14.203125 45.796875 21.1875  Q 45.796875 27.640625 41.28125 31.265625  Q 36.765625 34.90625 28.71875 34.90625  L 20.21875 34.90625  L 20.21875 43.015625  L 29.109375 43.015625  Q 36.375 43.015625 40.234375 45.921875  Q 44.09375 48.828125 44.09375 54.296875  Q 44.09375 59.90625 40.109375 62.90625  Q 36.140625 65.921875 28.71875 65.921875  Q 24.65625 65.921875 20.015625 65.03125  Q 15.375 64.15625 9.8125 62.3125  L 9.8125 71.09375  Q 15.4375 72.65625 20.34375 73.4375  Q 25.25 74.21875 29.59375 74.21875  Q 40.828125 74.21875 47.359375 69.109375  Q 53.90625 64.015625 53.90625 55.328125  Q 53.90625 49.265625 50.4375 45.09375  Q 46.96875 40.921875 40.578125 39.3125  z \" id=\"DejaVuSans-33\"/>\n",
       "      </defs>\n",
       "      <g transform=\"translate(325.744938 266.598437)scale(0.1 -0.1)\">\n",
       "       <use xlink:href=\"#DejaVuSans-33\"/>\n",
       "       <use x=\"63.623047\" xlink:href=\"#DejaVuSans-30\"/>\n",
       "      </g>\n",
       "     </g>\n",
       "    </g>\n",
       "    <g id=\"text_8\">\n",
       "     <!-- Epoch -->\n",
       "     <defs>\n",
       "      <path d=\"M 9.8125 72.90625  L 55.90625 72.90625  L 55.90625 64.59375  L 19.671875 64.59375  L 19.671875 43.015625  L 54.390625 43.015625  L 54.390625 34.71875  L 19.671875 34.71875  L 19.671875 8.296875  L 56.78125 8.296875  L 56.78125 0  L 9.8125 0  z \" id=\"DejaVuSans-45\"/>\n",
       "      <path d=\"M 18.109375 8.203125  L 18.109375 -20.796875  L 9.078125 -20.796875  L 9.078125 54.6875  L 18.109375 54.6875  L 18.109375 46.390625  Q 20.953125 51.265625 25.265625 53.625  Q 29.59375 56 35.59375 56  Q 45.5625 56 51.78125 48.09375  Q 58.015625 40.1875 58.015625 27.296875  Q 58.015625 14.40625 51.78125 6.484375  Q 45.5625 -1.421875 35.59375 -1.421875  Q 29.59375 -1.421875 25.265625 0.953125  Q 20.953125 3.328125 18.109375 8.203125  z M 48.6875 27.296875  Q 48.6875 37.203125 44.609375 42.84375  Q 40.53125 48.484375 33.40625 48.484375  Q 26.265625 48.484375 22.1875 42.84375  Q 18.109375 37.203125 18.109375 27.296875  Q 18.109375 17.390625 22.1875 11.75  Q 26.265625 6.109375 33.40625 6.109375  Q 40.53125 6.109375 44.609375 11.75  Q 48.6875 17.390625 48.6875 27.296875  z \" id=\"DejaVuSans-70\"/>\n",
       "      <path d=\"M 30.609375 48.390625  Q 23.390625 48.390625 19.1875 42.75  Q 14.984375 37.109375 14.984375 27.296875  Q 14.984375 17.484375 19.15625 11.84375  Q 23.34375 6.203125 30.609375 6.203125  Q 37.796875 6.203125 41.984375 11.859375  Q 46.1875 17.53125 46.1875 27.296875  Q 46.1875 37.015625 41.984375 42.703125  Q 37.796875 48.390625 30.609375 48.390625  z M 30.609375 56  Q 42.328125 56 49.015625 48.375  Q 55.71875 40.765625 55.71875 27.296875  Q 55.71875 13.875 49.015625 6.21875  Q 42.328125 -1.421875 30.609375 -1.421875  Q 18.84375 -1.421875 12.171875 6.21875  Q 5.515625 13.875 5.515625 27.296875  Q 5.515625 40.765625 12.171875 48.375  Q 18.84375 56 30.609375 56  z \" id=\"DejaVuSans-6f\"/>\n",
       "      <path d=\"M 48.78125 52.59375  L 48.78125 44.1875  Q 44.96875 46.296875 41.140625 47.34375  Q 37.3125 48.390625 33.40625 48.390625  Q 24.65625 48.390625 19.8125 42.84375  Q 14.984375 37.3125 14.984375 27.296875  Q 14.984375 17.28125 19.8125 11.734375  Q 24.65625 6.203125 33.40625 6.203125  Q 37.3125 6.203125 41.140625 7.25  Q 44.96875 8.296875 48.78125 10.40625  L 48.78125 2.09375  Q 45.015625 0.34375 40.984375 -0.53125  Q 36.96875 -1.421875 32.421875 -1.421875  Q 20.0625 -1.421875 12.78125 6.34375  Q 5.515625 14.109375 5.515625 27.296875  Q 5.515625 40.671875 12.859375 48.328125  Q 20.21875 56 33.015625 56  Q 37.15625 56 41.109375 55.140625  Q 45.0625 54.296875 48.78125 52.59375  z \" id=\"DejaVuSans-63\"/>\n",
       "      <path d=\"M 54.890625 33.015625  L 54.890625 0  L 45.90625 0  L 45.90625 32.71875  Q 45.90625 40.484375 42.875 44.328125  Q 39.84375 48.1875 33.796875 48.1875  Q 26.515625 48.1875 22.3125 43.546875  Q 18.109375 38.921875 18.109375 30.90625  L 18.109375 0  L 9.078125 0  L 9.078125 75.984375  L 18.109375 75.984375  L 18.109375 46.1875  Q 21.34375 51.125 25.703125 53.5625  Q 30.078125 56 35.796875 56  Q 45.21875 56 50.046875 50.171875  Q 54.890625 44.34375 54.890625 33.015625  z \" id=\"DejaVuSans-68\"/>\n",
       "     </defs>\n",
       "     <g transform=\"translate(201.507244 280.276563)scale(0.1 -0.1)\">\n",
       "      <use xlink:href=\"#DejaVuSans-45\"/>\n",
       "      <use x=\"63.183594\" xlink:href=\"#DejaVuSans-70\"/>\n",
       "      <use x=\"126.660156\" xlink:href=\"#DejaVuSans-6f\"/>\n",
       "      <use x=\"187.841797\" xlink:href=\"#DejaVuSans-63\"/>\n",
       "      <use x=\"242.822266\" xlink:href=\"#DejaVuSans-68\"/>\n",
       "     </g>\n",
       "    </g>\n",
       "   </g>\n",
       "   <g id=\"matplotlib.axis_2\">\n",
       "    <g id=\"ytick_1\">\n",
       "     <g id=\"line2d_8\">\n",
       "      <defs>\n",
       "       <path d=\"M 0 0  L -3.5 0  \" id=\"m43e58e6f55\" style=\"stroke:#000000;stroke-width:0.8;\"/>\n",
       "      </defs>\n",
       "      <g>\n",
       "       <use style=\"stroke:#000000;stroke-width:0.8;\" x=\"90\" xlink:href=\"#m43e58e6f55\" y=\"252\"/>\n",
       "      </g>\n",
       "     </g>\n",
       "     <g id=\"text_9\">\n",
       "      <!-- 0.0 -->\n",
       "      <defs>\n",
       "       <path d=\"M 10.6875 12.40625  L 21 12.40625  L 21 0  L 10.6875 0  z \" id=\"DejaVuSans-2e\"/>\n",
       "      </defs>\n",
       "      <g transform=\"translate(67.096875 255.799219)scale(0.1 -0.1)\">\n",
       "       <use xlink:href=\"#DejaVuSans-30\"/>\n",
       "       <use x=\"63.623047\" xlink:href=\"#DejaVuSans-2e\"/>\n",
       "       <use x=\"95.410156\" xlink:href=\"#DejaVuSans-30\"/>\n",
       "      </g>\n",
       "     </g>\n",
       "    </g>\n",
       "    <g id=\"ytick_2\">\n",
       "     <g id=\"line2d_9\">\n",
       "      <g>\n",
       "       <use style=\"stroke:#000000;stroke-width:0.8;\" x=\"90\" xlink:href=\"#m43e58e6f55\" y=\"208.106767\"/>\n",
       "      </g>\n",
       "     </g>\n",
       "     <g id=\"text_10\">\n",
       "      <!-- 0.5 -->\n",
       "      <g transform=\"translate(67.096875 211.905986)scale(0.1 -0.1)\">\n",
       "       <use xlink:href=\"#DejaVuSans-30\"/>\n",
       "       <use x=\"63.623047\" xlink:href=\"#DejaVuSans-2e\"/>\n",
       "       <use x=\"95.410156\" xlink:href=\"#DejaVuSans-35\"/>\n",
       "      </g>\n",
       "     </g>\n",
       "    </g>\n",
       "    <g id=\"ytick_3\">\n",
       "     <g id=\"line2d_10\">\n",
       "      <g>\n",
       "       <use style=\"stroke:#000000;stroke-width:0.8;\" x=\"90\" xlink:href=\"#m43e58e6f55\" y=\"164.213534\"/>\n",
       "      </g>\n",
       "     </g>\n",
       "     <g id=\"text_11\">\n",
       "      <!-- 1.0 -->\n",
       "      <g transform=\"translate(67.096875 168.012753)scale(0.1 -0.1)\">\n",
       "       <use xlink:href=\"#DejaVuSans-31\"/>\n",
       "       <use x=\"63.623047\" xlink:href=\"#DejaVuSans-2e\"/>\n",
       "       <use x=\"95.410156\" xlink:href=\"#DejaVuSans-30\"/>\n",
       "      </g>\n",
       "     </g>\n",
       "    </g>\n",
       "    <g id=\"ytick_4\">\n",
       "     <g id=\"line2d_11\">\n",
       "      <g>\n",
       "       <use style=\"stroke:#000000;stroke-width:0.8;\" x=\"90\" xlink:href=\"#m43e58e6f55\" y=\"120.320301\"/>\n",
       "      </g>\n",
       "     </g>\n",
       "     <g id=\"text_12\">\n",
       "      <!-- 1.5 -->\n",
       "      <g transform=\"translate(67.096875 124.11952)scale(0.1 -0.1)\">\n",
       "       <use xlink:href=\"#DejaVuSans-31\"/>\n",
       "       <use x=\"63.623047\" xlink:href=\"#DejaVuSans-2e\"/>\n",
       "       <use x=\"95.410156\" xlink:href=\"#DejaVuSans-35\"/>\n",
       "      </g>\n",
       "     </g>\n",
       "    </g>\n",
       "    <g id=\"ytick_5\">\n",
       "     <g id=\"line2d_12\">\n",
       "      <g>\n",
       "       <use style=\"stroke:#000000;stroke-width:0.8;\" x=\"90\" xlink:href=\"#m43e58e6f55\" y=\"76.427068\"/>\n",
       "      </g>\n",
       "     </g>\n",
       "     <g id=\"text_13\">\n",
       "      <!-- 2.0 -->\n",
       "      <g transform=\"translate(67.096875 80.226287)scale(0.1 -0.1)\">\n",
       "       <use xlink:href=\"#DejaVuSans-32\"/>\n",
       "       <use x=\"63.623047\" xlink:href=\"#DejaVuSans-2e\"/>\n",
       "       <use x=\"95.410156\" xlink:href=\"#DejaVuSans-30\"/>\n",
       "      </g>\n",
       "     </g>\n",
       "    </g>\n",
       "   </g>\n",
       "   <g id=\"line2d_13\">\n",
       "    <path clip-path=\"url(#p42ceb5196b)\" d=\"M 101.528926 44.307958  L 109.214876 186.689215  L 116.900826 216.17204  L 124.586777 221.21196  L 132.272727 224.39505  L 139.958678 225.99008  L 147.644628 227.419516  L 155.330579 228.550296  L 163.016529 229.208504  L 170.702479 230.074795  L 178.38843 230.771336  L 186.07438 230.923759  L 193.760331 231.360395  L 201.446281 231.738259  L 209.132231 231.953544  L 216.818182 232.171164  L 224.504132 232.674339  L 232.190083 232.957187  L 239.876033 233.225471  L 247.561983 233.307081  L 255.247934 233.307586  L 262.933884 233.377062  L 270.619835 233.954958  L 278.305785 233.942349  L 285.991736 233.561354  L 293.677686 234.200044  L 301.363636 233.86829  L 309.049587 234.223487  L 316.735537 234.063778  L 324.421488 234.749212  L 332.107438 234.567996  \" style=\"fill:none;stroke:#1f77b4;stroke-linecap:square;stroke-width:1.5;\"/>\n",
       "   </g>\n",
       "   <g id=\"line2d_14\">\n",
       "    <path clip-path=\"url(#p42ceb5196b)\" d=\"M 101.528926 44.53934  L 109.214876 227.344126  L 116.900826 231.63049  L 124.586777 234.11025  L 132.272727 235.52906  L 139.958678 236.470194  L 147.644628 237.05906  L 155.330579 237.139504  L 163.016529 237.784582  L 170.702479 237.824093  L 178.38843 237.84388  L 186.07438 238.682969  L 193.760331 238.456163  L 201.446281 238.60198  L 209.132231 238.549269  L 216.818182 238.507491  L 224.504132 238.611514  L 232.190083 238.564755  L 239.876033 238.988156  L 247.561983 238.545191  L 255.247934 238.853198  L 262.933884 238.640835  L 270.619835 238.891699  L 278.305785 239.267126  L 285.991736 238.565315  L 293.677686 238.378281  L 301.363636 238.882028  L 309.049587 238.785817  L 316.735537 238.723115  L 324.421488 238.76332  L 332.107438 238.625855  \" style=\"fill:none;stroke:#ff7f0e;stroke-linecap:square;stroke-width:1.5;\"/>\n",
       "   </g>\n",
       "   <g id=\"patch_3\">\n",
       "    <path d=\"M 90 252  L 90 34.56  \" style=\"fill:none;stroke:#000000;stroke-linecap:square;stroke-linejoin:miter;stroke-width:0.8;\"/>\n",
       "   </g>\n",
       "   <g id=\"patch_4\">\n",
       "    <path d=\"M 343.636364 252  L 343.636364 34.56  \" style=\"fill:none;stroke:#000000;stroke-linecap:square;stroke-linejoin:miter;stroke-width:0.8;\"/>\n",
       "   </g>\n",
       "   <g id=\"patch_5\">\n",
       "    <path d=\"M 90 252  L 343.636364 252  \" style=\"fill:none;stroke:#000000;stroke-linecap:square;stroke-linejoin:miter;stroke-width:0.8;\"/>\n",
       "   </g>\n",
       "   <g id=\"patch_6\">\n",
       "    <path d=\"M 90 34.56  L 343.636364 34.56  \" style=\"fill:none;stroke:#000000;stroke-linecap:square;stroke-linejoin:miter;stroke-width:0.8;\"/>\n",
       "   </g>\n",
       "   <g id=\"text_14\">\n",
       "    <!-- MNIST_MLP: Error -->\n",
       "    <defs>\n",
       "     <path d=\"M 9.8125 72.90625  L 24.515625 72.90625  L 43.109375 23.296875  L 61.8125 72.90625  L 76.515625 72.90625  L 76.515625 0  L 66.890625 0  L 66.890625 64.015625  L 48.09375 14.015625  L 38.1875 14.015625  L 19.390625 64.015625  L 19.390625 0  L 9.8125 0  z \" id=\"DejaVuSans-4d\"/>\n",
       "     <path d=\"M 9.8125 72.90625  L 23.09375 72.90625  L 55.421875 11.921875  L 55.421875 72.90625  L 64.984375 72.90625  L 64.984375 0  L 51.703125 0  L 19.390625 60.984375  L 19.390625 0  L 9.8125 0  z \" id=\"DejaVuSans-4e\"/>\n",
       "     <path d=\"M 9.8125 72.90625  L 19.671875 72.90625  L 19.671875 0  L 9.8125 0  z \" id=\"DejaVuSans-49\"/>\n",
       "     <path d=\"M 53.515625 70.515625  L 53.515625 60.890625  Q 47.90625 63.578125 42.921875 64.890625  Q 37.9375 66.21875 33.296875 66.21875  Q 25.25 66.21875 20.875 63.09375  Q 16.5 59.96875 16.5 54.203125  Q 16.5 49.359375 19.40625 46.890625  Q 22.3125 44.4375 30.421875 42.921875  L 36.375 41.703125  Q 47.40625 39.59375 52.65625 34.296875  Q 57.90625 29 57.90625 20.125  Q 57.90625 9.515625 50.796875 4.046875  Q 43.703125 -1.421875 29.984375 -1.421875  Q 24.8125 -1.421875 18.96875 -0.25  Q 13.140625 0.921875 6.890625 3.21875  L 6.890625 13.375  Q 12.890625 10.015625 18.65625 8.296875  Q 24.421875 6.59375 29.984375 6.59375  Q 38.421875 6.59375 43.015625 9.90625  Q 47.609375 13.234375 47.609375 19.390625  Q 47.609375 24.75 44.3125 27.78125  Q 41.015625 30.8125 33.5 32.328125  L 27.484375 33.5  Q 16.453125 35.6875 11.515625 40.375  Q 6.59375 45.0625 6.59375 53.421875  Q 6.59375 63.09375 13.40625 68.65625  Q 20.21875 74.21875 32.171875 74.21875  Q 37.3125 74.21875 42.625 73.28125  Q 47.953125 72.359375 53.515625 70.515625  z \" id=\"DejaVuSans-53\"/>\n",
       "     <path d=\"M -0.296875 72.90625  L 61.375 72.90625  L 61.375 64.59375  L 35.5 64.59375  L 35.5 0  L 25.59375 0  L 25.59375 64.59375  L -0.296875 64.59375  z \" id=\"DejaVuSans-54\"/>\n",
       "     <path d=\"M 50.984375 -16.609375  L 50.984375 -23.578125  L -0.984375 -23.578125  L -0.984375 -16.609375  z \" id=\"DejaVuSans-5f\"/>\n",
       "     <path d=\"M 9.8125 72.90625  L 19.671875 72.90625  L 19.671875 8.296875  L 55.171875 8.296875  L 55.171875 0  L 9.8125 0  z \" id=\"DejaVuSans-4c\"/>\n",
       "     <path d=\"M 19.671875 64.796875  L 19.671875 37.40625  L 32.078125 37.40625  Q 38.96875 37.40625 42.71875 40.96875  Q 46.484375 44.53125 46.484375 51.125  Q 46.484375 57.671875 42.71875 61.234375  Q 38.96875 64.796875 32.078125 64.796875  z M 9.8125 72.90625  L 32.078125 72.90625  Q 44.34375 72.90625 50.609375 67.359375  Q 56.890625 61.8125 56.890625 51.125  Q 56.890625 40.328125 50.609375 34.8125  Q 44.34375 29.296875 32.078125 29.296875  L 19.671875 29.296875  L 19.671875 0  L 9.8125 0  z \" id=\"DejaVuSans-50\"/>\n",
       "     <path d=\"M 11.71875 12.40625  L 22.015625 12.40625  L 22.015625 0  L 11.71875 0  z M 11.71875 51.703125  L 22.015625 51.703125  L 22.015625 39.3125  L 11.71875 39.3125  z \" id=\"DejaVuSans-3a\"/>\n",
       "     <path id=\"DejaVuSans-20\"/>\n",
       "     <path d=\"M 41.109375 46.296875  Q 39.59375 47.171875 37.8125 47.578125  Q 36.03125 48 33.890625 48  Q 26.265625 48 22.1875 43.046875  Q 18.109375 38.09375 18.109375 28.8125  L 18.109375 0  L 9.078125 0  L 9.078125 54.6875  L 18.109375 54.6875  L 18.109375 46.1875  Q 20.953125 51.171875 25.484375 53.578125  Q 30.03125 56 36.53125 56  Q 37.453125 56 38.578125 55.875  Q 39.703125 55.765625 41.0625 55.515625  z \" id=\"DejaVuSans-72\"/>\n",
       "    </defs>\n",
       "    <g transform=\"translate(163.983494 28.56)scale(0.12 -0.12)\">\n",
       "     <use xlink:href=\"#DejaVuSans-4d\"/>\n",
       "     <use x=\"86.279297\" xlink:href=\"#DejaVuSans-4e\"/>\n",
       "     <use x=\"161.083984\" xlink:href=\"#DejaVuSans-49\"/>\n",
       "     <use x=\"190.576172\" xlink:href=\"#DejaVuSans-53\"/>\n",
       "     <use x=\"254.052734\" xlink:href=\"#DejaVuSans-54\"/>\n",
       "     <use x=\"315.136719\" xlink:href=\"#DejaVuSans-5f\"/>\n",
       "     <use x=\"365.136719\" xlink:href=\"#DejaVuSans-4d\"/>\n",
       "     <use x=\"451.416016\" xlink:href=\"#DejaVuSans-4c\"/>\n",
       "     <use x=\"507.128906\" xlink:href=\"#DejaVuSans-50\"/>\n",
       "     <use x=\"567.431641\" xlink:href=\"#DejaVuSans-3a\"/>\n",
       "     <use x=\"601.123047\" xlink:href=\"#DejaVuSans-20\"/>\n",
       "     <use x=\"632.910156\" xlink:href=\"#DejaVuSans-45\"/>\n",
       "     <use x=\"696.09375\" xlink:href=\"#DejaVuSans-72\"/>\n",
       "     <use x=\"737.191406\" xlink:href=\"#DejaVuSans-72\"/>\n",
       "     <use x=\"778.273438\" xlink:href=\"#DejaVuSans-6f\"/>\n",
       "     <use x=\"839.455078\" xlink:href=\"#DejaVuSans-72\"/>\n",
       "    </g>\n",
       "   </g>\n",
       "   <g id=\"legend_1\">\n",
       "    <g id=\"patch_7\">\n",
       "     <path d=\"M 236.030114 71.91625  L 336.636364 71.91625  Q 338.636364 71.91625 338.636364 69.91625  L 338.636364 41.56  Q 338.636364 39.56 336.636364 39.56  L 236.030114 39.56  Q 234.030114 39.56 234.030114 41.56  L 234.030114 69.91625  Q 234.030114 71.91625 236.030114 71.91625  z \" style=\"fill:#ffffff;opacity:0.8;stroke:#cccccc;stroke-linejoin:miter;\"/>\n",
       "    </g>\n",
       "    <g id=\"line2d_15\">\n",
       "     <path d=\"M 238.030114 47.658437  L 258.030114 47.658437  \" style=\"fill:none;stroke:#1f77b4;stroke-linecap:square;stroke-width:1.5;\"/>\n",
       "    </g>\n",
       "    <g id=\"line2d_16\"/>\n",
       "    <g id=\"text_15\">\n",
       "     <!-- Training set -->\n",
       "     <defs>\n",
       "      <path d=\"M 34.28125 27.484375  Q 23.390625 27.484375 19.1875 25  Q 14.984375 22.515625 14.984375 16.5  Q 14.984375 11.71875 18.140625 8.90625  Q 21.296875 6.109375 26.703125 6.109375  Q 34.1875 6.109375 38.703125 11.40625  Q 43.21875 16.703125 43.21875 25.484375  L 43.21875 27.484375  z M 52.203125 31.203125  L 52.203125 0  L 43.21875 0  L 43.21875 8.296875  Q 40.140625 3.328125 35.546875 0.953125  Q 30.953125 -1.421875 24.3125 -1.421875  Q 15.921875 -1.421875 10.953125 3.296875  Q 6 8.015625 6 15.921875  Q 6 25.140625 12.171875 29.828125  Q 18.359375 34.515625 30.609375 34.515625  L 43.21875 34.515625  L 43.21875 35.40625  Q 43.21875 41.609375 39.140625 45  Q 35.0625 48.390625 27.6875 48.390625  Q 23 48.390625 18.546875 47.265625  Q 14.109375 46.140625 10.015625 43.890625  L 10.015625 52.203125  Q 14.9375 54.109375 19.578125 55.046875  Q 24.21875 56 28.609375 56  Q 40.484375 56 46.34375 49.84375  Q 52.203125 43.703125 52.203125 31.203125  z \" id=\"DejaVuSans-61\"/>\n",
       "      <path d=\"M 9.421875 54.6875  L 18.40625 54.6875  L 18.40625 0  L 9.421875 0  z M 9.421875 75.984375  L 18.40625 75.984375  L 18.40625 64.59375  L 9.421875 64.59375  z \" id=\"DejaVuSans-69\"/>\n",
       "      <path d=\"M 54.890625 33.015625  L 54.890625 0  L 45.90625 0  L 45.90625 32.71875  Q 45.90625 40.484375 42.875 44.328125  Q 39.84375 48.1875 33.796875 48.1875  Q 26.515625 48.1875 22.3125 43.546875  Q 18.109375 38.921875 18.109375 30.90625  L 18.109375 0  L 9.078125 0  L 9.078125 54.6875  L 18.109375 54.6875  L 18.109375 46.1875  Q 21.34375 51.125 25.703125 53.5625  Q 30.078125 56 35.796875 56  Q 45.21875 56 50.046875 50.171875  Q 54.890625 44.34375 54.890625 33.015625  z \" id=\"DejaVuSans-6e\"/>\n",
       "      <path d=\"M 45.40625 27.984375  Q 45.40625 37.75 41.375 43.109375  Q 37.359375 48.484375 30.078125 48.484375  Q 22.859375 48.484375 18.828125 43.109375  Q 14.796875 37.75 14.796875 27.984375  Q 14.796875 18.265625 18.828125 12.890625  Q 22.859375 7.515625 30.078125 7.515625  Q 37.359375 7.515625 41.375 12.890625  Q 45.40625 18.265625 45.40625 27.984375  z M 54.390625 6.78125  Q 54.390625 -7.171875 48.1875 -13.984375  Q 42 -20.796875 29.203125 -20.796875  Q 24.46875 -20.796875 20.265625 -20.09375  Q 16.0625 -19.390625 12.109375 -17.921875  L 12.109375 -9.1875  Q 16.0625 -11.328125 19.921875 -12.34375  Q 23.78125 -13.375 27.78125 -13.375  Q 36.625 -13.375 41.015625 -8.765625  Q 45.40625 -4.15625 45.40625 5.171875  L 45.40625 9.625  Q 42.625 4.78125 38.28125 2.390625  Q 33.9375 0 27.875 0  Q 17.828125 0 11.671875 7.65625  Q 5.515625 15.328125 5.515625 27.984375  Q 5.515625 40.671875 11.671875 48.328125  Q 17.828125 56 27.875 56  Q 33.9375 56 38.28125 53.609375  Q 42.625 51.21875 45.40625 46.390625  L 45.40625 54.6875  L 54.390625 54.6875  z \" id=\"DejaVuSans-67\"/>\n",
       "      <path d=\"M 44.28125 53.078125  L 44.28125 44.578125  Q 40.484375 46.53125 36.375 47.5  Q 32.28125 48.484375 27.875 48.484375  Q 21.1875 48.484375 17.84375 46.4375  Q 14.5 44.390625 14.5 40.28125  Q 14.5 37.15625 16.890625 35.375  Q 19.28125 33.59375 26.515625 31.984375  L 29.59375 31.296875  Q 39.15625 29.25 43.1875 25.515625  Q 47.21875 21.78125 47.21875 15.09375  Q 47.21875 7.46875 41.1875 3.015625  Q 35.15625 -1.421875 24.609375 -1.421875  Q 20.21875 -1.421875 15.453125 -0.5625  Q 10.6875 0.296875 5.421875 2  L 5.421875 11.28125  Q 10.40625 8.6875 15.234375 7.390625  Q 20.0625 6.109375 24.8125 6.109375  Q 31.15625 6.109375 34.5625 8.28125  Q 37.984375 10.453125 37.984375 14.40625  Q 37.984375 18.0625 35.515625 20.015625  Q 33.0625 21.96875 24.703125 23.78125  L 21.578125 24.515625  Q 13.234375 26.265625 9.515625 29.90625  Q 5.8125 33.546875 5.8125 39.890625  Q 5.8125 47.609375 11.28125 51.796875  Q 16.75 56 26.8125 56  Q 31.78125 56 36.171875 55.265625  Q 40.578125 54.546875 44.28125 53.078125  z \" id=\"DejaVuSans-73\"/>\n",
       "      <path d=\"M 56.203125 29.59375  L 56.203125 25.203125  L 14.890625 25.203125  Q 15.484375 15.921875 20.484375 11.0625  Q 25.484375 6.203125 34.421875 6.203125  Q 39.59375 6.203125 44.453125 7.46875  Q 49.3125 8.734375 54.109375 11.28125  L 54.109375 2.78125  Q 49.265625 0.734375 44.1875 -0.34375  Q 39.109375 -1.421875 33.890625 -1.421875  Q 20.796875 -1.421875 13.15625 6.1875  Q 5.515625 13.8125 5.515625 26.8125  Q 5.515625 40.234375 12.765625 48.109375  Q 20.015625 56 32.328125 56  Q 43.359375 56 49.78125 48.890625  Q 56.203125 41.796875 56.203125 29.59375  z M 47.21875 32.234375  Q 47.125 39.59375 43.09375 43.984375  Q 39.0625 48.390625 32.421875 48.390625  Q 24.90625 48.390625 20.390625 44.140625  Q 15.875 39.890625 15.1875 32.171875  z \" id=\"DejaVuSans-65\"/>\n",
       "      <path d=\"M 18.3125 70.21875  L 18.3125 54.6875  L 36.8125 54.6875  L 36.8125 47.703125  L 18.3125 47.703125  L 18.3125 18.015625  Q 18.3125 11.328125 20.140625 9.421875  Q 21.96875 7.515625 27.59375 7.515625  L 36.8125 7.515625  L 36.8125 0  L 27.59375 0  Q 17.1875 0 13.234375 3.875  Q 9.28125 7.765625 9.28125 18.015625  L 9.28125 47.703125  L 2.6875 47.703125  L 2.6875 54.6875  L 9.28125 54.6875  L 9.28125 70.21875  z \" id=\"DejaVuSans-74\"/>\n",
       "     </defs>\n",
       "     <g transform=\"translate(266.030114 51.158437)scale(0.1 -0.1)\">\n",
       "      <use xlink:href=\"#DejaVuSans-54\"/>\n",
       "      <use x=\"60.865234\" xlink:href=\"#DejaVuSans-72\"/>\n",
       "      <use x=\"101.978516\" xlink:href=\"#DejaVuSans-61\"/>\n",
       "      <use x=\"163.257812\" xlink:href=\"#DejaVuSans-69\"/>\n",
       "      <use x=\"191.041016\" xlink:href=\"#DejaVuSans-6e\"/>\n",
       "      <use x=\"254.419922\" xlink:href=\"#DejaVuSans-69\"/>\n",
       "      <use x=\"282.203125\" xlink:href=\"#DejaVuSans-6e\"/>\n",
       "      <use x=\"345.582031\" xlink:href=\"#DejaVuSans-67\"/>\n",
       "      <use x=\"409.058594\" xlink:href=\"#DejaVuSans-20\"/>\n",
       "      <use x=\"440.845703\" xlink:href=\"#DejaVuSans-73\"/>\n",
       "      <use x=\"492.945312\" xlink:href=\"#DejaVuSans-65\"/>\n",
       "      <use x=\"554.46875\" xlink:href=\"#DejaVuSans-74\"/>\n",
       "     </g>\n",
       "    </g>\n",
       "    <g id=\"line2d_17\">\n",
       "     <path d=\"M 238.030114 62.336562  L 258.030114 62.336562  \" style=\"fill:none;stroke:#ff7f0e;stroke-linecap:square;stroke-width:1.5;\"/>\n",
       "    </g>\n",
       "    <g id=\"line2d_18\"/>\n",
       "    <g id=\"text_16\">\n",
       "     <!-- Validation set -->\n",
       "     <defs>\n",
       "      <path d=\"M 28.609375 0  L 0.78125 72.90625  L 11.078125 72.90625  L 34.1875 11.53125  L 57.328125 72.90625  L 67.578125 72.90625  L 39.796875 0  z \" id=\"DejaVuSans-56\"/>\n",
       "      <path d=\"M 9.421875 75.984375  L 18.40625 75.984375  L 18.40625 0  L 9.421875 0  z \" id=\"DejaVuSans-6c\"/>\n",
       "      <path d=\"M 45.40625 46.390625  L 45.40625 75.984375  L 54.390625 75.984375  L 54.390625 0  L 45.40625 0  L 45.40625 8.203125  Q 42.578125 3.328125 38.25 0.953125  Q 33.9375 -1.421875 27.875 -1.421875  Q 17.96875 -1.421875 11.734375 6.484375  Q 5.515625 14.40625 5.515625 27.296875  Q 5.515625 40.1875 11.734375 48.09375  Q 17.96875 56 27.875 56  Q 33.9375 56 38.25 53.625  Q 42.578125 51.265625 45.40625 46.390625  z M 14.796875 27.296875  Q 14.796875 17.390625 18.875 11.75  Q 22.953125 6.109375 30.078125 6.109375  Q 37.203125 6.109375 41.296875 11.75  Q 45.40625 17.390625 45.40625 27.296875  Q 45.40625 37.203125 41.296875 42.84375  Q 37.203125 48.484375 30.078125 48.484375  Q 22.953125 48.484375 18.875 42.84375  Q 14.796875 37.203125 14.796875 27.296875  z \" id=\"DejaVuSans-64\"/>\n",
       "     </defs>\n",
       "     <g transform=\"translate(266.030114 65.836562)scale(0.1 -0.1)\">\n",
       "      <use xlink:href=\"#DejaVuSans-56\"/>\n",
       "      <use x=\"68.298828\" xlink:href=\"#DejaVuSans-61\"/>\n",
       "      <use x=\"129.578125\" xlink:href=\"#DejaVuSans-6c\"/>\n",
       "      <use x=\"157.361328\" xlink:href=\"#DejaVuSans-69\"/>\n",
       "      <use x=\"185.144531\" xlink:href=\"#DejaVuSans-64\"/>\n",
       "      <use x=\"248.621094\" xlink:href=\"#DejaVuSans-61\"/>\n",
       "      <use x=\"309.900391\" xlink:href=\"#DejaVuSans-74\"/>\n",
       "      <use x=\"349.109375\" xlink:href=\"#DejaVuSans-69\"/>\n",
       "      <use x=\"376.892578\" xlink:href=\"#DejaVuSans-6f\"/>\n",
       "      <use x=\"438.074219\" xlink:href=\"#DejaVuSans-6e\"/>\n",
       "      <use x=\"501.453125\" xlink:href=\"#DejaVuSans-20\"/>\n",
       "      <use x=\"533.240234\" xlink:href=\"#DejaVuSans-73\"/>\n",
       "      <use x=\"585.339844\" xlink:href=\"#DejaVuSans-65\"/>\n",
       "      <use x=\"646.863281\" xlink:href=\"#DejaVuSans-74\"/>\n",
       "     </g>\n",
       "    </g>\n",
       "   </g>\n",
       "  </g>\n",
       "  <g id=\"axes_2\">\n",
       "   <g id=\"patch_8\">\n",
       "    <path d=\"M 394.363636 252  L 648 252  L 648 34.56  L 394.363636 34.56  z \" style=\"fill:#ffffff;\"/>\n",
       "   </g>\n",
       "   <g id=\"matplotlib.axis_3\">\n",
       "    <g id=\"xtick_8\">\n",
       "     <g id=\"line2d_19\">\n",
       "      <g>\n",
       "       <use style=\"stroke:#000000;stroke-width:0.8;\" x=\"405.892562\" xlink:href=\"#m13739314b2\" y=\"252\"/>\n",
       "      </g>\n",
       "     </g>\n",
       "     <g id=\"text_17\">\n",
       "      <!-- 0 -->\n",
       "      <g transform=\"translate(402.711312 266.598437)scale(0.1 -0.1)\">\n",
       "       <use xlink:href=\"#DejaVuSans-30\"/>\n",
       "      </g>\n",
       "     </g>\n",
       "    </g>\n",
       "    <g id=\"xtick_9\">\n",
       "     <g id=\"line2d_20\">\n",
       "      <g>\n",
       "       <use style=\"stroke:#000000;stroke-width:0.8;\" x=\"444.322314\" xlink:href=\"#m13739314b2\" y=\"252\"/>\n",
       "      </g>\n",
       "     </g>\n",
       "     <g id=\"text_18\">\n",
       "      <!-- 5 -->\n",
       "      <g transform=\"translate(441.141064 266.598437)scale(0.1 -0.1)\">\n",
       "       <use xlink:href=\"#DejaVuSans-35\"/>\n",
       "      </g>\n",
       "     </g>\n",
       "    </g>\n",
       "    <g id=\"xtick_10\">\n",
       "     <g id=\"line2d_21\">\n",
       "      <g>\n",
       "       <use style=\"stroke:#000000;stroke-width:0.8;\" x=\"482.752066\" xlink:href=\"#m13739314b2\" y=\"252\"/>\n",
       "      </g>\n",
       "     </g>\n",
       "     <g id=\"text_19\">\n",
       "      <!-- 10 -->\n",
       "      <g transform=\"translate(476.389566 266.598437)scale(0.1 -0.1)\">\n",
       "       <use xlink:href=\"#DejaVuSans-31\"/>\n",
       "       <use x=\"63.623047\" xlink:href=\"#DejaVuSans-30\"/>\n",
       "      </g>\n",
       "     </g>\n",
       "    </g>\n",
       "    <g id=\"xtick_11\">\n",
       "     <g id=\"line2d_22\">\n",
       "      <g>\n",
       "       <use style=\"stroke:#000000;stroke-width:0.8;\" x=\"521.181818\" xlink:href=\"#m13739314b2\" y=\"252\"/>\n",
       "      </g>\n",
       "     </g>\n",
       "     <g id=\"text_20\">\n",
       "      <!-- 15 -->\n",
       "      <g transform=\"translate(514.819318 266.598437)scale(0.1 -0.1)\">\n",
       "       <use xlink:href=\"#DejaVuSans-31\"/>\n",
       "       <use x=\"63.623047\" xlink:href=\"#DejaVuSans-35\"/>\n",
       "      </g>\n",
       "     </g>\n",
       "    </g>\n",
       "    <g id=\"xtick_12\">\n",
       "     <g id=\"line2d_23\">\n",
       "      <g>\n",
       "       <use style=\"stroke:#000000;stroke-width:0.8;\" x=\"559.61157\" xlink:href=\"#m13739314b2\" y=\"252\"/>\n",
       "      </g>\n",
       "     </g>\n",
       "     <g id=\"text_21\">\n",
       "      <!-- 20 -->\n",
       "      <g transform=\"translate(553.24907 266.598437)scale(0.1 -0.1)\">\n",
       "       <use xlink:href=\"#DejaVuSans-32\"/>\n",
       "       <use x=\"63.623047\" xlink:href=\"#DejaVuSans-30\"/>\n",
       "      </g>\n",
       "     </g>\n",
       "    </g>\n",
       "    <g id=\"xtick_13\">\n",
       "     <g id=\"line2d_24\">\n",
       "      <g>\n",
       "       <use style=\"stroke:#000000;stroke-width:0.8;\" x=\"598.041322\" xlink:href=\"#m13739314b2\" y=\"252\"/>\n",
       "      </g>\n",
       "     </g>\n",
       "     <g id=\"text_22\">\n",
       "      <!-- 25 -->\n",
       "      <g transform=\"translate(591.678822 266.598437)scale(0.1 -0.1)\">\n",
       "       <use xlink:href=\"#DejaVuSans-32\"/>\n",
       "       <use x=\"63.623047\" xlink:href=\"#DejaVuSans-35\"/>\n",
       "      </g>\n",
       "     </g>\n",
       "    </g>\n",
       "    <g id=\"xtick_14\">\n",
       "     <g id=\"line2d_25\">\n",
       "      <g>\n",
       "       <use style=\"stroke:#000000;stroke-width:0.8;\" x=\"636.471074\" xlink:href=\"#m13739314b2\" y=\"252\"/>\n",
       "      </g>\n",
       "     </g>\n",
       "     <g id=\"text_23\">\n",
       "      <!-- 30 -->\n",
       "      <g transform=\"translate(630.108574 266.598437)scale(0.1 -0.1)\">\n",
       "       <use xlink:href=\"#DejaVuSans-33\"/>\n",
       "       <use x=\"63.623047\" xlink:href=\"#DejaVuSans-30\"/>\n",
       "      </g>\n",
       "     </g>\n",
       "    </g>\n",
       "    <g id=\"text_24\">\n",
       "     <!-- Epoch -->\n",
       "     <g transform=\"translate(505.870881 280.276563)scale(0.1 -0.1)\">\n",
       "      <use xlink:href=\"#DejaVuSans-45\"/>\n",
       "      <use x=\"63.183594\" xlink:href=\"#DejaVuSans-70\"/>\n",
       "      <use x=\"126.660156\" xlink:href=\"#DejaVuSans-6f\"/>\n",
       "      <use x=\"187.841797\" xlink:href=\"#DejaVuSans-63\"/>\n",
       "      <use x=\"242.822266\" xlink:href=\"#DejaVuSans-68\"/>\n",
       "     </g>\n",
       "    </g>\n",
       "   </g>\n",
       "   <g id=\"matplotlib.axis_4\">\n",
       "    <g id=\"ytick_6\">\n",
       "     <g id=\"line2d_26\">\n",
       "      <g>\n",
       "       <use style=\"stroke:#000000;stroke-width:0.8;\" x=\"394.363636\" xlink:href=\"#m43e58e6f55\" y=\"233.88\"/>\n",
       "      </g>\n",
       "     </g>\n",
       "     <g id=\"text_25\">\n",
       "      <!-- 0.0 -->\n",
       "      <g transform=\"translate(371.460511 237.679219)scale(0.1 -0.1)\">\n",
       "       <use xlink:href=\"#DejaVuSans-30\"/>\n",
       "       <use x=\"63.623047\" xlink:href=\"#DejaVuSans-2e\"/>\n",
       "       <use x=\"95.410156\" xlink:href=\"#DejaVuSans-30\"/>\n",
       "      </g>\n",
       "     </g>\n",
       "    </g>\n",
       "    <g id=\"ytick_7\">\n",
       "     <g id=\"line2d_27\">\n",
       "      <g>\n",
       "       <use style=\"stroke:#000000;stroke-width:0.8;\" x=\"394.363636\" xlink:href=\"#m43e58e6f55\" y=\"197.64\"/>\n",
       "      </g>\n",
       "     </g>\n",
       "     <g id=\"text_26\">\n",
       "      <!-- 0.2 -->\n",
       "      <g transform=\"translate(371.460511 201.439219)scale(0.1 -0.1)\">\n",
       "       <use xlink:href=\"#DejaVuSans-30\"/>\n",
       "       <use x=\"63.623047\" xlink:href=\"#DejaVuSans-2e\"/>\n",
       "       <use x=\"95.410156\" xlink:href=\"#DejaVuSans-32\"/>\n",
       "      </g>\n",
       "     </g>\n",
       "    </g>\n",
       "    <g id=\"ytick_8\">\n",
       "     <g id=\"line2d_28\">\n",
       "      <g>\n",
       "       <use style=\"stroke:#000000;stroke-width:0.8;\" x=\"394.363636\" xlink:href=\"#m43e58e6f55\" y=\"161.4\"/>\n",
       "      </g>\n",
       "     </g>\n",
       "     <g id=\"text_27\">\n",
       "      <!-- 0.4 -->\n",
       "      <defs>\n",
       "       <path d=\"M 37.796875 64.3125  L 12.890625 25.390625  L 37.796875 25.390625  z M 35.203125 72.90625  L 47.609375 72.90625  L 47.609375 25.390625  L 58.015625 25.390625  L 58.015625 17.1875  L 47.609375 17.1875  L 47.609375 0  L 37.796875 0  L 37.796875 17.1875  L 4.890625 17.1875  L 4.890625 26.703125  z \" id=\"DejaVuSans-34\"/>\n",
       "      </defs>\n",
       "      <g transform=\"translate(371.460511 165.199219)scale(0.1 -0.1)\">\n",
       "       <use xlink:href=\"#DejaVuSans-30\"/>\n",
       "       <use x=\"63.623047\" xlink:href=\"#DejaVuSans-2e\"/>\n",
       "       <use x=\"95.410156\" xlink:href=\"#DejaVuSans-34\"/>\n",
       "      </g>\n",
       "     </g>\n",
       "    </g>\n",
       "    <g id=\"ytick_9\">\n",
       "     <g id=\"line2d_29\">\n",
       "      <g>\n",
       "       <use style=\"stroke:#000000;stroke-width:0.8;\" x=\"394.363636\" xlink:href=\"#m43e58e6f55\" y=\"125.16\"/>\n",
       "      </g>\n",
       "     </g>\n",
       "     <g id=\"text_28\">\n",
       "      <!-- 0.6 -->\n",
       "      <defs>\n",
       "       <path d=\"M 33.015625 40.375  Q 26.375 40.375 22.484375 35.828125  Q 18.609375 31.296875 18.609375 23.390625  Q 18.609375 15.53125 22.484375 10.953125  Q 26.375 6.390625 33.015625 6.390625  Q 39.65625 6.390625 43.53125 10.953125  Q 47.40625 15.53125 47.40625 23.390625  Q 47.40625 31.296875 43.53125 35.828125  Q 39.65625 40.375 33.015625 40.375  z M 52.59375 71.296875  L 52.59375 62.3125  Q 48.875 64.0625 45.09375 64.984375  Q 41.3125 65.921875 37.59375 65.921875  Q 27.828125 65.921875 22.671875 59.328125  Q 17.53125 52.734375 16.796875 39.40625  Q 19.671875 43.65625 24.015625 45.921875  Q 28.375 48.1875 33.59375 48.1875  Q 44.578125 48.1875 50.953125 41.515625  Q 57.328125 34.859375 57.328125 23.390625  Q 57.328125 12.15625 50.6875 5.359375  Q 44.046875 -1.421875 33.015625 -1.421875  Q 20.359375 -1.421875 13.671875 8.265625  Q 6.984375 17.96875 6.984375 36.375  Q 6.984375 53.65625 15.1875 63.9375  Q 23.390625 74.21875 37.203125 74.21875  Q 40.921875 74.21875 44.703125 73.484375  Q 48.484375 72.75 52.59375 71.296875  z \" id=\"DejaVuSans-36\"/>\n",
       "      </defs>\n",
       "      <g transform=\"translate(371.460511 128.959219)scale(0.1 -0.1)\">\n",
       "       <use xlink:href=\"#DejaVuSans-30\"/>\n",
       "       <use x=\"63.623047\" xlink:href=\"#DejaVuSans-2e\"/>\n",
       "       <use x=\"95.410156\" xlink:href=\"#DejaVuSans-36\"/>\n",
       "      </g>\n",
       "     </g>\n",
       "    </g>\n",
       "    <g id=\"ytick_10\">\n",
       "     <g id=\"line2d_30\">\n",
       "      <g>\n",
       "       <use style=\"stroke:#000000;stroke-width:0.8;\" x=\"394.363636\" xlink:href=\"#m43e58e6f55\" y=\"88.92\"/>\n",
       "      </g>\n",
       "     </g>\n",
       "     <g id=\"text_29\">\n",
       "      <!-- 0.8 -->\n",
       "      <defs>\n",
       "       <path d=\"M 31.78125 34.625  Q 24.75 34.625 20.71875 30.859375  Q 16.703125 27.09375 16.703125 20.515625  Q 16.703125 13.921875 20.71875 10.15625  Q 24.75 6.390625 31.78125 6.390625  Q 38.8125 6.390625 42.859375 10.171875  Q 46.921875 13.96875 46.921875 20.515625  Q 46.921875 27.09375 42.890625 30.859375  Q 38.875 34.625 31.78125 34.625  z M 21.921875 38.8125  Q 15.578125 40.375 12.03125 44.71875  Q 8.5 49.078125 8.5 55.328125  Q 8.5 64.0625 14.71875 69.140625  Q 20.953125 74.21875 31.78125 74.21875  Q 42.671875 74.21875 48.875 69.140625  Q 55.078125 64.0625 55.078125 55.328125  Q 55.078125 49.078125 51.53125 44.71875  Q 48 40.375 41.703125 38.8125  Q 48.828125 37.15625 52.796875 32.3125  Q 56.78125 27.484375 56.78125 20.515625  Q 56.78125 9.90625 50.3125 4.234375  Q 43.84375 -1.421875 31.78125 -1.421875  Q 19.734375 -1.421875 13.25 4.234375  Q 6.78125 9.90625 6.78125 20.515625  Q 6.78125 27.484375 10.78125 32.3125  Q 14.796875 37.15625 21.921875 38.8125  z M 18.3125 54.390625  Q 18.3125 48.734375 21.84375 45.5625  Q 25.390625 42.390625 31.78125 42.390625  Q 38.140625 42.390625 41.71875 45.5625  Q 45.3125 48.734375 45.3125 54.390625  Q 45.3125 60.0625 41.71875 63.234375  Q 38.140625 66.40625 31.78125 66.40625  Q 25.390625 66.40625 21.84375 63.234375  Q 18.3125 60.0625 18.3125 54.390625  z \" id=\"DejaVuSans-38\"/>\n",
       "      </defs>\n",
       "      <g transform=\"translate(371.460511 92.719219)scale(0.1 -0.1)\">\n",
       "       <use xlink:href=\"#DejaVuSans-30\"/>\n",
       "       <use x=\"63.623047\" xlink:href=\"#DejaVuSans-2e\"/>\n",
       "       <use x=\"95.410156\" xlink:href=\"#DejaVuSans-38\"/>\n",
       "      </g>\n",
       "     </g>\n",
       "    </g>\n",
       "    <g id=\"ytick_11\">\n",
       "     <g id=\"line2d_31\">\n",
       "      <g>\n",
       "       <use style=\"stroke:#000000;stroke-width:0.8;\" x=\"394.363636\" xlink:href=\"#m43e58e6f55\" y=\"52.68\"/>\n",
       "      </g>\n",
       "     </g>\n",
       "     <g id=\"text_30\">\n",
       "      <!-- 1.0 -->\n",
       "      <g transform=\"translate(371.460511 56.479219)scale(0.1 -0.1)\">\n",
       "       <use xlink:href=\"#DejaVuSans-31\"/>\n",
       "       <use x=\"63.623047\" xlink:href=\"#DejaVuSans-2e\"/>\n",
       "       <use x=\"95.410156\" xlink:href=\"#DejaVuSans-30\"/>\n",
       "      </g>\n",
       "     </g>\n",
       "    </g>\n",
       "   </g>\n",
       "   <g id=\"line2d_32\">\n",
       "    <path clip-path=\"url(#p5ee80ceeac)\" d=\"M 405.892562 212.95442  L 413.578512 94.26238  L 421.264463 74.83472  L 428.950413 71.55198  L 436.636364 69.43798  L 444.322314 68.85814  L 452.008264 67.57766  L 459.694215 67.0552  L 467.380165 66.69582  L 475.066116 66.30624  L 482.752066 65.58446  L 490.438017 65.45762  L 498.123967 65.1375  L 505.809917 65.05294  L 513.495868 65.0318  L 521.181818 64.93214  L 528.867769 64.54558  L 536.553719 64.2466  L 544.239669 64.23754  L 551.92562 63.66072  L 559.61157 63.95064  L 567.297521 63.67582  L 574.983471 63.66374  L 582.669421 63.59428  L 590.355372 63.84494  L 598.041322 63.55502  L 605.727273 63.66374  L 613.413223 63.34664  L 621.099174 63.51878  L 628.785124 63.09296  L 636.471074 63.18054  \" style=\"fill:none;stroke:#1f77b4;stroke-linecap:square;stroke-width:1.5;\"/>\n",
       "   </g>\n",
       "   <g id=\"line2d_33\">\n",
       "    <path clip-path=\"url(#p5ee80ceeac)\" d=\"M 405.892562 213.60372  L 413.578512 67.46592  L 421.264463 64.89288  L 428.950413 63.38892  L 436.636364 62.9178  L 444.322314 62.62788  L 452.008264 61.81248  L 459.694215 62.02992  L 467.380165 61.4682  L 475.066116 61.287  L 482.752066 61.5588  L 490.438017 61.1964  L 498.123967 60.97896  L 505.809917 60.4716  L 513.495868 60.1998  L 521.181818 60.43536  L 528.867769 60.94272  L 536.553719 60.30852  L 544.239669 60.05484  L 551.92562 60.36288  L 559.61157 60.32664  L 567.297521 60.14544  L 574.983471 59.87364  L 582.669421 59.81928  L 590.355372 60.23604  L 598.041322 59.98236  L 605.727273 59.67432  L 613.413223 59.90988  L 621.099174 59.928  L 628.785124 59.89176  L 636.471074 59.80116  \" style=\"fill:none;stroke:#ff7f0e;stroke-linecap:square;stroke-width:1.5;\"/>\n",
       "   </g>\n",
       "   <g id=\"patch_9\">\n",
       "    <path d=\"M 394.363636 252  L 394.363636 34.56  \" style=\"fill:none;stroke:#000000;stroke-linecap:square;stroke-linejoin:miter;stroke-width:0.8;\"/>\n",
       "   </g>\n",
       "   <g id=\"patch_10\">\n",
       "    <path d=\"M 648 252  L 648 34.56  \" style=\"fill:none;stroke:#000000;stroke-linecap:square;stroke-linejoin:miter;stroke-width:0.8;\"/>\n",
       "   </g>\n",
       "   <g id=\"patch_11\">\n",
       "    <path d=\"M 394.363636 252  L 648 252  \" style=\"fill:none;stroke:#000000;stroke-linecap:square;stroke-linejoin:miter;stroke-width:0.8;\"/>\n",
       "   </g>\n",
       "   <g id=\"patch_12\">\n",
       "    <path d=\"M 394.363636 34.56  L 648 34.56  \" style=\"fill:none;stroke:#000000;stroke-linecap:square;stroke-linejoin:miter;stroke-width:0.8;\"/>\n",
       "   </g>\n",
       "   <g id=\"text_31\">\n",
       "    <!-- MNIST_MLP: Accuracy -->\n",
       "    <defs>\n",
       "     <path d=\"M 34.1875 63.1875  L 20.796875 26.90625  L 47.609375 26.90625  z M 28.609375 72.90625  L 39.796875 72.90625  L 67.578125 0  L 57.328125 0  L 50.6875 18.703125  L 17.828125 18.703125  L 11.1875 0  L 0.78125 0  z \" id=\"DejaVuSans-41\"/>\n",
       "     <path d=\"M 8.5 21.578125  L 8.5 54.6875  L 17.484375 54.6875  L 17.484375 21.921875  Q 17.484375 14.15625 20.5 10.265625  Q 23.53125 6.390625 29.59375 6.390625  Q 36.859375 6.390625 41.078125 11.03125  Q 45.3125 15.671875 45.3125 23.6875  L 45.3125 54.6875  L 54.296875 54.6875  L 54.296875 0  L 45.3125 0  L 45.3125 8.40625  Q 42.046875 3.421875 37.71875 1  Q 33.40625 -1.421875 27.6875 -1.421875  Q 18.265625 -1.421875 13.375 4.4375  Q 8.5 10.296875 8.5 21.578125  z M 31.109375 56  z \" id=\"DejaVuSans-75\"/>\n",
       "     <path d=\"M 32.171875 -5.078125  Q 28.375 -14.84375 24.75 -17.8125  Q 21.140625 -20.796875 15.09375 -20.796875  L 7.90625 -20.796875  L 7.90625 -13.28125  L 13.1875 -13.28125  Q 16.890625 -13.28125 18.9375 -11.515625  Q 21 -9.765625 23.484375 -3.21875  L 25.09375 0.875  L 2.984375 54.6875  L 12.5 54.6875  L 29.59375 11.921875  L 46.6875 54.6875  L 56.203125 54.6875  z \" id=\"DejaVuSans-79\"/>\n",
       "    </defs>\n",
       "    <g transform=\"translate(455.708693 28.56)scale(0.12 -0.12)\">\n",
       "     <use xlink:href=\"#DejaVuSans-4d\"/>\n",
       "     <use x=\"86.279297\" xlink:href=\"#DejaVuSans-4e\"/>\n",
       "     <use x=\"161.083984\" xlink:href=\"#DejaVuSans-49\"/>\n",
       "     <use x=\"190.576172\" xlink:href=\"#DejaVuSans-53\"/>\n",
       "     <use x=\"254.052734\" xlink:href=\"#DejaVuSans-54\"/>\n",
       "     <use x=\"315.136719\" xlink:href=\"#DejaVuSans-5f\"/>\n",
       "     <use x=\"365.136719\" xlink:href=\"#DejaVuSans-4d\"/>\n",
       "     <use x=\"451.416016\" xlink:href=\"#DejaVuSans-4c\"/>\n",
       "     <use x=\"507.128906\" xlink:href=\"#DejaVuSans-50\"/>\n",
       "     <use x=\"567.431641\" xlink:href=\"#DejaVuSans-3a\"/>\n",
       "     <use x=\"601.123047\" xlink:href=\"#DejaVuSans-20\"/>\n",
       "     <use x=\"632.910156\" xlink:href=\"#DejaVuSans-41\"/>\n",
       "     <use x=\"701.302734\" xlink:href=\"#DejaVuSans-63\"/>\n",
       "     <use x=\"756.283203\" xlink:href=\"#DejaVuSans-63\"/>\n",
       "     <use x=\"811.263672\" xlink:href=\"#DejaVuSans-75\"/>\n",
       "     <use x=\"874.642578\" xlink:href=\"#DejaVuSans-72\"/>\n",
       "     <use x=\"915.755859\" xlink:href=\"#DejaVuSans-61\"/>\n",
       "     <use x=\"977.035156\" xlink:href=\"#DejaVuSans-63\"/>\n",
       "     <use x=\"1032.015625\" xlink:href=\"#DejaVuSans-79\"/>\n",
       "    </g>\n",
       "   </g>\n",
       "   <g id=\"legend_2\">\n",
       "    <g id=\"patch_13\">\n",
       "     <path d=\"M 401.363636 247  L 501.969886 247  Q 503.969886 247 503.969886 245  L 503.969886 216.64375  Q 503.969886 214.64375 501.969886 214.64375  L 401.363636 214.64375  Q 399.363636 214.64375 399.363636 216.64375  L 399.363636 245  Q 399.363636 247 401.363636 247  z \" style=\"fill:#ffffff;opacity:0.8;stroke:#cccccc;stroke-linejoin:miter;\"/>\n",
       "    </g>\n",
       "    <g id=\"line2d_34\">\n",
       "     <path d=\"M 403.363636 222.742188  L 423.363636 222.742188  \" style=\"fill:none;stroke:#1f77b4;stroke-linecap:square;stroke-width:1.5;\"/>\n",
       "    </g>\n",
       "    <g id=\"line2d_35\"/>\n",
       "    <g id=\"text_32\">\n",
       "     <!-- Training set -->\n",
       "     <g transform=\"translate(431.363636 226.242188)scale(0.1 -0.1)\">\n",
       "      <use xlink:href=\"#DejaVuSans-54\"/>\n",
       "      <use x=\"60.865234\" xlink:href=\"#DejaVuSans-72\"/>\n",
       "      <use x=\"101.978516\" xlink:href=\"#DejaVuSans-61\"/>\n",
       "      <use x=\"163.257812\" xlink:href=\"#DejaVuSans-69\"/>\n",
       "      <use x=\"191.041016\" xlink:href=\"#DejaVuSans-6e\"/>\n",
       "      <use x=\"254.419922\" xlink:href=\"#DejaVuSans-69\"/>\n",
       "      <use x=\"282.203125\" xlink:href=\"#DejaVuSans-6e\"/>\n",
       "      <use x=\"345.582031\" xlink:href=\"#DejaVuSans-67\"/>\n",
       "      <use x=\"409.058594\" xlink:href=\"#DejaVuSans-20\"/>\n",
       "      <use x=\"440.845703\" xlink:href=\"#DejaVuSans-73\"/>\n",
       "      <use x=\"492.945312\" xlink:href=\"#DejaVuSans-65\"/>\n",
       "      <use x=\"554.46875\" xlink:href=\"#DejaVuSans-74\"/>\n",
       "     </g>\n",
       "    </g>\n",
       "    <g id=\"line2d_36\">\n",
       "     <path d=\"M 403.363636 237.420312  L 423.363636 237.420312  \" style=\"fill:none;stroke:#ff7f0e;stroke-linecap:square;stroke-width:1.5;\"/>\n",
       "    </g>\n",
       "    <g id=\"line2d_37\"/>\n",
       "    <g id=\"text_33\">\n",
       "     <!-- Validation set -->\n",
       "     <g transform=\"translate(431.363636 240.920312)scale(0.1 -0.1)\">\n",
       "      <use xlink:href=\"#DejaVuSans-56\"/>\n",
       "      <use x=\"68.298828\" xlink:href=\"#DejaVuSans-61\"/>\n",
       "      <use x=\"129.578125\" xlink:href=\"#DejaVuSans-6c\"/>\n",
       "      <use x=\"157.361328\" xlink:href=\"#DejaVuSans-69\"/>\n",
       "      <use x=\"185.144531\" xlink:href=\"#DejaVuSans-64\"/>\n",
       "      <use x=\"248.621094\" xlink:href=\"#DejaVuSans-61\"/>\n",
       "      <use x=\"309.900391\" xlink:href=\"#DejaVuSans-74\"/>\n",
       "      <use x=\"349.109375\" xlink:href=\"#DejaVuSans-69\"/>\n",
       "      <use x=\"376.892578\" xlink:href=\"#DejaVuSans-6f\"/>\n",
       "      <use x=\"438.074219\" xlink:href=\"#DejaVuSans-6e\"/>\n",
       "      <use x=\"501.453125\" xlink:href=\"#DejaVuSans-20\"/>\n",
       "      <use x=\"533.240234\" xlink:href=\"#DejaVuSans-73\"/>\n",
       "      <use x=\"585.339844\" xlink:href=\"#DejaVuSans-65\"/>\n",
       "      <use x=\"646.863281\" xlink:href=\"#DejaVuSans-74\"/>\n",
       "     </g>\n",
       "    </g>\n",
       "   </g>\n",
       "  </g>\n",
       " </g>\n",
       " <defs>\n",
       "  <clipPath id=\"p42ceb5196b\">\n",
       "   <rect height=\"217.44\" width=\"253.636364\" x=\"90\" y=\"34.56\"/>\n",
       "  </clipPath>\n",
       "  <clipPath id=\"p5ee80ceeac\">\n",
       "   <rect height=\"217.44\" width=\"253.636364\" x=\"394.363636\" y=\"34.56\"/>\n",
       "  </clipPath>\n",
       " </defs>\n",
       "</svg>"
      ],
      "text/plain": [
       "<IPython.core.display.SVG object>"
      ]
     },
     "metadata": {},
     "output_type": "display_data"
    },
    {
     "name": "stdout",
     "output_type": "stream",
     "text": [
      "========================================================\n",
      "       |  Training |  Training |  Validate |  Validate \n",
      "Epochs |     Error |  Accuracy |     Error |  Accuracy \n",
      "------ | --------- | --------- | --------- | --------- \n",
      "#   30 |   0.19857 |   0.94205 |   0.15235 |   0.96070 \n"
     ]
    }
   ],
   "source": [
    "net.train(epochs=30, batch_size=128)"
   ]
  },
  {
   "cell_type": "markdown",
   "metadata": {},
   "source": [
    "The detailed epoch-by-epoch training history of the network is available by calling `show_results()`. The optional `report_rate` keyword specifies which epochs to show."
   ]
  },
  {
   "cell_type": "code",
   "execution_count": 22,
   "metadata": {},
   "outputs": [
    {
     "name": "stdout",
     "output_type": "stream",
     "text": [
      "       |  Training |  Training |  Validate |  Validate \n",
      "Epochs |     Error |  Accuracy |     Error |  Accuracy \n",
      "------ | --------- | --------- | --------- | --------- \n",
      "#    0 |   2.36588 |   0.11548 |   2.36324 |   0.11190 \n",
      "#    5 |   0.29629 |   0.91072 |   0.17690 |   0.94510 \n",
      "#   10 |   0.24182 |   0.92878 |   0.16126 |   0.95100 \n",
      "#   15 |   0.22588 |   0.93238 |   0.15370 |   0.95720 \n",
      "#   20 |   0.21293 |   0.93780 |   0.14976 |   0.95780 \n",
      "#   25 |   0.20276 |   0.93998 |   0.15517 |   0.95970 \n",
      "#   30 |   0.19857 |   0.94205 |   0.15235 |   0.96070 \n",
      "========================================================\n",
      "#   30 |   0.19857 |   0.94205 |   0.15235 |   0.96070 \n"
     ]
    }
   ],
   "source": [
    "net.show_results(report_rate=5)"
   ]
  },
  {
   "cell_type": "markdown",
   "metadata": {},
   "source": [
    "The `plot` method shows the value of various network metrics during training. The metrics `loss` and `val_loss` represent the value of the error (loss) function on the training and testing sets, respectively.  Likewise, `acc` and `val_acc` represent the accuracy of the training and testing sets, respectively. The optional `ymin` and `ymax` keywords can be used to adjust the y-axis scale. For example:"
   ]
  },
  {
   "cell_type": "code",
   "execution_count": 23,
   "metadata": {},
   "outputs": [
    {
     "data": {
      "image/png": "[encoded data removed]",
      "text/plain": [
       "<matplotlib.figure.Figure at 0x1317c2278>"
      ]
     },
     "metadata": {},
     "output_type": "display_data"
    }
   ],
   "source": [
    "net.plot(['acc', 'val_acc'], ymin=0.9, ymax=1)"
   ]
  },
  {
   "cell_type": "code",
   "execution_count": 24,
   "metadata": {},
   "outputs": [
    {
     "data": {
      "image/png": "[encoded data removed]",
      "text/plain": [
       "<matplotlib.figure.Figure at 0x10680b208>"
      ]
     },
     "metadata": {},
     "output_type": "display_data"
    }
   ],
   "source": [
    "net.plot(['loss', 'val_loss'], ymin=0, ymax=0.3)"
   ]
  },
  {
   "cell_type": "markdown",
   "metadata": {},
   "source": [
    "After training, the index of the largest output value in response to an input image corresponds to the network's digit classification. For example, test input #42 is shown below, along with the network's response."
   ]
  },
  {
   "cell_type": "code",
   "execution_count": 25,
   "metadata": {},
   "outputs": [
    {
     "data": {
      "image/png": "[encoded data removed]",
      "text/plain": [
       "<matplotlib.figure.Figure at 0x11f722588>"
      ]
     },
     "metadata": {},
     "output_type": "display_data"
    }
   ],
   "source": [
    "cx.view(net.dataset.test_inputs[42])"
   ]
  },
  {
   "cell_type": "code",
   "execution_count": 26,
   "metadata": {},
   "outputs": [
    {
     "data": {
      "text/plain": [
       "[1.166196867603852e-15,\n",
       " 8.25941121052054e-11,\n",
       " 2.497051454497523e-10,\n",
       " 3.1735762906492937e-09,\n",
       " 0.9999774694442749,\n",
       " 1.6164953819952643e-09,\n",
       " 2.316500644260135e-15,\n",
       " 5.632419401990774e-07,\n",
       " 9.335036216251424e-11,\n",
       " 2.198909714934416e-05]"
      ]
     },
     "execution_count": 26,
     "metadata": {},
     "output_type": "execute_result"
    }
   ],
   "source": [
    "net.propagate(net.dataset.test_inputs[42])"
   ]
  },
  {
   "cell_type": "code",
   "execution_count": 27,
   "metadata": {},
   "outputs": [
    {
     "data": {
      "text/plain": [
       "4"
      ]
     },
     "execution_count": 27,
     "metadata": {},
     "output_type": "execute_result"
    }
   ],
   "source": [
    "cx.argmax(net.propagate(net.dataset.test_inputs[42]))"
   ]
  },
  {
   "cell_type": "markdown",
   "metadata": {},
   "source": [
    "Examining the weights into the same three hidden units as before shows that these units have learned to respond in different ways to different parts of the input image."
   ]
  },
  {
   "cell_type": "code",
   "execution_count": 28,
   "metadata": {},
   "outputs": [
    {
     "data": {
      "image/png": "[encoded data removed]",
      "text/plain": [
       "<matplotlib.figure.Figure at 0x131661d68>"
      ]
     },
     "metadata": {},
     "output_type": "display_data"
    }
   ],
   "source": [
    "net.plot_layer_weights('hidden1', units=[0,1,2], vshape=(28,28), wrange=(-1.5, 1.5))"
   ]
  },
  {
   "cell_type": "markdown",
   "metadata": {},
   "source": [
    "## A Convolutional Network for MNIST Classification\n",
    "\n",
    "Convolutional neural networks (CNNs) are loosely inspired by the neurobiology of the visual system. The key idea is that each unit in a convolutional layer receives connections from a limited number of units in the previous layer (which can be thought of as the unit's \"visual field\"), and these connections are arranged in a two-dimensional topology to take advantage of spatial information. Each convolutional layer specifies a number of independent *features* to be learned, along with the *N*&nbsp;&times;&nbsp;*N* size of the visual field (also called the *kernel size*). The units responsible for learning a feature share connections across the entire convolutional layer, which often leads to far fewer network parameters compared to a network with fully-connected layers.\n",
    "\n",
    "Another type of layer common to CNNs is the *pooling* layer, which reduces the amount of information flowing through the network by the process of subsampling. Each pooling unit receives input from a limited number of units in the previous layer, and then applies some function (like *maximum* or *average*) to these inputs. The overall effect is to produce a coarser-grained version of the information from the previous layer, which makes the network less sensitive to small variations in position.\n",
    "\n",
    "We will define a CNN for MNIST classification using two convolutional layers with 5 &times; 5 kernels, each followed by a pooling layer with 2 &times; 2 kernels that compute the maximum of their inputs. The first convolutional layer will learn 16 relatively low-level features, whereas the second will learn 32 higher-level features. These features will then feed into a hidden layer (after being flattened), followed by an output classification layer using *Softmax*."
   ]
  },
  {
   "cell_type": "code",
   "execution_count": 29,
   "metadata": {},
   "outputs": [],
   "source": [
    "cnn = cx.Network(\"MNIST_CNN\")\n",
    "\n",
    "cnn.add(cx.Layer(\"input\", (28,28,1), colormap=\"gray\"),\n",
    "        cx.Conv2DLayer(\"conv2D_1\", 16, (5,5), activation=\"relu\", dropout=0.2),\n",
    "        cx.MaxPool2DLayer(\"maxpool1\", (2,2)),\n",
    "        cx.Conv2DLayer(\"conv2D_2\", 32, (5,5), activation=\"relu\", dropout=0.2),\n",
    "        cx.MaxPool2DLayer(\"maxpool2\", (2,2)),\n",
    "        cx.FlattenLayer(\"flat\"),\n",
    "        cx.Layer(\"hidden\", 30, activation='relu'),\n",
    "        cx.Layer(\"output\", 10, activation='softmax'))\n",
    "\n",
    "cnn.connect()"
   ]
  },
  {
   "cell_type": "code",
   "execution_count": 30,
   "metadata": {},
   "outputs": [
    {
     "name": "stdout",
     "output_type": "stream",
     "text": [
      "_________________________________________________________________\n",
      "MNIST:\n",
      "Patterns    Shape                 Range                         \n",
      "=================================================================\n",
      "inputs      (28, 28, 1)           (0.0, 1.0)                    \n",
      "targets     (10,)                 (0.0, 1.0)                    \n",
      "=================================================================\n",
      "Total patterns: 70000\n",
      "   Training patterns: 60000\n",
      "   Testing patterns: 10000\n",
      "_________________________________________________________________\n"
     ]
    }
   ],
   "source": [
    "cnn.dataset.get(\"MNIST\")\n",
    "cnn.dataset.split(10000)\n",
    "cnn.dataset.summary()"
   ]
  },
  {
   "cell_type": "code",
   "execution_count": 31,
   "metadata": {},
   "outputs": [],
   "source": [
    "cnn.compile(error='categorical_crossentropy', optimizer='rmsprop')"
   ]
  },
  {
   "cell_type": "code",
   "execution_count": 32,
   "metadata": {},
   "outputs": [
    {
     "name": "stdout",
     "output_type": "stream",
     "text": [
      "_________________________________________________________________\n",
      "Layer (type)                 Output Shape              Param #   \n",
      "=================================================================\n",
      "input (InputLayer)           (None, 28, 28, 1)         0         \n",
      "_________________________________________________________________\n",
      "conv2D_1 (Conv2D)            (None, 24, 24, 16)        416       \n",
      "_________________________________________________________________\n",
      "dropout_3 (Dropout)          (None, 24, 24, 16)        0         \n",
      "_________________________________________________________________\n",
      "maxpool1 (MaxPooling2D)      (None, 12, 12, 16)        0         \n",
      "_________________________________________________________________\n",
      "conv2D_2 (Conv2D)            (None, 8, 8, 32)          12832     \n",
      "_________________________________________________________________\n",
      "dropout_4 (Dropout)          (None, 8, 8, 32)          0         \n",
      "_________________________________________________________________\n",
      "maxpool2 (MaxPooling2D)      (None, 4, 4, 32)          0         \n",
      "_________________________________________________________________\n",
      "flat (Flatten)               (None, 512)               0         \n",
      "_________________________________________________________________\n",
      "hidden (Dense)               (None, 30)                15390     \n",
      "_________________________________________________________________\n",
      "output (Dense)               (None, 10)                310       \n",
      "=================================================================\n",
      "Total params: 28,948\n",
      "Trainable params: 28,948\n",
      "Non-trainable params: 0\n",
      "_________________________________________________________________\n"
     ]
    }
   ],
   "source": [
    "cnn.summary()"
   ]
  },
  {
   "cell_type": "markdown",
   "metadata": {},
   "source": [
    "<img src=\"mnist-cnn.png\" width=\"80%\">"
   ]
  },
  {
   "cell_type": "code",
   "execution_count": 33,
   "metadata": {},
   "outputs": [
    {
     "data": {
      "application/vnd.jupyter.widget-view+json": {
       "model_id": "d5c2fd7aa03e457ea9915c57240f5631",
       "version_major": 2,
       "version_minor": 0
      },
      "text/html": [
       "<p>Failed to display Jupyter Widget of type <code>Dashboard</code>.</p>\n",
       "<p>\n",
       "  If you're reading this message in the Jupyter Notebook or JupyterLab Notebook, it may mean\n",
       "  that the widgets JavaScript is still loading. If this message persists, it\n",
       "  likely means that the widgets JavaScript library is either not installed or\n",
       "  not enabled. See the <a href=\"https://ipywidgets.readthedocs.io/en/stable/user_install.html\">Jupyter\n",
       "  Widgets Documentation</a> for setup instructions.\n",
       "</p>\n",
       "<p>\n",
       "  If you're reading this message in another frontend (for example, a static\n",
       "  rendering on GitHub or <a href=\"https://nbviewer.jupyter.org/\">NBViewer</a>),\n",
       "  it may mean that your frontend doesn't currently support widgets.\n",
       "</p>\n"
      ],
      "text/plain": [
       "Dashboard(children=(Accordion(children=(HBox(children=(VBox(children=(Select(description='Dataset:', options=('Test', 'Train'), rows=1, value='Test'), FloatSlider(value=1.0, continuous_update=False, description='Zoom', layout=Layout(width='65%'), max=1.0, style=SliderStyle(description_width='initial')), IntText(value=150, description='Horizontal space between banks:', style=DescriptionStyle(description_width='initial')), IntText(value=30, description='Vertical space between layers:', style=DescriptionStyle(description_width='initial')), HBox(children=(Checkbox(value=True, description='Show Targets', style=DescriptionStyle(description_width='initial')), Checkbox(value=False, description='Errors', style=DescriptionStyle(description_width='initial')))), Select(description='Features:', index=2, options=('', 'input', 'conv2D_1', 'maxpool1', 'conv2D_2', 'maxpool2'), rows=1, value='conv2D_1'), IntText(value=8, description='Feature columns:', style=DescriptionStyle(description_width='initial')), FloatText(value=4.0, description='Feature scale:', style=DescriptionStyle(description_width='initial'))), layout=Layout(width='100%')), VBox(children=(Select(description='Layer:', index=7, options=('input', 'conv2D_1', 'maxpool1', 'conv2D_2', 'maxpool2', 'flat', 'hidden', 'output'), rows=1, value='output'), Checkbox(value=True, description='Visible'), Select(description='Colormap:', options=('', 'Accent', 'Accent_r', 'Blues', 'Blues_r', 'BrBG', 'BrBG_r', 'BuGn', 'BuGn_r', 'BuPu', 'BuPu_r', 'CMRmap', 'CMRmap_r', 'Dark2', 'Dark2_r', 'GnBu', 'GnBu_r', 'Greens', 'Greens_r', 'Greys', 'Greys_r', 'OrRd', 'OrRd_r', 'Oranges', 'Oranges_r', 'PRGn', 'PRGn_r', 'Paired', 'Paired_r', 'Pastel1', 'Pastel1_r', 'Pastel2', 'Pastel2_r', 'PiYG', 'PiYG_r', 'PuBu', 'PuBuGn', 'PuBuGn_r', 'PuBu_r', 'PuOr', 'PuOr_r', 'PuRd', 'PuRd_r', 'Purples', 'Purples_r', 'RdBu', 'RdBu_r', 'RdGy', 'RdGy_r', 'RdPu', 'RdPu_r', 'RdYlBu', 'RdYlBu_r', 'RdYlGn', 'RdYlGn_r', 'Reds', 'Reds_r', 'Set1', 'Set1_r', 'Set2', 'Set2_r', 'Set3', 'Set3_r', 'Spectral', 'Spectral_r', 'Vega10', 'Vega10_r', 'Vega20', 'Vega20_r', 'Vega20b', 'Vega20b_r', 'Vega20c', 'Vega20c_r', 'Wistia', 'Wistia_r', 'YlGn', 'YlGnBu', 'YlGnBu_r', 'YlGn_r', 'YlOrBr', 'YlOrBr_r', 'YlOrRd', 'YlOrRd_r', 'afmhot', 'afmhot_r', 'autumn', 'autumn_r', 'binary', 'binary_r', 'bone', 'bone_r', 'brg', 'brg_r', 'bwr', 'bwr_r', 'cool', 'cool_r', 'coolwarm', 'coolwarm_r', 'copper', 'copper_r', 'cubehelix', 'cubehelix_r', 'flag', 'flag_r', 'gist_earth', 'gist_earth_r', 'gist_gray', 'gist_gray_r', 'gist_heat', 'gist_heat_r', 'gist_ncar', 'gist_ncar_r', 'gist_rainbow', 'gist_rainbow_r', 'gist_stern', 'gist_stern_r', 'gist_yarg', 'gist_yarg_r', 'gnuplot', 'gnuplot2', 'gnuplot2_r', 'gnuplot_r', 'gray', 'gray_r', 'hot', 'hot_r', 'hsv', 'hsv_r', 'inferno', 'inferno_r', 'jet', 'jet_r', 'magma', 'magma_r', 'nipy_spectral', 'nipy_spectral_r', 'ocean', 'ocean_r', 'pink', 'pink_r', 'plasma', 'plasma_r', 'prism', 'prism_r', 'rainbow', 'rainbow_r', 'seismic', 'seismic_r', 'spectral', 'spectral_r', 'spring', 'spring_r', 'summer', 'summer_r', 'tab10', 'tab10_r', 'tab20', 'tab20_r', 'tab20b', 'tab20b_r', 'tab20c', 'tab20c_r', 'terrain', 'terrain_r', 'viridis', 'viridis_r', 'winter', 'winter_r'), rows=1, value=''), HTML(value='<img src=\"data:image/gif;base64,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\"/>'), FloatText(value=-1.0, description='Leftmost color maps to:', style=DescriptionStyle(description_width='initial')), FloatText(value=1.0, description='Rightmost color maps to:', style=DescriptionStyle(description_width='initial')), IntText(value=0, description='Feature to show:', style=DescriptionStyle(description_width='initial')), HBox(children=(Checkbox(value=True, description='Rotate network', layout=Layout(width='52%'), style=DescriptionStyle(description_width='initial')), Button(icon='save', layout=Layout(width='10%'), style=ButtonStyle())))), layout=Layout(width='100%')))),), selected_index=None, _titles={'0': 'MNIST_CNN'}), VBox(children=(HBox(children=(IntSlider(value=0, continuous_update=False, description='Dataset index', layout=Layout(width='100%'), max=59999), Label(value='of 10000', layout=Layout(width='100px'))), layout=Layout(height='40px')), HBox(children=(Button(icon='fast-backward', layout=Layout(width='100%'), style=ButtonStyle()), Button(icon='backward', layout=Layout(width='100%'), style=ButtonStyle()), IntText(value=0, layout=Layout(width='100%')), Button(icon='forward', layout=Layout(width='100%'), style=ButtonStyle()), Button(icon='fast-forward', layout=Layout(width='100%'), style=ButtonStyle()), Button(description='Play', icon='play', layout=Layout(width='100%'), style=ButtonStyle()), Button(icon='refresh', layout=Layout(width='25%'), style=ButtonStyle())), layout=Layout(height='50px', width='100%'))), layout=Layout(width='100%')), HTML(value='<p style=\"text-align:center\"></p>', layout=Layout(justify_content='center', overflow_x='auto', overflow_y='auto', width='95%')), Output()))"
      ]
     },
     "metadata": {},
     "output_type": "display_data"
    },
    {
     "data": {
      "application/javascript": [
       "\n",
       "require(['base/js/namespace'], function(Jupyter) {\n",
       "    Jupyter.notebook.kernel.comm_manager.register_target('conx_svg_control', function(comm, msg) {\n",
       "        comm.on_msg(function(msg) {\n",
       "            var data = msg[\"content\"][\"data\"];\n",
       "            var images = document.getElementsByClassName(data[\"class\"]);\n",
       "            for (var i = 0; i < images.length; i++) {\n",
       "                if (data[\"href\"]) {\n",
       "                    images[i].setAttributeNS(null, \"href\", data[\"href\"]);\n",
       "                }\n",
       "                if (data[\"src\"]) {\n",
       "                    images[i].setAttributeNS(null, \"src\", data[\"src\"]);\n",
       "                }\n",
       "            }\n",
       "        });\n",
       "    });\n",
       "});\n"
      ],
      "text/plain": [
       "<IPython.core.display.Javascript object>"
      ]
     },
     "metadata": {},
     "output_type": "display_data"
    }
   ],
   "source": [
    "cnn.dashboard()"
   ]
  },
  {
   "cell_type": "markdown",
   "metadata": {},
   "source": [
    "Training our CNN will take some time, so the first time we execute the code below, the network's state will be saved. This way, the next time the code is executed, we won't have to wait for the network to retrain. Calling `cnn.delete()` will delete the saved state."
   ]
  },
  {
   "cell_type": "code",
   "execution_count": 34,
   "metadata": {},
   "outputs": [
    {
     "data": {
      "image/png": "[encoded data removed]",
      "text/plain": [
       "<matplotlib.figure.Figure at 0x11cc7c2e8>"
      ]
     },
     "metadata": {},
     "output_type": "display_data"
    },
    {
     "name": "stdout",
     "output_type": "stream",
     "text": [
      "       |  Training |  Training |  Validate |  Validate \n",
      "Epochs |     Error |  Accuracy |     Error |  Accuracy \n",
      "------ | --------- | --------- | --------- | --------- \n",
      "#    0 |   2.31498 |   0.08858 |   2.31602 |   0.09680 \n",
      "#    1 |   0.30398 |   0.90873 |   0.11336 |   0.96970 \n",
      "#    2 |   0.08558 |   0.97377 |   0.08525 |   0.97560 \n",
      "#    3 |   0.05925 |   0.98148 |   0.04633 |   0.98720 \n",
      "#    4 |   0.04513 |   0.98627 |   0.04313 |   0.98920 \n",
      "#    5 |   0.03857 |   0.98787 |   0.03517 |   0.98890 \n",
      "========================================================\n",
      "#    5 |   0.03857 |   0.98787 |   0.03517 |   0.98890 \n"
     ]
    }
   ],
   "source": [
    "if not cnn.saved():\n",
    "    cnn.train(epochs=5, batch_size=128)\n",
    "    cnn.save()\n",
    "else:\n",
    "    cnn.load()\n",
    "    cnn.plot_results()\n",
    "    cnn.show_results()"
   ]
  }
 ],
 "metadata": {
  "kernelspec": {
   "display_name": "Python 3",
   "language": "python",
   "name": "python3"
  },
  "language_info": {
   "codemirror_mode": {
    "name": "ipython",
    "version": 3
   },
   "file_extension": ".py",
   "mimetype": "text/x-python",
   "name": "python",
   "nbconvert_exporter": "python",
   "pygments_lexer": "ipython3",
   "version": "3.5.3"
  },
  "widgets": {
   "application/vnd.jupyter.widget-state+json": {
    "state": {
     "026fd2840ece476faca44d34e53535ff": {
      "model_module": "@jupyter-widgets/controls",
      "model_module_version": "1.1.0",
      "model_name": "HBoxModel",
      "state": {
       "children": [
        "IPY_MODEL_efe7e0113154481692c6e2680a852eb9",
        "IPY_MODEL_c3df112be6654171b1f005225253ed7e"
       ],
       "layout": "IPY_MODEL_a394534a3e484a5c8424f26017591253"
      }
     },
     "03551d6e5e5f4b1cbc0b8846f26ff325": {
      "model_module": "@jupyter-widgets/controls",
      "model_module_version": "1.1.0",
      "model_name": "DescriptionStyleModel",
      "state": {
       "description_width": ""
      }
     },
     "03cd37356f214651b93c6b7c869dd101": {
      "model_module": "@jupyter-widgets/base",
      "model_module_version": "1.0.0",
      "model_name": "LayoutModel",
      "state": {
       "width": "100%"
      }
     },
     "040394a457cc4527ba98f0785048e9a4": {
      "model_module": "@jupyter-widgets/controls",
      "model_module_version": "1.1.0",
      "model_name": "DescriptionStyleModel",
      "state": {
       "description_width": ""
      }
     },
     "0448dbc1f0cc4216afe0b6ceb18245d8": {
      "model_module": "@jupyter-widgets/controls",
      "model_module_version": "1.1.0",
      "model_name": "ButtonModel",
      "state": {
       "icon": "refresh",
       "layout": "IPY_MODEL_a61358a43f6e49e1a75e34ebe01822f8",
       "style": "IPY_MODEL_369de03def8b4752a14caa97e077e161"
      }
     },
     "059ae46067d04cb686d7e87cd9632065": {
      "model_module": "@jupyter-widgets/base",
      "model_module_version": "1.0.0",
      "model_name": "LayoutModel",
      "state": {
       "width": "100%"
      }
     },
     "06276ea99bc04c8c92b9379169b573ea": {
      "model_module": "@jupyter-widgets/controls",
      "model_module_version": "1.1.0",
      "model_name": "SelectModel",
      "state": {
       "_options_labels": [
        "Test",
        "Train"
       ],
       "description": "Dataset:",
       "index": 1,
       "layout": "IPY_MODEL_468fd08c746744a28560db79c0735d0d",
       "rows": 1,
       "style": "IPY_MODEL_a7bef3a7c65243de9e566e9c278b797d"
      }
     },
     "088964a519d042d6a95071bd21de99dc": {
      "model_module": "@jupyter-widgets/controls",
      "model_module_version": "1.1.0",
      "model_name": "ButtonStyleModel",
      "state": {}
     },
     "08c5199ab0e54a2ca89d7825f66cf98f": {
      "model_module": "@jupyter-widgets/controls",
      "model_module_version": "1.1.0",
      "model_name": "HBoxModel",
      "state": {
       "children": [
        "IPY_MODEL_2a74ea6788fd4f7f8647e258ac4dac05",
        "IPY_MODEL_3aa1cc4fedee45cda72e5adf7e4b8229"
       ],
       "layout": "IPY_MODEL_3d2e0a48d2344acfaa1cbc038eb12fe6"
      }
     },
     "09b725d6f96e4b8b92df80d4976bba67": {
      "model_module": "@jupyter-widgets/controls",
      "model_module_version": "1.1.0",
      "model_name": "VBoxModel",
      "state": {
       "children": [
        "IPY_MODEL_06276ea99bc04c8c92b9379169b573ea",
        "IPY_MODEL_0ac3ec38d26d4c3389031f47560c596b",
        "IPY_MODEL_0d5581cd62134680b9a8713a8e9a5c28",
        "IPY_MODEL_bf5867e6a9b94eb59524b0a8e8da37e2",
        "IPY_MODEL_3d08dcf30ece44e6b364c5550486c800",
        "IPY_MODEL_eab80d3eb6dc4dda9c22ac10a2d626fa",
        "IPY_MODEL_de692e3e80134556a174f9719c0b8b24",
        "IPY_MODEL_4c00b4c3bd4b4d45a96a457fe997edb7"
       ],
       "layout": "IPY_MODEL_059ae46067d04cb686d7e87cd9632065"
      }
     },
     "0ac3ec38d26d4c3389031f47560c596b": {
      "model_module": "@jupyter-widgets/controls",
      "model_module_version": "1.1.0",
      "model_name": "FloatSliderModel",
      "state": {
       "continuous_update": false,
       "description": "Zoom",
       "layout": "IPY_MODEL_55c8cb31619d4f7fa8391bc4c00cd7e1",
       "max": 1,
       "step": 0.1,
       "style": "IPY_MODEL_fd76fda7673f415a8c3960143969fd4f",
       "value": 0.6
      }
     },
     "0d5581cd62134680b9a8713a8e9a5c28": {
      "model_module": "@jupyter-widgets/controls",
      "model_module_version": "1.1.0",
      "model_name": "IntTextModel",
      "state": {
       "description": "Horizontal space between banks:",
       "layout": "IPY_MODEL_c503b25cfd614c20a3366724f025ee6c",
       "step": 1,
       "style": "IPY_MODEL_ea0e9b696dde492db5d6fcfab282cb2f",
       "value": 150
      }
     },
     "0d56f9bac50a401fb3526e596c428632": {
      "model_module": "@jupyter-widgets/base",
      "model_module_version": "1.0.0",
      "model_name": "LayoutModel",
      "state": {
       "width": "65%"
      }
     },
     "0e8276ccf74f4842bcb74e5d39316991": {
      "model_module": "@jupyter-widgets/base",
      "model_module_version": "1.0.0",
      "model_name": "LayoutModel",
      "state": {
       "width": "10%"
      }
     },
     "129ef6e868a84c43915891336ef37b0b": {
      "model_module": "@jupyter-widgets/controls",
      "model_module_version": "1.1.0",
      "model_name": "IntTextModel",
      "state": {
       "description": "Horizontal space between banks:",
       "layout": "IPY_MODEL_6b99c9ced3a942e8ba17f22f00be6e19",
       "step": 1,
       "style": "IPY_MODEL_4db597817d3f47feabca0e5ab0296d34",
       "value": 150
      }
     },
     "130a423f0179458fa4d515b76dca629f": {
      "model_module": "@jupyter-widgets/base",
      "model_module_version": "1.0.0",
      "model_name": "LayoutModel",
      "state": {
       "height": "50px",
       "width": "100%"
      }
     },
     "14a0aaa57a234c468e193f68cfa75270": {
      "model_module": "@jupyter-widgets/controls",
      "model_module_version": "1.1.0",
      "model_name": "HTMLModel",
      "state": {
       "layout": "IPY_MODEL_b95a85b9b45a4ca68150fd821084cd3e",
       "style": "IPY_MODEL_ca17ed226b4c43c88a15ce61400f7ce8",
       "value": "\n<table align=\"center\" style=\"width: 100%;\">\n <tr>\n  <td valign=\"top\"><p style=\"text-align:center\"><svg id='MNIST_CNN' xmlns='http://www.w3.org/2000/svg' image-rendering=\"pixelated\" width=\"800.0000000000001px\" height=\"190.47619047619048px\">\n <g  transform=\"rotate(90) translate(0 -800.0000000000001)\" >\n  <svg viewBox=\"0 0 350 1470\" width=\"190.47619047619048px\" height=\"800.0000000000001px\">\n    <defs>\n        <marker id=\"arrow\" markerWidth=\"10\" markerHeight=\"10\" refX=\"9\" refY=\"3\" orient=\"auto\" markerUnits=\"strokeWidth\">\n          <path d=\"M0,0 L0,6 L9,3 z\" fill=\"black\" />\n        </marker>\n    </defs><rect x=\"74.0\" y=\"24\" width=\"202\" height=\"52\" style=\"fill:none;stroke:black;stroke-width:2\"/><image id=\"picture-dashboard-MNIST_CNN-472141_output_targets_1\" class=\"picture-dashboard-MNIST_CNN-472141_output_targets\" x=\"75.0\" y=\"25\" height=\"50\" width=\"200\" preserveAspectRatio=\"none\" href=\"data:image/gif;base64,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\"><title>Layer: output (output)\n output range: (-1.0, 1.0)\n shape = (10,)\n Keras class = Dense\n activation = softmax</title></image><text x=\"288.0\" y=\"52.0\" font-family=\"monospace\" font-size=\"12\" text-anchor=\"middle\" fill=\"black\" alignment-baseline=\"central\"  transform=\"rotate(-90 288.0 52.0) translate(2)\" >targets</text><line x1=\"87.5\" y1=\"80\" x2=\"262.5\" y2=\"80\" stroke=\"green\" stroke-width=\"2\"><title></title></line><rect x=\"74.0\" y=\"84\" width=\"202\" height=\"52\" style=\"fill:none;stroke:black;stroke-width:2\"/><image id=\"picture-dashboard-MNIST_CNN-472141_output-rotated_1\" class=\"picture-dashboard-MNIST_CNN-472141_output-rotated\" x=\"75.0\" y=\"85\" height=\"50\" width=\"200\" preserveAspectRatio=\"none\" href=\"data:image/gif;base64,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\"><title>Layer: output (output)\n output range: (-1.0, 1.0)\n shape = (10,)\n Keras class = Dense\n activation = softmax</title></image><text x=\"288.0\" y=\"112.0\" font-family=\"monospace\" font-size=\"12\" text-anchor=\"middle\" fill=\"black\" alignment-baseline=\"central\"  transform=\"rotate(-90 288.0 112.0) translate(2)\" >output</text><line x1=\"175.0\" y1=\"164\" x2=\"175.0\" y2=\"137\" stroke=\"black\" stroke-width=\"2\" marker-end=\"url(#arrow)\"><title>Weights from hidden to output\n output/kernel has shape (30, 10)\n output/bias has shape (10,)</title></line><rect x=\"74.0\" y=\"164\" width=\"202\" height=\"52\" style=\"fill:none;stroke:black;stroke-width:2\"/><image id=\"picture-dashboard-MNIST_CNN-472141_hidden-rotated_2\" class=\"picture-dashboard-MNIST_CNN-472141_hidden-rotated\" x=\"75.0\" y=\"165\" height=\"50\" width=\"200\" preserveAspectRatio=\"none\" href=\"data:image/gif;base64,R0lGODdhHgABAIcAAP38/evr/9XV/8XF/7S0/62t/wAAAAAAAAAAAAAAAAAAAAAAAAAAAAAAAAAAAAAAAAAAAAAAAAAAAAAAAAAAAAAAAAAAAAAAAAAAAAAAAAAAAAAAAAAAAAAAAAAAAAAAAAAAAAAAAAAAAAAAAAAAAAAAAAAAAAAAAAAAAAAAAAAAAAAAAAAAAAAAAAAAAAAAAAAAAAAAAAAAAAAAAAAAAAAAAAAAAAAAAAAAAAAAAAAAAAAAAAAAAAAAAAAAAAAAAAAAAAAAAAAAAAAAAAAAAAAAAAAAAAAAAAAAAAAAAAAAAAAAAAAAAAAAAAAAAAAAAAAAAAAAAAAAAAAAAAAAAAAAAAAAAAAAAAAAAAAAAAAAAAAAAAAAAAAAAAAAAAAAAAAAAAAAAAAAAAAAAAAAAAAAAAAAAAAAAAAAAAAAAAAAAAAAAAAAAAAAAAAAAAAAAAAAAAAAAAAAAAAAAAAAAAAAAAAAAAAAAAAAAAAAAAAAAAAAAAAAAAAAAAAAAAAAAAAAAAAAAAAAAAAAAAAAAAAAAAAAAAAAAAAAAAAAAAAAAAAAAAAAAAAAAAAAAAAAAAAAAAAAAAAAAAAAAAAAAAAAAAAAAAAAAAAAAAAAAAAAAAAAAAAAAAAAAAAAAAAAAAAAAAAAAAAAAAAAAAAAAAAAAAAAAAAAAAAAAAAAAAAAAAAAAAAAAAAAAAAAAAAAAAAAAAAAAAAAAAAAAAAAAAAAAAAAAAAAAAAAAAAAAAAAAAAAAAAAAAAAAAAAAAAAAAAAAAAAAAAAAAAAAAAAAAAAAAAAAAAAAAAAAAAAAAAAAAAAAAAAAAAAAAAAAAAAAAAAAAAAAAAAAAAAAAAAAAAAAAAAAAAAAAAAAAAAAAAAAAAAAAAAAAAAAAAAAAAAAAAAAAAAAAAAAAAAAAAAAAAAAAAAAAAAAAAAAAAAAAAAAAAAAAAAAAAAAAAAAAAAAAAAAAAAAAAAAAAAAAAAAAAAAAAAAAAAAAAAAAAAAAAAAAAAAAAAAAAAAAAAAAAAACwAAAAAHgABAAAIGQALABAAoKBBAAMEAFgYIACAhxAJAJhIMSAAOw==\"><title>Layer: hidden (hidden)\n output range: (-1.0, 1.0)\n shape = (30,)\n Keras class = Dense\n activation = relu</title></image><text x=\"288.0\" y=\"192.0\" font-family=\"monospace\" font-size=\"12\" text-anchor=\"middle\" fill=\"black\" alignment-baseline=\"central\"  transform=\"rotate(-90 288.0 192.0) translate(2)\" >hidden</text><line x1=\"175.0\" y1=\"244\" x2=\"175.0\" y2=\"217\" stroke=\"black\" stroke-width=\"2\" marker-end=\"url(#arrow)\"><title>Weights from flat to hidden\n hidden/kernel has shape (512, 30)\n hidden/bias has shape (30,)</title></line><rect x=\"74.0\" y=\"244\" width=\"202\" height=\"52\" style=\"fill:none;stroke:black;stroke-width:2\"/><image id=\"picture-dashboard-MNIST_CNN-472141_flat-rotated_3\" class=\"picture-dashboard-MNIST_CNN-472141_flat-rotated\" x=\"75.0\" y=\"245\" height=\"50\" width=\"200\" preserveAspectRatio=\"none\" href=\"data:image/gif;base64,R0lGODdhAAIBAIcAAPv6/efn/9jY/8fH/7i4/wAAAAAAAAAAAAAAAAAAAAAAAAAAAAAAAAAAAAAAAAAAAAAAAAAAAAAAAAAAAAAAAAAAAAAAAAAAAAAAAAAAAAAAAAAAAAAAAAAAAAAAAAAAAAAAAAAAAAAAAAAAAAAAAAAAAAAAAAAAAAAAAAAAAAAAAAAAAAAAAAAAAAAAAAAAAAAAAAAAAAAAAAAAAAAAAAAAAAAAAAAAAAAAAAAAAAAAAAAAAAAAAAAAAAAAAAAAAAAAAAAAAAAAAAAAAAAAAAAAAAAAAAAAAAAAAAAAAAAAAAAAAAAAAAAAAAAAAAAAAAAAAAAAAAAAAAAAAAAAAAAAAAAAAAAAAAAAAAAAAAAAAAAAAAAAAAAAAAAAAAAAAAAAAAAAAAAAAAAAAAAAAAAAAAAAAAAAAAAAAAAAAAAAAAAAAAAAAAAAAAAAAAAAAAAAAAAAAAAAAAAAAAAAAAAAAAAAAAAAAAAAAAAAAAAAAAAAAAAAAAAAAAAAAAAAAAAAAAAAAAAAAAAAAAAAAAAAAAAAAAAAAAAAAAAAAAAAAAAAAAAAAAAAAAAAAAAAAAAAAAAAAAAAAAAAAAAAAAAAAAAAAAAAAAAAAAAAAAAAAAAAAAAAAAAAAAAAAAAAAAAAAAAAAAAAAAAAAAAAAAAAAAAAAAAAAAAAAAAAAAAAAAAAAAAAAAAAAAAAAAAAAAAAAAAAAAAAAAAAAAAAAAAAAAAAAAAAAAAAAAAAAAAAAAAAAAAAAAAAAAAAAAAAAAAAAAAAAAAAAAAAAAAAAAAAAAAAAAAAAAAAAAAAAAAAAAAAAAAAAAAAAAAAAAAAAAAAAAAAAAAAAAAAAAAAAAAAAAAAAAAAAAAAAAAAAAAAAAAAAAAAAAAAAAAAAAAAAAAAAAAAAAAAAAAAAAAAAAAAAAAAAAAAAAAAAAAAAAAAAAAAAAAAAAAAAAAAAAAAAAAAAAAAAAAAAAAAAAAAAAAAAAAAAAAAAAAAAAAAAAAAAAAAAAAAAAAAAAAAAAAAACwAAAAAAAIBAAAI/wAFABhIEMAAAAEACAAQAACAAQEASAwgIIAAABgzBgDAMQCAjwIAiAwAQAAAAAIAqAQQQECAAAAABAgAAIAAAAACANgJgACAnwEACAAAQACAowACDBAQAACAAAIABAgAoGoAAFgFANi6VQAAAAIAiBVLIEAAAGgFAAgAoG0AAAEAyJ0rIACAuwIA6AUgAEAAAQACBwAQIAAAAAIAKF6sWMAAAJADAAgAAEAAAAEGANgsIIBnAKADBAAAIACA0wMGAFgtoDWAALADDABAW0AAAgEAAAgAoDcAAQCCDwAgAAAAAQCSCwAgAAABANABBBgAoLr169gDAAAQAID37+C/B88AAEAAgPMAAgBYP0AAgAAAAggIAABAgAADAgDYLwCAf4AAAAQIAMCgAAAJBQAIAADAgAACAAAIIEDAAAAZBQAYAEAAAAEARAIYAMBkAAACAAAQAMClSwEABgCgWTMAAAABAOwEIADAzwADAgAgKiAAAKQAAgBgCiAAAKhRAwCgKgAAgAACBADgKiDAVwABBAQQAMCsAAACAAQIIADAWwACAAAIIABAAAAABADgy1cAgAEABAcAEADAYQEAFCsOAMAxgAAAJE+eHCAAAMyZAwIAOw==\"><title>Layer: flat (hidden)\n output range: (-Infinity, +Infinity)\n Keras class = Flatten</title></image><text x=\"288.0\" y=\"272.0\" font-family=\"monospace\" font-size=\"12\" text-anchor=\"middle\" fill=\"black\" alignment-baseline=\"central\"  transform=\"rotate(-90 288.0 272.0) translate(2)\" >flat</text><line x1=\"175.0\" y1=\"324\" x2=\"175.0\" y2=\"297\" stroke=\"black\" stroke-width=\"2\" marker-end=\"url(#arrow)\"><title>Weights from maxpool2 to flat</title></line><rect x=\"74.0\" y=\"324\" width=\"202\" height=\"202\" style=\"fill:none;stroke:black;stroke-width:2\"/><image id=\"picture-dashboard-MNIST_CNN-472141_maxpool2-rotated_4\" class=\"picture-dashboard-MNIST_CNN-472141_maxpool2-rotated\" x=\"75.0\" y=\"325\" height=\"200\" width=\"200\" preserveAspectRatio=\"none\" href=\"data:image/gif;base64,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\"><title>Layer: maxpool2 (hidden)\n output range: (-Infinity, +Infinity)\n Keras class = MaxPooling2D</title></image><text x=\"288.0\" y=\"427.0\" font-family=\"monospace\" font-size=\"12\" text-anchor=\"middle\" fill=\"black\" alignment-baseline=\"central\"  transform=\"rotate(-90 288.0 427.0) translate(2)\" >maxpool2</text><text x=\"88.0\" y=\"310\" font-family=\"monospace\" font-size=\"12\" text-anchor=\"middle\" fill=\"black\" alignment-baseline=\"central\"  transform=\"rotate(-90 88.0 310) translate(2)\" >32</text><text x=\"273.0\" y=\"540\" font-family=\"monospace\" font-size=\"12\" text-anchor=\"middle\" fill=\"black\" alignment-baseline=\"central\"  transform=\"rotate(-90 273.0 540) translate(2)\" >0</text><line x1=\"175.0\" y1=\"554\" x2=\"175.0\" y2=\"527\" stroke=\"black\" stroke-width=\"2\" marker-end=\"url(#arrow)\"><title>Weights from conv2D_2 to maxpool2</title></line><rect x=\"74.0\" y=\"554\" width=\"202\" height=\"202\" style=\"fill:none;stroke:black;stroke-width:2\"/><image id=\"picture-dashboard-MNIST_CNN-472141_conv2D_2-rotated_5\" class=\"picture-dashboard-MNIST_CNN-472141_conv2D_2-rotated\" x=\"75.0\" y=\"555\" height=\"200\" width=\"200\" preserveAspectRatio=\"none\" href=\"data:image/gif;base64,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\"><title>Layer: conv2D_2 (hidden)\n output range: (-1.0, 1.0)\n dropout = 0.2\n Keras class = Conv2D\n activation = relu</title></image><text x=\"288.0\" y=\"657.0\" font-family=\"monospace\" font-size=\"12\" text-anchor=\"middle\" fill=\"black\" alignment-baseline=\"central\"  transform=\"rotate(-90 288.0 657.0) translate(2)\" >conv2D_2</text><text x=\"88.0\" y=\"540\" font-family=\"monospace\" font-size=\"12\" text-anchor=\"middle\" fill=\"black\" alignment-baseline=\"central\"  transform=\"rotate(-90 88.0 540) translate(2)\" >32</text><text x=\"273.0\" y=\"770\" font-family=\"monospace\" font-size=\"12\" text-anchor=\"middle\" fill=\"black\" alignment-baseline=\"central\"  transform=\"rotate(-90 273.0 770) translate(2)\" >0</text><text x=\"62.0\" y=\"560\" font-family=\"monospace\" font-size=\"24.0\" text-anchor=\"middle\" fill=\"black\" alignment-baseline=\"central\"  transform=\"rotate(-90 62.0 560) translate(2)\" >&#10683;</text><line x1=\"175.0\" y1=\"784\" x2=\"175.0\" y2=\"757\" stroke=\"black\" stroke-width=\"2\" marker-end=\"url(#arrow)\"><title>Weights from maxpool1 to conv2D_2\n conv2D_2/kernel has shape (5, 5, 16, 32)\n conv2D_2/bias has shape (32,)</title></line><rect x=\"74.0\" y=\"784\" width=\"202\" height=\"202\" style=\"fill:none;stroke:black;stroke-width:2\"/><image id=\"picture-dashboard-MNIST_CNN-472141_maxpool1-rotated_6\" class=\"picture-dashboard-MNIST_CNN-472141_maxpool1-rotated\" x=\"75.0\" y=\"785\" height=\"200\" width=\"200\" preserveAspectRatio=\"none\" href=\"data:image/gif;base64,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\"><title>Layer: maxpool1 (hidden)\n output range: (-Infinity, +Infinity)\n Keras class = MaxPooling2D</title></image><text x=\"288.0\" y=\"887.0\" font-family=\"monospace\" font-size=\"12\" text-anchor=\"middle\" fill=\"black\" alignment-baseline=\"central\"  transform=\"rotate(-90 288.0 887.0) translate(2)\" >maxpool1</text><text x=\"88.0\" y=\"770\" font-family=\"monospace\" font-size=\"12\" text-anchor=\"middle\" fill=\"black\" alignment-baseline=\"central\"  transform=\"rotate(-90 88.0 770) translate(2)\" >16</text><text x=\"273.0\" y=\"1000\" font-family=\"monospace\" font-size=\"12\" text-anchor=\"middle\" fill=\"black\" alignment-baseline=\"central\"  transform=\"rotate(-90 273.0 1000) translate(2)\" >0</text><line x1=\"175.0\" y1=\"1014\" x2=\"175.0\" y2=\"987\" stroke=\"black\" stroke-width=\"2\" marker-end=\"url(#arrow)\"><title>Weights from conv2D_1 to maxpool1</title></line><rect x=\"74.0\" y=\"1014\" width=\"202\" height=\"202\" style=\"fill:none;stroke:black;stroke-width:2\"/><image id=\"picture-dashboard-MNIST_CNN-472141_conv2D_1-rotated_7\" class=\"picture-dashboard-MNIST_CNN-472141_conv2D_1-rotated\" x=\"75.0\" y=\"1015\" height=\"200\" width=\"200\" preserveAspectRatio=\"none\" href=\"data:image/gif;base64,R0lGODdhGAAYAIcAAP78/dfX/8jI/+np/7a2/6Sk/4iI/5iY/319/wAAAAAAAAAAAAAAAAAAAAAAAAAAAAAAAAAAAAAAAAAAAAAAAAAAAAAAAAAAAAAAAAAAAAAAAAAAAAAAAAAAAAAAAAAAAAAAAAAAAAAAAAAAAAAAAAAAAAAAAAAAAAAAAAAAAAAAAAAAAAAAAAAAAAAAAAAAAAAAAAAAAAAAAAAAAAAAAAAAAAAAAAAAAAAAAAAAAAAAAAAAAAAAAAAAAAAAAAAAAAAAAAAAAAAAAAAAAAAAAAAAAAAAAAAAAAAAAAAAAAAAAAAAAAAAAAAAAAAAAAAAAAAAAAAAAAAAAAAAAAAAAAAAAAAAAAAAAAAAAAAAAAAAAAAAAAAAAAAAAAAAAAAAAAAAAAAAAAAAAAAAAAAAAAAAAAAAAAAAAAAAAAAAAAAAAAAAAAAAAAAAAAAAAAAAAAAAAAAAAAAAAAAAAAAAAAAAAAAAAAAAAAAAAAAAAAAAAAAAAAAAAAAAAAAAAAAAAAAAAAAAAAAAAAAAAAAAAAAAAAAAAAAAAAAAAAAAAAAAAAAAAAAAAAAAAAAAAAAAAAAAAAAAAAAAAAAAAAAAAAAAAAAAAAAAAAAAAAAAAAAAAAAAAAAAAAAAAAAAAAAAAAAAAAAAAAAAAAAAAAAAAAAAAAAAAAAAAAAAAAAAAAAAAAAAAAAAAAAAAAAAAAAAAAAAAAAAAAAAAAAAAAAAAAAAAAAAAAAAAAAAAAAAAAAAAAAAAAAAAAAAAAAAAAAAAAAAAAAAAAAAAAAAAAAAAAAAAAAAAAAAAAAAAAAAAAAAAAAAAAAAAAAAAAAAAAAAAAAAAAAAAAAAAAAAAAAAAAAAAAAAAAAAAAAAAAAAAAAAAAAAAAAAAAAAAAAAAAAAAAAAAAAAAAAAAAAAAAAAAAAAAAAAAAAAAAAAAAAAAAAAAAAAAAAAAAAAAAAAAAAAAAAAAAAAAAAAAAAAAAAAAAAAAAAAAAAAAAAAAAAAAAAAAAAAAAAAAAAAAAAAAAAAACwAAAAAGAAYAEAI/wABCBxIsKDBgwIJBAAAYAABAQIICABAsaLFigEIAAAwAIDHjyA/FgBAsqTJkyhTkiQQAIDLly8DCAhQgACAmzgBDAhAgMAAAECDCh1KtKhRowEAKCUgAIDTp1CjPi0gAIBVqwMEBBBQoACAr2DDAiAAAEAAAGjTqgUgwAACAHDhBihAIMAAAHjz6t3Lt6/fv4AD5x0AoLDhw4gTIx4AoLHjx5AfBxgAAMAAAQUEANjMubNnAAcCABg9QICAAAQKCADAurVr1gcEAJhNG8CAAQEIHBgAoLdv3wUCABhOvDiAAMgJGADAvDkBAAACAJhOvfp0AQYAaNceoACA7+DDiyUHEACAefMBAggoMACA+/fw48MPEADAAAD48+vfz7+/f4AABAYEADs=\"><title>Layer: conv2D_1 (hidden)\n output range: (-1.0, 1.0)\n dropout = 0.2\n Keras class = Conv2D\n activation = relu</title></image><text x=\"288.0\" y=\"1117.0\" font-family=\"monospace\" font-size=\"12\" text-anchor=\"middle\" fill=\"black\" alignment-baseline=\"central\"  transform=\"rotate(-90 288.0 1117.0) translate(2)\" >conv2D_1</text><text x=\"88.0\" y=\"1000\" font-family=\"monospace\" font-size=\"12\" text-anchor=\"middle\" fill=\"black\" alignment-baseline=\"central\"  transform=\"rotate(-90 88.0 1000) translate(2)\" >16</text><text x=\"273.0\" y=\"1230\" font-family=\"monospace\" font-size=\"12\" text-anchor=\"middle\" fill=\"black\" alignment-baseline=\"central\"  transform=\"rotate(-90 273.0 1230) translate(2)\" >0</text><text x=\"62.0\" y=\"1020\" font-family=\"monospace\" font-size=\"24.0\" text-anchor=\"middle\" fill=\"black\" alignment-baseline=\"central\"  transform=\"rotate(-90 62.0 1020) translate(2)\" >&#10683;</text><line x1=\"175.0\" y1=\"1244\" x2=\"175.0\" y2=\"1217\" stroke=\"black\" stroke-width=\"2\" marker-end=\"url(#arrow)\"><title>Weights from input to conv2D_1\n conv2D_1/kernel has shape (5, 5, 1, 16)\n conv2D_1/bias has shape (16,)</title></line><rect x=\"74.0\" y=\"1244\" width=\"202\" height=\"202\" style=\"fill:none;stroke:black;stroke-width:2\"/><image id=\"picture-dashboard-MNIST_CNN-472141_input-rotated_8\" class=\"picture-dashboard-MNIST_CNN-472141_input-rotated\" x=\"75.0\" y=\"1245\" height=\"200\" width=\"200\" preserveAspectRatio=\"none\" href=\"data:image/gif;base64,R0lGODdhHAAcAIcAAAAAAPz8/MfHxzk5OUVFRRQUFObm5nZ2dtra2iYmJoWFhaampri4uFNTU5ubm2lpaQAAAAAAAAAAAAAAAAAAAAAAAAAAAAAAAAAAAAAAAAAAAAAAAAAAAAAAAAAAAAAAAAAAAAAAAAAAAAAAAAAAAAAAAAAAAAAAAAAAAAAAAAAAAAAAAAAAAAAAAAAAAAAAAAAAAAAAAAAAAAAAAAAAAAAAAAAAAAAAAAAAAAAAAAAAAAAAAAAAAAAAAAAAAAAAAAAAAAAAAAAAAAAAAAAAAAAAAAAAAAAAAAAAAAAAAAAAAAAAAAAAAAAAAAAAAAAAAAAAAAAAAAAAAAAAAAAAAAAAAAAAAAAAAAAAAAAAAAAAAAAAAAAAAAAAAAAAAAAAAAAAAAAAAAAAAAAAAAAAAAAAAAAAAAAAAAAAAAAAAAAAAAAAAAAAAAAAAAAAAAAAAAAAAAAAAAAAAAAAAAAAAAAAAAAAAAAAAAAAAAAAAAAAAAAAAAAAAAAAAAAAAAAAAAAAAAAAAAAAAAAAAAAAAAAAAAAAAAAAAAAAAAAAAAAAAAAAAAAAAAAAAAAAAAAAAAAAAAAAAAAAAAAAAAAAAAAAAAAAAAAAAAAAAAAAAAAAAAAAAAAAAAAAAAAAAAAAAAAAAAAAAAAAAAAAAAAAAAAAAAAAAAAAAAAAAAAAAAAAAAAAAAAAAAAAAAAAAAAAAAAAAAAAAAAAAAAAAAAAAAAAAAAAAAAAAAAAAAAAAAAAAAAAAAAAAAAAAAAAAAAAAAAAAAAAAAAAAAAAAAAAAAAAAAAAAAAAAAAAAAAAAAAAAAAAAAAAAAAAAAAAAAAAAAAAAAAAAAAAAAAAAAAAAAAAAAAAAAAAAAAAAAAAAAAAAAAAAAAAAAAAAAAAAAAAAAAAAAAAAAAAAAAAAAAAAAAAAAAAAAAAAAAAAAAAAAAAAAAAAAAAAAAAAAAAAAAAAAAAAAAAAAAAAAAAAAAAAAAAAAAAAAAAAAAAAAAAAAAAAAAAAAAAAAAAAAAAAAAAACwAAAAAHAAcAEAI/wABCBxIsKDBgwgFBDAQIICBAQAiSpxIkWKCAAYKANjIsSOAAgoCiARAsqTJkyhTqlzJkqWAAAQAyJx5IEAABAQA6NzJcyeDAAcACB1KtKjRo0iTJh2g4EEBAFCjSp1KNaqAAAMAFFAQoCuDAQDCih1LNqwAAwDSqlVbQECAtwEQFABAty5dBwEOANjLt6/fv4ADCx5MuLDhw4gTKza8IEAABA0SAJhMubLlywAEGCjQwECAAAwGABhNurTp0gICEADAeoACAQECLEgAoLbt27gFBCAAoLdvAAQQBAhwYMCABACSK18uIAABANCjS09gIIB1AQCya88+IMACAODDizAXP+DAAQDo06N3EIAAgPfw48ufH78BAgIA8uvfz7+/f4AABA4kWNDgQYQJFS5EGBAAOw==\"><title>Layer: input (input)\n output range: (0.0, 1.0)\n shape = (28, 28, 1)\n Keras class = Input</title></image><text x=\"288.0\" y=\"1347.0\" font-family=\"monospace\" font-size=\"12\" text-anchor=\"middle\" fill=\"black\" alignment-baseline=\"central\"  transform=\"rotate(-90 288.0 1347.0) translate(2)\" >input</text><text x=\"88.0\" y=\"1230\" font-family=\"monospace\" font-size=\"12\" text-anchor=\"middle\" fill=\"black\" alignment-baseline=\"central\"  transform=\"rotate(-90 88.0 1230) translate(2)\" >1</text><text x=\"273.0\" y=\"1460\" font-family=\"monospace\" font-size=\"12\" text-anchor=\"middle\" fill=\"black\" alignment-baseline=\"central\"  transform=\"rotate(-90 273.0 1460) translate(2)\" >0</text><text x=\"18\" y=\"735.0\" font-family=\"monospace\" font-size=\"15\" text-anchor=\"middle\" fill=\"black\" alignment-baseline=\"central\"  transform=\"rotate(-90 18 735.0) translate(2)\" >MNIST_CNN</text></svg></g></svg></p></td>\n</tr>\n<tr>\n  <td valign=\"top\" align=\"center\"><p style=\"text-align:center\"><b>conv2D_1 features</b></p><table><tr><td style=\"border: 1px solid black;\"><img style=\"image-rendering: pixelated;\" class=\"MNIST_CNN_conv2D_1_feature0\" src=\"data:image/gif;base64,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\"/><br/><center>Feature 0</center></td><td style=\"border: 1px solid black;\"><img style=\"image-rendering: pixelated;\" class=\"MNIST_CNN_conv2D_1_feature1\" src=\"data:image/gif;base64,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\"/><br/><center>Feature 1</center></td><td style=\"border: 1px solid black;\"><img style=\"image-rendering: pixelated;\" class=\"MNIST_CNN_conv2D_1_feature2\" src=\"data:image/gif;base64,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\"/><br/><center>Feature 2</center></td><td style=\"border: 1px solid black;\"><img style=\"image-rendering: pixelated;\" class=\"MNIST_CNN_conv2D_1_feature3\" src=\"data:image/gif;base64,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\"/><br/><center>Feature 3</center></td><td style=\"border: 1px solid black;\"><img style=\"image-rendering: pixelated;\" class=\"MNIST_CNN_conv2D_1_feature4\" src=\"data:image/gif;base64,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\"/><br/><center>Feature 4</center></td><td style=\"border: 1px solid black;\"><img style=\"image-rendering: pixelated;\" class=\"MNIST_CNN_conv2D_1_feature5\" src=\"data:image/gif;base64,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\"/><br/><center>Feature 5</center></td><td style=\"border: 1px solid black;\"><img style=\"image-rendering: pixelated;\" class=\"MNIST_CNN_conv2D_1_feature6\" src=\"data:image/gif;base64,R0lGODdhYABgAIcAAP78/eXl/9nZ/wAAAAAAAAAAAAAAAAAAAAAAAAAAAAAAAAAAAAAAAAAAAAAAAAAAAAAAAAAAAAAAAAAAAAAAAAAAAAAAAAAAAAAAAAAAAAAAAAAAAAAAAAAAAAAAAAAAAAAAAAAAAAAAAAAAAAAAAAAAAAAAAAAAAAAAAAAAAAAAAAAAAAAAAAAAAAAAAAAAAAAAAAAAAAAAAAAAAAAAAAAAAAAAAAAAAAAAAAAAAAAAAAAAAAAAAAAAAAAAAAAAAAAAAAAAAAAAAAAAAAAAAAAAAAAAAAAAAAAAAAAAAAAAAAAAAAAAAAAAAAAAAAAAAAAAAAAAAAAAAAAAAAAAAAAAAAAAAAAAAAAAAAAAAAAAAAAAAAAAAAAAAAAAAAAAAAAAAAAAAAAAAAAAAAAAAAAAAAAAAAAAAAAAAAAAAAAAAAAAAAAAAAAAAAAAAAAAAAAAAAAAAAAAAAAAAAAAAAAAAAAAAAAAAAAAAAAAAAAAAAAAAAAAAAAAAAAAAAAAAAAAAAAAAAAAAAAAAAAAAAAAAAAAAAAAAAAAAAAAAAAAAAAAAAAAAAAAAAAAAAAAAAAAAAAAAAAAAAAAAAAAAAAAAAAAAAAAAAAAAAAAAAAAAAAAAAAAAAAAAAAAAAAAAAAAAAAAAAAAAAAAAAAAAAAAAAAAAAAAAAAAAAAAAAAAAAAAAAAAAAAAAAAAAAAAAAAAAAAAAAAAAAAAAAAAAAAAAAAAAAAAAAAAAAAAAAAAAAAAAAAAAAAAAAAAAAAAAAAAAAAAAAAAAAAAAAAAAAAAAAAAAAAAAAAAAAAAAAAAAAAAAAAAAAAAAAAAAAAAAAAAAAAAAAAAAAAAAAAAAAAAAAAAAAAAAAAAAAAAAAAAAAAAAAAAAAAAAAAAAAAAAAAAAAAAAAAAAAAAAAAAAAAAAAAAAAAAAAAAAAAAAAAAAAAAAAAAAAAAAAAAAAAAAAAAAAAAAAAAAAAAAAAAAAAAAAAAAAAAAAAAAAAAAAAAAAAAAAAAAAAAAAAAAAAAACwAAAAAYABgAEAI/wABCBxIsKDBgwgTKlzIsKHDhxAjSpxIsaLFixQFaBQAoKPHjyBDihxJsqTJkyhTqlzJsqXLlzBjypxJs6bNmzhz6tzJs6fPn0CDCh1KtKjRo0iTKn0ZoGkAAFCjSp1KtarVq1izat3KtavXr2DDih1LtqzZs2jTql3Ltq3bt3Djyp1Lt26AuwEE6BUAoK/fv4ADCx5MuLDhw4gTK17MuLHjx5AjS55MubLly5gza97MubPnxgJCCwBAurTp06hTq17NurXr1wACyA4AoLbt27hz697Nu7fv38CDCx9OvLjx48iTK1/OvLnz59CjS59Ovbr169iza9/Ovbv37+DDi/8fT768+fPo06vfHaB9AAHwBQCYT7++/fv48+vfz7+/f4AABA4kWNDgQYQJFS5k2NDhQ4gRJU6kWNHiRYwZNW7k2NHjR5AhRY4kWdLkSZQpVa5k2dLly4ICZAoAUNPmTZw5de7k2dPnT6AABAwVAMDoUaRJlS5l2tTpU6hRAQSgGgDAVaxZtW7l2tXrV7BhxQIIUDYAALRp1a5l29btW7hx5c6lW9fuXbx59e7l29fvX8CBBQ8mXNjwYcSJFS9m3NjxY8iRJU+mXNnyZcyZNW/m3NnzZ9ChRY8mXdr0adSpVa9m3dr1a9ixZZMOUDuAANwCAOzm3dv3b+DBhQ8nXnwVeADkAQQsFwDA+XPo0aVPp17devWAADs=\"/><br/><center>Feature 6</center></td><td style=\"border: 1px solid black;\"><img style=\"image-rendering: pixelated;\" class=\"MNIST_CNN_conv2D_1_feature7\" src=\"data:image/gif;base64,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\"/><br/><center>Feature 7</center></td></tr><tr><td style=\"border: 1px solid black;\"><img style=\"image-rendering: pixelated;\" class=\"MNIST_CNN_conv2D_1_feature8\" src=\"data:image/gif;base64,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\"/><br/><center>Feature 8</center></td><td style=\"border: 1px solid black;\"><img style=\"image-rendering: pixelated;\" class=\"MNIST_CNN_conv2D_1_feature9\" src=\"data:image/gif;base64,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\"/><br/><center>Feature 9</center></td><td style=\"border: 1px solid black;\"><img style=\"image-rendering: pixelated;\" class=\"MNIST_CNN_conv2D_1_feature10\" src=\"data:image/gif;base64,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\"/><br/><center>Feature 10</center></td><td style=\"border: 1px solid black;\"><img style=\"image-rendering: pixelated;\" class=\"MNIST_CNN_conv2D_1_feature11\" src=\"data:image/gif;base64,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\"/><br/><center>Feature 11</center></td><td style=\"border: 1px solid black;\"><img style=\"image-rendering: pixelated;\" class=\"MNIST_CNN_conv2D_1_feature12\" src=\"data:image/gif;base64,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\"/><br/><center>Feature 12</center></td><td style=\"border: 1px solid black;\"><img style=\"image-rendering: pixelated;\" class=\"MNIST_CNN_conv2D_1_feature13\" src=\"data:image/gif;base64,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\"/><br/><center>Feature 13</center></td><td style=\"border: 1px solid black;\"><img style=\"image-rendering: pixelated;\" class=\"MNIST_CNN_conv2D_1_feature14\" src=\"data:image/gif;base64,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\"/><br/><center>Feature 14</center></td><td style=\"border: 1px solid black;\"><img style=\"image-rendering: pixelated;\" class=\"MNIST_CNN_conv2D_1_feature15\" src=\"data:image/gif;base64,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\"/><br/><center>Feature 15</center></td></tr><tr></tr></table></td>\n</tr>\n</table>"
      }
     },
     "1ff8010449f44d5585ac90c1202cf7de": {
      "model_module": "@jupyter-widgets/controls",
      "model_module_version": "1.1.0",
      "model_name": "ButtonStyleModel",
      "state": {}
     },
     "201b90c38a0343f1a482810147ba9225": {
      "model_module": "@jupyter-widgets/controls",
      "model_module_version": "1.1.0",
      "model_name": "IntTextModel",
      "state": {
       "layout": "IPY_MODEL_4ad1265fa2ae4b79a12f74096958c51d",
       "step": 1,
       "style": "IPY_MODEL_f927cd45536c4a8489fae126dddbe7ba"
      }
     },
     "20c7cd5ee5df4c98ac7015166c8a9fbe": {
      "model_module": "@jupyter-widgets/controls",
      "model_module_version": "1.1.0",
      "model_name": "HBoxModel",
      "state": {
       "children": [
        "IPY_MODEL_37afcee0f05b470b864868d5668b3682",
        "IPY_MODEL_869be0a646544da7984ba4311c812678"
       ],
       "layout": "IPY_MODEL_b95c4624d53242a0aac1fd55f412a5aa"
      }
     },
     "212b6ce5f2314fe3a85344181ed03f1d": {
      "model_module": "@jupyter-widgets/controls",
      "model_module_version": "1.1.0",
      "model_name": "SelectModel",
      "state": {
       "_options_labels": [
        "",
        "input",
        "conv2D_1",
        "maxpool1",
        "conv2D_2",
        "maxpool2"
       ],
       "description": "Features:",
       "index": 2,
       "layout": "IPY_MODEL_8647b3febb3c469e8b8df97bf2450a1a",
       "rows": 1,
       "style": "IPY_MODEL_341f2ab22dc346dfa26699e695863014"
      }
     },
     "214ae8931f1544e09cd75baf775eb9d7": {
      "model_module": "@jupyter-widgets/controls",
      "model_module_version": "1.1.0",
      "model_name": "SelectModel",
      "state": {
       "_options_labels": [
        "Test",
        "Train"
       ],
       "description": "Dataset:",
       "index": 0,
       "layout": "IPY_MODEL_ea4b8a4a8dbc4343937c0e4d2b789df7",
       "rows": 1,
       "style": "IPY_MODEL_040394a457cc4527ba98f0785048e9a4"
      }
     },
     "22562922aedf45a28ebd806f41f1f1fd": {
      "model_module": "@jupyter-widgets/controls",
      "model_module_version": "1.1.0",
      "model_name": "DescriptionStyleModel",
      "state": {
       "description_width": ""
      }
     },
     "251727b7ea7c4b9fa5addcc34a70e034": {
      "model_module": "@jupyter-widgets/controls",
      "model_module_version": "1.1.0",
      "model_name": "DescriptionStyleModel",
      "state": {
       "description_width": "initial"
      }
     },
     "259765b0b992473a810dc4a4b1fa6f49": {
      "model_module": "@jupyter-widgets/controls",
      "model_module_version": "1.1.0",
      "model_name": "CheckboxModel",
      "state": {
       "description": "Rotate",
       "disabled": false,
       "layout": "IPY_MODEL_6b99c9ced3a942e8ba17f22f00be6e19",
       "style": "IPY_MODEL_ba23c9401d9e41708459cbcbf4f22dc5",
       "value": true
      }
     },
     "2818939f0241499fa035dd80d43f73ae": {
      "model_module": "@jupyter-widgets/base",
      "model_module_version": "1.0.0",
      "model_name": "LayoutModel",
      "state": {
       "width": "100%"
      }
     },
     "293f51a2a6e64e0b851b165ab500395d": {
      "model_module": "@jupyter-widgets/base",
      "model_module_version": "1.0.0",
      "model_name": "LayoutModel",
      "state": {}
     },
     "2a74ea6788fd4f7f8647e258ac4dac05": {
      "model_module": "@jupyter-widgets/controls",
      "model_module_version": "1.1.0",
      "model_name": "CheckboxModel",
      "state": {
       "description": "Show Targets",
       "disabled": false,
       "layout": "IPY_MODEL_6b99c9ced3a942e8ba17f22f00be6e19",
       "style": "IPY_MODEL_c9440791b6e941dda9a42c1c2af56f52",
       "value": true
      }
     },
     "2a95df2cf914412ea7fc7689186960b1": {
      "model_module": "@jupyter-widgets/controls",
      "model_module_version": "1.1.0",
      "model_name": "CheckboxModel",
      "state": {
       "description": "Errors",
       "disabled": false,
       "layout": "IPY_MODEL_c503b25cfd614c20a3366724f025ee6c",
       "style": "IPY_MODEL_d55d020a05ab4206918f2373e3d328a2",
       "value": false
      }
     },
     "2d0ed393b7744c7ba93d8aed054066af": {
      "model_module": "@jupyter-widgets/base",
      "model_module_version": "1.0.0",
      "model_name": "LayoutModel",
      "state": {}
     },
     "2dc59c556b33429c9e9187439843171b": {
      "model_module": "@jupyter-widgets/controls",
      "model_module_version": "1.1.0",
      "model_name": "DescriptionStyleModel",
      "state": {
       "description_width": "initial"
      }
     },
     "2ebba2a15081417c90ba10766775572c": {
      "model_module": "@jupyter-widgets/base",
      "model_module_version": "1.0.0",
      "model_name": "LayoutModel",
      "state": {
       "width": "100%"
      }
     },
     "2f95902e795d4427a199cbfe14e54c1c": {
      "model_module": "@jupyter-widgets/controls",
      "model_module_version": "1.1.0",
      "model_name": "FloatSliderModel",
      "state": {
       "continuous_update": false,
       "description": "Zoom",
       "layout": "IPY_MODEL_0d56f9bac50a401fb3526e596c428632",
       "max": 1,
       "step": 0.1,
       "style": "IPY_MODEL_db0757da6844451e9d79f6dd846e7dd2",
       "value": 1
      }
     },
     "2fa2fe2f77ab48378954dbf58c8336f1": {
      "model_module": "@jupyter-widgets/base",
      "model_module_version": "1.0.0",
      "model_name": "LayoutModel",
      "state": {
       "justify_content": "center",
       "overflow_x": "auto",
       "overflow_y": "auto",
       "width": "95%"
      }
     },
     "2ffdfc3afeca4558b1b8b9104cbe9d38": {
      "model_module": "@jupyter-widgets/controls",
      "model_module_version": "1.1.0",
      "model_name": "CheckboxModel",
      "state": {
       "description": "Visible",
       "disabled": false,
       "layout": "IPY_MODEL_c503b25cfd614c20a3366724f025ee6c",
       "style": "IPY_MODEL_41d32552e8e442248eed0fc8327deae6",
       "value": true
      }
     },
     "33260b51b91f4d668b8a1fc755fcb57e": {
      "model_module": "@jupyter-widgets/controls",
      "model_module_version": "1.1.0",
      "model_name": "DescriptionStyleModel",
      "state": {
       "description_width": "initial"
      }
     },
     "341f2ab22dc346dfa26699e695863014": {
      "model_module": "@jupyter-widgets/controls",
      "model_module_version": "1.1.0",
      "model_name": "DescriptionStyleModel",
      "state": {
       "description_width": ""
      }
     },
     "35f0b86d21574646a1c66bb91e5c1085": {
      "model_module": "@jupyter-widgets/base",
      "model_module_version": "1.0.0",
      "model_name": "LayoutModel",
      "state": {
       "width": "100%"
      }
     },
     "369de03def8b4752a14caa97e077e161": {
      "model_module": "@jupyter-widgets/controls",
      "model_module_version": "1.1.0",
      "model_name": "ButtonStyleModel",
      "state": {}
     },
     "37afcee0f05b470b864868d5668b3682": {
      "model_module": "@jupyter-widgets/controls",
      "model_module_version": "1.1.0",
      "model_name": "CheckboxModel",
      "state": {
       "description": "Rotate network",
       "disabled": false,
       "layout": "IPY_MODEL_a7774022e75e4792bcee6b225956e76f",
       "style": "IPY_MODEL_2dc59c556b33429c9e9187439843171b",
       "value": true
      }
     },
     "3989d6d647274deb8f21dd75607a4d9b": {
      "model_module": "@jupyter-widgets/controls",
      "model_module_version": "1.1.0",
      "model_name": "SliderStyleModel",
      "state": {
       "description_width": ""
      }
     },
     "3a301ef8babc474d82ca3877b1f25242": {
      "model_module": "@jupyter-widgets/controls",
      "model_module_version": "1.1.0",
      "model_name": "DescriptionStyleModel",
      "state": {
       "description_width": "initial"
      }
     },
     "3aa1cc4fedee45cda72e5adf7e4b8229": {
      "model_module": "@jupyter-widgets/controls",
      "model_module_version": "1.1.0",
      "model_name": "CheckboxModel",
      "state": {
       "description": "Errors",
       "disabled": false,
       "layout": "IPY_MODEL_6b99c9ced3a942e8ba17f22f00be6e19",
       "style": "IPY_MODEL_9ed14e4ac9e84936bff1dd2110e57ba7",
       "value": false
      }
     },
     "3be9c6fce0d841edba122d70e2f9fa5a": {
      "model_module": "@jupyter-widgets/controls",
      "model_module_version": "1.1.0",
      "model_name": "ButtonModel",
      "state": {
       "icon": "fast-backward",
       "layout": "IPY_MODEL_dc6060b0d163428ba1513ecd001d1957",
       "style": "IPY_MODEL_60e6c22cd1e64b5596e03bea1a75e7b7"
      }
     },
     "3c84f6a507144a1c835ed24e396937a9": {
      "model_module": "@jupyter-widgets/controls",
      "model_module_version": "1.1.0",
      "model_name": "DescriptionStyleModel",
      "state": {
       "description_width": "initial"
      }
     },
     "3d08dcf30ece44e6b364c5550486c800": {
      "model_module": "@jupyter-widgets/controls",
      "model_module_version": "1.1.0",
      "model_name": "HBoxModel",
      "state": {
       "children": [
        "IPY_MODEL_952a58268e894378b1757d4622b27cf7",
        "IPY_MODEL_2a95df2cf914412ea7fc7689186960b1"
       ],
       "layout": "IPY_MODEL_6723a4d57e594e408049d94a541915f1"
      }
     },
     "3d2e0a48d2344acfaa1cbc038eb12fe6": {
      "model_module": "@jupyter-widgets/base",
      "model_module_version": "1.0.0",
      "model_name": "LayoutModel",
      "state": {}
     },
     "40fdc28fc0ef4724a833b638be8c0db2": {
      "model_module": "@jupyter-widgets/base",
      "model_module_version": "1.0.0",
      "model_name": "LayoutModel",
      "state": {}
     },
     "4176cda240b544b086b239aea97f0528": {
      "model_module": "@jupyter-widgets/controls",
      "model_module_version": "1.1.0",
      "model_name": "ButtonStyleModel",
      "state": {}
     },
     "41d32552e8e442248eed0fc8327deae6": {
      "model_module": "@jupyter-widgets/controls",
      "model_module_version": "1.1.0",
      "model_name": "DescriptionStyleModel",
      "state": {
       "description_width": ""
      }
     },
     "42f5f6d778a1437898913cf7363df5bb": {
      "model_module": "@jupyter-widgets/controls",
      "model_module_version": "1.1.0",
      "model_name": "DescriptionStyleModel",
      "state": {
       "description_width": ""
      }
     },
     "43f394c6a2ad4bf0b9fbf9175ea78e06": {
      "model_module": "@jupyter-widgets/controls",
      "model_module_version": "1.1.0",
      "model_name": "ButtonStyleModel",
      "state": {}
     },
     "45764738fa034eceb3dcc9ef177c7722": {
      "model_module": "@jupyter-widgets/base",
      "model_module_version": "1.0.0",
      "model_name": "LayoutModel",
      "state": {}
     },
     "468fd08c746744a28560db79c0735d0d": {
      "model_module": "@jupyter-widgets/base",
      "model_module_version": "1.0.0",
      "model_name": "LayoutModel",
      "state": {}
     },
     "472c1d142f9f4ba5b306289fa9bb7133": {
      "model_module": "@jupyter-widgets/controls",
      "model_module_version": "1.1.0",
      "model_name": "IntSliderModel",
      "state": {
       "continuous_update": false,
       "description": "Dataset index",
       "layout": "IPY_MODEL_a4c4ce520b824522862598323d2e5ca1",
       "max": 59999,
       "style": "IPY_MODEL_ef44857d1eeb4feb867683c4f0a1284f"
      }
     },
     "47345c225e0b494b99f2418e24e524b5": {
      "model_module": "@jupyter-widgets/base",
      "model_module_version": "1.0.0",
      "model_name": "LayoutModel",
      "state": {
       "width": "10%"
      }
     },
     "47b8aac9f17644a8859dafe89db06d67": {
      "model_module": "@jupyter-widgets/controls",
      "model_module_version": "1.1.0",
      "model_name": "HBoxModel",
      "state": {
       "children": [
        "IPY_MODEL_e3714db98d99403aa65dadeb35b5b205",
        "IPY_MODEL_92a48f86c38842c39ad31a139afd31a1",
        "IPY_MODEL_201b90c38a0343f1a482810147ba9225",
        "IPY_MODEL_d66c8857059f47ac869d0200a3ef0945",
        "IPY_MODEL_edec9ada732f49ffa61424d09fe0843b",
        "IPY_MODEL_4ad9bf06ebb4426289698010c03027b3",
        "IPY_MODEL_0448dbc1f0cc4216afe0b6ceb18245d8"
       ],
       "layout": "IPY_MODEL_130a423f0179458fa4d515b76dca629f"
      }
     },
     "484bd43f859749ff83945c432d33034b": {
      "model_module": "@jupyter-widgets/base",
      "model_module_version": "1.0.0",
      "model_name": "LayoutModel",
      "state": {
       "height": "50px",
       "width": "100%"
      }
     },
     "4ad1265fa2ae4b79a12f74096958c51d": {
      "model_module": "@jupyter-widgets/base",
      "model_module_version": "1.0.0",
      "model_name": "LayoutModel",
      "state": {
       "width": "100%"
      }
     },
     "4ad9bf06ebb4426289698010c03027b3": {
      "model_module": "@jupyter-widgets/controls",
      "model_module_version": "1.1.0",
      "model_name": "ButtonModel",
      "state": {
       "description": "Play",
       "icon": "play",
       "layout": "IPY_MODEL_b5d30bfc544f4e21abf6067c78ac01b3",
       "style": "IPY_MODEL_43f394c6a2ad4bf0b9fbf9175ea78e06"
      }
     },
     "4c00b4c3bd4b4d45a96a457fe997edb7": {
      "model_module": "@jupyter-widgets/controls",
      "model_module_version": "1.1.0",
      "model_name": "FloatTextModel",
      "state": {
       "description": "Feature scale:",
       "layout": "IPY_MODEL_d5c9f952fc564f67bc1934dfcc04c473",
       "step": null,
       "style": "IPY_MODEL_3c84f6a507144a1c835ed24e396937a9",
       "value": 1
      }
     },
     "4c0da66559f744b6b2f861ac79035bdf": {
      "model_module": "@jupyter-widgets/base",
      "model_module_version": "1.0.0",
      "model_name": "LayoutModel",
      "state": {
       "width": "100px"
      }
     },
     "4db597817d3f47feabca0e5ab0296d34": {
      "model_module": "@jupyter-widgets/controls",
      "model_module_version": "1.1.0",
      "model_name": "DescriptionStyleModel",
      "state": {
       "description_width": "initial"
      }
     },
     "51042740d16244609f1a1a15aaec7525": {
      "model_module": "@jupyter-widgets/base",
      "model_module_version": "1.0.0",
      "model_name": "LayoutModel",
      "state": {
       "width": "100%"
      }
     },
     "51aea7828cfe478d90c0a12fa0e3b31f": {
      "model_module": "@jupyter-widgets/base",
      "model_module_version": "1.0.0",
      "model_name": "LayoutModel",
      "state": {}
     },
     "51b7488dde8a40688f0c2833f53ad953": {
      "model_module": "@jupyter-widgets/controls",
      "model_module_version": "1.1.0",
      "model_name": "DescriptionStyleModel",
      "state": {
       "description_width": ""
      }
     },
     "52776690e6c54a97b977b893cbabdf5e": {
      "model_module": "@jupyter-widgets/base",
      "model_module_version": "1.0.0",
      "model_name": "LayoutModel",
      "state": {
       "height": "40px"
      }
     },
     "55c8cb31619d4f7fa8391bc4c00cd7e1": {
      "model_module": "@jupyter-widgets/base",
      "model_module_version": "1.0.0",
      "model_name": "LayoutModel",
      "state": {
       "width": "65%"
      }
     },
     "5677346d995948e98ad97687d86ebf58": {
      "model_module": "@jupyter-widgets/controls",
      "model_module_version": "1.1.0",
      "model_name": "ButtonModel",
      "state": {
       "icon": "forward",
       "layout": "IPY_MODEL_03cd37356f214651b93c6b7c869dd101",
       "style": "IPY_MODEL_e8fdfa5de0474624a8d769bb6f89d369"
      }
     },
     "56a648368fa647d58638201140a8d885": {
      "model_module": "@jupyter-widgets/controls",
      "model_module_version": "1.1.0",
      "model_name": "ButtonModel",
      "state": {
       "icon": "fast-forward",
       "layout": "IPY_MODEL_8d1bfb9847e64249adf68f4fe066b80d",
       "style": "IPY_MODEL_9a244a45124a45e18abd1634ba733f5c"
      }
     },
     "58701a8185a44a14afcac4c652550a02": {
      "model_module": "@jupyter-widgets/output",
      "model_module_version": "1.0.0",
      "model_name": "OutputModel",
      "state": {
       "layout": "IPY_MODEL_cdf4f238df6b49f3ad87f039df8a8832"
      }
     },
     "5979c10f33634092b32a11256b86f67b": {
      "model_module": "@jupyter-widgets/controls",
      "model_module_version": "1.1.0",
      "model_name": "HTMLModel",
      "state": {
       "layout": "IPY_MODEL_a03a01b8895d429697830676fc7ad324",
       "style": "IPY_MODEL_927c162909e64411a422f4a25dd84c7b",
       "value": "<img src=\"data:image/gif;base64,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\"/>"
      }
     },
     "5bc734fa070d4d448844f0bb222937bf": {
      "model_module": "@jupyter-widgets/controls",
      "model_module_version": "1.1.0",
      "model_name": "DescriptionStyleModel",
      "state": {
       "description_width": ""
      }
     },
     "5cb5952b175b4cdfb343b779f88b246b": {
      "model_module": "@jupyter-widgets/base",
      "model_module_version": "1.0.0",
      "model_name": "LayoutModel",
      "state": {
       "width": "100%"
      }
     },
     "5ccff4a835f74fc7b553752119753d26": {
      "model_module": "@jupyter-widgets/controls",
      "model_module_version": "1.1.0",
      "model_name": "HBoxModel",
      "state": {
       "children": [
        "IPY_MODEL_3be9c6fce0d841edba122d70e2f9fa5a",
        "IPY_MODEL_b1d628fe562f402aa3e8ebaab62c7919",
        "IPY_MODEL_8c857e707d28429ca843a5b5f942d595",
        "IPY_MODEL_5677346d995948e98ad97687d86ebf58",
        "IPY_MODEL_56a648368fa647d58638201140a8d885",
        "IPY_MODEL_bde8d2417edc49ac8eaec45f6068e2ce",
        "IPY_MODEL_a91aa49a50d148c7a1a1cfab4cd6ea8d"
       ],
       "layout": "IPY_MODEL_484bd43f859749ff83945c432d33034b"
      }
     },
     "5d16f69b9f0741b780a2c22174e3a778": {
      "model_module": "@jupyter-widgets/controls",
      "model_module_version": "1.1.0",
      "model_name": "VBoxModel",
      "state": {
       "children": [
        "IPY_MODEL_d477c45688d44174bc5697b39de04457",
        "IPY_MODEL_2ffdfc3afeca4558b1b8b9104cbe9d38",
        "IPY_MODEL_8c0d90bc01814b7cbd7dbf8f20768772",
        "IPY_MODEL_64c00adfe76741daaf1628c5ec260169",
        "IPY_MODEL_6ad3c99ba6204c00bb939127c5a48603",
        "IPY_MODEL_d9986869ebea41aab0d5eb85092240e5",
        "IPY_MODEL_f59ab84f1a2a47408b0ebf60d411638b",
        "IPY_MODEL_a3d4a7c0fd704c419c49025ac7e617bf"
       ],
       "layout": "IPY_MODEL_2ebba2a15081417c90ba10766775572c"
      }
     },
     "60e6c22cd1e64b5596e03bea1a75e7b7": {
      "model_module": "@jupyter-widgets/controls",
      "model_module_version": "1.1.0",
      "model_name": "ButtonStyleModel",
      "state": {}
     },
     "64c00adfe76741daaf1628c5ec260169": {
      "model_module": "@jupyter-widgets/controls",
      "model_module_version": "1.1.0",
      "model_name": "HTMLModel",
      "state": {
       "layout": "IPY_MODEL_40fdc28fc0ef4724a833b638be8c0db2",
       "style": "IPY_MODEL_51b7488dde8a40688f0c2833f53ad953",
       "value": "<img src=\"data:image/gif;base64,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\"/>"
      }
     },
     "6723a4d57e594e408049d94a541915f1": {
      "model_module": "@jupyter-widgets/base",
      "model_module_version": "1.0.0",
      "model_name": "LayoutModel",
      "state": {}
     },
     "67fe536b940d4d9890e7ca6f97e8ba22": {
      "model_module": "@jupyter-widgets/controls",
      "model_module_version": "1.1.0",
      "model_name": "AccordionModel",
      "state": {
       "_titles": {
        "0": "MNIST_CNN"
       },
       "children": [
        "IPY_MODEL_026fd2840ece476faca44d34e53535ff"
       ],
       "layout": "IPY_MODEL_76a5d4c6f0da4a6185854d0fceaea135",
       "selected_index": null
      }
     },
     "6998a8afc9924948b7846dcd5547d3e5": {
      "model_module": "@jupyter-widgets/controls",
      "model_module_version": "1.1.0",
      "model_name": "HTMLModel",
      "state": {
       "layout": "IPY_MODEL_2fa2fe2f77ab48378954dbf58c8336f1",
       "style": "IPY_MODEL_03551d6e5e5f4b1cbc0b8846f26ff325",
       "value": "<p style=\"text-align:center\"><svg id='MNIST_MLP' xmlns='http://www.w3.org/2000/svg' image-rendering=\"pixelated\" width=\"480.0px\" height=\"266.66666666666663px\">\n <g  transform=\"rotate(90) translate(0 -480.0)\" >\n  <svg viewBox=\"0 0 350 630\" width=\"266.66666666666663px\" height=\"480.0px\">\n    <defs>\n        <marker id=\"arrow\" markerWidth=\"10\" markerHeight=\"10\" refX=\"9\" refY=\"3\" orient=\"auto\" markerUnits=\"strokeWidth\">\n          <path d=\"M0,0 L0,6 L9,3 z\" fill=\"black\" />\n        </marker>\n    </defs><rect x=\"74.0\" y=\"24\" width=\"202\" height=\"52\" style=\"fill:none;stroke:black;stroke-width:2\"/><image id=\"picture-dashboard-MNIST_MLP-109538_output_targets_1\" class=\"picture-dashboard-MNIST_MLP-109538_output_targets\" x=\"75.0\" y=\"25\" height=\"50\" width=\"200\" preserveAspectRatio=\"none\" href=\"data:image/gif;base64,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\"><title>Layer: output (output)\n output range: (-1.0, 1.0)\n shape = (10,)\n Keras class = Dense\n activation = softmax</title></image><text x=\"288.0\" y=\"52.0\" font-family=\"monospace\" font-size=\"12\" text-anchor=\"middle\" fill=\"black\" alignment-baseline=\"central\"  transform=\"rotate(-90 288.0 52.0) translate(2)\" >targets</text><line x1=\"87.5\" y1=\"80\" x2=\"262.5\" y2=\"80\" stroke=\"green\" stroke-width=\"2\"><title></title></line><rect x=\"74.0\" y=\"84\" width=\"202\" height=\"52\" style=\"fill:none;stroke:black;stroke-width:2\"/><image id=\"picture-dashboard-MNIST_MLP-109538_output-rotated_1\" class=\"picture-dashboard-MNIST_MLP-109538_output-rotated\" x=\"75.0\" y=\"85\" height=\"50\" width=\"200\" preserveAspectRatio=\"none\" href=\"data:image/gif;base64,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\"><title>Layer: output (output)\n output range: (-1.0, 1.0)\n shape = (10,)\n Keras class = Dense\n activation = softmax</title></image><text x=\"288.0\" y=\"112.0\" font-family=\"monospace\" font-size=\"12\" text-anchor=\"middle\" fill=\"black\" alignment-baseline=\"central\"  transform=\"rotate(-90 288.0 112.0) translate(2)\" >output</text><line x1=\"175.0\" y1=\"164\" x2=\"175.0\" y2=\"137\" stroke=\"black\" stroke-width=\"2\" marker-end=\"url(#arrow)\"><title>Weights from hidden2 to output\n output/kernel has shape (30, 10)\n output/bias has shape (10,)</title></line><rect x=\"74.0\" y=\"164\" width=\"202\" height=\"52\" style=\"fill:none;stroke:black;stroke-width:2\"/><image id=\"picture-dashboard-MNIST_MLP-109538_hidden2-rotated_2\" class=\"picture-dashboard-MNIST_MLP-109538_hidden2-rotated\" x=\"75.0\" y=\"165\" height=\"50\" width=\"200\" preserveAspectRatio=\"none\" href=\"data:image/gif;base64,R0lGODdhHgABAIcAAP37/XV1/wEB8gAAzklJ/5SU/xgY/2Vl/wAAvAAAAAAAAAAAAAAAAAAAAAAAAAAAAAAAAAAAAAAAAAAAAAAAAAAAAAAAAAAAAAAAAAAAAAAAAAAAAAAAAAAAAAAAAAAAAAAAAAAAAAAAAAAAAAAAAAAAAAAAAAAAAAAAAAAAAAAAAAAAAAAAAAAAAAAAAAAAAAAAAAAAAAAAAAAAAAAAAAAAAAAAAAAAAAAAAAAAAAAAAAAAAAAAAAAAAAAAAAAAAAAAAAAAAAAAAAAAAAAAAAAAAAAAAAAAAAAAAAAAAAAAAAAAAAAAAAAAAAAAAAAAAAAAAAAAAAAAAAAAAAAAAAAAAAAAAAAAAAAAAAAAAAAAAAAAAAAAAAAAAAAAAAAAAAAAAAAAAAAAAAAAAAAAAAAAAAAAAAAAAAAAAAAAAAAAAAAAAAAAAAAAAAAAAAAAAAAAAAAAAAAAAAAAAAAAAAAAAAAAAAAAAAAAAAAAAAAAAAAAAAAAAAAAAAAAAAAAAAAAAAAAAAAAAAAAAAAAAAAAAAAAAAAAAAAAAAAAAAAAAAAAAAAAAAAAAAAAAAAAAAAAAAAAAAAAAAAAAAAAAAAAAAAAAAAAAAAAAAAAAAAAAAAAAAAAAAAAAAAAAAAAAAAAAAAAAAAAAAAAAAAAAAAAAAAAAAAAAAAAAAAAAAAAAAAAAAAAAAAAAAAAAAAAAAAAAAAAAAAAAAAAAAAAAAAAAAAAAAAAAAAAAAAAAAAAAAAAAAAAAAAAAAAAAAAAAAAAAAAAAAAAAAAAAAAAAAAAAAAAAAAAAAAAAAAAAAAAAAAAAAAAAAAAAAAAAAAAAAAAAAAAAAAAAAAAAAAAAAAAAAAAAAAAAAAAAAAAAAAAAAAAAAAAAAAAAAAAAAAAAAAAAAAAAAAAAAAAAAAAAAAAAAAAAAAAAAAAAAAAAAAAAAAAAAAAAAAAAAAAAAAAAAAAAAAAAAAAAAAAAAAAAAAAAAAAAAAAAAAAAAAAAAAAAAAAAAAAAAAAAAAAAAAAACwAAAAAHgABAAAIIAABIAgAoGBBAQACDDBQQAAAAQQOAJhIYACAiwEAAAgIADs=\"><title>Layer: hidden2 (hidden)\n output range: (-1.0, 1.0)\n shape = (30,)\n dropout = 0.2\n Keras class = Dense\n activation = relu</title></image><text x=\"288.0\" y=\"192.0\" font-family=\"monospace\" font-size=\"12\" text-anchor=\"middle\" fill=\"black\" alignment-baseline=\"central\"  transform=\"rotate(-90 288.0 192.0) translate(2)\" >hidden2</text><text x=\"62.0\" y=\"170\" font-family=\"monospace\" font-size=\"24.0\" text-anchor=\"middle\" fill=\"black\" alignment-baseline=\"central\"  transform=\"rotate(-90 62.0 170) translate(2)\" >&#10683;</text><line x1=\"175.0\" y1=\"244\" x2=\"175.0\" y2=\"217\" stroke=\"black\" stroke-width=\"2\" marker-end=\"url(#arrow)\"><title>Weights from hidden1 to hidden2\n hidden2/kernel has shape (30, 30)\n hidden2/bias has shape (30,)</title></line><rect x=\"74.0\" y=\"244\" width=\"202\" height=\"52\" style=\"fill:none;stroke:black;stroke-width:2\"/><image id=\"picture-dashboard-MNIST_MLP-109538_hidden1-rotated_3\" class=\"picture-dashboard-MNIST_MLP-109538_hidden1-rotated\" x=\"75.0\" y=\"245\" height=\"50\" width=\"200\" preserveAspectRatio=\"none\" href=\"data:image/gif;base64,R0lGODdhHgABAIcAAP78/Wdn/wAA0gAATImJ/3V1/yAg/52d/01N/wAAsdHR/xgY/wAAaD09/wAA/wAAAAAAAAAAAAAAAAAAAAAAAAAAAAAAAAAAAAAAAAAAAAAAAAAAAAAAAAAAAAAAAAAAAAAAAAAAAAAAAAAAAAAAAAAAAAAAAAAAAAAAAAAAAAAAAAAAAAAAAAAAAAAAAAAAAAAAAAAAAAAAAAAAAAAAAAAAAAAAAAAAAAAAAAAAAAAAAAAAAAAAAAAAAAAAAAAAAAAAAAAAAAAAAAAAAAAAAAAAAAAAAAAAAAAAAAAAAAAAAAAAAAAAAAAAAAAAAAAAAAAAAAAAAAAAAAAAAAAAAAAAAAAAAAAAAAAAAAAAAAAAAAAAAAAAAAAAAAAAAAAAAAAAAAAAAAAAAAAAAAAAAAAAAAAAAAAAAAAAAAAAAAAAAAAAAAAAAAAAAAAAAAAAAAAAAAAAAAAAAAAAAAAAAAAAAAAAAAAAAAAAAAAAAAAAAAAAAAAAAAAAAAAAAAAAAAAAAAAAAAAAAAAAAAAAAAAAAAAAAAAAAAAAAAAAAAAAAAAAAAAAAAAAAAAAAAAAAAAAAAAAAAAAAAAAAAAAAAAAAAAAAAAAAAAAAAAAAAAAAAAAAAAAAAAAAAAAAAAAAAAAAAAAAAAAAAAAAAAAAAAAAAAAAAAAAAAAAAAAAAAAAAAAAAAAAAAAAAAAAAAAAAAAAAAAAAAAAAAAAAAAAAAAAAAAAAAAAAAAAAAAAAAAAAAAAAAAAAAAAAAAAAAAAAAAAAAAAAAAAAAAAAAAAAAAAAAAAAAAAAAAAAAAAAAAAAAAAAAAAAAAAAAAAAAAAAAAAAAAAAAAAAAAAAAAAAAAAAAAAAAAAAAAAAAAAAAAAAAAAAAAAAAAAAAAAAAAAAAAAAAAAAAAAAAAAAAAAAAAAAAAAAAAAAAAAAAAAAAAAAAAAAAAAAAAAAAAAAAAAAAAAAAAAAAAAAAAAAAAAAAAAAAAAAAAAAAAAAAAAAAAAAAAAAAAAAAAAAAAAAAAACwAAAAAHgABAAAIIwATLHCgIACAAgAEAACAAMABAQAAGBhAAIBFAAMCMADQAEBAADs=\"><title>Layer: hidden1 (hidden)\n output range: (-1.0, 1.0)\n shape = (30,)\n dropout = 0.2\n Keras class = Dense\n activation = relu</title></image><text x=\"288.0\" y=\"272.0\" font-family=\"monospace\" font-size=\"12\" text-anchor=\"middle\" fill=\"black\" alignment-baseline=\"central\"  transform=\"rotate(-90 288.0 272.0) translate(2)\" >hidden1</text><text x=\"62.0\" y=\"250\" font-family=\"monospace\" font-size=\"24.0\" text-anchor=\"middle\" fill=\"black\" alignment-baseline=\"central\"  transform=\"rotate(-90 62.0 250) translate(2)\" >&#10683;</text><line x1=\"175.0\" y1=\"324\" x2=\"175.0\" y2=\"297\" stroke=\"black\" stroke-width=\"2\" marker-end=\"url(#arrow)\"><title>Weights from flat_input to hidden1\n hidden1/kernel has shape (784, 30)\n hidden1/bias has shape (30,)</title></line><rect x=\"74.0\" y=\"324\" width=\"202\" height=\"52\" style=\"fill:none;stroke:black;stroke-width:2\"/><image id=\"picture-dashboard-MNIST_MLP-109538_flat_input-rotated_4\" class=\"picture-dashboard-MNIST_MLP-109538_flat_input-rotated\" x=\"75.0\" y=\"325\" height=\"50\" width=\"200\" preserveAspectRatio=\"none\" href=\"data:image/gif;base64,R0lGODdhEAMBAIcAAAAAAPv7+xUVFVVVVampqbm5uSgoKMfHx4aGhpiYmEREROTk5NjY2Hl5eTU1NWtrawAAAAAAAAAAAAAAAAAAAAAAAAAAAAAAAAAAAAAAAAAAAAAAAAAAAAAAAAAAAAAAAAAAAAAAAAAAAAAAAAAAAAAAAAAAAAAAAAAAAAAAAAAAAAAAAAAAAAAAAAAAAAAAAAAAAAAAAAAAAAAAAAAAAAAAAAAAAAAAAAAAAAAAAAAAAAAAAAAAAAAAAAAAAAAAAAAAAAAAAAAAAAAAAAAAAAAAAAAAAAAAAAAAAAAAAAAAAAAAAAAAAAAAAAAAAAAAAAAAAAAAAAAAAAAAAAAAAAAAAAAAAAAAAAAAAAAAAAAAAAAAAAAAAAAAAAAAAAAAAAAAAAAAAAAAAAAAAAAAAAAAAAAAAAAAAAAAAAAAAAAAAAAAAAAAAAAAAAAAAAAAAAAAAAAAAAAAAAAAAAAAAAAAAAAAAAAAAAAAAAAAAAAAAAAAAAAAAAAAAAAAAAAAAAAAAAAAAAAAAAAAAAAAAAAAAAAAAAAAAAAAAAAAAAAAAAAAAAAAAAAAAAAAAAAAAAAAAAAAAAAAAAAAAAAAAAAAAAAAAAAAAAAAAAAAAAAAAAAAAAAAAAAAAAAAAAAAAAAAAAAAAAAAAAAAAAAAAAAAAAAAAAAAAAAAAAAAAAAAAAAAAAAAAAAAAAAAAAAAAAAAAAAAAAAAAAAAAAAAAAAAAAAAAAAAAAAAAAAAAAAAAAAAAAAAAAAAAAAAAAAAAAAAAAAAAAAAAAAAAAAAAAAAAAAAAAAAAAAAAAAAAAAAAAAAAAAAAAAAAAAAAAAAAAAAAAAAAAAAAAAAAAAAAAAAAAAAAAAAAAAAAAAAAAAAAAAAAAAAAAAAAAAAAAAAAAAAAAAAAAAAAAAAAAAAAAAAAAAAAAAAAAAAAAAAAAAAAAAAAAAAAAAAAAAAAAAAAAAAAAAAAAAAAAAAAAAAAAAAAAAAAAAAAAAAAAAAAAAAAAAAAAAAAAAAAAAAAAAAACwAAAAAEAMBAAAI/wABCBxIsKDBgwgTKlzIsKHDhxAjCpjYAAEBAQQCBGgAoKPHjx0FGBiQgECAkycXEAgQ4IACADBjygTgYEGAmzhxDtjpwACAn0CD/hTAIIBRowcKBAgAoKnTp1CdDkjwIECAAwAAGEgAoKvXr2DDJggwAIDZs2jTqkWLIEABAHDjyp1Ld26BAAoA6N3Lt69fvgYCLCDwAIDhw4gTKz48IIDjBgIASJ5MubJlyQYKBAiQQACAz6BDix79WcCAAAEKAFjNurXr160DyFYAoLbt27hzG0BQIECAAwCCCx9OnLiBBAsCKA9QAIDz59CjPxfQgEGA6wEOKADAvbv379wFKEdgEKB8gAMDAKhfz769egEEGASYH+DAAAD48+vfj98BAYALAgwciADAQYQJFSZEEMAhAwQIBACgWNHiRYwZNW7k2NHjx40BAQA7\"><title>Layer: flat_input (hidden)\n output range: (0.0, 1.0)\n Keras class = Flatten</title></image><text x=\"288.0\" y=\"352.0\" font-family=\"monospace\" font-size=\"12\" text-anchor=\"middle\" fill=\"black\" alignment-baseline=\"central\"  transform=\"rotate(-90 288.0 352.0) translate(2)\" >flat_input</text><line x1=\"175.0\" y1=\"404\" x2=\"175.0\" y2=\"377\" stroke=\"black\" stroke-width=\"2\" marker-end=\"url(#arrow)\"><title>Weights from input to flat_input</title></line><rect x=\"74.0\" y=\"404\" width=\"202\" height=\"202\" style=\"fill:none;stroke:black;stroke-width:2\"/><image id=\"picture-dashboard-MNIST_MLP-109538_input-rotated_5\" class=\"picture-dashboard-MNIST_MLP-109538_input-rotated\" x=\"75.0\" y=\"405\" height=\"200\" width=\"200\" preserveAspectRatio=\"none\" href=\"data:image/gif;base64,R0lGODdhHAAcAIcAAAAAAPv7+xUVFVVVVampqbm5uSgoKMfHx4aGhpiYmEREROTk5NjY2Hl5eTU1NWtrawAAAAAAAAAAAAAAAAAAAAAAAAAAAAAAAAAAAAAAAAAAAAAAAAAAAAAAAAAAAAAAAAAAAAAAAAAAAAAAAAAAAAAAAAAAAAAAAAAAAAAAAAAAAAAAAAAAAAAAAAAAAAAAAAAAAAAAAAAAAAAAAAAAAAAAAAAAAAAAAAAAAAAAAAAAAAAAAAAAAAAAAAAAAAAAAAAAAAAAAAAAAAAAAAAAAAAAAAAAAAAAAAAAAAAAAAAAAAAAAAAAAAAAAAAAAAAAAAAAAAAAAAAAAAAAAAAAAAAAAAAAAAAAAAAAAAAAAAAAAAAAAAAAAAAAAAAAAAAAAAAAAAAAAAAAAAAAAAAAAAAAAAAAAAAAAAAAAAAAAAAAAAAAAAAAAAAAAAAAAAAAAAAAAAAAAAAAAAAAAAAAAAAAAAAAAAAAAAAAAAAAAAAAAAAAAAAAAAAAAAAAAAAAAAAAAAAAAAAAAAAAAAAAAAAAAAAAAAAAAAAAAAAAAAAAAAAAAAAAAAAAAAAAAAAAAAAAAAAAAAAAAAAAAAAAAAAAAAAAAAAAAAAAAAAAAAAAAAAAAAAAAAAAAAAAAAAAAAAAAAAAAAAAAAAAAAAAAAAAAAAAAAAAAAAAAAAAAAAAAAAAAAAAAAAAAAAAAAAAAAAAAAAAAAAAAAAAAAAAAAAAAAAAAAAAAAAAAAAAAAAAAAAAAAAAAAAAAAAAAAAAAAAAAAAAAAAAAAAAAAAAAAAAAAAAAAAAAAAAAAAAAAAAAAAAAAAAAAAAAAAAAAAAAAAAAAAAAAAAAAAAAAAAAAAAAAAAAAAAAAAAAAAAAAAAAAAAAAAAAAAAAAAAAAAAAAAAAAAAAAAAAAAAAAAAAAAAAAAAAAAAAAAAAAAAAAAAAAAAAAAAAAAAAAAAAAAAAAAAAAAAAAAAAAAAAAAAAAAAAAAAAAAAAAAAAAAAAAAAAAAAAAAAAAAAAAAAAAAAACwAAAAAHAAcAEAI/wABCBxIsKDBgwUFEBgAoKFDAAIKBDhQAIDFixgxJgjAMQECACBDgmwQoKQAAChTqlzJsqXLBgoAyJxJs6bNmgICBCgAoCcAAgEKCACAIECAAwCSKl2q1IEAAFCjSo1KIEAAAFizat3KtavXAAEcABhLtqzZs2URBFibAIBbAA0CyJV7AIDdu3jtCgjA98CAAgECDABAGECCAAEOAFjMuDEAAwECJABAubJlAAoCBEAAoLPnz6BDgyYQAIDp06hTq17NurXr17BjAwhwwACA27hz696dm0CAAQCCCxeuAIDx48iTE1gwAIDz5wISBJgeQAGA69izX28QoLsBAOAfBIEIMABAgQABBgBYz749AAEBAhwAQF/BggAGAAAwsCBAAIADAAwkWBAAgQAJExYwAMChQwMMAgRAAMDiRYwDAgR4AMDjR5ACGAQIgADASZQoBSxgMADAS5gxAQhgEIABAJw5de7kqVPAggAAhA4lWtRoUQcIACxl2tTpU6hRpU5tGhAAOw==\"><title>Layer: input (input)\n output range: (0.0, 1.0)\n shape = (28, 28, 1)\n Keras class = Input</title></image><text x=\"288.0\" y=\"507.0\" font-family=\"monospace\" font-size=\"12\" text-anchor=\"middle\" fill=\"black\" alignment-baseline=\"central\"  transform=\"rotate(-90 288.0 507.0) translate(2)\" >input</text><text x=\"88.0\" y=\"390\" font-family=\"monospace\" font-size=\"12\" text-anchor=\"middle\" fill=\"black\" alignment-baseline=\"central\"  transform=\"rotate(-90 88.0 390) translate(2)\" >1</text><text x=\"273.0\" y=\"620\" font-family=\"monospace\" font-size=\"12\" text-anchor=\"middle\" fill=\"black\" alignment-baseline=\"central\"  transform=\"rotate(-90 273.0 620) translate(2)\" >0</text><text x=\"18\" y=\"315.0\" font-family=\"monospace\" font-size=\"15\" text-anchor=\"middle\" fill=\"black\" alignment-baseline=\"central\"  transform=\"rotate(-90 18 315.0) translate(2)\" >MNIST_MLP</text></svg></g></svg></p>"
      }
     },
     "6ad3c99ba6204c00bb939127c5a48603": {
      "model_module": "@jupyter-widgets/controls",
      "model_module_version": "1.1.0",
      "model_name": "FloatTextModel",
      "state": {
       "description": "Leftmost color maps to:",
       "layout": "IPY_MODEL_7d8840f628114df4b47ec00bc372106c",
       "step": null,
       "style": "IPY_MODEL_e2bc83e9ccf348bd989cefdbc5dc63f1",
       "value": -1
      }
     },
     "6b383141c5bb4427a9088497bf68f900": {
      "model_module": "@jupyter-widgets/controls",
      "model_module_version": "1.1.0",
      "model_name": "DescriptionStyleModel",
      "state": {
       "description_width": "initial"
      }
     },
     "6b99c9ced3a942e8ba17f22f00be6e19": {
      "model_module": "@jupyter-widgets/base",
      "model_module_version": "1.0.0",
      "model_name": "LayoutModel",
      "state": {}
     },
     "7012173f58d24d67b70a4f35f159194e": {
      "model_module": "@jupyter-widgets/controls",
      "model_module_version": "1.1.0",
      "model_name": "SelectModel",
      "state": {
       "_options_labels": [
        "input",
        "conv2D_1",
        "maxpool1",
        "conv2D_2",
        "maxpool2",
        "flat",
        "hidden",
        "output"
       ],
       "description": "Layer:",
       "index": 7,
       "layout": "IPY_MODEL_51aea7828cfe478d90c0a12fa0e3b31f",
       "rows": 1,
       "style": "IPY_MODEL_22562922aedf45a28ebd806f41f1f1fd"
      }
     },
     "72d3eb1f000c492c8b9b9fbabae405ad": {
      "model_module": "@jupyter-widgets/output",
      "model_module_version": "1.0.0",
      "model_name": "OutputModel",
      "state": {
       "layout": "IPY_MODEL_e016a0c6b8154337adbf1ee2390f40f7"
      }
     },
     "7374b665076248ee9be8cce3e5bcb024": {
      "model_module": "@jupyter-widgets/base",
      "model_module_version": "1.0.0",
      "model_name": "LayoutModel",
      "state": {
       "width": "100%"
      }
     },
     "7501bf6a9f6c420a912190a663e1a694": {
      "model_module": "@jupyter-widgets/controls",
      "model_module_version": "1.1.0",
      "model_name": "DescriptionStyleModel",
      "state": {
       "description_width": "initial"
      }
     },
     "76a5d4c6f0da4a6185854d0fceaea135": {
      "model_module": "@jupyter-widgets/base",
      "model_module_version": "1.0.0",
      "model_name": "LayoutModel",
      "state": {}
     },
     "792d3d97607b492e9ea948a7de5b9960": {
      "model_module": "@jupyter-widgets/base",
      "model_module_version": "1.0.0",
      "model_name": "LayoutModel",
      "state": {}
     },
     "7a2bc1d5a96845a8906865e47f6ded13": {
      "model_module": "@jupyter-widgets/base",
      "model_module_version": "1.0.0",
      "model_name": "LayoutModel",
      "state": {}
     },
     "7a892d11107b49e7b02fadd2d7df0c38": {
      "model_module": "@jupyter-widgets/controls",
      "model_module_version": "1.1.0",
      "model_name": "VBoxModel",
      "state": {
       "children": [
        "IPY_MODEL_e7411d89ab3248da8ee4a5b1d806c113",
        "IPY_MODEL_5ccff4a835f74fc7b553752119753d26"
       ],
       "layout": "IPY_MODEL_2818939f0241499fa035dd80d43f73ae"
      }
     },
     "7d8840f628114df4b47ec00bc372106c": {
      "model_module": "@jupyter-widgets/base",
      "model_module_version": "1.0.0",
      "model_name": "LayoutModel",
      "state": {}
     },
     "7dfb7b7bcfd34f6a8c37dc875745f811": {
      "model_module": "@jupyter-widgets/controls",
      "model_module_version": "1.1.0",
      "model_name": "ButtonStyleModel",
      "state": {}
     },
     "805a4fb6584e4804857e298f8ad384c9": {
      "model_module": "@jupyter-widgets/controls",
      "model_module_version": "1.1.0",
      "model_name": "DescriptionStyleModel",
      "state": {
       "description_width": "initial"
      }
     },
     "817543e3594b4e57ba078faff9c9e5a9": {
      "model_module": "@jupyter-widgets/controls",
      "model_module_version": "1.1.0",
      "model_name": "ButtonStyleModel",
      "state": {}
     },
     "82b32b69964f42879311f7f27565a7ff": {
      "model_module": "@jupyter-widgets/base",
      "model_module_version": "1.0.0",
      "model_name": "LayoutModel",
      "state": {
       "width": "52%"
      }
     },
     "8647b3febb3c469e8b8df97bf2450a1a": {
      "model_module": "@jupyter-widgets/base",
      "model_module_version": "1.0.0",
      "model_name": "LayoutModel",
      "state": {}
     },
     "868f4445fff04674ad12c2d08be8b43d": {
      "model_module": "@jupyter-widgets/base",
      "model_module_version": "1.0.0",
      "model_name": "LayoutModel",
      "state": {
       "width": "100%"
      }
     },
     "869be0a646544da7984ba4311c812678": {
      "model_module": "@jupyter-widgets/controls",
      "model_module_version": "1.1.0",
      "model_name": "ButtonModel",
      "state": {
       "icon": "save",
       "layout": "IPY_MODEL_0e8276ccf74f4842bcb74e5d39316991",
       "style": "IPY_MODEL_817543e3594b4e57ba078faff9c9e5a9"
      }
     },
     "86c88227233c4d78a7011d763b7094d3": {
      "model_module": "@jupyter-widgets/controls",
      "model_module_version": "1.1.0",
      "model_name": "CheckboxModel",
      "state": {
       "description": "Rotate network",
       "disabled": false,
       "layout": "IPY_MODEL_82b32b69964f42879311f7f27565a7ff",
       "style": "IPY_MODEL_805a4fb6584e4804857e298f8ad384c9",
       "value": true
      }
     },
     "89c1063fb1294dc19327ab1952669189": {
      "model_module": "@jupyter-widgets/controls",
      "model_module_version": "1.1.0",
      "model_name": "DescriptionStyleModel",
      "state": {
       "description_width": ""
      }
     },
     "8a60b60f66584356b289ac045bbe2592": {
      "model_module": "@jupyter-widgets/base",
      "model_module_version": "1.0.0",
      "model_name": "LayoutModel",
      "state": {}
     },
     "8c0d90bc01814b7cbd7dbf8f20768772": {
      "model_module": "@jupyter-widgets/controls",
      "model_module_version": "1.1.0",
      "model_name": "SelectModel",
      "state": {
       "_options_labels": [
        "",
        "Accent",
        "Accent_r",
        "Blues",
        "Blues_r",
        "BrBG",
        "BrBG_r",
        "BuGn",
        "BuGn_r",
        "BuPu",
        "BuPu_r",
        "CMRmap",
        "CMRmap_r",
        "Dark2",
        "Dark2_r",
        "GnBu",
        "GnBu_r",
        "Greens",
        "Greens_r",
        "Greys",
        "Greys_r",
        "OrRd",
        "OrRd_r",
        "Oranges",
        "Oranges_r",
        "PRGn",
        "PRGn_r",
        "Paired",
        "Paired_r",
        "Pastel1",
        "Pastel1_r",
        "Pastel2",
        "Pastel2_r",
        "PiYG",
        "PiYG_r",
        "PuBu",
        "PuBuGn",
        "PuBuGn_r",
        "PuBu_r",
        "PuOr",
        "PuOr_r",
        "PuRd",
        "PuRd_r",
        "Purples",
        "Purples_r",
        "RdBu",
        "RdBu_r",
        "RdGy",
        "RdGy_r",
        "RdPu",
        "RdPu_r",
        "RdYlBu",
        "RdYlBu_r",
        "RdYlGn",
        "RdYlGn_r",
        "Reds",
        "Reds_r",
        "Set1",
        "Set1_r",
        "Set2",
        "Set2_r",
        "Set3",
        "Set3_r",
        "Spectral",
        "Spectral_r",
        "Vega10",
        "Vega10_r",
        "Vega20",
        "Vega20_r",
        "Vega20b",
        "Vega20b_r",
        "Vega20c",
        "Vega20c_r",
        "Wistia",
        "Wistia_r",
        "YlGn",
        "YlGnBu",
        "YlGnBu_r",
        "YlGn_r",
        "YlOrBr",
        "YlOrBr_r",
        "YlOrRd",
        "YlOrRd_r",
        "afmhot",
        "afmhot_r",
        "autumn",
        "autumn_r",
        "binary",
        "binary_r",
        "bone",
        "bone_r",
        "brg",
        "brg_r",
        "bwr",
        "bwr_r",
        "cool",
        "cool_r",
        "coolwarm",
        "coolwarm_r",
        "copper",
        "copper_r",
        "cubehelix",
        "cubehelix_r",
        "flag",
        "flag_r",
        "gist_earth",
        "gist_earth_r",
        "gist_gray",
        "gist_gray_r",
        "gist_heat",
        "gist_heat_r",
        "gist_ncar",
        "gist_ncar_r",
        "gist_rainbow",
        "gist_rainbow_r",
        "gist_stern",
        "gist_stern_r",
        "gist_yarg",
        "gist_yarg_r",
        "gnuplot",
        "gnuplot2",
        "gnuplot2_r",
        "gnuplot_r",
        "gray",
        "gray_r",
        "hot",
        "hot_r",
        "hsv",
        "hsv_r",
        "inferno",
        "inferno_r",
        "jet",
        "jet_r",
        "magma",
        "magma_r",
        "nipy_spectral",
        "nipy_spectral_r",
        "ocean",
        "ocean_r",
        "pink",
        "pink_r",
        "plasma",
        "plasma_r",
        "prism",
        "prism_r",
        "rainbow",
        "rainbow_r",
        "seismic",
        "seismic_r",
        "spectral",
        "spectral_r",
        "spring",
        "spring_r",
        "summer",
        "summer_r",
        "tab10",
        "tab10_r",
        "tab20",
        "tab20_r",
        "tab20b",
        "tab20b_r",
        "tab20c",
        "tab20c_r",
        "terrain",
        "terrain_r",
        "viridis",
        "viridis_r",
        "winter",
        "winter_r"
       ],
       "description": "Colormap:",
       "index": 0,
       "layout": "IPY_MODEL_c503b25cfd614c20a3366724f025ee6c",
       "rows": 1,
       "style": "IPY_MODEL_89c1063fb1294dc19327ab1952669189"
      }
     },
     "8c857e707d28429ca843a5b5f942d595": {
      "model_module": "@jupyter-widgets/controls",
      "model_module_version": "1.1.0",
      "model_name": "IntTextModel",
      "state": {
       "layout": "IPY_MODEL_be779acf92a64acdbb1fa47569a1ed5f",
       "step": 1,
       "style": "IPY_MODEL_d3299089a8a6414582808dc0d3c12c18"
      }
     },
     "8d1bfb9847e64249adf68f4fe066b80d": {
      "model_module": "@jupyter-widgets/base",
      "model_module_version": "1.0.0",
      "model_name": "LayoutModel",
      "state": {
       "width": "100%"
      }
     },
     "926a49d0d2e5428b86452236413deace": {
      "model_module": "@jupyter-widgets/controls",
      "model_module_version": "1.1.0",
      "model_name": "DescriptionStyleModel",
      "state": {
       "description_width": ""
      }
     },
     "927c162909e64411a422f4a25dd84c7b": {
      "model_module": "@jupyter-widgets/controls",
      "model_module_version": "1.1.0",
      "model_name": "DescriptionStyleModel",
      "state": {
       "description_width": ""
      }
     },
     "92a48f86c38842c39ad31a139afd31a1": {
      "model_module": "@jupyter-widgets/controls",
      "model_module_version": "1.1.0",
      "model_name": "ButtonModel",
      "state": {
       "icon": "backward",
       "layout": "IPY_MODEL_5cb5952b175b4cdfb343b779f88b246b",
       "style": "IPY_MODEL_7dfb7b7bcfd34f6a8c37dc875745f811"
      }
     },
     "92d36d31316c4e0cb35e3c8b2a824fb2": {
      "model_module": "@jupyter-widgets/controls",
      "model_module_version": "1.1.0",
      "model_name": "DescriptionStyleModel",
      "state": {
       "description_width": ""
      }
     },
     "94979b0ab04549548745e1b53451d672": {
      "model_module": "@jupyter-widgets/controls",
      "model_module_version": "1.1.0",
      "model_name": "DescriptionStyleModel",
      "state": {
       "description_width": ""
      }
     },
     "952a58268e894378b1757d4622b27cf7": {
      "model_module": "@jupyter-widgets/controls",
      "model_module_version": "1.1.0",
      "model_name": "CheckboxModel",
      "state": {
       "description": "Show Targets",
       "disabled": false,
       "layout": "IPY_MODEL_c503b25cfd614c20a3366724f025ee6c",
       "style": "IPY_MODEL_6b383141c5bb4427a9088497bf68f900",
       "value": true
      }
     },
     "96307731b8fb46fbb8dd1cd4acb5a5d1": {
      "model_module": "@jupyter-widgets/controls",
      "model_module_version": "1.1.0",
      "model_name": "DescriptionStyleModel",
      "state": {
       "description_width": "initial"
      }
     },
     "9a244a45124a45e18abd1634ba733f5c": {
      "model_module": "@jupyter-widgets/controls",
      "model_module_version": "1.1.0",
      "model_name": "ButtonStyleModel",
      "state": {}
     },
     "9b3f4e7e2c0645448f4ef2356ff6531d": {
      "model_module": "@jupyter-widgets/controls",
      "model_module_version": "1.1.0",
      "model_name": "DescriptionStyleModel",
      "state": {
       "description_width": "initial"
      }
     },
     "9ed14e4ac9e84936bff1dd2110e57ba7": {
      "model_module": "@jupyter-widgets/controls",
      "model_module_version": "1.1.0",
      "model_name": "DescriptionStyleModel",
      "state": {
       "description_width": "initial"
      }
     },
     "a03a01b8895d429697830676fc7ad324": {
      "model_module": "@jupyter-widgets/base",
      "model_module_version": "1.0.0",
      "model_name": "LayoutModel",
      "state": {}
     },
     "a213480ff29541cda21eb23551a068ea": {
      "model_module": "@jupyter-widgets/base",
      "model_module_version": "1.0.0",
      "model_name": "LayoutModel",
      "state": {}
     },
     "a394534a3e484a5c8424f26017591253": {
      "model_module": "@jupyter-widgets/base",
      "model_module_version": "1.0.0",
      "model_name": "LayoutModel",
      "state": {}
     },
     "a3d4a7c0fd704c419c49025ac7e617bf": {
      "model_module": "@jupyter-widgets/controls",
      "model_module_version": "1.1.0",
      "model_name": "HBoxModel",
      "state": {
       "children": [
        "IPY_MODEL_86c88227233c4d78a7011d763b7094d3",
        "IPY_MODEL_e6529cb6d820474d9a02313a852f492b"
       ],
       "layout": "IPY_MODEL_45764738fa034eceb3dcc9ef177c7722"
      }
     },
     "a4c4ce520b824522862598323d2e5ca1": {
      "model_module": "@jupyter-widgets/base",
      "model_module_version": "1.0.0",
      "model_name": "LayoutModel",
      "state": {
       "width": "100%"
      }
     },
     "a602d88814c94eaa94ec2cccd9c0a818": {
      "model_module": "@jupyter-widgets/base",
      "model_module_version": "1.0.0",
      "model_name": "LayoutModel",
      "state": {}
     },
     "a61358a43f6e49e1a75e34ebe01822f8": {
      "model_module": "@jupyter-widgets/base",
      "model_module_version": "1.0.0",
      "model_name": "LayoutModel",
      "state": {
       "width": "25%"
      }
     },
     "a67d42aeb3514801bd6f0516801d9de1": {
      "model_module": "@jupyter-widgets/controls",
      "model_module_version": "1.1.0",
      "model_name": "DescriptionStyleModel",
      "state": {
       "description_width": ""
      }
     },
     "a7774022e75e4792bcee6b225956e76f": {
      "model_module": "@jupyter-widgets/base",
      "model_module_version": "1.0.0",
      "model_name": "LayoutModel",
      "state": {
       "width": "52%"
      }
     },
     "a7bef3a7c65243de9e566e9c278b797d": {
      "model_module": "@jupyter-widgets/controls",
      "model_module_version": "1.1.0",
      "model_name": "DescriptionStyleModel",
      "state": {
       "description_width": ""
      }
     },
     "a91aa49a50d148c7a1a1cfab4cd6ea8d": {
      "model_module": "@jupyter-widgets/controls",
      "model_module_version": "1.1.0",
      "model_name": "ButtonModel",
      "state": {
       "icon": "refresh",
       "layout": "IPY_MODEL_e3987cc565674ae383132104ac5b6ab6",
       "style": "IPY_MODEL_088964a519d042d6a95071bd21de99dc"
      }
     },
     "ac25cfa95bb54c78909864a761860895": {
      "model_module": "@jupyter-widgets/base",
      "model_module_version": "1.0.0",
      "model_name": "LayoutModel",
      "state": {}
     },
     "adf28c12abde41fe82af530fa4e2f051": {
      "model_module": "@jupyter-widgets/base",
      "model_module_version": "1.0.0",
      "model_name": "LayoutModel",
      "state": {}
     },
     "b112aaf2e9d64820acfa913d69c3fc02": {
      "model_module": "@jupyter-widgets/base",
      "model_module_version": "1.0.0",
      "model_name": "LayoutModel",
      "state": {}
     },
     "b1b4c290184f4c7e82f1fd90590d7eac": {
      "model_module": "@jupyter-widgets/controls",
      "model_module_version": "1.1.0",
      "model_name": "ButtonStyleModel",
      "state": {}
     },
     "b1d628fe562f402aa3e8ebaab62c7919": {
      "model_module": "@jupyter-widgets/controls",
      "model_module_version": "1.1.0",
      "model_name": "ButtonModel",
      "state": {
       "icon": "backward",
       "layout": "IPY_MODEL_35f0b86d21574646a1c66bb91e5c1085",
       "style": "IPY_MODEL_bd4809603b154cf08036d095341bd760"
      }
     },
     "b34a34d06f6e4a798ca99b000c7a08ed": {
      "model_module": "@jupyter-widgets/controls",
      "model_module_version": "1.1.0",
      "model_name": "IntTextModel",
      "state": {
       "description": "Vertical space between layers:",
       "layout": "IPY_MODEL_6b99c9ced3a942e8ba17f22f00be6e19",
       "step": 1,
       "style": "IPY_MODEL_251727b7ea7c4b9fa5addcc34a70e034",
       "value": 30
      }
     },
     "b5d30bfc544f4e21abf6067c78ac01b3": {
      "model_module": "@jupyter-widgets/base",
      "model_module_version": "1.0.0",
      "model_name": "LayoutModel",
      "state": {
       "width": "100%"
      }
     },
     "b776a28f787643728ca0fad929a13a11": {
      "model_module": "@jupyter-widgets/controls",
      "model_module_version": "1.1.0",
      "model_name": "IntTextModel",
      "state": {
       "description": "Feature columns:",
       "layout": "IPY_MODEL_792d3d97607b492e9ea948a7de5b9960",
       "step": 1,
       "style": "IPY_MODEL_96307731b8fb46fbb8dd1cd4acb5a5d1",
       "value": 8
      }
     },
     "b95a85b9b45a4ca68150fd821084cd3e": {
      "model_module": "@jupyter-widgets/base",
      "model_module_version": "1.0.0",
      "model_name": "LayoutModel",
      "state": {
       "justify_content": "center",
       "overflow_x": "auto",
       "overflow_y": "auto",
       "width": "95%"
      }
     },
     "b95c4624d53242a0aac1fd55f412a5aa": {
      "model_module": "@jupyter-widgets/base",
      "model_module_version": "1.0.0",
      "model_name": "LayoutModel",
      "state": {}
     },
     "ba23c9401d9e41708459cbcbf4f22dc5": {
      "model_module": "@jupyter-widgets/controls",
      "model_module_version": "1.1.0",
      "model_name": "DescriptionStyleModel",
      "state": {
       "description_width": ""
      }
     },
     "bb5ac1f0b6894373a601da578642c1f4": {
      "model_module": "@jupyter-widgets/base",
      "model_module_version": "1.0.0",
      "model_name": "LayoutModel",
      "state": {
       "width": "100%"
      }
     },
     "bc74040d5ff542978abdc429a69fbe7a": {
      "model_module": "@jupyter-widgets/controls",
      "model_module_version": "1.1.0",
      "model_name": "CheckboxModel",
      "state": {
       "description": "Rotate",
       "disabled": false,
       "layout": "IPY_MODEL_c503b25cfd614c20a3366724f025ee6c",
       "style": "IPY_MODEL_a67d42aeb3514801bd6f0516801d9de1",
       "value": true
      }
     },
     "bd4809603b154cf08036d095341bd760": {
      "model_module": "@jupyter-widgets/controls",
      "model_module_version": "1.1.0",
      "model_name": "ButtonStyleModel",
      "state": {}
     },
     "bde8d2417edc49ac8eaec45f6068e2ce": {
      "model_module": "@jupyter-widgets/controls",
      "model_module_version": "1.1.0",
      "model_name": "ButtonModel",
      "state": {
       "description": "Play",
       "icon": "play",
       "layout": "IPY_MODEL_fcd0415a9d7340899fa04e070eb6979e",
       "style": "IPY_MODEL_db09afeae2cc4f78b335715ff86a8f56"
      }
     },
     "be779acf92a64acdbb1fa47569a1ed5f": {
      "model_module": "@jupyter-widgets/base",
      "model_module_version": "1.0.0",
      "model_name": "LayoutModel",
      "state": {
       "width": "100%"
      }
     },
     "bf5867e6a9b94eb59524b0a8e8da37e2": {
      "model_module": "@jupyter-widgets/controls",
      "model_module_version": "1.1.0",
      "model_name": "IntTextModel",
      "state": {
       "description": "Vertical space between layers:",
       "layout": "IPY_MODEL_c503b25cfd614c20a3366724f025ee6c",
       "step": 1,
       "style": "IPY_MODEL_d7f0915a85904486ac0f7a7fc197377e",
       "value": 30
      }
     },
     "c11111aff02c46948dd31f16c0ebfbbc": {
      "model_module": "@jupyter-widgets/base",
      "model_module_version": "1.0.0",
      "model_name": "LayoutModel",
      "state": {
       "width": "100%"
      }
     },
     "c2d7ecd114384aeca93f1b006ac04b57": {
      "model_module": "@jupyter-widgets/controls",
      "model_module_version": "1.1.0",
      "model_name": "FloatTextModel",
      "state": {
       "description": "Leftmost color maps to:",
       "layout": "IPY_MODEL_adf28c12abde41fe82af530fa4e2f051",
       "step": null,
       "style": "IPY_MODEL_3a301ef8babc474d82ca3877b1f25242",
       "value": -1
      }
     },
     "c3df112be6654171b1f005225253ed7e": {
      "model_module": "@jupyter-widgets/controls",
      "model_module_version": "1.1.0",
      "model_name": "VBoxModel",
      "state": {
       "children": [
        "IPY_MODEL_7012173f58d24d67b70a4f35f159194e",
        "IPY_MODEL_db46166018e94c8a963ac09a69b44801",
        "IPY_MODEL_f2b78e4e97594457b93ad97750a70238",
        "IPY_MODEL_5979c10f33634092b32a11256b86f67b",
        "IPY_MODEL_c2d7ecd114384aeca93f1b006ac04b57",
        "IPY_MODEL_ce1bf61069c1443da12f57c3ed2be6aa",
        "IPY_MODEL_f190cff37a6746f29ec18f9c41286d6b",
        "IPY_MODEL_20c7cd5ee5df4c98ac7015166c8a9fbe"
       ],
       "layout": "IPY_MODEL_ff435e4f02884d389e51fe04e54148cb"
      }
     },
     "c4c25a30ac6642f08fa24d3438b25908": {
      "model_module": "@jupyter-widgets/base",
      "model_module_version": "1.0.0",
      "model_name": "LayoutModel",
      "state": {}
     },
     "c503b25cfd614c20a3366724f025ee6c": {
      "model_module": "@jupyter-widgets/base",
      "model_module_version": "1.0.0",
      "model_name": "LayoutModel",
      "state": {}
     },
     "c9440791b6e941dda9a42c1c2af56f52": {
      "model_module": "@jupyter-widgets/controls",
      "model_module_version": "1.1.0",
      "model_name": "DescriptionStyleModel",
      "state": {
       "description_width": "initial"
      }
     },
     "ca17ed226b4c43c88a15ce61400f7ce8": {
      "model_module": "@jupyter-widgets/controls",
      "model_module_version": "1.1.0",
      "model_name": "DescriptionStyleModel",
      "state": {
       "description_width": ""
      }
     },
     "cbfaf30e28e14ac08d597dd8ee7d205f": {
      "model_module": "@jupyter-widgets/controls",
      "model_module_version": "1.1.0",
      "model_name": "AccordionModel",
      "state": {
       "_titles": {
        "0": "MNIST_MLP"
       },
       "children": [
        "IPY_MODEL_fea66950389d4116b2b4244721b2314a"
       ],
       "layout": "IPY_MODEL_b112aaf2e9d64820acfa913d69c3fc02",
       "selected_index": null
      }
     },
     "cc44abda8bc647b79df6e8d9183667e7": {
      "model_module": "@jupyter-widgets/controls",
      "model_module_version": "1.1.0",
      "model_name": "FloatTextModel",
      "state": {
       "description": "Feature scale:",
       "layout": "IPY_MODEL_7a2bc1d5a96845a8906865e47f6ded13",
       "step": null,
       "style": "IPY_MODEL_7501bf6a9f6c420a912190a663e1a694",
       "value": 4
      }
     },
     "ccd39a964c9f4a868bb489ef1dfcb499": {
      "model_module": "@jupyter-widgets/controls",
      "model_module_version": "1.1.0",
      "model_name": "LabelModel",
      "state": {
       "layout": "IPY_MODEL_eb9570bbec7f4972816d5864651dbd04",
       "style": "IPY_MODEL_5bc734fa070d4d448844f0bb222937bf",
       "value": "of 60000"
      }
     },
     "cdf4f238df6b49f3ad87f039df8a8832": {
      "model_module": "@jupyter-widgets/base",
      "model_module_version": "1.0.0",
      "model_name": "LayoutModel",
      "state": {}
     },
     "ce1bf61069c1443da12f57c3ed2be6aa": {
      "model_module": "@jupyter-widgets/controls",
      "model_module_version": "1.1.0",
      "model_name": "FloatTextModel",
      "state": {
       "description": "Rightmost color maps to:",
       "layout": "IPY_MODEL_a602d88814c94eaa94ec2cccd9c0a818",
       "step": null,
       "style": "IPY_MODEL_cf7702a4b1224d9197af9edce3e31350",
       "value": 1
      }
     },
     "cf7702a4b1224d9197af9edce3e31350": {
      "model_module": "@jupyter-widgets/controls",
      "model_module_version": "1.1.0",
      "model_name": "DescriptionStyleModel",
      "state": {
       "description_width": "initial"
      }
     },
     "d2415eee580749f0bfb7c24d58132d3e": {
      "model_module": "@jupyter-widgets/controls",
      "model_module_version": "1.1.0",
      "model_name": "VBoxModel",
      "state": {
       "children": [
        "IPY_MODEL_cbfaf30e28e14ac08d597dd8ee7d205f",
        "IPY_MODEL_7a892d11107b49e7b02fadd2d7df0c38",
        "IPY_MODEL_6998a8afc9924948b7846dcd5547d3e5",
        "IPY_MODEL_72d3eb1f000c492c8b9b9fbabae405ad"
       ],
       "layout": "IPY_MODEL_293f51a2a6e64e0b851b165ab500395d"
      }
     },
     "d3299089a8a6414582808dc0d3c12c18": {
      "model_module": "@jupyter-widgets/controls",
      "model_module_version": "1.1.0",
      "model_name": "DescriptionStyleModel",
      "state": {
       "description_width": ""
      }
     },
     "d3b0de7c4f1d4cdeaf9205ef73527450": {
      "model_module": "@jupyter-widgets/controls",
      "model_module_version": "1.1.0",
      "model_name": "DescriptionStyleModel",
      "state": {
       "description_width": ""
      }
     },
     "d477c45688d44174bc5697b39de04457": {
      "model_module": "@jupyter-widgets/controls",
      "model_module_version": "1.1.0",
      "model_name": "SelectModel",
      "state": {
       "_options_labels": [
        "input",
        "flat_input",
        "hidden1",
        "hidden2",
        "output"
       ],
       "description": "Layer:",
       "index": 4,
       "layout": "IPY_MODEL_ac25cfa95bb54c78909864a761860895",
       "rows": 1,
       "style": "IPY_MODEL_42f5f6d778a1437898913cf7363df5bb"
      }
     },
     "d55d020a05ab4206918f2373e3d328a2": {
      "model_module": "@jupyter-widgets/controls",
      "model_module_version": "1.1.0",
      "model_name": "DescriptionStyleModel",
      "state": {
       "description_width": "initial"
      }
     },
     "d5c2fd7aa03e457ea9915c57240f5631": {
      "model_module": "@jupyter-widgets/controls",
      "model_module_version": "1.1.0",
      "model_name": "VBoxModel",
      "state": {
       "children": [
        "IPY_MODEL_67fe536b940d4d9890e7ca6f97e8ba22",
        "IPY_MODEL_eafa7396a3974ac1b84f61c7dcebd474",
        "IPY_MODEL_14a0aaa57a234c468e193f68cfa75270",
        "IPY_MODEL_58701a8185a44a14afcac4c652550a02"
       ],
       "layout": "IPY_MODEL_e02fd4e9d64f4c2fb93892d95d5fc281"
      }
     },
     "d5c9f952fc564f67bc1934dfcc04c473": {
      "model_module": "@jupyter-widgets/base",
      "model_module_version": "1.0.0",
      "model_name": "LayoutModel",
      "state": {}
     },
     "d66c8857059f47ac869d0200a3ef0945": {
      "model_module": "@jupyter-widgets/controls",
      "model_module_version": "1.1.0",
      "model_name": "ButtonModel",
      "state": {
       "icon": "forward",
       "layout": "IPY_MODEL_bb5ac1f0b6894373a601da578642c1f4",
       "style": "IPY_MODEL_e1065c3c515b45eea8e816535d1d48ff"
      }
     },
     "d7f0915a85904486ac0f7a7fc197377e": {
      "model_module": "@jupyter-widgets/controls",
      "model_module_version": "1.1.0",
      "model_name": "DescriptionStyleModel",
      "state": {
       "description_width": "initial"
      }
     },
     "d9986869ebea41aab0d5eb85092240e5": {
      "model_module": "@jupyter-widgets/controls",
      "model_module_version": "1.1.0",
      "model_name": "FloatTextModel",
      "state": {
       "description": "Rightmost color maps to:",
       "layout": "IPY_MODEL_2d0ed393b7744c7ba93d8aed054066af",
       "step": null,
       "style": "IPY_MODEL_9b3f4e7e2c0645448f4ef2356ff6531d",
       "value": 1
      }
     },
     "db0757da6844451e9d79f6dd846e7dd2": {
      "model_module": "@jupyter-widgets/controls",
      "model_module_version": "1.1.0",
      "model_name": "SliderStyleModel",
      "state": {
       "description_width": "initial"
      }
     },
     "db09afeae2cc4f78b335715ff86a8f56": {
      "model_module": "@jupyter-widgets/controls",
      "model_module_version": "1.1.0",
      "model_name": "ButtonStyleModel",
      "state": {}
     },
     "db46166018e94c8a963ac09a69b44801": {
      "model_module": "@jupyter-widgets/controls",
      "model_module_version": "1.1.0",
      "model_name": "CheckboxModel",
      "state": {
       "description": "Visible",
       "disabled": false,
       "layout": "IPY_MODEL_6b99c9ced3a942e8ba17f22f00be6e19",
       "style": "IPY_MODEL_d3b0de7c4f1d4cdeaf9205ef73527450",
       "value": true
      }
     },
     "dc6060b0d163428ba1513ecd001d1957": {
      "model_module": "@jupyter-widgets/base",
      "model_module_version": "1.0.0",
      "model_name": "LayoutModel",
      "state": {
       "width": "100%"
      }
     },
     "de692e3e80134556a174f9719c0b8b24": {
      "model_module": "@jupyter-widgets/controls",
      "model_module_version": "1.1.0",
      "model_name": "IntTextModel",
      "state": {
       "description": "Feature columns:",
       "layout": "IPY_MODEL_eac32b20c016425e92db479317647001",
       "step": 1,
       "style": "IPY_MODEL_f632bc29f95c42f5b0caf225efe2a466",
       "value": 3
      }
     },
     "e016a0c6b8154337adbf1ee2390f40f7": {
      "model_module": "@jupyter-widgets/base",
      "model_module_version": "1.0.0",
      "model_name": "LayoutModel",
      "state": {}
     },
     "e02fd4e9d64f4c2fb93892d95d5fc281": {
      "model_module": "@jupyter-widgets/base",
      "model_module_version": "1.0.0",
      "model_name": "LayoutModel",
      "state": {}
     },
     "e1065c3c515b45eea8e816535d1d48ff": {
      "model_module": "@jupyter-widgets/controls",
      "model_module_version": "1.1.0",
      "model_name": "ButtonStyleModel",
      "state": {}
     },
     "e150fda1c40847c69c9dd61b00d885fc": {
      "model_module": "@jupyter-widgets/base",
      "model_module_version": "1.0.0",
      "model_name": "LayoutModel",
      "state": {
       "width": "100%"
      }
     },
     "e2bc83e9ccf348bd989cefdbc5dc63f1": {
      "model_module": "@jupyter-widgets/controls",
      "model_module_version": "1.1.0",
      "model_name": "DescriptionStyleModel",
      "state": {
       "description_width": "initial"
      }
     },
     "e3714db98d99403aa65dadeb35b5b205": {
      "model_module": "@jupyter-widgets/controls",
      "model_module_version": "1.1.0",
      "model_name": "ButtonModel",
      "state": {
       "icon": "fast-backward",
       "layout": "IPY_MODEL_868f4445fff04674ad12c2d08be8b43d",
       "style": "IPY_MODEL_1ff8010449f44d5585ac90c1202cf7de"
      }
     },
     "e3987cc565674ae383132104ac5b6ab6": {
      "model_module": "@jupyter-widgets/base",
      "model_module_version": "1.0.0",
      "model_name": "LayoutModel",
      "state": {
       "width": "25%"
      }
     },
     "e5acd85ef7ca4530a8d8f3e8cbba700b": {
      "model_module": "@jupyter-widgets/base",
      "model_module_version": "1.0.0",
      "model_name": "LayoutModel",
      "state": {
       "height": "40px"
      }
     },
     "e6529cb6d820474d9a02313a852f492b": {
      "model_module": "@jupyter-widgets/controls",
      "model_module_version": "1.1.0",
      "model_name": "ButtonModel",
      "state": {
       "icon": "save",
       "layout": "IPY_MODEL_47345c225e0b494b99f2418e24e524b5",
       "style": "IPY_MODEL_4176cda240b544b086b239aea97f0528"
      }
     },
     "e7411d89ab3248da8ee4a5b1d806c113": {
      "model_module": "@jupyter-widgets/controls",
      "model_module_version": "1.1.0",
      "model_name": "HBoxModel",
      "state": {
       "children": [
        "IPY_MODEL_472c1d142f9f4ba5b306289fa9bb7133",
        "IPY_MODEL_ccd39a964c9f4a868bb489ef1dfcb499"
       ],
       "layout": "IPY_MODEL_e5acd85ef7ca4530a8d8f3e8cbba700b"
      }
     },
     "e8fdfa5de0474624a8d769bb6f89d369": {
      "model_module": "@jupyter-widgets/controls",
      "model_module_version": "1.1.0",
      "model_name": "ButtonStyleModel",
      "state": {}
     },
     "ea0e9b696dde492db5d6fcfab282cb2f": {
      "model_module": "@jupyter-widgets/controls",
      "model_module_version": "1.1.0",
      "model_name": "DescriptionStyleModel",
      "state": {
       "description_width": "initial"
      }
     },
     "ea24a397deed47bb92c5ca581e961d97": {
      "model_module": "@jupyter-widgets/controls",
      "model_module_version": "1.1.0",
      "model_name": "LabelModel",
      "state": {
       "layout": "IPY_MODEL_4c0da66559f744b6b2f861ac79035bdf",
       "style": "IPY_MODEL_92d36d31316c4e0cb35e3c8b2a824fb2",
       "value": "of 10000"
      }
     },
     "ea4b8a4a8dbc4343937c0e4d2b789df7": {
      "model_module": "@jupyter-widgets/base",
      "model_module_version": "1.0.0",
      "model_name": "LayoutModel",
      "state": {}
     },
     "eab80d3eb6dc4dda9c22ac10a2d626fa": {
      "model_module": "@jupyter-widgets/controls",
      "model_module_version": "1.1.0",
      "model_name": "SelectModel",
      "state": {
       "_options_labels": [
        "",
        "input"
       ],
       "description": "Features:",
       "index": 0,
       "layout": "IPY_MODEL_ef13fc9eade34e4a88a6c3c66ce8cc04",
       "rows": 1,
       "style": "IPY_MODEL_926a49d0d2e5428b86452236413deace"
      }
     },
     "eac32b20c016425e92db479317647001": {
      "model_module": "@jupyter-widgets/base",
      "model_module_version": "1.0.0",
      "model_name": "LayoutModel",
      "state": {}
     },
     "eafa7396a3974ac1b84f61c7dcebd474": {
      "model_module": "@jupyter-widgets/controls",
      "model_module_version": "1.1.0",
      "model_name": "VBoxModel",
      "state": {
       "children": [
        "IPY_MODEL_f7fb5be89c6f42b49fd0cce3a30806ca",
        "IPY_MODEL_47b8aac9f17644a8859dafe89db06d67"
       ],
       "layout": "IPY_MODEL_7374b665076248ee9be8cce3e5bcb024"
      }
     },
     "eb04533a5f13472ab4081ec1a67a3e52": {
      "model_module": "@jupyter-widgets/controls",
      "model_module_version": "1.1.0",
      "model_name": "IntSliderModel",
      "state": {
       "continuous_update": false,
       "description": "Dataset index",
       "layout": "IPY_MODEL_e150fda1c40847c69c9dd61b00d885fc",
       "max": 59999,
       "style": "IPY_MODEL_3989d6d647274deb8f21dd75607a4d9b"
      }
     },
     "eb9570bbec7f4972816d5864651dbd04": {
      "model_module": "@jupyter-widgets/base",
      "model_module_version": "1.0.0",
      "model_name": "LayoutModel",
      "state": {
       "width": "100px"
      }
     },
     "edec9ada732f49ffa61424d09fe0843b": {
      "model_module": "@jupyter-widgets/controls",
      "model_module_version": "1.1.0",
      "model_name": "ButtonModel",
      "state": {
       "icon": "fast-forward",
       "layout": "IPY_MODEL_c11111aff02c46948dd31f16c0ebfbbc",
       "style": "IPY_MODEL_b1b4c290184f4c7e82f1fd90590d7eac"
      }
     },
     "ef13fc9eade34e4a88a6c3c66ce8cc04": {
      "model_module": "@jupyter-widgets/base",
      "model_module_version": "1.0.0",
      "model_name": "LayoutModel",
      "state": {}
     },
     "ef44857d1eeb4feb867683c4f0a1284f": {
      "model_module": "@jupyter-widgets/controls",
      "model_module_version": "1.1.0",
      "model_name": "SliderStyleModel",
      "state": {
       "description_width": ""
      }
     },
     "efe7e0113154481692c6e2680a852eb9": {
      "model_module": "@jupyter-widgets/controls",
      "model_module_version": "1.1.0",
      "model_name": "VBoxModel",
      "state": {
       "children": [
        "IPY_MODEL_214ae8931f1544e09cd75baf775eb9d7",
        "IPY_MODEL_2f95902e795d4427a199cbfe14e54c1c",
        "IPY_MODEL_129ef6e868a84c43915891336ef37b0b",
        "IPY_MODEL_b34a34d06f6e4a798ca99b000c7a08ed",
        "IPY_MODEL_08c5199ab0e54a2ca89d7825f66cf98f",
        "IPY_MODEL_212b6ce5f2314fe3a85344181ed03f1d",
        "IPY_MODEL_b776a28f787643728ca0fad929a13a11",
        "IPY_MODEL_cc44abda8bc647b79df6e8d9183667e7"
       ],
       "layout": "IPY_MODEL_51042740d16244609f1a1a15aaec7525"
      }
     },
     "f190cff37a6746f29ec18f9c41286d6b": {
      "model_module": "@jupyter-widgets/controls",
      "model_module_version": "1.1.0",
      "model_name": "IntTextModel",
      "state": {
       "description": "Feature to show:",
       "layout": "IPY_MODEL_a213480ff29541cda21eb23551a068ea",
       "step": 1,
       "style": "IPY_MODEL_f52e0b0945d3409cb8bb3ccff4b4414c"
      }
     },
     "f2b78e4e97594457b93ad97750a70238": {
      "model_module": "@jupyter-widgets/controls",
      "model_module_version": "1.1.0",
      "model_name": "SelectModel",
      "state": {
       "_options_labels": [
        "",
        "Accent",
        "Accent_r",
        "Blues",
        "Blues_r",
        "BrBG",
        "BrBG_r",
        "BuGn",
        "BuGn_r",
        "BuPu",
        "BuPu_r",
        "CMRmap",
        "CMRmap_r",
        "Dark2",
        "Dark2_r",
        "GnBu",
        "GnBu_r",
        "Greens",
        "Greens_r",
        "Greys",
        "Greys_r",
        "OrRd",
        "OrRd_r",
        "Oranges",
        "Oranges_r",
        "PRGn",
        "PRGn_r",
        "Paired",
        "Paired_r",
        "Pastel1",
        "Pastel1_r",
        "Pastel2",
        "Pastel2_r",
        "PiYG",
        "PiYG_r",
        "PuBu",
        "PuBuGn",
        "PuBuGn_r",
        "PuBu_r",
        "PuOr",
        "PuOr_r",
        "PuRd",
        "PuRd_r",
        "Purples",
        "Purples_r",
        "RdBu",
        "RdBu_r",
        "RdGy",
        "RdGy_r",
        "RdPu",
        "RdPu_r",
        "RdYlBu",
        "RdYlBu_r",
        "RdYlGn",
        "RdYlGn_r",
        "Reds",
        "Reds_r",
        "Set1",
        "Set1_r",
        "Set2",
        "Set2_r",
        "Set3",
        "Set3_r",
        "Spectral",
        "Spectral_r",
        "Vega10",
        "Vega10_r",
        "Vega20",
        "Vega20_r",
        "Vega20b",
        "Vega20b_r",
        "Vega20c",
        "Vega20c_r",
        "Wistia",
        "Wistia_r",
        "YlGn",
        "YlGnBu",
        "YlGnBu_r",
        "YlGn_r",
        "YlOrBr",
        "YlOrBr_r",
        "YlOrRd",
        "YlOrRd_r",
        "afmhot",
        "afmhot_r",
        "autumn",
        "autumn_r",
        "binary",
        "binary_r",
        "bone",
        "bone_r",
        "brg",
        "brg_r",
        "bwr",
        "bwr_r",
        "cool",
        "cool_r",
        "coolwarm",
        "coolwarm_r",
        "copper",
        "copper_r",
        "cubehelix",
        "cubehelix_r",
        "flag",
        "flag_r",
        "gist_earth",
        "gist_earth_r",
        "gist_gray",
        "gist_gray_r",
        "gist_heat",
        "gist_heat_r",
        "gist_ncar",
        "gist_ncar_r",
        "gist_rainbow",
        "gist_rainbow_r",
        "gist_stern",
        "gist_stern_r",
        "gist_yarg",
        "gist_yarg_r",
        "gnuplot",
        "gnuplot2",
        "gnuplot2_r",
        "gnuplot_r",
        "gray",
        "gray_r",
        "hot",
        "hot_r",
        "hsv",
        "hsv_r",
        "inferno",
        "inferno_r",
        "jet",
        "jet_r",
        "magma",
        "magma_r",
        "nipy_spectral",
        "nipy_spectral_r",
        "ocean",
        "ocean_r",
        "pink",
        "pink_r",
        "plasma",
        "plasma_r",
        "prism",
        "prism_r",
        "rainbow",
        "rainbow_r",
        "seismic",
        "seismic_r",
        "spectral",
        "spectral_r",
        "spring",
        "spring_r",
        "summer",
        "summer_r",
        "tab10",
        "tab10_r",
        "tab20",
        "tab20_r",
        "tab20b",
        "tab20b_r",
        "tab20c",
        "tab20c_r",
        "terrain",
        "terrain_r",
        "viridis",
        "viridis_r",
        "winter",
        "winter_r"
       ],
       "description": "Colormap:",
       "index": 0,
       "layout": "IPY_MODEL_6b99c9ced3a942e8ba17f22f00be6e19",
       "rows": 1,
       "style": "IPY_MODEL_94979b0ab04549548745e1b53451d672"
      }
     },
     "f52e0b0945d3409cb8bb3ccff4b4414c": {
      "model_module": "@jupyter-widgets/controls",
      "model_module_version": "1.1.0",
      "model_name": "DescriptionStyleModel",
      "state": {
       "description_width": "initial"
      }
     },
     "f59ab84f1a2a47408b0ebf60d411638b": {
      "model_module": "@jupyter-widgets/controls",
      "model_module_version": "1.1.0",
      "model_name": "IntTextModel",
      "state": {
       "description": "Feature to show:",
       "layout": "IPY_MODEL_8a60b60f66584356b289ac045bbe2592",
       "step": 1,
       "style": "IPY_MODEL_33260b51b91f4d668b8a1fc755fcb57e"
      }
     },
     "f632bc29f95c42f5b0caf225efe2a466": {
      "model_module": "@jupyter-widgets/controls",
      "model_module_version": "1.1.0",
      "model_name": "DescriptionStyleModel",
      "state": {
       "description_width": "initial"
      }
     },
     "f7fb5be89c6f42b49fd0cce3a30806ca": {
      "model_module": "@jupyter-widgets/controls",
      "model_module_version": "1.1.0",
      "model_name": "HBoxModel",
      "state": {
       "children": [
        "IPY_MODEL_eb04533a5f13472ab4081ec1a67a3e52",
        "IPY_MODEL_ea24a397deed47bb92c5ca581e961d97"
       ],
       "layout": "IPY_MODEL_52776690e6c54a97b977b893cbabdf5e"
      }
     },
     "f927cd45536c4a8489fae126dddbe7ba": {
      "model_module": "@jupyter-widgets/controls",
      "model_module_version": "1.1.0",
      "model_name": "DescriptionStyleModel",
      "state": {
       "description_width": ""
      }
     },
     "fcd0415a9d7340899fa04e070eb6979e": {
      "model_module": "@jupyter-widgets/base",
      "model_module_version": "1.0.0",
      "model_name": "LayoutModel",
      "state": {
       "width": "100%"
      }
     },
     "fd76fda7673f415a8c3960143969fd4f": {
      "model_module": "@jupyter-widgets/controls",
      "model_module_version": "1.1.0",
      "model_name": "SliderStyleModel",
      "state": {
       "description_width": "initial"
      }
     },
     "fea66950389d4116b2b4244721b2314a": {
      "model_module": "@jupyter-widgets/controls",
      "model_module_version": "1.1.0",
      "model_name": "HBoxModel",
      "state": {
       "children": [
        "IPY_MODEL_09b725d6f96e4b8b92df80d4976bba67",
        "IPY_MODEL_5d16f69b9f0741b780a2c22174e3a778"
       ],
       "layout": "IPY_MODEL_c4c25a30ac6642f08fa24d3438b25908"
      }
     },
     "ff435e4f02884d389e51fe04e54148cb": {
      "model_module": "@jupyter-widgets/base",
      "model_module_version": "1.0.0",
      "model_name": "LayoutModel",
      "state": {
       "width": "100%"
      }
     }
    },
    "version_major": 2,
    "version_minor": 0
   }
  }
 },
 "nbformat": 4,
 "nbformat_minor": 2
}
