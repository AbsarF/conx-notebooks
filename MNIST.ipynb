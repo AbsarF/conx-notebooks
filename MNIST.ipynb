{
 "cells": [
  {
   "cell_type": "markdown",
   "metadata": {},
   "source": [
    "# The MNIST Dataset\n",
    "\n",
    "In this notebook, we will create a neural network to recognize handwritten digits from the famous MNIST dataset.\n",
    "\n",
    "We will experiment with two different networks for this task. The first one will be a *multi-layer perceptron* (MLP), which is a standard type of feedforward neural network with fully-connected layers of weights, and the second will be a *convolutional neural network* (CNN), which takes advantage of the inherently two-dimensional spatial geometry of the input images.\n",
    "\n",
    "Let's begin by reading in the MNIST dataset and printing a short description of its contents."
   ]
  },
  {
   "cell_type": "code",
   "execution_count": 34,
   "metadata": {},
   "outputs": [
    {
     "data": {
      "text/markdown": [
       "**Dataset**: MNIST\n",
       "\n",
       "\n",
       "Original source: http://yann.lecun.com/exdb/mnist/\n",
       "\n",
       "The MNIST dataset contains 70,000 images of handwritten digits (zero\n",
       "to nine) that have been size-normalized and centered in a square grid\n",
       "of pixels.  Each image is a 28 × 28 × 1 array of floating-point numbers\n",
       "representing grayscale intensities ranging from 0 (black) to 1\n",
       "(white).  The target data consists of one-hot binary vectors of size\n",
       "10, corresponding to the digit classification categories zero through\n",
       "nine.  Some example MNIST images are shown below:\n",
       "\n",
       "![MNIST Images](https://github.com/Calysto/conx/raw/master/data/mnist_images.png)\n",
       "\n",
       "**Information**:\n",
       "   * name    : MNIST\n",
       "   * length  : 70000\n",
       "\n",
       "**Input Summary**:\n",
       "   * shape  : (28, 28, 1)\n",
       "   * range  : (0.0, 1.0)\n",
       "\n",
       "**Target Summary**:\n",
       "   * shape  : (10,)\n",
       "   * range  : (0.0, 1.0)\n",
       "\n"
      ],
      "text/plain": [
       "**Dataset**: MNIST\n",
       "\n",
       "\n",
       "Original source: http://yann.lecun.com/exdb/mnist/\n",
       "\n",
       "The MNIST dataset contains 70,000 images of handwritten digits (zero\n",
       "to nine) that have been size-normalized and centered in a square grid\n",
       "of pixels.  Each image is a 28 × 28 × 1 array of floating-point numbers\n",
       "representing grayscale intensities ranging from 0 (black) to 1\n",
       "(white).  The target data consists of one-hot binary vectors of size\n",
       "10, corresponding to the digit classification categories zero through\n",
       "nine.  Some example MNIST images are shown below:\n",
       "\n",
       "![MNIST Images](https://github.com/Calysto/conx/raw/master/data/mnist_images.png)\n",
       "\n",
       "**Information**:\n",
       "   * name    : MNIST\n",
       "   * length  : 70000\n",
       "\n",
       "**Input Summary**:\n",
       "   * shape  : (28, 28, 1)\n",
       "   * range  : (0.0, 1.0)\n",
       "\n",
       "**Target Summary**:\n",
       "   * shape  : (10,)\n",
       "   * range  : (0.0, 1.0)\n"
      ]
     },
     "metadata": {},
     "output_type": "display_data"
    }
   ],
   "source": [
    "import conx as cx\n",
    "mnist = cx.Dataset.get('MNIST')\n",
    "mnist.info()"
   ]
  },
  {
   "cell_type": "markdown",
   "metadata": {},
   "source": [
    "We will split the 70,000 digits into a training set of 60,000 images and a testing set of 10,000 images."
   ]
  },
  {
   "cell_type": "code",
   "execution_count": 2,
   "metadata": {},
   "outputs": [
    {
     "name": "stdout",
     "output_type": "stream",
     "text": [
      "_________________________________________________________________\n",
      "MNIST:\n",
      "Patterns    Shape                 Range                         \n",
      "=================================================================\n",
      "inputs      (28, 28, 1)           (0.0, 1.0)                    \n",
      "targets     (10,)                 (0.0, 1.0)                    \n",
      "=================================================================\n",
      "Total patterns: 70000\n",
      "   Training patterns: 60000\n",
      "   Testing patterns: 10000\n",
      "_________________________________________________________________\n"
     ]
    }
   ],
   "source": [
    "mnist.split(10000)\n",
    "mnist.summary()"
   ]
  },
  {
   "cell_type": "markdown",
   "metadata": {},
   "source": [
    "The training and testing images can be referenced independently, via the dataset properties `train_inputs` and `test_inputs`. The `inputs` property refers to all 70,000 input images."
   ]
  },
  {
   "cell_type": "code",
   "execution_count": 3,
   "metadata": {},
   "outputs": [
    {
     "name": "stdout",
     "output_type": "stream",
     "text": [
      "70000 total images\n",
      "60000 images for training\n",
      "10000 images for testing\n"
     ]
    }
   ],
   "source": [
    "print(len(mnist.inputs), 'total images')\n",
    "print(len(mnist.train_inputs), 'images for training')\n",
    "print(len(mnist.test_inputs), 'images for testing')"
   ]
  },
  {
   "cell_type": "markdown",
   "metadata": {},
   "source": [
    "Let's take a look at some individual input images."
   ]
  },
  {
   "cell_type": "code",
   "execution_count": 4,
   "metadata": {},
   "outputs": [
    {
     "data": {
      "image/png": "[encoded data removed]",
      "text/plain": [
       "<matplotlib.figure.Figure at 0x115c12f98>"
      ]
     },
     "metadata": {},
     "output_type": "display_data"
    }
   ],
   "source": [
    "cx.view(mnist.train_inputs[0])  # same as mnist.inputs[0]"
   ]
  },
  {
   "cell_type": "code",
   "execution_count": 5,
   "metadata": {},
   "outputs": [
    {
     "data": {
      "image/png": "[encoded data removed]",
      "text/plain": [
       "<matplotlib.figure.Figure at 0x115ab4e48>"
      ]
     },
     "metadata": {},
     "output_type": "display_data"
    }
   ],
   "source": [
    "cx.view(mnist.train_inputs[0:5])   # same as mnist.inputs[0:5]"
   ]
  },
  {
   "cell_type": "code",
   "execution_count": 6,
   "metadata": {},
   "outputs": [
    {
     "data": {
      "image/png": "[encoded data removed]",
      "text/plain": [
       "<matplotlib.figure.Figure at 0x115aa0908>"
      ]
     },
     "metadata": {},
     "output_type": "display_data"
    }
   ],
   "source": [
    "cx.view(mnist.train_inputs[0, 2, 4])"
   ]
  },
  {
   "cell_type": "code",
   "execution_count": 7,
   "metadata": {},
   "outputs": [
    {
     "data": {
      "image/png": "[encoded data removed]",
      "text/plain": [
       "<matplotlib.figure.Figure at 0x115bf6208>"
      ]
     },
     "metadata": {},
     "output_type": "display_data"
    }
   ],
   "source": [
    "selected = [42, 77, 150, 16, 15, 0]\n",
    "cx.view(mnist.train_inputs[selected])"
   ]
  },
  {
   "cell_type": "code",
   "execution_count": 8,
   "metadata": {},
   "outputs": [
    {
     "data": {
      "image/png": "[encoded data removed]",
      "text/plain": [
       "<matplotlib.figure.Figure at 0x1111e05f8>"
      ]
     },
     "metadata": {},
     "output_type": "display_data"
    }
   ],
   "source": [
    "cx.view(mnist.test_inputs[0])"
   ]
  },
  {
   "cell_type": "code",
   "execution_count": 9,
   "metadata": {},
   "outputs": [
    {
     "data": {
      "image/png": "[encoded data removed]",
      "text/plain": [
       "<matplotlib.figure.Figure at 0x1315caf60>"
      ]
     },
     "metadata": {},
     "output_type": "display_data"
    }
   ],
   "source": [
    "cx.view(mnist.test_inputs[0:5])"
   ]
  },
  {
   "cell_type": "markdown",
   "metadata": {},
   "source": [
    "The dataset properties `train_targets`, `train_labels`, `test_targets`, and `test_labels` refer to the target data."
   ]
  },
  {
   "cell_type": "code",
   "execution_count": 10,
   "metadata": {},
   "outputs": [
    {
     "data": {
      "text/plain": [
       "['7', '2', '1', '0', '4']"
      ]
     },
     "execution_count": 10,
     "metadata": {},
     "output_type": "execute_result"
    }
   ],
   "source": [
    "mnist.test_labels[0:5]"
   ]
  },
  {
   "cell_type": "code",
   "execution_count": 11,
   "metadata": {},
   "outputs": [
    {
     "data": {
      "text/plain": [
       "[[0.0, 0.0, 0.0, 0.0, 0.0, 0.0, 0.0, 1.0, 0.0, 0.0],\n",
       " [0.0, 0.0, 1.0, 0.0, 0.0, 0.0, 0.0, 0.0, 0.0, 0.0],\n",
       " [0.0, 1.0, 0.0, 0.0, 0.0, 0.0, 0.0, 0.0, 0.0, 0.0],\n",
       " [1.0, 0.0, 0.0, 0.0, 0.0, 0.0, 0.0, 0.0, 0.0, 0.0],\n",
       " [0.0, 0.0, 0.0, 0.0, 1.0, 0.0, 0.0, 0.0, 0.0, 0.0]]"
      ]
     },
     "execution_count": 11,
     "metadata": {},
     "output_type": "execute_result"
    }
   ],
   "source": [
    "mnist.test_targets[0:5]"
   ]
  },
  {
   "cell_type": "markdown",
   "metadata": {},
   "source": [
    "As another example, we could use `test_labels` to select digits of a particular category from the testing data, and then view the first twenty, as follows:"
   ]
  },
  {
   "cell_type": "code",
   "execution_count": 12,
   "metadata": {},
   "outputs": [
    {
     "data": {
      "image/png": "[encoded data removed]",
      "text/plain": [
       "<matplotlib.figure.Figure at 0x1317785c0>"
      ]
     },
     "metadata": {},
     "output_type": "display_data"
    }
   ],
   "source": [
    "selected = [i for i in range(len(mnist.test_inputs)) if mnist.test_labels[i] == '2']\n",
    "digits = mnist.test_inputs[selected]\n",
    "cx.view(digits[:20], layout=(2,10))"
   ]
  },
  {
   "cell_type": "markdown",
   "metadata": {},
   "source": [
    "We can accomplish the same thing more directly (and efficiently) using the `select` method, together with the `slice` keyword:"
   ]
  },
  {
   "cell_type": "code",
   "execution_count": 13,
   "metadata": {},
   "outputs": [
    {
     "data": {
      "image/png": "[encoded data removed]",
      "text/plain": [
       "<matplotlib.figure.Figure at 0x1315ca128>"
      ]
     },
     "metadata": {},
     "output_type": "display_data"
    }
   ],
   "source": [
    "digits = mnist.test_inputs.select(lambda i,ds: ds.test_labels[i] == '2', slice=20)\n",
    "cx.view(digits, layout=(2,10))"
   ]
  },
  {
   "cell_type": "markdown",
   "metadata": {},
   "source": [
    "The MNIST digits are grayscale images, with each pixel represented as a single intensity value in the range 0 (black) to 1 (white). You can think of the whole image as consisting of 784 numbers arranged in a plane of 28 rows and 28 columns. For color (RGB) images, however, each pixel consists of three numbers (one for Red intensity, one for Green, and one for Blue). Therefore color images are represented as arrays of shape *rows* &times; *columns* &times; 3, where the 3 indicates the *depth* of the image. For consistency, the grayscale MNIST images are treated as images of depth 1, with shape *rows* &times; *columns* &times; 1. We can verify this by calling `cx.shape` on input image #0:"
   ]
  },
  {
   "cell_type": "code",
   "execution_count": 14,
   "metadata": {},
   "outputs": [
    {
     "data": {
      "text/plain": [
       "(28, 28, 1)"
      ]
     },
     "execution_count": 14,
     "metadata": {},
     "output_type": "execute_result"
    }
   ],
   "source": [
    "cx.shape(mnist.inputs[0])"
   ]
  },
  {
   "cell_type": "markdown",
   "metadata": {},
   "source": [
    "## A Multi-Layer Perceptron for MNIST Classification\n",
    "\n",
    "Our first network will have an input layer, two fully-connected hidden layers, and an output layer containing 10 output units (one for each possible digit category). Since this is a classification task, the output layer will use the *Softmax* function to generate a probability distribution of output values, where each value is a number in the range 0-1 representing the probability that the input image corresponds to that output unit's digit category.\n",
    "\n",
    "The input layer's shape must match that of the input data, so we  declare its shape to be <tt>(28,28,1)</tt>. We then add two densely-connected hidden layers of 30 units each, both of which use the ReLU (rectified linear) activation function. However, we cannot connect the input layer directly to the first hidden layer, because the layer shapes do not match. Instead, we must first \"flatten\" the data before feeding it into the first hidden layer. Finally, we add an output layer of 10 units that uses the *Softmax* activation function. Here is the code that builds the network:"
   ]
  },
  {
   "cell_type": "code",
   "execution_count": 15,
   "metadata": {},
   "outputs": [],
   "source": [
    "net = cx.Network(\"MNIST_MLP\")\n",
    "\n",
    "net.add(cx.Layer(\"input\", (28,28,1)),\n",
    "        cx.FlattenLayer(\"flat_input\"),\n",
    "        cx.Layer(\"hidden1\", 30, activation='relu', dropout=0.20),\n",
    "        cx.Layer(\"hidden2\", 30, activation='relu', dropout=0.20),\n",
    "        cx.Layer(\"output\", 10, activation='softmax'))\n",
    "\n",
    "# creates connections between layers in the order they were added\n",
    "net.connect()"
   ]
  },
  {
   "cell_type": "markdown",
   "metadata": {},
   "source": [
    "Notice that each hidden layer in the network includes a `dropout` setting of 20%. Dropout is a technique that helps to improve a network's ability to generalize what it has learned, by making it less sensitive to noise and to irrelevant correlations that may exist in the training data. During training, a randomly chosen subset of units in a dropout layer (here, 20% of the units) will be turned off (set to zero activation) on each training cycle, with different random subsets being chosen on each cycle. Dropout only occurs during training; after the network has learned, all units participate in the classification of input data. \n",
    "\n",
    "Finally, we need to tell the network which dataset to use."
   ]
  },
  {
   "cell_type": "code",
   "execution_count": 16,
   "metadata": {},
   "outputs": [],
   "source": [
    "net.set_dataset(mnist)"
   ]
  },
  {
   "cell_type": "markdown",
   "metadata": {},
   "source": [
    "We are now ready to compile the network. To do so, we must specify the error (or \"loss\") function that measures the network's performance, and the specific learning algorithm for optimizing the network's weights during training. For a classification task using *Softmax*, in which the output of the network is a probability distribution across several possible classification categories, the appropriate error function is usually the *categorical crossentropy* function. The choice of optimizer is typically some variant of stochastic gradient descent. Here we will use RMSprop. After compiling the network, it is ready to be trained. The `summary()` method prints out a brief summary of each layer, including the total number of trainable parameters (weights and biases) in the network."
   ]
  },
  {
   "cell_type": "code",
   "execution_count": 17,
   "metadata": {},
   "outputs": [
    {
     "name": "stdout",
     "output_type": "stream",
     "text": [
      "_________________________________________________________________\n",
      "Layer (type)                 Output Shape              Param #   \n",
      "=================================================================\n",
      "input (InputLayer)           (None, 28, 28, 1)         0         \n",
      "_________________________________________________________________\n",
      "flat_input (Flatten)         (None, 784)               0         \n",
      "_________________________________________________________________\n",
      "hidden1 (Dense)              (None, 30)                23550     \n",
      "_________________________________________________________________\n",
      "dropout_1 (Dropout)          (None, 30)                0         \n",
      "_________________________________________________________________\n",
      "hidden2 (Dense)              (None, 30)                930       \n",
      "_________________________________________________________________\n",
      "dropout_2 (Dropout)          (None, 30)                0         \n",
      "_________________________________________________________________\n",
      "output (Dense)               (None, 10)                310       \n",
      "=================================================================\n",
      "Total params: 24,790\n",
      "Trainable params: 24,790\n",
      "Non-trainable params: 0\n",
      "_________________________________________________________________\n"
     ]
    }
   ],
   "source": [
    "net.compile(error='categorical_crossentropy', optimizer='rmsprop')\n",
    "net.summary()"
   ]
  },
  {
   "cell_type": "markdown",
   "metadata": {},
   "source": [
    "Let's take a look at the network before we train it. The `dashboard` provides an easy-to-use graphical interface, showing the network's response to each input image in the dataset. (The small <font size=\"5\">&#10683;</font> symbols indicate layers with dropout.)"
   ]
  },
  {
   "cell_type": "code",
   "execution_count": 18,
   "metadata": {},
   "outputs": [
    {
     "data": {
      "application/vnd.jupyter.widget-view+json": {
       "model_id": "ab6d16560967491fa03f185190f89477",
       "version_major": 2,
       "version_minor": 0
      },
      "text/html": [
       "<p>Failed to display Jupyter Widget of type <code>Dashboard</code>.</p>\n",
       "<p>\n",
       "  If you're reading this message in the Jupyter Notebook or JupyterLab Notebook, it may mean\n",
       "  that the widgets JavaScript is still loading. If this message persists, it\n",
       "  likely means that the widgets JavaScript library is either not installed or\n",
       "  not enabled. See the <a href=\"https://ipywidgets.readthedocs.io/en/stable/user_install.html\">Jupyter\n",
       "  Widgets Documentation</a> for setup instructions.\n",
       "</p>\n",
       "<p>\n",
       "  If you're reading this message in another frontend (for example, a static\n",
       "  rendering on GitHub or <a href=\"https://nbviewer.jupyter.org/\">NBViewer</a>),\n",
       "  it may mean that your frontend doesn't currently support widgets.\n",
       "</p>\n"
      ],
      "text/plain": [
       "Dashboard(children=(Accordion(children=(HBox(children=(VBox(children=(Select(description='Dataset:', index=1, options=('Test', 'Train'), rows=1, value='Train'), FloatSlider(value=0.6, continuous_update=False, description='Zoom', layout=Layout(width='65%'), max=1.0, style=SliderStyle(description_width='initial')), IntText(value=150, description='Horizontal space between banks:', style=DescriptionStyle(description_width='initial')), IntText(value=30, description='Vertical space between layers:', style=DescriptionStyle(description_width='initial')), HBox(children=(Checkbox(value=True, description='Show Targets', style=DescriptionStyle(description_width='initial')), Checkbox(value=False, description='Errors', style=DescriptionStyle(description_width='initial')))), Select(description='Features:', options=('', 'input'), rows=1, value=''), IntText(value=3, description='Feature columns:', style=DescriptionStyle(description_width='initial')), FloatText(value=1.0, description='Feature scale:', style=DescriptionStyle(description_width='initial'))), layout=Layout(width='100%')), VBox(children=(Select(description='Layer:', index=4, options=('input', 'flat_input', 'hidden1', 'hidden2', 'output'), rows=1, value='output'), Checkbox(value=True, description='Visible'), Select(description='Colormap:', options=('', 'Accent', 'Accent_r', 'Blues', 'Blues_r', 'BrBG', 'BrBG_r', 'BuGn', 'BuGn_r', 'BuPu', 'BuPu_r', 'CMRmap', 'CMRmap_r', 'Dark2', 'Dark2_r', 'GnBu', 'GnBu_r', 'Greens', 'Greens_r', 'Greys', 'Greys_r', 'OrRd', 'OrRd_r', 'Oranges', 'Oranges_r', 'PRGn', 'PRGn_r', 'Paired', 'Paired_r', 'Pastel1', 'Pastel1_r', 'Pastel2', 'Pastel2_r', 'PiYG', 'PiYG_r', 'PuBu', 'PuBuGn', 'PuBuGn_r', 'PuBu_r', 'PuOr', 'PuOr_r', 'PuRd', 'PuRd_r', 'Purples', 'Purples_r', 'RdBu', 'RdBu_r', 'RdGy', 'RdGy_r', 'RdPu', 'RdPu_r', 'RdYlBu', 'RdYlBu_r', 'RdYlGn', 'RdYlGn_r', 'Reds', 'Reds_r', 'Set1', 'Set1_r', 'Set2', 'Set2_r', 'Set3', 'Set3_r', 'Spectral', 'Spectral_r', 'Vega10', 'Vega10_r', 'Vega20', 'Vega20_r', 'Vega20b', 'Vega20b_r', 'Vega20c', 'Vega20c_r', 'Wistia', 'Wistia_r', 'YlGn', 'YlGnBu', 'YlGnBu_r', 'YlGn_r', 'YlOrBr', 'YlOrBr_r', 'YlOrRd', 'YlOrRd_r', 'afmhot', 'afmhot_r', 'autumn', 'autumn_r', 'binary', 'binary_r', 'bone', 'bone_r', 'brg', 'brg_r', 'bwr', 'bwr_r', 'cool', 'cool_r', 'coolwarm', 'coolwarm_r', 'copper', 'copper_r', 'cubehelix', 'cubehelix_r', 'flag', 'flag_r', 'gist_earth', 'gist_earth_r', 'gist_gray', 'gist_gray_r', 'gist_heat', 'gist_heat_r', 'gist_ncar', 'gist_ncar_r', 'gist_rainbow', 'gist_rainbow_r', 'gist_stern', 'gist_stern_r', 'gist_yarg', 'gist_yarg_r', 'gnuplot', 'gnuplot2', 'gnuplot2_r', 'gnuplot_r', 'gray', 'gray_r', 'hot', 'hot_r', 'hsv', 'hsv_r', 'inferno', 'inferno_r', 'jet', 'jet_r', 'magma', 'magma_r', 'nipy_spectral', 'nipy_spectral_r', 'ocean', 'ocean_r', 'pink', 'pink_r', 'plasma', 'plasma_r', 'prism', 'prism_r', 'rainbow', 'rainbow_r', 'seismic', 'seismic_r', 'spectral', 'spectral_r', 'spring', 'spring_r', 'summer', 'summer_r', 'tab10', 'tab10_r', 'tab20', 'tab20_r', 'tab20b', 'tab20b_r', 'tab20c', 'tab20c_r', 'terrain', 'terrain_r', 'viridis', 'viridis_r', 'winter', 'winter_r'), rows=1, value=''), HTML(value='<img src=\"data:image/gif;base64,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\"/>'), FloatText(value=-1.0, description='Leftmost color maps to:', style=DescriptionStyle(description_width='initial')), FloatText(value=1.0, description='Rightmost color maps to:', style=DescriptionStyle(description_width='initial')), IntText(value=0, description='Feature to show:', style=DescriptionStyle(description_width='initial')), HBox(children=(Checkbox(value=True, description='Rotate network', layout=Layout(width='52%'), style=DescriptionStyle(description_width='initial')), Button(icon='save', layout=Layout(width='10%'), style=ButtonStyle())))), layout=Layout(width='100%')))),), selected_index=None, _titles={'0': 'MNIST_MLP'}), VBox(children=(HBox(children=(IntSlider(value=0, continuous_update=False, description='Dataset index', layout=Layout(width='100%'), max=59999), Label(value='of 60000', layout=Layout(width='100px'))), layout=Layout(height='40px')), HBox(children=(Button(icon='fast-backward', layout=Layout(width='100%'), style=ButtonStyle()), Button(icon='backward', layout=Layout(width='100%'), style=ButtonStyle()), IntText(value=0, layout=Layout(width='100%')), Button(icon='forward', layout=Layout(width='100%'), style=ButtonStyle()), Button(icon='fast-forward', layout=Layout(width='100%'), style=ButtonStyle()), Button(description='Play', icon='play', layout=Layout(width='100%'), style=ButtonStyle()), Button(icon='refresh', layout=Layout(width='25%'), style=ButtonStyle())), layout=Layout(height='50px', width='100%'))), layout=Layout(width='100%')), HTML(value='<p style=\"text-align:center\"></p>', layout=Layout(justify_content='center', overflow_x='auto', overflow_y='auto', width='95%')), Output()))"
      ]
     },
     "metadata": {},
     "output_type": "display_data"
    },
    {
     "data": {
      "application/javascript": [
       "\n",
       "require(['base/js/namespace'], function(Jupyter) {\n",
       "    Jupyter.notebook.kernel.comm_manager.register_target('conx_svg_control', function(comm, msg) {\n",
       "        comm.on_msg(function(msg) {\n",
       "            var data = msg[\"content\"][\"data\"];\n",
       "            var images = document.getElementsByClassName(data[\"class\"]);\n",
       "            for (var i = 0; i < images.length; i++) {\n",
       "                if (data[\"href\"]) {\n",
       "                    images[i].setAttributeNS(null, \"href\", data[\"href\"]);\n",
       "                }\n",
       "                if (data[\"src\"]) {\n",
       "                    images[i].setAttributeNS(null, \"src\", data[\"src\"]);\n",
       "                }\n",
       "            }\n",
       "        });\n",
       "    });\n",
       "});\n"
      ],
      "text/plain": [
       "<IPython.core.display.Javascript object>"
      ]
     },
     "metadata": {},
     "output_type": "display_data"
    }
   ],
   "source": [
    "dash = net.dashboard()\n",
    "dash"
   ]
  },
  {
   "cell_type": "markdown",
   "metadata": {},
   "source": [
    "Clicking on **MNIST_MLP** at the top of the dashboard will open up a panel of settings for controlling the appearance and functionality of the network display. For example, to choose between the training set and testing set images, you can select \"Train\" or \"Test\" from the *Dataset* pulldown menu. \n",
    "\n",
    "The `propagate` method sends an input pattern through the network and returns a list of the output values. In the example below, the outputs are all around 0.1 because the network has not yet been trained. After training, one of the output values will typically be much larger than the others, corresponding to the output classification category."
   ]
  },
  {
   "cell_type": "code",
   "execution_count": 19,
   "metadata": {},
   "outputs": [
    {
     "data": {
      "text/plain": [
       "[0.09534735977649689,\n",
       " 0.14426341652870178,\n",
       " 0.05579336732625961,\n",
       " 0.11375345289707184,\n",
       " 0.07540357857942581,\n",
       " 0.1451769471168518,\n",
       " 0.09819453209638596,\n",
       " 0.05140915513038635,\n",
       " 0.10190098732709885,\n",
       " 0.1187572032213211]"
      ]
     },
     "execution_count": 19,
     "metadata": {},
     "output_type": "execute_result"
    }
   ],
   "source": [
    "net.propagate(mnist.train_inputs[0])"
   ]
  },
  {
   "cell_type": "markdown",
   "metadata": {},
   "source": [
    "We can visualize the weights on connections into specific units by calling `plot_layer_weights`. For example, the command below shows the weights from the input layer into units 0, 1, and 2 of the first hidden layer, displayed as 28 &times; 28 pixel array (where each \"pixel\" represents a weight from the input layer into a hidden unit). The `wrange` keyword specifies the minimum and maximum weight values for the color coding. Since the network has not yet been trained, the weights are all small random values close to zero."
   ]
  },
  {
   "cell_type": "code",
   "execution_count": 20,
   "metadata": {},
   "outputs": [
    {
     "data": {
      "image/png": "[encoded data removed]",
      "text/plain": [
       "<matplotlib.figure.Figure at 0x11c3e6080>"
      ]
     },
     "metadata": {},
     "output_type": "display_data"
    }
   ],
   "source": [
    "net.plot_layer_weights('hidden1', units=[0,1,2], vshape=(28,28), wrange=(-1.5, 1.5))"
   ]
  },
  {
   "cell_type": "markdown",
   "metadata": {},
   "source": [
    "Let's train the network for 40 epochs, using a batch size of 128. This means that images from the training set will be presented to the network in batches of 128 at a time, and for each batch, the RMSprop algorithm will update the network's weights by an appropriate amount. Then another batch of 128 images will be presented, and so on, until all 60000 training images in the dataset have been processed, which constitutes one epoch of training. This entire cycle will be repeated for 30 epochs. As training proceeds, the network's error (loss) on both the training set and testing set (also called the validation set) will be shown on the left graph, and the network's accuracy will be shown on the right graph. The accuracy is simply the fraction of input images that the network classifies correctly."
   ]
  },
  {
   "cell_type": "code",
   "execution_count": 21,
   "metadata": {},
   "outputs": [
    {
     "data": {
      "image/svg+xml": [
       "<svg height=\"288pt\" version=\"1.1\" viewBox=\"0 0 720 288\" width=\"720pt\" xmlns=\"http://www.w3.org/2000/svg\" xmlns:xlink=\"http://www.w3.org/1999/xlink\">\n",
       " <defs>\n",
       "  <style type=\"text/css\">\n",
       "*{stroke-linecap:butt;stroke-linejoin:round;}\n",
       "  </style>\n",
       " </defs>\n",
       " <g id=\"figure_1\">\n",
       "  <g id=\"patch_1\">\n",
       "   <path d=\"M 0 288  L 720 288  L 720 0  L 0 0  z \" style=\"fill:#ffffff;\"/>\n",
       "  </g>\n",
       "  <g id=\"axes_1\">\n",
       "   <g id=\"patch_2\">\n",
       "    <path d=\"M 90 252  L 343.636364 252  L 343.636364 34.56  L 90 34.56  z \" style=\"fill:#ffffff;\"/>\n",
       "   </g>\n",
       "   <g id=\"matplotlib.axis_1\">\n",
       "    <g id=\"xtick_1\">\n",
       "     <g id=\"line2d_1\">\n",
       "      <defs>\n",
       "       <path d=\"M 0 0  L 0 3.5  \" id=\"m51edc5f174\" style=\"stroke:#000000;stroke-width:0.8;\"/>\n",
       "      </defs>\n",
       "      <g>\n",
       "       <use style=\"stroke:#000000;stroke-width:0.8;\" x=\"101.528926\" xlink:href=\"#m51edc5f174\" y=\"252\"/>\n",
       "      </g>\n",
       "     </g>\n",
       "     <g id=\"text_1\">\n",
       "      <!-- 0 -->\n",
       "      <defs>\n",
       "       <path d=\"M 31.78125 66.40625  Q 24.171875 66.40625 20.328125 58.90625  Q 16.5 51.421875 16.5 36.375  Q 16.5 21.390625 20.328125 13.890625  Q 24.171875 6.390625 31.78125 6.390625  Q 39.453125 6.390625 43.28125 13.890625  Q 47.125 21.390625 47.125 36.375  Q 47.125 51.421875 43.28125 58.90625  Q 39.453125 66.40625 31.78125 66.40625  z M 31.78125 74.21875  Q 44.046875 74.21875 50.515625 64.515625  Q 56.984375 54.828125 56.984375 36.375  Q 56.984375 17.96875 50.515625 8.265625  Q 44.046875 -1.421875 31.78125 -1.421875  Q 19.53125 -1.421875 13.0625 8.265625  Q 6.59375 17.96875 6.59375 36.375  Q 6.59375 54.828125 13.0625 64.515625  Q 19.53125 74.21875 31.78125 74.21875  z \" id=\"DejaVuSans-30\"/>\n",
       "      </defs>\n",
       "      <g transform=\"translate(98.347676 266.598437)scale(0.1 -0.1)\">\n",
       "       <use xlink:href=\"#DejaVuSans-30\"/>\n",
       "      </g>\n",
       "     </g>\n",
       "    </g>\n",
       "    <g id=\"xtick_2\">\n",
       "     <g id=\"line2d_2\">\n",
       "      <g>\n",
       "       <use style=\"stroke:#000000;stroke-width:0.8;\" x=\"159.173554\" xlink:href=\"#m51edc5f174\" y=\"252\"/>\n",
       "      </g>\n",
       "     </g>\n",
       "     <g id=\"text_2\">\n",
       "      <!-- 10 -->\n",
       "      <defs>\n",
       "       <path d=\"M 12.40625 8.296875  L 28.515625 8.296875  L 28.515625 63.921875  L 10.984375 60.40625  L 10.984375 69.390625  L 28.421875 72.90625  L 38.28125 72.90625  L 38.28125 8.296875  L 54.390625 8.296875  L 54.390625 0  L 12.40625 0  z \" id=\"DejaVuSans-31\"/>\n",
       "      </defs>\n",
       "      <g transform=\"translate(152.811054 266.598437)scale(0.1 -0.1)\">\n",
       "       <use xlink:href=\"#DejaVuSans-31\"/>\n",
       "       <use x=\"63.623047\" xlink:href=\"#DejaVuSans-30\"/>\n",
       "      </g>\n",
       "     </g>\n",
       "    </g>\n",
       "    <g id=\"xtick_3\">\n",
       "     <g id=\"line2d_3\">\n",
       "      <g>\n",
       "       <use style=\"stroke:#000000;stroke-width:0.8;\" x=\"216.818182\" xlink:href=\"#m51edc5f174\" y=\"252\"/>\n",
       "      </g>\n",
       "     </g>\n",
       "     <g id=\"text_3\">\n",
       "      <!-- 20 -->\n",
       "      <defs>\n",
       "       <path d=\"M 19.1875 8.296875  L 53.609375 8.296875  L 53.609375 0  L 7.328125 0  L 7.328125 8.296875  Q 12.9375 14.109375 22.625 23.890625  Q 32.328125 33.6875 34.8125 36.53125  Q 39.546875 41.84375 41.421875 45.53125  Q 43.3125 49.21875 43.3125 52.78125  Q 43.3125 58.59375 39.234375 62.25  Q 35.15625 65.921875 28.609375 65.921875  Q 23.96875 65.921875 18.8125 64.3125  Q 13.671875 62.703125 7.8125 59.421875  L 7.8125 69.390625  Q 13.765625 71.78125 18.9375 73  Q 24.125 74.21875 28.421875 74.21875  Q 39.75 74.21875 46.484375 68.546875  Q 53.21875 62.890625 53.21875 53.421875  Q 53.21875 48.921875 51.53125 44.890625  Q 49.859375 40.875 45.40625 35.40625  Q 44.1875 33.984375 37.640625 27.21875  Q 31.109375 20.453125 19.1875 8.296875  z \" id=\"DejaVuSans-32\"/>\n",
       "      </defs>\n",
       "      <g transform=\"translate(210.455682 266.598437)scale(0.1 -0.1)\">\n",
       "       <use xlink:href=\"#DejaVuSans-32\"/>\n",
       "       <use x=\"63.623047\" xlink:href=\"#DejaVuSans-30\"/>\n",
       "      </g>\n",
       "     </g>\n",
       "    </g>\n",
       "    <g id=\"xtick_4\">\n",
       "     <g id=\"line2d_4\">\n",
       "      <g>\n",
       "       <use style=\"stroke:#000000;stroke-width:0.8;\" x=\"274.46281\" xlink:href=\"#m51edc5f174\" y=\"252\"/>\n",
       "      </g>\n",
       "     </g>\n",
       "     <g id=\"text_4\">\n",
       "      <!-- 30 -->\n",
       "      <defs>\n",
       "       <path d=\"M 40.578125 39.3125  Q 47.65625 37.796875 51.625 33  Q 55.609375 28.21875 55.609375 21.1875  Q 55.609375 10.40625 48.1875 4.484375  Q 40.765625 -1.421875 27.09375 -1.421875  Q 22.515625 -1.421875 17.65625 -0.515625  Q 12.796875 0.390625 7.625 2.203125  L 7.625 11.71875  Q 11.71875 9.328125 16.59375 8.109375  Q 21.484375 6.890625 26.8125 6.890625  Q 36.078125 6.890625 40.9375 10.546875  Q 45.796875 14.203125 45.796875 21.1875  Q 45.796875 27.640625 41.28125 31.265625  Q 36.765625 34.90625 28.71875 34.90625  L 20.21875 34.90625  L 20.21875 43.015625  L 29.109375 43.015625  Q 36.375 43.015625 40.234375 45.921875  Q 44.09375 48.828125 44.09375 54.296875  Q 44.09375 59.90625 40.109375 62.90625  Q 36.140625 65.921875 28.71875 65.921875  Q 24.65625 65.921875 20.015625 65.03125  Q 15.375 64.15625 9.8125 62.3125  L 9.8125 71.09375  Q 15.4375 72.65625 20.34375 73.4375  Q 25.25 74.21875 29.59375 74.21875  Q 40.828125 74.21875 47.359375 69.109375  Q 53.90625 64.015625 53.90625 55.328125  Q 53.90625 49.265625 50.4375 45.09375  Q 46.96875 40.921875 40.578125 39.3125  z \" id=\"DejaVuSans-33\"/>\n",
       "      </defs>\n",
       "      <g transform=\"translate(268.10031 266.598437)scale(0.1 -0.1)\">\n",
       "       <use xlink:href=\"#DejaVuSans-33\"/>\n",
       "       <use x=\"63.623047\" xlink:href=\"#DejaVuSans-30\"/>\n",
       "      </g>\n",
       "     </g>\n",
       "    </g>\n",
       "    <g id=\"xtick_5\">\n",
       "     <g id=\"line2d_5\">\n",
       "      <g>\n",
       "       <use style=\"stroke:#000000;stroke-width:0.8;\" x=\"332.107438\" xlink:href=\"#m51edc5f174\" y=\"252\"/>\n",
       "      </g>\n",
       "     </g>\n",
       "     <g id=\"text_5\">\n",
       "      <!-- 40 -->\n",
       "      <defs>\n",
       "       <path d=\"M 37.796875 64.3125  L 12.890625 25.390625  L 37.796875 25.390625  z M 35.203125 72.90625  L 47.609375 72.90625  L 47.609375 25.390625  L 58.015625 25.390625  L 58.015625 17.1875  L 47.609375 17.1875  L 47.609375 0  L 37.796875 0  L 37.796875 17.1875  L 4.890625 17.1875  L 4.890625 26.703125  z \" id=\"DejaVuSans-34\"/>\n",
       "      </defs>\n",
       "      <g transform=\"translate(325.744938 266.598437)scale(0.1 -0.1)\">\n",
       "       <use xlink:href=\"#DejaVuSans-34\"/>\n",
       "       <use x=\"63.623047\" xlink:href=\"#DejaVuSans-30\"/>\n",
       "      </g>\n",
       "     </g>\n",
       "    </g>\n",
       "    <g id=\"text_6\">\n",
       "     <!-- Epoch -->\n",
       "     <defs>\n",
       "      <path d=\"M 9.8125 72.90625  L 55.90625 72.90625  L 55.90625 64.59375  L 19.671875 64.59375  L 19.671875 43.015625  L 54.390625 43.015625  L 54.390625 34.71875  L 19.671875 34.71875  L 19.671875 8.296875  L 56.78125 8.296875  L 56.78125 0  L 9.8125 0  z \" id=\"DejaVuSans-45\"/>\n",
       "      <path d=\"M 18.109375 8.203125  L 18.109375 -20.796875  L 9.078125 -20.796875  L 9.078125 54.6875  L 18.109375 54.6875  L 18.109375 46.390625  Q 20.953125 51.265625 25.265625 53.625  Q 29.59375 56 35.59375 56  Q 45.5625 56 51.78125 48.09375  Q 58.015625 40.1875 58.015625 27.296875  Q 58.015625 14.40625 51.78125 6.484375  Q 45.5625 -1.421875 35.59375 -1.421875  Q 29.59375 -1.421875 25.265625 0.953125  Q 20.953125 3.328125 18.109375 8.203125  z M 48.6875 27.296875  Q 48.6875 37.203125 44.609375 42.84375  Q 40.53125 48.484375 33.40625 48.484375  Q 26.265625 48.484375 22.1875 42.84375  Q 18.109375 37.203125 18.109375 27.296875  Q 18.109375 17.390625 22.1875 11.75  Q 26.265625 6.109375 33.40625 6.109375  Q 40.53125 6.109375 44.609375 11.75  Q 48.6875 17.390625 48.6875 27.296875  z \" id=\"DejaVuSans-70\"/>\n",
       "      <path d=\"M 30.609375 48.390625  Q 23.390625 48.390625 19.1875 42.75  Q 14.984375 37.109375 14.984375 27.296875  Q 14.984375 17.484375 19.15625 11.84375  Q 23.34375 6.203125 30.609375 6.203125  Q 37.796875 6.203125 41.984375 11.859375  Q 46.1875 17.53125 46.1875 27.296875  Q 46.1875 37.015625 41.984375 42.703125  Q 37.796875 48.390625 30.609375 48.390625  z M 30.609375 56  Q 42.328125 56 49.015625 48.375  Q 55.71875 40.765625 55.71875 27.296875  Q 55.71875 13.875 49.015625 6.21875  Q 42.328125 -1.421875 30.609375 -1.421875  Q 18.84375 -1.421875 12.171875 6.21875  Q 5.515625 13.875 5.515625 27.296875  Q 5.515625 40.765625 12.171875 48.375  Q 18.84375 56 30.609375 56  z \" id=\"DejaVuSans-6f\"/>\n",
       "      <path d=\"M 48.78125 52.59375  L 48.78125 44.1875  Q 44.96875 46.296875 41.140625 47.34375  Q 37.3125 48.390625 33.40625 48.390625  Q 24.65625 48.390625 19.8125 42.84375  Q 14.984375 37.3125 14.984375 27.296875  Q 14.984375 17.28125 19.8125 11.734375  Q 24.65625 6.203125 33.40625 6.203125  Q 37.3125 6.203125 41.140625 7.25  Q 44.96875 8.296875 48.78125 10.40625  L 48.78125 2.09375  Q 45.015625 0.34375 40.984375 -0.53125  Q 36.96875 -1.421875 32.421875 -1.421875  Q 20.0625 -1.421875 12.78125 6.34375  Q 5.515625 14.109375 5.515625 27.296875  Q 5.515625 40.671875 12.859375 48.328125  Q 20.21875 56 33.015625 56  Q 37.15625 56 41.109375 55.140625  Q 45.0625 54.296875 48.78125 52.59375  z \" id=\"DejaVuSans-63\"/>\n",
       "      <path d=\"M 54.890625 33.015625  L 54.890625 0  L 45.90625 0  L 45.90625 32.71875  Q 45.90625 40.484375 42.875 44.328125  Q 39.84375 48.1875 33.796875 48.1875  Q 26.515625 48.1875 22.3125 43.546875  Q 18.109375 38.921875 18.109375 30.90625  L 18.109375 0  L 9.078125 0  L 9.078125 75.984375  L 18.109375 75.984375  L 18.109375 46.1875  Q 21.34375 51.125 25.703125 53.5625  Q 30.078125 56 35.796875 56  Q 45.21875 56 50.046875 50.171875  Q 54.890625 44.34375 54.890625 33.015625  z \" id=\"DejaVuSans-68\"/>\n",
       "     </defs>\n",
       "     <g transform=\"translate(201.507244 280.276563)scale(0.1 -0.1)\">\n",
       "      <use xlink:href=\"#DejaVuSans-45\"/>\n",
       "      <use x=\"63.183594\" xlink:href=\"#DejaVuSans-70\"/>\n",
       "      <use x=\"126.660156\" xlink:href=\"#DejaVuSans-6f\"/>\n",
       "      <use x=\"187.841797\" xlink:href=\"#DejaVuSans-63\"/>\n",
       "      <use x=\"242.822266\" xlink:href=\"#DejaVuSans-68\"/>\n",
       "     </g>\n",
       "    </g>\n",
       "   </g>\n",
       "   <g id=\"matplotlib.axis_2\">\n",
       "    <g id=\"ytick_1\">\n",
       "     <g id=\"line2d_6\">\n",
       "      <defs>\n",
       "       <path d=\"M 0 0  L -3.5 0  \" id=\"mb24090af5a\" style=\"stroke:#000000;stroke-width:0.8;\"/>\n",
       "      </defs>\n",
       "      <g>\n",
       "       <use style=\"stroke:#000000;stroke-width:0.8;\" x=\"90\" xlink:href=\"#mb24090af5a\" y=\"252\"/>\n",
       "      </g>\n",
       "     </g>\n",
       "     <g id=\"text_7\">\n",
       "      <!-- 0.0 -->\n",
       "      <defs>\n",
       "       <path d=\"M 10.6875 12.40625  L 21 12.40625  L 21 0  L 10.6875 0  z \" id=\"DejaVuSans-2e\"/>\n",
       "      </defs>\n",
       "      <g transform=\"translate(67.096875 255.799219)scale(0.1 -0.1)\">\n",
       "       <use xlink:href=\"#DejaVuSans-30\"/>\n",
       "       <use x=\"63.623047\" xlink:href=\"#DejaVuSans-2e\"/>\n",
       "       <use x=\"95.410156\" xlink:href=\"#DejaVuSans-30\"/>\n",
       "      </g>\n",
       "     </g>\n",
       "    </g>\n",
       "    <g id=\"ytick_2\">\n",
       "     <g id=\"line2d_7\">\n",
       "      <g>\n",
       "       <use style=\"stroke:#000000;stroke-width:0.8;\" x=\"90\" xlink:href=\"#mb24090af5a\" y=\"208.173658\"/>\n",
       "      </g>\n",
       "     </g>\n",
       "     <g id=\"text_8\">\n",
       "      <!-- 0.5 -->\n",
       "      <defs>\n",
       "       <path d=\"M 10.796875 72.90625  L 49.515625 72.90625  L 49.515625 64.59375  L 19.828125 64.59375  L 19.828125 46.734375  Q 21.96875 47.46875 24.109375 47.828125  Q 26.265625 48.1875 28.421875 48.1875  Q 40.625 48.1875 47.75 41.5  Q 54.890625 34.8125 54.890625 23.390625  Q 54.890625 11.625 47.5625 5.09375  Q 40.234375 -1.421875 26.90625 -1.421875  Q 22.3125 -1.421875 17.546875 -0.640625  Q 12.796875 0.140625 7.71875 1.703125  L 7.71875 11.625  Q 12.109375 9.234375 16.796875 8.0625  Q 21.484375 6.890625 26.703125 6.890625  Q 35.15625 6.890625 40.078125 11.328125  Q 45.015625 15.765625 45.015625 23.390625  Q 45.015625 31 40.078125 35.4375  Q 35.15625 39.890625 26.703125 39.890625  Q 22.75 39.890625 18.8125 39.015625  Q 14.890625 38.140625 10.796875 36.28125  z \" id=\"DejaVuSans-35\"/>\n",
       "      </defs>\n",
       "      <g transform=\"translate(67.096875 211.972877)scale(0.1 -0.1)\">\n",
       "       <use xlink:href=\"#DejaVuSans-30\"/>\n",
       "       <use x=\"63.623047\" xlink:href=\"#DejaVuSans-2e\"/>\n",
       "       <use x=\"95.410156\" xlink:href=\"#DejaVuSans-35\"/>\n",
       "      </g>\n",
       "     </g>\n",
       "    </g>\n",
       "    <g id=\"ytick_3\">\n",
       "     <g id=\"line2d_8\">\n",
       "      <g>\n",
       "       <use style=\"stroke:#000000;stroke-width:0.8;\" x=\"90\" xlink:href=\"#mb24090af5a\" y=\"164.347317\"/>\n",
       "      </g>\n",
       "     </g>\n",
       "     <g id=\"text_9\">\n",
       "      <!-- 1.0 -->\n",
       "      <g transform=\"translate(67.096875 168.146535)scale(0.1 -0.1)\">\n",
       "       <use xlink:href=\"#DejaVuSans-31\"/>\n",
       "       <use x=\"63.623047\" xlink:href=\"#DejaVuSans-2e\"/>\n",
       "       <use x=\"95.410156\" xlink:href=\"#DejaVuSans-30\"/>\n",
       "      </g>\n",
       "     </g>\n",
       "    </g>\n",
       "    <g id=\"ytick_4\">\n",
       "     <g id=\"line2d_9\">\n",
       "      <g>\n",
       "       <use style=\"stroke:#000000;stroke-width:0.8;\" x=\"90\" xlink:href=\"#mb24090af5a\" y=\"120.520975\"/>\n",
       "      </g>\n",
       "     </g>\n",
       "     <g id=\"text_10\">\n",
       "      <!-- 1.5 -->\n",
       "      <g transform=\"translate(67.096875 124.320194)scale(0.1 -0.1)\">\n",
       "       <use xlink:href=\"#DejaVuSans-31\"/>\n",
       "       <use x=\"63.623047\" xlink:href=\"#DejaVuSans-2e\"/>\n",
       "       <use x=\"95.410156\" xlink:href=\"#DejaVuSans-35\"/>\n",
       "      </g>\n",
       "     </g>\n",
       "    </g>\n",
       "    <g id=\"ytick_5\">\n",
       "     <g id=\"line2d_10\">\n",
       "      <g>\n",
       "       <use style=\"stroke:#000000;stroke-width:0.8;\" x=\"90\" xlink:href=\"#mb24090af5a\" y=\"76.694633\"/>\n",
       "      </g>\n",
       "     </g>\n",
       "     <g id=\"text_11\">\n",
       "      <!-- 2.0 -->\n",
       "      <g transform=\"translate(67.096875 80.493852)scale(0.1 -0.1)\">\n",
       "       <use xlink:href=\"#DejaVuSans-32\"/>\n",
       "       <use x=\"63.623047\" xlink:href=\"#DejaVuSans-2e\"/>\n",
       "       <use x=\"95.410156\" xlink:href=\"#DejaVuSans-30\"/>\n",
       "      </g>\n",
       "     </g>\n",
       "    </g>\n",
       "   </g>\n",
       "   <g id=\"line2d_11\">\n",
       "    <path clip-path=\"url(#p71bc837e41)\" d=\"M 101.528926 44.738134  L 107.293388 183.646222  L 113.057851 215.926765  L 118.822314 221.218181  L 124.586777 224.281409  L 130.35124 226.334653  L 136.115702 227.858627  L 141.880165 228.806971  L 147.644628 229.768626  L 153.409091 230.507219  L 159.173554 231.429448  L 164.938017 231.769146  L 170.702479 231.844495  L 176.466942 232.568864  L 182.231405 232.90524  L 187.995868 233.035702  L 193.760331 233.154903  L 199.524793 233.142956  L 205.289256 233.325395  L 211.053719 233.904332  L 216.818182 234.138996  L 222.582645 234.172908  L 228.347107 234.586687  L 234.11157 234.355177  L 239.876033 234.400006  L 245.640496 234.150876  L 251.404959 234.977421  L 257.169421 234.560984  L 262.933884 235.124029  L 268.698347 234.838306  L 274.46281 234.849069  L 280.227273 235.087643  L 285.991736 235.453952  L 291.756198 235.526049  L 297.520661 235.445756  L 303.285124 235.235883  L 309.049587 235.35363  L 314.81405 235.189923  L 320.578512 235.504254  L 326.342975 235.751904  L 332.107438 235.578479  \" style=\"fill:none;stroke:#1f77b4;stroke-linecap:square;stroke-width:1.5;\"/>\n",
       "   </g>\n",
       "   <g id=\"line2d_12\">\n",
       "    <path clip-path=\"url(#p71bc837e41)\" d=\"M 101.528926 44.31824  L 107.293388 226.760855  L 113.057851 232.039437  L 118.822314 234.019522  L 124.586777 235.401719  L 130.35124 236.197137  L 136.115702 237.308251  L 141.880165 237.742457  L 147.644628 238.091285  L 153.409091 237.88776  L 159.173554 238.687937  L 164.938017 238.633072  L 170.702479 239.483035  L 176.466942 239.205247  L 182.231405 239.384215  L 187.995868 239.094984  L 193.760331 239.246184  L 199.524793 238.670577  L 205.289256 238.92523  L 211.053719 239.074829  L 216.818182 238.980189  L 222.582645 238.699255  L 228.347107 238.463194  L 234.11157 238.649871  L 239.876033 239.342293  L 245.640496 239.221802  L 251.404959 238.811985  L 257.169421 238.900774  L 262.933884 238.662576  L 268.698347 238.846048  L 274.46281 238.787376  L 280.227273 238.71007  L 285.991736 238.519859  L 291.756198 238.981676  L 297.520661 238.612772  L 303.285124 238.328212  L 309.049587 238.423823  L 314.81405 238.512723  L 320.578512 238.453476  L 326.342975 238.185563  L 332.107438 238.53293  \" style=\"fill:none;stroke:#ff7f0e;stroke-linecap:square;stroke-width:1.5;\"/>\n",
       "   </g>\n",
       "   <g id=\"patch_3\">\n",
       "    <path d=\"M 90 252  L 90 34.56  \" style=\"fill:none;stroke:#000000;stroke-linecap:square;stroke-linejoin:miter;stroke-width:0.8;\"/>\n",
       "   </g>\n",
       "   <g id=\"patch_4\">\n",
       "    <path d=\"M 343.636364 252  L 343.636364 34.56  \" style=\"fill:none;stroke:#000000;stroke-linecap:square;stroke-linejoin:miter;stroke-width:0.8;\"/>\n",
       "   </g>\n",
       "   <g id=\"patch_5\">\n",
       "    <path d=\"M 90 252  L 343.636364 252  \" style=\"fill:none;stroke:#000000;stroke-linecap:square;stroke-linejoin:miter;stroke-width:0.8;\"/>\n",
       "   </g>\n",
       "   <g id=\"patch_6\">\n",
       "    <path d=\"M 90 34.56  L 343.636364 34.56  \" style=\"fill:none;stroke:#000000;stroke-linecap:square;stroke-linejoin:miter;stroke-width:0.8;\"/>\n",
       "   </g>\n",
       "   <g id=\"text_12\">\n",
       "    <!-- MNIST_MLP: Error -->\n",
       "    <defs>\n",
       "     <path d=\"M 9.8125 72.90625  L 24.515625 72.90625  L 43.109375 23.296875  L 61.8125 72.90625  L 76.515625 72.90625  L 76.515625 0  L 66.890625 0  L 66.890625 64.015625  L 48.09375 14.015625  L 38.1875 14.015625  L 19.390625 64.015625  L 19.390625 0  L 9.8125 0  z \" id=\"DejaVuSans-4d\"/>\n",
       "     <path d=\"M 9.8125 72.90625  L 23.09375 72.90625  L 55.421875 11.921875  L 55.421875 72.90625  L 64.984375 72.90625  L 64.984375 0  L 51.703125 0  L 19.390625 60.984375  L 19.390625 0  L 9.8125 0  z \" id=\"DejaVuSans-4e\"/>\n",
       "     <path d=\"M 9.8125 72.90625  L 19.671875 72.90625  L 19.671875 0  L 9.8125 0  z \" id=\"DejaVuSans-49\"/>\n",
       "     <path d=\"M 53.515625 70.515625  L 53.515625 60.890625  Q 47.90625 63.578125 42.921875 64.890625  Q 37.9375 66.21875 33.296875 66.21875  Q 25.25 66.21875 20.875 63.09375  Q 16.5 59.96875 16.5 54.203125  Q 16.5 49.359375 19.40625 46.890625  Q 22.3125 44.4375 30.421875 42.921875  L 36.375 41.703125  Q 47.40625 39.59375 52.65625 34.296875  Q 57.90625 29 57.90625 20.125  Q 57.90625 9.515625 50.796875 4.046875  Q 43.703125 -1.421875 29.984375 -1.421875  Q 24.8125 -1.421875 18.96875 -0.25  Q 13.140625 0.921875 6.890625 3.21875  L 6.890625 13.375  Q 12.890625 10.015625 18.65625 8.296875  Q 24.421875 6.59375 29.984375 6.59375  Q 38.421875 6.59375 43.015625 9.90625  Q 47.609375 13.234375 47.609375 19.390625  Q 47.609375 24.75 44.3125 27.78125  Q 41.015625 30.8125 33.5 32.328125  L 27.484375 33.5  Q 16.453125 35.6875 11.515625 40.375  Q 6.59375 45.0625 6.59375 53.421875  Q 6.59375 63.09375 13.40625 68.65625  Q 20.21875 74.21875 32.171875 74.21875  Q 37.3125 74.21875 42.625 73.28125  Q 47.953125 72.359375 53.515625 70.515625  z \" id=\"DejaVuSans-53\"/>\n",
       "     <path d=\"M -0.296875 72.90625  L 61.375 72.90625  L 61.375 64.59375  L 35.5 64.59375  L 35.5 0  L 25.59375 0  L 25.59375 64.59375  L -0.296875 64.59375  z \" id=\"DejaVuSans-54\"/>\n",
       "     <path d=\"M 50.984375 -16.609375  L 50.984375 -23.578125  L -0.984375 -23.578125  L -0.984375 -16.609375  z \" id=\"DejaVuSans-5f\"/>\n",
       "     <path d=\"M 9.8125 72.90625  L 19.671875 72.90625  L 19.671875 8.296875  L 55.171875 8.296875  L 55.171875 0  L 9.8125 0  z \" id=\"DejaVuSans-4c\"/>\n",
       "     <path d=\"M 19.671875 64.796875  L 19.671875 37.40625  L 32.078125 37.40625  Q 38.96875 37.40625 42.71875 40.96875  Q 46.484375 44.53125 46.484375 51.125  Q 46.484375 57.671875 42.71875 61.234375  Q 38.96875 64.796875 32.078125 64.796875  z M 9.8125 72.90625  L 32.078125 72.90625  Q 44.34375 72.90625 50.609375 67.359375  Q 56.890625 61.8125 56.890625 51.125  Q 56.890625 40.328125 50.609375 34.8125  Q 44.34375 29.296875 32.078125 29.296875  L 19.671875 29.296875  L 19.671875 0  L 9.8125 0  z \" id=\"DejaVuSans-50\"/>\n",
       "     <path d=\"M 11.71875 12.40625  L 22.015625 12.40625  L 22.015625 0  L 11.71875 0  z M 11.71875 51.703125  L 22.015625 51.703125  L 22.015625 39.3125  L 11.71875 39.3125  z \" id=\"DejaVuSans-3a\"/>\n",
       "     <path id=\"DejaVuSans-20\"/>\n",
       "     <path d=\"M 41.109375 46.296875  Q 39.59375 47.171875 37.8125 47.578125  Q 36.03125 48 33.890625 48  Q 26.265625 48 22.1875 43.046875  Q 18.109375 38.09375 18.109375 28.8125  L 18.109375 0  L 9.078125 0  L 9.078125 54.6875  L 18.109375 54.6875  L 18.109375 46.1875  Q 20.953125 51.171875 25.484375 53.578125  Q 30.03125 56 36.53125 56  Q 37.453125 56 38.578125 55.875  Q 39.703125 55.765625 41.0625 55.515625  z \" id=\"DejaVuSans-72\"/>\n",
       "    </defs>\n",
       "    <g transform=\"translate(163.983494 28.56)scale(0.12 -0.12)\">\n",
       "     <use xlink:href=\"#DejaVuSans-4d\"/>\n",
       "     <use x=\"86.279297\" xlink:href=\"#DejaVuSans-4e\"/>\n",
       "     <use x=\"161.083984\" xlink:href=\"#DejaVuSans-49\"/>\n",
       "     <use x=\"190.576172\" xlink:href=\"#DejaVuSans-53\"/>\n",
       "     <use x=\"254.052734\" xlink:href=\"#DejaVuSans-54\"/>\n",
       "     <use x=\"315.136719\" xlink:href=\"#DejaVuSans-5f\"/>\n",
       "     <use x=\"365.136719\" xlink:href=\"#DejaVuSans-4d\"/>\n",
       "     <use x=\"451.416016\" xlink:href=\"#DejaVuSans-4c\"/>\n",
       "     <use x=\"507.128906\" xlink:href=\"#DejaVuSans-50\"/>\n",
       "     <use x=\"567.431641\" xlink:href=\"#DejaVuSans-3a\"/>\n",
       "     <use x=\"601.123047\" xlink:href=\"#DejaVuSans-20\"/>\n",
       "     <use x=\"632.910156\" xlink:href=\"#DejaVuSans-45\"/>\n",
       "     <use x=\"696.09375\" xlink:href=\"#DejaVuSans-72\"/>\n",
       "     <use x=\"737.191406\" xlink:href=\"#DejaVuSans-72\"/>\n",
       "     <use x=\"778.273438\" xlink:href=\"#DejaVuSans-6f\"/>\n",
       "     <use x=\"839.455078\" xlink:href=\"#DejaVuSans-72\"/>\n",
       "    </g>\n",
       "   </g>\n",
       "   <g id=\"legend_1\">\n",
       "    <g id=\"patch_7\">\n",
       "     <path d=\"M 236.030114 71.91625  L 336.636364 71.91625  Q 338.636364 71.91625 338.636364 69.91625  L 338.636364 41.56  Q 338.636364 39.56 336.636364 39.56  L 236.030114 39.56  Q 234.030114 39.56 234.030114 41.56  L 234.030114 69.91625  Q 234.030114 71.91625 236.030114 71.91625  z \" style=\"fill:#ffffff;opacity:0.8;stroke:#cccccc;stroke-linejoin:miter;\"/>\n",
       "    </g>\n",
       "    <g id=\"line2d_13\">\n",
       "     <path d=\"M 238.030114 47.658437  L 258.030114 47.658437  \" style=\"fill:none;stroke:#1f77b4;stroke-linecap:square;stroke-width:1.5;\"/>\n",
       "    </g>\n",
       "    <g id=\"line2d_14\"/>\n",
       "    <g id=\"text_13\">\n",
       "     <!-- Training set -->\n",
       "     <defs>\n",
       "      <path d=\"M 34.28125 27.484375  Q 23.390625 27.484375 19.1875 25  Q 14.984375 22.515625 14.984375 16.5  Q 14.984375 11.71875 18.140625 8.90625  Q 21.296875 6.109375 26.703125 6.109375  Q 34.1875 6.109375 38.703125 11.40625  Q 43.21875 16.703125 43.21875 25.484375  L 43.21875 27.484375  z M 52.203125 31.203125  L 52.203125 0  L 43.21875 0  L 43.21875 8.296875  Q 40.140625 3.328125 35.546875 0.953125  Q 30.953125 -1.421875 24.3125 -1.421875  Q 15.921875 -1.421875 10.953125 3.296875  Q 6 8.015625 6 15.921875  Q 6 25.140625 12.171875 29.828125  Q 18.359375 34.515625 30.609375 34.515625  L 43.21875 34.515625  L 43.21875 35.40625  Q 43.21875 41.609375 39.140625 45  Q 35.0625 48.390625 27.6875 48.390625  Q 23 48.390625 18.546875 47.265625  Q 14.109375 46.140625 10.015625 43.890625  L 10.015625 52.203125  Q 14.9375 54.109375 19.578125 55.046875  Q 24.21875 56 28.609375 56  Q 40.484375 56 46.34375 49.84375  Q 52.203125 43.703125 52.203125 31.203125  z \" id=\"DejaVuSans-61\"/>\n",
       "      <path d=\"M 9.421875 54.6875  L 18.40625 54.6875  L 18.40625 0  L 9.421875 0  z M 9.421875 75.984375  L 18.40625 75.984375  L 18.40625 64.59375  L 9.421875 64.59375  z \" id=\"DejaVuSans-69\"/>\n",
       "      <path d=\"M 54.890625 33.015625  L 54.890625 0  L 45.90625 0  L 45.90625 32.71875  Q 45.90625 40.484375 42.875 44.328125  Q 39.84375 48.1875 33.796875 48.1875  Q 26.515625 48.1875 22.3125 43.546875  Q 18.109375 38.921875 18.109375 30.90625  L 18.109375 0  L 9.078125 0  L 9.078125 54.6875  L 18.109375 54.6875  L 18.109375 46.1875  Q 21.34375 51.125 25.703125 53.5625  Q 30.078125 56 35.796875 56  Q 45.21875 56 50.046875 50.171875  Q 54.890625 44.34375 54.890625 33.015625  z \" id=\"DejaVuSans-6e\"/>\n",
       "      <path d=\"M 45.40625 27.984375  Q 45.40625 37.75 41.375 43.109375  Q 37.359375 48.484375 30.078125 48.484375  Q 22.859375 48.484375 18.828125 43.109375  Q 14.796875 37.75 14.796875 27.984375  Q 14.796875 18.265625 18.828125 12.890625  Q 22.859375 7.515625 30.078125 7.515625  Q 37.359375 7.515625 41.375 12.890625  Q 45.40625 18.265625 45.40625 27.984375  z M 54.390625 6.78125  Q 54.390625 -7.171875 48.1875 -13.984375  Q 42 -20.796875 29.203125 -20.796875  Q 24.46875 -20.796875 20.265625 -20.09375  Q 16.0625 -19.390625 12.109375 -17.921875  L 12.109375 -9.1875  Q 16.0625 -11.328125 19.921875 -12.34375  Q 23.78125 -13.375 27.78125 -13.375  Q 36.625 -13.375 41.015625 -8.765625  Q 45.40625 -4.15625 45.40625 5.171875  L 45.40625 9.625  Q 42.625 4.78125 38.28125 2.390625  Q 33.9375 0 27.875 0  Q 17.828125 0 11.671875 7.65625  Q 5.515625 15.328125 5.515625 27.984375  Q 5.515625 40.671875 11.671875 48.328125  Q 17.828125 56 27.875 56  Q 33.9375 56 38.28125 53.609375  Q 42.625 51.21875 45.40625 46.390625  L 45.40625 54.6875  L 54.390625 54.6875  z \" id=\"DejaVuSans-67\"/>\n",
       "      <path d=\"M 44.28125 53.078125  L 44.28125 44.578125  Q 40.484375 46.53125 36.375 47.5  Q 32.28125 48.484375 27.875 48.484375  Q 21.1875 48.484375 17.84375 46.4375  Q 14.5 44.390625 14.5 40.28125  Q 14.5 37.15625 16.890625 35.375  Q 19.28125 33.59375 26.515625 31.984375  L 29.59375 31.296875  Q 39.15625 29.25 43.1875 25.515625  Q 47.21875 21.78125 47.21875 15.09375  Q 47.21875 7.46875 41.1875 3.015625  Q 35.15625 -1.421875 24.609375 -1.421875  Q 20.21875 -1.421875 15.453125 -0.5625  Q 10.6875 0.296875 5.421875 2  L 5.421875 11.28125  Q 10.40625 8.6875 15.234375 7.390625  Q 20.0625 6.109375 24.8125 6.109375  Q 31.15625 6.109375 34.5625 8.28125  Q 37.984375 10.453125 37.984375 14.40625  Q 37.984375 18.0625 35.515625 20.015625  Q 33.0625 21.96875 24.703125 23.78125  L 21.578125 24.515625  Q 13.234375 26.265625 9.515625 29.90625  Q 5.8125 33.546875 5.8125 39.890625  Q 5.8125 47.609375 11.28125 51.796875  Q 16.75 56 26.8125 56  Q 31.78125 56 36.171875 55.265625  Q 40.578125 54.546875 44.28125 53.078125  z \" id=\"DejaVuSans-73\"/>\n",
       "      <path d=\"M 56.203125 29.59375  L 56.203125 25.203125  L 14.890625 25.203125  Q 15.484375 15.921875 20.484375 11.0625  Q 25.484375 6.203125 34.421875 6.203125  Q 39.59375 6.203125 44.453125 7.46875  Q 49.3125 8.734375 54.109375 11.28125  L 54.109375 2.78125  Q 49.265625 0.734375 44.1875 -0.34375  Q 39.109375 -1.421875 33.890625 -1.421875  Q 20.796875 -1.421875 13.15625 6.1875  Q 5.515625 13.8125 5.515625 26.8125  Q 5.515625 40.234375 12.765625 48.109375  Q 20.015625 56 32.328125 56  Q 43.359375 56 49.78125 48.890625  Q 56.203125 41.796875 56.203125 29.59375  z M 47.21875 32.234375  Q 47.125 39.59375 43.09375 43.984375  Q 39.0625 48.390625 32.421875 48.390625  Q 24.90625 48.390625 20.390625 44.140625  Q 15.875 39.890625 15.1875 32.171875  z \" id=\"DejaVuSans-65\"/>\n",
       "      <path d=\"M 18.3125 70.21875  L 18.3125 54.6875  L 36.8125 54.6875  L 36.8125 47.703125  L 18.3125 47.703125  L 18.3125 18.015625  Q 18.3125 11.328125 20.140625 9.421875  Q 21.96875 7.515625 27.59375 7.515625  L 36.8125 7.515625  L 36.8125 0  L 27.59375 0  Q 17.1875 0 13.234375 3.875  Q 9.28125 7.765625 9.28125 18.015625  L 9.28125 47.703125  L 2.6875 47.703125  L 2.6875 54.6875  L 9.28125 54.6875  L 9.28125 70.21875  z \" id=\"DejaVuSans-74\"/>\n",
       "     </defs>\n",
       "     <g transform=\"translate(266.030114 51.158437)scale(0.1 -0.1)\">\n",
       "      <use xlink:href=\"#DejaVuSans-54\"/>\n",
       "      <use x=\"60.865234\" xlink:href=\"#DejaVuSans-72\"/>\n",
       "      <use x=\"101.978516\" xlink:href=\"#DejaVuSans-61\"/>\n",
       "      <use x=\"163.257812\" xlink:href=\"#DejaVuSans-69\"/>\n",
       "      <use x=\"191.041016\" xlink:href=\"#DejaVuSans-6e\"/>\n",
       "      <use x=\"254.419922\" xlink:href=\"#DejaVuSans-69\"/>\n",
       "      <use x=\"282.203125\" xlink:href=\"#DejaVuSans-6e\"/>\n",
       "      <use x=\"345.582031\" xlink:href=\"#DejaVuSans-67\"/>\n",
       "      <use x=\"409.058594\" xlink:href=\"#DejaVuSans-20\"/>\n",
       "      <use x=\"440.845703\" xlink:href=\"#DejaVuSans-73\"/>\n",
       "      <use x=\"492.945312\" xlink:href=\"#DejaVuSans-65\"/>\n",
       "      <use x=\"554.46875\" xlink:href=\"#DejaVuSans-74\"/>\n",
       "     </g>\n",
       "    </g>\n",
       "    <g id=\"line2d_15\">\n",
       "     <path d=\"M 238.030114 62.336562  L 258.030114 62.336562  \" style=\"fill:none;stroke:#ff7f0e;stroke-linecap:square;stroke-width:1.5;\"/>\n",
       "    </g>\n",
       "    <g id=\"line2d_16\"/>\n",
       "    <g id=\"text_14\">\n",
       "     <!-- Validation set -->\n",
       "     <defs>\n",
       "      <path d=\"M 28.609375 0  L 0.78125 72.90625  L 11.078125 72.90625  L 34.1875 11.53125  L 57.328125 72.90625  L 67.578125 72.90625  L 39.796875 0  z \" id=\"DejaVuSans-56\"/>\n",
       "      <path d=\"M 9.421875 75.984375  L 18.40625 75.984375  L 18.40625 0  L 9.421875 0  z \" id=\"DejaVuSans-6c\"/>\n",
       "      <path d=\"M 45.40625 46.390625  L 45.40625 75.984375  L 54.390625 75.984375  L 54.390625 0  L 45.40625 0  L 45.40625 8.203125  Q 42.578125 3.328125 38.25 0.953125  Q 33.9375 -1.421875 27.875 -1.421875  Q 17.96875 -1.421875 11.734375 6.484375  Q 5.515625 14.40625 5.515625 27.296875  Q 5.515625 40.1875 11.734375 48.09375  Q 17.96875 56 27.875 56  Q 33.9375 56 38.25 53.625  Q 42.578125 51.265625 45.40625 46.390625  z M 14.796875 27.296875  Q 14.796875 17.390625 18.875 11.75  Q 22.953125 6.109375 30.078125 6.109375  Q 37.203125 6.109375 41.296875 11.75  Q 45.40625 17.390625 45.40625 27.296875  Q 45.40625 37.203125 41.296875 42.84375  Q 37.203125 48.484375 30.078125 48.484375  Q 22.953125 48.484375 18.875 42.84375  Q 14.796875 37.203125 14.796875 27.296875  z \" id=\"DejaVuSans-64\"/>\n",
       "     </defs>\n",
       "     <g transform=\"translate(266.030114 65.836562)scale(0.1 -0.1)\">\n",
       "      <use xlink:href=\"#DejaVuSans-56\"/>\n",
       "      <use x=\"68.298828\" xlink:href=\"#DejaVuSans-61\"/>\n",
       "      <use x=\"129.578125\" xlink:href=\"#DejaVuSans-6c\"/>\n",
       "      <use x=\"157.361328\" xlink:href=\"#DejaVuSans-69\"/>\n",
       "      <use x=\"185.144531\" xlink:href=\"#DejaVuSans-64\"/>\n",
       "      <use x=\"248.621094\" xlink:href=\"#DejaVuSans-61\"/>\n",
       "      <use x=\"309.900391\" xlink:href=\"#DejaVuSans-74\"/>\n",
       "      <use x=\"349.109375\" xlink:href=\"#DejaVuSans-69\"/>\n",
       "      <use x=\"376.892578\" xlink:href=\"#DejaVuSans-6f\"/>\n",
       "      <use x=\"438.074219\" xlink:href=\"#DejaVuSans-6e\"/>\n",
       "      <use x=\"501.453125\" xlink:href=\"#DejaVuSans-20\"/>\n",
       "      <use x=\"533.240234\" xlink:href=\"#DejaVuSans-73\"/>\n",
       "      <use x=\"585.339844\" xlink:href=\"#DejaVuSans-65\"/>\n",
       "      <use x=\"646.863281\" xlink:href=\"#DejaVuSans-74\"/>\n",
       "     </g>\n",
       "    </g>\n",
       "   </g>\n",
       "  </g>\n",
       "  <g id=\"axes_2\">\n",
       "   <g id=\"patch_8\">\n",
       "    <path d=\"M 394.363636 252  L 648 252  L 648 34.56  L 394.363636 34.56  z \" style=\"fill:#ffffff;\"/>\n",
       "   </g>\n",
       "   <g id=\"matplotlib.axis_3\">\n",
       "    <g id=\"xtick_6\">\n",
       "     <g id=\"line2d_17\">\n",
       "      <g>\n",
       "       <use style=\"stroke:#000000;stroke-width:0.8;\" x=\"405.892562\" xlink:href=\"#m51edc5f174\" y=\"252\"/>\n",
       "      </g>\n",
       "     </g>\n",
       "     <g id=\"text_15\">\n",
       "      <!-- 0 -->\n",
       "      <g transform=\"translate(402.711312 266.598437)scale(0.1 -0.1)\">\n",
       "       <use xlink:href=\"#DejaVuSans-30\"/>\n",
       "      </g>\n",
       "     </g>\n",
       "    </g>\n",
       "    <g id=\"xtick_7\">\n",
       "     <g id=\"line2d_18\">\n",
       "      <g>\n",
       "       <use style=\"stroke:#000000;stroke-width:0.8;\" x=\"463.53719\" xlink:href=\"#m51edc5f174\" y=\"252\"/>\n",
       "      </g>\n",
       "     </g>\n",
       "     <g id=\"text_16\">\n",
       "      <!-- 10 -->\n",
       "      <g transform=\"translate(457.17469 266.598437)scale(0.1 -0.1)\">\n",
       "       <use xlink:href=\"#DejaVuSans-31\"/>\n",
       "       <use x=\"63.623047\" xlink:href=\"#DejaVuSans-30\"/>\n",
       "      </g>\n",
       "     </g>\n",
       "    </g>\n",
       "    <g id=\"xtick_8\">\n",
       "     <g id=\"line2d_19\">\n",
       "      <g>\n",
       "       <use style=\"stroke:#000000;stroke-width:0.8;\" x=\"521.181818\" xlink:href=\"#m51edc5f174\" y=\"252\"/>\n",
       "      </g>\n",
       "     </g>\n",
       "     <g id=\"text_17\">\n",
       "      <!-- 20 -->\n",
       "      <g transform=\"translate(514.819318 266.598437)scale(0.1 -0.1)\">\n",
       "       <use xlink:href=\"#DejaVuSans-32\"/>\n",
       "       <use x=\"63.623047\" xlink:href=\"#DejaVuSans-30\"/>\n",
       "      </g>\n",
       "     </g>\n",
       "    </g>\n",
       "    <g id=\"xtick_9\">\n",
       "     <g id=\"line2d_20\">\n",
       "      <g>\n",
       "       <use style=\"stroke:#000000;stroke-width:0.8;\" x=\"578.826446\" xlink:href=\"#m51edc5f174\" y=\"252\"/>\n",
       "      </g>\n",
       "     </g>\n",
       "     <g id=\"text_18\">\n",
       "      <!-- 30 -->\n",
       "      <g transform=\"translate(572.463946 266.598437)scale(0.1 -0.1)\">\n",
       "       <use xlink:href=\"#DejaVuSans-33\"/>\n",
       "       <use x=\"63.623047\" xlink:href=\"#DejaVuSans-30\"/>\n",
       "      </g>\n",
       "     </g>\n",
       "    </g>\n",
       "    <g id=\"xtick_10\">\n",
       "     <g id=\"line2d_21\">\n",
       "      <g>\n",
       "       <use style=\"stroke:#000000;stroke-width:0.8;\" x=\"636.471074\" xlink:href=\"#m51edc5f174\" y=\"252\"/>\n",
       "      </g>\n",
       "     </g>\n",
       "     <g id=\"text_19\">\n",
       "      <!-- 40 -->\n",
       "      <g transform=\"translate(630.108574 266.598437)scale(0.1 -0.1)\">\n",
       "       <use xlink:href=\"#DejaVuSans-34\"/>\n",
       "       <use x=\"63.623047\" xlink:href=\"#DejaVuSans-30\"/>\n",
       "      </g>\n",
       "     </g>\n",
       "    </g>\n",
       "    <g id=\"text_20\">\n",
       "     <!-- Epoch -->\n",
       "     <g transform=\"translate(505.870881 280.276563)scale(0.1 -0.1)\">\n",
       "      <use xlink:href=\"#DejaVuSans-45\"/>\n",
       "      <use x=\"63.183594\" xlink:href=\"#DejaVuSans-70\"/>\n",
       "      <use x=\"126.660156\" xlink:href=\"#DejaVuSans-6f\"/>\n",
       "      <use x=\"187.841797\" xlink:href=\"#DejaVuSans-63\"/>\n",
       "      <use x=\"242.822266\" xlink:href=\"#DejaVuSans-68\"/>\n",
       "     </g>\n",
       "    </g>\n",
       "   </g>\n",
       "   <g id=\"matplotlib.axis_4\">\n",
       "    <g id=\"ytick_6\">\n",
       "     <g id=\"line2d_22\">\n",
       "      <g>\n",
       "       <use style=\"stroke:#000000;stroke-width:0.8;\" x=\"394.363636\" xlink:href=\"#mb24090af5a\" y=\"233.88\"/>\n",
       "      </g>\n",
       "     </g>\n",
       "     <g id=\"text_21\">\n",
       "      <!-- 0.0 -->\n",
       "      <g transform=\"translate(371.460511 237.679219)scale(0.1 -0.1)\">\n",
       "       <use xlink:href=\"#DejaVuSans-30\"/>\n",
       "       <use x=\"63.623047\" xlink:href=\"#DejaVuSans-2e\"/>\n",
       "       <use x=\"95.410156\" xlink:href=\"#DejaVuSans-30\"/>\n",
       "      </g>\n",
       "     </g>\n",
       "    </g>\n",
       "    <g id=\"ytick_7\">\n",
       "     <g id=\"line2d_23\">\n",
       "      <g>\n",
       "       <use style=\"stroke:#000000;stroke-width:0.8;\" x=\"394.363636\" xlink:href=\"#mb24090af5a\" y=\"197.64\"/>\n",
       "      </g>\n",
       "     </g>\n",
       "     <g id=\"text_22\">\n",
       "      <!-- 0.2 -->\n",
       "      <g transform=\"translate(371.460511 201.439219)scale(0.1 -0.1)\">\n",
       "       <use xlink:href=\"#DejaVuSans-30\"/>\n",
       "       <use x=\"63.623047\" xlink:href=\"#DejaVuSans-2e\"/>\n",
       "       <use x=\"95.410156\" xlink:href=\"#DejaVuSans-32\"/>\n",
       "      </g>\n",
       "     </g>\n",
       "    </g>\n",
       "    <g id=\"ytick_8\">\n",
       "     <g id=\"line2d_24\">\n",
       "      <g>\n",
       "       <use style=\"stroke:#000000;stroke-width:0.8;\" x=\"394.363636\" xlink:href=\"#mb24090af5a\" y=\"161.4\"/>\n",
       "      </g>\n",
       "     </g>\n",
       "     <g id=\"text_23\">\n",
       "      <!-- 0.4 -->\n",
       "      <g transform=\"translate(371.460511 165.199219)scale(0.1 -0.1)\">\n",
       "       <use xlink:href=\"#DejaVuSans-30\"/>\n",
       "       <use x=\"63.623047\" xlink:href=\"#DejaVuSans-2e\"/>\n",
       "       <use x=\"95.410156\" xlink:href=\"#DejaVuSans-34\"/>\n",
       "      </g>\n",
       "     </g>\n",
       "    </g>\n",
       "    <g id=\"ytick_9\">\n",
       "     <g id=\"line2d_25\">\n",
       "      <g>\n",
       "       <use style=\"stroke:#000000;stroke-width:0.8;\" x=\"394.363636\" xlink:href=\"#mb24090af5a\" y=\"125.16\"/>\n",
       "      </g>\n",
       "     </g>\n",
       "     <g id=\"text_24\">\n",
       "      <!-- 0.6 -->\n",
       "      <defs>\n",
       "       <path d=\"M 33.015625 40.375  Q 26.375 40.375 22.484375 35.828125  Q 18.609375 31.296875 18.609375 23.390625  Q 18.609375 15.53125 22.484375 10.953125  Q 26.375 6.390625 33.015625 6.390625  Q 39.65625 6.390625 43.53125 10.953125  Q 47.40625 15.53125 47.40625 23.390625  Q 47.40625 31.296875 43.53125 35.828125  Q 39.65625 40.375 33.015625 40.375  z M 52.59375 71.296875  L 52.59375 62.3125  Q 48.875 64.0625 45.09375 64.984375  Q 41.3125 65.921875 37.59375 65.921875  Q 27.828125 65.921875 22.671875 59.328125  Q 17.53125 52.734375 16.796875 39.40625  Q 19.671875 43.65625 24.015625 45.921875  Q 28.375 48.1875 33.59375 48.1875  Q 44.578125 48.1875 50.953125 41.515625  Q 57.328125 34.859375 57.328125 23.390625  Q 57.328125 12.15625 50.6875 5.359375  Q 44.046875 -1.421875 33.015625 -1.421875  Q 20.359375 -1.421875 13.671875 8.265625  Q 6.984375 17.96875 6.984375 36.375  Q 6.984375 53.65625 15.1875 63.9375  Q 23.390625 74.21875 37.203125 74.21875  Q 40.921875 74.21875 44.703125 73.484375  Q 48.484375 72.75 52.59375 71.296875  z \" id=\"DejaVuSans-36\"/>\n",
       "      </defs>\n",
       "      <g transform=\"translate(371.460511 128.959219)scale(0.1 -0.1)\">\n",
       "       <use xlink:href=\"#DejaVuSans-30\"/>\n",
       "       <use x=\"63.623047\" xlink:href=\"#DejaVuSans-2e\"/>\n",
       "       <use x=\"95.410156\" xlink:href=\"#DejaVuSans-36\"/>\n",
       "      </g>\n",
       "     </g>\n",
       "    </g>\n",
       "    <g id=\"ytick_10\">\n",
       "     <g id=\"line2d_26\">\n",
       "      <g>\n",
       "       <use style=\"stroke:#000000;stroke-width:0.8;\" x=\"394.363636\" xlink:href=\"#mb24090af5a\" y=\"88.92\"/>\n",
       "      </g>\n",
       "     </g>\n",
       "     <g id=\"text_25\">\n",
       "      <!-- 0.8 -->\n",
       "      <defs>\n",
       "       <path d=\"M 31.78125 34.625  Q 24.75 34.625 20.71875 30.859375  Q 16.703125 27.09375 16.703125 20.515625  Q 16.703125 13.921875 20.71875 10.15625  Q 24.75 6.390625 31.78125 6.390625  Q 38.8125 6.390625 42.859375 10.171875  Q 46.921875 13.96875 46.921875 20.515625  Q 46.921875 27.09375 42.890625 30.859375  Q 38.875 34.625 31.78125 34.625  z M 21.921875 38.8125  Q 15.578125 40.375 12.03125 44.71875  Q 8.5 49.078125 8.5 55.328125  Q 8.5 64.0625 14.71875 69.140625  Q 20.953125 74.21875 31.78125 74.21875  Q 42.671875 74.21875 48.875 69.140625  Q 55.078125 64.0625 55.078125 55.328125  Q 55.078125 49.078125 51.53125 44.71875  Q 48 40.375 41.703125 38.8125  Q 48.828125 37.15625 52.796875 32.3125  Q 56.78125 27.484375 56.78125 20.515625  Q 56.78125 9.90625 50.3125 4.234375  Q 43.84375 -1.421875 31.78125 -1.421875  Q 19.734375 -1.421875 13.25 4.234375  Q 6.78125 9.90625 6.78125 20.515625  Q 6.78125 27.484375 10.78125 32.3125  Q 14.796875 37.15625 21.921875 38.8125  z M 18.3125 54.390625  Q 18.3125 48.734375 21.84375 45.5625  Q 25.390625 42.390625 31.78125 42.390625  Q 38.140625 42.390625 41.71875 45.5625  Q 45.3125 48.734375 45.3125 54.390625  Q 45.3125 60.0625 41.71875 63.234375  Q 38.140625 66.40625 31.78125 66.40625  Q 25.390625 66.40625 21.84375 63.234375  Q 18.3125 60.0625 18.3125 54.390625  z \" id=\"DejaVuSans-38\"/>\n",
       "      </defs>\n",
       "      <g transform=\"translate(371.460511 92.719219)scale(0.1 -0.1)\">\n",
       "       <use xlink:href=\"#DejaVuSans-30\"/>\n",
       "       <use x=\"63.623047\" xlink:href=\"#DejaVuSans-2e\"/>\n",
       "       <use x=\"95.410156\" xlink:href=\"#DejaVuSans-38\"/>\n",
       "      </g>\n",
       "     </g>\n",
       "    </g>\n",
       "    <g id=\"ytick_11\">\n",
       "     <g id=\"line2d_27\">\n",
       "      <g>\n",
       "       <use style=\"stroke:#000000;stroke-width:0.8;\" x=\"394.363636\" xlink:href=\"#mb24090af5a\" y=\"52.68\"/>\n",
       "      </g>\n",
       "     </g>\n",
       "     <g id=\"text_26\">\n",
       "      <!-- 1.0 -->\n",
       "      <g transform=\"translate(371.460511 56.479219)scale(0.1 -0.1)\">\n",
       "       <use xlink:href=\"#DejaVuSans-31\"/>\n",
       "       <use x=\"63.623047\" xlink:href=\"#DejaVuSans-2e\"/>\n",
       "       <use x=\"95.410156\" xlink:href=\"#DejaVuSans-30\"/>\n",
       "      </g>\n",
       "     </g>\n",
       "    </g>\n",
       "   </g>\n",
       "   <g id=\"line2d_28\">\n",
       "    <path clip-path=\"url(#p4821c49177)\" d=\"M 405.892562 218.68638  L 411.657025 96.51832  L 417.421488 74.36662  L 423.18595 71.15334  L 428.950413 69.4863  L 434.714876 68.06086  L 440.479339 67.13674  L 446.243802 66.79548  L 452.008264 66.13712  L 457.772727 65.53312  L 463.53719 65.13448  L 469.301653 64.96838  L 475.066116 64.87778  L 480.830579 64.44894  L 486.595041 64.41572  L 492.359504 64.13486  L 498.123967 63.90534  L 503.88843 63.96574  L 509.652893 63.98084  L 515.417355 63.6124  L 521.181818 63.50368  L 526.946281 63.39798  L 532.710744 63.0839  L 538.475207 63.11712  L 544.239669 63.16846  L 550.004132 63.33154  L 555.768595 62.83324  L 561.533058 63.0839  L 567.297521 62.88458  L 573.061983 62.8725  L 578.826446 62.86948  L 584.590909 62.81512  L 590.355372 62.50406  L 596.119835 62.53728  L 601.884298 62.61278  L 607.64876 62.67016  L 613.413223 62.54936  L 619.177686 62.69734  L 624.942149 62.55238  L 630.706612 62.29568  L 636.471074 62.24132  \" style=\"fill:none;stroke:#1f77b4;stroke-linecap:square;stroke-width:1.5;\"/>\n",
       "   </g>\n",
       "   <g id=\"line2d_29\">\n",
       "    <path clip-path=\"url(#p4821c49177)\" d=\"M 405.892562 219.09408  L 411.657025 67.86456  L 417.421488 64.96536  L 423.18595 63.86004  L 428.950413 62.77284  L 434.714876 62.44668  L 440.479339 61.57692  L 446.243802 61.08768  L 452.008264 60.9246  L 457.772727 61.06956  L 463.53719 60.5622  L 469.301653 60.6528  L 475.066116 60.1998  L 480.830579 60.34476  L 486.595041 59.96424  L 492.359504 60.41724  L 498.123967 60.03672  L 503.88843 59.98236  L 509.652893 59.87364  L 515.417355 60.18168  L 521.181818 59.80116  L 526.946281 59.98236  L 532.710744 60.18168  L 538.475207 59.87364  L 544.239669 59.6562  L 550.004132 59.40252  L 555.768595 59.61996  L 561.533058 59.69244  L 567.297521 60.07296  L 573.061983 59.5656  L 578.826446 59.89176  L 584.590909 59.89176  L 590.355372 59.81928  L 596.119835 59.51124  L 601.884298 59.3844  L 607.64876 59.6562  L 613.413223 59.78304  L 619.177686 59.69244  L 624.942149 59.61996  L 630.706612 59.52936  L 636.471074 59.5656  \" style=\"fill:none;stroke:#ff7f0e;stroke-linecap:square;stroke-width:1.5;\"/>\n",
       "   </g>\n",
       "   <g id=\"patch_9\">\n",
       "    <path d=\"M 394.363636 252  L 394.363636 34.56  \" style=\"fill:none;stroke:#000000;stroke-linecap:square;stroke-linejoin:miter;stroke-width:0.8;\"/>\n",
       "   </g>\n",
       "   <g id=\"patch_10\">\n",
       "    <path d=\"M 648 252  L 648 34.56  \" style=\"fill:none;stroke:#000000;stroke-linecap:square;stroke-linejoin:miter;stroke-width:0.8;\"/>\n",
       "   </g>\n",
       "   <g id=\"patch_11\">\n",
       "    <path d=\"M 394.363636 252  L 648 252  \" style=\"fill:none;stroke:#000000;stroke-linecap:square;stroke-linejoin:miter;stroke-width:0.8;\"/>\n",
       "   </g>\n",
       "   <g id=\"patch_12\">\n",
       "    <path d=\"M 394.363636 34.56  L 648 34.56  \" style=\"fill:none;stroke:#000000;stroke-linecap:square;stroke-linejoin:miter;stroke-width:0.8;\"/>\n",
       "   </g>\n",
       "   <g id=\"text_27\">\n",
       "    <!-- MNIST_MLP: Accuracy -->\n",
       "    <defs>\n",
       "     <path d=\"M 34.1875 63.1875  L 20.796875 26.90625  L 47.609375 26.90625  z M 28.609375 72.90625  L 39.796875 72.90625  L 67.578125 0  L 57.328125 0  L 50.6875 18.703125  L 17.828125 18.703125  L 11.1875 0  L 0.78125 0  z \" id=\"DejaVuSans-41\"/>\n",
       "     <path d=\"M 8.5 21.578125  L 8.5 54.6875  L 17.484375 54.6875  L 17.484375 21.921875  Q 17.484375 14.15625 20.5 10.265625  Q 23.53125 6.390625 29.59375 6.390625  Q 36.859375 6.390625 41.078125 11.03125  Q 45.3125 15.671875 45.3125 23.6875  L 45.3125 54.6875  L 54.296875 54.6875  L 54.296875 0  L 45.3125 0  L 45.3125 8.40625  Q 42.046875 3.421875 37.71875 1  Q 33.40625 -1.421875 27.6875 -1.421875  Q 18.265625 -1.421875 13.375 4.4375  Q 8.5 10.296875 8.5 21.578125  z M 31.109375 56  z \" id=\"DejaVuSans-75\"/>\n",
       "     <path d=\"M 32.171875 -5.078125  Q 28.375 -14.84375 24.75 -17.8125  Q 21.140625 -20.796875 15.09375 -20.796875  L 7.90625 -20.796875  L 7.90625 -13.28125  L 13.1875 -13.28125  Q 16.890625 -13.28125 18.9375 -11.515625  Q 21 -9.765625 23.484375 -3.21875  L 25.09375 0.875  L 2.984375 54.6875  L 12.5 54.6875  L 29.59375 11.921875  L 46.6875 54.6875  L 56.203125 54.6875  z \" id=\"DejaVuSans-79\"/>\n",
       "    </defs>\n",
       "    <g transform=\"translate(455.708693 28.56)scale(0.12 -0.12)\">\n",
       "     <use xlink:href=\"#DejaVuSans-4d\"/>\n",
       "     <use x=\"86.279297\" xlink:href=\"#DejaVuSans-4e\"/>\n",
       "     <use x=\"161.083984\" xlink:href=\"#DejaVuSans-49\"/>\n",
       "     <use x=\"190.576172\" xlink:href=\"#DejaVuSans-53\"/>\n",
       "     <use x=\"254.052734\" xlink:href=\"#DejaVuSans-54\"/>\n",
       "     <use x=\"315.136719\" xlink:href=\"#DejaVuSans-5f\"/>\n",
       "     <use x=\"365.136719\" xlink:href=\"#DejaVuSans-4d\"/>\n",
       "     <use x=\"451.416016\" xlink:href=\"#DejaVuSans-4c\"/>\n",
       "     <use x=\"507.128906\" xlink:href=\"#DejaVuSans-50\"/>\n",
       "     <use x=\"567.431641\" xlink:href=\"#DejaVuSans-3a\"/>\n",
       "     <use x=\"601.123047\" xlink:href=\"#DejaVuSans-20\"/>\n",
       "     <use x=\"632.910156\" xlink:href=\"#DejaVuSans-41\"/>\n",
       "     <use x=\"701.302734\" xlink:href=\"#DejaVuSans-63\"/>\n",
       "     <use x=\"756.283203\" xlink:href=\"#DejaVuSans-63\"/>\n",
       "     <use x=\"811.263672\" xlink:href=\"#DejaVuSans-75\"/>\n",
       "     <use x=\"874.642578\" xlink:href=\"#DejaVuSans-72\"/>\n",
       "     <use x=\"915.755859\" xlink:href=\"#DejaVuSans-61\"/>\n",
       "     <use x=\"977.035156\" xlink:href=\"#DejaVuSans-63\"/>\n",
       "     <use x=\"1032.015625\" xlink:href=\"#DejaVuSans-79\"/>\n",
       "    </g>\n",
       "   </g>\n",
       "   <g id=\"legend_2\">\n",
       "    <g id=\"patch_13\">\n",
       "     <path d=\"M 540.39375 247  L 641 247  Q 643 247 643 245  L 643 216.64375  Q 643 214.64375 641 214.64375  L 540.39375 214.64375  Q 538.39375 214.64375 538.39375 216.64375  L 538.39375 245  Q 538.39375 247 540.39375 247  z \" style=\"fill:#ffffff;opacity:0.8;stroke:#cccccc;stroke-linejoin:miter;\"/>\n",
       "    </g>\n",
       "    <g id=\"line2d_30\">\n",
       "     <path d=\"M 542.39375 222.742188  L 562.39375 222.742188  \" style=\"fill:none;stroke:#1f77b4;stroke-linecap:square;stroke-width:1.5;\"/>\n",
       "    </g>\n",
       "    <g id=\"line2d_31\"/>\n",
       "    <g id=\"text_28\">\n",
       "     <!-- Training set -->\n",
       "     <g transform=\"translate(570.39375 226.242188)scale(0.1 -0.1)\">\n",
       "      <use xlink:href=\"#DejaVuSans-54\"/>\n",
       "      <use x=\"60.865234\" xlink:href=\"#DejaVuSans-72\"/>\n",
       "      <use x=\"101.978516\" xlink:href=\"#DejaVuSans-61\"/>\n",
       "      <use x=\"163.257812\" xlink:href=\"#DejaVuSans-69\"/>\n",
       "      <use x=\"191.041016\" xlink:href=\"#DejaVuSans-6e\"/>\n",
       "      <use x=\"254.419922\" xlink:href=\"#DejaVuSans-69\"/>\n",
       "      <use x=\"282.203125\" xlink:href=\"#DejaVuSans-6e\"/>\n",
       "      <use x=\"345.582031\" xlink:href=\"#DejaVuSans-67\"/>\n",
       "      <use x=\"409.058594\" xlink:href=\"#DejaVuSans-20\"/>\n",
       "      <use x=\"440.845703\" xlink:href=\"#DejaVuSans-73\"/>\n",
       "      <use x=\"492.945312\" xlink:href=\"#DejaVuSans-65\"/>\n",
       "      <use x=\"554.46875\" xlink:href=\"#DejaVuSans-74\"/>\n",
       "     </g>\n",
       "    </g>\n",
       "    <g id=\"line2d_32\">\n",
       "     <path d=\"M 542.39375 237.420312  L 562.39375 237.420312  \" style=\"fill:none;stroke:#ff7f0e;stroke-linecap:square;stroke-width:1.5;\"/>\n",
       "    </g>\n",
       "    <g id=\"line2d_33\"/>\n",
       "    <g id=\"text_29\">\n",
       "     <!-- Validation set -->\n",
       "     <g transform=\"translate(570.39375 240.920312)scale(0.1 -0.1)\">\n",
       "      <use xlink:href=\"#DejaVuSans-56\"/>\n",
       "      <use x=\"68.298828\" xlink:href=\"#DejaVuSans-61\"/>\n",
       "      <use x=\"129.578125\" xlink:href=\"#DejaVuSans-6c\"/>\n",
       "      <use x=\"157.361328\" xlink:href=\"#DejaVuSans-69\"/>\n",
       "      <use x=\"185.144531\" xlink:href=\"#DejaVuSans-64\"/>\n",
       "      <use x=\"248.621094\" xlink:href=\"#DejaVuSans-61\"/>\n",
       "      <use x=\"309.900391\" xlink:href=\"#DejaVuSans-74\"/>\n",
       "      <use x=\"349.109375\" xlink:href=\"#DejaVuSans-69\"/>\n",
       "      <use x=\"376.892578\" xlink:href=\"#DejaVuSans-6f\"/>\n",
       "      <use x=\"438.074219\" xlink:href=\"#DejaVuSans-6e\"/>\n",
       "      <use x=\"501.453125\" xlink:href=\"#DejaVuSans-20\"/>\n",
       "      <use x=\"533.240234\" xlink:href=\"#DejaVuSans-73\"/>\n",
       "      <use x=\"585.339844\" xlink:href=\"#DejaVuSans-65\"/>\n",
       "      <use x=\"646.863281\" xlink:href=\"#DejaVuSans-74\"/>\n",
       "     </g>\n",
       "    </g>\n",
       "   </g>\n",
       "  </g>\n",
       " </g>\n",
       " <defs>\n",
       "  <clipPath id=\"p71bc837e41\">\n",
       "   <rect height=\"217.44\" width=\"253.636364\" x=\"90\" y=\"34.56\"/>\n",
       "  </clipPath>\n",
       "  <clipPath id=\"p4821c49177\">\n",
       "   <rect height=\"217.44\" width=\"253.636364\" x=\"394.363636\" y=\"34.56\"/>\n",
       "  </clipPath>\n",
       " </defs>\n",
       "</svg>"
      ],
      "text/plain": [
       "<IPython.core.display.SVG object>"
      ]
     },
     "metadata": {},
     "output_type": "display_data"
    },
    {
     "name": "stdout",
     "output_type": "stream",
     "text": [
      "========================================================\n",
      "       |  Training |  Training |  Validate |  Validate \n",
      "Epochs |     Error |  Accuracy |     Error |  Accuracy \n",
      "------ | --------- | --------- | --------- | --------- \n",
      "#   40 |   0.18735 |   0.94723 |   0.15364 |   0.96200 \n"
     ]
    }
   ],
   "source": [
    "net.train(epochs=40, batch_size=128)"
   ]
  },
  {
   "cell_type": "markdown",
   "metadata": {},
   "source": [
    "The detailed epoch-by-epoch training history of the network is available by calling `show_results()`. The optional `report_rate` keyword specifies which epochs to show."
   ]
  },
  {
   "cell_type": "code",
   "execution_count": 22,
   "metadata": {},
   "outputs": [
    {
     "name": "stdout",
     "output_type": "stream",
     "text": [
      "       |  Training |  Training |  Validate |  Validate \n",
      "Epochs |     Error |  Accuracy |     Error |  Accuracy \n",
      "------ | --------- | --------- | --------- | --------- \n",
      "#    0 |   2.36458 |   0.08385 |   2.36937 |   0.08160 \n",
      "#    5 |   0.29281 |   0.91512 |   0.18029 |   0.94610 \n",
      "#   10 |   0.23468 |   0.93127 |   0.15187 |   0.95650 \n",
      "#   15 |   0.21636 |   0.93678 |   0.14723 |   0.95730 \n",
      "#   20 |   0.20377 |   0.94027 |   0.14854 |   0.96070 \n",
      "#   25 |   0.20363 |   0.94122 |   0.14578 |   0.96290 \n",
      "#   30 |   0.19567 |   0.94377 |   0.15074 |   0.96020 \n",
      "#   35 |   0.19126 |   0.94487 |   0.15598 |   0.96150 \n",
      "#   40 |   0.18735 |   0.94723 |   0.15364 |   0.96200 \n",
      "========================================================\n",
      "#   40 |   0.18735 |   0.94723 |   0.15364 |   0.96200 \n"
     ]
    }
   ],
   "source": [
    "net.show_results(report_rate=5)"
   ]
  },
  {
   "cell_type": "markdown",
   "metadata": {},
   "source": [
    "The `plot` method shows the value of various network metrics during training. The metrics `loss` and `val_loss` represent the value of the error (loss) function on the training and testing sets, respectively.  Likewise, `acc` and `val_acc` represent the accuracy of the training and testing sets, respectively. The optional `ymin` and `ymax` keywords can be used to adjust the y-axis scale. For example:"
   ]
  },
  {
   "cell_type": "code",
   "execution_count": 23,
   "metadata": {},
   "outputs": [
    {
     "data": {
      "image/png": "[encoded data removed]",
      "text/plain": [
       "<matplotlib.figure.Figure at 0x11e761908>"
      ]
     },
     "metadata": {},
     "output_type": "display_data"
    }
   ],
   "source": [
    "net.plot(['acc', 'val_acc'], ymin=0.9, ymax=1)"
   ]
  },
  {
   "cell_type": "code",
   "execution_count": 24,
   "metadata": {},
   "outputs": [
    {
     "data": {
      "image/png": "[encoded data removed]",
      "text/plain": [
       "<matplotlib.figure.Figure at 0x1319ddf60>"
      ]
     },
     "metadata": {},
     "output_type": "display_data"
    }
   ],
   "source": [
    "net.plot(['loss', 'val_loss'], ymin=0, ymax=0.3)"
   ]
  },
  {
   "cell_type": "markdown",
   "metadata": {},
   "source": [
    "After training, the index of the largest output value in response to an input image corresponds to the network's digit classification. For example, test input #42 is shown below, along with the network's response."
   ]
  },
  {
   "cell_type": "code",
   "execution_count": 25,
   "metadata": {},
   "outputs": [
    {
     "data": {
      "image/png": "[encoded data removed]",
      "text/plain": [
       "<matplotlib.figure.Figure at 0x11aa40f28>"
      ]
     },
     "metadata": {},
     "output_type": "display_data"
    }
   ],
   "source": [
    "cx.view(net.dataset.test_inputs[42])"
   ]
  },
  {
   "cell_type": "code",
   "execution_count": 26,
   "metadata": {},
   "outputs": [
    {
     "data": {
      "text/plain": [
       "[8.003044407733917e-12,\n",
       " 4.14482776989189e-08,\n",
       " 2.9302846087375656e-06,\n",
       " 3.158657364110695e-06,\n",
       " 0.9854525327682495,\n",
       " 3.7257711937854765e-06,\n",
       " 1.7312998257246193e-10,\n",
       " 0.00046544571523554623,\n",
       " 3.208596410786413e-07,\n",
       " 0.014071854762732983]"
      ]
     },
     "execution_count": 26,
     "metadata": {},
     "output_type": "execute_result"
    }
   ],
   "source": [
    "net.propagate(net.dataset.test_inputs[42])"
   ]
  },
  {
   "cell_type": "code",
   "execution_count": 27,
   "metadata": {},
   "outputs": [
    {
     "data": {
      "text/plain": [
       "4"
      ]
     },
     "execution_count": 27,
     "metadata": {},
     "output_type": "execute_result"
    }
   ],
   "source": [
    "cx.argmax(net.propagate(net.dataset.test_inputs[42]))"
   ]
  },
  {
   "cell_type": "markdown",
   "metadata": {},
   "source": [
    "Examining the weights into the same three hidden units as before shows that these units have learned to respond in different ways to different parts of the input image."
   ]
  },
  {
   "cell_type": "code",
   "execution_count": 28,
   "metadata": {},
   "outputs": [
    {
     "data": {
      "image/png": "[encoded data removed]",
      "text/plain": [
       "<matplotlib.figure.Figure at 0x11c5da6d8>"
      ]
     },
     "metadata": {},
     "output_type": "display_data"
    }
   ],
   "source": [
    "net.plot_layer_weights('hidden1', units=[0,1,2], vshape=(28,28), wrange=(-1.5, 1.5))"
   ]
  },
  {
   "cell_type": "markdown",
   "metadata": {},
   "source": [
    "## A Convolutional Network for MNIST Classification\n",
    "\n",
    "Convolutional neural networks (CNNs) are loosely inspired by the neurobiology of the visual system. The key idea is that each unit in a convolutional layer receives connections from a limited number of units in the previous layer (which can be thought of as the unit's \"visual field\"), and these connections are arranged in a two-dimensional topology to take advantage of spatial information. Each convolutional layer specifies a number of independent *features* to be learned, along with the *N*&nbsp;&times;&nbsp;*N* size of the visual field (also called the *kernel size*). The units responsible for learning a feature share connections across the entire convolutional layer, which often leads to far fewer network parameters compared to a network with fully-connected layers.\n",
    "\n",
    "Another type of layer common to CNNs is the *pooling* layer, which reduces the amount of information flowing through the network by the process of subsampling. Each pooling unit receives input from a limited number of units in the previous layer, and then applies some function (like *maximum* or *average*) to these inputs. The overall effect is to produce a coarser-grained version of the information from the previous layer, which makes the network less sensitive to small variations in position.\n",
    "\n",
    "We will define a CNN for MNIST classification using two convolutional layers with 5 &times; 5 kernels, each followed by a pooling layer with 2 &times; 2 kernels that compute the maximum of their inputs. The first convolutional layer will learn 16 relatively low-level features, whereas the second will learn 32 higher-level features. These features will then feed into a hidden layer (after being flattened), followed by an output classification layer using *Softmax*."
   ]
  },
  {
   "cell_type": "code",
   "execution_count": 29,
   "metadata": {},
   "outputs": [],
   "source": [
    "cnn = cx.Network(\"MNIST_CNN\")\n",
    "\n",
    "cnn.add(cx.Layer(\"input\", (28,28,1), colormap=\"gray\"),\n",
    "        cx.Conv2DLayer(\"conv2D_1\", 16, (5,5), activation=\"relu\", dropout=0.2),\n",
    "        cx.MaxPool2DLayer(\"maxpool1\", (2,2)),\n",
    "        cx.Conv2DLayer(\"conv2D_2\", 32, (5,5), activation=\"relu\", dropout=0.2),\n",
    "        cx.MaxPool2DLayer(\"maxpool2\", (2,2)),\n",
    "        cx.FlattenLayer(\"flat\"),\n",
    "        cx.Layer(\"hidden\", 30, activation='relu'),\n",
    "        cx.Layer(\"output\", 10, activation='softmax'))\n",
    "\n",
    "cnn.connect()"
   ]
  },
  {
   "cell_type": "code",
   "execution_count": 30,
   "metadata": {},
   "outputs": [
    {
     "name": "stdout",
     "output_type": "stream",
     "text": [
      "_________________________________________________________________\n",
      "MNIST:\n",
      "Patterns    Shape                 Range                         \n",
      "=================================================================\n",
      "inputs      (28, 28, 1)           (0.0, 1.0)                    \n",
      "targets     (10,)                 (0.0, 1.0)                    \n",
      "=================================================================\n",
      "Total patterns: 70000\n",
      "   Training patterns: 60000\n",
      "   Testing patterns: 10000\n",
      "_________________________________________________________________\n"
     ]
    }
   ],
   "source": [
    "cnn.dataset.get(\"MNIST\")\n",
    "cnn.dataset.split(10000)\n",
    "cnn.dataset.summary()"
   ]
  },
  {
   "cell_type": "code",
   "execution_count": 31,
   "metadata": {},
   "outputs": [
    {
     "name": "stdout",
     "output_type": "stream",
     "text": [
      "_________________________________________________________________\n",
      "Layer (type)                 Output Shape              Param #   \n",
      "=================================================================\n",
      "input (InputLayer)           (None, 28, 28, 1)         0         \n",
      "_________________________________________________________________\n",
      "conv2D_1 (Conv2D)            (None, 24, 24, 16)        416       \n",
      "_________________________________________________________________\n",
      "dropout_3 (Dropout)          (None, 24, 24, 16)        0         \n",
      "_________________________________________________________________\n",
      "maxpool1 (MaxPooling2D)      (None, 12, 12, 16)        0         \n",
      "_________________________________________________________________\n",
      "conv2D_2 (Conv2D)            (None, 8, 8, 32)          12832     \n",
      "_________________________________________________________________\n",
      "dropout_4 (Dropout)          (None, 8, 8, 32)          0         \n",
      "_________________________________________________________________\n",
      "maxpool2 (MaxPooling2D)      (None, 4, 4, 32)          0         \n",
      "_________________________________________________________________\n",
      "flat (Flatten)               (None, 512)               0         \n",
      "_________________________________________________________________\n",
      "hidden (Dense)               (None, 30)                15390     \n",
      "_________________________________________________________________\n",
      "output (Dense)               (None, 10)                310       \n",
      "=================================================================\n",
      "Total params: 28,948\n",
      "Trainable params: 28,948\n",
      "Non-trainable params: 0\n",
      "_________________________________________________________________\n"
     ]
    }
   ],
   "source": [
    "cnn.compile(error='categorical_crossentropy', optimizer='rmsprop')\n",
    "cnn.summary()"
   ]
  },
  {
   "cell_type": "code",
   "execution_count": 32,
   "metadata": {},
   "outputs": [
    {
     "data": {
      "application/vnd.jupyter.widget-view+json": {
       "model_id": "049b7810434b4ec0a2914c8ec6aa5c0b",
       "version_major": 2,
       "version_minor": 0
      },
      "text/html": [
       "<p>Failed to display Jupyter Widget of type <code>Dashboard</code>.</p>\n",
       "<p>\n",
       "  If you're reading this message in the Jupyter Notebook or JupyterLab Notebook, it may mean\n",
       "  that the widgets JavaScript is still loading. If this message persists, it\n",
       "  likely means that the widgets JavaScript library is either not installed or\n",
       "  not enabled. See the <a href=\"https://ipywidgets.readthedocs.io/en/stable/user_install.html\">Jupyter\n",
       "  Widgets Documentation</a> for setup instructions.\n",
       "</p>\n",
       "<p>\n",
       "  If you're reading this message in another frontend (for example, a static\n",
       "  rendering on GitHub or <a href=\"https://nbviewer.jupyter.org/\">NBViewer</a>),\n",
       "  it may mean that your frontend doesn't currently support widgets.\n",
       "</p>\n"
      ],
      "text/plain": [
       "Dashboard(children=(Accordion(children=(HBox(children=(VBox(children=(Select(description='Dataset:', options=('Test', 'Train'), rows=1, value='Test'), FloatSlider(value=1.0, continuous_update=False, description='Zoom', layout=Layout(width='65%'), max=1.0, style=SliderStyle(description_width='initial')), IntText(value=150, description='Horizontal space between banks:', style=DescriptionStyle(description_width='initial')), IntText(value=30, description='Vertical space between layers:', style=DescriptionStyle(description_width='initial')), HBox(children=(Checkbox(value=True, description='Show Targets', style=DescriptionStyle(description_width='initial')), Checkbox(value=False, description='Errors', style=DescriptionStyle(description_width='initial')))), Select(description='Features:', index=2, options=('', 'input', 'conv2D_1', 'maxpool1', 'conv2D_2', 'maxpool2'), rows=1, value='conv2D_1'), IntText(value=8, description='Feature columns:', style=DescriptionStyle(description_width='initial')), FloatText(value=4.0, description='Feature scale:', style=DescriptionStyle(description_width='initial'))), layout=Layout(width='100%')), VBox(children=(Select(description='Layer:', index=7, options=('input', 'conv2D_1', 'maxpool1', 'conv2D_2', 'maxpool2', 'flat', 'hidden', 'output'), rows=1, value='output'), Checkbox(value=True, description='Visible'), Select(description='Colormap:', options=('', 'Accent', 'Accent_r', 'Blues', 'Blues_r', 'BrBG', 'BrBG_r', 'BuGn', 'BuGn_r', 'BuPu', 'BuPu_r', 'CMRmap', 'CMRmap_r', 'Dark2', 'Dark2_r', 'GnBu', 'GnBu_r', 'Greens', 'Greens_r', 'Greys', 'Greys_r', 'OrRd', 'OrRd_r', 'Oranges', 'Oranges_r', 'PRGn', 'PRGn_r', 'Paired', 'Paired_r', 'Pastel1', 'Pastel1_r', 'Pastel2', 'Pastel2_r', 'PiYG', 'PiYG_r', 'PuBu', 'PuBuGn', 'PuBuGn_r', 'PuBu_r', 'PuOr', 'PuOr_r', 'PuRd', 'PuRd_r', 'Purples', 'Purples_r', 'RdBu', 'RdBu_r', 'RdGy', 'RdGy_r', 'RdPu', 'RdPu_r', 'RdYlBu', 'RdYlBu_r', 'RdYlGn', 'RdYlGn_r', 'Reds', 'Reds_r', 'Set1', 'Set1_r', 'Set2', 'Set2_r', 'Set3', 'Set3_r', 'Spectral', 'Spectral_r', 'Vega10', 'Vega10_r', 'Vega20', 'Vega20_r', 'Vega20b', 'Vega20b_r', 'Vega20c', 'Vega20c_r', 'Wistia', 'Wistia_r', 'YlGn', 'YlGnBu', 'YlGnBu_r', 'YlGn_r', 'YlOrBr', 'YlOrBr_r', 'YlOrRd', 'YlOrRd_r', 'afmhot', 'afmhot_r', 'autumn', 'autumn_r', 'binary', 'binary_r', 'bone', 'bone_r', 'brg', 'brg_r', 'bwr', 'bwr_r', 'cool', 'cool_r', 'coolwarm', 'coolwarm_r', 'copper', 'copper_r', 'cubehelix', 'cubehelix_r', 'flag', 'flag_r', 'gist_earth', 'gist_earth_r', 'gist_gray', 'gist_gray_r', 'gist_heat', 'gist_heat_r', 'gist_ncar', 'gist_ncar_r', 'gist_rainbow', 'gist_rainbow_r', 'gist_stern', 'gist_stern_r', 'gist_yarg', 'gist_yarg_r', 'gnuplot', 'gnuplot2', 'gnuplot2_r', 'gnuplot_r', 'gray', 'gray_r', 'hot', 'hot_r', 'hsv', 'hsv_r', 'inferno', 'inferno_r', 'jet', 'jet_r', 'magma', 'magma_r', 'nipy_spectral', 'nipy_spectral_r', 'ocean', 'ocean_r', 'pink', 'pink_r', 'plasma', 'plasma_r', 'prism', 'prism_r', 'rainbow', 'rainbow_r', 'seismic', 'seismic_r', 'spectral', 'spectral_r', 'spring', 'spring_r', 'summer', 'summer_r', 'tab10', 'tab10_r', 'tab20', 'tab20_r', 'tab20b', 'tab20b_r', 'tab20c', 'tab20c_r', 'terrain', 'terrain_r', 'viridis', 'viridis_r', 'winter', 'winter_r'), rows=1, value=''), HTML(value='<img src=\"data:image/gif;base64,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\"/>'), FloatText(value=-1.0, description='Leftmost color maps to:', style=DescriptionStyle(description_width='initial')), FloatText(value=1.0, description='Rightmost color maps to:', style=DescriptionStyle(description_width='initial')), IntText(value=0, description='Feature to show:', style=DescriptionStyle(description_width='initial')), HBox(children=(Checkbox(value=True, description='Rotate network', layout=Layout(width='52%'), style=DescriptionStyle(description_width='initial')), Button(icon='save', layout=Layout(width='10%'), style=ButtonStyle())))), layout=Layout(width='100%')))),), selected_index=None, _titles={'0': 'MNIST_CNN'}), VBox(children=(HBox(children=(IntSlider(value=0, continuous_update=False, description='Dataset index', layout=Layout(width='100%'), max=59999), Label(value='of 10000', layout=Layout(width='100px'))), layout=Layout(height='40px')), HBox(children=(Button(icon='fast-backward', layout=Layout(width='100%'), style=ButtonStyle()), Button(icon='backward', layout=Layout(width='100%'), style=ButtonStyle()), IntText(value=0, layout=Layout(width='100%')), Button(icon='forward', layout=Layout(width='100%'), style=ButtonStyle()), Button(icon='fast-forward', layout=Layout(width='100%'), style=ButtonStyle()), Button(description='Play', icon='play', layout=Layout(width='100%'), style=ButtonStyle()), Button(icon='refresh', layout=Layout(width='25%'), style=ButtonStyle())), layout=Layout(height='50px', width='100%'))), layout=Layout(width='100%')), HTML(value='<p style=\"text-align:center\"></p>', layout=Layout(justify_content='center', overflow_x='auto', overflow_y='auto', width='95%')), Output()))"
      ]
     },
     "metadata": {},
     "output_type": "display_data"
    },
    {
     "data": {
      "application/javascript": [
       "\n",
       "require(['base/js/namespace'], function(Jupyter) {\n",
       "    Jupyter.notebook.kernel.comm_manager.register_target('conx_svg_control', function(comm, msg) {\n",
       "        comm.on_msg(function(msg) {\n",
       "            var data = msg[\"content\"][\"data\"];\n",
       "            var images = document.getElementsByClassName(data[\"class\"]);\n",
       "            for (var i = 0; i < images.length; i++) {\n",
       "                if (data[\"href\"]) {\n",
       "                    images[i].setAttributeNS(null, \"href\", data[\"href\"]);\n",
       "                }\n",
       "                if (data[\"src\"]) {\n",
       "                    images[i].setAttributeNS(null, \"src\", data[\"src\"]);\n",
       "                }\n",
       "            }\n",
       "        });\n",
       "    });\n",
       "});\n"
      ],
      "text/plain": [
       "<IPython.core.display.Javascript object>"
      ]
     },
     "metadata": {},
     "output_type": "display_data"
    }
   ],
   "source": [
    "cnn.dashboard()"
   ]
  },
  {
   "cell_type": "code",
   "execution_count": 33,
   "metadata": {},
   "outputs": [
    {
     "data": {
      "image/svg+xml": [
       "<svg height=\"288pt\" version=\"1.1\" viewBox=\"0 0 720 288\" width=\"720pt\" xmlns=\"http://www.w3.org/2000/svg\" xmlns:xlink=\"http://www.w3.org/1999/xlink\">\n",
       " <defs>\n",
       "  <style type=\"text/css\">\n",
       "*{stroke-linecap:butt;stroke-linejoin:round;}\n",
       "  </style>\n",
       " </defs>\n",
       " <g id=\"figure_1\">\n",
       "  <g id=\"patch_1\">\n",
       "   <path d=\"M 0 288  L 720 288  L 720 0  L 0 0  z \" style=\"fill:#ffffff;\"/>\n",
       "  </g>\n",
       "  <g id=\"axes_1\">\n",
       "   <g id=\"patch_2\">\n",
       "    <path d=\"M 90 252  L 343.636364 252  L 343.636364 34.56  L 90 34.56  z \" style=\"fill:#ffffff;\"/>\n",
       "   </g>\n",
       "   <g id=\"matplotlib.axis_1\">\n",
       "    <g id=\"xtick_1\">\n",
       "     <g id=\"line2d_1\">\n",
       "      <defs>\n",
       "       <path d=\"M 0 0  L 0 3.5  \" id=\"mbc06e7a45d\" style=\"stroke:#000000;stroke-width:0.8;\"/>\n",
       "      </defs>\n",
       "      <g>\n",
       "       <use style=\"stroke:#000000;stroke-width:0.8;\" x=\"101.528926\" xlink:href=\"#mbc06e7a45d\" y=\"252\"/>\n",
       "      </g>\n",
       "     </g>\n",
       "     <g id=\"text_1\">\n",
       "      <!-- 0 -->\n",
       "      <defs>\n",
       "       <path d=\"M 31.78125 66.40625  Q 24.171875 66.40625 20.328125 58.90625  Q 16.5 51.421875 16.5 36.375  Q 16.5 21.390625 20.328125 13.890625  Q 24.171875 6.390625 31.78125 6.390625  Q 39.453125 6.390625 43.28125 13.890625  Q 47.125 21.390625 47.125 36.375  Q 47.125 51.421875 43.28125 58.90625  Q 39.453125 66.40625 31.78125 66.40625  z M 31.78125 74.21875  Q 44.046875 74.21875 50.515625 64.515625  Q 56.984375 54.828125 56.984375 36.375  Q 56.984375 17.96875 50.515625 8.265625  Q 44.046875 -1.421875 31.78125 -1.421875  Q 19.53125 -1.421875 13.0625 8.265625  Q 6.59375 17.96875 6.59375 36.375  Q 6.59375 54.828125 13.0625 64.515625  Q 19.53125 74.21875 31.78125 74.21875  z \" id=\"DejaVuSans-30\"/>\n",
       "      </defs>\n",
       "      <g transform=\"translate(98.347676 266.598437)scale(0.1 -0.1)\">\n",
       "       <use xlink:href=\"#DejaVuSans-30\"/>\n",
       "      </g>\n",
       "     </g>\n",
       "    </g>\n",
       "    <g id=\"xtick_2\">\n",
       "     <g id=\"line2d_2\">\n",
       "      <g>\n",
       "       <use style=\"stroke:#000000;stroke-width:0.8;\" x=\"147.644628\" xlink:href=\"#mbc06e7a45d\" y=\"252\"/>\n",
       "      </g>\n",
       "     </g>\n",
       "     <g id=\"text_2\">\n",
       "      <!-- 1 -->\n",
       "      <defs>\n",
       "       <path d=\"M 12.40625 8.296875  L 28.515625 8.296875  L 28.515625 63.921875  L 10.984375 60.40625  L 10.984375 69.390625  L 28.421875 72.90625  L 38.28125 72.90625  L 38.28125 8.296875  L 54.390625 8.296875  L 54.390625 0  L 12.40625 0  z \" id=\"DejaVuSans-31\"/>\n",
       "      </defs>\n",
       "      <g transform=\"translate(144.463378 266.598437)scale(0.1 -0.1)\">\n",
       "       <use xlink:href=\"#DejaVuSans-31\"/>\n",
       "      </g>\n",
       "     </g>\n",
       "    </g>\n",
       "    <g id=\"xtick_3\">\n",
       "     <g id=\"line2d_3\">\n",
       "      <g>\n",
       "       <use style=\"stroke:#000000;stroke-width:0.8;\" x=\"193.760331\" xlink:href=\"#mbc06e7a45d\" y=\"252\"/>\n",
       "      </g>\n",
       "     </g>\n",
       "     <g id=\"text_3\">\n",
       "      <!-- 2 -->\n",
       "      <defs>\n",
       "       <path d=\"M 19.1875 8.296875  L 53.609375 8.296875  L 53.609375 0  L 7.328125 0  L 7.328125 8.296875  Q 12.9375 14.109375 22.625 23.890625  Q 32.328125 33.6875 34.8125 36.53125  Q 39.546875 41.84375 41.421875 45.53125  Q 43.3125 49.21875 43.3125 52.78125  Q 43.3125 58.59375 39.234375 62.25  Q 35.15625 65.921875 28.609375 65.921875  Q 23.96875 65.921875 18.8125 64.3125  Q 13.671875 62.703125 7.8125 59.421875  L 7.8125 69.390625  Q 13.765625 71.78125 18.9375 73  Q 24.125 74.21875 28.421875 74.21875  Q 39.75 74.21875 46.484375 68.546875  Q 53.21875 62.890625 53.21875 53.421875  Q 53.21875 48.921875 51.53125 44.890625  Q 49.859375 40.875 45.40625 35.40625  Q 44.1875 33.984375 37.640625 27.21875  Q 31.109375 20.453125 19.1875 8.296875  z \" id=\"DejaVuSans-32\"/>\n",
       "      </defs>\n",
       "      <g transform=\"translate(190.579081 266.598437)scale(0.1 -0.1)\">\n",
       "       <use xlink:href=\"#DejaVuSans-32\"/>\n",
       "      </g>\n",
       "     </g>\n",
       "    </g>\n",
       "    <g id=\"xtick_4\">\n",
       "     <g id=\"line2d_4\">\n",
       "      <g>\n",
       "       <use style=\"stroke:#000000;stroke-width:0.8;\" x=\"239.876033\" xlink:href=\"#mbc06e7a45d\" y=\"252\"/>\n",
       "      </g>\n",
       "     </g>\n",
       "     <g id=\"text_4\">\n",
       "      <!-- 3 -->\n",
       "      <defs>\n",
       "       <path d=\"M 40.578125 39.3125  Q 47.65625 37.796875 51.625 33  Q 55.609375 28.21875 55.609375 21.1875  Q 55.609375 10.40625 48.1875 4.484375  Q 40.765625 -1.421875 27.09375 -1.421875  Q 22.515625 -1.421875 17.65625 -0.515625  Q 12.796875 0.390625 7.625 2.203125  L 7.625 11.71875  Q 11.71875 9.328125 16.59375 8.109375  Q 21.484375 6.890625 26.8125 6.890625  Q 36.078125 6.890625 40.9375 10.546875  Q 45.796875 14.203125 45.796875 21.1875  Q 45.796875 27.640625 41.28125 31.265625  Q 36.765625 34.90625 28.71875 34.90625  L 20.21875 34.90625  L 20.21875 43.015625  L 29.109375 43.015625  Q 36.375 43.015625 40.234375 45.921875  Q 44.09375 48.828125 44.09375 54.296875  Q 44.09375 59.90625 40.109375 62.90625  Q 36.140625 65.921875 28.71875 65.921875  Q 24.65625 65.921875 20.015625 65.03125  Q 15.375 64.15625 9.8125 62.3125  L 9.8125 71.09375  Q 15.4375 72.65625 20.34375 73.4375  Q 25.25 74.21875 29.59375 74.21875  Q 40.828125 74.21875 47.359375 69.109375  Q 53.90625 64.015625 53.90625 55.328125  Q 53.90625 49.265625 50.4375 45.09375  Q 46.96875 40.921875 40.578125 39.3125  z \" id=\"DejaVuSans-33\"/>\n",
       "      </defs>\n",
       "      <g transform=\"translate(236.694783 266.598437)scale(0.1 -0.1)\">\n",
       "       <use xlink:href=\"#DejaVuSans-33\"/>\n",
       "      </g>\n",
       "     </g>\n",
       "    </g>\n",
       "    <g id=\"xtick_5\">\n",
       "     <g id=\"line2d_5\">\n",
       "      <g>\n",
       "       <use style=\"stroke:#000000;stroke-width:0.8;\" x=\"285.991736\" xlink:href=\"#mbc06e7a45d\" y=\"252\"/>\n",
       "      </g>\n",
       "     </g>\n",
       "     <g id=\"text_5\">\n",
       "      <!-- 4 -->\n",
       "      <defs>\n",
       "       <path d=\"M 37.796875 64.3125  L 12.890625 25.390625  L 37.796875 25.390625  z M 35.203125 72.90625  L 47.609375 72.90625  L 47.609375 25.390625  L 58.015625 25.390625  L 58.015625 17.1875  L 47.609375 17.1875  L 47.609375 0  L 37.796875 0  L 37.796875 17.1875  L 4.890625 17.1875  L 4.890625 26.703125  z \" id=\"DejaVuSans-34\"/>\n",
       "      </defs>\n",
       "      <g transform=\"translate(282.810486 266.598437)scale(0.1 -0.1)\">\n",
       "       <use xlink:href=\"#DejaVuSans-34\"/>\n",
       "      </g>\n",
       "     </g>\n",
       "    </g>\n",
       "    <g id=\"xtick_6\">\n",
       "     <g id=\"line2d_6\">\n",
       "      <g>\n",
       "       <use style=\"stroke:#000000;stroke-width:0.8;\" x=\"332.107438\" xlink:href=\"#mbc06e7a45d\" y=\"252\"/>\n",
       "      </g>\n",
       "     </g>\n",
       "     <g id=\"text_6\">\n",
       "      <!-- 5 -->\n",
       "      <defs>\n",
       "       <path d=\"M 10.796875 72.90625  L 49.515625 72.90625  L 49.515625 64.59375  L 19.828125 64.59375  L 19.828125 46.734375  Q 21.96875 47.46875 24.109375 47.828125  Q 26.265625 48.1875 28.421875 48.1875  Q 40.625 48.1875 47.75 41.5  Q 54.890625 34.8125 54.890625 23.390625  Q 54.890625 11.625 47.5625 5.09375  Q 40.234375 -1.421875 26.90625 -1.421875  Q 22.3125 -1.421875 17.546875 -0.640625  Q 12.796875 0.140625 7.71875 1.703125  L 7.71875 11.625  Q 12.109375 9.234375 16.796875 8.0625  Q 21.484375 6.890625 26.703125 6.890625  Q 35.15625 6.890625 40.078125 11.328125  Q 45.015625 15.765625 45.015625 23.390625  Q 45.015625 31 40.078125 35.4375  Q 35.15625 39.890625 26.703125 39.890625  Q 22.75 39.890625 18.8125 39.015625  Q 14.890625 38.140625 10.796875 36.28125  z \" id=\"DejaVuSans-35\"/>\n",
       "      </defs>\n",
       "      <g transform=\"translate(328.926188 266.598437)scale(0.1 -0.1)\">\n",
       "       <use xlink:href=\"#DejaVuSans-35\"/>\n",
       "      </g>\n",
       "     </g>\n",
       "    </g>\n",
       "    <g id=\"text_7\">\n",
       "     <!-- Epoch -->\n",
       "     <defs>\n",
       "      <path d=\"M 9.8125 72.90625  L 55.90625 72.90625  L 55.90625 64.59375  L 19.671875 64.59375  L 19.671875 43.015625  L 54.390625 43.015625  L 54.390625 34.71875  L 19.671875 34.71875  L 19.671875 8.296875  L 56.78125 8.296875  L 56.78125 0  L 9.8125 0  z \" id=\"DejaVuSans-45\"/>\n",
       "      <path d=\"M 18.109375 8.203125  L 18.109375 -20.796875  L 9.078125 -20.796875  L 9.078125 54.6875  L 18.109375 54.6875  L 18.109375 46.390625  Q 20.953125 51.265625 25.265625 53.625  Q 29.59375 56 35.59375 56  Q 45.5625 56 51.78125 48.09375  Q 58.015625 40.1875 58.015625 27.296875  Q 58.015625 14.40625 51.78125 6.484375  Q 45.5625 -1.421875 35.59375 -1.421875  Q 29.59375 -1.421875 25.265625 0.953125  Q 20.953125 3.328125 18.109375 8.203125  z M 48.6875 27.296875  Q 48.6875 37.203125 44.609375 42.84375  Q 40.53125 48.484375 33.40625 48.484375  Q 26.265625 48.484375 22.1875 42.84375  Q 18.109375 37.203125 18.109375 27.296875  Q 18.109375 17.390625 22.1875 11.75  Q 26.265625 6.109375 33.40625 6.109375  Q 40.53125 6.109375 44.609375 11.75  Q 48.6875 17.390625 48.6875 27.296875  z \" id=\"DejaVuSans-70\"/>\n",
       "      <path d=\"M 30.609375 48.390625  Q 23.390625 48.390625 19.1875 42.75  Q 14.984375 37.109375 14.984375 27.296875  Q 14.984375 17.484375 19.15625 11.84375  Q 23.34375 6.203125 30.609375 6.203125  Q 37.796875 6.203125 41.984375 11.859375  Q 46.1875 17.53125 46.1875 27.296875  Q 46.1875 37.015625 41.984375 42.703125  Q 37.796875 48.390625 30.609375 48.390625  z M 30.609375 56  Q 42.328125 56 49.015625 48.375  Q 55.71875 40.765625 55.71875 27.296875  Q 55.71875 13.875 49.015625 6.21875  Q 42.328125 -1.421875 30.609375 -1.421875  Q 18.84375 -1.421875 12.171875 6.21875  Q 5.515625 13.875 5.515625 27.296875  Q 5.515625 40.765625 12.171875 48.375  Q 18.84375 56 30.609375 56  z \" id=\"DejaVuSans-6f\"/>\n",
       "      <path d=\"M 48.78125 52.59375  L 48.78125 44.1875  Q 44.96875 46.296875 41.140625 47.34375  Q 37.3125 48.390625 33.40625 48.390625  Q 24.65625 48.390625 19.8125 42.84375  Q 14.984375 37.3125 14.984375 27.296875  Q 14.984375 17.28125 19.8125 11.734375  Q 24.65625 6.203125 33.40625 6.203125  Q 37.3125 6.203125 41.140625 7.25  Q 44.96875 8.296875 48.78125 10.40625  L 48.78125 2.09375  Q 45.015625 0.34375 40.984375 -0.53125  Q 36.96875 -1.421875 32.421875 -1.421875  Q 20.0625 -1.421875 12.78125 6.34375  Q 5.515625 14.109375 5.515625 27.296875  Q 5.515625 40.671875 12.859375 48.328125  Q 20.21875 56 33.015625 56  Q 37.15625 56 41.109375 55.140625  Q 45.0625 54.296875 48.78125 52.59375  z \" id=\"DejaVuSans-63\"/>\n",
       "      <path d=\"M 54.890625 33.015625  L 54.890625 0  L 45.90625 0  L 45.90625 32.71875  Q 45.90625 40.484375 42.875 44.328125  Q 39.84375 48.1875 33.796875 48.1875  Q 26.515625 48.1875 22.3125 43.546875  Q 18.109375 38.921875 18.109375 30.90625  L 18.109375 0  L 9.078125 0  L 9.078125 75.984375  L 18.109375 75.984375  L 18.109375 46.1875  Q 21.34375 51.125 25.703125 53.5625  Q 30.078125 56 35.796875 56  Q 45.21875 56 50.046875 50.171875  Q 54.890625 44.34375 54.890625 33.015625  z \" id=\"DejaVuSans-68\"/>\n",
       "     </defs>\n",
       "     <g transform=\"translate(201.507244 280.276563)scale(0.1 -0.1)\">\n",
       "      <use xlink:href=\"#DejaVuSans-45\"/>\n",
       "      <use x=\"63.183594\" xlink:href=\"#DejaVuSans-70\"/>\n",
       "      <use x=\"126.660156\" xlink:href=\"#DejaVuSans-6f\"/>\n",
       "      <use x=\"187.841797\" xlink:href=\"#DejaVuSans-63\"/>\n",
       "      <use x=\"242.822266\" xlink:href=\"#DejaVuSans-68\"/>\n",
       "     </g>\n",
       "    </g>\n",
       "   </g>\n",
       "   <g id=\"matplotlib.axis_2\">\n",
       "    <g id=\"ytick_1\">\n",
       "     <g id=\"line2d_7\">\n",
       "      <defs>\n",
       "       <path d=\"M 0 0  L -3.5 0  \" id=\"m08a483833b\" style=\"stroke:#000000;stroke-width:0.8;\"/>\n",
       "      </defs>\n",
       "      <g>\n",
       "       <use style=\"stroke:#000000;stroke-width:0.8;\" x=\"90\" xlink:href=\"#m08a483833b\" y=\"252\"/>\n",
       "      </g>\n",
       "     </g>\n",
       "     <g id=\"text_8\">\n",
       "      <!-- 0.0 -->\n",
       "      <defs>\n",
       "       <path d=\"M 10.6875 12.40625  L 21 12.40625  L 21 0  L 10.6875 0  z \" id=\"DejaVuSans-2e\"/>\n",
       "      </defs>\n",
       "      <g transform=\"translate(67.096875 255.799219)scale(0.1 -0.1)\">\n",
       "       <use xlink:href=\"#DejaVuSans-30\"/>\n",
       "       <use x=\"63.623047\" xlink:href=\"#DejaVuSans-2e\"/>\n",
       "       <use x=\"95.410156\" xlink:href=\"#DejaVuSans-30\"/>\n",
       "      </g>\n",
       "     </g>\n",
       "    </g>\n",
       "    <g id=\"ytick_2\">\n",
       "     <g id=\"line2d_8\">\n",
       "      <g>\n",
       "       <use style=\"stroke:#000000;stroke-width:0.8;\" x=\"90\" xlink:href=\"#m08a483833b\" y=\"207.072366\"/>\n",
       "      </g>\n",
       "     </g>\n",
       "     <g id=\"text_9\">\n",
       "      <!-- 0.5 -->\n",
       "      <g transform=\"translate(67.096875 210.871585)scale(0.1 -0.1)\">\n",
       "       <use xlink:href=\"#DejaVuSans-30\"/>\n",
       "       <use x=\"63.623047\" xlink:href=\"#DejaVuSans-2e\"/>\n",
       "       <use x=\"95.410156\" xlink:href=\"#DejaVuSans-35\"/>\n",
       "      </g>\n",
       "     </g>\n",
       "    </g>\n",
       "    <g id=\"ytick_3\">\n",
       "     <g id=\"line2d_9\">\n",
       "      <g>\n",
       "       <use style=\"stroke:#000000;stroke-width:0.8;\" x=\"90\" xlink:href=\"#m08a483833b\" y=\"162.144732\"/>\n",
       "      </g>\n",
       "     </g>\n",
       "     <g id=\"text_10\">\n",
       "      <!-- 1.0 -->\n",
       "      <g transform=\"translate(67.096875 165.943951)scale(0.1 -0.1)\">\n",
       "       <use xlink:href=\"#DejaVuSans-31\"/>\n",
       "       <use x=\"63.623047\" xlink:href=\"#DejaVuSans-2e\"/>\n",
       "       <use x=\"95.410156\" xlink:href=\"#DejaVuSans-30\"/>\n",
       "      </g>\n",
       "     </g>\n",
       "    </g>\n",
       "    <g id=\"ytick_4\">\n",
       "     <g id=\"line2d_10\">\n",
       "      <g>\n",
       "       <use style=\"stroke:#000000;stroke-width:0.8;\" x=\"90\" xlink:href=\"#m08a483833b\" y=\"117.217098\"/>\n",
       "      </g>\n",
       "     </g>\n",
       "     <g id=\"text_11\">\n",
       "      <!-- 1.5 -->\n",
       "      <g transform=\"translate(67.096875 121.016317)scale(0.1 -0.1)\">\n",
       "       <use xlink:href=\"#DejaVuSans-31\"/>\n",
       "       <use x=\"63.623047\" xlink:href=\"#DejaVuSans-2e\"/>\n",
       "       <use x=\"95.410156\" xlink:href=\"#DejaVuSans-35\"/>\n",
       "      </g>\n",
       "     </g>\n",
       "    </g>\n",
       "    <g id=\"ytick_5\">\n",
       "     <g id=\"line2d_11\">\n",
       "      <g>\n",
       "       <use style=\"stroke:#000000;stroke-width:0.8;\" x=\"90\" xlink:href=\"#m08a483833b\" y=\"72.289464\"/>\n",
       "      </g>\n",
       "     </g>\n",
       "     <g id=\"text_12\">\n",
       "      <!-- 2.0 -->\n",
       "      <g transform=\"translate(67.096875 76.088683)scale(0.1 -0.1)\">\n",
       "       <use xlink:href=\"#DejaVuSans-32\"/>\n",
       "       <use x=\"63.623047\" xlink:href=\"#DejaVuSans-2e\"/>\n",
       "       <use x=\"95.410156\" xlink:href=\"#DejaVuSans-30\"/>\n",
       "      </g>\n",
       "     </g>\n",
       "    </g>\n",
       "   </g>\n",
       "   <g id=\"line2d_12\">\n",
       "    <path clip-path=\"url(#peb902867bb)\" d=\"M 101.528926 44.893287  L 147.644628 225.387089  L 193.760331 244.813833  L 239.876033 247.165499  L 285.991736 248.186871  L 332.107438 248.822921  \" style=\"fill:none;stroke:#1f77b4;stroke-linecap:square;stroke-width:1.5;\"/>\n",
       "   </g>\n",
       "   <g id=\"line2d_13\">\n",
       "    <path clip-path=\"url(#peb902867bb)\" d=\"M 101.528926 44.762996  L 147.644628 242.919194  L 193.760331 247.238362  L 239.876033 248.143154  L 285.991736 248.662539  L 332.107438 248.704861  \" style=\"fill:none;stroke:#ff7f0e;stroke-linecap:square;stroke-width:1.5;\"/>\n",
       "   </g>\n",
       "   <g id=\"patch_3\">\n",
       "    <path d=\"M 90 252  L 90 34.56  \" style=\"fill:none;stroke:#000000;stroke-linecap:square;stroke-linejoin:miter;stroke-width:0.8;\"/>\n",
       "   </g>\n",
       "   <g id=\"patch_4\">\n",
       "    <path d=\"M 343.636364 252  L 343.636364 34.56  \" style=\"fill:none;stroke:#000000;stroke-linecap:square;stroke-linejoin:miter;stroke-width:0.8;\"/>\n",
       "   </g>\n",
       "   <g id=\"patch_5\">\n",
       "    <path d=\"M 90 252  L 343.636364 252  \" style=\"fill:none;stroke:#000000;stroke-linecap:square;stroke-linejoin:miter;stroke-width:0.8;\"/>\n",
       "   </g>\n",
       "   <g id=\"patch_6\">\n",
       "    <path d=\"M 90 34.56  L 343.636364 34.56  \" style=\"fill:none;stroke:#000000;stroke-linecap:square;stroke-linejoin:miter;stroke-width:0.8;\"/>\n",
       "   </g>\n",
       "   <g id=\"text_13\">\n",
       "    <!-- MNIST_CNN: Error -->\n",
       "    <defs>\n",
       "     <path d=\"M 9.8125 72.90625  L 24.515625 72.90625  L 43.109375 23.296875  L 61.8125 72.90625  L 76.515625 72.90625  L 76.515625 0  L 66.890625 0  L 66.890625 64.015625  L 48.09375 14.015625  L 38.1875 14.015625  L 19.390625 64.015625  L 19.390625 0  L 9.8125 0  z \" id=\"DejaVuSans-4d\"/>\n",
       "     <path d=\"M 9.8125 72.90625  L 23.09375 72.90625  L 55.421875 11.921875  L 55.421875 72.90625  L 64.984375 72.90625  L 64.984375 0  L 51.703125 0  L 19.390625 60.984375  L 19.390625 0  L 9.8125 0  z \" id=\"DejaVuSans-4e\"/>\n",
       "     <path d=\"M 9.8125 72.90625  L 19.671875 72.90625  L 19.671875 0  L 9.8125 0  z \" id=\"DejaVuSans-49\"/>\n",
       "     <path d=\"M 53.515625 70.515625  L 53.515625 60.890625  Q 47.90625 63.578125 42.921875 64.890625  Q 37.9375 66.21875 33.296875 66.21875  Q 25.25 66.21875 20.875 63.09375  Q 16.5 59.96875 16.5 54.203125  Q 16.5 49.359375 19.40625 46.890625  Q 22.3125 44.4375 30.421875 42.921875  L 36.375 41.703125  Q 47.40625 39.59375 52.65625 34.296875  Q 57.90625 29 57.90625 20.125  Q 57.90625 9.515625 50.796875 4.046875  Q 43.703125 -1.421875 29.984375 -1.421875  Q 24.8125 -1.421875 18.96875 -0.25  Q 13.140625 0.921875 6.890625 3.21875  L 6.890625 13.375  Q 12.890625 10.015625 18.65625 8.296875  Q 24.421875 6.59375 29.984375 6.59375  Q 38.421875 6.59375 43.015625 9.90625  Q 47.609375 13.234375 47.609375 19.390625  Q 47.609375 24.75 44.3125 27.78125  Q 41.015625 30.8125 33.5 32.328125  L 27.484375 33.5  Q 16.453125 35.6875 11.515625 40.375  Q 6.59375 45.0625 6.59375 53.421875  Q 6.59375 63.09375 13.40625 68.65625  Q 20.21875 74.21875 32.171875 74.21875  Q 37.3125 74.21875 42.625 73.28125  Q 47.953125 72.359375 53.515625 70.515625  z \" id=\"DejaVuSans-53\"/>\n",
       "     <path d=\"M -0.296875 72.90625  L 61.375 72.90625  L 61.375 64.59375  L 35.5 64.59375  L 35.5 0  L 25.59375 0  L 25.59375 64.59375  L -0.296875 64.59375  z \" id=\"DejaVuSans-54\"/>\n",
       "     <path d=\"M 50.984375 -16.609375  L 50.984375 -23.578125  L -0.984375 -23.578125  L -0.984375 -16.609375  z \" id=\"DejaVuSans-5f\"/>\n",
       "     <path d=\"M 64.40625 67.28125  L 64.40625 56.890625  Q 59.421875 61.53125 53.78125 63.8125  Q 48.140625 66.109375 41.796875 66.109375  Q 29.296875 66.109375 22.65625 58.46875  Q 16.015625 50.828125 16.015625 36.375  Q 16.015625 21.96875 22.65625 14.328125  Q 29.296875 6.6875 41.796875 6.6875  Q 48.140625 6.6875 53.78125 8.984375  Q 59.421875 11.28125 64.40625 15.921875  L 64.40625 5.609375  Q 59.234375 2.09375 53.4375 0.328125  Q 47.65625 -1.421875 41.21875 -1.421875  Q 24.65625 -1.421875 15.125 8.703125  Q 5.609375 18.84375 5.609375 36.375  Q 5.609375 53.953125 15.125 64.078125  Q 24.65625 74.21875 41.21875 74.21875  Q 47.75 74.21875 53.53125 72.484375  Q 59.328125 70.75 64.40625 67.28125  z \" id=\"DejaVuSans-43\"/>\n",
       "     <path d=\"M 11.71875 12.40625  L 22.015625 12.40625  L 22.015625 0  L 11.71875 0  z M 11.71875 51.703125  L 22.015625 51.703125  L 22.015625 39.3125  L 11.71875 39.3125  z \" id=\"DejaVuSans-3a\"/>\n",
       "     <path id=\"DejaVuSans-20\"/>\n",
       "     <path d=\"M 41.109375 46.296875  Q 39.59375 47.171875 37.8125 47.578125  Q 36.03125 48 33.890625 48  Q 26.265625 48 22.1875 43.046875  Q 18.109375 38.09375 18.109375 28.8125  L 18.109375 0  L 9.078125 0  L 9.078125 54.6875  L 18.109375 54.6875  L 18.109375 46.1875  Q 20.953125 51.171875 25.484375 53.578125  Q 30.03125 56 36.53125 56  Q 37.453125 56 38.578125 55.875  Q 39.703125 55.765625 41.0625 55.515625  z \" id=\"DejaVuSans-72\"/>\n",
       "    </defs>\n",
       "    <g transform=\"translate(162.954119 28.56)scale(0.12 -0.12)\">\n",
       "     <use xlink:href=\"#DejaVuSans-4d\"/>\n",
       "     <use x=\"86.279297\" xlink:href=\"#DejaVuSans-4e\"/>\n",
       "     <use x=\"161.083984\" xlink:href=\"#DejaVuSans-49\"/>\n",
       "     <use x=\"190.576172\" xlink:href=\"#DejaVuSans-53\"/>\n",
       "     <use x=\"254.052734\" xlink:href=\"#DejaVuSans-54\"/>\n",
       "     <use x=\"315.136719\" xlink:href=\"#DejaVuSans-5f\"/>\n",
       "     <use x=\"365.136719\" xlink:href=\"#DejaVuSans-43\"/>\n",
       "     <use x=\"434.960938\" xlink:href=\"#DejaVuSans-4e\"/>\n",
       "     <use x=\"509.765625\" xlink:href=\"#DejaVuSans-4e\"/>\n",
       "     <use x=\"584.570312\" xlink:href=\"#DejaVuSans-3a\"/>\n",
       "     <use x=\"618.261719\" xlink:href=\"#DejaVuSans-20\"/>\n",
       "     <use x=\"650.048828\" xlink:href=\"#DejaVuSans-45\"/>\n",
       "     <use x=\"713.232422\" xlink:href=\"#DejaVuSans-72\"/>\n",
       "     <use x=\"754.330078\" xlink:href=\"#DejaVuSans-72\"/>\n",
       "     <use x=\"795.412109\" xlink:href=\"#DejaVuSans-6f\"/>\n",
       "     <use x=\"856.59375\" xlink:href=\"#DejaVuSans-72\"/>\n",
       "    </g>\n",
       "   </g>\n",
       "   <g id=\"legend_1\">\n",
       "    <g id=\"patch_7\">\n",
       "     <path d=\"M 236.030114 71.91625  L 336.636364 71.91625  Q 338.636364 71.91625 338.636364 69.91625  L 338.636364 41.56  Q 338.636364 39.56 336.636364 39.56  L 236.030114 39.56  Q 234.030114 39.56 234.030114 41.56  L 234.030114 69.91625  Q 234.030114 71.91625 236.030114 71.91625  z \" style=\"fill:#ffffff;opacity:0.8;stroke:#cccccc;stroke-linejoin:miter;\"/>\n",
       "    </g>\n",
       "    <g id=\"line2d_14\">\n",
       "     <path d=\"M 238.030114 47.658437  L 258.030114 47.658437  \" style=\"fill:none;stroke:#1f77b4;stroke-linecap:square;stroke-width:1.5;\"/>\n",
       "    </g>\n",
       "    <g id=\"line2d_15\"/>\n",
       "    <g id=\"text_14\">\n",
       "     <!-- Training set -->\n",
       "     <defs>\n",
       "      <path d=\"M 34.28125 27.484375  Q 23.390625 27.484375 19.1875 25  Q 14.984375 22.515625 14.984375 16.5  Q 14.984375 11.71875 18.140625 8.90625  Q 21.296875 6.109375 26.703125 6.109375  Q 34.1875 6.109375 38.703125 11.40625  Q 43.21875 16.703125 43.21875 25.484375  L 43.21875 27.484375  z M 52.203125 31.203125  L 52.203125 0  L 43.21875 0  L 43.21875 8.296875  Q 40.140625 3.328125 35.546875 0.953125  Q 30.953125 -1.421875 24.3125 -1.421875  Q 15.921875 -1.421875 10.953125 3.296875  Q 6 8.015625 6 15.921875  Q 6 25.140625 12.171875 29.828125  Q 18.359375 34.515625 30.609375 34.515625  L 43.21875 34.515625  L 43.21875 35.40625  Q 43.21875 41.609375 39.140625 45  Q 35.0625 48.390625 27.6875 48.390625  Q 23 48.390625 18.546875 47.265625  Q 14.109375 46.140625 10.015625 43.890625  L 10.015625 52.203125  Q 14.9375 54.109375 19.578125 55.046875  Q 24.21875 56 28.609375 56  Q 40.484375 56 46.34375 49.84375  Q 52.203125 43.703125 52.203125 31.203125  z \" id=\"DejaVuSans-61\"/>\n",
       "      <path d=\"M 9.421875 54.6875  L 18.40625 54.6875  L 18.40625 0  L 9.421875 0  z M 9.421875 75.984375  L 18.40625 75.984375  L 18.40625 64.59375  L 9.421875 64.59375  z \" id=\"DejaVuSans-69\"/>\n",
       "      <path d=\"M 54.890625 33.015625  L 54.890625 0  L 45.90625 0  L 45.90625 32.71875  Q 45.90625 40.484375 42.875 44.328125  Q 39.84375 48.1875 33.796875 48.1875  Q 26.515625 48.1875 22.3125 43.546875  Q 18.109375 38.921875 18.109375 30.90625  L 18.109375 0  L 9.078125 0  L 9.078125 54.6875  L 18.109375 54.6875  L 18.109375 46.1875  Q 21.34375 51.125 25.703125 53.5625  Q 30.078125 56 35.796875 56  Q 45.21875 56 50.046875 50.171875  Q 54.890625 44.34375 54.890625 33.015625  z \" id=\"DejaVuSans-6e\"/>\n",
       "      <path d=\"M 45.40625 27.984375  Q 45.40625 37.75 41.375 43.109375  Q 37.359375 48.484375 30.078125 48.484375  Q 22.859375 48.484375 18.828125 43.109375  Q 14.796875 37.75 14.796875 27.984375  Q 14.796875 18.265625 18.828125 12.890625  Q 22.859375 7.515625 30.078125 7.515625  Q 37.359375 7.515625 41.375 12.890625  Q 45.40625 18.265625 45.40625 27.984375  z M 54.390625 6.78125  Q 54.390625 -7.171875 48.1875 -13.984375  Q 42 -20.796875 29.203125 -20.796875  Q 24.46875 -20.796875 20.265625 -20.09375  Q 16.0625 -19.390625 12.109375 -17.921875  L 12.109375 -9.1875  Q 16.0625 -11.328125 19.921875 -12.34375  Q 23.78125 -13.375 27.78125 -13.375  Q 36.625 -13.375 41.015625 -8.765625  Q 45.40625 -4.15625 45.40625 5.171875  L 45.40625 9.625  Q 42.625 4.78125 38.28125 2.390625  Q 33.9375 0 27.875 0  Q 17.828125 0 11.671875 7.65625  Q 5.515625 15.328125 5.515625 27.984375  Q 5.515625 40.671875 11.671875 48.328125  Q 17.828125 56 27.875 56  Q 33.9375 56 38.28125 53.609375  Q 42.625 51.21875 45.40625 46.390625  L 45.40625 54.6875  L 54.390625 54.6875  z \" id=\"DejaVuSans-67\"/>\n",
       "      <path d=\"M 44.28125 53.078125  L 44.28125 44.578125  Q 40.484375 46.53125 36.375 47.5  Q 32.28125 48.484375 27.875 48.484375  Q 21.1875 48.484375 17.84375 46.4375  Q 14.5 44.390625 14.5 40.28125  Q 14.5 37.15625 16.890625 35.375  Q 19.28125 33.59375 26.515625 31.984375  L 29.59375 31.296875  Q 39.15625 29.25 43.1875 25.515625  Q 47.21875 21.78125 47.21875 15.09375  Q 47.21875 7.46875 41.1875 3.015625  Q 35.15625 -1.421875 24.609375 -1.421875  Q 20.21875 -1.421875 15.453125 -0.5625  Q 10.6875 0.296875 5.421875 2  L 5.421875 11.28125  Q 10.40625 8.6875 15.234375 7.390625  Q 20.0625 6.109375 24.8125 6.109375  Q 31.15625 6.109375 34.5625 8.28125  Q 37.984375 10.453125 37.984375 14.40625  Q 37.984375 18.0625 35.515625 20.015625  Q 33.0625 21.96875 24.703125 23.78125  L 21.578125 24.515625  Q 13.234375 26.265625 9.515625 29.90625  Q 5.8125 33.546875 5.8125 39.890625  Q 5.8125 47.609375 11.28125 51.796875  Q 16.75 56 26.8125 56  Q 31.78125 56 36.171875 55.265625  Q 40.578125 54.546875 44.28125 53.078125  z \" id=\"DejaVuSans-73\"/>\n",
       "      <path d=\"M 56.203125 29.59375  L 56.203125 25.203125  L 14.890625 25.203125  Q 15.484375 15.921875 20.484375 11.0625  Q 25.484375 6.203125 34.421875 6.203125  Q 39.59375 6.203125 44.453125 7.46875  Q 49.3125 8.734375 54.109375 11.28125  L 54.109375 2.78125  Q 49.265625 0.734375 44.1875 -0.34375  Q 39.109375 -1.421875 33.890625 -1.421875  Q 20.796875 -1.421875 13.15625 6.1875  Q 5.515625 13.8125 5.515625 26.8125  Q 5.515625 40.234375 12.765625 48.109375  Q 20.015625 56 32.328125 56  Q 43.359375 56 49.78125 48.890625  Q 56.203125 41.796875 56.203125 29.59375  z M 47.21875 32.234375  Q 47.125 39.59375 43.09375 43.984375  Q 39.0625 48.390625 32.421875 48.390625  Q 24.90625 48.390625 20.390625 44.140625  Q 15.875 39.890625 15.1875 32.171875  z \" id=\"DejaVuSans-65\"/>\n",
       "      <path d=\"M 18.3125 70.21875  L 18.3125 54.6875  L 36.8125 54.6875  L 36.8125 47.703125  L 18.3125 47.703125  L 18.3125 18.015625  Q 18.3125 11.328125 20.140625 9.421875  Q 21.96875 7.515625 27.59375 7.515625  L 36.8125 7.515625  L 36.8125 0  L 27.59375 0  Q 17.1875 0 13.234375 3.875  Q 9.28125 7.765625 9.28125 18.015625  L 9.28125 47.703125  L 2.6875 47.703125  L 2.6875 54.6875  L 9.28125 54.6875  L 9.28125 70.21875  z \" id=\"DejaVuSans-74\"/>\n",
       "     </defs>\n",
       "     <g transform=\"translate(266.030114 51.158437)scale(0.1 -0.1)\">\n",
       "      <use xlink:href=\"#DejaVuSans-54\"/>\n",
       "      <use x=\"60.865234\" xlink:href=\"#DejaVuSans-72\"/>\n",
       "      <use x=\"101.978516\" xlink:href=\"#DejaVuSans-61\"/>\n",
       "      <use x=\"163.257812\" xlink:href=\"#DejaVuSans-69\"/>\n",
       "      <use x=\"191.041016\" xlink:href=\"#DejaVuSans-6e\"/>\n",
       "      <use x=\"254.419922\" xlink:href=\"#DejaVuSans-69\"/>\n",
       "      <use x=\"282.203125\" xlink:href=\"#DejaVuSans-6e\"/>\n",
       "      <use x=\"345.582031\" xlink:href=\"#DejaVuSans-67\"/>\n",
       "      <use x=\"409.058594\" xlink:href=\"#DejaVuSans-20\"/>\n",
       "      <use x=\"440.845703\" xlink:href=\"#DejaVuSans-73\"/>\n",
       "      <use x=\"492.945312\" xlink:href=\"#DejaVuSans-65\"/>\n",
       "      <use x=\"554.46875\" xlink:href=\"#DejaVuSans-74\"/>\n",
       "     </g>\n",
       "    </g>\n",
       "    <g id=\"line2d_16\">\n",
       "     <path d=\"M 238.030114 62.336562  L 258.030114 62.336562  \" style=\"fill:none;stroke:#ff7f0e;stroke-linecap:square;stroke-width:1.5;\"/>\n",
       "    </g>\n",
       "    <g id=\"line2d_17\"/>\n",
       "    <g id=\"text_15\">\n",
       "     <!-- Validation set -->\n",
       "     <defs>\n",
       "      <path d=\"M 28.609375 0  L 0.78125 72.90625  L 11.078125 72.90625  L 34.1875 11.53125  L 57.328125 72.90625  L 67.578125 72.90625  L 39.796875 0  z \" id=\"DejaVuSans-56\"/>\n",
       "      <path d=\"M 9.421875 75.984375  L 18.40625 75.984375  L 18.40625 0  L 9.421875 0  z \" id=\"DejaVuSans-6c\"/>\n",
       "      <path d=\"M 45.40625 46.390625  L 45.40625 75.984375  L 54.390625 75.984375  L 54.390625 0  L 45.40625 0  L 45.40625 8.203125  Q 42.578125 3.328125 38.25 0.953125  Q 33.9375 -1.421875 27.875 -1.421875  Q 17.96875 -1.421875 11.734375 6.484375  Q 5.515625 14.40625 5.515625 27.296875  Q 5.515625 40.1875 11.734375 48.09375  Q 17.96875 56 27.875 56  Q 33.9375 56 38.25 53.625  Q 42.578125 51.265625 45.40625 46.390625  z M 14.796875 27.296875  Q 14.796875 17.390625 18.875 11.75  Q 22.953125 6.109375 30.078125 6.109375  Q 37.203125 6.109375 41.296875 11.75  Q 45.40625 17.390625 45.40625 27.296875  Q 45.40625 37.203125 41.296875 42.84375  Q 37.203125 48.484375 30.078125 48.484375  Q 22.953125 48.484375 18.875 42.84375  Q 14.796875 37.203125 14.796875 27.296875  z \" id=\"DejaVuSans-64\"/>\n",
       "     </defs>\n",
       "     <g transform=\"translate(266.030114 65.836562)scale(0.1 -0.1)\">\n",
       "      <use xlink:href=\"#DejaVuSans-56\"/>\n",
       "      <use x=\"68.298828\" xlink:href=\"#DejaVuSans-61\"/>\n",
       "      <use x=\"129.578125\" xlink:href=\"#DejaVuSans-6c\"/>\n",
       "      <use x=\"157.361328\" xlink:href=\"#DejaVuSans-69\"/>\n",
       "      <use x=\"185.144531\" xlink:href=\"#DejaVuSans-64\"/>\n",
       "      <use x=\"248.621094\" xlink:href=\"#DejaVuSans-61\"/>\n",
       "      <use x=\"309.900391\" xlink:href=\"#DejaVuSans-74\"/>\n",
       "      <use x=\"349.109375\" xlink:href=\"#DejaVuSans-69\"/>\n",
       "      <use x=\"376.892578\" xlink:href=\"#DejaVuSans-6f\"/>\n",
       "      <use x=\"438.074219\" xlink:href=\"#DejaVuSans-6e\"/>\n",
       "      <use x=\"501.453125\" xlink:href=\"#DejaVuSans-20\"/>\n",
       "      <use x=\"533.240234\" xlink:href=\"#DejaVuSans-73\"/>\n",
       "      <use x=\"585.339844\" xlink:href=\"#DejaVuSans-65\"/>\n",
       "      <use x=\"646.863281\" xlink:href=\"#DejaVuSans-74\"/>\n",
       "     </g>\n",
       "    </g>\n",
       "   </g>\n",
       "  </g>\n",
       "  <g id=\"axes_2\">\n",
       "   <g id=\"patch_8\">\n",
       "    <path d=\"M 394.363636 252  L 648 252  L 648 34.56  L 394.363636 34.56  z \" style=\"fill:#ffffff;\"/>\n",
       "   </g>\n",
       "   <g id=\"matplotlib.axis_3\">\n",
       "    <g id=\"xtick_7\">\n",
       "     <g id=\"line2d_18\">\n",
       "      <g>\n",
       "       <use style=\"stroke:#000000;stroke-width:0.8;\" x=\"405.892562\" xlink:href=\"#mbc06e7a45d\" y=\"252\"/>\n",
       "      </g>\n",
       "     </g>\n",
       "     <g id=\"text_16\">\n",
       "      <!-- 0 -->\n",
       "      <g transform=\"translate(402.711312 266.598437)scale(0.1 -0.1)\">\n",
       "       <use xlink:href=\"#DejaVuSans-30\"/>\n",
       "      </g>\n",
       "     </g>\n",
       "    </g>\n",
       "    <g id=\"xtick_8\">\n",
       "     <g id=\"line2d_19\">\n",
       "      <g>\n",
       "       <use style=\"stroke:#000000;stroke-width:0.8;\" x=\"452.008264\" xlink:href=\"#mbc06e7a45d\" y=\"252\"/>\n",
       "      </g>\n",
       "     </g>\n",
       "     <g id=\"text_17\">\n",
       "      <!-- 1 -->\n",
       "      <g transform=\"translate(448.827014 266.598437)scale(0.1 -0.1)\">\n",
       "       <use xlink:href=\"#DejaVuSans-31\"/>\n",
       "      </g>\n",
       "     </g>\n",
       "    </g>\n",
       "    <g id=\"xtick_9\">\n",
       "     <g id=\"line2d_20\">\n",
       "      <g>\n",
       "       <use style=\"stroke:#000000;stroke-width:0.8;\" x=\"498.123967\" xlink:href=\"#mbc06e7a45d\" y=\"252\"/>\n",
       "      </g>\n",
       "     </g>\n",
       "     <g id=\"text_18\">\n",
       "      <!-- 2 -->\n",
       "      <g transform=\"translate(494.942717 266.598437)scale(0.1 -0.1)\">\n",
       "       <use xlink:href=\"#DejaVuSans-32\"/>\n",
       "      </g>\n",
       "     </g>\n",
       "    </g>\n",
       "    <g id=\"xtick_10\">\n",
       "     <g id=\"line2d_21\">\n",
       "      <g>\n",
       "       <use style=\"stroke:#000000;stroke-width:0.8;\" x=\"544.239669\" xlink:href=\"#mbc06e7a45d\" y=\"252\"/>\n",
       "      </g>\n",
       "     </g>\n",
       "     <g id=\"text_19\">\n",
       "      <!-- 3 -->\n",
       "      <g transform=\"translate(541.058419 266.598437)scale(0.1 -0.1)\">\n",
       "       <use xlink:href=\"#DejaVuSans-33\"/>\n",
       "      </g>\n",
       "     </g>\n",
       "    </g>\n",
       "    <g id=\"xtick_11\">\n",
       "     <g id=\"line2d_22\">\n",
       "      <g>\n",
       "       <use style=\"stroke:#000000;stroke-width:0.8;\" x=\"590.355372\" xlink:href=\"#mbc06e7a45d\" y=\"252\"/>\n",
       "      </g>\n",
       "     </g>\n",
       "     <g id=\"text_20\">\n",
       "      <!-- 4 -->\n",
       "      <g transform=\"translate(587.174122 266.598437)scale(0.1 -0.1)\">\n",
       "       <use xlink:href=\"#DejaVuSans-34\"/>\n",
       "      </g>\n",
       "     </g>\n",
       "    </g>\n",
       "    <g id=\"xtick_12\">\n",
       "     <g id=\"line2d_23\">\n",
       "      <g>\n",
       "       <use style=\"stroke:#000000;stroke-width:0.8;\" x=\"636.471074\" xlink:href=\"#mbc06e7a45d\" y=\"252\"/>\n",
       "      </g>\n",
       "     </g>\n",
       "     <g id=\"text_21\">\n",
       "      <!-- 5 -->\n",
       "      <g transform=\"translate(633.289824 266.598437)scale(0.1 -0.1)\">\n",
       "       <use xlink:href=\"#DejaVuSans-35\"/>\n",
       "      </g>\n",
       "     </g>\n",
       "    </g>\n",
       "    <g id=\"text_22\">\n",
       "     <!-- Epoch -->\n",
       "     <g transform=\"translate(505.870881 280.276563)scale(0.1 -0.1)\">\n",
       "      <use xlink:href=\"#DejaVuSans-45\"/>\n",
       "      <use x=\"63.183594\" xlink:href=\"#DejaVuSans-70\"/>\n",
       "      <use x=\"126.660156\" xlink:href=\"#DejaVuSans-6f\"/>\n",
       "      <use x=\"187.841797\" xlink:href=\"#DejaVuSans-63\"/>\n",
       "      <use x=\"242.822266\" xlink:href=\"#DejaVuSans-68\"/>\n",
       "     </g>\n",
       "    </g>\n",
       "   </g>\n",
       "   <g id=\"matplotlib.axis_4\">\n",
       "    <g id=\"ytick_6\">\n",
       "     <g id=\"line2d_24\">\n",
       "      <g>\n",
       "       <use style=\"stroke:#000000;stroke-width:0.8;\" x=\"394.363636\" xlink:href=\"#m08a483833b\" y=\"233.88\"/>\n",
       "      </g>\n",
       "     </g>\n",
       "     <g id=\"text_23\">\n",
       "      <!-- 0.0 -->\n",
       "      <g transform=\"translate(371.460511 237.679219)scale(0.1 -0.1)\">\n",
       "       <use xlink:href=\"#DejaVuSans-30\"/>\n",
       "       <use x=\"63.623047\" xlink:href=\"#DejaVuSans-2e\"/>\n",
       "       <use x=\"95.410156\" xlink:href=\"#DejaVuSans-30\"/>\n",
       "      </g>\n",
       "     </g>\n",
       "    </g>\n",
       "    <g id=\"ytick_7\">\n",
       "     <g id=\"line2d_25\">\n",
       "      <g>\n",
       "       <use style=\"stroke:#000000;stroke-width:0.8;\" x=\"394.363636\" xlink:href=\"#m08a483833b\" y=\"197.64\"/>\n",
       "      </g>\n",
       "     </g>\n",
       "     <g id=\"text_24\">\n",
       "      <!-- 0.2 -->\n",
       "      <g transform=\"translate(371.460511 201.439219)scale(0.1 -0.1)\">\n",
       "       <use xlink:href=\"#DejaVuSans-30\"/>\n",
       "       <use x=\"63.623047\" xlink:href=\"#DejaVuSans-2e\"/>\n",
       "       <use x=\"95.410156\" xlink:href=\"#DejaVuSans-32\"/>\n",
       "      </g>\n",
       "     </g>\n",
       "    </g>\n",
       "    <g id=\"ytick_8\">\n",
       "     <g id=\"line2d_26\">\n",
       "      <g>\n",
       "       <use style=\"stroke:#000000;stroke-width:0.8;\" x=\"394.363636\" xlink:href=\"#m08a483833b\" y=\"161.4\"/>\n",
       "      </g>\n",
       "     </g>\n",
       "     <g id=\"text_25\">\n",
       "      <!-- 0.4 -->\n",
       "      <g transform=\"translate(371.460511 165.199219)scale(0.1 -0.1)\">\n",
       "       <use xlink:href=\"#DejaVuSans-30\"/>\n",
       "       <use x=\"63.623047\" xlink:href=\"#DejaVuSans-2e\"/>\n",
       "       <use x=\"95.410156\" xlink:href=\"#DejaVuSans-34\"/>\n",
       "      </g>\n",
       "     </g>\n",
       "    </g>\n",
       "    <g id=\"ytick_9\">\n",
       "     <g id=\"line2d_27\">\n",
       "      <g>\n",
       "       <use style=\"stroke:#000000;stroke-width:0.8;\" x=\"394.363636\" xlink:href=\"#m08a483833b\" y=\"125.16\"/>\n",
       "      </g>\n",
       "     </g>\n",
       "     <g id=\"text_26\">\n",
       "      <!-- 0.6 -->\n",
       "      <defs>\n",
       "       <path d=\"M 33.015625 40.375  Q 26.375 40.375 22.484375 35.828125  Q 18.609375 31.296875 18.609375 23.390625  Q 18.609375 15.53125 22.484375 10.953125  Q 26.375 6.390625 33.015625 6.390625  Q 39.65625 6.390625 43.53125 10.953125  Q 47.40625 15.53125 47.40625 23.390625  Q 47.40625 31.296875 43.53125 35.828125  Q 39.65625 40.375 33.015625 40.375  z M 52.59375 71.296875  L 52.59375 62.3125  Q 48.875 64.0625 45.09375 64.984375  Q 41.3125 65.921875 37.59375 65.921875  Q 27.828125 65.921875 22.671875 59.328125  Q 17.53125 52.734375 16.796875 39.40625  Q 19.671875 43.65625 24.015625 45.921875  Q 28.375 48.1875 33.59375 48.1875  Q 44.578125 48.1875 50.953125 41.515625  Q 57.328125 34.859375 57.328125 23.390625  Q 57.328125 12.15625 50.6875 5.359375  Q 44.046875 -1.421875 33.015625 -1.421875  Q 20.359375 -1.421875 13.671875 8.265625  Q 6.984375 17.96875 6.984375 36.375  Q 6.984375 53.65625 15.1875 63.9375  Q 23.390625 74.21875 37.203125 74.21875  Q 40.921875 74.21875 44.703125 73.484375  Q 48.484375 72.75 52.59375 71.296875  z \" id=\"DejaVuSans-36\"/>\n",
       "      </defs>\n",
       "      <g transform=\"translate(371.460511 128.959219)scale(0.1 -0.1)\">\n",
       "       <use xlink:href=\"#DejaVuSans-30\"/>\n",
       "       <use x=\"63.623047\" xlink:href=\"#DejaVuSans-2e\"/>\n",
       "       <use x=\"95.410156\" xlink:href=\"#DejaVuSans-36\"/>\n",
       "      </g>\n",
       "     </g>\n",
       "    </g>\n",
       "    <g id=\"ytick_10\">\n",
       "     <g id=\"line2d_28\">\n",
       "      <g>\n",
       "       <use style=\"stroke:#000000;stroke-width:0.8;\" x=\"394.363636\" xlink:href=\"#m08a483833b\" y=\"88.92\"/>\n",
       "      </g>\n",
       "     </g>\n",
       "     <g id=\"text_27\">\n",
       "      <!-- 0.8 -->\n",
       "      <defs>\n",
       "       <path d=\"M 31.78125 34.625  Q 24.75 34.625 20.71875 30.859375  Q 16.703125 27.09375 16.703125 20.515625  Q 16.703125 13.921875 20.71875 10.15625  Q 24.75 6.390625 31.78125 6.390625  Q 38.8125 6.390625 42.859375 10.171875  Q 46.921875 13.96875 46.921875 20.515625  Q 46.921875 27.09375 42.890625 30.859375  Q 38.875 34.625 31.78125 34.625  z M 21.921875 38.8125  Q 15.578125 40.375 12.03125 44.71875  Q 8.5 49.078125 8.5 55.328125  Q 8.5 64.0625 14.71875 69.140625  Q 20.953125 74.21875 31.78125 74.21875  Q 42.671875 74.21875 48.875 69.140625  Q 55.078125 64.0625 55.078125 55.328125  Q 55.078125 49.078125 51.53125 44.71875  Q 48 40.375 41.703125 38.8125  Q 48.828125 37.15625 52.796875 32.3125  Q 56.78125 27.484375 56.78125 20.515625  Q 56.78125 9.90625 50.3125 4.234375  Q 43.84375 -1.421875 31.78125 -1.421875  Q 19.734375 -1.421875 13.25 4.234375  Q 6.78125 9.90625 6.78125 20.515625  Q 6.78125 27.484375 10.78125 32.3125  Q 14.796875 37.15625 21.921875 38.8125  z M 18.3125 54.390625  Q 18.3125 48.734375 21.84375 45.5625  Q 25.390625 42.390625 31.78125 42.390625  Q 38.140625 42.390625 41.71875 45.5625  Q 45.3125 48.734375 45.3125 54.390625  Q 45.3125 60.0625 41.71875 63.234375  Q 38.140625 66.40625 31.78125 66.40625  Q 25.390625 66.40625 21.84375 63.234375  Q 18.3125 60.0625 18.3125 54.390625  z \" id=\"DejaVuSans-38\"/>\n",
       "      </defs>\n",
       "      <g transform=\"translate(371.460511 92.719219)scale(0.1 -0.1)\">\n",
       "       <use xlink:href=\"#DejaVuSans-30\"/>\n",
       "       <use x=\"63.623047\" xlink:href=\"#DejaVuSans-2e\"/>\n",
       "       <use x=\"95.410156\" xlink:href=\"#DejaVuSans-38\"/>\n",
       "      </g>\n",
       "     </g>\n",
       "    </g>\n",
       "    <g id=\"ytick_11\">\n",
       "     <g id=\"line2d_29\">\n",
       "      <g>\n",
       "       <use style=\"stroke:#000000;stroke-width:0.8;\" x=\"394.363636\" xlink:href=\"#m08a483833b\" y=\"52.68\"/>\n",
       "      </g>\n",
       "     </g>\n",
       "     <g id=\"text_28\">\n",
       "      <!-- 1.0 -->\n",
       "      <g transform=\"translate(371.460511 56.479219)scale(0.1 -0.1)\">\n",
       "       <use xlink:href=\"#DejaVuSans-31\"/>\n",
       "       <use x=\"63.623047\" xlink:href=\"#DejaVuSans-2e\"/>\n",
       "       <use x=\"95.410156\" xlink:href=\"#DejaVuSans-30\"/>\n",
       "      </g>\n",
       "     </g>\n",
       "    </g>\n",
       "   </g>\n",
       "   <g id=\"line2d_30\">\n",
       "    <path clip-path=\"url(#pb57bd998de)\" d=\"M 405.892562 216.26434  L 452.008264 68.83096  L 498.123967 57.25832  L 544.239669 55.7604  L 590.355372 55.10506  L 636.471074 54.67018  \" style=\"fill:none;stroke:#1f77b4;stroke-linecap:square;stroke-width:1.5;\"/>\n",
       "   </g>\n",
       "   <g id=\"line2d_31\">\n",
       "    <path clip-path=\"url(#pb57bd998de)\" d=\"M 405.892562 216.88344  L 452.008264 57.33684  L 498.123967 55.05372  L 544.239669 54.7638  L 590.355372 54.47388  L 636.471074 54.70944  \" style=\"fill:none;stroke:#ff7f0e;stroke-linecap:square;stroke-width:1.5;\"/>\n",
       "   </g>\n",
       "   <g id=\"patch_9\">\n",
       "    <path d=\"M 394.363636 252  L 394.363636 34.56  \" style=\"fill:none;stroke:#000000;stroke-linecap:square;stroke-linejoin:miter;stroke-width:0.8;\"/>\n",
       "   </g>\n",
       "   <g id=\"patch_10\">\n",
       "    <path d=\"M 648 252  L 648 34.56  \" style=\"fill:none;stroke:#000000;stroke-linecap:square;stroke-linejoin:miter;stroke-width:0.8;\"/>\n",
       "   </g>\n",
       "   <g id=\"patch_11\">\n",
       "    <path d=\"M 394.363636 252  L 648 252  \" style=\"fill:none;stroke:#000000;stroke-linecap:square;stroke-linejoin:miter;stroke-width:0.8;\"/>\n",
       "   </g>\n",
       "   <g id=\"patch_12\">\n",
       "    <path d=\"M 394.363636 34.56  L 648 34.56  \" style=\"fill:none;stroke:#000000;stroke-linecap:square;stroke-linejoin:miter;stroke-width:0.8;\"/>\n",
       "   </g>\n",
       "   <g id=\"text_29\">\n",
       "    <!-- MNIST_CNN: Accuracy -->\n",
       "    <defs>\n",
       "     <path d=\"M 34.1875 63.1875  L 20.796875 26.90625  L 47.609375 26.90625  z M 28.609375 72.90625  L 39.796875 72.90625  L 67.578125 0  L 57.328125 0  L 50.6875 18.703125  L 17.828125 18.703125  L 11.1875 0  L 0.78125 0  z \" id=\"DejaVuSans-41\"/>\n",
       "     <path d=\"M 8.5 21.578125  L 8.5 54.6875  L 17.484375 54.6875  L 17.484375 21.921875  Q 17.484375 14.15625 20.5 10.265625  Q 23.53125 6.390625 29.59375 6.390625  Q 36.859375 6.390625 41.078125 11.03125  Q 45.3125 15.671875 45.3125 23.6875  L 45.3125 54.6875  L 54.296875 54.6875  L 54.296875 0  L 45.3125 0  L 45.3125 8.40625  Q 42.046875 3.421875 37.71875 1  Q 33.40625 -1.421875 27.6875 -1.421875  Q 18.265625 -1.421875 13.375 4.4375  Q 8.5 10.296875 8.5 21.578125  z M 31.109375 56  z \" id=\"DejaVuSans-75\"/>\n",
       "     <path d=\"M 32.171875 -5.078125  Q 28.375 -14.84375 24.75 -17.8125  Q 21.140625 -20.796875 15.09375 -20.796875  L 7.90625 -20.796875  L 7.90625 -13.28125  L 13.1875 -13.28125  Q 16.890625 -13.28125 18.9375 -11.515625  Q 21 -9.765625 23.484375 -3.21875  L 25.09375 0.875  L 2.984375 54.6875  L 12.5 54.6875  L 29.59375 11.921875  L 46.6875 54.6875  L 56.203125 54.6875  z \" id=\"DejaVuSans-79\"/>\n",
       "    </defs>\n",
       "    <g transform=\"translate(454.679318 28.56)scale(0.12 -0.12)\">\n",
       "     <use xlink:href=\"#DejaVuSans-4d\"/>\n",
       "     <use x=\"86.279297\" xlink:href=\"#DejaVuSans-4e\"/>\n",
       "     <use x=\"161.083984\" xlink:href=\"#DejaVuSans-49\"/>\n",
       "     <use x=\"190.576172\" xlink:href=\"#DejaVuSans-53\"/>\n",
       "     <use x=\"254.052734\" xlink:href=\"#DejaVuSans-54\"/>\n",
       "     <use x=\"315.136719\" xlink:href=\"#DejaVuSans-5f\"/>\n",
       "     <use x=\"365.136719\" xlink:href=\"#DejaVuSans-43\"/>\n",
       "     <use x=\"434.960938\" xlink:href=\"#DejaVuSans-4e\"/>\n",
       "     <use x=\"509.765625\" xlink:href=\"#DejaVuSans-4e\"/>\n",
       "     <use x=\"584.570312\" xlink:href=\"#DejaVuSans-3a\"/>\n",
       "     <use x=\"618.261719\" xlink:href=\"#DejaVuSans-20\"/>\n",
       "     <use x=\"650.048828\" xlink:href=\"#DejaVuSans-41\"/>\n",
       "     <use x=\"718.441406\" xlink:href=\"#DejaVuSans-63\"/>\n",
       "     <use x=\"773.421875\" xlink:href=\"#DejaVuSans-63\"/>\n",
       "     <use x=\"828.402344\" xlink:href=\"#DejaVuSans-75\"/>\n",
       "     <use x=\"891.78125\" xlink:href=\"#DejaVuSans-72\"/>\n",
       "     <use x=\"932.894531\" xlink:href=\"#DejaVuSans-61\"/>\n",
       "     <use x=\"994.173828\" xlink:href=\"#DejaVuSans-63\"/>\n",
       "     <use x=\"1049.154297\" xlink:href=\"#DejaVuSans-79\"/>\n",
       "    </g>\n",
       "   </g>\n",
       "   <g id=\"legend_2\">\n",
       "    <g id=\"patch_13\">\n",
       "     <path d=\"M 540.39375 247  L 641 247  Q 643 247 643 245  L 643 216.64375  Q 643 214.64375 641 214.64375  L 540.39375 214.64375  Q 538.39375 214.64375 538.39375 216.64375  L 538.39375 245  Q 538.39375 247 540.39375 247  z \" style=\"fill:#ffffff;opacity:0.8;stroke:#cccccc;stroke-linejoin:miter;\"/>\n",
       "    </g>\n",
       "    <g id=\"line2d_32\">\n",
       "     <path d=\"M 542.39375 222.742188  L 562.39375 222.742188  \" style=\"fill:none;stroke:#1f77b4;stroke-linecap:square;stroke-width:1.5;\"/>\n",
       "    </g>\n",
       "    <g id=\"line2d_33\"/>\n",
       "    <g id=\"text_30\">\n",
       "     <!-- Training set -->\n",
       "     <g transform=\"translate(570.39375 226.242188)scale(0.1 -0.1)\">\n",
       "      <use xlink:href=\"#DejaVuSans-54\"/>\n",
       "      <use x=\"60.865234\" xlink:href=\"#DejaVuSans-72\"/>\n",
       "      <use x=\"101.978516\" xlink:href=\"#DejaVuSans-61\"/>\n",
       "      <use x=\"163.257812\" xlink:href=\"#DejaVuSans-69\"/>\n",
       "      <use x=\"191.041016\" xlink:href=\"#DejaVuSans-6e\"/>\n",
       "      <use x=\"254.419922\" xlink:href=\"#DejaVuSans-69\"/>\n",
       "      <use x=\"282.203125\" xlink:href=\"#DejaVuSans-6e\"/>\n",
       "      <use x=\"345.582031\" xlink:href=\"#DejaVuSans-67\"/>\n",
       "      <use x=\"409.058594\" xlink:href=\"#DejaVuSans-20\"/>\n",
       "      <use x=\"440.845703\" xlink:href=\"#DejaVuSans-73\"/>\n",
       "      <use x=\"492.945312\" xlink:href=\"#DejaVuSans-65\"/>\n",
       "      <use x=\"554.46875\" xlink:href=\"#DejaVuSans-74\"/>\n",
       "     </g>\n",
       "    </g>\n",
       "    <g id=\"line2d_34\">\n",
       "     <path d=\"M 542.39375 237.420312  L 562.39375 237.420312  \" style=\"fill:none;stroke:#ff7f0e;stroke-linecap:square;stroke-width:1.5;\"/>\n",
       "    </g>\n",
       "    <g id=\"line2d_35\"/>\n",
       "    <g id=\"text_31\">\n",
       "     <!-- Validation set -->\n",
       "     <g transform=\"translate(570.39375 240.920312)scale(0.1 -0.1)\">\n",
       "      <use xlink:href=\"#DejaVuSans-56\"/>\n",
       "      <use x=\"68.298828\" xlink:href=\"#DejaVuSans-61\"/>\n",
       "      <use x=\"129.578125\" xlink:href=\"#DejaVuSans-6c\"/>\n",
       "      <use x=\"157.361328\" xlink:href=\"#DejaVuSans-69\"/>\n",
       "      <use x=\"185.144531\" xlink:href=\"#DejaVuSans-64\"/>\n",
       "      <use x=\"248.621094\" xlink:href=\"#DejaVuSans-61\"/>\n",
       "      <use x=\"309.900391\" xlink:href=\"#DejaVuSans-74\"/>\n",
       "      <use x=\"349.109375\" xlink:href=\"#DejaVuSans-69\"/>\n",
       "      <use x=\"376.892578\" xlink:href=\"#DejaVuSans-6f\"/>\n",
       "      <use x=\"438.074219\" xlink:href=\"#DejaVuSans-6e\"/>\n",
       "      <use x=\"501.453125\" xlink:href=\"#DejaVuSans-20\"/>\n",
       "      <use x=\"533.240234\" xlink:href=\"#DejaVuSans-73\"/>\n",
       "      <use x=\"585.339844\" xlink:href=\"#DejaVuSans-65\"/>\n",
       "      <use x=\"646.863281\" xlink:href=\"#DejaVuSans-74\"/>\n",
       "     </g>\n",
       "    </g>\n",
       "   </g>\n",
       "  </g>\n",
       " </g>\n",
       " <defs>\n",
       "  <clipPath id=\"peb902867bb\">\n",
       "   <rect height=\"217.44\" width=\"253.636364\" x=\"90\" y=\"34.56\"/>\n",
       "  </clipPath>\n",
       "  <clipPath id=\"pb57bd998de\">\n",
       "   <rect height=\"217.44\" width=\"253.636364\" x=\"394.363636\" y=\"34.56\"/>\n",
       "  </clipPath>\n",
       " </defs>\n",
       "</svg>"
      ],
      "text/plain": [
       "<IPython.core.display.SVG object>"
      ]
     },
     "metadata": {},
     "output_type": "display_data"
    },
    {
     "name": "stdout",
     "output_type": "stream",
     "text": [
      "========================================================\n",
      "       |  Training |  Training |  Validate |  Validate \n",
      "Epochs |     Error |  Accuracy |     Error |  Accuracy \n",
      "------ | --------- | --------- | --------- | --------- \n",
      "#    5 |   0.03536 |   0.98902 |   0.03667 |   0.98880 \n"
     ]
    }
   ],
   "source": [
    "cnn.train(epochs=5, batch_size=128)"
   ]
  },
  {
   "cell_type": "code",
   "execution_count": null,
   "metadata": {},
   "outputs": [],
   "source": []
  }
 ],
 "metadata": {
  "kernelspec": {
   "display_name": "Python 3",
   "language": "python",
   "name": "python3"
  },
  "language_info": {
   "codemirror_mode": {
    "name": "ipython",
    "version": 3
   },
   "file_extension": ".py",
   "mimetype": "text/x-python",
   "name": "python",
   "nbconvert_exporter": "python",
   "pygments_lexer": "ipython3",
   "version": "3.5.3"
  },
  "widgets": {
   "application/vnd.jupyter.widget-state+json": {
    "state": {
     "00a0c416be89454d8a1d0c84e8dd7143": {
      "model_module": "@jupyter-widgets/base",
      "model_module_version": "1.0.0",
      "model_name": "LayoutModel",
      "state": {}
     },
     "010879bbeae944ba9ba15a4159830efd": {
      "model_module": "@jupyter-widgets/base",
      "model_module_version": "1.0.0",
      "model_name": "LayoutModel",
      "state": {}
     },
     "01ea334a465b4e0083085344285916af": {
      "model_module": "@jupyter-widgets/base",
      "model_module_version": "1.0.0",
      "model_name": "LayoutModel",
      "state": {}
     },
     "0316af5a5eee46f1a816348c9ea46399": {
      "model_module": "@jupyter-widgets/base",
      "model_module_version": "1.0.0",
      "model_name": "LayoutModel",
      "state": {
       "width": "100%"
      }
     },
     "0365fb2f84d046739041858aaedb2cd1": {
      "model_module": "@jupyter-widgets/controls",
      "model_module_version": "1.1.0",
      "model_name": "HTMLModel",
      "state": {
       "layout": "IPY_MODEL_c3b6c2db2ae846c285455a5d421dafb0",
       "style": "IPY_MODEL_9759ce4975ae433982c673a281f854e4",
       "value": "<img src=\"data:image/gif;base64,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\"/>"
      }
     },
     "042a45359b5d442e9caf8de51892a79e": {
      "model_module": "@jupyter-widgets/controls",
      "model_module_version": "1.1.0",
      "model_name": "FloatTextModel",
      "state": {
       "description": "Leftmost color maps to:",
       "layout": "IPY_MODEL_5754211689fb448898c47b25d4c15883",
       "step": null,
       "style": "IPY_MODEL_1b3f5c1a8bb54dd3bd09d662cae16f0f",
       "value": -1
      }
     },
     "049b7810434b4ec0a2914c8ec6aa5c0b": {
      "model_module": "@jupyter-widgets/controls",
      "model_module_version": "1.1.0",
      "model_name": "VBoxModel",
      "state": {
       "children": [
        "IPY_MODEL_f175b94fb1f54eeebc997c4a770743c3",
        "IPY_MODEL_5bfbf621d2684d66b8700190aa6108a3",
        "IPY_MODEL_8508308eebc34fc2bbcf4d2e29626b50",
        "IPY_MODEL_c451627eeb47419880f5839a8a6e8c5b"
       ],
       "layout": "IPY_MODEL_4b6fcf4b846a4495a78bbc8df04116fe"
      }
     },
     "04a6c49842af413abfbf5978040e2b80": {
      "model_module": "@jupyter-widgets/controls",
      "model_module_version": "1.1.0",
      "model_name": "SliderStyleModel",
      "state": {
       "description_width": "initial"
      }
     },
     "060a73d5160a45478adbdbafd6252aa1": {
      "model_module": "@jupyter-widgets/controls",
      "model_module_version": "1.1.0",
      "model_name": "DescriptionStyleModel",
      "state": {
       "description_width": "initial"
      }
     },
     "07578a05a4ee4c5ebc58120f60ae3f2d": {
      "model_module": "@jupyter-widgets/base",
      "model_module_version": "1.0.0",
      "model_name": "LayoutModel",
      "state": {
       "width": "100%"
      }
     },
     "076ec4b5fbbc47a198cf875fc5c652c9": {
      "model_module": "@jupyter-widgets/base",
      "model_module_version": "1.0.0",
      "model_name": "LayoutModel",
      "state": {
       "width": "100%"
      }
     },
     "07ef3ae077024c599493d4c6a715f618": {
      "model_module": "@jupyter-widgets/controls",
      "model_module_version": "1.1.0",
      "model_name": "FloatTextModel",
      "state": {
       "description": "Rightmost color maps to:",
       "layout": "IPY_MODEL_4e7ef33f121543d18cabe5438ebc5cb2",
       "step": null,
       "style": "IPY_MODEL_8195534b6bd944e1b6305228e0634dfb",
       "value": 1
      }
     },
     "091f97ffeb9743afbd4800db1dac14c7": {
      "model_module": "@jupyter-widgets/controls",
      "model_module_version": "1.1.0",
      "model_name": "HTMLModel",
      "state": {
       "layout": "IPY_MODEL_e0f04f1aa7174fb9acdd3a12b628b778",
       "style": "IPY_MODEL_e80cc683fdd64062baae78e305e7f7e0",
       "value": "<p style=\"text-align:center\"><svg id='MNIST_MLP' xmlns='http://www.w3.org/2000/svg' image-rendering=\"pixelated\" width=\"480.0px\" height=\"266.66666666666663px\">\n <g  transform=\"rotate(90) translate(0 -480.0)\" >\n  <svg viewBox=\"0 0 350 630\" width=\"266.66666666666663px\" height=\"480.0px\">\n    <defs>\n        <marker id=\"arrow\" markerWidth=\"10\" markerHeight=\"10\" refX=\"9\" refY=\"3\" orient=\"auto\" markerUnits=\"strokeWidth\">\n          <path d=\"M0,0 L0,6 L9,3 z\" fill=\"black\" />\n        </marker>\n    </defs><rect x=\"74.0\" y=\"24\" width=\"202\" height=\"52\" style=\"fill:none;stroke:black;stroke-width:2\"/><image id=\"picture-dashboard-MNIST_MLP-739260_output_targets_1\" class=\"picture-dashboard-MNIST_MLP-739260_output_targets\" x=\"75.0\" y=\"25\" height=\"50\" width=\"200\" preserveAspectRatio=\"none\" href=\"data:image/gif;base64,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\"><title>Layer: output (output)\n output range: (-1.0, 1.0)\n shape = (10,)\n Keras class = Dense\n activation = softmax</title></image><text x=\"288.0\" y=\"52.0\" font-family=\"monospace\" font-size=\"12\" text-anchor=\"middle\" fill=\"black\" alignment-baseline=\"central\"  transform=\"rotate(-90 288.0 52.0) translate(2)\" >targets</text><rect x=\"74.0\" y=\"84\" width=\"202\" height=\"52\" style=\"fill:none;stroke:black;stroke-width:2\"/><image id=\"picture-dashboard-MNIST_MLP-739260_output-rotated_1\" class=\"picture-dashboard-MNIST_MLP-739260_output-rotated\" x=\"75.0\" y=\"85\" height=\"50\" width=\"200\" preserveAspectRatio=\"none\" href=\"data:image/gif;base64,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\"><title>Layer: output (output)\n output range: (-1.0, 1.0)\n shape = (10,)\n Keras class = Dense\n activation = softmax</title></image><text x=\"288.0\" y=\"112.0\" font-family=\"monospace\" font-size=\"12\" text-anchor=\"middle\" fill=\"black\" alignment-baseline=\"central\"  transform=\"rotate(-90 288.0 112.0) translate(2)\" >output</text><line x1=\"175.0\" y1=\"164\" x2=\"175.0\" y2=\"137\" stroke=\"black\" stroke-width=\"2\" marker-end=\"url(#arrow)\"><title>Weights from hidden2 to output\n output/kernel has shape (30, 10)\n output/bias has shape (10,)</title></line><rect x=\"74.0\" y=\"164\" width=\"202\" height=\"52\" style=\"fill:none;stroke:black;stroke-width:2\"/><image id=\"picture-dashboard-MNIST_MLP-739260_hidden2-rotated_2\" class=\"picture-dashboard-MNIST_MLP-739260_hidden2-rotated\" x=\"75.0\" y=\"165\" height=\"50\" width=\"200\" preserveAspectRatio=\"none\" href=\"data:image/gif;base64,R0lGODdhHgABAIcAAP78/RUV/+np/wEB9jU1/y0t/wAAaAAAUoSE/0FB/62t/93d/wAAAAAAAAAAAAAAAAAAAAAAAAAAAAAAAAAAAAAAAAAAAAAAAAAAAAAAAAAAAAAAAAAAAAAAAAAAAAAAAAAAAAAAAAAAAAAAAAAAAAAAAAAAAAAAAAAAAAAAAAAAAAAAAAAAAAAAAAAAAAAAAAAAAAAAAAAAAAAAAAAAAAAAAAAAAAAAAAAAAAAAAAAAAAAAAAAAAAAAAAAAAAAAAAAAAAAAAAAAAAAAAAAAAAAAAAAAAAAAAAAAAAAAAAAAAAAAAAAAAAAAAAAAAAAAAAAAAAAAAAAAAAAAAAAAAAAAAAAAAAAAAAAAAAAAAAAAAAAAAAAAAAAAAAAAAAAAAAAAAAAAAAAAAAAAAAAAAAAAAAAAAAAAAAAAAAAAAAAAAAAAAAAAAAAAAAAAAAAAAAAAAAAAAAAAAAAAAAAAAAAAAAAAAAAAAAAAAAAAAAAAAAAAAAAAAAAAAAAAAAAAAAAAAAAAAAAAAAAAAAAAAAAAAAAAAAAAAAAAAAAAAAAAAAAAAAAAAAAAAAAAAAAAAAAAAAAAAAAAAAAAAAAAAAAAAAAAAAAAAAAAAAAAAAAAAAAAAAAAAAAAAAAAAAAAAAAAAAAAAAAAAAAAAAAAAAAAAAAAAAAAAAAAAAAAAAAAAAAAAAAAAAAAAAAAAAAAAAAAAAAAAAAAAAAAAAAAAAAAAAAAAAAAAAAAAAAAAAAAAAAAAAAAAAAAAAAAAAAAAAAAAAAAAAAAAAAAAAAAAAAAAAAAAAAAAAAAAAAAAAAAAAAAAAAAAAAAAAAAAAAAAAAAAAAAAAAAAAAAAAAAAAAAAAAAAAAAAAAAAAAAAAAAAAAAAAAAAAAAAAAAAAAAAAAAAAAAAAAAAAAAAAAAAAAAAAAAAAAAAAAAAAAAAAAAAAAAAAAAAAAAAAAAAAAAAAAAAAAAAAAAAAAAAAAAAAAAAAAAAAAAAAAAAAAAAAAAAAAAAAAAAAAAAAAAAAAAACwAAAAAHgABAAAIIwABABggAECCAggICAAQQEGABQMADBBwAACAAAAyAjAAAEBAADs=\"><title>Layer: hidden2 (hidden)\n output range: (-1.0, 1.0)\n shape = (30,)\n dropout = 0.2\n Keras class = Dense\n activation = relu</title></image><text x=\"288.0\" y=\"192.0\" font-family=\"monospace\" font-size=\"12\" text-anchor=\"middle\" fill=\"black\" alignment-baseline=\"central\"  transform=\"rotate(-90 288.0 192.0) translate(2)\" >hidden2</text><text x=\"62.0\" y=\"170\" font-family=\"monospace\" font-size=\"24.0\" text-anchor=\"middle\" fill=\"black\" alignment-baseline=\"central\"  transform=\"rotate(-90 62.0 170) translate(2)\" >&#10683;</text><line x1=\"175.0\" y1=\"244\" x2=\"175.0\" y2=\"217\" stroke=\"black\" stroke-width=\"2\" marker-end=\"url(#arrow)\"><title>Weights from hidden1 to hidden2\n hidden2/kernel has shape (30, 30)\n hidden2/bias has shape (30,)</title></line><rect x=\"74.0\" y=\"244\" width=\"202\" height=\"52\" style=\"fill:none;stroke:black;stroke-width:2\"/><image id=\"picture-dashboard-MNIST_MLP-739260_hidden1-rotated_3\" class=\"picture-dashboard-MNIST_MLP-739260_hidden1-rotated\" x=\"75.0\" y=\"245\" height=\"50\" width=\"200\" preserveAspectRatio=\"none\" href=\"data:image/gif;base64,R0lGODdhHgABAIcAAP78/YGB/wAAlwAA0UtL/1FR/wUF/wAAdnV1/wAATNnZ/xAQ/wAAAAAAAAAAAAAAAAAAAAAAAAAAAAAAAAAAAAAAAAAAAAAAAAAAAAAAAAAAAAAAAAAAAAAAAAAAAAAAAAAAAAAAAAAAAAAAAAAAAAAAAAAAAAAAAAAAAAAAAAAAAAAAAAAAAAAAAAAAAAAAAAAAAAAAAAAAAAAAAAAAAAAAAAAAAAAAAAAAAAAAAAAAAAAAAAAAAAAAAAAAAAAAAAAAAAAAAAAAAAAAAAAAAAAAAAAAAAAAAAAAAAAAAAAAAAAAAAAAAAAAAAAAAAAAAAAAAAAAAAAAAAAAAAAAAAAAAAAAAAAAAAAAAAAAAAAAAAAAAAAAAAAAAAAAAAAAAAAAAAAAAAAAAAAAAAAAAAAAAAAAAAAAAAAAAAAAAAAAAAAAAAAAAAAAAAAAAAAAAAAAAAAAAAAAAAAAAAAAAAAAAAAAAAAAAAAAAAAAAAAAAAAAAAAAAAAAAAAAAAAAAAAAAAAAAAAAAAAAAAAAAAAAAAAAAAAAAAAAAAAAAAAAAAAAAAAAAAAAAAAAAAAAAAAAAAAAAAAAAAAAAAAAAAAAAAAAAAAAAAAAAAAAAAAAAAAAAAAAAAAAAAAAAAAAAAAAAAAAAAAAAAAAAAAAAAAAAAAAAAAAAAAAAAAAAAAAAAAAAAAAAAAAAAAAAAAAAAAAAAAAAAAAAAAAAAAAAAAAAAAAAAAAAAAAAAAAAAAAAAAAAAAAAAAAAAAAAAAAAAAAAAAAAAAAAAAAAAAAAAAAAAAAAAAAAAAAAAAAAAAAAAAAAAAAAAAAAAAAAAAAAAAAAAAAAAAAAAAAAAAAAAAAAAAAAAAAAAAAAAAAAAAAAAAAAAAAAAAAAAAAAAAAAAAAAAAAAAAAAAAAAAAAAAAAAAAAAAAAAAAAAAAAAAAAAAAAAAAAAAAAAAAAAAAAAAAAAAAAAAAAAAAAAAAAAAAAAAAAAAAAAAAAAAAAAAAAAAAAAAAAAAAAAAAAAAAAACwAAAAAHgABAAAIIgABCAwAwMABAgUCAFgIAAEABQQGAAAwQAAAAQsAJAAAICAAOw==\"><title>Layer: hidden1 (hidden)\n output range: (-1.0, 1.0)\n shape = (30,)\n dropout = 0.2\n Keras class = Dense\n activation = relu</title></image><text x=\"288.0\" y=\"272.0\" font-family=\"monospace\" font-size=\"12\" text-anchor=\"middle\" fill=\"black\" alignment-baseline=\"central\"  transform=\"rotate(-90 288.0 272.0) translate(2)\" >hidden1</text><text x=\"62.0\" y=\"250\" font-family=\"monospace\" font-size=\"24.0\" text-anchor=\"middle\" fill=\"black\" alignment-baseline=\"central\"  transform=\"rotate(-90 62.0 250) translate(2)\" >&#10683;</text><line x1=\"175.0\" y1=\"324\" x2=\"175.0\" y2=\"297\" stroke=\"black\" stroke-width=\"2\" marker-end=\"url(#arrow)\"><title>Weights from flat_input to hidden1\n hidden1/kernel has shape (784, 30)\n hidden1/bias has shape (30,)</title></line><rect x=\"74.0\" y=\"324\" width=\"202\" height=\"52\" style=\"fill:none;stroke:black;stroke-width:2\"/><image id=\"picture-dashboard-MNIST_MLP-739260_flat_input-rotated_4\" class=\"picture-dashboard-MNIST_MLP-739260_flat_input-rotated\" x=\"75.0\" y=\"325\" height=\"50\" width=\"200\" preserveAspectRatio=\"none\" href=\"data:image/gif;base64,R0lGODdhEAMBAIcAAAAAAPv7+xUVFVVVVampqbm5uSgoKMfHx4aGhpiYmEREROTk5NjY2Hl5eTU1NWtrawAAAAAAAAAAAAAAAAAAAAAAAAAAAAAAAAAAAAAAAAAAAAAAAAAAAAAAAAAAAAAAAAAAAAAAAAAAAAAAAAAAAAAAAAAAAAAAAAAAAAAAAAAAAAAAAAAAAAAAAAAAAAAAAAAAAAAAAAAAAAAAAAAAAAAAAAAAAAAAAAAAAAAAAAAAAAAAAAAAAAAAAAAAAAAAAAAAAAAAAAAAAAAAAAAAAAAAAAAAAAAAAAAAAAAAAAAAAAAAAAAAAAAAAAAAAAAAAAAAAAAAAAAAAAAAAAAAAAAAAAAAAAAAAAAAAAAAAAAAAAAAAAAAAAAAAAAAAAAAAAAAAAAAAAAAAAAAAAAAAAAAAAAAAAAAAAAAAAAAAAAAAAAAAAAAAAAAAAAAAAAAAAAAAAAAAAAAAAAAAAAAAAAAAAAAAAAAAAAAAAAAAAAAAAAAAAAAAAAAAAAAAAAAAAAAAAAAAAAAAAAAAAAAAAAAAAAAAAAAAAAAAAAAAAAAAAAAAAAAAAAAAAAAAAAAAAAAAAAAAAAAAAAAAAAAAAAAAAAAAAAAAAAAAAAAAAAAAAAAAAAAAAAAAAAAAAAAAAAAAAAAAAAAAAAAAAAAAAAAAAAAAAAAAAAAAAAAAAAAAAAAAAAAAAAAAAAAAAAAAAAAAAAAAAAAAAAAAAAAAAAAAAAAAAAAAAAAAAAAAAAAAAAAAAAAAAAAAAAAAAAAAAAAAAAAAAAAAAAAAAAAAAAAAAAAAAAAAAAAAAAAAAAAAAAAAAAAAAAAAAAAAAAAAAAAAAAAAAAAAAAAAAAAAAAAAAAAAAAAAAAAAAAAAAAAAAAAAAAAAAAAAAAAAAAAAAAAAAAAAAAAAAAAAAAAAAAAAAAAAAAAAAAAAAAAAAAAAAAAAAAAAAAAAAAAAAAAAAAAAAAAAAAAAAAAAAAAAAAAAAAAAAAAAAAAAAAAAAAAAAAAAAAAAAAAAAAAAAAAACwAAAAAEAMBAAAI/wABCBxIsKDBgwgTKlzIsKHDhxAjCpjYAAEBAQQCBGgAoKPHjx0FGBiQgECAkycXEAgQ4IACADBjygTgYEGAmzhxDtjpwACAn0CD/hTAIIBRowcKBAgAoKnTp1CdDkjwIECAAwAAGEgAoKvXr2DDJggwAIDZs2jTqkWLIEABAHDjyp1Ld26BAAoA6N3Lt69fvgYCLCDwAIDhw4gTKz48IIDjBgIASJ5MubJlyQYKBAiQQACAz6BDix79WcCAAAEKAFjNurXr160DyFYAoLbt27hzG0BQIECAAwCCCx9OnLiBBAsCKA9QAIDz59CjPxfQgEGA6wEOKADAvbv379wFKEdgEKB8gAMDAKhfz769egEEGASYH+DAAAD48+vfj98BAYALAgwciADAQYQJFSZEEMAhAwQIBACgWNHiRYwZNW7k2NHjx40BAQA7\"><title>Layer: flat_input (hidden)\n output range: (0.0, 1.0)\n Keras class = Flatten</title></image><text x=\"288.0\" y=\"352.0\" font-family=\"monospace\" font-size=\"12\" text-anchor=\"middle\" fill=\"black\" alignment-baseline=\"central\"  transform=\"rotate(-90 288.0 352.0) translate(2)\" >flat_input</text><line x1=\"175.0\" y1=\"404\" x2=\"175.0\" y2=\"377\" stroke=\"black\" stroke-width=\"2\" marker-end=\"url(#arrow)\"><title>Weights from input to flat_input</title></line><rect x=\"74.0\" y=\"404\" width=\"202\" height=\"202\" style=\"fill:none;stroke:black;stroke-width:2\"/><image id=\"picture-dashboard-MNIST_MLP-739260_input-rotated_5\" class=\"picture-dashboard-MNIST_MLP-739260_input-rotated\" x=\"75.0\" y=\"405\" height=\"200\" width=\"200\" preserveAspectRatio=\"none\" href=\"data:image/gif;base64,R0lGODdhHAAcAIcAAAAAAPv7+xUVFVVVVampqbm5uSgoKMfHx4aGhpiYmEREROTk5NjY2Hl5eTU1NWtrawAAAAAAAAAAAAAAAAAAAAAAAAAAAAAAAAAAAAAAAAAAAAAAAAAAAAAAAAAAAAAAAAAAAAAAAAAAAAAAAAAAAAAAAAAAAAAAAAAAAAAAAAAAAAAAAAAAAAAAAAAAAAAAAAAAAAAAAAAAAAAAAAAAAAAAAAAAAAAAAAAAAAAAAAAAAAAAAAAAAAAAAAAAAAAAAAAAAAAAAAAAAAAAAAAAAAAAAAAAAAAAAAAAAAAAAAAAAAAAAAAAAAAAAAAAAAAAAAAAAAAAAAAAAAAAAAAAAAAAAAAAAAAAAAAAAAAAAAAAAAAAAAAAAAAAAAAAAAAAAAAAAAAAAAAAAAAAAAAAAAAAAAAAAAAAAAAAAAAAAAAAAAAAAAAAAAAAAAAAAAAAAAAAAAAAAAAAAAAAAAAAAAAAAAAAAAAAAAAAAAAAAAAAAAAAAAAAAAAAAAAAAAAAAAAAAAAAAAAAAAAAAAAAAAAAAAAAAAAAAAAAAAAAAAAAAAAAAAAAAAAAAAAAAAAAAAAAAAAAAAAAAAAAAAAAAAAAAAAAAAAAAAAAAAAAAAAAAAAAAAAAAAAAAAAAAAAAAAAAAAAAAAAAAAAAAAAAAAAAAAAAAAAAAAAAAAAAAAAAAAAAAAAAAAAAAAAAAAAAAAAAAAAAAAAAAAAAAAAAAAAAAAAAAAAAAAAAAAAAAAAAAAAAAAAAAAAAAAAAAAAAAAAAAAAAAAAAAAAAAAAAAAAAAAAAAAAAAAAAAAAAAAAAAAAAAAAAAAAAAAAAAAAAAAAAAAAAAAAAAAAAAAAAAAAAAAAAAAAAAAAAAAAAAAAAAAAAAAAAAAAAAAAAAAAAAAAAAAAAAAAAAAAAAAAAAAAAAAAAAAAAAAAAAAAAAAAAAAAAAAAAAAAAAAAAAAAAAAAAAAAAAAAAAAAAAAAAAAAAAAAAAAAAAAAAAAAAAAAAAAAAAAAAAAAAAAAAAAAAACwAAAAAHAAcAEAI/wABCBxIsKDBgwUFEBgAoKFDAAIKBDhQAIDFixgxJgjAMQECACBDgmwQoKQAAChTqlzJsqXLBgoAyJxJs6bNmgICBCgAoCcAAgEKCACAIECAAwCSKl2q1IEAAFCjSo1KIEAAAFizat3KtavXAAEcABhLtqzZs2URBFibAIBbAA0CyJV7AIDdu3jtCgjA98CAAgECDABAGECCAAEOAFjMuDEAAwECJABAubJlAAoCBEAAoLPnz6BDgyYQAIDp06hTq17NurXr17BjAwhwwACA27hz696dm0CAAQCCCxeuAIDx48iTE1gwAIDz5wISBJgeQAGA69izX28QoLsBAOAfBIEIMABAgQABBgBYz749AAEBAhwAQF/BggAGAAAwsCBAAIADAAwkWBAAgQAJExYwAMChQwMMAgRAAMDiRYwDAgR4AMDjR5ACGAQIgADASZQoBSxgMADAS5gxAQhgEIABAJw5de7kqVPAggAAhA4lWtRoUQcIACxl2tTpU6hRpU5tGhAAOw==\"><title>Layer: input (input)\n output range: (0.0, 1.0)\n shape = (28, 28, 1)\n Keras class = Input</title></image><text x=\"288.0\" y=\"507.0\" font-family=\"monospace\" font-size=\"12\" text-anchor=\"middle\" fill=\"black\" alignment-baseline=\"central\"  transform=\"rotate(-90 288.0 507.0) translate(2)\" >input</text><text x=\"88.0\" y=\"390\" font-family=\"monospace\" font-size=\"12\" text-anchor=\"middle\" fill=\"black\" alignment-baseline=\"central\"  transform=\"rotate(-90 88.0 390) translate(2)\" >1</text><text x=\"273.0\" y=\"620\" font-family=\"monospace\" font-size=\"12\" text-anchor=\"middle\" fill=\"black\" alignment-baseline=\"central\"  transform=\"rotate(-90 273.0 620) translate(2)\" >0</text><text x=\"18\" y=\"315.0\" font-family=\"monospace\" font-size=\"15\" text-anchor=\"middle\" fill=\"black\" alignment-baseline=\"central\"  transform=\"rotate(-90 18 315.0) translate(2)\" >MNIST_MLP</text></svg></g></svg></p>"
      }
     },
     "0f249c18e719499b99c6e4b443036127": {
      "model_module": "@jupyter-widgets/base",
      "model_module_version": "1.0.0",
      "model_name": "LayoutModel",
      "state": {
       "height": "40px"
      }
     },
     "11cb3e87c4524f9e85a3cd22c298bcf3": {
      "model_module": "@jupyter-widgets/controls",
      "model_module_version": "1.1.0",
      "model_name": "FloatTextModel",
      "state": {
       "description": "Leftmost color maps to:",
       "layout": "IPY_MODEL_dffdde244add45429acfb265b0caea4b",
       "step": null,
       "style": "IPY_MODEL_a80d56d2af6740758aedb277f6706979",
       "value": -1
      }
     },
     "122d49764add43c2975e8b4487f389d5": {
      "model_module": "@jupyter-widgets/controls",
      "model_module_version": "1.1.0",
      "model_name": "ButtonStyleModel",
      "state": {}
     },
     "1554bd87703b49f9b678f213fe2e1322": {
      "model_module": "@jupyter-widgets/controls",
      "model_module_version": "1.1.0",
      "model_name": "DescriptionStyleModel",
      "state": {
       "description_width": ""
      }
     },
     "176ee7a8acc148ebb801ebdbfe9c9524": {
      "model_module": "@jupyter-widgets/controls",
      "model_module_version": "1.1.0",
      "model_name": "ButtonModel",
      "state": {
       "description": "Play",
       "icon": "play",
       "layout": "IPY_MODEL_752c2291e0e044ceb5d7cf7e9c22c36d",
       "style": "IPY_MODEL_c4c4a982b27c46b9b2d4cf43a35cbb51"
      }
     },
     "18e90a61e31249758c9a91913eee64e9": {
      "model_module": "@jupyter-widgets/controls",
      "model_module_version": "1.1.0",
      "model_name": "FloatTextModel",
      "state": {
       "description": "Feature scale:",
       "layout": "IPY_MODEL_79251add86f044f8baed6d378373c31e",
       "step": null,
       "style": "IPY_MODEL_4670618ac32b49928640955637707ec8",
       "value": 1
      }
     },
     "1a77eb35f5764e7f8400d72a251e6fbf": {
      "model_module": "@jupyter-widgets/controls",
      "model_module_version": "1.1.0",
      "model_name": "ButtonModel",
      "state": {
       "icon": "fast-backward",
       "layout": "IPY_MODEL_2720959cdb854e64a32ef74b040900cb",
       "style": "IPY_MODEL_da3092ed85e7415783f07c5ca3c1b7a6"
      }
     },
     "1ad09a4624e74971a7bdaaf3bdc2b81b": {
      "model_module": "@jupyter-widgets/base",
      "model_module_version": "1.0.0",
      "model_name": "LayoutModel",
      "state": {
       "width": "100%"
      }
     },
     "1b3f5c1a8bb54dd3bd09d662cae16f0f": {
      "model_module": "@jupyter-widgets/controls",
      "model_module_version": "1.1.0",
      "model_name": "DescriptionStyleModel",
      "state": {
       "description_width": "initial"
      }
     },
     "1b94cf8c068e476fb0050922c0267c3a": {
      "model_module": "@jupyter-widgets/controls",
      "model_module_version": "1.1.0",
      "model_name": "IntTextModel",
      "state": {
       "layout": "IPY_MODEL_fc7c30c2791741699187b63adaae7454",
       "step": 1,
       "style": "IPY_MODEL_5687db6f7e8a4f3caa6856beecdcceaa"
      }
     },
     "1bd85b05333b4d72af998a86706f4e73": {
      "model_module": "@jupyter-widgets/controls",
      "model_module_version": "1.1.0",
      "model_name": "IntTextModel",
      "state": {
       "description": "Vertical space between layers:",
       "layout": "IPY_MODEL_6b9e17ae03da4992990b0563d3413a6c",
       "step": 1,
       "style": "IPY_MODEL_691fa72d92724766923dc86602438aa9",
       "value": 30
      }
     },
     "1c60f97584bf4b89b3886f94987e28c4": {
      "model_module": "@jupyter-widgets/controls",
      "model_module_version": "1.1.0",
      "model_name": "IntTextModel",
      "state": {
       "description": "Feature to show:",
       "layout": "IPY_MODEL_96525c7aa4ea4fbf91a0525e5b89debf",
       "step": 1,
       "style": "IPY_MODEL_af2440162ba94488a12b8fd602f35280"
      }
     },
     "1c6a13cd85bd40d98af0cda5d4388a36": {
      "model_module": "@jupyter-widgets/base",
      "model_module_version": "1.0.0",
      "model_name": "LayoutModel",
      "state": {
       "width": "100%"
      }
     },
     "1d05c1812b254f9586aae470834c11df": {
      "model_module": "@jupyter-widgets/controls",
      "model_module_version": "1.1.0",
      "model_name": "DescriptionStyleModel",
      "state": {
       "description_width": ""
      }
     },
     "1e1a0c5988bf435f847c9fffe6b2995e": {
      "model_module": "@jupyter-widgets/controls",
      "model_module_version": "1.1.0",
      "model_name": "SelectModel",
      "state": {
       "_options_labels": [
        "input",
        "flat_input",
        "hidden1",
        "hidden2",
        "output"
       ],
       "description": "Layer:",
       "index": 4,
       "layout": "IPY_MODEL_cca274b078ef4f949c65d69f81bd512a",
       "rows": 1,
       "style": "IPY_MODEL_ff46ec3afef046bc9d56487f2924befa"
      }
     },
     "2172512c47bf43bfb9dff60d1f95bc9e": {
      "model_module": "@jupyter-widgets/controls",
      "model_module_version": "1.1.0",
      "model_name": "DescriptionStyleModel",
      "state": {
       "description_width": "initial"
      }
     },
     "232a16ade1294b5dbbbb28860cf9a83f": {
      "model_module": "@jupyter-widgets/controls",
      "model_module_version": "1.1.0",
      "model_name": "CheckboxModel",
      "state": {
       "description": "Show Targets",
       "disabled": false,
       "layout": "IPY_MODEL_6b9e17ae03da4992990b0563d3413a6c",
       "style": "IPY_MODEL_a25bde89ebf94fe1a3359eec07be3e19",
       "value": true
      }
     },
     "25fe20bf27864c27bbaa1218b3cfab9c": {
      "model_module": "@jupyter-widgets/base",
      "model_module_version": "1.0.0",
      "model_name": "LayoutModel",
      "state": {
       "width": "100%"
      }
     },
     "2651dc063a114de2b94b2f64a284b63e": {
      "model_module": "@jupyter-widgets/base",
      "model_module_version": "1.0.0",
      "model_name": "LayoutModel",
      "state": {
       "width": "100%"
      }
     },
     "2720959cdb854e64a32ef74b040900cb": {
      "model_module": "@jupyter-widgets/base",
      "model_module_version": "1.0.0",
      "model_name": "LayoutModel",
      "state": {
       "width": "100%"
      }
     },
     "2896f42ea7e247a381d3d7a51d78fc42": {
      "model_module": "@jupyter-widgets/controls",
      "model_module_version": "1.1.0",
      "model_name": "HBoxModel",
      "state": {
       "children": [
        "IPY_MODEL_1a77eb35f5764e7f8400d72a251e6fbf",
        "IPY_MODEL_d7f2fe32a432412e8ae5d86f33989d78",
        "IPY_MODEL_1b94cf8c068e476fb0050922c0267c3a",
        "IPY_MODEL_740ec493ce744f1e8f2f1b28590e1709",
        "IPY_MODEL_da739f84862e4182a201d7cb49bb3a92",
        "IPY_MODEL_176ee7a8acc148ebb801ebdbfe9c9524",
        "IPY_MODEL_6b335564ab284024b1d7041eea79704e"
       ],
       "layout": "IPY_MODEL_5081f6dc9b434db6a54bb0185108e1d0"
      }
     },
     "29d452475de64fc3ae3ad565a87784ce": {
      "model_module": "@jupyter-widgets/controls",
      "model_module_version": "1.1.0",
      "model_name": "DescriptionStyleModel",
      "state": {
       "description_width": ""
      }
     },
     "2b2b43f676e24ca4bc3d7736f5c7854f": {
      "model_module": "@jupyter-widgets/base",
      "model_module_version": "1.0.0",
      "model_name": "LayoutModel",
      "state": {
       "width": "100%"
      }
     },
     "2b3561f362fd4fbfb81330d5e302e28f": {
      "model_module": "@jupyter-widgets/base",
      "model_module_version": "1.0.0",
      "model_name": "LayoutModel",
      "state": {}
     },
     "2bd65363a00b48e191e569024c8615e9": {
      "model_module": "@jupyter-widgets/controls",
      "model_module_version": "1.1.0",
      "model_name": "DescriptionStyleModel",
      "state": {
       "description_width": "initial"
      }
     },
     "2c415ba261be4f85b4b208bff9ff5556": {
      "model_module": "@jupyter-widgets/base",
      "model_module_version": "1.0.0",
      "model_name": "LayoutModel",
      "state": {}
     },
     "2d2747a7fa9048738c03f4546e43c0b8": {
      "model_module": "@jupyter-widgets/controls",
      "model_module_version": "1.1.0",
      "model_name": "CheckboxModel",
      "state": {
       "description": "Show Targets",
       "disabled": false,
       "layout": "IPY_MODEL_3c41fd59df9949f98c822bebbb88f0d4",
       "style": "IPY_MODEL_7bbedd0f817e456b91963f56a428b052",
       "value": true
      }
     },
     "2e9055c0f4334fd6a92d24bc21d23478": {
      "model_module": "@jupyter-widgets/controls",
      "model_module_version": "1.1.0",
      "model_name": "SelectModel",
      "state": {
       "_options_labels": [
        "input",
        "conv2D_1",
        "maxpool1",
        "conv2D_2",
        "maxpool2",
        "flat",
        "hidden",
        "output"
       ],
       "description": "Layer:",
       "index": 7,
       "layout": "IPY_MODEL_01ea334a465b4e0083085344285916af",
       "rows": 1,
       "style": "IPY_MODEL_8a0ebb70dbf543af8cdf6a58d3ac161f"
      }
     },
     "2ee35e84272b4f6da501648a3534c9fc": {
      "model_module": "@jupyter-widgets/controls",
      "model_module_version": "1.1.0",
      "model_name": "FloatTextModel",
      "state": {
       "description": "Rightmost color maps to:",
       "layout": "IPY_MODEL_e4c70c74b6de4b378bfc10507c647535",
       "step": null,
       "style": "IPY_MODEL_517cda8fceb742c8bd6d939152922218",
       "value": 1
      }
     },
     "35b4df2ecd7749248ca2d4a8bbaff5b7": {
      "model_module": "@jupyter-widgets/base",
      "model_module_version": "1.0.0",
      "model_name": "LayoutModel",
      "state": {}
     },
     "376613bdc41b40b89e1c0fe9debc9b3e": {
      "model_module": "@jupyter-widgets/controls",
      "model_module_version": "1.1.0",
      "model_name": "SelectModel",
      "state": {
       "_options_labels": [
        "",
        "Accent",
        "Accent_r",
        "Blues",
        "Blues_r",
        "BrBG",
        "BrBG_r",
        "BuGn",
        "BuGn_r",
        "BuPu",
        "BuPu_r",
        "CMRmap",
        "CMRmap_r",
        "Dark2",
        "Dark2_r",
        "GnBu",
        "GnBu_r",
        "Greens",
        "Greens_r",
        "Greys",
        "Greys_r",
        "OrRd",
        "OrRd_r",
        "Oranges",
        "Oranges_r",
        "PRGn",
        "PRGn_r",
        "Paired",
        "Paired_r",
        "Pastel1",
        "Pastel1_r",
        "Pastel2",
        "Pastel2_r",
        "PiYG",
        "PiYG_r",
        "PuBu",
        "PuBuGn",
        "PuBuGn_r",
        "PuBu_r",
        "PuOr",
        "PuOr_r",
        "PuRd",
        "PuRd_r",
        "Purples",
        "Purples_r",
        "RdBu",
        "RdBu_r",
        "RdGy",
        "RdGy_r",
        "RdPu",
        "RdPu_r",
        "RdYlBu",
        "RdYlBu_r",
        "RdYlGn",
        "RdYlGn_r",
        "Reds",
        "Reds_r",
        "Set1",
        "Set1_r",
        "Set2",
        "Set2_r",
        "Set3",
        "Set3_r",
        "Spectral",
        "Spectral_r",
        "Vega10",
        "Vega10_r",
        "Vega20",
        "Vega20_r",
        "Vega20b",
        "Vega20b_r",
        "Vega20c",
        "Vega20c_r",
        "Wistia",
        "Wistia_r",
        "YlGn",
        "YlGnBu",
        "YlGnBu_r",
        "YlGn_r",
        "YlOrBr",
        "YlOrBr_r",
        "YlOrRd",
        "YlOrRd_r",
        "afmhot",
        "afmhot_r",
        "autumn",
        "autumn_r",
        "binary",
        "binary_r",
        "bone",
        "bone_r",
        "brg",
        "brg_r",
        "bwr",
        "bwr_r",
        "cool",
        "cool_r",
        "coolwarm",
        "coolwarm_r",
        "copper",
        "copper_r",
        "cubehelix",
        "cubehelix_r",
        "flag",
        "flag_r",
        "gist_earth",
        "gist_earth_r",
        "gist_gray",
        "gist_gray_r",
        "gist_heat",
        "gist_heat_r",
        "gist_ncar",
        "gist_ncar_r",
        "gist_rainbow",
        "gist_rainbow_r",
        "gist_stern",
        "gist_stern_r",
        "gist_yarg",
        "gist_yarg_r",
        "gnuplot",
        "gnuplot2",
        "gnuplot2_r",
        "gnuplot_r",
        "gray",
        "gray_r",
        "hot",
        "hot_r",
        "hsv",
        "hsv_r",
        "inferno",
        "inferno_r",
        "jet",
        "jet_r",
        "magma",
        "magma_r",
        "nipy_spectral",
        "nipy_spectral_r",
        "ocean",
        "ocean_r",
        "pink",
        "pink_r",
        "plasma",
        "plasma_r",
        "prism",
        "prism_r",
        "rainbow",
        "rainbow_r",
        "seismic",
        "seismic_r",
        "spectral",
        "spectral_r",
        "spring",
        "spring_r",
        "summer",
        "summer_r",
        "tab10",
        "tab10_r",
        "tab20",
        "tab20_r",
        "tab20b",
        "tab20b_r",
        "tab20c",
        "tab20c_r",
        "terrain",
        "terrain_r",
        "viridis",
        "viridis_r",
        "winter",
        "winter_r"
       ],
       "description": "Colormap:",
       "index": 0,
       "layout": "IPY_MODEL_3c41fd59df9949f98c822bebbb88f0d4",
       "rows": 1,
       "style": "IPY_MODEL_d603af3995a34541a6c50e47e100b6c8"
      }
     },
     "384f4f27a7244ddb89f69d12cb86bd69": {
      "model_module": "@jupyter-widgets/controls",
      "model_module_version": "1.1.0",
      "model_name": "DescriptionStyleModel",
      "state": {
       "description_width": ""
      }
     },
     "39419225049d40d287c67bef25a048d4": {
      "model_module": "@jupyter-widgets/controls",
      "model_module_version": "1.1.0",
      "model_name": "HBoxModel",
      "state": {
       "children": [
        "IPY_MODEL_f2b174bee4d34bafae0abd8230f592f3",
        "IPY_MODEL_3f75981003e5461392a2fe58af45460d"
       ],
       "layout": "IPY_MODEL_cd7f28153d314155a16f309ca4c77c46"
      }
     },
     "39e053a723634ac4a8803301e93e1e40": {
      "model_module": "@jupyter-widgets/controls",
      "model_module_version": "1.1.0",
      "model_name": "VBoxModel",
      "state": {
       "children": [
        "IPY_MODEL_2e9055c0f4334fd6a92d24bc21d23478",
        "IPY_MODEL_6060d71f457047d28be31f1543c67fbc",
        "IPY_MODEL_376613bdc41b40b89e1c0fe9debc9b3e",
        "IPY_MODEL_0365fb2f84d046739041858aaedb2cd1",
        "IPY_MODEL_042a45359b5d442e9caf8de51892a79e",
        "IPY_MODEL_07ef3ae077024c599493d4c6a715f618",
        "IPY_MODEL_80f7a86051fe45abb269e2f6e5eff2b7",
        "IPY_MODEL_39419225049d40d287c67bef25a048d4"
       ],
       "layout": "IPY_MODEL_07578a05a4ee4c5ebc58120f60ae3f2d"
      }
     },
     "3abbae6015554600b2ce982ef3745d46": {
      "model_module": "@jupyter-widgets/controls",
      "model_module_version": "1.1.0",
      "model_name": "DescriptionStyleModel",
      "state": {
       "description_width": "initial"
      }
     },
     "3c41fd59df9949f98c822bebbb88f0d4": {
      "model_module": "@jupyter-widgets/base",
      "model_module_version": "1.0.0",
      "model_name": "LayoutModel",
      "state": {}
     },
     "3d6213823b5e4ae194d35d3492f4164d": {
      "model_module": "@jupyter-widgets/controls",
      "model_module_version": "1.1.0",
      "model_name": "SelectModel",
      "state": {
       "_options_labels": [
        "Test",
        "Train"
       ],
       "description": "Dataset:",
       "index": 0,
       "layout": "IPY_MODEL_b7aee2c503fe467db32b876e1eded7ac",
       "rows": 1,
       "style": "IPY_MODEL_87365352492e435fb85fce3e2dd75634"
      }
     },
     "3e130be43b314562bf102132401b83cf": {
      "model_module": "@jupyter-widgets/controls",
      "model_module_version": "1.1.0",
      "model_name": "ButtonStyleModel",
      "state": {}
     },
     "3eeb02d2b0d849888b8d0d1d0223785f": {
      "model_module": "@jupyter-widgets/controls",
      "model_module_version": "1.1.0",
      "model_name": "HTMLModel",
      "state": {
       "layout": "IPY_MODEL_50dd3c8391bd4742b369c1b458a1c072",
       "style": "IPY_MODEL_83fff1f10d4f4286a05d7715f12fad39",
       "value": "<img src=\"data:image/gif;base64,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\"/>"
      }
     },
     "3f75981003e5461392a2fe58af45460d": {
      "model_module": "@jupyter-widgets/controls",
      "model_module_version": "1.1.0",
      "model_name": "ButtonModel",
      "state": {
       "icon": "save",
       "layout": "IPY_MODEL_52c61f2688524a11a32065ca0065ab58",
       "style": "IPY_MODEL_f039b881554f45fcb2f316ab1fdfdc01"
      }
     },
     "4670618ac32b49928640955637707ec8": {
      "model_module": "@jupyter-widgets/controls",
      "model_module_version": "1.1.0",
      "model_name": "DescriptionStyleModel",
      "state": {
       "description_width": "initial"
      }
     },
     "46fe1462a7f64c9a95d14daeff5f8fa4": {
      "model_module": "@jupyter-widgets/controls",
      "model_module_version": "1.1.0",
      "model_name": "ButtonModel",
      "state": {
       "icon": "fast-backward",
       "layout": "IPY_MODEL_1c6a13cd85bd40d98af0cda5d4388a36",
       "style": "IPY_MODEL_a618541a3f9842f2aaa43da84c11eddb"
      }
     },
     "4b6fcf4b846a4495a78bbc8df04116fe": {
      "model_module": "@jupyter-widgets/base",
      "model_module_version": "1.0.0",
      "model_name": "LayoutModel",
      "state": {}
     },
     "4c12f35687f8451a92b288cf95db5f7d": {
      "model_module": "@jupyter-widgets/controls",
      "model_module_version": "1.1.0",
      "model_name": "IntTextModel",
      "state": {
       "description": "Vertical space between layers:",
       "layout": "IPY_MODEL_3c41fd59df9949f98c822bebbb88f0d4",
       "step": 1,
       "style": "IPY_MODEL_3abbae6015554600b2ce982ef3745d46",
       "value": 30
      }
     },
     "4d279a7ca9bb46ebb8f9458fb0afb6f4": {
      "model_module": "@jupyter-widgets/controls",
      "model_module_version": "1.1.0",
      "model_name": "ButtonStyleModel",
      "state": {}
     },
     "4e7ef33f121543d18cabe5438ebc5cb2": {
      "model_module": "@jupyter-widgets/base",
      "model_module_version": "1.0.0",
      "model_name": "LayoutModel",
      "state": {}
     },
     "4e80c6f1d3a04f898e0050049ff29aa9": {
      "model_module": "@jupyter-widgets/controls",
      "model_module_version": "1.1.0",
      "model_name": "ButtonModel",
      "state": {
       "icon": "save",
       "layout": "IPY_MODEL_d216a787661f4a8c854a7c618b0ed493",
       "style": "IPY_MODEL_9784bf7680264b51ac48e6f3dfc625b0"
      }
     },
     "4f7dd900e90144488cc88d719f5f5594": {
      "model_module": "@jupyter-widgets/base",
      "model_module_version": "1.0.0",
      "model_name": "LayoutModel",
      "state": {
       "width": "100px"
      }
     },
     "5081f6dc9b434db6a54bb0185108e1d0": {
      "model_module": "@jupyter-widgets/base",
      "model_module_version": "1.0.0",
      "model_name": "LayoutModel",
      "state": {
       "height": "50px",
       "width": "100%"
      }
     },
     "50dd3c8391bd4742b369c1b458a1c072": {
      "model_module": "@jupyter-widgets/base",
      "model_module_version": "1.0.0",
      "model_name": "LayoutModel",
      "state": {}
     },
     "517cda8fceb742c8bd6d939152922218": {
      "model_module": "@jupyter-widgets/controls",
      "model_module_version": "1.1.0",
      "model_name": "DescriptionStyleModel",
      "state": {
       "description_width": "initial"
      }
     },
     "5216a4a1b38945cf876c9ac4e90d86e8": {
      "model_module": "@jupyter-widgets/controls",
      "model_module_version": "1.1.0",
      "model_name": "SelectModel",
      "state": {
       "_options_labels": [
        "",
        "Accent",
        "Accent_r",
        "Blues",
        "Blues_r",
        "BrBG",
        "BrBG_r",
        "BuGn",
        "BuGn_r",
        "BuPu",
        "BuPu_r",
        "CMRmap",
        "CMRmap_r",
        "Dark2",
        "Dark2_r",
        "GnBu",
        "GnBu_r",
        "Greens",
        "Greens_r",
        "Greys",
        "Greys_r",
        "OrRd",
        "OrRd_r",
        "Oranges",
        "Oranges_r",
        "PRGn",
        "PRGn_r",
        "Paired",
        "Paired_r",
        "Pastel1",
        "Pastel1_r",
        "Pastel2",
        "Pastel2_r",
        "PiYG",
        "PiYG_r",
        "PuBu",
        "PuBuGn",
        "PuBuGn_r",
        "PuBu_r",
        "PuOr",
        "PuOr_r",
        "PuRd",
        "PuRd_r",
        "Purples",
        "Purples_r",
        "RdBu",
        "RdBu_r",
        "RdGy",
        "RdGy_r",
        "RdPu",
        "RdPu_r",
        "RdYlBu",
        "RdYlBu_r",
        "RdYlGn",
        "RdYlGn_r",
        "Reds",
        "Reds_r",
        "Set1",
        "Set1_r",
        "Set2",
        "Set2_r",
        "Set3",
        "Set3_r",
        "Spectral",
        "Spectral_r",
        "Vega10",
        "Vega10_r",
        "Vega20",
        "Vega20_r",
        "Vega20b",
        "Vega20b_r",
        "Vega20c",
        "Vega20c_r",
        "Wistia",
        "Wistia_r",
        "YlGn",
        "YlGnBu",
        "YlGnBu_r",
        "YlGn_r",
        "YlOrBr",
        "YlOrBr_r",
        "YlOrRd",
        "YlOrRd_r",
        "afmhot",
        "afmhot_r",
        "autumn",
        "autumn_r",
        "binary",
        "binary_r",
        "bone",
        "bone_r",
        "brg",
        "brg_r",
        "bwr",
        "bwr_r",
        "cool",
        "cool_r",
        "coolwarm",
        "coolwarm_r",
        "copper",
        "copper_r",
        "cubehelix",
        "cubehelix_r",
        "flag",
        "flag_r",
        "gist_earth",
        "gist_earth_r",
        "gist_gray",
        "gist_gray_r",
        "gist_heat",
        "gist_heat_r",
        "gist_ncar",
        "gist_ncar_r",
        "gist_rainbow",
        "gist_rainbow_r",
        "gist_stern",
        "gist_stern_r",
        "gist_yarg",
        "gist_yarg_r",
        "gnuplot",
        "gnuplot2",
        "gnuplot2_r",
        "gnuplot_r",
        "gray",
        "gray_r",
        "hot",
        "hot_r",
        "hsv",
        "hsv_r",
        "inferno",
        "inferno_r",
        "jet",
        "jet_r",
        "magma",
        "magma_r",
        "nipy_spectral",
        "nipy_spectral_r",
        "ocean",
        "ocean_r",
        "pink",
        "pink_r",
        "plasma",
        "plasma_r",
        "prism",
        "prism_r",
        "rainbow",
        "rainbow_r",
        "seismic",
        "seismic_r",
        "spectral",
        "spectral_r",
        "spring",
        "spring_r",
        "summer",
        "summer_r",
        "tab10",
        "tab10_r",
        "tab20",
        "tab20_r",
        "tab20b",
        "tab20b_r",
        "tab20c",
        "tab20c_r",
        "terrain",
        "terrain_r",
        "viridis",
        "viridis_r",
        "winter",
        "winter_r"
       ],
       "description": "Colormap:",
       "index": 0,
       "layout": "IPY_MODEL_6b9e17ae03da4992990b0563d3413a6c",
       "rows": 1,
       "style": "IPY_MODEL_1554bd87703b49f9b678f213fe2e1322"
      }
     },
     "52b8609add824136b8b29dea332ae796": {
      "model_module": "@jupyter-widgets/base",
      "model_module_version": "1.0.0",
      "model_name": "LayoutModel",
      "state": {}
     },
     "52c61f2688524a11a32065ca0065ab58": {
      "model_module": "@jupyter-widgets/base",
      "model_module_version": "1.0.0",
      "model_name": "LayoutModel",
      "state": {
       "width": "10%"
      }
     },
     "5687db6f7e8a4f3caa6856beecdcceaa": {
      "model_module": "@jupyter-widgets/controls",
      "model_module_version": "1.1.0",
      "model_name": "DescriptionStyleModel",
      "state": {
       "description_width": ""
      }
     },
     "572b826eae09426d8c9e468c994c663e": {
      "model_module": "@jupyter-widgets/controls",
      "model_module_version": "1.1.0",
      "model_name": "HBoxModel",
      "state": {
       "children": [
        "IPY_MODEL_2d2747a7fa9048738c03f4546e43c0b8",
        "IPY_MODEL_e73a1b2d5e3d4b47a62f4630e0dd3f3f"
       ],
       "layout": "IPY_MODEL_77bc7af966e74c81bd3494915e0f7555"
      }
     },
     "5754211689fb448898c47b25d4c15883": {
      "model_module": "@jupyter-widgets/base",
      "model_module_version": "1.0.0",
      "model_name": "LayoutModel",
      "state": {}
     },
     "58805dd514b34a6ca5ff9c420a5332dd": {
      "model_module": "@jupyter-widgets/base",
      "model_module_version": "1.0.0",
      "model_name": "LayoutModel",
      "state": {}
     },
     "5b4890e4c33d41f391023ffc1bd158bf": {
      "model_module": "@jupyter-widgets/controls",
      "model_module_version": "1.1.0",
      "model_name": "SelectModel",
      "state": {
       "_options_labels": [
        "",
        "input",
        "conv2D_1",
        "maxpool1",
        "conv2D_2",
        "maxpool2"
       ],
       "description": "Features:",
       "index": 2,
       "layout": "IPY_MODEL_2b3561f362fd4fbfb81330d5e302e28f",
       "rows": 1,
       "style": "IPY_MODEL_29d452475de64fc3ae3ad565a87784ce"
      }
     },
     "5bfbf621d2684d66b8700190aa6108a3": {
      "model_module": "@jupyter-widgets/controls",
      "model_module_version": "1.1.0",
      "model_name": "VBoxModel",
      "state": {
       "children": [
        "IPY_MODEL_c8981b0277424e9f9ac48ffde075b511",
        "IPY_MODEL_2896f42ea7e247a381d3d7a51d78fc42"
       ],
       "layout": "IPY_MODEL_bcbfa408e153452d9345784a46576718"
      }
     },
     "5d7d71d6cd4744a0ba57b5d5f5211bc9": {
      "model_module": "@jupyter-widgets/controls",
      "model_module_version": "1.1.0",
      "model_name": "VBoxModel",
      "state": {
       "children": [
        "IPY_MODEL_d33907520f384553be123a1f73f7189d",
        "IPY_MODEL_f874fd6580ab40a2844c6a24c6097b12"
       ],
       "layout": "IPY_MODEL_a08944d3df5e4c79aa7a391858c59339"
      }
     },
     "5f50bdfa09da463086a955dd4b7fb309": {
      "model_module": "@jupyter-widgets/controls",
      "model_module_version": "1.1.0",
      "model_name": "ButtonStyleModel",
      "state": {}
     },
     "6060d71f457047d28be31f1543c67fbc": {
      "model_module": "@jupyter-widgets/controls",
      "model_module_version": "1.1.0",
      "model_name": "CheckboxModel",
      "state": {
       "description": "Visible",
       "disabled": false,
       "layout": "IPY_MODEL_3c41fd59df9949f98c822bebbb88f0d4",
       "style": "IPY_MODEL_f6229435d9b849a3a6734ecab9f2e9c4",
       "value": true
      }
     },
     "61acd885eb4649e0b34bf6b8fbb46dc2": {
      "model_module": "@jupyter-widgets/base",
      "model_module_version": "1.0.0",
      "model_name": "LayoutModel",
      "state": {
       "width": "100%"
      }
     },
     "6486ec8f4683477fb2e9e07f9bf6098f": {
      "model_module": "@jupyter-widgets/controls",
      "model_module_version": "1.1.0",
      "model_name": "SliderStyleModel",
      "state": {
       "description_width": ""
      }
     },
     "65599a24768a496dad38b383cfa08933": {
      "model_module": "@jupyter-widgets/base",
      "model_module_version": "1.0.0",
      "model_name": "LayoutModel",
      "state": {
       "width": "52%"
      }
     },
     "66685dbc737e43af9793f6b9acef4fa6": {
      "model_module": "@jupyter-widgets/base",
      "model_module_version": "1.0.0",
      "model_name": "LayoutModel",
      "state": {
       "justify_content": "center",
       "overflow_x": "auto",
       "overflow_y": "auto",
       "width": "95%"
      }
     },
     "66b28c0904554bfc9babf0ab41f5b499": {
      "model_module": "@jupyter-widgets/controls",
      "model_module_version": "1.1.0",
      "model_name": "DescriptionStyleModel",
      "state": {
       "description_width": ""
      }
     },
     "6796dbfbde7a485e971164abf9846d3c": {
      "model_module": "@jupyter-widgets/base",
      "model_module_version": "1.0.0",
      "model_name": "LayoutModel",
      "state": {
       "width": "100%"
      }
     },
     "691fa72d92724766923dc86602438aa9": {
      "model_module": "@jupyter-widgets/controls",
      "model_module_version": "1.1.0",
      "model_name": "DescriptionStyleModel",
      "state": {
       "description_width": "initial"
      }
     },
     "69ebe5d3e1e24b8aa23994793162170f": {
      "model_module": "@jupyter-widgets/controls",
      "model_module_version": "1.1.0",
      "model_name": "DescriptionStyleModel",
      "state": {
       "description_width": "initial"
      }
     },
     "6b335564ab284024b1d7041eea79704e": {
      "model_module": "@jupyter-widgets/controls",
      "model_module_version": "1.1.0",
      "model_name": "ButtonModel",
      "state": {
       "icon": "refresh",
       "layout": "IPY_MODEL_ab32b10f1b8c49789bac162f0ce0b138",
       "style": "IPY_MODEL_4d279a7ca9bb46ebb8f9458fb0afb6f4"
      }
     },
     "6b3f9fc99cce48c4baf520d2020c3b67": {
      "model_module": "@jupyter-widgets/controls",
      "model_module_version": "1.1.0",
      "model_name": "DescriptionStyleModel",
      "state": {
       "description_width": ""
      }
     },
     "6b7848101c884eaa899c702e1fa4b31a": {
      "model_module": "@jupyter-widgets/controls",
      "model_module_version": "1.1.0",
      "model_name": "SliderStyleModel",
      "state": {
       "description_width": ""
      }
     },
     "6b9e17ae03da4992990b0563d3413a6c": {
      "model_module": "@jupyter-widgets/base",
      "model_module_version": "1.0.0",
      "model_name": "LayoutModel",
      "state": {}
     },
     "6fd150c04e8a47a5b1786e034144ffe8": {
      "model_module": "@jupyter-widgets/base",
      "model_module_version": "1.0.0",
      "model_name": "LayoutModel",
      "state": {}
     },
     "7226e8ba8ddb4491b827ee2a6e6e9453": {
      "model_module": "@jupyter-widgets/controls",
      "model_module_version": "1.1.0",
      "model_name": "DescriptionStyleModel",
      "state": {
       "description_width": "initial"
      }
     },
     "73f353202ef544408ee0f9da8c40083c": {
      "model_module": "@jupyter-widgets/controls",
      "model_module_version": "1.1.0",
      "model_name": "IntTextModel",
      "state": {
       "description": "Horizontal space between banks:",
       "layout": "IPY_MODEL_6b9e17ae03da4992990b0563d3413a6c",
       "step": 1,
       "style": "IPY_MODEL_faaa921378c947f0846dcc29fd58a8b6",
       "value": 150
      }
     },
     "740ec493ce744f1e8f2f1b28590e1709": {
      "model_module": "@jupyter-widgets/controls",
      "model_module_version": "1.1.0",
      "model_name": "ButtonModel",
      "state": {
       "icon": "forward",
       "layout": "IPY_MODEL_1ad09a4624e74971a7bdaaf3bdc2b81b",
       "style": "IPY_MODEL_d2b49ce98e294e5c8b50b61977b630fb"
      }
     },
     "752c2291e0e044ceb5d7cf7e9c22c36d": {
      "model_module": "@jupyter-widgets/base",
      "model_module_version": "1.0.0",
      "model_name": "LayoutModel",
      "state": {
       "width": "100%"
      }
     },
     "759351f941824fda926de1964bd908dd": {
      "model_module": "@jupyter-widgets/controls",
      "model_module_version": "1.1.0",
      "model_name": "HBoxModel",
      "state": {
       "children": [
        "IPY_MODEL_232a16ade1294b5dbbbb28860cf9a83f",
        "IPY_MODEL_f02ece69270045a080674dfc3fa708a5"
       ],
       "layout": "IPY_MODEL_ee0dd5d096194fe68753f399babcdb19"
      }
     },
     "776c9cc517984a3d9e4b120c8c224840": {
      "model_module": "@jupyter-widgets/controls",
      "model_module_version": "1.1.0",
      "model_name": "DescriptionStyleModel",
      "state": {
       "description_width": "initial"
      }
     },
     "77bc7af966e74c81bd3494915e0f7555": {
      "model_module": "@jupyter-widgets/base",
      "model_module_version": "1.0.0",
      "model_name": "LayoutModel",
      "state": {}
     },
     "7919924c236a422f8794d5f9d8b0fb80": {
      "model_module": "@jupyter-widgets/controls",
      "model_module_version": "1.1.0",
      "model_name": "DescriptionStyleModel",
      "state": {
       "description_width": "initial"
      }
     },
     "79251add86f044f8baed6d378373c31e": {
      "model_module": "@jupyter-widgets/base",
      "model_module_version": "1.0.0",
      "model_name": "LayoutModel",
      "state": {}
     },
     "79a7eb8123654a0cbbde276912137f21": {
      "model_module": "@jupyter-widgets/base",
      "model_module_version": "1.0.0",
      "model_name": "LayoutModel",
      "state": {}
     },
     "7b917296125a4cfb82557881f3fe8781": {
      "model_module": "@jupyter-widgets/controls",
      "model_module_version": "1.1.0",
      "model_name": "DescriptionStyleModel",
      "state": {
       "description_width": ""
      }
     },
     "7bbedd0f817e456b91963f56a428b052": {
      "model_module": "@jupyter-widgets/controls",
      "model_module_version": "1.1.0",
      "model_name": "DescriptionStyleModel",
      "state": {
       "description_width": "initial"
      }
     },
     "8095db67d63a40c5bb8e61cf4197c6d7": {
      "model_module": "@jupyter-widgets/controls",
      "model_module_version": "1.1.0",
      "model_name": "IntTextModel",
      "state": {
       "description": "Horizontal space between banks:",
       "layout": "IPY_MODEL_3c41fd59df9949f98c822bebbb88f0d4",
       "step": 1,
       "style": "IPY_MODEL_060a73d5160a45478adbdbafd6252aa1",
       "value": 150
      }
     },
     "80f7a86051fe45abb269e2f6e5eff2b7": {
      "model_module": "@jupyter-widgets/controls",
      "model_module_version": "1.1.0",
      "model_name": "IntTextModel",
      "state": {
       "description": "Feature to show:",
       "layout": "IPY_MODEL_00a0c416be89454d8a1d0c84e8dd7143",
       "step": 1,
       "style": "IPY_MODEL_2172512c47bf43bfb9dff60d1f95bc9e"
      }
     },
     "8195534b6bd944e1b6305228e0634dfb": {
      "model_module": "@jupyter-widgets/controls",
      "model_module_version": "1.1.0",
      "model_name": "DescriptionStyleModel",
      "state": {
       "description_width": "initial"
      }
     },
     "82eebe283cba4a418917fd7b328e564d": {
      "model_module": "@jupyter-widgets/base",
      "model_module_version": "1.0.0",
      "model_name": "LayoutModel",
      "state": {}
     },
     "839a78a67ba34fee9ef4033e4a944e44": {
      "model_module": "@jupyter-widgets/base",
      "model_module_version": "1.0.0",
      "model_name": "LayoutModel",
      "state": {
       "width": "65%"
      }
     },
     "83fff1f10d4f4286a05d7715f12fad39": {
      "model_module": "@jupyter-widgets/controls",
      "model_module_version": "1.1.0",
      "model_name": "DescriptionStyleModel",
      "state": {
       "description_width": ""
      }
     },
     "8508308eebc34fc2bbcf4d2e29626b50": {
      "model_module": "@jupyter-widgets/controls",
      "model_module_version": "1.1.0",
      "model_name": "HTMLModel",
      "state": {
       "layout": "IPY_MODEL_66685dbc737e43af9793f6b9acef4fa6",
       "style": "IPY_MODEL_f1a5bbb395254f24b13ce7824e0194d3",
       "value": "\n<table align=\"center\" style=\"width: 100%;\">\n <tr>\n  <td valign=\"top\"><p style=\"text-align:center\"><svg id='MNIST_CNN' xmlns='http://www.w3.org/2000/svg' image-rendering=\"pixelated\" width=\"800.0000000000001px\" height=\"190.47619047619048px\">\n <g  transform=\"rotate(90) translate(0 -800.0000000000001)\" >\n  <svg viewBox=\"0 0 350 1470\" width=\"190.47619047619048px\" height=\"800.0000000000001px\">\n    <defs>\n        <marker id=\"arrow\" markerWidth=\"10\" markerHeight=\"10\" refX=\"9\" refY=\"3\" orient=\"auto\" markerUnits=\"strokeWidth\">\n          <path d=\"M0,0 L0,6 L9,3 z\" fill=\"black\" />\n        </marker>\n    </defs><rect x=\"74.0\" y=\"24\" width=\"202\" height=\"52\" style=\"fill:none;stroke:black;stroke-width:2\"/><image id=\"picture-dashboard-MNIST_CNN-128856_output_targets_1\" class=\"picture-dashboard-MNIST_CNN-128856_output_targets\" x=\"75.0\" y=\"25\" height=\"50\" width=\"200\" preserveAspectRatio=\"none\" href=\"data:image/gif;base64,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\"><title>Layer: output (output)\n output range: (-1.0, 1.0)\n shape = (10,)\n Keras class = Dense\n activation = softmax</title></image><text x=\"288.0\" y=\"52.0\" font-family=\"monospace\" font-size=\"12\" text-anchor=\"middle\" fill=\"black\" alignment-baseline=\"central\"  transform=\"rotate(-90 288.0 52.0) translate(2)\" >targets</text><rect x=\"74.0\" y=\"84\" width=\"202\" height=\"52\" style=\"fill:none;stroke:black;stroke-width:2\"/><image id=\"picture-dashboard-MNIST_CNN-128856_output-rotated_1\" class=\"picture-dashboard-MNIST_CNN-128856_output-rotated\" x=\"75.0\" y=\"85\" height=\"50\" width=\"200\" preserveAspectRatio=\"none\" href=\"data:image/gif;base64,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\"><title>Layer: output (output)\n output range: (-1.0, 1.0)\n shape = (10,)\n Keras class = Dense\n activation = softmax</title></image><text x=\"288.0\" y=\"112.0\" font-family=\"monospace\" font-size=\"12\" text-anchor=\"middle\" fill=\"black\" alignment-baseline=\"central\"  transform=\"rotate(-90 288.0 112.0) translate(2)\" >output</text><line x1=\"175.0\" y1=\"164\" x2=\"175.0\" y2=\"137\" stroke=\"black\" stroke-width=\"2\" marker-end=\"url(#arrow)\"><title>Weights from hidden to output\n output/kernel has shape (30, 10)\n output/bias has shape (10,)</title></line><rect x=\"74.0\" y=\"164\" width=\"202\" height=\"52\" style=\"fill:none;stroke:black;stroke-width:2\"/><image id=\"picture-dashboard-MNIST_CNN-128856_hidden-rotated_2\" class=\"picture-dashboard-MNIST_CNN-128856_hidden-rotated\" x=\"75.0\" y=\"165\" height=\"50\" width=\"200\" preserveAspectRatio=\"none\" href=\"data:image/gif;base64,R0lGODdhHgABAIcAAP38/aWl/5eX/3d3/8vL/2tr/+3t/wAAAAAAAAAAAAAAAAAAAAAAAAAAAAAAAAAAAAAAAAAAAAAAAAAAAAAAAAAAAAAAAAAAAAAAAAAAAAAAAAAAAAAAAAAAAAAAAAAAAAAAAAAAAAAAAAAAAAAAAAAAAAAAAAAAAAAAAAAAAAAAAAAAAAAAAAAAAAAAAAAAAAAAAAAAAAAAAAAAAAAAAAAAAAAAAAAAAAAAAAAAAAAAAAAAAAAAAAAAAAAAAAAAAAAAAAAAAAAAAAAAAAAAAAAAAAAAAAAAAAAAAAAAAAAAAAAAAAAAAAAAAAAAAAAAAAAAAAAAAAAAAAAAAAAAAAAAAAAAAAAAAAAAAAAAAAAAAAAAAAAAAAAAAAAAAAAAAAAAAAAAAAAAAAAAAAAAAAAAAAAAAAAAAAAAAAAAAAAAAAAAAAAAAAAAAAAAAAAAAAAAAAAAAAAAAAAAAAAAAAAAAAAAAAAAAAAAAAAAAAAAAAAAAAAAAAAAAAAAAAAAAAAAAAAAAAAAAAAAAAAAAAAAAAAAAAAAAAAAAAAAAAAAAAAAAAAAAAAAAAAAAAAAAAAAAAAAAAAAAAAAAAAAAAAAAAAAAAAAAAAAAAAAAAAAAAAAAAAAAAAAAAAAAAAAAAAAAAAAAAAAAAAAAAAAAAAAAAAAAAAAAAAAAAAAAAAAAAAAAAAAAAAAAAAAAAAAAAAAAAAAAAAAAAAAAAAAAAAAAAAAAAAAAAAAAAAAAAAAAAAAAAAAAAAAAAAAAAAAAAAAAAAAAAAAAAAAAAAAAAAAAAAAAAAAAAAAAAAAAAAAAAAAAAAAAAAAAAAAAAAAAAAAAAAAAAAAAAAAAAAAAAAAAAAAAAAAAAAAAAAAAAAAAAAAAAAAAAAAAAAAAAAAAAAAAAAAAAAAAAAAAAAAAAAAAAAAAAAAAAAAAAAAAAAAAAAAAAAAAAAAAAAAAAAAAAAAAAAAAAAAAAAAAAAAAAAAAAAAAAAAAAAAAAAAAAAAAAAAAAAAAAAAAAAAAAAAACwAAAAAHgABAAAIIAABCBRA0ACAAAASBigAAEAAABABDCgAYAABAgAADAgIADs=\"><title>Layer: hidden (hidden)\n output range: (-1.0, 1.0)\n shape = (30,)\n Keras class = Dense\n activation = relu</title></image><text x=\"288.0\" y=\"192.0\" font-family=\"monospace\" font-size=\"12\" text-anchor=\"middle\" fill=\"black\" alignment-baseline=\"central\"  transform=\"rotate(-90 288.0 192.0) translate(2)\" >hidden</text><line x1=\"175.0\" y1=\"244\" x2=\"175.0\" y2=\"217\" stroke=\"black\" stroke-width=\"2\" marker-end=\"url(#arrow)\"><title>Weights from flat to hidden\n hidden/kernel has shape (512, 30)\n hidden/bias has shape (30,)</title></line><rect x=\"74.0\" y=\"244\" width=\"202\" height=\"52\" style=\"fill:none;stroke:black;stroke-width:2\"/><image id=\"picture-dashboard-MNIST_CNN-128856_flat-rotated_3\" class=\"picture-dashboard-MNIST_CNN-128856_flat-rotated\" x=\"75.0\" y=\"245\" height=\"50\" width=\"200\" preserveAspectRatio=\"none\" href=\"data:image/gif;base64,R0lGODdhAAIBAIcAAPv6/efn/9fX/8fH/7e3/6en/5qa/wAAAAAAAAAAAAAAAAAAAAAAAAAAAAAAAAAAAAAAAAAAAAAAAAAAAAAAAAAAAAAAAAAAAAAAAAAAAAAAAAAAAAAAAAAAAAAAAAAAAAAAAAAAAAAAAAAAAAAAAAAAAAAAAAAAAAAAAAAAAAAAAAAAAAAAAAAAAAAAAAAAAAAAAAAAAAAAAAAAAAAAAAAAAAAAAAAAAAAAAAAAAAAAAAAAAAAAAAAAAAAAAAAAAAAAAAAAAAAAAAAAAAAAAAAAAAAAAAAAAAAAAAAAAAAAAAAAAAAAAAAAAAAAAAAAAAAAAAAAAAAAAAAAAAAAAAAAAAAAAAAAAAAAAAAAAAAAAAAAAAAAAAAAAAAAAAAAAAAAAAAAAAAAAAAAAAAAAAAAAAAAAAAAAAAAAAAAAAAAAAAAAAAAAAAAAAAAAAAAAAAAAAAAAAAAAAAAAAAAAAAAAAAAAAAAAAAAAAAAAAAAAAAAAAAAAAAAAAAAAAAAAAAAAAAAAAAAAAAAAAAAAAAAAAAAAAAAAAAAAAAAAAAAAAAAAAAAAAAAAAAAAAAAAAAAAAAAAAAAAAAAAAAAAAAAAAAAAAAAAAAAAAAAAAAAAAAAAAAAAAAAAAAAAAAAAAAAAAAAAAAAAAAAAAAAAAAAAAAAAAAAAAAAAAAAAAAAAAAAAAAAAAAAAAAAAAAAAAAAAAAAAAAAAAAAAAAAAAAAAAAAAAAAAAAAAAAAAAAAAAAAAAAAAAAAAAAAAAAAAAAAAAAAAAAAAAAAAAAAAAAAAAAAAAAAAAAAAAAAAAAAAAAAAAAAAAAAAAAAAAAAAAAAAAAAAAAAAAAAAAAAAAAAAAAAAAAAAAAAAAAAAAAAAAAAAAAAAAAAAAAAAAAAAAAAAAAAAAAAAAAAAAAAAAAAAAAAAAAAAAAAAAAAAAAAAAAAAAAAAAAAAAAAAAAAAAAAAAAAAAAAAAAAAAAAAAAAAAAAAAAAAAAAAAAAAAAAAAAAAAAAAAAAAAAAAAAAACwAAAAAAAIBAAAI/wAFABgAQIAAAAECAAAwIACAAAMEAAAwIIAAAAAEAAAQAEAAAQAEACAAQIAAAAEEAABAAECAAAMEAAAwYICAAAAGAAAQIACAAAACACAAQMAAAAEEAAhAAEAAAQMCAAhAgEAAAQAIABAgIACAAAAEABhAQEAAAAEEAAAwIACAAAEEAAAggAABAQAIABBAAAAAAQEEAAgAoLCAAAACKFYMIAAAAAEEAAAQAIDlywIAAAgAoACAAAAECAAQQMAAAAEEDAAQIMAAALBjww4AoHYAAAYABABAYICAAAIIBAAQYEAAAAEMDABAAECA5wACCAgQoAAAAAIAaBcwIAAAAgIABP8IMABAgAEFAggAQAAAAAEAAAQQEACAAAD48wMIEAAAAIABAgAgWNDgwYIFAAgAAGBAAAACBAAAIGAAAAACCAAAIABAgAACAggIAACAAAADBgRgOWBAgAExAQQYIABAAAIDBhAAECAAgAEABAwIYAAAgAABAAQIIAAAAAICAAgAEADAAAIEAAwAMAAAAAEBAAgQAABAAQADAgAQAMCtAAAABAgAAECAAAB5AQQAEABAAACBAxsIIEAAAAIBAAhgDCAAgQAAAhAIIGAAgAACNAcQMACAAQABCgQAAEDAAAADCgwAICBAAAADBhAQIADAgAAABgAAMEBAAQDBgwsIAMAYuAAAAAQAABBgwAACAAQACADAugAA2QMCADs=\"><title>Layer: flat (hidden)\n output range: (-Infinity, +Infinity)\n Keras class = Flatten</title></image><text x=\"288.0\" y=\"272.0\" font-family=\"monospace\" font-size=\"12\" text-anchor=\"middle\" fill=\"black\" alignment-baseline=\"central\"  transform=\"rotate(-90 288.0 272.0) translate(2)\" >flat</text><line x1=\"175.0\" y1=\"324\" x2=\"175.0\" y2=\"297\" stroke=\"black\" stroke-width=\"2\" marker-end=\"url(#arrow)\"><title>Weights from maxpool2 to flat</title></line><rect x=\"74.0\" y=\"324\" width=\"202\" height=\"202\" style=\"fill:none;stroke:black;stroke-width:2\"/><image id=\"picture-dashboard-MNIST_CNN-128856_maxpool2-rotated_4\" class=\"picture-dashboard-MNIST_CNN-128856_maxpool2-rotated\" x=\"75.0\" y=\"325\" height=\"200\" width=\"200\" preserveAspectRatio=\"none\" href=\"data:image/gif;base64,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\"><title>Layer: maxpool2 (hidden)\n output range: (-Infinity, +Infinity)\n Keras class = MaxPooling2D</title></image><text x=\"288.0\" y=\"427.0\" font-family=\"monospace\" font-size=\"12\" text-anchor=\"middle\" fill=\"black\" alignment-baseline=\"central\"  transform=\"rotate(-90 288.0 427.0) translate(2)\" >maxpool2</text><text x=\"88.0\" y=\"310\" font-family=\"monospace\" font-size=\"12\" text-anchor=\"middle\" fill=\"black\" alignment-baseline=\"central\"  transform=\"rotate(-90 88.0 310) translate(2)\" >32</text><text x=\"273.0\" y=\"540\" font-family=\"monospace\" font-size=\"12\" text-anchor=\"middle\" fill=\"black\" alignment-baseline=\"central\"  transform=\"rotate(-90 273.0 540) translate(2)\" >0</text><line x1=\"175.0\" y1=\"554\" x2=\"175.0\" y2=\"527\" stroke=\"black\" stroke-width=\"2\" marker-end=\"url(#arrow)\"><title>Weights from conv2D_2 to maxpool2</title></line><rect x=\"74.0\" y=\"554\" width=\"202\" height=\"202\" style=\"fill:none;stroke:black;stroke-width:2\"/><image id=\"picture-dashboard-MNIST_CNN-128856_conv2D_2-rotated_5\" class=\"picture-dashboard-MNIST_CNN-128856_conv2D_2-rotated\" x=\"75.0\" y=\"555\" height=\"200\" width=\"200\" preserveAspectRatio=\"none\" href=\"data:image/gif;base64,R0lGODdh+AD4AIcAAPz7/QAAAMbG/9bW/4SE/+fn/7a2/6ur/1dX/0lJ/3d3/zY2/wAAAAAAAAAAAAAAAAAAAAAAAAAAAAAAAAAAAAAAAAAAAAAAAAAAAAAAAAAAAAAAAAAAAAAAAAAAAAAAAAAAAAAAAAAAAAAAAAAAAAAAAAAAAAAAAAAAAAAAAAAAAAAAAAAAAAAAAAAAAAAAAAAAAAAAAAAAAAAAAAAAAAAAAAAAAAAAAAAAAAAAAAAAAAAAAAAAAAAAAAAAAAAAAAAAAAAAAAAAAAAAAAAAAAAAAAAAAAAAAAAAAAAAAAAAAAAAAAAAAAAAAAAAAAAAAAAAAAAAAAAAAAAAAAAAAAAAAAAAAAAAAAAAAAAAAAAAAAAAAAAAAAAAAAAAAAAAAAAAAAAAAAAAAAAAAAAAAAAAAAAAAAAAAAAAAAAAAAAAAAAAAAAAAAAAAAAAAAAAAAAAAAAAAAAAAAAAAAAAAAAAAAAAAAAAAAAAAAAAAAAAAAAAAAAAAAAAAAAAAAAAAAAAAAAAAAAAAAAAAAAAAAAAAAAAAAAAAAAAAAAAAAAAAAAAAAAAAAAAAAAAAAAAAAAAAAAAAAAAAAAAAAAAAAAAAAAAAAAAAAAAAAAAAAAAAAAAAAAAAAAAAAAAAAAAAAAAAAAAAAAAAAAAAAAAAAAAAAAAAAAAAAAAAAAAAAAAAAAAAAAAAAAAAAAAAAAAAAAAAAAAAAAAAAAAAAAAAAAAAAAAAAAAAAAAAAAAAAAAAAAAAAAAAAAAAAAAAAAAAAAAAAAAAAAAAAAAAAAAAAAAAAAAAAAAAAAAAAAAAAAAAAAAAAAAAAAAAAAAAAAAAAAAAAAAAAAAAAAAAAAAAAAAAAAAAAAAAAAAAAAAAAAAAAAAAAAAAAAAAAAAAAAAAAAAAAAAAAAAAAAAAAAAAAAAAAAAAAAAAAAAAAAAAAAAAAAAAAAAAAAAAAAAAAAAAAAAAAAAAAAAAAAAAAAAAAAAAAAAAAAAAAAAAAAAAAAAAAAAAAAAAAAAAAAAAAAAACwAAAAA+AD4AEAI/wADCBxIsKDBgwgTKlzIsKHDhxAjSpxIsaJEAxgzatzIsaOBAAEOiBxJsqTJkwcCBCDAsqXLlzBjEggQAIHNmzhz6tyJIEAABUCDCh1KtKiCAAEUKF3KtKnTpwoCBABAtarVq1izAggQAIDXr2DDih0LIEAAA2jTql3Ltq2BAAEOyJ1Lt67duwcCBCDAt6/fv4ADEwgQAIHhw4gTK16MIEAABZAjS55MubKCAAEUaN7MubPnzwoCBABAurTp06hTAwgQAIDr17Bjy54NIEAAA7hz697Nu7eBAAEOCB9OvLjx4wcCBCDAvLnz59CjEwgQAIH169iza9+OIEAABeDDi/8fT768ggABFKhfz769+/cKAgQAQL++/fv48wMIEACAf4AABA4kWNBgwQABACxk2NDhQ4gAAgQQUNHiRYwZNQoIEIDAR5AhRY4kSSBAAAIpVa5k2dIlgQABEsykWdPmTZwJAgRY0NPnT6BBhS4IEADBUaRJlS5liiBAAAJRpU6lWtUqgQABAGzl2tXrV7AAAgQQUNbsWbRp1QoIEIDAW7hx5c6lSyBAAAJ59e7l29cvgQABEgwmXNjwYcQJAgRY0NjxY8iRJS8IEADBZcyZNW/mjCBAAAKhRY8mXdo0gQABAKxm3dr1a9gAAgQQUNv2bdy5dQsIEIDAb+DBhQ8nTiD/QAACyZUvZ97cOYEAARJMp17d+nXsCQIEWNDd+3fw4cUvCBAAwXn06dWvZ48gQAAC8eXPp1/fPoEAAQDs59/fP0AAAgcSJBgggICEChcybOhQQIAABCZSrGjxIkYCAQIQ6OjxI8iQIgkECJDgJMqUKleyTBAgwIKYMmfSrGlzQYAACHby7OnzJ1AEAQIQKGr0KNKkSgkECADgKdSoUqdSBRAgwICsWrdy7ep1QIAAAsaSLWv2LFoBAQIIaOv2Ldy4cgUECHDgLt68evfyPRAgwIHAggcTLmz4QIAACRYzbuz4MeQEAQIsqGz5MubMmhcECADgM+jQokeTBhAgwIDU/6pXs27tekCAAAJm065t+zZuAQECCOjt+zfw4MIFBAhw4Djy5MqXMz8QIMCB6NKnU69u/UCAAAm2c+/u/Tv4BAECLChv/jz69OoXBAgA4D38+PLn0wcQIMCA/Pr38+/vH+CAAAEEFDR4EGFChQICBBDwEGJEiRMpCggQ4EBGjRs5dvR4IECAAyNJljR5EuWBAAEStHT5EmZMmQkCBFhwE2dOnTt5LggQAEBQoUOJFjUKIECAAUuZNnX6FOqAAAEEVLV6FWtWrQICBBDwFWxYsWPJCggQ4EBatWvZtnV7IECAA3Pp1rV7F++BAAES9PX7F3BgwQkCBFhwGHFixYsZL/8IEABAZMmTKVe2DCBAgAGbOXf2/Bn0gAABCpQ2fRp1atUFAgQo8Bp2bNmzaRcIEKBAbt27eff2XSBAAADDiRc3fhw5gAABDDR3/hx6dOkGAgQgcB17du3buRMIEABAePHjyZc3DyBAgAHr2bd3/x7+gAABCtS3fx9/fv0FAgQoALCAwIEECxo8GCBAgYUMGzp8CLFAgAAAKlq8iDGjRgABAhj4CDKkyJEkDQQIQCClypUsW7okECAAgJk0a9q8iRNAgAADevr8CTSo0AEBAhQ4ijSp0qVMCwQIUCCq1KlUq1otECBAga1cu3r9CrZAgAAAypo9izatWgABAhh4Czf/rty5dA0ECEAgr969fPv6JRAgAIDBhAsbPowYQIAAAxo7fgw5suQBAQIUuIw5s+bNnAsECFAgtOjRpEubLhAgQIHVrFu7fg27QIAAAGrbvo07t24AAQIY+A08uPDhxA0ECEAgufLlzJs7JxAgAIDp1Ktbv44dQIAAA7p7/w4+vPgBAQIUOI8+vfr17AsECAAgvvz59OvbBxAgAID9/Pv7BwhA4ECCBAMEAJBQ4UKGDR0CCBAAwESKFS1exAggQIACHT1+BBlSZIEAAQCcRJlS5UqWAAIEGBBT5kyaNW0OCBCgwE6ePX3+BFogQAAARY0eRZpUKYAAAQA8hRpV6lSq/wACBACQVetWrl29AggQAMBYsmXNnkULIECAAm3dvoUbV26BAAEA3MWbV+9evgACBBgQWPBgwoUNDwgQoMBixo0dP4ZcIEAAAJUtX8acWTOAAAEAfAYdWvRo0gACBACQWvVq1q1dAwgQAMBs2rVt38YNIECAAr19/wYeXHiBAAEAHEeeXPly5gACBBgQXfp06tWtDwgQoMB27t29fwdfIEAAAOXNn0efXj2AAAEAvIcfX/58+gACBACQX/9+/v39AwQQIACAggYPIkyoEECAAAUeQowocSLFAgECDMiocSPHjh4HBAhwYCTJkiZPojwQIMCAli5fwowpc0CAAABu4v/MqXMnTwABAgAIKnQo0aJGAQQIAGAp06ZOn0IFECAAgKpWr2LNqhVAgAAAvoINK3YsWQABAgxIq3Yt27ZuBwQIcGAu3bp27+I9ECDAgL5+/wIOLHhAgAAADiNOrHgxYwABAgCILHky5cqWAQQIAGAz586eP4MGECAAgNKmT6NOrRpAgAAAXsOOLXs2bQABAgzIrXs3796+BwQIcGA48eLGjyM/ECDAgObOn0OPLn1AgAAArmPPrn07dwABAgAIL348+fLmAQQIAGA9+/bu38MHECAAgPr27+PPrx9AgAAAAAIQOJBgQYMHAwQYsJBhQ4cPIQ4IEOBARYsXMWbUeCD/QIABH0GGFDmS5IAAAQCkVLmSZUuXAAIEADCTZk2bN3ECCBAAQE+fP4EGFQogQAAAR5EmVbqUKYAAAQBElTqValWrAAIEALCVa1evX8ECCBDAQFmzZ9GmVWsgQAADb+HGlTuXroEAAQTk1buXb1+/AgIEADCYcGHDhxEDCBAAQGPHjyFHlgwgQAAAlzFn1ryZM4AAAQCEFj2adGnTAAIEALCadWvXr2EDCBDAQG3bt3Hn1m0gQAADv4EHFz6cuIEAAQQkV76ceXPnAgIEADCdenXr17EDCBAAQHfv38GHFw8gQAAA59GnV7+ePYAAAQDElz+ffn37AAIEALCff3///wABCBxIkGCAAAYSKlzIsKFDAwECGJhIsaLFixgNBAggoKPHjyBDihQQIACAkyhTqlzJEkCAAABiypxJs6ZNAAECANjJs6fPn0ABBAgAoKjRo0iTKgUQoKnTp1CjSp1KtarVq1izat3KtavXr2C9AhhLtqzZs2gBBAggoK3bt3DjyhUQIICAu3jz6t3LV0CAAAICCx5MuLBhAQECDFjMuLHjx5AHBAgAoLLly5gzawYQIACAz6BDix5NGkCAAABSq17NurVrAAECAJhNu7bt27gBBAggoLfv38CDCxcQIICA48iTK1/OXECAAAKiS59Ovbp1AQECDNjOvbv37+AHBP8IAKC8+fPo06sHECAAgPfw48ufTx9AgAAA8uvfz7+/f4AAAgQAUNDgQYQJFQIIEEDAQ4gRJU6kKCBAAAEZNW7k2NGjgAABBIwkWdLkSZQCAgQY0NLlS5gxZQ4IEADATZw5de7kCSBAAABBhQ4lWtQogAABACxl2tTpU6gAAgQwUNXqVaxZtRoIEODAV7BhxY4leyBAAAJp1a5l29YtgQABEMylW9fuXbwIAgRQ0NfvX8CBBSsIEEDBYcSJFS9mrCBAAACRJU+mXNkygAABAGzm3NnzZ9AAAgQwUNr0adSpVRsIEODAa9ixZc+mfSBAAAK5de/m3ds3gQABEAwnXtz/+HHkCAIEUNDc+XPo0aUrCBBAwXXs2bVv564gQAAA4cWPJ1/ePIAAAQCsZ9/e/Xv4AAIEMFDf/n38+fUbCBDgAMADAgcSLGjwYIAABBYybOjwIUQCAQIgqGjxIsaMGhEECKDgI8iQIkeSVBAggIKUKleybOlSQYAAAGbSrGnzJk4AAQIA6OnzJ9CgQgEECGDgKNKkSpcyNRAgwIGoUqdSrWr1QIAABLZy7er1K1gCAQIgKGv2LNq0ahEECKDgLdy4cufSVRAggIK8evfy7etXQYAAAAYTLmz4MGIAAQIAaOz4MeTIkgEECADgMubMmjdzBhAggIDQokeTLm1aQIAA/wRWs27t+jVsAgECEKht+zbu3LoJBAiQ4Dfw4MKHE08QIMCC5MqXM2/ufEGAAAimU69u/Tp2BAECEOju/Tv48OIJBAgA4Dz69OrXswcQIICA+PLn069vX0CAAAT28+/vHyABgQMJEgwQgEBChQsZNnRIIECABBMpVrR4EWOCAAEWdPT4EWRIkQsCBEBwEmVKlStZIggQgEBMmTNp1rRJIEAAADt59vT5EyiAAAEEFDV6FGlSpQICBCDwFGpUqVOpEggQgEBWrVu5dvVKIECABGPJljV7Fm2CAAEWtHX7Fm5cuQsCBEBwF29evXv5IggQgEBgwYMJFzZMIEAAAIsZN/92/BgygAABBFS2fBlzZs0CAgQg8Bl0aNGjSRMIEIBAatWrWbd2TSBAgASzade2fRt3ggABFvT2/Rt4cOELAgRAcBx5cuXLmSMIEIBAdOnTqVe3TiBAAADbuXf3/h08gAABBpQ3fx59evUDAgQQ8B5+fPnz6QsIEEBAfv37+ff3D1BAgAAHCho8iDChwgMBAhx4CDGixIkUDwQIkCCjxo0cO3pMECDAgpEkS5o8iXJBgAAAWrp8CTOmTAABAgy4iTOnzp08BwQIICCo0KFEixoVECCAgKVMmzp9ClVAgAAHqlq9ijWr1gMBAhz4Cjas2LFkDwQIkCCt2rVs27pNECD/wIK5dOvavYt3QYAAAPr6/Qs4sGAAAQIMOIw4seLFjAcECCAgsuTJlCtbFhAggIDNnDt7/gxaQIAAB0qbPo06teoDAQIceA07tuzZtA8ECJAgt+7dvHv7ThAgwILhxIsbP458QYDlzJs7fw49uvTp1Ktbv449u/bt3Lt75w4gvPjx5MubBxAgwID17Nu7fw9/QIAABerbv48/v/4CAQIUAFhA4ECCBQ0eDBCgwEKGDR0+hFggQAAAFS1exJhRI4AAAQx8BBlS5EiSBgIEIJBS5UqWLV0SCBAAwEyaNW3exAkgQIABPX3+BBpU6IAAAQocRZpU6VKmBQIEKBBV6lSq/1WtFggQoMBWrl29fgVbIEAAAGXNnkWbVi2AAAEMvIUbV+5cugYCBCCQV+9evn39EggQAMBgwoUNH0YMIECAAY0dP4YcWfKAAAEKXMacWfNmzgUCBCgQWvRo0qVNFwgQoMBq1q1dv4ZdIEAAALVt38adWzeAAAEM/AYeXPhw4gYCBCCQXPly5s2dEwgQXfp06tWtX8eeXft27t29fwcfXvx48uIBnEefXv169gACBBgQX/58+vXtDwgQoMB+/v39AywgcCBBggECAEiocCHDhg4BBAgAYCLFihYvYgQQIACAjh4/ggwpEkCAAABOokypciVLAAECFIgpcybNmjYLBP8IAGAnz54+fwIFECDAgKJGjyJNqnRAgAAFnkKNKnUq1QIBAgDIqnUr165eAQQIAGAs2bJmz6IFECAAgLZu38KNKxdAgAAA7uLNq3cvXwABAhQILHgw4cKGCwQIAGAx48aOH0MGECDAgMqWL2POrHlAgAAFPoMOLXo06QIBAgBIrXo169auAQQIAGA27dq2b+MGECAAgN6+fwMPLhxAgAAAjiNPrnw5cwABAhSILn069erWCwQIMGA79+7ev4MfECDAgfLmz6NPr/5AgAAD3sOPL38+/QEBAgDIr38///7+AQIIEABAQYMHESZUCCBAAAAPIUaUOJEigAABAGTUuJH/Y0ePAAIEADCSZEmTJ1ECCBBgQEuXL2HGlDkgQIADN3Hm1LmT54EAAQYEFTqUaFGjAwIEALCUaVOnT6ECCBAAQFWrV7Fm1QogQAAAX8GGFTuWLIAAAQCkVbuWbVu3AAIEADCXbl27d/ECCBBgQF+/fwEHFjwgQIADhxEnVryY8YEAAQZEljyZcmXLAwIEALCZc2fPn0EDCBAAQGnTp1GnVg0gQAAAr2HHlj2bNoAAAQDk1r2bd2/fAAIEADCceHHjx5EDCBBgQHPnz6FHlz4gQIAD17Fn176d+4EAAQaEFz+efHnzAwIEALCefXv37+EDCBAAQH379/Hn1w8gQAAA/wABCBxIsKDBgwECAFjIsKHDhxABBAgAoKLFixgzagQQIACAjyBDihxJEkCAAAZSqlzJsqVLAwECGJhJs6bNmzgNBAggoKfPn0CDChUQIACAo0iTKl3KFECAAACiSp1KtapVAAECANjKtavXr2ABBAgAoKzZs2jTqgUQIACAt3Djyp1LF0CAAAby6t3Lt69fAwECGBhMuLDhw4gNBAggoLHjx5AjSxYQIACAy5gza97MGUCAAABCix5NurRpAAECAFjNurXr17ABBAgAoLbt27hz6wYQIACA38CDCx9OHECAAAaSK1/OvLlzAwECGJhOvbr169gNBAggoLv37+DDi/8XECAAgPPo06tfzx5AgAAA4sufT7++fQABAgDYz7+/f4AABA4kSDBAAAAJFS5k2NAhgAABAEykWNHiRYwAAgQw0NHjR5AhRRoIEMDASZQpVa5kaSBAAAExZc6kWdOmgAABAOzk2dPnT6AAAgQAUNToUaRJlQIIEADAU6hRpU6lCiBAAABZtW7l2tUrgAABAIwlW9bsWbQAAgQQ0NbtW7hx5QoIEEDAXbx59e7lKyBAAAGBBQ8mXNiwgAABBixm3NjxY8gDAgQAUNnyZcyZNQMIEADAZ9ChRY8mDSBAAACpVa9m3do1gAABAMymXdv2bdwAAgQQ0Nv3b+DBhQsIEED/wHHkyZUvZy4gQAAB0aVPp17duoAAAQZs597d+3fwAwIEAFDe/Hn06dUDCBAAwHv48eXPpw8gQAAA+fXv59/fP0AAAQIAKGjwIMKECgEECCDgIcSIEidSFBAggICMGjdy7OhRQIAAAkaSLGnyJEoBAQIMaOnyJcyYMgcECADgJs6cOnfyBBAgAICgQocSLWoUQIAAAJYyber0KVQAAQIAqGr1KtasWgEECCDgK9iwYseSFRAggIC0ateybetWQIAAAubSrWv3Ll4BAQIM6Ov3L+DAggcECADgMOLEihczBhAgAIDIkidTrmwZQIAAADZz7uz5M2gAAQIYKG36NOrU/6oNBAhw4DXs2LJn0z4QIACB3Lp38+7tm0CAAAiGEy9u/DhyBAECKGju/Dn06NIVBAig4Dr27Nq3c1cQIACA8OLHky9vHkCAAADWs2/v/j18AAECGKhv/z7+/PoNBAhwAOABgQMJFjR4MEAAAgsZNnT4ECKBAAEQVLR4EWNGjQgCBFDwEWRIkSNJKggQQEFKlStZtnSpIEAAADNp1rR5EyeAAAEA9PT5E2hQoQACBDBwFGlSpUuZGggQ4EBUqVOpVrV6IEAAAlu5dvX6FSyBAAEQlDV7Fm1atQgCBFDwFm5cuXPpKggQQEFevXv59vWrIEAAAIMJFzZ8GDGAAAEANP92/BhyZMkAAgQwcBlzZs2bORsIEOBAaNGjSZc2fSBAAAKrWbd2/Ro2gQABENS2fRt3bt0IAgRQ8Bt4cOHDiSsIEEBBcuXLmTd3riBAAADTqVe3fh07gAABAHT3/h18ePEAAgQwcB59evXr2RsIEOBAfPnz6de3fyBAAAL7+ff3D5CAwIEECQYIgCChwoUMGzpEECCAgokUK1q8iFFBgAAKOnr8CDKkSAUBAgA4iTKlypUsAQQIACCmzJk0a9oEECCAgZ08e/r8CdRAgAAHiho9ijSp0gMBAhB4CjWq1KlUCQQIgCCr1q1cu3pFECCAgrFky5o9i1ZBgAAK2rp9Czf/rlwFAQIAuIs3r969fAEECAAgsODBhAsbBhAggIHFjBs7fgzZQIAABypbvow5s+YDAQIQ+Aw6tOjRpAkECIAgterVrFu7RhAggILZtGvbvo1bQYAACnr7/g08uHAFAQIAOI48ufLlzAEECAAguvTp1KtbBxAgu/bt3Lt7/w4+vPjx5MubP48+vfr17NUDeA8/vvz59AEECCAgv/79/Pv7ByggQAACBQ0eRJhQIYEAAQg8hBhR4kSKBAIESJBR40aOHT0mCBBgwUiSJU2eRLkgQAAELV2+hBlTJoIAAQjcxJlT506eBAIEABBU6FCiRY0CCBBAwFKmTZ0+hSogQAAC/1WtXsWaVSuBAAEIfAUbVuxYsgQCBEiQVu1atm3dJggQYMFcunXt3sW7IEAABH39/gUcWDCCAAEIHEacWPFixgQCBAAQWfJkypUtAwgQQMBmzp09fwYtIEAAAqVNn0adWjWBAAEIvIYdW/Zs2gQCBEiQW/du3r19JwgQYMFw4sWNH0e+IEAABM2dP4ceXTqCAAEIXMeeXft27gQCBAAQXvx48uXNAwgQQMB69u3dv4cvIEAAAvXt38efXz+BAAEIACQgcCDBggYPBgiQYCHDhg4fQkwQIMCCihYvYsyocUGAAAg+ggwpciRJBAECEEipciXLli4JBAgAYCbNmjZv4v8EECCAgJ4+fwINKlRAgAAEjiJNqnQpUwIBAhCIKnUq1apWCQQIkGAr165ev4JNECDAgrJmz6JNq3ZBgAAI3sKNK3cuXQQBAhDIq3cv375+CQQIAGAw4cKGDyMGECCAgMaOH0OOLFlAgAAELmPOrHkzZwIBAhAILXo06dKmCQQIkGA169auX8NOECDAgtq2b+POrXtBgAAIfgMPLnw4cQQBAhBIrnw58+bOCQQIAGA69erWr2MHECCAgO7ev4MPL15AgAAEzqNPr349ewIBAhCIL38+/fr2CQQIkGA///7+ASYQOJAgwQABFiRUuJBhQ4cLAgRAMJFiRYsXMSIIEID/QEePH0GGFEkgQEmTJ1GmVLmSZUuXL2HGlDmTZk2bN3HaBLCTZ0+fP4ECCBBgQFGjR5EmVTogQAABT6FGlTqVqoAAAQRk1bqVa1evAgIEODCWbFmzZ9EeCBDgQFu3b+HGlXsgQIAEd/Hm1buXb4IAARYEFjyYcGHDCwIEALCYcWPHjyEDCBBgQGXLlzFn1jwgQAABn0GHFj2atIAAAQSkVr2adWvXAgIEODCbdm3bt3EfCBDgQG/fv4EHF34gQIAEx5EnV76ceYIAARZElz6denXrCwIEALCde3fv38EDCBBgQHnz59GnVz8gQAAB7+HHlz+fvoAAAQTk17+ff3///wAFBAhwoKDBgwgTKjwQIMCBhxAjSpxI8UCAAAkyatzIsaPHBAECLBhJsqTJkygXBAgAoKXLlzBjygQQIMCAmzhz6tzJc0CAAAKCCh1KtKhRAQECCFjKtKnTp1AFBAhwoKrVq1izaj0QIMCBr2DDih1L9kCAAAnSql3Ltq3bBAECLJhLt67du3gXBAgAoK/fv4ADCwYQIMCAw4gTK17MeECAAAIiS55MubJlAQECCNjMubPnz6AFBAhwoLTp06hTqz4QIMCB17Bjy55N+0CAAAly697Nu7fvBAECLBhOvLjx48gXBAgAoLnz59CjSwcQIMCA69iza9/OfUCAAALCi/8fT768eQEBAghYz769+/fwBQQIcKC+/fv48+s/ECDAAYAHBA4kWNDgwQABEixk2NDhQ4gJAgRYUNHiRYwZNS4IEADAR5AhRY4kCSBAgAEpVa5k2dLlgAABBMykWdPmTZwCAgQQ0NPnT6BBhQoIEODAUaRJlS5leiBAgANRpU6lWtXqgQABEmzl2tXrV7AJAgRYUNbsWbRp1S4IEADAW7hx5c6lCyBAgAF59e7l29fvgAABCgwmXNjwYcQFAgQo0NjxY8iRJRcIEKDAZcyZNW/mXCBAAAChRY8mXdo0gAABDKxm3dr1a9gGAgQgUNv2bdy5dRMIEADAb+DBhQ8nDiD/QIAByZUvZ97c+YAAAQpMp17d+nXsBQIEKNDd+3fw4cUXCBCgwHn06dWvZ18gQAAA8eXPp1/fPoAAAQzs59/fP0ADAgcSJBggAIGEChcybOiQQIAAACZSrGjxIkYAAQIM6OjxI8iQIgcECFDgJMqUKleyLBAgQIGYMmfSrGmzQIAABXby7OnzJ9ACAQIAKGr0KNKkSgEECGDgKdSoUqdSNRAgAIGsWrdy7eqVQIAAAMaSLWv2LFoAAQIMaOv2Ldy4cgcECFDgLt68evfyLRAgQIHAggcTLmy4QIAABRYzbuz4MeQCAQIAqGz5MubMmgEECGDgM+jQokeTNhAgAIHU/6pXs27tmkCAAABm065t+zZuAAECDOjt+zfw4MIHBAhQ4Djy5MqXMy8QIECB6NKnU69uvUCAAAW2c+/u/Tv4AgECAChv/jz69OoBBAhg4D38+PLn0zcQIACB/Pr38+/vHyCBAAEAFDR4EGFChQACBBjwEGJEiRMpDggQoEBGjRs5dvRYIECAAiNJljR5EmWBAAEKtHT5EmZMmQUCBABwE2dOnTt5AggQwEBQoUOJFjVqIEAAAkuZNnX6FCqBAAEAVLV6FWtWrQACBBjwFWxYsWPJDggQoEBatWvZtnVbIECAAnPp1rV7F2+BAAEK9PX7F3BgwQUCBABwGHFixYsZA/8IEMBAZMmTKVe2bCBAAAKbOXf2/Bk0gQABAJQ2fRp1atUAAgQY8Bp2bNmzaQ8IEKBAbt27eff2XSBAgALDiRc3fhx5gQABCjR3/hx6dOkFAgQAcB17du3buQMIEMBAePHjyZc3byBAAALr2bd3/x4+gQABANS3fx9/fv0AAgQYAHCAwIEECxo8GCBAgYUMGzp8CLFAgAAAKlq8iDGjRgABAgD4CDKkyJEkAQQIACClypUsW7oEECAAgJk0a9q8iRNAgAAFevr8CTSo0AIBAgA4ijSp0qVMAQQIMCCq1KlUq1odECBAga1cu3r9CrZAgAAAypo9izatWgABAgB4Czf/rty5dAEECAAgr969fPv6BRAgAIDBhAsbPowYQIAABRo7fgw5suQCAQIAuIw5s+bNnAEECDAgtOjRpEubHhAgQIHVrFu7fg27QIAAAGrbvo07t24AAQIA+A08uPDhxAEECAAgufLlzJs7BxAgAIDp1Ktbv44dQIAABbp7/w4+vPgCAQIAOI8+vfr17AEECDAgvvz59OvbHxAgQIH9/Pv7B1hA4ECCBAMEAJBQ4UKGDR0CCBAAwESKFS1exAggQAAAHT1+BBlSJIAAAQCcRJlS5UqWAAIEKBBT5kyaNW0WCBAAwE6ePX3+BAogQIABRY0eRZpU6YAAAQo8hRpV6lSq/wUCBACQVetWrl29AggQAMBYsmXNnkULIEAAAG3dvoUbVy6AAAEA3MWbV+9evgACBCgQWPBgwoUNFwgQAMBixo0dP4YMIECAAZUtX8acWfOAAAEKfAYdWvRo0gUCBACQWvVq1q1dAwgQAMBs2rVt38YNIEAAAL19/wYeXDiAAAEAHEeeXPly5gACBCgQXfp06tWtFwgQAMB27t29fwcPIECAAeXNn0efXv2AAAEKvIcfX/58+gUCBACQX/9+/v39AwQQIACAggYPIkyoEECAAAAeQowocSJFAAECAMiocSPHjh4BBAhQYCTJkiZPoiwQYCXLli5fwowpcybNmjZv4v/MqXMnz54+eQ4IKnQo0aJGBwQIcGAp06ZOn0I9ECDAgKpWr2LNqnVAgAAAvoINK3YsWQABAgBIq3Yt27ZuAQQIAGAu3bp27+IFECAAgL5+/wIOLBhAgAAADiNOrHgxYwABAgyILHky5cqWBwQIcGAz586eP4M+ECDAgNKmT6NOrXpAgAAAXsOOLXs2bQABAgDIrXs3796+AQQIAGA48eLGjyMHECAAgObOn0OPLh1AgAAArmPPrn07dwABAgwIL348+fLmBwQIcGA9+/bu38M/ECDAgPr27+PPr39AgAAAAAIQOJBgQYMHAwQAsJBhQ4cPIQIIEABARYsXMWbUCCD/QAAAH0GGFDmSJIAAAQCkVLmSZUuXAAIEGDCTZk2bN3EOCBDgQE+fP4EGFXogQIABR5EmVbqU6YAAAQBElTqValWrAAIEALCVa1evX8ECCBAAQFmzZ9GmVQsgQAAAb+HGlTuXLoAAAQDk1buXb1+/AAIEGDCYcGHDhxEPCBDgQGPHjyFHlnwgQIABlzFn1ryZ84AAAQCEFj2adGnTAAIEALCadWvXr2EDCBAAQG3bt3Hn1g0gQAAAv4EHFz6cOIAAAQAkV76ceXPnAAIEGDCdenXr17EPCBDgQHfv38GHF38gQIAB59GnV7+e/YAAAQDElz+ffn37AAIEALCff3///wABCBxIkGCAAAASKlzIsKFDAAECAJhIsaLFixgBBAgAoKPHjyBDigQQIMCAkyhTqlzJckCAAAdiypxJs6bNAwECDNjJs6fPn0AHBAgAoKjRo0iTKgUQIACAp1CjSp1KFUCAAACyat3KtatXAAECABhLtqzZs2gBBAgAoK3bt3DjygUQoK7du3jz6t3Lt6/fv4ADCx5MuLDhw4gNA1jMuLHjx5ABBAhgoLLly5gzazYQIICBz6BDix5N2kCAAAJSq17NurVrAQECAJhNu7bt27gBBAgAoLfv38CDCwcQIACA48iTK1/OHECAAACiS59Ovbp1AAECANjOvbv37+ABBP8IYKC8+fPo06s3ECCAgffw48ufT99AgAAC8uvfz7+/f4ACAgQAUNDgQYQJFQIIEADAQ4gRJU6kCCBAAAAZNW7k2NEjgAABAIwkWdLkSZQAAgQA0NLlS5gxZQIIEMDATZw5de7kaSBAAANBhQ4lWtSogQABBCxl2tTpU6gCAgQAUNXqVaxZtQIIEADAV7BhxY4lCyBAAABp1a5l29YtgAABAMylW9fuXbwAAgQA0NfvX8CBBQMIEMDAYcSJFS9mbCBAAAORJU+mXNmygQABBGzm3NnzZ9ACAgQAUNr0adSpVQMIEADAa9ixZc+mDSBAAAC5de/m3ds3gAABAAwnXtz/+HHkAAIEANDc+XPo0aUDCBDAwHXs2bVv524gQAAD4cWPJ1/evIEAAQSsZ9/e/Xv4AgIEAFDf/n38+fUDCBAAAEAAAgcSLGjwYIAAABYybOjwIUQAAQIAqGjxIsaMGgEECADgI8iQIkeSBBAggIGUKleybOnSQIAABmbSrGnzJk4DAQII6OnzJ9CgQgUECADgKNKkSpcyBRAgAICoUqdSrWoVQIAAALZy7er1K1gAAQIAKGv2LNq0agEECADgLdy4cufSBRAggIG8evfy7evXQIAABgYTLmz4MGIDAQIIaOz4MeTIkgUECADgMubMmjdzBhAgAIDQokeTLm0aQIAA/wBWs27t+jVsAAECAKht+zbu3LoBBAgA4Dfw4MKHEwcQIICA5MqXM2/uXECAAAKmU69u/Tp2AQECCOju/Tv48OIFBAgw4Dz69OrXsx8QIACA+PLn069vH0CAAAD28+/vHyAAgQMJEgwQAEBChQsZNnQIIEAAABMpVrR4ESOAAAEEdPT4EWRIkQICBBBwEmVKlStZCggQQEBMmTNp1rQpIECAATt59vT5E+iAAAEAFDV6FGlSpQACBADwFGpUqVOpAggQAEBWrVu5dvUKIEAAAGPJljV7Fi2AAAEEtHX7Fm5cuQICBBBwF29evXv5CggQQEBgwYMJFzYsIECAAYsZN/92/BjygAABAFS2fBlzZs0AAgQA8Bl0aNGjSQMIEABAatWrWbd2DSBAAACzade2fRs3gAABBPT2/Rt4cOECAgQQcBx5cuXLmQsIEEBAdOnTqVe3LiBAgAHbuXf3/h38gAABAJQ3fx59evUAAgQA8B5+fPnz6QMIEABAfv37+ff3DxBAgAAACho8iDChQgABAgh4CDGixIkUBQQIICCjxo0cO3oUECCAgJEkS5o8iVJAgAADWrp8CTOmzAEBAgC4iTOnzp08AQQIACCo0KFEixoFECAAgKVMmzp9ChVAgAAAqlq9ijWrVgABAgj4Cjas2LFkBQQIICCt2rVs27oVECD/gIC5dOvavYtXQIAAA/r6/Qs4sOABAQIAOIw4seLFjAEECAAgsuTJlCtbBhAgAIDNnDt7/gwaQIAAAEqbPo06tWoAAQIIeA07tuzZtAUECCAgt+7dvHv7FhAggIDhxIsbP45cQIAAA5o7fw49uvQBAQIAuI49u/bt3AEECAAgvPjx5MubBxAgAID17Nu7fw8fQIAAAOrbv48/v34AAQIIAChA4ECCBQ0eDBBAwEKGDR0+hCggQAABFS1exJhRo4AAAQZ8BBlS5EiSAwIEAJBS5UqWLV0CCBAAwEyaNW3exAkgQAAAPX3+BBpUKIAAAQwcRZpU6VKmBgIEOBBV6lSq/1WtHggQgMBWrl29fgVLIEAABGXNnkWbVi2CAAEUvIUbV+5cugoCBFCQV+9evn39KggQAMBgwoUNH0YMIEAAAI0dP4YcWTKAAAEMXMacWfNmzgYCBDgQWvRo0qVNHwgQgMBq1q1dv4ZNIEAABLVt38adWzeCAAEU/AYeXPhw4goCBFCQXPly5s2dKwgQAMB06tWtX8cOIEAAAN29fwcfXjyAAAEMnEefXv169gYCBDgQX/58+vXtHwgQgMB+/v39AyQgcCBBggECIEiocCHDhg4RBAigYCLFihYvYlQQIICCjh4/ggwpUkGAAABOokypciVLAAECAIgpcybNmjYBBP8IYGAnz54+fwI1ECDAgaJGjyJNqvRAgAAEnkKNKnUqVQIBAiDIqnUr165eEQQIoGAs2bJmz6JVECCAgrZu38KNK1dBgAAA7uLNq3cvXwABAgAILHgw4cKGAQQIYGAx48aOH0M2ECDAgcqWL2POrPlAgAAEPoMOLXo0aQIBAiBIrXo169auEQQIoGA27dq2b+NWECCAgt6+fwMPLlxBgAAAjiNPrnw5cwABAgCILn069erWAQQIYGA79+7ev4M3ECDAgfLmz6NPr/5AgAAE3sOPL38+fQIBAiDIr38///7+ASIIEEBBQYMHESZUqCBAAAUPIUaUOJGiggABAGTUuJH/Y0ePAAIEADCSZEmTJ1ECCBDAQEuXL2HGlGkgQIADN3Hm1LmT54EAAQgEFTqUaFGjBAIEQLCUaVOnT6EiCBBAQVWrV7Fm1aogQAAFX8GGFTuWrIIAAQCkVbuWbVu3AAIEADCXbl27d/ECCBDAQF+/fwEHFmwgQIADhxEnVryY8YEAAQhEljyZcmXLBAIEQLCZc2fPn0EjCBBAQWnTp1GnVq0gQAAFr2HHlj2btoIAAQDk1r2bd2/fAAIEADCceHHjx5EDCBDAQHPnz6FHl24gQIAD17Fn176d+4EAAQiEFz+efHnzBAIEQLCefXv37+EjCBBAQX379/Hn168gQAAF/wAVCBxIsKDBgwECAFjIsKHDhxABBAgAoKLFixgzagQQIICBjyBDihxJ0kCAAAdSqlzJsqXLAwECEJhJs6bNmzgJBAiAoKfPn0CDCkUQIICCo0iTKl3KVEGAAAqiSp1KtapVBQECANjKtavXr2ABBAgAoKzZs2jTqgUQIICBt3Djyp1L10CAAAfy6t3Lt6/fAwECEBhMuLDhw4gJBAiAoLHjx5AjS0YQIICCy5gza97MWUGAAApCix5NurRpBQECAFjNurXr17ABBAgAoLbt27hz6wYQIICB38CDCx9O3ECAAAeSK1/OvLnzAwECEJhOvbr169gJBAiAoLv37+DDi/9HECCAgvPo06tfz15BgAAK4sufT7++fQUBAgDYz7+/f4AABA4kSDBAAAAJFS5k2NAhgAABDEykWNHiRYwGAgQ40NHjR5AhRR4IEIDASZQpVa5kSSBAAAQxZc6kWdMmggABFOzk2dPnT6AKAgRQUNToUaRJlSoIEADAU6hRpU6lCiBAAABZtW7l2tUrgAABDIwlW9bsWbQGAgQ40NbtW7hx5R4IEIDAXbx59e7lSyBAAASBBQ8mXNgwggABFCxm3NjxY8gKAgRQUNnyZcyZNSsIEADAZ9ChRY8mDSBAAACpVa9m3do1gAABDMymXdv2bdwGAgQ40Nv3b+DBhR8IEID/wHHkyZUvZ04gQAAE0aVPp17dOoIAARRs597d+3fwCgIEUFDe/Hn06dUrCBAAwHv48eXPpw8gQAAA+fXv59/fP0AAAQYSLGjwIMKEChcybOjwIcSIEidSrGiRIoCMGjdy7OgRQIAAAkaSLGnyJEoBAQIQaOnyJcyYMgkECEDgJs6cOnfyJBAgQIKgQocSLWo0QYAAC5Yyber0KdQFAQIgqGr1KtasWhEECEDgK9iwYseSJRAgAIC0ateybesWQIAAAubSrWv3Ll4BAQIQ6Ov3L+DAggkECEDgMOLEihczJhAgQILIkidTrmw5QYAACzZz7uz5M+gFAQIgKG36NOrU/6oRBAhA4DXs2LJn0yYQIACA3Lp38+7tG0CAAAKGEy9u/DhyAQECEGju/Dn06NIJBAhA4Dr27Nq3cycQIECC8OLHky9vPkGAAAvWs2/v/j38BQECIKhv/z7+/PoRBAhAACABgQMJFjR4MEAAAAsZNnT4ECKAAAEEVLR4EWNGjQICBCDwEWRIkSNJEggQgEBKlStZtnRJIECABDNp1rR5E2eCAAEW9PT5E2hQoQsCBEBwFGlSpUuZIggQgEBUqVOpVrVKIEAAAFu5dvX6FSyAAAEElDV7Fm1atQICBCDwFm5cuXPpEggQgEBevXv59vVLIECABIMJFzZ8GHGCAAEWNP92/BhyZMkLAgRAcBlzZs2bOSMIEIBAaNGjSZc2TSBAAACrWbd2/Ro2gAABBNS2fRt3bt0CAgQg8Bt4cOHDiRMIEIBAcuXLmTd3TiBAgATTqVe3fh17ggABFnT3/h18ePELAgRAcB59evXr2SMIEIBAfPnz6de3TyBAAAD7+ff3DxCAwIEECQYIICChwoUMGzoUECAAgYkUK1q8iJFAgAAEOnr8CDKkSAIBAiQ4iTKlypUsEwQIsCCmzJk0a9pcECAAgp08e/r8CRRBgAAEiho9ijSpUgIBAgB4CjWq1KlUAQQIICCr1q1cu3oVECAAgbFky5o9i5ZAgAAE2rp9Czf/rlwCAQIkuIs3r969fBMECLAgsODBhAsbXhAgAILFjBs7fgwZQYAABCpbvow5s2YCAQIA+Aw6tOjRpAEECCAgterVrFu7FhAgAIHZtGvbvo2bQIAABHr7/g08uHACAQIkOI48ufLlzBMECLAguvTp1KtbXxAgAILt3Lt7/w4eQYAABMqbP48+vXoCAQIAeA8/vvz59AEECCAgv/79/Pv7ByggQAACBQ0eRJhQIYEAAQg8hBhR4kSKBAIESJBR40aOHT0mCBBgwUiSJU2eRLkgQAAELV2+hBlTJoIAAQjcxJlT506eBAIEABBU6FCiRY0CCBBAwFKmTZ0+hSogQAAC/1WtXsWaVSuBAAEIfAUbVuxYsgQCBEiQVu1atm3dJggQYMFcunXt3sW7IEAABH39/gUcWDCCAAEIHEacWPFixgQCBAAQWfJkypUtAwgQQMBmzp09fwYtIEAAAqVNn0adWjWBAAEIvIYdW/Zs2gQCBEiQW/du3r19JwgQYMFw4sWNH0e+IEAABM2dP4ceXTqCAAEIXMeeXft27gQCBAAQXvx48uXNAwgQQMB69u3dv4cvIEAAAvXt38efXz+BAAEIACQgcCDBggYPBgiQYCHDhg4fQkwQIMCCihYvYsyocUGAAAg+ggwpciRJBAECEEipciXLli4JBAgAYCbNmjZv4v8EECCAgJ4+fwINKlRAgAAEjiJNqnQpUwIBAhCIKnUq1apWCQQIkGAr165ev4JNECDAgrJmz6JNq3ZBgAAI3sKNK3cuXQQBAhDIq3cv375+CQQILHgw4cKGDyNOrHgx48aOH0OOLHkyZckALmPOrHkzZwABAgwILXo06dKmBwQIIGA169auX8MWECCAgNq2b+POrVtAgAAHfgMPLnw48QMBAhxIrnw58+bODwQIkGA69erWr2NPECDAgu7ev4MPL35BgAAAzqNPr349ewABAgyIL38+/fr2BwQIIGA///7+AQoQOJAgwQABBCRUuJBhQ4cCAgQ4MJFiRYsXMR4IEOD/QEePH0GGFHkgQIAEJ1GmVLmSZYIAARbElDmTZk2bCwIEALCTZ0+fP4ECCBBgQFGjR5EmVTogQAABT6FGlTqVqoAAAQRk1bqVa1evAgIEODCWbFmzZ9EeCBDgQFu3b+HGlXsgQIAEd/Hm1buXb4IAARYEFjyYcGHDCwIEALCYcWPHjyEDCBBgQGXLlzFn1jwgQAABn0GHFj2atIAAAQSkVr2adWvXAgIEODCbdm3bt3EfCBDgQG/fv4EHF34gQIAEx5EnV76ceYIAARZElz6denXrCwIEALCde3fv38EDCBBgQHnz59GnVz8gQAAB7+HHlz+fvoAAAQTk17+ff3///wAFBAhwoKDBgwgTKjwQIMCBhxAjSpxI8UCAAAkyatzIsaPHBAECLBhJsqTJkygXBAgAoKXLlzBjygQQIMCAmzhz6tzJc0CAAAKCCh1KtKhRAQECCFjKtKnTp1AFBAhwoKrVq1izaj0QIMCBr2DDih1L9kCAAAnSql3Ltq3bBAECLJhLt67du3gXBAgAoK/fv4ADCwYQIMCAw4gTK17MeECAAAIiS55MubJlAQECCNjMubPnz6AFBAhwoLTp06hTqz4QIMCB17Bjy55N+0CAAAly697Nu7fvBAECLBhOvLjx48gXBAgAoLnz59CjSwcQIMCA69iza9/OfUCAAALCi/8fT768eQEBAghYz769+/fwBQQIcKC+/fv48+s/ECDAAYAHBA4kWNDgwQABEixk2NDhQ4gJAgRYUNHiRYwZNS4IEADAR5AhRY4kCSBAgAEpVa5k2dLlgAABBMykWdPmTZwCAgQQ0NPnT6BBhQoIEODAUaRJlS5leiBAgANRpU6lWtXqgQABEmzl2tXrV7AJAgRYUNbsWbRp1S4IEADAW7hx5c6lCyBAgAF59e7l29fvgAABBAwmXNjwYcQCAgQQ0NjxY8iRJQsIEODAZcyZNW/mfCBAgAOhRY8mXdr0gQABEqxm3dr1a9gJAgRYUNv2bdy5dS8IEADAb+DBhQ8nDiD/QIAByZUvZ97c+YAAAQRMp17d+nXsAgIEENDd+3fw4cULCBDgwHn06dWvZ38gQIAD8eXPp1/f/oEAARLs59/fP8AEAgcSJBggwIKEChcybOhwQYAAACZSrGjxIkYAAQIM6OjxI8iQIgcECCDgJMqUKleyFBAggICYMmfSrGlTQIAAB3by7OnzJ9ADAQIcKGr0KNKkSg8ECJDgKdSoUqdSTRAgwIKsWrdy7ep1QYAAAMaSLWv2LFoAAQIMaOv2Ldy4cgcECCDgLt68evfyFRAggIDAggcTLmxYQIAABxYzbuz4MeQDAQIcqGz5MubMmg8ECJDgM+jQokeTThAgwILU/6pXs27tekGAAABm065t+zZuAAECDOjt+zfw4MIHBAgg4Djy5MqXMxcQIICA6NKnU69uXUCAAAe2c+/u/Tv4AwECHChv/jz69OoPBAiQ4D38+PLn008QIMCC/Pr38+/vH+CCAAEAFDR4EGFChQACBBjwEGJEiRMpDggQQEBGjRs5dvQoIEAAASNJljR5EqWAAAEOtHT5EmZMmQcCBDhwE2dOnTt5HggQIEFQoUOJFjWaIECABUuZNnX6FOqCAFOpVrV6FWtWrVu5dvX6FWxYsWPJljVLFkBatWvZtnULIECAAXPp1rV7F++AAAEK9PX7F3BgwQUCBChwGHFixYsZF/8IEKBAZMmTKVe2XCBAAACbOXf2/Bk0gAABDJQ2fRp1atUGAgQg8Bp2bNmzaRMIEABAbt27eff2DSBAgAHDiRc3fhz5gAABCjR3/hx6dOkFAgQocB17du3buRcIEKBAePHjyZc3XyBAAADr2bd3/x4+gAABDNS3fx9/fv0GAgQgAJCAwIEECxo8GCAAgIUMGzp8CBFAgAADKlq8iDGjxgEBAhT4CDKkyJEkCwQIUCClypUsW7osECBAgZk0a9q8ibNAgAAAevr8CTSoUAABAhg4ijSp0qVMDQQIQCCq1KlUq1olECAAgK1cu3r9ChZAgAADypo9izat2gEBAhR4Czf/rty5dAsECFAgr969fPv6LRAgQIHBhAsbPoy4QIAAABo7fgw5smQAAQIYuIw5s+bNnA0ECEAgtOjRpEubJhAgAIDVrFu7fg0bQIAAA2rbvo07t+4BAQIU+A08uPDhxAsECFAgufLlzJs7LxAgQIHp1Ktbv469QIAAALp7/w4+vHgAAQIYOI8+vfr17A0ECEAgvvz59OvbJxAgAID9/Pv7BwhA4ECCBAMEGJBQ4UKGDR0OCBCgwESKFS1exFggQIACHT1+BBlSZIEAAQqcRJlS5UqWBQIEABBT5kyaNW0CCBDAwE6ePX3+BGogQAACRY0eRZpUKYEAAQA8hRpV6lSq/wACBBiQVetWrl29DggQoMBYsmXNnkVbIECAAm3dvoUbV26BAAEK3MWbV+9evgUCBAAQWPBgwoUNAwgQwMBixo0dP4ZsIEAAApUtX8acWTOBAAEAfAYdWvRo0gACBBiQWvVq1q1dDwgQoMBs2rVt38ZdIECAAr19/wYeXHiBAAEKHEeeXPly5gUCBAAQXfp06tWtAwgQwMB27t29fwdvIEAAAuXNn0efXj2BAAEAvIcfX/58+gACBBiQX/9+/v39AxwQIECBggYPIkyosECAAAUeQowocSLFAgECFMiocSPHjh4LBAgAYCTJkiZPogQQIICBli5fwowp00CAAARu4v/MqXMnTwIBAgAIKnQo0aJGAQQIMGAp06ZOn0IdECBAgapWr2LNqrVAgAAFvoINK3Ys2QIBAhRIq3Yt27ZuCwQIAGAu3bp27+IFECCAgb5+/wIOLNhAgAAEDiNOrHgxYwIBAgCILHky5cqWAQQIMGAz586eP4MeECBAgdKmT6NOrbpAgAAFXsOOLXs27QIBAhTIrXs3796+CwQIAGA48eLGjyMHECCAgebOn0OPLt1AgAAErmPPrn07dwIBAgAIL348+fLmAQQIMGA9+/bu38MfECBAgfr27+PPr79AgAAFABYQOJBgQYMHAwQosJBhQ4cPIRYIEABARYsXMWbUCCD/QAADH0GGFDmSpIEAAQikVLmSZUuXBAIEADCTZk2bN3ECCBBgQE+fP4EGFTogQIACR5EmVbqUaYEAAQpElTqValWrBQIEKLCVa1evX8EWCBAAQFmzZ9GmVQsgQAADb+HGlTuXroEAAQjk1buXb1+/BAIEADCYcGHDhxEDCBBgQGPHjyFHljwgQIAClzFn1ryZc4EAAQqEFj2adGnTBQIEKLCadWvXr2EXCBAAQG3bt3Hn1g0gQAADv4EHFz6cuIEAAQgkV76ceXPnBAJElz6denXr17Fn176de3fv38GHFz+evHgA59GnV7+ePYAAAQbElz+ffn37AwIEKLCff3///wALCBxIkGCAAAASKlzIsKFDAAECAJhIsaLFixgBBAgAoKPHjyBDigQQIACAkyhTqlzJEkCAAAViypxJs6bNAgECANjJs6fPn0ABBAgwoKjRo0iTKh0QIECBp1CjSp1KtUCAAACyat3KtatXAAECABhLtqzZs2gBBAgAoK3bt3DjygUQIACAu3jz6t3LF0CAAAUCCx5MuLDhAgECAFjMuLHjx5ABBAgwoLLly5gzax4QIECBz6BDix5NukCAAABSq17NurVrAAECAJhNu7bt27gBBAgAoLfv38CDCwcQIACA48iTK1/OHECAAAWiS59Ovbr1AgECANjOvbv37+ABBP8IMKC8+fPo06sfECBAgffw48ufT79AgAAA8uvfz7+/f4AAAgQAUNDgQYQJFQIIEADAQ4gRJU6kCCBAAAAZNW7k2NEjgAABCowkWdLkSZQFAgQA0NLlS5gxZQIIEGDATZw5de7kOSBAgAJBhQ4lWtRogQABACxl2tTpU6gAAgQAUNXqVaxZtQIIEADAV7BhxY4lCyBAAABp1a5l29YtgAABCsylW9fuXbwFAgQA0NfvX8CBBQMIEGDAYcSJFS9mPCBAgAKRJU+mXNlygQABAGzm3NnzZ9AAAgQAUNr0adSpVQMIEADAa9ixZc+mDSBAAAC5de/m3ds3gAABCgwnXtz/+HHkBQIEANDc+XPo0aUDCBBgwHXs2bVv5z4gQIAC4cWPJ1/efIEAAQCsZ9/e/Xv4AAIEAFDf/n38+fUDCBAAAEAAAgcSLGjwYIAAABYybOjwIUQAAQIUqGjxIsaMGgsECADgI8iQIkeSBBAgwICUKleybOlyQIAABWbSrGnzJs4CAQIA6OnzJ9CgQgEECADgKNKkSpcyBRAgAICoUqdSrWoVQIAAALZy7er1K1gAAQIUKGv2LNq0agsECADgLdy4cufSBRAgwIC8evfy7et3QIAABQYTLmz4MOICAQIAaOz4MeTIkgEECADgMubMmjdzBhAgAIDQokeTLm0aQIAA/wBWs27t+jVsAAECFKht+zbu3LoLBAgA4Dfw4MKHEwcQIMCA5MqXM2/ufECAAAWmU69u/Tr2AgECAOju/Tv48OIBBAgA4Dz69OrXswcQIACA+PLn069vH0CAAAD28+/vHyAAgQMJEgwQoEBChQsZNnRYIEAAABMpVrR4ESOAAAEGdPT4EWRIkQMCBChwEmVKlStZFggQAEBMmTNp1rQJIEAAADt59vT5EyiAAAEAFDV6FGlSpQACBADwFGpUqVOpAggQoEBWrVu5dvVaIEAAAGPJljV7Fi2AAAEGtHX7Fm5cuQMCBChwF29evXv5FggQAEBgwYMJFzYMIEAAAIsZN/92/BgygAABAFS2fBlzZs0AAgQA8Bl0aNGjSQMIEKBAatWrWbd2XSBAAACzade2fRs3gAABBvT2/Rt4cOEDAgQocBx5cuXLmRcIEABAdOnTqVe3DiBAAADbuXf3/h08gAABAJQ3fx59evUAAgQA8B5+fPnz6QMIEKBAfv37+ff3D7BAgAAACho8iDChQgABAgx4CDGixIkUBwQIUCCjxo0cO3osECAAgJEkS5o8iRJAgAAAWrp8CTOmTAABAgC4iTOnzp08AQQIACCo0KFEixoFECBAgaVMmzp9CrVAgAAAqlq9ijWrVgABAgz4Cjas2LFkBwQIUCCt2rVs27otECD/AIC5dOvavYsXQIAAAPr6/Qs4sGAAAQIAOIw4seLFjAEECAAgsuTJlCtbBhAgQIHNnDt7/gy6QIDRpEubPo06terVrFu7fg07tuzZtGvbpj0gt+7dvHv7HhAgwIHhxIsbP478QIAAA5o7fw49uvQBAQIAuI49u/bt3AEECAAgvPjx5MubBxAgAID17Nu7fw8fQIAAAOrbv48/v34AAQIAAAhA4ECCBQ0eDBBgwEKGDR0+hDggQIADFS1exJhR44EAAQZ8BBlS5EiSAwIEAJBS5UqWLV0CCBAAwEyaNW3exAkgQAAAPX3+BBpUKIAAAQAcRZpU6VKmAAIEABBV6lSq/1WtAggQYMBWrl29fgU7IECAA2XNnkWbVu2BAAEGvIUbV+5cugMCBACQV+9evn39AggQAMBgwoUNH0YMIEAAAI0dP4YcWTKAAAEAXMacWfNmzgACBAAQWvRo0qVNAwgQYMBq1q1dv4Y9IECAA7Vt38adW/eBAAEG/AYeXPhw4gMCBACQXPly5s2dAwgQAMB06tWtX8cOIEAAAN29fwcfXjyAAAEAnEefXv169gACBAAQX/58+vXtAwgQYMB+/v39AxwgcCBBggECHEiocCHDhg4PBAgwYCLFihYvYhwQIACAjh4/ggwpEkCAAABOokypciVLAAECAIgpcybNmjYBBP8IAGAnz54+fwIFECAAgKJGjyJNqhRAgAADnkKNKnUq1QEBAhzIqnUr165eDwQIMGAs2bJmz6IdECAAgLZu38KNKxdAgAAA7uLNq3cvXwABAgAILHgw4cKGAQQIAGAx48aOH0MGECAAgMqWL2POrBlAgAADPoMOLXo06QEBAhxIrXo169auDwQIMGA27dq2b+MeECAAgN6+fwMPLhxAgAAAjiNPrnw5cwABAgCILn069erWAQQIAGA79+7ev4MHECAAgPLmz6NPrx5AgAAD3sOPL38+/QEBAhzIr38///7+AR4IEGBAQYMHESZUOCBAAAAPIUaUOJEigAABAGTUuJH/Y0ePAAIEADCSZEmTJ1ECCBAAQEuXL2HGlAkgQAAAN3Hm1LmTJ4AAAQYEFTqUaFGjAwIEOLCUaVOnT6EeCBBgQFWrV7Fm1TogQAAAX8GGFTuWLIAAAQCkVbuWbVu3AAIEADCXbl27d/ECCBAAQF+/fwEHFgwgQAAAhxEnVryYMYAAAQZEljyZcmXLAwIEOLCZc2fPn0EfCBBgQGnTp1GnVj0gQAAAr2HHlj2bNoAAAQDk1r2bd2/fAAIEADCceHHjx5EDCBAAQHPnz6FHlw4gQAAA17Fn176dO4AAAQaEFz+efHnzAwIEOLCefXv37+EfCBBgQH379/Hn1z8gQAAA/wABCBxIsKDBgwECAFjIsKHDhxABBAgAoKLFixgzagQQIACAjyBDihxJEkCAAABSqlzJsqVLAAECDJhJs6bNmzgHBAhwoKfPn0CDCj0QIMCAo0iTKl3KdECAAACiSp1KtapVAAECANjKtavXr2ABBAgAoKzZs2jTqgUQIACAt3Djyp1LF0CAAADy6t3Lt69fAAECDBhMuLDhw4gHBAhwoLHjx5AjSz4QIMCAy5gza97MeUCAAABCix5NurRpAAECAFjNurXr17ABBAgAoLbt27hz6wYQIACA38CDCx9OHECAAACSK1/OvLlzAAECDJhOvbr169gHBAhwoLv37+DDi/8/ECDAgPPo06tfz35AgAAA4sufT7++fQABAgDYz7+/f4AABA4kSDBAAAAJFS5k2NAhgAABAEykWNHiRYwAAgQA0NHjR5AhRQIIUNLkSZQpVa5k2dLlS5gxZc6kWdPmTZw2Aezk2dPnT6AAAgQwUNToUaRJlRoIEMDAU6hRpU6laiBAAAFZtW7l2tWrgAABAIwlW9bsWbQAAgQA0NbtW7hx5QIIEADAXbx59e7lCyBAAACBBQ8mXNgwgAABACxm3NjxY8gAAgQwUNnyZcyZNRsIEMDAZ9ChRY8mbSBAAAGpVa9m3dq1gAABAMymXdv2bdwAAgQA0Nv3b+DBhQMIEAD/wHHkyZUvZw4gQAAA0aVPp17dOoAAAQBs597d+3fwAAIEMFDe/Hn06dUbCBDAwHv48eXPp28gQAAB+fXv59/fP0ABAQIAKGjwIMKECgEECADgIcSIEidSBBAgAICMGjdy7OgRQIAAAEaSLGnyJEoAAQIAaOnyJcyYMgEECGDgJs6cOnfyNBAggIGgQocSLWrUQIAAApYyber0KVQBAQIAqGr1KtasWgEECADgK9iwYseSBRAgAIC0ateybesWQIAAAObSrWv3Ll4AAQIA6Ov3L+DAggEECGDgMOLEihczNhAggIHIkidTrmzZQIAAAjZz7uz5M2gBAQIAKG36NOrU/6oBBAgA4DXs2LJn0wYQIACA3Lp38+7tG0CAAACGEy9u/DhyAAECAGju/Dn06NIBBAhg4Dr27Nq3czcQIICB8OLHky9v3kCAAALWs2/v/j18AQECAKhv/z7+/PoBBAgAACAAgQMJFjR4MEAAAAsZNnT4ECKAAAEAVLR4EWNGjQACBADwEWRIkSNJAggQwEBKlStZtnRpIEAAAzNp1rR5E6eBAAEE9PT5E2hQoQICBABwFGlSpUuZAggQAEBUqVOpVrUKIEAAAFu5dvX6FSyAAAEAlDV7Fm1atQACBADwFm5cuXPpAggQwEBevXv59vVrIEAAA4MJFzZ8GLGBAAEENP92/BhyZMkCAgQAcBlzZs2bOQMIEABAaNGjSZc2DSBAAACrWbd2/Ro2gAABANS2fRt3bt0AAgQA8Bt4cOHDiQMIEMBAcuXLmTd3biBAAAPTqVe3fh27gQABBHT3/h18ePECAgQAcB59evXr2QMIEABAfPnz6de3DyBAAAD7+ff3DxCAwIEECQYIACChwoUMGzoEECAAgIkUK1q8iBFAgAAGOnr8CDKkSAMBAhg4iTKlypUsDQQIICCmzJk0a9oUECAAgJ08e/r8CRRAgAAAiho9ijSpUgABAgB4CjWq1KlUAQQIACCr1q1cu3oFECAAgLFky5o9ixZAgAAG2rp9Czf/rlwDAQIYuIs3r969fA0ECCAgsODBhAsbFhAgAIDFjBs7fgwZQIAAACpbvow5s2YAAQIA+Aw6tOjRpAEECAAgterVrFu7BhAgAIDZtGvbvo0bQIAABnr7/g08uHADAQIYOI48ufLlzA0ECCAguvTp1KtbFxAgAIDt3Lt7/w4eQIAAAMqbP48+vXoAAQIAeA8/vvz59AEECAAgv/79/Pv7BwggQAAABQ0eRJhQIYAAAQw8hBhR4kSKBgIEMJBR40aOHT0aCBBAwEiSJU2eRCkgQAAALV2+hBlTJoAAAQDcxJlT506eAAIEABBU6FCiRY0CCBAAwFKmTZ0+hQogQAAA/1WtXsWaVSuAAAEMfAUbVuxYsgYCBDCQVu1atm3dGggQQMBcunXt3sUrIEAAAH39/gUcWDCAAAEAHEacWPFixgACBAAQWfJkypUtAwgQAMBmzp09fwYNIEAAAKVNn0adWjWAAAEMvIYdW/Zs2gYCBDCQW/du3r19GwgQQMBw4sWNH0cuIEAAAM2dP4ceXTqAAAEAXMeeXft27gACBAAQXvx48uXNAwgQAMB69u3dv4cPIMB8+vXt38efX/9+/v39AwwgcCDBggYPIkyocCHDhg4fQoxoEADFihYvYswIIEAAAR4/ggwpcqSAAAEEoEypciXLlgICBBAgcybNmjZvCv8IEGAAz54+fwINOiBAAABGjyJNqnQpgAABAECNKnUq1aoAAgQAoHUr165evwIIEAAA2bJmz6JNCyBAAAFu38KNK3eugAABBODNq3cv374CAgQQIHgw4cKGDwsIEGAA48aOH0OOPCBAAACWL2POrHkzgAABAIAOLXo06dIAAgQAoHo169auXwMIEAAA7dq2b+PODSBAAAG+fwMPLny4gAABBCBPrnw58+YCAgQQIH069erWrwsIEGAA9+7ev4MPPyBAAADmz6NPr349gAABAMCPL38+/foAAgQAoH8///7+AQIQOFBggAAAECZUuJBhQwABAgiQOJFiRYsXBQQIIID/Y0ePH0GGFBAggACTJ1GmVLlSQIAAA2DGlDmTZs0BAQIA0LmTZ0+fPwEECACAaFGjR5EmBRAgAACnT6FGlToVQIAAALBm1bqVa1cAAQIIEDuWbFmzZwUECCCAbVu3b+HGFRAggAC7d/Hm1btXQIAAAwAHFjyYcOEBAQIAULyYcWPHjwEECACAcmXLlzFnBhAgAADPn0GHFj0aQIAAAFCnVr2adWsAAQIIkD2bdm3btwUECCCAd2/fv4EHFxAggADjx5EnV75cQIAAA6BHlz6devUBAQIA0L6de3fv3wEECACAfHnz59GnBxAgAAD37+HHlz8fQIAAAPDn17+ff38A/wADBBBAsKDBgwgTCggQQIDDhxAjSpwoIEAAARgzatzIsaOAAAEGiBxJsqTJkwMCBADAsqXLlzBjAggQAIDNmzhz6twJIEAAAECDCh1KtCiAAAEAKF3KtKnTpwACBBBAtarVq1izCggQQIDXr2DDih0rIEAAAWjTql3Ltq2AAAEGyJ1Lt67duwMCBADAt6/fv4ADAwgQAIDhw4gTK14MIEAAAJAjS55MuTKAAAEAaN7MubPnzwACBBBAurTp06hTCwgQQIDr17Bjy54tIEAAAbhz697Nu7eAAAEGCB9OvLjx4wMCBADAvLnz59CjAwgQAID169iza98OIEAAAODDi/8fT748gAABAKhfz769+/cAAgQQQL++/fv48wsIEECAf4ACBA4kWNBgwQABBCxk2NDhQ4gCAgQYUNHiRYwZNQ4IEADAR5AhRY4kCSBAAAApVa5k2dIlgAABAMykWdPmTZwAAgQA0NPnT6BBhQIIEEDAUaRJlS5lKiBAAAFRpU6lWtWqgAABBGzl2tXrV7ACAgQYUNbsWbRp1Q4IEADAW7hx5c6lCyBAAAB59e7l29cvgAABAAwmXNjwYcQAAgQA0NjxY8iRJQMIEEDAZcyZNW/mLCBAAAGhRY8mXdq0gAABBKxm3dr1a9gCAgQYUNv2bdy5dQ8IEADAb+DBhQ8nDiDoQAAAyZUvZ97cOYAAAQBMp17d+nXsAAIEANDd+3fw4cUDCBBAwHn06dWvZy8gQAAB8eXPp1/fvoAAAQTs59/fP0ABAgcSJBggwICEChcybOhwQIAAACZSrGjxIkYAAQIA6OjxI8iQIgEECADgJMqUKleyBBAgAICYMmfSrGkTQIAAAnby7OnzJ1ABAQIIKGr0KNKkSgUECCDgKdSoUqdSFRAgwICsWrdy7ep1QIAAAMaSLWv2LFoAAQIAaOv2Ldy4cgEECADgLt68evfyBRDgL+DAggcTLmz4MOLEihczbuz4MeTIkh8HBAA7\"><title>Layer: conv2D_2 (hidden)\n output range: (-1.0, 1.0)\n dropout = 0.2\n Keras class = Conv2D\n activation = relu</title></image><text x=\"288.0\" y=\"657.0\" font-family=\"monospace\" font-size=\"12\" text-anchor=\"middle\" fill=\"black\" alignment-baseline=\"central\"  transform=\"rotate(-90 288.0 657.0) translate(2)\" >conv2D_2</text><text x=\"88.0\" y=\"540\" font-family=\"monospace\" font-size=\"12\" text-anchor=\"middle\" fill=\"black\" alignment-baseline=\"central\"  transform=\"rotate(-90 88.0 540) translate(2)\" >32</text><text x=\"273.0\" y=\"770\" font-family=\"monospace\" font-size=\"12\" text-anchor=\"middle\" fill=\"black\" alignment-baseline=\"central\"  transform=\"rotate(-90 273.0 770) translate(2)\" >0</text><text x=\"62.0\" y=\"560\" font-family=\"monospace\" font-size=\"24.0\" text-anchor=\"middle\" fill=\"black\" alignment-baseline=\"central\"  transform=\"rotate(-90 62.0 560) translate(2)\" >&#10683;</text><line x1=\"175.0\" y1=\"784\" x2=\"175.0\" y2=\"757\" stroke=\"black\" stroke-width=\"2\" marker-end=\"url(#arrow)\"><title>Weights from maxpool1 to conv2D_2\n conv2D_2/kernel has shape (5, 5, 16, 32)\n conv2D_2/bias has shape (32,)</title></line><rect x=\"74.0\" y=\"784\" width=\"202\" height=\"202\" style=\"fill:none;stroke:black;stroke-width:2\"/><image id=\"picture-dashboard-MNIST_CNN-128856_maxpool1-rotated_6\" class=\"picture-dashboard-MNIST_CNN-128856_maxpool1-rotated\" x=\"75.0\" y=\"785\" height=\"200\" width=\"200\" preserveAspectRatio=\"none\" href=\"data:image/gif;base64,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\"><title>Layer: maxpool1 (hidden)\n output range: (-Infinity, +Infinity)\n Keras class = MaxPooling2D</title></image><text x=\"288.0\" y=\"887.0\" font-family=\"monospace\" font-size=\"12\" text-anchor=\"middle\" fill=\"black\" alignment-baseline=\"central\"  transform=\"rotate(-90 288.0 887.0) translate(2)\" >maxpool1</text><text x=\"88.0\" y=\"770\" font-family=\"monospace\" font-size=\"12\" text-anchor=\"middle\" fill=\"black\" alignment-baseline=\"central\"  transform=\"rotate(-90 88.0 770) translate(2)\" >16</text><text x=\"273.0\" y=\"1000\" font-family=\"monospace\" font-size=\"12\" text-anchor=\"middle\" fill=\"black\" alignment-baseline=\"central\"  transform=\"rotate(-90 273.0 1000) translate(2)\" >0</text><line x1=\"175.0\" y1=\"1014\" x2=\"175.0\" y2=\"987\" stroke=\"black\" stroke-width=\"2\" marker-end=\"url(#arrow)\"><title>Weights from conv2D_1 to maxpool1</title></line><rect x=\"74.0\" y=\"1014\" width=\"202\" height=\"202\" style=\"fill:none;stroke:black;stroke-width:2\"/><image id=\"picture-dashboard-MNIST_CNN-128856_conv2D_1-rotated_7\" class=\"picture-dashboard-MNIST_CNN-128856_conv2D_1-rotated\" x=\"75.0\" y=\"1015\" height=\"200\" width=\"200\" preserveAspectRatio=\"none\" href=\"data:image/gif;base64,R0lGODdhGAAYAIcAAP78/ejo/9jY/8bG/4eH/2ho/7a2/1dX/0ZG/3l5/zk5/5aW/6io/yMj/wAAAAAAAAAAAAAAAAAAAAAAAAAAAAAAAAAAAAAAAAAAAAAAAAAAAAAAAAAAAAAAAAAAAAAAAAAAAAAAAAAAAAAAAAAAAAAAAAAAAAAAAAAAAAAAAAAAAAAAAAAAAAAAAAAAAAAAAAAAAAAAAAAAAAAAAAAAAAAAAAAAAAAAAAAAAAAAAAAAAAAAAAAAAAAAAAAAAAAAAAAAAAAAAAAAAAAAAAAAAAAAAAAAAAAAAAAAAAAAAAAAAAAAAAAAAAAAAAAAAAAAAAAAAAAAAAAAAAAAAAAAAAAAAAAAAAAAAAAAAAAAAAAAAAAAAAAAAAAAAAAAAAAAAAAAAAAAAAAAAAAAAAAAAAAAAAAAAAAAAAAAAAAAAAAAAAAAAAAAAAAAAAAAAAAAAAAAAAAAAAAAAAAAAAAAAAAAAAAAAAAAAAAAAAAAAAAAAAAAAAAAAAAAAAAAAAAAAAAAAAAAAAAAAAAAAAAAAAAAAAAAAAAAAAAAAAAAAAAAAAAAAAAAAAAAAAAAAAAAAAAAAAAAAAAAAAAAAAAAAAAAAAAAAAAAAAAAAAAAAAAAAAAAAAAAAAAAAAAAAAAAAAAAAAAAAAAAAAAAAAAAAAAAAAAAAAAAAAAAAAAAAAAAAAAAAAAAAAAAAAAAAAAAAAAAAAAAAAAAAAAAAAAAAAAAAAAAAAAAAAAAAAAAAAAAAAAAAAAAAAAAAAAAAAAAAAAAAAAAAAAAAAAAAAAAAAAAAAAAAAAAAAAAAAAAAAAAAAAAAAAAAAAAAAAAAAAAAAAAAAAAAAAAAAAAAAAAAAAAAAAAAAAAAAAAAAAAAAAAAAAAAAAAAAAAAAAAAAAAAAAAAAAAAAAAAAAAAAAAAAAAAAAAAAAAAAAAAAAAAAAAAAAAAAAAAAAAAAAAAAAAAAAAAAAAAAAAAAAAAAAAAAAAAAAAAAAAAAAAAAAAAAAAAAAAAAAAAAAAAAAAAAAAACwAAAAAGAAYAEAI/wABCBxIsKDBgwICBCiQIACAAQQKFDiAgEAAABgzYgwwQMAAAgQGABhJsqTJkgMIHChAwEAAADBjypwJYEAAAAUODADAsydPAQUaIEhQAIDRAACSElgQAIDTp1CjQg0goCqAq1izas0aIICAAQIMFECgoIAAAGjTqk0rIACABAcMBAAAIMCAAQkUNGiQwMAAAQACAzAgAAADAgYAKF4cAIDjAAMGEABAOQAAAAEKEBAAoLPnz6BDix5NurRpAAIWHFgQAIDr17Bjvw4gYMACBgwQHBgAoLfv38AFBABAgIAAAwUQIDiQYACA59CjAxAQAMABBQEAABBggMABBAoOGG8AQL48eQEBABA4YCAAgPfwGSBooEBBAQMA8gMYICDAAoAEBgQAUNBgQQEMCBRAAMAhAAMDAhggwADARYwXAwDgKEAAAJAAAgAYUGBBAAApVa5kmTIAAJgFCggAUNPmTZw5BwwA0NPnT6BBhQ71GRAAOw==\"><title>Layer: conv2D_1 (hidden)\n output range: (-1.0, 1.0)\n dropout = 0.2\n Keras class = Conv2D\n activation = relu</title></image><text x=\"288.0\" y=\"1117.0\" font-family=\"monospace\" font-size=\"12\" text-anchor=\"middle\" fill=\"black\" alignment-baseline=\"central\"  transform=\"rotate(-90 288.0 1117.0) translate(2)\" >conv2D_1</text><text x=\"88.0\" y=\"1000\" font-family=\"monospace\" font-size=\"12\" text-anchor=\"middle\" fill=\"black\" alignment-baseline=\"central\"  transform=\"rotate(-90 88.0 1000) translate(2)\" >16</text><text x=\"273.0\" y=\"1230\" font-family=\"monospace\" font-size=\"12\" text-anchor=\"middle\" fill=\"black\" alignment-baseline=\"central\"  transform=\"rotate(-90 273.0 1230) translate(2)\" >0</text><text x=\"62.0\" y=\"1020\" font-family=\"monospace\" font-size=\"24.0\" text-anchor=\"middle\" fill=\"black\" alignment-baseline=\"central\"  transform=\"rotate(-90 62.0 1020) translate(2)\" >&#10683;</text><line x1=\"175.0\" y1=\"1244\" x2=\"175.0\" y2=\"1217\" stroke=\"black\" stroke-width=\"2\" marker-end=\"url(#arrow)\"><title>Weights from input to conv2D_1\n conv2D_1/kernel has shape (5, 5, 1, 16)\n conv2D_1/bias has shape (16,)</title></line><rect x=\"74.0\" y=\"1244\" width=\"202\" height=\"202\" style=\"fill:none;stroke:black;stroke-width:2\"/><image id=\"picture-dashboard-MNIST_CNN-128856_input-rotated_8\" class=\"picture-dashboard-MNIST_CNN-128856_input-rotated\" x=\"75.0\" y=\"1245\" height=\"200\" width=\"200\" preserveAspectRatio=\"none\" href=\"data:image/gif;base64,R0lGODdhHAAcAIcAAAAAAPz8/MfHxzk5OUVFRRQUFObm5nZ2dtra2iYmJoWFhaampri4uFNTU5ubm2lpaQAAAAAAAAAAAAAAAAAAAAAAAAAAAAAAAAAAAAAAAAAAAAAAAAAAAAAAAAAAAAAAAAAAAAAAAAAAAAAAAAAAAAAAAAAAAAAAAAAAAAAAAAAAAAAAAAAAAAAAAAAAAAAAAAAAAAAAAAAAAAAAAAAAAAAAAAAAAAAAAAAAAAAAAAAAAAAAAAAAAAAAAAAAAAAAAAAAAAAAAAAAAAAAAAAAAAAAAAAAAAAAAAAAAAAAAAAAAAAAAAAAAAAAAAAAAAAAAAAAAAAAAAAAAAAAAAAAAAAAAAAAAAAAAAAAAAAAAAAAAAAAAAAAAAAAAAAAAAAAAAAAAAAAAAAAAAAAAAAAAAAAAAAAAAAAAAAAAAAAAAAAAAAAAAAAAAAAAAAAAAAAAAAAAAAAAAAAAAAAAAAAAAAAAAAAAAAAAAAAAAAAAAAAAAAAAAAAAAAAAAAAAAAAAAAAAAAAAAAAAAAAAAAAAAAAAAAAAAAAAAAAAAAAAAAAAAAAAAAAAAAAAAAAAAAAAAAAAAAAAAAAAAAAAAAAAAAAAAAAAAAAAAAAAAAAAAAAAAAAAAAAAAAAAAAAAAAAAAAAAAAAAAAAAAAAAAAAAAAAAAAAAAAAAAAAAAAAAAAAAAAAAAAAAAAAAAAAAAAAAAAAAAAAAAAAAAAAAAAAAAAAAAAAAAAAAAAAAAAAAAAAAAAAAAAAAAAAAAAAAAAAAAAAAAAAAAAAAAAAAAAAAAAAAAAAAAAAAAAAAAAAAAAAAAAAAAAAAAAAAAAAAAAAAAAAAAAAAAAAAAAAAAAAAAAAAAAAAAAAAAAAAAAAAAAAAAAAAAAAAAAAAAAAAAAAAAAAAAAAAAAAAAAAAAAAAAAAAAAAAAAAAAAAAAAAAAAAAAAAAAAAAAAAAAAAAAAAAAAAAAAAAAAAAAAAAAAAAAAAAAAAAAAAAAAAAAAAAAAAAAAAAAAAAAAAAAAAAAAAACwAAAAAHAAcAEAI/wABCBxIsKDBgwgFBDAQIICBAQAiSpxIkWKCAAYKANjIsSOAAgoCiARAsqTJkyhTqlzJkqWAAAQAyJx5IEAABAQA6NzJcyeDAAcACB1KtKjRo0iTJh2g4EEBAFCjSp1KNaqAAAMAFFAQoCuDAQDCih1LNqwAAwDSqlVbQECAtwEQFABAty5dBwEOANjLt6/fv4ADCx5MuLDhw4gTKza8IEAABA0SAJhMubLlywAEGCjQwECAAAwGABhNurTp0gICEADAeoACAQECLEgAoLbt27gFBCAAoLdvAAQQBAhwYMCABACSK18uIAABANCjS09gIIB1AQCya88+IMACAODDizAXP+DAAQDo06N3EIAAgPfw48ufH78BAgIA8uvfz7+/f4AABA4kWNDgQYQJFS5EGBAAOw==\"><title>Layer: input (input)\n output range: (0.0, 1.0)\n shape = (28, 28, 1)\n Keras class = Input</title></image><text x=\"288.0\" y=\"1347.0\" font-family=\"monospace\" font-size=\"12\" text-anchor=\"middle\" fill=\"black\" alignment-baseline=\"central\"  transform=\"rotate(-90 288.0 1347.0) translate(2)\" >input</text><text x=\"88.0\" y=\"1230\" font-family=\"monospace\" font-size=\"12\" text-anchor=\"middle\" fill=\"black\" alignment-baseline=\"central\"  transform=\"rotate(-90 88.0 1230) translate(2)\" >1</text><text x=\"273.0\" y=\"1460\" font-family=\"monospace\" font-size=\"12\" text-anchor=\"middle\" fill=\"black\" alignment-baseline=\"central\"  transform=\"rotate(-90 273.0 1460) translate(2)\" >0</text><text x=\"18\" y=\"735.0\" font-family=\"monospace\" font-size=\"15\" text-anchor=\"middle\" fill=\"black\" alignment-baseline=\"central\"  transform=\"rotate(-90 18 735.0) translate(2)\" >MNIST_CNN</text></svg></g></svg></p></td>\n</tr>\n<tr>\n  <td valign=\"top\" align=\"center\"><p style=\"text-align:center\"><b>conv2D_1 features</b></p><table><tr><td style=\"border: 1px solid black;\"><img style=\"image-rendering: pixelated;\" class=\"MNIST_CNN_conv2D_1_feature0\" src=\"data:image/gif;base64,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\"/><br/><center>Feature 0</center></td><td style=\"border: 1px solid black;\"><img style=\"image-rendering: pixelated;\" class=\"MNIST_CNN_conv2D_1_feature1\" src=\"data:image/gif;base64,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\"/><br/><center>Feature 1</center></td><td style=\"border: 1px solid black;\"><img style=\"image-rendering: pixelated;\" class=\"MNIST_CNN_conv2D_1_feature2\" src=\"data:image/gif;base64,R0lGODdhYABgAIcAAP78/efn/8jI/7e3/9XV/6am/4aG/5WV/3V1/0VF/2Rk/1RU/zY2/y0t/wAAAAAAAAAAAAAAAAAAAAAAAAAAAAAAAAAAAAAAAAAAAAAAAAAAAAAAAAAAAAAAAAAAAAAAAAAAAAAAAAAAAAAAAAAAAAAAAAAAAAAAAAAAAAAAAAAAAAAAAAAAAAAAAAAAAAAAAAAAAAAAAAAAAAAAAAAAAAAAAAAAAAAAAAAAAAAAAAAAAAAAAAAAAAAAAAAAAAAAAAAAAAAAAAAAAAAAAAAAAAAAAAAAAAAAAAAAAAAAAAAAAAAAAAAAAAAAAAAAAAAAAAAAAAAAAAAAAAAAAAAAAAAAAAAAAAAAAAAAAAAAAAAAAAAAAAAAAAAAAAAAAAAAAAAAAAAAAAAAAAAAAAAAAAAAAAAAAAAAAAAAAAAAAAAAAAAAAAAAAAAAAAAAAAAAAAAAAAAAAAAAAAAAAAAAAAAAAAAAAAAAAAAAAAAAAAAAAAAAAAAAAAAAAAAAAAAAAAAAAAAAAAAAAAAAAAAAAAAAAAAAAAAAAAAAAAAAAAAAAAAAAAAAAAAAAAAAAAAAAAAAAAAAAAAAAAAAAAAAAAAAAAAAAAAAAAAAAAAAAAAAAAAAAAAAAAAAAAAAAAAAAAAAAAAAAAAAAAAAAAAAAAAAAAAAAAAAAAAAAAAAAAAAAAAAAAAAAAAAAAAAAAAAAAAAAAAAAAAAAAAAAAAAAAAAAAAAAAAAAAAAAAAAAAAAAAAAAAAAAAAAAAAAAAAAAAAAAAAAAAAAAAAAAAAAAAAAAAAAAAAAAAAAAAAAAAAAAAAAAAAAAAAAAAAAAAAAAAAAAAAAAAAAAAAAAAAAAAAAAAAAAAAAAAAAAAAAAAAAAAAAAAAAAAAAAAAAAAAAAAAAAAAAAAAAAAAAAAAAAAAAAAAAAAAAAAAAAAAAAAAAAAAAAAAAAAAAAAAAAAAAAAAAAAAAAAAAAAAAAAAAAAAAAAAAAAAAAAAAAAAAAAAAAAAAAAAAAAAAAAAAAAAAACwAAAAAYABgAEAI/wABCBxIsKDBgwgTKlzIsKHDhxAjSpwoUYDFixgtDtg4gIDHjx4DiBwpEoDJkyhTqlzJsqVLAARiEgBAE0CAmwEA6AQwoOeAAkALHBh6wIBRAwiSIjDA1ACCpwgMSDWAoKrVqgeyHjDA1cCBrwcKiC0goKwAAmgJAFjLtq3bt3DbCpgrYIDdu3YF6BUwoK/fv30FCBYwoPAAA4gNIFiMwIBjAwUiF0BAGYGCywoIaCYAoLPnz6BDix5NujToAKgDDFjNejWB1wQCyA5QoHYBBrgZHNh9IIDvAACCCx9OvLjx48iTAwjAvDlzAdAFAJhOfXqB6wUSaE9woPuBAOADAP8YT768+fPo06tfb56AewIC4gsAQL8+/QP4DzDYz6CAf4AFAAwkWNDgQYQJFS40GMBhAAERJUYEUBFAAIwBCmwskMBjggIhCwAgWdLkSZQpVa5keZLAS5gvB8wcAMAmAAI5CSDgiWDBzwUDhA4AUNToUaRJlS5l2hSpAKhRoQagWpWqAKwCEmxNgMArAgFhBQAgW9bsWbRp1a5lCyDAW7hvBcwVQMAugQB5AxzgeyDBX8B/CQwmAMDwYcSJFS9m3NjxY8iRJU+mXNnyZcyZEwfgHIDAZwIDRA8QUFpAAdQFDKxm3Xr1AdixYRegXdv2bdy1B+weQMA3gQDBAwAgXtz/+HHkyZULYC6gwPMCA6QPEFBdwADsAwRsFzDA+wAC4QkIIC9gwHn05w2sNyDAvYAC8QscoH9AwH0BAPTv59/fP0AAAgcSBBDgIMKDABYCIODwocMBEidSlHjg4gEDGg0o6KhgAMgBBUYWSGAygYKUCgiwJADgJcyYMmfSrGnzpswAOgMQ6ElgANABAIYSHargKNKjApYKAOD0KdSoUqdSrWo1aoCsWrMK6CoAAFgAAcYGWGB2gYK0CgSwFQDgLdy4cufSrWv3rtwAegMI6Ou3L4DAAAIQDrDg8AIFihUQaEwAAOTIkidTrmz5MubJBDYTGOB5QIDQAQCQBiDgtIAF/6oXIGiNgABsAgBm065t+zbu3Lp32ybgm8CA4AMAEC9O/ADyAwuWLzjg/ACB6AQAUK9u/Tr27Nq3cwcQ4HsAAuIJFChfAAB6AAPWDzDg3kCD+A0K0C8A4D7+/Pr38+/vHyAAgQMJFgxwEOFBAgsJAHAIgEBEAgYoGkhwMYEBjQYCdAwAAGRIkSNJljR5EmVKlStZtnT5EmZMmTNp1rR5E2dOnTsBCPD5E6jPAUMHEDB61GgApUuVAnD6FGpUqVOpVrUKIEDWAAS4EhjwdYAAsQIKlC1gAG1atWgPtHXbtkBcuXPp1pU7AO8AAnsJBPAbAEBgwYMJEyZwmAAAxQACNP8OAAAygAGTBxSwXOBA5gMGOBtA8BmBAdEGEJRGYAC1AQSrWa8+8PqAAdkGDtQ+UAB3AQG7BRDwTQBAcOHDiRc3PlxAcgEFmBcY8HyAAOkCBlQfIAC7gAHbBxDwTkBAeAEDyJcnbwC9AQHrBRRwX+BA/AMC6AsAcB9/fv37+ecXAFCAwAEECxIUgFDAgIUMGy4UAFHAgIkDDFg0gCAjAgMcDRT4WACBSAQKSioggJIAgJUsW7p8CbNlgJk0ZwK4CYCAzp06B/j8CdTngaEHDBg1oCCpggFMBxR4WiCB1AQKqioggJUAgK1cu3r9Cjas2LFeA5gNMCCt2rQE2hIIADf/QIG5BRjYZXAg74EAfAMA+As4sODBhAsbPiw4gOIABBoTGAB5AIDJlCcruIz5soDNAgB4/gw6tOjRpEubDh0gterUAloLAAA7NuwCtAskuJ3ggO4DAXoHAAA8uPDhxIsbP458eIDlzJcLeC4AgHQAAaoHWIB9gYLtCgR4FwAgvPjx5MubP48+PXoC7AkIeC8AgPz58g/YP8AgP4MC/AsAAAhA4ECCBQ0eRJhQIcIADQMIgBgRIgCKAAJcDLBA4wIFHRUQAEkAwEiSJU2eRJlS5UqTAVwGEBBTZkwANQEEwBmgwM4CCXwmKBC0AACiRY0eRZpU6VKmSwk8JTBA6oAA/1UDAMAKQMBWAQu8LkAQFgEBsgQAnEWbVu1atm3dvlVLQO5cuQPsDgCQFwABvgQQ/EWwQPCCAYUHAECcWPFixo0dP4b8mMBkAgMsDwCQWXPmA50PLAC94MDoAwRMEwCQWvVq1q1dv4Ydm7UA2rVpB8CdG7cA3gIS/E6AQDgCAcUFAECeXPly5s2dP4e+PMD0AASsEyiQvQAA7gAGfB9gQLyBBuUbFEBfAMB69u3dv4cfX/589wHs37cvQL8AAv0JAAwgMMCBggcSIEyIkABDAgAeQowocSLFihYvSgygcaNGAh4JAAgJgABJAgZOGkigMoGBlgYCwAwAYCbNmjZv4v/MqXMnz54+fwINKnQo0aJGjyJNqnQp06ZOn0KNKnUq1apWr2LNKmAr165bB4AdQGAs2bEBzqI9C2At27Zu38KNK3euXAF27+K1O2DvAAJ+//oNIHiwYACGDyNOrHgx48aOAQSIHIAAZQIDLg8QoFlAgc4FDIAOLRr0gdKmSxdIrXo169aqB8AeQGA2gQC2AwDIrXs3b94BfgcgIJzAgOIDBCAXUGB5AQPOn0N3fmA69ekFrmPPrn079gHeBxAITyAA+QAAzqNPr149gfYEAMAHEGB+AAD2AQzIP6AA/wIHAB4QaICgAQQHERhQaABBQwQGIBpAMJHixAMXDxjQaOD/QMcDBUAWEDBSAAGTBACkVLmSJQACLwkAkAkgQM0AAHACGLBzQAGfBQ4EPWCAqAEERxEYUGoAQVMEBqAaQDCV6tQDVw8Y0GrgQNcDBcAWEDBWAAGzBACkVbuWbVu3awXEFVCAboEBdwcI0CtgQN8BAgALGDB4AAHDBAQkFjCAcWPGBiAbEDBZQAHLBQ5kPiCAswAAn0GHFj2adGgBpwUUUF1gQOsBAmALGDB7gADbAgbkHkCANwEBvwUMED5cuAHjBgQkF1CAeYEDzw8IkC4AQHXr17Fn135dQHcBA8CHBy+AvIAB59GnPy+AvYAB7wcYkG8AQX0EBvAbKLC/AAL//wARKBiogIBBAgASKlzIsKHDhQIiChhAsSJFARgFDNjIseNGASAFDBg5wIBJAwhSIjDA0kCBlwUQyESgoKYCAjgJANjJs6fPn0B7BhhKdCiAowAIKF2qdIDTp1CdHph6wIBVAwqyKhjAdUCBrwUSiE2goKwCAmgJAFjLtq3bt3DbBphLdy6AuwAI6N2rd4Dfv4D9Hhh8wIBhAwoSKxjAeECBxwUSSE6goLICApgJANjMubPnz6BDix7tOYDpAANSq05NoDWBALADFJhdgIFtBgdyHwjAOwCA38CDCx9OvLjx48IDKA8woLnz5gSiEwhAPUCB6wUYaGdwoPuBAOADAP8YT768+fPo06tfbz6A+wAE4hMYQH8AgPv47yvYz3+/AIACBAIgWNDgQYQJFS5kuDDAwwAEJBIYUHEAAIwZMSrg2JGjAJACAIwkWdLkSZQpVa40GcDlS5cCZAoAUNNmzQI5CyTgmeDAzwMBhAYAUNToUaRJlS5l2hRpAKhRoQqgKgDAVaxXC2wtkMBrggNhDwQgGwDAWbRp1a5l29btW7UB5M6VK8CuAAB5AQTgG2DB3wUKBCsQUFgAAMSJFS9m3NjxY8iPA0ymPFnAZQEANAMI0DnAAtALFIxWIMC0AACpVa9m3dr1a9ixYROgTUDAbQEAdO/WfcD3AQbBGRQgXgD/wHHkyZUvZ97c+XPoxwlMJyDAugAA2bVnP9D9AAPwDAqMLwDA/Hn06dWvZ9/effsA8QMIoF+fPgD8AALsD7DAP8AFCgYqIGCQAICEChcybOjwIcSIEANQDCDgIsaLADYCCOAxwIKQCxSQVEDgJAEAKleybOnyJcyYMlsGqBlAAM6cOAHwBBDgZ4ACQgskKJqgANICAJYyber0KdSoUqdKDWA1gICsWrMC6AogANgABcYWSGA2QYG0BQCwbev2Ldy4cufSnUvgLoEBegcE6BsAAGAAAgYLWGB4AYLECAgwJgDgMeTIkidTrmz5smUCmgkM6DwgAOgAAEYDEGBawILU/wsQsEZA4DUBALJn065t+zbu3LprE+jtu/eA4AMAEAdA4DgBBMoRLGi+YAD0AQCmU69u/Tr27Nq3ayfg/bv3AeIHACgPgAB6AgjWI1jgfsGA+AMA0K9v/z7+/Pr3899PACABgQMIDgBwEOHBAwsPLHC44EDEAwQoEgBwEWNGjRs5dvT40SMBkQQGlBwAAGVKlAdYHljwcsEBmQcI1CQAAGdOnTt59vT5E+hOAUOJDg1wFOlRAUsFJHCaAEFUBAKoCgBwFWtWrVu5dvX61asAsWPFBjB71qwAtQIStE2AAC4CAXMFALB7F29evXv59vWbN0DgAAQIEyhwuAAAxQAGNNweYACygQaTGxSwXABAZs2bOXf2/Bl0aNABSAcgcJpAAdUFALQGMAD2AAOzDTSw3aBA7gIAePf2/Rt4cOHDif8OcBz5cQHLBRBwTiBA9AAHqB9IcB37dQLbCQDw/h18ePHjyZc3Hz5AevXpBbQXQAA+gQDzAxywfyBBfv35CfQnABCAwIEECxo8iDChwoIBGjpsSCAiAQAUARC4SMCARgMJOiYwANJAgJEBAJg8iTKlypUsW7pMGSCmzJgEahIAgBMAgZ0EDPg0kCBoAgNEDQQ4GgCA0qVMmzp9CjUgADs=\"/><br/><center>Feature 2</center></td><td style=\"border: 1px solid black;\"><img style=\"image-rendering: pixelated;\" class=\"MNIST_CNN_conv2D_1_feature3\" src=\"data:image/gif;base64,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\"/><br/><center>Feature 3</center></td><td style=\"border: 1px solid black;\"><img style=\"image-rendering: pixelated;\" class=\"MNIST_CNN_conv2D_1_feature4\" src=\"data:image/gif;base64,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\"/><br/><center>Feature 4</center></td><td style=\"border: 1px solid black;\"><img style=\"image-rendering: pixelated;\" class=\"MNIST_CNN_conv2D_1_feature5\" src=\"data:image/gif;base64,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\"/><br/><center>Feature 5</center></td><td style=\"border: 1px solid black;\"><img style=\"image-rendering: pixelated;\" class=\"MNIST_CNN_conv2D_1_feature6\" src=\"data:image/gif;base64,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\"/><br/><center>Feature 6</center></td><td style=\"border: 1px solid black;\"><img style=\"image-rendering: pixelated;\" class=\"MNIST_CNN_conv2D_1_feature7\" src=\"data:image/gif;base64,R0lGODdhYABgAIcAAP78/dXV/+fn/8fH/7e3/6io/4iI/5aW/0ZG/zY2/1VV/3V1/wQE+2Nj/x0d/ygo/wAAAAAAAAAAAAAAAAAAAAAAAAAAAAAAAAAAAAAAAAAAAAAAAAAAAAAAAAAAAAAAAAAAAAAAAAAAAAAAAAAAAAAAAAAAAAAAAAAAAAAAAAAAAAAAAAAAAAAAAAAAAAAAAAAAAAAAAAAAAAAAAAAAAAAAAAAAAAAAAAAAAAAAAAAAAAAAAAAAAAAAAAAAAAAAAAAAAAAAAAAAAAAAAAAAAAAAAAAAAAAAAAAAAAAAAAAAAAAAAAAAAAAAAAAAAAAAAAAAAAAAAAAAAAAAAAAAAAAAAAAAAAAAAAAAAAAAAAAAAAAAAAAAAAAAAAAAAAAAAAAAAAAAAAAAAAAAAAAAAAAAAAAAAAAAAAAAAAAAAAAAAAAAAAAAAAAAAAAAAAAAAAAAAAAAAAAAAAAAAAAAAAAAAAAAAAAAAAAAAAAAAAAAAAAAAAAAAAAAAAAAAAAAAAAAAAAAAAAAAAAAAAAAAAAAAAAAAAAAAAAAAAAAAAAAAAAAAAAAAAAAAAAAAAAAAAAAAAAAAAAAAAAAAAAAAAAAAAAAAAAAAAAAAAAAAAAAAAAAAAAAAAAAAAAAAAAAAAAAAAAAAAAAAAAAAAAAAAAAAAAAAAAAAAAAAAAAAAAAAAAAAAAAAAAAAAAAAAAAAAAAAAAAAAAAAAAAAAAAAAAAAAAAAAAAAAAAAAAAAAAAAAAAAAAAAAAAAAAAAAAAAAAAAAAAAAAAAAAAAAAAAAAAAAAAAAAAAAAAAAAAAAAAAAAAAAAAAAAAAAAAAAAAAAAAAAAAAAAAAAAAAAAAAAAAAAAAAAAAAAAAAAAAAAAAAAAAAAAAAAAAAAAAAAAAAAAAAAAAAAAAAAAAAAAAAAAAAAAAAAAAAAAAAAAAAAAAAAAAAAAAAAAAAAAAAAAAAAAAAAAAAAAAAAAAAAAAAAAAAAAAAAAAAAAAAAAAAAAAAAAAAAAAAAAAAAAAAAAAACwAAAAAYABgAEAI/wABCBxIsKDBgwgTKlzIsKHDhxAjSpxIUeCAiwMIaCQwoOOAACADCBgpAIDJkyhTqlzJsqXLlgFiyoxpoKYBAjhz4gzAsydPAkAJFBha4IDRAwWSFjDAtCnTAlALEJhKoIDVAgqyKijAtQCAr2DDih0LNoDZAADSql3Llq2At3DfBpgbQIBdAQHyBhDAVwCAv4D/BhgcQIFhBQUSFwDAuLHjx5AjS55MubJlxgcyH0jAOcGAzwMAiB5NurTp06hTq17NWrSB1wYSyE4woPYAALhz697Nu7fv38CDC8dtoLgBBMgRBFgeAIDz59CjS59Ovbr169YFaBeAoLv37gLCC/8AQB6AgPMCAKhfz769+/fw48ufrz6A/QAM8jMwwN8AAIAABA4EIMCgAAAJFS5k2NDhQ4gRJSYsULFAAowJDmw8IMCjAAAhRY4kWdLkSZQpVaYk0JKAApgKDMw0QMAmAQA5de7k2dPnT6BBhQ4lWtToUaRGBSwVAMDpU6hRpU6lWtXqVaxSBWwVcMDrAQJhCQwgW5YsAbRp0Q5gOyDA2wAD5M6VG8BugAF5BxDgS+DA3wMDBA8AUNjwYcSJDQdgHKDA4wICJAsYUHlAAMwBCGwmMMDzAAKhRY8OXcD0adSmBawWEMB1gAOxDyygvWDA7QEAdO/m3dv3b+DBhQ8nrrv/wfEGC5QvGNB8AADo0aVPp17d+nXs2bEH4B7AwXcHC8QvAFDe/Hn06dWvZ9/e/fvyAeQHQFAfgQH8BgDs579fAEABAgEQLGjwIMKEChcybEhwAMQBDyY+OGDxAICMGjdy7OjxI8iQIkdmPGDyAIOUDAiwJADgJcyYMmfSrGnzJs6bAnYKQOATQYKgCQYQHQDgKNKkSpcyber0KdSnAqYKUGBVQYOsDQhwJSDgqwAAYseSLWv2LNq0ateaDeA2gIG4BhbQXTDg7oAAegMA6Ov3L+DAggcTLmz4MOLEihczbuz4MeTIkidTrkxYAGYBADZz7uz5M+jQokeTLj16AOoB/wRWExjgekCA2AEE0BYA4Dbu3Lp38+7t+zfw3QKGCzhg/ACB5AQGMG/OnAD06NAHUB8Q4HqAAdq3aw/gPcCA8AMIkCdw4PyBAeoHAGjv/j38+O4D0K9P3wB+AwT2898fAGAAgQMDEDBIoEDCAgcYHijwsIABiRMlFrBYgEBGAgU4FlDwUUEBkQUAlDR5EmVKkwFYBijwsoAAmQIG1BwQAGcAAjsJDPA5gEBQoUODFjB6FKlRAUsFBHAa4EDUAwuoLhhwdQAArVu5dvW6NUDYAADIljV79qwAtWvVBnAbQEBcAQHoBhBwVwAAvXv1BvAbQEFgBQUIFwBwGHFixYsZN/92/Bhy5MUNKDdYcHnBAM0DAHT2/Bl0aNGjSZc2fbrzAdUHErROMAD2AACzade2fRt3bt27efeeHQB4AAfDHSwwvgBAcuXLmTd3/hx6dOnTmxuwbiBB9gQDuA8A8B18ePHjyZc3fx59+u8B2AdA8B6BAfkGANS3X19AfgEA+Pf3DxCAwIEECxo8iDChwoMGGhpAABFBgIkBAFi8iDGjxo0cO3r8CNLigJEDHph8cCDlAQAsW7p8CTOmzJk0a9pkKSCnAAQ8e/IUAFQAgKEABBgVACCp0qVMmzp9CjWq1KYHqh5ggJUBga0EAHj9Cjas2LFky5o9i9ZrgLUBGLhlYCD/rgEAdOvSFYBXAIC9fPv6/Qs4sODBhPcKOCwAgWIECRonGAB5AIDJlCtbvow5s+bNnDtPLgC6QILRCQ6YPiAgtQAArFu7fg07tuzZtGvTFoBbgILdChr4bkAgOAEBxAUAOI48ufLlzJs7fw79OYHpBBRYV2AguwEC3AkA+A4+vPjx5MubP4/+fID1AQy4N7Ag/oIB9AcEuB8AgP79/Pv7BwhA4ECCBQ0eRJhQ4UKGDR0+hBhR4kSKFS1exJhR40aOHT1+BBlSJEgBJQUAQJlS5UqWLV2+hBlT5kwAAmwKAJBT506ePX3+BBpU6NCgA4wOIJCUwACmAwI8DSBAqgAA/1WtXsWaVetWrl29dh0QdgABsgQGnB0QQG0AAW0FAIAbV+5cunXt3sWbl64AvgIO/D1AQDCBAYUNFyaQWHHiAY0HBIAcYMBkypMDXA4wQPMAAp0JHAB9YMDoAQBMn0adWvVq1AJcCzgQ+wAB2gQG3MZ9m8Bu3rsH/B4QQHiAAcWNFw+QPMAA5gMIPCdwQPqBAdUHAMCeXft27tkDfAf/3cB4AwTMnzcfQP169QTcEygQv8AB+gcK3C9gQP9+/QX8AyxAYCCBAgYLKEiooADDAgAeQowocSLEABYvWjSg0QCBjh47BggpMiSBkgQKoCxwYOWBAi4LGIgpM2aBmgUI4P8kUGBnAQU+FRQIWgAA0aJGjyItGmBpgAJOCwiIKmAA1QEBrgYgoJXAgK4DCIANKxZsgbJmz5YVoFZAgLYBDsA9sGDuggF2BwDIq3cv3756AwAOUGBwAQGGBQxIPCAA4wAEHhMYIHkAgcqWL1cuoHkzZ80CPgsIIDrAgdIHFqBeMGD1AACuX8OOLft1gNoBAODOrXv3bgG+f/sOIDyAgOICAiAPIGC5AADOnzsPID2AguoKCmAvAGA79+7ev4MPID4AgPLmz6NHL2A9+/UB3gcQIF9AgPoBBOAXAGA///0BAAYQqICgggIHCwBQuJBhQ4cPIUaUOJGiwwYXGyzQuGD/QMcBAECGFDmSZEmTJ1GmVEmyQcsGC2AuGDBzAACbN3Hm1LmTZ0+fP4HaPDD0QAKjCQYkHQCAaVOnT6FGlTqValWrUA9kPZCAa4IBXwcAEDuWbFmzZ9GmVbuWrdgAbwM4kOtgQd0FAPDm1buXb1+/fwEHFsw3QOEADhA7WLB4AQDHjyFHljyZcmXLlzFLNrDZQALPCQaEHgCAdGnTp1GnVr2adWvXqA3ENpCAdoIBtwcA0L2bd2/fv4EHFz6cuO4AxwMgUI7AQHMDAKBHhy6AugAA17Fn176de3fv38FvDzA+AALzCAykNwCAfXv2AuALADCffn379/Hn17+f/30D/wANCERAEEGAgwEAKFzIsKHDhxAjSpxI0aGBiwYQaEQQoGMAACBDihxJsqTJkyhTqgQ5oOWABzAfHJh5AIDNmzhz6tzJs6fPn0B1Dhg64IHRBweSHgDAtKnTp1CjSp1KtapVpgKyCkDAtStXAWAFABgLQIBZAQDSql3Ltq3bt3Djym0roK4ABHjz4hXAVwCAvwAECBYAoLDhw4gTK17MuLHjxAciH2BAmQGBywQAaN7MubPnz6BDix5N2vOB0wcYqGZAoDUBALBjy55Nu7bt27hz64YdoHcABsAZGBhuAIDx48YFKBcAoLnz59CjS59Ovbr16AGyB2DAnYGB7wYAiP8fL16AeQEA0qtfz769+/fw48tPL6C+AAT4ESTYn2CAf4ADAAwkWNDgQYQJFS5k2HCgAIgCEExEkMBiggEZBwDg2NHjR5AhRY4kWdIkxwIpCyRgmeDAywMCZAoAUNPmTZw5de7k2dPnz5oFhBZIUDTBAaQHBCwVAMDpU6hRpU6lWtXqVasCtApQ0FVBA7ANCIwlIMCsAABp1a5l29btW7hx5cYVUFeAArwKGuxtQMAvAQGBBQAgXNjwYcSJFS9m3JgxAcgEFExWYMCyAQKZCQDg3NnzZ9ChRY8mXdo0ZwKpCShgrcDAawMEZBMAUNv2bdy5de/m3dt37wDBAxggbmA1wfEFA5QPCNA8AADo0aVPp17d+nXs2bEH4B7AwHcDC8QvGFB+QAD0AQCsZ9/e/Xv48eWzDwgAOw==\"/><br/><center>Feature 7</center></td></tr><tr><td style=\"border: 1px solid black;\"><img style=\"image-rendering: pixelated;\" class=\"MNIST_CNN_conv2D_1_feature8\" src=\"data:image/gif;base64,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\"/><br/><center>Feature 8</center></td><td style=\"border: 1px solid black;\"><img style=\"image-rendering: pixelated;\" class=\"MNIST_CNN_conv2D_1_feature9\" src=\"data:image/gif;base64,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\"/><br/><center>Feature 9</center></td><td style=\"border: 1px solid black;\"><img style=\"image-rendering: pixelated;\" class=\"MNIST_CNN_conv2D_1_feature10\" src=\"data:image/gif;base64,R0lGODdhYABgAIcAAP78/efn/9fX/6am/1NT/5WV/2Zm/7e3/8XF/3l5/4SE/0dH/zU1/wAAAAAAAAAAAAAAAAAAAAAAAAAAAAAAAAAAAAAAAAAAAAAAAAAAAAAAAAAAAAAAAAAAAAAAAAAAAAAAAAAAAAAAAAAAAAAAAAAAAAAAAAAAAAAAAAAAAAAAAAAAAAAAAAAAAAAAAAAAAAAAAAAAAAAAAAAAAAAAAAAAAAAAAAAAAAAAAAAAAAAAAAAAAAAAAAAAAAAAAAAAAAAAAAAAAAAAAAAAAAAAAAAAAAAAAAAAAAAAAAAAAAAAAAAAAAAAAAAAAAAAAAAAAAAAAAAAAAAAAAAAAAAAAAAAAAAAAAAAAAAAAAAAAAAAAAAAAAAAAAAAAAAAAAAAAAAAAAAAAAAAAAAAAAAAAAAAAAAAAAAAAAAAAAAAAAAAAAAAAAAAAAAAAAAAAAAAAAAAAAAAAAAAAAAAAAAAAAAAAAAAAAAAAAAAAAAAAAAAAAAAAAAAAAAAAAAAAAAAAAAAAAAAAAAAAAAAAAAAAAAAAAAAAAAAAAAAAAAAAAAAAAAAAAAAAAAAAAAAAAAAAAAAAAAAAAAAAAAAAAAAAAAAAAAAAAAAAAAAAAAAAAAAAAAAAAAAAAAAAAAAAAAAAAAAAAAAAAAAAAAAAAAAAAAAAAAAAAAAAAAAAAAAAAAAAAAAAAAAAAAAAAAAAAAAAAAAAAAAAAAAAAAAAAAAAAAAAAAAAAAAAAAAAAAAAAAAAAAAAAAAAAAAAAAAAAAAAAAAAAAAAAAAAAAAAAAAAAAAAAAAAAAAAAAAAAAAAAAAAAAAAAAAAAAAAAAAAAAAAAAAAAAAAAAAAAAAAAAAAAAAAAAAAAAAAAAAAAAAAAAAAAAAAAAAAAAAAAAAAAAAAAAAAAAAAAAAAAAAAAAAAAAAAAAAAAAAAAAAAAAAAAAAAAAAAAAAAAAAAAAAAAAAAAAAAAAAAAAAAAAAAAAAAAAAAAAAAAAAAAAAAAAAAAAAAAAAAAAAAAAAAAAAAAAAACwAAAAAYABgAEAI/wABCBxIsKDBgwgTKlzIsKHDhxAjSpyoUIBFAQoyKijAscCAjwMAiBxJsqTJkQFSqlzJMgCAlzBjypxJs2ZMATgFFNhZQIFPBQOCDjhA9MCAowMKKC1woOkBAVAFIJiKQIBVAQiyIgjANYCArwIKiC0AoKzZs2jTql3Ltq3bt20HyB1QoG4BAXgFANjLt6/fv4ADCx5MeDCCwwgWKF6goLECAZAFAJhMubLly5gza97MeTOCzwgWiF6goLSCAKgDAFjNurXr17Bjy55Ne/aB2wcM6DagoLeCAMADABhOvLjx48iTK1/O/HiA5wESSE9AoDoBBdgVANjOvbv37+DDi/8fT368gPMCCKhfr36A+wEA4sufT7++/fv48+vPf6D/AYALBC4wUNDAAIQDACxk2NDhQ4gRJU6kOFHARQEGNBog0JFAApAJAIwkWdLkSZQpVa5k2dLlS5gxZbIUUNNmzQA5deYE0NPnT6BBhQ4lWtRoUQRJERBg2pSpAqgKEExFAMDqVaxZtW7l2tXrV7BhuwogW5ZsALRp0QpgKyDA2wAA5AIYUHeAAbwGDuw9AMDvX8CBBQ8mXNjwYcR+BywekMBxggGRBwCgXNnyZcyZNW/m3JlzANABEoxOQMA0gQGpBwBg3dr1a9ixZc+mXds26wK5CxjgbWDA7wEAhA8nXtz/+HHkyZUvVy7AuQAD0aVHP1D9AADs2bVv597d+3fw4cEfIH+AwXkGCdQnCNA+AAD48eXPp1/f/n38+ekH4B+gAMACAgkQJFDgYAEAChcybOjwIcSIEidKDGAxQIKMCRZwXGDgowEEIhEAKGnyJMqUKleybOmypYCYAgbQHJDgZoIDOg8A6OnzJ9CgQocSLWr0KNKkSpcyber0KdSoUqdSrQpUANasWANw7coVANiwYseSLWv2LNq0aAWwFaDgrYICcgsMqDsAAN68evfyzRvgL+DAggMAKGz4MOLEihcfRuAYAYHIkiMrqKwAAWYEADZz7uz5M+jQokeTHi3gtIAC/6oLKGitYADsAQdmHxhge0CB3AUO8D4g4LcABMIRCCguAAFyBAGWBxDgXECB6AUAUK9u/Tr27Nq3c78u4Dv47wHGkx8v4LyAAOoDAGgPYAD8AQbmGzhg/wCA/Pr38+/vHyAAgQMJFjR4EGFChQAGNBxQAGIBARMFALB4EWNGjRs5dvT4EaTFASMHJDCZYEDKAQBYtnT5EmZMmTNp1rTJEkFOBAt4LlDwU4EAoQIAFDV6FGlSpUuZNnXaNEDUAAmoJiBwlcAArQMAdPX6FWxYsWPJljV7tisCtQgWtF2gAK6CAHMDALB7F29evXv59vX7F7DdAoMLGDBsYEDiAQAYN/92/BhyZMmTKVe2zPhA5gMGOBtQ8FlBANEBAJQ2fRp1atWrWbd23VpAbAEGaNemfQD3AQC7eff2/Rt4cOHDiQ8PcDxAAuUJCDQnoAC6AgDTqVe3fh17du3buXeffgD8AQbjGSQwnyBA+gAA2Ld3/x5+fPnz6denLwC/AAL7+e8fAHCAQAAECxo8iDChwoUMGzIMADFAgYkFCFgkUCBjAQAcO3r8CDKkyJEkS5rkeCDlgQUsFxh4aWCAzAEAatq8iTOnzp08e/rsGSBogAREEyw4usCAUgMImiIAADWq1KlUq1q9ijUrVgFcBRj4aoCAWAIJyiYAgDat2rVs27p9Czf/rly0AuoKGIB3QIK9CQ74PQAgsODBhAsbPow4seLFjBs7fgw5suTJlCtbvow5s+bNnDt7/gw6tOjGAkqbLh0gterUAFq7fg07tuzZtGvbvt1agO7dugP4/u0bgPDhxIsbP448ufLlygU4F6AguoIC1AsMuD4AgPbt3Lt73x4gvPjx5AMAOI8+vfr17NunFwBfgIL5CgrYLzAg/wAA/Pv7BwhA4ECCBAMcRJhQYQAADR0+hBhR4sSHCCwiIJBRY0YFHRUgAIkAwEiSJU2eRJlS5UqWKxG8REBA5kyZCmwqQJATAQCePX3+BBpU6FCiRYkKQCqgwNICCpwqGBB1wAGq/wcGXB1QQGuBA10PCAArAMFYBALMCkCQFkEAtgEEvBVQQG4BAHXt3sWbV+9eAX0FFABcQMFgBQMMDziQ+MAAxgMKPC5wQPIBAZUFIMCMQMBmAQg8IwgQOoAA0gIKnC4AQPVq1q1dv4YdW3ZrAbVt1w6QW3duAb0FBAAeAMBwAAOMDzCQ3MAB5gcAPIceXfp06tWtXwcgQPt27QG8f/cuQLyAAOUDAEAPYMD6AQbcGzgQ/wAA+vXt38efX/9+/v39AwQgcOCAggMKICwgYKEAAA4fQowocSLFihYvYpQ4YOOAAh4LCAgpAADJkiZPokypciXLli5JDog5IAHNBANuDv8AoHMnz54+fwINKnQoUZ8Djg5IoDTBgKYDAECNKnUq1apWr2LNqhUqgq4IFoBdoGCsAgFmBQBIq3Yt27Zu38KNK3duWgR2ESzIu0ABXwUC/goAIHgw4cKGDyNOrHix4gCOAySInIAAZQIDLg8AoHkz586eP4MOLXo0ac0BTgdIoDoBgdYEBsAeAGA27dq2b+POrXs3796zEQBHsGD4AgXGFQRIHgAA8+bOn0OPLn069erWmSPIjmAB9wUKvisIID4AgPLmz6NPr349+/bu35cvIL+AgfoGBuAfAGA///7+AQIQOJBgQYMHESZUuHBgAYcFDEQ0MIDiAAAXMWbUuJH/Y0ePH0GGvHiA5AEDJw0oUKkgQMsAAGDGlDmTZk2bN3Hm1AnzQM8DBoAaUDBUQQCjAQAkVbqUaVOnT6FGlRpVQFUBBrBmxXqA6wEAX8GGFTuWbFmzZ9Gm/SqArQADb+G+PTD3AAC7d/Hm1buXb1+/f/0GEBwgQeEEBBATULBYAQDHjyFHljyZcmXLlzE7DrA5QALPCQiEJqCAtAIAp1GnVr2adWvXr2HHPn2A9gEGtxkk0J0gQO8AAIAHFz6ceHHjx5EnVw78QPMDDKAzSDA9QQDrAQBk176de3fv38GHFx9eQHkBBNCnRz+A/QAA7+HHlz+ffn379/Hnfy+AvwAC/wAJCBxIYIDBAQASKlzIsKHDhxAjSowYoGKAAhgLENhIoIDHAgBCihxJsqTJkyhTqlwZMoDLAAViFiBAk0CBmwUA6NzJs6fPn0CDCh1KVOeBowcWKF1goKmBAVAHAJhKtarVq1izat3KtevUA2APLBi7wIBZAwPSDgDAtq3bt3Djyp1Lty7dAHgDJNibYIHfBQYCG0BAGAGAw4gTK17MuLHjx5AfB5gcIIHlBAsyLzDA2QCCzwgAiB5NurTp06hTq16tWoBrAQZiGyBAm0CC2wkA6N7Nu7fv38CDCx9OXLeA4wIMKDdAoDmBBNATAJhOvbr169iza9/Ovft0AeAFDDUYPyCB+QQH0h8AwL69+/fw48ufT7++ffYC8gsYwH9AAoAJBB4geADAQYQJFS5k2NDhQwABAQA7\"/><br/><center>Feature 10</center></td><td style=\"border: 1px solid black;\"><img style=\"image-rendering: pixelated;\" class=\"MNIST_CNN_conv2D_1_feature11\" src=\"data:image/gif;base64,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\"/><br/><center>Feature 11</center></td><td style=\"border: 1px solid black;\"><img style=\"image-rendering: pixelated;\" class=\"MNIST_CNN_conv2D_1_feature12\" src=\"data:image/gif;base64,R0lGODdhYABgAIcAAP78/QEB9efn/9fX/6am/8jI/ycn/1dX/4WF/zU1/2Vl/5aW/7a2/xYW/wAA0EdH/3h4/wAAvQAAAAAAAAAAAAAAAAAAAAAAAAAAAAAAAAAAAAAAAAAAAAAAAAAAAAAAAAAAAAAAAAAAAAAAAAAAAAAAAAAAAAAAAAAAAAAAAAAAAAAAAAAAAAAAAAAAAAAAAAAAAAAAAAAAAAAAAAAAAAAAAAAAAAAAAAAAAAAAAAAAAAAAAAAAAAAAAAAAAAAAAAAAAAAAAAAAAAAAAAAAAAAAAAAAAAAAAAAAAAAAAAAAAAAAAAAAAAAAAAAAAAAAAAAAAAAAAAAAAAAAAAAAAAAAAAAAAAAAAAAAAAAAAAAAAAAAAAAAAAAAAAAAAAAAAAAAAAAAAAAAAAAAAAAAAAAAAAAAAAAAAAAAAAAAAAAAAAAAAAAAAAAAAAAAAAAAAAAAAAAAAAAAAAAAAAAAAAAAAAAAAAAAAAAAAAAAAAAAAAAAAAAAAAAAAAAAAAAAAAAAAAAAAAAAAAAAAAAAAAAAAAAAAAAAAAAAAAAAAAAAAAAAAAAAAAAAAAAAAAAAAAAAAAAAAAAAAAAAAAAAAAAAAAAAAAAAAAAAAAAAAAAAAAAAAAAAAAAAAAAAAAAAAAAAAAAAAAAAAAAAAAAAAAAAAAAAAAAAAAAAAAAAAAAAAAAAAAAAAAAAAAAAAAAAAAAAAAAAAAAAAAAAAAAAAAAAAAAAAAAAAAAAAAAAAAAAAAAAAAAAAAAAAAAAAAAAAAAAAAAAAAAAAAAAAAAAAAAAAAAAAAAAAAAAAAAAAAAAAAAAAAAAAAAAAAAAAAAAAAAAAAAAAAAAAAAAAAAAAAAAAAAAAAAAAAAAAAAAAAAAAAAAAAAAAAAAAAAAAAAAAAAAAAAAAAAAAAAAAAAAAAAAAAAAAAAAAAAAAAAAAAAAAAAAAAAAAAAAAAAAAAAAAAAAAAAAAAAAAAAAAAAAAAAAAAAAAAAAAAAAAAAAAAAAAAAAAAAAAAAAAAAAAAAAACwAAAAAYABgAEAI/wABCBxIsKDBgwgTKlzIsKHDhxAjSpyocIDFAQsyLlDAUcGBjwcMiDSQoGSCAygPQFgJYYHLly4JyJxJs2ZNBjgZDNg5QIDPnz4BCB1KtGhRAUgFEFhKQIFTBQeiHjBA1UCDqw0CaN3KtWsAB2AdBBhLdqyDs2jTnk3ANoGCtwoWyF0woO4AAHjz6t27t4DfAgICCw48oLDhwgUSK07MoDGDApALMJhMeTKCywgSaE4QoHOABqAbPBj9QIFpBQVSFwDAurXr17Bjy55Ne3aB2wUU6FbQoHeDAMADGBhuQIFxBQWSFwDAvLnz59CjS59OfXqB6wUUaFcQoLv37gnCJ/9AQB7BgPMDAKhfz769+/fw48uPX6B+AQX4FTTY3yCAf4ABEgxMgMAgggEJBwBg2NDhQ4gRJU6k+FDARQELNC5I0DFBA5ANAowMkMBkggUpFwxgOQDAS5gxZc6kWdPmTZkDdA5A0BOBAaAGAgwlOjTB0QQMlDIQ0FQAAKhRpU6lWtXqVaxTC2wtoMCrggBhAzgg6yDA2QAH1B4g0JaAALgCAMylW9fuXbx59e61O8DvAAiBIQQgHCDC4QgBFAcw0NgABMgQBkweAMDyZcyZNW/m3NnzZ9ChRY8mDVrAaQEFVK9WPcD1gAKxCwigXZs2ANy5de/m3dv3b+C/CwwvgMD/OIIHyR8EYN6cuQPoDgJMp17d+nXs2Rtsb6DAu4IF4RcUIF9AwHkBANSvZ98egAD4AhjMpz+fwH38+e8j4I8AAkAIAhUQVHDg4IEHChcyVBjgYQAHEh0EqBggAcYEBzYeWOBxgYCQAgCQLGnyJMqUKk0KaOmyJYCYAATQrElzAM4BCHYiMODTQICgARoQbXDg6AECSgkIaCoAANSoUqdSrWr1KtapArYKWOB1gYGwBgKQLUv2AdoHBNYSEOBWAIC4cufSrWv3Lt68eAnwJZDgb4IAggMYKGzgAOIDDBYzAOD4MeTIkidTrmy58oDMAxBwRmDgs4EAokeLPmD6AIPU/wwAsG7t+jXs2LJn057N4DaDA7oPBOjt+3fvA8IPDCg+AADy5MqXM2/u/Dn05QKmCyBgnUCC7AkCcO/O3QB4AwjGIxBgXgCA9OrXs2/v/j38+OwF0Bew4P4CA/oNOOjvAGAEgRECFAwAASEEAgsJAHD4EGJEiRMpVrRYcUDGAQg4ImjwEeRHAyMNIDCJYEDKAQBYtnT5EmZMmTNp1rR5E2dOnTt59vT5E2hQoUN7CjAqoEBSpUkHNB1QAGoBAVOpTgVwFWtWrVu5dvX61esAsQMWlF2gAK2CA2sPGHBrIEHcBAfoHoBwF8ICvXv1EvD7F3DgwAwIMxhweIAAxYsVA/9w/Bhy5MgFKBdAcBnBA80PAnT23NlBaAcBSJc2fRp1atUNWDdQ8FrBAtkLCtQuIAC3AAC7eff2DUBAcAEEiBNQcFzBAeUHDDQ30AB6gwDTqVe3HsBBdgcBuHfn7gB8ePHgE5RPoAC9ggXrFwxwPwBAfPnz6QMQcF8AA/379RPwD5CAwIEDERhEACEhBAUMFRx4eOCBxIkUJQa4GMCBRgcBOgZIADLBgZEHFphcICClAAAsW7p8+bKAzAICatqsOSCnzpwFevrsySAogwJECzA4ivQogqUIEjhNECBqgAZUGzy4+kCBVgUFuhYAADas2LFky5o1KyCt2rQA2gIQADf/LtwBdAcguIvAgF4DAfoGaAC4wYHBBwgYJiAgsQAAjBs7fgw5suTJlCcXuFxAgWYFDTo3CAA6gIHRBhSYVlAgdQEArFu7fg07tuzZtGcLuC1gge4FBnobCAA8OPAHxB8QOE5AgHIBAJo7fw49uvTp1KtTL4C9gILtCgJ4/+49gfgECMojGIB+AID17Nu7fw8/vvz59NcTuE8ggf4EAfoHAGhAoIEDBQ8wQMgAwEKGDR0+hBhR4kSKCwtcLKBAo4IGHRsEABkgwcgECEwiGJByAACWLV2+hBlT5kyaMwfcHIBAJwIDPQ0EABoU6AGiBxgcZQBA6VKmTZ0+hRpValQB/1UFLMC6IMHWBA28NggQNkACsgkWnF0wQO0AAG3dvoUbV+5cunXpMsDL4MDeAwH8/gXs98DgAwMMDwCQWPFixo0dP4YcGfIAygMQXEZgQLOBAJ09d04QOgED0gwEnBYAQPVq1q1dv4YdW3ZrAbUFEMBNIMHuBAF8//ZtQLgBBMURCEAuAMBy5s2dP4ceXfp06QWsF1CQXUEA7gEcfHcQQHyAA+UPEEBPQMB6AQDcv4cfX/58+vXtxxeQX8AC/gsMADQg0AFBBxEORgigMACEhhAIQCQAYCLFihYvYsyocaPGAR4HQAgJIQDJABFORgigMoCBlgYgwIQwYOYAADZv4v/MqXMnz54+ew4IOgABUQQNjiI9amCpAQROEQyIOgAA1apWr2LNqnUr165ev4INK3Ys2bJmz6JNq3Yt27Zu38KNK3cu3bpUBeAVUGAv370D/g4oILiAgMKGCwNIrHgx48aOH0OOLDmxgMoCCmDOjHkA5wEFPhcQIHq0aACmT6NOrXo169auWw+IPWAB7QUKbis4oPuAgd4GEgBPcGD4AQjGISxIrjw5gebOn0OHzmA6gwHWBwjIrj07gO7ev4MHP2D8gAXmFyhIr+AA+wMG3htIID/BgfoHIOCHsGA///0EABIQOJBgQYIMEDIYsHCAAIcPHQKQOJFixYoFMBZAsBH/wQOPDwKEFBnSQUkHAVCmVLmSZUuXDWA2UDBTwQKbCwrkLCCApwAAP4EGFQqgQNECCJAieLD0QQCnT506kOogQFWrV7Fm1bq1QdcGCsAqWDB2QQGzBQSkFQCAbVu3bwEIkCuAQF0CCvAqOLD3gAG/BhoEbhCAcGHDhwM4UOwgQGPHjR1Eljw5cgLLCRRkVrCA84IBnwcAED2adGkAAlALILCagALXCg7EPmCAtoEGtxsE0L2bd+8ADoA7CDCc+HAHx5EnP56AeQIFzxUskL5gQPUBALBn174dgADvAhiEFx+eQHnz58sjUI8AQnsICuArODD/wAP79/HbD7A/gAP//wAdBBgYIIHBBAcSHljAcIGAhwIASJxIsSIAARgFMNjIcSOBjyBDfkRAEgGEkxAUqFRwoOWBBzBjyoQZoGYABzgdBNgZIIHPBAeCHlhAdIGAowIAKF3KtGnTAlALCJhKdeqAq1ivFtjKdSuDrwwKiC3AoKzZsgjSIkjANkGAtwEayG3woO4DBXgVFNhbAIDfv4ADC/5boHABAYgTIx7AuDHjApAjQ2ZAmUGBywUYaN6sGYFnBAlCJwhAOkCD0w0eqH6goLWCArALAJhNu7bt27hz5xbAuzdvAMABCBhOfPiA4wMQKEdgoLmBANADNJje4ID1AwSyExDAXQCA7+DDi/8fT758eQHo06MHwB6AgPfw3w+YPwCBfQQG8hsIwD9AA4ANBB4geIDAQQICFAoA0NDhQ4gRJU6kWJFiAYwFFGxU0MBjgwAhAxggaUDBSQUFVBYA0NLlS5gxZc6kWdNmywI5CyjgqaDBzwYBhAYwUNSAAqQKCiwtAMDpU6hRpU6lWtVqVQFZBSzgusDAVwMBxI4V+8DsAwJpCQhgKwDAW7hx5c6lW9fuXbsC9ApY0HeBAcAGAgwmPPjB4QcEFBMQ0FgAAMiRJU+mXNnyZcyXC2wuoMCzggChRYdOUDoBAtQIBqweAMD1a9ixZc+mXdv2bdcFdBdQ0FtBAODBgScgngD/wXEEA5QPANDc+XPo0aVPp17denMC2Qkk4J4gwPcABsQbOFD+AAP0DACsZ9/e/Xv48eXPp/+ewH0CCfQnCNA/AEADAg0cKHiAAUIGABYybOjwIcSIEidSXFjgYgEFGhU06NggAMgACUYmQGASwYCUAwCwbOnyJcyYMmfSrMmyAM4CCnYqaOCzQYCgARIQTYDgKIIBSgcAaOr0KdSoUqdSrUp1ANYBCLYiMODVQICwYsMeKHuAAVoGANaybev2Ldy4cufSXTvg7gAEehEY6GsgAODAgA8QPsDgMAMAihczbuz4MeTIkiMLqCxgAeYFCTYnaOC5QYDQARKQTrDg9IIB/6oHAGjt+jXs2LJn065NWwBuAQt2L0jgO0GD4A0CEA+Q4HiCBcoXDGg+AAD06NKnU69u/Tr26wy2Mzjg/UCA8OLHhz9g/sCA9AMAsG/v/j38+PLn06/PngF+Bgf2HwjgH2AAgQMHHjB4YEDCAQAYNnT4EGJEiRMpThxwcQACjQgMdDQQAGRIkAlIJmBwkoEAlQIAtHT5EmZMmTNp1qQ5AOcABDsRGPBpIEBQoUETFE3AACkDAUsFAHD6FGpUqVOpVrUaVUBWAQS4EkjwNUEAsWPFGjBrAEFaBALYCgDwFm5cuXPp1rV7164AvQII9CWQAHCCAIMJDzZw2AACxQgENP8WAAByZMmTKVe2fBnz5QKbCyjwrCBA6AAOSDsIcDrAAdUHCLQmIAC2AACzade2fRt3bt27dRfwXUBBcAUBiAdwcNxBAOUBDjQ/QAA6AQHTBQCwfh17du3buXf3nl1AeAELyC8wcN6AA/UOIrSPEAB+AAjzIRCwTwBAfv37+ff3DxCAwIEECxo8iFCAQgELGi4wANGAg4kOIliMECBjAAgcIRD4SACAyJEkS5o8iTKlypQDWg6AABNCgJkBItiMECBnAAM8DUD4CWGA0AEAiho9ijSp0qVMmzIdAHUAhKkQAlgNECFrhABcAxj4agCCWAgDyg4AgDat2rVs27p9C/dF7YC5AxDYRdAgr968BvoaQAAYwYDBAwAYPow4seLFjBs7fmx4gOQBCCojaIA5M2YDnA0g+IxggOgBAEqbPo06terVqwMCADs=\"/><br/><center>Feature 12</center></td><td style=\"border: 1px solid black;\"><img style=\"image-rendering: pixelated;\" class=\"MNIST_CNN_conv2D_1_feature13\" src=\"data:image/gif;base64,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\"/><br/><center>Feature 13</center></td><td style=\"border: 1px solid black;\"><img style=\"image-rendering: pixelated;\" class=\"MNIST_CNN_conv2D_1_feature14\" src=\"data:image/gif;base64,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\"/><br/><center>Feature 14</center></td><td style=\"border: 1px solid black;\"><img style=\"image-rendering: pixelated;\" class=\"MNIST_CNN_conv2D_1_feature15\" src=\"data:image/gif;base64,R0lGODdhYABgAIcAAP78/ebm/7i4/8bG/5WV/9jY/4iI/6mp/3l5/wAAAAAAAAAAAAAAAAAAAAAAAAAAAAAAAAAAAAAAAAAAAAAAAAAAAAAAAAAAAAAAAAAAAAAAAAAAAAAAAAAAAAAAAAAAAAAAAAAAAAAAAAAAAAAAAAAAAAAAAAAAAAAAAAAAAAAAAAAAAAAAAAAAAAAAAAAAAAAAAAAAAAAAAAAAAAAAAAAAAAAAAAAAAAAAAAAAAAAAAAAAAAAAAAAAAAAAAAAAAAAAAAAAAAAAAAAAAAAAAAAAAAAAAAAAAAAAAAAAAAAAAAAAAAAAAAAAAAAAAAAAAAAAAAAAAAAAAAAAAAAAAAAAAAAAAAAAAAAAAAAAAAAAAAAAAAAAAAAAAAAAAAAAAAAAAAAAAAAAAAAAAAAAAAAAAAAAAAAAAAAAAAAAAAAAAAAAAAAAAAAAAAAAAAAAAAAAAAAAAAAAAAAAAAAAAAAAAAAAAAAAAAAAAAAAAAAAAAAAAAAAAAAAAAAAAAAAAAAAAAAAAAAAAAAAAAAAAAAAAAAAAAAAAAAAAAAAAAAAAAAAAAAAAAAAAAAAAAAAAAAAAAAAAAAAAAAAAAAAAAAAAAAAAAAAAAAAAAAAAAAAAAAAAAAAAAAAAAAAAAAAAAAAAAAAAAAAAAAAAAAAAAAAAAAAAAAAAAAAAAAAAAAAAAAAAAAAAAAAAAAAAAAAAAAAAAAAAAAAAAAAAAAAAAAAAAAAAAAAAAAAAAAAAAAAAAAAAAAAAAAAAAAAAAAAAAAAAAAAAAAAAAAAAAAAAAAAAAAAAAAAAAAAAAAAAAAAAAAAAAAAAAAAAAAAAAAAAAAAAAAAAAAAAAAAAAAAAAAAAAAAAAAAAAAAAAAAAAAAAAAAAAAAAAAAAAAAAAAAAAAAAAAAAAAAAAAAAAAAAAAAAAAAAAAAAAAAAAAAAAAAAAAAAAAAAAAAAAAAAAAAAAAAAAAAAAAAAAAAAAAAAAAAAAAAAAAAAAAAAAAAAAAAAAAAAAAAAAAAAAAAAAAAACwAAAAAYABgAEAI/wABCBxIsKDBgwgTKlzIsKHDhxAjSpxIsaLFhQEyBgDAsaPHjyBDDhg5QIBJAQFSBgDAsqXLlzBjypxJc2aAmwEA6NzJsyeAAkALABhKtKjRo0iTKl3KtKnTp1CjJiVAlQCAq1izat3KtavXr2DDfiVAlkCAswEAqF3Ltq3bt3Djyp1L162BuwYC6A0AoK/fv4ADCx5MuLDhw30DKA6AoDECAJAjS55MubLly5gza6Z8oPMBA6ANABhNurTp06hTq17NuvXpA7APBJgdAIDt27hz697Nu7fv38B1Dxg+oIDxAgCSK1/OvLnz59CjS59Ovbr169iza9/Ovbv0AuALAP8YT768+fPo06snH6B9AAHwBQyYPyCA/QAA8uvfz5+/AIACBA4gOADAQYQJFS5k2NDhQ4gRJU6kWNHiRYwZNQIY0HEAAZAEAIwkWdLkSZQpVa5k2fLkAJgDDsw8AMDmTZw5de7k2dPnT6A6Dww9QMAoAQBJlS5l2tTpU6hRpU5tasCqAQFZBQDg2tXrV7BhxY4lW9Ys1wBpAxhgayDA2wAA5M6lW9fuXbx59e7lK7fA3wICBAsAUNjwYcSJFS9m3Njx48IFJBcgUJmAAMwCAGzm3NnzZ9ChRY8mXdr0adSpVa9m3dr1a9ixZc+mXdv2bdytA+wOAMD3b+DBhQ8nXsD/eAEAyZUvZ97c+XPoygNMDyDAuoAB2QcE4B4AwHfw4cWLH1B+gAD0AgKsDwDA/Xv48eXPp1/ffv0A+QMA4N/fP0AAAgcKKChgAMIBABYybOjwIcSIEidSrDixAMYCADZy7OjxI8iQIkeSLGnyJMqUKleybOlSJIGYBADQrGnzJs6cOnfy7OmT54CgAwgQJQDgKNKkSpcyber0KdSoTwlQJRDgagAAWrdy7er1K9iwYseS9Trg7IADag8AaOv2Ldy4cufSrWv3bl0Deg0E6BsAAODAggcTLmz4MOLEigkfaHyAAGQCACZTrmz5MubMmjdz7nw5AOgACEYjAGD6NOrU/6pXs27t+jVs1wZmGxBgWwCA3Lp38+7t+zfw4MKH9z5g/ICB5AYAMG/u/Dn06NKnU69uHXqA7AEMcDcQ4HsAAOLHky9v/jz69OrXszd/4P2BAPIDAKhv/z7+/Pr38+/vHyAAgQMJFhxYAGEBAQsFAHD4EGJEiRMpVrR4EaPFARsHFPBYAEBIkSNJljR5EmVKlStDFnBZgEBMAgJoCgBwE2dOnTt59vT5E2hQoUOJFjV6FGlSpUuZNnX6FGpUqVOpVrV6FWtWrVu5dvXKNUDYAADIljV7Fm1atWvZtnX7FkAAuQEA1LV7F29evXsL9C0AAHBgwYMJFzZ8OHAAxQEENP8WMADygACTAwCwfBlzZs2bC3QuAAB0aNGjSZc2fTp0ANUBBLQWMAD2gACzAwCwfRt37twDeA8Q8FtAAOEBABQ3fhx5cuXLmTdnHgB6AADTqVe3DmBA9gECuAsI8D0AAPHjyZc3fx59evXpA7QPAAB+fPnzAQiwL2BA/gEA+Pf3DxCAwIEECxo8iDChwoUMBTgUMCDiAAAUK1q8iDGjxo0cO3rkWCBkAQAkS5o8iTKlypUsW7p8CaCAzAIAatq8iTOnzp08e/r8CTSo0KFEixo9ijSp0qVMfRJ4SgCA1KlUq1q9ijWr1q1cuwIgAJYAgLFky5o9izat2rVs264dAHf/AIG5BADYvYs3r969fPv6/QvY74DBAwgYJgAgseLFjBs7fgw5suTJkQlYJhAgcwAAnDt7/gw6tOjRpEubJk0gNYEArAMAeA07tuzZtGvbvo079+wBvAcc+H0AgPDhxIsbP448ufLlzJUPeD7ggPQDAKpbv449u/bt3Lt7/97dgHgDAcoHAIA+vfr17Nu7fw8/vnz4BuobCIA/AID9/Pv7BwhA4ECCBQ0eRJhQ4cKBBxweIBCRAACKFS1exJhR40aOHT1yPBDyAAGSBACcRJlS5UqWLV2+hBlzZQCaARDcRABA506ePX3+BBpU6FCiQgMcDYBAKQIATZ0+hRpV6lSq/1WtXq1qQKsBAV0FAAAbVuxYsmXNnkWbVi1aA20NCIArAMBcunXt3sWbV+9evn3vHgB8wMBgAwAMH0acWPFixo0dP4bs+MDkAwYsGwCQWfNmzp09fwYdWvTozgFMBzCQ2kAA1gEAvIYdW/Zs2rVt38ade3YA3gEM/DYQQHgAAMWNH0eeXPly5s2dP09+QPqBANUDAMCeXft27t29fwcfXjz4A+UPBEAfAMB69u3dv4cfX/58+vXfF8BfQMB+AQD8AwQgcCDBggYPIkyocCHDgwUeFhAgUQCAihYvYsyocSPHjh4/dhwgckCBkgUAoEypciXLli5fwowpE+aAmgMK4EEsAGAnz54+fwINKnQo0aI7CyAtQGApAQFOBQCIKnUq1apWr2LNqnVr1QJeCxAIS0AAWQEAzqJNq3Yt27Zu36oNCAA7\"/><br/><center>Feature 15</center></td></tr><tr></tr></table></td>\n</tr>\n</table>"
      }
     },
     "87365352492e435fb85fce3e2dd75634": {
      "model_module": "@jupyter-widgets/controls",
      "model_module_version": "1.1.0",
      "model_name": "DescriptionStyleModel",
      "state": {
       "description_width": ""
      }
     },
     "88d90c66085e43ae8a491db837a33ccf": {
      "model_module": "@jupyter-widgets/controls",
      "model_module_version": "1.1.0",
      "model_name": "CheckboxModel",
      "state": {
       "description": "Visible",
       "disabled": false,
       "layout": "IPY_MODEL_6b9e17ae03da4992990b0563d3413a6c",
       "style": "IPY_MODEL_7b917296125a4cfb82557881f3fe8781",
       "value": true
      }
     },
     "8a0ebb70dbf543af8cdf6a58d3ac161f": {
      "model_module": "@jupyter-widgets/controls",
      "model_module_version": "1.1.0",
      "model_name": "DescriptionStyleModel",
      "state": {
       "description_width": ""
      }
     },
     "8a43e7c3ca7142e180026becb656a9a7": {
      "model_module": "@jupyter-widgets/controls",
      "model_module_version": "1.1.0",
      "model_name": "DescriptionStyleModel",
      "state": {
       "description_width": ""
      }
     },
     "93ec920bebc742cb8d2fc37bdc875450": {
      "model_module": "@jupyter-widgets/controls",
      "model_module_version": "1.1.0",
      "model_name": "CheckboxModel",
      "state": {
       "description": "Rotate",
       "disabled": false,
       "layout": "IPY_MODEL_3c41fd59df9949f98c822bebbb88f0d4",
       "style": "IPY_MODEL_de050faf63f946d6a1c138f39bfcd0c2",
       "value": true
      }
     },
     "96525c7aa4ea4fbf91a0525e5b89debf": {
      "model_module": "@jupyter-widgets/base",
      "model_module_version": "1.0.0",
      "model_name": "LayoutModel",
      "state": {}
     },
     "9759ce4975ae433982c673a281f854e4": {
      "model_module": "@jupyter-widgets/controls",
      "model_module_version": "1.1.0",
      "model_name": "DescriptionStyleModel",
      "state": {
       "description_width": ""
      }
     },
     "9784bf7680264b51ac48e6f3dfc625b0": {
      "model_module": "@jupyter-widgets/controls",
      "model_module_version": "1.1.0",
      "model_name": "ButtonStyleModel",
      "state": {}
     },
     "9a96543c1cfc4e428f12df2b8fceb18d": {
      "model_module": "@jupyter-widgets/controls",
      "model_module_version": "1.1.0",
      "model_name": "IntTextModel",
      "state": {
       "description": "Feature columns:",
       "layout": "IPY_MODEL_6fd150c04e8a47a5b1786e034144ffe8",
       "step": 1,
       "style": "IPY_MODEL_a6afdc6d009c4bbc94c8b8d4f5c28bef",
       "value": 3
      }
     },
     "9c8a8530134b4ce4933dcfae6bd06eaa": {
      "model_module": "@jupyter-widgets/controls",
      "model_module_version": "1.1.0",
      "model_name": "VBoxModel",
      "state": {
       "children": [
        "IPY_MODEL_a8f58d01f8a2405eba6154c4ec05e211",
        "IPY_MODEL_b2338c438ddf4ba98be4858803b95e0e",
        "IPY_MODEL_73f353202ef544408ee0f9da8c40083c",
        "IPY_MODEL_1bd85b05333b4d72af998a86706f4e73",
        "IPY_MODEL_759351f941824fda926de1964bd908dd",
        "IPY_MODEL_d4ef4987d0674ac096b3b2135acd1785",
        "IPY_MODEL_9a96543c1cfc4e428f12df2b8fceb18d",
        "IPY_MODEL_18e90a61e31249758c9a91913eee64e9"
       ],
       "layout": "IPY_MODEL_0316af5a5eee46f1a816348c9ea46399"
      }
     },
     "9f4845fb28f44dfaab02f7cbcf43d5f7": {
      "model_module": "@jupyter-widgets/base",
      "model_module_version": "1.0.0",
      "model_name": "LayoutModel",
      "state": {
       "width": "100px"
      }
     },
     "a050dbb94357478099ec525e4c83cdea": {
      "model_module": "@jupyter-widgets/controls",
      "model_module_version": "1.1.0",
      "model_name": "HBoxModel",
      "state": {
       "children": [
        "IPY_MODEL_d1ceefb46b8a41af8f1e53a1045a83b0",
        "IPY_MODEL_39e053a723634ac4a8803301e93e1e40"
       ],
       "layout": "IPY_MODEL_ada53b60714347d4bc57691b1cfa8712"
      }
     },
     "a08944d3df5e4c79aa7a391858c59339": {
      "model_module": "@jupyter-widgets/base",
      "model_module_version": "1.0.0",
      "model_name": "LayoutModel",
      "state": {
       "width": "100%"
      }
     },
     "a1243cf3571f424bb943ea0bcb95004f": {
      "model_module": "@jupyter-widgets/controls",
      "model_module_version": "1.1.0",
      "model_name": "SliderStyleModel",
      "state": {
       "description_width": "initial"
      }
     },
     "a25bde89ebf94fe1a3359eec07be3e19": {
      "model_module": "@jupyter-widgets/controls",
      "model_module_version": "1.1.0",
      "model_name": "DescriptionStyleModel",
      "state": {
       "description_width": "initial"
      }
     },
     "a432fd29cbd5468cb7e208b28e9e0771": {
      "model_module": "@jupyter-widgets/controls",
      "model_module_version": "1.1.0",
      "model_name": "CheckboxModel",
      "state": {
       "description": "Rotate",
       "disabled": false,
       "layout": "IPY_MODEL_6b9e17ae03da4992990b0563d3413a6c",
       "style": "IPY_MODEL_6b3f9fc99cce48c4baf520d2020c3b67",
       "value": true
      }
     },
     "a618541a3f9842f2aaa43da84c11eddb": {
      "model_module": "@jupyter-widgets/controls",
      "model_module_version": "1.1.0",
      "model_name": "ButtonStyleModel",
      "state": {}
     },
     "a6afdc6d009c4bbc94c8b8d4f5c28bef": {
      "model_module": "@jupyter-widgets/controls",
      "model_module_version": "1.1.0",
      "model_name": "DescriptionStyleModel",
      "state": {
       "description_width": "initial"
      }
     },
     "a80d56d2af6740758aedb277f6706979": {
      "model_module": "@jupyter-widgets/controls",
      "model_module_version": "1.1.0",
      "model_name": "DescriptionStyleModel",
      "state": {
       "description_width": "initial"
      }
     },
     "a85f1d2ccded4d0e8aae686a8527150f": {
      "model_module": "@jupyter-widgets/controls",
      "model_module_version": "1.1.0",
      "model_name": "FloatSliderModel",
      "state": {
       "continuous_update": false,
       "description": "Zoom",
       "layout": "IPY_MODEL_839a78a67ba34fee9ef4033e4a944e44",
       "max": 1,
       "step": 0.1,
       "style": "IPY_MODEL_a1243cf3571f424bb943ea0bcb95004f",
       "value": 1
      }
     },
     "a8912fe027ae4c25a4e5cb1200cace09": {
      "model_module": "@jupyter-widgets/controls",
      "model_module_version": "1.1.0",
      "model_name": "DescriptionStyleModel",
      "state": {
       "description_width": ""
      }
     },
     "a8f58d01f8a2405eba6154c4ec05e211": {
      "model_module": "@jupyter-widgets/controls",
      "model_module_version": "1.1.0",
      "model_name": "SelectModel",
      "state": {
       "_options_labels": [
        "Test",
        "Train"
       ],
       "description": "Dataset:",
       "index": 1,
       "layout": "IPY_MODEL_52b8609add824136b8b29dea332ae796",
       "rows": 1,
       "style": "IPY_MODEL_1d05c1812b254f9586aae470834c11df"
      }
     },
     "ab32b10f1b8c49789bac162f0ce0b138": {
      "model_module": "@jupyter-widgets/base",
      "model_module_version": "1.0.0",
      "model_name": "LayoutModel",
      "state": {
       "width": "25%"
      }
     },
     "ab6d16560967491fa03f185190f89477": {
      "model_module": "@jupyter-widgets/controls",
      "model_module_version": "1.1.0",
      "model_name": "VBoxModel",
      "state": {
       "children": [
        "IPY_MODEL_e9b2de4a0b27460f97ffea75a16e25a1",
        "IPY_MODEL_5d7d71d6cd4744a0ba57b5d5f5211bc9",
        "IPY_MODEL_091f97ffeb9743afbd4800db1dac14c7",
        "IPY_MODEL_e4aee9c43b514cfaa29dcaad33a5b907"
       ],
       "layout": "IPY_MODEL_ff46604844cd4ca2891024ab2c5b0f0e"
      }
     },
     "ad7ddc93f91a486294a38ed121b06cf0": {
      "model_module": "@jupyter-widgets/controls",
      "model_module_version": "1.1.0",
      "model_name": "ButtonModel",
      "state": {
       "icon": "refresh",
       "layout": "IPY_MODEL_e99c9b078e6a4ec4b30607525632d319",
       "style": "IPY_MODEL_c721ef55502e4c2ebf37e0640ef42b1e"
      }
     },
     "ada53b60714347d4bc57691b1cfa8712": {
      "model_module": "@jupyter-widgets/base",
      "model_module_version": "1.0.0",
      "model_name": "LayoutModel",
      "state": {}
     },
     "adea0021ae434e38aafb5a6a0e32b320": {
      "model_module": "@jupyter-widgets/controls",
      "model_module_version": "1.1.0",
      "model_name": "IntTextModel",
      "state": {
       "layout": "IPY_MODEL_d96b061176494b32a6a249e9166de6bd",
       "step": 1,
       "style": "IPY_MODEL_384f4f27a7244ddb89f69d12cb86bd69"
      }
     },
     "af2440162ba94488a12b8fd602f35280": {
      "model_module": "@jupyter-widgets/controls",
      "model_module_version": "1.1.0",
      "model_name": "DescriptionStyleModel",
      "state": {
       "description_width": "initial"
      }
     },
     "af4429936c9a458095c8c35ec9e00244": {
      "model_module": "@jupyter-widgets/controls",
      "model_module_version": "1.1.0",
      "model_name": "LabelModel",
      "state": {
       "layout": "IPY_MODEL_9f4845fb28f44dfaab02f7cbcf43d5f7",
       "style": "IPY_MODEL_a8912fe027ae4c25a4e5cb1200cace09",
       "value": "of 10000"
      }
     },
     "b2338c438ddf4ba98be4858803b95e0e": {
      "model_module": "@jupyter-widgets/controls",
      "model_module_version": "1.1.0",
      "model_name": "FloatSliderModel",
      "state": {
       "continuous_update": false,
       "description": "Zoom",
       "layout": "IPY_MODEL_e5c048a5e89143e194491580b75a089b",
       "max": 1,
       "step": 0.1,
       "style": "IPY_MODEL_04a6c49842af413abfbf5978040e2b80",
       "value": 0.6
      }
     },
     "b7aee2c503fe467db32b876e1eded7ac": {
      "model_module": "@jupyter-widgets/base",
      "model_module_version": "1.0.0",
      "model_name": "LayoutModel",
      "state": {}
     },
     "ba13ed7fb9fa4f08b5611db6c2f9d005": {
      "model_module": "@jupyter-widgets/controls",
      "model_module_version": "1.1.0",
      "model_name": "ButtonModel",
      "state": {
       "description": "Play",
       "icon": "play",
       "layout": "IPY_MODEL_cee3833f821242f883483b240f5178cc",
       "style": "IPY_MODEL_fdf27f34b6384e2b8c87d24862ef42dd"
      }
     },
     "ba16548a022c4904a0c0d666551dece0": {
      "model_module": "@jupyter-widgets/controls",
      "model_module_version": "1.1.0",
      "model_name": "IntSliderModel",
      "state": {
       "continuous_update": false,
       "description": "Dataset index",
       "layout": "IPY_MODEL_6796dbfbde7a485e971164abf9846d3c",
       "max": 59999,
       "style": "IPY_MODEL_6486ec8f4683477fb2e9e07f9bf6098f"
      }
     },
     "ba359b6fc6654f25adac1ceefe1e4970": {
      "model_module": "@jupyter-widgets/controls",
      "model_module_version": "1.1.0",
      "model_name": "HBoxModel",
      "state": {
       "children": [
        "IPY_MODEL_9c8a8530134b4ce4933dcfae6bd06eaa",
        "IPY_MODEL_f9b50ae086144b51a09db1da9e07af69"
       ],
       "layout": "IPY_MODEL_ed4dd196fe9b41de96bd234480d40e4f"
      }
     },
     "bcbfa408e153452d9345784a46576718": {
      "model_module": "@jupyter-widgets/base",
      "model_module_version": "1.0.0",
      "model_name": "LayoutModel",
      "state": {
       "width": "100%"
      }
     },
     "bcd71de3e2e34880895cd980181c6911": {
      "model_module": "@jupyter-widgets/controls",
      "model_module_version": "1.1.0",
      "model_name": "IntSliderModel",
      "state": {
       "continuous_update": false,
       "description": "Dataset index",
       "layout": "IPY_MODEL_076ec4b5fbbc47a198cf875fc5c652c9",
       "max": 59999,
       "style": "IPY_MODEL_6b7848101c884eaa899c702e1fa4b31a"
      }
     },
     "bd698263354444b6a1d65ec10487a1eb": {
      "model_module": "@jupyter-widgets/base",
      "model_module_version": "1.0.0",
      "model_name": "LayoutModel",
      "state": {}
     },
     "c1381b0dca7c4e5bbbed9376eee13941": {
      "model_module": "@jupyter-widgets/base",
      "model_module_version": "1.0.0",
      "model_name": "LayoutModel",
      "state": {
       "height": "40px"
      }
     },
     "c3083f4338bf441aafb459f24ac2ea33": {
      "model_module": "@jupyter-widgets/controls",
      "model_module_version": "1.1.0",
      "model_name": "ButtonModel",
      "state": {
       "icon": "backward",
       "layout": "IPY_MODEL_fd068d545b4f4a409f2d8681fa99b5f4",
       "style": "IPY_MODEL_122d49764add43c2975e8b4487f389d5"
      }
     },
     "c3b6c2db2ae846c285455a5d421dafb0": {
      "model_module": "@jupyter-widgets/base",
      "model_module_version": "1.0.0",
      "model_name": "LayoutModel",
      "state": {}
     },
     "c439ab6fc89a42bcac5716340fdf256d": {
      "model_module": "@jupyter-widgets/base",
      "model_module_version": "1.0.0",
      "model_name": "LayoutModel",
      "state": {}
     },
     "c451627eeb47419880f5839a8a6e8c5b": {
      "model_module": "@jupyter-widgets/output",
      "model_module_version": "1.0.0",
      "model_name": "OutputModel",
      "state": {
       "layout": "IPY_MODEL_010879bbeae944ba9ba15a4159830efd"
      }
     },
     "c4c4a982b27c46b9b2d4cf43a35cbb51": {
      "model_module": "@jupyter-widgets/controls",
      "model_module_version": "1.1.0",
      "model_name": "ButtonStyleModel",
      "state": {}
     },
     "c721ef55502e4c2ebf37e0640ef42b1e": {
      "model_module": "@jupyter-widgets/controls",
      "model_module_version": "1.1.0",
      "model_name": "ButtonStyleModel",
      "state": {}
     },
     "c793593387c140b48317fe53195f458a": {
      "model_module": "@jupyter-widgets/controls",
      "model_module_version": "1.1.0",
      "model_name": "ButtonStyleModel",
      "state": {}
     },
     "c8981b0277424e9f9ac48ffde075b511": {
      "model_module": "@jupyter-widgets/controls",
      "model_module_version": "1.1.0",
      "model_name": "HBoxModel",
      "state": {
       "children": [
        "IPY_MODEL_ba16548a022c4904a0c0d666551dece0",
        "IPY_MODEL_af4429936c9a458095c8c35ec9e00244"
       ],
       "layout": "IPY_MODEL_c1381b0dca7c4e5bbbed9376eee13941"
      }
     },
     "cca274b078ef4f949c65d69f81bd512a": {
      "model_module": "@jupyter-widgets/base",
      "model_module_version": "1.0.0",
      "model_name": "LayoutModel",
      "state": {}
     },
     "cd7f28153d314155a16f309ca4c77c46": {
      "model_module": "@jupyter-widgets/base",
      "model_module_version": "1.0.0",
      "model_name": "LayoutModel",
      "state": {}
     },
     "cee3833f821242f883483b240f5178cc": {
      "model_module": "@jupyter-widgets/base",
      "model_module_version": "1.0.0",
      "model_name": "LayoutModel",
      "state": {
       "width": "100%"
      }
     },
     "d0523a1cebaa4ffebc42e95797f2cb00": {
      "model_module": "@jupyter-widgets/controls",
      "model_module_version": "1.1.0",
      "model_name": "IntTextModel",
      "state": {
       "description": "Feature columns:",
       "layout": "IPY_MODEL_c439ab6fc89a42bcac5716340fdf256d",
       "step": 1,
       "style": "IPY_MODEL_69ebe5d3e1e24b8aa23994793162170f",
       "value": 8
      }
     },
     "d17e6a2df8f24c25af6dac43956da1b6": {
      "model_module": "@jupyter-widgets/base",
      "model_module_version": "1.0.0",
      "model_name": "LayoutModel",
      "state": {
       "width": "100%"
      }
     },
     "d1ceefb46b8a41af8f1e53a1045a83b0": {
      "model_module": "@jupyter-widgets/controls",
      "model_module_version": "1.1.0",
      "model_name": "VBoxModel",
      "state": {
       "children": [
        "IPY_MODEL_3d6213823b5e4ae194d35d3492f4164d",
        "IPY_MODEL_a85f1d2ccded4d0e8aae686a8527150f",
        "IPY_MODEL_8095db67d63a40c5bb8e61cf4197c6d7",
        "IPY_MODEL_4c12f35687f8451a92b288cf95db5f7d",
        "IPY_MODEL_572b826eae09426d8c9e468c994c663e",
        "IPY_MODEL_5b4890e4c33d41f391023ffc1bd158bf",
        "IPY_MODEL_d0523a1cebaa4ffebc42e95797f2cb00",
        "IPY_MODEL_fc1f1823c826452fa33031148980000e"
       ],
       "layout": "IPY_MODEL_2b2b43f676e24ca4bc3d7736f5c7854f"
      }
     },
     "d216a787661f4a8c854a7c618b0ed493": {
      "model_module": "@jupyter-widgets/base",
      "model_module_version": "1.0.0",
      "model_name": "LayoutModel",
      "state": {
       "width": "10%"
      }
     },
     "d2b49ce98e294e5c8b50b61977b630fb": {
      "model_module": "@jupyter-widgets/controls",
      "model_module_version": "1.1.0",
      "model_name": "ButtonStyleModel",
      "state": {}
     },
     "d33907520f384553be123a1f73f7189d": {
      "model_module": "@jupyter-widgets/controls",
      "model_module_version": "1.1.0",
      "model_name": "HBoxModel",
      "state": {
       "children": [
        "IPY_MODEL_bcd71de3e2e34880895cd980181c6911",
        "IPY_MODEL_f5cd663fe7f740adb7d609819e2fb3ab"
       ],
       "layout": "IPY_MODEL_0f249c18e719499b99c6e4b443036127"
      }
     },
     "d4ef4987d0674ac096b3b2135acd1785": {
      "model_module": "@jupyter-widgets/controls",
      "model_module_version": "1.1.0",
      "model_name": "SelectModel",
      "state": {
       "_options_labels": [
        "",
        "input"
       ],
       "description": "Features:",
       "index": 0,
       "layout": "IPY_MODEL_2c415ba261be4f85b4b208bff9ff5556",
       "rows": 1,
       "style": "IPY_MODEL_66b28c0904554bfc9babf0ab41f5b499"
      }
     },
     "d603af3995a34541a6c50e47e100b6c8": {
      "model_module": "@jupyter-widgets/controls",
      "model_module_version": "1.1.0",
      "model_name": "DescriptionStyleModel",
      "state": {
       "description_width": ""
      }
     },
     "d7f2fe32a432412e8ae5d86f33989d78": {
      "model_module": "@jupyter-widgets/controls",
      "model_module_version": "1.1.0",
      "model_name": "ButtonModel",
      "state": {
       "icon": "backward",
       "layout": "IPY_MODEL_25fe20bf27864c27bbaa1218b3cfab9c",
       "style": "IPY_MODEL_5f50bdfa09da463086a955dd4b7fb309"
      }
     },
     "d96b061176494b32a6a249e9166de6bd": {
      "model_module": "@jupyter-widgets/base",
      "model_module_version": "1.0.0",
      "model_name": "LayoutModel",
      "state": {
       "width": "100%"
      }
     },
     "da3092ed85e7415783f07c5ca3c1b7a6": {
      "model_module": "@jupyter-widgets/controls",
      "model_module_version": "1.1.0",
      "model_name": "ButtonStyleModel",
      "state": {}
     },
     "da739f84862e4182a201d7cb49bb3a92": {
      "model_module": "@jupyter-widgets/controls",
      "model_module_version": "1.1.0",
      "model_name": "ButtonModel",
      "state": {
       "icon": "fast-forward",
       "layout": "IPY_MODEL_d17e6a2df8f24c25af6dac43956da1b6",
       "style": "IPY_MODEL_c793593387c140b48317fe53195f458a"
      }
     },
     "da9c11bbe9304d469edbe094df9acec9": {
      "model_module": "@jupyter-widgets/base",
      "model_module_version": "1.0.0",
      "model_name": "LayoutModel",
      "state": {
       "height": "50px",
       "width": "100%"
      }
     },
     "de050faf63f946d6a1c138f39bfcd0c2": {
      "model_module": "@jupyter-widgets/controls",
      "model_module_version": "1.1.0",
      "model_name": "DescriptionStyleModel",
      "state": {
       "description_width": ""
      }
     },
     "dffdde244add45429acfb265b0caea4b": {
      "model_module": "@jupyter-widgets/base",
      "model_module_version": "1.0.0",
      "model_name": "LayoutModel",
      "state": {}
     },
     "e0f04f1aa7174fb9acdd3a12b628b778": {
      "model_module": "@jupyter-widgets/base",
      "model_module_version": "1.0.0",
      "model_name": "LayoutModel",
      "state": {
       "justify_content": "center",
       "overflow_x": "auto",
       "overflow_y": "auto",
       "width": "95%"
      }
     },
     "e4aee9c43b514cfaa29dcaad33a5b907": {
      "model_module": "@jupyter-widgets/output",
      "model_module_version": "1.0.0",
      "model_name": "OutputModel",
      "state": {
       "layout": "IPY_MODEL_35b4df2ecd7749248ca2d4a8bbaff5b7"
      }
     },
     "e4c70c74b6de4b378bfc10507c647535": {
      "model_module": "@jupyter-widgets/base",
      "model_module_version": "1.0.0",
      "model_name": "LayoutModel",
      "state": {}
     },
     "e5c048a5e89143e194491580b75a089b": {
      "model_module": "@jupyter-widgets/base",
      "model_module_version": "1.0.0",
      "model_name": "LayoutModel",
      "state": {
       "width": "65%"
      }
     },
     "e73a1b2d5e3d4b47a62f4630e0dd3f3f": {
      "model_module": "@jupyter-widgets/controls",
      "model_module_version": "1.1.0",
      "model_name": "CheckboxModel",
      "state": {
       "description": "Errors",
       "disabled": false,
       "layout": "IPY_MODEL_3c41fd59df9949f98c822bebbb88f0d4",
       "style": "IPY_MODEL_776c9cc517984a3d9e4b120c8c224840",
       "value": false
      }
     },
     "e80cc683fdd64062baae78e305e7f7e0": {
      "model_module": "@jupyter-widgets/controls",
      "model_module_version": "1.1.0",
      "model_name": "DescriptionStyleModel",
      "state": {
       "description_width": ""
      }
     },
     "e99c9b078e6a4ec4b30607525632d319": {
      "model_module": "@jupyter-widgets/base",
      "model_module_version": "1.0.0",
      "model_name": "LayoutModel",
      "state": {
       "width": "25%"
      }
     },
     "e9b2de4a0b27460f97ffea75a16e25a1": {
      "model_module": "@jupyter-widgets/controls",
      "model_module_version": "1.1.0",
      "model_name": "AccordionModel",
      "state": {
       "_titles": {
        "0": "MNIST_MLP"
       },
       "children": [
        "IPY_MODEL_ba359b6fc6654f25adac1ceefe1e4970"
       ],
       "layout": "IPY_MODEL_82eebe283cba4a418917fd7b328e564d",
       "selected_index": null
      }
     },
     "ed4dd196fe9b41de96bd234480d40e4f": {
      "model_module": "@jupyter-widgets/base",
      "model_module_version": "1.0.0",
      "model_name": "LayoutModel",
      "state": {}
     },
     "ee0dd5d096194fe68753f399babcdb19": {
      "model_module": "@jupyter-widgets/base",
      "model_module_version": "1.0.0",
      "model_name": "LayoutModel",
      "state": {}
     },
     "ee789c05fd394117b91e5862d06c1df8": {
      "model_module": "@jupyter-widgets/controls",
      "model_module_version": "1.1.0",
      "model_name": "DescriptionStyleModel",
      "state": {
       "description_width": "initial"
      }
     },
     "ef6ad364faad4039aa29ac5dd09b5d69": {
      "model_module": "@jupyter-widgets/controls",
      "model_module_version": "1.1.0",
      "model_name": "ButtonModel",
      "state": {
       "icon": "fast-forward",
       "layout": "IPY_MODEL_fc51e454e3984046b7261fc2a2bb2c9e",
       "style": "IPY_MODEL_f33432a7d24b46bc982460ed84e0ef8d"
      }
     },
     "f02ece69270045a080674dfc3fa708a5": {
      "model_module": "@jupyter-widgets/controls",
      "model_module_version": "1.1.0",
      "model_name": "CheckboxModel",
      "state": {
       "description": "Errors",
       "disabled": false,
       "layout": "IPY_MODEL_6b9e17ae03da4992990b0563d3413a6c",
       "style": "IPY_MODEL_2bd65363a00b48e191e569024c8615e9",
       "value": false
      }
     },
     "f039b881554f45fcb2f316ab1fdfdc01": {
      "model_module": "@jupyter-widgets/controls",
      "model_module_version": "1.1.0",
      "model_name": "ButtonStyleModel",
      "state": {}
     },
     "f175b94fb1f54eeebc997c4a770743c3": {
      "model_module": "@jupyter-widgets/controls",
      "model_module_version": "1.1.0",
      "model_name": "AccordionModel",
      "state": {
       "_titles": {
        "0": "MNIST_CNN"
       },
       "children": [
        "IPY_MODEL_a050dbb94357478099ec525e4c83cdea"
       ],
       "layout": "IPY_MODEL_58805dd514b34a6ca5ff9c420a5332dd",
       "selected_index": null
      }
     },
     "f1a5bbb395254f24b13ce7824e0194d3": {
      "model_module": "@jupyter-widgets/controls",
      "model_module_version": "1.1.0",
      "model_name": "DescriptionStyleModel",
      "state": {
       "description_width": ""
      }
     },
     "f2b174bee4d34bafae0abd8230f592f3": {
      "model_module": "@jupyter-widgets/controls",
      "model_module_version": "1.1.0",
      "model_name": "CheckboxModel",
      "state": {
       "description": "Rotate network",
       "disabled": false,
       "layout": "IPY_MODEL_65599a24768a496dad38b383cfa08933",
       "style": "IPY_MODEL_7919924c236a422f8794d5f9d8b0fb80",
       "value": true
      }
     },
     "f33432a7d24b46bc982460ed84e0ef8d": {
      "model_module": "@jupyter-widgets/controls",
      "model_module_version": "1.1.0",
      "model_name": "ButtonStyleModel",
      "state": {}
     },
     "f5cd663fe7f740adb7d609819e2fb3ab": {
      "model_module": "@jupyter-widgets/controls",
      "model_module_version": "1.1.0",
      "model_name": "LabelModel",
      "state": {
       "layout": "IPY_MODEL_4f7dd900e90144488cc88d719f5f5594",
       "style": "IPY_MODEL_8a43e7c3ca7142e180026becb656a9a7",
       "value": "of 60000"
      }
     },
     "f6229435d9b849a3a6734ecab9f2e9c4": {
      "model_module": "@jupyter-widgets/controls",
      "model_module_version": "1.1.0",
      "model_name": "DescriptionStyleModel",
      "state": {
       "description_width": ""
      }
     },
     "f6cfe7887a044ec3bc2738973adf1f39": {
      "model_module": "@jupyter-widgets/controls",
      "model_module_version": "1.1.0",
      "model_name": "CheckboxModel",
      "state": {
       "description": "Rotate network",
       "disabled": false,
       "layout": "IPY_MODEL_fae5d0a7a61544c09a59b30f5ceaaa5f",
       "style": "IPY_MODEL_7226e8ba8ddb4491b827ee2a6e6e9453",
       "value": true
      }
     },
     "f874fd6580ab40a2844c6a24c6097b12": {
      "model_module": "@jupyter-widgets/controls",
      "model_module_version": "1.1.0",
      "model_name": "HBoxModel",
      "state": {
       "children": [
        "IPY_MODEL_46fe1462a7f64c9a95d14daeff5f8fa4",
        "IPY_MODEL_c3083f4338bf441aafb459f24ac2ea33",
        "IPY_MODEL_adea0021ae434e38aafb5a6a0e32b320",
        "IPY_MODEL_fd911240d07d486a927b8cb10eec4a33",
        "IPY_MODEL_ef6ad364faad4039aa29ac5dd09b5d69",
        "IPY_MODEL_ba13ed7fb9fa4f08b5611db6c2f9d005",
        "IPY_MODEL_ad7ddc93f91a486294a38ed121b06cf0"
       ],
       "layout": "IPY_MODEL_da9c11bbe9304d469edbe094df9acec9"
      }
     },
     "f9b50ae086144b51a09db1da9e07af69": {
      "model_module": "@jupyter-widgets/controls",
      "model_module_version": "1.1.0",
      "model_name": "VBoxModel",
      "state": {
       "children": [
        "IPY_MODEL_1e1a0c5988bf435f847c9fffe6b2995e",
        "IPY_MODEL_88d90c66085e43ae8a491db837a33ccf",
        "IPY_MODEL_5216a4a1b38945cf876c9ac4e90d86e8",
        "IPY_MODEL_3eeb02d2b0d849888b8d0d1d0223785f",
        "IPY_MODEL_11cb3e87c4524f9e85a3cd22c298bcf3",
        "IPY_MODEL_2ee35e84272b4f6da501648a3534c9fc",
        "IPY_MODEL_1c60f97584bf4b89b3886f94987e28c4",
        "IPY_MODEL_fc6fe9240ade47f18daedebafdf86440"
       ],
       "layout": "IPY_MODEL_61acd885eb4649e0b34bf6b8fbb46dc2"
      }
     },
     "faaa921378c947f0846dcc29fd58a8b6": {
      "model_module": "@jupyter-widgets/controls",
      "model_module_version": "1.1.0",
      "model_name": "DescriptionStyleModel",
      "state": {
       "description_width": "initial"
      }
     },
     "fae5d0a7a61544c09a59b30f5ceaaa5f": {
      "model_module": "@jupyter-widgets/base",
      "model_module_version": "1.0.0",
      "model_name": "LayoutModel",
      "state": {
       "width": "52%"
      }
     },
     "fc1f1823c826452fa33031148980000e": {
      "model_module": "@jupyter-widgets/controls",
      "model_module_version": "1.1.0",
      "model_name": "FloatTextModel",
      "state": {
       "description": "Feature scale:",
       "layout": "IPY_MODEL_79a7eb8123654a0cbbde276912137f21",
       "step": null,
       "style": "IPY_MODEL_ee789c05fd394117b91e5862d06c1df8",
       "value": 4
      }
     },
     "fc51e454e3984046b7261fc2a2bb2c9e": {
      "model_module": "@jupyter-widgets/base",
      "model_module_version": "1.0.0",
      "model_name": "LayoutModel",
      "state": {
       "width": "100%"
      }
     },
     "fc6fe9240ade47f18daedebafdf86440": {
      "model_module": "@jupyter-widgets/controls",
      "model_module_version": "1.1.0",
      "model_name": "HBoxModel",
      "state": {
       "children": [
        "IPY_MODEL_f6cfe7887a044ec3bc2738973adf1f39",
        "IPY_MODEL_4e80c6f1d3a04f898e0050049ff29aa9"
       ],
       "layout": "IPY_MODEL_bd698263354444b6a1d65ec10487a1eb"
      }
     },
     "fc7c30c2791741699187b63adaae7454": {
      "model_module": "@jupyter-widgets/base",
      "model_module_version": "1.0.0",
      "model_name": "LayoutModel",
      "state": {
       "width": "100%"
      }
     },
     "fd068d545b4f4a409f2d8681fa99b5f4": {
      "model_module": "@jupyter-widgets/base",
      "model_module_version": "1.0.0",
      "model_name": "LayoutModel",
      "state": {
       "width": "100%"
      }
     },
     "fd911240d07d486a927b8cb10eec4a33": {
      "model_module": "@jupyter-widgets/controls",
      "model_module_version": "1.1.0",
      "model_name": "ButtonModel",
      "state": {
       "icon": "forward",
       "layout": "IPY_MODEL_2651dc063a114de2b94b2f64a284b63e",
       "style": "IPY_MODEL_3e130be43b314562bf102132401b83cf"
      }
     },
     "fdf27f34b6384e2b8c87d24862ef42dd": {
      "model_module": "@jupyter-widgets/controls",
      "model_module_version": "1.1.0",
      "model_name": "ButtonStyleModel",
      "state": {}
     },
     "ff46604844cd4ca2891024ab2c5b0f0e": {
      "model_module": "@jupyter-widgets/base",
      "model_module_version": "1.0.0",
      "model_name": "LayoutModel",
      "state": {}
     },
     "ff46ec3afef046bc9d56487f2924befa": {
      "model_module": "@jupyter-widgets/controls",
      "model_module_version": "1.1.0",
      "model_name": "DescriptionStyleModel",
      "state": {
       "description_width": ""
      }
     }
    },
    "version_major": 2,
    "version_minor": 0
   }
  }
 },
 "nbformat": 4,
 "nbformat_minor": 2
}
