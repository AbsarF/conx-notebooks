{
 "cells": [
  {
   "cell_type": "code",
   "execution_count": 1,
   "metadata": {},
   "outputs": [],
   "source": [
    "import jyro.simulator as jy\n",
    "import numpy as np\n",
    "from math import pi\n",
    "from random import random"
   ]
  },
  {
   "cell_type": "code",
   "execution_count": 2,
   "metadata": {},
   "outputs": [],
   "source": [
    "def make_world(physics):\n",
    "    physics.addBox(0, 0, 4, 4, fill=\"backgroundgreen\", wallcolor=\"gray\")\n",
    "    #physics.addBox(1.75, 2.9, 2.25, 3.0, fill=\"blue\", wallcolor=\"blue\")\n",
    "    physics.addLight(2, 3.5, 1.0)"
   ]
  },
  {
   "cell_type": "code",
   "execution_count": 3,
   "metadata": {},
   "outputs": [],
   "source": [
    "def make_robot():\n",
    "    robot = jy.Pioneer(\"Pioneer\", 2, 1, 0) #parameters are x, y, heading (in radians)\n",
    "    robot.addDevice(jy.Pioneer16Sonars())\n",
    "    light_sensors = jy.PioneerFrontLightSensors(3) #parameter defines max range\n",
    "    robot.addDevice(light_sensors)\n",
    "    return robot"
   ]
  },
  {
   "cell_type": "code",
   "execution_count": 4,
   "metadata": {},
   "outputs": [],
   "source": [
    "def determine_move(robot):\n",
    "    \"\"\"Returns tuple of (translation, rotation) movement\"\"\"\n",
    "    lights = robot[\"light\"].getData()\n",
    "    sonars = robot[\"sonar\"].getData()\n",
    "    left_light = lights[0]\n",
    "    right_light = lights[1]\n",
    "    light_diff = left_light-right_light\n",
    "    # if found light, then stop\n",
    "    if sum(lights) > 1.75:\n",
    "        return (0, 0)\n",
    "    elif light_diff < -0.05:            \n",
    "        return (0.0, -0.3)\n",
    "    elif light_diff > 0.05:\n",
    "        return (0.0, 0.3)\n",
    "    else:\n",
    "        return (0.3, 0)\n",
    "    \n",
    "def light_brain(robot):\n",
    "    move = determine_move(robot)\n",
    "    robot.move(*move)"
   ]
  },
  {
   "cell_type": "code",
   "execution_count": 5,
   "metadata": {},
   "outputs": [
    {
     "data": {
      "application/vnd.jupyter.widget-view+json": {
       "model_id": "33e0b0640b5c4df58abdaed25be9e88d",
       "version_major": 2,
       "version_minor": 0
      },
      "text/html": [
       "<p>Failed to display Jupyter Widget of type <code>VBox</code>.</p>\n",
       "<p>\n",
       "  If you're reading this message in the Jupyter Notebook or JupyterLab Notebook, it may mean\n",
       "  that the widgets JavaScript is still loading. If this message persists, it\n",
       "  likely means that the widgets JavaScript library is either not installed or\n",
       "  not enabled. See the <a href=\"https://ipywidgets.readthedocs.io/en/stable/user_install.html\">Jupyter\n",
       "  Widgets Documentation</a> for setup instructions.\n",
       "</p>\n",
       "<p>\n",
       "  If you're reading this message in another frontend (for example, a static\n",
       "  rendering on GitHub or <a href=\"https://nbviewer.jupyter.org/\">NBViewer</a>),\n",
       "  it may mean that your frontend doesn't currently support widgets.\n",
       "</p>\n"
      ],
      "text/plain": [
       "VBox(children=(VBox(children=(HBox(children=(Checkbox(value=True, description='Update GUI'), Checkbox(value=False, description='Trace Path'), Text(value='0.0 seconds', description='Time:'))), HBox(children=(VBox(children=(HBox(children=(FloatSlider(value=0.0, layout=Layout(height='400px', padding='0px 0px 0px 0px', width='15px'), orientation='vertical', readout=False), HTML(value='<svg baseProfile=\"full\" height=\"400\" version=\"1.1\" width=\"400\" xmlns=\"http://www.w3.org/2000/svg\" xmlns:ev=\"http://www.w3.org/2001/xml-events\" xmlns:xlink=\"http://www.w3.org/1999/xlink\"><defs /><rect fill=\"#eef3dd\" height=\"400.0\" stroke=\"#bebebe\" stroke-width=\"1\" width=\"400.0\" x=\"0.0\" y=\"0.0\" /><circle cx=\"200.0\" cy=\"50.0\" fill=\"#ffff00\" r=\"25.0\" stroke=\"#ffff00\" stroke-width=\"1\" /><line fill=\"#800080\" stroke=\"#add8e6\" stroke-width=\"1\" x1=\"182.5\" x2=\"0.0\" y1=\"290.0\" y2=\"290.0\" /><line fill=\"#800080\" stroke=\"#add8e6\" stroke-width=\"1\" x1=\"185.0\" x2=\"0.0\" y1=\"283.0\" y2=\"196.73308\" /><line fill=\"#800080\" stroke=\"#add8e6\" stroke-width=\"1\" x1=\"189.0\" x2=\"0.0\" y1=\"280.0\" y2=\"54.75856999999999\" /><line fill=\"#800080\" stroke=\"#add8e6\" stroke-width=\"1\" x1=\"195.0\" x2=\"120.64409789502595\" y1=\"277.5\" y2=\"0.0\" /><line fill=\"#800080\" stroke=\"#add8e6\" stroke-width=\"1\" x1=\"204.99999999999997\" x2=\"279.3559021049741\" y1=\"277.5\" y2=\"0.0\" /><line fill=\"#800080\" stroke=\"#add8e6\" stroke-width=\"1\" x1=\"211.0\" x2=\"400.0\" y1=\"280.0\" y2=\"54.75856999999999\" /><line fill=\"#800080\" stroke=\"#add8e6\" stroke-width=\"1\" x1=\"215.0\" x2=\"400.0\" y1=\"283.0\" y2=\"196.73308\" /><line fill=\"#800080\" stroke=\"#add8e6\" stroke-width=\"1\" x1=\"217.49999999999997\" x2=\"400.0\" y1=\"290.0\" y2=\"290.0\" /><line fill=\"#800080\" stroke=\"#add8e6\" stroke-width=\"1\" x1=\"217.49999999999997\" x2=\"400.0\" y1=\"310.0\" y2=\"310.0\" /><line fill=\"#800080\" stroke=\"#add8e6\" stroke-width=\"1\" x1=\"215.0\" x2=\"392.9940680799395\" y1=\"317.0\" y2=\"400.0\" /><line fill=\"#800080\" stroke=\"#add8e6\" stroke-width=\"1\" x1=\"211.0\" x2=\"278.1279704126759\" y1=\"320.0\" y2=\"400.0\" /><line fill=\"#800080\" stroke=\"#add8e6\" stroke-width=\"1\" x1=\"204.99999999999997\" x2=\"225.76606207412993\" y1=\"322.5\" y2=\"400.0\" /><line fill=\"#800080\" stroke=\"#add8e6\" stroke-width=\"1\" x1=\"195.0\" x2=\"174.2339379258701\" y1=\"322.5\" y2=\"400.0\" /><line fill=\"#800080\" stroke=\"#add8e6\" stroke-width=\"1\" x1=\"189.0\" x2=\"121.8720295873241\" y1=\"320.0\" y2=\"400.0\" /><line fill=\"#800080\" stroke=\"#add8e6\" stroke-width=\"1\" x1=\"185.0\" x2=\"7.00593192006051\" y1=\"317.0\" y2=\"400.0\" /><line fill=\"#800080\" stroke=\"#add8e6\" stroke-width=\"1\" x1=\"182.5\" x2=\"0.0\" y1=\"310.0\" y2=\"310.0\" /><line fill=\"#800080\" stroke=\"#ffa500\" stroke-width=\"1\" x1=\"200.0\" x2=\"182.5\" y1=\"50.0\" y2=\"277.5\" /><line fill=\"#800080\" stroke=\"#ffa500\" stroke-width=\"1\" x1=\"200.0\" x2=\"217.49999999999997\" y1=\"50.0\" y2=\"277.5\" /><polygon fill=\"red\" points=\"192.0,277.5 182.5,285.0 182.5,315.0 192.0,322.5 208.0,322.5 217.49999999999997,315.0 217.49999999999997,285.0 208.0,277.5\" stroke=\"red\" stroke-width=\"1\" /><polygon points=\"-5.0,-5.0 0,0 5.0,-5.0 0,5.0\" stroke=\"black\" stroke-width=\"1\" transform=\"translate(200.0,300.0) rotate(180.0)\" /><circle cx=\"182.5\" cy=\"277.5\" fill=\"yellow\" r=\"2.5\" stroke=\"orange\" stroke-width=\"1\" /><circle cx=\"217.49999999999997\" cy=\"277.5\" fill=\"yellow\" r=\"2.5\" stroke=\"orange\" stroke-width=\"1\" /></svg>'))), FloatSlider(value=0.0, layout=Layout(height='15px', padding='0px 0px 0px 10px', width='420px'), readout=False)), layout=Layout(height='460px')), VBox(children=(HTML(value='<img style=\"image-rendering: pixelated;\" src=\"data:image/gif;base64,R0lGODdheAA8AIcAAAAAAAAAAAAAAAAAAAAAAAAAAAAAAAAAAAAAAAAAAAAAAAAAAAAAAAAAAAAAAAAAAAAAAAAAAAAAAAAAAAAAAAAAAAAAAAAAAAAAAAAAAAAAAAAAAAAAAAAAAAAAAAAAAAAAAAAAAAAAAAAAAAAAAAAAAAAAAAAAAAAAAAAAAAAAAAAAAAAAAAAAAAAAAAAAAAAAAAAAAAAAAAAAAAAAAAAAAAAAAAAAAAAAAAAAAAAAAAAAAAAAAAAAAAAAAAAAAAAAAAAAAAAAAAAAAAAAAAAAAAAAAAAAAAAAAAAAAAAAAAAAAAAAAAAAAAAAAAAAAAAAAAAAAAAAAAAAAAAAAAAAAAAAAAAAAAAAAAAAAAAAAAAAAAAAAAAAAAAAAAAAAAAAAAAAAAAAAAAAAAAAAAAAAAAAAAAAAAAAAAAAAAAAAAAAAAAAAAAAAAAAAAAAAAAAAAAAAAAAAAAAAAAAAAAAAAAAAAAAAAAAAAAAAAAAAAAAAAAAAAAAAAAAAAAAAAAAAAAAAAAAAAAAAAAAAAAAAAAAAAAAAAAAAAAAAAAAAAAAAAAAAAAAAAAAAAAAAAAAAAAAAAAAAAAAAAAAAAAAAAAAAAAAAAAAAAAAAAAAAAAAAAAAAAAAAAAAAAAAAAAAAAAAAAAAAAAAAAAAAAAAAAAAAAAAAAAAAAAAAAAAAAAAAAAAAAAAAAAAAAAAAAAAAAAAAAAAAAAAAAAAAAAAAAAAAAAAAAAAAAAAAAAAAAAAAAAAAAAAAAAAAAAAAAAAAAAAAAAAAAAAAAAAAAAAAAAAAAAAAAAAAAAAAAAAAAAAAAAAAAAAAAAAAAAAAAAAAAAAAAAAAAAAAAAAAAAAAAAAAAAAAAAAAAAAAAAAAAAAAAAAAAAAAAAAAAAAAAAAAAAAAAAAAAAAAAAAAAAAAAAAAAAAAAAAAAAAAAAAAAAAAAAAAAAAAAAAAAAAAAAAAAAAAAAAAAAAAAAAAAAAAAAAAAAAAAAAAAAAAAAAAAAAAAAAAAAAAAAAAAAAACwAAAAAeAA8AEAIigABCBxIsKDBgwgTKlzIsKHDhxAjSpxIsaLFixgzatzIsaPHjyBDihxJsqTJkyhTqlzJsqXLlzBjypxJs6bNmzhz6tzJs6fPn0CDCh1KtKjRo0iTKl3KtKnTp1CjSp1KtarVq1izat3KtavXr2DDih1LtqzZs2jTql3Ltq3bt3Djyp1Lt67duzwDAgA7\" width=\"240\"/>'), FloatSlider(value=0.0, layout=Layout(height='15px', padding='0px 0px 0px 0px', width='248px'), readout=False))))))), HBox(children=(Button(icon='step-forward', style=ButtonStyle()), Play(value=0, layout=Layout(width='100%'), max=1000000, show_repeat=False), Button(description='Clear Output', style=ButtonStyle()), Button(icon='refresh', layout=Layout(width='25%'), style=ButtonStyle()))), Output()))"
      ]
     },
     "metadata": {},
     "output_type": "display_data"
    }
   ],
   "source": [
    "robot = make_robot()\n",
    "vsim = jy.VSimulator(robot, make_world) #create a visual simulator to watch robot's behavior"
   ]
  },
  {
   "cell_type": "code",
   "execution_count": 6,
   "metadata": {},
   "outputs": [],
   "source": [
    "def random_start(robot):\n",
    "    x = pi/4 * random()\n",
    "    if random() < 0.5:\n",
    "        heading = 2*pi-x\n",
    "    else:\n",
    "        heading = x\n",
    "    robot.setPose(0.5 + random()*2.5, 0.5 + random()*2, heading)"
   ]
  },
  {
   "cell_type": "code",
   "execution_count": 7,
   "metadata": {},
   "outputs": [],
   "source": [
    "robot.brain = light_brain\n",
    "random_start(robot)"
   ]
  },
  {
   "cell_type": "code",
   "execution_count": 8,
   "metadata": {},
   "outputs": [],
   "source": [
    "def generate_data(robot, make_world, trials, filename):\n",
    "    sim = jy.Simulator(robot, make_world)\n",
    "    fp = open(filename, \"w\")\n",
    "    for i in range(trials):\n",
    "        random_start(robot)\n",
    "        print(\"Trial %d Starting pose: %s\" % (i, str(robot.getPose())))\n",
    "        while True:\n",
    "            lights = robot[\"light\"].getData()\n",
    "            #sonars = robot[\"sonar\"].getData()\n",
    "            translate, rotate = determine_move(robot)\n",
    "            robot.move(translate, rotate)\n",
    "            if translate == 0 and rotate == 0:\n",
    "                break # found light, so end trial\n",
    "            sim.step()\n",
    "            #sonars = [min(v/3.0, 1.0) for v in sonars] #normalize sonar values\n",
    "            for value in lights:\n",
    "                fp.write(\"%.3f \" % value)\n",
    "            #for value in sonars[2:6]:\n",
    "            #    fp.write(\"%.3f \" % value)\n",
    "            fp.write(\"%.1f %.1f\\n\" % (translate, rotate))\n",
    "\n",
    "    fp.close()"
   ]
  },
  {
   "cell_type": "code",
   "execution_count": 9,
   "metadata": {},
   "outputs": [
    {
     "name": "stdout",
     "output_type": "stream",
     "text": [
      "Trial 0 Starting pose: (1.8858478442207998, 2.424249909976857, 5.9708023528001055)\n",
      "Trial 1 Starting pose: (2.2894299118409034, 0.5693671557344988, 6.188184300501889)\n",
      "Trial 2 Starting pose: (0.6073278696474783, 1.7741556052309673, 0.6474615662002859)\n",
      "Trial 3 Starting pose: (2.532884317620431, 1.191430099020184, 0.03296476610581123)\n",
      "Trial 4 Starting pose: (2.990522738322313, 1.3600310132029823, 0.7225087339112319)\n",
      "Trial 5 Starting pose: (1.4467495309080278, 1.572030731653995, 0.44950998926565755)\n",
      "Trial 6 Starting pose: (2.713579931215105, 1.7706098292218042, 0.2520976748456568)\n",
      "Trial 7 Starting pose: (0.6954573308578167, 0.9015777137323018, 0.6041666205339475)\n",
      "Trial 8 Starting pose: (2.5580718907225335, 0.6731180153384111, 0.6243858943960622)\n",
      "Trial 9 Starting pose: (2.092160496215838, 1.723244898737576, 0.6897403984860088)\n",
      "Trial 10 Starting pose: (1.4708668139611354, 0.7425942805628858, 6.002025404130918)\n",
      "Trial 11 Starting pose: (1.5005225541260594, 2.4137090052175205, 0.37647499497900305)\n",
      "Trial 12 Starting pose: (2.435147719282754, 0.565383904055274, 6.15560885931564)\n",
      "Trial 13 Starting pose: (2.55987104044082, 0.6240137416074223, 6.179440542583984)\n",
      "Trial 14 Starting pose: (2.745646375924598, 0.7431714020396913, 5.823913530017139)\n",
      "Trial 15 Starting pose: (1.587632281131969, 2.2684993097531847, 5.89740237436667)\n",
      "Trial 16 Starting pose: (2.335725881740675, 1.7516534201357115, 5.700884134622236)\n",
      "Trial 17 Starting pose: (1.4317994478805158, 1.7501337064509666, 6.073945685247061)\n",
      "Trial 18 Starting pose: (2.300966392903492, 0.9820095497064072, 0.018302856824927414)\n",
      "Trial 19 Starting pose: (1.4453298944942357, 1.504177291293702, 6.122625950080901)\n",
      "Trial 20 Starting pose: (2.316434863051848, 1.5246497513675819, 0.3175944862806841)\n",
      "Trial 21 Starting pose: (2.291351597670059, 1.4411605772306484, 0.604061401601659)\n",
      "Trial 22 Starting pose: (2.948563605712053, 2.490923659540855, 0.6751590100435875)\n",
      "Trial 23 Starting pose: (0.6527736901471335, 0.8120194920092632, 5.548633400724198)\n",
      "Trial 24 Starting pose: (2.479256576191356, 2.2700666277095225, 6.268969267617207)\n",
      "Trial 25 Starting pose: (2.4798233650439725, 1.324160241112586, 5.979060397253943)\n",
      "Trial 26 Starting pose: (1.3785949539626365, 1.5700285725829624, 5.784509953719521)\n",
      "Trial 27 Starting pose: (1.8670440334525626, 2.449351895317006, 0.4631325501713035)\n",
      "Trial 28 Starting pose: (1.5461056209251898, 0.963357028153299, 0.19513281693965157)\n",
      "Trial 29 Starting pose: (1.92426403593674, 1.141649853644637, 0.3751799586092114)\n",
      "Trial 30 Starting pose: (2.4482779074903913, 1.9666580223147785, 0.7618520817736633)\n",
      "Trial 31 Starting pose: (2.852848279825224, 0.7846374800293865, 5.80321093707322)\n",
      "Trial 32 Starting pose: (2.7504520486410886, 1.3640337318882392, 6.239462623241592)\n",
      "Trial 33 Starting pose: (2.8569842248649744, 1.1434311069577858, 6.115119678419464)\n",
      "Trial 34 Starting pose: (2.135829209595859, 1.4725891002262013, 6.056128037098678)\n",
      "Trial 35 Starting pose: (0.8623508111043644, 2.254833018275747, 0.15699978695717862)\n",
      "Trial 36 Starting pose: (2.4005869555011947, 1.1164310906389634, 6.1651200695307224)\n",
      "Trial 37 Starting pose: (0.6664945215929294, 1.6725475998748731, 0.07744019709828279)\n",
      "Trial 38 Starting pose: (0.9567146912311187, 1.0670809533628391, 0.056776929972863224)\n",
      "Trial 39 Starting pose: (2.752783386368193, 1.9029922464187334, 5.610249170922709)\n",
      "Trial 40 Starting pose: (1.3460702104882076, 1.5014235914493896, 5.988334034419269)\n",
      "Trial 41 Starting pose: (1.1745417790203898, 1.7356863851950262, 0.39979381462018543)\n",
      "Trial 42 Starting pose: (2.5249046902142873, 2.1851176972676525, 0.41189688433716554)\n",
      "Trial 43 Starting pose: (1.8388225970694732, 1.4339542206114133, 0.5983109909262964)\n",
      "Trial 44 Starting pose: (0.9131500228378787, 1.5093121811397643, 0.436640297553043)\n",
      "Trial 45 Starting pose: (2.3791737457567894, 1.8321231956180732, 5.979610476898809)\n",
      "Trial 46 Starting pose: (2.06386918629628, 0.8416442613733435, 0.6155551161654543)\n",
      "Trial 47 Starting pose: (1.1143118726906245, 0.6043178856465727, 5.697226299124116)\n",
      "Trial 48 Starting pose: (2.5221095854386117, 0.7071376735680788, 0.4777207045780891)\n",
      "Trial 49 Starting pose: (2.441153483765456, 1.7745946820477316, 5.924744055452208)\n"
     ]
    }
   ],
   "source": [
    "generate_data(robot, make_world, 50, \"training_data.txt\")"
   ]
  },
  {
   "cell_type": "code",
   "execution_count": null,
   "metadata": {
    "collapsed": true
   },
   "outputs": [],
   "source": []
  }
 ],
 "metadata": {
  "kernelspec": {
   "display_name": "Python 3",
   "language": "python",
   "name": "python3"
  },
  "language_info": {
   "codemirror_mode": {
    "name": "ipython",
    "version": 3
   },
   "file_extension": ".py",
   "mimetype": "text/x-python",
   "name": "python",
   "nbconvert_exporter": "python",
   "pygments_lexer": "ipython3",
   "version": "3.6.3"
  },
  "widgets": {
   "application/vnd.jupyter.widget-state+json": {
    "state": {
     "00bd8df8d7784f07925060ee2b4e3bc7": {
      "model_module": "@jupyter-widgets/controls",
      "model_module_version": "1.1.0",
      "model_name": "ButtonModel",
      "state": {
       "icon": "step-forward",
       "layout": "IPY_MODEL_42505fe8606b44558be5b96a57ac3559",
       "style": "IPY_MODEL_20b9f15b3e254ca8b9a172248968b31b"
      }
     },
     "01872f02dad34bf7b971576986b0aa94": {
      "model_module": "@jupyter-widgets/base",
      "model_module_version": "1.0.0",
      "model_name": "LayoutModel",
      "state": {}
     },
     "0196f98863be4e5ebc41ceafc5f01687": {
      "model_module": "@jupyter-widgets/controls",
      "model_module_version": "1.1.0",
      "model_name": "VBoxModel",
      "state": {
       "children": [
        "IPY_MODEL_ddb540095294424595a19b95f6c39be6",
        "IPY_MODEL_734eba4d4f274433802970a3c006ced6"
       ],
       "layout": "IPY_MODEL_7da02009d32245a0ac1cae2aa5c0101b"
      }
     },
     "0b6dc8c78e6a437cb7d8cc36fd1de195": {
      "model_module": "@jupyter-widgets/controls",
      "model_module_version": "1.1.0",
      "model_name": "CheckboxModel",
      "state": {
       "description": "Trace Path",
       "disabled": false,
       "layout": "IPY_MODEL_bf483cae711e4173a45bc8fa6b2210fd",
       "style": "IPY_MODEL_2ecf82704a5f4f7b9e0cc444f5c71784",
       "value": false
      }
     },
     "0d53965a3ef5423ca63a1ab626e8274f": {
      "model_module": "@jupyter-widgets/controls",
      "model_module_version": "1.1.0",
      "model_name": "VBoxModel",
      "state": {
       "children": [
        "IPY_MODEL_28469e28948b4040961e1069d88ceecd",
        "IPY_MODEL_5aefa1e95e6b4bd9a022087f59e8ee51"
       ],
       "layout": "IPY_MODEL_b590ceedaa314f609660b9af1682bc3b"
      }
     },
     "0d597626e82a40a9bb96ab497d2164bc": {
      "model_module": "@jupyter-widgets/controls",
      "model_module_version": "1.1.0",
      "model_name": "SliderStyleModel",
      "state": {
       "description_width": ""
      }
     },
     "20b9f15b3e254ca8b9a172248968b31b": {
      "model_module": "@jupyter-widgets/controls",
      "model_module_version": "1.1.0",
      "model_name": "ButtonStyleModel",
      "state": {}
     },
     "2139f50212474847a196dfa551695358": {
      "model_module": "@jupyter-widgets/controls",
      "model_module_version": "1.1.0",
      "model_name": "PlayModel",
      "state": {
       "layout": "IPY_MODEL_24beeee14ff14399850d8e54c5bd8dfc",
       "max": 1000000,
       "show_repeat": false,
       "style": "IPY_MODEL_f49385a891b74105b4e0d6a42ee50530"
      }
     },
     "23367618618b42c7a23d1ff62dd25ce3": {
      "model_module": "@jupyter-widgets/controls",
      "model_module_version": "1.1.0",
      "model_name": "VBoxModel",
      "state": {
       "children": [
        "IPY_MODEL_459694d778054c8bb88b6a4b7d01b9f4",
        "IPY_MODEL_2c524945a42c42efb6ce5de70962dafc"
       ],
       "layout": "IPY_MODEL_01872f02dad34bf7b971576986b0aa94"
      }
     },
     "2404b6680d8e4f969f3dff45b386aeec": {
      "model_module": "@jupyter-widgets/controls",
      "model_module_version": "1.1.0",
      "model_name": "ButtonStyleModel",
      "state": {}
     },
     "24beeee14ff14399850d8e54c5bd8dfc": {
      "model_module": "@jupyter-widgets/base",
      "model_module_version": "1.0.0",
      "model_name": "LayoutModel",
      "state": {
       "width": "100%"
      }
     },
     "28469e28948b4040961e1069d88ceecd": {
      "model_module": "@jupyter-widgets/controls",
      "model_module_version": "1.1.0",
      "model_name": "HBoxModel",
      "state": {
       "children": [
        "IPY_MODEL_90a69d8176ff4d48b38ab3f8a959bf57",
        "IPY_MODEL_79eaf6724e004c558e26a9948252aceb"
       ],
       "layout": "IPY_MODEL_915286b1fff94352a569f292d5da429b"
      }
     },
     "2854590690484b70bce26a0256221c8a": {
      "model_module": "@jupyter-widgets/controls",
      "model_module_version": "1.1.0",
      "model_name": "TextModel",
      "state": {
       "description": "Time:",
       "layout": "IPY_MODEL_3f70c12a6dbb48f5b70035d2886b50c6",
       "style": "IPY_MODEL_9b2fc1cebe9a4c43af7a699c7b7cadaa",
       "value": "0.00 seconds"
      }
     },
     "2c524945a42c42efb6ce5de70962dafc": {
      "model_module": "@jupyter-widgets/controls",
      "model_module_version": "1.1.0",
      "model_name": "FloatSliderModel",
      "state": {
       "layout": "IPY_MODEL_f0ff23c811c64d37bbd8f06a78a7e40e",
       "readout": false,
       "step": 0.1,
       "style": "IPY_MODEL_0d597626e82a40a9bb96ab497d2164bc",
       "value": 100
      }
     },
     "2ecf82704a5f4f7b9e0cc444f5c71784": {
      "model_module": "@jupyter-widgets/controls",
      "model_module_version": "1.1.0",
      "model_name": "DescriptionStyleModel",
      "state": {
       "description_width": ""
      }
     },
     "32180302339e42169bd53f34721d71b3": {
      "model_module": "@jupyter-widgets/controls",
      "model_module_version": "1.1.0",
      "model_name": "CheckboxModel",
      "state": {
       "description": "Update GUI",
       "disabled": false,
       "layout": "IPY_MODEL_6db7eb1f94bf48b6b2cd3bfe3c02fd3b",
       "style": "IPY_MODEL_cff2febdb5134157b72f88c841de4019",
       "value": true
      }
     },
     "323a3537d7b14625a03e546e642f314f": {
      "model_module": "@jupyter-widgets/base",
      "model_module_version": "1.0.0",
      "model_name": "LayoutModel",
      "state": {}
     },
     "33e0b0640b5c4df58abdaed25be9e88d": {
      "model_module": "@jupyter-widgets/controls",
      "model_module_version": "1.1.0",
      "model_name": "VBoxModel",
      "state": {
       "children": [
        "IPY_MODEL_0196f98863be4e5ebc41ceafc5f01687",
        "IPY_MODEL_7987da7aed6c4ce19f0f5feb2f76bd47",
        "IPY_MODEL_7de83de0267347e58acaf41a94f95ff4"
       ],
       "layout": "IPY_MODEL_d40cd96842354622a528e585eda45dda"
      }
     },
     "3f70c12a6dbb48f5b70035d2886b50c6": {
      "model_module": "@jupyter-widgets/base",
      "model_module_version": "1.0.0",
      "model_name": "LayoutModel",
      "state": {}
     },
     "42505fe8606b44558be5b96a57ac3559": {
      "model_module": "@jupyter-widgets/base",
      "model_module_version": "1.0.0",
      "model_name": "LayoutModel",
      "state": {}
     },
     "459694d778054c8bb88b6a4b7d01b9f4": {
      "model_module": "@jupyter-widgets/controls",
      "model_module_version": "1.1.0",
      "model_name": "HTMLModel",
      "state": {
       "layout": "IPY_MODEL_323a3537d7b14625a03e546e642f314f",
       "style": "IPY_MODEL_852c58d4610a4478bce58e2fe303a5c6",
       "value": "<img style=\"image-rendering: pixelated;\" src=\"data:image/gif;base64,R0lGODdheAA8AIcAAAAAAAAAAAAAAAAAAAAAAAAAAAAAAAAAAAAAAAAAAAAAAAAAAAAAAAAAAAAAAAAAAAAAAAAAAAAAAAAAAAAAAAAAAAAAAAAAAAAAAAAAAAAAAAAAAAAAAAAAAAAAAAAAAAAAAAAAAAAAAAAAAAAAAAAAAAAAAAAAAAAAAAAAAAAAAAAAAAAAAAAAAAAAAAAAAAAAAAAAAAAAAAAAAAAAAAAAAAAAAAAAAAAAAAAAAAAAAAAAAAAAAAAAAAAAAAAAAAAAAAAAAAAAAAAAAAAAAAAAAAAAAAAAAAAAAAAAAAAAAAAAAAAAAAAAAAAAAAAAAAAAAAAAAAAAAAAAAAAAAAAAAAAAAAAAAAAAAAAAAAAAAAAAAAAAAAAAAAAAAAAAAAAAAAAAAAAAAAAAAAAAAAAAAAAAAAAAAAAAAAAAAAAAAAAAAAAAAAAAAAAAAAAAAAAAAAAAAAAAAAAAAAAAAAAAAAAAAAAAAAAAAAAAAAAAAAAAAAAAAAAAAAAAAAAAAAAAAAAAAAAAAAAAAAAAAAAAAAAAAAAAAAAAAAAAAAAAAAAAAAAAAAAAAAAAAAAAAAAAAAAAAAAAAAAAAAAAAAAAAAAAAAAAAAAAAAAAAAAAAAAAAAAAAAAAAAAAAAAAAAAAAAAAAAAAAAAAAAAAAAAAAAAAAAAAAAAAAAAAAAAAAAAAAAAAAAAAAAAAAAAAAAAAAAAAAAAAAAAAAAAAAAAAAAAAAAAAAAAAAAAAAAAAAAAAAAAAAAAAAAAAAAAAAAAAAAAAAAAAAAAAAAAAAAAAAAAAAAAAAAAAAAAAAAAAAAAAAAAAAAAAAAAAAAAAAAAAAAAAAAAAAAAAAAAAAAAAAAAAAAAAAAAAAAAAAAAAAAAAAAAAAAAAAAAAAAAAAAAAAAAAAAAAAAAAAAAAAAAAAAAAAAAAAAAAAAAAAAAAAAAAAAAAAAAAAAAAAAAAAAAAAAAAAAAAAAAAAAAAAAAAAAAAAAAAAAAAAAAAAAAAAAAAAAAAAAAAAAAAAAAAACwAAAAAeAA8AEAIigABCBxIsKDBgwgTKlzIsKHDhxAjSpxIsaLFixgzatzIsaPHjyBDihxJsqTJkyhTqlzJsqXLlzBjypxJs6bNmzhz6tzJs6fPn0CDCh1KtKjRo0iTKl3KtKnTp1CjSp1KtarVq1izat3KtavXr2DDih1LtqzZs2jTql3Ltq3bt3Djyp1Lt67duzwDAgA7\" width=\"240\"/>"
      }
     },
     "484ad41d17e14f3fb8c3224707743954": {
      "model_module": "@jupyter-widgets/controls",
      "model_module_version": "1.1.0",
      "model_name": "SliderStyleModel",
      "state": {
       "description_width": ""
      }
     },
     "58169473f0324da6975a6099bd8d2b85": {
      "model_module": "@jupyter-widgets/base",
      "model_module_version": "1.0.0",
      "model_name": "LayoutModel",
      "state": {}
     },
     "5aefa1e95e6b4bd9a022087f59e8ee51": {
      "model_module": "@jupyter-widgets/controls",
      "model_module_version": "1.1.0",
      "model_name": "FloatSliderModel",
      "state": {
       "layout": "IPY_MODEL_8d65deb67e934fc587c8f3299a0f3b2b",
       "readout": false,
       "step": 0.1,
       "style": "IPY_MODEL_6fe681bd9c1945c4a57a2a7ff377992e",
       "value": 50
      }
     },
     "605b59eec8f948e0b4aeadcbf24c0eec": {
      "model_module": "@jupyter-widgets/base",
      "model_module_version": "1.0.0",
      "model_name": "LayoutModel",
      "state": {}
     },
     "6db7eb1f94bf48b6b2cd3bfe3c02fd3b": {
      "model_module": "@jupyter-widgets/base",
      "model_module_version": "1.0.0",
      "model_name": "LayoutModel",
      "state": {}
     },
     "6fe681bd9c1945c4a57a2a7ff377992e": {
      "model_module": "@jupyter-widgets/controls",
      "model_module_version": "1.1.0",
      "model_name": "SliderStyleModel",
      "state": {
       "description_width": ""
      }
     },
     "734eba4d4f274433802970a3c006ced6": {
      "model_module": "@jupyter-widgets/controls",
      "model_module_version": "1.1.0",
      "model_name": "HBoxModel",
      "state": {
       "children": [
        "IPY_MODEL_0d53965a3ef5423ca63a1ab626e8274f",
        "IPY_MODEL_23367618618b42c7a23d1ff62dd25ce3"
       ],
       "layout": "IPY_MODEL_f2ee1dbd175c4bbea95eb64633e558f8"
      }
     },
     "7987da7aed6c4ce19f0f5feb2f76bd47": {
      "model_module": "@jupyter-widgets/controls",
      "model_module_version": "1.1.0",
      "model_name": "HBoxModel",
      "state": {
       "children": [
        "IPY_MODEL_00bd8df8d7784f07925060ee2b4e3bc7",
        "IPY_MODEL_2139f50212474847a196dfa551695358",
        "IPY_MODEL_dcf1647f1dd9484abe35cf007861bbd8",
        "IPY_MODEL_ee8f6c810744407089bc00f84c356be0"
       ],
       "layout": "IPY_MODEL_bd00cb047bc54857956ae9348f01de9a"
      }
     },
     "79eaf6724e004c558e26a9948252aceb": {
      "model_module": "@jupyter-widgets/controls",
      "model_module_version": "1.1.0",
      "model_name": "HTMLModel",
      "state": {
       "layout": "IPY_MODEL_c9035abc18064cde91d886ab71b7b84e",
       "style": "IPY_MODEL_8f32f889d12e408a868b641c90de91b3",
       "value": "<svg baseProfile=\"full\" height=\"400\" version=\"1.1\" width=\"400\" xmlns=\"http://www.w3.org/2000/svg\" xmlns:ev=\"http://www.w3.org/2001/xml-events\" xmlns:xlink=\"http://www.w3.org/1999/xlink\"><defs /><rect fill=\"#eef3dd\" height=\"400.0\" stroke=\"#bebebe\" stroke-width=\"1\" width=\"400.0\" x=\"0.0\" y=\"0.0\" /><circle cx=\"200.0\" cy=\"50.0\" fill=\"#ffff00\" r=\"25.0\" stroke=\"#ffff00\" stroke-width=\"1\" /><line fill=\"#800080\" stroke=\"#add8e6\" stroke-width=\"1\" x1=\"182.5\" x2=\"0.0\" y1=\"290.0\" y2=\"290.0\" /><line fill=\"#800080\" stroke=\"#add8e6\" stroke-width=\"1\" x1=\"185.0\" x2=\"0.0\" y1=\"283.0\" y2=\"196.73308\" /><line fill=\"#800080\" stroke=\"#add8e6\" stroke-width=\"1\" x1=\"189.0\" x2=\"0.0\" y1=\"280.0\" y2=\"54.75856999999999\" /><line fill=\"#800080\" stroke=\"#add8e6\" stroke-width=\"1\" x1=\"195.0\" x2=\"120.64409789502595\" y1=\"277.5\" y2=\"0.0\" /><line fill=\"#800080\" stroke=\"#add8e6\" stroke-width=\"1\" x1=\"204.99999999999997\" x2=\"279.3559021049741\" y1=\"277.5\" y2=\"0.0\" /><line fill=\"#800080\" stroke=\"#add8e6\" stroke-width=\"1\" x1=\"211.0\" x2=\"400.0\" y1=\"280.0\" y2=\"54.75856999999999\" /><line fill=\"#800080\" stroke=\"#add8e6\" stroke-width=\"1\" x1=\"215.0\" x2=\"400.0\" y1=\"283.0\" y2=\"196.73308\" /><line fill=\"#800080\" stroke=\"#add8e6\" stroke-width=\"1\" x1=\"217.49999999999997\" x2=\"400.0\" y1=\"290.0\" y2=\"290.0\" /><line fill=\"#800080\" stroke=\"#add8e6\" stroke-width=\"1\" x1=\"217.49999999999997\" x2=\"400.0\" y1=\"310.0\" y2=\"310.0\" /><line fill=\"#800080\" stroke=\"#add8e6\" stroke-width=\"1\" x1=\"215.0\" x2=\"392.9940680799395\" y1=\"317.0\" y2=\"400.0\" /><line fill=\"#800080\" stroke=\"#add8e6\" stroke-width=\"1\" x1=\"211.0\" x2=\"278.1279704126759\" y1=\"320.0\" y2=\"400.0\" /><line fill=\"#800080\" stroke=\"#add8e6\" stroke-width=\"1\" x1=\"204.99999999999997\" x2=\"225.76606207412993\" y1=\"322.5\" y2=\"400.0\" /><line fill=\"#800080\" stroke=\"#add8e6\" stroke-width=\"1\" x1=\"195.0\" x2=\"174.2339379258701\" y1=\"322.5\" y2=\"400.0\" /><line fill=\"#800080\" stroke=\"#add8e6\" stroke-width=\"1\" x1=\"189.0\" x2=\"121.8720295873241\" y1=\"320.0\" y2=\"400.0\" /><line fill=\"#800080\" stroke=\"#add8e6\" stroke-width=\"1\" x1=\"185.0\" x2=\"7.00593192006051\" y1=\"317.0\" y2=\"400.0\" /><line fill=\"#800080\" stroke=\"#add8e6\" stroke-width=\"1\" x1=\"182.5\" x2=\"0.0\" y1=\"310.0\" y2=\"310.0\" /><line fill=\"#800080\" stroke=\"#ffa500\" stroke-width=\"1\" x1=\"200.0\" x2=\"182.5\" y1=\"50.0\" y2=\"277.5\" /><line fill=\"#800080\" stroke=\"#ffa500\" stroke-width=\"1\" x1=\"200.0\" x2=\"217.49999999999997\" y1=\"50.0\" y2=\"277.5\" /><polygon fill=\"red\" points=\"192.0,277.5 182.5,285.0 182.5,315.0 192.0,322.5 208.0,322.5 217.49999999999997,315.0 217.49999999999997,285.0 208.0,277.5\" stroke=\"red\" stroke-width=\"1\" /><polygon points=\"-5.0,-5.0 0,0 5.0,-5.0 0,5.0\" stroke=\"black\" stroke-width=\"1\" transform=\"translate(200.0,300.0) rotate(180.0)\" /><circle cx=\"182.5\" cy=\"277.5\" fill=\"yellow\" r=\"2.5\" stroke=\"orange\" stroke-width=\"1\" /><circle cx=\"217.49999999999997\" cy=\"277.5\" fill=\"yellow\" r=\"2.5\" stroke=\"orange\" stroke-width=\"1\" /></svg>"
      }
     },
     "7da02009d32245a0ac1cae2aa5c0101b": {
      "model_module": "@jupyter-widgets/base",
      "model_module_version": "1.0.0",
      "model_name": "LayoutModel",
      "state": {}
     },
     "7de83de0267347e58acaf41a94f95ff4": {
      "model_module": "@jupyter-widgets/output",
      "model_module_version": "1.0.0",
      "model_name": "OutputModel",
      "state": {
       "layout": "IPY_MODEL_d31c89b24ddf46768383769d57026a70"
      }
     },
     "852c58d4610a4478bce58e2fe303a5c6": {
      "model_module": "@jupyter-widgets/controls",
      "model_module_version": "1.1.0",
      "model_name": "DescriptionStyleModel",
      "state": {
       "description_width": ""
      }
     },
     "8d65deb67e934fc587c8f3299a0f3b2b": {
      "model_module": "@jupyter-widgets/base",
      "model_module_version": "1.0.0",
      "model_name": "LayoutModel",
      "state": {
       "height": "15px",
       "padding": "0px 0px 0px 10px",
       "width": "420px"
      }
     },
     "8ddefb4986c2478d9ae81350afcfdb3e": {
      "model_module": "@jupyter-widgets/base",
      "model_module_version": "1.0.0",
      "model_name": "LayoutModel",
      "state": {
       "width": "25%"
      }
     },
     "8f32f889d12e408a868b641c90de91b3": {
      "model_module": "@jupyter-widgets/controls",
      "model_module_version": "1.1.0",
      "model_name": "DescriptionStyleModel",
      "state": {
       "description_width": ""
      }
     },
     "90a69d8176ff4d48b38ab3f8a959bf57": {
      "model_module": "@jupyter-widgets/controls",
      "model_module_version": "1.1.0",
      "model_name": "FloatSliderModel",
      "state": {
       "layout": "IPY_MODEL_dda9f8aa80784856b23ae37fc416a9c8",
       "orientation": "vertical",
       "readout": false,
       "step": 0.1,
       "style": "IPY_MODEL_484ad41d17e14f3fb8c3224707743954",
       "value": 25
      }
     },
     "915286b1fff94352a569f292d5da429b": {
      "model_module": "@jupyter-widgets/base",
      "model_module_version": "1.0.0",
      "model_name": "LayoutModel",
      "state": {}
     },
     "952bfba4c6be41899e6c43cc9004fd9d": {
      "model_module": "@jupyter-widgets/controls",
      "model_module_version": "1.1.0",
      "model_name": "ButtonStyleModel",
      "state": {}
     },
     "9b2fc1cebe9a4c43af7a699c7b7cadaa": {
      "model_module": "@jupyter-widgets/controls",
      "model_module_version": "1.1.0",
      "model_name": "DescriptionStyleModel",
      "state": {
       "description_width": ""
      }
     },
     "9bc7f1707bb841a2a9f48b06566b6146": {
      "model_module": "@jupyter-widgets/base",
      "model_module_version": "1.0.0",
      "model_name": "LayoutModel",
      "state": {}
     },
     "a5368fd35f3f46cfa3f928f80aa33d57": {
      "model_module": "@jupyter-widgets/base",
      "model_module_version": "1.0.0",
      "model_name": "LayoutModel",
      "state": {}
     },
     "b590ceedaa314f609660b9af1682bc3b": {
      "model_module": "@jupyter-widgets/base",
      "model_module_version": "1.0.0",
      "model_name": "LayoutModel",
      "state": {
       "height": "460px"
      }
     },
     "bd00cb047bc54857956ae9348f01de9a": {
      "model_module": "@jupyter-widgets/base",
      "model_module_version": "1.0.0",
      "model_name": "LayoutModel",
      "state": {}
     },
     "bf483cae711e4173a45bc8fa6b2210fd": {
      "model_module": "@jupyter-widgets/base",
      "model_module_version": "1.0.0",
      "model_name": "LayoutModel",
      "state": {}
     },
     "c9035abc18064cde91d886ab71b7b84e": {
      "model_module": "@jupyter-widgets/base",
      "model_module_version": "1.0.0",
      "model_name": "LayoutModel",
      "state": {}
     },
     "cff2febdb5134157b72f88c841de4019": {
      "model_module": "@jupyter-widgets/controls",
      "model_module_version": "1.1.0",
      "model_name": "DescriptionStyleModel",
      "state": {
       "description_width": ""
      }
     },
     "d31c89b24ddf46768383769d57026a70": {
      "model_module": "@jupyter-widgets/base",
      "model_module_version": "1.0.0",
      "model_name": "LayoutModel",
      "state": {}
     },
     "d40cd96842354622a528e585eda45dda": {
      "model_module": "@jupyter-widgets/base",
      "model_module_version": "1.0.0",
      "model_name": "LayoutModel",
      "state": {}
     },
     "dcf1647f1dd9484abe35cf007861bbd8": {
      "model_module": "@jupyter-widgets/controls",
      "model_module_version": "1.1.0",
      "model_name": "ButtonModel",
      "state": {
       "description": "Clear Output",
       "layout": "IPY_MODEL_9bc7f1707bb841a2a9f48b06566b6146",
       "style": "IPY_MODEL_2404b6680d8e4f969f3dff45b386aeec"
      }
     },
     "dda9f8aa80784856b23ae37fc416a9c8": {
      "model_module": "@jupyter-widgets/base",
      "model_module_version": "1.0.0",
      "model_name": "LayoutModel",
      "state": {
       "height": "400px",
       "padding": "0px 0px 0px 0px",
       "width": "15px"
      }
     },
     "ddb540095294424595a19b95f6c39be6": {
      "model_module": "@jupyter-widgets/controls",
      "model_module_version": "1.1.0",
      "model_name": "HBoxModel",
      "state": {
       "children": [
        "IPY_MODEL_32180302339e42169bd53f34721d71b3",
        "IPY_MODEL_0b6dc8c78e6a437cb7d8cc36fd1de195",
        "IPY_MODEL_2854590690484b70bce26a0256221c8a"
       ],
       "layout": "IPY_MODEL_605b59eec8f948e0b4aeadcbf24c0eec"
      }
     },
     "ee8f6c810744407089bc00f84c356be0": {
      "model_module": "@jupyter-widgets/controls",
      "model_module_version": "1.1.0",
      "model_name": "ButtonModel",
      "state": {
       "icon": "refresh",
       "layout": "IPY_MODEL_8ddefb4986c2478d9ae81350afcfdb3e",
       "style": "IPY_MODEL_952bfba4c6be41899e6c43cc9004fd9d"
      }
     },
     "f0ff23c811c64d37bbd8f06a78a7e40e": {
      "model_module": "@jupyter-widgets/base",
      "model_module_version": "1.0.0",
      "model_name": "LayoutModel",
      "state": {
       "height": "15px",
       "padding": "0px 0px 0px 0px",
       "width": "248px"
      }
     },
     "f2ee1dbd175c4bbea95eb64633e558f8": {
      "model_module": "@jupyter-widgets/base",
      "model_module_version": "1.0.0",
      "model_name": "LayoutModel",
      "state": {}
     },
     "f49385a891b74105b4e0d6a42ee50530": {
      "model_module": "@jupyter-widgets/controls",
      "model_module_version": "1.1.0",
      "model_name": "DescriptionStyleModel",
      "state": {
       "description_width": ""
      }
     },
     "f7f07ceae3fe4121a92f8344ba4a2933": {
      "model_module": "@jupyter-widgets/base",
      "model_module_version": "1.0.0",
      "model_name": "LayoutModel",
      "state": {}
     }
    },
    "version_major": 2,
    "version_minor": 0
   }
  }
 },
 "nbformat": 4,
 "nbformat_minor": 2
}
