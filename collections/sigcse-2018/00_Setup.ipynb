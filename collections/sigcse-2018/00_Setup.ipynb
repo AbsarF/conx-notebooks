{
 "cells": [
  {
   "cell_type": "markdown",
   "metadata": {},
   "source": [
    "# Software Setup\n",
    "\n",
    "## Don't Install\n",
    "\n",
    "Rather than installing conx, consider one of the following pre-built options:\n",
    "\n",
    "* MyBinder: **mybinder.org/v2/gh/Calysto/conx/master**\n",
    "* Use our Conx Docker container.\n",
    "* VirtualBox: **science.slc.edu/jmarshall/virtualbox-conx-3.6.0.ova**\n",
    "\n",
    "## Some Install\n",
    "\n",
    "Each of these will require that you install conx, and do some other setup:\n",
    "\n",
    "* Use one of the online, freely available Jupyter servers, including:\n",
    "  * Google's Colabatory: **colab.research.google.com**\n",
    "  * SageMath's Cocalc: **cocalc.com**\n",
    "  * Microsoft's Azure: **notebooks.azure.com**\n",
    "  * IBM's Cognitive Class: **datascientistworkbench.com**\n",
    "\n",
    "## Personal Install \n",
    "\n",
    "* Use Anaconda, plus pip installs\n",
    "* Generic Python3 environment\n",
    "\n",
    "# Checkpoint #1\n",
    "\n",
    "Make sure `conx` is installed and usable.\n",
    "\n",
    "VirtualBox users:\n",
    "\n",
    "1. Click on Terminal icon in upper-left corner\n",
    "2. Type `jupyter notebook` and press `Return`\n",
    "3. In Firefox, click on the `New` button in upper-right corner, and select `Python 3`"
   ]
  },
  {
   "cell_type": "code",
   "execution_count": 4,
   "metadata": {},
   "outputs": [
    {
     "name": "stderr",
     "output_type": "stream",
     "text": [
      "Using Theano backend.\n",
      "Conx, version 3.6.0\n"
     ]
    }
   ],
   "source": [
    "import conx as cx"
   ]
  },
  {
   "cell_type": "markdown",
   "metadata": {},
   "source": [
    "Enter `import conx as cx` and press `Shift+Return`\n",
    "\n",
    "You should see:\n",
    "\n",
    "```\n",
    "Using Theano backend.\n",
    "Conx, version 3.6.0\n",
    "```"
   ]
  },
  {
   "cell_type": "markdown",
   "metadata": {},
   "source": [
    "# Checkpoint #2\n",
    "\n",
    "Get the `conx-notebooks` and make them trusted."
   ]
  },
  {
   "cell_type": "markdown",
   "metadata": {},
   "source": [
    "Enter the following command. This will download a 32 MB file and unzip it to about 75 MB directory named `conx-notebooks-master`."
   ]
  },
  {
   "cell_type": "code",
   "execution_count": null,
   "metadata": {},
   "outputs": [],
   "source": [
    "cx.download(\"https://github.com/Calysto/conx-notebooks/archive/master.zip\")"
   ]
  },
  {
   "cell_type": "code",
   "execution_count": null,
   "metadata": {},
   "outputs": [],
   "source": [
    "! jupyter trust conx-notebooks-master/*.ipynb"
   ]
  },
  {
   "cell_type": "markdown",
   "metadata": {},
   "source": [
    "From the `File` menu select `Close and Halt`."
   ]
  }
 ],
 "metadata": {
  "kernelspec": {
   "display_name": "Python 3",
   "language": "python",
   "name": "python3"
  },
  "language_info": {
   "codemirror_mode": {
    "name": "ipython",
    "version": 3
   },
   "file_extension": ".py",
   "mimetype": "text/x-python",
   "name": "python",
   "nbconvert_exporter": "python",
   "pygments_lexer": "ipython3",
   "version": "3.6.3"
  }
 },
 "nbformat": 4,
 "nbformat_minor": 2
}
