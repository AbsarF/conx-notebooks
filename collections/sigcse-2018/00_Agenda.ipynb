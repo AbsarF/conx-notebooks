{
 "cells": [
  {
   "cell_type": "markdown",
   "metadata": {},
   "source": [
    "# Deep Learning in the Classroom\n",
    "\n",
    "It is assumed that by the time the workshop has begun that participants have already decided how they will run Conx, and have a working system. \n",
    "\n",
    "* [How to run Conx](../../HowToRun/README.md) - full instructions\n",
    "* [00_Setup](00_Setup.ipynb) - use pre-built image"
   ]
  },
  {
   "cell_type": "markdown",
   "metadata": {},
   "source": [
    "**Agenda**\n",
    "\n",
    "1. [Introductions](01_Introductions.ipynb) - Doug Blank (20 minutes) 7:00-7:20\n",
    "2. [Getting Started with Conx](../../Getting Started with conx.ipynb) - Lisa Meeden (30 minutes) 7:20-7:50\n",
    "   * Independent Work - all (10 minutes) 7:50-8:00\n",
    "   * Snacks will be served between 8 and 9 outside the Market Fresh Cafe area outside rooms 309/310/311. \"Food starts to disappear the later it gets.\"\n",
    "3. [Handwritten digit recognition](../../MNIST.ipynb) - Jim Marshall (30 Minutes) 8:00-8:30\n",
    "  * Vision, the MNIST Dataset, and Convolution\n",
    "  * Independent Work - all (15 minutes) 8:30-8:45\n",
    "4. Utilities, Datasets, and Variations - Doug Blank (30 Minutes) 8:45-9:15\n",
    "  * Utilities:\n",
    "    * [Time Travel and Making movies](../../Learning.ipynb)\n",
    "    * [Plotting](../../Plotting.ipynb)\n",
    "    * [Reference](../../Utilities.ipynb)\n",
    "  * Datasets:\n",
    "    * [CMU Faces](../../Face recognition.ipynb) - faces and poses\n",
    "    * [CIFAR](../../CIFAR10_CNN.ipynb) - 10 and 100 object recognition\n",
    "    * [Fingers](work-in-progress/FingersDataset.ipynb) - fingers and counts\n",
    "   * Other models:\n",
    "    * [Robot Simulation](../../Robot Simulation.ipynb)\n",
    "    * [Text Prediction and Generation](../../Predicting and Generating Texts.ipynb) - text generation\n",
    "    * [Recommending Movies](../../RecommendingMovies.ipynb)\n",
    "    * [AlphaZero](../../work-in-progress/AlphaZero.ipynb) - best game-playing program in the world\n",
    "    * [Deep Dreams](../../work-in-progress/DeepDreams.ipynb) - generate images\n",
    "5. Independent Work - All (15 minutes) 9:15-9:30\n",
    "6. Discussion - All (30 minutes) 9:30-10:00\n",
    "  * How can you work Deep Learning into your classroom?\n",
    "  * Lesson plans\n",
    "  * Projects\n",
    "  * Activities\n",
    "  \n",
    "Please fill out the SIGCSE survey:\n",
    "\n",
    "# https://goo.gl/3Go4F1"
   ]
  },
  {
   "cell_type": "code",
   "execution_count": null,
   "metadata": {},
   "outputs": [],
   "source": []
  }
 ],
 "metadata": {
  "kernelspec": {
   "display_name": "Python 3",
   "language": "python",
   "name": "python3"
  },
  "language_info": {
   "codemirror_mode": {
    "name": "ipython",
    "version": 3
   },
   "file_extension": ".py",
   "mimetype": "text/x-python",
   "name": "python",
   "nbconvert_exporter": "python",
   "pygments_lexer": "ipython3",
   "version": "3.6.3"
  }
 },
 "nbformat": 4,
 "nbformat_minor": 2
}
