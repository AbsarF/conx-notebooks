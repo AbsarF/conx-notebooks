{
 "cells": [
  {
   "cell_type": "markdown",
   "metadata": {},
   "source": [
    "# Deep Learning in the Classroom\n",
    "\n",
    "It is assumed that by the time the workshop has begun that participants have already decided how they will run Conx, and have a working system. \n",
    "\n",
    "* [How to run Conx](../../HowToRun/README.md) - full instructions\n",
    "* [00_Setup](00_Setup.ipynb) - use pre-built image"
   ]
  },
  {
   "cell_type": "markdown",
   "metadata": {},
   "source": [
    "**Agenda**\n",
    "\n",
    "1. [Introductions](01_Introductions.ipynb) - Doug Blank (20 minutes) 0:20\n",
    "   * Your Teacher's Assistants\n",
    "   * Workshop\n",
    "     1. Laboratory-style\n",
    "     1. Use your post-it notes to signal us\n",
    "     2. Feel free to ask questions/make comments at any time\n",
    "   * Deep Learning\n",
    "   * Jupyter Notebook\n",
    "   * Conx\n",
    "     1. Pronunciation `con ex` as is \"connects\" or \"connectionism\"\n",
    "     2. Philosophy\n",
    "     3. The deep learning software stack\n",
    "2. [Getting Started with Conx](02_Conx.ipynb) - Lisa Meeden (30 minutes) 0:50\n",
    "   *  Independent Work - all (10 minutes) 1:00\n",
    "3. [Handwritten digit recognition](03_MNIST.ipynb) - Jim Marshall (30 Minutes) 1:30\n",
    "  * Vision, the MNIST Dataset, and Convolution\n",
    "  * Independent Work - all (15 minutes) 1:45\n",
    "4. Datasets and Variations - Doug Blank (30 Minutes) 2:15\n",
    "  * Datasets:\n",
    "    * CMU Faces - faces and poses\n",
    "    * CIFAR - 10 and 100 object recognition\n",
    "    * Fingers - fingers and counts\n",
    "   * Other models:\n",
    "    * Text Generation - text generation\n",
    "    * AlphaZero - best game-playing program in the world\n",
    "    * Deep Dreams - generate images\n",
    "5. Independent Work - All (15 minutes) 2:30\n",
    "6. Discussion - All (30 minutes) 3:00\n",
    "  * How can you work Deep Learning into your classroom?\n",
    "  * lesson plans\n",
    "  * projects\n",
    "  * activities\n",
    "\n",
    "# https://goo.gl/3Go4F1"
   ]
  }
 ],
 "metadata": {
  "kernelspec": {
   "display_name": "Python 3",
   "language": "python",
   "name": "python3"
  },
  "language_info": {
   "codemirror_mode": {
    "name": "ipython",
    "version": 3
   },
   "file_extension": ".py",
   "mimetype": "text/x-python",
   "name": "python",
   "nbconvert_exporter": "python",
   "pygments_lexer": "ipython3",
   "version": "3.6.3"
  }
 },
 "nbformat": 4,
 "nbformat_minor": 2
}
