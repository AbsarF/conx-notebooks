{
 "cells": [
  {
   "cell_type": "markdown",
   "metadata": {},
   "source": [
    "# Deep Learning in the Classroom\n",
    "\n",
    "It is assumed that by the time the workshop has begun that participants have already decided how they will run Conx, and have a working system. \n",
    "\n",
    "* [How to run Conx](../../HowToRun/README.md) - full instructions\n",
    "* [00_Setup](00_Setup.ipynb) - use pre-built image"
   ]
  },
  {
   "cell_type": "markdown",
   "metadata": {},
   "source": [
    "**Agenda**\n",
    "\n",
    "1. [Introductions](01_Introductions.ipynb) - Doug Blank (15 minutes) 0:15\n",
    "  * Setup\n",
    "  * Meet and Greet\n",
    "  * Overview of workshop\n",
    "  * Deep Learning in the Classroom\n",
    "\n",
    "2. Introduction to the Jupyter Notebook - Doug Blank (5 minutes) 0:20\n",
    "  \n",
    "3. Introduction to Conx - Lisa Meeden (30 minutes) 0:50\n",
    "  * Neural Network jargon\n",
    "  * Simple logic functions\n",
    "  * Linear/non-linear separated functions\n",
    "  * Analysis of Generalization\n",
    "\n",
    "4. Independent Work - all (10 minutes) 1:00\n",
    "\n",
    "5. [Handwritten digit recognition](../../MNIST.ipynb) - Jim Marshall (30 Minutes) 1:30\n",
    "  * Vision, the MNIST Dataset, and Convolution\n",
    "\n",
    "6. Independent Work - all (15 minutes) 1:45\n",
    "\n",
    "7. Datasets and Variations - Doug Blank (30 Minutes) 2:15\n",
    "  * Datasets:\n",
    "    * CMU Faces - faces and poses\n",
    "    * Fingers - fingers and counts\n",
    "    * CIFAR - 10 and 100 object recognition\n",
    "    * Gridfonts - Hofstadter's gridfonts\n",
    "  * Other models:\n",
    "    * Text Generation - text generation\n",
    "    * Deep Dreams - generate images\n",
    "    * AlphaZero - best game-playing program in the world\n",
    "\n",
    "8. Independent Work - All (15 minutes) 2:30\n",
    "\n",
    "9. Use in the Classroom - All (15 minutes) 2:45\n",
    "  * lesson plans\n",
    "  * projects\n",
    "  * activities\n",
    "  \n",
    "10. Discussion - All (15 minutes) 3:00\n",
    "  * How can you work Deep Learning into your classroom?"
   ]
  }
 ],
 "metadata": {
  "kernelspec": {
   "display_name": "Python 3",
   "language": "python",
   "name": "python3"
  },
  "language_info": {
   "codemirror_mode": {
    "name": "ipython",
    "version": 3
   },
   "file_extension": ".py",
   "mimetype": "text/x-python",
   "name": "python",
   "nbconvert_exporter": "python",
   "pygments_lexer": "ipython3",
   "version": "3.6.3"
  }
 },
 "nbformat": 4,
 "nbformat_minor": 2
}
