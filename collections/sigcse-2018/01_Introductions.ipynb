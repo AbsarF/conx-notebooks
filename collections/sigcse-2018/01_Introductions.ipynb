{
 "cells": [
  {
   "cell_type": "markdown",
   "metadata": {
    "slideshow": {
     "slide_type": "slide"
    }
   },
   "source": [
    "# 1. Deep Learning in the Classroom"
   ]
  },
  {
   "cell_type": "markdown",
   "metadata": {},
   "source": [
    "https://sigcse2018.sigcse.org/attendees/workshops.html\n",
    "\n",
    "Friday, February 23, 7:00 pm - 10:00 pm, Room 305\n",
    "\n",
    "This workshop is a hands-on exploration of Deep Learning techniques and topics for use in the classrooms of Computer Science and related fields. We will demonstrate ideas through animation and visualizations, examine the path to advanced topics, and explore ideas for incorporating Deep Learning topics into the classroom. **The workshop is designed to allow participants to gain a foothold with these complex topics, and to help them develop their own materials for teaching.**"
   ]
  },
  {
   "cell_type": "markdown",
   "metadata": {
    "slideshow": {
     "slide_type": "slide"
    }
   },
   "source": [
    "## 1.1 Introductions"
   ]
  },
  {
   "cell_type": "markdown",
   "metadata": {},
   "source": [
    "### 1.1.1 Workshop Presenters"
   ]
  },
  {
   "cell_type": "markdown",
   "metadata": {},
   "source": [
    "* **Doug Blank**: Bryn Mawr College, [doug.blank@gmail.com](mailto:doug.blank@gmail.com), [@dougblank](https://twitter.com/DougBlank), [me-robot.blog](http://me-robot.blog/)\n",
    "* **Jim Marshall**: Sarah Lawrence College, [jmarshall@sarahlawrence.edu](mailto:jmarshall@sarahlawrence.edu)\n",
    "* **Lisa Meeden**: Swarthmore College, [meeden@cs.swarthmore.edu](mailto:meeden@cs.swarthmore.edu)"
   ]
  },
  {
   "cell_type": "markdown",
   "metadata": {},
   "source": [
    "### 1.1.2 Workshop Participants\n",
    "\n",
    "Hi! Please, introduce yourself to your neighbors.\n",
    "\n",
    "### 1.1.3 Workshop Workflow\n",
    "\n",
    "* Designed to be Laboratory-style, hands-on, interactive\n",
    "* Feel free to ask questions/make comments at any time\n",
    "* Use your post-it notes to signal us: stick one to your laptop"
   ]
  },
  {
   "cell_type": "markdown",
   "metadata": {
    "slideshow": {
     "slide_type": "slide"
    }
   },
   "source": [
    "## 1.2 What is Deep Learning?"
   ]
  },
  {
   "cell_type": "markdown",
   "metadata": {},
   "source": [
    "Isn't it just the same old neural networks with a new buzzword? \n",
    "\n",
    "* Yes!\n",
    "  * Based on the same mathematics, including Linear Algebra and Calculus, gradient descent, back-propagation of error\n",
    "* No! \n",
    "  * New technologies that make it fast and useful, including [automatic differentiation](https://en.wikipedia.org/wiki/Automatic_differentiation), automatic conversion to assembly code\n",
    "\n",
    "> \"**Deep Learning** is the art and skill of designing and training networks of stacked layers that can learn to produce desired outputs given novel inputs.\"\n",
    "\n",
    "What can it do?\n",
    "\n"
   ]
  },
  {
   "cell_type": "markdown",
   "metadata": {},
   "source": [
    "## 1.3 Introducing Conx\n",
    "\n",
    "Pronunciation *con ex* as is \"connects\" or \"connectionism\"\n",
    "\n",
    "The deep learning software stack:\n",
    "\n",
    "Software/Hardware | Comments\n",
    "----------------- | -----------------------\n",
    "Conx | Sticks to Pythonic idioms; adds a little overhead is some places to make the programmer more comfortable\n",
    "Keras | Abstracts away some of the details of \"backend\"; for Machine Learning users\n",
    "TensorFlow or Cognitive Toolkit | The \"backend\", embeds the new, core technologies; for Machine Learning experts\n",
    "CPU or GPU | Level of hardware being targeted; using the GPU isn't always faster"
   ]
  },
  {
   "cell_type": "markdown",
   "metadata": {
    "slideshow": {
     "slide_type": "slide"
    }
   },
   "source": [
    "### 1.3.1 Pedagogical Approach"
   ]
  },
  {
   "cell_type": "markdown",
   "metadata": {},
   "source": [
    "> *On-Ramp to Deep Learning*"
   ]
  },
  {
   "cell_type": "markdown",
   "metadata": {
    "slideshow": {
     "slide_type": "fragment"
    }
   },
   "source": [
    "* Treat Deep Learning as an independent topic\n",
    "  * Avoid terminology and jargon from other fields, such as Machine Learning\n",
    "* Keep the focus on Deep Learning itself\n",
    "  * Use just standard Python\n",
    "    * Avoid the complexities of optimizations (numpy), visualizations (Python Image Library), and analysis (matplotlib)\n",
    "    * Define functions for common, related utilities (testing, downloading, etc.) or for hiding irrelevant details\n",
    "* Keep the complexity of the environment low but easy to use, without sacrificing power"
   ]
  },
  {
   "cell_type": "markdown",
   "metadata": {
    "slideshow": {
     "slide_type": "slide"
    }
   },
   "source": [
    "## 1.4 Environment"
   ]
  },
  {
   "cell_type": "markdown",
   "metadata": {},
   "source": [
    "Jupyter Notebooks"
   ]
  },
  {
   "cell_type": "markdown",
   "metadata": {},
   "source": [
    "Advantages:\n",
    "\n",
    "* emerging ecosystem for Data Science and related fields\n",
    "* reproducibility - notebooks can be easily copied and shared\n",
    "* narrative form brings computation to same level as other rich media\n",
    "* many free or inexpensive hosting options\n",
    "* open source, so available to run on your own computers\n",
    "* extensible - can create extensions for various utilities, such as widgets"
   ]
  },
  {
   "cell_type": "code",
   "execution_count": null,
   "metadata": {},
   "outputs": [],
   "source": [
    "import conx as cx"
   ]
  },
  {
   "cell_type": "markdown",
   "metadata": {},
   "source": [
    "Jupyter notebooks operate in a modal manner (like vi).\n",
    "\n",
    "Command mode vs. Editing mode\n",
    "\n",
    "Useful keystrokes:\n",
    "\n",
    "* `ESCAPE` - takes you to command mode\n",
    "* `SHIFT + ENTER` - execute/render cell\n",
    "* `ENTER` when in command-mode, go back to edit mode\n",
    "\n",
    "Command mode:\n",
    "\n",
    "* `a` - add a new cell above the current cell\n",
    "* `b` - add a new cell below the current cell\n",
    "* `d d` - delete the current cell\n",
    "* `m` - turn the current cell into a markdown cell\n",
    "* `y` - turn the current cell into a code cell\n"
   ]
  }
 ],
 "metadata": {
  "kernelspec": {
   "display_name": "Python 3",
   "language": "python",
   "name": "python3"
  },
  "language_info": {
   "codemirror_mode": {
    "name": "ipython",
    "version": 3
   },
   "file_extension": ".py",
   "mimetype": "text/x-python",
   "name": "python",
   "nbconvert_exporter": "python",
   "pygments_lexer": "ipython3",
   "version": "3.6.3"
  }
 },
 "nbformat": 4,
 "nbformat_minor": 2
}
