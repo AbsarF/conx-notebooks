{
 "cells": [
  {
   "cell_type": "markdown",
   "metadata": {
    "slideshow": {
     "slide_type": "slide"
    }
   },
   "source": [
    "# 1. Deep Learning in the Classroom"
   ]
  },
  {
   "cell_type": "markdown",
   "metadata": {},
   "source": [
    "https://sigcse2018.sigcse.org/attendees/workshops.html\n",
    "\n",
    "Friday, February 23, 7:00 pm - 10:00 pm, Room 305\n",
    "\n",
    "This workshop is a hands-on exploration of Deep Learning techniques and topics for use in the classrooms of Computer Science and related fields. We will demonstrate ideas through animation and visualizations, examine the path to advanced topics, and explore ideas for incorporating Deep Learning topics into the classroom. **The workshop is designed to allow participants to gain a foothold with these complex topics, and to help them develop their own materials for teaching.**"
   ]
  },
  {
   "cell_type": "markdown",
   "metadata": {
    "slideshow": {
     "slide_type": "slide"
    }
   },
   "source": [
    "## 1.1 Introductions"
   ]
  },
  {
   "cell_type": "markdown",
   "metadata": {},
   "source": [
    "### 1.1.1 Workshop Presenters"
   ]
  },
  {
   "cell_type": "markdown",
   "metadata": {},
   "source": [
    "* Doug Blank: Bryn Mawr College, doug.blank@gmail.com\n",
    "* Jim Marshall: Sarah Lawrence College, jmarshall@sarahlawrence.edu \n",
    "* Lisa Meeden: Swarthmore College, meeden@cs.swarthmore.edu"
   ]
  },
  {
   "cell_type": "markdown",
   "metadata": {},
   "source": [
    "### 1.1.2 Workshop Participants"
   ]
  },
  {
   "cell_type": "markdown",
   "metadata": {
    "slideshow": {
     "slide_type": "slide"
    }
   },
   "source": [
    "## 1.2 What is Deep Learning?"
   ]
  },
  {
   "cell_type": "markdown",
   "metadata": {},
   "source": [
    "* Computer Science, a new tool in the toolbox\n",
    "  * Artificial Intelligence (AI)\n",
    "    * Symbolic AI (GOFAI), Machine Learning (ML) \n",
    "    * Connectionism, Artificial Neural Networks, Parallel Distributed Processing\n",
    "* Ethics, biases and effects of code on society\n",
    "* Cognitive Science, Psychology, Philosophy of Mind\n",
    "* Mathematics, including Linear Algebra and Calculus"
   ]
  },
  {
   "cell_type": "markdown",
   "metadata": {
    "slideshow": {
     "slide_type": "subslide"
    }
   },
   "source": [
    "But what is it? Is it new?\n",
    "\n",
    "* based on old ideas: gradient descent, back-propagation of error\n",
    "* some new ideas\n",
    "* new technologies that make it fast, useful: [automatic differentiation](https://en.wikipedia.org/wiki/Automatic_differentiation), automatic conversion to assembly code\n",
    "\n",
    "> *Designing, training, and testing a network of stacked layers that can learn to produce numeric outputs given numeric inputs.*"
   ]
  },
  {
   "cell_type": "markdown",
   "metadata": {
    "slideshow": {
     "slide_type": "slide"
    }
   },
   "source": [
    "## 1.3 Pedagogical Approach"
   ]
  },
  {
   "cell_type": "markdown",
   "metadata": {},
   "source": [
    "> *On-Ramp to Deep Learning*"
   ]
  },
  {
   "cell_type": "markdown",
   "metadata": {
    "slideshow": {
     "slide_type": "fragment"
    }
   },
   "source": [
    "* Treat Deep Learning as an independent topic\n",
    "  * Avoid terminology and jargon from other fields, such as Machine Learning\n",
    "\n",
    "* Keep the focus on Deep Learning itself\n",
    "  * Use standard Python\n",
    "    * Avoid the complexities of optimizations (numpy), and analysis (matplotlib)\n",
    "    * Make functions for common, related utilities (testing, downloading, etc.)\n",
    "\n",
    "* Keep the complexity of the environment low but easy to use, without sacrificing power\n",
    "  * Can utilize Graphical Processing Units (GPU) for increased speed"
   ]
  },
  {
   "cell_type": "markdown",
   "metadata": {
    "slideshow": {
     "slide_type": "subslide"
    }
   },
   "source": [
    "### 1.3.1 Flexibility for Educators"
   ]
  },
  {
   "cell_type": "markdown",
   "metadata": {},
   "source": [
    "What to teach? How to connect to existing curriculum?\n",
    "\n",
    "* Low-level, mathematical topics\n",
    "    * Topology, (gradient descent), Calculus (derivatives), Statistics\n",
    "* Computation\n",
    "    * Functions, Turing Machines, Information Theory, Artificial Intelligence\n",
    "* Deep Learning\n",
    "    * Convolution, Hierarchical Features, Manifold Hypothesis, Bottleneck Hypothesis\n",
    "    * Connections to Machine Learning\n",
    "* High-level, Cognitive Science, Natural Language Processing, Society\n",
    "    * Learning to Learn, Making Analogies, Bias"
   ]
  },
  {
   "cell_type": "markdown",
   "metadata": {
    "slideshow": {
     "slide_type": "slide"
    }
   },
   "source": [
    "## 1.4 Software"
   ]
  },
  {
   "cell_type": "markdown",
   "metadata": {},
   "source": [
    "* Jupyter Notebooks\n",
    "* Conx Python module"
   ]
  },
  {
   "cell_type": "markdown",
   "metadata": {
    "slideshow": {
     "slide_type": "subslide"
    }
   },
   "source": [
    "### 1.4.1 Jupyter Notebooks"
   ]
  },
  {
   "cell_type": "markdown",
   "metadata": {},
   "source": [
    "Advantages:\n",
    "\n",
    "* emerging ecosystem for Data Science and related fields\n",
    "* reproducibility - notebooks can be easily copied and shared\n",
    "* narrative form brings computation to same level as other rich media\n",
    "* many free or inexpensive hosting options\n",
    "* open source, so available to run on your own computers\n",
    "* extensible - can create extensions for various utilities, such as widgets"
   ]
  },
  {
   "cell_type": "markdown",
   "metadata": {
    "slideshow": {
     "slide_type": "subslide"
    }
   },
   "source": [
    "### 1.4.2 Conx"
   ]
  },
  {
   "cell_type": "code",
   "execution_count": 1,
   "metadata": {},
   "outputs": [
    {
     "name": "stderr",
     "output_type": "stream",
     "text": [
      "Using Theano backend.\n",
      "Conx, version 3.6.0\n"
     ]
    }
   ],
   "source": [
    "import conx as cx"
   ]
  },
  {
   "cell_type": "code",
   "execution_count": 2,
   "metadata": {},
   "outputs": [],
   "source": [
    "net = cx.Network(\"XOR\", 2, 5, 1, activation=\"sigmoid\")"
   ]
  },
  {
   "cell_type": "code",
   "execution_count": 3,
   "metadata": {},
   "outputs": [],
   "source": [
    "net.compile(error=\"mse\", optimizer=\"sgd\")"
   ]
  },
  {
   "cell_type": "code",
   "execution_count": 4,
   "metadata": {},
   "outputs": [
    {
     "data": {
      "application/javascript": [
       "\n",
       "require(['base/js/namespace'], function(Jupyter) {\n",
       "    Jupyter.notebook.kernel.comm_manager.register_target('conx_svg_control', function(comm, msg) {\n",
       "        comm.on_msg(function(msg) {\n",
       "            var data = msg[\"content\"][\"data\"];\n",
       "            var images = document.getElementsByClassName(data[\"class\"]);\n",
       "            for (var i = 0; i < images.length; i++) {\n",
       "                if (data[\"href\"]) {\n",
       "                    images[i].setAttributeNS(null, \"href\", data[\"href\"]);\n",
       "                }\n",
       "                if (data[\"src\"]) {\n",
       "                    images[i].setAttributeNS(null, \"src\", data[\"src\"]);\n",
       "                }\n",
       "            }\n",
       "        });\n",
       "    });\n",
       "});\n"
      ],
      "text/plain": [
       "<IPython.core.display.Javascript object>"
      ]
     },
     "metadata": {},
     "output_type": "display_data"
    },
    {
     "data": {
      "text/html": [
       "<svg id='XOR' xmlns='http://www.w3.org/2000/svg' image-rendering=\"pixelated\" width=\"400.0px\" height=\"297.1428571428571px\">\n",
       " <g >\n",
       "  <svg viewBox=\"0 0 350 260\" width=\"400.0px\" height=\"297.1428571428571px\">\n",
       "    <defs>\n",
       "        <marker id=\"arrow\" markerWidth=\"10\" markerHeight=\"10\" refX=\"9\" refY=\"3\" orient=\"auto\" markerUnits=\"strokeWidth\">\n",
       "          <path d=\"M0,0 L0,6 L9,3 z\" fill=\"black\" />\n",
       "        </marker>\n",
       "    </defs><rect x=\"149.0\" y=\"24\" width=\"52\" height=\"52\" style=\"fill:none;stroke:black;stroke-width:2\"/><image id=\"picture-static-XOR-246204_output_1\" class=\"picture-static-XOR-246204_output\" x=\"150.0\" y=\"25\" height=\"50\" width=\"50\" preserveAspectRatio=\"none\" href=\"data:image/gif;base64,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\"><title>Layer: output (output)\n",
       " output range: (0, 1)\n",
       " shape = (1,)\n",
       " Keras class = Dense\n",
       " activation = sigmoid</title></image><text x=\"205.0\" y=\"52.0\" font-family=\"monospace\" font-size=\"12\" text-anchor=\"start\" fill=\"black\" alignment-baseline=\"central\" >output</text><line x1=\"175.0\" y1=\"104\" x2=\"175.0\" y2=\"77\" stroke=\"black\" stroke-width=\"2\" marker-end=\"url(#arrow)\"><title>Weights from hidden to output\n",
       " output/kernel has shape (5, 1)\n",
       " output/bias has shape (1,)</title></line><rect x=\"74.0\" y=\"104\" width=\"202\" height=\"52\" style=\"fill:none;stroke:black;stroke-width:2\"/><image id=\"picture-static-XOR-246204_hidden_2\" class=\"picture-static-XOR-246204_hidden\" x=\"75.0\" y=\"105\" height=\"50\" width=\"200\" preserveAspectRatio=\"none\" href=\"data:image/gif;base64,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\"><title>Layer: hidden (hidden)\n",
       " output range: (0, 1)\n",
       " shape = (5,)\n",
       " Keras class = Dense\n",
       " activation = sigmoid</title></image><text x=\"280.0\" y=\"132.0\" font-family=\"monospace\" font-size=\"12\" text-anchor=\"start\" fill=\"black\" alignment-baseline=\"central\" >hidden</text><line x1=\"175.0\" y1=\"184\" x2=\"175.0\" y2=\"157\" stroke=\"black\" stroke-width=\"2\" marker-end=\"url(#arrow)\"><title>Weights from input to hidden\n",
       " hidden/kernel has shape (2, 5)\n",
       " hidden/bias has shape (5,)</title></line><rect x=\"124.0\" y=\"184\" width=\"102\" height=\"52\" style=\"fill:none;stroke:black;stroke-width:2\"/><image id=\"picture-static-XOR-246204_input_3\" class=\"picture-static-XOR-246204_input\" x=\"125.0\" y=\"185\" height=\"50\" width=\"100\" preserveAspectRatio=\"none\" href=\"data:image/gif;base64,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\"><title>Layer: input (input)\n",
       " output range: (-Infinity, +Infinity)\n",
       " shape = (2,)\n",
       " Keras class = Input</title></image><text x=\"230.0\" y=\"212.0\" font-family=\"monospace\" font-size=\"12\" text-anchor=\"start\" fill=\"black\" alignment-baseline=\"central\" >input</text><text x=\"175.0\" y=\"12.5\" font-family=\"monospace\" font-size=\"15\" text-anchor=\"middle\" fill=\"black\" alignment-baseline=\"central\" >XOR</text></svg></g></svg>"
      ],
      "text/plain": [
       "<IPython.core.display.HTML object>"
      ]
     },
     "execution_count": 4,
     "metadata": {},
     "output_type": "execute_result"
    }
   ],
   "source": [
    "net.picture([0, 1])"
   ]
  },
  {
   "cell_type": "code",
   "execution_count": 6,
   "metadata": {},
   "outputs": [
    {
     "name": "stdout",
     "output_type": "stream",
     "text": [
      "Using cached https://github.com/Calysto/conx-notebooks/archive/master.zip as './master.zip'.\n",
      "Unzipping files...\n",
      "Done!\n",
      "Items available from downloaded zip file:\n",
      "     ./conx-notebooks-master/\n",
      "     ./conx-notebooks-master/.gitignore\n",
      "     ./conx-notebooks-master/00_Index.ipynb\n",
      "     ./conx-notebooks-master/ActivationFunctions.ipynb\n",
      "     ./conx-notebooks-master/Auto-Encoding_with_Conv.conx/\n",
      "     ./conx-notebooks-master/Auto-Encoding_with_Conv.conx/config.json\n",
      "     ./conx-notebooks-master/Auto-encoder with Conv2D.ipynb\n",
      "     ./conx-notebooks-master/Autoencoder.ipynb\n",
      "     ./conx-notebooks-master/CIFAR10_CNN.ipynb\n",
      "     ./conx-notebooks-master/Camera.ipynb\n",
      "     ./conx-notebooks-master/Datasets.ipynb\n",
      "     ./conx-notebooks-master/Experiments.ipynb\n",
      "     ./conx-notebooks-master/Extrapolation1.ipynb\n",
      "     ./conx-notebooks-master/Face recognition.ipynb\n",
      "     ./conx-notebooks-master/Getting Started with conx.ipynb\n",
      "     ./conx-notebooks-master/Given_1_-_Predict_1.conx/\n",
      "     ./conx-notebooks-master/Given_1_-_Predict_1.conx/config.json\n",
      "     ./conx-notebooks-master/Given_5_-_Predict_1.conx/\n",
      "     ./conx-notebooks-master/Given_5_-_Predict_1.conx/config.json\n",
      "     ./conx-notebooks-master/Go_To_Target.conx/\n",
      "     ./conx-notebooks-master/Go_To_Target.conx/config.json\n",
      "     ./conx-notebooks-master/Gridfonts.ipynb\n",
      "     ./conx-notebooks-master/LSTM.ipynb\n",
      "     ./conx-notebooks-master/LSTM_-_Many_to_One.conx/\n",
      "     ./conx-notebooks-master/LSTM_-_Many_to_One.conx/config.json\n",
      "     ./conx-notebooks-master/Learning.ipynb\n",
      "     ./conx-notebooks-master/Letterpart_Analogies.conx/\n",
      "     ./conx-notebooks-master/Letterpart_Analogies.conx/config.json\n",
      "     ./conx-notebooks-master/Linearly_Separable-movie.mp4\n",
      "     ./conx-notebooks-master/Linearly_Separable.conx/\n",
      "     ./conx-notebooks-master/Linearly_Separable.conx/config.json\n",
      "     ./conx-notebooks-master/MNIST-Autoencoder.conx/\n",
      "     ./conx-notebooks-master/MNIST-Autoencoder.conx/config.json\n",
      "     ./conx-notebooks-master/MNIST.ipynb\n",
      "     ./conx-notebooks-master/MNIST_CNN.conx/\n",
      "     ./conx-notebooks-master/MNIST_CNN.conx/config.json\n",
      "     ./conx-notebooks-master/MNIST_MLP.conx/\n",
      "     ./conx-notebooks-master/MNIST_MLP.conx/config.json\n",
      "     ./conx-notebooks-master/MakingMovies.ipynb\n",
      "     ./conx-notebooks-master/Non-Linearly_Separable-movie.gif\n",
      "     ./conx-notebooks-master/Non-Linearly_Separable-movie.mp4\n",
      "     ./conx-notebooks-master/Non-Linearly_Separable.conx/\n",
      "     ./conx-notebooks-master/Non-Linearly_Separable.conx/config.json\n",
      "     ./conx-notebooks-master/Non-Linearly_Separable_-_Deep-movie.gif\n",
      "     ./conx-notebooks-master/Non-Linearly_Separable_-_Deep-movie.mp4\n",
      "     ./conx-notebooks-master/PCA.ipynb\n",
      "     ./conx-notebooks-master/Plot3D.ipynb\n",
      "     ./conx-notebooks-master/Plotting.ipynb\n",
      "     ./conx-notebooks-master/Pose_Recognizer.conx/\n",
      "     ./conx-notebooks-master/Pose_Recognizer.conx/config.json\n",
      "     ./conx-notebooks-master/Predicting and Generating Texts.ipynb\n",
      "     ./conx-notebooks-master/RecommendingMovies.ipynb\n",
      "     ./conx-notebooks-master/Robot Simulation.ipynb\n",
      "     ./conx-notebooks-master/Same-movie.mp4\n",
      "     ./conx-notebooks-master/Utilities.ipynb\n",
      "     ./conx-notebooks-master/VisionQuest.ipynb\n",
      "     ./conx-notebooks-master/Vision_Controller.conx/\n",
      "     ./conx-notebooks-master/Vision_Controller.conx/config.json\n",
      "     ./conx-notebooks-master/XOR.ipynb\n",
      "     ./conx-notebooks-master/XOR_2-4-1_Network.conx/\n",
      "     ./conx-notebooks-master/XOR_2-4-1_Network.conx/config.json\n",
      "     ./conx-notebooks-master/calysto.gif\n",
      "     ./conx-notebooks-master/collections/\n",
      "     ./conx-notebooks-master/collections/meeden-fall-2017/\n",
      "     ./conx-notebooks-master/collections/meeden-fall-2017/html/\n",
      "     ./conx-notebooks-master/collections/meeden-fall-2017/html/GenerateData.html\n",
      "     ./conx-notebooks-master/collections/meeden-fall-2017/html/Lab1.html\n",
      "     ./conx-notebooks-master/collections/meeden-fall-2017/html/Lab2.html\n",
      "     ./conx-notebooks-master/collections/meeden-fall-2017/html/LogicNetworks.html\n",
      "     ./conx-notebooks-master/collections/meeden-fall-2017/html/NetworkFindLight.html\n",
      "     ./conx-notebooks-master/collections/meeden-fall-2017/html/README.md\n",
      "     ./conx-notebooks-master/collections/meeden-fall-2017/html/support_files/\n",
      "     ./conx-notebooks-master/collections/meeden-fall-2017/html/support_files/MathJax.js\n",
      "     ./conx-notebooks-master/collections/meeden-fall-2017/html/support_files/custom.css\n",
      "     ./conx-notebooks-master/collections/meeden-fall-2017/html/support_files/jquery.min.js\n",
      "     ./conx-notebooks-master/collections/meeden-fall-2017/html/support_files/namespace.js\n",
      "     ./conx-notebooks-master/collections/meeden-fall-2017/html/support_files/pioneer.jpg\n",
      "     ./conx-notebooks-master/collections/meeden-fall-2017/html/support_files/pioneer_sonars.png\n",
      "     ./conx-notebooks-master/collections/meeden-fall-2017/html/support_files/require.min.js\n",
      "     ./conx-notebooks-master/collections/meeden-fall-2017/html/support_files/simulator.jpeg\n",
      "     ./conx-notebooks-master/collections/meeden-fall-2017/notebooks/\n",
      "     ./conx-notebooks-master/collections/meeden-fall-2017/notebooks/GenerateData.ipynb\n",
      "     ./conx-notebooks-master/collections/meeden-fall-2017/notebooks/LogicNetworks.ipynb\n",
      "     ./conx-notebooks-master/collections/meeden-fall-2017/notebooks/NetworkFindLight.ipynb\n",
      "     ./conx-notebooks-master/collections/meeden-fall-2017/notebooks/and_net/\n",
      "     ./conx-notebooks-master/collections/meeden-fall-2017/notebooks/and_net/history.pickle\n",
      "     ./conx-notebooks-master/collections/meeden-fall-2017/notebooks/and_net/model.h5\n",
      "     ./conx-notebooks-master/collections/meeden-fall-2017/notebooks/and_net/network.pickle\n",
      "     ./conx-notebooks-master/collections/meeden-fall-2017/notebooks/and_net/weights.h5\n",
      "     ./conx-notebooks-master/collections/meeden-fall-2017/notebooks/training_data.txt\n",
      "     ./conx-notebooks-master/collections/sigcse-2018/\n",
      "     ./conx-notebooks-master/collections/sigcse-2018/.ipynb_checkpoints/\n",
      "     ./conx-notebooks-master/collections/sigcse-2018/.ipynb_checkpoints/01_Introductions-checkpoint.ipynb\n",
      "     ./conx-notebooks-master/collections/sigcse-2018/.ipynb_checkpoints/Untitled-checkpoint.ipynb\n",
      "     ./conx-notebooks-master/collections/sigcse-2018/01_Introductions.ipynb\n",
      "     ./conx-notebooks-master/generalize-in-range.mp4\n",
      "     ./conx-notebooks-master/generalize-out-range.mp4\n",
      "     ./conx-notebooks-master/model.png\n",
      "     ./conx-notebooks-master/monalisa-generated.png\n",
      "     ./conx-notebooks-master/monalisa.jpg\n",
      "     ./conx-notebooks-master/movie.mp4\n",
      "     ./conx-notebooks-master/network.png\n",
      "     ./conx-notebooks-master/sim-robot.gif\n",
      "     ./conx-notebooks-master/sim-robot.mp4\n",
      "     ./conx-notebooks-master/work-in-progress/\n",
      "     ./conx-notebooks-master/work-in-progress/DeepDreams.ipynb\n",
      "     ./conx-notebooks-master/work-in-progress/LSTM-LearningASinCurve.ipynb\n",
      "     ./conx-notebooks-master/work-in-progress/Under The Hood.ipynb\n",
      "     ./conx-notebooks-master/work-in-progress/WorkingWithKeras.ipynb\n",
      "Available: 109 of 109.\n"
     ]
    }
   ],
   "source": [
    "cx.download(\"https://github.com/Calysto/conx-notebooks/archive/master.zip\")"
   ]
  },
  {
   "cell_type": "code",
   "execution_count": null,
   "metadata": {},
   "outputs": [],
   "source": []
  }
 ],
 "metadata": {
  "kernelspec": {
   "display_name": "Python 3",
   "language": "python",
   "name": "python3"
  },
  "language_info": {
   "codemirror_mode": {
    "name": "ipython",
    "version": 3
   },
   "file_extension": ".py",
   "mimetype": "text/x-python",
   "name": "python",
   "nbconvert_exporter": "python",
   "pygments_lexer": "ipython3",
   "version": "3.6.3"
  }
 },
 "nbformat": 4,
 "nbformat_minor": 2
}
